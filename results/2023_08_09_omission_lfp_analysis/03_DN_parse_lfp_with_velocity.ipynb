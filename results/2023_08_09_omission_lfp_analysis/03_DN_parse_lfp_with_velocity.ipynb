{
 "cells": [
  {
   "cell_type": "markdown",
   "metadata": {
    "cell_id": "c3a02adc9e884466bc8c79db549cc3d2",
    "deepnote_cell_type": "text-cell-h1",
    "formattedRanges": [
     {
      "fromCodePoint": 0,
      "marks": {
       "bold": true,
       "underline": true
      },
      "toCodePoint": 17,
      "type": "marks"
     }
    ]
   },
   "source": [
    "# Power Spectra LFP Analysis\""
   ]
  },
  {
   "cell_type": "markdown",
   "metadata": {
    "cell_id": "4546bee655b14a5dbf393161f1228e60",
    "deepnote_cell_type": "text-cell-p",
    "formattedRanges": []
   },
   "source": [
    "Brief 1-2 sentence description of notebook."
   ]
  },
  {
   "cell_type": "code",
   "execution_count": 1,
   "metadata": {},
   "outputs": [],
   "source": [
    "import os\n",
    "import glob\n",
    "from collections import defaultdict\n",
    "import re"
   ]
  },
  {
   "cell_type": "code",
   "execution_count": 2,
   "metadata": {
    "cell_id": "03b495cefa6a4798a44c7f2e4c6a3ea7",
    "deepnote_cell_type": "code",
    "deepnote_to_be_reexecuted": false,
    "execution_millis": 21,
    "execution_start": 1691424003626,
    "source_hash": null
   },
   "outputs": [],
   "source": [
    "# Imports of all used packages and libraries\n",
    "import numpy as np\n",
    "import pandas as pd\n",
    "import matplotlib.pyplot as plt\n",
    "import matplotlib.cm as cm\n",
    "import seaborn as sns\n",
    "from scipy import stats\n",
    "import itertools"
   ]
  },
  {
   "cell_type": "markdown",
   "metadata": {},
   "source": [
    "import spikeinterface.extractors as se\n",
    "import spikeinterface.preprocessing as sp\n",
    "from spectral_connectivity import Multitaper, Connectivity"
   ]
  },
  {
   "cell_type": "markdown",
   "metadata": {
    "cell_id": "d290bac2c17940bfbc0f9296beaf70e5",
    "deepnote_cell_type": "text-cell-h2",
    "formattedRanges": []
   },
   "source": [
    "## Inputs & Data"
   ]
  },
  {
   "cell_type": "markdown",
   "metadata": {
    "cell_id": "e528ce19c608425292151930d380f49f",
    "deepnote_cell_type": "text-cell-p",
    "formattedRanges": []
   },
   "source": [
    "Explanation of each input and where it comes from."
   ]
  },
  {
   "cell_type": "code",
   "execution_count": 3,
   "metadata": {},
   "outputs": [],
   "source": [
    "# Inputs and Required data loading\n",
    "# input varaible names are in all caps snake case\n",
    "# Whenever an input changes or is used for processing \n",
    "# the vairables are all lower in snake case"
   ]
  },
  {
   "cell_type": "code",
   "execution_count": 4,
   "metadata": {},
   "outputs": [],
   "source": [
    "BBOX_TO_ANCHOR=(1.5, 0.9)\n",
    "LOC='upper right'"
   ]
  },
  {
   "cell_type": "code",
   "execution_count": 5,
   "metadata": {},
   "outputs": [],
   "source": [
    "# variables for LFP extraction\n",
    "FREQ_MIN=0.5\n",
    "FREQ_MAX=300\n",
    "FREQ=60\n",
    "RESAMPLE_RATE=1000\n",
    "TRIAL_DURATION=10"
   ]
  },
  {
   "cell_type": "code",
   "execution_count": 6,
   "metadata": {},
   "outputs": [],
   "source": [
    "INPUT_VARIABLE = 1\n",
    "\n",
    "TIME_HALFBANDWIDTH_PRODUCT = 2\n",
    "TIME_WINDOW_DURATION = 3\n",
    "TIME_WINDOW_STEP = 1.5 \n",
    "\n",
    "TRIAL_TIME_STAMP_DURATION = 1000*10"
   ]
  },
  {
   "cell_type": "code",
   "execution_count": 7,
   "metadata": {},
   "outputs": [],
   "source": [
    "BIN_TO_COLOR = {0: {\"baseline\": \"lightblue\", \"trial\": \"blue\"}, 1: {\"baseline\": \"lightgreen\", \"trial\": \"green\"}, 2: {\"baseline\": \"lightcoral\", \"trial\": \"red\"}}\n",
    "TRIAL_OR_BASELINE_TO_STYLE = {'baseline': \"--\", \"trial\": \"-\"}\n",
    "BIN_TO_VELOCITY = {0: \"0 to 2.5cm/s\", 1: \"2.5 to 5cm/s\", 2: \"5cm/s to 10cm/s\"}"
   ]
  },
  {
   "cell_type": "code",
   "execution_count": 8,
   "metadata": {},
   "outputs": [],
   "source": [
    "BIN_TO_COLOR = {0: {\"baseline\": \"lightblue\", \"trial\": \"blue\"}, 1: {\"baseline\": \"lightgreen\", \"trial\": \"green\"}, 2: {\"baseline\": \"lightcoral\", \"trial\": \"red\"}}\n",
    "TRIAL_OR_BASELINE_TO_STYLE = {'baseline': \"--\", \"trial\": \"-\"}\n",
    "BIN_TO_VELOCITY = {0: \"0 to 5cm/s\", 1: \"5cm/s to 10cm/s\", 2: \"10cm/s+\"}"
   ]
  },
  {
   "cell_type": "code",
   "execution_count": 9,
   "metadata": {},
   "outputs": [],
   "source": [
    "NUM_LINES = 3"
   ]
  },
  {
   "cell_type": "code",
   "execution_count": 10,
   "metadata": {},
   "outputs": [],
   "source": [
    "# Generate colors from the \"Blues\" colormap\n",
    "LOSING_COLORS = cm.Oranges(np.linspace(0.5, 1, NUM_LINES))\n",
    "# Generate colors from the \"Blues\" colormap\n",
    "WINNING_COLORS = cm.Blues(np.linspace(0.5, 1, NUM_LINES))\n",
    "# Generate colors from the \"Blues\" colormap\n",
    "REWARDED_COLORS = cm.Greens(np.linspace(0.5, 1, NUM_LINES))\n",
    "# Generate colors from the \"Blues\" colormap\n",
    "OMISSION_COLORS = cm.Reds(np.linspace(0.5, 1, NUM_LINES))"
   ]
  },
  {
   "cell_type": "code",
   "execution_count": 11,
   "metadata": {},
   "outputs": [],
   "source": [
    "BASELINE_OUTCOME_TO_COLOR = {'lose': \"orange\",\n",
    " 'lose_baseline': LOSING_COLORS[0],\n",
    " 'omission': \"red\",\n",
    " 'omission_baseline': \"hotpink\",\n",
    " 'rewarded': \"green\",\n",
    " 'rewarded_baseline': REWARDED_COLORS[0],\n",
    " 'win': \"blue\",\n",
    " 'win_baseline': WINNING_COLORS[0]}"
   ]
  },
  {
   "cell_type": "code",
   "execution_count": 12,
   "metadata": {},
   "outputs": [],
   "source": [
    "COMPETITIVE_OUTCOME_TO_COLOR = {'lose_comp': \"orange\", \n",
    "'lose_non_comp': \"yellow\",\n",
    "'omission': \"red\",\n",
    "'rewarded': \"green\",\n",
    "'win_comp': \"blue\", \n",
    "'win_non_comp': WINNING_COLORS[0]}"
   ]
  },
  {
   "cell_type": "code",
   "execution_count": 13,
   "metadata": {},
   "outputs": [],
   "source": [
    "TRIAL_OR_BASELINE_TO_STYLE = {'baseline': \"--\", \"trial\": \"-\"}"
   ]
  },
  {
   "cell_type": "code",
   "execution_count": 14,
   "metadata": {
    "cell_id": "6cf83a5811054461a718a71673d09aab",
    "deepnote_cell_type": "code",
    "deepnote_to_be_reexecuted": false,
    "execution_millis": 373,
    "execution_start": 1691424003628,
    "source_hash": null
   },
   "outputs": [],
   "source": [
    "ALL_TRIALS_DF = pd.read_pickle(\"./proc/rce_1_sec_interval_lfp_power_spectra_and_velocity.pkl\")\n",
    "\n",
    "OUTPUT_DIR = r\"./proc\" # where data is saved should always be shown in the inputs\n"
   ]
  },
  {
   "cell_type": "code",
   "execution_count": 15,
   "metadata": {},
   "outputs": [
    {
     "data": {
      "text/html": [
       "<div>\n",
       "<style scoped>\n",
       "    .dataframe tbody tr th:only-of-type {\n",
       "        vertical-align: middle;\n",
       "    }\n",
       "\n",
       "    .dataframe tbody tr th {\n",
       "        vertical-align: top;\n",
       "    }\n",
       "\n",
       "    .dataframe thead th {\n",
       "        text-align: right;\n",
       "    }\n",
       "</style>\n",
       "<table border=\"1\" class=\"dataframe\">\n",
       "  <thead>\n",
       "    <tr style=\"text-align: right;\">\n",
       "      <th></th>\n",
       "      <th>time</th>\n",
       "      <th>state</th>\n",
       "      <th>recording_dir</th>\n",
       "      <th>recording_file</th>\n",
       "      <th>din</th>\n",
       "      <th>time_stamp_index</th>\n",
       "      <th>video_file</th>\n",
       "      <th>video_frame</th>\n",
       "      <th>video_number</th>\n",
       "      <th>subject_info</th>\n",
       "      <th>...</th>\n",
       "      <th>eib_LH</th>\n",
       "      <th>eib_MD</th>\n",
       "      <th>brain_region</th>\n",
       "      <th>channel</th>\n",
       "      <th>chunked_current_trace</th>\n",
       "      <th>len_chunked_current_trace</th>\n",
       "      <th>frequencies</th>\n",
       "      <th>power</th>\n",
       "      <th>theta_power</th>\n",
       "      <th>averaged_theta_power</th>\n",
       "    </tr>\n",
       "  </thead>\n",
       "  <tbody>\n",
       "    <tr>\n",
       "      <th>0</th>\n",
       "      <td>1934930</td>\n",
       "      <td>1</td>\n",
       "      <td>20230618_100636_standard_comp_to_omission_D2_s...</td>\n",
       "      <td>20230618_100636_standard_comp_to_omission_D2_s...</td>\n",
       "      <td>dio_ECU_Din1</td>\n",
       "      <td>1099250</td>\n",
       "      <td>20230618_100636_standard_comp_to_omission_D2_s...</td>\n",
       "      <td>1097</td>\n",
       "      <td>1</td>\n",
       "      <td>1_1_t1b2L_box2</td>\n",
       "      <td>...</td>\n",
       "      <td>18</td>\n",
       "      <td>19</td>\n",
       "      <td>spike_interface_mPFC</td>\n",
       "      <td>5</td>\n",
       "      <td>[1.2846744, 1.113752, 0.7553665, 0.60466075, 0...</td>\n",
       "      <td>1000</td>\n",
       "      <td>[0.0, 1.0, 2.0, 3.0, 4.0, 5.0, 6.0, 7.0, 8.0, ...</td>\n",
       "      <td>[0.02309027537108904, 0.03376274381096272, 0.0...</td>\n",
       "      <td>[0.04938388096425996, 0.04342801146774383, 0.0...</td>\n",
       "      <td>0.030023</td>\n",
       "    </tr>\n",
       "    <tr>\n",
       "      <th>0</th>\n",
       "      <td>1934930</td>\n",
       "      <td>1</td>\n",
       "      <td>20230618_100636_standard_comp_to_omission_D2_s...</td>\n",
       "      <td>20230618_100636_standard_comp_to_omission_D2_s...</td>\n",
       "      <td>dio_ECU_Din1</td>\n",
       "      <td>1099250</td>\n",
       "      <td>20230618_100636_standard_comp_to_omission_D2_s...</td>\n",
       "      <td>1097</td>\n",
       "      <td>1</td>\n",
       "      <td>1_1_t1b2L_box2</td>\n",
       "      <td>...</td>\n",
       "      <td>18</td>\n",
       "      <td>19</td>\n",
       "      <td>spike_interface_mPFC</td>\n",
       "      <td>5</td>\n",
       "      <td>[1.4776512, 1.4813269, 1.3287834, 1.1174278, 1...</td>\n",
       "      <td>1000</td>\n",
       "      <td>[0.0, 1.0, 2.0, 3.0, 4.0, 5.0, 6.0, 7.0, 8.0, ...</td>\n",
       "      <td>[0.02037680255662344, 0.02703298332514505, 0.0...</td>\n",
       "      <td>[0.051952263343390384, 0.040229612907454346, 0...</td>\n",
       "      <td>0.024354</td>\n",
       "    </tr>\n",
       "    <tr>\n",
       "      <th>0</th>\n",
       "      <td>1934930</td>\n",
       "      <td>1</td>\n",
       "      <td>20230618_100636_standard_comp_to_omission_D2_s...</td>\n",
       "      <td>20230618_100636_standard_comp_to_omission_D2_s...</td>\n",
       "      <td>dio_ECU_Din1</td>\n",
       "      <td>1099250</td>\n",
       "      <td>20230618_100636_standard_comp_to_omission_D2_s...</td>\n",
       "      <td>1097</td>\n",
       "      <td>1</td>\n",
       "      <td>1_1_t1b2L_box2</td>\n",
       "      <td>...</td>\n",
       "      <td>18</td>\n",
       "      <td>19</td>\n",
       "      <td>spike_interface_mPFC</td>\n",
       "      <td>5</td>\n",
       "      <td>[-0.88034195, -0.4502793, 0.033081744, -0.1249...</td>\n",
       "      <td>1000</td>\n",
       "      <td>[0.0, 1.0, 2.0, 3.0, 4.0, 5.0, 6.0, 7.0, 8.0, ...</td>\n",
       "      <td>[0.06475578281033083, 0.04809674891904778, 0.0...</td>\n",
       "      <td>[0.03068296312066393, 0.03252587186937053, 0.0...</td>\n",
       "      <td>0.020135</td>\n",
       "    </tr>\n",
       "    <tr>\n",
       "      <th>0</th>\n",
       "      <td>1934930</td>\n",
       "      <td>1</td>\n",
       "      <td>20230618_100636_standard_comp_to_omission_D2_s...</td>\n",
       "      <td>20230618_100636_standard_comp_to_omission_D2_s...</td>\n",
       "      <td>dio_ECU_Din1</td>\n",
       "      <td>1099250</td>\n",
       "      <td>20230618_100636_standard_comp_to_omission_D2_s...</td>\n",
       "      <td>1097</td>\n",
       "      <td>1</td>\n",
       "      <td>1_1_t1b2L_box2</td>\n",
       "      <td>...</td>\n",
       "      <td>18</td>\n",
       "      <td>19</td>\n",
       "      <td>spike_interface_mPFC</td>\n",
       "      <td>5</td>\n",
       "      <td>[0.093731605, -0.05513624, -0.24443734, -0.317...</td>\n",
       "      <td>1000</td>\n",
       "      <td>[0.0, 1.0, 2.0, 3.0, 4.0, 5.0, 6.0, 7.0, 8.0, ...</td>\n",
       "      <td>[0.024690271716308453, 0.024697344579884397, 0...</td>\n",
       "      <td>[0.0296455331238504, 0.02475973621287092, 0.03...</td>\n",
       "      <td>0.026704</td>\n",
       "    </tr>\n",
       "    <tr>\n",
       "      <th>0</th>\n",
       "      <td>1934930</td>\n",
       "      <td>1</td>\n",
       "      <td>20230618_100636_standard_comp_to_omission_D2_s...</td>\n",
       "      <td>20230618_100636_standard_comp_to_omission_D2_s...</td>\n",
       "      <td>dio_ECU_Din1</td>\n",
       "      <td>1099250</td>\n",
       "      <td>20230618_100636_standard_comp_to_omission_D2_s...</td>\n",
       "      <td>1097</td>\n",
       "      <td>1</td>\n",
       "      <td>1_1_t1b2L_box2</td>\n",
       "      <td>...</td>\n",
       "      <td>18</td>\n",
       "      <td>19</td>\n",
       "      <td>spike_interface_mPFC</td>\n",
       "      <td>5</td>\n",
       "      <td>[-0.40249455, -0.51092917, -0.46314442, -0.382...</td>\n",
       "      <td>1000</td>\n",
       "      <td>[0.0, 1.0, 2.0, 3.0, 4.0, 5.0, 6.0, 7.0, 8.0, ...</td>\n",
       "      <td>[0.03691878756910202, 0.04017695307697495, 0.0...</td>\n",
       "      <td>[0.04759429806596745, 0.05791219782040157, 0.0...</td>\n",
       "      <td>0.032783</td>\n",
       "    </tr>\n",
       "  </tbody>\n",
       "</table>\n",
       "<p>5 rows × 75 columns</p>\n",
       "</div>"
      ],
      "text/plain": [
       "      time  state                                      recording_dir  \\\n",
       "0  1934930      1  20230618_100636_standard_comp_to_omission_D2_s...   \n",
       "0  1934930      1  20230618_100636_standard_comp_to_omission_D2_s...   \n",
       "0  1934930      1  20230618_100636_standard_comp_to_omission_D2_s...   \n",
       "0  1934930      1  20230618_100636_standard_comp_to_omission_D2_s...   \n",
       "0  1934930      1  20230618_100636_standard_comp_to_omission_D2_s...   \n",
       "\n",
       "                                      recording_file           din  \\\n",
       "0  20230618_100636_standard_comp_to_omission_D2_s...  dio_ECU_Din1   \n",
       "0  20230618_100636_standard_comp_to_omission_D2_s...  dio_ECU_Din1   \n",
       "0  20230618_100636_standard_comp_to_omission_D2_s...  dio_ECU_Din1   \n",
       "0  20230618_100636_standard_comp_to_omission_D2_s...  dio_ECU_Din1   \n",
       "0  20230618_100636_standard_comp_to_omission_D2_s...  dio_ECU_Din1   \n",
       "\n",
       "   time_stamp_index                                         video_file  \\\n",
       "0           1099250  20230618_100636_standard_comp_to_omission_D2_s...   \n",
       "0           1099250  20230618_100636_standard_comp_to_omission_D2_s...   \n",
       "0           1099250  20230618_100636_standard_comp_to_omission_D2_s...   \n",
       "0           1099250  20230618_100636_standard_comp_to_omission_D2_s...   \n",
       "0           1099250  20230618_100636_standard_comp_to_omission_D2_s...   \n",
       "\n",
       "   video_frame  video_number    subject_info  ... eib_LH eib_MD  \\\n",
       "0         1097             1  1_1_t1b2L_box2  ...     18     19   \n",
       "0         1097             1  1_1_t1b2L_box2  ...     18     19   \n",
       "0         1097             1  1_1_t1b2L_box2  ...     18     19   \n",
       "0         1097             1  1_1_t1b2L_box2  ...     18     19   \n",
       "0         1097             1  1_1_t1b2L_box2  ...     18     19   \n",
       "\n",
       "           brain_region  channel  \\\n",
       "0  spike_interface_mPFC        5   \n",
       "0  spike_interface_mPFC        5   \n",
       "0  spike_interface_mPFC        5   \n",
       "0  spike_interface_mPFC        5   \n",
       "0  spike_interface_mPFC        5   \n",
       "\n",
       "                               chunked_current_trace  \\\n",
       "0  [1.2846744, 1.113752, 0.7553665, 0.60466075, 0...   \n",
       "0  [1.4776512, 1.4813269, 1.3287834, 1.1174278, 1...   \n",
       "0  [-0.88034195, -0.4502793, 0.033081744, -0.1249...   \n",
       "0  [0.093731605, -0.05513624, -0.24443734, -0.317...   \n",
       "0  [-0.40249455, -0.51092917, -0.46314442, -0.382...   \n",
       "\n",
       "  len_chunked_current_trace  \\\n",
       "0                      1000   \n",
       "0                      1000   \n",
       "0                      1000   \n",
       "0                      1000   \n",
       "0                      1000   \n",
       "\n",
       "                                         frequencies  \\\n",
       "0  [0.0, 1.0, 2.0, 3.0, 4.0, 5.0, 6.0, 7.0, 8.0, ...   \n",
       "0  [0.0, 1.0, 2.0, 3.0, 4.0, 5.0, 6.0, 7.0, 8.0, ...   \n",
       "0  [0.0, 1.0, 2.0, 3.0, 4.0, 5.0, 6.0, 7.0, 8.0, ...   \n",
       "0  [0.0, 1.0, 2.0, 3.0, 4.0, 5.0, 6.0, 7.0, 8.0, ...   \n",
       "0  [0.0, 1.0, 2.0, 3.0, 4.0, 5.0, 6.0, 7.0, 8.0, ...   \n",
       "\n",
       "                                               power  \\\n",
       "0  [0.02309027537108904, 0.03376274381096272, 0.0...   \n",
       "0  [0.02037680255662344, 0.02703298332514505, 0.0...   \n",
       "0  [0.06475578281033083, 0.04809674891904778, 0.0...   \n",
       "0  [0.024690271716308453, 0.024697344579884397, 0...   \n",
       "0  [0.03691878756910202, 0.04017695307697495, 0.0...   \n",
       "\n",
       "                                         theta_power  averaged_theta_power  \n",
       "0  [0.04938388096425996, 0.04342801146774383, 0.0...              0.030023  \n",
       "0  [0.051952263343390384, 0.040229612907454346, 0...              0.024354  \n",
       "0  [0.03068296312066393, 0.03252587186937053, 0.0...              0.020135  \n",
       "0  [0.0296455331238504, 0.02475973621287092, 0.03...              0.026704  \n",
       "0  [0.04759429806596745, 0.05791219782040157, 0.0...              0.032783  \n",
       "\n",
       "[5 rows x 75 columns]"
      ]
     },
     "execution_count": 15,
     "metadata": {},
     "output_type": "execute_result"
    }
   ],
   "source": [
    "ALL_TRIALS_DF.head()"
   ]
  },
  {
   "cell_type": "markdown",
   "metadata": {
    "cell_id": "e3ee4891d43a4ac287413afc552ca289",
    "deepnote_cell_type": "text-cell-h2",
    "formattedRanges": []
   },
   "source": [
    "## Outputs"
   ]
  },
  {
   "cell_type": "markdown",
   "metadata": {
    "cell_id": "9ccbf6cc70fd4d379fa29317f733771f",
    "deepnote_cell_type": "text-cell-p",
    "formattedRanges": []
   },
   "source": [
    "Describe each output that the notebook creates. "
   ]
  },
  {
   "cell_type": "markdown",
   "metadata": {
    "cell_id": "fc8e8920a6944918a15fac575cdf6e78",
    "deepnote_cell_type": "text-cell-bullet",
    "formattedRanges": []
   },
   "source": [
    "- Is it a plot or is it data?"
   ]
  },
  {
   "cell_type": "markdown",
   "metadata": {
    "cell_id": "1e639d4776a84aa9ac8ded2e14fa57db",
    "deepnote_cell_type": "text-cell-bullet",
    "formattedRanges": []
   },
   "source": [
    "- How valuable is the output and why is it valuable or useful?"
   ]
  },
  {
   "cell_type": "markdown",
   "metadata": {},
   "source": [
    "## Functions"
   ]
  },
  {
   "cell_type": "markdown",
   "metadata": {
    "jp-MarkdownHeadingCollapsed": true
   },
   "source": [
    "- Ideally functions are defined here first and then data is processed using the functions\n",
    "    - function names are short and in snake case all lowercase\n",
    "    - a function name should be unique but does not have to describe the function\n",
    "    - doc strings describe functions not function names"
   ]
  },
  {
   "cell_type": "markdown",
   "metadata": {
    "cell_id": "8999d19b6b7d4d63bc90f0b0bd9ab085",
    "deepnote_cell_type": "text-cell-h2",
    "formattedRanges": []
   },
   "source": [
    "## Processing"
   ]
  },
  {
   "cell_type": "markdown",
   "metadata": {
    "cell_id": "9b36cdf08567463082b005cb0dec684b",
    "deepnote_cell_type": "text-cell-p",
    "formattedRanges": []
   },
   "source": [
    "Describe what is done to the data here and how inputs are manipulated to generate outputs. "
   ]
  },
  {
   "cell_type": "code",
   "execution_count": 16,
   "metadata": {
    "cell_id": "89aaba237c644628b1b37604b75e7cb1",
    "deepnote_cell_type": "code"
   },
   "outputs": [],
   "source": [
    "# As much code and as many cells as required\n",
    "# includes EDA and playing with data\n",
    "# GO HAM!"
   ]
  },
  {
   "cell_type": "code",
   "execution_count": null,
   "metadata": {},
   "outputs": [],
   "source": []
  },
  {
   "cell_type": "markdown",
   "metadata": {},
   "source": [
    "## Plotting all the lower velocities together"
   ]
  },
  {
   "cell_type": "markdown",
   "metadata": {},
   "source": [
    "- binned_current_thorax_velocity:\n",
    "    - 0: 0 to 5cm/s\n",
    "    - 1: 5 to 10cm/s\n",
    "    - 2: 10cm/s+"
   ]
  },
  {
   "cell_type": "code",
   "execution_count": 17,
   "metadata": {},
   "outputs": [
    {
     "data": {
      "text/plain": [
       "array([0, 1, 2], dtype=object)"
      ]
     },
     "execution_count": 17,
     "metadata": {},
     "output_type": "execute_result"
    }
   ],
   "source": [
    "ALL_TRIALS_DF[\"binned_current_thorax_velocity\"].unique()"
   ]
  },
  {
   "cell_type": "markdown",
   "metadata": {},
   "source": [
    "- Filtering for velocity"
   ]
  },
  {
   "cell_type": "code",
   "execution_count": 18,
   "metadata": {},
   "outputs": [],
   "source": [
    "speed_filtered_all_trials_df = ALL_TRIALS_DF[ALL_TRIALS_DF[\"binned_current_thorax_velocity\"] == 0]"
   ]
  },
  {
   "cell_type": "code",
   "execution_count": 19,
   "metadata": {},
   "outputs": [
    {
     "data": {
      "text/plain": [
       "(11965, 75)"
      ]
     },
     "execution_count": 19,
     "metadata": {},
     "output_type": "execute_result"
    }
   ],
   "source": [
    "speed_filtered_all_trials_df.shape"
   ]
  },
  {
   "cell_type": "code",
   "execution_count": 20,
   "metadata": {},
   "outputs": [],
   "source": [
    "all_frequencies = speed_filtered_all_trials_df[\"frequencies\"].iloc[0]"
   ]
  },
  {
   "cell_type": "code",
   "execution_count": 21,
   "metadata": {},
   "outputs": [
    {
     "data": {
      "text/plain": [
       "array([  0.,   1.,   2.,   3.,   4.,   5.,   6.,   7.,   8.,   9.,  10.,\n",
       "        11.,  12.,  13.,  14.,  15.,  16.,  17.,  18.,  19.,  20.,  21.,\n",
       "        22.,  23.,  24.,  25.,  26.,  27.,  28.,  29.,  30.,  31.,  32.,\n",
       "        33.,  34.,  35.,  36.,  37.,  38.,  39.,  40.,  41.,  42.,  43.,\n",
       "        44.,  45.,  46.,  47.,  48.,  49.,  50.,  51.,  52.,  53.,  54.,\n",
       "        55.,  56.,  57.,  58.,  59.,  60.,  61.,  62.,  63.,  64.,  65.,\n",
       "        66.,  67.,  68.,  69.,  70.,  71.,  72.,  73.,  74.,  75.,  76.,\n",
       "        77.,  78.,  79.,  80.,  81.,  82.,  83.,  84.,  85.,  86.,  87.,\n",
       "        88.,  89.,  90.,  91.,  92.,  93.,  94.,  95.,  96.,  97.,  98.,\n",
       "        99., 100., 101., 102., 103., 104., 105., 106., 107., 108., 109.,\n",
       "       110., 111., 112., 113., 114., 115., 116., 117., 118., 119., 120.,\n",
       "       121., 122., 123., 124., 125., 126., 127., 128., 129., 130., 131.,\n",
       "       132., 133., 134., 135., 136., 137., 138., 139., 140., 141., 142.,\n",
       "       143., 144., 145., 146., 147., 148., 149., 150., 151., 152., 153.,\n",
       "       154., 155., 156., 157., 158., 159., 160., 161., 162., 163., 164.,\n",
       "       165., 166., 167., 168., 169., 170., 171., 172., 173., 174., 175.,\n",
       "       176., 177., 178., 179., 180., 181., 182., 183., 184., 185., 186.,\n",
       "       187., 188., 189., 190., 191., 192., 193., 194., 195., 196., 197.,\n",
       "       198., 199., 200., 201., 202., 203., 204., 205., 206., 207., 208.,\n",
       "       209., 210., 211., 212., 213., 214., 215., 216., 217., 218., 219.,\n",
       "       220., 221., 222., 223., 224., 225., 226., 227., 228., 229., 230.,\n",
       "       231., 232., 233., 234., 235., 236., 237., 238., 239., 240., 241.,\n",
       "       242., 243., 244., 245., 246., 247., 248., 249., 250., 251., 252.,\n",
       "       253., 254., 255., 256., 257., 258., 259., 260., 261., 262., 263.,\n",
       "       264., 265., 266., 267., 268., 269., 270., 271., 272., 273., 274.,\n",
       "       275., 276., 277., 278., 279., 280., 281., 282., 283., 284., 285.,\n",
       "       286., 287., 288., 289., 290., 291., 292., 293., 294., 295., 296.,\n",
       "       297., 298., 299., 300., 301., 302., 303., 304., 305., 306., 307.,\n",
       "       308., 309., 310., 311., 312., 313., 314., 315., 316., 317., 318.,\n",
       "       319., 320., 321., 322., 323., 324., 325., 326., 327., 328., 329.,\n",
       "       330., 331., 332., 333., 334., 335., 336., 337., 338., 339., 340.,\n",
       "       341., 342., 343., 344., 345., 346., 347., 348., 349., 350., 351.,\n",
       "       352., 353., 354., 355., 356., 357., 358., 359., 360., 361., 362.,\n",
       "       363., 364., 365., 366., 367., 368., 369., 370., 371., 372., 373.,\n",
       "       374., 375., 376., 377., 378., 379., 380., 381., 382., 383., 384.,\n",
       "       385., 386., 387., 388., 389., 390., 391., 392., 393., 394., 395.,\n",
       "       396., 397., 398., 399., 400., 401., 402., 403., 404., 405., 406.,\n",
       "       407., 408., 409., 410., 411., 412., 413., 414., 415., 416., 417.,\n",
       "       418., 419., 420., 421., 422., 423., 424., 425., 426., 427., 428.,\n",
       "       429., 430., 431., 432., 433., 434., 435., 436., 437., 438., 439.,\n",
       "       440., 441., 442., 443., 444., 445., 446., 447., 448., 449., 450.,\n",
       "       451., 452., 453., 454., 455., 456., 457., 458., 459., 460., 461.,\n",
       "       462., 463., 464., 465., 466., 467., 468., 469., 470., 471., 472.,\n",
       "       473., 474., 475., 476., 477., 478., 479., 480., 481., 482., 483.,\n",
       "       484., 485., 486., 487., 488., 489., 490., 491., 492., 493., 494.,\n",
       "       495., 496., 497., 498., 499.])"
      ]
     },
     "execution_count": 21,
     "metadata": {},
     "output_type": "execute_result"
    }
   ],
   "source": [
    "all_frequencies"
   ]
  },
  {
   "cell_type": "code",
   "execution_count": 22,
   "metadata": {},
   "outputs": [
    {
     "data": {
      "text/plain": [
       "(500,)"
      ]
     },
     "execution_count": 22,
     "metadata": {},
     "output_type": "execute_result"
    }
   ],
   "source": [
    "speed_filtered_all_trials_df[\"power\"].iloc[0].shape"
   ]
  },
  {
   "cell_type": "markdown",
   "metadata": {},
   "source": [
    "- Filter by frequnecy band"
   ]
  },
  {
   "cell_type": "code",
   "execution_count": 23,
   "metadata": {},
   "outputs": [
    {
     "name": "stderr",
     "output_type": "stream",
     "text": [
      "/tmp/ipykernel_1452564/2232891006.py:1: SettingWithCopyWarning: \n",
      "A value is trying to be set on a copy of a slice from a DataFrame.\n",
      "Try using .loc[row_indexer,col_indexer] = value instead\n",
      "\n",
      "See the caveats in the documentation: https://pandas.pydata.org/pandas-docs/stable/user_guide/indexing.html#returning-a-view-versus-a-copy\n",
      "  speed_filtered_all_trials_df[\"theta_power_for_all_segments\"] = speed_filtered_all_trials_df[\"power\"].apply(lambda x: x[4:13])\n"
     ]
    }
   ],
   "source": [
    "speed_filtered_all_trials_df[\"theta_power_for_all_segments\"] = speed_filtered_all_trials_df[\"power\"].apply(lambda x: x[4:13])"
   ]
  },
  {
   "cell_type": "code",
   "execution_count": 24,
   "metadata": {},
   "outputs": [
    {
     "data": {
      "text/plain": [
       "array([0.04938388, 0.04342801, 0.041652  , 0.03913568, 0.04028102,\n",
       "       0.03282091, 0.00594168, 0.007443  , 0.01011821])"
      ]
     },
     "execution_count": 24,
     "metadata": {},
     "output_type": "execute_result"
    }
   ],
   "source": [
    "speed_filtered_all_trials_df[\"theta_power_for_all_segments\"].iloc[0]"
   ]
  },
  {
   "cell_type": "markdown",
   "metadata": {},
   "source": [
    "- Getting the mean power for all frequency bands for one time segment"
   ]
  },
  {
   "cell_type": "code",
   "execution_count": 25,
   "metadata": {},
   "outputs": [
    {
     "name": "stderr",
     "output_type": "stream",
     "text": [
      "/tmp/ipykernel_1452564/202648374.py:1: SettingWithCopyWarning: \n",
      "A value is trying to be set on a copy of a slice from a DataFrame.\n",
      "Try using .loc[row_indexer,col_indexer] = value instead\n",
      "\n",
      "See the caveats in the documentation: https://pandas.pydata.org/pandas-docs/stable/user_guide/indexing.html#returning-a-view-versus-a-copy\n",
      "  speed_filtered_all_trials_df[\"mean_theta_power\"] = speed_filtered_all_trials_df[\"theta_power_for_all_segments\"].apply(lambda x: np.mean(x))\n"
     ]
    }
   ],
   "source": [
    "speed_filtered_all_trials_df[\"mean_theta_power\"] = speed_filtered_all_trials_df[\"theta_power_for_all_segments\"].apply(lambda x: np.mean(x))"
   ]
  },
  {
   "cell_type": "code",
   "execution_count": 26,
   "metadata": {},
   "outputs": [
    {
     "data": {
      "text/plain": [
       "0.03002271026529775"
      ]
     },
     "execution_count": 26,
     "metadata": {},
     "output_type": "execute_result"
    }
   ],
   "source": [
    "speed_filtered_all_trials_df[\"mean_theta_power\"].iloc[0]"
   ]
  },
  {
   "cell_type": "markdown",
   "metadata": {},
   "source": [
    "- Getting the average of all the mean powers for each group"
   ]
  },
  {
   "cell_type": "code",
   "execution_count": 27,
   "metadata": {},
   "outputs": [],
   "source": [
    "mean_power_df = pd.DataFrame(speed_filtered_all_trials_df.groupby(['brain_region', 'trial_outcome', 'trial_or_baseline'])[\"mean_theta_power\"].mean()).reset_index()"
   ]
  },
  {
   "cell_type": "code",
   "execution_count": 28,
   "metadata": {},
   "outputs": [],
   "source": [
    "sem_power_df = pd.DataFrame(speed_filtered_all_trials_df.groupby(['brain_region', 'trial_outcome', 'trial_or_baseline'])[\"mean_theta_power\"].sem()).reset_index()"
   ]
  },
  {
   "cell_type": "code",
   "execution_count": 29,
   "metadata": {},
   "outputs": [
    {
     "data": {
      "text/html": [
       "<div>\n",
       "<style scoped>\n",
       "    .dataframe tbody tr th:only-of-type {\n",
       "        vertical-align: middle;\n",
       "    }\n",
       "\n",
       "    .dataframe tbody tr th {\n",
       "        vertical-align: top;\n",
       "    }\n",
       "\n",
       "    .dataframe thead th {\n",
       "        text-align: right;\n",
       "    }\n",
       "</style>\n",
       "<table border=\"1\" class=\"dataframe\">\n",
       "  <thead>\n",
       "    <tr style=\"text-align: right;\">\n",
       "      <th></th>\n",
       "      <th>brain_region</th>\n",
       "      <th>trial_outcome</th>\n",
       "      <th>trial_or_baseline</th>\n",
       "      <th>mean_theta_power</th>\n",
       "    </tr>\n",
       "  </thead>\n",
       "  <tbody>\n",
       "    <tr>\n",
       "      <th>0</th>\n",
       "      <td>spike_interface_BLA</td>\n",
       "      <td>lose</td>\n",
       "      <td>baseline</td>\n",
       "      <td>0.028434</td>\n",
       "    </tr>\n",
       "    <tr>\n",
       "      <th>1</th>\n",
       "      <td>spike_interface_BLA</td>\n",
       "      <td>lose</td>\n",
       "      <td>trial</td>\n",
       "      <td>0.032606</td>\n",
       "    </tr>\n",
       "    <tr>\n",
       "      <th>2</th>\n",
       "      <td>spike_interface_BLA</td>\n",
       "      <td>omission</td>\n",
       "      <td>baseline</td>\n",
       "      <td>0.018592</td>\n",
       "    </tr>\n",
       "    <tr>\n",
       "      <th>3</th>\n",
       "      <td>spike_interface_BLA</td>\n",
       "      <td>omission</td>\n",
       "      <td>trial</td>\n",
       "      <td>0.018948</td>\n",
       "    </tr>\n",
       "    <tr>\n",
       "      <th>4</th>\n",
       "      <td>spike_interface_BLA</td>\n",
       "      <td>rewarded</td>\n",
       "      <td>baseline</td>\n",
       "      <td>0.021026</td>\n",
       "    </tr>\n",
       "    <tr>\n",
       "      <th>5</th>\n",
       "      <td>spike_interface_BLA</td>\n",
       "      <td>rewarded</td>\n",
       "      <td>trial</td>\n",
       "      <td>0.019681</td>\n",
       "    </tr>\n",
       "    <tr>\n",
       "      <th>6</th>\n",
       "      <td>spike_interface_BLA</td>\n",
       "      <td>win</td>\n",
       "      <td>baseline</td>\n",
       "      <td>0.022543</td>\n",
       "    </tr>\n",
       "    <tr>\n",
       "      <th>7</th>\n",
       "      <td>spike_interface_BLA</td>\n",
       "      <td>win</td>\n",
       "      <td>trial</td>\n",
       "      <td>0.025446</td>\n",
       "    </tr>\n",
       "    <tr>\n",
       "      <th>8</th>\n",
       "      <td>spike_interface_LH</td>\n",
       "      <td>lose</td>\n",
       "      <td>baseline</td>\n",
       "      <td>0.032809</td>\n",
       "    </tr>\n",
       "    <tr>\n",
       "      <th>9</th>\n",
       "      <td>spike_interface_LH</td>\n",
       "      <td>lose</td>\n",
       "      <td>trial</td>\n",
       "      <td>0.040264</td>\n",
       "    </tr>\n",
       "    <tr>\n",
       "      <th>10</th>\n",
       "      <td>spike_interface_LH</td>\n",
       "      <td>omission</td>\n",
       "      <td>baseline</td>\n",
       "      <td>0.023063</td>\n",
       "    </tr>\n",
       "    <tr>\n",
       "      <th>11</th>\n",
       "      <td>spike_interface_LH</td>\n",
       "      <td>omission</td>\n",
       "      <td>trial</td>\n",
       "      <td>0.023840</td>\n",
       "    </tr>\n",
       "    <tr>\n",
       "      <th>12</th>\n",
       "      <td>spike_interface_LH</td>\n",
       "      <td>rewarded</td>\n",
       "      <td>baseline</td>\n",
       "      <td>0.028159</td>\n",
       "    </tr>\n",
       "    <tr>\n",
       "      <th>13</th>\n",
       "      <td>spike_interface_LH</td>\n",
       "      <td>rewarded</td>\n",
       "      <td>trial</td>\n",
       "      <td>0.024866</td>\n",
       "    </tr>\n",
       "    <tr>\n",
       "      <th>14</th>\n",
       "      <td>spike_interface_LH</td>\n",
       "      <td>win</td>\n",
       "      <td>baseline</td>\n",
       "      <td>0.026078</td>\n",
       "    </tr>\n",
       "    <tr>\n",
       "      <th>15</th>\n",
       "      <td>spike_interface_LH</td>\n",
       "      <td>win</td>\n",
       "      <td>trial</td>\n",
       "      <td>0.029106</td>\n",
       "    </tr>\n",
       "    <tr>\n",
       "      <th>16</th>\n",
       "      <td>spike_interface_MD</td>\n",
       "      <td>lose</td>\n",
       "      <td>baseline</td>\n",
       "      <td>0.032529</td>\n",
       "    </tr>\n",
       "    <tr>\n",
       "      <th>17</th>\n",
       "      <td>spike_interface_MD</td>\n",
       "      <td>lose</td>\n",
       "      <td>trial</td>\n",
       "      <td>0.038909</td>\n",
       "    </tr>\n",
       "    <tr>\n",
       "      <th>18</th>\n",
       "      <td>spike_interface_MD</td>\n",
       "      <td>omission</td>\n",
       "      <td>baseline</td>\n",
       "      <td>0.023255</td>\n",
       "    </tr>\n",
       "    <tr>\n",
       "      <th>19</th>\n",
       "      <td>spike_interface_MD</td>\n",
       "      <td>omission</td>\n",
       "      <td>trial</td>\n",
       "      <td>0.023655</td>\n",
       "    </tr>\n",
       "  </tbody>\n",
       "</table>\n",
       "</div>"
      ],
      "text/plain": [
       "           brain_region trial_outcome trial_or_baseline  mean_theta_power\n",
       "0   spike_interface_BLA          lose          baseline          0.028434\n",
       "1   spike_interface_BLA          lose             trial          0.032606\n",
       "2   spike_interface_BLA      omission          baseline          0.018592\n",
       "3   spike_interface_BLA      omission             trial          0.018948\n",
       "4   spike_interface_BLA      rewarded          baseline          0.021026\n",
       "5   spike_interface_BLA      rewarded             trial          0.019681\n",
       "6   spike_interface_BLA           win          baseline          0.022543\n",
       "7   spike_interface_BLA           win             trial          0.025446\n",
       "8    spike_interface_LH          lose          baseline          0.032809\n",
       "9    spike_interface_LH          lose             trial          0.040264\n",
       "10   spike_interface_LH      omission          baseline          0.023063\n",
       "11   spike_interface_LH      omission             trial          0.023840\n",
       "12   spike_interface_LH      rewarded          baseline          0.028159\n",
       "13   spike_interface_LH      rewarded             trial          0.024866\n",
       "14   spike_interface_LH           win          baseline          0.026078\n",
       "15   spike_interface_LH           win             trial          0.029106\n",
       "16   spike_interface_MD          lose          baseline          0.032529\n",
       "17   spike_interface_MD          lose             trial          0.038909\n",
       "18   spike_interface_MD      omission          baseline          0.023255\n",
       "19   spike_interface_MD      omission             trial          0.023655"
      ]
     },
     "execution_count": 29,
     "metadata": {},
     "output_type": "execute_result"
    }
   ],
   "source": [
    "mean_power_df.head(n=20)"
   ]
  },
  {
   "cell_type": "code",
   "execution_count": 30,
   "metadata": {},
   "outputs": [
    {
     "data": {
      "text/html": [
       "<div>\n",
       "<style scoped>\n",
       "    .dataframe tbody tr th:only-of-type {\n",
       "        vertical-align: middle;\n",
       "    }\n",
       "\n",
       "    .dataframe tbody tr th {\n",
       "        vertical-align: top;\n",
       "    }\n",
       "\n",
       "    .dataframe thead th {\n",
       "        text-align: right;\n",
       "    }\n",
       "</style>\n",
       "<table border=\"1\" class=\"dataframe\">\n",
       "  <thead>\n",
       "    <tr style=\"text-align: right;\">\n",
       "      <th></th>\n",
       "      <th>brain_region</th>\n",
       "      <th>trial_outcome</th>\n",
       "      <th>trial_or_baseline</th>\n",
       "      <th>mean_theta_power</th>\n",
       "    </tr>\n",
       "  </thead>\n",
       "  <tbody>\n",
       "    <tr>\n",
       "      <th>0</th>\n",
       "      <td>spike_interface_BLA</td>\n",
       "      <td>lose</td>\n",
       "      <td>baseline</td>\n",
       "      <td>0.000947</td>\n",
       "    </tr>\n",
       "    <tr>\n",
       "      <th>1</th>\n",
       "      <td>spike_interface_BLA</td>\n",
       "      <td>lose</td>\n",
       "      <td>trial</td>\n",
       "      <td>0.003911</td>\n",
       "    </tr>\n",
       "    <tr>\n",
       "      <th>2</th>\n",
       "      <td>spike_interface_BLA</td>\n",
       "      <td>omission</td>\n",
       "      <td>baseline</td>\n",
       "      <td>0.000944</td>\n",
       "    </tr>\n",
       "    <tr>\n",
       "      <th>3</th>\n",
       "      <td>spike_interface_BLA</td>\n",
       "      <td>omission</td>\n",
       "      <td>trial</td>\n",
       "      <td>0.000914</td>\n",
       "    </tr>\n",
       "    <tr>\n",
       "      <th>4</th>\n",
       "      <td>spike_interface_BLA</td>\n",
       "      <td>rewarded</td>\n",
       "      <td>baseline</td>\n",
       "      <td>0.000541</td>\n",
       "    </tr>\n",
       "    <tr>\n",
       "      <th>5</th>\n",
       "      <td>spike_interface_BLA</td>\n",
       "      <td>rewarded</td>\n",
       "      <td>trial</td>\n",
       "      <td>0.000404</td>\n",
       "    </tr>\n",
       "    <tr>\n",
       "      <th>6</th>\n",
       "      <td>spike_interface_BLA</td>\n",
       "      <td>win</td>\n",
       "      <td>baseline</td>\n",
       "      <td>0.000533</td>\n",
       "    </tr>\n",
       "    <tr>\n",
       "      <th>7</th>\n",
       "      <td>spike_interface_BLA</td>\n",
       "      <td>win</td>\n",
       "      <td>trial</td>\n",
       "      <td>0.002668</td>\n",
       "    </tr>\n",
       "    <tr>\n",
       "      <th>8</th>\n",
       "      <td>spike_interface_LH</td>\n",
       "      <td>lose</td>\n",
       "      <td>baseline</td>\n",
       "      <td>0.001991</td>\n",
       "    </tr>\n",
       "    <tr>\n",
       "      <th>9</th>\n",
       "      <td>spike_interface_LH</td>\n",
       "      <td>lose</td>\n",
       "      <td>trial</td>\n",
       "      <td>0.006717</td>\n",
       "    </tr>\n",
       "    <tr>\n",
       "      <th>10</th>\n",
       "      <td>spike_interface_LH</td>\n",
       "      <td>omission</td>\n",
       "      <td>baseline</td>\n",
       "      <td>0.001429</td>\n",
       "    </tr>\n",
       "    <tr>\n",
       "      <th>11</th>\n",
       "      <td>spike_interface_LH</td>\n",
       "      <td>omission</td>\n",
       "      <td>trial</td>\n",
       "      <td>0.001145</td>\n",
       "    </tr>\n",
       "    <tr>\n",
       "      <th>12</th>\n",
       "      <td>spike_interface_LH</td>\n",
       "      <td>rewarded</td>\n",
       "      <td>baseline</td>\n",
       "      <td>0.001288</td>\n",
       "    </tr>\n",
       "    <tr>\n",
       "      <th>13</th>\n",
       "      <td>spike_interface_LH</td>\n",
       "      <td>rewarded</td>\n",
       "      <td>trial</td>\n",
       "      <td>0.000507</td>\n",
       "    </tr>\n",
       "    <tr>\n",
       "      <th>14</th>\n",
       "      <td>spike_interface_LH</td>\n",
       "      <td>win</td>\n",
       "      <td>baseline</td>\n",
       "      <td>0.000596</td>\n",
       "    </tr>\n",
       "    <tr>\n",
       "      <th>15</th>\n",
       "      <td>spike_interface_LH</td>\n",
       "      <td>win</td>\n",
       "      <td>trial</td>\n",
       "      <td>0.003405</td>\n",
       "    </tr>\n",
       "    <tr>\n",
       "      <th>16</th>\n",
       "      <td>spike_interface_MD</td>\n",
       "      <td>lose</td>\n",
       "      <td>baseline</td>\n",
       "      <td>0.001169</td>\n",
       "    </tr>\n",
       "    <tr>\n",
       "      <th>17</th>\n",
       "      <td>spike_interface_MD</td>\n",
       "      <td>lose</td>\n",
       "      <td>trial</td>\n",
       "      <td>0.004066</td>\n",
       "    </tr>\n",
       "    <tr>\n",
       "      <th>18</th>\n",
       "      <td>spike_interface_MD</td>\n",
       "      <td>omission</td>\n",
       "      <td>baseline</td>\n",
       "      <td>0.001359</td>\n",
       "    </tr>\n",
       "    <tr>\n",
       "      <th>19</th>\n",
       "      <td>spike_interface_MD</td>\n",
       "      <td>omission</td>\n",
       "      <td>trial</td>\n",
       "      <td>0.001091</td>\n",
       "    </tr>\n",
       "  </tbody>\n",
       "</table>\n",
       "</div>"
      ],
      "text/plain": [
       "           brain_region trial_outcome trial_or_baseline  mean_theta_power\n",
       "0   spike_interface_BLA          lose          baseline          0.000947\n",
       "1   spike_interface_BLA          lose             trial          0.003911\n",
       "2   spike_interface_BLA      omission          baseline          0.000944\n",
       "3   spike_interface_BLA      omission             trial          0.000914\n",
       "4   spike_interface_BLA      rewarded          baseline          0.000541\n",
       "5   spike_interface_BLA      rewarded             trial          0.000404\n",
       "6   spike_interface_BLA           win          baseline          0.000533\n",
       "7   spike_interface_BLA           win             trial          0.002668\n",
       "8    spike_interface_LH          lose          baseline          0.001991\n",
       "9    spike_interface_LH          lose             trial          0.006717\n",
       "10   spike_interface_LH      omission          baseline          0.001429\n",
       "11   spike_interface_LH      omission             trial          0.001145\n",
       "12   spike_interface_LH      rewarded          baseline          0.001288\n",
       "13   spike_interface_LH      rewarded             trial          0.000507\n",
       "14   spike_interface_LH           win          baseline          0.000596\n",
       "15   spike_interface_LH           win             trial          0.003405\n",
       "16   spike_interface_MD          lose          baseline          0.001169\n",
       "17   spike_interface_MD          lose             trial          0.004066\n",
       "18   spike_interface_MD      omission          baseline          0.001359\n",
       "19   spike_interface_MD      omission             trial          0.001091"
      ]
     },
     "execution_count": 30,
     "metadata": {},
     "output_type": "execute_result"
    }
   ],
   "source": [
    "sem_power_df.head(n=20)"
   ]
  },
  {
   "cell_type": "markdown",
   "metadata": {},
   "source": [
    "- Plot the mean power"
   ]
  },
  {
   "cell_type": "code",
   "execution_count": 31,
   "metadata": {},
   "outputs": [
    {
     "data": {
      "image/png": "[encoded data removed]",
      "text/plain": [
       "<Figure size 640x480 with 1 Axes>"
      ]
     },
     "metadata": {},
     "output_type": "display_data"
    },
    {
     "data": {
      "image/png": "[encoded data removed]",
      "text/plain": [
       "<Figure size 640x480 with 1 Axes>"
      ]
     },
     "metadata": {},
     "output_type": "display_data"
    },
    {
     "data": {
      "image/png": "[encoded data removed]",
      "text/plain": [
       "<Figure size 640x480 with 1 Axes>"
      ]
     },
     "metadata": {},
     "output_type": "display_data"
    },
    {
     "data": {
      "image/png": "[encoded data removed]",
      "text/plain": [
       "<Figure size 640x480 with 1 Axes>"
      ]
     },
     "metadata": {},
     "output_type": "display_data"
    },
    {
     "data": {
      "image/png": "[encoded data removed]",
      "text/plain": [
       "<Figure size 640x480 with 1 Axes>"
      ]
     },
     "metadata": {},
     "output_type": "display_data"
    }
   ],
   "source": [
    "for region in mean_power_df[\"brain_region\"].unique():\n",
    "    fig, ax = plt.subplots()\n",
    "    mean_region_df = mean_power_df[(mean_power_df[\"brain_region\"] == region) & (mean_power_df[\"trial_or_baseline\"] == \"trial\")]\n",
    "    sem_region_df = sem_power_df[(sem_power_df[\"brain_region\"] == region) & (sem_power_df[\"trial_or_baseline\"] == \"trial\")]\n",
    "\n",
    "        \n",
    "    # Create a list of colors based on the categories\n",
    "    colors = [BASELINE_OUTCOME_TO_COLOR[cat] for cat in mean_region_df[\"trial_outcome\"]]\n",
    "\n",
    "    plt.title(\"{}\".format(region))\n",
    "    plt.xlabel(\"\")\n",
    "    plt.ylabel(\"\")\n",
    "    plt.bar(mean_region_df[\"trial_outcome\"], mean_region_df[\"mean_theta_power\"], yerr=sem_region_df[\"mean_theta_power\"], color=colors)\n",
    "    "
   ]
  },
  {
   "cell_type": "code",
   "execution_count": null,
   "metadata": {},
   "outputs": [],
   "source": []
  }
 ],
 "metadata": {
  "deepnote": {},
  "deepnote_execution_queue": [],
  "deepnote_notebook_id": "cf8fe3695d074ee7887fdf6459cbf5ce",
  "kernelspec": {
   "display_name": "Python 3 (ipykernel)",
   "language": "python",
   "name": "python3"
  },
  "language_info": {
   "codemirror_mode": {
    "name": "ipython",
    "version": 3
   },
   "file_extension": ".py",
   "mimetype": "text/x-python",
   "name": "python",
   "nbconvert_exporter": "python",
   "pygments_lexer": "ipython3",
   "version": "3.9.16"
  }
 },
 "nbformat": 4,
 "nbformat_minor": 4
}
