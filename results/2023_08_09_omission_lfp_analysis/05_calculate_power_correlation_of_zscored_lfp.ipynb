{
 "cells": [
  {
   "cell_type": "markdown",
   "metadata": {
    "cell_id": "c3a02adc9e884466bc8c79db549cc3d2",
    "deepnote_cell_type": "text-cell-h1",
    "formattedRanges": [
     {
      "fromCodePoint": 0,
      "marks": {
       "bold": true,
       "underline": true
      },
      "toCodePoint": 17,
      "type": "marks"
     }
    ]
   },
   "source": [
    "# Omission LFP Analysis"
   ]
  },
  {
   "cell_type": "markdown",
   "metadata": {
    "cell_id": "4546bee655b14a5dbf393161f1228e60",
    "deepnote_cell_type": "text-cell-p",
    "formattedRanges": []
   },
   "source": [
    "Brief 1-2 sentence description of notebook."
   ]
  },
  {
   "cell_type": "code",
   "execution_count": 1,
   "metadata": {},
   "outputs": [],
   "source": [
    "import os\n",
    "import glob\n",
    "from collections import defaultdict\n",
    "import re"
   ]
  },
  {
   "cell_type": "code",
   "execution_count": 2,
   "metadata": {
    "cell_id": "03b495cefa6a4798a44c7f2e4c6a3ea7",
    "deepnote_cell_type": "code",
    "deepnote_to_be_reexecuted": false,
    "execution_millis": 21,
    "execution_start": 1691424003626,
    "source_hash": null
   },
   "outputs": [],
   "source": [
    "# Imports of all used packages and libraries\n",
    "import numpy as np\n",
    "import pandas as pd\n",
    "import matplotlib.pyplot as plt\n",
    "import matplotlib.cm as cm\n",
    "import seaborn as sns\n",
    "from scipy import stats\n",
    "import itertools\n",
    "from scipy.stats import linregress"
   ]
  },
  {
   "cell_type": "code",
   "execution_count": 3,
   "metadata": {},
   "outputs": [],
   "source": [
    "import spikeinterface.extractors as se\n",
    "import spikeinterface.preprocessing as sp\n",
    "from spectral_connectivity import Multitaper, Connectivity\n",
    "import spectral_connectivity"
   ]
  },
  {
   "cell_type": "markdown",
   "metadata": {
    "cell_id": "d290bac2c17940bfbc0f9296beaf70e5",
    "deepnote_cell_type": "text-cell-h2",
    "formattedRanges": []
   },
   "source": [
    "## Inputs & Data"
   ]
  },
  {
   "cell_type": "markdown",
   "metadata": {
    "cell_id": "e528ce19c608425292151930d380f49f",
    "deepnote_cell_type": "text-cell-p",
    "formattedRanges": []
   },
   "source": [
    "Explanation of each input and where it comes from."
   ]
  },
  {
   "cell_type": "code",
   "execution_count": 4,
   "metadata": {},
   "outputs": [],
   "source": [
    "# Inputs and Required data loading\n",
    "# input varaible names are in all caps snake case\n",
    "# Whenever an input changes or is used for processing \n",
    "# the vairables are all lower in snake case"
   ]
  },
  {
   "cell_type": "code",
   "execution_count": 5,
   "metadata": {},
   "outputs": [],
   "source": [
    "BBOX_TO_ANCHOR=(1.5, 0.9)\n",
    "LOC='upper right'"
   ]
  },
  {
   "cell_type": "code",
   "execution_count": null,
   "metadata": {},
   "outputs": [],
   "source": []
  },
  {
   "cell_type": "code",
   "execution_count": 6,
   "metadata": {},
   "outputs": [],
   "source": [
    "# variables for LFP extraction\n",
    "FREQ_MIN=0.5\n",
    "FREQ_MAX=300\n",
    "FREQ=60\n",
    "RESAMPLE_RATE=1000\n",
    "TRIAL_DURATION=10"
   ]
  },
  {
   "cell_type": "code",
   "execution_count": 7,
   "metadata": {},
   "outputs": [],
   "source": [
    "INPUT_VARIABLE = 1\n",
    "\n",
    "TIME_HALFBANDWIDTH_PRODUCT = 2\n",
    "TIME_WINDOW_DURATION = 3\n",
    "TIME_WINDOW_STEP = 1.5 \n",
    "\n",
    "TRIAL_TIME_STAMP_DURATION = 1000*10"
   ]
  },
  {
   "cell_type": "code",
   "execution_count": 8,
   "metadata": {},
   "outputs": [],
   "source": [
    "BIN_TO_COLOR = {0: {\"baseline\": \"lightblue\", \"trial\": \"blue\"}, 1: {\"baseline\": \"lightgreen\", \"trial\": \"green\"}, 2: {\"baseline\": \"lightcoral\", \"trial\": \"red\"}}\n",
    "TRIAL_OR_BASELINE_TO_STYLE = {'baseline': \"--\", \"trial\": \"-\"}\n",
    "BIN_TO_VELOCITY = {0: \"0 to 2.5cm/s\", 1: \"2.5 to 5cm/s\", 2: \"5cm/s+\"}"
   ]
  },
  {
   "cell_type": "code",
   "execution_count": 9,
   "metadata": {},
   "outputs": [],
   "source": [
    "NUM_LINES = 3"
   ]
  },
  {
   "cell_type": "code",
   "execution_count": 10,
   "metadata": {},
   "outputs": [],
   "source": [
    "# Generate colors from the \"Blues\" colormap\n",
    "LOSING_COLORS = cm.Oranges(np.linspace(0.5, 1, NUM_LINES))\n",
    "# Generate colors from the \"Blues\" colormap\n",
    "WINNING_COLORS = cm.Blues(np.linspace(0.5, 1, NUM_LINES))\n",
    "# Generate colors from the \"Blues\" colormap\n",
    "REWARDED_COLORS = cm.Greens(np.linspace(0.5, 1, NUM_LINES))\n",
    "# Generate colors from the \"Blues\" colormap\n",
    "OMISSION_COLORS = cm.Reds(np.linspace(0.5, 1, NUM_LINES))"
   ]
  },
  {
   "cell_type": "code",
   "execution_count": 11,
   "metadata": {},
   "outputs": [],
   "source": [
    "BASELINE_OUTCOME_TO_COLOR = {'lose': \"orange\",\n",
    " 'lose_baseline': LOSING_COLORS[0],\n",
    " 'omission': \"red\",\n",
    " 'omission_baseline': \"hotpink\",\n",
    " 'rewarded': \"green\",\n",
    " 'rewarded_baseline': REWARDED_COLORS[0],\n",
    " 'win': \"blue\",\n",
    " 'win_baseline': WINNING_COLORS[0]}"
   ]
  },
  {
   "cell_type": "code",
   "execution_count": 12,
   "metadata": {},
   "outputs": [],
   "source": [
    "BASELINE_OUTCOME_TO_COLOR = {'lose_trial': \"orange\",\n",
    " 'lose_baseline': LOSING_COLORS[0],\n",
    " 'omission_trial': \"red\",\n",
    " 'omission_baseline': \"hotpink\",\n",
    " 'rewarded_trial': \"green\",\n",
    " 'rewarded_baseline': REWARDED_COLORS[0],\n",
    " 'win_trial': \"blue\",\n",
    " 'win_baseline': WINNING_COLORS[0]}"
   ]
  },
  {
   "cell_type": "code",
   "execution_count": 13,
   "metadata": {},
   "outputs": [],
   "source": [
    "COMPETITIVE_OUTCOME_TO_COLOR = {'lose_comp': \"orange\", \n",
    "'lose_non_comp': \"yellow\",\n",
    "'omission': \"red\",\n",
    "'rewarded': \"green\",\n",
    "'win_comp': \"blue\", \n",
    "'win_non_comp': WINNING_COLORS[0]}"
   ]
  },
  {
   "cell_type": "code",
   "execution_count": 14,
   "metadata": {},
   "outputs": [],
   "source": [
    "TRIAL_OR_BASELINE_TO_STYLE = {'baseline': \"--\", \"trial\": \"-\"}"
   ]
  },
  {
   "cell_type": "code",
   "execution_count": 15,
   "metadata": {
    "cell_id": "6cf83a5811054461a718a71673d09aab",
    "deepnote_cell_type": "code",
    "deepnote_to_be_reexecuted": false,
    "execution_millis": 373,
    "execution_start": 1691424003628,
    "source_hash": null
   },
   "outputs": [],
   "source": [
    "CHANNEL_MAPPING_DF = pd.read_excel(\"../../channel_mapping.xlsx\")\n",
    "CHANNEL_MAPPING_DF[\"Subject\"] = CHANNEL_MAPPING_DF[\"Subject\"].astype(str)\n",
    "\n",
    "TONE_TIMESTAMP_DF = pd.read_excel(\"../../rce_tone_timestamp.xlsx\", index_col=0)\n",
    "OUTPUT_DIR = r\"./proc\" # where data is saved should always be shown in the inputs\n"
   ]
  },
  {
   "cell_type": "code",
   "execution_count": 16,
   "metadata": {},
   "outputs": [],
   "source": [
    "all_session_dir = ['/scratch/back_up/reward_competition_extention/data/pilot/20221214_125409_om_and_comp_6_1_and_6_3.rec',\n",
    "'/scratch/back_up/reward_competition_extention/data/pilot/20221215_145401_comp_amd_om_6_1_and_6_3.rec',\n",
    "'/scratch/back_up/reward_competition_extention/data/standard/2023_06_12/20230612_101430_standard_comp_to_training_D1_subj_1-4_and_1-3.rec',\n",
    "'/scratch/back_up/reward_competition_extention/data/omission/2023_06_17/20230617_115521_standard_comp_to_omission_D1_subj_1-1_and_1-2.rec',\n",
    "'/scratch/back_up/reward_competition_extention/data/omission/2023_06_18/20230618_100636_standard_comp_to_omission_D2_subj_1-4_and_1-1.rec',\n",
    "'/scratch/back_up/reward_competition_extention/data/omission/2023_06_19/20230619_115321_standard_comp_to_omission_D3_subj_1-2_and_1-4.rec',\n",
    "'/scratch/back_up/reward_competition_extention/data/omission/2023_06_20/20230620_114347_standard_comp_to_omission_D4_subj_1-2_and_1-1.rec',\n",
    "'/scratch/back_up/reward_competition_extention/data/omission/2023_06_21/20230621_111240_standard_comp_to_omission_D5_subj_1-4_and_1-2.rec']"
   ]
  },
  {
   "cell_type": "code",
   "execution_count": 17,
   "metadata": {},
   "outputs": [
    {
     "data": {
      "text/plain": [
       "['/scratch/back_up/reward_competition_extention/data/pilot/20221214_125409_om_and_comp_6_1_and_6_3.rec',\n",
       " '/scratch/back_up/reward_competition_extention/data/pilot/20221215_145401_comp_amd_om_6_1_and_6_3.rec',\n",
       " '/scratch/back_up/reward_competition_extention/data/standard/2023_06_12/20230612_101430_standard_comp_to_training_D1_subj_1-4_and_1-3.rec',\n",
       " '/scratch/back_up/reward_competition_extention/data/omission/2023_06_17/20230617_115521_standard_comp_to_omission_D1_subj_1-1_and_1-2.rec',\n",
       " '/scratch/back_up/reward_competition_extention/data/omission/2023_06_18/20230618_100636_standard_comp_to_omission_D2_subj_1-4_and_1-1.rec',\n",
       " '/scratch/back_up/reward_competition_extention/data/omission/2023_06_19/20230619_115321_standard_comp_to_omission_D3_subj_1-2_and_1-4.rec',\n",
       " '/scratch/back_up/reward_competition_extention/data/omission/2023_06_20/20230620_114347_standard_comp_to_omission_D4_subj_1-2_and_1-1.rec',\n",
       " '/scratch/back_up/reward_competition_extention/data/omission/2023_06_21/20230621_111240_standard_comp_to_omission_D5_subj_1-4_and_1-2.rec']"
      ]
     },
     "execution_count": 17,
     "metadata": {},
     "output_type": "execute_result"
    }
   ],
   "source": [
    "all_session_dir"
   ]
  },
  {
   "cell_type": "markdown",
   "metadata": {
    "cell_id": "e3ee4891d43a4ac287413afc552ca289",
    "deepnote_cell_type": "text-cell-h2",
    "formattedRanges": []
   },
   "source": [
    "## Outputs"
   ]
  },
  {
   "cell_type": "markdown",
   "metadata": {
    "cell_id": "9ccbf6cc70fd4d379fa29317f733771f",
    "deepnote_cell_type": "text-cell-p",
    "formattedRanges": []
   },
   "source": [
    "Describe each output that the notebook creates. "
   ]
  },
  {
   "cell_type": "markdown",
   "metadata": {
    "cell_id": "fc8e8920a6944918a15fac575cdf6e78",
    "deepnote_cell_type": "text-cell-bullet",
    "formattedRanges": []
   },
   "source": [
    "- Is it a plot or is it data?"
   ]
  },
  {
   "cell_type": "markdown",
   "metadata": {
    "cell_id": "1e639d4776a84aa9ac8ded2e14fa57db",
    "deepnote_cell_type": "text-cell-bullet",
    "formattedRanges": []
   },
   "source": [
    "- How valuable is the output and why is it valuable or useful?"
   ]
  },
  {
   "cell_type": "markdown",
   "metadata": {},
   "source": [
    "## Functions"
   ]
  },
  {
   "cell_type": "markdown",
   "metadata": {
    "jp-MarkdownHeadingCollapsed": true
   },
   "source": [
    "- Ideally functions are defined here first and then data is processed using the functions\n",
    "    - function names are short and in snake case all lowercase\n",
    "    - a function name should be unique but does not have to describe the function\n",
    "    - doc strings describe functions not function names"
   ]
  },
  {
   "cell_type": "code",
   "execution_count": 18,
   "metadata": {},
   "outputs": [],
   "source": [
    "def generate_pairs(lst):\n",
    "    pairs = []\n",
    "    n = len(lst)\n",
    "    for i in range(n):\n",
    "        for j in range(i+1, n):\n",
    "            pairs.append((lst[i], lst[j]))\n",
    "    return pairs"
   ]
  },
  {
   "cell_type": "code",
   "execution_count": 19,
   "metadata": {},
   "outputs": [],
   "source": [
    "def nested_dict():\n",
    "    return defaultdict(dict)\n",
    "\n",
    "triple_nested_dict = defaultdict(nested_dict)"
   ]
  },
  {
   "cell_type": "markdown",
   "metadata": {
    "cell_id": "8999d19b6b7d4d63bc90f0b0bd9ab085",
    "deepnote_cell_type": "text-cell-h2",
    "formattedRanges": []
   },
   "source": [
    "## Processing"
   ]
  },
  {
   "cell_type": "markdown",
   "metadata": {
    "cell_id": "9b36cdf08567463082b005cb0dec684b",
    "deepnote_cell_type": "text-cell-p",
    "formattedRanges": []
   },
   "source": [
    "Describe what is done to the data here and how inputs are manipulated to generate outputs. "
   ]
  },
  {
   "cell_type": "code",
   "execution_count": 20,
   "metadata": {
    "cell_id": "89aaba237c644628b1b37604b75e7cb1",
    "deepnote_cell_type": "code"
   },
   "outputs": [],
   "source": [
    "# As much code and as many cells as required\n",
    "# includes EDA and playing with data\n",
    "# GO HAM!"
   ]
  },
  {
   "cell_type": "code",
   "execution_count": 21,
   "metadata": {},
   "outputs": [
    {
     "data": {
      "text/html": [
       "<div>\n",
       "<style scoped>\n",
       "    .dataframe tbody tr th:only-of-type {\n",
       "        vertical-align: middle;\n",
       "    }\n",
       "\n",
       "    .dataframe tbody tr th {\n",
       "        vertical-align: top;\n",
       "    }\n",
       "\n",
       "    .dataframe thead th {\n",
       "        text-align: right;\n",
       "    }\n",
       "</style>\n",
       "<table border=\"1\" class=\"dataframe\">\n",
       "  <thead>\n",
       "    <tr style=\"text-align: right;\">\n",
       "      <th></th>\n",
       "      <th>Cohort</th>\n",
       "      <th>Subject</th>\n",
       "      <th>eib_mPFC</th>\n",
       "      <th>eib_vHPC</th>\n",
       "      <th>eib_BLA</th>\n",
       "      <th>eib_LH</th>\n",
       "      <th>eib_MD</th>\n",
       "      <th>spike_interface_mPFC</th>\n",
       "      <th>spike_interface_vHPC</th>\n",
       "      <th>spike_interface_BLA</th>\n",
       "      <th>spike_interface_LH</th>\n",
       "      <th>spike_interface_MD</th>\n",
       "    </tr>\n",
       "  </thead>\n",
       "  <tbody>\n",
       "    <tr>\n",
       "      <th>0</th>\n",
       "      <td>1</td>\n",
       "      <td>6.1</td>\n",
       "      <td>NaN</td>\n",
       "      <td>15</td>\n",
       "      <td>14</td>\n",
       "      <td>13</td>\n",
       "      <td>31</td>\n",
       "      <td>21.0</td>\n",
       "      <td>15.0</td>\n",
       "      <td>14.0</td>\n",
       "      <td>13.0</td>\n",
       "      <td>16.0</td>\n",
       "    </tr>\n",
       "    <tr>\n",
       "      <th>1</th>\n",
       "      <td>1</td>\n",
       "      <td>6.2</td>\n",
       "      <td>NaN</td>\n",
       "      <td>15</td>\n",
       "      <td>14</td>\n",
       "      <td>13</td>\n",
       "      <td>31</td>\n",
       "      <td>NaN</td>\n",
       "      <td>NaN</td>\n",
       "      <td>NaN</td>\n",
       "      <td>NaN</td>\n",
       "      <td>NaN</td>\n",
       "    </tr>\n",
       "    <tr>\n",
       "      <th>2</th>\n",
       "      <td>1</td>\n",
       "      <td>6.3</td>\n",
       "      <td>NaN</td>\n",
       "      <td>15</td>\n",
       "      <td>14</td>\n",
       "      <td>13</td>\n",
       "      <td>31</td>\n",
       "      <td>NaN</td>\n",
       "      <td>NaN</td>\n",
       "      <td>NaN</td>\n",
       "      <td>NaN</td>\n",
       "      <td>NaN</td>\n",
       "    </tr>\n",
       "    <tr>\n",
       "      <th>3</th>\n",
       "      <td>1</td>\n",
       "      <td>6.4</td>\n",
       "      <td>NaN</td>\n",
       "      <td>15</td>\n",
       "      <td>14</td>\n",
       "      <td>13</td>\n",
       "      <td>31</td>\n",
       "      <td>NaN</td>\n",
       "      <td>NaN</td>\n",
       "      <td>NaN</td>\n",
       "      <td>NaN</td>\n",
       "      <td>NaN</td>\n",
       "    </tr>\n",
       "    <tr>\n",
       "      <th>4</th>\n",
       "      <td>2</td>\n",
       "      <td>1.1</td>\n",
       "      <td>NaN</td>\n",
       "      <td>16</td>\n",
       "      <td>17</td>\n",
       "      <td>18</td>\n",
       "      <td>19</td>\n",
       "      <td>5.0</td>\n",
       "      <td>31.0</td>\n",
       "      <td>30.0</td>\n",
       "      <td>29.0</td>\n",
       "      <td>28.0</td>\n",
       "    </tr>\n",
       "    <tr>\n",
       "      <th>5</th>\n",
       "      <td>2</td>\n",
       "      <td>1.2</td>\n",
       "      <td>NaN</td>\n",
       "      <td>31</td>\n",
       "      <td>30</td>\n",
       "      <td>29</td>\n",
       "      <td>28</td>\n",
       "      <td>10.0</td>\n",
       "      <td>31.0</td>\n",
       "      <td>30.0</td>\n",
       "      <td>29.0</td>\n",
       "      <td>28.0</td>\n",
       "    </tr>\n",
       "    <tr>\n",
       "      <th>6</th>\n",
       "      <td>2</td>\n",
       "      <td>1.3</td>\n",
       "      <td>NaN</td>\n",
       "      <td>15</td>\n",
       "      <td>14</td>\n",
       "      <td>13</td>\n",
       "      <td>12</td>\n",
       "      <td>9.0</td>\n",
       "      <td>31.0</td>\n",
       "      <td>30.0</td>\n",
       "      <td>29.0</td>\n",
       "      <td>28.0</td>\n",
       "    </tr>\n",
       "    <tr>\n",
       "      <th>7</th>\n",
       "      <td>2</td>\n",
       "      <td>1.4</td>\n",
       "      <td>NaN</td>\n",
       "      <td>15</td>\n",
       "      <td>14</td>\n",
       "      <td>13</td>\n",
       "      <td>12</td>\n",
       "      <td>15.0</td>\n",
       "      <td>31.0</td>\n",
       "      <td>30.0</td>\n",
       "      <td>29.0</td>\n",
       "      <td>28.0</td>\n",
       "    </tr>\n",
       "  </tbody>\n",
       "</table>\n",
       "</div>"
      ],
      "text/plain": [
       "   Cohort Subject  eib_mPFC  eib_vHPC  eib_BLA  eib_LH  eib_MD  \\\n",
       "0       1     6.1       NaN        15       14      13      31   \n",
       "1       1     6.2       NaN        15       14      13      31   \n",
       "2       1     6.3       NaN        15       14      13      31   \n",
       "3       1     6.4       NaN        15       14      13      31   \n",
       "4       2     1.1       NaN        16       17      18      19   \n",
       "5       2     1.2       NaN        31       30      29      28   \n",
       "6       2     1.3       NaN        15       14      13      12   \n",
       "7       2     1.4       NaN        15       14      13      12   \n",
       "\n",
       "   spike_interface_mPFC  spike_interface_vHPC  spike_interface_BLA  \\\n",
       "0                  21.0                  15.0                 14.0   \n",
       "1                   NaN                   NaN                  NaN   \n",
       "2                   NaN                   NaN                  NaN   \n",
       "3                   NaN                   NaN                  NaN   \n",
       "4                   5.0                  31.0                 30.0   \n",
       "5                  10.0                  31.0                 30.0   \n",
       "6                   9.0                  31.0                 30.0   \n",
       "7                  15.0                  31.0                 30.0   \n",
       "\n",
       "   spike_interface_LH  spike_interface_MD  \n",
       "0                13.0                16.0  \n",
       "1                 NaN                 NaN  \n",
       "2                 NaN                 NaN  \n",
       "3                 NaN                 NaN  \n",
       "4                29.0                28.0  \n",
       "5                29.0                28.0  \n",
       "6                29.0                28.0  \n",
       "7                29.0                28.0  "
      ]
     },
     "execution_count": 21,
     "metadata": {},
     "output_type": "execute_result"
    }
   ],
   "source": [
    "CHANNEL_MAPPING_DF"
   ]
  },
  {
   "cell_type": "markdown",
   "metadata": {},
   "source": [
    "### Getting the subject IDs from the file name"
   ]
  },
  {
   "cell_type": "raw",
   "metadata": {},
   "source": [
    "TONE_TIMESTAMP_DF = pd.read_pickle(\"./proc/melted_trials_and_video.pkl\")\n"
   ]
  },
  {
   "cell_type": "code",
   "execution_count": 22,
   "metadata": {},
   "outputs": [],
   "source": [
    "all_trials_df = TONE_TIMESTAMP_DF.dropna(subset=\"condition\").reset_index(drop=True)"
   ]
  },
  {
   "cell_type": "code",
   "execution_count": 23,
   "metadata": {},
   "outputs": [
    {
     "data": {
      "text/html": [
       "<div>\n",
       "<style scoped>\n",
       "    .dataframe tbody tr th:only-of-type {\n",
       "        vertical-align: middle;\n",
       "    }\n",
       "\n",
       "    .dataframe tbody tr th {\n",
       "        vertical-align: top;\n",
       "    }\n",
       "\n",
       "    .dataframe thead th {\n",
       "        text-align: right;\n",
       "    }\n",
       "</style>\n",
       "<table border=\"1\" class=\"dataframe\">\n",
       "  <thead>\n",
       "    <tr style=\"text-align: right;\">\n",
       "      <th></th>\n",
       "      <th>time</th>\n",
       "      <th>state</th>\n",
       "      <th>recording_dir</th>\n",
       "      <th>recording_file</th>\n",
       "      <th>din</th>\n",
       "      <th>time_stamp_index</th>\n",
       "      <th>video_file</th>\n",
       "      <th>video_frame</th>\n",
       "      <th>video_number</th>\n",
       "      <th>subject_info</th>\n",
       "      <th>condition</th>\n",
       "      <th>competition_closeness</th>\n",
       "      <th>Unnamed: 13</th>\n",
       "    </tr>\n",
       "  </thead>\n",
       "  <tbody>\n",
       "    <tr>\n",
       "      <th>0</th>\n",
       "      <td>6310663.0</td>\n",
       "      <td>1.0</td>\n",
       "      <td>20221202_134600_omission_and_competition_subje...</td>\n",
       "      <td>20221202_134600_omission_and_competition_subje...</td>\n",
       "      <td>dio_ECU_Din1</td>\n",
       "      <td>1390826.0</td>\n",
       "      <td>20221202_134600_omission_and_competition_subje...</td>\n",
       "      <td>1734.0</td>\n",
       "      <td>1.0</td>\n",
       "      <td>6_1_top_2_base_3</td>\n",
       "      <td>rewarded</td>\n",
       "      <td>NaN</td>\n",
       "      <td>NaN</td>\n",
       "    </tr>\n",
       "    <tr>\n",
       "      <th>1</th>\n",
       "      <td>7910662.0</td>\n",
       "      <td>1.0</td>\n",
       "      <td>20221202_134600_omission_and_competition_subje...</td>\n",
       "      <td>20221202_134600_omission_and_competition_subje...</td>\n",
       "      <td>dio_ECU_Din1</td>\n",
       "      <td>2990825.0</td>\n",
       "      <td>20221202_134600_omission_and_competition_subje...</td>\n",
       "      <td>3728.0</td>\n",
       "      <td>1.0</td>\n",
       "      <td>6_1_top_2_base_3</td>\n",
       "      <td>rewarded</td>\n",
       "      <td>NaN</td>\n",
       "      <td>NaN</td>\n",
       "    </tr>\n",
       "    <tr>\n",
       "      <th>2</th>\n",
       "      <td>9710660.0</td>\n",
       "      <td>1.0</td>\n",
       "      <td>20221202_134600_omission_and_competition_subje...</td>\n",
       "      <td>20221202_134600_omission_and_competition_subje...</td>\n",
       "      <td>dio_ECU_Din1</td>\n",
       "      <td>4790823.0</td>\n",
       "      <td>20221202_134600_omission_and_competition_subje...</td>\n",
       "      <td>5972.0</td>\n",
       "      <td>1.0</td>\n",
       "      <td>6_1_top_2_base_3</td>\n",
       "      <td>rewarded</td>\n",
       "      <td>NaN</td>\n",
       "      <td>NaN</td>\n",
       "    </tr>\n",
       "    <tr>\n",
       "      <th>3</th>\n",
       "      <td>11310658.0</td>\n",
       "      <td>1.0</td>\n",
       "      <td>20221202_134600_omission_and_competition_subje...</td>\n",
       "      <td>20221202_134600_omission_and_competition_subje...</td>\n",
       "      <td>dio_ECU_Din1</td>\n",
       "      <td>6390821.0</td>\n",
       "      <td>20221202_134600_omission_and_competition_subje...</td>\n",
       "      <td>7966.0</td>\n",
       "      <td>1.0</td>\n",
       "      <td>6_1_top_2_base_3</td>\n",
       "      <td>omission</td>\n",
       "      <td>NaN</td>\n",
       "      <td>NaN</td>\n",
       "    </tr>\n",
       "    <tr>\n",
       "      <th>4</th>\n",
       "      <td>12810657.0</td>\n",
       "      <td>1.0</td>\n",
       "      <td>20221202_134600_omission_and_competition_subje...</td>\n",
       "      <td>20221202_134600_omission_and_competition_subje...</td>\n",
       "      <td>dio_ECU_Din1</td>\n",
       "      <td>7890820.0</td>\n",
       "      <td>20221202_134600_omission_and_competition_subje...</td>\n",
       "      <td>9836.0</td>\n",
       "      <td>1.0</td>\n",
       "      <td>6_1_top_2_base_3</td>\n",
       "      <td>rewarded</td>\n",
       "      <td>NaN</td>\n",
       "      <td>NaN</td>\n",
       "    </tr>\n",
       "  </tbody>\n",
       "</table>\n",
       "</div>"
      ],
      "text/plain": [
       "         time  state                                      recording_dir  \\\n",
       "0   6310663.0    1.0  20221202_134600_omission_and_competition_subje...   \n",
       "1   7910662.0    1.0  20221202_134600_omission_and_competition_subje...   \n",
       "2   9710660.0    1.0  20221202_134600_omission_and_competition_subje...   \n",
       "3  11310658.0    1.0  20221202_134600_omission_and_competition_subje...   \n",
       "4  12810657.0    1.0  20221202_134600_omission_and_competition_subje...   \n",
       "\n",
       "                                      recording_file           din  \\\n",
       "0  20221202_134600_omission_and_competition_subje...  dio_ECU_Din1   \n",
       "1  20221202_134600_omission_and_competition_subje...  dio_ECU_Din1   \n",
       "2  20221202_134600_omission_and_competition_subje...  dio_ECU_Din1   \n",
       "3  20221202_134600_omission_and_competition_subje...  dio_ECU_Din1   \n",
       "4  20221202_134600_omission_and_competition_subje...  dio_ECU_Din1   \n",
       "\n",
       "   time_stamp_index                                         video_file  \\\n",
       "0         1390826.0  20221202_134600_omission_and_competition_subje...   \n",
       "1         2990825.0  20221202_134600_omission_and_competition_subje...   \n",
       "2         4790823.0  20221202_134600_omission_and_competition_subje...   \n",
       "3         6390821.0  20221202_134600_omission_and_competition_subje...   \n",
       "4         7890820.0  20221202_134600_omission_and_competition_subje...   \n",
       "\n",
       "   video_frame  video_number      subject_info condition  \\\n",
       "0       1734.0           1.0  6_1_top_2_base_3  rewarded   \n",
       "1       3728.0           1.0  6_1_top_2_base_3  rewarded   \n",
       "2       5972.0           1.0  6_1_top_2_base_3  rewarded   \n",
       "3       7966.0           1.0  6_1_top_2_base_3  omission   \n",
       "4       9836.0           1.0  6_1_top_2_base_3  rewarded   \n",
       "\n",
       "  competition_closeness Unnamed: 13  \n",
       "0                   NaN         NaN  \n",
       "1                   NaN         NaN  \n",
       "2                   NaN         NaN  \n",
       "3                   NaN         NaN  \n",
       "4                   NaN         NaN  "
      ]
     },
     "execution_count": 23,
     "metadata": {},
     "output_type": "execute_result"
    }
   ],
   "source": [
    "all_trials_df.head()"
   ]
  },
  {
   "cell_type": "markdown",
   "metadata": {},
   "source": [
    "- Original timestamps are based on ephys recordings at 20kHz. The LFP will be at 1kHz, so we will need to divide all the timestamps by 20"
   ]
  },
  {
   "cell_type": "code",
   "execution_count": 24,
   "metadata": {},
   "outputs": [],
   "source": [
    "all_trials_df[\"resampled_index\"] = all_trials_df[\"time_stamp_index\"] // 20"
   ]
  },
  {
   "cell_type": "code",
   "execution_count": 25,
   "metadata": {},
   "outputs": [
    {
     "data": {
      "text/plain": [
       "array(['20221202_134600_omission_and_competition_subject_6_1_and_6_2',\n",
       "       '20221203_154800_omission_and_competition_subject_6_4_and_6_1',\n",
       "       '20221214_125409_om_and_comp_6_1_and_6_3',\n",
       "       '20221215_145401_comp_amd_om_6_1_and_6_3',\n",
       "       '20230612_101430_standard_comp_to_training_D1_subj_1-4_and_1-3',\n",
       "       '20230617_115521_standard_comp_to_omission_D1_subj_1-1_and_1-2',\n",
       "       '20230618_100636_standard_comp_to_omission_D2_subj_1-4_and_1-1',\n",
       "       '20230619_115321_standard_comp_to_omission_D3_subj_1-2_and_1-4',\n",
       "       '20230620_114347_standard_comp_to_omission_D4_subj_1-2_and_1-1',\n",
       "       '20230621_111240_standard_comp_to_omission_D5_subj_1-4_and_1-2'],\n",
       "      dtype=object)"
      ]
     },
     "execution_count": 25,
     "metadata": {},
     "output_type": "execute_result"
    }
   ],
   "source": [
    "all_trials_df[\"recording_dir\"].unique()"
   ]
  },
  {
   "cell_type": "markdown",
   "metadata": {},
   "source": [
    "- Getting a list of all the subjects through the recording name"
   ]
  },
  {
   "cell_type": "code",
   "execution_count": 26,
   "metadata": {},
   "outputs": [],
   "source": [
    "all_trials_df[\"all_subjects\"] = all_trials_df[\"recording_dir\"].apply(lambda x: [\"{}.{}\".format(tup[0],tup[1]) for tup in re.findall(r'(\\d+)-(\\d+)', x.replace(\"_\", \"-\"))[1:]])"
   ]
  },
  {
   "cell_type": "code",
   "execution_count": 27,
   "metadata": {
    "scrolled": true
   },
   "outputs": [
    {
     "data": {
      "text/plain": [
       "0    [6.1, 6.2]\n",
       "1    [6.1, 6.2]\n",
       "2    [6.1, 6.2]\n",
       "3    [6.1, 6.2]\n",
       "4    [6.1, 6.2]\n",
       "Name: all_subjects, dtype: object"
      ]
     },
     "execution_count": 27,
     "metadata": {},
     "output_type": "execute_result"
    }
   ],
   "source": [
    "all_trials_df[\"all_subjects\"].head()"
   ]
  },
  {
   "cell_type": "markdown",
   "metadata": {},
   "source": [
    "- Getting the current subject of the recording through the ending of the recording name file"
   ]
  },
  {
   "cell_type": "code",
   "execution_count": 28,
   "metadata": {},
   "outputs": [
    {
     "data": {
      "text/plain": [
       "0    6_1_top_2_base_3\n",
       "1    6_1_top_2_base_3\n",
       "2    6_1_top_2_base_3\n",
       "3    6_1_top_2_base_3\n",
       "4    6_1_top_2_base_3\n",
       "Name: subject_info, dtype: object"
      ]
     },
     "execution_count": 28,
     "metadata": {},
     "output_type": "execute_result"
    }
   ],
   "source": [
    "all_trials_df[\"subject_info\"].head()"
   ]
  },
  {
   "cell_type": "code",
   "execution_count": 29,
   "metadata": {},
   "outputs": [],
   "source": [
    "all_trials_df[\"current_subject\"] = all_trials_df[\"subject_info\"].apply(lambda x: \".\".join(x.replace(\"-\",\"_\").split(\"_\")[:2]))"
   ]
  },
  {
   "cell_type": "code",
   "execution_count": 30,
   "metadata": {},
   "outputs": [
    {
     "data": {
      "text/html": [
       "<div>\n",
       "<style scoped>\n",
       "    .dataframe tbody tr th:only-of-type {\n",
       "        vertical-align: middle;\n",
       "    }\n",
       "\n",
       "    .dataframe tbody tr th {\n",
       "        vertical-align: top;\n",
       "    }\n",
       "\n",
       "    .dataframe thead th {\n",
       "        text-align: right;\n",
       "    }\n",
       "</style>\n",
       "<table border=\"1\" class=\"dataframe\">\n",
       "  <thead>\n",
       "    <tr style=\"text-align: right;\">\n",
       "      <th></th>\n",
       "      <th>time</th>\n",
       "      <th>state</th>\n",
       "      <th>recording_dir</th>\n",
       "      <th>recording_file</th>\n",
       "      <th>din</th>\n",
       "      <th>time_stamp_index</th>\n",
       "      <th>video_file</th>\n",
       "      <th>video_frame</th>\n",
       "      <th>video_number</th>\n",
       "      <th>subject_info</th>\n",
       "      <th>condition</th>\n",
       "      <th>competition_closeness</th>\n",
       "      <th>Unnamed: 13</th>\n",
       "      <th>resampled_index</th>\n",
       "      <th>all_subjects</th>\n",
       "      <th>current_subject</th>\n",
       "    </tr>\n",
       "  </thead>\n",
       "  <tbody>\n",
       "    <tr>\n",
       "      <th>0</th>\n",
       "      <td>6310663.0</td>\n",
       "      <td>1.0</td>\n",
       "      <td>20221202_134600_omission_and_competition_subje...</td>\n",
       "      <td>20221202_134600_omission_and_competition_subje...</td>\n",
       "      <td>dio_ECU_Din1</td>\n",
       "      <td>1390826.0</td>\n",
       "      <td>20221202_134600_omission_and_competition_subje...</td>\n",
       "      <td>1734.0</td>\n",
       "      <td>1.0</td>\n",
       "      <td>6_1_top_2_base_3</td>\n",
       "      <td>rewarded</td>\n",
       "      <td>NaN</td>\n",
       "      <td>NaN</td>\n",
       "      <td>69541.0</td>\n",
       "      <td>[6.1, 6.2]</td>\n",
       "      <td>6.1</td>\n",
       "    </tr>\n",
       "    <tr>\n",
       "      <th>1</th>\n",
       "      <td>7910662.0</td>\n",
       "      <td>1.0</td>\n",
       "      <td>20221202_134600_omission_and_competition_subje...</td>\n",
       "      <td>20221202_134600_omission_and_competition_subje...</td>\n",
       "      <td>dio_ECU_Din1</td>\n",
       "      <td>2990825.0</td>\n",
       "      <td>20221202_134600_omission_and_competition_subje...</td>\n",
       "      <td>3728.0</td>\n",
       "      <td>1.0</td>\n",
       "      <td>6_1_top_2_base_3</td>\n",
       "      <td>rewarded</td>\n",
       "      <td>NaN</td>\n",
       "      <td>NaN</td>\n",
       "      <td>149541.0</td>\n",
       "      <td>[6.1, 6.2]</td>\n",
       "      <td>6.1</td>\n",
       "    </tr>\n",
       "    <tr>\n",
       "      <th>2</th>\n",
       "      <td>9710660.0</td>\n",
       "      <td>1.0</td>\n",
       "      <td>20221202_134600_omission_and_competition_subje...</td>\n",
       "      <td>20221202_134600_omission_and_competition_subje...</td>\n",
       "      <td>dio_ECU_Din1</td>\n",
       "      <td>4790823.0</td>\n",
       "      <td>20221202_134600_omission_and_competition_subje...</td>\n",
       "      <td>5972.0</td>\n",
       "      <td>1.0</td>\n",
       "      <td>6_1_top_2_base_3</td>\n",
       "      <td>rewarded</td>\n",
       "      <td>NaN</td>\n",
       "      <td>NaN</td>\n",
       "      <td>239541.0</td>\n",
       "      <td>[6.1, 6.2]</td>\n",
       "      <td>6.1</td>\n",
       "    </tr>\n",
       "    <tr>\n",
       "      <th>3</th>\n",
       "      <td>11310658.0</td>\n",
       "      <td>1.0</td>\n",
       "      <td>20221202_134600_omission_and_competition_subje...</td>\n",
       "      <td>20221202_134600_omission_and_competition_subje...</td>\n",
       "      <td>dio_ECU_Din1</td>\n",
       "      <td>6390821.0</td>\n",
       "      <td>20221202_134600_omission_and_competition_subje...</td>\n",
       "      <td>7966.0</td>\n",
       "      <td>1.0</td>\n",
       "      <td>6_1_top_2_base_3</td>\n",
       "      <td>omission</td>\n",
       "      <td>NaN</td>\n",
       "      <td>NaN</td>\n",
       "      <td>319541.0</td>\n",
       "      <td>[6.1, 6.2]</td>\n",
       "      <td>6.1</td>\n",
       "    </tr>\n",
       "    <tr>\n",
       "      <th>4</th>\n",
       "      <td>12810657.0</td>\n",
       "      <td>1.0</td>\n",
       "      <td>20221202_134600_omission_and_competition_subje...</td>\n",
       "      <td>20221202_134600_omission_and_competition_subje...</td>\n",
       "      <td>dio_ECU_Din1</td>\n",
       "      <td>7890820.0</td>\n",
       "      <td>20221202_134600_omission_and_competition_subje...</td>\n",
       "      <td>9836.0</td>\n",
       "      <td>1.0</td>\n",
       "      <td>6_1_top_2_base_3</td>\n",
       "      <td>rewarded</td>\n",
       "      <td>NaN</td>\n",
       "      <td>NaN</td>\n",
       "      <td>394541.0</td>\n",
       "      <td>[6.1, 6.2]</td>\n",
       "      <td>6.1</td>\n",
       "    </tr>\n",
       "  </tbody>\n",
       "</table>\n",
       "</div>"
      ],
      "text/plain": [
       "         time  state                                      recording_dir  \\\n",
       "0   6310663.0    1.0  20221202_134600_omission_and_competition_subje...   \n",
       "1   7910662.0    1.0  20221202_134600_omission_and_competition_subje...   \n",
       "2   9710660.0    1.0  20221202_134600_omission_and_competition_subje...   \n",
       "3  11310658.0    1.0  20221202_134600_omission_and_competition_subje...   \n",
       "4  12810657.0    1.0  20221202_134600_omission_and_competition_subje...   \n",
       "\n",
       "                                      recording_file           din  \\\n",
       "0  20221202_134600_omission_and_competition_subje...  dio_ECU_Din1   \n",
       "1  20221202_134600_omission_and_competition_subje...  dio_ECU_Din1   \n",
       "2  20221202_134600_omission_and_competition_subje...  dio_ECU_Din1   \n",
       "3  20221202_134600_omission_and_competition_subje...  dio_ECU_Din1   \n",
       "4  20221202_134600_omission_and_competition_subje...  dio_ECU_Din1   \n",
       "\n",
       "   time_stamp_index                                         video_file  \\\n",
       "0         1390826.0  20221202_134600_omission_and_competition_subje...   \n",
       "1         2990825.0  20221202_134600_omission_and_competition_subje...   \n",
       "2         4790823.0  20221202_134600_omission_and_competition_subje...   \n",
       "3         6390821.0  20221202_134600_omission_and_competition_subje...   \n",
       "4         7890820.0  20221202_134600_omission_and_competition_subje...   \n",
       "\n",
       "   video_frame  video_number      subject_info condition  \\\n",
       "0       1734.0           1.0  6_1_top_2_base_3  rewarded   \n",
       "1       3728.0           1.0  6_1_top_2_base_3  rewarded   \n",
       "2       5972.0           1.0  6_1_top_2_base_3  rewarded   \n",
       "3       7966.0           1.0  6_1_top_2_base_3  omission   \n",
       "4       9836.0           1.0  6_1_top_2_base_3  rewarded   \n",
       "\n",
       "  competition_closeness Unnamed: 13  resampled_index all_subjects  \\\n",
       "0                   NaN         NaN          69541.0   [6.1, 6.2]   \n",
       "1                   NaN         NaN         149541.0   [6.1, 6.2]   \n",
       "2                   NaN         NaN         239541.0   [6.1, 6.2]   \n",
       "3                   NaN         NaN         319541.0   [6.1, 6.2]   \n",
       "4                   NaN         NaN         394541.0   [6.1, 6.2]   \n",
       "\n",
       "  current_subject  \n",
       "0             6.1  \n",
       "1             6.1  \n",
       "2             6.1  \n",
       "3             6.1  \n",
       "4             6.1  "
      ]
     },
     "execution_count": 30,
     "metadata": {},
     "output_type": "execute_result"
    }
   ],
   "source": [
    "all_trials_df.head()"
   ]
  },
  {
   "cell_type": "markdown",
   "metadata": {},
   "source": [
    "- Labeling the trial as a winner or loser if the winner matches the subject id or not"
   ]
  },
  {
   "cell_type": "code",
   "execution_count": 31,
   "metadata": {},
   "outputs": [],
   "source": [
    "all_trials_df[\"trial_outcome\"] = all_trials_df.apply(\n",
    "    lambda x: \"win\" if str(x[\"condition\"]).strip() == str(x[\"current_subject\"]) \n",
    "             else (\"lose\" if str(x[\"condition\"]) in x[\"all_subjects\"] \n",
    "                   else x[\"condition\"]), axis=1)"
   ]
  },
  {
   "cell_type": "code",
   "execution_count": 32,
   "metadata": {},
   "outputs": [
    {
     "data": {
      "text/html": [
       "<div>\n",
       "<style scoped>\n",
       "    .dataframe tbody tr th:only-of-type {\n",
       "        vertical-align: middle;\n",
       "    }\n",
       "\n",
       "    .dataframe tbody tr th {\n",
       "        vertical-align: top;\n",
       "    }\n",
       "\n",
       "    .dataframe thead th {\n",
       "        text-align: right;\n",
       "    }\n",
       "</style>\n",
       "<table border=\"1\" class=\"dataframe\">\n",
       "  <thead>\n",
       "    <tr style=\"text-align: right;\">\n",
       "      <th></th>\n",
       "      <th>time</th>\n",
       "      <th>state</th>\n",
       "      <th>recording_dir</th>\n",
       "      <th>recording_file</th>\n",
       "      <th>din</th>\n",
       "      <th>time_stamp_index</th>\n",
       "      <th>video_file</th>\n",
       "      <th>video_frame</th>\n",
       "      <th>video_number</th>\n",
       "      <th>subject_info</th>\n",
       "      <th>condition</th>\n",
       "      <th>competition_closeness</th>\n",
       "      <th>Unnamed: 13</th>\n",
       "      <th>resampled_index</th>\n",
       "      <th>all_subjects</th>\n",
       "      <th>current_subject</th>\n",
       "      <th>trial_outcome</th>\n",
       "    </tr>\n",
       "  </thead>\n",
       "  <tbody>\n",
       "    <tr>\n",
       "      <th>0</th>\n",
       "      <td>6310663.0</td>\n",
       "      <td>1.0</td>\n",
       "      <td>20221202_134600_omission_and_competition_subje...</td>\n",
       "      <td>20221202_134600_omission_and_competition_subje...</td>\n",
       "      <td>dio_ECU_Din1</td>\n",
       "      <td>1390826.0</td>\n",
       "      <td>20221202_134600_omission_and_competition_subje...</td>\n",
       "      <td>1734.0</td>\n",
       "      <td>1.0</td>\n",
       "      <td>6_1_top_2_base_3</td>\n",
       "      <td>rewarded</td>\n",
       "      <td>NaN</td>\n",
       "      <td>NaN</td>\n",
       "      <td>69541.0</td>\n",
       "      <td>[6.1, 6.2]</td>\n",
       "      <td>6.1</td>\n",
       "      <td>rewarded</td>\n",
       "    </tr>\n",
       "    <tr>\n",
       "      <th>1</th>\n",
       "      <td>7910662.0</td>\n",
       "      <td>1.0</td>\n",
       "      <td>20221202_134600_omission_and_competition_subje...</td>\n",
       "      <td>20221202_134600_omission_and_competition_subje...</td>\n",
       "      <td>dio_ECU_Din1</td>\n",
       "      <td>2990825.0</td>\n",
       "      <td>20221202_134600_omission_and_competition_subje...</td>\n",
       "      <td>3728.0</td>\n",
       "      <td>1.0</td>\n",
       "      <td>6_1_top_2_base_3</td>\n",
       "      <td>rewarded</td>\n",
       "      <td>NaN</td>\n",
       "      <td>NaN</td>\n",
       "      <td>149541.0</td>\n",
       "      <td>[6.1, 6.2]</td>\n",
       "      <td>6.1</td>\n",
       "      <td>rewarded</td>\n",
       "    </tr>\n",
       "    <tr>\n",
       "      <th>2</th>\n",
       "      <td>9710660.0</td>\n",
       "      <td>1.0</td>\n",
       "      <td>20221202_134600_omission_and_competition_subje...</td>\n",
       "      <td>20221202_134600_omission_and_competition_subje...</td>\n",
       "      <td>dio_ECU_Din1</td>\n",
       "      <td>4790823.0</td>\n",
       "      <td>20221202_134600_omission_and_competition_subje...</td>\n",
       "      <td>5972.0</td>\n",
       "      <td>1.0</td>\n",
       "      <td>6_1_top_2_base_3</td>\n",
       "      <td>rewarded</td>\n",
       "      <td>NaN</td>\n",
       "      <td>NaN</td>\n",
       "      <td>239541.0</td>\n",
       "      <td>[6.1, 6.2]</td>\n",
       "      <td>6.1</td>\n",
       "      <td>rewarded</td>\n",
       "    </tr>\n",
       "    <tr>\n",
       "      <th>3</th>\n",
       "      <td>11310658.0</td>\n",
       "      <td>1.0</td>\n",
       "      <td>20221202_134600_omission_and_competition_subje...</td>\n",
       "      <td>20221202_134600_omission_and_competition_subje...</td>\n",
       "      <td>dio_ECU_Din1</td>\n",
       "      <td>6390821.0</td>\n",
       "      <td>20221202_134600_omission_and_competition_subje...</td>\n",
       "      <td>7966.0</td>\n",
       "      <td>1.0</td>\n",
       "      <td>6_1_top_2_base_3</td>\n",
       "      <td>omission</td>\n",
       "      <td>NaN</td>\n",
       "      <td>NaN</td>\n",
       "      <td>319541.0</td>\n",
       "      <td>[6.1, 6.2]</td>\n",
       "      <td>6.1</td>\n",
       "      <td>omission</td>\n",
       "    </tr>\n",
       "    <tr>\n",
       "      <th>4</th>\n",
       "      <td>12810657.0</td>\n",
       "      <td>1.0</td>\n",
       "      <td>20221202_134600_omission_and_competition_subje...</td>\n",
       "      <td>20221202_134600_omission_and_competition_subje...</td>\n",
       "      <td>dio_ECU_Din1</td>\n",
       "      <td>7890820.0</td>\n",
       "      <td>20221202_134600_omission_and_competition_subje...</td>\n",
       "      <td>9836.0</td>\n",
       "      <td>1.0</td>\n",
       "      <td>6_1_top_2_base_3</td>\n",
       "      <td>rewarded</td>\n",
       "      <td>NaN</td>\n",
       "      <td>NaN</td>\n",
       "      <td>394541.0</td>\n",
       "      <td>[6.1, 6.2]</td>\n",
       "      <td>6.1</td>\n",
       "      <td>rewarded</td>\n",
       "    </tr>\n",
       "  </tbody>\n",
       "</table>\n",
       "</div>"
      ],
      "text/plain": [
       "         time  state                                      recording_dir  \\\n",
       "0   6310663.0    1.0  20221202_134600_omission_and_competition_subje...   \n",
       "1   7910662.0    1.0  20221202_134600_omission_and_competition_subje...   \n",
       "2   9710660.0    1.0  20221202_134600_omission_and_competition_subje...   \n",
       "3  11310658.0    1.0  20221202_134600_omission_and_competition_subje...   \n",
       "4  12810657.0    1.0  20221202_134600_omission_and_competition_subje...   \n",
       "\n",
       "                                      recording_file           din  \\\n",
       "0  20221202_134600_omission_and_competition_subje...  dio_ECU_Din1   \n",
       "1  20221202_134600_omission_and_competition_subje...  dio_ECU_Din1   \n",
       "2  20221202_134600_omission_and_competition_subje...  dio_ECU_Din1   \n",
       "3  20221202_134600_omission_and_competition_subje...  dio_ECU_Din1   \n",
       "4  20221202_134600_omission_and_competition_subje...  dio_ECU_Din1   \n",
       "\n",
       "   time_stamp_index                                         video_file  \\\n",
       "0         1390826.0  20221202_134600_omission_and_competition_subje...   \n",
       "1         2990825.0  20221202_134600_omission_and_competition_subje...   \n",
       "2         4790823.0  20221202_134600_omission_and_competition_subje...   \n",
       "3         6390821.0  20221202_134600_omission_and_competition_subje...   \n",
       "4         7890820.0  20221202_134600_omission_and_competition_subje...   \n",
       "\n",
       "   video_frame  video_number      subject_info condition  \\\n",
       "0       1734.0           1.0  6_1_top_2_base_3  rewarded   \n",
       "1       3728.0           1.0  6_1_top_2_base_3  rewarded   \n",
       "2       5972.0           1.0  6_1_top_2_base_3  rewarded   \n",
       "3       7966.0           1.0  6_1_top_2_base_3  omission   \n",
       "4       9836.0           1.0  6_1_top_2_base_3  rewarded   \n",
       "\n",
       "  competition_closeness Unnamed: 13  resampled_index all_subjects  \\\n",
       "0                   NaN         NaN          69541.0   [6.1, 6.2]   \n",
       "1                   NaN         NaN         149541.0   [6.1, 6.2]   \n",
       "2                   NaN         NaN         239541.0   [6.1, 6.2]   \n",
       "3                   NaN         NaN         319541.0   [6.1, 6.2]   \n",
       "4                   NaN         NaN         394541.0   [6.1, 6.2]   \n",
       "\n",
       "  current_subject trial_outcome  \n",
       "0             6.1      rewarded  \n",
       "1             6.1      rewarded  \n",
       "2             6.1      rewarded  \n",
       "3             6.1      omission  \n",
       "4             6.1      rewarded  "
      ]
     },
     "execution_count": 32,
     "metadata": {},
     "output_type": "execute_result"
    }
   ],
   "source": [
    "all_trials_df.head()"
   ]
  },
  {
   "cell_type": "code",
   "execution_count": 33,
   "metadata": {},
   "outputs": [],
   "source": [
    "competition_closeness_map = {k: \"non_comp\" if \"only\" in str(k).lower() else \"comp\" if type(k) is str else np.nan for k in all_trials_df[\"competition_closeness\"].unique()}"
   ]
  },
  {
   "cell_type": "code",
   "execution_count": 34,
   "metadata": {
    "scrolled": true
   },
   "outputs": [
    {
     "data": {
      "text/plain": [
       "{nan: nan,\n",
       " 'Subj 1 Only': 'non_comp',\n",
       " 'Subj 2 blocking Subj 1': 'comp',\n",
       " 'Subj 1 then Subj 2': 'comp',\n",
       " 'Subj 1 blocking Subj 2': 'comp',\n",
       " 'Subj 2 Only': 'non_comp',\n",
       " 'Subj 2 then Subj 1': 'comp',\n",
       " 'Close Call': 'comp'}"
      ]
     },
     "execution_count": 34,
     "metadata": {},
     "output_type": "execute_result"
    }
   ],
   "source": [
    "competition_closeness_map"
   ]
  },
  {
   "cell_type": "code",
   "execution_count": 35,
   "metadata": {},
   "outputs": [],
   "source": [
    "all_trials_df[\"competition_closeness\"] = all_trials_df[\"competition_closeness\"].map(competition_closeness_map)"
   ]
  },
  {
   "cell_type": "code",
   "execution_count": 36,
   "metadata": {},
   "outputs": [
    {
     "data": {
      "text/plain": [
       "0           NaN\n",
       "1           NaN\n",
       "2           NaN\n",
       "3           NaN\n",
       "4           NaN\n",
       "         ...   \n",
       "698    non_comp\n",
       "699    non_comp\n",
       "700        comp\n",
       "701        comp\n",
       "702        comp\n",
       "Name: competition_closeness, Length: 703, dtype: object"
      ]
     },
     "execution_count": 36,
     "metadata": {},
     "output_type": "execute_result"
    }
   ],
   "source": [
    "all_trials_df[\"competition_closeness\"]"
   ]
  },
  {
   "cell_type": "code",
   "execution_count": 37,
   "metadata": {},
   "outputs": [],
   "source": [
    "all_trials_df[\"competition_closeness\"] = all_trials_df.apply(lambda x: \"_\".join([str(x[\"trial_outcome\"]), str(x[\"competition_closeness\"])]).strip(\"nan\").strip(\"_\"), axis=1)"
   ]
  },
  {
   "cell_type": "markdown",
   "metadata": {},
   "source": [
    "### Extracting the LFP"
   ]
  },
  {
   "cell_type": "code",
   "execution_count": 38,
   "metadata": {},
   "outputs": [
    {
     "name": "stdout",
     "output_type": "stream",
     "text": [
      "20221214_125409_om_and_comp_6_1_top_1_base_2_vs_6_3\n",
      "20221215_145401_comp_amd_om_6_1_top_4_base_3\n",
      "20230612_101430_standard_comp_to_training_D1_subj_1-4_t4b2L_box1_merged\n",
      "20230612_101430_standard_comp_to_training_D1_subj_1-3_t3b3L_box2_merged\n",
      "20230617_115521_standard_comp_to_omission_D1_subj_1-2_t2b2L_box2_merged\n",
      "20230617_115521_standard_comp_to_omission_D1_subj_1-1_t1b3L_box1_merged\n",
      "20230618_100636_standard_comp_to_omission_D2_subj_1_4_t4b3L_box1_merged\n",
      "20230618_100636_standard_comp_to_omission_D2_subj_1_1_t1b2L_box2_merged\n",
      "20230619_115321_standard_comp_to_omission_D3_subj_1-4_t3b3L_box2_merged\n",
      "20230620_114347_standard_comp_to_omission_D4_subj_1-1_t1b2L_box_2_merged\n",
      "20230620_114347_standard_comp_to_omission_D4_subj_1-2_t3b3L_box_1_merged\n",
      "20230621_111240_standard_comp_to_omission_D5_subj_1-4_t3b3L_box1_merged\n"
     ]
    }
   ],
   "source": [
    "recording_name_to_all_ch_lfp = {}\n",
    "# Going through all the recording sessions \n",
    "for session_dir in all_session_dir:\n",
    "    # Going through all the recordings in each session\n",
    "    for recording_path in glob.glob(os.path.join(session_dir, \"*.rec\")):\n",
    "        try:\n",
    "            recording_basename = os.path.splitext(os.path.basename(recording_path))[0]\n",
    "            # checking to see if the recording has an ECU component\n",
    "            # if it doesn't, then the next one be extracted\n",
    "            current_recording = se.read_spikegadgets(recording_path, stream_id=\"ECU\")\n",
    "            current_recording = se.read_spikegadgets(recording_path, stream_id=\"trodes\")\n",
    "            print(recording_basename)\n",
    "            # Preprocessing the LFP\n",
    "            current_recording = sp.bandpass_filter(current_recording, freq_min=0.5, freq_max=300)\n",
    "            current_recording = sp.notch_filter(current_recording, freq=60)\n",
    "            current_recording = sp.resample(current_recording, resample_rate=1000)\n",
    "            current_recording = sp.zscore(current_recording)\n",
    "            recording_name_to_all_ch_lfp[recording_basename] = current_recording\n",
    "        except:\n",
    "            pass\n",
    "\n"
   ]
  },
  {
   "cell_type": "markdown",
   "metadata": {},
   "source": [
    "- Filtering for all trials that have labels"
   ]
  },
  {
   "cell_type": "code",
   "execution_count": 39,
   "metadata": {},
   "outputs": [],
   "source": [
    "all_trials_df = all_trials_df[all_trials_df[\"recording_file\"].isin(recording_name_to_all_ch_lfp.keys())].reset_index(drop=True)"
   ]
  },
  {
   "cell_type": "code",
   "execution_count": 40,
   "metadata": {
    "scrolled": true
   },
   "outputs": [
    {
     "data": {
      "text/html": [
       "<div>\n",
       "<style scoped>\n",
       "    .dataframe tbody tr th:only-of-type {\n",
       "        vertical-align: middle;\n",
       "    }\n",
       "\n",
       "    .dataframe tbody tr th {\n",
       "        vertical-align: top;\n",
       "    }\n",
       "\n",
       "    .dataframe thead th {\n",
       "        text-align: right;\n",
       "    }\n",
       "</style>\n",
       "<table border=\"1\" class=\"dataframe\">\n",
       "  <thead>\n",
       "    <tr style=\"text-align: right;\">\n",
       "      <th></th>\n",
       "      <th>time</th>\n",
       "      <th>state</th>\n",
       "      <th>recording_dir</th>\n",
       "      <th>recording_file</th>\n",
       "      <th>din</th>\n",
       "      <th>time_stamp_index</th>\n",
       "      <th>video_file</th>\n",
       "      <th>video_frame</th>\n",
       "      <th>video_number</th>\n",
       "      <th>subject_info</th>\n",
       "      <th>condition</th>\n",
       "      <th>competition_closeness</th>\n",
       "      <th>Unnamed: 13</th>\n",
       "      <th>resampled_index</th>\n",
       "      <th>all_subjects</th>\n",
       "      <th>current_subject</th>\n",
       "      <th>trial_outcome</th>\n",
       "    </tr>\n",
       "  </thead>\n",
       "  <tbody>\n",
       "    <tr>\n",
       "      <th>0</th>\n",
       "      <td>4359951.0</td>\n",
       "      <td>1.0</td>\n",
       "      <td>20221214_125409_om_and_comp_6_1_and_6_3</td>\n",
       "      <td>20221214_125409_om_and_comp_6_1_top_1_base_2_v...</td>\n",
       "      <td>dio_ECU_Din1</td>\n",
       "      <td>1408048.0</td>\n",
       "      <td>20221214_125409_om_and_comp_6_1_and_6_3.1.vide...</td>\n",
       "      <td>1405.0</td>\n",
       "      <td>1.0</td>\n",
       "      <td>6_1_top_1_base_2_vs_6_3</td>\n",
       "      <td>rewarded</td>\n",
       "      <td>rewarded</td>\n",
       "      <td>NaN</td>\n",
       "      <td>70402.0</td>\n",
       "      <td>[6.1, 6.3]</td>\n",
       "      <td>6.1</td>\n",
       "      <td>rewarded</td>\n",
       "    </tr>\n",
       "    <tr>\n",
       "      <th>1</th>\n",
       "      <td>5959954.0</td>\n",
       "      <td>1.0</td>\n",
       "      <td>20221214_125409_om_and_comp_6_1_and_6_3</td>\n",
       "      <td>20221214_125409_om_and_comp_6_1_top_1_base_2_v...</td>\n",
       "      <td>dio_ECU_Din1</td>\n",
       "      <td>3008051.0</td>\n",
       "      <td>20221214_125409_om_and_comp_6_1_and_6_3.1.vide...</td>\n",
       "      <td>3002.0</td>\n",
       "      <td>1.0</td>\n",
       "      <td>6_1_top_1_base_2_vs_6_3</td>\n",
       "      <td>rewarded</td>\n",
       "      <td>rewarded</td>\n",
       "      <td>NaN</td>\n",
       "      <td>150402.0</td>\n",
       "      <td>[6.1, 6.3]</td>\n",
       "      <td>6.1</td>\n",
       "      <td>rewarded</td>\n",
       "    </tr>\n",
       "    <tr>\n",
       "      <th>2</th>\n",
       "      <td>7759946.0</td>\n",
       "      <td>1.0</td>\n",
       "      <td>20221214_125409_om_and_comp_6_1_and_6_3</td>\n",
       "      <td>20221214_125409_om_and_comp_6_1_top_1_base_2_v...</td>\n",
       "      <td>dio_ECU_Din1</td>\n",
       "      <td>4808043.0</td>\n",
       "      <td>20221214_125409_om_and_comp_6_1_and_6_3.1.vide...</td>\n",
       "      <td>4798.0</td>\n",
       "      <td>1.0</td>\n",
       "      <td>6_1_top_1_base_2_vs_6_3</td>\n",
       "      <td>rewarded</td>\n",
       "      <td>rewarded</td>\n",
       "      <td>NaN</td>\n",
       "      <td>240402.0</td>\n",
       "      <td>[6.1, 6.3]</td>\n",
       "      <td>6.1</td>\n",
       "      <td>rewarded</td>\n",
       "    </tr>\n",
       "    <tr>\n",
       "      <th>3</th>\n",
       "      <td>9359945.0</td>\n",
       "      <td>1.0</td>\n",
       "      <td>20221214_125409_om_and_comp_6_1_and_6_3</td>\n",
       "      <td>20221214_125409_om_and_comp_6_1_top_1_base_2_v...</td>\n",
       "      <td>dio_ECU_Din1</td>\n",
       "      <td>6408042.0</td>\n",
       "      <td>20221214_125409_om_and_comp_6_1_and_6_3.1.vide...</td>\n",
       "      <td>6395.0</td>\n",
       "      <td>1.0</td>\n",
       "      <td>6_1_top_1_base_2_vs_6_3</td>\n",
       "      <td>omission</td>\n",
       "      <td>omission</td>\n",
       "      <td>NaN</td>\n",
       "      <td>320402.0</td>\n",
       "      <td>[6.1, 6.3]</td>\n",
       "      <td>6.1</td>\n",
       "      <td>omission</td>\n",
       "    </tr>\n",
       "    <tr>\n",
       "      <th>4</th>\n",
       "      <td>10859943.0</td>\n",
       "      <td>1.0</td>\n",
       "      <td>20221214_125409_om_and_comp_6_1_and_6_3</td>\n",
       "      <td>20221214_125409_om_and_comp_6_1_top_1_base_2_v...</td>\n",
       "      <td>dio_ECU_Din1</td>\n",
       "      <td>7908040.0</td>\n",
       "      <td>20221214_125409_om_and_comp_6_1_and_6_3.1.vide...</td>\n",
       "      <td>7892.0</td>\n",
       "      <td>1.0</td>\n",
       "      <td>6_1_top_1_base_2_vs_6_3</td>\n",
       "      <td>rewarded</td>\n",
       "      <td>rewarded</td>\n",
       "      <td>NaN</td>\n",
       "      <td>395402.0</td>\n",
       "      <td>[6.1, 6.3]</td>\n",
       "      <td>6.1</td>\n",
       "      <td>rewarded</td>\n",
       "    </tr>\n",
       "  </tbody>\n",
       "</table>\n",
       "</div>"
      ],
      "text/plain": [
       "         time  state                            recording_dir  \\\n",
       "0   4359951.0    1.0  20221214_125409_om_and_comp_6_1_and_6_3   \n",
       "1   5959954.0    1.0  20221214_125409_om_and_comp_6_1_and_6_3   \n",
       "2   7759946.0    1.0  20221214_125409_om_and_comp_6_1_and_6_3   \n",
       "3   9359945.0    1.0  20221214_125409_om_and_comp_6_1_and_6_3   \n",
       "4  10859943.0    1.0  20221214_125409_om_and_comp_6_1_and_6_3   \n",
       "\n",
       "                                      recording_file           din  \\\n",
       "0  20221214_125409_om_and_comp_6_1_top_1_base_2_v...  dio_ECU_Din1   \n",
       "1  20221214_125409_om_and_comp_6_1_top_1_base_2_v...  dio_ECU_Din1   \n",
       "2  20221214_125409_om_and_comp_6_1_top_1_base_2_v...  dio_ECU_Din1   \n",
       "3  20221214_125409_om_and_comp_6_1_top_1_base_2_v...  dio_ECU_Din1   \n",
       "4  20221214_125409_om_and_comp_6_1_top_1_base_2_v...  dio_ECU_Din1   \n",
       "\n",
       "   time_stamp_index                                         video_file  \\\n",
       "0         1408048.0  20221214_125409_om_and_comp_6_1_and_6_3.1.vide...   \n",
       "1         3008051.0  20221214_125409_om_and_comp_6_1_and_6_3.1.vide...   \n",
       "2         4808043.0  20221214_125409_om_and_comp_6_1_and_6_3.1.vide...   \n",
       "3         6408042.0  20221214_125409_om_and_comp_6_1_and_6_3.1.vide...   \n",
       "4         7908040.0  20221214_125409_om_and_comp_6_1_and_6_3.1.vide...   \n",
       "\n",
       "   video_frame  video_number             subject_info condition  \\\n",
       "0       1405.0           1.0  6_1_top_1_base_2_vs_6_3  rewarded   \n",
       "1       3002.0           1.0  6_1_top_1_base_2_vs_6_3  rewarded   \n",
       "2       4798.0           1.0  6_1_top_1_base_2_vs_6_3  rewarded   \n",
       "3       6395.0           1.0  6_1_top_1_base_2_vs_6_3  omission   \n",
       "4       7892.0           1.0  6_1_top_1_base_2_vs_6_3  rewarded   \n",
       "\n",
       "  competition_closeness Unnamed: 13  resampled_index all_subjects  \\\n",
       "0              rewarded         NaN          70402.0   [6.1, 6.3]   \n",
       "1              rewarded         NaN         150402.0   [6.1, 6.3]   \n",
       "2              rewarded         NaN         240402.0   [6.1, 6.3]   \n",
       "3              omission         NaN         320402.0   [6.1, 6.3]   \n",
       "4              rewarded         NaN         395402.0   [6.1, 6.3]   \n",
       "\n",
       "  current_subject trial_outcome  \n",
       "0             6.1      rewarded  \n",
       "1             6.1      rewarded  \n",
       "2             6.1      rewarded  \n",
       "3             6.1      omission  \n",
       "4             6.1      rewarded  "
      ]
     },
     "execution_count": 40,
     "metadata": {},
     "output_type": "execute_result"
    }
   ],
   "source": [
    "all_trials_df.head()"
   ]
  },
  {
   "cell_type": "code",
   "execution_count": 41,
   "metadata": {},
   "outputs": [
    {
     "data": {
      "text/plain": [
       "array(['rewarded', 'omission', 'win', 'lose'], dtype=object)"
      ]
     },
     "execution_count": 41,
     "metadata": {},
     "output_type": "execute_result"
    }
   ],
   "source": [
    "all_trials_df[\"trial_outcome\"].unique()"
   ]
  },
  {
   "cell_type": "code",
   "execution_count": null,
   "metadata": {},
   "outputs": [],
   "source": []
  },
  {
   "cell_type": "code",
   "execution_count": 42,
   "metadata": {},
   "outputs": [
    {
     "data": {
      "text/plain": [
       "dict_keys(['20221214_125409_om_and_comp_6_1_top_1_base_2_vs_6_3', '20221215_145401_comp_amd_om_6_1_top_4_base_3', '20230612_101430_standard_comp_to_training_D1_subj_1-4_t4b2L_box1_merged', '20230612_101430_standard_comp_to_training_D1_subj_1-3_t3b3L_box2_merged', '20230617_115521_standard_comp_to_omission_D1_subj_1-2_t2b2L_box2_merged', '20230617_115521_standard_comp_to_omission_D1_subj_1-1_t1b3L_box1_merged', '20230618_100636_standard_comp_to_omission_D2_subj_1_4_t4b3L_box1_merged', '20230618_100636_standard_comp_to_omission_D2_subj_1_1_t1b2L_box2_merged', '20230619_115321_standard_comp_to_omission_D3_subj_1-4_t3b3L_box2_merged', '20230620_114347_standard_comp_to_omission_D4_subj_1-1_t1b2L_box_2_merged', '20230620_114347_standard_comp_to_omission_D4_subj_1-2_t3b3L_box_1_merged', '20230621_111240_standard_comp_to_omission_D5_subj_1-4_t3b3L_box1_merged'])"
      ]
     },
     "execution_count": 42,
     "metadata": {},
     "output_type": "execute_result"
    }
   ],
   "source": [
    "recording_name_to_all_ch_lfp.keys()"
   ]
  },
  {
   "cell_type": "code",
   "execution_count": 43,
   "metadata": {
    "scrolled": true
   },
   "outputs": [
    {
     "data": {
      "text/html": [
       "<div>\n",
       "<style scoped>\n",
       "    .dataframe tbody tr th:only-of-type {\n",
       "        vertical-align: middle;\n",
       "    }\n",
       "\n",
       "    .dataframe tbody tr th {\n",
       "        vertical-align: top;\n",
       "    }\n",
       "\n",
       "    .dataframe thead th {\n",
       "        text-align: right;\n",
       "    }\n",
       "</style>\n",
       "<table border=\"1\" class=\"dataframe\">\n",
       "  <thead>\n",
       "    <tr style=\"text-align: right;\">\n",
       "      <th></th>\n",
       "      <th>Cohort</th>\n",
       "      <th>Subject</th>\n",
       "      <th>eib_mPFC</th>\n",
       "      <th>eib_vHPC</th>\n",
       "      <th>eib_BLA</th>\n",
       "      <th>eib_LH</th>\n",
       "      <th>eib_MD</th>\n",
       "      <th>spike_interface_mPFC</th>\n",
       "      <th>spike_interface_vHPC</th>\n",
       "      <th>spike_interface_BLA</th>\n",
       "      <th>spike_interface_LH</th>\n",
       "      <th>spike_interface_MD</th>\n",
       "    </tr>\n",
       "  </thead>\n",
       "  <tbody>\n",
       "    <tr>\n",
       "      <th>0</th>\n",
       "      <td>1</td>\n",
       "      <td>6.1</td>\n",
       "      <td>NaN</td>\n",
       "      <td>15</td>\n",
       "      <td>14</td>\n",
       "      <td>13</td>\n",
       "      <td>31</td>\n",
       "      <td>21.0</td>\n",
       "      <td>15.0</td>\n",
       "      <td>14.0</td>\n",
       "      <td>13.0</td>\n",
       "      <td>16.0</td>\n",
       "    </tr>\n",
       "    <tr>\n",
       "      <th>1</th>\n",
       "      <td>1</td>\n",
       "      <td>6.2</td>\n",
       "      <td>NaN</td>\n",
       "      <td>15</td>\n",
       "      <td>14</td>\n",
       "      <td>13</td>\n",
       "      <td>31</td>\n",
       "      <td>NaN</td>\n",
       "      <td>NaN</td>\n",
       "      <td>NaN</td>\n",
       "      <td>NaN</td>\n",
       "      <td>NaN</td>\n",
       "    </tr>\n",
       "    <tr>\n",
       "      <th>2</th>\n",
       "      <td>1</td>\n",
       "      <td>6.3</td>\n",
       "      <td>NaN</td>\n",
       "      <td>15</td>\n",
       "      <td>14</td>\n",
       "      <td>13</td>\n",
       "      <td>31</td>\n",
       "      <td>NaN</td>\n",
       "      <td>NaN</td>\n",
       "      <td>NaN</td>\n",
       "      <td>NaN</td>\n",
       "      <td>NaN</td>\n",
       "    </tr>\n",
       "    <tr>\n",
       "      <th>3</th>\n",
       "      <td>1</td>\n",
       "      <td>6.4</td>\n",
       "      <td>NaN</td>\n",
       "      <td>15</td>\n",
       "      <td>14</td>\n",
       "      <td>13</td>\n",
       "      <td>31</td>\n",
       "      <td>NaN</td>\n",
       "      <td>NaN</td>\n",
       "      <td>NaN</td>\n",
       "      <td>NaN</td>\n",
       "      <td>NaN</td>\n",
       "    </tr>\n",
       "    <tr>\n",
       "      <th>4</th>\n",
       "      <td>2</td>\n",
       "      <td>1.1</td>\n",
       "      <td>NaN</td>\n",
       "      <td>16</td>\n",
       "      <td>17</td>\n",
       "      <td>18</td>\n",
       "      <td>19</td>\n",
       "      <td>5.0</td>\n",
       "      <td>31.0</td>\n",
       "      <td>30.0</td>\n",
       "      <td>29.0</td>\n",
       "      <td>28.0</td>\n",
       "    </tr>\n",
       "    <tr>\n",
       "      <th>5</th>\n",
       "      <td>2</td>\n",
       "      <td>1.2</td>\n",
       "      <td>NaN</td>\n",
       "      <td>31</td>\n",
       "      <td>30</td>\n",
       "      <td>29</td>\n",
       "      <td>28</td>\n",
       "      <td>10.0</td>\n",
       "      <td>31.0</td>\n",
       "      <td>30.0</td>\n",
       "      <td>29.0</td>\n",
       "      <td>28.0</td>\n",
       "    </tr>\n",
       "    <tr>\n",
       "      <th>6</th>\n",
       "      <td>2</td>\n",
       "      <td>1.3</td>\n",
       "      <td>NaN</td>\n",
       "      <td>15</td>\n",
       "      <td>14</td>\n",
       "      <td>13</td>\n",
       "      <td>12</td>\n",
       "      <td>9.0</td>\n",
       "      <td>31.0</td>\n",
       "      <td>30.0</td>\n",
       "      <td>29.0</td>\n",
       "      <td>28.0</td>\n",
       "    </tr>\n",
       "    <tr>\n",
       "      <th>7</th>\n",
       "      <td>2</td>\n",
       "      <td>1.4</td>\n",
       "      <td>NaN</td>\n",
       "      <td>15</td>\n",
       "      <td>14</td>\n",
       "      <td>13</td>\n",
       "      <td>12</td>\n",
       "      <td>15.0</td>\n",
       "      <td>31.0</td>\n",
       "      <td>30.0</td>\n",
       "      <td>29.0</td>\n",
       "      <td>28.0</td>\n",
       "    </tr>\n",
       "  </tbody>\n",
       "</table>\n",
       "</div>"
      ],
      "text/plain": [
       "   Cohort Subject  eib_mPFC  eib_vHPC  eib_BLA  eib_LH  eib_MD  \\\n",
       "0       1     6.1       NaN        15       14      13      31   \n",
       "1       1     6.2       NaN        15       14      13      31   \n",
       "2       1     6.3       NaN        15       14      13      31   \n",
       "3       1     6.4       NaN        15       14      13      31   \n",
       "4       2     1.1       NaN        16       17      18      19   \n",
       "5       2     1.2       NaN        31       30      29      28   \n",
       "6       2     1.3       NaN        15       14      13      12   \n",
       "7       2     1.4       NaN        15       14      13      12   \n",
       "\n",
       "   spike_interface_mPFC  spike_interface_vHPC  spike_interface_BLA  \\\n",
       "0                  21.0                  15.0                 14.0   \n",
       "1                   NaN                   NaN                  NaN   \n",
       "2                   NaN                   NaN                  NaN   \n",
       "3                   NaN                   NaN                  NaN   \n",
       "4                   5.0                  31.0                 30.0   \n",
       "5                  10.0                  31.0                 30.0   \n",
       "6                   9.0                  31.0                 30.0   \n",
       "7                  15.0                  31.0                 30.0   \n",
       "\n",
       "   spike_interface_LH  spike_interface_MD  \n",
       "0                13.0                16.0  \n",
       "1                 NaN                 NaN  \n",
       "2                 NaN                 NaN  \n",
       "3                 NaN                 NaN  \n",
       "4                29.0                28.0  \n",
       "5                29.0                28.0  \n",
       "6                29.0                28.0  \n",
       "7                29.0                28.0  "
      ]
     },
     "execution_count": 43,
     "metadata": {},
     "output_type": "execute_result"
    }
   ],
   "source": [
    "CHANNEL_MAPPING_DF"
   ]
  },
  {
   "cell_type": "markdown",
   "metadata": {},
   "source": [
    "## Power Correlation Calculation"
   ]
  },
  {
   "cell_type": "code",
   "execution_count": 44,
   "metadata": {
    "scrolled": true
   },
   "outputs": [
    {
     "data": {
      "text/html": [
       "<div>\n",
       "<style scoped>\n",
       "    .dataframe tbody tr th:only-of-type {\n",
       "        vertical-align: middle;\n",
       "    }\n",
       "\n",
       "    .dataframe tbody tr th {\n",
       "        vertical-align: top;\n",
       "    }\n",
       "\n",
       "    .dataframe thead th {\n",
       "        text-align: right;\n",
       "    }\n",
       "</style>\n",
       "<table border=\"1\" class=\"dataframe\">\n",
       "  <thead>\n",
       "    <tr style=\"text-align: right;\">\n",
       "      <th></th>\n",
       "      <th>time</th>\n",
       "      <th>state</th>\n",
       "      <th>recording_dir</th>\n",
       "      <th>recording_file</th>\n",
       "      <th>din</th>\n",
       "      <th>time_stamp_index</th>\n",
       "      <th>video_file</th>\n",
       "      <th>video_frame</th>\n",
       "      <th>video_number</th>\n",
       "      <th>subject_info</th>\n",
       "      <th>condition</th>\n",
       "      <th>competition_closeness</th>\n",
       "      <th>Unnamed: 13</th>\n",
       "      <th>resampled_index</th>\n",
       "      <th>all_subjects</th>\n",
       "      <th>current_subject</th>\n",
       "      <th>trial_outcome</th>\n",
       "    </tr>\n",
       "  </thead>\n",
       "  <tbody>\n",
       "    <tr>\n",
       "      <th>0</th>\n",
       "      <td>4359951.0</td>\n",
       "      <td>1.0</td>\n",
       "      <td>20221214_125409_om_and_comp_6_1_and_6_3</td>\n",
       "      <td>20221214_125409_om_and_comp_6_1_top_1_base_2_v...</td>\n",
       "      <td>dio_ECU_Din1</td>\n",
       "      <td>1408048.0</td>\n",
       "      <td>20221214_125409_om_and_comp_6_1_and_6_3.1.vide...</td>\n",
       "      <td>1405.0</td>\n",
       "      <td>1.0</td>\n",
       "      <td>6_1_top_1_base_2_vs_6_3</td>\n",
       "      <td>rewarded</td>\n",
       "      <td>rewarded</td>\n",
       "      <td>NaN</td>\n",
       "      <td>70402.0</td>\n",
       "      <td>[6.1, 6.3]</td>\n",
       "      <td>6.1</td>\n",
       "      <td>rewarded</td>\n",
       "    </tr>\n",
       "    <tr>\n",
       "      <th>1</th>\n",
       "      <td>5959954.0</td>\n",
       "      <td>1.0</td>\n",
       "      <td>20221214_125409_om_and_comp_6_1_and_6_3</td>\n",
       "      <td>20221214_125409_om_and_comp_6_1_top_1_base_2_v...</td>\n",
       "      <td>dio_ECU_Din1</td>\n",
       "      <td>3008051.0</td>\n",
       "      <td>20221214_125409_om_and_comp_6_1_and_6_3.1.vide...</td>\n",
       "      <td>3002.0</td>\n",
       "      <td>1.0</td>\n",
       "      <td>6_1_top_1_base_2_vs_6_3</td>\n",
       "      <td>rewarded</td>\n",
       "      <td>rewarded</td>\n",
       "      <td>NaN</td>\n",
       "      <td>150402.0</td>\n",
       "      <td>[6.1, 6.3]</td>\n",
       "      <td>6.1</td>\n",
       "      <td>rewarded</td>\n",
       "    </tr>\n",
       "    <tr>\n",
       "      <th>2</th>\n",
       "      <td>7759946.0</td>\n",
       "      <td>1.0</td>\n",
       "      <td>20221214_125409_om_and_comp_6_1_and_6_3</td>\n",
       "      <td>20221214_125409_om_and_comp_6_1_top_1_base_2_v...</td>\n",
       "      <td>dio_ECU_Din1</td>\n",
       "      <td>4808043.0</td>\n",
       "      <td>20221214_125409_om_and_comp_6_1_and_6_3.1.vide...</td>\n",
       "      <td>4798.0</td>\n",
       "      <td>1.0</td>\n",
       "      <td>6_1_top_1_base_2_vs_6_3</td>\n",
       "      <td>rewarded</td>\n",
       "      <td>rewarded</td>\n",
       "      <td>NaN</td>\n",
       "      <td>240402.0</td>\n",
       "      <td>[6.1, 6.3]</td>\n",
       "      <td>6.1</td>\n",
       "      <td>rewarded</td>\n",
       "    </tr>\n",
       "    <tr>\n",
       "      <th>3</th>\n",
       "      <td>9359945.0</td>\n",
       "      <td>1.0</td>\n",
       "      <td>20221214_125409_om_and_comp_6_1_and_6_3</td>\n",
       "      <td>20221214_125409_om_and_comp_6_1_top_1_base_2_v...</td>\n",
       "      <td>dio_ECU_Din1</td>\n",
       "      <td>6408042.0</td>\n",
       "      <td>20221214_125409_om_and_comp_6_1_and_6_3.1.vide...</td>\n",
       "      <td>6395.0</td>\n",
       "      <td>1.0</td>\n",
       "      <td>6_1_top_1_base_2_vs_6_3</td>\n",
       "      <td>omission</td>\n",
       "      <td>omission</td>\n",
       "      <td>NaN</td>\n",
       "      <td>320402.0</td>\n",
       "      <td>[6.1, 6.3]</td>\n",
       "      <td>6.1</td>\n",
       "      <td>omission</td>\n",
       "    </tr>\n",
       "    <tr>\n",
       "      <th>4</th>\n",
       "      <td>10859943.0</td>\n",
       "      <td>1.0</td>\n",
       "      <td>20221214_125409_om_and_comp_6_1_and_6_3</td>\n",
       "      <td>20221214_125409_om_and_comp_6_1_top_1_base_2_v...</td>\n",
       "      <td>dio_ECU_Din1</td>\n",
       "      <td>7908040.0</td>\n",
       "      <td>20221214_125409_om_and_comp_6_1_and_6_3.1.vide...</td>\n",
       "      <td>7892.0</td>\n",
       "      <td>1.0</td>\n",
       "      <td>6_1_top_1_base_2_vs_6_3</td>\n",
       "      <td>rewarded</td>\n",
       "      <td>rewarded</td>\n",
       "      <td>NaN</td>\n",
       "      <td>395402.0</td>\n",
       "      <td>[6.1, 6.3]</td>\n",
       "      <td>6.1</td>\n",
       "      <td>rewarded</td>\n",
       "    </tr>\n",
       "  </tbody>\n",
       "</table>\n",
       "</div>"
      ],
      "text/plain": [
       "         time  state                            recording_dir  \\\n",
       "0   4359951.0    1.0  20221214_125409_om_and_comp_6_1_and_6_3   \n",
       "1   5959954.0    1.0  20221214_125409_om_and_comp_6_1_and_6_3   \n",
       "2   7759946.0    1.0  20221214_125409_om_and_comp_6_1_and_6_3   \n",
       "3   9359945.0    1.0  20221214_125409_om_and_comp_6_1_and_6_3   \n",
       "4  10859943.0    1.0  20221214_125409_om_and_comp_6_1_and_6_3   \n",
       "\n",
       "                                      recording_file           din  \\\n",
       "0  20221214_125409_om_and_comp_6_1_top_1_base_2_v...  dio_ECU_Din1   \n",
       "1  20221214_125409_om_and_comp_6_1_top_1_base_2_v...  dio_ECU_Din1   \n",
       "2  20221214_125409_om_and_comp_6_1_top_1_base_2_v...  dio_ECU_Din1   \n",
       "3  20221214_125409_om_and_comp_6_1_top_1_base_2_v...  dio_ECU_Din1   \n",
       "4  20221214_125409_om_and_comp_6_1_top_1_base_2_v...  dio_ECU_Din1   \n",
       "\n",
       "   time_stamp_index                                         video_file  \\\n",
       "0         1408048.0  20221214_125409_om_and_comp_6_1_and_6_3.1.vide...   \n",
       "1         3008051.0  20221214_125409_om_and_comp_6_1_and_6_3.1.vide...   \n",
       "2         4808043.0  20221214_125409_om_and_comp_6_1_and_6_3.1.vide...   \n",
       "3         6408042.0  20221214_125409_om_and_comp_6_1_and_6_3.1.vide...   \n",
       "4         7908040.0  20221214_125409_om_and_comp_6_1_and_6_3.1.vide...   \n",
       "\n",
       "   video_frame  video_number             subject_info condition  \\\n",
       "0       1405.0           1.0  6_1_top_1_base_2_vs_6_3  rewarded   \n",
       "1       3002.0           1.0  6_1_top_1_base_2_vs_6_3  rewarded   \n",
       "2       4798.0           1.0  6_1_top_1_base_2_vs_6_3  rewarded   \n",
       "3       6395.0           1.0  6_1_top_1_base_2_vs_6_3  omission   \n",
       "4       7892.0           1.0  6_1_top_1_base_2_vs_6_3  rewarded   \n",
       "\n",
       "  competition_closeness Unnamed: 13  resampled_index all_subjects  \\\n",
       "0              rewarded         NaN          70402.0   [6.1, 6.3]   \n",
       "1              rewarded         NaN         150402.0   [6.1, 6.3]   \n",
       "2              rewarded         NaN         240402.0   [6.1, 6.3]   \n",
       "3              omission         NaN         320402.0   [6.1, 6.3]   \n",
       "4              rewarded         NaN         395402.0   [6.1, 6.3]   \n",
       "\n",
       "  current_subject trial_outcome  \n",
       "0             6.1      rewarded  \n",
       "1             6.1      rewarded  \n",
       "2             6.1      rewarded  \n",
       "3             6.1      omission  \n",
       "4             6.1      rewarded  "
      ]
     },
     "execution_count": 44,
     "metadata": {},
     "output_type": "execute_result"
    }
   ],
   "source": [
    "all_trials_df.head()"
   ]
  },
  {
   "cell_type": "markdown",
   "metadata": {},
   "source": [
    "- Adding all the brain region to ch information"
   ]
  },
  {
   "cell_type": "code",
   "execution_count": 45,
   "metadata": {},
   "outputs": [],
   "source": [
    "channel_map_and_all_trials_df = all_trials_df.merge(CHANNEL_MAPPING_DF, left_on=\"current_subject\", right_on=\"Subject\", how=\"left\")"
   ]
  },
  {
   "cell_type": "markdown",
   "metadata": {},
   "source": [
    "- Linking up all LFP calculations with all the trials"
   ]
  },
  {
   "cell_type": "code",
   "execution_count": 46,
   "metadata": {},
   "outputs": [],
   "source": [
    "channel_map_and_all_trials_df[\"all_ch_lfp\"] = channel_map_and_all_trials_df[\"recording_file\"].map(recording_name_to_all_ch_lfp)"
   ]
  },
  {
   "cell_type": "code",
   "execution_count": 47,
   "metadata": {},
   "outputs": [
    {
     "data": {
      "text/html": [
       "<div>\n",
       "<style scoped>\n",
       "    .dataframe tbody tr th:only-of-type {\n",
       "        vertical-align: middle;\n",
       "    }\n",
       "\n",
       "    .dataframe tbody tr th {\n",
       "        vertical-align: top;\n",
       "    }\n",
       "\n",
       "    .dataframe thead th {\n",
       "        text-align: right;\n",
       "    }\n",
       "</style>\n",
       "<table border=\"1\" class=\"dataframe\">\n",
       "  <thead>\n",
       "    <tr style=\"text-align: right;\">\n",
       "      <th></th>\n",
       "      <th>time</th>\n",
       "      <th>state</th>\n",
       "      <th>recording_dir</th>\n",
       "      <th>recording_file</th>\n",
       "      <th>din</th>\n",
       "      <th>time_stamp_index</th>\n",
       "      <th>video_file</th>\n",
       "      <th>video_frame</th>\n",
       "      <th>video_number</th>\n",
       "      <th>subject_info</th>\n",
       "      <th>...</th>\n",
       "      <th>eib_vHPC</th>\n",
       "      <th>eib_BLA</th>\n",
       "      <th>eib_LH</th>\n",
       "      <th>eib_MD</th>\n",
       "      <th>spike_interface_mPFC</th>\n",
       "      <th>spike_interface_vHPC</th>\n",
       "      <th>spike_interface_BLA</th>\n",
       "      <th>spike_interface_LH</th>\n",
       "      <th>spike_interface_MD</th>\n",
       "      <th>all_ch_lfp</th>\n",
       "    </tr>\n",
       "  </thead>\n",
       "  <tbody>\n",
       "    <tr>\n",
       "      <th>0</th>\n",
       "      <td>4359951.0</td>\n",
       "      <td>1.0</td>\n",
       "      <td>20221214_125409_om_and_comp_6_1_and_6_3</td>\n",
       "      <td>20221214_125409_om_and_comp_6_1_top_1_base_2_v...</td>\n",
       "      <td>dio_ECU_Din1</td>\n",
       "      <td>1408048.0</td>\n",
       "      <td>20221214_125409_om_and_comp_6_1_and_6_3.1.vide...</td>\n",
       "      <td>1405.0</td>\n",
       "      <td>1.0</td>\n",
       "      <td>6_1_top_1_base_2_vs_6_3</td>\n",
       "      <td>...</td>\n",
       "      <td>15</td>\n",
       "      <td>14</td>\n",
       "      <td>13</td>\n",
       "      <td>31</td>\n",
       "      <td>21.0</td>\n",
       "      <td>15.0</td>\n",
       "      <td>14.0</td>\n",
       "      <td>13.0</td>\n",
       "      <td>16.0</td>\n",
       "      <td>ZScoreRecording: 32 channels - 1 segments - 1....</td>\n",
       "    </tr>\n",
       "    <tr>\n",
       "      <th>1</th>\n",
       "      <td>5959954.0</td>\n",
       "      <td>1.0</td>\n",
       "      <td>20221214_125409_om_and_comp_6_1_and_6_3</td>\n",
       "      <td>20221214_125409_om_and_comp_6_1_top_1_base_2_v...</td>\n",
       "      <td>dio_ECU_Din1</td>\n",
       "      <td>3008051.0</td>\n",
       "      <td>20221214_125409_om_and_comp_6_1_and_6_3.1.vide...</td>\n",
       "      <td>3002.0</td>\n",
       "      <td>1.0</td>\n",
       "      <td>6_1_top_1_base_2_vs_6_3</td>\n",
       "      <td>...</td>\n",
       "      <td>15</td>\n",
       "      <td>14</td>\n",
       "      <td>13</td>\n",
       "      <td>31</td>\n",
       "      <td>21.0</td>\n",
       "      <td>15.0</td>\n",
       "      <td>14.0</td>\n",
       "      <td>13.0</td>\n",
       "      <td>16.0</td>\n",
       "      <td>ZScoreRecording: 32 channels - 1 segments - 1....</td>\n",
       "    </tr>\n",
       "    <tr>\n",
       "      <th>2</th>\n",
       "      <td>7759946.0</td>\n",
       "      <td>1.0</td>\n",
       "      <td>20221214_125409_om_and_comp_6_1_and_6_3</td>\n",
       "      <td>20221214_125409_om_and_comp_6_1_top_1_base_2_v...</td>\n",
       "      <td>dio_ECU_Din1</td>\n",
       "      <td>4808043.0</td>\n",
       "      <td>20221214_125409_om_and_comp_6_1_and_6_3.1.vide...</td>\n",
       "      <td>4798.0</td>\n",
       "      <td>1.0</td>\n",
       "      <td>6_1_top_1_base_2_vs_6_3</td>\n",
       "      <td>...</td>\n",
       "      <td>15</td>\n",
       "      <td>14</td>\n",
       "      <td>13</td>\n",
       "      <td>31</td>\n",
       "      <td>21.0</td>\n",
       "      <td>15.0</td>\n",
       "      <td>14.0</td>\n",
       "      <td>13.0</td>\n",
       "      <td>16.0</td>\n",
       "      <td>ZScoreRecording: 32 channels - 1 segments - 1....</td>\n",
       "    </tr>\n",
       "    <tr>\n",
       "      <th>3</th>\n",
       "      <td>9359945.0</td>\n",
       "      <td>1.0</td>\n",
       "      <td>20221214_125409_om_and_comp_6_1_and_6_3</td>\n",
       "      <td>20221214_125409_om_and_comp_6_1_top_1_base_2_v...</td>\n",
       "      <td>dio_ECU_Din1</td>\n",
       "      <td>6408042.0</td>\n",
       "      <td>20221214_125409_om_and_comp_6_1_and_6_3.1.vide...</td>\n",
       "      <td>6395.0</td>\n",
       "      <td>1.0</td>\n",
       "      <td>6_1_top_1_base_2_vs_6_3</td>\n",
       "      <td>...</td>\n",
       "      <td>15</td>\n",
       "      <td>14</td>\n",
       "      <td>13</td>\n",
       "      <td>31</td>\n",
       "      <td>21.0</td>\n",
       "      <td>15.0</td>\n",
       "      <td>14.0</td>\n",
       "      <td>13.0</td>\n",
       "      <td>16.0</td>\n",
       "      <td>ZScoreRecording: 32 channels - 1 segments - 1....</td>\n",
       "    </tr>\n",
       "    <tr>\n",
       "      <th>4</th>\n",
       "      <td>10859943.0</td>\n",
       "      <td>1.0</td>\n",
       "      <td>20221214_125409_om_and_comp_6_1_and_6_3</td>\n",
       "      <td>20221214_125409_om_and_comp_6_1_top_1_base_2_v...</td>\n",
       "      <td>dio_ECU_Din1</td>\n",
       "      <td>7908040.0</td>\n",
       "      <td>20221214_125409_om_and_comp_6_1_and_6_3.1.vide...</td>\n",
       "      <td>7892.0</td>\n",
       "      <td>1.0</td>\n",
       "      <td>6_1_top_1_base_2_vs_6_3</td>\n",
       "      <td>...</td>\n",
       "      <td>15</td>\n",
       "      <td>14</td>\n",
       "      <td>13</td>\n",
       "      <td>31</td>\n",
       "      <td>21.0</td>\n",
       "      <td>15.0</td>\n",
       "      <td>14.0</td>\n",
       "      <td>13.0</td>\n",
       "      <td>16.0</td>\n",
       "      <td>ZScoreRecording: 32 channels - 1 segments - 1....</td>\n",
       "    </tr>\n",
       "    <tr>\n",
       "      <th>...</th>\n",
       "      <td>...</td>\n",
       "      <td>...</td>\n",
       "      <td>...</td>\n",
       "      <td>...</td>\n",
       "      <td>...</td>\n",
       "      <td>...</td>\n",
       "      <td>...</td>\n",
       "      <td>...</td>\n",
       "      <td>...</td>\n",
       "      <td>...</td>\n",
       "      <td>...</td>\n",
       "      <td>...</td>\n",
       "      <td>...</td>\n",
       "      <td>...</td>\n",
       "      <td>...</td>\n",
       "      <td>...</td>\n",
       "      <td>...</td>\n",
       "      <td>...</td>\n",
       "      <td>...</td>\n",
       "      <td>...</td>\n",
       "      <td>...</td>\n",
       "    </tr>\n",
       "    <tr>\n",
       "      <th>632</th>\n",
       "      <td>29281401.0</td>\n",
       "      <td>1.0</td>\n",
       "      <td>20230621_111240_standard_comp_to_omission_D5_s...</td>\n",
       "      <td>20230621_111240_standard_comp_to_omission_D5_s...</td>\n",
       "      <td>dio_ECU_Din1</td>\n",
       "      <td>26088357.0</td>\n",
       "      <td>20230621_111240_standard_comp_to_omission_D5_s...</td>\n",
       "      <td>26040.0</td>\n",
       "      <td>2.0</td>\n",
       "      <td>1-4_t3b3L_box1</td>\n",
       "      <td>...</td>\n",
       "      <td>15</td>\n",
       "      <td>14</td>\n",
       "      <td>13</td>\n",
       "      <td>12</td>\n",
       "      <td>15.0</td>\n",
       "      <td>31.0</td>\n",
       "      <td>30.0</td>\n",
       "      <td>29.0</td>\n",
       "      <td>28.0</td>\n",
       "      <td>ZScoreRecording: 32 channels - 1 segments - 1....</td>\n",
       "    </tr>\n",
       "    <tr>\n",
       "      <th>633</th>\n",
       "      <td>30881425.0</td>\n",
       "      <td>1.0</td>\n",
       "      <td>20230621_111240_standard_comp_to_omission_D5_s...</td>\n",
       "      <td>20230621_111240_standard_comp_to_omission_D5_s...</td>\n",
       "      <td>dio_ECU_Din1</td>\n",
       "      <td>27688381.0</td>\n",
       "      <td>20230621_111240_standard_comp_to_omission_D5_s...</td>\n",
       "      <td>27636.0</td>\n",
       "      <td>2.0</td>\n",
       "      <td>1-4_t3b3L_box1</td>\n",
       "      <td>...</td>\n",
       "      <td>15</td>\n",
       "      <td>14</td>\n",
       "      <td>13</td>\n",
       "      <td>12</td>\n",
       "      <td>15.0</td>\n",
       "      <td>31.0</td>\n",
       "      <td>30.0</td>\n",
       "      <td>29.0</td>\n",
       "      <td>28.0</td>\n",
       "      <td>ZScoreRecording: 32 channels - 1 segments - 1....</td>\n",
       "    </tr>\n",
       "    <tr>\n",
       "      <th>634</th>\n",
       "      <td>32281440.0</td>\n",
       "      <td>1.0</td>\n",
       "      <td>20230621_111240_standard_comp_to_omission_D5_s...</td>\n",
       "      <td>20230621_111240_standard_comp_to_omission_D5_s...</td>\n",
       "      <td>dio_ECU_Din1</td>\n",
       "      <td>29088396.0</td>\n",
       "      <td>20230621_111240_standard_comp_to_omission_D5_s...</td>\n",
       "      <td>29033.0</td>\n",
       "      <td>2.0</td>\n",
       "      <td>1-4_t3b3L_box1</td>\n",
       "      <td>...</td>\n",
       "      <td>15</td>\n",
       "      <td>14</td>\n",
       "      <td>13</td>\n",
       "      <td>12</td>\n",
       "      <td>15.0</td>\n",
       "      <td>31.0</td>\n",
       "      <td>30.0</td>\n",
       "      <td>29.0</td>\n",
       "      <td>28.0</td>\n",
       "      <td>ZScoreRecording: 32 channels - 1 segments - 1....</td>\n",
       "    </tr>\n",
       "    <tr>\n",
       "      <th>635</th>\n",
       "      <td>34481464.0</td>\n",
       "      <td>1.0</td>\n",
       "      <td>20230621_111240_standard_comp_to_omission_D5_s...</td>\n",
       "      <td>20230621_111240_standard_comp_to_omission_D5_s...</td>\n",
       "      <td>dio_ECU_Din1</td>\n",
       "      <td>31288420.0</td>\n",
       "      <td>20230621_111240_standard_comp_to_omission_D5_s...</td>\n",
       "      <td>31230.0</td>\n",
       "      <td>2.0</td>\n",
       "      <td>1-4_t3b3L_box1</td>\n",
       "      <td>...</td>\n",
       "      <td>15</td>\n",
       "      <td>14</td>\n",
       "      <td>13</td>\n",
       "      <td>12</td>\n",
       "      <td>15.0</td>\n",
       "      <td>31.0</td>\n",
       "      <td>30.0</td>\n",
       "      <td>29.0</td>\n",
       "      <td>28.0</td>\n",
       "      <td>ZScoreRecording: 32 channels - 1 segments - 1....</td>\n",
       "    </tr>\n",
       "    <tr>\n",
       "      <th>636</th>\n",
       "      <td>35681479.0</td>\n",
       "      <td>1.0</td>\n",
       "      <td>20230621_111240_standard_comp_to_omission_D5_s...</td>\n",
       "      <td>20230621_111240_standard_comp_to_omission_D5_s...</td>\n",
       "      <td>dio_ECU_Din1</td>\n",
       "      <td>32488435.0</td>\n",
       "      <td>20230621_111240_standard_comp_to_omission_D5_s...</td>\n",
       "      <td>32427.0</td>\n",
       "      <td>2.0</td>\n",
       "      <td>1-4_t3b3L_box1</td>\n",
       "      <td>...</td>\n",
       "      <td>15</td>\n",
       "      <td>14</td>\n",
       "      <td>13</td>\n",
       "      <td>12</td>\n",
       "      <td>15.0</td>\n",
       "      <td>31.0</td>\n",
       "      <td>30.0</td>\n",
       "      <td>29.0</td>\n",
       "      <td>28.0</td>\n",
       "      <td>ZScoreRecording: 32 channels - 1 segments - 1....</td>\n",
       "    </tr>\n",
       "  </tbody>\n",
       "</table>\n",
       "<p>637 rows × 30 columns</p>\n",
       "</div>"
      ],
      "text/plain": [
       "           time  state                                      recording_dir  \\\n",
       "0     4359951.0    1.0            20221214_125409_om_and_comp_6_1_and_6_3   \n",
       "1     5959954.0    1.0            20221214_125409_om_and_comp_6_1_and_6_3   \n",
       "2     7759946.0    1.0            20221214_125409_om_and_comp_6_1_and_6_3   \n",
       "3     9359945.0    1.0            20221214_125409_om_and_comp_6_1_and_6_3   \n",
       "4    10859943.0    1.0            20221214_125409_om_and_comp_6_1_and_6_3   \n",
       "..          ...    ...                                                ...   \n",
       "632  29281401.0    1.0  20230621_111240_standard_comp_to_omission_D5_s...   \n",
       "633  30881425.0    1.0  20230621_111240_standard_comp_to_omission_D5_s...   \n",
       "634  32281440.0    1.0  20230621_111240_standard_comp_to_omission_D5_s...   \n",
       "635  34481464.0    1.0  20230621_111240_standard_comp_to_omission_D5_s...   \n",
       "636  35681479.0    1.0  20230621_111240_standard_comp_to_omission_D5_s...   \n",
       "\n",
       "                                        recording_file           din  \\\n",
       "0    20221214_125409_om_and_comp_6_1_top_1_base_2_v...  dio_ECU_Din1   \n",
       "1    20221214_125409_om_and_comp_6_1_top_1_base_2_v...  dio_ECU_Din1   \n",
       "2    20221214_125409_om_and_comp_6_1_top_1_base_2_v...  dio_ECU_Din1   \n",
       "3    20221214_125409_om_and_comp_6_1_top_1_base_2_v...  dio_ECU_Din1   \n",
       "4    20221214_125409_om_and_comp_6_1_top_1_base_2_v...  dio_ECU_Din1   \n",
       "..                                                 ...           ...   \n",
       "632  20230621_111240_standard_comp_to_omission_D5_s...  dio_ECU_Din1   \n",
       "633  20230621_111240_standard_comp_to_omission_D5_s...  dio_ECU_Din1   \n",
       "634  20230621_111240_standard_comp_to_omission_D5_s...  dio_ECU_Din1   \n",
       "635  20230621_111240_standard_comp_to_omission_D5_s...  dio_ECU_Din1   \n",
       "636  20230621_111240_standard_comp_to_omission_D5_s...  dio_ECU_Din1   \n",
       "\n",
       "     time_stamp_index                                         video_file  \\\n",
       "0           1408048.0  20221214_125409_om_and_comp_6_1_and_6_3.1.vide...   \n",
       "1           3008051.0  20221214_125409_om_and_comp_6_1_and_6_3.1.vide...   \n",
       "2           4808043.0  20221214_125409_om_and_comp_6_1_and_6_3.1.vide...   \n",
       "3           6408042.0  20221214_125409_om_and_comp_6_1_and_6_3.1.vide...   \n",
       "4           7908040.0  20221214_125409_om_and_comp_6_1_and_6_3.1.vide...   \n",
       "..                ...                                                ...   \n",
       "632        26088357.0  20230621_111240_standard_comp_to_omission_D5_s...   \n",
       "633        27688381.0  20230621_111240_standard_comp_to_omission_D5_s...   \n",
       "634        29088396.0  20230621_111240_standard_comp_to_omission_D5_s...   \n",
       "635        31288420.0  20230621_111240_standard_comp_to_omission_D5_s...   \n",
       "636        32488435.0  20230621_111240_standard_comp_to_omission_D5_s...   \n",
       "\n",
       "     video_frame  video_number             subject_info  ... eib_vHPC eib_BLA  \\\n",
       "0         1405.0           1.0  6_1_top_1_base_2_vs_6_3  ...       15      14   \n",
       "1         3002.0           1.0  6_1_top_1_base_2_vs_6_3  ...       15      14   \n",
       "2         4798.0           1.0  6_1_top_1_base_2_vs_6_3  ...       15      14   \n",
       "3         6395.0           1.0  6_1_top_1_base_2_vs_6_3  ...       15      14   \n",
       "4         7892.0           1.0  6_1_top_1_base_2_vs_6_3  ...       15      14   \n",
       "..           ...           ...                      ...  ...      ...     ...   \n",
       "632      26040.0           2.0           1-4_t3b3L_box1  ...       15      14   \n",
       "633      27636.0           2.0           1-4_t3b3L_box1  ...       15      14   \n",
       "634      29033.0           2.0           1-4_t3b3L_box1  ...       15      14   \n",
       "635      31230.0           2.0           1-4_t3b3L_box1  ...       15      14   \n",
       "636      32427.0           2.0           1-4_t3b3L_box1  ...       15      14   \n",
       "\n",
       "    eib_LH  eib_MD spike_interface_mPFC spike_interface_vHPC  \\\n",
       "0       13      31                 21.0                 15.0   \n",
       "1       13      31                 21.0                 15.0   \n",
       "2       13      31                 21.0                 15.0   \n",
       "3       13      31                 21.0                 15.0   \n",
       "4       13      31                 21.0                 15.0   \n",
       "..     ...     ...                  ...                  ...   \n",
       "632     13      12                 15.0                 31.0   \n",
       "633     13      12                 15.0                 31.0   \n",
       "634     13      12                 15.0                 31.0   \n",
       "635     13      12                 15.0                 31.0   \n",
       "636     13      12                 15.0                 31.0   \n",
       "\n",
       "    spike_interface_BLA  spike_interface_LH spike_interface_MD  \\\n",
       "0                  14.0                13.0               16.0   \n",
       "1                  14.0                13.0               16.0   \n",
       "2                  14.0                13.0               16.0   \n",
       "3                  14.0                13.0               16.0   \n",
       "4                  14.0                13.0               16.0   \n",
       "..                  ...                 ...                ...   \n",
       "632                30.0                29.0               28.0   \n",
       "633                30.0                29.0               28.0   \n",
       "634                30.0                29.0               28.0   \n",
       "635                30.0                29.0               28.0   \n",
       "636                30.0                29.0               28.0   \n",
       "\n",
       "                                            all_ch_lfp  \n",
       "0    ZScoreRecording: 32 channels - 1 segments - 1....  \n",
       "1    ZScoreRecording: 32 channels - 1 segments - 1....  \n",
       "2    ZScoreRecording: 32 channels - 1 segments - 1....  \n",
       "3    ZScoreRecording: 32 channels - 1 segments - 1....  \n",
       "4    ZScoreRecording: 32 channels - 1 segments - 1....  \n",
       "..                                                 ...  \n",
       "632  ZScoreRecording: 32 channels - 1 segments - 1....  \n",
       "633  ZScoreRecording: 32 channels - 1 segments - 1....  \n",
       "634  ZScoreRecording: 32 channels - 1 segments - 1....  \n",
       "635  ZScoreRecording: 32 channels - 1 segments - 1....  \n",
       "636  ZScoreRecording: 32 channels - 1 segments - 1....  \n",
       "\n",
       "[637 rows x 30 columns]"
      ]
     },
     "execution_count": 47,
     "metadata": {},
     "output_type": "execute_result"
    }
   ],
   "source": [
    "channel_map_and_all_trials_df"
   ]
  },
  {
   "cell_type": "markdown",
   "metadata": {},
   "source": [
    "- Getting the LFP for trial"
   ]
  },
  {
   "cell_type": "code",
   "execution_count": 48,
   "metadata": {},
   "outputs": [],
   "source": [
    "channel_map_and_all_trials_df[\"resampled_index\"] = channel_map_and_all_trials_df[\"resampled_index\"].astype(int)"
   ]
  },
  {
   "cell_type": "code",
   "execution_count": 49,
   "metadata": {},
   "outputs": [],
   "source": [
    "trial_channel_map_and_all_trials_df = channel_map_and_all_trials_df.copy()\n",
    "trial_channel_map_and_all_trials_df[\"trial_or_baseline\"] = \"trial\"\n",
    "trial_channel_map_and_all_trials_df[\"trial_or_baseline_entire_lfp_index\"] = trial_channel_map_and_all_trials_df[\"resampled_index\"].apply(lambda x: (x, x+RESAMPLE_RATE*TRIAL_DURATION,))\n",
    "\n",
    "\n",
    "baseline_channel_map_and_all_trials_df = channel_map_and_all_trials_df.copy()\n",
    "baseline_channel_map_and_all_trials_df[\"trial_or_baseline\"] = \"baseline\"\n",
    "baseline_channel_map_and_all_trials_df[\"trial_or_baseline_entire_lfp_index\"] = baseline_channel_map_and_all_trials_df[\"resampled_index\"].apply(lambda x: (x-RESAMPLE_RATE*TRIAL_DURATION, x))"
   ]
  },
  {
   "cell_type": "code",
   "execution_count": 50,
   "metadata": {},
   "outputs": [],
   "source": [
    "channel_map_and_all_trials_df = pd.concat([trial_channel_map_and_all_trials_df, baseline_channel_map_and_all_trials_df])"
   ]
  },
  {
   "cell_type": "code",
   "execution_count": 51,
   "metadata": {},
   "outputs": [
    {
     "data": {
      "text/plain": [
       "0      (70402, 80402)\n",
       "1    (150402, 160402)\n",
       "2    (240402, 250402)\n",
       "3    (320402, 330402)\n",
       "4    (395402, 405402)\n",
       "Name: trial_or_baseline_entire_lfp_index, dtype: object"
      ]
     },
     "execution_count": 51,
     "metadata": {},
     "output_type": "execute_result"
    }
   ],
   "source": [
    "channel_map_and_all_trials_df[\"trial_or_baseline_entire_lfp_index\"].head()"
   ]
  },
  {
   "cell_type": "code",
   "execution_count": 52,
   "metadata": {},
   "outputs": [],
   "source": [
    "channel_columns = sorted([col for col in channel_map_and_all_trials_df.columns if \"spike\" in col])"
   ]
  },
  {
   "cell_type": "code",
   "execution_count": 53,
   "metadata": {},
   "outputs": [
    {
     "data": {
      "text/plain": [
       "['spike_interface_BLA',\n",
       " 'spike_interface_LH',\n",
       " 'spike_interface_MD',\n",
       " 'spike_interface_mPFC',\n",
       " 'spike_interface_vHPC']"
      ]
     },
     "execution_count": 53,
     "metadata": {},
     "output_type": "execute_result"
    }
   ],
   "source": [
    "channel_columns"
   ]
  },
  {
   "cell_type": "code",
   "execution_count": null,
   "metadata": {},
   "outputs": [
    {
     "name": "stdout",
     "output_type": "stream",
     "text": [
      "spike_interface_BLA\n",
      "spike_interface_LH\n"
     ]
    }
   ],
   "source": [
    "for col in channel_columns:\n",
    "    print(col)\n",
    "    channel_map_and_all_trials_df[\"{}_trace\".format(col.strip(\"spike_interface\").strip(\"_\"))] = channel_map_and_all_trials_df.apply(lambda x: \n",
    "x[\"all_ch_lfp\"].get_traces(channel_ids=[str(int(x[col]))], start_frame=x[\"trial_or_baseline_entire_lfp_index\"][0], end_frame=x[\"trial_or_baseline_entire_lfp_index\"][-1] ).T[0][:RESAMPLE_RATE*TRIAL_DURATION], axis=1)"
   ]
  },
  {
   "cell_type": "code",
   "execution_count": null,
   "metadata": {},
   "outputs": [],
   "source": [
    "trace_columns = [col for col in channel_map_and_all_trials_df.columns if \"trace\" in col]"
   ]
  },
  {
   "cell_type": "code",
   "execution_count": null,
   "metadata": {},
   "outputs": [],
   "source": [
    "trace_columns"
   ]
  },
  {
   "cell_type": "code",
   "execution_count": null,
   "metadata": {},
   "outputs": [],
   "source": [
    "channel_map_and_all_trials_df[\"BLA_trace\"].iloc[0].shape"
   ]
  },
  {
   "cell_type": "code",
   "execution_count": null,
   "metadata": {},
   "outputs": [],
   "source": [
    "low_freq = 4\n",
    "high_freq = 12"
   ]
  },
  {
   "cell_type": "code",
   "execution_count": null,
   "metadata": {},
   "outputs": [],
   "source": [
    "for region in trace_columns:\n",
    "    \n",
    "    region_base_name = \"{}\".format(region.strip(\"trace\").strip(\"_\"))\n",
    "    print(region_base_name)\n",
    "    try:\n",
    "        multitaper_col = \"{}_multitaper\".format(region_base_name)\n",
    "        channel_map_and_all_trials_df[multitaper_col] = channel_map_and_all_trials_df[region].apply(lambda x: Multitaper(time_series=x, sampling_frequency=RESAMPLE_RATE))\n",
    "    \n",
    "        connectivity_col = \"{}_connectivity\".format(region_base_name)\n",
    "        channel_map_and_all_trials_df[connectivity_col] = channel_map_and_all_trials_df[multitaper_col].apply(lambda x: Connectivity.from_multitaper(x))\n",
    "        \n",
    "        channel_map_and_all_trials_df[\"{}_frequencies\".format(region_base_name)] = channel_map_and_all_trials_df[connectivity_col].apply(lambda x: x.frequencies)\n",
    "\n",
    "        channel_map_and_all_trials_df[\"{}_power\".format(region_base_name)] = channel_map_and_all_trials_df[connectivity_col].apply(lambda x: x.power().squeeze())\n",
    "\n",
    "        channel_map_and_all_trials_df[\"{}_averaged_theta_power\".format(region_base_name)] = channel_map_and_all_trials_df[\"{}_power\".format(region_base_name)].apply(lambda x: np.mean(x[low_freq*10:high_freq*10+1]))\n",
    "\n",
    "    except Exception as e: \n",
    "        print(e)"
   ]
  },
  {
   "cell_type": "code",
   "execution_count": null,
   "metadata": {},
   "outputs": [],
   "source": [
    "trace_columns = [col for col in channel_map_and_all_trials_df.columns if \"averaged_theta\" in col]"
   ]
  },
  {
   "cell_type": "code",
   "execution_count": null,
   "metadata": {},
   "outputs": [],
   "source": [
    "brain_region_pairs = generate_pairs(trace_columns)"
   ]
  },
  {
   "cell_type": "code",
   "execution_count": null,
   "metadata": {
    "scrolled": true
   },
   "outputs": [],
   "source": [
    "brain_region_pairs"
   ]
  },
  {
   "cell_type": "code",
   "execution_count": null,
   "metadata": {},
   "outputs": [],
   "source": []
  },
  {
   "cell_type": "code",
   "execution_count": null,
   "metadata": {
    "scrolled": true
   },
   "outputs": [],
   "source": [
    "channel_map_and_all_trials_df[\"trial_outcome\"]"
   ]
  },
  {
   "cell_type": "code",
   "execution_count": null,
   "metadata": {},
   "outputs": [],
   "source": [
    "channel_map_and_all_trials_df[\"trial_outcome\"]"
   ]
  },
  {
   "cell_type": "code",
   "execution_count": null,
   "metadata": {},
   "outputs": [],
   "source": [
    "channel_map_and_all_trials_df[\"outcome_and_trial_or_baseline\"] = channel_map_and_all_trials_df.apply(lambda x: \"_\".join([x[\"trial_outcome\"], x[\"trial_or_baseline\"]]), axis=1)"
   ]
  },
  {
   "cell_type": "code",
   "execution_count": null,
   "metadata": {
    "scrolled": true
   },
   "outputs": [],
   "source": [
    "for region_1, region_2 in brain_region_pairs:\n",
    "    region_1_basename = region_1.split(\"_\")[0]\n",
    "    region_2_basename = region_2.split(\"_\")[0]\n",
    "    \n",
    "    x = channel_map_and_all_trials_df[region_1]\n",
    "    y = channel_map_and_all_trials_df[region_2]\n",
    "    \n",
    "    # Perform linear regression to get the slope, intercept and r-value (correlation coefficient)\n",
    "    slope, intercept, r_value, p_value, std_err = linregress(x, y)\n",
    "    \n",
    "    # Create a line of best fit using the slope and intercept\n",
    "    line = slope * x + intercept\n",
    "    \n",
    "    # Create scatter plot\n",
    "    sns.scatterplot(x=x, y=y, data=channel_map_and_all_trials_df, hue='outcome_and_trial_or_baseline', palette=BASELINE_OUTCOME_TO_COLOR)\n",
    "    \n",
    "    # Plot line of best fit\n",
    "    plt.plot(x, line, color='red')\n",
    "    \n",
    "    # Add R² value to the plot\n",
    "    plt.text(0.1, 0.9, f'R² = {r_value**2:.2f}', transform=plt.gca().transAxes)\n",
    "    \n",
    "    # Add labels and legend\n",
    "    plt.title(\"Power Correlation of Z-scored LFP: {} and {}\".format(region_2_basename, region_1_basename))\n",
    "    plt.xlabel('{} Theta Power of Z-scored LFP'.format(region_1_basename))\n",
    "    plt.ylabel('{} Theta Power of Z-scored LFP'.format(region_2_basename))\n",
    "    plt.legend(loc=\"lower right\")\n",
    "    plt.savefig(\"./proc/power_correlation/{}_{}_power_correlation_of_zscored_lfp.png\".format(region_1_basename, region_2_basename))\n",
    "    # Display the plot\n",
    "    plt.show()\n",
    "    "
   ]
  },
  {
   "cell_type": "code",
   "execution_count": null,
   "metadata": {},
   "outputs": [],
   "source": [
    "channel_map_and_all_trials_df[\"trial_outcome\"].unique()"
   ]
  },
  {
   "cell_type": "code",
   "execution_count": null,
   "metadata": {},
   "outputs": [],
   "source": [
    "channel_map_and_all_trials_df[\"trial_or_baseline\"]"
   ]
  },
  {
   "cell_type": "code",
   "execution_count": null,
   "metadata": {
    "scrolled": true
   },
   "outputs": [],
   "source": [
    "for outcome in channel_map_and_all_trials_df[\"trial_outcome\"].unique():\n",
    "    outcome_df = channel_map_and_all_trials_df[channel_map_and_all_trials_df[\"trial_outcome\"] == outcome]\n",
    "    for region_1, region_2 in brain_region_pairs:\n",
    "        region_1_basename = region_1.split(\"_\")[0]\n",
    "        region_2_basename = region_2.split(\"_\")[0]\n",
    "        \n",
    "        x = outcome_df[region_1]\n",
    "        y = outcome_df[region_2]\n",
    "        \n",
    "        # Perform linear regression to get the slope, intercept and r-value (correlation coefficient)\n",
    "        slope, intercept, r_value, p_value, std_err = linregress(x, y)\n",
    "        \n",
    "        # Create a line of best fit using the slope and intercept\n",
    "        line = slope * x + intercept\n",
    "        \n",
    "        # Create scatter plot\n",
    "        sns.scatterplot(x=x, y=y, data=outcome_df, hue='outcome_and_trial_or_baseline', palette=BASELINE_OUTCOME_TO_COLOR, style='outcome_and_trial_or_baseline', markers=['^', 'o'])\n",
    "        \n",
    "        # Plot line of best fit\n",
    "        plt.plot(x, line, color='red')\n",
    "        \n",
    "        # Add R² value to the plot\n",
    "        plt.text(0.1, 0.9, f'R² = {r_value**2:.2f}', transform=plt.gca().transAxes)\n",
    "        \n",
    "        # Add labels and legend\n",
    "        plt.title(\"Power Correlation of Z-scored LFP: {} and {}\".format(region_2_basename, region_1_basename))\n",
    "        plt.xlabel('{} Theta Power of Z-scored LFP'.format(region_1_basename))\n",
    "        plt.ylabel('{} Theta Power of Z-scored LFP'.format(region_2_basename))\n",
    "        plt.legend(loc=\"lower right\")\n",
    "        # plt.savefig(\"./proc/power_correlation/{}_{}_power_correlation_of_zscored_lfp.png\".format(region_1_basename, region_2_basename))\n",
    "        # Display the plot\n",
    "        plt.show()"
   ]
  },
  {
   "cell_type": "code",
   "execution_count": null,
   "metadata": {},
   "outputs": [],
   "source": [
    "channel_map_and_all_trials_df[\"BLA_averaged_theta_power\"]"
   ]
  },
  {
   "cell_type": "code",
   "execution_count": null,
   "metadata": {},
   "outputs": [],
   "source": [
    "averaged_col = [col for col in channel_map_and_all_trials_df.columns if \"averaged\" in col]"
   ]
  },
  {
   "cell_type": "code",
   "execution_count": null,
   "metadata": {
    "scrolled": true
   },
   "outputs": [],
   "source": [
    "# Calculate the mean and standard deviation for each column\n",
    "mean = channel_map_and_all_trials_df[averaged_col].mean()\n",
    "std_dev = channel_map_and_all_trials_df[averaged_col].std()\n",
    "\n",
    "# Filter out points that are more than 3 standard deviations away from the mean\n",
    "filtered_df = channel_map_and_all_trials_df[((channel_map_and_all_trials_df[averaged_col] - mean).abs() <= 3 * std_dev).all(axis=1)]"
   ]
  },
  {
   "cell_type": "code",
   "execution_count": null,
   "metadata": {},
   "outputs": [],
   "source": [
    "from scipy import stats\n",
    "import numpy as np\n",
    "\n",
    "# Assuming x and y are your numpy arrays\n",
    "x = np.array([1, 2, 3, 4, 5])\n",
    "y = np.array([2.2, 2.8, 3.6, 4.5, 5.1])\n",
    "\n",
    "slope, intercept, r_value, p_value, std_err = stats.linregress(x, y)\n",
    "\n",
    "# Square the r value to get the r squared value\n",
    "r2_value = r_value**2"
   ]
  },
  {
   "cell_type": "code",
   "execution_count": null,
   "metadata": {
    "scrolled": true
   },
   "outputs": [],
   "source": [
    "region_pair_to_outcome_to_r2"
   ]
  },
  {
   "cell_type": "code",
   "execution_count": null,
   "metadata": {},
   "outputs": [],
   "source": [
    "BASELINE_OUTCOME_TO_COLOR"
   ]
  },
  {
   "cell_type": "code",
   "execution_count": null,
   "metadata": {},
   "outputs": [],
   "source": [
    "df['std'].values"
   ]
  },
  {
   "cell_type": "code",
   "execution_count": null,
   "metadata": {
    "scrolled": true
   },
   "outputs": [],
   "source": [
    "\n",
    "# Convert the nested dictionary to a DataFrame\n",
    "data = []\n",
    "for group_name, group_data in region_pair_to_outcome_to_r2.items():\n",
    "    for bar_name, bar_dict in group_data.items():\n",
    "        data.append({\"Group\": group_name, \"Bar\": bar_name, \"r2\": bar_dict[\"r2\"], \"std\": bar_dict[\"std\"]})\n",
    "df = pd.DataFrame(data)\n",
    "\n",
    "# Create the bar plot using seaborn\n",
    "# sns.catplot(\n",
    "#     data=df, \n",
    "#     x='Group', \n",
    "#     y='r2', \n",
    "#     hue='Bar', \n",
    "#     kind='bar', \n",
    "#     height=4, \n",
    "#     aspect=2,\n",
    "#     legend=False,\n",
    "#     # yerr=df['std'].values,  # This line adds the SEM bars\n",
    "#     # capsize=0.1  # This line adds caps on the error bars\n",
    "# )\n",
    "\n",
    "# Create barplot\n",
    "ax = sns.barplot(x='Group', y='r2', hue='Bar', data=df, ci=None)\n",
    "\n",
    "# Adding error bars\n",
    "groups = df['Group'].unique()\n",
    "bars_per_group = df['Bar'].nunique()\n",
    "bar_width = 0.8 / bars_per_group\n",
    "x_positions = []\n",
    "\n",
    "for i, group in enumerate(groups):\n",
    "    num_bars = df[df['Group'] == group].shape[0]\n",
    "    group_positions = np.linspace(i - bar_width*(num_bars-1)/2, i + bar_width*(num_bars-1)/2, num_bars)\n",
    "    x_positions.extend(group_positions)\n",
    "\n",
    "for i, (r2, sem) in enumerate(zip(df['r2'], df['std'])):\n",
    "    plt.errorbar(x_positions[i], r2, yerr=sem, fmt='none', color='black', capsize=5)\n",
    "\n",
    "\n",
    "plt.xticks(rotation=90)\n",
    "plt.xlabel(\"Brain region pairs\")\n",
    "plt.ylabel(\"Power correlation r^2\")\n",
    "plt.legend(title=\"Trial Conditions\")\n",
    "plt.title(\"Power correlations\")\n",
    "plt.tight_layout()\n",
    "plt.grid()\n",
    "\n",
    "plt.savefig(\"./proc/power_correlation/zscored/all_zscored_lfp_power_correlation.png\")\n",
    "# Show the plot\n",
    "plt.show()"
   ]
  },
  {
   "cell_type": "code",
   "execution_count": null,
   "metadata": {},
   "outputs": [],
   "source": [
    "df"
   ]
  },
  {
   "cell_type": "code",
   "execution_count": null,
   "metadata": {},
   "outputs": [],
   "source": []
  },
  {
   "cell_type": "code",
   "execution_count": null,
   "metadata": {},
   "outputs": [],
   "source": [
    "region_pair_to_outcome_to_r2 = defaultdict(nested_dict)\n",
    "for outcome in filtered_df[\"trial_outcome\"].unique():\n",
    "    outcome_df = filtered_df[filtered_df[\"trial_outcome\"] == outcome]\n",
    "    for region_1, region_2 in brain_region_pairs:\n",
    "        region_1_basename = region_1.split(\"_\")[0]\n",
    "        region_2_basename = region_2.split(\"_\")[0]\n",
    "        \n",
    "        x = outcome_df[region_1]\n",
    "        y = outcome_df[region_2]\n",
    "        \n",
    "        # Perform linear regression to get the slope, intercept and r-value (correlation coefficient)\n",
    "        slope, intercept, r_value, p_value, std_err = linregress(x, y)\n",
    "        # Square the r value to get the r squared value\n",
    "        r2_value = r_value**2\n",
    "        region_pair_to_outcome_to_r2[\"{}_{}\".format(region_1.split(\"_\")[0], region_2.split(\"_\")[0])][outcome][\"r2\"] = r2_value\n",
    "        region_pair_to_outcome_to_r2[\"{}_{}\".format(region_1.split(\"_\")[0], region_2.split(\"_\")[0])][outcome][\"std\"] = std_err\n",
    "        \n",
    "        # Create a line of best fit using the slope and intercept\n",
    "        line = slope * x + intercept\n",
    "        \n",
    "        # Create scatter plot\n",
    "        sns.scatterplot(x=x, y=y, data=outcome_df, hue='outcome_and_trial_or_baseline', palette=BASELINE_OUTCOME_TO_COLOR, style='outcome_and_trial_or_baseline', markers=['^', 'o'])\n",
    "        \n",
    "        # Plot line of best fit\n",
    "        plt.plot(x, line, color='red')\n",
    "        \n",
    "        # Add R² value to the plot\n",
    "        plt.text(0.1, 0.9, f'R² = {r_value**2:.2f}', transform=plt.gca().transAxes)\n",
    "        \n",
    "        # Add labels and legend\n",
    "        plt.title(\"Power Correlation of Z-scored LFP: {} and {}\".format(region_2_basename, region_1_basename))\n",
    "        plt.xlabel('{} Theta Power of Z-scored LFP'.format(region_1_basename))\n",
    "        plt.ylabel('{} Theta Power of Z-scored LFP'.format(region_2_basename))\n",
    "        plt.legend(loc=\"lower right\")\n",
    "        plt.savefig(\"./proc/power_correlation/{}_{}_{}_power_correlation_of_zscored_lfp.png\".format(outcome, region_1_basename, region_2_basename))\n",
    "        # Display the plot\n",
    "        plt.show()"
   ]
  },
  {
   "cell_type": "code",
   "execution_count": null,
   "metadata": {},
   "outputs": [],
   "source": [
    "for region_1, region_2 in brain_region_pairs:\n",
    "    region_1_basename = region_1.split(\"_\")[0]\n",
    "    region_2_basename = region_2.split(\"_\")[0]\n",
    "    \n",
    "    x = channel_map_and_all_trials_df[region_1]\n",
    "    y = channel_map_and_all_trials_df[region_2]\n",
    "    \n",
    "    # Perform linear regression to get the slope, intercept and r-value (correlation coefficient)\n",
    "    slope, intercept, r_value, p_value, std_err = linregress(x, y)\n",
    "    \n",
    "    # Create a line of best fit using the slope and intercept\n",
    "    line = slope * x + intercept\n",
    "    \n",
    "    # Create scatter plot\n",
    "    sns.scatterplot(x=x, y=y, data=channel_map_and_all_trials_df, hue='outcome_and_trial_or_baseline', palette=BASELINE_OUTCOME_TO_COLOR)\n",
    "    \n",
    "    # Plot line of best fit\n",
    "    plt.plot(x, line, color='red')\n",
    "    \n",
    "    # Add R² value to the plot\n",
    "    plt.text(0.1, 0.9, f'R² = {r_value**2:.2f}', transform=plt.gca().transAxes)\n",
    "    \n",
    "    # Add labels and legend\n",
    "    plt.title(\"Power Correlation of Z-scored LFP: {} and {}\".format(region_2_basename, region_1_basename))\n",
    "    plt.xlabel('{} Theta Power of Z-scored LFP'.format(region_1_basename))\n",
    "    plt.ylabel('{} Theta Power of Z-scored LFP'.format(region_2_basename))\n",
    "    plt.legend(loc=\"lower right\")\n",
    "    plt.savefig(\"./proc/power_correlation/{}_{}_power_correlation_of_zscored_lfp.png\".format(region_1_basename, region_2_basename))\n",
    "    # Display the plot\n",
    "    plt.show()\n",
    "    "
   ]
  },
  {
   "cell_type": "code",
   "execution_count": null,
   "metadata": {},
   "outputs": [],
   "source": []
  },
  {
   "cell_type": "code",
   "execution_count": null,
   "metadata": {},
   "outputs": [],
   "source": [
    "raise ValueError()"
   ]
  }
 ],
 "metadata": {
  "deepnote": {},
  "deepnote_execution_queue": [],
  "deepnote_notebook_id": "cf8fe3695d074ee7887fdf6459cbf5ce",
  "kernelspec": {
   "display_name": "Python 3 (ipykernel)",
   "language": "python",
   "name": "python3"
  },
  "language_info": {
   "codemirror_mode": {
    "name": "ipython",
    "version": 3
   },
   "file_extension": ".py",
   "mimetype": "text/x-python",
   "name": "python",
   "nbconvert_exporter": "python",
   "pygments_lexer": "ipython3",
   "version": "3.9.16"
  }
 },
 "nbformat": 4,
 "nbformat_minor": 4
}
