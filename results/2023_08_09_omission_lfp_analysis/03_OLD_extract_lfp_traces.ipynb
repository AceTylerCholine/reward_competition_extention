{
 "cells": [
  {
   "cell_type": "markdown",
   "metadata": {
    "cell_id": "c3a02adc9e884466bc8c79db549cc3d2",
    "deepnote_cell_type": "text-cell-h1",
    "formattedRanges": [
     {
      "fromCodePoint": 0,
      "marks": {
       "bold": true,
       "underline": true
      },
      "toCodePoint": 17,
      "type": "marks"
     }
    ]
   },
   "source": [
    "# LFP Extraction"
   ]
  },
  {
   "cell_type": "markdown",
   "metadata": {
    "cell_id": "4546bee655b14a5dbf393161f1228e60",
    "deepnote_cell_type": "text-cell-p",
    "formattedRanges": []
   },
   "source": [
    "Brief 1-2 sentence description of notebook."
   ]
  },
  {
   "cell_type": "code",
   "execution_count": 1,
   "metadata": {},
   "outputs": [],
   "source": [
    "import warnings\n",
    "warnings.filterwarnings('ignore')"
   ]
  },
  {
   "cell_type": "code",
   "execution_count": 2,
   "metadata": {},
   "outputs": [],
   "source": [
    "import os\n",
    "import glob\n",
    "from collections import defaultdict\n",
    "import re"
   ]
  },
  {
   "cell_type": "code",
   "execution_count": 3,
   "metadata": {
    "cell_id": "03b495cefa6a4798a44c7f2e4c6a3ea7",
    "deepnote_cell_type": "code",
    "deepnote_to_be_reexecuted": false,
    "execution_millis": 21,
    "execution_start": 1691424003626,
    "source_hash": null
   },
   "outputs": [],
   "source": [
    "# Imports of all used packages and libraries\n",
    "import numpy as np\n",
    "import pandas as pd\n",
    "import matplotlib.pyplot as plt\n",
    "import matplotlib.cm as cm\n",
    "import seaborn as sns\n",
    "from scipy import stats\n",
    "import itertools"
   ]
  },
  {
   "cell_type": "code",
   "execution_count": 4,
   "metadata": {},
   "outputs": [],
   "source": [
    "import spikeinterface.extractors as se\n",
    "import spikeinterface.preprocessing as sp\n",
    "from spectral_connectivity import Multitaper, Connectivity"
   ]
  },
  {
   "cell_type": "markdown",
   "metadata": {
    "cell_id": "d290bac2c17940bfbc0f9296beaf70e5",
    "deepnote_cell_type": "text-cell-h2",
    "formattedRanges": []
   },
   "source": [
    "## Inputs & Data"
   ]
  },
  {
   "cell_type": "markdown",
   "metadata": {
    "cell_id": "e528ce19c608425292151930d380f49f",
    "deepnote_cell_type": "text-cell-p",
    "formattedRanges": []
   },
   "source": [
    "Explanation of each input and where it comes from."
   ]
  },
  {
   "cell_type": "code",
   "execution_count": 5,
   "metadata": {},
   "outputs": [],
   "source": [
    "# Inputs and Required data loading\n",
    "# input varaible names are in all caps snake case\n",
    "# Whenever an input changes or is used for processing \n",
    "# the vairables are all lower in snake case"
   ]
  },
  {
   "cell_type": "code",
   "execution_count": 6,
   "metadata": {},
   "outputs": [],
   "source": [
    "BBOX_TO_ANCHOR=(1.5, 0.9)\n",
    "LOC='upper right'"
   ]
  },
  {
   "cell_type": "code",
   "execution_count": null,
   "metadata": {},
   "outputs": [],
   "source": []
  },
  {
   "cell_type": "code",
   "execution_count": 7,
   "metadata": {},
   "outputs": [],
   "source": [
    "# variables for LFP extraction\n",
    "FREQ_MIN=0.5\n",
    "FREQ_MAX=300\n",
    "FREQ=60\n",
    "RESAMPLE_RATE=1000\n",
    "TRIAL_DURATION=10"
   ]
  },
  {
   "cell_type": "code",
   "execution_count": 8,
   "metadata": {},
   "outputs": [],
   "source": [
    "INPUT_VARIABLE = 1\n",
    "\n",
    "TIME_HALFBANDWIDTH_PRODUCT = 2\n",
    "TIME_WINDOW_DURATION = 3\n",
    "TIME_WINDOW_STEP = 1.5 \n",
    "\n",
    "TRIAL_TIME_STAMP_DURATION = 1000*10"
   ]
  },
  {
   "cell_type": "code",
   "execution_count": 9,
   "metadata": {},
   "outputs": [],
   "source": [
    "BIN_TO_COLOR = {0: {\"baseline\": \"lightblue\", \"trial\": \"blue\"}, 1: {\"baseline\": \"lightgreen\", \"trial\": \"green\"}, 2: {\"baseline\": \"lightcoral\", \"trial\": \"red\"}}\n",
    "TRIAL_OR_BASELINE_TO_STYLE = {'baseline': \"--\", \"trial\": \"-\"}\n",
    "BIN_TO_VELOCITY = {0: \"0 to 2.5cm/s\", 1: \"2.5 to 5cm/s\", 2: \"5cm/s to 10cm/s\"}"
   ]
  },
  {
   "cell_type": "code",
   "execution_count": 10,
   "metadata": {},
   "outputs": [],
   "source": [
    "BIN_TO_COLOR = {0: {\"baseline\": \"lightblue\", \"trial\": \"blue\"}, 1: {\"baseline\": \"lightgreen\", \"trial\": \"green\"}, 2: {\"baseline\": \"lightcoral\", \"trial\": \"red\"}}\n",
    "TRIAL_OR_BASELINE_TO_STYLE = {'baseline': \"--\", \"trial\": \"-\"}\n",
    "BIN_TO_VELOCITY = {0: \"0 to 5cm/s\", 1: \"5cm/s to 10cm/s\", 2: \"10cm/s+\"}"
   ]
  },
  {
   "cell_type": "code",
   "execution_count": 11,
   "metadata": {},
   "outputs": [],
   "source": [
    "NUM_LINES = 3"
   ]
  },
  {
   "cell_type": "code",
   "execution_count": 12,
   "metadata": {},
   "outputs": [],
   "source": [
    "# Generate colors from the \"Blues\" colormap\n",
    "LOSING_COLORS = cm.Oranges(np.linspace(0.5, 1, NUM_LINES))\n",
    "# Generate colors from the \"Blues\" colormap\n",
    "WINNING_COLORS = cm.Blues(np.linspace(0.5, 1, NUM_LINES))\n",
    "# Generate colors from the \"Blues\" colormap\n",
    "REWARDED_COLORS = cm.Greens(np.linspace(0.5, 1, NUM_LINES))\n",
    "# Generate colors from the \"Blues\" colormap\n",
    "OMISSION_COLORS = cm.Reds(np.linspace(0.5, 1, NUM_LINES))"
   ]
  },
  {
   "cell_type": "code",
   "execution_count": 13,
   "metadata": {},
   "outputs": [],
   "source": [
    "BASELINE_OUTCOME_TO_COLOR = {'lose': \"orange\",\n",
    " 'lose_baseline': LOSING_COLORS[0],\n",
    " 'omission': \"red\",\n",
    " 'omission_baseline': \"hotpink\",\n",
    " 'rewarded': \"green\",\n",
    " 'rewarded_baseline': REWARDED_COLORS[0],\n",
    " 'win': \"blue\",\n",
    " 'win_baseline': WINNING_COLORS[0]}"
   ]
  },
  {
   "cell_type": "code",
   "execution_count": 14,
   "metadata": {},
   "outputs": [],
   "source": [
    "COMPETITIVE_OUTCOME_TO_COLOR = {'lose_comp': \"orange\", \n",
    "'lose_non_comp': \"yellow\",\n",
    "'omission': \"red\",\n",
    "'rewarded': \"green\",\n",
    "'win_comp': \"blue\", \n",
    "'win_non_comp': WINNING_COLORS[0]}"
   ]
  },
  {
   "cell_type": "code",
   "execution_count": 15,
   "metadata": {},
   "outputs": [],
   "source": [
    "TRIAL_OR_BASELINE_TO_STYLE = {'baseline': \"--\", \"trial\": \"-\"}"
   ]
  },
  {
   "cell_type": "code",
   "execution_count": 16,
   "metadata": {
    "cell_id": "6cf83a5811054461a718a71673d09aab",
    "deepnote_cell_type": "code",
    "deepnote_to_be_reexecuted": false,
    "execution_millis": 373,
    "execution_start": 1691424003628,
    "source_hash": null
   },
   "outputs": [],
   "source": [
    "CHANNEL_MAPPING_DF = pd.read_excel(\"../../channel_mapping.xlsx\")\n",
    "CHANNEL_MAPPING_DF[\"Subject\"] = CHANNEL_MAPPING_DF[\"Subject\"].astype(str)\n",
    "\n",
    "TONE_TIMESTAMP_DF = pd.read_excel(\"../../rce_tone_timestamp.xlsx\", index_col=0)\n",
    "OUTPUT_DIR = r\"./proc\" # where data is saved should always be shown in the inputs\n"
   ]
  },
  {
   "cell_type": "code",
   "execution_count": 40,
   "metadata": {},
   "outputs": [],
   "source": [
    "all_session_dir = ['/scratch/back_up/reward_competition_extention/data/omission/2023_06_17/20230617_115521_standard_comp_to_omission_D1_subj_1-1_and_1-2.rec',\n",
    "'/scratch/back_up/reward_competition_extention/data/omission/2023_06_18/20230618_100636_standard_comp_to_omission_D2_subj_1-4_and_1-1.rec',\n",
    "'/scratch/back_up/reward_competition_extention/data/omission/2023_06_19/20230619_115321_standard_comp_to_omission_D3_subj_1-2_and_1-4.rec',\n",
    "'/scratch/back_up/reward_competition_extention/data/omission/2023_06_20/20230620_114347_standard_comp_to_omission_D4_subj_1-2_and_1-1.rec',\n",
    "'/scratch/back_up/reward_competition_extention/data/omission/2023_06_21/20230621_111240_standard_comp_to_omission_D5_subj_1-4_and_1-2.rec'\n",
    "]"
   ]
  },
  {
   "cell_type": "markdown",
   "metadata": {
    "cell_id": "e3ee4891d43a4ac287413afc552ca289",
    "deepnote_cell_type": "text-cell-h2",
    "formattedRanges": []
   },
   "source": [
    "## Outputs"
   ]
  },
  {
   "cell_type": "markdown",
   "metadata": {
    "cell_id": "9ccbf6cc70fd4d379fa29317f733771f",
    "deepnote_cell_type": "text-cell-p",
    "formattedRanges": []
   },
   "source": [
    "Describe each output that the notebook creates. "
   ]
  },
  {
   "cell_type": "markdown",
   "metadata": {
    "cell_id": "fc8e8920a6944918a15fac575cdf6e78",
    "deepnote_cell_type": "text-cell-bullet",
    "formattedRanges": []
   },
   "source": [
    "- Is it a plot or is it data?"
   ]
  },
  {
   "cell_type": "markdown",
   "metadata": {
    "cell_id": "1e639d4776a84aa9ac8ded2e14fa57db",
    "deepnote_cell_type": "text-cell-bullet",
    "formattedRanges": []
   },
   "source": [
    "- How valuable is the output and why is it valuable or useful?"
   ]
  },
  {
   "cell_type": "markdown",
   "metadata": {},
   "source": [
    "## Functions"
   ]
  },
  {
   "cell_type": "markdown",
   "metadata": {
    "jp-MarkdownHeadingCollapsed": true
   },
   "source": [
    "- Ideally functions are defined here first and then data is processed using the functions\n",
    "    - function names are short and in snake case all lowercase\n",
    "    - a function name should be unique but does not have to describe the function\n",
    "    - doc strings describe functions not function names"
   ]
  },
  {
   "cell_type": "markdown",
   "metadata": {
    "cell_id": "8999d19b6b7d4d63bc90f0b0bd9ab085",
    "deepnote_cell_type": "text-cell-h2",
    "formattedRanges": []
   },
   "source": [
    "## Processing"
   ]
  },
  {
   "cell_type": "markdown",
   "metadata": {
    "cell_id": "9b36cdf08567463082b005cb0dec684b",
    "deepnote_cell_type": "text-cell-p",
    "formattedRanges": []
   },
   "source": [
    "Describe what is done to the data here and how inputs are manipulated to generate outputs. "
   ]
  },
  {
   "cell_type": "code",
   "execution_count": 18,
   "metadata": {
    "cell_id": "89aaba237c644628b1b37604b75e7cb1",
    "deepnote_cell_type": "code"
   },
   "outputs": [],
   "source": [
    "# As much code and as many cells as required\n",
    "# includes EDA and playing with data\n",
    "# GO HAM!"
   ]
  },
  {
   "cell_type": "code",
   "execution_count": 19,
   "metadata": {},
   "outputs": [
    {
     "data": {
      "text/html": [
       "<div>\n",
       "<style scoped>\n",
       "    .dataframe tbody tr th:only-of-type {\n",
       "        vertical-align: middle;\n",
       "    }\n",
       "\n",
       "    .dataframe tbody tr th {\n",
       "        vertical-align: top;\n",
       "    }\n",
       "\n",
       "    .dataframe thead th {\n",
       "        text-align: right;\n",
       "    }\n",
       "</style>\n",
       "<table border=\"1\" class=\"dataframe\">\n",
       "  <thead>\n",
       "    <tr style=\"text-align: right;\">\n",
       "      <th></th>\n",
       "      <th>Cohort</th>\n",
       "      <th>Subject</th>\n",
       "      <th>eib_mPFC</th>\n",
       "      <th>eib_vHPC</th>\n",
       "      <th>eib_BLA</th>\n",
       "      <th>eib_LH</th>\n",
       "      <th>eib_MD</th>\n",
       "      <th>spike_interface_mPFC</th>\n",
       "      <th>spike_interface_vHPC</th>\n",
       "      <th>spike_interface_BLA</th>\n",
       "      <th>spike_interface_LH</th>\n",
       "      <th>spike_interface_MD</th>\n",
       "    </tr>\n",
       "  </thead>\n",
       "  <tbody>\n",
       "    <tr>\n",
       "      <th>0</th>\n",
       "      <td>1</td>\n",
       "      <td>6.1</td>\n",
       "      <td>NaN</td>\n",
       "      <td>15</td>\n",
       "      <td>14</td>\n",
       "      <td>13</td>\n",
       "      <td>31</td>\n",
       "      <td>21.0</td>\n",
       "      <td>15.0</td>\n",
       "      <td>14.0</td>\n",
       "      <td>13.0</td>\n",
       "      <td>16.0</td>\n",
       "    </tr>\n",
       "    <tr>\n",
       "      <th>1</th>\n",
       "      <td>1</td>\n",
       "      <td>6.2</td>\n",
       "      <td>NaN</td>\n",
       "      <td>15</td>\n",
       "      <td>14</td>\n",
       "      <td>13</td>\n",
       "      <td>31</td>\n",
       "      <td>NaN</td>\n",
       "      <td>NaN</td>\n",
       "      <td>NaN</td>\n",
       "      <td>NaN</td>\n",
       "      <td>NaN</td>\n",
       "    </tr>\n",
       "    <tr>\n",
       "      <th>2</th>\n",
       "      <td>1</td>\n",
       "      <td>6.3</td>\n",
       "      <td>NaN</td>\n",
       "      <td>15</td>\n",
       "      <td>14</td>\n",
       "      <td>13</td>\n",
       "      <td>31</td>\n",
       "      <td>NaN</td>\n",
       "      <td>NaN</td>\n",
       "      <td>NaN</td>\n",
       "      <td>NaN</td>\n",
       "      <td>NaN</td>\n",
       "    </tr>\n",
       "    <tr>\n",
       "      <th>3</th>\n",
       "      <td>1</td>\n",
       "      <td>6.4</td>\n",
       "      <td>NaN</td>\n",
       "      <td>15</td>\n",
       "      <td>14</td>\n",
       "      <td>13</td>\n",
       "      <td>31</td>\n",
       "      <td>NaN</td>\n",
       "      <td>NaN</td>\n",
       "      <td>NaN</td>\n",
       "      <td>NaN</td>\n",
       "      <td>NaN</td>\n",
       "    </tr>\n",
       "    <tr>\n",
       "      <th>4</th>\n",
       "      <td>2</td>\n",
       "      <td>1.1</td>\n",
       "      <td>NaN</td>\n",
       "      <td>16</td>\n",
       "      <td>17</td>\n",
       "      <td>18</td>\n",
       "      <td>19</td>\n",
       "      <td>5.0</td>\n",
       "      <td>31.0</td>\n",
       "      <td>30.0</td>\n",
       "      <td>29.0</td>\n",
       "      <td>28.0</td>\n",
       "    </tr>\n",
       "    <tr>\n",
       "      <th>5</th>\n",
       "      <td>2</td>\n",
       "      <td>1.2</td>\n",
       "      <td>NaN</td>\n",
       "      <td>31</td>\n",
       "      <td>30</td>\n",
       "      <td>29</td>\n",
       "      <td>28</td>\n",
       "      <td>10.0</td>\n",
       "      <td>31.0</td>\n",
       "      <td>30.0</td>\n",
       "      <td>29.0</td>\n",
       "      <td>28.0</td>\n",
       "    </tr>\n",
       "    <tr>\n",
       "      <th>6</th>\n",
       "      <td>2</td>\n",
       "      <td>1.3</td>\n",
       "      <td>NaN</td>\n",
       "      <td>15</td>\n",
       "      <td>14</td>\n",
       "      <td>13</td>\n",
       "      <td>12</td>\n",
       "      <td>9.0</td>\n",
       "      <td>31.0</td>\n",
       "      <td>30.0</td>\n",
       "      <td>29.0</td>\n",
       "      <td>28.0</td>\n",
       "    </tr>\n",
       "    <tr>\n",
       "      <th>7</th>\n",
       "      <td>2</td>\n",
       "      <td>1.4</td>\n",
       "      <td>NaN</td>\n",
       "      <td>15</td>\n",
       "      <td>14</td>\n",
       "      <td>13</td>\n",
       "      <td>12</td>\n",
       "      <td>15.0</td>\n",
       "      <td>31.0</td>\n",
       "      <td>30.0</td>\n",
       "      <td>29.0</td>\n",
       "      <td>28.0</td>\n",
       "    </tr>\n",
       "  </tbody>\n",
       "</table>\n",
       "</div>"
      ],
      "text/plain": [
       "   Cohort Subject  eib_mPFC  eib_vHPC  eib_BLA  eib_LH  eib_MD  \\\n",
       "0       1     6.1       NaN        15       14      13      31   \n",
       "1       1     6.2       NaN        15       14      13      31   \n",
       "2       1     6.3       NaN        15       14      13      31   \n",
       "3       1     6.4       NaN        15       14      13      31   \n",
       "4       2     1.1       NaN        16       17      18      19   \n",
       "5       2     1.2       NaN        31       30      29      28   \n",
       "6       2     1.3       NaN        15       14      13      12   \n",
       "7       2     1.4       NaN        15       14      13      12   \n",
       "\n",
       "   spike_interface_mPFC  spike_interface_vHPC  spike_interface_BLA  \\\n",
       "0                  21.0                  15.0                 14.0   \n",
       "1                   NaN                   NaN                  NaN   \n",
       "2                   NaN                   NaN                  NaN   \n",
       "3                   NaN                   NaN                  NaN   \n",
       "4                   5.0                  31.0                 30.0   \n",
       "5                  10.0                  31.0                 30.0   \n",
       "6                   9.0                  31.0                 30.0   \n",
       "7                  15.0                  31.0                 30.0   \n",
       "\n",
       "   spike_interface_LH  spike_interface_MD  \n",
       "0                13.0                16.0  \n",
       "1                 NaN                 NaN  \n",
       "2                 NaN                 NaN  \n",
       "3                 NaN                 NaN  \n",
       "4                29.0                28.0  \n",
       "5                29.0                28.0  \n",
       "6                29.0                28.0  \n",
       "7                29.0                28.0  "
      ]
     },
     "execution_count": 19,
     "metadata": {},
     "output_type": "execute_result"
    }
   ],
   "source": [
    "CHANNEL_MAPPING_DF"
   ]
  },
  {
   "cell_type": "markdown",
   "metadata": {},
   "source": [
    "### Getting the subject IDs from the file name"
   ]
  },
  {
   "cell_type": "code",
   "execution_count": 20,
   "metadata": {},
   "outputs": [],
   "source": [
    "TONE_TIMESTAMP_DF = pd.read_pickle(\"./proc/melted_trials_and_video.pkl\")\n"
   ]
  },
  {
   "cell_type": "code",
   "execution_count": 21,
   "metadata": {},
   "outputs": [],
   "source": [
    "all_trials_df = TONE_TIMESTAMP_DF.dropna(subset=\"condition\").reset_index(drop=True)"
   ]
  },
  {
   "cell_type": "code",
   "execution_count": 22,
   "metadata": {},
   "outputs": [
    {
     "data": {
      "text/html": [
       "<div>\n",
       "<style scoped>\n",
       "    .dataframe tbody tr th:only-of-type {\n",
       "        vertical-align: middle;\n",
       "    }\n",
       "\n",
       "    .dataframe tbody tr th {\n",
       "        vertical-align: top;\n",
       "    }\n",
       "\n",
       "    .dataframe thead th {\n",
       "        text-align: right;\n",
       "    }\n",
       "</style>\n",
       "<table border=\"1\" class=\"dataframe\">\n",
       "  <thead>\n",
       "    <tr style=\"text-align: right;\">\n",
       "      <th></th>\n",
       "      <th>time</th>\n",
       "      <th>state</th>\n",
       "      <th>recording_dir</th>\n",
       "      <th>recording_file</th>\n",
       "      <th>din</th>\n",
       "      <th>time_stamp_index</th>\n",
       "      <th>video_file</th>\n",
       "      <th>video_frame</th>\n",
       "      <th>video_number</th>\n",
       "      <th>subject_info</th>\n",
       "      <th>...</th>\n",
       "      <th>trial_chunked_ephys_timestamp</th>\n",
       "      <th>baseline_chunked_ephys_timestamp</th>\n",
       "      <th>trial_chunked_lfp_index</th>\n",
       "      <th>baseline_chunked_lfp_index</th>\n",
       "      <th>trial_or_baseline</th>\n",
       "      <th>current_thorax_velocity</th>\n",
       "      <th>current_chunked_thorax_velocity</th>\n",
       "      <th>chunked_lfp_index</th>\n",
       "      <th>chunked_ephys_timestamp</th>\n",
       "      <th>binned_current_thorax_velocity</th>\n",
       "    </tr>\n",
       "  </thead>\n",
       "  <tbody>\n",
       "    <tr>\n",
       "      <th>0</th>\n",
       "      <td>4509412.0</td>\n",
       "      <td>1.0</td>\n",
       "      <td>20230617_115521_standard_comp_to_omission_D1_s...</td>\n",
       "      <td>20230617_115521_standard_comp_to_omission_D1_s...</td>\n",
       "      <td>dio_ECU_Din1</td>\n",
       "      <td>1030879.0</td>\n",
       "      <td>20230617_115521_standard_comp_to_omission_D1_s...</td>\n",
       "      <td>1029</td>\n",
       "      <td>1.0</td>\n",
       "      <td>1-1_t1b3L_box1</td>\n",
       "      <td>...</td>\n",
       "      <td>[(1030879.0, 1050879.0), (1050879.0, 1070879.0...</td>\n",
       "      <td>[(830879.0, 850879.0), (850879.0, 870879.0), (...</td>\n",
       "      <td>[(51543.0, 52543.0), (52543.0, 53543.0), (5354...</td>\n",
       "      <td>[(41543.0, 42543.0), (42543.0, 43543.0), (4354...</td>\n",
       "      <td>baseline</td>\n",
       "      <td>[1.4426199366829346, 0.9791696179861392, 0.723...</td>\n",
       "      <td>[0.6049464906054562, 0.8003202428686067, 1.576...</td>\n",
       "      <td>[(41543.0, 42543.0), (42543.0, 43543.0), (4354...</td>\n",
       "      <td>[(830879.0, 850879.0), (850879.0, 870879.0), (...</td>\n",
       "      <td>[0, 0, 0, 0, 0, 0, 0, 2, 2, 1]</td>\n",
       "    </tr>\n",
       "    <tr>\n",
       "      <th>1</th>\n",
       "      <td>4509412.0</td>\n",
       "      <td>1.0</td>\n",
       "      <td>20230617_115521_standard_comp_to_omission_D1_s...</td>\n",
       "      <td>20230617_115521_standard_comp_to_omission_D1_s...</td>\n",
       "      <td>dio_ECU_Din1</td>\n",
       "      <td>1030879.0</td>\n",
       "      <td>20230617_115521_standard_comp_to_omission_D1_s...</td>\n",
       "      <td>1029</td>\n",
       "      <td>1.0</td>\n",
       "      <td>1-1_t1b3L_box1</td>\n",
       "      <td>...</td>\n",
       "      <td>[(1030879.0, 1050879.0), (1050879.0, 1070879.0...</td>\n",
       "      <td>[(830879.0, 850879.0), (850879.0, 870879.0), (...</td>\n",
       "      <td>[(51543.0, 52543.0), (52543.0, 53543.0), (5354...</td>\n",
       "      <td>[(41543.0, 42543.0), (42543.0, 43543.0), (4354...</td>\n",
       "      <td>trial</td>\n",
       "      <td>[5.37049091429759, 5.196457834281414, 4.916080...</td>\n",
       "      <td>[6.000200627117622, 6.7736199704500875, 3.6055...</td>\n",
       "      <td>[(51543.0, 52543.0), (52543.0, 53543.0), (5354...</td>\n",
       "      <td>[(1030879.0, 1050879.0), (1050879.0, 1070879.0...</td>\n",
       "      <td>[1, 1, 0, 1, 1, 1, 0, 0, 0, 0]</td>\n",
       "    </tr>\n",
       "    <tr>\n",
       "      <th>2</th>\n",
       "      <td>6909411.0</td>\n",
       "      <td>1.0</td>\n",
       "      <td>20230617_115521_standard_comp_to_omission_D1_s...</td>\n",
       "      <td>20230617_115521_standard_comp_to_omission_D1_s...</td>\n",
       "      <td>dio_ECU_Din1</td>\n",
       "      <td>3430878.0</td>\n",
       "      <td>20230617_115521_standard_comp_to_omission_D1_s...</td>\n",
       "      <td>3425</td>\n",
       "      <td>1.0</td>\n",
       "      <td>1-1_t1b3L_box1</td>\n",
       "      <td>...</td>\n",
       "      <td>[(3430878.0, 3450878.0), (3450878.0, 3470878.0...</td>\n",
       "      <td>[(3230878.0, 3250878.0), (3250878.0, 3270878.0...</td>\n",
       "      <td>[(171543.0, 172543.0), (172543.0, 173543.0), (...</td>\n",
       "      <td>[(161543.0, 162543.0), (162543.0, 163543.0), (...</td>\n",
       "      <td>baseline</td>\n",
       "      <td>[0.30868701696333833, 0.28295974779669697, 0.3...</td>\n",
       "      <td>[0.9004001623271887, 0.9399580184978504, 0.975...</td>\n",
       "      <td>[(161543.0, 162543.0), (162543.0, 163543.0), (...</td>\n",
       "      <td>[(3230878.0, 3250878.0), (3250878.0, 3270878.0...</td>\n",
       "      <td>[0, 0, 0, 0, 0, 0, 0, 2, 1, 1]</td>\n",
       "    </tr>\n",
       "    <tr>\n",
       "      <th>3</th>\n",
       "      <td>6909411.0</td>\n",
       "      <td>1.0</td>\n",
       "      <td>20230617_115521_standard_comp_to_omission_D1_s...</td>\n",
       "      <td>20230617_115521_standard_comp_to_omission_D1_s...</td>\n",
       "      <td>dio_ECU_Din1</td>\n",
       "      <td>3430878.0</td>\n",
       "      <td>20230617_115521_standard_comp_to_omission_D1_s...</td>\n",
       "      <td>3425</td>\n",
       "      <td>1.0</td>\n",
       "      <td>1-1_t1b3L_box1</td>\n",
       "      <td>...</td>\n",
       "      <td>[(3430878.0, 3450878.0), (3450878.0, 3470878.0...</td>\n",
       "      <td>[(3230878.0, 3250878.0), (3250878.0, 3270878.0...</td>\n",
       "      <td>[(171543.0, 172543.0), (172543.0, 173543.0), (...</td>\n",
       "      <td>[(161543.0, 162543.0), (162543.0, 163543.0), (...</td>\n",
       "      <td>trial</td>\n",
       "      <td>[5.92396632721846, 6.021571590092062, 6.315228...</td>\n",
       "      <td>[7.90304984461326, 5.389214776732418, 17.22809...</td>\n",
       "      <td>[(171543.0, 172543.0), (172543.0, 173543.0), (...</td>\n",
       "      <td>[(3430878.0, 3450878.0), (3450878.0, 3470878.0...</td>\n",
       "      <td>[1, 1, 2, 2, 0, 0, 0, 0, 0, 0]</td>\n",
       "    </tr>\n",
       "    <tr>\n",
       "      <th>4</th>\n",
       "      <td>9209413.0</td>\n",
       "      <td>1.0</td>\n",
       "      <td>20230617_115521_standard_comp_to_omission_D1_s...</td>\n",
       "      <td>20230617_115521_standard_comp_to_omission_D1_s...</td>\n",
       "      <td>dio_ECU_Din1</td>\n",
       "      <td>5730880.0</td>\n",
       "      <td>20230617_115521_standard_comp_to_omission_D1_s...</td>\n",
       "      <td>5720</td>\n",
       "      <td>1.0</td>\n",
       "      <td>1-1_t1b3L_box1</td>\n",
       "      <td>...</td>\n",
       "      <td>[(5730880.0, 5750880.0), (5750880.0, 5770880.0...</td>\n",
       "      <td>[(5530880.0, 5550880.0), (5550880.0, 5570880.0...</td>\n",
       "      <td>[(286544.0, 287544.0), (287544.0, 288544.0), (...</td>\n",
       "      <td>[(276544.0, 277544.0), (277544.0, 278544.0), (...</td>\n",
       "      <td>baseline</td>\n",
       "      <td>[12.322893761589675, 12.718067202520714, 12.42...</td>\n",
       "      <td>[6.576149902489789, 4.890034291307031, 1.53587...</td>\n",
       "      <td>[(276544.0, 277544.0), (277544.0, 278544.0), (...</td>\n",
       "      <td>[(5530880.0, 5550880.0), (5550880.0, 5570880.0...</td>\n",
       "      <td>[1, 0, 0, 0, 0, 0, 0, 0, 0, 0]</td>\n",
       "    </tr>\n",
       "  </tbody>\n",
       "</table>\n",
       "<p>5 rows × 62 columns</p>\n",
       "</div>"
      ],
      "text/plain": [
       "        time  state                                      recording_dir  \\\n",
       "0  4509412.0    1.0  20230617_115521_standard_comp_to_omission_D1_s...   \n",
       "1  4509412.0    1.0  20230617_115521_standard_comp_to_omission_D1_s...   \n",
       "2  6909411.0    1.0  20230617_115521_standard_comp_to_omission_D1_s...   \n",
       "3  6909411.0    1.0  20230617_115521_standard_comp_to_omission_D1_s...   \n",
       "4  9209413.0    1.0  20230617_115521_standard_comp_to_omission_D1_s...   \n",
       "\n",
       "                                      recording_file           din  \\\n",
       "0  20230617_115521_standard_comp_to_omission_D1_s...  dio_ECU_Din1   \n",
       "1  20230617_115521_standard_comp_to_omission_D1_s...  dio_ECU_Din1   \n",
       "2  20230617_115521_standard_comp_to_omission_D1_s...  dio_ECU_Din1   \n",
       "3  20230617_115521_standard_comp_to_omission_D1_s...  dio_ECU_Din1   \n",
       "4  20230617_115521_standard_comp_to_omission_D1_s...  dio_ECU_Din1   \n",
       "\n",
       "   time_stamp_index                                         video_file  \\\n",
       "0         1030879.0  20230617_115521_standard_comp_to_omission_D1_s...   \n",
       "1         1030879.0  20230617_115521_standard_comp_to_omission_D1_s...   \n",
       "2         3430878.0  20230617_115521_standard_comp_to_omission_D1_s...   \n",
       "3         3430878.0  20230617_115521_standard_comp_to_omission_D1_s...   \n",
       "4         5730880.0  20230617_115521_standard_comp_to_omission_D1_s...   \n",
       "\n",
       "   video_frame  video_number    subject_info  ...  \\\n",
       "0         1029           1.0  1-1_t1b3L_box1  ...   \n",
       "1         1029           1.0  1-1_t1b3L_box1  ...   \n",
       "2         3425           1.0  1-1_t1b3L_box1  ...   \n",
       "3         3425           1.0  1-1_t1b3L_box1  ...   \n",
       "4         5720           1.0  1-1_t1b3L_box1  ...   \n",
       "\n",
       "                       trial_chunked_ephys_timestamp  \\\n",
       "0  [(1030879.0, 1050879.0), (1050879.0, 1070879.0...   \n",
       "1  [(1030879.0, 1050879.0), (1050879.0, 1070879.0...   \n",
       "2  [(3430878.0, 3450878.0), (3450878.0, 3470878.0...   \n",
       "3  [(3430878.0, 3450878.0), (3450878.0, 3470878.0...   \n",
       "4  [(5730880.0, 5750880.0), (5750880.0, 5770880.0...   \n",
       "\n",
       "                    baseline_chunked_ephys_timestamp  \\\n",
       "0  [(830879.0, 850879.0), (850879.0, 870879.0), (...   \n",
       "1  [(830879.0, 850879.0), (850879.0, 870879.0), (...   \n",
       "2  [(3230878.0, 3250878.0), (3250878.0, 3270878.0...   \n",
       "3  [(3230878.0, 3250878.0), (3250878.0, 3270878.0...   \n",
       "4  [(5530880.0, 5550880.0), (5550880.0, 5570880.0...   \n",
       "\n",
       "                             trial_chunked_lfp_index  \\\n",
       "0  [(51543.0, 52543.0), (52543.0, 53543.0), (5354...   \n",
       "1  [(51543.0, 52543.0), (52543.0, 53543.0), (5354...   \n",
       "2  [(171543.0, 172543.0), (172543.0, 173543.0), (...   \n",
       "3  [(171543.0, 172543.0), (172543.0, 173543.0), (...   \n",
       "4  [(286544.0, 287544.0), (287544.0, 288544.0), (...   \n",
       "\n",
       "                          baseline_chunked_lfp_index trial_or_baseline  \\\n",
       "0  [(41543.0, 42543.0), (42543.0, 43543.0), (4354...          baseline   \n",
       "1  [(41543.0, 42543.0), (42543.0, 43543.0), (4354...             trial   \n",
       "2  [(161543.0, 162543.0), (162543.0, 163543.0), (...          baseline   \n",
       "3  [(161543.0, 162543.0), (162543.0, 163543.0), (...             trial   \n",
       "4  [(276544.0, 277544.0), (277544.0, 278544.0), (...          baseline   \n",
       "\n",
       "                             current_thorax_velocity  \\\n",
       "0  [1.4426199366829346, 0.9791696179861392, 0.723...   \n",
       "1  [5.37049091429759, 5.196457834281414, 4.916080...   \n",
       "2  [0.30868701696333833, 0.28295974779669697, 0.3...   \n",
       "3  [5.92396632721846, 6.021571590092062, 6.315228...   \n",
       "4  [12.322893761589675, 12.718067202520714, 12.42...   \n",
       "\n",
       "                     current_chunked_thorax_velocity  \\\n",
       "0  [0.6049464906054562, 0.8003202428686067, 1.576...   \n",
       "1  [6.000200627117622, 6.7736199704500875, 3.6055...   \n",
       "2  [0.9004001623271887, 0.9399580184978504, 0.975...   \n",
       "3  [7.90304984461326, 5.389214776732418, 17.22809...   \n",
       "4  [6.576149902489789, 4.890034291307031, 1.53587...   \n",
       "\n",
       "                                   chunked_lfp_index  \\\n",
       "0  [(41543.0, 42543.0), (42543.0, 43543.0), (4354...   \n",
       "1  [(51543.0, 52543.0), (52543.0, 53543.0), (5354...   \n",
       "2  [(161543.0, 162543.0), (162543.0, 163543.0), (...   \n",
       "3  [(171543.0, 172543.0), (172543.0, 173543.0), (...   \n",
       "4  [(276544.0, 277544.0), (277544.0, 278544.0), (...   \n",
       "\n",
       "                             chunked_ephys_timestamp  \\\n",
       "0  [(830879.0, 850879.0), (850879.0, 870879.0), (...   \n",
       "1  [(1030879.0, 1050879.0), (1050879.0, 1070879.0...   \n",
       "2  [(3230878.0, 3250878.0), (3250878.0, 3270878.0...   \n",
       "3  [(3430878.0, 3450878.0), (3450878.0, 3470878.0...   \n",
       "4  [(5530880.0, 5550880.0), (5550880.0, 5570880.0...   \n",
       "\n",
       "   binned_current_thorax_velocity  \n",
       "0  [0, 0, 0, 0, 0, 0, 0, 2, 2, 1]  \n",
       "1  [1, 1, 0, 1, 1, 1, 0, 0, 0, 0]  \n",
       "2  [0, 0, 0, 0, 0, 0, 0, 2, 1, 1]  \n",
       "3  [1, 1, 2, 2, 0, 0, 0, 0, 0, 0]  \n",
       "4  [1, 0, 0, 0, 0, 0, 0, 0, 0, 0]  \n",
       "\n",
       "[5 rows x 62 columns]"
      ]
     },
     "execution_count": 22,
     "metadata": {},
     "output_type": "execute_result"
    }
   ],
   "source": [
    "all_trials_df.head()"
   ]
  },
  {
   "cell_type": "markdown",
   "metadata": {},
   "source": [
    "- Original timestamps are based on ephys recordings at 20kHz. The LFP will be at 1kHz, so we will need to divide all the timestamps by 20"
   ]
  },
  {
   "cell_type": "code",
   "execution_count": 23,
   "metadata": {},
   "outputs": [],
   "source": [
    "all_trials_df[\"resampled_index\"] = all_trials_df[\"time_stamp_index\"] // 20"
   ]
  },
  {
   "cell_type": "code",
   "execution_count": 24,
   "metadata": {},
   "outputs": [
    {
     "data": {
      "text/plain": [
       "array(['20230617_115521_standard_comp_to_omission_D1_subj_1-1_and_1-2',\n",
       "       '20230618_100636_standard_comp_to_omission_D2_subj_1-4_and_1-1',\n",
       "       '20230619_115321_standard_comp_to_omission_D3_subj_1-2_and_1-4',\n",
       "       '20230620_114347_standard_comp_to_omission_D4_subj_1-2_and_1-1',\n",
       "       '20230621_111240_standard_comp_to_omission_D5_subj_1-4_and_1-2'],\n",
       "      dtype=object)"
      ]
     },
     "execution_count": 24,
     "metadata": {},
     "output_type": "execute_result"
    }
   ],
   "source": [
    "all_trials_df[\"recording_dir\"].unique()"
   ]
  },
  {
   "cell_type": "markdown",
   "metadata": {},
   "source": [
    "- Getting a list of all the subjects through the recording name"
   ]
  },
  {
   "cell_type": "code",
   "execution_count": 25,
   "metadata": {},
   "outputs": [],
   "source": [
    "all_trials_df[\"all_subjects\"] = all_trials_df[\"recording_dir\"].apply(lambda x: [\"{}.{}\".format(tup[0],tup[1]) for tup in re.findall(r'(\\d+)-(\\d+)', x.replace(\"_\", \"-\"))[1:]])"
   ]
  },
  {
   "cell_type": "code",
   "execution_count": 26,
   "metadata": {
    "scrolled": true
   },
   "outputs": [
    {
     "data": {
      "text/plain": [
       "0    [1.1, 1.2]\n",
       "1    [1.1, 1.2]\n",
       "2    [1.1, 1.2]\n",
       "3    [1.1, 1.2]\n",
       "4    [1.1, 1.2]\n",
       "Name: all_subjects, dtype: object"
      ]
     },
     "execution_count": 26,
     "metadata": {},
     "output_type": "execute_result"
    }
   ],
   "source": [
    "all_trials_df[\"all_subjects\"].head()"
   ]
  },
  {
   "cell_type": "markdown",
   "metadata": {},
   "source": [
    "- Getting the current subject of the recording through the ending of the recording name file"
   ]
  },
  {
   "cell_type": "code",
   "execution_count": 27,
   "metadata": {},
   "outputs": [
    {
     "data": {
      "text/plain": [
       "0    1-1_t1b3L_box1\n",
       "1    1-1_t1b3L_box1\n",
       "2    1-1_t1b3L_box1\n",
       "3    1-1_t1b3L_box1\n",
       "4    1-1_t1b3L_box1\n",
       "Name: subject_info, dtype: object"
      ]
     },
     "execution_count": 27,
     "metadata": {},
     "output_type": "execute_result"
    }
   ],
   "source": [
    "all_trials_df[\"subject_info\"].head()"
   ]
  },
  {
   "cell_type": "code",
   "execution_count": 28,
   "metadata": {},
   "outputs": [],
   "source": [
    "all_trials_df[\"current_subject\"] = all_trials_df[\"subject_info\"].apply(lambda x: \".\".join(x.replace(\"-\",\"_\").split(\"_\")[:2]))"
   ]
  },
  {
   "cell_type": "code",
   "execution_count": 29,
   "metadata": {},
   "outputs": [
    {
     "data": {
      "text/html": [
       "<div>\n",
       "<style scoped>\n",
       "    .dataframe tbody tr th:only-of-type {\n",
       "        vertical-align: middle;\n",
       "    }\n",
       "\n",
       "    .dataframe tbody tr th {\n",
       "        vertical-align: top;\n",
       "    }\n",
       "\n",
       "    .dataframe thead th {\n",
       "        text-align: right;\n",
       "    }\n",
       "</style>\n",
       "<table border=\"1\" class=\"dataframe\">\n",
       "  <thead>\n",
       "    <tr style=\"text-align: right;\">\n",
       "      <th></th>\n",
       "      <th>time</th>\n",
       "      <th>state</th>\n",
       "      <th>recording_dir</th>\n",
       "      <th>recording_file</th>\n",
       "      <th>din</th>\n",
       "      <th>time_stamp_index</th>\n",
       "      <th>video_file</th>\n",
       "      <th>video_frame</th>\n",
       "      <th>video_number</th>\n",
       "      <th>subject_info</th>\n",
       "      <th>...</th>\n",
       "      <th>trial_chunked_ephys_timestamp</th>\n",
       "      <th>baseline_chunked_ephys_timestamp</th>\n",
       "      <th>trial_chunked_lfp_index</th>\n",
       "      <th>baseline_chunked_lfp_index</th>\n",
       "      <th>trial_or_baseline</th>\n",
       "      <th>current_thorax_velocity</th>\n",
       "      <th>current_chunked_thorax_velocity</th>\n",
       "      <th>chunked_lfp_index</th>\n",
       "      <th>chunked_ephys_timestamp</th>\n",
       "      <th>binned_current_thorax_velocity</th>\n",
       "    </tr>\n",
       "  </thead>\n",
       "  <tbody>\n",
       "    <tr>\n",
       "      <th>0</th>\n",
       "      <td>4509412.0</td>\n",
       "      <td>1.0</td>\n",
       "      <td>20230617_115521_standard_comp_to_omission_D1_s...</td>\n",
       "      <td>20230617_115521_standard_comp_to_omission_D1_s...</td>\n",
       "      <td>dio_ECU_Din1</td>\n",
       "      <td>1030879.0</td>\n",
       "      <td>20230617_115521_standard_comp_to_omission_D1_s...</td>\n",
       "      <td>1029</td>\n",
       "      <td>1.0</td>\n",
       "      <td>1-1_t1b3L_box1</td>\n",
       "      <td>...</td>\n",
       "      <td>[(1030879.0, 1050879.0), (1050879.0, 1070879.0...</td>\n",
       "      <td>[(830879.0, 850879.0), (850879.0, 870879.0), (...</td>\n",
       "      <td>[(51543.0, 52543.0), (52543.0, 53543.0), (5354...</td>\n",
       "      <td>[(41543.0, 42543.0), (42543.0, 43543.0), (4354...</td>\n",
       "      <td>baseline</td>\n",
       "      <td>[1.4426199366829346, 0.9791696179861392, 0.723...</td>\n",
       "      <td>[0.6049464906054562, 0.8003202428686067, 1.576...</td>\n",
       "      <td>[(41543.0, 42543.0), (42543.0, 43543.0), (4354...</td>\n",
       "      <td>[(830879.0, 850879.0), (850879.0, 870879.0), (...</td>\n",
       "      <td>[0, 0, 0, 0, 0, 0, 0, 2, 2, 1]</td>\n",
       "    </tr>\n",
       "    <tr>\n",
       "      <th>1</th>\n",
       "      <td>4509412.0</td>\n",
       "      <td>1.0</td>\n",
       "      <td>20230617_115521_standard_comp_to_omission_D1_s...</td>\n",
       "      <td>20230617_115521_standard_comp_to_omission_D1_s...</td>\n",
       "      <td>dio_ECU_Din1</td>\n",
       "      <td>1030879.0</td>\n",
       "      <td>20230617_115521_standard_comp_to_omission_D1_s...</td>\n",
       "      <td>1029</td>\n",
       "      <td>1.0</td>\n",
       "      <td>1-1_t1b3L_box1</td>\n",
       "      <td>...</td>\n",
       "      <td>[(1030879.0, 1050879.0), (1050879.0, 1070879.0...</td>\n",
       "      <td>[(830879.0, 850879.0), (850879.0, 870879.0), (...</td>\n",
       "      <td>[(51543.0, 52543.0), (52543.0, 53543.0), (5354...</td>\n",
       "      <td>[(41543.0, 42543.0), (42543.0, 43543.0), (4354...</td>\n",
       "      <td>trial</td>\n",
       "      <td>[5.37049091429759, 5.196457834281414, 4.916080...</td>\n",
       "      <td>[6.000200627117622, 6.7736199704500875, 3.6055...</td>\n",
       "      <td>[(51543.0, 52543.0), (52543.0, 53543.0), (5354...</td>\n",
       "      <td>[(1030879.0, 1050879.0), (1050879.0, 1070879.0...</td>\n",
       "      <td>[1, 1, 0, 1, 1, 1, 0, 0, 0, 0]</td>\n",
       "    </tr>\n",
       "    <tr>\n",
       "      <th>2</th>\n",
       "      <td>6909411.0</td>\n",
       "      <td>1.0</td>\n",
       "      <td>20230617_115521_standard_comp_to_omission_D1_s...</td>\n",
       "      <td>20230617_115521_standard_comp_to_omission_D1_s...</td>\n",
       "      <td>dio_ECU_Din1</td>\n",
       "      <td>3430878.0</td>\n",
       "      <td>20230617_115521_standard_comp_to_omission_D1_s...</td>\n",
       "      <td>3425</td>\n",
       "      <td>1.0</td>\n",
       "      <td>1-1_t1b3L_box1</td>\n",
       "      <td>...</td>\n",
       "      <td>[(3430878.0, 3450878.0), (3450878.0, 3470878.0...</td>\n",
       "      <td>[(3230878.0, 3250878.0), (3250878.0, 3270878.0...</td>\n",
       "      <td>[(171543.0, 172543.0), (172543.0, 173543.0), (...</td>\n",
       "      <td>[(161543.0, 162543.0), (162543.0, 163543.0), (...</td>\n",
       "      <td>baseline</td>\n",
       "      <td>[0.30868701696333833, 0.28295974779669697, 0.3...</td>\n",
       "      <td>[0.9004001623271887, 0.9399580184978504, 0.975...</td>\n",
       "      <td>[(161543.0, 162543.0), (162543.0, 163543.0), (...</td>\n",
       "      <td>[(3230878.0, 3250878.0), (3250878.0, 3270878.0...</td>\n",
       "      <td>[0, 0, 0, 0, 0, 0, 0, 2, 1, 1]</td>\n",
       "    </tr>\n",
       "    <tr>\n",
       "      <th>3</th>\n",
       "      <td>6909411.0</td>\n",
       "      <td>1.0</td>\n",
       "      <td>20230617_115521_standard_comp_to_omission_D1_s...</td>\n",
       "      <td>20230617_115521_standard_comp_to_omission_D1_s...</td>\n",
       "      <td>dio_ECU_Din1</td>\n",
       "      <td>3430878.0</td>\n",
       "      <td>20230617_115521_standard_comp_to_omission_D1_s...</td>\n",
       "      <td>3425</td>\n",
       "      <td>1.0</td>\n",
       "      <td>1-1_t1b3L_box1</td>\n",
       "      <td>...</td>\n",
       "      <td>[(3430878.0, 3450878.0), (3450878.0, 3470878.0...</td>\n",
       "      <td>[(3230878.0, 3250878.0), (3250878.0, 3270878.0...</td>\n",
       "      <td>[(171543.0, 172543.0), (172543.0, 173543.0), (...</td>\n",
       "      <td>[(161543.0, 162543.0), (162543.0, 163543.0), (...</td>\n",
       "      <td>trial</td>\n",
       "      <td>[5.92396632721846, 6.021571590092062, 6.315228...</td>\n",
       "      <td>[7.90304984461326, 5.389214776732418, 17.22809...</td>\n",
       "      <td>[(171543.0, 172543.0), (172543.0, 173543.0), (...</td>\n",
       "      <td>[(3430878.0, 3450878.0), (3450878.0, 3470878.0...</td>\n",
       "      <td>[1, 1, 2, 2, 0, 0, 0, 0, 0, 0]</td>\n",
       "    </tr>\n",
       "    <tr>\n",
       "      <th>4</th>\n",
       "      <td>9209413.0</td>\n",
       "      <td>1.0</td>\n",
       "      <td>20230617_115521_standard_comp_to_omission_D1_s...</td>\n",
       "      <td>20230617_115521_standard_comp_to_omission_D1_s...</td>\n",
       "      <td>dio_ECU_Din1</td>\n",
       "      <td>5730880.0</td>\n",
       "      <td>20230617_115521_standard_comp_to_omission_D1_s...</td>\n",
       "      <td>5720</td>\n",
       "      <td>1.0</td>\n",
       "      <td>1-1_t1b3L_box1</td>\n",
       "      <td>...</td>\n",
       "      <td>[(5730880.0, 5750880.0), (5750880.0, 5770880.0...</td>\n",
       "      <td>[(5530880.0, 5550880.0), (5550880.0, 5570880.0...</td>\n",
       "      <td>[(286544.0, 287544.0), (287544.0, 288544.0), (...</td>\n",
       "      <td>[(276544.0, 277544.0), (277544.0, 278544.0), (...</td>\n",
       "      <td>baseline</td>\n",
       "      <td>[12.322893761589675, 12.718067202520714, 12.42...</td>\n",
       "      <td>[6.576149902489789, 4.890034291307031, 1.53587...</td>\n",
       "      <td>[(276544.0, 277544.0), (277544.0, 278544.0), (...</td>\n",
       "      <td>[(5530880.0, 5550880.0), (5550880.0, 5570880.0...</td>\n",
       "      <td>[1, 0, 0, 0, 0, 0, 0, 0, 0, 0]</td>\n",
       "    </tr>\n",
       "  </tbody>\n",
       "</table>\n",
       "<p>5 rows × 62 columns</p>\n",
       "</div>"
      ],
      "text/plain": [
       "        time  state                                      recording_dir  \\\n",
       "0  4509412.0    1.0  20230617_115521_standard_comp_to_omission_D1_s...   \n",
       "1  4509412.0    1.0  20230617_115521_standard_comp_to_omission_D1_s...   \n",
       "2  6909411.0    1.0  20230617_115521_standard_comp_to_omission_D1_s...   \n",
       "3  6909411.0    1.0  20230617_115521_standard_comp_to_omission_D1_s...   \n",
       "4  9209413.0    1.0  20230617_115521_standard_comp_to_omission_D1_s...   \n",
       "\n",
       "                                      recording_file           din  \\\n",
       "0  20230617_115521_standard_comp_to_omission_D1_s...  dio_ECU_Din1   \n",
       "1  20230617_115521_standard_comp_to_omission_D1_s...  dio_ECU_Din1   \n",
       "2  20230617_115521_standard_comp_to_omission_D1_s...  dio_ECU_Din1   \n",
       "3  20230617_115521_standard_comp_to_omission_D1_s...  dio_ECU_Din1   \n",
       "4  20230617_115521_standard_comp_to_omission_D1_s...  dio_ECU_Din1   \n",
       "\n",
       "   time_stamp_index                                         video_file  \\\n",
       "0         1030879.0  20230617_115521_standard_comp_to_omission_D1_s...   \n",
       "1         1030879.0  20230617_115521_standard_comp_to_omission_D1_s...   \n",
       "2         3430878.0  20230617_115521_standard_comp_to_omission_D1_s...   \n",
       "3         3430878.0  20230617_115521_standard_comp_to_omission_D1_s...   \n",
       "4         5730880.0  20230617_115521_standard_comp_to_omission_D1_s...   \n",
       "\n",
       "   video_frame  video_number    subject_info  ...  \\\n",
       "0         1029           1.0  1-1_t1b3L_box1  ...   \n",
       "1         1029           1.0  1-1_t1b3L_box1  ...   \n",
       "2         3425           1.0  1-1_t1b3L_box1  ...   \n",
       "3         3425           1.0  1-1_t1b3L_box1  ...   \n",
       "4         5720           1.0  1-1_t1b3L_box1  ...   \n",
       "\n",
       "                       trial_chunked_ephys_timestamp  \\\n",
       "0  [(1030879.0, 1050879.0), (1050879.0, 1070879.0...   \n",
       "1  [(1030879.0, 1050879.0), (1050879.0, 1070879.0...   \n",
       "2  [(3430878.0, 3450878.0), (3450878.0, 3470878.0...   \n",
       "3  [(3430878.0, 3450878.0), (3450878.0, 3470878.0...   \n",
       "4  [(5730880.0, 5750880.0), (5750880.0, 5770880.0...   \n",
       "\n",
       "                    baseline_chunked_ephys_timestamp  \\\n",
       "0  [(830879.0, 850879.0), (850879.0, 870879.0), (...   \n",
       "1  [(830879.0, 850879.0), (850879.0, 870879.0), (...   \n",
       "2  [(3230878.0, 3250878.0), (3250878.0, 3270878.0...   \n",
       "3  [(3230878.0, 3250878.0), (3250878.0, 3270878.0...   \n",
       "4  [(5530880.0, 5550880.0), (5550880.0, 5570880.0...   \n",
       "\n",
       "                             trial_chunked_lfp_index  \\\n",
       "0  [(51543.0, 52543.0), (52543.0, 53543.0), (5354...   \n",
       "1  [(51543.0, 52543.0), (52543.0, 53543.0), (5354...   \n",
       "2  [(171543.0, 172543.0), (172543.0, 173543.0), (...   \n",
       "3  [(171543.0, 172543.0), (172543.0, 173543.0), (...   \n",
       "4  [(286544.0, 287544.0), (287544.0, 288544.0), (...   \n",
       "\n",
       "                          baseline_chunked_lfp_index trial_or_baseline  \\\n",
       "0  [(41543.0, 42543.0), (42543.0, 43543.0), (4354...          baseline   \n",
       "1  [(41543.0, 42543.0), (42543.0, 43543.0), (4354...             trial   \n",
       "2  [(161543.0, 162543.0), (162543.0, 163543.0), (...          baseline   \n",
       "3  [(161543.0, 162543.0), (162543.0, 163543.0), (...             trial   \n",
       "4  [(276544.0, 277544.0), (277544.0, 278544.0), (...          baseline   \n",
       "\n",
       "                             current_thorax_velocity  \\\n",
       "0  [1.4426199366829346, 0.9791696179861392, 0.723...   \n",
       "1  [5.37049091429759, 5.196457834281414, 4.916080...   \n",
       "2  [0.30868701696333833, 0.28295974779669697, 0.3...   \n",
       "3  [5.92396632721846, 6.021571590092062, 6.315228...   \n",
       "4  [12.322893761589675, 12.718067202520714, 12.42...   \n",
       "\n",
       "                     current_chunked_thorax_velocity  \\\n",
       "0  [0.6049464906054562, 0.8003202428686067, 1.576...   \n",
       "1  [6.000200627117622, 6.7736199704500875, 3.6055...   \n",
       "2  [0.9004001623271887, 0.9399580184978504, 0.975...   \n",
       "3  [7.90304984461326, 5.389214776732418, 17.22809...   \n",
       "4  [6.576149902489789, 4.890034291307031, 1.53587...   \n",
       "\n",
       "                                   chunked_lfp_index  \\\n",
       "0  [(41543.0, 42543.0), (42543.0, 43543.0), (4354...   \n",
       "1  [(51543.0, 52543.0), (52543.0, 53543.0), (5354...   \n",
       "2  [(161543.0, 162543.0), (162543.0, 163543.0), (...   \n",
       "3  [(171543.0, 172543.0), (172543.0, 173543.0), (...   \n",
       "4  [(276544.0, 277544.0), (277544.0, 278544.0), (...   \n",
       "\n",
       "                             chunked_ephys_timestamp  \\\n",
       "0  [(830879.0, 850879.0), (850879.0, 870879.0), (...   \n",
       "1  [(1030879.0, 1050879.0), (1050879.0, 1070879.0...   \n",
       "2  [(3230878.0, 3250878.0), (3250878.0, 3270878.0...   \n",
       "3  [(3430878.0, 3450878.0), (3450878.0, 3470878.0...   \n",
       "4  [(5530880.0, 5550880.0), (5550880.0, 5570880.0...   \n",
       "\n",
       "   binned_current_thorax_velocity  \n",
       "0  [0, 0, 0, 0, 0, 0, 0, 2, 2, 1]  \n",
       "1  [1, 1, 0, 1, 1, 1, 0, 0, 0, 0]  \n",
       "2  [0, 0, 0, 0, 0, 0, 0, 2, 1, 1]  \n",
       "3  [1, 1, 2, 2, 0, 0, 0, 0, 0, 0]  \n",
       "4  [1, 0, 0, 0, 0, 0, 0, 0, 0, 0]  \n",
       "\n",
       "[5 rows x 62 columns]"
      ]
     },
     "execution_count": 29,
     "metadata": {},
     "output_type": "execute_result"
    }
   ],
   "source": [
    "all_trials_df.head()"
   ]
  },
  {
   "cell_type": "markdown",
   "metadata": {},
   "source": [
    "- Labeling the trial as a winner or loser if the winner matches the subject id or not"
   ]
  },
  {
   "cell_type": "code",
   "execution_count": 30,
   "metadata": {},
   "outputs": [],
   "source": [
    "all_trials_df[\"trial_outcome\"] = all_trials_df.apply(\n",
    "    lambda x: \"win\" if str(x[\"condition\"]).strip() == str(x[\"current_subject\"]) \n",
    "             else (\"lose\" if str(x[\"condition\"]) in x[\"all_subjects\"] \n",
    "                   else x[\"condition\"]), axis=1)"
   ]
  },
  {
   "cell_type": "code",
   "execution_count": 31,
   "metadata": {},
   "outputs": [
    {
     "data": {
      "text/html": [
       "<div>\n",
       "<style scoped>\n",
       "    .dataframe tbody tr th:only-of-type {\n",
       "        vertical-align: middle;\n",
       "    }\n",
       "\n",
       "    .dataframe tbody tr th {\n",
       "        vertical-align: top;\n",
       "    }\n",
       "\n",
       "    .dataframe thead th {\n",
       "        text-align: right;\n",
       "    }\n",
       "</style>\n",
       "<table border=\"1\" class=\"dataframe\">\n",
       "  <thead>\n",
       "    <tr style=\"text-align: right;\">\n",
       "      <th></th>\n",
       "      <th>time</th>\n",
       "      <th>state</th>\n",
       "      <th>recording_dir</th>\n",
       "      <th>recording_file</th>\n",
       "      <th>din</th>\n",
       "      <th>time_stamp_index</th>\n",
       "      <th>video_file</th>\n",
       "      <th>video_frame</th>\n",
       "      <th>video_number</th>\n",
       "      <th>subject_info</th>\n",
       "      <th>...</th>\n",
       "      <th>trial_chunked_ephys_timestamp</th>\n",
       "      <th>baseline_chunked_ephys_timestamp</th>\n",
       "      <th>trial_chunked_lfp_index</th>\n",
       "      <th>baseline_chunked_lfp_index</th>\n",
       "      <th>trial_or_baseline</th>\n",
       "      <th>current_thorax_velocity</th>\n",
       "      <th>current_chunked_thorax_velocity</th>\n",
       "      <th>chunked_lfp_index</th>\n",
       "      <th>chunked_ephys_timestamp</th>\n",
       "      <th>binned_current_thorax_velocity</th>\n",
       "    </tr>\n",
       "  </thead>\n",
       "  <tbody>\n",
       "    <tr>\n",
       "      <th>0</th>\n",
       "      <td>4509412.0</td>\n",
       "      <td>1.0</td>\n",
       "      <td>20230617_115521_standard_comp_to_omission_D1_s...</td>\n",
       "      <td>20230617_115521_standard_comp_to_omission_D1_s...</td>\n",
       "      <td>dio_ECU_Din1</td>\n",
       "      <td>1030879.0</td>\n",
       "      <td>20230617_115521_standard_comp_to_omission_D1_s...</td>\n",
       "      <td>1029</td>\n",
       "      <td>1.0</td>\n",
       "      <td>1-1_t1b3L_box1</td>\n",
       "      <td>...</td>\n",
       "      <td>[(1030879.0, 1050879.0), (1050879.0, 1070879.0...</td>\n",
       "      <td>[(830879.0, 850879.0), (850879.0, 870879.0), (...</td>\n",
       "      <td>[(51543.0, 52543.0), (52543.0, 53543.0), (5354...</td>\n",
       "      <td>[(41543.0, 42543.0), (42543.0, 43543.0), (4354...</td>\n",
       "      <td>baseline</td>\n",
       "      <td>[1.4426199366829346, 0.9791696179861392, 0.723...</td>\n",
       "      <td>[0.6049464906054562, 0.8003202428686067, 1.576...</td>\n",
       "      <td>[(41543.0, 42543.0), (42543.0, 43543.0), (4354...</td>\n",
       "      <td>[(830879.0, 850879.0), (850879.0, 870879.0), (...</td>\n",
       "      <td>[0, 0, 0, 0, 0, 0, 0, 2, 2, 1]</td>\n",
       "    </tr>\n",
       "    <tr>\n",
       "      <th>1</th>\n",
       "      <td>4509412.0</td>\n",
       "      <td>1.0</td>\n",
       "      <td>20230617_115521_standard_comp_to_omission_D1_s...</td>\n",
       "      <td>20230617_115521_standard_comp_to_omission_D1_s...</td>\n",
       "      <td>dio_ECU_Din1</td>\n",
       "      <td>1030879.0</td>\n",
       "      <td>20230617_115521_standard_comp_to_omission_D1_s...</td>\n",
       "      <td>1029</td>\n",
       "      <td>1.0</td>\n",
       "      <td>1-1_t1b3L_box1</td>\n",
       "      <td>...</td>\n",
       "      <td>[(1030879.0, 1050879.0), (1050879.0, 1070879.0...</td>\n",
       "      <td>[(830879.0, 850879.0), (850879.0, 870879.0), (...</td>\n",
       "      <td>[(51543.0, 52543.0), (52543.0, 53543.0), (5354...</td>\n",
       "      <td>[(41543.0, 42543.0), (42543.0, 43543.0), (4354...</td>\n",
       "      <td>trial</td>\n",
       "      <td>[5.37049091429759, 5.196457834281414, 4.916080...</td>\n",
       "      <td>[6.000200627117622, 6.7736199704500875, 3.6055...</td>\n",
       "      <td>[(51543.0, 52543.0), (52543.0, 53543.0), (5354...</td>\n",
       "      <td>[(1030879.0, 1050879.0), (1050879.0, 1070879.0...</td>\n",
       "      <td>[1, 1, 0, 1, 1, 1, 0, 0, 0, 0]</td>\n",
       "    </tr>\n",
       "    <tr>\n",
       "      <th>2</th>\n",
       "      <td>6909411.0</td>\n",
       "      <td>1.0</td>\n",
       "      <td>20230617_115521_standard_comp_to_omission_D1_s...</td>\n",
       "      <td>20230617_115521_standard_comp_to_omission_D1_s...</td>\n",
       "      <td>dio_ECU_Din1</td>\n",
       "      <td>3430878.0</td>\n",
       "      <td>20230617_115521_standard_comp_to_omission_D1_s...</td>\n",
       "      <td>3425</td>\n",
       "      <td>1.0</td>\n",
       "      <td>1-1_t1b3L_box1</td>\n",
       "      <td>...</td>\n",
       "      <td>[(3430878.0, 3450878.0), (3450878.0, 3470878.0...</td>\n",
       "      <td>[(3230878.0, 3250878.0), (3250878.0, 3270878.0...</td>\n",
       "      <td>[(171543.0, 172543.0), (172543.0, 173543.0), (...</td>\n",
       "      <td>[(161543.0, 162543.0), (162543.0, 163543.0), (...</td>\n",
       "      <td>baseline</td>\n",
       "      <td>[0.30868701696333833, 0.28295974779669697, 0.3...</td>\n",
       "      <td>[0.9004001623271887, 0.9399580184978504, 0.975...</td>\n",
       "      <td>[(161543.0, 162543.0), (162543.0, 163543.0), (...</td>\n",
       "      <td>[(3230878.0, 3250878.0), (3250878.0, 3270878.0...</td>\n",
       "      <td>[0, 0, 0, 0, 0, 0, 0, 2, 1, 1]</td>\n",
       "    </tr>\n",
       "    <tr>\n",
       "      <th>3</th>\n",
       "      <td>6909411.0</td>\n",
       "      <td>1.0</td>\n",
       "      <td>20230617_115521_standard_comp_to_omission_D1_s...</td>\n",
       "      <td>20230617_115521_standard_comp_to_omission_D1_s...</td>\n",
       "      <td>dio_ECU_Din1</td>\n",
       "      <td>3430878.0</td>\n",
       "      <td>20230617_115521_standard_comp_to_omission_D1_s...</td>\n",
       "      <td>3425</td>\n",
       "      <td>1.0</td>\n",
       "      <td>1-1_t1b3L_box1</td>\n",
       "      <td>...</td>\n",
       "      <td>[(3430878.0, 3450878.0), (3450878.0, 3470878.0...</td>\n",
       "      <td>[(3230878.0, 3250878.0), (3250878.0, 3270878.0...</td>\n",
       "      <td>[(171543.0, 172543.0), (172543.0, 173543.0), (...</td>\n",
       "      <td>[(161543.0, 162543.0), (162543.0, 163543.0), (...</td>\n",
       "      <td>trial</td>\n",
       "      <td>[5.92396632721846, 6.021571590092062, 6.315228...</td>\n",
       "      <td>[7.90304984461326, 5.389214776732418, 17.22809...</td>\n",
       "      <td>[(171543.0, 172543.0), (172543.0, 173543.0), (...</td>\n",
       "      <td>[(3430878.0, 3450878.0), (3450878.0, 3470878.0...</td>\n",
       "      <td>[1, 1, 2, 2, 0, 0, 0, 0, 0, 0]</td>\n",
       "    </tr>\n",
       "    <tr>\n",
       "      <th>4</th>\n",
       "      <td>9209413.0</td>\n",
       "      <td>1.0</td>\n",
       "      <td>20230617_115521_standard_comp_to_omission_D1_s...</td>\n",
       "      <td>20230617_115521_standard_comp_to_omission_D1_s...</td>\n",
       "      <td>dio_ECU_Din1</td>\n",
       "      <td>5730880.0</td>\n",
       "      <td>20230617_115521_standard_comp_to_omission_D1_s...</td>\n",
       "      <td>5720</td>\n",
       "      <td>1.0</td>\n",
       "      <td>1-1_t1b3L_box1</td>\n",
       "      <td>...</td>\n",
       "      <td>[(5730880.0, 5750880.0), (5750880.0, 5770880.0...</td>\n",
       "      <td>[(5530880.0, 5550880.0), (5550880.0, 5570880.0...</td>\n",
       "      <td>[(286544.0, 287544.0), (287544.0, 288544.0), (...</td>\n",
       "      <td>[(276544.0, 277544.0), (277544.0, 278544.0), (...</td>\n",
       "      <td>baseline</td>\n",
       "      <td>[12.322893761589675, 12.718067202520714, 12.42...</td>\n",
       "      <td>[6.576149902489789, 4.890034291307031, 1.53587...</td>\n",
       "      <td>[(276544.0, 277544.0), (277544.0, 278544.0), (...</td>\n",
       "      <td>[(5530880.0, 5550880.0), (5550880.0, 5570880.0...</td>\n",
       "      <td>[1, 0, 0, 0, 0, 0, 0, 0, 0, 0]</td>\n",
       "    </tr>\n",
       "  </tbody>\n",
       "</table>\n",
       "<p>5 rows × 62 columns</p>\n",
       "</div>"
      ],
      "text/plain": [
       "        time  state                                      recording_dir  \\\n",
       "0  4509412.0    1.0  20230617_115521_standard_comp_to_omission_D1_s...   \n",
       "1  4509412.0    1.0  20230617_115521_standard_comp_to_omission_D1_s...   \n",
       "2  6909411.0    1.0  20230617_115521_standard_comp_to_omission_D1_s...   \n",
       "3  6909411.0    1.0  20230617_115521_standard_comp_to_omission_D1_s...   \n",
       "4  9209413.0    1.0  20230617_115521_standard_comp_to_omission_D1_s...   \n",
       "\n",
       "                                      recording_file           din  \\\n",
       "0  20230617_115521_standard_comp_to_omission_D1_s...  dio_ECU_Din1   \n",
       "1  20230617_115521_standard_comp_to_omission_D1_s...  dio_ECU_Din1   \n",
       "2  20230617_115521_standard_comp_to_omission_D1_s...  dio_ECU_Din1   \n",
       "3  20230617_115521_standard_comp_to_omission_D1_s...  dio_ECU_Din1   \n",
       "4  20230617_115521_standard_comp_to_omission_D1_s...  dio_ECU_Din1   \n",
       "\n",
       "   time_stamp_index                                         video_file  \\\n",
       "0         1030879.0  20230617_115521_standard_comp_to_omission_D1_s...   \n",
       "1         1030879.0  20230617_115521_standard_comp_to_omission_D1_s...   \n",
       "2         3430878.0  20230617_115521_standard_comp_to_omission_D1_s...   \n",
       "3         3430878.0  20230617_115521_standard_comp_to_omission_D1_s...   \n",
       "4         5730880.0  20230617_115521_standard_comp_to_omission_D1_s...   \n",
       "\n",
       "   video_frame  video_number    subject_info  ...  \\\n",
       "0         1029           1.0  1-1_t1b3L_box1  ...   \n",
       "1         1029           1.0  1-1_t1b3L_box1  ...   \n",
       "2         3425           1.0  1-1_t1b3L_box1  ...   \n",
       "3         3425           1.0  1-1_t1b3L_box1  ...   \n",
       "4         5720           1.0  1-1_t1b3L_box1  ...   \n",
       "\n",
       "                       trial_chunked_ephys_timestamp  \\\n",
       "0  [(1030879.0, 1050879.0), (1050879.0, 1070879.0...   \n",
       "1  [(1030879.0, 1050879.0), (1050879.0, 1070879.0...   \n",
       "2  [(3430878.0, 3450878.0), (3450878.0, 3470878.0...   \n",
       "3  [(3430878.0, 3450878.0), (3450878.0, 3470878.0...   \n",
       "4  [(5730880.0, 5750880.0), (5750880.0, 5770880.0...   \n",
       "\n",
       "                    baseline_chunked_ephys_timestamp  \\\n",
       "0  [(830879.0, 850879.0), (850879.0, 870879.0), (...   \n",
       "1  [(830879.0, 850879.0), (850879.0, 870879.0), (...   \n",
       "2  [(3230878.0, 3250878.0), (3250878.0, 3270878.0...   \n",
       "3  [(3230878.0, 3250878.0), (3250878.0, 3270878.0...   \n",
       "4  [(5530880.0, 5550880.0), (5550880.0, 5570880.0...   \n",
       "\n",
       "                             trial_chunked_lfp_index  \\\n",
       "0  [(51543.0, 52543.0), (52543.0, 53543.0), (5354...   \n",
       "1  [(51543.0, 52543.0), (52543.0, 53543.0), (5354...   \n",
       "2  [(171543.0, 172543.0), (172543.0, 173543.0), (...   \n",
       "3  [(171543.0, 172543.0), (172543.0, 173543.0), (...   \n",
       "4  [(286544.0, 287544.0), (287544.0, 288544.0), (...   \n",
       "\n",
       "                          baseline_chunked_lfp_index trial_or_baseline  \\\n",
       "0  [(41543.0, 42543.0), (42543.0, 43543.0), (4354...          baseline   \n",
       "1  [(41543.0, 42543.0), (42543.0, 43543.0), (4354...             trial   \n",
       "2  [(161543.0, 162543.0), (162543.0, 163543.0), (...          baseline   \n",
       "3  [(161543.0, 162543.0), (162543.0, 163543.0), (...             trial   \n",
       "4  [(276544.0, 277544.0), (277544.0, 278544.0), (...          baseline   \n",
       "\n",
       "                             current_thorax_velocity  \\\n",
       "0  [1.4426199366829346, 0.9791696179861392, 0.723...   \n",
       "1  [5.37049091429759, 5.196457834281414, 4.916080...   \n",
       "2  [0.30868701696333833, 0.28295974779669697, 0.3...   \n",
       "3  [5.92396632721846, 6.021571590092062, 6.315228...   \n",
       "4  [12.322893761589675, 12.718067202520714, 12.42...   \n",
       "\n",
       "                     current_chunked_thorax_velocity  \\\n",
       "0  [0.6049464906054562, 0.8003202428686067, 1.576...   \n",
       "1  [6.000200627117622, 6.7736199704500875, 3.6055...   \n",
       "2  [0.9004001623271887, 0.9399580184978504, 0.975...   \n",
       "3  [7.90304984461326, 5.389214776732418, 17.22809...   \n",
       "4  [6.576149902489789, 4.890034291307031, 1.53587...   \n",
       "\n",
       "                                   chunked_lfp_index  \\\n",
       "0  [(41543.0, 42543.0), (42543.0, 43543.0), (4354...   \n",
       "1  [(51543.0, 52543.0), (52543.0, 53543.0), (5354...   \n",
       "2  [(161543.0, 162543.0), (162543.0, 163543.0), (...   \n",
       "3  [(171543.0, 172543.0), (172543.0, 173543.0), (...   \n",
       "4  [(276544.0, 277544.0), (277544.0, 278544.0), (...   \n",
       "\n",
       "                             chunked_ephys_timestamp  \\\n",
       "0  [(830879.0, 850879.0), (850879.0, 870879.0), (...   \n",
       "1  [(1030879.0, 1050879.0), (1050879.0, 1070879.0...   \n",
       "2  [(3230878.0, 3250878.0), (3250878.0, 3270878.0...   \n",
       "3  [(3430878.0, 3450878.0), (3450878.0, 3470878.0...   \n",
       "4  [(5530880.0, 5550880.0), (5550880.0, 5570880.0...   \n",
       "\n",
       "   binned_current_thorax_velocity  \n",
       "0  [0, 0, 0, 0, 0, 0, 0, 2, 2, 1]  \n",
       "1  [1, 1, 0, 1, 1, 1, 0, 0, 0, 0]  \n",
       "2  [0, 0, 0, 0, 0, 0, 0, 2, 1, 1]  \n",
       "3  [1, 1, 2, 2, 0, 0, 0, 0, 0, 0]  \n",
       "4  [1, 0, 0, 0, 0, 0, 0, 0, 0, 0]  \n",
       "\n",
       "[5 rows x 62 columns]"
      ]
     },
     "execution_count": 31,
     "metadata": {},
     "output_type": "execute_result"
    }
   ],
   "source": [
    "all_trials_df.head()"
   ]
  },
  {
   "cell_type": "code",
   "execution_count": 32,
   "metadata": {},
   "outputs": [],
   "source": [
    "competition_closeness_map = {k: \"non_comp\" if \"only\" in str(k).lower() else \"comp\" if type(k) is str else np.nan for k in all_trials_df[\"competition_closeness\"].unique()}"
   ]
  },
  {
   "cell_type": "code",
   "execution_count": 33,
   "metadata": {
    "scrolled": true
   },
   "outputs": [
    {
     "data": {
      "text/plain": [
       "{'Subj 2 blocking Subj 1': 'comp',\n",
       " 'Subj 1 blocking Subj 2': 'comp',\n",
       " 'Subj 2 Only': 'non_comp',\n",
       " 'Subj 1 Only': 'non_comp',\n",
       " 'Subj 1 then Subj 2': 'comp',\n",
       " 'Subj 2 then Subj 1': 'comp',\n",
       " 'Close Call': 'comp',\n",
       " nan: nan}"
      ]
     },
     "execution_count": 33,
     "metadata": {},
     "output_type": "execute_result"
    }
   ],
   "source": [
    "competition_closeness_map"
   ]
  },
  {
   "cell_type": "code",
   "execution_count": 34,
   "metadata": {},
   "outputs": [],
   "source": [
    "all_trials_df[\"competition_closeness\"] = all_trials_df[\"competition_closeness\"].map(competition_closeness_map)"
   ]
  },
  {
   "cell_type": "code",
   "execution_count": 35,
   "metadata": {},
   "outputs": [
    {
     "data": {
      "text/plain": [
       "0      comp\n",
       "1      comp\n",
       "2      comp\n",
       "3      comp\n",
       "4      comp\n",
       "       ... \n",
       "475     NaN\n",
       "476     NaN\n",
       "477     NaN\n",
       "478     NaN\n",
       "479     NaN\n",
       "Name: competition_closeness, Length: 480, dtype: object"
      ]
     },
     "execution_count": 35,
     "metadata": {},
     "output_type": "execute_result"
    }
   ],
   "source": [
    "all_trials_df[\"competition_closeness\"]"
   ]
  },
  {
   "cell_type": "code",
   "execution_count": 36,
   "metadata": {},
   "outputs": [],
   "source": [
    "all_trials_df[\"competition_closeness\"] = all_trials_df.apply(lambda x: \"_\".join([str(x[\"trial_outcome\"]), str(x[\"competition_closeness\"])]).strip(\"nan\").strip(\"_\"), axis=1)"
   ]
  },
  {
   "cell_type": "markdown",
   "metadata": {},
   "source": [
    "### Extracting the LFP"
   ]
  },
  {
   "cell_type": "code",
   "execution_count": 37,
   "metadata": {},
   "outputs": [
    {
     "data": {
      "text/plain": [
       "array(['20230617_115521_standard_comp_to_omission_D1_subj_1-1_and_1-2',\n",
       "       '20230618_100636_standard_comp_to_omission_D2_subj_1-4_and_1-1',\n",
       "       '20230619_115321_standard_comp_to_omission_D3_subj_1-2_and_1-4',\n",
       "       '20230620_114347_standard_comp_to_omission_D4_subj_1-2_and_1-1',\n",
       "       '20230621_111240_standard_comp_to_omission_D5_subj_1-4_and_1-2'],\n",
       "      dtype=object)"
      ]
     },
     "execution_count": 37,
     "metadata": {},
     "output_type": "execute_result"
    }
   ],
   "source": [
    "all_trials_df[\"recording_dir\"].unique()"
   ]
  },
  {
   "cell_type": "code",
   "execution_count": 41,
   "metadata": {},
   "outputs": [
    {
     "data": {
      "text/plain": [
       "['/scratch/back_up/reward_competition_extention/data/omission/2023_06_17/20230617_115521_standard_comp_to_omission_D1_subj_1-1_and_1-2.rec',\n",
       " '/scratch/back_up/reward_competition_extention/data/omission/2023_06_18/20230618_100636_standard_comp_to_omission_D2_subj_1-4_and_1-1.rec',\n",
       " '/scratch/back_up/reward_competition_extention/data/omission/2023_06_19/20230619_115321_standard_comp_to_omission_D3_subj_1-2_and_1-4.rec',\n",
       " '/scratch/back_up/reward_competition_extention/data/omission/2023_06_20/20230620_114347_standard_comp_to_omission_D4_subj_1-2_and_1-1.rec',\n",
       " '/scratch/back_up/reward_competition_extention/data/omission/2023_06_21/20230621_111240_standard_comp_to_omission_D5_subj_1-4_and_1-2.rec']"
      ]
     },
     "execution_count": 41,
     "metadata": {},
     "output_type": "execute_result"
    }
   ],
   "source": [
    "all_session_dir"
   ]
  },
  {
   "cell_type": "code",
   "execution_count": 42,
   "metadata": {},
   "outputs": [
    {
     "name": "stdout",
     "output_type": "stream",
     "text": [
      "20230617_115521_standard_comp_to_omission_D1_subj_1-2_t2b2L_box2_merged\n",
      "20230617_115521_standard_comp_to_omission_D1_subj_1-1_t1b3L_box1_merged\n",
      "20230618_100636_standard_comp_to_omission_D2_subj_1_4_t4b3L_box1_merged\n",
      "20230618_100636_standard_comp_to_omission_D2_subj_1_1_t1b2L_box2_merged\n",
      "20230619_115321_standard_comp_to_omission_D3_subj_1-4_t3b3L_box2_merged\n",
      "20230620_114347_standard_comp_to_omission_D4_subj_1-1_t1b2L_box_2_merged\n",
      "20230620_114347_standard_comp_to_omission_D4_subj_1-2_t3b3L_box_1_merged\n",
      "20230621_111240_standard_comp_to_omission_D5_subj_1-4_t3b3L_box1_merged\n"
     ]
    }
   ],
   "source": [
    "recording_name_to_all_ch_lfp = {}\n",
    "# Going through all the recording sessions \n",
    "for session_dir in all_session_dir:\n",
    "    # Going through all the recordings in each session\n",
    "    for recording_path in glob.glob(os.path.join(session_dir, \"*.rec\")):\n",
    "        try:\n",
    "            recording_basename = os.path.splitext(os.path.basename(recording_path))[0]\n",
    "            # checking to see if the recording has an ECU component\n",
    "            # if it doesn't, then the next one be extracted\n",
    "            current_recording = se.read_spikegadgets(recording_path, stream_id=\"ECU\")\n",
    "            current_recording = se.read_spikegadgets(recording_path, stream_id=\"trodes\")\n",
    "            print(recording_basename)\n",
    "            # Preprocessing the LFP\n",
    "            current_recording = sp.bandpass_filter(current_recording, freq_min=0.5, freq_max=300)\n",
    "            current_recording = sp.notch_filter(current_recording, freq=60)\n",
    "            current_recording = sp.resample(current_recording, resample_rate=1000)\n",
    "            current_recording = sp.zscore(current_recording)\n",
    "            recording_name_to_all_ch_lfp[recording_basename] = current_recording\n",
    "        except:\n",
    "            pass\n",
    "\n"
   ]
  },
  {
   "cell_type": "markdown",
   "metadata": {},
   "source": [
    "- Filtering for all trials that have labels"
   ]
  },
  {
   "cell_type": "code",
   "execution_count": 43,
   "metadata": {},
   "outputs": [],
   "source": [
    "all_trials_df = all_trials_df[all_trials_df[\"recording_file\"].isin(recording_name_to_all_ch_lfp.keys())].reset_index(drop=True)"
   ]
  },
  {
   "cell_type": "code",
   "execution_count": 44,
   "metadata": {
    "scrolled": true
   },
   "outputs": [
    {
     "data": {
      "text/html": [
       "<div>\n",
       "<style scoped>\n",
       "    .dataframe tbody tr th:only-of-type {\n",
       "        vertical-align: middle;\n",
       "    }\n",
       "\n",
       "    .dataframe tbody tr th {\n",
       "        vertical-align: top;\n",
       "    }\n",
       "\n",
       "    .dataframe thead th {\n",
       "        text-align: right;\n",
       "    }\n",
       "</style>\n",
       "<table border=\"1\" class=\"dataframe\">\n",
       "  <thead>\n",
       "    <tr style=\"text-align: right;\">\n",
       "      <th></th>\n",
       "      <th>time</th>\n",
       "      <th>state</th>\n",
       "      <th>recording_dir</th>\n",
       "      <th>recording_file</th>\n",
       "      <th>din</th>\n",
       "      <th>time_stamp_index</th>\n",
       "      <th>video_file</th>\n",
       "      <th>video_frame</th>\n",
       "      <th>video_number</th>\n",
       "      <th>subject_info</th>\n",
       "      <th>...</th>\n",
       "      <th>trial_chunked_ephys_timestamp</th>\n",
       "      <th>baseline_chunked_ephys_timestamp</th>\n",
       "      <th>trial_chunked_lfp_index</th>\n",
       "      <th>baseline_chunked_lfp_index</th>\n",
       "      <th>trial_or_baseline</th>\n",
       "      <th>current_thorax_velocity</th>\n",
       "      <th>current_chunked_thorax_velocity</th>\n",
       "      <th>chunked_lfp_index</th>\n",
       "      <th>chunked_ephys_timestamp</th>\n",
       "      <th>binned_current_thorax_velocity</th>\n",
       "    </tr>\n",
       "  </thead>\n",
       "  <tbody>\n",
       "    <tr>\n",
       "      <th>0</th>\n",
       "      <td>4509412.0</td>\n",
       "      <td>1.0</td>\n",
       "      <td>20230617_115521_standard_comp_to_omission_D1_s...</td>\n",
       "      <td>20230617_115521_standard_comp_to_omission_D1_s...</td>\n",
       "      <td>dio_ECU_Din1</td>\n",
       "      <td>1030879.0</td>\n",
       "      <td>20230617_115521_standard_comp_to_omission_D1_s...</td>\n",
       "      <td>1029</td>\n",
       "      <td>1.0</td>\n",
       "      <td>1-1_t1b3L_box1</td>\n",
       "      <td>...</td>\n",
       "      <td>[(1030879.0, 1050879.0), (1050879.0, 1070879.0...</td>\n",
       "      <td>[(830879.0, 850879.0), (850879.0, 870879.0), (...</td>\n",
       "      <td>[(51543.0, 52543.0), (52543.0, 53543.0), (5354...</td>\n",
       "      <td>[(41543.0, 42543.0), (42543.0, 43543.0), (4354...</td>\n",
       "      <td>baseline</td>\n",
       "      <td>[1.4426199366829346, 0.9791696179861392, 0.723...</td>\n",
       "      <td>[0.6049464906054562, 0.8003202428686067, 1.576...</td>\n",
       "      <td>[(41543.0, 42543.0), (42543.0, 43543.0), (4354...</td>\n",
       "      <td>[(830879.0, 850879.0), (850879.0, 870879.0), (...</td>\n",
       "      <td>[0, 0, 0, 0, 0, 0, 0, 2, 2, 1]</td>\n",
       "    </tr>\n",
       "    <tr>\n",
       "      <th>1</th>\n",
       "      <td>4509412.0</td>\n",
       "      <td>1.0</td>\n",
       "      <td>20230617_115521_standard_comp_to_omission_D1_s...</td>\n",
       "      <td>20230617_115521_standard_comp_to_omission_D1_s...</td>\n",
       "      <td>dio_ECU_Din1</td>\n",
       "      <td>1030879.0</td>\n",
       "      <td>20230617_115521_standard_comp_to_omission_D1_s...</td>\n",
       "      <td>1029</td>\n",
       "      <td>1.0</td>\n",
       "      <td>1-1_t1b3L_box1</td>\n",
       "      <td>...</td>\n",
       "      <td>[(1030879.0, 1050879.0), (1050879.0, 1070879.0...</td>\n",
       "      <td>[(830879.0, 850879.0), (850879.0, 870879.0), (...</td>\n",
       "      <td>[(51543.0, 52543.0), (52543.0, 53543.0), (5354...</td>\n",
       "      <td>[(41543.0, 42543.0), (42543.0, 43543.0), (4354...</td>\n",
       "      <td>trial</td>\n",
       "      <td>[5.37049091429759, 5.196457834281414, 4.916080...</td>\n",
       "      <td>[6.000200627117622, 6.7736199704500875, 3.6055...</td>\n",
       "      <td>[(51543.0, 52543.0), (52543.0, 53543.0), (5354...</td>\n",
       "      <td>[(1030879.0, 1050879.0), (1050879.0, 1070879.0...</td>\n",
       "      <td>[1, 1, 0, 1, 1, 1, 0, 0, 0, 0]</td>\n",
       "    </tr>\n",
       "    <tr>\n",
       "      <th>2</th>\n",
       "      <td>6909411.0</td>\n",
       "      <td>1.0</td>\n",
       "      <td>20230617_115521_standard_comp_to_omission_D1_s...</td>\n",
       "      <td>20230617_115521_standard_comp_to_omission_D1_s...</td>\n",
       "      <td>dio_ECU_Din1</td>\n",
       "      <td>3430878.0</td>\n",
       "      <td>20230617_115521_standard_comp_to_omission_D1_s...</td>\n",
       "      <td>3425</td>\n",
       "      <td>1.0</td>\n",
       "      <td>1-1_t1b3L_box1</td>\n",
       "      <td>...</td>\n",
       "      <td>[(3430878.0, 3450878.0), (3450878.0, 3470878.0...</td>\n",
       "      <td>[(3230878.0, 3250878.0), (3250878.0, 3270878.0...</td>\n",
       "      <td>[(171543.0, 172543.0), (172543.0, 173543.0), (...</td>\n",
       "      <td>[(161543.0, 162543.0), (162543.0, 163543.0), (...</td>\n",
       "      <td>baseline</td>\n",
       "      <td>[0.30868701696333833, 0.28295974779669697, 0.3...</td>\n",
       "      <td>[0.9004001623271887, 0.9399580184978504, 0.975...</td>\n",
       "      <td>[(161543.0, 162543.0), (162543.0, 163543.0), (...</td>\n",
       "      <td>[(3230878.0, 3250878.0), (3250878.0, 3270878.0...</td>\n",
       "      <td>[0, 0, 0, 0, 0, 0, 0, 2, 1, 1]</td>\n",
       "    </tr>\n",
       "    <tr>\n",
       "      <th>3</th>\n",
       "      <td>6909411.0</td>\n",
       "      <td>1.0</td>\n",
       "      <td>20230617_115521_standard_comp_to_omission_D1_s...</td>\n",
       "      <td>20230617_115521_standard_comp_to_omission_D1_s...</td>\n",
       "      <td>dio_ECU_Din1</td>\n",
       "      <td>3430878.0</td>\n",
       "      <td>20230617_115521_standard_comp_to_omission_D1_s...</td>\n",
       "      <td>3425</td>\n",
       "      <td>1.0</td>\n",
       "      <td>1-1_t1b3L_box1</td>\n",
       "      <td>...</td>\n",
       "      <td>[(3430878.0, 3450878.0), (3450878.0, 3470878.0...</td>\n",
       "      <td>[(3230878.0, 3250878.0), (3250878.0, 3270878.0...</td>\n",
       "      <td>[(171543.0, 172543.0), (172543.0, 173543.0), (...</td>\n",
       "      <td>[(161543.0, 162543.0), (162543.0, 163543.0), (...</td>\n",
       "      <td>trial</td>\n",
       "      <td>[5.92396632721846, 6.021571590092062, 6.315228...</td>\n",
       "      <td>[7.90304984461326, 5.389214776732418, 17.22809...</td>\n",
       "      <td>[(171543.0, 172543.0), (172543.0, 173543.0), (...</td>\n",
       "      <td>[(3430878.0, 3450878.0), (3450878.0, 3470878.0...</td>\n",
       "      <td>[1, 1, 2, 2, 0, 0, 0, 0, 0, 0]</td>\n",
       "    </tr>\n",
       "    <tr>\n",
       "      <th>4</th>\n",
       "      <td>9209413.0</td>\n",
       "      <td>1.0</td>\n",
       "      <td>20230617_115521_standard_comp_to_omission_D1_s...</td>\n",
       "      <td>20230617_115521_standard_comp_to_omission_D1_s...</td>\n",
       "      <td>dio_ECU_Din1</td>\n",
       "      <td>5730880.0</td>\n",
       "      <td>20230617_115521_standard_comp_to_omission_D1_s...</td>\n",
       "      <td>5720</td>\n",
       "      <td>1.0</td>\n",
       "      <td>1-1_t1b3L_box1</td>\n",
       "      <td>...</td>\n",
       "      <td>[(5730880.0, 5750880.0), (5750880.0, 5770880.0...</td>\n",
       "      <td>[(5530880.0, 5550880.0), (5550880.0, 5570880.0...</td>\n",
       "      <td>[(286544.0, 287544.0), (287544.0, 288544.0), (...</td>\n",
       "      <td>[(276544.0, 277544.0), (277544.0, 278544.0), (...</td>\n",
       "      <td>baseline</td>\n",
       "      <td>[12.322893761589675, 12.718067202520714, 12.42...</td>\n",
       "      <td>[6.576149902489789, 4.890034291307031, 1.53587...</td>\n",
       "      <td>[(276544.0, 277544.0), (277544.0, 278544.0), (...</td>\n",
       "      <td>[(5530880.0, 5550880.0), (5550880.0, 5570880.0...</td>\n",
       "      <td>[1, 0, 0, 0, 0, 0, 0, 0, 0, 0]</td>\n",
       "    </tr>\n",
       "  </tbody>\n",
       "</table>\n",
       "<p>5 rows × 62 columns</p>\n",
       "</div>"
      ],
      "text/plain": [
       "        time  state                                      recording_dir  \\\n",
       "0  4509412.0    1.0  20230617_115521_standard_comp_to_omission_D1_s...   \n",
       "1  4509412.0    1.0  20230617_115521_standard_comp_to_omission_D1_s...   \n",
       "2  6909411.0    1.0  20230617_115521_standard_comp_to_omission_D1_s...   \n",
       "3  6909411.0    1.0  20230617_115521_standard_comp_to_omission_D1_s...   \n",
       "4  9209413.0    1.0  20230617_115521_standard_comp_to_omission_D1_s...   \n",
       "\n",
       "                                      recording_file           din  \\\n",
       "0  20230617_115521_standard_comp_to_omission_D1_s...  dio_ECU_Din1   \n",
       "1  20230617_115521_standard_comp_to_omission_D1_s...  dio_ECU_Din1   \n",
       "2  20230617_115521_standard_comp_to_omission_D1_s...  dio_ECU_Din1   \n",
       "3  20230617_115521_standard_comp_to_omission_D1_s...  dio_ECU_Din1   \n",
       "4  20230617_115521_standard_comp_to_omission_D1_s...  dio_ECU_Din1   \n",
       "\n",
       "   time_stamp_index                                         video_file  \\\n",
       "0         1030879.0  20230617_115521_standard_comp_to_omission_D1_s...   \n",
       "1         1030879.0  20230617_115521_standard_comp_to_omission_D1_s...   \n",
       "2         3430878.0  20230617_115521_standard_comp_to_omission_D1_s...   \n",
       "3         3430878.0  20230617_115521_standard_comp_to_omission_D1_s...   \n",
       "4         5730880.0  20230617_115521_standard_comp_to_omission_D1_s...   \n",
       "\n",
       "   video_frame  video_number    subject_info  ...  \\\n",
       "0         1029           1.0  1-1_t1b3L_box1  ...   \n",
       "1         1029           1.0  1-1_t1b3L_box1  ...   \n",
       "2         3425           1.0  1-1_t1b3L_box1  ...   \n",
       "3         3425           1.0  1-1_t1b3L_box1  ...   \n",
       "4         5720           1.0  1-1_t1b3L_box1  ...   \n",
       "\n",
       "                       trial_chunked_ephys_timestamp  \\\n",
       "0  [(1030879.0, 1050879.0), (1050879.0, 1070879.0...   \n",
       "1  [(1030879.0, 1050879.0), (1050879.0, 1070879.0...   \n",
       "2  [(3430878.0, 3450878.0), (3450878.0, 3470878.0...   \n",
       "3  [(3430878.0, 3450878.0), (3450878.0, 3470878.0...   \n",
       "4  [(5730880.0, 5750880.0), (5750880.0, 5770880.0...   \n",
       "\n",
       "                    baseline_chunked_ephys_timestamp  \\\n",
       "0  [(830879.0, 850879.0), (850879.0, 870879.0), (...   \n",
       "1  [(830879.0, 850879.0), (850879.0, 870879.0), (...   \n",
       "2  [(3230878.0, 3250878.0), (3250878.0, 3270878.0...   \n",
       "3  [(3230878.0, 3250878.0), (3250878.0, 3270878.0...   \n",
       "4  [(5530880.0, 5550880.0), (5550880.0, 5570880.0...   \n",
       "\n",
       "                             trial_chunked_lfp_index  \\\n",
       "0  [(51543.0, 52543.0), (52543.0, 53543.0), (5354...   \n",
       "1  [(51543.0, 52543.0), (52543.0, 53543.0), (5354...   \n",
       "2  [(171543.0, 172543.0), (172543.0, 173543.0), (...   \n",
       "3  [(171543.0, 172543.0), (172543.0, 173543.0), (...   \n",
       "4  [(286544.0, 287544.0), (287544.0, 288544.0), (...   \n",
       "\n",
       "                          baseline_chunked_lfp_index trial_or_baseline  \\\n",
       "0  [(41543.0, 42543.0), (42543.0, 43543.0), (4354...          baseline   \n",
       "1  [(41543.0, 42543.0), (42543.0, 43543.0), (4354...             trial   \n",
       "2  [(161543.0, 162543.0), (162543.0, 163543.0), (...          baseline   \n",
       "3  [(161543.0, 162543.0), (162543.0, 163543.0), (...             trial   \n",
       "4  [(276544.0, 277544.0), (277544.0, 278544.0), (...          baseline   \n",
       "\n",
       "                             current_thorax_velocity  \\\n",
       "0  [1.4426199366829346, 0.9791696179861392, 0.723...   \n",
       "1  [5.37049091429759, 5.196457834281414, 4.916080...   \n",
       "2  [0.30868701696333833, 0.28295974779669697, 0.3...   \n",
       "3  [5.92396632721846, 6.021571590092062, 6.315228...   \n",
       "4  [12.322893761589675, 12.718067202520714, 12.42...   \n",
       "\n",
       "                     current_chunked_thorax_velocity  \\\n",
       "0  [0.6049464906054562, 0.8003202428686067, 1.576...   \n",
       "1  [6.000200627117622, 6.7736199704500875, 3.6055...   \n",
       "2  [0.9004001623271887, 0.9399580184978504, 0.975...   \n",
       "3  [7.90304984461326, 5.389214776732418, 17.22809...   \n",
       "4  [6.576149902489789, 4.890034291307031, 1.53587...   \n",
       "\n",
       "                                   chunked_lfp_index  \\\n",
       "0  [(41543.0, 42543.0), (42543.0, 43543.0), (4354...   \n",
       "1  [(51543.0, 52543.0), (52543.0, 53543.0), (5354...   \n",
       "2  [(161543.0, 162543.0), (162543.0, 163543.0), (...   \n",
       "3  [(171543.0, 172543.0), (172543.0, 173543.0), (...   \n",
       "4  [(276544.0, 277544.0), (277544.0, 278544.0), (...   \n",
       "\n",
       "                             chunked_ephys_timestamp  \\\n",
       "0  [(830879.0, 850879.0), (850879.0, 870879.0), (...   \n",
       "1  [(1030879.0, 1050879.0), (1050879.0, 1070879.0...   \n",
       "2  [(3230878.0, 3250878.0), (3250878.0, 3270878.0...   \n",
       "3  [(3430878.0, 3450878.0), (3450878.0, 3470878.0...   \n",
       "4  [(5530880.0, 5550880.0), (5550880.0, 5570880.0...   \n",
       "\n",
       "   binned_current_thorax_velocity  \n",
       "0  [0, 0, 0, 0, 0, 0, 0, 2, 2, 1]  \n",
       "1  [1, 1, 0, 1, 1, 1, 0, 0, 0, 0]  \n",
       "2  [0, 0, 0, 0, 0, 0, 0, 2, 1, 1]  \n",
       "3  [1, 1, 2, 2, 0, 0, 0, 0, 0, 0]  \n",
       "4  [1, 0, 0, 0, 0, 0, 0, 0, 0, 0]  \n",
       "\n",
       "[5 rows x 62 columns]"
      ]
     },
     "execution_count": 44,
     "metadata": {},
     "output_type": "execute_result"
    }
   ],
   "source": [
    "all_trials_df.head()"
   ]
  },
  {
   "cell_type": "code",
   "execution_count": 45,
   "metadata": {},
   "outputs": [
    {
     "data": {
      "text/plain": [
       "array(['lose', 'win', 'rewarded', 'omission'], dtype=object)"
      ]
     },
     "execution_count": 45,
     "metadata": {},
     "output_type": "execute_result"
    }
   ],
   "source": [
    "all_trials_df[\"trial_outcome\"].unique()"
   ]
  },
  {
   "cell_type": "code",
   "execution_count": 46,
   "metadata": {},
   "outputs": [
    {
     "data": {
      "text/plain": [
       "array(['baseline', 'trial'], dtype=object)"
      ]
     },
     "execution_count": 46,
     "metadata": {},
     "output_type": "execute_result"
    }
   ],
   "source": [
    "all_trials_df[\"trial_or_baseline\"].unique()"
   ]
  },
  {
   "cell_type": "markdown",
   "metadata": {},
   "source": [
    "## Combining with channel information"
   ]
  },
  {
   "cell_type": "code",
   "execution_count": 48,
   "metadata": {
    "scrolled": true
   },
   "outputs": [
    {
     "data": {
      "text/html": [
       "<div>\n",
       "<style scoped>\n",
       "    .dataframe tbody tr th:only-of-type {\n",
       "        vertical-align: middle;\n",
       "    }\n",
       "\n",
       "    .dataframe tbody tr th {\n",
       "        vertical-align: top;\n",
       "    }\n",
       "\n",
       "    .dataframe thead th {\n",
       "        text-align: right;\n",
       "    }\n",
       "</style>\n",
       "<table border=\"1\" class=\"dataframe\">\n",
       "  <thead>\n",
       "    <tr style=\"text-align: right;\">\n",
       "      <th></th>\n",
       "      <th>Cohort</th>\n",
       "      <th>Subject</th>\n",
       "      <th>eib_mPFC</th>\n",
       "      <th>eib_vHPC</th>\n",
       "      <th>eib_BLA</th>\n",
       "      <th>eib_LH</th>\n",
       "      <th>eib_MD</th>\n",
       "      <th>spike_interface_mPFC</th>\n",
       "      <th>spike_interface_vHPC</th>\n",
       "      <th>spike_interface_BLA</th>\n",
       "      <th>spike_interface_LH</th>\n",
       "      <th>spike_interface_MD</th>\n",
       "    </tr>\n",
       "  </thead>\n",
       "  <tbody>\n",
       "    <tr>\n",
       "      <th>0</th>\n",
       "      <td>1</td>\n",
       "      <td>6.1</td>\n",
       "      <td>NaN</td>\n",
       "      <td>15</td>\n",
       "      <td>14</td>\n",
       "      <td>13</td>\n",
       "      <td>31</td>\n",
       "      <td>21.0</td>\n",
       "      <td>15.0</td>\n",
       "      <td>14.0</td>\n",
       "      <td>13.0</td>\n",
       "      <td>16.0</td>\n",
       "    </tr>\n",
       "    <tr>\n",
       "      <th>1</th>\n",
       "      <td>1</td>\n",
       "      <td>6.2</td>\n",
       "      <td>NaN</td>\n",
       "      <td>15</td>\n",
       "      <td>14</td>\n",
       "      <td>13</td>\n",
       "      <td>31</td>\n",
       "      <td>NaN</td>\n",
       "      <td>NaN</td>\n",
       "      <td>NaN</td>\n",
       "      <td>NaN</td>\n",
       "      <td>NaN</td>\n",
       "    </tr>\n",
       "    <tr>\n",
       "      <th>2</th>\n",
       "      <td>1</td>\n",
       "      <td>6.3</td>\n",
       "      <td>NaN</td>\n",
       "      <td>15</td>\n",
       "      <td>14</td>\n",
       "      <td>13</td>\n",
       "      <td>31</td>\n",
       "      <td>NaN</td>\n",
       "      <td>NaN</td>\n",
       "      <td>NaN</td>\n",
       "      <td>NaN</td>\n",
       "      <td>NaN</td>\n",
       "    </tr>\n",
       "    <tr>\n",
       "      <th>3</th>\n",
       "      <td>1</td>\n",
       "      <td>6.4</td>\n",
       "      <td>NaN</td>\n",
       "      <td>15</td>\n",
       "      <td>14</td>\n",
       "      <td>13</td>\n",
       "      <td>31</td>\n",
       "      <td>NaN</td>\n",
       "      <td>NaN</td>\n",
       "      <td>NaN</td>\n",
       "      <td>NaN</td>\n",
       "      <td>NaN</td>\n",
       "    </tr>\n",
       "    <tr>\n",
       "      <th>4</th>\n",
       "      <td>2</td>\n",
       "      <td>1.1</td>\n",
       "      <td>NaN</td>\n",
       "      <td>16</td>\n",
       "      <td>17</td>\n",
       "      <td>18</td>\n",
       "      <td>19</td>\n",
       "      <td>5.0</td>\n",
       "      <td>31.0</td>\n",
       "      <td>30.0</td>\n",
       "      <td>29.0</td>\n",
       "      <td>28.0</td>\n",
       "    </tr>\n",
       "    <tr>\n",
       "      <th>5</th>\n",
       "      <td>2</td>\n",
       "      <td>1.2</td>\n",
       "      <td>NaN</td>\n",
       "      <td>31</td>\n",
       "      <td>30</td>\n",
       "      <td>29</td>\n",
       "      <td>28</td>\n",
       "      <td>10.0</td>\n",
       "      <td>31.0</td>\n",
       "      <td>30.0</td>\n",
       "      <td>29.0</td>\n",
       "      <td>28.0</td>\n",
       "    </tr>\n",
       "    <tr>\n",
       "      <th>6</th>\n",
       "      <td>2</td>\n",
       "      <td>1.3</td>\n",
       "      <td>NaN</td>\n",
       "      <td>15</td>\n",
       "      <td>14</td>\n",
       "      <td>13</td>\n",
       "      <td>12</td>\n",
       "      <td>9.0</td>\n",
       "      <td>31.0</td>\n",
       "      <td>30.0</td>\n",
       "      <td>29.0</td>\n",
       "      <td>28.0</td>\n",
       "    </tr>\n",
       "    <tr>\n",
       "      <th>7</th>\n",
       "      <td>2</td>\n",
       "      <td>1.4</td>\n",
       "      <td>NaN</td>\n",
       "      <td>15</td>\n",
       "      <td>14</td>\n",
       "      <td>13</td>\n",
       "      <td>12</td>\n",
       "      <td>15.0</td>\n",
       "      <td>31.0</td>\n",
       "      <td>30.0</td>\n",
       "      <td>29.0</td>\n",
       "      <td>28.0</td>\n",
       "    </tr>\n",
       "  </tbody>\n",
       "</table>\n",
       "</div>"
      ],
      "text/plain": [
       "   Cohort Subject  eib_mPFC  eib_vHPC  eib_BLA  eib_LH  eib_MD  \\\n",
       "0       1     6.1       NaN        15       14      13      31   \n",
       "1       1     6.2       NaN        15       14      13      31   \n",
       "2       1     6.3       NaN        15       14      13      31   \n",
       "3       1     6.4       NaN        15       14      13      31   \n",
       "4       2     1.1       NaN        16       17      18      19   \n",
       "5       2     1.2       NaN        31       30      29      28   \n",
       "6       2     1.3       NaN        15       14      13      12   \n",
       "7       2     1.4       NaN        15       14      13      12   \n",
       "\n",
       "   spike_interface_mPFC  spike_interface_vHPC  spike_interface_BLA  \\\n",
       "0                  21.0                  15.0                 14.0   \n",
       "1                   NaN                   NaN                  NaN   \n",
       "2                   NaN                   NaN                  NaN   \n",
       "3                   NaN                   NaN                  NaN   \n",
       "4                   5.0                  31.0                 30.0   \n",
       "5                  10.0                  31.0                 30.0   \n",
       "6                   9.0                  31.0                 30.0   \n",
       "7                  15.0                  31.0                 30.0   \n",
       "\n",
       "   spike_interface_LH  spike_interface_MD  \n",
       "0                13.0                16.0  \n",
       "1                 NaN                 NaN  \n",
       "2                 NaN                 NaN  \n",
       "3                 NaN                 NaN  \n",
       "4                29.0                28.0  \n",
       "5                29.0                28.0  \n",
       "6                29.0                28.0  \n",
       "7                29.0                28.0  "
      ]
     },
     "execution_count": 48,
     "metadata": {},
     "output_type": "execute_result"
    }
   ],
   "source": [
    "CHANNEL_MAPPING_DF"
   ]
  },
  {
   "cell_type": "code",
   "execution_count": 49,
   "metadata": {
    "scrolled": true
   },
   "outputs": [
    {
     "data": {
      "text/html": [
       "<div>\n",
       "<style scoped>\n",
       "    .dataframe tbody tr th:only-of-type {\n",
       "        vertical-align: middle;\n",
       "    }\n",
       "\n",
       "    .dataframe tbody tr th {\n",
       "        vertical-align: top;\n",
       "    }\n",
       "\n",
       "    .dataframe thead th {\n",
       "        text-align: right;\n",
       "    }\n",
       "</style>\n",
       "<table border=\"1\" class=\"dataframe\">\n",
       "  <thead>\n",
       "    <tr style=\"text-align: right;\">\n",
       "      <th></th>\n",
       "      <th>time</th>\n",
       "      <th>state</th>\n",
       "      <th>recording_dir</th>\n",
       "      <th>recording_file</th>\n",
       "      <th>din</th>\n",
       "      <th>time_stamp_index</th>\n",
       "      <th>video_file</th>\n",
       "      <th>video_frame</th>\n",
       "      <th>video_number</th>\n",
       "      <th>subject_info</th>\n",
       "      <th>...</th>\n",
       "      <th>trial_chunked_ephys_timestamp</th>\n",
       "      <th>baseline_chunked_ephys_timestamp</th>\n",
       "      <th>trial_chunked_lfp_index</th>\n",
       "      <th>baseline_chunked_lfp_index</th>\n",
       "      <th>trial_or_baseline</th>\n",
       "      <th>current_thorax_velocity</th>\n",
       "      <th>current_chunked_thorax_velocity</th>\n",
       "      <th>chunked_lfp_index</th>\n",
       "      <th>chunked_ephys_timestamp</th>\n",
       "      <th>binned_current_thorax_velocity</th>\n",
       "    </tr>\n",
       "  </thead>\n",
       "  <tbody>\n",
       "    <tr>\n",
       "      <th>0</th>\n",
       "      <td>4509412.0</td>\n",
       "      <td>1.0</td>\n",
       "      <td>20230617_115521_standard_comp_to_omission_D1_s...</td>\n",
       "      <td>20230617_115521_standard_comp_to_omission_D1_s...</td>\n",
       "      <td>dio_ECU_Din1</td>\n",
       "      <td>1030879.0</td>\n",
       "      <td>20230617_115521_standard_comp_to_omission_D1_s...</td>\n",
       "      <td>1029</td>\n",
       "      <td>1.0</td>\n",
       "      <td>1-1_t1b3L_box1</td>\n",
       "      <td>...</td>\n",
       "      <td>[(1030879.0, 1050879.0), (1050879.0, 1070879.0...</td>\n",
       "      <td>[(830879.0, 850879.0), (850879.0, 870879.0), (...</td>\n",
       "      <td>[(51543.0, 52543.0), (52543.0, 53543.0), (5354...</td>\n",
       "      <td>[(41543.0, 42543.0), (42543.0, 43543.0), (4354...</td>\n",
       "      <td>baseline</td>\n",
       "      <td>[1.4426199366829346, 0.9791696179861392, 0.723...</td>\n",
       "      <td>[0.6049464906054562, 0.8003202428686067, 1.576...</td>\n",
       "      <td>[(41543.0, 42543.0), (42543.0, 43543.0), (4354...</td>\n",
       "      <td>[(830879.0, 850879.0), (850879.0, 870879.0), (...</td>\n",
       "      <td>[0, 0, 0, 0, 0, 0, 0, 2, 2, 1]</td>\n",
       "    </tr>\n",
       "    <tr>\n",
       "      <th>1</th>\n",
       "      <td>4509412.0</td>\n",
       "      <td>1.0</td>\n",
       "      <td>20230617_115521_standard_comp_to_omission_D1_s...</td>\n",
       "      <td>20230617_115521_standard_comp_to_omission_D1_s...</td>\n",
       "      <td>dio_ECU_Din1</td>\n",
       "      <td>1030879.0</td>\n",
       "      <td>20230617_115521_standard_comp_to_omission_D1_s...</td>\n",
       "      <td>1029</td>\n",
       "      <td>1.0</td>\n",
       "      <td>1-1_t1b3L_box1</td>\n",
       "      <td>...</td>\n",
       "      <td>[(1030879.0, 1050879.0), (1050879.0, 1070879.0...</td>\n",
       "      <td>[(830879.0, 850879.0), (850879.0, 870879.0), (...</td>\n",
       "      <td>[(51543.0, 52543.0), (52543.0, 53543.0), (5354...</td>\n",
       "      <td>[(41543.0, 42543.0), (42543.0, 43543.0), (4354...</td>\n",
       "      <td>trial</td>\n",
       "      <td>[5.37049091429759, 5.196457834281414, 4.916080...</td>\n",
       "      <td>[6.000200627117622, 6.7736199704500875, 3.6055...</td>\n",
       "      <td>[(51543.0, 52543.0), (52543.0, 53543.0), (5354...</td>\n",
       "      <td>[(1030879.0, 1050879.0), (1050879.0, 1070879.0...</td>\n",
       "      <td>[1, 1, 0, 1, 1, 1, 0, 0, 0, 0]</td>\n",
       "    </tr>\n",
       "    <tr>\n",
       "      <th>2</th>\n",
       "      <td>6909411.0</td>\n",
       "      <td>1.0</td>\n",
       "      <td>20230617_115521_standard_comp_to_omission_D1_s...</td>\n",
       "      <td>20230617_115521_standard_comp_to_omission_D1_s...</td>\n",
       "      <td>dio_ECU_Din1</td>\n",
       "      <td>3430878.0</td>\n",
       "      <td>20230617_115521_standard_comp_to_omission_D1_s...</td>\n",
       "      <td>3425</td>\n",
       "      <td>1.0</td>\n",
       "      <td>1-1_t1b3L_box1</td>\n",
       "      <td>...</td>\n",
       "      <td>[(3430878.0, 3450878.0), (3450878.0, 3470878.0...</td>\n",
       "      <td>[(3230878.0, 3250878.0), (3250878.0, 3270878.0...</td>\n",
       "      <td>[(171543.0, 172543.0), (172543.0, 173543.0), (...</td>\n",
       "      <td>[(161543.0, 162543.0), (162543.0, 163543.0), (...</td>\n",
       "      <td>baseline</td>\n",
       "      <td>[0.30868701696333833, 0.28295974779669697, 0.3...</td>\n",
       "      <td>[0.9004001623271887, 0.9399580184978504, 0.975...</td>\n",
       "      <td>[(161543.0, 162543.0), (162543.0, 163543.0), (...</td>\n",
       "      <td>[(3230878.0, 3250878.0), (3250878.0, 3270878.0...</td>\n",
       "      <td>[0, 0, 0, 0, 0, 0, 0, 2, 1, 1]</td>\n",
       "    </tr>\n",
       "    <tr>\n",
       "      <th>3</th>\n",
       "      <td>6909411.0</td>\n",
       "      <td>1.0</td>\n",
       "      <td>20230617_115521_standard_comp_to_omission_D1_s...</td>\n",
       "      <td>20230617_115521_standard_comp_to_omission_D1_s...</td>\n",
       "      <td>dio_ECU_Din1</td>\n",
       "      <td>3430878.0</td>\n",
       "      <td>20230617_115521_standard_comp_to_omission_D1_s...</td>\n",
       "      <td>3425</td>\n",
       "      <td>1.0</td>\n",
       "      <td>1-1_t1b3L_box1</td>\n",
       "      <td>...</td>\n",
       "      <td>[(3430878.0, 3450878.0), (3450878.0, 3470878.0...</td>\n",
       "      <td>[(3230878.0, 3250878.0), (3250878.0, 3270878.0...</td>\n",
       "      <td>[(171543.0, 172543.0), (172543.0, 173543.0), (...</td>\n",
       "      <td>[(161543.0, 162543.0), (162543.0, 163543.0), (...</td>\n",
       "      <td>trial</td>\n",
       "      <td>[5.92396632721846, 6.021571590092062, 6.315228...</td>\n",
       "      <td>[7.90304984461326, 5.389214776732418, 17.22809...</td>\n",
       "      <td>[(171543.0, 172543.0), (172543.0, 173543.0), (...</td>\n",
       "      <td>[(3430878.0, 3450878.0), (3450878.0, 3470878.0...</td>\n",
       "      <td>[1, 1, 2, 2, 0, 0, 0, 0, 0, 0]</td>\n",
       "    </tr>\n",
       "    <tr>\n",
       "      <th>4</th>\n",
       "      <td>9209413.0</td>\n",
       "      <td>1.0</td>\n",
       "      <td>20230617_115521_standard_comp_to_omission_D1_s...</td>\n",
       "      <td>20230617_115521_standard_comp_to_omission_D1_s...</td>\n",
       "      <td>dio_ECU_Din1</td>\n",
       "      <td>5730880.0</td>\n",
       "      <td>20230617_115521_standard_comp_to_omission_D1_s...</td>\n",
       "      <td>5720</td>\n",
       "      <td>1.0</td>\n",
       "      <td>1-1_t1b3L_box1</td>\n",
       "      <td>...</td>\n",
       "      <td>[(5730880.0, 5750880.0), (5750880.0, 5770880.0...</td>\n",
       "      <td>[(5530880.0, 5550880.0), (5550880.0, 5570880.0...</td>\n",
       "      <td>[(286544.0, 287544.0), (287544.0, 288544.0), (...</td>\n",
       "      <td>[(276544.0, 277544.0), (277544.0, 278544.0), (...</td>\n",
       "      <td>baseline</td>\n",
       "      <td>[12.322893761589675, 12.718067202520714, 12.42...</td>\n",
       "      <td>[6.576149902489789, 4.890034291307031, 1.53587...</td>\n",
       "      <td>[(276544.0, 277544.0), (277544.0, 278544.0), (...</td>\n",
       "      <td>[(5530880.0, 5550880.0), (5550880.0, 5570880.0...</td>\n",
       "      <td>[1, 0, 0, 0, 0, 0, 0, 0, 0, 0]</td>\n",
       "    </tr>\n",
       "  </tbody>\n",
       "</table>\n",
       "<p>5 rows × 62 columns</p>\n",
       "</div>"
      ],
      "text/plain": [
       "        time  state                                      recording_dir  \\\n",
       "0  4509412.0    1.0  20230617_115521_standard_comp_to_omission_D1_s...   \n",
       "1  4509412.0    1.0  20230617_115521_standard_comp_to_omission_D1_s...   \n",
       "2  6909411.0    1.0  20230617_115521_standard_comp_to_omission_D1_s...   \n",
       "3  6909411.0    1.0  20230617_115521_standard_comp_to_omission_D1_s...   \n",
       "4  9209413.0    1.0  20230617_115521_standard_comp_to_omission_D1_s...   \n",
       "\n",
       "                                      recording_file           din  \\\n",
       "0  20230617_115521_standard_comp_to_omission_D1_s...  dio_ECU_Din1   \n",
       "1  20230617_115521_standard_comp_to_omission_D1_s...  dio_ECU_Din1   \n",
       "2  20230617_115521_standard_comp_to_omission_D1_s...  dio_ECU_Din1   \n",
       "3  20230617_115521_standard_comp_to_omission_D1_s...  dio_ECU_Din1   \n",
       "4  20230617_115521_standard_comp_to_omission_D1_s...  dio_ECU_Din1   \n",
       "\n",
       "   time_stamp_index                                         video_file  \\\n",
       "0         1030879.0  20230617_115521_standard_comp_to_omission_D1_s...   \n",
       "1         1030879.0  20230617_115521_standard_comp_to_omission_D1_s...   \n",
       "2         3430878.0  20230617_115521_standard_comp_to_omission_D1_s...   \n",
       "3         3430878.0  20230617_115521_standard_comp_to_omission_D1_s...   \n",
       "4         5730880.0  20230617_115521_standard_comp_to_omission_D1_s...   \n",
       "\n",
       "   video_frame  video_number    subject_info  ...  \\\n",
       "0         1029           1.0  1-1_t1b3L_box1  ...   \n",
       "1         1029           1.0  1-1_t1b3L_box1  ...   \n",
       "2         3425           1.0  1-1_t1b3L_box1  ...   \n",
       "3         3425           1.0  1-1_t1b3L_box1  ...   \n",
       "4         5720           1.0  1-1_t1b3L_box1  ...   \n",
       "\n",
       "                       trial_chunked_ephys_timestamp  \\\n",
       "0  [(1030879.0, 1050879.0), (1050879.0, 1070879.0...   \n",
       "1  [(1030879.0, 1050879.0), (1050879.0, 1070879.0...   \n",
       "2  [(3430878.0, 3450878.0), (3450878.0, 3470878.0...   \n",
       "3  [(3430878.0, 3450878.0), (3450878.0, 3470878.0...   \n",
       "4  [(5730880.0, 5750880.0), (5750880.0, 5770880.0...   \n",
       "\n",
       "                    baseline_chunked_ephys_timestamp  \\\n",
       "0  [(830879.0, 850879.0), (850879.0, 870879.0), (...   \n",
       "1  [(830879.0, 850879.0), (850879.0, 870879.0), (...   \n",
       "2  [(3230878.0, 3250878.0), (3250878.0, 3270878.0...   \n",
       "3  [(3230878.0, 3250878.0), (3250878.0, 3270878.0...   \n",
       "4  [(5530880.0, 5550880.0), (5550880.0, 5570880.0...   \n",
       "\n",
       "                             trial_chunked_lfp_index  \\\n",
       "0  [(51543.0, 52543.0), (52543.0, 53543.0), (5354...   \n",
       "1  [(51543.0, 52543.0), (52543.0, 53543.0), (5354...   \n",
       "2  [(171543.0, 172543.0), (172543.0, 173543.0), (...   \n",
       "3  [(171543.0, 172543.0), (172543.0, 173543.0), (...   \n",
       "4  [(286544.0, 287544.0), (287544.0, 288544.0), (...   \n",
       "\n",
       "                          baseline_chunked_lfp_index trial_or_baseline  \\\n",
       "0  [(41543.0, 42543.0), (42543.0, 43543.0), (4354...          baseline   \n",
       "1  [(41543.0, 42543.0), (42543.0, 43543.0), (4354...             trial   \n",
       "2  [(161543.0, 162543.0), (162543.0, 163543.0), (...          baseline   \n",
       "3  [(161543.0, 162543.0), (162543.0, 163543.0), (...             trial   \n",
       "4  [(276544.0, 277544.0), (277544.0, 278544.0), (...          baseline   \n",
       "\n",
       "                             current_thorax_velocity  \\\n",
       "0  [1.4426199366829346, 0.9791696179861392, 0.723...   \n",
       "1  [5.37049091429759, 5.196457834281414, 4.916080...   \n",
       "2  [0.30868701696333833, 0.28295974779669697, 0.3...   \n",
       "3  [5.92396632721846, 6.021571590092062, 6.315228...   \n",
       "4  [12.322893761589675, 12.718067202520714, 12.42...   \n",
       "\n",
       "                     current_chunked_thorax_velocity  \\\n",
       "0  [0.6049464906054562, 0.8003202428686067, 1.576...   \n",
       "1  [6.000200627117622, 6.7736199704500875, 3.6055...   \n",
       "2  [0.9004001623271887, 0.9399580184978504, 0.975...   \n",
       "3  [7.90304984461326, 5.389214776732418, 17.22809...   \n",
       "4  [6.576149902489789, 4.890034291307031, 1.53587...   \n",
       "\n",
       "                                   chunked_lfp_index  \\\n",
       "0  [(41543.0, 42543.0), (42543.0, 43543.0), (4354...   \n",
       "1  [(51543.0, 52543.0), (52543.0, 53543.0), (5354...   \n",
       "2  [(161543.0, 162543.0), (162543.0, 163543.0), (...   \n",
       "3  [(171543.0, 172543.0), (172543.0, 173543.0), (...   \n",
       "4  [(276544.0, 277544.0), (277544.0, 278544.0), (...   \n",
       "\n",
       "                             chunked_ephys_timestamp  \\\n",
       "0  [(830879.0, 850879.0), (850879.0, 870879.0), (...   \n",
       "1  [(1030879.0, 1050879.0), (1050879.0, 1070879.0...   \n",
       "2  [(3230878.0, 3250878.0), (3250878.0, 3270878.0...   \n",
       "3  [(3430878.0, 3450878.0), (3450878.0, 3470878.0...   \n",
       "4  [(5530880.0, 5550880.0), (5550880.0, 5570880.0...   \n",
       "\n",
       "   binned_current_thorax_velocity  \n",
       "0  [0, 0, 0, 0, 0, 0, 0, 2, 2, 1]  \n",
       "1  [1, 1, 0, 1, 1, 1, 0, 0, 0, 0]  \n",
       "2  [0, 0, 0, 0, 0, 0, 0, 2, 1, 1]  \n",
       "3  [1, 1, 2, 2, 0, 0, 0, 0, 0, 0]  \n",
       "4  [1, 0, 0, 0, 0, 0, 0, 0, 0, 0]  \n",
       "\n",
       "[5 rows x 62 columns]"
      ]
     },
     "execution_count": 49,
     "metadata": {},
     "output_type": "execute_result"
    }
   ],
   "source": [
    "all_trials_df.head()"
   ]
  },
  {
   "cell_type": "markdown",
   "metadata": {},
   "source": [
    "- Adding all the brain region to ch information"
   ]
  },
  {
   "cell_type": "code",
   "execution_count": 50,
   "metadata": {},
   "outputs": [],
   "source": [
    "channel_map_and_all_trials_df = all_trials_df.merge(CHANNEL_MAPPING_DF, left_on=\"current_subject\", right_on=\"Subject\", how=\"left\")"
   ]
  },
  {
   "cell_type": "markdown",
   "metadata": {},
   "source": [
    "- Linking up all LFP calculations with all the trials"
   ]
  },
  {
   "cell_type": "code",
   "execution_count": 51,
   "metadata": {},
   "outputs": [],
   "source": [
    "channel_map_and_all_trials_df[\"all_ch_lfp\"] = channel_map_and_all_trials_df[\"recording_file\"].map(recording_name_to_all_ch_lfp)"
   ]
  },
  {
   "cell_type": "markdown",
   "metadata": {},
   "source": [
    "- Creating a new row for each brain region"
   ]
  },
  {
   "cell_type": "code",
   "execution_count": 52,
   "metadata": {},
   "outputs": [],
   "source": [
    "brain_region_col = [col for col in CHANNEL_MAPPING_DF if \"spike_interface\" in col]"
   ]
  },
  {
   "cell_type": "code",
   "execution_count": 53,
   "metadata": {},
   "outputs": [],
   "source": [
    "id_cols = [col for col in channel_map_and_all_trials_df.columns if col not in brain_region_col]"
   ]
  },
  {
   "cell_type": "code",
   "execution_count": 54,
   "metadata": {},
   "outputs": [],
   "source": [
    "melted_channel_map_and_all_trials_df = channel_map_and_all_trials_df.melt(id_vars=id_cols ,value_vars=brain_region_col, var_name='brain_region', value_name='channel')\n"
   ]
  },
  {
   "cell_type": "code",
   "execution_count": 55,
   "metadata": {},
   "outputs": [
    {
     "data": {
      "text/html": [
       "<div>\n",
       "<style scoped>\n",
       "    .dataframe tbody tr th:only-of-type {\n",
       "        vertical-align: middle;\n",
       "    }\n",
       "\n",
       "    .dataframe tbody tr th {\n",
       "        vertical-align: top;\n",
       "    }\n",
       "\n",
       "    .dataframe thead th {\n",
       "        text-align: right;\n",
       "    }\n",
       "</style>\n",
       "<table border=\"1\" class=\"dataframe\">\n",
       "  <thead>\n",
       "    <tr style=\"text-align: right;\">\n",
       "      <th></th>\n",
       "      <th>time</th>\n",
       "      <th>state</th>\n",
       "      <th>recording_dir</th>\n",
       "      <th>recording_file</th>\n",
       "      <th>din</th>\n",
       "      <th>time_stamp_index</th>\n",
       "      <th>video_file</th>\n",
       "      <th>video_frame</th>\n",
       "      <th>video_number</th>\n",
       "      <th>subject_info</th>\n",
       "      <th>...</th>\n",
       "      <th>Cohort</th>\n",
       "      <th>Subject</th>\n",
       "      <th>eib_mPFC</th>\n",
       "      <th>eib_vHPC</th>\n",
       "      <th>eib_BLA</th>\n",
       "      <th>eib_LH</th>\n",
       "      <th>eib_MD</th>\n",
       "      <th>all_ch_lfp</th>\n",
       "      <th>brain_region</th>\n",
       "      <th>channel</th>\n",
       "    </tr>\n",
       "  </thead>\n",
       "  <tbody>\n",
       "    <tr>\n",
       "      <th>0</th>\n",
       "      <td>4509412.0</td>\n",
       "      <td>1.0</td>\n",
       "      <td>20230617_115521_standard_comp_to_omission_D1_s...</td>\n",
       "      <td>20230617_115521_standard_comp_to_omission_D1_s...</td>\n",
       "      <td>dio_ECU_Din1</td>\n",
       "      <td>1030879.0</td>\n",
       "      <td>20230617_115521_standard_comp_to_omission_D1_s...</td>\n",
       "      <td>1029</td>\n",
       "      <td>1.0</td>\n",
       "      <td>1-1_t1b3L_box1</td>\n",
       "      <td>...</td>\n",
       "      <td>2</td>\n",
       "      <td>1.1</td>\n",
       "      <td>NaN</td>\n",
       "      <td>16</td>\n",
       "      <td>17</td>\n",
       "      <td>18</td>\n",
       "      <td>19</td>\n",
       "      <td>ZScoreRecording: 32 channels - 1 segments - 1....</td>\n",
       "      <td>spike_interface_mPFC</td>\n",
       "      <td>5.0</td>\n",
       "    </tr>\n",
       "    <tr>\n",
       "      <th>1</th>\n",
       "      <td>4509412.0</td>\n",
       "      <td>1.0</td>\n",
       "      <td>20230617_115521_standard_comp_to_omission_D1_s...</td>\n",
       "      <td>20230617_115521_standard_comp_to_omission_D1_s...</td>\n",
       "      <td>dio_ECU_Din1</td>\n",
       "      <td>1030879.0</td>\n",
       "      <td>20230617_115521_standard_comp_to_omission_D1_s...</td>\n",
       "      <td>1029</td>\n",
       "      <td>1.0</td>\n",
       "      <td>1-1_t1b3L_box1</td>\n",
       "      <td>...</td>\n",
       "      <td>2</td>\n",
       "      <td>1.1</td>\n",
       "      <td>NaN</td>\n",
       "      <td>16</td>\n",
       "      <td>17</td>\n",
       "      <td>18</td>\n",
       "      <td>19</td>\n",
       "      <td>ZScoreRecording: 32 channels - 1 segments - 1....</td>\n",
       "      <td>spike_interface_mPFC</td>\n",
       "      <td>5.0</td>\n",
       "    </tr>\n",
       "    <tr>\n",
       "      <th>2</th>\n",
       "      <td>6909411.0</td>\n",
       "      <td>1.0</td>\n",
       "      <td>20230617_115521_standard_comp_to_omission_D1_s...</td>\n",
       "      <td>20230617_115521_standard_comp_to_omission_D1_s...</td>\n",
       "      <td>dio_ECU_Din1</td>\n",
       "      <td>3430878.0</td>\n",
       "      <td>20230617_115521_standard_comp_to_omission_D1_s...</td>\n",
       "      <td>3425</td>\n",
       "      <td>1.0</td>\n",
       "      <td>1-1_t1b3L_box1</td>\n",
       "      <td>...</td>\n",
       "      <td>2</td>\n",
       "      <td>1.1</td>\n",
       "      <td>NaN</td>\n",
       "      <td>16</td>\n",
       "      <td>17</td>\n",
       "      <td>18</td>\n",
       "      <td>19</td>\n",
       "      <td>ZScoreRecording: 32 channels - 1 segments - 1....</td>\n",
       "      <td>spike_interface_mPFC</td>\n",
       "      <td>5.0</td>\n",
       "    </tr>\n",
       "    <tr>\n",
       "      <th>3</th>\n",
       "      <td>6909411.0</td>\n",
       "      <td>1.0</td>\n",
       "      <td>20230617_115521_standard_comp_to_omission_D1_s...</td>\n",
       "      <td>20230617_115521_standard_comp_to_omission_D1_s...</td>\n",
       "      <td>dio_ECU_Din1</td>\n",
       "      <td>3430878.0</td>\n",
       "      <td>20230617_115521_standard_comp_to_omission_D1_s...</td>\n",
       "      <td>3425</td>\n",
       "      <td>1.0</td>\n",
       "      <td>1-1_t1b3L_box1</td>\n",
       "      <td>...</td>\n",
       "      <td>2</td>\n",
       "      <td>1.1</td>\n",
       "      <td>NaN</td>\n",
       "      <td>16</td>\n",
       "      <td>17</td>\n",
       "      <td>18</td>\n",
       "      <td>19</td>\n",
       "      <td>ZScoreRecording: 32 channels - 1 segments - 1....</td>\n",
       "      <td>spike_interface_mPFC</td>\n",
       "      <td>5.0</td>\n",
       "    </tr>\n",
       "    <tr>\n",
       "      <th>4</th>\n",
       "      <td>9209413.0</td>\n",
       "      <td>1.0</td>\n",
       "      <td>20230617_115521_standard_comp_to_omission_D1_s...</td>\n",
       "      <td>20230617_115521_standard_comp_to_omission_D1_s...</td>\n",
       "      <td>dio_ECU_Din1</td>\n",
       "      <td>5730880.0</td>\n",
       "      <td>20230617_115521_standard_comp_to_omission_D1_s...</td>\n",
       "      <td>5720</td>\n",
       "      <td>1.0</td>\n",
       "      <td>1-1_t1b3L_box1</td>\n",
       "      <td>...</td>\n",
       "      <td>2</td>\n",
       "      <td>1.1</td>\n",
       "      <td>NaN</td>\n",
       "      <td>16</td>\n",
       "      <td>17</td>\n",
       "      <td>18</td>\n",
       "      <td>19</td>\n",
       "      <td>ZScoreRecording: 32 channels - 1 segments - 1....</td>\n",
       "      <td>spike_interface_mPFC</td>\n",
       "      <td>5.0</td>\n",
       "    </tr>\n",
       "  </tbody>\n",
       "</table>\n",
       "<p>5 rows × 72 columns</p>\n",
       "</div>"
      ],
      "text/plain": [
       "        time  state                                      recording_dir  \\\n",
       "0  4509412.0    1.0  20230617_115521_standard_comp_to_omission_D1_s...   \n",
       "1  4509412.0    1.0  20230617_115521_standard_comp_to_omission_D1_s...   \n",
       "2  6909411.0    1.0  20230617_115521_standard_comp_to_omission_D1_s...   \n",
       "3  6909411.0    1.0  20230617_115521_standard_comp_to_omission_D1_s...   \n",
       "4  9209413.0    1.0  20230617_115521_standard_comp_to_omission_D1_s...   \n",
       "\n",
       "                                      recording_file           din  \\\n",
       "0  20230617_115521_standard_comp_to_omission_D1_s...  dio_ECU_Din1   \n",
       "1  20230617_115521_standard_comp_to_omission_D1_s...  dio_ECU_Din1   \n",
       "2  20230617_115521_standard_comp_to_omission_D1_s...  dio_ECU_Din1   \n",
       "3  20230617_115521_standard_comp_to_omission_D1_s...  dio_ECU_Din1   \n",
       "4  20230617_115521_standard_comp_to_omission_D1_s...  dio_ECU_Din1   \n",
       "\n",
       "   time_stamp_index                                         video_file  \\\n",
       "0         1030879.0  20230617_115521_standard_comp_to_omission_D1_s...   \n",
       "1         1030879.0  20230617_115521_standard_comp_to_omission_D1_s...   \n",
       "2         3430878.0  20230617_115521_standard_comp_to_omission_D1_s...   \n",
       "3         3430878.0  20230617_115521_standard_comp_to_omission_D1_s...   \n",
       "4         5730880.0  20230617_115521_standard_comp_to_omission_D1_s...   \n",
       "\n",
       "   video_frame  video_number    subject_info  ... Cohort Subject eib_mPFC  \\\n",
       "0         1029           1.0  1-1_t1b3L_box1  ...      2     1.1      NaN   \n",
       "1         1029           1.0  1-1_t1b3L_box1  ...      2     1.1      NaN   \n",
       "2         3425           1.0  1-1_t1b3L_box1  ...      2     1.1      NaN   \n",
       "3         3425           1.0  1-1_t1b3L_box1  ...      2     1.1      NaN   \n",
       "4         5720           1.0  1-1_t1b3L_box1  ...      2     1.1      NaN   \n",
       "\n",
       "   eib_vHPC eib_BLA eib_LH eib_MD  \\\n",
       "0        16      17     18     19   \n",
       "1        16      17     18     19   \n",
       "2        16      17     18     19   \n",
       "3        16      17     18     19   \n",
       "4        16      17     18     19   \n",
       "\n",
       "                                          all_ch_lfp          brain_region  \\\n",
       "0  ZScoreRecording: 32 channels - 1 segments - 1....  spike_interface_mPFC   \n",
       "1  ZScoreRecording: 32 channels - 1 segments - 1....  spike_interface_mPFC   \n",
       "2  ZScoreRecording: 32 channels - 1 segments - 1....  spike_interface_mPFC   \n",
       "3  ZScoreRecording: 32 channels - 1 segments - 1....  spike_interface_mPFC   \n",
       "4  ZScoreRecording: 32 channels - 1 segments - 1....  spike_interface_mPFC   \n",
       "\n",
       "   channel  \n",
       "0      5.0  \n",
       "1      5.0  \n",
       "2      5.0  \n",
       "3      5.0  \n",
       "4      5.0  \n",
       "\n",
       "[5 rows x 72 columns]"
      ]
     },
     "execution_count": 55,
     "metadata": {},
     "output_type": "execute_result"
    }
   ],
   "source": [
    "melted_channel_map_and_all_trials_df.head()"
   ]
  },
  {
   "cell_type": "code",
   "execution_count": 56,
   "metadata": {},
   "outputs": [
    {
     "data": {
      "text/html": [
       "<div>\n",
       "<style scoped>\n",
       "    .dataframe tbody tr th:only-of-type {\n",
       "        vertical-align: middle;\n",
       "    }\n",
       "\n",
       "    .dataframe tbody tr th {\n",
       "        vertical-align: top;\n",
       "    }\n",
       "\n",
       "    .dataframe thead th {\n",
       "        text-align: right;\n",
       "    }\n",
       "</style>\n",
       "<table border=\"1\" class=\"dataframe\">\n",
       "  <thead>\n",
       "    <tr style=\"text-align: right;\">\n",
       "      <th></th>\n",
       "      <th>time</th>\n",
       "      <th>state</th>\n",
       "      <th>recording_dir</th>\n",
       "      <th>recording_file</th>\n",
       "      <th>din</th>\n",
       "      <th>time_stamp_index</th>\n",
       "      <th>video_file</th>\n",
       "      <th>video_frame</th>\n",
       "      <th>video_number</th>\n",
       "      <th>subject_info</th>\n",
       "      <th>...</th>\n",
       "      <th>Cohort</th>\n",
       "      <th>Subject</th>\n",
       "      <th>eib_mPFC</th>\n",
       "      <th>eib_vHPC</th>\n",
       "      <th>eib_BLA</th>\n",
       "      <th>eib_LH</th>\n",
       "      <th>eib_MD</th>\n",
       "      <th>all_ch_lfp</th>\n",
       "      <th>brain_region</th>\n",
       "      <th>channel</th>\n",
       "    </tr>\n",
       "  </thead>\n",
       "  <tbody>\n",
       "    <tr>\n",
       "      <th>2395</th>\n",
       "      <td>68781880.0</td>\n",
       "      <td>1.0</td>\n",
       "      <td>20230621_111240_standard_comp_to_omission_D5_s...</td>\n",
       "      <td>20230621_111240_standard_comp_to_omission_D5_s...</td>\n",
       "      <td>dio_ECU_Din1</td>\n",
       "      <td>65588836.0</td>\n",
       "      <td>20230621_111240_standard_comp_to_omission_D5_s...</td>\n",
       "      <td>65550</td>\n",
       "      <td>1.0</td>\n",
       "      <td>1-4_t3b3L_box1</td>\n",
       "      <td>...</td>\n",
       "      <td>2</td>\n",
       "      <td>1.4</td>\n",
       "      <td>NaN</td>\n",
       "      <td>15</td>\n",
       "      <td>14</td>\n",
       "      <td>13</td>\n",
       "      <td>12</td>\n",
       "      <td>ZScoreRecording: 32 channels - 1 segments - 1....</td>\n",
       "      <td>spike_interface_MD</td>\n",
       "      <td>28.0</td>\n",
       "    </tr>\n",
       "    <tr>\n",
       "      <th>2396</th>\n",
       "      <td>70681909.0</td>\n",
       "      <td>1.0</td>\n",
       "      <td>20230621_111240_standard_comp_to_omission_D5_s...</td>\n",
       "      <td>20230621_111240_standard_comp_to_omission_D5_s...</td>\n",
       "      <td>dio_ECU_Din1</td>\n",
       "      <td>67488865.0</td>\n",
       "      <td>20230621_111240_standard_comp_to_omission_D5_s...</td>\n",
       "      <td>67447</td>\n",
       "      <td>1.0</td>\n",
       "      <td>1-4_t3b3L_box1</td>\n",
       "      <td>...</td>\n",
       "      <td>2</td>\n",
       "      <td>1.4</td>\n",
       "      <td>NaN</td>\n",
       "      <td>15</td>\n",
       "      <td>14</td>\n",
       "      <td>13</td>\n",
       "      <td>12</td>\n",
       "      <td>ZScoreRecording: 32 channels - 1 segments - 1....</td>\n",
       "      <td>spike_interface_MD</td>\n",
       "      <td>28.0</td>\n",
       "    </tr>\n",
       "    <tr>\n",
       "      <th>2397</th>\n",
       "      <td>70681909.0</td>\n",
       "      <td>1.0</td>\n",
       "      <td>20230621_111240_standard_comp_to_omission_D5_s...</td>\n",
       "      <td>20230621_111240_standard_comp_to_omission_D5_s...</td>\n",
       "      <td>dio_ECU_Din1</td>\n",
       "      <td>67488865.0</td>\n",
       "      <td>20230621_111240_standard_comp_to_omission_D5_s...</td>\n",
       "      <td>67447</td>\n",
       "      <td>1.0</td>\n",
       "      <td>1-4_t3b3L_box1</td>\n",
       "      <td>...</td>\n",
       "      <td>2</td>\n",
       "      <td>1.4</td>\n",
       "      <td>NaN</td>\n",
       "      <td>15</td>\n",
       "      <td>14</td>\n",
       "      <td>13</td>\n",
       "      <td>12</td>\n",
       "      <td>ZScoreRecording: 32 channels - 1 segments - 1....</td>\n",
       "      <td>spike_interface_MD</td>\n",
       "      <td>28.0</td>\n",
       "    </tr>\n",
       "    <tr>\n",
       "      <th>2398</th>\n",
       "      <td>71681918.0</td>\n",
       "      <td>1.0</td>\n",
       "      <td>20230621_111240_standard_comp_to_omission_D5_s...</td>\n",
       "      <td>20230621_111240_standard_comp_to_omission_D5_s...</td>\n",
       "      <td>dio_ECU_Din1</td>\n",
       "      <td>68488874.0</td>\n",
       "      <td>20230621_111240_standard_comp_to_omission_D5_s...</td>\n",
       "      <td>68444</td>\n",
       "      <td>1.0</td>\n",
       "      <td>1-4_t3b3L_box1</td>\n",
       "      <td>...</td>\n",
       "      <td>2</td>\n",
       "      <td>1.4</td>\n",
       "      <td>NaN</td>\n",
       "      <td>15</td>\n",
       "      <td>14</td>\n",
       "      <td>13</td>\n",
       "      <td>12</td>\n",
       "      <td>ZScoreRecording: 32 channels - 1 segments - 1....</td>\n",
       "      <td>spike_interface_MD</td>\n",
       "      <td>28.0</td>\n",
       "    </tr>\n",
       "    <tr>\n",
       "      <th>2399</th>\n",
       "      <td>71681918.0</td>\n",
       "      <td>1.0</td>\n",
       "      <td>20230621_111240_standard_comp_to_omission_D5_s...</td>\n",
       "      <td>20230621_111240_standard_comp_to_omission_D5_s...</td>\n",
       "      <td>dio_ECU_Din1</td>\n",
       "      <td>68488874.0</td>\n",
       "      <td>20230621_111240_standard_comp_to_omission_D5_s...</td>\n",
       "      <td>68444</td>\n",
       "      <td>1.0</td>\n",
       "      <td>1-4_t3b3L_box1</td>\n",
       "      <td>...</td>\n",
       "      <td>2</td>\n",
       "      <td>1.4</td>\n",
       "      <td>NaN</td>\n",
       "      <td>15</td>\n",
       "      <td>14</td>\n",
       "      <td>13</td>\n",
       "      <td>12</td>\n",
       "      <td>ZScoreRecording: 32 channels - 1 segments - 1....</td>\n",
       "      <td>spike_interface_MD</td>\n",
       "      <td>28.0</td>\n",
       "    </tr>\n",
       "  </tbody>\n",
       "</table>\n",
       "<p>5 rows × 72 columns</p>\n",
       "</div>"
      ],
      "text/plain": [
       "            time  state                                      recording_dir  \\\n",
       "2395  68781880.0    1.0  20230621_111240_standard_comp_to_omission_D5_s...   \n",
       "2396  70681909.0    1.0  20230621_111240_standard_comp_to_omission_D5_s...   \n",
       "2397  70681909.0    1.0  20230621_111240_standard_comp_to_omission_D5_s...   \n",
       "2398  71681918.0    1.0  20230621_111240_standard_comp_to_omission_D5_s...   \n",
       "2399  71681918.0    1.0  20230621_111240_standard_comp_to_omission_D5_s...   \n",
       "\n",
       "                                         recording_file           din  \\\n",
       "2395  20230621_111240_standard_comp_to_omission_D5_s...  dio_ECU_Din1   \n",
       "2396  20230621_111240_standard_comp_to_omission_D5_s...  dio_ECU_Din1   \n",
       "2397  20230621_111240_standard_comp_to_omission_D5_s...  dio_ECU_Din1   \n",
       "2398  20230621_111240_standard_comp_to_omission_D5_s...  dio_ECU_Din1   \n",
       "2399  20230621_111240_standard_comp_to_omission_D5_s...  dio_ECU_Din1   \n",
       "\n",
       "      time_stamp_index                                         video_file  \\\n",
       "2395        65588836.0  20230621_111240_standard_comp_to_omission_D5_s...   \n",
       "2396        67488865.0  20230621_111240_standard_comp_to_omission_D5_s...   \n",
       "2397        67488865.0  20230621_111240_standard_comp_to_omission_D5_s...   \n",
       "2398        68488874.0  20230621_111240_standard_comp_to_omission_D5_s...   \n",
       "2399        68488874.0  20230621_111240_standard_comp_to_omission_D5_s...   \n",
       "\n",
       "      video_frame  video_number    subject_info  ... Cohort Subject eib_mPFC  \\\n",
       "2395        65550           1.0  1-4_t3b3L_box1  ...      2     1.4      NaN   \n",
       "2396        67447           1.0  1-4_t3b3L_box1  ...      2     1.4      NaN   \n",
       "2397        67447           1.0  1-4_t3b3L_box1  ...      2     1.4      NaN   \n",
       "2398        68444           1.0  1-4_t3b3L_box1  ...      2     1.4      NaN   \n",
       "2399        68444           1.0  1-4_t3b3L_box1  ...      2     1.4      NaN   \n",
       "\n",
       "      eib_vHPC eib_BLA eib_LH eib_MD  \\\n",
       "2395        15      14     13     12   \n",
       "2396        15      14     13     12   \n",
       "2397        15      14     13     12   \n",
       "2398        15      14     13     12   \n",
       "2399        15      14     13     12   \n",
       "\n",
       "                                             all_ch_lfp        brain_region  \\\n",
       "2395  ZScoreRecording: 32 channels - 1 segments - 1....  spike_interface_MD   \n",
       "2396  ZScoreRecording: 32 channels - 1 segments - 1....  spike_interface_MD   \n",
       "2397  ZScoreRecording: 32 channels - 1 segments - 1....  spike_interface_MD   \n",
       "2398  ZScoreRecording: 32 channels - 1 segments - 1....  spike_interface_MD   \n",
       "2399  ZScoreRecording: 32 channels - 1 segments - 1....  spike_interface_MD   \n",
       "\n",
       "      channel  \n",
       "2395     28.0  \n",
       "2396     28.0  \n",
       "2397     28.0  \n",
       "2398     28.0  \n",
       "2399     28.0  \n",
       "\n",
       "[5 rows x 72 columns]"
      ]
     },
     "execution_count": 56,
     "metadata": {},
     "output_type": "execute_result"
    }
   ],
   "source": [
    "melted_channel_map_and_all_trials_df.tail()"
   ]
  },
  {
   "cell_type": "markdown",
   "metadata": {},
   "source": [
    "- Getting the traces for each trial for each brain region"
   ]
  },
  {
   "cell_type": "code",
   "execution_count": 57,
   "metadata": {},
   "outputs": [],
   "source": [
    "melted_channel_map_and_all_trials_df[\"channel\"] = melted_channel_map_and_all_trials_df[\"channel\"].astype(int).astype(str)\n",
    "melted_channel_map_and_all_trials_df[\"resampled_index\"] = melted_channel_map_and_all_trials_df[\"resampled_index\"].astype(int)"
   ]
  },
  {
   "cell_type": "code",
   "execution_count": 58,
   "metadata": {},
   "outputs": [
    {
     "data": {
      "text/plain": [
       "[(41543.0, 42543.0),\n",
       " (42543.0, 43543.0),\n",
       " (43543.0, 44543.0),\n",
       " (44543.0, 45543.0),\n",
       " (45543.0, 46543.0),\n",
       " (46543.0, 47543.0),\n",
       " (47543.0, 48543.0),\n",
       " (48543.0, 49543.0),\n",
       " (49543.0, 50543.0),\n",
       " (50543.0, 51543.0)]"
      ]
     },
     "execution_count": 58,
     "metadata": {},
     "output_type": "execute_result"
    }
   ],
   "source": [
    "melted_channel_map_and_all_trials_df[\"chunked_lfp_index\"].iloc[0]"
   ]
  },
  {
   "cell_type": "code",
   "execution_count": 59,
   "metadata": {},
   "outputs": [
    {
     "data": {
      "text/plain": [
       "[0, 0, 0, 0, 0, 0, 0, 2, 2, 1]"
      ]
     },
     "execution_count": 59,
     "metadata": {},
     "output_type": "execute_result"
    }
   ],
   "source": [
    "melted_channel_map_and_all_trials_df[\"binned_current_thorax_velocity\"].iloc[0]"
   ]
  },
  {
   "cell_type": "code",
   "execution_count": 61,
   "metadata": {},
   "outputs": [
    {
     "data": {
      "text/plain": [
       "Index(['time', 'state', 'recording_dir', 'recording_file', 'din',\n",
       "       'time_stamp_index', 'video_file', 'video_frame', 'video_number',\n",
       "       'subject_info', 'condition', 'competition_closeness', 'Unnamed: 13',\n",
       "       'resampled_index', 'all_subjects', 'current_subject', 'trial_outcome',\n",
       "       'video_name', 'file_path', 'start_frame', 'stop_frame',\n",
       "       'individual_subj', 'all_subj', 'recording_name', 'all_sleap_data',\n",
       "       'locations', 'track_names', 'subject_to_index', 'subject_id',\n",
       "       'subject_locations', 'corner_path', 'corner_parts', 'bottom_width',\n",
       "       'top_width', 'right_height', 'left_height', 'average_height',\n",
       "       'average_width', 'width_ratio', 'height_ratio', 'rescaled_locations',\n",
       "       'box_top_left', 'box_bottom_left', 'box_bottom_right', 'reward_port',\n",
       "       'box_top_right', 'all_thorax_locations', 'all_thorax_velocity',\n",
       "       'trial_thorax_velocity', 'baseline_thorax_velocity',\n",
       "       'trial_chunked_thorax_velocity', 'baseline_chunked_thorax_velocity',\n",
       "       'trial_chunked_ephys_timestamp', 'baseline_chunked_ephys_timestamp',\n",
       "       'trial_chunked_lfp_index', 'baseline_chunked_lfp_index',\n",
       "       'trial_or_baseline', 'current_thorax_velocity',\n",
       "       'current_chunked_thorax_velocity', 'chunked_lfp_index',\n",
       "       'chunked_ephys_timestamp', 'binned_current_thorax_velocity', 'Cohort',\n",
       "       'Subject', 'eib_mPFC', 'eib_vHPC', 'eib_BLA', 'eib_LH', 'eib_MD',\n",
       "       'all_ch_lfp', 'brain_region', 'channel'],\n",
       "      dtype='object')"
      ]
     },
     "execution_count": 61,
     "metadata": {},
     "output_type": "execute_result"
    }
   ],
   "source": [
    "melted_channel_map_and_all_trials_df.columns"
   ]
  },
  {
   "cell_type": "code",
   "execution_count": null,
   "metadata": {},
   "outputs": [],
   "source": [
    "melted_channel_map_and_all_trials_df[\"chunked_current_trace\"] = melted_channel_map_and_all_trials_df.apply(lambda x: \n",
    "[x[\"all_ch_lfp\"].get_traces(channel_ids=[x[\"channel\"]], start_frame=chunk_index[0], end_frame=chunk_index[1]).T[0] for chunk_index in x[\"chunked_lfp_index\"]], axis=1)"
   ]
  },
  {
   "cell_type": "code",
   "execution_count": null,
   "metadata": {},
   "outputs": [],
   "source": [
    "len(melted_channel_map_and_all_trials_df[\"chunked_current_trace\"].iloc[0])"
   ]
  },
  {
   "cell_type": "code",
   "execution_count": null,
   "metadata": {
    "scrolled": true
   },
   "outputs": [],
   "source": [
    "melted_channel_map_and_all_trials_df[\"chunked_current_trace\"]"
   ]
  },
  {
   "cell_type": "code",
   "execution_count": null,
   "metadata": {},
   "outputs": [],
   "source": [
    "melted_channel_map_and_all_trials_df[\"chunk_id\"] = [list(range(0,10))] * len(melted_channel_map_and_all_trials_df)"
   ]
  },
  {
   "cell_type": "code",
   "execution_count": null,
   "metadata": {},
   "outputs": [],
   "source": [
    "exploded_channel_map_and_all_trials_df = melted_channel_map_and_all_trials_df.explode([\"current_chunked_thorax_velocity\", \"chunked_current_trace\", \"binned_current_thorax_velocity\", \"chunked_lfp_index\",\t\"chunked_ephys_timestamp\", \"chunk_id\"])"
   ]
  },
  {
   "cell_type": "code",
   "execution_count": null,
   "metadata": {
    "scrolled": true
   },
   "outputs": [],
   "source": [
    "exploded_channel_map_and_all_trials_df"
   ]
  },
  {
   "cell_type": "code",
   "execution_count": null,
   "metadata": {},
   "outputs": [],
   "source": [
    "exploded_channel_map_and_all_trials_df[\"len_chunked_current_trace\"] = exploded_channel_map_and_all_trials_df[\"chunked_current_trace\"].apply(lambda x: len(x))\n"
   ]
  },
  {
   "cell_type": "code",
   "execution_count": null,
   "metadata": {},
   "outputs": [],
   "source": [
    "exploded_channel_map_and_all_trials_df[\"len_chunked_current_trace\"].unique()"
   ]
  },
  {
   "cell_type": "code",
   "execution_count": null,
   "metadata": {},
   "outputs": [],
   "source": [
    "exploded_channel_map_and_all_trials_df[\"chunked_current_trace\"] = exploded_channel_map_and_all_trials_df[\"chunked_current_trace\"].apply(lambda x: x[:RESAMPLE_RATE])"
   ]
  },
  {
   "cell_type": "code",
   "execution_count": null,
   "metadata": {
    "scrolled": true
   },
   "outputs": [],
   "source": [
    "exploded_channel_map_and_all_trials_df[\"chunked_current_trace\"]"
   ]
  },
  {
   "cell_type": "code",
   "execution_count": null,
   "metadata": {},
   "outputs": [],
   "source": [
    "# exploded_channel_map_and_all_trials_df.to_pickle(\"./\")"
   ]
  },
  {
   "cell_type": "code",
   "execution_count": null,
   "metadata": {},
   "outputs": [],
   "source": [
    "raise ValueError()"
   ]
  },
  {
   "cell_type": "markdown",
   "metadata": {},
   "source": [
    "- Calcuating the power at each frequency band"
   ]
  },
  {
   "cell_type": "code",
   "execution_count": null,
   "metadata": {},
   "outputs": [],
   "source": [
    "exploded_channel_map_and_all_trials_df[\"multitaper\"] = exploded_channel_map_and_all_trials_df[\"chunked_current_trace\"].apply(lambda x: Multitaper(time_series=x,                                                                                        sampling_frequency=RESAMPLE_RATE))"
   ]
  },
  {
   "cell_type": "code",
   "execution_count": null,
   "metadata": {},
   "outputs": [],
   "source": [
    "exploded_channel_map_and_all_trials_df[\"connectivity\"] = exploded_channel_map_and_all_trials_df[\"multitaper\"].apply(lambda x: Connectivity.from_multitaper(x))"
   ]
  },
  {
   "cell_type": "code",
   "execution_count": null,
   "metadata": {},
   "outputs": [],
   "source": [
    "exploded_channel_map_and_all_trials_df[\"frequencies\"] = exploded_channel_map_and_all_trials_df[\"connectivity\"].apply(lambda x: x.frequencies)"
   ]
  },
  {
   "cell_type": "code",
   "execution_count": null,
   "metadata": {},
   "outputs": [],
   "source": [
    "exploded_channel_map_and_all_trials_df[\"power\"] = exploded_channel_map_and_all_trials_df[\"connectivity\"].apply(lambda x: x.power().squeeze())"
   ]
  },
  {
   "cell_type": "code",
   "execution_count": null,
   "metadata": {},
   "outputs": [],
   "source": [
    "exploded_channel_map_and_all_trials_df.head()"
   ]
  },
  {
   "cell_type": "code",
   "execution_count": null,
   "metadata": {
    "scrolled": true
   },
   "outputs": [],
   "source": [
    "exploded_channel_map_and_all_trials_df.tail()"
   ]
  },
  {
   "cell_type": "markdown",
   "metadata": {},
   "source": [
    "# Plotting by velocity"
   ]
  },
  {
   "cell_type": "markdown",
   "metadata": {},
   "source": [
    "- Grouping all the rows(1s segment of trials) that share the same brain region, whether its before or after the tone, and velocity grouping"
   ]
  },
  {
   "cell_type": "code",
   "execution_count": null,
   "metadata": {},
   "outputs": [],
   "source": [
    "grouped_all_trials_df = exploded_channel_map_and_all_trials_df.groupby(['brain_region', 'trial_or_baseline', 'binned_current_thorax_velocity']).agg({'power': lambda x: np.vstack(x.tolist())}).reset_index()"
   ]
  },
  {
   "cell_type": "markdown",
   "metadata": {},
   "source": [
    "- Calculating the mean and sem of the LFP power"
   ]
  },
  {
   "cell_type": "code",
   "execution_count": null,
   "metadata": {},
   "outputs": [],
   "source": [
    "grouped_all_trials_df[\"mean_power\"] = grouped_all_trials_df[\"power\"].apply(lambda x: np.nanmean(np.vstack(x), axis=0))"
   ]
  },
  {
   "cell_type": "code",
   "execution_count": null,
   "metadata": {},
   "outputs": [],
   "source": [
    "grouped_all_trials_df[\"std_power\"] = grouped_all_trials_df[\"power\"].apply(lambda x: np.nanstd(np.vstack(x), axis=0))"
   ]
  },
  {
   "cell_type": "code",
   "execution_count": null,
   "metadata": {},
   "outputs": [],
   "source": [
    "grouped_all_trials_df[\"n_trials\"] = grouped_all_trials_df[\"power\"].apply(lambda x: np.sum(~np.isnan(x), axis=0))"
   ]
  },
  {
   "cell_type": "code",
   "execution_count": null,
   "metadata": {},
   "outputs": [],
   "source": [
    "grouped_all_trials_df[\"sem_power\"] = grouped_all_trials_df.apply(lambda x: x[\"std_power\"] / np.sqrt(x[\"n_trials\"]), axis=1)"
   ]
  },
  {
   "cell_type": "code",
   "execution_count": null,
   "metadata": {
    "scrolled": true
   },
   "outputs": [],
   "source": [
    "low_freq = 0\n",
    "high_freq = 12\n",
    "for region in grouped_all_trials_df[\"brain_region\"].unique():\n",
    "    region_df = grouped_all_trials_df[grouped_all_trials_df[\"brain_region\"] == region]\n",
    "\n",
    "    fig, ax = plt.subplots()\n",
    "    plt.title(\"Z-Scored LFP Power in {}\".format(region.split(\"_\")[-1]))\n",
    "    plt.xlabel(\"Frequency\")\n",
    "    plt.ylabel(\"Power\")\n",
    "    plt.xlim(low_freq, high_freq)    \n",
    "    plt.yscale(\"log\")\n",
    "    plt.ylim(0.01, 0.1)\n",
    "\n",
    "    for index, row in region_df.iterrows():\n",
    "        try:\n",
    "            ax = sns.lineplot(x=exploded_channel_map_and_all_trials_df[\"frequencies\"].iloc[0], y=row[\"mean_power\"], \\\n",
    "            label=\"{} for {}\".format(BIN_TO_VELOCITY[row[\"binned_current_thorax_velocity\"]], \\\n",
    "            row[\"trial_or_baseline\"]), color=BIN_TO_COLOR[row[\"binned_current_thorax_velocity\"]][row[\"trial_or_baseline\"]],\n",
    "            linestyle=TRIAL_OR_BASELINE_TO_STYLE[row[\"trial_or_baseline\"]], linewidth=3)\n",
    "\n",
    "            plt.fill_between(exploded_channel_map_and_all_trials_df[\"frequencies\"].iloc[0], \\\n",
    "            row[\"mean_power\"] - row[\"sem_power\"], row[\"mean_power\"] + row[\"sem_power\"], alpha=0.2,\n",
    "            color=BIN_TO_COLOR[row[\"binned_current_thorax_velocity\"]][row[\"trial_or_baseline\"]])\n",
    "        except Exception as e: \n",
    "            print(e)\n",
    "            continue\n",
    "\n",
    "    plt.legend(loc=\"lower left\")\n",
    "    \n",
    "    plt.savefig(\"./proc/velocity_parsing/plot_region_line_velocity_baselinetrial/\\\n",
    "    rce_lfp_power_velocity_baselinetrial_freq_{}_to_{}_region_{}.png\".format(low_freq, high_freq, region.split(\"_\")[-1]))\n"
   ]
  },
  {
   "cell_type": "code",
   "execution_count": null,
   "metadata": {},
   "outputs": [],
   "source": [
    "low_freq = 12\n",
    "high_freq = 30\n",
    "for region in grouped_all_trials_df[\"brain_region\"].unique():\n",
    "    region_df = grouped_all_trials_df[grouped_all_trials_df[\"brain_region\"] == region]\n",
    "\n",
    "    fig, ax = plt.subplots()\n",
    "    plt.title(\"Z-Scored LFP Power in {}\".format(region.split(\"_\")[-1]))\n",
    "    plt.xlabel(\"Frequency\")\n",
    "    plt.ylabel(\"Power\")\n",
    "    plt.xlim(low_freq, high_freq)    \n",
    "    plt.yscale(\"log\")\n",
    "    plt.ylim(0.002, 0.015) \n",
    "\n",
    "    for index, row in region_df.iterrows():\n",
    "        try:\n",
    "            ax = sns.lineplot(x=exploded_channel_map_and_all_trials_df[\"frequencies\"].iloc[0], y=row[\"mean_power\"], \\\n",
    "            label=\"{} for {}\".format(BIN_TO_VELOCITY[row[\"binned_current_thorax_velocity\"]], \\\n",
    "            row[\"trial_or_baseline\"]), color=BIN_TO_COLOR[row[\"binned_current_thorax_velocity\"]][row[\"trial_or_baseline\"]],\n",
    "            linestyle=TRIAL_OR_BASELINE_TO_STYLE[row[\"trial_or_baseline\"]], linewidth=3)\n",
    "\n",
    "            plt.fill_between(exploded_channel_map_and_all_trials_df[\"frequencies\"].iloc[0], \\\n",
    "            row[\"mean_power\"] - row[\"sem_power\"], row[\"mean_power\"] + row[\"sem_power\"], alpha=0.2,\n",
    "            color=BIN_TO_COLOR[row[\"binned_current_thorax_velocity\"]][row[\"trial_or_baseline\"]])\n",
    "        except Exception as e: \n",
    "            print(e)\n",
    "            continue\n",
    "\n",
    "    plt.savefig(\"./proc/velocity_parsing/plot_region_line_velocity_baselinetrial/\\\n",
    "    rce_lfp_power_velocity_baselinetrial_freq_{}_to_{}_region_{}.png\".format(low_freq, high_freq, region.split(\"_\")[-1]))\n"
   ]
  },
  {
   "cell_type": "code",
   "execution_count": null,
   "metadata": {},
   "outputs": [],
   "source": [
    "low_freq = 30\n",
    "high_freq = 90\n",
    "for region in grouped_all_trials_df[\"brain_region\"].unique():\n",
    "    region_df = grouped_all_trials_df[grouped_all_trials_df[\"brain_region\"] == region]\n",
    "\n",
    "    fig, ax = plt.subplots()\n",
    "    plt.title(\"Z-Scored LFP Power in {}\".format(region.split(\"_\")[-1]))\n",
    "    plt.xlabel(\"Frequency\")\n",
    "    plt.ylabel(\"Power\")\n",
    "    plt.xlim(low_freq, high_freq)    \n",
    "    # plt.ylim(0, 0.005)\n",
    "    plt.yscale(\"log\")\n",
    "    plt.ylim(0.0003, 0.005) \n",
    "\n",
    "    for index, row in region_df.iterrows():\n",
    "        try:\n",
    "            ax = sns.lineplot(x=exploded_channel_map_and_all_trials_df[\"frequencies\"].iloc[0], y=row[\"mean_power\"], \\\n",
    "            label=\"{} for {}\".format(BIN_TO_VELOCITY[row[\"binned_current_thorax_velocity\"]], \\\n",
    "            row[\"trial_or_baseline\"]), color=BIN_TO_COLOR[row[\"binned_current_thorax_velocity\"]][row[\"trial_or_baseline\"]],\n",
    "            linestyle=TRIAL_OR_BASELINE_TO_STYLE[row[\"trial_or_baseline\"]], linewidth=3)\n",
    "\n",
    "            plt.fill_between(exploded_channel_map_and_all_trials_df[\"frequencies\"].iloc[0], \\\n",
    "            row[\"mean_power\"] - row[\"sem_power\"], row[\"mean_power\"] + row[\"sem_power\"], alpha=0.2,\n",
    "            color=BIN_TO_COLOR[row[\"binned_current_thorax_velocity\"]][row[\"trial_or_baseline\"]])\n",
    "        except Exception as e: \n",
    "            print(e)\n",
    "            continue\n",
    "    plt.legend()\n",
    "    plt.savefig(\"./proc/velocity_parsing/plot_region_line_velocity_baselinetrial/\\\n",
    "    rce_lfp_power_velocity_baselinetrial_freq_{}_to_{}_region_{}.png\".format(low_freq, high_freq, region.split(\"_\")[-1]))\n"
   ]
  },
  {
   "cell_type": "code",
   "execution_count": null,
   "metadata": {},
   "outputs": [],
   "source": []
  },
  {
   "cell_type": "code",
   "execution_count": null,
   "metadata": {},
   "outputs": [],
   "source": []
  },
  {
   "cell_type": "markdown",
   "metadata": {},
   "source": [
    "## Plotting all the lower velocities together"
   ]
  },
  {
   "cell_type": "code",
   "execution_count": null,
   "metadata": {},
   "outputs": [],
   "source": [
    "speed_filtered_all_trials_df = exploded_channel_map_and_all_trials_df[exploded_channel_map_and_all_trials_df[\"binned_current_thorax_velocity\"] == 0]"
   ]
  },
  {
   "cell_type": "code",
   "execution_count": null,
   "metadata": {},
   "outputs": [],
   "source": [
    "speed_filtered_all_trials_df.shape"
   ]
  },
  {
   "cell_type": "code",
   "execution_count": null,
   "metadata": {},
   "outputs": [],
   "source": [
    "grouped_all_trials_df = speed_filtered_all_trials_df.groupby(['brain_region', 'trial_outcome', 'trial_or_baseline']).agg({'power': lambda x: np.vstack(x.tolist())}).reset_index()"
   ]
  },
  {
   "cell_type": "code",
   "execution_count": null,
   "metadata": {},
   "outputs": [],
   "source": [
    "grouped_all_trials_df[\"mean_power\"] = grouped_all_trials_df[\"power\"].apply(lambda x: np.nanmean(np.vstack(x), axis=0))"
   ]
  },
  {
   "cell_type": "code",
   "execution_count": null,
   "metadata": {},
   "outputs": [],
   "source": [
    "grouped_all_trials_df[\"std_power\"] = grouped_all_trials_df[\"power\"].apply(lambda x: np.nanstd(np.vstack(x), axis=0))"
   ]
  },
  {
   "cell_type": "code",
   "execution_count": null,
   "metadata": {},
   "outputs": [],
   "source": [
    "grouped_all_trials_df[\"n_trials\"] = grouped_all_trials_df[\"power\"].apply(lambda x: np.sum(~np.isnan(x), axis=0))"
   ]
  },
  {
   "cell_type": "code",
   "execution_count": null,
   "metadata": {},
   "outputs": [],
   "source": [
    "grouped_all_trials_df[\"sem_power\"] = grouped_all_trials_df.apply(lambda x: x[\"std_power\"] / np.sqrt(x[\"n_trials\"]), axis=1)"
   ]
  },
  {
   "cell_type": "code",
   "execution_count": null,
   "metadata": {
    "scrolled": true
   },
   "outputs": [],
   "source": [
    "grouped_all_trials_df[\"trial_outcome\"].unique()"
   ]
  },
  {
   "cell_type": "markdown",
   "metadata": {},
   "source": [
    "# Drawing plots all together"
   ]
  },
  {
   "cell_type": "raw",
   "metadata": {},
   "source": [
    "brain_region_to_ylim = {'spike_interface_BLA': 0.15, 'spike_interface_LH': 0.3, 'spike_interface_MD': 0.3,\n",
    "       'spike_interface_mPFC': 0.2, 'spike_interface_vHPC': 0.3}"
   ]
  },
  {
   "cell_type": "code",
   "execution_count": null,
   "metadata": {},
   "outputs": [],
   "source": [
    "low_freq = 0\n",
    "high_freq = 12\n",
    "for region in grouped_all_trials_df[\"brain_region\"].unique():\n",
    "    region_df = grouped_all_trials_df[grouped_all_trials_df[\"brain_region\"] == region]\n",
    "    \n",
    "    fig, ax = plt.subplots()\n",
    "    plt.title(\"Z-Scored LFP Power in {} at 0 to 5cm/s\".format(region.split(\"_\")[-1]))\n",
    "    plt.xlabel(\"Frequency\")\n",
    "    plt.ylabel(\"Power\")\n",
    "    plt.xlim(low_freq, high_freq) \n",
    "    # plt.yscale(\"log\")\n",
    "    # plt.ylim(0.01, 0.06)\n",
    "\n",
    "    for trial_or_baseline, outcome in itertools.product(region_df[\"trial_or_baseline\"].unique(), sorted(region_df[\"trial_outcome\"].unique())[::-1]):\n",
    "        outcome_df = region_df[(region_df[\"trial_or_baseline\"] == trial_or_baseline) & (region_df[\"trial_outcome\"] == outcome)]\n",
    "        for index, row in outcome_df.iterrows():\n",
    "            try:\n",
    "                ax = sns.lineplot(x=exploded_channel_map_and_all_trials_df[\"frequencies\"].iloc[0], y=row[\"mean_power\"], \\\n",
    "                label=\"{} {}\".format(outcome, trial_or_baseline), color=BASELINE_OUTCOME_TO_COLOR[outcome], \\\n",
    "                linestyle=TRIAL_OR_BASELINE_TO_STYLE[trial_or_baseline], linewidth=3)\n",
    "                \n",
    "                plt.fill_between(exploded_channel_map_and_all_trials_df[\"frequencies\"].iloc[0], \n",
    "                row[\"mean_power\"] - row[\"sem_power\"], row[\"mean_power\"] + row[\"sem_power\"], \\\n",
    "                alpha=0.1, color=BASELINE_OUTCOME_TO_COLOR[outcome])\n",
    "            \n",
    "            except Exception as e: \n",
    "                print(e)\n",
    "                continue\n",
    "    plt.legend(loc=\"lower left\")\n",
    "    plt.savefig(\"./proc/velocity_parsing/plot_region_line_trialoutcome_baselinetrial/\\\n",
    "    rce_lower_velocity_lfp_power_trialoutcome_baselinetrial_freq_{}_to_{}_region_{}.png\".format(low_freq, high_freq, region.split(\"_\")[-1]))"
   ]
  },
  {
   "cell_type": "code",
   "execution_count": null,
   "metadata": {},
   "outputs": [],
   "source": [
    "low_freq = 12\n",
    "high_freq = 30\n",
    "for region in grouped_all_trials_df[\"brain_region\"].unique():\n",
    "    region_df = grouped_all_trials_df[grouped_all_trials_df[\"brain_region\"] == region]\n",
    "    \n",
    "    fig, ax = plt.subplots()\n",
    "    plt.title(\"Z-Scored LFP Power in {} at 0 to 5cm/s\".format(region.split(\"_\")[-1]))\n",
    "    plt.xlabel(\"Frequency\")\n",
    "    plt.ylabel(\"Power\")\n",
    "    plt.xlim(low_freq, high_freq)    \n",
    "    plt.yscale(\"log\")\n",
    "    plt.ylim(0.002, 0.015) \n",
    "    \n",
    "    for trial_or_baseline, outcome in itertools.product(region_df[\"trial_or_baseline\"].unique(), sorted(region_df[\"trial_outcome\"].unique())[::-1]):\n",
    "        outcome_df = region_df[(region_df[\"trial_or_baseline\"] == trial_or_baseline) & (region_df[\"trial_outcome\"] == outcome)]\n",
    "        for index, row in outcome_df.iterrows():\n",
    "            try:\n",
    "                ax = sns.lineplot(x=exploded_channel_map_and_all_trials_df[\"frequencies\"].iloc[0], y=row[\"mean_power\"], \\\n",
    "                label=\"{} {}\".format(outcome, trial_or_baseline), color=BASELINE_OUTCOME_TO_COLOR[outcome], \\\n",
    "                linestyle=TRIAL_OR_BASELINE_TO_STYLE[trial_or_baseline], linewidth=3)\n",
    "                \n",
    "                plt.fill_between(exploded_channel_map_and_all_trials_df[\"frequencies\"].iloc[0], \n",
    "                row[\"mean_power\"] - row[\"sem_power\"], row[\"mean_power\"] + row[\"sem_power\"], \\\n",
    "                alpha=0.1, color=BASELINE_OUTCOME_TO_COLOR[outcome])\n",
    "            \n",
    "            except Exception as e: \n",
    "                print(e)\n",
    "                continue\n",
    "    plt.legend()\n",
    "    plt.savefig(\"./proc/velocity_parsing/plot_region_line_trialoutcome_baselinetrial/\\\n",
    "    rce_lower_velocity_lfp_power_trialoutcome_baselinetrial_freq_{}_to_{}_region_{}.png\".format(low_freq, high_freq, region.split(\"_\")[-1]))"
   ]
  },
  {
   "cell_type": "code",
   "execution_count": null,
   "metadata": {},
   "outputs": [],
   "source": [
    "low_freq = 30\n",
    "high_freq = 90\n",
    "for region in grouped_all_trials_df[\"brain_region\"].unique():\n",
    "    region_df = grouped_all_trials_df[grouped_all_trials_df[\"brain_region\"] == region]\n",
    "    \n",
    "    fig, ax = plt.subplots()\n",
    "    plt.title(\"Z-Scored LFP Power in {} at 0 to 5cm/s\".format(region.split(\"_\")[-1]))\n",
    "    plt.xlabel(\"Frequency\")\n",
    "    plt.ylabel(\"Power\")\n",
    "    plt.xlim(low_freq, high_freq)    \n",
    "    plt.yscale(\"log\")\n",
    "    plt.ylim(0.0003, 0.005) \n",
    "    \n",
    "    for trial_or_baseline, outcome in itertools.product(region_df[\"trial_or_baseline\"].unique(), sorted(region_df[\"trial_outcome\"].unique())[::-1]):\n",
    "        outcome_df = region_df[(region_df[\"trial_or_baseline\"] == trial_or_baseline) & (region_df[\"trial_outcome\"] == outcome)]\n",
    "        for index, row in outcome_df.iterrows():\n",
    "            try:\n",
    "                ax = sns.lineplot(x=exploded_channel_map_and_all_trials_df[\"frequencies\"].iloc[0], y=row[\"mean_power\"], \\\n",
    "                label=\"{} {}\".format(outcome, trial_or_baseline), color=BASELINE_OUTCOME_TO_COLOR[outcome], \\\n",
    "                linestyle=TRIAL_OR_BASELINE_TO_STYLE[trial_or_baseline], linewidth=3)\n",
    "                \n",
    "                plt.fill_between(exploded_channel_map_and_all_trials_df[\"frequencies\"].iloc[0], \n",
    "                row[\"mean_power\"] - row[\"sem_power\"], row[\"mean_power\"] + row[\"sem_power\"], \\\n",
    "                alpha=0.2, color=BASELINE_OUTCOME_TO_COLOR[outcome])\n",
    "            \n",
    "            except Exception as e: \n",
    "                print(e)\n",
    "                continue\n",
    "    plt.legend()\n",
    "    plt.savefig(\"./proc/velocity_parsing/plot_region_line_trialoutcome_baselinetrial/\\\n",
    "    rce_lower_velocity_lfp_power_trialoutcome_baselinetrial_freq_{}_to_{}_region_{}.png\".format(low_freq, high_freq, region.split(\"_\")[-1]))"
   ]
  },
  {
   "cell_type": "code",
   "execution_count": null,
   "metadata": {},
   "outputs": [],
   "source": []
  },
  {
   "cell_type": "code",
   "execution_count": null,
   "metadata": {},
   "outputs": [],
   "source": []
  },
  {
   "cell_type": "markdown",
   "metadata": {},
   "source": [
    "## Plotting all the higher velocities together"
   ]
  },
  {
   "cell_type": "code",
   "execution_count": null,
   "metadata": {},
   "outputs": [],
   "source": [
    "speed_filtered_all_trials_df = exploded_channel_map_and_all_trials_df[exploded_channel_map_and_all_trials_df[\"binned_current_thorax_velocity\"] == 1]"
   ]
  },
  {
   "cell_type": "code",
   "execution_count": null,
   "metadata": {},
   "outputs": [],
   "source": [
    "exploded_channel_map_and_all_trials_df[\"theta_power\"] = exploded_channel_map_and_all_trials_df[\"power\"].apply(lambda x: x[4:13])"
   ]
  },
  {
   "cell_type": "code",
   "execution_count": null,
   "metadata": {},
   "outputs": [],
   "source": [
    "exploded_channel_map_and_all_trials_df[\"theta_power\"].iloc[0]"
   ]
  },
  {
   "cell_type": "code",
   "execution_count": null,
   "metadata": {},
   "outputs": [],
   "source": [
    "exploded_channel_map_and_all_trials_df[\"averaged_theta_power\"] = exploded_channel_map_and_all_trials_df[\"theta_power\"].apply(lambda x: np.mean(x))"
   ]
  },
  {
   "cell_type": "code",
   "execution_count": null,
   "metadata": {},
   "outputs": [],
   "source": [
    "exploded_channel_map_and_all_trials_df[\"averaged_theta_power\"]"
   ]
  },
  {
   "cell_type": "code",
   "execution_count": null,
   "metadata": {
    "scrolled": true
   },
   "outputs": [],
   "source": [
    "exploded_channel_map_and_all_trials_df.columns"
   ]
  },
  {
   "cell_type": "code",
   "execution_count": null,
   "metadata": {},
   "outputs": [],
   "source": [
    "exploded_channel_map_and_all_trials_df[\"all_thorax_velocity\"].iloc[0].shape"
   ]
  },
  {
   "cell_type": "code",
   "execution_count": null,
   "metadata": {},
   "outputs": [],
   "source": [
    "exploded_channel_map_and_all_trials_df.info()"
   ]
  },
  {
   "cell_type": "code",
   "execution_count": null,
   "metadata": {},
   "outputs": [],
   "source": [
    "exploded_channel_map_and_all_trials_df.drop(columns=[\"multitaper\", \"connectivity\", 'all_thorax_locations', 'all_thorax_velocity', 'all_ch_lfp']).to_pickle(\"./proc/rce_1_sec_interval_lfp_power_spectra_and_velocity.pkl\")"
   ]
  },
  {
   "cell_type": "code",
   "execution_count": null,
   "metadata": {},
   "outputs": [],
   "source": [
    "grouped_all_trials_df = speed_filtered_all_trials_df.groupby(['brain_region', 'trial_outcome', 'trial_or_baseline']).agg({'power': lambda x: np.vstack(x.tolist())}).reset_index()"
   ]
  },
  {
   "cell_type": "code",
   "execution_count": null,
   "metadata": {},
   "outputs": [],
   "source": [
    "grouped_all_trials_df[\"mean_power\"] = grouped_all_trials_df[\"power\"].apply(lambda x: np.nanmean(np.vstack(x), axis=0))"
   ]
  },
  {
   "cell_type": "code",
   "execution_count": null,
   "metadata": {},
   "outputs": [],
   "source": [
    "grouped_all_trials_df[\"std_power\"] = grouped_all_trials_df[\"power\"].apply(lambda x: np.nanstd(np.vstack(x), axis=0))"
   ]
  },
  {
   "cell_type": "code",
   "execution_count": null,
   "metadata": {},
   "outputs": [],
   "source": [
    "grouped_all_trials_df[\"n_trials\"] = grouped_all_trials_df[\"power\"].apply(lambda x: np.sum(~np.isnan(x), axis=0))"
   ]
  },
  {
   "cell_type": "code",
   "execution_count": null,
   "metadata": {},
   "outputs": [],
   "source": [
    "grouped_all_trials_df[\"sem_power\"] = grouped_all_trials_df.apply(lambda x: x[\"std_power\"] / np.sqrt(x[\"n_trials\"]), axis=1)"
   ]
  },
  {
   "cell_type": "code",
   "execution_count": null,
   "metadata": {},
   "outputs": [],
   "source": [
    "exploded_channel_map_and_all_trials_df[\"frequencies\"].iloc[0][4:13]"
   ]
  },
  {
   "cell_type": "code",
   "execution_count": null,
   "metadata": {},
   "outputs": [],
   "source": [
    "grouped_all_trials_df[\"power\"].iloc[0].shape"
   ]
  },
  {
   "cell_type": "code",
   "execution_count": null,
   "metadata": {},
   "outputs": [],
   "source": [
    "grouped_all_trials_df[\"power\"].iloc"
   ]
  },
  {
   "cell_type": "markdown",
   "metadata": {},
   "source": [
    "# Drawing plots all together"
   ]
  },
  {
   "cell_type": "raw",
   "metadata": {},
   "source": [
    "brain_region_to_ylim = {'spike_interface_BLA': 0.15, 'spike_interface_LH': 0.3, 'spike_interface_MD': 0.3,\n",
    "       'spike_interface_mPFC': 0.2, 'spike_interface_vHPC': 0.3}"
   ]
  },
  {
   "cell_type": "code",
   "execution_count": null,
   "metadata": {
    "scrolled": true
   },
   "outputs": [],
   "source": [
    "low_freq = 0\n",
    "high_freq = 12\n",
    "for region in grouped_all_trials_df[\"brain_region\"].unique():\n",
    "    region_df = grouped_all_trials_df[grouped_all_trials_df[\"brain_region\"] == region]\n",
    "    \n",
    "    fig, ax = plt.subplots()\n",
    "    plt.title(\"Z-Scored LFP Power in {} at 5cm/s to 10cm/s\".format(region.split(\"_\")[-1]))\n",
    "    plt.xlabel(\"Frequency\")\n",
    "    plt.ylabel(\"Power\")\n",
    "    plt.xlim(low_freq, high_freq)   \n",
    "    plt.yscale(\"log\")\n",
    "    plt.ylim(0.01, 0.1)\n",
    "\n",
    "    for trial_or_baseline, outcome in itertools.product(region_df[\"trial_or_baseline\"].unique(), sorted(region_df[\"trial_outcome\"].unique())[::-1]):\n",
    "        outcome_df = region_df[(region_df[\"trial_or_baseline\"] == trial_or_baseline) & (region_df[\"trial_outcome\"] == outcome)]\n",
    "        for index, row in outcome_df.iterrows():\n",
    "            try:\n",
    "                ax = sns.lineplot(x=exploded_channel_map_and_all_trials_df[\"frequencies\"].iloc[0], y=row[\"mean_power\"], \\\n",
    "                label=\"{} {}\".format(outcome, trial_or_baseline), color=BASELINE_OUTCOME_TO_COLOR[outcome], \\\n",
    "                linestyle=TRIAL_OR_BASELINE_TO_STYLE[trial_or_baseline], linewidth=3)\n",
    "                \n",
    "                plt.fill_between(exploded_channel_map_and_all_trials_df[\"frequencies\"].iloc[0], \n",
    "                row[\"mean_power\"] - row[\"sem_power\"], row[\"mean_power\"] + row[\"sem_power\"], \\\n",
    "                alpha=0.2, color=BASELINE_OUTCOME_TO_COLOR[outcome])\n",
    "            \n",
    "            except Exception as e: \n",
    "                print(e)\n",
    "                continue\n",
    "    plt.legend()\n",
    "    plt.savefig(\"./proc/velocity_parsing/plot_region_line_trialoutcome_baselinetrial/\\\n",
    "    rce_higher_velocity_lfp_power_trialoutcome_baselinetrial_freq_{}_to_{}_region_{}.png\".format(low_freq, high_freq, region.split(\"_\")[-1]))"
   ]
  },
  {
   "cell_type": "code",
   "execution_count": null,
   "metadata": {},
   "outputs": [],
   "source": [
    "low_freq = 12\n",
    "high_freq = 30\n",
    "for region in grouped_all_trials_df[\"brain_region\"].unique():\n",
    "    region_df = grouped_all_trials_df[grouped_all_trials_df[\"brain_region\"] == region]\n",
    "    \n",
    "    fig, ax = plt.subplots()\n",
    "    plt.title(\"Z-Scored LFP Power in {} at 5cm/s to 10cm/s\".format(region.split(\"_\")[-1]))\n",
    "    plt.xlabel(\"Frequency\")\n",
    "    plt.ylabel(\"Power\")\n",
    "    plt.xlim(low_freq, high_freq)    \n",
    "    plt.yscale(\"log\")\n",
    "    plt.ylim(0.002, 0.015) \n",
    "    \n",
    "    for trial_or_baseline, outcome in itertools.product(region_df[\"trial_or_baseline\"].unique(), sorted(region_df[\"trial_outcome\"].unique())[::-1]):\n",
    "        outcome_df = region_df[(region_df[\"trial_or_baseline\"] == trial_or_baseline) & (region_df[\"trial_outcome\"] == outcome)]\n",
    "        for index, row in outcome_df.iterrows():\n",
    "            try:\n",
    "                ax = sns.lineplot(x=exploded_channel_map_and_all_trials_df[\"frequencies\"].iloc[0], y=row[\"mean_power\"], \\\n",
    "                label=\"{} {}\".format(outcome, trial_or_baseline), color=BASELINE_OUTCOME_TO_COLOR[outcome], \\\n",
    "                linestyle=TRIAL_OR_BASELINE_TO_STYLE[trial_or_baseline], linewidth=3)\n",
    "                \n",
    "                plt.fill_between(exploded_channel_map_and_all_trials_df[\"frequencies\"].iloc[0], \n",
    "                row[\"mean_power\"] - row[\"sem_power\"], row[\"mean_power\"] + row[\"sem_power\"], \\\n",
    "                alpha=0.2, color=BASELINE_OUTCOME_TO_COLOR[outcome])\n",
    "            \n",
    "            except Exception as e: \n",
    "                print(e)\n",
    "                continue\n",
    "    plt.legend()\n",
    "    plt.savefig(\"./proc/velocity_parsing/plot_region_line_trialoutcome_baselinetrial/\\\n",
    "    rce_higher_velocity_lfp_power_trialoutcome_baselinetrial_freq_{}_to_{}_region_{}.png\".format(low_freq, high_freq, region.split(\"_\")[-1]))"
   ]
  },
  {
   "cell_type": "code",
   "execution_count": null,
   "metadata": {
    "scrolled": true
   },
   "outputs": [],
   "source": [
    "low_freq = 30\n",
    "high_freq = 90\n",
    "for region in grouped_all_trials_df[\"brain_region\"].unique():\n",
    "    region_df = grouped_all_trials_df[grouped_all_trials_df[\"brain_region\"] == region]\n",
    "    \n",
    "    fig, ax = plt.subplots()\n",
    "    plt.title(\"Z-Scored LFP Power in {} at 5cm/s to 10cm/s\".format(region.split(\"_\")[-1]))\n",
    "    plt.xlabel(\"Frequency\")\n",
    "    plt.ylabel(\"Power\")\n",
    "    plt.xlim(low_freq, high_freq)    \n",
    "    plt.yscale(\"log\")\n",
    "    plt.ylim(0.0003, 0.008) \n",
    "    \n",
    "    for trial_or_baseline, outcome in itertools.product(region_df[\"trial_or_baseline\"].unique(), sorted(region_df[\"trial_outcome\"].unique())[::-1]):\n",
    "        outcome_df = region_df[(region_df[\"trial_or_baseline\"] == trial_or_baseline) & (region_df[\"trial_outcome\"] == outcome)]\n",
    "        for index, row in outcome_df.iterrows():\n",
    "            try:\n",
    "                ax = sns.lineplot(x=exploded_channel_map_and_all_trials_df[\"frequencies\"].iloc[0], y=row[\"mean_power\"], \\\n",
    "                label=\"{} {}\".format(outcome, trial_or_baseline), color=BASELINE_OUTCOME_TO_COLOR[outcome], \\\n",
    "                linestyle=TRIAL_OR_BASELINE_TO_STYLE[trial_or_baseline], linewidth=3)\n",
    "                \n",
    "                plt.fill_between(exploded_channel_map_and_all_trials_df[\"frequencies\"].iloc[0], \n",
    "                row[\"mean_power\"] - row[\"sem_power\"], row[\"mean_power\"] + row[\"sem_power\"], \\\n",
    "                alpha=0.2, color=BASELINE_OUTCOME_TO_COLOR[outcome])\n",
    "            \n",
    "            except Exception as e: \n",
    "                print(e)\n",
    "                continue\n",
    "    plt.legend()\n",
    "    plt.savefig(\"./proc/velocity_parsing/plot_region_line_trialoutcome_baselinetrial/\\\n",
    "    rce_higher_velocity_lfp_power_trialoutcome_baselinetrial_freq_{}_to_{}_region_{}.png\".format(low_freq, high_freq, region.split(\"_\")[-1]))"
   ]
  },
  {
   "cell_type": "code",
   "execution_count": null,
   "metadata": {},
   "outputs": [],
   "source": []
  },
  {
   "cell_type": "markdown",
   "metadata": {},
   "source": [
    "## Plotting all the competitiveness and lower velocities together"
   ]
  },
  {
   "cell_type": "code",
   "execution_count": null,
   "metadata": {},
   "outputs": [],
   "source": [
    "speed_filtered_all_trials_df = exploded_channel_map_and_all_trials_df[exploded_channel_map_and_all_trials_df[\"binned_current_thorax_velocity\"] == 0]"
   ]
  },
  {
   "cell_type": "code",
   "execution_count": null,
   "metadata": {},
   "outputs": [],
   "source": [
    "speed_filtered_all_trials_df.shape"
   ]
  },
  {
   "cell_type": "code",
   "execution_count": null,
   "metadata": {},
   "outputs": [],
   "source": [
    "grouped_all_trials_df = speed_filtered_all_trials_df.groupby(['brain_region', 'competition_closeness', 'trial_or_baseline']).agg({'power': lambda x: np.vstack(x.tolist())}).reset_index()"
   ]
  },
  {
   "cell_type": "code",
   "execution_count": null,
   "metadata": {},
   "outputs": [],
   "source": [
    "grouped_all_trials_df[\"mean_power\"] = grouped_all_trials_df[\"power\"].apply(lambda x: np.nanmean(np.vstack(x), axis=0))"
   ]
  },
  {
   "cell_type": "code",
   "execution_count": null,
   "metadata": {},
   "outputs": [],
   "source": [
    "grouped_all_trials_df[\"std_power\"] = grouped_all_trials_df[\"power\"].apply(lambda x: np.nanstd(np.vstack(x), axis=0))"
   ]
  },
  {
   "cell_type": "code",
   "execution_count": null,
   "metadata": {},
   "outputs": [],
   "source": [
    "grouped_all_trials_df[\"n_trials\"] = grouped_all_trials_df[\"power\"].apply(lambda x: np.sum(~np.isnan(x), axis=0))"
   ]
  },
  {
   "cell_type": "code",
   "execution_count": null,
   "metadata": {},
   "outputs": [],
   "source": [
    "grouped_all_trials_df[\"sem_power\"] = grouped_all_trials_df.apply(lambda x: x[\"std_power\"] / np.sqrt(x[\"n_trials\"]), axis=1)"
   ]
  },
  {
   "cell_type": "code",
   "execution_count": null,
   "metadata": {
    "scrolled": true
   },
   "outputs": [],
   "source": [
    "grouped_all_trials_df[\"competition_closeness\"].unique()"
   ]
  },
  {
   "cell_type": "markdown",
   "metadata": {},
   "source": [
    "# Drawing plots all together"
   ]
  },
  {
   "cell_type": "raw",
   "metadata": {},
   "source": [
    "brain_region_to_ylim = {'spike_interface_BLA': 0.15, 'spike_interface_LH': 0.3, 'spike_interface_MD': 0.3,\n",
    "       'spike_interface_mPFC': 0.2, 'spike_interface_vHPC': 0.3}"
   ]
  },
  {
   "cell_type": "code",
   "execution_count": null,
   "metadata": {},
   "outputs": [],
   "source": [
    "region_df"
   ]
  },
  {
   "cell_type": "code",
   "execution_count": null,
   "metadata": {},
   "outputs": [],
   "source": [
    "low_freq = 0\n",
    "high_freq = 12\n",
    "for region in grouped_all_trials_df[\"brain_region\"].unique():\n",
    "    region_df = grouped_all_trials_df[grouped_all_trials_df[\"brain_region\"] == region]\n",
    "    \n",
    "    fig, ax = plt.subplots()\n",
    "    plt.title(\"Z-Scored LFP Power in {} at 0 to 5cm/s\".format(region.split(\"_\")[-1]))\n",
    "    plt.xlabel(\"Frequency\")\n",
    "    plt.ylabel(\"Power\")\n",
    "    plt.xlim(low_freq, high_freq)  \n",
    "    plt.yscale(\"log\")\n",
    "    plt.ylim(0.01, 0.1) \n",
    "\n",
    "\n",
    "    for index, row in region_df.iterrows():\n",
    "        try:\n",
    "            ax = sns.lineplot(x=exploded_channel_map_and_all_trials_df[\"frequencies\"].iloc[0], y=row[\"mean_power\"], \\\n",
    "            label=\"{} {}\".format(row[\"competition_closeness\"], row[\"trial_or_baseline\"]), color=COMPETITIVE_OUTCOME_TO_COLOR[row[\"competition_closeness\"]], \\\n",
    "            linestyle=TRIAL_OR_BASELINE_TO_STYLE[row[\"trial_or_baseline\"]], linewidth=3)\n",
    "            \n",
    "            plt.fill_between(exploded_channel_map_and_all_trials_df[\"frequencies\"].iloc[0], \n",
    "            row[\"mean_power\"] - row[\"sem_power\"], row[\"mean_power\"] + row[\"sem_power\"], \\\n",
    "            alpha=0.1, color=COMPETITIVE_OUTCOME_TO_COLOR[row[\"competition_closeness\"]])\n",
    "        \n",
    "        except Exception as e: \n",
    "            print(e)\n",
    "            continue\n",
    "    \n",
    "    # Create a legend outside of the plot\n",
    "    legend = plt.legend(bbox_to_anchor=(1.05, 1), loc='upper left')\n",
    "    \n",
    "    # Save the plot along with the legend outside of it   \n",
    "    plt.savefig(\"./proc/velocity_parsing/plot_region_line_competitioncloseness_baselinetrial/\\\n",
    "    rce_lower_velocity_lfp_power_competitioncloseness_baselinetrial_freq_{}_to_{}_region_{}.png\".format(low_freq, high_freq, region.split(\"_\")[-1]), bbox_extra_artists=(legend,), bbox_inches='tight')\n",
    "\n",
    "    # Display the plot\n",
    "    plt.show()\n"
   ]
  },
  {
   "cell_type": "code",
   "execution_count": null,
   "metadata": {
    "scrolled": true
   },
   "outputs": [],
   "source": [
    "low_freq = 12\n",
    "high_freq = 30\n",
    "for region in grouped_all_trials_df[\"brain_region\"].unique():\n",
    "    region_df = grouped_all_trials_df[grouped_all_trials_df[\"brain_region\"] == region]\n",
    "    \n",
    "    fig, ax = plt.subplots()\n",
    "    plt.title(\"Z-Scored LFP Power in {} at 0 to 5cm/s\".format(region.split(\"_\")[-1]))\n",
    "    plt.xlabel(\"Frequency\")\n",
    "    plt.ylabel(\"Power\")\n",
    "    plt.xlim(low_freq, high_freq)    \n",
    "    plt.yscale(\"log\")\n",
    "    plt.ylim(0.002, 0.015) \n",
    "\n",
    "    for index, row in region_df.iterrows():\n",
    "        try:\n",
    "            ax = sns.lineplot(x=exploded_channel_map_and_all_trials_df[\"frequencies\"].iloc[0], y=row[\"mean_power\"], \\\n",
    "            label=\"{} {}\".format(row[\"competition_closeness\"], row[\"trial_or_baseline\"]), color=COMPETITIVE_OUTCOME_TO_COLOR[row[\"competition_closeness\"]], \\\n",
    "            linestyle=TRIAL_OR_BASELINE_TO_STYLE[row[\"trial_or_baseline\"]], linewidth=3)\n",
    "            \n",
    "            plt.fill_between(exploded_channel_map_and_all_trials_df[\"frequencies\"].iloc[0], \n",
    "            row[\"mean_power\"] - row[\"sem_power\"], row[\"mean_power\"] + row[\"sem_power\"], \\\n",
    "            alpha=0.1, color=COMPETITIVE_OUTCOME_TO_COLOR[row[\"competition_closeness\"]])\n",
    "        \n",
    "        except Exception as e: \n",
    "            print(e)\n",
    "            continue\n",
    "            \n",
    "    # Create a legend outside of the plot\n",
    "    legend = plt.legend(bbox_to_anchor=(1.05, 1), loc='upper left')\n",
    "    \n",
    "    # Save the plot along with the legend outside of it   \n",
    "    plt.savefig(\"./proc/velocity_parsing/plot_region_line_competitioncloseness_baselinetrial/\\\n",
    "    rce_lower_velocity_lfp_power_competitioncloseness_baselinetrial_freq_{}_to_{}_region_{}.png\".format(low_freq, high_freq, region.split(\"_\")[-1]), bbox_extra_artists=(legend,), bbox_inches='tight')\n",
    "\n",
    "    # Display the plot\n",
    "    plt.show()"
   ]
  },
  {
   "cell_type": "code",
   "execution_count": null,
   "metadata": {},
   "outputs": [],
   "source": [
    "low_freq = 30\n",
    "high_freq = 90\n",
    "for region in grouped_all_trials_df[\"brain_region\"].unique():\n",
    "    region_df = grouped_all_trials_df[grouped_all_trials_df[\"brain_region\"] == region]\n",
    "    \n",
    "    fig, ax = plt.subplots()\n",
    "    plt.title(\"Z-Scored LFP Power in {} at 0 to 5cm/s\".format(region.split(\"_\")[-1]))\n",
    "    plt.xlabel(\"Frequency\")\n",
    "    plt.ylabel(\"Power\")\n",
    "    plt.xlim(low_freq, high_freq)    \n",
    "    plt.yscale(\"log\")\n",
    "    plt.ylim(0.0003, 0.005) \n",
    "\n",
    "    for index, row in region_df.iterrows():\n",
    "        try:\n",
    "            ax = sns.lineplot(x=exploded_channel_map_and_all_trials_df[\"frequencies\"].iloc[0], y=row[\"mean_power\"], \\\n",
    "            label=\"{} {}\".format(row[\"competition_closeness\"], row[\"trial_or_baseline\"]), color=COMPETITIVE_OUTCOME_TO_COLOR[row[\"competition_closeness\"]], \\\n",
    "            linestyle=TRIAL_OR_BASELINE_TO_STYLE[row[\"trial_or_baseline\"]], linewidth=3)\n",
    "            \n",
    "            plt.fill_between(exploded_channel_map_and_all_trials_df[\"frequencies\"].iloc[0], \n",
    "            row[\"mean_power\"] - row[\"sem_power\"], row[\"mean_power\"] + row[\"sem_power\"], \\\n",
    "            alpha=0.1, color=COMPETITIVE_OUTCOME_TO_COLOR[row[\"competition_closeness\"]])\n",
    "        \n",
    "        except Exception as e: \n",
    "            print(e)\n",
    "            continue\n",
    "    # Create a legend outside of the plot\n",
    "    legend = plt.legend(bbox_to_anchor=(1.05, 1), loc='upper left')\n",
    "    \n",
    "    # Save the plot along with the legend outside of it   \n",
    "    plt.savefig(\"./proc/velocity_parsing/plot_region_line_competitioncloseness_baselinetrial/\\\n",
    "    rce_lower_velocity_lfp_power_competitioncloseness_baselinetrial_freq_{}_to_{}_region_{}.png\".format(low_freq, high_freq, region.split(\"_\")[-1]), bbox_extra_artists=(legend,), bbox_inches='tight')\n",
    "\n",
    "    # Display the plot\n",
    "    plt.show()"
   ]
  },
  {
   "cell_type": "markdown",
   "metadata": {},
   "source": [
    "## Plotting all the higher velocities together"
   ]
  },
  {
   "cell_type": "code",
   "execution_count": null,
   "metadata": {},
   "outputs": [],
   "source": [
    "speed_filtered_all_trials_df = exploded_channel_map_and_all_trials_df[exploded_channel_map_and_all_trials_df[\"binned_current_thorax_velocity\"] == 1]"
   ]
  },
  {
   "cell_type": "code",
   "execution_count": null,
   "metadata": {},
   "outputs": [],
   "source": [
    "grouped_all_trials_df = speed_filtered_all_trials_df.groupby(['brain_region', 'competition_closeness', 'trial_or_baseline']).agg({'power': lambda x: np.vstack(x.tolist())}).reset_index()"
   ]
  },
  {
   "cell_type": "code",
   "execution_count": null,
   "metadata": {},
   "outputs": [],
   "source": [
    "grouped_all_trials_df[\"mean_power\"] = grouped_all_trials_df[\"power\"].apply(lambda x: np.nanmean(np.vstack(x), axis=0))"
   ]
  },
  {
   "cell_type": "code",
   "execution_count": null,
   "metadata": {},
   "outputs": [],
   "source": [
    "grouped_all_trials_df[\"std_power\"] = grouped_all_trials_df[\"power\"].apply(lambda x: np.nanstd(np.vstack(x), axis=0))"
   ]
  },
  {
   "cell_type": "code",
   "execution_count": null,
   "metadata": {},
   "outputs": [],
   "source": [
    "grouped_all_trials_df[\"n_trials\"] = grouped_all_trials_df[\"power\"].apply(lambda x: np.sum(~np.isnan(x), axis=0))"
   ]
  },
  {
   "cell_type": "code",
   "execution_count": null,
   "metadata": {},
   "outputs": [],
   "source": [
    "grouped_all_trials_df[\"sem_power\"] = grouped_all_trials_df.apply(lambda x: x[\"std_power\"] / np.sqrt(x[\"n_trials\"]), axis=1)"
   ]
  },
  {
   "cell_type": "markdown",
   "metadata": {},
   "source": [
    "# Drawing plots all together"
   ]
  },
  {
   "cell_type": "raw",
   "metadata": {},
   "source": [
    "brain_region_to_ylim = {'spike_interface_BLA': 0.15, 'spike_interface_LH': 0.3, 'spike_interface_MD': 0.3,\n",
    "       'spike_interface_mPFC': 0.2, 'spike_interface_vHPC': 0.3}"
   ]
  },
  {
   "cell_type": "code",
   "execution_count": null,
   "metadata": {},
   "outputs": [],
   "source": [
    "low_freq = 0\n",
    "high_freq = 12\n",
    "for region in grouped_all_trials_df[\"brain_region\"].unique():\n",
    "    region_df = grouped_all_trials_df[grouped_all_trials_df[\"brain_region\"] == region]\n",
    "    \n",
    "    fig, ax = plt.subplots()\n",
    "    plt.title(\"Z-Scored LFP Power in {} at 5cm/s to 10cm/s\".format(region.split(\"_\")[-1]))\n",
    "    plt.xlabel(\"Frequency\")\n",
    "    plt.ylabel(\"Power\")\n",
    "    plt.xlim(low_freq, high_freq)    \n",
    "    plt.yscale(\"log\")\n",
    "    plt.ylim(0.01, 0.25) \n",
    "\n",
    "    for index, row in region_df.iterrows():\n",
    "        try:\n",
    "            ax = sns.lineplot(x=exploded_channel_map_and_all_trials_df[\"frequencies\"].iloc[0], y=row[\"mean_power\"], \\\n",
    "            label=\"{} {}\".format(row[\"competition_closeness\"], row[\"trial_or_baseline\"]), color=COMPETITIVE_OUTCOME_TO_COLOR[row[\"competition_closeness\"]], \\\n",
    "            linestyle=TRIAL_OR_BASELINE_TO_STYLE[row[\"trial_or_baseline\"]], linewidth=3)\n",
    "            \n",
    "            plt.fill_between(exploded_channel_map_and_all_trials_df[\"frequencies\"].iloc[0], \n",
    "            row[\"mean_power\"] - row[\"sem_power\"], row[\"mean_power\"] + row[\"sem_power\"], \\\n",
    "            alpha=0.1, color=COMPETITIVE_OUTCOME_TO_COLOR[row[\"competition_closeness\"]])\n",
    "        \n",
    "        except Exception as e: \n",
    "            print(e)\n",
    "            continue\n",
    "    # Create a legend outside of the plot\n",
    "    legend = plt.legend(bbox_to_anchor=(1.05, 1), loc='upper left')\n",
    "    \n",
    "    # Save the plot along with the legend outside of it   \n",
    "    plt.savefig(\"./proc/velocity_parsing/plot_region_line_competitioncloseness_baselinetrial/\\\n",
    "    rce_higher_velocity_lfp_power_competitioncloseness_baselinetrial_freq_{}_to_{}_region_{}.png\".format(low_freq, high_freq, region.split(\"_\")[-1]), bbox_extra_artists=(legend,), bbox_inches='tight')\n",
    "\n",
    "    # Display the plot\n",
    "    plt.show()"
   ]
  },
  {
   "cell_type": "code",
   "execution_count": null,
   "metadata": {},
   "outputs": [],
   "source": [
    "low_freq = 12\n",
    "high_freq = 30\n",
    "for region in grouped_all_trials_df[\"brain_region\"].unique():\n",
    "    region_df = grouped_all_trials_df[grouped_all_trials_df[\"brain_region\"] == region]\n",
    "    \n",
    "    fig, ax = plt.subplots()\n",
    "    plt.title(\"Z-Scored LFP Power in {} at 5cm/s to 10cm/s\".format(region.split(\"_\")[-1]))\n",
    "    plt.xlabel(\"Frequency\")\n",
    "    plt.ylabel(\"Power\")\n",
    "    plt.xlim(low_freq, high_freq)    \n",
    "    plt.yscale(\"log\")\n",
    "    plt.ylim(0.002, 0.015) \n",
    "\n",
    "    \n",
    "    for index, row in region_df.iterrows():\n",
    "        try:\n",
    "            ax = sns.lineplot(x=exploded_channel_map_and_all_trials_df[\"frequencies\"].iloc[0], y=row[\"mean_power\"], \\\n",
    "            label=\"{} {}\".format(row[\"competition_closeness\"], row[\"trial_or_baseline\"]), color=COMPETITIVE_OUTCOME_TO_COLOR[row[\"competition_closeness\"]], \\\n",
    "            linestyle=TRIAL_OR_BASELINE_TO_STYLE[row[\"trial_or_baseline\"]], linewidth=3)\n",
    "            \n",
    "            plt.fill_between(exploded_channel_map_and_all_trials_df[\"frequencies\"].iloc[0], \n",
    "            row[\"mean_power\"] - row[\"sem_power\"], row[\"mean_power\"] + row[\"sem_power\"], \\\n",
    "            alpha=0.1, color=COMPETITIVE_OUTCOME_TO_COLOR[row[\"competition_closeness\"]])\n",
    "        \n",
    "        except Exception as e: \n",
    "            print(e)\n",
    "            continue\n",
    "    # Create a legend outside of the plot\n",
    "    legend = plt.legend(bbox_to_anchor=(1.05, 1), loc='upper left')\n",
    "    \n",
    "    # Save the plot along with the legend outside of it   \n",
    "    plt.savefig(\"./proc/velocity_parsing/plot_region_line_competitioncloseness_baselinetrial/\\\n",
    "    rce_higher_velocity_lfp_power_competitioncloseness_baselinetrial_freq_{}_to_{}_region_{}.png\".format(low_freq, high_freq, region.split(\"_\")[-1]), bbox_extra_artists=(legend,), bbox_inches='tight')\n",
    "\n",
    "    # Display the plot\n",
    "    plt.show()"
   ]
  },
  {
   "cell_type": "code",
   "execution_count": null,
   "metadata": {},
   "outputs": [],
   "source": [
    "low_freq = 12\n",
    "high_freq = 30\n",
    "for region in grouped_all_trials_df[\"brain_region\"].unique():\n",
    "    region_df = grouped_all_trials_df[grouped_all_trials_df[\"brain_region\"] == region]\n",
    "    \n",
    "    fig, ax = plt.subplots()\n",
    "    plt.title(\"Z-Scored LFP Power in {} at 5cm/s to 10cm/s\".format(region.split(\"_\")[-1]))\n",
    "    plt.xlabel(\"Frequency\")\n",
    "    plt.ylabel(\"Power\")\n",
    "    plt.xlim(low_freq, high_freq)    \n",
    "    plt.yscale(\"log\")\n",
    "    plt.ylim(0.002, 0.015) \n",
    "    \n",
    "    for index, row in region_df.iterrows():\n",
    "        try:\n",
    "            ax = sns.lineplot(x=exploded_channel_map_and_all_trials_df[\"frequencies\"].iloc[0], y=row[\"mean_power\"], \\\n",
    "            label=\"{} {}\".format(row[\"competition_closeness\"], row[\"trial_or_baseline\"]), color=COMPETITIVE_OUTCOME_TO_COLOR[row[\"competition_closeness\"]], \\\n",
    "            linestyle=TRIAL_OR_BASELINE_TO_STYLE[row[\"trial_or_baseline\"]], linewidth=3)\n",
    "            \n",
    "            plt.fill_between(exploded_channel_map_and_all_trials_df[\"frequencies\"].iloc[0], \n",
    "            row[\"mean_power\"] - row[\"sem_power\"], row[\"mean_power\"] + row[\"sem_power\"], \\\n",
    "            alpha=0.1, color=COMPETITIVE_OUTCOME_TO_COLOR[row[\"competition_closeness\"]])\n",
    "        \n",
    "        except Exception as e: \n",
    "            print(e)\n",
    "            continue\n",
    "    # Create a legend outside of the plot\n",
    "    legend = plt.legend(bbox_to_anchor=(1.05, 1), loc='upper left')\n",
    "    \n",
    "    # Save the plot along with the legend outside of it   \n",
    "    plt.savefig(\"./proc/velocity_parsing/plot_region_line_competitioncloseness_baselinetrial/\\\n",
    "    rce_higher_velocity_lfp_power_competitioncloseness_baselinetrial_freq_{}_to_{}_region_{}.png\".format(low_freq, high_freq, region.split(\"_\")[-1]), bbox_extra_artists=(legend,), bbox_inches='tight')\n",
    "\n",
    "    # Display the plot\n",
    "    plt.show()"
   ]
  },
  {
   "cell_type": "code",
   "execution_count": null,
   "metadata": {
    "scrolled": true
   },
   "outputs": [],
   "source": [
    "low_freq = 30\n",
    "high_freq = 90\n",
    "for region in grouped_all_trials_df[\"brain_region\"].unique():\n",
    "    region_df = grouped_all_trials_df[grouped_all_trials_df[\"brain_region\"] == region]\n",
    "    \n",
    "    fig, ax = plt.subplots()\n",
    "    plt.title(\"Z-Scored LFP Power in {} at 5cm/s to 10cm/s\".format(region.split(\"_\")[-1]))\n",
    "    plt.xlabel(\"Frequency\")\n",
    "    plt.ylabel(\"Power\")\n",
    "    plt.xlim(low_freq, high_freq)    \n",
    "    plt.yscale(\"log\")\n",
    "    plt.ylim(0.0003, 0.005) \n",
    "    \n",
    "    for index, row in region_df.iterrows():\n",
    "        try:\n",
    "            ax = sns.lineplot(x=exploded_channel_map_and_all_trials_df[\"frequencies\"].iloc[0], y=row[\"mean_power\"], \\\n",
    "            label=\"{} {}\".format(row[\"competition_closeness\"], row[\"trial_or_baseline\"]), color=COMPETITIVE_OUTCOME_TO_COLOR[row[\"competition_closeness\"]], \\\n",
    "            linestyle=TRIAL_OR_BASELINE_TO_STYLE[row[\"trial_or_baseline\"]], linewidth=3)\n",
    "            \n",
    "            plt.fill_between(exploded_channel_map_and_all_trials_df[\"frequencies\"].iloc[0], \n",
    "            row[\"mean_power\"] - row[\"sem_power\"], row[\"mean_power\"] + row[\"sem_power\"], \\\n",
    "            alpha=0.1, color=COMPETITIVE_OUTCOME_TO_COLOR[row[\"competition_closeness\"]])\n",
    "        \n",
    "        except Exception as e: \n",
    "            print(e)\n",
    "            continue\n",
    "            \n",
    "    # Create a legend outside of the plot\n",
    "    legend = plt.legend(bbox_to_anchor=(1.05, 1), loc='upper left')\n",
    "    \n",
    "    # Save the plot along with the legend outside of it   \n",
    "    plt.savefig(\"./proc/velocity_parsing/plot_region_line_competitioncloseness_baselinetrial/\\\n",
    "    rce_higher_velocity_lfp_power_competitioncloseness_baselinetrial_freq_{}_to_{}_region_{}.png\".format(low_freq, high_freq, region.split(\"_\")[-1]), bbox_extra_artists=(legend,), bbox_inches='tight')\n",
    "\n",
    "    # Display the plot\n",
    "    plt.show()"
   ]
  },
  {
   "cell_type": "code",
   "execution_count": null,
   "metadata": {},
   "outputs": [],
   "source": [
    "exploded_channel_map_and_all_trials_df"
   ]
  },
  {
   "cell_type": "code",
   "execution_count": null,
   "metadata": {},
   "outputs": [],
   "source": []
  },
  {
   "cell_type": "code",
   "execution_count": null,
   "metadata": {},
   "outputs": [],
   "source": [
    "exploded_channel_map_and_all_trials_df.columns"
   ]
  },
  {
   "cell_type": "code",
   "execution_count": null,
   "metadata": {},
   "outputs": [],
   "source": [
    "exploded_channel_map_and_all_trials_df[\"current_thorax_velocity\"]"
   ]
  },
  {
   "cell_type": "code",
   "execution_count": null,
   "metadata": {},
   "outputs": [],
   "source": [
    "melted_channel_map_and_all_trials_df[\"subject_id\"].unique()"
   ]
  },
  {
   "cell_type": "markdown",
   "metadata": {},
   "source": [
    "# Drawing Spectogram"
   ]
  },
  {
   "cell_type": "code",
   "execution_count": null,
   "metadata": {},
   "outputs": [],
   "source": [
    "exploded_channel_map_and_all_trials_df[\"power\"].iloc[0].shape"
   ]
  },
  {
   "cell_type": "code",
   "execution_count": null,
   "metadata": {},
   "outputs": [],
   "source": [
    "exploded_channel_map_and_all_trials_df[\"brain_region\"]"
   ]
  },
  {
   "cell_type": "code",
   "execution_count": null,
   "metadata": {},
   "outputs": [],
   "source": [
    "exploded_channel_map_and_all_trials_df[\"\"]"
   ]
  },
  {
   "cell_type": "code",
   "execution_count": null,
   "metadata": {},
   "outputs": [],
   "source": [
    "grouped_all_trials_df"
   ]
  },
  {
   "cell_type": "code",
   "execution_count": null,
   "metadata": {},
   "outputs": [],
   "source": [
    "raise ValueError()"
   ]
  },
  {
   "cell_type": "code",
   "execution_count": null,
   "metadata": {},
   "outputs": [],
   "source": [
    "exploded_channel_map_and_all_trials_df"
   ]
  },
  {
   "cell_type": "code",
   "execution_count": null,
   "metadata": {},
   "outputs": [],
   "source": [
    "exploded_channel_map_and_all_trials_df[\"recording_file\"].unique()"
   ]
  },
  {
   "cell_type": "code",
   "execution_count": null,
   "metadata": {},
   "outputs": [],
   "source": [
    "exploded_channel_map_and_all_trials_df[\"subject_id\"].unique()"
   ]
  },
  {
   "cell_type": "code",
   "execution_count": null,
   "metadata": {},
   "outputs": [],
   "source": []
  }
 ],
 "metadata": {
  "deepnote": {},
  "deepnote_execution_queue": [],
  "deepnote_notebook_id": "cf8fe3695d074ee7887fdf6459cbf5ce",
  "kernelspec": {
   "display_name": "Python 3 (ipykernel)",
   "language": "python",
   "name": "python3"
  },
  "language_info": {
   "codemirror_mode": {
    "name": "ipython",
    "version": 3
   },
   "file_extension": ".py",
   "mimetype": "text/x-python",
   "name": "python",
   "nbconvert_exporter": "python",
   "pygments_lexer": "ipython3",
   "version": "3.9.16"
  }
 },
 "nbformat": 4,
 "nbformat_minor": 4
}
