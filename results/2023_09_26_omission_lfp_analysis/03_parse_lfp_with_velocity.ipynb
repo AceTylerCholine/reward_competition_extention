{
 "cells": [
  {
   "cell_type": "markdown",
   "metadata": {
    "cell_id": "c3a02adc9e884466bc8c79db549cc3d2",
    "deepnote_cell_type": "text-cell-h1",
    "formattedRanges": [
     {
      "fromCodePoint": 0,
      "marks": {
       "bold": true,
       "underline": true
      },
      "toCodePoint": 17,
      "type": "marks"
     }
    ]
   },
   "source": [
    "# Omission LFP Analysis"
   ]
  },
  {
   "cell_type": "markdown",
   "metadata": {
    "cell_id": "4546bee655b14a5dbf393161f1228e60",
    "deepnote_cell_type": "text-cell-p",
    "formattedRanges": []
   },
   "source": [
    "Brief 1-2 sentence description of notebook."
   ]
  },
  {
   "cell_type": "code",
   "execution_count": 1,
   "metadata": {},
   "outputs": [],
   "source": [
    "import warnings\n",
    "warnings.filterwarnings('ignore')"
   ]
  },
  {
   "cell_type": "code",
   "execution_count": 2,
   "metadata": {},
   "outputs": [],
   "source": [
    "import os\n",
    "import glob\n",
    "from collections import defaultdict\n",
    "import re"
   ]
  },
  {
   "cell_type": "code",
   "execution_count": 3,
   "metadata": {
    "cell_id": "03b495cefa6a4798a44c7f2e4c6a3ea7",
    "deepnote_cell_type": "code",
    "deepnote_to_be_reexecuted": false,
    "execution_millis": 21,
    "execution_start": 1691424003626,
    "source_hash": null
   },
   "outputs": [],
   "source": [
    "# Imports of all used packages and libraries\n",
    "import numpy as np\n",
    "import pandas as pd\n",
    "import matplotlib.pyplot as plt\n",
    "import matplotlib.cm as cm\n",
    "import seaborn as sns\n",
    "from scipy import stats\n",
    "import itertools"
   ]
  },
  {
   "cell_type": "code",
   "execution_count": 4,
   "metadata": {},
   "outputs": [],
   "source": [
    "import spikeinterface.extractors as se\n",
    "import spikeinterface.preprocessing as sp\n",
    "from spectral_connectivity import Multitaper, Connectivity"
   ]
  },
  {
   "cell_type": "markdown",
   "metadata": {
    "cell_id": "d290bac2c17940bfbc0f9296beaf70e5",
    "deepnote_cell_type": "text-cell-h2",
    "formattedRanges": []
   },
   "source": [
    "## Inputs & Data"
   ]
  },
  {
   "cell_type": "markdown",
   "metadata": {
    "cell_id": "e528ce19c608425292151930d380f49f",
    "deepnote_cell_type": "text-cell-p",
    "formattedRanges": []
   },
   "source": [
    "Explanation of each input and where it comes from."
   ]
  },
  {
   "cell_type": "code",
   "execution_count": 5,
   "metadata": {},
   "outputs": [],
   "source": [
    "# Inputs and Required data loading\n",
    "# input varaible names are in all caps snake case\n",
    "# Whenever an input changes or is used for processing \n",
    "# the vairables are all lower in snake case"
   ]
  },
  {
   "cell_type": "code",
   "execution_count": 6,
   "metadata": {},
   "outputs": [],
   "source": [
    "BBOX_TO_ANCHOR=(1.5, 0.9)\n",
    "LOC='upper right'"
   ]
  },
  {
   "cell_type": "code",
   "execution_count": null,
   "metadata": {},
   "outputs": [],
   "source": []
  },
  {
   "cell_type": "code",
   "execution_count": 7,
   "metadata": {},
   "outputs": [],
   "source": [
    "# variables for LFP extraction\n",
    "FREQ_MIN=0.5\n",
    "FREQ_MAX=300\n",
    "FREQ=60\n",
    "RESAMPLE_RATE=1000\n",
    "TRIAL_DURATION=10"
   ]
  },
  {
   "cell_type": "code",
   "execution_count": 8,
   "metadata": {},
   "outputs": [],
   "source": [
    "INPUT_VARIABLE = 1\n",
    "\n",
    "TIME_HALFBANDWIDTH_PRODUCT = 2\n",
    "TIME_WINDOW_DURATION = 3\n",
    "TIME_WINDOW_STEP = 1.5 \n",
    "\n",
    "TRIAL_TIME_STAMP_DURATION = 1000*10"
   ]
  },
  {
   "cell_type": "code",
   "execution_count": 9,
   "metadata": {},
   "outputs": [],
   "source": [
    "BIN_TO_COLOR = {0: {\"baseline\": \"lightblue\", \"trial\": \"blue\"}, 1: {\"baseline\": \"lightgreen\", \"trial\": \"green\"}, 2: {\"baseline\": \"lightcoral\", \"trial\": \"red\"}}\n",
    "TRIAL_OR_BASELINE_TO_STYLE = {'baseline': \"--\", \"trial\": \"-\"}\n",
    "BIN_TO_VELOCITY = {0: \"0 to 2.5cm/s\", 1: \"2.5 to 5cm/s\", 2: \"5cm/s to 10cm/s\"}"
   ]
  },
  {
   "cell_type": "code",
   "execution_count": 10,
   "metadata": {},
   "outputs": [],
   "source": [
    "BIN_TO_COLOR = {0: {\"baseline\": \"lightblue\", \"trial\": \"blue\"}, 1: {\"baseline\": \"lightgreen\", \"trial\": \"green\"}, 2: {\"baseline\": \"lightcoral\", \"trial\": \"red\"}}\n",
    "TRIAL_OR_BASELINE_TO_STYLE = {'baseline': \"--\", \"trial\": \"-\"}\n",
    "BIN_TO_VELOCITY = {0: \"0 to 5cm/s\", 1: \"5cm/s to 10cm/s\", 2: \"10cm/s+\"}"
   ]
  },
  {
   "cell_type": "code",
   "execution_count": 11,
   "metadata": {},
   "outputs": [],
   "source": [
    "NUM_LINES = 3"
   ]
  },
  {
   "cell_type": "code",
   "execution_count": 12,
   "metadata": {},
   "outputs": [],
   "source": [
    "# Generate colors from the \"Blues\" colormap\n",
    "LOSING_COLORS = cm.Oranges(np.linspace(0.5, 1, NUM_LINES))\n",
    "# Generate colors from the \"Blues\" colormap\n",
    "WINNING_COLORS = cm.Blues(np.linspace(0.5, 1, NUM_LINES))\n",
    "# Generate colors from the \"Blues\" colormap\n",
    "REWARDED_COLORS = cm.Greens(np.linspace(0.5, 1, NUM_LINES))\n",
    "# Generate colors from the \"Blues\" colormap\n",
    "OMISSION_COLORS = cm.Reds(np.linspace(0.5, 1, NUM_LINES))"
   ]
  },
  {
   "cell_type": "code",
   "execution_count": 13,
   "metadata": {},
   "outputs": [],
   "source": [
    "BASELINE_OUTCOME_TO_COLOR = {'lose': \"orange\",\n",
    " 'lose_baseline': LOSING_COLORS[0],\n",
    " 'omission': \"red\",\n",
    " 'omission_baseline': \"hotpink\",\n",
    " 'rewarded': \"green\",\n",
    " 'rewarded_baseline': REWARDED_COLORS[0],\n",
    " 'win': \"blue\",\n",
    " 'win_baseline': WINNING_COLORS[0]}"
   ]
  },
  {
   "cell_type": "code",
   "execution_count": 14,
   "metadata": {},
   "outputs": [],
   "source": [
    "COMPETITIVE_OUTCOME_TO_COLOR = {'lose_comp': \"orange\", \n",
    "'lose_non_comp': \"yellow\",\n",
    "'omission': \"red\",\n",
    "'rewarded': \"green\",\n",
    "'win_comp': \"blue\", \n",
    "'win_non_comp': WINNING_COLORS[0]}"
   ]
  },
  {
   "cell_type": "code",
   "execution_count": 15,
   "metadata": {},
   "outputs": [],
   "source": [
    "TRIAL_OR_BASELINE_TO_STYLE = {'baseline': \"--\", \"trial\": \"-\"}"
   ]
  },
  {
   "cell_type": "code",
   "execution_count": 16,
   "metadata": {
    "cell_id": "6cf83a5811054461a718a71673d09aab",
    "deepnote_cell_type": "code",
    "deepnote_to_be_reexecuted": false,
    "execution_millis": 373,
    "execution_start": 1691424003628,
    "source_hash": null
   },
   "outputs": [],
   "source": [
    "TONE_TIMESTAMP_DF = pd.read_pickle(\"./proc/trial_SLEAP_and_metadata.pkl\")\n",
    "OUTPUT_DIR = r\"./proc\" # where data is saved should always be shown in the inputs\n"
   ]
  },
  {
   "cell_type": "code",
   "execution_count": 17,
   "metadata": {},
   "outputs": [],
   "source": [
    "FULL_LFP_TRACES = pd.read_pickle(\"./proc/full_baseline_and_trial_lfp_traces.pkl\")"
   ]
  },
  {
   "cell_type": "code",
   "execution_count": 35,
   "metadata": {},
   "outputs": [],
   "source": [
    "SLEAP_DF = pd.read_pickle(\"./proc/trial_SLEAP_and_metadata.pkl\")"
   ]
  },
  {
   "cell_type": "code",
   "execution_count": 34,
   "metadata": {
    "scrolled": true
   },
   "outputs": [
    {
     "data": {
      "text/plain": [
       "0      {'1.1': 0, '1.2': 1}\n",
       "1      {'1.1': 0, '1.2': 1}\n",
       "2      {'1.1': 0, '1.2': 1}\n",
       "3      {'1.1': 0, '1.2': 1}\n",
       "4      {'1.1': 0, '1.2': 1}\n",
       "               ...         \n",
       "235              {'1.4': 0}\n",
       "236              {'1.4': 0}\n",
       "237              {'1.4': 0}\n",
       "238              {'1.4': 0}\n",
       "239              {'1.4': 0}\n",
       "Name: subject_to_index, Length: 240, dtype: object"
      ]
     },
     "execution_count": 34,
     "metadata": {},
     "output_type": "execute_result"
    }
   ],
   "source": [
    "SLEAP_DF[\"subject_to_index\"]"
   ]
  },
  {
   "cell_type": "code",
   "execution_count": 37,
   "metadata": {},
   "outputs": [],
   "source": [
    "FULL_LFP_TRACES = FULL_LFP_TRACES.drop_duplicates(subset=[\"recording_file\", \"time\"], keep=\"first\")"
   ]
  },
  {
   "cell_type": "code",
   "execution_count": 38,
   "metadata": {},
   "outputs": [],
   "source": [
    "MERGED_SLEAP_LFP_DF = pd.merge(left=FULL_LFP_TRACES, right=SLEAP_DF, left_on=[\"recording_file\", \"time\", \"current_subject\"], right_on=[\"recording_file\", \"time\", \"current_subject\"], how=\"inner\")"
   ]
  },
  {
   "cell_type": "code",
   "execution_count": 22,
   "metadata": {},
   "outputs": [
    {
     "ename": "ValueError",
     "evalue": "",
     "output_type": "error",
     "traceback": [
      "\u001b[0;31m---------------------------------------------------------------------------\u001b[0m",
      "\u001b[0;31mValueError\u001b[0m                                Traceback (most recent call last)",
      "Cell \u001b[0;32mIn[22], line 1\u001b[0m\n\u001b[0;32m----> 1\u001b[0m \u001b[38;5;28;01mraise\u001b[39;00m \u001b[38;5;167;01mValueError\u001b[39;00m()\n",
      "\u001b[0;31mValueError\u001b[0m: "
     ]
    }
   ],
   "source": [
    "raise ValueError()"
   ]
  },
  {
   "cell_type": "markdown",
   "metadata": {
    "cell_id": "e3ee4891d43a4ac287413afc552ca289",
    "deepnote_cell_type": "text-cell-h2",
    "formattedRanges": []
   },
   "source": [
    "## Outputs"
   ]
  },
  {
   "cell_type": "markdown",
   "metadata": {
    "cell_id": "9ccbf6cc70fd4d379fa29317f733771f",
    "deepnote_cell_type": "text-cell-p",
    "formattedRanges": []
   },
   "source": [
    "Describe each output that the notebook creates. "
   ]
  },
  {
   "cell_type": "markdown",
   "metadata": {
    "cell_id": "fc8e8920a6944918a15fac575cdf6e78",
    "deepnote_cell_type": "text-cell-bullet",
    "formattedRanges": []
   },
   "source": [
    "- Is it a plot or is it data?"
   ]
  },
  {
   "cell_type": "markdown",
   "metadata": {
    "cell_id": "1e639d4776a84aa9ac8ded2e14fa57db",
    "deepnote_cell_type": "text-cell-bullet",
    "formattedRanges": []
   },
   "source": [
    "- How valuable is the output and why is it valuable or useful?"
   ]
  },
  {
   "cell_type": "markdown",
   "metadata": {},
   "source": [
    "## Functions"
   ]
  },
  {
   "cell_type": "markdown",
   "metadata": {
    "jp-MarkdownHeadingCollapsed": true
   },
   "source": [
    "- Ideally functions are defined here first and then data is processed using the functions\n",
    "    - function names are short and in snake case all lowercase\n",
    "    - a function name should be unique but does not have to describe the function\n",
    "    - doc strings describe functions not function names"
   ]
  },
  {
   "cell_type": "markdown",
   "metadata": {
    "cell_id": "8999d19b6b7d4d63bc90f0b0bd9ab085",
    "deepnote_cell_type": "text-cell-h2",
    "formattedRanges": []
   },
   "source": [
    "## Processing"
   ]
  },
  {
   "cell_type": "markdown",
   "metadata": {
    "cell_id": "9b36cdf08567463082b005cb0dec684b",
    "deepnote_cell_type": "text-cell-p",
    "formattedRanges": []
   },
   "source": [
    "Describe what is done to the data here and how inputs are manipulated to generate outputs. "
   ]
  },
  {
   "cell_type": "code",
   "execution_count": null,
   "metadata": {
    "cell_id": "89aaba237c644628b1b37604b75e7cb1",
    "deepnote_cell_type": "code"
   },
   "outputs": [],
   "source": [
    "# As much code and as many cells as required\n",
    "# includes EDA and playing with data\n",
    "# GO HAM!"
   ]
  },
  {
   "cell_type": "code",
   "execution_count": null,
   "metadata": {},
   "outputs": [],
   "source": [
    "raise ValueError()"
   ]
  },
  {
   "cell_type": "code",
   "execution_count": null,
   "metadata": {},
   "outputs": [],
   "source": []
  },
  {
   "cell_type": "markdown",
   "metadata": {},
   "source": [
    "### Extracting the LFP"
   ]
  },
  {
   "cell_type": "raw",
   "metadata": {},
   "source": [
    "recording_name_to_all_ch_lfp = {}\n",
    "# Going through all the recording sessions \n",
    "for session_dir in ALL_SESSION_DIR:\n",
    "    # Going through all the recordings in each session\n",
    "    for recording_path in glob.glob(os.path.join(session_dir, \"*.rec\")):\n",
    "        try:\n",
    "            recording_basename = os.path.splitext(os.path.basename(recording_path))[0]\n",
    "            # checking to see if the recording has an ECU component\n",
    "            # if it doesn't, then the next one be extracted\n",
    "            current_recording = se.read_spikegadgets(recording_path, stream_id=\"ECU\")\n",
    "            current_recording = se.read_spikegadgets(recording_path, stream_id=\"trodes\")\n",
    "            print(recording_basename)\n",
    "            # Preprocessing the LFP\n",
    "            current_recording = sp.bandpass_filter(current_recording, freq_min=0.5, freq_max=300)\n",
    "            current_recording = sp.notch_filter(current_recording, freq=60)\n",
    "            current_recording = sp.resample(current_recording, resample_rate=1000)\n",
    "            current_recording = sp.zscore(current_recording)\n",
    "            recording_name_to_all_ch_lfp[recording_basename] = current_recording\n",
    "        except:\n",
    "            pass\n",
    "\n"
   ]
  },
  {
   "cell_type": "markdown",
   "metadata": {},
   "source": [
    "## Power Calculation"
   ]
  },
  {
   "cell_type": "code",
   "execution_count": null,
   "metadata": {
    "scrolled": true
   },
   "outputs": [],
   "source": [
    "TONE_TIMESTAMP_DF.head()"
   ]
  },
  {
   "cell_type": "code",
   "execution_count": null,
   "metadata": {},
   "outputs": [],
   "source": []
  },
  {
   "cell_type": "markdown",
   "metadata": {},
   "source": [
    "- Adding all the brain region to ch information"
   ]
  },
  {
   "cell_type": "code",
   "execution_count": null,
   "metadata": {},
   "outputs": [],
   "source": [
    "channel_map_and_all_trials_df = all_trials_df.merge(CHANNEL_MAPPING_DF, left_on=\"current_subject\", right_on=\"Subject\", how=\"left\")"
   ]
  },
  {
   "cell_type": "markdown",
   "metadata": {},
   "source": [
    "- Linking up all LFP calculations with all the trials"
   ]
  },
  {
   "cell_type": "code",
   "execution_count": null,
   "metadata": {},
   "outputs": [],
   "source": [
    "channel_map_and_all_trials_df[\"all_ch_lfp\"] = channel_map_and_all_trials_df[\"recording_file\"].map(recording_name_to_all_ch_lfp)"
   ]
  },
  {
   "cell_type": "markdown",
   "metadata": {},
   "source": [
    "- Creating a new row for each brain region"
   ]
  },
  {
   "cell_type": "code",
   "execution_count": null,
   "metadata": {},
   "outputs": [],
   "source": [
    "brain_region_col = [col for col in CHANNEL_MAPPING_DF if \"spike_interface\" in col]"
   ]
  },
  {
   "cell_type": "code",
   "execution_count": null,
   "metadata": {},
   "outputs": [],
   "source": [
    "id_cols = [col for col in channel_map_and_all_trials_df.columns if col not in brain_region_col]"
   ]
  },
  {
   "cell_type": "code",
   "execution_count": null,
   "metadata": {},
   "outputs": [],
   "source": [
    "melted_channel_map_and_all_trials_df = channel_map_and_all_trials_df.melt(id_vars=id_cols ,value_vars=brain_region_col, var_name='brain_region', value_name='channel')\n"
   ]
  },
  {
   "cell_type": "code",
   "execution_count": null,
   "metadata": {},
   "outputs": [],
   "source": [
    "melted_channel_map_and_all_trials_df.head()"
   ]
  },
  {
   "cell_type": "code",
   "execution_count": null,
   "metadata": {},
   "outputs": [],
   "source": [
    "melted_channel_map_and_all_trials_df.tail()"
   ]
  },
  {
   "cell_type": "markdown",
   "metadata": {},
   "source": [
    "- Getting the traces for each trial for each brain region"
   ]
  },
  {
   "cell_type": "code",
   "execution_count": 39,
   "metadata": {},
   "outputs": [
    {
     "ename": "ValueError",
     "evalue": "",
     "output_type": "error",
     "traceback": [
      "\u001b[0;31m---------------------------------------------------------------------------\u001b[0m",
      "\u001b[0;31mValueError\u001b[0m                                Traceback (most recent call last)",
      "Cell \u001b[0;32mIn[39], line 1\u001b[0m\n\u001b[0;32m----> 1\u001b[0m \u001b[38;5;28;01mraise\u001b[39;00m \u001b[38;5;167;01mValueError\u001b[39;00m()\n",
      "\u001b[0;31mValueError\u001b[0m: "
     ]
    }
   ],
   "source": [
    "raise ValueError()"
   ]
  },
  {
   "cell_type": "code",
   "execution_count": null,
   "metadata": {},
   "outputs": [],
   "source": [
    "melted_channel_map_and_all_trials_df[\"channel\"] = melted_channel_map_and_all_trials_df[\"channel\"].astype(int).astype(str)\n",
    "melted_channel_map_and_all_trials_df[\"resampled_index\"] = melted_channel_map_and_all_trials_df[\"resampled_index\"].astype(int)"
   ]
  },
  {
   "cell_type": "code",
   "execution_count": null,
   "metadata": {},
   "outputs": [],
   "source": [
    "melted_channel_map_and_all_trials_df[\"chunked_lfp_index\"].iloc[0]"
   ]
  },
  {
   "cell_type": "code",
   "execution_count": null,
   "metadata": {},
   "outputs": [],
   "source": [
    "melted_channel_map_and_all_trials_df[\"binned_current_thorax_velocity\"].iloc[0]"
   ]
  },
  {
   "cell_type": "code",
   "execution_count": null,
   "metadata": {},
   "outputs": [],
   "source": [
    "melted_channel_map_and_all_trials_df[\"chunked_current_trace\"] = melted_channel_map_and_all_trials_df.apply(lambda x: \n",
    "[x[\"all_ch_lfp\"].get_traces(channel_ids=[x[\"channel\"]], start_frame=chunk_index[0], end_frame=chunk_index[1]).T[0] for chunk_index in x[\"chunked_lfp_index\"]], axis=1)"
   ]
  },
  {
   "cell_type": "code",
   "execution_count": null,
   "metadata": {},
   "outputs": [],
   "source": [
    "len(melted_channel_map_and_all_trials_df[\"chunked_current_trace\"].iloc[0])"
   ]
  },
  {
   "cell_type": "code",
   "execution_count": null,
   "metadata": {
    "scrolled": true
   },
   "outputs": [],
   "source": [
    "melted_channel_map_and_all_trials_df[\"chunked_current_trace\"]"
   ]
  },
  {
   "cell_type": "code",
   "execution_count": null,
   "metadata": {},
   "outputs": [],
   "source": [
    "melted_channel_map_and_all_trials_df[\"chunk_id\"] = [list(range(0,10))] * len(melted_channel_map_and_all_trials_df)"
   ]
  },
  {
   "cell_type": "code",
   "execution_count": null,
   "metadata": {},
   "outputs": [],
   "source": [
    "exploded_channel_map_and_all_trials_df = melted_channel_map_and_all_trials_df.explode([\"current_chunked_thorax_velocity\", \"chunked_current_trace\", \"binned_current_thorax_velocity\", \"chunked_lfp_index\",\t\"chunked_ephys_timestamp\", \"chunk_id\"])"
   ]
  },
  {
   "cell_type": "code",
   "execution_count": null,
   "metadata": {
    "scrolled": true
   },
   "outputs": [],
   "source": [
    "exploded_channel_map_and_all_trials_df"
   ]
  },
  {
   "cell_type": "code",
   "execution_count": null,
   "metadata": {},
   "outputs": [],
   "source": [
    "exploded_channel_map_and_all_trials_df[\"len_chunked_current_trace\"] = exploded_channel_map_and_all_trials_df[\"chunked_current_trace\"].apply(lambda x: len(x))\n"
   ]
  },
  {
   "cell_type": "code",
   "execution_count": null,
   "metadata": {},
   "outputs": [],
   "source": [
    "exploded_channel_map_and_all_trials_df[\"len_chunked_current_trace\"].unique()"
   ]
  },
  {
   "cell_type": "code",
   "execution_count": null,
   "metadata": {},
   "outputs": [],
   "source": [
    "exploded_channel_map_and_all_trials_df[\"chunked_current_trace\"] = exploded_channel_map_and_all_trials_df[\"chunked_current_trace\"].apply(lambda x: x[:RESAMPLE_RATE])"
   ]
  },
  {
   "cell_type": "code",
   "execution_count": null,
   "metadata": {
    "scrolled": true
   },
   "outputs": [],
   "source": [
    "exploded_channel_map_and_all_trials_df[\"chunked_current_trace\"]"
   ]
  },
  {
   "cell_type": "markdown",
   "metadata": {},
   "source": [
    "- Calcuating the power at each frequency band"
   ]
  },
  {
   "cell_type": "code",
   "execution_count": null,
   "metadata": {},
   "outputs": [],
   "source": [
    "exploded_channel_map_and_all_trials_df[\"multitaper\"] = exploded_channel_map_and_all_trials_df[\"chunked_current_trace\"].apply(lambda x: Multitaper(time_series=x,                                                                                        sampling_frequency=RESAMPLE_RATE))"
   ]
  },
  {
   "cell_type": "code",
   "execution_count": null,
   "metadata": {},
   "outputs": [],
   "source": [
    "exploded_channel_map_and_all_trials_df[\"connectivity\"] = exploded_channel_map_and_all_trials_df[\"multitaper\"].apply(lambda x: Connectivity.from_multitaper(x))"
   ]
  },
  {
   "cell_type": "code",
   "execution_count": null,
   "metadata": {},
   "outputs": [],
   "source": [
    "exploded_channel_map_and_all_trials_df[\"frequencies\"] = exploded_channel_map_and_all_trials_df[\"connectivity\"].apply(lambda x: x.frequencies)"
   ]
  },
  {
   "cell_type": "code",
   "execution_count": null,
   "metadata": {},
   "outputs": [],
   "source": [
    "exploded_channel_map_and_all_trials_df[\"power\"] = exploded_channel_map_and_all_trials_df[\"connectivity\"].apply(lambda x: x.power().squeeze())"
   ]
  },
  {
   "cell_type": "code",
   "execution_count": null,
   "metadata": {},
   "outputs": [],
   "source": [
    "exploded_channel_map_and_all_trials_df.head()"
   ]
  },
  {
   "cell_type": "code",
   "execution_count": null,
   "metadata": {
    "scrolled": true
   },
   "outputs": [],
   "source": [
    "exploded_channel_map_and_all_trials_df.tail()"
   ]
  },
  {
   "cell_type": "markdown",
   "metadata": {},
   "source": [
    "# Plotting by velocity"
   ]
  },
  {
   "cell_type": "markdown",
   "metadata": {},
   "source": [
    "- Grouping all the rows(1s segment of trials) that share the same brain region, whether its before or after the tone, and velocity grouping"
   ]
  },
  {
   "cell_type": "code",
   "execution_count": null,
   "metadata": {},
   "outputs": [],
   "source": [
    "grouped_all_trials_df = exploded_channel_map_and_all_trials_df.groupby(['brain_region', 'trial_or_baseline', 'binned_current_thorax_velocity']).agg({'power': lambda x: np.vstack(x.tolist())}).reset_index()"
   ]
  },
  {
   "cell_type": "markdown",
   "metadata": {},
   "source": [
    "- Calculating the mean and sem of the LFP power"
   ]
  },
  {
   "cell_type": "code",
   "execution_count": null,
   "metadata": {},
   "outputs": [],
   "source": [
    "grouped_all_trials_df[\"mean_power\"] = grouped_all_trials_df[\"power\"].apply(lambda x: np.nanmean(np.vstack(x), axis=0))"
   ]
  },
  {
   "cell_type": "code",
   "execution_count": null,
   "metadata": {},
   "outputs": [],
   "source": [
    "grouped_all_trials_df[\"std_power\"] = grouped_all_trials_df[\"power\"].apply(lambda x: np.nanstd(np.vstack(x), axis=0))"
   ]
  },
  {
   "cell_type": "code",
   "execution_count": null,
   "metadata": {},
   "outputs": [],
   "source": [
    "grouped_all_trials_df[\"n_trials\"] = grouped_all_trials_df[\"power\"].apply(lambda x: np.sum(~np.isnan(x), axis=0))"
   ]
  },
  {
   "cell_type": "code",
   "execution_count": null,
   "metadata": {},
   "outputs": [],
   "source": [
    "grouped_all_trials_df[\"sem_power\"] = grouped_all_trials_df.apply(lambda x: x[\"std_power\"] / np.sqrt(x[\"n_trials\"]), axis=1)"
   ]
  },
  {
   "cell_type": "code",
   "execution_count": null,
   "metadata": {
    "scrolled": true
   },
   "outputs": [],
   "source": [
    "low_freq = 0\n",
    "high_freq = 12\n",
    "for region in grouped_all_trials_df[\"brain_region\"].unique():\n",
    "    region_df = grouped_all_trials_df[grouped_all_trials_df[\"brain_region\"] == region]\n",
    "\n",
    "    fig, ax = plt.subplots()\n",
    "    plt.title(\"Z-Scored LFP Power in {}\".format(region.split(\"_\")[-1]))\n",
    "    plt.xlabel(\"Frequency\")\n",
    "    plt.ylabel(\"Power\")\n",
    "    plt.xlim(low_freq, high_freq)    \n",
    "    plt.yscale(\"log\")\n",
    "    plt.ylim(0.01, 0.1)\n",
    "\n",
    "    for index, row in region_df.iterrows():\n",
    "        try:\n",
    "            ax = sns.lineplot(x=exploded_channel_map_and_all_trials_df[\"frequencies\"].iloc[0], y=row[\"mean_power\"], \\\n",
    "            label=\"{} for {}\".format(BIN_TO_VELOCITY[row[\"binned_current_thorax_velocity\"]], \\\n",
    "            row[\"trial_or_baseline\"]), color=BIN_TO_COLOR[row[\"binned_current_thorax_velocity\"]][row[\"trial_or_baseline\"]],\n",
    "            linestyle=TRIAL_OR_BASELINE_TO_STYLE[row[\"trial_or_baseline\"]], linewidth=3)\n",
    "\n",
    "            plt.fill_between(exploded_channel_map_and_all_trials_df[\"frequencies\"].iloc[0], \\\n",
    "            row[\"mean_power\"] - row[\"sem_power\"], row[\"mean_power\"] + row[\"sem_power\"], alpha=0.2,\n",
    "            color=BIN_TO_COLOR[row[\"binned_current_thorax_velocity\"]][row[\"trial_or_baseline\"]])\n",
    "        except Exception as e: \n",
    "            print(e)\n",
    "            continue\n",
    "\n",
    "    plt.legend(loc=\"lower left\")\n",
    "    \n",
    "    plt.savefig(\"./proc/velocity_parsing/plot_region_line_velocity_baselinetrial/\\\n",
    "    rce_lfp_power_velocity_baselinetrial_freq_{}_to_{}_region_{}.png\".format(low_freq, high_freq, region.split(\"_\")[-1]))\n"
   ]
  },
  {
   "cell_type": "code",
   "execution_count": null,
   "metadata": {},
   "outputs": [],
   "source": [
    "low_freq = 12\n",
    "high_freq = 30\n",
    "for region in grouped_all_trials_df[\"brain_region\"].unique():\n",
    "    region_df = grouped_all_trials_df[grouped_all_trials_df[\"brain_region\"] == region]\n",
    "\n",
    "    fig, ax = plt.subplots()\n",
    "    plt.title(\"Z-Scored LFP Power in {}\".format(region.split(\"_\")[-1]))\n",
    "    plt.xlabel(\"Frequency\")\n",
    "    plt.ylabel(\"Power\")\n",
    "    plt.xlim(low_freq, high_freq)    \n",
    "    plt.yscale(\"log\")\n",
    "    plt.ylim(0.002, 0.015) \n",
    "\n",
    "    for index, row in region_df.iterrows():\n",
    "        try:\n",
    "            ax = sns.lineplot(x=exploded_channel_map_and_all_trials_df[\"frequencies\"].iloc[0], y=row[\"mean_power\"], \\\n",
    "            label=\"{} for {}\".format(BIN_TO_VELOCITY[row[\"binned_current_thorax_velocity\"]], \\\n",
    "            row[\"trial_or_baseline\"]), color=BIN_TO_COLOR[row[\"binned_current_thorax_velocity\"]][row[\"trial_or_baseline\"]],\n",
    "            linestyle=TRIAL_OR_BASELINE_TO_STYLE[row[\"trial_or_baseline\"]], linewidth=3)\n",
    "\n",
    "            plt.fill_between(exploded_channel_map_and_all_trials_df[\"frequencies\"].iloc[0], \\\n",
    "            row[\"mean_power\"] - row[\"sem_power\"], row[\"mean_power\"] + row[\"sem_power\"], alpha=0.2,\n",
    "            color=BIN_TO_COLOR[row[\"binned_current_thorax_velocity\"]][row[\"trial_or_baseline\"]])\n",
    "        except Exception as e: \n",
    "            print(e)\n",
    "            continue\n",
    "\n",
    "    plt.savefig(\"./proc/velocity_parsing/plot_region_line_velocity_baselinetrial/\\\n",
    "    rce_lfp_power_velocity_baselinetrial_freq_{}_to_{}_region_{}.png\".format(low_freq, high_freq, region.split(\"_\")[-1]))\n"
   ]
  },
  {
   "cell_type": "code",
   "execution_count": null,
   "metadata": {},
   "outputs": [],
   "source": [
    "low_freq = 30\n",
    "high_freq = 90\n",
    "for region in grouped_all_trials_df[\"brain_region\"].unique():\n",
    "    region_df = grouped_all_trials_df[grouped_all_trials_df[\"brain_region\"] == region]\n",
    "\n",
    "    fig, ax = plt.subplots()\n",
    "    plt.title(\"Z-Scored LFP Power in {}\".format(region.split(\"_\")[-1]))\n",
    "    plt.xlabel(\"Frequency\")\n",
    "    plt.ylabel(\"Power\")\n",
    "    plt.xlim(low_freq, high_freq)    \n",
    "    # plt.ylim(0, 0.005)\n",
    "    plt.yscale(\"log\")\n",
    "    plt.ylim(0.0003, 0.005) \n",
    "\n",
    "    for index, row in region_df.iterrows():\n",
    "        try:\n",
    "            ax = sns.lineplot(x=exploded_channel_map_and_all_trials_df[\"frequencies\"].iloc[0], y=row[\"mean_power\"], \\\n",
    "            label=\"{} for {}\".format(BIN_TO_VELOCITY[row[\"binned_current_thorax_velocity\"]], \\\n",
    "            row[\"trial_or_baseline\"]), color=BIN_TO_COLOR[row[\"binned_current_thorax_velocity\"]][row[\"trial_or_baseline\"]],\n",
    "            linestyle=TRIAL_OR_BASELINE_TO_STYLE[row[\"trial_or_baseline\"]], linewidth=3)\n",
    "\n",
    "            plt.fill_between(exploded_channel_map_and_all_trials_df[\"frequencies\"].iloc[0], \\\n",
    "            row[\"mean_power\"] - row[\"sem_power\"], row[\"mean_power\"] + row[\"sem_power\"], alpha=0.2,\n",
    "            color=BIN_TO_COLOR[row[\"binned_current_thorax_velocity\"]][row[\"trial_or_baseline\"]])\n",
    "        except Exception as e: \n",
    "            print(e)\n",
    "            continue\n",
    "    plt.legend()\n",
    "    plt.savefig(\"./proc/velocity_parsing/plot_region_line_velocity_baselinetrial/\\\n",
    "    rce_lfp_power_velocity_baselinetrial_freq_{}_to_{}_region_{}.png\".format(low_freq, high_freq, region.split(\"_\")[-1]))\n"
   ]
  },
  {
   "cell_type": "code",
   "execution_count": null,
   "metadata": {},
   "outputs": [],
   "source": []
  },
  {
   "cell_type": "code",
   "execution_count": null,
   "metadata": {},
   "outputs": [],
   "source": []
  },
  {
   "cell_type": "markdown",
   "metadata": {},
   "source": [
    "## Plotting all the lower velocities together"
   ]
  },
  {
   "cell_type": "code",
   "execution_count": null,
   "metadata": {},
   "outputs": [],
   "source": [
    "speed_filtered_all_trials_df = exploded_channel_map_and_all_trials_df[exploded_channel_map_and_all_trials_df[\"binned_current_thorax_velocity\"] == 0]"
   ]
  },
  {
   "cell_type": "code",
   "execution_count": null,
   "metadata": {},
   "outputs": [],
   "source": [
    "speed_filtered_all_trials_df.shape"
   ]
  },
  {
   "cell_type": "code",
   "execution_count": null,
   "metadata": {},
   "outputs": [],
   "source": [
    "grouped_all_trials_df = speed_filtered_all_trials_df.groupby(['brain_region', 'trial_outcome', 'trial_or_baseline']).agg({'power': lambda x: np.vstack(x.tolist())}).reset_index()"
   ]
  },
  {
   "cell_type": "code",
   "execution_count": null,
   "metadata": {},
   "outputs": [],
   "source": [
    "grouped_all_trials_df[\"mean_power\"] = grouped_all_trials_df[\"power\"].apply(lambda x: np.nanmean(np.vstack(x), axis=0))"
   ]
  },
  {
   "cell_type": "code",
   "execution_count": null,
   "metadata": {},
   "outputs": [],
   "source": [
    "grouped_all_trials_df[\"std_power\"] = grouped_all_trials_df[\"power\"].apply(lambda x: np.nanstd(np.vstack(x), axis=0))"
   ]
  },
  {
   "cell_type": "code",
   "execution_count": null,
   "metadata": {},
   "outputs": [],
   "source": [
    "grouped_all_trials_df[\"n_trials\"] = grouped_all_trials_df[\"power\"].apply(lambda x: np.sum(~np.isnan(x), axis=0))"
   ]
  },
  {
   "cell_type": "code",
   "execution_count": null,
   "metadata": {},
   "outputs": [],
   "source": [
    "grouped_all_trials_df[\"sem_power\"] = grouped_all_trials_df.apply(lambda x: x[\"std_power\"] / np.sqrt(x[\"n_trials\"]), axis=1)"
   ]
  },
  {
   "cell_type": "code",
   "execution_count": null,
   "metadata": {
    "scrolled": true
   },
   "outputs": [],
   "source": [
    "grouped_all_trials_df[\"trial_outcome\"].unique()"
   ]
  },
  {
   "cell_type": "markdown",
   "metadata": {},
   "source": [
    "# Drawing plots all together"
   ]
  },
  {
   "cell_type": "raw",
   "metadata": {},
   "source": [
    "brain_region_to_ylim = {'spike_interface_BLA': 0.15, 'spike_interface_LH': 0.3, 'spike_interface_MD': 0.3,\n",
    "       'spike_interface_mPFC': 0.2, 'spike_interface_vHPC': 0.3}"
   ]
  },
  {
   "cell_type": "code",
   "execution_count": null,
   "metadata": {},
   "outputs": [],
   "source": [
    "low_freq = 0\n",
    "high_freq = 12\n",
    "for region in grouped_all_trials_df[\"brain_region\"].unique():\n",
    "    region_df = grouped_all_trials_df[grouped_all_trials_df[\"brain_region\"] == region]\n",
    "    \n",
    "    fig, ax = plt.subplots()\n",
    "    plt.title(\"Z-Scored LFP Power in {} at 0 to 5cm/s\".format(region.split(\"_\")[-1]))\n",
    "    plt.xlabel(\"Frequency\")\n",
    "    plt.ylabel(\"Power\")\n",
    "    plt.xlim(low_freq, high_freq) \n",
    "    # plt.yscale(\"log\")\n",
    "    # plt.ylim(0.01, 0.06)\n",
    "\n",
    "    for trial_or_baseline, outcome in itertools.product(region_df[\"trial_or_baseline\"].unique(), sorted(region_df[\"trial_outcome\"].unique())[::-1]):\n",
    "        outcome_df = region_df[(region_df[\"trial_or_baseline\"] == trial_or_baseline) & (region_df[\"trial_outcome\"] == outcome)]\n",
    "        for index, row in outcome_df.iterrows():\n",
    "            try:\n",
    "                ax = sns.lineplot(x=exploded_channel_map_and_all_trials_df[\"frequencies\"].iloc[0], y=row[\"mean_power\"], \\\n",
    "                label=\"{} {}\".format(outcome, trial_or_baseline), color=BASELINE_OUTCOME_TO_COLOR[outcome], \\\n",
    "                linestyle=TRIAL_OR_BASELINE_TO_STYLE[trial_or_baseline], linewidth=3)\n",
    "                \n",
    "                plt.fill_between(exploded_channel_map_and_all_trials_df[\"frequencies\"].iloc[0], \n",
    "                row[\"mean_power\"] - row[\"sem_power\"], row[\"mean_power\"] + row[\"sem_power\"], \\\n",
    "                alpha=0.1, color=BASELINE_OUTCOME_TO_COLOR[outcome])\n",
    "            \n",
    "            except Exception as e: \n",
    "                print(e)\n",
    "                continue\n",
    "    plt.legend(loc=\"lower left\")\n",
    "    plt.savefig(\"./proc/velocity_parsing/plot_region_line_trialoutcome_baselinetrial/\\\n",
    "    rce_lower_velocity_lfp_power_trialoutcome_baselinetrial_freq_{}_to_{}_region_{}.png\".format(low_freq, high_freq, region.split(\"_\")[-1]))"
   ]
  },
  {
   "cell_type": "code",
   "execution_count": null,
   "metadata": {},
   "outputs": [],
   "source": [
    "low_freq = 12\n",
    "high_freq = 30\n",
    "for region in grouped_all_trials_df[\"brain_region\"].unique():\n",
    "    region_df = grouped_all_trials_df[grouped_all_trials_df[\"brain_region\"] == region]\n",
    "    \n",
    "    fig, ax = plt.subplots()\n",
    "    plt.title(\"Z-Scored LFP Power in {} at 0 to 5cm/s\".format(region.split(\"_\")[-1]))\n",
    "    plt.xlabel(\"Frequency\")\n",
    "    plt.ylabel(\"Power\")\n",
    "    plt.xlim(low_freq, high_freq)    \n",
    "    plt.yscale(\"log\")\n",
    "    plt.ylim(0.002, 0.015) \n",
    "    \n",
    "    for trial_or_baseline, outcome in itertools.product(region_df[\"trial_or_baseline\"].unique(), sorted(region_df[\"trial_outcome\"].unique())[::-1]):\n",
    "        outcome_df = region_df[(region_df[\"trial_or_baseline\"] == trial_or_baseline) & (region_df[\"trial_outcome\"] == outcome)]\n",
    "        for index, row in outcome_df.iterrows():\n",
    "            try:\n",
    "                ax = sns.lineplot(x=exploded_channel_map_and_all_trials_df[\"frequencies\"].iloc[0], y=row[\"mean_power\"], \\\n",
    "                label=\"{} {}\".format(outcome, trial_or_baseline), color=BASELINE_OUTCOME_TO_COLOR[outcome], \\\n",
    "                linestyle=TRIAL_OR_BASELINE_TO_STYLE[trial_or_baseline], linewidth=3)\n",
    "                \n",
    "                plt.fill_between(exploded_channel_map_and_all_trials_df[\"frequencies\"].iloc[0], \n",
    "                row[\"mean_power\"] - row[\"sem_power\"], row[\"mean_power\"] + row[\"sem_power\"], \\\n",
    "                alpha=0.1, color=BASELINE_OUTCOME_TO_COLOR[outcome])\n",
    "            \n",
    "            except Exception as e: \n",
    "                print(e)\n",
    "                continue\n",
    "    plt.legend(loc=\"upper right\")\n",
    "    plt.savefig(\"./proc/velocity_parsing/plot_region_line_trialoutcome_baselinetrial/\\\n",
    "    rce_lower_velocity_lfp_power_trialoutcome_baselinetrial_freq_{}_to_{}_region_{}.png\".format(low_freq, high_freq, region.split(\"_\")[-1]))"
   ]
  },
  {
   "cell_type": "code",
   "execution_count": null,
   "metadata": {},
   "outputs": [],
   "source": [
    "low_freq = 30\n",
    "high_freq = 90\n",
    "for region in grouped_all_trials_df[\"brain_region\"].unique():\n",
    "    region_df = grouped_all_trials_df[grouped_all_trials_df[\"brain_region\"] == region]\n",
    "    \n",
    "    fig, ax = plt.subplots()\n",
    "    plt.title(\"Z-Scored LFP Power in {} at 0 to 5cm/s\".format(region.split(\"_\")[-1]))\n",
    "    plt.xlabel(\"Frequency\")\n",
    "    plt.ylabel(\"Power\")\n",
    "    plt.xlim(low_freq, high_freq)    \n",
    "    plt.yscale(\"log\")\n",
    "    plt.ylim(0.0003, 0.005) \n",
    "    \n",
    "    for trial_or_baseline, outcome in itertools.product(region_df[\"trial_or_baseline\"].unique(), sorted(region_df[\"trial_outcome\"].unique())[::-1]):\n",
    "        outcome_df = region_df[(region_df[\"trial_or_baseline\"] == trial_or_baseline) & (region_df[\"trial_outcome\"] == outcome)]\n",
    "        for index, row in outcome_df.iterrows():\n",
    "            try:\n",
    "                ax = sns.lineplot(x=exploded_channel_map_and_all_trials_df[\"frequencies\"].iloc[0], y=row[\"mean_power\"], \\\n",
    "                label=\"{} {}\".format(outcome, trial_or_baseline), color=BASELINE_OUTCOME_TO_COLOR[outcome], \\\n",
    "                linestyle=TRIAL_OR_BASELINE_TO_STYLE[trial_or_baseline], linewidth=3)\n",
    "                \n",
    "                plt.fill_between(exploded_channel_map_and_all_trials_df[\"frequencies\"].iloc[0], \n",
    "                row[\"mean_power\"] - row[\"sem_power\"], row[\"mean_power\"] + row[\"sem_power\"], \\\n",
    "                alpha=0.2, color=BASELINE_OUTCOME_TO_COLOR[outcome])\n",
    "            \n",
    "            except Exception as e: \n",
    "                print(e)\n",
    "                continue\n",
    "    plt.legend(loc=\"upper right\")\n",
    "    plt.savefig(\"./proc/velocity_parsing/plot_region_line_trialoutcome_baselinetrial/\\\n",
    "    rce_lower_velocity_lfp_power_trialoutcome_baselinetrial_freq_{}_to_{}_region_{}.png\".format(low_freq, high_freq, region.split(\"_\")[-1]))"
   ]
  },
  {
   "cell_type": "code",
   "execution_count": null,
   "metadata": {},
   "outputs": [],
   "source": []
  },
  {
   "cell_type": "code",
   "execution_count": null,
   "metadata": {},
   "outputs": [],
   "source": []
  },
  {
   "cell_type": "markdown",
   "metadata": {},
   "source": [
    "## Plotting all the higher velocities together"
   ]
  },
  {
   "cell_type": "code",
   "execution_count": null,
   "metadata": {},
   "outputs": [],
   "source": [
    "speed_filtered_all_trials_df = exploded_channel_map_and_all_trials_df[exploded_channel_map_and_all_trials_df[\"binned_current_thorax_velocity\"] == 1]"
   ]
  },
  {
   "cell_type": "code",
   "execution_count": null,
   "metadata": {},
   "outputs": [],
   "source": [
    "exploded_channel_map_and_all_trials_df[\"theta_power\"] = exploded_channel_map_and_all_trials_df[\"power\"].apply(lambda x: x[4:13])"
   ]
  },
  {
   "cell_type": "code",
   "execution_count": null,
   "metadata": {},
   "outputs": [],
   "source": [
    "exploded_channel_map_and_all_trials_df[\"theta_power\"].iloc[0]"
   ]
  },
  {
   "cell_type": "code",
   "execution_count": null,
   "metadata": {},
   "outputs": [],
   "source": [
    "exploded_channel_map_and_all_trials_df[\"averaged_theta_power\"] = exploded_channel_map_and_all_trials_df[\"theta_power\"].apply(lambda x: np.mean(x))"
   ]
  },
  {
   "cell_type": "code",
   "execution_count": null,
   "metadata": {},
   "outputs": [],
   "source": [
    "exploded_channel_map_and_all_trials_df[\"averaged_theta_power\"]"
   ]
  },
  {
   "cell_type": "code",
   "execution_count": null,
   "metadata": {
    "scrolled": true
   },
   "outputs": [],
   "source": [
    "exploded_channel_map_and_all_trials_df.columns"
   ]
  },
  {
   "cell_type": "code",
   "execution_count": null,
   "metadata": {},
   "outputs": [],
   "source": [
    "exploded_channel_map_and_all_trials_df[\"all_thorax_velocity\"].iloc[0].shape"
   ]
  },
  {
   "cell_type": "code",
   "execution_count": null,
   "metadata": {},
   "outputs": [],
   "source": [
    "exploded_channel_map_and_all_trials_df.info()"
   ]
  },
  {
   "cell_type": "code",
   "execution_count": null,
   "metadata": {},
   "outputs": [],
   "source": [
    "exploded_channel_map_and_all_trials_df.drop(columns=[\"multitaper\", \"connectivity\", 'all_thorax_locations', 'all_thorax_velocity', 'all_ch_lfp']).to_pickle(\"./proc/rce_1_sec_interval_lfp_power_spectra_and_velocity.pkl\")"
   ]
  },
  {
   "cell_type": "code",
   "execution_count": null,
   "metadata": {},
   "outputs": [],
   "source": [
    "grouped_all_trials_df = speed_filtered_all_trials_df.groupby(['brain_region', 'trial_outcome', 'trial_or_baseline']).agg({'power': lambda x: np.vstack(x.tolist())}).reset_index()"
   ]
  },
  {
   "cell_type": "code",
   "execution_count": null,
   "metadata": {},
   "outputs": [],
   "source": [
    "grouped_all_trials_df[\"mean_power\"] = grouped_all_trials_df[\"power\"].apply(lambda x: np.nanmean(np.vstack(x), axis=0))"
   ]
  },
  {
   "cell_type": "code",
   "execution_count": null,
   "metadata": {},
   "outputs": [],
   "source": [
    "grouped_all_trials_df[\"std_power\"] = grouped_all_trials_df[\"power\"].apply(lambda x: np.nanstd(np.vstack(x), axis=0))"
   ]
  },
  {
   "cell_type": "code",
   "execution_count": null,
   "metadata": {},
   "outputs": [],
   "source": [
    "grouped_all_trials_df[\"n_trials\"] = grouped_all_trials_df[\"power\"].apply(lambda x: np.sum(~np.isnan(x), axis=0))"
   ]
  },
  {
   "cell_type": "code",
   "execution_count": null,
   "metadata": {},
   "outputs": [],
   "source": [
    "grouped_all_trials_df[\"sem_power\"] = grouped_all_trials_df.apply(lambda x: x[\"std_power\"] / np.sqrt(x[\"n_trials\"]), axis=1)"
   ]
  },
  {
   "cell_type": "code",
   "execution_count": null,
   "metadata": {},
   "outputs": [],
   "source": [
    "exploded_channel_map_and_all_trials_df[\"frequencies\"].iloc[0][4:13]"
   ]
  },
  {
   "cell_type": "code",
   "execution_count": null,
   "metadata": {},
   "outputs": [],
   "source": [
    "grouped_all_trials_df[\"power\"].iloc[0].shape"
   ]
  },
  {
   "cell_type": "code",
   "execution_count": null,
   "metadata": {},
   "outputs": [],
   "source": [
    "grouped_all_trials_df[\"power\"].iloc"
   ]
  },
  {
   "cell_type": "markdown",
   "metadata": {},
   "source": [
    "# Drawing plots all together"
   ]
  },
  {
   "cell_type": "raw",
   "metadata": {},
   "source": [
    "brain_region_to_ylim = {'spike_interface_BLA': 0.15, 'spike_interface_LH': 0.3, 'spike_interface_MD': 0.3,\n",
    "       'spike_interface_mPFC': 0.2, 'spike_interface_vHPC': 0.3}"
   ]
  },
  {
   "cell_type": "code",
   "execution_count": null,
   "metadata": {
    "scrolled": true
   },
   "outputs": [],
   "source": [
    "low_freq = 0\n",
    "high_freq = 12\n",
    "for region in grouped_all_trials_df[\"brain_region\"].unique():\n",
    "    region_df = grouped_all_trials_df[grouped_all_trials_df[\"brain_region\"] == region]\n",
    "    \n",
    "    fig, ax = plt.subplots()\n",
    "    plt.title(\"Z-Scored LFP Power in {} at 5cm/s to 10cm/s\".format(region.split(\"_\")[-1]))\n",
    "    plt.xlabel(\"Frequency\")\n",
    "    plt.ylabel(\"Power\")\n",
    "    plt.xlim(low_freq, high_freq)   \n",
    "    plt.yscale(\"log\")\n",
    "    plt.ylim(0.01, 0.1)\n",
    "\n",
    "    for trial_or_baseline, outcome in itertools.product(region_df[\"trial_or_baseline\"].unique(), sorted(region_df[\"trial_outcome\"].unique())[::-1]):\n",
    "        outcome_df = region_df[(region_df[\"trial_or_baseline\"] == trial_or_baseline) & (region_df[\"trial_outcome\"] == outcome)]\n",
    "        for index, row in outcome_df.iterrows():\n",
    "            try:\n",
    "                ax = sns.lineplot(x=exploded_channel_map_and_all_trials_df[\"frequencies\"].iloc[0], y=row[\"mean_power\"], \\\n",
    "                label=\"{} {}\".format(outcome, trial_or_baseline), color=BASELINE_OUTCOME_TO_COLOR[outcome], \\\n",
    "                linestyle=TRIAL_OR_BASELINE_TO_STYLE[trial_or_baseline], linewidth=3)\n",
    "                \n",
    "                plt.fill_between(exploded_channel_map_and_all_trials_df[\"frequencies\"].iloc[0], \n",
    "                row[\"mean_power\"] - row[\"sem_power\"], row[\"mean_power\"] + row[\"sem_power\"], \\\n",
    "                alpha=0.2, color=BASELINE_OUTCOME_TO_COLOR[outcome])\n",
    "            \n",
    "            except Exception as e: \n",
    "                print(e)\n",
    "                continue\n",
    "    plt.legend()\n",
    "    plt.savefig(\"./proc/velocity_parsing/plot_region_line_trialoutcome_baselinetrial/\\\n",
    "    rce_higher_velocity_lfp_power_trialoutcome_baselinetrial_freq_{}_to_{}_region_{}.png\".format(low_freq, high_freq, region.split(\"_\")[-1]))"
   ]
  },
  {
   "cell_type": "code",
   "execution_count": null,
   "metadata": {},
   "outputs": [],
   "source": [
    "low_freq = 12\n",
    "high_freq = 30\n",
    "for region in grouped_all_trials_df[\"brain_region\"].unique():\n",
    "    region_df = grouped_all_trials_df[grouped_all_trials_df[\"brain_region\"] == region]\n",
    "    \n",
    "    fig, ax = plt.subplots()\n",
    "    plt.title(\"Z-Scored LFP Power in {} at 5cm/s to 10cm/s\".format(region.split(\"_\")[-1]))\n",
    "    plt.xlabel(\"Frequency\")\n",
    "    plt.ylabel(\"Power\")\n",
    "    plt.xlim(low_freq, high_freq)    \n",
    "    plt.yscale(\"log\")\n",
    "    plt.ylim(0.002, 0.015) \n",
    "    \n",
    "    for trial_or_baseline, outcome in itertools.product(region_df[\"trial_or_baseline\"].unique(), sorted(region_df[\"trial_outcome\"].unique())[::-1]):\n",
    "        outcome_df = region_df[(region_df[\"trial_or_baseline\"] == trial_or_baseline) & (region_df[\"trial_outcome\"] == outcome)]\n",
    "        for index, row in outcome_df.iterrows():\n",
    "            try:\n",
    "                ax = sns.lineplot(x=exploded_channel_map_and_all_trials_df[\"frequencies\"].iloc[0], y=row[\"mean_power\"], \\\n",
    "                label=\"{} {}\".format(outcome, trial_or_baseline), color=BASELINE_OUTCOME_TO_COLOR[outcome], \\\n",
    "                linestyle=TRIAL_OR_BASELINE_TO_STYLE[trial_or_baseline], linewidth=3)\n",
    "                \n",
    "                plt.fill_between(exploded_channel_map_and_all_trials_df[\"frequencies\"].iloc[0], \n",
    "                row[\"mean_power\"] - row[\"sem_power\"], row[\"mean_power\"] + row[\"sem_power\"], \\\n",
    "                alpha=0.2, color=BASELINE_OUTCOME_TO_COLOR[outcome])\n",
    "            \n",
    "            except Exception as e: \n",
    "                print(e)\n",
    "                continue\n",
    "    plt.legend()\n",
    "    plt.savefig(\"./proc/velocity_parsing/plot_region_line_trialoutcome_baselinetrial/\\\n",
    "    rce_higher_velocity_lfp_power_trialoutcome_baselinetrial_freq_{}_to_{}_region_{}.png\".format(low_freq, high_freq, region.split(\"_\")[-1]))"
   ]
  },
  {
   "cell_type": "code",
   "execution_count": null,
   "metadata": {
    "scrolled": true
   },
   "outputs": [],
   "source": [
    "low_freq = 30\n",
    "high_freq = 90\n",
    "for region in grouped_all_trials_df[\"brain_region\"].unique():\n",
    "    region_df = grouped_all_trials_df[grouped_all_trials_df[\"brain_region\"] == region]\n",
    "    \n",
    "    fig, ax = plt.subplots()\n",
    "    plt.title(\"Z-Scored LFP Power in {} at 5cm/s to 10cm/s\".format(region.split(\"_\")[-1]))\n",
    "    plt.xlabel(\"Frequency\")\n",
    "    plt.ylabel(\"Power\")\n",
    "    plt.xlim(low_freq, high_freq)    \n",
    "    plt.yscale(\"log\")\n",
    "    plt.ylim(0.0003, 0.008) \n",
    "    \n",
    "    for trial_or_baseline, outcome in itertools.product(region_df[\"trial_or_baseline\"].unique(), sorted(region_df[\"trial_outcome\"].unique())[::-1]):\n",
    "        outcome_df = region_df[(region_df[\"trial_or_baseline\"] == trial_or_baseline) & (region_df[\"trial_outcome\"] == outcome)]\n",
    "        for index, row in outcome_df.iterrows():\n",
    "            try:\n",
    "                ax = sns.lineplot(x=exploded_channel_map_and_all_trials_df[\"frequencies\"].iloc[0], y=row[\"mean_power\"], \\\n",
    "                label=\"{} {}\".format(outcome, trial_or_baseline), color=BASELINE_OUTCOME_TO_COLOR[outcome], \\\n",
    "                linestyle=TRIAL_OR_BASELINE_TO_STYLE[trial_or_baseline], linewidth=3)\n",
    "                \n",
    "                plt.fill_between(exploded_channel_map_and_all_trials_df[\"frequencies\"].iloc[0], \n",
    "                row[\"mean_power\"] - row[\"sem_power\"], row[\"mean_power\"] + row[\"sem_power\"], \\\n",
    "                alpha=0.2, color=BASELINE_OUTCOME_TO_COLOR[outcome])\n",
    "            \n",
    "            except Exception as e: \n",
    "                print(e)\n",
    "                continue\n",
    "    plt.legend()\n",
    "    plt.savefig(\"./proc/velocity_parsing/plot_region_line_trialoutcome_baselinetrial/\\\n",
    "    rce_higher_velocity_lfp_power_trialoutcome_baselinetrial_freq_{}_to_{}_region_{}.png\".format(low_freq, high_freq, region.split(\"_\")[-1]))"
   ]
  },
  {
   "cell_type": "code",
   "execution_count": null,
   "metadata": {},
   "outputs": [],
   "source": []
  },
  {
   "cell_type": "markdown",
   "metadata": {},
   "source": [
    "## Plotting all the competitiveness and lower velocities together"
   ]
  },
  {
   "cell_type": "code",
   "execution_count": null,
   "metadata": {},
   "outputs": [],
   "source": [
    "speed_filtered_all_trials_df = exploded_channel_map_and_all_trials_df[exploded_channel_map_and_all_trials_df[\"binned_current_thorax_velocity\"] == 0]"
   ]
  },
  {
   "cell_type": "code",
   "execution_count": null,
   "metadata": {},
   "outputs": [],
   "source": [
    "speed_filtered_all_trials_df.shape"
   ]
  },
  {
   "cell_type": "code",
   "execution_count": null,
   "metadata": {},
   "outputs": [],
   "source": [
    "grouped_all_trials_df = speed_filtered_all_trials_df.groupby(['brain_region', 'competition_closeness', 'trial_or_baseline']).agg({'power': lambda x: np.vstack(x.tolist())}).reset_index()"
   ]
  },
  {
   "cell_type": "code",
   "execution_count": null,
   "metadata": {},
   "outputs": [],
   "source": [
    "grouped_all_trials_df[\"mean_power\"] = grouped_all_trials_df[\"power\"].apply(lambda x: np.nanmean(np.vstack(x), axis=0))"
   ]
  },
  {
   "cell_type": "code",
   "execution_count": null,
   "metadata": {},
   "outputs": [],
   "source": [
    "grouped_all_trials_df[\"std_power\"] = grouped_all_trials_df[\"power\"].apply(lambda x: np.nanstd(np.vstack(x), axis=0))"
   ]
  },
  {
   "cell_type": "code",
   "execution_count": null,
   "metadata": {},
   "outputs": [],
   "source": [
    "grouped_all_trials_df[\"n_trials\"] = grouped_all_trials_df[\"power\"].apply(lambda x: np.sum(~np.isnan(x), axis=0))"
   ]
  },
  {
   "cell_type": "code",
   "execution_count": null,
   "metadata": {},
   "outputs": [],
   "source": [
    "grouped_all_trials_df[\"sem_power\"] = grouped_all_trials_df.apply(lambda x: x[\"std_power\"] / np.sqrt(x[\"n_trials\"]), axis=1)"
   ]
  },
  {
   "cell_type": "code",
   "execution_count": null,
   "metadata": {
    "scrolled": true
   },
   "outputs": [],
   "source": [
    "grouped_all_trials_df[\"competition_closeness\"].unique()"
   ]
  },
  {
   "cell_type": "markdown",
   "metadata": {},
   "source": [
    "# Drawing plots all together"
   ]
  },
  {
   "cell_type": "raw",
   "metadata": {},
   "source": [
    "brain_region_to_ylim = {'spike_interface_BLA': 0.15, 'spike_interface_LH': 0.3, 'spike_interface_MD': 0.3,\n",
    "       'spike_interface_mPFC': 0.2, 'spike_interface_vHPC': 0.3}"
   ]
  },
  {
   "cell_type": "code",
   "execution_count": null,
   "metadata": {},
   "outputs": [],
   "source": [
    "region_df"
   ]
  },
  {
   "cell_type": "code",
   "execution_count": null,
   "metadata": {},
   "outputs": [],
   "source": [
    "low_freq = 0\n",
    "high_freq = 12\n",
    "for region in grouped_all_trials_df[\"brain_region\"].unique():\n",
    "    region_df = grouped_all_trials_df[grouped_all_trials_df[\"brain_region\"] == region]\n",
    "    \n",
    "    fig, ax = plt.subplots()\n",
    "    plt.title(\"Z-Scored LFP Power in {} at 0 to 5cm/s\".format(region.split(\"_\")[-1]))\n",
    "    plt.xlabel(\"Frequency\")\n",
    "    plt.ylabel(\"Power\")\n",
    "    plt.xlim(low_freq, high_freq)  \n",
    "    plt.yscale(\"log\")\n",
    "    plt.ylim(0.01, 0.1) \n",
    "\n",
    "\n",
    "    for index, row in region_df.iterrows():\n",
    "        try:\n",
    "            ax = sns.lineplot(x=exploded_channel_map_and_all_trials_df[\"frequencies\"].iloc[0], y=row[\"mean_power\"], \\\n",
    "            label=\"{} {}\".format(row[\"competition_closeness\"], row[\"trial_or_baseline\"]), color=COMPETITIVE_OUTCOME_TO_COLOR[row[\"competition_closeness\"]], \\\n",
    "            linestyle=TRIAL_OR_BASELINE_TO_STYLE[row[\"trial_or_baseline\"]], linewidth=3)\n",
    "            \n",
    "            plt.fill_between(exploded_channel_map_and_all_trials_df[\"frequencies\"].iloc[0], \n",
    "            row[\"mean_power\"] - row[\"sem_power\"], row[\"mean_power\"] + row[\"sem_power\"], \\\n",
    "            alpha=0.1, color=COMPETITIVE_OUTCOME_TO_COLOR[row[\"competition_closeness\"]])\n",
    "        \n",
    "        except Exception as e: \n",
    "            print(e)\n",
    "            continue\n",
    "    \n",
    "    # Create a legend outside of the plot\n",
    "    legend = plt.legend(bbox_to_anchor=(1.05, 1), loc='upper left')\n",
    "    \n",
    "    # Save the plot along with the legend outside of it   \n",
    "    plt.savefig(\"./proc/velocity_parsing/plot_region_line_competitioncloseness_baselinetrial/\\\n",
    "    rce_lower_velocity_lfp_power_competitioncloseness_baselinetrial_freq_{}_to_{}_region_{}.png\".format(low_freq, high_freq, region.split(\"_\")[-1]), bbox_extra_artists=(legend,), bbox_inches='tight')\n",
    "\n",
    "    # Display the plot\n",
    "    plt.show()\n"
   ]
  },
  {
   "cell_type": "code",
   "execution_count": null,
   "metadata": {
    "scrolled": true
   },
   "outputs": [],
   "source": [
    "low_freq = 12\n",
    "high_freq = 30\n",
    "for region in grouped_all_trials_df[\"brain_region\"].unique():\n",
    "    region_df = grouped_all_trials_df[grouped_all_trials_df[\"brain_region\"] == region]\n",
    "    \n",
    "    fig, ax = plt.subplots()\n",
    "    plt.title(\"Z-Scored LFP Power in {} at 0 to 5cm/s\".format(region.split(\"_\")[-1]))\n",
    "    plt.xlabel(\"Frequency\")\n",
    "    plt.ylabel(\"Power\")\n",
    "    plt.xlim(low_freq, high_freq)    \n",
    "    plt.yscale(\"log\")\n",
    "    plt.ylim(0.002, 0.015) \n",
    "\n",
    "    for index, row in region_df.iterrows():\n",
    "        try:\n",
    "            ax = sns.lineplot(x=exploded_channel_map_and_all_trials_df[\"frequencies\"].iloc[0], y=row[\"mean_power\"], \\\n",
    "            label=\"{} {}\".format(row[\"competition_closeness\"], row[\"trial_or_baseline\"]), color=COMPETITIVE_OUTCOME_TO_COLOR[row[\"competition_closeness\"]], \\\n",
    "            linestyle=TRIAL_OR_BASELINE_TO_STYLE[row[\"trial_or_baseline\"]], linewidth=3)\n",
    "            \n",
    "            plt.fill_between(exploded_channel_map_and_all_trials_df[\"frequencies\"].iloc[0], \n",
    "            row[\"mean_power\"] - row[\"sem_power\"], row[\"mean_power\"] + row[\"sem_power\"], \\\n",
    "            alpha=0.1, color=COMPETITIVE_OUTCOME_TO_COLOR[row[\"competition_closeness\"]])\n",
    "        \n",
    "        except Exception as e: \n",
    "            print(e)\n",
    "            continue\n",
    "            \n",
    "    # Create a legend outside of the plot\n",
    "    legend = plt.legend(bbox_to_anchor=(1.05, 1), loc='upper left')\n",
    "    \n",
    "    # Save the plot along with the legend outside of it   \n",
    "    plt.savefig(\"./proc/velocity_parsing/plot_region_line_competitioncloseness_baselinetrial/\\\n",
    "    rce_lower_velocity_lfp_power_competitioncloseness_baselinetrial_freq_{}_to_{}_region_{}.png\".format(low_freq, high_freq, region.split(\"_\")[-1]), bbox_extra_artists=(legend,), bbox_inches='tight')\n",
    "\n",
    "    # Display the plot\n",
    "    plt.show()"
   ]
  },
  {
   "cell_type": "code",
   "execution_count": null,
   "metadata": {},
   "outputs": [],
   "source": [
    "low_freq = 30\n",
    "high_freq = 90\n",
    "for region in grouped_all_trials_df[\"brain_region\"].unique():\n",
    "    region_df = grouped_all_trials_df[grouped_all_trials_df[\"brain_region\"] == region]\n",
    "    \n",
    "    fig, ax = plt.subplots()\n",
    "    plt.title(\"Z-Scored LFP Power in {} at 0 to 5cm/s\".format(region.split(\"_\")[-1]))\n",
    "    plt.xlabel(\"Frequency\")\n",
    "    plt.ylabel(\"Power\")\n",
    "    plt.xlim(low_freq, high_freq)    \n",
    "    plt.yscale(\"log\")\n",
    "    plt.ylim(0.0003, 0.005) \n",
    "\n",
    "    for index, row in region_df.iterrows():\n",
    "        try:\n",
    "            ax = sns.lineplot(x=exploded_channel_map_and_all_trials_df[\"frequencies\"].iloc[0], y=row[\"mean_power\"], \\\n",
    "            label=\"{} {}\".format(row[\"competition_closeness\"], row[\"trial_or_baseline\"]), color=COMPETITIVE_OUTCOME_TO_COLOR[row[\"competition_closeness\"]], \\\n",
    "            linestyle=TRIAL_OR_BASELINE_TO_STYLE[row[\"trial_or_baseline\"]], linewidth=3)\n",
    "            \n",
    "            plt.fill_between(exploded_channel_map_and_all_trials_df[\"frequencies\"].iloc[0], \n",
    "            row[\"mean_power\"] - row[\"sem_power\"], row[\"mean_power\"] + row[\"sem_power\"], \\\n",
    "            alpha=0.1, color=COMPETITIVE_OUTCOME_TO_COLOR[row[\"competition_closeness\"]])\n",
    "        \n",
    "        except Exception as e: \n",
    "            print(e)\n",
    "            continue\n",
    "    # Create a legend outside of the plot\n",
    "    legend = plt.legend(bbox_to_anchor=(1.05, 1), loc='upper left')\n",
    "    \n",
    "    # Save the plot along with the legend outside of it   \n",
    "    plt.savefig(\"./proc/velocity_parsing/plot_region_line_competitioncloseness_baselinetrial/\\\n",
    "    rce_lower_velocity_lfp_power_competitioncloseness_baselinetrial_freq_{}_to_{}_region_{}.png\".format(low_freq, high_freq, region.split(\"_\")[-1]), bbox_extra_artists=(legend,), bbox_inches='tight')\n",
    "\n",
    "    # Display the plot\n",
    "    plt.show()"
   ]
  },
  {
   "cell_type": "markdown",
   "metadata": {},
   "source": [
    "## Plotting all the higher velocities together"
   ]
  },
  {
   "cell_type": "code",
   "execution_count": null,
   "metadata": {},
   "outputs": [],
   "source": [
    "speed_filtered_all_trials_df = exploded_channel_map_and_all_trials_df[exploded_channel_map_and_all_trials_df[\"binned_current_thorax_velocity\"] == 1]"
   ]
  },
  {
   "cell_type": "code",
   "execution_count": null,
   "metadata": {},
   "outputs": [],
   "source": [
    "grouped_all_trials_df = speed_filtered_all_trials_df.groupby(['brain_region', 'competition_closeness', 'trial_or_baseline']).agg({'power': lambda x: np.vstack(x.tolist())}).reset_index()"
   ]
  },
  {
   "cell_type": "code",
   "execution_count": null,
   "metadata": {},
   "outputs": [],
   "source": [
    "grouped_all_trials_df[\"mean_power\"] = grouped_all_trials_df[\"power\"].apply(lambda x: np.nanmean(np.vstack(x), axis=0))"
   ]
  },
  {
   "cell_type": "code",
   "execution_count": null,
   "metadata": {},
   "outputs": [],
   "source": [
    "grouped_all_trials_df[\"std_power\"] = grouped_all_trials_df[\"power\"].apply(lambda x: np.nanstd(np.vstack(x), axis=0))"
   ]
  },
  {
   "cell_type": "code",
   "execution_count": null,
   "metadata": {},
   "outputs": [],
   "source": [
    "grouped_all_trials_df[\"n_trials\"] = grouped_all_trials_df[\"power\"].apply(lambda x: np.sum(~np.isnan(x), axis=0))"
   ]
  },
  {
   "cell_type": "code",
   "execution_count": null,
   "metadata": {},
   "outputs": [],
   "source": [
    "grouped_all_trials_df[\"sem_power\"] = grouped_all_trials_df.apply(lambda x: x[\"std_power\"] / np.sqrt(x[\"n_trials\"]), axis=1)"
   ]
  },
  {
   "cell_type": "markdown",
   "metadata": {},
   "source": [
    "# Drawing plots all together"
   ]
  },
  {
   "cell_type": "raw",
   "metadata": {},
   "source": [
    "brain_region_to_ylim = {'spike_interface_BLA': 0.15, 'spike_interface_LH': 0.3, 'spike_interface_MD': 0.3,\n",
    "       'spike_interface_mPFC': 0.2, 'spike_interface_vHPC': 0.3}"
   ]
  },
  {
   "cell_type": "code",
   "execution_count": null,
   "metadata": {},
   "outputs": [],
   "source": [
    "low_freq = 0\n",
    "high_freq = 12\n",
    "for region in grouped_all_trials_df[\"brain_region\"].unique():\n",
    "    region_df = grouped_all_trials_df[grouped_all_trials_df[\"brain_region\"] == region]\n",
    "    \n",
    "    fig, ax = plt.subplots()\n",
    "    plt.title(\"Z-Scored LFP Power in {} at 5cm/s to 10cm/s\".format(region.split(\"_\")[-1]))\n",
    "    plt.xlabel(\"Frequency\")\n",
    "    plt.ylabel(\"Power\")\n",
    "    plt.xlim(low_freq, high_freq)    \n",
    "    plt.yscale(\"log\")\n",
    "    plt.ylim(0.01, 0.25) \n",
    "\n",
    "    for index, row in region_df.iterrows():\n",
    "        try:\n",
    "            ax = sns.lineplot(x=exploded_channel_map_and_all_trials_df[\"frequencies\"].iloc[0], y=row[\"mean_power\"], \\\n",
    "            label=\"{} {}\".format(row[\"competition_closeness\"], row[\"trial_or_baseline\"]), color=COMPETITIVE_OUTCOME_TO_COLOR[row[\"competition_closeness\"]], \\\n",
    "            linestyle=TRIAL_OR_BASELINE_TO_STYLE[row[\"trial_or_baseline\"]], linewidth=3)\n",
    "            \n",
    "            plt.fill_between(exploded_channel_map_and_all_trials_df[\"frequencies\"].iloc[0], \n",
    "            row[\"mean_power\"] - row[\"sem_power\"], row[\"mean_power\"] + row[\"sem_power\"], \\\n",
    "            alpha=0.1, color=COMPETITIVE_OUTCOME_TO_COLOR[row[\"competition_closeness\"]])\n",
    "        \n",
    "        except Exception as e: \n",
    "            print(e)\n",
    "            continue\n",
    "    # Create a legend outside of the plot\n",
    "    legend = plt.legend(bbox_to_anchor=(1.05, 1), loc='upper left')\n",
    "    \n",
    "    # Save the plot along with the legend outside of it   \n",
    "    plt.savefig(\"./proc/velocity_parsing/plot_region_line_competitioncloseness_baselinetrial/\\\n",
    "    rce_higher_velocity_lfp_power_competitioncloseness_baselinetrial_freq_{}_to_{}_region_{}.png\".format(low_freq, high_freq, region.split(\"_\")[-1]), bbox_extra_artists=(legend,), bbox_inches='tight')\n",
    "\n",
    "    # Display the plot\n",
    "    plt.show()"
   ]
  },
  {
   "cell_type": "code",
   "execution_count": null,
   "metadata": {},
   "outputs": [],
   "source": [
    "low_freq = 12\n",
    "high_freq = 30\n",
    "for region in grouped_all_trials_df[\"brain_region\"].unique():\n",
    "    region_df = grouped_all_trials_df[grouped_all_trials_df[\"brain_region\"] == region]\n",
    "    \n",
    "    fig, ax = plt.subplots()\n",
    "    plt.title(\"Z-Scored LFP Power in {} at 5cm/s to 10cm/s\".format(region.split(\"_\")[-1]))\n",
    "    plt.xlabel(\"Frequency\")\n",
    "    plt.ylabel(\"Power\")\n",
    "    plt.xlim(low_freq, high_freq)    \n",
    "    plt.yscale(\"log\")\n",
    "    plt.ylim(0.002, 0.015) \n",
    "\n",
    "    \n",
    "    for index, row in region_df.iterrows():\n",
    "        try:\n",
    "            ax = sns.lineplot(x=exploded_channel_map_and_all_trials_df[\"frequencies\"].iloc[0], y=row[\"mean_power\"], \\\n",
    "            label=\"{} {}\".format(row[\"competition_closeness\"], row[\"trial_or_baseline\"]), color=COMPETITIVE_OUTCOME_TO_COLOR[row[\"competition_closeness\"]], \\\n",
    "            linestyle=TRIAL_OR_BASELINE_TO_STYLE[row[\"trial_or_baseline\"]], linewidth=3)\n",
    "            \n",
    "            plt.fill_between(exploded_channel_map_and_all_trials_df[\"frequencies\"].iloc[0], \n",
    "            row[\"mean_power\"] - row[\"sem_power\"], row[\"mean_power\"] + row[\"sem_power\"], \\\n",
    "            alpha=0.1, color=COMPETITIVE_OUTCOME_TO_COLOR[row[\"competition_closeness\"]])\n",
    "        \n",
    "        except Exception as e: \n",
    "            print(e)\n",
    "            continue\n",
    "    # Create a legend outside of the plot\n",
    "    legend = plt.legend(bbox_to_anchor=(1.05, 1), loc='upper left')\n",
    "    \n",
    "    # Save the plot along with the legend outside of it   \n",
    "    plt.savefig(\"./proc/velocity_parsing/plot_region_line_competitioncloseness_baselinetrial/\\\n",
    "    rce_higher_velocity_lfp_power_competitioncloseness_baselinetrial_freq_{}_to_{}_region_{}.png\".format(low_freq, high_freq, region.split(\"_\")[-1]), bbox_extra_artists=(legend,), bbox_inches='tight')\n",
    "\n",
    "    # Display the plot\n",
    "    plt.show()"
   ]
  },
  {
   "cell_type": "code",
   "execution_count": null,
   "metadata": {},
   "outputs": [],
   "source": [
    "low_freq = 12\n",
    "high_freq = 30\n",
    "for region in grouped_all_trials_df[\"brain_region\"].unique():\n",
    "    region_df = grouped_all_trials_df[grouped_all_trials_df[\"brain_region\"] == region]\n",
    "    \n",
    "    fig, ax = plt.subplots()\n",
    "    plt.title(\"Z-Scored LFP Power in {} at 5cm/s to 10cm/s\".format(region.split(\"_\")[-1]))\n",
    "    plt.xlabel(\"Frequency\")\n",
    "    plt.ylabel(\"Power\")\n",
    "    plt.xlim(low_freq, high_freq)    \n",
    "    plt.yscale(\"log\")\n",
    "    plt.ylim(0.002, 0.015) \n",
    "    \n",
    "    for index, row in region_df.iterrows():\n",
    "        try:\n",
    "            ax = sns.lineplot(x=exploded_channel_map_and_all_trials_df[\"frequencies\"].iloc[0], y=row[\"mean_power\"], \\\n",
    "            label=\"{} {}\".format(row[\"competition_closeness\"], row[\"trial_or_baseline\"]), color=COMPETITIVE_OUTCOME_TO_COLOR[row[\"competition_closeness\"]], \\\n",
    "            linestyle=TRIAL_OR_BASELINE_TO_STYLE[row[\"trial_or_baseline\"]], linewidth=3)\n",
    "            \n",
    "            plt.fill_between(exploded_channel_map_and_all_trials_df[\"frequencies\"].iloc[0], \n",
    "            row[\"mean_power\"] - row[\"sem_power\"], row[\"mean_power\"] + row[\"sem_power\"], \\\n",
    "            alpha=0.1, color=COMPETITIVE_OUTCOME_TO_COLOR[row[\"competition_closeness\"]])\n",
    "        \n",
    "        except Exception as e: \n",
    "            print(e)\n",
    "            continue\n",
    "    # Create a legend outside of the plot\n",
    "    legend = plt.legend(bbox_to_anchor=(1.05, 1), loc='upper left')\n",
    "    \n",
    "    # Save the plot along with the legend outside of it   \n",
    "    plt.savefig(\"./proc/velocity_parsing/plot_region_line_competitioncloseness_baselinetrial/\\\n",
    "    rce_higher_velocity_lfp_power_competitioncloseness_baselinetrial_freq_{}_to_{}_region_{}.png\".format(low_freq, high_freq, region.split(\"_\")[-1]), bbox_extra_artists=(legend,), bbox_inches='tight')\n",
    "\n",
    "    # Display the plot\n",
    "    plt.show()"
   ]
  },
  {
   "cell_type": "code",
   "execution_count": null,
   "metadata": {
    "scrolled": true
   },
   "outputs": [],
   "source": [
    "low_freq = 30\n",
    "high_freq = 90\n",
    "for region in grouped_all_trials_df[\"brain_region\"].unique():\n",
    "    region_df = grouped_all_trials_df[grouped_all_trials_df[\"brain_region\"] == region]\n",
    "    \n",
    "    fig, ax = plt.subplots()\n",
    "    plt.title(\"Z-Scored LFP Power in {} at 5cm/s to 10cm/s\".format(region.split(\"_\")[-1]))\n",
    "    plt.xlabel(\"Frequency\")\n",
    "    plt.ylabel(\"Power\")\n",
    "    plt.xlim(low_freq, high_freq)    \n",
    "    plt.yscale(\"log\")\n",
    "    plt.ylim(0.0003, 0.005) \n",
    "    \n",
    "    for index, row in region_df.iterrows():\n",
    "        try:\n",
    "            ax = sns.lineplot(x=exploded_channel_map_and_all_trials_df[\"frequencies\"].iloc[0], y=row[\"mean_power\"], \\\n",
    "            label=\"{} {}\".format(row[\"competition_closeness\"], row[\"trial_or_baseline\"]), color=COMPETITIVE_OUTCOME_TO_COLOR[row[\"competition_closeness\"]], \\\n",
    "            linestyle=TRIAL_OR_BASELINE_TO_STYLE[row[\"trial_or_baseline\"]], linewidth=3)\n",
    "            \n",
    "            plt.fill_between(exploded_channel_map_and_all_trials_df[\"frequencies\"].iloc[0], \n",
    "            row[\"mean_power\"] - row[\"sem_power\"], row[\"mean_power\"] + row[\"sem_power\"], \\\n",
    "            alpha=0.1, color=COMPETITIVE_OUTCOME_TO_COLOR[row[\"competition_closeness\"]])\n",
    "        \n",
    "        except Exception as e: \n",
    "            print(e)\n",
    "            continue\n",
    "            \n",
    "    # Create a legend outside of the plot\n",
    "    legend = plt.legend(bbox_to_anchor=(1.05, 1), loc='upper left')\n",
    "    \n",
    "    # Save the plot along with the legend outside of it   \n",
    "    plt.savefig(\"./proc/velocity_parsing/plot_region_line_competitioncloseness_baselinetrial/\\\n",
    "    rce_higher_velocity_lfp_power_competitioncloseness_baselinetrial_freq_{}_to_{}_region_{}.png\".format(low_freq, high_freq, region.split(\"_\")[-1]), bbox_extra_artists=(legend,), bbox_inches='tight')\n",
    "\n",
    "    # Display the plot\n",
    "    plt.show()"
   ]
  },
  {
   "cell_type": "code",
   "execution_count": null,
   "metadata": {},
   "outputs": [],
   "source": [
    "exploded_channel_map_and_all_trials_df"
   ]
  },
  {
   "cell_type": "code",
   "execution_count": null,
   "metadata": {},
   "outputs": [],
   "source": []
  },
  {
   "cell_type": "code",
   "execution_count": null,
   "metadata": {},
   "outputs": [],
   "source": [
    "exploded_channel_map_and_all_trials_df.columns"
   ]
  },
  {
   "cell_type": "code",
   "execution_count": null,
   "metadata": {},
   "outputs": [],
   "source": [
    "exploded_channel_map_and_all_trials_df[\"current_thorax_velocity\"]"
   ]
  },
  {
   "cell_type": "code",
   "execution_count": null,
   "metadata": {},
   "outputs": [],
   "source": [
    "melted_channel_map_and_all_trials_df[\"subject_id\"].unique()"
   ]
  },
  {
   "cell_type": "markdown",
   "metadata": {},
   "source": [
    "# Drawing Spectogram"
   ]
  },
  {
   "cell_type": "code",
   "execution_count": null,
   "metadata": {},
   "outputs": [],
   "source": [
    "exploded_channel_map_and_all_trials_df[\"power\"].iloc[0].shape"
   ]
  },
  {
   "cell_type": "code",
   "execution_count": null,
   "metadata": {},
   "outputs": [],
   "source": [
    "exploded_channel_map_and_all_trials_df[\"brain_region\"]"
   ]
  },
  {
   "cell_type": "code",
   "execution_count": null,
   "metadata": {},
   "outputs": [],
   "source": [
    "exploded_channel_map_and_all_trials_df[\"\"]"
   ]
  },
  {
   "cell_type": "code",
   "execution_count": null,
   "metadata": {},
   "outputs": [],
   "source": [
    "grouped_all_trials_df"
   ]
  },
  {
   "cell_type": "code",
   "execution_count": null,
   "metadata": {},
   "outputs": [],
   "source": [
    "raise ValueError()"
   ]
  },
  {
   "cell_type": "code",
   "execution_count": null,
   "metadata": {},
   "outputs": [],
   "source": [
    "exploded_channel_map_and_all_trials_df"
   ]
  },
  {
   "cell_type": "code",
   "execution_count": null,
   "metadata": {},
   "outputs": [],
   "source": [
    "exploded_channel_map_and_all_trials_df[\"recording_file\"].unique()"
   ]
  },
  {
   "cell_type": "code",
   "execution_count": null,
   "metadata": {},
   "outputs": [],
   "source": [
    "exploded_channel_map_and_all_trials_df[\"subject_id\"].unique()"
   ]
  },
  {
   "cell_type": "code",
   "execution_count": null,
   "metadata": {},
   "outputs": [],
   "source": []
  }
 ],
 "metadata": {
  "deepnote": {},
  "deepnote_execution_queue": [],
  "deepnote_notebook_id": "cf8fe3695d074ee7887fdf6459cbf5ce",
  "kernelspec": {
   "display_name": "Python 3 (ipykernel)",
   "language": "python",
   "name": "python3"
  },
  "language_info": {
   "codemirror_mode": {
    "name": "ipython",
    "version": 3
   },
   "file_extension": ".py",
   "mimetype": "text/x-python",
   "name": "python",
   "nbconvert_exporter": "python",
   "pygments_lexer": "ipython3",
   "version": "3.9.16"
  }
 },
 "nbformat": 4,
 "nbformat_minor": 4
}
