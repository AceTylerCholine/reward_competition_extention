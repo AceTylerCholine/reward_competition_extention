{
 "cells": [
  {
   "cell_type": "markdown",
   "metadata": {
    "cell_id": "c3a02adc9e884466bc8c79db549cc3d2",
    "deepnote_cell_type": "text-cell-h1",
    "formattedRanges": [
     {
      "fromCodePoint": 0,
      "marks": {
       "bold": true,
       "underline": true
      },
      "toCodePoint": 17,
      "type": "marks"
     }
    ]
   },
   "source": [
    "# RCE Regress Power to Trial Outcome"
   ]
  },
  {
   "cell_type": "markdown",
   "metadata": {
    "cell_id": "4546bee655b14a5dbf393161f1228e60",
    "deepnote_cell_type": "text-cell-p",
    "formattedRanges": []
   },
   "source": [
    "Brief 1-2 sentence description of notebook."
   ]
  },
  {
   "cell_type": "code",
   "execution_count": null,
   "metadata": {},
   "outputs": [],
   "source": [
    "import warnings\n",
    "warnings.filterwarnings('ignore')"
   ]
  },
  {
   "cell_type": "code",
   "execution_count": null,
   "metadata": {},
   "outputs": [],
   "source": [
    "import os"
   ]
  },
  {
   "cell_type": "code",
   "execution_count": null,
   "metadata": {
    "cell_id": "03b495cefa6a4798a44c7f2e4c6a3ea7",
    "deepnote_cell_type": "code",
    "deepnote_to_be_reexecuted": false,
    "execution_millis": 21,
    "execution_start": 1691424003626,
    "source_hash": null
   },
   "outputs": [],
   "source": [
    "# Imports of all used packages and libraries\n",
    "import numpy as np\n",
    "import pandas as pd\n",
    "import matplotlib.pyplot as plt\n",
    "import matplotlib.cm as cm\n",
    "import seaborn as sns\n",
    "from scipy import stats\n",
    "import itertools"
   ]
  },
  {
   "cell_type": "markdown",
   "metadata": {
    "cell_id": "d290bac2c17940bfbc0f9296beaf70e5",
    "deepnote_cell_type": "text-cell-h2",
    "formattedRanges": []
   },
   "source": [
    "## Inputs & Data"
   ]
  },
  {
   "cell_type": "markdown",
   "metadata": {
    "cell_id": "e528ce19c608425292151930d380f49f",
    "deepnote_cell_type": "text-cell-p",
    "formattedRanges": []
   },
   "source": [
    "Explanation of each input and where it comes from."
   ]
  },
  {
   "cell_type": "code",
   "execution_count": null,
   "metadata": {
    "cell_id": "6cf83a5811054461a718a71673d09aab",
    "deepnote_cell_type": "code",
    "deepnote_to_be_reexecuted": false,
    "execution_millis": 373,
    "execution_start": 1691424003628,
    "source_hash": null
   },
   "outputs": [],
   "source": [
    "# Inputs and Required data loading\n",
    "# input varaible names are in all caps snake case\n",
    "# Whenever an input changes or is used for processing \n",
    "# the vairables are all lower in snake case\n",
    "OUTPUT_DIR = r\"./proc\" # where data is saved should always be shown in the inputs"
   ]
  },
  {
   "cell_type": "code",
   "execution_count": null,
   "metadata": {},
   "outputs": [],
   "source": [
    "MERGED_LFP_AND_SLEAP = pd.read_pickle(\"./proc/rce_lfp_all_window_power.pkl\")"
   ]
  },
  {
   "cell_type": "code",
   "execution_count": null,
   "metadata": {},
   "outputs": [],
   "source": [
    "OUTCOME_TO_COLOR = {'lose': \"red\",\n",
    " 'omission': \"orange\",\n",
    " 'rewarded': \"green\",\n",
    " 'win': \"blue\"}"
   ]
  },
  {
   "cell_type": "code",
   "execution_count": null,
   "metadata": {},
   "outputs": [],
   "source": [
    "TRIAL_OR_BASELINE_TO_STYLE = {'baseline': \"--\", \"trial\": \"-\"}"
   ]
  },
  {
   "cell_type": "code",
   "execution_count": null,
   "metadata": {},
   "outputs": [],
   "source": [
    "# Change this to filter for different velocities\n",
    "# 0: 0 to 2.5cm/s\n",
    "# 1: 2.5 to 5cm/s\n",
    "# 2: 5 to 10cm/s\n",
    "# 3: 10+cm/s\n",
    "FILTERING_VELOCITY = [0, 1]"
   ]
  },
  {
   "cell_type": "code",
   "execution_count": null,
   "metadata": {},
   "outputs": [],
   "source": [
    "BAND_TO_FREQUENCY = {\"theta\": (4,13), \"beta\": (12, 30), \"gamma\": (30, 90)}"
   ]
  },
  {
   "cell_type": "markdown",
   "metadata": {
    "cell_id": "e3ee4891d43a4ac287413afc552ca289",
    "deepnote_cell_type": "text-cell-h2",
    "formattedRanges": []
   },
   "source": [
    "## Outputs"
   ]
  },
  {
   "cell_type": "markdown",
   "metadata": {
    "cell_id": "9ccbf6cc70fd4d379fa29317f733771f",
    "deepnote_cell_type": "text-cell-p",
    "formattedRanges": []
   },
   "source": [
    "Describe each output that the notebook creates. "
   ]
  },
  {
   "cell_type": "markdown",
   "metadata": {
    "cell_id": "fc8e8920a6944918a15fac575cdf6e78",
    "deepnote_cell_type": "text-cell-bullet",
    "formattedRanges": []
   },
   "source": [
    "- Is it a plot or is it data?"
   ]
  },
  {
   "cell_type": "markdown",
   "metadata": {
    "cell_id": "1e639d4776a84aa9ac8ded2e14fa57db",
    "deepnote_cell_type": "text-cell-bullet",
    "formattedRanges": []
   },
   "source": [
    "- How valuable is the output and why is it valuable or useful?"
   ]
  },
  {
   "cell_type": "markdown",
   "metadata": {},
   "source": [
    "## Functions "
   ]
  },
  {
   "cell_type": "code",
   "execution_count": null,
   "metadata": {},
   "outputs": [],
   "source": []
  },
  {
   "cell_type": "markdown",
   "metadata": {
    "cell_id": "8999d19b6b7d4d63bc90f0b0bd9ab085",
    "deepnote_cell_type": "text-cell-h2",
    "formattedRanges": []
   },
   "source": [
    "## Processing"
   ]
  },
  {
   "cell_type": "markdown",
   "metadata": {
    "cell_id": "9b36cdf08567463082b005cb0dec684b",
    "deepnote_cell_type": "text-cell-p",
    "formattedRanges": []
   },
   "source": [
    "Describe what is done to the data here and how inputs are manipulated to generate outputs. "
   ]
  },
  {
   "cell_type": "code",
   "execution_count": null,
   "metadata": {
    "cell_id": "89aaba237c644628b1b37604b75e7cb1",
    "deepnote_cell_type": "code"
   },
   "outputs": [],
   "source": [
    "# As much code and as many cells as required\n",
    "# includes EDA and playing with data\n",
    "# GO HAM!\n",
    "\n",
    "# Ideally functions are defined here first and then data is processed using the functions\n",
    "\n",
    "# function names are short and in snake case all lowercase\n",
    "# a function name should be unique but does not have to describe the function\n",
    "# doc strings describe functions not function names\n",
    "\n",
    "\n"
   ]
  },
  {
   "cell_type": "code",
   "execution_count": null,
   "metadata": {},
   "outputs": [],
   "source": [
    "MERGED_LFP_AND_SLEAP.head()"
   ]
  },
  {
   "cell_type": "code",
   "execution_count": null,
   "metadata": {},
   "outputs": [],
   "source": [
    "for col in MERGED_LFP_AND_SLEAP.columns:\n",
    "    print(col)"
   ]
  },
  {
   "cell_type": "markdown",
   "metadata": {},
   "source": [
    "## Getting the average power for each frequency band from power with all windows"
   ]
  },
  {
   "cell_type": "code",
   "execution_count": null,
   "metadata": {},
   "outputs": [],
   "source": [
    "all_windows_columns = [col for col in MERGED_LFP_AND_SLEAP.columns if \"all_window_averaged_power\" in col]\n"
   ]
  },
  {
   "cell_type": "code",
   "execution_count": null,
   "metadata": {},
   "outputs": [],
   "source": [
    "for col in all_windows_columns:\n",
    "    region_and_baseline_or_trial = \"_\".join(col.split(\"_\")[:2])\n",
    "    print(region_and_baseline_or_trial)\n",
    "    for band, (freq_start, freq_end) in BAND_TO_FREQUENCY.items():\n",
    "        band_col = \"{}_{}_all_not_parsed_power\".format(region_and_baseline_or_trial, band)\n",
    "        MERGED_LFP_AND_SLEAP[band_col] = MERGED_LFP_AND_SLEAP[col].apply(lambda x: x[freq_start:freq_end])\n",
    "        MERGED_LFP_AND_SLEAP[\"{}_{}_averaged_not_parsed_power\".format(region_and_baseline_or_trial, band)] = MERGED_LFP_AND_SLEAP[band_col].apply(lambda x: x.mean())"
   ]
  },
  {
   "cell_type": "code",
   "execution_count": null,
   "metadata": {},
   "outputs": [],
   "source": [
    "MERGED_LFP_AND_SLEAP.head()"
   ]
  },
  {
   "cell_type": "markdown",
   "metadata": {},
   "source": [
    "## Filtering power windows based on velocity"
   ]
  },
  {
   "cell_type": "markdown",
   "metadata": {},
   "source": [
    "- Getting a mask for each segment based on velocity"
   ]
  },
  {
   "cell_type": "code",
   "execution_count": null,
   "metadata": {},
   "outputs": [],
   "source": [
    "MERGED_LFP_AND_SLEAP[\"binned_trial_velocity_mask\"] = MERGED_LFP_AND_SLEAP[\"binned_trial_thorax_velocity\"].apply(lambda x: [index for index, num in enumerate(x) if num in FILTERING_VELOCITY])\n",
    "\n",
    "MERGED_LFP_AND_SLEAP[\"binned_baseline_velocity_mask\"] = MERGED_LFP_AND_SLEAP[\"binned_baseline_thorax_velocity\"].apply(lambda x: [index for index, num in enumerate(x) if num in FILTERING_VELOCITY])"
   ]
  },
  {
   "cell_type": "markdown",
   "metadata": {},
   "source": [
    "- Filtering out the power windows based on windows that have the filtered velocity"
   ]
  },
  {
   "cell_type": "code",
   "execution_count": null,
   "metadata": {},
   "outputs": [],
   "source": [
    "baseline_windowed_power_columns = [col for col in MERGED_LFP_AND_SLEAP.columns if \"baseline_all_window_power\" in col]\n",
    "trial_windowed_power_columns = [col for col in MERGED_LFP_AND_SLEAP.columns if \"trial_all_window_power\" in col]"
   ]
  },
  {
   "cell_type": "code",
   "execution_count": null,
   "metadata": {},
   "outputs": [],
   "source": [
    "baseline_windowed_power_columns"
   ]
  },
  {
   "cell_type": "code",
   "execution_count": null,
   "metadata": {},
   "outputs": [],
   "source": [
    "for col in baseline_windowed_power_columns:\n",
    "    region_and_baseline_or_trial = \"_\".join(col.split(\"_\")[:2])\n",
    "    print(region_and_baseline_or_trial)\n",
    "    MERGED_LFP_AND_SLEAP[\"{}_velocity_parsed_window_averaged_power\".format(region_and_baseline_or_trial)] = MERGED_LFP_AND_SLEAP.apply(lambda x: np.nanmean(np.array([x[col][i] for i in x[\"binned_baseline_velocity_mask\"]]), axis=0), axis=1)\n",
    "\n",
    "for col in trial_windowed_power_columns:\n",
    "    region_and_baseline_or_trial = \"_\".join(col.split(\"_\")[:2])\n",
    "    print(region_and_baseline_or_trial)\n",
    "    MERGED_LFP_AND_SLEAP[\"{}_velocity_parsed_window_averaged_power\".format(region_and_baseline_or_trial)] = MERGED_LFP_AND_SLEAP.apply(lambda x: np.nanmean(np.array([x[col][i] for i in x[\"binned_trial_velocity_mask\"]]), axis=0), axis=1)"
   ]
  },
  {
   "cell_type": "code",
   "execution_count": null,
   "metadata": {},
   "outputs": [],
   "source": [
    "velocity_parsed_columns = [col for col in MERGED_LFP_AND_SLEAP.columns if \"velocity_parsed_window_averaged_power\" in col]"
   ]
  },
  {
   "cell_type": "code",
   "execution_count": null,
   "metadata": {},
   "outputs": [],
   "source": [
    "for col in velocity_parsed_columns:\n",
    "    region_and_baseline_or_trial = \"_\".join(col.split(\"_\")[:2])\n",
    "    print(region_and_baseline_or_trial)\n",
    "    for band, (freq_start, freq_end) in BAND_TO_FREQUENCY.items():\n",
    "        band_col = \"{}_{}_all_velocity_parsed_power\".format(region_and_baseline_or_trial, band)\n",
    "        MERGED_LFP_AND_SLEAP[band_col] = MERGED_LFP_AND_SLEAP[col].apply(lambda x: x[freq_start:freq_end])\n",
    "        MERGED_LFP_AND_SLEAP[\"{}_{}_averaged_velocity_parsed_power\".format(region_and_baseline_or_trial, band)] = MERGED_LFP_AND_SLEAP[band_col].apply(lambda x: x.mean())"
   ]
  },
  {
   "cell_type": "code",
   "execution_count": null,
   "metadata": {},
   "outputs": [],
   "source": [
    "MERGED_LFP_AND_SLEAP.head()"
   ]
  },
  {
   "cell_type": "markdown",
   "metadata": {},
   "source": [
    "# Regressing with power of all windows"
   ]
  },
  {
   "cell_type": "code",
   "execution_count": null,
   "metadata": {},
   "outputs": [],
   "source": [
    "baseline_averaged_all_power_columns = [col for col in MERGED_LFP_AND_SLEAP.columns if \"averaged_not_parsed_power\" in col and \"baseline\" in col]\n",
    "trial_averaged_all_power_columns = [col for col in MERGED_LFP_AND_SLEAP.columns if \"averaged_not_parsed_power\" in col and \"trial\" in col]"
   ]
  },
  {
   "cell_type": "code",
   "execution_count": null,
   "metadata": {},
   "outputs": [],
   "source": [
    "MERGED_LFP_AND_SLEAP[[\"trial_outcome\", \"current_subject\"] + trial_averaged_all_power_columns].head()"
   ]
  },
  {
   "cell_type": "markdown",
   "metadata": {},
   "source": [
    "# Regressing with power of all windows"
   ]
  },
  {
   "cell_type": "code",
   "execution_count": null,
   "metadata": {},
   "outputs": [],
   "source": [
    "baseline_velocity_all_power_columns = [col for col in MERGED_LFP_AND_SLEAP.columns if \"averaged_velocity_parsed_power\" in col and \"baseline\" in col]\n",
    "trial_velocity_all_power_columns = [col for col in MERGED_LFP_AND_SLEAP.columns if \"averaged_velocity_parsed_power\" in col and \"trial\" in col]"
   ]
  },
  {
   "cell_type": "code",
   "execution_count": null,
   "metadata": {},
   "outputs": [],
   "source": [
    "MERGED_LFP_AND_SLEAP[[\"trial_outcome\", \"current_subject\"] + trial_velocity_all_power_columns].head()"
   ]
  },
  {
   "cell_type": "code",
   "execution_count": null,
   "metadata": {},
   "outputs": [],
   "source": []
  }
 ],
 "metadata": {
  "deepnote": {},
  "deepnote_execution_queue": [],
  "deepnote_notebook_id": "cf8fe3695d074ee7887fdf6459cbf5ce",
  "kernelspec": {
   "display_name": "Python 3 (ipykernel)",
   "language": "python",
   "name": "python3"
  },
  "language_info": {
   "codemirror_mode": {
    "name": "ipython",
    "version": 3
   },
   "file_extension": ".py",
   "mimetype": "text/x-python",
   "name": "python",
   "nbconvert_exporter": "python",
   "pygments_lexer": "ipython3",
   "version": "3.9.16"
  }
 },
 "nbformat": 4,
 "nbformat_minor": 4
}
