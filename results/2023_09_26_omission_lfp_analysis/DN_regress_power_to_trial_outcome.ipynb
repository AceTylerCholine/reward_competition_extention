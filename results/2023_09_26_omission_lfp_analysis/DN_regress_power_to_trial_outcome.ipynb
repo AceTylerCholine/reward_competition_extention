{
 "cells": [
  {
   "cell_type": "markdown",
   "metadata": {
    "cell_id": "c3a02adc9e884466bc8c79db549cc3d2",
    "deepnote_cell_type": "text-cell-h1",
    "formattedRanges": [
     {
      "fromCodePoint": 0,
      "marks": {
       "bold": true,
       "underline": true
      },
      "toCodePoint": 17,
      "type": "marks"
     }
    ]
   },
   "source": [
    "# RCE Regress Power to Trial Outcome"
   ]
  },
  {
   "cell_type": "markdown",
   "metadata": {
    "cell_id": "4546bee655b14a5dbf393161f1228e60",
    "deepnote_cell_type": "text-cell-p",
    "formattedRanges": []
   },
   "source": [
    "Brief 1-2 sentence description of notebook."
   ]
  },
  {
   "cell_type": "code",
   "execution_count": 1,
   "metadata": {},
   "outputs": [],
   "source": [
    "import warnings\n",
    "warnings.filterwarnings('ignore')"
   ]
  },
  {
   "cell_type": "code",
   "execution_count": 2,
   "metadata": {},
   "outputs": [],
   "source": [
    "import os"
   ]
  },
  {
   "cell_type": "code",
   "execution_count": 3,
   "metadata": {
    "cell_id": "03b495cefa6a4798a44c7f2e4c6a3ea7",
    "deepnote_cell_type": "code",
    "deepnote_to_be_reexecuted": false,
    "execution_millis": 21,
    "execution_start": 1691424003626,
    "source_hash": null
   },
   "outputs": [],
   "source": [
    "# Imports of all used packages and libraries\n",
    "import numpy as np\n",
    "import pandas as pd\n",
    "import matplotlib.pyplot as plt\n",
    "import matplotlib.cm as cm\n",
    "import seaborn as sns\n",
    "from scipy import stats\n",
    "import itertools"
   ]
  },
  {
   "cell_type": "markdown",
   "metadata": {
    "cell_id": "d290bac2c17940bfbc0f9296beaf70e5",
    "deepnote_cell_type": "text-cell-h2",
    "formattedRanges": []
   },
   "source": [
    "## Inputs & Data"
   ]
  },
  {
   "cell_type": "markdown",
   "metadata": {
    "cell_id": "e528ce19c608425292151930d380f49f",
    "deepnote_cell_type": "text-cell-p",
    "formattedRanges": []
   },
   "source": [
    "Explanation of each input and where it comes from."
   ]
  },
  {
   "cell_type": "code",
   "execution_count": 4,
   "metadata": {
    "cell_id": "6cf83a5811054461a718a71673d09aab",
    "deepnote_cell_type": "code",
    "deepnote_to_be_reexecuted": false,
    "execution_millis": 373,
    "execution_start": 1691424003628,
    "source_hash": null
   },
   "outputs": [],
   "source": [
    "# Inputs and Required data loading\n",
    "# input varaible names are in all caps snake case\n",
    "# Whenever an input changes or is used for processing \n",
    "# the vairables are all lower in snake case\n",
    "OUTPUT_DIR = r\"./proc\" # where data is saved should always be shown in the inputs"
   ]
  },
  {
   "cell_type": "code",
   "execution_count": 5,
   "metadata": {},
   "outputs": [],
   "source": [
    "MERGED_LFP_AND_SLEAP = pd.read_pickle(\"./proc/rce_lfp_all_window_power.pkl\")"
   ]
  },
  {
   "cell_type": "code",
   "execution_count": 6,
   "metadata": {},
   "outputs": [],
   "source": [
    "OUTCOME_TO_COLOR = {'lose': \"red\",\n",
    " 'omission': \"orange\",\n",
    " 'rewarded': \"green\",\n",
    " 'win': \"blue\"}"
   ]
  },
  {
   "cell_type": "code",
   "execution_count": 7,
   "metadata": {},
   "outputs": [],
   "source": [
    "TRIAL_OR_BASELINE_TO_STYLE = {'baseline': \"--\", \"trial\": \"-\"}"
   ]
  },
  {
   "cell_type": "code",
   "execution_count": 8,
   "metadata": {},
   "outputs": [],
   "source": [
    "# Change this to filter for different velocities\n",
    "# 0: 0 to 2.5cm/s\n",
    "# 1: 2.5 to 5cm/s\n",
    "# 2: 5 to 10cm/s\n",
    "# 3: 10+cm/s\n",
    "FILTERING_VELOCITY = [0, 1]"
   ]
  },
  {
   "cell_type": "code",
   "execution_count": 9,
   "metadata": {},
   "outputs": [],
   "source": [
    "BAND_TO_FREQUENCY = {\"theta\": (4,13), \"beta\": (12, 31), \"gamma\": (30, 91)}"
   ]
  },
  {
   "cell_type": "markdown",
   "metadata": {
    "cell_id": "e3ee4891d43a4ac287413afc552ca289",
    "deepnote_cell_type": "text-cell-h2",
    "formattedRanges": []
   },
   "source": [
    "## Outputs"
   ]
  },
  {
   "cell_type": "markdown",
   "metadata": {
    "cell_id": "9ccbf6cc70fd4d379fa29317f733771f",
    "deepnote_cell_type": "text-cell-p",
    "formattedRanges": []
   },
   "source": [
    "Describe each output that the notebook creates. "
   ]
  },
  {
   "cell_type": "markdown",
   "metadata": {
    "cell_id": "fc8e8920a6944918a15fac575cdf6e78",
    "deepnote_cell_type": "text-cell-bullet",
    "formattedRanges": []
   },
   "source": [
    "- Is it a plot or is it data?"
   ]
  },
  {
   "cell_type": "markdown",
   "metadata": {
    "cell_id": "1e639d4776a84aa9ac8ded2e14fa57db",
    "deepnote_cell_type": "text-cell-bullet",
    "formattedRanges": []
   },
   "source": [
    "- How valuable is the output and why is it valuable or useful?"
   ]
  },
  {
   "cell_type": "markdown",
   "metadata": {},
   "source": [
    "## Functions "
   ]
  },
  {
   "cell_type": "code",
   "execution_count": null,
   "metadata": {},
   "outputs": [],
   "source": []
  },
  {
   "cell_type": "markdown",
   "metadata": {
    "cell_id": "8999d19b6b7d4d63bc90f0b0bd9ab085",
    "deepnote_cell_type": "text-cell-h2",
    "formattedRanges": []
   },
   "source": [
    "## Processing"
   ]
  },
  {
   "cell_type": "markdown",
   "metadata": {
    "cell_id": "9b36cdf08567463082b005cb0dec684b",
    "deepnote_cell_type": "text-cell-p",
    "formattedRanges": []
   },
   "source": [
    "Describe what is done to the data here and how inputs are manipulated to generate outputs. "
   ]
  },
  {
   "cell_type": "code",
   "execution_count": 10,
   "metadata": {
    "cell_id": "89aaba237c644628b1b37604b75e7cb1",
    "deepnote_cell_type": "code"
   },
   "outputs": [],
   "source": [
    "# As much code and as many cells as required\n",
    "# includes EDA and playing with data\n",
    "# GO HAM!\n",
    "\n",
    "# Ideally functions are defined here first and then data is processed using the functions\n",
    "\n",
    "# function names are short and in snake case all lowercase\n",
    "# a function name should be unique but does not have to describe the function\n",
    "# doc strings describe functions not function names\n",
    "\n",
    "\n"
   ]
  },
  {
   "cell_type": "code",
   "execution_count": 11,
   "metadata": {},
   "outputs": [
    {
     "data": {
      "text/html": [
       "<div>\n",
       "<style scoped>\n",
       "    .dataframe tbody tr th:only-of-type {\n",
       "        vertical-align: middle;\n",
       "    }\n",
       "\n",
       "    .dataframe tbody tr th {\n",
       "        vertical-align: top;\n",
       "    }\n",
       "\n",
       "    .dataframe thead th {\n",
       "        text-align: right;\n",
       "    }\n",
       "</style>\n",
       "<table border=\"1\" class=\"dataframe\">\n",
       "  <thead>\n",
       "    <tr style=\"text-align: right;\">\n",
       "      <th></th>\n",
       "      <th>time</th>\n",
       "      <th>recording_file</th>\n",
       "      <th>video_number</th>\n",
       "      <th>current_subject</th>\n",
       "      <th>recording_dir</th>\n",
       "      <th>video_file</th>\n",
       "      <th>video_frame</th>\n",
       "      <th>subject_info</th>\n",
       "      <th>competition_closeness</th>\n",
       "      <th>video_name</th>\n",
       "      <th>...</th>\n",
       "      <th>mPFC_baseline_all_window_averaged_power</th>\n",
       "      <th>vHPC_baseline_all_window_averaged_power</th>\n",
       "      <th>BLA_baseline_all_window_averaged_power</th>\n",
       "      <th>LH_baseline_all_window_averaged_power</th>\n",
       "      <th>MD_baseline_all_window_averaged_power</th>\n",
       "      <th>mPFC_trial_all_window_averaged_power</th>\n",
       "      <th>vHPC_trial_all_window_averaged_power</th>\n",
       "      <th>BLA_trial_all_window_averaged_power</th>\n",
       "      <th>LH_trial_all_window_averaged_power</th>\n",
       "      <th>MD_trial_all_window_averaged_power</th>\n",
       "    </tr>\n",
       "  </thead>\n",
       "  <tbody>\n",
       "    <tr>\n",
       "      <th>0</th>\n",
       "      <td>30950500</td>\n",
       "      <td>20221214_125409_om_and_comp_6_1_top_1_base_2_v...</td>\n",
       "      <td>1.0</td>\n",
       "      <td>6.1</td>\n",
       "      <td>20221214_125409_om_and_comp_6_1_and_6_3</td>\n",
       "      <td>20221214_125409_om_and_comp_6_1_and_6_3.1.vide...</td>\n",
       "      <td>28574</td>\n",
       "      <td>6_1_top_1_base_2_vs_6_3</td>\n",
       "      <td>win_non_comp</td>\n",
       "      <td>20221214_125409_om_and_comp_6_1_and_6_3.1</td>\n",
       "      <td>...</td>\n",
       "      <td>[0.01579940523904916, 0.0165626647529655, 0.02...</td>\n",
       "      <td>[0.007338252748333259, 0.01089563666395944, 0....</td>\n",
       "      <td>[0.013091607841038322, 0.014117608416465038, 0...</td>\n",
       "      <td>[0.022964455789557244, 0.022290898817971163, 0...</td>\n",
       "      <td>[0.02557420165245759, 0.026540399430798854, 0....</td>\n",
       "      <td>[0.013578532216685993, 0.01736326663715145, 0....</td>\n",
       "      <td>[0.005884176938003947, 0.01262773509768471, 0....</td>\n",
       "      <td>[0.016782418918595676, 0.015240122116290227, 0...</td>\n",
       "      <td>[0.03241093477294236, 0.03003938250305729, 0.0...</td>\n",
       "      <td>[0.02394606557277414, 0.024972355567400052, 0....</td>\n",
       "    </tr>\n",
       "    <tr>\n",
       "      <th>1</th>\n",
       "      <td>32550496</td>\n",
       "      <td>20221214_125409_om_and_comp_6_1_top_1_base_2_v...</td>\n",
       "      <td>1.0</td>\n",
       "      <td>6.1</td>\n",
       "      <td>20221214_125409_om_and_comp_6_1_and_6_3</td>\n",
       "      <td>20221214_125409_om_and_comp_6_1_and_6_3.1.vide...</td>\n",
       "      <td>30569</td>\n",
       "      <td>6_1_top_1_base_2_vs_6_3</td>\n",
       "      <td>win_non_comp</td>\n",
       "      <td>20221214_125409_om_and_comp_6_1_and_6_3.1</td>\n",
       "      <td>...</td>\n",
       "      <td>[0.01043973810516993, 0.011995901256217315, 0....</td>\n",
       "      <td>[0.006520190897142798, 0.009908554975019851, 0...</td>\n",
       "      <td>[0.006274318131038264, 0.00691078513224769, 0....</td>\n",
       "      <td>[0.01052940561515397, 0.011517583637301586, 0....</td>\n",
       "      <td>[0.013189469018915191, 0.012605535448486686, 0...</td>\n",
       "      <td>[0.005072513655663902, 0.0071730776351884, 0.0...</td>\n",
       "      <td>[0.017807810758419772, 0.02051735783988241, 0....</td>\n",
       "      <td>[0.0075150800916258895, 0.012030467854449603, ...</td>\n",
       "      <td>[0.003644272984766944, 0.005808118645131345, 0...</td>\n",
       "      <td>[0.006489759161394153, 0.007582477136466669, 0...</td>\n",
       "    </tr>\n",
       "    <tr>\n",
       "      <th>2</th>\n",
       "      <td>34350494</td>\n",
       "      <td>20221214_125409_om_and_comp_6_1_top_1_base_2_v...</td>\n",
       "      <td>1.0</td>\n",
       "      <td>6.1</td>\n",
       "      <td>20221214_125409_om_and_comp_6_1_and_6_3</td>\n",
       "      <td>20221214_125409_om_and_comp_6_1_and_6_3.1.vide...</td>\n",
       "      <td>32813</td>\n",
       "      <td>6_1_top_1_base_2_vs_6_3</td>\n",
       "      <td>win_non_comp</td>\n",
       "      <td>20221214_125409_om_and_comp_6_1_and_6_3.1</td>\n",
       "      <td>...</td>\n",
       "      <td>[0.005078069620033379, 0.007847947527141026, 0...</td>\n",
       "      <td>[0.013600617428570527, 0.019533499354359572, 0...</td>\n",
       "      <td>[0.006141355758002356, 0.009303619594021637, 0...</td>\n",
       "      <td>[0.007468537947027687, 0.010884286729309219, 0...</td>\n",
       "      <td>[0.004814152657455484, 0.006184218967929381, 0...</td>\n",
       "      <td>[0.01043389231412404, 0.011229291113011746, 0....</td>\n",
       "      <td>[0.018798404711232963, 0.024949532187259045, 0...</td>\n",
       "      <td>[0.009525639680784495, 0.010941343792716796, 0...</td>\n",
       "      <td>[0.016095087975310174, 0.015224296452442521, 0...</td>\n",
       "      <td>[0.011809376046566988, 0.010816138136563104, 0...</td>\n",
       "    </tr>\n",
       "    <tr>\n",
       "      <th>3</th>\n",
       "      <td>35950496</td>\n",
       "      <td>20221214_125409_om_and_comp_6_1_top_1_base_2_v...</td>\n",
       "      <td>1.0</td>\n",
       "      <td>6.1</td>\n",
       "      <td>20221214_125409_om_and_comp_6_1_and_6_3</td>\n",
       "      <td>20221214_125409_om_and_comp_6_1_and_6_3.1.vide...</td>\n",
       "      <td>34807</td>\n",
       "      <td>6_1_top_1_base_2_vs_6_3</td>\n",
       "      <td>win_non_comp</td>\n",
       "      <td>20221214_125409_om_and_comp_6_1_and_6_3.1</td>\n",
       "      <td>...</td>\n",
       "      <td>[0.008870300252232993, 0.009661322703319016, 0...</td>\n",
       "      <td>[0.01636629887281683, 0.024804479917894477, 0....</td>\n",
       "      <td>[0.00689989260430601, 0.009437438029868149, 0....</td>\n",
       "      <td>[0.010951516062517489, 0.010717930878165088, 0...</td>\n",
       "      <td>[0.008629680530200008, 0.008992947836672616, 0...</td>\n",
       "      <td>[0.006360855718027482, 0.007822405773560855, 0...</td>\n",
       "      <td>[0.0164348816792982, 0.024643952502461323, 0.0...</td>\n",
       "      <td>[0.00733101472807534, 0.00976732655872932, 0.0...</td>\n",
       "      <td>[0.00947190548027983, 0.009763030808051793, 0....</td>\n",
       "      <td>[0.008773587979931309, 0.01012670187919228, 0....</td>\n",
       "    </tr>\n",
       "    <tr>\n",
       "      <th>4</th>\n",
       "      <td>37450494</td>\n",
       "      <td>20221214_125409_om_and_comp_6_1_top_1_base_2_v...</td>\n",
       "      <td>1.0</td>\n",
       "      <td>6.1</td>\n",
       "      <td>20221214_125409_om_and_comp_6_1_and_6_3</td>\n",
       "      <td>20221214_125409_om_and_comp_6_1_and_6_3.1.vide...</td>\n",
       "      <td>36677</td>\n",
       "      <td>6_1_top_1_base_2_vs_6_3</td>\n",
       "      <td>win_non_comp</td>\n",
       "      <td>20221214_125409_om_and_comp_6_1_and_6_3.1</td>\n",
       "      <td>...</td>\n",
       "      <td>[0.012864409142653802, 0.018949659190518484, 0...</td>\n",
       "      <td>[0.00733385444620941, 0.01535041227474615, 0.0...</td>\n",
       "      <td>[0.008417580092331515, 0.011043369664016898, 0...</td>\n",
       "      <td>[0.011461996012372484, 0.01681702443398114, 0....</td>\n",
       "      <td>[0.011745971164537366, 0.017127554039316758, 0...</td>\n",
       "      <td>[0.00866204042766737, 0.008177641470017987, 0....</td>\n",
       "      <td>[0.01034111326211159, 0.021752070821626196, 0....</td>\n",
       "      <td>[0.00915661312184362, 0.010635218445454437, 0....</td>\n",
       "      <td>[0.010863756757808832, 0.011393485381211335, 0...</td>\n",
       "      <td>[0.009990001529841726, 0.009734706672308245, 0...</td>\n",
       "    </tr>\n",
       "  </tbody>\n",
       "</table>\n",
       "<p>5 rows × 55 columns</p>\n",
       "</div>"
      ],
      "text/plain": [
       "       time                                     recording_file  video_number  \\\n",
       "0  30950500  20221214_125409_om_and_comp_6_1_top_1_base_2_v...           1.0   \n",
       "1  32550496  20221214_125409_om_and_comp_6_1_top_1_base_2_v...           1.0   \n",
       "2  34350494  20221214_125409_om_and_comp_6_1_top_1_base_2_v...           1.0   \n",
       "3  35950496  20221214_125409_om_and_comp_6_1_top_1_base_2_v...           1.0   \n",
       "4  37450494  20221214_125409_om_and_comp_6_1_top_1_base_2_v...           1.0   \n",
       "\n",
       "  current_subject                            recording_dir  \\\n",
       "0             6.1  20221214_125409_om_and_comp_6_1_and_6_3   \n",
       "1             6.1  20221214_125409_om_and_comp_6_1_and_6_3   \n",
       "2             6.1  20221214_125409_om_and_comp_6_1_and_6_3   \n",
       "3             6.1  20221214_125409_om_and_comp_6_1_and_6_3   \n",
       "4             6.1  20221214_125409_om_and_comp_6_1_and_6_3   \n",
       "\n",
       "                                          video_file  video_frame  \\\n",
       "0  20221214_125409_om_and_comp_6_1_and_6_3.1.vide...        28574   \n",
       "1  20221214_125409_om_and_comp_6_1_and_6_3.1.vide...        30569   \n",
       "2  20221214_125409_om_and_comp_6_1_and_6_3.1.vide...        32813   \n",
       "3  20221214_125409_om_and_comp_6_1_and_6_3.1.vide...        34807   \n",
       "4  20221214_125409_om_and_comp_6_1_and_6_3.1.vide...        36677   \n",
       "\n",
       "              subject_info competition_closeness  \\\n",
       "0  6_1_top_1_base_2_vs_6_3          win_non_comp   \n",
       "1  6_1_top_1_base_2_vs_6_3          win_non_comp   \n",
       "2  6_1_top_1_base_2_vs_6_3          win_non_comp   \n",
       "3  6_1_top_1_base_2_vs_6_3          win_non_comp   \n",
       "4  6_1_top_1_base_2_vs_6_3          win_non_comp   \n",
       "\n",
       "                                  video_name  ...  \\\n",
       "0  20221214_125409_om_and_comp_6_1_and_6_3.1  ...   \n",
       "1  20221214_125409_om_and_comp_6_1_and_6_3.1  ...   \n",
       "2  20221214_125409_om_and_comp_6_1_and_6_3.1  ...   \n",
       "3  20221214_125409_om_and_comp_6_1_and_6_3.1  ...   \n",
       "4  20221214_125409_om_and_comp_6_1_and_6_3.1  ...   \n",
       "\n",
       "             mPFC_baseline_all_window_averaged_power  \\\n",
       "0  [0.01579940523904916, 0.0165626647529655, 0.02...   \n",
       "1  [0.01043973810516993, 0.011995901256217315, 0....   \n",
       "2  [0.005078069620033379, 0.007847947527141026, 0...   \n",
       "3  [0.008870300252232993, 0.009661322703319016, 0...   \n",
       "4  [0.012864409142653802, 0.018949659190518484, 0...   \n",
       "\n",
       "             vHPC_baseline_all_window_averaged_power  \\\n",
       "0  [0.007338252748333259, 0.01089563666395944, 0....   \n",
       "1  [0.006520190897142798, 0.009908554975019851, 0...   \n",
       "2  [0.013600617428570527, 0.019533499354359572, 0...   \n",
       "3  [0.01636629887281683, 0.024804479917894477, 0....   \n",
       "4  [0.00733385444620941, 0.01535041227474615, 0.0...   \n",
       "\n",
       "              BLA_baseline_all_window_averaged_power  \\\n",
       "0  [0.013091607841038322, 0.014117608416465038, 0...   \n",
       "1  [0.006274318131038264, 0.00691078513224769, 0....   \n",
       "2  [0.006141355758002356, 0.009303619594021637, 0...   \n",
       "3  [0.00689989260430601, 0.009437438029868149, 0....   \n",
       "4  [0.008417580092331515, 0.011043369664016898, 0...   \n",
       "\n",
       "               LH_baseline_all_window_averaged_power  \\\n",
       "0  [0.022964455789557244, 0.022290898817971163, 0...   \n",
       "1  [0.01052940561515397, 0.011517583637301586, 0....   \n",
       "2  [0.007468537947027687, 0.010884286729309219, 0...   \n",
       "3  [0.010951516062517489, 0.010717930878165088, 0...   \n",
       "4  [0.011461996012372484, 0.01681702443398114, 0....   \n",
       "\n",
       "               MD_baseline_all_window_averaged_power  \\\n",
       "0  [0.02557420165245759, 0.026540399430798854, 0....   \n",
       "1  [0.013189469018915191, 0.012605535448486686, 0...   \n",
       "2  [0.004814152657455484, 0.006184218967929381, 0...   \n",
       "3  [0.008629680530200008, 0.008992947836672616, 0...   \n",
       "4  [0.011745971164537366, 0.017127554039316758, 0...   \n",
       "\n",
       "                mPFC_trial_all_window_averaged_power  \\\n",
       "0  [0.013578532216685993, 0.01736326663715145, 0....   \n",
       "1  [0.005072513655663902, 0.0071730776351884, 0.0...   \n",
       "2  [0.01043389231412404, 0.011229291113011746, 0....   \n",
       "3  [0.006360855718027482, 0.007822405773560855, 0...   \n",
       "4  [0.00866204042766737, 0.008177641470017987, 0....   \n",
       "\n",
       "                vHPC_trial_all_window_averaged_power  \\\n",
       "0  [0.005884176938003947, 0.01262773509768471, 0....   \n",
       "1  [0.017807810758419772, 0.02051735783988241, 0....   \n",
       "2  [0.018798404711232963, 0.024949532187259045, 0...   \n",
       "3  [0.0164348816792982, 0.024643952502461323, 0.0...   \n",
       "4  [0.01034111326211159, 0.021752070821626196, 0....   \n",
       "\n",
       "                 BLA_trial_all_window_averaged_power  \\\n",
       "0  [0.016782418918595676, 0.015240122116290227, 0...   \n",
       "1  [0.0075150800916258895, 0.012030467854449603, ...   \n",
       "2  [0.009525639680784495, 0.010941343792716796, 0...   \n",
       "3  [0.00733101472807534, 0.00976732655872932, 0.0...   \n",
       "4  [0.00915661312184362, 0.010635218445454437, 0....   \n",
       "\n",
       "                  LH_trial_all_window_averaged_power  \\\n",
       "0  [0.03241093477294236, 0.03003938250305729, 0.0...   \n",
       "1  [0.003644272984766944, 0.005808118645131345, 0...   \n",
       "2  [0.016095087975310174, 0.015224296452442521, 0...   \n",
       "3  [0.00947190548027983, 0.009763030808051793, 0....   \n",
       "4  [0.010863756757808832, 0.011393485381211335, 0...   \n",
       "\n",
       "                  MD_trial_all_window_averaged_power  \n",
       "0  [0.02394606557277414, 0.024972355567400052, 0....  \n",
       "1  [0.006489759161394153, 0.007582477136466669, 0...  \n",
       "2  [0.011809376046566988, 0.010816138136563104, 0...  \n",
       "3  [0.008773587979931309, 0.01012670187919228, 0....  \n",
       "4  [0.009990001529841726, 0.009734706672308245, 0...  \n",
       "\n",
       "[5 rows x 55 columns]"
      ]
     },
     "execution_count": 11,
     "metadata": {},
     "output_type": "execute_result"
    }
   ],
   "source": [
    "MERGED_LFP_AND_SLEAP.head()"
   ]
  },
  {
   "cell_type": "code",
   "execution_count": 12,
   "metadata": {},
   "outputs": [
    {
     "name": "stdout",
     "output_type": "stream",
     "text": [
      "time\n",
      "recording_file\n",
      "video_number\n",
      "current_subject\n",
      "recording_dir\n",
      "video_file\n",
      "video_frame\n",
      "subject_info\n",
      "competition_closeness\n",
      "video_name\n",
      "all_subjects\n",
      "trial_outcome\n",
      "baseline_videoframe_range\n",
      "trial_videoframe_range\n",
      "trial_number\n",
      "Cohort\n",
      "file_path\n",
      "start_frame\n",
      "stop_frame\n",
      "baseline_thorax_velocity\n",
      "trial_thorax_velocity\n",
      "trial_chunked_thorax_velocity\n",
      "baseline_chunked_thorax_velocity\n",
      "binned_baseline_thorax_velocity\n",
      "binned_trial_thorax_velocity\n",
      "mPFC_baseline_frequencies\n",
      "mPFC_trial_frequencies\n",
      "vHPC_baseline_frequencies\n",
      "vHPC_trial_frequencies\n",
      "BLA_baseline_frequencies\n",
      "BLA_trial_frequencies\n",
      "LH_baseline_frequencies\n",
      "LH_trial_frequencies\n",
      "MD_baseline_frequencies\n",
      "MD_trial_frequencies\n",
      "mPFC_baseline_all_window_power\n",
      "mPFC_trial_all_window_power\n",
      "vHPC_baseline_all_window_power\n",
      "vHPC_trial_all_window_power\n",
      "BLA_baseline_all_window_power\n",
      "BLA_trial_all_window_power\n",
      "LH_baseline_all_window_power\n",
      "LH_trial_all_window_power\n",
      "MD_baseline_all_window_power\n",
      "MD_trial_all_window_power\n",
      "mPFC_baseline_all_window_averaged_power\n",
      "vHPC_baseline_all_window_averaged_power\n",
      "BLA_baseline_all_window_averaged_power\n",
      "LH_baseline_all_window_averaged_power\n",
      "MD_baseline_all_window_averaged_power\n",
      "mPFC_trial_all_window_averaged_power\n",
      "vHPC_trial_all_window_averaged_power\n",
      "BLA_trial_all_window_averaged_power\n",
      "LH_trial_all_window_averaged_power\n",
      "MD_trial_all_window_averaged_power\n"
     ]
    }
   ],
   "source": [
    "for col in MERGED_LFP_AND_SLEAP.columns:\n",
    "    print(col)"
   ]
  },
  {
   "cell_type": "markdown",
   "metadata": {},
   "source": [
    "## Getting the average power for each frequency band from power with all windows"
   ]
  },
  {
   "cell_type": "code",
   "execution_count": 13,
   "metadata": {},
   "outputs": [],
   "source": [
    "all_windows_columns = [col for col in MERGED_LFP_AND_SLEAP.columns if \"all_window_averaged_power\" in col]\n"
   ]
  },
  {
   "cell_type": "code",
   "execution_count": 14,
   "metadata": {},
   "outputs": [
    {
     "name": "stdout",
     "output_type": "stream",
     "text": [
      "mPFC_baseline\n",
      "vHPC_baseline\n",
      "BLA_baseline\n",
      "LH_baseline\n",
      "MD_baseline\n",
      "mPFC_trial\n",
      "vHPC_trial\n",
      "BLA_trial\n",
      "LH_trial\n",
      "MD_trial\n"
     ]
    }
   ],
   "source": [
    "for col in all_windows_columns:\n",
    "    region_and_baseline_or_trial = \"_\".join(col.split(\"_\")[:2])\n",
    "    print(region_and_baseline_or_trial)\n",
    "    for band, (freq_start, freq_end) in BAND_TO_FREQUENCY.items():\n",
    "        band_col = \"{}_{}_all_not_parsed_power\".format(region_and_baseline_or_trial, band)\n",
    "        MERGED_LFP_AND_SLEAP[band_col] = MERGED_LFP_AND_SLEAP[col].apply(lambda x: x[freq_start:freq_end])\n",
    "        MERGED_LFP_AND_SLEAP[\"{}_{}_averaged_not_parsed_power\".format(region_and_baseline_or_trial, band)] = MERGED_LFP_AND_SLEAP[band_col].apply(lambda x: x.mean())"
   ]
  },
  {
   "cell_type": "code",
   "execution_count": 15,
   "metadata": {},
   "outputs": [
    {
     "data": {
      "text/html": [
       "<div>\n",
       "<style scoped>\n",
       "    .dataframe tbody tr th:only-of-type {\n",
       "        vertical-align: middle;\n",
       "    }\n",
       "\n",
       "    .dataframe tbody tr th {\n",
       "        vertical-align: top;\n",
       "    }\n",
       "\n",
       "    .dataframe thead th {\n",
       "        text-align: right;\n",
       "    }\n",
       "</style>\n",
       "<table border=\"1\" class=\"dataframe\">\n",
       "  <thead>\n",
       "    <tr style=\"text-align: right;\">\n",
       "      <th></th>\n",
       "      <th>time</th>\n",
       "      <th>recording_file</th>\n",
       "      <th>video_number</th>\n",
       "      <th>current_subject</th>\n",
       "      <th>recording_dir</th>\n",
       "      <th>video_file</th>\n",
       "      <th>video_frame</th>\n",
       "      <th>subject_info</th>\n",
       "      <th>competition_closeness</th>\n",
       "      <th>video_name</th>\n",
       "      <th>...</th>\n",
       "      <th>LH_trial_beta_all_not_parsed_power</th>\n",
       "      <th>LH_trial_beta_averaged_not_parsed_power</th>\n",
       "      <th>LH_trial_gamma_all_not_parsed_power</th>\n",
       "      <th>LH_trial_gamma_averaged_not_parsed_power</th>\n",
       "      <th>MD_trial_theta_all_not_parsed_power</th>\n",
       "      <th>MD_trial_theta_averaged_not_parsed_power</th>\n",
       "      <th>MD_trial_beta_all_not_parsed_power</th>\n",
       "      <th>MD_trial_beta_averaged_not_parsed_power</th>\n",
       "      <th>MD_trial_gamma_all_not_parsed_power</th>\n",
       "      <th>MD_trial_gamma_averaged_not_parsed_power</th>\n",
       "    </tr>\n",
       "  </thead>\n",
       "  <tbody>\n",
       "    <tr>\n",
       "      <th>0</th>\n",
       "      <td>30950500</td>\n",
       "      <td>20221214_125409_om_and_comp_6_1_top_1_base_2_v...</td>\n",
       "      <td>1.0</td>\n",
       "      <td>6.1</td>\n",
       "      <td>20221214_125409_om_and_comp_6_1_and_6_3</td>\n",
       "      <td>20221214_125409_om_and_comp_6_1_and_6_3.1.vide...</td>\n",
       "      <td>28574</td>\n",
       "      <td>6_1_top_1_base_2_vs_6_3</td>\n",
       "      <td>win_non_comp</td>\n",
       "      <td>20221214_125409_om_and_comp_6_1_and_6_3.1</td>\n",
       "      <td>...</td>\n",
       "      <td>[0.008303314770525089, 0.006494819365804539, 0...</td>\n",
       "      <td>0.003415</td>\n",
       "      <td>[0.0017128140185180302, 0.0016046984520909002,...</td>\n",
       "      <td>0.000821</td>\n",
       "      <td>[0.03268915682414682, 0.026377221921582768, 0....</td>\n",
       "      <td>0.037788</td>\n",
       "      <td>[0.009006728561021115, 0.0057162388235976955, ...</td>\n",
       "      <td>0.003292</td>\n",
       "      <td>[0.0014981136684453417, 0.0012848547660929898,...</td>\n",
       "      <td>0.000763</td>\n",
       "    </tr>\n",
       "    <tr>\n",
       "      <th>1</th>\n",
       "      <td>32550496</td>\n",
       "      <td>20221214_125409_om_and_comp_6_1_top_1_base_2_v...</td>\n",
       "      <td>1.0</td>\n",
       "      <td>6.1</td>\n",
       "      <td>20221214_125409_om_and_comp_6_1_and_6_3</td>\n",
       "      <td>20221214_125409_om_and_comp_6_1_and_6_3.1.vide...</td>\n",
       "      <td>30569</td>\n",
       "      <td>6_1_top_1_base_2_vs_6_3</td>\n",
       "      <td>win_non_comp</td>\n",
       "      <td>20221214_125409_om_and_comp_6_1_and_6_3.1</td>\n",
       "      <td>...</td>\n",
       "      <td>[0.006232014840094584, 0.005643823500539949, 0...</td>\n",
       "      <td>0.003360</td>\n",
       "      <td>[0.001913429314942553, 0.0020461830635455924, ...</td>\n",
       "      <td>0.001100</td>\n",
       "      <td>[0.04901177201453077, 0.05890373549779998, 0.0...</td>\n",
       "      <td>0.030061</td>\n",
       "      <td>[0.004971455181276333, 0.005074768970349641, 0...</td>\n",
       "      <td>0.002704</td>\n",
       "      <td>[0.0011128775475115324, 0.0011790837765855223,...</td>\n",
       "      <td>0.000760</td>\n",
       "    </tr>\n",
       "    <tr>\n",
       "      <th>2</th>\n",
       "      <td>34350494</td>\n",
       "      <td>20221214_125409_om_and_comp_6_1_top_1_base_2_v...</td>\n",
       "      <td>1.0</td>\n",
       "      <td>6.1</td>\n",
       "      <td>20221214_125409_om_and_comp_6_1_and_6_3</td>\n",
       "      <td>20221214_125409_om_and_comp_6_1_and_6_3.1.vide...</td>\n",
       "      <td>32813</td>\n",
       "      <td>6_1_top_1_base_2_vs_6_3</td>\n",
       "      <td>win_non_comp</td>\n",
       "      <td>20221214_125409_om_and_comp_6_1_and_6_3.1</td>\n",
       "      <td>...</td>\n",
       "      <td>[0.007261720804945691, 0.008177120635750428, 0...</td>\n",
       "      <td>0.003626</td>\n",
       "      <td>[0.001480605803360029, 0.0015655109170097852, ...</td>\n",
       "      <td>0.000906</td>\n",
       "      <td>[0.054730702180895256, 0.05365421611339653, 0....</td>\n",
       "      <td>0.024694</td>\n",
       "      <td>[0.005519357666941828, 0.0060753378260996254, ...</td>\n",
       "      <td>0.002651</td>\n",
       "      <td>[0.001131503018944822, 0.001213152223596419, 0...</td>\n",
       "      <td>0.000646</td>\n",
       "    </tr>\n",
       "    <tr>\n",
       "      <th>3</th>\n",
       "      <td>35950496</td>\n",
       "      <td>20221214_125409_om_and_comp_6_1_top_1_base_2_v...</td>\n",
       "      <td>1.0</td>\n",
       "      <td>6.1</td>\n",
       "      <td>20221214_125409_om_and_comp_6_1_and_6_3</td>\n",
       "      <td>20221214_125409_om_and_comp_6_1_and_6_3.1.vide...</td>\n",
       "      <td>34807</td>\n",
       "      <td>6_1_top_1_base_2_vs_6_3</td>\n",
       "      <td>win_non_comp</td>\n",
       "      <td>20221214_125409_om_and_comp_6_1_and_6_3.1</td>\n",
       "      <td>...</td>\n",
       "      <td>[0.007033748357356926, 0.00781208286109274, 0....</td>\n",
       "      <td>0.003534</td>\n",
       "      <td>[0.0014821101132228914, 0.0014516937107344901,...</td>\n",
       "      <td>0.000939</td>\n",
       "      <td>[0.04359595897390731, 0.05440752510925356, 0.0...</td>\n",
       "      <td>0.028550</td>\n",
       "      <td>[0.006026099219691145, 0.005719114160765167, 0...</td>\n",
       "      <td>0.002619</td>\n",
       "      <td>[0.0011698032064997586, 0.001110345269394579, ...</td>\n",
       "      <td>0.000711</td>\n",
       "    </tr>\n",
       "    <tr>\n",
       "      <th>4</th>\n",
       "      <td>37450494</td>\n",
       "      <td>20221214_125409_om_and_comp_6_1_top_1_base_2_v...</td>\n",
       "      <td>1.0</td>\n",
       "      <td>6.1</td>\n",
       "      <td>20221214_125409_om_and_comp_6_1_and_6_3</td>\n",
       "      <td>20221214_125409_om_and_comp_6_1_and_6_3.1.vide...</td>\n",
       "      <td>36677</td>\n",
       "      <td>6_1_top_1_base_2_vs_6_3</td>\n",
       "      <td>win_non_comp</td>\n",
       "      <td>20221214_125409_om_and_comp_6_1_and_6_3.1</td>\n",
       "      <td>...</td>\n",
       "      <td>[0.0068674792533239765, 0.005051987612972118, ...</td>\n",
       "      <td>0.003455</td>\n",
       "      <td>[0.0017982008294426047, 0.0017415233964890372,...</td>\n",
       "      <td>0.000940</td>\n",
       "      <td>[0.04701812120737524, 0.05804985342062138, 0.0...</td>\n",
       "      <td>0.028661</td>\n",
       "      <td>[0.006037162063409061, 0.003865448181311327, 0...</td>\n",
       "      <td>0.002664</td>\n",
       "      <td>[0.00129251660765889, 0.0013391750441791171, 0...</td>\n",
       "      <td>0.000640</td>\n",
       "    </tr>\n",
       "  </tbody>\n",
       "</table>\n",
       "<p>5 rows × 115 columns</p>\n",
       "</div>"
      ],
      "text/plain": [
       "       time                                     recording_file  video_number  \\\n",
       "0  30950500  20221214_125409_om_and_comp_6_1_top_1_base_2_v...           1.0   \n",
       "1  32550496  20221214_125409_om_and_comp_6_1_top_1_base_2_v...           1.0   \n",
       "2  34350494  20221214_125409_om_and_comp_6_1_top_1_base_2_v...           1.0   \n",
       "3  35950496  20221214_125409_om_and_comp_6_1_top_1_base_2_v...           1.0   \n",
       "4  37450494  20221214_125409_om_and_comp_6_1_top_1_base_2_v...           1.0   \n",
       "\n",
       "  current_subject                            recording_dir  \\\n",
       "0             6.1  20221214_125409_om_and_comp_6_1_and_6_3   \n",
       "1             6.1  20221214_125409_om_and_comp_6_1_and_6_3   \n",
       "2             6.1  20221214_125409_om_and_comp_6_1_and_6_3   \n",
       "3             6.1  20221214_125409_om_and_comp_6_1_and_6_3   \n",
       "4             6.1  20221214_125409_om_and_comp_6_1_and_6_3   \n",
       "\n",
       "                                          video_file  video_frame  \\\n",
       "0  20221214_125409_om_and_comp_6_1_and_6_3.1.vide...        28574   \n",
       "1  20221214_125409_om_and_comp_6_1_and_6_3.1.vide...        30569   \n",
       "2  20221214_125409_om_and_comp_6_1_and_6_3.1.vide...        32813   \n",
       "3  20221214_125409_om_and_comp_6_1_and_6_3.1.vide...        34807   \n",
       "4  20221214_125409_om_and_comp_6_1_and_6_3.1.vide...        36677   \n",
       "\n",
       "              subject_info competition_closeness  \\\n",
       "0  6_1_top_1_base_2_vs_6_3          win_non_comp   \n",
       "1  6_1_top_1_base_2_vs_6_3          win_non_comp   \n",
       "2  6_1_top_1_base_2_vs_6_3          win_non_comp   \n",
       "3  6_1_top_1_base_2_vs_6_3          win_non_comp   \n",
       "4  6_1_top_1_base_2_vs_6_3          win_non_comp   \n",
       "\n",
       "                                  video_name  ...  \\\n",
       "0  20221214_125409_om_and_comp_6_1_and_6_3.1  ...   \n",
       "1  20221214_125409_om_and_comp_6_1_and_6_3.1  ...   \n",
       "2  20221214_125409_om_and_comp_6_1_and_6_3.1  ...   \n",
       "3  20221214_125409_om_and_comp_6_1_and_6_3.1  ...   \n",
       "4  20221214_125409_om_and_comp_6_1_and_6_3.1  ...   \n",
       "\n",
       "                  LH_trial_beta_all_not_parsed_power  \\\n",
       "0  [0.008303314770525089, 0.006494819365804539, 0...   \n",
       "1  [0.006232014840094584, 0.005643823500539949, 0...   \n",
       "2  [0.007261720804945691, 0.008177120635750428, 0...   \n",
       "3  [0.007033748357356926, 0.00781208286109274, 0....   \n",
       "4  [0.0068674792533239765, 0.005051987612972118, ...   \n",
       "\n",
       "  LH_trial_beta_averaged_not_parsed_power  \\\n",
       "0                                0.003415   \n",
       "1                                0.003360   \n",
       "2                                0.003626   \n",
       "3                                0.003534   \n",
       "4                                0.003455   \n",
       "\n",
       "                 LH_trial_gamma_all_not_parsed_power  \\\n",
       "0  [0.0017128140185180302, 0.0016046984520909002,...   \n",
       "1  [0.001913429314942553, 0.0020461830635455924, ...   \n",
       "2  [0.001480605803360029, 0.0015655109170097852, ...   \n",
       "3  [0.0014821101132228914, 0.0014516937107344901,...   \n",
       "4  [0.0017982008294426047, 0.0017415233964890372,...   \n",
       "\n",
       "  LH_trial_gamma_averaged_not_parsed_power  \\\n",
       "0                                 0.000821   \n",
       "1                                 0.001100   \n",
       "2                                 0.000906   \n",
       "3                                 0.000939   \n",
       "4                                 0.000940   \n",
       "\n",
       "                 MD_trial_theta_all_not_parsed_power  \\\n",
       "0  [0.03268915682414682, 0.026377221921582768, 0....   \n",
       "1  [0.04901177201453077, 0.05890373549779998, 0.0...   \n",
       "2  [0.054730702180895256, 0.05365421611339653, 0....   \n",
       "3  [0.04359595897390731, 0.05440752510925356, 0.0...   \n",
       "4  [0.04701812120737524, 0.05804985342062138, 0.0...   \n",
       "\n",
       "   MD_trial_theta_averaged_not_parsed_power  \\\n",
       "0                                  0.037788   \n",
       "1                                  0.030061   \n",
       "2                                  0.024694   \n",
       "3                                  0.028550   \n",
       "4                                  0.028661   \n",
       "\n",
       "                  MD_trial_beta_all_not_parsed_power  \\\n",
       "0  [0.009006728561021115, 0.0057162388235976955, ...   \n",
       "1  [0.004971455181276333, 0.005074768970349641, 0...   \n",
       "2  [0.005519357666941828, 0.0060753378260996254, ...   \n",
       "3  [0.006026099219691145, 0.005719114160765167, 0...   \n",
       "4  [0.006037162063409061, 0.003865448181311327, 0...   \n",
       "\n",
       "   MD_trial_beta_averaged_not_parsed_power  \\\n",
       "0                                 0.003292   \n",
       "1                                 0.002704   \n",
       "2                                 0.002651   \n",
       "3                                 0.002619   \n",
       "4                                 0.002664   \n",
       "\n",
       "                 MD_trial_gamma_all_not_parsed_power  \\\n",
       "0  [0.0014981136684453417, 0.0012848547660929898,...   \n",
       "1  [0.0011128775475115324, 0.0011790837765855223,...   \n",
       "2  [0.001131503018944822, 0.001213152223596419, 0...   \n",
       "3  [0.0011698032064997586, 0.001110345269394579, ...   \n",
       "4  [0.00129251660765889, 0.0013391750441791171, 0...   \n",
       "\n",
       "  MD_trial_gamma_averaged_not_parsed_power  \n",
       "0                                 0.000763  \n",
       "1                                 0.000760  \n",
       "2                                 0.000646  \n",
       "3                                 0.000711  \n",
       "4                                 0.000640  \n",
       "\n",
       "[5 rows x 115 columns]"
      ]
     },
     "execution_count": 15,
     "metadata": {},
     "output_type": "execute_result"
    }
   ],
   "source": [
    "MERGED_LFP_AND_SLEAP.head()"
   ]
  },
  {
   "cell_type": "markdown",
   "metadata": {},
   "source": [
    "## Filtering power windows based on velocity"
   ]
  },
  {
   "cell_type": "markdown",
   "metadata": {},
   "source": [
    "- Getting a mask for each segment based on velocity"
   ]
  },
  {
   "cell_type": "code",
   "execution_count": 16,
   "metadata": {},
   "outputs": [],
   "source": [
    "MERGED_LFP_AND_SLEAP[\"binned_trial_velocity_mask\"] = MERGED_LFP_AND_SLEAP[\"binned_trial_thorax_velocity\"].apply(lambda x: [index for index, num in enumerate(x) if num in FILTERING_VELOCITY])\n",
    "\n",
    "MERGED_LFP_AND_SLEAP[\"binned_baseline_velocity_mask\"] = MERGED_LFP_AND_SLEAP[\"binned_baseline_thorax_velocity\"].apply(lambda x: [index for index, num in enumerate(x) if num in FILTERING_VELOCITY])"
   ]
  },
  {
   "cell_type": "markdown",
   "metadata": {},
   "source": [
    "- Filtering out the power windows based on windows that have the filtered velocity"
   ]
  },
  {
   "cell_type": "code",
   "execution_count": 17,
   "metadata": {},
   "outputs": [
    {
     "data": {
      "text/plain": [
       "0    [0, 1, 2, 3, 4, 5, 6, 11, 13, 14, 15, 16, 17, 18]\n",
       "1          [0, 1, 2, 3, 4, 5, 6, 7, 8, 15, 16, 17, 18]\n",
       "2    [0, 1, 2, 3, 4, 5, 6, 7, 8, 9, 10, 11, 12, 13,...\n",
       "3    [0, 1, 2, 3, 4, 5, 6, 7, 8, 9, 10, 11, 12, 13,...\n",
       "4    [0, 1, 2, 3, 4, 5, 6, 7, 8, 9, 10, 11, 12, 13,...\n",
       "Name: binned_baseline_velocity_mask, dtype: object"
      ]
     },
     "execution_count": 17,
     "metadata": {},
     "output_type": "execute_result"
    }
   ],
   "source": [
    "MERGED_LFP_AND_SLEAP[\"binned_baseline_velocity_mask\"].head()"
   ]
  },
  {
   "cell_type": "code",
   "execution_count": 18,
   "metadata": {},
   "outputs": [],
   "source": [
    "baseline_windowed_power_columns = [col for col in MERGED_LFP_AND_SLEAP.columns if \"baseline_all_window_power\" in col]\n",
    "trial_windowed_power_columns = [col for col in MERGED_LFP_AND_SLEAP.columns if \"trial_all_window_power\" in col]"
   ]
  },
  {
   "cell_type": "code",
   "execution_count": 19,
   "metadata": {},
   "outputs": [
    {
     "data": {
      "text/plain": [
       "['mPFC_baseline_all_window_power',\n",
       " 'vHPC_baseline_all_window_power',\n",
       " 'BLA_baseline_all_window_power',\n",
       " 'LH_baseline_all_window_power',\n",
       " 'MD_baseline_all_window_power']"
      ]
     },
     "execution_count": 19,
     "metadata": {},
     "output_type": "execute_result"
    }
   ],
   "source": [
    "baseline_windowed_power_columns"
   ]
  },
  {
   "cell_type": "code",
   "execution_count": 20,
   "metadata": {},
   "outputs": [
    {
     "data": {
      "text/plain": [
       "(19, 500)"
      ]
     },
     "execution_count": 20,
     "metadata": {},
     "output_type": "execute_result"
    }
   ],
   "source": [
    "MERGED_LFP_AND_SLEAP[baseline_windowed_power_columns[0]].iloc[0].shape"
   ]
  },
  {
   "cell_type": "code",
   "execution_count": 21,
   "metadata": {},
   "outputs": [
    {
     "name": "stdout",
     "output_type": "stream",
     "text": [
      "mPFC_baseline\n",
      "vHPC_baseline\n",
      "BLA_baseline\n",
      "LH_baseline\n",
      "MD_baseline\n",
      "mPFC_trial\n",
      "vHPC_trial\n",
      "BLA_trial\n",
      "LH_trial\n",
      "MD_trial\n"
     ]
    }
   ],
   "source": [
    "for col in baseline_windowed_power_columns:\n",
    "    region_and_baseline_or_trial = \"_\".join(col.split(\"_\")[:2])\n",
    "    print(region_and_baseline_or_trial)\n",
    "    MERGED_LFP_AND_SLEAP[\"{}_all_velocity_parsed_power\".format(region_and_baseline_or_trial)] = MERGED_LFP_AND_SLEAP.apply(lambda x: np.array([x[col][i] for i in x[\"binned_baseline_velocity_mask\"]]), axis=1)\n",
    "\n",
    "for col in trial_windowed_power_columns:\n",
    "    region_and_baseline_or_trial = \"_\".join(col.split(\"_\")[:2])\n",
    "    print(region_and_baseline_or_trial)\n",
    "    MERGED_LFP_AND_SLEAP[\"{}_all_velocity_parsed_power\".format(region_and_baseline_or_trial)] = MERGED_LFP_AND_SLEAP.apply(lambda x: np.array([x[col][i] for i in x[\"binned_trial_velocity_mask\"]]), axis=1)"
   ]
  },
  {
   "cell_type": "code",
   "execution_count": 22,
   "metadata": {},
   "outputs": [],
   "source": [
    "all_velocity_parsed_power_columns = [col for col in MERGED_LFP_AND_SLEAP.columns if \"all_velocity_parsed_power\" in col]"
   ]
  },
  {
   "cell_type": "code",
   "execution_count": 23,
   "metadata": {},
   "outputs": [
    {
     "data": {
      "text/plain": [
       "['mPFC_baseline_all_velocity_parsed_power',\n",
       " 'vHPC_baseline_all_velocity_parsed_power',\n",
       " 'BLA_baseline_all_velocity_parsed_power',\n",
       " 'LH_baseline_all_velocity_parsed_power',\n",
       " 'MD_baseline_all_velocity_parsed_power',\n",
       " 'mPFC_trial_all_velocity_parsed_power',\n",
       " 'vHPC_trial_all_velocity_parsed_power',\n",
       " 'BLA_trial_all_velocity_parsed_power',\n",
       " 'LH_trial_all_velocity_parsed_power',\n",
       " 'MD_trial_all_velocity_parsed_power']"
      ]
     },
     "execution_count": 23,
     "metadata": {},
     "output_type": "execute_result"
    }
   ],
   "source": [
    "all_velocity_parsed_power_columns"
   ]
  },
  {
   "cell_type": "code",
   "execution_count": 24,
   "metadata": {},
   "outputs": [
    {
     "data": {
      "text/plain": [
       "(14, 500)"
      ]
     },
     "execution_count": 24,
     "metadata": {},
     "output_type": "execute_result"
    }
   ],
   "source": [
    "MERGED_LFP_AND_SLEAP[all_velocity_parsed_power_columns[0]].iloc[0].shape"
   ]
  },
  {
   "cell_type": "code",
   "execution_count": 25,
   "metadata": {},
   "outputs": [
    {
     "name": "stdout",
     "output_type": "stream",
     "text": [
      "mPFC_baseline\n",
      "vHPC_baseline\n",
      "BLA_baseline\n",
      "LH_baseline\n",
      "MD_baseline\n",
      "mPFC_trial\n",
      "vHPC_trial\n",
      "BLA_trial\n",
      "LH_trial\n",
      "MD_trial\n"
     ]
    }
   ],
   "source": [
    "for col in all_velocity_parsed_power_columns:\n",
    "    region_and_baseline_or_trial = \"_\".join(col.split(\"_\")[:2])\n",
    "    print(region_and_baseline_or_trial)\n",
    "    MERGED_LFP_AND_SLEAP[\"{}_all_band_velocity_parsed_power\".format(region_and_baseline_or_trial)] = MERGED_LFP_AND_SLEAP[col].apply(lambda x: np.nanmean(x, axis=0))"
   ]
  },
  {
   "cell_type": "code",
   "execution_count": 26,
   "metadata": {},
   "outputs": [],
   "source": [
    "velocity_parsed_columns = [col for col in MERGED_LFP_AND_SLEAP.columns if \"all_band_velocity_parsed_power\" in col]"
   ]
  },
  {
   "cell_type": "code",
   "execution_count": 27,
   "metadata": {},
   "outputs": [
    {
     "data": {
      "text/plain": [
       "['mPFC_baseline_all_band_velocity_parsed_power',\n",
       " 'vHPC_baseline_all_band_velocity_parsed_power',\n",
       " 'BLA_baseline_all_band_velocity_parsed_power',\n",
       " 'LH_baseline_all_band_velocity_parsed_power',\n",
       " 'MD_baseline_all_band_velocity_parsed_power',\n",
       " 'mPFC_trial_all_band_velocity_parsed_power',\n",
       " 'vHPC_trial_all_band_velocity_parsed_power',\n",
       " 'BLA_trial_all_band_velocity_parsed_power',\n",
       " 'LH_trial_all_band_velocity_parsed_power',\n",
       " 'MD_trial_all_band_velocity_parsed_power']"
      ]
     },
     "execution_count": 27,
     "metadata": {},
     "output_type": "execute_result"
    }
   ],
   "source": [
    "velocity_parsed_columns"
   ]
  },
  {
   "cell_type": "code",
   "execution_count": 28,
   "metadata": {},
   "outputs": [
    {
     "data": {
      "text/plain": [
       "(500,)"
      ]
     },
     "execution_count": 28,
     "metadata": {},
     "output_type": "execute_result"
    }
   ],
   "source": [
    "MERGED_LFP_AND_SLEAP[velocity_parsed_columns[0]].iloc[0].shape"
   ]
  },
  {
   "cell_type": "code",
   "execution_count": 29,
   "metadata": {},
   "outputs": [
    {
     "name": "stdout",
     "output_type": "stream",
     "text": [
      "mPFC_baseline\n",
      "vHPC_baseline\n",
      "BLA_baseline\n",
      "LH_baseline\n",
      "MD_baseline\n",
      "mPFC_trial\n",
      "vHPC_trial\n",
      "BLA_trial\n",
      "LH_trial\n",
      "MD_trial\n"
     ]
    }
   ],
   "source": [
    "for col in velocity_parsed_columns:\n",
    "    region_and_baseline_or_trial = \"_\".join(col.split(\"_\")[:2])\n",
    "    print(region_and_baseline_or_trial)\n",
    "    for band, (freq_start, freq_end) in BAND_TO_FREQUENCY.items():\n",
    "        band_col = \"{}_{}_all_velocity_parsed_power\".format(region_and_baseline_or_trial, band)\n",
    "        MERGED_LFP_AND_SLEAP[band_col] = MERGED_LFP_AND_SLEAP[col].apply(lambda x: x[freq_start:freq_end])\n",
    "        MERGED_LFP_AND_SLEAP[\"{}_{}_averaged_velocity_parsed_power\".format(region_and_baseline_or_trial, band)] = MERGED_LFP_AND_SLEAP[band_col].apply(lambda x: x.mean())"
   ]
  },
  {
   "cell_type": "code",
   "execution_count": 30,
   "metadata": {},
   "outputs": [
    {
     "data": {
      "text/plain": [
       "(61,)"
      ]
     },
     "execution_count": 30,
     "metadata": {},
     "output_type": "execute_result"
    }
   ],
   "source": [
    "MERGED_LFP_AND_SLEAP[band_col].iloc[0].shape"
   ]
  },
  {
   "cell_type": "markdown",
   "metadata": {},
   "source": [
    "# Regressing with power of all windows"
   ]
  },
  {
   "cell_type": "code",
   "execution_count": 31,
   "metadata": {},
   "outputs": [],
   "source": [
    "baseline_averaged_all_power_columns = [col for col in MERGED_LFP_AND_SLEAP.columns if \"averaged_not_parsed_power\" in col and \"baseline\" in col]\n",
    "trial_averaged_all_power_columns = [col for col in MERGED_LFP_AND_SLEAP.columns if \"averaged_not_parsed_power\" in col and \"trial\" in col]"
   ]
  },
  {
   "cell_type": "code",
   "execution_count": 32,
   "metadata": {},
   "outputs": [
    {
     "data": {
      "text/html": [
       "<div>\n",
       "<style scoped>\n",
       "    .dataframe tbody tr th:only-of-type {\n",
       "        vertical-align: middle;\n",
       "    }\n",
       "\n",
       "    .dataframe tbody tr th {\n",
       "        vertical-align: top;\n",
       "    }\n",
       "\n",
       "    .dataframe thead th {\n",
       "        text-align: right;\n",
       "    }\n",
       "</style>\n",
       "<table border=\"1\" class=\"dataframe\">\n",
       "  <thead>\n",
       "    <tr style=\"text-align: right;\">\n",
       "      <th></th>\n",
       "      <th>trial_outcome</th>\n",
       "      <th>current_subject</th>\n",
       "      <th>mPFC_trial_theta_averaged_not_parsed_power</th>\n",
       "      <th>mPFC_trial_beta_averaged_not_parsed_power</th>\n",
       "      <th>mPFC_trial_gamma_averaged_not_parsed_power</th>\n",
       "      <th>vHPC_trial_theta_averaged_not_parsed_power</th>\n",
       "      <th>vHPC_trial_beta_averaged_not_parsed_power</th>\n",
       "      <th>vHPC_trial_gamma_averaged_not_parsed_power</th>\n",
       "      <th>BLA_trial_theta_averaged_not_parsed_power</th>\n",
       "      <th>BLA_trial_beta_averaged_not_parsed_power</th>\n",
       "      <th>BLA_trial_gamma_averaged_not_parsed_power</th>\n",
       "      <th>LH_trial_theta_averaged_not_parsed_power</th>\n",
       "      <th>LH_trial_beta_averaged_not_parsed_power</th>\n",
       "      <th>LH_trial_gamma_averaged_not_parsed_power</th>\n",
       "      <th>MD_trial_theta_averaged_not_parsed_power</th>\n",
       "      <th>MD_trial_beta_averaged_not_parsed_power</th>\n",
       "      <th>MD_trial_gamma_averaged_not_parsed_power</th>\n",
       "    </tr>\n",
       "  </thead>\n",
       "  <tbody>\n",
       "    <tr>\n",
       "      <th>273</th>\n",
       "      <td>rewarded</td>\n",
       "      <td>1.4</td>\n",
       "      <td>0.023695</td>\n",
       "      <td>0.007114</td>\n",
       "      <td>0.001893</td>\n",
       "      <td>0.020897</td>\n",
       "      <td>0.004825</td>\n",
       "      <td>0.001610</td>\n",
       "      <td>0.017736</td>\n",
       "      <td>0.003967</td>\n",
       "      <td>0.003235</td>\n",
       "      <td>0.022325</td>\n",
       "      <td>0.003919</td>\n",
       "      <td>0.000860</td>\n",
       "      <td>0.022419</td>\n",
       "      <td>0.003985</td>\n",
       "      <td>0.000852</td>\n",
       "    </tr>\n",
       "    <tr>\n",
       "      <th>274</th>\n",
       "      <td>rewarded</td>\n",
       "      <td>1.4</td>\n",
       "      <td>0.040295</td>\n",
       "      <td>0.007451</td>\n",
       "      <td>0.001728</td>\n",
       "      <td>0.021682</td>\n",
       "      <td>0.005465</td>\n",
       "      <td>0.001767</td>\n",
       "      <td>0.019834</td>\n",
       "      <td>0.004298</td>\n",
       "      <td>0.002908</td>\n",
       "      <td>0.028594</td>\n",
       "      <td>0.004365</td>\n",
       "      <td>0.001033</td>\n",
       "      <td>0.030841</td>\n",
       "      <td>0.004291</td>\n",
       "      <td>0.001021</td>\n",
       "    </tr>\n",
       "    <tr>\n",
       "      <th>275</th>\n",
       "      <td>rewarded</td>\n",
       "      <td>1.4</td>\n",
       "      <td>0.027281</td>\n",
       "      <td>0.007655</td>\n",
       "      <td>0.001895</td>\n",
       "      <td>0.022030</td>\n",
       "      <td>0.005326</td>\n",
       "      <td>0.001846</td>\n",
       "      <td>0.020002</td>\n",
       "      <td>0.003575</td>\n",
       "      <td>0.003216</td>\n",
       "      <td>0.026309</td>\n",
       "      <td>0.003723</td>\n",
       "      <td>0.001041</td>\n",
       "      <td>0.027710</td>\n",
       "      <td>0.003816</td>\n",
       "      <td>0.001025</td>\n",
       "    </tr>\n",
       "    <tr>\n",
       "      <th>276</th>\n",
       "      <td>omission</td>\n",
       "      <td>1.4</td>\n",
       "      <td>0.059785</td>\n",
       "      <td>0.009710</td>\n",
       "      <td>0.001760</td>\n",
       "      <td>0.024118</td>\n",
       "      <td>0.005409</td>\n",
       "      <td>0.001648</td>\n",
       "      <td>0.016689</td>\n",
       "      <td>0.004602</td>\n",
       "      <td>0.003144</td>\n",
       "      <td>0.033249</td>\n",
       "      <td>0.005420</td>\n",
       "      <td>0.000973</td>\n",
       "      <td>0.033702</td>\n",
       "      <td>0.005406</td>\n",
       "      <td>0.000933</td>\n",
       "    </tr>\n",
       "    <tr>\n",
       "      <th>277</th>\n",
       "      <td>rewarded</td>\n",
       "      <td>1.4</td>\n",
       "      <td>0.027831</td>\n",
       "      <td>0.006786</td>\n",
       "      <td>0.001905</td>\n",
       "      <td>0.018489</td>\n",
       "      <td>0.005030</td>\n",
       "      <td>0.001784</td>\n",
       "      <td>0.017638</td>\n",
       "      <td>0.004011</td>\n",
       "      <td>0.003149</td>\n",
       "      <td>0.026300</td>\n",
       "      <td>0.004047</td>\n",
       "      <td>0.001009</td>\n",
       "      <td>0.027307</td>\n",
       "      <td>0.003858</td>\n",
       "      <td>0.000988</td>\n",
       "    </tr>\n",
       "  </tbody>\n",
       "</table>\n",
       "</div>"
      ],
      "text/plain": [
       "    trial_outcome current_subject  mPFC_trial_theta_averaged_not_parsed_power  \\\n",
       "273      rewarded             1.4                                    0.023695   \n",
       "274      rewarded             1.4                                    0.040295   \n",
       "275      rewarded             1.4                                    0.027281   \n",
       "276      omission             1.4                                    0.059785   \n",
       "277      rewarded             1.4                                    0.027831   \n",
       "\n",
       "     mPFC_trial_beta_averaged_not_parsed_power  \\\n",
       "273                                   0.007114   \n",
       "274                                   0.007451   \n",
       "275                                   0.007655   \n",
       "276                                   0.009710   \n",
       "277                                   0.006786   \n",
       "\n",
       "     mPFC_trial_gamma_averaged_not_parsed_power  \\\n",
       "273                                    0.001893   \n",
       "274                                    0.001728   \n",
       "275                                    0.001895   \n",
       "276                                    0.001760   \n",
       "277                                    0.001905   \n",
       "\n",
       "     vHPC_trial_theta_averaged_not_parsed_power  \\\n",
       "273                                    0.020897   \n",
       "274                                    0.021682   \n",
       "275                                    0.022030   \n",
       "276                                    0.024118   \n",
       "277                                    0.018489   \n",
       "\n",
       "     vHPC_trial_beta_averaged_not_parsed_power  \\\n",
       "273                                   0.004825   \n",
       "274                                   0.005465   \n",
       "275                                   0.005326   \n",
       "276                                   0.005409   \n",
       "277                                   0.005030   \n",
       "\n",
       "     vHPC_trial_gamma_averaged_not_parsed_power  \\\n",
       "273                                    0.001610   \n",
       "274                                    0.001767   \n",
       "275                                    0.001846   \n",
       "276                                    0.001648   \n",
       "277                                    0.001784   \n",
       "\n",
       "     BLA_trial_theta_averaged_not_parsed_power  \\\n",
       "273                                   0.017736   \n",
       "274                                   0.019834   \n",
       "275                                   0.020002   \n",
       "276                                   0.016689   \n",
       "277                                   0.017638   \n",
       "\n",
       "     BLA_trial_beta_averaged_not_parsed_power  \\\n",
       "273                                  0.003967   \n",
       "274                                  0.004298   \n",
       "275                                  0.003575   \n",
       "276                                  0.004602   \n",
       "277                                  0.004011   \n",
       "\n",
       "     BLA_trial_gamma_averaged_not_parsed_power  \\\n",
       "273                                   0.003235   \n",
       "274                                   0.002908   \n",
       "275                                   0.003216   \n",
       "276                                   0.003144   \n",
       "277                                   0.003149   \n",
       "\n",
       "     LH_trial_theta_averaged_not_parsed_power  \\\n",
       "273                                  0.022325   \n",
       "274                                  0.028594   \n",
       "275                                  0.026309   \n",
       "276                                  0.033249   \n",
       "277                                  0.026300   \n",
       "\n",
       "     LH_trial_beta_averaged_not_parsed_power  \\\n",
       "273                                 0.003919   \n",
       "274                                 0.004365   \n",
       "275                                 0.003723   \n",
       "276                                 0.005420   \n",
       "277                                 0.004047   \n",
       "\n",
       "     LH_trial_gamma_averaged_not_parsed_power  \\\n",
       "273                                  0.000860   \n",
       "274                                  0.001033   \n",
       "275                                  0.001041   \n",
       "276                                  0.000973   \n",
       "277                                  0.001009   \n",
       "\n",
       "     MD_trial_theta_averaged_not_parsed_power  \\\n",
       "273                                  0.022419   \n",
       "274                                  0.030841   \n",
       "275                                  0.027710   \n",
       "276                                  0.033702   \n",
       "277                                  0.027307   \n",
       "\n",
       "     MD_trial_beta_averaged_not_parsed_power  \\\n",
       "273                                 0.003985   \n",
       "274                                 0.004291   \n",
       "275                                 0.003816   \n",
       "276                                 0.005406   \n",
       "277                                 0.003858   \n",
       "\n",
       "     MD_trial_gamma_averaged_not_parsed_power  \n",
       "273                                  0.000852  \n",
       "274                                  0.001021  \n",
       "275                                  0.001025  \n",
       "276                                  0.000933  \n",
       "277                                  0.000988  "
      ]
     },
     "execution_count": 32,
     "metadata": {},
     "output_type": "execute_result"
    }
   ],
   "source": [
    "MERGED_LFP_AND_SLEAP[[\"trial_outcome\", \"current_subject\"] + trial_averaged_all_power_columns].tail()"
   ]
  },
  {
   "cell_type": "markdown",
   "metadata": {},
   "source": [
    "# Regressing with power of all windows"
   ]
  },
  {
   "cell_type": "code",
   "execution_count": 33,
   "metadata": {},
   "outputs": [],
   "source": [
    "baseline_velocity_all_power_columns = [col for col in MERGED_LFP_AND_SLEAP.columns if \"averaged_velocity_parsed_power\" in col and \"baseline\" in col]\n",
    "trial_velocity_all_power_columns = [col for col in MERGED_LFP_AND_SLEAP.columns if \"averaged_velocity_parsed_power\" in col and \"trial\" in col]"
   ]
  },
  {
   "cell_type": "code",
   "execution_count": 34,
   "metadata": {},
   "outputs": [
    {
     "data": {
      "text/html": [
       "<div>\n",
       "<style scoped>\n",
       "    .dataframe tbody tr th:only-of-type {\n",
       "        vertical-align: middle;\n",
       "    }\n",
       "\n",
       "    .dataframe tbody tr th {\n",
       "        vertical-align: top;\n",
       "    }\n",
       "\n",
       "    .dataframe thead th {\n",
       "        text-align: right;\n",
       "    }\n",
       "</style>\n",
       "<table border=\"1\" class=\"dataframe\">\n",
       "  <thead>\n",
       "    <tr style=\"text-align: right;\">\n",
       "      <th></th>\n",
       "      <th>trial_outcome</th>\n",
       "      <th>current_subject</th>\n",
       "      <th>mPFC_trial_theta_averaged_velocity_parsed_power</th>\n",
       "      <th>mPFC_trial_beta_averaged_velocity_parsed_power</th>\n",
       "      <th>mPFC_trial_gamma_averaged_velocity_parsed_power</th>\n",
       "      <th>vHPC_trial_theta_averaged_velocity_parsed_power</th>\n",
       "      <th>vHPC_trial_beta_averaged_velocity_parsed_power</th>\n",
       "      <th>vHPC_trial_gamma_averaged_velocity_parsed_power</th>\n",
       "      <th>BLA_trial_theta_averaged_velocity_parsed_power</th>\n",
       "      <th>BLA_trial_beta_averaged_velocity_parsed_power</th>\n",
       "      <th>BLA_trial_gamma_averaged_velocity_parsed_power</th>\n",
       "      <th>LH_trial_theta_averaged_velocity_parsed_power</th>\n",
       "      <th>LH_trial_beta_averaged_velocity_parsed_power</th>\n",
       "      <th>LH_trial_gamma_averaged_velocity_parsed_power</th>\n",
       "      <th>MD_trial_theta_averaged_velocity_parsed_power</th>\n",
       "      <th>MD_trial_beta_averaged_velocity_parsed_power</th>\n",
       "      <th>MD_trial_gamma_averaged_velocity_parsed_power</th>\n",
       "    </tr>\n",
       "  </thead>\n",
       "  <tbody>\n",
       "    <tr>\n",
       "      <th>273</th>\n",
       "      <td>rewarded</td>\n",
       "      <td>1.4</td>\n",
       "      <td>0.023695</td>\n",
       "      <td>0.007114</td>\n",
       "      <td>0.001893</td>\n",
       "      <td>0.020897</td>\n",
       "      <td>0.004825</td>\n",
       "      <td>0.001610</td>\n",
       "      <td>0.017736</td>\n",
       "      <td>0.003967</td>\n",
       "      <td>0.003235</td>\n",
       "      <td>0.022325</td>\n",
       "      <td>0.003919</td>\n",
       "      <td>0.000860</td>\n",
       "      <td>0.022419</td>\n",
       "      <td>0.003985</td>\n",
       "      <td>0.000852</td>\n",
       "    </tr>\n",
       "    <tr>\n",
       "      <th>274</th>\n",
       "      <td>rewarded</td>\n",
       "      <td>1.4</td>\n",
       "      <td>0.040295</td>\n",
       "      <td>0.007451</td>\n",
       "      <td>0.001728</td>\n",
       "      <td>0.021682</td>\n",
       "      <td>0.005465</td>\n",
       "      <td>0.001767</td>\n",
       "      <td>0.019834</td>\n",
       "      <td>0.004298</td>\n",
       "      <td>0.002908</td>\n",
       "      <td>0.028594</td>\n",
       "      <td>0.004365</td>\n",
       "      <td>0.001033</td>\n",
       "      <td>0.030841</td>\n",
       "      <td>0.004291</td>\n",
       "      <td>0.001021</td>\n",
       "    </tr>\n",
       "    <tr>\n",
       "      <th>275</th>\n",
       "      <td>rewarded</td>\n",
       "      <td>1.4</td>\n",
       "      <td>0.027643</td>\n",
       "      <td>0.007592</td>\n",
       "      <td>0.001870</td>\n",
       "      <td>0.022830</td>\n",
       "      <td>0.005460</td>\n",
       "      <td>0.001864</td>\n",
       "      <td>0.020437</td>\n",
       "      <td>0.003677</td>\n",
       "      <td>0.003231</td>\n",
       "      <td>0.026757</td>\n",
       "      <td>0.003757</td>\n",
       "      <td>0.001050</td>\n",
       "      <td>0.028218</td>\n",
       "      <td>0.003866</td>\n",
       "      <td>0.001030</td>\n",
       "    </tr>\n",
       "    <tr>\n",
       "      <th>276</th>\n",
       "      <td>omission</td>\n",
       "      <td>1.4</td>\n",
       "      <td>0.055526</td>\n",
       "      <td>0.009554</td>\n",
       "      <td>0.001794</td>\n",
       "      <td>0.023252</td>\n",
       "      <td>0.005311</td>\n",
       "      <td>0.001650</td>\n",
       "      <td>0.016373</td>\n",
       "      <td>0.004554</td>\n",
       "      <td>0.003136</td>\n",
       "      <td>0.030858</td>\n",
       "      <td>0.005348</td>\n",
       "      <td>0.000976</td>\n",
       "      <td>0.031672</td>\n",
       "      <td>0.005256</td>\n",
       "      <td>0.000939</td>\n",
       "    </tr>\n",
       "    <tr>\n",
       "      <th>277</th>\n",
       "      <td>rewarded</td>\n",
       "      <td>1.4</td>\n",
       "      <td>0.027850</td>\n",
       "      <td>0.006825</td>\n",
       "      <td>0.001915</td>\n",
       "      <td>0.018656</td>\n",
       "      <td>0.004978</td>\n",
       "      <td>0.001778</td>\n",
       "      <td>0.017730</td>\n",
       "      <td>0.003863</td>\n",
       "      <td>0.003170</td>\n",
       "      <td>0.025871</td>\n",
       "      <td>0.003942</td>\n",
       "      <td>0.001009</td>\n",
       "      <td>0.027130</td>\n",
       "      <td>0.003754</td>\n",
       "      <td>0.000989</td>\n",
       "    </tr>\n",
       "  </tbody>\n",
       "</table>\n",
       "</div>"
      ],
      "text/plain": [
       "    trial_outcome current_subject  \\\n",
       "273      rewarded             1.4   \n",
       "274      rewarded             1.4   \n",
       "275      rewarded             1.4   \n",
       "276      omission             1.4   \n",
       "277      rewarded             1.4   \n",
       "\n",
       "     mPFC_trial_theta_averaged_velocity_parsed_power  \\\n",
       "273                                         0.023695   \n",
       "274                                         0.040295   \n",
       "275                                         0.027643   \n",
       "276                                         0.055526   \n",
       "277                                         0.027850   \n",
       "\n",
       "     mPFC_trial_beta_averaged_velocity_parsed_power  \\\n",
       "273                                        0.007114   \n",
       "274                                        0.007451   \n",
       "275                                        0.007592   \n",
       "276                                        0.009554   \n",
       "277                                        0.006825   \n",
       "\n",
       "     mPFC_trial_gamma_averaged_velocity_parsed_power  \\\n",
       "273                                         0.001893   \n",
       "274                                         0.001728   \n",
       "275                                         0.001870   \n",
       "276                                         0.001794   \n",
       "277                                         0.001915   \n",
       "\n",
       "     vHPC_trial_theta_averaged_velocity_parsed_power  \\\n",
       "273                                         0.020897   \n",
       "274                                         0.021682   \n",
       "275                                         0.022830   \n",
       "276                                         0.023252   \n",
       "277                                         0.018656   \n",
       "\n",
       "     vHPC_trial_beta_averaged_velocity_parsed_power  \\\n",
       "273                                        0.004825   \n",
       "274                                        0.005465   \n",
       "275                                        0.005460   \n",
       "276                                        0.005311   \n",
       "277                                        0.004978   \n",
       "\n",
       "     vHPC_trial_gamma_averaged_velocity_parsed_power  \\\n",
       "273                                         0.001610   \n",
       "274                                         0.001767   \n",
       "275                                         0.001864   \n",
       "276                                         0.001650   \n",
       "277                                         0.001778   \n",
       "\n",
       "     BLA_trial_theta_averaged_velocity_parsed_power  \\\n",
       "273                                        0.017736   \n",
       "274                                        0.019834   \n",
       "275                                        0.020437   \n",
       "276                                        0.016373   \n",
       "277                                        0.017730   \n",
       "\n",
       "     BLA_trial_beta_averaged_velocity_parsed_power  \\\n",
       "273                                       0.003967   \n",
       "274                                       0.004298   \n",
       "275                                       0.003677   \n",
       "276                                       0.004554   \n",
       "277                                       0.003863   \n",
       "\n",
       "     BLA_trial_gamma_averaged_velocity_parsed_power  \\\n",
       "273                                        0.003235   \n",
       "274                                        0.002908   \n",
       "275                                        0.003231   \n",
       "276                                        0.003136   \n",
       "277                                        0.003170   \n",
       "\n",
       "     LH_trial_theta_averaged_velocity_parsed_power  \\\n",
       "273                                       0.022325   \n",
       "274                                       0.028594   \n",
       "275                                       0.026757   \n",
       "276                                       0.030858   \n",
       "277                                       0.025871   \n",
       "\n",
       "     LH_trial_beta_averaged_velocity_parsed_power  \\\n",
       "273                                      0.003919   \n",
       "274                                      0.004365   \n",
       "275                                      0.003757   \n",
       "276                                      0.005348   \n",
       "277                                      0.003942   \n",
       "\n",
       "     LH_trial_gamma_averaged_velocity_parsed_power  \\\n",
       "273                                       0.000860   \n",
       "274                                       0.001033   \n",
       "275                                       0.001050   \n",
       "276                                       0.000976   \n",
       "277                                       0.001009   \n",
       "\n",
       "     MD_trial_theta_averaged_velocity_parsed_power  \\\n",
       "273                                       0.022419   \n",
       "274                                       0.030841   \n",
       "275                                       0.028218   \n",
       "276                                       0.031672   \n",
       "277                                       0.027130   \n",
       "\n",
       "     MD_trial_beta_averaged_velocity_parsed_power  \\\n",
       "273                                      0.003985   \n",
       "274                                      0.004291   \n",
       "275                                      0.003866   \n",
       "276                                      0.005256   \n",
       "277                                      0.003754   \n",
       "\n",
       "     MD_trial_gamma_averaged_velocity_parsed_power  \n",
       "273                                       0.000852  \n",
       "274                                       0.001021  \n",
       "275                                       0.001030  \n",
       "276                                       0.000939  \n",
       "277                                       0.000989  "
      ]
     },
     "execution_count": 34,
     "metadata": {},
     "output_type": "execute_result"
    }
   ],
   "source": [
    "MERGED_LFP_AND_SLEAP[[\"trial_outcome\", \"current_subject\"] + trial_velocity_all_power_columns].tail()"
   ]
  },
  {
   "cell_type": "code",
   "execution_count": null,
   "metadata": {},
   "outputs": [],
   "source": []
  }
 ],
 "metadata": {
  "deepnote": {},
  "deepnote_execution_queue": [],
  "deepnote_notebook_id": "cf8fe3695d074ee7887fdf6459cbf5ce",
  "kernelspec": {
   "display_name": "Python 3 (ipykernel)",
   "language": "python",
   "name": "python3"
  },
  "language_info": {
   "codemirror_mode": {
    "name": "ipython",
    "version": 3
   },
   "file_extension": ".py",
   "mimetype": "text/x-python",
   "name": "python",
   "nbconvert_exporter": "python",
   "pygments_lexer": "ipython3",
   "version": "3.9.16"
  }
 },
 "nbformat": 4,
 "nbformat_minor": 4
}
