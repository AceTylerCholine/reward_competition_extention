{
 "cells": [
  {
   "cell_type": "markdown",
   "metadata": {
    "cell_id": "c3a02adc9e884466bc8c79db549cc3d2",
    "deepnote_cell_type": "text-cell-h1",
    "formattedRanges": [
     {
      "fromCodePoint": 0,
      "marks": {
       "bold": true,
       "underline": true
      },
      "toCodePoint": 17,
      "type": "marks"
     }
    ]
   },
   "source": [
    "# Title of notebook"
   ]
  },
  {
   "cell_type": "markdown",
   "metadata": {
    "cell_id": "4546bee655b14a5dbf393161f1228e60",
    "deepnote_cell_type": "text-cell-p",
    "formattedRanges": []
   },
   "source": [
    "Brief 1-2 sentence description of notebook."
   ]
  },
  {
   "cell_type": "code",
   "execution_count": 1,
   "metadata": {},
   "outputs": [],
   "source": [
    "import warnings\n",
    "warnings.filterwarnings(\"ignore\")"
   ]
  },
  {
   "cell_type": "code",
   "execution_count": 2,
   "metadata": {
    "cell_id": "03b495cefa6a4798a44c7f2e4c6a3ea7",
    "deepnote_cell_type": "code",
    "deepnote_to_be_reexecuted": false,
    "execution_millis": 21,
    "execution_start": 1691424003626,
    "source_hash": null
   },
   "outputs": [],
   "source": [
    "# Imports of all used packages and libraries\n",
    "import os\n",
    "import glob\n",
    "import bisect\n",
    "\n",
    "import numpy as np\n",
    "import pandas as pd\n",
    "import matplotlib.pyplot as plt\n",
    "import itertools\n",
    "import seaborn as sns\n",
    "from scipy.signal import butter, filtfilt, hilbert\n"
   ]
  },
  {
   "cell_type": "code",
   "execution_count": 3,
   "metadata": {},
   "outputs": [],
   "source": [
    "import spikeinterface.extractors as se\n",
    "import spikeinterface.preprocessing as sp"
   ]
  },
  {
   "cell_type": "code",
   "execution_count": null,
   "metadata": {},
   "outputs": [],
   "source": []
  },
  {
   "cell_type": "code",
   "execution_count": 4,
   "metadata": {},
   "outputs": [],
   "source": [
    "from sklearn import preprocessing as pre\n",
    "\n"
   ]
  },
  {
   "cell_type": "code",
   "execution_count": 5,
   "metadata": {},
   "outputs": [],
   "source": [
    "import math"
   ]
  },
  {
   "cell_type": "code",
   "execution_count": 6,
   "metadata": {},
   "outputs": [],
   "source": [
    "from collections import defaultdict"
   ]
  },
  {
   "cell_type": "code",
   "execution_count": 7,
   "metadata": {},
   "outputs": [],
   "source": [
    "import numpy as np\n",
    "from astropy.stats import rayleightest\n",
    "from astropy import units as u\n"
   ]
  },
  {
   "cell_type": "markdown",
   "metadata": {
    "cell_id": "d290bac2c17940bfbc0f9296beaf70e5",
    "deepnote_cell_type": "text-cell-h2",
    "formattedRanges": []
   },
   "source": [
    "## Inputs & Data"
   ]
  },
  {
   "cell_type": "markdown",
   "metadata": {
    "cell_id": "e528ce19c608425292151930d380f49f",
    "deepnote_cell_type": "text-cell-p",
    "formattedRanges": []
   },
   "source": [
    "Explanation of each input and where it comes from."
   ]
  },
  {
   "cell_type": "code",
   "execution_count": 8,
   "metadata": {
    "cell_id": "6cf83a5811054461a718a71673d09aab",
    "deepnote_cell_type": "code",
    "deepnote_to_be_reexecuted": false,
    "execution_millis": 373,
    "execution_start": 1691424003628,
    "source_hash": null
   },
   "outputs": [],
   "source": [
    "# Inputs and Required data loading\n",
    "# input varaible names are in all caps snake case\n",
    "# Whenever an input changes or is used for processing \n",
    "# the vairables are all lower in snake case\n",
    "OUTPUT_DIR = r\"./proc/\" # where data is saved should always be shown in the inputs\n",
    "os.makedirs(OUTPUT_DIR, exist_ok=True)"
   ]
  },
  {
   "cell_type": "raw",
   "metadata": {},
   "source": [
    "CHANNEL_MAPPING_DF = pd.read_excel(\"../../data/channel_mapping.xlsx\")\n",
    "TONE_TIMESTAMP_DF = pd.read_excel(\"../../data/rce_tone_timestamp.xlsx\", index_col=0)\n",
    "BASIC_LFP_TRACES_DF = pd.read_pickle(\"./proc/full_baseline_and_trial_lfp_traces.pkl\")\n",
    "MERGED_SPIKE_TRIAL_DF = pd.read_pickle(\"./proc/merged_spike_trial.pkl\")"
   ]
  },
  {
   "cell_type": "code",
   "execution_count": 9,
   "metadata": {},
   "outputs": [],
   "source": [
    "TIME_HALFBANDWIDTH_PRODUCT = 2\n",
    "TIME_WINDOW_DURATION = 1\n",
    "TIME_WINDOW_STEP = 0.5\n",
    "RESAMPLE_RATE=1000\n",
    "LFP_SAMPLING_RATE=1000\n",
    "EPHYS_SAMPLING_RATE=20000\n",
    "TRIAL_DURATION=10"
   ]
  },
  {
   "cell_type": "code",
   "execution_count": 10,
   "metadata": {},
   "outputs": [],
   "source": [
    "TRIAL_OR_BASELINE_TO_STYLE = {'baseline': \"--\", \"trial\": \"-\"}"
   ]
  },
  {
   "cell_type": "code",
   "execution_count": 11,
   "metadata": {},
   "outputs": [],
   "source": [
    "BASELINE_OUTCOME_TO_COLOR = {'lose': \"red\",\n",
    " 'omission': \"orange\",\n",
    " 'rewarded': \"green\",\n",
    " 'win': \"blue\"}"
   ]
  },
  {
   "cell_type": "code",
   "execution_count": 12,
   "metadata": {},
   "outputs": [],
   "source": [
    "ORDER=4\n",
    "FREQ_BAND = [3, 12]\n",
    "numerator_b, denominator_a = butter(ORDER, FREQ_BAND, fs=LFP_SAMPLING_RATE, btype='band')"
   ]
  },
  {
   "cell_type": "markdown",
   "metadata": {
    "cell_id": "e3ee4891d43a4ac287413afc552ca289",
    "deepnote_cell_type": "text-cell-h2",
    "formattedRanges": []
   },
   "source": [
    "## Outputs"
   ]
  },
  {
   "cell_type": "markdown",
   "metadata": {
    "cell_id": "9ccbf6cc70fd4d379fa29317f733771f",
    "deepnote_cell_type": "text-cell-p",
    "formattedRanges": []
   },
   "source": [
    "Describe each output that the notebook creates. "
   ]
  },
  {
   "cell_type": "markdown",
   "metadata": {
    "cell_id": "fc8e8920a6944918a15fac575cdf6e78",
    "deepnote_cell_type": "text-cell-bullet",
    "formattedRanges": []
   },
   "source": [
    "- Is it a plot or is it data?"
   ]
  },
  {
   "cell_type": "markdown",
   "metadata": {
    "cell_id": "1e639d4776a84aa9ac8ded2e14fa57db",
    "deepnote_cell_type": "text-cell-bullet",
    "formattedRanges": []
   },
   "source": [
    "- How valuable is the output and why is it valuable or useful?"
   ]
  },
  {
   "cell_type": "markdown",
   "metadata": {},
   "source": [
    "# Functions"
   ]
  },
  {
   "cell_type": "code",
   "execution_count": 13,
   "metadata": {
    "cell_id": "89aaba237c644628b1b37604b75e7cb1",
    "deepnote_cell_type": "code"
   },
   "outputs": [],
   "source": [
    "# As much code and as many cells as required\n",
    "# includes EDA and playing with data\n",
    "# GO HAM!\n",
    "\n",
    "# Ideally functions are defined here first and then data is processed using the functions\n",
    "\n",
    "# function names are short and in snake case all lowercase\n",
    "# a function name should be unique but does not have to describe the function\n",
    "# doc strings describe functions not function names\n",
    "\n",
    "def calc_bmi(weight, height):\n",
    "    \"\"\"\n",
    "    This is a function that calculates BMI.\n",
    "    it uses height and weight...etc.\n",
    "    Meghan plz show us your docsctring format here.\n",
    "    \"\"\"\n",
    "    bmi = weight/(height**2)\n",
    "    return(bmi)\n"
   ]
  },
  {
   "cell_type": "code",
   "execution_count": 14,
   "metadata": {},
   "outputs": [],
   "source": [
    "def PPC(spike_phases):\n",
    "    sp_complex = map(lambda x: [math.cos(x), math.sin(x)], spike_phases)\n",
    "    all_com = list(itertools.combinations(sp_complex , 2))\n",
    "    dp_array = np.empty(int(len(spike_phases) * (len(spike_phases) - 1) / 2))\n",
    "    for d, combination in enumerate(all_com):\n",
    "        dp = np.dot(combination[0], combination[1])\n",
    "        dp_array[d] = dp\n",
    "    dp_sum = np.sum(dp_array)\n",
    "    ppc = dp_sum / len(dp_array)\n",
    "    return ppc\n"
   ]
  },
  {
   "cell_type": "code",
   "execution_count": 15,
   "metadata": {},
   "outputs": [],
   "source": [
    "\n",
    "def find_closest_nums(list1, list2):\n",
    "    \"\"\"\n",
    "    For each number in list1, find the closest number in list2.\n",
    "\n",
    "    Args:\n",
    "    - list1 (list): An ORDERed list of numbers.\n",
    "    - list2 (list): Another ORDERed list of numbers.\n",
    "\n",
    "    Returns:\n",
    "    - list: A list of closest numbers from list2 for each number in list1.\n",
    "    \"\"\"\n",
    "    closest_nums = []\n",
    "\n",
    "    for num in list1:\n",
    "        # Find where the number would be inserted in list2\n",
    "        position = bisect.bisect_left(list2, num)\n",
    "\n",
    "        # If the number is actually present in list2, then return it\n",
    "        if position != len(list2) and list2[position] == num:\n",
    "            closest_nums.append(num)\n",
    "        # Else find the closest of the two neighbors\n",
    "        else:\n",
    "            if position == 0:\n",
    "                closest_nums.append(list2[0])\n",
    "            elif position == len(list2):\n",
    "                closest_nums.append(list2[-1])\n",
    "            else:\n",
    "                before = list2[position - 1]\n",
    "                after = list2[position]\n",
    "                closest_nums.append(before if num - before <= after - num else after)\n",
    "\n",
    "    return closest_nums\n",
    "\n"
   ]
  },
  {
   "cell_type": "code",
   "execution_count": 16,
   "metadata": {},
   "outputs": [],
   "source": [
    "def find_closest_indices(list1, list2):\n",
    "    \"\"\"\n",
    "    For each number in list1, find the index of the closest number in list2.\n",
    "\n",
    "    Args:\n",
    "    - list1 (list): An ORDERed list of numbers.\n",
    "    - list2 (list): Another ORDERed list of numbers.\n",
    "\n",
    "    Returns:\n",
    "    - list: A list of indices of the closest numbers from list2 for each number in list1.\n",
    "    \"\"\"\n",
    "    closest_indices = []\n",
    "\n",
    "    for num in list1:\n",
    "        # Find where the number would be inserted in list2\n",
    "        position = bisect.bisect_left(list2, num)\n",
    "\n",
    "        # If the number is actually present in list2, then return its index\n",
    "        if position != len(list2) and list2[position] == num:\n",
    "            closest_indices.append(position)\n",
    "        # Else find the index of the closest of the two neighbors\n",
    "        else:\n",
    "            if position == 0:\n",
    "                closest_indices.append(0)\n",
    "            elif position == len(list2):\n",
    "                closest_indices.append(len(list2) - 1)\n",
    "            else:\n",
    "                before = list2[position - 1]\n",
    "                after = list2[position]\n",
    "                closest_indices.append(position - 1 if num - before <= after - num else position)\n",
    "\n",
    "    return closest_indices\n"
   ]
  },
  {
   "cell_type": "markdown",
   "metadata": {
    "cell_id": "8999d19b6b7d4d63bc90f0b0bd9ab085",
    "deepnote_cell_type": "text-cell-h2",
    "formattedRanges": []
   },
   "source": [
    "## Processing"
   ]
  },
  {
   "cell_type": "markdown",
   "metadata": {
    "cell_id": "9b36cdf08567463082b005cb0dec684b",
    "deepnote_cell_type": "text-cell-p",
    "formattedRanges": []
   },
   "source": [
    "Describe what is done to the data here and how inputs are manipulated to generate outputs. "
   ]
  },
  {
   "cell_type": "markdown",
   "metadata": {},
   "source": [
    "- Getting all the timestamps of the LFPs"
   ]
  },
  {
   "cell_type": "code",
   "execution_count": 17,
   "metadata": {},
   "outputs": [],
   "source": [
    "BASIC_LFP_TRACES_DF = pd.read_pickle(\"./proc/full_baseline_and_trial_lfp_traces.pkl\")"
   ]
  },
  {
   "cell_type": "code",
   "execution_count": 18,
   "metadata": {},
   "outputs": [],
   "source": [
    "BASIC_LFP_TRACES_DF = BASIC_LFP_TRACES_DF.drop_duplicates([\"recording_file\", \"time\", \"current_subject\"])"
   ]
  },
  {
   "cell_type": "code",
   "execution_count": 19,
   "metadata": {},
   "outputs": [],
   "source": [
    "BASIC_LFP_TRACES_DF[\"lfp_trial_all_lfp_index\"] = BASIC_LFP_TRACES_DF[\"lfp_index\"].apply(lambda x: np.arange(x,x+TRIAL_DURATION*LFP_SAMPLING_RATE))\n",
    "\n",
    "BASIC_LFP_TRACES_DF[\"lfp_baseline_all_lfp_index\"] = BASIC_LFP_TRACES_DF[\"lfp_index\"].apply(lambda x: np.arange(x-TRIAL_DURATION*LFP_SAMPLING_RATE, x))"
   ]
  },
  {
   "cell_type": "code",
   "execution_count": 20,
   "metadata": {},
   "outputs": [],
   "source": [
    "BASIC_LFP_TRACES_DF[\"lfp_trial_all_ephys_index\"] = BASIC_LFP_TRACES_DF[\"time_stamp_index\"].apply(lambda x: np.arange(x,x+EPHYS_SAMPLING_RATE*TRIAL_DURATION, int(EPHYS_SAMPLING_RATE/LFP_SAMPLING_RATE)))\n",
    "\n",
    "BASIC_LFP_TRACES_DF[\"lfp_baseline_all_ephys_index\"] = BASIC_LFP_TRACES_DF[\"time_stamp_index\"].apply(lambda x: np.arange(x-EPHYS_SAMPLING_RATE*TRIAL_DURATION, x, int(EPHYS_SAMPLING_RATE/LFP_SAMPLING_RATE)))"
   ]
  },
  {
   "cell_type": "markdown",
   "metadata": {},
   "source": [
    "# Syncing LFP and spikes"
   ]
  },
  {
   "cell_type": "code",
   "execution_count": 22,
   "metadata": {},
   "outputs": [],
   "source": [
    "MERGED_SPIKE_TRIAL_DF = pd.read_csv(\"./proc/all_spike_time.csv\")"
   ]
  },
  {
   "cell_type": "code",
   "execution_count": 23,
   "metadata": {},
   "outputs": [],
   "source": [
    "MERGED_SPIKE_TRIAL_DF[\"ephys_sample_from_trial_onset\"] = MERGED_SPIKE_TRIAL_DF[\"spike_times\"] - MERGED_SPIKE_TRIAL_DF[\"closest_trial\"]\n",
    "MERGED_SPIKE_TRIAL_DF[\"lfp_sample_from_trial_onset\"] = MERGED_SPIKE_TRIAL_DF[\"ephys_sample_from_trial_onset\"] // (EPHYS_SAMPLING_RATE // LFP_SAMPLING_RATE)"
   ]
  },
  {
   "cell_type": "code",
   "execution_count": 24,
   "metadata": {},
   "outputs": [],
   "source": [
    "MERGED_SPIKE_TRIAL_DF = MERGED_SPIKE_TRIAL_DF[np.abs(MERGED_SPIKE_TRIAL_DF[\"ephys_sample_from_trial_onset\"]) <= TRIAL_DURATION * EPHYS_SAMPLING_RATE].reset_index(drop=True)"
   ]
  },
  {
   "cell_type": "code",
   "execution_count": 25,
   "metadata": {},
   "outputs": [
    {
     "data": {
      "text/plain": [
       "0        -199415\n",
       "1        -199349\n",
       "2        -198989\n",
       "3        -198172\n",
       "4        -198082\n",
       "           ...  \n",
       "103994    197866\n",
       "103995    198511\n",
       "103996    198878\n",
       "103997    199693\n",
       "103998    199995\n",
       "Name: ephys_sample_from_trial_onset, Length: 103999, dtype: int64"
      ]
     },
     "execution_count": 25,
     "metadata": {},
     "output_type": "execute_result"
    }
   ],
   "source": [
    "MERGED_SPIKE_TRIAL_DF[\"ephys_sample_from_trial_onset\"]"
   ]
  },
  {
   "cell_type": "code",
   "execution_count": 26,
   "metadata": {},
   "outputs": [
    {
     "data": {
      "text/plain": [
       "0        -9971\n",
       "1        -9968\n",
       "2        -9950\n",
       "3        -9909\n",
       "4        -9905\n",
       "          ... \n",
       "103994    9893\n",
       "103995    9925\n",
       "103996    9943\n",
       "103997    9984\n",
       "103998    9999\n",
       "Name: lfp_sample_from_trial_onset, Length: 103999, dtype: int64"
      ]
     },
     "execution_count": 26,
     "metadata": {},
     "output_type": "execute_result"
    }
   ],
   "source": [
    "MERGED_SPIKE_TRIAL_DF[\"lfp_sample_from_trial_onset\"]"
   ]
  },
  {
   "cell_type": "code",
   "execution_count": 27,
   "metadata": {},
   "outputs": [],
   "source": [
    "MERGED_SPIKE_TRIAL_DF[\"cluster_id_with_file_name\"] = MERGED_SPIKE_TRIAL_DF[\"cluster_id\"].astype(str) + \"_\" + MERGED_SPIKE_TRIAL_DF[\"recording_name\"]"
   ]
  },
  {
   "cell_type": "markdown",
   "metadata": {},
   "source": [
    "# Filtering and getting the phase of all the LFPs"
   ]
  },
  {
   "cell_type": "markdown",
   "metadata": {},
   "source": [
    "- Filtering all the data"
   ]
  },
  {
   "cell_type": "code",
   "execution_count": 28,
   "metadata": {},
   "outputs": [
    {
     "data": {
      "text/html": [
       "<div>\n",
       "<style scoped>\n",
       "    .dataframe tbody tr th:only-of-type {\n",
       "        vertical-align: middle;\n",
       "    }\n",
       "\n",
       "    .dataframe tbody tr th {\n",
       "        vertical-align: top;\n",
       "    }\n",
       "\n",
       "    .dataframe thead th {\n",
       "        text-align: right;\n",
       "    }\n",
       "</style>\n",
       "<table border=\"1\" class=\"dataframe\">\n",
       "  <thead>\n",
       "    <tr style=\"text-align: right;\">\n",
       "      <th></th>\n",
       "      <th>time</th>\n",
       "      <th>recording_dir</th>\n",
       "      <th>recording_file</th>\n",
       "      <th>time_stamp_index</th>\n",
       "      <th>video_file</th>\n",
       "      <th>video_frame</th>\n",
       "      <th>video_number</th>\n",
       "      <th>subject_info</th>\n",
       "      <th>competition_closeness</th>\n",
       "      <th>video_name</th>\n",
       "      <th>...</th>\n",
       "      <th>BLA_baseline_lfp_trace</th>\n",
       "      <th>BLA_trial_lfp_trace</th>\n",
       "      <th>LH_baseline_lfp_trace</th>\n",
       "      <th>LH_trial_lfp_trace</th>\n",
       "      <th>MD_baseline_lfp_trace</th>\n",
       "      <th>MD_trial_lfp_trace</th>\n",
       "      <th>lfp_trial_all_lfp_index</th>\n",
       "      <th>lfp_baseline_all_lfp_index</th>\n",
       "      <th>lfp_trial_all_ephys_index</th>\n",
       "      <th>lfp_baseline_all_ephys_index</th>\n",
       "    </tr>\n",
       "  </thead>\n",
       "  <tbody>\n",
       "    <tr>\n",
       "      <th>0</th>\n",
       "      <td>6310663</td>\n",
       "      <td>20221202_134600_omission_and_competition_subje...</td>\n",
       "      <td>20221202_134600_omission_and_competition_subje...</td>\n",
       "      <td>1390826</td>\n",
       "      <td>20221202_134600_omission_and_competition_subje...</td>\n",
       "      <td>1734</td>\n",
       "      <td>1.0</td>\n",
       "      <td>6_1_top_2_base_3</td>\n",
       "      <td>rewarded</td>\n",
       "      <td>20221202_134600_omission_and_competition_subje...</td>\n",
       "      <td>...</td>\n",
       "      <td>[2.0367627, 2.1163385, 2.1618104, 2.2679114, 2...</td>\n",
       "      <td>[0.3164087, 0.36377528, 0.18757163, -0.5020857...</td>\n",
       "      <td>[3.1382985, 3.2319791, 3.2788196, 3.2881875, 3...</td>\n",
       "      <td>[0.8118982, 1.2209699, 0.87435186, -0.4028264,...</td>\n",
       "      <td>[1.3934726, 1.494771, 1.764077, 1.828315, 1.68...</td>\n",
       "      <td>[-0.9783956, -0.86721426, -0.7288553, -1.40582...</td>\n",
       "      <td>[69541, 69542, 69543, 69544, 69545, 69546, 695...</td>\n",
       "      <td>[59541, 59542, 59543, 59544, 59545, 59546, 595...</td>\n",
       "      <td>[1390826, 1390846, 1390866, 1390886, 1390906, ...</td>\n",
       "      <td>[1190826, 1190846, 1190866, 1190886, 1190906, ...</td>\n",
       "    </tr>\n",
       "    <tr>\n",
       "      <th>1</th>\n",
       "      <td>7910662</td>\n",
       "      <td>20221202_134600_omission_and_competition_subje...</td>\n",
       "      <td>20221202_134600_omission_and_competition_subje...</td>\n",
       "      <td>2990825</td>\n",
       "      <td>20221202_134600_omission_and_competition_subje...</td>\n",
       "      <td>3728</td>\n",
       "      <td>1.0</td>\n",
       "      <td>6_1_top_2_base_3</td>\n",
       "      <td>rewarded</td>\n",
       "      <td>20221202_134600_omission_and_competition_subje...</td>\n",
       "      <td>...</td>\n",
       "      <td>[0.3107247, 0.14209972, -0.05873455, -0.331566...</td>\n",
       "      <td>[0.026525281, -0.04547191, 0.11936376, -0.4092...</td>\n",
       "      <td>[-1.180375, -1.2959143, -1.3771042, -1.458294,...</td>\n",
       "      <td>[0.9492963, 0.46840277, 0.6713773, 0.043717593...</td>\n",
       "      <td>[-0.14577106, -0.16059524, 0.027177656, 0.1680...</td>\n",
       "      <td>[1.6281886, 1.349, 1.4675934, 0.9487473, -0.21...</td>\n",
       "      <td>[149541, 149542, 149543, 149544, 149545, 14954...</td>\n",
       "      <td>[139541, 139542, 139543, 139544, 139545, 13954...</td>\n",
       "      <td>[2990825, 2990845, 2990865, 2990885, 2990905, ...</td>\n",
       "      <td>[2790825, 2790845, 2790865, 2790885, 2790905, ...</td>\n",
       "    </tr>\n",
       "    <tr>\n",
       "      <th>2</th>\n",
       "      <td>9710660</td>\n",
       "      <td>20221202_134600_omission_and_competition_subje...</td>\n",
       "      <td>20221202_134600_omission_and_competition_subje...</td>\n",
       "      <td>4790823</td>\n",
       "      <td>20221202_134600_omission_and_competition_subje...</td>\n",
       "      <td>5972</td>\n",
       "      <td>1.0</td>\n",
       "      <td>6_1_top_2_base_3</td>\n",
       "      <td>rewarded</td>\n",
       "      <td>20221202_134600_omission_and_competition_subje...</td>\n",
       "      <td>...</td>\n",
       "      <td>[-1.9912907, -1.9041362, -1.9325562, -1.542255...</td>\n",
       "      <td>[0.69344664, 1.4001559, 1.7582471, 1.4304705, ...</td>\n",
       "      <td>[-0.19985186, -0.074944444, -0.18423842, -0.13...</td>\n",
       "      <td>[-0.59643286, 0.27167362, 0.6901134, 0.4371759...</td>\n",
       "      <td>[-0.32119048, -0.52872896, -0.96851283, -0.753...</td>\n",
       "      <td>[0.096357144, 0.88450915, 1.2131118, 0.8943919...</td>\n",
       "      <td>[239541, 239542, 239543, 239544, 239545, 23954...</td>\n",
       "      <td>[229541, 229542, 229543, 229544, 229545, 22954...</td>\n",
       "      <td>[4790823, 4790843, 4790863, 4790883, 4790903, ...</td>\n",
       "      <td>[4590823, 4590843, 4590863, 4590883, 4590903, ...</td>\n",
       "    </tr>\n",
       "    <tr>\n",
       "      <th>3</th>\n",
       "      <td>11310658</td>\n",
       "      <td>20221202_134600_omission_and_competition_subje...</td>\n",
       "      <td>20221202_134600_omission_and_competition_subje...</td>\n",
       "      <td>6390821</td>\n",
       "      <td>20221202_134600_omission_and_competition_subje...</td>\n",
       "      <td>7966</td>\n",
       "      <td>1.0</td>\n",
       "      <td>6_1_top_2_base_3</td>\n",
       "      <td>omission</td>\n",
       "      <td>20221202_134600_omission_and_competition_subje...</td>\n",
       "      <td>...</td>\n",
       "      <td>[-1.2637402, -1.0382752, -0.82986236, -0.74649...</td>\n",
       "      <td>[2.6771586, 2.3929594, 2.209177, 1.9761335, 1....</td>\n",
       "      <td>[-2.538743, -2.1983705, -1.8673657, -1.7143542...</td>\n",
       "      <td>[2.8447661, 2.3045416, 1.5301157, 0.96490973, ...</td>\n",
       "      <td>[-2.7647088, -2.5546997, -2.3051593, -2.055619...</td>\n",
       "      <td>[2.087738, 1.7418406, 1.1266373, 0.45954946, 0...</td>\n",
       "      <td>[319541, 319542, 319543, 319544, 319545, 31954...</td>\n",
       "      <td>[309541, 309542, 309543, 309544, 309545, 30954...</td>\n",
       "      <td>[6390821, 6390841, 6390861, 6390881, 6390901, ...</td>\n",
       "      <td>[6190821, 6190841, 6190861, 6190881, 6190901, ...</td>\n",
       "    </tr>\n",
       "    <tr>\n",
       "      <th>4</th>\n",
       "      <td>12810657</td>\n",
       "      <td>20221202_134600_omission_and_competition_subje...</td>\n",
       "      <td>20221202_134600_omission_and_competition_subje...</td>\n",
       "      <td>7890820</td>\n",
       "      <td>20221202_134600_omission_and_competition_subje...</td>\n",
       "      <td>9836</td>\n",
       "      <td>1.0</td>\n",
       "      <td>6_1_top_2_base_3</td>\n",
       "      <td>rewarded</td>\n",
       "      <td>20221202_134600_omission_and_competition_subje...</td>\n",
       "      <td>...</td>\n",
       "      <td>[-2.1352851, -2.0576038, -2.0822346, -2.140969...</td>\n",
       "      <td>[-0.18188764, 0.113679774, -0.66123736, -0.935...</td>\n",
       "      <td>[-2.1671436, -1.4832754, -1.0554676, -1.130412...</td>\n",
       "      <td>[0.5339792, 1.5113796, 0.57145137, -0.02810416...</td>\n",
       "      <td>[-2.0111465, -1.714663, -1.4255916, -1.3662949...</td>\n",
       "      <td>[0.31871977, 1.008044, 0.25942308, -0.22730403...</td>\n",
       "      <td>[394541, 394542, 394543, 394544, 394545, 39454...</td>\n",
       "      <td>[384541, 384542, 384543, 384544, 384545, 38454...</td>\n",
       "      <td>[7890820, 7890840, 7890860, 7890880, 7890900, ...</td>\n",
       "      <td>[7690820, 7690840, 7690860, 7690880, 7690900, ...</td>\n",
       "    </tr>\n",
       "  </tbody>\n",
       "</table>\n",
       "<p>5 rows × 41 columns</p>\n",
       "</div>"
      ],
      "text/plain": [
       "       time                                      recording_dir  \\\n",
       "0   6310663  20221202_134600_omission_and_competition_subje...   \n",
       "1   7910662  20221202_134600_omission_and_competition_subje...   \n",
       "2   9710660  20221202_134600_omission_and_competition_subje...   \n",
       "3  11310658  20221202_134600_omission_and_competition_subje...   \n",
       "4  12810657  20221202_134600_omission_and_competition_subje...   \n",
       "\n",
       "                                      recording_file  time_stamp_index  \\\n",
       "0  20221202_134600_omission_and_competition_subje...           1390826   \n",
       "1  20221202_134600_omission_and_competition_subje...           2990825   \n",
       "2  20221202_134600_omission_and_competition_subje...           4790823   \n",
       "3  20221202_134600_omission_and_competition_subje...           6390821   \n",
       "4  20221202_134600_omission_and_competition_subje...           7890820   \n",
       "\n",
       "                                          video_file  video_frame  \\\n",
       "0  20221202_134600_omission_and_competition_subje...         1734   \n",
       "1  20221202_134600_omission_and_competition_subje...         3728   \n",
       "2  20221202_134600_omission_and_competition_subje...         5972   \n",
       "3  20221202_134600_omission_and_competition_subje...         7966   \n",
       "4  20221202_134600_omission_and_competition_subje...         9836   \n",
       "\n",
       "   video_number      subject_info competition_closeness  \\\n",
       "0           1.0  6_1_top_2_base_3              rewarded   \n",
       "1           1.0  6_1_top_2_base_3              rewarded   \n",
       "2           1.0  6_1_top_2_base_3              rewarded   \n",
       "3           1.0  6_1_top_2_base_3              omission   \n",
       "4           1.0  6_1_top_2_base_3              rewarded   \n",
       "\n",
       "                                          video_name  ...  \\\n",
       "0  20221202_134600_omission_and_competition_subje...  ...   \n",
       "1  20221202_134600_omission_and_competition_subje...  ...   \n",
       "2  20221202_134600_omission_and_competition_subje...  ...   \n",
       "3  20221202_134600_omission_and_competition_subje...  ...   \n",
       "4  20221202_134600_omission_and_competition_subje...  ...   \n",
       "\n",
       "                              BLA_baseline_lfp_trace  \\\n",
       "0  [2.0367627, 2.1163385, 2.1618104, 2.2679114, 2...   \n",
       "1  [0.3107247, 0.14209972, -0.05873455, -0.331566...   \n",
       "2  [-1.9912907, -1.9041362, -1.9325562, -1.542255...   \n",
       "3  [-1.2637402, -1.0382752, -0.82986236, -0.74649...   \n",
       "4  [-2.1352851, -2.0576038, -2.0822346, -2.140969...   \n",
       "\n",
       "                                 BLA_trial_lfp_trace  \\\n",
       "0  [0.3164087, 0.36377528, 0.18757163, -0.5020857...   \n",
       "1  [0.026525281, -0.04547191, 0.11936376, -0.4092...   \n",
       "2  [0.69344664, 1.4001559, 1.7582471, 1.4304705, ...   \n",
       "3  [2.6771586, 2.3929594, 2.209177, 1.9761335, 1....   \n",
       "4  [-0.18188764, 0.113679774, -0.66123736, -0.935...   \n",
       "\n",
       "                               LH_baseline_lfp_trace  \\\n",
       "0  [3.1382985, 3.2319791, 3.2788196, 3.2881875, 3...   \n",
       "1  [-1.180375, -1.2959143, -1.3771042, -1.458294,...   \n",
       "2  [-0.19985186, -0.074944444, -0.18423842, -0.13...   \n",
       "3  [-2.538743, -2.1983705, -1.8673657, -1.7143542...   \n",
       "4  [-2.1671436, -1.4832754, -1.0554676, -1.130412...   \n",
       "\n",
       "                                  LH_trial_lfp_trace  \\\n",
       "0  [0.8118982, 1.2209699, 0.87435186, -0.4028264,...   \n",
       "1  [0.9492963, 0.46840277, 0.6713773, 0.043717593...   \n",
       "2  [-0.59643286, 0.27167362, 0.6901134, 0.4371759...   \n",
       "3  [2.8447661, 2.3045416, 1.5301157, 0.96490973, ...   \n",
       "4  [0.5339792, 1.5113796, 0.57145137, -0.02810416...   \n",
       "\n",
       "                               MD_baseline_lfp_trace  \\\n",
       "0  [1.3934726, 1.494771, 1.764077, 1.828315, 1.68...   \n",
       "1  [-0.14577106, -0.16059524, 0.027177656, 0.1680...   \n",
       "2  [-0.32119048, -0.52872896, -0.96851283, -0.753...   \n",
       "3  [-2.7647088, -2.5546997, -2.3051593, -2.055619...   \n",
       "4  [-2.0111465, -1.714663, -1.4255916, -1.3662949...   \n",
       "\n",
       "                                  MD_trial_lfp_trace  \\\n",
       "0  [-0.9783956, -0.86721426, -0.7288553, -1.40582...   \n",
       "1  [1.6281886, 1.349, 1.4675934, 0.9487473, -0.21...   \n",
       "2  [0.096357144, 0.88450915, 1.2131118, 0.8943919...   \n",
       "3  [2.087738, 1.7418406, 1.1266373, 0.45954946, 0...   \n",
       "4  [0.31871977, 1.008044, 0.25942308, -0.22730403...   \n",
       "\n",
       "                             lfp_trial_all_lfp_index  \\\n",
       "0  [69541, 69542, 69543, 69544, 69545, 69546, 695...   \n",
       "1  [149541, 149542, 149543, 149544, 149545, 14954...   \n",
       "2  [239541, 239542, 239543, 239544, 239545, 23954...   \n",
       "3  [319541, 319542, 319543, 319544, 319545, 31954...   \n",
       "4  [394541, 394542, 394543, 394544, 394545, 39454...   \n",
       "\n",
       "                          lfp_baseline_all_lfp_index  \\\n",
       "0  [59541, 59542, 59543, 59544, 59545, 59546, 595...   \n",
       "1  [139541, 139542, 139543, 139544, 139545, 13954...   \n",
       "2  [229541, 229542, 229543, 229544, 229545, 22954...   \n",
       "3  [309541, 309542, 309543, 309544, 309545, 30954...   \n",
       "4  [384541, 384542, 384543, 384544, 384545, 38454...   \n",
       "\n",
       "                           lfp_trial_all_ephys_index  \\\n",
       "0  [1390826, 1390846, 1390866, 1390886, 1390906, ...   \n",
       "1  [2990825, 2990845, 2990865, 2990885, 2990905, ...   \n",
       "2  [4790823, 4790843, 4790863, 4790883, 4790903, ...   \n",
       "3  [6390821, 6390841, 6390861, 6390881, 6390901, ...   \n",
       "4  [7890820, 7890840, 7890860, 7890880, 7890900, ...   \n",
       "\n",
       "                        lfp_baseline_all_ephys_index  \n",
       "0  [1190826, 1190846, 1190866, 1190886, 1190906, ...  \n",
       "1  [2790825, 2790845, 2790865, 2790885, 2790905, ...  \n",
       "2  [4590823, 4590843, 4590863, 4590883, 4590903, ...  \n",
       "3  [6190821, 6190841, 6190861, 6190881, 6190901, ...  \n",
       "4  [7690820, 7690840, 7690860, 7690880, 7690900, ...  \n",
       "\n",
       "[5 rows x 41 columns]"
      ]
     },
     "execution_count": 28,
     "metadata": {},
     "output_type": "execute_result"
    }
   ],
   "source": [
    "BASIC_LFP_TRACES_DF.head()"
   ]
  },
  {
   "cell_type": "code",
   "execution_count": 29,
   "metadata": {},
   "outputs": [],
   "source": [
    "trace_columns = [col for col in BASIC_LFP_TRACES_DF.columns if \"trace\" in col]"
   ]
  },
  {
   "cell_type": "code",
   "execution_count": 30,
   "metadata": {},
   "outputs": [],
   "source": [
    "FREQ_BAND = [4, 12]\n"
   ]
  },
  {
   "cell_type": "code",
   "execution_count": 31,
   "metadata": {},
   "outputs": [],
   "source": [
    "for col in trace_columns:\n",
    "    region_name = \"_\".join(col.split(\"_\")[:2])\n",
    "    BASIC_LFP_TRACES_DF[\"{}_filtered\".format(region_name)] = BASIC_LFP_TRACES_DF[col].apply(lambda x: filtfilt(numerator_b, denominator_a, x, padtype=None))\n",
    "\n",
    "    BASIC_LFP_TRACES_DF[\"{}_phase\".format(region_name)] = BASIC_LFP_TRACES_DF[\"{}_filtered\".format(region_name)].apply(lambda x: np.angle(hilbert(x), deg=False))\n",
    "    \n"
   ]
  },
  {
   "cell_type": "markdown",
   "metadata": {},
   "source": [
    "- Plotting an example filtered trace"
   ]
  },
  {
   "cell_type": "code",
   "execution_count": 32,
   "metadata": {},
   "outputs": [
    {
     "data": {
      "text/html": [
       "<div>\n",
       "<style scoped>\n",
       "    .dataframe tbody tr th:only-of-type {\n",
       "        vertical-align: middle;\n",
       "    }\n",
       "\n",
       "    .dataframe tbody tr th {\n",
       "        vertical-align: top;\n",
       "    }\n",
       "\n",
       "    .dataframe thead th {\n",
       "        text-align: right;\n",
       "    }\n",
       "</style>\n",
       "<table border=\"1\" class=\"dataframe\">\n",
       "  <thead>\n",
       "    <tr style=\"text-align: right;\">\n",
       "      <th></th>\n",
       "      <th>Unnamed: 0</th>\n",
       "      <th>spike_clusters</th>\n",
       "      <th>spike_times</th>\n",
       "      <th>cluster_id</th>\n",
       "      <th>1_5_ms_isi</th>\n",
       "      <th>1ms_isi</th>\n",
       "      <th>2ms_isi</th>\n",
       "      <th>amp</th>\n",
       "      <th>ch</th>\n",
       "      <th>channel_group</th>\n",
       "      <th>...</th>\n",
       "      <th>n_spikes</th>\n",
       "      <th>sh</th>\n",
       "      <th>si_unit_id</th>\n",
       "      <th>recording_name</th>\n",
       "      <th>timestamp_isi</th>\n",
       "      <th>current_isi</th>\n",
       "      <th>closest_trial</th>\n",
       "      <th>ephys_sample_from_trial_onset</th>\n",
       "      <th>lfp_sample_from_trial_onset</th>\n",
       "      <th>cluster_id_with_file_name</th>\n",
       "    </tr>\n",
       "  </thead>\n",
       "  <tbody>\n",
       "    <tr>\n",
       "      <th>0</th>\n",
       "      <td>12653</td>\n",
       "      <td>64</td>\n",
       "      <td>5557899</td>\n",
       "      <td>64</td>\n",
       "      <td>4</td>\n",
       "      <td>1</td>\n",
       "      <td>12</td>\n",
       "      <td>10.794415</td>\n",
       "      <td>14</td>\n",
       "      <td>0.0</td>\n",
       "      <td>...</td>\n",
       "      <td>26442</td>\n",
       "      <td>0</td>\n",
       "      <td>9.0</td>\n",
       "      <td>20230620_114347_standard_comp_to_omission_D4_s...</td>\n",
       "      <td>5967.0</td>\n",
       "      <td>0.29835</td>\n",
       "      <td>5757314</td>\n",
       "      <td>-199415</td>\n",
       "      <td>-9971</td>\n",
       "      <td>64_20230620_114347_standard_comp_to_omission_D...</td>\n",
       "    </tr>\n",
       "    <tr>\n",
       "      <th>1</th>\n",
       "      <td>12654</td>\n",
       "      <td>89</td>\n",
       "      <td>5557965</td>\n",
       "      <td>89</td>\n",
       "      <td>11</td>\n",
       "      <td>11</td>\n",
       "      <td>13</td>\n",
       "      <td>17.238409</td>\n",
       "      <td>26</td>\n",
       "      <td>0.0</td>\n",
       "      <td>...</td>\n",
       "      <td>53080</td>\n",
       "      <td>0</td>\n",
       "      <td>21.0</td>\n",
       "      <td>20230620_114347_standard_comp_to_omission_D4_s...</td>\n",
       "      <td>1820.0</td>\n",
       "      <td>0.09100</td>\n",
       "      <td>5757314</td>\n",
       "      <td>-199349</td>\n",
       "      <td>-9968</td>\n",
       "      <td>89_20230620_114347_standard_comp_to_omission_D...</td>\n",
       "    </tr>\n",
       "    <tr>\n",
       "      <th>2</th>\n",
       "      <td>12655</td>\n",
       "      <td>60</td>\n",
       "      <td>5558325</td>\n",
       "      <td>60</td>\n",
       "      <td>0</td>\n",
       "      <td>0</td>\n",
       "      <td>0</td>\n",
       "      <td>26.088383</td>\n",
       "      <td>5</td>\n",
       "      <td>0.0</td>\n",
       "      <td>...</td>\n",
       "      <td>11163</td>\n",
       "      <td>0</td>\n",
       "      <td>6.0</td>\n",
       "      <td>20230620_114347_standard_comp_to_omission_D4_s...</td>\n",
       "      <td>5792.0</td>\n",
       "      <td>0.28960</td>\n",
       "      <td>5757314</td>\n",
       "      <td>-198989</td>\n",
       "      <td>-9950</td>\n",
       "      <td>60_20230620_114347_standard_comp_to_omission_D...</td>\n",
       "    </tr>\n",
       "    <tr>\n",
       "      <th>3</th>\n",
       "      <td>12656</td>\n",
       "      <td>64</td>\n",
       "      <td>5559142</td>\n",
       "      <td>64</td>\n",
       "      <td>4</td>\n",
       "      <td>1</td>\n",
       "      <td>12</td>\n",
       "      <td>10.794415</td>\n",
       "      <td>14</td>\n",
       "      <td>0.0</td>\n",
       "      <td>...</td>\n",
       "      <td>26442</td>\n",
       "      <td>0</td>\n",
       "      <td>9.0</td>\n",
       "      <td>20230620_114347_standard_comp_to_omission_D4_s...</td>\n",
       "      <td>1243.0</td>\n",
       "      <td>0.06215</td>\n",
       "      <td>5757314</td>\n",
       "      <td>-198172</td>\n",
       "      <td>-9909</td>\n",
       "      <td>64_20230620_114347_standard_comp_to_omission_D...</td>\n",
       "    </tr>\n",
       "    <tr>\n",
       "      <th>4</th>\n",
       "      <td>12657</td>\n",
       "      <td>89</td>\n",
       "      <td>5559232</td>\n",
       "      <td>89</td>\n",
       "      <td>11</td>\n",
       "      <td>11</td>\n",
       "      <td>13</td>\n",
       "      <td>17.238409</td>\n",
       "      <td>26</td>\n",
       "      <td>0.0</td>\n",
       "      <td>...</td>\n",
       "      <td>53080</td>\n",
       "      <td>0</td>\n",
       "      <td>21.0</td>\n",
       "      <td>20230620_114347_standard_comp_to_omission_D4_s...</td>\n",
       "      <td>1267.0</td>\n",
       "      <td>0.06335</td>\n",
       "      <td>5757314</td>\n",
       "      <td>-198082</td>\n",
       "      <td>-9905</td>\n",
       "      <td>89_20230620_114347_standard_comp_to_omission_D...</td>\n",
       "    </tr>\n",
       "  </tbody>\n",
       "</table>\n",
       "<p>5 rows × 23 columns</p>\n",
       "</div>"
      ],
      "text/plain": [
       "   Unnamed: 0  spike_clusters  spike_times  cluster_id  1_5_ms_isi  1ms_isi  \\\n",
       "0       12653              64      5557899          64           4        1   \n",
       "1       12654              89      5557965          89          11       11   \n",
       "2       12655              60      5558325          60           0        0   \n",
       "3       12656              64      5559142          64           4        1   \n",
       "4       12657              89      5559232          89          11       11   \n",
       "\n",
       "   2ms_isi        amp  ch  channel_group  ...  n_spikes  sh si_unit_id  \\\n",
       "0       12  10.794415  14            0.0  ...     26442   0        9.0   \n",
       "1       13  17.238409  26            0.0  ...     53080   0       21.0   \n",
       "2        0  26.088383   5            0.0  ...     11163   0        6.0   \n",
       "3       12  10.794415  14            0.0  ...     26442   0        9.0   \n",
       "4       13  17.238409  26            0.0  ...     53080   0       21.0   \n",
       "\n",
       "                                      recording_name  timestamp_isi  \\\n",
       "0  20230620_114347_standard_comp_to_omission_D4_s...         5967.0   \n",
       "1  20230620_114347_standard_comp_to_omission_D4_s...         1820.0   \n",
       "2  20230620_114347_standard_comp_to_omission_D4_s...         5792.0   \n",
       "3  20230620_114347_standard_comp_to_omission_D4_s...         1243.0   \n",
       "4  20230620_114347_standard_comp_to_omission_D4_s...         1267.0   \n",
       "\n",
       "   current_isi closest_trial  ephys_sample_from_trial_onset  \\\n",
       "0      0.29835       5757314                        -199415   \n",
       "1      0.09100       5757314                        -199349   \n",
       "2      0.28960       5757314                        -198989   \n",
       "3      0.06215       5757314                        -198172   \n",
       "4      0.06335       5757314                        -198082   \n",
       "\n",
       "   lfp_sample_from_trial_onset  \\\n",
       "0                        -9971   \n",
       "1                        -9968   \n",
       "2                        -9950   \n",
       "3                        -9909   \n",
       "4                        -9905   \n",
       "\n",
       "                           cluster_id_with_file_name  \n",
       "0  64_20230620_114347_standard_comp_to_omission_D...  \n",
       "1  89_20230620_114347_standard_comp_to_omission_D...  \n",
       "2  60_20230620_114347_standard_comp_to_omission_D...  \n",
       "3  64_20230620_114347_standard_comp_to_omission_D...  \n",
       "4  89_20230620_114347_standard_comp_to_omission_D...  \n",
       "\n",
       "[5 rows x 23 columns]"
      ]
     },
     "execution_count": 32,
     "metadata": {},
     "output_type": "execute_result"
    }
   ],
   "source": [
    "MERGED_SPIKE_TRIAL_DF.head()"
   ]
  },
  {
   "cell_type": "code",
   "execution_count": 33,
   "metadata": {},
   "outputs": [
    {
     "data": {
      "text/plain": [
       "(0.0, 10000.0)"
      ]
     },
     "execution_count": 33,
     "metadata": {},
     "output_type": "execute_result"
    },
    {
     "data": {
      "image/png": "[encoded data removed]",
      "text/plain": [
       "<Figure size 1600x400 with 1 Axes>"
      ]
     },
     "metadata": {},
     "output_type": "display_data"
    }
   ],
   "source": [
    "\n",
    "plt.figure(figsize=(16,4))\n",
    "plt.plot(BASIC_LFP_TRACES_DF[\"BLA_trial_filtered\"].iloc[0])\n",
    "\n",
    "plt.xlim(0,10000)"
   ]
  },
  {
   "cell_type": "code",
   "execution_count": 34,
   "metadata": {},
   "outputs": [
    {
     "data": {
      "text/plain": [
       "(0.0, 10000.0)"
      ]
     },
     "execution_count": 34,
     "metadata": {},
     "output_type": "execute_result"
    },
    {
     "data": {
      "image/png": "[encoded data removed]",
      "text/plain": [
       "<Figure size 1600x400 with 1 Axes>"
      ]
     },
     "metadata": {},
     "output_type": "display_data"
    }
   ],
   "source": [
    "plt.figure(figsize=(16,4))\n",
    "plt.plot(BASIC_LFP_TRACES_DF[\"BLA_trial_phase\"].iloc[0])\n",
    "plt.xlabel('Time (s)')\n",
    "plt.ylabel('Phase (degrees)')\n",
    "\n",
    "plt.xlim(0,10000)"
   ]
  },
  {
   "cell_type": "code",
   "execution_count": 35,
   "metadata": {},
   "outputs": [
    {
     "data": {
      "text/html": [
       "<div>\n",
       "<style scoped>\n",
       "    .dataframe tbody tr th:only-of-type {\n",
       "        vertical-align: middle;\n",
       "    }\n",
       "\n",
       "    .dataframe tbody tr th {\n",
       "        vertical-align: top;\n",
       "    }\n",
       "\n",
       "    .dataframe thead th {\n",
       "        text-align: right;\n",
       "    }\n",
       "</style>\n",
       "<table border=\"1\" class=\"dataframe\">\n",
       "  <thead>\n",
       "    <tr style=\"text-align: right;\">\n",
       "      <th></th>\n",
       "      <th>time</th>\n",
       "      <th>recording_dir</th>\n",
       "      <th>recording_file</th>\n",
       "      <th>time_stamp_index</th>\n",
       "      <th>video_file</th>\n",
       "      <th>video_frame</th>\n",
       "      <th>video_number</th>\n",
       "      <th>subject_info</th>\n",
       "      <th>competition_closeness</th>\n",
       "      <th>video_name</th>\n",
       "      <th>...</th>\n",
       "      <th>BLA_trial_filtered</th>\n",
       "      <th>BLA_trial_phase</th>\n",
       "      <th>LH_baseline_filtered</th>\n",
       "      <th>LH_baseline_phase</th>\n",
       "      <th>LH_trial_filtered</th>\n",
       "      <th>LH_trial_phase</th>\n",
       "      <th>MD_baseline_filtered</th>\n",
       "      <th>MD_baseline_phase</th>\n",
       "      <th>MD_trial_filtered</th>\n",
       "      <th>MD_trial_phase</th>\n",
       "    </tr>\n",
       "  </thead>\n",
       "  <tbody>\n",
       "    <tr>\n",
       "      <th>0</th>\n",
       "      <td>6310663</td>\n",
       "      <td>20221202_134600_omission_and_competition_subje...</td>\n",
       "      <td>20221202_134600_omission_and_competition_subje...</td>\n",
       "      <td>1390826</td>\n",
       "      <td>20221202_134600_omission_and_competition_subje...</td>\n",
       "      <td>1734</td>\n",
       "      <td>1.0</td>\n",
       "      <td>6_1_top_2_base_3</td>\n",
       "      <td>rewarded</td>\n",
       "      <td>20221202_134600_omission_and_competition_subje...</td>\n",
       "      <td>...</td>\n",
       "      <td>[-0.1270232139593776, -0.13550809575176323, -0...</td>\n",
       "      <td>[2.0921499379288093, 2.318664933741562, 2.3488...</td>\n",
       "      <td>[0.056868270266307065, 0.04576024370573059, 0....</td>\n",
       "      <td>[-0.8294859902205611, -0.29035528041932773, -0...</td>\n",
       "      <td>[0.1633071968546726, 0.16612519566931022, 0.16...</td>\n",
       "      <td>[-0.8714076735108721, -0.5086576686505543, -0....</td>\n",
       "      <td>[-0.20688000714736948, -0.2102295128636095, -0...</td>\n",
       "      <td>[2.4658837910421507, 2.997769183878443, 3.0297...</td>\n",
       "      <td>[-0.20527917065687415, -0.19719870709125534, -...</td>\n",
       "      <td>[2.6609099288334126, -2.9291304768028654, -2.8...</td>\n",
       "    </tr>\n",
       "    <tr>\n",
       "      <th>1</th>\n",
       "      <td>7910662</td>\n",
       "      <td>20221202_134600_omission_and_competition_subje...</td>\n",
       "      <td>20221202_134600_omission_and_competition_subje...</td>\n",
       "      <td>2990825</td>\n",
       "      <td>20221202_134600_omission_and_competition_subje...</td>\n",
       "      <td>3728</td>\n",
       "      <td>1.0</td>\n",
       "      <td>6_1_top_2_base_3</td>\n",
       "      <td>rewarded</td>\n",
       "      <td>20221202_134600_omission_and_competition_subje...</td>\n",
       "      <td>...</td>\n",
       "      <td>[0.06167014683416184, 0.04540589200067514, 0.0...</td>\n",
       "      <td>[1.1931051596958737, 1.364677985966047, 1.4456...</td>\n",
       "      <td>[-0.6310182399173343, -0.6028305711469237, -0....</td>\n",
       "      <td>[2.70317941107642, -2.8854240753310387, -2.816...</td>\n",
       "      <td>[0.08406742217288202, 0.054967079728184, 0.025...</td>\n",
       "      <td>[1.2979990285889775, 1.4315598190373768, 1.508...</td>\n",
       "      <td>[-0.23284599033521072, -0.19518301488393547, -...</td>\n",
       "      <td>[-2.1967190077622707, -1.9250858812347904, -1....</td>\n",
       "      <td>[0.00897178566523055, -0.02040608637520462, -0...</td>\n",
       "      <td>[1.546744032693701, 1.6197585170264568, 1.6855...</td>\n",
       "    </tr>\n",
       "    <tr>\n",
       "      <th>2</th>\n",
       "      <td>9710660</td>\n",
       "      <td>20221202_134600_omission_and_competition_subje...</td>\n",
       "      <td>20221202_134600_omission_and_competition_subje...</td>\n",
       "      <td>4790823</td>\n",
       "      <td>20221202_134600_omission_and_competition_subje...</td>\n",
       "      <td>5972</td>\n",
       "      <td>1.0</td>\n",
       "      <td>6_1_top_2_base_3</td>\n",
       "      <td>rewarded</td>\n",
       "      <td>20221202_134600_omission_and_competition_subje...</td>\n",
       "      <td>...</td>\n",
       "      <td>[0.09910481914715255, 0.10104307136384137, 0.1...</td>\n",
       "      <td>[-0.927968248659119, -0.5873130086540211, -0.5...</td>\n",
       "      <td>[0.1465498150487816, 0.15518114144873194, 0.16...</td>\n",
       "      <td>[-1.214160090156733, -1.1087585375109443, -1.0...</td>\n",
       "      <td>[0.1440232256165005, 0.17112191208887603, 0.19...</td>\n",
       "      <td>[-1.2734754133841686, -1.1716494030565592, -1....</td>\n",
       "      <td>[0.12243278938862083, 0.12378007869477951, 0.1...</td>\n",
       "      <td>[-1.1733709027228445, -1.053112396600152, -1.0...</td>\n",
       "      <td>[0.34646154764149273, 0.3614771084116735, 0.37...</td>\n",
       "      <td>[-0.9720995533787167, -0.682034040817512, -0.6...</td>\n",
       "    </tr>\n",
       "    <tr>\n",
       "      <th>3</th>\n",
       "      <td>11310658</td>\n",
       "      <td>20221202_134600_omission_and_competition_subje...</td>\n",
       "      <td>20221202_134600_omission_and_competition_subje...</td>\n",
       "      <td>6390821</td>\n",
       "      <td>20221202_134600_omission_and_competition_subje...</td>\n",
       "      <td>7966</td>\n",
       "      <td>1.0</td>\n",
       "      <td>6_1_top_2_base_3</td>\n",
       "      <td>omission</td>\n",
       "      <td>20221202_134600_omission_and_competition_subje...</td>\n",
       "      <td>...</td>\n",
       "      <td>[0.8079986776507001, 0.802581616330127, 0.7956...</td>\n",
       "      <td>[-0.7483757898044902, -0.25297448987131416, -0...</td>\n",
       "      <td>[-0.12212974143207109, -0.0897303594412939, -0...</td>\n",
       "      <td>[-2.0406652731308466, -1.8131783573628426, -1....</td>\n",
       "      <td>[0.881736402579422, 0.8389485366589725, 0.7945...</td>\n",
       "      <td>[-0.4412991310421433, 0.2551244873375817, 0.32...</td>\n",
       "      <td>[-0.30059619238390456, -0.26245575725812575, -...</td>\n",
       "      <td>[-2.7000185364019775, -2.1627155132289615, -2....</td>\n",
       "      <td>[0.7752331855274641, 0.7469425432890375, 0.717...</td>\n",
       "      <td>[-0.5479010625727009, 0.09808296574327503, 0.1...</td>\n",
       "    </tr>\n",
       "    <tr>\n",
       "      <th>4</th>\n",
       "      <td>12810657</td>\n",
       "      <td>20221202_134600_omission_and_competition_subje...</td>\n",
       "      <td>20221202_134600_omission_and_competition_subje...</td>\n",
       "      <td>7890820</td>\n",
       "      <td>20221202_134600_omission_and_competition_subje...</td>\n",
       "      <td>9836</td>\n",
       "      <td>1.0</td>\n",
       "      <td>6_1_top_2_base_3</td>\n",
       "      <td>rewarded</td>\n",
       "      <td>20221202_134600_omission_and_competition_subje...</td>\n",
       "      <td>...</td>\n",
       "      <td>[-0.254415931077215, -0.2409205597620281, -0.2...</td>\n",
       "      <td>[2.582987879734853, -3.0482235776078555, -2.99...</td>\n",
       "      <td>[-0.057397393662318, -0.04698434364269451, -0....</td>\n",
       "      <td>[-2.8402555412201433, -2.1980502765251595, -2....</td>\n",
       "      <td>[0.07969558521319708, 0.09709934263189805, 0.1...</td>\n",
       "      <td>[-1.3590004890828478, -1.292010156609553, -1.2...</td>\n",
       "      <td>[0.046554693966075006, 0.05869827587747813, 0....</td>\n",
       "      <td>[-1.0796872594142124, -0.843692575346849, -0.7...</td>\n",
       "      <td>[-0.15995191196085184, -0.13374920061824971, -...</td>\n",
       "      <td>[-2.2503223891773083, -1.950291504051106, -1.8...</td>\n",
       "    </tr>\n",
       "    <tr>\n",
       "      <th>...</th>\n",
       "      <td>...</td>\n",
       "      <td>...</td>\n",
       "      <td>...</td>\n",
       "      <td>...</td>\n",
       "      <td>...</td>\n",
       "      <td>...</td>\n",
       "      <td>...</td>\n",
       "      <td>...</td>\n",
       "      <td>...</td>\n",
       "      <td>...</td>\n",
       "      <td>...</td>\n",
       "      <td>...</td>\n",
       "      <td>...</td>\n",
       "      <td>...</td>\n",
       "      <td>...</td>\n",
       "      <td>...</td>\n",
       "      <td>...</td>\n",
       "      <td>...</td>\n",
       "      <td>...</td>\n",
       "      <td>...</td>\n",
       "      <td>...</td>\n",
       "    </tr>\n",
       "    <tr>\n",
       "      <th>538</th>\n",
       "      <td>65281838</td>\n",
       "      <td>20230621_111240_standard_comp_to_omission_D5_s...</td>\n",
       "      <td>20230621_111240_standard_comp_to_omission_D5_s...</td>\n",
       "      <td>62088794</td>\n",
       "      <td>20230621_111240_standard_comp_to_omission_D5_s...</td>\n",
       "      <td>62056</td>\n",
       "      <td>1.0</td>\n",
       "      <td>1-4_t3b3L_box1</td>\n",
       "      <td>rewarded</td>\n",
       "      <td>20230621_111240_standard_comp_to_omission_D5_s...</td>\n",
       "      <td>...</td>\n",
       "      <td>[-0.396884234421078, -0.3862324333737826, -0.3...</td>\n",
       "      <td>[2.3567229797998173, 2.8316561128702387, 2.856...</td>\n",
       "      <td>[0.01707570882739581, 0.03522813736810481, 0.0...</td>\n",
       "      <td>[-1.4908505563663725, -1.4162460563406487, -1....</td>\n",
       "      <td>[-0.7320699704184424, -0.7139963260592896, -0....</td>\n",
       "      <td>[2.3728313420926894, 2.860314810535245, 2.8865...</td>\n",
       "      <td>[-0.015498258313066606, 0.005263930305018268, ...</td>\n",
       "      <td>[-1.651389072222783, -1.5478438376781392, -1.4...</td>\n",
       "      <td>[-0.7208635635177927, -0.6983369880463078, -0....</td>\n",
       "      <td>[2.419619658705634, 2.951607564261522, 2.98551...</td>\n",
       "    </tr>\n",
       "    <tr>\n",
       "      <th>539</th>\n",
       "      <td>66781856</td>\n",
       "      <td>20230621_111240_standard_comp_to_omission_D5_s...</td>\n",
       "      <td>20230621_111240_standard_comp_to_omission_D5_s...</td>\n",
       "      <td>63588812</td>\n",
       "      <td>20230621_111240_standard_comp_to_omission_D5_s...</td>\n",
       "      <td>63554</td>\n",
       "      <td>1.0</td>\n",
       "      <td>1-4_t3b3L_box1</td>\n",
       "      <td>rewarded</td>\n",
       "      <td>20230621_111240_standard_comp_to_omission_D5_s...</td>\n",
       "      <td>...</td>\n",
       "      <td>[-0.18319276603494036, -0.1841805550129294, -0...</td>\n",
       "      <td>[2.0751743373273293, 2.2807044402370273, 2.286...</td>\n",
       "      <td>[0.10491854985557984, 0.11084500737297126, 0.1...</td>\n",
       "      <td>[-0.996822934829524, -0.7290929850916655, -0.7...</td>\n",
       "      <td>[-0.5507218909757214, -0.5513565348512753, -0....</td>\n",
       "      <td>[2.19383925249038, 2.5040428124760283, 2.51425...</td>\n",
       "      <td>[0.02622800715253357, 0.021585927386509454, 0....</td>\n",
       "      <td>[1.0023295235921699, 1.2502130570875232, 1.334...</td>\n",
       "      <td>[-0.5159699899110302, -0.5130013168016468, -0....</td>\n",
       "      <td>[2.234101967651651, 2.584972404334137, 2.59817...</td>\n",
       "    </tr>\n",
       "    <tr>\n",
       "      <th>540</th>\n",
       "      <td>68781880</td>\n",
       "      <td>20230621_111240_standard_comp_to_omission_D5_s...</td>\n",
       "      <td>20230621_111240_standard_comp_to_omission_D5_s...</td>\n",
       "      <td>65588836</td>\n",
       "      <td>20230621_111240_standard_comp_to_omission_D5_s...</td>\n",
       "      <td>65550</td>\n",
       "      <td>1.0</td>\n",
       "      <td>1-4_t3b3L_box1</td>\n",
       "      <td>rewarded</td>\n",
       "      <td>20230621_111240_standard_comp_to_omission_D5_s...</td>\n",
       "      <td>...</td>\n",
       "      <td>[-0.5137307861101343, -0.5306958675338432, -0....</td>\n",
       "      <td>[2.1113632892706296, 2.3467339860617353, 2.361...</td>\n",
       "      <td>[0.2877841494765352, 0.2750994947933646, 0.262...</td>\n",
       "      <td>[-0.5029841255241664, 0.16624203825530107, 0.2...</td>\n",
       "      <td>[-0.8917184191871421, -0.9022609946486229, -0....</td>\n",
       "      <td>[2.211100441223464, 2.5369163884749195, 2.5525...</td>\n",
       "      <td>[0.3704390537344511, 0.36019399578292044, 0.34...</td>\n",
       "      <td>[-0.6444257635658671, -0.06221084060813215, -0...</td>\n",
       "      <td>[-0.7573677720884009, -0.7695910518841816, -0....</td>\n",
       "      <td>[2.1834947866947347, 2.4836695265366844, 2.498...</td>\n",
       "    </tr>\n",
       "    <tr>\n",
       "      <th>541</th>\n",
       "      <td>70681909</td>\n",
       "      <td>20230621_111240_standard_comp_to_omission_D5_s...</td>\n",
       "      <td>20230621_111240_standard_comp_to_omission_D5_s...</td>\n",
       "      <td>67488865</td>\n",
       "      <td>20230621_111240_standard_comp_to_omission_D5_s...</td>\n",
       "      <td>67447</td>\n",
       "      <td>1.0</td>\n",
       "      <td>1-4_t3b3L_box1</td>\n",
       "      <td>omission</td>\n",
       "      <td>20230621_111240_standard_comp_to_omission_D5_s...</td>\n",
       "      <td>...</td>\n",
       "      <td>[-0.02783542586634227, -0.03506434756881033, -...</td>\n",
       "      <td>[1.7824580853518792, 1.857178770082537, 1.9044...</td>\n",
       "      <td>[0.5274836942921007, 0.5225077022298736, 0.516...</td>\n",
       "      <td>[-0.739237598352167, -0.23367456922533097, -0....</td>\n",
       "      <td>[0.3496468370398806, 0.3206846964047108, 0.290...</td>\n",
       "      <td>[0.02392456737011802, 0.7108551169163446, 0.80...</td>\n",
       "      <td>[0.5554590083890355, 0.5520460515886311, 0.547...</td>\n",
       "      <td>[-0.7734570861378881, -0.29798778386571984, -0...</td>\n",
       "      <td>[0.35698455529733364, 0.3337953854614069, 0.30...</td>\n",
       "      <td>[-0.22579651861022243, 0.5013906602819038, 0.5...</td>\n",
       "    </tr>\n",
       "    <tr>\n",
       "      <th>542</th>\n",
       "      <td>71681918</td>\n",
       "      <td>20230621_111240_standard_comp_to_omission_D5_s...</td>\n",
       "      <td>20230621_111240_standard_comp_to_omission_D5_s...</td>\n",
       "      <td>68488874</td>\n",
       "      <td>20230621_111240_standard_comp_to_omission_D5_s...</td>\n",
       "      <td>68444</td>\n",
       "      <td>1.0</td>\n",
       "      <td>1-4_t3b3L_box1</td>\n",
       "      <td>rewarded</td>\n",
       "      <td>20230621_111240_standard_comp_to_omission_D5_s...</td>\n",
       "      <td>...</td>\n",
       "      <td>[-0.5667139842063987, -0.5406552386639925, -0....</td>\n",
       "      <td>[2.5151883805128654, 3.122003726481616, -3.119...</td>\n",
       "      <td>[0.43966788176261984, 0.4726622380509081, 0.50...</td>\n",
       "      <td>[-1.0778015352375954, -0.8754673630841805, -0....</td>\n",
       "      <td>[-0.5875424265246689, -0.5944658321003309, -0....</td>\n",
       "      <td>[2.2254015723976015, 2.5609072239087585, 2.573...</td>\n",
       "      <td>[0.3901552080035685, 0.4150895012938618, 0.439...</td>\n",
       "      <td>[-1.0218451969624283, -0.7763319388901221, -0....</td>\n",
       "      <td>[-0.6642070924518607, -0.6603368193310272, -0....</td>\n",
       "      <td>[2.326960097996799, 2.7604013100741596, 2.7781...</td>\n",
       "    </tr>\n",
       "  </tbody>\n",
       "</table>\n",
       "<p>391 rows × 61 columns</p>\n",
       "</div>"
      ],
      "text/plain": [
       "         time                                      recording_dir  \\\n",
       "0     6310663  20221202_134600_omission_and_competition_subje...   \n",
       "1     7910662  20221202_134600_omission_and_competition_subje...   \n",
       "2     9710660  20221202_134600_omission_and_competition_subje...   \n",
       "3    11310658  20221202_134600_omission_and_competition_subje...   \n",
       "4    12810657  20221202_134600_omission_and_competition_subje...   \n",
       "..        ...                                                ...   \n",
       "538  65281838  20230621_111240_standard_comp_to_omission_D5_s...   \n",
       "539  66781856  20230621_111240_standard_comp_to_omission_D5_s...   \n",
       "540  68781880  20230621_111240_standard_comp_to_omission_D5_s...   \n",
       "541  70681909  20230621_111240_standard_comp_to_omission_D5_s...   \n",
       "542  71681918  20230621_111240_standard_comp_to_omission_D5_s...   \n",
       "\n",
       "                                        recording_file  time_stamp_index  \\\n",
       "0    20221202_134600_omission_and_competition_subje...           1390826   \n",
       "1    20221202_134600_omission_and_competition_subje...           2990825   \n",
       "2    20221202_134600_omission_and_competition_subje...           4790823   \n",
       "3    20221202_134600_omission_and_competition_subje...           6390821   \n",
       "4    20221202_134600_omission_and_competition_subje...           7890820   \n",
       "..                                                 ...               ...   \n",
       "538  20230621_111240_standard_comp_to_omission_D5_s...          62088794   \n",
       "539  20230621_111240_standard_comp_to_omission_D5_s...          63588812   \n",
       "540  20230621_111240_standard_comp_to_omission_D5_s...          65588836   \n",
       "541  20230621_111240_standard_comp_to_omission_D5_s...          67488865   \n",
       "542  20230621_111240_standard_comp_to_omission_D5_s...          68488874   \n",
       "\n",
       "                                            video_file  video_frame  \\\n",
       "0    20221202_134600_omission_and_competition_subje...         1734   \n",
       "1    20221202_134600_omission_and_competition_subje...         3728   \n",
       "2    20221202_134600_omission_and_competition_subje...         5972   \n",
       "3    20221202_134600_omission_and_competition_subje...         7966   \n",
       "4    20221202_134600_omission_and_competition_subje...         9836   \n",
       "..                                                 ...          ...   \n",
       "538  20230621_111240_standard_comp_to_omission_D5_s...        62056   \n",
       "539  20230621_111240_standard_comp_to_omission_D5_s...        63554   \n",
       "540  20230621_111240_standard_comp_to_omission_D5_s...        65550   \n",
       "541  20230621_111240_standard_comp_to_omission_D5_s...        67447   \n",
       "542  20230621_111240_standard_comp_to_omission_D5_s...        68444   \n",
       "\n",
       "     video_number      subject_info competition_closeness  \\\n",
       "0             1.0  6_1_top_2_base_3              rewarded   \n",
       "1             1.0  6_1_top_2_base_3              rewarded   \n",
       "2             1.0  6_1_top_2_base_3              rewarded   \n",
       "3             1.0  6_1_top_2_base_3              omission   \n",
       "4             1.0  6_1_top_2_base_3              rewarded   \n",
       "..            ...               ...                   ...   \n",
       "538           1.0    1-4_t3b3L_box1              rewarded   \n",
       "539           1.0    1-4_t3b3L_box1              rewarded   \n",
       "540           1.0    1-4_t3b3L_box1              rewarded   \n",
       "541           1.0    1-4_t3b3L_box1              omission   \n",
       "542           1.0    1-4_t3b3L_box1              rewarded   \n",
       "\n",
       "                                            video_name  ...  \\\n",
       "0    20221202_134600_omission_and_competition_subje...  ...   \n",
       "1    20221202_134600_omission_and_competition_subje...  ...   \n",
       "2    20221202_134600_omission_and_competition_subje...  ...   \n",
       "3    20221202_134600_omission_and_competition_subje...  ...   \n",
       "4    20221202_134600_omission_and_competition_subje...  ...   \n",
       "..                                                 ...  ...   \n",
       "538  20230621_111240_standard_comp_to_omission_D5_s...  ...   \n",
       "539  20230621_111240_standard_comp_to_omission_D5_s...  ...   \n",
       "540  20230621_111240_standard_comp_to_omission_D5_s...  ...   \n",
       "541  20230621_111240_standard_comp_to_omission_D5_s...  ...   \n",
       "542  20230621_111240_standard_comp_to_omission_D5_s...  ...   \n",
       "\n",
       "                                    BLA_trial_filtered  \\\n",
       "0    [-0.1270232139593776, -0.13550809575176323, -0...   \n",
       "1    [0.06167014683416184, 0.04540589200067514, 0.0...   \n",
       "2    [0.09910481914715255, 0.10104307136384137, 0.1...   \n",
       "3    [0.8079986776507001, 0.802581616330127, 0.7956...   \n",
       "4    [-0.254415931077215, -0.2409205597620281, -0.2...   \n",
       "..                                                 ...   \n",
       "538  [-0.396884234421078, -0.3862324333737826, -0.3...   \n",
       "539  [-0.18319276603494036, -0.1841805550129294, -0...   \n",
       "540  [-0.5137307861101343, -0.5306958675338432, -0....   \n",
       "541  [-0.02783542586634227, -0.03506434756881033, -...   \n",
       "542  [-0.5667139842063987, -0.5406552386639925, -0....   \n",
       "\n",
       "                                       BLA_trial_phase  \\\n",
       "0    [2.0921499379288093, 2.318664933741562, 2.3488...   \n",
       "1    [1.1931051596958737, 1.364677985966047, 1.4456...   \n",
       "2    [-0.927968248659119, -0.5873130086540211, -0.5...   \n",
       "3    [-0.7483757898044902, -0.25297448987131416, -0...   \n",
       "4    [2.582987879734853, -3.0482235776078555, -2.99...   \n",
       "..                                                 ...   \n",
       "538  [2.3567229797998173, 2.8316561128702387, 2.856...   \n",
       "539  [2.0751743373273293, 2.2807044402370273, 2.286...   \n",
       "540  [2.1113632892706296, 2.3467339860617353, 2.361...   \n",
       "541  [1.7824580853518792, 1.857178770082537, 1.9044...   \n",
       "542  [2.5151883805128654, 3.122003726481616, -3.119...   \n",
       "\n",
       "                                  LH_baseline_filtered  \\\n",
       "0    [0.056868270266307065, 0.04576024370573059, 0....   \n",
       "1    [-0.6310182399173343, -0.6028305711469237, -0....   \n",
       "2    [0.1465498150487816, 0.15518114144873194, 0.16...   \n",
       "3    [-0.12212974143207109, -0.0897303594412939, -0...   \n",
       "4    [-0.057397393662318, -0.04698434364269451, -0....   \n",
       "..                                                 ...   \n",
       "538  [0.01707570882739581, 0.03522813736810481, 0.0...   \n",
       "539  [0.10491854985557984, 0.11084500737297126, 0.1...   \n",
       "540  [0.2877841494765352, 0.2750994947933646, 0.262...   \n",
       "541  [0.5274836942921007, 0.5225077022298736, 0.516...   \n",
       "542  [0.43966788176261984, 0.4726622380509081, 0.50...   \n",
       "\n",
       "                                     LH_baseline_phase  \\\n",
       "0    [-0.8294859902205611, -0.29035528041932773, -0...   \n",
       "1    [2.70317941107642, -2.8854240753310387, -2.816...   \n",
       "2    [-1.214160090156733, -1.1087585375109443, -1.0...   \n",
       "3    [-2.0406652731308466, -1.8131783573628426, -1....   \n",
       "4    [-2.8402555412201433, -2.1980502765251595, -2....   \n",
       "..                                                 ...   \n",
       "538  [-1.4908505563663725, -1.4162460563406487, -1....   \n",
       "539  [-0.996822934829524, -0.7290929850916655, -0.7...   \n",
       "540  [-0.5029841255241664, 0.16624203825530107, 0.2...   \n",
       "541  [-0.739237598352167, -0.23367456922533097, -0....   \n",
       "542  [-1.0778015352375954, -0.8754673630841805, -0....   \n",
       "\n",
       "                                     LH_trial_filtered  \\\n",
       "0    [0.1633071968546726, 0.16612519566931022, 0.16...   \n",
       "1    [0.08406742217288202, 0.054967079728184, 0.025...   \n",
       "2    [0.1440232256165005, 0.17112191208887603, 0.19...   \n",
       "3    [0.881736402579422, 0.8389485366589725, 0.7945...   \n",
       "4    [0.07969558521319708, 0.09709934263189805, 0.1...   \n",
       "..                                                 ...   \n",
       "538  [-0.7320699704184424, -0.7139963260592896, -0....   \n",
       "539  [-0.5507218909757214, -0.5513565348512753, -0....   \n",
       "540  [-0.8917184191871421, -0.9022609946486229, -0....   \n",
       "541  [0.3496468370398806, 0.3206846964047108, 0.290...   \n",
       "542  [-0.5875424265246689, -0.5944658321003309, -0....   \n",
       "\n",
       "                                        LH_trial_phase  \\\n",
       "0    [-0.8714076735108721, -0.5086576686505543, -0....   \n",
       "1    [1.2979990285889775, 1.4315598190373768, 1.508...   \n",
       "2    [-1.2734754133841686, -1.1716494030565592, -1....   \n",
       "3    [-0.4412991310421433, 0.2551244873375817, 0.32...   \n",
       "4    [-1.3590004890828478, -1.292010156609553, -1.2...   \n",
       "..                                                 ...   \n",
       "538  [2.3728313420926894, 2.860314810535245, 2.8865...   \n",
       "539  [2.19383925249038, 2.5040428124760283, 2.51425...   \n",
       "540  [2.211100441223464, 2.5369163884749195, 2.5525...   \n",
       "541  [0.02392456737011802, 0.7108551169163446, 0.80...   \n",
       "542  [2.2254015723976015, 2.5609072239087585, 2.573...   \n",
       "\n",
       "                                  MD_baseline_filtered  \\\n",
       "0    [-0.20688000714736948, -0.2102295128636095, -0...   \n",
       "1    [-0.23284599033521072, -0.19518301488393547, -...   \n",
       "2    [0.12243278938862083, 0.12378007869477951, 0.1...   \n",
       "3    [-0.30059619238390456, -0.26245575725812575, -...   \n",
       "4    [0.046554693966075006, 0.05869827587747813, 0....   \n",
       "..                                                 ...   \n",
       "538  [-0.015498258313066606, 0.005263930305018268, ...   \n",
       "539  [0.02622800715253357, 0.021585927386509454, 0....   \n",
       "540  [0.3704390537344511, 0.36019399578292044, 0.34...   \n",
       "541  [0.5554590083890355, 0.5520460515886311, 0.547...   \n",
       "542  [0.3901552080035685, 0.4150895012938618, 0.439...   \n",
       "\n",
       "                                     MD_baseline_phase  \\\n",
       "0    [2.4658837910421507, 2.997769183878443, 3.0297...   \n",
       "1    [-2.1967190077622707, -1.9250858812347904, -1....   \n",
       "2    [-1.1733709027228445, -1.053112396600152, -1.0...   \n",
       "3    [-2.7000185364019775, -2.1627155132289615, -2....   \n",
       "4    [-1.0796872594142124, -0.843692575346849, -0.7...   \n",
       "..                                                 ...   \n",
       "538  [-1.651389072222783, -1.5478438376781392, -1.4...   \n",
       "539  [1.0023295235921699, 1.2502130570875232, 1.334...   \n",
       "540  [-0.6444257635658671, -0.06221084060813215, -0...   \n",
       "541  [-0.7734570861378881, -0.29798778386571984, -0...   \n",
       "542  [-1.0218451969624283, -0.7763319388901221, -0....   \n",
       "\n",
       "                                     MD_trial_filtered  \\\n",
       "0    [-0.20527917065687415, -0.19719870709125534, -...   \n",
       "1    [0.00897178566523055, -0.02040608637520462, -0...   \n",
       "2    [0.34646154764149273, 0.3614771084116735, 0.37...   \n",
       "3    [0.7752331855274641, 0.7469425432890375, 0.717...   \n",
       "4    [-0.15995191196085184, -0.13374920061824971, -...   \n",
       "..                                                 ...   \n",
       "538  [-0.7208635635177927, -0.6983369880463078, -0....   \n",
       "539  [-0.5159699899110302, -0.5130013168016468, -0....   \n",
       "540  [-0.7573677720884009, -0.7695910518841816, -0....   \n",
       "541  [0.35698455529733364, 0.3337953854614069, 0.30...   \n",
       "542  [-0.6642070924518607, -0.6603368193310272, -0....   \n",
       "\n",
       "                                        MD_trial_phase  \n",
       "0    [2.6609099288334126, -2.9291304768028654, -2.8...  \n",
       "1    [1.546744032693701, 1.6197585170264568, 1.6855...  \n",
       "2    [-0.9720995533787167, -0.682034040817512, -0.6...  \n",
       "3    [-0.5479010625727009, 0.09808296574327503, 0.1...  \n",
       "4    [-2.2503223891773083, -1.950291504051106, -1.8...  \n",
       "..                                                 ...  \n",
       "538  [2.419619658705634, 2.951607564261522, 2.98551...  \n",
       "539  [2.234101967651651, 2.584972404334137, 2.59817...  \n",
       "540  [2.1834947866947347, 2.4836695265366844, 2.498...  \n",
       "541  [-0.22579651861022243, 0.5013906602819038, 0.5...  \n",
       "542  [2.326960097996799, 2.7604013100741596, 2.7781...  \n",
       "\n",
       "[391 rows x 61 columns]"
      ]
     },
     "execution_count": 35,
     "metadata": {},
     "output_type": "execute_result"
    }
   ],
   "source": [
    "BASIC_LFP_TRACES_DF"
   ]
  },
  {
   "cell_type": "code",
   "execution_count": 36,
   "metadata": {},
   "outputs": [],
   "source": [
    "TRACE_AND_SPIKE_DF = pd.merge(left=BASIC_LFP_TRACES_DF, right=MERGED_SPIKE_TRIAL_DF, left_on=[\"recording_file\", \"time_stamp_index\"], right_on=[\"recording_name\", \"closest_trial\"], how=\"inner\")"
   ]
  },
  {
   "cell_type": "code",
   "execution_count": 37,
   "metadata": {},
   "outputs": [
    {
     "data": {
      "text/plain": [
       "Index(['time', 'recording_dir', 'recording_file', 'time_stamp_index',\n",
       "       'video_file', 'video_frame', 'video_number', 'subject_info',\n",
       "       'competition_closeness', 'video_name', 'all_subjects',\n",
       "       'current_subject', 'trial_outcome', 'lfp_index',\n",
       "       'baseline_lfp_timestamp_range', 'trial_lfp_timestamp_range',\n",
       "       'baseline_ephys_timestamp_range', 'trial_ephys_timestamp_range',\n",
       "       'baseline_videoframe_range', 'trial_videoframe_range', 'trial_number',\n",
       "       'Cohort', 'spike_interface_mPFC', 'spike_interface_vHPC',\n",
       "       'spike_interface_BLA', 'spike_interface_LH', 'spike_interface_MD',\n",
       "       'mPFC_baseline_lfp_trace', 'mPFC_trial_lfp_trace',\n",
       "       'vHPC_baseline_lfp_trace', 'vHPC_trial_lfp_trace',\n",
       "       'BLA_baseline_lfp_trace', 'BLA_trial_lfp_trace',\n",
       "       'LH_baseline_lfp_trace', 'LH_trial_lfp_trace', 'MD_baseline_lfp_trace',\n",
       "       'MD_trial_lfp_trace', 'lfp_trial_all_lfp_index',\n",
       "       'lfp_baseline_all_lfp_index', 'lfp_trial_all_ephys_index',\n",
       "       'lfp_baseline_all_ephys_index', 'mPFC_baseline_filtered',\n",
       "       'mPFC_baseline_phase', 'mPFC_trial_filtered', 'mPFC_trial_phase',\n",
       "       'vHPC_baseline_filtered', 'vHPC_baseline_phase', 'vHPC_trial_filtered',\n",
       "       'vHPC_trial_phase', 'BLA_baseline_filtered', 'BLA_baseline_phase',\n",
       "       'BLA_trial_filtered', 'BLA_trial_phase', 'LH_baseline_filtered',\n",
       "       'LH_baseline_phase', 'LH_trial_filtered', 'LH_trial_phase',\n",
       "       'MD_baseline_filtered', 'MD_baseline_phase', 'MD_trial_filtered',\n",
       "       'MD_trial_phase', 'Unnamed: 0', 'spike_clusters', 'spike_times',\n",
       "       'cluster_id', '1_5_ms_isi', '1ms_isi', '2ms_isi', 'amp', 'ch',\n",
       "       'channel_group', 'depth', 'fr', 'group', 'n_spikes', 'sh', 'si_unit_id',\n",
       "       'recording_name', 'timestamp_isi', 'current_isi', 'closest_trial',\n",
       "       'ephys_sample_from_trial_onset', 'lfp_sample_from_trial_onset',\n",
       "       'cluster_id_with_file_name'],\n",
       "      dtype='object')"
      ]
     },
     "execution_count": 37,
     "metadata": {},
     "output_type": "execute_result"
    }
   ],
   "source": [
    "TRACE_AND_SPIKE_DF.columns"
   ]
  },
  {
   "cell_type": "code",
   "execution_count": 38,
   "metadata": {},
   "outputs": [
    {
     "data": {
      "text/plain": [
       "(10000,)"
      ]
     },
     "execution_count": 38,
     "metadata": {},
     "output_type": "execute_result"
    }
   ],
   "source": [
    "TRACE_AND_SPIKE_DF[\"mPFC_trial_phase\"].iloc[0].shape"
   ]
  },
  {
   "cell_type": "code",
   "execution_count": 39,
   "metadata": {},
   "outputs": [
    {
     "data": {
      "text/plain": [
       "0        -9982\n",
       "1        -9950\n",
       "2        -9939\n",
       "3        -9933\n",
       "4        -9925\n",
       "          ... \n",
       "103994    9911\n",
       "103995    9956\n",
       "103996    9963\n",
       "103997    9972\n",
       "103998    9998\n",
       "Name: lfp_sample_from_trial_onset, Length: 103999, dtype: int64"
      ]
     },
     "execution_count": 39,
     "metadata": {},
     "output_type": "execute_result"
    }
   ],
   "source": [
    "TRACE_AND_SPIKE_DF[\"lfp_sample_from_trial_onset\"]"
   ]
  },
  {
   "cell_type": "code",
   "execution_count": 40,
   "metadata": {},
   "outputs": [],
   "source": [
    "phase_columns = [col for col in BASIC_LFP_TRACES_DF.columns if \"phase\" in col]"
   ]
  },
  {
   "cell_type": "code",
   "execution_count": 41,
   "metadata": {},
   "outputs": [],
   "source": [
    "for col in phase_columns:\n",
    "    region_name = \"_\".join(col.split(\"_\")[:2])\n",
    "    TRACE_AND_SPIKE_DF[\"{}_spike_phase\".format(region_name)] = TRACE_AND_SPIKE_DF.apply(lambda x: x[col][x[\"lfp_sample_from_trial_onset\"]], axis=1)"
   ]
  },
  {
   "cell_type": "code",
   "execution_count": null,
   "metadata": {},
   "outputs": [],
   "source": [
    "TRACE_AND_SPIKE_DF[\"mPFC_trial_spike_phase\"]"
   ]
  },
  {
   "cell_type": "code",
   "execution_count": null,
   "metadata": {},
   "outputs": [],
   "source": [
    "TRACE_AND_SPIKE_DF[\"cluster_id_with_file_name\"].unique()[0]"
   ]
  },
  {
   "cell_type": "code",
   "execution_count": null,
   "metadata": {},
   "outputs": [],
   "source": [
    "spike_columns = [col for col in TRACE_AND_SPIKE_DF.columns if \"trial_spike_phase\" in col]"
   ]
  },
  {
   "cell_type": "code",
   "execution_count": null,
   "metadata": {
    "scrolled": true
   },
   "outputs": [],
   "source": [
    "TRACE_AND_SPIKE_DF[\"cluster_id_with_file_name\"].unique()"
   ]
  },
  {
   "cell_type": "code",
   "execution_count": null,
   "metadata": {},
   "outputs": [],
   "source": [
    "n_bins = 12\n",
    "phase_bins = np.linspace(-np.pi, np.pi, n_bins+1)"
   ]
  },
  {
   "cell_type": "code",
   "execution_count": null,
   "metadata": {},
   "outputs": [],
   "source": [
    "phase_bins"
   ]
  },
  {
   "cell_type": "code",
   "execution_count": null,
   "metadata": {},
   "outputs": [],
   "source": [
    "id_and_outcome_to_ppc"
   ]
  },
  {
   "cell_type": "code",
   "execution_count": null,
   "metadata": {},
   "outputs": [],
   "source": [
    "spike_phases.max()"
   ]
  },
  {
   "cell_type": "code",
   "execution_count": null,
   "metadata": {
    "scrolled": true
   },
   "outputs": [],
   "source": [
    "# Creating a dictionary that we can add all dataframes to\n",
    "id_and_outcome_to_ppc = defaultdict(list)\n",
    "\n",
    "# Iterating through each brain region\n",
    "for col in spike_columns:\n",
    "    # Iterating through each neuron\n",
    "    for index, neuron_id in enumerate(TRACE_AND_SPIKE_DF[\"cluster_id_with_file_name\"].unique()):        \n",
    "        print(col)\n",
    "        print(neuron_id)\n",
    "        # # Instantiating a new plot\n",
    "        # fig, ax = plt.subplots()\n",
    "        #Plotting the histogram\n",
    "        ax = plt.subplot(1,1,1, polar=True)\n",
    "        plt.title(neuron_id)\n",
    "        plt.xlabel(col)\n",
    "        # Iterating through each trial outcome\n",
    "        for outcome in TRACE_AND_SPIKE_DF[\"trial_outcome\"].unique():\n",
    "            print(outcome)\n",
    "            # Getting all the rows that have this trial outcome and this neuron\n",
    "            outcome_df = TRACE_AND_SPIKE_DF[(TRACE_AND_SPIKE_DF[\"trial_outcome\"] == outcome) & (TRACE_AND_SPIKE_DF[\"cluster_id_with_file_name\"] == neuron_id)]\n",
    "            # Getting the phases of the current brain regions for all the spikes \n",
    "            spike_phases = outcome_df[col]\n",
    "            binned_phases = np.digitize(spike_phases, phase_bins, n_bins+1)\n",
    "            spike_phase_hist = np.zeros(n_bins+1)\n",
    "            \n",
    "            for bin in range(0, n_bins + 1):\n",
    "                spike_phase_hist[bin] = np.sum(binned_phases == bin)\n",
    "            \n",
    "\n",
    "            # plt.bar(phase_bins, pre.MinMaxScaler().fit_transform(spike_phase_hist.reshape(-1,1)).T[0], width=phase_bins[1] - phase_bins[0], bottom=0.0, edgecolor=BASELINE_OUTCOME_TO_COLOR[outcome], label=outcome, color=BASELINE_OUTCOME_TO_COLOR[outcome], alpha=0.5)\n",
    "            plt.bar(phase_bins, pre.MinMaxScaler().fit_transform(spike_phase_hist.reshape(-1,1)).T[0], width=phase_bins[1] - phase_bins[0], bottom=0.0, edgecolor=BASELINE_OUTCOME_TO_COLOR[outcome], label=outcome, color='none', linewidth = 5)\n",
    "            \n",
    "            # Calculating the ppc values\n",
    "            ppc_val = PPC(spike_phases)\n",
    "            # Calculating the Rayleightest            \n",
    "            rayleigh_val = rayleightest(spike_phases) \n",
    "            print(\"\\tSpike phase histogram: {}\".format(spike_phase_hist))\n",
    "            print(\"\\tppc_val: {}\".format(ppc_val))\n",
    "            print(\"\\trayleigh_val: {}\".format(rayleigh_val))\n",
    "\n",
    "\n",
    "            \n",
    "            id_and_outcome_to_ppc[col].append({\"cluster_id_with_file_name\": neuron_id, \"outcome\": outcome, \"ppc\": ppc_val, \"rayleightest\": rayleigh_val})\n",
    "\n",
    "        plt.legend()\n",
    "        plt.savefig(\"./proc/lfp_spike_coupling/{}_{}.png\".format(neuron_id, col.split(\"_\")[0]))\n",
    "        plt.show()\n",
    "        \n",
    "    "
   ]
  },
  {
   "cell_type": "code",
   "execution_count": null,
   "metadata": {},
   "outputs": [],
   "source": [
    "pd.DataFrame.from_dict(id_and_outcome_to_ppc)"
   ]
  },
  {
   "cell_type": "code",
   "execution_count": null,
   "metadata": {},
   "outputs": [],
   "source": [
    "id_and_outcome_to_ppc.keys()"
   ]
  },
  {
   "cell_type": "code",
   "execution_count": null,
   "metadata": {},
   "outputs": [],
   "source": [
    "all_phase_df = []\n",
    "for key, value in id_and_outcome_to_ppc.items():\n",
    "    current_df = pd.DataFrame.from_dict(id_and_outcome_to_ppc[key])\n",
    "    current_df[\"region\"] = key\n",
    "    all_phase_df.append(current_df)"
   ]
  },
  {
   "cell_type": "code",
   "execution_count": null,
   "metadata": {},
   "outputs": [],
   "source": [
    "all_phase_df = pd.concat(all_phase_df)"
   ]
  },
  {
   "cell_type": "code",
   "execution_count": null,
   "metadata": {},
   "outputs": [],
   "source": [
    "all_phase_df.sort_values(\"rayleightest\").head(n=20)"
   ]
  },
  {
   "cell_type": "markdown",
   "metadata": {
    "scrolled": true
   },
   "source": [
    "\n",
    "id_and_outcome_to_ppc = defaultdict(list)\n",
    "for col in spike_columns:\n",
    "\n",
    "    for id in range(len(TRACE_AND_SPIKE_DF[\"cluster_id_with_file_name\"].unique())):\n",
    "        fig, ax = plt.subplots()\n",
    "        \n",
    "        for outcome in TRACE_AND_SPIKE_DF[\"trial_outcome\"].unique():\n",
    "        \n",
    "            outcome_df = TRACE_AND_SPIKE_DF[(TRACE_AND_SPIKE_DF[\"trial_outcome\"] == outcome) & (TRACE_AND_SPIKE_DF[\"cluster_id_with_file_name\"] == neuron_id)]\n",
    "            \n",
    "            spike_phases = outcome_df[col]\n",
    "        \n",
    "            n_bins = 18\n",
    "            phase_bins = np.linspace(-np.pi, np.pi, n_bins+1)\n",
    "            binned_phases = np.digitize(spike_phases, phase_bins, n_bins+1)\n",
    "            spike_phase_hist = np.zeros(n_bins+1)\n",
    "            for bin in range(0, n_bins + 1):\n",
    "                spike_phase_hist[bin] = np.sum(binned_phases == bin)\n",
    "            print(spike_phase_hist)\n",
    "            \n",
    "            #Plot\n",
    "            ax = plt.subplot(1,1,1, polar=True)\n",
    "            # plt.bar(phase_bins, pre.MinMaxScaler().fit_transform(spike_phase_hist.reshape(-1,1)).T[0], width=phase_bins[1] - phase_bins[0], bottom=0.0, edgecolor=BASELINE_OUTCOME_TO_COLOR[outcome], label=outcome, color=BASELINE_OUTCOME_TO_COLOR[outcome], alpha=0.5)\n",
    "            plt.bar(phase_bins, pre.MinMaxScaler().fit_transform(spike_phase_hist.reshape(-1,1)).T[0], width=phase_bins[1] - phase_bins[0], bottom=0.0, edgecolor=BASELINE_OUTCOME_TO_COLOR[outcome], label=outcome, color='none', linewidth = 5)\n",
    "            ppc_val = PPC(spike_phases)\n",
    "\n",
    "\n",
    "\n",
    "            \n",
    "            rayleightest(data) \n",
    "            \n",
    "            id_and_outcome_to_ppc[col].append({\"cluster_id_with_file_name\": neuron_id, \"outcome\": outcome, \"ppc\": ppc_val, \"rayleightest\": rayleightest(spike_phases)})\n",
    "            plt.title(neuron_id)\n",
    "            plt.xlabel(col)\n",
    "        plt.legend()\n",
    "        plt.savefig(\"./proc/lfp_spike_coupling/{}_{}.png\".format(neuron_id, col.split(\"_\")[0]))\n",
    "        plt.show()\n",
    "        break\n",
    "    break"
   ]
  },
  {
   "cell_type": "raw",
   "metadata": {
    "scrolled": true
   },
   "source": [
    "id_and_outcome_to_ppc = []\n",
    "for id in range(len(TRACE_AND_SPIKE_DF[\"cluster_id_with_file_name\"].unique())):\n",
    "    fig, ax = plt.subplots()\n",
    "    \n",
    "    for outcome in TRACE_AND_SPIKE_DF[\"trial_outcome\"].unique():\n",
    "    \n",
    "        outcome_df = TRACE_AND_SPIKE_DF[(TRACE_AND_SPIKE_DF[\"trial_outcome\"] == outcome) & (TRACE_AND_SPIKE_DF[\"cluster_id_with_file_name\"] == neuron_id)]\n",
    "        \n",
    "        spike_phases = outcome_df[\"mPFC_trial_spike_phase\"]\n",
    "    \n",
    "        n_bins = 18\n",
    "        phase_bins = np.linspace(-np.pi, np.pi, n_bins+1)\n",
    "        binned_phases = np.digitize(spike_phases, phase_bins, n_bins+1)\n",
    "        spike_phase_hist = np.zeros(n_bins+1)\n",
    "        for bin in range(0, n_bins + 1):\n",
    "            spike_phase_hist[bin] = np.sum(binned_phases == bin)\n",
    "        print(spike_phase_hist)\n",
    "        \n",
    "        #Plot\n",
    "        ax = plt.subplot(1,1,1, polar=True)\n",
    "        # plt.bar(phase_bins, pre.MinMaxScaler().fit_transform(spike_phase_hist.reshape(-1,1)).T[0], width=phase_bins[1] - phase_bins[0], bottom=0.0, edgecolor=BASELINE_OUTCOME_TO_COLOR[outcome], label=outcome, color=BASELINE_OUTCOME_TO_COLOR[outcome], alpha=0.5)\n",
    "        plt.bar(phase_bins, pre.MinMaxScaler().fit_transform(spike_phase_hist.reshape(-1,1)).T[0], width=phase_bins[1] - phase_bins[0], bottom=0.0, edgecolor=BASELINE_OUTCOME_TO_COLOR[outcome], label=outcome, color='none', linewidth = 5)\n",
    "        ppc_val = PPC(spike_phases)\n",
    "        id_and_outcome_to_ppc.append({\"cluster_id_with_file_name\": neuron_id, \"outcome\": outcome, \"ppc\": ppc_val})\n",
    "        plt.title(neuron_id)\n",
    "    plt.legend()\n",
    "    plt.show()\n",
    "    break"
   ]
  },
  {
   "cell_type": "code",
   "execution_count": null,
   "metadata": {},
   "outputs": [],
   "source": [
    "ppc_df = pd.DataFrame(id_and_outcome_to_ppc).dropna()"
   ]
  },
  {
   "cell_type": "code",
   "execution_count": null,
   "metadata": {},
   "outputs": [],
   "source": [
    "ppc_df"
   ]
  },
  {
   "cell_type": "code",
   "execution_count": null,
   "metadata": {},
   "outputs": [],
   "source": [
    "    sns.violinplot(x=ppc_df['outcome'], y=ppc_df['ppc'], palette=BASELINE_OUTCOME_TO_COLOR)"
   ]
  },
  {
   "cell_type": "code",
   "execution_count": null,
   "metadata": {},
   "outputs": [],
   "source": [
    "fig, ax = plt.subplots()\n",
    "\n",
    "# Create a separate violin plot for each group\n",
    "for i, group in enumerate(ppc_df[\"outcome\"].unique()):\n",
    "    group_data = ppc_df[ppc_df['outcome'] == group]  # filter the data for this group\n",
    "    sns.violinplot(x=group_data['outcome'], y=group_data['ppc'])\n",
    "    # axs[i].set_title(f'Violin plot for {group}')\n",
    "\n",
    "plt.tight_layout()\n",
    "plt.show()"
   ]
  },
  {
   "cell_type": "code",
   "execution_count": null,
   "metadata": {},
   "outputs": [],
   "source": [
    "# Create a histogram with Seaborn's 'histplot'\n",
    "plt.figure(figsize=(10, 6))\n",
    "sns.histplot(data=ppc_df, x='ppc', hue='outcome', multiple=\"stack\", binwidth=0.01)\n",
    "\n",
    "# Set labels and title\n",
    "plt.xlabel('Data Values')\n",
    "plt.ylabel('Frequency')\n",
    "plt.title('Histogram of Data for Different Groups')\n",
    "\n",
    "# Show plot\n",
    "plt.show()"
   ]
  },
  {
   "cell_type": "code",
   "execution_count": null,
   "metadata": {},
   "outputs": [],
   "source": [
    "spike_phases = TRACE_AND_SPIKE_DF[\"mPFC_trial_spike_phase\"]"
   ]
  },
  {
   "cell_type": "code",
   "execution_count": null,
   "metadata": {},
   "outputs": [],
   "source": [
    "n_bins = 18\n",
    "phase_bins = np.linspace(-np.pi, np.pi, n_bins+1)\n",
    "binned_phases = np.digitize(spike_phases, phase_bins, n_bins+1)\n",
    "spike_phase_hist = np.zeros(n_bins+1)\n",
    "for bin in range(0, n_bins + 1):\n",
    "    spike_phase_hist[bin] = np.sum(binned_phases == bin)\n",
    "print(spike_phase_hist)\n",
    "\n",
    "#Plot\n",
    "ax = plt.subplot(1,1,1, polar=True)\n",
    "plt.bar(phase_bins, spike_phase_hist, width=phase_bins[1] - phase_bins[0], bottom=0.0)"
   ]
  },
  {
   "cell_type": "markdown",
   "metadata": {},
   "source": [
    "# OLD MERGING CODE"
   ]
  },
  {
   "cell_type": "code",
   "execution_count": null,
   "metadata": {},
   "outputs": [],
   "source": [
    "raise ValueError()"
   ]
  },
  {
   "cell_type": "code",
   "execution_count": null,
   "metadata": {},
   "outputs": [],
   "source": [
    "BASIC_LFP_TRACES_DF[\"spike_df\"] = BASIC_LFP_TRACES_DF.apply(lambda x: MERGED_SPIKE_TRIAL_DF[(MERGED_SPIKE_TRIAL_DF[\"recording_name\"] == x[\"recording_file\"]) & (MERGED_SPIKE_TRIAL_DF[\"closest_trial\"] == x[\"time_stamp_index\"])], axis=1)"
   ]
  },
  {
   "cell_type": "code",
   "execution_count": null,
   "metadata": {},
   "outputs": [],
   "source": [
    "BASIC_LFP_TRACES_DF[\"has_spike_df\"] = BASIC_LFP_TRACES_DF[\"spike_df\"].apply(lambda x: not x.empty)"
   ]
  },
  {
   "cell_type": "code",
   "execution_count": null,
   "metadata": {},
   "outputs": [],
   "source": [
    "BASIC_LFP_TRACES_DF = BASIC_LFP_TRACES_DF[BASIC_LFP_TRACES_DF[\"has_spike_df\"]].reset_index(drop=True)"
   ]
  },
  {
   "cell_type": "code",
   "execution_count": null,
   "metadata": {},
   "outputs": [],
   "source": [
    "BASIC_LFP_TRACES_DF[\"spike_df\"].iloc[0]"
   ]
  },
  {
   "cell_type": "code",
   "execution_count": null,
   "metadata": {},
   "outputs": [],
   "source": [
    "BASIC_LFP_TRACES_DF[\"neuron_to_spike_times\"] = BASIC_LFP_TRACES_DF[\"spike_df\"].apply(lambda x: {k: sorted(list(v)) for k, v in x.groupby(\"cluster_id\")[\"lfp_sample_from_trial_onset\"]})"
   ]
  },
  {
   "cell_type": "code",
   "execution_count": null,
   "metadata": {},
   "outputs": [],
   "source": [
    "BASIC_LFP_TRACES_DF[\"neuron_to_spike_times\"] = BASIC_LFP_TRACES_DF[\"spike_df\"].apply(lambda x: x.groupby(\"cluster_id\")[\"lfp_sample_from_trial_onset\"].apply(list).reset_index(name='lfp_sample_from_trial_onset'))"
   ]
  },
  {
   "cell_type": "code",
   "execution_count": null,
   "metadata": {},
   "outputs": [],
   "source": [
    "BASIC_LFP_TRACES_DF[\"neuron_to_spike_times\"].iloc[0]"
   ]
  },
  {
   "cell_type": "markdown",
   "metadata": {},
   "source": [
    "# Filtering and getting the phase of all the LFPs"
   ]
  },
  {
   "cell_type": "markdown",
   "metadata": {},
   "source": [
    "- Filtering all the data"
   ]
  },
  {
   "cell_type": "code",
   "execution_count": null,
   "metadata": {},
   "outputs": [],
   "source": [
    "BASIC_LFP_TRACES_DF.head()"
   ]
  },
  {
   "cell_type": "code",
   "execution_count": null,
   "metadata": {},
   "outputs": [],
   "source": [
    "trace_columns = [col for col in BASIC_LFP_TRACES_DF.columns if \"trace\" in col]"
   ]
  },
  {
   "cell_type": "code",
   "execution_count": null,
   "metadata": {},
   "outputs": [],
   "source": [
    "FREQ_BAND = [4, 12]\n"
   ]
  },
  {
   "cell_type": "code",
   "execution_count": null,
   "metadata": {},
   "outputs": [],
   "source": [
    "for col in trace_columns:\n",
    "    region_name = \"_\".join(col.split(\"_\")[:2])\n",
    "    BASIC_LFP_TRACES_DF[\"{}_filtered\".format(region_name)] = BASIC_LFP_TRACES_DF[col].apply(lambda x: filtfilt(numerator_b, denominator_a, x, padtype=None))\n",
    "\n",
    "    BASIC_LFP_TRACES_DF[\"{}_phase\".format(region_name)] = BASIC_LFP_TRACES_DF[\"{}_filtered\".format(region_name)].apply(lambda x: np.angle(hilbert(x), deg=False))\n",
    "    \n"
   ]
  },
  {
   "cell_type": "markdown",
   "metadata": {},
   "source": [
    "- Plotting an example filtered trace"
   ]
  },
  {
   "cell_type": "code",
   "execution_count": null,
   "metadata": {},
   "outputs": [],
   "source": [
    "MERGED_SPIKE_TRIAL_DF.head()"
   ]
  },
  {
   "cell_type": "code",
   "execution_count": null,
   "metadata": {},
   "outputs": [],
   "source": [
    "\n",
    "plt.figure(figsize=(16,4))\n",
    "plt.plot(BASIC_LFP_TRACES_DF[\"BLA_trial_filtered\"].iloc[0])\n",
    "\n",
    "current_spike_df = BASIC_LFP_TRACES_DF[\"spike_df\"].iloc[0]\n",
    "current_unit_spikes = current_spike_df[current_spike_df[\"cluster_id\"] == current_spike_df[\"cluster_id\"].unique()[0]][\"lfp_sample_from_trial_onset\"].values\n",
    "\n",
    "for spike in current_unit_spikes:\n",
    "    plt.axvline(spike, color='black', alpha=.5)\n",
    "plt.xlim(0,10000)"
   ]
  },
  {
   "cell_type": "code",
   "execution_count": null,
   "metadata": {},
   "outputs": [],
   "source": [
    "plt.figure(figsize=(16,4))\n",
    "plt.plot(BASIC_LFP_TRACES_DF[\"BLA_trial_phase\"].iloc[0])\n",
    "plt.xlabel('Time (s)')\n",
    "plt.ylabel('Phase (degrees)')\n",
    "# plt.xlim(example_times[0],example_times[0] + EPHYS_SAMPLING_RATE)\n",
    "for spike in current_unit_spikes:\n",
    "    plt.axvline(spike, color='black', alpha=.5)\n",
    "plt.xlim(0,10000)"
   ]
  },
  {
   "cell_type": "code",
   "execution_count": null,
   "metadata": {
    "scrolled": true
   },
   "outputs": [],
   "source": [
    "BASIC_LFP_TRACES_DF.head()"
   ]
  },
  {
   "cell_type": "code",
   "execution_count": null,
   "metadata": {},
   "outputs": [],
   "source": [
    "BASIC_LFP_TRACES_DF[\"neuron_to_spike_times\"].iloc[0]"
   ]
  },
  {
   "cell_type": "code",
   "execution_count": null,
   "metadata": {},
   "outputs": [],
   "source": [
    "spike_phases = []\n",
    "for spike_time in spike_times:\n",
    "    spike_phases.append(phase[int(round(spike_time*fs))])"
   ]
  },
  {
   "cell_type": "markdown",
   "metadata": {},
   "source": [
    "# Plotting phase and LFP"
   ]
  },
  {
   "cell_type": "code",
   "execution_count": null,
   "metadata": {},
   "outputs": [],
   "source": [
    "BASIC_LFP_TRACES_DF[\"spike_df\"].iloc[0]"
   ]
  },
  {
   "cell_type": "code",
   "execution_count": null,
   "metadata": {},
   "outputs": [],
   "source": [
    "BASIC_LFP_TRACES_DF[\"spike_df\"].iloc[5].columns"
   ]
  },
  {
   "cell_type": "code",
   "execution_count": null,
   "metadata": {},
   "outputs": [],
   "source": [
    "BASIC_LFP_TRACES_DF.columns"
   ]
  },
  {
   "cell_type": "code",
   "execution_count": null,
   "metadata": {},
   "outputs": [],
   "source": [
    "rec_file = MERGED_SPIKE_TRIAL_DF[\"recording_name\"].unique()[0]"
   ]
  },
  {
   "cell_type": "code",
   "execution_count": null,
   "metadata": {
    "scrolled": true
   },
   "outputs": [],
   "source": [
    "example_trial = BASIC_LFP_TRACES_DF[BASIC_LFP_TRACES_DF[\"recording_file\"] == rec_file].iloc[15]"
   ]
  },
  {
   "cell_type": "code",
   "execution_count": null,
   "metadata": {},
   "outputs": [],
   "source": []
  },
  {
   "cell_type": "code",
   "execution_count": null,
   "metadata": {},
   "outputs": [],
   "source": [
    "example_trial.index"
   ]
  },
  {
   "cell_type": "code",
   "execution_count": null,
   "metadata": {},
   "outputs": [],
   "source": [
    "example_start, example_end = example_trial[\"trial_ephys_timestamp_range\"]"
   ]
  },
  {
   "cell_type": "code",
   "execution_count": null,
   "metadata": {},
   "outputs": [],
   "source": [
    "example_spike_df = MERGED_SPIKE_TRIAL_DF[MERGED_SPIKE_TRIAL_DF[\"recording_name\"] == rec_file]"
   ]
  },
  {
   "cell_type": "code",
   "execution_count": null,
   "metadata": {},
   "outputs": [],
   "source": [
    "example_spike_df = example_spike_df[(example_spike_df[\"spike_times\"] > example_start) & (example_spike_df[\"spike_times\"] < example_end)]"
   ]
  },
  {
   "cell_type": "code",
   "execution_count": null,
   "metadata": {},
   "outputs": [],
   "source": [
    "example_spike_df[[\"spike_clusters\", \"spike_times\"]]"
   ]
  },
  {
   "cell_type": "code",
   "execution_count": null,
   "metadata": {},
   "outputs": [],
   "source": [
    "example_spike_df"
   ]
  },
  {
   "cell_type": "code",
   "execution_count": null,
   "metadata": {},
   "outputs": [],
   "source": [
    "merged_df = pd.merge(left=BASIC_LFP_TRACES_DF, right=MERGED_SPIKE_TRIAL_DF, left_on=[\"recording_file\", \"time_stamp_index\"], right_on=[\"recording_name\", \"closest_trial\"], how=\"inner\")"
   ]
  },
  {
   "cell_type": "code",
   "execution_count": null,
   "metadata": {},
   "outputs": [],
   "source": [
    "merged_df.columns"
   ]
  },
  {
   "cell_type": "code",
   "execution_count": null,
   "metadata": {},
   "outputs": [],
   "source": [
    "BASIC_LFP_TRACES_DF"
   ]
  },
  {
   "cell_type": "code",
   "execution_count": null,
   "metadata": {},
   "outputs": [],
   "source": [
    "# Group by 'Group' column and get group sizes\n",
    "group_sizes = example_spike_df.groupby('cluster_id').size()\n",
    "\n",
    "# Identify the group with the largest count\n",
    "group_with_max_count = group_sizes.idxmax()\n",
    "print(f\"The group with the largest count is: {group_with_max_count}\")\n",
    "\n",
    "# If you also want to retrieve the actual rows of that group:\n",
    "max_group_data = example_spike_df[example_spike_df['cluster_id'] == group_with_max_count][\"spike_times\"]\n"
   ]
  },
  {
   "cell_type": "code",
   "execution_count": null,
   "metadata": {},
   "outputs": [],
   "source": [
    "example_times = example_trial[\"lfp_trial_all_ephys_index\"]"
   ]
  },
  {
   "cell_type": "code",
   "execution_count": null,
   "metadata": {},
   "outputs": [],
   "source": [
    "example_trace = example_trial[\"mPFC_baseline_lfp_trace\"]"
   ]
  },
  {
   "cell_type": "code",
   "execution_count": null,
   "metadata": {
    "scrolled": true
   },
   "outputs": [],
   "source": [
    "aligned_spike_times = find_closest_nums(max_group_data, example_trial[\"lfp_trial_all_ephys_index\"])"
   ]
  },
  {
   "cell_type": "code",
   "execution_count": null,
   "metadata": {},
   "outputs": [],
   "source": [
    "plt.figure(figsize=(16,4))\n",
    "plt.plot(example_times, example_trace)\n",
    "for time_stamp in aligned_spike_times:\n",
    "    plt.vlines(x=time_stamp, ymin=-4, ymax=4)\n",
    "plt.xlim(example_times[0],example_times[0] + EPHYS_SAMPLING_RATE)"
   ]
  },
  {
   "cell_type": "code",
   "execution_count": null,
   "metadata": {},
   "outputs": [],
   "source": [
    "plt.figure(figsize=(16,4))\n",
    "plt.plot(example_times, example_trial[\"mPFC_trial_filtered\"])\n",
    "for time_stamp in max_group_data:\n",
    "    plt.vlines(x=time_stamp, ymin=-4, ymax=4)\n",
    "plt.xlim(example_times[0],example_times[0] + EPHYS_SAMPLING_RATE)"
   ]
  },
  {
   "cell_type": "code",
   "execution_count": null,
   "metadata": {},
   "outputs": [],
   "source": [
    "plt.figure(figsize=(16,4))\n",
    "plt.plot(example_times, example_trial[\"mPFC_trial_phase\"])\n",
    "plt.xlabel('Time (s)')\n",
    "plt.ylabel('Phase (degrees)')\n",
    "for time_stamp in max_group_data:\n",
    "    plt.vlines(x=time_stamp, ymin=-4, ymax=4)\n",
    "plt.xlim(example_times[0],example_times[0] + EPHYS_SAMPLING_RATE)"
   ]
  },
  {
   "cell_type": "code",
   "execution_count": null,
   "metadata": {},
   "outputs": [],
   "source": [
    "aligned_spike_indices = find_closest_indices(max_group_data, example_times)"
   ]
  },
  {
   "cell_type": "code",
   "execution_count": null,
   "metadata": {},
   "outputs": [],
   "source": [
    "spike_phases = []\n",
    "for spike_time in aligned_spike_indices:\n",
    "    spike_phases.append(example_trial[\"mPFC_trial_phase\"][spike_time])\n"
   ]
  },
  {
   "cell_type": "code",
   "execution_count": null,
   "metadata": {},
   "outputs": [],
   "source": [
    "n_bins = 18\n",
    "phase_bins = np.linspace(-np.pi, np.pi, n_bins+1)\n",
    "binned_phases = np.digitize(spike_phases, phase_bins, n_bins+1)\n",
    "spike_phase_hist = np.zeros(n_bins+1)\n",
    "for bin in range(0, n_bins + 1):\n",
    "    spike_phase_hist[bin] = np.sum(binned_phases == bin)\n",
    "print(spike_phase_hist)\n",
    "\n",
    "#Plot\n",
    "ax = plt.subplot(1,1,1, polar=True)\n",
    "plt.bar(phase_bins, spike_phase_hist, width=phase_bins[1] - phase_bins[0], bottom=0.0)"
   ]
  },
  {
   "cell_type": "code",
   "execution_count": null,
   "metadata": {},
   "outputs": [],
   "source": []
  }
 ],
 "metadata": {
  "deepnote": {},
  "deepnote_execution_queue": [],
  "deepnote_notebook_id": "cf8fe3695d074ee7887fdf6459cbf5ce",
  "kernelspec": {
   "display_name": "Python 3 (ipykernel)",
   "language": "python",
   "name": "python3"
  },
  "language_info": {
   "codemirror_mode": {
    "name": "ipython",
    "version": 3
   },
   "file_extension": ".py",
   "mimetype": "text/x-python",
   "name": "python",
   "nbconvert_exporter": "python",
   "pygments_lexer": "ipython3",
   "version": "3.9.16"
  }
 },
 "nbformat": 4,
 "nbformat_minor": 4
}
