{
 "cells": [
  {
   "cell_type": "markdown",
   "metadata": {
    "cell_id": "c3a02adc9e884466bc8c79db549cc3d2",
    "deepnote_cell_type": "text-cell-h1",
    "formattedRanges": [
     {
      "fromCodePoint": 0,
      "marks": {
       "bold": true,
       "underline": true
      },
      "toCodePoint": 17,
      "type": "marks"
     }
    ]
   },
   "source": [
    "# Title of notebook"
   ]
  },
  {
   "cell_type": "markdown",
   "metadata": {
    "cell_id": "4546bee655b14a5dbf393161f1228e60",
    "deepnote_cell_type": "text-cell-p",
    "formattedRanges": []
   },
   "source": [
    "Brief 1-2 sentence description of notebook."
   ]
  },
  {
   "cell_type": "code",
   "execution_count": 1,
   "metadata": {},
   "outputs": [],
   "source": [
    "import warnings\n",
    "warnings.filterwarnings('ignore')"
   ]
  },
  {
   "cell_type": "code",
   "execution_count": 2,
   "metadata": {
    "cell_id": "03b495cefa6a4798a44c7f2e4c6a3ea7",
    "deepnote_cell_type": "code",
    "deepnote_to_be_reexecuted": false,
    "execution_millis": 21,
    "execution_start": 1691424003626,
    "source_hash": null
   },
   "outputs": [],
   "source": [
    "# Imports of all used packages and libraries\n",
    "import os\n",
    "import glob\n",
    "import numpy as np\n",
    "import pandas as pd\n",
    "import matplotlib.pyplot as plt\n",
    "import itertools\n",
    "import seaborn as sns\n"
   ]
  },
  {
   "cell_type": "code",
   "execution_count": 3,
   "metadata": {},
   "outputs": [],
   "source": [
    "import spikeinterface.extractors as se\n",
    "import spikeinterface.preprocessing as sp\n",
    "from spectral_connectivity import Multitaper, Connectivity\n",
    "import spectral_connectivity"
   ]
  },
  {
   "cell_type": "markdown",
   "metadata": {
    "cell_id": "d290bac2c17940bfbc0f9296beaf70e5",
    "deepnote_cell_type": "text-cell-h2",
    "formattedRanges": []
   },
   "source": [
    "## Inputs & Data"
   ]
  },
  {
   "cell_type": "markdown",
   "metadata": {
    "cell_id": "e528ce19c608425292151930d380f49f",
    "deepnote_cell_type": "text-cell-p",
    "formattedRanges": []
   },
   "source": [
    "Explanation of each input and where it comes from."
   ]
  },
  {
   "cell_type": "code",
   "execution_count": 4,
   "metadata": {
    "cell_id": "6cf83a5811054461a718a71673d09aab",
    "deepnote_cell_type": "code",
    "deepnote_to_be_reexecuted": false,
    "execution_millis": 373,
    "execution_start": 1691424003628,
    "source_hash": null
   },
   "outputs": [],
   "source": [
    "# Inputs and Required data loading\n",
    "# input varaible names are in all caps snake case\n",
    "# Whenever an input changes or is used for processing \n",
    "# the vairables are all lower in snake case\n",
    "OUTPUT_DIR = r\"./proc/\" # where data is saved should always be shown in the inputs\n",
    "os.makedirs(OUTPUT_DIR, exist_ok=True)"
   ]
  },
  {
   "cell_type": "code",
   "execution_count": 25,
   "metadata": {},
   "outputs": [],
   "source": [
    "CHANNEL_MAPPING_DF = pd.read_excel(\"../../data/channel_mapping.xlsx\")\n",
    "TONE_TIMESTAMP_DF = pd.read_excel(\"../../data/rce_tone_timestamp.xlsx\", index_col=0)\n",
    "channel_map_and_all_trials_df = pd.read_pickle(\"./proc/full_baseline_and_trial_lfp_traces.pkl\")\n",
    "merged_trials_and_video = pd.read_pickle(\"./proc/trial_SLEAP_and_metadata.pkl\")"
   ]
  },
  {
   "cell_type": "code",
   "execution_count": 6,
   "metadata": {},
   "outputs": [],
   "source": [
    "TIME_HALFBANDWIDTH_PRODUCT = 2\n",
    "TIME_WINDOW_DURATION = 1\n",
    "TIME_WINDOW_STEP = 0.5\n",
    "RESAMPLE_RATE=1000\n"
   ]
  },
  {
   "cell_type": "code",
   "execution_count": 7,
   "metadata": {},
   "outputs": [],
   "source": [
    "TRIAL_OR_BASELINE_TO_STYLE = {'baseline': \"--\", \"trial\": \"-\"}"
   ]
  },
  {
   "cell_type": "code",
   "execution_count": 8,
   "metadata": {},
   "outputs": [],
   "source": [
    "BASELINE_OUTCOME_TO_COLOR = {'lose': \"red\",\n",
    " 'omission': \"orange\",\n",
    " 'rewarded': \"green\",\n",
    " 'win': \"blue\"}"
   ]
  },
  {
   "cell_type": "markdown",
   "metadata": {
    "cell_id": "e3ee4891d43a4ac287413afc552ca289",
    "deepnote_cell_type": "text-cell-h2",
    "formattedRanges": []
   },
   "source": [
    "## Outputs"
   ]
  },
  {
   "cell_type": "markdown",
   "metadata": {
    "cell_id": "9ccbf6cc70fd4d379fa29317f733771f",
    "deepnote_cell_type": "text-cell-p",
    "formattedRanges": []
   },
   "source": [
    "Describe each output that the notebook creates. "
   ]
  },
  {
   "cell_type": "markdown",
   "metadata": {
    "cell_id": "fc8e8920a6944918a15fac575cdf6e78",
    "deepnote_cell_type": "text-cell-bullet",
    "formattedRanges": []
   },
   "source": [
    "- Is it a plot or is it data?"
   ]
  },
  {
   "cell_type": "markdown",
   "metadata": {
    "cell_id": "1e639d4776a84aa9ac8ded2e14fa57db",
    "deepnote_cell_type": "text-cell-bullet",
    "formattedRanges": []
   },
   "source": [
    "- How valuable is the output and why is it valuable or useful?"
   ]
  },
  {
   "cell_type": "markdown",
   "metadata": {
    "cell_id": "8999d19b6b7d4d63bc90f0b0bd9ab085",
    "deepnote_cell_type": "text-cell-h2",
    "formattedRanges": []
   },
   "source": [
    "## Processing"
   ]
  },
  {
   "cell_type": "markdown",
   "metadata": {
    "cell_id": "9b36cdf08567463082b005cb0dec684b",
    "deepnote_cell_type": "text-cell-p",
    "formattedRanges": []
   },
   "source": [
    "Describe what is done to the data here and how inputs are manipulated to generate outputs. "
   ]
  },
  {
   "cell_type": "code",
   "execution_count": 9,
   "metadata": {
    "cell_id": "89aaba237c644628b1b37604b75e7cb1",
    "deepnote_cell_type": "code"
   },
   "outputs": [],
   "source": [
    "# As much code and as many cells as required\n",
    "# includes EDA and playing with data\n",
    "# GO HAM!\n",
    "\n",
    "# Ideally functions are defined here first and then data is processed using the functions\n",
    "\n",
    "# function names are short and in snake case all lowercase\n",
    "# a function name should be unique but does not have to describe the function\n",
    "# doc strings describe functions not function names\n",
    "\n",
    "\n"
   ]
  },
  {
   "cell_type": "code",
   "execution_count": 33,
   "metadata": {},
   "outputs": [
    {
     "data": {
      "text/html": [
       "<div>\n",
       "<style scoped>\n",
       "    .dataframe tbody tr th:only-of-type {\n",
       "        vertical-align: middle;\n",
       "    }\n",
       "\n",
       "    .dataframe tbody tr th {\n",
       "        vertical-align: top;\n",
       "    }\n",
       "\n",
       "    .dataframe thead th {\n",
       "        text-align: right;\n",
       "    }\n",
       "</style>\n",
       "<table border=\"1\" class=\"dataframe\">\n",
       "  <thead>\n",
       "    <tr style=\"text-align: right;\">\n",
       "      <th></th>\n",
       "      <th>time</th>\n",
       "      <th>recording_dir</th>\n",
       "      <th>recording_file</th>\n",
       "      <th>time_stamp_index</th>\n",
       "      <th>video_file</th>\n",
       "      <th>video_frame</th>\n",
       "      <th>video_number</th>\n",
       "      <th>subject_info</th>\n",
       "      <th>competition_closeness</th>\n",
       "      <th>video_name</th>\n",
       "      <th>...</th>\n",
       "      <th>baseline_thorax_velocity</th>\n",
       "      <th>trial_thorax_velocity</th>\n",
       "      <th>trial_chunked_thorax_velocity</th>\n",
       "      <th>baseline_chunked_thorax_velocity</th>\n",
       "      <th>trial_chunked_ephys_timestamp</th>\n",
       "      <th>baseline_chunked_ephys_timestamp</th>\n",
       "      <th>trial_chunked_lfp_index</th>\n",
       "      <th>baseline_chunked_lfp_index</th>\n",
       "      <th>binned_baseline_thorax_velocity</th>\n",
       "      <th>binned_trial_thorax_velocity</th>\n",
       "    </tr>\n",
       "  </thead>\n",
       "  <tbody>\n",
       "    <tr>\n",
       "      <th>0</th>\n",
       "      <td>30950500</td>\n",
       "      <td>20221214_125409_om_and_comp_6_1_and_6_3</td>\n",
       "      <td>20221214_125409_om_and_comp_6_1_top_1_base_2_v...</td>\n",
       "      <td>27998597</td>\n",
       "      <td>20221214_125409_om_and_comp_6_1_and_6_3.1.vide...</td>\n",
       "      <td>28574</td>\n",
       "      <td>1.0</td>\n",
       "      <td>6_1_top_1_base_2_vs_6_3</td>\n",
       "      <td>win_non_comp</td>\n",
       "      <td>20221214_125409_om_and_comp_6_1_and_6_3.1</td>\n",
       "      <td>...</td>\n",
       "      <td>[1.2476140081638165, 1.1366289071218907, 1.068...</td>\n",
       "      <td>[0.18170472850681613, 0.16961378983662276, 0.2...</td>\n",
       "      <td>[0.49872187702582166, 1.0783705041183183, 1.43...</td>\n",
       "      <td>[1.6838472335457935, 1.3726890573782602, 1.887...</td>\n",
       "      <td>[(27998597, 28018597), (28018597, 28038597), (...</td>\n",
       "      <td>[(27798597, 27818597), (27818597, 27838597), (...</td>\n",
       "      <td>[(1399929, 1400929), (1400929, 1401929), (1401...</td>\n",
       "      <td>[(1389929, 1390929), (1390929, 1391929), (1391...</td>\n",
       "      <td>[0, 0, 0, 0, 1, 1, 1, 0, 0, 0]</td>\n",
       "      <td>[0, 0, 0, 0, 0, 0, 0, 0, 0, 0]</td>\n",
       "    </tr>\n",
       "    <tr>\n",
       "      <th>1</th>\n",
       "      <td>32550496</td>\n",
       "      <td>20221214_125409_om_and_comp_6_1_and_6_3</td>\n",
       "      <td>20221214_125409_om_and_comp_6_1_top_1_base_2_v...</td>\n",
       "      <td>29598593</td>\n",
       "      <td>20221214_125409_om_and_comp_6_1_and_6_3.1.vide...</td>\n",
       "      <td>30569</td>\n",
       "      <td>1.0</td>\n",
       "      <td>6_1_top_1_base_2_vs_6_3</td>\n",
       "      <td>win_non_comp</td>\n",
       "      <td>20221214_125409_om_and_comp_6_1_and_6_3.1</td>\n",
       "      <td>...</td>\n",
       "      <td>[2.7236727895073223, 2.628037603947678, 2.5298...</td>\n",
       "      <td>[0.38577700470932025, 0.16352840888997497, 0.0...</td>\n",
       "      <td>[0.3129891797005337, 0.210547774617734, 0.2517...</td>\n",
       "      <td>[1.458421075097482, 0.23609874826191488, 0.073...</td>\n",
       "      <td>[(29598593, 29618593), (29618593, 29638593), (...</td>\n",
       "      <td>[(29398593, 29418593), (29418593, 29438593), (...</td>\n",
       "      <td>[(1479929, 1480929), (1480929, 1481929), (1481...</td>\n",
       "      <td>[(1469929, 1470929), (1470929, 1471929), (1471...</td>\n",
       "      <td>[0, 0, 0, 0, 0, 1, 1, 1, 0, 0]</td>\n",
       "      <td>[0, 0, 0, 0, 0, 0, 0, 0, 0, 0]</td>\n",
       "    </tr>\n",
       "    <tr>\n",
       "      <th>2</th>\n",
       "      <td>34350494</td>\n",
       "      <td>20221214_125409_om_and_comp_6_1_and_6_3</td>\n",
       "      <td>20221214_125409_om_and_comp_6_1_top_1_base_2_v...</td>\n",
       "      <td>31398591</td>\n",
       "      <td>20221214_125409_om_and_comp_6_1_and_6_3.1.vide...</td>\n",
       "      <td>32813</td>\n",
       "      <td>1.0</td>\n",
       "      <td>6_1_top_1_base_2_vs_6_3</td>\n",
       "      <td>win_non_comp</td>\n",
       "      <td>20221214_125409_om_and_comp_6_1_and_6_3.1</td>\n",
       "      <td>...</td>\n",
       "      <td>[5.210405290871598, 5.31421978904958, 5.379251...</td>\n",
       "      <td>[0.16560567036540477, 0.1278165569746918, 0.09...</td>\n",
       "      <td>[0.19868857983610794, 0.48118846206642074, 0.4...</td>\n",
       "      <td>[3.439626522203859, 1.1535882532998658, 0.0565...</td>\n",
       "      <td>[(31398591, 31418591), (31418591, 31438591), (...</td>\n",
       "      <td>[(31198591, 31218591), (31218591, 31238591), (...</td>\n",
       "      <td>[(1569929, 1570929), (1570929, 1571929), (1571...</td>\n",
       "      <td>[(1559929, 1560929), (1560929, 1561929), (1561...</td>\n",
       "      <td>[0, 0, 0, 0, 0, 0, 0, 0, 0, 0]</td>\n",
       "      <td>[0, 0, 0, 0, 0, 0, 0, 0, 0, 0]</td>\n",
       "    </tr>\n",
       "    <tr>\n",
       "      <th>3</th>\n",
       "      <td>35950496</td>\n",
       "      <td>20221214_125409_om_and_comp_6_1_and_6_3</td>\n",
       "      <td>20221214_125409_om_and_comp_6_1_top_1_base_2_v...</td>\n",
       "      <td>32998593</td>\n",
       "      <td>20221214_125409_om_and_comp_6_1_and_6_3.1.vide...</td>\n",
       "      <td>34807</td>\n",
       "      <td>1.0</td>\n",
       "      <td>6_1_top_1_base_2_vs_6_3</td>\n",
       "      <td>win_non_comp</td>\n",
       "      <td>20221214_125409_om_and_comp_6_1_and_6_3.1</td>\n",
       "      <td>...</td>\n",
       "      <td>[1.6555785442563817, 1.6866235492876445, 1.664...</td>\n",
       "      <td>[0.6307901161394641, 0.6655381193431421, 0.701...</td>\n",
       "      <td>[0.4673908122355257, 0.38359419544996237, 0.69...</td>\n",
       "      <td>[0.900289992310536, 0.2807581521168483, 0.1320...</td>\n",
       "      <td>[(32998593, 33018593), (33018593, 33038593), (...</td>\n",
       "      <td>[(32798593, 32818593), (32818593, 32838593), (...</td>\n",
       "      <td>[(1649929, 1650929), (1650929, 1651929), (1651...</td>\n",
       "      <td>[(1639929, 1640929), (1640929, 1641929), (1641...</td>\n",
       "      <td>[0, 0, 0, 0, 0, 0, 0, 0, 0, 0]</td>\n",
       "      <td>[0, 0, 0, 0, 0, 0, 0, 0, 0, 0]</td>\n",
       "    </tr>\n",
       "    <tr>\n",
       "      <th>4</th>\n",
       "      <td>37450494</td>\n",
       "      <td>20221214_125409_om_and_comp_6_1_and_6_3</td>\n",
       "      <td>20221214_125409_om_and_comp_6_1_top_1_base_2_v...</td>\n",
       "      <td>34498591</td>\n",
       "      <td>20221214_125409_om_and_comp_6_1_and_6_3.1.vide...</td>\n",
       "      <td>36677</td>\n",
       "      <td>1.0</td>\n",
       "      <td>6_1_top_1_base_2_vs_6_3</td>\n",
       "      <td>win_non_comp</td>\n",
       "      <td>20221214_125409_om_and_comp_6_1_and_6_3.1</td>\n",
       "      <td>...</td>\n",
       "      <td>[0.9562352171082348, 0.8615465705681848, 0.756...</td>\n",
       "      <td>[0.15955796441347841, 0.18843088608181321, 0.2...</td>\n",
       "      <td>[0.23449342689004346, 0.25460671878631813, 0.2...</td>\n",
       "      <td>[0.3903027043299651, 0.8705322845545354, 0.756...</td>\n",
       "      <td>[(34498591, 34518591), (34518591, 34538591), (...</td>\n",
       "      <td>[(34298591, 34318591), (34318591, 34338591), (...</td>\n",
       "      <td>[(1724929, 1725929), (1725929, 1726929), (1726...</td>\n",
       "      <td>[(1714929, 1715929), (1715929, 1716929), (1716...</td>\n",
       "      <td>[0, 0, 0, 0, 0, 0, 0, 0, 0, 0]</td>\n",
       "      <td>[0, 0, 0, 0, 0, 0, 0, 0, 0, 0]</td>\n",
       "    </tr>\n",
       "  </tbody>\n",
       "</table>\n",
       "<p>5 rows × 61 columns</p>\n",
       "</div>"
      ],
      "text/plain": [
       "       time                            recording_dir  \\\n",
       "0  30950500  20221214_125409_om_and_comp_6_1_and_6_3   \n",
       "1  32550496  20221214_125409_om_and_comp_6_1_and_6_3   \n",
       "2  34350494  20221214_125409_om_and_comp_6_1_and_6_3   \n",
       "3  35950496  20221214_125409_om_and_comp_6_1_and_6_3   \n",
       "4  37450494  20221214_125409_om_and_comp_6_1_and_6_3   \n",
       "\n",
       "                                      recording_file  time_stamp_index  \\\n",
       "0  20221214_125409_om_and_comp_6_1_top_1_base_2_v...          27998597   \n",
       "1  20221214_125409_om_and_comp_6_1_top_1_base_2_v...          29598593   \n",
       "2  20221214_125409_om_and_comp_6_1_top_1_base_2_v...          31398591   \n",
       "3  20221214_125409_om_and_comp_6_1_top_1_base_2_v...          32998593   \n",
       "4  20221214_125409_om_and_comp_6_1_top_1_base_2_v...          34498591   \n",
       "\n",
       "                                          video_file  video_frame  \\\n",
       "0  20221214_125409_om_and_comp_6_1_and_6_3.1.vide...        28574   \n",
       "1  20221214_125409_om_and_comp_6_1_and_6_3.1.vide...        30569   \n",
       "2  20221214_125409_om_and_comp_6_1_and_6_3.1.vide...        32813   \n",
       "3  20221214_125409_om_and_comp_6_1_and_6_3.1.vide...        34807   \n",
       "4  20221214_125409_om_and_comp_6_1_and_6_3.1.vide...        36677   \n",
       "\n",
       "   video_number             subject_info competition_closeness  \\\n",
       "0           1.0  6_1_top_1_base_2_vs_6_3          win_non_comp   \n",
       "1           1.0  6_1_top_1_base_2_vs_6_3          win_non_comp   \n",
       "2           1.0  6_1_top_1_base_2_vs_6_3          win_non_comp   \n",
       "3           1.0  6_1_top_1_base_2_vs_6_3          win_non_comp   \n",
       "4           1.0  6_1_top_1_base_2_vs_6_3          win_non_comp   \n",
       "\n",
       "                                  video_name  ...  \\\n",
       "0  20221214_125409_om_and_comp_6_1_and_6_3.1  ...   \n",
       "1  20221214_125409_om_and_comp_6_1_and_6_3.1  ...   \n",
       "2  20221214_125409_om_and_comp_6_1_and_6_3.1  ...   \n",
       "3  20221214_125409_om_and_comp_6_1_and_6_3.1  ...   \n",
       "4  20221214_125409_om_and_comp_6_1_and_6_3.1  ...   \n",
       "\n",
       "                            baseline_thorax_velocity  \\\n",
       "0  [1.2476140081638165, 1.1366289071218907, 1.068...   \n",
       "1  [2.7236727895073223, 2.628037603947678, 2.5298...   \n",
       "2  [5.210405290871598, 5.31421978904958, 5.379251...   \n",
       "3  [1.6555785442563817, 1.6866235492876445, 1.664...   \n",
       "4  [0.9562352171082348, 0.8615465705681848, 0.756...   \n",
       "\n",
       "                               trial_thorax_velocity  \\\n",
       "0  [0.18170472850681613, 0.16961378983662276, 0.2...   \n",
       "1  [0.38577700470932025, 0.16352840888997497, 0.0...   \n",
       "2  [0.16560567036540477, 0.1278165569746918, 0.09...   \n",
       "3  [0.6307901161394641, 0.6655381193431421, 0.701...   \n",
       "4  [0.15955796441347841, 0.18843088608181321, 0.2...   \n",
       "\n",
       "                       trial_chunked_thorax_velocity  \\\n",
       "0  [0.49872187702582166, 1.0783705041183183, 1.43...   \n",
       "1  [0.3129891797005337, 0.210547774617734, 0.2517...   \n",
       "2  [0.19868857983610794, 0.48118846206642074, 0.4...   \n",
       "3  [0.4673908122355257, 0.38359419544996237, 0.69...   \n",
       "4  [0.23449342689004346, 0.25460671878631813, 0.2...   \n",
       "\n",
       "                    baseline_chunked_thorax_velocity  \\\n",
       "0  [1.6838472335457935, 1.3726890573782602, 1.887...   \n",
       "1  [1.458421075097482, 0.23609874826191488, 0.073...   \n",
       "2  [3.439626522203859, 1.1535882532998658, 0.0565...   \n",
       "3  [0.900289992310536, 0.2807581521168483, 0.1320...   \n",
       "4  [0.3903027043299651, 0.8705322845545354, 0.756...   \n",
       "\n",
       "                       trial_chunked_ephys_timestamp  \\\n",
       "0  [(27998597, 28018597), (28018597, 28038597), (...   \n",
       "1  [(29598593, 29618593), (29618593, 29638593), (...   \n",
       "2  [(31398591, 31418591), (31418591, 31438591), (...   \n",
       "3  [(32998593, 33018593), (33018593, 33038593), (...   \n",
       "4  [(34498591, 34518591), (34518591, 34538591), (...   \n",
       "\n",
       "                    baseline_chunked_ephys_timestamp  \\\n",
       "0  [(27798597, 27818597), (27818597, 27838597), (...   \n",
       "1  [(29398593, 29418593), (29418593, 29438593), (...   \n",
       "2  [(31198591, 31218591), (31218591, 31238591), (...   \n",
       "3  [(32798593, 32818593), (32818593, 32838593), (...   \n",
       "4  [(34298591, 34318591), (34318591, 34338591), (...   \n",
       "\n",
       "                             trial_chunked_lfp_index  \\\n",
       "0  [(1399929, 1400929), (1400929, 1401929), (1401...   \n",
       "1  [(1479929, 1480929), (1480929, 1481929), (1481...   \n",
       "2  [(1569929, 1570929), (1570929, 1571929), (1571...   \n",
       "3  [(1649929, 1650929), (1650929, 1651929), (1651...   \n",
       "4  [(1724929, 1725929), (1725929, 1726929), (1726...   \n",
       "\n",
       "                          baseline_chunked_lfp_index  \\\n",
       "0  [(1389929, 1390929), (1390929, 1391929), (1391...   \n",
       "1  [(1469929, 1470929), (1470929, 1471929), (1471...   \n",
       "2  [(1559929, 1560929), (1560929, 1561929), (1561...   \n",
       "3  [(1639929, 1640929), (1640929, 1641929), (1641...   \n",
       "4  [(1714929, 1715929), (1715929, 1716929), (1716...   \n",
       "\n",
       "  binned_baseline_thorax_velocity    binned_trial_thorax_velocity  \n",
       "0  [0, 0, 0, 0, 1, 1, 1, 0, 0, 0]  [0, 0, 0, 0, 0, 0, 0, 0, 0, 0]  \n",
       "1  [0, 0, 0, 0, 0, 1, 1, 1, 0, 0]  [0, 0, 0, 0, 0, 0, 0, 0, 0, 0]  \n",
       "2  [0, 0, 0, 0, 0, 0, 0, 0, 0, 0]  [0, 0, 0, 0, 0, 0, 0, 0, 0, 0]  \n",
       "3  [0, 0, 0, 0, 0, 0, 0, 0, 0, 0]  [0, 0, 0, 0, 0, 0, 0, 0, 0, 0]  \n",
       "4  [0, 0, 0, 0, 0, 0, 0, 0, 0, 0]  [0, 0, 0, 0, 0, 0, 0, 0, 0, 0]  \n",
       "\n",
       "[5 rows x 61 columns]"
      ]
     },
     "execution_count": 33,
     "metadata": {},
     "output_type": "execute_result"
    }
   ],
   "source": [
    "merged_trials_and_video.head()"
   ]
  },
  {
   "cell_type": "code",
   "execution_count": 34,
   "metadata": {},
   "outputs": [
    {
     "data": {
      "text/plain": [
       "Index(['time', 'recording_dir', 'recording_file', 'time_stamp_index',\n",
       "       'video_file', 'video_frame', 'video_number', 'subject_info',\n",
       "       'competition_closeness', 'video_name', 'all_subjects',\n",
       "       'current_subject', 'trial_outcome', 'lfp_index',\n",
       "       'baseline_lfp_timestamp_range', 'trial_lfp_timestamp_range',\n",
       "       'baseline_ephys_timestamp_range', 'trial_ephys_timestamp_range',\n",
       "       'baseline_videoframe_range', 'trial_videoframe_range', 'trial_number',\n",
       "       'Cohort', 'spike_interface_mPFC', 'spike_interface_vHPC',\n",
       "       'spike_interface_BLA', 'spike_interface_LH', 'spike_interface_MD',\n",
       "       'file_path', 'start_frame', 'stop_frame', 'individual_subj', 'all_subj',\n",
       "       'recording_name', 'track_names', 'subject_id', 'corner_path',\n",
       "       'corner_parts', 'bottom_width', 'top_width', 'right_height',\n",
       "       'left_height', 'average_height', 'average_width', 'width_ratio',\n",
       "       'height_ratio', 'rescaled_locations', 'box_bottom_left', 'reward_port',\n",
       "       'box_top_left', 'box_top_right', 'box_bottom_right',\n",
       "       'baseline_thorax_velocity', 'trial_thorax_velocity',\n",
       "       'trial_chunked_thorax_velocity', 'baseline_chunked_thorax_velocity',\n",
       "       'trial_chunked_ephys_timestamp', 'baseline_chunked_ephys_timestamp',\n",
       "       'trial_chunked_lfp_index', 'baseline_chunked_lfp_index',\n",
       "       'binned_baseline_thorax_velocity', 'binned_trial_thorax_velocity'],\n",
       "      dtype='object')"
      ]
     },
     "execution_count": 34,
     "metadata": {},
     "output_type": "execute_result"
    }
   ],
   "source": [
    "merged_trials_and_video.columns"
   ]
  },
  {
   "cell_type": "markdown",
   "metadata": {},
   "source": [
    "### Getting the subject IDs from the file name"
   ]
  },
  {
   "cell_type": "code",
   "execution_count": 20,
   "metadata": {},
   "outputs": [],
   "source": [
    "TONE_TIMESTAMP_DF = pd.read_pickle(\"./proc/melted_trials_and_video.pkl\")\n"
   ]
  },
  {
   "cell_type": "code",
   "execution_count": 21,
   "metadata": {},
   "outputs": [],
   "source": [
    "all_trials_df = TONE_TIMESTAMP_DF.dropna(subset=\"condition\").reset_index(drop=True)"
   ]
  },
  {
   "cell_type": "code",
   "execution_count": 22,
   "metadata": {},
   "outputs": [
    {
     "data": {
      "text/html": [
       "<div>\n",
       "<style scoped>\n",
       "    .dataframe tbody tr th:only-of-type {\n",
       "        vertical-align: middle;\n",
       "    }\n",
       "\n",
       "    .dataframe tbody tr th {\n",
       "        vertical-align: top;\n",
       "    }\n",
       "\n",
       "    .dataframe thead th {\n",
       "        text-align: right;\n",
       "    }\n",
       "</style>\n",
       "<table border=\"1\" class=\"dataframe\">\n",
       "  <thead>\n",
       "    <tr style=\"text-align: right;\">\n",
       "      <th></th>\n",
       "      <th>time</th>\n",
       "      <th>state</th>\n",
       "      <th>recording_dir</th>\n",
       "      <th>recording_file</th>\n",
       "      <th>din</th>\n",
       "      <th>time_stamp_index</th>\n",
       "      <th>video_file</th>\n",
       "      <th>video_frame</th>\n",
       "      <th>video_number</th>\n",
       "      <th>subject_info</th>\n",
       "      <th>...</th>\n",
       "      <th>trial_chunked_ephys_timestamp</th>\n",
       "      <th>baseline_chunked_ephys_timestamp</th>\n",
       "      <th>trial_chunked_lfp_index</th>\n",
       "      <th>baseline_chunked_lfp_index</th>\n",
       "      <th>trial_or_baseline</th>\n",
       "      <th>current_thorax_velocity</th>\n",
       "      <th>current_chunked_thorax_velocity</th>\n",
       "      <th>chunked_lfp_index</th>\n",
       "      <th>chunked_ephys_timestamp</th>\n",
       "      <th>binned_current_thorax_velocity</th>\n",
       "    </tr>\n",
       "  </thead>\n",
       "  <tbody>\n",
       "    <tr>\n",
       "      <th>0</th>\n",
       "      <td>30950500.0</td>\n",
       "      <td>1.0</td>\n",
       "      <td>subj6_1_and_6_3</td>\n",
       "      <td>20221214_125409_om_and_comp_6_1_top_1_base_2_v...</td>\n",
       "      <td>dio_ECU_Din1</td>\n",
       "      <td>27998597.0</td>\n",
       "      <td>20221214_125409_om_and_comp_6_1_and_6_3.1.vide...</td>\n",
       "      <td>28574</td>\n",
       "      <td>1.0</td>\n",
       "      <td>6_1_top_1_base_2_vs_6_3</td>\n",
       "      <td>...</td>\n",
       "      <td>[(27998597.0, 28018597.0), (28018597.0, 280385...</td>\n",
       "      <td>[(27798597.0, 27818597.0), (27818597.0, 278385...</td>\n",
       "      <td>[(1399929.0, 1400929.0), (1400929.0, 1401929.0...</td>\n",
       "      <td>[(1389929.0, 1390929.0), (1390929.0, 1391929.0...</td>\n",
       "      <td>baseline</td>\n",
       "      <td>[2.036892327741516, 2.241836602029708, 2.57597...</td>\n",
       "      <td>[2.3533739428089473, 1.434358857024035, 3.0417...</td>\n",
       "      <td>[(1389929.0, 1390929.0), (1390929.0, 1391929.0...</td>\n",
       "      <td>[(27798597.0, 27818597.0), (27818597.0, 278385...</td>\n",
       "      <td>[0, 0, 0, 0, 2, 0, 1, 1, 0, 0]</td>\n",
       "    </tr>\n",
       "    <tr>\n",
       "      <th>1</th>\n",
       "      <td>30950500.0</td>\n",
       "      <td>1.0</td>\n",
       "      <td>subj6_1_and_6_3</td>\n",
       "      <td>20221214_125409_om_and_comp_6_1_top_1_base_2_v...</td>\n",
       "      <td>dio_ECU_Din1</td>\n",
       "      <td>27998597.0</td>\n",
       "      <td>20221214_125409_om_and_comp_6_1_and_6_3.1.vide...</td>\n",
       "      <td>28574</td>\n",
       "      <td>1.0</td>\n",
       "      <td>6_1_top_1_base_2_vs_6_3</td>\n",
       "      <td>...</td>\n",
       "      <td>[(27998597.0, 28018597.0), (28018597.0, 280385...</td>\n",
       "      <td>[(27798597.0, 27818597.0), (27818597.0, 278385...</td>\n",
       "      <td>[(1399929.0, 1400929.0), (1400929.0, 1401929.0...</td>\n",
       "      <td>[(1389929.0, 1390929.0), (1390929.0, 1391929.0...</td>\n",
       "      <td>trial</td>\n",
       "      <td>[0.7121153530651193, 0.6970557589759765, 0.724...</td>\n",
       "      <td>[0.9495329201051134, 3.0316038473645275, 1.981...</td>\n",
       "      <td>[(1399929.0, 1400929.0), (1400929.0, 1401929.0...</td>\n",
       "      <td>[(27998597.0, 28018597.0), (28018597.0, 280385...</td>\n",
       "      <td>[0, 0, 0, 0, 0, 1, 0, 0, 0, 0]</td>\n",
       "    </tr>\n",
       "    <tr>\n",
       "      <th>2</th>\n",
       "      <td>32550496.0</td>\n",
       "      <td>1.0</td>\n",
       "      <td>subj6_1_and_6_3</td>\n",
       "      <td>20221214_125409_om_and_comp_6_1_top_1_base_2_v...</td>\n",
       "      <td>dio_ECU_Din1</td>\n",
       "      <td>29598593.0</td>\n",
       "      <td>20221214_125409_om_and_comp_6_1_and_6_3.1.vide...</td>\n",
       "      <td>30569</td>\n",
       "      <td>1.0</td>\n",
       "      <td>6_1_top_1_base_2_vs_6_3</td>\n",
       "      <td>...</td>\n",
       "      <td>[(29598593.0, 29618593.0), (29618593.0, 296385...</td>\n",
       "      <td>[(29398593.0, 29418593.0), (29418593.0, 294385...</td>\n",
       "      <td>[(1479929.0, 1480929.0), (1480929.0, 1481929.0...</td>\n",
       "      <td>[(1469929.0, 1470929.0), (1470929.0, 1471929.0...</td>\n",
       "      <td>baseline</td>\n",
       "      <td>[2.9530693043854934, 2.5889456564677213, 2.295...</td>\n",
       "      <td>[0.9727462488501508, 0.14160626330067091, 0.15...</td>\n",
       "      <td>[(1469929.0, 1470929.0), (1470929.0, 1471929.0...</td>\n",
       "      <td>[(29398593.0, 29418593.0), (29418593.0, 294385...</td>\n",
       "      <td>[0, 0, 0, 0, 0, 2, 1, 1, 0, 0]</td>\n",
       "    </tr>\n",
       "    <tr>\n",
       "      <th>3</th>\n",
       "      <td>32550496.0</td>\n",
       "      <td>1.0</td>\n",
       "      <td>subj6_1_and_6_3</td>\n",
       "      <td>20221214_125409_om_and_comp_6_1_top_1_base_2_v...</td>\n",
       "      <td>dio_ECU_Din1</td>\n",
       "      <td>29598593.0</td>\n",
       "      <td>20221214_125409_om_and_comp_6_1_and_6_3.1.vide...</td>\n",
       "      <td>30569</td>\n",
       "      <td>1.0</td>\n",
       "      <td>6_1_top_1_base_2_vs_6_3</td>\n",
       "      <td>...</td>\n",
       "      <td>[(29598593.0, 29618593.0), (29618593.0, 296385...</td>\n",
       "      <td>[(29398593.0, 29418593.0), (29418593.0, 294385...</td>\n",
       "      <td>[(1479929.0, 1480929.0), (1480929.0, 1481929.0...</td>\n",
       "      <td>[(1469929.0, 1470929.0), (1470929.0, 1471929.0...</td>\n",
       "      <td>trial</td>\n",
       "      <td>[1.1091618874765725, 1.2067853545334786, 1.308...</td>\n",
       "      <td>[1.0503547684805281, 0.8329540254506201, 1.119...</td>\n",
       "      <td>[(1479929.0, 1480929.0), (1480929.0, 1481929.0...</td>\n",
       "      <td>[(29598593.0, 29618593.0), (29618593.0, 296385...</td>\n",
       "      <td>[0, 0, 0, 0, 0, 0, 0, 0, 0, 1]</td>\n",
       "    </tr>\n",
       "    <tr>\n",
       "      <th>4</th>\n",
       "      <td>34350494.0</td>\n",
       "      <td>1.0</td>\n",
       "      <td>subj6_1_and_6_3</td>\n",
       "      <td>20221214_125409_om_and_comp_6_1_top_1_base_2_v...</td>\n",
       "      <td>dio_ECU_Din1</td>\n",
       "      <td>31398591.0</td>\n",
       "      <td>20221214_125409_om_and_comp_6_1_and_6_3.1.vide...</td>\n",
       "      <td>32813</td>\n",
       "      <td>1.0</td>\n",
       "      <td>6_1_top_1_base_2_vs_6_3</td>\n",
       "      <td>...</td>\n",
       "      <td>[(31398591.0, 31418591.0), (31418591.0, 314385...</td>\n",
       "      <td>[(31198591.0, 31218591.0), (31218591.0, 312385...</td>\n",
       "      <td>[(1569929.0, 1570929.0), (1570929.0, 1571929.0...</td>\n",
       "      <td>[(1559929.0, 1560929.0), (1560929.0, 1561929.0...</td>\n",
       "      <td>baseline</td>\n",
       "      <td>[5.081365648592532, 4.988102332136219, 4.87467...</td>\n",
       "      <td>[3.3220810860024765, 0.6014839466006836, 0.252...</td>\n",
       "      <td>[(1559929.0, 1560929.0), (1560929.0, 1561929.0...</td>\n",
       "      <td>[(31198591.0, 31218591.0), (31218591.0, 312385...</td>\n",
       "      <td>[0, 0, 0, 0, 0, 0, 0, 0, 0, 0]</td>\n",
       "    </tr>\n",
       "  </tbody>\n",
       "</table>\n",
       "<p>5 rows × 62 columns</p>\n",
       "</div>"
      ],
      "text/plain": [
       "         time  state    recording_dir  \\\n",
       "0  30950500.0    1.0  subj6_1_and_6_3   \n",
       "1  30950500.0    1.0  subj6_1_and_6_3   \n",
       "2  32550496.0    1.0  subj6_1_and_6_3   \n",
       "3  32550496.0    1.0  subj6_1_and_6_3   \n",
       "4  34350494.0    1.0  subj6_1_and_6_3   \n",
       "\n",
       "                                      recording_file           din  \\\n",
       "0  20221214_125409_om_and_comp_6_1_top_1_base_2_v...  dio_ECU_Din1   \n",
       "1  20221214_125409_om_and_comp_6_1_top_1_base_2_v...  dio_ECU_Din1   \n",
       "2  20221214_125409_om_and_comp_6_1_top_1_base_2_v...  dio_ECU_Din1   \n",
       "3  20221214_125409_om_and_comp_6_1_top_1_base_2_v...  dio_ECU_Din1   \n",
       "4  20221214_125409_om_and_comp_6_1_top_1_base_2_v...  dio_ECU_Din1   \n",
       "\n",
       "   time_stamp_index                                         video_file  \\\n",
       "0        27998597.0  20221214_125409_om_and_comp_6_1_and_6_3.1.vide...   \n",
       "1        27998597.0  20221214_125409_om_and_comp_6_1_and_6_3.1.vide...   \n",
       "2        29598593.0  20221214_125409_om_and_comp_6_1_and_6_3.1.vide...   \n",
       "3        29598593.0  20221214_125409_om_and_comp_6_1_and_6_3.1.vide...   \n",
       "4        31398591.0  20221214_125409_om_and_comp_6_1_and_6_3.1.vide...   \n",
       "\n",
       "   video_frame  video_number             subject_info  ...  \\\n",
       "0        28574           1.0  6_1_top_1_base_2_vs_6_3  ...   \n",
       "1        28574           1.0  6_1_top_1_base_2_vs_6_3  ...   \n",
       "2        30569           1.0  6_1_top_1_base_2_vs_6_3  ...   \n",
       "3        30569           1.0  6_1_top_1_base_2_vs_6_3  ...   \n",
       "4        32813           1.0  6_1_top_1_base_2_vs_6_3  ...   \n",
       "\n",
       "                       trial_chunked_ephys_timestamp  \\\n",
       "0  [(27998597.0, 28018597.0), (28018597.0, 280385...   \n",
       "1  [(27998597.0, 28018597.0), (28018597.0, 280385...   \n",
       "2  [(29598593.0, 29618593.0), (29618593.0, 296385...   \n",
       "3  [(29598593.0, 29618593.0), (29618593.0, 296385...   \n",
       "4  [(31398591.0, 31418591.0), (31418591.0, 314385...   \n",
       "\n",
       "                    baseline_chunked_ephys_timestamp  \\\n",
       "0  [(27798597.0, 27818597.0), (27818597.0, 278385...   \n",
       "1  [(27798597.0, 27818597.0), (27818597.0, 278385...   \n",
       "2  [(29398593.0, 29418593.0), (29418593.0, 294385...   \n",
       "3  [(29398593.0, 29418593.0), (29418593.0, 294385...   \n",
       "4  [(31198591.0, 31218591.0), (31218591.0, 312385...   \n",
       "\n",
       "                             trial_chunked_lfp_index  \\\n",
       "0  [(1399929.0, 1400929.0), (1400929.0, 1401929.0...   \n",
       "1  [(1399929.0, 1400929.0), (1400929.0, 1401929.0...   \n",
       "2  [(1479929.0, 1480929.0), (1480929.0, 1481929.0...   \n",
       "3  [(1479929.0, 1480929.0), (1480929.0, 1481929.0...   \n",
       "4  [(1569929.0, 1570929.0), (1570929.0, 1571929.0...   \n",
       "\n",
       "                          baseline_chunked_lfp_index trial_or_baseline  \\\n",
       "0  [(1389929.0, 1390929.0), (1390929.0, 1391929.0...          baseline   \n",
       "1  [(1389929.0, 1390929.0), (1390929.0, 1391929.0...             trial   \n",
       "2  [(1469929.0, 1470929.0), (1470929.0, 1471929.0...          baseline   \n",
       "3  [(1469929.0, 1470929.0), (1470929.0, 1471929.0...             trial   \n",
       "4  [(1559929.0, 1560929.0), (1560929.0, 1561929.0...          baseline   \n",
       "\n",
       "                             current_thorax_velocity  \\\n",
       "0  [2.036892327741516, 2.241836602029708, 2.57597...   \n",
       "1  [0.7121153530651193, 0.6970557589759765, 0.724...   \n",
       "2  [2.9530693043854934, 2.5889456564677213, 2.295...   \n",
       "3  [1.1091618874765725, 1.2067853545334786, 1.308...   \n",
       "4  [5.081365648592532, 4.988102332136219, 4.87467...   \n",
       "\n",
       "                     current_chunked_thorax_velocity  \\\n",
       "0  [2.3533739428089473, 1.434358857024035, 3.0417...   \n",
       "1  [0.9495329201051134, 3.0316038473645275, 1.981...   \n",
       "2  [0.9727462488501508, 0.14160626330067091, 0.15...   \n",
       "3  [1.0503547684805281, 0.8329540254506201, 1.119...   \n",
       "4  [3.3220810860024765, 0.6014839466006836, 0.252...   \n",
       "\n",
       "                                   chunked_lfp_index  \\\n",
       "0  [(1389929.0, 1390929.0), (1390929.0, 1391929.0...   \n",
       "1  [(1399929.0, 1400929.0), (1400929.0, 1401929.0...   \n",
       "2  [(1469929.0, 1470929.0), (1470929.0, 1471929.0...   \n",
       "3  [(1479929.0, 1480929.0), (1480929.0, 1481929.0...   \n",
       "4  [(1559929.0, 1560929.0), (1560929.0, 1561929.0...   \n",
       "\n",
       "                             chunked_ephys_timestamp  \\\n",
       "0  [(27798597.0, 27818597.0), (27818597.0, 278385...   \n",
       "1  [(27998597.0, 28018597.0), (28018597.0, 280385...   \n",
       "2  [(29398593.0, 29418593.0), (29418593.0, 294385...   \n",
       "3  [(29598593.0, 29618593.0), (29618593.0, 296385...   \n",
       "4  [(31198591.0, 31218591.0), (31218591.0, 312385...   \n",
       "\n",
       "   binned_current_thorax_velocity  \n",
       "0  [0, 0, 0, 0, 2, 0, 1, 1, 0, 0]  \n",
       "1  [0, 0, 0, 0, 0, 1, 0, 0, 0, 0]  \n",
       "2  [0, 0, 0, 0, 0, 2, 1, 1, 0, 0]  \n",
       "3  [0, 0, 0, 0, 0, 0, 0, 0, 0, 1]  \n",
       "4  [0, 0, 0, 0, 0, 0, 0, 0, 0, 0]  \n",
       "\n",
       "[5 rows x 62 columns]"
      ]
     },
     "execution_count": 22,
     "metadata": {},
     "output_type": "execute_result"
    }
   ],
   "source": [
    "all_trials_df.head()"
   ]
  },
  {
   "cell_type": "markdown",
   "metadata": {},
   "source": [
    "- Original timestamps are based on ephys recordings at 20kHz. The LFP will be at 1kHz, so we will need to divide all the timestamps by 20"
   ]
  },
  {
   "cell_type": "code",
   "execution_count": 23,
   "metadata": {},
   "outputs": [],
   "source": [
    "all_trials_df[\"resampled_index\"] = all_trials_df[\"time_stamp_index\"] // 20"
   ]
  },
  {
   "cell_type": "code",
   "execution_count": 24,
   "metadata": {},
   "outputs": [
    {
     "data": {
      "text/plain": [
       "array(['subj6_1_and_6_3',\n",
       "       '20230617_115521_standard_comp_to_omission_D1_subj_1-1_and_1-2',\n",
       "       '20230618_100636_standard_comp_to_omission_D2_subj_1-4_and_1-1',\n",
       "       '20230619_115321_standard_comp_to_omission_D3_subj_1-2_and_1-4',\n",
       "       '20230620_114347_standard_comp_to_omission_D4_subj_1-2_and_1-1',\n",
       "       '20230621_111240_standard_comp_to_omission_D5_subj_1-4_and_1-2'],\n",
       "      dtype=object)"
      ]
     },
     "execution_count": 24,
     "metadata": {},
     "output_type": "execute_result"
    }
   ],
   "source": [
    "all_trials_df[\"recording_dir\"].unique()"
   ]
  },
  {
   "cell_type": "markdown",
   "metadata": {},
   "source": [
    "- Getting a list of all the subjects through the recording name"
   ]
  },
  {
   "cell_type": "code",
   "execution_count": 25,
   "metadata": {},
   "outputs": [],
   "source": [
    "all_trials_df[\"all_subjects\"] = all_trials_df[\"recording_dir\"].apply(lambda x: [\"{}.{}\".format(tup[0],tup[1]) for tup in re.findall(r'(\\d+)-(\\d+)', x.replace(\"_\", \"-\"))[1:]])"
   ]
  },
  {
   "cell_type": "code",
   "execution_count": 26,
   "metadata": {
    "scrolled": true
   },
   "outputs": [
    {
     "data": {
      "text/plain": [
       "0    [6.3]\n",
       "1    [6.3]\n",
       "2    [6.3]\n",
       "3    [6.3]\n",
       "4    [6.3]\n",
       "Name: all_subjects, dtype: object"
      ]
     },
     "execution_count": 26,
     "metadata": {},
     "output_type": "execute_result"
    }
   ],
   "source": [
    "all_trials_df[\"all_subjects\"].head()"
   ]
  },
  {
   "cell_type": "markdown",
   "metadata": {},
   "source": [
    "- Getting the current subject of the recording through the ending of the recording name file"
   ]
  },
  {
   "cell_type": "code",
   "execution_count": 27,
   "metadata": {},
   "outputs": [
    {
     "data": {
      "text/plain": [
       "0    6_1_top_1_base_2_vs_6_3\n",
       "1    6_1_top_1_base_2_vs_6_3\n",
       "2    6_1_top_1_base_2_vs_6_3\n",
       "3    6_1_top_1_base_2_vs_6_3\n",
       "4    6_1_top_1_base_2_vs_6_3\n",
       "Name: subject_info, dtype: object"
      ]
     },
     "execution_count": 27,
     "metadata": {},
     "output_type": "execute_result"
    }
   ],
   "source": [
    "all_trials_df[\"subject_info\"].head()"
   ]
  },
  {
   "cell_type": "code",
   "execution_count": 28,
   "metadata": {},
   "outputs": [],
   "source": [
    "all_trials_df[\"current_subject\"] = all_trials_df[\"subject_info\"].apply(lambda x: \".\".join(x.replace(\"-\",\"_\").split(\"_\")[:2]))"
   ]
  },
  {
   "cell_type": "code",
   "execution_count": 29,
   "metadata": {},
   "outputs": [
    {
     "data": {
      "text/html": [
       "<div>\n",
       "<style scoped>\n",
       "    .dataframe tbody tr th:only-of-type {\n",
       "        vertical-align: middle;\n",
       "    }\n",
       "\n",
       "    .dataframe tbody tr th {\n",
       "        vertical-align: top;\n",
       "    }\n",
       "\n",
       "    .dataframe thead th {\n",
       "        text-align: right;\n",
       "    }\n",
       "</style>\n",
       "<table border=\"1\" class=\"dataframe\">\n",
       "  <thead>\n",
       "    <tr style=\"text-align: right;\">\n",
       "      <th></th>\n",
       "      <th>time</th>\n",
       "      <th>state</th>\n",
       "      <th>recording_dir</th>\n",
       "      <th>recording_file</th>\n",
       "      <th>din</th>\n",
       "      <th>time_stamp_index</th>\n",
       "      <th>video_file</th>\n",
       "      <th>video_frame</th>\n",
       "      <th>video_number</th>\n",
       "      <th>subject_info</th>\n",
       "      <th>...</th>\n",
       "      <th>trial_chunked_ephys_timestamp</th>\n",
       "      <th>baseline_chunked_ephys_timestamp</th>\n",
       "      <th>trial_chunked_lfp_index</th>\n",
       "      <th>baseline_chunked_lfp_index</th>\n",
       "      <th>trial_or_baseline</th>\n",
       "      <th>current_thorax_velocity</th>\n",
       "      <th>current_chunked_thorax_velocity</th>\n",
       "      <th>chunked_lfp_index</th>\n",
       "      <th>chunked_ephys_timestamp</th>\n",
       "      <th>binned_current_thorax_velocity</th>\n",
       "    </tr>\n",
       "  </thead>\n",
       "  <tbody>\n",
       "    <tr>\n",
       "      <th>0</th>\n",
       "      <td>30950500.0</td>\n",
       "      <td>1.0</td>\n",
       "      <td>subj6_1_and_6_3</td>\n",
       "      <td>20221214_125409_om_and_comp_6_1_top_1_base_2_v...</td>\n",
       "      <td>dio_ECU_Din1</td>\n",
       "      <td>27998597.0</td>\n",
       "      <td>20221214_125409_om_and_comp_6_1_and_6_3.1.vide...</td>\n",
       "      <td>28574</td>\n",
       "      <td>1.0</td>\n",
       "      <td>6_1_top_1_base_2_vs_6_3</td>\n",
       "      <td>...</td>\n",
       "      <td>[(27998597.0, 28018597.0), (28018597.0, 280385...</td>\n",
       "      <td>[(27798597.0, 27818597.0), (27818597.0, 278385...</td>\n",
       "      <td>[(1399929.0, 1400929.0), (1400929.0, 1401929.0...</td>\n",
       "      <td>[(1389929.0, 1390929.0), (1390929.0, 1391929.0...</td>\n",
       "      <td>baseline</td>\n",
       "      <td>[2.036892327741516, 2.241836602029708, 2.57597...</td>\n",
       "      <td>[2.3533739428089473, 1.434358857024035, 3.0417...</td>\n",
       "      <td>[(1389929.0, 1390929.0), (1390929.0, 1391929.0...</td>\n",
       "      <td>[(27798597.0, 27818597.0), (27818597.0, 278385...</td>\n",
       "      <td>[0, 0, 0, 0, 2, 0, 1, 1, 0, 0]</td>\n",
       "    </tr>\n",
       "    <tr>\n",
       "      <th>1</th>\n",
       "      <td>30950500.0</td>\n",
       "      <td>1.0</td>\n",
       "      <td>subj6_1_and_6_3</td>\n",
       "      <td>20221214_125409_om_and_comp_6_1_top_1_base_2_v...</td>\n",
       "      <td>dio_ECU_Din1</td>\n",
       "      <td>27998597.0</td>\n",
       "      <td>20221214_125409_om_and_comp_6_1_and_6_3.1.vide...</td>\n",
       "      <td>28574</td>\n",
       "      <td>1.0</td>\n",
       "      <td>6_1_top_1_base_2_vs_6_3</td>\n",
       "      <td>...</td>\n",
       "      <td>[(27998597.0, 28018597.0), (28018597.0, 280385...</td>\n",
       "      <td>[(27798597.0, 27818597.0), (27818597.0, 278385...</td>\n",
       "      <td>[(1399929.0, 1400929.0), (1400929.0, 1401929.0...</td>\n",
       "      <td>[(1389929.0, 1390929.0), (1390929.0, 1391929.0...</td>\n",
       "      <td>trial</td>\n",
       "      <td>[0.7121153530651193, 0.6970557589759765, 0.724...</td>\n",
       "      <td>[0.9495329201051134, 3.0316038473645275, 1.981...</td>\n",
       "      <td>[(1399929.0, 1400929.0), (1400929.0, 1401929.0...</td>\n",
       "      <td>[(27998597.0, 28018597.0), (28018597.0, 280385...</td>\n",
       "      <td>[0, 0, 0, 0, 0, 1, 0, 0, 0, 0]</td>\n",
       "    </tr>\n",
       "    <tr>\n",
       "      <th>2</th>\n",
       "      <td>32550496.0</td>\n",
       "      <td>1.0</td>\n",
       "      <td>subj6_1_and_6_3</td>\n",
       "      <td>20221214_125409_om_and_comp_6_1_top_1_base_2_v...</td>\n",
       "      <td>dio_ECU_Din1</td>\n",
       "      <td>29598593.0</td>\n",
       "      <td>20221214_125409_om_and_comp_6_1_and_6_3.1.vide...</td>\n",
       "      <td>30569</td>\n",
       "      <td>1.0</td>\n",
       "      <td>6_1_top_1_base_2_vs_6_3</td>\n",
       "      <td>...</td>\n",
       "      <td>[(29598593.0, 29618593.0), (29618593.0, 296385...</td>\n",
       "      <td>[(29398593.0, 29418593.0), (29418593.0, 294385...</td>\n",
       "      <td>[(1479929.0, 1480929.0), (1480929.0, 1481929.0...</td>\n",
       "      <td>[(1469929.0, 1470929.0), (1470929.0, 1471929.0...</td>\n",
       "      <td>baseline</td>\n",
       "      <td>[2.9530693043854934, 2.5889456564677213, 2.295...</td>\n",
       "      <td>[0.9727462488501508, 0.14160626330067091, 0.15...</td>\n",
       "      <td>[(1469929.0, 1470929.0), (1470929.0, 1471929.0...</td>\n",
       "      <td>[(29398593.0, 29418593.0), (29418593.0, 294385...</td>\n",
       "      <td>[0, 0, 0, 0, 0, 2, 1, 1, 0, 0]</td>\n",
       "    </tr>\n",
       "    <tr>\n",
       "      <th>3</th>\n",
       "      <td>32550496.0</td>\n",
       "      <td>1.0</td>\n",
       "      <td>subj6_1_and_6_3</td>\n",
       "      <td>20221214_125409_om_and_comp_6_1_top_1_base_2_v...</td>\n",
       "      <td>dio_ECU_Din1</td>\n",
       "      <td>29598593.0</td>\n",
       "      <td>20221214_125409_om_and_comp_6_1_and_6_3.1.vide...</td>\n",
       "      <td>30569</td>\n",
       "      <td>1.0</td>\n",
       "      <td>6_1_top_1_base_2_vs_6_3</td>\n",
       "      <td>...</td>\n",
       "      <td>[(29598593.0, 29618593.0), (29618593.0, 296385...</td>\n",
       "      <td>[(29398593.0, 29418593.0), (29418593.0, 294385...</td>\n",
       "      <td>[(1479929.0, 1480929.0), (1480929.0, 1481929.0...</td>\n",
       "      <td>[(1469929.0, 1470929.0), (1470929.0, 1471929.0...</td>\n",
       "      <td>trial</td>\n",
       "      <td>[1.1091618874765725, 1.2067853545334786, 1.308...</td>\n",
       "      <td>[1.0503547684805281, 0.8329540254506201, 1.119...</td>\n",
       "      <td>[(1479929.0, 1480929.0), (1480929.0, 1481929.0...</td>\n",
       "      <td>[(29598593.0, 29618593.0), (29618593.0, 296385...</td>\n",
       "      <td>[0, 0, 0, 0, 0, 0, 0, 0, 0, 1]</td>\n",
       "    </tr>\n",
       "    <tr>\n",
       "      <th>4</th>\n",
       "      <td>34350494.0</td>\n",
       "      <td>1.0</td>\n",
       "      <td>subj6_1_and_6_3</td>\n",
       "      <td>20221214_125409_om_and_comp_6_1_top_1_base_2_v...</td>\n",
       "      <td>dio_ECU_Din1</td>\n",
       "      <td>31398591.0</td>\n",
       "      <td>20221214_125409_om_and_comp_6_1_and_6_3.1.vide...</td>\n",
       "      <td>32813</td>\n",
       "      <td>1.0</td>\n",
       "      <td>6_1_top_1_base_2_vs_6_3</td>\n",
       "      <td>...</td>\n",
       "      <td>[(31398591.0, 31418591.0), (31418591.0, 314385...</td>\n",
       "      <td>[(31198591.0, 31218591.0), (31218591.0, 312385...</td>\n",
       "      <td>[(1569929.0, 1570929.0), (1570929.0, 1571929.0...</td>\n",
       "      <td>[(1559929.0, 1560929.0), (1560929.0, 1561929.0...</td>\n",
       "      <td>baseline</td>\n",
       "      <td>[5.081365648592532, 4.988102332136219, 4.87467...</td>\n",
       "      <td>[3.3220810860024765, 0.6014839466006836, 0.252...</td>\n",
       "      <td>[(1559929.0, 1560929.0), (1560929.0, 1561929.0...</td>\n",
       "      <td>[(31198591.0, 31218591.0), (31218591.0, 312385...</td>\n",
       "      <td>[0, 0, 0, 0, 0, 0, 0, 0, 0, 0]</td>\n",
       "    </tr>\n",
       "  </tbody>\n",
       "</table>\n",
       "<p>5 rows × 62 columns</p>\n",
       "</div>"
      ],
      "text/plain": [
       "         time  state    recording_dir  \\\n",
       "0  30950500.0    1.0  subj6_1_and_6_3   \n",
       "1  30950500.0    1.0  subj6_1_and_6_3   \n",
       "2  32550496.0    1.0  subj6_1_and_6_3   \n",
       "3  32550496.0    1.0  subj6_1_and_6_3   \n",
       "4  34350494.0    1.0  subj6_1_and_6_3   \n",
       "\n",
       "                                      recording_file           din  \\\n",
       "0  20221214_125409_om_and_comp_6_1_top_1_base_2_v...  dio_ECU_Din1   \n",
       "1  20221214_125409_om_and_comp_6_1_top_1_base_2_v...  dio_ECU_Din1   \n",
       "2  20221214_125409_om_and_comp_6_1_top_1_base_2_v...  dio_ECU_Din1   \n",
       "3  20221214_125409_om_and_comp_6_1_top_1_base_2_v...  dio_ECU_Din1   \n",
       "4  20221214_125409_om_and_comp_6_1_top_1_base_2_v...  dio_ECU_Din1   \n",
       "\n",
       "   time_stamp_index                                         video_file  \\\n",
       "0        27998597.0  20221214_125409_om_and_comp_6_1_and_6_3.1.vide...   \n",
       "1        27998597.0  20221214_125409_om_and_comp_6_1_and_6_3.1.vide...   \n",
       "2        29598593.0  20221214_125409_om_and_comp_6_1_and_6_3.1.vide...   \n",
       "3        29598593.0  20221214_125409_om_and_comp_6_1_and_6_3.1.vide...   \n",
       "4        31398591.0  20221214_125409_om_and_comp_6_1_and_6_3.1.vide...   \n",
       "\n",
       "   video_frame  video_number             subject_info  ...  \\\n",
       "0        28574           1.0  6_1_top_1_base_2_vs_6_3  ...   \n",
       "1        28574           1.0  6_1_top_1_base_2_vs_6_3  ...   \n",
       "2        30569           1.0  6_1_top_1_base_2_vs_6_3  ...   \n",
       "3        30569           1.0  6_1_top_1_base_2_vs_6_3  ...   \n",
       "4        32813           1.0  6_1_top_1_base_2_vs_6_3  ...   \n",
       "\n",
       "                       trial_chunked_ephys_timestamp  \\\n",
       "0  [(27998597.0, 28018597.0), (28018597.0, 280385...   \n",
       "1  [(27998597.0, 28018597.0), (28018597.0, 280385...   \n",
       "2  [(29598593.0, 29618593.0), (29618593.0, 296385...   \n",
       "3  [(29598593.0, 29618593.0), (29618593.0, 296385...   \n",
       "4  [(31398591.0, 31418591.0), (31418591.0, 314385...   \n",
       "\n",
       "                    baseline_chunked_ephys_timestamp  \\\n",
       "0  [(27798597.0, 27818597.0), (27818597.0, 278385...   \n",
       "1  [(27798597.0, 27818597.0), (27818597.0, 278385...   \n",
       "2  [(29398593.0, 29418593.0), (29418593.0, 294385...   \n",
       "3  [(29398593.0, 29418593.0), (29418593.0, 294385...   \n",
       "4  [(31198591.0, 31218591.0), (31218591.0, 312385...   \n",
       "\n",
       "                             trial_chunked_lfp_index  \\\n",
       "0  [(1399929.0, 1400929.0), (1400929.0, 1401929.0...   \n",
       "1  [(1399929.0, 1400929.0), (1400929.0, 1401929.0...   \n",
       "2  [(1479929.0, 1480929.0), (1480929.0, 1481929.0...   \n",
       "3  [(1479929.0, 1480929.0), (1480929.0, 1481929.0...   \n",
       "4  [(1569929.0, 1570929.0), (1570929.0, 1571929.0...   \n",
       "\n",
       "                          baseline_chunked_lfp_index trial_or_baseline  \\\n",
       "0  [(1389929.0, 1390929.0), (1390929.0, 1391929.0...          baseline   \n",
       "1  [(1389929.0, 1390929.0), (1390929.0, 1391929.0...             trial   \n",
       "2  [(1469929.0, 1470929.0), (1470929.0, 1471929.0...          baseline   \n",
       "3  [(1469929.0, 1470929.0), (1470929.0, 1471929.0...             trial   \n",
       "4  [(1559929.0, 1560929.0), (1560929.0, 1561929.0...          baseline   \n",
       "\n",
       "                             current_thorax_velocity  \\\n",
       "0  [2.036892327741516, 2.241836602029708, 2.57597...   \n",
       "1  [0.7121153530651193, 0.6970557589759765, 0.724...   \n",
       "2  [2.9530693043854934, 2.5889456564677213, 2.295...   \n",
       "3  [1.1091618874765725, 1.2067853545334786, 1.308...   \n",
       "4  [5.081365648592532, 4.988102332136219, 4.87467...   \n",
       "\n",
       "                     current_chunked_thorax_velocity  \\\n",
       "0  [2.3533739428089473, 1.434358857024035, 3.0417...   \n",
       "1  [0.9495329201051134, 3.0316038473645275, 1.981...   \n",
       "2  [0.9727462488501508, 0.14160626330067091, 0.15...   \n",
       "3  [1.0503547684805281, 0.8329540254506201, 1.119...   \n",
       "4  [3.3220810860024765, 0.6014839466006836, 0.252...   \n",
       "\n",
       "                                   chunked_lfp_index  \\\n",
       "0  [(1389929.0, 1390929.0), (1390929.0, 1391929.0...   \n",
       "1  [(1399929.0, 1400929.0), (1400929.0, 1401929.0...   \n",
       "2  [(1469929.0, 1470929.0), (1470929.0, 1471929.0...   \n",
       "3  [(1479929.0, 1480929.0), (1480929.0, 1481929.0...   \n",
       "4  [(1559929.0, 1560929.0), (1560929.0, 1561929.0...   \n",
       "\n",
       "                             chunked_ephys_timestamp  \\\n",
       "0  [(27798597.0, 27818597.0), (27818597.0, 278385...   \n",
       "1  [(27998597.0, 28018597.0), (28018597.0, 280385...   \n",
       "2  [(29398593.0, 29418593.0), (29418593.0, 294385...   \n",
       "3  [(29598593.0, 29618593.0), (29618593.0, 296385...   \n",
       "4  [(31198591.0, 31218591.0), (31218591.0, 312385...   \n",
       "\n",
       "   binned_current_thorax_velocity  \n",
       "0  [0, 0, 0, 0, 2, 0, 1, 1, 0, 0]  \n",
       "1  [0, 0, 0, 0, 0, 1, 0, 0, 0, 0]  \n",
       "2  [0, 0, 0, 0, 0, 2, 1, 1, 0, 0]  \n",
       "3  [0, 0, 0, 0, 0, 0, 0, 0, 0, 1]  \n",
       "4  [0, 0, 0, 0, 0, 0, 0, 0, 0, 0]  \n",
       "\n",
       "[5 rows x 62 columns]"
      ]
     },
     "execution_count": 29,
     "metadata": {},
     "output_type": "execute_result"
    }
   ],
   "source": [
    "all_trials_df.head()"
   ]
  },
  {
   "cell_type": "markdown",
   "metadata": {},
   "source": [
    "- Labeling the trial as a winner or loser if the winner matches the subject id or not"
   ]
  },
  {
   "cell_type": "code",
   "execution_count": 30,
   "metadata": {},
   "outputs": [],
   "source": [
    "all_trials_df[\"trial_outcome\"] = all_trials_df.apply(\n",
    "    lambda x: \"win\" if str(x[\"condition\"]).strip() == str(x[\"current_subject\"]) \n",
    "             else (\"lose\" if str(x[\"condition\"]) in x[\"all_subjects\"] \n",
    "                   else x[\"condition\"]), axis=1)"
   ]
  },
  {
   "cell_type": "code",
   "execution_count": 31,
   "metadata": {},
   "outputs": [
    {
     "data": {
      "text/html": [
       "<div>\n",
       "<style scoped>\n",
       "    .dataframe tbody tr th:only-of-type {\n",
       "        vertical-align: middle;\n",
       "    }\n",
       "\n",
       "    .dataframe tbody tr th {\n",
       "        vertical-align: top;\n",
       "    }\n",
       "\n",
       "    .dataframe thead th {\n",
       "        text-align: right;\n",
       "    }\n",
       "</style>\n",
       "<table border=\"1\" class=\"dataframe\">\n",
       "  <thead>\n",
       "    <tr style=\"text-align: right;\">\n",
       "      <th></th>\n",
       "      <th>time</th>\n",
       "      <th>state</th>\n",
       "      <th>recording_dir</th>\n",
       "      <th>recording_file</th>\n",
       "      <th>din</th>\n",
       "      <th>time_stamp_index</th>\n",
       "      <th>video_file</th>\n",
       "      <th>video_frame</th>\n",
       "      <th>video_number</th>\n",
       "      <th>subject_info</th>\n",
       "      <th>...</th>\n",
       "      <th>trial_chunked_ephys_timestamp</th>\n",
       "      <th>baseline_chunked_ephys_timestamp</th>\n",
       "      <th>trial_chunked_lfp_index</th>\n",
       "      <th>baseline_chunked_lfp_index</th>\n",
       "      <th>trial_or_baseline</th>\n",
       "      <th>current_thorax_velocity</th>\n",
       "      <th>current_chunked_thorax_velocity</th>\n",
       "      <th>chunked_lfp_index</th>\n",
       "      <th>chunked_ephys_timestamp</th>\n",
       "      <th>binned_current_thorax_velocity</th>\n",
       "    </tr>\n",
       "  </thead>\n",
       "  <tbody>\n",
       "    <tr>\n",
       "      <th>0</th>\n",
       "      <td>30950500.0</td>\n",
       "      <td>1.0</td>\n",
       "      <td>subj6_1_and_6_3</td>\n",
       "      <td>20221214_125409_om_and_comp_6_1_top_1_base_2_v...</td>\n",
       "      <td>dio_ECU_Din1</td>\n",
       "      <td>27998597.0</td>\n",
       "      <td>20221214_125409_om_and_comp_6_1_and_6_3.1.vide...</td>\n",
       "      <td>28574</td>\n",
       "      <td>1.0</td>\n",
       "      <td>6_1_top_1_base_2_vs_6_3</td>\n",
       "      <td>...</td>\n",
       "      <td>[(27998597.0, 28018597.0), (28018597.0, 280385...</td>\n",
       "      <td>[(27798597.0, 27818597.0), (27818597.0, 278385...</td>\n",
       "      <td>[(1399929.0, 1400929.0), (1400929.0, 1401929.0...</td>\n",
       "      <td>[(1389929.0, 1390929.0), (1390929.0, 1391929.0...</td>\n",
       "      <td>baseline</td>\n",
       "      <td>[2.036892327741516, 2.241836602029708, 2.57597...</td>\n",
       "      <td>[2.3533739428089473, 1.434358857024035, 3.0417...</td>\n",
       "      <td>[(1389929.0, 1390929.0), (1390929.0, 1391929.0...</td>\n",
       "      <td>[(27798597.0, 27818597.0), (27818597.0, 278385...</td>\n",
       "      <td>[0, 0, 0, 0, 2, 0, 1, 1, 0, 0]</td>\n",
       "    </tr>\n",
       "    <tr>\n",
       "      <th>1</th>\n",
       "      <td>30950500.0</td>\n",
       "      <td>1.0</td>\n",
       "      <td>subj6_1_and_6_3</td>\n",
       "      <td>20221214_125409_om_and_comp_6_1_top_1_base_2_v...</td>\n",
       "      <td>dio_ECU_Din1</td>\n",
       "      <td>27998597.0</td>\n",
       "      <td>20221214_125409_om_and_comp_6_1_and_6_3.1.vide...</td>\n",
       "      <td>28574</td>\n",
       "      <td>1.0</td>\n",
       "      <td>6_1_top_1_base_2_vs_6_3</td>\n",
       "      <td>...</td>\n",
       "      <td>[(27998597.0, 28018597.0), (28018597.0, 280385...</td>\n",
       "      <td>[(27798597.0, 27818597.0), (27818597.0, 278385...</td>\n",
       "      <td>[(1399929.0, 1400929.0), (1400929.0, 1401929.0...</td>\n",
       "      <td>[(1389929.0, 1390929.0), (1390929.0, 1391929.0...</td>\n",
       "      <td>trial</td>\n",
       "      <td>[0.7121153530651193, 0.6970557589759765, 0.724...</td>\n",
       "      <td>[0.9495329201051134, 3.0316038473645275, 1.981...</td>\n",
       "      <td>[(1399929.0, 1400929.0), (1400929.0, 1401929.0...</td>\n",
       "      <td>[(27998597.0, 28018597.0), (28018597.0, 280385...</td>\n",
       "      <td>[0, 0, 0, 0, 0, 1, 0, 0, 0, 0]</td>\n",
       "    </tr>\n",
       "    <tr>\n",
       "      <th>2</th>\n",
       "      <td>32550496.0</td>\n",
       "      <td>1.0</td>\n",
       "      <td>subj6_1_and_6_3</td>\n",
       "      <td>20221214_125409_om_and_comp_6_1_top_1_base_2_v...</td>\n",
       "      <td>dio_ECU_Din1</td>\n",
       "      <td>29598593.0</td>\n",
       "      <td>20221214_125409_om_and_comp_6_1_and_6_3.1.vide...</td>\n",
       "      <td>30569</td>\n",
       "      <td>1.0</td>\n",
       "      <td>6_1_top_1_base_2_vs_6_3</td>\n",
       "      <td>...</td>\n",
       "      <td>[(29598593.0, 29618593.0), (29618593.0, 296385...</td>\n",
       "      <td>[(29398593.0, 29418593.0), (29418593.0, 294385...</td>\n",
       "      <td>[(1479929.0, 1480929.0), (1480929.0, 1481929.0...</td>\n",
       "      <td>[(1469929.0, 1470929.0), (1470929.0, 1471929.0...</td>\n",
       "      <td>baseline</td>\n",
       "      <td>[2.9530693043854934, 2.5889456564677213, 2.295...</td>\n",
       "      <td>[0.9727462488501508, 0.14160626330067091, 0.15...</td>\n",
       "      <td>[(1469929.0, 1470929.0), (1470929.0, 1471929.0...</td>\n",
       "      <td>[(29398593.0, 29418593.0), (29418593.0, 294385...</td>\n",
       "      <td>[0, 0, 0, 0, 0, 2, 1, 1, 0, 0]</td>\n",
       "    </tr>\n",
       "    <tr>\n",
       "      <th>3</th>\n",
       "      <td>32550496.0</td>\n",
       "      <td>1.0</td>\n",
       "      <td>subj6_1_and_6_3</td>\n",
       "      <td>20221214_125409_om_and_comp_6_1_top_1_base_2_v...</td>\n",
       "      <td>dio_ECU_Din1</td>\n",
       "      <td>29598593.0</td>\n",
       "      <td>20221214_125409_om_and_comp_6_1_and_6_3.1.vide...</td>\n",
       "      <td>30569</td>\n",
       "      <td>1.0</td>\n",
       "      <td>6_1_top_1_base_2_vs_6_3</td>\n",
       "      <td>...</td>\n",
       "      <td>[(29598593.0, 29618593.0), (29618593.0, 296385...</td>\n",
       "      <td>[(29398593.0, 29418593.0), (29418593.0, 294385...</td>\n",
       "      <td>[(1479929.0, 1480929.0), (1480929.0, 1481929.0...</td>\n",
       "      <td>[(1469929.0, 1470929.0), (1470929.0, 1471929.0...</td>\n",
       "      <td>trial</td>\n",
       "      <td>[1.1091618874765725, 1.2067853545334786, 1.308...</td>\n",
       "      <td>[1.0503547684805281, 0.8329540254506201, 1.119...</td>\n",
       "      <td>[(1479929.0, 1480929.0), (1480929.0, 1481929.0...</td>\n",
       "      <td>[(29598593.0, 29618593.0), (29618593.0, 296385...</td>\n",
       "      <td>[0, 0, 0, 0, 0, 0, 0, 0, 0, 1]</td>\n",
       "    </tr>\n",
       "    <tr>\n",
       "      <th>4</th>\n",
       "      <td>34350494.0</td>\n",
       "      <td>1.0</td>\n",
       "      <td>subj6_1_and_6_3</td>\n",
       "      <td>20221214_125409_om_and_comp_6_1_top_1_base_2_v...</td>\n",
       "      <td>dio_ECU_Din1</td>\n",
       "      <td>31398591.0</td>\n",
       "      <td>20221214_125409_om_and_comp_6_1_and_6_3.1.vide...</td>\n",
       "      <td>32813</td>\n",
       "      <td>1.0</td>\n",
       "      <td>6_1_top_1_base_2_vs_6_3</td>\n",
       "      <td>...</td>\n",
       "      <td>[(31398591.0, 31418591.0), (31418591.0, 314385...</td>\n",
       "      <td>[(31198591.0, 31218591.0), (31218591.0, 312385...</td>\n",
       "      <td>[(1569929.0, 1570929.0), (1570929.0, 1571929.0...</td>\n",
       "      <td>[(1559929.0, 1560929.0), (1560929.0, 1561929.0...</td>\n",
       "      <td>baseline</td>\n",
       "      <td>[5.081365648592532, 4.988102332136219, 4.87467...</td>\n",
       "      <td>[3.3220810860024765, 0.6014839466006836, 0.252...</td>\n",
       "      <td>[(1559929.0, 1560929.0), (1560929.0, 1561929.0...</td>\n",
       "      <td>[(31198591.0, 31218591.0), (31218591.0, 312385...</td>\n",
       "      <td>[0, 0, 0, 0, 0, 0, 0, 0, 0, 0]</td>\n",
       "    </tr>\n",
       "  </tbody>\n",
       "</table>\n",
       "<p>5 rows × 62 columns</p>\n",
       "</div>"
      ],
      "text/plain": [
       "         time  state    recording_dir  \\\n",
       "0  30950500.0    1.0  subj6_1_and_6_3   \n",
       "1  30950500.0    1.0  subj6_1_and_6_3   \n",
       "2  32550496.0    1.0  subj6_1_and_6_3   \n",
       "3  32550496.0    1.0  subj6_1_and_6_3   \n",
       "4  34350494.0    1.0  subj6_1_and_6_3   \n",
       "\n",
       "                                      recording_file           din  \\\n",
       "0  20221214_125409_om_and_comp_6_1_top_1_base_2_v...  dio_ECU_Din1   \n",
       "1  20221214_125409_om_and_comp_6_1_top_1_base_2_v...  dio_ECU_Din1   \n",
       "2  20221214_125409_om_and_comp_6_1_top_1_base_2_v...  dio_ECU_Din1   \n",
       "3  20221214_125409_om_and_comp_6_1_top_1_base_2_v...  dio_ECU_Din1   \n",
       "4  20221214_125409_om_and_comp_6_1_top_1_base_2_v...  dio_ECU_Din1   \n",
       "\n",
       "   time_stamp_index                                         video_file  \\\n",
       "0        27998597.0  20221214_125409_om_and_comp_6_1_and_6_3.1.vide...   \n",
       "1        27998597.0  20221214_125409_om_and_comp_6_1_and_6_3.1.vide...   \n",
       "2        29598593.0  20221214_125409_om_and_comp_6_1_and_6_3.1.vide...   \n",
       "3        29598593.0  20221214_125409_om_and_comp_6_1_and_6_3.1.vide...   \n",
       "4        31398591.0  20221214_125409_om_and_comp_6_1_and_6_3.1.vide...   \n",
       "\n",
       "   video_frame  video_number             subject_info  ...  \\\n",
       "0        28574           1.0  6_1_top_1_base_2_vs_6_3  ...   \n",
       "1        28574           1.0  6_1_top_1_base_2_vs_6_3  ...   \n",
       "2        30569           1.0  6_1_top_1_base_2_vs_6_3  ...   \n",
       "3        30569           1.0  6_1_top_1_base_2_vs_6_3  ...   \n",
       "4        32813           1.0  6_1_top_1_base_2_vs_6_3  ...   \n",
       "\n",
       "                       trial_chunked_ephys_timestamp  \\\n",
       "0  [(27998597.0, 28018597.0), (28018597.0, 280385...   \n",
       "1  [(27998597.0, 28018597.0), (28018597.0, 280385...   \n",
       "2  [(29598593.0, 29618593.0), (29618593.0, 296385...   \n",
       "3  [(29598593.0, 29618593.0), (29618593.0, 296385...   \n",
       "4  [(31398591.0, 31418591.0), (31418591.0, 314385...   \n",
       "\n",
       "                    baseline_chunked_ephys_timestamp  \\\n",
       "0  [(27798597.0, 27818597.0), (27818597.0, 278385...   \n",
       "1  [(27798597.0, 27818597.0), (27818597.0, 278385...   \n",
       "2  [(29398593.0, 29418593.0), (29418593.0, 294385...   \n",
       "3  [(29398593.0, 29418593.0), (29418593.0, 294385...   \n",
       "4  [(31198591.0, 31218591.0), (31218591.0, 312385...   \n",
       "\n",
       "                             trial_chunked_lfp_index  \\\n",
       "0  [(1399929.0, 1400929.0), (1400929.0, 1401929.0...   \n",
       "1  [(1399929.0, 1400929.0), (1400929.0, 1401929.0...   \n",
       "2  [(1479929.0, 1480929.0), (1480929.0, 1481929.0...   \n",
       "3  [(1479929.0, 1480929.0), (1480929.0, 1481929.0...   \n",
       "4  [(1569929.0, 1570929.0), (1570929.0, 1571929.0...   \n",
       "\n",
       "                          baseline_chunked_lfp_index trial_or_baseline  \\\n",
       "0  [(1389929.0, 1390929.0), (1390929.0, 1391929.0...          baseline   \n",
       "1  [(1389929.0, 1390929.0), (1390929.0, 1391929.0...             trial   \n",
       "2  [(1469929.0, 1470929.0), (1470929.0, 1471929.0...          baseline   \n",
       "3  [(1469929.0, 1470929.0), (1470929.0, 1471929.0...             trial   \n",
       "4  [(1559929.0, 1560929.0), (1560929.0, 1561929.0...          baseline   \n",
       "\n",
       "                             current_thorax_velocity  \\\n",
       "0  [2.036892327741516, 2.241836602029708, 2.57597...   \n",
       "1  [0.7121153530651193, 0.6970557589759765, 0.724...   \n",
       "2  [2.9530693043854934, 2.5889456564677213, 2.295...   \n",
       "3  [1.1091618874765725, 1.2067853545334786, 1.308...   \n",
       "4  [5.081365648592532, 4.988102332136219, 4.87467...   \n",
       "\n",
       "                     current_chunked_thorax_velocity  \\\n",
       "0  [2.3533739428089473, 1.434358857024035, 3.0417...   \n",
       "1  [0.9495329201051134, 3.0316038473645275, 1.981...   \n",
       "2  [0.9727462488501508, 0.14160626330067091, 0.15...   \n",
       "3  [1.0503547684805281, 0.8329540254506201, 1.119...   \n",
       "4  [3.3220810860024765, 0.6014839466006836, 0.252...   \n",
       "\n",
       "                                   chunked_lfp_index  \\\n",
       "0  [(1389929.0, 1390929.0), (1390929.0, 1391929.0...   \n",
       "1  [(1399929.0, 1400929.0), (1400929.0, 1401929.0...   \n",
       "2  [(1469929.0, 1470929.0), (1470929.0, 1471929.0...   \n",
       "3  [(1479929.0, 1480929.0), (1480929.0, 1481929.0...   \n",
       "4  [(1559929.0, 1560929.0), (1560929.0, 1561929.0...   \n",
       "\n",
       "                             chunked_ephys_timestamp  \\\n",
       "0  [(27798597.0, 27818597.0), (27818597.0, 278385...   \n",
       "1  [(27998597.0, 28018597.0), (28018597.0, 280385...   \n",
       "2  [(29398593.0, 29418593.0), (29418593.0, 294385...   \n",
       "3  [(29598593.0, 29618593.0), (29618593.0, 296385...   \n",
       "4  [(31198591.0, 31218591.0), (31218591.0, 312385...   \n",
       "\n",
       "   binned_current_thorax_velocity  \n",
       "0  [0, 0, 0, 0, 2, 0, 1, 1, 0, 0]  \n",
       "1  [0, 0, 0, 0, 0, 1, 0, 0, 0, 0]  \n",
       "2  [0, 0, 0, 0, 0, 2, 1, 1, 0, 0]  \n",
       "3  [0, 0, 0, 0, 0, 0, 0, 0, 0, 1]  \n",
       "4  [0, 0, 0, 0, 0, 0, 0, 0, 0, 0]  \n",
       "\n",
       "[5 rows x 62 columns]"
      ]
     },
     "execution_count": 31,
     "metadata": {},
     "output_type": "execute_result"
    }
   ],
   "source": [
    "all_trials_df.head()"
   ]
  },
  {
   "cell_type": "code",
   "execution_count": 32,
   "metadata": {},
   "outputs": [],
   "source": [
    "competition_closeness_map = {k: \"non_comp\" if \"only\" in str(k).lower() else \"comp\" if type(k) is str else np.nan for k in all_trials_df[\"competition_closeness\"].unique()}"
   ]
  },
  {
   "cell_type": "code",
   "execution_count": 33,
   "metadata": {
    "scrolled": true
   },
   "outputs": [
    {
     "data": {
      "text/plain": [
       "{'Subj 1 Only': 'non_comp',\n",
       " 'Subj 2 Only': 'non_comp',\n",
       " 'Subj 2 blocking Subj 1': 'comp',\n",
       " 'Subj 1 blocking Subj 2': 'comp',\n",
       " 'Subj 1 then Subj 2': 'comp',\n",
       " 'Subj 2 then Subj 1': 'comp',\n",
       " 'Close Call': 'comp',\n",
       " nan: nan}"
      ]
     },
     "execution_count": 33,
     "metadata": {},
     "output_type": "execute_result"
    }
   ],
   "source": [
    "competition_closeness_map"
   ]
  },
  {
   "cell_type": "code",
   "execution_count": 34,
   "metadata": {},
   "outputs": [],
   "source": [
    "all_trials_df[\"competition_closeness\"] = all_trials_df[\"competition_closeness\"].map(competition_closeness_map)"
   ]
  },
  {
   "cell_type": "code",
   "execution_count": 35,
   "metadata": {},
   "outputs": [
    {
     "data": {
      "text/plain": [
       "0      non_comp\n",
       "1      non_comp\n",
       "2      non_comp\n",
       "3      non_comp\n",
       "4      non_comp\n",
       "         ...   \n",
       "551         NaN\n",
       "552         NaN\n",
       "553         NaN\n",
       "554         NaN\n",
       "555         NaN\n",
       "Name: competition_closeness, Length: 556, dtype: object"
      ]
     },
     "execution_count": 35,
     "metadata": {},
     "output_type": "execute_result"
    }
   ],
   "source": [
    "all_trials_df[\"competition_closeness\"]"
   ]
  },
  {
   "cell_type": "code",
   "execution_count": 36,
   "metadata": {},
   "outputs": [],
   "source": [
    "all_trials_df[\"competition_closeness\"] = all_trials_df.apply(lambda x: \"_\".join([str(x[\"trial_outcome\"]), str(x[\"competition_closeness\"])]).strip(\"nan\").strip(\"_\"), axis=1)"
   ]
  },
  {
   "cell_type": "markdown",
   "metadata": {},
   "source": [
    "### Extracting the LFP"
   ]
  },
  {
   "cell_type": "code",
   "execution_count": 37,
   "metadata": {},
   "outputs": [
    {
     "data": {
      "text/html": [
       "<div>\n",
       "<style scoped>\n",
       "    .dataframe tbody tr th:only-of-type {\n",
       "        vertical-align: middle;\n",
       "    }\n",
       "\n",
       "    .dataframe tbody tr th {\n",
       "        vertical-align: top;\n",
       "    }\n",
       "\n",
       "    .dataframe thead th {\n",
       "        text-align: right;\n",
       "    }\n",
       "</style>\n",
       "<table border=\"1\" class=\"dataframe\">\n",
       "  <thead>\n",
       "    <tr style=\"text-align: right;\">\n",
       "      <th></th>\n",
       "      <th>time</th>\n",
       "      <th>state</th>\n",
       "      <th>recording_dir</th>\n",
       "      <th>recording_file</th>\n",
       "      <th>din</th>\n",
       "      <th>time_stamp_index</th>\n",
       "      <th>video_file</th>\n",
       "      <th>video_frame</th>\n",
       "      <th>video_number</th>\n",
       "      <th>subject_info</th>\n",
       "      <th>...</th>\n",
       "      <th>trial_chunked_ephys_timestamp</th>\n",
       "      <th>baseline_chunked_ephys_timestamp</th>\n",
       "      <th>trial_chunked_lfp_index</th>\n",
       "      <th>baseline_chunked_lfp_index</th>\n",
       "      <th>trial_or_baseline</th>\n",
       "      <th>current_thorax_velocity</th>\n",
       "      <th>current_chunked_thorax_velocity</th>\n",
       "      <th>chunked_lfp_index</th>\n",
       "      <th>chunked_ephys_timestamp</th>\n",
       "      <th>binned_current_thorax_velocity</th>\n",
       "    </tr>\n",
       "  </thead>\n",
       "  <tbody>\n",
       "    <tr>\n",
       "      <th>0</th>\n",
       "      <td>30950500.0</td>\n",
       "      <td>1.0</td>\n",
       "      <td>subj6_1_and_6_3</td>\n",
       "      <td>20221214_125409_om_and_comp_6_1_top_1_base_2_v...</td>\n",
       "      <td>dio_ECU_Din1</td>\n",
       "      <td>27998597.0</td>\n",
       "      <td>20221214_125409_om_and_comp_6_1_and_6_3.1.vide...</td>\n",
       "      <td>28574</td>\n",
       "      <td>1.0</td>\n",
       "      <td>6_1_top_1_base_2_vs_6_3</td>\n",
       "      <td>...</td>\n",
       "      <td>[(27998597.0, 28018597.0), (28018597.0, 280385...</td>\n",
       "      <td>[(27798597.0, 27818597.0), (27818597.0, 278385...</td>\n",
       "      <td>[(1399929.0, 1400929.0), (1400929.0, 1401929.0...</td>\n",
       "      <td>[(1389929.0, 1390929.0), (1390929.0, 1391929.0...</td>\n",
       "      <td>baseline</td>\n",
       "      <td>[2.036892327741516, 2.241836602029708, 2.57597...</td>\n",
       "      <td>[2.3533739428089473, 1.434358857024035, 3.0417...</td>\n",
       "      <td>[(1389929.0, 1390929.0), (1390929.0, 1391929.0...</td>\n",
       "      <td>[(27798597.0, 27818597.0), (27818597.0, 278385...</td>\n",
       "      <td>[0, 0, 0, 0, 2, 0, 1, 1, 0, 0]</td>\n",
       "    </tr>\n",
       "    <tr>\n",
       "      <th>1</th>\n",
       "      <td>30950500.0</td>\n",
       "      <td>1.0</td>\n",
       "      <td>subj6_1_and_6_3</td>\n",
       "      <td>20221214_125409_om_and_comp_6_1_top_1_base_2_v...</td>\n",
       "      <td>dio_ECU_Din1</td>\n",
       "      <td>27998597.0</td>\n",
       "      <td>20221214_125409_om_and_comp_6_1_and_6_3.1.vide...</td>\n",
       "      <td>28574</td>\n",
       "      <td>1.0</td>\n",
       "      <td>6_1_top_1_base_2_vs_6_3</td>\n",
       "      <td>...</td>\n",
       "      <td>[(27998597.0, 28018597.0), (28018597.0, 280385...</td>\n",
       "      <td>[(27798597.0, 27818597.0), (27818597.0, 278385...</td>\n",
       "      <td>[(1399929.0, 1400929.0), (1400929.0, 1401929.0...</td>\n",
       "      <td>[(1389929.0, 1390929.0), (1390929.0, 1391929.0...</td>\n",
       "      <td>trial</td>\n",
       "      <td>[0.7121153530651193, 0.6970557589759765, 0.724...</td>\n",
       "      <td>[0.9495329201051134, 3.0316038473645275, 1.981...</td>\n",
       "      <td>[(1399929.0, 1400929.0), (1400929.0, 1401929.0...</td>\n",
       "      <td>[(27998597.0, 28018597.0), (28018597.0, 280385...</td>\n",
       "      <td>[0, 0, 0, 0, 0, 1, 0, 0, 0, 0]</td>\n",
       "    </tr>\n",
       "    <tr>\n",
       "      <th>2</th>\n",
       "      <td>32550496.0</td>\n",
       "      <td>1.0</td>\n",
       "      <td>subj6_1_and_6_3</td>\n",
       "      <td>20221214_125409_om_and_comp_6_1_top_1_base_2_v...</td>\n",
       "      <td>dio_ECU_Din1</td>\n",
       "      <td>29598593.0</td>\n",
       "      <td>20221214_125409_om_and_comp_6_1_and_6_3.1.vide...</td>\n",
       "      <td>30569</td>\n",
       "      <td>1.0</td>\n",
       "      <td>6_1_top_1_base_2_vs_6_3</td>\n",
       "      <td>...</td>\n",
       "      <td>[(29598593.0, 29618593.0), (29618593.0, 296385...</td>\n",
       "      <td>[(29398593.0, 29418593.0), (29418593.0, 294385...</td>\n",
       "      <td>[(1479929.0, 1480929.0), (1480929.0, 1481929.0...</td>\n",
       "      <td>[(1469929.0, 1470929.0), (1470929.0, 1471929.0...</td>\n",
       "      <td>baseline</td>\n",
       "      <td>[2.9530693043854934, 2.5889456564677213, 2.295...</td>\n",
       "      <td>[0.9727462488501508, 0.14160626330067091, 0.15...</td>\n",
       "      <td>[(1469929.0, 1470929.0), (1470929.0, 1471929.0...</td>\n",
       "      <td>[(29398593.0, 29418593.0), (29418593.0, 294385...</td>\n",
       "      <td>[0, 0, 0, 0, 0, 2, 1, 1, 0, 0]</td>\n",
       "    </tr>\n",
       "    <tr>\n",
       "      <th>3</th>\n",
       "      <td>32550496.0</td>\n",
       "      <td>1.0</td>\n",
       "      <td>subj6_1_and_6_3</td>\n",
       "      <td>20221214_125409_om_and_comp_6_1_top_1_base_2_v...</td>\n",
       "      <td>dio_ECU_Din1</td>\n",
       "      <td>29598593.0</td>\n",
       "      <td>20221214_125409_om_and_comp_6_1_and_6_3.1.vide...</td>\n",
       "      <td>30569</td>\n",
       "      <td>1.0</td>\n",
       "      <td>6_1_top_1_base_2_vs_6_3</td>\n",
       "      <td>...</td>\n",
       "      <td>[(29598593.0, 29618593.0), (29618593.0, 296385...</td>\n",
       "      <td>[(29398593.0, 29418593.0), (29418593.0, 294385...</td>\n",
       "      <td>[(1479929.0, 1480929.0), (1480929.0, 1481929.0...</td>\n",
       "      <td>[(1469929.0, 1470929.0), (1470929.0, 1471929.0...</td>\n",
       "      <td>trial</td>\n",
       "      <td>[1.1091618874765725, 1.2067853545334786, 1.308...</td>\n",
       "      <td>[1.0503547684805281, 0.8329540254506201, 1.119...</td>\n",
       "      <td>[(1479929.0, 1480929.0), (1480929.0, 1481929.0...</td>\n",
       "      <td>[(29598593.0, 29618593.0), (29618593.0, 296385...</td>\n",
       "      <td>[0, 0, 0, 0, 0, 0, 0, 0, 0, 1]</td>\n",
       "    </tr>\n",
       "    <tr>\n",
       "      <th>4</th>\n",
       "      <td>34350494.0</td>\n",
       "      <td>1.0</td>\n",
       "      <td>subj6_1_and_6_3</td>\n",
       "      <td>20221214_125409_om_and_comp_6_1_top_1_base_2_v...</td>\n",
       "      <td>dio_ECU_Din1</td>\n",
       "      <td>31398591.0</td>\n",
       "      <td>20221214_125409_om_and_comp_6_1_and_6_3.1.vide...</td>\n",
       "      <td>32813</td>\n",
       "      <td>1.0</td>\n",
       "      <td>6_1_top_1_base_2_vs_6_3</td>\n",
       "      <td>...</td>\n",
       "      <td>[(31398591.0, 31418591.0), (31418591.0, 314385...</td>\n",
       "      <td>[(31198591.0, 31218591.0), (31218591.0, 312385...</td>\n",
       "      <td>[(1569929.0, 1570929.0), (1570929.0, 1571929.0...</td>\n",
       "      <td>[(1559929.0, 1560929.0), (1560929.0, 1561929.0...</td>\n",
       "      <td>baseline</td>\n",
       "      <td>[5.081365648592532, 4.988102332136219, 4.87467...</td>\n",
       "      <td>[3.3220810860024765, 0.6014839466006836, 0.252...</td>\n",
       "      <td>[(1559929.0, 1560929.0), (1560929.0, 1561929.0...</td>\n",
       "      <td>[(31198591.0, 31218591.0), (31218591.0, 312385...</td>\n",
       "      <td>[0, 0, 0, 0, 0, 0, 0, 0, 0, 0]</td>\n",
       "    </tr>\n",
       "    <tr>\n",
       "      <th>...</th>\n",
       "      <td>...</td>\n",
       "      <td>...</td>\n",
       "      <td>...</td>\n",
       "      <td>...</td>\n",
       "      <td>...</td>\n",
       "      <td>...</td>\n",
       "      <td>...</td>\n",
       "      <td>...</td>\n",
       "      <td>...</td>\n",
       "      <td>...</td>\n",
       "      <td>...</td>\n",
       "      <td>...</td>\n",
       "      <td>...</td>\n",
       "      <td>...</td>\n",
       "      <td>...</td>\n",
       "      <td>...</td>\n",
       "      <td>...</td>\n",
       "      <td>...</td>\n",
       "      <td>...</td>\n",
       "      <td>...</td>\n",
       "      <td>...</td>\n",
       "    </tr>\n",
       "    <tr>\n",
       "      <th>551</th>\n",
       "      <td>68781880.0</td>\n",
       "      <td>1.0</td>\n",
       "      <td>20230621_111240_standard_comp_to_omission_D5_s...</td>\n",
       "      <td>20230621_111240_standard_comp_to_omission_D5_s...</td>\n",
       "      <td>dio_ECU_Din1</td>\n",
       "      <td>65588836.0</td>\n",
       "      <td>20230621_111240_standard_comp_to_omission_D5_s...</td>\n",
       "      <td>65550</td>\n",
       "      <td>1.0</td>\n",
       "      <td>1-4_t3b3L_box1</td>\n",
       "      <td>...</td>\n",
       "      <td>[(65588836.0, 65608836.0), (65608836.0, 656288...</td>\n",
       "      <td>[(65388836.0, 65408836.0), (65408836.0, 654288...</td>\n",
       "      <td>[(3279441.0, 3280441.0), (3280441.0, 3281441.0...</td>\n",
       "      <td>[(3269441.0, 3270441.0), (3270441.0, 3271441.0...</td>\n",
       "      <td>trial</td>\n",
       "      <td>[9.112474352190267, 10.417192046294183, 11.298...</td>\n",
       "      <td>[11.839788965212001, 5.674888998661415, 5.3093...</td>\n",
       "      <td>[(3279441.0, 3280441.0), (3280441.0, 3281441.0...</td>\n",
       "      <td>[(65588836.0, 65608836.0), (65608836.0, 656288...</td>\n",
       "      <td>[2, 1, 1, 1, 0, 0, 0, 0, 0, 0]</td>\n",
       "    </tr>\n",
       "    <tr>\n",
       "      <th>552</th>\n",
       "      <td>70681909.0</td>\n",
       "      <td>1.0</td>\n",
       "      <td>20230621_111240_standard_comp_to_omission_D5_s...</td>\n",
       "      <td>20230621_111240_standard_comp_to_omission_D5_s...</td>\n",
       "      <td>dio_ECU_Din1</td>\n",
       "      <td>67488865.0</td>\n",
       "      <td>20230621_111240_standard_comp_to_omission_D5_s...</td>\n",
       "      <td>67447</td>\n",
       "      <td>1.0</td>\n",
       "      <td>1-4_t3b3L_box1</td>\n",
       "      <td>...</td>\n",
       "      <td>[(67488865.0, 67508865.0), (67508865.0, 675288...</td>\n",
       "      <td>[(67288865.0, 67308865.0), (67308865.0, 673288...</td>\n",
       "      <td>[(3374443.0, 3375443.0), (3375443.0, 3376443.0...</td>\n",
       "      <td>[(3364443.0, 3365443.0), (3365443.0, 3366443.0...</td>\n",
       "      <td>baseline</td>\n",
       "      <td>[7.404272153619358, 7.4792076108356556, 7.4414...</td>\n",
       "      <td>[8.791960737927132, 10.65039247630883, 6.08333...</td>\n",
       "      <td>[(3364443.0, 3365443.0), (3365443.0, 3366443.0...</td>\n",
       "      <td>[(67288865.0, 67308865.0), (67308865.0, 673288...</td>\n",
       "      <td>[1, 2, 1, 1, 1, 0, 0, 0, 0, 0]</td>\n",
       "    </tr>\n",
       "    <tr>\n",
       "      <th>553</th>\n",
       "      <td>70681909.0</td>\n",
       "      <td>1.0</td>\n",
       "      <td>20230621_111240_standard_comp_to_omission_D5_s...</td>\n",
       "      <td>20230621_111240_standard_comp_to_omission_D5_s...</td>\n",
       "      <td>dio_ECU_Din1</td>\n",
       "      <td>67488865.0</td>\n",
       "      <td>20230621_111240_standard_comp_to_omission_D5_s...</td>\n",
       "      <td>67447</td>\n",
       "      <td>1.0</td>\n",
       "      <td>1-4_t3b3L_box1</td>\n",
       "      <td>...</td>\n",
       "      <td>[(67488865.0, 67508865.0), (67508865.0, 675288...</td>\n",
       "      <td>[(67288865.0, 67308865.0), (67308865.0, 673288...</td>\n",
       "      <td>[(3374443.0, 3375443.0), (3375443.0, 3376443.0...</td>\n",
       "      <td>[(3364443.0, 3365443.0), (3365443.0, 3366443.0...</td>\n",
       "      <td>trial</td>\n",
       "      <td>[2.8435571812144964, 3.6034747061372583, 4.526...</td>\n",
       "      <td>[11.554616499467203, 9.659407551454382, 4.6810...</td>\n",
       "      <td>[(3374443.0, 3375443.0), (3375443.0, 3376443.0...</td>\n",
       "      <td>[(67488865.0, 67508865.0), (67508865.0, 675288...</td>\n",
       "      <td>[2, 1, 0, 1, 0, 0, 1, 1, 1, 1]</td>\n",
       "    </tr>\n",
       "    <tr>\n",
       "      <th>554</th>\n",
       "      <td>71681918.0</td>\n",
       "      <td>1.0</td>\n",
       "      <td>20230621_111240_standard_comp_to_omission_D5_s...</td>\n",
       "      <td>20230621_111240_standard_comp_to_omission_D5_s...</td>\n",
       "      <td>dio_ECU_Din1</td>\n",
       "      <td>68488874.0</td>\n",
       "      <td>20230621_111240_standard_comp_to_omission_D5_s...</td>\n",
       "      <td>68444</td>\n",
       "      <td>1.0</td>\n",
       "      <td>1-4_t3b3L_box1</td>\n",
       "      <td>...</td>\n",
       "      <td>[(68488874.0, 68508874.0), (68508874.0, 685288...</td>\n",
       "      <td>[(68288874.0, 68308874.0), (68308874.0, 683288...</td>\n",
       "      <td>[(3424443.0, 3425443.0), (3425443.0, 3426443.0...</td>\n",
       "      <td>[(3414443.0, 3415443.0), (3415443.0, 3416443.0...</td>\n",
       "      <td>baseline</td>\n",
       "      <td>[9.21864355149977, 9.430708727487831, 9.640691...</td>\n",
       "      <td>[6.170138582238399, 4.553765671221828, 5.91920...</td>\n",
       "      <td>[(3414443.0, 3415443.0), (3415443.0, 3416443.0...</td>\n",
       "      <td>[(68288874.0, 68308874.0), (68308874.0, 683288...</td>\n",
       "      <td>[1, 0, 1, 1, 0, 0, 0, 0, 1, 1]</td>\n",
       "    </tr>\n",
       "    <tr>\n",
       "      <th>555</th>\n",
       "      <td>71681918.0</td>\n",
       "      <td>1.0</td>\n",
       "      <td>20230621_111240_standard_comp_to_omission_D5_s...</td>\n",
       "      <td>20230621_111240_standard_comp_to_omission_D5_s...</td>\n",
       "      <td>dio_ECU_Din1</td>\n",
       "      <td>68488874.0</td>\n",
       "      <td>20230621_111240_standard_comp_to_omission_D5_s...</td>\n",
       "      <td>68444</td>\n",
       "      <td>1.0</td>\n",
       "      <td>1-4_t3b3L_box1</td>\n",
       "      <td>...</td>\n",
       "      <td>[(68488874.0, 68508874.0), (68508874.0, 685288...</td>\n",
       "      <td>[(68288874.0, 68308874.0), (68308874.0, 683288...</td>\n",
       "      <td>[(3424443.0, 3425443.0), (3425443.0, 3426443.0...</td>\n",
       "      <td>[(3414443.0, 3415443.0), (3415443.0, 3416443.0...</td>\n",
       "      <td>trial</td>\n",
       "      <td>[6.393503598516325, 6.38274128999218, 6.731396...</td>\n",
       "      <td>[7.504999755692686, 8.820425019137694, 7.65848...</td>\n",
       "      <td>[(3424443.0, 3425443.0), (3425443.0, 3426443.0...</td>\n",
       "      <td>[(68488874.0, 68508874.0), (68508874.0, 685288...</td>\n",
       "      <td>[1, 1, 1, 1, 0, 0, 0, 0, 0, 0]</td>\n",
       "    </tr>\n",
       "  </tbody>\n",
       "</table>\n",
       "<p>556 rows × 62 columns</p>\n",
       "</div>"
      ],
      "text/plain": [
       "           time  state                                      recording_dir  \\\n",
       "0    30950500.0    1.0                                    subj6_1_and_6_3   \n",
       "1    30950500.0    1.0                                    subj6_1_and_6_3   \n",
       "2    32550496.0    1.0                                    subj6_1_and_6_3   \n",
       "3    32550496.0    1.0                                    subj6_1_and_6_3   \n",
       "4    34350494.0    1.0                                    subj6_1_and_6_3   \n",
       "..          ...    ...                                                ...   \n",
       "551  68781880.0    1.0  20230621_111240_standard_comp_to_omission_D5_s...   \n",
       "552  70681909.0    1.0  20230621_111240_standard_comp_to_omission_D5_s...   \n",
       "553  70681909.0    1.0  20230621_111240_standard_comp_to_omission_D5_s...   \n",
       "554  71681918.0    1.0  20230621_111240_standard_comp_to_omission_D5_s...   \n",
       "555  71681918.0    1.0  20230621_111240_standard_comp_to_omission_D5_s...   \n",
       "\n",
       "                                        recording_file           din  \\\n",
       "0    20221214_125409_om_and_comp_6_1_top_1_base_2_v...  dio_ECU_Din1   \n",
       "1    20221214_125409_om_and_comp_6_1_top_1_base_2_v...  dio_ECU_Din1   \n",
       "2    20221214_125409_om_and_comp_6_1_top_1_base_2_v...  dio_ECU_Din1   \n",
       "3    20221214_125409_om_and_comp_6_1_top_1_base_2_v...  dio_ECU_Din1   \n",
       "4    20221214_125409_om_and_comp_6_1_top_1_base_2_v...  dio_ECU_Din1   \n",
       "..                                                 ...           ...   \n",
       "551  20230621_111240_standard_comp_to_omission_D5_s...  dio_ECU_Din1   \n",
       "552  20230621_111240_standard_comp_to_omission_D5_s...  dio_ECU_Din1   \n",
       "553  20230621_111240_standard_comp_to_omission_D5_s...  dio_ECU_Din1   \n",
       "554  20230621_111240_standard_comp_to_omission_D5_s...  dio_ECU_Din1   \n",
       "555  20230621_111240_standard_comp_to_omission_D5_s...  dio_ECU_Din1   \n",
       "\n",
       "     time_stamp_index                                         video_file  \\\n",
       "0          27998597.0  20221214_125409_om_and_comp_6_1_and_6_3.1.vide...   \n",
       "1          27998597.0  20221214_125409_om_and_comp_6_1_and_6_3.1.vide...   \n",
       "2          29598593.0  20221214_125409_om_and_comp_6_1_and_6_3.1.vide...   \n",
       "3          29598593.0  20221214_125409_om_and_comp_6_1_and_6_3.1.vide...   \n",
       "4          31398591.0  20221214_125409_om_and_comp_6_1_and_6_3.1.vide...   \n",
       "..                ...                                                ...   \n",
       "551        65588836.0  20230621_111240_standard_comp_to_omission_D5_s...   \n",
       "552        67488865.0  20230621_111240_standard_comp_to_omission_D5_s...   \n",
       "553        67488865.0  20230621_111240_standard_comp_to_omission_D5_s...   \n",
       "554        68488874.0  20230621_111240_standard_comp_to_omission_D5_s...   \n",
       "555        68488874.0  20230621_111240_standard_comp_to_omission_D5_s...   \n",
       "\n",
       "     video_frame  video_number             subject_info  ...  \\\n",
       "0          28574           1.0  6_1_top_1_base_2_vs_6_3  ...   \n",
       "1          28574           1.0  6_1_top_1_base_2_vs_6_3  ...   \n",
       "2          30569           1.0  6_1_top_1_base_2_vs_6_3  ...   \n",
       "3          30569           1.0  6_1_top_1_base_2_vs_6_3  ...   \n",
       "4          32813           1.0  6_1_top_1_base_2_vs_6_3  ...   \n",
       "..           ...           ...                      ...  ...   \n",
       "551        65550           1.0           1-4_t3b3L_box1  ...   \n",
       "552        67447           1.0           1-4_t3b3L_box1  ...   \n",
       "553        67447           1.0           1-4_t3b3L_box1  ...   \n",
       "554        68444           1.0           1-4_t3b3L_box1  ...   \n",
       "555        68444           1.0           1-4_t3b3L_box1  ...   \n",
       "\n",
       "                         trial_chunked_ephys_timestamp  \\\n",
       "0    [(27998597.0, 28018597.0), (28018597.0, 280385...   \n",
       "1    [(27998597.0, 28018597.0), (28018597.0, 280385...   \n",
       "2    [(29598593.0, 29618593.0), (29618593.0, 296385...   \n",
       "3    [(29598593.0, 29618593.0), (29618593.0, 296385...   \n",
       "4    [(31398591.0, 31418591.0), (31418591.0, 314385...   \n",
       "..                                                 ...   \n",
       "551  [(65588836.0, 65608836.0), (65608836.0, 656288...   \n",
       "552  [(67488865.0, 67508865.0), (67508865.0, 675288...   \n",
       "553  [(67488865.0, 67508865.0), (67508865.0, 675288...   \n",
       "554  [(68488874.0, 68508874.0), (68508874.0, 685288...   \n",
       "555  [(68488874.0, 68508874.0), (68508874.0, 685288...   \n",
       "\n",
       "                      baseline_chunked_ephys_timestamp  \\\n",
       "0    [(27798597.0, 27818597.0), (27818597.0, 278385...   \n",
       "1    [(27798597.0, 27818597.0), (27818597.0, 278385...   \n",
       "2    [(29398593.0, 29418593.0), (29418593.0, 294385...   \n",
       "3    [(29398593.0, 29418593.0), (29418593.0, 294385...   \n",
       "4    [(31198591.0, 31218591.0), (31218591.0, 312385...   \n",
       "..                                                 ...   \n",
       "551  [(65388836.0, 65408836.0), (65408836.0, 654288...   \n",
       "552  [(67288865.0, 67308865.0), (67308865.0, 673288...   \n",
       "553  [(67288865.0, 67308865.0), (67308865.0, 673288...   \n",
       "554  [(68288874.0, 68308874.0), (68308874.0, 683288...   \n",
       "555  [(68288874.0, 68308874.0), (68308874.0, 683288...   \n",
       "\n",
       "                               trial_chunked_lfp_index  \\\n",
       "0    [(1399929.0, 1400929.0), (1400929.0, 1401929.0...   \n",
       "1    [(1399929.0, 1400929.0), (1400929.0, 1401929.0...   \n",
       "2    [(1479929.0, 1480929.0), (1480929.0, 1481929.0...   \n",
       "3    [(1479929.0, 1480929.0), (1480929.0, 1481929.0...   \n",
       "4    [(1569929.0, 1570929.0), (1570929.0, 1571929.0...   \n",
       "..                                                 ...   \n",
       "551  [(3279441.0, 3280441.0), (3280441.0, 3281441.0...   \n",
       "552  [(3374443.0, 3375443.0), (3375443.0, 3376443.0...   \n",
       "553  [(3374443.0, 3375443.0), (3375443.0, 3376443.0...   \n",
       "554  [(3424443.0, 3425443.0), (3425443.0, 3426443.0...   \n",
       "555  [(3424443.0, 3425443.0), (3425443.0, 3426443.0...   \n",
       "\n",
       "                            baseline_chunked_lfp_index trial_or_baseline  \\\n",
       "0    [(1389929.0, 1390929.0), (1390929.0, 1391929.0...          baseline   \n",
       "1    [(1389929.0, 1390929.0), (1390929.0, 1391929.0...             trial   \n",
       "2    [(1469929.0, 1470929.0), (1470929.0, 1471929.0...          baseline   \n",
       "3    [(1469929.0, 1470929.0), (1470929.0, 1471929.0...             trial   \n",
       "4    [(1559929.0, 1560929.0), (1560929.0, 1561929.0...          baseline   \n",
       "..                                                 ...               ...   \n",
       "551  [(3269441.0, 3270441.0), (3270441.0, 3271441.0...             trial   \n",
       "552  [(3364443.0, 3365443.0), (3365443.0, 3366443.0...          baseline   \n",
       "553  [(3364443.0, 3365443.0), (3365443.0, 3366443.0...             trial   \n",
       "554  [(3414443.0, 3415443.0), (3415443.0, 3416443.0...          baseline   \n",
       "555  [(3414443.0, 3415443.0), (3415443.0, 3416443.0...             trial   \n",
       "\n",
       "                               current_thorax_velocity  \\\n",
       "0    [2.036892327741516, 2.241836602029708, 2.57597...   \n",
       "1    [0.7121153530651193, 0.6970557589759765, 0.724...   \n",
       "2    [2.9530693043854934, 2.5889456564677213, 2.295...   \n",
       "3    [1.1091618874765725, 1.2067853545334786, 1.308...   \n",
       "4    [5.081365648592532, 4.988102332136219, 4.87467...   \n",
       "..                                                 ...   \n",
       "551  [9.112474352190267, 10.417192046294183, 11.298...   \n",
       "552  [7.404272153619358, 7.4792076108356556, 7.4414...   \n",
       "553  [2.8435571812144964, 3.6034747061372583, 4.526...   \n",
       "554  [9.21864355149977, 9.430708727487831, 9.640691...   \n",
       "555  [6.393503598516325, 6.38274128999218, 6.731396...   \n",
       "\n",
       "                       current_chunked_thorax_velocity  \\\n",
       "0    [2.3533739428089473, 1.434358857024035, 3.0417...   \n",
       "1    [0.9495329201051134, 3.0316038473645275, 1.981...   \n",
       "2    [0.9727462488501508, 0.14160626330067091, 0.15...   \n",
       "3    [1.0503547684805281, 0.8329540254506201, 1.119...   \n",
       "4    [3.3220810860024765, 0.6014839466006836, 0.252...   \n",
       "..                                                 ...   \n",
       "551  [11.839788965212001, 5.674888998661415, 5.3093...   \n",
       "552  [8.791960737927132, 10.65039247630883, 6.08333...   \n",
       "553  [11.554616499467203, 9.659407551454382, 4.6810...   \n",
       "554  [6.170138582238399, 4.553765671221828, 5.91920...   \n",
       "555  [7.504999755692686, 8.820425019137694, 7.65848...   \n",
       "\n",
       "                                     chunked_lfp_index  \\\n",
       "0    [(1389929.0, 1390929.0), (1390929.0, 1391929.0...   \n",
       "1    [(1399929.0, 1400929.0), (1400929.0, 1401929.0...   \n",
       "2    [(1469929.0, 1470929.0), (1470929.0, 1471929.0...   \n",
       "3    [(1479929.0, 1480929.0), (1480929.0, 1481929.0...   \n",
       "4    [(1559929.0, 1560929.0), (1560929.0, 1561929.0...   \n",
       "..                                                 ...   \n",
       "551  [(3279441.0, 3280441.0), (3280441.0, 3281441.0...   \n",
       "552  [(3364443.0, 3365443.0), (3365443.0, 3366443.0...   \n",
       "553  [(3374443.0, 3375443.0), (3375443.0, 3376443.0...   \n",
       "554  [(3414443.0, 3415443.0), (3415443.0, 3416443.0...   \n",
       "555  [(3424443.0, 3425443.0), (3425443.0, 3426443.0...   \n",
       "\n",
       "                               chunked_ephys_timestamp  \\\n",
       "0    [(27798597.0, 27818597.0), (27818597.0, 278385...   \n",
       "1    [(27998597.0, 28018597.0), (28018597.0, 280385...   \n",
       "2    [(29398593.0, 29418593.0), (29418593.0, 294385...   \n",
       "3    [(29598593.0, 29618593.0), (29618593.0, 296385...   \n",
       "4    [(31198591.0, 31218591.0), (31218591.0, 312385...   \n",
       "..                                                 ...   \n",
       "551  [(65588836.0, 65608836.0), (65608836.0, 656288...   \n",
       "552  [(67288865.0, 67308865.0), (67308865.0, 673288...   \n",
       "553  [(67488865.0, 67508865.0), (67508865.0, 675288...   \n",
       "554  [(68288874.0, 68308874.0), (68308874.0, 683288...   \n",
       "555  [(68488874.0, 68508874.0), (68508874.0, 685288...   \n",
       "\n",
       "     binned_current_thorax_velocity  \n",
       "0    [0, 0, 0, 0, 2, 0, 1, 1, 0, 0]  \n",
       "1    [0, 0, 0, 0, 0, 1, 0, 0, 0, 0]  \n",
       "2    [0, 0, 0, 0, 0, 2, 1, 1, 0, 0]  \n",
       "3    [0, 0, 0, 0, 0, 0, 0, 0, 0, 1]  \n",
       "4    [0, 0, 0, 0, 0, 0, 0, 0, 0, 0]  \n",
       "..                              ...  \n",
       "551  [2, 1, 1, 1, 0, 0, 0, 0, 0, 0]  \n",
       "552  [1, 2, 1, 1, 1, 0, 0, 0, 0, 0]  \n",
       "553  [2, 1, 0, 1, 0, 0, 1, 1, 1, 1]  \n",
       "554  [1, 0, 1, 1, 0, 0, 0, 0, 1, 1]  \n",
       "555  [1, 1, 1, 1, 0, 0, 0, 0, 0, 0]  \n",
       "\n",
       "[556 rows x 62 columns]"
      ]
     },
     "execution_count": 37,
     "metadata": {},
     "output_type": "execute_result"
    }
   ],
   "source": [
    "all_trials_df"
   ]
  },
  {
   "cell_type": "code",
   "execution_count": 38,
   "metadata": {},
   "outputs": [
    {
     "data": {
      "text/plain": [
       "array(['subj6_1_and_6_3',\n",
       "       '20230617_115521_standard_comp_to_omission_D1_subj_1-1_and_1-2',\n",
       "       '20230618_100636_standard_comp_to_omission_D2_subj_1-4_and_1-1',\n",
       "       '20230619_115321_standard_comp_to_omission_D3_subj_1-2_and_1-4',\n",
       "       '20230620_114347_standard_comp_to_omission_D4_subj_1-2_and_1-1',\n",
       "       '20230621_111240_standard_comp_to_omission_D5_subj_1-4_and_1-2'],\n",
       "      dtype=object)"
      ]
     },
     "execution_count": 38,
     "metadata": {},
     "output_type": "execute_result"
    }
   ],
   "source": [
    "all_trials_df[\"recording_dir\"].unique()"
   ]
  },
  {
   "cell_type": "code",
   "execution_count": null,
   "metadata": {},
   "outputs": [
    {
     "name": "stdout",
     "output_type": "stream",
     "text": [
      "20230620_114347_standard_comp_to_omission_D4_subj_1-1_t1b2L_box_2_merged\n",
      "20230620_114347_standard_comp_to_omission_D4_subj_1-2_t3b3L_box_1_merged\n",
      "20221203_154800_omission_and_competition_subject_6_1_top_1_base_3_merged\n",
      "20221202_134600_omission_and_competition_subject_6_1_top_2_base_3_merged\n",
      "20221214_125409_om_and_comp_6_1_top_1_base_2_vs_6_3\n",
      "20230617_115521_standard_comp_to_omission_D1_subj_1-2_t2b2L_box2_merged\n",
      "20230617_115521_standard_comp_to_omission_D1_subj_1-1_t1b3L_box1_merged\n",
      "20230619_115321_standard_comp_to_omission_D3_subj_1-4_t3b3L_box2_merged\n",
      "20230621_111240_standard_comp_to_omission_D5_subj_1-4_t3b3L_box1_merged\n",
      "20230618_100636_standard_comp_to_omission_D2_subj_1_4_t4b3L_box1_merged\n",
      "20230618_100636_standard_comp_to_omission_D2_subj_1_1_t1b2L_box2_merged\n",
      "20221215_145401_comp_amd_om_6_1_top_4_base_3\n"
     ]
    }
   ],
   "source": [
    "recording_name_to_all_ch_lfp = {}\n",
    "# Going through all the recording sessions \n",
    "for session_dir in ALL_SESSION_DIR:\n",
    "    # Going through all the recordings in each session\n",
    "    for recording_path in glob.glob(os.path.join(session_dir, \"*.rec\")):\n",
    "        try:\n",
    "            recording_basename = os.path.splitext(os.path.basename(recording_path))[0]\n",
    "            # checking to see if the recording has an ECU component\n",
    "            # if it doesn't, then the next one be extracted\n",
    "            current_recording = se.read_spikegadgets(recording_path, stream_id=\"ECU\")\n",
    "            current_recording = se.read_spikegadgets(recording_path, stream_id=\"trodes\")\n",
    "            print(recording_basename)\n",
    "            # Preprocessing the LFP\n",
    "            current_recording = sp.bandpass_filter(current_recording, freq_min=0.5, freq_max=300)\n",
    "            current_recording = sp.notch_filter(current_recording, freq=60)\n",
    "            current_recording = sp.resample(current_recording, resample_rate=1000)\n",
    "            current_recording = sp.zscore(current_recording)\n",
    "            recording_name_to_all_ch_lfp[recording_basename] = current_recording\n",
    "        except:\n",
    "            pass\n",
    "\n"
   ]
  },
  {
   "cell_type": "markdown",
   "metadata": {},
   "source": [
    "- Filtering for all trials that have labels"
   ]
  },
  {
   "cell_type": "code",
   "execution_count": null,
   "metadata": {},
   "outputs": [],
   "source": [
    "all_trials_df = all_trials_df[all_trials_df[\"recording_file\"].isin(recording_name_to_all_ch_lfp.keys())].reset_index(drop=True)"
   ]
  },
  {
   "cell_type": "code",
   "execution_count": null,
   "metadata": {
    "scrolled": true
   },
   "outputs": [],
   "source": [
    "all_trials_df.head()"
   ]
  },
  {
   "cell_type": "code",
   "execution_count": null,
   "metadata": {},
   "outputs": [],
   "source": [
    "all_trials_df[\"trial_outcome\"].unique()"
   ]
  },
  {
   "cell_type": "code",
   "execution_count": null,
   "metadata": {},
   "outputs": [],
   "source": [
    "all_trials_df[\"trial_or_baseline\"].unique()"
   ]
  },
  {
   "cell_type": "code",
   "execution_count": null,
   "metadata": {},
   "outputs": [],
   "source": [
    "recording_name_to_all_ch_lfp.keys()"
   ]
  },
  {
   "cell_type": "code",
   "execution_count": null,
   "metadata": {
    "scrolled": true
   },
   "outputs": [],
   "source": [
    "CHANNEL_MAPPING_DF"
   ]
  },
  {
   "cell_type": "markdown",
   "metadata": {},
   "source": [
    "## Power Calculation"
   ]
  },
  {
   "cell_type": "code",
   "execution_count": null,
   "metadata": {
    "scrolled": true
   },
   "outputs": [],
   "source": [
    "all_trials_df.head()"
   ]
  },
  {
   "cell_type": "markdown",
   "metadata": {},
   "source": [
    "- Adding all the brain region to ch information"
   ]
  },
  {
   "cell_type": "code",
   "execution_count": null,
   "metadata": {},
   "outputs": [],
   "source": [
    "channel_map_and_all_trials_df = all_trials_df.merge(CHANNEL_MAPPING_DF, left_on=\"current_subject\", right_on=\"Subject\", how=\"left\")"
   ]
  },
  {
   "cell_type": "markdown",
   "metadata": {},
   "source": [
    "- Linking up all LFP calculations with all the trials"
   ]
  },
  {
   "cell_type": "code",
   "execution_count": null,
   "metadata": {},
   "outputs": [],
   "source": [
    "channel_map_and_all_trials_df[\"all_ch_lfp\"] = channel_map_and_all_trials_df[\"recording_file\"].map(recording_name_to_all_ch_lfp)"
   ]
  },
  {
   "cell_type": "markdown",
   "metadata": {},
   "source": [
    "- Creating a new row for each brain region"
   ]
  },
  {
   "cell_type": "code",
   "execution_count": null,
   "metadata": {},
   "outputs": [],
   "source": [
    "brain_region_col = [col for col in CHANNEL_MAPPING_DF if \"spike_interface\" in col]"
   ]
  },
  {
   "cell_type": "code",
   "execution_count": null,
   "metadata": {},
   "outputs": [],
   "source": [
    "id_cols = [col for col in channel_map_and_all_trials_df.columns if col not in brain_region_col]"
   ]
  },
  {
   "cell_type": "code",
   "execution_count": null,
   "metadata": {},
   "outputs": [],
   "source": [
    "melted_channel_map_and_all_trials_df = channel_map_and_all_trials_df.melt(id_vars=id_cols ,value_vars=brain_region_col, var_name='brain_region', value_name='channel')\n"
   ]
  },
  {
   "cell_type": "code",
   "execution_count": null,
   "metadata": {},
   "outputs": [],
   "source": [
    "melted_channel_map_and_all_trials_df.head()"
   ]
  },
  {
   "cell_type": "code",
   "execution_count": null,
   "metadata": {},
   "outputs": [],
   "source": [
    "melted_channel_map_and_all_trials_df.tail()"
   ]
  },
  {
   "cell_type": "markdown",
   "metadata": {},
   "source": [
    "- Getting the traces for each trial for each brain region"
   ]
  },
  {
   "cell_type": "code",
   "execution_count": null,
   "metadata": {},
   "outputs": [],
   "source": [
    "melted_channel_map_and_all_trials_df[\"channel\"] = melted_channel_map_and_all_trials_df[\"channel\"].astype(int).astype(str)\n",
    "melted_channel_map_and_all_trials_df[\"resampled_index\"] = melted_channel_map_and_all_trials_df[\"resampled_index\"].astype(int)"
   ]
  },
  {
   "cell_type": "code",
   "execution_count": null,
   "metadata": {},
   "outputs": [],
   "source": [
    "melted_channel_map_and_all_trials_df[\"chunked_lfp_index\"].iloc[0]"
   ]
  },
  {
   "cell_type": "code",
   "execution_count": null,
   "metadata": {},
   "outputs": [],
   "source": [
    "melted_channel_map_and_all_trials_df[\"binned_current_thorax_velocity\"].iloc[0]"
   ]
  },
  {
   "cell_type": "code",
   "execution_count": null,
   "metadata": {},
   "outputs": [],
   "source": [
    "melted_channel_map_and_all_trials_df[\"chunked_current_trace\"] = melted_channel_map_and_all_trials_df.apply(lambda x: \n",
    "[x[\"all_ch_lfp\"].get_traces(channel_ids=[x[\"channel\"]], start_frame=chunk_index[0], end_frame=chunk_index[1]).T[0] for chunk_index in x[\"chunked_lfp_index\"]], axis=1)"
   ]
  },
  {
   "cell_type": "code",
   "execution_count": null,
   "metadata": {},
   "outputs": [],
   "source": [
    "len(melted_channel_map_and_all_trials_df[\"chunked_current_trace\"].iloc[0])"
   ]
  },
  {
   "cell_type": "code",
   "execution_count": null,
   "metadata": {
    "scrolled": true
   },
   "outputs": [],
   "source": [
    "melted_channel_map_and_all_trials_df[\"chunked_current_trace\"]"
   ]
  },
  {
   "cell_type": "code",
   "execution_count": null,
   "metadata": {},
   "outputs": [],
   "source": [
    "melted_channel_map_and_all_trials_df[\"chunk_id\"] = [list(range(0,10))] * len(melted_channel_map_and_all_trials_df)"
   ]
  },
  {
   "cell_type": "code",
   "execution_count": null,
   "metadata": {},
   "outputs": [],
   "source": [
    "exploded_channel_map_and_all_trials_df = melted_channel_map_and_all_trials_df.explode([\"current_chunked_thorax_velocity\", \"chunked_current_trace\", \"binned_current_thorax_velocity\", \"chunked_lfp_index\",\t\"chunked_ephys_timestamp\", \"chunk_id\"])"
   ]
  },
  {
   "cell_type": "code",
   "execution_count": null,
   "metadata": {
    "scrolled": true
   },
   "outputs": [],
   "source": [
    "exploded_channel_map_and_all_trials_df"
   ]
  },
  {
   "cell_type": "code",
   "execution_count": null,
   "metadata": {},
   "outputs": [],
   "source": [
    "exploded_channel_map_and_all_trials_df[\"len_chunked_current_trace\"] = exploded_channel_map_and_all_trials_df[\"chunked_current_trace\"].apply(lambda x: len(x))\n"
   ]
  },
  {
   "cell_type": "code",
   "execution_count": null,
   "metadata": {},
   "outputs": [],
   "source": [
    "exploded_channel_map_and_all_trials_df[\"len_chunked_current_trace\"].unique()"
   ]
  },
  {
   "cell_type": "code",
   "execution_count": null,
   "metadata": {},
   "outputs": [],
   "source": [
    "exploded_channel_map_and_all_trials_df[\"chunked_current_trace\"] = exploded_channel_map_and_all_trials_df[\"chunked_current_trace\"].apply(lambda x: x[:RESAMPLE_RATE])"
   ]
  },
  {
   "cell_type": "code",
   "execution_count": null,
   "metadata": {
    "scrolled": true
   },
   "outputs": [],
   "source": [
    "exploded_channel_map_and_all_trials_df[\"chunked_current_trace\"]"
   ]
  },
  {
   "cell_type": "markdown",
   "metadata": {},
   "source": [
    "- Calcuating the power at each frequency band"
   ]
  },
  {
   "cell_type": "code",
   "execution_count": null,
   "metadata": {},
   "outputs": [],
   "source": [
    "exploded_channel_map_and_all_trials_df[\"multitaper\"] = exploded_channel_map_and_all_trials_df[\"chunked_current_trace\"].apply(lambda x: Multitaper(time_series=x,                                                                                        sampling_frequency=RESAMPLE_RATE))"
   ]
  },
  {
   "cell_type": "code",
   "execution_count": null,
   "metadata": {},
   "outputs": [],
   "source": [
    "exploded_channel_map_and_all_trials_df[\"connectivity\"] = exploded_channel_map_and_all_trials_df[\"multitaper\"].apply(lambda x: Connectivity.from_multitaper(x))"
   ]
  },
  {
   "cell_type": "code",
   "execution_count": null,
   "metadata": {},
   "outputs": [],
   "source": [
    "exploded_channel_map_and_all_trials_df[\"frequencies\"] = exploded_channel_map_and_all_trials_df[\"connectivity\"].apply(lambda x: x.frequencies)"
   ]
  },
  {
   "cell_type": "code",
   "execution_count": null,
   "metadata": {},
   "outputs": [],
   "source": [
    "exploded_channel_map_and_all_trials_df[\"power\"] = exploded_channel_map_and_all_trials_df[\"connectivity\"].apply(lambda x: x.power().squeeze())"
   ]
  },
  {
   "cell_type": "code",
   "execution_count": null,
   "metadata": {},
   "outputs": [],
   "source": [
    "exploded_channel_map_and_all_trials_df.head()"
   ]
  },
  {
   "cell_type": "code",
   "execution_count": null,
   "metadata": {
    "scrolled": true
   },
   "outputs": [],
   "source": [
    "exploded_channel_map_and_all_trials_df.tail()"
   ]
  },
  {
   "cell_type": "markdown",
   "metadata": {},
   "source": [
    "# Plotting by velocity"
   ]
  },
  {
   "cell_type": "markdown",
   "metadata": {},
   "source": [
    "- Grouping all the rows(1s segment of trials) that share the same brain region, whether its before or after the tone, and velocity grouping"
   ]
  },
  {
   "cell_type": "code",
   "execution_count": null,
   "metadata": {},
   "outputs": [],
   "source": [
    "grouped_all_trials_df = exploded_channel_map_and_all_trials_df.groupby(['brain_region', 'trial_or_baseline', 'binned_current_thorax_velocity']).agg({'power': lambda x: np.vstack(x.tolist())}).reset_index()"
   ]
  },
  {
   "cell_type": "markdown",
   "metadata": {},
   "source": [
    "- Calculating the mean and sem of the LFP power"
   ]
  },
  {
   "cell_type": "code",
   "execution_count": null,
   "metadata": {},
   "outputs": [],
   "source": [
    "grouped_all_trials_df[\"mean_power\"] = grouped_all_trials_df[\"power\"].apply(lambda x: np.nanmean(np.vstack(x), axis=0))"
   ]
  },
  {
   "cell_type": "code",
   "execution_count": null,
   "metadata": {},
   "outputs": [],
   "source": [
    "grouped_all_trials_df[\"std_power\"] = grouped_all_trials_df[\"power\"].apply(lambda x: np.nanstd(np.vstack(x), axis=0))"
   ]
  },
  {
   "cell_type": "code",
   "execution_count": null,
   "metadata": {},
   "outputs": [],
   "source": [
    "grouped_all_trials_df[\"n_trials\"] = grouped_all_trials_df[\"power\"].apply(lambda x: np.sum(~np.isnan(x), axis=0))"
   ]
  },
  {
   "cell_type": "code",
   "execution_count": null,
   "metadata": {},
   "outputs": [],
   "source": [
    "grouped_all_trials_df[\"sem_power\"] = grouped_all_trials_df.apply(lambda x: x[\"std_power\"] / np.sqrt(x[\"n_trials\"]), axis=1)"
   ]
  },
  {
   "cell_type": "code",
   "execution_count": null,
   "metadata": {
    "scrolled": true
   },
   "outputs": [],
   "source": [
    "low_freq = 0\n",
    "high_freq = 12\n",
    "for region in grouped_all_trials_df[\"brain_region\"].unique():\n",
    "    region_df = grouped_all_trials_df[grouped_all_trials_df[\"brain_region\"] == region]\n",
    "\n",
    "    fig, ax = plt.subplots()\n",
    "    plt.title(\"Z-Scored LFP Power in {}\".format(region.split(\"_\")[-1]))\n",
    "    plt.xlabel(\"Frequency\")\n",
    "    plt.ylabel(\"Power\")\n",
    "    plt.xlim(low_freq, high_freq)    \n",
    "    plt.yscale(\"log\")\n",
    "    plt.ylim(0.01, 0.1)\n",
    "\n",
    "    for index, row in region_df.iterrows():\n",
    "        try:\n",
    "            ax = sns.lineplot(x=exploded_channel_map_and_all_trials_df[\"frequencies\"].iloc[0], y=row[\"mean_power\"], \\\n",
    "            label=\"{} for {}\".format(BIN_TO_VELOCITY[row[\"binned_current_thorax_velocity\"]], \\\n",
    "            row[\"trial_or_baseline\"]), color=BIN_TO_COLOR[row[\"binned_current_thorax_velocity\"]][row[\"trial_or_baseline\"]],\n",
    "            linestyle=TRIAL_OR_BASELINE_TO_STYLE[row[\"trial_or_baseline\"]], linewidth=3)\n",
    "\n",
    "            plt.fill_between(exploded_channel_map_and_all_trials_df[\"frequencies\"].iloc[0], \\\n",
    "            row[\"mean_power\"] - row[\"sem_power\"], row[\"mean_power\"] + row[\"sem_power\"], alpha=0.2,\n",
    "            color=BIN_TO_COLOR[row[\"binned_current_thorax_velocity\"]][row[\"trial_or_baseline\"]])\n",
    "        except Exception as e: \n",
    "            print(e)\n",
    "            continue\n",
    "\n",
    "    plt.legend(loc=\"lower left\")\n",
    "    \n",
    "    plt.savefig(\"./proc/velocity_parsing/plot_region_line_velocity_baselinetrial/\\\n",
    "    rce_lfp_power_velocity_baselinetrial_freq_{}_to_{}_region_{}.png\".format(low_freq, high_freq, region.split(\"_\")[-1]))\n"
   ]
  },
  {
   "cell_type": "code",
   "execution_count": null,
   "metadata": {},
   "outputs": [],
   "source": [
    "low_freq = 12\n",
    "high_freq = 30\n",
    "for region in grouped_all_trials_df[\"brain_region\"].unique():\n",
    "    region_df = grouped_all_trials_df[grouped_all_trials_df[\"brain_region\"] == region]\n",
    "\n",
    "    fig, ax = plt.subplots()\n",
    "    plt.title(\"Z-Scored LFP Power in {}\".format(region.split(\"_\")[-1]))\n",
    "    plt.xlabel(\"Frequency\")\n",
    "    plt.ylabel(\"Power\")\n",
    "    plt.xlim(low_freq, high_freq)    \n",
    "    plt.yscale(\"log\")\n",
    "    plt.ylim(0.002, 0.015) \n",
    "\n",
    "    for index, row in region_df.iterrows():\n",
    "        try:\n",
    "            ax = sns.lineplot(x=exploded_channel_map_and_all_trials_df[\"frequencies\"].iloc[0], y=row[\"mean_power\"], \\\n",
    "            label=\"{} for {}\".format(BIN_TO_VELOCITY[row[\"binned_current_thorax_velocity\"]], \\\n",
    "            row[\"trial_or_baseline\"]), color=BIN_TO_COLOR[row[\"binned_current_thorax_velocity\"]][row[\"trial_or_baseline\"]],\n",
    "            linestyle=TRIAL_OR_BASELINE_TO_STYLE[row[\"trial_or_baseline\"]], linewidth=3)\n",
    "\n",
    "            plt.fill_between(exploded_channel_map_and_all_trials_df[\"frequencies\"].iloc[0], \\\n",
    "            row[\"mean_power\"] - row[\"sem_power\"], row[\"mean_power\"] + row[\"sem_power\"], alpha=0.2,\n",
    "            color=BIN_TO_COLOR[row[\"binned_current_thorax_velocity\"]][row[\"trial_or_baseline\"]])\n",
    "        except Exception as e: \n",
    "            print(e)\n",
    "            continue\n",
    "\n",
    "    plt.savefig(\"./proc/velocity_parsing/plot_region_line_velocity_baselinetrial/\\\n",
    "    rce_lfp_power_velocity_baselinetrial_freq_{}_to_{}_region_{}.png\".format(low_freq, high_freq, region.split(\"_\")[-1]))\n"
   ]
  },
  {
   "cell_type": "code",
   "execution_count": null,
   "metadata": {},
   "outputs": [],
   "source": [
    "low_freq = 30\n",
    "high_freq = 90\n",
    "for region in grouped_all_trials_df[\"brain_region\"].unique():\n",
    "    region_df = grouped_all_trials_df[grouped_all_trials_df[\"brain_region\"] == region]\n",
    "\n",
    "    fig, ax = plt.subplots()\n",
    "    plt.title(\"Z-Scored LFP Power in {}\".format(region.split(\"_\")[-1]))\n",
    "    plt.xlabel(\"Frequency\")\n",
    "    plt.ylabel(\"Power\")\n",
    "    plt.xlim(low_freq, high_freq)    \n",
    "    # plt.ylim(0, 0.005)\n",
    "    plt.yscale(\"log\")\n",
    "    plt.ylim(0.0003, 0.005) \n",
    "\n",
    "    for index, row in region_df.iterrows():\n",
    "        try:\n",
    "            ax = sns.lineplot(x=exploded_channel_map_and_all_trials_df[\"frequencies\"].iloc[0], y=row[\"mean_power\"], \\\n",
    "            label=\"{} for {}\".format(BIN_TO_VELOCITY[row[\"binned_current_thorax_velocity\"]], \\\n",
    "            row[\"trial_or_baseline\"]), color=BIN_TO_COLOR[row[\"binned_current_thorax_velocity\"]][row[\"trial_or_baseline\"]],\n",
    "            linestyle=TRIAL_OR_BASELINE_TO_STYLE[row[\"trial_or_baseline\"]], linewidth=3)\n",
    "\n",
    "            plt.fill_between(exploded_channel_map_and_all_trials_df[\"frequencies\"].iloc[0], \\\n",
    "            row[\"mean_power\"] - row[\"sem_power\"], row[\"mean_power\"] + row[\"sem_power\"], alpha=0.2,\n",
    "            color=BIN_TO_COLOR[row[\"binned_current_thorax_velocity\"]][row[\"trial_or_baseline\"]])\n",
    "        except Exception as e: \n",
    "            print(e)\n",
    "            continue\n",
    "    plt.legend()\n",
    "    plt.savefig(\"./proc/velocity_parsing/plot_region_line_velocity_baselinetrial/\\\n",
    "    rce_lfp_power_velocity_baselinetrial_freq_{}_to_{}_region_{}.png\".format(low_freq, high_freq, region.split(\"_\")[-1]))\n"
   ]
  },
  {
   "cell_type": "code",
   "execution_count": null,
   "metadata": {},
   "outputs": [],
   "source": []
  },
  {
   "cell_type": "code",
   "execution_count": null,
   "metadata": {},
   "outputs": [],
   "source": []
  },
  {
   "cell_type": "markdown",
   "metadata": {},
   "source": [
    "## Plotting all the lower velocities together"
   ]
  },
  {
   "cell_type": "code",
   "execution_count": null,
   "metadata": {},
   "outputs": [],
   "source": [
    "speed_filtered_all_trials_df = exploded_channel_map_and_all_trials_df[exploded_channel_map_and_all_trials_df[\"binned_current_thorax_velocity\"] == 0]"
   ]
  },
  {
   "cell_type": "code",
   "execution_count": null,
   "metadata": {},
   "outputs": [],
   "source": [
    "speed_filtered_all_trials_df.shape"
   ]
  },
  {
   "cell_type": "code",
   "execution_count": null,
   "metadata": {},
   "outputs": [],
   "source": [
    "grouped_all_trials_df = speed_filtered_all_trials_df.groupby(['brain_region', 'trial_outcome', 'trial_or_baseline']).agg({'power': lambda x: np.vstack(x.tolist())}).reset_index()"
   ]
  },
  {
   "cell_type": "code",
   "execution_count": null,
   "metadata": {},
   "outputs": [],
   "source": [
    "grouped_all_trials_df[\"mean_power\"] = grouped_all_trials_df[\"power\"].apply(lambda x: np.nanmean(np.vstack(x), axis=0))"
   ]
  },
  {
   "cell_type": "code",
   "execution_count": null,
   "metadata": {},
   "outputs": [],
   "source": [
    "grouped_all_trials_df[\"std_power\"] = grouped_all_trials_df[\"power\"].apply(lambda x: np.nanstd(np.vstack(x), axis=0))"
   ]
  },
  {
   "cell_type": "code",
   "execution_count": null,
   "metadata": {},
   "outputs": [],
   "source": [
    "grouped_all_trials_df[\"n_trials\"] = grouped_all_trials_df[\"power\"].apply(lambda x: np.sum(~np.isnan(x), axis=0))"
   ]
  },
  {
   "cell_type": "code",
   "execution_count": null,
   "metadata": {},
   "outputs": [],
   "source": [
    "grouped_all_trials_df[\"sem_power\"] = grouped_all_trials_df.apply(lambda x: x[\"std_power\"] / np.sqrt(x[\"n_trials\"]), axis=1)"
   ]
  },
  {
   "cell_type": "code",
   "execution_count": null,
   "metadata": {
    "scrolled": true
   },
   "outputs": [],
   "source": [
    "grouped_all_trials_df[\"trial_outcome\"].unique()"
   ]
  },
  {
   "cell_type": "markdown",
   "metadata": {},
   "source": [
    "# Drawing plots all together"
   ]
  },
  {
   "cell_type": "raw",
   "metadata": {},
   "source": [
    "brain_region_to_ylim = {'spike_interface_BLA': 0.15, 'spike_interface_LH': 0.3, 'spike_interface_MD': 0.3,\n",
    "       'spike_interface_mPFC': 0.2, 'spike_interface_vHPC': 0.3}"
   ]
  },
  {
   "cell_type": "code",
   "execution_count": null,
   "metadata": {},
   "outputs": [],
   "source": [
    "low_freq = 0\n",
    "high_freq = 12\n",
    "for region in grouped_all_trials_df[\"brain_region\"].unique():\n",
    "    region_df = grouped_all_trials_df[grouped_all_trials_df[\"brain_region\"] == region]\n",
    "    \n",
    "    fig, ax = plt.subplots()\n",
    "    plt.title(\"Z-Scored LFP Power in {} at 0 to 5cm/s\".format(region.split(\"_\")[-1]))\n",
    "    plt.xlabel(\"Frequency\")\n",
    "    plt.ylabel(\"Power\")\n",
    "    plt.xlim(low_freq, high_freq) \n",
    "    # plt.yscale(\"log\")\n",
    "    # plt.ylim(0.01, 0.06)\n",
    "\n",
    "    for trial_or_baseline, outcome in itertools.product(region_df[\"trial_or_baseline\"].unique(), sorted(region_df[\"trial_outcome\"].unique())[::-1]):\n",
    "        outcome_df = region_df[(region_df[\"trial_or_baseline\"] == trial_or_baseline) & (region_df[\"trial_outcome\"] == outcome)]\n",
    "        for index, row in outcome_df.iterrows():\n",
    "            try:\n",
    "                ax = sns.lineplot(x=exploded_channel_map_and_all_trials_df[\"frequencies\"].iloc[0], y=row[\"mean_power\"], \\\n",
    "                label=\"{} {}\".format(outcome, trial_or_baseline), color=BASELINE_OUTCOME_TO_COLOR[outcome], \\\n",
    "                linestyle=TRIAL_OR_BASELINE_TO_STYLE[trial_or_baseline], linewidth=3)\n",
    "                \n",
    "                plt.fill_between(exploded_channel_map_and_all_trials_df[\"frequencies\"].iloc[0], \n",
    "                row[\"mean_power\"] - row[\"sem_power\"], row[\"mean_power\"] + row[\"sem_power\"], \\\n",
    "                alpha=0.1, color=BASELINE_OUTCOME_TO_COLOR[outcome])\n",
    "            \n",
    "            except Exception as e: \n",
    "                print(e)\n",
    "                continue\n",
    "    plt.legend(loc=\"lower left\")\n",
    "    plt.savefig(\"./proc/velocity_parsing/plot_region_line_trialoutcome_baselinetrial/\\\n",
    "    rce_lower_velocity_lfp_power_trialoutcome_baselinetrial_freq_{}_to_{}_region_{}.png\".format(low_freq, high_freq, region.split(\"_\")[-1]))"
   ]
  },
  {
   "cell_type": "code",
   "execution_count": null,
   "metadata": {},
   "outputs": [],
   "source": [
    "low_freq = 12\n",
    "high_freq = 30\n",
    "for region in grouped_all_trials_df[\"brain_region\"].unique():\n",
    "    region_df = grouped_all_trials_df[grouped_all_trials_df[\"brain_region\"] == region]\n",
    "    \n",
    "    fig, ax = plt.subplots()\n",
    "    plt.title(\"Z-Scored LFP Power in {} at 0 to 5cm/s\".format(region.split(\"_\")[-1]))\n",
    "    plt.xlabel(\"Frequency\")\n",
    "    plt.ylabel(\"Power\")\n",
    "    plt.xlim(low_freq, high_freq)    \n",
    "    plt.yscale(\"log\")\n",
    "    plt.ylim(0.002, 0.015) \n",
    "    \n",
    "    for trial_or_baseline, outcome in itertools.product(region_df[\"trial_or_baseline\"].unique(), sorted(region_df[\"trial_outcome\"].unique())[::-1]):\n",
    "        outcome_df = region_df[(region_df[\"trial_or_baseline\"] == trial_or_baseline) & (region_df[\"trial_outcome\"] == outcome)]\n",
    "        for index, row in outcome_df.iterrows():\n",
    "            try:\n",
    "                ax = sns.lineplot(x=exploded_channel_map_and_all_trials_df[\"frequencies\"].iloc[0], y=row[\"mean_power\"], \\\n",
    "                label=\"{} {}\".format(outcome, trial_or_baseline), color=BASELINE_OUTCOME_TO_COLOR[outcome], \\\n",
    "                linestyle=TRIAL_OR_BASELINE_TO_STYLE[trial_or_baseline], linewidth=3)\n",
    "                \n",
    "                plt.fill_between(exploded_channel_map_and_all_trials_df[\"frequencies\"].iloc[0], \n",
    "                row[\"mean_power\"] - row[\"sem_power\"], row[\"mean_power\"] + row[\"sem_power\"], \\\n",
    "                alpha=0.1, color=BASELINE_OUTCOME_TO_COLOR[outcome])\n",
    "            \n",
    "            except Exception as e: \n",
    "                print(e)\n",
    "                continue\n",
    "    plt.legend(loc=\"upper right\")\n",
    "    plt.savefig(\"./proc/velocity_parsing/plot_region_line_trialoutcome_baselinetrial/\\\n",
    "    rce_lower_velocity_lfp_power_trialoutcome_baselinetrial_freq_{}_to_{}_region_{}.png\".format(low_freq, high_freq, region.split(\"_\")[-1]))"
   ]
  },
  {
   "cell_type": "code",
   "execution_count": null,
   "metadata": {},
   "outputs": [],
   "source": [
    "low_freq = 30\n",
    "high_freq = 90\n",
    "for region in grouped_all_trials_df[\"brain_region\"].unique():\n",
    "    region_df = grouped_all_trials_df[grouped_all_trials_df[\"brain_region\"] == region]\n",
    "    \n",
    "    fig, ax = plt.subplots()\n",
    "    plt.title(\"Z-Scored LFP Power in {} at 0 to 5cm/s\".format(region.split(\"_\")[-1]))\n",
    "    plt.xlabel(\"Frequency\")\n",
    "    plt.ylabel(\"Power\")\n",
    "    plt.xlim(low_freq, high_freq)    \n",
    "    plt.yscale(\"log\")\n",
    "    plt.ylim(0.0003, 0.005) \n",
    "    \n",
    "    for trial_or_baseline, outcome in itertools.product(region_df[\"trial_or_baseline\"].unique(), sorted(region_df[\"trial_outcome\"].unique())[::-1]):\n",
    "        outcome_df = region_df[(region_df[\"trial_or_baseline\"] == trial_or_baseline) & (region_df[\"trial_outcome\"] == outcome)]\n",
    "        for index, row in outcome_df.iterrows():\n",
    "            try:\n",
    "                ax = sns.lineplot(x=exploded_channel_map_and_all_trials_df[\"frequencies\"].iloc[0], y=row[\"mean_power\"], \\\n",
    "                label=\"{} {}\".format(outcome, trial_or_baseline), color=BASELINE_OUTCOME_TO_COLOR[outcome], \\\n",
    "                linestyle=TRIAL_OR_BASELINE_TO_STYLE[trial_or_baseline], linewidth=3)\n",
    "                \n",
    "                plt.fill_between(exploded_channel_map_and_all_trials_df[\"frequencies\"].iloc[0], \n",
    "                row[\"mean_power\"] - row[\"sem_power\"], row[\"mean_power\"] + row[\"sem_power\"], \\\n",
    "                alpha=0.2, color=BASELINE_OUTCOME_TO_COLOR[outcome])\n",
    "            \n",
    "            except Exception as e: \n",
    "                print(e)\n",
    "                continue\n",
    "    plt.legend(loc=\"upper right\")\n",
    "    plt.savefig(\"./proc/velocity_parsing/plot_region_line_trialoutcome_baselinetrial/\\\n",
    "    rce_lower_velocity_lfp_power_trialoutcome_baselinetrial_freq_{}_to_{}_region_{}.png\".format(low_freq, high_freq, region.split(\"_\")[-1]))"
   ]
  },
  {
   "cell_type": "code",
   "execution_count": null,
   "metadata": {},
   "outputs": [],
   "source": []
  },
  {
   "cell_type": "code",
   "execution_count": null,
   "metadata": {},
   "outputs": [],
   "source": []
  },
  {
   "cell_type": "markdown",
   "metadata": {},
   "source": [
    "## Plotting all the higher velocities together"
   ]
  },
  {
   "cell_type": "code",
   "execution_count": null,
   "metadata": {},
   "outputs": [],
   "source": [
    "speed_filtered_all_trials_df = exploded_channel_map_and_all_trials_df[exploded_channel_map_and_all_trials_df[\"binned_current_thorax_velocity\"] == 1]"
   ]
  },
  {
   "cell_type": "code",
   "execution_count": null,
   "metadata": {},
   "outputs": [],
   "source": [
    "exploded_channel_map_and_all_trials_df[\"theta_power\"] = exploded_channel_map_and_all_trials_df[\"power\"].apply(lambda x: x[4:13])"
   ]
  },
  {
   "cell_type": "code",
   "execution_count": null,
   "metadata": {},
   "outputs": [],
   "source": [
    "exploded_channel_map_and_all_trials_df[\"theta_power\"].iloc[0]"
   ]
  },
  {
   "cell_type": "code",
   "execution_count": null,
   "metadata": {},
   "outputs": [],
   "source": [
    "exploded_channel_map_and_all_trials_df[\"averaged_theta_power\"] = exploded_channel_map_and_all_trials_df[\"theta_power\"].apply(lambda x: np.mean(x))"
   ]
  },
  {
   "cell_type": "code",
   "execution_count": null,
   "metadata": {},
   "outputs": [],
   "source": [
    "exploded_channel_map_and_all_trials_df[\"averaged_theta_power\"]"
   ]
  },
  {
   "cell_type": "code",
   "execution_count": null,
   "metadata": {
    "scrolled": true
   },
   "outputs": [],
   "source": [
    "exploded_channel_map_and_all_trials_df.columns"
   ]
  },
  {
   "cell_type": "code",
   "execution_count": null,
   "metadata": {},
   "outputs": [],
   "source": [
    "exploded_channel_map_and_all_trials_df[\"all_thorax_velocity\"].iloc[0].shape"
   ]
  },
  {
   "cell_type": "code",
   "execution_count": null,
   "metadata": {},
   "outputs": [],
   "source": [
    "exploded_channel_map_and_all_trials_df.info()"
   ]
  },
  {
   "cell_type": "code",
   "execution_count": null,
   "metadata": {},
   "outputs": [],
   "source": [
    "exploded_channel_map_and_all_trials_df.drop(columns=[\"multitaper\", \"connectivity\", 'all_thorax_locations', 'all_thorax_velocity', 'all_ch_lfp']).to_pickle(\"./proc/rce_1_sec_interval_lfp_power_spectra_and_velocity.pkl\")"
   ]
  },
  {
   "cell_type": "code",
   "execution_count": null,
   "metadata": {},
   "outputs": [],
   "source": [
    "grouped_all_trials_df = speed_filtered_all_trials_df.groupby(['brain_region', 'trial_outcome', 'trial_or_baseline']).agg({'power': lambda x: np.vstack(x.tolist())}).reset_index()"
   ]
  },
  {
   "cell_type": "code",
   "execution_count": null,
   "metadata": {},
   "outputs": [],
   "source": [
    "grouped_all_trials_df[\"mean_power\"] = grouped_all_trials_df[\"power\"].apply(lambda x: np.nanmean(np.vstack(x), axis=0))"
   ]
  },
  {
   "cell_type": "code",
   "execution_count": null,
   "metadata": {},
   "outputs": [],
   "source": [
    "grouped_all_trials_df[\"std_power\"] = grouped_all_trials_df[\"power\"].apply(lambda x: np.nanstd(np.vstack(x), axis=0))"
   ]
  },
  {
   "cell_type": "code",
   "execution_count": null,
   "metadata": {},
   "outputs": [],
   "source": [
    "grouped_all_trials_df[\"n_trials\"] = grouped_all_trials_df[\"power\"].apply(lambda x: np.sum(~np.isnan(x), axis=0))"
   ]
  },
  {
   "cell_type": "code",
   "execution_count": null,
   "metadata": {},
   "outputs": [],
   "source": [
    "grouped_all_trials_df[\"sem_power\"] = grouped_all_trials_df.apply(lambda x: x[\"std_power\"] / np.sqrt(x[\"n_trials\"]), axis=1)"
   ]
  },
  {
   "cell_type": "code",
   "execution_count": null,
   "metadata": {},
   "outputs": [],
   "source": [
    "exploded_channel_map_and_all_trials_df[\"frequencies\"].iloc[0][4:13]"
   ]
  },
  {
   "cell_type": "code",
   "execution_count": null,
   "metadata": {},
   "outputs": [],
   "source": [
    "grouped_all_trials_df[\"power\"].iloc[0].shape"
   ]
  },
  {
   "cell_type": "code",
   "execution_count": null,
   "metadata": {},
   "outputs": [],
   "source": [
    "grouped_all_trials_df[\"power\"].iloc"
   ]
  },
  {
   "cell_type": "markdown",
   "metadata": {},
   "source": [
    "# Drawing plots all together"
   ]
  },
  {
   "cell_type": "raw",
   "metadata": {},
   "source": [
    "brain_region_to_ylim = {'spike_interface_BLA': 0.15, 'spike_interface_LH': 0.3, 'spike_interface_MD': 0.3,\n",
    "       'spike_interface_mPFC': 0.2, 'spike_interface_vHPC': 0.3}"
   ]
  },
  {
   "cell_type": "code",
   "execution_count": null,
   "metadata": {
    "scrolled": true
   },
   "outputs": [],
   "source": [
    "low_freq = 0\n",
    "high_freq = 12\n",
    "for region in grouped_all_trials_df[\"brain_region\"].unique():\n",
    "    region_df = grouped_all_trials_df[grouped_all_trials_df[\"brain_region\"] == region]\n",
    "    \n",
    "    fig, ax = plt.subplots()\n",
    "    plt.title(\"Z-Scored LFP Power in {} at 5cm/s to 10cm/s\".format(region.split(\"_\")[-1]))\n",
    "    plt.xlabel(\"Frequency\")\n",
    "    plt.ylabel(\"Power\")\n",
    "    plt.xlim(low_freq, high_freq)   \n",
    "    plt.yscale(\"log\")\n",
    "    plt.ylim(0.01, 0.1)\n",
    "\n",
    "    for trial_or_baseline, outcome in itertools.product(region_df[\"trial_or_baseline\"].unique(), sorted(region_df[\"trial_outcome\"].unique())[::-1]):\n",
    "        outcome_df = region_df[(region_df[\"trial_or_baseline\"] == trial_or_baseline) & (region_df[\"trial_outcome\"] == outcome)]\n",
    "        for index, row in outcome_df.iterrows():\n",
    "            try:\n",
    "                ax = sns.lineplot(x=exploded_channel_map_and_all_trials_df[\"frequencies\"].iloc[0], y=row[\"mean_power\"], \\\n",
    "                label=\"{} {}\".format(outcome, trial_or_baseline), color=BASELINE_OUTCOME_TO_COLOR[outcome], \\\n",
    "                linestyle=TRIAL_OR_BASELINE_TO_STYLE[trial_or_baseline], linewidth=3)\n",
    "                \n",
    "                plt.fill_between(exploded_channel_map_and_all_trials_df[\"frequencies\"].iloc[0], \n",
    "                row[\"mean_power\"] - row[\"sem_power\"], row[\"mean_power\"] + row[\"sem_power\"], \\\n",
    "                alpha=0.2, color=BASELINE_OUTCOME_TO_COLOR[outcome])\n",
    "            \n",
    "            except Exception as e: \n",
    "                print(e)\n",
    "                continue\n",
    "    plt.legend()\n",
    "    plt.savefig(\"./proc/velocity_parsing/plot_region_line_trialoutcome_baselinetrial/\\\n",
    "    rce_higher_velocity_lfp_power_trialoutcome_baselinetrial_freq_{}_to_{}_region_{}.png\".format(low_freq, high_freq, region.split(\"_\")[-1]))"
   ]
  },
  {
   "cell_type": "code",
   "execution_count": null,
   "metadata": {},
   "outputs": [],
   "source": [
    "low_freq = 12\n",
    "high_freq = 30\n",
    "for region in grouped_all_trials_df[\"brain_region\"].unique():\n",
    "    region_df = grouped_all_trials_df[grouped_all_trials_df[\"brain_region\"] == region]\n",
    "    \n",
    "    fig, ax = plt.subplots()\n",
    "    plt.title(\"Z-Scored LFP Power in {} at 5cm/s to 10cm/s\".format(region.split(\"_\")[-1]))\n",
    "    plt.xlabel(\"Frequency\")\n",
    "    plt.ylabel(\"Power\")\n",
    "    plt.xlim(low_freq, high_freq)    \n",
    "    plt.yscale(\"log\")\n",
    "    plt.ylim(0.002, 0.015) \n",
    "    \n",
    "    for trial_or_baseline, outcome in itertools.product(region_df[\"trial_or_baseline\"].unique(), sorted(region_df[\"trial_outcome\"].unique())[::-1]):\n",
    "        outcome_df = region_df[(region_df[\"trial_or_baseline\"] == trial_or_baseline) & (region_df[\"trial_outcome\"] == outcome)]\n",
    "        for index, row in outcome_df.iterrows():\n",
    "            try:\n",
    "                ax = sns.lineplot(x=exploded_channel_map_and_all_trials_df[\"frequencies\"].iloc[0], y=row[\"mean_power\"], \\\n",
    "                label=\"{} {}\".format(outcome, trial_or_baseline), color=BASELINE_OUTCOME_TO_COLOR[outcome], \\\n",
    "                linestyle=TRIAL_OR_BASELINE_TO_STYLE[trial_or_baseline], linewidth=3)\n",
    "                \n",
    "                plt.fill_between(exploded_channel_map_and_all_trials_df[\"frequencies\"].iloc[0], \n",
    "                row[\"mean_power\"] - row[\"sem_power\"], row[\"mean_power\"] + row[\"sem_power\"], \\\n",
    "                alpha=0.2, color=BASELINE_OUTCOME_TO_COLOR[outcome])\n",
    "            \n",
    "            except Exception as e: \n",
    "                print(e)\n",
    "                continue\n",
    "    plt.legend()\n",
    "    plt.savefig(\"./proc/velocity_parsing/plot_region_line_trialoutcome_baselinetrial/\\\n",
    "    rce_higher_velocity_lfp_power_trialoutcome_baselinetrial_freq_{}_to_{}_region_{}.png\".format(low_freq, high_freq, region.split(\"_\")[-1]))"
   ]
  },
  {
   "cell_type": "code",
   "execution_count": null,
   "metadata": {
    "scrolled": true
   },
   "outputs": [],
   "source": [
    "low_freq = 30\n",
    "high_freq = 90\n",
    "for region in grouped_all_trials_df[\"brain_region\"].unique():\n",
    "    region_df = grouped_all_trials_df[grouped_all_trials_df[\"brain_region\"] == region]\n",
    "    \n",
    "    fig, ax = plt.subplots()\n",
    "    plt.title(\"Z-Scored LFP Power in {} at 5cm/s to 10cm/s\".format(region.split(\"_\")[-1]))\n",
    "    plt.xlabel(\"Frequency\")\n",
    "    plt.ylabel(\"Power\")\n",
    "    plt.xlim(low_freq, high_freq)    \n",
    "    plt.yscale(\"log\")\n",
    "    plt.ylim(0.0003, 0.008) \n",
    "    \n",
    "    for trial_or_baseline, outcome in itertools.product(region_df[\"trial_or_baseline\"].unique(), sorted(region_df[\"trial_outcome\"].unique())[::-1]):\n",
    "        outcome_df = region_df[(region_df[\"trial_or_baseline\"] == trial_or_baseline) & (region_df[\"trial_outcome\"] == outcome)]\n",
    "        for index, row in outcome_df.iterrows():\n",
    "            try:\n",
    "                ax = sns.lineplot(x=exploded_channel_map_and_all_trials_df[\"frequencies\"].iloc[0], y=row[\"mean_power\"], \\\n",
    "                label=\"{} {}\".format(outcome, trial_or_baseline), color=BASELINE_OUTCOME_TO_COLOR[outcome], \\\n",
    "                linestyle=TRIAL_OR_BASELINE_TO_STYLE[trial_or_baseline], linewidth=3)\n",
    "                \n",
    "                plt.fill_between(exploded_channel_map_and_all_trials_df[\"frequencies\"].iloc[0], \n",
    "                row[\"mean_power\"] - row[\"sem_power\"], row[\"mean_power\"] + row[\"sem_power\"], \\\n",
    "                alpha=0.2, color=BASELINE_OUTCOME_TO_COLOR[outcome])\n",
    "            \n",
    "            except Exception as e: \n",
    "                print(e)\n",
    "                continue\n",
    "    plt.legend()\n",
    "    plt.savefig(\"./proc/velocity_parsing/plot_region_line_trialoutcome_baselinetrial/\\\n",
    "    rce_higher_velocity_lfp_power_trialoutcome_baselinetrial_freq_{}_to_{}_region_{}.png\".format(low_freq, high_freq, region.split(\"_\")[-1]))"
   ]
  },
  {
   "cell_type": "code",
   "execution_count": null,
   "metadata": {},
   "outputs": [],
   "source": []
  },
  {
   "cell_type": "code",
   "execution_count": null,
   "metadata": {},
   "outputs": [],
   "source": []
  },
  {
   "cell_type": "code",
   "execution_count": null,
   "metadata": {},
   "outputs": [],
   "source": []
  },
  {
   "cell_type": "code",
   "execution_count": null,
   "metadata": {},
   "outputs": [],
   "source": []
  },
  {
   "cell_type": "code",
   "execution_count": null,
   "metadata": {},
   "outputs": [],
   "source": []
  },
  {
   "cell_type": "code",
   "execution_count": null,
   "metadata": {},
   "outputs": [],
   "source": []
  },
  {
   "cell_type": "code",
   "execution_count": null,
   "metadata": {},
   "outputs": [],
   "source": []
  },
  {
   "cell_type": "markdown",
   "metadata": {},
   "source": [
    "# OLD CODE BELOW"
   ]
  },
  {
   "cell_type": "code",
   "execution_count": 31,
   "metadata": {},
   "outputs": [
    {
     "ename": "ValueError",
     "evalue": "",
     "output_type": "error",
     "traceback": [
      "\u001b[0;31m---------------------------------------------------------------------------\u001b[0m",
      "\u001b[0;31mValueError\u001b[0m                                Traceback (most recent call last)",
      "Cell \u001b[0;32mIn[31], line 1\u001b[0m\n\u001b[0;32m----> 1\u001b[0m \u001b[38;5;28;01mraise\u001b[39;00m \u001b[38;5;167;01mValueError\u001b[39;00m()\n",
      "\u001b[0;31mValueError\u001b[0m: "
     ]
    }
   ],
   "source": [
    "raise ValueError()"
   ]
  },
  {
   "cell_type": "code",
   "execution_count": 30,
   "metadata": {},
   "outputs": [
    {
     "data": {
      "text/plain": [
       "Index(['time', 'recording_dir', 'recording_file', 'time_stamp_index',\n",
       "       'video_file', 'video_frame', 'video_number', 'subject_info',\n",
       "       'competition_closeness', 'video_name', 'all_subjects',\n",
       "       'current_subject', 'trial_outcome', 'lfp_index',\n",
       "       'baseline_lfp_timestamp_range', 'trial_lfp_timestamp_range',\n",
       "       'baseline_ephys_timestamp_range', 'trial_ephys_timestamp_range',\n",
       "       'baseline_videoframe_range', 'trial_videoframe_range', 'trial_number',\n",
       "       'Cohort', 'spike_interface_mPFC', 'spike_interface_vHPC',\n",
       "       'spike_interface_BLA', 'spike_interface_LH', 'spike_interface_MD',\n",
       "       'mPFC_baseline_lfp_trace', 'mPFC_trial_lfp_trace',\n",
       "       'vHPC_baseline_lfp_trace', 'vHPC_trial_lfp_trace',\n",
       "       'BLA_baseline_lfp_trace', 'BLA_trial_lfp_trace',\n",
       "       'LH_baseline_lfp_trace', 'LH_trial_lfp_trace', 'MD_baseline_lfp_trace',\n",
       "       'MD_trial_lfp_trace'],\n",
       "      dtype='object')"
      ]
     },
     "execution_count": 30,
     "metadata": {},
     "output_type": "execute_result"
    }
   ],
   "source": [
    "channel_map_and_all_trials_df.columns"
   ]
  },
  {
   "cell_type": "code",
   "execution_count": null,
   "metadata": {},
   "outputs": [],
   "source": []
  },
  {
   "cell_type": "code",
   "execution_count": 29,
   "metadata": {},
   "outputs": [
    {
     "data": {
      "text/html": [
       "<div>\n",
       "<style scoped>\n",
       "    .dataframe tbody tr th:only-of-type {\n",
       "        vertical-align: middle;\n",
       "    }\n",
       "\n",
       "    .dataframe tbody tr th {\n",
       "        vertical-align: top;\n",
       "    }\n",
       "\n",
       "    .dataframe thead th {\n",
       "        text-align: right;\n",
       "    }\n",
       "</style>\n",
       "<table border=\"1\" class=\"dataframe\">\n",
       "  <thead>\n",
       "    <tr style=\"text-align: right;\">\n",
       "      <th></th>\n",
       "      <th>time</th>\n",
       "      <th>recording_dir</th>\n",
       "      <th>recording_file</th>\n",
       "      <th>time_stamp_index</th>\n",
       "      <th>video_file</th>\n",
       "      <th>video_frame</th>\n",
       "      <th>video_number</th>\n",
       "      <th>subject_info</th>\n",
       "      <th>competition_closeness</th>\n",
       "      <th>video_name</th>\n",
       "      <th>...</th>\n",
       "      <th>baseline_thorax_velocity</th>\n",
       "      <th>trial_thorax_velocity</th>\n",
       "      <th>trial_chunked_thorax_velocity</th>\n",
       "      <th>baseline_chunked_thorax_velocity</th>\n",
       "      <th>trial_chunked_ephys_timestamp</th>\n",
       "      <th>baseline_chunked_ephys_timestamp</th>\n",
       "      <th>trial_chunked_lfp_index</th>\n",
       "      <th>baseline_chunked_lfp_index</th>\n",
       "      <th>binned_baseline_thorax_velocity</th>\n",
       "      <th>binned_trial_thorax_velocity</th>\n",
       "    </tr>\n",
       "  </thead>\n",
       "  <tbody>\n",
       "    <tr>\n",
       "      <th>0</th>\n",
       "      <td>30950500</td>\n",
       "      <td>20221214_125409_om_and_comp_6_1_and_6_3</td>\n",
       "      <td>20221214_125409_om_and_comp_6_1_top_1_base_2_v...</td>\n",
       "      <td>27998597</td>\n",
       "      <td>20221214_125409_om_and_comp_6_1_and_6_3.1.vide...</td>\n",
       "      <td>28574</td>\n",
       "      <td>1.0</td>\n",
       "      <td>6_1_top_1_base_2_vs_6_3</td>\n",
       "      <td>win_non_comp</td>\n",
       "      <td>20221214_125409_om_and_comp_6_1_and_6_3.1</td>\n",
       "      <td>...</td>\n",
       "      <td>[1.2476140081638165, 1.1366289071218907, 1.068...</td>\n",
       "      <td>[0.18170472850681613, 0.16961378983662276, 0.2...</td>\n",
       "      <td>[0.49872187702582166, 1.0783705041183183, 1.43...</td>\n",
       "      <td>[1.6838472335457935, 1.3726890573782602, 1.887...</td>\n",
       "      <td>[(27998597, 28018597), (28018597, 28038597), (...</td>\n",
       "      <td>[(27798597, 27818597), (27818597, 27838597), (...</td>\n",
       "      <td>[(1399929, 1400929), (1400929, 1401929), (1401...</td>\n",
       "      <td>[(1389929, 1390929), (1390929, 1391929), (1391...</td>\n",
       "      <td>[0, 0, 0, 0, 1, 1, 1, 0, 0, 0]</td>\n",
       "      <td>[0, 0, 0, 0, 0, 0, 0, 0, 0, 0]</td>\n",
       "    </tr>\n",
       "    <tr>\n",
       "      <th>1</th>\n",
       "      <td>32550496</td>\n",
       "      <td>20221214_125409_om_and_comp_6_1_and_6_3</td>\n",
       "      <td>20221214_125409_om_and_comp_6_1_top_1_base_2_v...</td>\n",
       "      <td>29598593</td>\n",
       "      <td>20221214_125409_om_and_comp_6_1_and_6_3.1.vide...</td>\n",
       "      <td>30569</td>\n",
       "      <td>1.0</td>\n",
       "      <td>6_1_top_1_base_2_vs_6_3</td>\n",
       "      <td>win_non_comp</td>\n",
       "      <td>20221214_125409_om_and_comp_6_1_and_6_3.1</td>\n",
       "      <td>...</td>\n",
       "      <td>[2.7236727895073223, 2.628037603947678, 2.5298...</td>\n",
       "      <td>[0.38577700470932025, 0.16352840888997497, 0.0...</td>\n",
       "      <td>[0.3129891797005337, 0.210547774617734, 0.2517...</td>\n",
       "      <td>[1.458421075097482, 0.23609874826191488, 0.073...</td>\n",
       "      <td>[(29598593, 29618593), (29618593, 29638593), (...</td>\n",
       "      <td>[(29398593, 29418593), (29418593, 29438593), (...</td>\n",
       "      <td>[(1479929, 1480929), (1480929, 1481929), (1481...</td>\n",
       "      <td>[(1469929, 1470929), (1470929, 1471929), (1471...</td>\n",
       "      <td>[0, 0, 0, 0, 0, 1, 1, 1, 0, 0]</td>\n",
       "      <td>[0, 0, 0, 0, 0, 0, 0, 0, 0, 0]</td>\n",
       "    </tr>\n",
       "    <tr>\n",
       "      <th>2</th>\n",
       "      <td>34350494</td>\n",
       "      <td>20221214_125409_om_and_comp_6_1_and_6_3</td>\n",
       "      <td>20221214_125409_om_and_comp_6_1_top_1_base_2_v...</td>\n",
       "      <td>31398591</td>\n",
       "      <td>20221214_125409_om_and_comp_6_1_and_6_3.1.vide...</td>\n",
       "      <td>32813</td>\n",
       "      <td>1.0</td>\n",
       "      <td>6_1_top_1_base_2_vs_6_3</td>\n",
       "      <td>win_non_comp</td>\n",
       "      <td>20221214_125409_om_and_comp_6_1_and_6_3.1</td>\n",
       "      <td>...</td>\n",
       "      <td>[5.210405290871598, 5.31421978904958, 5.379251...</td>\n",
       "      <td>[0.16560567036540477, 0.1278165569746918, 0.09...</td>\n",
       "      <td>[0.19868857983610794, 0.48118846206642074, 0.4...</td>\n",
       "      <td>[3.439626522203859, 1.1535882532998658, 0.0565...</td>\n",
       "      <td>[(31398591, 31418591), (31418591, 31438591), (...</td>\n",
       "      <td>[(31198591, 31218591), (31218591, 31238591), (...</td>\n",
       "      <td>[(1569929, 1570929), (1570929, 1571929), (1571...</td>\n",
       "      <td>[(1559929, 1560929), (1560929, 1561929), (1561...</td>\n",
       "      <td>[0, 0, 0, 0, 0, 0, 0, 0, 0, 0]</td>\n",
       "      <td>[0, 0, 0, 0, 0, 0, 0, 0, 0, 0]</td>\n",
       "    </tr>\n",
       "    <tr>\n",
       "      <th>3</th>\n",
       "      <td>35950496</td>\n",
       "      <td>20221214_125409_om_and_comp_6_1_and_6_3</td>\n",
       "      <td>20221214_125409_om_and_comp_6_1_top_1_base_2_v...</td>\n",
       "      <td>32998593</td>\n",
       "      <td>20221214_125409_om_and_comp_6_1_and_6_3.1.vide...</td>\n",
       "      <td>34807</td>\n",
       "      <td>1.0</td>\n",
       "      <td>6_1_top_1_base_2_vs_6_3</td>\n",
       "      <td>win_non_comp</td>\n",
       "      <td>20221214_125409_om_and_comp_6_1_and_6_3.1</td>\n",
       "      <td>...</td>\n",
       "      <td>[1.6555785442563817, 1.6866235492876445, 1.664...</td>\n",
       "      <td>[0.6307901161394641, 0.6655381193431421, 0.701...</td>\n",
       "      <td>[0.4673908122355257, 0.38359419544996237, 0.69...</td>\n",
       "      <td>[0.900289992310536, 0.2807581521168483, 0.1320...</td>\n",
       "      <td>[(32998593, 33018593), (33018593, 33038593), (...</td>\n",
       "      <td>[(32798593, 32818593), (32818593, 32838593), (...</td>\n",
       "      <td>[(1649929, 1650929), (1650929, 1651929), (1651...</td>\n",
       "      <td>[(1639929, 1640929), (1640929, 1641929), (1641...</td>\n",
       "      <td>[0, 0, 0, 0, 0, 0, 0, 0, 0, 0]</td>\n",
       "      <td>[0, 0, 0, 0, 0, 0, 0, 0, 0, 0]</td>\n",
       "    </tr>\n",
       "    <tr>\n",
       "      <th>4</th>\n",
       "      <td>37450494</td>\n",
       "      <td>20221214_125409_om_and_comp_6_1_and_6_3</td>\n",
       "      <td>20221214_125409_om_and_comp_6_1_top_1_base_2_v...</td>\n",
       "      <td>34498591</td>\n",
       "      <td>20221214_125409_om_and_comp_6_1_and_6_3.1.vide...</td>\n",
       "      <td>36677</td>\n",
       "      <td>1.0</td>\n",
       "      <td>6_1_top_1_base_2_vs_6_3</td>\n",
       "      <td>win_non_comp</td>\n",
       "      <td>20221214_125409_om_and_comp_6_1_and_6_3.1</td>\n",
       "      <td>...</td>\n",
       "      <td>[0.9562352171082348, 0.8615465705681848, 0.756...</td>\n",
       "      <td>[0.15955796441347841, 0.18843088608181321, 0.2...</td>\n",
       "      <td>[0.23449342689004346, 0.25460671878631813, 0.2...</td>\n",
       "      <td>[0.3903027043299651, 0.8705322845545354, 0.756...</td>\n",
       "      <td>[(34498591, 34518591), (34518591, 34538591), (...</td>\n",
       "      <td>[(34298591, 34318591), (34318591, 34338591), (...</td>\n",
       "      <td>[(1724929, 1725929), (1725929, 1726929), (1726...</td>\n",
       "      <td>[(1714929, 1715929), (1715929, 1716929), (1716...</td>\n",
       "      <td>[0, 0, 0, 0, 0, 0, 0, 0, 0, 0]</td>\n",
       "      <td>[0, 0, 0, 0, 0, 0, 0, 0, 0, 0]</td>\n",
       "    </tr>\n",
       "  </tbody>\n",
       "</table>\n",
       "<p>5 rows × 61 columns</p>\n",
       "</div>"
      ],
      "text/plain": [
       "       time                            recording_dir  \\\n",
       "0  30950500  20221214_125409_om_and_comp_6_1_and_6_3   \n",
       "1  32550496  20221214_125409_om_and_comp_6_1_and_6_3   \n",
       "2  34350494  20221214_125409_om_and_comp_6_1_and_6_3   \n",
       "3  35950496  20221214_125409_om_and_comp_6_1_and_6_3   \n",
       "4  37450494  20221214_125409_om_and_comp_6_1_and_6_3   \n",
       "\n",
       "                                      recording_file  time_stamp_index  \\\n",
       "0  20221214_125409_om_and_comp_6_1_top_1_base_2_v...          27998597   \n",
       "1  20221214_125409_om_and_comp_6_1_top_1_base_2_v...          29598593   \n",
       "2  20221214_125409_om_and_comp_6_1_top_1_base_2_v...          31398591   \n",
       "3  20221214_125409_om_and_comp_6_1_top_1_base_2_v...          32998593   \n",
       "4  20221214_125409_om_and_comp_6_1_top_1_base_2_v...          34498591   \n",
       "\n",
       "                                          video_file  video_frame  \\\n",
       "0  20221214_125409_om_and_comp_6_1_and_6_3.1.vide...        28574   \n",
       "1  20221214_125409_om_and_comp_6_1_and_6_3.1.vide...        30569   \n",
       "2  20221214_125409_om_and_comp_6_1_and_6_3.1.vide...        32813   \n",
       "3  20221214_125409_om_and_comp_6_1_and_6_3.1.vide...        34807   \n",
       "4  20221214_125409_om_and_comp_6_1_and_6_3.1.vide...        36677   \n",
       "\n",
       "   video_number             subject_info competition_closeness  \\\n",
       "0           1.0  6_1_top_1_base_2_vs_6_3          win_non_comp   \n",
       "1           1.0  6_1_top_1_base_2_vs_6_3          win_non_comp   \n",
       "2           1.0  6_1_top_1_base_2_vs_6_3          win_non_comp   \n",
       "3           1.0  6_1_top_1_base_2_vs_6_3          win_non_comp   \n",
       "4           1.0  6_1_top_1_base_2_vs_6_3          win_non_comp   \n",
       "\n",
       "                                  video_name  ...  \\\n",
       "0  20221214_125409_om_and_comp_6_1_and_6_3.1  ...   \n",
       "1  20221214_125409_om_and_comp_6_1_and_6_3.1  ...   \n",
       "2  20221214_125409_om_and_comp_6_1_and_6_3.1  ...   \n",
       "3  20221214_125409_om_and_comp_6_1_and_6_3.1  ...   \n",
       "4  20221214_125409_om_and_comp_6_1_and_6_3.1  ...   \n",
       "\n",
       "                            baseline_thorax_velocity  \\\n",
       "0  [1.2476140081638165, 1.1366289071218907, 1.068...   \n",
       "1  [2.7236727895073223, 2.628037603947678, 2.5298...   \n",
       "2  [5.210405290871598, 5.31421978904958, 5.379251...   \n",
       "3  [1.6555785442563817, 1.6866235492876445, 1.664...   \n",
       "4  [0.9562352171082348, 0.8615465705681848, 0.756...   \n",
       "\n",
       "                               trial_thorax_velocity  \\\n",
       "0  [0.18170472850681613, 0.16961378983662276, 0.2...   \n",
       "1  [0.38577700470932025, 0.16352840888997497, 0.0...   \n",
       "2  [0.16560567036540477, 0.1278165569746918, 0.09...   \n",
       "3  [0.6307901161394641, 0.6655381193431421, 0.701...   \n",
       "4  [0.15955796441347841, 0.18843088608181321, 0.2...   \n",
       "\n",
       "                       trial_chunked_thorax_velocity  \\\n",
       "0  [0.49872187702582166, 1.0783705041183183, 1.43...   \n",
       "1  [0.3129891797005337, 0.210547774617734, 0.2517...   \n",
       "2  [0.19868857983610794, 0.48118846206642074, 0.4...   \n",
       "3  [0.4673908122355257, 0.38359419544996237, 0.69...   \n",
       "4  [0.23449342689004346, 0.25460671878631813, 0.2...   \n",
       "\n",
       "                    baseline_chunked_thorax_velocity  \\\n",
       "0  [1.6838472335457935, 1.3726890573782602, 1.887...   \n",
       "1  [1.458421075097482, 0.23609874826191488, 0.073...   \n",
       "2  [3.439626522203859, 1.1535882532998658, 0.0565...   \n",
       "3  [0.900289992310536, 0.2807581521168483, 0.1320...   \n",
       "4  [0.3903027043299651, 0.8705322845545354, 0.756...   \n",
       "\n",
       "                       trial_chunked_ephys_timestamp  \\\n",
       "0  [(27998597, 28018597), (28018597, 28038597), (...   \n",
       "1  [(29598593, 29618593), (29618593, 29638593), (...   \n",
       "2  [(31398591, 31418591), (31418591, 31438591), (...   \n",
       "3  [(32998593, 33018593), (33018593, 33038593), (...   \n",
       "4  [(34498591, 34518591), (34518591, 34538591), (...   \n",
       "\n",
       "                    baseline_chunked_ephys_timestamp  \\\n",
       "0  [(27798597, 27818597), (27818597, 27838597), (...   \n",
       "1  [(29398593, 29418593), (29418593, 29438593), (...   \n",
       "2  [(31198591, 31218591), (31218591, 31238591), (...   \n",
       "3  [(32798593, 32818593), (32818593, 32838593), (...   \n",
       "4  [(34298591, 34318591), (34318591, 34338591), (...   \n",
       "\n",
       "                             trial_chunked_lfp_index  \\\n",
       "0  [(1399929, 1400929), (1400929, 1401929), (1401...   \n",
       "1  [(1479929, 1480929), (1480929, 1481929), (1481...   \n",
       "2  [(1569929, 1570929), (1570929, 1571929), (1571...   \n",
       "3  [(1649929, 1650929), (1650929, 1651929), (1651...   \n",
       "4  [(1724929, 1725929), (1725929, 1726929), (1726...   \n",
       "\n",
       "                          baseline_chunked_lfp_index  \\\n",
       "0  [(1389929, 1390929), (1390929, 1391929), (1391...   \n",
       "1  [(1469929, 1470929), (1470929, 1471929), (1471...   \n",
       "2  [(1559929, 1560929), (1560929, 1561929), (1561...   \n",
       "3  [(1639929, 1640929), (1640929, 1641929), (1641...   \n",
       "4  [(1714929, 1715929), (1715929, 1716929), (1716...   \n",
       "\n",
       "  binned_baseline_thorax_velocity    binned_trial_thorax_velocity  \n",
       "0  [0, 0, 0, 0, 1, 1, 1, 0, 0, 0]  [0, 0, 0, 0, 0, 0, 0, 0, 0, 0]  \n",
       "1  [0, 0, 0, 0, 0, 1, 1, 1, 0, 0]  [0, 0, 0, 0, 0, 0, 0, 0, 0, 0]  \n",
       "2  [0, 0, 0, 0, 0, 0, 0, 0, 0, 0]  [0, 0, 0, 0, 0, 0, 0, 0, 0, 0]  \n",
       "3  [0, 0, 0, 0, 0, 0, 0, 0, 0, 0]  [0, 0, 0, 0, 0, 0, 0, 0, 0, 0]  \n",
       "4  [0, 0, 0, 0, 0, 0, 0, 0, 0, 0]  [0, 0, 0, 0, 0, 0, 0, 0, 0, 0]  \n",
       "\n",
       "[5 rows x 61 columns]"
      ]
     },
     "execution_count": 29,
     "metadata": {},
     "output_type": "execute_result"
    }
   ],
   "source": [
    "merged_trials_and_video.head()"
   ]
  },
  {
   "cell_type": "code",
   "execution_count": null,
   "metadata": {},
   "outputs": [],
   "source": [
    "pd.merge(left=channel_map_and_all_trials_df, right=merged_trials_and_video, left_on=)"
   ]
  },
  {
   "cell_type": "code",
   "execution_count": 11,
   "metadata": {},
   "outputs": [],
   "source": [
    "trace_columns = [col for col in channel_map_and_all_trials_df.columns if \"trace\" in col]"
   ]
  },
  {
   "cell_type": "code",
   "execution_count": 12,
   "metadata": {},
   "outputs": [],
   "source": [
    "id_cols = [col for col in channel_map_and_all_trials_df.columns if col not in trace_columns]"
   ]
  },
  {
   "cell_type": "code",
   "execution_count": 13,
   "metadata": {},
   "outputs": [
    {
     "data": {
      "text/plain": [
       "['mPFC_baseline_lfp_trace',\n",
       " 'mPFC_trial_lfp_trace',\n",
       " 'vHPC_baseline_lfp_trace',\n",
       " 'vHPC_trial_lfp_trace',\n",
       " 'BLA_baseline_lfp_trace',\n",
       " 'BLA_trial_lfp_trace',\n",
       " 'LH_baseline_lfp_trace',\n",
       " 'LH_trial_lfp_trace',\n",
       " 'MD_baseline_lfp_trace',\n",
       " 'MD_trial_lfp_trace']"
      ]
     },
     "execution_count": 13,
     "metadata": {},
     "output_type": "execute_result"
    }
   ],
   "source": [
    "trace_columns"
   ]
  },
  {
   "cell_type": "code",
   "execution_count": 14,
   "metadata": {},
   "outputs": [],
   "source": [
    "channel_map_and_all_trials_df = channel_map_and_all_trials_df.reset_index()"
   ]
  },
  {
   "cell_type": "code",
   "execution_count": 15,
   "metadata": {},
   "outputs": [],
   "source": [
    "melted_channel_map_and_all_trials_df = channel_map_and_all_trials_df.melt(id_vars=id_cols ,value_vars=trace_columns, var_name='region_and_baseline_or_trial', value_name='lfp_trace')"
   ]
  },
  {
   "cell_type": "code",
   "execution_count": 16,
   "metadata": {},
   "outputs": [],
   "source": [
    "melted_channel_map_and_all_trials_df[\"baseline_or_trial\"] = melted_channel_map_and_all_trials_df[\"region_and_baseline_or_trial\"].apply(lambda x: x.split(\"_\")[1])\n",
    "\n",
    "melted_channel_map_and_all_trials_df[\"brain_region\"] = melted_channel_map_and_all_trials_df[\"region_and_baseline_or_trial\"].apply(lambda x: x.split(\"_\")[0])"
   ]
  },
  {
   "cell_type": "code",
   "execution_count": 17,
   "metadata": {},
   "outputs": [
    {
     "data": {
      "text/html": [
       "<div>\n",
       "<style scoped>\n",
       "    .dataframe tbody tr th:only-of-type {\n",
       "        vertical-align: middle;\n",
       "    }\n",
       "\n",
       "    .dataframe tbody tr th {\n",
       "        vertical-align: top;\n",
       "    }\n",
       "\n",
       "    .dataframe thead th {\n",
       "        text-align: right;\n",
       "    }\n",
       "</style>\n",
       "<table border=\"1\" class=\"dataframe\">\n",
       "  <thead>\n",
       "    <tr style=\"text-align: right;\">\n",
       "      <th></th>\n",
       "      <th>time</th>\n",
       "      <th>recording_dir</th>\n",
       "      <th>recording_file</th>\n",
       "      <th>time_stamp_index</th>\n",
       "      <th>video_file</th>\n",
       "      <th>video_frame</th>\n",
       "      <th>video_number</th>\n",
       "      <th>subject_info</th>\n",
       "      <th>competition_closeness</th>\n",
       "      <th>video_name</th>\n",
       "      <th>...</th>\n",
       "      <th>Cohort</th>\n",
       "      <th>spike_interface_mPFC</th>\n",
       "      <th>spike_interface_vHPC</th>\n",
       "      <th>spike_interface_BLA</th>\n",
       "      <th>spike_interface_LH</th>\n",
       "      <th>spike_interface_MD</th>\n",
       "      <th>region_and_baseline_or_trial</th>\n",
       "      <th>lfp_trace</th>\n",
       "      <th>baseline_or_trial</th>\n",
       "      <th>brain_region</th>\n",
       "    </tr>\n",
       "  </thead>\n",
       "  <tbody>\n",
       "    <tr>\n",
       "      <th>0</th>\n",
       "      <td>6310663</td>\n",
       "      <td>20221202_134600_omission_and_competition_subje...</td>\n",
       "      <td>20221202_134600_omission_and_competition_subje...</td>\n",
       "      <td>1390826</td>\n",
       "      <td>20221202_134600_omission_and_competition_subje...</td>\n",
       "      <td>1734</td>\n",
       "      <td>1.0</td>\n",
       "      <td>6_1_top_2_base_3</td>\n",
       "      <td>rewarded</td>\n",
       "      <td>20221202_134600_omission_and_competition_subje...</td>\n",
       "      <td>...</td>\n",
       "      <td>1</td>\n",
       "      <td>21</td>\n",
       "      <td>15</td>\n",
       "      <td>14</td>\n",
       "      <td>13</td>\n",
       "      <td>16</td>\n",
       "      <td>mPFC_baseline_lfp_trace</td>\n",
       "      <td>[1.8457601, 1.7363818, 1.6475118, 1.59738, 1.2...</td>\n",
       "      <td>baseline</td>\n",
       "      <td>mPFC</td>\n",
       "    </tr>\n",
       "    <tr>\n",
       "      <th>1</th>\n",
       "      <td>7910662</td>\n",
       "      <td>20221202_134600_omission_and_competition_subje...</td>\n",
       "      <td>20221202_134600_omission_and_competition_subje...</td>\n",
       "      <td>2990825</td>\n",
       "      <td>20221202_134600_omission_and_competition_subje...</td>\n",
       "      <td>3728</td>\n",
       "      <td>1.0</td>\n",
       "      <td>6_1_top_2_base_3</td>\n",
       "      <td>rewarded</td>\n",
       "      <td>20221202_134600_omission_and_competition_subje...</td>\n",
       "      <td>...</td>\n",
       "      <td>1</td>\n",
       "      <td>21</td>\n",
       "      <td>15</td>\n",
       "      <td>14</td>\n",
       "      <td>13</td>\n",
       "      <td>16</td>\n",
       "      <td>mPFC_baseline_lfp_trace</td>\n",
       "      <td>[1.2191132, 1.1348007, 1.2054409, 1.0960625, 0...</td>\n",
       "      <td>baseline</td>\n",
       "      <td>mPFC</td>\n",
       "    </tr>\n",
       "    <tr>\n",
       "      <th>2</th>\n",
       "      <td>9710660</td>\n",
       "      <td>20221202_134600_omission_and_competition_subje...</td>\n",
       "      <td>20221202_134600_omission_and_competition_subje...</td>\n",
       "      <td>4790823</td>\n",
       "      <td>20221202_134600_omission_and_competition_subje...</td>\n",
       "      <td>5972</td>\n",
       "      <td>1.0</td>\n",
       "      <td>6_1_top_2_base_3</td>\n",
       "      <td>rewarded</td>\n",
       "      <td>20221202_134600_omission_and_competition_subje...</td>\n",
       "      <td>...</td>\n",
       "      <td>1</td>\n",
       "      <td>21</td>\n",
       "      <td>15</td>\n",
       "      <td>14</td>\n",
       "      <td>13</td>\n",
       "      <td>16</td>\n",
       "      <td>mPFC_baseline_lfp_trace</td>\n",
       "      <td>[-1.2669662, -1.2965895, -1.2532939, -0.986684...</td>\n",
       "      <td>baseline</td>\n",
       "      <td>mPFC</td>\n",
       "    </tr>\n",
       "    <tr>\n",
       "      <th>3</th>\n",
       "      <td>11310658</td>\n",
       "      <td>20221202_134600_omission_and_competition_subje...</td>\n",
       "      <td>20221202_134600_omission_and_competition_subje...</td>\n",
       "      <td>6390821</td>\n",
       "      <td>20221202_134600_omission_and_competition_subje...</td>\n",
       "      <td>7966</td>\n",
       "      <td>1.0</td>\n",
       "      <td>6_1_top_2_base_3</td>\n",
       "      <td>omission</td>\n",
       "      <td>20221202_134600_omission_and_competition_subje...</td>\n",
       "      <td>...</td>\n",
       "      <td>1</td>\n",
       "      <td>21</td>\n",
       "      <td>15</td>\n",
       "      <td>14</td>\n",
       "      <td>13</td>\n",
       "      <td>16</td>\n",
       "      <td>mPFC_baseline_lfp_trace</td>\n",
       "      <td>[-2.0257788, -2.0348935, -1.9323514, -1.754611...</td>\n",
       "      <td>baseline</td>\n",
       "      <td>mPFC</td>\n",
       "    </tr>\n",
       "    <tr>\n",
       "      <th>4</th>\n",
       "      <td>12810657</td>\n",
       "      <td>20221202_134600_omission_and_competition_subje...</td>\n",
       "      <td>20221202_134600_omission_and_competition_subje...</td>\n",
       "      <td>7890820</td>\n",
       "      <td>20221202_134600_omission_and_competition_subje...</td>\n",
       "      <td>9836</td>\n",
       "      <td>1.0</td>\n",
       "      <td>6_1_top_2_base_3</td>\n",
       "      <td>rewarded</td>\n",
       "      <td>20221202_134600_omission_and_competition_subje...</td>\n",
       "      <td>...</td>\n",
       "      <td>1</td>\n",
       "      <td>21</td>\n",
       "      <td>15</td>\n",
       "      <td>14</td>\n",
       "      <td>13</td>\n",
       "      <td>16</td>\n",
       "      <td>mPFC_baseline_lfp_trace</td>\n",
       "      <td>[-0.5765152, 0.25749493, 0.6403192, 0.4375135,...</td>\n",
       "      <td>baseline</td>\n",
       "      <td>mPFC</td>\n",
       "    </tr>\n",
       "  </tbody>\n",
       "</table>\n",
       "<p>5 rows × 31 columns</p>\n",
       "</div>"
      ],
      "text/plain": [
       "       time                                      recording_dir  \\\n",
       "0   6310663  20221202_134600_omission_and_competition_subje...   \n",
       "1   7910662  20221202_134600_omission_and_competition_subje...   \n",
       "2   9710660  20221202_134600_omission_and_competition_subje...   \n",
       "3  11310658  20221202_134600_omission_and_competition_subje...   \n",
       "4  12810657  20221202_134600_omission_and_competition_subje...   \n",
       "\n",
       "                                      recording_file  time_stamp_index  \\\n",
       "0  20221202_134600_omission_and_competition_subje...           1390826   \n",
       "1  20221202_134600_omission_and_competition_subje...           2990825   \n",
       "2  20221202_134600_omission_and_competition_subje...           4790823   \n",
       "3  20221202_134600_omission_and_competition_subje...           6390821   \n",
       "4  20221202_134600_omission_and_competition_subje...           7890820   \n",
       "\n",
       "                                          video_file  video_frame  \\\n",
       "0  20221202_134600_omission_and_competition_subje...         1734   \n",
       "1  20221202_134600_omission_and_competition_subje...         3728   \n",
       "2  20221202_134600_omission_and_competition_subje...         5972   \n",
       "3  20221202_134600_omission_and_competition_subje...         7966   \n",
       "4  20221202_134600_omission_and_competition_subje...         9836   \n",
       "\n",
       "   video_number      subject_info competition_closeness  \\\n",
       "0           1.0  6_1_top_2_base_3              rewarded   \n",
       "1           1.0  6_1_top_2_base_3              rewarded   \n",
       "2           1.0  6_1_top_2_base_3              rewarded   \n",
       "3           1.0  6_1_top_2_base_3              omission   \n",
       "4           1.0  6_1_top_2_base_3              rewarded   \n",
       "\n",
       "                                          video_name  ... Cohort  \\\n",
       "0  20221202_134600_omission_and_competition_subje...  ...      1   \n",
       "1  20221202_134600_omission_and_competition_subje...  ...      1   \n",
       "2  20221202_134600_omission_and_competition_subje...  ...      1   \n",
       "3  20221202_134600_omission_and_competition_subje...  ...      1   \n",
       "4  20221202_134600_omission_and_competition_subje...  ...      1   \n",
       "\n",
       "  spike_interface_mPFC spike_interface_vHPC  spike_interface_BLA  \\\n",
       "0                   21                   15                   14   \n",
       "1                   21                   15                   14   \n",
       "2                   21                   15                   14   \n",
       "3                   21                   15                   14   \n",
       "4                   21                   15                   14   \n",
       "\n",
       "  spike_interface_LH spike_interface_MD region_and_baseline_or_trial  \\\n",
       "0                 13                 16      mPFC_baseline_lfp_trace   \n",
       "1                 13                 16      mPFC_baseline_lfp_trace   \n",
       "2                 13                 16      mPFC_baseline_lfp_trace   \n",
       "3                 13                 16      mPFC_baseline_lfp_trace   \n",
       "4                 13                 16      mPFC_baseline_lfp_trace   \n",
       "\n",
       "                                           lfp_trace baseline_or_trial  \\\n",
       "0  [1.8457601, 1.7363818, 1.6475118, 1.59738, 1.2...          baseline   \n",
       "1  [1.2191132, 1.1348007, 1.2054409, 1.0960625, 0...          baseline   \n",
       "2  [-1.2669662, -1.2965895, -1.2532939, -0.986684...          baseline   \n",
       "3  [-2.0257788, -2.0348935, -1.9323514, -1.754611...          baseline   \n",
       "4  [-0.5765152, 0.25749493, 0.6403192, 0.4375135,...          baseline   \n",
       "\n",
       "  brain_region  \n",
       "0         mPFC  \n",
       "1         mPFC  \n",
       "2         mPFC  \n",
       "3         mPFC  \n",
       "4         mPFC  \n",
       "\n",
       "[5 rows x 31 columns]"
      ]
     },
     "execution_count": 17,
     "metadata": {},
     "output_type": "execute_result"
    }
   ],
   "source": [
    "melted_channel_map_and_all_trials_df.head()"
   ]
  },
  {
   "cell_type": "code",
   "execution_count": 18,
   "metadata": {},
   "outputs": [
    {
     "ename": "ValueError",
     "evalue": "",
     "output_type": "error",
     "traceback": [
      "\u001b[0;31m---------------------------------------------------------------------------\u001b[0m",
      "\u001b[0;31mValueError\u001b[0m                                Traceback (most recent call last)",
      "Cell \u001b[0;32mIn[18], line 1\u001b[0m\n\u001b[0;32m----> 1\u001b[0m \u001b[38;5;28;01mraise\u001b[39;00m \u001b[38;5;167;01mValueError\u001b[39;00m()\n",
      "\u001b[0;31mValueError\u001b[0m: "
     ]
    }
   ],
   "source": [
    "raise ValueError()"
   ]
  },
  {
   "cell_type": "markdown",
   "metadata": {},
   "source": [
    "# Calculating power"
   ]
  },
  {
   "cell_type": "code",
   "execution_count": null,
   "metadata": {},
   "outputs": [],
   "source": []
  },
  {
   "cell_type": "code",
   "execution_count": null,
   "metadata": {},
   "outputs": [],
   "source": [
    "melted_channel_map_and_all_trials_df[\"multitaper\"] = melted_channel_map_and_all_trials_df[\"lfp_trace\"].apply(lambda x: Multitaper(time_series=x,                                                                                        sampling_frequency=RESAMPLE_RATE,  time_halfbandwidth_product=TIME_HALFBANDWIDTH_PRODUCT, time_window_duration=TIME_WINDOW_DURATION, time_window_step=TIME_WINDOW_STEP))"
   ]
  },
  {
   "cell_type": "code",
   "execution_count": null,
   "metadata": {},
   "outputs": [],
   "source": [
    "melted_channel_map_and_all_trials_df[\"connectivity\"] = melted_channel_map_and_all_trials_df[\"multitaper\"].apply(lambda x: Connectivity.from_multitaper(x))"
   ]
  },
  {
   "cell_type": "code",
   "execution_count": null,
   "metadata": {},
   "outputs": [],
   "source": [
    "melted_channel_map_and_all_trials_df[\"frequencies\"] = melted_channel_map_and_all_trials_df[\"connectivity\"].apply(lambda x: x.frequencies)"
   ]
  },
  {
   "cell_type": "code",
   "execution_count": null,
   "metadata": {},
   "outputs": [],
   "source": [
    "melted_channel_map_and_all_trials_df[\"all_segment_power\"] = melted_channel_map_and_all_trials_df[\"connectivity\"].apply(lambda x: x.power().squeeze())"
   ]
  },
  {
   "cell_type": "code",
   "execution_count": null,
   "metadata": {},
   "outputs": [],
   "source": [
    "melted_channel_map_and_all_trials_df[\"power\"] = melted_channel_map_and_all_trials_df[\"all_segment_power\"].apply(lambda x: np.mean(x, axis=0))"
   ]
  },
  {
   "cell_type": "code",
   "execution_count": null,
   "metadata": {
    "scrolled": true
   },
   "outputs": [],
   "source": [
    "melted_channel_map_and_all_trials_df.head()"
   ]
  },
  {
   "cell_type": "code",
   "execution_count": null,
   "metadata": {},
   "outputs": [],
   "source": [
    "melted_channel_map_and_all_trials_df.to_pickle(\"./proc/rce_power_of_zscored_lfp.pkl\")"
   ]
  },
  {
   "cell_type": "markdown",
   "metadata": {},
   "source": [
    "# Plotting all the power's of each subject together"
   ]
  },
  {
   "cell_type": "code",
   "execution_count": null,
   "metadata": {},
   "outputs": [],
   "source": [
    "grouping_column = \"current_subject\""
   ]
  },
  {
   "cell_type": "code",
   "execution_count": null,
   "metadata": {},
   "outputs": [],
   "source": [
    "grouped_all_trials_df = melted_channel_map_and_all_trials_df.groupby(['brain_region', 'baseline_or_trial', grouping_column]).agg({'power': lambda x: np.vstack(x.tolist())}).reset_index()"
   ]
  },
  {
   "cell_type": "code",
   "execution_count": null,
   "metadata": {},
   "outputs": [],
   "source": [
    "grouped_all_trials_df[\"mean_power\"] = grouped_all_trials_df[\"power\"].apply(lambda x: np.nanmean(np.vstack(x), axis=0))"
   ]
  },
  {
   "cell_type": "code",
   "execution_count": null,
   "metadata": {},
   "outputs": [],
   "source": [
    "grouped_all_trials_df[\"std_power\"] = grouped_all_trials_df[\"power\"].apply(lambda x: np.nanstd(np.vstack(x), axis=0))"
   ]
  },
  {
   "cell_type": "code",
   "execution_count": null,
   "metadata": {},
   "outputs": [],
   "source": [
    "grouped_all_trials_df[\"n_trials\"] = grouped_all_trials_df[\"power\"].apply(lambda x: np.sum(~np.isnan(x), axis=0))"
   ]
  },
  {
   "cell_type": "code",
   "execution_count": null,
   "metadata": {},
   "outputs": [],
   "source": [
    "grouped_all_trials_df[\"sem_power\"] = grouped_all_trials_df.apply(lambda x: x[\"std_power\"] / np.sqrt(x[\"n_trials\"]), axis=1)"
   ]
  },
  {
   "cell_type": "markdown",
   "metadata": {},
   "source": [
    "# Drawing plots all together"
   ]
  },
  {
   "cell_type": "code",
   "execution_count": null,
   "metadata": {},
   "outputs": [],
   "source": [
    "color_list = [\"red\", \"blue\", \"green\", \"orange\"]\n",
    "list(grouped_all_trials_df[\"current_subject\"].unique())"
   ]
  },
  {
   "cell_type": "code",
   "execution_count": null,
   "metadata": {},
   "outputs": [],
   "source": [
    "subj_to_color = {subj: color_list[index] for index, subj in enumerate(list(grouped_all_trials_df[\"current_subject\"].unique()))}"
   ]
  },
  {
   "cell_type": "code",
   "execution_count": null,
   "metadata": {},
   "outputs": [],
   "source": [
    "low_freq = 0\n",
    "high_freq = 12\n",
    "for region in grouped_all_trials_df[\"brain_region\"].unique():\n",
    "    region_df = grouped_all_trials_df[grouped_all_trials_df[\"brain_region\"] == region]\n",
    "    \n",
    "    fig, ax = plt.subplots()\n",
    "    plt.title(\"Z-Scored LFP Power {}\".format(region.split(\"_\")[-1]))\n",
    "    plt.xlabel(\"Frequency\")\n",
    "    plt.ylabel(\"Power\")\n",
    "    plt.xlim(low_freq, high_freq) \n",
    "    # plt.yscale(\"log\")\n",
    "    # plt.ylim(0.01, 0.06)\n",
    "\n",
    "    for baseline_or_trial, outcome in itertools.product(region_df[\"baseline_or_trial\"].unique(), sorted(region_df[\"current_subject\"].unique())[::-1]):\n",
    "        outcome_df = region_df[(region_df[\"baseline_or_trial\"] == baseline_or_trial) & (region_df[\"current_subject\"] == outcome)]\n",
    "        for index, row in outcome_df.iterrows():\n",
    "            try:\n",
    "                ax = sns.lineplot(x=melted_channel_map_and_all_trials_df[\"frequencies\"].iloc[0][low_freq:high_freq+1], y=row[\"mean_power\"][low_freq:high_freq+1], \\\n",
    "                label=\"{} {}\".format(outcome, baseline_or_trial), \\\n",
    "                linestyle=TRIAL_OR_BASELINE_TO_STYLE[baseline_or_trial], linewidth=3, color=subj_to_color[outcome])\n",
    "                \n",
    "                plt.fill_between(melted_channel_map_and_all_trials_df[\"frequencies\"].iloc[0][low_freq:high_freq+1], \n",
    "                row[\"mean_power\"][low_freq:high_freq+1] - row[\"sem_power\"][low_freq:high_freq+1], row[\"mean_power\"][low_freq:high_freq+1] + row[\"sem_power\"][low_freq:high_freq+1], \\\n",
    "                alpha=0.1, color=subj_to_color[outcome])\n",
    "            \n",
    "            except Exception as e: \n",
    "                print(e)\n",
    "                continue\n",
    "    plt.legend()\n",
    "    plt.savefig(\"./proc/lfp_power/plot_region_line_trialoutcome_baselinetrial/\\\n",
    "    rce_lower_velocity_lfp_power_trialoutcome_baselinetrial_freq_{}_to_{}_region_{}_outcome_{}.png\".format(low_freq, high_freq, region.split(\"_\")[-1], grouping_column))\n",
    "    plt.show()"
   ]
  },
  {
   "cell_type": "code",
   "execution_count": null,
   "metadata": {},
   "outputs": [],
   "source": [
    "low_freq = 12\n",
    "high_freq = 30\n",
    "for region in grouped_all_trials_df[\"brain_region\"].unique():\n",
    "    region_df = grouped_all_trials_df[grouped_all_trials_df[\"brain_region\"] == region]\n",
    "    \n",
    "    fig, ax = plt.subplots()\n",
    "    plt.title(\"Z-Scored LFP Power {}\".format(region.split(\"_\")[-1]))\n",
    "    plt.xlabel(\"Frequency\")\n",
    "    plt.ylabel(\"Power\")\n",
    "    plt.xlim(low_freq, high_freq) \n",
    "    # plt.yscale(\"log\")\n",
    "    # plt.ylim(0.01, 0.06)\n",
    "\n",
    "    for baseline_or_trial, outcome in itertools.product(region_df[\"baseline_or_trial\"].unique(), sorted(region_df[\"current_subject\"].unique())[::-1]):\n",
    "        outcome_df = region_df[(region_df[\"baseline_or_trial\"] == baseline_or_trial) & (region_df[\"current_subject\"] == outcome)]\n",
    "        for index, row in outcome_df.iterrows():\n",
    "            try:\n",
    "                ax = sns.lineplot(x=melted_channel_map_and_all_trials_df[\"frequencies\"].iloc[0][low_freq:high_freq+1], y=row[\"mean_power\"][low_freq:high_freq+1], \\\n",
    "                label=\"{} {}\".format(outcome, baseline_or_trial), \\\n",
    "                linestyle=TRIAL_OR_BASELINE_TO_STYLE[baseline_or_trial], linewidth=3, color=subj_to_color[outcome])\n",
    "                \n",
    "                plt.fill_between(melted_channel_map_and_all_trials_df[\"frequencies\"].iloc[0][low_freq:high_freq+1], \n",
    "                row[\"mean_power\"][low_freq:high_freq+1] - row[\"sem_power\"][low_freq:high_freq+1], row[\"mean_power\"][low_freq:high_freq+1] + row[\"sem_power\"][low_freq:high_freq+1], \\\n",
    "                alpha=0.1, color=subj_to_color[outcome])\n",
    "            \n",
    "            except Exception as e: \n",
    "                print(e)\n",
    "                continue\n",
    "    plt.legend()\n",
    "    plt.savefig(\"./proc/lfp_power/plot_region_line_trialoutcome_baselinetrial/\\\n",
    "    rce_lower_velocity_lfp_power_trialoutcome_baselinetrial_freq_{}_to_{}_region_{}_outcome_{}.png\".format(low_freq, high_freq, region.split(\"_\")[-1], grouping_column))\n",
    "    plt.show()"
   ]
  },
  {
   "cell_type": "code",
   "execution_count": null,
   "metadata": {
    "scrolled": true
   },
   "outputs": [],
   "source": [
    "low_freq = 30\n",
    "high_freq = 90\n",
    "for region in grouped_all_trials_df[\"brain_region\"].unique():\n",
    "    region_df = grouped_all_trials_df[grouped_all_trials_df[\"brain_region\"] == region]\n",
    "    \n",
    "    fig, ax = plt.subplots()\n",
    "    plt.title(\"Z-Scored LFP Power {}\".format(region.split(\"_\")[-1]))\n",
    "    plt.xlabel(\"Frequency\")\n",
    "    plt.ylabel(\"Power\")\n",
    "    plt.xlim(low_freq, high_freq) \n",
    "    # plt.yscale(\"log\")\n",
    "    # plt.ylim(0.01, 0.06)\n",
    "\n",
    "    for baseline_or_trial, outcome in itertools.product(region_df[\"baseline_or_trial\"].unique(), sorted(region_df[\"current_subject\"].unique())[::-1]):\n",
    "        outcome_df = region_df[(region_df[\"baseline_or_trial\"] == baseline_or_trial) & (region_df[\"current_subject\"] == outcome)]\n",
    "        for index, row in outcome_df.iterrows():\n",
    "            try:\n",
    "                ax = sns.lineplot(x=melted_channel_map_and_all_trials_df[\"frequencies\"].iloc[0][low_freq:high_freq+1], y=row[\"mean_power\"][low_freq:high_freq+1], \\\n",
    "                label=\"{} {}\".format(outcome, baseline_or_trial), \\\n",
    "                linestyle=TRIAL_OR_BASELINE_TO_STYLE[baseline_or_trial], linewidth=3, color=subj_to_color[outcome])\n",
    "                \n",
    "                plt.fill_between(melted_channel_map_and_all_trials_df[\"frequencies\"].iloc[0][low_freq:high_freq+1], \n",
    "                row[\"mean_power\"][low_freq:high_freq+1] - row[\"sem_power\"][low_freq:high_freq+1], row[\"mean_power\"][low_freq:high_freq+1] + row[\"sem_power\"][low_freq:high_freq+1], \\\n",
    "                alpha=0.1, color=subj_to_color[outcome])\n",
    "            \n",
    "            except Exception as e: \n",
    "                print(e)\n",
    "                continue\n",
    "    plt.legend()\n",
    "    plt.savefig(\"./proc/lfp_power/plot_region_line_trialoutcome_baselinetrial/\\\n",
    "    rce_lower_velocity_lfp_power_trialoutcome_baselinetrial_freq_{}_to_{}_region_{}_outcome_{}.png\".format(low_freq, high_freq, region.split(\"_\")[-1], grouping_column))\n",
    "    plt.show()"
   ]
  },
  {
   "cell_type": "markdown",
   "metadata": {},
   "source": [
    "# Plotting all the power's of each trial outcome together"
   ]
  },
  {
   "cell_type": "code",
   "execution_count": null,
   "metadata": {},
   "outputs": [],
   "source": [
    "grouping_column = \"trial_outcome\""
   ]
  },
  {
   "cell_type": "code",
   "execution_count": null,
   "metadata": {},
   "outputs": [],
   "source": [
    "grouped_all_trials_df = melted_channel_map_and_all_trials_df.groupby(['brain_region', 'baseline_or_trial', grouping_column]).agg({'power': lambda x: np.vstack(x.tolist())}).reset_index()"
   ]
  },
  {
   "cell_type": "code",
   "execution_count": null,
   "metadata": {},
   "outputs": [],
   "source": [
    "grouped_all_trials_df[\"mean_power\"] = grouped_all_trials_df[\"power\"].apply(lambda x: np.nanmean(np.vstack(x), axis=0))"
   ]
  },
  {
   "cell_type": "code",
   "execution_count": null,
   "metadata": {},
   "outputs": [],
   "source": [
    "grouped_all_trials_df[\"std_power\"] = grouped_all_trials_df[\"power\"].apply(lambda x: np.nanstd(np.vstack(x), axis=0))"
   ]
  },
  {
   "cell_type": "code",
   "execution_count": null,
   "metadata": {},
   "outputs": [],
   "source": [
    "grouped_all_trials_df[\"n_trials\"] = grouped_all_trials_df[\"power\"].apply(lambda x: np.sum(~np.isnan(x), axis=0))"
   ]
  },
  {
   "cell_type": "code",
   "execution_count": null,
   "metadata": {},
   "outputs": [],
   "source": [
    "grouped_all_trials_df[\"sem_power\"] = grouped_all_trials_df.apply(lambda x: x[\"std_power\"] / np.sqrt(x[\"n_trials\"]), axis=1)"
   ]
  },
  {
   "cell_type": "markdown",
   "metadata": {},
   "source": [
    "# Drawing plots all together"
   ]
  },
  {
   "cell_type": "code",
   "execution_count": null,
   "metadata": {},
   "outputs": [],
   "source": [
    "low_freq = 0\n",
    "high_freq = 12\n",
    "for region in grouped_all_trials_df[\"brain_region\"].unique():\n",
    "    region_df = grouped_all_trials_df[grouped_all_trials_df[\"brain_region\"] == region]\n",
    "    \n",
    "    fig, ax = plt.subplots()\n",
    "    plt.title(\"Z-Scored LFP Power {}\".format(region.split(\"_\")[-1]))\n",
    "    plt.xlabel(\"Frequency\")\n",
    "    plt.ylabel(\"Power\")\n",
    "    plt.xlim(low_freq, high_freq) \n",
    "    # plt.yscale(\"log\")\n",
    "    # plt.ylim(0.01, 0.06)\n",
    "\n",
    "    for baseline_or_trial, outcome in itertools.product(region_df[\"baseline_or_trial\"].unique(), sorted(region_df[\"trial_outcome\"].unique())[::-1]):\n",
    "        outcome_df = region_df[(region_df[\"baseline_or_trial\"] == baseline_or_trial) & (region_df[\"trial_outcome\"] == outcome)]\n",
    "        for index, row in outcome_df.iterrows():\n",
    "            try:\n",
    "                ax = sns.lineplot(x=melted_channel_map_and_all_trials_df[\"frequencies\"].iloc[0][low_freq:high_freq+1], y=row[\"mean_power\"][low_freq:high_freq+1], \\\n",
    "                label=\"{} {}\".format(outcome, baseline_or_trial), \\\n",
    "                linestyle=TRIAL_OR_BASELINE_TO_STYLE[baseline_or_trial], linewidth=3, color=BASELINE_OUTCOME_TO_COLOR[outcome])\n",
    "                \n",
    "                plt.fill_between(melted_channel_map_and_all_trials_df[\"frequencies\"].iloc[0][low_freq:high_freq+1], \n",
    "                row[\"mean_power\"][low_freq:high_freq+1] - row[\"sem_power\"][low_freq:high_freq+1], row[\"mean_power\"][low_freq:high_freq+1] + row[\"sem_power\"][low_freq:high_freq+1], \\\n",
    "                alpha=0.1, color=BASELINE_OUTCOME_TO_COLOR[outcome])\n",
    "            \n",
    "            except Exception as e: \n",
    "                print(e)\n",
    "                continue\n",
    "    plt.legend()\n",
    "    plt.savefig(\"./proc/lfp_power/plot_region_line_trialoutcome_baselinetrial/\\\n",
    "    rce_lower_velocity_lfp_power_trialoutcome_baselinetrial_freq_{}_to_{}_region_{}_outcome_{}.png\".format(low_freq, high_freq, region.split(\"_\")[-1], grouping_column))\n",
    "    plt.show()"
   ]
  },
  {
   "cell_type": "code",
   "execution_count": null,
   "metadata": {},
   "outputs": [],
   "source": [
    "low_freq = 12\n",
    "high_freq = 30\n",
    "for region in grouped_all_trials_df[\"brain_region\"].unique():\n",
    "    region_df = grouped_all_trials_df[grouped_all_trials_df[\"brain_region\"] == region]\n",
    "    \n",
    "    fig, ax = plt.subplots()\n",
    "    plt.title(\"Z-Scored LFP Power {}\".format(region.split(\"_\")[-1]))\n",
    "    plt.xlabel(\"Frequency\")\n",
    "    plt.ylabel(\"Power\")\n",
    "    plt.xlim(low_freq, high_freq) \n",
    "    # plt.yscale(\"log\")\n",
    "    # plt.ylim(0.01, 0.06)\n",
    "\n",
    "    for baseline_or_trial, outcome in itertools.product(region_df[\"baseline_or_trial\"].unique(), sorted(region_df[\"trial_outcome\"].unique())[::-1]):\n",
    "        outcome_df = region_df[(region_df[\"baseline_or_trial\"] == baseline_or_trial) & (region_df[\"trial_outcome\"] == outcome)]\n",
    "        for index, row in outcome_df.iterrows():\n",
    "            try:\n",
    "                ax = sns.lineplot(x=melted_channel_map_and_all_trials_df[\"frequencies\"].iloc[0][low_freq:high_freq+1], y=row[\"mean_power\"][low_freq:high_freq+1], \\\n",
    "                label=\"{} {}\".format(outcome, baseline_or_trial), \\\n",
    "                linestyle=TRIAL_OR_BASELINE_TO_STYLE[baseline_or_trial], linewidth=3, color=BASELINE_OUTCOME_TO_COLOR[outcome])\n",
    "                \n",
    "                plt.fill_between(melted_channel_map_and_all_trials_df[\"frequencies\"].iloc[0][low_freq:high_freq+1], \n",
    "                row[\"mean_power\"][low_freq:high_freq+1] - row[\"sem_power\"][low_freq:high_freq+1], row[\"mean_power\"][low_freq:high_freq+1] + row[\"sem_power\"][low_freq:high_freq+1], \\\n",
    "                alpha=0.1, color=BASELINE_OUTCOME_TO_COLOR[outcome])\n",
    "            \n",
    "            except Exception as e: \n",
    "                print(e)\n",
    "                continue\n",
    "    plt.legend()\n",
    "    plt.savefig(\"./proc/lfp_power/plot_region_line_trialoutcome_baselinetrial/\\\n",
    "    rce_lower_velocity_lfp_power_trialoutcome_baselinetrial_freq_{}_to_{}_region_{}_outcome_{}.png\".format(low_freq, high_freq, region.split(\"_\")[-1], grouping_column))\n",
    "    plt.show()"
   ]
  },
  {
   "cell_type": "code",
   "execution_count": null,
   "metadata": {
    "scrolled": true
   },
   "outputs": [],
   "source": [
    "low_freq = 30\n",
    "high_freq = 90\n",
    "for region in grouped_all_trials_df[\"brain_region\"].unique():\n",
    "    region_df = grouped_all_trials_df[grouped_all_trials_df[\"brain_region\"] == region]\n",
    "    \n",
    "    fig, ax = plt.subplots()\n",
    "    plt.title(\"Z-Scored LFP Power {}\".format(region.split(\"_\")[-1]))\n",
    "    plt.xlabel(\"Frequency\")\n",
    "    plt.ylabel(\"Power\")\n",
    "    plt.xlim(low_freq, high_freq) \n",
    "    # plt.yscale(\"log\")\n",
    "    # plt.ylim(0.01, 0.06)\n",
    "\n",
    "    for baseline_or_trial, outcome in itertools.product(region_df[\"baseline_or_trial\"].unique(), sorted(region_df[\"trial_outcome\"].unique())[::-1]):\n",
    "        outcome_df = region_df[(region_df[\"baseline_or_trial\"] == baseline_or_trial) & (region_df[\"trial_outcome\"] == outcome)]\n",
    "        for index, row in outcome_df.iterrows():\n",
    "            try:\n",
    "                ax = sns.lineplot(x=melted_channel_map_and_all_trials_df[\"frequencies\"].iloc[0][low_freq:high_freq+1], y=row[\"mean_power\"][low_freq:high_freq+1], \\\n",
    "                label=\"{} {}\".format(outcome, baseline_or_trial), \\\n",
    "                linestyle=TRIAL_OR_BASELINE_TO_STYLE[baseline_or_trial], linewidth=3, color=BASELINE_OUTCOME_TO_COLOR[outcome])\n",
    "                \n",
    "                plt.fill_between(melted_channel_map_and_all_trials_df[\"frequencies\"].iloc[0][low_freq:high_freq+1], \n",
    "                row[\"mean_power\"][low_freq:high_freq+1] - row[\"sem_power\"][low_freq:high_freq+1], row[\"mean_power\"][low_freq:high_freq+1] + row[\"sem_power\"][low_freq:high_freq+1], \\\n",
    "                alpha=0.1, color=BASELINE_OUTCOME_TO_COLOR[outcome])\n",
    "            \n",
    "            except Exception as e: \n",
    "                print(e)\n",
    "                continue\n",
    "    plt.legend()\n",
    "    plt.savefig(\"./proc/lfp_power/plot_region_line_trialoutcome_baselinetrial/\\\n",
    "    rce_lower_velocity_lfp_power_trialoutcome_baselinetrial_freq_{}_to_{}_region_{}_outcome_{}.png\".format(low_freq, high_freq, region.split(\"_\")[-1], grouping_column))\n",
    "    plt.show()"
   ]
  },
  {
   "cell_type": "markdown",
   "metadata": {
    "created_in_deepnote_cell": true,
    "deepnote_cell_type": "markdown"
   },
   "source": [
    "<a style='text-decoration:none;line-height:16px;display:flex;color:#5B5B62;padding:10px;justify-content:end;' href='https://deepnote.com?utm_source=created-in-deepnote-cell&projectId=a4490980-3f6a-4f44-80eb-ebd789a5b21f' target=\"_blank\">\n",
    "<img alt='Created in deepnote.com' style='display:inline;max-height:16px;margin:0px;margin-right:7.5px;' src='data:image/svg+xml;base64,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' > </img>\n",
    "Created in <span style='font-weight:600;margin-left:4px;'>Deepnote</span></a>"
   ]
  }
 ],
 "metadata": {
  "deepnote": {},
  "deepnote_execution_queue": [],
  "deepnote_notebook_id": "cf8fe3695d074ee7887fdf6459cbf5ce",
  "kernelspec": {
   "display_name": "Python 3 (ipykernel)",
   "language": "python",
   "name": "python3"
  },
  "language_info": {
   "codemirror_mode": {
    "name": "ipython",
    "version": 3
   },
   "file_extension": ".py",
   "mimetype": "text/x-python",
   "name": "python",
   "nbconvert_exporter": "python",
   "pygments_lexer": "ipython3",
   "version": "3.9.16"
  }
 },
 "nbformat": 4,
 "nbformat_minor": 4
}
