{
 "cells": [
  {
   "cell_type": "markdown",
   "metadata": {
    "cell_id": "c3a02adc9e884466bc8c79db549cc3d2",
    "deepnote_cell_type": "text-cell-h1",
    "formattedRanges": [
     {
      "fromCodePoint": 0,
      "marks": {
       "bold": true,
       "underline": true
      },
      "toCodePoint": 17,
      "type": "marks"
     }
    ]
   },
   "source": [
    "# Omission LFP Analysis"
   ]
  },
  {
   "cell_type": "markdown",
   "metadata": {
    "cell_id": "4546bee655b14a5dbf393161f1228e60",
    "deepnote_cell_type": "text-cell-p",
    "formattedRanges": []
   },
   "source": [
    "Brief 1-2 sentence description of notebook."
   ]
  },
  {
   "cell_type": "code",
   "execution_count": 1,
   "metadata": {},
   "outputs": [],
   "source": [
    "import warnings\n",
    "warnings.filterwarnings('ignore')"
   ]
  },
  {
   "cell_type": "code",
   "execution_count": 2,
   "metadata": {},
   "outputs": [],
   "source": [
    "import os\n",
    "import glob\n",
    "from collections import defaultdict\n",
    "import re"
   ]
  },
  {
   "cell_type": "code",
   "execution_count": 3,
   "metadata": {
    "cell_id": "03b495cefa6a4798a44c7f2e4c6a3ea7",
    "deepnote_cell_type": "code",
    "deepnote_to_be_reexecuted": false,
    "execution_millis": 21,
    "execution_start": 1691424003626,
    "source_hash": null
   },
   "outputs": [],
   "source": [
    "# Imports of all used packages and libraries\n",
    "import numpy as np\n",
    "import pandas as pd\n",
    "import matplotlib.pyplot as plt\n",
    "import matplotlib.cm as cm\n",
    "import seaborn as sns\n",
    "from scipy import stats\n",
    "import itertools"
   ]
  },
  {
   "cell_type": "code",
   "execution_count": 4,
   "metadata": {},
   "outputs": [],
   "source": [
    "import spikeinterface.extractors as se\n",
    "import spikeinterface.preprocessing as sp\n",
    "from spectral_connectivity import Multitaper, Connectivity"
   ]
  },
  {
   "cell_type": "markdown",
   "metadata": {
    "cell_id": "d290bac2c17940bfbc0f9296beaf70e5",
    "deepnote_cell_type": "text-cell-h2",
    "formattedRanges": []
   },
   "source": [
    "## Inputs & Data"
   ]
  },
  {
   "cell_type": "markdown",
   "metadata": {
    "cell_id": "e528ce19c608425292151930d380f49f",
    "deepnote_cell_type": "text-cell-p",
    "formattedRanges": []
   },
   "source": [
    "Explanation of each input and where it comes from."
   ]
  },
  {
   "cell_type": "code",
   "execution_count": 5,
   "metadata": {},
   "outputs": [],
   "source": [
    "# Inputs and Required data loading\n",
    "# input varaible names are in all caps snake case\n",
    "# Whenever an input changes or is used for processing \n",
    "# the vairables are all lower in snake case"
   ]
  },
  {
   "cell_type": "code",
   "execution_count": 6,
   "metadata": {},
   "outputs": [],
   "source": [
    "BBOX_TO_ANCHOR=(1.5, 0.9)\n",
    "LOC='upper right'"
   ]
  },
  {
   "cell_type": "code",
   "execution_count": null,
   "metadata": {},
   "outputs": [],
   "source": []
  },
  {
   "cell_type": "code",
   "execution_count": 7,
   "metadata": {},
   "outputs": [],
   "source": [
    "# variables for LFP extraction\n",
    "FREQ_MIN=0.5\n",
    "FREQ_MAX=300\n",
    "FREQ=60\n",
    "RESAMPLE_RATE=1000\n",
    "TRIAL_DURATION=10"
   ]
  },
  {
   "cell_type": "code",
   "execution_count": 8,
   "metadata": {},
   "outputs": [],
   "source": [
    "INPUT_VARIABLE = 1\n",
    "\n",
    "TIME_HALFBANDWIDTH_PRODUCT = 2\n",
    "TIME_WINDOW_DURATION = 3\n",
    "TIME_WINDOW_STEP = 1.5 \n",
    "\n",
    "TRIAL_TIME_STAMP_DURATION = 1000*10"
   ]
  },
  {
   "cell_type": "code",
   "execution_count": 9,
   "metadata": {},
   "outputs": [],
   "source": [
    "BIN_TO_COLOR = {0: {\"baseline\": \"lightblue\", \"trial\": \"blue\"}, 1: {\"baseline\": \"lightgreen\", \"trial\": \"green\"}, 2: {\"baseline\": \"lightcoral\", \"trial\": \"red\"}}\n",
    "TRIAL_OR_BASELINE_TO_STYLE = {'baseline': \"--\", \"trial\": \"-\"}\n",
    "BIN_TO_VELOCITY = {0: \"0 to 2.5cm/s\", 1: \"2.5 to 5cm/s\", 2: \"5cm/s to 10cm/s\"}"
   ]
  },
  {
   "cell_type": "code",
   "execution_count": 10,
   "metadata": {},
   "outputs": [],
   "source": [
    "BIN_TO_COLOR = {0: {\"baseline\": \"lightblue\", \"trial\": \"blue\"}, 1: {\"baseline\": \"lightgreen\", \"trial\": \"green\"}, 2: {\"baseline\": \"lightcoral\", \"trial\": \"red\"}}\n",
    "TRIAL_OR_BASELINE_TO_STYLE = {'baseline': \"--\", \"trial\": \"-\"}\n",
    "BIN_TO_VELOCITY = {0: \"0 to 5cm/s\", 1: \"5cm/s to 10cm/s\", 2: \"10cm/s+\"}"
   ]
  },
  {
   "cell_type": "code",
   "execution_count": 11,
   "metadata": {},
   "outputs": [],
   "source": [
    "NUM_LINES = 3"
   ]
  },
  {
   "cell_type": "code",
   "execution_count": 12,
   "metadata": {},
   "outputs": [],
   "source": [
    "# Generate colors from the \"Blues\" colormap\n",
    "LOSING_COLORS = cm.Oranges(np.linspace(0.5, 1, NUM_LINES))\n",
    "# Generate colors from the \"Blues\" colormap\n",
    "WINNING_COLORS = cm.Blues(np.linspace(0.5, 1, NUM_LINES))\n",
    "# Generate colors from the \"Blues\" colormap\n",
    "REWARDED_COLORS = cm.Greens(np.linspace(0.5, 1, NUM_LINES))\n",
    "# Generate colors from the \"Blues\" colormap\n",
    "OMISSION_COLORS = cm.Reds(np.linspace(0.5, 1, NUM_LINES))"
   ]
  },
  {
   "cell_type": "code",
   "execution_count": 13,
   "metadata": {},
   "outputs": [],
   "source": [
    "BASELINE_OUTCOME_TO_COLOR = {'lose': \"orange\",\n",
    " 'lose_baseline': LOSING_COLORS[0],\n",
    " 'omission': \"red\",\n",
    " 'omission_baseline': \"hotpink\",\n",
    " 'rewarded': \"green\",\n",
    " 'rewarded_baseline': REWARDED_COLORS[0],\n",
    " 'win': \"blue\",\n",
    " 'win_baseline': WINNING_COLORS[0]}"
   ]
  },
  {
   "cell_type": "code",
   "execution_count": 14,
   "metadata": {},
   "outputs": [],
   "source": [
    "COMPETITIVE_OUTCOME_TO_COLOR = {'lose_comp': \"orange\", \n",
    "'lose_non_comp': \"yellow\",\n",
    "'omission': \"red\",\n",
    "'rewarded': \"green\",\n",
    "'win_comp': \"blue\", \n",
    "'win_non_comp': WINNING_COLORS[0]}"
   ]
  },
  {
   "cell_type": "code",
   "execution_count": 15,
   "metadata": {},
   "outputs": [],
   "source": [
    "TRIAL_OR_BASELINE_TO_STYLE = {'baseline': \"--\", \"trial\": \"-\"}"
   ]
  },
  {
   "cell_type": "code",
   "execution_count": 16,
   "metadata": {
    "cell_id": "6cf83a5811054461a718a71673d09aab",
    "deepnote_cell_type": "code",
    "deepnote_to_be_reexecuted": false,
    "execution_millis": 373,
    "execution_start": 1691424003628,
    "source_hash": null
   },
   "outputs": [],
   "source": [
    "CHANNEL_MAPPING_DF = pd.read_excel(\"../../channel_mapping.xlsx\")\n",
    "CHANNEL_MAPPING_DF[\"Subject\"] = CHANNEL_MAPPING_DF[\"Subject\"].astype(str)\n",
    "\n",
    "TONE_TIMESTAMP_DF = pd.read_excel(\"../../rce_tone_timestamp.xlsx\", index_col=0)\n",
    "OUTPUT_DIR = r\"./proc\" # where data is saved should always be shown in the inputs\n"
   ]
  },
  {
   "cell_type": "code",
   "execution_count": 17,
   "metadata": {},
   "outputs": [],
   "source": [
    "ALL_SESSION_DIR = list(set(['/scratch/back_up/reward_competition_extention/data/omission/2023_06_17/20230617_115521_standard_comp_to_omission_D1_subj_1-1_and_1-2.rec',\n",
    "'/scratch/back_up/reward_competition_extention/data/omission/2023_06_18/20230618_100636_standard_comp_to_omission_D2_subj_1-4_and_1-1.rec',\n",
    "'/scratch/back_up/reward_competition_extention/data/omission/2023_06_19/20230619_115321_standard_comp_to_omission_D3_subj_1-2_and_1-4.rec',\n",
    "'/scratch/back_up/reward_competition_extention/data/omission/2023_06_20/20230620_114347_standard_comp_to_omission_D4_subj_1-2_and_1-1.rec',\n",
    "'/scratch/back_up/reward_competition_extention/data/omission/2023_06_21/20230621_111240_standard_comp_to_omission_D5_subj_1-4_and_1-2.rec'\n",
    "                   ]))"
   ]
  },
  {
   "cell_type": "markdown",
   "metadata": {
    "cell_id": "e3ee4891d43a4ac287413afc552ca289",
    "deepnote_cell_type": "text-cell-h2",
    "formattedRanges": []
   },
   "source": [
    "## Outputs"
   ]
  },
  {
   "cell_type": "markdown",
   "metadata": {
    "cell_id": "9ccbf6cc70fd4d379fa29317f733771f",
    "deepnote_cell_type": "text-cell-p",
    "formattedRanges": []
   },
   "source": [
    "Describe each output that the notebook creates. "
   ]
  },
  {
   "cell_type": "markdown",
   "metadata": {
    "cell_id": "fc8e8920a6944918a15fac575cdf6e78",
    "deepnote_cell_type": "text-cell-bullet",
    "formattedRanges": []
   },
   "source": [
    "- Is it a plot or is it data?"
   ]
  },
  {
   "cell_type": "markdown",
   "metadata": {
    "cell_id": "1e639d4776a84aa9ac8ded2e14fa57db",
    "deepnote_cell_type": "text-cell-bullet",
    "formattedRanges": []
   },
   "source": [
    "- How valuable is the output and why is it valuable or useful?"
   ]
  },
  {
   "cell_type": "markdown",
   "metadata": {},
   "source": [
    "## Functions"
   ]
  },
  {
   "cell_type": "markdown",
   "metadata": {
    "jp-MarkdownHeadingCollapsed": true
   },
   "source": [
    "- Ideally functions are defined here first and then data is processed using the functions\n",
    "    - function names are short and in snake case all lowercase\n",
    "    - a function name should be unique but does not have to describe the function\n",
    "    - doc strings describe functions not function names"
   ]
  },
  {
   "cell_type": "markdown",
   "metadata": {
    "cell_id": "8999d19b6b7d4d63bc90f0b0bd9ab085",
    "deepnote_cell_type": "text-cell-h2",
    "formattedRanges": []
   },
   "source": [
    "## Processing"
   ]
  },
  {
   "cell_type": "markdown",
   "metadata": {
    "cell_id": "9b36cdf08567463082b005cb0dec684b",
    "deepnote_cell_type": "text-cell-p",
    "formattedRanges": []
   },
   "source": [
    "Describe what is done to the data here and how inputs are manipulated to generate outputs. "
   ]
  },
  {
   "cell_type": "code",
   "execution_count": 18,
   "metadata": {
    "cell_id": "89aaba237c644628b1b37604b75e7cb1",
    "deepnote_cell_type": "code"
   },
   "outputs": [],
   "source": [
    "# As much code and as many cells as required\n",
    "# includes EDA and playing with data\n",
    "# GO HAM!"
   ]
  },
  {
   "cell_type": "code",
   "execution_count": 19,
   "metadata": {},
   "outputs": [
    {
     "data": {
      "text/html": [
       "<div>\n",
       "<style scoped>\n",
       "    .dataframe tbody tr th:only-of-type {\n",
       "        vertical-align: middle;\n",
       "    }\n",
       "\n",
       "    .dataframe tbody tr th {\n",
       "        vertical-align: top;\n",
       "    }\n",
       "\n",
       "    .dataframe thead th {\n",
       "        text-align: right;\n",
       "    }\n",
       "</style>\n",
       "<table border=\"1\" class=\"dataframe\">\n",
       "  <thead>\n",
       "    <tr style=\"text-align: right;\">\n",
       "      <th></th>\n",
       "      <th>Cohort</th>\n",
       "      <th>Subject</th>\n",
       "      <th>eib_mPFC</th>\n",
       "      <th>eib_vHPC</th>\n",
       "      <th>eib_BLA</th>\n",
       "      <th>eib_LH</th>\n",
       "      <th>eib_MD</th>\n",
       "      <th>spike_interface_mPFC</th>\n",
       "      <th>spike_interface_vHPC</th>\n",
       "      <th>spike_interface_BLA</th>\n",
       "      <th>spike_interface_LH</th>\n",
       "      <th>spike_interface_MD</th>\n",
       "    </tr>\n",
       "  </thead>\n",
       "  <tbody>\n",
       "    <tr>\n",
       "      <th>0</th>\n",
       "      <td>1</td>\n",
       "      <td>6.1</td>\n",
       "      <td>NaN</td>\n",
       "      <td>15</td>\n",
       "      <td>14</td>\n",
       "      <td>13</td>\n",
       "      <td>31</td>\n",
       "      <td>21.0</td>\n",
       "      <td>15.0</td>\n",
       "      <td>14.0</td>\n",
       "      <td>13.0</td>\n",
       "      <td>16.0</td>\n",
       "    </tr>\n",
       "    <tr>\n",
       "      <th>1</th>\n",
       "      <td>1</td>\n",
       "      <td>6.2</td>\n",
       "      <td>NaN</td>\n",
       "      <td>15</td>\n",
       "      <td>14</td>\n",
       "      <td>13</td>\n",
       "      <td>31</td>\n",
       "      <td>NaN</td>\n",
       "      <td>NaN</td>\n",
       "      <td>NaN</td>\n",
       "      <td>NaN</td>\n",
       "      <td>NaN</td>\n",
       "    </tr>\n",
       "    <tr>\n",
       "      <th>2</th>\n",
       "      <td>1</td>\n",
       "      <td>6.3</td>\n",
       "      <td>NaN</td>\n",
       "      <td>15</td>\n",
       "      <td>14</td>\n",
       "      <td>13</td>\n",
       "      <td>31</td>\n",
       "      <td>NaN</td>\n",
       "      <td>NaN</td>\n",
       "      <td>NaN</td>\n",
       "      <td>NaN</td>\n",
       "      <td>NaN</td>\n",
       "    </tr>\n",
       "    <tr>\n",
       "      <th>3</th>\n",
       "      <td>1</td>\n",
       "      <td>6.4</td>\n",
       "      <td>NaN</td>\n",
       "      <td>15</td>\n",
       "      <td>14</td>\n",
       "      <td>13</td>\n",
       "      <td>31</td>\n",
       "      <td>NaN</td>\n",
       "      <td>NaN</td>\n",
       "      <td>NaN</td>\n",
       "      <td>NaN</td>\n",
       "      <td>NaN</td>\n",
       "    </tr>\n",
       "    <tr>\n",
       "      <th>4</th>\n",
       "      <td>2</td>\n",
       "      <td>1.1</td>\n",
       "      <td>NaN</td>\n",
       "      <td>16</td>\n",
       "      <td>17</td>\n",
       "      <td>18</td>\n",
       "      <td>19</td>\n",
       "      <td>5.0</td>\n",
       "      <td>31.0</td>\n",
       "      <td>30.0</td>\n",
       "      <td>29.0</td>\n",
       "      <td>28.0</td>\n",
       "    </tr>\n",
       "    <tr>\n",
       "      <th>5</th>\n",
       "      <td>2</td>\n",
       "      <td>1.2</td>\n",
       "      <td>NaN</td>\n",
       "      <td>31</td>\n",
       "      <td>30</td>\n",
       "      <td>29</td>\n",
       "      <td>28</td>\n",
       "      <td>10.0</td>\n",
       "      <td>31.0</td>\n",
       "      <td>30.0</td>\n",
       "      <td>29.0</td>\n",
       "      <td>28.0</td>\n",
       "    </tr>\n",
       "    <tr>\n",
       "      <th>6</th>\n",
       "      <td>2</td>\n",
       "      <td>1.3</td>\n",
       "      <td>NaN</td>\n",
       "      <td>15</td>\n",
       "      <td>14</td>\n",
       "      <td>13</td>\n",
       "      <td>12</td>\n",
       "      <td>9.0</td>\n",
       "      <td>31.0</td>\n",
       "      <td>30.0</td>\n",
       "      <td>29.0</td>\n",
       "      <td>28.0</td>\n",
       "    </tr>\n",
       "    <tr>\n",
       "      <th>7</th>\n",
       "      <td>2</td>\n",
       "      <td>1.4</td>\n",
       "      <td>NaN</td>\n",
       "      <td>15</td>\n",
       "      <td>14</td>\n",
       "      <td>13</td>\n",
       "      <td>12</td>\n",
       "      <td>15.0</td>\n",
       "      <td>31.0</td>\n",
       "      <td>30.0</td>\n",
       "      <td>29.0</td>\n",
       "      <td>28.0</td>\n",
       "    </tr>\n",
       "  </tbody>\n",
       "</table>\n",
       "</div>"
      ],
      "text/plain": [
       "   Cohort Subject  eib_mPFC  eib_vHPC  eib_BLA  eib_LH  eib_MD  \\\n",
       "0       1     6.1       NaN        15       14      13      31   \n",
       "1       1     6.2       NaN        15       14      13      31   \n",
       "2       1     6.3       NaN        15       14      13      31   \n",
       "3       1     6.4       NaN        15       14      13      31   \n",
       "4       2     1.1       NaN        16       17      18      19   \n",
       "5       2     1.2       NaN        31       30      29      28   \n",
       "6       2     1.3       NaN        15       14      13      12   \n",
       "7       2     1.4       NaN        15       14      13      12   \n",
       "\n",
       "   spike_interface_mPFC  spike_interface_vHPC  spike_interface_BLA  \\\n",
       "0                  21.0                  15.0                 14.0   \n",
       "1                   NaN                   NaN                  NaN   \n",
       "2                   NaN                   NaN                  NaN   \n",
       "3                   NaN                   NaN                  NaN   \n",
       "4                   5.0                  31.0                 30.0   \n",
       "5                  10.0                  31.0                 30.0   \n",
       "6                   9.0                  31.0                 30.0   \n",
       "7                  15.0                  31.0                 30.0   \n",
       "\n",
       "   spike_interface_LH  spike_interface_MD  \n",
       "0                13.0                16.0  \n",
       "1                 NaN                 NaN  \n",
       "2                 NaN                 NaN  \n",
       "3                 NaN                 NaN  \n",
       "4                29.0                28.0  \n",
       "5                29.0                28.0  \n",
       "6                29.0                28.0  \n",
       "7                29.0                28.0  "
      ]
     },
     "execution_count": 19,
     "metadata": {},
     "output_type": "execute_result"
    }
   ],
   "source": [
    "CHANNEL_MAPPING_DF"
   ]
  },
  {
   "cell_type": "markdown",
   "metadata": {},
   "source": [
    "### Getting the subject IDs from the file name"
   ]
  },
  {
   "cell_type": "code",
   "execution_count": 20,
   "metadata": {},
   "outputs": [],
   "source": [
    "TONE_TIMESTAMP_DF = pd.read_pickle(\"./proc/trial_SLEAP_and_metadata.pkl\")\n"
   ]
  },
  {
   "cell_type": "code",
   "execution_count": 21,
   "metadata": {},
   "outputs": [],
   "source": [
    "all_trials_df = TONE_TIMESTAMP_DF.dropna(subset=\"trial_outcome\").reset_index(drop=True)"
   ]
  },
  {
   "cell_type": "markdown",
   "metadata": {},
   "source": [
    "- Original timestamps are based on ephys recordings at 20kHz. The LFP will be at 1kHz, so we will need to divide all the timestamps by 20"
   ]
  },
  {
   "cell_type": "code",
   "execution_count": 22,
   "metadata": {},
   "outputs": [],
   "source": [
    "all_trials_df[\"resampled_index\"] = all_trials_df[\"time_stamp_index\"] // 20"
   ]
  },
  {
   "cell_type": "code",
   "execution_count": 23,
   "metadata": {},
   "outputs": [
    {
     "data": {
      "text/plain": [
       "array(['20230617_115521_standard_comp_to_omission_D1_subj_1-1_and_1-2',\n",
       "       '20230618_100636_standard_comp_to_omission_D2_subj_1-4_and_1-1',\n",
       "       '20230619_115321_standard_comp_to_omission_D3_subj_1-2_and_1-4',\n",
       "       '20230620_114347_standard_comp_to_omission_D4_subj_1-2_and_1-1',\n",
       "       '20230621_111240_standard_comp_to_omission_D5_subj_1-4_and_1-2'],\n",
       "      dtype=object)"
      ]
     },
     "execution_count": 23,
     "metadata": {},
     "output_type": "execute_result"
    }
   ],
   "source": [
    "all_trials_df[\"recording_dir\"].unique()"
   ]
  },
  {
   "cell_type": "markdown",
   "metadata": {},
   "source": [
    "- Getting a list of all the subjects through the recording name"
   ]
  },
  {
   "cell_type": "code",
   "execution_count": 24,
   "metadata": {},
   "outputs": [],
   "source": [
    "all_trials_df[\"all_subjects\"] = all_trials_df[\"recording_dir\"].apply(lambda x: [\"{}.{}\".format(tup[0],tup[1]) for tup in re.findall(r'(\\d+)-(\\d+)', x.replace(\"_\", \"-\"))[1:]])"
   ]
  },
  {
   "cell_type": "code",
   "execution_count": 25,
   "metadata": {
    "scrolled": true
   },
   "outputs": [
    {
     "data": {
      "text/plain": [
       "0    [1.1, 1.2]\n",
       "1    [1.1, 1.2]\n",
       "2    [1.1, 1.2]\n",
       "3    [1.1, 1.2]\n",
       "4    [1.1, 1.2]\n",
       "Name: all_subjects, dtype: object"
      ]
     },
     "execution_count": 25,
     "metadata": {},
     "output_type": "execute_result"
    }
   ],
   "source": [
    "all_trials_df[\"all_subjects\"].head()"
   ]
  },
  {
   "cell_type": "markdown",
   "metadata": {},
   "source": [
    "- Getting the current subject of the recording through the ending of the recording name file"
   ]
  },
  {
   "cell_type": "code",
   "execution_count": 26,
   "metadata": {},
   "outputs": [
    {
     "data": {
      "text/plain": [
       "0    1-1_t1b3L_box1\n",
       "1    1-1_t1b3L_box1\n",
       "2    1-1_t1b3L_box1\n",
       "3    1-1_t1b3L_box1\n",
       "4    1-1_t1b3L_box1\n",
       "Name: subject_info, dtype: object"
      ]
     },
     "execution_count": 26,
     "metadata": {},
     "output_type": "execute_result"
    }
   ],
   "source": [
    "all_trials_df[\"subject_info\"].head()"
   ]
  },
  {
   "cell_type": "code",
   "execution_count": 27,
   "metadata": {},
   "outputs": [],
   "source": [
    "all_trials_df[\"current_subject\"] = all_trials_df[\"subject_info\"].apply(lambda x: \".\".join(x.replace(\"-\",\"_\").split(\"_\")[:2]))"
   ]
  },
  {
   "cell_type": "code",
   "execution_count": 28,
   "metadata": {},
   "outputs": [
    {
     "data": {
      "text/html": [
       "<div>\n",
       "<style scoped>\n",
       "    .dataframe tbody tr th:only-of-type {\n",
       "        vertical-align: middle;\n",
       "    }\n",
       "\n",
       "    .dataframe tbody tr th {\n",
       "        vertical-align: top;\n",
       "    }\n",
       "\n",
       "    .dataframe thead th {\n",
       "        text-align: right;\n",
       "    }\n",
       "</style>\n",
       "<table border=\"1\" class=\"dataframe\">\n",
       "  <thead>\n",
       "    <tr style=\"text-align: right;\">\n",
       "      <th></th>\n",
       "      <th>time</th>\n",
       "      <th>recording_dir</th>\n",
       "      <th>recording_file</th>\n",
       "      <th>time_stamp_index</th>\n",
       "      <th>video_file</th>\n",
       "      <th>video_frame</th>\n",
       "      <th>video_number</th>\n",
       "      <th>subject_info</th>\n",
       "      <th>competition_closeness</th>\n",
       "      <th>video_name</th>\n",
       "      <th>...</th>\n",
       "      <th>trial_thorax_velocity</th>\n",
       "      <th>trial_chunked_thorax_velocity</th>\n",
       "      <th>baseline_chunked_thorax_velocity</th>\n",
       "      <th>trial_chunked_ephys_timestamp</th>\n",
       "      <th>baseline_chunked_ephys_timestamp</th>\n",
       "      <th>trial_chunked_lfp_index</th>\n",
       "      <th>baseline_chunked_lfp_index</th>\n",
       "      <th>binned_baseline_thorax_velocity</th>\n",
       "      <th>binned_trial_thorax_velocity</th>\n",
       "      <th>resampled_index</th>\n",
       "    </tr>\n",
       "  </thead>\n",
       "  <tbody>\n",
       "    <tr>\n",
       "      <th>0</th>\n",
       "      <td>4509412</td>\n",
       "      <td>20230617_115521_standard_comp_to_omission_D1_s...</td>\n",
       "      <td>20230617_115521_standard_comp_to_omission_D1_s...</td>\n",
       "      <td>1030879</td>\n",
       "      <td>20230617_115521_standard_comp_to_omission_D1_s...</td>\n",
       "      <td>1029</td>\n",
       "      <td>1.0</td>\n",
       "      <td>1-1_t1b3L_box1</td>\n",
       "      <td>lose_comp</td>\n",
       "      <td>20230617_115521_standard_comp_to_omission_D1_s...</td>\n",
       "      <td>...</td>\n",
       "      <td>[5.854587674773412, 5.491207535476736, 5.11749...</td>\n",
       "      <td>[4.204500001605147, 6.544647570039476, 1.57793...</td>\n",
       "      <td>[1.0482043233623093, 0.31708611003393056, 0.36...</td>\n",
       "      <td>[(1030879, 1050879), (1050879, 1070879), (1070...</td>\n",
       "      <td>[(830879, 850879), (850879, 870879), (870879, ...</td>\n",
       "      <td>[(51543, 52543), (52543, 53543), (53543, 54543...</td>\n",
       "      <td>[(41543, 42543), (42543, 43543), (43543, 44543...</td>\n",
       "      <td>[0, 0, 0, 0, 0, 0, 0, 2, 2, 1]</td>\n",
       "      <td>[0, 1, 0, 0, 0, 1, 0, 0, 0, 0]</td>\n",
       "      <td>51543</td>\n",
       "    </tr>\n",
       "    <tr>\n",
       "      <th>1</th>\n",
       "      <td>6909411</td>\n",
       "      <td>20230617_115521_standard_comp_to_omission_D1_s...</td>\n",
       "      <td>20230617_115521_standard_comp_to_omission_D1_s...</td>\n",
       "      <td>3430878</td>\n",
       "      <td>20230617_115521_standard_comp_to_omission_D1_s...</td>\n",
       "      <td>3425</td>\n",
       "      <td>1.0</td>\n",
       "      <td>1-1_t1b3L_box1</td>\n",
       "      <td>win_comp</td>\n",
       "      <td>20230617_115521_standard_comp_to_omission_D1_s...</td>\n",
       "      <td>...</td>\n",
       "      <td>[2.3816625552688544, 2.3175606442761967, 2.218...</td>\n",
       "      <td>[1.5520441045782087, 4.256821128528769, 11.997...</td>\n",
       "      <td>[0.24093936568383498, 0.1201192423141825, 0.23...</td>\n",
       "      <td>[(3430878, 3450878), (3450878, 3470878), (3470...</td>\n",
       "      <td>[(3230878, 3250878), (3250878, 3270878), (3270...</td>\n",
       "      <td>[(171543, 172543), (172543, 173543), (173543, ...</td>\n",
       "      <td>[(161543, 162543), (162543, 163543), (163543, ...</td>\n",
       "      <td>[0, 0, 0, 0, 0, 0, 0, 2, 1, 0]</td>\n",
       "      <td>[0, 0, 2, 2, 0, 0, 0, 0, 0, 0]</td>\n",
       "      <td>171543</td>\n",
       "    </tr>\n",
       "    <tr>\n",
       "      <th>2</th>\n",
       "      <td>9209413</td>\n",
       "      <td>20230617_115521_standard_comp_to_omission_D1_s...</td>\n",
       "      <td>20230617_115521_standard_comp_to_omission_D1_s...</td>\n",
       "      <td>5730880</td>\n",
       "      <td>20230617_115521_standard_comp_to_omission_D1_s...</td>\n",
       "      <td>5720</td>\n",
       "      <td>1.0</td>\n",
       "      <td>1-1_t1b3L_box1</td>\n",
       "      <td>win_comp</td>\n",
       "      <td>20230617_115521_standard_comp_to_omission_D1_s...</td>\n",
       "      <td>...</td>\n",
       "      <td>[0.5555477757700004, 0.4158707933887352, 0.265...</td>\n",
       "      <td>[1.2935699563401366, 1.8336016533619215, 7.857...</td>\n",
       "      <td>[5.100726428703984, 3.878556470230757, 2.49962...</td>\n",
       "      <td>[(5730880, 5750880), (5750880, 5770880), (5770...</td>\n",
       "      <td>[(5530880, 5550880), (5550880, 5570880), (5570...</td>\n",
       "      <td>[(286544, 287544), (287544, 288544), (288544, ...</td>\n",
       "      <td>[(276544, 277544), (277544, 278544), (278544, ...</td>\n",
       "      <td>[1, 0, 0, 0, 0, 0, 0, 0, 0, 0]</td>\n",
       "      <td>[0, 0, 1, 0, 1, 0, 0, 0, 0, 0]</td>\n",
       "      <td>286544</td>\n",
       "    </tr>\n",
       "    <tr>\n",
       "      <th>3</th>\n",
       "      <td>11009410</td>\n",
       "      <td>20230617_115521_standard_comp_to_omission_D1_s...</td>\n",
       "      <td>20230617_115521_standard_comp_to_omission_D1_s...</td>\n",
       "      <td>7530877</td>\n",
       "      <td>20230617_115521_standard_comp_to_omission_D1_s...</td>\n",
       "      <td>7516</td>\n",
       "      <td>1.0</td>\n",
       "      <td>1-1_t1b3L_box1</td>\n",
       "      <td>lose_non_comp</td>\n",
       "      <td>20230617_115521_standard_comp_to_omission_D1_s...</td>\n",
       "      <td>...</td>\n",
       "      <td>[0.28520323663080543, 0.3655771428805912, 0.43...</td>\n",
       "      <td>[0.6892678457974358, 4.623066029743537, 4.8167...</td>\n",
       "      <td>[1.6265370368079863, 1.939419253786388, 0.7282...</td>\n",
       "      <td>[(7530877, 7550877), (7550877, 7570877), (7570...</td>\n",
       "      <td>[(7330877, 7350877), (7350877, 7370877), (7370...</td>\n",
       "      <td>[(376543, 377543), (377543, 378543), (378543, ...</td>\n",
       "      <td>[(366543, 367543), (367543, 368543), (368543, ...</td>\n",
       "      <td>[0, 0, 0, 0, 0, 0, 0, 0, 0, 0]</td>\n",
       "      <td>[0, 0, 0, 0, 2, 2, 0, 0, 1, 2]</td>\n",
       "      <td>376543</td>\n",
       "    </tr>\n",
       "    <tr>\n",
       "      <th>4</th>\n",
       "      <td>12109413</td>\n",
       "      <td>20230617_115521_standard_comp_to_omission_D1_s...</td>\n",
       "      <td>20230617_115521_standard_comp_to_omission_D1_s...</td>\n",
       "      <td>8630880</td>\n",
       "      <td>20230617_115521_standard_comp_to_omission_D1_s...</td>\n",
       "      <td>8615</td>\n",
       "      <td>1.0</td>\n",
       "      <td>1-1_t1b3L_box1</td>\n",
       "      <td>win_non_comp</td>\n",
       "      <td>20230617_115521_standard_comp_to_omission_D1_s...</td>\n",
       "      <td>...</td>\n",
       "      <td>[0.10093605479378118, 0.11690904896013582, 0.1...</td>\n",
       "      <td>[0.09127850278450059, 0.09571389765080775, 0.0...</td>\n",
       "      <td>[3.822843311916576, 2.0652198252227167, 2.6389...</td>\n",
       "      <td>[(8630880, 8650880), (8650880, 8670880), (8670...</td>\n",
       "      <td>[(8430880, 8450880), (8450880, 8470880), (8470...</td>\n",
       "      <td>[(431544, 432544), (432544, 433544), (433544, ...</td>\n",
       "      <td>[(421544, 422544), (422544, 423544), (423544, ...</td>\n",
       "      <td>[0, 0, 0, 0, 0, 1, 1, 1, 1, 0]</td>\n",
       "      <td>[0, 0, 0, 0, 0, 0, 0, 0, 0, 0]</td>\n",
       "      <td>431544</td>\n",
       "    </tr>\n",
       "  </tbody>\n",
       "</table>\n",
       "<p>5 rows × 62 columns</p>\n",
       "</div>"
      ],
      "text/plain": [
       "       time                                      recording_dir  \\\n",
       "0   4509412  20230617_115521_standard_comp_to_omission_D1_s...   \n",
       "1   6909411  20230617_115521_standard_comp_to_omission_D1_s...   \n",
       "2   9209413  20230617_115521_standard_comp_to_omission_D1_s...   \n",
       "3  11009410  20230617_115521_standard_comp_to_omission_D1_s...   \n",
       "4  12109413  20230617_115521_standard_comp_to_omission_D1_s...   \n",
       "\n",
       "                                      recording_file  time_stamp_index  \\\n",
       "0  20230617_115521_standard_comp_to_omission_D1_s...           1030879   \n",
       "1  20230617_115521_standard_comp_to_omission_D1_s...           3430878   \n",
       "2  20230617_115521_standard_comp_to_omission_D1_s...           5730880   \n",
       "3  20230617_115521_standard_comp_to_omission_D1_s...           7530877   \n",
       "4  20230617_115521_standard_comp_to_omission_D1_s...           8630880   \n",
       "\n",
       "                                          video_file  video_frame  \\\n",
       "0  20230617_115521_standard_comp_to_omission_D1_s...         1029   \n",
       "1  20230617_115521_standard_comp_to_omission_D1_s...         3425   \n",
       "2  20230617_115521_standard_comp_to_omission_D1_s...         5720   \n",
       "3  20230617_115521_standard_comp_to_omission_D1_s...         7516   \n",
       "4  20230617_115521_standard_comp_to_omission_D1_s...         8615   \n",
       "\n",
       "   video_number    subject_info competition_closeness  \\\n",
       "0           1.0  1-1_t1b3L_box1             lose_comp   \n",
       "1           1.0  1-1_t1b3L_box1              win_comp   \n",
       "2           1.0  1-1_t1b3L_box1              win_comp   \n",
       "3           1.0  1-1_t1b3L_box1         lose_non_comp   \n",
       "4           1.0  1-1_t1b3L_box1          win_non_comp   \n",
       "\n",
       "                                          video_name  ...  \\\n",
       "0  20230617_115521_standard_comp_to_omission_D1_s...  ...   \n",
       "1  20230617_115521_standard_comp_to_omission_D1_s...  ...   \n",
       "2  20230617_115521_standard_comp_to_omission_D1_s...  ...   \n",
       "3  20230617_115521_standard_comp_to_omission_D1_s...  ...   \n",
       "4  20230617_115521_standard_comp_to_omission_D1_s...  ...   \n",
       "\n",
       "                               trial_thorax_velocity  \\\n",
       "0  [5.854587674773412, 5.491207535476736, 5.11749...   \n",
       "1  [2.3816625552688544, 2.3175606442761967, 2.218...   \n",
       "2  [0.5555477757700004, 0.4158707933887352, 0.265...   \n",
       "3  [0.28520323663080543, 0.3655771428805912, 0.43...   \n",
       "4  [0.10093605479378118, 0.11690904896013582, 0.1...   \n",
       "\n",
       "                       trial_chunked_thorax_velocity  \\\n",
       "0  [4.204500001605147, 6.544647570039476, 1.57793...   \n",
       "1  [1.5520441045782087, 4.256821128528769, 11.997...   \n",
       "2  [1.2935699563401366, 1.8336016533619215, 7.857...   \n",
       "3  [0.6892678457974358, 4.623066029743537, 4.8167...   \n",
       "4  [0.09127850278450059, 0.09571389765080775, 0.0...   \n",
       "\n",
       "                    baseline_chunked_thorax_velocity  \\\n",
       "0  [1.0482043233623093, 0.31708611003393056, 0.36...   \n",
       "1  [0.24093936568383498, 0.1201192423141825, 0.23...   \n",
       "2  [5.100726428703984, 3.878556470230757, 2.49962...   \n",
       "3  [1.6265370368079863, 1.939419253786388, 0.7282...   \n",
       "4  [3.822843311916576, 2.0652198252227167, 2.6389...   \n",
       "\n",
       "                       trial_chunked_ephys_timestamp  \\\n",
       "0  [(1030879, 1050879), (1050879, 1070879), (1070...   \n",
       "1  [(3430878, 3450878), (3450878, 3470878), (3470...   \n",
       "2  [(5730880, 5750880), (5750880, 5770880), (5770...   \n",
       "3  [(7530877, 7550877), (7550877, 7570877), (7570...   \n",
       "4  [(8630880, 8650880), (8650880, 8670880), (8670...   \n",
       "\n",
       "                    baseline_chunked_ephys_timestamp  \\\n",
       "0  [(830879, 850879), (850879, 870879), (870879, ...   \n",
       "1  [(3230878, 3250878), (3250878, 3270878), (3270...   \n",
       "2  [(5530880, 5550880), (5550880, 5570880), (5570...   \n",
       "3  [(7330877, 7350877), (7350877, 7370877), (7370...   \n",
       "4  [(8430880, 8450880), (8450880, 8470880), (8470...   \n",
       "\n",
       "                             trial_chunked_lfp_index  \\\n",
       "0  [(51543, 52543), (52543, 53543), (53543, 54543...   \n",
       "1  [(171543, 172543), (172543, 173543), (173543, ...   \n",
       "2  [(286544, 287544), (287544, 288544), (288544, ...   \n",
       "3  [(376543, 377543), (377543, 378543), (378543, ...   \n",
       "4  [(431544, 432544), (432544, 433544), (433544, ...   \n",
       "\n",
       "                          baseline_chunked_lfp_index  \\\n",
       "0  [(41543, 42543), (42543, 43543), (43543, 44543...   \n",
       "1  [(161543, 162543), (162543, 163543), (163543, ...   \n",
       "2  [(276544, 277544), (277544, 278544), (278544, ...   \n",
       "3  [(366543, 367543), (367543, 368543), (368543, ...   \n",
       "4  [(421544, 422544), (422544, 423544), (423544, ...   \n",
       "\n",
       "  binned_baseline_thorax_velocity    binned_trial_thorax_velocity  \\\n",
       "0  [0, 0, 0, 0, 0, 0, 0, 2, 2, 1]  [0, 1, 0, 0, 0, 1, 0, 0, 0, 0]   \n",
       "1  [0, 0, 0, 0, 0, 0, 0, 2, 1, 0]  [0, 0, 2, 2, 0, 0, 0, 0, 0, 0]   \n",
       "2  [1, 0, 0, 0, 0, 0, 0, 0, 0, 0]  [0, 0, 1, 0, 1, 0, 0, 0, 0, 0]   \n",
       "3  [0, 0, 0, 0, 0, 0, 0, 0, 0, 0]  [0, 0, 0, 0, 2, 2, 0, 0, 1, 2]   \n",
       "4  [0, 0, 0, 0, 0, 1, 1, 1, 1, 0]  [0, 0, 0, 0, 0, 0, 0, 0, 0, 0]   \n",
       "\n",
       "  resampled_index  \n",
       "0           51543  \n",
       "1          171543  \n",
       "2          286544  \n",
       "3          376543  \n",
       "4          431544  \n",
       "\n",
       "[5 rows x 62 columns]"
      ]
     },
     "execution_count": 28,
     "metadata": {},
     "output_type": "execute_result"
    }
   ],
   "source": [
    "all_trials_df.head()"
   ]
  },
  {
   "cell_type": "code",
   "execution_count": 29,
   "metadata": {},
   "outputs": [
    {
     "data": {
      "text/plain": [
       "Index(['time', 'recording_dir', 'recording_file', 'time_stamp_index',\n",
       "       'video_file', 'video_frame', 'video_number', 'subject_info',\n",
       "       'competition_closeness', 'video_name', 'all_subjects',\n",
       "       'current_subject', 'trial_outcome', 'lfp_index',\n",
       "       'baseline_lfp_timestamp_range', 'trial_lfp_timestamp_range',\n",
       "       'baseline_ephys_timestamp_range', 'trial_ephys_timestamp_range',\n",
       "       'baseline_videoframe_range', 'trial_videoframe_range', 'trial_number',\n",
       "       'Cohort', 'spike_interface_mPFC', 'spike_interface_vHPC',\n",
       "       'spike_interface_BLA', 'spike_interface_LH', 'spike_interface_MD',\n",
       "       'file_path', 'start_frame', 'stop_frame', 'individual_subj', 'all_subj',\n",
       "       'recording_name', 'track_names', 'subject_id', 'corner_path',\n",
       "       'corner_parts', 'bottom_width', 'top_width', 'right_height',\n",
       "       'left_height', 'average_height', 'average_width', 'width_ratio',\n",
       "       'height_ratio', 'rescaled_locations', 'box_top_left', 'box_bottom_left',\n",
       "       'box_bottom_right', 'reward_port', 'box_top_right',\n",
       "       'baseline_thorax_velocity', 'trial_thorax_velocity',\n",
       "       'trial_chunked_thorax_velocity', 'baseline_chunked_thorax_velocity',\n",
       "       'trial_chunked_ephys_timestamp', 'baseline_chunked_ephys_timestamp',\n",
       "       'trial_chunked_lfp_index', 'baseline_chunked_lfp_index',\n",
       "       'binned_baseline_thorax_velocity', 'binned_trial_thorax_velocity',\n",
       "       'resampled_index'],\n",
       "      dtype='object')"
      ]
     },
     "execution_count": 29,
     "metadata": {},
     "output_type": "execute_result"
    }
   ],
   "source": [
    "all_trials_df.columns"
   ]
  },
  {
   "cell_type": "code",
   "execution_count": 30,
   "metadata": {},
   "outputs": [
    {
     "data": {
      "text/plain": [
       "array(['lose', 'win', 'rewarded', 'omission'], dtype=object)"
      ]
     },
     "execution_count": 30,
     "metadata": {},
     "output_type": "execute_result"
    }
   ],
   "source": [
    "all_trials_df[\"trial_outcome\"].unique()"
   ]
  },
  {
   "cell_type": "markdown",
   "metadata": {},
   "source": [
    "- Labeling the trial as a winner or loser if the winner matches the subject id or not"
   ]
  },
  {
   "cell_type": "code",
   "execution_count": 31,
   "metadata": {},
   "outputs": [
    {
     "data": {
      "text/html": [
       "<div>\n",
       "<style scoped>\n",
       "    .dataframe tbody tr th:only-of-type {\n",
       "        vertical-align: middle;\n",
       "    }\n",
       "\n",
       "    .dataframe tbody tr th {\n",
       "        vertical-align: top;\n",
       "    }\n",
       "\n",
       "    .dataframe thead th {\n",
       "        text-align: right;\n",
       "    }\n",
       "</style>\n",
       "<table border=\"1\" class=\"dataframe\">\n",
       "  <thead>\n",
       "    <tr style=\"text-align: right;\">\n",
       "      <th></th>\n",
       "      <th>time</th>\n",
       "      <th>recording_dir</th>\n",
       "      <th>recording_file</th>\n",
       "      <th>time_stamp_index</th>\n",
       "      <th>video_file</th>\n",
       "      <th>video_frame</th>\n",
       "      <th>video_number</th>\n",
       "      <th>subject_info</th>\n",
       "      <th>competition_closeness</th>\n",
       "      <th>video_name</th>\n",
       "      <th>...</th>\n",
       "      <th>trial_thorax_velocity</th>\n",
       "      <th>trial_chunked_thorax_velocity</th>\n",
       "      <th>baseline_chunked_thorax_velocity</th>\n",
       "      <th>trial_chunked_ephys_timestamp</th>\n",
       "      <th>baseline_chunked_ephys_timestamp</th>\n",
       "      <th>trial_chunked_lfp_index</th>\n",
       "      <th>baseline_chunked_lfp_index</th>\n",
       "      <th>binned_baseline_thorax_velocity</th>\n",
       "      <th>binned_trial_thorax_velocity</th>\n",
       "      <th>resampled_index</th>\n",
       "    </tr>\n",
       "  </thead>\n",
       "  <tbody>\n",
       "    <tr>\n",
       "      <th>0</th>\n",
       "      <td>4509412</td>\n",
       "      <td>20230617_115521_standard_comp_to_omission_D1_s...</td>\n",
       "      <td>20230617_115521_standard_comp_to_omission_D1_s...</td>\n",
       "      <td>1030879</td>\n",
       "      <td>20230617_115521_standard_comp_to_omission_D1_s...</td>\n",
       "      <td>1029</td>\n",
       "      <td>1.0</td>\n",
       "      <td>1-1_t1b3L_box1</td>\n",
       "      <td>lose_comp</td>\n",
       "      <td>20230617_115521_standard_comp_to_omission_D1_s...</td>\n",
       "      <td>...</td>\n",
       "      <td>[5.854587674773412, 5.491207535476736, 5.11749...</td>\n",
       "      <td>[4.204500001605147, 6.544647570039476, 1.57793...</td>\n",
       "      <td>[1.0482043233623093, 0.31708611003393056, 0.36...</td>\n",
       "      <td>[(1030879, 1050879), (1050879, 1070879), (1070...</td>\n",
       "      <td>[(830879, 850879), (850879, 870879), (870879, ...</td>\n",
       "      <td>[(51543, 52543), (52543, 53543), (53543, 54543...</td>\n",
       "      <td>[(41543, 42543), (42543, 43543), (43543, 44543...</td>\n",
       "      <td>[0, 0, 0, 0, 0, 0, 0, 2, 2, 1]</td>\n",
       "      <td>[0, 1, 0, 0, 0, 1, 0, 0, 0, 0]</td>\n",
       "      <td>51543</td>\n",
       "    </tr>\n",
       "    <tr>\n",
       "      <th>1</th>\n",
       "      <td>6909411</td>\n",
       "      <td>20230617_115521_standard_comp_to_omission_D1_s...</td>\n",
       "      <td>20230617_115521_standard_comp_to_omission_D1_s...</td>\n",
       "      <td>3430878</td>\n",
       "      <td>20230617_115521_standard_comp_to_omission_D1_s...</td>\n",
       "      <td>3425</td>\n",
       "      <td>1.0</td>\n",
       "      <td>1-1_t1b3L_box1</td>\n",
       "      <td>win_comp</td>\n",
       "      <td>20230617_115521_standard_comp_to_omission_D1_s...</td>\n",
       "      <td>...</td>\n",
       "      <td>[2.3816625552688544, 2.3175606442761967, 2.218...</td>\n",
       "      <td>[1.5520441045782087, 4.256821128528769, 11.997...</td>\n",
       "      <td>[0.24093936568383498, 0.1201192423141825, 0.23...</td>\n",
       "      <td>[(3430878, 3450878), (3450878, 3470878), (3470...</td>\n",
       "      <td>[(3230878, 3250878), (3250878, 3270878), (3270...</td>\n",
       "      <td>[(171543, 172543), (172543, 173543), (173543, ...</td>\n",
       "      <td>[(161543, 162543), (162543, 163543), (163543, ...</td>\n",
       "      <td>[0, 0, 0, 0, 0, 0, 0, 2, 1, 0]</td>\n",
       "      <td>[0, 0, 2, 2, 0, 0, 0, 0, 0, 0]</td>\n",
       "      <td>171543</td>\n",
       "    </tr>\n",
       "    <tr>\n",
       "      <th>2</th>\n",
       "      <td>9209413</td>\n",
       "      <td>20230617_115521_standard_comp_to_omission_D1_s...</td>\n",
       "      <td>20230617_115521_standard_comp_to_omission_D1_s...</td>\n",
       "      <td>5730880</td>\n",
       "      <td>20230617_115521_standard_comp_to_omission_D1_s...</td>\n",
       "      <td>5720</td>\n",
       "      <td>1.0</td>\n",
       "      <td>1-1_t1b3L_box1</td>\n",
       "      <td>win_comp</td>\n",
       "      <td>20230617_115521_standard_comp_to_omission_D1_s...</td>\n",
       "      <td>...</td>\n",
       "      <td>[0.5555477757700004, 0.4158707933887352, 0.265...</td>\n",
       "      <td>[1.2935699563401366, 1.8336016533619215, 7.857...</td>\n",
       "      <td>[5.100726428703984, 3.878556470230757, 2.49962...</td>\n",
       "      <td>[(5730880, 5750880), (5750880, 5770880), (5770...</td>\n",
       "      <td>[(5530880, 5550880), (5550880, 5570880), (5570...</td>\n",
       "      <td>[(286544, 287544), (287544, 288544), (288544, ...</td>\n",
       "      <td>[(276544, 277544), (277544, 278544), (278544, ...</td>\n",
       "      <td>[1, 0, 0, 0, 0, 0, 0, 0, 0, 0]</td>\n",
       "      <td>[0, 0, 1, 0, 1, 0, 0, 0, 0, 0]</td>\n",
       "      <td>286544</td>\n",
       "    </tr>\n",
       "    <tr>\n",
       "      <th>3</th>\n",
       "      <td>11009410</td>\n",
       "      <td>20230617_115521_standard_comp_to_omission_D1_s...</td>\n",
       "      <td>20230617_115521_standard_comp_to_omission_D1_s...</td>\n",
       "      <td>7530877</td>\n",
       "      <td>20230617_115521_standard_comp_to_omission_D1_s...</td>\n",
       "      <td>7516</td>\n",
       "      <td>1.0</td>\n",
       "      <td>1-1_t1b3L_box1</td>\n",
       "      <td>lose_non_comp</td>\n",
       "      <td>20230617_115521_standard_comp_to_omission_D1_s...</td>\n",
       "      <td>...</td>\n",
       "      <td>[0.28520323663080543, 0.3655771428805912, 0.43...</td>\n",
       "      <td>[0.6892678457974358, 4.623066029743537, 4.8167...</td>\n",
       "      <td>[1.6265370368079863, 1.939419253786388, 0.7282...</td>\n",
       "      <td>[(7530877, 7550877), (7550877, 7570877), (7570...</td>\n",
       "      <td>[(7330877, 7350877), (7350877, 7370877), (7370...</td>\n",
       "      <td>[(376543, 377543), (377543, 378543), (378543, ...</td>\n",
       "      <td>[(366543, 367543), (367543, 368543), (368543, ...</td>\n",
       "      <td>[0, 0, 0, 0, 0, 0, 0, 0, 0, 0]</td>\n",
       "      <td>[0, 0, 0, 0, 2, 2, 0, 0, 1, 2]</td>\n",
       "      <td>376543</td>\n",
       "    </tr>\n",
       "    <tr>\n",
       "      <th>4</th>\n",
       "      <td>12109413</td>\n",
       "      <td>20230617_115521_standard_comp_to_omission_D1_s...</td>\n",
       "      <td>20230617_115521_standard_comp_to_omission_D1_s...</td>\n",
       "      <td>8630880</td>\n",
       "      <td>20230617_115521_standard_comp_to_omission_D1_s...</td>\n",
       "      <td>8615</td>\n",
       "      <td>1.0</td>\n",
       "      <td>1-1_t1b3L_box1</td>\n",
       "      <td>win_non_comp</td>\n",
       "      <td>20230617_115521_standard_comp_to_omission_D1_s...</td>\n",
       "      <td>...</td>\n",
       "      <td>[0.10093605479378118, 0.11690904896013582, 0.1...</td>\n",
       "      <td>[0.09127850278450059, 0.09571389765080775, 0.0...</td>\n",
       "      <td>[3.822843311916576, 2.0652198252227167, 2.6389...</td>\n",
       "      <td>[(8630880, 8650880), (8650880, 8670880), (8670...</td>\n",
       "      <td>[(8430880, 8450880), (8450880, 8470880), (8470...</td>\n",
       "      <td>[(431544, 432544), (432544, 433544), (433544, ...</td>\n",
       "      <td>[(421544, 422544), (422544, 423544), (423544, ...</td>\n",
       "      <td>[0, 0, 0, 0, 0, 1, 1, 1, 1, 0]</td>\n",
       "      <td>[0, 0, 0, 0, 0, 0, 0, 0, 0, 0]</td>\n",
       "      <td>431544</td>\n",
       "    </tr>\n",
       "  </tbody>\n",
       "</table>\n",
       "<p>5 rows × 62 columns</p>\n",
       "</div>"
      ],
      "text/plain": [
       "       time                                      recording_dir  \\\n",
       "0   4509412  20230617_115521_standard_comp_to_omission_D1_s...   \n",
       "1   6909411  20230617_115521_standard_comp_to_omission_D1_s...   \n",
       "2   9209413  20230617_115521_standard_comp_to_omission_D1_s...   \n",
       "3  11009410  20230617_115521_standard_comp_to_omission_D1_s...   \n",
       "4  12109413  20230617_115521_standard_comp_to_omission_D1_s...   \n",
       "\n",
       "                                      recording_file  time_stamp_index  \\\n",
       "0  20230617_115521_standard_comp_to_omission_D1_s...           1030879   \n",
       "1  20230617_115521_standard_comp_to_omission_D1_s...           3430878   \n",
       "2  20230617_115521_standard_comp_to_omission_D1_s...           5730880   \n",
       "3  20230617_115521_standard_comp_to_omission_D1_s...           7530877   \n",
       "4  20230617_115521_standard_comp_to_omission_D1_s...           8630880   \n",
       "\n",
       "                                          video_file  video_frame  \\\n",
       "0  20230617_115521_standard_comp_to_omission_D1_s...         1029   \n",
       "1  20230617_115521_standard_comp_to_omission_D1_s...         3425   \n",
       "2  20230617_115521_standard_comp_to_omission_D1_s...         5720   \n",
       "3  20230617_115521_standard_comp_to_omission_D1_s...         7516   \n",
       "4  20230617_115521_standard_comp_to_omission_D1_s...         8615   \n",
       "\n",
       "   video_number    subject_info competition_closeness  \\\n",
       "0           1.0  1-1_t1b3L_box1             lose_comp   \n",
       "1           1.0  1-1_t1b3L_box1              win_comp   \n",
       "2           1.0  1-1_t1b3L_box1              win_comp   \n",
       "3           1.0  1-1_t1b3L_box1         lose_non_comp   \n",
       "4           1.0  1-1_t1b3L_box1          win_non_comp   \n",
       "\n",
       "                                          video_name  ...  \\\n",
       "0  20230617_115521_standard_comp_to_omission_D1_s...  ...   \n",
       "1  20230617_115521_standard_comp_to_omission_D1_s...  ...   \n",
       "2  20230617_115521_standard_comp_to_omission_D1_s...  ...   \n",
       "3  20230617_115521_standard_comp_to_omission_D1_s...  ...   \n",
       "4  20230617_115521_standard_comp_to_omission_D1_s...  ...   \n",
       "\n",
       "                               trial_thorax_velocity  \\\n",
       "0  [5.854587674773412, 5.491207535476736, 5.11749...   \n",
       "1  [2.3816625552688544, 2.3175606442761967, 2.218...   \n",
       "2  [0.5555477757700004, 0.4158707933887352, 0.265...   \n",
       "3  [0.28520323663080543, 0.3655771428805912, 0.43...   \n",
       "4  [0.10093605479378118, 0.11690904896013582, 0.1...   \n",
       "\n",
       "                       trial_chunked_thorax_velocity  \\\n",
       "0  [4.204500001605147, 6.544647570039476, 1.57793...   \n",
       "1  [1.5520441045782087, 4.256821128528769, 11.997...   \n",
       "2  [1.2935699563401366, 1.8336016533619215, 7.857...   \n",
       "3  [0.6892678457974358, 4.623066029743537, 4.8167...   \n",
       "4  [0.09127850278450059, 0.09571389765080775, 0.0...   \n",
       "\n",
       "                    baseline_chunked_thorax_velocity  \\\n",
       "0  [1.0482043233623093, 0.31708611003393056, 0.36...   \n",
       "1  [0.24093936568383498, 0.1201192423141825, 0.23...   \n",
       "2  [5.100726428703984, 3.878556470230757, 2.49962...   \n",
       "3  [1.6265370368079863, 1.939419253786388, 0.7282...   \n",
       "4  [3.822843311916576, 2.0652198252227167, 2.6389...   \n",
       "\n",
       "                       trial_chunked_ephys_timestamp  \\\n",
       "0  [(1030879, 1050879), (1050879, 1070879), (1070...   \n",
       "1  [(3430878, 3450878), (3450878, 3470878), (3470...   \n",
       "2  [(5730880, 5750880), (5750880, 5770880), (5770...   \n",
       "3  [(7530877, 7550877), (7550877, 7570877), (7570...   \n",
       "4  [(8630880, 8650880), (8650880, 8670880), (8670...   \n",
       "\n",
       "                    baseline_chunked_ephys_timestamp  \\\n",
       "0  [(830879, 850879), (850879, 870879), (870879, ...   \n",
       "1  [(3230878, 3250878), (3250878, 3270878), (3270...   \n",
       "2  [(5530880, 5550880), (5550880, 5570880), (5570...   \n",
       "3  [(7330877, 7350877), (7350877, 7370877), (7370...   \n",
       "4  [(8430880, 8450880), (8450880, 8470880), (8470...   \n",
       "\n",
       "                             trial_chunked_lfp_index  \\\n",
       "0  [(51543, 52543), (52543, 53543), (53543, 54543...   \n",
       "1  [(171543, 172543), (172543, 173543), (173543, ...   \n",
       "2  [(286544, 287544), (287544, 288544), (288544, ...   \n",
       "3  [(376543, 377543), (377543, 378543), (378543, ...   \n",
       "4  [(431544, 432544), (432544, 433544), (433544, ...   \n",
       "\n",
       "                          baseline_chunked_lfp_index  \\\n",
       "0  [(41543, 42543), (42543, 43543), (43543, 44543...   \n",
       "1  [(161543, 162543), (162543, 163543), (163543, ...   \n",
       "2  [(276544, 277544), (277544, 278544), (278544, ...   \n",
       "3  [(366543, 367543), (367543, 368543), (368543, ...   \n",
       "4  [(421544, 422544), (422544, 423544), (423544, ...   \n",
       "\n",
       "  binned_baseline_thorax_velocity    binned_trial_thorax_velocity  \\\n",
       "0  [0, 0, 0, 0, 0, 0, 0, 2, 2, 1]  [0, 1, 0, 0, 0, 1, 0, 0, 0, 0]   \n",
       "1  [0, 0, 0, 0, 0, 0, 0, 2, 1, 0]  [0, 0, 2, 2, 0, 0, 0, 0, 0, 0]   \n",
       "2  [1, 0, 0, 0, 0, 0, 0, 0, 0, 0]  [0, 0, 1, 0, 1, 0, 0, 0, 0, 0]   \n",
       "3  [0, 0, 0, 0, 0, 0, 0, 0, 0, 0]  [0, 0, 0, 0, 2, 2, 0, 0, 1, 2]   \n",
       "4  [0, 0, 0, 0, 0, 1, 1, 1, 1, 0]  [0, 0, 0, 0, 0, 0, 0, 0, 0, 0]   \n",
       "\n",
       "  resampled_index  \n",
       "0           51543  \n",
       "1          171543  \n",
       "2          286544  \n",
       "3          376543  \n",
       "4          431544  \n",
       "\n",
       "[5 rows x 62 columns]"
      ]
     },
     "execution_count": 31,
     "metadata": {},
     "output_type": "execute_result"
    }
   ],
   "source": [
    "all_trials_df.head()"
   ]
  },
  {
   "cell_type": "code",
   "execution_count": 32,
   "metadata": {},
   "outputs": [],
   "source": [
    "competition_closeness_map = {k: \"non_comp\" if \"only\" in str(k).lower() else \"comp\" if type(k) is str else np.nan for k in all_trials_df[\"competition_closeness\"].unique()}"
   ]
  },
  {
   "cell_type": "code",
   "execution_count": 33,
   "metadata": {
    "scrolled": true
   },
   "outputs": [
    {
     "data": {
      "text/plain": [
       "{'lose_comp': 'comp',\n",
       " 'win_comp': 'comp',\n",
       " 'lose_non_comp': 'comp',\n",
       " 'win_non_comp': 'comp',\n",
       " 'rewarded': 'comp',\n",
       " 'omission': 'comp'}"
      ]
     },
     "execution_count": 33,
     "metadata": {},
     "output_type": "execute_result"
    }
   ],
   "source": [
    "competition_closeness_map"
   ]
  },
  {
   "cell_type": "code",
   "execution_count": 34,
   "metadata": {},
   "outputs": [],
   "source": [
    "all_trials_df[\"competition_closeness\"] = all_trials_df[\"competition_closeness\"].map(competition_closeness_map)"
   ]
  },
  {
   "cell_type": "code",
   "execution_count": 35,
   "metadata": {},
   "outputs": [
    {
     "data": {
      "text/plain": [
       "0      comp\n",
       "1      comp\n",
       "2      comp\n",
       "3      comp\n",
       "4      comp\n",
       "       ... \n",
       "235    comp\n",
       "236    comp\n",
       "237    comp\n",
       "238    comp\n",
       "239    comp\n",
       "Name: competition_closeness, Length: 240, dtype: object"
      ]
     },
     "execution_count": 35,
     "metadata": {},
     "output_type": "execute_result"
    }
   ],
   "source": [
    "all_trials_df[\"competition_closeness\"]"
   ]
  },
  {
   "cell_type": "code",
   "execution_count": 36,
   "metadata": {},
   "outputs": [],
   "source": [
    "all_trials_df[\"competition_closeness\"] = all_trials_df.apply(lambda x: \"_\".join([str(x[\"trial_outcome\"]), str(x[\"competition_closeness\"])]).strip(\"nan\").strip(\"_\"), axis=1)"
   ]
  },
  {
   "cell_type": "markdown",
   "metadata": {},
   "source": [
    "### Extracting the LFP"
   ]
  },
  {
   "cell_type": "code",
   "execution_count": 37,
   "metadata": {},
   "outputs": [
    {
     "name": "stdout",
     "output_type": "stream",
     "text": [
      "20230620_114347_standard_comp_to_omission_D4_subj_1-1_t1b2L_box_2_merged\n",
      "20230620_114347_standard_comp_to_omission_D4_subj_1-2_t3b3L_box_1_merged\n",
      "20230621_111240_standard_comp_to_omission_D5_subj_1-4_t3b3L_box1_merged\n",
      "20230618_100636_standard_comp_to_omission_D2_subj_1_4_t4b3L_box1_merged\n",
      "20230618_100636_standard_comp_to_omission_D2_subj_1_1_t1b2L_box2_merged\n",
      "20230617_115521_standard_comp_to_omission_D1_subj_1-2_t2b2L_box2_merged\n",
      "20230617_115521_standard_comp_to_omission_D1_subj_1-1_t1b3L_box1_merged\n",
      "20230619_115321_standard_comp_to_omission_D3_subj_1-4_t3b3L_box2_merged\n"
     ]
    }
   ],
   "source": [
    "recording_name_to_all_ch_lfp = {}\n",
    "# Going through all the recording sessions \n",
    "for session_dir in ALL_SESSION_DIR:\n",
    "    # Going through all the recordings in each session\n",
    "    for recording_path in glob.glob(os.path.join(session_dir, \"*.rec\")):\n",
    "        try:\n",
    "            recording_basename = os.path.splitext(os.path.basename(recording_path))[0]\n",
    "            # checking to see if the recording has an ECU component\n",
    "            # if it doesn't, then the next one be extracted\n",
    "            current_recording = se.read_spikegadgets(recording_path, stream_id=\"ECU\")\n",
    "            current_recording = se.read_spikegadgets(recording_path, stream_id=\"trodes\")\n",
    "            print(recording_basename)\n",
    "            # Preprocessing the LFP\n",
    "            current_recording = sp.bandpass_filter(current_recording, freq_min=0.5, freq_max=300)\n",
    "            current_recording = sp.notch_filter(current_recording, freq=60)\n",
    "            current_recording = sp.resample(current_recording, resample_rate=1000)\n",
    "            current_recording = sp.zscore(current_recording)\n",
    "            recording_name_to_all_ch_lfp[recording_basename] = current_recording\n",
    "        except:\n",
    "            pass\n",
    "\n"
   ]
  },
  {
   "cell_type": "markdown",
   "metadata": {},
   "source": [
    "- Filtering for all trials that have labels"
   ]
  },
  {
   "cell_type": "code",
   "execution_count": 38,
   "metadata": {},
   "outputs": [],
   "source": [
    "all_trials_df = all_trials_df[all_trials_df[\"recording_file\"].isin(recording_name_to_all_ch_lfp.keys())].reset_index(drop=True)"
   ]
  },
  {
   "cell_type": "code",
   "execution_count": 39,
   "metadata": {
    "scrolled": true
   },
   "outputs": [
    {
     "data": {
      "text/html": [
       "<div>\n",
       "<style scoped>\n",
       "    .dataframe tbody tr th:only-of-type {\n",
       "        vertical-align: middle;\n",
       "    }\n",
       "\n",
       "    .dataframe tbody tr th {\n",
       "        vertical-align: top;\n",
       "    }\n",
       "\n",
       "    .dataframe thead th {\n",
       "        text-align: right;\n",
       "    }\n",
       "</style>\n",
       "<table border=\"1\" class=\"dataframe\">\n",
       "  <thead>\n",
       "    <tr style=\"text-align: right;\">\n",
       "      <th></th>\n",
       "      <th>time</th>\n",
       "      <th>recording_dir</th>\n",
       "      <th>recording_file</th>\n",
       "      <th>time_stamp_index</th>\n",
       "      <th>video_file</th>\n",
       "      <th>video_frame</th>\n",
       "      <th>video_number</th>\n",
       "      <th>subject_info</th>\n",
       "      <th>competition_closeness</th>\n",
       "      <th>video_name</th>\n",
       "      <th>...</th>\n",
       "      <th>trial_thorax_velocity</th>\n",
       "      <th>trial_chunked_thorax_velocity</th>\n",
       "      <th>baseline_chunked_thorax_velocity</th>\n",
       "      <th>trial_chunked_ephys_timestamp</th>\n",
       "      <th>baseline_chunked_ephys_timestamp</th>\n",
       "      <th>trial_chunked_lfp_index</th>\n",
       "      <th>baseline_chunked_lfp_index</th>\n",
       "      <th>binned_baseline_thorax_velocity</th>\n",
       "      <th>binned_trial_thorax_velocity</th>\n",
       "      <th>resampled_index</th>\n",
       "    </tr>\n",
       "  </thead>\n",
       "  <tbody>\n",
       "    <tr>\n",
       "      <th>0</th>\n",
       "      <td>4509412</td>\n",
       "      <td>20230617_115521_standard_comp_to_omission_D1_s...</td>\n",
       "      <td>20230617_115521_standard_comp_to_omission_D1_s...</td>\n",
       "      <td>1030879</td>\n",
       "      <td>20230617_115521_standard_comp_to_omission_D1_s...</td>\n",
       "      <td>1029</td>\n",
       "      <td>1.0</td>\n",
       "      <td>1-1_t1b3L_box1</td>\n",
       "      <td>lose_comp</td>\n",
       "      <td>20230617_115521_standard_comp_to_omission_D1_s...</td>\n",
       "      <td>...</td>\n",
       "      <td>[5.854587674773412, 5.491207535476736, 5.11749...</td>\n",
       "      <td>[4.204500001605147, 6.544647570039476, 1.57793...</td>\n",
       "      <td>[1.0482043233623093, 0.31708611003393056, 0.36...</td>\n",
       "      <td>[(1030879, 1050879), (1050879, 1070879), (1070...</td>\n",
       "      <td>[(830879, 850879), (850879, 870879), (870879, ...</td>\n",
       "      <td>[(51543, 52543), (52543, 53543), (53543, 54543...</td>\n",
       "      <td>[(41543, 42543), (42543, 43543), (43543, 44543...</td>\n",
       "      <td>[0, 0, 0, 0, 0, 0, 0, 2, 2, 1]</td>\n",
       "      <td>[0, 1, 0, 0, 0, 1, 0, 0, 0, 0]</td>\n",
       "      <td>51543</td>\n",
       "    </tr>\n",
       "    <tr>\n",
       "      <th>1</th>\n",
       "      <td>6909411</td>\n",
       "      <td>20230617_115521_standard_comp_to_omission_D1_s...</td>\n",
       "      <td>20230617_115521_standard_comp_to_omission_D1_s...</td>\n",
       "      <td>3430878</td>\n",
       "      <td>20230617_115521_standard_comp_to_omission_D1_s...</td>\n",
       "      <td>3425</td>\n",
       "      <td>1.0</td>\n",
       "      <td>1-1_t1b3L_box1</td>\n",
       "      <td>win_comp</td>\n",
       "      <td>20230617_115521_standard_comp_to_omission_D1_s...</td>\n",
       "      <td>...</td>\n",
       "      <td>[2.3816625552688544, 2.3175606442761967, 2.218...</td>\n",
       "      <td>[1.5520441045782087, 4.256821128528769, 11.997...</td>\n",
       "      <td>[0.24093936568383498, 0.1201192423141825, 0.23...</td>\n",
       "      <td>[(3430878, 3450878), (3450878, 3470878), (3470...</td>\n",
       "      <td>[(3230878, 3250878), (3250878, 3270878), (3270...</td>\n",
       "      <td>[(171543, 172543), (172543, 173543), (173543, ...</td>\n",
       "      <td>[(161543, 162543), (162543, 163543), (163543, ...</td>\n",
       "      <td>[0, 0, 0, 0, 0, 0, 0, 2, 1, 0]</td>\n",
       "      <td>[0, 0, 2, 2, 0, 0, 0, 0, 0, 0]</td>\n",
       "      <td>171543</td>\n",
       "    </tr>\n",
       "    <tr>\n",
       "      <th>2</th>\n",
       "      <td>9209413</td>\n",
       "      <td>20230617_115521_standard_comp_to_omission_D1_s...</td>\n",
       "      <td>20230617_115521_standard_comp_to_omission_D1_s...</td>\n",
       "      <td>5730880</td>\n",
       "      <td>20230617_115521_standard_comp_to_omission_D1_s...</td>\n",
       "      <td>5720</td>\n",
       "      <td>1.0</td>\n",
       "      <td>1-1_t1b3L_box1</td>\n",
       "      <td>win_comp</td>\n",
       "      <td>20230617_115521_standard_comp_to_omission_D1_s...</td>\n",
       "      <td>...</td>\n",
       "      <td>[0.5555477757700004, 0.4158707933887352, 0.265...</td>\n",
       "      <td>[1.2935699563401366, 1.8336016533619215, 7.857...</td>\n",
       "      <td>[5.100726428703984, 3.878556470230757, 2.49962...</td>\n",
       "      <td>[(5730880, 5750880), (5750880, 5770880), (5770...</td>\n",
       "      <td>[(5530880, 5550880), (5550880, 5570880), (5570...</td>\n",
       "      <td>[(286544, 287544), (287544, 288544), (288544, ...</td>\n",
       "      <td>[(276544, 277544), (277544, 278544), (278544, ...</td>\n",
       "      <td>[1, 0, 0, 0, 0, 0, 0, 0, 0, 0]</td>\n",
       "      <td>[0, 0, 1, 0, 1, 0, 0, 0, 0, 0]</td>\n",
       "      <td>286544</td>\n",
       "    </tr>\n",
       "    <tr>\n",
       "      <th>3</th>\n",
       "      <td>11009410</td>\n",
       "      <td>20230617_115521_standard_comp_to_omission_D1_s...</td>\n",
       "      <td>20230617_115521_standard_comp_to_omission_D1_s...</td>\n",
       "      <td>7530877</td>\n",
       "      <td>20230617_115521_standard_comp_to_omission_D1_s...</td>\n",
       "      <td>7516</td>\n",
       "      <td>1.0</td>\n",
       "      <td>1-1_t1b3L_box1</td>\n",
       "      <td>lose_comp</td>\n",
       "      <td>20230617_115521_standard_comp_to_omission_D1_s...</td>\n",
       "      <td>...</td>\n",
       "      <td>[0.28520323663080543, 0.3655771428805912, 0.43...</td>\n",
       "      <td>[0.6892678457974358, 4.623066029743537, 4.8167...</td>\n",
       "      <td>[1.6265370368079863, 1.939419253786388, 0.7282...</td>\n",
       "      <td>[(7530877, 7550877), (7550877, 7570877), (7570...</td>\n",
       "      <td>[(7330877, 7350877), (7350877, 7370877), (7370...</td>\n",
       "      <td>[(376543, 377543), (377543, 378543), (378543, ...</td>\n",
       "      <td>[(366543, 367543), (367543, 368543), (368543, ...</td>\n",
       "      <td>[0, 0, 0, 0, 0, 0, 0, 0, 0, 0]</td>\n",
       "      <td>[0, 0, 0, 0, 2, 2, 0, 0, 1, 2]</td>\n",
       "      <td>376543</td>\n",
       "    </tr>\n",
       "    <tr>\n",
       "      <th>4</th>\n",
       "      <td>12109413</td>\n",
       "      <td>20230617_115521_standard_comp_to_omission_D1_s...</td>\n",
       "      <td>20230617_115521_standard_comp_to_omission_D1_s...</td>\n",
       "      <td>8630880</td>\n",
       "      <td>20230617_115521_standard_comp_to_omission_D1_s...</td>\n",
       "      <td>8615</td>\n",
       "      <td>1.0</td>\n",
       "      <td>1-1_t1b3L_box1</td>\n",
       "      <td>win_comp</td>\n",
       "      <td>20230617_115521_standard_comp_to_omission_D1_s...</td>\n",
       "      <td>...</td>\n",
       "      <td>[0.10093605479378118, 0.11690904896013582, 0.1...</td>\n",
       "      <td>[0.09127850278450059, 0.09571389765080775, 0.0...</td>\n",
       "      <td>[3.822843311916576, 2.0652198252227167, 2.6389...</td>\n",
       "      <td>[(8630880, 8650880), (8650880, 8670880), (8670...</td>\n",
       "      <td>[(8430880, 8450880), (8450880, 8470880), (8470...</td>\n",
       "      <td>[(431544, 432544), (432544, 433544), (433544, ...</td>\n",
       "      <td>[(421544, 422544), (422544, 423544), (423544, ...</td>\n",
       "      <td>[0, 0, 0, 0, 0, 1, 1, 1, 1, 0]</td>\n",
       "      <td>[0, 0, 0, 0, 0, 0, 0, 0, 0, 0]</td>\n",
       "      <td>431544</td>\n",
       "    </tr>\n",
       "  </tbody>\n",
       "</table>\n",
       "<p>5 rows × 62 columns</p>\n",
       "</div>"
      ],
      "text/plain": [
       "       time                                      recording_dir  \\\n",
       "0   4509412  20230617_115521_standard_comp_to_omission_D1_s...   \n",
       "1   6909411  20230617_115521_standard_comp_to_omission_D1_s...   \n",
       "2   9209413  20230617_115521_standard_comp_to_omission_D1_s...   \n",
       "3  11009410  20230617_115521_standard_comp_to_omission_D1_s...   \n",
       "4  12109413  20230617_115521_standard_comp_to_omission_D1_s...   \n",
       "\n",
       "                                      recording_file  time_stamp_index  \\\n",
       "0  20230617_115521_standard_comp_to_omission_D1_s...           1030879   \n",
       "1  20230617_115521_standard_comp_to_omission_D1_s...           3430878   \n",
       "2  20230617_115521_standard_comp_to_omission_D1_s...           5730880   \n",
       "3  20230617_115521_standard_comp_to_omission_D1_s...           7530877   \n",
       "4  20230617_115521_standard_comp_to_omission_D1_s...           8630880   \n",
       "\n",
       "                                          video_file  video_frame  \\\n",
       "0  20230617_115521_standard_comp_to_omission_D1_s...         1029   \n",
       "1  20230617_115521_standard_comp_to_omission_D1_s...         3425   \n",
       "2  20230617_115521_standard_comp_to_omission_D1_s...         5720   \n",
       "3  20230617_115521_standard_comp_to_omission_D1_s...         7516   \n",
       "4  20230617_115521_standard_comp_to_omission_D1_s...         8615   \n",
       "\n",
       "   video_number    subject_info competition_closeness  \\\n",
       "0           1.0  1-1_t1b3L_box1             lose_comp   \n",
       "1           1.0  1-1_t1b3L_box1              win_comp   \n",
       "2           1.0  1-1_t1b3L_box1              win_comp   \n",
       "3           1.0  1-1_t1b3L_box1             lose_comp   \n",
       "4           1.0  1-1_t1b3L_box1              win_comp   \n",
       "\n",
       "                                          video_name  ...  \\\n",
       "0  20230617_115521_standard_comp_to_omission_D1_s...  ...   \n",
       "1  20230617_115521_standard_comp_to_omission_D1_s...  ...   \n",
       "2  20230617_115521_standard_comp_to_omission_D1_s...  ...   \n",
       "3  20230617_115521_standard_comp_to_omission_D1_s...  ...   \n",
       "4  20230617_115521_standard_comp_to_omission_D1_s...  ...   \n",
       "\n",
       "                               trial_thorax_velocity  \\\n",
       "0  [5.854587674773412, 5.491207535476736, 5.11749...   \n",
       "1  [2.3816625552688544, 2.3175606442761967, 2.218...   \n",
       "2  [0.5555477757700004, 0.4158707933887352, 0.265...   \n",
       "3  [0.28520323663080543, 0.3655771428805912, 0.43...   \n",
       "4  [0.10093605479378118, 0.11690904896013582, 0.1...   \n",
       "\n",
       "                       trial_chunked_thorax_velocity  \\\n",
       "0  [4.204500001605147, 6.544647570039476, 1.57793...   \n",
       "1  [1.5520441045782087, 4.256821128528769, 11.997...   \n",
       "2  [1.2935699563401366, 1.8336016533619215, 7.857...   \n",
       "3  [0.6892678457974358, 4.623066029743537, 4.8167...   \n",
       "4  [0.09127850278450059, 0.09571389765080775, 0.0...   \n",
       "\n",
       "                    baseline_chunked_thorax_velocity  \\\n",
       "0  [1.0482043233623093, 0.31708611003393056, 0.36...   \n",
       "1  [0.24093936568383498, 0.1201192423141825, 0.23...   \n",
       "2  [5.100726428703984, 3.878556470230757, 2.49962...   \n",
       "3  [1.6265370368079863, 1.939419253786388, 0.7282...   \n",
       "4  [3.822843311916576, 2.0652198252227167, 2.6389...   \n",
       "\n",
       "                       trial_chunked_ephys_timestamp  \\\n",
       "0  [(1030879, 1050879), (1050879, 1070879), (1070...   \n",
       "1  [(3430878, 3450878), (3450878, 3470878), (3470...   \n",
       "2  [(5730880, 5750880), (5750880, 5770880), (5770...   \n",
       "3  [(7530877, 7550877), (7550877, 7570877), (7570...   \n",
       "4  [(8630880, 8650880), (8650880, 8670880), (8670...   \n",
       "\n",
       "                    baseline_chunked_ephys_timestamp  \\\n",
       "0  [(830879, 850879), (850879, 870879), (870879, ...   \n",
       "1  [(3230878, 3250878), (3250878, 3270878), (3270...   \n",
       "2  [(5530880, 5550880), (5550880, 5570880), (5570...   \n",
       "3  [(7330877, 7350877), (7350877, 7370877), (7370...   \n",
       "4  [(8430880, 8450880), (8450880, 8470880), (8470...   \n",
       "\n",
       "                             trial_chunked_lfp_index  \\\n",
       "0  [(51543, 52543), (52543, 53543), (53543, 54543...   \n",
       "1  [(171543, 172543), (172543, 173543), (173543, ...   \n",
       "2  [(286544, 287544), (287544, 288544), (288544, ...   \n",
       "3  [(376543, 377543), (377543, 378543), (378543, ...   \n",
       "4  [(431544, 432544), (432544, 433544), (433544, ...   \n",
       "\n",
       "                          baseline_chunked_lfp_index  \\\n",
       "0  [(41543, 42543), (42543, 43543), (43543, 44543...   \n",
       "1  [(161543, 162543), (162543, 163543), (163543, ...   \n",
       "2  [(276544, 277544), (277544, 278544), (278544, ...   \n",
       "3  [(366543, 367543), (367543, 368543), (368543, ...   \n",
       "4  [(421544, 422544), (422544, 423544), (423544, ...   \n",
       "\n",
       "  binned_baseline_thorax_velocity    binned_trial_thorax_velocity  \\\n",
       "0  [0, 0, 0, 0, 0, 0, 0, 2, 2, 1]  [0, 1, 0, 0, 0, 1, 0, 0, 0, 0]   \n",
       "1  [0, 0, 0, 0, 0, 0, 0, 2, 1, 0]  [0, 0, 2, 2, 0, 0, 0, 0, 0, 0]   \n",
       "2  [1, 0, 0, 0, 0, 0, 0, 0, 0, 0]  [0, 0, 1, 0, 1, 0, 0, 0, 0, 0]   \n",
       "3  [0, 0, 0, 0, 0, 0, 0, 0, 0, 0]  [0, 0, 0, 0, 2, 2, 0, 0, 1, 2]   \n",
       "4  [0, 0, 0, 0, 0, 1, 1, 1, 1, 0]  [0, 0, 0, 0, 0, 0, 0, 0, 0, 0]   \n",
       "\n",
       "  resampled_index  \n",
       "0           51543  \n",
       "1          171543  \n",
       "2          286544  \n",
       "3          376543  \n",
       "4          431544  \n",
       "\n",
       "[5 rows x 62 columns]"
      ]
     },
     "execution_count": 39,
     "metadata": {},
     "output_type": "execute_result"
    }
   ],
   "source": [
    "all_trials_df.head()"
   ]
  },
  {
   "cell_type": "code",
   "execution_count": 40,
   "metadata": {},
   "outputs": [
    {
     "data": {
      "text/plain": [
       "array(['lose', 'win', 'rewarded', 'omission'], dtype=object)"
      ]
     },
     "execution_count": 40,
     "metadata": {},
     "output_type": "execute_result"
    }
   ],
   "source": [
    "all_trials_df[\"trial_outcome\"].unique()"
   ]
  },
  {
   "cell_type": "code",
   "execution_count": 42,
   "metadata": {},
   "outputs": [
    {
     "data": {
      "text/plain": [
       "dict_keys(['20230620_114347_standard_comp_to_omission_D4_subj_1-1_t1b2L_box_2_merged', '20230620_114347_standard_comp_to_omission_D4_subj_1-2_t3b3L_box_1_merged', '20230621_111240_standard_comp_to_omission_D5_subj_1-4_t3b3L_box1_merged', '20230618_100636_standard_comp_to_omission_D2_subj_1_4_t4b3L_box1_merged', '20230618_100636_standard_comp_to_omission_D2_subj_1_1_t1b2L_box2_merged', '20230617_115521_standard_comp_to_omission_D1_subj_1-2_t2b2L_box2_merged', '20230617_115521_standard_comp_to_omission_D1_subj_1-1_t1b3L_box1_merged', '20230619_115321_standard_comp_to_omission_D3_subj_1-4_t3b3L_box2_merged'])"
      ]
     },
     "execution_count": 42,
     "metadata": {},
     "output_type": "execute_result"
    }
   ],
   "source": [
    "recording_name_to_all_ch_lfp.keys()"
   ]
  },
  {
   "cell_type": "code",
   "execution_count": 43,
   "metadata": {
    "scrolled": true
   },
   "outputs": [
    {
     "data": {
      "text/html": [
       "<div>\n",
       "<style scoped>\n",
       "    .dataframe tbody tr th:only-of-type {\n",
       "        vertical-align: middle;\n",
       "    }\n",
       "\n",
       "    .dataframe tbody tr th {\n",
       "        vertical-align: top;\n",
       "    }\n",
       "\n",
       "    .dataframe thead th {\n",
       "        text-align: right;\n",
       "    }\n",
       "</style>\n",
       "<table border=\"1\" class=\"dataframe\">\n",
       "  <thead>\n",
       "    <tr style=\"text-align: right;\">\n",
       "      <th></th>\n",
       "      <th>Cohort</th>\n",
       "      <th>Subject</th>\n",
       "      <th>eib_mPFC</th>\n",
       "      <th>eib_vHPC</th>\n",
       "      <th>eib_BLA</th>\n",
       "      <th>eib_LH</th>\n",
       "      <th>eib_MD</th>\n",
       "      <th>spike_interface_mPFC</th>\n",
       "      <th>spike_interface_vHPC</th>\n",
       "      <th>spike_interface_BLA</th>\n",
       "      <th>spike_interface_LH</th>\n",
       "      <th>spike_interface_MD</th>\n",
       "    </tr>\n",
       "  </thead>\n",
       "  <tbody>\n",
       "    <tr>\n",
       "      <th>0</th>\n",
       "      <td>1</td>\n",
       "      <td>6.1</td>\n",
       "      <td>NaN</td>\n",
       "      <td>15</td>\n",
       "      <td>14</td>\n",
       "      <td>13</td>\n",
       "      <td>31</td>\n",
       "      <td>21.0</td>\n",
       "      <td>15.0</td>\n",
       "      <td>14.0</td>\n",
       "      <td>13.0</td>\n",
       "      <td>16.0</td>\n",
       "    </tr>\n",
       "    <tr>\n",
       "      <th>1</th>\n",
       "      <td>1</td>\n",
       "      <td>6.2</td>\n",
       "      <td>NaN</td>\n",
       "      <td>15</td>\n",
       "      <td>14</td>\n",
       "      <td>13</td>\n",
       "      <td>31</td>\n",
       "      <td>NaN</td>\n",
       "      <td>NaN</td>\n",
       "      <td>NaN</td>\n",
       "      <td>NaN</td>\n",
       "      <td>NaN</td>\n",
       "    </tr>\n",
       "    <tr>\n",
       "      <th>2</th>\n",
       "      <td>1</td>\n",
       "      <td>6.3</td>\n",
       "      <td>NaN</td>\n",
       "      <td>15</td>\n",
       "      <td>14</td>\n",
       "      <td>13</td>\n",
       "      <td>31</td>\n",
       "      <td>NaN</td>\n",
       "      <td>NaN</td>\n",
       "      <td>NaN</td>\n",
       "      <td>NaN</td>\n",
       "      <td>NaN</td>\n",
       "    </tr>\n",
       "    <tr>\n",
       "      <th>3</th>\n",
       "      <td>1</td>\n",
       "      <td>6.4</td>\n",
       "      <td>NaN</td>\n",
       "      <td>15</td>\n",
       "      <td>14</td>\n",
       "      <td>13</td>\n",
       "      <td>31</td>\n",
       "      <td>NaN</td>\n",
       "      <td>NaN</td>\n",
       "      <td>NaN</td>\n",
       "      <td>NaN</td>\n",
       "      <td>NaN</td>\n",
       "    </tr>\n",
       "    <tr>\n",
       "      <th>4</th>\n",
       "      <td>2</td>\n",
       "      <td>1.1</td>\n",
       "      <td>NaN</td>\n",
       "      <td>16</td>\n",
       "      <td>17</td>\n",
       "      <td>18</td>\n",
       "      <td>19</td>\n",
       "      <td>5.0</td>\n",
       "      <td>31.0</td>\n",
       "      <td>30.0</td>\n",
       "      <td>29.0</td>\n",
       "      <td>28.0</td>\n",
       "    </tr>\n",
       "    <tr>\n",
       "      <th>5</th>\n",
       "      <td>2</td>\n",
       "      <td>1.2</td>\n",
       "      <td>NaN</td>\n",
       "      <td>31</td>\n",
       "      <td>30</td>\n",
       "      <td>29</td>\n",
       "      <td>28</td>\n",
       "      <td>10.0</td>\n",
       "      <td>31.0</td>\n",
       "      <td>30.0</td>\n",
       "      <td>29.0</td>\n",
       "      <td>28.0</td>\n",
       "    </tr>\n",
       "    <tr>\n",
       "      <th>6</th>\n",
       "      <td>2</td>\n",
       "      <td>1.3</td>\n",
       "      <td>NaN</td>\n",
       "      <td>15</td>\n",
       "      <td>14</td>\n",
       "      <td>13</td>\n",
       "      <td>12</td>\n",
       "      <td>9.0</td>\n",
       "      <td>31.0</td>\n",
       "      <td>30.0</td>\n",
       "      <td>29.0</td>\n",
       "      <td>28.0</td>\n",
       "    </tr>\n",
       "    <tr>\n",
       "      <th>7</th>\n",
       "      <td>2</td>\n",
       "      <td>1.4</td>\n",
       "      <td>NaN</td>\n",
       "      <td>15</td>\n",
       "      <td>14</td>\n",
       "      <td>13</td>\n",
       "      <td>12</td>\n",
       "      <td>15.0</td>\n",
       "      <td>31.0</td>\n",
       "      <td>30.0</td>\n",
       "      <td>29.0</td>\n",
       "      <td>28.0</td>\n",
       "    </tr>\n",
       "  </tbody>\n",
       "</table>\n",
       "</div>"
      ],
      "text/plain": [
       "   Cohort Subject  eib_mPFC  eib_vHPC  eib_BLA  eib_LH  eib_MD  \\\n",
       "0       1     6.1       NaN        15       14      13      31   \n",
       "1       1     6.2       NaN        15       14      13      31   \n",
       "2       1     6.3       NaN        15       14      13      31   \n",
       "3       1     6.4       NaN        15       14      13      31   \n",
       "4       2     1.1       NaN        16       17      18      19   \n",
       "5       2     1.2       NaN        31       30      29      28   \n",
       "6       2     1.3       NaN        15       14      13      12   \n",
       "7       2     1.4       NaN        15       14      13      12   \n",
       "\n",
       "   spike_interface_mPFC  spike_interface_vHPC  spike_interface_BLA  \\\n",
       "0                  21.0                  15.0                 14.0   \n",
       "1                   NaN                   NaN                  NaN   \n",
       "2                   NaN                   NaN                  NaN   \n",
       "3                   NaN                   NaN                  NaN   \n",
       "4                   5.0                  31.0                 30.0   \n",
       "5                  10.0                  31.0                 30.0   \n",
       "6                   9.0                  31.0                 30.0   \n",
       "7                  15.0                  31.0                 30.0   \n",
       "\n",
       "   spike_interface_LH  spike_interface_MD  \n",
       "0                13.0                16.0  \n",
       "1                 NaN                 NaN  \n",
       "2                 NaN                 NaN  \n",
       "3                 NaN                 NaN  \n",
       "4                29.0                28.0  \n",
       "5                29.0                28.0  \n",
       "6                29.0                28.0  \n",
       "7                29.0                28.0  "
      ]
     },
     "execution_count": 43,
     "metadata": {},
     "output_type": "execute_result"
    }
   ],
   "source": [
    "CHANNEL_MAPPING_DF"
   ]
  },
  {
   "cell_type": "markdown",
   "metadata": {},
   "source": [
    "## Power Calculation"
   ]
  },
  {
   "cell_type": "code",
   "execution_count": 44,
   "metadata": {
    "scrolled": true
   },
   "outputs": [
    {
     "data": {
      "text/html": [
       "<div>\n",
       "<style scoped>\n",
       "    .dataframe tbody tr th:only-of-type {\n",
       "        vertical-align: middle;\n",
       "    }\n",
       "\n",
       "    .dataframe tbody tr th {\n",
       "        vertical-align: top;\n",
       "    }\n",
       "\n",
       "    .dataframe thead th {\n",
       "        text-align: right;\n",
       "    }\n",
       "</style>\n",
       "<table border=\"1\" class=\"dataframe\">\n",
       "  <thead>\n",
       "    <tr style=\"text-align: right;\">\n",
       "      <th></th>\n",
       "      <th>time</th>\n",
       "      <th>recording_dir</th>\n",
       "      <th>recording_file</th>\n",
       "      <th>time_stamp_index</th>\n",
       "      <th>video_file</th>\n",
       "      <th>video_frame</th>\n",
       "      <th>video_number</th>\n",
       "      <th>subject_info</th>\n",
       "      <th>competition_closeness</th>\n",
       "      <th>video_name</th>\n",
       "      <th>...</th>\n",
       "      <th>trial_thorax_velocity</th>\n",
       "      <th>trial_chunked_thorax_velocity</th>\n",
       "      <th>baseline_chunked_thorax_velocity</th>\n",
       "      <th>trial_chunked_ephys_timestamp</th>\n",
       "      <th>baseline_chunked_ephys_timestamp</th>\n",
       "      <th>trial_chunked_lfp_index</th>\n",
       "      <th>baseline_chunked_lfp_index</th>\n",
       "      <th>binned_baseline_thorax_velocity</th>\n",
       "      <th>binned_trial_thorax_velocity</th>\n",
       "      <th>resampled_index</th>\n",
       "    </tr>\n",
       "  </thead>\n",
       "  <tbody>\n",
       "    <tr>\n",
       "      <th>0</th>\n",
       "      <td>4509412</td>\n",
       "      <td>20230617_115521_standard_comp_to_omission_D1_s...</td>\n",
       "      <td>20230617_115521_standard_comp_to_omission_D1_s...</td>\n",
       "      <td>1030879</td>\n",
       "      <td>20230617_115521_standard_comp_to_omission_D1_s...</td>\n",
       "      <td>1029</td>\n",
       "      <td>1.0</td>\n",
       "      <td>1-1_t1b3L_box1</td>\n",
       "      <td>lose_comp</td>\n",
       "      <td>20230617_115521_standard_comp_to_omission_D1_s...</td>\n",
       "      <td>...</td>\n",
       "      <td>[5.854587674773412, 5.491207535476736, 5.11749...</td>\n",
       "      <td>[4.204500001605147, 6.544647570039476, 1.57793...</td>\n",
       "      <td>[1.0482043233623093, 0.31708611003393056, 0.36...</td>\n",
       "      <td>[(1030879, 1050879), (1050879, 1070879), (1070...</td>\n",
       "      <td>[(830879, 850879), (850879, 870879), (870879, ...</td>\n",
       "      <td>[(51543, 52543), (52543, 53543), (53543, 54543...</td>\n",
       "      <td>[(41543, 42543), (42543, 43543), (43543, 44543...</td>\n",
       "      <td>[0, 0, 0, 0, 0, 0, 0, 2, 2, 1]</td>\n",
       "      <td>[0, 1, 0, 0, 0, 1, 0, 0, 0, 0]</td>\n",
       "      <td>51543</td>\n",
       "    </tr>\n",
       "    <tr>\n",
       "      <th>1</th>\n",
       "      <td>6909411</td>\n",
       "      <td>20230617_115521_standard_comp_to_omission_D1_s...</td>\n",
       "      <td>20230617_115521_standard_comp_to_omission_D1_s...</td>\n",
       "      <td>3430878</td>\n",
       "      <td>20230617_115521_standard_comp_to_omission_D1_s...</td>\n",
       "      <td>3425</td>\n",
       "      <td>1.0</td>\n",
       "      <td>1-1_t1b3L_box1</td>\n",
       "      <td>win_comp</td>\n",
       "      <td>20230617_115521_standard_comp_to_omission_D1_s...</td>\n",
       "      <td>...</td>\n",
       "      <td>[2.3816625552688544, 2.3175606442761967, 2.218...</td>\n",
       "      <td>[1.5520441045782087, 4.256821128528769, 11.997...</td>\n",
       "      <td>[0.24093936568383498, 0.1201192423141825, 0.23...</td>\n",
       "      <td>[(3430878, 3450878), (3450878, 3470878), (3470...</td>\n",
       "      <td>[(3230878, 3250878), (3250878, 3270878), (3270...</td>\n",
       "      <td>[(171543, 172543), (172543, 173543), (173543, ...</td>\n",
       "      <td>[(161543, 162543), (162543, 163543), (163543, ...</td>\n",
       "      <td>[0, 0, 0, 0, 0, 0, 0, 2, 1, 0]</td>\n",
       "      <td>[0, 0, 2, 2, 0, 0, 0, 0, 0, 0]</td>\n",
       "      <td>171543</td>\n",
       "    </tr>\n",
       "    <tr>\n",
       "      <th>2</th>\n",
       "      <td>9209413</td>\n",
       "      <td>20230617_115521_standard_comp_to_omission_D1_s...</td>\n",
       "      <td>20230617_115521_standard_comp_to_omission_D1_s...</td>\n",
       "      <td>5730880</td>\n",
       "      <td>20230617_115521_standard_comp_to_omission_D1_s...</td>\n",
       "      <td>5720</td>\n",
       "      <td>1.0</td>\n",
       "      <td>1-1_t1b3L_box1</td>\n",
       "      <td>win_comp</td>\n",
       "      <td>20230617_115521_standard_comp_to_omission_D1_s...</td>\n",
       "      <td>...</td>\n",
       "      <td>[0.5555477757700004, 0.4158707933887352, 0.265...</td>\n",
       "      <td>[1.2935699563401366, 1.8336016533619215, 7.857...</td>\n",
       "      <td>[5.100726428703984, 3.878556470230757, 2.49962...</td>\n",
       "      <td>[(5730880, 5750880), (5750880, 5770880), (5770...</td>\n",
       "      <td>[(5530880, 5550880), (5550880, 5570880), (5570...</td>\n",
       "      <td>[(286544, 287544), (287544, 288544), (288544, ...</td>\n",
       "      <td>[(276544, 277544), (277544, 278544), (278544, ...</td>\n",
       "      <td>[1, 0, 0, 0, 0, 0, 0, 0, 0, 0]</td>\n",
       "      <td>[0, 0, 1, 0, 1, 0, 0, 0, 0, 0]</td>\n",
       "      <td>286544</td>\n",
       "    </tr>\n",
       "    <tr>\n",
       "      <th>3</th>\n",
       "      <td>11009410</td>\n",
       "      <td>20230617_115521_standard_comp_to_omission_D1_s...</td>\n",
       "      <td>20230617_115521_standard_comp_to_omission_D1_s...</td>\n",
       "      <td>7530877</td>\n",
       "      <td>20230617_115521_standard_comp_to_omission_D1_s...</td>\n",
       "      <td>7516</td>\n",
       "      <td>1.0</td>\n",
       "      <td>1-1_t1b3L_box1</td>\n",
       "      <td>lose_comp</td>\n",
       "      <td>20230617_115521_standard_comp_to_omission_D1_s...</td>\n",
       "      <td>...</td>\n",
       "      <td>[0.28520323663080543, 0.3655771428805912, 0.43...</td>\n",
       "      <td>[0.6892678457974358, 4.623066029743537, 4.8167...</td>\n",
       "      <td>[1.6265370368079863, 1.939419253786388, 0.7282...</td>\n",
       "      <td>[(7530877, 7550877), (7550877, 7570877), (7570...</td>\n",
       "      <td>[(7330877, 7350877), (7350877, 7370877), (7370...</td>\n",
       "      <td>[(376543, 377543), (377543, 378543), (378543, ...</td>\n",
       "      <td>[(366543, 367543), (367543, 368543), (368543, ...</td>\n",
       "      <td>[0, 0, 0, 0, 0, 0, 0, 0, 0, 0]</td>\n",
       "      <td>[0, 0, 0, 0, 2, 2, 0, 0, 1, 2]</td>\n",
       "      <td>376543</td>\n",
       "    </tr>\n",
       "    <tr>\n",
       "      <th>4</th>\n",
       "      <td>12109413</td>\n",
       "      <td>20230617_115521_standard_comp_to_omission_D1_s...</td>\n",
       "      <td>20230617_115521_standard_comp_to_omission_D1_s...</td>\n",
       "      <td>8630880</td>\n",
       "      <td>20230617_115521_standard_comp_to_omission_D1_s...</td>\n",
       "      <td>8615</td>\n",
       "      <td>1.0</td>\n",
       "      <td>1-1_t1b3L_box1</td>\n",
       "      <td>win_comp</td>\n",
       "      <td>20230617_115521_standard_comp_to_omission_D1_s...</td>\n",
       "      <td>...</td>\n",
       "      <td>[0.10093605479378118, 0.11690904896013582, 0.1...</td>\n",
       "      <td>[0.09127850278450059, 0.09571389765080775, 0.0...</td>\n",
       "      <td>[3.822843311916576, 2.0652198252227167, 2.6389...</td>\n",
       "      <td>[(8630880, 8650880), (8650880, 8670880), (8670...</td>\n",
       "      <td>[(8430880, 8450880), (8450880, 8470880), (8470...</td>\n",
       "      <td>[(431544, 432544), (432544, 433544), (433544, ...</td>\n",
       "      <td>[(421544, 422544), (422544, 423544), (423544, ...</td>\n",
       "      <td>[0, 0, 0, 0, 0, 1, 1, 1, 1, 0]</td>\n",
       "      <td>[0, 0, 0, 0, 0, 0, 0, 0, 0, 0]</td>\n",
       "      <td>431544</td>\n",
       "    </tr>\n",
       "  </tbody>\n",
       "</table>\n",
       "<p>5 rows × 62 columns</p>\n",
       "</div>"
      ],
      "text/plain": [
       "       time                                      recording_dir  \\\n",
       "0   4509412  20230617_115521_standard_comp_to_omission_D1_s...   \n",
       "1   6909411  20230617_115521_standard_comp_to_omission_D1_s...   \n",
       "2   9209413  20230617_115521_standard_comp_to_omission_D1_s...   \n",
       "3  11009410  20230617_115521_standard_comp_to_omission_D1_s...   \n",
       "4  12109413  20230617_115521_standard_comp_to_omission_D1_s...   \n",
       "\n",
       "                                      recording_file  time_stamp_index  \\\n",
       "0  20230617_115521_standard_comp_to_omission_D1_s...           1030879   \n",
       "1  20230617_115521_standard_comp_to_omission_D1_s...           3430878   \n",
       "2  20230617_115521_standard_comp_to_omission_D1_s...           5730880   \n",
       "3  20230617_115521_standard_comp_to_omission_D1_s...           7530877   \n",
       "4  20230617_115521_standard_comp_to_omission_D1_s...           8630880   \n",
       "\n",
       "                                          video_file  video_frame  \\\n",
       "0  20230617_115521_standard_comp_to_omission_D1_s...         1029   \n",
       "1  20230617_115521_standard_comp_to_omission_D1_s...         3425   \n",
       "2  20230617_115521_standard_comp_to_omission_D1_s...         5720   \n",
       "3  20230617_115521_standard_comp_to_omission_D1_s...         7516   \n",
       "4  20230617_115521_standard_comp_to_omission_D1_s...         8615   \n",
       "\n",
       "   video_number    subject_info competition_closeness  \\\n",
       "0           1.0  1-1_t1b3L_box1             lose_comp   \n",
       "1           1.0  1-1_t1b3L_box1              win_comp   \n",
       "2           1.0  1-1_t1b3L_box1              win_comp   \n",
       "3           1.0  1-1_t1b3L_box1             lose_comp   \n",
       "4           1.0  1-1_t1b3L_box1              win_comp   \n",
       "\n",
       "                                          video_name  ...  \\\n",
       "0  20230617_115521_standard_comp_to_omission_D1_s...  ...   \n",
       "1  20230617_115521_standard_comp_to_omission_D1_s...  ...   \n",
       "2  20230617_115521_standard_comp_to_omission_D1_s...  ...   \n",
       "3  20230617_115521_standard_comp_to_omission_D1_s...  ...   \n",
       "4  20230617_115521_standard_comp_to_omission_D1_s...  ...   \n",
       "\n",
       "                               trial_thorax_velocity  \\\n",
       "0  [5.854587674773412, 5.491207535476736, 5.11749...   \n",
       "1  [2.3816625552688544, 2.3175606442761967, 2.218...   \n",
       "2  [0.5555477757700004, 0.4158707933887352, 0.265...   \n",
       "3  [0.28520323663080543, 0.3655771428805912, 0.43...   \n",
       "4  [0.10093605479378118, 0.11690904896013582, 0.1...   \n",
       "\n",
       "                       trial_chunked_thorax_velocity  \\\n",
       "0  [4.204500001605147, 6.544647570039476, 1.57793...   \n",
       "1  [1.5520441045782087, 4.256821128528769, 11.997...   \n",
       "2  [1.2935699563401366, 1.8336016533619215, 7.857...   \n",
       "3  [0.6892678457974358, 4.623066029743537, 4.8167...   \n",
       "4  [0.09127850278450059, 0.09571389765080775, 0.0...   \n",
       "\n",
       "                    baseline_chunked_thorax_velocity  \\\n",
       "0  [1.0482043233623093, 0.31708611003393056, 0.36...   \n",
       "1  [0.24093936568383498, 0.1201192423141825, 0.23...   \n",
       "2  [5.100726428703984, 3.878556470230757, 2.49962...   \n",
       "3  [1.6265370368079863, 1.939419253786388, 0.7282...   \n",
       "4  [3.822843311916576, 2.0652198252227167, 2.6389...   \n",
       "\n",
       "                       trial_chunked_ephys_timestamp  \\\n",
       "0  [(1030879, 1050879), (1050879, 1070879), (1070...   \n",
       "1  [(3430878, 3450878), (3450878, 3470878), (3470...   \n",
       "2  [(5730880, 5750880), (5750880, 5770880), (5770...   \n",
       "3  [(7530877, 7550877), (7550877, 7570877), (7570...   \n",
       "4  [(8630880, 8650880), (8650880, 8670880), (8670...   \n",
       "\n",
       "                    baseline_chunked_ephys_timestamp  \\\n",
       "0  [(830879, 850879), (850879, 870879), (870879, ...   \n",
       "1  [(3230878, 3250878), (3250878, 3270878), (3270...   \n",
       "2  [(5530880, 5550880), (5550880, 5570880), (5570...   \n",
       "3  [(7330877, 7350877), (7350877, 7370877), (7370...   \n",
       "4  [(8430880, 8450880), (8450880, 8470880), (8470...   \n",
       "\n",
       "                             trial_chunked_lfp_index  \\\n",
       "0  [(51543, 52543), (52543, 53543), (53543, 54543...   \n",
       "1  [(171543, 172543), (172543, 173543), (173543, ...   \n",
       "2  [(286544, 287544), (287544, 288544), (288544, ...   \n",
       "3  [(376543, 377543), (377543, 378543), (378543, ...   \n",
       "4  [(431544, 432544), (432544, 433544), (433544, ...   \n",
       "\n",
       "                          baseline_chunked_lfp_index  \\\n",
       "0  [(41543, 42543), (42543, 43543), (43543, 44543...   \n",
       "1  [(161543, 162543), (162543, 163543), (163543, ...   \n",
       "2  [(276544, 277544), (277544, 278544), (278544, ...   \n",
       "3  [(366543, 367543), (367543, 368543), (368543, ...   \n",
       "4  [(421544, 422544), (422544, 423544), (423544, ...   \n",
       "\n",
       "  binned_baseline_thorax_velocity    binned_trial_thorax_velocity  \\\n",
       "0  [0, 0, 0, 0, 0, 0, 0, 2, 2, 1]  [0, 1, 0, 0, 0, 1, 0, 0, 0, 0]   \n",
       "1  [0, 0, 0, 0, 0, 0, 0, 2, 1, 0]  [0, 0, 2, 2, 0, 0, 0, 0, 0, 0]   \n",
       "2  [1, 0, 0, 0, 0, 0, 0, 0, 0, 0]  [0, 0, 1, 0, 1, 0, 0, 0, 0, 0]   \n",
       "3  [0, 0, 0, 0, 0, 0, 0, 0, 0, 0]  [0, 0, 0, 0, 2, 2, 0, 0, 1, 2]   \n",
       "4  [0, 0, 0, 0, 0, 1, 1, 1, 1, 0]  [0, 0, 0, 0, 0, 0, 0, 0, 0, 0]   \n",
       "\n",
       "  resampled_index  \n",
       "0           51543  \n",
       "1          171543  \n",
       "2          286544  \n",
       "3          376543  \n",
       "4          431544  \n",
       "\n",
       "[5 rows x 62 columns]"
      ]
     },
     "execution_count": 44,
     "metadata": {},
     "output_type": "execute_result"
    }
   ],
   "source": [
    "all_trials_df.head()"
   ]
  },
  {
   "cell_type": "code",
   "execution_count": 50,
   "metadata": {},
   "outputs": [
    {
     "data": {
      "text/plain": [
       "Index(['time', 'recording_dir', 'recording_file', 'time_stamp_index',\n",
       "       'video_file', 'video_frame', 'video_number', 'subject_info',\n",
       "       'competition_closeness', 'video_name', 'all_subjects',\n",
       "       'current_subject', 'trial_outcome', 'lfp_index',\n",
       "       'baseline_lfp_timestamp_range', 'trial_lfp_timestamp_range',\n",
       "       'baseline_ephys_timestamp_range', 'trial_ephys_timestamp_range',\n",
       "       'baseline_videoframe_range', 'trial_videoframe_range', 'trial_number',\n",
       "       'Cohort', 'spike_interface_mPFC', 'spike_interface_vHPC',\n",
       "       'spike_interface_BLA', 'spike_interface_LH', 'spike_interface_MD',\n",
       "       'file_path', 'start_frame', 'stop_frame', 'individual_subj', 'all_subj',\n",
       "       'recording_name', 'track_names', 'subject_id', 'corner_path',\n",
       "       'corner_parts', 'bottom_width', 'top_width', 'right_height',\n",
       "       'left_height', 'average_height', 'average_width', 'width_ratio',\n",
       "       'height_ratio', 'rescaled_locations', 'box_top_left', 'box_bottom_left',\n",
       "       'box_bottom_right', 'reward_port', 'box_top_right',\n",
       "       'baseline_thorax_velocity', 'trial_thorax_velocity',\n",
       "       'trial_chunked_thorax_velocity', 'baseline_chunked_thorax_velocity',\n",
       "       'trial_chunked_ephys_timestamp', 'baseline_chunked_ephys_timestamp',\n",
       "       'trial_chunked_lfp_index', 'baseline_chunked_lfp_index',\n",
       "       'binned_baseline_thorax_velocity', 'binned_trial_thorax_velocity',\n",
       "       'resampled_index'],\n",
       "      dtype='object')"
      ]
     },
     "execution_count": 50,
     "metadata": {},
     "output_type": "execute_result"
    }
   ],
   "source": [
    "all_trials_df.columns"
   ]
  },
  {
   "cell_type": "markdown",
   "metadata": {},
   "source": [
    "- Adding all the brain region to ch information"
   ]
  },
  {
   "cell_type": "code",
   "execution_count": 54,
   "metadata": {},
   "outputs": [],
   "source": [
    "cols_to_use = all_trials_df.columns.difference(CHANNEL_MAPPING_DF.columns)\n"
   ]
  },
  {
   "cell_type": "code",
   "execution_count": 56,
   "metadata": {},
   "outputs": [],
   "source": [
    "channel_map_and_all_trials_df = all_trials_df[cols_to_use].merge(CHANNEL_MAPPING_DF, left_on=\"current_subject\", right_on=\"Subject\", how=\"left\")"
   ]
  },
  {
   "cell_type": "markdown",
   "metadata": {},
   "source": [
    "- Linking up all LFP calculations with all the trials"
   ]
  },
  {
   "cell_type": "code",
   "execution_count": 57,
   "metadata": {},
   "outputs": [],
   "source": [
    "channel_map_and_all_trials_df[\"all_ch_lfp\"] = channel_map_and_all_trials_df[\"recording_file\"].map(recording_name_to_all_ch_lfp)"
   ]
  },
  {
   "cell_type": "markdown",
   "metadata": {},
   "source": [
    "- Creating a new row for each brain region"
   ]
  },
  {
   "cell_type": "code",
   "execution_count": 58,
   "metadata": {},
   "outputs": [],
   "source": [
    "brain_region_col = [col for col in CHANNEL_MAPPING_DF if \"spike_interface\" in col]"
   ]
  },
  {
   "cell_type": "code",
   "execution_count": 59,
   "metadata": {},
   "outputs": [],
   "source": [
    "id_cols = [col for col in channel_map_and_all_trials_df.columns if col not in brain_region_col]"
   ]
  },
  {
   "cell_type": "code",
   "execution_count": null,
   "metadata": {},
   "outputs": [],
   "source": []
  },
  {
   "cell_type": "code",
   "execution_count": 60,
   "metadata": {},
   "outputs": [
    {
     "data": {
      "text/html": [
       "<div>\n",
       "<style scoped>\n",
       "    .dataframe tbody tr th:only-of-type {\n",
       "        vertical-align: middle;\n",
       "    }\n",
       "\n",
       "    .dataframe tbody tr th {\n",
       "        vertical-align: top;\n",
       "    }\n",
       "\n",
       "    .dataframe thead th {\n",
       "        text-align: right;\n",
       "    }\n",
       "</style>\n",
       "<table border=\"1\" class=\"dataframe\">\n",
       "  <thead>\n",
       "    <tr style=\"text-align: right;\">\n",
       "      <th></th>\n",
       "      <th>all_subj</th>\n",
       "      <th>all_subjects</th>\n",
       "      <th>average_height</th>\n",
       "      <th>average_width</th>\n",
       "      <th>baseline_chunked_ephys_timestamp</th>\n",
       "      <th>baseline_chunked_lfp_index</th>\n",
       "      <th>baseline_chunked_thorax_velocity</th>\n",
       "      <th>baseline_ephys_timestamp_range</th>\n",
       "      <th>baseline_lfp_timestamp_range</th>\n",
       "      <th>baseline_thorax_velocity</th>\n",
       "      <th>...</th>\n",
       "      <th>eib_vHPC</th>\n",
       "      <th>eib_BLA</th>\n",
       "      <th>eib_LH</th>\n",
       "      <th>eib_MD</th>\n",
       "      <th>spike_interface_mPFC</th>\n",
       "      <th>spike_interface_vHPC</th>\n",
       "      <th>spike_interface_BLA</th>\n",
       "      <th>spike_interface_LH</th>\n",
       "      <th>spike_interface_MD</th>\n",
       "      <th>all_ch_lfp</th>\n",
       "    </tr>\n",
       "  </thead>\n",
       "  <tbody>\n",
       "    <tr>\n",
       "      <th>0</th>\n",
       "      <td>1.1_1.2</td>\n",
       "      <td>[1.1, 1.2]</td>\n",
       "      <td>264.959511</td>\n",
       "      <td>212.446672</td>\n",
       "      <td>[(830879, 850879), (850879, 870879), (870879, ...</td>\n",
       "      <td>[(41543, 42543), (42543, 43543), (43543, 44543...</td>\n",
       "      <td>[1.0482043233623093, 0.31708611003393056, 0.36...</td>\n",
       "      <td>(830879, 1030879)</td>\n",
       "      <td>(41543, 51543)</td>\n",
       "      <td>[1.740210085775107, 1.7046357778943324, 1.6492...</td>\n",
       "      <td>...</td>\n",
       "      <td>16</td>\n",
       "      <td>17</td>\n",
       "      <td>18</td>\n",
       "      <td>19</td>\n",
       "      <td>5.0</td>\n",
       "      <td>31.0</td>\n",
       "      <td>30.0</td>\n",
       "      <td>29.0</td>\n",
       "      <td>28.0</td>\n",
       "      <td>ZScoreRecording: 32 channels - 1 segments - 1....</td>\n",
       "    </tr>\n",
       "    <tr>\n",
       "      <th>1</th>\n",
       "      <td>1.1_1.2</td>\n",
       "      <td>[1.1, 1.2]</td>\n",
       "      <td>264.959511</td>\n",
       "      <td>212.446672</td>\n",
       "      <td>[(3230878, 3250878), (3250878, 3270878), (3270...</td>\n",
       "      <td>[(161543, 162543), (162543, 163543), (163543, ...</td>\n",
       "      <td>[0.24093936568383498, 0.1201192423141825, 0.23...</td>\n",
       "      <td>(3230878, 3430878)</td>\n",
       "      <td>(161543, 171543)</td>\n",
       "      <td>[0.20814043433428542, 0.22314126629182324, 0.2...</td>\n",
       "      <td>...</td>\n",
       "      <td>16</td>\n",
       "      <td>17</td>\n",
       "      <td>18</td>\n",
       "      <td>19</td>\n",
       "      <td>5.0</td>\n",
       "      <td>31.0</td>\n",
       "      <td>30.0</td>\n",
       "      <td>29.0</td>\n",
       "      <td>28.0</td>\n",
       "      <td>ZScoreRecording: 32 channels - 1 segments - 1....</td>\n",
       "    </tr>\n",
       "    <tr>\n",
       "      <th>2</th>\n",
       "      <td>1.1_1.2</td>\n",
       "      <td>[1.1, 1.2]</td>\n",
       "      <td>264.959511</td>\n",
       "      <td>212.446672</td>\n",
       "      <td>[(5530880, 5550880), (5550880, 5570880), (5570...</td>\n",
       "      <td>[(276544, 277544), (277544, 278544), (278544, ...</td>\n",
       "      <td>[5.100726428703984, 3.878556470230757, 2.49962...</td>\n",
       "      <td>(5530880, 5730880)</td>\n",
       "      <td>(276544, 286544)</td>\n",
       "      <td>[5.587991473689541, 5.787334491104469, 5.97825...</td>\n",
       "      <td>...</td>\n",
       "      <td>16</td>\n",
       "      <td>17</td>\n",
       "      <td>18</td>\n",
       "      <td>19</td>\n",
       "      <td>5.0</td>\n",
       "      <td>31.0</td>\n",
       "      <td>30.0</td>\n",
       "      <td>29.0</td>\n",
       "      <td>28.0</td>\n",
       "      <td>ZScoreRecording: 32 channels - 1 segments - 1....</td>\n",
       "    </tr>\n",
       "    <tr>\n",
       "      <th>3</th>\n",
       "      <td>1.1_1.2</td>\n",
       "      <td>[1.1, 1.2]</td>\n",
       "      <td>264.959511</td>\n",
       "      <td>212.446672</td>\n",
       "      <td>[(7330877, 7350877), (7350877, 7370877), (7370...</td>\n",
       "      <td>[(366543, 367543), (367543, 368543), (368543, ...</td>\n",
       "      <td>[1.6265370368079863, 1.939419253786388, 0.7282...</td>\n",
       "      <td>(7330877, 7530877)</td>\n",
       "      <td>(366543, 376543)</td>\n",
       "      <td>[1.5079694415257687, 1.67290847806871, 1.80495...</td>\n",
       "      <td>...</td>\n",
       "      <td>16</td>\n",
       "      <td>17</td>\n",
       "      <td>18</td>\n",
       "      <td>19</td>\n",
       "      <td>5.0</td>\n",
       "      <td>31.0</td>\n",
       "      <td>30.0</td>\n",
       "      <td>29.0</td>\n",
       "      <td>28.0</td>\n",
       "      <td>ZScoreRecording: 32 channels - 1 segments - 1....</td>\n",
       "    </tr>\n",
       "    <tr>\n",
       "      <th>4</th>\n",
       "      <td>1.1_1.2</td>\n",
       "      <td>[1.1, 1.2]</td>\n",
       "      <td>264.959511</td>\n",
       "      <td>212.446672</td>\n",
       "      <td>[(8430880, 8450880), (8450880, 8470880), (8470...</td>\n",
       "      <td>[(421544, 422544), (422544, 423544), (423544, ...</td>\n",
       "      <td>[3.822843311916576, 2.0652198252227167, 2.6389...</td>\n",
       "      <td>(8430880, 8630880)</td>\n",
       "      <td>(421544, 431544)</td>\n",
       "      <td>[4.401859801710984, 4.594906485228284, 4.73967...</td>\n",
       "      <td>...</td>\n",
       "      <td>16</td>\n",
       "      <td>17</td>\n",
       "      <td>18</td>\n",
       "      <td>19</td>\n",
       "      <td>5.0</td>\n",
       "      <td>31.0</td>\n",
       "      <td>30.0</td>\n",
       "      <td>29.0</td>\n",
       "      <td>28.0</td>\n",
       "      <td>ZScoreRecording: 32 channels - 1 segments - 1....</td>\n",
       "    </tr>\n",
       "    <tr>\n",
       "      <th>...</th>\n",
       "      <td>...</td>\n",
       "      <td>...</td>\n",
       "      <td>...</td>\n",
       "      <td>...</td>\n",
       "      <td>...</td>\n",
       "      <td>...</td>\n",
       "      <td>...</td>\n",
       "      <td>...</td>\n",
       "      <td>...</td>\n",
       "      <td>...</td>\n",
       "      <td>...</td>\n",
       "      <td>...</td>\n",
       "      <td>...</td>\n",
       "      <td>...</td>\n",
       "      <td>...</td>\n",
       "      <td>...</td>\n",
       "      <td>...</td>\n",
       "      <td>...</td>\n",
       "      <td>...</td>\n",
       "      <td>...</td>\n",
       "      <td>...</td>\n",
       "    </tr>\n",
       "    <tr>\n",
       "      <th>235</th>\n",
       "      <td>1.2_1.4</td>\n",
       "      <td>[1.4, 1.2]</td>\n",
       "      <td>263.090950</td>\n",
       "      <td>212.292023</td>\n",
       "      <td>[(61888794, 61908794), (61908794, 61928794), (...</td>\n",
       "      <td>[(3094439, 3095439), (3095439, 3096439), (3096...</td>\n",
       "      <td>[0.591518062774352, 1.8651797757281146, 2.2240...</td>\n",
       "      <td>(61888794, 62088794)</td>\n",
       "      <td>(3094439, 3104439)</td>\n",
       "      <td>[0.15083632715470466, 0.2763562562227468, 0.43...</td>\n",
       "      <td>...</td>\n",
       "      <td>15</td>\n",
       "      <td>14</td>\n",
       "      <td>13</td>\n",
       "      <td>12</td>\n",
       "      <td>15.0</td>\n",
       "      <td>31.0</td>\n",
       "      <td>30.0</td>\n",
       "      <td>29.0</td>\n",
       "      <td>28.0</td>\n",
       "      <td>ZScoreRecording: 32 channels - 1 segments - 1....</td>\n",
       "    </tr>\n",
       "    <tr>\n",
       "      <th>236</th>\n",
       "      <td>1.2_1.4</td>\n",
       "      <td>[1.4, 1.2]</td>\n",
       "      <td>263.090950</td>\n",
       "      <td>212.292023</td>\n",
       "      <td>[(63388812, 63408812), (63408812, 63428812), (...</td>\n",
       "      <td>[(3169440, 3170440), (3170440, 3171440), (3171...</td>\n",
       "      <td>[0.9576044353368744, 2.244484229703428, 1.9594...</td>\n",
       "      <td>(63388812, 63588812)</td>\n",
       "      <td>(3169440, 3179440)</td>\n",
       "      <td>[0.26954963853110736, 0.5336390342987469, 0.77...</td>\n",
       "      <td>...</td>\n",
       "      <td>15</td>\n",
       "      <td>14</td>\n",
       "      <td>13</td>\n",
       "      <td>12</td>\n",
       "      <td>15.0</td>\n",
       "      <td>31.0</td>\n",
       "      <td>30.0</td>\n",
       "      <td>29.0</td>\n",
       "      <td>28.0</td>\n",
       "      <td>ZScoreRecording: 32 channels - 1 segments - 1....</td>\n",
       "    </tr>\n",
       "    <tr>\n",
       "      <th>237</th>\n",
       "      <td>1.2_1.4</td>\n",
       "      <td>[1.4, 1.2]</td>\n",
       "      <td>263.090950</td>\n",
       "      <td>212.292023</td>\n",
       "      <td>[(65388836, 65408836), (65408836, 65428836), (...</td>\n",
       "      <td>[(3269441, 3270441), (3270441, 3271441), (3271...</td>\n",
       "      <td>[1.4424292568325987, 2.460626790423604, 4.1534...</td>\n",
       "      <td>(65388836, 65588836)</td>\n",
       "      <td>(3269441, 3279441)</td>\n",
       "      <td>[0.6389643792864463, 0.8216919700151519, 1.130...</td>\n",
       "      <td>...</td>\n",
       "      <td>15</td>\n",
       "      <td>14</td>\n",
       "      <td>13</td>\n",
       "      <td>12</td>\n",
       "      <td>15.0</td>\n",
       "      <td>31.0</td>\n",
       "      <td>30.0</td>\n",
       "      <td>29.0</td>\n",
       "      <td>28.0</td>\n",
       "      <td>ZScoreRecording: 32 channels - 1 segments - 1....</td>\n",
       "    </tr>\n",
       "    <tr>\n",
       "      <th>238</th>\n",
       "      <td>1.2_1.4</td>\n",
       "      <td>[1.4, 1.2]</td>\n",
       "      <td>263.090950</td>\n",
       "      <td>212.292023</td>\n",
       "      <td>[(67288865, 67308865), (67308865, 67328865), (...</td>\n",
       "      <td>[(3364443, 3365443), (3365443, 3366443), (3366...</td>\n",
       "      <td>[0.9420699884829801, 2.822560619834402, 2.4673...</td>\n",
       "      <td>(67288865, 67488865)</td>\n",
       "      <td>(3364443, 3374443)</td>\n",
       "      <td>[0.8140859487059277, 0.7914479897581302, 0.984...</td>\n",
       "      <td>...</td>\n",
       "      <td>15</td>\n",
       "      <td>14</td>\n",
       "      <td>13</td>\n",
       "      <td>12</td>\n",
       "      <td>15.0</td>\n",
       "      <td>31.0</td>\n",
       "      <td>30.0</td>\n",
       "      <td>29.0</td>\n",
       "      <td>28.0</td>\n",
       "      <td>ZScoreRecording: 32 channels - 1 segments - 1....</td>\n",
       "    </tr>\n",
       "    <tr>\n",
       "      <th>239</th>\n",
       "      <td>1.2_1.4</td>\n",
       "      <td>[1.4, 1.2]</td>\n",
       "      <td>263.090950</td>\n",
       "      <td>212.292023</td>\n",
       "      <td>[(68288874, 68308874), (68308874, 68328874), (...</td>\n",
       "      <td>[(3414443, 3415443), (3415443, 3416443), (3416...</td>\n",
       "      <td>[2.1168894696324845, 1.2529255426378296, 0.547...</td>\n",
       "      <td>(68288874, 68488874)</td>\n",
       "      <td>(3414443, 3424443)</td>\n",
       "      <td>[1.9077957886068988, 1.8184625964386179, 1.703...</td>\n",
       "      <td>...</td>\n",
       "      <td>15</td>\n",
       "      <td>14</td>\n",
       "      <td>13</td>\n",
       "      <td>12</td>\n",
       "      <td>15.0</td>\n",
       "      <td>31.0</td>\n",
       "      <td>30.0</td>\n",
       "      <td>29.0</td>\n",
       "      <td>28.0</td>\n",
       "      <td>ZScoreRecording: 32 channels - 1 segments - 1....</td>\n",
       "    </tr>\n",
       "  </tbody>\n",
       "</table>\n",
       "<p>240 rows × 69 columns</p>\n",
       "</div>"
      ],
      "text/plain": [
       "    all_subj all_subjects  average_height  average_width  \\\n",
       "0    1.1_1.2   [1.1, 1.2]      264.959511     212.446672   \n",
       "1    1.1_1.2   [1.1, 1.2]      264.959511     212.446672   \n",
       "2    1.1_1.2   [1.1, 1.2]      264.959511     212.446672   \n",
       "3    1.1_1.2   [1.1, 1.2]      264.959511     212.446672   \n",
       "4    1.1_1.2   [1.1, 1.2]      264.959511     212.446672   \n",
       "..       ...          ...             ...            ...   \n",
       "235  1.2_1.4   [1.4, 1.2]      263.090950     212.292023   \n",
       "236  1.2_1.4   [1.4, 1.2]      263.090950     212.292023   \n",
       "237  1.2_1.4   [1.4, 1.2]      263.090950     212.292023   \n",
       "238  1.2_1.4   [1.4, 1.2]      263.090950     212.292023   \n",
       "239  1.2_1.4   [1.4, 1.2]      263.090950     212.292023   \n",
       "\n",
       "                      baseline_chunked_ephys_timestamp  \\\n",
       "0    [(830879, 850879), (850879, 870879), (870879, ...   \n",
       "1    [(3230878, 3250878), (3250878, 3270878), (3270...   \n",
       "2    [(5530880, 5550880), (5550880, 5570880), (5570...   \n",
       "3    [(7330877, 7350877), (7350877, 7370877), (7370...   \n",
       "4    [(8430880, 8450880), (8450880, 8470880), (8470...   \n",
       "..                                                 ...   \n",
       "235  [(61888794, 61908794), (61908794, 61928794), (...   \n",
       "236  [(63388812, 63408812), (63408812, 63428812), (...   \n",
       "237  [(65388836, 65408836), (65408836, 65428836), (...   \n",
       "238  [(67288865, 67308865), (67308865, 67328865), (...   \n",
       "239  [(68288874, 68308874), (68308874, 68328874), (...   \n",
       "\n",
       "                            baseline_chunked_lfp_index  \\\n",
       "0    [(41543, 42543), (42543, 43543), (43543, 44543...   \n",
       "1    [(161543, 162543), (162543, 163543), (163543, ...   \n",
       "2    [(276544, 277544), (277544, 278544), (278544, ...   \n",
       "3    [(366543, 367543), (367543, 368543), (368543, ...   \n",
       "4    [(421544, 422544), (422544, 423544), (423544, ...   \n",
       "..                                                 ...   \n",
       "235  [(3094439, 3095439), (3095439, 3096439), (3096...   \n",
       "236  [(3169440, 3170440), (3170440, 3171440), (3171...   \n",
       "237  [(3269441, 3270441), (3270441, 3271441), (3271...   \n",
       "238  [(3364443, 3365443), (3365443, 3366443), (3366...   \n",
       "239  [(3414443, 3415443), (3415443, 3416443), (3416...   \n",
       "\n",
       "                      baseline_chunked_thorax_velocity  \\\n",
       "0    [1.0482043233623093, 0.31708611003393056, 0.36...   \n",
       "1    [0.24093936568383498, 0.1201192423141825, 0.23...   \n",
       "2    [5.100726428703984, 3.878556470230757, 2.49962...   \n",
       "3    [1.6265370368079863, 1.939419253786388, 0.7282...   \n",
       "4    [3.822843311916576, 2.0652198252227167, 2.6389...   \n",
       "..                                                 ...   \n",
       "235  [0.591518062774352, 1.8651797757281146, 2.2240...   \n",
       "236  [0.9576044353368744, 2.244484229703428, 1.9594...   \n",
       "237  [1.4424292568325987, 2.460626790423604, 4.1534...   \n",
       "238  [0.9420699884829801, 2.822560619834402, 2.4673...   \n",
       "239  [2.1168894696324845, 1.2529255426378296, 0.547...   \n",
       "\n",
       "    baseline_ephys_timestamp_range baseline_lfp_timestamp_range  \\\n",
       "0                (830879, 1030879)               (41543, 51543)   \n",
       "1               (3230878, 3430878)             (161543, 171543)   \n",
       "2               (5530880, 5730880)             (276544, 286544)   \n",
       "3               (7330877, 7530877)             (366543, 376543)   \n",
       "4               (8430880, 8630880)             (421544, 431544)   \n",
       "..                             ...                          ...   \n",
       "235           (61888794, 62088794)           (3094439, 3104439)   \n",
       "236           (63388812, 63588812)           (3169440, 3179440)   \n",
       "237           (65388836, 65588836)           (3269441, 3279441)   \n",
       "238           (67288865, 67488865)           (3364443, 3374443)   \n",
       "239           (68288874, 68488874)           (3414443, 3424443)   \n",
       "\n",
       "                              baseline_thorax_velocity  ... eib_vHPC eib_BLA  \\\n",
       "0    [1.740210085775107, 1.7046357778943324, 1.6492...  ...       16      17   \n",
       "1    [0.20814043433428542, 0.22314126629182324, 0.2...  ...       16      17   \n",
       "2    [5.587991473689541, 5.787334491104469, 5.97825...  ...       16      17   \n",
       "3    [1.5079694415257687, 1.67290847806871, 1.80495...  ...       16      17   \n",
       "4    [4.401859801710984, 4.594906485228284, 4.73967...  ...       16      17   \n",
       "..                                                 ...  ...      ...     ...   \n",
       "235  [0.15083632715470466, 0.2763562562227468, 0.43...  ...       15      14   \n",
       "236  [0.26954963853110736, 0.5336390342987469, 0.77...  ...       15      14   \n",
       "237  [0.6389643792864463, 0.8216919700151519, 1.130...  ...       15      14   \n",
       "238  [0.8140859487059277, 0.7914479897581302, 0.984...  ...       15      14   \n",
       "239  [1.9077957886068988, 1.8184625964386179, 1.703...  ...       15      14   \n",
       "\n",
       "    eib_LH  eib_MD spike_interface_mPFC spike_interface_vHPC  \\\n",
       "0       18      19                  5.0                 31.0   \n",
       "1       18      19                  5.0                 31.0   \n",
       "2       18      19                  5.0                 31.0   \n",
       "3       18      19                  5.0                 31.0   \n",
       "4       18      19                  5.0                 31.0   \n",
       "..     ...     ...                  ...                  ...   \n",
       "235     13      12                 15.0                 31.0   \n",
       "236     13      12                 15.0                 31.0   \n",
       "237     13      12                 15.0                 31.0   \n",
       "238     13      12                 15.0                 31.0   \n",
       "239     13      12                 15.0                 31.0   \n",
       "\n",
       "    spike_interface_BLA spike_interface_LH spike_interface_MD  \\\n",
       "0                  30.0               29.0               28.0   \n",
       "1                  30.0               29.0               28.0   \n",
       "2                  30.0               29.0               28.0   \n",
       "3                  30.0               29.0               28.0   \n",
       "4                  30.0               29.0               28.0   \n",
       "..                  ...                ...                ...   \n",
       "235                30.0               29.0               28.0   \n",
       "236                30.0               29.0               28.0   \n",
       "237                30.0               29.0               28.0   \n",
       "238                30.0               29.0               28.0   \n",
       "239                30.0               29.0               28.0   \n",
       "\n",
       "                                            all_ch_lfp  \n",
       "0    ZScoreRecording: 32 channels - 1 segments - 1....  \n",
       "1    ZScoreRecording: 32 channels - 1 segments - 1....  \n",
       "2    ZScoreRecording: 32 channels - 1 segments - 1....  \n",
       "3    ZScoreRecording: 32 channels - 1 segments - 1....  \n",
       "4    ZScoreRecording: 32 channels - 1 segments - 1....  \n",
       "..                                                 ...  \n",
       "235  ZScoreRecording: 32 channels - 1 segments - 1....  \n",
       "236  ZScoreRecording: 32 channels - 1 segments - 1....  \n",
       "237  ZScoreRecording: 32 channels - 1 segments - 1....  \n",
       "238  ZScoreRecording: 32 channels - 1 segments - 1....  \n",
       "239  ZScoreRecording: 32 channels - 1 segments - 1....  \n",
       "\n",
       "[240 rows x 69 columns]"
      ]
     },
     "execution_count": 60,
     "metadata": {},
     "output_type": "execute_result"
    }
   ],
   "source": [
    "channel_map_and_all_trials_df"
   ]
  },
  {
   "cell_type": "code",
   "execution_count": 61,
   "metadata": {},
   "outputs": [],
   "source": [
    "melted_channel_map_and_all_trials_df = channel_map_and_all_trials_df.melt(id_vars=id_cols ,value_vars=brain_region_col, var_name='brain_region', value_name='channel')\n"
   ]
  },
  {
   "cell_type": "code",
   "execution_count": 62,
   "metadata": {},
   "outputs": [
    {
     "data": {
      "text/html": [
       "<div>\n",
       "<style scoped>\n",
       "    .dataframe tbody tr th:only-of-type {\n",
       "        vertical-align: middle;\n",
       "    }\n",
       "\n",
       "    .dataframe tbody tr th {\n",
       "        vertical-align: top;\n",
       "    }\n",
       "\n",
       "    .dataframe thead th {\n",
       "        text-align: right;\n",
       "    }\n",
       "</style>\n",
       "<table border=\"1\" class=\"dataframe\">\n",
       "  <thead>\n",
       "    <tr style=\"text-align: right;\">\n",
       "      <th></th>\n",
       "      <th>all_subj</th>\n",
       "      <th>all_subjects</th>\n",
       "      <th>average_height</th>\n",
       "      <th>average_width</th>\n",
       "      <th>baseline_chunked_ephys_timestamp</th>\n",
       "      <th>baseline_chunked_lfp_index</th>\n",
       "      <th>baseline_chunked_thorax_velocity</th>\n",
       "      <th>baseline_ephys_timestamp_range</th>\n",
       "      <th>baseline_lfp_timestamp_range</th>\n",
       "      <th>baseline_thorax_velocity</th>\n",
       "      <th>...</th>\n",
       "      <th>Cohort</th>\n",
       "      <th>Subject</th>\n",
       "      <th>eib_mPFC</th>\n",
       "      <th>eib_vHPC</th>\n",
       "      <th>eib_BLA</th>\n",
       "      <th>eib_LH</th>\n",
       "      <th>eib_MD</th>\n",
       "      <th>all_ch_lfp</th>\n",
       "      <th>brain_region</th>\n",
       "      <th>channel</th>\n",
       "    </tr>\n",
       "  </thead>\n",
       "  <tbody>\n",
       "    <tr>\n",
       "      <th>0</th>\n",
       "      <td>1.1_1.2</td>\n",
       "      <td>[1.1, 1.2]</td>\n",
       "      <td>264.959511</td>\n",
       "      <td>212.446672</td>\n",
       "      <td>[(830879, 850879), (850879, 870879), (870879, ...</td>\n",
       "      <td>[(41543, 42543), (42543, 43543), (43543, 44543...</td>\n",
       "      <td>[1.0482043233623093, 0.31708611003393056, 0.36...</td>\n",
       "      <td>(830879, 1030879)</td>\n",
       "      <td>(41543, 51543)</td>\n",
       "      <td>[1.740210085775107, 1.7046357778943324, 1.6492...</td>\n",
       "      <td>...</td>\n",
       "      <td>2</td>\n",
       "      <td>1.1</td>\n",
       "      <td>NaN</td>\n",
       "      <td>16</td>\n",
       "      <td>17</td>\n",
       "      <td>18</td>\n",
       "      <td>19</td>\n",
       "      <td>ZScoreRecording: 32 channels - 1 segments - 1....</td>\n",
       "      <td>spike_interface_mPFC</td>\n",
       "      <td>5.0</td>\n",
       "    </tr>\n",
       "    <tr>\n",
       "      <th>1</th>\n",
       "      <td>1.1_1.2</td>\n",
       "      <td>[1.1, 1.2]</td>\n",
       "      <td>264.959511</td>\n",
       "      <td>212.446672</td>\n",
       "      <td>[(3230878, 3250878), (3250878, 3270878), (3270...</td>\n",
       "      <td>[(161543, 162543), (162543, 163543), (163543, ...</td>\n",
       "      <td>[0.24093936568383498, 0.1201192423141825, 0.23...</td>\n",
       "      <td>(3230878, 3430878)</td>\n",
       "      <td>(161543, 171543)</td>\n",
       "      <td>[0.20814043433428542, 0.22314126629182324, 0.2...</td>\n",
       "      <td>...</td>\n",
       "      <td>2</td>\n",
       "      <td>1.1</td>\n",
       "      <td>NaN</td>\n",
       "      <td>16</td>\n",
       "      <td>17</td>\n",
       "      <td>18</td>\n",
       "      <td>19</td>\n",
       "      <td>ZScoreRecording: 32 channels - 1 segments - 1....</td>\n",
       "      <td>spike_interface_mPFC</td>\n",
       "      <td>5.0</td>\n",
       "    </tr>\n",
       "    <tr>\n",
       "      <th>2</th>\n",
       "      <td>1.1_1.2</td>\n",
       "      <td>[1.1, 1.2]</td>\n",
       "      <td>264.959511</td>\n",
       "      <td>212.446672</td>\n",
       "      <td>[(5530880, 5550880), (5550880, 5570880), (5570...</td>\n",
       "      <td>[(276544, 277544), (277544, 278544), (278544, ...</td>\n",
       "      <td>[5.100726428703984, 3.878556470230757, 2.49962...</td>\n",
       "      <td>(5530880, 5730880)</td>\n",
       "      <td>(276544, 286544)</td>\n",
       "      <td>[5.587991473689541, 5.787334491104469, 5.97825...</td>\n",
       "      <td>...</td>\n",
       "      <td>2</td>\n",
       "      <td>1.1</td>\n",
       "      <td>NaN</td>\n",
       "      <td>16</td>\n",
       "      <td>17</td>\n",
       "      <td>18</td>\n",
       "      <td>19</td>\n",
       "      <td>ZScoreRecording: 32 channels - 1 segments - 1....</td>\n",
       "      <td>spike_interface_mPFC</td>\n",
       "      <td>5.0</td>\n",
       "    </tr>\n",
       "    <tr>\n",
       "      <th>3</th>\n",
       "      <td>1.1_1.2</td>\n",
       "      <td>[1.1, 1.2]</td>\n",
       "      <td>264.959511</td>\n",
       "      <td>212.446672</td>\n",
       "      <td>[(7330877, 7350877), (7350877, 7370877), (7370...</td>\n",
       "      <td>[(366543, 367543), (367543, 368543), (368543, ...</td>\n",
       "      <td>[1.6265370368079863, 1.939419253786388, 0.7282...</td>\n",
       "      <td>(7330877, 7530877)</td>\n",
       "      <td>(366543, 376543)</td>\n",
       "      <td>[1.5079694415257687, 1.67290847806871, 1.80495...</td>\n",
       "      <td>...</td>\n",
       "      <td>2</td>\n",
       "      <td>1.1</td>\n",
       "      <td>NaN</td>\n",
       "      <td>16</td>\n",
       "      <td>17</td>\n",
       "      <td>18</td>\n",
       "      <td>19</td>\n",
       "      <td>ZScoreRecording: 32 channels - 1 segments - 1....</td>\n",
       "      <td>spike_interface_mPFC</td>\n",
       "      <td>5.0</td>\n",
       "    </tr>\n",
       "    <tr>\n",
       "      <th>4</th>\n",
       "      <td>1.1_1.2</td>\n",
       "      <td>[1.1, 1.2]</td>\n",
       "      <td>264.959511</td>\n",
       "      <td>212.446672</td>\n",
       "      <td>[(8430880, 8450880), (8450880, 8470880), (8470...</td>\n",
       "      <td>[(421544, 422544), (422544, 423544), (423544, ...</td>\n",
       "      <td>[3.822843311916576, 2.0652198252227167, 2.6389...</td>\n",
       "      <td>(8430880, 8630880)</td>\n",
       "      <td>(421544, 431544)</td>\n",
       "      <td>[4.401859801710984, 4.594906485228284, 4.73967...</td>\n",
       "      <td>...</td>\n",
       "      <td>2</td>\n",
       "      <td>1.1</td>\n",
       "      <td>NaN</td>\n",
       "      <td>16</td>\n",
       "      <td>17</td>\n",
       "      <td>18</td>\n",
       "      <td>19</td>\n",
       "      <td>ZScoreRecording: 32 channels - 1 segments - 1....</td>\n",
       "      <td>spike_interface_mPFC</td>\n",
       "      <td>5.0</td>\n",
       "    </tr>\n",
       "  </tbody>\n",
       "</table>\n",
       "<p>5 rows × 66 columns</p>\n",
       "</div>"
      ],
      "text/plain": [
       "  all_subj all_subjects  average_height  average_width  \\\n",
       "0  1.1_1.2   [1.1, 1.2]      264.959511     212.446672   \n",
       "1  1.1_1.2   [1.1, 1.2]      264.959511     212.446672   \n",
       "2  1.1_1.2   [1.1, 1.2]      264.959511     212.446672   \n",
       "3  1.1_1.2   [1.1, 1.2]      264.959511     212.446672   \n",
       "4  1.1_1.2   [1.1, 1.2]      264.959511     212.446672   \n",
       "\n",
       "                    baseline_chunked_ephys_timestamp  \\\n",
       "0  [(830879, 850879), (850879, 870879), (870879, ...   \n",
       "1  [(3230878, 3250878), (3250878, 3270878), (3270...   \n",
       "2  [(5530880, 5550880), (5550880, 5570880), (5570...   \n",
       "3  [(7330877, 7350877), (7350877, 7370877), (7370...   \n",
       "4  [(8430880, 8450880), (8450880, 8470880), (8470...   \n",
       "\n",
       "                          baseline_chunked_lfp_index  \\\n",
       "0  [(41543, 42543), (42543, 43543), (43543, 44543...   \n",
       "1  [(161543, 162543), (162543, 163543), (163543, ...   \n",
       "2  [(276544, 277544), (277544, 278544), (278544, ...   \n",
       "3  [(366543, 367543), (367543, 368543), (368543, ...   \n",
       "4  [(421544, 422544), (422544, 423544), (423544, ...   \n",
       "\n",
       "                    baseline_chunked_thorax_velocity  \\\n",
       "0  [1.0482043233623093, 0.31708611003393056, 0.36...   \n",
       "1  [0.24093936568383498, 0.1201192423141825, 0.23...   \n",
       "2  [5.100726428703984, 3.878556470230757, 2.49962...   \n",
       "3  [1.6265370368079863, 1.939419253786388, 0.7282...   \n",
       "4  [3.822843311916576, 2.0652198252227167, 2.6389...   \n",
       "\n",
       "  baseline_ephys_timestamp_range baseline_lfp_timestamp_range  \\\n",
       "0              (830879, 1030879)               (41543, 51543)   \n",
       "1             (3230878, 3430878)             (161543, 171543)   \n",
       "2             (5530880, 5730880)             (276544, 286544)   \n",
       "3             (7330877, 7530877)             (366543, 376543)   \n",
       "4             (8430880, 8630880)             (421544, 431544)   \n",
       "\n",
       "                            baseline_thorax_velocity  ... Cohort Subject  \\\n",
       "0  [1.740210085775107, 1.7046357778943324, 1.6492...  ...      2     1.1   \n",
       "1  [0.20814043433428542, 0.22314126629182324, 0.2...  ...      2     1.1   \n",
       "2  [5.587991473689541, 5.787334491104469, 5.97825...  ...      2     1.1   \n",
       "3  [1.5079694415257687, 1.67290847806871, 1.80495...  ...      2     1.1   \n",
       "4  [4.401859801710984, 4.594906485228284, 4.73967...  ...      2     1.1   \n",
       "\n",
       "  eib_mPFC  eib_vHPC eib_BLA eib_LH eib_MD  \\\n",
       "0      NaN        16      17     18     19   \n",
       "1      NaN        16      17     18     19   \n",
       "2      NaN        16      17     18     19   \n",
       "3      NaN        16      17     18     19   \n",
       "4      NaN        16      17     18     19   \n",
       "\n",
       "                                          all_ch_lfp          brain_region  \\\n",
       "0  ZScoreRecording: 32 channels - 1 segments - 1....  spike_interface_mPFC   \n",
       "1  ZScoreRecording: 32 channels - 1 segments - 1....  spike_interface_mPFC   \n",
       "2  ZScoreRecording: 32 channels - 1 segments - 1....  spike_interface_mPFC   \n",
       "3  ZScoreRecording: 32 channels - 1 segments - 1....  spike_interface_mPFC   \n",
       "4  ZScoreRecording: 32 channels - 1 segments - 1....  spike_interface_mPFC   \n",
       "\n",
       "  channel  \n",
       "0     5.0  \n",
       "1     5.0  \n",
       "2     5.0  \n",
       "3     5.0  \n",
       "4     5.0  \n",
       "\n",
       "[5 rows x 66 columns]"
      ]
     },
     "execution_count": 62,
     "metadata": {},
     "output_type": "execute_result"
    }
   ],
   "source": [
    "melted_channel_map_and_all_trials_df.head()"
   ]
  },
  {
   "cell_type": "code",
   "execution_count": 63,
   "metadata": {},
   "outputs": [
    {
     "data": {
      "text/html": [
       "<div>\n",
       "<style scoped>\n",
       "    .dataframe tbody tr th:only-of-type {\n",
       "        vertical-align: middle;\n",
       "    }\n",
       "\n",
       "    .dataframe tbody tr th {\n",
       "        vertical-align: top;\n",
       "    }\n",
       "\n",
       "    .dataframe thead th {\n",
       "        text-align: right;\n",
       "    }\n",
       "</style>\n",
       "<table border=\"1\" class=\"dataframe\">\n",
       "  <thead>\n",
       "    <tr style=\"text-align: right;\">\n",
       "      <th></th>\n",
       "      <th>all_subj</th>\n",
       "      <th>all_subjects</th>\n",
       "      <th>average_height</th>\n",
       "      <th>average_width</th>\n",
       "      <th>baseline_chunked_ephys_timestamp</th>\n",
       "      <th>baseline_chunked_lfp_index</th>\n",
       "      <th>baseline_chunked_thorax_velocity</th>\n",
       "      <th>baseline_ephys_timestamp_range</th>\n",
       "      <th>baseline_lfp_timestamp_range</th>\n",
       "      <th>baseline_thorax_velocity</th>\n",
       "      <th>...</th>\n",
       "      <th>Cohort</th>\n",
       "      <th>Subject</th>\n",
       "      <th>eib_mPFC</th>\n",
       "      <th>eib_vHPC</th>\n",
       "      <th>eib_BLA</th>\n",
       "      <th>eib_LH</th>\n",
       "      <th>eib_MD</th>\n",
       "      <th>all_ch_lfp</th>\n",
       "      <th>brain_region</th>\n",
       "      <th>channel</th>\n",
       "    </tr>\n",
       "  </thead>\n",
       "  <tbody>\n",
       "    <tr>\n",
       "      <th>1195</th>\n",
       "      <td>1.2_1.4</td>\n",
       "      <td>[1.4, 1.2]</td>\n",
       "      <td>263.09095</td>\n",
       "      <td>212.292023</td>\n",
       "      <td>[(61888794, 61908794), (61908794, 61928794), (...</td>\n",
       "      <td>[(3094439, 3095439), (3095439, 3096439), (3096...</td>\n",
       "      <td>[0.591518062774352, 1.8651797757281146, 2.2240...</td>\n",
       "      <td>(61888794, 62088794)</td>\n",
       "      <td>(3094439, 3104439)</td>\n",
       "      <td>[0.15083632715470466, 0.2763562562227468, 0.43...</td>\n",
       "      <td>...</td>\n",
       "      <td>2</td>\n",
       "      <td>1.4</td>\n",
       "      <td>NaN</td>\n",
       "      <td>15</td>\n",
       "      <td>14</td>\n",
       "      <td>13</td>\n",
       "      <td>12</td>\n",
       "      <td>ZScoreRecording: 32 channels - 1 segments - 1....</td>\n",
       "      <td>spike_interface_MD</td>\n",
       "      <td>28.0</td>\n",
       "    </tr>\n",
       "    <tr>\n",
       "      <th>1196</th>\n",
       "      <td>1.2_1.4</td>\n",
       "      <td>[1.4, 1.2]</td>\n",
       "      <td>263.09095</td>\n",
       "      <td>212.292023</td>\n",
       "      <td>[(63388812, 63408812), (63408812, 63428812), (...</td>\n",
       "      <td>[(3169440, 3170440), (3170440, 3171440), (3171...</td>\n",
       "      <td>[0.9576044353368744, 2.244484229703428, 1.9594...</td>\n",
       "      <td>(63388812, 63588812)</td>\n",
       "      <td>(3169440, 3179440)</td>\n",
       "      <td>[0.26954963853110736, 0.5336390342987469, 0.77...</td>\n",
       "      <td>...</td>\n",
       "      <td>2</td>\n",
       "      <td>1.4</td>\n",
       "      <td>NaN</td>\n",
       "      <td>15</td>\n",
       "      <td>14</td>\n",
       "      <td>13</td>\n",
       "      <td>12</td>\n",
       "      <td>ZScoreRecording: 32 channels - 1 segments - 1....</td>\n",
       "      <td>spike_interface_MD</td>\n",
       "      <td>28.0</td>\n",
       "    </tr>\n",
       "    <tr>\n",
       "      <th>1197</th>\n",
       "      <td>1.2_1.4</td>\n",
       "      <td>[1.4, 1.2]</td>\n",
       "      <td>263.09095</td>\n",
       "      <td>212.292023</td>\n",
       "      <td>[(65388836, 65408836), (65408836, 65428836), (...</td>\n",
       "      <td>[(3269441, 3270441), (3270441, 3271441), (3271...</td>\n",
       "      <td>[1.4424292568325987, 2.460626790423604, 4.1534...</td>\n",
       "      <td>(65388836, 65588836)</td>\n",
       "      <td>(3269441, 3279441)</td>\n",
       "      <td>[0.6389643792864463, 0.8216919700151519, 1.130...</td>\n",
       "      <td>...</td>\n",
       "      <td>2</td>\n",
       "      <td>1.4</td>\n",
       "      <td>NaN</td>\n",
       "      <td>15</td>\n",
       "      <td>14</td>\n",
       "      <td>13</td>\n",
       "      <td>12</td>\n",
       "      <td>ZScoreRecording: 32 channels - 1 segments - 1....</td>\n",
       "      <td>spike_interface_MD</td>\n",
       "      <td>28.0</td>\n",
       "    </tr>\n",
       "    <tr>\n",
       "      <th>1198</th>\n",
       "      <td>1.2_1.4</td>\n",
       "      <td>[1.4, 1.2]</td>\n",
       "      <td>263.09095</td>\n",
       "      <td>212.292023</td>\n",
       "      <td>[(67288865, 67308865), (67308865, 67328865), (...</td>\n",
       "      <td>[(3364443, 3365443), (3365443, 3366443), (3366...</td>\n",
       "      <td>[0.9420699884829801, 2.822560619834402, 2.4673...</td>\n",
       "      <td>(67288865, 67488865)</td>\n",
       "      <td>(3364443, 3374443)</td>\n",
       "      <td>[0.8140859487059277, 0.7914479897581302, 0.984...</td>\n",
       "      <td>...</td>\n",
       "      <td>2</td>\n",
       "      <td>1.4</td>\n",
       "      <td>NaN</td>\n",
       "      <td>15</td>\n",
       "      <td>14</td>\n",
       "      <td>13</td>\n",
       "      <td>12</td>\n",
       "      <td>ZScoreRecording: 32 channels - 1 segments - 1....</td>\n",
       "      <td>spike_interface_MD</td>\n",
       "      <td>28.0</td>\n",
       "    </tr>\n",
       "    <tr>\n",
       "      <th>1199</th>\n",
       "      <td>1.2_1.4</td>\n",
       "      <td>[1.4, 1.2]</td>\n",
       "      <td>263.09095</td>\n",
       "      <td>212.292023</td>\n",
       "      <td>[(68288874, 68308874), (68308874, 68328874), (...</td>\n",
       "      <td>[(3414443, 3415443), (3415443, 3416443), (3416...</td>\n",
       "      <td>[2.1168894696324845, 1.2529255426378296, 0.547...</td>\n",
       "      <td>(68288874, 68488874)</td>\n",
       "      <td>(3414443, 3424443)</td>\n",
       "      <td>[1.9077957886068988, 1.8184625964386179, 1.703...</td>\n",
       "      <td>...</td>\n",
       "      <td>2</td>\n",
       "      <td>1.4</td>\n",
       "      <td>NaN</td>\n",
       "      <td>15</td>\n",
       "      <td>14</td>\n",
       "      <td>13</td>\n",
       "      <td>12</td>\n",
       "      <td>ZScoreRecording: 32 channels - 1 segments - 1....</td>\n",
       "      <td>spike_interface_MD</td>\n",
       "      <td>28.0</td>\n",
       "    </tr>\n",
       "  </tbody>\n",
       "</table>\n",
       "<p>5 rows × 66 columns</p>\n",
       "</div>"
      ],
      "text/plain": [
       "     all_subj all_subjects  average_height  average_width  \\\n",
       "1195  1.2_1.4   [1.4, 1.2]       263.09095     212.292023   \n",
       "1196  1.2_1.4   [1.4, 1.2]       263.09095     212.292023   \n",
       "1197  1.2_1.4   [1.4, 1.2]       263.09095     212.292023   \n",
       "1198  1.2_1.4   [1.4, 1.2]       263.09095     212.292023   \n",
       "1199  1.2_1.4   [1.4, 1.2]       263.09095     212.292023   \n",
       "\n",
       "                       baseline_chunked_ephys_timestamp  \\\n",
       "1195  [(61888794, 61908794), (61908794, 61928794), (...   \n",
       "1196  [(63388812, 63408812), (63408812, 63428812), (...   \n",
       "1197  [(65388836, 65408836), (65408836, 65428836), (...   \n",
       "1198  [(67288865, 67308865), (67308865, 67328865), (...   \n",
       "1199  [(68288874, 68308874), (68308874, 68328874), (...   \n",
       "\n",
       "                             baseline_chunked_lfp_index  \\\n",
       "1195  [(3094439, 3095439), (3095439, 3096439), (3096...   \n",
       "1196  [(3169440, 3170440), (3170440, 3171440), (3171...   \n",
       "1197  [(3269441, 3270441), (3270441, 3271441), (3271...   \n",
       "1198  [(3364443, 3365443), (3365443, 3366443), (3366...   \n",
       "1199  [(3414443, 3415443), (3415443, 3416443), (3416...   \n",
       "\n",
       "                       baseline_chunked_thorax_velocity  \\\n",
       "1195  [0.591518062774352, 1.8651797757281146, 2.2240...   \n",
       "1196  [0.9576044353368744, 2.244484229703428, 1.9594...   \n",
       "1197  [1.4424292568325987, 2.460626790423604, 4.1534...   \n",
       "1198  [0.9420699884829801, 2.822560619834402, 2.4673...   \n",
       "1199  [2.1168894696324845, 1.2529255426378296, 0.547...   \n",
       "\n",
       "     baseline_ephys_timestamp_range baseline_lfp_timestamp_range  \\\n",
       "1195           (61888794, 62088794)           (3094439, 3104439)   \n",
       "1196           (63388812, 63588812)           (3169440, 3179440)   \n",
       "1197           (65388836, 65588836)           (3269441, 3279441)   \n",
       "1198           (67288865, 67488865)           (3364443, 3374443)   \n",
       "1199           (68288874, 68488874)           (3414443, 3424443)   \n",
       "\n",
       "                               baseline_thorax_velocity  ... Cohort Subject  \\\n",
       "1195  [0.15083632715470466, 0.2763562562227468, 0.43...  ...      2     1.4   \n",
       "1196  [0.26954963853110736, 0.5336390342987469, 0.77...  ...      2     1.4   \n",
       "1197  [0.6389643792864463, 0.8216919700151519, 1.130...  ...      2     1.4   \n",
       "1198  [0.8140859487059277, 0.7914479897581302, 0.984...  ...      2     1.4   \n",
       "1199  [1.9077957886068988, 1.8184625964386179, 1.703...  ...      2     1.4   \n",
       "\n",
       "     eib_mPFC  eib_vHPC eib_BLA eib_LH eib_MD  \\\n",
       "1195      NaN        15      14     13     12   \n",
       "1196      NaN        15      14     13     12   \n",
       "1197      NaN        15      14     13     12   \n",
       "1198      NaN        15      14     13     12   \n",
       "1199      NaN        15      14     13     12   \n",
       "\n",
       "                                             all_ch_lfp        brain_region  \\\n",
       "1195  ZScoreRecording: 32 channels - 1 segments - 1....  spike_interface_MD   \n",
       "1196  ZScoreRecording: 32 channels - 1 segments - 1....  spike_interface_MD   \n",
       "1197  ZScoreRecording: 32 channels - 1 segments - 1....  spike_interface_MD   \n",
       "1198  ZScoreRecording: 32 channels - 1 segments - 1....  spike_interface_MD   \n",
       "1199  ZScoreRecording: 32 channels - 1 segments - 1....  spike_interface_MD   \n",
       "\n",
       "     channel  \n",
       "1195    28.0  \n",
       "1196    28.0  \n",
       "1197    28.0  \n",
       "1198    28.0  \n",
       "1199    28.0  \n",
       "\n",
       "[5 rows x 66 columns]"
      ]
     },
     "execution_count": 63,
     "metadata": {},
     "output_type": "execute_result"
    }
   ],
   "source": [
    "melted_channel_map_and_all_trials_df.tail()"
   ]
  },
  {
   "cell_type": "markdown",
   "metadata": {},
   "source": [
    "- Getting the traces for each trial for each brain region"
   ]
  },
  {
   "cell_type": "code",
   "execution_count": 64,
   "metadata": {},
   "outputs": [],
   "source": [
    "melted_channel_map_and_all_trials_df[\"channel\"] = melted_channel_map_and_all_trials_df[\"channel\"].astype(int).astype(str)\n",
    "melted_channel_map_and_all_trials_df[\"resampled_index\"] = melted_channel_map_and_all_trials_df[\"resampled_index\"].astype(int)"
   ]
  },
  {
   "cell_type": "code",
   "execution_count": null,
   "metadata": {},
   "outputs": [],
   "source": [
    "melted_channel_map_and_all_trials_df[\"chunked_current_trace\"] = melted_channel_map_and_all_trials_df.apply(lambda x: \n",
    "[x[\"all_ch_lfp\"].get_traces(channel_ids=[x[\"channel\"]], start_frame=chunk_index[0], end_frame=chunk_index[1]).T[0] for chunk_index in x[\"chunked_lfp_index\"]], axis=1)"
   ]
  },
  {
   "cell_type": "code",
   "execution_count": null,
   "metadata": {},
   "outputs": [],
   "source": [
    "len(melted_channel_map_and_all_trials_df[\"chunked_current_trace\"].iloc[0])"
   ]
  },
  {
   "cell_type": "code",
   "execution_count": null,
   "metadata": {
    "scrolled": true
   },
   "outputs": [],
   "source": [
    "melted_channel_map_and_all_trials_df[\"chunked_current_trace\"]"
   ]
  },
  {
   "cell_type": "code",
   "execution_count": null,
   "metadata": {},
   "outputs": [],
   "source": [
    "melted_channel_map_and_all_trials_df[\"chunk_id\"] = [list(range(0,10))] * len(melted_channel_map_and_all_trials_df)"
   ]
  },
  {
   "cell_type": "code",
   "execution_count": null,
   "metadata": {},
   "outputs": [],
   "source": [
    "exploded_channel_map_and_all_trials_df = melted_channel_map_and_all_trials_df.explode([\"current_chunked_thorax_velocity\", \"chunked_current_trace\", \"binned_current_thorax_velocity\", \"chunked_lfp_index\",\t\"chunked_ephys_timestamp\", \"chunk_id\"])"
   ]
  },
  {
   "cell_type": "code",
   "execution_count": null,
   "metadata": {
    "scrolled": true
   },
   "outputs": [],
   "source": [
    "exploded_channel_map_and_all_trials_df"
   ]
  },
  {
   "cell_type": "code",
   "execution_count": null,
   "metadata": {},
   "outputs": [],
   "source": [
    "exploded_channel_map_and_all_trials_df[\"len_chunked_current_trace\"] = exploded_channel_map_and_all_trials_df[\"chunked_current_trace\"].apply(lambda x: len(x))\n"
   ]
  },
  {
   "cell_type": "code",
   "execution_count": null,
   "metadata": {},
   "outputs": [],
   "source": [
    "exploded_channel_map_and_all_trials_df[\"len_chunked_current_trace\"].unique()"
   ]
  },
  {
   "cell_type": "code",
   "execution_count": null,
   "metadata": {},
   "outputs": [],
   "source": [
    "exploded_channel_map_and_all_trials_df[\"chunked_current_trace\"] = exploded_channel_map_and_all_trials_df[\"chunked_current_trace\"].apply(lambda x: x[:RESAMPLE_RATE])"
   ]
  },
  {
   "cell_type": "code",
   "execution_count": null,
   "metadata": {
    "scrolled": true
   },
   "outputs": [],
   "source": [
    "exploded_channel_map_and_all_trials_df[\"chunked_current_trace\"]"
   ]
  },
  {
   "cell_type": "markdown",
   "metadata": {},
   "source": [
    "- Calcuating the power at each frequency band"
   ]
  },
  {
   "cell_type": "code",
   "execution_count": null,
   "metadata": {},
   "outputs": [],
   "source": [
    "exploded_channel_map_and_all_trials_df[\"multitaper\"] = exploded_channel_map_and_all_trials_df[\"chunked_current_trace\"].apply(lambda x: Multitaper(time_series=x,                                                                                        sampling_frequency=RESAMPLE_RATE))"
   ]
  },
  {
   "cell_type": "code",
   "execution_count": null,
   "metadata": {},
   "outputs": [],
   "source": [
    "exploded_channel_map_and_all_trials_df[\"connectivity\"] = exploded_channel_map_and_all_trials_df[\"multitaper\"].apply(lambda x: Connectivity.from_multitaper(x))"
   ]
  },
  {
   "cell_type": "code",
   "execution_count": null,
   "metadata": {},
   "outputs": [],
   "source": [
    "exploded_channel_map_and_all_trials_df[\"frequencies\"] = exploded_channel_map_and_all_trials_df[\"connectivity\"].apply(lambda x: x.frequencies)"
   ]
  },
  {
   "cell_type": "code",
   "execution_count": null,
   "metadata": {},
   "outputs": [],
   "source": [
    "exploded_channel_map_and_all_trials_df[\"power\"] = exploded_channel_map_and_all_trials_df[\"connectivity\"].apply(lambda x: x.power().squeeze())"
   ]
  },
  {
   "cell_type": "code",
   "execution_count": null,
   "metadata": {},
   "outputs": [],
   "source": [
    "exploded_channel_map_and_all_trials_df.head()"
   ]
  },
  {
   "cell_type": "code",
   "execution_count": null,
   "metadata": {
    "scrolled": true
   },
   "outputs": [],
   "source": [
    "exploded_channel_map_and_all_trials_df.tail()"
   ]
  },
  {
   "cell_type": "markdown",
   "metadata": {},
   "source": [
    "# Plotting by velocity"
   ]
  },
  {
   "cell_type": "markdown",
   "metadata": {},
   "source": [
    "- Grouping all the rows(1s segment of trials) that share the same brain region, whether its before or after the tone, and velocity grouping"
   ]
  },
  {
   "cell_type": "code",
   "execution_count": null,
   "metadata": {},
   "outputs": [],
   "source": [
    "grouped_all_trials_df = exploded_channel_map_and_all_trials_df.groupby(['brain_region', 'trial_or_baseline', 'binned_current_thorax_velocity']).agg({'power': lambda x: np.vstack(x.tolist())}).reset_index()"
   ]
  },
  {
   "cell_type": "markdown",
   "metadata": {},
   "source": [
    "- Calculating the mean and sem of the LFP power"
   ]
  },
  {
   "cell_type": "code",
   "execution_count": null,
   "metadata": {},
   "outputs": [],
   "source": [
    "grouped_all_trials_df[\"mean_power\"] = grouped_all_trials_df[\"power\"].apply(lambda x: np.nanmean(np.vstack(x), axis=0))"
   ]
  },
  {
   "cell_type": "code",
   "execution_count": null,
   "metadata": {},
   "outputs": [],
   "source": [
    "grouped_all_trials_df[\"std_power\"] = grouped_all_trials_df[\"power\"].apply(lambda x: np.nanstd(np.vstack(x), axis=0))"
   ]
  },
  {
   "cell_type": "code",
   "execution_count": null,
   "metadata": {},
   "outputs": [],
   "source": [
    "grouped_all_trials_df[\"n_trials\"] = grouped_all_trials_df[\"power\"].apply(lambda x: np.sum(~np.isnan(x), axis=0))"
   ]
  },
  {
   "cell_type": "code",
   "execution_count": null,
   "metadata": {},
   "outputs": [],
   "source": [
    "grouped_all_trials_df[\"sem_power\"] = grouped_all_trials_df.apply(lambda x: x[\"std_power\"] / np.sqrt(x[\"n_trials\"]), axis=1)"
   ]
  },
  {
   "cell_type": "code",
   "execution_count": null,
   "metadata": {
    "scrolled": true
   },
   "outputs": [],
   "source": [
    "low_freq = 0\n",
    "high_freq = 12\n",
    "for region in grouped_all_trials_df[\"brain_region\"].unique():\n",
    "    region_df = grouped_all_trials_df[grouped_all_trials_df[\"brain_region\"] == region]\n",
    "\n",
    "    fig, ax = plt.subplots()\n",
    "    plt.title(\"Z-Scored LFP Power in {}\".format(region.split(\"_\")[-1]))\n",
    "    plt.xlabel(\"Frequency\")\n",
    "    plt.ylabel(\"Power\")\n",
    "    plt.xlim(low_freq, high_freq)    \n",
    "    plt.yscale(\"log\")\n",
    "    plt.ylim(0.01, 0.1)\n",
    "\n",
    "    for index, row in region_df.iterrows():\n",
    "        try:\n",
    "            ax = sns.lineplot(x=exploded_channel_map_and_all_trials_df[\"frequencies\"].iloc[0], y=row[\"mean_power\"], \\\n",
    "            label=\"{} for {}\".format(BIN_TO_VELOCITY[row[\"binned_current_thorax_velocity\"]], \\\n",
    "            row[\"trial_or_baseline\"]), color=BIN_TO_COLOR[row[\"binned_current_thorax_velocity\"]][row[\"trial_or_baseline\"]],\n",
    "            linestyle=TRIAL_OR_BASELINE_TO_STYLE[row[\"trial_or_baseline\"]], linewidth=3)\n",
    "\n",
    "            plt.fill_between(exploded_channel_map_and_all_trials_df[\"frequencies\"].iloc[0], \\\n",
    "            row[\"mean_power\"] - row[\"sem_power\"], row[\"mean_power\"] + row[\"sem_power\"], alpha=0.2,\n",
    "            color=BIN_TO_COLOR[row[\"binned_current_thorax_velocity\"]][row[\"trial_or_baseline\"]])\n",
    "        except Exception as e: \n",
    "            print(e)\n",
    "            continue\n",
    "\n",
    "    plt.legend(loc=\"lower left\")\n",
    "    \n",
    "    plt.savefig(\"./proc/velocity_parsing/plot_region_line_velocity_baselinetrial/\\\n",
    "    rce_lfp_power_velocity_baselinetrial_freq_{}_to_{}_region_{}.png\".format(low_freq, high_freq, region.split(\"_\")[-1]))\n"
   ]
  },
  {
   "cell_type": "code",
   "execution_count": null,
   "metadata": {},
   "outputs": [],
   "source": [
    "low_freq = 12\n",
    "high_freq = 30\n",
    "for region in grouped_all_trials_df[\"brain_region\"].unique():\n",
    "    region_df = grouped_all_trials_df[grouped_all_trials_df[\"brain_region\"] == region]\n",
    "\n",
    "    fig, ax = plt.subplots()\n",
    "    plt.title(\"Z-Scored LFP Power in {}\".format(region.split(\"_\")[-1]))\n",
    "    plt.xlabel(\"Frequency\")\n",
    "    plt.ylabel(\"Power\")\n",
    "    plt.xlim(low_freq, high_freq)    \n",
    "    plt.yscale(\"log\")\n",
    "    plt.ylim(0.002, 0.015) \n",
    "\n",
    "    for index, row in region_df.iterrows():\n",
    "        try:\n",
    "            ax = sns.lineplot(x=exploded_channel_map_and_all_trials_df[\"frequencies\"].iloc[0], y=row[\"mean_power\"], \\\n",
    "            label=\"{} for {}\".format(BIN_TO_VELOCITY[row[\"binned_current_thorax_velocity\"]], \\\n",
    "            row[\"trial_or_baseline\"]), color=BIN_TO_COLOR[row[\"binned_current_thorax_velocity\"]][row[\"trial_or_baseline\"]],\n",
    "            linestyle=TRIAL_OR_BASELINE_TO_STYLE[row[\"trial_or_baseline\"]], linewidth=3)\n",
    "\n",
    "            plt.fill_between(exploded_channel_map_and_all_trials_df[\"frequencies\"].iloc[0], \\\n",
    "            row[\"mean_power\"] - row[\"sem_power\"], row[\"mean_power\"] + row[\"sem_power\"], alpha=0.2,\n",
    "            color=BIN_TO_COLOR[row[\"binned_current_thorax_velocity\"]][row[\"trial_or_baseline\"]])\n",
    "        except Exception as e: \n",
    "            print(e)\n",
    "            continue\n",
    "\n",
    "    plt.savefig(\"./proc/velocity_parsing/plot_region_line_velocity_baselinetrial/\\\n",
    "    rce_lfp_power_velocity_baselinetrial_freq_{}_to_{}_region_{}.png\".format(low_freq, high_freq, region.split(\"_\")[-1]))\n"
   ]
  },
  {
   "cell_type": "code",
   "execution_count": null,
   "metadata": {},
   "outputs": [],
   "source": [
    "low_freq = 30\n",
    "high_freq = 90\n",
    "for region in grouped_all_trials_df[\"brain_region\"].unique():\n",
    "    region_df = grouped_all_trials_df[grouped_all_trials_df[\"brain_region\"] == region]\n",
    "\n",
    "    fig, ax = plt.subplots()\n",
    "    plt.title(\"Z-Scored LFP Power in {}\".format(region.split(\"_\")[-1]))\n",
    "    plt.xlabel(\"Frequency\")\n",
    "    plt.ylabel(\"Power\")\n",
    "    plt.xlim(low_freq, high_freq)    \n",
    "    # plt.ylim(0, 0.005)\n",
    "    plt.yscale(\"log\")\n",
    "    plt.ylim(0.0003, 0.005) \n",
    "\n",
    "    for index, row in region_df.iterrows():\n",
    "        try:\n",
    "            ax = sns.lineplot(x=exploded_channel_map_and_all_trials_df[\"frequencies\"].iloc[0], y=row[\"mean_power\"], \\\n",
    "            label=\"{} for {}\".format(BIN_TO_VELOCITY[row[\"binned_current_thorax_velocity\"]], \\\n",
    "            row[\"trial_or_baseline\"]), color=BIN_TO_COLOR[row[\"binned_current_thorax_velocity\"]][row[\"trial_or_baseline\"]],\n",
    "            linestyle=TRIAL_OR_BASELINE_TO_STYLE[row[\"trial_or_baseline\"]], linewidth=3)\n",
    "\n",
    "            plt.fill_between(exploded_channel_map_and_all_trials_df[\"frequencies\"].iloc[0], \\\n",
    "            row[\"mean_power\"] - row[\"sem_power\"], row[\"mean_power\"] + row[\"sem_power\"], alpha=0.2,\n",
    "            color=BIN_TO_COLOR[row[\"binned_current_thorax_velocity\"]][row[\"trial_or_baseline\"]])\n",
    "        except Exception as e: \n",
    "            print(e)\n",
    "            continue\n",
    "    plt.legend()\n",
    "    plt.savefig(\"./proc/velocity_parsing/plot_region_line_velocity_baselinetrial/\\\n",
    "    rce_lfp_power_velocity_baselinetrial_freq_{}_to_{}_region_{}.png\".format(low_freq, high_freq, region.split(\"_\")[-1]))\n"
   ]
  },
  {
   "cell_type": "code",
   "execution_count": null,
   "metadata": {},
   "outputs": [],
   "source": []
  },
  {
   "cell_type": "code",
   "execution_count": null,
   "metadata": {},
   "outputs": [],
   "source": []
  },
  {
   "cell_type": "markdown",
   "metadata": {},
   "source": [
    "## Plotting all the lower velocities together"
   ]
  },
  {
   "cell_type": "code",
   "execution_count": null,
   "metadata": {},
   "outputs": [],
   "source": [
    "speed_filtered_all_trials_df = exploded_channel_map_and_all_trials_df[exploded_channel_map_and_all_trials_df[\"binned_current_thorax_velocity\"] == 0]"
   ]
  },
  {
   "cell_type": "code",
   "execution_count": null,
   "metadata": {},
   "outputs": [],
   "source": [
    "speed_filtered_all_trials_df.shape"
   ]
  },
  {
   "cell_type": "code",
   "execution_count": null,
   "metadata": {},
   "outputs": [],
   "source": [
    "grouped_all_trials_df = speed_filtered_all_trials_df.groupby(['brain_region', 'trial_outcome', 'trial_or_baseline']).agg({'power': lambda x: np.vstack(x.tolist())}).reset_index()"
   ]
  },
  {
   "cell_type": "code",
   "execution_count": null,
   "metadata": {},
   "outputs": [],
   "source": [
    "grouped_all_trials_df[\"mean_power\"] = grouped_all_trials_df[\"power\"].apply(lambda x: np.nanmean(np.vstack(x), axis=0))"
   ]
  },
  {
   "cell_type": "code",
   "execution_count": null,
   "metadata": {},
   "outputs": [],
   "source": [
    "grouped_all_trials_df[\"std_power\"] = grouped_all_trials_df[\"power\"].apply(lambda x: np.nanstd(np.vstack(x), axis=0))"
   ]
  },
  {
   "cell_type": "code",
   "execution_count": null,
   "metadata": {},
   "outputs": [],
   "source": [
    "grouped_all_trials_df[\"n_trials\"] = grouped_all_trials_df[\"power\"].apply(lambda x: np.sum(~np.isnan(x), axis=0))"
   ]
  },
  {
   "cell_type": "code",
   "execution_count": null,
   "metadata": {},
   "outputs": [],
   "source": [
    "grouped_all_trials_df[\"sem_power\"] = grouped_all_trials_df.apply(lambda x: x[\"std_power\"] / np.sqrt(x[\"n_trials\"]), axis=1)"
   ]
  },
  {
   "cell_type": "code",
   "execution_count": null,
   "metadata": {
    "scrolled": true
   },
   "outputs": [],
   "source": [
    "grouped_all_trials_df[\"trial_outcome\"].unique()"
   ]
  },
  {
   "cell_type": "markdown",
   "metadata": {},
   "source": [
    "# Drawing plots all together"
   ]
  },
  {
   "cell_type": "raw",
   "metadata": {},
   "source": [
    "brain_region_to_ylim = {'spike_interface_BLA': 0.15, 'spike_interface_LH': 0.3, 'spike_interface_MD': 0.3,\n",
    "       'spike_interface_mPFC': 0.2, 'spike_interface_vHPC': 0.3}"
   ]
  },
  {
   "cell_type": "code",
   "execution_count": null,
   "metadata": {},
   "outputs": [],
   "source": [
    "low_freq = 0\n",
    "high_freq = 12\n",
    "for region in grouped_all_trials_df[\"brain_region\"].unique():\n",
    "    region_df = grouped_all_trials_df[grouped_all_trials_df[\"brain_region\"] == region]\n",
    "    \n",
    "    fig, ax = plt.subplots()\n",
    "    plt.title(\"Z-Scored LFP Power in {} at 0 to 5cm/s\".format(region.split(\"_\")[-1]))\n",
    "    plt.xlabel(\"Frequency\")\n",
    "    plt.ylabel(\"Power\")\n",
    "    plt.xlim(low_freq, high_freq) \n",
    "    # plt.yscale(\"log\")\n",
    "    # plt.ylim(0.01, 0.06)\n",
    "\n",
    "    for trial_or_baseline, outcome in itertools.product(region_df[\"trial_or_baseline\"].unique(), sorted(region_df[\"trial_outcome\"].unique())[::-1]):\n",
    "        outcome_df = region_df[(region_df[\"trial_or_baseline\"] == trial_or_baseline) & (region_df[\"trial_outcome\"] == outcome)]\n",
    "        for index, row in outcome_df.iterrows():\n",
    "            try:\n",
    "                ax = sns.lineplot(x=exploded_channel_map_and_all_trials_df[\"frequencies\"].iloc[0], y=row[\"mean_power\"], \\\n",
    "                label=\"{} {}\".format(outcome, trial_or_baseline), color=BASELINE_OUTCOME_TO_COLOR[outcome], \\\n",
    "                linestyle=TRIAL_OR_BASELINE_TO_STYLE[trial_or_baseline], linewidth=3)\n",
    "                \n",
    "                plt.fill_between(exploded_channel_map_and_all_trials_df[\"frequencies\"].iloc[0], \n",
    "                row[\"mean_power\"] - row[\"sem_power\"], row[\"mean_power\"] + row[\"sem_power\"], \\\n",
    "                alpha=0.1, color=BASELINE_OUTCOME_TO_COLOR[outcome])\n",
    "            \n",
    "            except Exception as e: \n",
    "                print(e)\n",
    "                continue\n",
    "    plt.legend(loc=\"lower left\")\n",
    "    plt.savefig(\"./proc/velocity_parsing/plot_region_line_trialoutcome_baselinetrial/\\\n",
    "    rce_lower_velocity_lfp_power_trialoutcome_baselinetrial_freq_{}_to_{}_region_{}.png\".format(low_freq, high_freq, region.split(\"_\")[-1]))"
   ]
  },
  {
   "cell_type": "code",
   "execution_count": null,
   "metadata": {},
   "outputs": [],
   "source": [
    "low_freq = 12\n",
    "high_freq = 30\n",
    "for region in grouped_all_trials_df[\"brain_region\"].unique():\n",
    "    region_df = grouped_all_trials_df[grouped_all_trials_df[\"brain_region\"] == region]\n",
    "    \n",
    "    fig, ax = plt.subplots()\n",
    "    plt.title(\"Z-Scored LFP Power in {} at 0 to 5cm/s\".format(region.split(\"_\")[-1]))\n",
    "    plt.xlabel(\"Frequency\")\n",
    "    plt.ylabel(\"Power\")\n",
    "    plt.xlim(low_freq, high_freq)    \n",
    "    plt.yscale(\"log\")\n",
    "    plt.ylim(0.002, 0.015) \n",
    "    \n",
    "    for trial_or_baseline, outcome in itertools.product(region_df[\"trial_or_baseline\"].unique(), sorted(region_df[\"trial_outcome\"].unique())[::-1]):\n",
    "        outcome_df = region_df[(region_df[\"trial_or_baseline\"] == trial_or_baseline) & (region_df[\"trial_outcome\"] == outcome)]\n",
    "        for index, row in outcome_df.iterrows():\n",
    "            try:\n",
    "                ax = sns.lineplot(x=exploded_channel_map_and_all_trials_df[\"frequencies\"].iloc[0], y=row[\"mean_power\"], \\\n",
    "                label=\"{} {}\".format(outcome, trial_or_baseline), color=BASELINE_OUTCOME_TO_COLOR[outcome], \\\n",
    "                linestyle=TRIAL_OR_BASELINE_TO_STYLE[trial_or_baseline], linewidth=3)\n",
    "                \n",
    "                plt.fill_between(exploded_channel_map_and_all_trials_df[\"frequencies\"].iloc[0], \n",
    "                row[\"mean_power\"] - row[\"sem_power\"], row[\"mean_power\"] + row[\"sem_power\"], \\\n",
    "                alpha=0.1, color=BASELINE_OUTCOME_TO_COLOR[outcome])\n",
    "            \n",
    "            except Exception as e: \n",
    "                print(e)\n",
    "                continue\n",
    "    plt.legend(loc=\"upper right\")\n",
    "    plt.savefig(\"./proc/velocity_parsing/plot_region_line_trialoutcome_baselinetrial/\\\n",
    "    rce_lower_velocity_lfp_power_trialoutcome_baselinetrial_freq_{}_to_{}_region_{}.png\".format(low_freq, high_freq, region.split(\"_\")[-1]))"
   ]
  },
  {
   "cell_type": "code",
   "execution_count": null,
   "metadata": {},
   "outputs": [],
   "source": [
    "low_freq = 30\n",
    "high_freq = 90\n",
    "for region in grouped_all_trials_df[\"brain_region\"].unique():\n",
    "    region_df = grouped_all_trials_df[grouped_all_trials_df[\"brain_region\"] == region]\n",
    "    \n",
    "    fig, ax = plt.subplots()\n",
    "    plt.title(\"Z-Scored LFP Power in {} at 0 to 5cm/s\".format(region.split(\"_\")[-1]))\n",
    "    plt.xlabel(\"Frequency\")\n",
    "    plt.ylabel(\"Power\")\n",
    "    plt.xlim(low_freq, high_freq)    \n",
    "    plt.yscale(\"log\")\n",
    "    plt.ylim(0.0003, 0.005) \n",
    "    \n",
    "    for trial_or_baseline, outcome in itertools.product(region_df[\"trial_or_baseline\"].unique(), sorted(region_df[\"trial_outcome\"].unique())[::-1]):\n",
    "        outcome_df = region_df[(region_df[\"trial_or_baseline\"] == trial_or_baseline) & (region_df[\"trial_outcome\"] == outcome)]\n",
    "        for index, row in outcome_df.iterrows():\n",
    "            try:\n",
    "                ax = sns.lineplot(x=exploded_channel_map_and_all_trials_df[\"frequencies\"].iloc[0], y=row[\"mean_power\"], \\\n",
    "                label=\"{} {}\".format(outcome, trial_or_baseline), color=BASELINE_OUTCOME_TO_COLOR[outcome], \\\n",
    "                linestyle=TRIAL_OR_BASELINE_TO_STYLE[trial_or_baseline], linewidth=3)\n",
    "                \n",
    "                plt.fill_between(exploded_channel_map_and_all_trials_df[\"frequencies\"].iloc[0], \n",
    "                row[\"mean_power\"] - row[\"sem_power\"], row[\"mean_power\"] + row[\"sem_power\"], \\\n",
    "                alpha=0.2, color=BASELINE_OUTCOME_TO_COLOR[outcome])\n",
    "            \n",
    "            except Exception as e: \n",
    "                print(e)\n",
    "                continue\n",
    "    plt.legend(loc=\"upper right\")\n",
    "    plt.savefig(\"./proc/velocity_parsing/plot_region_line_trialoutcome_baselinetrial/\\\n",
    "    rce_lower_velocity_lfp_power_trialoutcome_baselinetrial_freq_{}_to_{}_region_{}.png\".format(low_freq, high_freq, region.split(\"_\")[-1]))"
   ]
  },
  {
   "cell_type": "code",
   "execution_count": null,
   "metadata": {},
   "outputs": [],
   "source": []
  },
  {
   "cell_type": "code",
   "execution_count": null,
   "metadata": {},
   "outputs": [],
   "source": []
  },
  {
   "cell_type": "markdown",
   "metadata": {},
   "source": [
    "## Plotting all the higher velocities together"
   ]
  },
  {
   "cell_type": "code",
   "execution_count": null,
   "metadata": {},
   "outputs": [],
   "source": [
    "speed_filtered_all_trials_df = exploded_channel_map_and_all_trials_df[exploded_channel_map_and_all_trials_df[\"binned_current_thorax_velocity\"] == 1]"
   ]
  },
  {
   "cell_type": "code",
   "execution_count": null,
   "metadata": {},
   "outputs": [],
   "source": [
    "exploded_channel_map_and_all_trials_df[\"theta_power\"] = exploded_channel_map_and_all_trials_df[\"power\"].apply(lambda x: x[4:13])"
   ]
  },
  {
   "cell_type": "code",
   "execution_count": null,
   "metadata": {},
   "outputs": [],
   "source": [
    "exploded_channel_map_and_all_trials_df[\"theta_power\"].iloc[0]"
   ]
  },
  {
   "cell_type": "code",
   "execution_count": null,
   "metadata": {},
   "outputs": [],
   "source": [
    "exploded_channel_map_and_all_trials_df[\"averaged_theta_power\"] = exploded_channel_map_and_all_trials_df[\"theta_power\"].apply(lambda x: np.mean(x))"
   ]
  },
  {
   "cell_type": "code",
   "execution_count": null,
   "metadata": {},
   "outputs": [],
   "source": [
    "exploded_channel_map_and_all_trials_df[\"averaged_theta_power\"]"
   ]
  },
  {
   "cell_type": "code",
   "execution_count": null,
   "metadata": {
    "scrolled": true
   },
   "outputs": [],
   "source": [
    "exploded_channel_map_and_all_trials_df.columns"
   ]
  },
  {
   "cell_type": "code",
   "execution_count": null,
   "metadata": {},
   "outputs": [],
   "source": [
    "exploded_channel_map_and_all_trials_df[\"all_thorax_velocity\"].iloc[0].shape"
   ]
  },
  {
   "cell_type": "code",
   "execution_count": null,
   "metadata": {},
   "outputs": [],
   "source": [
    "exploded_channel_map_and_all_trials_df.info()"
   ]
  },
  {
   "cell_type": "code",
   "execution_count": null,
   "metadata": {},
   "outputs": [],
   "source": [
    "exploded_channel_map_and_all_trials_df.drop(columns=[\"multitaper\", \"connectivity\", 'all_thorax_locations', 'all_thorax_velocity', 'all_ch_lfp']).to_pickle(\"./proc/rce_1_sec_interval_lfp_power_spectra_and_velocity.pkl\")"
   ]
  },
  {
   "cell_type": "code",
   "execution_count": null,
   "metadata": {},
   "outputs": [],
   "source": [
    "grouped_all_trials_df = speed_filtered_all_trials_df.groupby(['brain_region', 'trial_outcome', 'trial_or_baseline']).agg({'power': lambda x: np.vstack(x.tolist())}).reset_index()"
   ]
  },
  {
   "cell_type": "code",
   "execution_count": null,
   "metadata": {},
   "outputs": [],
   "source": [
    "grouped_all_trials_df[\"mean_power\"] = grouped_all_trials_df[\"power\"].apply(lambda x: np.nanmean(np.vstack(x), axis=0))"
   ]
  },
  {
   "cell_type": "code",
   "execution_count": null,
   "metadata": {},
   "outputs": [],
   "source": [
    "grouped_all_trials_df[\"std_power\"] = grouped_all_trials_df[\"power\"].apply(lambda x: np.nanstd(np.vstack(x), axis=0))"
   ]
  },
  {
   "cell_type": "code",
   "execution_count": null,
   "metadata": {},
   "outputs": [],
   "source": [
    "grouped_all_trials_df[\"n_trials\"] = grouped_all_trials_df[\"power\"].apply(lambda x: np.sum(~np.isnan(x), axis=0))"
   ]
  },
  {
   "cell_type": "code",
   "execution_count": null,
   "metadata": {},
   "outputs": [],
   "source": [
    "grouped_all_trials_df[\"sem_power\"] = grouped_all_trials_df.apply(lambda x: x[\"std_power\"] / np.sqrt(x[\"n_trials\"]), axis=1)"
   ]
  },
  {
   "cell_type": "code",
   "execution_count": null,
   "metadata": {},
   "outputs": [],
   "source": [
    "exploded_channel_map_and_all_trials_df[\"frequencies\"].iloc[0][4:13]"
   ]
  },
  {
   "cell_type": "code",
   "execution_count": null,
   "metadata": {},
   "outputs": [],
   "source": [
    "grouped_all_trials_df[\"power\"].iloc[0].shape"
   ]
  },
  {
   "cell_type": "code",
   "execution_count": null,
   "metadata": {},
   "outputs": [],
   "source": [
    "grouped_all_trials_df[\"power\"].iloc"
   ]
  },
  {
   "cell_type": "markdown",
   "metadata": {},
   "source": [
    "# Drawing plots all together"
   ]
  },
  {
   "cell_type": "raw",
   "metadata": {},
   "source": [
    "brain_region_to_ylim = {'spike_interface_BLA': 0.15, 'spike_interface_LH': 0.3, 'spike_interface_MD': 0.3,\n",
    "       'spike_interface_mPFC': 0.2, 'spike_interface_vHPC': 0.3}"
   ]
  },
  {
   "cell_type": "code",
   "execution_count": null,
   "metadata": {
    "scrolled": true
   },
   "outputs": [],
   "source": [
    "low_freq = 0\n",
    "high_freq = 12\n",
    "for region in grouped_all_trials_df[\"brain_region\"].unique():\n",
    "    region_df = grouped_all_trials_df[grouped_all_trials_df[\"brain_region\"] == region]\n",
    "    \n",
    "    fig, ax = plt.subplots()\n",
    "    plt.title(\"Z-Scored LFP Power in {} at 5cm/s to 10cm/s\".format(region.split(\"_\")[-1]))\n",
    "    plt.xlabel(\"Frequency\")\n",
    "    plt.ylabel(\"Power\")\n",
    "    plt.xlim(low_freq, high_freq)   \n",
    "    plt.yscale(\"log\")\n",
    "    plt.ylim(0.01, 0.1)\n",
    "\n",
    "    for trial_or_baseline, outcome in itertools.product(region_df[\"trial_or_baseline\"].unique(), sorted(region_df[\"trial_outcome\"].unique())[::-1]):\n",
    "        outcome_df = region_df[(region_df[\"trial_or_baseline\"] == trial_or_baseline) & (region_df[\"trial_outcome\"] == outcome)]\n",
    "        for index, row in outcome_df.iterrows():\n",
    "            try:\n",
    "                ax = sns.lineplot(x=exploded_channel_map_and_all_trials_df[\"frequencies\"].iloc[0], y=row[\"mean_power\"], \\\n",
    "                label=\"{} {}\".format(outcome, trial_or_baseline), color=BASELINE_OUTCOME_TO_COLOR[outcome], \\\n",
    "                linestyle=TRIAL_OR_BASELINE_TO_STYLE[trial_or_baseline], linewidth=3)\n",
    "                \n",
    "                plt.fill_between(exploded_channel_map_and_all_trials_df[\"frequencies\"].iloc[0], \n",
    "                row[\"mean_power\"] - row[\"sem_power\"], row[\"mean_power\"] + row[\"sem_power\"], \\\n",
    "                alpha=0.2, color=BASELINE_OUTCOME_TO_COLOR[outcome])\n",
    "            \n",
    "            except Exception as e: \n",
    "                print(e)\n",
    "                continue\n",
    "    plt.legend()\n",
    "    plt.savefig(\"./proc/velocity_parsing/plot_region_line_trialoutcome_baselinetrial/\\\n",
    "    rce_higher_velocity_lfp_power_trialoutcome_baselinetrial_freq_{}_to_{}_region_{}.png\".format(low_freq, high_freq, region.split(\"_\")[-1]))"
   ]
  },
  {
   "cell_type": "code",
   "execution_count": null,
   "metadata": {},
   "outputs": [],
   "source": [
    "low_freq = 12\n",
    "high_freq = 30\n",
    "for region in grouped_all_trials_df[\"brain_region\"].unique():\n",
    "    region_df = grouped_all_trials_df[grouped_all_trials_df[\"brain_region\"] == region]\n",
    "    \n",
    "    fig, ax = plt.subplots()\n",
    "    plt.title(\"Z-Scored LFP Power in {} at 5cm/s to 10cm/s\".format(region.split(\"_\")[-1]))\n",
    "    plt.xlabel(\"Frequency\")\n",
    "    plt.ylabel(\"Power\")\n",
    "    plt.xlim(low_freq, high_freq)    \n",
    "    plt.yscale(\"log\")\n",
    "    plt.ylim(0.002, 0.015) \n",
    "    \n",
    "    for trial_or_baseline, outcome in itertools.product(region_df[\"trial_or_baseline\"].unique(), sorted(region_df[\"trial_outcome\"].unique())[::-1]):\n",
    "        outcome_df = region_df[(region_df[\"trial_or_baseline\"] == trial_or_baseline) & (region_df[\"trial_outcome\"] == outcome)]\n",
    "        for index, row in outcome_df.iterrows():\n",
    "            try:\n",
    "                ax = sns.lineplot(x=exploded_channel_map_and_all_trials_df[\"frequencies\"].iloc[0], y=row[\"mean_power\"], \\\n",
    "                label=\"{} {}\".format(outcome, trial_or_baseline), color=BASELINE_OUTCOME_TO_COLOR[outcome], \\\n",
    "                linestyle=TRIAL_OR_BASELINE_TO_STYLE[trial_or_baseline], linewidth=3)\n",
    "                \n",
    "                plt.fill_between(exploded_channel_map_and_all_trials_df[\"frequencies\"].iloc[0], \n",
    "                row[\"mean_power\"] - row[\"sem_power\"], row[\"mean_power\"] + row[\"sem_power\"], \\\n",
    "                alpha=0.2, color=BASELINE_OUTCOME_TO_COLOR[outcome])\n",
    "            \n",
    "            except Exception as e: \n",
    "                print(e)\n",
    "                continue\n",
    "    plt.legend()\n",
    "    plt.savefig(\"./proc/velocity_parsing/plot_region_line_trialoutcome_baselinetrial/\\\n",
    "    rce_higher_velocity_lfp_power_trialoutcome_baselinetrial_freq_{}_to_{}_region_{}.png\".format(low_freq, high_freq, region.split(\"_\")[-1]))"
   ]
  },
  {
   "cell_type": "code",
   "execution_count": null,
   "metadata": {
    "scrolled": true
   },
   "outputs": [],
   "source": [
    "low_freq = 30\n",
    "high_freq = 90\n",
    "for region in grouped_all_trials_df[\"brain_region\"].unique():\n",
    "    region_df = grouped_all_trials_df[grouped_all_trials_df[\"brain_region\"] == region]\n",
    "    \n",
    "    fig, ax = plt.subplots()\n",
    "    plt.title(\"Z-Scored LFP Power in {} at 5cm/s to 10cm/s\".format(region.split(\"_\")[-1]))\n",
    "    plt.xlabel(\"Frequency\")\n",
    "    plt.ylabel(\"Power\")\n",
    "    plt.xlim(low_freq, high_freq)    \n",
    "    plt.yscale(\"log\")\n",
    "    plt.ylim(0.0003, 0.008) \n",
    "    \n",
    "    for trial_or_baseline, outcome in itertools.product(region_df[\"trial_or_baseline\"].unique(), sorted(region_df[\"trial_outcome\"].unique())[::-1]):\n",
    "        outcome_df = region_df[(region_df[\"trial_or_baseline\"] == trial_or_baseline) & (region_df[\"trial_outcome\"] == outcome)]\n",
    "        for index, row in outcome_df.iterrows():\n",
    "            try:\n",
    "                ax = sns.lineplot(x=exploded_channel_map_and_all_trials_df[\"frequencies\"].iloc[0], y=row[\"mean_power\"], \\\n",
    "                label=\"{} {}\".format(outcome, trial_or_baseline), color=BASELINE_OUTCOME_TO_COLOR[outcome], \\\n",
    "                linestyle=TRIAL_OR_BASELINE_TO_STYLE[trial_or_baseline], linewidth=3)\n",
    "                \n",
    "                plt.fill_between(exploded_channel_map_and_all_trials_df[\"frequencies\"].iloc[0], \n",
    "                row[\"mean_power\"] - row[\"sem_power\"], row[\"mean_power\"] + row[\"sem_power\"], \\\n",
    "                alpha=0.2, color=BASELINE_OUTCOME_TO_COLOR[outcome])\n",
    "            \n",
    "            except Exception as e: \n",
    "                print(e)\n",
    "                continue\n",
    "    plt.legend()\n",
    "    plt.savefig(\"./proc/velocity_parsing/plot_region_line_trialoutcome_baselinetrial/\\\n",
    "    rce_higher_velocity_lfp_power_trialoutcome_baselinetrial_freq_{}_to_{}_region_{}.png\".format(low_freq, high_freq, region.split(\"_\")[-1]))"
   ]
  },
  {
   "cell_type": "code",
   "execution_count": null,
   "metadata": {},
   "outputs": [],
   "source": []
  },
  {
   "cell_type": "markdown",
   "metadata": {},
   "source": [
    "## Plotting all the competitiveness and lower velocities together"
   ]
  },
  {
   "cell_type": "code",
   "execution_count": null,
   "metadata": {},
   "outputs": [],
   "source": [
    "speed_filtered_all_trials_df = exploded_channel_map_and_all_trials_df[exploded_channel_map_and_all_trials_df[\"binned_current_thorax_velocity\"] == 0]"
   ]
  },
  {
   "cell_type": "code",
   "execution_count": null,
   "metadata": {},
   "outputs": [],
   "source": [
    "speed_filtered_all_trials_df.shape"
   ]
  },
  {
   "cell_type": "code",
   "execution_count": null,
   "metadata": {},
   "outputs": [],
   "source": [
    "grouped_all_trials_df = speed_filtered_all_trials_df.groupby(['brain_region', 'competition_closeness', 'trial_or_baseline']).agg({'power': lambda x: np.vstack(x.tolist())}).reset_index()"
   ]
  },
  {
   "cell_type": "code",
   "execution_count": null,
   "metadata": {},
   "outputs": [],
   "source": [
    "grouped_all_trials_df[\"mean_power\"] = grouped_all_trials_df[\"power\"].apply(lambda x: np.nanmean(np.vstack(x), axis=0))"
   ]
  },
  {
   "cell_type": "code",
   "execution_count": null,
   "metadata": {},
   "outputs": [],
   "source": [
    "grouped_all_trials_df[\"std_power\"] = grouped_all_trials_df[\"power\"].apply(lambda x: np.nanstd(np.vstack(x), axis=0))"
   ]
  },
  {
   "cell_type": "code",
   "execution_count": null,
   "metadata": {},
   "outputs": [],
   "source": [
    "grouped_all_trials_df[\"n_trials\"] = grouped_all_trials_df[\"power\"].apply(lambda x: np.sum(~np.isnan(x), axis=0))"
   ]
  },
  {
   "cell_type": "code",
   "execution_count": null,
   "metadata": {},
   "outputs": [],
   "source": [
    "grouped_all_trials_df[\"sem_power\"] = grouped_all_trials_df.apply(lambda x: x[\"std_power\"] / np.sqrt(x[\"n_trials\"]), axis=1)"
   ]
  },
  {
   "cell_type": "code",
   "execution_count": null,
   "metadata": {
    "scrolled": true
   },
   "outputs": [],
   "source": [
    "grouped_all_trials_df[\"competition_closeness\"].unique()"
   ]
  },
  {
   "cell_type": "markdown",
   "metadata": {},
   "source": [
    "# Drawing plots all together"
   ]
  },
  {
   "cell_type": "raw",
   "metadata": {},
   "source": [
    "brain_region_to_ylim = {'spike_interface_BLA': 0.15, 'spike_interface_LH': 0.3, 'spike_interface_MD': 0.3,\n",
    "       'spike_interface_mPFC': 0.2, 'spike_interface_vHPC': 0.3}"
   ]
  },
  {
   "cell_type": "code",
   "execution_count": null,
   "metadata": {},
   "outputs": [],
   "source": [
    "region_df"
   ]
  },
  {
   "cell_type": "code",
   "execution_count": null,
   "metadata": {},
   "outputs": [],
   "source": [
    "low_freq = 0\n",
    "high_freq = 12\n",
    "for region in grouped_all_trials_df[\"brain_region\"].unique():\n",
    "    region_df = grouped_all_trials_df[grouped_all_trials_df[\"brain_region\"] == region]\n",
    "    \n",
    "    fig, ax = plt.subplots()\n",
    "    plt.title(\"Z-Scored LFP Power in {} at 0 to 5cm/s\".format(region.split(\"_\")[-1]))\n",
    "    plt.xlabel(\"Frequency\")\n",
    "    plt.ylabel(\"Power\")\n",
    "    plt.xlim(low_freq, high_freq)  \n",
    "    plt.yscale(\"log\")\n",
    "    plt.ylim(0.01, 0.1) \n",
    "\n",
    "\n",
    "    for index, row in region_df.iterrows():\n",
    "        try:\n",
    "            ax = sns.lineplot(x=exploded_channel_map_and_all_trials_df[\"frequencies\"].iloc[0], y=row[\"mean_power\"], \\\n",
    "            label=\"{} {}\".format(row[\"competition_closeness\"], row[\"trial_or_baseline\"]), color=COMPETITIVE_OUTCOME_TO_COLOR[row[\"competition_closeness\"]], \\\n",
    "            linestyle=TRIAL_OR_BASELINE_TO_STYLE[row[\"trial_or_baseline\"]], linewidth=3)\n",
    "            \n",
    "            plt.fill_between(exploded_channel_map_and_all_trials_df[\"frequencies\"].iloc[0], \n",
    "            row[\"mean_power\"] - row[\"sem_power\"], row[\"mean_power\"] + row[\"sem_power\"], \\\n",
    "            alpha=0.1, color=COMPETITIVE_OUTCOME_TO_COLOR[row[\"competition_closeness\"]])\n",
    "        \n",
    "        except Exception as e: \n",
    "            print(e)\n",
    "            continue\n",
    "    \n",
    "    # Create a legend outside of the plot\n",
    "    legend = plt.legend(bbox_to_anchor=(1.05, 1), loc='upper left')\n",
    "    \n",
    "    # Save the plot along with the legend outside of it   \n",
    "    plt.savefig(\"./proc/velocity_parsing/plot_region_line_competitioncloseness_baselinetrial/\\\n",
    "    rce_lower_velocity_lfp_power_competitioncloseness_baselinetrial_freq_{}_to_{}_region_{}.png\".format(low_freq, high_freq, region.split(\"_\")[-1]), bbox_extra_artists=(legend,), bbox_inches='tight')\n",
    "\n",
    "    # Display the plot\n",
    "    plt.show()\n"
   ]
  },
  {
   "cell_type": "code",
   "execution_count": null,
   "metadata": {
    "scrolled": true
   },
   "outputs": [],
   "source": [
    "low_freq = 12\n",
    "high_freq = 30\n",
    "for region in grouped_all_trials_df[\"brain_region\"].unique():\n",
    "    region_df = grouped_all_trials_df[grouped_all_trials_df[\"brain_region\"] == region]\n",
    "    \n",
    "    fig, ax = plt.subplots()\n",
    "    plt.title(\"Z-Scored LFP Power in {} at 0 to 5cm/s\".format(region.split(\"_\")[-1]))\n",
    "    plt.xlabel(\"Frequency\")\n",
    "    plt.ylabel(\"Power\")\n",
    "    plt.xlim(low_freq, high_freq)    \n",
    "    plt.yscale(\"log\")\n",
    "    plt.ylim(0.002, 0.015) \n",
    "\n",
    "    for index, row in region_df.iterrows():\n",
    "        try:\n",
    "            ax = sns.lineplot(x=exploded_channel_map_and_all_trials_df[\"frequencies\"].iloc[0], y=row[\"mean_power\"], \\\n",
    "            label=\"{} {}\".format(row[\"competition_closeness\"], row[\"trial_or_baseline\"]), color=COMPETITIVE_OUTCOME_TO_COLOR[row[\"competition_closeness\"]], \\\n",
    "            linestyle=TRIAL_OR_BASELINE_TO_STYLE[row[\"trial_or_baseline\"]], linewidth=3)\n",
    "            \n",
    "            plt.fill_between(exploded_channel_map_and_all_trials_df[\"frequencies\"].iloc[0], \n",
    "            row[\"mean_power\"] - row[\"sem_power\"], row[\"mean_power\"] + row[\"sem_power\"], \\\n",
    "            alpha=0.1, color=COMPETITIVE_OUTCOME_TO_COLOR[row[\"competition_closeness\"]])\n",
    "        \n",
    "        except Exception as e: \n",
    "            print(e)\n",
    "            continue\n",
    "            \n",
    "    # Create a legend outside of the plot\n",
    "    legend = plt.legend(bbox_to_anchor=(1.05, 1), loc='upper left')\n",
    "    \n",
    "    # Save the plot along with the legend outside of it   \n",
    "    plt.savefig(\"./proc/velocity_parsing/plot_region_line_competitioncloseness_baselinetrial/\\\n",
    "    rce_lower_velocity_lfp_power_competitioncloseness_baselinetrial_freq_{}_to_{}_region_{}.png\".format(low_freq, high_freq, region.split(\"_\")[-1]), bbox_extra_artists=(legend,), bbox_inches='tight')\n",
    "\n",
    "    # Display the plot\n",
    "    plt.show()"
   ]
  },
  {
   "cell_type": "code",
   "execution_count": null,
   "metadata": {},
   "outputs": [],
   "source": [
    "low_freq = 30\n",
    "high_freq = 90\n",
    "for region in grouped_all_trials_df[\"brain_region\"].unique():\n",
    "    region_df = grouped_all_trials_df[grouped_all_trials_df[\"brain_region\"] == region]\n",
    "    \n",
    "    fig, ax = plt.subplots()\n",
    "    plt.title(\"Z-Scored LFP Power in {} at 0 to 5cm/s\".format(region.split(\"_\")[-1]))\n",
    "    plt.xlabel(\"Frequency\")\n",
    "    plt.ylabel(\"Power\")\n",
    "    plt.xlim(low_freq, high_freq)    \n",
    "    plt.yscale(\"log\")\n",
    "    plt.ylim(0.0003, 0.005) \n",
    "\n",
    "    for index, row in region_df.iterrows():\n",
    "        try:\n",
    "            ax = sns.lineplot(x=exploded_channel_map_and_all_trials_df[\"frequencies\"].iloc[0], y=row[\"mean_power\"], \\\n",
    "            label=\"{} {}\".format(row[\"competition_closeness\"], row[\"trial_or_baseline\"]), color=COMPETITIVE_OUTCOME_TO_COLOR[row[\"competition_closeness\"]], \\\n",
    "            linestyle=TRIAL_OR_BASELINE_TO_STYLE[row[\"trial_or_baseline\"]], linewidth=3)\n",
    "            \n",
    "            plt.fill_between(exploded_channel_map_and_all_trials_df[\"frequencies\"].iloc[0], \n",
    "            row[\"mean_power\"] - row[\"sem_power\"], row[\"mean_power\"] + row[\"sem_power\"], \\\n",
    "            alpha=0.1, color=COMPETITIVE_OUTCOME_TO_COLOR[row[\"competition_closeness\"]])\n",
    "        \n",
    "        except Exception as e: \n",
    "            print(e)\n",
    "            continue\n",
    "    # Create a legend outside of the plot\n",
    "    legend = plt.legend(bbox_to_anchor=(1.05, 1), loc='upper left')\n",
    "    \n",
    "    # Save the plot along with the legend outside of it   \n",
    "    plt.savefig(\"./proc/velocity_parsing/plot_region_line_competitioncloseness_baselinetrial/\\\n",
    "    rce_lower_velocity_lfp_power_competitioncloseness_baselinetrial_freq_{}_to_{}_region_{}.png\".format(low_freq, high_freq, region.split(\"_\")[-1]), bbox_extra_artists=(legend,), bbox_inches='tight')\n",
    "\n",
    "    # Display the plot\n",
    "    plt.show()"
   ]
  },
  {
   "cell_type": "markdown",
   "metadata": {},
   "source": [
    "## Plotting all the higher velocities together"
   ]
  },
  {
   "cell_type": "code",
   "execution_count": null,
   "metadata": {},
   "outputs": [],
   "source": [
    "speed_filtered_all_trials_df = exploded_channel_map_and_all_trials_df[exploded_channel_map_and_all_trials_df[\"binned_current_thorax_velocity\"] == 1]"
   ]
  },
  {
   "cell_type": "code",
   "execution_count": null,
   "metadata": {},
   "outputs": [],
   "source": [
    "grouped_all_trials_df = speed_filtered_all_trials_df.groupby(['brain_region', 'competition_closeness', 'trial_or_baseline']).agg({'power': lambda x: np.vstack(x.tolist())}).reset_index()"
   ]
  },
  {
   "cell_type": "code",
   "execution_count": null,
   "metadata": {},
   "outputs": [],
   "source": [
    "grouped_all_trials_df[\"mean_power\"] = grouped_all_trials_df[\"power\"].apply(lambda x: np.nanmean(np.vstack(x), axis=0))"
   ]
  },
  {
   "cell_type": "code",
   "execution_count": null,
   "metadata": {},
   "outputs": [],
   "source": [
    "grouped_all_trials_df[\"std_power\"] = grouped_all_trials_df[\"power\"].apply(lambda x: np.nanstd(np.vstack(x), axis=0))"
   ]
  },
  {
   "cell_type": "code",
   "execution_count": null,
   "metadata": {},
   "outputs": [],
   "source": [
    "grouped_all_trials_df[\"n_trials\"] = grouped_all_trials_df[\"power\"].apply(lambda x: np.sum(~np.isnan(x), axis=0))"
   ]
  },
  {
   "cell_type": "code",
   "execution_count": null,
   "metadata": {},
   "outputs": [],
   "source": [
    "grouped_all_trials_df[\"sem_power\"] = grouped_all_trials_df.apply(lambda x: x[\"std_power\"] / np.sqrt(x[\"n_trials\"]), axis=1)"
   ]
  },
  {
   "cell_type": "markdown",
   "metadata": {},
   "source": [
    "# Drawing plots all together"
   ]
  },
  {
   "cell_type": "raw",
   "metadata": {},
   "source": [
    "brain_region_to_ylim = {'spike_interface_BLA': 0.15, 'spike_interface_LH': 0.3, 'spike_interface_MD': 0.3,\n",
    "       'spike_interface_mPFC': 0.2, 'spike_interface_vHPC': 0.3}"
   ]
  },
  {
   "cell_type": "code",
   "execution_count": null,
   "metadata": {},
   "outputs": [],
   "source": [
    "low_freq = 0\n",
    "high_freq = 12\n",
    "for region in grouped_all_trials_df[\"brain_region\"].unique():\n",
    "    region_df = grouped_all_trials_df[grouped_all_trials_df[\"brain_region\"] == region]\n",
    "    \n",
    "    fig, ax = plt.subplots()\n",
    "    plt.title(\"Z-Scored LFP Power in {} at 5cm/s to 10cm/s\".format(region.split(\"_\")[-1]))\n",
    "    plt.xlabel(\"Frequency\")\n",
    "    plt.ylabel(\"Power\")\n",
    "    plt.xlim(low_freq, high_freq)    \n",
    "    plt.yscale(\"log\")\n",
    "    plt.ylim(0.01, 0.25) \n",
    "\n",
    "    for index, row in region_df.iterrows():\n",
    "        try:\n",
    "            ax = sns.lineplot(x=exploded_channel_map_and_all_trials_df[\"frequencies\"].iloc[0], y=row[\"mean_power\"], \\\n",
    "            label=\"{} {}\".format(row[\"competition_closeness\"], row[\"trial_or_baseline\"]), color=COMPETITIVE_OUTCOME_TO_COLOR[row[\"competition_closeness\"]], \\\n",
    "            linestyle=TRIAL_OR_BASELINE_TO_STYLE[row[\"trial_or_baseline\"]], linewidth=3)\n",
    "            \n",
    "            plt.fill_between(exploded_channel_map_and_all_trials_df[\"frequencies\"].iloc[0], \n",
    "            row[\"mean_power\"] - row[\"sem_power\"], row[\"mean_power\"] + row[\"sem_power\"], \\\n",
    "            alpha=0.1, color=COMPETITIVE_OUTCOME_TO_COLOR[row[\"competition_closeness\"]])\n",
    "        \n",
    "        except Exception as e: \n",
    "            print(e)\n",
    "            continue\n",
    "    # Create a legend outside of the plot\n",
    "    legend = plt.legend(bbox_to_anchor=(1.05, 1), loc='upper left')\n",
    "    \n",
    "    # Save the plot along with the legend outside of it   \n",
    "    plt.savefig(\"./proc/velocity_parsing/plot_region_line_competitioncloseness_baselinetrial/\\\n",
    "    rce_higher_velocity_lfp_power_competitioncloseness_baselinetrial_freq_{}_to_{}_region_{}.png\".format(low_freq, high_freq, region.split(\"_\")[-1]), bbox_extra_artists=(legend,), bbox_inches='tight')\n",
    "\n",
    "    # Display the plot\n",
    "    plt.show()"
   ]
  },
  {
   "cell_type": "code",
   "execution_count": null,
   "metadata": {},
   "outputs": [],
   "source": [
    "low_freq = 12\n",
    "high_freq = 30\n",
    "for region in grouped_all_trials_df[\"brain_region\"].unique():\n",
    "    region_df = grouped_all_trials_df[grouped_all_trials_df[\"brain_region\"] == region]\n",
    "    \n",
    "    fig, ax = plt.subplots()\n",
    "    plt.title(\"Z-Scored LFP Power in {} at 5cm/s to 10cm/s\".format(region.split(\"_\")[-1]))\n",
    "    plt.xlabel(\"Frequency\")\n",
    "    plt.ylabel(\"Power\")\n",
    "    plt.xlim(low_freq, high_freq)    \n",
    "    plt.yscale(\"log\")\n",
    "    plt.ylim(0.002, 0.015) \n",
    "\n",
    "    \n",
    "    for index, row in region_df.iterrows():\n",
    "        try:\n",
    "            ax = sns.lineplot(x=exploded_channel_map_and_all_trials_df[\"frequencies\"].iloc[0], y=row[\"mean_power\"], \\\n",
    "            label=\"{} {}\".format(row[\"competition_closeness\"], row[\"trial_or_baseline\"]), color=COMPETITIVE_OUTCOME_TO_COLOR[row[\"competition_closeness\"]], \\\n",
    "            linestyle=TRIAL_OR_BASELINE_TO_STYLE[row[\"trial_or_baseline\"]], linewidth=3)\n",
    "            \n",
    "            plt.fill_between(exploded_channel_map_and_all_trials_df[\"frequencies\"].iloc[0], \n",
    "            row[\"mean_power\"] - row[\"sem_power\"], row[\"mean_power\"] + row[\"sem_power\"], \\\n",
    "            alpha=0.1, color=COMPETITIVE_OUTCOME_TO_COLOR[row[\"competition_closeness\"]])\n",
    "        \n",
    "        except Exception as e: \n",
    "            print(e)\n",
    "            continue\n",
    "    # Create a legend outside of the plot\n",
    "    legend = plt.legend(bbox_to_anchor=(1.05, 1), loc='upper left')\n",
    "    \n",
    "    # Save the plot along with the legend outside of it   \n",
    "    plt.savefig(\"./proc/velocity_parsing/plot_region_line_competitioncloseness_baselinetrial/\\\n",
    "    rce_higher_velocity_lfp_power_competitioncloseness_baselinetrial_freq_{}_to_{}_region_{}.png\".format(low_freq, high_freq, region.split(\"_\")[-1]), bbox_extra_artists=(legend,), bbox_inches='tight')\n",
    "\n",
    "    # Display the plot\n",
    "    plt.show()"
   ]
  },
  {
   "cell_type": "code",
   "execution_count": null,
   "metadata": {},
   "outputs": [],
   "source": [
    "low_freq = 12\n",
    "high_freq = 30\n",
    "for region in grouped_all_trials_df[\"brain_region\"].unique():\n",
    "    region_df = grouped_all_trials_df[grouped_all_trials_df[\"brain_region\"] == region]\n",
    "    \n",
    "    fig, ax = plt.subplots()\n",
    "    plt.title(\"Z-Scored LFP Power in {} at 5cm/s to 10cm/s\".format(region.split(\"_\")[-1]))\n",
    "    plt.xlabel(\"Frequency\")\n",
    "    plt.ylabel(\"Power\")\n",
    "    plt.xlim(low_freq, high_freq)    \n",
    "    plt.yscale(\"log\")\n",
    "    plt.ylim(0.002, 0.015) \n",
    "    \n",
    "    for index, row in region_df.iterrows():\n",
    "        try:\n",
    "            ax = sns.lineplot(x=exploded_channel_map_and_all_trials_df[\"frequencies\"].iloc[0], y=row[\"mean_power\"], \\\n",
    "            label=\"{} {}\".format(row[\"competition_closeness\"], row[\"trial_or_baseline\"]), color=COMPETITIVE_OUTCOME_TO_COLOR[row[\"competition_closeness\"]], \\\n",
    "            linestyle=TRIAL_OR_BASELINE_TO_STYLE[row[\"trial_or_baseline\"]], linewidth=3)\n",
    "            \n",
    "            plt.fill_between(exploded_channel_map_and_all_trials_df[\"frequencies\"].iloc[0], \n",
    "            row[\"mean_power\"] - row[\"sem_power\"], row[\"mean_power\"] + row[\"sem_power\"], \\\n",
    "            alpha=0.1, color=COMPETITIVE_OUTCOME_TO_COLOR[row[\"competition_closeness\"]])\n",
    "        \n",
    "        except Exception as e: \n",
    "            print(e)\n",
    "            continue\n",
    "    # Create a legend outside of the plot\n",
    "    legend = plt.legend(bbox_to_anchor=(1.05, 1), loc='upper left')\n",
    "    \n",
    "    # Save the plot along with the legend outside of it   \n",
    "    plt.savefig(\"./proc/velocity_parsing/plot_region_line_competitioncloseness_baselinetrial/\\\n",
    "    rce_higher_velocity_lfp_power_competitioncloseness_baselinetrial_freq_{}_to_{}_region_{}.png\".format(low_freq, high_freq, region.split(\"_\")[-1]), bbox_extra_artists=(legend,), bbox_inches='tight')\n",
    "\n",
    "    # Display the plot\n",
    "    plt.show()"
   ]
  },
  {
   "cell_type": "code",
   "execution_count": null,
   "metadata": {
    "scrolled": true
   },
   "outputs": [],
   "source": [
    "low_freq = 30\n",
    "high_freq = 90\n",
    "for region in grouped_all_trials_df[\"brain_region\"].unique():\n",
    "    region_df = grouped_all_trials_df[grouped_all_trials_df[\"brain_region\"] == region]\n",
    "    \n",
    "    fig, ax = plt.subplots()\n",
    "    plt.title(\"Z-Scored LFP Power in {} at 5cm/s to 10cm/s\".format(region.split(\"_\")[-1]))\n",
    "    plt.xlabel(\"Frequency\")\n",
    "    plt.ylabel(\"Power\")\n",
    "    plt.xlim(low_freq, high_freq)    \n",
    "    plt.yscale(\"log\")\n",
    "    plt.ylim(0.0003, 0.005) \n",
    "    \n",
    "    for index, row in region_df.iterrows():\n",
    "        try:\n",
    "            ax = sns.lineplot(x=exploded_channel_map_and_all_trials_df[\"frequencies\"].iloc[0], y=row[\"mean_power\"], \\\n",
    "            label=\"{} {}\".format(row[\"competition_closeness\"], row[\"trial_or_baseline\"]), color=COMPETITIVE_OUTCOME_TO_COLOR[row[\"competition_closeness\"]], \\\n",
    "            linestyle=TRIAL_OR_BASELINE_TO_STYLE[row[\"trial_or_baseline\"]], linewidth=3)\n",
    "            \n",
    "            plt.fill_between(exploded_channel_map_and_all_trials_df[\"frequencies\"].iloc[0], \n",
    "            row[\"mean_power\"] - row[\"sem_power\"], row[\"mean_power\"] + row[\"sem_power\"], \\\n",
    "            alpha=0.1, color=COMPETITIVE_OUTCOME_TO_COLOR[row[\"competition_closeness\"]])\n",
    "        \n",
    "        except Exception as e: \n",
    "            print(e)\n",
    "            continue\n",
    "            \n",
    "    # Create a legend outside of the plot\n",
    "    legend = plt.legend(bbox_to_anchor=(1.05, 1), loc='upper left')\n",
    "    \n",
    "    # Save the plot along with the legend outside of it   \n",
    "    plt.savefig(\"./proc/velocity_parsing/plot_region_line_competitioncloseness_baselinetrial/\\\n",
    "    rce_higher_velocity_lfp_power_competitioncloseness_baselinetrial_freq_{}_to_{}_region_{}.png\".format(low_freq, high_freq, region.split(\"_\")[-1]), bbox_extra_artists=(legend,), bbox_inches='tight')\n",
    "\n",
    "    # Display the plot\n",
    "    plt.show()"
   ]
  },
  {
   "cell_type": "code",
   "execution_count": null,
   "metadata": {},
   "outputs": [],
   "source": [
    "exploded_channel_map_and_all_trials_df"
   ]
  },
  {
   "cell_type": "code",
   "execution_count": null,
   "metadata": {},
   "outputs": [],
   "source": []
  },
  {
   "cell_type": "code",
   "execution_count": null,
   "metadata": {},
   "outputs": [],
   "source": [
    "exploded_channel_map_and_all_trials_df.columns"
   ]
  },
  {
   "cell_type": "code",
   "execution_count": null,
   "metadata": {},
   "outputs": [],
   "source": [
    "exploded_channel_map_and_all_trials_df[\"current_thorax_velocity\"]"
   ]
  },
  {
   "cell_type": "code",
   "execution_count": null,
   "metadata": {},
   "outputs": [],
   "source": [
    "melted_channel_map_and_all_trials_df[\"subject_id\"].unique()"
   ]
  },
  {
   "cell_type": "markdown",
   "metadata": {},
   "source": [
    "# Drawing Spectogram"
   ]
  },
  {
   "cell_type": "code",
   "execution_count": null,
   "metadata": {},
   "outputs": [],
   "source": [
    "exploded_channel_map_and_all_trials_df[\"power\"].iloc[0].shape"
   ]
  },
  {
   "cell_type": "code",
   "execution_count": null,
   "metadata": {},
   "outputs": [],
   "source": [
    "exploded_channel_map_and_all_trials_df[\"brain_region\"]"
   ]
  },
  {
   "cell_type": "code",
   "execution_count": null,
   "metadata": {},
   "outputs": [],
   "source": [
    "exploded_channel_map_and_all_trials_df[\"\"]"
   ]
  },
  {
   "cell_type": "code",
   "execution_count": null,
   "metadata": {},
   "outputs": [],
   "source": [
    "grouped_all_trials_df"
   ]
  },
  {
   "cell_type": "code",
   "execution_count": null,
   "metadata": {},
   "outputs": [],
   "source": [
    "raise ValueError()"
   ]
  },
  {
   "cell_type": "code",
   "execution_count": null,
   "metadata": {},
   "outputs": [],
   "source": [
    "exploded_channel_map_and_all_trials_df"
   ]
  },
  {
   "cell_type": "code",
   "execution_count": null,
   "metadata": {},
   "outputs": [],
   "source": [
    "exploded_channel_map_and_all_trials_df[\"recording_file\"].unique()"
   ]
  },
  {
   "cell_type": "code",
   "execution_count": null,
   "metadata": {},
   "outputs": [],
   "source": [
    "exploded_channel_map_and_all_trials_df[\"subject_id\"].unique()"
   ]
  },
  {
   "cell_type": "code",
   "execution_count": null,
   "metadata": {},
   "outputs": [],
   "source": []
  }
 ],
 "metadata": {
  "deepnote": {},
  "deepnote_execution_queue": [],
  "deepnote_notebook_id": "cf8fe3695d074ee7887fdf6459cbf5ce",
  "kernelspec": {
   "display_name": "Python 3 (ipykernel)",
   "language": "python",
   "name": "python3"
  },
  "language_info": {
   "codemirror_mode": {
    "name": "ipython",
    "version": 3
   },
   "file_extension": ".py",
   "mimetype": "text/x-python",
   "name": "python",
   "nbconvert_exporter": "python",
   "pygments_lexer": "ipython3",
   "version": "3.9.16"
  }
 },
 "nbformat": 4,
 "nbformat_minor": 4
}
