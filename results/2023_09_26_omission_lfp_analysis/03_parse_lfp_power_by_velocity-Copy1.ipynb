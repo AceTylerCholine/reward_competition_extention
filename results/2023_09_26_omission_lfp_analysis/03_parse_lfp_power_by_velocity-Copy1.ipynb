{
 "cells": [
  {
   "cell_type": "markdown",
   "metadata": {
    "cell_id": "c3a02adc9e884466bc8c79db549cc3d2",
    "deepnote_cell_type": "text-cell-h1",
    "formattedRanges": [
     {
      "fromCodePoint": 0,
      "marks": {
       "bold": true,
       "underline": true
      },
      "toCodePoint": 17,
      "type": "marks"
     }
    ]
   },
   "source": [
    "# Calculate and Parse LFP with velocity"
   ]
  },
  {
   "cell_type": "markdown",
   "metadata": {
    "cell_id": "4546bee655b14a5dbf393161f1228e60",
    "deepnote_cell_type": "text-cell-p",
    "formattedRanges": []
   },
   "source": [
    "Brief 1-2 sentence description of notebook."
   ]
  },
  {
   "cell_type": "code",
   "execution_count": 1,
   "metadata": {},
   "outputs": [],
   "source": [
    "import warnings\n",
    "warnings.filterwarnings('ignore')"
   ]
  },
  {
   "cell_type": "code",
   "execution_count": 2,
   "metadata": {},
   "outputs": [],
   "source": [
    "import os"
   ]
  },
  {
   "cell_type": "raw",
   "metadata": {},
   "source": [
    "os.environ[\"SPECTRAL_CONNECTIVITY_ENABLE_GPU\"] = \"true\"\n",
    "import cupy as cp"
   ]
  },
  {
   "cell_type": "code",
   "execution_count": 3,
   "metadata": {
    "cell_id": "03b495cefa6a4798a44c7f2e4c6a3ea7",
    "deepnote_cell_type": "code",
    "deepnote_to_be_reexecuted": false,
    "execution_millis": 21,
    "execution_start": 1691424003626,
    "source_hash": null
   },
   "outputs": [],
   "source": [
    "# Imports of all used packages and libraries\n",
    "import numpy as np\n",
    "import pandas as pd\n",
    "import matplotlib.pyplot as plt\n",
    "import matplotlib.cm as cm\n",
    "import seaborn as sns\n",
    "from scipy import stats\n",
    "import itertools"
   ]
  },
  {
   "cell_type": "code",
   "execution_count": 4,
   "metadata": {},
   "outputs": [],
   "source": [
    "from spectral_connectivity import Multitaper, Connectivity\n",
    "import spectral_connectivity"
   ]
  },
  {
   "cell_type": "code",
   "execution_count": 5,
   "metadata": {},
   "outputs": [],
   "source": [
    "import collections"
   ]
  },
  {
   "cell_type": "code",
   "execution_count": 6,
   "metadata": {},
   "outputs": [],
   "source": [
    "import matplotlib"
   ]
  },
  {
   "cell_type": "code",
   "execution_count": 7,
   "metadata": {},
   "outputs": [],
   "source": [
    "font = {'weight' : 'bold',\n",
    "        'size'   : 12}\n",
    "\n",
    "matplotlib.rc('font', **font)"
   ]
  },
  {
   "cell_type": "markdown",
   "metadata": {
    "cell_id": "d290bac2c17940bfbc0f9296beaf70e5",
    "deepnote_cell_type": "text-cell-h2",
    "formattedRanges": []
   },
   "source": [
    "## Inputs & Data"
   ]
  },
  {
   "cell_type": "markdown",
   "metadata": {
    "cell_id": "e528ce19c608425292151930d380f49f",
    "deepnote_cell_type": "text-cell-p",
    "formattedRanges": []
   },
   "source": [
    "Explanation of each input and where it comes from."
   ]
  },
  {
   "cell_type": "code",
   "execution_count": 8,
   "metadata": {
    "cell_id": "6cf83a5811054461a718a71673d09aab",
    "deepnote_cell_type": "code",
    "deepnote_to_be_reexecuted": false,
    "execution_millis": 373,
    "execution_start": 1691424003628,
    "source_hash": null
   },
   "outputs": [],
   "source": [
    "# Inputs and Required data loading\n",
    "# input varaible names are in all caps snake case\n",
    "# Whenever an input changes or is used for processing \n",
    "# the vairables are all lower in snake case\n",
    "OUTPUT_DIR = r\"./proc\" # where data is saved should always be shown in the inputs"
   ]
  },
  {
   "cell_type": "code",
   "execution_count": 9,
   "metadata": {},
   "outputs": [],
   "source": [
    "CHANNEL_MAP_AND_ALL_TRIALS_DF = pd.read_pickle(\"./proc/full_baseline_and_trial_lfp_traces.pkl\")\n",
    "MERGED_TRIALS_AND_VIDEO = pd.read_pickle(\"./proc/trial_SLEAP_and_metadata.pkl\")"
   ]
  },
  {
   "cell_type": "code",
   "execution_count": 10,
   "metadata": {},
   "outputs": [],
   "source": [
    "OUTCOME_TO_COLOR = {'lose': \"red\",\n",
    " 'omission': \"orange\",\n",
    " 'rewarded': \"green\",\n",
    " 'win': \"blue\"}"
   ]
  },
  {
   "cell_type": "code",
   "execution_count": 11,
   "metadata": {},
   "outputs": [],
   "source": [
    "TRIAL_OR_BASELINE_TO_STYLE = {'baseline': \"--\", \"trial\": \"-\"}"
   ]
  },
  {
   "cell_type": "code",
   "execution_count": 12,
   "metadata": {},
   "outputs": [],
   "source": [
    "TIME_HALFBANDWIDTH_PRODUCT = 2\n",
    "TIME_WINDOW_DURATION = 1\n",
    "TIME_WINDOW_STEP = 0.5\n",
    "RESAMPLE_RATE=1000"
   ]
  },
  {
   "cell_type": "code",
   "execution_count": 13,
   "metadata": {},
   "outputs": [],
   "source": [
    "BIN_TO_VELOCITY = {0: \"0 to 2.5cm/s\", 1: \"2.5 to 5cm/s\", 2: \"5 to 10 cm/s\", 3: \"10cm/s+\"}"
   ]
  },
  {
   "cell_type": "code",
   "execution_count": 14,
   "metadata": {},
   "outputs": [],
   "source": [
    "ALL_BANDS = [\"theta\", \"beta\", \"gamma\"]\n",
    "BAND_TO_FREQ = {\"theta\": {\"low_freq\": 6, \"high_freq\": 11}, \"beta\": {\"low_freq\": 20, \"high_freq\": 31}, \"gamma\": {\"low_freq\": 30, \"high_freq\": 51}}\n",
    "BAND_TO_FREQ = {\"theta\": (6,11), \"beta\": (20,31), \"gamma\": (30,51)}"
   ]
  },
  {
   "cell_type": "code",
   "execution_count": 15,
   "metadata": {},
   "outputs": [
    {
     "data": {
      "text/html": [
       "<div>\n",
       "<style scoped>\n",
       "    .dataframe tbody tr th:only-of-type {\n",
       "        vertical-align: middle;\n",
       "    }\n",
       "\n",
       "    .dataframe tbody tr th {\n",
       "        vertical-align: top;\n",
       "    }\n",
       "\n",
       "    .dataframe thead th {\n",
       "        text-align: right;\n",
       "    }\n",
       "</style>\n",
       "<table border=\"1\" class=\"dataframe\">\n",
       "  <thead>\n",
       "    <tr style=\"text-align: right;\">\n",
       "      <th></th>\n",
       "      <th>time</th>\n",
       "      <th>recording_dir</th>\n",
       "      <th>recording_file</th>\n",
       "      <th>time_stamp_index</th>\n",
       "      <th>video_file</th>\n",
       "      <th>video_frame</th>\n",
       "      <th>video_number</th>\n",
       "      <th>subject_info</th>\n",
       "      <th>competition_closeness</th>\n",
       "      <th>video_name</th>\n",
       "      <th>...</th>\n",
       "      <th>baseline_thorax_velocity</th>\n",
       "      <th>trial_thorax_velocity</th>\n",
       "      <th>trial_chunked_thorax_velocity</th>\n",
       "      <th>baseline_chunked_thorax_velocity</th>\n",
       "      <th>trial_chunked_ephys_timestamp</th>\n",
       "      <th>baseline_chunked_ephys_timestamp</th>\n",
       "      <th>trial_chunked_lfp_index</th>\n",
       "      <th>baseline_chunked_lfp_index</th>\n",
       "      <th>binned_baseline_thorax_velocity</th>\n",
       "      <th>binned_trial_thorax_velocity</th>\n",
       "    </tr>\n",
       "  </thead>\n",
       "  <tbody>\n",
       "    <tr>\n",
       "      <th>0</th>\n",
       "      <td>30950500</td>\n",
       "      <td>20221214_125409_om_and_comp_6_1_and_6_3</td>\n",
       "      <td>20221214_125409_om_and_comp_6_1_top_1_base_2_v...</td>\n",
       "      <td>27998597</td>\n",
       "      <td>20221214_125409_om_and_comp_6_1_and_6_3.1.vide...</td>\n",
       "      <td>28574</td>\n",
       "      <td>1.0</td>\n",
       "      <td>6_1_top_1_base_2_vs_6_3</td>\n",
       "      <td>win_non_comp</td>\n",
       "      <td>20221214_125409_om_and_comp_6_1_and_6_3.1</td>\n",
       "      <td>...</td>\n",
       "      <td>[1.2476140081638165, 1.1366289071218907, 1.068...</td>\n",
       "      <td>[0.18170472850681613, 0.16961378983662276, 0.2...</td>\n",
       "      <td>[0.49872187702582166, 0.5847505450273386, 1.07...</td>\n",
       "      <td>[1.6838472335457935, 1.7550373254126983, 1.372...</td>\n",
       "      <td>[(27998597, 28018597), (28008597, 28028597), (...</td>\n",
       "      <td>[(27798597, 27818597), (27808597, 27828597), (...</td>\n",
       "      <td>[(1399929, 1400929), (1400429, 1401429), (1400...</td>\n",
       "      <td>[(1389929, 1390929), (1390429, 1391429), (1390...</td>\n",
       "      <td>[0, 0, 0, 0, 0, 0, 0, 2, 2, 2, 2, 1, 2, 1, 1, ...</td>\n",
       "      <td>[0, 0, 0, 0, 0, 0, 0, 0, 1, 1, 1, 1, 1, 0, 0, ...</td>\n",
       "    </tr>\n",
       "    <tr>\n",
       "      <th>1</th>\n",
       "      <td>32550496</td>\n",
       "      <td>20221214_125409_om_and_comp_6_1_and_6_3</td>\n",
       "      <td>20221214_125409_om_and_comp_6_1_top_1_base_2_v...</td>\n",
       "      <td>29598593</td>\n",
       "      <td>20221214_125409_om_and_comp_6_1_and_6_3.1.vide...</td>\n",
       "      <td>30569</td>\n",
       "      <td>1.0</td>\n",
       "      <td>6_1_top_1_base_2_vs_6_3</td>\n",
       "      <td>win_non_comp</td>\n",
       "      <td>20221214_125409_om_and_comp_6_1_and_6_3.1</td>\n",
       "      <td>...</td>\n",
       "      <td>[2.7236727895073223, 2.628037603947678, 2.5298...</td>\n",
       "      <td>[0.38577700470932025, 0.16352840888997497, 0.0...</td>\n",
       "      <td>[0.3129891797005337, 0.2588847730730972, 0.210...</td>\n",
       "      <td>[1.458421075097482, 0.5407183310858753, 0.2360...</td>\n",
       "      <td>[(29598593, 29618593), (29608593, 29628593), (...</td>\n",
       "      <td>[(29398593, 29418593), (29408593, 29428593), (...</td>\n",
       "      <td>[(1479929, 1480929), (1480429, 1481429), (1480...</td>\n",
       "      <td>[(1469929, 1470929), (1470429, 1471429), (1470...</td>\n",
       "      <td>[0, 0, 0, 0, 0, 0, 0, 0, 1, 2, 2, 2, 2, 2, 2, ...</td>\n",
       "      <td>[0, 0, 0, 0, 0, 0, 0, 0, 0, 0, 0, 0, 0, 0, 0, ...</td>\n",
       "    </tr>\n",
       "    <tr>\n",
       "      <th>2</th>\n",
       "      <td>34350494</td>\n",
       "      <td>20221214_125409_om_and_comp_6_1_and_6_3</td>\n",
       "      <td>20221214_125409_om_and_comp_6_1_top_1_base_2_v...</td>\n",
       "      <td>31398591</td>\n",
       "      <td>20221214_125409_om_and_comp_6_1_and_6_3.1.vide...</td>\n",
       "      <td>32813</td>\n",
       "      <td>1.0</td>\n",
       "      <td>6_1_top_1_base_2_vs_6_3</td>\n",
       "      <td>win_non_comp</td>\n",
       "      <td>20221214_125409_om_and_comp_6_1_and_6_3.1</td>\n",
       "      <td>...</td>\n",
       "      <td>[5.210405290871598, 5.31421978904958, 5.379251...</td>\n",
       "      <td>[0.16560567036540477, 0.1278165569746918, 0.09...</td>\n",
       "      <td>[0.19868857983610794, 0.508612732615851, 0.481...</td>\n",
       "      <td>[3.439626522203859, 1.5683251160952123, 1.1535...</td>\n",
       "      <td>[(31398591, 31418591), (31408591, 31428591), (...</td>\n",
       "      <td>[(31198591, 31218591), (31208591, 31228591), (...</td>\n",
       "      <td>[(1569929, 1570929), (1570429, 1571429), (1570...</td>\n",
       "      <td>[(1559929, 1560929), (1560429, 1561429), (1560...</td>\n",
       "      <td>[1, 0, 0, 0, 0, 0, 0, 0, 0, 0, 0, 0, 0, 0, 0, ...</td>\n",
       "      <td>[0, 0, 0, 0, 0, 0, 0, 0, 0, 0, 0, 0, 0, 0, 0, ...</td>\n",
       "    </tr>\n",
       "    <tr>\n",
       "      <th>3</th>\n",
       "      <td>35950496</td>\n",
       "      <td>20221214_125409_om_and_comp_6_1_and_6_3</td>\n",
       "      <td>20221214_125409_om_and_comp_6_1_top_1_base_2_v...</td>\n",
       "      <td>32998593</td>\n",
       "      <td>20221214_125409_om_and_comp_6_1_and_6_3.1.vide...</td>\n",
       "      <td>34807</td>\n",
       "      <td>1.0</td>\n",
       "      <td>6_1_top_1_base_2_vs_6_3</td>\n",
       "      <td>win_non_comp</td>\n",
       "      <td>20221214_125409_om_and_comp_6_1_and_6_3.1</td>\n",
       "      <td>...</td>\n",
       "      <td>[1.6555785442563817, 1.6866235492876445, 1.664...</td>\n",
       "      <td>[0.6307901161394641, 0.6655381193431421, 0.701...</td>\n",
       "      <td>[0.4673908122355257, 0.39056964369789443, 0.38...</td>\n",
       "      <td>[0.900289992310536, 0.3533926495729531, 0.2807...</td>\n",
       "      <td>[(32998593, 33018593), (33008593, 33028593), (...</td>\n",
       "      <td>[(32798593, 32818593), (32808593, 32828593), (...</td>\n",
       "      <td>[(1649929, 1650929), (1650429, 1651429), (1650...</td>\n",
       "      <td>[(1639929, 1640929), (1640429, 1641429), (1640...</td>\n",
       "      <td>[0, 0, 0, 0, 0, 0, 0, 0, 0, 0, 0, 0, 0, 0, 0, ...</td>\n",
       "      <td>[0, 0, 0, 0, 0, 0, 0, 0, 0, 0, 0, 0, 0, 0, 0, ...</td>\n",
       "    </tr>\n",
       "    <tr>\n",
       "      <th>4</th>\n",
       "      <td>37450494</td>\n",
       "      <td>20221214_125409_om_and_comp_6_1_and_6_3</td>\n",
       "      <td>20221214_125409_om_and_comp_6_1_top_1_base_2_v...</td>\n",
       "      <td>34498591</td>\n",
       "      <td>20221214_125409_om_and_comp_6_1_and_6_3.1.vide...</td>\n",
       "      <td>36677</td>\n",
       "      <td>1.0</td>\n",
       "      <td>6_1_top_1_base_2_vs_6_3</td>\n",
       "      <td>win_non_comp</td>\n",
       "      <td>20221214_125409_om_and_comp_6_1_and_6_3.1</td>\n",
       "      <td>...</td>\n",
       "      <td>[0.9562352171082348, 0.8615465705681848, 0.756...</td>\n",
       "      <td>[0.15955796441347841, 0.18843088608181321, 0.2...</td>\n",
       "      <td>[0.23449342689004346, 0.17815867178863123, 0.2...</td>\n",
       "      <td>[0.3903027043299651, 0.397100110767035, 0.8705...</td>\n",
       "      <td>[(34498591, 34518591), (34508591, 34528591), (...</td>\n",
       "      <td>[(34298591, 34318591), (34308591, 34328591), (...</td>\n",
       "      <td>[(1724929, 1725929), (1725429, 1726429), (1725...</td>\n",
       "      <td>[(1714929, 1715929), (1715429, 1716429), (1715...</td>\n",
       "      <td>[0, 0, 0, 0, 0, 0, 0, 0, 0, 0, 0, 0, 0, 0, 0, ...</td>\n",
       "      <td>[0, 0, 0, 0, 0, 0, 0, 0, 0, 0, 0, 0, 0, 0, 0, ...</td>\n",
       "    </tr>\n",
       "  </tbody>\n",
       "</table>\n",
       "<p>5 rows × 61 columns</p>\n",
       "</div>"
      ],
      "text/plain": [
       "       time                            recording_dir  \\\n",
       "0  30950500  20221214_125409_om_and_comp_6_1_and_6_3   \n",
       "1  32550496  20221214_125409_om_and_comp_6_1_and_6_3   \n",
       "2  34350494  20221214_125409_om_and_comp_6_1_and_6_3   \n",
       "3  35950496  20221214_125409_om_and_comp_6_1_and_6_3   \n",
       "4  37450494  20221214_125409_om_and_comp_6_1_and_6_3   \n",
       "\n",
       "                                      recording_file  time_stamp_index  \\\n",
       "0  20221214_125409_om_and_comp_6_1_top_1_base_2_v...          27998597   \n",
       "1  20221214_125409_om_and_comp_6_1_top_1_base_2_v...          29598593   \n",
       "2  20221214_125409_om_and_comp_6_1_top_1_base_2_v...          31398591   \n",
       "3  20221214_125409_om_and_comp_6_1_top_1_base_2_v...          32998593   \n",
       "4  20221214_125409_om_and_comp_6_1_top_1_base_2_v...          34498591   \n",
       "\n",
       "                                          video_file  video_frame  \\\n",
       "0  20221214_125409_om_and_comp_6_1_and_6_3.1.vide...        28574   \n",
       "1  20221214_125409_om_and_comp_6_1_and_6_3.1.vide...        30569   \n",
       "2  20221214_125409_om_and_comp_6_1_and_6_3.1.vide...        32813   \n",
       "3  20221214_125409_om_and_comp_6_1_and_6_3.1.vide...        34807   \n",
       "4  20221214_125409_om_and_comp_6_1_and_6_3.1.vide...        36677   \n",
       "\n",
       "   video_number             subject_info competition_closeness  \\\n",
       "0           1.0  6_1_top_1_base_2_vs_6_3          win_non_comp   \n",
       "1           1.0  6_1_top_1_base_2_vs_6_3          win_non_comp   \n",
       "2           1.0  6_1_top_1_base_2_vs_6_3          win_non_comp   \n",
       "3           1.0  6_1_top_1_base_2_vs_6_3          win_non_comp   \n",
       "4           1.0  6_1_top_1_base_2_vs_6_3          win_non_comp   \n",
       "\n",
       "                                  video_name  ...  \\\n",
       "0  20221214_125409_om_and_comp_6_1_and_6_3.1  ...   \n",
       "1  20221214_125409_om_and_comp_6_1_and_6_3.1  ...   \n",
       "2  20221214_125409_om_and_comp_6_1_and_6_3.1  ...   \n",
       "3  20221214_125409_om_and_comp_6_1_and_6_3.1  ...   \n",
       "4  20221214_125409_om_and_comp_6_1_and_6_3.1  ...   \n",
       "\n",
       "                            baseline_thorax_velocity  \\\n",
       "0  [1.2476140081638165, 1.1366289071218907, 1.068...   \n",
       "1  [2.7236727895073223, 2.628037603947678, 2.5298...   \n",
       "2  [5.210405290871598, 5.31421978904958, 5.379251...   \n",
       "3  [1.6555785442563817, 1.6866235492876445, 1.664...   \n",
       "4  [0.9562352171082348, 0.8615465705681848, 0.756...   \n",
       "\n",
       "                               trial_thorax_velocity  \\\n",
       "0  [0.18170472850681613, 0.16961378983662276, 0.2...   \n",
       "1  [0.38577700470932025, 0.16352840888997497, 0.0...   \n",
       "2  [0.16560567036540477, 0.1278165569746918, 0.09...   \n",
       "3  [0.6307901161394641, 0.6655381193431421, 0.701...   \n",
       "4  [0.15955796441347841, 0.18843088608181321, 0.2...   \n",
       "\n",
       "                       trial_chunked_thorax_velocity  \\\n",
       "0  [0.49872187702582166, 0.5847505450273386, 1.07...   \n",
       "1  [0.3129891797005337, 0.2588847730730972, 0.210...   \n",
       "2  [0.19868857983610794, 0.508612732615851, 0.481...   \n",
       "3  [0.4673908122355257, 0.39056964369789443, 0.38...   \n",
       "4  [0.23449342689004346, 0.17815867178863123, 0.2...   \n",
       "\n",
       "                    baseline_chunked_thorax_velocity  \\\n",
       "0  [1.6838472335457935, 1.7550373254126983, 1.372...   \n",
       "1  [1.458421075097482, 0.5407183310858753, 0.2360...   \n",
       "2  [3.439626522203859, 1.5683251160952123, 1.1535...   \n",
       "3  [0.900289992310536, 0.3533926495729531, 0.2807...   \n",
       "4  [0.3903027043299651, 0.397100110767035, 0.8705...   \n",
       "\n",
       "                       trial_chunked_ephys_timestamp  \\\n",
       "0  [(27998597, 28018597), (28008597, 28028597), (...   \n",
       "1  [(29598593, 29618593), (29608593, 29628593), (...   \n",
       "2  [(31398591, 31418591), (31408591, 31428591), (...   \n",
       "3  [(32998593, 33018593), (33008593, 33028593), (...   \n",
       "4  [(34498591, 34518591), (34508591, 34528591), (...   \n",
       "\n",
       "                    baseline_chunked_ephys_timestamp  \\\n",
       "0  [(27798597, 27818597), (27808597, 27828597), (...   \n",
       "1  [(29398593, 29418593), (29408593, 29428593), (...   \n",
       "2  [(31198591, 31218591), (31208591, 31228591), (...   \n",
       "3  [(32798593, 32818593), (32808593, 32828593), (...   \n",
       "4  [(34298591, 34318591), (34308591, 34328591), (...   \n",
       "\n",
       "                             trial_chunked_lfp_index  \\\n",
       "0  [(1399929, 1400929), (1400429, 1401429), (1400...   \n",
       "1  [(1479929, 1480929), (1480429, 1481429), (1480...   \n",
       "2  [(1569929, 1570929), (1570429, 1571429), (1570...   \n",
       "3  [(1649929, 1650929), (1650429, 1651429), (1650...   \n",
       "4  [(1724929, 1725929), (1725429, 1726429), (1725...   \n",
       "\n",
       "                          baseline_chunked_lfp_index  \\\n",
       "0  [(1389929, 1390929), (1390429, 1391429), (1390...   \n",
       "1  [(1469929, 1470929), (1470429, 1471429), (1470...   \n",
       "2  [(1559929, 1560929), (1560429, 1561429), (1560...   \n",
       "3  [(1639929, 1640929), (1640429, 1641429), (1640...   \n",
       "4  [(1714929, 1715929), (1715429, 1716429), (1715...   \n",
       "\n",
       "                     binned_baseline_thorax_velocity  \\\n",
       "0  [0, 0, 0, 0, 0, 0, 0, 2, 2, 2, 2, 1, 2, 1, 1, ...   \n",
       "1  [0, 0, 0, 0, 0, 0, 0, 0, 1, 2, 2, 2, 2, 2, 2, ...   \n",
       "2  [1, 0, 0, 0, 0, 0, 0, 0, 0, 0, 0, 0, 0, 0, 0, ...   \n",
       "3  [0, 0, 0, 0, 0, 0, 0, 0, 0, 0, 0, 0, 0, 0, 0, ...   \n",
       "4  [0, 0, 0, 0, 0, 0, 0, 0, 0, 0, 0, 0, 0, 0, 0, ...   \n",
       "\n",
       "                        binned_trial_thorax_velocity  \n",
       "0  [0, 0, 0, 0, 0, 0, 0, 0, 1, 1, 1, 1, 1, 0, 0, ...  \n",
       "1  [0, 0, 0, 0, 0, 0, 0, 0, 0, 0, 0, 0, 0, 0, 0, ...  \n",
       "2  [0, 0, 0, 0, 0, 0, 0, 0, 0, 0, 0, 0, 0, 0, 0, ...  \n",
       "3  [0, 0, 0, 0, 0, 0, 0, 0, 0, 0, 0, 0, 0, 0, 0, ...  \n",
       "4  [0, 0, 0, 0, 0, 0, 0, 0, 0, 0, 0, 0, 0, 0, 0, ...  \n",
       "\n",
       "[5 rows x 61 columns]"
      ]
     },
     "execution_count": 15,
     "metadata": {},
     "output_type": "execute_result"
    }
   ],
   "source": [
    "MERGED_TRIALS_AND_VIDEO.head()"
   ]
  },
  {
   "cell_type": "code",
   "execution_count": 16,
   "metadata": {},
   "outputs": [
    {
     "data": {
      "text/html": [
       "<div>\n",
       "<style scoped>\n",
       "    .dataframe tbody tr th:only-of-type {\n",
       "        vertical-align: middle;\n",
       "    }\n",
       "\n",
       "    .dataframe tbody tr th {\n",
       "        vertical-align: top;\n",
       "    }\n",
       "\n",
       "    .dataframe thead th {\n",
       "        text-align: right;\n",
       "    }\n",
       "</style>\n",
       "<table border=\"1\" class=\"dataframe\">\n",
       "  <thead>\n",
       "    <tr style=\"text-align: right;\">\n",
       "      <th></th>\n",
       "      <th>time</th>\n",
       "      <th>recording_dir</th>\n",
       "      <th>recording_file</th>\n",
       "      <th>time_stamp_index</th>\n",
       "      <th>video_file</th>\n",
       "      <th>video_frame</th>\n",
       "      <th>video_number</th>\n",
       "      <th>subject_info</th>\n",
       "      <th>competition_closeness</th>\n",
       "      <th>video_name</th>\n",
       "      <th>...</th>\n",
       "      <th>mPFC_baseline_lfp_trace</th>\n",
       "      <th>mPFC_trial_lfp_trace</th>\n",
       "      <th>vHPC_baseline_lfp_trace</th>\n",
       "      <th>vHPC_trial_lfp_trace</th>\n",
       "      <th>BLA_baseline_lfp_trace</th>\n",
       "      <th>BLA_trial_lfp_trace</th>\n",
       "      <th>LH_baseline_lfp_trace</th>\n",
       "      <th>LH_trial_lfp_trace</th>\n",
       "      <th>MD_baseline_lfp_trace</th>\n",
       "      <th>MD_trial_lfp_trace</th>\n",
       "    </tr>\n",
       "  </thead>\n",
       "  <tbody>\n",
       "    <tr>\n",
       "      <th>0</th>\n",
       "      <td>6310663</td>\n",
       "      <td>20221202_134600_omission_and_competition_subje...</td>\n",
       "      <td>20221202_134600_omission_and_competition_subje...</td>\n",
       "      <td>1390826</td>\n",
       "      <td>20221202_134600_omission_and_competition_subje...</td>\n",
       "      <td>1734</td>\n",
       "      <td>1.0</td>\n",
       "      <td>6_1_top_2_base_3</td>\n",
       "      <td>rewarded</td>\n",
       "      <td>20221202_134600_omission_and_competition_subje...</td>\n",
       "      <td>...</td>\n",
       "      <td>[1.8457601, 1.7363818, 1.6475118, 1.59738, 1.2...</td>\n",
       "      <td>[0.6927297, 0.96389693, 0.7884358, -0.04101689...</td>\n",
       "      <td>[-0.06969439, -0.09568214, -0.05315674, 0.1571...</td>\n",
       "      <td>[1.5864334, 1.5710771, 1.5970649, 1.2155175, 0...</td>\n",
       "      <td>[2.0367627, 2.1163385, 2.1618104, 2.2679114, 2...</td>\n",
       "      <td>[0.3164087, 0.36377528, 0.18757163, -0.5020857...</td>\n",
       "      <td>[3.1382985, 3.2319791, 3.2788196, 3.2881875, 3...</td>\n",
       "      <td>[0.8118982, 1.2209699, 0.87435186, -0.4028264,...</td>\n",
       "      <td>[1.3934726, 1.494771, 1.764077, 1.828315, 1.68...</td>\n",
       "      <td>[-0.9783956, -0.86721426, -0.7288553, -1.40582...</td>\n",
       "    </tr>\n",
       "    <tr>\n",
       "      <th>1</th>\n",
       "      <td>7910662</td>\n",
       "      <td>20221202_134600_omission_and_competition_subje...</td>\n",
       "      <td>20221202_134600_omission_and_competition_subje...</td>\n",
       "      <td>2990825</td>\n",
       "      <td>20221202_134600_omission_and_competition_subje...</td>\n",
       "      <td>3728</td>\n",
       "      <td>1.0</td>\n",
       "      <td>6_1_top_2_base_3</td>\n",
       "      <td>rewarded</td>\n",
       "      <td>20221202_134600_omission_and_competition_subje...</td>\n",
       "      <td>...</td>\n",
       "      <td>[1.2191132, 1.1348007, 1.2054409, 1.0960625, 0...</td>\n",
       "      <td>[1.0732753, 0.7246318, 0.7633699, 0.3782669, -...</td>\n",
       "      <td>[0.31539667, 0.23152715, 0.29767776, 0.4217101...</td>\n",
       "      <td>[0.03543783, -0.27641505, -0.40044746, -0.6638...</td>\n",
       "      <td>[0.3107247, 0.14209972, -0.05873455, -0.331566...</td>\n",
       "      <td>[0.026525281, -0.04547191, 0.11936376, -0.4092...</td>\n",
       "      <td>[-1.180375, -1.2959143, -1.3771042, -1.458294,...</td>\n",
       "      <td>[0.9492963, 0.46840277, 0.6713773, 0.043717593...</td>\n",
       "      <td>[-0.14577106, -0.16059524, 0.027177656, 0.1680...</td>\n",
       "      <td>[1.6281886, 1.349, 1.4675934, 0.9487473, -0.21...</td>\n",
       "    </tr>\n",
       "    <tr>\n",
       "      <th>2</th>\n",
       "      <td>9710660</td>\n",
       "      <td>20221202_134600_omission_and_competition_subje...</td>\n",
       "      <td>20221202_134600_omission_and_competition_subje...</td>\n",
       "      <td>4790823</td>\n",
       "      <td>20221202_134600_omission_and_competition_subje...</td>\n",
       "      <td>5972</td>\n",
       "      <td>1.0</td>\n",
       "      <td>6_1_top_2_base_3</td>\n",
       "      <td>rewarded</td>\n",
       "      <td>20221202_134600_omission_and_competition_subje...</td>\n",
       "      <td>...</td>\n",
       "      <td>[-1.2669662, -1.2965895, -1.2532939, -0.986684...</td>\n",
       "      <td>[0.28711826, 0.84996116, 1.0960625, 0.8226166,...</td>\n",
       "      <td>[-1.2556804, -1.2580429, -1.3312811, -1.118654...</td>\n",
       "      <td>[0.060244307, 0.4748669, 0.7654571, 0.6591436,...</td>\n",
       "      <td>[-1.9912907, -1.9041362, -1.9325562, -1.542255...</td>\n",
       "      <td>[0.69344664, 1.4001559, 1.7582471, 1.4304705, ...</td>\n",
       "      <td>[-0.19985186, -0.074944444, -0.18423842, -0.13...</td>\n",
       "      <td>[-0.59643286, 0.27167362, 0.6901134, 0.4371759...</td>\n",
       "      <td>[-0.32119048, -0.52872896, -0.96851283, -0.753...</td>\n",
       "      <td>[0.096357144, 0.88450915, 1.2131118, 0.8943919...</td>\n",
       "    </tr>\n",
       "    <tr>\n",
       "      <th>3</th>\n",
       "      <td>11310658</td>\n",
       "      <td>20221202_134600_omission_and_competition_subje...</td>\n",
       "      <td>20221202_134600_omission_and_competition_subje...</td>\n",
       "      <td>6390821</td>\n",
       "      <td>20221202_134600_omission_and_competition_subje...</td>\n",
       "      <td>7966</td>\n",
       "      <td>1.0</td>\n",
       "      <td>6_1_top_2_base_3</td>\n",
       "      <td>omission</td>\n",
       "      <td>20221202_134600_omission_and_competition_subje...</td>\n",
       "      <td>...</td>\n",
       "      <td>[-2.0257788, -2.0348935, -1.9323514, -1.754611...</td>\n",
       "      <td>[2.376701, 2.3015034, 1.7796774, 0.9411098, 0....</td>\n",
       "      <td>[0.16655779, 0.42879772, 0.66268736, 0.6934002...</td>\n",
       "      <td>[-1.8427671, -2.303459, -2.6802812, -3.060647,...</td>\n",
       "      <td>[-1.2637402, -1.0382752, -0.82986236, -0.74649...</td>\n",
       "      <td>[2.6771586, 2.3929594, 2.209177, 1.9761335, 1....</td>\n",
       "      <td>[-2.538743, -2.1983705, -1.8673657, -1.7143542...</td>\n",
       "      <td>[2.8447661, 2.3045416, 1.5301157, 0.96490973, ...</td>\n",
       "      <td>[-2.7647088, -2.5546997, -2.3051593, -2.055619...</td>\n",
       "      <td>[2.087738, 1.7418406, 1.1266373, 0.45954946, 0...</td>\n",
       "    </tr>\n",
       "    <tr>\n",
       "      <th>4</th>\n",
       "      <td>12810657</td>\n",
       "      <td>20221202_134600_omission_and_competition_subje...</td>\n",
       "      <td>20221202_134600_omission_and_competition_subje...</td>\n",
       "      <td>7890820</td>\n",
       "      <td>20221202_134600_omission_and_competition_subje...</td>\n",
       "      <td>9836</td>\n",
       "      <td>1.0</td>\n",
       "      <td>6_1_top_2_base_3</td>\n",
       "      <td>rewarded</td>\n",
       "      <td>20221202_134600_omission_and_competition_subje...</td>\n",
       "      <td>...</td>\n",
       "      <td>[-0.5765152, 0.25749493, 0.6403192, 0.4375135,...</td>\n",
       "      <td>[-0.043295607, 0.73602533, 0.31674156, 0.07747...</td>\n",
       "      <td>[-0.31421542, 0.19727057, 0.4453354, 0.3744597...</td>\n",
       "      <td>[0.21617076, 0.8221576, 0.58236164, 0.43116024...</td>\n",
       "      <td>[-2.1352851, -2.0576038, -2.0822346, -2.140969...</td>\n",
       "      <td>[-0.18188764, 0.113679774, -0.66123736, -0.935...</td>\n",
       "      <td>[-2.1671436, -1.4832754, -1.0554676, -1.130412...</td>\n",
       "      <td>[0.5339792, 1.5113796, 0.57145137, -0.02810416...</td>\n",
       "      <td>[-2.0111465, -1.714663, -1.4255916, -1.3662949...</td>\n",
       "      <td>[0.31871977, 1.008044, 0.25942308, -0.22730403...</td>\n",
       "    </tr>\n",
       "  </tbody>\n",
       "</table>\n",
       "<p>5 rows × 37 columns</p>\n",
       "</div>"
      ],
      "text/plain": [
       "       time                                      recording_dir  \\\n",
       "0   6310663  20221202_134600_omission_and_competition_subje...   \n",
       "1   7910662  20221202_134600_omission_and_competition_subje...   \n",
       "2   9710660  20221202_134600_omission_and_competition_subje...   \n",
       "3  11310658  20221202_134600_omission_and_competition_subje...   \n",
       "4  12810657  20221202_134600_omission_and_competition_subje...   \n",
       "\n",
       "                                      recording_file  time_stamp_index  \\\n",
       "0  20221202_134600_omission_and_competition_subje...           1390826   \n",
       "1  20221202_134600_omission_and_competition_subje...           2990825   \n",
       "2  20221202_134600_omission_and_competition_subje...           4790823   \n",
       "3  20221202_134600_omission_and_competition_subje...           6390821   \n",
       "4  20221202_134600_omission_and_competition_subje...           7890820   \n",
       "\n",
       "                                          video_file  video_frame  \\\n",
       "0  20221202_134600_omission_and_competition_subje...         1734   \n",
       "1  20221202_134600_omission_and_competition_subje...         3728   \n",
       "2  20221202_134600_omission_and_competition_subje...         5972   \n",
       "3  20221202_134600_omission_and_competition_subje...         7966   \n",
       "4  20221202_134600_omission_and_competition_subje...         9836   \n",
       "\n",
       "   video_number      subject_info competition_closeness  \\\n",
       "0           1.0  6_1_top_2_base_3              rewarded   \n",
       "1           1.0  6_1_top_2_base_3              rewarded   \n",
       "2           1.0  6_1_top_2_base_3              rewarded   \n",
       "3           1.0  6_1_top_2_base_3              omission   \n",
       "4           1.0  6_1_top_2_base_3              rewarded   \n",
       "\n",
       "                                          video_name  ...  \\\n",
       "0  20221202_134600_omission_and_competition_subje...  ...   \n",
       "1  20221202_134600_omission_and_competition_subje...  ...   \n",
       "2  20221202_134600_omission_and_competition_subje...  ...   \n",
       "3  20221202_134600_omission_and_competition_subje...  ...   \n",
       "4  20221202_134600_omission_and_competition_subje...  ...   \n",
       "\n",
       "                             mPFC_baseline_lfp_trace  \\\n",
       "0  [1.8457601, 1.7363818, 1.6475118, 1.59738, 1.2...   \n",
       "1  [1.2191132, 1.1348007, 1.2054409, 1.0960625, 0...   \n",
       "2  [-1.2669662, -1.2965895, -1.2532939, -0.986684...   \n",
       "3  [-2.0257788, -2.0348935, -1.9323514, -1.754611...   \n",
       "4  [-0.5765152, 0.25749493, 0.6403192, 0.4375135,...   \n",
       "\n",
       "                                mPFC_trial_lfp_trace  \\\n",
       "0  [0.6927297, 0.96389693, 0.7884358, -0.04101689...   \n",
       "1  [1.0732753, 0.7246318, 0.7633699, 0.3782669, -...   \n",
       "2  [0.28711826, 0.84996116, 1.0960625, 0.8226166,...   \n",
       "3  [2.376701, 2.3015034, 1.7796774, 0.9411098, 0....   \n",
       "4  [-0.043295607, 0.73602533, 0.31674156, 0.07747...   \n",
       "\n",
       "                             vHPC_baseline_lfp_trace  \\\n",
       "0  [-0.06969439, -0.09568214, -0.05315674, 0.1571...   \n",
       "1  [0.31539667, 0.23152715, 0.29767776, 0.4217101...   \n",
       "2  [-1.2556804, -1.2580429, -1.3312811, -1.118654...   \n",
       "3  [0.16655779, 0.42879772, 0.66268736, 0.6934002...   \n",
       "4  [-0.31421542, 0.19727057, 0.4453354, 0.3744597...   \n",
       "\n",
       "                                vHPC_trial_lfp_trace  \\\n",
       "0  [1.5864334, 1.5710771, 1.5970649, 1.2155175, 0...   \n",
       "1  [0.03543783, -0.27641505, -0.40044746, -0.6638...   \n",
       "2  [0.060244307, 0.4748669, 0.7654571, 0.6591436,...   \n",
       "3  [-1.8427671, -2.303459, -2.6802812, -3.060647,...   \n",
       "4  [0.21617076, 0.8221576, 0.58236164, 0.43116024...   \n",
       "\n",
       "                              BLA_baseline_lfp_trace  \\\n",
       "0  [2.0367627, 2.1163385, 2.1618104, 2.2679114, 2...   \n",
       "1  [0.3107247, 0.14209972, -0.05873455, -0.331566...   \n",
       "2  [-1.9912907, -1.9041362, -1.9325562, -1.542255...   \n",
       "3  [-1.2637402, -1.0382752, -0.82986236, -0.74649...   \n",
       "4  [-2.1352851, -2.0576038, -2.0822346, -2.140969...   \n",
       "\n",
       "                                 BLA_trial_lfp_trace  \\\n",
       "0  [0.3164087, 0.36377528, 0.18757163, -0.5020857...   \n",
       "1  [0.026525281, -0.04547191, 0.11936376, -0.4092...   \n",
       "2  [0.69344664, 1.4001559, 1.7582471, 1.4304705, ...   \n",
       "3  [2.6771586, 2.3929594, 2.209177, 1.9761335, 1....   \n",
       "4  [-0.18188764, 0.113679774, -0.66123736, -0.935...   \n",
       "\n",
       "                               LH_baseline_lfp_trace  \\\n",
       "0  [3.1382985, 3.2319791, 3.2788196, 3.2881875, 3...   \n",
       "1  [-1.180375, -1.2959143, -1.3771042, -1.458294,...   \n",
       "2  [-0.19985186, -0.074944444, -0.18423842, -0.13...   \n",
       "3  [-2.538743, -2.1983705, -1.8673657, -1.7143542...   \n",
       "4  [-2.1671436, -1.4832754, -1.0554676, -1.130412...   \n",
       "\n",
       "                                  LH_trial_lfp_trace  \\\n",
       "0  [0.8118982, 1.2209699, 0.87435186, -0.4028264,...   \n",
       "1  [0.9492963, 0.46840277, 0.6713773, 0.043717593...   \n",
       "2  [-0.59643286, 0.27167362, 0.6901134, 0.4371759...   \n",
       "3  [2.8447661, 2.3045416, 1.5301157, 0.96490973, ...   \n",
       "4  [0.5339792, 1.5113796, 0.57145137, -0.02810416...   \n",
       "\n",
       "                               MD_baseline_lfp_trace  \\\n",
       "0  [1.3934726, 1.494771, 1.764077, 1.828315, 1.68...   \n",
       "1  [-0.14577106, -0.16059524, 0.027177656, 0.1680...   \n",
       "2  [-0.32119048, -0.52872896, -0.96851283, -0.753...   \n",
       "3  [-2.7647088, -2.5546997, -2.3051593, -2.055619...   \n",
       "4  [-2.0111465, -1.714663, -1.4255916, -1.3662949...   \n",
       "\n",
       "                                  MD_trial_lfp_trace  \n",
       "0  [-0.9783956, -0.86721426, -0.7288553, -1.40582...  \n",
       "1  [1.6281886, 1.349, 1.4675934, 0.9487473, -0.21...  \n",
       "2  [0.096357144, 0.88450915, 1.2131118, 0.8943919...  \n",
       "3  [2.087738, 1.7418406, 1.1266373, 0.45954946, 0...  \n",
       "4  [0.31871977, 1.008044, 0.25942308, -0.22730403...  \n",
       "\n",
       "[5 rows x 37 columns]"
      ]
     },
     "execution_count": 16,
     "metadata": {},
     "output_type": "execute_result"
    }
   ],
   "source": [
    "CHANNEL_MAP_AND_ALL_TRIALS_DF.head()"
   ]
  },
  {
   "cell_type": "code",
   "execution_count": null,
   "metadata": {},
   "outputs": [],
   "source": []
  },
  {
   "cell_type": "markdown",
   "metadata": {
    "cell_id": "e3ee4891d43a4ac287413afc552ca289",
    "deepnote_cell_type": "text-cell-h2",
    "formattedRanges": []
   },
   "source": [
    "## Outputs"
   ]
  },
  {
   "cell_type": "markdown",
   "metadata": {
    "cell_id": "9ccbf6cc70fd4d379fa29317f733771f",
    "deepnote_cell_type": "text-cell-p",
    "formattedRanges": []
   },
   "source": [
    "Describe each output that the notebook creates. "
   ]
  },
  {
   "cell_type": "markdown",
   "metadata": {
    "cell_id": "fc8e8920a6944918a15fac575cdf6e78",
    "deepnote_cell_type": "text-cell-bullet",
    "formattedRanges": []
   },
   "source": [
    "- Is it a plot or is it data?"
   ]
  },
  {
   "cell_type": "markdown",
   "metadata": {
    "cell_id": "1e639d4776a84aa9ac8ded2e14fa57db",
    "deepnote_cell_type": "text-cell-bullet",
    "formattedRanges": []
   },
   "source": [
    "- How valuable is the output and why is it valuable or useful?"
   ]
  },
  {
   "cell_type": "markdown",
   "metadata": {},
   "source": [
    "## Functions "
   ]
  },
  {
   "cell_type": "code",
   "execution_count": 17,
   "metadata": {},
   "outputs": [],
   "source": [
    "def mean_of_counter(counter):\n",
    "    # Extract values from the Counter and calculate the mean\n",
    "    values = list(counter.values())\n",
    "    return sum(values) / len(values) if values else 0  # Prevent division by zero"
   ]
  },
  {
   "cell_type": "code",
   "execution_count": null,
   "metadata": {},
   "outputs": [],
   "source": []
  },
  {
   "cell_type": "markdown",
   "metadata": {
    "cell_id": "8999d19b6b7d4d63bc90f0b0bd9ab085",
    "deepnote_cell_type": "text-cell-h2",
    "formattedRanges": []
   },
   "source": [
    "## Processing"
   ]
  },
  {
   "cell_type": "markdown",
   "metadata": {
    "cell_id": "9b36cdf08567463082b005cb0dec684b",
    "deepnote_cell_type": "text-cell-p",
    "formattedRanges": []
   },
   "source": [
    "Describe what is done to the data here and how inputs are manipulated to generate outputs. "
   ]
  },
  {
   "cell_type": "code",
   "execution_count": 18,
   "metadata": {
    "cell_id": "89aaba237c644628b1b37604b75e7cb1",
    "deepnote_cell_type": "code"
   },
   "outputs": [],
   "source": [
    "# As much code and as many cells as required\n",
    "# includes EDA and playing with data\n",
    "# GO HAM!\n",
    "\n",
    "# Ideally functions are defined here first and then data is processed using the functions\n",
    "\n",
    "# function names are short and in snake case all lowercase\n",
    "# a function name should be unique but does not have to describe the function\n",
    "# doc strings describe functions not function names\n",
    "\n",
    "\n"
   ]
  },
  {
   "cell_type": "code",
   "execution_count": 19,
   "metadata": {},
   "outputs": [
    {
     "data": {
      "text/plain": [
       "Index(['time', 'recording_dir', 'recording_file', 'time_stamp_index',\n",
       "       'video_file', 'video_frame', 'video_number', 'subject_info',\n",
       "       'competition_closeness', 'video_name', 'all_subjects',\n",
       "       'current_subject', 'trial_outcome', 'lfp_index',\n",
       "       'baseline_lfp_timestamp_range', 'trial_lfp_timestamp_range',\n",
       "       'baseline_ephys_timestamp_range', 'trial_ephys_timestamp_range',\n",
       "       'baseline_videoframe_range', 'trial_videoframe_range', 'trial_number',\n",
       "       'Cohort', 'spike_interface_mPFC', 'spike_interface_vHPC',\n",
       "       'spike_interface_BLA', 'spike_interface_LH', 'spike_interface_MD',\n",
       "       'mPFC_baseline_lfp_trace', 'mPFC_trial_lfp_trace',\n",
       "       'vHPC_baseline_lfp_trace', 'vHPC_trial_lfp_trace',\n",
       "       'BLA_baseline_lfp_trace', 'BLA_trial_lfp_trace',\n",
       "       'LH_baseline_lfp_trace', 'LH_trial_lfp_trace', 'MD_baseline_lfp_trace',\n",
       "       'MD_trial_lfp_trace'],\n",
       "      dtype='object')"
      ]
     },
     "execution_count": 19,
     "metadata": {},
     "output_type": "execute_result"
    }
   ],
   "source": [
    "CHANNEL_MAP_AND_ALL_TRIALS_DF.columns"
   ]
  },
  {
   "cell_type": "code",
   "execution_count": 20,
   "metadata": {
    "scrolled": true
   },
   "outputs": [
    {
     "data": {
      "text/plain": [
       "Index(['time', 'recording_dir', 'recording_file', 'time_stamp_index',\n",
       "       'video_file', 'video_frame', 'video_number', 'subject_info',\n",
       "       'competition_closeness', 'video_name', 'all_subjects',\n",
       "       'current_subject', 'trial_outcome', 'lfp_index',\n",
       "       'baseline_lfp_timestamp_range', 'trial_lfp_timestamp_range',\n",
       "       'baseline_ephys_timestamp_range', 'trial_ephys_timestamp_range',\n",
       "       'baseline_videoframe_range', 'trial_videoframe_range', 'trial_number',\n",
       "       'Cohort', 'spike_interface_mPFC', 'spike_interface_vHPC',\n",
       "       'spike_interface_BLA', 'spike_interface_LH', 'spike_interface_MD',\n",
       "       'file_path', 'start_frame', 'stop_frame', 'individual_subj', 'all_subj',\n",
       "       'recording_name', 'track_names', 'subject_id', 'corner_path',\n",
       "       'corner_parts', 'bottom_width', 'top_width', 'right_height',\n",
       "       'left_height', 'average_height', 'average_width', 'width_ratio',\n",
       "       'height_ratio', 'rescaled_locations', 'box_bottom_left', 'reward_port',\n",
       "       'box_top_left', 'box_top_right', 'box_bottom_right',\n",
       "       'baseline_thorax_velocity', 'trial_thorax_velocity',\n",
       "       'trial_chunked_thorax_velocity', 'baseline_chunked_thorax_velocity',\n",
       "       'trial_chunked_ephys_timestamp', 'baseline_chunked_ephys_timestamp',\n",
       "       'trial_chunked_lfp_index', 'baseline_chunked_lfp_index',\n",
       "       'binned_baseline_thorax_velocity', 'binned_trial_thorax_velocity'],\n",
       "      dtype='object')"
      ]
     },
     "execution_count": 20,
     "metadata": {},
     "output_type": "execute_result"
    }
   ],
   "source": [
    "MERGED_TRIALS_AND_VIDEO.columns"
   ]
  },
  {
   "cell_type": "code",
   "execution_count": 21,
   "metadata": {},
   "outputs": [],
   "source": [
    "merge_columns = [\"time\", \"recording_file\", \"current_subject\", \"video_number\"]\n",
    "# Find columns in df2 that are not in merge_columns and also exist in df1, then drop them from df2\n",
    "cols_to_drop = [col for col in CHANNEL_MAP_AND_ALL_TRIALS_DF.columns if col not in merge_columns and col in MERGED_TRIALS_AND_VIDEO.columns]\n",
    "CHANNEL_MAP_AND_ALL_TRIALS_DF = CHANNEL_MAP_AND_ALL_TRIALS_DF.drop(columns=cols_to_drop)"
   ]
  },
  {
   "cell_type": "code",
   "execution_count": 22,
   "metadata": {},
   "outputs": [],
   "source": [
    "MERGED_LFP_AND_SLEAP = pd.merge(left=CHANNEL_MAP_AND_ALL_TRIALS_DF, right=MERGED_TRIALS_AND_VIDEO, on=merge_columns, how=\"right\")"
   ]
  },
  {
   "cell_type": "code",
   "execution_count": 23,
   "metadata": {},
   "outputs": [],
   "source": [
    "# Dropping all unnecessary columns\n",
    "MERGED_LFP_AND_SLEAP = MERGED_LFP_AND_SLEAP.drop(columns=[col for col in MERGED_LFP_AND_SLEAP if \"spike_interface\" in col], errors=\"ignore\")\n",
    "MERGED_LFP_AND_SLEAP = MERGED_LFP_AND_SLEAP.drop(columns=[col for col in MERGED_LFP_AND_SLEAP if \"index\" in col], errors=\"ignore\")\n",
    "MERGED_LFP_AND_SLEAP = MERGED_LFP_AND_SLEAP.drop(columns=[col for col in MERGED_LFP_AND_SLEAP if \"stamp\" in col], errors=\"ignore\")\n",
    "MERGED_LFP_AND_SLEAP = MERGED_LFP_AND_SLEAP.drop(columns=[col for col in MERGED_LFP_AND_SLEAP if \"box\" in col], errors=\"ignore\")\n",
    "MERGED_LFP_AND_SLEAP = MERGED_LFP_AND_SLEAP.drop(columns=[col for col in MERGED_LFP_AND_SLEAP if \"height\" in col], errors=\"ignore\")\n",
    "MERGED_LFP_AND_SLEAP = MERGED_LFP_AND_SLEAP.drop(columns=[col for col in MERGED_LFP_AND_SLEAP if \"width\" in col], errors=\"ignore\")\n",
    "MERGED_LFP_AND_SLEAP = MERGED_LFP_AND_SLEAP.drop(columns=[col for col in MERGED_LFP_AND_SLEAP if \"ratio\" in col], errors=\"ignore\")\n",
    "MERGED_LFP_AND_SLEAP = MERGED_LFP_AND_SLEAP.drop(columns=[col for col in MERGED_LFP_AND_SLEAP if \"width\" in col], errors=\"ignore\")\n",
    "MERGED_LFP_AND_SLEAP = MERGED_LFP_AND_SLEAP.drop(columns=['individual_subj',\n",
    " 'all_subj',\n",
    " 'recording_name',\n",
    " 'track_names',\n",
    " 'subject_id',\n",
    " 'corner_path',\n",
    " 'corner_parts',\n",
    " 'rescaled_locations',\n",
    " 'reward_port'], errors=\"ignore\")"
   ]
  },
  {
   "cell_type": "code",
   "execution_count": 24,
   "metadata": {},
   "outputs": [
    {
     "data": {
      "text/html": [
       "<div>\n",
       "<style scoped>\n",
       "    .dataframe tbody tr th:only-of-type {\n",
       "        vertical-align: middle;\n",
       "    }\n",
       "\n",
       "    .dataframe tbody tr th {\n",
       "        vertical-align: top;\n",
       "    }\n",
       "\n",
       "    .dataframe thead th {\n",
       "        text-align: right;\n",
       "    }\n",
       "</style>\n",
       "<table border=\"1\" class=\"dataframe\">\n",
       "  <thead>\n",
       "    <tr style=\"text-align: right;\">\n",
       "      <th></th>\n",
       "      <th>time</th>\n",
       "      <th>recording_file</th>\n",
       "      <th>video_number</th>\n",
       "      <th>current_subject</th>\n",
       "      <th>mPFC_baseline_lfp_trace</th>\n",
       "      <th>mPFC_trial_lfp_trace</th>\n",
       "      <th>vHPC_baseline_lfp_trace</th>\n",
       "      <th>vHPC_trial_lfp_trace</th>\n",
       "      <th>BLA_baseline_lfp_trace</th>\n",
       "      <th>BLA_trial_lfp_trace</th>\n",
       "      <th>...</th>\n",
       "      <th>Cohort</th>\n",
       "      <th>file_path</th>\n",
       "      <th>start_frame</th>\n",
       "      <th>stop_frame</th>\n",
       "      <th>baseline_thorax_velocity</th>\n",
       "      <th>trial_thorax_velocity</th>\n",
       "      <th>trial_chunked_thorax_velocity</th>\n",
       "      <th>baseline_chunked_thorax_velocity</th>\n",
       "      <th>binned_baseline_thorax_velocity</th>\n",
       "      <th>binned_trial_thorax_velocity</th>\n",
       "    </tr>\n",
       "  </thead>\n",
       "  <tbody>\n",
       "    <tr>\n",
       "      <th>0</th>\n",
       "      <td>30950500</td>\n",
       "      <td>20221214_125409_om_and_comp_6_1_top_1_base_2_v...</td>\n",
       "      <td>1.0</td>\n",
       "      <td>6.1</td>\n",
       "      <td>[-0.33054966, -0.41988742, -0.9134785, -1.4964...</td>\n",
       "      <td>[0.51145864, 0.29928145, 0.22111093, 0.1116721...</td>\n",
       "      <td>[0.27216667, -0.26033333, -0.8307, -1.0484333,...</td>\n",
       "      <td>[-1.1513833, -1.1845167, -1.14665, -1.1431, -1...</td>\n",
       "      <td>[-0.6486342, -0.79189086, -1.2833407, -1.73499...</td>\n",
       "      <td>[-0.44369763, -0.31436872, 0.01790708, 0.39395...</td>\n",
       "      <td>...</td>\n",
       "      <td>1</td>\n",
       "      <td>/scratch/back_up/reward_competition_extention/...</td>\n",
       "      <td>27500</td>\n",
       "      <td>73601</td>\n",
       "      <td>[1.2476140081638165, 1.1366289071218907, 1.068...</td>\n",
       "      <td>[0.18170472850681613, 0.16961378983662276, 0.2...</td>\n",
       "      <td>[0.49872187702582166, 0.5847505450273386, 1.07...</td>\n",
       "      <td>[1.6838472335457935, 1.7550373254126983, 1.372...</td>\n",
       "      <td>[0, 0, 0, 0, 0, 0, 0, 2, 2, 2, 2, 1, 2, 1, 1, ...</td>\n",
       "      <td>[0, 0, 0, 0, 0, 0, 0, 0, 1, 1, 1, 1, 1, 0, 0, ...</td>\n",
       "    </tr>\n",
       "    <tr>\n",
       "      <th>1</th>\n",
       "      <td>32550496</td>\n",
       "      <td>20221214_125409_om_and_comp_6_1_top_1_base_2_v...</td>\n",
       "      <td>1.0</td>\n",
       "      <td>6.1</td>\n",
       "      <td>[1.1479901, 1.0943874, 1.0251507, 0.8330745, 0...</td>\n",
       "      <td>[0.32384935, 0.1630414, 0.0044668876, 0.062536...</td>\n",
       "      <td>[1.9016167, 2.1146166, 2.2791, 2.3856, 2.43056...</td>\n",
       "      <td>[-1.0224, -0.9159, -0.9963667, -0.9774333, -0....</td>\n",
       "      <td>[0.85755014, 0.8535708, 0.83964306, 0.93116814...</td>\n",
       "      <td>[1.1042699, 0.9152507, 0.29447198, -0.3024307,...</td>\n",
       "      <td>...</td>\n",
       "      <td>1</td>\n",
       "      <td>/scratch/back_up/reward_competition_extention/...</td>\n",
       "      <td>27500</td>\n",
       "      <td>73601</td>\n",
       "      <td>[2.7236727895073223, 2.628037603947678, 2.5298...</td>\n",
       "      <td>[0.38577700470932025, 0.16352840888997497, 0.0...</td>\n",
       "      <td>[0.3129891797005337, 0.2588847730730972, 0.210...</td>\n",
       "      <td>[1.458421075097482, 0.5407183310858753, 0.2360...</td>\n",
       "      <td>[0, 0, 0, 0, 0, 0, 0, 0, 1, 2, 2, 2, 2, 2, 2, ...</td>\n",
       "      <td>[0, 0, 0, 0, 0, 0, 0, 0, 0, 0, 0, 0, 0, 0, 0, ...</td>\n",
       "    </tr>\n",
       "    <tr>\n",
       "      <th>2</th>\n",
       "      <td>34350494</td>\n",
       "      <td>20221214_125409_om_and_comp_6_1_top_1_base_2_v...</td>\n",
       "      <td>1.0</td>\n",
       "      <td>6.1</td>\n",
       "      <td>[-0.23897848, 0.36181787, 0.122839406, -0.1474...</td>\n",
       "      <td>[-0.14964072, 0.4355215, 0.6074967, 0.317149, ...</td>\n",
       "      <td>[-1.0034667, -0.7076333, -0.69816667, -0.67923...</td>\n",
       "      <td>[0.48753333, 0.355, 0.19643334, 0.18696667, 0....</td>\n",
       "      <td>[-1.1341151, -0.62276846, -0.70235544, -0.6844...</td>\n",
       "      <td>[-0.51532596, 0.051731564, 0.16713275, 0.09152...</td>\n",
       "      <td>...</td>\n",
       "      <td>1</td>\n",
       "      <td>/scratch/back_up/reward_competition_extention/...</td>\n",
       "      <td>27500</td>\n",
       "      <td>73601</td>\n",
       "      <td>[5.210405290871598, 5.31421978904958, 5.379251...</td>\n",
       "      <td>[0.16560567036540477, 0.1278165569746918, 0.09...</td>\n",
       "      <td>[0.19868857983610794, 0.508612732615851, 0.481...</td>\n",
       "      <td>[3.439626522203859, 1.5683251160952123, 1.1535...</td>\n",
       "      <td>[1, 0, 0, 0, 0, 0, 0, 0, 0, 0, 0, 0, 0, 0, 0, ...</td>\n",
       "      <td>[0, 0, 0, 0, 0, 0, 0, 0, 0, 0, 0, 0, 0, 0, 0, ...</td>\n",
       "    </tr>\n",
       "    <tr>\n",
       "      <th>3</th>\n",
       "      <td>35950496</td>\n",
       "      <td>20221214_125409_om_and_comp_6_1_top_1_base_2_v...</td>\n",
       "      <td>1.0</td>\n",
       "      <td>6.1</td>\n",
       "      <td>[0.49582452, 0.18537582, 0.4042533, 0.24344537...</td>\n",
       "      <td>[-0.33948344, 0.01786755, 0.13624007, -0.12060...</td>\n",
       "      <td>[0.6023167, 0.48398334, 0.22601667, 0.04496666...</td>\n",
       "      <td>[0.1704, 0.059166666, -0.13845, -0.35026667, -...</td>\n",
       "      <td>[0.029845133, -0.6247581, -0.74413866, -0.3820...</td>\n",
       "      <td>[-1.1639602, -1.1440635, -1.1201873, -1.038610...</td>\n",
       "      <td>...</td>\n",
       "      <td>1</td>\n",
       "      <td>/scratch/back_up/reward_competition_extention/...</td>\n",
       "      <td>27500</td>\n",
       "      <td>73601</td>\n",
       "      <td>[1.6555785442563817, 1.6866235492876445, 1.664...</td>\n",
       "      <td>[0.6307901161394641, 0.6655381193431421, 0.701...</td>\n",
       "      <td>[0.4673908122355257, 0.39056964369789443, 0.38...</td>\n",
       "      <td>[0.900289992310536, 0.3533926495729531, 0.2807...</td>\n",
       "      <td>[0, 0, 0, 0, 0, 0, 0, 0, 0, 0, 0, 0, 0, 0, 0, ...</td>\n",
       "      <td>[0, 0, 0, 0, 0, 0, 0, 0, 0, 0, 0, 0, 0, 0, 0, ...</td>\n",
       "    </tr>\n",
       "    <tr>\n",
       "      <th>4</th>\n",
       "      <td>37450494</td>\n",
       "      <td>20221214_125409_om_and_comp_6_1_top_1_base_2_v...</td>\n",
       "      <td>1.0</td>\n",
       "      <td>6.1</td>\n",
       "      <td>[-3.7477186, -3.0575845, -2.521558, -2.6644983...</td>\n",
       "      <td>[-3.055351, -3.1044867, -2.4121192, -2.083803,...</td>\n",
       "      <td>[-1.4259167, -1.3856833, -1.1265334, -0.91235,...</td>\n",
       "      <td>[-4.0848665, -4.2718334, -3.9487834, -3.480183...</td>\n",
       "      <td>[-3.0521622, -3.0342553, -2.877071, -2.9904823...</td>\n",
       "      <td>[-1.5221018, -1.5599056, -1.2534956, -1.233598...</td>\n",
       "      <td>...</td>\n",
       "      <td>1</td>\n",
       "      <td>/scratch/back_up/reward_competition_extention/...</td>\n",
       "      <td>27500</td>\n",
       "      <td>73601</td>\n",
       "      <td>[0.9562352171082348, 0.8615465705681848, 0.756...</td>\n",
       "      <td>[0.15955796441347841, 0.18843088608181321, 0.2...</td>\n",
       "      <td>[0.23449342689004346, 0.17815867178863123, 0.2...</td>\n",
       "      <td>[0.3903027043299651, 0.397100110767035, 0.8705...</td>\n",
       "      <td>[0, 0, 0, 0, 0, 0, 0, 0, 0, 0, 0, 0, 0, 0, 0, ...</td>\n",
       "      <td>[0, 0, 0, 0, 0, 0, 0, 0, 0, 0, 0, 0, 0, 0, 0, ...</td>\n",
       "    </tr>\n",
       "  </tbody>\n",
       "</table>\n",
       "<p>5 rows × 35 columns</p>\n",
       "</div>"
      ],
      "text/plain": [
       "       time                                     recording_file  video_number  \\\n",
       "0  30950500  20221214_125409_om_and_comp_6_1_top_1_base_2_v...           1.0   \n",
       "1  32550496  20221214_125409_om_and_comp_6_1_top_1_base_2_v...           1.0   \n",
       "2  34350494  20221214_125409_om_and_comp_6_1_top_1_base_2_v...           1.0   \n",
       "3  35950496  20221214_125409_om_and_comp_6_1_top_1_base_2_v...           1.0   \n",
       "4  37450494  20221214_125409_om_and_comp_6_1_top_1_base_2_v...           1.0   \n",
       "\n",
       "  current_subject                            mPFC_baseline_lfp_trace  \\\n",
       "0             6.1  [-0.33054966, -0.41988742, -0.9134785, -1.4964...   \n",
       "1             6.1  [1.1479901, 1.0943874, 1.0251507, 0.8330745, 0...   \n",
       "2             6.1  [-0.23897848, 0.36181787, 0.122839406, -0.1474...   \n",
       "3             6.1  [0.49582452, 0.18537582, 0.4042533, 0.24344537...   \n",
       "4             6.1  [-3.7477186, -3.0575845, -2.521558, -2.6644983...   \n",
       "\n",
       "                                mPFC_trial_lfp_trace  \\\n",
       "0  [0.51145864, 0.29928145, 0.22111093, 0.1116721...   \n",
       "1  [0.32384935, 0.1630414, 0.0044668876, 0.062536...   \n",
       "2  [-0.14964072, 0.4355215, 0.6074967, 0.317149, ...   \n",
       "3  [-0.33948344, 0.01786755, 0.13624007, -0.12060...   \n",
       "4  [-3.055351, -3.1044867, -2.4121192, -2.083803,...   \n",
       "\n",
       "                             vHPC_baseline_lfp_trace  \\\n",
       "0  [0.27216667, -0.26033333, -0.8307, -1.0484333,...   \n",
       "1  [1.9016167, 2.1146166, 2.2791, 2.3856, 2.43056...   \n",
       "2  [-1.0034667, -0.7076333, -0.69816667, -0.67923...   \n",
       "3  [0.6023167, 0.48398334, 0.22601667, 0.04496666...   \n",
       "4  [-1.4259167, -1.3856833, -1.1265334, -0.91235,...   \n",
       "\n",
       "                                vHPC_trial_lfp_trace  \\\n",
       "0  [-1.1513833, -1.1845167, -1.14665, -1.1431, -1...   \n",
       "1  [-1.0224, -0.9159, -0.9963667, -0.9774333, -0....   \n",
       "2  [0.48753333, 0.355, 0.19643334, 0.18696667, 0....   \n",
       "3  [0.1704, 0.059166666, -0.13845, -0.35026667, -...   \n",
       "4  [-4.0848665, -4.2718334, -3.9487834, -3.480183...   \n",
       "\n",
       "                              BLA_baseline_lfp_trace  \\\n",
       "0  [-0.6486342, -0.79189086, -1.2833407, -1.73499...   \n",
       "1  [0.85755014, 0.8535708, 0.83964306, 0.93116814...   \n",
       "2  [-1.1341151, -0.62276846, -0.70235544, -0.6844...   \n",
       "3  [0.029845133, -0.6247581, -0.74413866, -0.3820...   \n",
       "4  [-3.0521622, -3.0342553, -2.877071, -2.9904823...   \n",
       "\n",
       "                                 BLA_trial_lfp_trace  ... Cohort  \\\n",
       "0  [-0.44369763, -0.31436872, 0.01790708, 0.39395...  ...      1   \n",
       "1  [1.1042699, 0.9152507, 0.29447198, -0.3024307,...  ...      1   \n",
       "2  [-0.51532596, 0.051731564, 0.16713275, 0.09152...  ...      1   \n",
       "3  [-1.1639602, -1.1440635, -1.1201873, -1.038610...  ...      1   \n",
       "4  [-1.5221018, -1.5599056, -1.2534956, -1.233598...  ...      1   \n",
       "\n",
       "                                           file_path start_frame stop_frame  \\\n",
       "0  /scratch/back_up/reward_competition_extention/...       27500      73601   \n",
       "1  /scratch/back_up/reward_competition_extention/...       27500      73601   \n",
       "2  /scratch/back_up/reward_competition_extention/...       27500      73601   \n",
       "3  /scratch/back_up/reward_competition_extention/...       27500      73601   \n",
       "4  /scratch/back_up/reward_competition_extention/...       27500      73601   \n",
       "\n",
       "                            baseline_thorax_velocity  \\\n",
       "0  [1.2476140081638165, 1.1366289071218907, 1.068...   \n",
       "1  [2.7236727895073223, 2.628037603947678, 2.5298...   \n",
       "2  [5.210405290871598, 5.31421978904958, 5.379251...   \n",
       "3  [1.6555785442563817, 1.6866235492876445, 1.664...   \n",
       "4  [0.9562352171082348, 0.8615465705681848, 0.756...   \n",
       "\n",
       "                               trial_thorax_velocity  \\\n",
       "0  [0.18170472850681613, 0.16961378983662276, 0.2...   \n",
       "1  [0.38577700470932025, 0.16352840888997497, 0.0...   \n",
       "2  [0.16560567036540477, 0.1278165569746918, 0.09...   \n",
       "3  [0.6307901161394641, 0.6655381193431421, 0.701...   \n",
       "4  [0.15955796441347841, 0.18843088608181321, 0.2...   \n",
       "\n",
       "                       trial_chunked_thorax_velocity  \\\n",
       "0  [0.49872187702582166, 0.5847505450273386, 1.07...   \n",
       "1  [0.3129891797005337, 0.2588847730730972, 0.210...   \n",
       "2  [0.19868857983610794, 0.508612732615851, 0.481...   \n",
       "3  [0.4673908122355257, 0.39056964369789443, 0.38...   \n",
       "4  [0.23449342689004346, 0.17815867178863123, 0.2...   \n",
       "\n",
       "                    baseline_chunked_thorax_velocity  \\\n",
       "0  [1.6838472335457935, 1.7550373254126983, 1.372...   \n",
       "1  [1.458421075097482, 0.5407183310858753, 0.2360...   \n",
       "2  [3.439626522203859, 1.5683251160952123, 1.1535...   \n",
       "3  [0.900289992310536, 0.3533926495729531, 0.2807...   \n",
       "4  [0.3903027043299651, 0.397100110767035, 0.8705...   \n",
       "\n",
       "                     binned_baseline_thorax_velocity  \\\n",
       "0  [0, 0, 0, 0, 0, 0, 0, 2, 2, 2, 2, 1, 2, 1, 1, ...   \n",
       "1  [0, 0, 0, 0, 0, 0, 0, 0, 1, 2, 2, 2, 2, 2, 2, ...   \n",
       "2  [1, 0, 0, 0, 0, 0, 0, 0, 0, 0, 0, 0, 0, 0, 0, ...   \n",
       "3  [0, 0, 0, 0, 0, 0, 0, 0, 0, 0, 0, 0, 0, 0, 0, ...   \n",
       "4  [0, 0, 0, 0, 0, 0, 0, 0, 0, 0, 0, 0, 0, 0, 0, ...   \n",
       "\n",
       "                        binned_trial_thorax_velocity  \n",
       "0  [0, 0, 0, 0, 0, 0, 0, 0, 1, 1, 1, 1, 1, 0, 0, ...  \n",
       "1  [0, 0, 0, 0, 0, 0, 0, 0, 0, 0, 0, 0, 0, 0, 0, ...  \n",
       "2  [0, 0, 0, 0, 0, 0, 0, 0, 0, 0, 0, 0, 0, 0, 0, ...  \n",
       "3  [0, 0, 0, 0, 0, 0, 0, 0, 0, 0, 0, 0, 0, 0, 0, ...  \n",
       "4  [0, 0, 0, 0, 0, 0, 0, 0, 0, 0, 0, 0, 0, 0, 0, ...  \n",
       "\n",
       "[5 rows x 35 columns]"
      ]
     },
     "execution_count": 24,
     "metadata": {},
     "output_type": "execute_result"
    }
   ],
   "source": [
    "MERGED_LFP_AND_SLEAP.head()"
   ]
  },
  {
   "cell_type": "markdown",
   "metadata": {},
   "source": [
    "- Calcuating the power at each frequency band"
   ]
  },
  {
   "cell_type": "code",
   "execution_count": 25,
   "metadata": {},
   "outputs": [],
   "source": [
    "trace_columns = [col for col in MERGED_LFP_AND_SLEAP.columns if \"trace\" in col]"
   ]
  },
  {
   "cell_type": "code",
   "execution_count": 26,
   "metadata": {},
   "outputs": [
    {
     "data": {
      "text/plain": [
       "'TIME_WINDOW_STEP'"
      ]
     },
     "execution_count": 26,
     "metadata": {},
     "output_type": "execute_result"
    }
   ],
   "source": [
    "\"time_window_step\".upper()"
   ]
  },
  {
   "cell_type": "code",
   "execution_count": 27,
   "metadata": {},
   "outputs": [],
   "source": [
    "for col in trace_columns:\n",
    "    region_and_baseline_or_trial = \"_\".join(col.split(\"_\")[:2])\n",
    "    MERGED_LFP_AND_SLEAP[\"{}_multitaper\".format(region_and_baseline_or_trial)] = MERGED_LFP_AND_SLEAP[\"{}_lfp_trace\".format(region_and_baseline_or_trial)].apply(lambda x: Multitaper(time_series=x, sampling_frequency=RESAMPLE_RATE, time_halfbandwidth_product=TIME_HALFBANDWIDTH_PRODUCT,                                                                              time_window_duration=TIME_WINDOW_DURATION, time_window_step=TIME_WINDOW_STEP                                                                                                                                         ))"
   ]
  },
  {
   "cell_type": "code",
   "execution_count": 28,
   "metadata": {},
   "outputs": [
    {
     "name": "stdout",
     "output_type": "stream",
     "text": [
      "mPFC_baseline_lfp_trace\n",
      "mPFC_trial_lfp_trace\n",
      "vHPC_baseline_lfp_trace\n",
      "vHPC_trial_lfp_trace\n",
      "BLA_baseline_lfp_trace\n",
      "BLA_trial_lfp_trace\n",
      "LH_baseline_lfp_trace\n",
      "LH_trial_lfp_trace\n",
      "MD_baseline_lfp_trace\n",
      "MD_trial_lfp_trace\n"
     ]
    }
   ],
   "source": [
    "for col in trace_columns:\n",
    "    print(col)\n",
    "    region_and_baseline_or_trial = \"_\".join(col.split(\"_\")[:2])\n",
    "    MERGED_LFP_AND_SLEAP[\"{}_connectivity\".format(region_and_baseline_or_trial)] = MERGED_LFP_AND_SLEAP[\"{}_multitaper\".format(region_and_baseline_or_trial)].apply(lambda x: Connectivity.from_multitaper(x))"
   ]
  },
  {
   "cell_type": "code",
   "execution_count": 29,
   "metadata": {},
   "outputs": [],
   "source": [
    "for col in trace_columns:\n",
    "    region_and_baseline_or_trial = \"_\".join(col.split(\"_\")[:2])\n",
    "    MERGED_LFP_AND_SLEAP[\"{}_frequencies\".format(region_and_baseline_or_trial)] = MERGED_LFP_AND_SLEAP[\"{}_connectivity\".format(region_and_baseline_or_trial)].apply(lambda x: x.frequencies)"
   ]
  },
  {
   "cell_type": "code",
   "execution_count": 30,
   "metadata": {},
   "outputs": [],
   "source": [
    "for col in trace_columns:\n",
    "    region_and_baseline_or_trial = \"_\".join(col.split(\"_\")[:2])\n",
    "    MERGED_LFP_AND_SLEAP[\"{}_all_window_power\".format(region_and_baseline_or_trial)] = MERGED_LFP_AND_SLEAP[\"{}_connectivity\".format(region_and_baseline_or_trial)].apply(lambda x: x.power().squeeze())"
   ]
  },
  {
   "cell_type": "code",
   "execution_count": 36,
   "metadata": {},
   "outputs": [],
   "source": [
    "MERGED_LFP_AND_SLEAP = MERGED_LFP_AND_SLEAP.drop(columns=[col for col in MERGED_LFP_AND_SLEAP if \"multitaper\" in col], errors=\"ignore\")\n",
    "MERGED_LFP_AND_SLEAP = MERGED_LFP_AND_SLEAP.drop(columns=[col for col in MERGED_LFP_AND_SLEAP if \"connectivity\" in col], errors=\"ignore\")"
   ]
  },
  {
   "cell_type": "code",
   "execution_count": 37,
   "metadata": {
    "scrolled": true
   },
   "outputs": [
    {
     "data": {
      "text/html": [
       "<div>\n",
       "<style scoped>\n",
       "    .dataframe tbody tr th:only-of-type {\n",
       "        vertical-align: middle;\n",
       "    }\n",
       "\n",
       "    .dataframe tbody tr th {\n",
       "        vertical-align: top;\n",
       "    }\n",
       "\n",
       "    .dataframe thead th {\n",
       "        text-align: right;\n",
       "    }\n",
       "</style>\n",
       "<table border=\"1\" class=\"dataframe\">\n",
       "  <thead>\n",
       "    <tr style=\"text-align: right;\">\n",
       "      <th></th>\n",
       "      <th>time</th>\n",
       "      <th>recording_file</th>\n",
       "      <th>video_number</th>\n",
       "      <th>current_subject</th>\n",
       "      <th>recording_dir</th>\n",
       "      <th>video_file</th>\n",
       "      <th>video_frame</th>\n",
       "      <th>subject_info</th>\n",
       "      <th>competition_closeness</th>\n",
       "      <th>video_name</th>\n",
       "      <th>...</th>\n",
       "      <th>mPFC_baseline_all_window_power</th>\n",
       "      <th>mPFC_trial_all_window_power</th>\n",
       "      <th>vHPC_baseline_all_window_power</th>\n",
       "      <th>vHPC_trial_all_window_power</th>\n",
       "      <th>BLA_baseline_all_window_power</th>\n",
       "      <th>BLA_trial_all_window_power</th>\n",
       "      <th>LH_baseline_all_window_power</th>\n",
       "      <th>LH_trial_all_window_power</th>\n",
       "      <th>MD_baseline_all_window_power</th>\n",
       "      <th>MD_trial_all_window_power</th>\n",
       "    </tr>\n",
       "  </thead>\n",
       "  <tbody>\n",
       "    <tr>\n",
       "      <th>0</th>\n",
       "      <td>30950500</td>\n",
       "      <td>20221214_125409_om_and_comp_6_1_top_1_base_2_v...</td>\n",
       "      <td>1.0</td>\n",
       "      <td>6.1</td>\n",
       "      <td>20221214_125409_om_and_comp_6_1_and_6_3</td>\n",
       "      <td>20221214_125409_om_and_comp_6_1_and_6_3.1.vide...</td>\n",
       "      <td>28574</td>\n",
       "      <td>6_1_top_1_base_2_vs_6_3</td>\n",
       "      <td>win_non_comp</td>\n",
       "      <td>20221214_125409_om_and_comp_6_1_and_6_3.1</td>\n",
       "      <td>...</td>\n",
       "      <td>[[0.009823293555262794, 0.013924021048577154, ...</td>\n",
       "      <td>[[0.003615743090164337, 0.020784870210994073, ...</td>\n",
       "      <td>[[0.004182283533414606, 0.004589243208990474, ...</td>\n",
       "      <td>[[0.011697103017073326, 0.03404168621796775, 0...</td>\n",
       "      <td>[[0.005353983454892757, 0.01006784871417599, 0...</td>\n",
       "      <td>[[0.0019678294433681668, 0.003568165862318084,...</td>\n",
       "      <td>[[0.014156556290954811, 0.015811485476915764, ...</td>\n",
       "      <td>[[0.01740978843109557, 0.015614214245673032, 0...</td>\n",
       "      <td>[[0.032420332093765145, 0.02588818663960985, 0...</td>\n",
       "      <td>[[0.001126425519817756, 0.0051790350768731565,...</td>\n",
       "    </tr>\n",
       "    <tr>\n",
       "      <th>1</th>\n",
       "      <td>32550496</td>\n",
       "      <td>20221214_125409_om_and_comp_6_1_top_1_base_2_v...</td>\n",
       "      <td>1.0</td>\n",
       "      <td>6.1</td>\n",
       "      <td>20221214_125409_om_and_comp_6_1_and_6_3</td>\n",
       "      <td>20221214_125409_om_and_comp_6_1_and_6_3.1.vide...</td>\n",
       "      <td>30569</td>\n",
       "      <td>6_1_top_1_base_2_vs_6_3</td>\n",
       "      <td>win_non_comp</td>\n",
       "      <td>20221214_125409_om_and_comp_6_1_and_6_3.1</td>\n",
       "      <td>...</td>\n",
       "      <td>[[0.024759951820400854, 0.021303476025368605, ...</td>\n",
       "      <td>[[0.005252625251440256, 0.009544076854592055, ...</td>\n",
       "      <td>[[0.002096892191184231, 0.013303788944311482, ...</td>\n",
       "      <td>[[0.02194185695245405, 0.019980301951269416, 0...</td>\n",
       "      <td>[[0.008392790045477449, 0.009164992589423358, ...</td>\n",
       "      <td>[[0.011354971394795787, 0.02494881560604016, 0...</td>\n",
       "      <td>[[0.009203195865696318, 0.012369094785452853, ...</td>\n",
       "      <td>[[0.004755250402581861, 0.015413926822757013, ...</td>\n",
       "      <td>[[0.029927421519669848, 0.021055238070196908, ...</td>\n",
       "      <td>[[0.005268082999020396, 0.01164688053394768, 0...</td>\n",
       "    </tr>\n",
       "    <tr>\n",
       "      <th>2</th>\n",
       "      <td>34350494</td>\n",
       "      <td>20221214_125409_om_and_comp_6_1_top_1_base_2_v...</td>\n",
       "      <td>1.0</td>\n",
       "      <td>6.1</td>\n",
       "      <td>20221214_125409_om_and_comp_6_1_and_6_3</td>\n",
       "      <td>20221214_125409_om_and_comp_6_1_and_6_3.1.vide...</td>\n",
       "      <td>32813</td>\n",
       "      <td>6_1_top_1_base_2_vs_6_3</td>\n",
       "      <td>win_non_comp</td>\n",
       "      <td>20221214_125409_om_and_comp_6_1_and_6_3.1</td>\n",
       "      <td>...</td>\n",
       "      <td>[[0.011362483623005544, 0.00842350511603944, 0...</td>\n",
       "      <td>[[0.008142487608192315, 0.005764882508257109, ...</td>\n",
       "      <td>[[0.0016166978337783084, 0.005705520165816951,...</td>\n",
       "      <td>[[0.04982180678916146, 0.032510780389063056, 0...</td>\n",
       "      <td>[[0.005384772975860021, 0.003902799415786651, ...</td>\n",
       "      <td>[[0.04033438993135537, 0.030887886395683174, 0...</td>\n",
       "      <td>[[0.02097411820985093, 0.012691784633844525, 0...</td>\n",
       "      <td>[[0.05102492929045597, 0.03262755069515353, 0....</td>\n",
       "      <td>[[0.019964179520096176, 0.0115436746873894, 0....</td>\n",
       "      <td>[[0.03412912947336931, 0.023354876559489354, 0...</td>\n",
       "    </tr>\n",
       "    <tr>\n",
       "      <th>3</th>\n",
       "      <td>35950496</td>\n",
       "      <td>20221214_125409_om_and_comp_6_1_top_1_base_2_v...</td>\n",
       "      <td>1.0</td>\n",
       "      <td>6.1</td>\n",
       "      <td>20221214_125409_om_and_comp_6_1_and_6_3</td>\n",
       "      <td>20221214_125409_om_and_comp_6_1_and_6_3.1.vide...</td>\n",
       "      <td>34807</td>\n",
       "      <td>6_1_top_1_base_2_vs_6_3</td>\n",
       "      <td>win_non_comp</td>\n",
       "      <td>20221214_125409_om_and_comp_6_1_and_6_3.1</td>\n",
       "      <td>...</td>\n",
       "      <td>[[0.006542340959047896, 0.004409322903575986, ...</td>\n",
       "      <td>[[0.0017563036283226264, 0.0012924743905227834...</td>\n",
       "      <td>[[0.023311719774968133, 0.016007367431799868, ...</td>\n",
       "      <td>[[0.003256334458860641, 0.0053025934708259715,...</td>\n",
       "      <td>[[0.011390110949094753, 0.012101279184300179, ...</td>\n",
       "      <td>[[0.008089393889266917, 0.010055278188354798, ...</td>\n",
       "      <td>[[0.005229034265379665, 0.004547139730694433, ...</td>\n",
       "      <td>[[0.003590199461878245, 0.0042194869616777545,...</td>\n",
       "      <td>[[0.004614637358822512, 0.0035685743105444328,...</td>\n",
       "      <td>[[0.018497807206904096, 0.017962370859559845, ...</td>\n",
       "    </tr>\n",
       "    <tr>\n",
       "      <th>4</th>\n",
       "      <td>37450494</td>\n",
       "      <td>20221214_125409_om_and_comp_6_1_top_1_base_2_v...</td>\n",
       "      <td>1.0</td>\n",
       "      <td>6.1</td>\n",
       "      <td>20221214_125409_om_and_comp_6_1_and_6_3</td>\n",
       "      <td>20221214_125409_om_and_comp_6_1_and_6_3.1.vide...</td>\n",
       "      <td>36677</td>\n",
       "      <td>6_1_top_1_base_2_vs_6_3</td>\n",
       "      <td>win_non_comp</td>\n",
       "      <td>20221214_125409_om_and_comp_6_1_and_6_3.1</td>\n",
       "      <td>...</td>\n",
       "      <td>[[0.06674678555349334, 0.03535718548214071, 0....</td>\n",
       "      <td>[[0.04931515469178667, 0.037119388455369697, 0...</td>\n",
       "      <td>[[0.012423031937606592, 0.008024841751093756, ...</td>\n",
       "      <td>[[0.01926700926664564, 0.04547071663928643, 0....</td>\n",
       "      <td>[[0.08271038205408282, 0.062355697447186303, 0...</td>\n",
       "      <td>[[0.06052759277819007, 0.040698963447216296, 0...</td>\n",
       "      <td>[[0.08001361736884569, 0.04425059591323749, 0....</td>\n",
       "      <td>[[0.10245154477571672, 0.07803046140220249, 0....</td>\n",
       "      <td>[[0.1259578974987326, 0.08093931023047285, 0.0...</td>\n",
       "      <td>[[0.09171093829357264, 0.05859617760361703, 0....</td>\n",
       "    </tr>\n",
       "  </tbody>\n",
       "</table>\n",
       "<p>5 rows × 45 columns</p>\n",
       "</div>"
      ],
      "text/plain": [
       "       time                                     recording_file  video_number  \\\n",
       "0  30950500  20221214_125409_om_and_comp_6_1_top_1_base_2_v...           1.0   \n",
       "1  32550496  20221214_125409_om_and_comp_6_1_top_1_base_2_v...           1.0   \n",
       "2  34350494  20221214_125409_om_and_comp_6_1_top_1_base_2_v...           1.0   \n",
       "3  35950496  20221214_125409_om_and_comp_6_1_top_1_base_2_v...           1.0   \n",
       "4  37450494  20221214_125409_om_and_comp_6_1_top_1_base_2_v...           1.0   \n",
       "\n",
       "  current_subject                            recording_dir  \\\n",
       "0             6.1  20221214_125409_om_and_comp_6_1_and_6_3   \n",
       "1             6.1  20221214_125409_om_and_comp_6_1_and_6_3   \n",
       "2             6.1  20221214_125409_om_and_comp_6_1_and_6_3   \n",
       "3             6.1  20221214_125409_om_and_comp_6_1_and_6_3   \n",
       "4             6.1  20221214_125409_om_and_comp_6_1_and_6_3   \n",
       "\n",
       "                                          video_file  video_frame  \\\n",
       "0  20221214_125409_om_and_comp_6_1_and_6_3.1.vide...        28574   \n",
       "1  20221214_125409_om_and_comp_6_1_and_6_3.1.vide...        30569   \n",
       "2  20221214_125409_om_and_comp_6_1_and_6_3.1.vide...        32813   \n",
       "3  20221214_125409_om_and_comp_6_1_and_6_3.1.vide...        34807   \n",
       "4  20221214_125409_om_and_comp_6_1_and_6_3.1.vide...        36677   \n",
       "\n",
       "              subject_info competition_closeness  \\\n",
       "0  6_1_top_1_base_2_vs_6_3          win_non_comp   \n",
       "1  6_1_top_1_base_2_vs_6_3          win_non_comp   \n",
       "2  6_1_top_1_base_2_vs_6_3          win_non_comp   \n",
       "3  6_1_top_1_base_2_vs_6_3          win_non_comp   \n",
       "4  6_1_top_1_base_2_vs_6_3          win_non_comp   \n",
       "\n",
       "                                  video_name  ...  \\\n",
       "0  20221214_125409_om_and_comp_6_1_and_6_3.1  ...   \n",
       "1  20221214_125409_om_and_comp_6_1_and_6_3.1  ...   \n",
       "2  20221214_125409_om_and_comp_6_1_and_6_3.1  ...   \n",
       "3  20221214_125409_om_and_comp_6_1_and_6_3.1  ...   \n",
       "4  20221214_125409_om_and_comp_6_1_and_6_3.1  ...   \n",
       "\n",
       "                      mPFC_baseline_all_window_power  \\\n",
       "0  [[0.009823293555262794, 0.013924021048577154, ...   \n",
       "1  [[0.024759951820400854, 0.021303476025368605, ...   \n",
       "2  [[0.011362483623005544, 0.00842350511603944, 0...   \n",
       "3  [[0.006542340959047896, 0.004409322903575986, ...   \n",
       "4  [[0.06674678555349334, 0.03535718548214071, 0....   \n",
       "\n",
       "                         mPFC_trial_all_window_power  \\\n",
       "0  [[0.003615743090164337, 0.020784870210994073, ...   \n",
       "1  [[0.005252625251440256, 0.009544076854592055, ...   \n",
       "2  [[0.008142487608192315, 0.005764882508257109, ...   \n",
       "3  [[0.0017563036283226264, 0.0012924743905227834...   \n",
       "4  [[0.04931515469178667, 0.037119388455369697, 0...   \n",
       "\n",
       "                      vHPC_baseline_all_window_power  \\\n",
       "0  [[0.004182283533414606, 0.004589243208990474, ...   \n",
       "1  [[0.002096892191184231, 0.013303788944311482, ...   \n",
       "2  [[0.0016166978337783084, 0.005705520165816951,...   \n",
       "3  [[0.023311719774968133, 0.016007367431799868, ...   \n",
       "4  [[0.012423031937606592, 0.008024841751093756, ...   \n",
       "\n",
       "                         vHPC_trial_all_window_power  \\\n",
       "0  [[0.011697103017073326, 0.03404168621796775, 0...   \n",
       "1  [[0.02194185695245405, 0.019980301951269416, 0...   \n",
       "2  [[0.04982180678916146, 0.032510780389063056, 0...   \n",
       "3  [[0.003256334458860641, 0.0053025934708259715,...   \n",
       "4  [[0.01926700926664564, 0.04547071663928643, 0....   \n",
       "\n",
       "                       BLA_baseline_all_window_power  \\\n",
       "0  [[0.005353983454892757, 0.01006784871417599, 0...   \n",
       "1  [[0.008392790045477449, 0.009164992589423358, ...   \n",
       "2  [[0.005384772975860021, 0.003902799415786651, ...   \n",
       "3  [[0.011390110949094753, 0.012101279184300179, ...   \n",
       "4  [[0.08271038205408282, 0.062355697447186303, 0...   \n",
       "\n",
       "                          BLA_trial_all_window_power  \\\n",
       "0  [[0.0019678294433681668, 0.003568165862318084,...   \n",
       "1  [[0.011354971394795787, 0.02494881560604016, 0...   \n",
       "2  [[0.04033438993135537, 0.030887886395683174, 0...   \n",
       "3  [[0.008089393889266917, 0.010055278188354798, ...   \n",
       "4  [[0.06052759277819007, 0.040698963447216296, 0...   \n",
       "\n",
       "                        LH_baseline_all_window_power  \\\n",
       "0  [[0.014156556290954811, 0.015811485476915764, ...   \n",
       "1  [[0.009203195865696318, 0.012369094785452853, ...   \n",
       "2  [[0.02097411820985093, 0.012691784633844525, 0...   \n",
       "3  [[0.005229034265379665, 0.004547139730694433, ...   \n",
       "4  [[0.08001361736884569, 0.04425059591323749, 0....   \n",
       "\n",
       "                           LH_trial_all_window_power  \\\n",
       "0  [[0.01740978843109557, 0.015614214245673032, 0...   \n",
       "1  [[0.004755250402581861, 0.015413926822757013, ...   \n",
       "2  [[0.05102492929045597, 0.03262755069515353, 0....   \n",
       "3  [[0.003590199461878245, 0.0042194869616777545,...   \n",
       "4  [[0.10245154477571672, 0.07803046140220249, 0....   \n",
       "\n",
       "                        MD_baseline_all_window_power  \\\n",
       "0  [[0.032420332093765145, 0.02588818663960985, 0...   \n",
       "1  [[0.029927421519669848, 0.021055238070196908, ...   \n",
       "2  [[0.019964179520096176, 0.0115436746873894, 0....   \n",
       "3  [[0.004614637358822512, 0.0035685743105444328,...   \n",
       "4  [[0.1259578974987326, 0.08093931023047285, 0.0...   \n",
       "\n",
       "                           MD_trial_all_window_power  \n",
       "0  [[0.001126425519817756, 0.0051790350768731565,...  \n",
       "1  [[0.005268082999020396, 0.01164688053394768, 0...  \n",
       "2  [[0.03412912947336931, 0.023354876559489354, 0...  \n",
       "3  [[0.018497807206904096, 0.017962370859559845, ...  \n",
       "4  [[0.09171093829357264, 0.05859617760361703, 0....  \n",
       "\n",
       "[5 rows x 45 columns]"
      ]
     },
     "execution_count": 37,
     "metadata": {},
     "output_type": "execute_result"
    }
   ],
   "source": [
    "MERGED_LFP_AND_SLEAP.head()"
   ]
  },
  {
   "cell_type": "code",
   "execution_count": 38,
   "metadata": {},
   "outputs": [
    {
     "data": {
      "text/plain": [
       "Index(['time', 'recording_file', 'video_number', 'current_subject',\n",
       "       'recording_dir', 'video_file', 'video_frame', 'subject_info',\n",
       "       'competition_closeness', 'video_name', 'all_subjects', 'trial_outcome',\n",
       "       'baseline_videoframe_range', 'trial_videoframe_range', 'trial_number',\n",
       "       'Cohort', 'file_path', 'start_frame', 'stop_frame',\n",
       "       'baseline_thorax_velocity', 'trial_thorax_velocity',\n",
       "       'trial_chunked_thorax_velocity', 'baseline_chunked_thorax_velocity',\n",
       "       'binned_baseline_thorax_velocity', 'binned_trial_thorax_velocity',\n",
       "       'mPFC_baseline_frequencies', 'mPFC_trial_frequencies',\n",
       "       'vHPC_baseline_frequencies', 'vHPC_trial_frequencies',\n",
       "       'BLA_baseline_frequencies', 'BLA_trial_frequencies',\n",
       "       'LH_baseline_frequencies', 'LH_trial_frequencies',\n",
       "       'MD_baseline_frequencies', 'MD_trial_frequencies',\n",
       "       'mPFC_baseline_all_window_power', 'mPFC_trial_all_window_power',\n",
       "       'vHPC_baseline_all_window_power', 'vHPC_trial_all_window_power',\n",
       "       'BLA_baseline_all_window_power', 'BLA_trial_all_window_power',\n",
       "       'LH_baseline_all_window_power', 'LH_trial_all_window_power',\n",
       "       'MD_baseline_all_window_power', 'MD_trial_all_window_power'],\n",
       "      dtype='object')"
      ]
     },
     "execution_count": 38,
     "metadata": {},
     "output_type": "execute_result"
    }
   ],
   "source": [
    "MERGED_LFP_AND_SLEAP.columns"
   ]
  },
  {
   "cell_type": "markdown",
   "metadata": {},
   "source": [
    "# Parsing by velocity"
   ]
  },
  {
   "cell_type": "code",
   "execution_count": null,
   "metadata": {},
   "outputs": [],
   "source": [
    "baseline_windowed_power_columns = [col for col in MERGED_LFP_AND_SLEAP.columns if \"baseline_all_window_power\" in col]\n",
    "trial_windowed_power_columns = [col for col in MERGED_LFP_AND_SLEAP.columns if \"trial_all_window_power\" in col]"
   ]
  },
  {
   "cell_type": "code",
   "execution_count": null,
   "metadata": {},
   "outputs": [],
   "source": [
    "trial_windowed_power_columns"
   ]
  },
  {
   "cell_type": "code",
   "execution_count": null,
   "metadata": {},
   "outputs": [],
   "source": [
    "for col in baseline_windowed_power_columns:\n",
    "    region_and_baseline_or_trial = \"_\".join(col.split(\"_\")[:2])\n",
    "    MERGED_LFP_AND_SLEAP[\"{}_all_window_averaged_power\".format(region_and_baseline_or_trial)] = MERGED_LFP_AND_SLEAP.apply(lambda x: np.array(x[col]).mean(axis=0), axis=1)"
   ]
  },
  {
   "cell_type": "code",
   "execution_count": null,
   "metadata": {},
   "outputs": [],
   "source": [
    "for col in trial_windowed_power_columns:\n",
    "    region_and_baseline_or_trial = \"_\".join(col.split(\"_\")[:2])\n",
    "    MERGED_LFP_AND_SLEAP[\"{}_all_window_averaged_power\".format(region_and_baseline_or_trial)] = MERGED_LFP_AND_SLEAP.apply(lambda x: np.array(x[col]).mean(axis=0), axis=1)"
   ]
  },
  {
   "cell_type": "code",
   "execution_count": null,
   "metadata": {},
   "outputs": [],
   "source": [
    "MERGED_LFP_AND_SLEAP = MERGED_LFP_AND_SLEAP.drop(columns=trace_columns, errors=\"ignore\").copy()\n",
    "MERGED_LFP_AND_SLEAP = MERGED_LFP_AND_SLEAP.drop(columns=[col for col in MERGED_LFP_AND_SLEAP if \"multitaper\" in col], errors=\"ignore\")\n",
    "MERGED_LFP_AND_SLEAP = MERGED_LFP_AND_SLEAP.drop(columns=[col for col in MERGED_LFP_AND_SLEAP if \"connectivity\" in col], errors=\"ignore\")"
   ]
  },
  {
   "cell_type": "code",
   "execution_count": null,
   "metadata": {},
   "outputs": [],
   "source": [
    "MERGED_LFP_AND_SLEAP.to_pickle(\"./proc/rce_lfp_all_window_power.pkl\")"
   ]
  },
  {
   "cell_type": "markdown",
   "metadata": {},
   "source": [
    "- Getting a mask for each segment based on velocity"
   ]
  },
  {
   "cell_type": "code",
   "execution_count": null,
   "metadata": {},
   "outputs": [],
   "source": [
    "all_bins = set(x for lst in MERGED_LFP_AND_SLEAP[\"binned_baseline_thorax_velocity\"] for x in lst)"
   ]
  },
  {
   "cell_type": "code",
   "execution_count": null,
   "metadata": {},
   "outputs": [],
   "source": [
    "all_bins"
   ]
  },
  {
   "cell_type": "code",
   "execution_count": null,
   "metadata": {},
   "outputs": [],
   "source": [
    "all_bin_df = []\n",
    "for bin in all_bins:\n",
    "    current_df = MERGED_LFP_AND_SLEAP.copy()\n",
    "    current_df[\"binned_trial_velocity_mask\"] = current_df[\"binned_trial_thorax_velocity\"].apply(lambda x: [index for index, num in enumerate(x) if num == bin])\n",
    "    current_df[\"binned_baseline_velocity_mask\"] = current_df[\"binned_baseline_thorax_velocity\"].apply(lambda x: [index for index, num in enumerate(x) if num == bin])\n",
    "    for col in baseline_windowed_power_columns:\n",
    "        region_and_baseline_or_trial = \"_\".join(col.split(\"_\")[:2])\n",
    "        current_df[\"{}_velocity_parsed_window_averaged_power\".format(region_and_baseline_or_trial)] = current_df.apply(lambda x: np.nanmean(np.array([x[col][i] for i in x[\"binned_baseline_velocity_mask\"]]), axis=0), axis=1)\n",
    "\n",
    "    for col in trial_windowed_power_columns:\n",
    "        region_and_baseline_or_trial = \"_\".join(col.split(\"_\")[:2])\n",
    "        current_df[\"{}_velocity_parsed_window_averaged_power\".format(region_and_baseline_or_trial)] = current_df.apply(lambda x: np.nanmean(np.array([x[col][i] for i in x[\"binned_trial_velocity_mask\"]]), axis=0), axis=1)\n",
    "    \n",
    "    current_df[\"velocity_bin\"] = bin\n",
    "    all_bin_df.append(current_df)\n",
    "        \n",
    "    \n",
    "    \n"
   ]
  },
  {
   "cell_type": "code",
   "execution_count": null,
   "metadata": {},
   "outputs": [],
   "source": [
    "pd.concat(all_bin_df).reset_index(drop=True)"
   ]
  },
  {
   "cell_type": "code",
   "execution_count": null,
   "metadata": {},
   "outputs": [],
   "source": [
    "MERGED_LFP_AND_SLEAP = pd.concat(all_bin_df).reset_index(drop=True)"
   ]
  },
  {
   "cell_type": "raw",
   "metadata": {},
   "source": [
    "for col in baseline_windowed_power_columns:\n",
    "    region_and_baseline_or_trial = \"_\".join(col.split(\"_\")[:2])\n",
    "    MERGED_LFP_AND_SLEAP[\"{}_velocity_parsed_window_averaged_power\".format(region_and_baseline_or_trial)] = MERGED_LFP_AND_SLEAP.apply(lambda x: np.nanmean(np.array([x[col][i] for i in x[\"binned_baseline_velocity_mask\"]]), axis=0), axis=1)"
   ]
  },
  {
   "cell_type": "raw",
   "metadata": {},
   "source": [
    "for col in trial_windowed_power_columns:\n",
    "    region_and_baseline_or_trial = \"_\".join(col.split(\"_\")[:2])\n",
    "    MERGED_LFP_AND_SLEAP[\"{}_velocity_parsed_window_averaged_power\".format(region_and_baseline_or_trial)] = MERGED_LFP_AND_SLEAP.apply(lambda x: np.nanmean(np.array([x[col][i] for i in x[\"binned_trial_velocity_mask\"]]), axis=0), axis=1)\n",
    "    \n",
    "    \n",
    "    \n",
    "    \n"
   ]
  },
  {
   "cell_type": "markdown",
   "metadata": {},
   "source": [
    "## Plotting all the lower velocities together"
   ]
  },
  {
   "cell_type": "code",
   "execution_count": null,
   "metadata": {},
   "outputs": [],
   "source": [
    "window_averaged_power_columns = [col for col in MERGED_LFP_AND_SLEAP.columns if \"velocity_parsed_window_averaged_power\" in col]"
   ]
  },
  {
   "cell_type": "code",
   "execution_count": null,
   "metadata": {},
   "outputs": [],
   "source": [
    "window_averaged_power_columns"
   ]
  },
  {
   "cell_type": "markdown",
   "metadata": {},
   "source": [
    "- Grouping by trial outcome"
   ]
  },
  {
   "cell_type": "code",
   "execution_count": null,
   "metadata": {
    "scrolled": true
   },
   "outputs": [],
   "source": [
    "MERGED_LFP_AND_SLEAP"
   ]
  },
  {
   "cell_type": "code",
   "execution_count": null,
   "metadata": {},
   "outputs": [],
   "source": [
    "grouped_all_trials_df = MERGED_LFP_AND_SLEAP.groupby(['trial_outcome', 'velocity_bin']).agg({k: lambda x: np.vstack([arr for arr in x.tolist() if not np.any(np.isnan(arr))]) for k in window_averaged_power_columns}).reset_index()"
   ]
  },
  {
   "cell_type": "code",
   "execution_count": null,
   "metadata": {},
   "outputs": [],
   "source": [
    "grouped_all_trials_df = pd.melt(grouped_all_trials_df, id_vars =['trial_outcome', 'velocity_bin'], value_vars =grouped_all_trials_df.drop(columns=[\"trial_outcome\", \"velocity_bin\"]).columns, value_name=\"power\", var_name=\"region_and_baseline_or_trial\") "
   ]
  },
  {
   "cell_type": "code",
   "execution_count": null,
   "metadata": {},
   "outputs": [],
   "source": [
    "grouped_all_trials_df"
   ]
  },
  {
   "cell_type": "code",
   "execution_count": null,
   "metadata": {},
   "outputs": [],
   "source": [
    "grouped_all_trials_df[\"brain_region\"] = grouped_all_trials_df[\"region_and_baseline_or_trial\"].apply(lambda x: x.split(\"_\")[0].strip())"
   ]
  },
  {
   "cell_type": "code",
   "execution_count": null,
   "metadata": {},
   "outputs": [],
   "source": [
    "grouped_all_trials_df[\"trial_or_baseline\"] = grouped_all_trials_df[\"region_and_baseline_or_trial\"].apply(lambda x: x.split(\"_\")[1].strip())"
   ]
  },
  {
   "cell_type": "code",
   "execution_count": null,
   "metadata": {},
   "outputs": [],
   "source": [
    "grouped_all_trials_df = grouped_all_trials_df[grouped_all_trials_df[\"trial_or_baseline\"] == \"trial\"].reset_index(drop=True)"
   ]
  },
  {
   "cell_type": "code",
   "execution_count": null,
   "metadata": {},
   "outputs": [],
   "source": [
    "grouped_all_trials_df[\"mean_power\"] = grouped_all_trials_df[\"power\"].apply(lambda x: np.nanmean(np.vstack(x), axis=0))"
   ]
  },
  {
   "cell_type": "code",
   "execution_count": null,
   "metadata": {},
   "outputs": [],
   "source": [
    "grouped_all_trials_df[\"std_power\"] = grouped_all_trials_df[\"power\"].apply(lambda x: np.nanstd(np.vstack(x), axis=0))"
   ]
  },
  {
   "cell_type": "code",
   "execution_count": null,
   "metadata": {},
   "outputs": [],
   "source": [
    "grouped_all_trials_df[\"n_trials\"] = grouped_all_trials_df[\"power\"].apply(lambda x: np.sum(~np.isnan(x), axis=0))"
   ]
  },
  {
   "cell_type": "code",
   "execution_count": null,
   "metadata": {},
   "outputs": [],
   "source": [
    "grouped_all_trials_df[\"sem_power\"] = grouped_all_trials_df.apply(lambda x: x[\"std_power\"] / np.sqrt(x[\"n_trials\"]), axis=1)"
   ]
  },
  {
   "cell_type": "code",
   "execution_count": null,
   "metadata": {
    "scrolled": true
   },
   "outputs": [],
   "source": [
    "grouped_all_trials_df[\"trial_outcome\"].unique()"
   ]
  },
  {
   "cell_type": "code",
   "execution_count": null,
   "metadata": {
    "scrolled": true
   },
   "outputs": [],
   "source": [
    "grouped_all_trials_df"
   ]
  },
  {
   "cell_type": "markdown",
   "metadata": {},
   "source": [
    "# Drawing all velocity bins together for each trial outcome"
   ]
  },
  {
   "cell_type": "code",
   "execution_count": null,
   "metadata": {},
   "outputs": [],
   "source": [
    "import matplotlib.pyplot as plt\n",
    "import matplotlib.colors as mcolors\n",
    "\n",
    "def adjust_lightness(color, amount=0.5):\n",
    "    \"\"\"\n",
    "    Adjusts the lightness of the given color by the provided amount.\n",
    "    :param color: Input color in some format that matplotlib's `to_rgb` can handle.\n",
    "    :param amount: Amount to adjust. > 1 for lighter, < 1 for darker.\n",
    "    :return: Adjusted color.\n",
    "    \"\"\"\n",
    "    import colorsys\n",
    "    c = mcolors.to_rgb(color)\n",
    "    h, l, s = colorsys.rgb_to_hls(*c)\n",
    "    return colorsys.hls_to_rgb(h, max(0, min(1, amount * l)), s)\n",
    "\n"
   ]
  },
  {
   "cell_type": "code",
   "execution_count": null,
   "metadata": {},
   "outputs": [],
   "source": [
    "# Original color\n",
    "original_color = 'red'  # Can be any color matplotlib understands\n",
    "\n",
    "# Generate lighter versions\n",
    "lighter_colors = [adjust_lightness(original_color, amount=1+(0.1*i)) for i in range(12)]\n",
    "\n",
    "# Plotting to demonstrate the colors\n",
    "for i, color in enumerate(lighter_colors):\n",
    "    plt.plot([i-0.5, i+0.5], [1, 1], color=color, linewidth=6)  \n",
    "\n",
    "plt.ylim(0.9, 1.1)\n",
    "plt.show()"
   ]
  },
  {
   "cell_type": "code",
   "execution_count": null,
   "metadata": {},
   "outputs": [],
   "source": [
    "BIN_TO_VELOCITY = {0: \"0 to 2.5cm/s\", 1: \"2.5 to 5cm/s\", 2: \"5 to 10 cm/s\", 3: \"10cm/s+\"}"
   ]
  },
  {
   "cell_type": "code",
   "execution_count": null,
   "metadata": {},
   "outputs": [],
   "source": [
    "OUTCOME_TO_COLOR"
   ]
  },
  {
   "cell_type": "code",
   "execution_count": null,
   "metadata": {
    "scrolled": true
   },
   "outputs": [],
   "source": [
    "grouped_all_trials_df.head()"
   ]
  },
  {
   "cell_type": "code",
   "execution_count": null,
   "metadata": {},
   "outputs": [],
   "source": [
    "import colorsys\n",
    "\n",
    "def generate_gradient_colors(base_color, num_colors=10):\n",
    "    \"\"\"\n",
    "    Generate gradient colors based on a base color.\n",
    "    \n",
    "    :param base_color: The base color to create a gradient from.\n",
    "    :param num_colors: The number of gradient colors to generate.\n",
    "    :return: List of colors.\n",
    "    \"\"\"\n",
    "    # Convert base color to HLS (Hue, Lightness, Saturation)\n",
    "    h, l, s = colorsys.rgb_to_hls(*mcolors.to_rgb(base_color))\n",
    "\n",
    "    # Determine the step size for lightness\n",
    "    middle_index = num_colors // 2\n",
    "    lightness_step = l / (middle_index if middle_index > 0 else 1)\n",
    "\n",
    "    colors = []\n",
    "    for i in range(num_colors):\n",
    "        if i < middle_index:\n",
    "            # For the lighter colors (before the middle)\n",
    "            new_lightness = l + (middle_index - i) * lightness_step\n",
    "        elif i == middle_index:\n",
    "            # The middle color remains the base color\n",
    "            new_lightness = l\n",
    "        else:\n",
    "            # For the darker colors (after the middle)\n",
    "            new_lightness = l - (i - middle_index) * lightness_step\n",
    "\n",
    "        # Ensure new lightness is within the valid range [0, 1]\n",
    "        new_lightness = max(0, min(new_lightness, 1))\n",
    "\n",
    "        new_color = colorsys.hls_to_rgb(h, new_lightness, s)\n",
    "        colors.append(new_color)\n",
    "\n",
    "    return colors\n",
    "\n"
   ]
  },
  {
   "cell_type": "code",
   "execution_count": null,
   "metadata": {},
   "outputs": [],
   "source": [
    "# Base color\n",
    "base_color = '#ff5733'  # Reddish color\n",
    "\n",
    "# Number of colors you want in the gradient\n",
    "num_colors = 10\n",
    "\n",
    "# Generate gradient colors\n",
    "gradient_colors = generate_gradient_colors(base_color, num_colors)\n",
    "\n",
    "# Set the color cycle to use the gradient colors\n",
    "plt.rcParams['axes.prop_cycle'] = plt.cycler(color=gradient_colors)\n",
    "\n",
    "# Test by plotting some data\n",
    "for i in range(num_colors):\n",
    "    plt.plot(np.arange(10), np.random.rand(10) + i)\n",
    "\n",
    "plt.show()"
   ]
  },
  {
   "cell_type": "code",
   "execution_count": null,
   "metadata": {},
   "outputs": [],
   "source": [
    "MERGED_LFP_AND_SLEAP"
   ]
  },
  {
   "cell_type": "code",
   "execution_count": null,
   "metadata": {},
   "outputs": [],
   "source": [
    "ALL_FREQUENCIES = [int(num) for num in MERGED_LFP_AND_SLEAP[[col for col in MERGED_LFP_AND_SLEAP if \"frequencies\" in col][0]].iloc[0]]"
   ]
  },
  {
   "cell_type": "code",
   "execution_count": null,
   "metadata": {},
   "outputs": [],
   "source": [
    "low_freq = 0\n",
    "high_freq = 13\n",
    "for region in grouped_all_trials_df[\"region_and_baseline_or_trial\"].unique():\n",
    "    region_df = grouped_all_trials_df[grouped_all_trials_df[\"region_and_baseline_or_trial\"] == region]\n",
    "\n",
    "    for outcome in region_df[\"trial_outcome\"].unique():\n",
    "        fig, ax = plt.subplots()\n",
    "        plt.title(\"{} during {} trials\".format(region.split(\"_\")[0], outcome), fontsize=30)\n",
    "        plt.xlabel(\"Frequency\", fontsize=20)\n",
    "        plt.ylabel(\"Power\", fontsize=20)\n",
    "        plt.xlim(low_freq, high_freq) \n",
    "        # plt.yscale(\"log\")\n",
    "        plt.ylim(0, 0.1)\n",
    "        outcome_df = region_df[(region_df[\"trial_outcome\"] == outcome)]\n",
    "        # Generate gradient colors\n",
    "        gradient_colors = generate_gradient_colors(OUTCOME_TO_COLOR[outcome], 20)\n",
    "        \n",
    "        for index, row in outcome_df.iterrows():           \n",
    "            current_frequencies = ALL_FREQUENCIES[low_freq: high_freq]\n",
    "            mean_power = row[\"mean_power\"][low_freq: high_freq]\n",
    "            sem_power = row[\"sem_power\"][low_freq: high_freq]\n",
    "                \n",
    "            \n",
    "            try:\n",
    "                ax = sns.lineplot(x=current_frequencies, y=mean_power, \\\n",
    "                label=\"{}\".format(BIN_TO_VELOCITY[row[\"velocity_bin\"]]), linewidth=3, color=gradient_colors[-(row[\"velocity_bin\"]+1) *4])\n",
    "                \n",
    "                plt.fill_between(current_frequencies, \n",
    "                mean_power - sem_power, mean_power + sem_power, \\\n",
    "                alpha=0.1, color=gradient_colors[-(row[\"velocity_bin\"]+1) *4])\n",
    "            \n",
    "            except Exception as e: \n",
    "                print(e)\n",
    "                continue\n",
    "                \n",
    "        plt.legend()\n",
    "        plt.tight_layout()\n",
    "        plt.savefig(\"./proc/velocity_parsed_power/rce_velocity_parsed_lfp_power_freq_{}_to_{}_region_{}_{}.png\".format(low_freq, high_freq, region.split(\"_\")[0], outcome))"
   ]
  },
  {
   "cell_type": "code",
   "execution_count": null,
   "metadata": {},
   "outputs": [],
   "source": [
    "low_freq = 12\n",
    "high_freq = 31\n",
    "for region in grouped_all_trials_df[\"region_and_baseline_or_trial\"].unique():\n",
    "    region_df = grouped_all_trials_df[grouped_all_trials_df[\"region_and_baseline_or_trial\"] == region]\n",
    "\n",
    "    for outcome in region_df[\"trial_outcome\"].unique():\n",
    "        fig, ax = plt.subplots()\n",
    "        plt.title(\"Z-Scored LFP Power in {} for {}\".format(region.split(\"_\")[0], outcome))\n",
    "        plt.xlabel(\"Frequency\")\n",
    "        plt.ylabel(\"Power\")\n",
    "        plt.xlim(low_freq, high_freq) \n",
    "        # plt.yscale(\"log\")\n",
    "        plt.ylim(0, 0.015)\n",
    "        \n",
    "        outcome_df = region_df[(region_df[\"trial_outcome\"] == outcome)]\n",
    "        # Generate gradient colors\n",
    "        gradient_colors = generate_gradient_colors(OUTCOME_TO_COLOR[outcome], 20)\n",
    "        \n",
    "        for index, row in outcome_df.iterrows():           \n",
    "            current_frequencies = ALL_FREQUENCIES[low_freq: high_freq]\n",
    "            mean_power = row[\"mean_power\"][low_freq: high_freq]\n",
    "            sem_power = row[\"sem_power\"][low_freq: high_freq]\n",
    "                \n",
    "            \n",
    "            try:\n",
    "                ax = sns.lineplot(x=current_frequencies, y=mean_power, \\\n",
    "                label=\"{} {}\".format(outcome, BIN_TO_VELOCITY[row[\"velocity_bin\"]]), linewidth=3, color=gradient_colors[-(row[\"velocity_bin\"]+1) *4])\n",
    "                \n",
    "                plt.fill_between(current_frequencies, \n",
    "                mean_power - sem_power, mean_power + sem_power, \\\n",
    "                alpha=0.1, color=gradient_colors[-(row[\"velocity_bin\"]+1) *4])\n",
    "            \n",
    "            except Exception as e: \n",
    "                print(e)\n",
    "                continue\n",
    "        plt.legend()\n",
    "        plt.savefig(\"./proc/velocity_parsed_power/rce_velocity_parsed_lfp_power_freq_{}_to_{}_region_{}_{}.png\".format(low_freq, high_freq, region.split(\"_\")[0], outcome))"
   ]
  },
  {
   "cell_type": "code",
   "execution_count": null,
   "metadata": {
    "scrolled": true
   },
   "outputs": [],
   "source": [
    "low_freq = 30\n",
    "high_freq = 91\n",
    "for region in grouped_all_trials_df[\"region_and_baseline_or_trial\"].unique():\n",
    "    region_df = grouped_all_trials_df[grouped_all_trials_df[\"region_and_baseline_or_trial\"] == region]\n",
    "\n",
    "    for outcome in region_df[\"trial_outcome\"].unique():\n",
    "        fig, ax = plt.subplots()\n",
    "        plt.title(\"Z-Scored LFP Power in {} for {}\".format(region.split(\"_\")[0], outcome))\n",
    "        plt.xlabel(\"Frequency\")\n",
    "        plt.ylabel(\"Power\")\n",
    "        plt.xlim(low_freq, high_freq) \n",
    "        # plt.yscale(\"log\")\n",
    "        plt.ylim(0, 0.004)\n",
    "        outcome_df = region_df[(region_df[\"trial_outcome\"] == outcome)]\n",
    "        # Generate gradient colors\n",
    "        gradient_colors = generate_gradient_colors(OUTCOME_TO_COLOR[outcome], 20)\n",
    "        \n",
    "        for index, row in outcome_df.iterrows():           \n",
    "            current_frequencies = ALL_FREQUENCIES[low_freq: high_freq]\n",
    "            mean_power = row[\"mean_power\"][low_freq: high_freq]\n",
    "            sem_power = row[\"sem_power\"][low_freq: high_freq]\n",
    "                \n",
    "            \n",
    "            try:\n",
    "                ax = sns.lineplot(x=current_frequencies, y=mean_power, \\\n",
    "                label=\"{} {}\".format(outcome, BIN_TO_VELOCITY[row[\"velocity_bin\"]]), linewidth=3, color=gradient_colors[-(row[\"velocity_bin\"]+1) *4])\n",
    "                \n",
    "                plt.fill_between(current_frequencies, \n",
    "                mean_power - sem_power, mean_power + sem_power, \\\n",
    "                alpha=0.1, color=gradient_colors[-(row[\"velocity_bin\"]+1) *4])\n",
    "            \n",
    "            except Exception as e: \n",
    "                print(e)\n",
    "                continue\n",
    "        plt.legend()\n",
    "        plt.savefig(\"./proc/velocity_parsed_power/rce_velocity_parsed_lfp_power_freq_{}_to_{}_region_{}_{}.png\".format(low_freq, high_freq, region.split(\"_\")[0], outcome))"
   ]
  },
  {
   "cell_type": "markdown",
   "metadata": {},
   "source": [
    "# Plotting be velocity"
   ]
  },
  {
   "cell_type": "code",
   "execution_count": null,
   "metadata": {},
   "outputs": [],
   "source": [
    "grouped_all_trials_df = MERGED_LFP_AND_SLEAP.groupby(['velocity_bin']).agg({k: lambda x: np.vstack([arr for arr in x.tolist() if not np.any(np.isnan(arr))]) for k in window_averaged_power_columns}).reset_index()"
   ]
  },
  {
   "cell_type": "code",
   "execution_count": null,
   "metadata": {},
   "outputs": [],
   "source": [
    "grouped_all_trials_df = pd.melt(grouped_all_trials_df, id_vars =['velocity_bin'], value_vars =grouped_all_trials_df.drop(columns=[\"velocity_bin\"]).columns, value_name=\"power\", var_name=\"region_and_baseline_or_trial\") "
   ]
  },
  {
   "cell_type": "code",
   "execution_count": null,
   "metadata": {},
   "outputs": [],
   "source": [
    "grouped_all_trials_df.head()"
   ]
  },
  {
   "cell_type": "code",
   "execution_count": null,
   "metadata": {},
   "outputs": [],
   "source": [
    "grouped_all_trials_df[\"brain_region\"] = grouped_all_trials_df[\"region_and_baseline_or_trial\"].apply(lambda x: x.split(\"_\")[0].strip())"
   ]
  },
  {
   "cell_type": "code",
   "execution_count": null,
   "metadata": {},
   "outputs": [],
   "source": [
    "grouped_all_trials_df[\"trial_or_baseline\"] = grouped_all_trials_df[\"region_and_baseline_or_trial\"].apply(lambda x: x.split(\"_\")[1].strip())"
   ]
  },
  {
   "cell_type": "code",
   "execution_count": null,
   "metadata": {},
   "outputs": [],
   "source": [
    "grouped_all_trials_df[\"mean_power\"] = grouped_all_trials_df[\"power\"].apply(lambda x: np.nanmean(np.vstack(x), axis=0))"
   ]
  },
  {
   "cell_type": "code",
   "execution_count": null,
   "metadata": {},
   "outputs": [],
   "source": [
    "grouped_all_trials_df[\"std_power\"] = grouped_all_trials_df[\"power\"].apply(lambda x: np.nanstd(np.vstack(x), axis=0))"
   ]
  },
  {
   "cell_type": "code",
   "execution_count": null,
   "metadata": {},
   "outputs": [],
   "source": [
    "grouped_all_trials_df[\"n_trials\"] = grouped_all_trials_df[\"power\"].apply(lambda x: np.sum(~np.isnan(x), axis=0))"
   ]
  },
  {
   "cell_type": "code",
   "execution_count": null,
   "metadata": {},
   "outputs": [],
   "source": [
    "grouped_all_trials_df[\"sem_power\"] = grouped_all_trials_df.apply(lambda x: x[\"std_power\"] / np.sqrt(x[\"n_trials\"]), axis=1)"
   ]
  },
  {
   "cell_type": "code",
   "execution_count": null,
   "metadata": {
    "scrolled": true
   },
   "outputs": [],
   "source": [
    "grouped_all_trials_df.head()"
   ]
  },
  {
   "cell_type": "markdown",
   "metadata": {},
   "source": [
    "# Drawing all velocity bins together for each trial outcome"
   ]
  },
  {
   "cell_type": "code",
   "execution_count": null,
   "metadata": {},
   "outputs": [],
   "source": []
  },
  {
   "cell_type": "code",
   "execution_count": null,
   "metadata": {},
   "outputs": [],
   "source": [
    "OUTCOME_TO_COLOR"
   ]
  },
  {
   "cell_type": "code",
   "execution_count": null,
   "metadata": {
    "scrolled": true
   },
   "outputs": [],
   "source": [
    "grouped_all_trials_df.head()"
   ]
  },
  {
   "cell_type": "code",
   "execution_count": null,
   "metadata": {},
   "outputs": [],
   "source": [
    "low_freq = 0\n",
    "high_freq = 13\n",
    "for region in grouped_all_trials_df[\"brain_region\"].unique():\n",
    "    region_df = grouped_all_trials_df[(grouped_all_trials_df[\"brain_region\"] == region) & (grouped_all_trials_df[\"trial_or_baseline\"] == \"trial\")]\n",
    "\n",
    "    fig, ax = plt.subplots()\n",
    "    plt.title(\"{} \".format(region.split(\"_\")[0]), fontsize=30)\n",
    "    plt.xlabel(\"Frequency\", fontsize=30)\n",
    "    plt.ylabel(\"Power\", fontsize=30)\n",
    "    plt.xlim(low_freq, high_freq) \n",
    "    # plt.yscale(\"log\")\n",
    "    \n",
    "    # Generate gradient colors\n",
    "    gradient_colors = generate_gradient_colors(\"red\", 20)\n",
    "    \n",
    "    for index, row in region_df.iterrows():           \n",
    "\n",
    "        current_frequencies = ALL_FREQUENCIES[low_freq: high_freq]\n",
    "        mean_power = row[\"mean_power\"][low_freq: high_freq]\n",
    "        sem_power = row[\"sem_power\"][low_freq: high_freq]\n",
    "            \n",
    "        \n",
    "        try:\n",
    "            ax = sns.lineplot(x=current_frequencies, y=mean_power, \\\n",
    "            label=\"{}\".format(BIN_TO_VELOCITY[row[\"velocity_bin\"]]), linewidth=5, color=gradient_colors[-(row[\"velocity_bin\"]+1) *4])\n",
    "            \n",
    "            plt.fill_between(current_frequencies, \n",
    "            mean_power - sem_power, mean_power + sem_power, \\\n",
    "            alpha=0.1, color=gradient_colors[-(row[\"velocity_bin\"]+1) *4])\n",
    "        \n",
    "        except Exception as e: \n",
    "            print(e)\n",
    "            continue\n",
    "    plt.tight_layout()\n",
    "    plt.legend(ncol=2)\n",
    "    plt.savefig(\"./proc/velocity_parsed_power/rce_velocity_parsed_lfp_power_freq_{}_to_{}_region_{}.png\".format(low_freq, high_freq, region.split(\"_\")[0]))"
   ]
  },
  {
   "cell_type": "code",
   "execution_count": null,
   "metadata": {},
   "outputs": [],
   "source": [
    "low_freq = 12\n",
    "high_freq = 31\n",
    "for region in grouped_all_trials_df[\"brain_region\"].unique():\n",
    "    region_df = grouped_all_trials_df[(grouped_all_trials_df[\"brain_region\"] == region) & (grouped_all_trials_df[\"trial_or_baseline\"] == \"trial\")]\n",
    "\n",
    "    fig, ax = plt.subplots()\n",
    "    plt.title(\"Z-Scored LFP Power in {} \".format(region.split(\"_\")[0]), fontsize=30)\n",
    "    plt.xlabel(\"Frequency\", fontsize=30)\n",
    "    plt.ylabel(\"Power\", fontsize=30)\n",
    "    plt.xlim(low_freq, high_freq) \n",
    "    # plt.yscale(\"log\")\n",
    "    \n",
    "    # Generate gradient colors\n",
    "    gradient_colors = generate_gradient_colors(\"red\", 20)\n",
    "    \n",
    "    for index, row in region_df.iterrows():           \n",
    "\n",
    "        current_frequencies = ALL_FREQUENCIES[low_freq: high_freq]\n",
    "        mean_power = row[\"mean_power\"][low_freq: high_freq]\n",
    "        sem_power = row[\"sem_power\"][low_freq: high_freq]\n",
    "            \n",
    "        \n",
    "        try:\n",
    "            ax = sns.lineplot(x=current_frequencies, y=mean_power, \\\n",
    "            label=\"{}\".format(BIN_TO_VELOCITY[row[\"velocity_bin\"]]), linewidth=5, color=gradient_colors[-(row[\"velocity_bin\"]+1) *4])\n",
    "            \n",
    "            plt.fill_between(current_frequencies, \n",
    "            mean_power - sem_power, mean_power + sem_power, \\\n",
    "            alpha=0.1, color=gradient_colors[-(row[\"velocity_bin\"]+1) *4])\n",
    "        \n",
    "        except Exception as e: \n",
    "            print(e)\n",
    "            continue\n",
    "    plt.legend()\n",
    "    plt.savefig(\"./proc/velocity_parsed_power/rce_velocity_parsed_lfp_power_freq_{}_to_{}_region_{}.png\".format(low_freq, high_freq, region.split(\"_\")[0]))"
   ]
  },
  {
   "cell_type": "code",
   "execution_count": null,
   "metadata": {},
   "outputs": [],
   "source": [
    "low_freq = 30\n",
    "high_freq = 90\n",
    "for region in grouped_all_trials_df[\"brain_region\"].unique():\n",
    "    region_df = grouped_all_trials_df[(grouped_all_trials_df[\"brain_region\"] == region) & (grouped_all_trials_df[\"trial_or_baseline\"] == \"trial\")]\n",
    "\n",
    "    fig, ax = plt.subplots()\n",
    "    plt.title(\"Z-Scored LFP Power in {} \".format(region.split(\"_\")[0]))\n",
    "    plt.xlabel(\"Frequency\")\n",
    "    plt.ylabel(\"Power\")\n",
    "    plt.xlim(low_freq, high_freq) \n",
    "    # plt.yscale(\"log\")\n",
    "    \n",
    "    # Generate gradient colors\n",
    "    gradient_colors = generate_gradient_colors(\"red\", 20)\n",
    "    \n",
    "    for index, row in region_df.iterrows():           \n",
    "\n",
    "        current_frequencies = ALL_FREQUENCIES[low_freq: high_freq]\n",
    "        mean_power = row[\"mean_power\"][low_freq: high_freq]\n",
    "        sem_power = row[\"sem_power\"][low_freq: high_freq]\n",
    "            \n",
    "        \n",
    "        try:\n",
    "            ax = sns.lineplot(x=current_frequencies, y=mean_power, \\\n",
    "            label=\"{}\".format(BIN_TO_VELOCITY[row[\"velocity_bin\"]]), linewidth=5, color=gradient_colors[-(row[\"velocity_bin\"]+1) *4])\n",
    "            \n",
    "            plt.fill_between(current_frequencies, \n",
    "            mean_power - sem_power, mean_power + sem_power, \\\n",
    "            alpha=0.1, color=gradient_colors[-(row[\"velocity_bin\"]+1) *4])\n",
    "        \n",
    "        except Exception as e: \n",
    "            print(e)\n",
    "            continue\n",
    "    plt.legend()\n",
    "    plt.savefig(\"./proc/velocity_parsed_power/rce_velocity_parsed_lfp_power_freq_{}_to_{}_region_{}.png\".format(low_freq, high_freq, region.split(\"_\")[0]))"
   ]
  },
  {
   "cell_type": "code",
   "execution_count": null,
   "metadata": {},
   "outputs": [],
   "source": []
  },
  {
   "cell_type": "markdown",
   "metadata": {},
   "source": [
    "# Exporting that data"
   ]
  },
  {
   "cell_type": "code",
   "execution_count": null,
   "metadata": {},
   "outputs": [],
   "source": [
    "MERGED_LFP_AND_SLEAP.head()"
   ]
  },
  {
   "cell_type": "code",
   "execution_count": null,
   "metadata": {},
   "outputs": [],
   "source": [
    "trace_columns"
   ]
  },
  {
   "cell_type": "code",
   "execution_count": null,
   "metadata": {},
   "outputs": [],
   "source": [
    "exported_lfp_and_sleap = MERGED_LFP_AND_SLEAP.drop(columns=trace_columns, errors=\"ignore\").copy()\n",
    "exported_lfp_and_sleap = exported_lfp_and_sleap.drop(columns=[col for col in exported_lfp_and_sleap if \"multitaper\" in col], errors=\"ignore\")\n",
    "exported_lfp_and_sleap = exported_lfp_and_sleap.drop(columns=[col for col in exported_lfp_and_sleap if \"thorax_velocity\" in col], errors=\"ignore\")\n",
    "exported_lfp_and_sleap = exported_lfp_and_sleap.drop(columns=[col for col in exported_lfp_and_sleap if \"frequencies\" in col], errors=\"ignore\")\n",
    "exported_lfp_and_sleap = exported_lfp_and_sleap.drop(columns=[col for col in exported_lfp_and_sleap if \"windowed_power\" in col], errors=\"ignore\")\n",
    "exported_lfp_and_sleap = exported_lfp_and_sleap.drop(columns=[col for col in exported_lfp_and_sleap if \"connectivity\" in col], errors=\"ignore\")\n",
    "exported_lfp_and_sleap = exported_lfp_and_sleap.drop(columns=[col for col in exported_lfp_and_sleap if \"spike_interface\" in col], errors=\"ignore\")\n",
    "exported_lfp_and_sleap = exported_lfp_and_sleap.drop(columns=[col for col in exported_lfp_and_sleap if \"index\" in col], errors=\"ignore\")\n",
    "exported_lfp_and_sleap = exported_lfp_and_sleap.drop(columns=[col for col in exported_lfp_and_sleap if \"stamp\" in col], errors=\"ignore\")\n",
    "exported_lfp_and_sleap = exported_lfp_and_sleap.drop(columns=[col for col in exported_lfp_and_sleap if \"box\" in col], errors=\"ignore\")\n",
    "exported_lfp_and_sleap = exported_lfp_and_sleap.drop(columns=[col for col in exported_lfp_and_sleap if \"height\" in col], errors=\"ignore\")\n",
    "exported_lfp_and_sleap = exported_lfp_and_sleap.drop(columns=[col for col in exported_lfp_and_sleap if \"width\" in col], errors=\"ignore\")\n",
    "exported_lfp_and_sleap = exported_lfp_and_sleap.drop(columns=[col for col in exported_lfp_and_sleap if \"ratio\" in col], errors=\"ignore\")\n",
    "exported_lfp_and_sleap = exported_lfp_and_sleap.drop(columns=[col for col in exported_lfp_and_sleap if \"width\" in col], errors=\"ignore\")\n",
    "exported_lfp_and_sleap = exported_lfp_and_sleap.drop(columns=['individual_subj',\n",
    " 'all_subj',\n",
    " 'recording_name',\n",
    " 'track_names',\n",
    " 'subject_id',\n",
    " 'corner_path',\n",
    " 'corner_parts',\n",
    " 'rescaled_locations',\n",
    " 'reward_port'], errors=\"ignore\")"
   ]
  },
  {
   "cell_type": "code",
   "execution_count": null,
   "metadata": {},
   "outputs": [],
   "source": [
    "exported_lfp_and_sleap[\"frequencies\"] = [MERGED_LFP_AND_SLEAP[\"BLA_baseline_frequencies\"].iloc[0] for _ in range(len(exported_lfp_and_sleap))] "
   ]
  },
  {
   "cell_type": "code",
   "execution_count": null,
   "metadata": {},
   "outputs": [],
   "source": [
    "exported_lfp_and_sleap.columns"
   ]
  },
  {
   "cell_type": "code",
   "execution_count": null,
   "metadata": {},
   "outputs": [],
   "source": [
    "exported_lfp_and_sleap.to_pickle(\"./proc/rce_lfp_power_and_velocity_region_col_baselinetrial_row.pkl\")"
   ]
  },
  {
   "cell_type": "code",
   "execution_count": null,
   "metadata": {},
   "outputs": [],
   "source": [
    "MERGED_TRIALS_AND_VIDEO[\"bin_counts\"] = MERGED_TRIALS_AND_VIDEO[\"binned_trial_thorax_velocity\"].apply(lambda x: collections.Counter(x))"
   ]
  },
  {
   "cell_type": "code",
   "execution_count": null,
   "metadata": {},
   "outputs": [],
   "source": [
    "MERGED_TRIALS_AND_VIDEO"
   ]
  },
  {
   "cell_type": "code",
   "execution_count": null,
   "metadata": {},
   "outputs": [],
   "source": [
    "outcome_df"
   ]
  },
  {
   "cell_type": "code",
   "execution_count": null,
   "metadata": {},
   "outputs": [],
   "source": [
    "MERGED_TRIALS_AND_VIDEO = pd.concat([MERGED_TRIALS_AND_VIDEO.drop(['bin_counts'], axis=1), MERGED_TRIALS_AND_VIDEO['bin_counts'].apply(pd.Series)], axis=1)"
   ]
  },
  {
   "cell_type": "code",
   "execution_count": null,
   "metadata": {
    "scrolled": true
   },
   "outputs": [],
   "source": [
    "MERGED_TRIALS_AND_VIDEO"
   ]
  },
  {
   "cell_type": "code",
   "execution_count": null,
   "metadata": {},
   "outputs": [],
   "source": [
    "raise ValueError()"
   ]
  },
  {
   "cell_type": "markdown",
   "metadata": {},
   "source": [
    "# Exporting that data"
   ]
  },
  {
   "cell_type": "code",
   "execution_count": null,
   "metadata": {},
   "outputs": [],
   "source": [
    "MERGED_LFP_AND_SLEAP.columns"
   ]
  },
  {
   "cell_type": "code",
   "execution_count": null,
   "metadata": {},
   "outputs": [],
   "source": [
    "exported_lfp_and_sleap = MERGED_LFP_AND_SLEAP.drop(columns=trace_columns, errors=\"ignore\").copy()\n",
    "exported_lfp_and_sleap = exported_lfp_and_sleap[exported_lfp_and_sleap[\"velocity_bin\"] == 0]\n",
    "exported_lfp_and_sleap = exported_lfp_and_sleap.drop(columns=[col for col in exported_lfp_and_sleap if \"multitaper\" in col], errors=\"ignore\")\n",
    "exported_lfp_and_sleap = exported_lfp_and_sleap.drop(columns=[col for col in exported_lfp_and_sleap if \"thorax_velocity\" in col], errors=\"ignore\")\n",
    "exported_lfp_and_sleap = exported_lfp_and_sleap.drop(columns=[col for col in exported_lfp_and_sleap if \"frequencies\" in col], errors=\"ignore\")\n",
    "exported_lfp_and_sleap = exported_lfp_and_sleap.drop(columns=[col for col in exported_lfp_and_sleap if \"windowed_power\" in col], errors=\"ignore\")\n",
    "exported_lfp_and_sleap = exported_lfp_and_sleap.drop(columns=[col for col in exported_lfp_and_sleap if \"connectivity\" in col], errors=\"ignore\")\n",
    "exported_lfp_and_sleap = exported_lfp_and_sleap.drop(columns=[col for col in exported_lfp_and_sleap if \"spike_interface\" in col], errors=\"ignore\")\n",
    "exported_lfp_and_sleap = exported_lfp_and_sleap.drop(columns=[col for col in exported_lfp_and_sleap if \"index\" in col], errors=\"ignore\")\n",
    "exported_lfp_and_sleap = exported_lfp_and_sleap.drop(columns=[col for col in exported_lfp_and_sleap if \"stamp\" in col], errors=\"ignore\")\n",
    "exported_lfp_and_sleap = exported_lfp_and_sleap.drop(columns=[col for col in exported_lfp_and_sleap if \"box\" in col], errors=\"ignore\")\n",
    "exported_lfp_and_sleap = exported_lfp_and_sleap.drop(columns=[col for col in exported_lfp_and_sleap if \"height\" in col], errors=\"ignore\")\n",
    "exported_lfp_and_sleap = exported_lfp_and_sleap.drop(columns=[col for col in exported_lfp_and_sleap if \"width\" in col], errors=\"ignore\")\n",
    "exported_lfp_and_sleap = exported_lfp_and_sleap.drop(columns=[col for col in exported_lfp_and_sleap if \"ratio\" in col], errors=\"ignore\")\n",
    "exported_lfp_and_sleap = exported_lfp_and_sleap.drop(columns=[col for col in exported_lfp_and_sleap if \"width\" in col], errors=\"ignore\")\n",
    "exported_lfp_and_sleap = exported_lfp_and_sleap.drop(columns=['individual_subj',\n",
    " 'all_subj',\n",
    " 'recording_name',\n",
    " 'track_names',\n",
    " 'subject_id',\n",
    " 'corner_path',\n",
    " 'corner_parts',\n",
    " 'rescaled_locations',\n",
    " 'reward_port'], errors=\"ignore\")"
   ]
  },
  {
   "cell_type": "code",
   "execution_count": null,
   "metadata": {},
   "outputs": [],
   "source": [
    "exported_lfp_and_sleap[\"frequencies\"] = [MERGED_LFP_AND_SLEAP[\"BLA_baseline_frequencies\"].iloc[0] for _ in range(len(exported_lfp_and_sleap))] "
   ]
  },
  {
   "cell_type": "code",
   "execution_count": null,
   "metadata": {},
   "outputs": [],
   "source": [
    "exported_lfp_and_sleap.columns"
   ]
  },
  {
   "cell_type": "code",
   "execution_count": null,
   "metadata": {},
   "outputs": [],
   "source": [
    "exported_lfp_and_sleap.to_pickle(\"./proc/rce_lfp_power_and_velocity_region_col_baselinetrial_row.pkl\")"
   ]
  },
  {
   "cell_type": "code",
   "execution_count": null,
   "metadata": {},
   "outputs": [],
   "source": [
    "exported_lfp_and_sleap"
   ]
  },
  {
   "cell_type": "markdown",
   "metadata": {},
   "source": [
    "# Reformatting the data"
   ]
  },
  {
   "cell_type": "code",
   "execution_count": null,
   "metadata": {},
   "outputs": [],
   "source": [
    "exported_lfp_and_sleap"
   ]
  },
  {
   "cell_type": "code",
   "execution_count": null,
   "metadata": {},
   "outputs": [],
   "source": [
    "window_averaged_power_columns"
   ]
  },
  {
   "cell_type": "code",
   "execution_count": null,
   "metadata": {},
   "outputs": [],
   "source": [
    "exported_lfp_and_sleap = exported_lfp_and_sleap.drop(columns=[col for col in exported_lfp_and_sleap if \"all_window\" in col], errors=\"ignore\")\n"
   ]
  },
  {
   "cell_type": "code",
   "execution_count": null,
   "metadata": {},
   "outputs": [],
   "source": [
    "exported_lfp_and_sleap = pd.melt(exported_lfp_and_sleap, value_vars=window_averaged_power_columns, value_name=\"power\", id_vars=[col for col in exported_lfp_and_sleap.columns if col not in window_averaged_power_columns], var_name=\"region_and_baseline_or_trial\")\n",
    "\n"
   ]
  },
  {
   "cell_type": "code",
   "execution_count": null,
   "metadata": {},
   "outputs": [],
   "source": [
    "exported_lfp_and_sleap[\"brain_region\"] = exported_lfp_and_sleap[\"region_and_baseline_or_trial\"].apply(lambda x: x.split(\"_\")[0].strip())"
   ]
  },
  {
   "cell_type": "code",
   "execution_count": null,
   "metadata": {},
   "outputs": [],
   "source": [
    "exported_lfp_and_sleap[\"trial_or_baseline\"] = exported_lfp_and_sleap[\"region_and_baseline_or_trial\"].apply(lambda x: x.split(\"_\")[1].strip())"
   ]
  },
  {
   "cell_type": "code",
   "execution_count": null,
   "metadata": {},
   "outputs": [],
   "source": [
    "exported_lfp_and_sleap.head()"
   ]
  },
  {
   "cell_type": "code",
   "execution_count": null,
   "metadata": {},
   "outputs": [],
   "source": [
    "exported_lfp_and_sleap = exported_lfp_and_sleap.dropna(subset=\"power\")\n",
    "exported_lfp_and_sleap = exported_lfp_and_sleap[exported_lfp_and_sleap[\"trial_or_baseline\"] == \"trial\"]\n",
    "exported_lfp_and_sleap[\"all_theta_power\"] = exported_lfp_and_sleap[\"power\"].apply(lambda x: x[4:13])\n",
    "exported_lfp_and_sleap[\"all_beta_power\"] = exported_lfp_and_sleap[\"power\"].apply(lambda x: x[13:31])\n",
    "exported_lfp_and_sleap[\"all_gamma_power\"] = exported_lfp_and_sleap[\"power\"].apply(lambda x: x[30:91])\n",
    "exported_lfp_and_sleap[\"mean_theta_power\"] = exported_lfp_and_sleap[\"all_theta_power\"].apply(lambda x: x.mean())\n",
    "exported_lfp_and_sleap[\"mean_beta_power\"] = exported_lfp_and_sleap[\"all_beta_power\"].apply(lambda x: x.mean())\n",
    "exported_lfp_and_sleap[\"mean_gamma_power\"] = exported_lfp_and_sleap[\"all_gamma_power\"].apply(lambda x: x.mean())"
   ]
  },
  {
   "cell_type": "code",
   "execution_count": null,
   "metadata": {},
   "outputs": [],
   "source": [
    "exported_lfp_and_sleap.head()"
   ]
  },
  {
   "cell_type": "code",
   "execution_count": null,
   "metadata": {},
   "outputs": [],
   "source": [
    "exported_lfp_and_sleap"
   ]
  },
  {
   "cell_type": "code",
   "execution_count": null,
   "metadata": {},
   "outputs": [],
   "source": [
    "exported_lfp_and_sleap.to_pickle(\"./proc/rce_velocity_parsed_power_spectra_region_and_baselinetrial_rows.pkl\")"
   ]
  },
  {
   "cell_type": "code",
   "execution_count": null,
   "metadata": {},
   "outputs": [],
   "source": []
  }
 ],
 "metadata": {
  "deepnote": {},
  "deepnote_execution_queue": [],
  "deepnote_notebook_id": "cf8fe3695d074ee7887fdf6459cbf5ce",
  "kernelspec": {
   "display_name": "Python 3 (ipykernel)",
   "language": "python",
   "name": "python3"
  },
  "language_info": {
   "codemirror_mode": {
    "name": "ipython",
    "version": 3
   },
   "file_extension": ".py",
   "mimetype": "text/x-python",
   "name": "python",
   "nbconvert_exporter": "python",
   "pygments_lexer": "ipython3",
   "version": "3.10.13"
  }
 },
 "nbformat": 4,
 "nbformat_minor": 4
}
