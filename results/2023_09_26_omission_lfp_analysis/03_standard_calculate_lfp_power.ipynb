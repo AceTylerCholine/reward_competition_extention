{
 "cells": [
  {
   "cell_type": "markdown",
   "metadata": {
    "cell_id": "c3a02adc9e884466bc8c79db549cc3d2",
    "deepnote_cell_type": "text-cell-h1",
    "formattedRanges": [
     {
      "fromCodePoint": 0,
      "marks": {
       "bold": true,
       "underline": true
      },
      "toCodePoint": 17,
      "type": "marks"
     }
    ]
   },
   "source": [
    "# Title of notebook"
   ]
  },
  {
   "cell_type": "markdown",
   "metadata": {
    "cell_id": "4546bee655b14a5dbf393161f1228e60",
    "deepnote_cell_type": "text-cell-p",
    "formattedRanges": []
   },
   "source": [
    "Brief 1-2 sentence description of notebook."
   ]
  },
  {
   "cell_type": "code",
   "execution_count": 1,
   "metadata": {},
   "outputs": [],
   "source": [
    "import warnings\n",
    "warnings.filterwarnings('ignore')"
   ]
  },
  {
   "cell_type": "code",
   "execution_count": 2,
   "metadata": {},
   "outputs": [],
   "source": [
    "import os"
   ]
  },
  {
   "cell_type": "code",
   "execution_count": 3,
   "metadata": {},
   "outputs": [],
   "source": [
    "os.environ[\"SPECTRAL_CONNECTIVITY_ENABLE_GPU\"] = \"true\"\n",
    "import cupy as cp"
   ]
  },
  {
   "cell_type": "code",
   "execution_count": 4,
   "metadata": {
    "cell_id": "03b495cefa6a4798a44c7f2e4c6a3ea7",
    "deepnote_cell_type": "code",
    "deepnote_to_be_reexecuted": false,
    "execution_millis": 21,
    "execution_start": 1691424003626,
    "source_hash": null
   },
   "outputs": [],
   "source": [
    "# Imports of all used packages and libraries\n",
    "import numpy as np\n",
    "import pandas as pd\n",
    "import matplotlib.pyplot as plt\n",
    "import matplotlib.cm as cm\n",
    "import seaborn as sns\n",
    "from scipy import stats\n",
    "import itertools"
   ]
  },
  {
   "cell_type": "code",
   "execution_count": 5,
   "metadata": {},
   "outputs": [],
   "source": [
    "from spectral_connectivity import Multitaper, Connectivity\n",
    "import spectral_connectivity"
   ]
  },
  {
   "cell_type": "markdown",
   "metadata": {
    "cell_id": "d290bac2c17940bfbc0f9296beaf70e5",
    "deepnote_cell_type": "text-cell-h2",
    "formattedRanges": []
   },
   "source": [
    "## Inputs & Data"
   ]
  },
  {
   "cell_type": "markdown",
   "metadata": {
    "cell_id": "e528ce19c608425292151930d380f49f",
    "deepnote_cell_type": "text-cell-p",
    "formattedRanges": []
   },
   "source": [
    "Explanation of each input and where it comes from."
   ]
  },
  {
   "cell_type": "code",
   "execution_count": 6,
   "metadata": {
    "cell_id": "6cf83a5811054461a718a71673d09aab",
    "deepnote_cell_type": "code",
    "deepnote_to_be_reexecuted": false,
    "execution_millis": 373,
    "execution_start": 1691424003628,
    "source_hash": null
   },
   "outputs": [],
   "source": [
    "# Inputs and Required data loading\n",
    "# input varaible names are in all caps snake case\n",
    "# Whenever an input changes or is used for processing \n",
    "# the vairables are all lower in snake case\n",
    "OUTPUT_DIR = r\"./proc\" # where data is saved should always be shown in the inputs"
   ]
  },
  {
   "cell_type": "code",
   "execution_count": 7,
   "metadata": {},
   "outputs": [],
   "source": [
    "CHANNEL_MAP_AND_ALL_TRIALS_DF = pd.read_pickle(\"./proc/full_baseline_and_trial_lfp_traces.pkl\")\n"
   ]
  },
  {
   "cell_type": "code",
   "execution_count": 8,
   "metadata": {},
   "outputs": [],
   "source": [
    "OUTCOME_TO_COLOR = {'lose': \"red\",\n",
    " 'omission': \"orange\",\n",
    " 'rewarded': \"green\",\n",
    " 'win': \"blue\"}"
   ]
  },
  {
   "cell_type": "code",
   "execution_count": 9,
   "metadata": {},
   "outputs": [],
   "source": [
    "TRIAL_OR_BASELINE_TO_STYLE = {'baseline': \"--\", \"trial\": \"-\"}"
   ]
  },
  {
   "cell_type": "code",
   "execution_count": 10,
   "metadata": {},
   "outputs": [],
   "source": [
    "TIME_HALFBANDWIDTH_PRODUCT = 2\n",
    "TIME_WINDOW_DURATION = 1\n",
    "TIME_WINDOW_STEP = 0.5\n",
    "RESAMPLE_RATE=1000"
   ]
  },
  {
   "cell_type": "markdown",
   "metadata": {
    "cell_id": "e3ee4891d43a4ac287413afc552ca289",
    "deepnote_cell_type": "text-cell-h2",
    "formattedRanges": []
   },
   "source": [
    "## Outputs"
   ]
  },
  {
   "cell_type": "markdown",
   "metadata": {
    "cell_id": "9ccbf6cc70fd4d379fa29317f733771f",
    "deepnote_cell_type": "text-cell-p",
    "formattedRanges": []
   },
   "source": [
    "Describe each output that the notebook creates. "
   ]
  },
  {
   "cell_type": "markdown",
   "metadata": {
    "cell_id": "fc8e8920a6944918a15fac575cdf6e78",
    "deepnote_cell_type": "text-cell-bullet",
    "formattedRanges": []
   },
   "source": [
    "- Is it a plot or is it data?"
   ]
  },
  {
   "cell_type": "markdown",
   "metadata": {
    "cell_id": "1e639d4776a84aa9ac8ded2e14fa57db",
    "deepnote_cell_type": "text-cell-bullet",
    "formattedRanges": []
   },
   "source": [
    "- How valuable is the output and why is it valuable or useful?"
   ]
  },
  {
   "cell_type": "markdown",
   "metadata": {},
   "source": [
    "## Functions "
   ]
  },
  {
   "cell_type": "code",
   "execution_count": null,
   "metadata": {},
   "outputs": [],
   "source": []
  },
  {
   "cell_type": "markdown",
   "metadata": {
    "cell_id": "8999d19b6b7d4d63bc90f0b0bd9ab085",
    "deepnote_cell_type": "text-cell-h2",
    "formattedRanges": []
   },
   "source": [
    "## Processing"
   ]
  },
  {
   "cell_type": "markdown",
   "metadata": {
    "cell_id": "9b36cdf08567463082b005cb0dec684b",
    "deepnote_cell_type": "text-cell-p",
    "formattedRanges": []
   },
   "source": [
    "Describe what is done to the data here and how inputs are manipulated to generate outputs. "
   ]
  },
  {
   "cell_type": "code",
   "execution_count": 11,
   "metadata": {
    "cell_id": "89aaba237c644628b1b37604b75e7cb1",
    "deepnote_cell_type": "code"
   },
   "outputs": [],
   "source": [
    "# As much code and as many cells as required\n",
    "# includes EDA and playing with data\n",
    "# GO HAM!\n",
    "\n",
    "# Ideally functions are defined here first and then data is processed using the functions\n",
    "\n",
    "# function names are short and in snake case all lowercase\n",
    "# a function name should be unique but does not have to describe the function\n",
    "# doc strings describe functions not function names\n",
    "\n",
    "\n"
   ]
  },
  {
   "cell_type": "code",
   "execution_count": 12,
   "metadata": {},
   "outputs": [
    {
     "data": {
      "text/plain": [
       "Index(['time', 'recording_dir', 'recording_file', 'time_stamp_index',\n",
       "       'video_file', 'video_frame', 'video_number', 'subject_info',\n",
       "       'competition_closeness', 'video_name', 'all_subjects',\n",
       "       'current_subject', 'trial_outcome', 'lfp_index',\n",
       "       'baseline_lfp_timestamp_range', 'trial_lfp_timestamp_range',\n",
       "       'baseline_ephys_timestamp_range', 'trial_ephys_timestamp_range',\n",
       "       'baseline_videoframe_range', 'trial_videoframe_range', 'trial_number',\n",
       "       'Cohort', 'spike_interface_mPFC', 'spike_interface_vHPC',\n",
       "       'spike_interface_BLA', 'spike_interface_LH', 'spike_interface_MD',\n",
       "       'mPFC_baseline_lfp_trace', 'mPFC_trial_lfp_trace',\n",
       "       'vHPC_baseline_lfp_trace', 'vHPC_trial_lfp_trace',\n",
       "       'BLA_baseline_lfp_trace', 'BLA_trial_lfp_trace',\n",
       "       'LH_baseline_lfp_trace', 'LH_trial_lfp_trace', 'MD_baseline_lfp_trace',\n",
       "       'MD_trial_lfp_trace'],\n",
       "      dtype='object')"
      ]
     },
     "execution_count": 12,
     "metadata": {},
     "output_type": "execute_result"
    }
   ],
   "source": [
    "CHANNEL_MAP_AND_ALL_TRIALS_DF.columns"
   ]
  },
  {
   "cell_type": "code",
   "execution_count": 13,
   "metadata": {},
   "outputs": [],
   "source": [
    "CHANNEL_MAP_AND_ALL_TRIALS_DF = CHANNEL_MAP_AND_ALL_TRIALS_DF.drop_duplicates([\"recording_file\", \"time\", \"current_subject\"])"
   ]
  },
  {
   "cell_type": "code",
   "execution_count": 14,
   "metadata": {},
   "outputs": [
    {
     "data": {
      "text/html": [
       "<div>\n",
       "<style scoped>\n",
       "    .dataframe tbody tr th:only-of-type {\n",
       "        vertical-align: middle;\n",
       "    }\n",
       "\n",
       "    .dataframe tbody tr th {\n",
       "        vertical-align: top;\n",
       "    }\n",
       "\n",
       "    .dataframe thead th {\n",
       "        text-align: right;\n",
       "    }\n",
       "</style>\n",
       "<table border=\"1\" class=\"dataframe\">\n",
       "  <thead>\n",
       "    <tr style=\"text-align: right;\">\n",
       "      <th></th>\n",
       "      <th>time</th>\n",
       "      <th>recording_dir</th>\n",
       "      <th>recording_file</th>\n",
       "      <th>time_stamp_index</th>\n",
       "      <th>video_file</th>\n",
       "      <th>video_frame</th>\n",
       "      <th>video_number</th>\n",
       "      <th>subject_info</th>\n",
       "      <th>competition_closeness</th>\n",
       "      <th>video_name</th>\n",
       "      <th>...</th>\n",
       "      <th>mPFC_baseline_lfp_trace</th>\n",
       "      <th>mPFC_trial_lfp_trace</th>\n",
       "      <th>vHPC_baseline_lfp_trace</th>\n",
       "      <th>vHPC_trial_lfp_trace</th>\n",
       "      <th>BLA_baseline_lfp_trace</th>\n",
       "      <th>BLA_trial_lfp_trace</th>\n",
       "      <th>LH_baseline_lfp_trace</th>\n",
       "      <th>LH_trial_lfp_trace</th>\n",
       "      <th>MD_baseline_lfp_trace</th>\n",
       "      <th>MD_trial_lfp_trace</th>\n",
       "    </tr>\n",
       "  </thead>\n",
       "  <tbody>\n",
       "    <tr>\n",
       "      <th>0</th>\n",
       "      <td>6310663</td>\n",
       "      <td>20221202_134600_omission_and_competition_subje...</td>\n",
       "      <td>20221202_134600_omission_and_competition_subje...</td>\n",
       "      <td>1390826</td>\n",
       "      <td>20221202_134600_omission_and_competition_subje...</td>\n",
       "      <td>1734</td>\n",
       "      <td>1.0</td>\n",
       "      <td>6_1_top_2_base_3</td>\n",
       "      <td>rewarded</td>\n",
       "      <td>20221202_134600_omission_and_competition_subje...</td>\n",
       "      <td>...</td>\n",
       "      <td>[1.8457601, 1.7363818, 1.6475118, 1.59738, 1.2...</td>\n",
       "      <td>[0.6927297, 0.96389693, 0.7884358, -0.04101689...</td>\n",
       "      <td>[-0.06969439, -0.09568214, -0.05315674, 0.1571...</td>\n",
       "      <td>[1.5864334, 1.5710771, 1.5970649, 1.2155175, 0...</td>\n",
       "      <td>[2.0367627, 2.1163385, 2.1618104, 2.2679114, 2...</td>\n",
       "      <td>[0.3164087, 0.36377528, 0.18757163, -0.5020857...</td>\n",
       "      <td>[3.1382985, 3.2319791, 3.2788196, 3.2881875, 3...</td>\n",
       "      <td>[0.8118982, 1.2209699, 0.87435186, -0.4028264,...</td>\n",
       "      <td>[1.3934726, 1.494771, 1.764077, 1.828315, 1.68...</td>\n",
       "      <td>[-0.9783956, -0.86721426, -0.7288553, -1.40582...</td>\n",
       "    </tr>\n",
       "    <tr>\n",
       "      <th>1</th>\n",
       "      <td>7910662</td>\n",
       "      <td>20221202_134600_omission_and_competition_subje...</td>\n",
       "      <td>20221202_134600_omission_and_competition_subje...</td>\n",
       "      <td>2990825</td>\n",
       "      <td>20221202_134600_omission_and_competition_subje...</td>\n",
       "      <td>3728</td>\n",
       "      <td>1.0</td>\n",
       "      <td>6_1_top_2_base_3</td>\n",
       "      <td>rewarded</td>\n",
       "      <td>20221202_134600_omission_and_competition_subje...</td>\n",
       "      <td>...</td>\n",
       "      <td>[1.2191132, 1.1348007, 1.2054409, 1.0960625, 0...</td>\n",
       "      <td>[1.0732753, 0.7246318, 0.7633699, 0.3782669, -...</td>\n",
       "      <td>[0.31539667, 0.23152715, 0.29767776, 0.4217101...</td>\n",
       "      <td>[0.03543783, -0.27641505, -0.40044746, -0.6638...</td>\n",
       "      <td>[0.3107247, 0.14209972, -0.05873455, -0.331566...</td>\n",
       "      <td>[0.026525281, -0.04547191, 0.11936376, -0.4092...</td>\n",
       "      <td>[-1.180375, -1.2959143, -1.3771042, -1.458294,...</td>\n",
       "      <td>[0.9492963, 0.46840277, 0.6713773, 0.043717593...</td>\n",
       "      <td>[-0.14577106, -0.16059524, 0.027177656, 0.1680...</td>\n",
       "      <td>[1.6281886, 1.349, 1.4675934, 0.9487473, -0.21...</td>\n",
       "    </tr>\n",
       "    <tr>\n",
       "      <th>2</th>\n",
       "      <td>9710660</td>\n",
       "      <td>20221202_134600_omission_and_competition_subje...</td>\n",
       "      <td>20221202_134600_omission_and_competition_subje...</td>\n",
       "      <td>4790823</td>\n",
       "      <td>20221202_134600_omission_and_competition_subje...</td>\n",
       "      <td>5972</td>\n",
       "      <td>1.0</td>\n",
       "      <td>6_1_top_2_base_3</td>\n",
       "      <td>rewarded</td>\n",
       "      <td>20221202_134600_omission_and_competition_subje...</td>\n",
       "      <td>...</td>\n",
       "      <td>[-1.2669662, -1.2965895, -1.2532939, -0.986684...</td>\n",
       "      <td>[0.28711826, 0.84996116, 1.0960625, 0.8226166,...</td>\n",
       "      <td>[-1.2556804, -1.2580429, -1.3312811, -1.118654...</td>\n",
       "      <td>[0.060244307, 0.4748669, 0.7654571, 0.6591436,...</td>\n",
       "      <td>[-1.9912907, -1.9041362, -1.9325562, -1.542255...</td>\n",
       "      <td>[0.69344664, 1.4001559, 1.7582471, 1.4304705, ...</td>\n",
       "      <td>[-0.19985186, -0.074944444, -0.18423842, -0.13...</td>\n",
       "      <td>[-0.59643286, 0.27167362, 0.6901134, 0.4371759...</td>\n",
       "      <td>[-0.32119048, -0.52872896, -0.96851283, -0.753...</td>\n",
       "      <td>[0.096357144, 0.88450915, 1.2131118, 0.8943919...</td>\n",
       "    </tr>\n",
       "    <tr>\n",
       "      <th>3</th>\n",
       "      <td>11310658</td>\n",
       "      <td>20221202_134600_omission_and_competition_subje...</td>\n",
       "      <td>20221202_134600_omission_and_competition_subje...</td>\n",
       "      <td>6390821</td>\n",
       "      <td>20221202_134600_omission_and_competition_subje...</td>\n",
       "      <td>7966</td>\n",
       "      <td>1.0</td>\n",
       "      <td>6_1_top_2_base_3</td>\n",
       "      <td>omission</td>\n",
       "      <td>20221202_134600_omission_and_competition_subje...</td>\n",
       "      <td>...</td>\n",
       "      <td>[-2.0257788, -2.0348935, -1.9323514, -1.754611...</td>\n",
       "      <td>[2.376701, 2.3015034, 1.7796774, 0.9411098, 0....</td>\n",
       "      <td>[0.16655779, 0.42879772, 0.66268736, 0.6934002...</td>\n",
       "      <td>[-1.8427671, -2.303459, -2.6802812, -3.060647,...</td>\n",
       "      <td>[-1.2637402, -1.0382752, -0.82986236, -0.74649...</td>\n",
       "      <td>[2.6771586, 2.3929594, 2.209177, 1.9761335, 1....</td>\n",
       "      <td>[-2.538743, -2.1983705, -1.8673657, -1.7143542...</td>\n",
       "      <td>[2.8447661, 2.3045416, 1.5301157, 0.96490973, ...</td>\n",
       "      <td>[-2.7647088, -2.5546997, -2.3051593, -2.055619...</td>\n",
       "      <td>[2.087738, 1.7418406, 1.1266373, 0.45954946, 0...</td>\n",
       "    </tr>\n",
       "    <tr>\n",
       "      <th>4</th>\n",
       "      <td>12810657</td>\n",
       "      <td>20221202_134600_omission_and_competition_subje...</td>\n",
       "      <td>20221202_134600_omission_and_competition_subje...</td>\n",
       "      <td>7890820</td>\n",
       "      <td>20221202_134600_omission_and_competition_subje...</td>\n",
       "      <td>9836</td>\n",
       "      <td>1.0</td>\n",
       "      <td>6_1_top_2_base_3</td>\n",
       "      <td>rewarded</td>\n",
       "      <td>20221202_134600_omission_and_competition_subje...</td>\n",
       "      <td>...</td>\n",
       "      <td>[-0.5765152, 0.25749493, 0.6403192, 0.4375135,...</td>\n",
       "      <td>[-0.043295607, 0.73602533, 0.31674156, 0.07747...</td>\n",
       "      <td>[-0.31421542, 0.19727057, 0.4453354, 0.3744597...</td>\n",
       "      <td>[0.21617076, 0.8221576, 0.58236164, 0.43116024...</td>\n",
       "      <td>[-2.1352851, -2.0576038, -2.0822346, -2.140969...</td>\n",
       "      <td>[-0.18188764, 0.113679774, -0.66123736, -0.935...</td>\n",
       "      <td>[-2.1671436, -1.4832754, -1.0554676, -1.130412...</td>\n",
       "      <td>[0.5339792, 1.5113796, 0.57145137, -0.02810416...</td>\n",
       "      <td>[-2.0111465, -1.714663, -1.4255916, -1.3662949...</td>\n",
       "      <td>[0.31871977, 1.008044, 0.25942308, -0.22730403...</td>\n",
       "    </tr>\n",
       "  </tbody>\n",
       "</table>\n",
       "<p>5 rows × 37 columns</p>\n",
       "</div>"
      ],
      "text/plain": [
       "       time                                      recording_dir  \\\n",
       "0   6310663  20221202_134600_omission_and_competition_subje...   \n",
       "1   7910662  20221202_134600_omission_and_competition_subje...   \n",
       "2   9710660  20221202_134600_omission_and_competition_subje...   \n",
       "3  11310658  20221202_134600_omission_and_competition_subje...   \n",
       "4  12810657  20221202_134600_omission_and_competition_subje...   \n",
       "\n",
       "                                      recording_file  time_stamp_index  \\\n",
       "0  20221202_134600_omission_and_competition_subje...           1390826   \n",
       "1  20221202_134600_omission_and_competition_subje...           2990825   \n",
       "2  20221202_134600_omission_and_competition_subje...           4790823   \n",
       "3  20221202_134600_omission_and_competition_subje...           6390821   \n",
       "4  20221202_134600_omission_and_competition_subje...           7890820   \n",
       "\n",
       "                                          video_file  video_frame  \\\n",
       "0  20221202_134600_omission_and_competition_subje...         1734   \n",
       "1  20221202_134600_omission_and_competition_subje...         3728   \n",
       "2  20221202_134600_omission_and_competition_subje...         5972   \n",
       "3  20221202_134600_omission_and_competition_subje...         7966   \n",
       "4  20221202_134600_omission_and_competition_subje...         9836   \n",
       "\n",
       "   video_number      subject_info competition_closeness  \\\n",
       "0           1.0  6_1_top_2_base_3              rewarded   \n",
       "1           1.0  6_1_top_2_base_3              rewarded   \n",
       "2           1.0  6_1_top_2_base_3              rewarded   \n",
       "3           1.0  6_1_top_2_base_3              omission   \n",
       "4           1.0  6_1_top_2_base_3              rewarded   \n",
       "\n",
       "                                          video_name  ...  \\\n",
       "0  20221202_134600_omission_and_competition_subje...  ...   \n",
       "1  20221202_134600_omission_and_competition_subje...  ...   \n",
       "2  20221202_134600_omission_and_competition_subje...  ...   \n",
       "3  20221202_134600_omission_and_competition_subje...  ...   \n",
       "4  20221202_134600_omission_and_competition_subje...  ...   \n",
       "\n",
       "                             mPFC_baseline_lfp_trace  \\\n",
       "0  [1.8457601, 1.7363818, 1.6475118, 1.59738, 1.2...   \n",
       "1  [1.2191132, 1.1348007, 1.2054409, 1.0960625, 0...   \n",
       "2  [-1.2669662, -1.2965895, -1.2532939, -0.986684...   \n",
       "3  [-2.0257788, -2.0348935, -1.9323514, -1.754611...   \n",
       "4  [-0.5765152, 0.25749493, 0.6403192, 0.4375135,...   \n",
       "\n",
       "                                mPFC_trial_lfp_trace  \\\n",
       "0  [0.6927297, 0.96389693, 0.7884358, -0.04101689...   \n",
       "1  [1.0732753, 0.7246318, 0.7633699, 0.3782669, -...   \n",
       "2  [0.28711826, 0.84996116, 1.0960625, 0.8226166,...   \n",
       "3  [2.376701, 2.3015034, 1.7796774, 0.9411098, 0....   \n",
       "4  [-0.043295607, 0.73602533, 0.31674156, 0.07747...   \n",
       "\n",
       "                             vHPC_baseline_lfp_trace  \\\n",
       "0  [-0.06969439, -0.09568214, -0.05315674, 0.1571...   \n",
       "1  [0.31539667, 0.23152715, 0.29767776, 0.4217101...   \n",
       "2  [-1.2556804, -1.2580429, -1.3312811, -1.118654...   \n",
       "3  [0.16655779, 0.42879772, 0.66268736, 0.6934002...   \n",
       "4  [-0.31421542, 0.19727057, 0.4453354, 0.3744597...   \n",
       "\n",
       "                                vHPC_trial_lfp_trace  \\\n",
       "0  [1.5864334, 1.5710771, 1.5970649, 1.2155175, 0...   \n",
       "1  [0.03543783, -0.27641505, -0.40044746, -0.6638...   \n",
       "2  [0.060244307, 0.4748669, 0.7654571, 0.6591436,...   \n",
       "3  [-1.8427671, -2.303459, -2.6802812, -3.060647,...   \n",
       "4  [0.21617076, 0.8221576, 0.58236164, 0.43116024...   \n",
       "\n",
       "                              BLA_baseline_lfp_trace  \\\n",
       "0  [2.0367627, 2.1163385, 2.1618104, 2.2679114, 2...   \n",
       "1  [0.3107247, 0.14209972, -0.05873455, -0.331566...   \n",
       "2  [-1.9912907, -1.9041362, -1.9325562, -1.542255...   \n",
       "3  [-1.2637402, -1.0382752, -0.82986236, -0.74649...   \n",
       "4  [-2.1352851, -2.0576038, -2.0822346, -2.140969...   \n",
       "\n",
       "                                 BLA_trial_lfp_trace  \\\n",
       "0  [0.3164087, 0.36377528, 0.18757163, -0.5020857...   \n",
       "1  [0.026525281, -0.04547191, 0.11936376, -0.4092...   \n",
       "2  [0.69344664, 1.4001559, 1.7582471, 1.4304705, ...   \n",
       "3  [2.6771586, 2.3929594, 2.209177, 1.9761335, 1....   \n",
       "4  [-0.18188764, 0.113679774, -0.66123736, -0.935...   \n",
       "\n",
       "                               LH_baseline_lfp_trace  \\\n",
       "0  [3.1382985, 3.2319791, 3.2788196, 3.2881875, 3...   \n",
       "1  [-1.180375, -1.2959143, -1.3771042, -1.458294,...   \n",
       "2  [-0.19985186, -0.074944444, -0.18423842, -0.13...   \n",
       "3  [-2.538743, -2.1983705, -1.8673657, -1.7143542...   \n",
       "4  [-2.1671436, -1.4832754, -1.0554676, -1.130412...   \n",
       "\n",
       "                                  LH_trial_lfp_trace  \\\n",
       "0  [0.8118982, 1.2209699, 0.87435186, -0.4028264,...   \n",
       "1  [0.9492963, 0.46840277, 0.6713773, 0.043717593...   \n",
       "2  [-0.59643286, 0.27167362, 0.6901134, 0.4371759...   \n",
       "3  [2.8447661, 2.3045416, 1.5301157, 0.96490973, ...   \n",
       "4  [0.5339792, 1.5113796, 0.57145137, -0.02810416...   \n",
       "\n",
       "                               MD_baseline_lfp_trace  \\\n",
       "0  [1.3934726, 1.494771, 1.764077, 1.828315, 1.68...   \n",
       "1  [-0.14577106, -0.16059524, 0.027177656, 0.1680...   \n",
       "2  [-0.32119048, -0.52872896, -0.96851283, -0.753...   \n",
       "3  [-2.7647088, -2.5546997, -2.3051593, -2.055619...   \n",
       "4  [-2.0111465, -1.714663, -1.4255916, -1.3662949...   \n",
       "\n",
       "                                  MD_trial_lfp_trace  \n",
       "0  [-0.9783956, -0.86721426, -0.7288553, -1.40582...  \n",
       "1  [1.6281886, 1.349, 1.4675934, 0.9487473, -0.21...  \n",
       "2  [0.096357144, 0.88450915, 1.2131118, 0.8943919...  \n",
       "3  [2.087738, 1.7418406, 1.1266373, 0.45954946, 0...  \n",
       "4  [0.31871977, 1.008044, 0.25942308, -0.22730403...  \n",
       "\n",
       "[5 rows x 37 columns]"
      ]
     },
     "execution_count": 14,
     "metadata": {},
     "output_type": "execute_result"
    }
   ],
   "source": [
    "CHANNEL_MAP_AND_ALL_TRIALS_DF.head()"
   ]
  },
  {
   "cell_type": "code",
   "execution_count": 15,
   "metadata": {},
   "outputs": [
    {
     "data": {
      "text/html": [
       "<div>\n",
       "<style scoped>\n",
       "    .dataframe tbody tr th:only-of-type {\n",
       "        vertical-align: middle;\n",
       "    }\n",
       "\n",
       "    .dataframe tbody tr th {\n",
       "        vertical-align: top;\n",
       "    }\n",
       "\n",
       "    .dataframe thead th {\n",
       "        text-align: right;\n",
       "    }\n",
       "</style>\n",
       "<table border=\"1\" class=\"dataframe\">\n",
       "  <thead>\n",
       "    <tr style=\"text-align: right;\">\n",
       "      <th></th>\n",
       "      <th>time</th>\n",
       "      <th>recording_dir</th>\n",
       "      <th>recording_file</th>\n",
       "      <th>time_stamp_index</th>\n",
       "      <th>video_file</th>\n",
       "      <th>video_frame</th>\n",
       "      <th>video_number</th>\n",
       "      <th>subject_info</th>\n",
       "      <th>competition_closeness</th>\n",
       "      <th>video_name</th>\n",
       "      <th>...</th>\n",
       "      <th>mPFC_baseline_lfp_trace</th>\n",
       "      <th>mPFC_trial_lfp_trace</th>\n",
       "      <th>vHPC_baseline_lfp_trace</th>\n",
       "      <th>vHPC_trial_lfp_trace</th>\n",
       "      <th>BLA_baseline_lfp_trace</th>\n",
       "      <th>BLA_trial_lfp_trace</th>\n",
       "      <th>LH_baseline_lfp_trace</th>\n",
       "      <th>LH_trial_lfp_trace</th>\n",
       "      <th>MD_baseline_lfp_trace</th>\n",
       "      <th>MD_trial_lfp_trace</th>\n",
       "    </tr>\n",
       "  </thead>\n",
       "  <tbody>\n",
       "    <tr>\n",
       "      <th>0</th>\n",
       "      <td>6310663</td>\n",
       "      <td>20221202_134600_omission_and_competition_subje...</td>\n",
       "      <td>20221202_134600_omission_and_competition_subje...</td>\n",
       "      <td>1390826</td>\n",
       "      <td>20221202_134600_omission_and_competition_subje...</td>\n",
       "      <td>1734</td>\n",
       "      <td>1.0</td>\n",
       "      <td>6_1_top_2_base_3</td>\n",
       "      <td>rewarded</td>\n",
       "      <td>20221202_134600_omission_and_competition_subje...</td>\n",
       "      <td>...</td>\n",
       "      <td>[1.8457601, 1.7363818, 1.6475118, 1.59738, 1.2...</td>\n",
       "      <td>[0.6927297, 0.96389693, 0.7884358, -0.04101689...</td>\n",
       "      <td>[-0.06969439, -0.09568214, -0.05315674, 0.1571...</td>\n",
       "      <td>[1.5864334, 1.5710771, 1.5970649, 1.2155175, 0...</td>\n",
       "      <td>[2.0367627, 2.1163385, 2.1618104, 2.2679114, 2...</td>\n",
       "      <td>[0.3164087, 0.36377528, 0.18757163, -0.5020857...</td>\n",
       "      <td>[3.1382985, 3.2319791, 3.2788196, 3.2881875, 3...</td>\n",
       "      <td>[0.8118982, 1.2209699, 0.87435186, -0.4028264,...</td>\n",
       "      <td>[1.3934726, 1.494771, 1.764077, 1.828315, 1.68...</td>\n",
       "      <td>[-0.9783956, -0.86721426, -0.7288553, -1.40582...</td>\n",
       "    </tr>\n",
       "    <tr>\n",
       "      <th>1</th>\n",
       "      <td>7910662</td>\n",
       "      <td>20221202_134600_omission_and_competition_subje...</td>\n",
       "      <td>20221202_134600_omission_and_competition_subje...</td>\n",
       "      <td>2990825</td>\n",
       "      <td>20221202_134600_omission_and_competition_subje...</td>\n",
       "      <td>3728</td>\n",
       "      <td>1.0</td>\n",
       "      <td>6_1_top_2_base_3</td>\n",
       "      <td>rewarded</td>\n",
       "      <td>20221202_134600_omission_and_competition_subje...</td>\n",
       "      <td>...</td>\n",
       "      <td>[1.2191132, 1.1348007, 1.2054409, 1.0960625, 0...</td>\n",
       "      <td>[1.0732753, 0.7246318, 0.7633699, 0.3782669, -...</td>\n",
       "      <td>[0.31539667, 0.23152715, 0.29767776, 0.4217101...</td>\n",
       "      <td>[0.03543783, -0.27641505, -0.40044746, -0.6638...</td>\n",
       "      <td>[0.3107247, 0.14209972, -0.05873455, -0.331566...</td>\n",
       "      <td>[0.026525281, -0.04547191, 0.11936376, -0.4092...</td>\n",
       "      <td>[-1.180375, -1.2959143, -1.3771042, -1.458294,...</td>\n",
       "      <td>[0.9492963, 0.46840277, 0.6713773, 0.043717593...</td>\n",
       "      <td>[-0.14577106, -0.16059524, 0.027177656, 0.1680...</td>\n",
       "      <td>[1.6281886, 1.349, 1.4675934, 0.9487473, -0.21...</td>\n",
       "    </tr>\n",
       "    <tr>\n",
       "      <th>2</th>\n",
       "      <td>9710660</td>\n",
       "      <td>20221202_134600_omission_and_competition_subje...</td>\n",
       "      <td>20221202_134600_omission_and_competition_subje...</td>\n",
       "      <td>4790823</td>\n",
       "      <td>20221202_134600_omission_and_competition_subje...</td>\n",
       "      <td>5972</td>\n",
       "      <td>1.0</td>\n",
       "      <td>6_1_top_2_base_3</td>\n",
       "      <td>rewarded</td>\n",
       "      <td>20221202_134600_omission_and_competition_subje...</td>\n",
       "      <td>...</td>\n",
       "      <td>[-1.2669662, -1.2965895, -1.2532939, -0.986684...</td>\n",
       "      <td>[0.28711826, 0.84996116, 1.0960625, 0.8226166,...</td>\n",
       "      <td>[-1.2556804, -1.2580429, -1.3312811, -1.118654...</td>\n",
       "      <td>[0.060244307, 0.4748669, 0.7654571, 0.6591436,...</td>\n",
       "      <td>[-1.9912907, -1.9041362, -1.9325562, -1.542255...</td>\n",
       "      <td>[0.69344664, 1.4001559, 1.7582471, 1.4304705, ...</td>\n",
       "      <td>[-0.19985186, -0.074944444, -0.18423842, -0.13...</td>\n",
       "      <td>[-0.59643286, 0.27167362, 0.6901134, 0.4371759...</td>\n",
       "      <td>[-0.32119048, -0.52872896, -0.96851283, -0.753...</td>\n",
       "      <td>[0.096357144, 0.88450915, 1.2131118, 0.8943919...</td>\n",
       "    </tr>\n",
       "    <tr>\n",
       "      <th>3</th>\n",
       "      <td>11310658</td>\n",
       "      <td>20221202_134600_omission_and_competition_subje...</td>\n",
       "      <td>20221202_134600_omission_and_competition_subje...</td>\n",
       "      <td>6390821</td>\n",
       "      <td>20221202_134600_omission_and_competition_subje...</td>\n",
       "      <td>7966</td>\n",
       "      <td>1.0</td>\n",
       "      <td>6_1_top_2_base_3</td>\n",
       "      <td>omission</td>\n",
       "      <td>20221202_134600_omission_and_competition_subje...</td>\n",
       "      <td>...</td>\n",
       "      <td>[-2.0257788, -2.0348935, -1.9323514, -1.754611...</td>\n",
       "      <td>[2.376701, 2.3015034, 1.7796774, 0.9411098, 0....</td>\n",
       "      <td>[0.16655779, 0.42879772, 0.66268736, 0.6934002...</td>\n",
       "      <td>[-1.8427671, -2.303459, -2.6802812, -3.060647,...</td>\n",
       "      <td>[-1.2637402, -1.0382752, -0.82986236, -0.74649...</td>\n",
       "      <td>[2.6771586, 2.3929594, 2.209177, 1.9761335, 1....</td>\n",
       "      <td>[-2.538743, -2.1983705, -1.8673657, -1.7143542...</td>\n",
       "      <td>[2.8447661, 2.3045416, 1.5301157, 0.96490973, ...</td>\n",
       "      <td>[-2.7647088, -2.5546997, -2.3051593, -2.055619...</td>\n",
       "      <td>[2.087738, 1.7418406, 1.1266373, 0.45954946, 0...</td>\n",
       "    </tr>\n",
       "    <tr>\n",
       "      <th>4</th>\n",
       "      <td>12810657</td>\n",
       "      <td>20221202_134600_omission_and_competition_subje...</td>\n",
       "      <td>20221202_134600_omission_and_competition_subje...</td>\n",
       "      <td>7890820</td>\n",
       "      <td>20221202_134600_omission_and_competition_subje...</td>\n",
       "      <td>9836</td>\n",
       "      <td>1.0</td>\n",
       "      <td>6_1_top_2_base_3</td>\n",
       "      <td>rewarded</td>\n",
       "      <td>20221202_134600_omission_and_competition_subje...</td>\n",
       "      <td>...</td>\n",
       "      <td>[-0.5765152, 0.25749493, 0.6403192, 0.4375135,...</td>\n",
       "      <td>[-0.043295607, 0.73602533, 0.31674156, 0.07747...</td>\n",
       "      <td>[-0.31421542, 0.19727057, 0.4453354, 0.3744597...</td>\n",
       "      <td>[0.21617076, 0.8221576, 0.58236164, 0.43116024...</td>\n",
       "      <td>[-2.1352851, -2.0576038, -2.0822346, -2.140969...</td>\n",
       "      <td>[-0.18188764, 0.113679774, -0.66123736, -0.935...</td>\n",
       "      <td>[-2.1671436, -1.4832754, -1.0554676, -1.130412...</td>\n",
       "      <td>[0.5339792, 1.5113796, 0.57145137, -0.02810416...</td>\n",
       "      <td>[-2.0111465, -1.714663, -1.4255916, -1.3662949...</td>\n",
       "      <td>[0.31871977, 1.008044, 0.25942308, -0.22730403...</td>\n",
       "    </tr>\n",
       "  </tbody>\n",
       "</table>\n",
       "<p>5 rows × 37 columns</p>\n",
       "</div>"
      ],
      "text/plain": [
       "       time                                      recording_dir  \\\n",
       "0   6310663  20221202_134600_omission_and_competition_subje...   \n",
       "1   7910662  20221202_134600_omission_and_competition_subje...   \n",
       "2   9710660  20221202_134600_omission_and_competition_subje...   \n",
       "3  11310658  20221202_134600_omission_and_competition_subje...   \n",
       "4  12810657  20221202_134600_omission_and_competition_subje...   \n",
       "\n",
       "                                      recording_file  time_stamp_index  \\\n",
       "0  20221202_134600_omission_and_competition_subje...           1390826   \n",
       "1  20221202_134600_omission_and_competition_subje...           2990825   \n",
       "2  20221202_134600_omission_and_competition_subje...           4790823   \n",
       "3  20221202_134600_omission_and_competition_subje...           6390821   \n",
       "4  20221202_134600_omission_and_competition_subje...           7890820   \n",
       "\n",
       "                                          video_file  video_frame  \\\n",
       "0  20221202_134600_omission_and_competition_subje...         1734   \n",
       "1  20221202_134600_omission_and_competition_subje...         3728   \n",
       "2  20221202_134600_omission_and_competition_subje...         5972   \n",
       "3  20221202_134600_omission_and_competition_subje...         7966   \n",
       "4  20221202_134600_omission_and_competition_subje...         9836   \n",
       "\n",
       "   video_number      subject_info competition_closeness  \\\n",
       "0           1.0  6_1_top_2_base_3              rewarded   \n",
       "1           1.0  6_1_top_2_base_3              rewarded   \n",
       "2           1.0  6_1_top_2_base_3              rewarded   \n",
       "3           1.0  6_1_top_2_base_3              omission   \n",
       "4           1.0  6_1_top_2_base_3              rewarded   \n",
       "\n",
       "                                          video_name  ...  \\\n",
       "0  20221202_134600_omission_and_competition_subje...  ...   \n",
       "1  20221202_134600_omission_and_competition_subje...  ...   \n",
       "2  20221202_134600_omission_and_competition_subje...  ...   \n",
       "3  20221202_134600_omission_and_competition_subje...  ...   \n",
       "4  20221202_134600_omission_and_competition_subje...  ...   \n",
       "\n",
       "                             mPFC_baseline_lfp_trace  \\\n",
       "0  [1.8457601, 1.7363818, 1.6475118, 1.59738, 1.2...   \n",
       "1  [1.2191132, 1.1348007, 1.2054409, 1.0960625, 0...   \n",
       "2  [-1.2669662, -1.2965895, -1.2532939, -0.986684...   \n",
       "3  [-2.0257788, -2.0348935, -1.9323514, -1.754611...   \n",
       "4  [-0.5765152, 0.25749493, 0.6403192, 0.4375135,...   \n",
       "\n",
       "                                mPFC_trial_lfp_trace  \\\n",
       "0  [0.6927297, 0.96389693, 0.7884358, -0.04101689...   \n",
       "1  [1.0732753, 0.7246318, 0.7633699, 0.3782669, -...   \n",
       "2  [0.28711826, 0.84996116, 1.0960625, 0.8226166,...   \n",
       "3  [2.376701, 2.3015034, 1.7796774, 0.9411098, 0....   \n",
       "4  [-0.043295607, 0.73602533, 0.31674156, 0.07747...   \n",
       "\n",
       "                             vHPC_baseline_lfp_trace  \\\n",
       "0  [-0.06969439, -0.09568214, -0.05315674, 0.1571...   \n",
       "1  [0.31539667, 0.23152715, 0.29767776, 0.4217101...   \n",
       "2  [-1.2556804, -1.2580429, -1.3312811, -1.118654...   \n",
       "3  [0.16655779, 0.42879772, 0.66268736, 0.6934002...   \n",
       "4  [-0.31421542, 0.19727057, 0.4453354, 0.3744597...   \n",
       "\n",
       "                                vHPC_trial_lfp_trace  \\\n",
       "0  [1.5864334, 1.5710771, 1.5970649, 1.2155175, 0...   \n",
       "1  [0.03543783, -0.27641505, -0.40044746, -0.6638...   \n",
       "2  [0.060244307, 0.4748669, 0.7654571, 0.6591436,...   \n",
       "3  [-1.8427671, -2.303459, -2.6802812, -3.060647,...   \n",
       "4  [0.21617076, 0.8221576, 0.58236164, 0.43116024...   \n",
       "\n",
       "                              BLA_baseline_lfp_trace  \\\n",
       "0  [2.0367627, 2.1163385, 2.1618104, 2.2679114, 2...   \n",
       "1  [0.3107247, 0.14209972, -0.05873455, -0.331566...   \n",
       "2  [-1.9912907, -1.9041362, -1.9325562, -1.542255...   \n",
       "3  [-1.2637402, -1.0382752, -0.82986236, -0.74649...   \n",
       "4  [-2.1352851, -2.0576038, -2.0822346, -2.140969...   \n",
       "\n",
       "                                 BLA_trial_lfp_trace  \\\n",
       "0  [0.3164087, 0.36377528, 0.18757163, -0.5020857...   \n",
       "1  [0.026525281, -0.04547191, 0.11936376, -0.4092...   \n",
       "2  [0.69344664, 1.4001559, 1.7582471, 1.4304705, ...   \n",
       "3  [2.6771586, 2.3929594, 2.209177, 1.9761335, 1....   \n",
       "4  [-0.18188764, 0.113679774, -0.66123736, -0.935...   \n",
       "\n",
       "                               LH_baseline_lfp_trace  \\\n",
       "0  [3.1382985, 3.2319791, 3.2788196, 3.2881875, 3...   \n",
       "1  [-1.180375, -1.2959143, -1.3771042, -1.458294,...   \n",
       "2  [-0.19985186, -0.074944444, -0.18423842, -0.13...   \n",
       "3  [-2.538743, -2.1983705, -1.8673657, -1.7143542...   \n",
       "4  [-2.1671436, -1.4832754, -1.0554676, -1.130412...   \n",
       "\n",
       "                                  LH_trial_lfp_trace  \\\n",
       "0  [0.8118982, 1.2209699, 0.87435186, -0.4028264,...   \n",
       "1  [0.9492963, 0.46840277, 0.6713773, 0.043717593...   \n",
       "2  [-0.59643286, 0.27167362, 0.6901134, 0.4371759...   \n",
       "3  [2.8447661, 2.3045416, 1.5301157, 0.96490973, ...   \n",
       "4  [0.5339792, 1.5113796, 0.57145137, -0.02810416...   \n",
       "\n",
       "                               MD_baseline_lfp_trace  \\\n",
       "0  [1.3934726, 1.494771, 1.764077, 1.828315, 1.68...   \n",
       "1  [-0.14577106, -0.16059524, 0.027177656, 0.1680...   \n",
       "2  [-0.32119048, -0.52872896, -0.96851283, -0.753...   \n",
       "3  [-2.7647088, -2.5546997, -2.3051593, -2.055619...   \n",
       "4  [-2.0111465, -1.714663, -1.4255916, -1.3662949...   \n",
       "\n",
       "                                  MD_trial_lfp_trace  \n",
       "0  [-0.9783956, -0.86721426, -0.7288553, -1.40582...  \n",
       "1  [1.6281886, 1.349, 1.4675934, 0.9487473, -0.21...  \n",
       "2  [0.096357144, 0.88450915, 1.2131118, 0.8943919...  \n",
       "3  [2.087738, 1.7418406, 1.1266373, 0.45954946, 0...  \n",
       "4  [0.31871977, 1.008044, 0.25942308, -0.22730403...  \n",
       "\n",
       "[5 rows x 37 columns]"
      ]
     },
     "execution_count": 15,
     "metadata": {},
     "output_type": "execute_result"
    }
   ],
   "source": [
    "CHANNEL_MAP_AND_ALL_TRIALS_DF.head()"
   ]
  },
  {
   "cell_type": "code",
   "execution_count": null,
   "metadata": {},
   "outputs": [],
   "source": []
  },
  {
   "cell_type": "markdown",
   "metadata": {},
   "source": [
    "- Calcuating the power at each frequency band"
   ]
  },
  {
   "cell_type": "code",
   "execution_count": 16,
   "metadata": {},
   "outputs": [],
   "source": [
    "trace_columns = [col for col in CHANNEL_MAP_AND_ALL_TRIALS_DF.columns if \"trace\" in col]"
   ]
  },
  {
   "cell_type": "code",
   "execution_count": 17,
   "metadata": {},
   "outputs": [],
   "source": [
    "for col in trace_columns:\n",
    "    region_and_baseline_or_trial = \"_\".join(col.split(\"_\")[:2])\n",
    "    CHANNEL_MAP_AND_ALL_TRIALS_DF[\"{}_multitaper\".format(region_and_baseline_or_trial)] = CHANNEL_MAP_AND_ALL_TRIALS_DF[\"{}_lfp_trace\".format(region_and_baseline_or_trial)].apply(lambda x: Multitaper(time_series=x, sampling_frequency=RESAMPLE_RATE, time_halfbandwidth_product=TIME_HALFBANDWIDTH_PRODUCT,                                                                              time_window_duration=TIME_WINDOW_DURATION, time_window_step=TIME_WINDOW_STEP                                                                                                                                        ))"
   ]
  },
  {
   "cell_type": "code",
   "execution_count": 18,
   "metadata": {},
   "outputs": [
    {
     "name": "stdout",
     "output_type": "stream",
     "text": [
      "mPFC_baseline_lfp_trace\n",
      "mPFC_trial_lfp_trace\n",
      "vHPC_baseline_lfp_trace\n",
      "vHPC_trial_lfp_trace\n",
      "BLA_baseline_lfp_trace\n",
      "BLA_trial_lfp_trace\n",
      "LH_baseline_lfp_trace\n",
      "LH_trial_lfp_trace\n",
      "MD_baseline_lfp_trace\n",
      "MD_trial_lfp_trace\n"
     ]
    }
   ],
   "source": [
    "for col in trace_columns:\n",
    "    print(col)\n",
    "    region_and_baseline_or_trial = \"_\".join(col.split(\"_\")[:2])\n",
    "    CHANNEL_MAP_AND_ALL_TRIALS_DF[\"{}_connectivity\".format(region_and_baseline_or_trial)] = CHANNEL_MAP_AND_ALL_TRIALS_DF[\"{}_multitaper\".format(region_and_baseline_or_trial)].apply(lambda x: Connectivity.from_multitaper(x))"
   ]
  },
  {
   "cell_type": "code",
   "execution_count": 19,
   "metadata": {},
   "outputs": [],
   "source": [
    "for col in trace_columns:\n",
    "    region_and_baseline_or_trial = \"_\".join(col.split(\"_\")[:2])\n",
    "    CHANNEL_MAP_AND_ALL_TRIALS_DF[\"{}_frequencies\".format(region_and_baseline_or_trial)] = CHANNEL_MAP_AND_ALL_TRIALS_DF[\"{}_connectivity\".format(region_and_baseline_or_trial)].apply(lambda x: x.frequencies)"
   ]
  },
  {
   "cell_type": "code",
   "execution_count": 25,
   "metadata": {},
   "outputs": [],
   "source": [
    "for col in trace_columns:\n",
    "    region_and_baseline_or_trial = \"_\".join(col.split(\"_\")[:2])\n",
    "    CHANNEL_MAP_AND_ALL_TRIALS_DF[\"{}_split_window_power\".format(region_and_baseline_or_trial)] = CHANNEL_MAP_AND_ALL_TRIALS_DF[\"{}_connectivity\".format(region_and_baseline_or_trial)].apply(lambda x: x.power().squeeze())"
   ]
  },
  {
   "cell_type": "code",
   "execution_count": 26,
   "metadata": {},
   "outputs": [],
   "source": [
    "for col in trace_columns:\n",
    "    region_and_baseline_or_trial = \"_\".join(col.split(\"_\")[:2])\n",
    "    CHANNEL_MAP_AND_ALL_TRIALS_DF[\"{}_window_mean_power\".format(region_and_baseline_or_trial)] = CHANNEL_MAP_AND_ALL_TRIALS_DF[\"{}_connectivity\".format(region_and_baseline_or_trial)].apply(lambda x: np.nanmean(x.power().squeeze(), axis=0))"
   ]
  },
  {
   "cell_type": "code",
   "execution_count": 30,
   "metadata": {},
   "outputs": [],
   "source": [
    "CHANNEL_MAP_AND_ALL_TRIALS_DF = CHANNEL_MAP_AND_ALL_TRIALS_DF.drop(columns=[col for col in CHANNEL_MAP_AND_ALL_TRIALS_DF if \"multitaper\" in col], errors=\"ignore\")\n",
    "CHANNEL_MAP_AND_ALL_TRIALS_DF = CHANNEL_MAP_AND_ALL_TRIALS_DF.drop(columns=[col for col in CHANNEL_MAP_AND_ALL_TRIALS_DF if \"connectivity\" in col], errors=\"ignore\")\n"
   ]
  },
  {
   "cell_type": "code",
   "execution_count": 31,
   "metadata": {},
   "outputs": [
    {
     "data": {
      "text/plain": [
       "Index(['time', 'recording_dir', 'recording_file', 'time_stamp_index',\n",
       "       'video_file', 'video_frame', 'video_number', 'subject_info',\n",
       "       'competition_closeness', 'video_name', 'all_subjects',\n",
       "       'current_subject', 'trial_outcome', 'lfp_index',\n",
       "       'baseline_lfp_timestamp_range', 'trial_lfp_timestamp_range',\n",
       "       'baseline_ephys_timestamp_range', 'trial_ephys_timestamp_range',\n",
       "       'baseline_videoframe_range', 'trial_videoframe_range', 'trial_number',\n",
       "       'Cohort', 'spike_interface_mPFC', 'spike_interface_vHPC',\n",
       "       'spike_interface_BLA', 'spike_interface_LH', 'spike_interface_MD',\n",
       "       'mPFC_baseline_lfp_trace', 'mPFC_trial_lfp_trace',\n",
       "       'vHPC_baseline_lfp_trace', 'vHPC_trial_lfp_trace',\n",
       "       'BLA_baseline_lfp_trace', 'BLA_trial_lfp_trace',\n",
       "       'LH_baseline_lfp_trace', 'LH_trial_lfp_trace', 'MD_baseline_lfp_trace',\n",
       "       'MD_trial_lfp_trace', 'mPFC_baseline_frequencies',\n",
       "       'mPFC_trial_frequencies', 'vHPC_baseline_frequencies',\n",
       "       'vHPC_trial_frequencies', 'BLA_baseline_frequencies',\n",
       "       'BLA_trial_frequencies', 'LH_baseline_frequencies',\n",
       "       'LH_trial_frequencies', 'MD_baseline_frequencies',\n",
       "       'MD_trial_frequencies', 'mPFC_baseline_window_power',\n",
       "       'mPFC_trial_window_power', 'vHPC_baseline_window_power',\n",
       "       'vHPC_trial_window_power', 'BLA_baseline_window_power',\n",
       "       'BLA_trial_window_power', 'LH_baseline_window_power',\n",
       "       'LH_trial_window_power', 'MD_baseline_window_power',\n",
       "       'MD_trial_window_power', 'mPFC_baseline_mean_power',\n",
       "       'mPFC_trial_mean_power', 'vHPC_baseline_mean_power',\n",
       "       'vHPC_trial_mean_power', 'BLA_baseline_mean_power',\n",
       "       'BLA_trial_mean_power', 'LH_baseline_mean_power', 'LH_trial_mean_power',\n",
       "       'MD_baseline_mean_power', 'MD_trial_mean_power',\n",
       "       'mPFC_baseline_split_window_power', 'mPFC_trial_split_window_power',\n",
       "       'vHPC_baseline_split_window_power', 'vHPC_trial_split_window_power',\n",
       "       'BLA_baseline_split_window_power', 'BLA_trial_split_window_power',\n",
       "       'LH_baseline_split_window_power', 'LH_trial_split_window_power',\n",
       "       'MD_baseline_split_window_power', 'MD_trial_split_window_power',\n",
       "       'mPFC_baseline_window_mean_power', 'mPFC_trial_window_mean_power',\n",
       "       'vHPC_baseline_window_mean_power', 'vHPC_trial_window_mean_power',\n",
       "       'BLA_baseline_window_mean_power', 'BLA_trial_window_mean_power',\n",
       "       'LH_baseline_window_mean_power', 'LH_trial_window_mean_power',\n",
       "       'MD_baseline_window_mean_power', 'MD_trial_window_mean_power'],\n",
       "      dtype='object')"
      ]
     },
     "execution_count": 31,
     "metadata": {},
     "output_type": "execute_result"
    }
   ],
   "source": [
    "CHANNEL_MAP_AND_ALL_TRIALS_DF.columns"
   ]
  },
  {
   "cell_type": "code",
   "execution_count": 24,
   "metadata": {},
   "outputs": [
    {
     "data": {
      "text/plain": [
       "array([5.77127921e-02, 6.02749756e-02, 7.46797071e-02, 6.50867045e-02,\n",
       "       4.98799254e-02, 4.71435377e-02, 4.03842419e-02, 3.92533670e-02,\n",
       "       3.37259697e-02, 2.77408144e-02, 1.44293911e-02, 1.09776559e-02,\n",
       "       7.27046686e-03, 5.83940399e-03, 5.11392002e-03, 4.16404594e-03,\n",
       "       4.25992620e-03, 3.72637737e-03, 3.71236561e-03, 3.08161018e-03,\n",
       "       2.35899947e-03, 2.30822747e-03, 1.77085960e-03, 1.52630666e-03,\n",
       "       1.36358144e-03, 1.52028559e-03, 1.68013053e-03, 1.44559608e-03,\n",
       "       1.31880015e-03, 9.45834875e-04, 7.97854807e-04, 7.89954630e-04,\n",
       "       8.80318503e-04, 1.11461483e-03, 1.11053242e-03, 1.00038941e-03,\n",
       "       9.41137057e-04, 9.82875053e-04, 1.15228301e-03, 1.21289161e-03,\n",
       "       1.19357596e-03, 9.71190462e-04, 7.38821480e-04, 6.21665140e-04,\n",
       "       7.02975019e-04, 6.48229009e-04, 5.64317561e-04, 6.03203738e-04,\n",
       "       6.08997232e-04, 7.29095414e-04, 7.61146830e-04, 7.49522653e-04,\n",
       "       8.09181629e-04, 8.64953177e-04, 9.13050060e-04, 7.08655087e-04,\n",
       "       5.44956251e-04, 4.84969714e-04, 4.27498692e-04, 2.44639212e-04,\n",
       "       1.08649224e-04, 1.45168917e-04, 3.15730192e-04, 5.56360133e-04,\n",
       "       6.97213485e-04, 7.62386255e-04, 7.28340632e-04, 6.54015409e-04,\n",
       "       6.24205760e-04, 4.90425810e-04, 5.43899203e-04, 5.42761393e-04,\n",
       "       5.68861662e-04, 5.63124119e-04, 5.55043791e-04, 5.95190445e-04,\n",
       "       5.81195478e-04, 5.87775972e-04, 5.99880838e-04, 5.38828151e-04,\n",
       "       6.79811002e-04, 6.68402458e-04, 6.09555062e-04, 4.15159968e-04,\n",
       "       4.18659516e-04, 4.77285458e-04, 4.45728402e-04, 5.24785927e-04,\n",
       "       5.27229209e-04, 5.29708779e-04, 5.88209266e-04, 4.74160433e-04,\n",
       "       4.42711067e-04, 4.88423184e-04, 5.45904614e-04, 5.06739224e-04,\n",
       "       5.03066310e-04, 5.02164995e-04, 5.66108414e-04, 4.89481675e-04,\n",
       "       5.42260373e-04, 5.21022447e-04, 5.48731255e-04, 5.30091083e-04,\n",
       "       5.21471189e-04, 5.84673656e-04, 5.14931454e-04, 6.20291491e-04,\n",
       "       5.35060685e-04, 5.14526989e-04, 4.26238373e-04, 4.63579323e-04,\n",
       "       4.42227273e-04, 3.57602338e-04, 4.03105478e-04, 4.81094713e-04,\n",
       "       5.48970983e-04, 6.14831978e-04, 7.41551620e-04, 7.35064345e-04,\n",
       "       7.07402863e-04, 5.61530162e-04, 5.21565921e-04, 6.45552650e-04,\n",
       "       5.80888919e-04, 5.82813417e-04, 4.83445966e-04, 5.04355836e-04,\n",
       "       5.08352641e-04, 5.42555091e-04, 5.99128768e-04, 5.66301097e-04,\n",
       "       4.88833800e-04, 4.29663650e-04, 4.05841533e-04, 4.38643857e-04,\n",
       "       4.17023458e-04, 5.04857476e-04, 5.61394494e-04, 6.16467945e-04,\n",
       "       5.32056450e-04, 4.54610407e-04, 3.65176909e-04, 4.42033400e-04,\n",
       "       5.21071295e-04, 5.21614665e-04, 4.79237679e-04, 4.13094724e-04,\n",
       "       5.11324774e-04, 4.79905368e-04, 5.61283829e-04, 5.06963463e-04,\n",
       "       6.07190041e-04, 5.89326875e-04, 6.42959965e-04, 5.75977797e-04,\n",
       "       7.60775588e-04, 9.03367025e-04, 9.21282400e-04, 7.10246446e-04,\n",
       "       5.65947131e-04, 3.52394846e-04, 4.73578051e-04, 5.10173675e-04,\n",
       "       6.36563493e-04, 6.69559365e-04, 7.38489833e-04, 5.86706709e-04,\n",
       "       5.05750431e-04, 4.33213019e-04, 4.39178084e-04, 4.34380826e-04,\n",
       "       4.72962615e-04, 6.22966527e-04, 6.93966134e-04, 6.51739632e-04,\n",
       "       5.92900947e-04, 5.91300802e-04, 5.39353849e-04, 7.96998199e-04,\n",
       "       7.36999090e-04, 8.05182251e-04, 6.47470292e-04, 7.01915100e-04,\n",
       "       7.01123134e-04, 7.09916185e-04, 6.99655321e-04, 6.68550306e-04,\n",
       "       6.31881218e-04, 5.17103639e-04, 4.81618865e-04, 5.80745079e-04,\n",
       "       6.27525562e-04, 6.37306799e-04, 6.18686001e-04, 7.17233100e-04,\n",
       "       6.55831992e-04, 6.45459432e-04, 5.25953985e-04, 4.68871715e-04,\n",
       "       4.69369629e-04, 4.77406827e-04, 5.37945879e-04, 5.83642230e-04,\n",
       "       7.07702657e-04, 7.38967193e-04, 6.31366338e-04, 4.82583659e-04,\n",
       "       5.09768332e-04, 4.89984014e-04, 5.19354335e-04, 5.33596966e-04,\n",
       "       6.26466860e-04, 7.01602776e-04, 6.68746957e-04, 5.75844627e-04,\n",
       "       5.72598998e-04, 5.73082932e-04, 5.50215250e-04, 6.33936210e-04,\n",
       "       7.93195745e-04, 7.68275637e-04, 6.90000254e-04, 6.46443543e-04,\n",
       "       6.38751141e-04, 6.27065692e-04, 5.74382409e-04, 6.68065329e-04,\n",
       "       6.04294451e-04, 6.83656589e-04, 7.16327533e-04, 6.79277622e-04,\n",
       "       7.10925253e-04, 6.27402308e-04, 5.29224240e-04, 5.03199781e-04,\n",
       "       5.22005181e-04, 6.90110788e-04, 7.03668214e-04, 6.87400906e-04,\n",
       "       5.10685678e-04, 5.37328724e-04, 5.15036729e-04, 4.96309021e-04,\n",
       "       4.42498936e-04, 3.93930497e-04, 4.10793090e-04, 3.96353581e-04,\n",
       "       4.48322948e-04, 5.54144237e-04, 5.27572668e-04, 4.42775717e-04,\n",
       "       3.08583582e-04, 3.41998421e-04, 3.95555017e-04, 4.23557798e-04,\n",
       "       4.18028873e-04, 3.65833362e-04, 4.18309698e-04, 4.25026548e-04,\n",
       "       4.27230384e-04, 3.79552080e-04, 3.71601808e-04, 3.74142404e-04,\n",
       "       4.56248955e-04, 4.42879639e-04, 4.45892837e-04, 3.66735727e-04,\n",
       "       2.72949083e-04, 3.01690499e-04, 3.12543826e-04, 2.82123718e-04,\n",
       "       2.20324997e-04, 2.45284884e-04, 2.46895960e-04, 2.71503201e-04,\n",
       "       2.95090175e-04, 2.55456057e-04, 3.01702064e-04, 2.55464876e-04,\n",
       "       2.30257186e-04, 1.91254803e-04, 1.75603424e-04, 2.13264918e-04,\n",
       "       2.27240387e-04, 2.69705071e-04, 2.31441080e-04, 2.13933304e-04,\n",
       "       1.69234585e-04, 1.54033841e-04, 1.43817249e-04, 1.64154666e-04,\n",
       "       1.61453584e-04, 1.67243415e-04, 1.53894912e-04, 1.40423183e-04,\n",
       "       1.45031604e-04, 1.71866090e-04, 1.79279763e-04, 1.55262636e-04,\n",
       "       1.31020914e-04, 1.04247804e-04, 1.03189239e-04, 1.11560604e-04,\n",
       "       1.11821802e-04, 1.15985629e-04, 9.67136951e-05, 8.95256883e-05,\n",
       "       9.22118837e-05, 9.02518943e-05, 8.69262272e-05, 8.85918165e-05,\n",
       "       8.43820367e-05, 8.30595079e-05, 6.91856122e-05, 7.11986713e-05,\n",
       "       6.27455073e-05, 6.08026755e-05, 5.01781547e-05, 3.61360579e-05,\n",
       "       4.03061699e-05, 4.20042422e-05, 3.81071202e-05, 3.97801572e-05,\n",
       "       3.42844445e-05, 2.85291470e-05, 3.01088071e-05, 2.86294733e-05,\n",
       "       3.03860026e-05, 3.21798374e-05, 3.78953065e-05, 3.87947609e-05,\n",
       "       3.64992555e-05, 3.52784299e-05, 2.76812999e-05, 2.61581544e-05,\n",
       "       2.06646582e-05, 1.94487531e-05, 1.74589004e-05, 1.75242173e-05,\n",
       "       1.61436296e-05, 1.33735814e-05, 1.54178462e-05, 1.66687888e-05,\n",
       "       1.70103910e-05, 1.83040826e-05, 1.65951307e-05, 1.44902152e-05,\n",
       "       1.28239465e-05, 9.31543205e-06, 1.24665213e-05, 1.34914980e-05,\n",
       "       1.43061621e-05, 1.31921623e-05, 8.19964162e-06, 8.31300713e-06,\n",
       "       6.79053461e-06, 6.05075791e-06, 6.24318278e-06, 5.58797545e-06,\n",
       "       5.94385758e-06, 5.28325405e-06, 5.10341560e-06, 4.89700236e-06,\n",
       "       6.20296959e-06, 6.50912712e-06, 5.24339620e-06, 3.83124175e-06,\n",
       "       3.54952273e-06, 3.49238780e-06, 4.15279972e-06, 5.03422040e-06,\n",
       "       4.30347678e-06, 3.70513549e-06, 3.08149106e-06, 2.95034713e-06,\n",
       "       3.24308171e-06, 3.10930156e-06, 3.11682323e-06, 2.99080655e-06,\n",
       "       3.02544825e-06, 2.88137983e-06, 2.36032132e-06, 2.18017496e-06,\n",
       "       2.59722966e-06, 2.94442990e-06, 2.69124658e-06, 2.21709116e-06,\n",
       "       1.85975685e-06, 2.44778544e-06, 2.56760639e-06, 2.35169537e-06,\n",
       "       2.01794659e-06, 1.95347230e-06, 1.68285222e-06, 1.45613752e-06,\n",
       "       1.12299805e-06, 9.64367376e-07, 1.28763124e-06, 1.34969243e-06,\n",
       "       1.44297877e-06, 1.08382899e-06, 9.46365797e-07, 1.02171078e-06,\n",
       "       8.57520726e-07, 8.36705365e-07, 7.58246306e-07, 7.75052745e-07,\n",
       "       7.19517039e-07, 6.76791274e-07, 5.02864445e-07, 4.66470921e-07,\n",
       "       4.23417666e-07, 5.07040256e-07, 5.12100097e-07, 5.06881624e-07,\n",
       "       3.62446090e-07, 2.79488949e-07, 2.42065837e-07, 2.73973390e-07,\n",
       "       2.84248219e-07, 2.53237772e-07, 2.20255409e-07, 2.09955123e-07,\n",
       "       2.09634462e-07, 1.82886780e-07, 1.85531708e-07, 1.70367038e-07,\n",
       "       1.46267394e-07, 1.31591560e-07, 1.42332504e-07, 1.27450043e-07,\n",
       "       1.09016935e-07, 9.65023121e-08, 1.12040024e-07, 1.13651887e-07,\n",
       "       1.10325712e-07, 9.32847362e-08, 1.00813434e-07, 9.72079466e-08,\n",
       "       1.06777877e-07, 1.02752735e-07, 1.03086625e-07, 9.72063463e-08,\n",
       "       1.03694995e-07, 1.02362752e-07, 9.81381312e-08, 9.74240596e-08,\n",
       "       9.86152774e-08, 1.02394624e-07, 9.60725890e-08, 9.44838759e-08,\n",
       "       9.25347279e-08, 9.59356964e-08, 9.28587719e-08, 9.33423615e-08,\n",
       "       9.23793510e-08, 9.34991662e-08, 9.34820065e-08, 9.60924506e-08,\n",
       "       9.48045874e-08, 9.38613743e-08, 9.32422290e-08, 9.21221473e-08,\n",
       "       9.41145117e-08, 9.44176367e-08, 9.53737464e-08, 9.43868258e-08,\n",
       "       9.39361512e-08, 9.18986915e-08, 9.26759983e-08, 9.27729298e-08,\n",
       "       9.22563269e-08, 9.25593218e-08, 9.29082394e-08, 9.22219170e-08,\n",
       "       9.19320907e-08, 9.27351736e-08, 9.21219004e-08, 9.00017774e-08,\n",
       "       9.15870334e-08, 9.26426469e-08, 9.68688561e-08, 9.16626351e-08,\n",
       "       9.07144873e-08, 9.02574431e-08, 9.43071106e-08, 9.33682542e-08,\n",
       "       9.26436905e-08, 9.05573701e-08, 9.10491861e-08, 9.22233605e-08,\n",
       "       9.57929745e-08, 9.33575811e-08, 9.23600926e-08, 9.14031127e-08,\n",
       "       9.16577618e-08, 9.24702601e-08, 9.34139502e-08, 9.30176270e-08])"
      ]
     },
     "execution_count": 24,
     "metadata": {},
     "output_type": "execute_result"
    }
   ],
   "source": [
    "CHANNEL_MAP_AND_ALL_TRIALS_DF[\"MD_baseline_mean_power\"].iloc[0]"
   ]
  },
  {
   "cell_type": "code",
   "execution_count": 32,
   "metadata": {},
   "outputs": [],
   "source": [
    "CHANNEL_MAP_AND_ALL_TRIALS_DF.to_pickle(\"./proc/rce_standard_lfp_power.pkl\")"
   ]
  },
  {
   "cell_type": "code",
   "execution_count": 23,
   "metadata": {},
   "outputs": [
    {
     "ename": "ValueError",
     "evalue": "",
     "output_type": "error",
     "traceback": [
      "\u001b[0;31m---------------------------------------------------------------------------\u001b[0m",
      "\u001b[0;31mValueError\u001b[0m                                Traceback (most recent call last)",
      "Cell \u001b[0;32mIn[23], line 1\u001b[0m\n\u001b[0;32m----> 1\u001b[0m \u001b[38;5;28;01mraise\u001b[39;00m \u001b[38;5;167;01mValueError\u001b[39;00m()\n",
      "\u001b[0;31mValueError\u001b[0m: "
     ]
    }
   ],
   "source": [
    "raise ValueError()"
   ]
  },
  {
   "cell_type": "markdown",
   "metadata": {},
   "source": [
    "## Plotting all the lower velocities together"
   ]
  },
  {
   "cell_type": "code",
   "execution_count": null,
   "metadata": {},
   "outputs": [],
   "source": [
    "mean_power_column = [col for col in CHANNEL_MAP_AND_ALL_TRIALS_DF.columns if \"mean_power\" in col]"
   ]
  },
  {
   "cell_type": "code",
   "execution_count": null,
   "metadata": {},
   "outputs": [],
   "source": [
    "mean_power_column"
   ]
  },
  {
   "cell_type": "markdown",
   "metadata": {},
   "source": [
    "- Grouping by trial outcome"
   ]
  },
  {
   "cell_type": "code",
   "execution_count": null,
   "metadata": {},
   "outputs": [],
   "source": [
    "grouped_all_trials_df = CHANNEL_MAP_AND_ALL_TRIALS_DF.groupby(['trial_outcome']).agg({k: lambda x: np.vstack(x.tolist()) for k in mean_power_column}).reset_index()"
   ]
  },
  {
   "cell_type": "code",
   "execution_count": null,
   "metadata": {},
   "outputs": [],
   "source": [
    "grouped_all_trials_df"
   ]
  },
  {
   "cell_type": "code",
   "execution_count": null,
   "metadata": {},
   "outputs": [],
   "source": [
    "grouped_all_trials_df = pd.melt(grouped_all_trials_df, id_vars =['trial_outcome'], value_vars =grouped_all_trials_df.drop(columns=[\"trial_outcome\"]).columns, value_name=\"power\", var_name=\"region_and_baseline_or_trial\") "
   ]
  },
  {
   "cell_type": "code",
   "execution_count": null,
   "metadata": {},
   "outputs": [],
   "source": [
    "grouped_all_trials_df[\"brain_region\"] = grouped_all_trials_df[\"region_and_baseline_or_trial\"].apply(lambda x: x.split(\"_\")[0].strip())"
   ]
  },
  {
   "cell_type": "code",
   "execution_count": null,
   "metadata": {},
   "outputs": [],
   "source": [
    "grouped_all_trials_df[\"trial_or_baseline\"] = grouped_all_trials_df[\"region_and_baseline_or_trial\"].apply(lambda x: x.split(\"_\")[1].strip())"
   ]
  },
  {
   "cell_type": "code",
   "execution_count": null,
   "metadata": {},
   "outputs": [],
   "source": [
    "grouped_all_trials_df[\"mean_power\"] = grouped_all_trials_df[\"power\"].apply(lambda x: np.nanmean(np.vstack(x), axis=0))"
   ]
  },
  {
   "cell_type": "code",
   "execution_count": null,
   "metadata": {},
   "outputs": [],
   "source": [
    "grouped_all_trials_df[\"std_power\"] = grouped_all_trials_df[\"power\"].apply(lambda x: np.nanstd(np.vstack(x), axis=0))"
   ]
  },
  {
   "cell_type": "code",
   "execution_count": null,
   "metadata": {},
   "outputs": [],
   "source": [
    "grouped_all_trials_df[\"n_trials\"] = grouped_all_trials_df[\"power\"].apply(lambda x: np.sum(~np.isnan(x), axis=0))"
   ]
  },
  {
   "cell_type": "code",
   "execution_count": null,
   "metadata": {},
   "outputs": [],
   "source": [
    "grouped_all_trials_df[\"sem_power\"] = grouped_all_trials_df.apply(lambda x: x[\"std_power\"] / np.sqrt(x[\"n_trials\"]), axis=1)"
   ]
  },
  {
   "cell_type": "code",
   "execution_count": null,
   "metadata": {
    "scrolled": true
   },
   "outputs": [],
   "source": [
    "grouped_all_trials_df[\"trial_outcome\"].unique()"
   ]
  },
  {
   "cell_type": "code",
   "execution_count": null,
   "metadata": {},
   "outputs": [],
   "source": [
    "grouped_all_trials_df"
   ]
  },
  {
   "cell_type": "markdown",
   "metadata": {},
   "source": [
    "# Drawing plots all together"
   ]
  },
  {
   "cell_type": "raw",
   "metadata": {},
   "source": [
    "brain_region_to_ylim = {'spike_interface_BLA': 0.15, 'spike_interface_LH': 0.3, 'spike_interface_MD': 0.3,\n",
    "       'spike_interface_mPFC': 0.2, 'spike_interface_vHPC': 0.3}"
   ]
  },
  {
   "cell_type": "code",
   "execution_count": null,
   "metadata": {},
   "outputs": [],
   "source": [
    "all_frequencies = CHANNEL_MAP_AND_ALL_TRIALS_DF[\"BLA_baseline_frequencies\"].iloc[0]\n",
    "\n"
   ]
  },
  {
   "cell_type": "code",
   "execution_count": null,
   "metadata": {
    "scrolled": true
   },
   "outputs": [],
   "source": [
    "low_freq = 0\n",
    "high_freq = 13\n",
    "for region in grouped_all_trials_df[\"brain_region\"].unique():\n",
    "    region_df = grouped_all_trials_df[grouped_all_trials_df[\"brain_region\"] == region]\n",
    "    \n",
    "    fig, ax = plt.subplots()\n",
    "    plt.title(\"Z-Scored LFP Power in {} at 0 to 5cm/s\".format(region.split(\"_\")[-1]))\n",
    "    plt.xlabel(\"Frequency\")\n",
    "    plt.ylabel(\"Power\")\n",
    "    plt.xlim(low_freq, high_freq) \n",
    "    # plt.yscale(\"log\")\n",
    "    # plt.ylim(0, 0.02)\n",
    "\n",
    "    for trial_or_baseline, outcome in itertools.product(region_df[\"trial_or_baseline\"].unique(), sorted(region_df[\"trial_outcome\"].unique())[::-1]):\n",
    "        outcome_df = region_df[(region_df[\"trial_or_baseline\"] == trial_or_baseline) & (region_df[\"trial_outcome\"] == outcome)]\n",
    "        for index, row in outcome_df.iterrows():\n",
    "            current_frequencies = all_frequencies[low_freq: high_freq]\n",
    "            mean_power = row[\"mean_power\"][low_freq: high_freq]\n",
    "            sem_power = row[\"sem_power\"][low_freq: high_freq]\n",
    "            try:\n",
    "                ax = sns.lineplot(x=current_frequencies, y=mean_power, \\\n",
    "                label=\"{} {}\".format(outcome, trial_or_baseline), color=OUTCOME_TO_COLOR[outcome], \\\n",
    "                linestyle=TRIAL_OR_BASELINE_TO_STYLE[trial_or_baseline], linewidth=3)\n",
    "                \n",
    "                plt.fill_between(current_frequencies, \n",
    "                mean_power - sem_power, mean_power + sem_power, \\\n",
    "                alpha=0.1, color=OUTCOME_TO_COLOR[outcome])\n",
    "            \n",
    "            except Exception as e: \n",
    "                print(e)\n",
    "                continue\n",
    "    plt.legend()\n",
    "    # plt.savefig(\"./proc/velocity_parsing/plot_region_line_trialoutcome_baselinetrial/\\\n",
    "    # rce_lower_velocity_lfp_power_trialoutcome_baselinetrial_freq_{}_to_{}_region_{}.png\".format(low_freq, high_freq, region.split(\"_\")[-1]))"
   ]
  },
  {
   "cell_type": "code",
   "execution_count": null,
   "metadata": {},
   "outputs": [],
   "source": []
  },
  {
   "cell_type": "code",
   "execution_count": null,
   "metadata": {
    "scrolled": true
   },
   "outputs": [],
   "source": [
    "low_freq = 12\n",
    "high_freq = 31\n",
    "for region in grouped_all_trials_df[\"brain_region\"].unique():\n",
    "    region_df = grouped_all_trials_df[grouped_all_trials_df[\"brain_region\"] == region]\n",
    "    \n",
    "    fig, ax = plt.subplots()\n",
    "    plt.title(\"Z-Scored LFP Power in {} at 0 to 5cm/s\".format(region.split(\"_\")[-1]))\n",
    "    plt.xlabel(\"Frequency\")\n",
    "    plt.ylabel(\"Power\")\n",
    "    plt.xlim(low_freq, high_freq) \n",
    "    plt.yscale(\"log\")\n",
    "    # plt.ylim(0, 0.02)\n",
    "\n",
    "    for trial_or_baseline, outcome in itertools.product(region_df[\"trial_or_baseline\"].unique(), sorted(region_df[\"trial_outcome\"].unique())[::-1]):\n",
    "        outcome_df = region_df[(region_df[\"trial_or_baseline\"] == trial_or_baseline) & (region_df[\"trial_outcome\"] == outcome)]\n",
    "        for index, row in outcome_df.iterrows():\n",
    "            current_frequencies = all_frequencies[low_freq: high_freq]\n",
    "            mean_power = row[\"mean_power\"][low_freq: high_freq]\n",
    "            sem_power = row[\"sem_power\"][low_freq: high_freq]\n",
    "            try:\n",
    "                ax = sns.lineplot(x=current_frequencies, y=mean_power, \\\n",
    "                label=\"{} {}\".format(outcome, trial_or_baseline), color=OUTCOME_TO_COLOR[outcome], \\\n",
    "                linestyle=TRIAL_OR_BASELINE_TO_STYLE[trial_or_baseline], linewidth=3)\n",
    "                \n",
    "                plt.fill_between(current_frequencies, \n",
    "                mean_power - sem_power, mean_power + sem_power, \\\n",
    "                alpha=0.1, color=OUTCOME_TO_COLOR[outcome])\n",
    "            \n",
    "            except Exception as e: \n",
    "                print(e)\n",
    "                continue\n",
    "    plt.legend()\n",
    "    # plt.savefig(\"./proc/velocity_parsing/plot_region_line_trialoutcome_baselinetrial/\\\n",
    "    # rce_lower_velocity_lfp_power_trialoutcome_baselinetrial_freq_{}_to_{}_region_{}.png\".format(low_freq, high_freq, region.split(\"_\")[-1]))"
   ]
  },
  {
   "cell_type": "code",
   "execution_count": null,
   "metadata": {},
   "outputs": [],
   "source": []
  },
  {
   "cell_type": "code",
   "execution_count": null,
   "metadata": {},
   "outputs": [],
   "source": [
    "low_freq = 30\n",
    "high_freq = 91\n",
    "for region in grouped_all_trials_df[\"brain_region\"].unique():\n",
    "    region_df = grouped_all_trials_df[grouped_all_trials_df[\"brain_region\"] == region]\n",
    "    \n",
    "    fig, ax = plt.subplots()\n",
    "    plt.title(\"Z-Scored LFP Power in {} at 0 to 5cm/s\".format(region.split(\"_\")[-1]))\n",
    "    plt.xlabel(\"Frequency\")\n",
    "    plt.ylabel(\"Power\")\n",
    "    plt.xlim(low_freq, high_freq) \n",
    "    plt.yscale(\"log\")\n",
    "    # plt.ylim(0, 0.02)\n",
    "\n",
    "    for trial_or_baseline, outcome in itertools.product(region_df[\"trial_or_baseline\"].unique(), sorted(region_df[\"trial_outcome\"].unique())[::-1]):\n",
    "        outcome_df = region_df[(region_df[\"trial_or_baseline\"] == trial_or_baseline) & (region_df[\"trial_outcome\"] == outcome)]\n",
    "        for index, row in outcome_df.iterrows():\n",
    "            current_frequencies = all_frequencies[low_freq: high_freq]\n",
    "            mean_power = row[\"mean_power\"][low_freq: high_freq]\n",
    "            sem_power = row[\"sem_power\"][low_freq: high_freq]\n",
    "            try:\n",
    "                ax = sns.lineplot(x=current_frequencies, y=mean_power, \\\n",
    "                label=\"{} {}\".format(outcome, trial_or_baseline), color=OUTCOME_TO_COLOR[outcome], \\\n",
    "                linestyle=TRIAL_OR_BASELINE_TO_STYLE[trial_or_baseline], linewidth=3)\n",
    "                \n",
    "                plt.fill_between(current_frequencies, \n",
    "                mean_power - sem_power, mean_power + sem_power, \\\n",
    "                alpha=0.1, color=OUTCOME_TO_COLOR[outcome])\n",
    "            \n",
    "            except Exception as e: \n",
    "                print(e)\n",
    "                continue\n",
    "    plt.legend()\n",
    "    # plt.savefig(\"./proc/velocity_parsing/plot_region_line_trialoutcome_baselinetrial/\\\n",
    "    # rce_lower_velocity_lfp_power_trialoutcome_baselinetrial_freq_{}_to_{}_region_{}.png\".format(low_freq, high_freq, region.split(\"_\")[-1]))"
   ]
  },
  {
   "cell_type": "code",
   "execution_count": null,
   "metadata": {},
   "outputs": [],
   "source": []
  },
  {
   "cell_type": "markdown",
   "metadata": {},
   "source": [
    "# Exporting that data"
   ]
  },
  {
   "cell_type": "code",
   "execution_count": null,
   "metadata": {},
   "outputs": [],
   "source": [
    "raise ValueError()"
   ]
  },
  {
   "cell_type": "code",
   "execution_count": null,
   "metadata": {},
   "outputs": [],
   "source": [
    "CHANNEL_MAP_AND_ALL_TRIALS_DF.columns"
   ]
  },
  {
   "cell_type": "code",
   "execution_count": null,
   "metadata": {},
   "outputs": [],
   "source": [
    "exported_lfp_and_sleap = CHANNEL_MAP_AND_ALL_TRIALS_DF.drop(columns=trace_columns, errors=\"ignore\").copy()\n",
    "exported_lfp_and_sleap = exported_lfp_and_sleap.drop(columns=[col for col in exported_lfp_and_sleap if \"multitaper\" in col], errors=\"ignore\")\n",
    "exported_lfp_and_sleap = exported_lfp_and_sleap.drop(columns=[col for col in exported_lfp_and_sleap if \"thorax_velocity\" in col], errors=\"ignore\")\n",
    "exported_lfp_and_sleap = exported_lfp_and_sleap.drop(columns=[col for col in exported_lfp_and_sleap if \"frequencies\" in col], errors=\"ignore\")\n",
    "exported_lfp_and_sleap = exported_lfp_and_sleap.drop(columns=[col for col in exported_lfp_and_sleap if \"chunked_power\" in col], errors=\"ignore\")\n",
    "exported_lfp_and_sleap = exported_lfp_and_sleap.drop(columns=[col for col in exported_lfp_and_sleap if \"connectivity\" in col], errors=\"ignore\")\n",
    "exported_lfp_and_sleap = exported_lfp_and_sleap.drop(columns=[col for col in exported_lfp_and_sleap if \"spike_interface\" in col], errors=\"ignore\")\n",
    "exported_lfp_and_sleap = exported_lfp_and_sleap.drop(columns=[col for col in exported_lfp_and_sleap if \"index\" in col], errors=\"ignore\")\n",
    "exported_lfp_and_sleap = exported_lfp_and_sleap.drop(columns=[col for col in exported_lfp_and_sleap if \"stamp\" in col], errors=\"ignore\")\n",
    "exported_lfp_and_sleap = exported_lfp_and_sleap.drop(columns=[col for col in exported_lfp_and_sleap if \"box\" in col], errors=\"ignore\")\n",
    "exported_lfp_and_sleap = exported_lfp_and_sleap.drop(columns=[col for col in exported_lfp_and_sleap if \"height\" in col], errors=\"ignore\")\n",
    "exported_lfp_and_sleap = exported_lfp_and_sleap.drop(columns=[col for col in exported_lfp_and_sleap if \"width\" in col], errors=\"ignore\")\n",
    "exported_lfp_and_sleap = exported_lfp_and_sleap.drop(columns=[col for col in exported_lfp_and_sleap if \"ratio\" in col], errors=\"ignore\")\n",
    "exported_lfp_and_sleap = exported_lfp_and_sleap.drop(columns=[col for col in exported_lfp_and_sleap if \"width\" in col], errors=\"ignore\")\n",
    "exported_lfp_and_sleap = exported_lfp_and_sleap.drop(columns=['individual_subj',\n",
    " 'all_subj',\n",
    " 'recording_name',\n",
    " 'track_names',\n",
    " 'subject_id',\n",
    " 'corner_path',\n",
    " 'corner_parts',\n",
    " 'rescaled_locations',\n",
    " 'reward_port'], errors=\"ignore\")"
   ]
  },
  {
   "cell_type": "code",
   "execution_count": null,
   "metadata": {},
   "outputs": [],
   "source": [
    "exported_lfp_and_sleap[\"frequencies\"] = [CHANNEL_MAP_AND_ALL_TRIALS_DF[\"BLA_baseline_frequencies\"].iloc[0] for _ in range(len(exported_lfp_and_sleap))] "
   ]
  },
  {
   "cell_type": "code",
   "execution_count": null,
   "metadata": {},
   "outputs": [],
   "source": [
    "exported_lfp_and_sleap.columns"
   ]
  },
  {
   "cell_type": "code",
   "execution_count": null,
   "metadata": {},
   "outputs": [],
   "source": [
    "exported_lfp_and_sleap.to_pickle(\"./proc/rce_lfp_power_and_velocity_region_col_baselinetrial_row.pkl\")"
   ]
  },
  {
   "cell_type": "code",
   "execution_count": null,
   "metadata": {},
   "outputs": [],
   "source": [
    "raise ValueError()"
   ]
  },
  {
   "cell_type": "markdown",
   "metadata": {},
   "source": [
    "# Reformatting the data"
   ]
  },
  {
   "cell_type": "code",
   "execution_count": null,
   "metadata": {},
   "outputs": [],
   "source": [
    "mean_power_column"
   ]
  },
  {
   "cell_type": "code",
   "execution_count": null,
   "metadata": {},
   "outputs": [],
   "source": [
    "exported_lfp_and_sleap = exported_lfp_and_sleap.drop(columns=[col for col in exported_lfp_and_sleap if \"all_chunk\" in col], errors=\"ignore\")\n"
   ]
  },
  {
   "cell_type": "code",
   "execution_count": null,
   "metadata": {},
   "outputs": [],
   "source": [
    "exported_lfp_and_sleap = pd.melt(exported_lfp_and_sleap, value_vars=mean_power_column, value_name=\"power\", id_vars=[col for col in exported_lfp_and_sleap.columns if col not in mean_power_column], var_name=\"region_and_baseline_or_trial\")\n",
    "\n"
   ]
  },
  {
   "cell_type": "code",
   "execution_count": null,
   "metadata": {},
   "outputs": [],
   "source": [
    "exported_lfp_and_sleap[\"brain_region\"] = exported_lfp_and_sleap[\"region_and_baseline_or_trial\"].apply(lambda x: x.split(\"_\")[0].strip())"
   ]
  },
  {
   "cell_type": "code",
   "execution_count": null,
   "metadata": {},
   "outputs": [],
   "source": [
    "exported_lfp_and_sleap[\"trial_or_baseline\"] = exported_lfp_and_sleap[\"region_and_baseline_or_trial\"].apply(lambda x: x.split(\"_\")[1].strip())"
   ]
  },
  {
   "cell_type": "code",
   "execution_count": null,
   "metadata": {},
   "outputs": [],
   "source": [
    "exported_lfp_and_sleap.head()"
   ]
  },
  {
   "cell_type": "code",
   "execution_count": null,
   "metadata": {},
   "outputs": [],
   "source": [
    "exported_lfp_and_sleap[\"all_theta_power\"] = exported_lfp_and_sleap[\"power\"].apply(lambda x: x[4:13])\n",
    "exported_lfp_and_sleap[\"all_beta_power\"] = exported_lfp_and_sleap[\"power\"].apply(lambda x: x[13:31])\n",
    "exported_lfp_and_sleap[\"all_gamma_power\"] = exported_lfp_and_sleap[\"power\"].apply(lambda x: x[30:91])\n",
    "exported_lfp_and_sleap[\"mean_theta_power\"] = exported_lfp_and_sleap[\"all_theta_power\"].apply(lambda x: x.mean())\n",
    "exported_lfp_and_sleap[\"mean_beta_power\"] = exported_lfp_and_sleap[\"all_beta_power\"].apply(lambda x: x.mean())\n",
    "exported_lfp_and_sleap[\"mean_gamma_power\"] = exported_lfp_and_sleap[\"all_gamma_power\"].apply(lambda x: x.mean())"
   ]
  },
  {
   "cell_type": "code",
   "execution_count": null,
   "metadata": {},
   "outputs": [],
   "source": [
    "exported_lfp_and_sleap.head()"
   ]
  },
  {
   "cell_type": "code",
   "execution_count": null,
   "metadata": {},
   "outputs": [],
   "source": [
    "exported_lfp_and_sleap.to_pickle(\"./proc/rce_velocity_parsed_power_spectra_region_and_baselinetrial_rows.pkl\")"
   ]
  }
 ],
 "metadata": {
  "deepnote": {},
  "deepnote_execution_queue": [],
  "deepnote_notebook_id": "cf8fe3695d074ee7887fdf6459cbf5ce",
  "kernelspec": {
   "display_name": "Python 3 (ipykernel)",
   "language": "python",
   "name": "python3"
  },
  "language_info": {
   "codemirror_mode": {
    "name": "ipython",
    "version": 3
   },
   "file_extension": ".py",
   "mimetype": "text/x-python",
   "name": "python",
   "nbconvert_exporter": "python",
   "pygments_lexer": "ipython3",
   "version": "3.9.16"
  }
 },
 "nbformat": 4,
 "nbformat_minor": 4
}
