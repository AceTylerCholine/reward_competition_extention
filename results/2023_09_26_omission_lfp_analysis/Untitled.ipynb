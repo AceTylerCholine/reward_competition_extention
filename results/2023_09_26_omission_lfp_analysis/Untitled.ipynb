{
 "cells": [
  {
   "cell_type": "code",
   "execution_count": 7,
   "id": "e4339aec-940b-4a51-86df-5606f8772ba9",
   "metadata": {},
   "outputs": [],
   "source": [
    "import numpy as np\n",
    "from astropy.stats import rayleightest\n",
    "from astropy import units as u\n",
    "data = np.array([130, 90, 0, 145])*u.deg"
   ]
  },
  {
   "cell_type": "code",
   "execution_count": 8,
   "id": "4daf9d6f-e251-47d9-a901-b576a6f4bafb",
   "metadata": {},
   "outputs": [
    {
     "data": {
      "text/latex": [
       "$0.25634877 \\; \\mathrm{}$"
      ],
      "text/plain": [
       "<Quantity 0.25634877>"
      ]
     },
     "execution_count": 8,
     "metadata": {},
     "output_type": "execute_result"
    }
   ],
   "source": [
    "rayleightest(data) "
   ]
  },
  {
   "cell_type": "code",
   "execution_count": 9,
   "id": "06cbe034-d263-423f-a81a-d813a83a226d",
   "metadata": {},
   "outputs": [],
   "source": [
    "data = np.array([0, 90, 180, 270])*u.deg"
   ]
  },
  {
   "cell_type": "code",
   "execution_count": 10,
   "id": "f2ee62d2-0efc-4b7d-a5f8-57e034e4805c",
   "metadata": {},
   "outputs": [
    {
     "data": {
      "text/latex": [
       "$[0,~90,~180,~270] \\; \\mathrm{{}^{\\circ}}$"
      ],
      "text/plain": [
       "<Quantity [  0.,  90., 180., 270.] deg>"
      ]
     },
     "execution_count": 10,
     "metadata": {},
     "output_type": "execute_result"
    }
   ],
   "source": [
    "data"
   ]
  },
  {
   "cell_type": "code",
   "execution_count": 11,
   "id": "597308ed-c5a2-45ec-8a4d-1984bfa48db7",
   "metadata": {},
   "outputs": [
    {
     "data": {
      "text/latex": [
       "$1 \\; \\mathrm{}$"
      ],
      "text/plain": [
       "<Quantity 1.>"
      ]
     },
     "execution_count": 11,
     "metadata": {},
     "output_type": "execute_result"
    }
   ],
   "source": [
    "rayleightest(data) "
   ]
  },
  {
   "cell_type": "code",
   "execution_count": 12,
   "id": "487d02c5-c69f-46ae-8439-b21bea78ef30",
   "metadata": {},
   "outputs": [],
   "source": [
    "data = np.array([0, 0, 0, 0])*u.deg"
   ]
  },
  {
   "cell_type": "code",
   "execution_count": 13,
   "id": "a7cd1862-02d5-497c-a670-da9b08e26066",
   "metadata": {},
   "outputs": [
    {
     "data": {
      "text/latex": [
       "$0.0069955565 \\; \\mathrm{}$"
      ],
      "text/plain": [
       "<Quantity 0.00699556>"
      ]
     },
     "execution_count": 13,
     "metadata": {},
     "output_type": "execute_result"
    }
   ],
   "source": [
    "rayleightest(data) "
   ]
  },
  {
   "cell_type": "code",
   "execution_count": 14,
   "id": "1c1ccda0-8320-4c89-93c2-33166756e29f",
   "metadata": {},
   "outputs": [],
   "source": [
    "data = np.array([0, 0, 0, 0])*u.deg"
   ]
  },
  {
   "cell_type": "code",
   "execution_count": 15,
   "id": "c26d6046-1a86-46ef-ae0c-efca2765766f",
   "metadata": {},
   "outputs": [
    {
     "data": {
      "text/latex": [
       "$[0,~0,~0,~0] \\; \\mathrm{{}^{\\circ}}$"
      ],
      "text/plain": [
       "<Quantity [0., 0., 0., 0.] deg>"
      ]
     },
     "execution_count": 15,
     "metadata": {},
     "output_type": "execute_result"
    }
   ],
   "source": [
    "data"
   ]
  },
  {
   "cell_type": "code",
   "execution_count": null,
   "id": "be19c833-199b-448a-a248-0692a9f0f885",
   "metadata": {},
   "outputs": [],
   "source": []
  }
 ],
 "metadata": {
  "kernelspec": {
   "display_name": "Python 3 (ipykernel)",
   "language": "python",
   "name": "python3"
  },
  "language_info": {
   "codemirror_mode": {
    "name": "ipython",
    "version": 3
   },
   "file_extension": ".py",
   "mimetype": "text/x-python",
   "name": "python",
   "nbconvert_exporter": "python",
   "pygments_lexer": "ipython3",
   "version": "3.9.16"
  }
 },
 "nbformat": 4,
 "nbformat_minor": 5
}
