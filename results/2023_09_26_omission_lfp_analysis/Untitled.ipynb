{
 "cells": [
  {
   "cell_type": "code",
   "execution_count": 1,
   "id": "e4339aec-940b-4a51-86df-5606f8772ba9",
   "metadata": {},
   "outputs": [],
   "source": [
    "import numpy as np\n",
    "from astropy.stats import rayleightest\n",
    "from astropy import units as u\n",
    "data = np.array([130, 90, 0, 145])*u.deg"
   ]
  },
  {
   "cell_type": "code",
   "execution_count": 6,
   "id": "4daf9d6f-e251-47d9-a901-b576a6f4bafb",
   "metadata": {},
   "outputs": [
    {
     "data": {
      "text/latex": [
       "$1 \\; \\mathrm{}$"
      ],
      "text/plain": [
       "<Quantity 1.>"
      ]
     },
     "execution_count": 6,
     "metadata": {},
     "output_type": "execute_result"
    }
   ],
   "source": [
    "rayleightest(data) "
   ]
  },
  {
   "cell_type": "code",
   "execution_count": 5,
   "id": "06cbe034-d263-423f-a81a-d813a83a226d",
   "metadata": {},
   "outputs": [],
   "source": [
    "data = np.array([0, 90, 180, 270])*u.deg"
   ]
  },
  {
   "cell_type": "code",
   "execution_count": null,
   "id": "f2ee62d2-0efc-4b7d-a5f8-57e034e4805c",
   "metadata": {},
   "outputs": [],
   "source": []
  }
 ],
 "metadata": {
  "kernelspec": {
   "display_name": "Python 3 (ipykernel)",
   "language": "python",
   "name": "python3"
  },
  "language_info": {
   "codemirror_mode": {
    "name": "ipython",
    "version": 3
   },
   "file_extension": ".py",
   "mimetype": "text/x-python",
   "name": "python",
   "nbconvert_exporter": "python",
   "pygments_lexer": "ipython3",
   "version": "3.9.16"
  }
 },
 "nbformat": 4,
 "nbformat_minor": 5
}
