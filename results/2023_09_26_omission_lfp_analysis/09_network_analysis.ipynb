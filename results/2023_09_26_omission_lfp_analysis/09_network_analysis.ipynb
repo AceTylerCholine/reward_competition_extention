{
 "cells": [
  {
   "cell_type": "markdown",
   "metadata": {
    "cell_id": "c3a02adc9e884466bc8c79db549cc3d2",
    "deepnote_cell_type": "text-cell-h1",
    "formattedRanges": [
     {
      "fromCodePoint": 0,
      "marks": {
       "bold": true,
       "underline": true
      },
      "toCodePoint": 17,
      "type": "marks"
     }
    ]
   },
   "source": [
    "# Title of notebook"
   ]
  },
  {
   "cell_type": "markdown",
   "metadata": {
    "cell_id": "4546bee655b14a5dbf393161f1228e60",
    "deepnote_cell_type": "text-cell-p",
    "formattedRanges": []
   },
   "source": [
    "Brief 1-2 sentence description of notebook."
   ]
  },
  {
   "cell_type": "code",
   "execution_count": 1,
   "metadata": {},
   "outputs": [],
   "source": [
    "import random"
   ]
  },
  {
   "cell_type": "code",
   "execution_count": 2,
   "metadata": {
    "cell_id": "03b495cefa6a4798a44c7f2e4c6a3ea7",
    "deepnote_cell_type": "code",
    "deepnote_to_be_reexecuted": false,
    "execution_millis": 21,
    "execution_start": 1691424003626,
    "source_hash": null
   },
   "outputs": [],
   "source": [
    "# Imports of all used packages and libraries\n",
    "import numpy as np\n",
    "import pandas as pd\n",
    "import seaborn as sns"
   ]
  },
  {
   "cell_type": "code",
   "execution_count": 3,
   "metadata": {},
   "outputs": [],
   "source": [
    "from sklearn.preprocessing import StandardScaler\n",
    "from collections import OrderedDict\n",
    "import matplotlib.pyplot as plt\n",
    "import matplotlib\n",
    "from sklearn.model_selection import KFold\n",
    "from sklearn.model_selection import train_test_split\n",
    "from sklearn.model_selection import StratifiedKFold"
   ]
  },
  {
   "cell_type": "code",
   "execution_count": 4,
   "metadata": {},
   "outputs": [],
   "source": [
    "from sklearn.metrics import confusion_matrix"
   ]
  },
  {
   "cell_type": "code",
   "execution_count": 5,
   "metadata": {},
   "outputs": [],
   "source": [
    "from sklearn.utils import shuffle\n",
    "from sklearn.ensemble import RandomForestClassifier\n",
    "from sklearn.metrics import accuracy_score\n",
    "import numpy as np"
   ]
  },
  {
   "cell_type": "code",
   "execution_count": 6,
   "metadata": {},
   "outputs": [],
   "source": [
    "from sklearn.tree import DecisionTreeClassifier\n",
    "from sklearn.model_selection import KFold, cross_val_score\n",
    "\n",
    "# importing random forest classifier from assemble module \n",
    "from sklearn.ensemble import RandomForestClassifier \n"
   ]
  },
  {
   "cell_type": "markdown",
   "metadata": {
    "cell_id": "d290bac2c17940bfbc0f9296beaf70e5",
    "deepnote_cell_type": "text-cell-h2",
    "formattedRanges": []
   },
   "source": [
    "## Inputs & Data"
   ]
  },
  {
   "cell_type": "markdown",
   "metadata": {
    "cell_id": "e528ce19c608425292151930d380f49f",
    "deepnote_cell_type": "text-cell-p",
    "formattedRanges": []
   },
   "source": [
    "Explanation of each input and where it comes from."
   ]
  },
  {
   "cell_type": "code",
   "execution_count": 7,
   "metadata": {
    "cell_id": "6cf83a5811054461a718a71673d09aab",
    "deepnote_cell_type": "code",
    "deepnote_to_be_reexecuted": false,
    "execution_millis": 373,
    "execution_start": 1691424003628,
    "source_hash": null
   },
   "outputs": [],
   "source": [
    "# Inputs and Required data loading\n",
    "# input varaible names are in all caps snake case\n",
    "# Whenever an input changes or is used for processing \n",
    "# the vairables are all lower in snake case\n",
    "OUTPUT_DIR = r\"./proc\" # where data is saved should always be shown in the inputs"
   ]
  },
  {
   "cell_type": "code",
   "execution_count": 8,
   "metadata": {},
   "outputs": [],
   "source": [
    "font = {'weight' : 'medium',\n",
    "        'size'   : 20}\n",
    "\n",
    "matplotlib.rc('font', **font)"
   ]
  },
  {
   "cell_type": "code",
   "execution_count": null,
   "metadata": {},
   "outputs": [],
   "source": []
  },
  {
   "cell_type": "code",
   "execution_count": 9,
   "metadata": {},
   "outputs": [],
   "source": [
    "font = {'weight' : 'bold',\n",
    "        'size'   : 12}\n",
    "\n",
    "matplotlib.rc('font', **font)"
   ]
  },
  {
   "cell_type": "code",
   "execution_count": 10,
   "metadata": {},
   "outputs": [
    {
     "data": {
      "text/plain": [
       "['#FFAF00', '#15616F']"
      ]
     },
     "execution_count": 10,
     "metadata": {},
     "output_type": "execute_result"
    }
   ],
   "source": [
    "BAND_TO_COLOR = {\"theta\": \"#FFAF00\", \"beta\": \"blue\", \"gamma\": \"#15616F\"}\n",
    "[\"#FFAF00\", \"#15616F\"]"
   ]
  },
  {
   "cell_type": "code",
   "execution_count": 11,
   "metadata": {},
   "outputs": [],
   "source": [
    "MEASURE_TO_PATTERN = {\"granger\": \"o\", \"coherence\": \"\"}"
   ]
  },
  {
   "cell_type": "markdown",
   "metadata": {
    "cell_id": "e3ee4891d43a4ac287413afc552ca289",
    "deepnote_cell_type": "text-cell-h2",
    "formattedRanges": []
   },
   "source": [
    "## Outputs"
   ]
  },
  {
   "cell_type": "markdown",
   "metadata": {
    "cell_id": "9ccbf6cc70fd4d379fa29317f733771f",
    "deepnote_cell_type": "text-cell-p",
    "formattedRanges": []
   },
   "source": [
    "Describe each output that the notebook creates. "
   ]
  },
  {
   "cell_type": "markdown",
   "metadata": {
    "cell_id": "fc8e8920a6944918a15fac575cdf6e78",
    "deepnote_cell_type": "text-cell-bullet",
    "formattedRanges": []
   },
   "source": [
    "- Is it a plot or is it data?"
   ]
  },
  {
   "cell_type": "markdown",
   "metadata": {
    "cell_id": "1e639d4776a84aa9ac8ded2e14fa57db",
    "deepnote_cell_type": "text-cell-bullet",
    "formattedRanges": []
   },
   "source": [
    "- How valuable is the output and why is it valuable or useful?"
   ]
  },
  {
   "cell_type": "markdown",
   "metadata": {},
   "source": [
    "## Functions "
   ]
  },
  {
   "cell_type": "code",
   "execution_count": 12,
   "metadata": {},
   "outputs": [],
   "source": [
    "def get_region_network(row, columns, low_index=0, high_index=1):\n",
    "    directed_graph = nx.DiGraph()\n",
    "    for col in columns:\n",
    "        region_1 = col.split(\"_\")[0]\n",
    "        region_2 = col.split(\"_\")[1]\n",
    "        directed_graph.add_edge(region_1, region_2, weight=np.mean(row[col][low_index:high_index]))\n",
    "    return directed_graph"
   ]
  },
  {
   "cell_type": "markdown",
   "metadata": {
    "cell_id": "8999d19b6b7d4d63bc90f0b0bd9ab085",
    "deepnote_cell_type": "text-cell-h2",
    "formattedRanges": []
   },
   "source": [
    "# Part 1. Making predictions of winning vs losing based on power"
   ]
  },
  {
   "cell_type": "markdown",
   "metadata": {},
   "source": [
    "## Processing"
   ]
  },
  {
   "cell_type": "markdown",
   "metadata": {
    "cell_id": "9b36cdf08567463082b005cb0dec684b",
    "deepnote_cell_type": "text-cell-p",
    "formattedRanges": []
   },
   "source": [
    "Describe what is done to the data here and how inputs are manipulated to generate outputs. "
   ]
  },
  {
   "cell_type": "code",
   "execution_count": 13,
   "metadata": {
    "cell_id": "89aaba237c644628b1b37604b75e7cb1",
    "deepnote_cell_type": "code"
   },
   "outputs": [],
   "source": [
    "# As much code and as many cells as required\n",
    "# includes EDA and playing with data\n",
    "# GO HAM!\n",
    "\n",
    "# Ideally functions are defined here first and then data is processed using the functions\n",
    "\n",
    "# function names are short and in snake case all lowercase\n",
    "# a function name should be unique but does not have to describe the function\n",
    "# doc strings describe functions not function names\n",
    "\n",
    "\n"
   ]
  },
  {
   "cell_type": "code",
   "execution_count": 14,
   "metadata": {},
   "outputs": [],
   "source": [
    "ALL_BANDS = [\"theta\", \"beta\", \"gamma\"]\n",
    "# BAND_TO_FREQ = {\"theta\": {\"low_freq\": 4, \"high_freq\": 12}, \"beta\": {\"low_freq\": 13, \"high_freq\": 30}, \"gamma\": {\"low_freq\": 30, \"high_freq\": 70}}\n",
    "# BAND_TO_FREQ = {\"theta\": {\"low_freq\": 6, \"high_freq\": 11}, \"gamma\": {\"low_freq\": 30, \"high_freq\": 51}}\n",
    "BAND_TO_FREQ = {\"theta\": (6, 11), \"gamma\": (30, 51)}"
   ]
  },
  {
   "cell_type": "code",
   "execution_count": 15,
   "metadata": {},
   "outputs": [],
   "source": [
    "# MERGED_LFP_AND_SLEAP = pd.read_pickle(\"./proc/MERGED_LFP_AND_SLEAP.pkl\")\n",
    "MERGED_LFP_AND_SLEAP = pd.read_pickle(\"./proc/rce_lfp_power_and_velocity_region_col_baselinetrial_row.pkl\")"
   ]
  },
  {
   "cell_type": "markdown",
   "metadata": {},
   "source": [
    "- Filtering for powers that are from low velocity parts of the trial"
   ]
  },
  {
   "cell_type": "code",
   "execution_count": 16,
   "metadata": {},
   "outputs": [],
   "source": [
    "MERGED_LFP_AND_SLEAP = MERGED_LFP_AND_SLEAP[MERGED_LFP_AND_SLEAP[\"velocity_bin\"] == 0]"
   ]
  },
  {
   "cell_type": "code",
   "execution_count": 17,
   "metadata": {},
   "outputs": [],
   "source": [
    "MERGED_LFP_AND_SLEAP = MERGED_LFP_AND_SLEAP.dropna(subset=\"mPFC_trial_velocity_parsed_window_averaged_power\")"
   ]
  },
  {
   "cell_type": "code",
   "execution_count": 18,
   "metadata": {},
   "outputs": [
    {
     "data": {
      "text/html": [
       "<div>\n",
       "<style scoped>\n",
       "    .dataframe tbody tr th:only-of-type {\n",
       "        vertical-align: middle;\n",
       "    }\n",
       "\n",
       "    .dataframe tbody tr th {\n",
       "        vertical-align: top;\n",
       "    }\n",
       "\n",
       "    .dataframe thead th {\n",
       "        text-align: right;\n",
       "    }\n",
       "</style>\n",
       "<table border=\"1\" class=\"dataframe\">\n",
       "  <thead>\n",
       "    <tr style=\"text-align: right;\">\n",
       "      <th></th>\n",
       "      <th>time</th>\n",
       "      <th>recording_file</th>\n",
       "      <th>video_number</th>\n",
       "      <th>current_subject</th>\n",
       "      <th>recording_dir</th>\n",
       "      <th>video_file</th>\n",
       "      <th>video_frame</th>\n",
       "      <th>subject_info</th>\n",
       "      <th>competition_closeness</th>\n",
       "      <th>video_name</th>\n",
       "      <th>...</th>\n",
       "      <th>BLA_baseline_velocity_parsed_window_averaged_power</th>\n",
       "      <th>LH_baseline_velocity_parsed_window_averaged_power</th>\n",
       "      <th>MD_baseline_velocity_parsed_window_averaged_power</th>\n",
       "      <th>mPFC_trial_velocity_parsed_window_averaged_power</th>\n",
       "      <th>vHPC_trial_velocity_parsed_window_averaged_power</th>\n",
       "      <th>BLA_trial_velocity_parsed_window_averaged_power</th>\n",
       "      <th>LH_trial_velocity_parsed_window_averaged_power</th>\n",
       "      <th>MD_trial_velocity_parsed_window_averaged_power</th>\n",
       "      <th>velocity_bin</th>\n",
       "      <th>frequencies</th>\n",
       "    </tr>\n",
       "  </thead>\n",
       "  <tbody>\n",
       "    <tr>\n",
       "      <th>0</th>\n",
       "      <td>30950500</td>\n",
       "      <td>20221214_125409_om_and_comp_6_1_top_1_base_2_v...</td>\n",
       "      <td>1.0</td>\n",
       "      <td>6.1</td>\n",
       "      <td>20221214_125409_om_and_comp_6_1_and_6_3</td>\n",
       "      <td>20221214_125409_om_and_comp_6_1_and_6_3.1.vide...</td>\n",
       "      <td>28574</td>\n",
       "      <td>6_1_top_1_base_2_vs_6_3</td>\n",
       "      <td>win_non_comp</td>\n",
       "      <td>20221214_125409_om_and_comp_6_1_and_6_3.1</td>\n",
       "      <td>...</td>\n",
       "      <td>[0.010145535440317942, 0.011624272451715675, 0...</td>\n",
       "      <td>[0.01952660012000586, 0.017772082582421238, 0....</td>\n",
       "      <td>[0.01778550514353918, 0.01897019616318901, 0.0...</td>\n",
       "      <td>[0.01112484550257713, 0.015120199991768696, 0....</td>\n",
       "      <td>[0.00573943622687832, 0.012813267052382366, 0....</td>\n",
       "      <td>[0.015508890354088953, 0.012618618461083244, 0...</td>\n",
       "      <td>[0.027674524080577086, 0.02514619788253305, 0....</td>\n",
       "      <td>[0.014378295669285448, 0.015305386679455314, 0...</td>\n",
       "      <td>0</td>\n",
       "      <td>[0.0, 1.0, 2.0, 3.0, 4.0, 5.0, 6.0, 7.0, 8.0, ...</td>\n",
       "    </tr>\n",
       "    <tr>\n",
       "      <th>1</th>\n",
       "      <td>32550496</td>\n",
       "      <td>20221214_125409_om_and_comp_6_1_top_1_base_2_v...</td>\n",
       "      <td>1.0</td>\n",
       "      <td>6.1</td>\n",
       "      <td>20221214_125409_om_and_comp_6_1_and_6_3</td>\n",
       "      <td>20221214_125409_om_and_comp_6_1_and_6_3.1.vide...</td>\n",
       "      <td>30569</td>\n",
       "      <td>6_1_top_1_base_2_vs_6_3</td>\n",
       "      <td>win_non_comp</td>\n",
       "      <td>20221214_125409_om_and_comp_6_1_and_6_3.1</td>\n",
       "      <td>...</td>\n",
       "      <td>[0.00823701774957169, 0.009281212634719831, 0....</td>\n",
       "      <td>[0.012885928183822549, 0.012568993929378573, 0...</td>\n",
       "      <td>[0.013896368652451217, 0.012784355104092298, 0...</td>\n",
       "      <td>[0.005072513655663902, 0.0071730776351884, 0.0...</td>\n",
       "      <td>[0.017807810758419772, 0.02051735783988241, 0....</td>\n",
       "      <td>[0.0075150800916258895, 0.012030467854449603, ...</td>\n",
       "      <td>[0.003644272984766944, 0.005808118645131345, 0...</td>\n",
       "      <td>[0.006489759161394153, 0.007582477136466669, 0...</td>\n",
       "      <td>0</td>\n",
       "      <td>[0.0, 1.0, 2.0, 3.0, 4.0, 5.0, 6.0, 7.0, 8.0, ...</td>\n",
       "    </tr>\n",
       "    <tr>\n",
       "      <th>2</th>\n",
       "      <td>34350494</td>\n",
       "      <td>20221214_125409_om_and_comp_6_1_top_1_base_2_v...</td>\n",
       "      <td>1.0</td>\n",
       "      <td>6.1</td>\n",
       "      <td>20221214_125409_om_and_comp_6_1_and_6_3</td>\n",
       "      <td>20221214_125409_om_and_comp_6_1_and_6_3.1.vide...</td>\n",
       "      <td>32813</td>\n",
       "      <td>6_1_top_1_base_2_vs_6_3</td>\n",
       "      <td>win_non_comp</td>\n",
       "      <td>20221214_125409_om_and_comp_6_1_and_6_3.1</td>\n",
       "      <td>...</td>\n",
       "      <td>[0.006183388134788041, 0.009603665159479137, 0...</td>\n",
       "      <td>[0.006718227932426397, 0.010783870179057256, 0...</td>\n",
       "      <td>[0.00397248449841989, 0.005886471427959379, 0....</td>\n",
       "      <td>[0.01043389231412404, 0.011229291113011746, 0....</td>\n",
       "      <td>[0.018798404711232963, 0.024949532187259045, 0...</td>\n",
       "      <td>[0.009525639680784495, 0.010941343792716796, 0...</td>\n",
       "      <td>[0.016095087975310174, 0.015224296452442521, 0...</td>\n",
       "      <td>[0.011809376046566988, 0.010816138136563104, 0...</td>\n",
       "      <td>0</td>\n",
       "      <td>[0.0, 1.0, 2.0, 3.0, 4.0, 5.0, 6.0, 7.0, 8.0, ...</td>\n",
       "    </tr>\n",
       "    <tr>\n",
       "      <th>3</th>\n",
       "      <td>35950496</td>\n",
       "      <td>20221214_125409_om_and_comp_6_1_top_1_base_2_v...</td>\n",
       "      <td>1.0</td>\n",
       "      <td>6.1</td>\n",
       "      <td>20221214_125409_om_and_comp_6_1_and_6_3</td>\n",
       "      <td>20221214_125409_om_and_comp_6_1_and_6_3.1.vide...</td>\n",
       "      <td>34807</td>\n",
       "      <td>6_1_top_1_base_2_vs_6_3</td>\n",
       "      <td>win_non_comp</td>\n",
       "      <td>20221214_125409_om_and_comp_6_1_and_6_3.1</td>\n",
       "      <td>...</td>\n",
       "      <td>[0.00689989260430601, 0.009437438029868149, 0....</td>\n",
       "      <td>[0.010951516062517489, 0.010717930878165088, 0...</td>\n",
       "      <td>[0.008629680530200008, 0.008992947836672616, 0...</td>\n",
       "      <td>[0.006360855718027482, 0.007822405773560854, 0...</td>\n",
       "      <td>[0.0164348816792982, 0.024643952502461323, 0.0...</td>\n",
       "      <td>[0.00733101472807534, 0.00976732655872932, 0.0...</td>\n",
       "      <td>[0.00947190548027983, 0.009763030808051793, 0....</td>\n",
       "      <td>[0.008773587979931309, 0.01012670187919228, 0....</td>\n",
       "      <td>0</td>\n",
       "      <td>[0.0, 1.0, 2.0, 3.0, 4.0, 5.0, 6.0, 7.0, 8.0, ...</td>\n",
       "    </tr>\n",
       "    <tr>\n",
       "      <th>4</th>\n",
       "      <td>37450494</td>\n",
       "      <td>20221214_125409_om_and_comp_6_1_top_1_base_2_v...</td>\n",
       "      <td>1.0</td>\n",
       "      <td>6.1</td>\n",
       "      <td>20221214_125409_om_and_comp_6_1_and_6_3</td>\n",
       "      <td>20221214_125409_om_and_comp_6_1_and_6_3.1.vide...</td>\n",
       "      <td>36677</td>\n",
       "      <td>6_1_top_1_base_2_vs_6_3</td>\n",
       "      <td>win_non_comp</td>\n",
       "      <td>20221214_125409_om_and_comp_6_1_and_6_3.1</td>\n",
       "      <td>...</td>\n",
       "      <td>[0.008417580092331515, 0.011043369664016898, 0...</td>\n",
       "      <td>[0.011461996012372484, 0.01681702443398114, 0....</td>\n",
       "      <td>[0.011745971164537366, 0.017127554039316758, 0...</td>\n",
       "      <td>[0.00866204042766737, 0.008177641470017987, 0....</td>\n",
       "      <td>[0.01034111326211159, 0.021752070821626196, 0....</td>\n",
       "      <td>[0.00915661312184362, 0.010635218445454437, 0....</td>\n",
       "      <td>[0.010863756757808832, 0.011393485381211335, 0...</td>\n",
       "      <td>[0.009990001529841726, 0.009734706672308245, 0...</td>\n",
       "      <td>0</td>\n",
       "      <td>[0.0, 1.0, 2.0, 3.0, 4.0, 5.0, 6.0, 7.0, 8.0, ...</td>\n",
       "    </tr>\n",
       "  </tbody>\n",
       "</table>\n",
       "<p>5 rows × 53 columns</p>\n",
       "</div>"
      ],
      "text/plain": [
       "       time                                     recording_file  video_number  \\\n",
       "0  30950500  20221214_125409_om_and_comp_6_1_top_1_base_2_v...           1.0   \n",
       "1  32550496  20221214_125409_om_and_comp_6_1_top_1_base_2_v...           1.0   \n",
       "2  34350494  20221214_125409_om_and_comp_6_1_top_1_base_2_v...           1.0   \n",
       "3  35950496  20221214_125409_om_and_comp_6_1_top_1_base_2_v...           1.0   \n",
       "4  37450494  20221214_125409_om_and_comp_6_1_top_1_base_2_v...           1.0   \n",
       "\n",
       "  current_subject                            recording_dir  \\\n",
       "0             6.1  20221214_125409_om_and_comp_6_1_and_6_3   \n",
       "1             6.1  20221214_125409_om_and_comp_6_1_and_6_3   \n",
       "2             6.1  20221214_125409_om_and_comp_6_1_and_6_3   \n",
       "3             6.1  20221214_125409_om_and_comp_6_1_and_6_3   \n",
       "4             6.1  20221214_125409_om_and_comp_6_1_and_6_3   \n",
       "\n",
       "                                          video_file  video_frame  \\\n",
       "0  20221214_125409_om_and_comp_6_1_and_6_3.1.vide...        28574   \n",
       "1  20221214_125409_om_and_comp_6_1_and_6_3.1.vide...        30569   \n",
       "2  20221214_125409_om_and_comp_6_1_and_6_3.1.vide...        32813   \n",
       "3  20221214_125409_om_and_comp_6_1_and_6_3.1.vide...        34807   \n",
       "4  20221214_125409_om_and_comp_6_1_and_6_3.1.vide...        36677   \n",
       "\n",
       "              subject_info competition_closeness  \\\n",
       "0  6_1_top_1_base_2_vs_6_3          win_non_comp   \n",
       "1  6_1_top_1_base_2_vs_6_3          win_non_comp   \n",
       "2  6_1_top_1_base_2_vs_6_3          win_non_comp   \n",
       "3  6_1_top_1_base_2_vs_6_3          win_non_comp   \n",
       "4  6_1_top_1_base_2_vs_6_3          win_non_comp   \n",
       "\n",
       "                                  video_name  ...  \\\n",
       "0  20221214_125409_om_and_comp_6_1_and_6_3.1  ...   \n",
       "1  20221214_125409_om_and_comp_6_1_and_6_3.1  ...   \n",
       "2  20221214_125409_om_and_comp_6_1_and_6_3.1  ...   \n",
       "3  20221214_125409_om_and_comp_6_1_and_6_3.1  ...   \n",
       "4  20221214_125409_om_and_comp_6_1_and_6_3.1  ...   \n",
       "\n",
       "  BLA_baseline_velocity_parsed_window_averaged_power  \\\n",
       "0  [0.010145535440317942, 0.011624272451715675, 0...   \n",
       "1  [0.00823701774957169, 0.009281212634719831, 0....   \n",
       "2  [0.006183388134788041, 0.009603665159479137, 0...   \n",
       "3  [0.00689989260430601, 0.009437438029868149, 0....   \n",
       "4  [0.008417580092331515, 0.011043369664016898, 0...   \n",
       "\n",
       "   LH_baseline_velocity_parsed_window_averaged_power  \\\n",
       "0  [0.01952660012000586, 0.017772082582421238, 0....   \n",
       "1  [0.012885928183822549, 0.012568993929378573, 0...   \n",
       "2  [0.006718227932426397, 0.010783870179057256, 0...   \n",
       "3  [0.010951516062517489, 0.010717930878165088, 0...   \n",
       "4  [0.011461996012372484, 0.01681702443398114, 0....   \n",
       "\n",
       "   MD_baseline_velocity_parsed_window_averaged_power  \\\n",
       "0  [0.01778550514353918, 0.01897019616318901, 0.0...   \n",
       "1  [0.013896368652451217, 0.012784355104092298, 0...   \n",
       "2  [0.00397248449841989, 0.005886471427959379, 0....   \n",
       "3  [0.008629680530200008, 0.008992947836672616, 0...   \n",
       "4  [0.011745971164537366, 0.017127554039316758, 0...   \n",
       "\n",
       "    mPFC_trial_velocity_parsed_window_averaged_power  \\\n",
       "0  [0.01112484550257713, 0.015120199991768696, 0....   \n",
       "1  [0.005072513655663902, 0.0071730776351884, 0.0...   \n",
       "2  [0.01043389231412404, 0.011229291113011746, 0....   \n",
       "3  [0.006360855718027482, 0.007822405773560854, 0...   \n",
       "4  [0.00866204042766737, 0.008177641470017987, 0....   \n",
       "\n",
       "    vHPC_trial_velocity_parsed_window_averaged_power  \\\n",
       "0  [0.00573943622687832, 0.012813267052382366, 0....   \n",
       "1  [0.017807810758419772, 0.02051735783988241, 0....   \n",
       "2  [0.018798404711232963, 0.024949532187259045, 0...   \n",
       "3  [0.0164348816792982, 0.024643952502461323, 0.0...   \n",
       "4  [0.01034111326211159, 0.021752070821626196, 0....   \n",
       "\n",
       "     BLA_trial_velocity_parsed_window_averaged_power  \\\n",
       "0  [0.015508890354088953, 0.012618618461083244, 0...   \n",
       "1  [0.0075150800916258895, 0.012030467854449603, ...   \n",
       "2  [0.009525639680784495, 0.010941343792716796, 0...   \n",
       "3  [0.00733101472807534, 0.00976732655872932, 0.0...   \n",
       "4  [0.00915661312184362, 0.010635218445454437, 0....   \n",
       "\n",
       "      LH_trial_velocity_parsed_window_averaged_power  \\\n",
       "0  [0.027674524080577086, 0.02514619788253305, 0....   \n",
       "1  [0.003644272984766944, 0.005808118645131345, 0...   \n",
       "2  [0.016095087975310174, 0.015224296452442521, 0...   \n",
       "3  [0.00947190548027983, 0.009763030808051793, 0....   \n",
       "4  [0.010863756757808832, 0.011393485381211335, 0...   \n",
       "\n",
       "      MD_trial_velocity_parsed_window_averaged_power  velocity_bin  \\\n",
       "0  [0.014378295669285448, 0.015305386679455314, 0...             0   \n",
       "1  [0.006489759161394153, 0.007582477136466669, 0...             0   \n",
       "2  [0.011809376046566988, 0.010816138136563104, 0...             0   \n",
       "3  [0.008773587979931309, 0.01012670187919228, 0....             0   \n",
       "4  [0.009990001529841726, 0.009734706672308245, 0...             0   \n",
       "\n",
       "                                         frequencies  \n",
       "0  [0.0, 1.0, 2.0, 3.0, 4.0, 5.0, 6.0, 7.0, 8.0, ...  \n",
       "1  [0.0, 1.0, 2.0, 3.0, 4.0, 5.0, 6.0, 7.0, 8.0, ...  \n",
       "2  [0.0, 1.0, 2.0, 3.0, 4.0, 5.0, 6.0, 7.0, 8.0, ...  \n",
       "3  [0.0, 1.0, 2.0, 3.0, 4.0, 5.0, 6.0, 7.0, 8.0, ...  \n",
       "4  [0.0, 1.0, 2.0, 3.0, 4.0, 5.0, 6.0, 7.0, 8.0, ...  \n",
       "\n",
       "[5 rows x 53 columns]"
      ]
     },
     "execution_count": 18,
     "metadata": {},
     "output_type": "execute_result"
    }
   ],
   "source": [
    "MERGED_LFP_AND_SLEAP.head()"
   ]
  },
  {
   "cell_type": "markdown",
   "metadata": {},
   "source": [
    "# Parsing for frequency bands"
   ]
  },
  {
   "cell_type": "code",
   "execution_count": 19,
   "metadata": {},
   "outputs": [
    {
     "data": {
      "text/plain": [
       "Index(['time', 'recording_file', 'video_number', 'current_subject',\n",
       "       'recording_dir', 'video_file', 'video_frame', 'subject_info',\n",
       "       'competition_closeness', 'video_name', 'all_subjects', 'trial_outcome',\n",
       "       'baseline_videoframe_range', 'trial_videoframe_range', 'trial_number',\n",
       "       'Cohort', 'file_path', 'start_frame', 'stop_frame',\n",
       "       'mPFC_baseline_all_window_power', 'mPFC_trial_all_window_power',\n",
       "       'vHPC_baseline_all_window_power', 'vHPC_trial_all_window_power',\n",
       "       'BLA_baseline_all_window_power', 'BLA_trial_all_window_power',\n",
       "       'LH_baseline_all_window_power', 'LH_trial_all_window_power',\n",
       "       'MD_baseline_all_window_power', 'MD_trial_all_window_power',\n",
       "       'mPFC_baseline_all_window_averaged_power',\n",
       "       'vHPC_baseline_all_window_averaged_power',\n",
       "       'BLA_baseline_all_window_averaged_power',\n",
       "       'LH_baseline_all_window_averaged_power',\n",
       "       'MD_baseline_all_window_averaged_power',\n",
       "       'mPFC_trial_all_window_averaged_power',\n",
       "       'vHPC_trial_all_window_averaged_power',\n",
       "       'BLA_trial_all_window_averaged_power',\n",
       "       'LH_trial_all_window_averaged_power',\n",
       "       'MD_trial_all_window_averaged_power', 'binned_trial_velocity_mask',\n",
       "       'binned_baseline_velocity_mask',\n",
       "       'mPFC_baseline_velocity_parsed_window_averaged_power',\n",
       "       'vHPC_baseline_velocity_parsed_window_averaged_power',\n",
       "       'BLA_baseline_velocity_parsed_window_averaged_power',\n",
       "       'LH_baseline_velocity_parsed_window_averaged_power',\n",
       "       'MD_baseline_velocity_parsed_window_averaged_power',\n",
       "       'mPFC_trial_velocity_parsed_window_averaged_power',\n",
       "       'vHPC_trial_velocity_parsed_window_averaged_power',\n",
       "       'BLA_trial_velocity_parsed_window_averaged_power',\n",
       "       'LH_trial_velocity_parsed_window_averaged_power',\n",
       "       'MD_trial_velocity_parsed_window_averaged_power', 'velocity_bin',\n",
       "       'frequencies'],\n",
       "      dtype='object')"
      ]
     },
     "execution_count": 19,
     "metadata": {},
     "output_type": "execute_result"
    }
   ],
   "source": [
    "MERGED_LFP_AND_SLEAP.columns\n"
   ]
  },
  {
   "cell_type": "code",
   "execution_count": 20,
   "metadata": {},
   "outputs": [],
   "source": [
    "velocity_parsed_window_averaged_power_columns = [col for col in MERGED_LFP_AND_SLEAP.columns if \"trial_velocity_parsed_window_averaged_power\" in col]"
   ]
  },
  {
   "cell_type": "markdown",
   "metadata": {},
   "source": [
    "- Parsing power based on frequency bands"
   ]
  },
  {
   "cell_type": "code",
   "execution_count": 21,
   "metadata": {},
   "outputs": [
    {
     "name": "stdout",
     "output_type": "stream",
     "text": [
      "mPFC_trial\n",
      "theta\n",
      "gamma\n",
      "vHPC_trial\n",
      "theta\n",
      "gamma\n",
      "BLA_trial\n",
      "theta\n",
      "gamma\n",
      "LH_trial\n",
      "theta\n",
      "gamma\n",
      "MD_trial\n",
      "theta\n",
      "gamma\n"
     ]
    }
   ],
   "source": [
    "for col in velocity_parsed_window_averaged_power_columns:\n",
    "    region_base_name = \"_\".join(col.split(\"_\")[:2])\n",
    "    print(region_base_name)\n",
    "    for band, (min_freq, max_freq) in BAND_TO_FREQ.items():\n",
    "        print(band)\n",
    "        MERGED_LFP_AND_SLEAP[\"{}_{}_all_power\".format(region_base_name, band)] = MERGED_LFP_AND_SLEAP[col].apply(lambda x: x[min_freq:max_freq])\n",
    "        MERGED_LFP_AND_SLEAP[\"{}_{}_mean_power\".format(region_base_name, band)] = MERGED_LFP_AND_SLEAP[\"{}_{}_all_power\".format(region_base_name, band)].apply(lambda x: x.mean())"
   ]
  },
  {
   "cell_type": "code",
   "execution_count": 22,
   "metadata": {
    "scrolled": true
   },
   "outputs": [],
   "source": [
    "feature_columns = [col for col in MERGED_LFP_AND_SLEAP.columns if \"mean_power\" in col]"
   ]
  },
  {
   "cell_type": "code",
   "execution_count": 23,
   "metadata": {},
   "outputs": [
    {
     "data": {
      "text/plain": [
       "['mPFC_trial_theta_mean_power',\n",
       " 'mPFC_trial_gamma_mean_power',\n",
       " 'vHPC_trial_theta_mean_power',\n",
       " 'vHPC_trial_gamma_mean_power',\n",
       " 'BLA_trial_theta_mean_power',\n",
       " 'BLA_trial_gamma_mean_power',\n",
       " 'LH_trial_theta_mean_power',\n",
       " 'LH_trial_gamma_mean_power',\n",
       " 'MD_trial_theta_mean_power',\n",
       " 'MD_trial_gamma_mean_power']"
      ]
     },
     "execution_count": 23,
     "metadata": {},
     "output_type": "execute_result"
    }
   ],
   "source": [
    "feature_columns"
   ]
  },
  {
   "cell_type": "markdown",
   "metadata": {},
   "source": [
    "- Filtering out for trials that are win vs loss"
   ]
  },
  {
   "cell_type": "code",
   "execution_count": 24,
   "metadata": {},
   "outputs": [],
   "source": [
    "network_df = MERGED_LFP_AND_SLEAP[MERGED_LFP_AND_SLEAP[\"trial_outcome\"].isin([\"win\", \"lose\", \"rewarded\"])]\n"
   ]
  },
  {
   "cell_type": "code",
   "execution_count": 25,
   "metadata": {},
   "outputs": [
    {
     "data": {
      "text/html": [
       "<div>\n",
       "<style scoped>\n",
       "    .dataframe tbody tr th:only-of-type {\n",
       "        vertical-align: middle;\n",
       "    }\n",
       "\n",
       "    .dataframe tbody tr th {\n",
       "        vertical-align: top;\n",
       "    }\n",
       "\n",
       "    .dataframe thead th {\n",
       "        text-align: right;\n",
       "    }\n",
       "</style>\n",
       "<table border=\"1\" class=\"dataframe\">\n",
       "  <thead>\n",
       "    <tr style=\"text-align: right;\">\n",
       "      <th></th>\n",
       "      <th>time</th>\n",
       "      <th>recording_file</th>\n",
       "      <th>video_number</th>\n",
       "      <th>current_subject</th>\n",
       "      <th>recording_dir</th>\n",
       "      <th>video_file</th>\n",
       "      <th>video_frame</th>\n",
       "      <th>subject_info</th>\n",
       "      <th>competition_closeness</th>\n",
       "      <th>video_name</th>\n",
       "      <th>...</th>\n",
       "      <th>BLA_trial_gamma_all_power</th>\n",
       "      <th>BLA_trial_gamma_mean_power</th>\n",
       "      <th>LH_trial_theta_all_power</th>\n",
       "      <th>LH_trial_theta_mean_power</th>\n",
       "      <th>LH_trial_gamma_all_power</th>\n",
       "      <th>LH_trial_gamma_mean_power</th>\n",
       "      <th>MD_trial_theta_all_power</th>\n",
       "      <th>MD_trial_theta_mean_power</th>\n",
       "      <th>MD_trial_gamma_all_power</th>\n",
       "      <th>MD_trial_gamma_mean_power</th>\n",
       "    </tr>\n",
       "    <tr>\n",
       "      <th>trial_outcome</th>\n",
       "      <th></th>\n",
       "      <th></th>\n",
       "      <th></th>\n",
       "      <th></th>\n",
       "      <th></th>\n",
       "      <th></th>\n",
       "      <th></th>\n",
       "      <th></th>\n",
       "      <th></th>\n",
       "      <th></th>\n",
       "      <th></th>\n",
       "      <th></th>\n",
       "      <th></th>\n",
       "      <th></th>\n",
       "      <th></th>\n",
       "      <th></th>\n",
       "      <th></th>\n",
       "      <th></th>\n",
       "      <th></th>\n",
       "      <th></th>\n",
       "      <th></th>\n",
       "    </tr>\n",
       "  </thead>\n",
       "  <tbody>\n",
       "    <tr>\n",
       "      <th>lose</th>\n",
       "      <td>81</td>\n",
       "      <td>81</td>\n",
       "      <td>81</td>\n",
       "      <td>81</td>\n",
       "      <td>81</td>\n",
       "      <td>81</td>\n",
       "      <td>81</td>\n",
       "      <td>81</td>\n",
       "      <td>81</td>\n",
       "      <td>81</td>\n",
       "      <td>...</td>\n",
       "      <td>81</td>\n",
       "      <td>81</td>\n",
       "      <td>81</td>\n",
       "      <td>81</td>\n",
       "      <td>81</td>\n",
       "      <td>81</td>\n",
       "      <td>81</td>\n",
       "      <td>81</td>\n",
       "      <td>81</td>\n",
       "      <td>81</td>\n",
       "    </tr>\n",
       "    <tr>\n",
       "      <th>rewarded</th>\n",
       "      <td>86</td>\n",
       "      <td>86</td>\n",
       "      <td>86</td>\n",
       "      <td>86</td>\n",
       "      <td>86</td>\n",
       "      <td>86</td>\n",
       "      <td>86</td>\n",
       "      <td>86</td>\n",
       "      <td>86</td>\n",
       "      <td>86</td>\n",
       "      <td>...</td>\n",
       "      <td>86</td>\n",
       "      <td>86</td>\n",
       "      <td>86</td>\n",
       "      <td>86</td>\n",
       "      <td>86</td>\n",
       "      <td>86</td>\n",
       "      <td>86</td>\n",
       "      <td>86</td>\n",
       "      <td>86</td>\n",
       "      <td>86</td>\n",
       "    </tr>\n",
       "    <tr>\n",
       "      <th>win</th>\n",
       "      <td>92</td>\n",
       "      <td>92</td>\n",
       "      <td>92</td>\n",
       "      <td>92</td>\n",
       "      <td>92</td>\n",
       "      <td>92</td>\n",
       "      <td>92</td>\n",
       "      <td>92</td>\n",
       "      <td>92</td>\n",
       "      <td>92</td>\n",
       "      <td>...</td>\n",
       "      <td>92</td>\n",
       "      <td>92</td>\n",
       "      <td>92</td>\n",
       "      <td>92</td>\n",
       "      <td>92</td>\n",
       "      <td>92</td>\n",
       "      <td>92</td>\n",
       "      <td>92</td>\n",
       "      <td>92</td>\n",
       "      <td>92</td>\n",
       "    </tr>\n",
       "  </tbody>\n",
       "</table>\n",
       "<p>3 rows × 72 columns</p>\n",
       "</div>"
      ],
      "text/plain": [
       "               time  recording_file  video_number  current_subject  \\\n",
       "trial_outcome                                                        \n",
       "lose             81              81            81               81   \n",
       "rewarded         86              86            86               86   \n",
       "win              92              92            92               92   \n",
       "\n",
       "               recording_dir  video_file  video_frame  subject_info  \\\n",
       "trial_outcome                                                         \n",
       "lose                      81          81           81            81   \n",
       "rewarded                  86          86           86            86   \n",
       "win                       92          92           92            92   \n",
       "\n",
       "               competition_closeness  video_name  ...  \\\n",
       "trial_outcome                                     ...   \n",
       "lose                              81          81  ...   \n",
       "rewarded                          86          86  ...   \n",
       "win                               92          92  ...   \n",
       "\n",
       "               BLA_trial_gamma_all_power  BLA_trial_gamma_mean_power  \\\n",
       "trial_outcome                                                          \n",
       "lose                                  81                          81   \n",
       "rewarded                              86                          86   \n",
       "win                                   92                          92   \n",
       "\n",
       "               LH_trial_theta_all_power  LH_trial_theta_mean_power  \\\n",
       "trial_outcome                                                        \n",
       "lose                                 81                         81   \n",
       "rewarded                             86                         86   \n",
       "win                                  92                         92   \n",
       "\n",
       "               LH_trial_gamma_all_power  LH_trial_gamma_mean_power  \\\n",
       "trial_outcome                                                        \n",
       "lose                                 81                         81   \n",
       "rewarded                             86                         86   \n",
       "win                                  92                         92   \n",
       "\n",
       "               MD_trial_theta_all_power  MD_trial_theta_mean_power  \\\n",
       "trial_outcome                                                        \n",
       "lose                                 81                         81   \n",
       "rewarded                             86                         86   \n",
       "win                                  92                         92   \n",
       "\n",
       "               MD_trial_gamma_all_power  MD_trial_gamma_mean_power  \n",
       "trial_outcome                                                       \n",
       "lose                                 81                         81  \n",
       "rewarded                             86                         86  \n",
       "win                                  92                         92  \n",
       "\n",
       "[3 rows x 72 columns]"
      ]
     },
     "execution_count": 25,
     "metadata": {},
     "output_type": "execute_result"
    }
   ],
   "source": [
    "network_df.groupby(\"trial_outcome\").count()"
   ]
  },
  {
   "cell_type": "code",
   "execution_count": 26,
   "metadata": {},
   "outputs": [],
   "source": [
    "network_array = network_df[feature_columns].values"
   ]
  },
  {
   "cell_type": "code",
   "execution_count": 27,
   "metadata": {
    "scrolled": true
   },
   "outputs": [
    {
     "data": {
      "text/html": [
       "<div>\n",
       "<style scoped>\n",
       "    .dataframe tbody tr th:only-of-type {\n",
       "        vertical-align: middle;\n",
       "    }\n",
       "\n",
       "    .dataframe tbody tr th {\n",
       "        vertical-align: top;\n",
       "    }\n",
       "\n",
       "    .dataframe thead th {\n",
       "        text-align: right;\n",
       "    }\n",
       "</style>\n",
       "<table border=\"1\" class=\"dataframe\">\n",
       "  <thead>\n",
       "    <tr style=\"text-align: right;\">\n",
       "      <th></th>\n",
       "      <th>time</th>\n",
       "      <th>recording_file</th>\n",
       "      <th>video_number</th>\n",
       "      <th>current_subject</th>\n",
       "      <th>recording_dir</th>\n",
       "      <th>video_file</th>\n",
       "      <th>video_frame</th>\n",
       "      <th>subject_info</th>\n",
       "      <th>competition_closeness</th>\n",
       "      <th>video_name</th>\n",
       "      <th>...</th>\n",
       "      <th>BLA_trial_gamma_all_power</th>\n",
       "      <th>BLA_trial_gamma_mean_power</th>\n",
       "      <th>LH_trial_theta_all_power</th>\n",
       "      <th>LH_trial_theta_mean_power</th>\n",
       "      <th>LH_trial_gamma_all_power</th>\n",
       "      <th>LH_trial_gamma_mean_power</th>\n",
       "      <th>MD_trial_theta_all_power</th>\n",
       "      <th>MD_trial_theta_mean_power</th>\n",
       "      <th>MD_trial_gamma_all_power</th>\n",
       "      <th>MD_trial_gamma_mean_power</th>\n",
       "    </tr>\n",
       "  </thead>\n",
       "  <tbody>\n",
       "    <tr>\n",
       "      <th>0</th>\n",
       "      <td>30950500</td>\n",
       "      <td>20221214_125409_om_and_comp_6_1_top_1_base_2_v...</td>\n",
       "      <td>1.0</td>\n",
       "      <td>6.1</td>\n",
       "      <td>20221214_125409_om_and_comp_6_1_and_6_3</td>\n",
       "      <td>20221214_125409_om_and_comp_6_1_and_6_3.1.vide...</td>\n",
       "      <td>28574</td>\n",
       "      <td>6_1_top_1_base_2_vs_6_3</td>\n",
       "      <td>win_non_comp</td>\n",
       "      <td>20221214_125409_om_and_comp_6_1_and_6_3.1</td>\n",
       "      <td>...</td>\n",
       "      <td>[0.0058572425135254855, 0.006024155421019179, ...</td>\n",
       "      <td>0.004916</td>\n",
       "      <td>[0.031683409779156166, 0.035901720219428834, 0...</td>\n",
       "      <td>0.032140</td>\n",
       "      <td>[0.0016897028177461373, 0.0016958708773867038,...</td>\n",
       "      <td>0.001219</td>\n",
       "      <td>[0.033682761710991674, 0.04939171762101172, 0....</td>\n",
       "      <td>0.048547</td>\n",
       "      <td>[0.00150702771435435, 0.0013828970830310156, 0...</td>\n",
       "      <td>0.001073</td>\n",
       "    </tr>\n",
       "    <tr>\n",
       "      <th>1</th>\n",
       "      <td>32550496</td>\n",
       "      <td>20221214_125409_om_and_comp_6_1_top_1_base_2_v...</td>\n",
       "      <td>1.0</td>\n",
       "      <td>6.1</td>\n",
       "      <td>20221214_125409_om_and_comp_6_1_and_6_3</td>\n",
       "      <td>20221214_125409_om_and_comp_6_1_and_6_3.1.vide...</td>\n",
       "      <td>30569</td>\n",
       "      <td>6_1_top_1_base_2_vs_6_3</td>\n",
       "      <td>win_non_comp</td>\n",
       "      <td>20221214_125409_om_and_comp_6_1_and_6_3.1</td>\n",
       "      <td>...</td>\n",
       "      <td>[0.0028734564419150522, 0.002626836181665971, ...</td>\n",
       "      <td>0.002994</td>\n",
       "      <td>[0.04559739021371773, 0.02580874058372985, 0.0...</td>\n",
       "      <td>0.021477</td>\n",
       "      <td>[0.001913429314942553, 0.0020461830635455924, ...</td>\n",
       "      <td>0.001511</td>\n",
       "      <td>[0.06317393258084905, 0.04281980489526815, 0.0...</td>\n",
       "      <td>0.030281</td>\n",
       "      <td>[0.0011128775475115324, 0.0011790837765855223,...</td>\n",
       "      <td>0.000998</td>\n",
       "    </tr>\n",
       "    <tr>\n",
       "      <th>2</th>\n",
       "      <td>34350494</td>\n",
       "      <td>20221214_125409_om_and_comp_6_1_top_1_base_2_v...</td>\n",
       "      <td>1.0</td>\n",
       "      <td>6.1</td>\n",
       "      <td>20221214_125409_om_and_comp_6_1_and_6_3</td>\n",
       "      <td>20221214_125409_om_and_comp_6_1_and_6_3.1.vide...</td>\n",
       "      <td>32813</td>\n",
       "      <td>6_1_top_1_base_2_vs_6_3</td>\n",
       "      <td>win_non_comp</td>\n",
       "      <td>20221214_125409_om_and_comp_6_1_and_6_3.1</td>\n",
       "      <td>...</td>\n",
       "      <td>[0.002494198219208697, 0.002866484029864364, 0...</td>\n",
       "      <td>0.002618</td>\n",
       "      <td>[0.03659953485388654, 0.013115579469448331, 0....</td>\n",
       "      <td>0.017692</td>\n",
       "      <td>[0.001480605803360029, 0.0015655109170097854, ...</td>\n",
       "      <td>0.001254</td>\n",
       "      <td>[0.04226830702139646, 0.01873280535085233, 0.0...</td>\n",
       "      <td>0.019936</td>\n",
       "      <td>[0.001131503018944822, 0.001213152223596419, 0...</td>\n",
       "      <td>0.000899</td>\n",
       "    </tr>\n",
       "    <tr>\n",
       "      <th>3</th>\n",
       "      <td>35950496</td>\n",
       "      <td>20221214_125409_om_and_comp_6_1_top_1_base_2_v...</td>\n",
       "      <td>1.0</td>\n",
       "      <td>6.1</td>\n",
       "      <td>20221214_125409_om_and_comp_6_1_and_6_3</td>\n",
       "      <td>20221214_125409_om_and_comp_6_1_and_6_3.1.vide...</td>\n",
       "      <td>34807</td>\n",
       "      <td>6_1_top_1_base_2_vs_6_3</td>\n",
       "      <td>win_non_comp</td>\n",
       "      <td>20221214_125409_om_and_comp_6_1_and_6_3.1</td>\n",
       "      <td>...</td>\n",
       "      <td>[0.002101977154352306, 0.0024552829403974435, ...</td>\n",
       "      <td>0.002457</td>\n",
       "      <td>[0.04464495113499005, 0.030182560195047767, 0....</td>\n",
       "      <td>0.027148</td>\n",
       "      <td>[0.0014821101132228914, 0.0014516937107344901,...</td>\n",
       "      <td>0.001211</td>\n",
       "      <td>[0.05282259663698554, 0.03794293105242014, 0.0...</td>\n",
       "      <td>0.028858</td>\n",
       "      <td>[0.0011698032064997586, 0.001110345269394579, ...</td>\n",
       "      <td>0.000963</td>\n",
       "    </tr>\n",
       "    <tr>\n",
       "      <th>4</th>\n",
       "      <td>37450494</td>\n",
       "      <td>20221214_125409_om_and_comp_6_1_top_1_base_2_v...</td>\n",
       "      <td>1.0</td>\n",
       "      <td>6.1</td>\n",
       "      <td>20221214_125409_om_and_comp_6_1_and_6_3</td>\n",
       "      <td>20221214_125409_om_and_comp_6_1_and_6_3.1.vide...</td>\n",
       "      <td>36677</td>\n",
       "      <td>6_1_top_1_base_2_vs_6_3</td>\n",
       "      <td>win_non_comp</td>\n",
       "      <td>20221214_125409_om_and_comp_6_1_and_6_3.1</td>\n",
       "      <td>...</td>\n",
       "      <td>[0.0025495252669991086, 0.002859794401033647, ...</td>\n",
       "      <td>0.002783</td>\n",
       "      <td>[0.04495987866467409, 0.02917219033567512, 0.0...</td>\n",
       "      <td>0.022270</td>\n",
       "      <td>[0.0017982008294426047, 0.0017415233964890372,...</td>\n",
       "      <td>0.001293</td>\n",
       "      <td>[0.05398227580806995, 0.03896985154579797, 0.0...</td>\n",
       "      <td>0.027711</td>\n",
       "      <td>[0.00129251660765889, 0.0013391750441791174, 0...</td>\n",
       "      <td>0.000886</td>\n",
       "    </tr>\n",
       "  </tbody>\n",
       "</table>\n",
       "<p>5 rows × 73 columns</p>\n",
       "</div>"
      ],
      "text/plain": [
       "       time                                     recording_file  video_number  \\\n",
       "0  30950500  20221214_125409_om_and_comp_6_1_top_1_base_2_v...           1.0   \n",
       "1  32550496  20221214_125409_om_and_comp_6_1_top_1_base_2_v...           1.0   \n",
       "2  34350494  20221214_125409_om_and_comp_6_1_top_1_base_2_v...           1.0   \n",
       "3  35950496  20221214_125409_om_and_comp_6_1_top_1_base_2_v...           1.0   \n",
       "4  37450494  20221214_125409_om_and_comp_6_1_top_1_base_2_v...           1.0   \n",
       "\n",
       "  current_subject                            recording_dir  \\\n",
       "0             6.1  20221214_125409_om_and_comp_6_1_and_6_3   \n",
       "1             6.1  20221214_125409_om_and_comp_6_1_and_6_3   \n",
       "2             6.1  20221214_125409_om_and_comp_6_1_and_6_3   \n",
       "3             6.1  20221214_125409_om_and_comp_6_1_and_6_3   \n",
       "4             6.1  20221214_125409_om_and_comp_6_1_and_6_3   \n",
       "\n",
       "                                          video_file  video_frame  \\\n",
       "0  20221214_125409_om_and_comp_6_1_and_6_3.1.vide...        28574   \n",
       "1  20221214_125409_om_and_comp_6_1_and_6_3.1.vide...        30569   \n",
       "2  20221214_125409_om_and_comp_6_1_and_6_3.1.vide...        32813   \n",
       "3  20221214_125409_om_and_comp_6_1_and_6_3.1.vide...        34807   \n",
       "4  20221214_125409_om_and_comp_6_1_and_6_3.1.vide...        36677   \n",
       "\n",
       "              subject_info competition_closeness  \\\n",
       "0  6_1_top_1_base_2_vs_6_3          win_non_comp   \n",
       "1  6_1_top_1_base_2_vs_6_3          win_non_comp   \n",
       "2  6_1_top_1_base_2_vs_6_3          win_non_comp   \n",
       "3  6_1_top_1_base_2_vs_6_3          win_non_comp   \n",
       "4  6_1_top_1_base_2_vs_6_3          win_non_comp   \n",
       "\n",
       "                                  video_name  ...  \\\n",
       "0  20221214_125409_om_and_comp_6_1_and_6_3.1  ...   \n",
       "1  20221214_125409_om_and_comp_6_1_and_6_3.1  ...   \n",
       "2  20221214_125409_om_and_comp_6_1_and_6_3.1  ...   \n",
       "3  20221214_125409_om_and_comp_6_1_and_6_3.1  ...   \n",
       "4  20221214_125409_om_and_comp_6_1_and_6_3.1  ...   \n",
       "\n",
       "                           BLA_trial_gamma_all_power  \\\n",
       "0  [0.0058572425135254855, 0.006024155421019179, ...   \n",
       "1  [0.0028734564419150522, 0.002626836181665971, ...   \n",
       "2  [0.002494198219208697, 0.002866484029864364, 0...   \n",
       "3  [0.002101977154352306, 0.0024552829403974435, ...   \n",
       "4  [0.0025495252669991086, 0.002859794401033647, ...   \n",
       "\n",
       "  BLA_trial_gamma_mean_power  \\\n",
       "0                   0.004916   \n",
       "1                   0.002994   \n",
       "2                   0.002618   \n",
       "3                   0.002457   \n",
       "4                   0.002783   \n",
       "\n",
       "                            LH_trial_theta_all_power  \\\n",
       "0  [0.031683409779156166, 0.035901720219428834, 0...   \n",
       "1  [0.04559739021371773, 0.02580874058372985, 0.0...   \n",
       "2  [0.03659953485388654, 0.013115579469448331, 0....   \n",
       "3  [0.04464495113499005, 0.030182560195047767, 0....   \n",
       "4  [0.04495987866467409, 0.02917219033567512, 0.0...   \n",
       "\n",
       "  LH_trial_theta_mean_power  \\\n",
       "0                  0.032140   \n",
       "1                  0.021477   \n",
       "2                  0.017692   \n",
       "3                  0.027148   \n",
       "4                  0.022270   \n",
       "\n",
       "                            LH_trial_gamma_all_power  \\\n",
       "0  [0.0016897028177461373, 0.0016958708773867038,...   \n",
       "1  [0.001913429314942553, 0.0020461830635455924, ...   \n",
       "2  [0.001480605803360029, 0.0015655109170097854, ...   \n",
       "3  [0.0014821101132228914, 0.0014516937107344901,...   \n",
       "4  [0.0017982008294426047, 0.0017415233964890372,...   \n",
       "\n",
       "   LH_trial_gamma_mean_power  \\\n",
       "0                   0.001219   \n",
       "1                   0.001511   \n",
       "2                   0.001254   \n",
       "3                   0.001211   \n",
       "4                   0.001293   \n",
       "\n",
       "                            MD_trial_theta_all_power  \\\n",
       "0  [0.033682761710991674, 0.04939171762101172, 0....   \n",
       "1  [0.06317393258084905, 0.04281980489526815, 0.0...   \n",
       "2  [0.04226830702139646, 0.01873280535085233, 0.0...   \n",
       "3  [0.05282259663698554, 0.03794293105242014, 0.0...   \n",
       "4  [0.05398227580806995, 0.03896985154579797, 0.0...   \n",
       "\n",
       "   MD_trial_theta_mean_power  \\\n",
       "0                   0.048547   \n",
       "1                   0.030281   \n",
       "2                   0.019936   \n",
       "3                   0.028858   \n",
       "4                   0.027711   \n",
       "\n",
       "                            MD_trial_gamma_all_power MD_trial_gamma_mean_power  \n",
       "0  [0.00150702771435435, 0.0013828970830310156, 0...                  0.001073  \n",
       "1  [0.0011128775475115324, 0.0011790837765855223,...                  0.000998  \n",
       "2  [0.001131503018944822, 0.001213152223596419, 0...                  0.000899  \n",
       "3  [0.0011698032064997586, 0.001110345269394579, ...                  0.000963  \n",
       "4  [0.00129251660765889, 0.0013391750441791174, 0...                  0.000886  \n",
       "\n",
       "[5 rows x 73 columns]"
      ]
     },
     "execution_count": 27,
     "metadata": {},
     "output_type": "execute_result"
    }
   ],
   "source": [
    "network_df.head()"
   ]
  },
  {
   "cell_type": "code",
   "execution_count": 28,
   "metadata": {},
   "outputs": [],
   "source": [
    "original_scores=[]\n",
    "kFold=KFold(n_splits=5,shuffle=True)\n",
    "\n",
    "# creating a RF classifier \n",
    "clf = RandomForestClassifier(n_estimators = 100)   \n",
    "for train_index, test_index in kFold.split(network_array):\n",
    "    \n",
    "    X_train = network_array[train_index]  \n",
    "    X_test = network_array[test_index]\n",
    "    y_train = network_df[\"trial_outcome\"].values[train_index]\n",
    "    y_test = network_df[\"trial_outcome\"].values[test_index]\n",
    "\n",
    "    # Training the model on the training dataset \n",
    "    # fit function is used to train the model using the training sets as parameters \n",
    "    clf.fit(X_train, y_train) \n",
    "    original_scores.append(clf.score(X_test,y_test))\n",
    "mean_original_scores = np.mean(original_scores)\n",
    "# 0.9393939393939394\n"
   ]
  },
  {
   "cell_type": "code",
   "execution_count": 29,
   "metadata": {},
   "outputs": [
    {
     "data": {
      "text/plain": [
       "[0.7115384615384616,\n",
       " 0.6923076923076923,\n",
       " 0.6153846153846154,\n",
       " 0.6346153846153846,\n",
       " 0.6470588235294118]"
      ]
     },
     "execution_count": 29,
     "metadata": {},
     "output_type": "execute_result"
    }
   ],
   "source": [
    "original_scores"
   ]
  },
  {
   "cell_type": "code",
   "execution_count": 30,
   "metadata": {},
   "outputs": [
    {
     "data": {
      "text/plain": [
       "array(['win', 'win', 'lose', 'win', 'win', 'win', 'win', 'win', 'win',\n",
       "       'lose', 'lose', 'lose', 'lose', 'lose', 'lose', 'win', 'win',\n",
       "       'win', 'rewarded', 'rewarded', 'rewarded', 'rewarded', 'rewarded',\n",
       "       'lose', 'win', 'lose', 'lose', 'lose', 'rewarded', 'rewarded',\n",
       "       'rewarded', 'rewarded', 'win', 'win', 'win', 'rewarded',\n",
       "       'rewarded', 'rewarded', 'rewarded', 'win', 'lose', 'lose',\n",
       "       'rewarded', 'rewarded', 'rewarded', 'rewarded', 'lose', 'lose',\n",
       "       'rewarded', 'rewarded', 'rewarded'], dtype=object)"
      ]
     },
     "execution_count": 30,
     "metadata": {},
     "output_type": "execute_result"
    }
   ],
   "source": [
    "y_test"
   ]
  },
  {
   "cell_type": "code",
   "execution_count": 31,
   "metadata": {
    "scrolled": true
   },
   "outputs": [
    {
     "data": {
      "text/plain": [
       "array(['win', 'lose', 'rewarded', 'win', 'win', 'win', 'lose', 'win',\n",
       "       'rewarded', 'lose', 'lose', 'lose', 'lose', 'lose', 'lose',\n",
       "       'rewarded', 'win', 'win', 'win', 'rewarded', 'win', 'win',\n",
       "       'rewarded', 'lose', 'lose', 'lose', 'lose', 'lose', 'rewarded',\n",
       "       'rewarded', 'rewarded', 'lose', 'win', 'lose', 'win', 'lose',\n",
       "       'lose', 'rewarded', 'win', 'lose', 'lose', 'lose', 'lose',\n",
       "       'rewarded', 'rewarded', 'rewarded', 'lose', 'rewarded', 'lose',\n",
       "       'rewarded', 'rewarded'], dtype=object)"
      ]
     },
     "execution_count": 31,
     "metadata": {},
     "output_type": "execute_result"
    }
   ],
   "source": [
    "clf.predict(X_test)"
   ]
  },
  {
   "cell_type": "code",
   "execution_count": 32,
   "metadata": {},
   "outputs": [],
   "source": [
    "OUTCOME_LABELS=[\"win\", \"lose\", \"rewarded\"]"
   ]
  },
  {
   "cell_type": "code",
   "execution_count": 33,
   "metadata": {},
   "outputs": [
    {
     "data": {
      "image/png": "[encoded data removed]",
      "text/plain": [
       "<Figure size 640x480 with 2 Axes>"
      ]
     },
     "metadata": {},
     "output_type": "display_data"
    }
   ],
   "source": [
    "#compute the confusion matrix.\n",
    "cm = confusion_matrix(clf.predict(X_test),y_test, labels=OUTCOME_LABELS)\n",
    "\n",
    "#Plot the confusion matrix.\n",
    "sns.heatmap(cm/sum(cm), \n",
    "            annot=True,\n",
    "            # fmt='g', \n",
    "            fmt='.2%',\n",
    "           cmap=\"Blues\", xticklabels=OUTCOME_LABELS, yticklabels=OUTCOME_LABELS)\n",
    "# sns.light_palette(\"seagreen\", as_cmap=True)\n",
    "\n",
    "plt.ylabel('Prediction',fontsize=13)\n",
    "plt.xlabel('Actual',fontsize=13)\n",
    "plt.title('Confusion Matrix',fontsize=17)\n",
    "plt.show()"
   ]
  },
  {
   "cell_type": "code",
   "execution_count": null,
   "metadata": {},
   "outputs": [],
   "source": []
  },
  {
   "cell_type": "code",
   "execution_count": 34,
   "metadata": {},
   "outputs": [],
   "source": [
    "importances = clf.feature_importances_\n",
    "std = np.std([tree.feature_importances_ for tree in clf.estimators_], axis=0)"
   ]
  },
  {
   "cell_type": "code",
   "execution_count": 35,
   "metadata": {},
   "outputs": [
    {
     "data": {
      "text/plain": [
       "array([0.05136097, 0.06674455, 0.04644678, 0.04858437, 0.05814012,\n",
       "       0.05549215, 0.05669348, 0.04623186, 0.05190822, 0.06286497])"
      ]
     },
     "execution_count": 35,
     "metadata": {},
     "output_type": "execute_result"
    }
   ],
   "source": [
    "std"
   ]
  },
  {
   "cell_type": "code",
   "execution_count": 36,
   "metadata": {},
   "outputs": [],
   "source": [
    "forest_importances = pd.DataFrame(importances, index=feature_columns).sort_values(0, ascending=False).reset_index()\n",
    "forest_importances = forest_importances.rename(columns={0: \"mdi\"})"
   ]
  },
  {
   "cell_type": "code",
   "execution_count": 37,
   "metadata": {},
   "outputs": [
    {
     "data": {
      "text/plain": [
       "0    mPFC_trial_gamma_mean_power\n",
       "1      MD_trial_gamma_mean_power\n",
       "2     BLA_trial_gamma_mean_power\n",
       "3    vHPC_trial_theta_mean_power\n",
       "4     BLA_trial_theta_mean_power\n",
       "5    vHPC_trial_gamma_mean_power\n",
       "6      LH_trial_theta_mean_power\n",
       "7    mPFC_trial_theta_mean_power\n",
       "8      MD_trial_theta_mean_power\n",
       "9      LH_trial_gamma_mean_power\n",
       "Name: index, dtype: object"
      ]
     },
     "execution_count": 37,
     "metadata": {},
     "output_type": "execute_result"
    }
   ],
   "source": [
    "forest_importances[\"index\"]"
   ]
  },
  {
   "cell_type": "code",
   "execution_count": 38,
   "metadata": {},
   "outputs": [],
   "source": [
    "forest_importances[\"brain_regions\"] = forest_importances[\"index\"].apply(lambda x: x.split(\"_\")[0])\n",
    "forest_importances[\"band\"] = forest_importances[\"index\"].apply(lambda x: x.split(\"_\")[2])"
   ]
  },
  {
   "cell_type": "code",
   "execution_count": 39,
   "metadata": {},
   "outputs": [],
   "source": [
    "forest_importances = forest_importances.iloc[:20]"
   ]
  },
  {
   "cell_type": "code",
   "execution_count": 40,
   "metadata": {},
   "outputs": [],
   "source": [
    "forest_importances[\"color\"] = forest_importances[\"band\"].map(BAND_TO_COLOR)\n",
    "# forest_importances[\"pattern\"] = forest_importances[\"measure\"].map(MEASURE_TO_PATTERN)"
   ]
  },
  {
   "cell_type": "code",
   "execution_count": 41,
   "metadata": {},
   "outputs": [],
   "source": [
    "forest_importances[\"index\"] = forest_importances[\"index\"].apply(lambda x: \" \".join([x.split(\"_\")[i] for i in [0,2]]))"
   ]
  },
  {
   "cell_type": "code",
   "execution_count": 42,
   "metadata": {},
   "outputs": [
    {
     "data": {
      "text/html": [
       "<div>\n",
       "<style scoped>\n",
       "    .dataframe tbody tr th:only-of-type {\n",
       "        vertical-align: middle;\n",
       "    }\n",
       "\n",
       "    .dataframe tbody tr th {\n",
       "        vertical-align: top;\n",
       "    }\n",
       "\n",
       "    .dataframe thead th {\n",
       "        text-align: right;\n",
       "    }\n",
       "</style>\n",
       "<table border=\"1\" class=\"dataframe\">\n",
       "  <thead>\n",
       "    <tr style=\"text-align: right;\">\n",
       "      <th></th>\n",
       "      <th>index</th>\n",
       "      <th>mdi</th>\n",
       "      <th>brain_regions</th>\n",
       "      <th>band</th>\n",
       "      <th>color</th>\n",
       "    </tr>\n",
       "  </thead>\n",
       "  <tbody>\n",
       "    <tr>\n",
       "      <th>0</th>\n",
       "      <td>mPFC gamma</td>\n",
       "      <td>0.122280</td>\n",
       "      <td>mPFC</td>\n",
       "      <td>gamma</td>\n",
       "      <td>#15616F</td>\n",
       "    </tr>\n",
       "    <tr>\n",
       "      <th>1</th>\n",
       "      <td>MD gamma</td>\n",
       "      <td>0.114474</td>\n",
       "      <td>MD</td>\n",
       "      <td>gamma</td>\n",
       "      <td>#15616F</td>\n",
       "    </tr>\n",
       "    <tr>\n",
       "      <th>2</th>\n",
       "      <td>BLA gamma</td>\n",
       "      <td>0.109357</td>\n",
       "      <td>BLA</td>\n",
       "      <td>gamma</td>\n",
       "      <td>#15616F</td>\n",
       "    </tr>\n",
       "    <tr>\n",
       "      <th>3</th>\n",
       "      <td>vHPC theta</td>\n",
       "      <td>0.105284</td>\n",
       "      <td>vHPC</td>\n",
       "      <td>theta</td>\n",
       "      <td>#FFAF00</td>\n",
       "    </tr>\n",
       "    <tr>\n",
       "      <th>4</th>\n",
       "      <td>BLA theta</td>\n",
       "      <td>0.102736</td>\n",
       "      <td>BLA</td>\n",
       "      <td>theta</td>\n",
       "      <td>#FFAF00</td>\n",
       "    </tr>\n",
       "    <tr>\n",
       "      <th>5</th>\n",
       "      <td>vHPC gamma</td>\n",
       "      <td>0.096257</td>\n",
       "      <td>vHPC</td>\n",
       "      <td>gamma</td>\n",
       "      <td>#15616F</td>\n",
       "    </tr>\n",
       "    <tr>\n",
       "      <th>6</th>\n",
       "      <td>LH theta</td>\n",
       "      <td>0.094317</td>\n",
       "      <td>LH</td>\n",
       "      <td>theta</td>\n",
       "      <td>#FFAF00</td>\n",
       "    </tr>\n",
       "    <tr>\n",
       "      <th>7</th>\n",
       "      <td>mPFC theta</td>\n",
       "      <td>0.091826</td>\n",
       "      <td>mPFC</td>\n",
       "      <td>theta</td>\n",
       "      <td>#FFAF00</td>\n",
       "    </tr>\n",
       "    <tr>\n",
       "      <th>8</th>\n",
       "      <td>MD theta</td>\n",
       "      <td>0.083607</td>\n",
       "      <td>MD</td>\n",
       "      <td>theta</td>\n",
       "      <td>#FFAF00</td>\n",
       "    </tr>\n",
       "    <tr>\n",
       "      <th>9</th>\n",
       "      <td>LH gamma</td>\n",
       "      <td>0.079860</td>\n",
       "      <td>LH</td>\n",
       "      <td>gamma</td>\n",
       "      <td>#15616F</td>\n",
       "    </tr>\n",
       "  </tbody>\n",
       "</table>\n",
       "</div>"
      ],
      "text/plain": [
       "        index       mdi brain_regions   band    color\n",
       "0  mPFC gamma  0.122280          mPFC  gamma  #15616F\n",
       "1    MD gamma  0.114474            MD  gamma  #15616F\n",
       "2   BLA gamma  0.109357           BLA  gamma  #15616F\n",
       "3  vHPC theta  0.105284          vHPC  theta  #FFAF00\n",
       "4   BLA theta  0.102736           BLA  theta  #FFAF00\n",
       "5  vHPC gamma  0.096257          vHPC  gamma  #15616F\n",
       "6    LH theta  0.094317            LH  theta  #FFAF00\n",
       "7  mPFC theta  0.091826          mPFC  theta  #FFAF00\n",
       "8    MD theta  0.083607            MD  theta  #FFAF00\n",
       "9    LH gamma  0.079860            LH  gamma  #15616F"
      ]
     },
     "execution_count": 42,
     "metadata": {},
     "output_type": "execute_result"
    }
   ],
   "source": [
    "forest_importances"
   ]
  },
  {
   "cell_type": "code",
   "execution_count": 43,
   "metadata": {},
   "outputs": [
    {
     "data": {
      "image/png": "[encoded data removed]",
      "text/plain": [
       "<Figure size 640x480 with 1 Axes>"
      ]
     },
     "metadata": {},
     "output_type": "display_data"
    }
   ],
   "source": [
    "for index, row in forest_importances.iterrows():\n",
    "    plt.bar(row[\"index\"], row[\"mdi\"], color=row[\"color\"], label=\"{}\".format(row[\"band\"]))\n",
    "\n",
    "plt.xticks(fontsize=10, rotation=90)\n",
    "handles, labels = plt.gca().get_legend_handles_labels()\n",
    "by_label = OrderedDict(zip(labels, handles))\n",
    "plt.legend(by_label.values(), by_label.keys())\n",
    "\n",
    "plt.title(\"Feature importances for winning/losing\", fontsize=20)\n",
    "plt.ylabel(\"Mean decrease in impurity\", fontsize=20)\n",
    "# plt.tight_layout()\n",
    "# plt.savefig(\"./proc/network/rf_feature_importance.png\")\n",
    "plt.show()"
   ]
  },
  {
   "cell_type": "markdown",
   "metadata": {},
   "source": [
    "- Shuffling the labels"
   ]
  },
  {
   "cell_type": "code",
   "execution_count": 44,
   "metadata": {},
   "outputs": [],
   "source": [
    "shuffled_scores=[]\n",
    "kFold=KFold(n_splits=5,shuffle=True)\n",
    "\n",
    "# creating a RF classifier \n",
    "clf = RandomForestClassifier(n_estimators = 100)   \n",
    "for train_index, test_index in kFold.split(network_array):\n",
    "    X_train = network_array[train_index]  \n",
    "    X_test = network_array[test_index]\n",
    "    y_train = shuffle(network_df[\"trial_outcome\"].values[train_index])\n",
    "    y_test = network_df[\"trial_outcome\"].values[test_index]\n",
    "\n",
    "    # Training the model on the training dataset \n",
    "    # fit function is used to train the model using the training sets as parameters \n",
    "    clf.fit(X_train, y_train) \n",
    "    shuffled_scores.append(clf.score(X_test,y_test))\n",
    "mean_shuffled_scores = np.mean(shuffled_scores)\n",
    "# 0.9393939393939394\n"
   ]
  },
  {
   "cell_type": "code",
   "execution_count": 45,
   "metadata": {},
   "outputs": [
    {
     "data": {
      "text/plain": [
       "[0.3269230769230769,\n",
       " 0.23076923076923078,\n",
       " 0.34615384615384615,\n",
       " 0.2692307692307692,\n",
       " 0.3137254901960784]"
      ]
     },
     "execution_count": 45,
     "metadata": {},
     "output_type": "execute_result"
    }
   ],
   "source": [
    "shuffled_scores"
   ]
  },
  {
   "cell_type": "code",
   "execution_count": 46,
   "metadata": {},
   "outputs": [
    {
     "data": {
      "text/plain": [
       "array(['lose', 'win', 'win', 'win', 'win', 'win', 'win', 'win', 'win',\n",
       "       'win', 'lose', 'lose', 'lose', 'lose', 'lose', 'lose', 'rewarded',\n",
       "       'rewarded', 'rewarded', 'win', 'lose', 'lose', 'lose', 'lose',\n",
       "       'rewarded', 'rewarded', 'rewarded', 'rewarded', 'rewarded',\n",
       "       'rewarded', 'win', 'win', 'rewarded', 'rewarded', 'rewarded',\n",
       "       'lose', 'win', 'win', 'rewarded', 'rewarded', 'rewarded',\n",
       "       'rewarded', 'lose', 'lose', 'lose', 'win', 'lose', 'lose',\n",
       "       'rewarded', 'rewarded', 'rewarded'], dtype=object)"
      ]
     },
     "execution_count": 46,
     "metadata": {},
     "output_type": "execute_result"
    }
   ],
   "source": [
    "y_test"
   ]
  },
  {
   "cell_type": "code",
   "execution_count": 47,
   "metadata": {},
   "outputs": [
    {
     "data": {
      "text/plain": [
       "array(['win', 'win', 'win', 'win', 'rewarded', 'rewarded', 'win',\n",
       "       'rewarded', 'lose', 'lose', 'rewarded', 'lose', 'rewarded', 'lose',\n",
       "       'lose', 'rewarded', 'rewarded', 'lose', 'lose', 'win', 'rewarded',\n",
       "       'rewarded', 'rewarded', 'win', 'rewarded', 'rewarded', 'rewarded',\n",
       "       'win', 'win', 'win', 'lose', 'win', 'lose', 'win', 'win',\n",
       "       'rewarded', 'lose', 'rewarded', 'win', 'win', 'win', 'lose', 'win',\n",
       "       'lose', 'win', 'win', 'rewarded', 'lose', 'lose', 'win', 'win'],\n",
       "      dtype=object)"
      ]
     },
     "execution_count": 47,
     "metadata": {},
     "output_type": "execute_result"
    }
   ],
   "source": [
    "clf.predict(X_test)"
   ]
  },
  {
   "cell_type": "code",
   "execution_count": 48,
   "metadata": {},
   "outputs": [
    {
     "data": {
      "text/plain": [
       "(array(['win', 'win', 'win', 'win', 'rewarded', 'rewarded', 'win',\n",
       "        'rewarded', 'lose', 'lose', 'rewarded', 'lose', 'rewarded', 'lose',\n",
       "        'lose', 'rewarded', 'rewarded', 'lose', 'lose', 'win', 'rewarded',\n",
       "        'rewarded', 'rewarded', 'win', 'rewarded', 'rewarded', 'rewarded',\n",
       "        'win', 'win', 'win', 'lose', 'win', 'lose', 'win', 'win',\n",
       "        'rewarded', 'lose', 'rewarded', 'win', 'win', 'win', 'lose', 'win',\n",
       "        'lose', 'win', 'win', 'rewarded', 'lose', 'lose', 'win', 'win'],\n",
       "       dtype=object),\n",
       " array(['lose', 'win', 'win', 'win', 'win', 'win', 'win', 'win', 'win',\n",
       "        'win', 'lose', 'lose', 'lose', 'lose', 'lose', 'lose', 'rewarded',\n",
       "        'rewarded', 'rewarded', 'win', 'lose', 'lose', 'lose', 'lose',\n",
       "        'rewarded', 'rewarded', 'rewarded', 'rewarded', 'rewarded',\n",
       "        'rewarded', 'win', 'win', 'rewarded', 'rewarded', 'rewarded',\n",
       "        'lose', 'win', 'win', 'rewarded', 'rewarded', 'rewarded',\n",
       "        'rewarded', 'lose', 'lose', 'lose', 'win', 'lose', 'lose',\n",
       "        'rewarded', 'rewarded', 'rewarded'], dtype=object))"
      ]
     },
     "execution_count": 48,
     "metadata": {},
     "output_type": "execute_result"
    }
   ],
   "source": [
    "clf.predict(X_test),y_test"
   ]
  },
  {
   "cell_type": "code",
   "execution_count": 49,
   "metadata": {},
   "outputs": [
    {
     "data": {
      "text/plain": [
       "['gamma',\n",
       " 'gamma',\n",
       " 'gamma',\n",
       " 'theta',\n",
       " 'theta',\n",
       " 'gamma',\n",
       " 'theta',\n",
       " 'theta',\n",
       " 'theta',\n",
       " 'gamma']"
      ]
     },
     "execution_count": 49,
     "metadata": {},
     "output_type": "execute_result"
    }
   ],
   "source": [
    "labels"
   ]
  },
  {
   "cell_type": "code",
   "execution_count": 50,
   "metadata": {},
   "outputs": [
    {
     "data": {
      "image/png": "[encoded data removed]",
      "text/plain": [
       "<Figure size 640x480 with 2 Axes>"
      ]
     },
     "metadata": {},
     "output_type": "display_data"
    }
   ],
   "source": [
    "#compute the confusion matrix.\n",
    "cm = confusion_matrix(clf.predict(X_test),y_test, labels=OUTCOME_LABELS)\n",
    "\n",
    "#Plot the confusion matrix.\n",
    "sns.heatmap(cm/sum(cm), \n",
    "            annot=True,\n",
    "            # fmt='g', \n",
    "            fmt='.2%',\n",
    "           cmap=\"Blues\", xticklabels=OUTCOME_LABELS, yticklabels=OUTCOME_LABELS)\n",
    "# sns.light_palette(\"seagreen\", as_cmap=True)\n",
    "\n",
    "plt.ylabel('Prediction',fontsize=13)\n",
    "plt.xlabel('Actual',fontsize=13)\n",
    "plt.title('Confusion Matrix',fontsize=17)\n",
    "plt.show()"
   ]
  },
  {
   "cell_type": "code",
   "execution_count": 51,
   "metadata": {},
   "outputs": [
    {
     "data": {
      "text/plain": [
       "[0.3269230769230769,\n",
       " 0.23076923076923078,\n",
       " 0.34615384615384615,\n",
       " 0.2692307692307692,\n",
       " 0.3137254901960784]"
      ]
     },
     "execution_count": 51,
     "metadata": {},
     "output_type": "execute_result"
    }
   ],
   "source": [
    "shuffled_scores"
   ]
  },
  {
   "cell_type": "code",
   "execution_count": 52,
   "metadata": {},
   "outputs": [
    {
     "data": {
      "text/plain": [
       "[0.7115384615384616,\n",
       " 0.6923076923076923,\n",
       " 0.6153846153846154,\n",
       " 0.6346153846153846,\n",
       " 0.6470588235294118]"
      ]
     },
     "execution_count": 52,
     "metadata": {},
     "output_type": "execute_result"
    }
   ],
   "source": [
    "original_scores"
   ]
  },
  {
   "cell_type": "code",
   "execution_count": 53,
   "metadata": {},
   "outputs": [
    {
     "data": {
      "image/png": "[encoded data removed]",
      "text/plain": [
       "<Figure size 640x480 with 1 Axes>"
      ]
     },
     "metadata": {},
     "output_type": "display_data"
    }
   ],
   "source": [
    "plt.bar(x=[\"Beta and Theta\", \"Shuffled\"], height=[np.mean(original_scores), np.mean(shuffled_scores)], color= [\"#FFAF00\", \"#15616F\"])\n",
    "plt.ylabel(\"Accuracy\", fontsize=20)\n",
    "plt.title(\"Random Forest Prediction\", fontsize=20)\n",
    "plt.errorbar([\"Beta and Theta\", \"Shuffled\"], [np.mean(original_scores), np.mean(shuffled_scores)], yerr=[np.std(original_scores), np.std(shuffled_scores)], fmt=\"o\", color=\"black\")\n",
    "plt.ylim(0,1)\n",
    "plt.tight_layout()\n",
    "plt.savefig(\"./proc/rf_power_predictions.png\")"
   ]
  },
  {
   "cell_type": "markdown",
   "metadata": {},
   "source": [
    "# With coherence and granger's causality"
   ]
  },
  {
   "cell_type": "code",
   "execution_count": null,
   "metadata": {},
   "outputs": [],
   "source": []
  },
  {
   "cell_type": "code",
   "execution_count": 55,
   "metadata": {},
   "outputs": [
    {
     "ename": "CUDARuntimeError",
     "evalue": "cudaErrorCompatNotSupportedOnDevice: forward compatibility was attempted on non supported HW",
     "output_type": "error",
     "traceback": [
      "\u001b[0;31m---------------------------------------------------------------------------\u001b[0m",
      "\u001b[0;31mCUDARuntimeError\u001b[0m                          Traceback (most recent call last)",
      "Cell \u001b[0;32mIn[55], line 1\u001b[0m\n\u001b[0;32m----> 1\u001b[0m MERGED_LFP_AND_SLEAP \u001b[38;5;241m=\u001b[39m \u001b[43mpd\u001b[49m\u001b[38;5;241;43m.\u001b[39;49m\u001b[43mread_pickle\u001b[49m\u001b[43m(\u001b[49m\u001b[38;5;124;43m\"\u001b[39;49m\u001b[38;5;124;43m./proc/MERGED_LFP_AND_SLEAP.pkl\u001b[39;49m\u001b[38;5;124;43m\"\u001b[39;49m\u001b[43m)\u001b[49m\n",
      "File \u001b[0;32m~/miniconda3/envs/spike_interface_0_99_0/lib/python3.10/site-packages/pandas/io/pickle.py:206\u001b[0m, in \u001b[0;36mread_pickle\u001b[0;34m(filepath_or_buffer, compression, storage_options)\u001b[0m\n\u001b[1;32m    203\u001b[0m     \u001b[38;5;28;01mwith\u001b[39;00m warnings\u001b[38;5;241m.\u001b[39mcatch_warnings(record\u001b[38;5;241m=\u001b[39m\u001b[38;5;28;01mTrue\u001b[39;00m):\n\u001b[1;32m    204\u001b[0m         \u001b[38;5;66;03m# We want to silence any warnings about, e.g. moved modules.\u001b[39;00m\n\u001b[1;32m    205\u001b[0m         warnings\u001b[38;5;241m.\u001b[39msimplefilter(\u001b[38;5;124m\"\u001b[39m\u001b[38;5;124mignore\u001b[39m\u001b[38;5;124m\"\u001b[39m, \u001b[38;5;167;01mWarning\u001b[39;00m)\n\u001b[0;32m--> 206\u001b[0m         \u001b[38;5;28;01mreturn\u001b[39;00m \u001b[43mpickle\u001b[49m\u001b[38;5;241;43m.\u001b[39;49m\u001b[43mload\u001b[49m\u001b[43m(\u001b[49m\u001b[43mhandles\u001b[49m\u001b[38;5;241;43m.\u001b[39;49m\u001b[43mhandle\u001b[49m\u001b[43m)\u001b[49m\n\u001b[1;32m    207\u001b[0m \u001b[38;5;28;01mexcept\u001b[39;00m excs_to_catch:\n\u001b[1;32m    208\u001b[0m     \u001b[38;5;66;03m# e.g.\u001b[39;00m\n\u001b[1;32m    209\u001b[0m     \u001b[38;5;66;03m#  \"No module named 'pandas.core.sparse.series'\"\u001b[39;00m\n\u001b[1;32m    210\u001b[0m     \u001b[38;5;66;03m#  \"Can't get attribute '__nat_unpickle' on <module 'pandas._libs.tslib\"\u001b[39;00m\n\u001b[1;32m    211\u001b[0m     \u001b[38;5;28;01mreturn\u001b[39;00m pc\u001b[38;5;241m.\u001b[39mload(handles\u001b[38;5;241m.\u001b[39mhandle, encoding\u001b[38;5;241m=\u001b[39m\u001b[38;5;28;01mNone\u001b[39;00m)\n",
      "File \u001b[0;32mcupy/_core/core.pyx:2376\u001b[0m, in \u001b[0;36mcupy._core.core.array\u001b[0;34m()\u001b[0m\n",
      "File \u001b[0;32mcupy/_core/core.pyx:2400\u001b[0m, in \u001b[0;36mcupy._core.core.array\u001b[0;34m()\u001b[0m\n",
      "File \u001b[0;32mcupy/_core/core.pyx:2531\u001b[0m, in \u001b[0;36mcupy._core.core._array_default\u001b[0;34m()\u001b[0m\n",
      "File \u001b[0;32mcupy/_core/core.pyx:132\u001b[0m, in \u001b[0;36mcupy._core.core.ndarray.__new__\u001b[0;34m()\u001b[0m\n",
      "File \u001b[0;32mcupy/_core/core.pyx:220\u001b[0m, in \u001b[0;36mcupy._core.core._ndarray_base._init\u001b[0;34m()\u001b[0m\n",
      "File \u001b[0;32mcupy/cuda/memory.pyx:740\u001b[0m, in \u001b[0;36mcupy.cuda.memory.alloc\u001b[0;34m()\u001b[0m\n",
      "File \u001b[0;32mcupy/cuda/memory.pyx:1426\u001b[0m, in \u001b[0;36mcupy.cuda.memory.MemoryPool.malloc\u001b[0;34m()\u001b[0m\n",
      "File \u001b[0;32mcupy/cuda/memory.pyx:1446\u001b[0m, in \u001b[0;36mcupy.cuda.memory.MemoryPool.malloc\u001b[0;34m()\u001b[0m\n",
      "File \u001b[0;32mcupy/cuda/device.pyx:47\u001b[0m, in \u001b[0;36mcupy.cuda.device.get_device_id\u001b[0;34m()\u001b[0m\n",
      "File \u001b[0;32mcupy_backends/cuda/api/runtime.pyx:179\u001b[0m, in \u001b[0;36mcupy_backends.cuda.api.runtime.getDevice\u001b[0;34m()\u001b[0m\n",
      "File \u001b[0;32mcupy_backends/cuda/api/runtime.pyx:144\u001b[0m, in \u001b[0;36mcupy_backends.cuda.api.runtime.check_status\u001b[0;34m()\u001b[0m\n",
      "\u001b[0;31mCUDARuntimeError\u001b[0m: cudaErrorCompatNotSupportedOnDevice: forward compatibility was attempted on non supported HW"
     ]
    }
   ],
   "source": [
    "MERGED_LFP_AND_SLEAP = pd.read_pickle(\"./proc/MERGED_LFP_AND_SLEAP.pkl\")\n"
   ]
  },
  {
   "cell_type": "code",
   "execution_count": 22,
   "metadata": {
    "scrolled": true
   },
   "outputs": [],
   "source": [
    "feature_columns = [col for col in MERGED_LFP_AND_SLEAP.columns if \"mean_power\" in col]"
   ]
  },
  {
   "cell_type": "code",
   "execution_count": 23,
   "metadata": {},
   "outputs": [
    {
     "data": {
      "text/plain": [
       "['mPFC_trial_theta_mean_power',\n",
       " 'mPFC_trial_gamma_mean_power',\n",
       " 'vHPC_trial_theta_mean_power',\n",
       " 'vHPC_trial_gamma_mean_power',\n",
       " 'BLA_trial_theta_mean_power',\n",
       " 'BLA_trial_gamma_mean_power',\n",
       " 'LH_trial_theta_mean_power',\n",
       " 'LH_trial_gamma_mean_power',\n",
       " 'MD_trial_theta_mean_power',\n",
       " 'MD_trial_gamma_mean_power']"
      ]
     },
     "execution_count": 23,
     "metadata": {},
     "output_type": "execute_result"
    }
   ],
   "source": [
    "feature_columns"
   ]
  },
  {
   "cell_type": "markdown",
   "metadata": {},
   "source": [
    "- Filtering out for trials that are win vs loss"
   ]
  },
  {
   "cell_type": "code",
   "execution_count": 24,
   "metadata": {},
   "outputs": [],
   "source": [
    "network_df = MERGED_LFP_AND_SLEAP[MERGED_LFP_AND_SLEAP[\"trial_outcome\"].isin([\"win\", \"lose\", \"rewarded\"])]\n"
   ]
  },
  {
   "cell_type": "code",
   "execution_count": 25,
   "metadata": {},
   "outputs": [
    {
     "data": {
      "text/html": [
       "<div>\n",
       "<style scoped>\n",
       "    .dataframe tbody tr th:only-of-type {\n",
       "        vertical-align: middle;\n",
       "    }\n",
       "\n",
       "    .dataframe tbody tr th {\n",
       "        vertical-align: top;\n",
       "    }\n",
       "\n",
       "    .dataframe thead th {\n",
       "        text-align: right;\n",
       "    }\n",
       "</style>\n",
       "<table border=\"1\" class=\"dataframe\">\n",
       "  <thead>\n",
       "    <tr style=\"text-align: right;\">\n",
       "      <th></th>\n",
       "      <th>time</th>\n",
       "      <th>recording_file</th>\n",
       "      <th>video_number</th>\n",
       "      <th>current_subject</th>\n",
       "      <th>recording_dir</th>\n",
       "      <th>video_file</th>\n",
       "      <th>video_frame</th>\n",
       "      <th>subject_info</th>\n",
       "      <th>competition_closeness</th>\n",
       "      <th>video_name</th>\n",
       "      <th>...</th>\n",
       "      <th>BLA_trial_gamma_all_power</th>\n",
       "      <th>BLA_trial_gamma_mean_power</th>\n",
       "      <th>LH_trial_theta_all_power</th>\n",
       "      <th>LH_trial_theta_mean_power</th>\n",
       "      <th>LH_trial_gamma_all_power</th>\n",
       "      <th>LH_trial_gamma_mean_power</th>\n",
       "      <th>MD_trial_theta_all_power</th>\n",
       "      <th>MD_trial_theta_mean_power</th>\n",
       "      <th>MD_trial_gamma_all_power</th>\n",
       "      <th>MD_trial_gamma_mean_power</th>\n",
       "    </tr>\n",
       "    <tr>\n",
       "      <th>trial_outcome</th>\n",
       "      <th></th>\n",
       "      <th></th>\n",
       "      <th></th>\n",
       "      <th></th>\n",
       "      <th></th>\n",
       "      <th></th>\n",
       "      <th></th>\n",
       "      <th></th>\n",
       "      <th></th>\n",
       "      <th></th>\n",
       "      <th></th>\n",
       "      <th></th>\n",
       "      <th></th>\n",
       "      <th></th>\n",
       "      <th></th>\n",
       "      <th></th>\n",
       "      <th></th>\n",
       "      <th></th>\n",
       "      <th></th>\n",
       "      <th></th>\n",
       "      <th></th>\n",
       "    </tr>\n",
       "  </thead>\n",
       "  <tbody>\n",
       "    <tr>\n",
       "      <th>lose</th>\n",
       "      <td>81</td>\n",
       "      <td>81</td>\n",
       "      <td>81</td>\n",
       "      <td>81</td>\n",
       "      <td>81</td>\n",
       "      <td>81</td>\n",
       "      <td>81</td>\n",
       "      <td>81</td>\n",
       "      <td>81</td>\n",
       "      <td>81</td>\n",
       "      <td>...</td>\n",
       "      <td>81</td>\n",
       "      <td>81</td>\n",
       "      <td>81</td>\n",
       "      <td>81</td>\n",
       "      <td>81</td>\n",
       "      <td>81</td>\n",
       "      <td>81</td>\n",
       "      <td>81</td>\n",
       "      <td>81</td>\n",
       "      <td>81</td>\n",
       "    </tr>\n",
       "    <tr>\n",
       "      <th>rewarded</th>\n",
       "      <td>86</td>\n",
       "      <td>86</td>\n",
       "      <td>86</td>\n",
       "      <td>86</td>\n",
       "      <td>86</td>\n",
       "      <td>86</td>\n",
       "      <td>86</td>\n",
       "      <td>86</td>\n",
       "      <td>86</td>\n",
       "      <td>86</td>\n",
       "      <td>...</td>\n",
       "      <td>86</td>\n",
       "      <td>86</td>\n",
       "      <td>86</td>\n",
       "      <td>86</td>\n",
       "      <td>86</td>\n",
       "      <td>86</td>\n",
       "      <td>86</td>\n",
       "      <td>86</td>\n",
       "      <td>86</td>\n",
       "      <td>86</td>\n",
       "    </tr>\n",
       "    <tr>\n",
       "      <th>win</th>\n",
       "      <td>92</td>\n",
       "      <td>92</td>\n",
       "      <td>92</td>\n",
       "      <td>92</td>\n",
       "      <td>92</td>\n",
       "      <td>92</td>\n",
       "      <td>92</td>\n",
       "      <td>92</td>\n",
       "      <td>92</td>\n",
       "      <td>92</td>\n",
       "      <td>...</td>\n",
       "      <td>92</td>\n",
       "      <td>92</td>\n",
       "      <td>92</td>\n",
       "      <td>92</td>\n",
       "      <td>92</td>\n",
       "      <td>92</td>\n",
       "      <td>92</td>\n",
       "      <td>92</td>\n",
       "      <td>92</td>\n",
       "      <td>92</td>\n",
       "    </tr>\n",
       "  </tbody>\n",
       "</table>\n",
       "<p>3 rows × 72 columns</p>\n",
       "</div>"
      ],
      "text/plain": [
       "               time  recording_file  video_number  current_subject  \\\n",
       "trial_outcome                                                        \n",
       "lose             81              81            81               81   \n",
       "rewarded         86              86            86               86   \n",
       "win              92              92            92               92   \n",
       "\n",
       "               recording_dir  video_file  video_frame  subject_info  \\\n",
       "trial_outcome                                                         \n",
       "lose                      81          81           81            81   \n",
       "rewarded                  86          86           86            86   \n",
       "win                       92          92           92            92   \n",
       "\n",
       "               competition_closeness  video_name  ...  \\\n",
       "trial_outcome                                     ...   \n",
       "lose                              81          81  ...   \n",
       "rewarded                          86          86  ...   \n",
       "win                               92          92  ...   \n",
       "\n",
       "               BLA_trial_gamma_all_power  BLA_trial_gamma_mean_power  \\\n",
       "trial_outcome                                                          \n",
       "lose                                  81                          81   \n",
       "rewarded                              86                          86   \n",
       "win                                   92                          92   \n",
       "\n",
       "               LH_trial_theta_all_power  LH_trial_theta_mean_power  \\\n",
       "trial_outcome                                                        \n",
       "lose                                 81                         81   \n",
       "rewarded                             86                         86   \n",
       "win                                  92                         92   \n",
       "\n",
       "               LH_trial_gamma_all_power  LH_trial_gamma_mean_power  \\\n",
       "trial_outcome                                                        \n",
       "lose                                 81                         81   \n",
       "rewarded                             86                         86   \n",
       "win                                  92                         92   \n",
       "\n",
       "               MD_trial_theta_all_power  MD_trial_theta_mean_power  \\\n",
       "trial_outcome                                                        \n",
       "lose                                 81                         81   \n",
       "rewarded                             86                         86   \n",
       "win                                  92                         92   \n",
       "\n",
       "               MD_trial_gamma_all_power  MD_trial_gamma_mean_power  \n",
       "trial_outcome                                                       \n",
       "lose                                 81                         81  \n",
       "rewarded                             86                         86  \n",
       "win                                  92                         92  \n",
       "\n",
       "[3 rows x 72 columns]"
      ]
     },
     "execution_count": 25,
     "metadata": {},
     "output_type": "execute_result"
    }
   ],
   "source": [
    "network_df.groupby(\"trial_outcome\").count()"
   ]
  },
  {
   "cell_type": "code",
   "execution_count": 26,
   "metadata": {},
   "outputs": [],
   "source": [
    "network_array = network_df[feature_columns].values"
   ]
  },
  {
   "cell_type": "code",
   "execution_count": 27,
   "metadata": {
    "scrolled": true
   },
   "outputs": [
    {
     "data": {
      "text/html": [
       "<div>\n",
       "<style scoped>\n",
       "    .dataframe tbody tr th:only-of-type {\n",
       "        vertical-align: middle;\n",
       "    }\n",
       "\n",
       "    .dataframe tbody tr th {\n",
       "        vertical-align: top;\n",
       "    }\n",
       "\n",
       "    .dataframe thead th {\n",
       "        text-align: right;\n",
       "    }\n",
       "</style>\n",
       "<table border=\"1\" class=\"dataframe\">\n",
       "  <thead>\n",
       "    <tr style=\"text-align: right;\">\n",
       "      <th></th>\n",
       "      <th>time</th>\n",
       "      <th>recording_file</th>\n",
       "      <th>video_number</th>\n",
       "      <th>current_subject</th>\n",
       "      <th>recording_dir</th>\n",
       "      <th>video_file</th>\n",
       "      <th>video_frame</th>\n",
       "      <th>subject_info</th>\n",
       "      <th>competition_closeness</th>\n",
       "      <th>video_name</th>\n",
       "      <th>...</th>\n",
       "      <th>BLA_trial_gamma_all_power</th>\n",
       "      <th>BLA_trial_gamma_mean_power</th>\n",
       "      <th>LH_trial_theta_all_power</th>\n",
       "      <th>LH_trial_theta_mean_power</th>\n",
       "      <th>LH_trial_gamma_all_power</th>\n",
       "      <th>LH_trial_gamma_mean_power</th>\n",
       "      <th>MD_trial_theta_all_power</th>\n",
       "      <th>MD_trial_theta_mean_power</th>\n",
       "      <th>MD_trial_gamma_all_power</th>\n",
       "      <th>MD_trial_gamma_mean_power</th>\n",
       "    </tr>\n",
       "  </thead>\n",
       "  <tbody>\n",
       "    <tr>\n",
       "      <th>0</th>\n",
       "      <td>30950500</td>\n",
       "      <td>20221214_125409_om_and_comp_6_1_top_1_base_2_v...</td>\n",
       "      <td>1.0</td>\n",
       "      <td>6.1</td>\n",
       "      <td>20221214_125409_om_and_comp_6_1_and_6_3</td>\n",
       "      <td>20221214_125409_om_and_comp_6_1_and_6_3.1.vide...</td>\n",
       "      <td>28574</td>\n",
       "      <td>6_1_top_1_base_2_vs_6_3</td>\n",
       "      <td>win_non_comp</td>\n",
       "      <td>20221214_125409_om_and_comp_6_1_and_6_3.1</td>\n",
       "      <td>...</td>\n",
       "      <td>[0.0058572425135254855, 0.006024155421019179, ...</td>\n",
       "      <td>0.004916</td>\n",
       "      <td>[0.031683409779156166, 0.035901720219428834, 0...</td>\n",
       "      <td>0.032140</td>\n",
       "      <td>[0.0016897028177461373, 0.0016958708773867038,...</td>\n",
       "      <td>0.001219</td>\n",
       "      <td>[0.033682761710991674, 0.04939171762101172, 0....</td>\n",
       "      <td>0.048547</td>\n",
       "      <td>[0.00150702771435435, 0.0013828970830310156, 0...</td>\n",
       "      <td>0.001073</td>\n",
       "    </tr>\n",
       "    <tr>\n",
       "      <th>1</th>\n",
       "      <td>32550496</td>\n",
       "      <td>20221214_125409_om_and_comp_6_1_top_1_base_2_v...</td>\n",
       "      <td>1.0</td>\n",
       "      <td>6.1</td>\n",
       "      <td>20221214_125409_om_and_comp_6_1_and_6_3</td>\n",
       "      <td>20221214_125409_om_and_comp_6_1_and_6_3.1.vide...</td>\n",
       "      <td>30569</td>\n",
       "      <td>6_1_top_1_base_2_vs_6_3</td>\n",
       "      <td>win_non_comp</td>\n",
       "      <td>20221214_125409_om_and_comp_6_1_and_6_3.1</td>\n",
       "      <td>...</td>\n",
       "      <td>[0.0028734564419150522, 0.002626836181665971, ...</td>\n",
       "      <td>0.002994</td>\n",
       "      <td>[0.04559739021371773, 0.02580874058372985, 0.0...</td>\n",
       "      <td>0.021477</td>\n",
       "      <td>[0.001913429314942553, 0.0020461830635455924, ...</td>\n",
       "      <td>0.001511</td>\n",
       "      <td>[0.06317393258084905, 0.04281980489526815, 0.0...</td>\n",
       "      <td>0.030281</td>\n",
       "      <td>[0.0011128775475115324, 0.0011790837765855223,...</td>\n",
       "      <td>0.000998</td>\n",
       "    </tr>\n",
       "    <tr>\n",
       "      <th>2</th>\n",
       "      <td>34350494</td>\n",
       "      <td>20221214_125409_om_and_comp_6_1_top_1_base_2_v...</td>\n",
       "      <td>1.0</td>\n",
       "      <td>6.1</td>\n",
       "      <td>20221214_125409_om_and_comp_6_1_and_6_3</td>\n",
       "      <td>20221214_125409_om_and_comp_6_1_and_6_3.1.vide...</td>\n",
       "      <td>32813</td>\n",
       "      <td>6_1_top_1_base_2_vs_6_3</td>\n",
       "      <td>win_non_comp</td>\n",
       "      <td>20221214_125409_om_and_comp_6_1_and_6_3.1</td>\n",
       "      <td>...</td>\n",
       "      <td>[0.002494198219208697, 0.002866484029864364, 0...</td>\n",
       "      <td>0.002618</td>\n",
       "      <td>[0.03659953485388654, 0.013115579469448331, 0....</td>\n",
       "      <td>0.017692</td>\n",
       "      <td>[0.001480605803360029, 0.0015655109170097854, ...</td>\n",
       "      <td>0.001254</td>\n",
       "      <td>[0.04226830702139646, 0.01873280535085233, 0.0...</td>\n",
       "      <td>0.019936</td>\n",
       "      <td>[0.001131503018944822, 0.001213152223596419, 0...</td>\n",
       "      <td>0.000899</td>\n",
       "    </tr>\n",
       "    <tr>\n",
       "      <th>3</th>\n",
       "      <td>35950496</td>\n",
       "      <td>20221214_125409_om_and_comp_6_1_top_1_base_2_v...</td>\n",
       "      <td>1.0</td>\n",
       "      <td>6.1</td>\n",
       "      <td>20221214_125409_om_and_comp_6_1_and_6_3</td>\n",
       "      <td>20221214_125409_om_and_comp_6_1_and_6_3.1.vide...</td>\n",
       "      <td>34807</td>\n",
       "      <td>6_1_top_1_base_2_vs_6_3</td>\n",
       "      <td>win_non_comp</td>\n",
       "      <td>20221214_125409_om_and_comp_6_1_and_6_3.1</td>\n",
       "      <td>...</td>\n",
       "      <td>[0.002101977154352306, 0.0024552829403974435, ...</td>\n",
       "      <td>0.002457</td>\n",
       "      <td>[0.04464495113499005, 0.030182560195047767, 0....</td>\n",
       "      <td>0.027148</td>\n",
       "      <td>[0.0014821101132228914, 0.0014516937107344901,...</td>\n",
       "      <td>0.001211</td>\n",
       "      <td>[0.05282259663698554, 0.03794293105242014, 0.0...</td>\n",
       "      <td>0.028858</td>\n",
       "      <td>[0.0011698032064997586, 0.001110345269394579, ...</td>\n",
       "      <td>0.000963</td>\n",
       "    </tr>\n",
       "    <tr>\n",
       "      <th>4</th>\n",
       "      <td>37450494</td>\n",
       "      <td>20221214_125409_om_and_comp_6_1_top_1_base_2_v...</td>\n",
       "      <td>1.0</td>\n",
       "      <td>6.1</td>\n",
       "      <td>20221214_125409_om_and_comp_6_1_and_6_3</td>\n",
       "      <td>20221214_125409_om_and_comp_6_1_and_6_3.1.vide...</td>\n",
       "      <td>36677</td>\n",
       "      <td>6_1_top_1_base_2_vs_6_3</td>\n",
       "      <td>win_non_comp</td>\n",
       "      <td>20221214_125409_om_and_comp_6_1_and_6_3.1</td>\n",
       "      <td>...</td>\n",
       "      <td>[0.0025495252669991086, 0.002859794401033647, ...</td>\n",
       "      <td>0.002783</td>\n",
       "      <td>[0.04495987866467409, 0.02917219033567512, 0.0...</td>\n",
       "      <td>0.022270</td>\n",
       "      <td>[0.0017982008294426047, 0.0017415233964890372,...</td>\n",
       "      <td>0.001293</td>\n",
       "      <td>[0.05398227580806995, 0.03896985154579797, 0.0...</td>\n",
       "      <td>0.027711</td>\n",
       "      <td>[0.00129251660765889, 0.0013391750441791174, 0...</td>\n",
       "      <td>0.000886</td>\n",
       "    </tr>\n",
       "  </tbody>\n",
       "</table>\n",
       "<p>5 rows × 73 columns</p>\n",
       "</div>"
      ],
      "text/plain": [
       "       time                                     recording_file  video_number  \\\n",
       "0  30950500  20221214_125409_om_and_comp_6_1_top_1_base_2_v...           1.0   \n",
       "1  32550496  20221214_125409_om_and_comp_6_1_top_1_base_2_v...           1.0   \n",
       "2  34350494  20221214_125409_om_and_comp_6_1_top_1_base_2_v...           1.0   \n",
       "3  35950496  20221214_125409_om_and_comp_6_1_top_1_base_2_v...           1.0   \n",
       "4  37450494  20221214_125409_om_and_comp_6_1_top_1_base_2_v...           1.0   \n",
       "\n",
       "  current_subject                            recording_dir  \\\n",
       "0             6.1  20221214_125409_om_and_comp_6_1_and_6_3   \n",
       "1             6.1  20221214_125409_om_and_comp_6_1_and_6_3   \n",
       "2             6.1  20221214_125409_om_and_comp_6_1_and_6_3   \n",
       "3             6.1  20221214_125409_om_and_comp_6_1_and_6_3   \n",
       "4             6.1  20221214_125409_om_and_comp_6_1_and_6_3   \n",
       "\n",
       "                                          video_file  video_frame  \\\n",
       "0  20221214_125409_om_and_comp_6_1_and_6_3.1.vide...        28574   \n",
       "1  20221214_125409_om_and_comp_6_1_and_6_3.1.vide...        30569   \n",
       "2  20221214_125409_om_and_comp_6_1_and_6_3.1.vide...        32813   \n",
       "3  20221214_125409_om_and_comp_6_1_and_6_3.1.vide...        34807   \n",
       "4  20221214_125409_om_and_comp_6_1_and_6_3.1.vide...        36677   \n",
       "\n",
       "              subject_info competition_closeness  \\\n",
       "0  6_1_top_1_base_2_vs_6_3          win_non_comp   \n",
       "1  6_1_top_1_base_2_vs_6_3          win_non_comp   \n",
       "2  6_1_top_1_base_2_vs_6_3          win_non_comp   \n",
       "3  6_1_top_1_base_2_vs_6_3          win_non_comp   \n",
       "4  6_1_top_1_base_2_vs_6_3          win_non_comp   \n",
       "\n",
       "                                  video_name  ...  \\\n",
       "0  20221214_125409_om_and_comp_6_1_and_6_3.1  ...   \n",
       "1  20221214_125409_om_and_comp_6_1_and_6_3.1  ...   \n",
       "2  20221214_125409_om_and_comp_6_1_and_6_3.1  ...   \n",
       "3  20221214_125409_om_and_comp_6_1_and_6_3.1  ...   \n",
       "4  20221214_125409_om_and_comp_6_1_and_6_3.1  ...   \n",
       "\n",
       "                           BLA_trial_gamma_all_power  \\\n",
       "0  [0.0058572425135254855, 0.006024155421019179, ...   \n",
       "1  [0.0028734564419150522, 0.002626836181665971, ...   \n",
       "2  [0.002494198219208697, 0.002866484029864364, 0...   \n",
       "3  [0.002101977154352306, 0.0024552829403974435, ...   \n",
       "4  [0.0025495252669991086, 0.002859794401033647, ...   \n",
       "\n",
       "  BLA_trial_gamma_mean_power  \\\n",
       "0                   0.004916   \n",
       "1                   0.002994   \n",
       "2                   0.002618   \n",
       "3                   0.002457   \n",
       "4                   0.002783   \n",
       "\n",
       "                            LH_trial_theta_all_power  \\\n",
       "0  [0.031683409779156166, 0.035901720219428834, 0...   \n",
       "1  [0.04559739021371773, 0.02580874058372985, 0.0...   \n",
       "2  [0.03659953485388654, 0.013115579469448331, 0....   \n",
       "3  [0.04464495113499005, 0.030182560195047767, 0....   \n",
       "4  [0.04495987866467409, 0.02917219033567512, 0.0...   \n",
       "\n",
       "  LH_trial_theta_mean_power  \\\n",
       "0                  0.032140   \n",
       "1                  0.021477   \n",
       "2                  0.017692   \n",
       "3                  0.027148   \n",
       "4                  0.022270   \n",
       "\n",
       "                            LH_trial_gamma_all_power  \\\n",
       "0  [0.0016897028177461373, 0.0016958708773867038,...   \n",
       "1  [0.001913429314942553, 0.0020461830635455924, ...   \n",
       "2  [0.001480605803360029, 0.0015655109170097854, ...   \n",
       "3  [0.0014821101132228914, 0.0014516937107344901,...   \n",
       "4  [0.0017982008294426047, 0.0017415233964890372,...   \n",
       "\n",
       "   LH_trial_gamma_mean_power  \\\n",
       "0                   0.001219   \n",
       "1                   0.001511   \n",
       "2                   0.001254   \n",
       "3                   0.001211   \n",
       "4                   0.001293   \n",
       "\n",
       "                            MD_trial_theta_all_power  \\\n",
       "0  [0.033682761710991674, 0.04939171762101172, 0....   \n",
       "1  [0.06317393258084905, 0.04281980489526815, 0.0...   \n",
       "2  [0.04226830702139646, 0.01873280535085233, 0.0...   \n",
       "3  [0.05282259663698554, 0.03794293105242014, 0.0...   \n",
       "4  [0.05398227580806995, 0.03896985154579797, 0.0...   \n",
       "\n",
       "   MD_trial_theta_mean_power  \\\n",
       "0                   0.048547   \n",
       "1                   0.030281   \n",
       "2                   0.019936   \n",
       "3                   0.028858   \n",
       "4                   0.027711   \n",
       "\n",
       "                            MD_trial_gamma_all_power MD_trial_gamma_mean_power  \n",
       "0  [0.00150702771435435, 0.0013828970830310156, 0...                  0.001073  \n",
       "1  [0.0011128775475115324, 0.0011790837765855223,...                  0.000998  \n",
       "2  [0.001131503018944822, 0.001213152223596419, 0...                  0.000899  \n",
       "3  [0.0011698032064997586, 0.001110345269394579, ...                  0.000963  \n",
       "4  [0.00129251660765889, 0.0013391750441791174, 0...                  0.000886  \n",
       "\n",
       "[5 rows x 73 columns]"
      ]
     },
     "execution_count": 27,
     "metadata": {},
     "output_type": "execute_result"
    }
   ],
   "source": [
    "network_df.head()"
   ]
  },
  {
   "cell_type": "code",
   "execution_count": 28,
   "metadata": {},
   "outputs": [],
   "source": [
    "original_scores=[]\n",
    "kFold=KFold(n_splits=5,shuffle=True)\n",
    "\n",
    "# creating a RF classifier \n",
    "clf = RandomForestClassifier(n_estimators = 100)   \n",
    "for train_index, test_index in kFold.split(network_array):\n",
    "    \n",
    "    X_train = network_array[train_index]  \n",
    "    X_test = network_array[test_index]\n",
    "    y_train = network_df[\"trial_outcome\"].values[train_index]\n",
    "    y_test = network_df[\"trial_outcome\"].values[test_index]\n",
    "\n",
    "    # Training the model on the training dataset \n",
    "    # fit function is used to train the model using the training sets as parameters \n",
    "    clf.fit(X_train, y_train) \n",
    "    original_scores.append(clf.score(X_test,y_test))\n",
    "mean_original_scores = np.mean(original_scores)\n",
    "# 0.9393939393939394\n"
   ]
  },
  {
   "cell_type": "code",
   "execution_count": 29,
   "metadata": {},
   "outputs": [
    {
     "data": {
      "text/plain": [
       "[0.7115384615384616,\n",
       " 0.6923076923076923,\n",
       " 0.6153846153846154,\n",
       " 0.6346153846153846,\n",
       " 0.6470588235294118]"
      ]
     },
     "execution_count": 29,
     "metadata": {},
     "output_type": "execute_result"
    }
   ],
   "source": [
    "original_scores"
   ]
  },
  {
   "cell_type": "code",
   "execution_count": 30,
   "metadata": {},
   "outputs": [
    {
     "data": {
      "text/plain": [
       "array(['win', 'win', 'lose', 'win', 'win', 'win', 'win', 'win', 'win',\n",
       "       'lose', 'lose', 'lose', 'lose', 'lose', 'lose', 'win', 'win',\n",
       "       'win', 'rewarded', 'rewarded', 'rewarded', 'rewarded', 'rewarded',\n",
       "       'lose', 'win', 'lose', 'lose', 'lose', 'rewarded', 'rewarded',\n",
       "       'rewarded', 'rewarded', 'win', 'win', 'win', 'rewarded',\n",
       "       'rewarded', 'rewarded', 'rewarded', 'win', 'lose', 'lose',\n",
       "       'rewarded', 'rewarded', 'rewarded', 'rewarded', 'lose', 'lose',\n",
       "       'rewarded', 'rewarded', 'rewarded'], dtype=object)"
      ]
     },
     "execution_count": 30,
     "metadata": {},
     "output_type": "execute_result"
    }
   ],
   "source": [
    "y_test"
   ]
  },
  {
   "cell_type": "code",
   "execution_count": 31,
   "metadata": {
    "scrolled": true
   },
   "outputs": [
    {
     "data": {
      "text/plain": [
       "array(['win', 'lose', 'rewarded', 'win', 'win', 'win', 'lose', 'win',\n",
       "       'rewarded', 'lose', 'lose', 'lose', 'lose', 'lose', 'lose',\n",
       "       'rewarded', 'win', 'win', 'win', 'rewarded', 'win', 'win',\n",
       "       'rewarded', 'lose', 'lose', 'lose', 'lose', 'lose', 'rewarded',\n",
       "       'rewarded', 'rewarded', 'lose', 'win', 'lose', 'win', 'lose',\n",
       "       'lose', 'rewarded', 'win', 'lose', 'lose', 'lose', 'lose',\n",
       "       'rewarded', 'rewarded', 'rewarded', 'lose', 'rewarded', 'lose',\n",
       "       'rewarded', 'rewarded'], dtype=object)"
      ]
     },
     "execution_count": 31,
     "metadata": {},
     "output_type": "execute_result"
    }
   ],
   "source": [
    "clf.predict(X_test)"
   ]
  },
  {
   "cell_type": "code",
   "execution_count": 32,
   "metadata": {},
   "outputs": [],
   "source": [
    "OUTCOME_LABELS=[\"win\", \"lose\", \"rewarded\"]"
   ]
  },
  {
   "cell_type": "code",
   "execution_count": 33,
   "metadata": {},
   "outputs": [
    {
     "data": {
      "image/png": "[encoded data removed]",
      "text/plain": [
       "<Figure size 640x480 with 2 Axes>"
      ]
     },
     "metadata": {},
     "output_type": "display_data"
    }
   ],
   "source": [
    "#compute the confusion matrix.\n",
    "cm = confusion_matrix(clf.predict(X_test),y_test, labels=OUTCOME_LABELS)\n",
    "\n",
    "#Plot the confusion matrix.\n",
    "sns.heatmap(cm/sum(cm), \n",
    "            annot=True,\n",
    "            # fmt='g', \n",
    "            fmt='.2%',\n",
    "           cmap=\"Blues\", xticklabels=OUTCOME_LABELS, yticklabels=OUTCOME_LABELS)\n",
    "# sns.light_palette(\"seagreen\", as_cmap=True)\n",
    "\n",
    "plt.ylabel('Prediction',fontsize=13)\n",
    "plt.xlabel('Actual',fontsize=13)\n",
    "plt.title('Confusion Matrix',fontsize=17)\n",
    "plt.show()"
   ]
  },
  {
   "cell_type": "code",
   "execution_count": null,
   "metadata": {},
   "outputs": [],
   "source": []
  },
  {
   "cell_type": "code",
   "execution_count": 34,
   "metadata": {},
   "outputs": [],
   "source": [
    "importances = clf.feature_importances_\n",
    "std = np.std([tree.feature_importances_ for tree in clf.estimators_], axis=0)"
   ]
  },
  {
   "cell_type": "code",
   "execution_count": 35,
   "metadata": {},
   "outputs": [
    {
     "data": {
      "text/plain": [
       "array([0.05136097, 0.06674455, 0.04644678, 0.04858437, 0.05814012,\n",
       "       0.05549215, 0.05669348, 0.04623186, 0.05190822, 0.06286497])"
      ]
     },
     "execution_count": 35,
     "metadata": {},
     "output_type": "execute_result"
    }
   ],
   "source": [
    "std"
   ]
  },
  {
   "cell_type": "code",
   "execution_count": 36,
   "metadata": {},
   "outputs": [],
   "source": [
    "forest_importances = pd.DataFrame(importances, index=feature_columns).sort_values(0, ascending=False).reset_index()\n",
    "forest_importances = forest_importances.rename(columns={0: \"mdi\"})"
   ]
  },
  {
   "cell_type": "code",
   "execution_count": 37,
   "metadata": {},
   "outputs": [
    {
     "data": {
      "text/plain": [
       "0    mPFC_trial_gamma_mean_power\n",
       "1      MD_trial_gamma_mean_power\n",
       "2     BLA_trial_gamma_mean_power\n",
       "3    vHPC_trial_theta_mean_power\n",
       "4     BLA_trial_theta_mean_power\n",
       "5    vHPC_trial_gamma_mean_power\n",
       "6      LH_trial_theta_mean_power\n",
       "7    mPFC_trial_theta_mean_power\n",
       "8      MD_trial_theta_mean_power\n",
       "9      LH_trial_gamma_mean_power\n",
       "Name: index, dtype: object"
      ]
     },
     "execution_count": 37,
     "metadata": {},
     "output_type": "execute_result"
    }
   ],
   "source": [
    "forest_importances[\"index\"]"
   ]
  },
  {
   "cell_type": "code",
   "execution_count": 38,
   "metadata": {},
   "outputs": [],
   "source": [
    "forest_importances[\"brain_regions\"] = forest_importances[\"index\"].apply(lambda x: x.split(\"_\")[0])\n",
    "forest_importances[\"band\"] = forest_importances[\"index\"].apply(lambda x: x.split(\"_\")[2])"
   ]
  },
  {
   "cell_type": "code",
   "execution_count": 39,
   "metadata": {},
   "outputs": [],
   "source": [
    "forest_importances = forest_importances.iloc[:20]"
   ]
  },
  {
   "cell_type": "code",
   "execution_count": 40,
   "metadata": {},
   "outputs": [],
   "source": [
    "forest_importances[\"color\"] = forest_importances[\"band\"].map(BAND_TO_COLOR)\n",
    "# forest_importances[\"pattern\"] = forest_importances[\"measure\"].map(MEASURE_TO_PATTERN)"
   ]
  },
  {
   "cell_type": "code",
   "execution_count": 41,
   "metadata": {},
   "outputs": [],
   "source": [
    "forest_importances[\"index\"] = forest_importances[\"index\"].apply(lambda x: \" \".join([x.split(\"_\")[i] for i in [0,2]]))"
   ]
  },
  {
   "cell_type": "code",
   "execution_count": 42,
   "metadata": {},
   "outputs": [
    {
     "data": {
      "text/html": [
       "<div>\n",
       "<style scoped>\n",
       "    .dataframe tbody tr th:only-of-type {\n",
       "        vertical-align: middle;\n",
       "    }\n",
       "\n",
       "    .dataframe tbody tr th {\n",
       "        vertical-align: top;\n",
       "    }\n",
       "\n",
       "    .dataframe thead th {\n",
       "        text-align: right;\n",
       "    }\n",
       "</style>\n",
       "<table border=\"1\" class=\"dataframe\">\n",
       "  <thead>\n",
       "    <tr style=\"text-align: right;\">\n",
       "      <th></th>\n",
       "      <th>index</th>\n",
       "      <th>mdi</th>\n",
       "      <th>brain_regions</th>\n",
       "      <th>band</th>\n",
       "      <th>color</th>\n",
       "    </tr>\n",
       "  </thead>\n",
       "  <tbody>\n",
       "    <tr>\n",
       "      <th>0</th>\n",
       "      <td>mPFC gamma</td>\n",
       "      <td>0.122280</td>\n",
       "      <td>mPFC</td>\n",
       "      <td>gamma</td>\n",
       "      <td>#15616F</td>\n",
       "    </tr>\n",
       "    <tr>\n",
       "      <th>1</th>\n",
       "      <td>MD gamma</td>\n",
       "      <td>0.114474</td>\n",
       "      <td>MD</td>\n",
       "      <td>gamma</td>\n",
       "      <td>#15616F</td>\n",
       "    </tr>\n",
       "    <tr>\n",
       "      <th>2</th>\n",
       "      <td>BLA gamma</td>\n",
       "      <td>0.109357</td>\n",
       "      <td>BLA</td>\n",
       "      <td>gamma</td>\n",
       "      <td>#15616F</td>\n",
       "    </tr>\n",
       "    <tr>\n",
       "      <th>3</th>\n",
       "      <td>vHPC theta</td>\n",
       "      <td>0.105284</td>\n",
       "      <td>vHPC</td>\n",
       "      <td>theta</td>\n",
       "      <td>#FFAF00</td>\n",
       "    </tr>\n",
       "    <tr>\n",
       "      <th>4</th>\n",
       "      <td>BLA theta</td>\n",
       "      <td>0.102736</td>\n",
       "      <td>BLA</td>\n",
       "      <td>theta</td>\n",
       "      <td>#FFAF00</td>\n",
       "    </tr>\n",
       "    <tr>\n",
       "      <th>5</th>\n",
       "      <td>vHPC gamma</td>\n",
       "      <td>0.096257</td>\n",
       "      <td>vHPC</td>\n",
       "      <td>gamma</td>\n",
       "      <td>#15616F</td>\n",
       "    </tr>\n",
       "    <tr>\n",
       "      <th>6</th>\n",
       "      <td>LH theta</td>\n",
       "      <td>0.094317</td>\n",
       "      <td>LH</td>\n",
       "      <td>theta</td>\n",
       "      <td>#FFAF00</td>\n",
       "    </tr>\n",
       "    <tr>\n",
       "      <th>7</th>\n",
       "      <td>mPFC theta</td>\n",
       "      <td>0.091826</td>\n",
       "      <td>mPFC</td>\n",
       "      <td>theta</td>\n",
       "      <td>#FFAF00</td>\n",
       "    </tr>\n",
       "    <tr>\n",
       "      <th>8</th>\n",
       "      <td>MD theta</td>\n",
       "      <td>0.083607</td>\n",
       "      <td>MD</td>\n",
       "      <td>theta</td>\n",
       "      <td>#FFAF00</td>\n",
       "    </tr>\n",
       "    <tr>\n",
       "      <th>9</th>\n",
       "      <td>LH gamma</td>\n",
       "      <td>0.079860</td>\n",
       "      <td>LH</td>\n",
       "      <td>gamma</td>\n",
       "      <td>#15616F</td>\n",
       "    </tr>\n",
       "  </tbody>\n",
       "</table>\n",
       "</div>"
      ],
      "text/plain": [
       "        index       mdi brain_regions   band    color\n",
       "0  mPFC gamma  0.122280          mPFC  gamma  #15616F\n",
       "1    MD gamma  0.114474            MD  gamma  #15616F\n",
       "2   BLA gamma  0.109357           BLA  gamma  #15616F\n",
       "3  vHPC theta  0.105284          vHPC  theta  #FFAF00\n",
       "4   BLA theta  0.102736           BLA  theta  #FFAF00\n",
       "5  vHPC gamma  0.096257          vHPC  gamma  #15616F\n",
       "6    LH theta  0.094317            LH  theta  #FFAF00\n",
       "7  mPFC theta  0.091826          mPFC  theta  #FFAF00\n",
       "8    MD theta  0.083607            MD  theta  #FFAF00\n",
       "9    LH gamma  0.079860            LH  gamma  #15616F"
      ]
     },
     "execution_count": 42,
     "metadata": {},
     "output_type": "execute_result"
    }
   ],
   "source": [
    "forest_importances"
   ]
  },
  {
   "cell_type": "code",
   "execution_count": 43,
   "metadata": {},
   "outputs": [
    {
     "data": {
      "image/png": "[encoded data removed]",
      "text/plain": [
       "<Figure size 640x480 with 1 Axes>"
      ]
     },
     "metadata": {},
     "output_type": "display_data"
    }
   ],
   "source": [
    "for index, row in forest_importances.iterrows():\n",
    "    plt.bar(row[\"index\"], row[\"mdi\"], color=row[\"color\"], label=\"{}\".format(row[\"band\"]))\n",
    "\n",
    "plt.xticks(fontsize=10, rotation=90)\n",
    "handles, labels = plt.gca().get_legend_handles_labels()\n",
    "by_label = OrderedDict(zip(labels, handles))\n",
    "plt.legend(by_label.values(), by_label.keys())\n",
    "\n",
    "plt.title(\"Feature importances for winning/losing\", fontsize=20)\n",
    "plt.ylabel(\"Mean decrease in impurity\", fontsize=20)\n",
    "# plt.tight_layout()\n",
    "# plt.savefig(\"./proc/network/rf_feature_importance.png\")\n",
    "plt.show()"
   ]
  },
  {
   "cell_type": "markdown",
   "metadata": {},
   "source": [
    "- Shuffling the labels"
   ]
  },
  {
   "cell_type": "code",
   "execution_count": 44,
   "metadata": {},
   "outputs": [],
   "source": [
    "shuffled_scores=[]\n",
    "kFold=KFold(n_splits=5,shuffle=True)\n",
    "\n",
    "# creating a RF classifier \n",
    "clf = RandomForestClassifier(n_estimators = 100)   \n",
    "for train_index, test_index in kFold.split(network_array):\n",
    "    X_train = network_array[train_index]  \n",
    "    X_test = network_array[test_index]\n",
    "    y_train = shuffle(network_df[\"trial_outcome\"].values[train_index])\n",
    "    y_test = network_df[\"trial_outcome\"].values[test_index]\n",
    "\n",
    "    # Training the model on the training dataset \n",
    "    # fit function is used to train the model using the training sets as parameters \n",
    "    clf.fit(X_train, y_train) \n",
    "    shuffled_scores.append(clf.score(X_test,y_test))\n",
    "mean_shuffled_scores = np.mean(shuffled_scores)\n",
    "# 0.9393939393939394\n"
   ]
  },
  {
   "cell_type": "code",
   "execution_count": 45,
   "metadata": {},
   "outputs": [
    {
     "data": {
      "text/plain": [
       "[0.3269230769230769,\n",
       " 0.23076923076923078,\n",
       " 0.34615384615384615,\n",
       " 0.2692307692307692,\n",
       " 0.3137254901960784]"
      ]
     },
     "execution_count": 45,
     "metadata": {},
     "output_type": "execute_result"
    }
   ],
   "source": [
    "shuffled_scores"
   ]
  },
  {
   "cell_type": "code",
   "execution_count": 46,
   "metadata": {},
   "outputs": [
    {
     "data": {
      "text/plain": [
       "array(['lose', 'win', 'win', 'win', 'win', 'win', 'win', 'win', 'win',\n",
       "       'win', 'lose', 'lose', 'lose', 'lose', 'lose', 'lose', 'rewarded',\n",
       "       'rewarded', 'rewarded', 'win', 'lose', 'lose', 'lose', 'lose',\n",
       "       'rewarded', 'rewarded', 'rewarded', 'rewarded', 'rewarded',\n",
       "       'rewarded', 'win', 'win', 'rewarded', 'rewarded', 'rewarded',\n",
       "       'lose', 'win', 'win', 'rewarded', 'rewarded', 'rewarded',\n",
       "       'rewarded', 'lose', 'lose', 'lose', 'win', 'lose', 'lose',\n",
       "       'rewarded', 'rewarded', 'rewarded'], dtype=object)"
      ]
     },
     "execution_count": 46,
     "metadata": {},
     "output_type": "execute_result"
    }
   ],
   "source": [
    "y_test"
   ]
  },
  {
   "cell_type": "code",
   "execution_count": 47,
   "metadata": {},
   "outputs": [
    {
     "data": {
      "text/plain": [
       "array(['win', 'win', 'win', 'win', 'rewarded', 'rewarded', 'win',\n",
       "       'rewarded', 'lose', 'lose', 'rewarded', 'lose', 'rewarded', 'lose',\n",
       "       'lose', 'rewarded', 'rewarded', 'lose', 'lose', 'win', 'rewarded',\n",
       "       'rewarded', 'rewarded', 'win', 'rewarded', 'rewarded', 'rewarded',\n",
       "       'win', 'win', 'win', 'lose', 'win', 'lose', 'win', 'win',\n",
       "       'rewarded', 'lose', 'rewarded', 'win', 'win', 'win', 'lose', 'win',\n",
       "       'lose', 'win', 'win', 'rewarded', 'lose', 'lose', 'win', 'win'],\n",
       "      dtype=object)"
      ]
     },
     "execution_count": 47,
     "metadata": {},
     "output_type": "execute_result"
    }
   ],
   "source": [
    "clf.predict(X_test)"
   ]
  },
  {
   "cell_type": "code",
   "execution_count": 48,
   "metadata": {},
   "outputs": [
    {
     "data": {
      "text/plain": [
       "(array(['win', 'win', 'win', 'win', 'rewarded', 'rewarded', 'win',\n",
       "        'rewarded', 'lose', 'lose', 'rewarded', 'lose', 'rewarded', 'lose',\n",
       "        'lose', 'rewarded', 'rewarded', 'lose', 'lose', 'win', 'rewarded',\n",
       "        'rewarded', 'rewarded', 'win', 'rewarded', 'rewarded', 'rewarded',\n",
       "        'win', 'win', 'win', 'lose', 'win', 'lose', 'win', 'win',\n",
       "        'rewarded', 'lose', 'rewarded', 'win', 'win', 'win', 'lose', 'win',\n",
       "        'lose', 'win', 'win', 'rewarded', 'lose', 'lose', 'win', 'win'],\n",
       "       dtype=object),\n",
       " array(['lose', 'win', 'win', 'win', 'win', 'win', 'win', 'win', 'win',\n",
       "        'win', 'lose', 'lose', 'lose', 'lose', 'lose', 'lose', 'rewarded',\n",
       "        'rewarded', 'rewarded', 'win', 'lose', 'lose', 'lose', 'lose',\n",
       "        'rewarded', 'rewarded', 'rewarded', 'rewarded', 'rewarded',\n",
       "        'rewarded', 'win', 'win', 'rewarded', 'rewarded', 'rewarded',\n",
       "        'lose', 'win', 'win', 'rewarded', 'rewarded', 'rewarded',\n",
       "        'rewarded', 'lose', 'lose', 'lose', 'win', 'lose', 'lose',\n",
       "        'rewarded', 'rewarded', 'rewarded'], dtype=object))"
      ]
     },
     "execution_count": 48,
     "metadata": {},
     "output_type": "execute_result"
    }
   ],
   "source": [
    "clf.predict(X_test),y_test"
   ]
  },
  {
   "cell_type": "code",
   "execution_count": 49,
   "metadata": {},
   "outputs": [
    {
     "data": {
      "text/plain": [
       "['gamma',\n",
       " 'gamma',\n",
       " 'gamma',\n",
       " 'theta',\n",
       " 'theta',\n",
       " 'gamma',\n",
       " 'theta',\n",
       " 'theta',\n",
       " 'theta',\n",
       " 'gamma']"
      ]
     },
     "execution_count": 49,
     "metadata": {},
     "output_type": "execute_result"
    }
   ],
   "source": [
    "labels"
   ]
  },
  {
   "cell_type": "code",
   "execution_count": 50,
   "metadata": {},
   "outputs": [
    {
     "data": {
      "image/png": "[encoded data removed]",
      "text/plain": [
       "<Figure size 640x480 with 2 Axes>"
      ]
     },
     "metadata": {},
     "output_type": "display_data"
    }
   ],
   "source": [
    "#compute the confusion matrix.\n",
    "cm = confusion_matrix(clf.predict(X_test),y_test, labels=OUTCOME_LABELS)\n",
    "\n",
    "#Plot the confusion matrix.\n",
    "sns.heatmap(cm/sum(cm), \n",
    "            annot=True,\n",
    "            # fmt='g', \n",
    "            fmt='.2%',\n",
    "           cmap=\"Blues\", xticklabels=OUTCOME_LABELS, yticklabels=OUTCOME_LABELS)\n",
    "# sns.light_palette(\"seagreen\", as_cmap=True)\n",
    "\n",
    "plt.ylabel('Prediction',fontsize=13)\n",
    "plt.xlabel('Actual',fontsize=13)\n",
    "plt.title('Confusion Matrix',fontsize=17)\n",
    "plt.show()"
   ]
  },
  {
   "cell_type": "code",
   "execution_count": 51,
   "metadata": {},
   "outputs": [
    {
     "data": {
      "text/plain": [
       "[0.3269230769230769,\n",
       " 0.23076923076923078,\n",
       " 0.34615384615384615,\n",
       " 0.2692307692307692,\n",
       " 0.3137254901960784]"
      ]
     },
     "execution_count": 51,
     "metadata": {},
     "output_type": "execute_result"
    }
   ],
   "source": [
    "shuffled_scores"
   ]
  },
  {
   "cell_type": "code",
   "execution_count": 52,
   "metadata": {},
   "outputs": [
    {
     "data": {
      "text/plain": [
       "[0.7115384615384616,\n",
       " 0.6923076923076923,\n",
       " 0.6153846153846154,\n",
       " 0.6346153846153846,\n",
       " 0.6470588235294118]"
      ]
     },
     "execution_count": 52,
     "metadata": {},
     "output_type": "execute_result"
    }
   ],
   "source": [
    "original_scores"
   ]
  },
  {
   "cell_type": "code",
   "execution_count": 53,
   "metadata": {},
   "outputs": [
    {
     "data": {
      "image/png": "[encoded data removed]",
      "text/plain": [
       "<Figure size 640x480 with 1 Axes>"
      ]
     },
     "metadata": {},
     "output_type": "display_data"
    }
   ],
   "source": [
    "plt.bar(x=[\"Beta and Theta\", \"Shuffled\"], height=[np.mean(original_scores), np.mean(shuffled_scores)], color= [\"#FFAF00\", \"#15616F\"])\n",
    "plt.ylabel(\"Accuracy\", fontsize=20)\n",
    "plt.title(\"Random Forest Prediction\", fontsize=20)\n",
    "plt.errorbar([\"Beta and Theta\", \"Shuffled\"], [np.mean(original_scores), np.mean(shuffled_scores)], yerr=[np.std(original_scores), np.std(shuffled_scores)], fmt=\"o\", color=\"black\")\n",
    "plt.ylim(0,1)\n",
    "plt.tight_layout()\n",
    "plt.savefig(\"./proc/rf_power_predictions.png\")"
   ]
  },
  {
   "cell_type": "code",
   "execution_count": null,
   "metadata": {},
   "outputs": [],
   "source": []
  },
  {
   "cell_type": "markdown",
   "metadata": {},
   "source": [
    "# OLD Code below"
   ]
  },
  {
   "cell_type": "code",
   "execution_count": null,
   "metadata": {
    "scrolled": true
   },
   "outputs": [],
   "source": [
    "feature_columns = [col for col in MERGED_LFP_AND_SLEAP.columns if \"mean_power\" in col]"
   ]
  },
  {
   "cell_type": "code",
   "execution_count": null,
   "metadata": {},
   "outputs": [],
   "source": [
    "feature_columns"
   ]
  },
  {
   "cell_type": "raw",
   "metadata": {},
   "source": [
    "MERGED_LFP_AND_SLEAP[\"gamma_network\"] = MERGED_LFP_AND_SLEAP.apply(lambda x: get_region_network(x, feature_columns, low_index=30, high_index=90), axis=1)\n",
    "MERGED_LFP_AND_SLEAP[\"gamma_adjacency_matrix\"] = MERGED_LFP_AND_SLEAP.apply(lambda x: np.array(nx.adjacency_matrix(x[\"gamma_network\"]).todense()).flatten(), axis=1)\n",
    "MERGED_LFP_AND_SLEAP[\"gamma_weights\"] = MERGED_LFP_AND_SLEAP.apply(lambda x: x[\"gamma_network\"].degree(weight='weight'), axis=1)"
   ]
  },
  {
   "cell_type": "raw",
   "metadata": {},
   "source": [
    "MERGED_LFP_AND_SLEAP = MERGED_LFP_AND_SLEAP[MERGED_LFP_AND_SLEAP[\"trial_outcome\"].isin([\"win\", \"lose\"])]\n",
    "# MERGED_LFP_AND_SLEAP = MERGED_LFP_AND_SLEAP[MERGED_LFP_AND_SLEAP[\"trial_outcome\"].isin([\"win\", \"rewarded\"])]\n",
    "# MERGED_LFP_AND_SLEAP = MERGED_LFP_AND_SLEAP[MERGED_LFP_AND_SLEAP[\"trial_outcome\"].isin([\"lose\", \"rewarded\"])]"
   ]
  },
  {
   "cell_type": "raw",
   "metadata": {
    "scrolled": true
   },
   "source": [
    "network_array = np.array(MERGED_LFP_AND_SLEAP[\"gamma_adjacency_matrix\"].tolist())"
   ]
  },
  {
   "cell_type": "code",
   "execution_count": null,
   "metadata": {},
   "outputs": [],
   "source": [
    "network_df = MERGED_LFP_AND_SLEAP[MERGED_LFP_AND_SLEAP[\"trial_outcome\"].isin([\"win\", \"lose\"])]\n"
   ]
  },
  {
   "cell_type": "code",
   "execution_count": null,
   "metadata": {},
   "outputs": [],
   "source": [
    "network_df.groupby(\"trial_outcome\").count()"
   ]
  },
  {
   "cell_type": "code",
   "execution_count": null,
   "metadata": {},
   "outputs": [],
   "source": [
    "network_array = network_df[feature_columns]"
   ]
  },
  {
   "cell_type": "raw",
   "metadata": {},
   "source": [
    "network_array = network_array[:, network_array[0] != 0]"
   ]
  },
  {
   "cell_type": "code",
   "execution_count": null,
   "metadata": {},
   "outputs": [],
   "source": [
    "scaler = StandardScaler()\n",
    "scaler.fit(network_array)"
   ]
  },
  {
   "cell_type": "code",
   "execution_count": null,
   "metadata": {},
   "outputs": [],
   "source": [
    "network_array = scaler.transform(network_array)"
   ]
  },
  {
   "cell_type": "code",
   "execution_count": null,
   "metadata": {},
   "outputs": [],
   "source": [
    "non_nan_mask = ~np.isnan(network_array).any(axis=1)"
   ]
  },
  {
   "cell_type": "code",
   "execution_count": null,
   "metadata": {},
   "outputs": [],
   "source": [
    "from sklearn.model_selection import StratifiedKFold"
   ]
  },
  {
   "cell_type": "code",
   "execution_count": null,
   "metadata": {},
   "outputs": [],
   "source": [
    "StratifiedKFold.s"
   ]
  },
  {
   "cell_type": "code",
   "execution_count": null,
   "metadata": {},
   "outputs": [],
   "source": [
    "X_train, X_test, y_train, y_test = train_test_split(network_array[non_nan_mask], network_df[\"trial_outcome\"][non_nan_mask], test_size = 0.20, stratify=network_df[\"trial_outcome\"]) "
   ]
  },
  {
   "cell_type": "code",
   "execution_count": null,
   "metadata": {},
   "outputs": [],
   "source": [
    "original_scores=[]\n",
    "kFold=KFold(n_splits=5,shuffle=False)\n",
    "\n",
    "# creating a RF classifier \n",
    "clf = RandomForestClassifier(n_estimators = 100)   \n",
    "for train_index,test_index in kFold.split(network_array[non_nan_mask]):\n",
    "    # print(\"Train Index: \", train_index, \"\\n\")\n",
    "    # print(\"Test Index: \", test_index)\n",
    "    \n",
    "    X_train, X_test, y_train, y_test = network_array[non_nan_mask][train_index], network_array[non_nan_mask][test_index], network_df[\"trial_outcome\"][non_nan_mask].values[train_index], network_df[\"trial_outcome\"][non_nan_mask].values[test_index]\n",
    "\n",
    "    # Training the model on the training dataset \n",
    "    # fit function is used to train the model using the training sets as parameters \n",
    "    clf.fit(X_train, y_train) \n",
    "    original_scores.append(clf.score(X_test,y_test))\n",
    "mean_original_scores = np.mean(scores)\n",
    "# 0.9393939393939394\n"
   ]
  },
  {
   "cell_type": "raw",
   "metadata": {},
   "source": [
    "original_scores=[]\n",
    "kFold=KFold(n_splits=5,shuffle=False)\n",
    "\n",
    "# creating a RF classifier \n",
    "clf = RandomForestClassifier(n_estimators = 100)   \n",
    "for train_index,test_index in StratifiedKFold.split(network_array[non_nan_mask], network_df[\"trial_outcome\"][non_nan_mask]):\n",
    "    # print(\"Train Index: \", train_index, \"\\n\")\n",
    "    # print(\"Test Index: \", test_index)\n",
    "    \n",
    "    X_train, X_test, y_train, y_test = network_array[non_nan_mask][train_index], network_array[non_nan_mask][test_index], network_df[\"trial_outcome\"][non_nan_mask].values[train_index], network_df[\"trial_outcome\"][non_nan_mask].values[test_index]\n",
    "\n",
    "    # Training the model on the training dataset \n",
    "    # fit function is used to train the model using the training sets as parameters \n",
    "    clf.fit(X_train, y_train) \n",
    "    original_scores.append(clf.score(X_test,y_test))\n",
    "mean_original_scores = np.mean(scores)\n",
    "# 0.9393939393939394\n"
   ]
  },
  {
   "cell_type": "code",
   "execution_count": null,
   "metadata": {},
   "outputs": [],
   "source": [
    "from sklearn.metrics import confusion_matrix"
   ]
  },
  {
   "cell_type": "code",
   "execution_count": null,
   "metadata": {},
   "outputs": [],
   "source": [
    "#compute the confusion matrix.\n",
    "cm = confusion_matrix(clf.predict(X_test),y_test)\n",
    " \n",
    "#Plot the confusion matrix.\n",
    "sns.heatmap(cm, \n",
    "            annot=True,\n",
    "            fmt='g', \n",
    "            xticklabels=['Lose','Win'],\n",
    "            yticklabels=['Lose','Win'])\n",
    "plt.ylabel('Prediction',fontsize=13)\n",
    "plt.xlabel('Actual',fontsize=13)\n",
    "plt.title('Confusion Matrix',fontsize=17)\n",
    "plt.show()"
   ]
  },
  {
   "cell_type": "code",
   "execution_count": null,
   "metadata": {},
   "outputs": [],
   "source": [
    "from sklearn.utils import shuffle\n",
    "from sklearn.ensemble import RandomForestClassifier\n",
    "from sklearn.metrics import accuracy_score\n",
    "import numpy as np"
   ]
  },
  {
   "cell_type": "code",
   "execution_count": null,
   "metadata": {},
   "outputs": [],
   "source": [
    "# Shuffle and re-evaluate\n",
    "shuffled_scores = []\n",
    "n_permutations = 5\n",
    "\n",
    "for i in range(n_permutations):\n",
    "    y_shuffled = shuffle(y_train, random_state=i)\n",
    "    model = RandomForestClassifier(n_estimators = 100)\n",
    "    model.fit(X_train, y_shuffled)\n",
    "    score = accuracy_score(y_test, model.predict(X_test))\n",
    "    shuffled_scores.append(score)\n",
    "mean_shuffled_scores = np.mean(shuffled_scores)\n"
   ]
  },
  {
   "cell_type": "code",
   "execution_count": null,
   "metadata": {},
   "outputs": [],
   "source": [
    "shuffled_scores=[]\n",
    "kFold=KFold(n_splits=5,shuffle=False)\n",
    "\n",
    "# creating a RF classifier \n",
    "clf = RandomForestClassifier(n_estimators = 100)   \n",
    "for i, (train_index,test_index) in enumerate(kFold.split(network_array[non_nan_mask])):\n",
    "    # print(\"Train Index: \", train_index, \"\\n\")\n",
    "    # print(\"Test Index: \", test_index)\n",
    "    y_train = shuffle(y_train, random_state=i)\n",
    "\n",
    "    X_train, X_test, y_train, y_test = network_array[non_nan_mask][train_index], network_array[non_nan_mask][test_index], network_df[\"trial_outcome\"][non_nan_mask].values[train_index], network_df[\"trial_outcome\"][non_nan_mask].values[test_index]\n",
    "\n",
    "    # Training the model on the training dataset \n",
    "    # fit function is used to train the model using the training sets as parameters \n",
    "    clf.fit(X_train, y_train) \n",
    "    shuffled_scores.append(clf.score(X_test,y_test))\n",
    "mean_shuffled_scores = np.mean(scores)"
   ]
  },
  {
   "cell_type": "code",
   "execution_count": null,
   "metadata": {},
   "outputs": [],
   "source": [
    "shuffled_scores"
   ]
  },
  {
   "cell_type": "code",
   "execution_count": null,
   "metadata": {},
   "outputs": [],
   "source": [
    "original_scores"
   ]
  },
  {
   "cell_type": "code",
   "execution_count": null,
   "metadata": {},
   "outputs": [],
   "source": [
    "plt.bar(x=[\"Beta and Theta\", \"Shuffled\"], height=[np.mean(original_score), np.mean(shuffled_scores)], color= [\"#FFAF00\", \"#15616F\"])\n",
    "plt.ylabel(\"Accuracy\", fontsize=20)\n",
    "plt.title(\"Random Forest Prediction\", fontsize=20)\n",
    "plt.errorbar([\"Beta and Theta\", \"Shuffled\"], [np.mean(original_score), np.mean(shuffled_scores)], yerr=[np.std(original_score), np.std(shuffled_scores)], fmt=\"o\", color=\"black\")\n",
    "plt.ylim(0,1)\n",
    "plt.tight_layout()\n",
    "plt.savefig(\"./proc/rf_power_predictions.png\")"
   ]
  },
  {
   "cell_type": "markdown",
   "metadata": {},
   "source": [
    "# With Coherence"
   ]
  },
  {
   "cell_type": "code",
   "execution_count": null,
   "metadata": {},
   "outputs": [],
   "source": [
    "MERGED_LFP_AND_SLEAP = pd.read_pickle(\"./proc/MERGED_LFP_AND_SLEAP.pkl\")\n"
   ]
  },
  {
   "cell_type": "code",
   "execution_count": null,
   "metadata": {},
   "outputs": [],
   "source": [
    "MERGED_LFP_AND_SLEAP.columns"
   ]
  },
  {
   "cell_type": "code",
   "execution_count": null,
   "metadata": {
    "scrolled": true
   },
   "outputs": [],
   "source": [
    "feature_columns = [col for col in MERGED_LFP_AND_SLEAP.columns if \"averaged\" in col and \"coherence\" in col or \"averaged\" in col and \"granger\" in col]"
   ]
  },
  {
   "cell_type": "code",
   "execution_count": null,
   "metadata": {},
   "outputs": [],
   "source": [
    "feature_columns = [col for col in MERGED_LFP_AND_SLEAP.columns if \"gamma\" in col]\n",
    "feature_columns = [col for col in MERGED_LFP_AND_SLEAP.columns if \"averaged\" in col]"
   ]
  },
  {
   "cell_type": "code",
   "execution_count": null,
   "metadata": {},
   "outputs": [],
   "source": [
    "raise ValueError()"
   ]
  },
  {
   "cell_type": "code",
   "execution_count": null,
   "metadata": {},
   "outputs": [],
   "source": [
    "feature_columns"
   ]
  },
  {
   "cell_type": "raw",
   "metadata": {},
   "source": [
    "MERGED_LFP_AND_SLEAP[\"gamma_network\"] = MERGED_LFP_AND_SLEAP.apply(lambda x: get_region_network(x, feature_columns, low_index=30, high_index=90), axis=1)\n",
    "MERGED_LFP_AND_SLEAP[\"gamma_adjacency_matrix\"] = MERGED_LFP_AND_SLEAP.apply(lambda x: np.array(nx.adjacency_matrix(x[\"gamma_network\"]).todense()).flatten(), axis=1)\n",
    "MERGED_LFP_AND_SLEAP[\"gamma_weights\"] = MERGED_LFP_AND_SLEAP.apply(lambda x: x[\"gamma_network\"].degree(weight='weight'), axis=1)"
   ]
  },
  {
   "cell_type": "raw",
   "metadata": {},
   "source": [
    "MERGED_LFP_AND_SLEAP = MERGED_LFP_AND_SLEAP[MERGED_LFP_AND_SLEAP[\"trial_outcome\"].isin([\"win\", \"lose\"])]\n",
    "# MERGED_LFP_AND_SLEAP = MERGED_LFP_AND_SLEAP[MERGED_LFP_AND_SLEAP[\"trial_outcome\"].isin([\"win\", \"rewarded\"])]\n",
    "# MERGED_LFP_AND_SLEAP = MERGED_LFP_AND_SLEAP[MERGED_LFP_AND_SLEAP[\"trial_outcome\"].isin([\"lose\", \"rewarded\"])]"
   ]
  },
  {
   "cell_type": "raw",
   "metadata": {
    "scrolled": true
   },
   "source": [
    "network_array = np.array(MERGED_LFP_AND_SLEAP[\"gamma_adjacency_matrix\"].tolist())"
   ]
  },
  {
   "cell_type": "code",
   "execution_count": null,
   "metadata": {},
   "outputs": [],
   "source": [
    "network_df = MERGED_LFP_AND_SLEAP[MERGED_LFP_AND_SLEAP[\"trial_outcome\"].isin([\"win\", \"lose\"])]\n"
   ]
  },
  {
   "cell_type": "code",
   "execution_count": null,
   "metadata": {},
   "outputs": [],
   "source": [
    "network_array = network_df[feature_columns]"
   ]
  },
  {
   "cell_type": "raw",
   "metadata": {},
   "source": [
    "network_array = network_array[:, network_array[0] != 0]"
   ]
  },
  {
   "cell_type": "code",
   "execution_count": null,
   "metadata": {},
   "outputs": [],
   "source": [
    "scaler = StandardScaler()\n",
    "scaler.fit(network_array)"
   ]
  },
  {
   "cell_type": "code",
   "execution_count": null,
   "metadata": {},
   "outputs": [],
   "source": [
    "network_array = scaler.transform(network_array)"
   ]
  },
  {
   "cell_type": "code",
   "execution_count": null,
   "metadata": {},
   "outputs": [],
   "source": [
    "non_nan_mask = ~np.isnan(network_array).any(axis=1)"
   ]
  },
  {
   "cell_type": "code",
   "execution_count": null,
   "metadata": {},
   "outputs": [],
   "source": []
  },
  {
   "cell_type": "code",
   "execution_count": null,
   "metadata": {},
   "outputs": [],
   "source": [
    "X_train, X_test, y_train, y_test = train_test_split(network_array[non_nan_mask], network_df[\"trial_outcome\"][non_nan_mask], test_size = 0.20) "
   ]
  },
  {
   "cell_type": "code",
   "execution_count": null,
   "metadata": {},
   "outputs": [],
   "source": [
    "scores=[]\n",
    "kFold=KFold(n_splits=5,shuffle=False)\n",
    "\n",
    "# creating a RF classifier \n",
    "clf = RandomForestClassifier(n_estimators = 100)   \n",
    "for train_index,test_index in kFold.split(network_array[non_nan_mask]):\n",
    "    # print(\"Train Index: \", train_index, \"\\n\")\n",
    "    # print(\"Test Index: \", test_index)\n",
    "    \n",
    "    X_train, X_test, y_train, y_test = network_array[non_nan_mask][train_index], network_array[non_nan_mask][test_index], network_df[\"trial_outcome\"][non_nan_mask].values[train_index], network_df[\"trial_outcome\"][non_nan_mask].values[test_index]\n",
    "\n",
    "    # Training the model on the training dataset \n",
    "    # fit function is used to train the model using the training sets as parameters \n",
    "    clf.fit(X_train, y_train) \n",
    "    scores.append(clf.score(X_test,y_test))\n",
    "print(np.mean(scores))\n",
    "# 0.9393939393939394\n"
   ]
  },
  {
   "cell_type": "code",
   "execution_count": null,
   "metadata": {},
   "outputs": [],
   "source": [
    "scores"
   ]
  },
  {
   "cell_type": "code",
   "execution_count": null,
   "metadata": {},
   "outputs": [],
   "source": [
    "importances = clf.feature_importances_\n",
    "std = np.std([tree.feature_importances_ for tree in clf.estimators_], axis=0)"
   ]
  },
  {
   "cell_type": "code",
   "execution_count": null,
   "metadata": {},
   "outputs": [],
   "source": [
    "std"
   ]
  },
  {
   "cell_type": "code",
   "execution_count": null,
   "metadata": {},
   "outputs": [],
   "source": [
    "forest_importances = pd.DataFrame(importances, index=feature_columns).sort_values(0, ascending=False).reset_index()\n",
    "forest_importances = forest_importances.rename(columns={0: \"mdi\"})"
   ]
  },
  {
   "cell_type": "code",
   "execution_count": null,
   "metadata": {},
   "outputs": [],
   "source": [
    "forest_importances[\"brain_regions\"] = forest_importances[\"index\"].apply(lambda x: x.split(\"_\")[:2])\n",
    "forest_importances[\"measure\"] = forest_importances[\"index\"].apply(lambda x: x.split(\"_\")[-1])\n",
    "forest_importances[\"band\"] = forest_importances[\"index\"].apply(lambda x: x.split(\"_\")[-2])"
   ]
  },
  {
   "cell_type": "code",
   "execution_count": null,
   "metadata": {},
   "outputs": [],
   "source": [
    "forest_importances = forest_importances.iloc[:20]"
   ]
  },
  {
   "cell_type": "code",
   "execution_count": null,
   "metadata": {},
   "outputs": [],
   "source": [
    "font = {'weight' : 'bold',\n",
    "        'size'   : 12}\n",
    "\n",
    "matplotlib.rc('font', **font)"
   ]
  },
  {
   "cell_type": "code",
   "execution_count": null,
   "metadata": {},
   "outputs": [],
   "source": [
    "BAND_TO_COLOR = {\"theta\": \"green\", \"beta\": \"blue\", \"gamma\": \"red\"}"
   ]
  },
  {
   "cell_type": "code",
   "execution_count": null,
   "metadata": {},
   "outputs": [],
   "source": [
    "MEASURE_TO_PATTERN = {\"granger\": \"o\", \"coherence\": \"\"}"
   ]
  },
  {
   "cell_type": "code",
   "execution_count": null,
   "metadata": {},
   "outputs": [],
   "source": [
    "forest_importances[\"color\"] = forest_importances[\"band\"].map(BAND_TO_COLOR)\n",
    "forest_importances[\"pattern\"] = forest_importances[\"measure\"].map(MEASURE_TO_PATTERN)"
   ]
  },
  {
   "cell_type": "code",
   "execution_count": null,
   "metadata": {},
   "outputs": [],
   "source": [
    "forest_importances"
   ]
  },
  {
   "cell_type": "code",
   "execution_count": null,
   "metadata": {},
   "outputs": [],
   "source": [
    "for index, row in forest_importances.iterrows():\n",
    "    plt.bar(row[\"index\"], row[\"mdi\"], color=row[\"color\"], label=\"{} {}\".format(row[\"band\"], row[\"measure\"]), hatch=row[\"pattern\"])\n",
    "\n",
    "plt.xticks(fontsize=10, rotation=90)\n",
    "handles, labels = plt.gca().get_legend_handles_labels()\n",
    "by_label = OrderedDict(zip(labels, handles))\n",
    "plt.legend(by_label.values(), by_label.keys())\n",
    "\n",
    "plt.title(\"Feature importances for winning/losing\", fontsize=20)\n",
    "plt.ylabel(\"Mean decrease in impurity\", fontsize=20)\n",
    "# plt.tight_layout()\n",
    "plt.savefig(\"./proc/network/rf_feature_importance.png\")\n",
    "plt.show()"
   ]
  },
  {
   "cell_type": "markdown",
   "metadata": {},
   "source": [
    "# Example graph Classification with Graph Kernel "
   ]
  },
  {
   "cell_type": "code",
   "execution_count": null,
   "metadata": {},
   "outputs": [],
   "source": [
    "from grakel.datasets import fetch_dataset\n",
    "MUTAG = fetch_dataset(\"MUTAG\", verbose=False)\n",
    "G = MUTAG.data\n",
    "y = MUTAG.target"
   ]
  },
  {
   "cell_type": "code",
   "execution_count": null,
   "metadata": {},
   "outputs": [],
   "source": [
    "from grakel import NeighborhoodSubgraphPairwiseDistance"
   ]
  },
  {
   "cell_type": "code",
   "execution_count": null,
   "metadata": {},
   "outputs": [],
   "source": [
    "from grakel.kernels import WeisfeilerLehman, VertexHistogram\n",
    "wl_kernel = WeisfeilerLehman(n_iter=5, normalize=True, base_graph_kernel=VertexHistogram)\n",
    "wl_kernel = NeighborhoodSubgraphPairwiseDistance(normalize=False)\n",
    "\n"
   ]
  },
  {
   "cell_type": "code",
   "execution_count": null,
   "metadata": {},
   "outputs": [],
   "source": [
    "from sklearn.model_selection import train_test_split\n",
    "G_train, G_test, y_train, y_test = train_test_split(G, y, test_size=0.1, random_state=42)"
   ]
  },
  {
   "cell_type": "code",
   "execution_count": null,
   "metadata": {},
   "outputs": [],
   "source": [
    "G_train[0][0]"
   ]
  },
  {
   "cell_type": "code",
   "execution_count": null,
   "metadata": {},
   "outputs": [],
   "source": [
    "G_train[0][1]"
   ]
  },
  {
   "cell_type": "code",
   "execution_count": null,
   "metadata": {
    "scrolled": true
   },
   "outputs": [],
   "source": [
    "G_train[0][2]"
   ]
  },
  {
   "cell_type": "code",
   "execution_count": null,
   "metadata": {},
   "outputs": [],
   "source": [
    "for item in G_train:\n",
    "    item[2] = {key: [key[0], key[0]] for key, value in item[2].items()}"
   ]
  },
  {
   "cell_type": "code",
   "execution_count": null,
   "metadata": {
    "scrolled": true
   },
   "outputs": [],
   "source": [
    "G_train[0][2]"
   ]
  },
  {
   "cell_type": "code",
   "execution_count": null,
   "metadata": {},
   "outputs": [],
   "source": [
    "K_train = wl_kernel.fit_transform(G_train)\n"
   ]
  },
  {
   "cell_type": "code",
   "execution_count": null,
   "metadata": {},
   "outputs": [],
   "source": [
    "K_test = wl_kernel.transform(G_test)"
   ]
  },
  {
   "cell_type": "code",
   "execution_count": null,
   "metadata": {},
   "outputs": [],
   "source": [
    "from sklearn.svm import SVC\n",
    "clf = SVC(kernel='precomputed')\n",
    "clf.fit(K_train, y_train)\n",
    "SVC(kernel='precomputed')\n",
    "\n",
    "y_pred = clf.predict(K_test)"
   ]
  },
  {
   "cell_type": "code",
   "execution_count": null,
   "metadata": {},
   "outputs": [],
   "source": [
    "from sklearn.metrics import accuracy_score\n",
    "print(\"%2.2f %%\" %(round(accuracy_score(y_test, y_pred)*100)))"
   ]
  },
  {
   "cell_type": "code",
   "execution_count": null,
   "metadata": {},
   "outputs": [],
   "source": [
    "import numpy as np\n",
    "from grakel.kernels import MultiscaleLaplacian\n",
    "\n",
    "adj = np.array([[0,0,1,1],[0,0,1,0],[1,1,0,1],[1,0,1,0]])\n",
    "node_attributes = {0:[1], 1:[1], 2:[1], 3:[1]}\n",
    "G1 = [adj, node_attributes]\n",
    "\n",
    "adj = np.array([[0,0,.2,.2],[0,0,.2,0],[.2,.2,0,.2],[.2,0,.2,0]])\n",
    "node_attributes = {0:[1], 1:[1], 2:[1], 3:[1]}\n",
    "G2 = [adj, node_attributes]\n",
    "\n",
    "Gs = [G1,G2]\n",
    "\n",
    "ml_kernel = MultiscaleLaplacian(P=4, L=2, n_samples=4)\n",
    "K = ml_kernel.fit_transform(Gs)\n",
    "print(K)\n",
    "\n"
   ]
  },
  {
   "cell_type": "code",
   "execution_count": null,
   "metadata": {},
   "outputs": [],
   "source": [
    "adj"
   ]
  },
  {
   "cell_type": "code",
   "execution_count": null,
   "metadata": {},
   "outputs": [],
   "source": [
    "edges = {(1, 2): 1, (1, 3): 1, (2, 1): 1, (3, 1): 1}\n",
    "edge_attributes = {(1, 2): [0.2, 0.8, 1.3], (1, 3): [1.1, 0.1, 0.7], (2, 1): [0.2, 0.8, 1.3], (3, 1): [1.1, 0.1, 0.7]}\n",
    "G = Graph(edges, edge_labels=edge_attributes)"
   ]
  },
  {
   "cell_type": "code",
   "execution_count": null,
   "metadata": {},
   "outputs": [],
   "source": [
    "K_train = wl_kernel.fit_transform([G, G])"
   ]
  },
  {
   "cell_type": "markdown",
   "metadata": {},
   "source": [
    "# Graph Classification with Graph Kernel "
   ]
  },
  {
   "cell_type": "code",
   "execution_count": null,
   "metadata": {},
   "outputs": [],
   "source": [
    "# Create a directed graph to handle directional edges\n",
    "G = nx.MultiDiGraph()\n",
    "\n"
   ]
  },
  {
   "cell_type": "code",
   "execution_count": null,
   "metadata": {},
   "outputs": [],
   "source": [
    "feature_df = pd.DataFrame(feature_columns, columns=[\"index\"])"
   ]
  },
  {
   "cell_type": "code",
   "execution_count": null,
   "metadata": {},
   "outputs": [],
   "source": [
    "feature_df = pd.DataFrame(feature_columns, columns=[\"index\"])\n",
    "feature_df[\"brain_regions\"] = feature_df[\"index\"].apply(lambda x: x.split(\"_\")[:2])\n",
    "feature_df[\"measure\"] = feature_df[\"index\"].apply(lambda x: x.split(\"_\")[-1])\n",
    "feature_df[\"band\"] = feature_df[\"index\"].apply(lambda x: x.split(\"_\")[-2])"
   ]
  },
  {
   "cell_type": "code",
   "execution_count": null,
   "metadata": {},
   "outputs": [],
   "source": [
    "feature_df"
   ]
  },
  {
   "cell_type": "code",
   "execution_count": null,
   "metadata": {},
   "outputs": [],
   "source": [
    "for region in [\"BLA\", \"MD\", \"mPFC\", \"LH\", \"vHPC\"]:\n",
    "    G.add_node(region)"
   ]
  },
  {
   "cell_type": "code",
   "execution_count": null,
   "metadata": {},
   "outputs": [],
   "source": [
    "brain_region_pairs = [('BLA', 'LH'),\n",
    " ('BLA', 'MD'),\n",
    " ('BLA', 'mPFC'),\n",
    " ('BLA', 'vHPC'),\n",
    " ('LH', 'MD'),\n",
    " ('LH', 'mPFC'),\n",
    " ('LH', 'vHPC'),\n",
    " ('MD', 'mPFC'),\n",
    " ('MD', 'vHPC'),\n",
    " ('mPFC', 'vHPC')]"
   ]
  },
  {
   "cell_type": "code",
   "execution_count": null,
   "metadata": {},
   "outputs": [],
   "source": [
    "columns = feature_columns"
   ]
  },
  {
   "cell_type": "code",
   "execution_count": null,
   "metadata": {},
   "outputs": [],
   "source": [
    "gl_edges = []\n",
    "\n",
    "# for node in G.nodes(data=True):\n",
    "#     gl_graph.append(node[0])\n",
    "\n",
    "# for edge in G.edges(data=True):\n",
    "#     if 'directional' in edge[2]:\n",
    "#         # Directional edge: only add in one direction\n",
    "#         gl_edges.append((edge[0], edge[1], edge[2]['granger']))\n",
    "#     else:\n",
    "#         # Coherence is bidirectional\n",
    "#         gl_edges.append((edge[0], edge[1], edge[2]['coherence']))\n",
    "\n",
    "\n",
    "\n",
    "region_pair_to_measure = {}\n",
    "for region_1, region_2 in brain_region_pairs:\n",
    "    # print(region_1)\n",
    "    # print(region_2)\n",
    "    # reg1_reg2_dict = {}\n",
    "    # reg2_reg1_dict = {}\n",
    "    region_pair_to_measure[(region_1, region_2)] = {}\n",
    "    region_pair_to_measure[(region_2, region_1)] = {}\n",
    "\n",
    "    current_df = feature_df[(feature_df[\"index\"].str.contains(region_1)) & (feature_df[\"index\"].str.contains(region_2))].sort_values([\"measure\", \"band\", \"index\"])\n",
    "\n",
    "    for index, row in current_df.iterrows():\n",
    "        current_column = row[\"index\"]\n",
    "    \n",
    "        first_region = current_column.split(\"_\")[0]\n",
    "        second_region = current_column.split(\"_\")[1]\n",
    "        value = MERGED_LFP_AND_SLEAP[current_column].iloc[0]\n",
    "        # print(first_region, second_region)\n",
    "        # print(row[\"index\"])\n",
    "        # print(first_region, second_region)\n",
    "        if \"coherence\" in current_column:\n",
    "            region_pair_to_measure[(second_region, first_region)][\"{}_{}\".format(row[\"band\"], row[\"measure\"])] = value\n",
    "            gl_edges.append((second_region, first_region, value))\n",
    "            \n",
    "        region_pair_to_measure[(first_region, second_region)][\"{}_{}\".format(row[\"band\"], row[\"measure\"])] = value\n",
    "        gl_edges.append((first_region, second_region, value))\n"
   ]
  },
  {
   "cell_type": "code",
   "execution_count": null,
   "metadata": {},
   "outputs": [],
   "source": [
    "# Add edges\n",
    "for (src, dst), data in region_pair_to_measure.items():\n",
    "    G.add_edge(src, dst, **data)"
   ]
  },
  {
   "cell_type": "code",
   "execution_count": null,
   "metadata": {},
   "outputs": [],
   "source": [
    "# Convert to GraKeL compatible format\n",
    "gl_graph = []\n",
    "for node in G.nodes(data=True):\n",
    "    gl_graph.append(node[0])"
   ]
  },
  {
   "cell_type": "code",
   "execution_count": null,
   "metadata": {},
   "outputs": [],
   "source": [
    "gl_format_graph = Graph(gl_graph, gl_edges)\n"
   ]
  },
  {
   "cell_type": "code",
   "execution_count": null,
   "metadata": {},
   "outputs": [],
   "source": []
  },
  {
   "cell_type": "code",
   "execution_count": null,
   "metadata": {},
   "outputs": [],
   "source": []
  },
  {
   "cell_type": "code",
   "execution_count": null,
   "metadata": {},
   "outputs": [],
   "source": [
    "import networkx as nx\n",
    "from grakel.kernels import WeisfeilerLehman, VertexHistogram\n",
    "from grakel import Graph\n",
    "\n",
    "# Sample data: replace with your actual data\n",
    "brain_regions = ['RegionA', 'RegionB', 'RegionC', 'RegionD', 'RegionE']\n",
    "connections = [\n",
    "    ('RegionA', 'RegionB', {'coherence': 0.7, 'granger': 0.5}),\n",
    "    ('RegionB', 'RegionC', {'coherence': 0.8, 'granger': 0.3}),\n",
    "    # Assume directional edge for Granger causality from D to E\n",
    "    ('RegionD', 'RegionE', {'coherence': 0.6, 'granger': 0.7, 'directional': True}),\n",
    "    # ... Add other connections\n",
    "]\n",
    "\n",
    "# Create a directed graph to handle directional edges\n",
    "G = nx.MultiDiGraph()\n",
    "\n",
    "# Add nodes\n",
    "for region in brain_regions:\n",
    "    G.add_node(region)\n",
    "\n",
    "# Add edges\n",
    "for src, dst, data in connections:\n",
    "    G.add_edge(src, dst, **data)\n",
    "    if not data.get('directional', False):  # If not directional, add the reverse edge\n",
    "        G.add_edge(dst, src, **data)\n",
    "\n",
    "# Convert to GraKeL compatible format\n",
    "gl_graph = []\n",
    "for node in G.nodes(data=True):\n",
    "    gl_graph.append(node[0])\n",
    "\n",
    "gl_edges = []\n",
    "for edge in G.edges(data=True):\n",
    "    if 'directional' in edge[2]:\n",
    "        # Directional edge: only add in one direction\n",
    "        gl_edges.append((edge[0], edge[1], edge[2]['granger']))\n",
    "    else:\n",
    "        # Coherence is bidirectional\n",
    "        gl_edges.append((edge[0], edge[1], edge[2]['coherence']))\n",
    "\n",
    "gl_format_graph = Graph(gl_graph, gl_edges)\n",
    "\n",
    "# Instantiate a Weisfeiler-Lehman kernel\n",
    "wl_kernel = WeisfeilerLehman(n_iter=5, base_graph_kernel=VertexHistogram)\n",
    "\n",
    "# Compute the kernel matrix\n",
    "kernel_matrix = wl_kernel.fit_transform([gl_format_graph])"
   ]
  },
  {
   "cell_type": "code",
   "execution_count": null,
   "metadata": {},
   "outputs": [],
   "source": [
    "gl_graph"
   ]
  },
  {
   "cell_type": "code",
   "execution_count": null,
   "metadata": {},
   "outputs": [],
   "source": [
    "gl_edges"
   ]
  },
  {
   "cell_type": "code",
   "execution_count": null,
   "metadata": {},
   "outputs": [],
   "source": [
    "\n",
    "\n",
    "gl_edges = []\n",
    "for edge in G.edges(data=True):\n",
    "    if 'directional' in edge[2]:\n",
    "        # Directional edge: only add in one direction\n",
    "        gl_edges.append((edge[0], edge[1], edge[2]['granger']))\n",
    "    else:\n",
    "        # Coherence is bidirectional\n",
    "        gl_edges.append((edge[0], edge[1], edge[2]['coherence']))\n",
    "\n",
    "gl_format_graph = Graph(gl_graph, gl_edges)"
   ]
  },
  {
   "cell_type": "code",
   "execution_count": null,
   "metadata": {
    "scrolled": true
   },
   "outputs": [],
   "source": [
    "for edge in G.edges(data=True):\n",
    "    print(edge)"
   ]
  },
  {
   "cell_type": "code",
   "execution_count": null,
   "metadata": {},
   "outputs": [],
   "source": [
    "gl_edges = []\n",
    "for edge in G.edges(data=True):\n",
    "    if 'directional' in edge[2]:\n",
    "        # Directional edge: only add in one direction\n",
    "        gl_edges.append((edge[0], edge[1], edge[2]['granger']))\n",
    "    else:\n",
    "        # Coherence is bidirectional\n",
    "        gl_edges.append((edge[0], edge[1], edge[2]['coherence']))\n",
    "\n",
    "gl_format_graph = Graph(gl_graph, gl_edges)"
   ]
  },
  {
   "cell_type": "code",
   "execution_count": null,
   "metadata": {},
   "outputs": [],
   "source": [
    "G.get_edge_data(\"BLA\", \"\")"
   ]
  },
  {
   "cell_type": "code",
   "execution_count": null,
   "metadata": {},
   "outputs": [],
   "source": [
    "MERGED_LFP_AND_SLEAP[\"LH_BLA_averaged_beta_granger\"]"
   ]
  },
  {
   "cell_type": "code",
   "execution_count": null,
   "metadata": {},
   "outputs": [],
   "source": [
    "region_pair_to_measure"
   ]
  },
  {
   "cell_type": "code",
   "execution_count": null,
   "metadata": {},
   "outputs": [],
   "source": [
    "# Add nodes\n",
    "for region in brain_regions:\n",
    "    G.add_node(region)"
   ]
  },
  {
   "cell_type": "code",
   "execution_count": null,
   "metadata": {},
   "outputs": [],
   "source": [
    "# Add nodes\n",
    "for region in brain_regions:\n",
    "    G.add_node(region)\n",
    "\n"
   ]
  },
  {
   "cell_type": "code",
   "execution_count": null,
   "metadata": {},
   "outputs": [],
   "source": [
    "# Add edges\n",
    "for src, dst, data in connections:\n",
    "    G.add_edge(src, dst, **data)\n",
    "    if not data.get('directional', False):  # If not directional, add the reverse edge\n",
    "        G.add_edge(dst, src, **data)"
   ]
  },
  {
   "cell_type": "code",
   "execution_count": null,
   "metadata": {},
   "outputs": [],
   "source": [
    "def create_functional_graph(row, columns, brain_region_pairs=None, measures=None, bands=None):\n",
    "    \"\"\"\n",
    "    \"\"\"\n",
    "    if brain_region_pairs is None:\n",
    "        brain_region_pairs = [('BLA', 'LH'),\n",
    "         ('BLA', 'MD'),\n",
    "         ('BLA', 'mPFC'),\n",
    "         ('BLA', 'vHPC'),\n",
    "         ('LH', 'MD'),\n",
    "         ('LH', 'mPFC'),\n",
    "         ('LH', 'vHPC'),\n",
    "         ('MD', 'mPFC'),\n",
    "         ('MD', 'vHPC'),\n",
    "         ('mPFC', 'vHPC')]\n",
    "\n",
    "    if measures is None:\n",
    "        measures = [\"coherence\", \"granger\"]\n",
    "\n",
    "    if bands is None:\n",
    "        bands = [\"theta\", \"beta\", \"gamma\"]\n",
    "\n",
    "    G = nx.MultiDiGraph()\n",
    "    for region in [\"BLA\", \"MD\", \"mPFC\", \"LH\", \"vHPC\"]:\n",
    "        G.add_node(region)\n",
    "    \n",
    "    \n",
    "    try:\n",
    "        feature_df = pd.DataFrame(columns, columns=[\"index\"])\n",
    "        feature_df[\"brain_regions\"] = feature_df[\"index\"].apply(lambda x: x.split(\"_\")[:2])\n",
    "        feature_df[\"measure\"] = feature_df[\"index\"].apply(lambda x: x.split(\"_\")[-1])\n",
    "        feature_df[\"band\"] = feature_df[\"index\"].apply(lambda x: x.split(\"_\")[-2])\n",
    "        \n",
    "        G = nx.MultiDiGraph()      \n",
    "        all_columns = []\n",
    "        \n",
    "        for region_1, region_2 in brain_region_pairs:\n",
    "            # print(region_1)\n",
    "            # print(region_2)\n",
    "            reg1_reg2_dict = {}\n",
    "            reg2_reg1_dict = {}\n",
    "            for current_col in [col for col in columns if region_1 in col and region_2 in col]:\n",
    "                first_region = current_col.split(\"_\")[0]\n",
    "                second_region = current_col.split(\"_\")[1]\n",
    "                if \"coherence\" in col:\n",
    "                    reg1_reg2_dict[\"{}_{}\".format(band, measure)] = {}\n",
    "        \n",
    "\n",
    "            \n",
    "            for measure in measures:\n",
    "                for band in bands:\n",
    "                    for col in feature_df[(feature_df[\"band\"] == band) & (feature_df[\"measure\"] == measure) & (feature_df[\"brain_regions\"].apply(lambda x: region_1 in x)) & ((feature_df[\"brain_regions\"].apply(lambda x: region_2 in x)))][\"index\"]:\n",
    "                        # print(col)\n",
    "                        reg_1 = col.split(\"_\")[0]\n",
    "                        reg_2 = col.split(\"_\")[1]\n",
    "                        if \"coherence\" in col:\n",
    "                            # print(reg_2, reg_1)\n",
    "                            edge_attributes[(reg_2, reg_1)].append(row[col])\n",
    "                            G.add_edge(src, dst, **data)\n",
    "\n",
    "    \n",
    "                        # print(reg_1, reg_2)\n",
    "                        edge_attributes[(reg_1, reg_2)].append(row[col])\n",
    "                        all_columns.append(col)\n",
    "        return all_columns, Graph(edges, edge_labels=edge_attributes)\n",
    "    except Exception as e: \n",
    "        print(e)   \n",
    "        return np.nan"
   ]
  },
  {
   "cell_type": "code",
   "execution_count": null,
   "metadata": {},
   "outputs": [],
   "source": [
    "# Create a directed graph to handle directional edges\n",
    "G = nx.MultiDiGraph()\n",
    "\n",
    "# Add nodes\n",
    "for region in brain_regions:\n",
    "    G.add_node(region)\n",
    "\n",
    "# Add edges\n",
    "for src, dst, data in connections:\n",
    "    G.add_edge(src, dst, **data)\n",
    "    if not data.get('directional', False):  # If not directional, add the reverse edge\n",
    "        G.add_edge(dst, src, **data)"
   ]
  },
  {
   "cell_type": "code",
   "execution_count": null,
   "metadata": {},
   "outputs": [],
   "source": []
  },
  {
   "cell_type": "markdown",
   "metadata": {},
   "source": [
    "# OLD CODE"
   ]
  },
  {
   "cell_type": "code",
   "execution_count": null,
   "metadata": {},
   "outputs": [],
   "source": [
    "forest_importances.groupby([\"measure\", \"band\"])[\"mdi\"].mean()"
   ]
  },
  {
   "cell_type": "code",
   "execution_count": null,
   "metadata": {},
   "outputs": [],
   "source": [
    "edges = {(1, 2): 1, (1, 3): 1, (2, 1): 1, (3, 1): 1}\n",
    "edge_attributes = {(1, 2): [0.2, 0.8, 1.3], (1, 3): [1.1, 0.1, 0.7], (2, 1): [0.2, 0.8, 1.3], (3, 1): [1.1, 0.1, 0.7]}\n",
    "G = Graph(edges, edge_labels=edge_attributes)"
   ]
  },
  {
   "cell_type": "code",
   "execution_count": null,
   "metadata": {},
   "outputs": [],
   "source": [
    "trial_trace_columns = sorted([col.split(\"_\")[0] for col in MERGED_LFP_AND_SLEAP.columns if \"trial_lfp_trace\" in col])\n"
   ]
  },
  {
   "cell_type": "code",
   "execution_count": null,
   "metadata": {},
   "outputs": [],
   "source": [
    "trial_brain_region_pairs = generate_pairs(trial_trace_columns)\n"
   ]
  },
  {
   "cell_type": "code",
   "execution_count": null,
   "metadata": {
    "scrolled": true
   },
   "outputs": [],
   "source": [
    "trial_brain_region_pairs"
   ]
  },
  {
   "cell_type": "code",
   "execution_count": null,
   "metadata": {},
   "outputs": [],
   "source": [
    "\n",
    "\n",
    "from itertools import product"
   ]
  },
  {
   "cell_type": "code",
   "execution_count": null,
   "metadata": {},
   "outputs": [],
   "source": []
  },
  {
   "cell_type": "code",
   "execution_count": null,
   "metadata": {},
   "outputs": [],
   "source": [
    "feature_df[\"brain_regions\"].str.contains(region_1)"
   ]
  },
  {
   "cell_type": "code",
   "execution_count": null,
   "metadata": {
    "scrolled": true
   },
   "outputs": [],
   "source": [
    "edge_attributes"
   ]
  },
  {
   "cell_type": "code",
   "execution_count": null,
   "metadata": {},
   "outputs": [],
   "source": [
    "MERGED_LFP_AND_SLEAP[\"LH_BLA_averaged_theta_granger\"]"
   ]
  },
  {
   "cell_type": "code",
   "execution_count": null,
   "metadata": {},
   "outputs": [],
   "source": [
    "def create_functional_graph(row, columns, brain_region_pairs=None, measures=None, bands=None):\n",
    "    \"\"\"\n",
    "    \"\"\"\n",
    "    if brain_region_pairs is None:\n",
    "        brain_region_pairs = [('BLA', 'LH'),\n",
    "         ('BLA', 'MD'),\n",
    "         ('BLA', 'mPFC'),\n",
    "         ('BLA', 'vHPC'),\n",
    "         ('LH', 'MD'),\n",
    "         ('LH', 'mPFC'),\n",
    "         ('LH', 'vHPC'),\n",
    "         ('MD', 'mPFC'),\n",
    "         ('MD', 'vHPC'),\n",
    "         ('mPFC', 'vHPC')]\n",
    "\n",
    "    if measures is None:\n",
    "        measures = [\"coherence\", \"granger\"]\n",
    "\n",
    "    if bands is None:\n",
    "        bands = [\"theta\", \"beta\", \"gamma\"]\n",
    "    try:\n",
    "        feature_df = pd.DataFrame(columns, columns=[\"index\"])\n",
    "        feature_df[\"brain_regions\"] = feature_df[\"index\"].apply(lambda x: x.split(\"_\")[:2])\n",
    "        feature_df[\"measure\"] = feature_df[\"index\"].apply(lambda x: x.split(\"_\")[-1])\n",
    "        feature_df[\"band\"] = feature_df[\"index\"].apply(lambda x: x.split(\"_\")[-2])\n",
    "        \n",
    "        edges = {}\n",
    "        edge_attributes = {}\n",
    "        all_columns = []\n",
    "        for region_1, region_2 in brain_region_pairs:\n",
    "            # print(region_1)\n",
    "            # print(region_2)\n",
    "            edges[(region_1, region_2)] = 1\n",
    "            edges[(region_2, region_1)] = 1\n",
    "            edge_attributes[(region_1, region_2)] = []\n",
    "            edge_attributes[(region_2, region_1)] = []\n",
    "            for measure in measures:\n",
    "                for band in bands:\n",
    "                    for col in feature_df[(feature_df[\"band\"] == band) & (feature_df[\"measure\"] == measure) & (feature_df[\"brain_regions\"].apply(lambda x: region_1 in x)) & ((feature_df[\"brain_regions\"].apply(lambda x: region_2 in x)))][\"index\"]:\n",
    "                        # print(col)\n",
    "                        reg_1 = col.split(\"_\")[0]\n",
    "                        reg_2 = col.split(\"_\")[1]\n",
    "                        if \"coherence\" in col:\n",
    "                            # print(reg_2, reg_1)\n",
    "                            edge_attributes[(reg_2, reg_1)].append(row[col])      \n",
    "                        # print(reg_1, reg_2)\n",
    "                        edge_attributes[(reg_1, reg_2)].append(row[col])\n",
    "                        all_columns.append(col)\n",
    "        return all_columns, Graph(edges, edge_labels=edge_attributes)\n",
    "    except Exception as e: \n",
    "        print(e)   \n",
    "        return np.nan"
   ]
  },
  {
   "cell_type": "code",
   "execution_count": null,
   "metadata": {},
   "outputs": [],
   "source": [
    "edges = {(1, 2): 1, (1, 3): 1, (2, 1): 1, (3, 1): 1}\n",
    "edge_attributes = {(1, 2): [0.2, 0.8, 1.3], (1, 3): [1.1, 0.1, 0.7], (2, 1): [0.2, 0.8, 1.3], (3, 1): [1.1, 0.1, 0.7]}\n",
    "G = Graph(edges, edge_labels=edge_attributes)"
   ]
  },
  {
   "cell_type": "code",
   "execution_count": null,
   "metadata": {},
   "outputs": [],
   "source": [
    "G.edge_dictionary"
   ]
  },
  {
   "cell_type": "code",
   "execution_count": null,
   "metadata": {},
   "outputs": [],
   "source": [
    "MERGED_LFP_AND_SLEAP[\"BLA_LH_averaged_theta_coherence\"]"
   ]
  },
  {
   "cell_type": "code",
   "execution_count": null,
   "metadata": {},
   "outputs": [],
   "source": [
    "MERGED_LFP_AND_SLEAP[\"functional_graph\"] = MERGED_LFP_AND_SLEAP.apply(lambda x: create_functional_graph(x, feature_columns), axis=1)"
   ]
  },
  {
   "cell_type": "code",
   "execution_count": null,
   "metadata": {},
   "outputs": [],
   "source": [
    "MERGED_LFP_AND_SLEAP[\"functional_graph\"].iloc[0]"
   ]
  },
  {
   "cell_type": "code",
   "execution_count": null,
   "metadata": {},
   "outputs": [],
   "source": [
    "MERGED_LFP_AND_SLEAP[\"all_columns\"] = MERGED_LFP_AND_SLEAP[\"functional_graph\"].apply(lambda x: x[0])\n",
    "MERGED_LFP_AND_SLEAP[\"functional_graph\"] = MERGED_LFP_AND_SLEAP[\"functional_graph\"].apply(lambda x: x[1])"
   ]
  },
  {
   "cell_type": "code",
   "execution_count": null,
   "metadata": {},
   "outputs": [],
   "source": [
    "MERGED_LFP_AND_SLEAP[\"functional_graph\"].iloc[0].edge_dictionary"
   ]
  },
  {
   "cell_type": "code",
   "execution_count": null,
   "metadata": {},
   "outputs": [],
   "source": [
    "from grakel.kernels import WeisfeilerLehman, VertexHistogram\n",
    "wl_kernel = WeisfeilerLehman(n_iter=5, normalize=True, base_graph_kernel=VertexHistogram)"
   ]
  },
  {
   "cell_type": "code",
   "execution_count": null,
   "metadata": {},
   "outputs": [],
   "source": [
    "from grakel.kernels import neighborhood_subgraph_pairwise_distance"
   ]
  },
  {
   "cell_type": "code",
   "execution_count": null,
   "metadata": {},
   "outputs": [],
   "source": [
    "kernel = neighborhood_subgraph_pairwise_distance"
   ]
  },
  {
   "cell_type": "code",
   "execution_count": null,
   "metadata": {},
   "outputs": [],
   "source": [
    "kernel = kernel.NeighborhoodSubgraphPairwiseDistance(n_jobs=5, normalize=True)"
   ]
  },
  {
   "cell_type": "code",
   "execution_count": null,
   "metadata": {},
   "outputs": [],
   "source": [
    "kernel = WeisfeilerLehman(n_iter=5, normalize=True, base_graph_kernel=VertexHistogram)"
   ]
  },
  {
   "cell_type": "code",
   "execution_count": null,
   "metadata": {},
   "outputs": [],
   "source": [
    "from grakel.datasets import fetch_dataset\n",
    "MUTAG = fetch_dataset(\"MUTAG\", verbose=False)\n",
    "G = MUTAG.data\n",
    "y = MUTAG.target"
   ]
  },
  {
   "cell_type": "code",
   "execution_count": null,
   "metadata": {},
   "outputs": [],
   "source": [
    "from sklearn.model_selection import train_test_split\n",
    "G_train, G_test, y_train, y_test = train_test_split(MERGED_LFP_AND_SLEAP[\"functional_graph\"], MERGED_LFP_AND_SLEAP[\"trial_outcome\"], test_size=0.3, random_state=42)"
   ]
  },
  {
   "cell_type": "code",
   "execution_count": null,
   "metadata": {},
   "outputs": [],
   "source": [
    "from sklearn.model_selection import train_test_split\n",
    "G_train, G_test, y_train, y_test = train_test_split(G, y, test_size=0.1, random_state=42)"
   ]
  },
  {
   "cell_type": "code",
   "execution_count": null,
   "metadata": {},
   "outputs": [],
   "source": [
    "example = G_train[0]"
   ]
  },
  {
   "cell_type": "code",
   "execution_count": null,
   "metadata": {},
   "outputs": [],
   "source": [
    "example.node_labels"
   ]
  },
  {
   "cell_type": "code",
   "execution_count": null,
   "metadata": {},
   "outputs": [],
   "source": [
    "import networkx as nx\n",
    "\n",
    "G = nx.Graph()\n",
    "# Add nodes\n",
    "G.add_node(1)\n",
    "G.add_node(2)\n",
    "G.add_node(3)\n",
    "\n",
    "# Add weighted edges\n",
    "G.add_edge(1, 2, weight=0.5)\n",
    "G.add_edge(1, 2, weight=0.5)\n",
    "G.add_edge(1, 2, weight=0.5)\n",
    "\n",
    "G.add_edge(2, 3, weight=1.5)\n",
    "G.add_edge(1, 3, weight=1.0)"
   ]
  },
  {
   "cell_type": "code",
   "execution_count": null,
   "metadata": {},
   "outputs": [],
   "source": [
    "graph = [(dict(G_train[0].nodes(data=True)), dict(G_train[0].edges(data=True)))]"
   ]
  },
  {
   "cell_type": "code",
   "execution_count": null,
   "metadata": {
    "scrolled": true
   },
   "outputs": [],
   "source": [
    "K_train = kernel.fit_transform(G_train)"
   ]
  },
  {
   "cell_type": "code",
   "execution_count": null,
   "metadata": {},
   "outputs": [],
   "source": [
    "example.edge_dictionary"
   ]
  },
  {
   "cell_type": "code",
   "execution_count": null,
   "metadata": {},
   "outputs": [],
   "source": [
    "neighborhood_subgraph_pairwise_distance"
   ]
  },
  {
   "cell_type": "code",
   "execution_count": null,
   "metadata": {},
   "outputs": [],
   "source": [
    "example = G_train[0]"
   ]
  },
  {
   "cell_type": "code",
   "execution_count": null,
   "metadata": {
    "scrolled": true
   },
   "outputs": [],
   "source": [
    "G[0]"
   ]
  },
  {
   "cell_type": "code",
   "execution_count": null,
   "metadata": {},
   "outputs": [],
   "source": [
    "edges = {}\n",
    "edge_attributes = {}\n",
    "all_columns = []\n",
    "for region_1, region_2 in trial_brain_region_pairs:\n",
    "    print(region_1)\n",
    "    print(region_2)\n",
    "    edges[(region_1, region_2)] = 1\n",
    "    edges[(region_2, region_1)] = 1\n",
    "    edge_attributes[(region_1, region_2)] = []\n",
    "    edge_attributes[(region_2, region_1)] = []\n",
    "    for measure in [\"coherence\", \"granger\"]:\n",
    "        for band in BAND_TO_FREQ:\n",
    "            for col in feature_df[(feature_df[\"band\"] == band) & (feature_df[\"measure\"] == measure) & (feature_df[\"brain_regions\"].apply(lambda x: region_1 in x)) & ((feature_df[\"brain_regions\"].apply(lambda x: region_2 in x)))][\"index\"]:\n",
    "                print(col)\n",
    "                reg_1 = col.split(\"_\")[0]\n",
    "                reg_2 = col.split(\"_\")[1]\n",
    "                if \"coherence\" in col:\n",
    "                    print(reg_2, reg_1)\n",
    "                    edge_attributes[(reg_2, reg_1)].append(MERGED_LFP_AND_SLEAP[col].iloc[0])      \n",
    "                print(reg_1, reg_2)\n",
    "                edge_attributes[(reg_1, reg_2)].append(MERGED_LFP_AND_SLEAP[col].iloc[0])\n",
    "                all_columns.append(col)"
   ]
  },
  {
   "cell_type": "code",
   "execution_count": null,
   "metadata": {},
   "outputs": [],
   "source": [
    "edge_attributes"
   ]
  },
  {
   "cell_type": "code",
   "execution_count": null,
   "metadata": {},
   "outputs": [],
   "source": [
    "BAND_TO_FREQ"
   ]
  },
  {
   "cell_type": "code",
   "execution_count": null,
   "metadata": {},
   "outputs": [],
   "source": [
    "feature_columns"
   ]
  },
  {
   "cell_type": "code",
   "execution_count": null,
   "metadata": {},
   "outputs": [],
   "source": [
    "edges"
   ]
  },
  {
   "cell_type": "code",
   "execution_count": null,
   "metadata": {},
   "outputs": [],
   "source": [
    "feature_columns"
   ]
  },
  {
   "cell_type": "code",
   "execution_count": null,
   "metadata": {},
   "outputs": [],
   "source": [
    "pair_base_name"
   ]
  },
  {
   "cell_type": "code",
   "execution_count": null,
   "metadata": {},
   "outputs": [],
   "source": [
    "edges = {(1, 2): 1, (1, 3): 1, (2, 1): 1, (3, 1): 1}\n",
    "edge_attributes = {(1, 2): [0.2, 0.8, 1.3], (1, 3): [1.1, 0.1, 0.7], (2, 1): [0.2, 0.8, 1.3], (3, 1): [1.1, 0.1, 0.7]}\n",
    "G = Graph(edges, edge_labels=edge_attributes)"
   ]
  },
  {
   "cell_type": "code",
   "execution_count": null,
   "metadata": {},
   "outputs": [],
   "source": [
    "MERGED_LFP_AND_SLEAP"
   ]
  },
  {
   "cell_type": "code",
   "execution_count": null,
   "metadata": {},
   "outputs": [],
   "source": []
  },
  {
   "cell_type": "code",
   "execution_count": null,
   "metadata": {},
   "outputs": [],
   "source": [
    "forest_importances.sort_values(0, ascending=False).head(n=25)"
   ]
  },
  {
   "cell_type": "code",
   "execution_count": null,
   "metadata": {},
   "outputs": [],
   "source": [
    "plt.bar(forest_importances.sort_values(0, ascending=False).head(n=25))"
   ]
  },
  {
   "cell_type": "code",
   "execution_count": null,
   "metadata": {},
   "outputs": [],
   "source": [
    "forest_importances = pd.DataFrame(importances, index=feature_columns)\n",
    "\n",
    "fig, ax = plt.subplots()\n",
    "forest_importances.plot.bar(ax=ax, fontsize=5)\n",
    "ax.set_title(\"Feature importances using MDI\\nfor winning/losing with Gamma Granger Causality\", fontsize=10)\n",
    "ax.set_ylabel(\"Mean decrease in impurity\", fontsize=10)\n",
    "fig.tight_layout()\n",
    "plt.savefig(\"./proc/network/rf_feature_importance.png\")"
   ]
  },
  {
   "cell_type": "code",
   "execution_count": null,
   "metadata": {},
   "outputs": [],
   "source": []
  }
 ],
 "metadata": {
  "deepnote": {},
  "deepnote_execution_queue": [],
  "deepnote_notebook_id": "cf8fe3695d074ee7887fdf6459cbf5ce",
  "kernelspec": {
   "display_name": "Python 3 (ipykernel)",
   "language": "python",
   "name": "python3"
  },
  "language_info": {
   "codemirror_mode": {
    "name": "ipython",
    "version": 3
   },
   "file_extension": ".py",
   "mimetype": "text/x-python",
   "name": "python",
   "nbconvert_exporter": "python",
   "pygments_lexer": "ipython3",
   "version": "3.10.13"
  }
 },
 "nbformat": 4,
 "nbformat_minor": 4
}
