{
 "cells": [
  {
   "cell_type": "code",
   "execution_count": 1,
   "metadata": {},
   "outputs": [],
   "source": [
    "%matplotlib inline"
   ]
  },
  {
   "cell_type": "markdown",
   "metadata": {},
   "source": [
    "# Preprocessing and Spike Sorting Tutorial"
   ]
  },
  {
   "cell_type": "markdown",
   "metadata": {},
   "source": [
    "# Chapter 1: Importing Recording Data and Metadata"
   ]
  },
  {
   "cell_type": "code",
   "execution_count": 2,
   "metadata": {},
   "outputs": [
    {
     "name": "stderr",
     "output_type": "stream",
     "text": [
      "/tmp/ipykernel_1160310/3524477660.py:6: DeprecationWarning: the imp module is deprecated in favour of importlib; see the module's documentation for alternative uses\n",
      "  import imp\n"
     ]
    }
   ],
   "source": [
    "import os\n",
    "import warnings\n",
    "import glob\n",
    "import pickle\n",
    "import _pickle as cPickle\n",
    "import imp\n",
    "import git"
   ]
  },
  {
   "cell_type": "code",
   "execution_count": 3,
   "metadata": {},
   "outputs": [],
   "source": [
    "os.environ[\"SPECTRAL_CONNECTIVITY_ENABLE_GPU\"] = \"true\""
   ]
  },
  {
   "cell_type": "code",
   "execution_count": 4,
   "metadata": {},
   "outputs": [],
   "source": [
    "from collections import defaultdict\n",
    "import time\n",
    "import json"
   ]
  },
  {
   "cell_type": "code",
   "execution_count": 5,
   "metadata": {},
   "outputs": [],
   "source": [
    "import matplotlib.pyplot as plt\n",
    "from matplotlib.pyplot import cm\n",
    "import numpy as np\n",
    "import pandas as pd\n",
    "import scipy.signal\n",
    "from labellines import labelLine, labelLines\n",
    "import numpy as np\n",
    "from scipy.stats import mannwhitneyu"
   ]
  },
  {
   "cell_type": "code",
   "execution_count": 6,
   "metadata": {},
   "outputs": [],
   "source": [
    "from spectral_connectivity import Multitaper, Connectivity"
   ]
  },
  {
   "cell_type": "code",
   "execution_count": 7,
   "metadata": {},
   "outputs": [],
   "source": [
    "from probeinterface import get_probe\n",
    "from probeinterface.plotting import plot_probe, plot_probe_group\n",
    "from probeinterface import write_prb, read_prb"
   ]
  },
  {
   "cell_type": "code",
   "execution_count": 8,
   "metadata": {},
   "outputs": [
    {
     "data": {
      "text/plain": [
       "<Figure size 640x480 with 0 Axes>"
      ]
     },
     "execution_count": 8,
     "metadata": {},
     "output_type": "execute_result"
    },
    {
     "data": {
      "text/plain": [
       "<Figure size 640x480 with 0 Axes>"
      ]
     },
     "metadata": {},
     "output_type": "display_data"
    }
   ],
   "source": [
    "# Changing the figure size\n",
    "from matplotlib.pyplot import figure\n",
    "figure(figsize=(8, 6), dpi=80)"
   ]
  },
  {
   "cell_type": "markdown",
   "metadata": {},
   "source": [
    "The spikeinterface module by itself import only the spikeinterface.core submodule\n",
    "which is not useful for end user\n",
    "\n"
   ]
  },
  {
   "cell_type": "code",
   "execution_count": 9,
   "metadata": {},
   "outputs": [],
   "source": [
    "import spikeinterface"
   ]
  },
  {
   "cell_type": "markdown",
   "metadata": {},
   "source": [
    "We need to import one by one different submodules separately (preferred).\n",
    "There are 5 modules:\n",
    "\n",
    "- :code:`extractors` : file IO\n",
    "- :code:`toolkit` : processing toolkit for pre-, post-processing, validation, and automatic curation\n",
    "- :code:`sorters` : Python wrappers of spike sorters\n",
    "- :code:`comparison` : comparison of spike sorting output\n",
    "- :code:`widgets` : visualization\n",
    "\n"
   ]
  },
  {
   "cell_type": "code",
   "execution_count": 10,
   "metadata": {},
   "outputs": [],
   "source": [
    "import spikeinterface as si  # import core only\n",
    "import spikeinterface.extractors as se\n",
    "import spikeinterface.sorters as ss\n",
    "import spikeinterface.comparison as sc\n",
    "import spikeinterface.widgets as sw"
   ]
  },
  {
   "cell_type": "code",
   "execution_count": 11,
   "metadata": {},
   "outputs": [],
   "source": [
    "import spikeinterface.core"
   ]
  },
  {
   "cell_type": "markdown",
   "metadata": {},
   "source": [
    "We can also import all submodules at once with this\n",
    "  this internally import core+extractors+toolkit+sorters+comparison+widgets+exporters\n",
    "\n",
    "This is useful for notebooks but this is a more heavy import because internally many more dependency\n",
    "are imported (scipy/sklearn/networkx/matplotlib/h5py...)\n",
    "\n"
   ]
  },
  {
   "cell_type": "code",
   "execution_count": 12,
   "metadata": {},
   "outputs": [],
   "source": [
    "import spikeinterface.full as si"
   ]
  },
  {
   "cell_type": "code",
   "execution_count": 13,
   "metadata": {},
   "outputs": [],
   "source": [
    "# Increase size of plot in jupyter\n",
    "\n",
    "plt.rcParams[\"figure.figsize\"] = (10,6)"
   ]
  },
  {
   "cell_type": "markdown",
   "metadata": {},
   "source": [
    "# Part 1: Importing Data"
   ]
  },
  {
   "cell_type": "markdown",
   "metadata": {},
   "source": [
    "## Loading in the Preprocessed LFP "
   ]
  },
  {
   "cell_type": "markdown",
   "metadata": {},
   "source": [
    "- Getting the root directory of the Github Repo to base the files off of"
   ]
  },
  {
   "cell_type": "code",
   "execution_count": 14,
   "metadata": {},
   "outputs": [],
   "source": [
    "git_repo = git.Repo(\".\", search_parent_directories=True)\n",
    "git_root = git_repo.git.rev_parse(\"--show-toplevel\")"
   ]
  },
  {
   "cell_type": "code",
   "execution_count": 15,
   "metadata": {},
   "outputs": [
    {
     "data": {
      "text/plain": [
       "'/nancy/projects/reward_competition_extention'"
      ]
     },
     "execution_count": 15,
     "metadata": {},
     "output_type": "execute_result"
    }
   ],
   "source": [
    "git_root"
   ]
  },
  {
   "cell_type": "markdown",
   "metadata": {},
   "source": [
    "- Getting a list of all the electrophysiological recording files\n",
    "    - **NOTE**: If your recording file does not end with `.rec` or is in a different directory than `./data` then you must change `glob.glob({./path/to/recording_file.rec})` below. Where you replace `{./path/to/recording_file.rec}` with the path to your recording file without the brackets."
   ]
  },
  {
   "cell_type": "code",
   "execution_count": 16,
   "metadata": {},
   "outputs": [],
   "source": [
    "lfp_preprocessing_filepath_glob = glob.glob(\"./proc/*/lfp_preprocessing\")"
   ]
  },
  {
   "cell_type": "code",
   "execution_count": 17,
   "metadata": {},
   "outputs": [
    {
     "data": {
      "text/plain": [
       "['./proc/20230618_100636_standard_comp_to_omission_D2_subj_1_1_t1b2L_box2_merged/lfp_preprocessing',\n",
       " './proc/20230618_100636_standard_comp_to_omission_D2_subj_1_4_t4b3L_box1_merged/lfp_preprocessing']"
      ]
     },
     "execution_count": 17,
     "metadata": {},
     "output_type": "execute_result"
    }
   ],
   "source": [
    "lfp_preprocessing_filepath_glob"
   ]
  },
  {
   "cell_type": "markdown",
   "metadata": {},
   "source": [
    "## Getting MetaData"
   ]
  },
  {
   "cell_type": "code",
   "execution_count": 18,
   "metadata": {},
   "outputs": [],
   "source": [
    "subj_1_1_brain_region_to_channel = {\"mPFC\": \"20\", \"MD\": \"28\", \"LH\": \"29\", \"BLA\": \"30\", \"vHPC\": \"31\"}\n",
    "subj_1_4_brain_region_to_channel = {\"mPFC\": \"2\", \"MD\": \"28\", \"LH\": \"29\", \"BLA\": \"30\", \"vHPC\": \"31\"}"
   ]
  },
  {
   "cell_type": "code",
   "execution_count": 19,
   "metadata": {},
   "outputs": [],
   "source": [
    "tone_df = pd.read_csv(\"../2023_08_01_tone_timestamp/20230618_100636_standard_comp_to_omission_D2_subj_1-4_and_1-1.tone_times.csv\")"
   ]
  },
  {
   "cell_type": "code",
   "execution_count": 20,
   "metadata": {},
   "outputs": [
    {
     "data": {
      "text/html": [
       "<div>\n",
       "<style scoped>\n",
       "    .dataframe tbody tr th:only-of-type {\n",
       "        vertical-align: middle;\n",
       "    }\n",
       "\n",
       "    .dataframe tbody tr th {\n",
       "        vertical-align: top;\n",
       "    }\n",
       "\n",
       "    .dataframe thead th {\n",
       "        text-align: right;\n",
       "    }\n",
       "</style>\n",
       "<table border=\"1\" class=\"dataframe\">\n",
       "  <thead>\n",
       "    <tr style=\"text-align: right;\">\n",
       "      <th></th>\n",
       "      <th>Unnamed: 0</th>\n",
       "      <th>tone_timestamp</th>\n",
       "      <th>tone_index</th>\n",
       "      <th>rewarded_or_not</th>\n",
       "      <th>competition_winners</th>\n",
       "      <th>condition</th>\n",
       "    </tr>\n",
       "  </thead>\n",
       "  <tbody>\n",
       "    <tr>\n",
       "      <th>0</th>\n",
       "      <td>0</td>\n",
       "      <td>1934930</td>\n",
       "      <td>1099250</td>\n",
       "      <td>rewarded</td>\n",
       "      <td>1.4</td>\n",
       "      <td>1.4</td>\n",
       "    </tr>\n",
       "    <tr>\n",
       "      <th>1</th>\n",
       "      <td>1</td>\n",
       "      <td>4334936</td>\n",
       "      <td>3499256</td>\n",
       "      <td>rewarded</td>\n",
       "      <td>1.1</td>\n",
       "      <td>1.1</td>\n",
       "    </tr>\n",
       "    <tr>\n",
       "      <th>2</th>\n",
       "      <td>2</td>\n",
       "      <td>6634931</td>\n",
       "      <td>5799251</td>\n",
       "      <td>rewarded</td>\n",
       "      <td>1.1</td>\n",
       "      <td>1.1</td>\n",
       "    </tr>\n",
       "    <tr>\n",
       "      <th>3</th>\n",
       "      <td>3</td>\n",
       "      <td>8434930</td>\n",
       "      <td>7599250</td>\n",
       "      <td>rewarded</td>\n",
       "      <td>1.4</td>\n",
       "      <td>1.4</td>\n",
       "    </tr>\n",
       "    <tr>\n",
       "      <th>4</th>\n",
       "      <td>4</td>\n",
       "      <td>9534930</td>\n",
       "      <td>8699250</td>\n",
       "      <td>rewarded</td>\n",
       "      <td>1.1</td>\n",
       "      <td>1.1</td>\n",
       "    </tr>\n",
       "    <tr>\n",
       "      <th>5</th>\n",
       "      <td>5</td>\n",
       "      <td>10534929</td>\n",
       "      <td>9699249</td>\n",
       "      <td>rewarded</td>\n",
       "      <td>1.4</td>\n",
       "      <td>1.4</td>\n",
       "    </tr>\n",
       "    <tr>\n",
       "      <th>6</th>\n",
       "      <td>6</td>\n",
       "      <td>12434926</td>\n",
       "      <td>11599246</td>\n",
       "      <td>rewarded</td>\n",
       "      <td>1.4</td>\n",
       "      <td>1.4</td>\n",
       "    </tr>\n",
       "    <tr>\n",
       "      <th>7</th>\n",
       "      <td>7</td>\n",
       "      <td>13934925</td>\n",
       "      <td>13099245</td>\n",
       "      <td>rewarded</td>\n",
       "      <td>1.4</td>\n",
       "      <td>1.4</td>\n",
       "    </tr>\n",
       "    <tr>\n",
       "      <th>8</th>\n",
       "      <td>8</td>\n",
       "      <td>16034924</td>\n",
       "      <td>15199244</td>\n",
       "      <td>rewarded</td>\n",
       "      <td>1.1</td>\n",
       "      <td>1.1</td>\n",
       "    </tr>\n",
       "    <tr>\n",
       "      <th>9</th>\n",
       "      <td>9</td>\n",
       "      <td>17034926</td>\n",
       "      <td>16199246</td>\n",
       "      <td>rewarded</td>\n",
       "      <td>1.1</td>\n",
       "      <td>1.1</td>\n",
       "    </tr>\n",
       "    <tr>\n",
       "      <th>10</th>\n",
       "      <td>10</td>\n",
       "      <td>18634925</td>\n",
       "      <td>17799245</td>\n",
       "      <td>rewarded</td>\n",
       "      <td>1.1</td>\n",
       "      <td>1.1</td>\n",
       "    </tr>\n",
       "    <tr>\n",
       "      <th>11</th>\n",
       "      <td>11</td>\n",
       "      <td>19934925</td>\n",
       "      <td>19099245</td>\n",
       "      <td>rewarded</td>\n",
       "      <td>1.1</td>\n",
       "      <td>1.1</td>\n",
       "    </tr>\n",
       "    <tr>\n",
       "      <th>12</th>\n",
       "      <td>12</td>\n",
       "      <td>21234922</td>\n",
       "      <td>20399242</td>\n",
       "      <td>rewarded</td>\n",
       "      <td>1.1</td>\n",
       "      <td>1.1</td>\n",
       "    </tr>\n",
       "    <tr>\n",
       "      <th>13</th>\n",
       "      <td>13</td>\n",
       "      <td>22234924</td>\n",
       "      <td>21399244</td>\n",
       "      <td>rewarded</td>\n",
       "      <td>1.1</td>\n",
       "      <td>1.1</td>\n",
       "    </tr>\n",
       "    <tr>\n",
       "      <th>14</th>\n",
       "      <td>14</td>\n",
       "      <td>23634923</td>\n",
       "      <td>22799243</td>\n",
       "      <td>rewarded</td>\n",
       "      <td>1.1</td>\n",
       "      <td>1.1</td>\n",
       "    </tr>\n",
       "    <tr>\n",
       "      <th>15</th>\n",
       "      <td>15</td>\n",
       "      <td>25534923</td>\n",
       "      <td>24699243</td>\n",
       "      <td>rewarded</td>\n",
       "      <td>1.1</td>\n",
       "      <td>1.1</td>\n",
       "    </tr>\n",
       "    <tr>\n",
       "      <th>16</th>\n",
       "      <td>16</td>\n",
       "      <td>27134920</td>\n",
       "      <td>26299240</td>\n",
       "      <td>rewarded</td>\n",
       "      <td>1.1</td>\n",
       "      <td>1.1</td>\n",
       "    </tr>\n",
       "    <tr>\n",
       "      <th>17</th>\n",
       "      <td>17</td>\n",
       "      <td>28534922</td>\n",
       "      <td>27699242</td>\n",
       "      <td>rewarded</td>\n",
       "      <td>1.1</td>\n",
       "      <td>1.1</td>\n",
       "    </tr>\n",
       "    <tr>\n",
       "      <th>18</th>\n",
       "      <td>18</td>\n",
       "      <td>30734921</td>\n",
       "      <td>29899241</td>\n",
       "      <td>rewarded</td>\n",
       "      <td>1.1</td>\n",
       "      <td>1.1</td>\n",
       "    </tr>\n",
       "    <tr>\n",
       "      <th>19</th>\n",
       "      <td>19</td>\n",
       "      <td>31934918</td>\n",
       "      <td>31099238</td>\n",
       "      <td>rewarded</td>\n",
       "      <td>1.4</td>\n",
       "      <td>1.4</td>\n",
       "    </tr>\n",
       "    <tr>\n",
       "      <th>20</th>\n",
       "      <td>20</td>\n",
       "      <td>37934919</td>\n",
       "      <td>37099239</td>\n",
       "      <td>rewarded</td>\n",
       "      <td>0.0</td>\n",
       "      <td>rewarded</td>\n",
       "    </tr>\n",
       "    <tr>\n",
       "      <th>21</th>\n",
       "      <td>21</td>\n",
       "      <td>39134916</td>\n",
       "      <td>38299236</td>\n",
       "      <td>rewarded</td>\n",
       "      <td>0.0</td>\n",
       "      <td>rewarded</td>\n",
       "    </tr>\n",
       "    <tr>\n",
       "      <th>22</th>\n",
       "      <td>22</td>\n",
       "      <td>40234916</td>\n",
       "      <td>39399236</td>\n",
       "      <td>rewarded</td>\n",
       "      <td>0.0</td>\n",
       "      <td>rewarded</td>\n",
       "    </tr>\n",
       "    <tr>\n",
       "      <th>23</th>\n",
       "      <td>23</td>\n",
       "      <td>41534918</td>\n",
       "      <td>40699238</td>\n",
       "      <td>rewarded</td>\n",
       "      <td>0.0</td>\n",
       "      <td>rewarded</td>\n",
       "    </tr>\n",
       "    <tr>\n",
       "      <th>24</th>\n",
       "      <td>24</td>\n",
       "      <td>42634918</td>\n",
       "      <td>41799238</td>\n",
       "      <td>rewarded</td>\n",
       "      <td>0.0</td>\n",
       "      <td>rewarded</td>\n",
       "    </tr>\n",
       "    <tr>\n",
       "      <th>25</th>\n",
       "      <td>25</td>\n",
       "      <td>43634915</td>\n",
       "      <td>42799235</td>\n",
       "      <td>rewarded</td>\n",
       "      <td>0.0</td>\n",
       "      <td>rewarded</td>\n",
       "    </tr>\n",
       "    <tr>\n",
       "      <th>26</th>\n",
       "      <td>26</td>\n",
       "      <td>44634917</td>\n",
       "      <td>43799237</td>\n",
       "      <td>rewarded</td>\n",
       "      <td>0.0</td>\n",
       "      <td>rewarded</td>\n",
       "    </tr>\n",
       "    <tr>\n",
       "      <th>27</th>\n",
       "      <td>27</td>\n",
       "      <td>46734914</td>\n",
       "      <td>45899234</td>\n",
       "      <td>omission</td>\n",
       "      <td>0.0</td>\n",
       "      <td>omission</td>\n",
       "    </tr>\n",
       "    <tr>\n",
       "      <th>28</th>\n",
       "      <td>28</td>\n",
       "      <td>49134915</td>\n",
       "      <td>48299235</td>\n",
       "      <td>rewarded</td>\n",
       "      <td>0.0</td>\n",
       "      <td>rewarded</td>\n",
       "    </tr>\n",
       "    <tr>\n",
       "      <th>29</th>\n",
       "      <td>29</td>\n",
       "      <td>51534912</td>\n",
       "      <td>50699232</td>\n",
       "      <td>rewarded</td>\n",
       "      <td>0.0</td>\n",
       "      <td>rewarded</td>\n",
       "    </tr>\n",
       "    <tr>\n",
       "      <th>30</th>\n",
       "      <td>30</td>\n",
       "      <td>53734914</td>\n",
       "      <td>52899234</td>\n",
       "      <td>rewarded</td>\n",
       "      <td>0.0</td>\n",
       "      <td>rewarded</td>\n",
       "    </tr>\n",
       "    <tr>\n",
       "      <th>31</th>\n",
       "      <td>31</td>\n",
       "      <td>55434913</td>\n",
       "      <td>54599233</td>\n",
       "      <td>rewarded</td>\n",
       "      <td>0.0</td>\n",
       "      <td>rewarded</td>\n",
       "    </tr>\n",
       "    <tr>\n",
       "      <th>32</th>\n",
       "      <td>32</td>\n",
       "      <td>57834912</td>\n",
       "      <td>56999232</td>\n",
       "      <td>rewarded</td>\n",
       "      <td>0.0</td>\n",
       "      <td>rewarded</td>\n",
       "    </tr>\n",
       "    <tr>\n",
       "      <th>33</th>\n",
       "      <td>33</td>\n",
       "      <td>59034912</td>\n",
       "      <td>58199232</td>\n",
       "      <td>omission</td>\n",
       "      <td>0.0</td>\n",
       "      <td>omission</td>\n",
       "    </tr>\n",
       "    <tr>\n",
       "      <th>34</th>\n",
       "      <td>34</td>\n",
       "      <td>60334909</td>\n",
       "      <td>59499229</td>\n",
       "      <td>rewarded</td>\n",
       "      <td>0.0</td>\n",
       "      <td>rewarded</td>\n",
       "    </tr>\n",
       "    <tr>\n",
       "      <th>35</th>\n",
       "      <td>35</td>\n",
       "      <td>61534911</td>\n",
       "      <td>60699231</td>\n",
       "      <td>rewarded</td>\n",
       "      <td>0.0</td>\n",
       "      <td>rewarded</td>\n",
       "    </tr>\n",
       "    <tr>\n",
       "      <th>36</th>\n",
       "      <td>36</td>\n",
       "      <td>63034911</td>\n",
       "      <td>62199231</td>\n",
       "      <td>rewarded</td>\n",
       "      <td>0.0</td>\n",
       "      <td>rewarded</td>\n",
       "    </tr>\n",
       "    <tr>\n",
       "      <th>37</th>\n",
       "      <td>37</td>\n",
       "      <td>65034907</td>\n",
       "      <td>64199227</td>\n",
       "      <td>omission</td>\n",
       "      <td>0.0</td>\n",
       "      <td>omission</td>\n",
       "    </tr>\n",
       "  </tbody>\n",
       "</table>\n",
       "</div>"
      ],
      "text/plain": [
       "    Unnamed: 0  tone_timestamp  tone_index rewarded_or_not  \\\n",
       "0            0         1934930     1099250        rewarded   \n",
       "1            1         4334936     3499256        rewarded   \n",
       "2            2         6634931     5799251        rewarded   \n",
       "3            3         8434930     7599250        rewarded   \n",
       "4            4         9534930     8699250        rewarded   \n",
       "5            5        10534929     9699249        rewarded   \n",
       "6            6        12434926    11599246        rewarded   \n",
       "7            7        13934925    13099245        rewarded   \n",
       "8            8        16034924    15199244        rewarded   \n",
       "9            9        17034926    16199246        rewarded   \n",
       "10          10        18634925    17799245        rewarded   \n",
       "11          11        19934925    19099245        rewarded   \n",
       "12          12        21234922    20399242        rewarded   \n",
       "13          13        22234924    21399244        rewarded   \n",
       "14          14        23634923    22799243        rewarded   \n",
       "15          15        25534923    24699243        rewarded   \n",
       "16          16        27134920    26299240        rewarded   \n",
       "17          17        28534922    27699242        rewarded   \n",
       "18          18        30734921    29899241        rewarded   \n",
       "19          19        31934918    31099238        rewarded   \n",
       "20          20        37934919    37099239        rewarded   \n",
       "21          21        39134916    38299236        rewarded   \n",
       "22          22        40234916    39399236        rewarded   \n",
       "23          23        41534918    40699238        rewarded   \n",
       "24          24        42634918    41799238        rewarded   \n",
       "25          25        43634915    42799235        rewarded   \n",
       "26          26        44634917    43799237        rewarded   \n",
       "27          27        46734914    45899234        omission   \n",
       "28          28        49134915    48299235        rewarded   \n",
       "29          29        51534912    50699232        rewarded   \n",
       "30          30        53734914    52899234        rewarded   \n",
       "31          31        55434913    54599233        rewarded   \n",
       "32          32        57834912    56999232        rewarded   \n",
       "33          33        59034912    58199232        omission   \n",
       "34          34        60334909    59499229        rewarded   \n",
       "35          35        61534911    60699231        rewarded   \n",
       "36          36        63034911    62199231        rewarded   \n",
       "37          37        65034907    64199227        omission   \n",
       "\n",
       "    competition_winners condition  \n",
       "0                   1.4       1.4  \n",
       "1                   1.1       1.1  \n",
       "2                   1.1       1.1  \n",
       "3                   1.4       1.4  \n",
       "4                   1.1       1.1  \n",
       "5                   1.4       1.4  \n",
       "6                   1.4       1.4  \n",
       "7                   1.4       1.4  \n",
       "8                   1.1       1.1  \n",
       "9                   1.1       1.1  \n",
       "10                  1.1       1.1  \n",
       "11                  1.1       1.1  \n",
       "12                  1.1       1.1  \n",
       "13                  1.1       1.1  \n",
       "14                  1.1       1.1  \n",
       "15                  1.1       1.1  \n",
       "16                  1.1       1.1  \n",
       "17                  1.1       1.1  \n",
       "18                  1.1       1.1  \n",
       "19                  1.4       1.4  \n",
       "20                  0.0  rewarded  \n",
       "21                  0.0  rewarded  \n",
       "22                  0.0  rewarded  \n",
       "23                  0.0  rewarded  \n",
       "24                  0.0  rewarded  \n",
       "25                  0.0  rewarded  \n",
       "26                  0.0  rewarded  \n",
       "27                  0.0  omission  \n",
       "28                  0.0  rewarded  \n",
       "29                  0.0  rewarded  \n",
       "30                  0.0  rewarded  \n",
       "31                  0.0  rewarded  \n",
       "32                  0.0  rewarded  \n",
       "33                  0.0  omission  \n",
       "34                  0.0  rewarded  \n",
       "35                  0.0  rewarded  \n",
       "36                  0.0  rewarded  \n",
       "37                  0.0  omission  "
      ]
     },
     "execution_count": 20,
     "metadata": {},
     "output_type": "execute_result"
    }
   ],
   "source": [
    "tone_df"
   ]
  },
  {
   "cell_type": "code",
   "execution_count": 21,
   "metadata": {},
   "outputs": [],
   "source": [
    "tone_df[\"lfp_index\"] = tone_df[\"tone_index\"] // 20"
   ]
  },
  {
   "cell_type": "markdown",
   "metadata": {},
   "source": [
    "## Getting LFP Traces"
   ]
  },
  {
   "cell_type": "code",
   "execution_count": 22,
   "metadata": {},
   "outputs": [],
   "source": [
    "subj_1_1_raw = se.read_spikegadgets(\"/scratch/back_up/reward_competition_extention/data/omission/2023_06_18/20230618_100636_standard_comp_to_omission_D2_subj_1-4_and_1-1.rec/20230618_100636_standard_comp_to_omission_D2_subj_1_1_t1b2L_box2_merged.rec\", stream_id=\"trodes\")\n",
    "subj_1_4_raw = se.read_spikegadgets(\"/scratch/back_up/reward_competition_extention/data/omission/2023_06_18/20230618_100636_standard_comp_to_omission_D2_subj_1-4_and_1-1.rec/20230618_100636_standard_comp_to_omission_D2_subj_1_4_t4b3L_box1_merged.rec\", stream_id=\"trodes\")"
   ]
  },
  {
   "cell_type": "code",
   "execution_count": 23,
   "metadata": {},
   "outputs": [
    {
     "data": {
      "text/plain": [
       "SpikeGadgetsRecordingExtractor: 32 channels - 1 segments - 20.0kHz - 3280.151s\n",
       "  file_path: /scratch/back_up/reward_competition_extention/data/omission/2023_06_18/20230618_100636_standard_comp_to_omission_D2_subj_1-4_and_1-1.rec/20230618_100636_standard_comp_to_omission_D2_subj_1_1_t1b2L_box2_merged.rec"
      ]
     },
     "execution_count": 23,
     "metadata": {},
     "output_type": "execute_result"
    }
   ],
   "source": [
    "subj_1_1_raw"
   ]
  },
  {
   "cell_type": "code",
   "execution_count": 24,
   "metadata": {},
   "outputs": [],
   "source": [
    "subj_1_1_lfp = spikeinterface.preprocessing.bandpass_filter(subj_1_1_raw, freq_min=0.5, freq_max=300)\n",
    "subj_1_4_lfp = spikeinterface.preprocessing.bandpass_filter(subj_1_4_raw, freq_min=0.5, freq_max=300)"
   ]
  },
  {
   "cell_type": "code",
   "execution_count": 25,
   "metadata": {},
   "outputs": [],
   "source": [
    "subj_1_1_lfp = spikeinterface.preprocessing.notch_filter(subj_1_1_lfp, freq=60)\n",
    "subj_1_4_lfp = spikeinterface.preprocessing.notch_filter(subj_1_4_lfp, freq=60)\n"
   ]
  },
  {
   "cell_type": "code",
   "execution_count": 26,
   "metadata": {},
   "outputs": [],
   "source": [
    "resampled_frequency = 1000"
   ]
  },
  {
   "cell_type": "code",
   "execution_count": 27,
   "metadata": {},
   "outputs": [],
   "source": [
    "subj_1_1_lfp = spikeinterface.preprocessing.resample(subj_1_1_lfp, resample_rate=1000)\n",
    "subj_1_4_lfp = spikeinterface.preprocessing.resample(subj_1_4_lfp, resample_rate=1000)\n"
   ]
  },
  {
   "cell_type": "markdown",
   "metadata": {},
   "source": [
    "# Power Calculation"
   ]
  },
  {
   "cell_type": "code",
   "execution_count": 28,
   "metadata": {},
   "outputs": [],
   "source": [
    "tone_df[\"subj_1_1_condition\"] = tone_df[\"condition\"].apply(lambda x: \"win\" if x == \"1.1\" else (\"lose\" if x == \"1.4\" else x))\n",
    "tone_df[\"subj_1_4_condition\"] = tone_df[\"condition\"].apply(lambda x: \"win\" if x == \"1.4\" else (\"lose\" if x == \"1.1\" else x))"
   ]
  },
  {
   "cell_type": "code",
   "execution_count": 29,
   "metadata": {},
   "outputs": [
    {
     "data": {
      "text/html": [
       "<div>\n",
       "<style scoped>\n",
       "    .dataframe tbody tr th:only-of-type {\n",
       "        vertical-align: middle;\n",
       "    }\n",
       "\n",
       "    .dataframe tbody tr th {\n",
       "        vertical-align: top;\n",
       "    }\n",
       "\n",
       "    .dataframe thead th {\n",
       "        text-align: right;\n",
       "    }\n",
       "</style>\n",
       "<table border=\"1\" class=\"dataframe\">\n",
       "  <thead>\n",
       "    <tr style=\"text-align: right;\">\n",
       "      <th></th>\n",
       "      <th>Unnamed: 0</th>\n",
       "      <th>tone_timestamp</th>\n",
       "      <th>tone_index</th>\n",
       "      <th>rewarded_or_not</th>\n",
       "      <th>competition_winners</th>\n",
       "      <th>condition</th>\n",
       "      <th>lfp_index</th>\n",
       "      <th>subj_1_1_condition</th>\n",
       "      <th>subj_1_4_condition</th>\n",
       "    </tr>\n",
       "  </thead>\n",
       "  <tbody>\n",
       "    <tr>\n",
       "      <th>0</th>\n",
       "      <td>0</td>\n",
       "      <td>1934930</td>\n",
       "      <td>1099250</td>\n",
       "      <td>rewarded</td>\n",
       "      <td>1.4</td>\n",
       "      <td>1.4</td>\n",
       "      <td>54962</td>\n",
       "      <td>lose</td>\n",
       "      <td>win</td>\n",
       "    </tr>\n",
       "    <tr>\n",
       "      <th>1</th>\n",
       "      <td>1</td>\n",
       "      <td>4334936</td>\n",
       "      <td>3499256</td>\n",
       "      <td>rewarded</td>\n",
       "      <td>1.1</td>\n",
       "      <td>1.1</td>\n",
       "      <td>174962</td>\n",
       "      <td>win</td>\n",
       "      <td>lose</td>\n",
       "    </tr>\n",
       "    <tr>\n",
       "      <th>2</th>\n",
       "      <td>2</td>\n",
       "      <td>6634931</td>\n",
       "      <td>5799251</td>\n",
       "      <td>rewarded</td>\n",
       "      <td>1.1</td>\n",
       "      <td>1.1</td>\n",
       "      <td>289962</td>\n",
       "      <td>win</td>\n",
       "      <td>lose</td>\n",
       "    </tr>\n",
       "    <tr>\n",
       "      <th>3</th>\n",
       "      <td>3</td>\n",
       "      <td>8434930</td>\n",
       "      <td>7599250</td>\n",
       "      <td>rewarded</td>\n",
       "      <td>1.4</td>\n",
       "      <td>1.4</td>\n",
       "      <td>379962</td>\n",
       "      <td>lose</td>\n",
       "      <td>win</td>\n",
       "    </tr>\n",
       "    <tr>\n",
       "      <th>4</th>\n",
       "      <td>4</td>\n",
       "      <td>9534930</td>\n",
       "      <td>8699250</td>\n",
       "      <td>rewarded</td>\n",
       "      <td>1.1</td>\n",
       "      <td>1.1</td>\n",
       "      <td>434962</td>\n",
       "      <td>win</td>\n",
       "      <td>lose</td>\n",
       "    </tr>\n",
       "    <tr>\n",
       "      <th>5</th>\n",
       "      <td>5</td>\n",
       "      <td>10534929</td>\n",
       "      <td>9699249</td>\n",
       "      <td>rewarded</td>\n",
       "      <td>1.4</td>\n",
       "      <td>1.4</td>\n",
       "      <td>484962</td>\n",
       "      <td>lose</td>\n",
       "      <td>win</td>\n",
       "    </tr>\n",
       "    <tr>\n",
       "      <th>6</th>\n",
       "      <td>6</td>\n",
       "      <td>12434926</td>\n",
       "      <td>11599246</td>\n",
       "      <td>rewarded</td>\n",
       "      <td>1.4</td>\n",
       "      <td>1.4</td>\n",
       "      <td>579962</td>\n",
       "      <td>lose</td>\n",
       "      <td>win</td>\n",
       "    </tr>\n",
       "    <tr>\n",
       "      <th>7</th>\n",
       "      <td>7</td>\n",
       "      <td>13934925</td>\n",
       "      <td>13099245</td>\n",
       "      <td>rewarded</td>\n",
       "      <td>1.4</td>\n",
       "      <td>1.4</td>\n",
       "      <td>654962</td>\n",
       "      <td>lose</td>\n",
       "      <td>win</td>\n",
       "    </tr>\n",
       "    <tr>\n",
       "      <th>8</th>\n",
       "      <td>8</td>\n",
       "      <td>16034924</td>\n",
       "      <td>15199244</td>\n",
       "      <td>rewarded</td>\n",
       "      <td>1.1</td>\n",
       "      <td>1.1</td>\n",
       "      <td>759962</td>\n",
       "      <td>win</td>\n",
       "      <td>lose</td>\n",
       "    </tr>\n",
       "    <tr>\n",
       "      <th>9</th>\n",
       "      <td>9</td>\n",
       "      <td>17034926</td>\n",
       "      <td>16199246</td>\n",
       "      <td>rewarded</td>\n",
       "      <td>1.1</td>\n",
       "      <td>1.1</td>\n",
       "      <td>809962</td>\n",
       "      <td>win</td>\n",
       "      <td>lose</td>\n",
       "    </tr>\n",
       "    <tr>\n",
       "      <th>10</th>\n",
       "      <td>10</td>\n",
       "      <td>18634925</td>\n",
       "      <td>17799245</td>\n",
       "      <td>rewarded</td>\n",
       "      <td>1.1</td>\n",
       "      <td>1.1</td>\n",
       "      <td>889962</td>\n",
       "      <td>win</td>\n",
       "      <td>lose</td>\n",
       "    </tr>\n",
       "    <tr>\n",
       "      <th>11</th>\n",
       "      <td>11</td>\n",
       "      <td>19934925</td>\n",
       "      <td>19099245</td>\n",
       "      <td>rewarded</td>\n",
       "      <td>1.1</td>\n",
       "      <td>1.1</td>\n",
       "      <td>954962</td>\n",
       "      <td>win</td>\n",
       "      <td>lose</td>\n",
       "    </tr>\n",
       "    <tr>\n",
       "      <th>12</th>\n",
       "      <td>12</td>\n",
       "      <td>21234922</td>\n",
       "      <td>20399242</td>\n",
       "      <td>rewarded</td>\n",
       "      <td>1.1</td>\n",
       "      <td>1.1</td>\n",
       "      <td>1019962</td>\n",
       "      <td>win</td>\n",
       "      <td>lose</td>\n",
       "    </tr>\n",
       "    <tr>\n",
       "      <th>13</th>\n",
       "      <td>13</td>\n",
       "      <td>22234924</td>\n",
       "      <td>21399244</td>\n",
       "      <td>rewarded</td>\n",
       "      <td>1.1</td>\n",
       "      <td>1.1</td>\n",
       "      <td>1069962</td>\n",
       "      <td>win</td>\n",
       "      <td>lose</td>\n",
       "    </tr>\n",
       "    <tr>\n",
       "      <th>14</th>\n",
       "      <td>14</td>\n",
       "      <td>23634923</td>\n",
       "      <td>22799243</td>\n",
       "      <td>rewarded</td>\n",
       "      <td>1.1</td>\n",
       "      <td>1.1</td>\n",
       "      <td>1139962</td>\n",
       "      <td>win</td>\n",
       "      <td>lose</td>\n",
       "    </tr>\n",
       "    <tr>\n",
       "      <th>15</th>\n",
       "      <td>15</td>\n",
       "      <td>25534923</td>\n",
       "      <td>24699243</td>\n",
       "      <td>rewarded</td>\n",
       "      <td>1.1</td>\n",
       "      <td>1.1</td>\n",
       "      <td>1234962</td>\n",
       "      <td>win</td>\n",
       "      <td>lose</td>\n",
       "    </tr>\n",
       "    <tr>\n",
       "      <th>16</th>\n",
       "      <td>16</td>\n",
       "      <td>27134920</td>\n",
       "      <td>26299240</td>\n",
       "      <td>rewarded</td>\n",
       "      <td>1.1</td>\n",
       "      <td>1.1</td>\n",
       "      <td>1314962</td>\n",
       "      <td>win</td>\n",
       "      <td>lose</td>\n",
       "    </tr>\n",
       "    <tr>\n",
       "      <th>17</th>\n",
       "      <td>17</td>\n",
       "      <td>28534922</td>\n",
       "      <td>27699242</td>\n",
       "      <td>rewarded</td>\n",
       "      <td>1.1</td>\n",
       "      <td>1.1</td>\n",
       "      <td>1384962</td>\n",
       "      <td>win</td>\n",
       "      <td>lose</td>\n",
       "    </tr>\n",
       "    <tr>\n",
       "      <th>18</th>\n",
       "      <td>18</td>\n",
       "      <td>30734921</td>\n",
       "      <td>29899241</td>\n",
       "      <td>rewarded</td>\n",
       "      <td>1.1</td>\n",
       "      <td>1.1</td>\n",
       "      <td>1494962</td>\n",
       "      <td>win</td>\n",
       "      <td>lose</td>\n",
       "    </tr>\n",
       "    <tr>\n",
       "      <th>19</th>\n",
       "      <td>19</td>\n",
       "      <td>31934918</td>\n",
       "      <td>31099238</td>\n",
       "      <td>rewarded</td>\n",
       "      <td>1.4</td>\n",
       "      <td>1.4</td>\n",
       "      <td>1554961</td>\n",
       "      <td>lose</td>\n",
       "      <td>win</td>\n",
       "    </tr>\n",
       "    <tr>\n",
       "      <th>20</th>\n",
       "      <td>20</td>\n",
       "      <td>37934919</td>\n",
       "      <td>37099239</td>\n",
       "      <td>rewarded</td>\n",
       "      <td>0.0</td>\n",
       "      <td>rewarded</td>\n",
       "      <td>1854961</td>\n",
       "      <td>rewarded</td>\n",
       "      <td>rewarded</td>\n",
       "    </tr>\n",
       "    <tr>\n",
       "      <th>21</th>\n",
       "      <td>21</td>\n",
       "      <td>39134916</td>\n",
       "      <td>38299236</td>\n",
       "      <td>rewarded</td>\n",
       "      <td>0.0</td>\n",
       "      <td>rewarded</td>\n",
       "      <td>1914961</td>\n",
       "      <td>rewarded</td>\n",
       "      <td>rewarded</td>\n",
       "    </tr>\n",
       "    <tr>\n",
       "      <th>22</th>\n",
       "      <td>22</td>\n",
       "      <td>40234916</td>\n",
       "      <td>39399236</td>\n",
       "      <td>rewarded</td>\n",
       "      <td>0.0</td>\n",
       "      <td>rewarded</td>\n",
       "      <td>1969961</td>\n",
       "      <td>rewarded</td>\n",
       "      <td>rewarded</td>\n",
       "    </tr>\n",
       "    <tr>\n",
       "      <th>23</th>\n",
       "      <td>23</td>\n",
       "      <td>41534918</td>\n",
       "      <td>40699238</td>\n",
       "      <td>rewarded</td>\n",
       "      <td>0.0</td>\n",
       "      <td>rewarded</td>\n",
       "      <td>2034961</td>\n",
       "      <td>rewarded</td>\n",
       "      <td>rewarded</td>\n",
       "    </tr>\n",
       "    <tr>\n",
       "      <th>24</th>\n",
       "      <td>24</td>\n",
       "      <td>42634918</td>\n",
       "      <td>41799238</td>\n",
       "      <td>rewarded</td>\n",
       "      <td>0.0</td>\n",
       "      <td>rewarded</td>\n",
       "      <td>2089961</td>\n",
       "      <td>rewarded</td>\n",
       "      <td>rewarded</td>\n",
       "    </tr>\n",
       "    <tr>\n",
       "      <th>25</th>\n",
       "      <td>25</td>\n",
       "      <td>43634915</td>\n",
       "      <td>42799235</td>\n",
       "      <td>rewarded</td>\n",
       "      <td>0.0</td>\n",
       "      <td>rewarded</td>\n",
       "      <td>2139961</td>\n",
       "      <td>rewarded</td>\n",
       "      <td>rewarded</td>\n",
       "    </tr>\n",
       "    <tr>\n",
       "      <th>26</th>\n",
       "      <td>26</td>\n",
       "      <td>44634917</td>\n",
       "      <td>43799237</td>\n",
       "      <td>rewarded</td>\n",
       "      <td>0.0</td>\n",
       "      <td>rewarded</td>\n",
       "      <td>2189961</td>\n",
       "      <td>rewarded</td>\n",
       "      <td>rewarded</td>\n",
       "    </tr>\n",
       "    <tr>\n",
       "      <th>27</th>\n",
       "      <td>27</td>\n",
       "      <td>46734914</td>\n",
       "      <td>45899234</td>\n",
       "      <td>omission</td>\n",
       "      <td>0.0</td>\n",
       "      <td>omission</td>\n",
       "      <td>2294961</td>\n",
       "      <td>omission</td>\n",
       "      <td>omission</td>\n",
       "    </tr>\n",
       "    <tr>\n",
       "      <th>28</th>\n",
       "      <td>28</td>\n",
       "      <td>49134915</td>\n",
       "      <td>48299235</td>\n",
       "      <td>rewarded</td>\n",
       "      <td>0.0</td>\n",
       "      <td>rewarded</td>\n",
       "      <td>2414961</td>\n",
       "      <td>rewarded</td>\n",
       "      <td>rewarded</td>\n",
       "    </tr>\n",
       "    <tr>\n",
       "      <th>29</th>\n",
       "      <td>29</td>\n",
       "      <td>51534912</td>\n",
       "      <td>50699232</td>\n",
       "      <td>rewarded</td>\n",
       "      <td>0.0</td>\n",
       "      <td>rewarded</td>\n",
       "      <td>2534961</td>\n",
       "      <td>rewarded</td>\n",
       "      <td>rewarded</td>\n",
       "    </tr>\n",
       "    <tr>\n",
       "      <th>30</th>\n",
       "      <td>30</td>\n",
       "      <td>53734914</td>\n",
       "      <td>52899234</td>\n",
       "      <td>rewarded</td>\n",
       "      <td>0.0</td>\n",
       "      <td>rewarded</td>\n",
       "      <td>2644961</td>\n",
       "      <td>rewarded</td>\n",
       "      <td>rewarded</td>\n",
       "    </tr>\n",
       "    <tr>\n",
       "      <th>31</th>\n",
       "      <td>31</td>\n",
       "      <td>55434913</td>\n",
       "      <td>54599233</td>\n",
       "      <td>rewarded</td>\n",
       "      <td>0.0</td>\n",
       "      <td>rewarded</td>\n",
       "      <td>2729961</td>\n",
       "      <td>rewarded</td>\n",
       "      <td>rewarded</td>\n",
       "    </tr>\n",
       "    <tr>\n",
       "      <th>32</th>\n",
       "      <td>32</td>\n",
       "      <td>57834912</td>\n",
       "      <td>56999232</td>\n",
       "      <td>rewarded</td>\n",
       "      <td>0.0</td>\n",
       "      <td>rewarded</td>\n",
       "      <td>2849961</td>\n",
       "      <td>rewarded</td>\n",
       "      <td>rewarded</td>\n",
       "    </tr>\n",
       "    <tr>\n",
       "      <th>33</th>\n",
       "      <td>33</td>\n",
       "      <td>59034912</td>\n",
       "      <td>58199232</td>\n",
       "      <td>omission</td>\n",
       "      <td>0.0</td>\n",
       "      <td>omission</td>\n",
       "      <td>2909961</td>\n",
       "      <td>omission</td>\n",
       "      <td>omission</td>\n",
       "    </tr>\n",
       "    <tr>\n",
       "      <th>34</th>\n",
       "      <td>34</td>\n",
       "      <td>60334909</td>\n",
       "      <td>59499229</td>\n",
       "      <td>rewarded</td>\n",
       "      <td>0.0</td>\n",
       "      <td>rewarded</td>\n",
       "      <td>2974961</td>\n",
       "      <td>rewarded</td>\n",
       "      <td>rewarded</td>\n",
       "    </tr>\n",
       "    <tr>\n",
       "      <th>35</th>\n",
       "      <td>35</td>\n",
       "      <td>61534911</td>\n",
       "      <td>60699231</td>\n",
       "      <td>rewarded</td>\n",
       "      <td>0.0</td>\n",
       "      <td>rewarded</td>\n",
       "      <td>3034961</td>\n",
       "      <td>rewarded</td>\n",
       "      <td>rewarded</td>\n",
       "    </tr>\n",
       "    <tr>\n",
       "      <th>36</th>\n",
       "      <td>36</td>\n",
       "      <td>63034911</td>\n",
       "      <td>62199231</td>\n",
       "      <td>rewarded</td>\n",
       "      <td>0.0</td>\n",
       "      <td>rewarded</td>\n",
       "      <td>3109961</td>\n",
       "      <td>rewarded</td>\n",
       "      <td>rewarded</td>\n",
       "    </tr>\n",
       "    <tr>\n",
       "      <th>37</th>\n",
       "      <td>37</td>\n",
       "      <td>65034907</td>\n",
       "      <td>64199227</td>\n",
       "      <td>omission</td>\n",
       "      <td>0.0</td>\n",
       "      <td>omission</td>\n",
       "      <td>3209961</td>\n",
       "      <td>omission</td>\n",
       "      <td>omission</td>\n",
       "    </tr>\n",
       "  </tbody>\n",
       "</table>\n",
       "</div>"
      ],
      "text/plain": [
       "    Unnamed: 0  tone_timestamp  tone_index rewarded_or_not  \\\n",
       "0            0         1934930     1099250        rewarded   \n",
       "1            1         4334936     3499256        rewarded   \n",
       "2            2         6634931     5799251        rewarded   \n",
       "3            3         8434930     7599250        rewarded   \n",
       "4            4         9534930     8699250        rewarded   \n",
       "5            5        10534929     9699249        rewarded   \n",
       "6            6        12434926    11599246        rewarded   \n",
       "7            7        13934925    13099245        rewarded   \n",
       "8            8        16034924    15199244        rewarded   \n",
       "9            9        17034926    16199246        rewarded   \n",
       "10          10        18634925    17799245        rewarded   \n",
       "11          11        19934925    19099245        rewarded   \n",
       "12          12        21234922    20399242        rewarded   \n",
       "13          13        22234924    21399244        rewarded   \n",
       "14          14        23634923    22799243        rewarded   \n",
       "15          15        25534923    24699243        rewarded   \n",
       "16          16        27134920    26299240        rewarded   \n",
       "17          17        28534922    27699242        rewarded   \n",
       "18          18        30734921    29899241        rewarded   \n",
       "19          19        31934918    31099238        rewarded   \n",
       "20          20        37934919    37099239        rewarded   \n",
       "21          21        39134916    38299236        rewarded   \n",
       "22          22        40234916    39399236        rewarded   \n",
       "23          23        41534918    40699238        rewarded   \n",
       "24          24        42634918    41799238        rewarded   \n",
       "25          25        43634915    42799235        rewarded   \n",
       "26          26        44634917    43799237        rewarded   \n",
       "27          27        46734914    45899234        omission   \n",
       "28          28        49134915    48299235        rewarded   \n",
       "29          29        51534912    50699232        rewarded   \n",
       "30          30        53734914    52899234        rewarded   \n",
       "31          31        55434913    54599233        rewarded   \n",
       "32          32        57834912    56999232        rewarded   \n",
       "33          33        59034912    58199232        omission   \n",
       "34          34        60334909    59499229        rewarded   \n",
       "35          35        61534911    60699231        rewarded   \n",
       "36          36        63034911    62199231        rewarded   \n",
       "37          37        65034907    64199227        omission   \n",
       "\n",
       "    competition_winners condition  lfp_index subj_1_1_condition  \\\n",
       "0                   1.4       1.4      54962               lose   \n",
       "1                   1.1       1.1     174962                win   \n",
       "2                   1.1       1.1     289962                win   \n",
       "3                   1.4       1.4     379962               lose   \n",
       "4                   1.1       1.1     434962                win   \n",
       "5                   1.4       1.4     484962               lose   \n",
       "6                   1.4       1.4     579962               lose   \n",
       "7                   1.4       1.4     654962               lose   \n",
       "8                   1.1       1.1     759962                win   \n",
       "9                   1.1       1.1     809962                win   \n",
       "10                  1.1       1.1     889962                win   \n",
       "11                  1.1       1.1     954962                win   \n",
       "12                  1.1       1.1    1019962                win   \n",
       "13                  1.1       1.1    1069962                win   \n",
       "14                  1.1       1.1    1139962                win   \n",
       "15                  1.1       1.1    1234962                win   \n",
       "16                  1.1       1.1    1314962                win   \n",
       "17                  1.1       1.1    1384962                win   \n",
       "18                  1.1       1.1    1494962                win   \n",
       "19                  1.4       1.4    1554961               lose   \n",
       "20                  0.0  rewarded    1854961           rewarded   \n",
       "21                  0.0  rewarded    1914961           rewarded   \n",
       "22                  0.0  rewarded    1969961           rewarded   \n",
       "23                  0.0  rewarded    2034961           rewarded   \n",
       "24                  0.0  rewarded    2089961           rewarded   \n",
       "25                  0.0  rewarded    2139961           rewarded   \n",
       "26                  0.0  rewarded    2189961           rewarded   \n",
       "27                  0.0  omission    2294961           omission   \n",
       "28                  0.0  rewarded    2414961           rewarded   \n",
       "29                  0.0  rewarded    2534961           rewarded   \n",
       "30                  0.0  rewarded    2644961           rewarded   \n",
       "31                  0.0  rewarded    2729961           rewarded   \n",
       "32                  0.0  rewarded    2849961           rewarded   \n",
       "33                  0.0  omission    2909961           omission   \n",
       "34                  0.0  rewarded    2974961           rewarded   \n",
       "35                  0.0  rewarded    3034961           rewarded   \n",
       "36                  0.0  rewarded    3109961           rewarded   \n",
       "37                  0.0  omission    3209961           omission   \n",
       "\n",
       "   subj_1_4_condition  \n",
       "0                 win  \n",
       "1                lose  \n",
       "2                lose  \n",
       "3                 win  \n",
       "4                lose  \n",
       "5                 win  \n",
       "6                 win  \n",
       "7                 win  \n",
       "8                lose  \n",
       "9                lose  \n",
       "10               lose  \n",
       "11               lose  \n",
       "12               lose  \n",
       "13               lose  \n",
       "14               lose  \n",
       "15               lose  \n",
       "16               lose  \n",
       "17               lose  \n",
       "18               lose  \n",
       "19                win  \n",
       "20           rewarded  \n",
       "21           rewarded  \n",
       "22           rewarded  \n",
       "23           rewarded  \n",
       "24           rewarded  \n",
       "25           rewarded  \n",
       "26           rewarded  \n",
       "27           omission  \n",
       "28           rewarded  \n",
       "29           rewarded  \n",
       "30           rewarded  \n",
       "31           rewarded  \n",
       "32           rewarded  \n",
       "33           omission  \n",
       "34           rewarded  \n",
       "35           rewarded  \n",
       "36           rewarded  \n",
       "37           omission  "
      ]
     },
     "execution_count": 29,
     "metadata": {},
     "output_type": "execute_result"
    }
   ],
   "source": [
    "tone_df"
   ]
  },
  {
   "cell_type": "code",
   "execution_count": 30,
   "metadata": {},
   "outputs": [],
   "source": [
    "tone_df.to_csv(\"./tone_df_06_18.csv\")"
   ]
  },
  {
   "cell_type": "code",
   "execution_count": 31,
   "metadata": {},
   "outputs": [],
   "source": [
    "def nested_dict():\n",
    "    return defaultdict(nested_dict)"
   ]
  },
  {
   "cell_type": "code",
   "execution_count": 32,
   "metadata": {},
   "outputs": [],
   "source": [
    "time_halfbandwidth_product = 1\n",
    "time_window_duration = 1\n",
    "time_window_step = 0.1"
   ]
  },
  {
   "cell_type": "code",
   "execution_count": 33,
   "metadata": {},
   "outputs": [],
   "source": [
    "condition_to_brain_region = nested_dict()"
   ]
  },
  {
   "cell_type": "code",
   "execution_count": 34,
   "metadata": {},
   "outputs": [],
   "source": [
    "for index, row in tone_df.iterrows():\n",
    "    for brain_region, channel_id in subj_1_1_brain_region_to_channel.items():\n",
    "        try:\n",
    "            current_trace = subj_1_1_lfp.get_traces(channel_ids=[channel_id], start_frame=row[\"lfp_index\"], end_frame=row[\"lfp_index\"] + 1000 * 10)\n",
    "            # condition_to_brain_region[row[\"subj_1_1_condition\"]][brain_region][\"traces\"] = current_trace\n",
    "            \n",
    "                    # Compute multitaper spectral estimate\n",
    "            m = Multitaper(time_halfbandwidth_product=time_halfbandwidth_product, time_series=current_trace,\n",
    "                           sampling_frequency=resampled_frequency)\n",
    "            \n",
    "            # Sets up computing connectivity measures/power from multitaper spectral estimate\n",
    "            c = Connectivity.from_multitaper(m)\n",
    "                \n",
    "            if condition_to_brain_region[row[\"subj_1_1_condition\"]][brain_region]:\n",
    "                condition_to_brain_region[row[\"subj_1_1_condition\"]][brain_region].append(c.power().squeeze())\n",
    "            else:\n",
    "                condition_to_brain_region[row[\"subj_1_1_condition\"]][brain_region] = [c.power().squeeze()]\n",
    "        except Exception as e: \n",
    "            print(e)\n",
    "            print(\"issue with {} {} {}\".format(brain_region, channel_id, index))"
   ]
  },
  {
   "cell_type": "code",
   "execution_count": 35,
   "metadata": {},
   "outputs": [],
   "source": [
    "for index, row in tone_df.iterrows():\n",
    "    for brain_region, channel_id in subj_1_4_brain_region_to_channel.items():\n",
    "        try:\n",
    "            current_trace = subj_1_4_lfp.get_traces(channel_ids=[channel_id], start_frame=row[\"lfp_index\"], end_frame=row[\"lfp_index\"] + 1000 * 10)\n",
    "            # condition_to_brain_region[row[\"subj_1_4_condition\"]][brain_region][\"traces\"] = current_trace\n",
    "            \n",
    "                    # Compute multitaper spectral estimate\n",
    "            m = Multitaper(time_halfbandwidth_product=time_halfbandwidth_product, time_series=current_trace,\n",
    "                           sampling_frequency=resampled_frequency)\n",
    "            \n",
    "            # Sets up computing connectivity measures/power from multitaper spectral estimate\n",
    "            c = Connectivity.from_multitaper(m)\n",
    "                \n",
    "            if condition_to_brain_region[row[\"subj_1_4_condition\"]][brain_region]:\n",
    "                condition_to_brain_region[row[\"subj_1_4_condition\"]][brain_region].append(c.power().squeeze())\n",
    "            else:\n",
    "                condition_to_brain_region[row[\"subj_1_4_condition\"]][brain_region] = [c.power().squeeze()]\n",
    "        except Exception as e: \n",
    "            print(e)\n",
    "            print(\"issue with {} {} {}\".format(brain_region, channel_id, index))"
   ]
  },
  {
   "cell_type": "code",
   "execution_count": 36,
   "metadata": {},
   "outputs": [
    {
     "data": {
      "text/plain": [
       "20"
      ]
     },
     "execution_count": 36,
     "metadata": {},
     "output_type": "execute_result"
    }
   ],
   "source": [
    "len(condition_to_brain_region[\"win\"][\"mPFC\"])"
   ]
  },
  {
   "cell_type": "code",
   "execution_count": 37,
   "metadata": {},
   "outputs": [
    {
     "data": {
      "text/plain": [
       "array([0.000e+00, 1.000e-01, 2.000e-01, ..., 4.997e+02, 4.998e+02,\n",
       "       4.999e+02])"
      ]
     },
     "execution_count": 37,
     "metadata": {},
     "output_type": "execute_result"
    }
   ],
   "source": [
    "c.frequencies"
   ]
  },
  {
   "cell_type": "code",
   "execution_count": 38,
   "metadata": {},
   "outputs": [],
   "source": [
    "losing_omission_freq_index = np.where((6 <= c.frequencies) & (12 >= c.frequencies))[0]"
   ]
  },
  {
   "cell_type": "code",
   "execution_count": 39,
   "metadata": {},
   "outputs": [
    {
     "data": {
      "text/plain": [
       "array([ 60,  61,  62,  63,  64,  65,  66,  67,  68,  69,  70,  71,  72,\n",
       "        73,  74,  75,  76,  77,  78,  79,  80,  81,  82,  83,  84,  85,\n",
       "        86,  87,  88,  89,  90,  91,  92,  93,  94,  95,  96,  97,  98,\n",
       "        99, 100, 101, 102, 103, 104, 105, 106, 107, 108, 109, 110, 111,\n",
       "       112, 113, 114, 115, 116, 117, 118, 119, 120])"
      ]
     },
     "execution_count": 39,
     "metadata": {},
     "output_type": "execute_result"
    }
   ],
   "source": [
    "losing_omission_freq_index"
   ]
  },
  {
   "cell_type": "code",
   "execution_count": 40,
   "metadata": {},
   "outputs": [],
   "source": [
    "winning_rewarded_freq_index = np.where((2 <= c.frequencies) & (6 >= c.frequencies))[0]"
   ]
  },
  {
   "cell_type": "code",
   "execution_count": 41,
   "metadata": {},
   "outputs": [
    {
     "data": {
      "text/plain": [
       "array([20, 21, 22, 23, 24, 25, 26, 27, 28, 29, 30, 31, 32, 33, 34, 35, 36,\n",
       "       37, 38, 39, 40, 41, 42, 43, 44, 45, 46, 47, 48, 49, 50, 51, 52, 53,\n",
       "       54, 55, 56, 57, 58, 59, 60])"
      ]
     },
     "execution_count": 41,
     "metadata": {},
     "output_type": "execute_result"
    }
   ],
   "source": [
    "winning_rewarded_freq_index"
   ]
  },
  {
   "cell_type": "code",
   "execution_count": null,
   "metadata": {},
   "outputs": [],
   "source": []
  },
  {
   "cell_type": "code",
   "execution_count": 42,
   "metadata": {},
   "outputs": [],
   "source": [
    "freq_index_6_to_12 = np.where((6 <= c.frequencies) & (12 >= c.frequencies))[0]"
   ]
  },
  {
   "cell_type": "code",
   "execution_count": 43,
   "metadata": {},
   "outputs": [
    {
     "data": {
      "text/plain": [
       "array([ 60,  61,  62,  63,  64,  65,  66,  67,  68,  69,  70,  71,  72,\n",
       "        73,  74,  75,  76,  77,  78,  79,  80,  81,  82,  83,  84,  85,\n",
       "        86,  87,  88,  89,  90,  91,  92,  93,  94,  95,  96,  97,  98,\n",
       "        99, 100, 101, 102, 103, 104, 105, 106, 107, 108, 109, 110, 111,\n",
       "       112, 113, 114, 115, 116, 117, 118, 119, 120])"
      ]
     },
     "execution_count": 43,
     "metadata": {},
     "output_type": "execute_result"
    }
   ],
   "source": [
    "freq_index_6_to_12"
   ]
  },
  {
   "cell_type": "code",
   "execution_count": 44,
   "metadata": {},
   "outputs": [],
   "source": [
    "freq_index_2_to_6 = np.where((2 <= c.frequencies) & (6 >= c.frequencies))[0]"
   ]
  },
  {
   "cell_type": "code",
   "execution_count": 45,
   "metadata": {},
   "outputs": [
    {
     "data": {
      "text/plain": [
       "array([20, 21, 22, 23, 24, 25, 26, 27, 28, 29, 30, 31, 32, 33, 34, 35, 36,\n",
       "       37, 38, 39, 40, 41, 42, 43, 44, 45, 46, 47, 48, 49, 50, 51, 52, 53,\n",
       "       54, 55, 56, 57, 58, 59, 60])"
      ]
     },
     "execution_count": 45,
     "metadata": {},
     "output_type": "execute_result"
    }
   ],
   "source": [
    "freq_index_2_to_6"
   ]
  },
  {
   "cell_type": "code",
   "execution_count": 46,
   "metadata": {},
   "outputs": [],
   "source": [
    "freq_to_index = {\"freq_6_to_12\": freq_index_6_to_12, \"freq_2_to_6\": freq_index_2_to_6}"
   ]
  },
  {
   "cell_type": "code",
   "execution_count": 47,
   "metadata": {
    "scrolled": true
   },
   "outputs": [
    {
     "name": "stdout",
     "output_type": "stream",
     "text": [
      "freq_6_to_12\n",
      "lose\n",
      "mPFC\n",
      "MD\n",
      "LH\n",
      "BLA\n",
      "vHPC\n",
      "win\n",
      "mPFC\n",
      "MD\n",
      "LH\n",
      "BLA\n",
      "vHPC\n",
      "rewarded\n",
      "mPFC\n",
      "MD\n",
      "LH\n",
      "BLA\n",
      "vHPC\n",
      "omission\n",
      "mPFC\n",
      "MD\n",
      "LH\n",
      "BLA\n",
      "vHPC\n",
      "freq_2_to_6\n",
      "lose\n",
      "mPFC\n",
      "MD\n",
      "LH\n",
      "BLA\n",
      "vHPC\n",
      "win\n",
      "mPFC\n",
      "MD\n",
      "LH\n",
      "BLA\n",
      "vHPC\n",
      "rewarded\n",
      "mPFC\n",
      "MD\n",
      "LH\n",
      "BLA\n",
      "vHPC\n",
      "omission\n",
      "mPFC\n",
      "MD\n",
      "LH\n",
      "BLA\n",
      "vHPC\n"
     ]
    }
   ],
   "source": [
    "average_power_dict = nested_dict()\n",
    "for freq, index in freq_to_index.items():\n",
    "    print(freq)\n",
    "    for condition, all_regions in condition_to_brain_region.items():   \n",
    "        print(condition)\n",
    "        for brain_region, value in all_regions.items():\n",
    "            print(brain_region)\n",
    "            current_all_power = [powers[index] for powers in value]\n",
    "            per_trial_average_power = [np.mean(powers) for powers in current_all_power]\n",
    "            average_power_dict[condition][brain_region][freq][\"per_trial_average_power\"] = per_trial_average_power\n"
   ]
  },
  {
   "cell_type": "code",
   "execution_count": 48,
   "metadata": {},
   "outputs": [
    {
     "data": {
      "text/plain": [
       "'omission'"
      ]
     },
     "execution_count": 48,
     "metadata": {},
     "output_type": "execute_result"
    }
   ],
   "source": [
    "condition"
   ]
  },
  {
   "cell_type": "code",
   "execution_count": 49,
   "metadata": {},
   "outputs": [
    {
     "data": {
      "text/plain": [
       "[19106.397662734766,\n",
       " 10316.44227739941,\n",
       " 0.0,\n",
       " 770.6277024348975,\n",
       " 1307.076003479175,\n",
       " 412.19792728639055]"
      ]
     },
     "execution_count": 49,
     "metadata": {},
     "output_type": "execute_result"
    }
   ],
   "source": [
    "average_power_dict[\"omission\"][brain_region][freq][\"per_trial_average_power\"]"
   ]
  },
  {
   "cell_type": "code",
   "execution_count": 50,
   "metadata": {},
   "outputs": [],
   "source": [
    "# Convert the triple-nested dictionary to a DataFrame\n",
    "average_power_df = pd.concat({(i, j): pd.DataFrame(k) for i, jk in average_power_dict.items() for j, k in jk.items()}, axis=0)\n",
    "\n",
    "# Reset the index and rename the columns\n",
    "average_power_df = average_power_df.reset_index()"
   ]
  },
  {
   "cell_type": "code",
   "execution_count": 59,
   "metadata": {},
   "outputs": [],
   "source": [
    "average_power_df = average_power_df.rename(columns={\"level_0\": \"condition\", \"level_1\": \"brain_region\"})"
   ]
  },
  {
   "cell_type": "code",
   "execution_count": 60,
   "metadata": {},
   "outputs": [],
   "source": [
    "average_power_df.to_csv(\"./average_power_06_18.csv\")"
   ]
  },
  {
   "cell_type": "code",
   "execution_count": 61,
   "metadata": {},
   "outputs": [
    {
     "data": {
      "text/html": [
       "<div>\n",
       "<style scoped>\n",
       "    .dataframe tbody tr th:only-of-type {\n",
       "        vertical-align: middle;\n",
       "    }\n",
       "\n",
       "    .dataframe tbody tr th {\n",
       "        vertical-align: top;\n",
       "    }\n",
       "\n",
       "    .dataframe thead th {\n",
       "        text-align: right;\n",
       "    }\n",
       "</style>\n",
       "<table border=\"1\" class=\"dataframe\">\n",
       "  <thead>\n",
       "    <tr style=\"text-align: right;\">\n",
       "      <th></th>\n",
       "      <th>condition</th>\n",
       "      <th>brain_region</th>\n",
       "      <th>level_2</th>\n",
       "      <th>freq_6_to_12</th>\n",
       "      <th>freq_2_to_6</th>\n",
       "    </tr>\n",
       "  </thead>\n",
       "  <tbody>\n",
       "    <tr>\n",
       "      <th>0</th>\n",
       "      <td>lose</td>\n",
       "      <td>mPFC</td>\n",
       "      <td>per_trial_average_power</td>\n",
       "      <td>[3659.1399851404585, 5104.409429016465, 3360.0...</td>\n",
       "      <td>[2698.6030563663735, 1482.9162669010263, 2081....</td>\n",
       "    </tr>\n",
       "    <tr>\n",
       "      <th>1</th>\n",
       "      <td>lose</td>\n",
       "      <td>MD</td>\n",
       "      <td>per_trial_average_power</td>\n",
       "      <td>[24476.01909643453, 23821.80504122089, 19633.8...</td>\n",
       "      <td>[10801.4646778569, 5497.79554862735, 8507.6662...</td>\n",
       "    </tr>\n",
       "    <tr>\n",
       "      <th>2</th>\n",
       "      <td>lose</td>\n",
       "      <td>LH</td>\n",
       "      <td>per_trial_average_power</td>\n",
       "      <td>[18546.43353100673, 17037.994017704073, 13974....</td>\n",
       "      <td>[7020.490913238811, 5494.045735171809, 6685.98...</td>\n",
       "    </tr>\n",
       "    <tr>\n",
       "      <th>3</th>\n",
       "      <td>lose</td>\n",
       "      <td>BLA</td>\n",
       "      <td>per_trial_average_power</td>\n",
       "      <td>[17607.89435654146, 16276.936113462909, 15529....</td>\n",
       "      <td>[8745.73348140386, 5166.602083543791, 7582.821...</td>\n",
       "    </tr>\n",
       "    <tr>\n",
       "      <th>4</th>\n",
       "      <td>lose</td>\n",
       "      <td>vHPC</td>\n",
       "      <td>per_trial_average_power</td>\n",
       "      <td>[11143.55033263804, 11795.783796087177, 14414....</td>\n",
       "      <td>[11363.120013025402, 9545.616496617315, 17621....</td>\n",
       "    </tr>\n",
       "    <tr>\n",
       "      <th>5</th>\n",
       "      <td>win</td>\n",
       "      <td>mPFC</td>\n",
       "      <td>per_trial_average_power</td>\n",
       "      <td>[2458.5760188265062, 3385.4492798785677, 3568....</td>\n",
       "      <td>[1481.3047546944538, 1115.775720650603, 2791.7...</td>\n",
       "    </tr>\n",
       "    <tr>\n",
       "      <th>6</th>\n",
       "      <td>win</td>\n",
       "      <td>MD</td>\n",
       "      <td>per_trial_average_power</td>\n",
       "      <td>[18422.63638618245, 18803.0478759335, 18856.53...</td>\n",
       "      <td>[5374.440345054873, 4957.737593966543, 9693.80...</td>\n",
       "    </tr>\n",
       "    <tr>\n",
       "      <th>7</th>\n",
       "      <td>win</td>\n",
       "      <td>LH</td>\n",
       "      <td>per_trial_average_power</td>\n",
       "      <td>[12674.814488993212, 12558.265596047764, 13408...</td>\n",
       "      <td>[4491.348805117406, 3975.3310007746836, 7263.1...</td>\n",
       "    </tr>\n",
       "    <tr>\n",
       "      <th>8</th>\n",
       "      <td>win</td>\n",
       "      <td>BLA</td>\n",
       "      <td>per_trial_average_power</td>\n",
       "      <td>[14809.768609197574, 13179.27476594031, 14580....</td>\n",
       "      <td>[5401.508478035267, 3737.999005097903, 6859.28...</td>\n",
       "    </tr>\n",
       "    <tr>\n",
       "      <th>9</th>\n",
       "      <td>win</td>\n",
       "      <td>vHPC</td>\n",
       "      <td>per_trial_average_power</td>\n",
       "      <td>[8253.389251279476, 10852.35083517253, 10759.3...</td>\n",
       "      <td>[11732.557298220772, 9238.234521903034, 11066....</td>\n",
       "    </tr>\n",
       "    <tr>\n",
       "      <th>10</th>\n",
       "      <td>rewarded</td>\n",
       "      <td>mPFC</td>\n",
       "      <td>per_trial_average_power</td>\n",
       "      <td>[4437.939199250028, 5052.166925570899, 3142.73...</td>\n",
       "      <td>[6460.689134844192, 5164.942268063376, 6310.80...</td>\n",
       "    </tr>\n",
       "    <tr>\n",
       "      <th>11</th>\n",
       "      <td>rewarded</td>\n",
       "      <td>MD</td>\n",
       "      <td>per_trial_average_power</td>\n",
       "      <td>[15355.12864424773, 22985.74817517554, 13035.5...</td>\n",
       "      <td>[9004.770939997283, 10012.3318702163, 11238.51...</td>\n",
       "    </tr>\n",
       "    <tr>\n",
       "      <th>12</th>\n",
       "      <td>rewarded</td>\n",
       "      <td>LH</td>\n",
       "      <td>per_trial_average_power</td>\n",
       "      <td>[10200.155568646598, 16562.993501958128, 8260....</td>\n",
       "      <td>[6947.827186509002, 8260.498241065878, 7154.79...</td>\n",
       "    </tr>\n",
       "    <tr>\n",
       "      <th>13</th>\n",
       "      <td>rewarded</td>\n",
       "      <td>BLA</td>\n",
       "      <td>per_trial_average_power</td>\n",
       "      <td>[12102.47866169573, 16662.929585269612, 9706.1...</td>\n",
       "      <td>[7629.9351335194615, 11103.502982401638, 8314....</td>\n",
       "    </tr>\n",
       "    <tr>\n",
       "      <th>14</th>\n",
       "      <td>rewarded</td>\n",
       "      <td>vHPC</td>\n",
       "      <td>per_trial_average_power</td>\n",
       "      <td>[10461.207000191383, 20036.404079285898, 6738....</td>\n",
       "      <td>[16355.837585530371, 18769.80624588843, 16054....</td>\n",
       "    </tr>\n",
       "    <tr>\n",
       "      <th>15</th>\n",
       "      <td>omission</td>\n",
       "      <td>mPFC</td>\n",
       "      <td>per_trial_average_power</td>\n",
       "      <td>[4147.411360872655, 4017.9492510604587, 0.0, 9...</td>\n",
       "      <td>[5153.096020378998, 4144.80366136178, 0.0, 904...</td>\n",
       "    </tr>\n",
       "    <tr>\n",
       "      <th>16</th>\n",
       "      <td>omission</td>\n",
       "      <td>MD</td>\n",
       "      <td>per_trial_average_power</td>\n",
       "      <td>[11445.490019552743, 11493.992025446325, 0.0, ...</td>\n",
       "      <td>[9245.286457627497, 7352.272197052935, 0.0, 11...</td>\n",
       "    </tr>\n",
       "    <tr>\n",
       "      <th>17</th>\n",
       "      <td>omission</td>\n",
       "      <td>LH</td>\n",
       "      <td>per_trial_average_power</td>\n",
       "      <td>[8059.209770873197, 8922.485635806268, 0.0, 17...</td>\n",
       "      <td>[7139.401744501147, 5081.323760430894, 0.0, 21...</td>\n",
       "    </tr>\n",
       "    <tr>\n",
       "      <th>18</th>\n",
       "      <td>omission</td>\n",
       "      <td>BLA</td>\n",
       "      <td>per_trial_average_power</td>\n",
       "      <td>[8271.104701446875, 10380.257637153258, 0.0, 1...</td>\n",
       "      <td>[9183.080401691217, 6370.814313479041, 0.0, 15...</td>\n",
       "    </tr>\n",
       "    <tr>\n",
       "      <th>19</th>\n",
       "      <td>omission</td>\n",
       "      <td>vHPC</td>\n",
       "      <td>per_trial_average_power</td>\n",
       "      <td>[8021.264767597676, 8090.1145253560335, 0.0, 6...</td>\n",
       "      <td>[19106.397662734766, 10316.44227739941, 0.0, 7...</td>\n",
       "    </tr>\n",
       "  </tbody>\n",
       "</table>\n",
       "</div>"
      ],
      "text/plain": [
       "   condition brain_region                  level_2  \\\n",
       "0       lose         mPFC  per_trial_average_power   \n",
       "1       lose           MD  per_trial_average_power   \n",
       "2       lose           LH  per_trial_average_power   \n",
       "3       lose          BLA  per_trial_average_power   \n",
       "4       lose         vHPC  per_trial_average_power   \n",
       "5        win         mPFC  per_trial_average_power   \n",
       "6        win           MD  per_trial_average_power   \n",
       "7        win           LH  per_trial_average_power   \n",
       "8        win          BLA  per_trial_average_power   \n",
       "9        win         vHPC  per_trial_average_power   \n",
       "10  rewarded         mPFC  per_trial_average_power   \n",
       "11  rewarded           MD  per_trial_average_power   \n",
       "12  rewarded           LH  per_trial_average_power   \n",
       "13  rewarded          BLA  per_trial_average_power   \n",
       "14  rewarded         vHPC  per_trial_average_power   \n",
       "15  omission         mPFC  per_trial_average_power   \n",
       "16  omission           MD  per_trial_average_power   \n",
       "17  omission           LH  per_trial_average_power   \n",
       "18  omission          BLA  per_trial_average_power   \n",
       "19  omission         vHPC  per_trial_average_power   \n",
       "\n",
       "                                         freq_6_to_12  \\\n",
       "0   [3659.1399851404585, 5104.409429016465, 3360.0...   \n",
       "1   [24476.01909643453, 23821.80504122089, 19633.8...   \n",
       "2   [18546.43353100673, 17037.994017704073, 13974....   \n",
       "3   [17607.89435654146, 16276.936113462909, 15529....   \n",
       "4   [11143.55033263804, 11795.783796087177, 14414....   \n",
       "5   [2458.5760188265062, 3385.4492798785677, 3568....   \n",
       "6   [18422.63638618245, 18803.0478759335, 18856.53...   \n",
       "7   [12674.814488993212, 12558.265596047764, 13408...   \n",
       "8   [14809.768609197574, 13179.27476594031, 14580....   \n",
       "9   [8253.389251279476, 10852.35083517253, 10759.3...   \n",
       "10  [4437.939199250028, 5052.166925570899, 3142.73...   \n",
       "11  [15355.12864424773, 22985.74817517554, 13035.5...   \n",
       "12  [10200.155568646598, 16562.993501958128, 8260....   \n",
       "13  [12102.47866169573, 16662.929585269612, 9706.1...   \n",
       "14  [10461.207000191383, 20036.404079285898, 6738....   \n",
       "15  [4147.411360872655, 4017.9492510604587, 0.0, 9...   \n",
       "16  [11445.490019552743, 11493.992025446325, 0.0, ...   \n",
       "17  [8059.209770873197, 8922.485635806268, 0.0, 17...   \n",
       "18  [8271.104701446875, 10380.257637153258, 0.0, 1...   \n",
       "19  [8021.264767597676, 8090.1145253560335, 0.0, 6...   \n",
       "\n",
       "                                          freq_2_to_6  \n",
       "0   [2698.6030563663735, 1482.9162669010263, 2081....  \n",
       "1   [10801.4646778569, 5497.79554862735, 8507.6662...  \n",
       "2   [7020.490913238811, 5494.045735171809, 6685.98...  \n",
       "3   [8745.73348140386, 5166.602083543791, 7582.821...  \n",
       "4   [11363.120013025402, 9545.616496617315, 17621....  \n",
       "5   [1481.3047546944538, 1115.775720650603, 2791.7...  \n",
       "6   [5374.440345054873, 4957.737593966543, 9693.80...  \n",
       "7   [4491.348805117406, 3975.3310007746836, 7263.1...  \n",
       "8   [5401.508478035267, 3737.999005097903, 6859.28...  \n",
       "9   [11732.557298220772, 9238.234521903034, 11066....  \n",
       "10  [6460.689134844192, 5164.942268063376, 6310.80...  \n",
       "11  [9004.770939997283, 10012.3318702163, 11238.51...  \n",
       "12  [6947.827186509002, 8260.498241065878, 7154.79...  \n",
       "13  [7629.9351335194615, 11103.502982401638, 8314....  \n",
       "14  [16355.837585530371, 18769.80624588843, 16054....  \n",
       "15  [5153.096020378998, 4144.80366136178, 0.0, 904...  \n",
       "16  [9245.286457627497, 7352.272197052935, 0.0, 11...  \n",
       "17  [7139.401744501147, 5081.323760430894, 0.0, 21...  \n",
       "18  [9183.080401691217, 6370.814313479041, 0.0, 15...  \n",
       "19  [19106.397662734766, 10316.44227739941, 0.0, 7...  "
      ]
     },
     "execution_count": 61,
     "metadata": {},
     "output_type": "execute_result"
    }
   ],
   "source": [
    "average_power_df"
   ]
  },
  {
   "cell_type": "code",
   "execution_count": 52,
   "metadata": {},
   "outputs": [
    {
     "ename": "ValueError",
     "evalue": "",
     "output_type": "error",
     "traceback": [
      "\u001b[0;31m---------------------------------------------------------------------------\u001b[0m",
      "\u001b[0;31mValueError\u001b[0m                                Traceback (most recent call last)",
      "Cell \u001b[0;32mIn[52], line 1\u001b[0m\n\u001b[0;32m----> 1\u001b[0m \u001b[38;5;28;01mraise\u001b[39;00m \u001b[38;5;167;01mValueError\u001b[39;00m()\n",
      "\u001b[0;31mValueError\u001b[0m: "
     ]
    }
   ],
   "source": [
    "raise ValueError()"
   ]
  },
  {
   "cell_type": "code",
   "execution_count": null,
   "metadata": {},
   "outputs": [],
   "source": [
    "mannwhitneyu(condition_to_brain_region[\"omission\"][\"vHPC\"][\"per_trial_average_power\"], condition_to_brain_region[\"lose\"][\"vHPC\"][\"per_trial_average_power\"])\n"
   ]
  },
  {
   "cell_type": "code",
   "execution_count": null,
   "metadata": {},
   "outputs": [],
   "source": [
    "mannwhitneyu(condition_to_brain_region[\"omission\"][\"BLA\"][\"per_trial_average_power\"], condition_to_brain_region[\"lose\"][\"BLA\"][\"per_trial_average_power\"])\n"
   ]
  },
  {
   "cell_type": "code",
   "execution_count": null,
   "metadata": {},
   "outputs": [],
   "source": [
    "len(per_trial_average_power)"
   ]
  },
  {
   "cell_type": "code",
   "execution_count": null,
   "metadata": {},
   "outputs": [],
   "source": [
    "condition_to_brain_region[\"lose\"][brain_region][freq][\"per_trial_average_power\"]"
   ]
  },
  {
   "cell_type": "code",
   "execution_count": null,
   "metadata": {},
   "outputs": [],
   "source": [
    "condition_to_brain_region"
   ]
  },
  {
   "cell_type": "code",
   "execution_count": null,
   "metadata": {},
   "outputs": [],
   "source": [
    "brain_region_and_condition_to_pvalue = nested_dict()\n",
    "for freq, index in freq_to_index.items():\n",
    "    for brain_region in subj_1_1_brain_region_to_channel.keys():\n",
    "        print(brain_region)\n",
    "    \n",
    "        u_statistic, p_value = mannwhitneyu(condition_to_brain_region[\"lose\"][brain_region][freq][\"per_trial_average_power\"], condition_to_brain_region[\"omission\"][brain_region][freq][\"per_trial_average_power\"])\n",
    "        brain_region_and_condition_to_pvalue[brain_region][\"losing_vs_omission\"][\"u_statistic\"][freq] = u_statistic\n",
    "        brain_region_and_condition_to_pvalue[brain_region][\"losing_vs_omission\"][\"p_value\"][freq] = p_value\n",
    "    \n",
    "        \n",
    "        u_statistic, p_value = mannwhitneyu(condition_to_brain_region[\"win\"][brain_region][freq][\"per_trial_average_power\"], condition_to_brain_region[\"rewarded\"][brain_region][freq][\"per_trial_average_power\"])\n",
    "        brain_region_and_condition_to_pvalue[brain_region][\"winning_vs_rewarded\"][\"u_statistic\"][freq] = u_statistic\n",
    "        brain_region_and_condition_to_pvalue[brain_region][\"winning_vs_rewarded\"][\"p_value\"][freq] = p_value"
   ]
  },
  {
   "cell_type": "code",
   "execution_count": null,
   "metadata": {
    "scrolled": true
   },
   "outputs": [],
   "source": [
    "brain_region_and_condition_to_pvalue"
   ]
  },
  {
   "cell_type": "code",
   "execution_count": null,
   "metadata": {},
   "outputs": [],
   "source": [
    "# Convert the triple-nested dictionary to a DataFrame\n",
    "lfp_wilconxon_df = pd.concat({(i, j): pd.DataFrame(k) for i, jk in brain_region_and_condition_to_pvalue.items() for j, k in jk.items()}, axis=0)\n",
    "\n",
    "# Reset the index and rename the columns\n",
    "lfp_wilconxon_df = lfp_wilconxon_df.reset_index()"
   ]
  },
  {
   "cell_type": "code",
   "execution_count": null,
   "metadata": {},
   "outputs": [],
   "source": [
    "lfp_wilconxon_df = lfp_wilconxon_df.rename(columns={\"level_0\": \"brain_region\", \"level_1\": \"condition\", \"level_2\": \"frequency\"})"
   ]
  },
  {
   "cell_type": "code",
   "execution_count": null,
   "metadata": {},
   "outputs": [],
   "source": [
    "lfp_wilconxon_df = lfp_wilconxon_df.sort_values([\"brain_region\", \"condition\", \"frequency\"]).reset_index(drop=True)[[\"brain_region\", \"condition\", \"frequency\", \"p_value\", \"u_statistic\"]]"
   ]
  },
  {
   "cell_type": "code",
   "execution_count": null,
   "metadata": {},
   "outputs": [],
   "source": [
    "lfp_wilconxon_df"
   ]
  },
  {
   "cell_type": "code",
   "execution_count": null,
   "metadata": {},
   "outputs": [],
   "source": [
    "lfp_wilconxon_df.to_csv(\"./lfp_wilcoxon.csv\")"
   ]
  },
  {
   "cell_type": "markdown",
   "metadata": {},
   "source": [
    "# Comparing Spikes"
   ]
  },
  {
   "cell_type": "code",
   "execution_count": null,
   "metadata": {},
   "outputs": [],
   "source": [
    "raise ValueError()"
   ]
  },
  {
   "cell_type": "code",
   "execution_count": null,
   "metadata": {},
   "outputs": [],
   "source": [
    "subj_1_4_lfp.get_traces(channel_ids=start_frame=100, end_frame=200)"
   ]
  },
  {
   "cell_type": "code",
   "execution_count": null,
   "metadata": {},
   "outputs": [],
   "source": [
    "sorted(list(subj_1_1_brain_region_to_channel.values()))"
   ]
  },
  {
   "cell_type": "code",
   "execution_count": null,
   "metadata": {},
   "outputs": [],
   "source": [
    "sorted(list(subj_1_4_brain_region_to_channel.values()))"
   ]
  },
  {
   "cell_type": "code",
   "execution_count": null,
   "metadata": {},
   "outputs": [],
   "source": [
    "subj_1_1_lfp"
   ]
  },
  {
   "cell_type": "code",
   "execution_count": null,
   "metadata": {},
   "outputs": [],
   "source": [
    "subj_1_4_lfp"
   ]
  },
  {
   "cell_type": "code",
   "execution_count": null,
   "metadata": {},
   "outputs": [],
   "source": [
    "subj_1_1_traces = subj_1_1_lfp.get_traces(channel_ids=subj_1_1_lfp.get_channel_ids()[[20, 28, 29, 30, 31]])"
   ]
  },
  {
   "cell_type": "code",
   "execution_count": null,
   "metadata": {},
   "outputs": [],
   "source": [
    "subj_1_4_traces = subj_1_4_lfp.get_traces(channel_ids=subj_1_4_lfp.get_channel_ids()[[2, 28, 29, 30, 31]])"
   ]
  },
  {
   "cell_type": "code",
   "execution_count": null,
   "metadata": {},
   "outputs": [],
   "source": [
    "subj_1_4_traces"
   ]
  },
  {
   "cell_type": "code",
   "execution_count": null,
   "metadata": {},
   "outputs": [],
   "source": [
    "subj_1_1_traces.shape"
   ]
  },
  {
   "cell_type": "code",
   "execution_count": null,
   "metadata": {},
   "outputs": [],
   "source": [
    "# Compute multitaper spectral estimate\n",
    "subj_1_1_m = Multitaper(time_halfbandwidth_product=time_halfbandwidth_product, time_series=subj_1_1_traces,\n",
    "               sampling_frequency=resampled_frequency)\n",
    "\n",
    "# Sets up computing connectivity measures/power from multitaper spectral estimate\n",
    "c = Connectivity.from_multitaper(m)"
   ]
  },
  {
   "cell_type": "code",
   "execution_count": null,
   "metadata": {},
   "outputs": [],
   "source": [
    "### Reading in the recording\n",
    "trodes_recording = se.read_spikegadgets(recording_path, stream_id=\"trodes\")\n",
    "\n",
    "### Preprocessing the recording\n",
    "preprocessing_step_dict = defaultdict(dict)\n",
    "preprocessing_step_dict[\"recording_raw\"] = trodes_recording\n",
    "\n",
    "recording_intermediate = copy.copy(trodes_recording)\n",
    "# Bandpass Filtering, keeping all the points that are within a certain frequency range\n",
    "recording_bandpass = spikeinterface.preprocessing.bandpass_filter(recording_intermediate, freq_min=0.5, freq_max=300)\n",
    "recording_intermediate = spikeinterface.preprocessing.bandpass_filter(recording_intermediate, freq_min=0.5, freq_max=300)\n",
    "preprocessing_step_dict[\"recording_bandpass\"] = recording_bandpass\n",
    "print(recording_bandpass)\n",
    "\n",
    "# Notch Filtering, keeping all the points that are within a certain frequency range\n",
    "recording_notch = spikeinterface.preprocessing.notch_filter(recording_intermediate, freq=60)\n",
    "recording_intermediate = spikeinterface.preprocessing.notch_filter(recording_intermediate, freq=60)\n",
    "preprocessing_step_dict[\"recording_notch\"] = recording_notch\n",
    "print(recording_bandpass)\n",
    "\n",
    "# We are not going to run the resampling step because it causes issues with saving to file\n",
    "# Resampling\n",
    "recording_resample = spikeinterface.preprocessing.resample(recording_intermediate, resample_rate=resampled_frequency)\n",
    "preprocessing_step_dict[\"recording_resample\"] = recording_resample\n",
    "print(recording_resample)"
   ]
  },
  {
   "cell_type": "code",
   "execution_count": null,
   "metadata": {},
   "outputs": [],
   "source": [
    "raise ValueError()"
   ]
  },
  {
   "cell_type": "markdown",
   "metadata": {},
   "source": [
    "```\n",
    "MD EIB: 0(1 on Nancy notebook) Spike Gadgets/Spike Interface: 0\n",
    "vHPC EIB: 16(17 on Nancy notebook) Spike Gadgets/Spike Interface: 31\n",
    "BLA EIB: 17(18 on Nancy notebook) Spike Gadgets/Spike Interface: 30\n",
    "LH EIB: 18(19 on Nancy notebook) Spike Gadgets/Spike Interface: 29\n",
    "```"
   ]
  },
  {
   "cell_type": "code",
   "execution_count": null,
   "metadata": {},
   "outputs": [],
   "source": [
    "brain_region_to_channel = {\"mPFC\": \"21\", \"MD\": \"16\", \"vHPC\": \"15\", \"BLA\": \"14\", \"LH\": \"13\"}"
   ]
  },
  {
   "cell_type": "code",
   "execution_count": null,
   "metadata": {},
   "outputs": [],
   "source": [
    "brain_region_to_channel = {k: v for k, v in sorted(brain_region_to_channel.items(), key=lambda item: item[1])}"
   ]
  },
  {
   "cell_type": "code",
   "execution_count": null,
   "metadata": {},
   "outputs": [],
   "source": [
    "brain_region_to_channel.keys()"
   ]
  },
  {
   "cell_type": "code",
   "execution_count": null,
   "metadata": {},
   "outputs": [],
   "source": [
    "brain_region_to_channel.values()"
   ]
  },
  {
   "cell_type": "code",
   "execution_count": null,
   "metadata": {},
   "outputs": [],
   "source": [
    "channel_ids = brain_region_to_channel.values()\n",
    "time_range=(1000, 1005)\n",
    "resampled_frequency = 1000"
   ]
  },
  {
   "cell_type": "code",
   "execution_count": null,
   "metadata": {},
   "outputs": [],
   "source": [
    "time_halfbandwidth_product=10"
   ]
  },
  {
   "cell_type": "markdown",
   "metadata": {},
   "source": [
    "### Brain Region to Channel"
   ]
  },
  {
   "cell_type": "markdown",
   "metadata": {},
   "source": [
    "```\n",
    "- All Trodes\n",
    "    - 21, 31, 15, 14, 13\n",
    "- mPFC:\n",
    "    - 21 (0 to 31 on Spike interface)\n",
    "    - 22(1 to 32 on Trodes)\n",
    "- MD\n",
    "    - 1 (EIB)\n",
    "        - Maybe actually 16\n",
    "    - 31(0 to 31 Spike interface)\n",
    "        - Maybe actually 16\n",
    "    - 32(1 to 32 Trodes)\n",
    "- vHPC\n",
    "    - 17(EIB)\n",
    "    - 15(0 to 31 on Spike interface)\n",
    "    - 16(1 to 32 Trodes)\n",
    "- BLA\n",
    "    - 18(BLA)\n",
    "    - 14(0 to 31 Spike interface)\n",
    "    - 15(1 to 32 Trodes)\n",
    "- LH 18\n",
    "    - 19(EIB)\n",
    "    - 13(0 to 31 Spike interface)\n",
    "    - 14(1 to 32 Trodes)\n",
    "```"
   ]
  },
  {
   "cell_type": "code",
   "execution_count": null,
   "metadata": {},
   "outputs": [],
   "source": [
    "resampled_frequency = 1000"
   ]
  },
  {
   "cell_type": "code",
   "execution_count": null,
   "metadata": {},
   "outputs": [],
   "source": [
    "recording_intermediate.channel_ids"
   ]
  },
  {
   "cell_type": "code",
   "execution_count": null,
   "metadata": {
    "scrolled": true
   },
   "outputs": [],
   "source": [
    "for preprocessed_lfp_path in lfp_preprocessing_filepath_glob:\n",
    "    print(preprocessed_lfp_path)\n",
    "    recording_intermediate = spikeinterface.core.load_extractor(file_or_folder_or_dict=preprocessed_lfp_path)\n",
    "    recording_basename = os.path.basename(os.path.dirname(preprocessed_lfp_path))\n",
    "    parent_output_directory = os.path.dirname(preprocessed_lfp_path)\n",
    "\n",
    "    \n",
    "    # Resampling\n",
    "    recording_intermediate = spikeinterface.preprocessing.resample(recording_intermediate, resample_rate=resampled_frequency) \n",
    "#     sw.plot_timeseries(recording_intermediate, time_range=time_range, channel_ids=channel_ids, show_channel_ids=True)\n",
    "\n",
    "    # Getting the traces\n",
    "    \n",
    "    traces = recording_intermediate.get_traces(start_frame=1100*1000, end_frame=1160*1000)\n",
    "    \n",
    "    # Compute multitaper spectral estimate\n",
    "    m = Multitaper(time_halfbandwidth_product=time_halfbandwidth_product, time_series=traces,\n",
    "                   sampling_frequency=resampled_frequency)\n",
    "    \n",
    "    # Sets up computing connectivity measures/power from multitaper spectral estimate\n",
    "    c = Connectivity.from_multitaper(m)\n",
    "    \n",
    "    for num in range(8):\n",
    "        channels = [int(num) for num in recording_intermediate.channel_ids[num*4: num*4+4]]\n",
    "        \n",
    "    \n",
    "    \n",
    "        fig, ax = plt.subplots()\n",
    "        ax.set_xlabel(\"Frequency\")\n",
    "        ax.set_ylabel(\"Power\")\n",
    "        ax.plot(c.frequencies, c.power().squeeze()[:,channels], label=channels)\n",
    "        ax.set_xlim(1,12)\n",
    "        ax.legend(ncol=4)\n",
    "        labelLines(ax.get_lines(), zorder=2.5)\n",
    "        plt.title(recording_basename)\n",
    "        os.makedirs('./proc/{}'.format(recording_basename), exist_ok=True)\n",
    "        plt.savefig('./proc/{}/{}_ch_{}.png'.format(recording_basename, recording_basename, \"-\".join([str(ch) for ch in channels])))\n",
    "        plt.show()\n"
   ]
  },
  {
   "cell_type": "code",
   "execution_count": null,
   "metadata": {},
   "outputs": [],
   "source": [
    "for preprocessed_lfp_path in lfp_preprocessing_filepath_glob:\n",
    "    print(preprocessed_lfp_path)\n",
    "    recording_intermediate = spikeinterface.core.load_extractor(file_or_folder_or_dict=preprocessed_lfp_path)\n",
    "    recording_basename = os.path.basename(os.path.dirname(preprocessed_lfp_path))\n",
    "    parent_output_directory = os.path.dirname(preprocessed_lfp_path)\n",
    "\n",
    "    \n",
    "    # Resampling\n",
    "    recording_intermediate = spikeinterface.preprocessing.resample(recording_intermediate, resample_rate=resampled_frequency) \n",
    "#     sw.plot_timeseries(recording_intermediate, time_range=time_range, channel_ids=channel_ids, show_channel_ids=True)\n",
    "\n",
    "    # Getting the traces\n",
    "    \n",
    "    traces = recording_intermediate.get_traces(start_frame=1000*1000, end_frame=1010*1000)\n",
    "    \n",
    "    # Compute multitaper spectral estimate\n",
    "    m = Multitaper(time_halfbandwidth_product=time_halfbandwidth_product, time_series=traces,\n",
    "                   sampling_frequency=resampled_frequency)\n",
    "    \n",
    "    # Sets up computing connectivity measures/power from multitaper spectral estimate\n",
    "    c = Connectivity.from_multitaper(m)\n",
    "    \n",
    "    for num in range(8):\n",
    "        channels = [int(num) for num in recording_intermediate.channel_ids[num*4: num*4+4]]\n",
    "        \n",
    "    \n",
    "    \n",
    "        fig, ax = plt.subplots()\n",
    "        ax.set_xlabel(\"Frequency\")\n",
    "        ax.set_ylabel(\"Power\")\n",
    "        ax.plot(c.frequencies, c.power().squeeze()[:,channels], label=channels)\n",
    "        ax.set_xlim(1,12)\n",
    "        ax.set_ylim(1,2000)\n",
    "\n",
    "        ax.legend(ncol=4)\n",
    "        labelLines(ax.get_lines(), zorder=2.5)\n",
    "        plt.title(recording_basename)\n",
    "        plt.show()\n"
   ]
  },
  {
   "cell_type": "markdown",
   "metadata": {},
   "source": [
    "### Get all the traces"
   ]
  },
  {
   "cell_type": "code",
   "execution_count": null,
   "metadata": {},
   "outputs": [],
   "source": [
    "raise ValueError()"
   ]
  },
  {
   "cell_type": "code",
   "execution_count": null,
   "metadata": {},
   "outputs": [],
   "source": [
    "recording_root_to_everything = defaultdict(dict)"
   ]
  },
  {
   "cell_type": "code",
   "execution_count": null,
   "metadata": {},
   "outputs": [],
   "source": [
    "resampled_frequency = 1000"
   ]
  },
  {
   "cell_type": "code",
   "execution_count": null,
   "metadata": {},
   "outputs": [],
   "source": [
    "np_issue_files = []\n",
    "for preprocessed_lfp_path in lfp_preprocessing_filepath_glob:\n",
    "    try:\n",
    "        print(preprocessed_lfp_path)\n",
    "        recording_intermediate = spikeinterface.core.load_extractor(file_or_folder_or_dict=preprocessed_lfp_path)\n",
    "        recording_basename = os.path.basename(os.path.dirname(preprocessed_lfp_path))\n",
    "        parent_output_directory = os.path.dirname(preprocessed_lfp_path)\n",
    "\n",
    "        # Resampling\n",
    "        recording_intermediate = spikeinterface.preprocessing.resample(recording_intermediate, resample_rate=resampled_frequency) \n",
    "\n",
    "        # Getting the traces\n",
    "        \n",
    "        traces = recording_intermediate.get_traces(start_frame=0, end_frame=recording_intermediate.get_num_samples()-1)\n",
    "        # Saving the trace to a Numpy file\n",
    "        traces_filename = \"{}.traces.npy\".format(recording_basename)\n",
    "        np.save(file=os.path.join(parent_output_directory, traces_filename), arr=traces)\n",
    "    except:\n",
    "        np_issue_files.append(preprocessed_lfp_path)"
   ]
  },
  {
   "cell_type": "code",
   "execution_count": null,
   "metadata": {},
   "outputs": [],
   "source": []
  }
 ],
 "metadata": {
  "kernelspec": {
   "display_name": "Python 3 (ipykernel)",
   "language": "python",
   "name": "python3"
  },
  "language_info": {
   "codemirror_mode": {
    "name": "ipython",
    "version": 3
   },
   "file_extension": ".py",
   "mimetype": "text/x-python",
   "name": "python",
   "nbconvert_exporter": "python",
   "pygments_lexer": "ipython3",
   "version": "3.9.16"
  }
 },
 "nbformat": 4,
 "nbformat_minor": 4
}
