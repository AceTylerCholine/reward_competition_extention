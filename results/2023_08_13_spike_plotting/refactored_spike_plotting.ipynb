{
 "cells": [
  {
   "cell_type": "markdown",
   "metadata": {
    "cell_id": "c3a02adc9e884466bc8c79db549cc3d2",
    "deepnote_cell_type": "text-cell-h1",
    "formattedRanges": [
     {
      "fromCodePoint": 0,
      "marks": {
       "bold": true,
       "underline": true
      },
      "toCodePoint": 17,
      "type": "marks"
     }
    ]
   },
   "source": [
    "# Title of notebook"
   ]
  },
  {
   "cell_type": "markdown",
   "metadata": {
    "cell_id": "4546bee655b14a5dbf393161f1228e60",
    "deepnote_cell_type": "text-cell-p",
    "formattedRanges": []
   },
   "source": [
    "Brief 1-2 sentence description of notebook."
   ]
  },
  {
   "cell_type": "code",
   "execution_count": 1,
   "metadata": {},
   "outputs": [],
   "source": [
    "import glob\n",
    "import re\n",
    "import os"
   ]
  },
  {
   "cell_type": "code",
   "execution_count": 2,
   "metadata": {
    "cell_id": "03b495cefa6a4798a44c7f2e4c6a3ea7",
    "deepnote_cell_type": "code",
    "deepnote_to_be_reexecuted": false,
    "execution_millis": 21,
    "execution_start": 1691424003626,
    "source_hash": null
   },
   "outputs": [],
   "source": [
    "# Imports of all used packages and libraries\n",
    "import numpy as np\n",
    "import pandas as pd\n",
    "import matplotlib.pyplot as plt\n",
    "import seaborn as sns"
   ]
  },
  {
   "cell_type": "markdown",
   "metadata": {
    "cell_id": "d290bac2c17940bfbc0f9296beaf70e5",
    "deepnote_cell_type": "text-cell-h2",
    "formattedRanges": []
   },
   "source": [
    "## Inputs & Data"
   ]
  },
  {
   "cell_type": "markdown",
   "metadata": {
    "cell_id": "e528ce19c608425292151930d380f49f",
    "deepnote_cell_type": "text-cell-p",
    "formattedRanges": []
   },
   "source": [
    "Explanation of each input and where it comes from."
   ]
  },
  {
   "cell_type": "code",
   "execution_count": 3,
   "metadata": {
    "cell_id": "6cf83a5811054461a718a71673d09aab",
    "deepnote_cell_type": "code",
    "deepnote_to_be_reexecuted": false,
    "execution_millis": 373,
    "execution_start": 1691424003628,
    "source_hash": null
   },
   "outputs": [],
   "source": [
    "# Inputs and Required data loading\n",
    "# input varaible names are in all caps snake case\n",
    "# Whenever an input changes or is used for processing \n",
    "# the vairables are all lower in snake case\n",
    "\n",
    "TRIAL_LENGTH = 10\n",
    "SAMPLING_RATE = 20000\n",
    "TONE_TIMESTAMP_DF = pd.read_excel(\"../../rce_tone_timestamp.xlsx\", index_col=0)\n",
    "OUTPUT_DIR = r\"./proc\" # where data is saved should always be shown in the inputs\n",
    "\n",
    "INPUT_DIR=glob.glob(\"/scratch/back_up/reward_competition_extention/proc/phy_curation/*\")"
   ]
  },
  {
   "cell_type": "markdown",
   "metadata": {
    "cell_id": "e3ee4891d43a4ac287413afc552ca289",
    "deepnote_cell_type": "text-cell-h2",
    "formattedRanges": []
   },
   "source": [
    "## Outputs"
   ]
  },
  {
   "cell_type": "markdown",
   "metadata": {
    "cell_id": "9ccbf6cc70fd4d379fa29317f733771f",
    "deepnote_cell_type": "text-cell-p",
    "formattedRanges": []
   },
   "source": [
    "Describe each output that the notebook creates. "
   ]
  },
  {
   "cell_type": "markdown",
   "metadata": {
    "cell_id": "fc8e8920a6944918a15fac575cdf6e78",
    "deepnote_cell_type": "text-cell-bullet",
    "formattedRanges": []
   },
   "source": [
    "- Is it a plot or is it data?"
   ]
  },
  {
   "cell_type": "markdown",
   "metadata": {
    "cell_id": "1e639d4776a84aa9ac8ded2e14fa57db",
    "deepnote_cell_type": "text-cell-bullet",
    "formattedRanges": []
   },
   "source": [
    "- How valuable is the output and why is it valuable or useful?"
   ]
  },
  {
   "cell_type": "markdown",
   "metadata": {
    "cell_id": "8999d19b6b7d4d63bc90f0b0bd9ab085",
    "deepnote_cell_type": "text-cell-h2",
    "formattedRanges": []
   },
   "source": [
    "## Processing"
   ]
  },
  {
   "cell_type": "markdown",
   "metadata": {
    "cell_id": "9b36cdf08567463082b005cb0dec684b",
    "deepnote_cell_type": "text-cell-p",
    "formattedRanges": []
   },
   "source": [
    "Describe what is done to the data here and how inputs are manipulated to generate outputs. "
   ]
  },
  {
   "cell_type": "code",
   "execution_count": 4,
   "metadata": {
    "cell_id": "89aaba237c644628b1b37604b75e7cb1",
    "deepnote_cell_type": "code"
   },
   "outputs": [],
   "source": [
    "# As much code and as many cells as required\n",
    "# includes EDA and playing with data\n",
    "# GO HAM!\n",
    "\n",
    "# Ideally functions are defined here first and then data is processed using the functions\n",
    "\n",
    "# function names are short and in snake case all lowercase\n",
    "# a function name should be unique but does not have to describe the function\n",
    "# doc strings describe functions not function names\n",
    "\n",
    "def calc_bmi(weight, height):\n",
    "    \"\"\"\n",
    "    This is a function that calculates BMI.\n",
    "    it uses height and weight...etc.\n",
    "    Meghan plz show us your docsctring format here.\n",
    "    \"\"\"\n",
    "    bmi = weight/(height**2)\n",
    "    return(bmi)\n"
   ]
  },
  {
   "cell_type": "code",
   "execution_count": 5,
   "metadata": {},
   "outputs": [],
   "source": [
    "def find_closest(target, reference_list):\n",
    "    \"\"\"\n",
    "    Finds the closest number in a reference list to the given target number.\n",
    "\n",
    "    Parameters:\n",
    "    - target (float or int): The number for which we want to find the closest value.\n",
    "    - reference_list (list of float or int): The list of numbers in which we want to search.\n",
    "\n",
    "    Returns:\n",
    "    - float or int: The closest number from the reference list to the target.\n",
    "    \"\"\"\n",
    "\n",
    "    # Using the 'min' function with a custom key to determine the closest value by minimal absolute difference\n",
    "    closest_value = min(reference_list, key=lambda x: abs(x - target))\n",
    "    \n",
    "    return closest_value"
   ]
  },
  {
   "cell_type": "markdown",
   "metadata": {},
   "source": [
    "### Getting the subject IDs from the file name"
   ]
  },
  {
   "cell_type": "code",
   "execution_count": 6,
   "metadata": {},
   "outputs": [],
   "source": [
    "all_trials_df = TONE_TIMESTAMP_DF.dropna(subset=\"condition\").sort_values(by=[\"recording_file\", \"time_stamp_index\"]).reset_index(drop=True)"
   ]
  },
  {
   "cell_type": "code",
   "execution_count": 7,
   "metadata": {},
   "outputs": [],
   "source": [
    "all_trials_df[\"time\"] = all_trials_df[\"time\"].astype(int)\n",
    "all_trials_df[\"time_stamp_index\"] = all_trials_df[\"time_stamp_index\"].astype(int)\n",
    "all_trials_df[\"video_frame\"] = all_trials_df[\"video_frame\"].astype(int)"
   ]
  },
  {
   "cell_type": "code",
   "execution_count": 8,
   "metadata": {},
   "outputs": [
    {
     "data": {
      "text/html": [
       "<div>\n",
       "<style scoped>\n",
       "    .dataframe tbody tr th:only-of-type {\n",
       "        vertical-align: middle;\n",
       "    }\n",
       "\n",
       "    .dataframe tbody tr th {\n",
       "        vertical-align: top;\n",
       "    }\n",
       "\n",
       "    .dataframe thead th {\n",
       "        text-align: right;\n",
       "    }\n",
       "</style>\n",
       "<table border=\"1\" class=\"dataframe\">\n",
       "  <thead>\n",
       "    <tr style=\"text-align: right;\">\n",
       "      <th></th>\n",
       "      <th>time</th>\n",
       "      <th>state</th>\n",
       "      <th>recording_dir</th>\n",
       "      <th>recording_file</th>\n",
       "      <th>din</th>\n",
       "      <th>time_stamp_index</th>\n",
       "      <th>video_file</th>\n",
       "      <th>video_frame</th>\n",
       "      <th>video_number</th>\n",
       "      <th>subject_info</th>\n",
       "      <th>condition</th>\n",
       "      <th>competition_closeness</th>\n",
       "      <th>Unnamed: 13</th>\n",
       "    </tr>\n",
       "  </thead>\n",
       "  <tbody>\n",
       "    <tr>\n",
       "      <th>0</th>\n",
       "      <td>6310663</td>\n",
       "      <td>1.0</td>\n",
       "      <td>20221202_134600_omission_and_competition_subje...</td>\n",
       "      <td>20221202_134600_omission_and_competition_subje...</td>\n",
       "      <td>dio_ECU_Din1</td>\n",
       "      <td>1390826</td>\n",
       "      <td>20221202_134600_omission_and_competition_subje...</td>\n",
       "      <td>1734</td>\n",
       "      <td>1.0</td>\n",
       "      <td>6_1_top_2_base_3</td>\n",
       "      <td>rewarded</td>\n",
       "      <td>NaN</td>\n",
       "      <td>NaN</td>\n",
       "    </tr>\n",
       "    <tr>\n",
       "      <th>1</th>\n",
       "      <td>7910662</td>\n",
       "      <td>1.0</td>\n",
       "      <td>20221202_134600_omission_and_competition_subje...</td>\n",
       "      <td>20221202_134600_omission_and_competition_subje...</td>\n",
       "      <td>dio_ECU_Din1</td>\n",
       "      <td>2990825</td>\n",
       "      <td>20221202_134600_omission_and_competition_subje...</td>\n",
       "      <td>3728</td>\n",
       "      <td>1.0</td>\n",
       "      <td>6_1_top_2_base_3</td>\n",
       "      <td>rewarded</td>\n",
       "      <td>NaN</td>\n",
       "      <td>NaN</td>\n",
       "    </tr>\n",
       "    <tr>\n",
       "      <th>2</th>\n",
       "      <td>9710660</td>\n",
       "      <td>1.0</td>\n",
       "      <td>20221202_134600_omission_and_competition_subje...</td>\n",
       "      <td>20221202_134600_omission_and_competition_subje...</td>\n",
       "      <td>dio_ECU_Din1</td>\n",
       "      <td>4790823</td>\n",
       "      <td>20221202_134600_omission_and_competition_subje...</td>\n",
       "      <td>5972</td>\n",
       "      <td>1.0</td>\n",
       "      <td>6_1_top_2_base_3</td>\n",
       "      <td>rewarded</td>\n",
       "      <td>NaN</td>\n",
       "      <td>NaN</td>\n",
       "    </tr>\n",
       "    <tr>\n",
       "      <th>3</th>\n",
       "      <td>11310658</td>\n",
       "      <td>1.0</td>\n",
       "      <td>20221202_134600_omission_and_competition_subje...</td>\n",
       "      <td>20221202_134600_omission_and_competition_subje...</td>\n",
       "      <td>dio_ECU_Din1</td>\n",
       "      <td>6390821</td>\n",
       "      <td>20221202_134600_omission_and_competition_subje...</td>\n",
       "      <td>7966</td>\n",
       "      <td>1.0</td>\n",
       "      <td>6_1_top_2_base_3</td>\n",
       "      <td>omission</td>\n",
       "      <td>NaN</td>\n",
       "      <td>NaN</td>\n",
       "    </tr>\n",
       "    <tr>\n",
       "      <th>4</th>\n",
       "      <td>12810657</td>\n",
       "      <td>1.0</td>\n",
       "      <td>20221202_134600_omission_and_competition_subje...</td>\n",
       "      <td>20221202_134600_omission_and_competition_subje...</td>\n",
       "      <td>dio_ECU_Din1</td>\n",
       "      <td>7890820</td>\n",
       "      <td>20221202_134600_omission_and_competition_subje...</td>\n",
       "      <td>9836</td>\n",
       "      <td>1.0</td>\n",
       "      <td>6_1_top_2_base_3</td>\n",
       "      <td>rewarded</td>\n",
       "      <td>NaN</td>\n",
       "      <td>NaN</td>\n",
       "    </tr>\n",
       "  </tbody>\n",
       "</table>\n",
       "</div>"
      ],
      "text/plain": [
       "       time  state                                      recording_dir  \\\n",
       "0   6310663    1.0  20221202_134600_omission_and_competition_subje...   \n",
       "1   7910662    1.0  20221202_134600_omission_and_competition_subje...   \n",
       "2   9710660    1.0  20221202_134600_omission_and_competition_subje...   \n",
       "3  11310658    1.0  20221202_134600_omission_and_competition_subje...   \n",
       "4  12810657    1.0  20221202_134600_omission_and_competition_subje...   \n",
       "\n",
       "                                      recording_file           din  \\\n",
       "0  20221202_134600_omission_and_competition_subje...  dio_ECU_Din1   \n",
       "1  20221202_134600_omission_and_competition_subje...  dio_ECU_Din1   \n",
       "2  20221202_134600_omission_and_competition_subje...  dio_ECU_Din1   \n",
       "3  20221202_134600_omission_and_competition_subje...  dio_ECU_Din1   \n",
       "4  20221202_134600_omission_and_competition_subje...  dio_ECU_Din1   \n",
       "\n",
       "   time_stamp_index                                         video_file  \\\n",
       "0           1390826  20221202_134600_omission_and_competition_subje...   \n",
       "1           2990825  20221202_134600_omission_and_competition_subje...   \n",
       "2           4790823  20221202_134600_omission_and_competition_subje...   \n",
       "3           6390821  20221202_134600_omission_and_competition_subje...   \n",
       "4           7890820  20221202_134600_omission_and_competition_subje...   \n",
       "\n",
       "   video_frame  video_number      subject_info condition  \\\n",
       "0         1734           1.0  6_1_top_2_base_3  rewarded   \n",
       "1         3728           1.0  6_1_top_2_base_3  rewarded   \n",
       "2         5972           1.0  6_1_top_2_base_3  rewarded   \n",
       "3         7966           1.0  6_1_top_2_base_3  omission   \n",
       "4         9836           1.0  6_1_top_2_base_3  rewarded   \n",
       "\n",
       "  competition_closeness Unnamed: 13  \n",
       "0                   NaN         NaN  \n",
       "1                   NaN         NaN  \n",
       "2                   NaN         NaN  \n",
       "3                   NaN         NaN  \n",
       "4                   NaN         NaN  "
      ]
     },
     "execution_count": 8,
     "metadata": {},
     "output_type": "execute_result"
    }
   ],
   "source": [
    "all_trials_df.head()"
   ]
  },
  {
   "cell_type": "markdown",
   "metadata": {},
   "source": [
    "- Original timestamps are based on ephys recordings at 20kHz. The LFP will be at 1kHz, so we will need to divide all the timestamps by 20"
   ]
  },
  {
   "cell_type": "code",
   "execution_count": 9,
   "metadata": {},
   "outputs": [],
   "source": [
    "all_trials_df[\"resampled_index\"] = all_trials_df[\"time_stamp_index\"] // 20"
   ]
  },
  {
   "cell_type": "code",
   "execution_count": 10,
   "metadata": {},
   "outputs": [
    {
     "data": {
      "text/plain": [
       "array(['20221202_134600_omission_and_competition_subject_6_1_and_6_2',\n",
       "       '20221203_154800_omission_and_competition_subject_6_4_and_6_1',\n",
       "       '20221214_125409_om_and_comp_6_1_and_6_3',\n",
       "       '20221215_145401_comp_amd_om_6_1_and_6_3',\n",
       "       '20230612_101430_standard_comp_to_training_D1_subj_1-4_and_1-3',\n",
       "       '20230617_115521_standard_comp_to_omission_D1_subj_1-1_and_1-2',\n",
       "       '20230618_100636_standard_comp_to_omission_D2_subj_1-4_and_1-1',\n",
       "       '20230619_115321_standard_comp_to_omission_D3_subj_1-2_and_1-4',\n",
       "       '20230620_114347_standard_comp_to_omission_D4_subj_1-2_and_1-1',\n",
       "       '20230621_111240_standard_comp_to_omission_D5_subj_1-4_and_1-2'],\n",
       "      dtype=object)"
      ]
     },
     "execution_count": 10,
     "metadata": {},
     "output_type": "execute_result"
    }
   ],
   "source": [
    "all_trials_df[\"recording_dir\"].unique()"
   ]
  },
  {
   "cell_type": "markdown",
   "metadata": {},
   "source": [
    "- Getting a list of all the subjects through the recording name"
   ]
  },
  {
   "cell_type": "code",
   "execution_count": 11,
   "metadata": {},
   "outputs": [],
   "source": [
    "all_trials_df[\"all_subjects\"] = all_trials_df[\"recording_dir\"].apply(lambda x: [\"{}.{}\".format(tup[0],tup[1]) for tup in re.findall(r'(\\d+)-(\\d+)', x.replace(\"_\", \"-\"))[1:]])"
   ]
  },
  {
   "cell_type": "code",
   "execution_count": 12,
   "metadata": {
    "scrolled": true
   },
   "outputs": [
    {
     "data": {
      "text/plain": [
       "0    [6.1, 6.2]\n",
       "1    [6.1, 6.2]\n",
       "2    [6.1, 6.2]\n",
       "3    [6.1, 6.2]\n",
       "4    [6.1, 6.2]\n",
       "Name: all_subjects, dtype: object"
      ]
     },
     "execution_count": 12,
     "metadata": {},
     "output_type": "execute_result"
    }
   ],
   "source": [
    "all_trials_df[\"all_subjects\"].head()"
   ]
  },
  {
   "cell_type": "markdown",
   "metadata": {},
   "source": [
    "- Getting the current subject of the recording through the ending of the recording name file"
   ]
  },
  {
   "cell_type": "code",
   "execution_count": 13,
   "metadata": {},
   "outputs": [
    {
     "data": {
      "text/plain": [
       "0    6_1_top_2_base_3\n",
       "1    6_1_top_2_base_3\n",
       "2    6_1_top_2_base_3\n",
       "3    6_1_top_2_base_3\n",
       "4    6_1_top_2_base_3\n",
       "Name: subject_info, dtype: object"
      ]
     },
     "execution_count": 13,
     "metadata": {},
     "output_type": "execute_result"
    }
   ],
   "source": [
    "all_trials_df[\"subject_info\"].head()"
   ]
  },
  {
   "cell_type": "code",
   "execution_count": 14,
   "metadata": {},
   "outputs": [],
   "source": [
    "all_trials_df[\"current_subject\"] = all_trials_df[\"subject_info\"].apply(lambda x: \".\".join(x.replace(\"-\",\"_\").split(\"_\")[:2]))"
   ]
  },
  {
   "cell_type": "code",
   "execution_count": 15,
   "metadata": {},
   "outputs": [
    {
     "data": {
      "text/html": [
       "<div>\n",
       "<style scoped>\n",
       "    .dataframe tbody tr th:only-of-type {\n",
       "        vertical-align: middle;\n",
       "    }\n",
       "\n",
       "    .dataframe tbody tr th {\n",
       "        vertical-align: top;\n",
       "    }\n",
       "\n",
       "    .dataframe thead th {\n",
       "        text-align: right;\n",
       "    }\n",
       "</style>\n",
       "<table border=\"1\" class=\"dataframe\">\n",
       "  <thead>\n",
       "    <tr style=\"text-align: right;\">\n",
       "      <th></th>\n",
       "      <th>time</th>\n",
       "      <th>state</th>\n",
       "      <th>recording_dir</th>\n",
       "      <th>recording_file</th>\n",
       "      <th>din</th>\n",
       "      <th>time_stamp_index</th>\n",
       "      <th>video_file</th>\n",
       "      <th>video_frame</th>\n",
       "      <th>video_number</th>\n",
       "      <th>subject_info</th>\n",
       "      <th>condition</th>\n",
       "      <th>competition_closeness</th>\n",
       "      <th>Unnamed: 13</th>\n",
       "      <th>resampled_index</th>\n",
       "      <th>all_subjects</th>\n",
       "      <th>current_subject</th>\n",
       "    </tr>\n",
       "  </thead>\n",
       "  <tbody>\n",
       "    <tr>\n",
       "      <th>0</th>\n",
       "      <td>6310663</td>\n",
       "      <td>1.0</td>\n",
       "      <td>20221202_134600_omission_and_competition_subje...</td>\n",
       "      <td>20221202_134600_omission_and_competition_subje...</td>\n",
       "      <td>dio_ECU_Din1</td>\n",
       "      <td>1390826</td>\n",
       "      <td>20221202_134600_omission_and_competition_subje...</td>\n",
       "      <td>1734</td>\n",
       "      <td>1.0</td>\n",
       "      <td>6_1_top_2_base_3</td>\n",
       "      <td>rewarded</td>\n",
       "      <td>NaN</td>\n",
       "      <td>NaN</td>\n",
       "      <td>69541</td>\n",
       "      <td>[6.1, 6.2]</td>\n",
       "      <td>6.1</td>\n",
       "    </tr>\n",
       "    <tr>\n",
       "      <th>1</th>\n",
       "      <td>7910662</td>\n",
       "      <td>1.0</td>\n",
       "      <td>20221202_134600_omission_and_competition_subje...</td>\n",
       "      <td>20221202_134600_omission_and_competition_subje...</td>\n",
       "      <td>dio_ECU_Din1</td>\n",
       "      <td>2990825</td>\n",
       "      <td>20221202_134600_omission_and_competition_subje...</td>\n",
       "      <td>3728</td>\n",
       "      <td>1.0</td>\n",
       "      <td>6_1_top_2_base_3</td>\n",
       "      <td>rewarded</td>\n",
       "      <td>NaN</td>\n",
       "      <td>NaN</td>\n",
       "      <td>149541</td>\n",
       "      <td>[6.1, 6.2]</td>\n",
       "      <td>6.1</td>\n",
       "    </tr>\n",
       "    <tr>\n",
       "      <th>2</th>\n",
       "      <td>9710660</td>\n",
       "      <td>1.0</td>\n",
       "      <td>20221202_134600_omission_and_competition_subje...</td>\n",
       "      <td>20221202_134600_omission_and_competition_subje...</td>\n",
       "      <td>dio_ECU_Din1</td>\n",
       "      <td>4790823</td>\n",
       "      <td>20221202_134600_omission_and_competition_subje...</td>\n",
       "      <td>5972</td>\n",
       "      <td>1.0</td>\n",
       "      <td>6_1_top_2_base_3</td>\n",
       "      <td>rewarded</td>\n",
       "      <td>NaN</td>\n",
       "      <td>NaN</td>\n",
       "      <td>239541</td>\n",
       "      <td>[6.1, 6.2]</td>\n",
       "      <td>6.1</td>\n",
       "    </tr>\n",
       "    <tr>\n",
       "      <th>3</th>\n",
       "      <td>11310658</td>\n",
       "      <td>1.0</td>\n",
       "      <td>20221202_134600_omission_and_competition_subje...</td>\n",
       "      <td>20221202_134600_omission_and_competition_subje...</td>\n",
       "      <td>dio_ECU_Din1</td>\n",
       "      <td>6390821</td>\n",
       "      <td>20221202_134600_omission_and_competition_subje...</td>\n",
       "      <td>7966</td>\n",
       "      <td>1.0</td>\n",
       "      <td>6_1_top_2_base_3</td>\n",
       "      <td>omission</td>\n",
       "      <td>NaN</td>\n",
       "      <td>NaN</td>\n",
       "      <td>319541</td>\n",
       "      <td>[6.1, 6.2]</td>\n",
       "      <td>6.1</td>\n",
       "    </tr>\n",
       "    <tr>\n",
       "      <th>4</th>\n",
       "      <td>12810657</td>\n",
       "      <td>1.0</td>\n",
       "      <td>20221202_134600_omission_and_competition_subje...</td>\n",
       "      <td>20221202_134600_omission_and_competition_subje...</td>\n",
       "      <td>dio_ECU_Din1</td>\n",
       "      <td>7890820</td>\n",
       "      <td>20221202_134600_omission_and_competition_subje...</td>\n",
       "      <td>9836</td>\n",
       "      <td>1.0</td>\n",
       "      <td>6_1_top_2_base_3</td>\n",
       "      <td>rewarded</td>\n",
       "      <td>NaN</td>\n",
       "      <td>NaN</td>\n",
       "      <td>394541</td>\n",
       "      <td>[6.1, 6.2]</td>\n",
       "      <td>6.1</td>\n",
       "    </tr>\n",
       "  </tbody>\n",
       "</table>\n",
       "</div>"
      ],
      "text/plain": [
       "       time  state                                      recording_dir  \\\n",
       "0   6310663    1.0  20221202_134600_omission_and_competition_subje...   \n",
       "1   7910662    1.0  20221202_134600_omission_and_competition_subje...   \n",
       "2   9710660    1.0  20221202_134600_omission_and_competition_subje...   \n",
       "3  11310658    1.0  20221202_134600_omission_and_competition_subje...   \n",
       "4  12810657    1.0  20221202_134600_omission_and_competition_subje...   \n",
       "\n",
       "                                      recording_file           din  \\\n",
       "0  20221202_134600_omission_and_competition_subje...  dio_ECU_Din1   \n",
       "1  20221202_134600_omission_and_competition_subje...  dio_ECU_Din1   \n",
       "2  20221202_134600_omission_and_competition_subje...  dio_ECU_Din1   \n",
       "3  20221202_134600_omission_and_competition_subje...  dio_ECU_Din1   \n",
       "4  20221202_134600_omission_and_competition_subje...  dio_ECU_Din1   \n",
       "\n",
       "   time_stamp_index                                         video_file  \\\n",
       "0           1390826  20221202_134600_omission_and_competition_subje...   \n",
       "1           2990825  20221202_134600_omission_and_competition_subje...   \n",
       "2           4790823  20221202_134600_omission_and_competition_subje...   \n",
       "3           6390821  20221202_134600_omission_and_competition_subje...   \n",
       "4           7890820  20221202_134600_omission_and_competition_subje...   \n",
       "\n",
       "   video_frame  video_number      subject_info condition  \\\n",
       "0         1734           1.0  6_1_top_2_base_3  rewarded   \n",
       "1         3728           1.0  6_1_top_2_base_3  rewarded   \n",
       "2         5972           1.0  6_1_top_2_base_3  rewarded   \n",
       "3         7966           1.0  6_1_top_2_base_3  omission   \n",
       "4         9836           1.0  6_1_top_2_base_3  rewarded   \n",
       "\n",
       "  competition_closeness Unnamed: 13  resampled_index all_subjects  \\\n",
       "0                   NaN         NaN            69541   [6.1, 6.2]   \n",
       "1                   NaN         NaN           149541   [6.1, 6.2]   \n",
       "2                   NaN         NaN           239541   [6.1, 6.2]   \n",
       "3                   NaN         NaN           319541   [6.1, 6.2]   \n",
       "4                   NaN         NaN           394541   [6.1, 6.2]   \n",
       "\n",
       "  current_subject  \n",
       "0             6.1  \n",
       "1             6.1  \n",
       "2             6.1  \n",
       "3             6.1  \n",
       "4             6.1  "
      ]
     },
     "execution_count": 15,
     "metadata": {},
     "output_type": "execute_result"
    }
   ],
   "source": [
    "all_trials_df.head()"
   ]
  },
  {
   "cell_type": "markdown",
   "metadata": {},
   "source": [
    "- Labeling the trial as a winner or loser if the winner matches the subject id or not"
   ]
  },
  {
   "cell_type": "code",
   "execution_count": 16,
   "metadata": {},
   "outputs": [],
   "source": [
    "all_trials_df[\"trial_outcome\"] = all_trials_df.apply(\n",
    "    lambda x: \"win\" if str(x[\"condition\"]).strip() == str(x[\"current_subject\"]) \n",
    "             else (\"lose\" if str(x[\"condition\"]) in x[\"all_subjects\"] \n",
    "                   else x[\"condition\"]), axis=1)"
   ]
  },
  {
   "cell_type": "code",
   "execution_count": 17,
   "metadata": {},
   "outputs": [
    {
     "data": {
      "text/html": [
       "<div>\n",
       "<style scoped>\n",
       "    .dataframe tbody tr th:only-of-type {\n",
       "        vertical-align: middle;\n",
       "    }\n",
       "\n",
       "    .dataframe tbody tr th {\n",
       "        vertical-align: top;\n",
       "    }\n",
       "\n",
       "    .dataframe thead th {\n",
       "        text-align: right;\n",
       "    }\n",
       "</style>\n",
       "<table border=\"1\" class=\"dataframe\">\n",
       "  <thead>\n",
       "    <tr style=\"text-align: right;\">\n",
       "      <th></th>\n",
       "      <th>time</th>\n",
       "      <th>state</th>\n",
       "      <th>recording_dir</th>\n",
       "      <th>recording_file</th>\n",
       "      <th>din</th>\n",
       "      <th>time_stamp_index</th>\n",
       "      <th>video_file</th>\n",
       "      <th>video_frame</th>\n",
       "      <th>video_number</th>\n",
       "      <th>subject_info</th>\n",
       "      <th>condition</th>\n",
       "      <th>competition_closeness</th>\n",
       "      <th>Unnamed: 13</th>\n",
       "      <th>resampled_index</th>\n",
       "      <th>all_subjects</th>\n",
       "      <th>current_subject</th>\n",
       "      <th>trial_outcome</th>\n",
       "    </tr>\n",
       "  </thead>\n",
       "  <tbody>\n",
       "    <tr>\n",
       "      <th>0</th>\n",
       "      <td>6310663</td>\n",
       "      <td>1.0</td>\n",
       "      <td>20221202_134600_omission_and_competition_subje...</td>\n",
       "      <td>20221202_134600_omission_and_competition_subje...</td>\n",
       "      <td>dio_ECU_Din1</td>\n",
       "      <td>1390826</td>\n",
       "      <td>20221202_134600_omission_and_competition_subje...</td>\n",
       "      <td>1734</td>\n",
       "      <td>1.0</td>\n",
       "      <td>6_1_top_2_base_3</td>\n",
       "      <td>rewarded</td>\n",
       "      <td>NaN</td>\n",
       "      <td>NaN</td>\n",
       "      <td>69541</td>\n",
       "      <td>[6.1, 6.2]</td>\n",
       "      <td>6.1</td>\n",
       "      <td>rewarded</td>\n",
       "    </tr>\n",
       "    <tr>\n",
       "      <th>1</th>\n",
       "      <td>7910662</td>\n",
       "      <td>1.0</td>\n",
       "      <td>20221202_134600_omission_and_competition_subje...</td>\n",
       "      <td>20221202_134600_omission_and_competition_subje...</td>\n",
       "      <td>dio_ECU_Din1</td>\n",
       "      <td>2990825</td>\n",
       "      <td>20221202_134600_omission_and_competition_subje...</td>\n",
       "      <td>3728</td>\n",
       "      <td>1.0</td>\n",
       "      <td>6_1_top_2_base_3</td>\n",
       "      <td>rewarded</td>\n",
       "      <td>NaN</td>\n",
       "      <td>NaN</td>\n",
       "      <td>149541</td>\n",
       "      <td>[6.1, 6.2]</td>\n",
       "      <td>6.1</td>\n",
       "      <td>rewarded</td>\n",
       "    </tr>\n",
       "    <tr>\n",
       "      <th>2</th>\n",
       "      <td>9710660</td>\n",
       "      <td>1.0</td>\n",
       "      <td>20221202_134600_omission_and_competition_subje...</td>\n",
       "      <td>20221202_134600_omission_and_competition_subje...</td>\n",
       "      <td>dio_ECU_Din1</td>\n",
       "      <td>4790823</td>\n",
       "      <td>20221202_134600_omission_and_competition_subje...</td>\n",
       "      <td>5972</td>\n",
       "      <td>1.0</td>\n",
       "      <td>6_1_top_2_base_3</td>\n",
       "      <td>rewarded</td>\n",
       "      <td>NaN</td>\n",
       "      <td>NaN</td>\n",
       "      <td>239541</td>\n",
       "      <td>[6.1, 6.2]</td>\n",
       "      <td>6.1</td>\n",
       "      <td>rewarded</td>\n",
       "    </tr>\n",
       "    <tr>\n",
       "      <th>3</th>\n",
       "      <td>11310658</td>\n",
       "      <td>1.0</td>\n",
       "      <td>20221202_134600_omission_and_competition_subje...</td>\n",
       "      <td>20221202_134600_omission_and_competition_subje...</td>\n",
       "      <td>dio_ECU_Din1</td>\n",
       "      <td>6390821</td>\n",
       "      <td>20221202_134600_omission_and_competition_subje...</td>\n",
       "      <td>7966</td>\n",
       "      <td>1.0</td>\n",
       "      <td>6_1_top_2_base_3</td>\n",
       "      <td>omission</td>\n",
       "      <td>NaN</td>\n",
       "      <td>NaN</td>\n",
       "      <td>319541</td>\n",
       "      <td>[6.1, 6.2]</td>\n",
       "      <td>6.1</td>\n",
       "      <td>omission</td>\n",
       "    </tr>\n",
       "    <tr>\n",
       "      <th>4</th>\n",
       "      <td>12810657</td>\n",
       "      <td>1.0</td>\n",
       "      <td>20221202_134600_omission_and_competition_subje...</td>\n",
       "      <td>20221202_134600_omission_and_competition_subje...</td>\n",
       "      <td>dio_ECU_Din1</td>\n",
       "      <td>7890820</td>\n",
       "      <td>20221202_134600_omission_and_competition_subje...</td>\n",
       "      <td>9836</td>\n",
       "      <td>1.0</td>\n",
       "      <td>6_1_top_2_base_3</td>\n",
       "      <td>rewarded</td>\n",
       "      <td>NaN</td>\n",
       "      <td>NaN</td>\n",
       "      <td>394541</td>\n",
       "      <td>[6.1, 6.2]</td>\n",
       "      <td>6.1</td>\n",
       "      <td>rewarded</td>\n",
       "    </tr>\n",
       "  </tbody>\n",
       "</table>\n",
       "</div>"
      ],
      "text/plain": [
       "       time  state                                      recording_dir  \\\n",
       "0   6310663    1.0  20221202_134600_omission_and_competition_subje...   \n",
       "1   7910662    1.0  20221202_134600_omission_and_competition_subje...   \n",
       "2   9710660    1.0  20221202_134600_omission_and_competition_subje...   \n",
       "3  11310658    1.0  20221202_134600_omission_and_competition_subje...   \n",
       "4  12810657    1.0  20221202_134600_omission_and_competition_subje...   \n",
       "\n",
       "                                      recording_file           din  \\\n",
       "0  20221202_134600_omission_and_competition_subje...  dio_ECU_Din1   \n",
       "1  20221202_134600_omission_and_competition_subje...  dio_ECU_Din1   \n",
       "2  20221202_134600_omission_and_competition_subje...  dio_ECU_Din1   \n",
       "3  20221202_134600_omission_and_competition_subje...  dio_ECU_Din1   \n",
       "4  20221202_134600_omission_and_competition_subje...  dio_ECU_Din1   \n",
       "\n",
       "   time_stamp_index                                         video_file  \\\n",
       "0           1390826  20221202_134600_omission_and_competition_subje...   \n",
       "1           2990825  20221202_134600_omission_and_competition_subje...   \n",
       "2           4790823  20221202_134600_omission_and_competition_subje...   \n",
       "3           6390821  20221202_134600_omission_and_competition_subje...   \n",
       "4           7890820  20221202_134600_omission_and_competition_subje...   \n",
       "\n",
       "   video_frame  video_number      subject_info condition  \\\n",
       "0         1734           1.0  6_1_top_2_base_3  rewarded   \n",
       "1         3728           1.0  6_1_top_2_base_3  rewarded   \n",
       "2         5972           1.0  6_1_top_2_base_3  rewarded   \n",
       "3         7966           1.0  6_1_top_2_base_3  omission   \n",
       "4         9836           1.0  6_1_top_2_base_3  rewarded   \n",
       "\n",
       "  competition_closeness Unnamed: 13  resampled_index all_subjects  \\\n",
       "0                   NaN         NaN            69541   [6.1, 6.2]   \n",
       "1                   NaN         NaN           149541   [6.1, 6.2]   \n",
       "2                   NaN         NaN           239541   [6.1, 6.2]   \n",
       "3                   NaN         NaN           319541   [6.1, 6.2]   \n",
       "4                   NaN         NaN           394541   [6.1, 6.2]   \n",
       "\n",
       "  current_subject trial_outcome  \n",
       "0             6.1      rewarded  \n",
       "1             6.1      rewarded  \n",
       "2             6.1      rewarded  \n",
       "3             6.1      omission  \n",
       "4             6.1      rewarded  "
      ]
     },
     "execution_count": 17,
     "metadata": {},
     "output_type": "execute_result"
    }
   ],
   "source": [
    "all_trials_df.head()"
   ]
  },
  {
   "cell_type": "markdown",
   "metadata": {},
   "source": [
    "# Reading in Phy"
   ]
  },
  {
   "cell_type": "markdown",
   "metadata": {},
   "source": [
    "- Reading in a spreadsheet of all the unit classifications\n",
    "    - They are divided up into good units, multi-units, and noise"
   ]
  },
  {
   "cell_type": "code",
   "execution_count": 18,
   "metadata": {},
   "outputs": [
    {
     "data": {
      "text/plain": [
       "['/scratch/back_up/reward_competition_extention/proc/phy_curation/tbc',\n",
       " '/scratch/back_up/reward_competition_extention/proc/phy_curation/20230620_114347_standard_comp_to_omission_D4_subj_1-1_t1b2L_box_2_merged.rec',\n",
       " '/scratch/back_up/reward_competition_extention/proc/phy_curation/20230620_114347_standard_comp_to_omission_D4_subj_1-2_t3b3L_box_1_merged.rec',\n",
       " '/scratch/back_up/reward_competition_extention/proc/phy_curation/20230619_115321_standard_comp_to_omission_D3_subj_1-4_t3b3L_box2_merged.rec']"
      ]
     },
     "execution_count": 18,
     "metadata": {},
     "output_type": "execute_result"
    }
   ],
   "source": [
    "INPUT_DIR"
   ]
  },
  {
   "cell_type": "code",
   "execution_count": 19,
   "metadata": {
    "scrolled": true
   },
   "outputs": [
    {
     "name": "stdout",
     "output_type": "stream",
     "text": [
      "[Errno 2] No such file or directory: '/scratch/back_up/reward_competition_extention/proc/phy_curation/tbc/phy/cluster_info.tsv'\n"
     ]
    }
   ],
   "source": [
    "recording_to_cluster_info = {}\n",
    "for recording_dir in INPUT_DIR:\n",
    "    try:\n",
    "        recording_basename = os.path.basename(recording_dir).strip(\".rec\")\n",
    "        file_path = os.path.join(recording_dir, \"phy\", \"cluster_info.tsv\")\n",
    "        recording_to_cluster_info[recording_basename] = pd.read_csv(file_path, sep=\"\\t\")\n",
    "    except Exception as e:\n",
    "        print(e)"
   ]
  },
  {
   "cell_type": "code",
   "execution_count": 20,
   "metadata": {},
   "outputs": [
    {
     "data": {
      "text/html": [
       "<div>\n",
       "<style scoped>\n",
       "    .dataframe tbody tr th:only-of-type {\n",
       "        vertical-align: middle;\n",
       "    }\n",
       "\n",
       "    .dataframe tbody tr th {\n",
       "        vertical-align: top;\n",
       "    }\n",
       "\n",
       "    .dataframe thead th {\n",
       "        text-align: right;\n",
       "    }\n",
       "</style>\n",
       "<table border=\"1\" class=\"dataframe\">\n",
       "  <thead>\n",
       "    <tr style=\"text-align: right;\">\n",
       "      <th></th>\n",
       "      <th>cluster_id</th>\n",
       "      <th>1_5_ms_isi</th>\n",
       "      <th>1ms_isi</th>\n",
       "      <th>2ms_isi</th>\n",
       "      <th>amp</th>\n",
       "      <th>ch</th>\n",
       "      <th>channel_group</th>\n",
       "      <th>depth</th>\n",
       "      <th>fr</th>\n",
       "      <th>group</th>\n",
       "      <th>n_spikes</th>\n",
       "      <th>sh</th>\n",
       "      <th>si_unit_id</th>\n",
       "    </tr>\n",
       "  </thead>\n",
       "  <tbody>\n",
       "    <tr>\n",
       "      <th>0</th>\n",
       "      <td>2</td>\n",
       "      <td>0</td>\n",
       "      <td>0</td>\n",
       "      <td>0</td>\n",
       "      <td>24.692951</td>\n",
       "      <td>1</td>\n",
       "      <td>0.0</td>\n",
       "      <td>20.0</td>\n",
       "      <td>1.070175</td>\n",
       "      <td>good</td>\n",
       "      <td>3658</td>\n",
       "      <td>0</td>\n",
       "      <td>3.0</td>\n",
       "    </tr>\n",
       "    <tr>\n",
       "      <th>1</th>\n",
       "      <td>3</td>\n",
       "      <td>235</td>\n",
       "      <td>106</td>\n",
       "      <td>472</td>\n",
       "      <td>10.347874</td>\n",
       "      <td>1</td>\n",
       "      <td>0.0</td>\n",
       "      <td>20.0</td>\n",
       "      <td>14.493880</td>\n",
       "      <td>mua</td>\n",
       "      <td>49542</td>\n",
       "      <td>0</td>\n",
       "      <td>4.0</td>\n",
       "    </tr>\n",
       "    <tr>\n",
       "      <th>2</th>\n",
       "      <td>4</td>\n",
       "      <td>64</td>\n",
       "      <td>25</td>\n",
       "      <td>149</td>\n",
       "      <td>11.953332</td>\n",
       "      <td>4</td>\n",
       "      <td>0.0</td>\n",
       "      <td>80.0</td>\n",
       "      <td>27.163371</td>\n",
       "      <td>mua</td>\n",
       "      <td>92848</td>\n",
       "      <td>0</td>\n",
       "      <td>5.0</td>\n",
       "    </tr>\n",
       "    <tr>\n",
       "      <th>3</th>\n",
       "      <td>10</td>\n",
       "      <td>69</td>\n",
       "      <td>29</td>\n",
       "      <td>194</td>\n",
       "      <td>10.297276</td>\n",
       "      <td>18</td>\n",
       "      <td>0.0</td>\n",
       "      <td>360.0</td>\n",
       "      <td>6.455279</td>\n",
       "      <td>mua</td>\n",
       "      <td>22065</td>\n",
       "      <td>0</td>\n",
       "      <td>12.0</td>\n",
       "    </tr>\n",
       "    <tr>\n",
       "      <th>4</th>\n",
       "      <td>11</td>\n",
       "      <td>619</td>\n",
       "      <td>261</td>\n",
       "      <td>1295</td>\n",
       "      <td>9.638424</td>\n",
       "      <td>19</td>\n",
       "      <td>0.0</td>\n",
       "      <td>380.0</td>\n",
       "      <td>18.195901</td>\n",
       "      <td>mua</td>\n",
       "      <td>62196</td>\n",
       "      <td>0</td>\n",
       "      <td>13.0</td>\n",
       "    </tr>\n",
       "    <tr>\n",
       "      <th>5</th>\n",
       "      <td>17</td>\n",
       "      <td>65</td>\n",
       "      <td>37</td>\n",
       "      <td>141</td>\n",
       "      <td>10.680766</td>\n",
       "      <td>24</td>\n",
       "      <td>0.0</td>\n",
       "      <td>480.0</td>\n",
       "      <td>6.339427</td>\n",
       "      <td>mua</td>\n",
       "      <td>21669</td>\n",
       "      <td>0</td>\n",
       "      <td>19.0</td>\n",
       "    </tr>\n",
       "    <tr>\n",
       "      <th>6</th>\n",
       "      <td>18</td>\n",
       "      <td>3</td>\n",
       "      <td>0</td>\n",
       "      <td>21</td>\n",
       "      <td>13.899227</td>\n",
       "      <td>24</td>\n",
       "      <td>0.0</td>\n",
       "      <td>480.0</td>\n",
       "      <td>3.850641</td>\n",
       "      <td>mua</td>\n",
       "      <td>13162</td>\n",
       "      <td>0</td>\n",
       "      <td>20.0</td>\n",
       "    </tr>\n",
       "    <tr>\n",
       "      <th>7</th>\n",
       "      <td>20</td>\n",
       "      <td>0</td>\n",
       "      <td>0</td>\n",
       "      <td>0</td>\n",
       "      <td>19.467382</td>\n",
       "      <td>11</td>\n",
       "      <td>0.0</td>\n",
       "      <td>220.0</td>\n",
       "      <td>0.739585</td>\n",
       "      <td>good</td>\n",
       "      <td>2528</td>\n",
       "      <td>0</td>\n",
       "      <td>7.0</td>\n",
       "    </tr>\n",
       "    <tr>\n",
       "      <th>8</th>\n",
       "      <td>21</td>\n",
       "      <td>0</td>\n",
       "      <td>0</td>\n",
       "      <td>0</td>\n",
       "      <td>19.467382</td>\n",
       "      <td>11</td>\n",
       "      <td>0.0</td>\n",
       "      <td>220.0</td>\n",
       "      <td>0.078698</td>\n",
       "      <td>mua</td>\n",
       "      <td>269</td>\n",
       "      <td>0</td>\n",
       "      <td>7.0</td>\n",
       "    </tr>\n",
       "    <tr>\n",
       "      <th>9</th>\n",
       "      <td>22</td>\n",
       "      <td>0</td>\n",
       "      <td>0</td>\n",
       "      <td>0</td>\n",
       "      <td>21.967876</td>\n",
       "      <td>13</td>\n",
       "      <td>0.0</td>\n",
       "      <td>260.0</td>\n",
       "      <td>0.465459</td>\n",
       "      <td>good</td>\n",
       "      <td>1591</td>\n",
       "      <td>0</td>\n",
       "      <td>8.0</td>\n",
       "    </tr>\n",
       "    <tr>\n",
       "      <th>10</th>\n",
       "      <td>23</td>\n",
       "      <td>0</td>\n",
       "      <td>0</td>\n",
       "      <td>0</td>\n",
       "      <td>21.967876</td>\n",
       "      <td>13</td>\n",
       "      <td>0.0</td>\n",
       "      <td>260.0</td>\n",
       "      <td>0.156518</td>\n",
       "      <td>mua</td>\n",
       "      <td>535</td>\n",
       "      <td>0</td>\n",
       "      <td>8.0</td>\n",
       "    </tr>\n",
       "    <tr>\n",
       "      <th>11</th>\n",
       "      <td>34</td>\n",
       "      <td>0</td>\n",
       "      <td>0</td>\n",
       "      <td>0</td>\n",
       "      <td>23.960157</td>\n",
       "      <td>22</td>\n",
       "      <td>0.0</td>\n",
       "      <td>440.0</td>\n",
       "      <td>0.402266</td>\n",
       "      <td>good</td>\n",
       "      <td>1375</td>\n",
       "      <td>0</td>\n",
       "      <td>17.0</td>\n",
       "    </tr>\n",
       "    <tr>\n",
       "      <th>12</th>\n",
       "      <td>35</td>\n",
       "      <td>0</td>\n",
       "      <td>0</td>\n",
       "      <td>0</td>\n",
       "      <td>23.960157</td>\n",
       "      <td>22</td>\n",
       "      <td>0.0</td>\n",
       "      <td>440.0</td>\n",
       "      <td>0.130481</td>\n",
       "      <td>mua</td>\n",
       "      <td>446</td>\n",
       "      <td>0</td>\n",
       "      <td>17.0</td>\n",
       "    </tr>\n",
       "    <tr>\n",
       "      <th>13</th>\n",
       "      <td>49</td>\n",
       "      <td>0</td>\n",
       "      <td>0</td>\n",
       "      <td>0</td>\n",
       "      <td>17.238409</td>\n",
       "      <td>26</td>\n",
       "      <td>0.0</td>\n",
       "      <td>520.0</td>\n",
       "      <td>0.002340</td>\n",
       "      <td>noise</td>\n",
       "      <td>8</td>\n",
       "      <td>0</td>\n",
       "      <td>21.0</td>\n",
       "    </tr>\n",
       "    <tr>\n",
       "      <th>14</th>\n",
       "      <td>56</td>\n",
       "      <td>855</td>\n",
       "      <td>441</td>\n",
       "      <td>1774</td>\n",
       "      <td>9.644358</td>\n",
       "      <td>0</td>\n",
       "      <td>NaN</td>\n",
       "      <td>0.0</td>\n",
       "      <td>20.080556</td>\n",
       "      <td>mua</td>\n",
       "      <td>68638</td>\n",
       "      <td>0</td>\n",
       "      <td>NaN</td>\n",
       "    </tr>\n",
       "    <tr>\n",
       "      <th>15</th>\n",
       "      <td>57</td>\n",
       "      <td>2</td>\n",
       "      <td>0</td>\n",
       "      <td>7</td>\n",
       "      <td>22.906088</td>\n",
       "      <td>0</td>\n",
       "      <td>NaN</td>\n",
       "      <td>0.0</td>\n",
       "      <td>2.406577</td>\n",
       "      <td>good</td>\n",
       "      <td>8226</td>\n",
       "      <td>0</td>\n",
       "      <td>NaN</td>\n",
       "    </tr>\n",
       "    <tr>\n",
       "      <th>16</th>\n",
       "      <td>60</td>\n",
       "      <td>0</td>\n",
       "      <td>0</td>\n",
       "      <td>0</td>\n",
       "      <td>26.088383</td>\n",
       "      <td>5</td>\n",
       "      <td>0.0</td>\n",
       "      <td>100.0</td>\n",
       "      <td>3.265818</td>\n",
       "      <td>good</td>\n",
       "      <td>11163</td>\n",
       "      <td>0</td>\n",
       "      <td>6.0</td>\n",
       "    </tr>\n",
       "    <tr>\n",
       "      <th>17</th>\n",
       "      <td>61</td>\n",
       "      <td>0</td>\n",
       "      <td>0</td>\n",
       "      <td>0</td>\n",
       "      <td>26.088383</td>\n",
       "      <td>5</td>\n",
       "      <td>0.0</td>\n",
       "      <td>100.0</td>\n",
       "      <td>0.176120</td>\n",
       "      <td>mua</td>\n",
       "      <td>602</td>\n",
       "      <td>0</td>\n",
       "      <td>6.0</td>\n",
       "    </tr>\n",
       "    <tr>\n",
       "      <th>18</th>\n",
       "      <td>64</td>\n",
       "      <td>4</td>\n",
       "      <td>1</td>\n",
       "      <td>12</td>\n",
       "      <td>10.794415</td>\n",
       "      <td>14</td>\n",
       "      <td>0.0</td>\n",
       "      <td>280.0</td>\n",
       "      <td>7.735803</td>\n",
       "      <td>good</td>\n",
       "      <td>26442</td>\n",
       "      <td>0</td>\n",
       "      <td>9.0</td>\n",
       "    </tr>\n",
       "    <tr>\n",
       "      <th>19</th>\n",
       "      <td>65</td>\n",
       "      <td>1</td>\n",
       "      <td>0</td>\n",
       "      <td>11</td>\n",
       "      <td>8.365023</td>\n",
       "      <td>14</td>\n",
       "      <td>0.0</td>\n",
       "      <td>280.0</td>\n",
       "      <td>2.020402</td>\n",
       "      <td>mua</td>\n",
       "      <td>6906</td>\n",
       "      <td>0</td>\n",
       "      <td>9.0</td>\n",
       "    </tr>\n",
       "    <tr>\n",
       "      <th>20</th>\n",
       "      <td>70</td>\n",
       "      <td>1</td>\n",
       "      <td>0</td>\n",
       "      <td>4</td>\n",
       "      <td>9.095772</td>\n",
       "      <td>20</td>\n",
       "      <td>0.0</td>\n",
       "      <td>400.0</td>\n",
       "      <td>0.615248</td>\n",
       "      <td>mua</td>\n",
       "      <td>2103</td>\n",
       "      <td>0</td>\n",
       "      <td>15.0</td>\n",
       "    </tr>\n",
       "    <tr>\n",
       "      <th>21</th>\n",
       "      <td>71</td>\n",
       "      <td>0</td>\n",
       "      <td>0</td>\n",
       "      <td>9</td>\n",
       "      <td>9.095772</td>\n",
       "      <td>20</td>\n",
       "      <td>0.0</td>\n",
       "      <td>400.0</td>\n",
       "      <td>0.678441</td>\n",
       "      <td>mua</td>\n",
       "      <td>2319</td>\n",
       "      <td>0</td>\n",
       "      <td>15.0</td>\n",
       "    </tr>\n",
       "    <tr>\n",
       "      <th>22</th>\n",
       "      <td>85</td>\n",
       "      <td>0</td>\n",
       "      <td>0</td>\n",
       "      <td>3</td>\n",
       "      <td>14.854889</td>\n",
       "      <td>21</td>\n",
       "      <td>0.0</td>\n",
       "      <td>420.0</td>\n",
       "      <td>0.994988</td>\n",
       "      <td>good</td>\n",
       "      <td>3401</td>\n",
       "      <td>0</td>\n",
       "      <td>16.0</td>\n",
       "    </tr>\n",
       "    <tr>\n",
       "      <th>23</th>\n",
       "      <td>86</td>\n",
       "      <td>0</td>\n",
       "      <td>0</td>\n",
       "      <td>0</td>\n",
       "      <td>14.854889</td>\n",
       "      <td>21</td>\n",
       "      <td>0.0</td>\n",
       "      <td>420.0</td>\n",
       "      <td>0.016091</td>\n",
       "      <td>mua</td>\n",
       "      <td>55</td>\n",
       "      <td>0</td>\n",
       "      <td>16.0</td>\n",
       "    </tr>\n",
       "    <tr>\n",
       "      <th>24</th>\n",
       "      <td>87</td>\n",
       "      <td>82</td>\n",
       "      <td>34</td>\n",
       "      <td>187</td>\n",
       "      <td>11.040359</td>\n",
       "      <td>23</td>\n",
       "      <td>0.0</td>\n",
       "      <td>460.0</td>\n",
       "      <td>7.964291</td>\n",
       "      <td>mua</td>\n",
       "      <td>27223</td>\n",
       "      <td>0</td>\n",
       "      <td>18.0</td>\n",
       "    </tr>\n",
       "    <tr>\n",
       "      <th>25</th>\n",
       "      <td>89</td>\n",
       "      <td>11</td>\n",
       "      <td>11</td>\n",
       "      <td>13</td>\n",
       "      <td>17.238409</td>\n",
       "      <td>26</td>\n",
       "      <td>0.0</td>\n",
       "      <td>520.0</td>\n",
       "      <td>15.528948</td>\n",
       "      <td>good</td>\n",
       "      <td>53080</td>\n",
       "      <td>0</td>\n",
       "      <td>21.0</td>\n",
       "    </tr>\n",
       "    <tr>\n",
       "      <th>26</th>\n",
       "      <td>90</td>\n",
       "      <td>0</td>\n",
       "      <td>0</td>\n",
       "      <td>1</td>\n",
       "      <td>17.238409</td>\n",
       "      <td>26</td>\n",
       "      <td>0.0</td>\n",
       "      <td>520.0</td>\n",
       "      <td>0.479209</td>\n",
       "      <td>good</td>\n",
       "      <td>1638</td>\n",
       "      <td>0</td>\n",
       "      <td>21.0</td>\n",
       "    </tr>\n",
       "    <tr>\n",
       "      <th>27</th>\n",
       "      <td>93</td>\n",
       "      <td>0</td>\n",
       "      <td>0</td>\n",
       "      <td>0</td>\n",
       "      <td>9.095772</td>\n",
       "      <td>20</td>\n",
       "      <td>0.0</td>\n",
       "      <td>400.0</td>\n",
       "      <td>0.397878</td>\n",
       "      <td>good</td>\n",
       "      <td>1360</td>\n",
       "      <td>0</td>\n",
       "      <td>15.0</td>\n",
       "    </tr>\n",
       "    <tr>\n",
       "      <th>28</th>\n",
       "      <td>94</td>\n",
       "      <td>1</td>\n",
       "      <td>0</td>\n",
       "      <td>1</td>\n",
       "      <td>22.982307</td>\n",
       "      <td>20</td>\n",
       "      <td>0.0</td>\n",
       "      <td>400.0</td>\n",
       "      <td>0.664105</td>\n",
       "      <td>good</td>\n",
       "      <td>2270</td>\n",
       "      <td>0</td>\n",
       "      <td>15.0</td>\n",
       "    </tr>\n",
       "  </tbody>\n",
       "</table>\n",
       "</div>"
      ],
      "text/plain": [
       "    cluster_id  1_5_ms_isi  1ms_isi  2ms_isi        amp  ch  channel_group  \\\n",
       "0            2           0        0        0  24.692951   1            0.0   \n",
       "1            3         235      106      472  10.347874   1            0.0   \n",
       "2            4          64       25      149  11.953332   4            0.0   \n",
       "3           10          69       29      194  10.297276  18            0.0   \n",
       "4           11         619      261     1295   9.638424  19            0.0   \n",
       "5           17          65       37      141  10.680766  24            0.0   \n",
       "6           18           3        0       21  13.899227  24            0.0   \n",
       "7           20           0        0        0  19.467382  11            0.0   \n",
       "8           21           0        0        0  19.467382  11            0.0   \n",
       "9           22           0        0        0  21.967876  13            0.0   \n",
       "10          23           0        0        0  21.967876  13            0.0   \n",
       "11          34           0        0        0  23.960157  22            0.0   \n",
       "12          35           0        0        0  23.960157  22            0.0   \n",
       "13          49           0        0        0  17.238409  26            0.0   \n",
       "14          56         855      441     1774   9.644358   0            NaN   \n",
       "15          57           2        0        7  22.906088   0            NaN   \n",
       "16          60           0        0        0  26.088383   5            0.0   \n",
       "17          61           0        0        0  26.088383   5            0.0   \n",
       "18          64           4        1       12  10.794415  14            0.0   \n",
       "19          65           1        0       11   8.365023  14            0.0   \n",
       "20          70           1        0        4   9.095772  20            0.0   \n",
       "21          71           0        0        9   9.095772  20            0.0   \n",
       "22          85           0        0        3  14.854889  21            0.0   \n",
       "23          86           0        0        0  14.854889  21            0.0   \n",
       "24          87          82       34      187  11.040359  23            0.0   \n",
       "25          89          11       11       13  17.238409  26            0.0   \n",
       "26          90           0        0        1  17.238409  26            0.0   \n",
       "27          93           0        0        0   9.095772  20            0.0   \n",
       "28          94           1        0        1  22.982307  20            0.0   \n",
       "\n",
       "    depth         fr  group  n_spikes  sh  si_unit_id  \n",
       "0    20.0   1.070175   good      3658   0         3.0  \n",
       "1    20.0  14.493880    mua     49542   0         4.0  \n",
       "2    80.0  27.163371    mua     92848   0         5.0  \n",
       "3   360.0   6.455279    mua     22065   0        12.0  \n",
       "4   380.0  18.195901    mua     62196   0        13.0  \n",
       "5   480.0   6.339427    mua     21669   0        19.0  \n",
       "6   480.0   3.850641    mua     13162   0        20.0  \n",
       "7   220.0   0.739585   good      2528   0         7.0  \n",
       "8   220.0   0.078698    mua       269   0         7.0  \n",
       "9   260.0   0.465459   good      1591   0         8.0  \n",
       "10  260.0   0.156518    mua       535   0         8.0  \n",
       "11  440.0   0.402266   good      1375   0        17.0  \n",
       "12  440.0   0.130481    mua       446   0        17.0  \n",
       "13  520.0   0.002340  noise         8   0        21.0  \n",
       "14    0.0  20.080556    mua     68638   0         NaN  \n",
       "15    0.0   2.406577   good      8226   0         NaN  \n",
       "16  100.0   3.265818   good     11163   0         6.0  \n",
       "17  100.0   0.176120    mua       602   0         6.0  \n",
       "18  280.0   7.735803   good     26442   0         9.0  \n",
       "19  280.0   2.020402    mua      6906   0         9.0  \n",
       "20  400.0   0.615248    mua      2103   0        15.0  \n",
       "21  400.0   0.678441    mua      2319   0        15.0  \n",
       "22  420.0   0.994988   good      3401   0        16.0  \n",
       "23  420.0   0.016091    mua        55   0        16.0  \n",
       "24  460.0   7.964291    mua     27223   0        18.0  \n",
       "25  520.0  15.528948   good     53080   0        21.0  \n",
       "26  520.0   0.479209   good      1638   0        21.0  \n",
       "27  400.0   0.397878   good      1360   0        15.0  \n",
       "28  400.0   0.664105   good      2270   0        15.0  "
      ]
     },
     "execution_count": 20,
     "metadata": {},
     "output_type": "execute_result"
    }
   ],
   "source": [
    "recording_to_cluster_info[list(recording_to_cluster_info.keys())[0]]"
   ]
  },
  {
   "cell_type": "markdown",
   "metadata": {},
   "source": [
    "- Combining all the unit info dataframes and adding the recording name"
   ]
  },
  {
   "cell_type": "code",
   "execution_count": 21,
   "metadata": {},
   "outputs": [],
   "source": [
    "recording_to_cluster_info_df = pd.concat(recording_to_cluster_info, names=['recording_name']).reset_index(level=1, drop=True).reset_index()\n"
   ]
  },
  {
   "cell_type": "code",
   "execution_count": 22,
   "metadata": {},
   "outputs": [
    {
     "data": {
      "text/html": [
       "<div>\n",
       "<style scoped>\n",
       "    .dataframe tbody tr th:only-of-type {\n",
       "        vertical-align: middle;\n",
       "    }\n",
       "\n",
       "    .dataframe tbody tr th {\n",
       "        vertical-align: top;\n",
       "    }\n",
       "\n",
       "    .dataframe thead th {\n",
       "        text-align: right;\n",
       "    }\n",
       "</style>\n",
       "<table border=\"1\" class=\"dataframe\">\n",
       "  <thead>\n",
       "    <tr style=\"text-align: right;\">\n",
       "      <th></th>\n",
       "      <th>recording_name</th>\n",
       "      <th>cluster_id</th>\n",
       "      <th>1_5_ms_isi</th>\n",
       "      <th>1ms_isi</th>\n",
       "      <th>2ms_isi</th>\n",
       "      <th>amp</th>\n",
       "      <th>ch</th>\n",
       "      <th>channel_group</th>\n",
       "      <th>depth</th>\n",
       "      <th>fr</th>\n",
       "      <th>group</th>\n",
       "      <th>n_spikes</th>\n",
       "      <th>sh</th>\n",
       "      <th>si_unit_id</th>\n",
       "    </tr>\n",
       "  </thead>\n",
       "  <tbody>\n",
       "    <tr>\n",
       "      <th>0</th>\n",
       "      <td>20230620_114347_standard_comp_to_omission_D4_s...</td>\n",
       "      <td>2</td>\n",
       "      <td>0</td>\n",
       "      <td>0</td>\n",
       "      <td>0</td>\n",
       "      <td>24.692951</td>\n",
       "      <td>1</td>\n",
       "      <td>0.0</td>\n",
       "      <td>20.0</td>\n",
       "      <td>1.070175</td>\n",
       "      <td>good</td>\n",
       "      <td>3658</td>\n",
       "      <td>0</td>\n",
       "      <td>3.0</td>\n",
       "    </tr>\n",
       "    <tr>\n",
       "      <th>1</th>\n",
       "      <td>20230620_114347_standard_comp_to_omission_D4_s...</td>\n",
       "      <td>3</td>\n",
       "      <td>235</td>\n",
       "      <td>106</td>\n",
       "      <td>472</td>\n",
       "      <td>10.347874</td>\n",
       "      <td>1</td>\n",
       "      <td>0.0</td>\n",
       "      <td>20.0</td>\n",
       "      <td>14.493880</td>\n",
       "      <td>mua</td>\n",
       "      <td>49542</td>\n",
       "      <td>0</td>\n",
       "      <td>4.0</td>\n",
       "    </tr>\n",
       "    <tr>\n",
       "      <th>2</th>\n",
       "      <td>20230620_114347_standard_comp_to_omission_D4_s...</td>\n",
       "      <td>4</td>\n",
       "      <td>64</td>\n",
       "      <td>25</td>\n",
       "      <td>149</td>\n",
       "      <td>11.953332</td>\n",
       "      <td>4</td>\n",
       "      <td>0.0</td>\n",
       "      <td>80.0</td>\n",
       "      <td>27.163371</td>\n",
       "      <td>mua</td>\n",
       "      <td>92848</td>\n",
       "      <td>0</td>\n",
       "      <td>5.0</td>\n",
       "    </tr>\n",
       "    <tr>\n",
       "      <th>3</th>\n",
       "      <td>20230620_114347_standard_comp_to_omission_D4_s...</td>\n",
       "      <td>10</td>\n",
       "      <td>69</td>\n",
       "      <td>29</td>\n",
       "      <td>194</td>\n",
       "      <td>10.297276</td>\n",
       "      <td>18</td>\n",
       "      <td>0.0</td>\n",
       "      <td>360.0</td>\n",
       "      <td>6.455279</td>\n",
       "      <td>mua</td>\n",
       "      <td>22065</td>\n",
       "      <td>0</td>\n",
       "      <td>12.0</td>\n",
       "    </tr>\n",
       "    <tr>\n",
       "      <th>4</th>\n",
       "      <td>20230620_114347_standard_comp_to_omission_D4_s...</td>\n",
       "      <td>11</td>\n",
       "      <td>619</td>\n",
       "      <td>261</td>\n",
       "      <td>1295</td>\n",
       "      <td>9.638424</td>\n",
       "      <td>19</td>\n",
       "      <td>0.0</td>\n",
       "      <td>380.0</td>\n",
       "      <td>18.195901</td>\n",
       "      <td>mua</td>\n",
       "      <td>62196</td>\n",
       "      <td>0</td>\n",
       "      <td>13.0</td>\n",
       "    </tr>\n",
       "  </tbody>\n",
       "</table>\n",
       "</div>"
      ],
      "text/plain": [
       "                                      recording_name  cluster_id  1_5_ms_isi  \\\n",
       "0  20230620_114347_standard_comp_to_omission_D4_s...           2           0   \n",
       "1  20230620_114347_standard_comp_to_omission_D4_s...           3         235   \n",
       "2  20230620_114347_standard_comp_to_omission_D4_s...           4          64   \n",
       "3  20230620_114347_standard_comp_to_omission_D4_s...          10          69   \n",
       "4  20230620_114347_standard_comp_to_omission_D4_s...          11         619   \n",
       "\n",
       "   1ms_isi  2ms_isi        amp  ch  channel_group  depth         fr group  \\\n",
       "0        0        0  24.692951   1            0.0   20.0   1.070175  good   \n",
       "1      106      472  10.347874   1            0.0   20.0  14.493880   mua   \n",
       "2       25      149  11.953332   4            0.0   80.0  27.163371   mua   \n",
       "3       29      194  10.297276  18            0.0  360.0   6.455279   mua   \n",
       "4      261     1295   9.638424  19            0.0  380.0  18.195901   mua   \n",
       "\n",
       "   n_spikes  sh  si_unit_id  \n",
       "0      3658   0         3.0  \n",
       "1     49542   0         4.0  \n",
       "2     92848   0         5.0  \n",
       "3     22065   0        12.0  \n",
       "4     62196   0        13.0  "
      ]
     },
     "execution_count": 22,
     "metadata": {},
     "output_type": "execute_result"
    }
   ],
   "source": [
    "recording_to_cluster_info_df.head()"
   ]
  },
  {
   "cell_type": "markdown",
   "metadata": {},
   "source": [
    "- Filtering for the good units"
   ]
  },
  {
   "cell_type": "code",
   "execution_count": 23,
   "metadata": {},
   "outputs": [],
   "source": [
    "good_unit_cluster_info_df = recording_to_cluster_info_df[recording_to_cluster_info_df[\"group\"] == \"good\"].reset_index(drop=True)"
   ]
  },
  {
   "cell_type": "code",
   "execution_count": 24,
   "metadata": {},
   "outputs": [
    {
     "data": {
      "text/html": [
       "<div>\n",
       "<style scoped>\n",
       "    .dataframe tbody tr th:only-of-type {\n",
       "        vertical-align: middle;\n",
       "    }\n",
       "\n",
       "    .dataframe tbody tr th {\n",
       "        vertical-align: top;\n",
       "    }\n",
       "\n",
       "    .dataframe thead th {\n",
       "        text-align: right;\n",
       "    }\n",
       "</style>\n",
       "<table border=\"1\" class=\"dataframe\">\n",
       "  <thead>\n",
       "    <tr style=\"text-align: right;\">\n",
       "      <th></th>\n",
       "      <th>recording_name</th>\n",
       "      <th>cluster_id</th>\n",
       "      <th>1_5_ms_isi</th>\n",
       "      <th>1ms_isi</th>\n",
       "      <th>2ms_isi</th>\n",
       "      <th>amp</th>\n",
       "      <th>ch</th>\n",
       "      <th>channel_group</th>\n",
       "      <th>depth</th>\n",
       "      <th>fr</th>\n",
       "      <th>group</th>\n",
       "      <th>n_spikes</th>\n",
       "      <th>sh</th>\n",
       "      <th>si_unit_id</th>\n",
       "    </tr>\n",
       "  </thead>\n",
       "  <tbody>\n",
       "    <tr>\n",
       "      <th>0</th>\n",
       "      <td>20230620_114347_standard_comp_to_omission_D4_s...</td>\n",
       "      <td>2</td>\n",
       "      <td>0</td>\n",
       "      <td>0</td>\n",
       "      <td>0</td>\n",
       "      <td>24.692951</td>\n",
       "      <td>1</td>\n",
       "      <td>0.0</td>\n",
       "      <td>20.0</td>\n",
       "      <td>1.070175</td>\n",
       "      <td>good</td>\n",
       "      <td>3658</td>\n",
       "      <td>0</td>\n",
       "      <td>3.0</td>\n",
       "    </tr>\n",
       "    <tr>\n",
       "      <th>1</th>\n",
       "      <td>20230620_114347_standard_comp_to_omission_D4_s...</td>\n",
       "      <td>20</td>\n",
       "      <td>0</td>\n",
       "      <td>0</td>\n",
       "      <td>0</td>\n",
       "      <td>19.467382</td>\n",
       "      <td>11</td>\n",
       "      <td>0.0</td>\n",
       "      <td>220.0</td>\n",
       "      <td>0.739585</td>\n",
       "      <td>good</td>\n",
       "      <td>2528</td>\n",
       "      <td>0</td>\n",
       "      <td>7.0</td>\n",
       "    </tr>\n",
       "    <tr>\n",
       "      <th>2</th>\n",
       "      <td>20230620_114347_standard_comp_to_omission_D4_s...</td>\n",
       "      <td>22</td>\n",
       "      <td>0</td>\n",
       "      <td>0</td>\n",
       "      <td>0</td>\n",
       "      <td>21.967876</td>\n",
       "      <td>13</td>\n",
       "      <td>0.0</td>\n",
       "      <td>260.0</td>\n",
       "      <td>0.465459</td>\n",
       "      <td>good</td>\n",
       "      <td>1591</td>\n",
       "      <td>0</td>\n",
       "      <td>8.0</td>\n",
       "    </tr>\n",
       "    <tr>\n",
       "      <th>3</th>\n",
       "      <td>20230620_114347_standard_comp_to_omission_D4_s...</td>\n",
       "      <td>34</td>\n",
       "      <td>0</td>\n",
       "      <td>0</td>\n",
       "      <td>0</td>\n",
       "      <td>23.960157</td>\n",
       "      <td>22</td>\n",
       "      <td>0.0</td>\n",
       "      <td>440.0</td>\n",
       "      <td>0.402266</td>\n",
       "      <td>good</td>\n",
       "      <td>1375</td>\n",
       "      <td>0</td>\n",
       "      <td>17.0</td>\n",
       "    </tr>\n",
       "    <tr>\n",
       "      <th>4</th>\n",
       "      <td>20230620_114347_standard_comp_to_omission_D4_s...</td>\n",
       "      <td>57</td>\n",
       "      <td>2</td>\n",
       "      <td>0</td>\n",
       "      <td>7</td>\n",
       "      <td>22.906088</td>\n",
       "      <td>0</td>\n",
       "      <td>NaN</td>\n",
       "      <td>0.0</td>\n",
       "      <td>2.406577</td>\n",
       "      <td>good</td>\n",
       "      <td>8226</td>\n",
       "      <td>0</td>\n",
       "      <td>NaN</td>\n",
       "    </tr>\n",
       "  </tbody>\n",
       "</table>\n",
       "</div>"
      ],
      "text/plain": [
       "                                      recording_name  cluster_id  1_5_ms_isi  \\\n",
       "0  20230620_114347_standard_comp_to_omission_D4_s...           2           0   \n",
       "1  20230620_114347_standard_comp_to_omission_D4_s...          20           0   \n",
       "2  20230620_114347_standard_comp_to_omission_D4_s...          22           0   \n",
       "3  20230620_114347_standard_comp_to_omission_D4_s...          34           0   \n",
       "4  20230620_114347_standard_comp_to_omission_D4_s...          57           2   \n",
       "\n",
       "   1ms_isi  2ms_isi        amp  ch  channel_group  depth        fr group  \\\n",
       "0        0        0  24.692951   1            0.0   20.0  1.070175  good   \n",
       "1        0        0  19.467382  11            0.0  220.0  0.739585  good   \n",
       "2        0        0  21.967876  13            0.0  260.0  0.465459  good   \n",
       "3        0        0  23.960157  22            0.0  440.0  0.402266  good   \n",
       "4        0        7  22.906088   0            NaN    0.0  2.406577  good   \n",
       "\n",
       "   n_spikes  sh  si_unit_id  \n",
       "0      3658   0         3.0  \n",
       "1      2528   0         7.0  \n",
       "2      1591   0         8.0  \n",
       "3      1375   0        17.0  \n",
       "4      8226   0         NaN  "
      ]
     },
     "execution_count": 24,
     "metadata": {},
     "output_type": "execute_result"
    }
   ],
   "source": [
    "good_unit_cluster_info_df.head()"
   ]
  },
  {
   "cell_type": "code",
   "execution_count": 25,
   "metadata": {},
   "outputs": [],
   "source": [
    "recording_to_good_unit_ids = good_unit_cluster_info_df.groupby('recording_name')['cluster_id'].apply(list).to_dict()\n"
   ]
  },
  {
   "cell_type": "markdown",
   "metadata": {},
   "source": [
    "- A list of all the unit IDs that each spike came from in order\n",
    "    - First item is first spike, second item is second spike, etc."
   ]
  },
  {
   "cell_type": "code",
   "execution_count": 26,
   "metadata": {
    "scrolled": true
   },
   "outputs": [
    {
     "name": "stdout",
     "output_type": "stream",
     "text": [
      "[Errno 2] No such file or directory: '/scratch/back_up/reward_competition_extention/proc/phy_curation/tbc/phy/spike_clusters.npy'\n"
     ]
    }
   ],
   "source": [
    "recording_to_spike_clusters = {}\n",
    "for recording_dir in INPUT_DIR:\n",
    "    try:\n",
    "        recording_basename = os.path.basename(recording_dir).strip(\".rec\")\n",
    "        file_path = os.path.join(recording_dir, \"phy\", \"spike_clusters.npy\")\n",
    "        recording_to_spike_clusters[recording_basename] = np.load(file_path)\n",
    "    except Exception as e:\n",
    "        print(e)"
   ]
  },
  {
   "cell_type": "code",
   "execution_count": 27,
   "metadata": {},
   "outputs": [
    {
     "data": {
      "text/plain": [
       "array([ 4,  4, 11, ...,  4,  4, 87], dtype=int32)"
      ]
     },
     "execution_count": 27,
     "metadata": {},
     "output_type": "execute_result"
    }
   ],
   "source": [
    "recording_to_spike_clusters[list(recording_to_spike_clusters.keys())[0]]"
   ]
  },
  {
   "cell_type": "code",
   "execution_count": 28,
   "metadata": {},
   "outputs": [
    {
     "data": {
      "text/plain": [
       "(487318,)"
      ]
     },
     "execution_count": 28,
     "metadata": {},
     "output_type": "execute_result"
    }
   ],
   "source": [
    "recording_to_spike_clusters[list(recording_to_spike_clusters.keys())[0]].shape"
   ]
  },
  {
   "cell_type": "markdown",
   "metadata": {},
   "source": [
    "- The times that all the spikes happened"
   ]
  },
  {
   "cell_type": "code",
   "execution_count": 29,
   "metadata": {},
   "outputs": [
    {
     "name": "stdout",
     "output_type": "stream",
     "text": [
      "[Errno 2] No such file or directory: '/scratch/back_up/reward_competition_extention/proc/phy_curation/tbc/phy/spike_times.npy'\n"
     ]
    }
   ],
   "source": [
    "recording_to_spike_times = {}\n",
    "for recording_dir in INPUT_DIR:\n",
    "    try:\n",
    "        recording_basename = os.path.basename(recording_dir).strip(\".rec\")\n",
    "        file_path = os.path.join(recording_dir, \"phy\", \"spike_times.npy\")\n",
    "        recording_to_spike_times[recording_basename] = np.load(file_path)\n",
    "    except Exception as e:\n",
    "        print(e)"
   ]
  },
  {
   "cell_type": "code",
   "execution_count": 30,
   "metadata": {},
   "outputs": [
    {
     "data": {
      "text/plain": [
       "array([[     160],\n",
       "       [     483],\n",
       "       [     503],\n",
       "       ...,\n",
       "       [68361973],\n",
       "       [68362204],\n",
       "       [68362381]])"
      ]
     },
     "execution_count": 30,
     "metadata": {},
     "output_type": "execute_result"
    }
   ],
   "source": [
    "recording_to_spike_times[list(recording_to_spike_times.keys())[0]]"
   ]
  },
  {
   "cell_type": "code",
   "execution_count": 31,
   "metadata": {},
   "outputs": [
    {
     "data": {
      "text/plain": [
       "(487318, 1)"
      ]
     },
     "execution_count": 31,
     "metadata": {},
     "output_type": "execute_result"
    }
   ],
   "source": [
    "recording_to_spike_times[list(recording_to_spike_times.keys())[0]].shape"
   ]
  },
  {
   "cell_type": "markdown",
   "metadata": {},
   "source": [
    "### Combining everything into a dataframe"
   ]
  },
  {
   "cell_type": "code",
   "execution_count": 32,
   "metadata": {
    "scrolled": true
   },
   "outputs": [
    {
     "name": "stdout",
     "output_type": "stream",
     "text": [
      "[Errno 2] No such file or directory: '/scratch/back_up/reward_competition_extention/proc/phy_curation/tbc/phy/cluster_info.tsv'\n"
     ]
    }
   ],
   "source": [
    "recording_to_spike_df = {}\n",
    "for recording_dir in INPUT_DIR:\n",
    "    try:\n",
    "        recording_basename = os.path.basename(recording_dir).strip(\".rec\")\n",
    "        cluster_info_path = os.path.join(recording_dir, \"phy\", \"cluster_info.tsv\")\n",
    "        cluster_info_df = pd.read_csv(cluster_info_path, sep=\"\\t\")\n",
    "\n",
    "        spike_clusters_path = os.path.join(recording_dir, \"phy\", \"spike_clusters.npy\")\n",
    "        spike_clusters = np.load(spike_clusters_path)\n",
    "        \n",
    "        spike_times_path = os.path.join(recording_dir, \"phy\", \"spike_times.npy\")\n",
    "        spike_times = np.load(spike_times_path)\n",
    "\n",
    "        spike_df = pd.DataFrame({'spike_clusters': spike_clusters, 'spike_times': spike_times.T[0]})\n",
    "\n",
    "        merged_df = spike_df.merge(cluster_info_df, left_on='spike_clusters', right_on='cluster_id', how=\"left\")\n",
    "        # merged_df = merged_df[merged_df[\"group\"] == \"good\"].reset_index(drop = True)\n",
    "        merged_df[\"recording_name\"] = recording_basename\n",
    "\n",
    "        merged_df[\"timestamp_isi\"] = merged_df.groupby('spike_clusters')[\"spike_times\"].diff()\n",
    "        merged_df[\"current_isi\"] = merged_df[\"timestamp_isi\"] / SAMPLING_RATE\n",
    "        \n",
    "        if not merged_df.empty:\n",
    "            recording_to_spike_df[recording_basename] = merged_df\n",
    "       \n",
    "    except Exception as e:\n",
    "        print(e)"
   ]
  },
  {
   "cell_type": "code",
   "execution_count": null,
   "metadata": {},
   "outputs": [],
   "source": []
  },
  {
   "cell_type": "code",
   "execution_count": 33,
   "metadata": {},
   "outputs": [],
   "source": [
    "all_spike_time_df = pd.concat(recording_to_spike_df.values())"
   ]
  },
  {
   "cell_type": "code",
   "execution_count": 34,
   "metadata": {},
   "outputs": [],
   "source": [
    "all_spike_time_df = all_spike_time_df[all_spike_time_df[\"group\"] == \"good\"].reset_index(drop=True)"
   ]
  },
  {
   "cell_type": "code",
   "execution_count": 35,
   "metadata": {},
   "outputs": [
    {
     "data": {
      "text/html": [
       "<div>\n",
       "<style scoped>\n",
       "    .dataframe tbody tr th:only-of-type {\n",
       "        vertical-align: middle;\n",
       "    }\n",
       "\n",
       "    .dataframe tbody tr th {\n",
       "        vertical-align: top;\n",
       "    }\n",
       "\n",
       "    .dataframe thead th {\n",
       "        text-align: right;\n",
       "    }\n",
       "</style>\n",
       "<table border=\"1\" class=\"dataframe\">\n",
       "  <thead>\n",
       "    <tr style=\"text-align: right;\">\n",
       "      <th></th>\n",
       "      <th>spike_clusters</th>\n",
       "      <th>spike_times</th>\n",
       "      <th>cluster_id</th>\n",
       "      <th>1_5_ms_isi</th>\n",
       "      <th>1ms_isi</th>\n",
       "      <th>2ms_isi</th>\n",
       "      <th>amp</th>\n",
       "      <th>ch</th>\n",
       "      <th>channel_group</th>\n",
       "      <th>depth</th>\n",
       "      <th>fr</th>\n",
       "      <th>group</th>\n",
       "      <th>n_spikes</th>\n",
       "      <th>sh</th>\n",
       "      <th>si_unit_id</th>\n",
       "      <th>recording_name</th>\n",
       "      <th>timestamp_isi</th>\n",
       "      <th>current_isi</th>\n",
       "    </tr>\n",
       "  </thead>\n",
       "  <tbody>\n",
       "    <tr>\n",
       "      <th>0</th>\n",
       "      <td>89</td>\n",
       "      <td>535</td>\n",
       "      <td>89</td>\n",
       "      <td>11</td>\n",
       "      <td>11</td>\n",
       "      <td>13</td>\n",
       "      <td>17.238409</td>\n",
       "      <td>26</td>\n",
       "      <td>0.0</td>\n",
       "      <td>520.0</td>\n",
       "      <td>15.528948</td>\n",
       "      <td>good</td>\n",
       "      <td>53080</td>\n",
       "      <td>0</td>\n",
       "      <td>21.0</td>\n",
       "      <td>20230620_114347_standard_comp_to_omission_D4_s...</td>\n",
       "      <td>NaN</td>\n",
       "      <td>NaN</td>\n",
       "    </tr>\n",
       "    <tr>\n",
       "      <th>1</th>\n",
       "      <td>89</td>\n",
       "      <td>1047</td>\n",
       "      <td>89</td>\n",
       "      <td>11</td>\n",
       "      <td>11</td>\n",
       "      <td>13</td>\n",
       "      <td>17.238409</td>\n",
       "      <td>26</td>\n",
       "      <td>0.0</td>\n",
       "      <td>520.0</td>\n",
       "      <td>15.528948</td>\n",
       "      <td>good</td>\n",
       "      <td>53080</td>\n",
       "      <td>0</td>\n",
       "      <td>21.0</td>\n",
       "      <td>20230620_114347_standard_comp_to_omission_D4_s...</td>\n",
       "      <td>512.0</td>\n",
       "      <td>0.02560</td>\n",
       "    </tr>\n",
       "    <tr>\n",
       "      <th>2</th>\n",
       "      <td>89</td>\n",
       "      <td>1384</td>\n",
       "      <td>89</td>\n",
       "      <td>11</td>\n",
       "      <td>11</td>\n",
       "      <td>13</td>\n",
       "      <td>17.238409</td>\n",
       "      <td>26</td>\n",
       "      <td>0.0</td>\n",
       "      <td>520.0</td>\n",
       "      <td>15.528948</td>\n",
       "      <td>good</td>\n",
       "      <td>53080</td>\n",
       "      <td>0</td>\n",
       "      <td>21.0</td>\n",
       "      <td>20230620_114347_standard_comp_to_omission_D4_s...</td>\n",
       "      <td>337.0</td>\n",
       "      <td>0.01685</td>\n",
       "    </tr>\n",
       "    <tr>\n",
       "      <th>3</th>\n",
       "      <td>89</td>\n",
       "      <td>1585</td>\n",
       "      <td>89</td>\n",
       "      <td>11</td>\n",
       "      <td>11</td>\n",
       "      <td>13</td>\n",
       "      <td>17.238409</td>\n",
       "      <td>26</td>\n",
       "      <td>0.0</td>\n",
       "      <td>520.0</td>\n",
       "      <td>15.528948</td>\n",
       "      <td>good</td>\n",
       "      <td>53080</td>\n",
       "      <td>0</td>\n",
       "      <td>21.0</td>\n",
       "      <td>20230620_114347_standard_comp_to_omission_D4_s...</td>\n",
       "      <td>201.0</td>\n",
       "      <td>0.01005</td>\n",
       "    </tr>\n",
       "    <tr>\n",
       "      <th>4</th>\n",
       "      <td>89</td>\n",
       "      <td>1793</td>\n",
       "      <td>89</td>\n",
       "      <td>11</td>\n",
       "      <td>11</td>\n",
       "      <td>13</td>\n",
       "      <td>17.238409</td>\n",
       "      <td>26</td>\n",
       "      <td>0.0</td>\n",
       "      <td>520.0</td>\n",
       "      <td>15.528948</td>\n",
       "      <td>good</td>\n",
       "      <td>53080</td>\n",
       "      <td>0</td>\n",
       "      <td>21.0</td>\n",
       "      <td>20230620_114347_standard_comp_to_omission_D4_s...</td>\n",
       "      <td>208.0</td>\n",
       "      <td>0.01040</td>\n",
       "    </tr>\n",
       "  </tbody>\n",
       "</table>\n",
       "</div>"
      ],
      "text/plain": [
       "   spike_clusters  spike_times  cluster_id  1_5_ms_isi  1ms_isi  2ms_isi  \\\n",
       "0              89          535          89          11       11       13   \n",
       "1              89         1047          89          11       11       13   \n",
       "2              89         1384          89          11       11       13   \n",
       "3              89         1585          89          11       11       13   \n",
       "4              89         1793          89          11       11       13   \n",
       "\n",
       "         amp  ch  channel_group  depth         fr group  n_spikes  sh  \\\n",
       "0  17.238409  26            0.0  520.0  15.528948  good     53080   0   \n",
       "1  17.238409  26            0.0  520.0  15.528948  good     53080   0   \n",
       "2  17.238409  26            0.0  520.0  15.528948  good     53080   0   \n",
       "3  17.238409  26            0.0  520.0  15.528948  good     53080   0   \n",
       "4  17.238409  26            0.0  520.0  15.528948  good     53080   0   \n",
       "\n",
       "   si_unit_id                                     recording_name  \\\n",
       "0        21.0  20230620_114347_standard_comp_to_omission_D4_s...   \n",
       "1        21.0  20230620_114347_standard_comp_to_omission_D4_s...   \n",
       "2        21.0  20230620_114347_standard_comp_to_omission_D4_s...   \n",
       "3        21.0  20230620_114347_standard_comp_to_omission_D4_s...   \n",
       "4        21.0  20230620_114347_standard_comp_to_omission_D4_s...   \n",
       "\n",
       "   timestamp_isi  current_isi  \n",
       "0            NaN          NaN  \n",
       "1          512.0      0.02560  \n",
       "2          337.0      0.01685  \n",
       "3          201.0      0.01005  \n",
       "4          208.0      0.01040  "
      ]
     },
     "execution_count": 35,
     "metadata": {},
     "output_type": "execute_result"
    }
   ],
   "source": [
    "all_spike_time_df.head()"
   ]
  },
  {
   "cell_type": "code",
   "execution_count": 36,
   "metadata": {},
   "outputs": [
    {
     "data": {
      "text/html": [
       "<div>\n",
       "<style scoped>\n",
       "    .dataframe tbody tr th:only-of-type {\n",
       "        vertical-align: middle;\n",
       "    }\n",
       "\n",
       "    .dataframe tbody tr th {\n",
       "        vertical-align: top;\n",
       "    }\n",
       "\n",
       "    .dataframe thead th {\n",
       "        text-align: right;\n",
       "    }\n",
       "</style>\n",
       "<table border=\"1\" class=\"dataframe\">\n",
       "  <thead>\n",
       "    <tr style=\"text-align: right;\">\n",
       "      <th></th>\n",
       "      <th>spike_clusters</th>\n",
       "      <th>spike_times</th>\n",
       "      <th>cluster_id</th>\n",
       "      <th>1_5_ms_isi</th>\n",
       "      <th>1ms_isi</th>\n",
       "      <th>2ms_isi</th>\n",
       "      <th>amp</th>\n",
       "      <th>ch</th>\n",
       "      <th>channel_group</th>\n",
       "      <th>depth</th>\n",
       "      <th>fr</th>\n",
       "      <th>group</th>\n",
       "      <th>n_spikes</th>\n",
       "      <th>sh</th>\n",
       "      <th>si_unit_id</th>\n",
       "      <th>recording_name</th>\n",
       "      <th>timestamp_isi</th>\n",
       "      <th>current_isi</th>\n",
       "    </tr>\n",
       "  </thead>\n",
       "  <tbody>\n",
       "    <tr>\n",
       "      <th>622770</th>\n",
       "      <td>146</td>\n",
       "      <td>38957244</td>\n",
       "      <td>146</td>\n",
       "      <td>0</td>\n",
       "      <td>0</td>\n",
       "      <td>0</td>\n",
       "      <td>14.943707</td>\n",
       "      <td>6</td>\n",
       "      <td>0.0</td>\n",
       "      <td>120.0</td>\n",
       "      <td>0.695852</td>\n",
       "      <td>good</td>\n",
       "      <td>1433</td>\n",
       "      <td>0</td>\n",
       "      <td>18.0</td>\n",
       "      <td>20230619_115321_standard_comp_to_omission_D3_s...</td>\n",
       "      <td>173.0</td>\n",
       "      <td>0.00865</td>\n",
       "    </tr>\n",
       "    <tr>\n",
       "      <th>622771</th>\n",
       "      <td>146</td>\n",
       "      <td>38957331</td>\n",
       "      <td>146</td>\n",
       "      <td>0</td>\n",
       "      <td>0</td>\n",
       "      <td>0</td>\n",
       "      <td>14.943707</td>\n",
       "      <td>6</td>\n",
       "      <td>0.0</td>\n",
       "      <td>120.0</td>\n",
       "      <td>0.695852</td>\n",
       "      <td>good</td>\n",
       "      <td>1433</td>\n",
       "      <td>0</td>\n",
       "      <td>18.0</td>\n",
       "      <td>20230619_115321_standard_comp_to_omission_D3_s...</td>\n",
       "      <td>87.0</td>\n",
       "      <td>0.00435</td>\n",
       "    </tr>\n",
       "    <tr>\n",
       "      <th>622772</th>\n",
       "      <td>204</td>\n",
       "      <td>38957511</td>\n",
       "      <td>204</td>\n",
       "      <td>1</td>\n",
       "      <td>0</td>\n",
       "      <td>1</td>\n",
       "      <td>11.366614</td>\n",
       "      <td>6</td>\n",
       "      <td>0.0</td>\n",
       "      <td>120.0</td>\n",
       "      <td>8.020020</td>\n",
       "      <td>good</td>\n",
       "      <td>16516</td>\n",
       "      <td>0</td>\n",
       "      <td>17.0</td>\n",
       "      <td>20230619_115321_standard_comp_to_omission_D3_s...</td>\n",
       "      <td>3072.0</td>\n",
       "      <td>0.15360</td>\n",
       "    </tr>\n",
       "    <tr>\n",
       "      <th>622773</th>\n",
       "      <td>44</td>\n",
       "      <td>38957537</td>\n",
       "      <td>44</td>\n",
       "      <td>3</td>\n",
       "      <td>1</td>\n",
       "      <td>29</td>\n",
       "      <td>9.739503</td>\n",
       "      <td>17</td>\n",
       "      <td>0.0</td>\n",
       "      <td>340.0</td>\n",
       "      <td>13.732511</td>\n",
       "      <td>good</td>\n",
       "      <td>28280</td>\n",
       "      <td>0</td>\n",
       "      <td>46.0</td>\n",
       "      <td>20230619_115321_standard_comp_to_omission_D3_s...</td>\n",
       "      <td>2342.0</td>\n",
       "      <td>0.11710</td>\n",
       "    </tr>\n",
       "    <tr>\n",
       "      <th>622774</th>\n",
       "      <td>134</td>\n",
       "      <td>38957868</td>\n",
       "      <td>134</td>\n",
       "      <td>5</td>\n",
       "      <td>4</td>\n",
       "      <td>17</td>\n",
       "      <td>8.562255</td>\n",
       "      <td>2</td>\n",
       "      <td>0.0</td>\n",
       "      <td>40.0</td>\n",
       "      <td>14.537135</td>\n",
       "      <td>good</td>\n",
       "      <td>29937</td>\n",
       "      <td>0</td>\n",
       "      <td>11.0</td>\n",
       "      <td>20230619_115321_standard_comp_to_omission_D3_s...</td>\n",
       "      <td>1151.0</td>\n",
       "      <td>0.05755</td>\n",
       "    </tr>\n",
       "  </tbody>\n",
       "</table>\n",
       "</div>"
      ],
      "text/plain": [
       "        spike_clusters  spike_times  cluster_id  1_5_ms_isi  1ms_isi  2ms_isi  \\\n",
       "622770             146     38957244         146           0        0        0   \n",
       "622771             146     38957331         146           0        0        0   \n",
       "622772             204     38957511         204           1        0        1   \n",
       "622773              44     38957537          44           3        1       29   \n",
       "622774             134     38957868         134           5        4       17   \n",
       "\n",
       "              amp  ch  channel_group  depth         fr group  n_spikes  sh  \\\n",
       "622770  14.943707   6            0.0  120.0   0.695852  good      1433   0   \n",
       "622771  14.943707   6            0.0  120.0   0.695852  good      1433   0   \n",
       "622772  11.366614   6            0.0  120.0   8.020020  good     16516   0   \n",
       "622773   9.739503  17            0.0  340.0  13.732511  good     28280   0   \n",
       "622774   8.562255   2            0.0   40.0  14.537135  good     29937   0   \n",
       "\n",
       "        si_unit_id                                     recording_name  \\\n",
       "622770        18.0  20230619_115321_standard_comp_to_omission_D3_s...   \n",
       "622771        18.0  20230619_115321_standard_comp_to_omission_D3_s...   \n",
       "622772        17.0  20230619_115321_standard_comp_to_omission_D3_s...   \n",
       "622773        46.0  20230619_115321_standard_comp_to_omission_D3_s...   \n",
       "622774        11.0  20230619_115321_standard_comp_to_omission_D3_s...   \n",
       "\n",
       "        timestamp_isi  current_isi  \n",
       "622770          173.0      0.00865  \n",
       "622771           87.0      0.00435  \n",
       "622772         3072.0      0.15360  \n",
       "622773         2342.0      0.11710  \n",
       "622774         1151.0      0.05755  "
      ]
     },
     "execution_count": 36,
     "metadata": {},
     "output_type": "execute_result"
    }
   ],
   "source": [
    "all_spike_time_df.tail()"
   ]
  },
  {
   "cell_type": "markdown",
   "metadata": {},
   "source": [
    "# Merging the trial information"
   ]
  },
  {
   "cell_type": "code",
   "execution_count": 37,
   "metadata": {},
   "outputs": [
    {
     "data": {
      "text/plain": [
       "'20230620_114347_standard_comp_to_omission_D4_subj_1-1_t1b2L_box_2_merged'"
      ]
     },
     "execution_count": 37,
     "metadata": {},
     "output_type": "execute_result"
    }
   ],
   "source": [
    "all_spike_time_df[\"recording_name\"].iloc[0]"
   ]
  },
  {
   "cell_type": "code",
   "execution_count": 38,
   "metadata": {
    "scrolled": true
   },
   "outputs": [
    {
     "data": {
      "text/plain": [
       "'20221202_134600_omission_and_competition_subject_6_1_top_2_base_3_merged'"
      ]
     },
     "execution_count": 38,
     "metadata": {},
     "output_type": "execute_result"
    }
   ],
   "source": [
    "all_trials_df[\"recording_file\"].iloc[0]"
   ]
  },
  {
   "cell_type": "code",
   "execution_count": 39,
   "metadata": {},
   "outputs": [
    {
     "data": {
      "text/html": [
       "<div>\n",
       "<style scoped>\n",
       "    .dataframe tbody tr th:only-of-type {\n",
       "        vertical-align: middle;\n",
       "    }\n",
       "\n",
       "    .dataframe tbody tr th {\n",
       "        vertical-align: top;\n",
       "    }\n",
       "\n",
       "    .dataframe thead th {\n",
       "        text-align: right;\n",
       "    }\n",
       "</style>\n",
       "<table border=\"1\" class=\"dataframe\">\n",
       "  <thead>\n",
       "    <tr style=\"text-align: right;\">\n",
       "      <th></th>\n",
       "      <th>time</th>\n",
       "      <th>state</th>\n",
       "      <th>recording_dir</th>\n",
       "      <th>recording_file</th>\n",
       "      <th>din</th>\n",
       "      <th>time_stamp_index</th>\n",
       "      <th>video_file</th>\n",
       "      <th>video_frame</th>\n",
       "      <th>video_number</th>\n",
       "      <th>subject_info</th>\n",
       "      <th>condition</th>\n",
       "      <th>competition_closeness</th>\n",
       "      <th>Unnamed: 13</th>\n",
       "      <th>resampled_index</th>\n",
       "      <th>all_subjects</th>\n",
       "      <th>current_subject</th>\n",
       "      <th>trial_outcome</th>\n",
       "    </tr>\n",
       "  </thead>\n",
       "  <tbody>\n",
       "    <tr>\n",
       "      <th>0</th>\n",
       "      <td>6310663</td>\n",
       "      <td>1.0</td>\n",
       "      <td>20221202_134600_omission_and_competition_subje...</td>\n",
       "      <td>20221202_134600_omission_and_competition_subje...</td>\n",
       "      <td>dio_ECU_Din1</td>\n",
       "      <td>1390826</td>\n",
       "      <td>20221202_134600_omission_and_competition_subje...</td>\n",
       "      <td>1734</td>\n",
       "      <td>1.0</td>\n",
       "      <td>6_1_top_2_base_3</td>\n",
       "      <td>rewarded</td>\n",
       "      <td>NaN</td>\n",
       "      <td>NaN</td>\n",
       "      <td>69541</td>\n",
       "      <td>[6.1, 6.2]</td>\n",
       "      <td>6.1</td>\n",
       "      <td>rewarded</td>\n",
       "    </tr>\n",
       "    <tr>\n",
       "      <th>1</th>\n",
       "      <td>7910662</td>\n",
       "      <td>1.0</td>\n",
       "      <td>20221202_134600_omission_and_competition_subje...</td>\n",
       "      <td>20221202_134600_omission_and_competition_subje...</td>\n",
       "      <td>dio_ECU_Din1</td>\n",
       "      <td>2990825</td>\n",
       "      <td>20221202_134600_omission_and_competition_subje...</td>\n",
       "      <td>3728</td>\n",
       "      <td>1.0</td>\n",
       "      <td>6_1_top_2_base_3</td>\n",
       "      <td>rewarded</td>\n",
       "      <td>NaN</td>\n",
       "      <td>NaN</td>\n",
       "      <td>149541</td>\n",
       "      <td>[6.1, 6.2]</td>\n",
       "      <td>6.1</td>\n",
       "      <td>rewarded</td>\n",
       "    </tr>\n",
       "    <tr>\n",
       "      <th>2</th>\n",
       "      <td>9710660</td>\n",
       "      <td>1.0</td>\n",
       "      <td>20221202_134600_omission_and_competition_subje...</td>\n",
       "      <td>20221202_134600_omission_and_competition_subje...</td>\n",
       "      <td>dio_ECU_Din1</td>\n",
       "      <td>4790823</td>\n",
       "      <td>20221202_134600_omission_and_competition_subje...</td>\n",
       "      <td>5972</td>\n",
       "      <td>1.0</td>\n",
       "      <td>6_1_top_2_base_3</td>\n",
       "      <td>rewarded</td>\n",
       "      <td>NaN</td>\n",
       "      <td>NaN</td>\n",
       "      <td>239541</td>\n",
       "      <td>[6.1, 6.2]</td>\n",
       "      <td>6.1</td>\n",
       "      <td>rewarded</td>\n",
       "    </tr>\n",
       "    <tr>\n",
       "      <th>3</th>\n",
       "      <td>11310658</td>\n",
       "      <td>1.0</td>\n",
       "      <td>20221202_134600_omission_and_competition_subje...</td>\n",
       "      <td>20221202_134600_omission_and_competition_subje...</td>\n",
       "      <td>dio_ECU_Din1</td>\n",
       "      <td>6390821</td>\n",
       "      <td>20221202_134600_omission_and_competition_subje...</td>\n",
       "      <td>7966</td>\n",
       "      <td>1.0</td>\n",
       "      <td>6_1_top_2_base_3</td>\n",
       "      <td>omission</td>\n",
       "      <td>NaN</td>\n",
       "      <td>NaN</td>\n",
       "      <td>319541</td>\n",
       "      <td>[6.1, 6.2]</td>\n",
       "      <td>6.1</td>\n",
       "      <td>omission</td>\n",
       "    </tr>\n",
       "    <tr>\n",
       "      <th>4</th>\n",
       "      <td>12810657</td>\n",
       "      <td>1.0</td>\n",
       "      <td>20221202_134600_omission_and_competition_subje...</td>\n",
       "      <td>20221202_134600_omission_and_competition_subje...</td>\n",
       "      <td>dio_ECU_Din1</td>\n",
       "      <td>7890820</td>\n",
       "      <td>20221202_134600_omission_and_competition_subje...</td>\n",
       "      <td>9836</td>\n",
       "      <td>1.0</td>\n",
       "      <td>6_1_top_2_base_3</td>\n",
       "      <td>rewarded</td>\n",
       "      <td>NaN</td>\n",
       "      <td>NaN</td>\n",
       "      <td>394541</td>\n",
       "      <td>[6.1, 6.2]</td>\n",
       "      <td>6.1</td>\n",
       "      <td>rewarded</td>\n",
       "    </tr>\n",
       "  </tbody>\n",
       "</table>\n",
       "</div>"
      ],
      "text/plain": [
       "       time  state                                      recording_dir  \\\n",
       "0   6310663    1.0  20221202_134600_omission_and_competition_subje...   \n",
       "1   7910662    1.0  20221202_134600_omission_and_competition_subje...   \n",
       "2   9710660    1.0  20221202_134600_omission_and_competition_subje...   \n",
       "3  11310658    1.0  20221202_134600_omission_and_competition_subje...   \n",
       "4  12810657    1.0  20221202_134600_omission_and_competition_subje...   \n",
       "\n",
       "                                      recording_file           din  \\\n",
       "0  20221202_134600_omission_and_competition_subje...  dio_ECU_Din1   \n",
       "1  20221202_134600_omission_and_competition_subje...  dio_ECU_Din1   \n",
       "2  20221202_134600_omission_and_competition_subje...  dio_ECU_Din1   \n",
       "3  20221202_134600_omission_and_competition_subje...  dio_ECU_Din1   \n",
       "4  20221202_134600_omission_and_competition_subje...  dio_ECU_Din1   \n",
       "\n",
       "   time_stamp_index                                         video_file  \\\n",
       "0           1390826  20221202_134600_omission_and_competition_subje...   \n",
       "1           2990825  20221202_134600_omission_and_competition_subje...   \n",
       "2           4790823  20221202_134600_omission_and_competition_subje...   \n",
       "3           6390821  20221202_134600_omission_and_competition_subje...   \n",
       "4           7890820  20221202_134600_omission_and_competition_subje...   \n",
       "\n",
       "   video_frame  video_number      subject_info condition  \\\n",
       "0         1734           1.0  6_1_top_2_base_3  rewarded   \n",
       "1         3728           1.0  6_1_top_2_base_3  rewarded   \n",
       "2         5972           1.0  6_1_top_2_base_3  rewarded   \n",
       "3         7966           1.0  6_1_top_2_base_3  omission   \n",
       "4         9836           1.0  6_1_top_2_base_3  rewarded   \n",
       "\n",
       "  competition_closeness Unnamed: 13  resampled_index all_subjects  \\\n",
       "0                   NaN         NaN            69541   [6.1, 6.2]   \n",
       "1                   NaN         NaN           149541   [6.1, 6.2]   \n",
       "2                   NaN         NaN           239541   [6.1, 6.2]   \n",
       "3                   NaN         NaN           319541   [6.1, 6.2]   \n",
       "4                   NaN         NaN           394541   [6.1, 6.2]   \n",
       "\n",
       "  current_subject trial_outcome  \n",
       "0             6.1      rewarded  \n",
       "1             6.1      rewarded  \n",
       "2             6.1      rewarded  \n",
       "3             6.1      omission  \n",
       "4             6.1      rewarded  "
      ]
     },
     "execution_count": 39,
     "metadata": {},
     "output_type": "execute_result"
    }
   ],
   "source": [
    "all_trials_df.head()"
   ]
  },
  {
   "cell_type": "code",
   "execution_count": 40,
   "metadata": {},
   "outputs": [],
   "source": [
    "recording_to_trials = {}\n",
    "# Loop through each unique key\n",
    "for key in all_trials_df['recording_file'].unique():\n",
    "    # Filter the DataFrame based on the key and get the 'Value' column as a list\n",
    "    recording_to_trials[key] = all_trials_df[all_trials_df['recording_file'] == key]['time'].tolist()\n"
   ]
  },
  {
   "cell_type": "code",
   "execution_count": 41,
   "metadata": {
    "scrolled": true
   },
   "outputs": [
    {
     "data": {
      "text/plain": [
       "[6310663,\n",
       " 7910662,\n",
       " 9710660,\n",
       " 11310658,\n",
       " 12810657,\n",
       " 14810655,\n",
       " 16710653,\n",
       " 18510652,\n",
       " 20110658,\n",
       " 21910649,\n",
       " 23910646,\n",
       " 25710642,\n",
       " 28110642,\n",
       " 29910641,\n",
       " 35869034,\n",
       " 37469033,\n",
       " 39269032,\n",
       " 40869030,\n",
       " 42369029,\n",
       " 44369024,\n",
       " 46269025,\n",
       " 48069023,\n",
       " 49669022,\n",
       " 51469020,\n",
       " 53469018,\n",
       " 55269017,\n",
       " 57669012,\n",
       " 59469010,\n",
       " 61169008,\n",
       " 62969007,\n",
       " 64869008,\n",
       " 67269005,\n",
       " 68869004]"
      ]
     },
     "execution_count": 41,
     "metadata": {},
     "output_type": "execute_result"
    }
   ],
   "source": [
    "recording_to_trials[list(recording_to_trials.keys())[0]]"
   ]
  },
  {
   "cell_type": "code",
   "execution_count": 42,
   "metadata": {},
   "outputs": [],
   "source": [
    "all_spike_time_df[\"closest_trial\"] = all_spike_time_df.apply(lambda row: find_closest(row[\"spike_times\"], recording_to_trials[row[\"recording_name\"]]), axis=1)"
   ]
  },
  {
   "cell_type": "code",
   "execution_count": 43,
   "metadata": {},
   "outputs": [],
   "source": [
    "all_spike_time_df = all_spike_time_df[(all_spike_time_df[\"spike_times\"] > all_spike_time_df[\"closest_trial\"] - 10 * SAMPLING_RATE) & (all_spike_time_df[\"spike_times\"] < all_spike_time_df[\"closest_trial\"] + 10 * SAMPLING_RATE)]"
   ]
  },
  {
   "cell_type": "code",
   "execution_count": 44,
   "metadata": {},
   "outputs": [],
   "source": [
    "all_spike_time_df[\"trial_or_baseline\"] = all_spike_time_df.apply(lambda row: \"trial\" if row[\"spike_times\"] >= row[\"closest_trial\"] else \"baseline\", axis=1)"
   ]
  },
  {
   "cell_type": "code",
   "execution_count": 45,
   "metadata": {},
   "outputs": [
    {
     "data": {
      "text/html": [
       "<div>\n",
       "<style scoped>\n",
       "    .dataframe tbody tr th:only-of-type {\n",
       "        vertical-align: middle;\n",
       "    }\n",
       "\n",
       "    .dataframe tbody tr th {\n",
       "        vertical-align: top;\n",
       "    }\n",
       "\n",
       "    .dataframe thead th {\n",
       "        text-align: right;\n",
       "    }\n",
       "</style>\n",
       "<table border=\"1\" class=\"dataframe\">\n",
       "  <thead>\n",
       "    <tr style=\"text-align: right;\">\n",
       "      <th></th>\n",
       "      <th>spike_clusters</th>\n",
       "      <th>spike_times</th>\n",
       "      <th>cluster_id</th>\n",
       "      <th>1_5_ms_isi</th>\n",
       "      <th>1ms_isi</th>\n",
       "      <th>2ms_isi</th>\n",
       "      <th>amp</th>\n",
       "      <th>ch</th>\n",
       "      <th>channel_group</th>\n",
       "      <th>depth</th>\n",
       "      <th>fr</th>\n",
       "      <th>group</th>\n",
       "      <th>n_spikes</th>\n",
       "      <th>sh</th>\n",
       "      <th>si_unit_id</th>\n",
       "      <th>recording_name</th>\n",
       "      <th>timestamp_isi</th>\n",
       "      <th>current_isi</th>\n",
       "      <th>closest_trial</th>\n",
       "      <th>trial_or_baseline</th>\n",
       "    </tr>\n",
       "  </thead>\n",
       "  <tbody>\n",
       "    <tr>\n",
       "      <th>18173</th>\n",
       "      <td>89</td>\n",
       "      <td>8060750</td>\n",
       "      <td>89</td>\n",
       "      <td>11</td>\n",
       "      <td>11</td>\n",
       "      <td>13</td>\n",
       "      <td>17.238409</td>\n",
       "      <td>26</td>\n",
       "      <td>0.0</td>\n",
       "      <td>520.0</td>\n",
       "      <td>15.528948</td>\n",
       "      <td>good</td>\n",
       "      <td>53080</td>\n",
       "      <td>0</td>\n",
       "      <td>21.0</td>\n",
       "      <td>20230620_114347_standard_comp_to_omission_D4_s...</td>\n",
       "      <td>2973.0</td>\n",
       "      <td>0.14865</td>\n",
       "      <td>8260195</td>\n",
       "      <td>baseline</td>\n",
       "    </tr>\n",
       "    <tr>\n",
       "      <th>18174</th>\n",
       "      <td>89</td>\n",
       "      <td>8061199</td>\n",
       "      <td>89</td>\n",
       "      <td>11</td>\n",
       "      <td>11</td>\n",
       "      <td>13</td>\n",
       "      <td>17.238409</td>\n",
       "      <td>26</td>\n",
       "      <td>0.0</td>\n",
       "      <td>520.0</td>\n",
       "      <td>15.528948</td>\n",
       "      <td>good</td>\n",
       "      <td>53080</td>\n",
       "      <td>0</td>\n",
       "      <td>21.0</td>\n",
       "      <td>20230620_114347_standard_comp_to_omission_D4_s...</td>\n",
       "      <td>449.0</td>\n",
       "      <td>0.02245</td>\n",
       "      <td>8260195</td>\n",
       "      <td>baseline</td>\n",
       "    </tr>\n",
       "    <tr>\n",
       "      <th>18175</th>\n",
       "      <td>89</td>\n",
       "      <td>8061583</td>\n",
       "      <td>89</td>\n",
       "      <td>11</td>\n",
       "      <td>11</td>\n",
       "      <td>13</td>\n",
       "      <td>17.238409</td>\n",
       "      <td>26</td>\n",
       "      <td>0.0</td>\n",
       "      <td>520.0</td>\n",
       "      <td>15.528948</td>\n",
       "      <td>good</td>\n",
       "      <td>53080</td>\n",
       "      <td>0</td>\n",
       "      <td>21.0</td>\n",
       "      <td>20230620_114347_standard_comp_to_omission_D4_s...</td>\n",
       "      <td>384.0</td>\n",
       "      <td>0.01920</td>\n",
       "      <td>8260195</td>\n",
       "      <td>baseline</td>\n",
       "    </tr>\n",
       "    <tr>\n",
       "      <th>18176</th>\n",
       "      <td>89</td>\n",
       "      <td>8061753</td>\n",
       "      <td>89</td>\n",
       "      <td>11</td>\n",
       "      <td>11</td>\n",
       "      <td>13</td>\n",
       "      <td>17.238409</td>\n",
       "      <td>26</td>\n",
       "      <td>0.0</td>\n",
       "      <td>520.0</td>\n",
       "      <td>15.528948</td>\n",
       "      <td>good</td>\n",
       "      <td>53080</td>\n",
       "      <td>0</td>\n",
       "      <td>21.0</td>\n",
       "      <td>20230620_114347_standard_comp_to_omission_D4_s...</td>\n",
       "      <td>170.0</td>\n",
       "      <td>0.00850</td>\n",
       "      <td>8260195</td>\n",
       "      <td>baseline</td>\n",
       "    </tr>\n",
       "    <tr>\n",
       "      <th>18177</th>\n",
       "      <td>89</td>\n",
       "      <td>8062027</td>\n",
       "      <td>89</td>\n",
       "      <td>11</td>\n",
       "      <td>11</td>\n",
       "      <td>13</td>\n",
       "      <td>17.238409</td>\n",
       "      <td>26</td>\n",
       "      <td>0.0</td>\n",
       "      <td>520.0</td>\n",
       "      <td>15.528948</td>\n",
       "      <td>good</td>\n",
       "      <td>53080</td>\n",
       "      <td>0</td>\n",
       "      <td>21.0</td>\n",
       "      <td>20230620_114347_standard_comp_to_omission_D4_s...</td>\n",
       "      <td>274.0</td>\n",
       "      <td>0.01370</td>\n",
       "      <td>8260195</td>\n",
       "      <td>baseline</td>\n",
       "    </tr>\n",
       "  </tbody>\n",
       "</table>\n",
       "</div>"
      ],
      "text/plain": [
       "       spike_clusters  spike_times  cluster_id  1_5_ms_isi  1ms_isi  2ms_isi  \\\n",
       "18173              89      8060750          89          11       11       13   \n",
       "18174              89      8061199          89          11       11       13   \n",
       "18175              89      8061583          89          11       11       13   \n",
       "18176              89      8061753          89          11       11       13   \n",
       "18177              89      8062027          89          11       11       13   \n",
       "\n",
       "             amp  ch  channel_group  depth         fr group  n_spikes  sh  \\\n",
       "18173  17.238409  26            0.0  520.0  15.528948  good     53080   0   \n",
       "18174  17.238409  26            0.0  520.0  15.528948  good     53080   0   \n",
       "18175  17.238409  26            0.0  520.0  15.528948  good     53080   0   \n",
       "18176  17.238409  26            0.0  520.0  15.528948  good     53080   0   \n",
       "18177  17.238409  26            0.0  520.0  15.528948  good     53080   0   \n",
       "\n",
       "       si_unit_id                                     recording_name  \\\n",
       "18173        21.0  20230620_114347_standard_comp_to_omission_D4_s...   \n",
       "18174        21.0  20230620_114347_standard_comp_to_omission_D4_s...   \n",
       "18175        21.0  20230620_114347_standard_comp_to_omission_D4_s...   \n",
       "18176        21.0  20230620_114347_standard_comp_to_omission_D4_s...   \n",
       "18177        21.0  20230620_114347_standard_comp_to_omission_D4_s...   \n",
       "\n",
       "       timestamp_isi  current_isi  closest_trial trial_or_baseline  \n",
       "18173         2973.0      0.14865        8260195          baseline  \n",
       "18174          449.0      0.02245        8260195          baseline  \n",
       "18175          384.0      0.01920        8260195          baseline  \n",
       "18176          170.0      0.00850        8260195          baseline  \n",
       "18177          274.0      0.01370        8260195          baseline  "
      ]
     },
     "execution_count": 45,
     "metadata": {},
     "output_type": "execute_result"
    }
   ],
   "source": [
    "all_spike_time_df.head()"
   ]
  },
  {
   "cell_type": "code",
   "execution_count": 46,
   "metadata": {},
   "outputs": [],
   "source": [
    "all_spike_time_df[\"trial_chunked_ephys_timestamp\"] = all_spike_time_df[\"closest_trial\"].apply(lambda x: [x +  SAMPLING_RATE * num for num in range(-10,11)])"
   ]
  },
  {
   "cell_type": "code",
   "execution_count": 47,
   "metadata": {},
   "outputs": [],
   "source": [
    "all_spike_time_df[\"timestamp_bin\"] = all_spike_time_df.apply(lambda row: np.digitize(row[\"spike_times\"], row[\"trial_chunked_ephys_timestamp\"]) - 11, axis=1)"
   ]
  },
  {
   "cell_type": "code",
   "execution_count": 48,
   "metadata": {},
   "outputs": [],
   "source": [
    "all_spike_time_df[\"relative_time_to_tone\"] = all_spike_time_df.apply(lambda row: row[\"spike_times\"] - row[\"closest_trial\"], axis=1)"
   ]
  },
  {
   "cell_type": "code",
   "execution_count": null,
   "metadata": {},
   "outputs": [],
   "source": []
  },
  {
   "cell_type": "code",
   "execution_count": 49,
   "metadata": {
    "scrolled": true
   },
   "outputs": [],
   "source": [
    "merged_spike_trial_df = pd.merge(left=all_spike_time_df, right=all_trials_df, left_on=[\"recording_name\", \"closest_trial\"], right_on=[\"recording_file\", \"time\"], how=\"inner\")"
   ]
  },
  {
   "cell_type": "code",
   "execution_count": 50,
   "metadata": {},
   "outputs": [
    {
     "data": {
      "text/html": [
       "<div>\n",
       "<style scoped>\n",
       "    .dataframe tbody tr th:only-of-type {\n",
       "        vertical-align: middle;\n",
       "    }\n",
       "\n",
       "    .dataframe tbody tr th {\n",
       "        vertical-align: top;\n",
       "    }\n",
       "\n",
       "    .dataframe thead th {\n",
       "        text-align: right;\n",
       "    }\n",
       "</style>\n",
       "<table border=\"1\" class=\"dataframe\">\n",
       "  <thead>\n",
       "    <tr style=\"text-align: right;\">\n",
       "      <th></th>\n",
       "      <th>spike_clusters</th>\n",
       "      <th>spike_times</th>\n",
       "      <th>cluster_id</th>\n",
       "      <th>1_5_ms_isi</th>\n",
       "      <th>1ms_isi</th>\n",
       "      <th>2ms_isi</th>\n",
       "      <th>amp</th>\n",
       "      <th>ch</th>\n",
       "      <th>channel_group</th>\n",
       "      <th>depth</th>\n",
       "      <th>...</th>\n",
       "      <th>video_frame</th>\n",
       "      <th>video_number</th>\n",
       "      <th>subject_info</th>\n",
       "      <th>condition</th>\n",
       "      <th>competition_closeness</th>\n",
       "      <th>Unnamed: 13</th>\n",
       "      <th>resampled_index</th>\n",
       "      <th>all_subjects</th>\n",
       "      <th>current_subject</th>\n",
       "      <th>trial_outcome</th>\n",
       "    </tr>\n",
       "  </thead>\n",
       "  <tbody>\n",
       "    <tr>\n",
       "      <th>0</th>\n",
       "      <td>89</td>\n",
       "      <td>8060750</td>\n",
       "      <td>89</td>\n",
       "      <td>11</td>\n",
       "      <td>11</td>\n",
       "      <td>13</td>\n",
       "      <td>17.238409</td>\n",
       "      <td>26</td>\n",
       "      <td>0.0</td>\n",
       "      <td>520.0</td>\n",
       "      <td>...</td>\n",
       "      <td>5755</td>\n",
       "      <td>1.0</td>\n",
       "      <td>1-1_t1b2L_box_2</td>\n",
       "      <td>1.2</td>\n",
       "      <td>Subj 2 blocking Subj 1</td>\n",
       "      <td>NaN</td>\n",
       "      <td>287865</td>\n",
       "      <td>[1.2, 1.1]</td>\n",
       "      <td>1.1</td>\n",
       "      <td>lose</td>\n",
       "    </tr>\n",
       "    <tr>\n",
       "      <th>1</th>\n",
       "      <td>89</td>\n",
       "      <td>8060750</td>\n",
       "      <td>89</td>\n",
       "      <td>11</td>\n",
       "      <td>11</td>\n",
       "      <td>13</td>\n",
       "      <td>17.238409</td>\n",
       "      <td>26</td>\n",
       "      <td>0.0</td>\n",
       "      <td>520.0</td>\n",
       "      <td>...</td>\n",
       "      <td>5745</td>\n",
       "      <td>2.0</td>\n",
       "      <td>1-1_t1b2L_box_2</td>\n",
       "      <td>1.2</td>\n",
       "      <td>Subj 2 blocking Subj 1</td>\n",
       "      <td>NaN</td>\n",
       "      <td>287865</td>\n",
       "      <td>[1.2, 1.1]</td>\n",
       "      <td>1.1</td>\n",
       "      <td>lose</td>\n",
       "    </tr>\n",
       "    <tr>\n",
       "      <th>2</th>\n",
       "      <td>89</td>\n",
       "      <td>8061199</td>\n",
       "      <td>89</td>\n",
       "      <td>11</td>\n",
       "      <td>11</td>\n",
       "      <td>13</td>\n",
       "      <td>17.238409</td>\n",
       "      <td>26</td>\n",
       "      <td>0.0</td>\n",
       "      <td>520.0</td>\n",
       "      <td>...</td>\n",
       "      <td>5755</td>\n",
       "      <td>1.0</td>\n",
       "      <td>1-1_t1b2L_box_2</td>\n",
       "      <td>1.2</td>\n",
       "      <td>Subj 2 blocking Subj 1</td>\n",
       "      <td>NaN</td>\n",
       "      <td>287865</td>\n",
       "      <td>[1.2, 1.1]</td>\n",
       "      <td>1.1</td>\n",
       "      <td>lose</td>\n",
       "    </tr>\n",
       "    <tr>\n",
       "      <th>3</th>\n",
       "      <td>89</td>\n",
       "      <td>8061199</td>\n",
       "      <td>89</td>\n",
       "      <td>11</td>\n",
       "      <td>11</td>\n",
       "      <td>13</td>\n",
       "      <td>17.238409</td>\n",
       "      <td>26</td>\n",
       "      <td>0.0</td>\n",
       "      <td>520.0</td>\n",
       "      <td>...</td>\n",
       "      <td>5745</td>\n",
       "      <td>2.0</td>\n",
       "      <td>1-1_t1b2L_box_2</td>\n",
       "      <td>1.2</td>\n",
       "      <td>Subj 2 blocking Subj 1</td>\n",
       "      <td>NaN</td>\n",
       "      <td>287865</td>\n",
       "      <td>[1.2, 1.1]</td>\n",
       "      <td>1.1</td>\n",
       "      <td>lose</td>\n",
       "    </tr>\n",
       "    <tr>\n",
       "      <th>4</th>\n",
       "      <td>89</td>\n",
       "      <td>8061583</td>\n",
       "      <td>89</td>\n",
       "      <td>11</td>\n",
       "      <td>11</td>\n",
       "      <td>13</td>\n",
       "      <td>17.238409</td>\n",
       "      <td>26</td>\n",
       "      <td>0.0</td>\n",
       "      <td>520.0</td>\n",
       "      <td>...</td>\n",
       "      <td>5755</td>\n",
       "      <td>1.0</td>\n",
       "      <td>1-1_t1b2L_box_2</td>\n",
       "      <td>1.2</td>\n",
       "      <td>Subj 2 blocking Subj 1</td>\n",
       "      <td>NaN</td>\n",
       "      <td>287865</td>\n",
       "      <td>[1.2, 1.1]</td>\n",
       "      <td>1.1</td>\n",
       "      <td>lose</td>\n",
       "    </tr>\n",
       "  </tbody>\n",
       "</table>\n",
       "<p>5 rows × 40 columns</p>\n",
       "</div>"
      ],
      "text/plain": [
       "   spike_clusters  spike_times  cluster_id  1_5_ms_isi  1ms_isi  2ms_isi  \\\n",
       "0              89      8060750          89          11       11       13   \n",
       "1              89      8060750          89          11       11       13   \n",
       "2              89      8061199          89          11       11       13   \n",
       "3              89      8061199          89          11       11       13   \n",
       "4              89      8061583          89          11       11       13   \n",
       "\n",
       "         amp  ch  channel_group  depth  ...  video_frame video_number  \\\n",
       "0  17.238409  26            0.0  520.0  ...         5755          1.0   \n",
       "1  17.238409  26            0.0  520.0  ...         5745          2.0   \n",
       "2  17.238409  26            0.0  520.0  ...         5755          1.0   \n",
       "3  17.238409  26            0.0  520.0  ...         5745          2.0   \n",
       "4  17.238409  26            0.0  520.0  ...         5755          1.0   \n",
       "\n",
       "      subject_info  condition   competition_closeness Unnamed: 13  \\\n",
       "0  1-1_t1b2L_box_2        1.2  Subj 2 blocking Subj 1         NaN   \n",
       "1  1-1_t1b2L_box_2        1.2  Subj 2 blocking Subj 1         NaN   \n",
       "2  1-1_t1b2L_box_2        1.2  Subj 2 blocking Subj 1         NaN   \n",
       "3  1-1_t1b2L_box_2        1.2  Subj 2 blocking Subj 1         NaN   \n",
       "4  1-1_t1b2L_box_2        1.2  Subj 2 blocking Subj 1         NaN   \n",
       "\n",
       "   resampled_index  all_subjects  current_subject trial_outcome  \n",
       "0           287865    [1.2, 1.1]              1.1          lose  \n",
       "1           287865    [1.2, 1.1]              1.1          lose  \n",
       "2           287865    [1.2, 1.1]              1.1          lose  \n",
       "3           287865    [1.2, 1.1]              1.1          lose  \n",
       "4           287865    [1.2, 1.1]              1.1          lose  \n",
       "\n",
       "[5 rows x 40 columns]"
      ]
     },
     "execution_count": 50,
     "metadata": {},
     "output_type": "execute_result"
    }
   ],
   "source": [
    "merged_spike_trial_df.head()"
   ]
  },
  {
   "cell_type": "code",
   "execution_count": 51,
   "metadata": {},
   "outputs": [
    {
     "ename": "ValueError",
     "evalue": "",
     "output_type": "error",
     "traceback": [
      "\u001b[0;31m---------------------------------------------------------------------------\u001b[0m",
      "\u001b[0;31mValueError\u001b[0m                                Traceback (most recent call last)",
      "Cell \u001b[0;32mIn[51], line 1\u001b[0m\n\u001b[0;32m----> 1\u001b[0m \u001b[38;5;28;01mraise\u001b[39;00m \u001b[38;5;167;01mValueError\u001b[39;00m()\n",
      "\u001b[0;31mValueError\u001b[0m: "
     ]
    }
   ],
   "source": [
    "raise ValueError()"
   ]
  },
  {
   "cell_type": "code",
   "execution_count": null,
   "metadata": {},
   "outputs": [],
   "source": [
    "merged_spike_trial_df = pd.merge(left=all_spike_time_df, right=all_trials_df, left_on=\"recording_name\", right_on=\"recording_file\", how=\"left\")"
   ]
  },
  {
   "cell_type": "code",
   "execution_count": null,
   "metadata": {},
   "outputs": [],
   "source": [
    "all_trials_df"
   ]
  },
  {
   "cell_type": "code",
   "execution_count": null,
   "metadata": {
    "scrolled": true
   },
   "outputs": [],
   "source": [
    "spike_times"
   ]
  },
  {
   "cell_type": "code",
   "execution_count": null,
   "metadata": {},
   "outputs": [],
   "source": [
    "spike_clusters"
   ]
  },
  {
   "cell_type": "code",
   "execution_count": null,
   "metadata": {},
   "outputs": [],
   "source": [
    "spike_df"
   ]
  },
  {
   "cell_type": "code",
   "execution_count": null,
   "metadata": {},
   "outputs": [],
   "source": [
    "spike_clusters"
   ]
  },
  {
   "cell_type": "code",
   "execution_count": null,
   "metadata": {
    "scrolled": true
   },
   "outputs": [],
   "source": [
    "recording_to_spike_df[list(recording_to_spike_df.keys())[0]].head()"
   ]
  },
  {
   "cell_type": "code",
   "execution_count": null,
   "metadata": {},
   "outputs": [],
   "source": [
    "list(recording_to_spike_df.keys())[0]"
   ]
  },
  {
   "cell_type": "code",
   "execution_count": null,
   "metadata": {},
   "outputs": [],
   "source": [
    "current_df = recording_to_spike_df[list(recording_to_spike_df.keys())[0]]"
   ]
  },
  {
   "cell_type": "code",
   "execution_count": null,
   "metadata": {},
   "outputs": [],
   "source": [
    "current_df = current_df[current_df[\"spike_clusters\"]==9]"
   ]
  },
  {
   "cell_type": "code",
   "execution_count": null,
   "metadata": {},
   "outputs": [],
   "source": [
    "epsilon = 1e-10\n"
   ]
  },
  {
   "cell_type": "code",
   "execution_count": null,
   "metadata": {},
   "outputs": [],
   "source": [
    "current_df[\"current_isi\"] = current_df[\"current_isi\"] + epsilon"
   ]
  },
  {
   "cell_type": "code",
   "execution_count": null,
   "metadata": {},
   "outputs": [],
   "source": [
    "bins = np.linspace(0, 0.01, num=11)"
   ]
  },
  {
   "cell_type": "code",
   "execution_count": null,
   "metadata": {},
   "outputs": [],
   "source": [
    "bins"
   ]
  },
  {
   "cell_type": "code",
   "execution_count": null,
   "metadata": {},
   "outputs": [],
   "source": [
    "sns.histplot(current_df[\"current_isi\"], bins=bins)\n"
   ]
  },
  {
   "cell_type": "code",
   "execution_count": null,
   "metadata": {
    "scrolled": true
   },
   "outputs": [],
   "source": [
    "recording_to_spike_df[list(recording_to_spike_df.keys())[0]].tail()"
   ]
  },
  {
   "cell_type": "code",
   "execution_count": null,
   "metadata": {},
   "outputs": [],
   "source": [
    "current_df[\"cluster_id\"].unique()"
   ]
  },
  {
   "cell_type": "code",
   "execution_count": null,
   "metadata": {},
   "outputs": [],
   "source": [
    "bins = np.linspace(0, 0.05, num=51)"
   ]
  },
  {
   "cell_type": "code",
   "execution_count": null,
   "metadata": {},
   "outputs": [],
   "source": [
    "current_df = recording_to_spike_df[list(recording_to_spike_df.keys())[0]]\n",
    "for id in sorted(current_df[\"cluster_id\"].unique()):\n",
    "    try:\n",
    "        unit_df = current_df[current_df[\"spike_clusters\"]==id]\n",
    "        n_spikes = unit_df[\"n_spikes\"].iloc[0]\n",
    "        counts, bin_edges = np.histogram(unit_df[\"current_isi\"], bins=bins)\n",
    "        # print(counts)\n",
    "        # if counts[0] + counts[1] <= n_spikes / 1000:\n",
    "        fig, ax = plt.subplots()\n",
    "        sns.histplot(unit_df[\"current_isi\"], bins=bin_edges, kde=False)        \n",
    "        plt.title(\"Unit {} with {} spikes and {} + {} in ISI bars at {} {} ISI Ratio\".format(id, n_spikes, counts[0], counts[1], round(counts[0]/ n_spikes * 1000, 4), round(counts[1] / n_spikes * 1000, 4)))\n",
    "        plt.show()\n",
    "        plt.close()\n",
    "    except Exception as e: \n",
    "        print(e)        \n",
    "        continue\n",
    "    "
   ]
  },
  {
   "cell_type": "code",
   "execution_count": null,
   "metadata": {},
   "outputs": [],
   "source": [
    "raise ValueError()"
   ]
  },
  {
   "cell_type": "markdown",
   "metadata": {},
   "source": [
    "# Labeling before or after"
   ]
  },
  {
   "cell_type": "code",
   "execution_count": null,
   "metadata": {},
   "outputs": [],
   "source": [
    "recording_to_spike_df.keys()"
   ]
  },
  {
   "cell_type": "code",
   "execution_count": null,
   "metadata": {},
   "outputs": [],
   "source": [
    "all_trials_df = all_trials_df[all_trials_df[\"recording_file\"].isin(recording_to_spike_df.keys())].reset_index(drop=True)"
   ]
  },
  {
   "cell_type": "code",
   "execution_count": null,
   "metadata": {},
   "outputs": [],
   "source": [
    "all_trials_df.head()"
   ]
  },
  {
   "cell_type": "markdown",
   "metadata": {},
   "source": [
    "# Calculating the firing rate"
   ]
  },
  {
   "cell_type": "code",
   "execution_count": null,
   "metadata": {},
   "outputs": [],
   "source": [
    "all_trials_df.columns"
   ]
  },
  {
   "cell_type": "code",
   "execution_count": null,
   "metadata": {
    "scrolled": true
   },
   "outputs": [],
   "source": [
    "all_trials_df.head()"
   ]
  },
  {
   "cell_type": "code",
   "execution_count": null,
   "metadata": {},
   "outputs": [],
   "source": [
    "grouped_trials_df = all_trials_df.groupby([\"recording_file\", \"current_subject\", \"video_number\"]).agg({\n",
    "    'time_stamp_index': list,\n",
    "    'trial_outcome': list,\n",
    "    'competition_closeness': list}).reset_index()"
   ]
  },
  {
   "cell_type": "code",
   "execution_count": null,
   "metadata": {},
   "outputs": [],
   "source": [
    "grouped_trials_df.head()"
   ]
  },
  {
   "cell_type": "code",
   "execution_count": null,
   "metadata": {},
   "outputs": [],
   "source": [
    "grouped_trials_df = grouped_trials_df.drop_duplicates(subset=[\"recording_file\", \"current_subject\"], keep='first').reset_index(drop=True)"
   ]
  },
  {
   "cell_type": "code",
   "execution_count": null,
   "metadata": {},
   "outputs": [],
   "source": [
    "grouped_trials_df.head()"
   ]
  },
  {
   "cell_type": "markdown",
   "metadata": {},
   "source": [
    "## Seeing which tone time each unit time is closest to"
   ]
  },
  {
   "cell_type": "markdown",
   "metadata": {},
   "source": [
    "- We will divide all the time up into bins of before and after each tone. Then we will see which time bin the neuron firing falls into.\n",
    "    - So everything in the 0 bin would be before the first time bin. The 1 bin would be everything in between the first and second time bin. The last would be everything after last time bin."
   ]
  },
  {
   "cell_type": "code",
   "execution_count": null,
   "metadata": {
    "scrolled": true
   },
   "outputs": [],
   "source": [
    "recording_to_spike_df[list(recording_to_spike_df.keys())[0]].head()"
   ]
  },
  {
   "cell_type": "code",
   "execution_count": null,
   "metadata": {},
   "outputs": [],
   "source": [
    "def find_closest(num, ordered_list):\n",
    "    # Using a list comprehension to find the differences and then return the number with the smallest difference\n",
    "    return min(ordered_list, key=lambda x: abs(x - num))"
   ]
  },
  {
   "cell_type": "code",
   "execution_count": null,
   "metadata": {},
   "outputs": [],
   "source": [
    "for recording, spike_df in recording_to_spike_df.items():\n",
    "    try:\n",
    "        current_recording = grouped_trials_df[grouped_trials_df[\"recording_file\"] == recording].iloc[0]\n",
    "        current_time_stamps = current_recording[\"time_stamp_index\"]\n",
    "        spike_df[\"closest_timestamp\"] = spike_df[\"spike_times\"].apply(lambda x: find_closest(x, current_time_stamps))\n",
    "        spike_df[\"timestamp_difference\"] = spike_df[\"spike_times\"] - spike_df[\"closest_timestamp\"] \n",
    "        \n",
    "    except Exception as e:\n",
    "        print(e)\n",
    "        continue"
   ]
  },
  {
   "cell_type": "code",
   "execution_count": null,
   "metadata": {},
   "outputs": [],
   "source": [
    "len(current_time_stamps)"
   ]
  },
  {
   "cell_type": "code",
   "execution_count": null,
   "metadata": {},
   "outputs": [],
   "source": []
  },
  {
   "cell_type": "code",
   "execution_count": null,
   "metadata": {},
   "outputs": [],
   "source": [
    "spike_df"
   ]
  },
  {
   "cell_type": "markdown",
   "metadata": {},
   "source": [
    "- Seeing if the firing time is within a 5 second interval before or 10 second after any tone"
   ]
  },
  {
   "cell_type": "code",
   "execution_count": null,
   "metadata": {},
   "outputs": [],
   "source": [
    "grouped_trials_df[\"good_unit_times\"].iloc[0][0][0]"
   ]
  },
  {
   "cell_type": "code",
   "execution_count": null,
   "metadata": {},
   "outputs": [],
   "source": [
    "from collections import defaultdict"
   ]
  },
  {
   "cell_type": "code",
   "execution_count": null,
   "metadata": {},
   "outputs": [],
   "source": [
    "def within_interval(row):\n",
    "    \"\"\"\n",
    "    \"\"\"\n",
    "    within_interval_unit_times = defaultdict(list)\n",
    "    for index, time in enumerate(row['good_unit_times']):\n",
    "        current_bin = row['good_unit_bins'][index]\n",
    "\n",
    "        try:\n",
    "            # checking number before\n",
    "            first_tone_time = row['time_stamp_index'][current_bin - 1]\n",
    "            if time >= first_tone_time - 5 * 20000 and time <= first_tone_time + 10 * 20000:\n",
    "                within_interval_unit_times[first_tone_time].append(\n",
    "                    (first_tone_time, index, time, row['good_unit_all_ids']))\n",
    "    \n",
    "            # checking number after\n",
    "            second_tone_time = row['time_stamp_index'][current_bin]\n",
    "            if time >= second_tone_time - 5 * 20000 and time <= second_tone_time + 10 * 20000:\n",
    "                within_interval_unit_times[second_tone_time].append(\n",
    "                    (second_tone_time, index, time, row['good_unit_all_ids']))\n",
    "        except:\n",
    "            pass\n",
    "    \n",
    "    return within_interval_unit_times\n",
    "\n"
   ]
  },
  {
   "cell_type": "code",
   "execution_count": null,
   "metadata": {},
   "outputs": [],
   "source": [
    "grouped_trials_df[\"within_interval\"] = grouped_trials_df.apply(within_interval, axis=1)"
   ]
  },
  {
   "cell_type": "code",
   "execution_count": null,
   "metadata": {},
   "outputs": [],
   "source": [
    "grouped_trials_df[\"within_interval\"].iloc[1]"
   ]
  },
  {
   "cell_type": "code",
   "execution_count": null,
   "metadata": {},
   "outputs": [],
   "source": [
    "within_interval_unit_times = defaultdict(list)\n",
    "for index, time in enumerate(good_unit_times):\n",
    "    try:\n",
    "        current_bin = good_unit_bins[index]\n",
    "\n",
    "\n",
    "        # checking number before\n",
    "        first_tone_time = training_and_competition_trials[current_bin - 1]\n",
    "        if time >= first_tone_time - 5 * 20000 and time <= first_tone_time + 10 * 20000:\n",
    "            within_interval_unit_times[first_tone_time].append((first_tone_time, index, time, good_unit_all_ids[index]))\n",
    "\n",
    "        # checking number after\n",
    "        second_tone_time = training_and_competition_trials[current_bin]\n",
    "        if time >= second_tone_time - 5 * 20000 and time <= second_tone_time + 10 * 20000:\n",
    "            within_interval_unit_times[second_tone_time].append((second_tone_time, index, time, good_unit_all_ids[index]))\n",
    "    except:\n",
    "        pass"
   ]
  },
  {
   "cell_type": "code",
   "execution_count": null,
   "metadata": {},
   "outputs": [],
   "source": [
    "within_interval_unit_times[training_and_competition_trials[0]][:10]"
   ]
  },
  {
   "cell_type": "code",
   "execution_count": null,
   "metadata": {},
   "outputs": [],
   "source": [
    "within_interval_unit_times[training_and_competition_trials[-1]][:10]"
   ]
  },
  {
   "cell_type": "markdown",
   "metadata": {},
   "source": [
    "## Seeing which 100ms bin each unit time belongs to"
   ]
  },
  {
   "cell_type": "markdown",
   "metadata": {},
   "source": [
    "- Creating bins for each 100ms time interval"
   ]
  },
  {
   "cell_type": "code",
   "execution_count": null,
   "metadata": {},
   "outputs": [],
   "source": [
    "tone_unit_time_to_interval = {}\n",
    "for time in training_and_competition_trials:\n",
    "    tone_unit_time_to_interval[time] = [time + num * 2000 for num in range(-50, 100)]"
   ]
  },
  {
   "cell_type": "code",
   "execution_count": null,
   "metadata": {},
   "outputs": [],
   "source": [
    "len(tone_unit_time_to_interval[training_and_competition_trials[0]])"
   ]
  },
  {
   "cell_type": "markdown",
   "metadata": {},
   "source": [
    "- Seeing which bin the tone time fits into"
   ]
  },
  {
   "cell_type": "code",
   "execution_count": null,
   "metadata": {},
   "outputs": [],
   "source": [
    "all_bin_mapping = None\n",
    "for key, value in within_interval_unit_times.items():\n",
    "    unit_fire_time = [fire_time for tone_time, index, fire_time, unit_id in value]\n",
    "    unit_fire_bin = np.digitize(unit_fire_time, tone_unit_time_to_interval[key], right=True)\n",
    "    current_tone_bin_map = np.hstack((np.array(value), unit_fire_bin[np.newaxis].T))\n",
    "    if all_bin_mapping is None:\n",
    "        all_bin_mapping = current_tone_bin_map\n",
    "    else: \n",
    "        all_bin_mapping = np.vstack((all_bin_mapping, current_tone_bin_map))\n",
    "    "
   ]
  },
  {
   "cell_type": "code",
   "execution_count": null,
   "metadata": {},
   "outputs": [],
   "source": [
    "all_bin_mapping"
   ]
  },
  {
   "cell_type": "markdown",
   "metadata": {},
   "source": [
    "## Calculating Firing Rate"
   ]
  },
  {
   "cell_type": "code",
   "execution_count": null,
   "metadata": {},
   "outputs": [],
   "source": [
    "from collections import Counter, defaultdict"
   ]
  },
  {
   "cell_type": "markdown",
   "metadata": {},
   "source": [
    "- Creating a reference for all the tone bin combinations to each tone\n",
    "    - This is because we need a unique identifier for each tone and bin combination. So we will just add the numbers"
   ]
  },
  {
   "cell_type": "code",
   "execution_count": null,
   "metadata": {},
   "outputs": [],
   "source": [
    "tone_bin_for_index = all_bin_mapping[:,0] + all_bin_mapping[:,4]"
   ]
  },
  {
   "cell_type": "code",
   "execution_count": null,
   "metadata": {},
   "outputs": [],
   "source": [
    "tone_bin_to_tone = np.hstack((tone_bin_for_index[np.newaxis].T, all_bin_mapping[:,0][np.newaxis].T))"
   ]
  },
  {
   "cell_type": "code",
   "execution_count": null,
   "metadata": {},
   "outputs": [],
   "source": [
    "tone_bin_to_tone"
   ]
  },
  {
   "cell_type": "code",
   "execution_count": null,
   "metadata": {},
   "outputs": [],
   "source": [
    "tone_bin_to_tone = dict(zip(tone_bin_to_tone[:,0], tone_bin_to_tone[:,1]))"
   ]
  },
  {
   "cell_type": "code",
   "execution_count": null,
   "metadata": {
    "scrolled": true
   },
   "outputs": [],
   "source": [
    "tone_bin_to_tone"
   ]
  },
  {
   "cell_type": "code",
   "execution_count": null,
   "metadata": {},
   "outputs": [],
   "source": [
    "tone_bin_for_index"
   ]
  },
  {
   "cell_type": "markdown",
   "metadata": {},
   "source": [
    "- Getting the number of times each neuron fires"
   ]
  },
  {
   "cell_type": "code",
   "execution_count": null,
   "metadata": {},
   "outputs": [],
   "source": [
    "firing_counts = defaultdict(lambda: defaultdict(dict))\n",
    "for tone_time, index, firing_time, unit_id, bin_index in all_bin_mapping:\n",
    "    tone_bin = tone_time + bin_index\n",
    "    if firing_counts[unit_id][tone_bin]:\n",
    "        firing_counts[unit_id][tone_bin] += 1\n",
    "    else:\n",
    "        firing_counts[unit_id][tone_bin] = 1"
   ]
  },
  {
   "cell_type": "code",
   "execution_count": null,
   "metadata": {},
   "outputs": [],
   "source": [
    "firing_rate_df = pd.DataFrame.from_dict(firing_counts)"
   ]
  },
  {
   "cell_type": "code",
   "execution_count": null,
   "metadata": {},
   "outputs": [],
   "source": [
    "firing_rate_df = firing_rate_df.fillna(value=0)"
   ]
  },
  {
   "cell_type": "code",
   "execution_count": null,
   "metadata": {
    "scrolled": true
   },
   "outputs": [],
   "source": [
    "firing_rate_df.head()"
   ]
  },
  {
   "cell_type": "code",
   "execution_count": null,
   "metadata": {},
   "outputs": [],
   "source": [
    "firing_rate_df.loc[:].values"
   ]
  },
  {
   "cell_type": "markdown",
   "metadata": {},
   "source": [
    "- Classifying each time stamp"
   ]
  },
  {
   "cell_type": "code",
   "execution_count": null,
   "metadata": {},
   "outputs": [],
   "source": [
    "all_bin_mapping"
   ]
  },
  {
   "cell_type": "code",
   "execution_count": null,
   "metadata": {},
   "outputs": [],
   "source": [
    "all_bin_mapping[:, 0]"
   ]
  },
  {
   "cell_type": "code",
   "execution_count": null,
   "metadata": {},
   "outputs": [],
   "source": [
    "all_bin_mapping[:, 2]"
   ]
  },
  {
   "cell_type": "markdown",
   "metadata": {},
   "source": [
    "- Making a dictionary that maps all the firing times to the corresponding tone"
   ]
  },
  {
   "cell_type": "code",
   "execution_count": null,
   "metadata": {},
   "outputs": [],
   "source": [
    "fire_to_tone_time = dict(zip(all_bin_mapping[:, 2], all_bin_mapping[:, 0]))"
   ]
  },
  {
   "cell_type": "code",
   "execution_count": null,
   "metadata": {
    "scrolled": true
   },
   "outputs": [],
   "source": [
    "fire_to_tone_time"
   ]
  },
  {
   "cell_type": "code",
   "execution_count": null,
   "metadata": {},
   "outputs": [],
   "source": [
    "firing_rate_df = firing_rate_df.reset_index()"
   ]
  },
  {
   "cell_type": "markdown",
   "metadata": {},
   "source": [
    "- Labeling which tone time that fire time belongs to"
   ]
  },
  {
   "cell_type": "code",
   "execution_count": null,
   "metadata": {},
   "outputs": [],
   "source": [
    "firing_rate_df[\"tone_time\"] = firing_rate_df[\"index\"].map(tone_bin_to_tone)"
   ]
  },
  {
   "cell_type": "code",
   "execution_count": null,
   "metadata": {
    "scrolled": true
   },
   "outputs": [],
   "source": [
    "firing_rate_df.head()"
   ]
  },
  {
   "cell_type": "code",
   "execution_count": null,
   "metadata": {},
   "outputs": [],
   "source": [
    "firing_rate_df[\"bin\"] = firing_rate_df[\"index\"] - firing_rate_df[\"tone_time\"]"
   ]
  },
  {
   "cell_type": "code",
   "execution_count": null,
   "metadata": {},
   "outputs": [],
   "source": [
    "training_and_competition_trials"
   ]
  },
  {
   "cell_type": "code",
   "execution_count": null,
   "metadata": {},
   "outputs": [],
   "source": [
    "len(training_and_competition_trials)"
   ]
  },
  {
   "cell_type": "code",
   "execution_count": null,
   "metadata": {},
   "outputs": [],
   "source": [
    "# iterating through the timestamp of each good unit spike\n",
    "\n",
    "before_and_after_interval_unit_times = defaultdict(dict)\n",
    "\n",
    "per_trial_number_of_samples = trial_one_way_duration * sampling_rate\n",
    "\n",
    "for index, time in enumerate(good_unit_times):\n",
    "    # getting the corresponding tone bin for the timestamp\n",
    "    current_bin = good_unit_bins[index]\n",
    "    current_neuron = good_unit_all_ids[index]   \n",
    "    \n",
    "    # checking number before\n",
    "    first_tone_time = tone_time_stamps[(current_bin - 1) % len(tone_time_stamps)]\n",
    "    # checking number after\n",
    "    second_tone_time = tone_time_stamps[(current_bin) % len(tone_time_stamps)]    \n",
    "    \n",
    "    # checking if time is before first number\n",
    "    if first_tone_time - per_trial_number_of_samples <= time <= first_tone_time:\n",
    "        before_and_after_interval_unit_times[time][\"tone_time\"] = first_tone_time\n",
    "        before_and_after_interval_unit_times[time][\"before_or_after\"] = \"before\"\n",
    "        before_and_after_interval_unit_times[time][\"neuron_id\"] = good_unit_all_ids[index]\n",
    "    # checking if time is after first number\n",
    "    elif first_tone_time < time <= first_tone_time + per_trial_number_of_samples:\n",
    "        before_and_after_interval_unit_times[time][\"tone_time\"] = first_tone_time\n",
    "        before_and_after_interval_unit_times[time][\"before_or_after\"] = \"after\"\n",
    "        before_and_after_interval_unit_times[time][\"neuron_id\"] = good_unit_all_ids[index]\n",
    "    # checking if time is before second number\n",
    "    if second_tone_time - per_trial_number_of_samples <= time <= second_tone_time:\n",
    "        before_and_after_interval_unit_times[time][\"tone_time\"] = second_tone_time\n",
    "        before_and_after_interval_unit_times[time][\"before_or_after\"] = \"before\"\n",
    "        before_and_after_interval_unit_times[time][\"neuron_id\"] = good_unit_all_ids[index]\n",
    "    # checking if time is after second number\n",
    "    elif second_tone_time < time <= second_tone_time + per_trial_number_of_samples:\n",
    "        before_and_after_interval_unit_times[time][\"tone_time\"] = second_tone_time\n",
    "        before_and_after_interval_unit_times[time][\"before_or_after\"] = \"after\"\n",
    "        before_and_after_interval_unit_times[time][\"neuron_id\"] = good_unit_all_ids[index]"
   ]
  },
  {
   "cell_type": "code",
   "execution_count": null,
   "metadata": {},
   "outputs": [],
   "source": [
    "recording_to_good_unit_times"
   ]
  },
  {
   "cell_type": "markdown",
   "metadata": {
    "created_in_deepnote_cell": true,
    "deepnote_cell_type": "markdown"
   },
   "source": [
    "<a style='text-decoration:none;line-height:16px;display:flex;color:#5B5B62;padding:10px;justify-content:end;' href='https://deepnote.com?utm_source=created-in-deepnote-cell&projectId=a4490980-3f6a-4f44-80eb-ebd789a5b21f' target=\"_blank\">\n",
    "<img alt='Created in deepnote.com' style='display:inline;max-height:16px;margin:0px;margin-right:7.5px;' src='data:image/svg+xml;base64,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' > </img>\n",
    "Created in <span style='font-weight:600;margin-left:4px;'>Deepnote</span></a>"
   ]
  }
 ],
 "metadata": {
  "deepnote": {},
  "deepnote_execution_queue": [],
  "deepnote_notebook_id": "cf8fe3695d074ee7887fdf6459cbf5ce",
  "kernelspec": {
   "display_name": "Python 3 (ipykernel)",
   "language": "python",
   "name": "python3"
  },
  "language_info": {
   "codemirror_mode": {
    "name": "ipython",
    "version": 3
   },
   "file_extension": ".py",
   "mimetype": "text/x-python",
   "name": "python",
   "nbconvert_exporter": "python",
   "pygments_lexer": "ipython3",
   "version": "3.9.16"
  }
 },
 "nbformat": 4,
 "nbformat_minor": 4
}
