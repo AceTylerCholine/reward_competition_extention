{
 "cells": [
  {
   "cell_type": "markdown",
   "id": "238a6b1a",
   "metadata": {},
   "source": [
    "# Spike Gadgets Ephys and Video Syncing"
   ]
  },
  {
   "cell_type": "code",
   "execution_count": 1,
   "id": "7650e225",
   "metadata": {},
   "outputs": [],
   "source": [
    "import os\n",
    "import re\n",
    "import sys\n",
    "from collections import defaultdict\n",
    "import random\n",
    "from random import randrange\n",
    "import glob\n",
    "import warnings"
   ]
  },
  {
   "cell_type": "code",
   "execution_count": 2,
   "id": "708b2d99",
   "metadata": {},
   "outputs": [],
   "source": [
    "import numpy as np\n",
    "import pandas as pd\n",
    "# import cv2\n",
    "from IPython.display import Video\n",
    "import matplotlib.pyplot as plt"
   ]
  },
  {
   "cell_type": "code",
   "execution_count": 3,
   "id": "a0a6d069",
   "metadata": {},
   "outputs": [],
   "source": [
    "# setting path\n",
    "sys.path.append('../../src')"
   ]
  },
  {
   "cell_type": "code",
   "execution_count": 4,
   "id": "2c463f5c",
   "metadata": {},
   "outputs": [],
   "source": [
    "import trodes.read_exported"
   ]
  },
  {
   "cell_type": "code",
   "execution_count": 5,
   "id": "9a656325",
   "metadata": {},
   "outputs": [],
   "source": [
    "%matplotlib inline"
   ]
  },
  {
   "cell_type": "code",
   "execution_count": 6,
   "id": "0a14db26",
   "metadata": {},
   "outputs": [],
   "source": [
    "import spikeinterface"
   ]
  },
  {
   "cell_type": "code",
   "execution_count": 7,
   "id": "9fddb437",
   "metadata": {},
   "outputs": [],
   "source": [
    "import spikeinterface as si  # import core only\n",
    "import spikeinterface.extractors as se\n",
    "import spikeinterface.sorters as ss\n",
    "import spikeinterface.comparison as sc\n",
    "import spikeinterface.widgets as sw"
   ]
  },
  {
   "cell_type": "code",
   "execution_count": 8,
   "id": "bf1f02f5",
   "metadata": {},
   "outputs": [],
   "source": [
    "import spikeinterface.core"
   ]
  },
  {
   "cell_type": "code",
   "execution_count": 9,
   "id": "46a90c07",
   "metadata": {},
   "outputs": [],
   "source": [
    "from probeinterface import get_probe\n",
    "from probeinterface.plotting import plot_probe, plot_probe_group\n",
    "from probeinterface import write_prb, read_prb"
   ]
  },
  {
   "cell_type": "code",
   "execution_count": 10,
   "id": "06c10da3",
   "metadata": {},
   "outputs": [],
   "source": [
    "import spikeinterface.full as si"
   ]
  },
  {
   "cell_type": "markdown",
   "id": "2db623b3",
   "metadata": {},
   "source": [
    "# Reading in the Timestamp Information"
   ]
  },
  {
   "cell_type": "code",
   "execution_count": 11,
   "id": "35d7c055",
   "metadata": {},
   "outputs": [],
   "source": [
    "tone_time_stamps_df = pd.read_csv(\"./tone_df_06_20.csv\", index_col=0)"
   ]
  },
  {
   "cell_type": "code",
   "execution_count": 12,
   "id": "4970692c",
   "metadata": {},
   "outputs": [
    {
     "data": {
      "text/html": [
       "<div>\n",
       "<style scoped>\n",
       "    .dataframe tbody tr th:only-of-type {\n",
       "        vertical-align: middle;\n",
       "    }\n",
       "\n",
       "    .dataframe tbody tr th {\n",
       "        vertical-align: top;\n",
       "    }\n",
       "\n",
       "    .dataframe thead th {\n",
       "        text-align: right;\n",
       "    }\n",
       "</style>\n",
       "<table border=\"1\" class=\"dataframe\">\n",
       "  <thead>\n",
       "    <tr style=\"text-align: right;\">\n",
       "      <th></th>\n",
       "      <th>Unnamed: 0</th>\n",
       "      <th>tone_timestamp</th>\n",
       "      <th>tone_index</th>\n",
       "      <th>rewarded_or_not</th>\n",
       "      <th>competition_winners</th>\n",
       "      <th>condition</th>\n",
       "      <th>lfp_index</th>\n",
       "      <th>subj_1_1_condition</th>\n",
       "      <th>subj_1_2_condition</th>\n",
       "    </tr>\n",
       "  </thead>\n",
       "  <tbody>\n",
       "    <tr>\n",
       "      <th>0</th>\n",
       "      <td>0</td>\n",
       "      <td>3671086</td>\n",
       "      <td>478042</td>\n",
       "      <td>rewarded</td>\n",
       "      <td>1.1</td>\n",
       "      <td>1.1</td>\n",
       "      <td>23902</td>\n",
       "      <td>win</td>\n",
       "      <td>lose</td>\n",
       "    </tr>\n",
       "    <tr>\n",
       "      <th>1</th>\n",
       "      <td>1</td>\n",
       "      <td>5681112</td>\n",
       "      <td>2488068</td>\n",
       "      <td>rewarded</td>\n",
       "      <td>tie</td>\n",
       "      <td>tie</td>\n",
       "      <td>124403</td>\n",
       "      <td>tie</td>\n",
       "      <td>tie</td>\n",
       "    </tr>\n",
       "    <tr>\n",
       "      <th>2</th>\n",
       "      <td>2</td>\n",
       "      <td>8081141</td>\n",
       "      <td>4888097</td>\n",
       "      <td>rewarded</td>\n",
       "      <td>1.2</td>\n",
       "      <td>1.2</td>\n",
       "      <td>244404</td>\n",
       "      <td>lose</td>\n",
       "      <td>win</td>\n",
       "    </tr>\n",
       "    <tr>\n",
       "      <th>3</th>\n",
       "      <td>3</td>\n",
       "      <td>10381173</td>\n",
       "      <td>7188129</td>\n",
       "      <td>rewarded</td>\n",
       "      <td>1.1</td>\n",
       "      <td>1.1</td>\n",
       "      <td>359406</td>\n",
       "      <td>win</td>\n",
       "      <td>lose</td>\n",
       "    </tr>\n",
       "    <tr>\n",
       "      <th>4</th>\n",
       "      <td>4</td>\n",
       "      <td>12181192</td>\n",
       "      <td>8988148</td>\n",
       "      <td>rewarded</td>\n",
       "      <td>1.2</td>\n",
       "      <td>1.2</td>\n",
       "      <td>449407</td>\n",
       "      <td>lose</td>\n",
       "      <td>win</td>\n",
       "    </tr>\n",
       "    <tr>\n",
       "      <th>5</th>\n",
       "      <td>5</td>\n",
       "      <td>13281209</td>\n",
       "      <td>10088165</td>\n",
       "      <td>rewarded</td>\n",
       "      <td>1.1</td>\n",
       "      <td>1.1</td>\n",
       "      <td>504408</td>\n",
       "      <td>win</td>\n",
       "      <td>lose</td>\n",
       "    </tr>\n",
       "    <tr>\n",
       "      <th>6</th>\n",
       "      <td>6</td>\n",
       "      <td>14281218</td>\n",
       "      <td>11088174</td>\n",
       "      <td>rewarded</td>\n",
       "      <td>1.1</td>\n",
       "      <td>1.1</td>\n",
       "      <td>554408</td>\n",
       "      <td>win</td>\n",
       "      <td>lose</td>\n",
       "    </tr>\n",
       "    <tr>\n",
       "      <th>7</th>\n",
       "      <td>7</td>\n",
       "      <td>16181241</td>\n",
       "      <td>12988197</td>\n",
       "      <td>rewarded</td>\n",
       "      <td>1.2</td>\n",
       "      <td>1.2</td>\n",
       "      <td>649409</td>\n",
       "      <td>lose</td>\n",
       "      <td>win</td>\n",
       "    </tr>\n",
       "    <tr>\n",
       "      <th>8</th>\n",
       "      <td>8</td>\n",
       "      <td>17681260</td>\n",
       "      <td>14488216</td>\n",
       "      <td>rewarded</td>\n",
       "      <td>1.1</td>\n",
       "      <td>1.1</td>\n",
       "      <td>724410</td>\n",
       "      <td>win</td>\n",
       "      <td>lose</td>\n",
       "    </tr>\n",
       "    <tr>\n",
       "      <th>9</th>\n",
       "      <td>9</td>\n",
       "      <td>19781285</td>\n",
       "      <td>16588241</td>\n",
       "      <td>rewarded</td>\n",
       "      <td>1.1</td>\n",
       "      <td>1.1</td>\n",
       "      <td>829412</td>\n",
       "      <td>win</td>\n",
       "      <td>lose</td>\n",
       "    </tr>\n",
       "    <tr>\n",
       "      <th>10</th>\n",
       "      <td>10</td>\n",
       "      <td>20781300</td>\n",
       "      <td>17588256</td>\n",
       "      <td>rewarded</td>\n",
       "      <td>1.2</td>\n",
       "      <td>1.2</td>\n",
       "      <td>879412</td>\n",
       "      <td>lose</td>\n",
       "      <td>win</td>\n",
       "    </tr>\n",
       "    <tr>\n",
       "      <th>11</th>\n",
       "      <td>11</td>\n",
       "      <td>22381319</td>\n",
       "      <td>19188275</td>\n",
       "      <td>rewarded</td>\n",
       "      <td>1.1</td>\n",
       "      <td>1.1</td>\n",
       "      <td>959413</td>\n",
       "      <td>win</td>\n",
       "      <td>lose</td>\n",
       "    </tr>\n",
       "    <tr>\n",
       "      <th>12</th>\n",
       "      <td>12</td>\n",
       "      <td>23681333</td>\n",
       "      <td>20488289</td>\n",
       "      <td>rewarded</td>\n",
       "      <td>1.1</td>\n",
       "      <td>1.1</td>\n",
       "      <td>1024414</td>\n",
       "      <td>win</td>\n",
       "      <td>lose</td>\n",
       "    </tr>\n",
       "    <tr>\n",
       "      <th>13</th>\n",
       "      <td>13</td>\n",
       "      <td>24981351</td>\n",
       "      <td>21788307</td>\n",
       "      <td>rewarded</td>\n",
       "      <td>1.1</td>\n",
       "      <td>1.1</td>\n",
       "      <td>1089415</td>\n",
       "      <td>win</td>\n",
       "      <td>lose</td>\n",
       "    </tr>\n",
       "    <tr>\n",
       "      <th>14</th>\n",
       "      <td>14</td>\n",
       "      <td>25981363</td>\n",
       "      <td>22788319</td>\n",
       "      <td>rewarded</td>\n",
       "      <td>1.2</td>\n",
       "      <td>1.2</td>\n",
       "      <td>1139415</td>\n",
       "      <td>lose</td>\n",
       "      <td>win</td>\n",
       "    </tr>\n",
       "    <tr>\n",
       "      <th>15</th>\n",
       "      <td>15</td>\n",
       "      <td>27381378</td>\n",
       "      <td>24188334</td>\n",
       "      <td>rewarded</td>\n",
       "      <td>1.1</td>\n",
       "      <td>1.1</td>\n",
       "      <td>1209416</td>\n",
       "      <td>win</td>\n",
       "      <td>lose</td>\n",
       "    </tr>\n",
       "    <tr>\n",
       "      <th>16</th>\n",
       "      <td>16</td>\n",
       "      <td>29281401</td>\n",
       "      <td>26088357</td>\n",
       "      <td>rewarded</td>\n",
       "      <td>1.1</td>\n",
       "      <td>1.1</td>\n",
       "      <td>1304417</td>\n",
       "      <td>win</td>\n",
       "      <td>lose</td>\n",
       "    </tr>\n",
       "    <tr>\n",
       "      <th>17</th>\n",
       "      <td>17</td>\n",
       "      <td>30881425</td>\n",
       "      <td>27688381</td>\n",
       "      <td>rewarded</td>\n",
       "      <td>1.1</td>\n",
       "      <td>1.1</td>\n",
       "      <td>1384419</td>\n",
       "      <td>win</td>\n",
       "      <td>lose</td>\n",
       "    </tr>\n",
       "    <tr>\n",
       "      <th>18</th>\n",
       "      <td>18</td>\n",
       "      <td>32281440</td>\n",
       "      <td>29088396</td>\n",
       "      <td>rewarded</td>\n",
       "      <td>1.2</td>\n",
       "      <td>1.2</td>\n",
       "      <td>1454419</td>\n",
       "      <td>lose</td>\n",
       "      <td>win</td>\n",
       "    </tr>\n",
       "    <tr>\n",
       "      <th>19</th>\n",
       "      <td>19</td>\n",
       "      <td>34481464</td>\n",
       "      <td>31288420</td>\n",
       "      <td>rewarded</td>\n",
       "      <td>1.1</td>\n",
       "      <td>1.1</td>\n",
       "      <td>1564421</td>\n",
       "      <td>win</td>\n",
       "      <td>lose</td>\n",
       "    </tr>\n",
       "    <tr>\n",
       "      <th>20</th>\n",
       "      <td>20</td>\n",
       "      <td>35681479</td>\n",
       "      <td>32488435</td>\n",
       "      <td>rewarded</td>\n",
       "      <td>0</td>\n",
       "      <td>rewarded</td>\n",
       "      <td>1624421</td>\n",
       "      <td>rewarded</td>\n",
       "      <td>rewarded</td>\n",
       "    </tr>\n",
       "    <tr>\n",
       "      <th>21</th>\n",
       "      <td>21</td>\n",
       "      <td>41681554</td>\n",
       "      <td>38488510</td>\n",
       "      <td>rewarded</td>\n",
       "      <td>0</td>\n",
       "      <td>rewarded</td>\n",
       "      <td>1924425</td>\n",
       "      <td>rewarded</td>\n",
       "      <td>rewarded</td>\n",
       "    </tr>\n",
       "    <tr>\n",
       "      <th>22</th>\n",
       "      <td>22</td>\n",
       "      <td>42881571</td>\n",
       "      <td>39688527</td>\n",
       "      <td>omission</td>\n",
       "      <td>0</td>\n",
       "      <td>omission</td>\n",
       "      <td>1984426</td>\n",
       "      <td>omission</td>\n",
       "      <td>omission</td>\n",
       "    </tr>\n",
       "    <tr>\n",
       "      <th>23</th>\n",
       "      <td>23</td>\n",
       "      <td>43981579</td>\n",
       "      <td>40788535</td>\n",
       "      <td>rewarded</td>\n",
       "      <td>0</td>\n",
       "      <td>rewarded</td>\n",
       "      <td>2039426</td>\n",
       "      <td>rewarded</td>\n",
       "      <td>rewarded</td>\n",
       "    </tr>\n",
       "    <tr>\n",
       "      <th>24</th>\n",
       "      <td>24</td>\n",
       "      <td>45281597</td>\n",
       "      <td>42088553</td>\n",
       "      <td>rewarded</td>\n",
       "      <td>0</td>\n",
       "      <td>rewarded</td>\n",
       "      <td>2104427</td>\n",
       "      <td>rewarded</td>\n",
       "      <td>rewarded</td>\n",
       "    </tr>\n",
       "    <tr>\n",
       "      <th>25</th>\n",
       "      <td>25</td>\n",
       "      <td>46381608</td>\n",
       "      <td>43188564</td>\n",
       "      <td>rewarded</td>\n",
       "      <td>0</td>\n",
       "      <td>rewarded</td>\n",
       "      <td>2159428</td>\n",
       "      <td>rewarded</td>\n",
       "      <td>rewarded</td>\n",
       "    </tr>\n",
       "    <tr>\n",
       "      <th>26</th>\n",
       "      <td>26</td>\n",
       "      <td>47381620</td>\n",
       "      <td>44188576</td>\n",
       "      <td>rewarded</td>\n",
       "      <td>0</td>\n",
       "      <td>rewarded</td>\n",
       "      <td>2209428</td>\n",
       "      <td>rewarded</td>\n",
       "      <td>rewarded</td>\n",
       "    </tr>\n",
       "    <tr>\n",
       "      <th>27</th>\n",
       "      <td>27</td>\n",
       "      <td>48381635</td>\n",
       "      <td>45188591</td>\n",
       "      <td>rewarded</td>\n",
       "      <td>0</td>\n",
       "      <td>rewarded</td>\n",
       "      <td>2259429</td>\n",
       "      <td>rewarded</td>\n",
       "      <td>rewarded</td>\n",
       "    </tr>\n",
       "    <tr>\n",
       "      <th>28</th>\n",
       "      <td>28</td>\n",
       "      <td>50481658</td>\n",
       "      <td>47288614</td>\n",
       "      <td>omission</td>\n",
       "      <td>0</td>\n",
       "      <td>omission</td>\n",
       "      <td>2364430</td>\n",
       "      <td>omission</td>\n",
       "      <td>omission</td>\n",
       "    </tr>\n",
       "    <tr>\n",
       "      <th>29</th>\n",
       "      <td>29</td>\n",
       "      <td>52881690</td>\n",
       "      <td>49688646</td>\n",
       "      <td>rewarded</td>\n",
       "      <td>0</td>\n",
       "      <td>rewarded</td>\n",
       "      <td>2484432</td>\n",
       "      <td>rewarded</td>\n",
       "      <td>rewarded</td>\n",
       "    </tr>\n",
       "    <tr>\n",
       "      <th>30</th>\n",
       "      <td>30</td>\n",
       "      <td>55281716</td>\n",
       "      <td>52088672</td>\n",
       "      <td>rewarded</td>\n",
       "      <td>0</td>\n",
       "      <td>rewarded</td>\n",
       "      <td>2604433</td>\n",
       "      <td>rewarded</td>\n",
       "      <td>rewarded</td>\n",
       "    </tr>\n",
       "    <tr>\n",
       "      <th>31</th>\n",
       "      <td>31</td>\n",
       "      <td>57481743</td>\n",
       "      <td>54288699</td>\n",
       "      <td>rewarded</td>\n",
       "      <td>0</td>\n",
       "      <td>rewarded</td>\n",
       "      <td>2714434</td>\n",
       "      <td>rewarded</td>\n",
       "      <td>rewarded</td>\n",
       "    </tr>\n",
       "    <tr>\n",
       "      <th>32</th>\n",
       "      <td>32</td>\n",
       "      <td>59181764</td>\n",
       "      <td>55988720</td>\n",
       "      <td>rewarded</td>\n",
       "      <td>0</td>\n",
       "      <td>rewarded</td>\n",
       "      <td>2799436</td>\n",
       "      <td>rewarded</td>\n",
       "      <td>rewarded</td>\n",
       "    </tr>\n",
       "    <tr>\n",
       "      <th>33</th>\n",
       "      <td>33</td>\n",
       "      <td>61581798</td>\n",
       "      <td>58388754</td>\n",
       "      <td>omission</td>\n",
       "      <td>0</td>\n",
       "      <td>omission</td>\n",
       "      <td>2919437</td>\n",
       "      <td>omission</td>\n",
       "      <td>omission</td>\n",
       "    </tr>\n",
       "    <tr>\n",
       "      <th>34</th>\n",
       "      <td>34</td>\n",
       "      <td>62781807</td>\n",
       "      <td>59588763</td>\n",
       "      <td>rewarded</td>\n",
       "      <td>0</td>\n",
       "      <td>rewarded</td>\n",
       "      <td>2979438</td>\n",
       "      <td>rewarded</td>\n",
       "      <td>rewarded</td>\n",
       "    </tr>\n",
       "    <tr>\n",
       "      <th>35</th>\n",
       "      <td>35</td>\n",
       "      <td>64081824</td>\n",
       "      <td>60888780</td>\n",
       "      <td>rewarded</td>\n",
       "      <td>0</td>\n",
       "      <td>rewarded</td>\n",
       "      <td>3044439</td>\n",
       "      <td>rewarded</td>\n",
       "      <td>rewarded</td>\n",
       "    </tr>\n",
       "    <tr>\n",
       "      <th>36</th>\n",
       "      <td>36</td>\n",
       "      <td>65281838</td>\n",
       "      <td>62088794</td>\n",
       "      <td>rewarded</td>\n",
       "      <td>0</td>\n",
       "      <td>rewarded</td>\n",
       "      <td>3104439</td>\n",
       "      <td>rewarded</td>\n",
       "      <td>rewarded</td>\n",
       "    </tr>\n",
       "    <tr>\n",
       "      <th>37</th>\n",
       "      <td>37</td>\n",
       "      <td>66781856</td>\n",
       "      <td>63588812</td>\n",
       "      <td>omission</td>\n",
       "      <td>0</td>\n",
       "      <td>omission</td>\n",
       "      <td>3179440</td>\n",
       "      <td>omission</td>\n",
       "      <td>omission</td>\n",
       "    </tr>\n",
       "    <tr>\n",
       "      <th>38</th>\n",
       "      <td>38</td>\n",
       "      <td>68781880</td>\n",
       "      <td>65588836</td>\n",
       "      <td>rewarded</td>\n",
       "      <td>0</td>\n",
       "      <td>rewarded</td>\n",
       "      <td>3279441</td>\n",
       "      <td>rewarded</td>\n",
       "      <td>rewarded</td>\n",
       "    </tr>\n",
       "    <tr>\n",
       "      <th>39</th>\n",
       "      <td>39</td>\n",
       "      <td>70681909</td>\n",
       "      <td>67488865</td>\n",
       "      <td>rewarded</td>\n",
       "      <td>0</td>\n",
       "      <td>rewarded</td>\n",
       "      <td>3374443</td>\n",
       "      <td>rewarded</td>\n",
       "      <td>rewarded</td>\n",
       "    </tr>\n",
       "    <tr>\n",
       "      <th>40</th>\n",
       "      <td>40</td>\n",
       "      <td>71681918</td>\n",
       "      <td>68488874</td>\n",
       "      <td>rewarded</td>\n",
       "      <td>0</td>\n",
       "      <td>rewarded</td>\n",
       "      <td>3424443</td>\n",
       "      <td>rewarded</td>\n",
       "      <td>rewarded</td>\n",
       "    </tr>\n",
       "  </tbody>\n",
       "</table>\n",
       "</div>"
      ],
      "text/plain": [
       "    Unnamed: 0  tone_timestamp  tone_index rewarded_or_not  \\\n",
       "0            0         3671086      478042        rewarded   \n",
       "1            1         5681112     2488068        rewarded   \n",
       "2            2         8081141     4888097        rewarded   \n",
       "3            3        10381173     7188129        rewarded   \n",
       "4            4        12181192     8988148        rewarded   \n",
       "5            5        13281209    10088165        rewarded   \n",
       "6            6        14281218    11088174        rewarded   \n",
       "7            7        16181241    12988197        rewarded   \n",
       "8            8        17681260    14488216        rewarded   \n",
       "9            9        19781285    16588241        rewarded   \n",
       "10          10        20781300    17588256        rewarded   \n",
       "11          11        22381319    19188275        rewarded   \n",
       "12          12        23681333    20488289        rewarded   \n",
       "13          13        24981351    21788307        rewarded   \n",
       "14          14        25981363    22788319        rewarded   \n",
       "15          15        27381378    24188334        rewarded   \n",
       "16          16        29281401    26088357        rewarded   \n",
       "17          17        30881425    27688381        rewarded   \n",
       "18          18        32281440    29088396        rewarded   \n",
       "19          19        34481464    31288420        rewarded   \n",
       "20          20        35681479    32488435        rewarded   \n",
       "21          21        41681554    38488510        rewarded   \n",
       "22          22        42881571    39688527        omission   \n",
       "23          23        43981579    40788535        rewarded   \n",
       "24          24        45281597    42088553        rewarded   \n",
       "25          25        46381608    43188564        rewarded   \n",
       "26          26        47381620    44188576        rewarded   \n",
       "27          27        48381635    45188591        rewarded   \n",
       "28          28        50481658    47288614        omission   \n",
       "29          29        52881690    49688646        rewarded   \n",
       "30          30        55281716    52088672        rewarded   \n",
       "31          31        57481743    54288699        rewarded   \n",
       "32          32        59181764    55988720        rewarded   \n",
       "33          33        61581798    58388754        omission   \n",
       "34          34        62781807    59588763        rewarded   \n",
       "35          35        64081824    60888780        rewarded   \n",
       "36          36        65281838    62088794        rewarded   \n",
       "37          37        66781856    63588812        omission   \n",
       "38          38        68781880    65588836        rewarded   \n",
       "39          39        70681909    67488865        rewarded   \n",
       "40          40        71681918    68488874        rewarded   \n",
       "\n",
       "   competition_winners condition  lfp_index subj_1_1_condition  \\\n",
       "0                  1.1       1.1      23902                win   \n",
       "1                  tie       tie     124403                tie   \n",
       "2                  1.2       1.2     244404               lose   \n",
       "3                  1.1       1.1     359406                win   \n",
       "4                  1.2       1.2     449407               lose   \n",
       "5                  1.1       1.1     504408                win   \n",
       "6                  1.1       1.1     554408                win   \n",
       "7                  1.2       1.2     649409               lose   \n",
       "8                  1.1       1.1     724410                win   \n",
       "9                  1.1       1.1     829412                win   \n",
       "10                 1.2       1.2     879412               lose   \n",
       "11                 1.1       1.1     959413                win   \n",
       "12                 1.1       1.1    1024414                win   \n",
       "13                 1.1       1.1    1089415                win   \n",
       "14                 1.2       1.2    1139415               lose   \n",
       "15                 1.1       1.1    1209416                win   \n",
       "16                 1.1       1.1    1304417                win   \n",
       "17                 1.1       1.1    1384419                win   \n",
       "18                 1.2       1.2    1454419               lose   \n",
       "19                 1.1       1.1    1564421                win   \n",
       "20                   0  rewarded    1624421           rewarded   \n",
       "21                   0  rewarded    1924425           rewarded   \n",
       "22                   0  omission    1984426           omission   \n",
       "23                   0  rewarded    2039426           rewarded   \n",
       "24                   0  rewarded    2104427           rewarded   \n",
       "25                   0  rewarded    2159428           rewarded   \n",
       "26                   0  rewarded    2209428           rewarded   \n",
       "27                   0  rewarded    2259429           rewarded   \n",
       "28                   0  omission    2364430           omission   \n",
       "29                   0  rewarded    2484432           rewarded   \n",
       "30                   0  rewarded    2604433           rewarded   \n",
       "31                   0  rewarded    2714434           rewarded   \n",
       "32                   0  rewarded    2799436           rewarded   \n",
       "33                   0  omission    2919437           omission   \n",
       "34                   0  rewarded    2979438           rewarded   \n",
       "35                   0  rewarded    3044439           rewarded   \n",
       "36                   0  rewarded    3104439           rewarded   \n",
       "37                   0  omission    3179440           omission   \n",
       "38                   0  rewarded    3279441           rewarded   \n",
       "39                   0  rewarded    3374443           rewarded   \n",
       "40                   0  rewarded    3424443           rewarded   \n",
       "\n",
       "   subj_1_2_condition  \n",
       "0                lose  \n",
       "1                 tie  \n",
       "2                 win  \n",
       "3                lose  \n",
       "4                 win  \n",
       "5                lose  \n",
       "6                lose  \n",
       "7                 win  \n",
       "8                lose  \n",
       "9                lose  \n",
       "10                win  \n",
       "11               lose  \n",
       "12               lose  \n",
       "13               lose  \n",
       "14                win  \n",
       "15               lose  \n",
       "16               lose  \n",
       "17               lose  \n",
       "18                win  \n",
       "19               lose  \n",
       "20           rewarded  \n",
       "21           rewarded  \n",
       "22           omission  \n",
       "23           rewarded  \n",
       "24           rewarded  \n",
       "25           rewarded  \n",
       "26           rewarded  \n",
       "27           rewarded  \n",
       "28           omission  \n",
       "29           rewarded  \n",
       "30           rewarded  \n",
       "31           rewarded  \n",
       "32           rewarded  \n",
       "33           omission  \n",
       "34           rewarded  \n",
       "35           rewarded  \n",
       "36           rewarded  \n",
       "37           omission  \n",
       "38           rewarded  \n",
       "39           rewarded  \n",
       "40           rewarded  "
      ]
     },
     "execution_count": 12,
     "metadata": {},
     "output_type": "execute_result"
    }
   ],
   "source": [
    "tone_time_stamps_df"
   ]
  },
  {
   "cell_type": "markdown",
   "id": "83748a43",
   "metadata": {},
   "source": [
    "# Reading in Phy"
   ]
  },
  {
   "cell_type": "markdown",
   "id": "c232c0a1",
   "metadata": {},
   "source": [
    "- Which unit the spike came from"
   ]
  },
  {
   "cell_type": "code",
   "execution_count": 13,
   "id": "1a3adb7b-c849-469f-94f4-eb491e4927ad",
   "metadata": {},
   "outputs": [],
   "source": [
    "subj_dir = \"/scratch/back_up/reward_competition_extention/proc/spike_sorting/20230620_114347_standard_comp_to_omission_D4_subj_1-1_t1b2L_box_2_merged.rec/\"\n"
   ]
  },
  {
   "cell_type": "code",
   "execution_count": 14,
   "id": "bb561ed6",
   "metadata": {},
   "outputs": [],
   "source": [
    "spike_clusters = np.load(os.path.join(subj_dir, \"phy/spike_clusters.npy\"))"
   ]
  },
  {
   "cell_type": "code",
   "execution_count": 15,
   "id": "5989cef7",
   "metadata": {},
   "outputs": [
    {
     "data": {
      "text/plain": [
       "array([ 4,  4, 11, 42, 11,  1,  4, 42,  1, 25], dtype=int32)"
      ]
     },
     "execution_count": 15,
     "metadata": {},
     "output_type": "execute_result"
    }
   ],
   "source": [
    "spike_clusters[:10]"
   ]
  },
  {
   "cell_type": "markdown",
   "id": "c6570be1",
   "metadata": {},
   "source": [
    "- The classification of each unit"
   ]
  },
  {
   "cell_type": "code",
   "execution_count": 16,
   "id": "8406e0f4",
   "metadata": {},
   "outputs": [],
   "source": [
    "cluster_group_df = pd.read_csv(os.path.join(subj_dir, \"phy/cluster_info.tsv\"), sep=\"\\t\")"
   ]
  },
  {
   "cell_type": "code",
   "execution_count": 17,
   "id": "a240a81f",
   "metadata": {},
   "outputs": [],
   "source": [
    "non_mpfc_channels = [28, 29, 30, 31]"
   ]
  },
  {
   "cell_type": "code",
   "execution_count": 18,
   "id": "ce1b0e50",
   "metadata": {},
   "outputs": [],
   "source": [
    "cluster_group_df = cluster_group_df[~cluster_group_df[\"ch\"].isin(non_mpfc_channels)]"
   ]
  },
  {
   "cell_type": "code",
   "execution_count": 19,
   "id": "c0ccd932",
   "metadata": {},
   "outputs": [
    {
     "data": {
      "text/html": [
       "<div>\n",
       "<style scoped>\n",
       "    .dataframe tbody tr th:only-of-type {\n",
       "        vertical-align: middle;\n",
       "    }\n",
       "\n",
       "    .dataframe tbody tr th {\n",
       "        vertical-align: top;\n",
       "    }\n",
       "\n",
       "    .dataframe thead th {\n",
       "        text-align: right;\n",
       "    }\n",
       "</style>\n",
       "<table border=\"1\" class=\"dataframe\">\n",
       "  <thead>\n",
       "    <tr style=\"text-align: right;\">\n",
       "      <th></th>\n",
       "      <th>cluster_id</th>\n",
       "      <th>amp</th>\n",
       "      <th>ch</th>\n",
       "      <th>channel_group</th>\n",
       "      <th>depth</th>\n",
       "      <th>fr</th>\n",
       "      <th>group</th>\n",
       "      <th>n_spikes</th>\n",
       "      <th>sh</th>\n",
       "      <th>si_unit_id</th>\n",
       "    </tr>\n",
       "  </thead>\n",
       "  <tbody>\n",
       "    <tr>\n",
       "      <th>0</th>\n",
       "      <td>0</td>\n",
       "      <td>22.906088</td>\n",
       "      <td>0</td>\n",
       "      <td>0</td>\n",
       "      <td>0.0</td>\n",
       "      <td>2.255033</td>\n",
       "      <td>good</td>\n",
       "      <td>7708</td>\n",
       "      <td>0</td>\n",
       "      <td>1</td>\n",
       "    </tr>\n",
       "    <tr>\n",
       "      <th>1</th>\n",
       "      <td>1</td>\n",
       "      <td>9.644358</td>\n",
       "      <td>0</td>\n",
       "      <td>0</td>\n",
       "      <td>0.0</td>\n",
       "      <td>20.232101</td>\n",
       "      <td>mua</td>\n",
       "      <td>69156</td>\n",
       "      <td>0</td>\n",
       "      <td>2</td>\n",
       "    </tr>\n",
       "    <tr>\n",
       "      <th>2</th>\n",
       "      <td>2</td>\n",
       "      <td>24.692951</td>\n",
       "      <td>1</td>\n",
       "      <td>0</td>\n",
       "      <td>20.0</td>\n",
       "      <td>1.070175</td>\n",
       "      <td>good</td>\n",
       "      <td>3658</td>\n",
       "      <td>0</td>\n",
       "      <td>3</td>\n",
       "    </tr>\n",
       "    <tr>\n",
       "      <th>3</th>\n",
       "      <td>3</td>\n",
       "      <td>10.347874</td>\n",
       "      <td>1</td>\n",
       "      <td>0</td>\n",
       "      <td>20.0</td>\n",
       "      <td>14.493880</td>\n",
       "      <td>mua</td>\n",
       "      <td>49542</td>\n",
       "      <td>0</td>\n",
       "      <td>4</td>\n",
       "    </tr>\n",
       "    <tr>\n",
       "      <th>4</th>\n",
       "      <td>4</td>\n",
       "      <td>11.953332</td>\n",
       "      <td>4</td>\n",
       "      <td>0</td>\n",
       "      <td>80.0</td>\n",
       "      <td>27.163371</td>\n",
       "      <td>good</td>\n",
       "      <td>92848</td>\n",
       "      <td>0</td>\n",
       "      <td>5</td>\n",
       "    </tr>\n",
       "    <tr>\n",
       "      <th>5</th>\n",
       "      <td>5</td>\n",
       "      <td>26.088383</td>\n",
       "      <td>5</td>\n",
       "      <td>0</td>\n",
       "      <td>100.0</td>\n",
       "      <td>3.441938</td>\n",
       "      <td>good</td>\n",
       "      <td>11765</td>\n",
       "      <td>0</td>\n",
       "      <td>6</td>\n",
       "    </tr>\n",
       "    <tr>\n",
       "      <th>6</th>\n",
       "      <td>8</td>\n",
       "      <td>10.794415</td>\n",
       "      <td>14</td>\n",
       "      <td>0</td>\n",
       "      <td>280.0</td>\n",
       "      <td>6.983053</td>\n",
       "      <td>good</td>\n",
       "      <td>23869</td>\n",
       "      <td>0</td>\n",
       "      <td>9</td>\n",
       "    </tr>\n",
       "    <tr>\n",
       "      <th>7</th>\n",
       "      <td>10</td>\n",
       "      <td>10.297276</td>\n",
       "      <td>18</td>\n",
       "      <td>0</td>\n",
       "      <td>360.0</td>\n",
       "      <td>6.455279</td>\n",
       "      <td>mua</td>\n",
       "      <td>22065</td>\n",
       "      <td>0</td>\n",
       "      <td>12</td>\n",
       "    </tr>\n",
       "    <tr>\n",
       "      <th>8</th>\n",
       "      <td>11</td>\n",
       "      <td>9.638424</td>\n",
       "      <td>19</td>\n",
       "      <td>0</td>\n",
       "      <td>380.0</td>\n",
       "      <td>18.195901</td>\n",
       "      <td>mua</td>\n",
       "      <td>62196</td>\n",
       "      <td>0</td>\n",
       "      <td>13</td>\n",
       "    </tr>\n",
       "    <tr>\n",
       "      <th>9</th>\n",
       "      <td>17</td>\n",
       "      <td>10.680766</td>\n",
       "      <td>24</td>\n",
       "      <td>0</td>\n",
       "      <td>480.0</td>\n",
       "      <td>6.339427</td>\n",
       "      <td>mua</td>\n",
       "      <td>21669</td>\n",
       "      <td>0</td>\n",
       "      <td>19</td>\n",
       "    </tr>\n",
       "    <tr>\n",
       "      <th>10</th>\n",
       "      <td>18</td>\n",
       "      <td>13.899227</td>\n",
       "      <td>24</td>\n",
       "      <td>0</td>\n",
       "      <td>480.0</td>\n",
       "      <td>3.850641</td>\n",
       "      <td>good</td>\n",
       "      <td>13162</td>\n",
       "      <td>0</td>\n",
       "      <td>20</td>\n",
       "    </tr>\n",
       "    <tr>\n",
       "      <th>11</th>\n",
       "      <td>20</td>\n",
       "      <td>19.467382</td>\n",
       "      <td>11</td>\n",
       "      <td>0</td>\n",
       "      <td>220.0</td>\n",
       "      <td>0.739585</td>\n",
       "      <td>good</td>\n",
       "      <td>2528</td>\n",
       "      <td>0</td>\n",
       "      <td>7</td>\n",
       "    </tr>\n",
       "    <tr>\n",
       "      <th>12</th>\n",
       "      <td>21</td>\n",
       "      <td>19.467382</td>\n",
       "      <td>11</td>\n",
       "      <td>0</td>\n",
       "      <td>220.0</td>\n",
       "      <td>0.078698</td>\n",
       "      <td>mua</td>\n",
       "      <td>269</td>\n",
       "      <td>0</td>\n",
       "      <td>7</td>\n",
       "    </tr>\n",
       "    <tr>\n",
       "      <th>13</th>\n",
       "      <td>22</td>\n",
       "      <td>21.967876</td>\n",
       "      <td>13</td>\n",
       "      <td>0</td>\n",
       "      <td>260.0</td>\n",
       "      <td>0.465459</td>\n",
       "      <td>good</td>\n",
       "      <td>1591</td>\n",
       "      <td>0</td>\n",
       "      <td>8</td>\n",
       "    </tr>\n",
       "    <tr>\n",
       "      <th>14</th>\n",
       "      <td>23</td>\n",
       "      <td>21.967876</td>\n",
       "      <td>13</td>\n",
       "      <td>0</td>\n",
       "      <td>260.0</td>\n",
       "      <td>0.156518</td>\n",
       "      <td>mua</td>\n",
       "      <td>535</td>\n",
       "      <td>0</td>\n",
       "      <td>8</td>\n",
       "    </tr>\n",
       "    <tr>\n",
       "      <th>15</th>\n",
       "      <td>24</td>\n",
       "      <td>8.365023</td>\n",
       "      <td>14</td>\n",
       "      <td>0</td>\n",
       "      <td>280.0</td>\n",
       "      <td>1.059350</td>\n",
       "      <td>mua</td>\n",
       "      <td>3621</td>\n",
       "      <td>0</td>\n",
       "      <td>10</td>\n",
       "    </tr>\n",
       "    <tr>\n",
       "      <th>16</th>\n",
       "      <td>25</td>\n",
       "      <td>8.365023</td>\n",
       "      <td>14</td>\n",
       "      <td>0</td>\n",
       "      <td>280.0</td>\n",
       "      <td>1.713801</td>\n",
       "      <td>mua</td>\n",
       "      <td>5858</td>\n",
       "      <td>0</td>\n",
       "      <td>10</td>\n",
       "    </tr>\n",
       "    <tr>\n",
       "      <th>17</th>\n",
       "      <td>26</td>\n",
       "      <td>22.982307</td>\n",
       "      <td>20</td>\n",
       "      <td>0</td>\n",
       "      <td>400.0</td>\n",
       "      <td>0.660302</td>\n",
       "      <td>good</td>\n",
       "      <td>2257</td>\n",
       "      <td>0</td>\n",
       "      <td>14</td>\n",
       "    </tr>\n",
       "    <tr>\n",
       "      <th>18</th>\n",
       "      <td>27</td>\n",
       "      <td>22.982307</td>\n",
       "      <td>20</td>\n",
       "      <td>0</td>\n",
       "      <td>400.0</td>\n",
       "      <td>0.150960</td>\n",
       "      <td>mua</td>\n",
       "      <td>516</td>\n",
       "      <td>0</td>\n",
       "      <td>14</td>\n",
       "    </tr>\n",
       "    <tr>\n",
       "      <th>19</th>\n",
       "      <td>30</td>\n",
       "      <td>9.095772</td>\n",
       "      <td>20</td>\n",
       "      <td>0</td>\n",
       "      <td>400.0</td>\n",
       "      <td>0.393197</td>\n",
       "      <td>good</td>\n",
       "      <td>1344</td>\n",
       "      <td>0</td>\n",
       "      <td>15</td>\n",
       "    </tr>\n",
       "    <tr>\n",
       "      <th>20</th>\n",
       "      <td>31</td>\n",
       "      <td>9.095772</td>\n",
       "      <td>20</td>\n",
       "      <td>0</td>\n",
       "      <td>400.0</td>\n",
       "      <td>1.151213</td>\n",
       "      <td>mua</td>\n",
       "      <td>3935</td>\n",
       "      <td>0</td>\n",
       "      <td>15</td>\n",
       "    </tr>\n",
       "    <tr>\n",
       "      <th>21</th>\n",
       "      <td>32</td>\n",
       "      <td>14.854889</td>\n",
       "      <td>21</td>\n",
       "      <td>0</td>\n",
       "      <td>420.0</td>\n",
       "      <td>0.998791</td>\n",
       "      <td>good</td>\n",
       "      <td>3414</td>\n",
       "      <td>0</td>\n",
       "      <td>16</td>\n",
       "    </tr>\n",
       "    <tr>\n",
       "      <th>22</th>\n",
       "      <td>33</td>\n",
       "      <td>14.854889</td>\n",
       "      <td>21</td>\n",
       "      <td>0</td>\n",
       "      <td>420.0</td>\n",
       "      <td>0.012287</td>\n",
       "      <td>noise</td>\n",
       "      <td>42</td>\n",
       "      <td>0</td>\n",
       "      <td>16</td>\n",
       "    </tr>\n",
       "    <tr>\n",
       "      <th>23</th>\n",
       "      <td>34</td>\n",
       "      <td>23.960157</td>\n",
       "      <td>22</td>\n",
       "      <td>0</td>\n",
       "      <td>440.0</td>\n",
       "      <td>0.402266</td>\n",
       "      <td>good</td>\n",
       "      <td>1375</td>\n",
       "      <td>0</td>\n",
       "      <td>17</td>\n",
       "    </tr>\n",
       "    <tr>\n",
       "      <th>24</th>\n",
       "      <td>35</td>\n",
       "      <td>23.960157</td>\n",
       "      <td>22</td>\n",
       "      <td>0</td>\n",
       "      <td>440.0</td>\n",
       "      <td>0.130481</td>\n",
       "      <td>mua</td>\n",
       "      <td>446</td>\n",
       "      <td>0</td>\n",
       "      <td>17</td>\n",
       "    </tr>\n",
       "    <tr>\n",
       "      <th>25</th>\n",
       "      <td>40</td>\n",
       "      <td>11.040359</td>\n",
       "      <td>23</td>\n",
       "      <td>0</td>\n",
       "      <td>460.0</td>\n",
       "      <td>7.668808</td>\n",
       "      <td>mua</td>\n",
       "      <td>26213</td>\n",
       "      <td>0</td>\n",
       "      <td>18</td>\n",
       "    </tr>\n",
       "    <tr>\n",
       "      <th>26</th>\n",
       "      <td>41</td>\n",
       "      <td>11.040359</td>\n",
       "      <td>23</td>\n",
       "      <td>0</td>\n",
       "      <td>460.0</td>\n",
       "      <td>0.295483</td>\n",
       "      <td>good</td>\n",
       "      <td>1010</td>\n",
       "      <td>0</td>\n",
       "      <td>18</td>\n",
       "    </tr>\n",
       "    <tr>\n",
       "      <th>27</th>\n",
       "      <td>42</td>\n",
       "      <td>17.238409</td>\n",
       "      <td>26</td>\n",
       "      <td>0</td>\n",
       "      <td>520.0</td>\n",
       "      <td>15.538310</td>\n",
       "      <td>good</td>\n",
       "      <td>53112</td>\n",
       "      <td>0</td>\n",
       "      <td>21</td>\n",
       "    </tr>\n",
       "    <tr>\n",
       "      <th>28</th>\n",
       "      <td>48</td>\n",
       "      <td>17.238409</td>\n",
       "      <td>26</td>\n",
       "      <td>0</td>\n",
       "      <td>520.0</td>\n",
       "      <td>0.469847</td>\n",
       "      <td>good</td>\n",
       "      <td>1606</td>\n",
       "      <td>0</td>\n",
       "      <td>21</td>\n",
       "    </tr>\n",
       "    <tr>\n",
       "      <th>29</th>\n",
       "      <td>49</td>\n",
       "      <td>17.238409</td>\n",
       "      <td>26</td>\n",
       "      <td>0</td>\n",
       "      <td>520.0</td>\n",
       "      <td>0.002340</td>\n",
       "      <td>noise</td>\n",
       "      <td>8</td>\n",
       "      <td>0</td>\n",
       "      <td>21</td>\n",
       "    </tr>\n",
       "  </tbody>\n",
       "</table>\n",
       "</div>"
      ],
      "text/plain": [
       "    cluster_id        amp  ch  channel_group  depth         fr  group  \\\n",
       "0            0  22.906088   0              0    0.0   2.255033   good   \n",
       "1            1   9.644358   0              0    0.0  20.232101    mua   \n",
       "2            2  24.692951   1              0   20.0   1.070175   good   \n",
       "3            3  10.347874   1              0   20.0  14.493880    mua   \n",
       "4            4  11.953332   4              0   80.0  27.163371   good   \n",
       "5            5  26.088383   5              0  100.0   3.441938   good   \n",
       "6            8  10.794415  14              0  280.0   6.983053   good   \n",
       "7           10  10.297276  18              0  360.0   6.455279    mua   \n",
       "8           11   9.638424  19              0  380.0  18.195901    mua   \n",
       "9           17  10.680766  24              0  480.0   6.339427    mua   \n",
       "10          18  13.899227  24              0  480.0   3.850641   good   \n",
       "11          20  19.467382  11              0  220.0   0.739585   good   \n",
       "12          21  19.467382  11              0  220.0   0.078698    mua   \n",
       "13          22  21.967876  13              0  260.0   0.465459   good   \n",
       "14          23  21.967876  13              0  260.0   0.156518    mua   \n",
       "15          24   8.365023  14              0  280.0   1.059350    mua   \n",
       "16          25   8.365023  14              0  280.0   1.713801    mua   \n",
       "17          26  22.982307  20              0  400.0   0.660302   good   \n",
       "18          27  22.982307  20              0  400.0   0.150960    mua   \n",
       "19          30   9.095772  20              0  400.0   0.393197   good   \n",
       "20          31   9.095772  20              0  400.0   1.151213    mua   \n",
       "21          32  14.854889  21              0  420.0   0.998791   good   \n",
       "22          33  14.854889  21              0  420.0   0.012287  noise   \n",
       "23          34  23.960157  22              0  440.0   0.402266   good   \n",
       "24          35  23.960157  22              0  440.0   0.130481    mua   \n",
       "25          40  11.040359  23              0  460.0   7.668808    mua   \n",
       "26          41  11.040359  23              0  460.0   0.295483   good   \n",
       "27          42  17.238409  26              0  520.0  15.538310   good   \n",
       "28          48  17.238409  26              0  520.0   0.469847   good   \n",
       "29          49  17.238409  26              0  520.0   0.002340  noise   \n",
       "\n",
       "    n_spikes  sh  si_unit_id  \n",
       "0       7708   0           1  \n",
       "1      69156   0           2  \n",
       "2       3658   0           3  \n",
       "3      49542   0           4  \n",
       "4      92848   0           5  \n",
       "5      11765   0           6  \n",
       "6      23869   0           9  \n",
       "7      22065   0          12  \n",
       "8      62196   0          13  \n",
       "9      21669   0          19  \n",
       "10     13162   0          20  \n",
       "11      2528   0           7  \n",
       "12       269   0           7  \n",
       "13      1591   0           8  \n",
       "14       535   0           8  \n",
       "15      3621   0          10  \n",
       "16      5858   0          10  \n",
       "17      2257   0          14  \n",
       "18       516   0          14  \n",
       "19      1344   0          15  \n",
       "20      3935   0          15  \n",
       "21      3414   0          16  \n",
       "22        42   0          16  \n",
       "23      1375   0          17  \n",
       "24       446   0          17  \n",
       "25     26213   0          18  \n",
       "26      1010   0          18  \n",
       "27     53112   0          21  \n",
       "28      1606   0          21  \n",
       "29         8   0          21  "
      ]
     },
     "execution_count": 19,
     "metadata": {},
     "output_type": "execute_result"
    }
   ],
   "source": [
    "cluster_group_df"
   ]
  },
  {
   "cell_type": "markdown",
   "id": "996eab81",
   "metadata": {},
   "source": [
    "- Filtering for the good units"
   ]
  },
  {
   "cell_type": "code",
   "execution_count": 20,
   "id": "8e4cf4f9",
   "metadata": {},
   "outputs": [],
   "source": [
    "good_unit_cluster_info_df = cluster_group_df[cluster_group_df[\"group\"] == \"good\"]"
   ]
  },
  {
   "cell_type": "code",
   "execution_count": 21,
   "id": "0b025678",
   "metadata": {},
   "outputs": [
    {
     "data": {
      "text/html": [
       "<div>\n",
       "<style scoped>\n",
       "    .dataframe tbody tr th:only-of-type {\n",
       "        vertical-align: middle;\n",
       "    }\n",
       "\n",
       "    .dataframe tbody tr th {\n",
       "        vertical-align: top;\n",
       "    }\n",
       "\n",
       "    .dataframe thead th {\n",
       "        text-align: right;\n",
       "    }\n",
       "</style>\n",
       "<table border=\"1\" class=\"dataframe\">\n",
       "  <thead>\n",
       "    <tr style=\"text-align: right;\">\n",
       "      <th></th>\n",
       "      <th>cluster_id</th>\n",
       "      <th>amp</th>\n",
       "      <th>ch</th>\n",
       "      <th>channel_group</th>\n",
       "      <th>depth</th>\n",
       "      <th>fr</th>\n",
       "      <th>group</th>\n",
       "      <th>n_spikes</th>\n",
       "      <th>sh</th>\n",
       "      <th>si_unit_id</th>\n",
       "    </tr>\n",
       "  </thead>\n",
       "  <tbody>\n",
       "    <tr>\n",
       "      <th>0</th>\n",
       "      <td>0</td>\n",
       "      <td>22.906088</td>\n",
       "      <td>0</td>\n",
       "      <td>0</td>\n",
       "      <td>0.0</td>\n",
       "      <td>2.255033</td>\n",
       "      <td>good</td>\n",
       "      <td>7708</td>\n",
       "      <td>0</td>\n",
       "      <td>1</td>\n",
       "    </tr>\n",
       "    <tr>\n",
       "      <th>2</th>\n",
       "      <td>2</td>\n",
       "      <td>24.692951</td>\n",
       "      <td>1</td>\n",
       "      <td>0</td>\n",
       "      <td>20.0</td>\n",
       "      <td>1.070175</td>\n",
       "      <td>good</td>\n",
       "      <td>3658</td>\n",
       "      <td>0</td>\n",
       "      <td>3</td>\n",
       "    </tr>\n",
       "    <tr>\n",
       "      <th>4</th>\n",
       "      <td>4</td>\n",
       "      <td>11.953332</td>\n",
       "      <td>4</td>\n",
       "      <td>0</td>\n",
       "      <td>80.0</td>\n",
       "      <td>27.163371</td>\n",
       "      <td>good</td>\n",
       "      <td>92848</td>\n",
       "      <td>0</td>\n",
       "      <td>5</td>\n",
       "    </tr>\n",
       "    <tr>\n",
       "      <th>5</th>\n",
       "      <td>5</td>\n",
       "      <td>26.088383</td>\n",
       "      <td>5</td>\n",
       "      <td>0</td>\n",
       "      <td>100.0</td>\n",
       "      <td>3.441938</td>\n",
       "      <td>good</td>\n",
       "      <td>11765</td>\n",
       "      <td>0</td>\n",
       "      <td>6</td>\n",
       "    </tr>\n",
       "    <tr>\n",
       "      <th>6</th>\n",
       "      <td>8</td>\n",
       "      <td>10.794415</td>\n",
       "      <td>14</td>\n",
       "      <td>0</td>\n",
       "      <td>280.0</td>\n",
       "      <td>6.983053</td>\n",
       "      <td>good</td>\n",
       "      <td>23869</td>\n",
       "      <td>0</td>\n",
       "      <td>9</td>\n",
       "    </tr>\n",
       "    <tr>\n",
       "      <th>10</th>\n",
       "      <td>18</td>\n",
       "      <td>13.899227</td>\n",
       "      <td>24</td>\n",
       "      <td>0</td>\n",
       "      <td>480.0</td>\n",
       "      <td>3.850641</td>\n",
       "      <td>good</td>\n",
       "      <td>13162</td>\n",
       "      <td>0</td>\n",
       "      <td>20</td>\n",
       "    </tr>\n",
       "    <tr>\n",
       "      <th>11</th>\n",
       "      <td>20</td>\n",
       "      <td>19.467382</td>\n",
       "      <td>11</td>\n",
       "      <td>0</td>\n",
       "      <td>220.0</td>\n",
       "      <td>0.739585</td>\n",
       "      <td>good</td>\n",
       "      <td>2528</td>\n",
       "      <td>0</td>\n",
       "      <td>7</td>\n",
       "    </tr>\n",
       "    <tr>\n",
       "      <th>13</th>\n",
       "      <td>22</td>\n",
       "      <td>21.967876</td>\n",
       "      <td>13</td>\n",
       "      <td>0</td>\n",
       "      <td>260.0</td>\n",
       "      <td>0.465459</td>\n",
       "      <td>good</td>\n",
       "      <td>1591</td>\n",
       "      <td>0</td>\n",
       "      <td>8</td>\n",
       "    </tr>\n",
       "    <tr>\n",
       "      <th>17</th>\n",
       "      <td>26</td>\n",
       "      <td>22.982307</td>\n",
       "      <td>20</td>\n",
       "      <td>0</td>\n",
       "      <td>400.0</td>\n",
       "      <td>0.660302</td>\n",
       "      <td>good</td>\n",
       "      <td>2257</td>\n",
       "      <td>0</td>\n",
       "      <td>14</td>\n",
       "    </tr>\n",
       "    <tr>\n",
       "      <th>19</th>\n",
       "      <td>30</td>\n",
       "      <td>9.095772</td>\n",
       "      <td>20</td>\n",
       "      <td>0</td>\n",
       "      <td>400.0</td>\n",
       "      <td>0.393197</td>\n",
       "      <td>good</td>\n",
       "      <td>1344</td>\n",
       "      <td>0</td>\n",
       "      <td>15</td>\n",
       "    </tr>\n",
       "    <tr>\n",
       "      <th>21</th>\n",
       "      <td>32</td>\n",
       "      <td>14.854889</td>\n",
       "      <td>21</td>\n",
       "      <td>0</td>\n",
       "      <td>420.0</td>\n",
       "      <td>0.998791</td>\n",
       "      <td>good</td>\n",
       "      <td>3414</td>\n",
       "      <td>0</td>\n",
       "      <td>16</td>\n",
       "    </tr>\n",
       "    <tr>\n",
       "      <th>23</th>\n",
       "      <td>34</td>\n",
       "      <td>23.960157</td>\n",
       "      <td>22</td>\n",
       "      <td>0</td>\n",
       "      <td>440.0</td>\n",
       "      <td>0.402266</td>\n",
       "      <td>good</td>\n",
       "      <td>1375</td>\n",
       "      <td>0</td>\n",
       "      <td>17</td>\n",
       "    </tr>\n",
       "    <tr>\n",
       "      <th>26</th>\n",
       "      <td>41</td>\n",
       "      <td>11.040359</td>\n",
       "      <td>23</td>\n",
       "      <td>0</td>\n",
       "      <td>460.0</td>\n",
       "      <td>0.295483</td>\n",
       "      <td>good</td>\n",
       "      <td>1010</td>\n",
       "      <td>0</td>\n",
       "      <td>18</td>\n",
       "    </tr>\n",
       "    <tr>\n",
       "      <th>27</th>\n",
       "      <td>42</td>\n",
       "      <td>17.238409</td>\n",
       "      <td>26</td>\n",
       "      <td>0</td>\n",
       "      <td>520.0</td>\n",
       "      <td>15.538310</td>\n",
       "      <td>good</td>\n",
       "      <td>53112</td>\n",
       "      <td>0</td>\n",
       "      <td>21</td>\n",
       "    </tr>\n",
       "    <tr>\n",
       "      <th>28</th>\n",
       "      <td>48</td>\n",
       "      <td>17.238409</td>\n",
       "      <td>26</td>\n",
       "      <td>0</td>\n",
       "      <td>520.0</td>\n",
       "      <td>0.469847</td>\n",
       "      <td>good</td>\n",
       "      <td>1606</td>\n",
       "      <td>0</td>\n",
       "      <td>21</td>\n",
       "    </tr>\n",
       "  </tbody>\n",
       "</table>\n",
       "</div>"
      ],
      "text/plain": [
       "    cluster_id        amp  ch  channel_group  depth         fr group  \\\n",
       "0            0  22.906088   0              0    0.0   2.255033  good   \n",
       "2            2  24.692951   1              0   20.0   1.070175  good   \n",
       "4            4  11.953332   4              0   80.0  27.163371  good   \n",
       "5            5  26.088383   5              0  100.0   3.441938  good   \n",
       "6            8  10.794415  14              0  280.0   6.983053  good   \n",
       "10          18  13.899227  24              0  480.0   3.850641  good   \n",
       "11          20  19.467382  11              0  220.0   0.739585  good   \n",
       "13          22  21.967876  13              0  260.0   0.465459  good   \n",
       "17          26  22.982307  20              0  400.0   0.660302  good   \n",
       "19          30   9.095772  20              0  400.0   0.393197  good   \n",
       "21          32  14.854889  21              0  420.0   0.998791  good   \n",
       "23          34  23.960157  22              0  440.0   0.402266  good   \n",
       "26          41  11.040359  23              0  460.0   0.295483  good   \n",
       "27          42  17.238409  26              0  520.0  15.538310  good   \n",
       "28          48  17.238409  26              0  520.0   0.469847  good   \n",
       "\n",
       "    n_spikes  sh  si_unit_id  \n",
       "0       7708   0           1  \n",
       "2       3658   0           3  \n",
       "4      92848   0           5  \n",
       "5      11765   0           6  \n",
       "6      23869   0           9  \n",
       "10     13162   0          20  \n",
       "11      2528   0           7  \n",
       "13      1591   0           8  \n",
       "17      2257   0          14  \n",
       "19      1344   0          15  \n",
       "21      3414   0          16  \n",
       "23      1375   0          17  \n",
       "26      1010   0          18  \n",
       "27     53112   0          21  \n",
       "28      1606   0          21  "
      ]
     },
     "execution_count": 21,
     "metadata": {},
     "output_type": "execute_result"
    }
   ],
   "source": [
    "good_unit_cluster_info_df"
   ]
  },
  {
   "cell_type": "code",
   "execution_count": 22,
   "id": "34f115c5",
   "metadata": {},
   "outputs": [],
   "source": [
    "good_unit_unique_ids = good_unit_cluster_info_df[\"cluster_id\"].values"
   ]
  },
  {
   "cell_type": "code",
   "execution_count": 23,
   "id": "689f0a11",
   "metadata": {},
   "outputs": [
    {
     "data": {
      "text/plain": [
       "array([ 0,  2,  4,  5,  8, 18, 20, 22, 26, 30, 32, 34, 41, 42, 48])"
      ]
     },
     "execution_count": 23,
     "metadata": {},
     "output_type": "execute_result"
    }
   ],
   "source": [
    "good_unit_unique_ids"
   ]
  },
  {
   "cell_type": "markdown",
   "id": "8df40705",
   "metadata": {},
   "source": [
    "- The times that all the spikes happened"
   ]
  },
  {
   "cell_type": "code",
   "execution_count": 24,
   "id": "dce0df0b",
   "metadata": {},
   "outputs": [],
   "source": [
    "spike_times = np.load(os.path.join(subj_dir, \"phy/spike_times.npy\"))"
   ]
  },
  {
   "cell_type": "code",
   "execution_count": 25,
   "id": "f75b9c7b",
   "metadata": {
    "scrolled": true
   },
   "outputs": [
    {
     "data": {
      "text/plain": [
       "array([[ 160],\n",
       "       [ 483],\n",
       "       [ 503],\n",
       "       [ 535],\n",
       "       [ 695],\n",
       "       [ 716],\n",
       "       [ 868],\n",
       "       [1047],\n",
       "       [1177],\n",
       "       [1367]])"
      ]
     },
     "execution_count": 25,
     "metadata": {},
     "output_type": "execute_result"
    }
   ],
   "source": [
    "spike_times[:10]"
   ]
  },
  {
   "cell_type": "markdown",
   "id": "64f332f2",
   "metadata": {},
   "source": [
    "- Getting a list of the IDs that were good from the list of unit ids for all the firings"
   ]
  },
  {
   "cell_type": "code",
   "execution_count": 26,
   "id": "587f7955",
   "metadata": {},
   "outputs": [],
   "source": [
    "good_unit_mask = np.isin(spike_clusters, good_unit_unique_ids)"
   ]
  },
  {
   "cell_type": "code",
   "execution_count": 27,
   "id": "aed7d410",
   "metadata": {},
   "outputs": [],
   "source": [
    "good_unit_all_ids = spike_clusters[good_unit_mask]"
   ]
  },
  {
   "cell_type": "code",
   "execution_count": 28,
   "id": "d5bd0606",
   "metadata": {},
   "outputs": [
    {
     "data": {
      "text/plain": [
       "(221247,)"
      ]
     },
     "execution_count": 28,
     "metadata": {},
     "output_type": "execute_result"
    }
   ],
   "source": [
    "good_unit_all_ids.shape"
   ]
  },
  {
   "cell_type": "code",
   "execution_count": 29,
   "id": "cdea972c",
   "metadata": {},
   "outputs": [
    {
     "data": {
      "text/plain": [
       "array([ 4,  4, 42,  4, 42, 42, 42, 42,  4, 42], dtype=int32)"
      ]
     },
     "execution_count": 29,
     "metadata": {},
     "output_type": "execute_result"
    }
   ],
   "source": [
    "good_unit_all_ids[:10]"
   ]
  },
  {
   "cell_type": "markdown",
   "id": "3d2d10a7",
   "metadata": {},
   "source": [
    "- Getting the time that the good units fired"
   ]
  },
  {
   "cell_type": "code",
   "execution_count": 30,
   "id": "8646f320",
   "metadata": {},
   "outputs": [],
   "source": [
    "good_unit_times = spike_times[good_unit_mask].T[0]"
   ]
  },
  {
   "cell_type": "code",
   "execution_count": 31,
   "id": "9fa8a305",
   "metadata": {},
   "outputs": [
    {
     "data": {
      "text/plain": [
       "(221247,)"
      ]
     },
     "execution_count": 31,
     "metadata": {},
     "output_type": "execute_result"
    }
   ],
   "source": [
    "good_unit_times.shape"
   ]
  },
  {
   "cell_type": "code",
   "execution_count": 32,
   "id": "495079b1",
   "metadata": {},
   "outputs": [
    {
     "data": {
      "text/plain": [
       "array([ 160,  483,  535,  868, 1047, 1384, 1585, 1793, 1933, 1971])"
      ]
     },
     "execution_count": 32,
     "metadata": {},
     "output_type": "execute_result"
    }
   ],
   "source": [
    "good_unit_times[:10]"
   ]
  },
  {
   "cell_type": "code",
   "execution_count": 33,
   "id": "e37c27cb",
   "metadata": {},
   "outputs": [
    {
     "data": {
      "text/plain": [
       "array([68357578, 68358945, 68359470, 68360574, 68360653, 68361187,\n",
       "       68361475, 68361882, 68361973, 68362204])"
      ]
     },
     "execution_count": 33,
     "metadata": {},
     "output_type": "execute_result"
    }
   ],
   "source": [
    "good_unit_times[-10:]"
   ]
  },
  {
   "cell_type": "markdown",
   "id": "d08cf31b",
   "metadata": {},
   "source": [
    "- spike_times are indexed based on the start of the recording, not the start of the streaming\n",
    "    - Last spike ends right before the end of the recording time"
   ]
  },
  {
   "cell_type": "code",
   "execution_count": 34,
   "id": "7f79db6a",
   "metadata": {
    "scrolled": true
   },
   "outputs": [
    {
     "data": {
      "text/plain": [
       "array([[     160],\n",
       "       [     483],\n",
       "       [     503],\n",
       "       ...,\n",
       "       [68361973],\n",
       "       [68362204],\n",
       "       [68362381]])"
      ]
     },
     "execution_count": 34,
     "metadata": {},
     "output_type": "execute_result"
    }
   ],
   "source": [
    "spike_times"
   ]
  },
  {
   "cell_type": "code",
   "execution_count": 35,
   "id": "2af8edc0",
   "metadata": {},
   "outputs": [
    {
     "data": {
      "text/plain": [
       "array([3418.11905])"
      ]
     },
     "execution_count": 35,
     "metadata": {},
     "output_type": "execute_result"
    }
   ],
   "source": [
    "spike_times[-1]/20000"
   ]
  },
  {
   "cell_type": "markdown",
   "id": "d645201f",
   "metadata": {},
   "source": [
    "## Syncing the unit times with the ECU times"
   ]
  },
  {
   "cell_type": "code",
   "execution_count": 36,
   "id": "894a5e16-17ff-4d10-af48-3b4c58e6a9e0",
   "metadata": {},
   "outputs": [
    {
     "data": {
      "text/html": [
       "<div>\n",
       "<style scoped>\n",
       "    .dataframe tbody tr th:only-of-type {\n",
       "        vertical-align: middle;\n",
       "    }\n",
       "\n",
       "    .dataframe tbody tr th {\n",
       "        vertical-align: top;\n",
       "    }\n",
       "\n",
       "    .dataframe thead th {\n",
       "        text-align: right;\n",
       "    }\n",
       "</style>\n",
       "<table border=\"1\" class=\"dataframe\">\n",
       "  <thead>\n",
       "    <tr style=\"text-align: right;\">\n",
       "      <th></th>\n",
       "      <th>Unnamed: 0</th>\n",
       "      <th>tone_timestamp</th>\n",
       "      <th>tone_index</th>\n",
       "      <th>rewarded_or_not</th>\n",
       "      <th>competition_winners</th>\n",
       "      <th>condition</th>\n",
       "      <th>lfp_index</th>\n",
       "      <th>subj_1_1_condition</th>\n",
       "      <th>subj_1_2_condition</th>\n",
       "    </tr>\n",
       "  </thead>\n",
       "  <tbody>\n",
       "    <tr>\n",
       "      <th>0</th>\n",
       "      <td>0</td>\n",
       "      <td>3671086</td>\n",
       "      <td>478042</td>\n",
       "      <td>rewarded</td>\n",
       "      <td>1.1</td>\n",
       "      <td>1.1</td>\n",
       "      <td>23902</td>\n",
       "      <td>win</td>\n",
       "      <td>lose</td>\n",
       "    </tr>\n",
       "    <tr>\n",
       "      <th>1</th>\n",
       "      <td>1</td>\n",
       "      <td>5681112</td>\n",
       "      <td>2488068</td>\n",
       "      <td>rewarded</td>\n",
       "      <td>tie</td>\n",
       "      <td>tie</td>\n",
       "      <td>124403</td>\n",
       "      <td>tie</td>\n",
       "      <td>tie</td>\n",
       "    </tr>\n",
       "    <tr>\n",
       "      <th>2</th>\n",
       "      <td>2</td>\n",
       "      <td>8081141</td>\n",
       "      <td>4888097</td>\n",
       "      <td>rewarded</td>\n",
       "      <td>1.2</td>\n",
       "      <td>1.2</td>\n",
       "      <td>244404</td>\n",
       "      <td>lose</td>\n",
       "      <td>win</td>\n",
       "    </tr>\n",
       "    <tr>\n",
       "      <th>3</th>\n",
       "      <td>3</td>\n",
       "      <td>10381173</td>\n",
       "      <td>7188129</td>\n",
       "      <td>rewarded</td>\n",
       "      <td>1.1</td>\n",
       "      <td>1.1</td>\n",
       "      <td>359406</td>\n",
       "      <td>win</td>\n",
       "      <td>lose</td>\n",
       "    </tr>\n",
       "    <tr>\n",
       "      <th>4</th>\n",
       "      <td>4</td>\n",
       "      <td>12181192</td>\n",
       "      <td>8988148</td>\n",
       "      <td>rewarded</td>\n",
       "      <td>1.2</td>\n",
       "      <td>1.2</td>\n",
       "      <td>449407</td>\n",
       "      <td>lose</td>\n",
       "      <td>win</td>\n",
       "    </tr>\n",
       "    <tr>\n",
       "      <th>5</th>\n",
       "      <td>5</td>\n",
       "      <td>13281209</td>\n",
       "      <td>10088165</td>\n",
       "      <td>rewarded</td>\n",
       "      <td>1.1</td>\n",
       "      <td>1.1</td>\n",
       "      <td>504408</td>\n",
       "      <td>win</td>\n",
       "      <td>lose</td>\n",
       "    </tr>\n",
       "    <tr>\n",
       "      <th>6</th>\n",
       "      <td>6</td>\n",
       "      <td>14281218</td>\n",
       "      <td>11088174</td>\n",
       "      <td>rewarded</td>\n",
       "      <td>1.1</td>\n",
       "      <td>1.1</td>\n",
       "      <td>554408</td>\n",
       "      <td>win</td>\n",
       "      <td>lose</td>\n",
       "    </tr>\n",
       "    <tr>\n",
       "      <th>7</th>\n",
       "      <td>7</td>\n",
       "      <td>16181241</td>\n",
       "      <td>12988197</td>\n",
       "      <td>rewarded</td>\n",
       "      <td>1.2</td>\n",
       "      <td>1.2</td>\n",
       "      <td>649409</td>\n",
       "      <td>lose</td>\n",
       "      <td>win</td>\n",
       "    </tr>\n",
       "    <tr>\n",
       "      <th>8</th>\n",
       "      <td>8</td>\n",
       "      <td>17681260</td>\n",
       "      <td>14488216</td>\n",
       "      <td>rewarded</td>\n",
       "      <td>1.1</td>\n",
       "      <td>1.1</td>\n",
       "      <td>724410</td>\n",
       "      <td>win</td>\n",
       "      <td>lose</td>\n",
       "    </tr>\n",
       "    <tr>\n",
       "      <th>9</th>\n",
       "      <td>9</td>\n",
       "      <td>19781285</td>\n",
       "      <td>16588241</td>\n",
       "      <td>rewarded</td>\n",
       "      <td>1.1</td>\n",
       "      <td>1.1</td>\n",
       "      <td>829412</td>\n",
       "      <td>win</td>\n",
       "      <td>lose</td>\n",
       "    </tr>\n",
       "    <tr>\n",
       "      <th>10</th>\n",
       "      <td>10</td>\n",
       "      <td>20781300</td>\n",
       "      <td>17588256</td>\n",
       "      <td>rewarded</td>\n",
       "      <td>1.2</td>\n",
       "      <td>1.2</td>\n",
       "      <td>879412</td>\n",
       "      <td>lose</td>\n",
       "      <td>win</td>\n",
       "    </tr>\n",
       "    <tr>\n",
       "      <th>11</th>\n",
       "      <td>11</td>\n",
       "      <td>22381319</td>\n",
       "      <td>19188275</td>\n",
       "      <td>rewarded</td>\n",
       "      <td>1.1</td>\n",
       "      <td>1.1</td>\n",
       "      <td>959413</td>\n",
       "      <td>win</td>\n",
       "      <td>lose</td>\n",
       "    </tr>\n",
       "    <tr>\n",
       "      <th>12</th>\n",
       "      <td>12</td>\n",
       "      <td>23681333</td>\n",
       "      <td>20488289</td>\n",
       "      <td>rewarded</td>\n",
       "      <td>1.1</td>\n",
       "      <td>1.1</td>\n",
       "      <td>1024414</td>\n",
       "      <td>win</td>\n",
       "      <td>lose</td>\n",
       "    </tr>\n",
       "    <tr>\n",
       "      <th>13</th>\n",
       "      <td>13</td>\n",
       "      <td>24981351</td>\n",
       "      <td>21788307</td>\n",
       "      <td>rewarded</td>\n",
       "      <td>1.1</td>\n",
       "      <td>1.1</td>\n",
       "      <td>1089415</td>\n",
       "      <td>win</td>\n",
       "      <td>lose</td>\n",
       "    </tr>\n",
       "    <tr>\n",
       "      <th>14</th>\n",
       "      <td>14</td>\n",
       "      <td>25981363</td>\n",
       "      <td>22788319</td>\n",
       "      <td>rewarded</td>\n",
       "      <td>1.2</td>\n",
       "      <td>1.2</td>\n",
       "      <td>1139415</td>\n",
       "      <td>lose</td>\n",
       "      <td>win</td>\n",
       "    </tr>\n",
       "    <tr>\n",
       "      <th>15</th>\n",
       "      <td>15</td>\n",
       "      <td>27381378</td>\n",
       "      <td>24188334</td>\n",
       "      <td>rewarded</td>\n",
       "      <td>1.1</td>\n",
       "      <td>1.1</td>\n",
       "      <td>1209416</td>\n",
       "      <td>win</td>\n",
       "      <td>lose</td>\n",
       "    </tr>\n",
       "    <tr>\n",
       "      <th>16</th>\n",
       "      <td>16</td>\n",
       "      <td>29281401</td>\n",
       "      <td>26088357</td>\n",
       "      <td>rewarded</td>\n",
       "      <td>1.1</td>\n",
       "      <td>1.1</td>\n",
       "      <td>1304417</td>\n",
       "      <td>win</td>\n",
       "      <td>lose</td>\n",
       "    </tr>\n",
       "    <tr>\n",
       "      <th>17</th>\n",
       "      <td>17</td>\n",
       "      <td>30881425</td>\n",
       "      <td>27688381</td>\n",
       "      <td>rewarded</td>\n",
       "      <td>1.1</td>\n",
       "      <td>1.1</td>\n",
       "      <td>1384419</td>\n",
       "      <td>win</td>\n",
       "      <td>lose</td>\n",
       "    </tr>\n",
       "    <tr>\n",
       "      <th>18</th>\n",
       "      <td>18</td>\n",
       "      <td>32281440</td>\n",
       "      <td>29088396</td>\n",
       "      <td>rewarded</td>\n",
       "      <td>1.2</td>\n",
       "      <td>1.2</td>\n",
       "      <td>1454419</td>\n",
       "      <td>lose</td>\n",
       "      <td>win</td>\n",
       "    </tr>\n",
       "    <tr>\n",
       "      <th>19</th>\n",
       "      <td>19</td>\n",
       "      <td>34481464</td>\n",
       "      <td>31288420</td>\n",
       "      <td>rewarded</td>\n",
       "      <td>1.1</td>\n",
       "      <td>1.1</td>\n",
       "      <td>1564421</td>\n",
       "      <td>win</td>\n",
       "      <td>lose</td>\n",
       "    </tr>\n",
       "    <tr>\n",
       "      <th>20</th>\n",
       "      <td>20</td>\n",
       "      <td>35681479</td>\n",
       "      <td>32488435</td>\n",
       "      <td>rewarded</td>\n",
       "      <td>0</td>\n",
       "      <td>rewarded</td>\n",
       "      <td>1624421</td>\n",
       "      <td>rewarded</td>\n",
       "      <td>rewarded</td>\n",
       "    </tr>\n",
       "    <tr>\n",
       "      <th>21</th>\n",
       "      <td>21</td>\n",
       "      <td>41681554</td>\n",
       "      <td>38488510</td>\n",
       "      <td>rewarded</td>\n",
       "      <td>0</td>\n",
       "      <td>rewarded</td>\n",
       "      <td>1924425</td>\n",
       "      <td>rewarded</td>\n",
       "      <td>rewarded</td>\n",
       "    </tr>\n",
       "    <tr>\n",
       "      <th>22</th>\n",
       "      <td>22</td>\n",
       "      <td>42881571</td>\n",
       "      <td>39688527</td>\n",
       "      <td>omission</td>\n",
       "      <td>0</td>\n",
       "      <td>omission</td>\n",
       "      <td>1984426</td>\n",
       "      <td>omission</td>\n",
       "      <td>omission</td>\n",
       "    </tr>\n",
       "    <tr>\n",
       "      <th>23</th>\n",
       "      <td>23</td>\n",
       "      <td>43981579</td>\n",
       "      <td>40788535</td>\n",
       "      <td>rewarded</td>\n",
       "      <td>0</td>\n",
       "      <td>rewarded</td>\n",
       "      <td>2039426</td>\n",
       "      <td>rewarded</td>\n",
       "      <td>rewarded</td>\n",
       "    </tr>\n",
       "    <tr>\n",
       "      <th>24</th>\n",
       "      <td>24</td>\n",
       "      <td>45281597</td>\n",
       "      <td>42088553</td>\n",
       "      <td>rewarded</td>\n",
       "      <td>0</td>\n",
       "      <td>rewarded</td>\n",
       "      <td>2104427</td>\n",
       "      <td>rewarded</td>\n",
       "      <td>rewarded</td>\n",
       "    </tr>\n",
       "    <tr>\n",
       "      <th>25</th>\n",
       "      <td>25</td>\n",
       "      <td>46381608</td>\n",
       "      <td>43188564</td>\n",
       "      <td>rewarded</td>\n",
       "      <td>0</td>\n",
       "      <td>rewarded</td>\n",
       "      <td>2159428</td>\n",
       "      <td>rewarded</td>\n",
       "      <td>rewarded</td>\n",
       "    </tr>\n",
       "    <tr>\n",
       "      <th>26</th>\n",
       "      <td>26</td>\n",
       "      <td>47381620</td>\n",
       "      <td>44188576</td>\n",
       "      <td>rewarded</td>\n",
       "      <td>0</td>\n",
       "      <td>rewarded</td>\n",
       "      <td>2209428</td>\n",
       "      <td>rewarded</td>\n",
       "      <td>rewarded</td>\n",
       "    </tr>\n",
       "    <tr>\n",
       "      <th>27</th>\n",
       "      <td>27</td>\n",
       "      <td>48381635</td>\n",
       "      <td>45188591</td>\n",
       "      <td>rewarded</td>\n",
       "      <td>0</td>\n",
       "      <td>rewarded</td>\n",
       "      <td>2259429</td>\n",
       "      <td>rewarded</td>\n",
       "      <td>rewarded</td>\n",
       "    </tr>\n",
       "    <tr>\n",
       "      <th>28</th>\n",
       "      <td>28</td>\n",
       "      <td>50481658</td>\n",
       "      <td>47288614</td>\n",
       "      <td>omission</td>\n",
       "      <td>0</td>\n",
       "      <td>omission</td>\n",
       "      <td>2364430</td>\n",
       "      <td>omission</td>\n",
       "      <td>omission</td>\n",
       "    </tr>\n",
       "    <tr>\n",
       "      <th>29</th>\n",
       "      <td>29</td>\n",
       "      <td>52881690</td>\n",
       "      <td>49688646</td>\n",
       "      <td>rewarded</td>\n",
       "      <td>0</td>\n",
       "      <td>rewarded</td>\n",
       "      <td>2484432</td>\n",
       "      <td>rewarded</td>\n",
       "      <td>rewarded</td>\n",
       "    </tr>\n",
       "    <tr>\n",
       "      <th>30</th>\n",
       "      <td>30</td>\n",
       "      <td>55281716</td>\n",
       "      <td>52088672</td>\n",
       "      <td>rewarded</td>\n",
       "      <td>0</td>\n",
       "      <td>rewarded</td>\n",
       "      <td>2604433</td>\n",
       "      <td>rewarded</td>\n",
       "      <td>rewarded</td>\n",
       "    </tr>\n",
       "    <tr>\n",
       "      <th>31</th>\n",
       "      <td>31</td>\n",
       "      <td>57481743</td>\n",
       "      <td>54288699</td>\n",
       "      <td>rewarded</td>\n",
       "      <td>0</td>\n",
       "      <td>rewarded</td>\n",
       "      <td>2714434</td>\n",
       "      <td>rewarded</td>\n",
       "      <td>rewarded</td>\n",
       "    </tr>\n",
       "    <tr>\n",
       "      <th>32</th>\n",
       "      <td>32</td>\n",
       "      <td>59181764</td>\n",
       "      <td>55988720</td>\n",
       "      <td>rewarded</td>\n",
       "      <td>0</td>\n",
       "      <td>rewarded</td>\n",
       "      <td>2799436</td>\n",
       "      <td>rewarded</td>\n",
       "      <td>rewarded</td>\n",
       "    </tr>\n",
       "    <tr>\n",
       "      <th>33</th>\n",
       "      <td>33</td>\n",
       "      <td>61581798</td>\n",
       "      <td>58388754</td>\n",
       "      <td>omission</td>\n",
       "      <td>0</td>\n",
       "      <td>omission</td>\n",
       "      <td>2919437</td>\n",
       "      <td>omission</td>\n",
       "      <td>omission</td>\n",
       "    </tr>\n",
       "    <tr>\n",
       "      <th>34</th>\n",
       "      <td>34</td>\n",
       "      <td>62781807</td>\n",
       "      <td>59588763</td>\n",
       "      <td>rewarded</td>\n",
       "      <td>0</td>\n",
       "      <td>rewarded</td>\n",
       "      <td>2979438</td>\n",
       "      <td>rewarded</td>\n",
       "      <td>rewarded</td>\n",
       "    </tr>\n",
       "    <tr>\n",
       "      <th>35</th>\n",
       "      <td>35</td>\n",
       "      <td>64081824</td>\n",
       "      <td>60888780</td>\n",
       "      <td>rewarded</td>\n",
       "      <td>0</td>\n",
       "      <td>rewarded</td>\n",
       "      <td>3044439</td>\n",
       "      <td>rewarded</td>\n",
       "      <td>rewarded</td>\n",
       "    </tr>\n",
       "    <tr>\n",
       "      <th>36</th>\n",
       "      <td>36</td>\n",
       "      <td>65281838</td>\n",
       "      <td>62088794</td>\n",
       "      <td>rewarded</td>\n",
       "      <td>0</td>\n",
       "      <td>rewarded</td>\n",
       "      <td>3104439</td>\n",
       "      <td>rewarded</td>\n",
       "      <td>rewarded</td>\n",
       "    </tr>\n",
       "    <tr>\n",
       "      <th>37</th>\n",
       "      <td>37</td>\n",
       "      <td>66781856</td>\n",
       "      <td>63588812</td>\n",
       "      <td>omission</td>\n",
       "      <td>0</td>\n",
       "      <td>omission</td>\n",
       "      <td>3179440</td>\n",
       "      <td>omission</td>\n",
       "      <td>omission</td>\n",
       "    </tr>\n",
       "    <tr>\n",
       "      <th>38</th>\n",
       "      <td>38</td>\n",
       "      <td>68781880</td>\n",
       "      <td>65588836</td>\n",
       "      <td>rewarded</td>\n",
       "      <td>0</td>\n",
       "      <td>rewarded</td>\n",
       "      <td>3279441</td>\n",
       "      <td>rewarded</td>\n",
       "      <td>rewarded</td>\n",
       "    </tr>\n",
       "    <tr>\n",
       "      <th>39</th>\n",
       "      <td>39</td>\n",
       "      <td>70681909</td>\n",
       "      <td>67488865</td>\n",
       "      <td>rewarded</td>\n",
       "      <td>0</td>\n",
       "      <td>rewarded</td>\n",
       "      <td>3374443</td>\n",
       "      <td>rewarded</td>\n",
       "      <td>rewarded</td>\n",
       "    </tr>\n",
       "    <tr>\n",
       "      <th>40</th>\n",
       "      <td>40</td>\n",
       "      <td>71681918</td>\n",
       "      <td>68488874</td>\n",
       "      <td>rewarded</td>\n",
       "      <td>0</td>\n",
       "      <td>rewarded</td>\n",
       "      <td>3424443</td>\n",
       "      <td>rewarded</td>\n",
       "      <td>rewarded</td>\n",
       "    </tr>\n",
       "  </tbody>\n",
       "</table>\n",
       "</div>"
      ],
      "text/plain": [
       "    Unnamed: 0  tone_timestamp  tone_index rewarded_or_not  \\\n",
       "0            0         3671086      478042        rewarded   \n",
       "1            1         5681112     2488068        rewarded   \n",
       "2            2         8081141     4888097        rewarded   \n",
       "3            3        10381173     7188129        rewarded   \n",
       "4            4        12181192     8988148        rewarded   \n",
       "5            5        13281209    10088165        rewarded   \n",
       "6            6        14281218    11088174        rewarded   \n",
       "7            7        16181241    12988197        rewarded   \n",
       "8            8        17681260    14488216        rewarded   \n",
       "9            9        19781285    16588241        rewarded   \n",
       "10          10        20781300    17588256        rewarded   \n",
       "11          11        22381319    19188275        rewarded   \n",
       "12          12        23681333    20488289        rewarded   \n",
       "13          13        24981351    21788307        rewarded   \n",
       "14          14        25981363    22788319        rewarded   \n",
       "15          15        27381378    24188334        rewarded   \n",
       "16          16        29281401    26088357        rewarded   \n",
       "17          17        30881425    27688381        rewarded   \n",
       "18          18        32281440    29088396        rewarded   \n",
       "19          19        34481464    31288420        rewarded   \n",
       "20          20        35681479    32488435        rewarded   \n",
       "21          21        41681554    38488510        rewarded   \n",
       "22          22        42881571    39688527        omission   \n",
       "23          23        43981579    40788535        rewarded   \n",
       "24          24        45281597    42088553        rewarded   \n",
       "25          25        46381608    43188564        rewarded   \n",
       "26          26        47381620    44188576        rewarded   \n",
       "27          27        48381635    45188591        rewarded   \n",
       "28          28        50481658    47288614        omission   \n",
       "29          29        52881690    49688646        rewarded   \n",
       "30          30        55281716    52088672        rewarded   \n",
       "31          31        57481743    54288699        rewarded   \n",
       "32          32        59181764    55988720        rewarded   \n",
       "33          33        61581798    58388754        omission   \n",
       "34          34        62781807    59588763        rewarded   \n",
       "35          35        64081824    60888780        rewarded   \n",
       "36          36        65281838    62088794        rewarded   \n",
       "37          37        66781856    63588812        omission   \n",
       "38          38        68781880    65588836        rewarded   \n",
       "39          39        70681909    67488865        rewarded   \n",
       "40          40        71681918    68488874        rewarded   \n",
       "\n",
       "   competition_winners condition  lfp_index subj_1_1_condition  \\\n",
       "0                  1.1       1.1      23902                win   \n",
       "1                  tie       tie     124403                tie   \n",
       "2                  1.2       1.2     244404               lose   \n",
       "3                  1.1       1.1     359406                win   \n",
       "4                  1.2       1.2     449407               lose   \n",
       "5                  1.1       1.1     504408                win   \n",
       "6                  1.1       1.1     554408                win   \n",
       "7                  1.2       1.2     649409               lose   \n",
       "8                  1.1       1.1     724410                win   \n",
       "9                  1.1       1.1     829412                win   \n",
       "10                 1.2       1.2     879412               lose   \n",
       "11                 1.1       1.1     959413                win   \n",
       "12                 1.1       1.1    1024414                win   \n",
       "13                 1.1       1.1    1089415                win   \n",
       "14                 1.2       1.2    1139415               lose   \n",
       "15                 1.1       1.1    1209416                win   \n",
       "16                 1.1       1.1    1304417                win   \n",
       "17                 1.1       1.1    1384419                win   \n",
       "18                 1.2       1.2    1454419               lose   \n",
       "19                 1.1       1.1    1564421                win   \n",
       "20                   0  rewarded    1624421           rewarded   \n",
       "21                   0  rewarded    1924425           rewarded   \n",
       "22                   0  omission    1984426           omission   \n",
       "23                   0  rewarded    2039426           rewarded   \n",
       "24                   0  rewarded    2104427           rewarded   \n",
       "25                   0  rewarded    2159428           rewarded   \n",
       "26                   0  rewarded    2209428           rewarded   \n",
       "27                   0  rewarded    2259429           rewarded   \n",
       "28                   0  omission    2364430           omission   \n",
       "29                   0  rewarded    2484432           rewarded   \n",
       "30                   0  rewarded    2604433           rewarded   \n",
       "31                   0  rewarded    2714434           rewarded   \n",
       "32                   0  rewarded    2799436           rewarded   \n",
       "33                   0  omission    2919437           omission   \n",
       "34                   0  rewarded    2979438           rewarded   \n",
       "35                   0  rewarded    3044439           rewarded   \n",
       "36                   0  rewarded    3104439           rewarded   \n",
       "37                   0  omission    3179440           omission   \n",
       "38                   0  rewarded    3279441           rewarded   \n",
       "39                   0  rewarded    3374443           rewarded   \n",
       "40                   0  rewarded    3424443           rewarded   \n",
       "\n",
       "   subj_1_2_condition  \n",
       "0                lose  \n",
       "1                 tie  \n",
       "2                 win  \n",
       "3                lose  \n",
       "4                 win  \n",
       "5                lose  \n",
       "6                lose  \n",
       "7                 win  \n",
       "8                lose  \n",
       "9                lose  \n",
       "10                win  \n",
       "11               lose  \n",
       "12               lose  \n",
       "13               lose  \n",
       "14                win  \n",
       "15               lose  \n",
       "16               lose  \n",
       "17               lose  \n",
       "18                win  \n",
       "19               lose  \n",
       "20           rewarded  \n",
       "21           rewarded  \n",
       "22           omission  \n",
       "23           rewarded  \n",
       "24           rewarded  \n",
       "25           rewarded  \n",
       "26           rewarded  \n",
       "27           rewarded  \n",
       "28           omission  \n",
       "29           rewarded  \n",
       "30           rewarded  \n",
       "31           rewarded  \n",
       "32           rewarded  \n",
       "33           omission  \n",
       "34           rewarded  \n",
       "35           rewarded  \n",
       "36           rewarded  \n",
       "37           omission  \n",
       "38           rewarded  \n",
       "39           rewarded  \n",
       "40           rewarded  "
      ]
     },
     "execution_count": 36,
     "metadata": {},
     "output_type": "execute_result"
    }
   ],
   "source": [
    "tone_time_stamps_df"
   ]
  },
  {
   "cell_type": "code",
   "execution_count": 37,
   "id": "f1c358b1",
   "metadata": {},
   "outputs": [],
   "source": [
    "tone_time_stamps = tone_time_stamps_df[\"tone_index\"].values"
   ]
  },
  {
   "cell_type": "code",
   "execution_count": 38,
   "id": "66f3de46",
   "metadata": {},
   "outputs": [
    {
     "data": {
      "text/plain": [
       "array([  478042,  2488068,  4888097,  7188129,  8988148, 10088165,\n",
       "       11088174, 12988197, 14488216, 16588241, 17588256, 19188275,\n",
       "       20488289, 21788307, 22788319, 24188334, 26088357, 27688381,\n",
       "       29088396, 31288420, 32488435, 38488510, 39688527, 40788535,\n",
       "       42088553, 43188564, 44188576, 45188591, 47288614, 49688646,\n",
       "       52088672, 54288699, 55988720, 58388754, 59588763, 60888780,\n",
       "       62088794, 63588812, 65588836, 67488865, 68488874])"
      ]
     },
     "execution_count": 38,
     "metadata": {},
     "output_type": "execute_result"
    }
   ],
   "source": [
    "tone_time_stamps"
   ]
  },
  {
   "cell_type": "markdown",
   "id": "2eb290cf",
   "metadata": {},
   "source": [
    "## Seeing which tone time each unit time is closest to"
   ]
  },
  {
   "cell_type": "markdown",
   "id": "80d38dd8",
   "metadata": {},
   "source": [
    "- We will divide all the time up into bins of before and after each tone. Then we will see which time bin the neuron firing falls into.\n",
    "    - So everything in the 0 bin would be before the first time bin. The 1 bin would be everything in between the first and second time bin. The last would be everything after last time bin."
   ]
  },
  {
   "cell_type": "code",
   "execution_count": 39,
   "id": "2717af55",
   "metadata": {},
   "outputs": [],
   "source": [
    "good_unit_bins = np.digitize(good_unit_times, tone_time_stamps_df[\"tone_index\"], right=True)"
   ]
  },
  {
   "cell_type": "code",
   "execution_count": 40,
   "id": "dd4989ae",
   "metadata": {},
   "outputs": [
    {
     "data": {
      "text/plain": [
       "(221247,)"
      ]
     },
     "execution_count": 40,
     "metadata": {},
     "output_type": "execute_result"
    }
   ],
   "source": [
    "good_unit_bins.shape"
   ]
  },
  {
   "cell_type": "code",
   "execution_count": 41,
   "id": "47c0cddc",
   "metadata": {},
   "outputs": [
    {
     "data": {
      "text/plain": [
       "array([0, 0, 0, 0, 0, 0, 0, 0, 0, 0])"
      ]
     },
     "execution_count": 41,
     "metadata": {},
     "output_type": "execute_result"
    }
   ],
   "source": [
    "good_unit_bins[:10]"
   ]
  },
  {
   "cell_type": "code",
   "execution_count": 42,
   "id": "b9988522",
   "metadata": {},
   "outputs": [
    {
     "data": {
      "text/plain": [
       "array([40, 40, 40, 40, 40, 40, 40, 40, 40, 40])"
      ]
     },
     "execution_count": 42,
     "metadata": {},
     "output_type": "execute_result"
    }
   ],
   "source": [
    "good_unit_bins[-10:]"
   ]
  },
  {
   "cell_type": "markdown",
   "id": "92696852",
   "metadata": {},
   "source": [
    "- Seeing if the firing time is within a 10 second interval before or 10 second after any tone"
   ]
  },
  {
   "cell_type": "code",
   "execution_count": 43,
   "id": "ddf51d7a",
   "metadata": {},
   "outputs": [],
   "source": [
    "from collections import defaultdict"
   ]
  },
  {
   "cell_type": "code",
   "execution_count": 44,
   "id": "c465e5ee",
   "metadata": {},
   "outputs": [
    {
     "data": {
      "text/plain": [
       "(221247,)"
      ]
     },
     "execution_count": 44,
     "metadata": {},
     "output_type": "execute_result"
    }
   ],
   "source": [
    "good_unit_bins.shape"
   ]
  },
  {
   "cell_type": "code",
   "execution_count": 45,
   "id": "29d06824",
   "metadata": {},
   "outputs": [
    {
     "data": {
      "text/plain": [
       "(221247,)"
      ]
     },
     "execution_count": 45,
     "metadata": {},
     "output_type": "execute_result"
    }
   ],
   "source": [
    "good_unit_times.shape"
   ]
  },
  {
   "cell_type": "code",
   "execution_count": 46,
   "id": "4071ea96",
   "metadata": {},
   "outputs": [
    {
     "data": {
      "text/plain": [
       "(221247,)"
      ]
     },
     "execution_count": 46,
     "metadata": {},
     "output_type": "execute_result"
    }
   ],
   "source": [
    "good_unit_all_ids.shape"
   ]
  },
  {
   "cell_type": "code",
   "execution_count": 47,
   "id": "f3e859d4",
   "metadata": {},
   "outputs": [
    {
     "data": {
      "text/plain": [
       "array([ 160,  483,  535,  868, 1047, 1384, 1585, 1793, 1933, 1971])"
      ]
     },
     "execution_count": 47,
     "metadata": {},
     "output_type": "execute_result"
    }
   ],
   "source": [
    "good_unit_times[:10]"
   ]
  },
  {
   "cell_type": "code",
   "execution_count": 48,
   "id": "3b73a6a8",
   "metadata": {},
   "outputs": [
    {
     "data": {
      "text/plain": [
       "array([  478042,  2488068,  4888097,  7188129,  8988148, 10088165,\n",
       "       11088174, 12988197, 14488216, 16588241, 17588256, 19188275,\n",
       "       20488289, 21788307, 22788319, 24188334, 26088357, 27688381,\n",
       "       29088396, 31288420, 32488435, 38488510, 39688527, 40788535,\n",
       "       42088553, 43188564, 44188576, 45188591, 47288614, 49688646,\n",
       "       52088672, 54288699, 55988720, 58388754, 59588763, 60888780,\n",
       "       62088794, 63588812, 65588836, 67488865, 68488874])"
      ]
     },
     "execution_count": 48,
     "metadata": {},
     "output_type": "execute_result"
    }
   ],
   "source": [
    "tone_time_stamps"
   ]
  },
  {
   "cell_type": "code",
   "execution_count": 49,
   "id": "09daaf97",
   "metadata": {},
   "outputs": [
    {
     "data": {
      "text/plain": [
       "41"
      ]
     },
     "execution_count": 49,
     "metadata": {},
     "output_type": "execute_result"
    }
   ],
   "source": [
    "len(tone_time_stamps)"
   ]
  },
  {
   "cell_type": "code",
   "execution_count": 50,
   "id": "e1ebbe9e",
   "metadata": {},
   "outputs": [],
   "source": [
    "# time in seconds\n",
    "trial_one_way_duration = 10"
   ]
  },
  {
   "cell_type": "code",
   "execution_count": 51,
   "id": "7c4a2c21",
   "metadata": {},
   "outputs": [],
   "source": [
    "sampling_rate = 20000"
   ]
  },
  {
   "cell_type": "markdown",
   "id": "77e4d4de",
   "metadata": {},
   "source": [
    "# Comparing Firing Rate between Trial types"
   ]
  },
  {
   "cell_type": "code",
   "execution_count": 52,
   "id": "c5ef17a3",
   "metadata": {},
   "outputs": [
    {
     "data": {
      "text/html": [
       "<div>\n",
       "<style scoped>\n",
       "    .dataframe tbody tr th:only-of-type {\n",
       "        vertical-align: middle;\n",
       "    }\n",
       "\n",
       "    .dataframe tbody tr th {\n",
       "        vertical-align: top;\n",
       "    }\n",
       "\n",
       "    .dataframe thead th {\n",
       "        text-align: right;\n",
       "    }\n",
       "</style>\n",
       "<table border=\"1\" class=\"dataframe\">\n",
       "  <thead>\n",
       "    <tr style=\"text-align: right;\">\n",
       "      <th></th>\n",
       "      <th>Unnamed: 0</th>\n",
       "      <th>tone_timestamp</th>\n",
       "      <th>tone_index</th>\n",
       "      <th>rewarded_or_not</th>\n",
       "      <th>competition_winners</th>\n",
       "      <th>condition</th>\n",
       "      <th>lfp_index</th>\n",
       "      <th>subj_1_1_condition</th>\n",
       "      <th>subj_1_2_condition</th>\n",
       "    </tr>\n",
       "  </thead>\n",
       "  <tbody>\n",
       "    <tr>\n",
       "      <th>0</th>\n",
       "      <td>0</td>\n",
       "      <td>3671086</td>\n",
       "      <td>478042</td>\n",
       "      <td>rewarded</td>\n",
       "      <td>1.1</td>\n",
       "      <td>1.1</td>\n",
       "      <td>23902</td>\n",
       "      <td>win</td>\n",
       "      <td>lose</td>\n",
       "    </tr>\n",
       "    <tr>\n",
       "      <th>1</th>\n",
       "      <td>1</td>\n",
       "      <td>5681112</td>\n",
       "      <td>2488068</td>\n",
       "      <td>rewarded</td>\n",
       "      <td>tie</td>\n",
       "      <td>tie</td>\n",
       "      <td>124403</td>\n",
       "      <td>tie</td>\n",
       "      <td>tie</td>\n",
       "    </tr>\n",
       "    <tr>\n",
       "      <th>2</th>\n",
       "      <td>2</td>\n",
       "      <td>8081141</td>\n",
       "      <td>4888097</td>\n",
       "      <td>rewarded</td>\n",
       "      <td>1.2</td>\n",
       "      <td>1.2</td>\n",
       "      <td>244404</td>\n",
       "      <td>lose</td>\n",
       "      <td>win</td>\n",
       "    </tr>\n",
       "    <tr>\n",
       "      <th>3</th>\n",
       "      <td>3</td>\n",
       "      <td>10381173</td>\n",
       "      <td>7188129</td>\n",
       "      <td>rewarded</td>\n",
       "      <td>1.1</td>\n",
       "      <td>1.1</td>\n",
       "      <td>359406</td>\n",
       "      <td>win</td>\n",
       "      <td>lose</td>\n",
       "    </tr>\n",
       "    <tr>\n",
       "      <th>4</th>\n",
       "      <td>4</td>\n",
       "      <td>12181192</td>\n",
       "      <td>8988148</td>\n",
       "      <td>rewarded</td>\n",
       "      <td>1.2</td>\n",
       "      <td>1.2</td>\n",
       "      <td>449407</td>\n",
       "      <td>lose</td>\n",
       "      <td>win</td>\n",
       "    </tr>\n",
       "  </tbody>\n",
       "</table>\n",
       "</div>"
      ],
      "text/plain": [
       "   Unnamed: 0  tone_timestamp  tone_index rewarded_or_not competition_winners  \\\n",
       "0           0         3671086      478042        rewarded                 1.1   \n",
       "1           1         5681112     2488068        rewarded                 tie   \n",
       "2           2         8081141     4888097        rewarded                 1.2   \n",
       "3           3        10381173     7188129        rewarded                 1.1   \n",
       "4           4        12181192     8988148        rewarded                 1.2   \n",
       "\n",
       "  condition  lfp_index subj_1_1_condition subj_1_2_condition  \n",
       "0       1.1      23902                win               lose  \n",
       "1       tie     124403                tie                tie  \n",
       "2       1.2     244404               lose                win  \n",
       "3       1.1     359406                win               lose  \n",
       "4       1.2     449407               lose                win  "
      ]
     },
     "execution_count": 52,
     "metadata": {},
     "output_type": "execute_result"
    }
   ],
   "source": [
    "tone_time_stamps_df.head()"
   ]
  },
  {
   "cell_type": "code",
   "execution_count": 53,
   "id": "edff22d8",
   "metadata": {},
   "outputs": [
    {
     "data": {
      "text/plain": [
       "array([     160,      483,      535, ..., 68361882, 68361973, 68362204])"
      ]
     },
     "execution_count": 53,
     "metadata": {},
     "output_type": "execute_result"
    }
   ],
   "source": [
    "good_unit_times"
   ]
  },
  {
   "cell_type": "code",
   "execution_count": 54,
   "id": "e154b513",
   "metadata": {},
   "outputs": [
    {
     "data": {
      "text/plain": [
       "array([ 4,  4, 42, ..., 18,  4,  4], dtype=int32)"
      ]
     },
     "execution_count": 54,
     "metadata": {},
     "output_type": "execute_result"
    }
   ],
   "source": [
    "good_unit_all_ids"
   ]
  },
  {
   "cell_type": "code",
   "execution_count": 55,
   "id": "e9bb39bb",
   "metadata": {},
   "outputs": [
    {
     "data": {
      "text/plain": [
       "array([ 0,  0,  0, ..., 40, 40, 40])"
      ]
     },
     "execution_count": 55,
     "metadata": {},
     "output_type": "execute_result"
    }
   ],
   "source": [
    "good_unit_bins"
   ]
  },
  {
   "cell_type": "code",
   "execution_count": 56,
   "id": "63bacd85",
   "metadata": {},
   "outputs": [
    {
     "data": {
      "text/plain": [
       "array([  478042,  2488068,  4888097,  7188129,  8988148, 10088165,\n",
       "       11088174, 12988197, 14488216, 16588241, 17588256, 19188275,\n",
       "       20488289, 21788307, 22788319, 24188334, 26088357, 27688381,\n",
       "       29088396, 31288420, 32488435, 38488510, 39688527, 40788535,\n",
       "       42088553, 43188564, 44188576, 45188591, 47288614, 49688646,\n",
       "       52088672, 54288699, 55988720, 58388754, 59588763, 60888780,\n",
       "       62088794, 63588812, 65588836, 67488865, 68488874])"
      ]
     },
     "execution_count": 56,
     "metadata": {},
     "output_type": "execute_result"
    }
   ],
   "source": [
    "tone_time_stamps"
   ]
  },
  {
   "cell_type": "code",
   "execution_count": 57,
   "id": "32027c87",
   "metadata": {},
   "outputs": [
    {
     "data": {
      "text/plain": [
       "'\\nStep 1: \\n- Get all the unit times that are 10 seconds before tone \\nand 10 seconds after the tone(separately)\\n\\nStep 2:\\n- Separate out for each trial\\n\\nStep 3: Calculate firing rate\\n'"
      ]
     },
     "execution_count": 57,
     "metadata": {},
     "output_type": "execute_result"
    }
   ],
   "source": [
    "\"\"\"\n",
    "Step 1: \n",
    "- Get all the unit times that are 10 seconds before tone \n",
    "and 10 seconds after the tone(separately)\n",
    "\n",
    "Step 2:\n",
    "- Separate out for each trial\n",
    "\n",
    "Step 3: Calculate firing rate\n",
    "\"\"\""
   ]
  },
  {
   "cell_type": "code",
   "execution_count": 58,
   "id": "ffef8b7b",
   "metadata": {},
   "outputs": [],
   "source": [
    "# iterating through the timestamp of each good unit spike\n",
    "\n",
    "before_and_after_interval_unit_times = defaultdict(dict)\n",
    "\n",
    "per_trial_number_of_samples = trial_one_way_duration * sampling_rate\n",
    "\n",
    "for index, time in enumerate(good_unit_times):\n",
    "    # getting the corresponding tone bin for the timestamp\n",
    "    current_bin = good_unit_bins[index]\n",
    "    current_neuron = good_unit_all_ids[index]   \n",
    "    \n",
    "    # checking number before\n",
    "    first_tone_time = tone_time_stamps[(current_bin - 1) % len(tone_time_stamps)]\n",
    "    # checking number after\n",
    "    second_tone_time = tone_time_stamps[(current_bin) % len(tone_time_stamps)]    \n",
    "    \n",
    "    # checking if time is before first number\n",
    "    if first_tone_time - per_trial_number_of_samples <= time <= first_tone_time:\n",
    "        before_and_after_interval_unit_times[time][\"tone_time\"] = first_tone_time\n",
    "        before_and_after_interval_unit_times[time][\"before_or_after\"] = \"before\"\n",
    "        before_and_after_interval_unit_times[time][\"neuron_id\"] = good_unit_all_ids[index]\n",
    "    # checking if time is after first number\n",
    "    elif first_tone_time < time <= first_tone_time + per_trial_number_of_samples:\n",
    "        before_and_after_interval_unit_times[time][\"tone_time\"] = first_tone_time\n",
    "        before_and_after_interval_unit_times[time][\"before_or_after\"] = \"after\"\n",
    "        before_and_after_interval_unit_times[time][\"neuron_id\"] = good_unit_all_ids[index]\n",
    "    # checking if time is before second number\n",
    "    if second_tone_time - per_trial_number_of_samples <= time <= second_tone_time:\n",
    "        before_and_after_interval_unit_times[time][\"tone_time\"] = second_tone_time\n",
    "        before_and_after_interval_unit_times[time][\"before_or_after\"] = \"before\"\n",
    "        before_and_after_interval_unit_times[time][\"neuron_id\"] = good_unit_all_ids[index]\n",
    "    # checking if time is after second number\n",
    "    elif second_tone_time < time <= second_tone_time + per_trial_number_of_samples:\n",
    "        before_and_after_interval_unit_times[time][\"tone_time\"] = second_tone_time\n",
    "        before_and_after_interval_unit_times[time][\"before_or_after\"] = \"after\"\n",
    "        before_and_after_interval_unit_times[time][\"neuron_id\"] = good_unit_all_ids[index]"
   ]
  },
  {
   "cell_type": "code",
   "execution_count": 59,
   "id": "2955b075",
   "metadata": {},
   "outputs": [
    {
     "data": {
      "text/plain": [
       "200000"
      ]
     },
     "execution_count": 59,
     "metadata": {},
     "output_type": "execute_result"
    }
   ],
   "source": [
    "per_trial_number_of_samples"
   ]
  },
  {
   "cell_type": "code",
   "execution_count": 60,
   "id": "676f9c1e",
   "metadata": {},
   "outputs": [],
   "source": [
    "before_and_after_interval_unit_df = pd.DataFrame.from_dict(before_and_after_interval_unit_times, orient=\"index\").reset_index()\n",
    "before_and_after_interval_unit_df = before_and_after_interval_unit_df.rename(columns={\"index\": \"spike_time\"})"
   ]
  },
  {
   "cell_type": "code",
   "execution_count": 61,
   "id": "171991f5",
   "metadata": {},
   "outputs": [
    {
     "data": {
      "text/html": [
       "<div>\n",
       "<style scoped>\n",
       "    .dataframe tbody tr th:only-of-type {\n",
       "        vertical-align: middle;\n",
       "    }\n",
       "\n",
       "    .dataframe tbody tr th {\n",
       "        vertical-align: top;\n",
       "    }\n",
       "\n",
       "    .dataframe thead th {\n",
       "        text-align: right;\n",
       "    }\n",
       "</style>\n",
       "<table border=\"1\" class=\"dataframe\">\n",
       "  <thead>\n",
       "    <tr style=\"text-align: right;\">\n",
       "      <th></th>\n",
       "      <th>spike_time</th>\n",
       "      <th>tone_time</th>\n",
       "      <th>before_or_after</th>\n",
       "      <th>neuron_id</th>\n",
       "    </tr>\n",
       "  </thead>\n",
       "  <tbody>\n",
       "    <tr>\n",
       "      <th>0</th>\n",
       "      <td>278075</td>\n",
       "      <td>478042</td>\n",
       "      <td>before</td>\n",
       "      <td>4</td>\n",
       "    </tr>\n",
       "    <tr>\n",
       "      <th>1</th>\n",
       "      <td>278091</td>\n",
       "      <td>478042</td>\n",
       "      <td>before</td>\n",
       "      <td>42</td>\n",
       "    </tr>\n",
       "    <tr>\n",
       "      <th>2</th>\n",
       "      <td>278559</td>\n",
       "      <td>478042</td>\n",
       "      <td>before</td>\n",
       "      <td>4</td>\n",
       "    </tr>\n",
       "    <tr>\n",
       "      <th>3</th>\n",
       "      <td>278674</td>\n",
       "      <td>478042</td>\n",
       "      <td>before</td>\n",
       "      <td>42</td>\n",
       "    </tr>\n",
       "    <tr>\n",
       "      <th>4</th>\n",
       "      <td>278859</td>\n",
       "      <td>478042</td>\n",
       "      <td>before</td>\n",
       "      <td>4</td>\n",
       "    </tr>\n",
       "  </tbody>\n",
       "</table>\n",
       "</div>"
      ],
      "text/plain": [
       "   spike_time  tone_time before_or_after  neuron_id\n",
       "0      278075     478042          before          4\n",
       "1      278091     478042          before         42\n",
       "2      278559     478042          before          4\n",
       "3      278674     478042          before         42\n",
       "4      278859     478042          before          4"
      ]
     },
     "execution_count": 61,
     "metadata": {},
     "output_type": "execute_result"
    }
   ],
   "source": [
    "before_and_after_interval_unit_df.head()"
   ]
  },
  {
   "cell_type": "code",
   "execution_count": 62,
   "id": "d57cb3d3",
   "metadata": {},
   "outputs": [],
   "source": [
    "before_and_after_tone_spike_count_df = before_and_after_interval_unit_df.groupby([\"tone_time\", \"before_or_after\", \"neuron_id\"]).count().unstack(fill_value=0).stack().reset_index().rename(columns={\"spike_time\": \"fired_spike_count\"})"
   ]
  },
  {
   "cell_type": "code",
   "execution_count": 63,
   "id": "7fc9a896",
   "metadata": {},
   "outputs": [],
   "source": [
    "before_tone_spike_count_df = before_and_after_tone_spike_count_df[before_and_after_tone_spike_count_df[\"before_or_after\"] == \"before\"].rename(columns={\"fired_spike_count\": \"before_fired_spike_count\"})\n",
    "after_tone_spike_count_df = before_and_after_tone_spike_count_df[before_and_after_tone_spike_count_df[\"before_or_after\"] == \"after\"].rename(columns={\"fired_spike_count\": \"after_fired_spike_count\"})"
   ]
  },
  {
   "cell_type": "code",
   "execution_count": 64,
   "id": "30868ddd",
   "metadata": {},
   "outputs": [
    {
     "data": {
      "text/html": [
       "<div>\n",
       "<style scoped>\n",
       "    .dataframe tbody tr th:only-of-type {\n",
       "        vertical-align: middle;\n",
       "    }\n",
       "\n",
       "    .dataframe tbody tr th {\n",
       "        vertical-align: top;\n",
       "    }\n",
       "\n",
       "    .dataframe thead th {\n",
       "        text-align: right;\n",
       "    }\n",
       "</style>\n",
       "<table border=\"1\" class=\"dataframe\">\n",
       "  <thead>\n",
       "    <tr style=\"text-align: right;\">\n",
       "      <th></th>\n",
       "      <th>tone_time</th>\n",
       "      <th>before_or_after</th>\n",
       "      <th>neuron_id</th>\n",
       "      <th>before_fired_spike_count</th>\n",
       "    </tr>\n",
       "  </thead>\n",
       "  <tbody>\n",
       "    <tr>\n",
       "      <th>15</th>\n",
       "      <td>478042</td>\n",
       "      <td>before</td>\n",
       "      <td>0</td>\n",
       "      <td>1</td>\n",
       "    </tr>\n",
       "    <tr>\n",
       "      <th>16</th>\n",
       "      <td>478042</td>\n",
       "      <td>before</td>\n",
       "      <td>2</td>\n",
       "      <td>6</td>\n",
       "    </tr>\n",
       "    <tr>\n",
       "      <th>17</th>\n",
       "      <td>478042</td>\n",
       "      <td>before</td>\n",
       "      <td>4</td>\n",
       "      <td>305</td>\n",
       "    </tr>\n",
       "    <tr>\n",
       "      <th>18</th>\n",
       "      <td>478042</td>\n",
       "      <td>before</td>\n",
       "      <td>5</td>\n",
       "      <td>34</td>\n",
       "    </tr>\n",
       "    <tr>\n",
       "      <th>19</th>\n",
       "      <td>478042</td>\n",
       "      <td>before</td>\n",
       "      <td>8</td>\n",
       "      <td>46</td>\n",
       "    </tr>\n",
       "  </tbody>\n",
       "</table>\n",
       "</div>"
      ],
      "text/plain": [
       "    tone_time before_or_after  neuron_id  before_fired_spike_count\n",
       "15     478042          before          0                         1\n",
       "16     478042          before          2                         6\n",
       "17     478042          before          4                       305\n",
       "18     478042          before          5                        34\n",
       "19     478042          before          8                        46"
      ]
     },
     "execution_count": 64,
     "metadata": {},
     "output_type": "execute_result"
    }
   ],
   "source": [
    "before_tone_spike_count_df.head()"
   ]
  },
  {
   "cell_type": "code",
   "execution_count": 65,
   "id": "2c7d383f",
   "metadata": {},
   "outputs": [
    {
     "data": {
      "text/html": [
       "<div>\n",
       "<style scoped>\n",
       "    .dataframe tbody tr th:only-of-type {\n",
       "        vertical-align: middle;\n",
       "    }\n",
       "\n",
       "    .dataframe tbody tr th {\n",
       "        vertical-align: top;\n",
       "    }\n",
       "\n",
       "    .dataframe thead th {\n",
       "        text-align: right;\n",
       "    }\n",
       "</style>\n",
       "<table border=\"1\" class=\"dataframe\">\n",
       "  <thead>\n",
       "    <tr style=\"text-align: right;\">\n",
       "      <th></th>\n",
       "      <th>tone_time</th>\n",
       "      <th>before_or_after</th>\n",
       "      <th>neuron_id</th>\n",
       "      <th>after_fired_spike_count</th>\n",
       "    </tr>\n",
       "  </thead>\n",
       "  <tbody>\n",
       "    <tr>\n",
       "      <th>0</th>\n",
       "      <td>478042</td>\n",
       "      <td>after</td>\n",
       "      <td>0</td>\n",
       "      <td>30</td>\n",
       "    </tr>\n",
       "    <tr>\n",
       "      <th>1</th>\n",
       "      <td>478042</td>\n",
       "      <td>after</td>\n",
       "      <td>2</td>\n",
       "      <td>6</td>\n",
       "    </tr>\n",
       "    <tr>\n",
       "      <th>2</th>\n",
       "      <td>478042</td>\n",
       "      <td>after</td>\n",
       "      <td>4</td>\n",
       "      <td>369</td>\n",
       "    </tr>\n",
       "    <tr>\n",
       "      <th>3</th>\n",
       "      <td>478042</td>\n",
       "      <td>after</td>\n",
       "      <td>5</td>\n",
       "      <td>25</td>\n",
       "    </tr>\n",
       "    <tr>\n",
       "      <th>4</th>\n",
       "      <td>478042</td>\n",
       "      <td>after</td>\n",
       "      <td>8</td>\n",
       "      <td>103</td>\n",
       "    </tr>\n",
       "  </tbody>\n",
       "</table>\n",
       "</div>"
      ],
      "text/plain": [
       "   tone_time before_or_after  neuron_id  after_fired_spike_count\n",
       "0     478042           after          0                       30\n",
       "1     478042           after          2                        6\n",
       "2     478042           after          4                      369\n",
       "3     478042           after          5                       25\n",
       "4     478042           after          8                      103"
      ]
     },
     "execution_count": 65,
     "metadata": {},
     "output_type": "execute_result"
    }
   ],
   "source": [
    "after_tone_spike_count_df.head()"
   ]
  },
  {
   "cell_type": "code",
   "execution_count": 66,
   "id": "56e87f75",
   "metadata": {},
   "outputs": [],
   "source": [
    "subj_1_merged_before_after_tone_spike_count_df = pd.merge(left=before_tone_spike_count_df, right=after_tone_spike_count_df, left_on=[\"tone_time\", \"neuron_id\"], right_on=[\"tone_time\", \"neuron_id\"])"
   ]
  },
  {
   "cell_type": "markdown",
   "id": "2404aed0",
   "metadata": {},
   "source": [
    "- Adding the trial type"
   ]
  },
  {
   "cell_type": "code",
   "execution_count": 67,
   "id": "7c899cdb",
   "metadata": {},
   "outputs": [],
   "source": [
    "tone_timestamp_to_trial_type = pd.Series(tone_time_stamps_df[\"subj_1_1_condition\"].values, index=tone_time_stamps_df[\"tone_index\"]).to_dict()"
   ]
  },
  {
   "cell_type": "code",
   "execution_count": 68,
   "id": "7454245f",
   "metadata": {
    "scrolled": true
   },
   "outputs": [
    {
     "data": {
      "text/plain": [
       "{478042: 'win',\n",
       " 2488068: 'tie',\n",
       " 4888097: 'lose',\n",
       " 7188129: 'win',\n",
       " 8988148: 'lose',\n",
       " 10088165: 'win',\n",
       " 11088174: 'win',\n",
       " 12988197: 'lose',\n",
       " 14488216: 'win',\n",
       " 16588241: 'win',\n",
       " 17588256: 'lose',\n",
       " 19188275: 'win',\n",
       " 20488289: 'win',\n",
       " 21788307: 'win',\n",
       " 22788319: 'lose',\n",
       " 24188334: 'win',\n",
       " 26088357: 'win',\n",
       " 27688381: 'win',\n",
       " 29088396: 'lose',\n",
       " 31288420: 'win',\n",
       " 32488435: 'rewarded',\n",
       " 38488510: 'rewarded',\n",
       " 39688527: 'omission',\n",
       " 40788535: 'rewarded',\n",
       " 42088553: 'rewarded',\n",
       " 43188564: 'rewarded',\n",
       " 44188576: 'rewarded',\n",
       " 45188591: 'rewarded',\n",
       " 47288614: 'omission',\n",
       " 49688646: 'rewarded',\n",
       " 52088672: 'rewarded',\n",
       " 54288699: 'rewarded',\n",
       " 55988720: 'rewarded',\n",
       " 58388754: 'omission',\n",
       " 59588763: 'rewarded',\n",
       " 60888780: 'rewarded',\n",
       " 62088794: 'rewarded',\n",
       " 63588812: 'omission',\n",
       " 65588836: 'rewarded',\n",
       " 67488865: 'rewarded',\n",
       " 68488874: 'rewarded'}"
      ]
     },
     "execution_count": 68,
     "metadata": {},
     "output_type": "execute_result"
    }
   ],
   "source": [
    "tone_timestamp_to_trial_type"
   ]
  },
  {
   "cell_type": "code",
   "execution_count": 69,
   "id": "3d962c1d",
   "metadata": {},
   "outputs": [],
   "source": [
    "subj_1_merged_before_after_tone_spike_count_df[\"trial_type\"] = subj_1_merged_before_after_tone_spike_count_df[\"tone_time\"].map(tone_timestamp_to_trial_type)"
   ]
  },
  {
   "cell_type": "code",
   "execution_count": 70,
   "id": "0faa9984-a5c0-4ea2-b19d-9493c40f6493",
   "metadata": {},
   "outputs": [],
   "source": [
    "subj_1_merged_before_after_tone_spike_count_df[\"subject\"] = \"subj_1_1\"\n",
    "subj_1_merged_before_after_tone_spike_count_df[\"subject_neuron_id\"] = subj_1_merged_before_after_tone_spike_count_df[\"neuron_id\"].astype(str) + subj_1_merged_before_after_tone_spike_count_df[\"subject\"]"
   ]
  },
  {
   "cell_type": "code",
   "execution_count": 71,
   "id": "125f3c61",
   "metadata": {},
   "outputs": [
    {
     "data": {
      "text/html": [
       "<div>\n",
       "<style scoped>\n",
       "    .dataframe tbody tr th:only-of-type {\n",
       "        vertical-align: middle;\n",
       "    }\n",
       "\n",
       "    .dataframe tbody tr th {\n",
       "        vertical-align: top;\n",
       "    }\n",
       "\n",
       "    .dataframe thead th {\n",
       "        text-align: right;\n",
       "    }\n",
       "</style>\n",
       "<table border=\"1\" class=\"dataframe\">\n",
       "  <thead>\n",
       "    <tr style=\"text-align: right;\">\n",
       "      <th></th>\n",
       "      <th>tone_time</th>\n",
       "      <th>before_or_after_x</th>\n",
       "      <th>neuron_id</th>\n",
       "      <th>before_fired_spike_count</th>\n",
       "      <th>before_or_after_y</th>\n",
       "      <th>after_fired_spike_count</th>\n",
       "      <th>trial_type</th>\n",
       "      <th>subject</th>\n",
       "      <th>subject_neuron_id</th>\n",
       "    </tr>\n",
       "  </thead>\n",
       "  <tbody>\n",
       "    <tr>\n",
       "      <th>0</th>\n",
       "      <td>478042</td>\n",
       "      <td>before</td>\n",
       "      <td>0</td>\n",
       "      <td>1</td>\n",
       "      <td>after</td>\n",
       "      <td>30</td>\n",
       "      <td>win</td>\n",
       "      <td>subj_1_1</td>\n",
       "      <td>0subj_1_1</td>\n",
       "    </tr>\n",
       "    <tr>\n",
       "      <th>1</th>\n",
       "      <td>478042</td>\n",
       "      <td>before</td>\n",
       "      <td>2</td>\n",
       "      <td>6</td>\n",
       "      <td>after</td>\n",
       "      <td>6</td>\n",
       "      <td>win</td>\n",
       "      <td>subj_1_1</td>\n",
       "      <td>2subj_1_1</td>\n",
       "    </tr>\n",
       "    <tr>\n",
       "      <th>2</th>\n",
       "      <td>478042</td>\n",
       "      <td>before</td>\n",
       "      <td>4</td>\n",
       "      <td>305</td>\n",
       "      <td>after</td>\n",
       "      <td>369</td>\n",
       "      <td>win</td>\n",
       "      <td>subj_1_1</td>\n",
       "      <td>4subj_1_1</td>\n",
       "    </tr>\n",
       "    <tr>\n",
       "      <th>3</th>\n",
       "      <td>478042</td>\n",
       "      <td>before</td>\n",
       "      <td>5</td>\n",
       "      <td>34</td>\n",
       "      <td>after</td>\n",
       "      <td>25</td>\n",
       "      <td>win</td>\n",
       "      <td>subj_1_1</td>\n",
       "      <td>5subj_1_1</td>\n",
       "    </tr>\n",
       "    <tr>\n",
       "      <th>4</th>\n",
       "      <td>478042</td>\n",
       "      <td>before</td>\n",
       "      <td>8</td>\n",
       "      <td>46</td>\n",
       "      <td>after</td>\n",
       "      <td>103</td>\n",
       "      <td>win</td>\n",
       "      <td>subj_1_1</td>\n",
       "      <td>8subj_1_1</td>\n",
       "    </tr>\n",
       "    <tr>\n",
       "      <th>...</th>\n",
       "      <td>...</td>\n",
       "      <td>...</td>\n",
       "      <td>...</td>\n",
       "      <td>...</td>\n",
       "      <td>...</td>\n",
       "      <td>...</td>\n",
       "      <td>...</td>\n",
       "      <td>...</td>\n",
       "      <td>...</td>\n",
       "    </tr>\n",
       "    <tr>\n",
       "      <th>595</th>\n",
       "      <td>67488865</td>\n",
       "      <td>before</td>\n",
       "      <td>32</td>\n",
       "      <td>6</td>\n",
       "      <td>after</td>\n",
       "      <td>8</td>\n",
       "      <td>rewarded</td>\n",
       "      <td>subj_1_1</td>\n",
       "      <td>32subj_1_1</td>\n",
       "    </tr>\n",
       "    <tr>\n",
       "      <th>596</th>\n",
       "      <td>67488865</td>\n",
       "      <td>before</td>\n",
       "      <td>34</td>\n",
       "      <td>48</td>\n",
       "      <td>after</td>\n",
       "      <td>72</td>\n",
       "      <td>rewarded</td>\n",
       "      <td>subj_1_1</td>\n",
       "      <td>34subj_1_1</td>\n",
       "    </tr>\n",
       "    <tr>\n",
       "      <th>597</th>\n",
       "      <td>67488865</td>\n",
       "      <td>before</td>\n",
       "      <td>41</td>\n",
       "      <td>11</td>\n",
       "      <td>after</td>\n",
       "      <td>4</td>\n",
       "      <td>rewarded</td>\n",
       "      <td>subj_1_1</td>\n",
       "      <td>41subj_1_1</td>\n",
       "    </tr>\n",
       "    <tr>\n",
       "      <th>598</th>\n",
       "      <td>67488865</td>\n",
       "      <td>before</td>\n",
       "      <td>42</td>\n",
       "      <td>138</td>\n",
       "      <td>after</td>\n",
       "      <td>74</td>\n",
       "      <td>rewarded</td>\n",
       "      <td>subj_1_1</td>\n",
       "      <td>42subj_1_1</td>\n",
       "    </tr>\n",
       "    <tr>\n",
       "      <th>599</th>\n",
       "      <td>67488865</td>\n",
       "      <td>before</td>\n",
       "      <td>48</td>\n",
       "      <td>2</td>\n",
       "      <td>after</td>\n",
       "      <td>0</td>\n",
       "      <td>rewarded</td>\n",
       "      <td>subj_1_1</td>\n",
       "      <td>48subj_1_1</td>\n",
       "    </tr>\n",
       "  </tbody>\n",
       "</table>\n",
       "<p>600 rows × 9 columns</p>\n",
       "</div>"
      ],
      "text/plain": [
       "     tone_time before_or_after_x  neuron_id  before_fired_spike_count  \\\n",
       "0       478042            before          0                         1   \n",
       "1       478042            before          2                         6   \n",
       "2       478042            before          4                       305   \n",
       "3       478042            before          5                        34   \n",
       "4       478042            before          8                        46   \n",
       "..         ...               ...        ...                       ...   \n",
       "595   67488865            before         32                         6   \n",
       "596   67488865            before         34                        48   \n",
       "597   67488865            before         41                        11   \n",
       "598   67488865            before         42                       138   \n",
       "599   67488865            before         48                         2   \n",
       "\n",
       "    before_or_after_y  after_fired_spike_count trial_type   subject  \\\n",
       "0               after                       30        win  subj_1_1   \n",
       "1               after                        6        win  subj_1_1   \n",
       "2               after                      369        win  subj_1_1   \n",
       "3               after                       25        win  subj_1_1   \n",
       "4               after                      103        win  subj_1_1   \n",
       "..                ...                      ...        ...       ...   \n",
       "595             after                        8   rewarded  subj_1_1   \n",
       "596             after                       72   rewarded  subj_1_1   \n",
       "597             after                        4   rewarded  subj_1_1   \n",
       "598             after                       74   rewarded  subj_1_1   \n",
       "599             after                        0   rewarded  subj_1_1   \n",
       "\n",
       "    subject_neuron_id  \n",
       "0           0subj_1_1  \n",
       "1           2subj_1_1  \n",
       "2           4subj_1_1  \n",
       "3           5subj_1_1  \n",
       "4           8subj_1_1  \n",
       "..                ...  \n",
       "595        32subj_1_1  \n",
       "596        34subj_1_1  \n",
       "597        41subj_1_1  \n",
       "598        42subj_1_1  \n",
       "599        48subj_1_1  \n",
       "\n",
       "[600 rows x 9 columns]"
      ]
     },
     "execution_count": 71,
     "metadata": {},
     "output_type": "execute_result"
    }
   ],
   "source": [
    "subj_1_merged_before_after_tone_spike_count_df"
   ]
  },
  {
   "cell_type": "code",
   "execution_count": null,
   "id": "dfe6bb8c-a8ec-4d14-ad98-5c3cfd945c14",
   "metadata": {},
   "outputs": [],
   "source": []
  },
  {
   "cell_type": "markdown",
   "id": "97a66ff2-890f-4017-880e-2ca6a964b859",
   "metadata": {},
   "source": [
    "# Getting spike rates for other subject"
   ]
  },
  {
   "cell_type": "code",
   "execution_count": null,
   "id": "c0276f4c-8946-450a-8979-3b4b5bf4ac6b",
   "metadata": {},
   "outputs": [],
   "source": []
  },
  {
   "cell_type": "markdown",
   "id": "1d353473-c3b7-44d6-b1df-3b868154ee59",
   "metadata": {},
   "source": [
    "# Reading in Phy"
   ]
  },
  {
   "cell_type": "markdown",
   "id": "051019f8-12fb-4a79-9209-ba9782785021",
   "metadata": {},
   "source": [
    "- Which unit the spike came from"
   ]
  },
  {
   "cell_type": "code",
   "execution_count": 72,
   "id": "10db6b37-e847-4d3f-bebc-d19f840ddaf4",
   "metadata": {},
   "outputs": [],
   "source": [
    "subj_dir = \"/scratch/back_up/reward_competition_extention/proc/spike_sorting/20230620_114347_standard_comp_to_omission_D4_subj_1-1_t1b2L_box_2_merged.rec\"\n"
   ]
  },
  {
   "cell_type": "code",
   "execution_count": 73,
   "id": "9ec7c5f1-221f-4ab7-ad26-8dbc2a829ca0",
   "metadata": {},
   "outputs": [],
   "source": [
    "spike_clusters = np.load(os.path.join(subj_dir, \"phy/spike_clusters.npy\"))"
   ]
  },
  {
   "cell_type": "code",
   "execution_count": 74,
   "id": "2be258eb-bd3d-41fb-92ae-3c7e61f96167",
   "metadata": {},
   "outputs": [
    {
     "data": {
      "text/plain": [
       "array([ 4,  4, 11, 42, 11,  1,  4, 42,  1, 25], dtype=int32)"
      ]
     },
     "execution_count": 74,
     "metadata": {},
     "output_type": "execute_result"
    }
   ],
   "source": [
    "spike_clusters[:10]"
   ]
  },
  {
   "cell_type": "markdown",
   "id": "35dc2fad-045e-4ed9-bc00-78a32960f057",
   "metadata": {},
   "source": [
    "- The classification of each unit"
   ]
  },
  {
   "cell_type": "code",
   "execution_count": 75,
   "id": "c4101a5f-bcc5-426a-bb71-28a18ed49e86",
   "metadata": {},
   "outputs": [],
   "source": [
    "cluster_group_df = pd.read_csv(os.path.join(subj_dir, \"phy/cluster_info.tsv\"), sep=\"\\t\")"
   ]
  },
  {
   "cell_type": "code",
   "execution_count": 76,
   "id": "3da57b2a-bf20-48fa-97eb-2dc97135f603",
   "metadata": {},
   "outputs": [],
   "source": [
    "non_mpfc_channels = [28, 29, 30, 31]"
   ]
  },
  {
   "cell_type": "code",
   "execution_count": 77,
   "id": "b2452f9b-30c4-4229-94f9-7865ab553427",
   "metadata": {},
   "outputs": [],
   "source": [
    "cluster_group_df = cluster_group_df[~cluster_group_df[\"ch\"].isin(non_mpfc_channels)]"
   ]
  },
  {
   "cell_type": "code",
   "execution_count": 78,
   "id": "4fad67a9-ef64-4a3a-998f-1833d3b696dc",
   "metadata": {},
   "outputs": [
    {
     "data": {
      "text/html": [
       "<div>\n",
       "<style scoped>\n",
       "    .dataframe tbody tr th:only-of-type {\n",
       "        vertical-align: middle;\n",
       "    }\n",
       "\n",
       "    .dataframe tbody tr th {\n",
       "        vertical-align: top;\n",
       "    }\n",
       "\n",
       "    .dataframe thead th {\n",
       "        text-align: right;\n",
       "    }\n",
       "</style>\n",
       "<table border=\"1\" class=\"dataframe\">\n",
       "  <thead>\n",
       "    <tr style=\"text-align: right;\">\n",
       "      <th></th>\n",
       "      <th>cluster_id</th>\n",
       "      <th>amp</th>\n",
       "      <th>ch</th>\n",
       "      <th>channel_group</th>\n",
       "      <th>depth</th>\n",
       "      <th>fr</th>\n",
       "      <th>group</th>\n",
       "      <th>n_spikes</th>\n",
       "      <th>sh</th>\n",
       "      <th>si_unit_id</th>\n",
       "    </tr>\n",
       "  </thead>\n",
       "  <tbody>\n",
       "    <tr>\n",
       "      <th>0</th>\n",
       "      <td>0</td>\n",
       "      <td>22.906088</td>\n",
       "      <td>0</td>\n",
       "      <td>0</td>\n",
       "      <td>0.0</td>\n",
       "      <td>2.255033</td>\n",
       "      <td>good</td>\n",
       "      <td>7708</td>\n",
       "      <td>0</td>\n",
       "      <td>1</td>\n",
       "    </tr>\n",
       "    <tr>\n",
       "      <th>1</th>\n",
       "      <td>1</td>\n",
       "      <td>9.644358</td>\n",
       "      <td>0</td>\n",
       "      <td>0</td>\n",
       "      <td>0.0</td>\n",
       "      <td>20.232101</td>\n",
       "      <td>mua</td>\n",
       "      <td>69156</td>\n",
       "      <td>0</td>\n",
       "      <td>2</td>\n",
       "    </tr>\n",
       "    <tr>\n",
       "      <th>2</th>\n",
       "      <td>2</td>\n",
       "      <td>24.692951</td>\n",
       "      <td>1</td>\n",
       "      <td>0</td>\n",
       "      <td>20.0</td>\n",
       "      <td>1.070175</td>\n",
       "      <td>good</td>\n",
       "      <td>3658</td>\n",
       "      <td>0</td>\n",
       "      <td>3</td>\n",
       "    </tr>\n",
       "    <tr>\n",
       "      <th>3</th>\n",
       "      <td>3</td>\n",
       "      <td>10.347874</td>\n",
       "      <td>1</td>\n",
       "      <td>0</td>\n",
       "      <td>20.0</td>\n",
       "      <td>14.493880</td>\n",
       "      <td>mua</td>\n",
       "      <td>49542</td>\n",
       "      <td>0</td>\n",
       "      <td>4</td>\n",
       "    </tr>\n",
       "    <tr>\n",
       "      <th>4</th>\n",
       "      <td>4</td>\n",
       "      <td>11.953332</td>\n",
       "      <td>4</td>\n",
       "      <td>0</td>\n",
       "      <td>80.0</td>\n",
       "      <td>27.163371</td>\n",
       "      <td>good</td>\n",
       "      <td>92848</td>\n",
       "      <td>0</td>\n",
       "      <td>5</td>\n",
       "    </tr>\n",
       "    <tr>\n",
       "      <th>5</th>\n",
       "      <td>5</td>\n",
       "      <td>26.088383</td>\n",
       "      <td>5</td>\n",
       "      <td>0</td>\n",
       "      <td>100.0</td>\n",
       "      <td>3.441938</td>\n",
       "      <td>good</td>\n",
       "      <td>11765</td>\n",
       "      <td>0</td>\n",
       "      <td>6</td>\n",
       "    </tr>\n",
       "    <tr>\n",
       "      <th>6</th>\n",
       "      <td>8</td>\n",
       "      <td>10.794415</td>\n",
       "      <td>14</td>\n",
       "      <td>0</td>\n",
       "      <td>280.0</td>\n",
       "      <td>6.983053</td>\n",
       "      <td>good</td>\n",
       "      <td>23869</td>\n",
       "      <td>0</td>\n",
       "      <td>9</td>\n",
       "    </tr>\n",
       "    <tr>\n",
       "      <th>7</th>\n",
       "      <td>10</td>\n",
       "      <td>10.297276</td>\n",
       "      <td>18</td>\n",
       "      <td>0</td>\n",
       "      <td>360.0</td>\n",
       "      <td>6.455279</td>\n",
       "      <td>mua</td>\n",
       "      <td>22065</td>\n",
       "      <td>0</td>\n",
       "      <td>12</td>\n",
       "    </tr>\n",
       "    <tr>\n",
       "      <th>8</th>\n",
       "      <td>11</td>\n",
       "      <td>9.638424</td>\n",
       "      <td>19</td>\n",
       "      <td>0</td>\n",
       "      <td>380.0</td>\n",
       "      <td>18.195901</td>\n",
       "      <td>mua</td>\n",
       "      <td>62196</td>\n",
       "      <td>0</td>\n",
       "      <td>13</td>\n",
       "    </tr>\n",
       "    <tr>\n",
       "      <th>9</th>\n",
       "      <td>17</td>\n",
       "      <td>10.680766</td>\n",
       "      <td>24</td>\n",
       "      <td>0</td>\n",
       "      <td>480.0</td>\n",
       "      <td>6.339427</td>\n",
       "      <td>mua</td>\n",
       "      <td>21669</td>\n",
       "      <td>0</td>\n",
       "      <td>19</td>\n",
       "    </tr>\n",
       "    <tr>\n",
       "      <th>10</th>\n",
       "      <td>18</td>\n",
       "      <td>13.899227</td>\n",
       "      <td>24</td>\n",
       "      <td>0</td>\n",
       "      <td>480.0</td>\n",
       "      <td>3.850641</td>\n",
       "      <td>good</td>\n",
       "      <td>13162</td>\n",
       "      <td>0</td>\n",
       "      <td>20</td>\n",
       "    </tr>\n",
       "    <tr>\n",
       "      <th>11</th>\n",
       "      <td>20</td>\n",
       "      <td>19.467382</td>\n",
       "      <td>11</td>\n",
       "      <td>0</td>\n",
       "      <td>220.0</td>\n",
       "      <td>0.739585</td>\n",
       "      <td>good</td>\n",
       "      <td>2528</td>\n",
       "      <td>0</td>\n",
       "      <td>7</td>\n",
       "    </tr>\n",
       "    <tr>\n",
       "      <th>12</th>\n",
       "      <td>21</td>\n",
       "      <td>19.467382</td>\n",
       "      <td>11</td>\n",
       "      <td>0</td>\n",
       "      <td>220.0</td>\n",
       "      <td>0.078698</td>\n",
       "      <td>mua</td>\n",
       "      <td>269</td>\n",
       "      <td>0</td>\n",
       "      <td>7</td>\n",
       "    </tr>\n",
       "    <tr>\n",
       "      <th>13</th>\n",
       "      <td>22</td>\n",
       "      <td>21.967876</td>\n",
       "      <td>13</td>\n",
       "      <td>0</td>\n",
       "      <td>260.0</td>\n",
       "      <td>0.465459</td>\n",
       "      <td>good</td>\n",
       "      <td>1591</td>\n",
       "      <td>0</td>\n",
       "      <td>8</td>\n",
       "    </tr>\n",
       "    <tr>\n",
       "      <th>14</th>\n",
       "      <td>23</td>\n",
       "      <td>21.967876</td>\n",
       "      <td>13</td>\n",
       "      <td>0</td>\n",
       "      <td>260.0</td>\n",
       "      <td>0.156518</td>\n",
       "      <td>mua</td>\n",
       "      <td>535</td>\n",
       "      <td>0</td>\n",
       "      <td>8</td>\n",
       "    </tr>\n",
       "    <tr>\n",
       "      <th>15</th>\n",
       "      <td>24</td>\n",
       "      <td>8.365023</td>\n",
       "      <td>14</td>\n",
       "      <td>0</td>\n",
       "      <td>280.0</td>\n",
       "      <td>1.059350</td>\n",
       "      <td>mua</td>\n",
       "      <td>3621</td>\n",
       "      <td>0</td>\n",
       "      <td>10</td>\n",
       "    </tr>\n",
       "    <tr>\n",
       "      <th>16</th>\n",
       "      <td>25</td>\n",
       "      <td>8.365023</td>\n",
       "      <td>14</td>\n",
       "      <td>0</td>\n",
       "      <td>280.0</td>\n",
       "      <td>1.713801</td>\n",
       "      <td>mua</td>\n",
       "      <td>5858</td>\n",
       "      <td>0</td>\n",
       "      <td>10</td>\n",
       "    </tr>\n",
       "    <tr>\n",
       "      <th>17</th>\n",
       "      <td>26</td>\n",
       "      <td>22.982307</td>\n",
       "      <td>20</td>\n",
       "      <td>0</td>\n",
       "      <td>400.0</td>\n",
       "      <td>0.660302</td>\n",
       "      <td>good</td>\n",
       "      <td>2257</td>\n",
       "      <td>0</td>\n",
       "      <td>14</td>\n",
       "    </tr>\n",
       "    <tr>\n",
       "      <th>18</th>\n",
       "      <td>27</td>\n",
       "      <td>22.982307</td>\n",
       "      <td>20</td>\n",
       "      <td>0</td>\n",
       "      <td>400.0</td>\n",
       "      <td>0.150960</td>\n",
       "      <td>mua</td>\n",
       "      <td>516</td>\n",
       "      <td>0</td>\n",
       "      <td>14</td>\n",
       "    </tr>\n",
       "    <tr>\n",
       "      <th>19</th>\n",
       "      <td>30</td>\n",
       "      <td>9.095772</td>\n",
       "      <td>20</td>\n",
       "      <td>0</td>\n",
       "      <td>400.0</td>\n",
       "      <td>0.393197</td>\n",
       "      <td>good</td>\n",
       "      <td>1344</td>\n",
       "      <td>0</td>\n",
       "      <td>15</td>\n",
       "    </tr>\n",
       "    <tr>\n",
       "      <th>20</th>\n",
       "      <td>31</td>\n",
       "      <td>9.095772</td>\n",
       "      <td>20</td>\n",
       "      <td>0</td>\n",
       "      <td>400.0</td>\n",
       "      <td>1.151213</td>\n",
       "      <td>mua</td>\n",
       "      <td>3935</td>\n",
       "      <td>0</td>\n",
       "      <td>15</td>\n",
       "    </tr>\n",
       "    <tr>\n",
       "      <th>21</th>\n",
       "      <td>32</td>\n",
       "      <td>14.854889</td>\n",
       "      <td>21</td>\n",
       "      <td>0</td>\n",
       "      <td>420.0</td>\n",
       "      <td>0.998791</td>\n",
       "      <td>good</td>\n",
       "      <td>3414</td>\n",
       "      <td>0</td>\n",
       "      <td>16</td>\n",
       "    </tr>\n",
       "    <tr>\n",
       "      <th>22</th>\n",
       "      <td>33</td>\n",
       "      <td>14.854889</td>\n",
       "      <td>21</td>\n",
       "      <td>0</td>\n",
       "      <td>420.0</td>\n",
       "      <td>0.012287</td>\n",
       "      <td>noise</td>\n",
       "      <td>42</td>\n",
       "      <td>0</td>\n",
       "      <td>16</td>\n",
       "    </tr>\n",
       "    <tr>\n",
       "      <th>23</th>\n",
       "      <td>34</td>\n",
       "      <td>23.960157</td>\n",
       "      <td>22</td>\n",
       "      <td>0</td>\n",
       "      <td>440.0</td>\n",
       "      <td>0.402266</td>\n",
       "      <td>good</td>\n",
       "      <td>1375</td>\n",
       "      <td>0</td>\n",
       "      <td>17</td>\n",
       "    </tr>\n",
       "    <tr>\n",
       "      <th>24</th>\n",
       "      <td>35</td>\n",
       "      <td>23.960157</td>\n",
       "      <td>22</td>\n",
       "      <td>0</td>\n",
       "      <td>440.0</td>\n",
       "      <td>0.130481</td>\n",
       "      <td>mua</td>\n",
       "      <td>446</td>\n",
       "      <td>0</td>\n",
       "      <td>17</td>\n",
       "    </tr>\n",
       "    <tr>\n",
       "      <th>25</th>\n",
       "      <td>40</td>\n",
       "      <td>11.040359</td>\n",
       "      <td>23</td>\n",
       "      <td>0</td>\n",
       "      <td>460.0</td>\n",
       "      <td>7.668808</td>\n",
       "      <td>mua</td>\n",
       "      <td>26213</td>\n",
       "      <td>0</td>\n",
       "      <td>18</td>\n",
       "    </tr>\n",
       "    <tr>\n",
       "      <th>26</th>\n",
       "      <td>41</td>\n",
       "      <td>11.040359</td>\n",
       "      <td>23</td>\n",
       "      <td>0</td>\n",
       "      <td>460.0</td>\n",
       "      <td>0.295483</td>\n",
       "      <td>good</td>\n",
       "      <td>1010</td>\n",
       "      <td>0</td>\n",
       "      <td>18</td>\n",
       "    </tr>\n",
       "    <tr>\n",
       "      <th>27</th>\n",
       "      <td>42</td>\n",
       "      <td>17.238409</td>\n",
       "      <td>26</td>\n",
       "      <td>0</td>\n",
       "      <td>520.0</td>\n",
       "      <td>15.538310</td>\n",
       "      <td>good</td>\n",
       "      <td>53112</td>\n",
       "      <td>0</td>\n",
       "      <td>21</td>\n",
       "    </tr>\n",
       "    <tr>\n",
       "      <th>28</th>\n",
       "      <td>48</td>\n",
       "      <td>17.238409</td>\n",
       "      <td>26</td>\n",
       "      <td>0</td>\n",
       "      <td>520.0</td>\n",
       "      <td>0.469847</td>\n",
       "      <td>good</td>\n",
       "      <td>1606</td>\n",
       "      <td>0</td>\n",
       "      <td>21</td>\n",
       "    </tr>\n",
       "    <tr>\n",
       "      <th>29</th>\n",
       "      <td>49</td>\n",
       "      <td>17.238409</td>\n",
       "      <td>26</td>\n",
       "      <td>0</td>\n",
       "      <td>520.0</td>\n",
       "      <td>0.002340</td>\n",
       "      <td>noise</td>\n",
       "      <td>8</td>\n",
       "      <td>0</td>\n",
       "      <td>21</td>\n",
       "    </tr>\n",
       "  </tbody>\n",
       "</table>\n",
       "</div>"
      ],
      "text/plain": [
       "    cluster_id        amp  ch  channel_group  depth         fr  group  \\\n",
       "0            0  22.906088   0              0    0.0   2.255033   good   \n",
       "1            1   9.644358   0              0    0.0  20.232101    mua   \n",
       "2            2  24.692951   1              0   20.0   1.070175   good   \n",
       "3            3  10.347874   1              0   20.0  14.493880    mua   \n",
       "4            4  11.953332   4              0   80.0  27.163371   good   \n",
       "5            5  26.088383   5              0  100.0   3.441938   good   \n",
       "6            8  10.794415  14              0  280.0   6.983053   good   \n",
       "7           10  10.297276  18              0  360.0   6.455279    mua   \n",
       "8           11   9.638424  19              0  380.0  18.195901    mua   \n",
       "9           17  10.680766  24              0  480.0   6.339427    mua   \n",
       "10          18  13.899227  24              0  480.0   3.850641   good   \n",
       "11          20  19.467382  11              0  220.0   0.739585   good   \n",
       "12          21  19.467382  11              0  220.0   0.078698    mua   \n",
       "13          22  21.967876  13              0  260.0   0.465459   good   \n",
       "14          23  21.967876  13              0  260.0   0.156518    mua   \n",
       "15          24   8.365023  14              0  280.0   1.059350    mua   \n",
       "16          25   8.365023  14              0  280.0   1.713801    mua   \n",
       "17          26  22.982307  20              0  400.0   0.660302   good   \n",
       "18          27  22.982307  20              0  400.0   0.150960    mua   \n",
       "19          30   9.095772  20              0  400.0   0.393197   good   \n",
       "20          31   9.095772  20              0  400.0   1.151213    mua   \n",
       "21          32  14.854889  21              0  420.0   0.998791   good   \n",
       "22          33  14.854889  21              0  420.0   0.012287  noise   \n",
       "23          34  23.960157  22              0  440.0   0.402266   good   \n",
       "24          35  23.960157  22              0  440.0   0.130481    mua   \n",
       "25          40  11.040359  23              0  460.0   7.668808    mua   \n",
       "26          41  11.040359  23              0  460.0   0.295483   good   \n",
       "27          42  17.238409  26              0  520.0  15.538310   good   \n",
       "28          48  17.238409  26              0  520.0   0.469847   good   \n",
       "29          49  17.238409  26              0  520.0   0.002340  noise   \n",
       "\n",
       "    n_spikes  sh  si_unit_id  \n",
       "0       7708   0           1  \n",
       "1      69156   0           2  \n",
       "2       3658   0           3  \n",
       "3      49542   0           4  \n",
       "4      92848   0           5  \n",
       "5      11765   0           6  \n",
       "6      23869   0           9  \n",
       "7      22065   0          12  \n",
       "8      62196   0          13  \n",
       "9      21669   0          19  \n",
       "10     13162   0          20  \n",
       "11      2528   0           7  \n",
       "12       269   0           7  \n",
       "13      1591   0           8  \n",
       "14       535   0           8  \n",
       "15      3621   0          10  \n",
       "16      5858   0          10  \n",
       "17      2257   0          14  \n",
       "18       516   0          14  \n",
       "19      1344   0          15  \n",
       "20      3935   0          15  \n",
       "21      3414   0          16  \n",
       "22        42   0          16  \n",
       "23      1375   0          17  \n",
       "24       446   0          17  \n",
       "25     26213   0          18  \n",
       "26      1010   0          18  \n",
       "27     53112   0          21  \n",
       "28      1606   0          21  \n",
       "29         8   0          21  "
      ]
     },
     "execution_count": 78,
     "metadata": {},
     "output_type": "execute_result"
    }
   ],
   "source": [
    "cluster_group_df"
   ]
  },
  {
   "cell_type": "markdown",
   "id": "a87d443c-64fe-4425-b8f6-d71f1a06521d",
   "metadata": {},
   "source": [
    "- Filtering for the good units"
   ]
  },
  {
   "cell_type": "code",
   "execution_count": 79,
   "id": "43e9c260-2af6-47db-b58b-113329f48ac5",
   "metadata": {},
   "outputs": [],
   "source": [
    "good_unit_cluster_info_df = cluster_group_df[cluster_group_df[\"group\"] == \"good\"]"
   ]
  },
  {
   "cell_type": "code",
   "execution_count": 80,
   "id": "4ff51e1b-672d-491b-b3fc-0a018d2e0a5c",
   "metadata": {},
   "outputs": [
    {
     "data": {
      "text/html": [
       "<div>\n",
       "<style scoped>\n",
       "    .dataframe tbody tr th:only-of-type {\n",
       "        vertical-align: middle;\n",
       "    }\n",
       "\n",
       "    .dataframe tbody tr th {\n",
       "        vertical-align: top;\n",
       "    }\n",
       "\n",
       "    .dataframe thead th {\n",
       "        text-align: right;\n",
       "    }\n",
       "</style>\n",
       "<table border=\"1\" class=\"dataframe\">\n",
       "  <thead>\n",
       "    <tr style=\"text-align: right;\">\n",
       "      <th></th>\n",
       "      <th>cluster_id</th>\n",
       "      <th>amp</th>\n",
       "      <th>ch</th>\n",
       "      <th>channel_group</th>\n",
       "      <th>depth</th>\n",
       "      <th>fr</th>\n",
       "      <th>group</th>\n",
       "      <th>n_spikes</th>\n",
       "      <th>sh</th>\n",
       "      <th>si_unit_id</th>\n",
       "    </tr>\n",
       "  </thead>\n",
       "  <tbody>\n",
       "    <tr>\n",
       "      <th>0</th>\n",
       "      <td>0</td>\n",
       "      <td>22.906088</td>\n",
       "      <td>0</td>\n",
       "      <td>0</td>\n",
       "      <td>0.0</td>\n",
       "      <td>2.255033</td>\n",
       "      <td>good</td>\n",
       "      <td>7708</td>\n",
       "      <td>0</td>\n",
       "      <td>1</td>\n",
       "    </tr>\n",
       "    <tr>\n",
       "      <th>2</th>\n",
       "      <td>2</td>\n",
       "      <td>24.692951</td>\n",
       "      <td>1</td>\n",
       "      <td>0</td>\n",
       "      <td>20.0</td>\n",
       "      <td>1.070175</td>\n",
       "      <td>good</td>\n",
       "      <td>3658</td>\n",
       "      <td>0</td>\n",
       "      <td>3</td>\n",
       "    </tr>\n",
       "    <tr>\n",
       "      <th>4</th>\n",
       "      <td>4</td>\n",
       "      <td>11.953332</td>\n",
       "      <td>4</td>\n",
       "      <td>0</td>\n",
       "      <td>80.0</td>\n",
       "      <td>27.163371</td>\n",
       "      <td>good</td>\n",
       "      <td>92848</td>\n",
       "      <td>0</td>\n",
       "      <td>5</td>\n",
       "    </tr>\n",
       "    <tr>\n",
       "      <th>5</th>\n",
       "      <td>5</td>\n",
       "      <td>26.088383</td>\n",
       "      <td>5</td>\n",
       "      <td>0</td>\n",
       "      <td>100.0</td>\n",
       "      <td>3.441938</td>\n",
       "      <td>good</td>\n",
       "      <td>11765</td>\n",
       "      <td>0</td>\n",
       "      <td>6</td>\n",
       "    </tr>\n",
       "    <tr>\n",
       "      <th>6</th>\n",
       "      <td>8</td>\n",
       "      <td>10.794415</td>\n",
       "      <td>14</td>\n",
       "      <td>0</td>\n",
       "      <td>280.0</td>\n",
       "      <td>6.983053</td>\n",
       "      <td>good</td>\n",
       "      <td>23869</td>\n",
       "      <td>0</td>\n",
       "      <td>9</td>\n",
       "    </tr>\n",
       "    <tr>\n",
       "      <th>10</th>\n",
       "      <td>18</td>\n",
       "      <td>13.899227</td>\n",
       "      <td>24</td>\n",
       "      <td>0</td>\n",
       "      <td>480.0</td>\n",
       "      <td>3.850641</td>\n",
       "      <td>good</td>\n",
       "      <td>13162</td>\n",
       "      <td>0</td>\n",
       "      <td>20</td>\n",
       "    </tr>\n",
       "    <tr>\n",
       "      <th>11</th>\n",
       "      <td>20</td>\n",
       "      <td>19.467382</td>\n",
       "      <td>11</td>\n",
       "      <td>0</td>\n",
       "      <td>220.0</td>\n",
       "      <td>0.739585</td>\n",
       "      <td>good</td>\n",
       "      <td>2528</td>\n",
       "      <td>0</td>\n",
       "      <td>7</td>\n",
       "    </tr>\n",
       "    <tr>\n",
       "      <th>13</th>\n",
       "      <td>22</td>\n",
       "      <td>21.967876</td>\n",
       "      <td>13</td>\n",
       "      <td>0</td>\n",
       "      <td>260.0</td>\n",
       "      <td>0.465459</td>\n",
       "      <td>good</td>\n",
       "      <td>1591</td>\n",
       "      <td>0</td>\n",
       "      <td>8</td>\n",
       "    </tr>\n",
       "    <tr>\n",
       "      <th>17</th>\n",
       "      <td>26</td>\n",
       "      <td>22.982307</td>\n",
       "      <td>20</td>\n",
       "      <td>0</td>\n",
       "      <td>400.0</td>\n",
       "      <td>0.660302</td>\n",
       "      <td>good</td>\n",
       "      <td>2257</td>\n",
       "      <td>0</td>\n",
       "      <td>14</td>\n",
       "    </tr>\n",
       "    <tr>\n",
       "      <th>19</th>\n",
       "      <td>30</td>\n",
       "      <td>9.095772</td>\n",
       "      <td>20</td>\n",
       "      <td>0</td>\n",
       "      <td>400.0</td>\n",
       "      <td>0.393197</td>\n",
       "      <td>good</td>\n",
       "      <td>1344</td>\n",
       "      <td>0</td>\n",
       "      <td>15</td>\n",
       "    </tr>\n",
       "    <tr>\n",
       "      <th>21</th>\n",
       "      <td>32</td>\n",
       "      <td>14.854889</td>\n",
       "      <td>21</td>\n",
       "      <td>0</td>\n",
       "      <td>420.0</td>\n",
       "      <td>0.998791</td>\n",
       "      <td>good</td>\n",
       "      <td>3414</td>\n",
       "      <td>0</td>\n",
       "      <td>16</td>\n",
       "    </tr>\n",
       "    <tr>\n",
       "      <th>23</th>\n",
       "      <td>34</td>\n",
       "      <td>23.960157</td>\n",
       "      <td>22</td>\n",
       "      <td>0</td>\n",
       "      <td>440.0</td>\n",
       "      <td>0.402266</td>\n",
       "      <td>good</td>\n",
       "      <td>1375</td>\n",
       "      <td>0</td>\n",
       "      <td>17</td>\n",
       "    </tr>\n",
       "    <tr>\n",
       "      <th>26</th>\n",
       "      <td>41</td>\n",
       "      <td>11.040359</td>\n",
       "      <td>23</td>\n",
       "      <td>0</td>\n",
       "      <td>460.0</td>\n",
       "      <td>0.295483</td>\n",
       "      <td>good</td>\n",
       "      <td>1010</td>\n",
       "      <td>0</td>\n",
       "      <td>18</td>\n",
       "    </tr>\n",
       "    <tr>\n",
       "      <th>27</th>\n",
       "      <td>42</td>\n",
       "      <td>17.238409</td>\n",
       "      <td>26</td>\n",
       "      <td>0</td>\n",
       "      <td>520.0</td>\n",
       "      <td>15.538310</td>\n",
       "      <td>good</td>\n",
       "      <td>53112</td>\n",
       "      <td>0</td>\n",
       "      <td>21</td>\n",
       "    </tr>\n",
       "    <tr>\n",
       "      <th>28</th>\n",
       "      <td>48</td>\n",
       "      <td>17.238409</td>\n",
       "      <td>26</td>\n",
       "      <td>0</td>\n",
       "      <td>520.0</td>\n",
       "      <td>0.469847</td>\n",
       "      <td>good</td>\n",
       "      <td>1606</td>\n",
       "      <td>0</td>\n",
       "      <td>21</td>\n",
       "    </tr>\n",
       "  </tbody>\n",
       "</table>\n",
       "</div>"
      ],
      "text/plain": [
       "    cluster_id        amp  ch  channel_group  depth         fr group  \\\n",
       "0            0  22.906088   0              0    0.0   2.255033  good   \n",
       "2            2  24.692951   1              0   20.0   1.070175  good   \n",
       "4            4  11.953332   4              0   80.0  27.163371  good   \n",
       "5            5  26.088383   5              0  100.0   3.441938  good   \n",
       "6            8  10.794415  14              0  280.0   6.983053  good   \n",
       "10          18  13.899227  24              0  480.0   3.850641  good   \n",
       "11          20  19.467382  11              0  220.0   0.739585  good   \n",
       "13          22  21.967876  13              0  260.0   0.465459  good   \n",
       "17          26  22.982307  20              0  400.0   0.660302  good   \n",
       "19          30   9.095772  20              0  400.0   0.393197  good   \n",
       "21          32  14.854889  21              0  420.0   0.998791  good   \n",
       "23          34  23.960157  22              0  440.0   0.402266  good   \n",
       "26          41  11.040359  23              0  460.0   0.295483  good   \n",
       "27          42  17.238409  26              0  520.0  15.538310  good   \n",
       "28          48  17.238409  26              0  520.0   0.469847  good   \n",
       "\n",
       "    n_spikes  sh  si_unit_id  \n",
       "0       7708   0           1  \n",
       "2       3658   0           3  \n",
       "4      92848   0           5  \n",
       "5      11765   0           6  \n",
       "6      23869   0           9  \n",
       "10     13162   0          20  \n",
       "11      2528   0           7  \n",
       "13      1591   0           8  \n",
       "17      2257   0          14  \n",
       "19      1344   0          15  \n",
       "21      3414   0          16  \n",
       "23      1375   0          17  \n",
       "26      1010   0          18  \n",
       "27     53112   0          21  \n",
       "28      1606   0          21  "
      ]
     },
     "execution_count": 80,
     "metadata": {},
     "output_type": "execute_result"
    }
   ],
   "source": [
    "good_unit_cluster_info_df"
   ]
  },
  {
   "cell_type": "code",
   "execution_count": 81,
   "id": "7d5b5f7f-3312-4224-8deb-9796dbe5adf9",
   "metadata": {},
   "outputs": [],
   "source": [
    "good_unit_unique_ids = good_unit_cluster_info_df[\"cluster_id\"].values"
   ]
  },
  {
   "cell_type": "code",
   "execution_count": 82,
   "id": "d62c1003-4c6c-4556-8992-14bf404e7ee1",
   "metadata": {},
   "outputs": [
    {
     "data": {
      "text/plain": [
       "array([ 0,  2,  4,  5,  8, 18, 20, 22, 26, 30, 32, 34, 41, 42, 48])"
      ]
     },
     "execution_count": 82,
     "metadata": {},
     "output_type": "execute_result"
    }
   ],
   "source": [
    "good_unit_unique_ids"
   ]
  },
  {
   "cell_type": "markdown",
   "id": "0f2233ce-c9f5-4e25-9566-5e68fdebbd4f",
   "metadata": {},
   "source": [
    "- The times that all the spikes happened"
   ]
  },
  {
   "cell_type": "code",
   "execution_count": 83,
   "id": "7af3fdc5-17c4-477f-81f9-7a6c1d0c23f3",
   "metadata": {},
   "outputs": [],
   "source": [
    "spike_times = np.load(os.path.join(subj_dir, \"phy/spike_times.npy\"))"
   ]
  },
  {
   "cell_type": "code",
   "execution_count": 84,
   "id": "f8f90101-6dc1-4562-bfc5-85f744032faf",
   "metadata": {
    "scrolled": true
   },
   "outputs": [
    {
     "data": {
      "text/plain": [
       "array([[ 160],\n",
       "       [ 483],\n",
       "       [ 503],\n",
       "       [ 535],\n",
       "       [ 695],\n",
       "       [ 716],\n",
       "       [ 868],\n",
       "       [1047],\n",
       "       [1177],\n",
       "       [1367]])"
      ]
     },
     "execution_count": 84,
     "metadata": {},
     "output_type": "execute_result"
    }
   ],
   "source": [
    "spike_times[:10]"
   ]
  },
  {
   "cell_type": "markdown",
   "id": "5fb2bca5-75e4-4439-a83b-4c60f3aa740c",
   "metadata": {},
   "source": [
    "- Getting a list of the IDs that were good from the list of unit ids for all the firings"
   ]
  },
  {
   "cell_type": "code",
   "execution_count": 85,
   "id": "18a1fdc5-99fc-43b2-927a-36d5993258e0",
   "metadata": {},
   "outputs": [],
   "source": [
    "good_unit_mask = np.isin(spike_clusters, good_unit_unique_ids)"
   ]
  },
  {
   "cell_type": "code",
   "execution_count": 86,
   "id": "c1632731-ee0b-4837-8317-6cf9a1a49555",
   "metadata": {},
   "outputs": [],
   "source": [
    "good_unit_all_ids = spike_clusters[good_unit_mask]"
   ]
  },
  {
   "cell_type": "code",
   "execution_count": 87,
   "id": "a45bbcac-0211-46d9-9bc3-3033f949977e",
   "metadata": {},
   "outputs": [
    {
     "data": {
      "text/plain": [
       "(221247,)"
      ]
     },
     "execution_count": 87,
     "metadata": {},
     "output_type": "execute_result"
    }
   ],
   "source": [
    "good_unit_all_ids.shape"
   ]
  },
  {
   "cell_type": "code",
   "execution_count": 88,
   "id": "2a4d7e4f-71b3-404c-a2b2-d16a10558cb5",
   "metadata": {},
   "outputs": [
    {
     "data": {
      "text/plain": [
       "array([ 4,  4, 42,  4, 42, 42, 42, 42,  4, 42], dtype=int32)"
      ]
     },
     "execution_count": 88,
     "metadata": {},
     "output_type": "execute_result"
    }
   ],
   "source": [
    "good_unit_all_ids[:10]"
   ]
  },
  {
   "cell_type": "markdown",
   "id": "0b4d67a1-200c-45fa-9551-04e02b7ee1a7",
   "metadata": {},
   "source": [
    "- Getting the time that the good units fired"
   ]
  },
  {
   "cell_type": "code",
   "execution_count": 89,
   "id": "2f84da6b-7007-47d7-b921-b8ca4a01a7a4",
   "metadata": {},
   "outputs": [],
   "source": [
    "good_unit_times = spike_times[good_unit_mask].T[0]"
   ]
  },
  {
   "cell_type": "code",
   "execution_count": 90,
   "id": "8f28d9e2-e72d-4192-815c-7186db537e2d",
   "metadata": {},
   "outputs": [
    {
     "data": {
      "text/plain": [
       "(221247,)"
      ]
     },
     "execution_count": 90,
     "metadata": {},
     "output_type": "execute_result"
    }
   ],
   "source": [
    "good_unit_times.shape"
   ]
  },
  {
   "cell_type": "code",
   "execution_count": 91,
   "id": "7b342ddb-8a6d-4409-bf01-8d47a0c55fad",
   "metadata": {},
   "outputs": [
    {
     "data": {
      "text/plain": [
       "array([ 160,  483,  535,  868, 1047, 1384, 1585, 1793, 1933, 1971])"
      ]
     },
     "execution_count": 91,
     "metadata": {},
     "output_type": "execute_result"
    }
   ],
   "source": [
    "good_unit_times[:10]"
   ]
  },
  {
   "cell_type": "code",
   "execution_count": 92,
   "id": "d55c0ba5-d812-4d46-8231-7eb12c41d5c7",
   "metadata": {},
   "outputs": [
    {
     "data": {
      "text/plain": [
       "array([68357578, 68358945, 68359470, 68360574, 68360653, 68361187,\n",
       "       68361475, 68361882, 68361973, 68362204])"
      ]
     },
     "execution_count": 92,
     "metadata": {},
     "output_type": "execute_result"
    }
   ],
   "source": [
    "good_unit_times[-10:]"
   ]
  },
  {
   "cell_type": "markdown",
   "id": "549122ec-0242-4759-a112-ce665f625250",
   "metadata": {},
   "source": [
    "- spike_times are indexed based on the start of the recording, not the start of the streaming\n",
    "    - Last spike ends right before the end of the recording time"
   ]
  },
  {
   "cell_type": "code",
   "execution_count": 93,
   "id": "38892d65-cb49-4657-a320-bb5be1f17b40",
   "metadata": {
    "scrolled": true
   },
   "outputs": [
    {
     "data": {
      "text/plain": [
       "array([[     160],\n",
       "       [     483],\n",
       "       [     503],\n",
       "       ...,\n",
       "       [68361973],\n",
       "       [68362204],\n",
       "       [68362381]])"
      ]
     },
     "execution_count": 93,
     "metadata": {},
     "output_type": "execute_result"
    }
   ],
   "source": [
    "spike_times"
   ]
  },
  {
   "cell_type": "code",
   "execution_count": 94,
   "id": "48b675fc-b415-4245-8faf-93456c5d342f",
   "metadata": {},
   "outputs": [
    {
     "data": {
      "text/plain": [
       "array([3418.11905])"
      ]
     },
     "execution_count": 94,
     "metadata": {},
     "output_type": "execute_result"
    }
   ],
   "source": [
    "spike_times[-1]/20000"
   ]
  },
  {
   "cell_type": "markdown",
   "id": "dfccd012-6bfa-4520-85e3-77ef9424089d",
   "metadata": {},
   "source": [
    "## Syncing the unit times with the ECU times"
   ]
  },
  {
   "cell_type": "code",
   "execution_count": 95,
   "id": "4c1f30c4-a753-4f93-af71-9ffb3d4fad50",
   "metadata": {},
   "outputs": [
    {
     "data": {
      "text/html": [
       "<div>\n",
       "<style scoped>\n",
       "    .dataframe tbody tr th:only-of-type {\n",
       "        vertical-align: middle;\n",
       "    }\n",
       "\n",
       "    .dataframe tbody tr th {\n",
       "        vertical-align: top;\n",
       "    }\n",
       "\n",
       "    .dataframe thead th {\n",
       "        text-align: right;\n",
       "    }\n",
       "</style>\n",
       "<table border=\"1\" class=\"dataframe\">\n",
       "  <thead>\n",
       "    <tr style=\"text-align: right;\">\n",
       "      <th></th>\n",
       "      <th>Unnamed: 0</th>\n",
       "      <th>tone_timestamp</th>\n",
       "      <th>tone_index</th>\n",
       "      <th>rewarded_or_not</th>\n",
       "      <th>competition_winners</th>\n",
       "      <th>condition</th>\n",
       "      <th>lfp_index</th>\n",
       "      <th>subj_1_1_condition</th>\n",
       "      <th>subj_1_2_condition</th>\n",
       "    </tr>\n",
       "  </thead>\n",
       "  <tbody>\n",
       "    <tr>\n",
       "      <th>0</th>\n",
       "      <td>0</td>\n",
       "      <td>3671086</td>\n",
       "      <td>478042</td>\n",
       "      <td>rewarded</td>\n",
       "      <td>1.1</td>\n",
       "      <td>1.1</td>\n",
       "      <td>23902</td>\n",
       "      <td>win</td>\n",
       "      <td>lose</td>\n",
       "    </tr>\n",
       "    <tr>\n",
       "      <th>1</th>\n",
       "      <td>1</td>\n",
       "      <td>5681112</td>\n",
       "      <td>2488068</td>\n",
       "      <td>rewarded</td>\n",
       "      <td>tie</td>\n",
       "      <td>tie</td>\n",
       "      <td>124403</td>\n",
       "      <td>tie</td>\n",
       "      <td>tie</td>\n",
       "    </tr>\n",
       "    <tr>\n",
       "      <th>2</th>\n",
       "      <td>2</td>\n",
       "      <td>8081141</td>\n",
       "      <td>4888097</td>\n",
       "      <td>rewarded</td>\n",
       "      <td>1.2</td>\n",
       "      <td>1.2</td>\n",
       "      <td>244404</td>\n",
       "      <td>lose</td>\n",
       "      <td>win</td>\n",
       "    </tr>\n",
       "    <tr>\n",
       "      <th>3</th>\n",
       "      <td>3</td>\n",
       "      <td>10381173</td>\n",
       "      <td>7188129</td>\n",
       "      <td>rewarded</td>\n",
       "      <td>1.1</td>\n",
       "      <td>1.1</td>\n",
       "      <td>359406</td>\n",
       "      <td>win</td>\n",
       "      <td>lose</td>\n",
       "    </tr>\n",
       "    <tr>\n",
       "      <th>4</th>\n",
       "      <td>4</td>\n",
       "      <td>12181192</td>\n",
       "      <td>8988148</td>\n",
       "      <td>rewarded</td>\n",
       "      <td>1.2</td>\n",
       "      <td>1.2</td>\n",
       "      <td>449407</td>\n",
       "      <td>lose</td>\n",
       "      <td>win</td>\n",
       "    </tr>\n",
       "    <tr>\n",
       "      <th>5</th>\n",
       "      <td>5</td>\n",
       "      <td>13281209</td>\n",
       "      <td>10088165</td>\n",
       "      <td>rewarded</td>\n",
       "      <td>1.1</td>\n",
       "      <td>1.1</td>\n",
       "      <td>504408</td>\n",
       "      <td>win</td>\n",
       "      <td>lose</td>\n",
       "    </tr>\n",
       "    <tr>\n",
       "      <th>6</th>\n",
       "      <td>6</td>\n",
       "      <td>14281218</td>\n",
       "      <td>11088174</td>\n",
       "      <td>rewarded</td>\n",
       "      <td>1.1</td>\n",
       "      <td>1.1</td>\n",
       "      <td>554408</td>\n",
       "      <td>win</td>\n",
       "      <td>lose</td>\n",
       "    </tr>\n",
       "    <tr>\n",
       "      <th>7</th>\n",
       "      <td>7</td>\n",
       "      <td>16181241</td>\n",
       "      <td>12988197</td>\n",
       "      <td>rewarded</td>\n",
       "      <td>1.2</td>\n",
       "      <td>1.2</td>\n",
       "      <td>649409</td>\n",
       "      <td>lose</td>\n",
       "      <td>win</td>\n",
       "    </tr>\n",
       "    <tr>\n",
       "      <th>8</th>\n",
       "      <td>8</td>\n",
       "      <td>17681260</td>\n",
       "      <td>14488216</td>\n",
       "      <td>rewarded</td>\n",
       "      <td>1.1</td>\n",
       "      <td>1.1</td>\n",
       "      <td>724410</td>\n",
       "      <td>win</td>\n",
       "      <td>lose</td>\n",
       "    </tr>\n",
       "    <tr>\n",
       "      <th>9</th>\n",
       "      <td>9</td>\n",
       "      <td>19781285</td>\n",
       "      <td>16588241</td>\n",
       "      <td>rewarded</td>\n",
       "      <td>1.1</td>\n",
       "      <td>1.1</td>\n",
       "      <td>829412</td>\n",
       "      <td>win</td>\n",
       "      <td>lose</td>\n",
       "    </tr>\n",
       "    <tr>\n",
       "      <th>10</th>\n",
       "      <td>10</td>\n",
       "      <td>20781300</td>\n",
       "      <td>17588256</td>\n",
       "      <td>rewarded</td>\n",
       "      <td>1.2</td>\n",
       "      <td>1.2</td>\n",
       "      <td>879412</td>\n",
       "      <td>lose</td>\n",
       "      <td>win</td>\n",
       "    </tr>\n",
       "    <tr>\n",
       "      <th>11</th>\n",
       "      <td>11</td>\n",
       "      <td>22381319</td>\n",
       "      <td>19188275</td>\n",
       "      <td>rewarded</td>\n",
       "      <td>1.1</td>\n",
       "      <td>1.1</td>\n",
       "      <td>959413</td>\n",
       "      <td>win</td>\n",
       "      <td>lose</td>\n",
       "    </tr>\n",
       "    <tr>\n",
       "      <th>12</th>\n",
       "      <td>12</td>\n",
       "      <td>23681333</td>\n",
       "      <td>20488289</td>\n",
       "      <td>rewarded</td>\n",
       "      <td>1.1</td>\n",
       "      <td>1.1</td>\n",
       "      <td>1024414</td>\n",
       "      <td>win</td>\n",
       "      <td>lose</td>\n",
       "    </tr>\n",
       "    <tr>\n",
       "      <th>13</th>\n",
       "      <td>13</td>\n",
       "      <td>24981351</td>\n",
       "      <td>21788307</td>\n",
       "      <td>rewarded</td>\n",
       "      <td>1.1</td>\n",
       "      <td>1.1</td>\n",
       "      <td>1089415</td>\n",
       "      <td>win</td>\n",
       "      <td>lose</td>\n",
       "    </tr>\n",
       "    <tr>\n",
       "      <th>14</th>\n",
       "      <td>14</td>\n",
       "      <td>25981363</td>\n",
       "      <td>22788319</td>\n",
       "      <td>rewarded</td>\n",
       "      <td>1.2</td>\n",
       "      <td>1.2</td>\n",
       "      <td>1139415</td>\n",
       "      <td>lose</td>\n",
       "      <td>win</td>\n",
       "    </tr>\n",
       "    <tr>\n",
       "      <th>15</th>\n",
       "      <td>15</td>\n",
       "      <td>27381378</td>\n",
       "      <td>24188334</td>\n",
       "      <td>rewarded</td>\n",
       "      <td>1.1</td>\n",
       "      <td>1.1</td>\n",
       "      <td>1209416</td>\n",
       "      <td>win</td>\n",
       "      <td>lose</td>\n",
       "    </tr>\n",
       "    <tr>\n",
       "      <th>16</th>\n",
       "      <td>16</td>\n",
       "      <td>29281401</td>\n",
       "      <td>26088357</td>\n",
       "      <td>rewarded</td>\n",
       "      <td>1.1</td>\n",
       "      <td>1.1</td>\n",
       "      <td>1304417</td>\n",
       "      <td>win</td>\n",
       "      <td>lose</td>\n",
       "    </tr>\n",
       "    <tr>\n",
       "      <th>17</th>\n",
       "      <td>17</td>\n",
       "      <td>30881425</td>\n",
       "      <td>27688381</td>\n",
       "      <td>rewarded</td>\n",
       "      <td>1.1</td>\n",
       "      <td>1.1</td>\n",
       "      <td>1384419</td>\n",
       "      <td>win</td>\n",
       "      <td>lose</td>\n",
       "    </tr>\n",
       "    <tr>\n",
       "      <th>18</th>\n",
       "      <td>18</td>\n",
       "      <td>32281440</td>\n",
       "      <td>29088396</td>\n",
       "      <td>rewarded</td>\n",
       "      <td>1.2</td>\n",
       "      <td>1.2</td>\n",
       "      <td>1454419</td>\n",
       "      <td>lose</td>\n",
       "      <td>win</td>\n",
       "    </tr>\n",
       "    <tr>\n",
       "      <th>19</th>\n",
       "      <td>19</td>\n",
       "      <td>34481464</td>\n",
       "      <td>31288420</td>\n",
       "      <td>rewarded</td>\n",
       "      <td>1.1</td>\n",
       "      <td>1.1</td>\n",
       "      <td>1564421</td>\n",
       "      <td>win</td>\n",
       "      <td>lose</td>\n",
       "    </tr>\n",
       "    <tr>\n",
       "      <th>20</th>\n",
       "      <td>20</td>\n",
       "      <td>35681479</td>\n",
       "      <td>32488435</td>\n",
       "      <td>rewarded</td>\n",
       "      <td>0</td>\n",
       "      <td>rewarded</td>\n",
       "      <td>1624421</td>\n",
       "      <td>rewarded</td>\n",
       "      <td>rewarded</td>\n",
       "    </tr>\n",
       "    <tr>\n",
       "      <th>21</th>\n",
       "      <td>21</td>\n",
       "      <td>41681554</td>\n",
       "      <td>38488510</td>\n",
       "      <td>rewarded</td>\n",
       "      <td>0</td>\n",
       "      <td>rewarded</td>\n",
       "      <td>1924425</td>\n",
       "      <td>rewarded</td>\n",
       "      <td>rewarded</td>\n",
       "    </tr>\n",
       "    <tr>\n",
       "      <th>22</th>\n",
       "      <td>22</td>\n",
       "      <td>42881571</td>\n",
       "      <td>39688527</td>\n",
       "      <td>omission</td>\n",
       "      <td>0</td>\n",
       "      <td>omission</td>\n",
       "      <td>1984426</td>\n",
       "      <td>omission</td>\n",
       "      <td>omission</td>\n",
       "    </tr>\n",
       "    <tr>\n",
       "      <th>23</th>\n",
       "      <td>23</td>\n",
       "      <td>43981579</td>\n",
       "      <td>40788535</td>\n",
       "      <td>rewarded</td>\n",
       "      <td>0</td>\n",
       "      <td>rewarded</td>\n",
       "      <td>2039426</td>\n",
       "      <td>rewarded</td>\n",
       "      <td>rewarded</td>\n",
       "    </tr>\n",
       "    <tr>\n",
       "      <th>24</th>\n",
       "      <td>24</td>\n",
       "      <td>45281597</td>\n",
       "      <td>42088553</td>\n",
       "      <td>rewarded</td>\n",
       "      <td>0</td>\n",
       "      <td>rewarded</td>\n",
       "      <td>2104427</td>\n",
       "      <td>rewarded</td>\n",
       "      <td>rewarded</td>\n",
       "    </tr>\n",
       "    <tr>\n",
       "      <th>25</th>\n",
       "      <td>25</td>\n",
       "      <td>46381608</td>\n",
       "      <td>43188564</td>\n",
       "      <td>rewarded</td>\n",
       "      <td>0</td>\n",
       "      <td>rewarded</td>\n",
       "      <td>2159428</td>\n",
       "      <td>rewarded</td>\n",
       "      <td>rewarded</td>\n",
       "    </tr>\n",
       "    <tr>\n",
       "      <th>26</th>\n",
       "      <td>26</td>\n",
       "      <td>47381620</td>\n",
       "      <td>44188576</td>\n",
       "      <td>rewarded</td>\n",
       "      <td>0</td>\n",
       "      <td>rewarded</td>\n",
       "      <td>2209428</td>\n",
       "      <td>rewarded</td>\n",
       "      <td>rewarded</td>\n",
       "    </tr>\n",
       "    <tr>\n",
       "      <th>27</th>\n",
       "      <td>27</td>\n",
       "      <td>48381635</td>\n",
       "      <td>45188591</td>\n",
       "      <td>rewarded</td>\n",
       "      <td>0</td>\n",
       "      <td>rewarded</td>\n",
       "      <td>2259429</td>\n",
       "      <td>rewarded</td>\n",
       "      <td>rewarded</td>\n",
       "    </tr>\n",
       "    <tr>\n",
       "      <th>28</th>\n",
       "      <td>28</td>\n",
       "      <td>50481658</td>\n",
       "      <td>47288614</td>\n",
       "      <td>omission</td>\n",
       "      <td>0</td>\n",
       "      <td>omission</td>\n",
       "      <td>2364430</td>\n",
       "      <td>omission</td>\n",
       "      <td>omission</td>\n",
       "    </tr>\n",
       "    <tr>\n",
       "      <th>29</th>\n",
       "      <td>29</td>\n",
       "      <td>52881690</td>\n",
       "      <td>49688646</td>\n",
       "      <td>rewarded</td>\n",
       "      <td>0</td>\n",
       "      <td>rewarded</td>\n",
       "      <td>2484432</td>\n",
       "      <td>rewarded</td>\n",
       "      <td>rewarded</td>\n",
       "    </tr>\n",
       "    <tr>\n",
       "      <th>30</th>\n",
       "      <td>30</td>\n",
       "      <td>55281716</td>\n",
       "      <td>52088672</td>\n",
       "      <td>rewarded</td>\n",
       "      <td>0</td>\n",
       "      <td>rewarded</td>\n",
       "      <td>2604433</td>\n",
       "      <td>rewarded</td>\n",
       "      <td>rewarded</td>\n",
       "    </tr>\n",
       "    <tr>\n",
       "      <th>31</th>\n",
       "      <td>31</td>\n",
       "      <td>57481743</td>\n",
       "      <td>54288699</td>\n",
       "      <td>rewarded</td>\n",
       "      <td>0</td>\n",
       "      <td>rewarded</td>\n",
       "      <td>2714434</td>\n",
       "      <td>rewarded</td>\n",
       "      <td>rewarded</td>\n",
       "    </tr>\n",
       "    <tr>\n",
       "      <th>32</th>\n",
       "      <td>32</td>\n",
       "      <td>59181764</td>\n",
       "      <td>55988720</td>\n",
       "      <td>rewarded</td>\n",
       "      <td>0</td>\n",
       "      <td>rewarded</td>\n",
       "      <td>2799436</td>\n",
       "      <td>rewarded</td>\n",
       "      <td>rewarded</td>\n",
       "    </tr>\n",
       "    <tr>\n",
       "      <th>33</th>\n",
       "      <td>33</td>\n",
       "      <td>61581798</td>\n",
       "      <td>58388754</td>\n",
       "      <td>omission</td>\n",
       "      <td>0</td>\n",
       "      <td>omission</td>\n",
       "      <td>2919437</td>\n",
       "      <td>omission</td>\n",
       "      <td>omission</td>\n",
       "    </tr>\n",
       "    <tr>\n",
       "      <th>34</th>\n",
       "      <td>34</td>\n",
       "      <td>62781807</td>\n",
       "      <td>59588763</td>\n",
       "      <td>rewarded</td>\n",
       "      <td>0</td>\n",
       "      <td>rewarded</td>\n",
       "      <td>2979438</td>\n",
       "      <td>rewarded</td>\n",
       "      <td>rewarded</td>\n",
       "    </tr>\n",
       "    <tr>\n",
       "      <th>35</th>\n",
       "      <td>35</td>\n",
       "      <td>64081824</td>\n",
       "      <td>60888780</td>\n",
       "      <td>rewarded</td>\n",
       "      <td>0</td>\n",
       "      <td>rewarded</td>\n",
       "      <td>3044439</td>\n",
       "      <td>rewarded</td>\n",
       "      <td>rewarded</td>\n",
       "    </tr>\n",
       "    <tr>\n",
       "      <th>36</th>\n",
       "      <td>36</td>\n",
       "      <td>65281838</td>\n",
       "      <td>62088794</td>\n",
       "      <td>rewarded</td>\n",
       "      <td>0</td>\n",
       "      <td>rewarded</td>\n",
       "      <td>3104439</td>\n",
       "      <td>rewarded</td>\n",
       "      <td>rewarded</td>\n",
       "    </tr>\n",
       "    <tr>\n",
       "      <th>37</th>\n",
       "      <td>37</td>\n",
       "      <td>66781856</td>\n",
       "      <td>63588812</td>\n",
       "      <td>omission</td>\n",
       "      <td>0</td>\n",
       "      <td>omission</td>\n",
       "      <td>3179440</td>\n",
       "      <td>omission</td>\n",
       "      <td>omission</td>\n",
       "    </tr>\n",
       "    <tr>\n",
       "      <th>38</th>\n",
       "      <td>38</td>\n",
       "      <td>68781880</td>\n",
       "      <td>65588836</td>\n",
       "      <td>rewarded</td>\n",
       "      <td>0</td>\n",
       "      <td>rewarded</td>\n",
       "      <td>3279441</td>\n",
       "      <td>rewarded</td>\n",
       "      <td>rewarded</td>\n",
       "    </tr>\n",
       "    <tr>\n",
       "      <th>39</th>\n",
       "      <td>39</td>\n",
       "      <td>70681909</td>\n",
       "      <td>67488865</td>\n",
       "      <td>rewarded</td>\n",
       "      <td>0</td>\n",
       "      <td>rewarded</td>\n",
       "      <td>3374443</td>\n",
       "      <td>rewarded</td>\n",
       "      <td>rewarded</td>\n",
       "    </tr>\n",
       "    <tr>\n",
       "      <th>40</th>\n",
       "      <td>40</td>\n",
       "      <td>71681918</td>\n",
       "      <td>68488874</td>\n",
       "      <td>rewarded</td>\n",
       "      <td>0</td>\n",
       "      <td>rewarded</td>\n",
       "      <td>3424443</td>\n",
       "      <td>rewarded</td>\n",
       "      <td>rewarded</td>\n",
       "    </tr>\n",
       "  </tbody>\n",
       "</table>\n",
       "</div>"
      ],
      "text/plain": [
       "    Unnamed: 0  tone_timestamp  tone_index rewarded_or_not  \\\n",
       "0            0         3671086      478042        rewarded   \n",
       "1            1         5681112     2488068        rewarded   \n",
       "2            2         8081141     4888097        rewarded   \n",
       "3            3        10381173     7188129        rewarded   \n",
       "4            4        12181192     8988148        rewarded   \n",
       "5            5        13281209    10088165        rewarded   \n",
       "6            6        14281218    11088174        rewarded   \n",
       "7            7        16181241    12988197        rewarded   \n",
       "8            8        17681260    14488216        rewarded   \n",
       "9            9        19781285    16588241        rewarded   \n",
       "10          10        20781300    17588256        rewarded   \n",
       "11          11        22381319    19188275        rewarded   \n",
       "12          12        23681333    20488289        rewarded   \n",
       "13          13        24981351    21788307        rewarded   \n",
       "14          14        25981363    22788319        rewarded   \n",
       "15          15        27381378    24188334        rewarded   \n",
       "16          16        29281401    26088357        rewarded   \n",
       "17          17        30881425    27688381        rewarded   \n",
       "18          18        32281440    29088396        rewarded   \n",
       "19          19        34481464    31288420        rewarded   \n",
       "20          20        35681479    32488435        rewarded   \n",
       "21          21        41681554    38488510        rewarded   \n",
       "22          22        42881571    39688527        omission   \n",
       "23          23        43981579    40788535        rewarded   \n",
       "24          24        45281597    42088553        rewarded   \n",
       "25          25        46381608    43188564        rewarded   \n",
       "26          26        47381620    44188576        rewarded   \n",
       "27          27        48381635    45188591        rewarded   \n",
       "28          28        50481658    47288614        omission   \n",
       "29          29        52881690    49688646        rewarded   \n",
       "30          30        55281716    52088672        rewarded   \n",
       "31          31        57481743    54288699        rewarded   \n",
       "32          32        59181764    55988720        rewarded   \n",
       "33          33        61581798    58388754        omission   \n",
       "34          34        62781807    59588763        rewarded   \n",
       "35          35        64081824    60888780        rewarded   \n",
       "36          36        65281838    62088794        rewarded   \n",
       "37          37        66781856    63588812        omission   \n",
       "38          38        68781880    65588836        rewarded   \n",
       "39          39        70681909    67488865        rewarded   \n",
       "40          40        71681918    68488874        rewarded   \n",
       "\n",
       "   competition_winners condition  lfp_index subj_1_1_condition  \\\n",
       "0                  1.1       1.1      23902                win   \n",
       "1                  tie       tie     124403                tie   \n",
       "2                  1.2       1.2     244404               lose   \n",
       "3                  1.1       1.1     359406                win   \n",
       "4                  1.2       1.2     449407               lose   \n",
       "5                  1.1       1.1     504408                win   \n",
       "6                  1.1       1.1     554408                win   \n",
       "7                  1.2       1.2     649409               lose   \n",
       "8                  1.1       1.1     724410                win   \n",
       "9                  1.1       1.1     829412                win   \n",
       "10                 1.2       1.2     879412               lose   \n",
       "11                 1.1       1.1     959413                win   \n",
       "12                 1.1       1.1    1024414                win   \n",
       "13                 1.1       1.1    1089415                win   \n",
       "14                 1.2       1.2    1139415               lose   \n",
       "15                 1.1       1.1    1209416                win   \n",
       "16                 1.1       1.1    1304417                win   \n",
       "17                 1.1       1.1    1384419                win   \n",
       "18                 1.2       1.2    1454419               lose   \n",
       "19                 1.1       1.1    1564421                win   \n",
       "20                   0  rewarded    1624421           rewarded   \n",
       "21                   0  rewarded    1924425           rewarded   \n",
       "22                   0  omission    1984426           omission   \n",
       "23                   0  rewarded    2039426           rewarded   \n",
       "24                   0  rewarded    2104427           rewarded   \n",
       "25                   0  rewarded    2159428           rewarded   \n",
       "26                   0  rewarded    2209428           rewarded   \n",
       "27                   0  rewarded    2259429           rewarded   \n",
       "28                   0  omission    2364430           omission   \n",
       "29                   0  rewarded    2484432           rewarded   \n",
       "30                   0  rewarded    2604433           rewarded   \n",
       "31                   0  rewarded    2714434           rewarded   \n",
       "32                   0  rewarded    2799436           rewarded   \n",
       "33                   0  omission    2919437           omission   \n",
       "34                   0  rewarded    2979438           rewarded   \n",
       "35                   0  rewarded    3044439           rewarded   \n",
       "36                   0  rewarded    3104439           rewarded   \n",
       "37                   0  omission    3179440           omission   \n",
       "38                   0  rewarded    3279441           rewarded   \n",
       "39                   0  rewarded    3374443           rewarded   \n",
       "40                   0  rewarded    3424443           rewarded   \n",
       "\n",
       "   subj_1_2_condition  \n",
       "0                lose  \n",
       "1                 tie  \n",
       "2                 win  \n",
       "3                lose  \n",
       "4                 win  \n",
       "5                lose  \n",
       "6                lose  \n",
       "7                 win  \n",
       "8                lose  \n",
       "9                lose  \n",
       "10                win  \n",
       "11               lose  \n",
       "12               lose  \n",
       "13               lose  \n",
       "14                win  \n",
       "15               lose  \n",
       "16               lose  \n",
       "17               lose  \n",
       "18                win  \n",
       "19               lose  \n",
       "20           rewarded  \n",
       "21           rewarded  \n",
       "22           omission  \n",
       "23           rewarded  \n",
       "24           rewarded  \n",
       "25           rewarded  \n",
       "26           rewarded  \n",
       "27           rewarded  \n",
       "28           omission  \n",
       "29           rewarded  \n",
       "30           rewarded  \n",
       "31           rewarded  \n",
       "32           rewarded  \n",
       "33           omission  \n",
       "34           rewarded  \n",
       "35           rewarded  \n",
       "36           rewarded  \n",
       "37           omission  \n",
       "38           rewarded  \n",
       "39           rewarded  \n",
       "40           rewarded  "
      ]
     },
     "execution_count": 95,
     "metadata": {},
     "output_type": "execute_result"
    }
   ],
   "source": [
    "tone_time_stamps_df"
   ]
  },
  {
   "cell_type": "code",
   "execution_count": 96,
   "id": "3bfecd66-22a4-4c68-a497-7921d02635dc",
   "metadata": {},
   "outputs": [],
   "source": [
    "tone_time_stamps = tone_time_stamps_df[\"tone_index\"].values"
   ]
  },
  {
   "cell_type": "code",
   "execution_count": 97,
   "id": "335d7f91-2808-4aa5-bd7d-03a65ffd4950",
   "metadata": {},
   "outputs": [
    {
     "data": {
      "text/plain": [
       "array([  478042,  2488068,  4888097,  7188129,  8988148, 10088165,\n",
       "       11088174, 12988197, 14488216, 16588241, 17588256, 19188275,\n",
       "       20488289, 21788307, 22788319, 24188334, 26088357, 27688381,\n",
       "       29088396, 31288420, 32488435, 38488510, 39688527, 40788535,\n",
       "       42088553, 43188564, 44188576, 45188591, 47288614, 49688646,\n",
       "       52088672, 54288699, 55988720, 58388754, 59588763, 60888780,\n",
       "       62088794, 63588812, 65588836, 67488865, 68488874])"
      ]
     },
     "execution_count": 97,
     "metadata": {},
     "output_type": "execute_result"
    }
   ],
   "source": [
    "tone_time_stamps"
   ]
  },
  {
   "cell_type": "markdown",
   "id": "3cf91af1-da12-4d8f-9d83-b01002b56357",
   "metadata": {},
   "source": [
    "## Seeing which tone time each unit time is closest to"
   ]
  },
  {
   "cell_type": "markdown",
   "id": "10d54545-2792-4dc3-a393-9564fe48ca9c",
   "metadata": {},
   "source": [
    "- We will divide all the time up into bins of before and after each tone. Then we will see which time bin the neuron firing falls into.\n",
    "    - So everything in the 0 bin would be before the first time bin. The 1 bin would be everything in between the first and second time bin. The last would be everything after last time bin."
   ]
  },
  {
   "cell_type": "code",
   "execution_count": 98,
   "id": "a8c47c0a-6474-402c-b6da-7729ba9f6ee0",
   "metadata": {},
   "outputs": [],
   "source": [
    "good_unit_bins = np.digitize(good_unit_times, tone_time_stamps_df[\"tone_index\"], right=True)"
   ]
  },
  {
   "cell_type": "code",
   "execution_count": 99,
   "id": "cba2e752-1170-4dcc-85f3-d70062ebd7f0",
   "metadata": {},
   "outputs": [
    {
     "data": {
      "text/plain": [
       "(221247,)"
      ]
     },
     "execution_count": 99,
     "metadata": {},
     "output_type": "execute_result"
    }
   ],
   "source": [
    "good_unit_bins.shape"
   ]
  },
  {
   "cell_type": "code",
   "execution_count": 100,
   "id": "fd61bf26-6da5-4fa1-808e-66c5524be690",
   "metadata": {},
   "outputs": [
    {
     "data": {
      "text/plain": [
       "array([0, 0, 0, 0, 0, 0, 0, 0, 0, 0])"
      ]
     },
     "execution_count": 100,
     "metadata": {},
     "output_type": "execute_result"
    }
   ],
   "source": [
    "good_unit_bins[:10]"
   ]
  },
  {
   "cell_type": "code",
   "execution_count": 101,
   "id": "1ea0a5ce-f4f7-48c2-bd8e-36a3f0256c68",
   "metadata": {},
   "outputs": [
    {
     "data": {
      "text/plain": [
       "array([40, 40, 40, 40, 40, 40, 40, 40, 40, 40])"
      ]
     },
     "execution_count": 101,
     "metadata": {},
     "output_type": "execute_result"
    }
   ],
   "source": [
    "good_unit_bins[-10:]"
   ]
  },
  {
   "cell_type": "markdown",
   "id": "e538a285-3ffb-418f-a691-c3896a12fa60",
   "metadata": {},
   "source": [
    "- Seeing if the firing time is within a 10 second interval before or 10 second after any tone"
   ]
  },
  {
   "cell_type": "code",
   "execution_count": 102,
   "id": "65bd9a09-3dcc-4756-955c-2ae253226f47",
   "metadata": {},
   "outputs": [],
   "source": [
    "from collections import defaultdict"
   ]
  },
  {
   "cell_type": "code",
   "execution_count": 103,
   "id": "9eca95ec-82f6-4a38-880d-2603ddb98415",
   "metadata": {},
   "outputs": [
    {
     "data": {
      "text/plain": [
       "(221247,)"
      ]
     },
     "execution_count": 103,
     "metadata": {},
     "output_type": "execute_result"
    }
   ],
   "source": [
    "good_unit_bins.shape"
   ]
  },
  {
   "cell_type": "code",
   "execution_count": 104,
   "id": "ff07b1b0-b72b-49e8-858d-234cd22458a0",
   "metadata": {},
   "outputs": [
    {
     "data": {
      "text/plain": [
       "(221247,)"
      ]
     },
     "execution_count": 104,
     "metadata": {},
     "output_type": "execute_result"
    }
   ],
   "source": [
    "good_unit_times.shape"
   ]
  },
  {
   "cell_type": "code",
   "execution_count": 105,
   "id": "2d213220-32c8-4d56-b538-2c25f285d3ef",
   "metadata": {},
   "outputs": [
    {
     "data": {
      "text/plain": [
       "(221247,)"
      ]
     },
     "execution_count": 105,
     "metadata": {},
     "output_type": "execute_result"
    }
   ],
   "source": [
    "good_unit_all_ids.shape"
   ]
  },
  {
   "cell_type": "code",
   "execution_count": 106,
   "id": "8f0403f7-10c9-4416-9223-a984abc5cc8e",
   "metadata": {},
   "outputs": [
    {
     "data": {
      "text/plain": [
       "array([ 160,  483,  535,  868, 1047, 1384, 1585, 1793, 1933, 1971])"
      ]
     },
     "execution_count": 106,
     "metadata": {},
     "output_type": "execute_result"
    }
   ],
   "source": [
    "good_unit_times[:10]"
   ]
  },
  {
   "cell_type": "code",
   "execution_count": 107,
   "id": "9faef20c-5795-4cfe-becd-141a9eeb2d70",
   "metadata": {},
   "outputs": [
    {
     "data": {
      "text/plain": [
       "array([  478042,  2488068,  4888097,  7188129,  8988148, 10088165,\n",
       "       11088174, 12988197, 14488216, 16588241, 17588256, 19188275,\n",
       "       20488289, 21788307, 22788319, 24188334, 26088357, 27688381,\n",
       "       29088396, 31288420, 32488435, 38488510, 39688527, 40788535,\n",
       "       42088553, 43188564, 44188576, 45188591, 47288614, 49688646,\n",
       "       52088672, 54288699, 55988720, 58388754, 59588763, 60888780,\n",
       "       62088794, 63588812, 65588836, 67488865, 68488874])"
      ]
     },
     "execution_count": 107,
     "metadata": {},
     "output_type": "execute_result"
    }
   ],
   "source": [
    "tone_time_stamps"
   ]
  },
  {
   "cell_type": "code",
   "execution_count": 108,
   "id": "100e2819-dc53-48fe-b81e-9d71aaa14435",
   "metadata": {},
   "outputs": [
    {
     "data": {
      "text/plain": [
       "41"
      ]
     },
     "execution_count": 108,
     "metadata": {},
     "output_type": "execute_result"
    }
   ],
   "source": [
    "len(tone_time_stamps)"
   ]
  },
  {
   "cell_type": "code",
   "execution_count": 109,
   "id": "c1ee416a-3747-4d93-a1f3-498cc01b83ac",
   "metadata": {},
   "outputs": [],
   "source": [
    "# time in seconds\n",
    "trial_one_way_duration = 10"
   ]
  },
  {
   "cell_type": "code",
   "execution_count": 110,
   "id": "79753279-9397-4425-a48f-95141cba1c00",
   "metadata": {},
   "outputs": [],
   "source": [
    "sampling_rate = 20000"
   ]
  },
  {
   "cell_type": "markdown",
   "id": "663831f2-7d91-4dff-97b3-b199b46efa80",
   "metadata": {},
   "source": [
    "# Comparing Firing Rate between Trial types"
   ]
  },
  {
   "cell_type": "code",
   "execution_count": 111,
   "id": "55382872-b8e0-40ad-ba02-defa3c0e6b71",
   "metadata": {},
   "outputs": [
    {
     "data": {
      "text/html": [
       "<div>\n",
       "<style scoped>\n",
       "    .dataframe tbody tr th:only-of-type {\n",
       "        vertical-align: middle;\n",
       "    }\n",
       "\n",
       "    .dataframe tbody tr th {\n",
       "        vertical-align: top;\n",
       "    }\n",
       "\n",
       "    .dataframe thead th {\n",
       "        text-align: right;\n",
       "    }\n",
       "</style>\n",
       "<table border=\"1\" class=\"dataframe\">\n",
       "  <thead>\n",
       "    <tr style=\"text-align: right;\">\n",
       "      <th></th>\n",
       "      <th>Unnamed: 0</th>\n",
       "      <th>tone_timestamp</th>\n",
       "      <th>tone_index</th>\n",
       "      <th>rewarded_or_not</th>\n",
       "      <th>competition_winners</th>\n",
       "      <th>condition</th>\n",
       "      <th>lfp_index</th>\n",
       "      <th>subj_1_1_condition</th>\n",
       "      <th>subj_1_2_condition</th>\n",
       "    </tr>\n",
       "  </thead>\n",
       "  <tbody>\n",
       "    <tr>\n",
       "      <th>0</th>\n",
       "      <td>0</td>\n",
       "      <td>3671086</td>\n",
       "      <td>478042</td>\n",
       "      <td>rewarded</td>\n",
       "      <td>1.1</td>\n",
       "      <td>1.1</td>\n",
       "      <td>23902</td>\n",
       "      <td>win</td>\n",
       "      <td>lose</td>\n",
       "    </tr>\n",
       "    <tr>\n",
       "      <th>1</th>\n",
       "      <td>1</td>\n",
       "      <td>5681112</td>\n",
       "      <td>2488068</td>\n",
       "      <td>rewarded</td>\n",
       "      <td>tie</td>\n",
       "      <td>tie</td>\n",
       "      <td>124403</td>\n",
       "      <td>tie</td>\n",
       "      <td>tie</td>\n",
       "    </tr>\n",
       "    <tr>\n",
       "      <th>2</th>\n",
       "      <td>2</td>\n",
       "      <td>8081141</td>\n",
       "      <td>4888097</td>\n",
       "      <td>rewarded</td>\n",
       "      <td>1.2</td>\n",
       "      <td>1.2</td>\n",
       "      <td>244404</td>\n",
       "      <td>lose</td>\n",
       "      <td>win</td>\n",
       "    </tr>\n",
       "    <tr>\n",
       "      <th>3</th>\n",
       "      <td>3</td>\n",
       "      <td>10381173</td>\n",
       "      <td>7188129</td>\n",
       "      <td>rewarded</td>\n",
       "      <td>1.1</td>\n",
       "      <td>1.1</td>\n",
       "      <td>359406</td>\n",
       "      <td>win</td>\n",
       "      <td>lose</td>\n",
       "    </tr>\n",
       "    <tr>\n",
       "      <th>4</th>\n",
       "      <td>4</td>\n",
       "      <td>12181192</td>\n",
       "      <td>8988148</td>\n",
       "      <td>rewarded</td>\n",
       "      <td>1.2</td>\n",
       "      <td>1.2</td>\n",
       "      <td>449407</td>\n",
       "      <td>lose</td>\n",
       "      <td>win</td>\n",
       "    </tr>\n",
       "  </tbody>\n",
       "</table>\n",
       "</div>"
      ],
      "text/plain": [
       "   Unnamed: 0  tone_timestamp  tone_index rewarded_or_not competition_winners  \\\n",
       "0           0         3671086      478042        rewarded                 1.1   \n",
       "1           1         5681112     2488068        rewarded                 tie   \n",
       "2           2         8081141     4888097        rewarded                 1.2   \n",
       "3           3        10381173     7188129        rewarded                 1.1   \n",
       "4           4        12181192     8988148        rewarded                 1.2   \n",
       "\n",
       "  condition  lfp_index subj_1_1_condition subj_1_2_condition  \n",
       "0       1.1      23902                win               lose  \n",
       "1       tie     124403                tie                tie  \n",
       "2       1.2     244404               lose                win  \n",
       "3       1.1     359406                win               lose  \n",
       "4       1.2     449407               lose                win  "
      ]
     },
     "execution_count": 111,
     "metadata": {},
     "output_type": "execute_result"
    }
   ],
   "source": [
    "tone_time_stamps_df.head()"
   ]
  },
  {
   "cell_type": "code",
   "execution_count": 112,
   "id": "331dfea9-ccbe-4d87-bc64-1039d77504df",
   "metadata": {},
   "outputs": [
    {
     "data": {
      "text/plain": [
       "array([     160,      483,      535, ..., 68361882, 68361973, 68362204])"
      ]
     },
     "execution_count": 112,
     "metadata": {},
     "output_type": "execute_result"
    }
   ],
   "source": [
    "good_unit_times"
   ]
  },
  {
   "cell_type": "code",
   "execution_count": 113,
   "id": "eee5610d-e48e-4812-9784-abfda1cec9e4",
   "metadata": {},
   "outputs": [
    {
     "data": {
      "text/plain": [
       "array([ 4,  4, 42, ..., 18,  4,  4], dtype=int32)"
      ]
     },
     "execution_count": 113,
     "metadata": {},
     "output_type": "execute_result"
    }
   ],
   "source": [
    "good_unit_all_ids"
   ]
  },
  {
   "cell_type": "code",
   "execution_count": 114,
   "id": "0698c282-d493-41d5-b425-d4c03d38f58a",
   "metadata": {},
   "outputs": [
    {
     "data": {
      "text/plain": [
       "array([ 0,  0,  0, ..., 40, 40, 40])"
      ]
     },
     "execution_count": 114,
     "metadata": {},
     "output_type": "execute_result"
    }
   ],
   "source": [
    "good_unit_bins"
   ]
  },
  {
   "cell_type": "code",
   "execution_count": 115,
   "id": "cff84c9e-d719-494c-a636-9138bb043e93",
   "metadata": {},
   "outputs": [
    {
     "data": {
      "text/plain": [
       "array([  478042,  2488068,  4888097,  7188129,  8988148, 10088165,\n",
       "       11088174, 12988197, 14488216, 16588241, 17588256, 19188275,\n",
       "       20488289, 21788307, 22788319, 24188334, 26088357, 27688381,\n",
       "       29088396, 31288420, 32488435, 38488510, 39688527, 40788535,\n",
       "       42088553, 43188564, 44188576, 45188591, 47288614, 49688646,\n",
       "       52088672, 54288699, 55988720, 58388754, 59588763, 60888780,\n",
       "       62088794, 63588812, 65588836, 67488865, 68488874])"
      ]
     },
     "execution_count": 115,
     "metadata": {},
     "output_type": "execute_result"
    }
   ],
   "source": [
    "tone_time_stamps"
   ]
  },
  {
   "cell_type": "code",
   "execution_count": 116,
   "id": "ed3c6472-24f9-4739-9f93-c3ab8064cd21",
   "metadata": {},
   "outputs": [
    {
     "data": {
      "text/plain": [
       "'\\nStep 1: \\n- Get all the unit times that are 10 seconds before tone \\nand 10 seconds after the tone(separately)\\n\\nStep 2:\\n- Separate out for each trial\\n\\nStep 3: Calculate firing rate\\n'"
      ]
     },
     "execution_count": 116,
     "metadata": {},
     "output_type": "execute_result"
    }
   ],
   "source": [
    "\"\"\"\n",
    "Step 1: \n",
    "- Get all the unit times that are 10 seconds before tone \n",
    "and 10 seconds after the tone(separately)\n",
    "\n",
    "Step 2:\n",
    "- Separate out for each trial\n",
    "\n",
    "Step 3: Calculate firing rate\n",
    "\"\"\""
   ]
  },
  {
   "cell_type": "code",
   "execution_count": 117,
   "id": "d4d24cc1-fb1b-4797-9a17-ab91fc828a10",
   "metadata": {},
   "outputs": [],
   "source": [
    "# iterating through the timestamp of each good unit spike\n",
    "\n",
    "before_and_after_interval_unit_times = defaultdict(dict)\n",
    "\n",
    "per_trial_number_of_samples = trial_one_way_duration * sampling_rate\n",
    "\n",
    "for index, time in enumerate(good_unit_times):\n",
    "    # getting the corresponding tone bin for the timestamp\n",
    "    current_bin = good_unit_bins[index]\n",
    "    current_neuron = good_unit_all_ids[index]   \n",
    "    \n",
    "    # checking number before\n",
    "    first_tone_time = tone_time_stamps[(current_bin - 1) % len(tone_time_stamps)]\n",
    "    # checking number after\n",
    "    second_tone_time = tone_time_stamps[(current_bin) % len(tone_time_stamps)]    \n",
    "    \n",
    "    # checking if time is before first number\n",
    "    if first_tone_time - per_trial_number_of_samples <= time <= first_tone_time:\n",
    "        before_and_after_interval_unit_times[time][\"tone_time\"] = first_tone_time\n",
    "        before_and_after_interval_unit_times[time][\"before_or_after\"] = \"before\"\n",
    "        before_and_after_interval_unit_times[time][\"neuron_id\"] = good_unit_all_ids[index]\n",
    "    # checking if time is after first number\n",
    "    elif first_tone_time < time <= first_tone_time + per_trial_number_of_samples:\n",
    "        before_and_after_interval_unit_times[time][\"tone_time\"] = first_tone_time\n",
    "        before_and_after_interval_unit_times[time][\"before_or_after\"] = \"after\"\n",
    "        before_and_after_interval_unit_times[time][\"neuron_id\"] = good_unit_all_ids[index]\n",
    "    # checking if time is before second number\n",
    "    if second_tone_time - per_trial_number_of_samples <= time <= second_tone_time:\n",
    "        before_and_after_interval_unit_times[time][\"tone_time\"] = second_tone_time\n",
    "        before_and_after_interval_unit_times[time][\"before_or_after\"] = \"before\"\n",
    "        before_and_after_interval_unit_times[time][\"neuron_id\"] = good_unit_all_ids[index]\n",
    "    # checking if time is after second number\n",
    "    elif second_tone_time < time <= second_tone_time + per_trial_number_of_samples:\n",
    "        before_and_after_interval_unit_times[time][\"tone_time\"] = second_tone_time\n",
    "        before_and_after_interval_unit_times[time][\"before_or_after\"] = \"after\"\n",
    "        before_and_after_interval_unit_times[time][\"neuron_id\"] = good_unit_all_ids[index]"
   ]
  },
  {
   "cell_type": "code",
   "execution_count": 118,
   "id": "5ecfcd1e-c44b-4147-bf48-a1ad1df0a356",
   "metadata": {},
   "outputs": [
    {
     "data": {
      "text/plain": [
       "200000"
      ]
     },
     "execution_count": 118,
     "metadata": {},
     "output_type": "execute_result"
    }
   ],
   "source": [
    "per_trial_number_of_samples"
   ]
  },
  {
   "cell_type": "code",
   "execution_count": 119,
   "id": "e9ee678f-454d-4d90-a1c8-372c607d1754",
   "metadata": {},
   "outputs": [],
   "source": [
    "before_and_after_interval_unit_df = pd.DataFrame.from_dict(before_and_after_interval_unit_times, orient=\"index\").reset_index()\n",
    "before_and_after_interval_unit_df = before_and_after_interval_unit_df.rename(columns={\"index\": \"spike_time\"})"
   ]
  },
  {
   "cell_type": "code",
   "execution_count": 120,
   "id": "5eb80772-033d-4c14-bc8a-88878a779c38",
   "metadata": {},
   "outputs": [
    {
     "data": {
      "text/html": [
       "<div>\n",
       "<style scoped>\n",
       "    .dataframe tbody tr th:only-of-type {\n",
       "        vertical-align: middle;\n",
       "    }\n",
       "\n",
       "    .dataframe tbody tr th {\n",
       "        vertical-align: top;\n",
       "    }\n",
       "\n",
       "    .dataframe thead th {\n",
       "        text-align: right;\n",
       "    }\n",
       "</style>\n",
       "<table border=\"1\" class=\"dataframe\">\n",
       "  <thead>\n",
       "    <tr style=\"text-align: right;\">\n",
       "      <th></th>\n",
       "      <th>spike_time</th>\n",
       "      <th>tone_time</th>\n",
       "      <th>before_or_after</th>\n",
       "      <th>neuron_id</th>\n",
       "    </tr>\n",
       "  </thead>\n",
       "  <tbody>\n",
       "    <tr>\n",
       "      <th>0</th>\n",
       "      <td>278075</td>\n",
       "      <td>478042</td>\n",
       "      <td>before</td>\n",
       "      <td>4</td>\n",
       "    </tr>\n",
       "    <tr>\n",
       "      <th>1</th>\n",
       "      <td>278091</td>\n",
       "      <td>478042</td>\n",
       "      <td>before</td>\n",
       "      <td>42</td>\n",
       "    </tr>\n",
       "    <tr>\n",
       "      <th>2</th>\n",
       "      <td>278559</td>\n",
       "      <td>478042</td>\n",
       "      <td>before</td>\n",
       "      <td>4</td>\n",
       "    </tr>\n",
       "    <tr>\n",
       "      <th>3</th>\n",
       "      <td>278674</td>\n",
       "      <td>478042</td>\n",
       "      <td>before</td>\n",
       "      <td>42</td>\n",
       "    </tr>\n",
       "    <tr>\n",
       "      <th>4</th>\n",
       "      <td>278859</td>\n",
       "      <td>478042</td>\n",
       "      <td>before</td>\n",
       "      <td>4</td>\n",
       "    </tr>\n",
       "  </tbody>\n",
       "</table>\n",
       "</div>"
      ],
      "text/plain": [
       "   spike_time  tone_time before_or_after  neuron_id\n",
       "0      278075     478042          before          4\n",
       "1      278091     478042          before         42\n",
       "2      278559     478042          before          4\n",
       "3      278674     478042          before         42\n",
       "4      278859     478042          before          4"
      ]
     },
     "execution_count": 120,
     "metadata": {},
     "output_type": "execute_result"
    }
   ],
   "source": [
    "before_and_after_interval_unit_df.head()"
   ]
  },
  {
   "cell_type": "code",
   "execution_count": 121,
   "id": "34ecc6a8-5cd9-43cd-99fa-a93945fe1685",
   "metadata": {},
   "outputs": [],
   "source": [
    "before_and_after_tone_spike_count_df = before_and_after_interval_unit_df.groupby([\"tone_time\", \"before_or_after\", \"neuron_id\"]).count().unstack(fill_value=0).stack().reset_index().rename(columns={\"spike_time\": \"fired_spike_count\"})"
   ]
  },
  {
   "cell_type": "code",
   "execution_count": 122,
   "id": "b5212770-b8ec-4ba6-baa4-a07608f4400e",
   "metadata": {},
   "outputs": [],
   "source": [
    "before_tone_spike_count_df = before_and_after_tone_spike_count_df[before_and_after_tone_spike_count_df[\"before_or_after\"] == \"before\"].rename(columns={\"fired_spike_count\": \"before_fired_spike_count\"})\n",
    "after_tone_spike_count_df = before_and_after_tone_spike_count_df[before_and_after_tone_spike_count_df[\"before_or_after\"] == \"after\"].rename(columns={\"fired_spike_count\": \"after_fired_spike_count\"})"
   ]
  },
  {
   "cell_type": "code",
   "execution_count": 123,
   "id": "2b2291d7-b57c-4019-88e4-895b7e9a6b6b",
   "metadata": {},
   "outputs": [
    {
     "data": {
      "text/html": [
       "<div>\n",
       "<style scoped>\n",
       "    .dataframe tbody tr th:only-of-type {\n",
       "        vertical-align: middle;\n",
       "    }\n",
       "\n",
       "    .dataframe tbody tr th {\n",
       "        vertical-align: top;\n",
       "    }\n",
       "\n",
       "    .dataframe thead th {\n",
       "        text-align: right;\n",
       "    }\n",
       "</style>\n",
       "<table border=\"1\" class=\"dataframe\">\n",
       "  <thead>\n",
       "    <tr style=\"text-align: right;\">\n",
       "      <th></th>\n",
       "      <th>tone_time</th>\n",
       "      <th>before_or_after</th>\n",
       "      <th>neuron_id</th>\n",
       "      <th>before_fired_spike_count</th>\n",
       "    </tr>\n",
       "  </thead>\n",
       "  <tbody>\n",
       "    <tr>\n",
       "      <th>15</th>\n",
       "      <td>478042</td>\n",
       "      <td>before</td>\n",
       "      <td>0</td>\n",
       "      <td>1</td>\n",
       "    </tr>\n",
       "    <tr>\n",
       "      <th>16</th>\n",
       "      <td>478042</td>\n",
       "      <td>before</td>\n",
       "      <td>2</td>\n",
       "      <td>6</td>\n",
       "    </tr>\n",
       "    <tr>\n",
       "      <th>17</th>\n",
       "      <td>478042</td>\n",
       "      <td>before</td>\n",
       "      <td>4</td>\n",
       "      <td>305</td>\n",
       "    </tr>\n",
       "    <tr>\n",
       "      <th>18</th>\n",
       "      <td>478042</td>\n",
       "      <td>before</td>\n",
       "      <td>5</td>\n",
       "      <td>34</td>\n",
       "    </tr>\n",
       "    <tr>\n",
       "      <th>19</th>\n",
       "      <td>478042</td>\n",
       "      <td>before</td>\n",
       "      <td>8</td>\n",
       "      <td>46</td>\n",
       "    </tr>\n",
       "  </tbody>\n",
       "</table>\n",
       "</div>"
      ],
      "text/plain": [
       "    tone_time before_or_after  neuron_id  before_fired_spike_count\n",
       "15     478042          before          0                         1\n",
       "16     478042          before          2                         6\n",
       "17     478042          before          4                       305\n",
       "18     478042          before          5                        34\n",
       "19     478042          before          8                        46"
      ]
     },
     "execution_count": 123,
     "metadata": {},
     "output_type": "execute_result"
    }
   ],
   "source": [
    "before_tone_spike_count_df.head()"
   ]
  },
  {
   "cell_type": "code",
   "execution_count": 124,
   "id": "1c95a186-219d-40c4-89cb-ccceb45cc026",
   "metadata": {},
   "outputs": [
    {
     "data": {
      "text/html": [
       "<div>\n",
       "<style scoped>\n",
       "    .dataframe tbody tr th:only-of-type {\n",
       "        vertical-align: middle;\n",
       "    }\n",
       "\n",
       "    .dataframe tbody tr th {\n",
       "        vertical-align: top;\n",
       "    }\n",
       "\n",
       "    .dataframe thead th {\n",
       "        text-align: right;\n",
       "    }\n",
       "</style>\n",
       "<table border=\"1\" class=\"dataframe\">\n",
       "  <thead>\n",
       "    <tr style=\"text-align: right;\">\n",
       "      <th></th>\n",
       "      <th>tone_time</th>\n",
       "      <th>before_or_after</th>\n",
       "      <th>neuron_id</th>\n",
       "      <th>after_fired_spike_count</th>\n",
       "    </tr>\n",
       "  </thead>\n",
       "  <tbody>\n",
       "    <tr>\n",
       "      <th>0</th>\n",
       "      <td>478042</td>\n",
       "      <td>after</td>\n",
       "      <td>0</td>\n",
       "      <td>30</td>\n",
       "    </tr>\n",
       "    <tr>\n",
       "      <th>1</th>\n",
       "      <td>478042</td>\n",
       "      <td>after</td>\n",
       "      <td>2</td>\n",
       "      <td>6</td>\n",
       "    </tr>\n",
       "    <tr>\n",
       "      <th>2</th>\n",
       "      <td>478042</td>\n",
       "      <td>after</td>\n",
       "      <td>4</td>\n",
       "      <td>369</td>\n",
       "    </tr>\n",
       "    <tr>\n",
       "      <th>3</th>\n",
       "      <td>478042</td>\n",
       "      <td>after</td>\n",
       "      <td>5</td>\n",
       "      <td>25</td>\n",
       "    </tr>\n",
       "    <tr>\n",
       "      <th>4</th>\n",
       "      <td>478042</td>\n",
       "      <td>after</td>\n",
       "      <td>8</td>\n",
       "      <td>103</td>\n",
       "    </tr>\n",
       "  </tbody>\n",
       "</table>\n",
       "</div>"
      ],
      "text/plain": [
       "   tone_time before_or_after  neuron_id  after_fired_spike_count\n",
       "0     478042           after          0                       30\n",
       "1     478042           after          2                        6\n",
       "2     478042           after          4                      369\n",
       "3     478042           after          5                       25\n",
       "4     478042           after          8                      103"
      ]
     },
     "execution_count": 124,
     "metadata": {},
     "output_type": "execute_result"
    }
   ],
   "source": [
    "after_tone_spike_count_df.head()"
   ]
  },
  {
   "cell_type": "code",
   "execution_count": 125,
   "id": "a3efbe85-177a-4cf5-81c8-5d95ad938455",
   "metadata": {},
   "outputs": [],
   "source": [
    "subj_2_merged_before_after_tone_spike_count_df = pd.merge(left=before_tone_spike_count_df, right=after_tone_spike_count_df, left_on=[\"tone_time\", \"neuron_id\"], right_on=[\"tone_time\", \"neuron_id\"])"
   ]
  },
  {
   "cell_type": "markdown",
   "id": "5fa24e9d-ae97-4bd6-8381-685149c19cdc",
   "metadata": {},
   "source": [
    "- Adding the trial type"
   ]
  },
  {
   "cell_type": "code",
   "execution_count": 126,
   "id": "b8336357-0299-4f2c-b5b8-52bbc44baecc",
   "metadata": {},
   "outputs": [],
   "source": [
    "tone_timestamp_to_trial_type = pd.Series(tone_time_stamps_df[\"subj_1_2_condition\"].values, index=tone_time_stamps_df[\"tone_index\"]).to_dict()"
   ]
  },
  {
   "cell_type": "code",
   "execution_count": 127,
   "id": "dc6d8494-290d-454d-89c7-d7e36f46c66f",
   "metadata": {
    "scrolled": true
   },
   "outputs": [
    {
     "data": {
      "text/plain": [
       "{478042: 'lose',\n",
       " 2488068: 'tie',\n",
       " 4888097: 'win',\n",
       " 7188129: 'lose',\n",
       " 8988148: 'win',\n",
       " 10088165: 'lose',\n",
       " 11088174: 'lose',\n",
       " 12988197: 'win',\n",
       " 14488216: 'lose',\n",
       " 16588241: 'lose',\n",
       " 17588256: 'win',\n",
       " 19188275: 'lose',\n",
       " 20488289: 'lose',\n",
       " 21788307: 'lose',\n",
       " 22788319: 'win',\n",
       " 24188334: 'lose',\n",
       " 26088357: 'lose',\n",
       " 27688381: 'lose',\n",
       " 29088396: 'win',\n",
       " 31288420: 'lose',\n",
       " 32488435: 'rewarded',\n",
       " 38488510: 'rewarded',\n",
       " 39688527: 'omission',\n",
       " 40788535: 'rewarded',\n",
       " 42088553: 'rewarded',\n",
       " 43188564: 'rewarded',\n",
       " 44188576: 'rewarded',\n",
       " 45188591: 'rewarded',\n",
       " 47288614: 'omission',\n",
       " 49688646: 'rewarded',\n",
       " 52088672: 'rewarded',\n",
       " 54288699: 'rewarded',\n",
       " 55988720: 'rewarded',\n",
       " 58388754: 'omission',\n",
       " 59588763: 'rewarded',\n",
       " 60888780: 'rewarded',\n",
       " 62088794: 'rewarded',\n",
       " 63588812: 'omission',\n",
       " 65588836: 'rewarded',\n",
       " 67488865: 'rewarded',\n",
       " 68488874: 'rewarded'}"
      ]
     },
     "execution_count": 127,
     "metadata": {},
     "output_type": "execute_result"
    }
   ],
   "source": [
    "tone_timestamp_to_trial_type"
   ]
  },
  {
   "cell_type": "code",
   "execution_count": 128,
   "id": "08591db6-ebb9-45b8-9f4a-c98d93049aaf",
   "metadata": {},
   "outputs": [],
   "source": [
    "subj_2_merged_before_after_tone_spike_count_df[\"trial_type\"] = subj_2_merged_before_after_tone_spike_count_df[\"tone_time\"].map(tone_timestamp_to_trial_type)"
   ]
  },
  {
   "cell_type": "code",
   "execution_count": 129,
   "id": "8ab60cf6-76a4-4d20-b657-29b26d989077",
   "metadata": {},
   "outputs": [],
   "source": [
    "subj_2_merged_before_after_tone_spike_count_df[\"subject\"] = \"subj_1_2\"\n",
    "subj_2_merged_before_after_tone_spike_count_df[\"subject_neuron_id\"] = subj_2_merged_before_after_tone_spike_count_df[\"neuron_id\"].astype(str) + subj_2_merged_before_after_tone_spike_count_df[\"subject\"]"
   ]
  },
  {
   "cell_type": "code",
   "execution_count": 130,
   "id": "10f8fd77-e020-4656-825c-bd669174dd2f",
   "metadata": {},
   "outputs": [
    {
     "data": {
      "text/html": [
       "<div>\n",
       "<style scoped>\n",
       "    .dataframe tbody tr th:only-of-type {\n",
       "        vertical-align: middle;\n",
       "    }\n",
       "\n",
       "    .dataframe tbody tr th {\n",
       "        vertical-align: top;\n",
       "    }\n",
       "\n",
       "    .dataframe thead th {\n",
       "        text-align: right;\n",
       "    }\n",
       "</style>\n",
       "<table border=\"1\" class=\"dataframe\">\n",
       "  <thead>\n",
       "    <tr style=\"text-align: right;\">\n",
       "      <th></th>\n",
       "      <th>tone_time</th>\n",
       "      <th>before_or_after_x</th>\n",
       "      <th>neuron_id</th>\n",
       "      <th>before_fired_spike_count</th>\n",
       "      <th>before_or_after_y</th>\n",
       "      <th>after_fired_spike_count</th>\n",
       "      <th>trial_type</th>\n",
       "      <th>subject</th>\n",
       "      <th>subject_neuron_id</th>\n",
       "    </tr>\n",
       "  </thead>\n",
       "  <tbody>\n",
       "    <tr>\n",
       "      <th>0</th>\n",
       "      <td>478042</td>\n",
       "      <td>before</td>\n",
       "      <td>0</td>\n",
       "      <td>1</td>\n",
       "      <td>after</td>\n",
       "      <td>30</td>\n",
       "      <td>lose</td>\n",
       "      <td>subj_1_2</td>\n",
       "      <td>0subj_1_2</td>\n",
       "    </tr>\n",
       "    <tr>\n",
       "      <th>1</th>\n",
       "      <td>478042</td>\n",
       "      <td>before</td>\n",
       "      <td>2</td>\n",
       "      <td>6</td>\n",
       "      <td>after</td>\n",
       "      <td>6</td>\n",
       "      <td>lose</td>\n",
       "      <td>subj_1_2</td>\n",
       "      <td>2subj_1_2</td>\n",
       "    </tr>\n",
       "    <tr>\n",
       "      <th>2</th>\n",
       "      <td>478042</td>\n",
       "      <td>before</td>\n",
       "      <td>4</td>\n",
       "      <td>305</td>\n",
       "      <td>after</td>\n",
       "      <td>369</td>\n",
       "      <td>lose</td>\n",
       "      <td>subj_1_2</td>\n",
       "      <td>4subj_1_2</td>\n",
       "    </tr>\n",
       "    <tr>\n",
       "      <th>3</th>\n",
       "      <td>478042</td>\n",
       "      <td>before</td>\n",
       "      <td>5</td>\n",
       "      <td>34</td>\n",
       "      <td>after</td>\n",
       "      <td>25</td>\n",
       "      <td>lose</td>\n",
       "      <td>subj_1_2</td>\n",
       "      <td>5subj_1_2</td>\n",
       "    </tr>\n",
       "    <tr>\n",
       "      <th>4</th>\n",
       "      <td>478042</td>\n",
       "      <td>before</td>\n",
       "      <td>8</td>\n",
       "      <td>46</td>\n",
       "      <td>after</td>\n",
       "      <td>103</td>\n",
       "      <td>lose</td>\n",
       "      <td>subj_1_2</td>\n",
       "      <td>8subj_1_2</td>\n",
       "    </tr>\n",
       "    <tr>\n",
       "      <th>...</th>\n",
       "      <td>...</td>\n",
       "      <td>...</td>\n",
       "      <td>...</td>\n",
       "      <td>...</td>\n",
       "      <td>...</td>\n",
       "      <td>...</td>\n",
       "      <td>...</td>\n",
       "      <td>...</td>\n",
       "      <td>...</td>\n",
       "    </tr>\n",
       "    <tr>\n",
       "      <th>595</th>\n",
       "      <td>67488865</td>\n",
       "      <td>before</td>\n",
       "      <td>32</td>\n",
       "      <td>6</td>\n",
       "      <td>after</td>\n",
       "      <td>8</td>\n",
       "      <td>rewarded</td>\n",
       "      <td>subj_1_2</td>\n",
       "      <td>32subj_1_2</td>\n",
       "    </tr>\n",
       "    <tr>\n",
       "      <th>596</th>\n",
       "      <td>67488865</td>\n",
       "      <td>before</td>\n",
       "      <td>34</td>\n",
       "      <td>48</td>\n",
       "      <td>after</td>\n",
       "      <td>72</td>\n",
       "      <td>rewarded</td>\n",
       "      <td>subj_1_2</td>\n",
       "      <td>34subj_1_2</td>\n",
       "    </tr>\n",
       "    <tr>\n",
       "      <th>597</th>\n",
       "      <td>67488865</td>\n",
       "      <td>before</td>\n",
       "      <td>41</td>\n",
       "      <td>11</td>\n",
       "      <td>after</td>\n",
       "      <td>4</td>\n",
       "      <td>rewarded</td>\n",
       "      <td>subj_1_2</td>\n",
       "      <td>41subj_1_2</td>\n",
       "    </tr>\n",
       "    <tr>\n",
       "      <th>598</th>\n",
       "      <td>67488865</td>\n",
       "      <td>before</td>\n",
       "      <td>42</td>\n",
       "      <td>138</td>\n",
       "      <td>after</td>\n",
       "      <td>74</td>\n",
       "      <td>rewarded</td>\n",
       "      <td>subj_1_2</td>\n",
       "      <td>42subj_1_2</td>\n",
       "    </tr>\n",
       "    <tr>\n",
       "      <th>599</th>\n",
       "      <td>67488865</td>\n",
       "      <td>before</td>\n",
       "      <td>48</td>\n",
       "      <td>2</td>\n",
       "      <td>after</td>\n",
       "      <td>0</td>\n",
       "      <td>rewarded</td>\n",
       "      <td>subj_1_2</td>\n",
       "      <td>48subj_1_2</td>\n",
       "    </tr>\n",
       "  </tbody>\n",
       "</table>\n",
       "<p>600 rows × 9 columns</p>\n",
       "</div>"
      ],
      "text/plain": [
       "     tone_time before_or_after_x  neuron_id  before_fired_spike_count  \\\n",
       "0       478042            before          0                         1   \n",
       "1       478042            before          2                         6   \n",
       "2       478042            before          4                       305   \n",
       "3       478042            before          5                        34   \n",
       "4       478042            before          8                        46   \n",
       "..         ...               ...        ...                       ...   \n",
       "595   67488865            before         32                         6   \n",
       "596   67488865            before         34                        48   \n",
       "597   67488865            before         41                        11   \n",
       "598   67488865            before         42                       138   \n",
       "599   67488865            before         48                         2   \n",
       "\n",
       "    before_or_after_y  after_fired_spike_count trial_type   subject  \\\n",
       "0               after                       30       lose  subj_1_2   \n",
       "1               after                        6       lose  subj_1_2   \n",
       "2               after                      369       lose  subj_1_2   \n",
       "3               after                       25       lose  subj_1_2   \n",
       "4               after                      103       lose  subj_1_2   \n",
       "..                ...                      ...        ...       ...   \n",
       "595             after                        8   rewarded  subj_1_2   \n",
       "596             after                       72   rewarded  subj_1_2   \n",
       "597             after                        4   rewarded  subj_1_2   \n",
       "598             after                       74   rewarded  subj_1_2   \n",
       "599             after                        0   rewarded  subj_1_2   \n",
       "\n",
       "    subject_neuron_id  \n",
       "0           0subj_1_2  \n",
       "1           2subj_1_2  \n",
       "2           4subj_1_2  \n",
       "3           5subj_1_2  \n",
       "4           8subj_1_2  \n",
       "..                ...  \n",
       "595        32subj_1_2  \n",
       "596        34subj_1_2  \n",
       "597        41subj_1_2  \n",
       "598        42subj_1_2  \n",
       "599        48subj_1_2  \n",
       "\n",
       "[600 rows x 9 columns]"
      ]
     },
     "execution_count": 130,
     "metadata": {},
     "output_type": "execute_result"
    }
   ],
   "source": [
    "subj_2_merged_before_after_tone_spike_count_df"
   ]
  },
  {
   "cell_type": "code",
   "execution_count": 131,
   "id": "84a572cc-de29-41f3-ac0d-16af86a56188",
   "metadata": {},
   "outputs": [
    {
     "data": {
      "text/html": [
       "<div>\n",
       "<style scoped>\n",
       "    .dataframe tbody tr th:only-of-type {\n",
       "        vertical-align: middle;\n",
       "    }\n",
       "\n",
       "    .dataframe tbody tr th {\n",
       "        vertical-align: top;\n",
       "    }\n",
       "\n",
       "    .dataframe thead th {\n",
       "        text-align: right;\n",
       "    }\n",
       "</style>\n",
       "<table border=\"1\" class=\"dataframe\">\n",
       "  <thead>\n",
       "    <tr style=\"text-align: right;\">\n",
       "      <th></th>\n",
       "      <th>tone_time</th>\n",
       "      <th>before_or_after_x</th>\n",
       "      <th>neuron_id</th>\n",
       "      <th>before_fired_spike_count</th>\n",
       "      <th>before_or_after_y</th>\n",
       "      <th>after_fired_spike_count</th>\n",
       "      <th>trial_type</th>\n",
       "      <th>subject</th>\n",
       "      <th>subject_neuron_id</th>\n",
       "    </tr>\n",
       "  </thead>\n",
       "  <tbody>\n",
       "    <tr>\n",
       "      <th>0</th>\n",
       "      <td>478042</td>\n",
       "      <td>before</td>\n",
       "      <td>0</td>\n",
       "      <td>1</td>\n",
       "      <td>after</td>\n",
       "      <td>30</td>\n",
       "      <td>win</td>\n",
       "      <td>subj_1_1</td>\n",
       "      <td>0subj_1_1</td>\n",
       "    </tr>\n",
       "    <tr>\n",
       "      <th>1</th>\n",
       "      <td>478042</td>\n",
       "      <td>before</td>\n",
       "      <td>2</td>\n",
       "      <td>6</td>\n",
       "      <td>after</td>\n",
       "      <td>6</td>\n",
       "      <td>win</td>\n",
       "      <td>subj_1_1</td>\n",
       "      <td>2subj_1_1</td>\n",
       "    </tr>\n",
       "    <tr>\n",
       "      <th>2</th>\n",
       "      <td>478042</td>\n",
       "      <td>before</td>\n",
       "      <td>4</td>\n",
       "      <td>305</td>\n",
       "      <td>after</td>\n",
       "      <td>369</td>\n",
       "      <td>win</td>\n",
       "      <td>subj_1_1</td>\n",
       "      <td>4subj_1_1</td>\n",
       "    </tr>\n",
       "    <tr>\n",
       "      <th>3</th>\n",
       "      <td>478042</td>\n",
       "      <td>before</td>\n",
       "      <td>5</td>\n",
       "      <td>34</td>\n",
       "      <td>after</td>\n",
       "      <td>25</td>\n",
       "      <td>win</td>\n",
       "      <td>subj_1_1</td>\n",
       "      <td>5subj_1_1</td>\n",
       "    </tr>\n",
       "    <tr>\n",
       "      <th>4</th>\n",
       "      <td>478042</td>\n",
       "      <td>before</td>\n",
       "      <td>8</td>\n",
       "      <td>46</td>\n",
       "      <td>after</td>\n",
       "      <td>103</td>\n",
       "      <td>win</td>\n",
       "      <td>subj_1_1</td>\n",
       "      <td>8subj_1_1</td>\n",
       "    </tr>\n",
       "    <tr>\n",
       "      <th>...</th>\n",
       "      <td>...</td>\n",
       "      <td>...</td>\n",
       "      <td>...</td>\n",
       "      <td>...</td>\n",
       "      <td>...</td>\n",
       "      <td>...</td>\n",
       "      <td>...</td>\n",
       "      <td>...</td>\n",
       "      <td>...</td>\n",
       "    </tr>\n",
       "    <tr>\n",
       "      <th>595</th>\n",
       "      <td>67488865</td>\n",
       "      <td>before</td>\n",
       "      <td>32</td>\n",
       "      <td>6</td>\n",
       "      <td>after</td>\n",
       "      <td>8</td>\n",
       "      <td>rewarded</td>\n",
       "      <td>subj_1_1</td>\n",
       "      <td>32subj_1_1</td>\n",
       "    </tr>\n",
       "    <tr>\n",
       "      <th>596</th>\n",
       "      <td>67488865</td>\n",
       "      <td>before</td>\n",
       "      <td>34</td>\n",
       "      <td>48</td>\n",
       "      <td>after</td>\n",
       "      <td>72</td>\n",
       "      <td>rewarded</td>\n",
       "      <td>subj_1_1</td>\n",
       "      <td>34subj_1_1</td>\n",
       "    </tr>\n",
       "    <tr>\n",
       "      <th>597</th>\n",
       "      <td>67488865</td>\n",
       "      <td>before</td>\n",
       "      <td>41</td>\n",
       "      <td>11</td>\n",
       "      <td>after</td>\n",
       "      <td>4</td>\n",
       "      <td>rewarded</td>\n",
       "      <td>subj_1_1</td>\n",
       "      <td>41subj_1_1</td>\n",
       "    </tr>\n",
       "    <tr>\n",
       "      <th>598</th>\n",
       "      <td>67488865</td>\n",
       "      <td>before</td>\n",
       "      <td>42</td>\n",
       "      <td>138</td>\n",
       "      <td>after</td>\n",
       "      <td>74</td>\n",
       "      <td>rewarded</td>\n",
       "      <td>subj_1_1</td>\n",
       "      <td>42subj_1_1</td>\n",
       "    </tr>\n",
       "    <tr>\n",
       "      <th>599</th>\n",
       "      <td>67488865</td>\n",
       "      <td>before</td>\n",
       "      <td>48</td>\n",
       "      <td>2</td>\n",
       "      <td>after</td>\n",
       "      <td>0</td>\n",
       "      <td>rewarded</td>\n",
       "      <td>subj_1_1</td>\n",
       "      <td>48subj_1_1</td>\n",
       "    </tr>\n",
       "  </tbody>\n",
       "</table>\n",
       "<p>600 rows × 9 columns</p>\n",
       "</div>"
      ],
      "text/plain": [
       "     tone_time before_or_after_x  neuron_id  before_fired_spike_count  \\\n",
       "0       478042            before          0                         1   \n",
       "1       478042            before          2                         6   \n",
       "2       478042            before          4                       305   \n",
       "3       478042            before          5                        34   \n",
       "4       478042            before          8                        46   \n",
       "..         ...               ...        ...                       ...   \n",
       "595   67488865            before         32                         6   \n",
       "596   67488865            before         34                        48   \n",
       "597   67488865            before         41                        11   \n",
       "598   67488865            before         42                       138   \n",
       "599   67488865            before         48                         2   \n",
       "\n",
       "    before_or_after_y  after_fired_spike_count trial_type   subject  \\\n",
       "0               after                       30        win  subj_1_1   \n",
       "1               after                        6        win  subj_1_1   \n",
       "2               after                      369        win  subj_1_1   \n",
       "3               after                       25        win  subj_1_1   \n",
       "4               after                      103        win  subj_1_1   \n",
       "..                ...                      ...        ...       ...   \n",
       "595             after                        8   rewarded  subj_1_1   \n",
       "596             after                       72   rewarded  subj_1_1   \n",
       "597             after                        4   rewarded  subj_1_1   \n",
       "598             after                       74   rewarded  subj_1_1   \n",
       "599             after                        0   rewarded  subj_1_1   \n",
       "\n",
       "    subject_neuron_id  \n",
       "0           0subj_1_1  \n",
       "1           2subj_1_1  \n",
       "2           4subj_1_1  \n",
       "3           5subj_1_1  \n",
       "4           8subj_1_1  \n",
       "..                ...  \n",
       "595        32subj_1_1  \n",
       "596        34subj_1_1  \n",
       "597        41subj_1_1  \n",
       "598        42subj_1_1  \n",
       "599        48subj_1_1  \n",
       "\n",
       "[600 rows x 9 columns]"
      ]
     },
     "execution_count": 131,
     "metadata": {},
     "output_type": "execute_result"
    }
   ],
   "source": [
    "subj_1_merged_before_after_tone_spike_count_df"
   ]
  },
  {
   "cell_type": "markdown",
   "id": "f4f0ac7c",
   "metadata": {},
   "source": [
    "- Calculating Wilcoxon"
   ]
  },
  {
   "cell_type": "code",
   "execution_count": 132,
   "id": "5c344fb8-065b-4b5b-95cf-41f8f7f23cbc",
   "metadata": {},
   "outputs": [],
   "source": [
    "merged_before_after_tone_spike_count_df = pd.concat([subj_1_merged_before_after_tone_spike_count_df, subj_2_merged_before_after_tone_spike_count_df])"
   ]
  },
  {
   "cell_type": "code",
   "execution_count": 133,
   "id": "cd6202b4",
   "metadata": {},
   "outputs": [],
   "source": [
    "import scipy.stats as stats"
   ]
  },
  {
   "cell_type": "code",
   "execution_count": 134,
   "id": "e02544ba",
   "metadata": {},
   "outputs": [],
   "source": [
    "import itertools"
   ]
  },
  {
   "cell_type": "code",
   "execution_count": null,
   "id": "d0efda56",
   "metadata": {},
   "outputs": [],
   "source": []
  },
  {
   "cell_type": "code",
   "execution_count": 135,
   "id": "773b55a5",
   "metadata": {},
   "outputs": [
    {
     "data": {
      "text/plain": [
       "array(['win', 'tie', 'lose', 'rewarded', 'omission'], dtype=object)"
      ]
     },
     "execution_count": 135,
     "metadata": {},
     "output_type": "execute_result"
    }
   ],
   "source": [
    "merged_before_after_tone_spike_count_df[\"neuron_id\"].unique()\n",
    "\n",
    "merged_before_after_tone_spike_count_df[\"trial_type\"].unique()\n"
   ]
  },
  {
   "cell_type": "code",
   "execution_count": 136,
   "id": "e338e384-ae03-4c84-8aa4-13fcb7c5b0ee",
   "metadata": {},
   "outputs": [
    {
     "data": {
      "text/plain": [
       "array(['win', 'tie', 'lose', 'rewarded', 'omission'], dtype=object)"
      ]
     },
     "execution_count": 136,
     "metadata": {},
     "output_type": "execute_result"
    }
   ],
   "source": [
    "merged_before_after_tone_spike_count_df[\"trial_type\"].unique()"
   ]
  },
  {
   "cell_type": "code",
   "execution_count": 137,
   "id": "19f67531",
   "metadata": {},
   "outputs": [
    {
     "name": "stderr",
     "output_type": "stream",
     "text": [
      "/home/riwata/miniconda3/envs/spike_interface_0_97_1/lib/python3.9/site-packages/scipy/stats/_morestats.py:3414: UserWarning: Exact p-value calculation does not work if there are zeros. Switching to normal approximation.\n",
      "  warnings.warn(\"Exact p-value calculation does not work if there are \"\n",
      "/home/riwata/miniconda3/envs/spike_interface_0_97_1/lib/python3.9/site-packages/scipy/stats/_morestats.py:3428: UserWarning: Sample size too small for normal approximation.\n",
      "  warnings.warn(\"Sample size too small for normal approximation.\")\n"
     ]
    }
   ],
   "source": [
    "neuron_id_to_trial_type_to_wilcoxon_score = defaultdict(dict)\n",
    "neuron_id_and_trial_type_combinations = list(itertools.product(merged_before_after_tone_spike_count_df[\"subject_neuron_id\"].unique(), ['win', 'lose', 'rewarded', 'omission']))\n",
    "for neuron_id, trial_type in neuron_id_and_trial_type_combinations:\n",
    "    current_df = merged_before_after_tone_spike_count_df[(merged_before_after_tone_spike_count_df[\"subject_neuron_id\"] == neuron_id) & (merged_before_after_tone_spike_count_df[\"trial_type\"] == trial_type)]\n",
    "    neuron_id_to_trial_type_to_wilcoxon_score[neuron_id][trial_type] = stats.wilcoxon(current_df[\"before_fired_spike_count\"], current_df[\"after_fired_spike_count\"])"
   ]
  },
  {
   "cell_type": "markdown",
   "id": "6248e071",
   "metadata": {},
   "source": [
    "# Pie Chart for Losing and Omission"
   ]
  },
  {
   "cell_type": "code",
   "execution_count": 143,
   "id": "cf8f5be5",
   "metadata": {},
   "outputs": [],
   "source": [
    "p_value_threshold = 0.1"
   ]
  },
  {
   "cell_type": "code",
   "execution_count": 144,
   "id": "70aa541a",
   "metadata": {},
   "outputs": [],
   "source": [
    "neuron_to_wilcoxon_df = pd.DataFrame.from_dict(neuron_id_to_trial_type_to_wilcoxon_score, orient=\"index\")"
   ]
  },
  {
   "cell_type": "code",
   "execution_count": 145,
   "id": "99bc426d",
   "metadata": {},
   "outputs": [
    {
     "data": {
      "text/html": [
       "<div>\n",
       "<style scoped>\n",
       "    .dataframe tbody tr th:only-of-type {\n",
       "        vertical-align: middle;\n",
       "    }\n",
       "\n",
       "    .dataframe tbody tr th {\n",
       "        vertical-align: top;\n",
       "    }\n",
       "\n",
       "    .dataframe thead th {\n",
       "        text-align: right;\n",
       "    }\n",
       "</style>\n",
       "<table border=\"1\" class=\"dataframe\">\n",
       "  <thead>\n",
       "    <tr style=\"text-align: right;\">\n",
       "      <th></th>\n",
       "      <th>win</th>\n",
       "      <th>lose</th>\n",
       "      <th>rewarded</th>\n",
       "      <th>omission</th>\n",
       "    </tr>\n",
       "  </thead>\n",
       "  <tbody>\n",
       "    <tr>\n",
       "      <th>0subj_1_1</th>\n",
       "      <td>(17.0, 0.08437944259396049)</td>\n",
       "      <td>(3.0, 0.15625)</td>\n",
       "      <td>(51.5, 0.9494826062394015)</td>\n",
       "      <td>(0.0, 0.31731050786291415)</td>\n",
       "    </tr>\n",
       "    <tr>\n",
       "      <th>2subj_1_1</th>\n",
       "      <td>(5.0, 0.0368046049712031)</td>\n",
       "      <td>(6.0, 0.6844698210251553)</td>\n",
       "      <td>(31.0, 0.17690062150398822)</td>\n",
       "      <td>(2.0, 0.375)</td>\n",
       "    </tr>\n",
       "    <tr>\n",
       "      <th>4subj_1_1</th>\n",
       "      <td>(24.0, 0.23931654122149526)</td>\n",
       "      <td>(8.0, 0.6875)</td>\n",
       "      <td>(43.0, 0.21142578125)</td>\n",
       "      <td>(4.0, 0.875)</td>\n",
       "    </tr>\n",
       "    <tr>\n",
       "      <th>5subj_1_1</th>\n",
       "      <td>(32.0, 0.375732421875)</td>\n",
       "      <td>(8.0, 0.6875)</td>\n",
       "      <td>(64.0, 0.860260009765625)</td>\n",
       "      <td>(5.0, 1.0)</td>\n",
       "    </tr>\n",
       "    <tr>\n",
       "      <th>8subj_1_1</th>\n",
       "      <td>(30.0, 0.305419921875)</td>\n",
       "      <td>(9.0, 0.84375)</td>\n",
       "      <td>(44.0, 0.231201171875)</td>\n",
       "      <td>(4.0, 0.875)</td>\n",
       "    </tr>\n",
       "    <tr>\n",
       "      <th>18subj_1_1</th>\n",
       "      <td>(38.5, 0.635498046875)</td>\n",
       "      <td>(8.0, 0.6875)</td>\n",
       "      <td>(57.5, 0.596588134765625)</td>\n",
       "      <td>(3.0, 0.625)</td>\n",
       "    </tr>\n",
       "    <tr>\n",
       "      <th>20subj_1_1</th>\n",
       "      <td>(28.5, 0.40630004314904333)</td>\n",
       "      <td>(10.5, 1.0)</td>\n",
       "      <td>(36.5, 0.18082396332783868)</td>\n",
       "      <td>(0.0, 0.17971249487899976)</td>\n",
       "    </tr>\n",
       "    <tr>\n",
       "      <th>22subj_1_1</th>\n",
       "      <td>(42.0, 0.83935546875)</td>\n",
       "      <td>(7.5, 1.0)</td>\n",
       "      <td>(50.0, 0.874800867153681)</td>\n",
       "      <td>(0.0, 0.125)</td>\n",
       "    </tr>\n",
       "    <tr>\n",
       "      <th>26subj_1_1</th>\n",
       "      <td>(32.5, 0.375732421875)</td>\n",
       "      <td>(5.0, 0.3125)</td>\n",
       "      <td>(53.5, 0.4637451171875)</td>\n",
       "      <td>(3.0, 0.625)</td>\n",
       "    </tr>\n",
       "    <tr>\n",
       "      <th>30subj_1_1</th>\n",
       "      <td>(17.5, 0.5515150900118735)</td>\n",
       "      <td>(9.5, 1.0)</td>\n",
       "      <td>(37.0, 0.5488103289103824)</td>\n",
       "      <td>(2.0, 0.375)</td>\n",
       "    </tr>\n",
       "    <tr>\n",
       "      <th>32subj_1_1</th>\n",
       "      <td>(18.5, 0.057373046875)</td>\n",
       "      <td>(7.0, 0.5625)</td>\n",
       "      <td>(30.0, 0.2781198076720537)</td>\n",
       "      <td>(5.0, 1.0)</td>\n",
       "    </tr>\n",
       "    <tr>\n",
       "      <th>34subj_1_1</th>\n",
       "      <td>(42.5, 0.83935546875)</td>\n",
       "      <td>(4.0, 0.34523107177184)</td>\n",
       "      <td>(34.5, 0.7235713140788753)</td>\n",
       "      <td>(1.5, 0.4142161782425252)</td>\n",
       "    </tr>\n",
       "    <tr>\n",
       "      <th>41subj_1_1</th>\n",
       "      <td>(21.0, 0.1566581150289847)</td>\n",
       "      <td>(3.5, 0.5807121621890252)</td>\n",
       "      <td>(31.0, 0.5269277868812885)</td>\n",
       "      <td>(3.0, 1.0)</td>\n",
       "    </tr>\n",
       "    <tr>\n",
       "      <th>42subj_1_1</th>\n",
       "      <td>(23.0, 0.127197265625)</td>\n",
       "      <td>(6.0, 0.6858304344516057)</td>\n",
       "      <td>(47.5, 0.2978515625)</td>\n",
       "      <td>(0.0, 0.125)</td>\n",
       "    </tr>\n",
       "    <tr>\n",
       "      <th>48subj_1_1</th>\n",
       "      <td>(26.0, 0.5322732515424332)</td>\n",
       "      <td>(8.0, 0.6875)</td>\n",
       "      <td>(47.0, 0.7286032159743149)</td>\n",
       "      <td>(2.0, 0.5929800980174267)</td>\n",
       "    </tr>\n",
       "    <tr>\n",
       "      <th>0subj_1_2</th>\n",
       "      <td>(3.0, 0.15625)</td>\n",
       "      <td>(17.0, 0.08437944259396049)</td>\n",
       "      <td>(51.5, 0.9494826062394015)</td>\n",
       "      <td>(0.0, 0.31731050786291415)</td>\n",
       "    </tr>\n",
       "    <tr>\n",
       "      <th>2subj_1_2</th>\n",
       "      <td>(6.0, 0.6844698210251553)</td>\n",
       "      <td>(5.0, 0.0368046049712031)</td>\n",
       "      <td>(31.0, 0.17690062150398822)</td>\n",
       "      <td>(2.0, 0.375)</td>\n",
       "    </tr>\n",
       "    <tr>\n",
       "      <th>4subj_1_2</th>\n",
       "      <td>(8.0, 0.6875)</td>\n",
       "      <td>(24.0, 0.23931654122149526)</td>\n",
       "      <td>(43.0, 0.21142578125)</td>\n",
       "      <td>(4.0, 0.875)</td>\n",
       "    </tr>\n",
       "    <tr>\n",
       "      <th>5subj_1_2</th>\n",
       "      <td>(8.0, 0.6875)</td>\n",
       "      <td>(32.0, 0.375732421875)</td>\n",
       "      <td>(64.0, 0.860260009765625)</td>\n",
       "      <td>(5.0, 1.0)</td>\n",
       "    </tr>\n",
       "    <tr>\n",
       "      <th>8subj_1_2</th>\n",
       "      <td>(9.0, 0.84375)</td>\n",
       "      <td>(30.0, 0.305419921875)</td>\n",
       "      <td>(44.0, 0.231201171875)</td>\n",
       "      <td>(4.0, 0.875)</td>\n",
       "    </tr>\n",
       "    <tr>\n",
       "      <th>18subj_1_2</th>\n",
       "      <td>(8.0, 0.6875)</td>\n",
       "      <td>(38.5, 0.635498046875)</td>\n",
       "      <td>(57.5, 0.596588134765625)</td>\n",
       "      <td>(3.0, 0.625)</td>\n",
       "    </tr>\n",
       "    <tr>\n",
       "      <th>20subj_1_2</th>\n",
       "      <td>(10.5, 1.0)</td>\n",
       "      <td>(28.5, 0.40630004314904333)</td>\n",
       "      <td>(36.5, 0.18082396332783868)</td>\n",
       "      <td>(0.0, 0.17971249487899976)</td>\n",
       "    </tr>\n",
       "    <tr>\n",
       "      <th>22subj_1_2</th>\n",
       "      <td>(7.5, 1.0)</td>\n",
       "      <td>(42.0, 0.83935546875)</td>\n",
       "      <td>(50.0, 0.874800867153681)</td>\n",
       "      <td>(0.0, 0.125)</td>\n",
       "    </tr>\n",
       "    <tr>\n",
       "      <th>26subj_1_2</th>\n",
       "      <td>(5.0, 0.3125)</td>\n",
       "      <td>(32.5, 0.375732421875)</td>\n",
       "      <td>(53.5, 0.4637451171875)</td>\n",
       "      <td>(3.0, 0.625)</td>\n",
       "    </tr>\n",
       "    <tr>\n",
       "      <th>30subj_1_2</th>\n",
       "      <td>(9.5, 1.0)</td>\n",
       "      <td>(17.5, 0.5515150900118735)</td>\n",
       "      <td>(37.0, 0.5488103289103824)</td>\n",
       "      <td>(2.0, 0.375)</td>\n",
       "    </tr>\n",
       "    <tr>\n",
       "      <th>32subj_1_2</th>\n",
       "      <td>(7.0, 0.5625)</td>\n",
       "      <td>(18.5, 0.057373046875)</td>\n",
       "      <td>(30.0, 0.2781198076720537)</td>\n",
       "      <td>(5.0, 1.0)</td>\n",
       "    </tr>\n",
       "    <tr>\n",
       "      <th>34subj_1_2</th>\n",
       "      <td>(4.0, 0.34523107177184)</td>\n",
       "      <td>(42.5, 0.83935546875)</td>\n",
       "      <td>(34.5, 0.7235713140788753)</td>\n",
       "      <td>(1.5, 0.4142161782425252)</td>\n",
       "    </tr>\n",
       "    <tr>\n",
       "      <th>41subj_1_2</th>\n",
       "      <td>(3.5, 0.5807121621890252)</td>\n",
       "      <td>(21.0, 0.1566581150289847)</td>\n",
       "      <td>(31.0, 0.5269277868812885)</td>\n",
       "      <td>(3.0, 1.0)</td>\n",
       "    </tr>\n",
       "    <tr>\n",
       "      <th>42subj_1_2</th>\n",
       "      <td>(6.0, 0.6858304344516057)</td>\n",
       "      <td>(23.0, 0.127197265625)</td>\n",
       "      <td>(47.5, 0.2978515625)</td>\n",
       "      <td>(0.0, 0.125)</td>\n",
       "    </tr>\n",
       "    <tr>\n",
       "      <th>48subj_1_2</th>\n",
       "      <td>(8.0, 0.6875)</td>\n",
       "      <td>(26.0, 0.5322732515424332)</td>\n",
       "      <td>(47.0, 0.7286032159743149)</td>\n",
       "      <td>(2.0, 0.5929800980174267)</td>\n",
       "    </tr>\n",
       "  </tbody>\n",
       "</table>\n",
       "</div>"
      ],
      "text/plain": [
       "                                    win                         lose  \\\n",
       "0subj_1_1   (17.0, 0.08437944259396049)               (3.0, 0.15625)   \n",
       "2subj_1_1     (5.0, 0.0368046049712031)    (6.0, 0.6844698210251553)   \n",
       "4subj_1_1   (24.0, 0.23931654122149526)                (8.0, 0.6875)   \n",
       "5subj_1_1        (32.0, 0.375732421875)                (8.0, 0.6875)   \n",
       "8subj_1_1        (30.0, 0.305419921875)               (9.0, 0.84375)   \n",
       "18subj_1_1       (38.5, 0.635498046875)                (8.0, 0.6875)   \n",
       "20subj_1_1  (28.5, 0.40630004314904333)                  (10.5, 1.0)   \n",
       "22subj_1_1        (42.0, 0.83935546875)                   (7.5, 1.0)   \n",
       "26subj_1_1       (32.5, 0.375732421875)                (5.0, 0.3125)   \n",
       "30subj_1_1   (17.5, 0.5515150900118735)                   (9.5, 1.0)   \n",
       "32subj_1_1       (18.5, 0.057373046875)                (7.0, 0.5625)   \n",
       "34subj_1_1        (42.5, 0.83935546875)      (4.0, 0.34523107177184)   \n",
       "41subj_1_1   (21.0, 0.1566581150289847)    (3.5, 0.5807121621890252)   \n",
       "42subj_1_1       (23.0, 0.127197265625)    (6.0, 0.6858304344516057)   \n",
       "48subj_1_1   (26.0, 0.5322732515424332)                (8.0, 0.6875)   \n",
       "0subj_1_2                (3.0, 0.15625)  (17.0, 0.08437944259396049)   \n",
       "2subj_1_2     (6.0, 0.6844698210251553)    (5.0, 0.0368046049712031)   \n",
       "4subj_1_2                 (8.0, 0.6875)  (24.0, 0.23931654122149526)   \n",
       "5subj_1_2                 (8.0, 0.6875)       (32.0, 0.375732421875)   \n",
       "8subj_1_2                (9.0, 0.84375)       (30.0, 0.305419921875)   \n",
       "18subj_1_2                (8.0, 0.6875)       (38.5, 0.635498046875)   \n",
       "20subj_1_2                  (10.5, 1.0)  (28.5, 0.40630004314904333)   \n",
       "22subj_1_2                   (7.5, 1.0)        (42.0, 0.83935546875)   \n",
       "26subj_1_2                (5.0, 0.3125)       (32.5, 0.375732421875)   \n",
       "30subj_1_2                   (9.5, 1.0)   (17.5, 0.5515150900118735)   \n",
       "32subj_1_2                (7.0, 0.5625)       (18.5, 0.057373046875)   \n",
       "34subj_1_2      (4.0, 0.34523107177184)        (42.5, 0.83935546875)   \n",
       "41subj_1_2    (3.5, 0.5807121621890252)   (21.0, 0.1566581150289847)   \n",
       "42subj_1_2    (6.0, 0.6858304344516057)       (23.0, 0.127197265625)   \n",
       "48subj_1_2                (8.0, 0.6875)   (26.0, 0.5322732515424332)   \n",
       "\n",
       "                               rewarded                    omission  \n",
       "0subj_1_1    (51.5, 0.9494826062394015)  (0.0, 0.31731050786291415)  \n",
       "2subj_1_1   (31.0, 0.17690062150398822)                (2.0, 0.375)  \n",
       "4subj_1_1         (43.0, 0.21142578125)                (4.0, 0.875)  \n",
       "5subj_1_1     (64.0, 0.860260009765625)                  (5.0, 1.0)  \n",
       "8subj_1_1        (44.0, 0.231201171875)                (4.0, 0.875)  \n",
       "18subj_1_1    (57.5, 0.596588134765625)                (3.0, 0.625)  \n",
       "20subj_1_1  (36.5, 0.18082396332783868)  (0.0, 0.17971249487899976)  \n",
       "22subj_1_1    (50.0, 0.874800867153681)                (0.0, 0.125)  \n",
       "26subj_1_1      (53.5, 0.4637451171875)                (3.0, 0.625)  \n",
       "30subj_1_1   (37.0, 0.5488103289103824)                (2.0, 0.375)  \n",
       "32subj_1_1   (30.0, 0.2781198076720537)                  (5.0, 1.0)  \n",
       "34subj_1_1   (34.5, 0.7235713140788753)   (1.5, 0.4142161782425252)  \n",
       "41subj_1_1   (31.0, 0.5269277868812885)                  (3.0, 1.0)  \n",
       "42subj_1_1         (47.5, 0.2978515625)                (0.0, 0.125)  \n",
       "48subj_1_1   (47.0, 0.7286032159743149)   (2.0, 0.5929800980174267)  \n",
       "0subj_1_2    (51.5, 0.9494826062394015)  (0.0, 0.31731050786291415)  \n",
       "2subj_1_2   (31.0, 0.17690062150398822)                (2.0, 0.375)  \n",
       "4subj_1_2         (43.0, 0.21142578125)                (4.0, 0.875)  \n",
       "5subj_1_2     (64.0, 0.860260009765625)                  (5.0, 1.0)  \n",
       "8subj_1_2        (44.0, 0.231201171875)                (4.0, 0.875)  \n",
       "18subj_1_2    (57.5, 0.596588134765625)                (3.0, 0.625)  \n",
       "20subj_1_2  (36.5, 0.18082396332783868)  (0.0, 0.17971249487899976)  \n",
       "22subj_1_2    (50.0, 0.874800867153681)                (0.0, 0.125)  \n",
       "26subj_1_2      (53.5, 0.4637451171875)                (3.0, 0.625)  \n",
       "30subj_1_2   (37.0, 0.5488103289103824)                (2.0, 0.375)  \n",
       "32subj_1_2   (30.0, 0.2781198076720537)                  (5.0, 1.0)  \n",
       "34subj_1_2   (34.5, 0.7235713140788753)   (1.5, 0.4142161782425252)  \n",
       "41subj_1_2   (31.0, 0.5269277868812885)                  (3.0, 1.0)  \n",
       "42subj_1_2         (47.5, 0.2978515625)                (0.0, 0.125)  \n",
       "48subj_1_2   (47.0, 0.7286032159743149)   (2.0, 0.5929800980174267)  "
      ]
     },
     "execution_count": 145,
     "metadata": {},
     "output_type": "execute_result"
    }
   ],
   "source": [
    "neuron_to_wilcoxon_df"
   ]
  },
  {
   "cell_type": "code",
   "execution_count": 146,
   "id": "ebcff259",
   "metadata": {},
   "outputs": [],
   "source": [
    "for col in neuron_to_wilcoxon_df.columns:\n",
    "    neuron_to_wilcoxon_df[\"{}_pvalue\".format(col)] = neuron_to_wilcoxon_df[col].apply(lambda x: x[1])"
   ]
  },
  {
   "cell_type": "code",
   "execution_count": 147,
   "id": "2b9c60b9",
   "metadata": {},
   "outputs": [
    {
     "data": {
      "text/html": [
       "<div>\n",
       "<style scoped>\n",
       "    .dataframe tbody tr th:only-of-type {\n",
       "        vertical-align: middle;\n",
       "    }\n",
       "\n",
       "    .dataframe tbody tr th {\n",
       "        vertical-align: top;\n",
       "    }\n",
       "\n",
       "    .dataframe thead th {\n",
       "        text-align: right;\n",
       "    }\n",
       "</style>\n",
       "<table border=\"1\" class=\"dataframe\">\n",
       "  <thead>\n",
       "    <tr style=\"text-align: right;\">\n",
       "      <th></th>\n",
       "      <th>win</th>\n",
       "      <th>lose</th>\n",
       "      <th>rewarded</th>\n",
       "      <th>omission</th>\n",
       "      <th>win_pvalue</th>\n",
       "      <th>lose_pvalue</th>\n",
       "      <th>rewarded_pvalue</th>\n",
       "      <th>omission_pvalue</th>\n",
       "    </tr>\n",
       "  </thead>\n",
       "  <tbody>\n",
       "    <tr>\n",
       "      <th>0subj_1_1</th>\n",
       "      <td>(17.0, 0.08437944259396049)</td>\n",
       "      <td>(3.0, 0.15625)</td>\n",
       "      <td>(51.5, 0.9494826062394015)</td>\n",
       "      <td>(0.0, 0.31731050786291415)</td>\n",
       "      <td>0.084379</td>\n",
       "      <td>0.15625</td>\n",
       "      <td>0.949483</td>\n",
       "      <td>0.317311</td>\n",
       "    </tr>\n",
       "    <tr>\n",
       "      <th>2subj_1_1</th>\n",
       "      <td>(5.0, 0.0368046049712031)</td>\n",
       "      <td>(6.0, 0.6844698210251553)</td>\n",
       "      <td>(31.0, 0.17690062150398822)</td>\n",
       "      <td>(2.0, 0.375)</td>\n",
       "      <td>0.036805</td>\n",
       "      <td>0.68447</td>\n",
       "      <td>0.176901</td>\n",
       "      <td>0.375000</td>\n",
       "    </tr>\n",
       "    <tr>\n",
       "      <th>4subj_1_1</th>\n",
       "      <td>(24.0, 0.23931654122149526)</td>\n",
       "      <td>(8.0, 0.6875)</td>\n",
       "      <td>(43.0, 0.21142578125)</td>\n",
       "      <td>(4.0, 0.875)</td>\n",
       "      <td>0.239317</td>\n",
       "      <td>0.68750</td>\n",
       "      <td>0.211426</td>\n",
       "      <td>0.875000</td>\n",
       "    </tr>\n",
       "    <tr>\n",
       "      <th>5subj_1_1</th>\n",
       "      <td>(32.0, 0.375732421875)</td>\n",
       "      <td>(8.0, 0.6875)</td>\n",
       "      <td>(64.0, 0.860260009765625)</td>\n",
       "      <td>(5.0, 1.0)</td>\n",
       "      <td>0.375732</td>\n",
       "      <td>0.68750</td>\n",
       "      <td>0.860260</td>\n",
       "      <td>1.000000</td>\n",
       "    </tr>\n",
       "    <tr>\n",
       "      <th>8subj_1_1</th>\n",
       "      <td>(30.0, 0.305419921875)</td>\n",
       "      <td>(9.0, 0.84375)</td>\n",
       "      <td>(44.0, 0.231201171875)</td>\n",
       "      <td>(4.0, 0.875)</td>\n",
       "      <td>0.305420</td>\n",
       "      <td>0.84375</td>\n",
       "      <td>0.231201</td>\n",
       "      <td>0.875000</td>\n",
       "    </tr>\n",
       "  </tbody>\n",
       "</table>\n",
       "</div>"
      ],
      "text/plain": [
       "                                   win                       lose  \\\n",
       "0subj_1_1  (17.0, 0.08437944259396049)             (3.0, 0.15625)   \n",
       "2subj_1_1    (5.0, 0.0368046049712031)  (6.0, 0.6844698210251553)   \n",
       "4subj_1_1  (24.0, 0.23931654122149526)              (8.0, 0.6875)   \n",
       "5subj_1_1       (32.0, 0.375732421875)              (8.0, 0.6875)   \n",
       "8subj_1_1       (30.0, 0.305419921875)             (9.0, 0.84375)   \n",
       "\n",
       "                              rewarded                    omission  \\\n",
       "0subj_1_1   (51.5, 0.9494826062394015)  (0.0, 0.31731050786291415)   \n",
       "2subj_1_1  (31.0, 0.17690062150398822)                (2.0, 0.375)   \n",
       "4subj_1_1        (43.0, 0.21142578125)                (4.0, 0.875)   \n",
       "5subj_1_1    (64.0, 0.860260009765625)                  (5.0, 1.0)   \n",
       "8subj_1_1       (44.0, 0.231201171875)                (4.0, 0.875)   \n",
       "\n",
       "           win_pvalue  lose_pvalue  rewarded_pvalue  omission_pvalue  \n",
       "0subj_1_1    0.084379      0.15625         0.949483         0.317311  \n",
       "2subj_1_1    0.036805      0.68447         0.176901         0.375000  \n",
       "4subj_1_1    0.239317      0.68750         0.211426         0.875000  \n",
       "5subj_1_1    0.375732      0.68750         0.860260         1.000000  \n",
       "8subj_1_1    0.305420      0.84375         0.231201         0.875000  "
      ]
     },
     "execution_count": 147,
     "metadata": {},
     "output_type": "execute_result"
    }
   ],
   "source": [
    "neuron_to_wilcoxon_df.head()"
   ]
  },
  {
   "cell_type": "code",
   "execution_count": 148,
   "id": "c1894522",
   "metadata": {},
   "outputs": [],
   "source": [
    "reward_or_win_firing_rate_difference_count = {}\n",
    "for index, row in neuron_to_wilcoxon_df.iterrows():\n",
    "    \n",
    "    # if both\n",
    "    if row[\"rewarded_pvalue\"] <= p_value_threshold and row[\"win_pvalue\"] <= p_value_threshold:\n",
    "        reward_or_win_firing_rate_difference_count[\"both_reward_and_win\"] = reward_or_win_firing_rate_difference_count.get('both_reward_and_win', 0) + 1\n",
    "    # if one\n",
    "    if row[\"rewarded_pvalue\"] <= p_value_threshold:\n",
    "        reward_or_win_firing_rate_difference_count[\"reward_only\"] = reward_or_win_firing_rate_difference_count.get('reward_only', 0) + 1\n",
    "\n",
    "    # if other\n",
    "    if row[\"win_pvalue\"] <= p_value_threshold:\n",
    "        reward_or_win_firing_rate_difference_count[\"win_only\"] = reward_or_win_firing_rate_difference_count.get('win_only', 0) + 1\n",
    "reward_or_win_firing_rate_difference_count[\"no_response_for_win_and_rewarded\"] = len(neuron_to_wilcoxon_df) - sum(reward_or_win_firing_rate_difference_count.values())"
   ]
  },
  {
   "cell_type": "code",
   "execution_count": 149,
   "id": "150c74be",
   "metadata": {},
   "outputs": [
    {
     "data": {
      "text/plain": [
       "{'win_only': 3, 'no_response_for_win_and_rewarded': 27}"
      ]
     },
     "execution_count": 149,
     "metadata": {},
     "output_type": "execute_result"
    }
   ],
   "source": [
    "reward_or_win_firing_rate_difference_count"
   ]
  },
  {
   "cell_type": "code",
   "execution_count": 150,
   "id": "1576c048",
   "metadata": {},
   "outputs": [],
   "source": [
    "omission_or_loss_firing_rate_difference_count = {}\n",
    "for index, row in neuron_to_wilcoxon_df.iterrows():\n",
    "    \n",
    "    # if both\n",
    "    if row[\"omission_pvalue\"] <= p_value_threshold and row[\"loss_pvalue\"] <= p_value_threshold:\n",
    "        omission_or_loss_firing_rate_difference_count[\"both_omission_and_loss\"] = omission_or_loss_firing_rate_difference_count.get('both_omission_and_loss', 0) + 1\n",
    "    # if one\n",
    "    if row[\"omission_pvalue\"] <= p_value_threshold:\n",
    "        omission_or_loss_firing_rate_difference_count[\"omission_only\"] = omission_or_loss_firing_rate_difference_count.get('omission_only', 0) + 1\n",
    "\n",
    "    # if other\n",
    "    if row[\"lose_pvalue\"] <= p_value_threshold:\n",
    "        omission_or_loss_firing_rate_difference_count[\"loss_only\"] = omission_or_loss_firing_rate_difference_count.get('loss_only', 0) + 1\n",
    "omission_or_loss_firing_rate_difference_count[\"no_response_for_loss_and_omission\"] = len(neuron_to_wilcoxon_df) - sum(omission_or_loss_firing_rate_difference_count.values())"
   ]
  },
  {
   "cell_type": "code",
   "execution_count": 151,
   "id": "1df38ee5",
   "metadata": {},
   "outputs": [
    {
     "data": {
      "text/plain": [
       "dict_values([3, 27])"
      ]
     },
     "execution_count": 151,
     "metadata": {},
     "output_type": "execute_result"
    }
   ],
   "source": [
    "omission_or_loss_firing_rate_difference_count.values()"
   ]
  },
  {
   "cell_type": "code",
   "execution_count": 152,
   "id": "87395322",
   "metadata": {},
   "outputs": [
    {
     "data": {
      "image/png": "[encoded data removed]",
      "text/plain": [
       "<Figure size 640x480 with 1 Axes>"
      ]
     },
     "metadata": {},
     "output_type": "display_data"
    }
   ],
   "source": [
    "# Pie chart, where the slices will be ordered and plotted counter-clockwise:\n",
    "\n",
    "fig1, ax1 = plt.subplots()\n",
    "ax1.pie(reward_or_win_firing_rate_difference_count.values(), labels=reward_or_win_firing_rate_difference_count.keys(), autopct='%1.1f%%',\n",
    "        shadow=True, startangle=90)\n",
    "ax1.axis('equal')  # Equal aspect ratio ensures that pie is drawn as a circle.\n",
    "\n",
    "plt.title(\"Response Magnitude for All Cells\")\n",
    "plt.show()"
   ]
  },
  {
   "cell_type": "code",
   "execution_count": 153,
   "id": "45f17730",
   "metadata": {
    "scrolled": true
   },
   "outputs": [
    {
     "data": {
      "image/png": "[encoded data removed]",
      "text/plain": [
       "<Figure size 640x480 with 1 Axes>"
      ]
     },
     "metadata": {},
     "output_type": "display_data"
    }
   ],
   "source": [
    "# Pie chart, where the slices will be ordered and plotted counter-clockwise:\n",
    "\n",
    "fig1, ax1 = plt.subplots()\n",
    "ax1.pie(omission_or_loss_firing_rate_difference_count.values(), labels=omission_or_loss_firing_rate_difference_count.keys(), autopct='%1.1f%%',\n",
    "        shadow=True, startangle=90)\n",
    "ax1.axis('equal')  # Equal aspect ratio ensures that pie is drawn as a circle.\n",
    "\n",
    "plt.title(\"Response Magnitude for All Cells\")\n",
    "plt.show()"
   ]
  },
  {
   "cell_type": "code",
   "execution_count": 154,
   "id": "85fc960b-3e34-4aae-9dd8-09130e98092b",
   "metadata": {},
   "outputs": [
    {
     "data": {
      "text/plain": [
       "{'win_only': 3, 'no_response_for_win_and_rewarded': 27}"
      ]
     },
     "execution_count": 154,
     "metadata": {},
     "output_type": "execute_result"
    }
   ],
   "source": [
    "reward_or_win_firing_rate_difference_count"
   ]
  },
  {
   "cell_type": "code",
   "execution_count": 155,
   "id": "74ae1153-d1ec-4b79-b4c5-d2ea169ba936",
   "metadata": {
    "scrolled": true
   },
   "outputs": [],
   "source": [
    "spike_difference_df = pd.concat([pd.DataFrame.from_dict(reward_or_win_firing_rate_difference_count.items()), pd.DataFrame.from_dict(omission_or_loss_firing_rate_difference_count.items())]).reset_index(drop=True)"
   ]
  },
  {
   "cell_type": "code",
   "execution_count": 156,
   "id": "3ab736db-fbf0-4f85-a32e-d055b377951b",
   "metadata": {},
   "outputs": [],
   "source": [
    "spike_difference_df = spike_difference_df.rename(columns={0: \"condition\", 1: \"number_of_changed_units\"})"
   ]
  },
  {
   "cell_type": "code",
   "execution_count": 157,
   "id": "a6fa97de-39b9-4bf4-bdfe-f1b1a714bd8e",
   "metadata": {},
   "outputs": [
    {
     "data": {
      "text/plain": [
       "30"
      ]
     },
     "execution_count": 157,
     "metadata": {},
     "output_type": "execute_result"
    }
   ],
   "source": [
    "len(merged_before_after_tone_spike_count_df[\"subject_neuron_id\"].unique())"
   ]
  },
  {
   "cell_type": "code",
   "execution_count": 158,
   "id": "80478c1c-fe35-46bb-9fb2-92726225ae47",
   "metadata": {},
   "outputs": [],
   "source": [
    "spike_difference_df[\"proportion_of_changed_units\"] = spike_difference_df[\"number_of_changed_units\"] / len(merged_before_after_tone_spike_count_df[\"subject_neuron_id\"].unique())"
   ]
  },
  {
   "cell_type": "code",
   "execution_count": 159,
   "id": "81b7abcc-d15e-435c-853e-351453c75293",
   "metadata": {},
   "outputs": [
    {
     "data": {
      "text/html": [
       "<div>\n",
       "<style scoped>\n",
       "    .dataframe tbody tr th:only-of-type {\n",
       "        vertical-align: middle;\n",
       "    }\n",
       "\n",
       "    .dataframe tbody tr th {\n",
       "        vertical-align: top;\n",
       "    }\n",
       "\n",
       "    .dataframe thead th {\n",
       "        text-align: right;\n",
       "    }\n",
       "</style>\n",
       "<table border=\"1\" class=\"dataframe\">\n",
       "  <thead>\n",
       "    <tr style=\"text-align: right;\">\n",
       "      <th></th>\n",
       "      <th>condition</th>\n",
       "      <th>number_of_changed_units</th>\n",
       "      <th>proportion_of_changed_units</th>\n",
       "    </tr>\n",
       "  </thead>\n",
       "  <tbody>\n",
       "    <tr>\n",
       "      <th>0</th>\n",
       "      <td>win_only</td>\n",
       "      <td>3</td>\n",
       "      <td>0.1</td>\n",
       "    </tr>\n",
       "    <tr>\n",
       "      <th>1</th>\n",
       "      <td>no_response_for_win_and_rewarded</td>\n",
       "      <td>27</td>\n",
       "      <td>0.9</td>\n",
       "    </tr>\n",
       "    <tr>\n",
       "      <th>2</th>\n",
       "      <td>loss_only</td>\n",
       "      <td>3</td>\n",
       "      <td>0.1</td>\n",
       "    </tr>\n",
       "    <tr>\n",
       "      <th>3</th>\n",
       "      <td>no_response_for_loss_and_omission</td>\n",
       "      <td>27</td>\n",
       "      <td>0.9</td>\n",
       "    </tr>\n",
       "  </tbody>\n",
       "</table>\n",
       "</div>"
      ],
      "text/plain": [
       "                           condition  number_of_changed_units  \\\n",
       "0                           win_only                        3   \n",
       "1   no_response_for_win_and_rewarded                       27   \n",
       "2                          loss_only                        3   \n",
       "3  no_response_for_loss_and_omission                       27   \n",
       "\n",
       "   proportion_of_changed_units  \n",
       "0                          0.1  \n",
       "1                          0.9  \n",
       "2                          0.1  \n",
       "3                          0.9  "
      ]
     },
     "execution_count": 159,
     "metadata": {},
     "output_type": "execute_result"
    }
   ],
   "source": [
    "spike_difference_df"
   ]
  },
  {
   "cell_type": "code",
   "execution_count": 160,
   "id": "549a4b69-725a-4cc5-94ff-a004557a4ede",
   "metadata": {},
   "outputs": [],
   "source": [
    "spike_difference_df.to_csv(\"./spike_wilcoxon_06_20.csv\")"
   ]
  },
  {
   "cell_type": "code",
   "execution_count": 162,
   "id": "4ae650a0-b356-4e8c-9dc7-331b895e58b7",
   "metadata": {},
   "outputs": [],
   "source": [
    "other_spike_difference_df = pd.read_csv(\"./spike_wilcoxon_06_18.csv\", index_col=0)"
   ]
  },
  {
   "cell_type": "code",
   "execution_count": 174,
   "id": "156eab26-39bb-4125-90d5-96bfc5896193",
   "metadata": {},
   "outputs": [
    {
     "data": {
      "text/html": [
       "<div>\n",
       "<style scoped>\n",
       "    .dataframe tbody tr th:only-of-type {\n",
       "        vertical-align: middle;\n",
       "    }\n",
       "\n",
       "    .dataframe tbody tr th {\n",
       "        vertical-align: top;\n",
       "    }\n",
       "\n",
       "    .dataframe thead th {\n",
       "        text-align: right;\n",
       "    }\n",
       "</style>\n",
       "<table border=\"1\" class=\"dataframe\">\n",
       "  <thead>\n",
       "    <tr style=\"text-align: right;\">\n",
       "      <th></th>\n",
       "      <th>condition</th>\n",
       "      <th>number_of_changed_units</th>\n",
       "      <th>proportion_of_changed_units</th>\n",
       "    </tr>\n",
       "  </thead>\n",
       "  <tbody>\n",
       "    <tr>\n",
       "      <th>0</th>\n",
       "      <td>reward_only</td>\n",
       "      <td>11</td>\n",
       "      <td>0.407407</td>\n",
       "    </tr>\n",
       "    <tr>\n",
       "      <th>1</th>\n",
       "      <td>both_reward_and_win</td>\n",
       "      <td>5</td>\n",
       "      <td>0.185185</td>\n",
       "    </tr>\n",
       "    <tr>\n",
       "      <th>2</th>\n",
       "      <td>win_only</td>\n",
       "      <td>6</td>\n",
       "      <td>0.222222</td>\n",
       "    </tr>\n",
       "    <tr>\n",
       "      <th>3</th>\n",
       "      <td>no_response_for_win_and_rewarded</td>\n",
       "      <td>5</td>\n",
       "      <td>0.185185</td>\n",
       "    </tr>\n",
       "    <tr>\n",
       "      <th>4</th>\n",
       "      <td>loss_only</td>\n",
       "      <td>5</td>\n",
       "      <td>0.185185</td>\n",
       "    </tr>\n",
       "    <tr>\n",
       "      <th>5</th>\n",
       "      <td>no_response_for_loss_and_omission</td>\n",
       "      <td>22</td>\n",
       "      <td>0.814815</td>\n",
       "    </tr>\n",
       "  </tbody>\n",
       "</table>\n",
       "</div>"
      ],
      "text/plain": [
       "                           condition  number_of_changed_units  \\\n",
       "0                        reward_only                       11   \n",
       "1                both_reward_and_win                        5   \n",
       "2                           win_only                        6   \n",
       "3   no_response_for_win_and_rewarded                        5   \n",
       "4                          loss_only                        5   \n",
       "5  no_response_for_loss_and_omission                       22   \n",
       "\n",
       "   proportion_of_changed_units  \n",
       "0                     0.407407  \n",
       "1                     0.185185  \n",
       "2                     0.222222  \n",
       "3                     0.185185  \n",
       "4                     0.185185  \n",
       "5                     0.814815  "
      ]
     },
     "execution_count": 174,
     "metadata": {},
     "output_type": "execute_result"
    }
   ],
   "source": [
    "other_spike_difference_df"
   ]
  },
  {
   "cell_type": "code",
   "execution_count": 175,
   "id": "fbb7ede3-daca-410b-811a-a217fc3cd6a3",
   "metadata": {},
   "outputs": [],
   "source": [
    "combined_df = pd.merge(spike_difference_df, other_spike_difference_df, on=['condition'], how=\"outer\")"
   ]
  },
  {
   "cell_type": "code",
   "execution_count": 176,
   "id": "df4d5767-783f-4a7f-b970-142c68cb2617",
   "metadata": {},
   "outputs": [],
   "source": [
    "combined_df = combined_df.fillna(value=0)"
   ]
  },
  {
   "cell_type": "code",
   "execution_count": 177,
   "id": "a59f1187-ae4e-4118-941a-446c9a958ed2",
   "metadata": {},
   "outputs": [],
   "source": [
    "combined_df[\"number_of_changed_units\"] = combined_df[\"number_of_changed_units_x\"] + combined_df[\"number_of_changed_units_y\"]"
   ]
  },
  {
   "cell_type": "code",
   "execution_count": 178,
   "id": "9ef4d583-079b-4f84-be7f-da4ae9e00ce0",
   "metadata": {},
   "outputs": [
    {
     "data": {
      "text/html": [
       "<div>\n",
       "<style scoped>\n",
       "    .dataframe tbody tr th:only-of-type {\n",
       "        vertical-align: middle;\n",
       "    }\n",
       "\n",
       "    .dataframe tbody tr th {\n",
       "        vertical-align: top;\n",
       "    }\n",
       "\n",
       "    .dataframe thead th {\n",
       "        text-align: right;\n",
       "    }\n",
       "</style>\n",
       "<table border=\"1\" class=\"dataframe\">\n",
       "  <thead>\n",
       "    <tr style=\"text-align: right;\">\n",
       "      <th></th>\n",
       "      <th>condition</th>\n",
       "      <th>number_of_changed_units_x</th>\n",
       "      <th>proportion_of_changed_units_x</th>\n",
       "      <th>number_of_changed_units_y</th>\n",
       "      <th>proportion_of_changed_units_y</th>\n",
       "      <th>number_of_changed_units</th>\n",
       "    </tr>\n",
       "  </thead>\n",
       "  <tbody>\n",
       "    <tr>\n",
       "      <th>0</th>\n",
       "      <td>win_only</td>\n",
       "      <td>3.0</td>\n",
       "      <td>0.1</td>\n",
       "      <td>6</td>\n",
       "      <td>0.222222</td>\n",
       "      <td>9.0</td>\n",
       "    </tr>\n",
       "    <tr>\n",
       "      <th>1</th>\n",
       "      <td>no_response_for_win_and_rewarded</td>\n",
       "      <td>27.0</td>\n",
       "      <td>0.9</td>\n",
       "      <td>5</td>\n",
       "      <td>0.185185</td>\n",
       "      <td>32.0</td>\n",
       "    </tr>\n",
       "    <tr>\n",
       "      <th>2</th>\n",
       "      <td>loss_only</td>\n",
       "      <td>3.0</td>\n",
       "      <td>0.1</td>\n",
       "      <td>5</td>\n",
       "      <td>0.185185</td>\n",
       "      <td>8.0</td>\n",
       "    </tr>\n",
       "    <tr>\n",
       "      <th>3</th>\n",
       "      <td>no_response_for_loss_and_omission</td>\n",
       "      <td>27.0</td>\n",
       "      <td>0.9</td>\n",
       "      <td>22</td>\n",
       "      <td>0.814815</td>\n",
       "      <td>49.0</td>\n",
       "    </tr>\n",
       "    <tr>\n",
       "      <th>4</th>\n",
       "      <td>reward_only</td>\n",
       "      <td>0.0</td>\n",
       "      <td>0.0</td>\n",
       "      <td>11</td>\n",
       "      <td>0.407407</td>\n",
       "      <td>11.0</td>\n",
       "    </tr>\n",
       "    <tr>\n",
       "      <th>5</th>\n",
       "      <td>both_reward_and_win</td>\n",
       "      <td>0.0</td>\n",
       "      <td>0.0</td>\n",
       "      <td>5</td>\n",
       "      <td>0.185185</td>\n",
       "      <td>5.0</td>\n",
       "    </tr>\n",
       "  </tbody>\n",
       "</table>\n",
       "</div>"
      ],
      "text/plain": [
       "                           condition  number_of_changed_units_x  \\\n",
       "0                           win_only                        3.0   \n",
       "1   no_response_for_win_and_rewarded                       27.0   \n",
       "2                          loss_only                        3.0   \n",
       "3  no_response_for_loss_and_omission                       27.0   \n",
       "4                        reward_only                        0.0   \n",
       "5                both_reward_and_win                        0.0   \n",
       "\n",
       "   proportion_of_changed_units_x  number_of_changed_units_y  \\\n",
       "0                            0.1                          6   \n",
       "1                            0.9                          5   \n",
       "2                            0.1                          5   \n",
       "3                            0.9                         22   \n",
       "4                            0.0                         11   \n",
       "5                            0.0                          5   \n",
       "\n",
       "   proportion_of_changed_units_y  number_of_changed_units  \n",
       "0                       0.222222                      9.0  \n",
       "1                       0.185185                     32.0  \n",
       "2                       0.185185                      8.0  \n",
       "3                       0.814815                     49.0  \n",
       "4                       0.407407                     11.0  \n",
       "5                       0.185185                      5.0  "
      ]
     },
     "execution_count": 178,
     "metadata": {},
     "output_type": "execute_result"
    }
   ],
   "source": [
    "combined_df"
   ]
  },
  {
   "cell_type": "code",
   "execution_count": 179,
   "id": "0e3d50d0-6e6f-4ec2-81de-be6c8322872c",
   "metadata": {},
   "outputs": [],
   "source": [
    "combined_df[\"proportion_of_changed_units\"] = combined_df[\"number_of_changed_units\"] / 57"
   ]
  },
  {
   "cell_type": "code",
   "execution_count": 180,
   "id": "7457153f-bd52-4d6f-a4cc-c2c7fe851ed7",
   "metadata": {},
   "outputs": [
    {
     "data": {
      "text/html": [
       "<div>\n",
       "<style scoped>\n",
       "    .dataframe tbody tr th:only-of-type {\n",
       "        vertical-align: middle;\n",
       "    }\n",
       "\n",
       "    .dataframe tbody tr th {\n",
       "        vertical-align: top;\n",
       "    }\n",
       "\n",
       "    .dataframe thead th {\n",
       "        text-align: right;\n",
       "    }\n",
       "</style>\n",
       "<table border=\"1\" class=\"dataframe\">\n",
       "  <thead>\n",
       "    <tr style=\"text-align: right;\">\n",
       "      <th></th>\n",
       "      <th>condition</th>\n",
       "      <th>number_of_changed_units_x</th>\n",
       "      <th>proportion_of_changed_units_x</th>\n",
       "      <th>number_of_changed_units_y</th>\n",
       "      <th>proportion_of_changed_units_y</th>\n",
       "      <th>number_of_changed_units</th>\n",
       "      <th>proportion_of_changed_units</th>\n",
       "    </tr>\n",
       "  </thead>\n",
       "  <tbody>\n",
       "    <tr>\n",
       "      <th>0</th>\n",
       "      <td>win_only</td>\n",
       "      <td>3.0</td>\n",
       "      <td>0.1</td>\n",
       "      <td>6</td>\n",
       "      <td>0.222222</td>\n",
       "      <td>9.0</td>\n",
       "      <td>0.157895</td>\n",
       "    </tr>\n",
       "    <tr>\n",
       "      <th>1</th>\n",
       "      <td>no_response_for_win_and_rewarded</td>\n",
       "      <td>27.0</td>\n",
       "      <td>0.9</td>\n",
       "      <td>5</td>\n",
       "      <td>0.185185</td>\n",
       "      <td>32.0</td>\n",
       "      <td>0.561404</td>\n",
       "    </tr>\n",
       "    <tr>\n",
       "      <th>2</th>\n",
       "      <td>loss_only</td>\n",
       "      <td>3.0</td>\n",
       "      <td>0.1</td>\n",
       "      <td>5</td>\n",
       "      <td>0.185185</td>\n",
       "      <td>8.0</td>\n",
       "      <td>0.140351</td>\n",
       "    </tr>\n",
       "    <tr>\n",
       "      <th>3</th>\n",
       "      <td>no_response_for_loss_and_omission</td>\n",
       "      <td>27.0</td>\n",
       "      <td>0.9</td>\n",
       "      <td>22</td>\n",
       "      <td>0.814815</td>\n",
       "      <td>49.0</td>\n",
       "      <td>0.859649</td>\n",
       "    </tr>\n",
       "    <tr>\n",
       "      <th>4</th>\n",
       "      <td>reward_only</td>\n",
       "      <td>0.0</td>\n",
       "      <td>0.0</td>\n",
       "      <td>11</td>\n",
       "      <td>0.407407</td>\n",
       "      <td>11.0</td>\n",
       "      <td>0.192982</td>\n",
       "    </tr>\n",
       "    <tr>\n",
       "      <th>5</th>\n",
       "      <td>both_reward_and_win</td>\n",
       "      <td>0.0</td>\n",
       "      <td>0.0</td>\n",
       "      <td>5</td>\n",
       "      <td>0.185185</td>\n",
       "      <td>5.0</td>\n",
       "      <td>0.087719</td>\n",
       "    </tr>\n",
       "  </tbody>\n",
       "</table>\n",
       "</div>"
      ],
      "text/plain": [
       "                           condition  number_of_changed_units_x  \\\n",
       "0                           win_only                        3.0   \n",
       "1   no_response_for_win_and_rewarded                       27.0   \n",
       "2                          loss_only                        3.0   \n",
       "3  no_response_for_loss_and_omission                       27.0   \n",
       "4                        reward_only                        0.0   \n",
       "5                both_reward_and_win                        0.0   \n",
       "\n",
       "   proportion_of_changed_units_x  number_of_changed_units_y  \\\n",
       "0                            0.1                          6   \n",
       "1                            0.9                          5   \n",
       "2                            0.1                          5   \n",
       "3                            0.9                         22   \n",
       "4                            0.0                         11   \n",
       "5                            0.0                          5   \n",
       "\n",
       "   proportion_of_changed_units_y  number_of_changed_units  \\\n",
       "0                       0.222222                      9.0   \n",
       "1                       0.185185                     32.0   \n",
       "2                       0.185185                      8.0   \n",
       "3                       0.814815                     49.0   \n",
       "4                       0.407407                     11.0   \n",
       "5                       0.185185                      5.0   \n",
       "\n",
       "   proportion_of_changed_units  \n",
       "0                     0.157895  \n",
       "1                     0.561404  \n",
       "2                     0.140351  \n",
       "3                     0.859649  \n",
       "4                     0.192982  \n",
       "5                     0.087719  "
      ]
     },
     "execution_count": 180,
     "metadata": {},
     "output_type": "execute_result"
    }
   ],
   "source": [
    "combined_df"
   ]
  },
  {
   "cell_type": "code",
   "execution_count": null,
   "id": "e5851c75-76e1-4b10-9d91-43ac3c9a730b",
   "metadata": {},
   "outputs": [],
   "source": [
    "combined_df.drop(combined_df.columns)"
   ]
  },
  {
   "cell_type": "code",
   "execution_count": 183,
   "id": "d0fb47f8-fb9f-498d-b173-b839b2b11c15",
   "metadata": {},
   "outputs": [],
   "source": [
    "combined_df[[\"condition\", \"number_of_changed_units\", \"proportion_of_changed_units\"]].to_csv(\"./combined_spike_wilcoxon.csv\")"
   ]
  },
  {
   "cell_type": "markdown",
   "id": "119af22e",
   "metadata": {},
   "source": []
  },
  {
   "cell_type": "markdown",
   "id": "fcf87c75",
   "metadata": {},
   "source": [
    "# Looking at the firing rate for each 100ms time bin"
   ]
  },
  {
   "cell_type": "code",
   "execution_count": null,
   "id": "86622973",
   "metadata": {},
   "outputs": [],
   "source": [
    "# The window to look before and after this many timestamps for a given tone\n",
    "time_stamp_window = trial_one_way_duration * sampling_rate\n",
    "# dictionary of the tonetime to a list of the good units\n",
    "within_interval_unit_times = defaultdict(list)\n",
    "\n",
    "# iterating through the timestamp of each good unit spike\n",
    "for index, time in enumerate(good_unit_times):\n",
    "    # getting the corresponding bin for the timestamp\n",
    "    current_bin = good_unit_bins[index]\n",
    "        \n",
    "    # checking number before\n",
    "    first_tone_time = tone_time_stamps[(current_bin - 1) % len(tone_time_stamps)]\n",
    "    # checking number after\n",
    "    second_tone_time = tone_time_stamps[(current_bin) % len(tone_time_stamps)]\n",
    "    \n",
    "    # Checking to see if the time is after the start of the tone window\n",
    "    # Checking to see if the time is before the end of the tone window\n",
    "    if time >= first_tone_time - time_stamp_window and time <= first_tone_time + time_stamp_window:\n",
    "        within_interval_unit_times[first_tone_time].append((first_tone_time, index, time, good_unit_all_ids[index]))\n",
    "    if time >= second_tone_time - time_stamp_window and time <= second_tone_time + time_stamp_window:\n",
    "        within_interval_unit_times[second_tone_time].append((second_tone_time, index, time, good_unit_all_ids[index]))\n",
    "\n",
    "#    # Print Statement to check work    \n",
    "#     if 0 == index % 100:\n",
    "#         print(\"Unit Timestamp: {}\".format(time))\n",
    "#         print(\"Bin: {}\".format(current_bin))\n",
    "#         print(\"First Tone Time: {}\".format(first_tone_time))\n",
    "#         print(\"Second Tone Time: {}\".format(second_tone_time))\n",
    "\n"
   ]
  },
  {
   "cell_type": "code",
   "execution_count": null,
   "id": "18b0469f",
   "metadata": {},
   "outputs": [],
   "source": [
    "for key, value in within_interval_unit_times.items():\n",
    "    print(key)\n",
    "    print(value[:10])\n",
    "    break"
   ]
  },
  {
   "cell_type": "markdown",
   "id": "42301602",
   "metadata": {},
   "source": [
    "## Seeing which 100ms bin each unit time belongs to"
   ]
  },
  {
   "cell_type": "markdown",
   "id": "6bf9eeba",
   "metadata": {},
   "source": [
    "- Creating bins for each 100ms time interval"
   ]
  },
  {
   "cell_type": "code",
   "execution_count": null,
   "id": "26de1d4f",
   "metadata": {},
   "outputs": [],
   "source": [
    "bin_duration = 0.1"
   ]
  },
  {
   "cell_type": "code",
   "execution_count": null,
   "id": "0a55fd17",
   "metadata": {},
   "outputs": [],
   "source": [
    "# Seeing how many bins are in the duration\n",
    "# 0.1 is for 0.1 seconds or 100 miliseconds\n",
    "bins_with_100ms_range = int(trial_one_way_duration / bin_duration)"
   ]
  },
  {
   "cell_type": "code",
   "execution_count": null,
   "id": "27bb8d0c",
   "metadata": {},
   "outputs": [],
   "source": [
    "bins_with_100ms_range"
   ]
  },
  {
   "cell_type": "code",
   "execution_count": null,
   "id": "38d30789",
   "metadata": {},
   "outputs": [],
   "source": [
    "sampling_rate"
   ]
  },
  {
   "cell_type": "code",
   "execution_count": null,
   "id": "4e1abd45",
   "metadata": {},
   "outputs": [],
   "source": [
    "tone_unit_time_to_interval = {}\n",
    "# Making a list of all the bins for each tone time stamp\n",
    "for time in tone_time_stamps:\n",
    "    tone_unit_time_to_interval[time] = [time + num * (bin_duration * sampling_rate) for num in range(bins_with_100ms_range * -1, bins_with_100ms_range)]"
   ]
  },
  {
   "cell_type": "code",
   "execution_count": null,
   "id": "8788770b",
   "metadata": {},
   "outputs": [],
   "source": [
    "len(tone_unit_time_to_interval[tone_time_stamps[0]])"
   ]
  },
  {
   "cell_type": "code",
   "execution_count": null,
   "id": "802315fd",
   "metadata": {},
   "outputs": [],
   "source": [
    "tone_unit_time_to_interval[tone_time_stamps[0]][:25]"
   ]
  },
  {
   "cell_type": "markdown",
   "id": "0ec232a5",
   "metadata": {},
   "source": [
    "- Seeing which bin the tone time fits into"
   ]
  },
  {
   "cell_type": "code",
   "execution_count": null,
   "id": "494b71e5",
   "metadata": {},
   "outputs": [],
   "source": [
    "all_bin_mapping = None\n",
    "for key, value in within_interval_unit_times.items():\n",
    "    unit_fire_time = [fire_time for tone_time, index, fire_time, unit_id in value]\n",
    "    unit_fire_bin = np.digitize(unit_fire_time, tone_unit_time_to_interval[key], right=True)\n",
    "    current_tone_bin_map = np.hstack((np.array(value), unit_fire_bin[np.newaxis].T))\n",
    "    if all_bin_mapping is None:\n",
    "        all_bin_mapping = current_tone_bin_map\n",
    "    else: \n",
    "        all_bin_mapping = np.vstack((all_bin_mapping, current_tone_bin_map))\n",
    "    "
   ]
  },
  {
   "cell_type": "code",
   "execution_count": null,
   "id": "8a286308",
   "metadata": {},
   "outputs": [],
   "source": [
    "all_bin_mapping[:5]"
   ]
  },
  {
   "cell_type": "code",
   "execution_count": null,
   "id": "d213920f",
   "metadata": {},
   "outputs": [],
   "source": [
    "all_bin_mapping[-5:]"
   ]
  },
  {
   "cell_type": "markdown",
   "id": "d0635ba4",
   "metadata": {},
   "source": [
    "## Calculating Firing Rate"
   ]
  },
  {
   "cell_type": "code",
   "execution_count": null,
   "id": "e6ee143b",
   "metadata": {},
   "outputs": [],
   "source": [
    "from collections import Counter, defaultdict"
   ]
  },
  {
   "cell_type": "markdown",
   "id": "ccdfc450",
   "metadata": {},
   "source": [
    "- Creating a reference for all the tone bin combinations to each tone\n",
    "    - This is because we need a unique identifier for each tone and bin combination. So we will just add the numbers"
   ]
  },
  {
   "cell_type": "code",
   "execution_count": null,
   "id": "0b709476",
   "metadata": {},
   "outputs": [],
   "source": [
    "tone_bin_for_index = all_bin_mapping[:,0] + all_bin_mapping[:,4]"
   ]
  },
  {
   "cell_type": "code",
   "execution_count": null,
   "id": "5a530aea",
   "metadata": {},
   "outputs": [],
   "source": [
    "tone_bin_to_tone = np.hstack((tone_bin_for_index[np.newaxis].T, all_bin_mapping[:,0][np.newaxis].T))"
   ]
  },
  {
   "cell_type": "code",
   "execution_count": null,
   "id": "9ad336e6",
   "metadata": {},
   "outputs": [],
   "source": [
    "tone_bin_to_tone"
   ]
  },
  {
   "cell_type": "code",
   "execution_count": null,
   "id": "013c64b4",
   "metadata": {},
   "outputs": [],
   "source": [
    "tone_bin_to_tone = dict(zip(tone_bin_to_tone[:,0], tone_bin_to_tone[:,1]))"
   ]
  },
  {
   "cell_type": "code",
   "execution_count": null,
   "id": "3c8c006b",
   "metadata": {},
   "outputs": [],
   "source": [
    "tone_bin_to_tone"
   ]
  },
  {
   "cell_type": "code",
   "execution_count": null,
   "id": "13a1dc76",
   "metadata": {},
   "outputs": [],
   "source": [
    "tone_bin_for_index"
   ]
  },
  {
   "cell_type": "markdown",
   "id": "5709c755",
   "metadata": {},
   "source": [
    "- Getting the number of times each neuron fires"
   ]
  },
  {
   "cell_type": "code",
   "execution_count": null,
   "id": "aee15c68",
   "metadata": {},
   "outputs": [],
   "source": [
    "firing_counts = defaultdict(lambda: defaultdict(dict))\n",
    "for tone_time, index, firing_time, unit_id, bin_index in all_bin_mapping:\n",
    "    tone_bin = tone_time + bin_index\n",
    "    if firing_counts[unit_id][tone_bin]:\n",
    "        firing_counts[unit_id][tone_bin] += 1\n",
    "    else:\n",
    "        firing_counts[unit_id][tone_bin] = 1"
   ]
  },
  {
   "cell_type": "code",
   "execution_count": null,
   "id": "a78952ef",
   "metadata": {},
   "outputs": [],
   "source": [
    "firing_rate_df = pd.DataFrame.from_dict(firing_counts)"
   ]
  },
  {
   "cell_type": "code",
   "execution_count": null,
   "id": "2a956bfa",
   "metadata": {},
   "outputs": [],
   "source": [
    "firing_rate_df = firing_rate_df.fillna(value=0)"
   ]
  },
  {
   "cell_type": "code",
   "execution_count": null,
   "id": "b631a183",
   "metadata": {
    "scrolled": true
   },
   "outputs": [],
   "source": [
    "firing_rate_df.head()"
   ]
  },
  {
   "cell_type": "code",
   "execution_count": null,
   "id": "1a8e0b11",
   "metadata": {},
   "outputs": [],
   "source": [
    "firing_rate_df.loc[:].values"
   ]
  },
  {
   "cell_type": "markdown",
   "id": "c5872767",
   "metadata": {},
   "source": [
    "- Classifying each time stamp"
   ]
  },
  {
   "cell_type": "code",
   "execution_count": null,
   "id": "181f5166",
   "metadata": {},
   "outputs": [],
   "source": [
    "all_bin_mapping"
   ]
  },
  {
   "cell_type": "code",
   "execution_count": null,
   "id": "6db70a03",
   "metadata": {},
   "outputs": [],
   "source": [
    "all_bin_mapping[:, 0]"
   ]
  },
  {
   "cell_type": "code",
   "execution_count": null,
   "id": "307360d1",
   "metadata": {},
   "outputs": [],
   "source": [
    "all_bin_mapping[:, 2]"
   ]
  },
  {
   "cell_type": "markdown",
   "id": "a4719c1b",
   "metadata": {},
   "source": [
    "- Making a dictionary that maps all the firing times to the corresponding tone"
   ]
  },
  {
   "cell_type": "code",
   "execution_count": null,
   "id": "955641d5",
   "metadata": {},
   "outputs": [],
   "source": [
    "fire_to_tone_time = dict(zip(all_bin_mapping[:, 2], all_bin_mapping[:, 0]))"
   ]
  },
  {
   "cell_type": "code",
   "execution_count": null,
   "id": "ffbb7bc7",
   "metadata": {},
   "outputs": [],
   "source": [
    "fire_to_tone_time"
   ]
  },
  {
   "cell_type": "code",
   "execution_count": null,
   "id": "5be34189",
   "metadata": {},
   "outputs": [],
   "source": [
    "firing_rate_df = firing_rate_df.reset_index()"
   ]
  },
  {
   "cell_type": "markdown",
   "id": "77d8e122",
   "metadata": {},
   "source": [
    "- Labeling which tone time that fire time belongs to"
   ]
  },
  {
   "cell_type": "code",
   "execution_count": null,
   "id": "bc9795d6",
   "metadata": {},
   "outputs": [],
   "source": [
    "firing_rate_df[\"tone_time\"] = firing_rate_df[\"index\"].map(tone_bin_to_tone)"
   ]
  },
  {
   "cell_type": "code",
   "execution_count": null,
   "id": "7feabbb1",
   "metadata": {},
   "outputs": [],
   "source": [
    "firing_rate_df.head()"
   ]
  },
  {
   "cell_type": "code",
   "execution_count": null,
   "id": "c37269b1",
   "metadata": {},
   "outputs": [],
   "source": [
    "firing_rate_df[\"bin\"] = firing_rate_df[\"index\"] - firing_rate_df[\"tone_time\"]"
   ]
  },
  {
   "cell_type": "markdown",
   "id": "85ef486a",
   "metadata": {},
   "source": [
    "## Categorizing Rewarded vs Omitted for Training"
   ]
  },
  {
   "cell_type": "code",
   "execution_count": null,
   "id": "6a5a4697",
   "metadata": {
    "scrolled": true
   },
   "outputs": [],
   "source": [
    "tone_time_stamps_df"
   ]
  },
  {
   "cell_type": "code",
   "execution_count": null,
   "id": "085b7bf0",
   "metadata": {},
   "outputs": [],
   "source": [
    "\n",
    "tone_timestamp_to_trial_type = pd.Series(tone_time_stamps_df[\"tone_category\"].values, index=tone_time_stamps_df[\"tone_time_stamp\"]).to_dict()"
   ]
  },
  {
   "cell_type": "code",
   "execution_count": null,
   "id": "b5d93ed4",
   "metadata": {
    "scrolled": true
   },
   "outputs": [],
   "source": [
    "tone_timestamp_to_trial_type"
   ]
  },
  {
   "cell_type": "code",
   "execution_count": null,
   "id": "c21e9a02",
   "metadata": {},
   "outputs": [],
   "source": [
    "firing_rate_df[\"tone_label\"] = firing_rate_df[\"tone_time\"].map(tone_timestamp_to_trial_type)"
   ]
  },
  {
   "cell_type": "markdown",
   "id": "ca7ce881",
   "metadata": {},
   "source": [
    "## Categorizing win vs loss for competition"
   ]
  },
  {
   "cell_type": "code",
   "execution_count": null,
   "id": "3237a46e",
   "metadata": {},
   "outputs": [],
   "source": [
    "firing_rate_df.head()"
   ]
  },
  {
   "cell_type": "markdown",
   "id": "7efab01a",
   "metadata": {},
   "source": [
    "- We will be averaging using the bin number, because we are curious about how the firing rate changes 10 seconds before and after at each 100ms bin(averaging across sessions)\n",
    "    - And we will be averaging across trials that have the same trial type"
   ]
  },
  {
   "cell_type": "code",
   "execution_count": null,
   "id": "397167bd",
   "metadata": {
    "scrolled": true
   },
   "outputs": [],
   "source": [
    "averaged_firing_rate_df = firing_rate_df.groupby(['bin', 'tone_label']).mean()"
   ]
  },
  {
   "cell_type": "code",
   "execution_count": null,
   "id": "f816290f",
   "metadata": {},
   "outputs": [],
   "source": [
    "averaged_firing_rate_df"
   ]
  },
  {
   "cell_type": "code",
   "execution_count": null,
   "id": "a3d981b4",
   "metadata": {},
   "outputs": [],
   "source": [
    "averaged_firing_rate_df = averaged_firing_rate_df.reset_index()"
   ]
  },
  {
   "cell_type": "code",
   "execution_count": null,
   "id": "41e3123f",
   "metadata": {},
   "outputs": [],
   "source": [
    "averaged_firing_rate_df"
   ]
  },
  {
   "cell_type": "code",
   "execution_count": null,
   "id": "c66db20b",
   "metadata": {},
   "outputs": [],
   "source": [
    "averaged_firing_rate_df[\"tone_label\"].unique()"
   ]
  },
  {
   "cell_type": "markdown",
   "id": "3315d6e9",
   "metadata": {},
   "source": [
    "- Removing all the columns that don't have firing rate info\n",
    "    - AKA the index and the tone time"
   ]
  },
  {
   "cell_type": "code",
   "execution_count": null,
   "id": "b8589578",
   "metadata": {},
   "outputs": [],
   "source": [
    "numerical_columns = [col for col in averaged_firing_rate_df.columns if type(col) == int]"
   ]
  },
  {
   "cell_type": "markdown",
   "id": "64cd047d",
   "metadata": {},
   "source": [
    "- Transposing so that we get the spike unit number as the row, and the bin and trial type as the column"
   ]
  },
  {
   "cell_type": "code",
   "execution_count": null,
   "id": "5abb5196",
   "metadata": {},
   "outputs": [],
   "source": [
    "transposed_averaged_firing_rate_df = averaged_firing_rate_df[numerical_columns].transpose()"
   ]
  },
  {
   "cell_type": "code",
   "execution_count": null,
   "id": "01d7123d",
   "metadata": {},
   "outputs": [],
   "source": [
    "transposed_averaged_firing_rate_df = transposed_averaged_firing_rate_df.reset_index()"
   ]
  },
  {
   "cell_type": "code",
   "execution_count": null,
   "id": "563af7c2",
   "metadata": {},
   "outputs": [],
   "source": [
    "transposed_averaged_firing_rate_df = transposed_averaged_firing_rate_df.sort_values([\"index\"]).reset_index(drop=True)"
   ]
  },
  {
   "cell_type": "code",
   "execution_count": null,
   "id": "388ef624",
   "metadata": {},
   "outputs": [],
   "source": [
    "transposed_averaged_firing_rate_df"
   ]
  },
  {
   "cell_type": "code",
   "execution_count": null,
   "id": "c8aac2b6",
   "metadata": {},
   "outputs": [],
   "source": [
    "resetted_averaged_firing_rate_array = transposed_averaged_firing_rate_df.values"
   ]
  },
  {
   "cell_type": "code",
   "execution_count": null,
   "id": "20847fbe",
   "metadata": {},
   "outputs": [],
   "source": [
    "resetted_averaged_firing_rate_array"
   ]
  },
  {
   "cell_type": "markdown",
   "id": "d2b938cb",
   "metadata": {},
   "source": [
    "# PCA with Neuron Rows"
   ]
  },
  {
   "cell_type": "markdown",
   "id": "fea4fe17",
   "metadata": {},
   "source": [
    "## Standarizing the Data"
   ]
  },
  {
   "cell_type": "markdown",
   "id": "442f7c72",
   "metadata": {},
   "source": [
    "- TODO: Check why the 0s are being scaled differently"
   ]
  },
  {
   "cell_type": "code",
   "execution_count": null,
   "id": "2285ba5f",
   "metadata": {},
   "outputs": [],
   "source": [
    "from sklearn.preprocessing import StandardScaler"
   ]
  },
  {
   "cell_type": "code",
   "execution_count": null,
   "id": "6845205b",
   "metadata": {
    "scrolled": true
   },
   "outputs": [],
   "source": [
    "# Separating out the features\n",
    "x = resetted_averaged_firing_rate_array#.loc[:].values# Separating out the target\n",
    "resetted_averaged_firing_rate_array = StandardScaler().fit_transform(x)"
   ]
  },
  {
   "cell_type": "markdown",
   "id": "7562c655",
   "metadata": {},
   "source": [
    "## Calculating the PCA"
   ]
  },
  {
   "cell_type": "code",
   "execution_count": null,
   "id": "9bbae768",
   "metadata": {},
   "outputs": [],
   "source": [
    "from sklearn.decomposition import PCA\n"
   ]
  },
  {
   "cell_type": "code",
   "execution_count": null,
   "id": "4e915d3f",
   "metadata": {},
   "outputs": [],
   "source": [
    "pca = PCA(n_components=2)\n",
    "principalComponents = pca.fit_transform(resetted_averaged_firing_rate_array)\n",
    "principal_df = pd.DataFrame(data = principalComponents\n",
    "             , columns = ['principal component 1', 'principal component 2'])"
   ]
  },
  {
   "cell_type": "code",
   "execution_count": null,
   "id": "ca09a5cb",
   "metadata": {},
   "outputs": [],
   "source": [
    "principal_df.head()"
   ]
  },
  {
   "cell_type": "code",
   "execution_count": null,
   "id": "4a9d314d",
   "metadata": {},
   "outputs": [],
   "source": [
    "principal_df[\"principal component 1\"]"
   ]
  },
  {
   "cell_type": "code",
   "execution_count": null,
   "id": "bb5f8e36",
   "metadata": {},
   "outputs": [],
   "source": [
    "pc1_product = transposed_averaged_firing_rate_df.reset_index().multiply(principal_df[\"principal component 1\"], axis=\"index\")"
   ]
  },
  {
   "cell_type": "code",
   "execution_count": null,
   "id": "f5a542dc",
   "metadata": {},
   "outputs": [],
   "source": [
    "pc1_product"
   ]
  },
  {
   "cell_type": "code",
   "execution_count": null,
   "id": "495695bf",
   "metadata": {
    "scrolled": true
   },
   "outputs": [],
   "source": [
    "pc1_product.mean()"
   ]
  },
  {
   "cell_type": "code",
   "execution_count": null,
   "id": "e7362ed2",
   "metadata": {},
   "outputs": [],
   "source": [
    "pc2_product = transposed_averaged_firing_rate_df.reset_index().multiply(principal_df[\"principal component 2\"], axis=\"index\")"
   ]
  },
  {
   "cell_type": "code",
   "execution_count": null,
   "id": "5d57f376",
   "metadata": {},
   "outputs": [],
   "source": [
    "pc2_product"
   ]
  },
  {
   "cell_type": "code",
   "execution_count": null,
   "id": "4b3b9542",
   "metadata": {},
   "outputs": [],
   "source": [
    "pc2_product.mean()"
   ]
  },
  {
   "cell_type": "code",
   "execution_count": null,
   "id": "49cc15e4",
   "metadata": {},
   "outputs": [],
   "source": [
    "pc_product = pd.concat([pc1_product.mean(), pc2_product.mean()], axis=1).reset_index()"
   ]
  },
  {
   "cell_type": "code",
   "execution_count": null,
   "id": "6e883e44",
   "metadata": {},
   "outputs": [],
   "source": [
    "pc_product = pc_product[pc_product[\"bin\"].apply(lambda x: isinstance(x, int))]\n"
   ]
  },
  {
   "cell_type": "code",
   "execution_count": null,
   "id": "efe28778",
   "metadata": {},
   "outputs": [],
   "source": [
    "pc_product[\"before_during_after\"] = pc_product[\"bin\"].apply(lambda x: \"-5s to 0s\" if x < 50 else (\"0s to 5s\" if 50 <= x < 100 else \"5s to 10s\"))"
   ]
  },
  {
   "cell_type": "code",
   "execution_count": null,
   "id": "2b552c9f",
   "metadata": {},
   "outputs": [],
   "source": [
    "pc_product"
   ]
  },
  {
   "cell_type": "code",
   "execution_count": null,
   "id": "699a02e5",
   "metadata": {},
   "outputs": [],
   "source": [
    "pc_product[\"outcome_and_when\"] = pc_product.apply(lambda x: x[\"before_during_after\"] + \" \" + x[\"tone_label\"], axis=1)"
   ]
  },
  {
   "cell_type": "code",
   "execution_count": null,
   "id": "43127d95",
   "metadata": {},
   "outputs": [],
   "source": [
    "pc_product"
   ]
  },
  {
   "cell_type": "code",
   "execution_count": null,
   "id": "4035968f",
   "metadata": {},
   "outputs": [],
   "source": [
    "omission_categories = [name for name in sorted(pc_product[\"outcome_and_when\"].unique()) if \"omission\" in name]\n",
    "rewarded_categories = [name for name in sorted(pc_product[\"outcome_and_when\"].unique()) if \"rewarded\" in name]\n",
    "win_categories = [name for name in sorted(pc_product[\"outcome_and_when\"].unique()) if \"win\" in name]\n",
    "loss_categories = [name for name in sorted(pc_product[\"outcome_and_when\"].unique()) if \"loss\" in name]\n"
   ]
  },
  {
   "cell_type": "code",
   "execution_count": null,
   "id": "cd829ff3",
   "metadata": {},
   "outputs": [],
   "source": [
    "omission_pc = pc_product[pc_product[\"tone_label\"] == \"Omission\"]"
   ]
  },
  {
   "cell_type": "code",
   "execution_count": null,
   "id": "1f64a2e7",
   "metadata": {},
   "outputs": [],
   "source": [
    "omission_pc"
   ]
  },
  {
   "cell_type": "code",
   "execution_count": null,
   "id": "7caf037b",
   "metadata": {},
   "outputs": [],
   "source": [
    "averaged_omission_pc = omission_pc.groupby(np.arange(len(omission_pc))//3).mean().reset_index()"
   ]
  },
  {
   "cell_type": "code",
   "execution_count": null,
   "id": "36c577b6",
   "metadata": {},
   "outputs": [],
   "source": [
    "averaged_omission_pc"
   ]
  },
  {
   "cell_type": "code",
   "execution_count": null,
   "id": "ac037aba",
   "metadata": {},
   "outputs": [],
   "source": [
    "rewarded_pc = pc_product[pc_product[\"rewarded_omission_win_loss_catgeory\"] == \"Rewarded\"]"
   ]
  },
  {
   "cell_type": "code",
   "execution_count": null,
   "id": "78e8dae8",
   "metadata": {},
   "outputs": [],
   "source": [
    "averaged_rewarded_pc = rewarded_pc.groupby(np.arange(len(omission_pc))//3).mean().reset_index()"
   ]
  },
  {
   "cell_type": "code",
   "execution_count": null,
   "id": "a181932a",
   "metadata": {},
   "outputs": [],
   "source": [
    "plt.scatter(averaged_omission_pc[0], averaged_omission_pc[1], c=averaged_omission_pc[\"index\"], cmap='Reds')\n",
    "plt.scatter(averaged_rewarded_pc[0], averaged_rewarded_pc[1], c=averaged_rewarded_pc[\"index\"], cmap='Greens')\n",
    "\n",
    "plt.show()"
   ]
  },
  {
   "cell_type": "code",
   "execution_count": null,
   "id": "d88ce3c4",
   "metadata": {},
   "outputs": [],
   "source": [
    "plt.plot(averaged_omission_pc[0], averaged_omission_pc[1], '-o', c=\"red\")\n",
    "plt.plot(averaged_rewarded_pc[0], averaged_rewarded_pc[1], '-o', c=\"blue\")\n",
    "\n",
    "plt.show()"
   ]
  },
  {
   "cell_type": "code",
   "execution_count": null,
   "id": "8798e80e",
   "metadata": {},
   "outputs": [],
   "source": [
    "all_categories = sorted(pc_product[\"outcome_and_when\"].unique())"
   ]
  },
  {
   "cell_type": "code",
   "execution_count": null,
   "id": "f60ca106",
   "metadata": {},
   "outputs": [],
   "source": [
    "all_categories"
   ]
  },
  {
   "cell_type": "code",
   "execution_count": null,
   "id": "70f8ce31",
   "metadata": {},
   "outputs": [],
   "source": [
    "win: blue\n",
    "loss: yellow\n",
    "rewarded: green\n",
    "omission: red"
   ]
  },
  {
   "cell_type": "code",
   "execution_count": null,
   "id": "dd166149",
   "metadata": {},
   "outputs": [],
   "source": [
    "all_colors = [\"gold\", \"pink\", \"lightgreen\", \"lightblue\", \"orange\", \"red\", \"green\", \"cyan\", \"darkorange\", \"darkred\", \"darkgreen\", \"darkcyan\"]\n"
   ]
  },
  {
   "cell_type": "code",
   "execution_count": null,
   "id": "a717bd7c",
   "metadata": {
    "scrolled": true
   },
   "outputs": [],
   "source": [
    "fig = plt.figure(figsize = (8,8))\n",
    "ax = fig.add_subplot(1,1,1) \n",
    "ax.set_xlabel('principal component 1', fontsize = 15)\n",
    "ax.set_ylabel('principal component 2', fontsize = 15)\n",
    "ax.set_title('2 component PCA', fontsize = 20)\n",
    "targets = rewarded_categories\n",
    "colors = [\"lightblue\", \"cyan\", \"darkcyan\"]\n",
    "for target, color in zip(all_categories, all_colors):\n",
    "    indicesToKeep = pc_product['outcome_and_when'] == target\n",
    "    ax.scatter(pc_product.loc[indicesToKeep, 0]\n",
    "               , pc_product.loc[indicesToKeep, 1]\n",
    "               , c = color\n",
    "               , s = 50)\n",
    "ax.legend(all_categories)\n",
    "ax.grid()"
   ]
  },
  {
   "cell_type": "markdown",
   "id": "85123ae0",
   "metadata": {},
   "source": [
    "## Looking at each plot individually across time"
   ]
  },
  {
   "cell_type": "code",
   "execution_count": null,
   "id": "7298100f",
   "metadata": {
    "scrolled": true
   },
   "outputs": [],
   "source": [
    "fig = plt.figure(figsize = (8,8))\n",
    "ax = fig.add_subplot(1,1,1) \n",
    "ax.set_xlabel('principal component 1', fontsize = 15)\n",
    "ax.set_ylabel('principal component 2', fontsize = 15)\n",
    "ax.set_title('2 component PCA', fontsize = 20)\n",
    "targets = omission_categories\n",
    "colors = [\"pink\", \"red\", \"darkred\"]\n",
    "for target, color in zip(targets,colors):\n",
    "    indicesToKeep = pc_product['outcome_and_when'] == target\n",
    "    ax.scatter(pc_product.loc[indicesToKeep, 0]\n",
    "               , pc_product.loc[indicesToKeep, 1]\n",
    "               , c = color\n",
    "               , s = 50)\n",
    "ax.legend(targets)\n",
    "ax.grid()"
   ]
  },
  {
   "cell_type": "code",
   "execution_count": null,
   "id": "67c19a38",
   "metadata": {},
   "outputs": [],
   "source": []
  },
  {
   "cell_type": "code",
   "execution_count": null,
   "id": "1df3c30c",
   "metadata": {},
   "outputs": [],
   "source": [
    "fig = plt.figure(figsize = (8,8))\n",
    "ax = fig.add_subplot(1,1,1) \n",
    "ax.set_xlabel('principal component 1', fontsize = 15)\n",
    "ax.set_ylabel('principal component 2', fontsize = 15)\n",
    "ax.set_title('2 component PCA', fontsize = 20)\n",
    "targets = rewarded_categories\n",
    "colors = [\"lightgreen\", \"green\", \"darkgreen\"]\n",
    "for target, color in zip(targets,colors):\n",
    "    indicesToKeep = pc_product['outcome_and_when'] == target\n",
    "    ax.scatter(pc_product.loc[indicesToKeep, 0]\n",
    "               , pc_product.loc[indicesToKeep, 1]\n",
    "               , c = color\n",
    "               , s = 50)\n",
    "ax.legend(targets)\n",
    "ax.grid()"
   ]
  },
  {
   "cell_type": "code",
   "execution_count": null,
   "id": "6978f4c7",
   "metadata": {},
   "outputs": [],
   "source": [
    "fig = plt.figure(figsize = (8,8))\n",
    "ax = fig.add_subplot(1,1,1) \n",
    "ax.set_xlabel('principal component 1', fontsize = 15)\n",
    "ax.set_ylabel('principal component 2', fontsize = 15)\n",
    "ax.set_title('2 component PCA', fontsize = 20)\n",
    "targets = win_categories\n",
    "colors = [\"lightblue\", \"cyan\", \"darkcyan\"]\n",
    "for target, color in zip(targets,colors):\n",
    "    indicesToKeep = pc_product['outcome_and_when'] == target\n",
    "    ax.scatter(pc_product.loc[indicesToKeep, 0]\n",
    "               , pc_product.loc[indicesToKeep, 1]\n",
    "               , c = color\n",
    "               , s = 50)\n",
    "ax.legend(targets)\n",
    "ax.grid()"
   ]
  },
  {
   "cell_type": "code",
   "execution_count": null,
   "id": "85ea886a",
   "metadata": {},
   "outputs": [],
   "source": [
    "fig = plt.figure(figsize = (8,8))\n",
    "ax = fig.add_subplot(1,1,1) \n",
    "ax.set_xlabel('principal component 1', fontsize = 15)\n",
    "ax.set_ylabel('principal component 2', fontsize = 15)\n",
    "ax.set_title('2 component PCA', fontsize = 20)\n",
    "targets = loss_categories\n",
    "colors = [\"gold\", \"orange\", \"darkorange\"]\n",
    "for target, color in zip(targets,colors):\n",
    "    indicesToKeep = pc_product['outcome_and_when'] == target\n",
    "    ax.scatter(pc_product.loc[indicesToKeep, 0]\n",
    "               , pc_product.loc[indicesToKeep, 1]\n",
    "               , c = color\n",
    "               , s = 50)\n",
    "ax.legend(targets)\n",
    "ax.grid()"
   ]
  },
  {
   "cell_type": "code",
   "execution_count": null,
   "id": "c3a72e97",
   "metadata": {
    "scrolled": true
   },
   "outputs": [],
   "source": [
    "Message List\n",
    "\n",
    "    Monday\n",
    "    Hey Nancy! Sounds like a plan with processi... by Iwata,Ryo L\n",
    "    Iwata,Ryo LMonday 2:40 PM\n",
    "\n",
    "    Hey Nancy! Sounds like a plan with processing the other recordings! Would there be an opportunity to record from other animals? I know it'll take at least a month with surgerys and training the mice. If not, then I'll try thinking of other things to look at with our current recordings like incorporating SLEAP and what not.\n",
    "\n",
    "     \n",
    "\n",
    "    As for hours, I didn't have the chance to work this weekend. But will update you before with any extra hours I do this week or weekend.\n",
    "    Profile picture of Padilla-Coreano, Nancy.\n",
    "    how many good recordings do you have? I thi... by Padilla-Coreano, Nancy\n",
    "    Padilla-Coreano, NancyMonday 2:44 PM\n",
    "\n",
    "    how many good recordings do you have? I think you had 2 good animals and ran them against all their cagemates, so it should be 6 good recordings from 2 mice?\n",
    "    6 recordings is not a lot but could be enou... by Padilla-Coreano, Nancy\n",
    "    Padilla-Coreano, Nancy\n",
    "    Monday 2:45 PM\n",
    "\n",
    "    6 recordings is not a lot but could be enough for the poster\n",
    "    start processing together the alone+comp se... by Padilla-Coreano, Nancy\n",
    "    Padilla-Coreano, Nancy\n",
    "    Monday 2:46 PM\n",
    "\n",
    "    start processing together the alone+comp sessions for those 6 good recordings and i will make a meeting with you where we will make a game plan for the analysis. The meeting wont be until Jan 19 because I have to focus on this presentation but till then its a good idea to 1. spike sort all the good sessions 2. try to run videos in sleap\n",
    "    Tuesday\n",
    "    Profile picture of Padilla-Coreano, Nancy.\n",
    "    hey Leo, can you remind me when is your pos... by Padilla-Coreano, Nancy\n",
    "    Padilla-Coreano, NancyTuesday 3:42 PM\n",
    "\n",
    "    hey Leo, can you remind me when is your poster presentation in the UF research day?\n",
    "    It's on February 28th, thank you for checki... by Iwata,Ryo L\n",
    "    Iwata,Ryo LTuesday 5:37 PM\n",
    "\n",
    "    It's on February 28th, thank you for checking in about that! I can make a rough timeline today or tomorrow, and have you make corrections or suggestions if that works.\n",
    "\n",
    "Yesterday\n",
    "Hey Nancy! Here's the tentative plans I had... by Iwata,Ryo L\n",
    "Iwata,Ryo LYesterday 5:38 PM\n",
    "\n",
    "Hey Nancy! Here's the tentative plans I had for the poster: https://garnet-rotate-01f.notion.site/UF-MED-Poster-Timeline-64cfc246010f4b8ab1aae2abd53b721d\n",
    "\n",
    " \n",
    "\n",
    "I still need to read up/think of ways to analyze the ephys and the SLEAP data. So I'll add more as things come up. But it includes a rough timeline I had in mind. I've finished the spike sorting for the ephys recordings and currently trying to get the the predictions for SLEAP on the competition videos that I've reencoded. I'm not sure about the quality of the spike sorting or the ephys recording, so I'll send you some photos or show you after our meetings tomorrow.\n",
    "Url Preview for UF MED Poster Timeline\n",
    "UF MED Poster Timeline\n",
    "\n",
    "https://research.med.ufl.edu/2023-com-celebration-of-research/\n",
    "garnet-rotate-01f.notion.site\n",
    "Profile picture of Padilla-Coreano, Nancy.\n",
    "I will look at them closely tomorrow mornin by Padilla-Coreano, Nancy\n",
    "Padilla-Coreano, NancyYesterday 5:58 PM\n",
    "\n",
    "I will look at them closely tomorrow morning\n",
    "in the meantime I have a favor to ask. I ne... by Padilla-Coreano, Nancy\n",
    "Padilla-Coreano, Nancy\n",
    "Yesterday 5:58 PM\n",
    "\n",
    "in the meantime I have a favor to ask. I need an example of all the LFPs we recorded simultaneously from different brain regions\n",
    "I think its 4 regions? by Padilla-Coreano, Nancy\n",
    "Padilla-Coreano, Nancy\n",
    "Yesterday 5:59 PM\n",
    "\n",
    "I think its 4 regions?\n",
    "or 5? by Padilla-Coreano, Nancy\n",
    "Padilla-Coreano, Nancy\n",
    "Yesterday 5:59 PM\n",
    "\n",
    "or 5?\n",
    "counting the mPFC by Padilla-Coreano, Nancy\n",
    "Padilla-Coreano, Nancy\n",
    "Yesterday 5:59 PM\n",
    "\n",
    "counting the mPFC\n",
    "Ill make a cartoon tomorrow morning so you ... by Padilla-Coreano, Nancy\n",
    "Padilla-Coreano, Nancy\n",
    "Yesterday 5:59 PM\n",
    "\n",
    "Ill make a cartoon tomorrow morning so you know how to make the plot\n",
    "its for my talk, so i need it asap! by Padilla-Coreano, Nancy\n",
    "Padilla-Coreano, Nancy\n",
    "Yesterday 5:59 PM\n",
    "\n",
    "its for my talk, so i need it asap!\n",
    "im recording the final version Wed morning ... by Padilla-Coreano, Nancy\n",
    "Padilla-Coreano, Nancy\n",
    "Yesterday 6:00 PM\n",
    "\n",
    "im recording the final version Wed morning so it needs to be finalize by Monday so I can memorize it\n",
    "Today\n",
    "Sounds like a plan Nancy! Would it be a plo... by Iwata,Ryo L\n",
    "Iwata,Ryo L11:40 AM\n",
    "Sounds like a plan Nancy! Would it be a plot comparing the power for each condition and each region. And definitely can try to get it done by today so that you have the weekend to practice.\n",
    "Profile picture of Padilla-Coreano, Nancy.\n",
    "No its even simpler than that I left u ... by Padilla-Coreano, Nancy\n",
    "Padilla-Coreano, Nancy12:02 PM\n",
    "No its even simpler than that\n",
    "I left u written instructions on your desk\n",
    "Thank you!! by Padilla-Coreano, Nancy\n",
    "Padilla-Coreano, Nancy\n",
    "12:03 PM\n",
    "Thank you!!\n",
    "Hey Nancy! So for the LFP plots, I filtered... by Iwata,Ryo L\n",
    "Iwata,Ryo L4:13 PM\n",
    "Edited\n",
    "\n",
    "Hey Nancy! So for the LFP plots, I filtered for frequencies between 1 and 300. And then took the common median reference. I have it in my notes that the EIB channels for the brain regions were:\n",
    "\n",
    "    MD1, vHPC17, BLA16, LH15\n",
    "\n",
    "So that would make the channels on Trodes(Which I converted with your useful chart: https://garnet-rotate-01f.notion.site/7f0e40b5251e4176ad4673389d13a36b?v=3624312cf3db4ab694be679b360660fc) :\n",
    "\n",
    "    MD32, vHPC16, BLA17, LH16\n",
    "\n",
    "And to get the indexes in Spikeinterface, I just added 1 to each. I'll continue looking for a segment with good noise and reformat the plot. Let me know if there's any steps that I need to add or correct!\n",
    "\n",
    " \n",
    "\n",
    "image\n",
    "\n",
    " \n",
    "Url Preview for Mapping of channels from EIB32 narrow to spikegadgets\n",
    "Mapping of channels from EIB32 narrow to spikegadgets\n",
    "\n",
    "A new tool for teams & individuals that blends everyday work apps into one.\n",
    "garnet-rotate-01f.notion.site\n",
    "\n",
    "has context menu\n",
    "\n",
    "\n",
    "fig = plt.figure(figsize = (8,8))\n",
    "ax = fig.add_subplot(1,1,1) \n",
    "ax.set_xlabel('Principal Component 1', fontsize = 15)\n",
    "ax.set_ylabel('Principal Component 2', fontsize = 15)\n",
    "ax.set_title('2 component PCA', fontsize = 20)\n",
    "targets = ['-5s to 0s Omission', '-5s to 0s Rewarded', '-5s to 0s Loss', '-5s to 0s Win']\n",
    "colors = [\"pink\", \"lightgreen\", \"gold\", \"lightblue\"]\n",
    "for target, color in zip(targets,colors):\n",
    "    indicesToKeep = pc_product['outcome_and_when'] == target\n",
    "    ax.scatter(pc_product.loc[indicesToKeep, 0]\n",
    "               , pc_product.loc[indicesToKeep, 1]\n",
    "               , c = color\n",
    "               , s = 50)\n",
    "ax.legend(targets)\n",
    "ax.grid()"
   ]
  },
  {
   "cell_type": "code",
   "execution_count": null,
   "id": "5fc2d23b",
   "metadata": {
    "scrolled": true
   },
   "outputs": [],
   "source": [
    "fig = plt.figure(figsize = (8,8))\n",
    "ax = fig.add_subplot(1,1,1) \n",
    "ax.set_xlabel('Principal Component 1', fontsize = 15)\n",
    "ax.set_ylabel('Principal Component 2', fontsize = 15)\n",
    "ax.set_title('2 component PCA', fontsize = 20)\n",
    "targets = ['0s to 5s Omission', '0s to 5s Rewarded', '0s to 5s Loss', '0s to 5s Win']\n",
    "colors = [\"red\", \"green\", \"orange\", \"cyan\"]\n",
    "for target, color in zip(targets,colors):\n",
    "    indicesToKeep = pc_product['outcome_and_when'] == target\n",
    "    ax.scatter(pc_product.loc[indicesToKeep, 0]\n",
    "               , pc_product.loc[indicesToKeep, 1]\n",
    "               , c = color\n",
    "               , s = 50)\n",
    "ax.legend(targets)\n",
    "ax.grid()"
   ]
  },
  {
   "cell_type": "code",
   "execution_count": null,
   "id": "dd3b647c",
   "metadata": {},
   "outputs": [],
   "source": [
    "all_colors = [\"gold\", \"pink\", \"lightgreen\", \"lightblue\", \"orange\", \"red\", \"green\", \"cyan\", \"darkorange\", \"darkred\", \"darkgreen\", \"darkcyan\"]\n"
   ]
  },
  {
   "cell_type": "code",
   "execution_count": null,
   "id": "741c85fb",
   "metadata": {
    "scrolled": true
   },
   "outputs": [],
   "source": [
    "fig = plt.figure(figsize = (8,8))\n",
    "ax = fig.add_subplot(1,1,1) \n",
    "ax.set_xlabel('Principal Component 1', fontsize = 15)\n",
    "ax.set_ylabel('Principal Component 2', fontsize = 15)\n",
    "ax.set_title('2 component PCA', fontsize = 20)\n",
    "targets = ['5s to 10s Omission', '5s to 10s Rewarded', '5s to 10s Loss', '5s to 10s Win']\n",
    "colors = [\"darkred\", \"darkgreen\", \"darkorange\", \"darkcyan\"]\n",
    "for target, color in zip(targets,colors):\n",
    "    indicesToKeep = pc_product['outcome_and_when'] == target\n",
    "    ax.scatter(pc_product.loc[indicesToKeep, 0]\n",
    "               , pc_product.loc[indicesToKeep, 1]\n",
    "               , c = color\n",
    "               , s = 50)\n",
    "ax.legend(targets)\n",
    "ax.grid()"
   ]
  },
  {
   "cell_type": "code",
   "execution_count": null,
   "id": "50b12b3f",
   "metadata": {},
   "outputs": [],
   "source": []
  },
  {
   "cell_type": "code",
   "execution_count": null,
   "id": "f763021b",
   "metadata": {},
   "outputs": [],
   "source": []
  },
  {
   "cell_type": "code",
   "execution_count": null,
   "id": "0c360424",
   "metadata": {},
   "outputs": [],
   "source": []
  },
  {
   "cell_type": "code",
   "execution_count": null,
   "id": "cdb3efb0",
   "metadata": {},
   "outputs": [],
   "source": [
    "firing_rate_and_pca_df = pd.concat([transposed_averaged_firing_rate_df.reset_index(), principal_df], axis=1)"
   ]
  },
  {
   "cell_type": "code",
   "execution_count": null,
   "id": "2abed604",
   "metadata": {},
   "outputs": [],
   "source": [
    "firing_rate_and_pca_df"
   ]
  },
  {
   "cell_type": "code",
   "execution_count": null,
   "id": "ba20db8d",
   "metadata": {},
   "outputs": [],
   "source": [
    "firing_rate_and_pca_df"
   ]
  },
  {
   "cell_type": "code",
   "execution_count": null,
   "id": "45d506dc",
   "metadata": {
    "scrolled": true
   },
   "outputs": [],
   "source": [
    "principal_df.shape"
   ]
  },
  {
   "cell_type": "code",
   "execution_count": null,
   "id": "2ebd7402",
   "metadata": {},
   "outputs": [],
   "source": [
    "firing_rate_and_pca_df[\"before_during_after\"] = firing_rate_and_pca_df[\"bin\"].apply(lambda x: \"-5s to 0s\" if x < 50 else (\"0s to 5s\" if 50 <= x < 100 else \"5s to 10s\"))"
   ]
  },
  {
   "cell_type": "code",
   "execution_count": null,
   "id": "327f9ef1",
   "metadata": {},
   "outputs": [],
   "source": []
  },
  {
   "cell_type": "code",
   "execution_count": null,
   "id": "7b29cf00",
   "metadata": {},
   "outputs": [],
   "source": [
    "firing_rate_and_pca_df[\"outcome_and_when\"] = firing_rate_and_pca_df.apply(lambda x: x[\"before_during_after\"] + \" \" + x[\"rewarded_category\"], axis=1)"
   ]
  },
  {
   "cell_type": "code",
   "execution_count": null,
   "id": "f015cb45",
   "metadata": {
    "scrolled": true
   },
   "outputs": [],
   "source": [
    "firing_rate_and_pca_df"
   ]
  },
  {
   "cell_type": "code",
   "execution_count": null,
   "id": "5420107a",
   "metadata": {},
   "outputs": [],
   "source": [
    "sorted(firing_rate_and_pca_df[\"outcome_and_when\"].unique())"
   ]
  },
  {
   "cell_type": "code",
   "execution_count": null,
   "id": "e8301d6e",
   "metadata": {},
   "outputs": [],
   "source": []
  },
  {
   "cell_type": "code",
   "execution_count": null,
   "id": "bf10097e",
   "metadata": {},
   "outputs": [],
   "source": [
    "fig = plt.figure(figsize = (8,8))\n",
    "ax = fig.add_subplot(1,1,1) \n",
    "ax.set_xlabel('Principal Component 1', fontsize = 15)\n",
    "ax.set_ylabel('Principal Component 2', fontsize = 15)\n",
    "ax.set_title('2 component PCA', fontsize = 20)\n",
    "targets = omission_categories\n",
    "colors = [\"pink\", \"red\", \"darkred\"]\n",
    "for target, color in zip(targets,colors):\n",
    "    indicesToKeep = firing_rate_and_pca_df['outcome_and_when'] == target\n",
    "    ax.scatter(firing_rate_and_pca_df.loc[indicesToKeep, 'principal component 1']\n",
    "               , firing_rate_and_pca_df.loc[indicesToKeep, 'principal component 2']\n",
    "               , c = color\n",
    "               , s = 50)\n",
    "ax.legend(targets)\n",
    "ax.grid()"
   ]
  },
  {
   "cell_type": "code",
   "execution_count": null,
   "id": "2679ef49",
   "metadata": {},
   "outputs": [],
   "source": [
    "fig = plt.figure(figsize = (8,8))\n",
    "ax = fig.add_subplot(1,1,1) \n",
    "ax.set_xlabel('Principal Component 1', fontsize = 15)\n",
    "ax.set_ylabel('Principal Component 2', fontsize = 15)\n",
    "ax.set_title('2 component PCA', fontsize = 20)\n",
    "targets = omission_categories\n",
    "colors = [\"lightblue\", \"cyan\", \"darkcyan\"]\n",
    "for target, color in zip(targets,colors):\n",
    "    indicesToKeep = firing_rate_and_pca_df['outcome_and_when'] == target\n",
    "    ax.scatter(firing_rate_and_pca_df.loc[indicesToKeep, 'principal component 1']\n",
    "               , firing_rate_and_pca_df.loc[indicesToKeep, 'principal component 2']\n",
    "               , c = color\n",
    "               , s = 50)\n",
    "ax.legend(targets)\n",
    "ax.grid()"
   ]
  },
  {
   "cell_type": "code",
   "execution_count": null,
   "id": "85074b14",
   "metadata": {
    "scrolled": true
   },
   "outputs": [],
   "source": [
    "fig = plt.figure(figsize = (8,8))\n",
    "ax = fig.add_subplot(1,1,1) \n",
    "ax.set_xlabel('Principal Component 1', fontsize = 15)\n",
    "ax.set_ylabel('Principal Component 2', fontsize = 15)\n",
    "ax.set_title('2 component PCA', fontsize = 20)\n",
    "targets = omission_categories\n",
    "colors = [\"lightblue\", \"cyan\", \"darkcyan\"]\n",
    "for target, color in zip(targets,colors):\n",
    "    indicesToKeep = firing_rate_and_pca_df['outcome_and_when'] == target\n",
    "    ax.scatter(firing_rate_and_pca_df.loc[indicesToKeep, 'principal component 1']\n",
    "               , firing_rate_and_pca_df.loc[indicesToKeep, 'principal component 2']\n",
    "               , c = color\n",
    "               , s = 50)\n",
    "ax.legend(targets)\n",
    "ax.grid()"
   ]
  },
  {
   "cell_type": "code",
   "execution_count": null,
   "id": "abdd6564",
   "metadata": {},
   "outputs": [],
   "source": [
    "['-5s to 0s Omission',\n",
    " '-5s to 0s Rewarded',\n",
    " '0s to 5s Omission',\n",
    " '0s to 5s Rewarded',\n",
    " '5s to 10s Omission',\n",
    " '5s to 10s Rewarded']"
   ]
  },
  {
   "cell_type": "code",
   "execution_count": null,
   "id": "a6c072cf",
   "metadata": {},
   "outputs": [],
   "source": [
    "fig = plt.figure(figsize = (8,8))\n",
    "ax = fig.add_subplot(1,1,1) \n",
    "ax.set_xlabel('Principal Component 1', fontsize = 15)\n",
    "ax.set_ylabel('Principal Component 2', fontsize = 15)\n",
    "ax.set_title('2 component PCA', fontsize = 20)\n",
    "targets = ['-5s to 0s Omission', '-5s to 0s Rewarded']\n",
    "colors = [\"pink\", \"lightblue\"]\n",
    "for target, color in zip(targets,colors):\n",
    "    indicesToKeep = firing_rate_and_pca_df['outcome_and_when'] == target\n",
    "    ax.scatter(firing_rate_and_pca_df.loc[indicesToKeep, 'principal component 1']\n",
    "               , firing_rate_and_pca_df.loc[indicesToKeep, 'principal component 2']\n",
    "               , c = color\n",
    "               , s = 50)\n",
    "ax.legend(targets)\n",
    "ax.grid()"
   ]
  },
  {
   "cell_type": "code",
   "execution_count": null,
   "id": "99a617a2",
   "metadata": {},
   "outputs": [],
   "source": [
    "fig = plt.figure(figsize = (8,8))\n",
    "ax = fig.add_subplot(1,1,1) \n",
    "ax.set_xlabel('Principal Component 1', fontsize = 15)\n",
    "ax.set_ylabel('Principal Component 2', fontsize = 15)\n",
    "ax.set_title('2 component PCA', fontsize = 20)\n",
    "targets = ['0s to 5s Omission', '0s to 5s Rewarded']\n",
    "colors = [\"red\", \"cyan\"]\n",
    "for target, color in zip(targets,colors):\n",
    "    indicesToKeep = firing_rate_and_pca_df['outcome_and_when'] == target\n",
    "    ax.scatter(firing_rate_and_pca_df.loc[indicesToKeep, 'principal component 1']\n",
    "               , firing_rate_and_pca_df.loc[indicesToKeep, 'principal component 2']\n",
    "               , c = color\n",
    "               , s = 50)\n",
    "ax.legend(targets)\n",
    "ax.grid()"
   ]
  },
  {
   "cell_type": "code",
   "execution_count": null,
   "id": "551e2c3b",
   "metadata": {
    "scrolled": true
   },
   "outputs": [],
   "source": [
    "fig = plt.figure(figsize = (8,8))\n",
    "ax = fig.add_subplot(1,1,1) \n",
    "ax.set_xlabel('Principal Component 1', fontsize = 15)\n",
    "ax.set_ylabel('Principal Component 2', fontsize = 15)\n",
    "ax.set_title('2 component PCA', fontsize = 20)\n",
    "targets = ['5s to 10s Omission', '5s to 10s Rewarded']\n",
    "colors = [\"darkred\", \"darkcyan\"]\n",
    "for target, color in zip(targets,colors):\n",
    "    indicesToKeep = firing_rate_and_pca_df['outcome_and_when'] == target\n",
    "    ax.scatter(firing_rate_and_pca_df.loc[indicesToKeep, 'principal component 1']\n",
    "               , firing_rate_and_pca_df.loc[indicesToKeep, 'principal component 2']\n",
    "               , c = color\n",
    "               , s = 50)\n",
    "ax.legend(targets)\n",
    "ax.grid()"
   ]
  },
  {
   "cell_type": "code",
   "execution_count": null,
   "id": "30b2cb88",
   "metadata": {},
   "outputs": [],
   "source": []
  },
  {
   "cell_type": "markdown",
   "id": "656ea0f5",
   "metadata": {},
   "source": [
    "# PCA with Time Bin Rows"
   ]
  },
  {
   "cell_type": "markdown",
   "id": "f31cdad5",
   "metadata": {},
   "source": [
    "## Standarizing the Data"
   ]
  },
  {
   "cell_type": "markdown",
   "id": "33e7fde5",
   "metadata": {},
   "source": [
    "- TODO: Check why the 0s are being scaled differently"
   ]
  },
  {
   "cell_type": "code",
   "execution_count": null,
   "id": "793b69de",
   "metadata": {},
   "outputs": [],
   "source": [
    "from sklearn.preprocessing import StandardScaler"
   ]
  },
  {
   "cell_type": "code",
   "execution_count": null,
   "id": "3ced4afd",
   "metadata": {
    "scrolled": true
   },
   "outputs": [],
   "source": [
    "# Separating out the features\n",
    "x = resetted_averaged_firing_rate_array#.loc[:].values# Separating out the target\n",
    "resetted_averaged_firing_rate_array = StandardScaler().fit_transform(x)"
   ]
  },
  {
   "cell_type": "markdown",
   "id": "d6b63a24",
   "metadata": {},
   "source": [
    "## Calculating the PCA"
   ]
  },
  {
   "cell_type": "code",
   "execution_count": null,
   "id": "1567d6c7",
   "metadata": {},
   "outputs": [],
   "source": [
    "from sklearn.decomposition import PCA\n"
   ]
  },
  {
   "cell_type": "code",
   "execution_count": null,
   "id": "8f0ac176",
   "metadata": {},
   "outputs": [],
   "source": [
    "pca = PCA(n_components=2)\n",
    "principalComponents = pca.fit_transform(resetted_averaged_firing_rate_array)\n",
    "principal_df = pd.DataFrame(data = principalComponents\n",
    "             , columns = ['principal component 1', 'principal component 2'])"
   ]
  },
  {
   "cell_type": "code",
   "execution_count": null,
   "id": "66b05d0f",
   "metadata": {},
   "outputs": [],
   "source": [
    "principal_df.head()"
   ]
  },
  {
   "cell_type": "code",
   "execution_count": null,
   "id": "826b1014",
   "metadata": {
    "scrolled": true
   },
   "outputs": [],
   "source": [
    "principal_df.shape"
   ]
  },
  {
   "cell_type": "code",
   "execution_count": null,
   "id": "0b4f10b2",
   "metadata": {
    "scrolled": true
   },
   "outputs": [],
   "source": [
    "principal_df.shape"
   ]
  },
  {
   "cell_type": "code",
   "execution_count": null,
   "id": "457441bc",
   "metadata": {},
   "outputs": [],
   "source": [
    "firing_rate_and_pca_df = pd.concat([resetted_averaged_firing_rate_df, principal_df], axis=1)"
   ]
  },
  {
   "cell_type": "code",
   "execution_count": null,
   "id": "6c9430b1",
   "metadata": {},
   "outputs": [],
   "source": [
    "firing_rate_and_pca_df[\"before_during_after\"] = firing_rate_and_pca_df[\"bin\"].apply(lambda x: \"-5s to 0s\" if x < 50 else (\"0s to 5s\" if 50 <= x < 100 else \"5s to 10s\"))"
   ]
  },
  {
   "cell_type": "code",
   "execution_count": null,
   "id": "52effa53",
   "metadata": {},
   "outputs": [],
   "source": []
  },
  {
   "cell_type": "code",
   "execution_count": null,
   "id": "fd06ee8e",
   "metadata": {},
   "outputs": [],
   "source": [
    "firing_rate_and_pca_df[\"outcome_and_when\"] = firing_rate_and_pca_df.apply(lambda x: x[\"before_during_after\"] + \" \" + x[\"rewarded_category\"], axis=1)"
   ]
  },
  {
   "cell_type": "code",
   "execution_count": null,
   "id": "ef22e05b",
   "metadata": {
    "scrolled": true
   },
   "outputs": [],
   "source": [
    "firing_rate_and_pca_df"
   ]
  },
  {
   "cell_type": "code",
   "execution_count": null,
   "id": "a08e19b3",
   "metadata": {},
   "outputs": [],
   "source": [
    "sorted(firing_rate_and_pca_df[\"outcome_and_when\"].unique())"
   ]
  },
  {
   "cell_type": "code",
   "execution_count": null,
   "id": "b48a5ca2",
   "metadata": {},
   "outputs": [],
   "source": [
    "omission_categories = [name for name in sorted(firing_rate_and_pca_df[\"outcome_and_when\"].unique()) if \"Omission\" in name]\n",
    "rewarded_categories = [name for name in sorted(firing_rate_and_pca_df[\"outcome_and_when\"].unique()) if \"Rewarded\" in name]\n"
   ]
  },
  {
   "cell_type": "code",
   "execution_count": null,
   "id": "6e9cd6a5",
   "metadata": {},
   "outputs": [],
   "source": []
  },
  {
   "cell_type": "code",
   "execution_count": null,
   "id": "4e193754",
   "metadata": {},
   "outputs": [],
   "source": [
    "fig = plt.figure(figsize = (8,8))\n",
    "ax = fig.add_subplot(1,1,1) \n",
    "ax.set_xlabel('Principal Component 1', fontsize = 15)\n",
    "ax.set_ylabel('Principal Component 2', fontsize = 15)\n",
    "ax.set_title('2 component PCA', fontsize = 20)\n",
    "targets = omission_categories\n",
    "colors = [\"pink\", \"red\", \"darkred\"]\n",
    "for target, color in zip(targets,colors):\n",
    "    indicesToKeep = firing_rate_and_pca_df['outcome_and_when'] == target\n",
    "    ax.scatter(firing_rate_and_pca_df.loc[indicesToKeep, 'principal component 1']\n",
    "               , firing_rate_and_pca_df.loc[indicesToKeep, 'principal component 2']\n",
    "               , c = color\n",
    "               , s = 50)\n",
    "ax.legend(targets)\n",
    "ax.grid()"
   ]
  },
  {
   "cell_type": "code",
   "execution_count": null,
   "id": "d7181462",
   "metadata": {
    "scrolled": true
   },
   "outputs": [],
   "source": [
    "fig = plt.figure(figsize = (8,8))\n",
    "ax = fig.add_subplot(1,1,1) \n",
    "ax.set_xlabel('Principal Component 1', fontsize = 15)\n",
    "ax.set_ylabel('Principal Component 2', fontsize = 15)\n",
    "ax.set_title('2 component PCA', fontsize = 20)\n",
    "targets = omission_categories\n",
    "colors = [\"lightblue\", \"cyan\", \"darkcyan\"]\n",
    "for target, color in zip(targets,colors):\n",
    "    indicesToKeep = firing_rate_and_pca_df['outcome_and_when'] == target\n",
    "    ax.scatter(firing_rate_and_pca_df.loc[indicesToKeep, 'principal component 1']\n",
    "               , firing_rate_and_pca_df.loc[indicesToKeep, 'principal component 2']\n",
    "               , c = color\n",
    "               , s = 50)\n",
    "ax.legend(targets)\n",
    "ax.grid()"
   ]
  },
  {
   "cell_type": "code",
   "execution_count": null,
   "id": "e982e7cc",
   "metadata": {},
   "outputs": [],
   "source": [
    "['-5s to 0s Omission',\n",
    " '-5s to 0s Rewarded',\n",
    " '0s to 5s Omission',\n",
    " '0s to 5s Rewarded',\n",
    " '5s to 10s Omission',\n",
    " '5s to 10s Rewarded']"
   ]
  },
  {
   "cell_type": "code",
   "execution_count": null,
   "id": "042abccf",
   "metadata": {},
   "outputs": [],
   "source": [
    "fig = plt.figure(figsize = (8,8))\n",
    "ax = fig.add_subplot(1,1,1) \n",
    "ax.set_xlabel('Principal Component 1', fontsize = 15)\n",
    "ax.set_ylabel('Principal Component 2', fontsize = 15)\n",
    "ax.set_title('2 component PCA', fontsize = 20)\n",
    "targets = ['-5s to 0s Omission', '-5s to 0s Rewarded']\n",
    "colors = [\"pink\", \"lightblue\"]\n",
    "for target, color in zip(targets,colors):\n",
    "    indicesToKeep = firing_rate_and_pca_df['outcome_and_when'] == target\n",
    "    ax.scatter(firing_rate_and_pca_df.loc[indicesToKeep, 'principal component 1']\n",
    "               , firing_rate_and_pca_df.loc[indicesToKeep, 'principal component 2']\n",
    "               , c = color\n",
    "               , s = 50)\n",
    "ax.legend(targets)\n",
    "ax.grid()"
   ]
  },
  {
   "cell_type": "code",
   "execution_count": null,
   "id": "69cadebd",
   "metadata": {},
   "outputs": [],
   "source": [
    "fig = plt.figure(figsize = (8,8))\n",
    "ax = fig.add_subplot(1,1,1) \n",
    "ax.set_xlabel('Principal Component 1', fontsize = 15)\n",
    "ax.set_ylabel('Principal Component 2', fontsize = 15)\n",
    "ax.set_title('2 component PCA', fontsize = 20)\n",
    "targets = ['0s to 5s Omission', '0s to 5s Rewarded']\n",
    "colors = [\"red\", \"cyan\"]\n",
    "for target, color in zip(targets,colors):\n",
    "    indicesToKeep = firing_rate_and_pca_df['outcome_and_when'] == target\n",
    "    ax.scatter(firing_rate_and_pca_df.loc[indicesToKeep, 'principal component 1']\n",
    "               , firing_rate_and_pca_df.loc[indicesToKeep, 'principal component 2']\n",
    "               , c = color\n",
    "               , s = 50)\n",
    "ax.legend(targets)\n",
    "ax.grid()"
   ]
  },
  {
   "cell_type": "code",
   "execution_count": null,
   "id": "bb17084a",
   "metadata": {},
   "outputs": [],
   "source": [
    "fig = plt.figure(figsize = (8,8))\n",
    "ax = fig.add_subplot(1,1,1) \n",
    "ax.set_xlabel('Principal Component 1', fontsize = 15)\n",
    "ax.set_ylabel('Principal Component 2', fontsize = 15)\n",
    "ax.set_title('2 component PCA', fontsize = 20)\n",
    "targets = ['5s to 10s Omission', '5s to 10s Rewarded']\n",
    "colors = [\"darkred\", \"darkcyan\"]\n",
    "for target, color in zip(targets,colors):\n",
    "    indicesToKeep = firing_rate_and_pca_df['outcome_and_when'] == target\n",
    "    ax.scatter(firing_rate_and_pca_df.loc[indicesToKeep, 'principal component 1']\n",
    "               , firing_rate_and_pca_df.loc[indicesToKeep, 'principal component 2']\n",
    "               , c = color\n",
    "               , s = 50)\n",
    "ax.legend(targets)\n",
    "ax.grid()"
   ]
  },
  {
   "cell_type": "code",
   "execution_count": null,
   "id": "7337e586",
   "metadata": {},
   "outputs": [],
   "source": []
  },
  {
   "cell_type": "code",
   "execution_count": null,
   "id": "e697cf71",
   "metadata": {},
   "outputs": [],
   "source": []
  },
  {
   "cell_type": "code",
   "execution_count": null,
   "id": "6bef9eaa",
   "metadata": {},
   "outputs": [],
   "source": [
    "raise ValueError()"
   ]
  },
  {
   "cell_type": "markdown",
   "id": "99b5e673",
   "metadata": {},
   "source": [
    "# From DIN to Video"
   ]
  },
  {
   "cell_type": "markdown",
   "id": "d912df6b",
   "metadata": {},
   "source": [
    "- State 1 is when the MED-PC signal is being recieved. And 0 is when it is turned off. So we will get the timestamp of when it is first 1."
   ]
  },
  {
   "cell_type": "code",
   "execution_count": null,
   "id": "0ba4c5d6",
   "metadata": {},
   "outputs": [],
   "source": [
    "DIN_state_array"
   ]
  },
  {
   "cell_type": "code",
   "execution_count": null,
   "id": "d889cf6a",
   "metadata": {},
   "outputs": [],
   "source": [
    "DIN_time_stamp = DIN_state_array[5][0]"
   ]
  },
  {
   "cell_type": "code",
   "execution_count": null,
   "id": "e0b1ba5f",
   "metadata": {},
   "outputs": [],
   "source": [
    "DIN_time_stamp"
   ]
  },
  {
   "cell_type": "code",
   "execution_count": null,
   "id": "6dd870e4",
   "metadata": {},
   "outputs": [],
   "source": [
    "good_unit_bins = np.digitize(good_unit_times, all_tone_unit_time, right=True)"
   ]
  },
  {
   "cell_type": "markdown",
   "id": "148723da",
   "metadata": {},
   "source": [
    "- Array of the time stamp of all the frames"
   ]
  },
  {
   "cell_type": "code",
   "execution_count": null,
   "id": "8a33100d",
   "metadata": {},
   "outputs": [],
   "source": [
    "[1431775 + num * 2000 for num in range(-50, 50)]"
   ]
  },
  {
   "cell_type": "code",
   "execution_count": null,
   "id": "e32f0a7b",
   "metadata": {},
   "outputs": [],
   "source": [
    "len(within_interval_unit_times)"
   ]
  },
  {
   "cell_type": "code",
   "execution_count": null,
   "id": "43657903",
   "metadata": {},
   "outputs": [],
   "source": [
    "range(1431775, "
   ]
  },
  {
   "cell_type": "code",
   "execution_count": null,
   "id": "d62ac257",
   "metadata": {},
   "outputs": [],
   "source": [
    "[1431775 + num * 2000 for num in range(50)]"
   ]
  },
  {
   "cell_type": "code",
   "execution_count": null,
   "id": "bab73647",
   "metadata": {},
   "outputs": [],
   "source": [
    "[(1431775 - (num + 1) * 2000, 1431775 - num * 2000) for num in range(50)][::-1]"
   ]
  },
  {
   "cell_type": "code",
   "execution_count": null,
   "id": "a28ffbf1",
   "metadata": {},
   "outputs": [],
   "source": [
    "(4003716 - 3772337) / 20000"
   ]
  },
  {
   "cell_type": "code",
   "execution_count": null,
   "id": "1384975d",
   "metadata": {},
   "outputs": [],
   "source": [
    "(5204112 - 4003716) / 20000 "
   ]
  },
  {
   "cell_type": "code",
   "execution_count": null,
   "id": "65419f0d",
   "metadata": {},
   "outputs": [],
   "source": [
    "(5404109 - 5204112) / 20000"
   ]
  },
  {
   "cell_type": "code",
   "execution_count": null,
   "id": "e6ac02e8",
   "metadata": {},
   "outputs": [],
   "source": [
    "(6804107 - 5404109) / 20000"
   ]
  },
  {
   "cell_type": "code",
   "execution_count": null,
   "id": "4248c266",
   "metadata": {},
   "outputs": [],
   "source": [
    "3772337/20000/3600*60"
   ]
  },
  {
   "cell_type": "code",
   "execution_count": null,
   "id": "268e96b1",
   "metadata": {},
   "outputs": [],
   "source": [
    "pos_timestamp_array"
   ]
  },
  {
   "cell_type": "markdown",
   "id": "1fbe7728",
   "metadata": {},
   "source": [
    "- Getting the first video time stamp that is greater than the voltage time stamp"
   ]
  },
  {
   "cell_type": "code",
   "execution_count": null,
   "id": "1ec60639",
   "metadata": {},
   "outputs": [],
   "source": [
    "current_video_frame = timestamp_to_index(current_ts=DIN_time_stamp, ts_array=pos_timestamp_array)"
   ]
  },
  {
   "cell_type": "code",
   "execution_count": null,
   "id": "cd06980b",
   "metadata": {},
   "outputs": [],
   "source": [
    "current_video_frame"
   ]
  },
  {
   "cell_type": "markdown",
   "id": "8a1adec6",
   "metadata": {},
   "source": [
    "## Getting the specific frame"
   ]
  },
  {
   "cell_type": "code",
   "execution_count": null,
   "id": "5a7a1a3b",
   "metadata": {},
   "outputs": [],
   "source": [
    "frame_count = int(cap.get(cv2.CAP_PROP_FRAME_COUNT))\n",
    "print('Frame count:', frame_count)"
   ]
  },
  {
   "cell_type": "markdown",
   "id": "5ee9c163",
   "metadata": {},
   "source": [
    "- Original frame number(before light turns on)"
   ]
  },
  {
   "cell_type": "code",
   "execution_count": null,
   "id": "ba040bf9",
   "metadata": {},
   "outputs": [],
   "source": [
    "corrected_video_frame = current_video_frame"
   ]
  },
  {
   "cell_type": "markdown",
   "id": "6435e1a3",
   "metadata": {},
   "source": [
    "- Corrected frame number(that has the light on)"
   ]
  },
  {
   "cell_type": "code",
   "execution_count": null,
   "id": "20b811a9",
   "metadata": {},
   "outputs": [],
   "source": [
    "corrected_video_frame = current_video_frame + 2"
   ]
  },
  {
   "cell_type": "code",
   "execution_count": null,
   "id": "49e81139",
   "metadata": {},
   "outputs": [],
   "source": [
    "cap.set(cv2.CAP_PROP_POS_FRAMES, corrected_video_frame)\n"
   ]
  },
  {
   "cell_type": "code",
   "execution_count": null,
   "id": "0179904d",
   "metadata": {},
   "outputs": [],
   "source": [
    "_, frame = cap.read()"
   ]
  },
  {
   "cell_type": "code",
   "execution_count": null,
   "id": "6e10b66b",
   "metadata": {},
   "outputs": [],
   "source": [
    "video_file_path"
   ]
  },
  {
   "cell_type": "code",
   "execution_count": null,
   "id": "243d5828",
   "metadata": {},
   "outputs": [],
   "source": [
    "output_directory = \"./proc\""
   ]
  },
  {
   "cell_type": "code",
   "execution_count": null,
   "id": "17dd8e82",
   "metadata": {},
   "outputs": [],
   "source": [
    "output_directory"
   ]
  },
  {
   "cell_type": "code",
   "execution_count": null,
   "id": "0dc14903",
   "metadata": {},
   "outputs": [],
   "source": [
    "os.makedirs(output_directory, exist_ok=True)"
   ]
  },
  {
   "cell_type": "code",
   "execution_count": null,
   "id": "4b170740",
   "metadata": {},
   "outputs": [],
   "source": [
    "video_file_basename = os.path.basename(video_file_path)"
   ]
  },
  {
   "cell_type": "code",
   "execution_count": null,
   "id": "c56e9190",
   "metadata": {},
   "outputs": [],
   "source": [
    "video_file_root = os.path.splitext(video_file_basename)[0]"
   ]
  },
  {
   "cell_type": "code",
   "execution_count": null,
   "id": "4ffef727",
   "metadata": {},
   "outputs": [],
   "source": [
    "video_file_root"
   ]
  },
  {
   "cell_type": "code",
   "execution_count": null,
   "id": "41824723",
   "metadata": {},
   "outputs": [],
   "source": [
    "cv2.imwrite(os.path.join(output_directory, '{}.frame_{}.png'.format(video_file_root, corrected_video_frame)), frame)"
   ]
  },
  {
   "cell_type": "raw",
   "id": "eb44b73b",
   "metadata": {
    "scrolled": false
   },
   "source": [
    "raise ValueError(\"\"\"Run cell after this one if you want to see the image in Jupyter Notebooks. \n",
    "Make sure that you just exit by pressing the `esc` key on the keyboard. \n",
    "DO NOT press the red X button.\"\"\")"
   ]
  },
  {
   "cell_type": "raw",
   "id": "1731b7af",
   "metadata": {},
   "source": [
    "\n",
    "\n",
    "cv2.imshow('led_light_on', frame)\n",
    "cv2.waitKey(0)\n",
    "cv2.destroyAllWindows()"
   ]
  },
  {
   "cell_type": "markdown",
   "id": "ba75ed2a",
   "metadata": {},
   "source": [
    "- Where this video time stamp is(within the list of video time stamps), would be the frame number that corresponds to the ephys recording instance"
   ]
  },
  {
   "cell_type": "code",
   "execution_count": null,
   "id": "ac55b6fb",
   "metadata": {},
   "outputs": [],
   "source": [
    "current_video_seconds = corrected_video_frame / fps"
   ]
  },
  {
   "cell_type": "code",
   "execution_count": null,
   "id": "daf7a6f9",
   "metadata": {},
   "outputs": [],
   "source": [
    "current_video_seconds"
   ]
  },
  {
   "cell_type": "code",
   "execution_count": null,
   "id": "25baf939",
   "metadata": {},
   "outputs": [],
   "source": [
    "print(\"MED-PC signal is at {}:{}\".format(int(current_video_seconds // 60), int(current_video_seconds % 60)))"
   ]
  },
  {
   "cell_type": "markdown",
   "id": "c6c58a56",
   "metadata": {},
   "source": [
    "# Syncing up the timestamps using Pandas"
   ]
  },
  {
   "cell_type": "markdown",
   "id": "adafa131",
   "metadata": {},
   "source": [
    "## Adding the Voltage as columns"
   ]
  },
  {
   "cell_type": "code",
   "execution_count": null,
   "id": "478e0b5a",
   "metadata": {},
   "outputs": [],
   "source": [
    "voltage_timestamp_array[:5]"
   ]
  },
  {
   "cell_type": "code",
   "execution_count": null,
   "id": "7223f277",
   "metadata": {},
   "outputs": [],
   "source": [
    "voltage_timestamp_array.shape"
   ]
  },
  {
   "cell_type": "code",
   "execution_count": null,
   "id": "b31e7b98",
   "metadata": {
    "scrolled": true
   },
   "outputs": [],
   "source": [
    "voltage_value_array[:5]"
   ]
  },
  {
   "cell_type": "code",
   "execution_count": null,
   "id": "4c4d2caa",
   "metadata": {},
   "outputs": [],
   "source": [
    "voltage_value_array.shape"
   ]
  },
  {
   "cell_type": "markdown",
   "id": "7210172d",
   "metadata": {},
   "source": [
    "- Adding the voltage timestamps"
   ]
  },
  {
   "cell_type": "code",
   "execution_count": null,
   "id": "c0b74a4a",
   "metadata": {},
   "outputs": [],
   "source": [
    "ephys_dataframe = pd.DataFrame(voltage_timestamp_array, columns=[\"voltage_time_stamp\"])"
   ]
  },
  {
   "cell_type": "code",
   "execution_count": null,
   "id": "c49f894b",
   "metadata": {
    "scrolled": true
   },
   "outputs": [],
   "source": [
    "ephys_dataframe.head()"
   ]
  },
  {
   "cell_type": "markdown",
   "id": "af9c98de",
   "metadata": {},
   "source": [
    "- Adding the voltage value"
   ]
  },
  {
   "cell_type": "code",
   "execution_count": null,
   "id": "bc1e243d",
   "metadata": {},
   "outputs": [],
   "source": [
    "ephys_dataframe[\"voltage_value\"] = voltage_value_array.tolist()"
   ]
  },
  {
   "cell_type": "code",
   "execution_count": null,
   "id": "ca97b35f",
   "metadata": {
    "scrolled": true
   },
   "outputs": [],
   "source": [
    "ephys_dataframe.head()"
   ]
  },
  {
   "cell_type": "markdown",
   "id": "03c1db9e",
   "metadata": {},
   "source": [
    "## Adding the video data as columns"
   ]
  },
  {
   "cell_type": "markdown",
   "id": "2a62171a",
   "metadata": {},
   "source": [
    "- Creating a seperate dataframe for video data first"
   ]
  },
  {
   "cell_type": "code",
   "execution_count": null,
   "id": "2954fbf6",
   "metadata": {},
   "outputs": [],
   "source": [
    "video_time_stamp_dict[\"data\"][:5]"
   ]
  },
  {
   "cell_type": "code",
   "execution_count": null,
   "id": "38bcb3ae",
   "metadata": {},
   "outputs": [],
   "source": [
    "video_time_stamp_dict[\"data\"][-5:]"
   ]
  },
  {
   "cell_type": "code",
   "execution_count": null,
   "id": "016a9dfc",
   "metadata": {},
   "outputs": [],
   "source": [
    "video_dataframe = pd.DataFrame(video_time_stamp_dict[\"data\"])"
   ]
  },
  {
   "cell_type": "code",
   "execution_count": null,
   "id": "041d0cac",
   "metadata": {},
   "outputs": [],
   "source": [
    "video_dataframe.head()"
   ]
  },
  {
   "cell_type": "markdown",
   "id": "15f59138",
   "metadata": {},
   "source": [
    "- Adding the frames which would just be the number in the list that the timestamps belongs to"
   ]
  },
  {
   "cell_type": "code",
   "execution_count": null,
   "id": "fb863893",
   "metadata": {
    "scrolled": true
   },
   "outputs": [],
   "source": [
    "video_dataframe.insert(0, 'frame_number', range(1, 1 + len(video_dataframe)))"
   ]
  },
  {
   "cell_type": "markdown",
   "id": "b7de1a73",
   "metadata": {},
   "source": [
    "- Calculating the time within the video by dividing the frame by the fps"
   ]
  },
  {
   "cell_type": "code",
   "execution_count": null,
   "id": "bca73f7b",
   "metadata": {},
   "outputs": [],
   "source": [
    "video_dataframe[\"video_time\"] = video_dataframe[\"frame_number\"] / fps"
   ]
  },
  {
   "cell_type": "code",
   "execution_count": null,
   "id": "58c11371",
   "metadata": {},
   "outputs": [],
   "source": [
    "video_dataframe[\"video_seconds\"] = video_dataframe[\"video_time\"].astype(int)"
   ]
  },
  {
   "cell_type": "code",
   "execution_count": null,
   "id": "926c3823",
   "metadata": {},
   "outputs": [],
   "source": [
    "video_dataframe"
   ]
  },
  {
   "cell_type": "markdown",
   "id": "2801c768",
   "metadata": {},
   "source": [
    "## Combining the ephys and video dataframe into one"
   ]
  },
  {
   "cell_type": "code",
   "execution_count": null,
   "id": "b2ebc832",
   "metadata": {},
   "outputs": [],
   "source": [
    "ephy_and_video_dataframe = pd.merge(ephys_dataframe, video_dataframe, left_on='voltage_time_stamp', right_on='PosTimestamp', how=\"left\")"
   ]
  },
  {
   "cell_type": "code",
   "execution_count": null,
   "id": "9201fbc4",
   "metadata": {},
   "outputs": [],
   "source": [
    "ephy_and_video_dataframe"
   ]
  },
  {
   "cell_type": "code",
   "execution_count": null,
   "id": "29bbcc51",
   "metadata": {},
   "outputs": [],
   "source": [
    "ephy_and_video_dataframe.columns"
   ]
  },
  {
   "cell_type": "markdown",
   "id": "182dadba",
   "metadata": {},
   "source": [
    "- There are only a small number of rows that have information for the video, because the sampling rate is much smaller. "
   ]
  },
  {
   "cell_type": "code",
   "execution_count": null,
   "id": "564ca911",
   "metadata": {},
   "outputs": [],
   "source": [
    "ephy_and_video_dataframe.dropna(subset=[\"PosTimestamp\"])"
   ]
  },
  {
   "cell_type": "markdown",
   "id": "925b2441",
   "metadata": {},
   "source": [
    "- Filling in all the blank cells with the previous rows for the video related columns into new columns. This can be used to select for all rows that correspond to something happening within the video"
   ]
  },
  {
   "cell_type": "code",
   "execution_count": null,
   "id": "99b3848e",
   "metadata": {},
   "outputs": [],
   "source": [
    "ephy_and_video_dataframe['filled_PosTimestamp'] = ephy_and_video_dataframe['PosTimestamp'].fillna(method='ffill')\n",
    "ephy_and_video_dataframe['filledHWframeCount'] = ephy_and_video_dataframe['HWframeCount'].fillna(method='ffill')\n",
    "ephy_and_video_dataframe['filled_frame_number'] = ephy_and_video_dataframe['frame_number'].fillna(method='ffill')\n",
    "ephy_and_video_dataframe['filled_video_time'] = ephy_and_video_dataframe['video_time'].fillna(method='ffill')\n",
    "ephy_and_video_dataframe['filled_video_seconds'] = ephy_and_video_dataframe['video_seconds'].fillna(method='ffill')"
   ]
  },
  {
   "cell_type": "code",
   "execution_count": null,
   "id": "e343ae63",
   "metadata": {},
   "outputs": [],
   "source": [
    "ephy_and_video_dataframe.tail()"
   ]
  },
  {
   "cell_type": "markdown",
   "id": "bc975896",
   "metadata": {},
   "source": [
    "## Adding the DIN info"
   ]
  },
  {
   "cell_type": "code",
   "execution_count": null,
   "id": "89ba5770",
   "metadata": {},
   "outputs": [],
   "source": [
    "DIN_dataframe = pd.DataFrame(DIN_state_array)"
   ]
  },
  {
   "cell_type": "code",
   "execution_count": null,
   "id": "d0d4a65c",
   "metadata": {},
   "outputs": [],
   "source": [
    "DIN_dataframe[\"trial_number\"] = DIN_dataframe[\"state\"].cumsum()"
   ]
  },
  {
   "cell_type": "code",
   "execution_count": null,
   "id": "68e16b67",
   "metadata": {},
   "outputs": [],
   "source": [
    "DIN_dataframe"
   ]
  },
  {
   "cell_type": "code",
   "execution_count": null,
   "id": "89f82716",
   "metadata": {},
   "outputs": [],
   "source": [
    "ephy_and_video_dataframe = pd.merge(ephy_and_video_dataframe, DIN_dataframe, left_on='voltage_time_stamp', right_on='time', how=\"left\")\n"
   ]
  },
  {
   "cell_type": "code",
   "execution_count": null,
   "id": "1ee80db9",
   "metadata": {},
   "outputs": [],
   "source": [
    "ephy_and_video_dataframe.head()"
   ]
  },
  {
   "cell_type": "code",
   "execution_count": null,
   "id": "19153995",
   "metadata": {},
   "outputs": [],
   "source": [
    "ephy_and_video_dataframe.dropna(subset=[\"time\"])"
   ]
  },
  {
   "cell_type": "code",
   "execution_count": null,
   "id": "5a6926b8",
   "metadata": {},
   "outputs": [],
   "source": [
    "ephy_and_video_dataframe[\"filled_state\"] = ephy_and_video_dataframe[\"state\"].ffill()\n",
    "ephy_and_video_dataframe[\"filled_trial_number\"] = ephy_and_video_dataframe[\"trial_number\"].ffill()"
   ]
  },
  {
   "cell_type": "code",
   "execution_count": null,
   "id": "460fad0d",
   "metadata": {},
   "outputs": [],
   "source": [
    "ephy_and_video_dataframe.head()"
   ]
  },
  {
   "cell_type": "code",
   "execution_count": null,
   "id": "3aa5eeba",
   "metadata": {
    "scrolled": true
   },
   "outputs": [],
   "source": [
    "ephy_and_video_dataframe.tail()"
   ]
  },
  {
   "cell_type": "code",
   "execution_count": null,
   "id": "22793278",
   "metadata": {
    "scrolled": true
   },
   "outputs": [],
   "source": [
    "trial_1_df = ephy_and_video_dataframe[ephy_and_video_dataframe[\"filled_trial_number\"] == 2]"
   ]
  },
  {
   "cell_type": "code",
   "execution_count": null,
   "id": "79a2d453",
   "metadata": {
    "scrolled": true
   },
   "outputs": [],
   "source": [
    "trial_1_df.head()"
   ]
  },
  {
   "cell_type": "code",
   "execution_count": null,
   "id": "a043053d",
   "metadata": {},
   "outputs": [],
   "source": []
  },
  {
   "cell_type": "markdown",
   "id": "0ed54349",
   "metadata": {},
   "source": [
    "- Original frame number(before light turns on)"
   ]
  },
  {
   "cell_type": "code",
   "execution_count": null,
   "id": "597e4161",
   "metadata": {},
   "outputs": [],
   "source": [
    "current_video_frame = trial_1_df[\"filled_frame_number\"].min()"
   ]
  },
  {
   "cell_type": "markdown",
   "id": "37c95f1d",
   "metadata": {},
   "source": [
    "- Corrected frame number(that has the light on)"
   ]
  },
  {
   "cell_type": "code",
   "execution_count": null,
   "id": "d4c4b4e4",
   "metadata": {},
   "outputs": [],
   "source": [
    "corrected_video_frame = current_video_frame + 2"
   ]
  },
  {
   "cell_type": "code",
   "execution_count": null,
   "id": "1a818fea",
   "metadata": {},
   "outputs": [],
   "source": [
    "cap.set(cv2.CAP_PROP_POS_FRAMES, corrected_video_frame)\n"
   ]
  },
  {
   "cell_type": "code",
   "execution_count": null,
   "id": "cd2d23af",
   "metadata": {},
   "outputs": [],
   "source": [
    "_, frame = cap.read()"
   ]
  },
  {
   "cell_type": "code",
   "execution_count": null,
   "id": "e09e38b7",
   "metadata": {},
   "outputs": [],
   "source": [
    "video_file_path"
   ]
  },
  {
   "cell_type": "code",
   "execution_count": null,
   "id": "a45fcaf0",
   "metadata": {},
   "outputs": [],
   "source": [
    "output_directory = \"./proc\""
   ]
  },
  {
   "cell_type": "code",
   "execution_count": null,
   "id": "a03c9c7e",
   "metadata": {},
   "outputs": [],
   "source": [
    "output_directory"
   ]
  },
  {
   "cell_type": "code",
   "execution_count": null,
   "id": "8570ae2a",
   "metadata": {},
   "outputs": [],
   "source": [
    "os.makedirs(output_directory, exist_ok=True)"
   ]
  },
  {
   "cell_type": "code",
   "execution_count": null,
   "id": "40c71ef0",
   "metadata": {},
   "outputs": [],
   "source": [
    "video_file_basename = os.path.basename(video_file_path)"
   ]
  },
  {
   "cell_type": "code",
   "execution_count": null,
   "id": "012bc243",
   "metadata": {},
   "outputs": [],
   "source": [
    "video_file_root = os.path.splitext(video_file_basename)[0]"
   ]
  },
  {
   "cell_type": "code",
   "execution_count": null,
   "id": "f316fef3",
   "metadata": {},
   "outputs": [],
   "source": [
    "video_file_root"
   ]
  },
  {
   "cell_type": "code",
   "execution_count": null,
   "id": "5a45aea9",
   "metadata": {},
   "outputs": [],
   "source": [
    "cv2.imwrite(os.path.join(output_directory, '{}.frame_{}.png'.format(video_file_root, corrected_video_frame)), frame)"
   ]
  },
  {
   "cell_type": "raw",
   "id": "fcf0b6f2",
   "metadata": {
    "scrolled": false
   },
   "source": [
    "raise ValueError(\"\"\"Run cell after this one if you want to see the image in Jupyter Notebooks. \n",
    "Make sure that you just exit by pressing the `esc` key on the keyboard. \n",
    "DO NOT press the red X button.\"\"\")"
   ]
  },
  {
   "cell_type": "raw",
   "id": "813b1a1d",
   "metadata": {},
   "source": [
    "\n",
    "\n",
    "cv2.imshow('led_light_on', frame)\n",
    "cv2.waitKey(0)\n",
    "cv2.destroyAllWindows()"
   ]
  },
  {
   "cell_type": "code",
   "execution_count": null,
   "id": "02c0efe2",
   "metadata": {},
   "outputs": [],
   "source": []
  },
  {
   "cell_type": "code",
   "execution_count": null,
   "id": "de98af78",
   "metadata": {},
   "outputs": [],
   "source": []
  },
  {
   "cell_type": "code",
   "execution_count": null,
   "id": "18b984ed",
   "metadata": {},
   "outputs": [],
   "source": []
  },
  {
   "cell_type": "markdown",
   "id": "87b9d0b7",
   "metadata": {},
   "source": []
  }
 ],
 "metadata": {
  "kernelspec": {
   "display_name": "Python 3 (ipykernel)",
   "language": "python",
   "name": "python3"
  },
  "language_info": {
   "codemirror_mode": {
    "name": "ipython",
    "version": 3
   },
   "file_extension": ".py",
   "mimetype": "text/x-python",
   "name": "python",
   "nbconvert_exporter": "python",
   "pygments_lexer": "ipython3",
   "version": "3.9.16"
  },
  "vscode": {
   "interpreter": {
    "hash": "916dbcbb3f70747c44a77c7bcd40155683ae19c65e1c03b4aa3499c5328201f1"
   }
  }
 },
 "nbformat": 4,
 "nbformat_minor": 5
}
