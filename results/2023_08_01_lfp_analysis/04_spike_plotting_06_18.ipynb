{
 "cells": [
  {
   "cell_type": "markdown",
   "id": "238a6b1a",
   "metadata": {},
   "source": [
    "# Spike Gadgets Ephys and Video Syncing"
   ]
  },
  {
   "cell_type": "code",
   "execution_count": 1,
   "id": "7650e225",
   "metadata": {},
   "outputs": [],
   "source": [
    "import os\n",
    "import re\n",
    "import sys\n",
    "from collections import defaultdict\n",
    "import random\n",
    "from random import randrange\n",
    "import glob\n",
    "import warnings"
   ]
  },
  {
   "cell_type": "code",
   "execution_count": 2,
   "id": "708b2d99",
   "metadata": {},
   "outputs": [],
   "source": [
    "import numpy as np\n",
    "import pandas as pd\n",
    "# import cv2\n",
    "from IPython.display import Video\n",
    "import matplotlib.pyplot as plt"
   ]
  },
  {
   "cell_type": "code",
   "execution_count": 3,
   "id": "a0a6d069",
   "metadata": {},
   "outputs": [],
   "source": [
    "# setting path\n",
    "sys.path.append('../../src')"
   ]
  },
  {
   "cell_type": "code",
   "execution_count": 4,
   "id": "2c463f5c",
   "metadata": {},
   "outputs": [],
   "source": [
    "import trodes.read_exported"
   ]
  },
  {
   "cell_type": "code",
   "execution_count": 5,
   "id": "9a656325",
   "metadata": {},
   "outputs": [],
   "source": [
    "%matplotlib inline"
   ]
  },
  {
   "cell_type": "code",
   "execution_count": 6,
   "id": "0a14db26",
   "metadata": {},
   "outputs": [],
   "source": [
    "import spikeinterface"
   ]
  },
  {
   "cell_type": "code",
   "execution_count": 7,
   "id": "9fddb437",
   "metadata": {},
   "outputs": [],
   "source": [
    "import spikeinterface as si  # import core only\n",
    "import spikeinterface.extractors as se\n",
    "import spikeinterface.sorters as ss\n",
    "import spikeinterface.comparison as sc\n",
    "import spikeinterface.widgets as sw"
   ]
  },
  {
   "cell_type": "code",
   "execution_count": 8,
   "id": "bf1f02f5",
   "metadata": {},
   "outputs": [],
   "source": [
    "import spikeinterface.core"
   ]
  },
  {
   "cell_type": "code",
   "execution_count": 9,
   "id": "46a90c07",
   "metadata": {},
   "outputs": [],
   "source": [
    "from probeinterface import get_probe\n",
    "from probeinterface.plotting import plot_probe, plot_probe_group\n",
    "from probeinterface import write_prb, read_prb"
   ]
  },
  {
   "cell_type": "code",
   "execution_count": 10,
   "id": "06c10da3",
   "metadata": {},
   "outputs": [],
   "source": [
    "import spikeinterface.full as si"
   ]
  },
  {
   "cell_type": "markdown",
   "id": "2db623b3",
   "metadata": {},
   "source": [
    "# Reading in the Timestamp Information"
   ]
  },
  {
   "cell_type": "code",
   "execution_count": 11,
   "id": "35d7c055",
   "metadata": {},
   "outputs": [],
   "source": [
    "tone_time_stamps_df = pd.read_csv(\"./tone_df.csv\", index_col=0)"
   ]
  },
  {
   "cell_type": "code",
   "execution_count": 12,
   "id": "4970692c",
   "metadata": {},
   "outputs": [
    {
     "data": {
      "text/html": [
       "<div>\n",
       "<style scoped>\n",
       "    .dataframe tbody tr th:only-of-type {\n",
       "        vertical-align: middle;\n",
       "    }\n",
       "\n",
       "    .dataframe tbody tr th {\n",
       "        vertical-align: top;\n",
       "    }\n",
       "\n",
       "    .dataframe thead th {\n",
       "        text-align: right;\n",
       "    }\n",
       "</style>\n",
       "<table border=\"1\" class=\"dataframe\">\n",
       "  <thead>\n",
       "    <tr style=\"text-align: right;\">\n",
       "      <th></th>\n",
       "      <th>Unnamed: 0</th>\n",
       "      <th>tone_timestamp</th>\n",
       "      <th>tone_index</th>\n",
       "      <th>rewarded_or_not</th>\n",
       "      <th>competition_winners</th>\n",
       "      <th>condition</th>\n",
       "      <th>lfp_index</th>\n",
       "      <th>subj_1_1_condition</th>\n",
       "      <th>subj_1_4_condition</th>\n",
       "    </tr>\n",
       "  </thead>\n",
       "  <tbody>\n",
       "    <tr>\n",
       "      <th>0</th>\n",
       "      <td>0</td>\n",
       "      <td>1934930</td>\n",
       "      <td>1099250</td>\n",
       "      <td>rewarded</td>\n",
       "      <td>1.4</td>\n",
       "      <td>1.4</td>\n",
       "      <td>54962</td>\n",
       "      <td>lose</td>\n",
       "      <td>win</td>\n",
       "    </tr>\n",
       "    <tr>\n",
       "      <th>1</th>\n",
       "      <td>1</td>\n",
       "      <td>4334936</td>\n",
       "      <td>3499256</td>\n",
       "      <td>rewarded</td>\n",
       "      <td>1.1</td>\n",
       "      <td>1.1</td>\n",
       "      <td>174962</td>\n",
       "      <td>win</td>\n",
       "      <td>lose</td>\n",
       "    </tr>\n",
       "    <tr>\n",
       "      <th>2</th>\n",
       "      <td>2</td>\n",
       "      <td>6634931</td>\n",
       "      <td>5799251</td>\n",
       "      <td>rewarded</td>\n",
       "      <td>1.1</td>\n",
       "      <td>1.1</td>\n",
       "      <td>289962</td>\n",
       "      <td>win</td>\n",
       "      <td>lose</td>\n",
       "    </tr>\n",
       "    <tr>\n",
       "      <th>3</th>\n",
       "      <td>3</td>\n",
       "      <td>8434930</td>\n",
       "      <td>7599250</td>\n",
       "      <td>rewarded</td>\n",
       "      <td>1.4</td>\n",
       "      <td>1.4</td>\n",
       "      <td>379962</td>\n",
       "      <td>lose</td>\n",
       "      <td>win</td>\n",
       "    </tr>\n",
       "    <tr>\n",
       "      <th>4</th>\n",
       "      <td>4</td>\n",
       "      <td>9534930</td>\n",
       "      <td>8699250</td>\n",
       "      <td>rewarded</td>\n",
       "      <td>1.1</td>\n",
       "      <td>1.1</td>\n",
       "      <td>434962</td>\n",
       "      <td>win</td>\n",
       "      <td>lose</td>\n",
       "    </tr>\n",
       "    <tr>\n",
       "      <th>5</th>\n",
       "      <td>5</td>\n",
       "      <td>10534929</td>\n",
       "      <td>9699249</td>\n",
       "      <td>rewarded</td>\n",
       "      <td>1.4</td>\n",
       "      <td>1.4</td>\n",
       "      <td>484962</td>\n",
       "      <td>lose</td>\n",
       "      <td>win</td>\n",
       "    </tr>\n",
       "    <tr>\n",
       "      <th>6</th>\n",
       "      <td>6</td>\n",
       "      <td>12434926</td>\n",
       "      <td>11599246</td>\n",
       "      <td>rewarded</td>\n",
       "      <td>1.4</td>\n",
       "      <td>1.4</td>\n",
       "      <td>579962</td>\n",
       "      <td>lose</td>\n",
       "      <td>win</td>\n",
       "    </tr>\n",
       "    <tr>\n",
       "      <th>7</th>\n",
       "      <td>7</td>\n",
       "      <td>13934925</td>\n",
       "      <td>13099245</td>\n",
       "      <td>rewarded</td>\n",
       "      <td>1.4</td>\n",
       "      <td>1.4</td>\n",
       "      <td>654962</td>\n",
       "      <td>lose</td>\n",
       "      <td>win</td>\n",
       "    </tr>\n",
       "    <tr>\n",
       "      <th>8</th>\n",
       "      <td>8</td>\n",
       "      <td>16034924</td>\n",
       "      <td>15199244</td>\n",
       "      <td>rewarded</td>\n",
       "      <td>1.1</td>\n",
       "      <td>1.1</td>\n",
       "      <td>759962</td>\n",
       "      <td>win</td>\n",
       "      <td>lose</td>\n",
       "    </tr>\n",
       "    <tr>\n",
       "      <th>9</th>\n",
       "      <td>9</td>\n",
       "      <td>17034926</td>\n",
       "      <td>16199246</td>\n",
       "      <td>rewarded</td>\n",
       "      <td>1.1</td>\n",
       "      <td>1.1</td>\n",
       "      <td>809962</td>\n",
       "      <td>win</td>\n",
       "      <td>lose</td>\n",
       "    </tr>\n",
       "    <tr>\n",
       "      <th>10</th>\n",
       "      <td>10</td>\n",
       "      <td>18634925</td>\n",
       "      <td>17799245</td>\n",
       "      <td>rewarded</td>\n",
       "      <td>1.1</td>\n",
       "      <td>1.1</td>\n",
       "      <td>889962</td>\n",
       "      <td>win</td>\n",
       "      <td>lose</td>\n",
       "    </tr>\n",
       "    <tr>\n",
       "      <th>11</th>\n",
       "      <td>11</td>\n",
       "      <td>19934925</td>\n",
       "      <td>19099245</td>\n",
       "      <td>rewarded</td>\n",
       "      <td>1.1</td>\n",
       "      <td>1.1</td>\n",
       "      <td>954962</td>\n",
       "      <td>win</td>\n",
       "      <td>lose</td>\n",
       "    </tr>\n",
       "    <tr>\n",
       "      <th>12</th>\n",
       "      <td>12</td>\n",
       "      <td>21234922</td>\n",
       "      <td>20399242</td>\n",
       "      <td>rewarded</td>\n",
       "      <td>1.1</td>\n",
       "      <td>1.1</td>\n",
       "      <td>1019962</td>\n",
       "      <td>win</td>\n",
       "      <td>lose</td>\n",
       "    </tr>\n",
       "    <tr>\n",
       "      <th>13</th>\n",
       "      <td>13</td>\n",
       "      <td>22234924</td>\n",
       "      <td>21399244</td>\n",
       "      <td>rewarded</td>\n",
       "      <td>1.1</td>\n",
       "      <td>1.1</td>\n",
       "      <td>1069962</td>\n",
       "      <td>win</td>\n",
       "      <td>lose</td>\n",
       "    </tr>\n",
       "    <tr>\n",
       "      <th>14</th>\n",
       "      <td>14</td>\n",
       "      <td>23634923</td>\n",
       "      <td>22799243</td>\n",
       "      <td>rewarded</td>\n",
       "      <td>1.1</td>\n",
       "      <td>1.1</td>\n",
       "      <td>1139962</td>\n",
       "      <td>win</td>\n",
       "      <td>lose</td>\n",
       "    </tr>\n",
       "    <tr>\n",
       "      <th>15</th>\n",
       "      <td>15</td>\n",
       "      <td>25534923</td>\n",
       "      <td>24699243</td>\n",
       "      <td>rewarded</td>\n",
       "      <td>1.1</td>\n",
       "      <td>1.1</td>\n",
       "      <td>1234962</td>\n",
       "      <td>win</td>\n",
       "      <td>lose</td>\n",
       "    </tr>\n",
       "    <tr>\n",
       "      <th>16</th>\n",
       "      <td>16</td>\n",
       "      <td>27134920</td>\n",
       "      <td>26299240</td>\n",
       "      <td>rewarded</td>\n",
       "      <td>1.1</td>\n",
       "      <td>1.1</td>\n",
       "      <td>1314962</td>\n",
       "      <td>win</td>\n",
       "      <td>lose</td>\n",
       "    </tr>\n",
       "    <tr>\n",
       "      <th>17</th>\n",
       "      <td>17</td>\n",
       "      <td>28534922</td>\n",
       "      <td>27699242</td>\n",
       "      <td>rewarded</td>\n",
       "      <td>1.1</td>\n",
       "      <td>1.1</td>\n",
       "      <td>1384962</td>\n",
       "      <td>win</td>\n",
       "      <td>lose</td>\n",
       "    </tr>\n",
       "    <tr>\n",
       "      <th>18</th>\n",
       "      <td>18</td>\n",
       "      <td>30734921</td>\n",
       "      <td>29899241</td>\n",
       "      <td>rewarded</td>\n",
       "      <td>1.1</td>\n",
       "      <td>1.1</td>\n",
       "      <td>1494962</td>\n",
       "      <td>win</td>\n",
       "      <td>lose</td>\n",
       "    </tr>\n",
       "    <tr>\n",
       "      <th>19</th>\n",
       "      <td>19</td>\n",
       "      <td>31934918</td>\n",
       "      <td>31099238</td>\n",
       "      <td>rewarded</td>\n",
       "      <td>1.4</td>\n",
       "      <td>1.4</td>\n",
       "      <td>1554961</td>\n",
       "      <td>lose</td>\n",
       "      <td>win</td>\n",
       "    </tr>\n",
       "    <tr>\n",
       "      <th>20</th>\n",
       "      <td>20</td>\n",
       "      <td>37934919</td>\n",
       "      <td>37099239</td>\n",
       "      <td>rewarded</td>\n",
       "      <td>0.0</td>\n",
       "      <td>rewarded</td>\n",
       "      <td>1854961</td>\n",
       "      <td>rewarded</td>\n",
       "      <td>rewarded</td>\n",
       "    </tr>\n",
       "    <tr>\n",
       "      <th>21</th>\n",
       "      <td>21</td>\n",
       "      <td>39134916</td>\n",
       "      <td>38299236</td>\n",
       "      <td>rewarded</td>\n",
       "      <td>0.0</td>\n",
       "      <td>rewarded</td>\n",
       "      <td>1914961</td>\n",
       "      <td>rewarded</td>\n",
       "      <td>rewarded</td>\n",
       "    </tr>\n",
       "    <tr>\n",
       "      <th>22</th>\n",
       "      <td>22</td>\n",
       "      <td>40234916</td>\n",
       "      <td>39399236</td>\n",
       "      <td>rewarded</td>\n",
       "      <td>0.0</td>\n",
       "      <td>rewarded</td>\n",
       "      <td>1969961</td>\n",
       "      <td>rewarded</td>\n",
       "      <td>rewarded</td>\n",
       "    </tr>\n",
       "    <tr>\n",
       "      <th>23</th>\n",
       "      <td>23</td>\n",
       "      <td>41534918</td>\n",
       "      <td>40699238</td>\n",
       "      <td>rewarded</td>\n",
       "      <td>0.0</td>\n",
       "      <td>rewarded</td>\n",
       "      <td>2034961</td>\n",
       "      <td>rewarded</td>\n",
       "      <td>rewarded</td>\n",
       "    </tr>\n",
       "    <tr>\n",
       "      <th>24</th>\n",
       "      <td>24</td>\n",
       "      <td>42634918</td>\n",
       "      <td>41799238</td>\n",
       "      <td>rewarded</td>\n",
       "      <td>0.0</td>\n",
       "      <td>rewarded</td>\n",
       "      <td>2089961</td>\n",
       "      <td>rewarded</td>\n",
       "      <td>rewarded</td>\n",
       "    </tr>\n",
       "    <tr>\n",
       "      <th>25</th>\n",
       "      <td>25</td>\n",
       "      <td>43634915</td>\n",
       "      <td>42799235</td>\n",
       "      <td>rewarded</td>\n",
       "      <td>0.0</td>\n",
       "      <td>rewarded</td>\n",
       "      <td>2139961</td>\n",
       "      <td>rewarded</td>\n",
       "      <td>rewarded</td>\n",
       "    </tr>\n",
       "    <tr>\n",
       "      <th>26</th>\n",
       "      <td>26</td>\n",
       "      <td>44634917</td>\n",
       "      <td>43799237</td>\n",
       "      <td>rewarded</td>\n",
       "      <td>0.0</td>\n",
       "      <td>rewarded</td>\n",
       "      <td>2189961</td>\n",
       "      <td>rewarded</td>\n",
       "      <td>rewarded</td>\n",
       "    </tr>\n",
       "    <tr>\n",
       "      <th>27</th>\n",
       "      <td>27</td>\n",
       "      <td>46734914</td>\n",
       "      <td>45899234</td>\n",
       "      <td>omission</td>\n",
       "      <td>0.0</td>\n",
       "      <td>omission</td>\n",
       "      <td>2294961</td>\n",
       "      <td>omission</td>\n",
       "      <td>omission</td>\n",
       "    </tr>\n",
       "    <tr>\n",
       "      <th>28</th>\n",
       "      <td>28</td>\n",
       "      <td>49134915</td>\n",
       "      <td>48299235</td>\n",
       "      <td>rewarded</td>\n",
       "      <td>0.0</td>\n",
       "      <td>rewarded</td>\n",
       "      <td>2414961</td>\n",
       "      <td>rewarded</td>\n",
       "      <td>rewarded</td>\n",
       "    </tr>\n",
       "    <tr>\n",
       "      <th>29</th>\n",
       "      <td>29</td>\n",
       "      <td>51534912</td>\n",
       "      <td>50699232</td>\n",
       "      <td>rewarded</td>\n",
       "      <td>0.0</td>\n",
       "      <td>rewarded</td>\n",
       "      <td>2534961</td>\n",
       "      <td>rewarded</td>\n",
       "      <td>rewarded</td>\n",
       "    </tr>\n",
       "    <tr>\n",
       "      <th>30</th>\n",
       "      <td>30</td>\n",
       "      <td>53734914</td>\n",
       "      <td>52899234</td>\n",
       "      <td>rewarded</td>\n",
       "      <td>0.0</td>\n",
       "      <td>rewarded</td>\n",
       "      <td>2644961</td>\n",
       "      <td>rewarded</td>\n",
       "      <td>rewarded</td>\n",
       "    </tr>\n",
       "    <tr>\n",
       "      <th>31</th>\n",
       "      <td>31</td>\n",
       "      <td>55434913</td>\n",
       "      <td>54599233</td>\n",
       "      <td>rewarded</td>\n",
       "      <td>0.0</td>\n",
       "      <td>rewarded</td>\n",
       "      <td>2729961</td>\n",
       "      <td>rewarded</td>\n",
       "      <td>rewarded</td>\n",
       "    </tr>\n",
       "    <tr>\n",
       "      <th>32</th>\n",
       "      <td>32</td>\n",
       "      <td>57834912</td>\n",
       "      <td>56999232</td>\n",
       "      <td>rewarded</td>\n",
       "      <td>0.0</td>\n",
       "      <td>rewarded</td>\n",
       "      <td>2849961</td>\n",
       "      <td>rewarded</td>\n",
       "      <td>rewarded</td>\n",
       "    </tr>\n",
       "    <tr>\n",
       "      <th>33</th>\n",
       "      <td>33</td>\n",
       "      <td>59034912</td>\n",
       "      <td>58199232</td>\n",
       "      <td>omission</td>\n",
       "      <td>0.0</td>\n",
       "      <td>omission</td>\n",
       "      <td>2909961</td>\n",
       "      <td>omission</td>\n",
       "      <td>omission</td>\n",
       "    </tr>\n",
       "    <tr>\n",
       "      <th>34</th>\n",
       "      <td>34</td>\n",
       "      <td>60334909</td>\n",
       "      <td>59499229</td>\n",
       "      <td>rewarded</td>\n",
       "      <td>0.0</td>\n",
       "      <td>rewarded</td>\n",
       "      <td>2974961</td>\n",
       "      <td>rewarded</td>\n",
       "      <td>rewarded</td>\n",
       "    </tr>\n",
       "    <tr>\n",
       "      <th>35</th>\n",
       "      <td>35</td>\n",
       "      <td>61534911</td>\n",
       "      <td>60699231</td>\n",
       "      <td>rewarded</td>\n",
       "      <td>0.0</td>\n",
       "      <td>rewarded</td>\n",
       "      <td>3034961</td>\n",
       "      <td>rewarded</td>\n",
       "      <td>rewarded</td>\n",
       "    </tr>\n",
       "    <tr>\n",
       "      <th>36</th>\n",
       "      <td>36</td>\n",
       "      <td>63034911</td>\n",
       "      <td>62199231</td>\n",
       "      <td>rewarded</td>\n",
       "      <td>0.0</td>\n",
       "      <td>rewarded</td>\n",
       "      <td>3109961</td>\n",
       "      <td>rewarded</td>\n",
       "      <td>rewarded</td>\n",
       "    </tr>\n",
       "    <tr>\n",
       "      <th>37</th>\n",
       "      <td>37</td>\n",
       "      <td>65034907</td>\n",
       "      <td>64199227</td>\n",
       "      <td>omission</td>\n",
       "      <td>0.0</td>\n",
       "      <td>omission</td>\n",
       "      <td>3209961</td>\n",
       "      <td>omission</td>\n",
       "      <td>omission</td>\n",
       "    </tr>\n",
       "  </tbody>\n",
       "</table>\n",
       "</div>"
      ],
      "text/plain": [
       "    Unnamed: 0  tone_timestamp  tone_index rewarded_or_not  \\\n",
       "0            0         1934930     1099250        rewarded   \n",
       "1            1         4334936     3499256        rewarded   \n",
       "2            2         6634931     5799251        rewarded   \n",
       "3            3         8434930     7599250        rewarded   \n",
       "4            4         9534930     8699250        rewarded   \n",
       "5            5        10534929     9699249        rewarded   \n",
       "6            6        12434926    11599246        rewarded   \n",
       "7            7        13934925    13099245        rewarded   \n",
       "8            8        16034924    15199244        rewarded   \n",
       "9            9        17034926    16199246        rewarded   \n",
       "10          10        18634925    17799245        rewarded   \n",
       "11          11        19934925    19099245        rewarded   \n",
       "12          12        21234922    20399242        rewarded   \n",
       "13          13        22234924    21399244        rewarded   \n",
       "14          14        23634923    22799243        rewarded   \n",
       "15          15        25534923    24699243        rewarded   \n",
       "16          16        27134920    26299240        rewarded   \n",
       "17          17        28534922    27699242        rewarded   \n",
       "18          18        30734921    29899241        rewarded   \n",
       "19          19        31934918    31099238        rewarded   \n",
       "20          20        37934919    37099239        rewarded   \n",
       "21          21        39134916    38299236        rewarded   \n",
       "22          22        40234916    39399236        rewarded   \n",
       "23          23        41534918    40699238        rewarded   \n",
       "24          24        42634918    41799238        rewarded   \n",
       "25          25        43634915    42799235        rewarded   \n",
       "26          26        44634917    43799237        rewarded   \n",
       "27          27        46734914    45899234        omission   \n",
       "28          28        49134915    48299235        rewarded   \n",
       "29          29        51534912    50699232        rewarded   \n",
       "30          30        53734914    52899234        rewarded   \n",
       "31          31        55434913    54599233        rewarded   \n",
       "32          32        57834912    56999232        rewarded   \n",
       "33          33        59034912    58199232        omission   \n",
       "34          34        60334909    59499229        rewarded   \n",
       "35          35        61534911    60699231        rewarded   \n",
       "36          36        63034911    62199231        rewarded   \n",
       "37          37        65034907    64199227        omission   \n",
       "\n",
       "    competition_winners condition  lfp_index subj_1_1_condition  \\\n",
       "0                   1.4       1.4      54962               lose   \n",
       "1                   1.1       1.1     174962                win   \n",
       "2                   1.1       1.1     289962                win   \n",
       "3                   1.4       1.4     379962               lose   \n",
       "4                   1.1       1.1     434962                win   \n",
       "5                   1.4       1.4     484962               lose   \n",
       "6                   1.4       1.4     579962               lose   \n",
       "7                   1.4       1.4     654962               lose   \n",
       "8                   1.1       1.1     759962                win   \n",
       "9                   1.1       1.1     809962                win   \n",
       "10                  1.1       1.1     889962                win   \n",
       "11                  1.1       1.1     954962                win   \n",
       "12                  1.1       1.1    1019962                win   \n",
       "13                  1.1       1.1    1069962                win   \n",
       "14                  1.1       1.1    1139962                win   \n",
       "15                  1.1       1.1    1234962                win   \n",
       "16                  1.1       1.1    1314962                win   \n",
       "17                  1.1       1.1    1384962                win   \n",
       "18                  1.1       1.1    1494962                win   \n",
       "19                  1.4       1.4    1554961               lose   \n",
       "20                  0.0  rewarded    1854961           rewarded   \n",
       "21                  0.0  rewarded    1914961           rewarded   \n",
       "22                  0.0  rewarded    1969961           rewarded   \n",
       "23                  0.0  rewarded    2034961           rewarded   \n",
       "24                  0.0  rewarded    2089961           rewarded   \n",
       "25                  0.0  rewarded    2139961           rewarded   \n",
       "26                  0.0  rewarded    2189961           rewarded   \n",
       "27                  0.0  omission    2294961           omission   \n",
       "28                  0.0  rewarded    2414961           rewarded   \n",
       "29                  0.0  rewarded    2534961           rewarded   \n",
       "30                  0.0  rewarded    2644961           rewarded   \n",
       "31                  0.0  rewarded    2729961           rewarded   \n",
       "32                  0.0  rewarded    2849961           rewarded   \n",
       "33                  0.0  omission    2909961           omission   \n",
       "34                  0.0  rewarded    2974961           rewarded   \n",
       "35                  0.0  rewarded    3034961           rewarded   \n",
       "36                  0.0  rewarded    3109961           rewarded   \n",
       "37                  0.0  omission    3209961           omission   \n",
       "\n",
       "   subj_1_4_condition  \n",
       "0                 win  \n",
       "1                lose  \n",
       "2                lose  \n",
       "3                 win  \n",
       "4                lose  \n",
       "5                 win  \n",
       "6                 win  \n",
       "7                 win  \n",
       "8                lose  \n",
       "9                lose  \n",
       "10               lose  \n",
       "11               lose  \n",
       "12               lose  \n",
       "13               lose  \n",
       "14               lose  \n",
       "15               lose  \n",
       "16               lose  \n",
       "17               lose  \n",
       "18               lose  \n",
       "19                win  \n",
       "20           rewarded  \n",
       "21           rewarded  \n",
       "22           rewarded  \n",
       "23           rewarded  \n",
       "24           rewarded  \n",
       "25           rewarded  \n",
       "26           rewarded  \n",
       "27           omission  \n",
       "28           rewarded  \n",
       "29           rewarded  \n",
       "30           rewarded  \n",
       "31           rewarded  \n",
       "32           rewarded  \n",
       "33           omission  \n",
       "34           rewarded  \n",
       "35           rewarded  \n",
       "36           rewarded  \n",
       "37           omission  "
      ]
     },
     "execution_count": 12,
     "metadata": {},
     "output_type": "execute_result"
    }
   ],
   "source": [
    "tone_time_stamps_df"
   ]
  },
  {
   "cell_type": "markdown",
   "id": "83748a43",
   "metadata": {},
   "source": [
    "# Reading in Phy"
   ]
  },
  {
   "cell_type": "markdown",
   "id": "c232c0a1",
   "metadata": {},
   "source": [
    "- Which unit the spike came from"
   ]
  },
  {
   "cell_type": "code",
   "execution_count": 13,
   "id": "1a3adb7b-c849-469f-94f4-eb491e4927ad",
   "metadata": {},
   "outputs": [],
   "source": [
    "subj_dir = \"/scratch/back_up/reward_competition_extention/proc/spike_sorting/20230618_100636_standard_comp_to_omission_D2_subj_1_1_t1b2L_box2_merged.rec\"\n"
   ]
  },
  {
   "cell_type": "code",
   "execution_count": 14,
   "id": "bb561ed6",
   "metadata": {},
   "outputs": [],
   "source": [
    "spike_clusters = np.load(os.path.join(subj_dir, \"phy/spike_clusters.npy\"))"
   ]
  },
  {
   "cell_type": "code",
   "execution_count": 15,
   "id": "5989cef7",
   "metadata": {},
   "outputs": [
    {
     "data": {
      "text/plain": [
       "array([24, 20, 40,  7, 24,  2,  6,  8, 32,  7], dtype=int32)"
      ]
     },
     "execution_count": 15,
     "metadata": {},
     "output_type": "execute_result"
    }
   ],
   "source": [
    "spike_clusters[:10]"
   ]
  },
  {
   "cell_type": "markdown",
   "id": "c6570be1",
   "metadata": {},
   "source": [
    "- The classification of each unit"
   ]
  },
  {
   "cell_type": "code",
   "execution_count": 16,
   "id": "8406e0f4",
   "metadata": {},
   "outputs": [],
   "source": [
    "cluster_group_df = pd.read_csv(os.path.join(subj_dir, \"phy/cluster_info.tsv\"), sep=\"\\t\")"
   ]
  },
  {
   "cell_type": "code",
   "execution_count": 17,
   "id": "a240a81f",
   "metadata": {},
   "outputs": [],
   "source": [
    "non_mpfc_channels = [28, 29, 30, 31]"
   ]
  },
  {
   "cell_type": "code",
   "execution_count": 18,
   "id": "ce1b0e50",
   "metadata": {},
   "outputs": [],
   "source": [
    "cluster_group_df = cluster_group_df[~cluster_group_df[\"ch\"].isin(non_mpfc_channels)]"
   ]
  },
  {
   "cell_type": "code",
   "execution_count": 19,
   "id": "c0ccd932",
   "metadata": {},
   "outputs": [
    {
     "data": {
      "text/html": [
       "<div>\n",
       "<style scoped>\n",
       "    .dataframe tbody tr th:only-of-type {\n",
       "        vertical-align: middle;\n",
       "    }\n",
       "\n",
       "    .dataframe tbody tr th {\n",
       "        vertical-align: top;\n",
       "    }\n",
       "\n",
       "    .dataframe thead th {\n",
       "        text-align: right;\n",
       "    }\n",
       "</style>\n",
       "<table border=\"1\" class=\"dataframe\">\n",
       "  <thead>\n",
       "    <tr style=\"text-align: right;\">\n",
       "      <th></th>\n",
       "      <th>cluster_id</th>\n",
       "      <th>amp</th>\n",
       "      <th>ch</th>\n",
       "      <th>channel_group</th>\n",
       "      <th>depth</th>\n",
       "      <th>fr</th>\n",
       "      <th>group</th>\n",
       "      <th>n_spikes</th>\n",
       "      <th>sh</th>\n",
       "      <th>si_unit_id</th>\n",
       "    </tr>\n",
       "  </thead>\n",
       "  <tbody>\n",
       "    <tr>\n",
       "      <th>0</th>\n",
       "      <td>0</td>\n",
       "      <td>10.375586</td>\n",
       "      <td>0</td>\n",
       "      <td>0</td>\n",
       "      <td>0.0</td>\n",
       "      <td>17.727840</td>\n",
       "      <td>mua</td>\n",
       "      <td>58150</td>\n",
       "      <td>0</td>\n",
       "      <td>1</td>\n",
       "    </tr>\n",
       "    <tr>\n",
       "      <th>1</th>\n",
       "      <td>1</td>\n",
       "      <td>24.589169</td>\n",
       "      <td>0</td>\n",
       "      <td>0</td>\n",
       "      <td>0.0</td>\n",
       "      <td>0.894471</td>\n",
       "      <td>good</td>\n",
       "      <td>2934</td>\n",
       "      <td>0</td>\n",
       "      <td>2</td>\n",
       "    </tr>\n",
       "    <tr>\n",
       "      <th>2</th>\n",
       "      <td>2</td>\n",
       "      <td>8.472431</td>\n",
       "      <td>1</td>\n",
       "      <td>0</td>\n",
       "      <td>20.0</td>\n",
       "      <td>10.257148</td>\n",
       "      <td>mua</td>\n",
       "      <td>33645</td>\n",
       "      <td>0</td>\n",
       "      <td>3</td>\n",
       "    </tr>\n",
       "    <tr>\n",
       "      <th>3</th>\n",
       "      <td>3</td>\n",
       "      <td>31.092701</td>\n",
       "      <td>1</td>\n",
       "      <td>0</td>\n",
       "      <td>20.0</td>\n",
       "      <td>0.695090</td>\n",
       "      <td>good</td>\n",
       "      <td>2280</td>\n",
       "      <td>0</td>\n",
       "      <td>4</td>\n",
       "    </tr>\n",
       "    <tr>\n",
       "      <th>4</th>\n",
       "      <td>4</td>\n",
       "      <td>31.629177</td>\n",
       "      <td>1</td>\n",
       "      <td>0</td>\n",
       "      <td>20.0</td>\n",
       "      <td>0.165236</td>\n",
       "      <td>good</td>\n",
       "      <td>542</td>\n",
       "      <td>0</td>\n",
       "      <td>5</td>\n",
       "    </tr>\n",
       "    <tr>\n",
       "      <th>5</th>\n",
       "      <td>5</td>\n",
       "      <td>7.804753</td>\n",
       "      <td>3</td>\n",
       "      <td>0</td>\n",
       "      <td>60.0</td>\n",
       "      <td>1.023428</td>\n",
       "      <td>noise</td>\n",
       "      <td>3357</td>\n",
       "      <td>0</td>\n",
       "      <td>6</td>\n",
       "    </tr>\n",
       "    <tr>\n",
       "      <th>6</th>\n",
       "      <td>6</td>\n",
       "      <td>15.093220</td>\n",
       "      <td>3</td>\n",
       "      <td>0</td>\n",
       "      <td>60.0</td>\n",
       "      <td>2.099903</td>\n",
       "      <td>good</td>\n",
       "      <td>6888</td>\n",
       "      <td>0</td>\n",
       "      <td>7</td>\n",
       "    </tr>\n",
       "    <tr>\n",
       "      <th>7</th>\n",
       "      <td>7</td>\n",
       "      <td>10.123846</td>\n",
       "      <td>4</td>\n",
       "      <td>0</td>\n",
       "      <td>80.0</td>\n",
       "      <td>4.552229</td>\n",
       "      <td>good</td>\n",
       "      <td>14932</td>\n",
       "      <td>0</td>\n",
       "      <td>8</td>\n",
       "    </tr>\n",
       "    <tr>\n",
       "      <th>8</th>\n",
       "      <td>8</td>\n",
       "      <td>24.237030</td>\n",
       "      <td>5</td>\n",
       "      <td>0</td>\n",
       "      <td>100.0</td>\n",
       "      <td>4.171149</td>\n",
       "      <td>good</td>\n",
       "      <td>13682</td>\n",
       "      <td>0</td>\n",
       "      <td>9</td>\n",
       "    </tr>\n",
       "    <tr>\n",
       "      <th>9</th>\n",
       "      <td>10</td>\n",
       "      <td>12.611455</td>\n",
       "      <td>7</td>\n",
       "      <td>0</td>\n",
       "      <td>140.0</td>\n",
       "      <td>2.171546</td>\n",
       "      <td>good</td>\n",
       "      <td>7123</td>\n",
       "      <td>0</td>\n",
       "      <td>12</td>\n",
       "    </tr>\n",
       "    <tr>\n",
       "      <th>10</th>\n",
       "      <td>11</td>\n",
       "      <td>8.445442</td>\n",
       "      <td>7</td>\n",
       "      <td>0</td>\n",
       "      <td>140.0</td>\n",
       "      <td>1.294757</td>\n",
       "      <td>mua</td>\n",
       "      <td>4247</td>\n",
       "      <td>0</td>\n",
       "      <td>13</td>\n",
       "    </tr>\n",
       "    <tr>\n",
       "      <th>11</th>\n",
       "      <td>12</td>\n",
       "      <td>9.502448</td>\n",
       "      <td>9</td>\n",
       "      <td>0</td>\n",
       "      <td>180.0</td>\n",
       "      <td>0.742649</td>\n",
       "      <td>mua</td>\n",
       "      <td>2436</td>\n",
       "      <td>0</td>\n",
       "      <td>14</td>\n",
       "    </tr>\n",
       "    <tr>\n",
       "      <th>12</th>\n",
       "      <td>13</td>\n",
       "      <td>9.547378</td>\n",
       "      <td>10</td>\n",
       "      <td>0</td>\n",
       "      <td>200.0</td>\n",
       "      <td>3.409294</td>\n",
       "      <td>mua</td>\n",
       "      <td>11183</td>\n",
       "      <td>0</td>\n",
       "      <td>15</td>\n",
       "    </tr>\n",
       "    <tr>\n",
       "      <th>13</th>\n",
       "      <td>14</td>\n",
       "      <td>22.840141</td>\n",
       "      <td>11</td>\n",
       "      <td>0</td>\n",
       "      <td>220.0</td>\n",
       "      <td>0.935323</td>\n",
       "      <td>good</td>\n",
       "      <td>3068</td>\n",
       "      <td>0</td>\n",
       "      <td>16</td>\n",
       "    </tr>\n",
       "    <tr>\n",
       "      <th>14</th>\n",
       "      <td>16</td>\n",
       "      <td>42.307228</td>\n",
       "      <td>12</td>\n",
       "      <td>0</td>\n",
       "      <td>240.0</td>\n",
       "      <td>0.057924</td>\n",
       "      <td>noise</td>\n",
       "      <td>190</td>\n",
       "      <td>0</td>\n",
       "      <td>18</td>\n",
       "    </tr>\n",
       "    <tr>\n",
       "      <th>15</th>\n",
       "      <td>17</td>\n",
       "      <td>8.275642</td>\n",
       "      <td>13</td>\n",
       "      <td>0</td>\n",
       "      <td>260.0</td>\n",
       "      <td>2.423669</td>\n",
       "      <td>mua</td>\n",
       "      <td>7950</td>\n",
       "      <td>0</td>\n",
       "      <td>19</td>\n",
       "    </tr>\n",
       "    <tr>\n",
       "      <th>16</th>\n",
       "      <td>18</td>\n",
       "      <td>16.841473</td>\n",
       "      <td>13</td>\n",
       "      <td>0</td>\n",
       "      <td>260.0</td>\n",
       "      <td>0.754843</td>\n",
       "      <td>mua</td>\n",
       "      <td>2476</td>\n",
       "      <td>0</td>\n",
       "      <td>20</td>\n",
       "    </tr>\n",
       "    <tr>\n",
       "      <th>17</th>\n",
       "      <td>20</td>\n",
       "      <td>10.235216</td>\n",
       "      <td>14</td>\n",
       "      <td>0</td>\n",
       "      <td>280.0</td>\n",
       "      <td>14.953578</td>\n",
       "      <td>good</td>\n",
       "      <td>49050</td>\n",
       "      <td>0</td>\n",
       "      <td>22</td>\n",
       "    </tr>\n",
       "    <tr>\n",
       "      <th>18</th>\n",
       "      <td>21</td>\n",
       "      <td>8.800079</td>\n",
       "      <td>16</td>\n",
       "      <td>0</td>\n",
       "      <td>320.0</td>\n",
       "      <td>2.114536</td>\n",
       "      <td>mua</td>\n",
       "      <td>6936</td>\n",
       "      <td>0</td>\n",
       "      <td>23</td>\n",
       "    </tr>\n",
       "    <tr>\n",
       "      <th>19</th>\n",
       "      <td>22</td>\n",
       "      <td>10.123254</td>\n",
       "      <td>16</td>\n",
       "      <td>0</td>\n",
       "      <td>320.0</td>\n",
       "      <td>0.806365</td>\n",
       "      <td>mua</td>\n",
       "      <td>2645</td>\n",
       "      <td>0</td>\n",
       "      <td>24</td>\n",
       "    </tr>\n",
       "    <tr>\n",
       "      <th>20</th>\n",
       "      <td>24</td>\n",
       "      <td>9.586937</td>\n",
       "      <td>17</td>\n",
       "      <td>0</td>\n",
       "      <td>340.0</td>\n",
       "      <td>10.019354</td>\n",
       "      <td>mua</td>\n",
       "      <td>32865</td>\n",
       "      <td>0</td>\n",
       "      <td>26</td>\n",
       "    </tr>\n",
       "    <tr>\n",
       "      <th>21</th>\n",
       "      <td>25</td>\n",
       "      <td>10.941107</td>\n",
       "      <td>18</td>\n",
       "      <td>0</td>\n",
       "      <td>360.0</td>\n",
       "      <td>4.447051</td>\n",
       "      <td>mua</td>\n",
       "      <td>14587</td>\n",
       "      <td>0</td>\n",
       "      <td>27</td>\n",
       "    </tr>\n",
       "    <tr>\n",
       "      <th>22</th>\n",
       "      <td>26</td>\n",
       "      <td>10.636264</td>\n",
       "      <td>19</td>\n",
       "      <td>0</td>\n",
       "      <td>380.0</td>\n",
       "      <td>11.600989</td>\n",
       "      <td>mua</td>\n",
       "      <td>38053</td>\n",
       "      <td>0</td>\n",
       "      <td>28</td>\n",
       "    </tr>\n",
       "    <tr>\n",
       "      <th>23</th>\n",
       "      <td>27</td>\n",
       "      <td>8.309945</td>\n",
       "      <td>20</td>\n",
       "      <td>0</td>\n",
       "      <td>400.0</td>\n",
       "      <td>1.282563</td>\n",
       "      <td>mua</td>\n",
       "      <td>4207</td>\n",
       "      <td>0</td>\n",
       "      <td>29</td>\n",
       "    </tr>\n",
       "    <tr>\n",
       "      <th>24</th>\n",
       "      <td>29</td>\n",
       "      <td>8.820210</td>\n",
       "      <td>20</td>\n",
       "      <td>0</td>\n",
       "      <td>400.0</td>\n",
       "      <td>4.273278</td>\n",
       "      <td>good</td>\n",
       "      <td>14017</td>\n",
       "      <td>0</td>\n",
       "      <td>31</td>\n",
       "    </tr>\n",
       "    <tr>\n",
       "      <th>25</th>\n",
       "      <td>31</td>\n",
       "      <td>14.751020</td>\n",
       "      <td>21</td>\n",
       "      <td>0</td>\n",
       "      <td>420.0</td>\n",
       "      <td>0.149993</td>\n",
       "      <td>mua</td>\n",
       "      <td>492</td>\n",
       "      <td>0</td>\n",
       "      <td>33</td>\n",
       "    </tr>\n",
       "    <tr>\n",
       "      <th>26</th>\n",
       "      <td>32</td>\n",
       "      <td>10.271837</td>\n",
       "      <td>21</td>\n",
       "      <td>0</td>\n",
       "      <td>420.0</td>\n",
       "      <td>3.544958</td>\n",
       "      <td>mua</td>\n",
       "      <td>11628</td>\n",
       "      <td>0</td>\n",
       "      <td>34</td>\n",
       "    </tr>\n",
       "    <tr>\n",
       "      <th>27</th>\n",
       "      <td>33</td>\n",
       "      <td>24.120108</td>\n",
       "      <td>22</td>\n",
       "      <td>0</td>\n",
       "      <td>440.0</td>\n",
       "      <td>0.335960</td>\n",
       "      <td>mua</td>\n",
       "      <td>1102</td>\n",
       "      <td>0</td>\n",
       "      <td>35</td>\n",
       "    </tr>\n",
       "    <tr>\n",
       "      <th>28</th>\n",
       "      <td>34</td>\n",
       "      <td>9.675260</td>\n",
       "      <td>22</td>\n",
       "      <td>0</td>\n",
       "      <td>440.0</td>\n",
       "      <td>2.607806</td>\n",
       "      <td>mua</td>\n",
       "      <td>8554</td>\n",
       "      <td>0</td>\n",
       "      <td>36</td>\n",
       "    </tr>\n",
       "    <tr>\n",
       "      <th>29</th>\n",
       "      <td>35</td>\n",
       "      <td>10.389857</td>\n",
       "      <td>22</td>\n",
       "      <td>0</td>\n",
       "      <td>440.0</td>\n",
       "      <td>0.632898</td>\n",
       "      <td>mua</td>\n",
       "      <td>2076</td>\n",
       "      <td>0</td>\n",
       "      <td>37</td>\n",
       "    </tr>\n",
       "    <tr>\n",
       "      <th>30</th>\n",
       "      <td>36</td>\n",
       "      <td>11.195166</td>\n",
       "      <td>23</td>\n",
       "      <td>0</td>\n",
       "      <td>460.0</td>\n",
       "      <td>8.017922</td>\n",
       "      <td>mua</td>\n",
       "      <td>26300</td>\n",
       "      <td>0</td>\n",
       "      <td>38</td>\n",
       "    </tr>\n",
       "    <tr>\n",
       "      <th>31</th>\n",
       "      <td>37</td>\n",
       "      <td>10.195659</td>\n",
       "      <td>24</td>\n",
       "      <td>0</td>\n",
       "      <td>480.0</td>\n",
       "      <td>5.347619</td>\n",
       "      <td>mua</td>\n",
       "      <td>17541</td>\n",
       "      <td>0</td>\n",
       "      <td>39</td>\n",
       "    </tr>\n",
       "    <tr>\n",
       "      <th>32</th>\n",
       "      <td>38</td>\n",
       "      <td>16.961168</td>\n",
       "      <td>24</td>\n",
       "      <td>0</td>\n",
       "      <td>480.0</td>\n",
       "      <td>2.368183</td>\n",
       "      <td>good</td>\n",
       "      <td>7768</td>\n",
       "      <td>0</td>\n",
       "      <td>40</td>\n",
       "    </tr>\n",
       "    <tr>\n",
       "      <th>33</th>\n",
       "      <td>39</td>\n",
       "      <td>8.806219</td>\n",
       "      <td>25</td>\n",
       "      <td>0</td>\n",
       "      <td>500.0</td>\n",
       "      <td>4.396138</td>\n",
       "      <td>mua</td>\n",
       "      <td>14420</td>\n",
       "      <td>0</td>\n",
       "      <td>41</td>\n",
       "    </tr>\n",
       "    <tr>\n",
       "      <th>34</th>\n",
       "      <td>40</td>\n",
       "      <td>17.523331</td>\n",
       "      <td>26</td>\n",
       "      <td>0</td>\n",
       "      <td>520.0</td>\n",
       "      <td>14.309705</td>\n",
       "      <td>good</td>\n",
       "      <td>46938</td>\n",
       "      <td>0</td>\n",
       "      <td>42</td>\n",
       "    </tr>\n",
       "    <tr>\n",
       "      <th>35</th>\n",
       "      <td>41</td>\n",
       "      <td>8.214363</td>\n",
       "      <td>26</td>\n",
       "      <td>0</td>\n",
       "      <td>520.0</td>\n",
       "      <td>1.903875</td>\n",
       "      <td>mua</td>\n",
       "      <td>6245</td>\n",
       "      <td>0</td>\n",
       "      <td>43</td>\n",
       "    </tr>\n",
       "    <tr>\n",
       "      <th>36</th>\n",
       "      <td>43</td>\n",
       "      <td>254.600037</td>\n",
       "      <td>12</td>\n",
       "      <td>0</td>\n",
       "      <td>240.0</td>\n",
       "      <td>0.008231</td>\n",
       "      <td>noise</td>\n",
       "      <td>27</td>\n",
       "      <td>0</td>\n",
       "      <td>45</td>\n",
       "    </tr>\n",
       "    <tr>\n",
       "      <th>39</th>\n",
       "      <td>48</td>\n",
       "      <td>7.392273</td>\n",
       "      <td>5</td>\n",
       "      <td>0</td>\n",
       "      <td>100.0</td>\n",
       "      <td>1.082877</td>\n",
       "      <td>good</td>\n",
       "      <td>3552</td>\n",
       "      <td>0</td>\n",
       "      <td>10</td>\n",
       "    </tr>\n",
       "    <tr>\n",
       "      <th>40</th>\n",
       "      <td>49</td>\n",
       "      <td>7.392273</td>\n",
       "      <td>5</td>\n",
       "      <td>0</td>\n",
       "      <td>100.0</td>\n",
       "      <td>0.067375</td>\n",
       "      <td>noise</td>\n",
       "      <td>221</td>\n",
       "      <td>0</td>\n",
       "      <td>10</td>\n",
       "    </tr>\n",
       "    <tr>\n",
       "      <th>41</th>\n",
       "      <td>50</td>\n",
       "      <td>7.985226</td>\n",
       "      <td>11</td>\n",
       "      <td>0</td>\n",
       "      <td>220.0</td>\n",
       "      <td>1.347499</td>\n",
       "      <td>mua</td>\n",
       "      <td>4420</td>\n",
       "      <td>0</td>\n",
       "      <td>17</td>\n",
       "    </tr>\n",
       "    <tr>\n",
       "      <th>42</th>\n",
       "      <td>51</td>\n",
       "      <td>7.985226</td>\n",
       "      <td>11</td>\n",
       "      <td>0</td>\n",
       "      <td>220.0</td>\n",
       "      <td>0.425285</td>\n",
       "      <td>mua</td>\n",
       "      <td>1395</td>\n",
       "      <td>0</td>\n",
       "      <td>17</td>\n",
       "    </tr>\n",
       "    <tr>\n",
       "      <th>43</th>\n",
       "      <td>54</td>\n",
       "      <td>8.983646</td>\n",
       "      <td>14</td>\n",
       "      <td>0</td>\n",
       "      <td>280.0</td>\n",
       "      <td>0.870387</td>\n",
       "      <td>mua</td>\n",
       "      <td>2855</td>\n",
       "      <td>0</td>\n",
       "      <td>21</td>\n",
       "    </tr>\n",
       "    <tr>\n",
       "      <th>44</th>\n",
       "      <td>55</td>\n",
       "      <td>8.983646</td>\n",
       "      <td>14</td>\n",
       "      <td>0</td>\n",
       "      <td>280.0</td>\n",
       "      <td>1.647485</td>\n",
       "      <td>good</td>\n",
       "      <td>5404</td>\n",
       "      <td>0</td>\n",
       "      <td>21</td>\n",
       "    </tr>\n",
       "    <tr>\n",
       "      <th>45</th>\n",
       "      <td>56</td>\n",
       "      <td>8.270014</td>\n",
       "      <td>16</td>\n",
       "      <td>0</td>\n",
       "      <td>320.0</td>\n",
       "      <td>0.209442</td>\n",
       "      <td>mua</td>\n",
       "      <td>687</td>\n",
       "      <td>0</td>\n",
       "      <td>25</td>\n",
       "    </tr>\n",
       "    <tr>\n",
       "      <th>46</th>\n",
       "      <td>57</td>\n",
       "      <td>8.270014</td>\n",
       "      <td>16</td>\n",
       "      <td>0</td>\n",
       "      <td>320.0</td>\n",
       "      <td>0.026828</td>\n",
       "      <td>noise</td>\n",
       "      <td>88</td>\n",
       "      <td>0</td>\n",
       "      <td>25</td>\n",
       "    </tr>\n",
       "    <tr>\n",
       "      <th>47</th>\n",
       "      <td>58</td>\n",
       "      <td>30.569328</td>\n",
       "      <td>20</td>\n",
       "      <td>0</td>\n",
       "      <td>400.0</td>\n",
       "      <td>0.574059</td>\n",
       "      <td>good</td>\n",
       "      <td>1883</td>\n",
       "      <td>0</td>\n",
       "      <td>30</td>\n",
       "    </tr>\n",
       "    <tr>\n",
       "      <th>48</th>\n",
       "      <td>59</td>\n",
       "      <td>30.569328</td>\n",
       "      <td>20</td>\n",
       "      <td>0</td>\n",
       "      <td>400.0</td>\n",
       "      <td>0.048778</td>\n",
       "      <td>noise</td>\n",
       "      <td>160</td>\n",
       "      <td>0</td>\n",
       "      <td>30</td>\n",
       "    </tr>\n",
       "    <tr>\n",
       "      <th>49</th>\n",
       "      <td>61</td>\n",
       "      <td>7.789620</td>\n",
       "      <td>20</td>\n",
       "      <td>0</td>\n",
       "      <td>400.0</td>\n",
       "      <td>0.325290</td>\n",
       "      <td>unsorted</td>\n",
       "      <td>1067</td>\n",
       "      <td>0</td>\n",
       "      <td>32</td>\n",
       "    </tr>\n",
       "    <tr>\n",
       "      <th>50</th>\n",
       "      <td>64</td>\n",
       "      <td>34.521278</td>\n",
       "      <td>27</td>\n",
       "      <td>0</td>\n",
       "      <td>540.0</td>\n",
       "      <td>0.352728</td>\n",
       "      <td>good</td>\n",
       "      <td>1157</td>\n",
       "      <td>0</td>\n",
       "      <td>44</td>\n",
       "    </tr>\n",
       "    <tr>\n",
       "      <th>51</th>\n",
       "      <td>65</td>\n",
       "      <td>34.521278</td>\n",
       "      <td>27</td>\n",
       "      <td>0</td>\n",
       "      <td>540.0</td>\n",
       "      <td>0.003049</td>\n",
       "      <td>noise</td>\n",
       "      <td>10</td>\n",
       "      <td>0</td>\n",
       "      <td>44</td>\n",
       "    </tr>\n",
       "    <tr>\n",
       "      <th>52</th>\n",
       "      <td>66</td>\n",
       "      <td>7.789620</td>\n",
       "      <td>20</td>\n",
       "      <td>0</td>\n",
       "      <td>400.0</td>\n",
       "      <td>0.448150</td>\n",
       "      <td>mua</td>\n",
       "      <td>1470</td>\n",
       "      <td>0</td>\n",
       "      <td>32</td>\n",
       "    </tr>\n",
       "    <tr>\n",
       "      <th>53</th>\n",
       "      <td>67</td>\n",
       "      <td>7.789620</td>\n",
       "      <td>20</td>\n",
       "      <td>0</td>\n",
       "      <td>400.0</td>\n",
       "      <td>0.303949</td>\n",
       "      <td>mua</td>\n",
       "      <td>997</td>\n",
       "      <td>0</td>\n",
       "      <td>32</td>\n",
       "    </tr>\n",
       "  </tbody>\n",
       "</table>\n",
       "</div>"
      ],
      "text/plain": [
       "    cluster_id         amp  ch  channel_group  depth         fr     group  \\\n",
       "0            0   10.375586   0              0    0.0  17.727840       mua   \n",
       "1            1   24.589169   0              0    0.0   0.894471      good   \n",
       "2            2    8.472431   1              0   20.0  10.257148       mua   \n",
       "3            3   31.092701   1              0   20.0   0.695090      good   \n",
       "4            4   31.629177   1              0   20.0   0.165236      good   \n",
       "5            5    7.804753   3              0   60.0   1.023428     noise   \n",
       "6            6   15.093220   3              0   60.0   2.099903      good   \n",
       "7            7   10.123846   4              0   80.0   4.552229      good   \n",
       "8            8   24.237030   5              0  100.0   4.171149      good   \n",
       "9           10   12.611455   7              0  140.0   2.171546      good   \n",
       "10          11    8.445442   7              0  140.0   1.294757       mua   \n",
       "11          12    9.502448   9              0  180.0   0.742649       mua   \n",
       "12          13    9.547378  10              0  200.0   3.409294       mua   \n",
       "13          14   22.840141  11              0  220.0   0.935323      good   \n",
       "14          16   42.307228  12              0  240.0   0.057924     noise   \n",
       "15          17    8.275642  13              0  260.0   2.423669       mua   \n",
       "16          18   16.841473  13              0  260.0   0.754843       mua   \n",
       "17          20   10.235216  14              0  280.0  14.953578      good   \n",
       "18          21    8.800079  16              0  320.0   2.114536       mua   \n",
       "19          22   10.123254  16              0  320.0   0.806365       mua   \n",
       "20          24    9.586937  17              0  340.0  10.019354       mua   \n",
       "21          25   10.941107  18              0  360.0   4.447051       mua   \n",
       "22          26   10.636264  19              0  380.0  11.600989       mua   \n",
       "23          27    8.309945  20              0  400.0   1.282563       mua   \n",
       "24          29    8.820210  20              0  400.0   4.273278      good   \n",
       "25          31   14.751020  21              0  420.0   0.149993       mua   \n",
       "26          32   10.271837  21              0  420.0   3.544958       mua   \n",
       "27          33   24.120108  22              0  440.0   0.335960       mua   \n",
       "28          34    9.675260  22              0  440.0   2.607806       mua   \n",
       "29          35   10.389857  22              0  440.0   0.632898       mua   \n",
       "30          36   11.195166  23              0  460.0   8.017922       mua   \n",
       "31          37   10.195659  24              0  480.0   5.347619       mua   \n",
       "32          38   16.961168  24              0  480.0   2.368183      good   \n",
       "33          39    8.806219  25              0  500.0   4.396138       mua   \n",
       "34          40   17.523331  26              0  520.0  14.309705      good   \n",
       "35          41    8.214363  26              0  520.0   1.903875       mua   \n",
       "36          43  254.600037  12              0  240.0   0.008231     noise   \n",
       "39          48    7.392273   5              0  100.0   1.082877      good   \n",
       "40          49    7.392273   5              0  100.0   0.067375     noise   \n",
       "41          50    7.985226  11              0  220.0   1.347499       mua   \n",
       "42          51    7.985226  11              0  220.0   0.425285       mua   \n",
       "43          54    8.983646  14              0  280.0   0.870387       mua   \n",
       "44          55    8.983646  14              0  280.0   1.647485      good   \n",
       "45          56    8.270014  16              0  320.0   0.209442       mua   \n",
       "46          57    8.270014  16              0  320.0   0.026828     noise   \n",
       "47          58   30.569328  20              0  400.0   0.574059      good   \n",
       "48          59   30.569328  20              0  400.0   0.048778     noise   \n",
       "49          61    7.789620  20              0  400.0   0.325290  unsorted   \n",
       "50          64   34.521278  27              0  540.0   0.352728      good   \n",
       "51          65   34.521278  27              0  540.0   0.003049     noise   \n",
       "52          66    7.789620  20              0  400.0   0.448150       mua   \n",
       "53          67    7.789620  20              0  400.0   0.303949       mua   \n",
       "\n",
       "    n_spikes  sh  si_unit_id  \n",
       "0      58150   0           1  \n",
       "1       2934   0           2  \n",
       "2      33645   0           3  \n",
       "3       2280   0           4  \n",
       "4        542   0           5  \n",
       "5       3357   0           6  \n",
       "6       6888   0           7  \n",
       "7      14932   0           8  \n",
       "8      13682   0           9  \n",
       "9       7123   0          12  \n",
       "10      4247   0          13  \n",
       "11      2436   0          14  \n",
       "12     11183   0          15  \n",
       "13      3068   0          16  \n",
       "14       190   0          18  \n",
       "15      7950   0          19  \n",
       "16      2476   0          20  \n",
       "17     49050   0          22  \n",
       "18      6936   0          23  \n",
       "19      2645   0          24  \n",
       "20     32865   0          26  \n",
       "21     14587   0          27  \n",
       "22     38053   0          28  \n",
       "23      4207   0          29  \n",
       "24     14017   0          31  \n",
       "25       492   0          33  \n",
       "26     11628   0          34  \n",
       "27      1102   0          35  \n",
       "28      8554   0          36  \n",
       "29      2076   0          37  \n",
       "30     26300   0          38  \n",
       "31     17541   0          39  \n",
       "32      7768   0          40  \n",
       "33     14420   0          41  \n",
       "34     46938   0          42  \n",
       "35      6245   0          43  \n",
       "36        27   0          45  \n",
       "39      3552   0          10  \n",
       "40       221   0          10  \n",
       "41      4420   0          17  \n",
       "42      1395   0          17  \n",
       "43      2855   0          21  \n",
       "44      5404   0          21  \n",
       "45       687   0          25  \n",
       "46        88   0          25  \n",
       "47      1883   0          30  \n",
       "48       160   0          30  \n",
       "49      1067   0          32  \n",
       "50      1157   0          44  \n",
       "51        10   0          44  \n",
       "52      1470   0          32  \n",
       "53       997   0          32  "
      ]
     },
     "execution_count": 19,
     "metadata": {},
     "output_type": "execute_result"
    }
   ],
   "source": [
    "cluster_group_df"
   ]
  },
  {
   "cell_type": "markdown",
   "id": "996eab81",
   "metadata": {},
   "source": [
    "- Filtering for the good units"
   ]
  },
  {
   "cell_type": "code",
   "execution_count": 20,
   "id": "8e4cf4f9",
   "metadata": {},
   "outputs": [],
   "source": [
    "good_unit_cluster_info_df = cluster_group_df[cluster_group_df[\"group\"] == \"good\"]"
   ]
  },
  {
   "cell_type": "code",
   "execution_count": 21,
   "id": "0b025678",
   "metadata": {},
   "outputs": [
    {
     "data": {
      "text/html": [
       "<div>\n",
       "<style scoped>\n",
       "    .dataframe tbody tr th:only-of-type {\n",
       "        vertical-align: middle;\n",
       "    }\n",
       "\n",
       "    .dataframe tbody tr th {\n",
       "        vertical-align: top;\n",
       "    }\n",
       "\n",
       "    .dataframe thead th {\n",
       "        text-align: right;\n",
       "    }\n",
       "</style>\n",
       "<table border=\"1\" class=\"dataframe\">\n",
       "  <thead>\n",
       "    <tr style=\"text-align: right;\">\n",
       "      <th></th>\n",
       "      <th>cluster_id</th>\n",
       "      <th>amp</th>\n",
       "      <th>ch</th>\n",
       "      <th>channel_group</th>\n",
       "      <th>depth</th>\n",
       "      <th>fr</th>\n",
       "      <th>group</th>\n",
       "      <th>n_spikes</th>\n",
       "      <th>sh</th>\n",
       "      <th>si_unit_id</th>\n",
       "    </tr>\n",
       "  </thead>\n",
       "  <tbody>\n",
       "    <tr>\n",
       "      <th>1</th>\n",
       "      <td>1</td>\n",
       "      <td>24.589169</td>\n",
       "      <td>0</td>\n",
       "      <td>0</td>\n",
       "      <td>0.0</td>\n",
       "      <td>0.894471</td>\n",
       "      <td>good</td>\n",
       "      <td>2934</td>\n",
       "      <td>0</td>\n",
       "      <td>2</td>\n",
       "    </tr>\n",
       "    <tr>\n",
       "      <th>3</th>\n",
       "      <td>3</td>\n",
       "      <td>31.092701</td>\n",
       "      <td>1</td>\n",
       "      <td>0</td>\n",
       "      <td>20.0</td>\n",
       "      <td>0.695090</td>\n",
       "      <td>good</td>\n",
       "      <td>2280</td>\n",
       "      <td>0</td>\n",
       "      <td>4</td>\n",
       "    </tr>\n",
       "    <tr>\n",
       "      <th>4</th>\n",
       "      <td>4</td>\n",
       "      <td>31.629177</td>\n",
       "      <td>1</td>\n",
       "      <td>0</td>\n",
       "      <td>20.0</td>\n",
       "      <td>0.165236</td>\n",
       "      <td>good</td>\n",
       "      <td>542</td>\n",
       "      <td>0</td>\n",
       "      <td>5</td>\n",
       "    </tr>\n",
       "    <tr>\n",
       "      <th>6</th>\n",
       "      <td>6</td>\n",
       "      <td>15.093220</td>\n",
       "      <td>3</td>\n",
       "      <td>0</td>\n",
       "      <td>60.0</td>\n",
       "      <td>2.099903</td>\n",
       "      <td>good</td>\n",
       "      <td>6888</td>\n",
       "      <td>0</td>\n",
       "      <td>7</td>\n",
       "    </tr>\n",
       "    <tr>\n",
       "      <th>7</th>\n",
       "      <td>7</td>\n",
       "      <td>10.123846</td>\n",
       "      <td>4</td>\n",
       "      <td>0</td>\n",
       "      <td>80.0</td>\n",
       "      <td>4.552229</td>\n",
       "      <td>good</td>\n",
       "      <td>14932</td>\n",
       "      <td>0</td>\n",
       "      <td>8</td>\n",
       "    </tr>\n",
       "    <tr>\n",
       "      <th>8</th>\n",
       "      <td>8</td>\n",
       "      <td>24.237030</td>\n",
       "      <td>5</td>\n",
       "      <td>0</td>\n",
       "      <td>100.0</td>\n",
       "      <td>4.171149</td>\n",
       "      <td>good</td>\n",
       "      <td>13682</td>\n",
       "      <td>0</td>\n",
       "      <td>9</td>\n",
       "    </tr>\n",
       "    <tr>\n",
       "      <th>9</th>\n",
       "      <td>10</td>\n",
       "      <td>12.611455</td>\n",
       "      <td>7</td>\n",
       "      <td>0</td>\n",
       "      <td>140.0</td>\n",
       "      <td>2.171546</td>\n",
       "      <td>good</td>\n",
       "      <td>7123</td>\n",
       "      <td>0</td>\n",
       "      <td>12</td>\n",
       "    </tr>\n",
       "    <tr>\n",
       "      <th>13</th>\n",
       "      <td>14</td>\n",
       "      <td>22.840141</td>\n",
       "      <td>11</td>\n",
       "      <td>0</td>\n",
       "      <td>220.0</td>\n",
       "      <td>0.935323</td>\n",
       "      <td>good</td>\n",
       "      <td>3068</td>\n",
       "      <td>0</td>\n",
       "      <td>16</td>\n",
       "    </tr>\n",
       "    <tr>\n",
       "      <th>17</th>\n",
       "      <td>20</td>\n",
       "      <td>10.235216</td>\n",
       "      <td>14</td>\n",
       "      <td>0</td>\n",
       "      <td>280.0</td>\n",
       "      <td>14.953578</td>\n",
       "      <td>good</td>\n",
       "      <td>49050</td>\n",
       "      <td>0</td>\n",
       "      <td>22</td>\n",
       "    </tr>\n",
       "    <tr>\n",
       "      <th>24</th>\n",
       "      <td>29</td>\n",
       "      <td>8.820210</td>\n",
       "      <td>20</td>\n",
       "      <td>0</td>\n",
       "      <td>400.0</td>\n",
       "      <td>4.273278</td>\n",
       "      <td>good</td>\n",
       "      <td>14017</td>\n",
       "      <td>0</td>\n",
       "      <td>31</td>\n",
       "    </tr>\n",
       "    <tr>\n",
       "      <th>32</th>\n",
       "      <td>38</td>\n",
       "      <td>16.961168</td>\n",
       "      <td>24</td>\n",
       "      <td>0</td>\n",
       "      <td>480.0</td>\n",
       "      <td>2.368183</td>\n",
       "      <td>good</td>\n",
       "      <td>7768</td>\n",
       "      <td>0</td>\n",
       "      <td>40</td>\n",
       "    </tr>\n",
       "    <tr>\n",
       "      <th>34</th>\n",
       "      <td>40</td>\n",
       "      <td>17.523331</td>\n",
       "      <td>26</td>\n",
       "      <td>0</td>\n",
       "      <td>520.0</td>\n",
       "      <td>14.309705</td>\n",
       "      <td>good</td>\n",
       "      <td>46938</td>\n",
       "      <td>0</td>\n",
       "      <td>42</td>\n",
       "    </tr>\n",
       "    <tr>\n",
       "      <th>39</th>\n",
       "      <td>48</td>\n",
       "      <td>7.392273</td>\n",
       "      <td>5</td>\n",
       "      <td>0</td>\n",
       "      <td>100.0</td>\n",
       "      <td>1.082877</td>\n",
       "      <td>good</td>\n",
       "      <td>3552</td>\n",
       "      <td>0</td>\n",
       "      <td>10</td>\n",
       "    </tr>\n",
       "    <tr>\n",
       "      <th>44</th>\n",
       "      <td>55</td>\n",
       "      <td>8.983646</td>\n",
       "      <td>14</td>\n",
       "      <td>0</td>\n",
       "      <td>280.0</td>\n",
       "      <td>1.647485</td>\n",
       "      <td>good</td>\n",
       "      <td>5404</td>\n",
       "      <td>0</td>\n",
       "      <td>21</td>\n",
       "    </tr>\n",
       "    <tr>\n",
       "      <th>47</th>\n",
       "      <td>58</td>\n",
       "      <td>30.569328</td>\n",
       "      <td>20</td>\n",
       "      <td>0</td>\n",
       "      <td>400.0</td>\n",
       "      <td>0.574059</td>\n",
       "      <td>good</td>\n",
       "      <td>1883</td>\n",
       "      <td>0</td>\n",
       "      <td>30</td>\n",
       "    </tr>\n",
       "    <tr>\n",
       "      <th>50</th>\n",
       "      <td>64</td>\n",
       "      <td>34.521278</td>\n",
       "      <td>27</td>\n",
       "      <td>0</td>\n",
       "      <td>540.0</td>\n",
       "      <td>0.352728</td>\n",
       "      <td>good</td>\n",
       "      <td>1157</td>\n",
       "      <td>0</td>\n",
       "      <td>44</td>\n",
       "    </tr>\n",
       "  </tbody>\n",
       "</table>\n",
       "</div>"
      ],
      "text/plain": [
       "    cluster_id        amp  ch  channel_group  depth         fr group  \\\n",
       "1            1  24.589169   0              0    0.0   0.894471  good   \n",
       "3            3  31.092701   1              0   20.0   0.695090  good   \n",
       "4            4  31.629177   1              0   20.0   0.165236  good   \n",
       "6            6  15.093220   3              0   60.0   2.099903  good   \n",
       "7            7  10.123846   4              0   80.0   4.552229  good   \n",
       "8            8  24.237030   5              0  100.0   4.171149  good   \n",
       "9           10  12.611455   7              0  140.0   2.171546  good   \n",
       "13          14  22.840141  11              0  220.0   0.935323  good   \n",
       "17          20  10.235216  14              0  280.0  14.953578  good   \n",
       "24          29   8.820210  20              0  400.0   4.273278  good   \n",
       "32          38  16.961168  24              0  480.0   2.368183  good   \n",
       "34          40  17.523331  26              0  520.0  14.309705  good   \n",
       "39          48   7.392273   5              0  100.0   1.082877  good   \n",
       "44          55   8.983646  14              0  280.0   1.647485  good   \n",
       "47          58  30.569328  20              0  400.0   0.574059  good   \n",
       "50          64  34.521278  27              0  540.0   0.352728  good   \n",
       "\n",
       "    n_spikes  sh  si_unit_id  \n",
       "1       2934   0           2  \n",
       "3       2280   0           4  \n",
       "4        542   0           5  \n",
       "6       6888   0           7  \n",
       "7      14932   0           8  \n",
       "8      13682   0           9  \n",
       "9       7123   0          12  \n",
       "13      3068   0          16  \n",
       "17     49050   0          22  \n",
       "24     14017   0          31  \n",
       "32      7768   0          40  \n",
       "34     46938   0          42  \n",
       "39      3552   0          10  \n",
       "44      5404   0          21  \n",
       "47      1883   0          30  \n",
       "50      1157   0          44  "
      ]
     },
     "execution_count": 21,
     "metadata": {},
     "output_type": "execute_result"
    }
   ],
   "source": [
    "good_unit_cluster_info_df"
   ]
  },
  {
   "cell_type": "code",
   "execution_count": 22,
   "id": "34f115c5",
   "metadata": {},
   "outputs": [],
   "source": [
    "good_unit_unique_ids = good_unit_cluster_info_df[\"cluster_id\"].values"
   ]
  },
  {
   "cell_type": "code",
   "execution_count": 23,
   "id": "689f0a11",
   "metadata": {},
   "outputs": [
    {
     "data": {
      "text/plain": [
       "array([ 1,  3,  4,  6,  7,  8, 10, 14, 20, 29, 38, 40, 48, 55, 58, 64])"
      ]
     },
     "execution_count": 23,
     "metadata": {},
     "output_type": "execute_result"
    }
   ],
   "source": [
    "good_unit_unique_ids"
   ]
  },
  {
   "cell_type": "markdown",
   "id": "8df40705",
   "metadata": {},
   "source": [
    "- The times that all the spikes happened"
   ]
  },
  {
   "cell_type": "code",
   "execution_count": 24,
   "id": "dce0df0b",
   "metadata": {},
   "outputs": [],
   "source": [
    "spike_times = np.load(os.path.join(subj_dir, \"phy/spike_times.npy\"))"
   ]
  },
  {
   "cell_type": "code",
   "execution_count": 25,
   "id": "f75b9c7b",
   "metadata": {
    "scrolled": true
   },
   "outputs": [
    {
     "data": {
      "text/plain": [
       "array([[ 164],\n",
       "       [ 445],\n",
       "       [ 466],\n",
       "       [ 506],\n",
       "       [ 851],\n",
       "       [1068],\n",
       "       [1224],\n",
       "       [1343],\n",
       "       [1386],\n",
       "       [1419]])"
      ]
     },
     "execution_count": 25,
     "metadata": {},
     "output_type": "execute_result"
    }
   ],
   "source": [
    "spike_times[:10]"
   ]
  },
  {
   "cell_type": "markdown",
   "id": "64f332f2",
   "metadata": {},
   "source": [
    "- Getting a list of the IDs that were good from the list of unit ids for all the firings"
   ]
  },
  {
   "cell_type": "code",
   "execution_count": 26,
   "id": "587f7955",
   "metadata": {},
   "outputs": [],
   "source": [
    "good_unit_mask = np.isin(spike_clusters, good_unit_unique_ids)"
   ]
  },
  {
   "cell_type": "code",
   "execution_count": 27,
   "id": "aed7d410",
   "metadata": {},
   "outputs": [],
   "source": [
    "good_unit_all_ids = spike_clusters[good_unit_mask]"
   ]
  },
  {
   "cell_type": "code",
   "execution_count": 28,
   "id": "d5bd0606",
   "metadata": {},
   "outputs": [
    {
     "data": {
      "text/plain": [
       "(181218,)"
      ]
     },
     "execution_count": 28,
     "metadata": {},
     "output_type": "execute_result"
    }
   ],
   "source": [
    "good_unit_all_ids.shape"
   ]
  },
  {
   "cell_type": "code",
   "execution_count": 29,
   "id": "cdea972c",
   "metadata": {},
   "outputs": [
    {
     "data": {
      "text/plain": [
       "array([20, 40,  7,  6,  8,  7, 20,  7, 40, 40], dtype=int32)"
      ]
     },
     "execution_count": 29,
     "metadata": {},
     "output_type": "execute_result"
    }
   ],
   "source": [
    "good_unit_all_ids[:10]"
   ]
  },
  {
   "cell_type": "markdown",
   "id": "3d2d10a7",
   "metadata": {},
   "source": [
    "- Getting the time that the good units fired"
   ]
  },
  {
   "cell_type": "code",
   "execution_count": 30,
   "id": "8646f320",
   "metadata": {},
   "outputs": [],
   "source": [
    "good_unit_times = spike_times[good_unit_mask].T[0]"
   ]
  },
  {
   "cell_type": "code",
   "execution_count": 31,
   "id": "9fa8a305",
   "metadata": {},
   "outputs": [
    {
     "data": {
      "text/plain": [
       "(181218,)"
      ]
     },
     "execution_count": 31,
     "metadata": {},
     "output_type": "execute_result"
    }
   ],
   "source": [
    "good_unit_times.shape"
   ]
  },
  {
   "cell_type": "code",
   "execution_count": 32,
   "id": "495079b1",
   "metadata": {},
   "outputs": [
    {
     "data": {
      "text/plain": [
       "array([ 445,  466,  506, 1224, 1343, 1419, 1673, 2358, 2370, 2844])"
      ]
     },
     "execution_count": 32,
     "metadata": {},
     "output_type": "execute_result"
    }
   ],
   "source": [
    "good_unit_times[:10]"
   ]
  },
  {
   "cell_type": "code",
   "execution_count": 33,
   "id": "e37c27cb",
   "metadata": {},
   "outputs": [
    {
     "data": {
      "text/plain": [
       "array([62342837, 62347117, 62385636, 62428437, 62432717, 62436997,\n",
       "       62441281, 62445561, 62581172, 62670994])"
      ]
     },
     "execution_count": 33,
     "metadata": {},
     "output_type": "execute_result"
    }
   ],
   "source": [
    "good_unit_times[-10:]"
   ]
  },
  {
   "cell_type": "markdown",
   "id": "d08cf31b",
   "metadata": {},
   "source": [
    "- spike_times are indexed based on the start of the recording, not the start of the streaming\n",
    "    - Last spike ends right before the end of the recording time"
   ]
  },
  {
   "cell_type": "code",
   "execution_count": 34,
   "id": "7f79db6a",
   "metadata": {
    "scrolled": true
   },
   "outputs": [
    {
     "data": {
      "text/plain": [
       "array([[     164],\n",
       "       [     445],\n",
       "       [     466],\n",
       "       ...,\n",
       "       [62686979],\n",
       "       [62697065],\n",
       "       [62725480]])"
      ]
     },
     "execution_count": 34,
     "metadata": {},
     "output_type": "execute_result"
    }
   ],
   "source": [
    "spike_times"
   ]
  },
  {
   "cell_type": "code",
   "execution_count": 35,
   "id": "2af8edc0",
   "metadata": {},
   "outputs": [
    {
     "data": {
      "text/plain": [
       "array([3136.274])"
      ]
     },
     "execution_count": 35,
     "metadata": {},
     "output_type": "execute_result"
    }
   ],
   "source": [
    "spike_times[-1]/20000"
   ]
  },
  {
   "cell_type": "markdown",
   "id": "d645201f",
   "metadata": {},
   "source": [
    "## Syncing the unit times with the ECU times"
   ]
  },
  {
   "cell_type": "code",
   "execution_count": 36,
   "id": "894a5e16-17ff-4d10-af48-3b4c58e6a9e0",
   "metadata": {},
   "outputs": [
    {
     "data": {
      "text/html": [
       "<div>\n",
       "<style scoped>\n",
       "    .dataframe tbody tr th:only-of-type {\n",
       "        vertical-align: middle;\n",
       "    }\n",
       "\n",
       "    .dataframe tbody tr th {\n",
       "        vertical-align: top;\n",
       "    }\n",
       "\n",
       "    .dataframe thead th {\n",
       "        text-align: right;\n",
       "    }\n",
       "</style>\n",
       "<table border=\"1\" class=\"dataframe\">\n",
       "  <thead>\n",
       "    <tr style=\"text-align: right;\">\n",
       "      <th></th>\n",
       "      <th>Unnamed: 0</th>\n",
       "      <th>tone_timestamp</th>\n",
       "      <th>tone_index</th>\n",
       "      <th>rewarded_or_not</th>\n",
       "      <th>competition_winners</th>\n",
       "      <th>condition</th>\n",
       "      <th>lfp_index</th>\n",
       "      <th>subj_1_1_condition</th>\n",
       "      <th>subj_1_4_condition</th>\n",
       "    </tr>\n",
       "  </thead>\n",
       "  <tbody>\n",
       "    <tr>\n",
       "      <th>0</th>\n",
       "      <td>0</td>\n",
       "      <td>1934930</td>\n",
       "      <td>1099250</td>\n",
       "      <td>rewarded</td>\n",
       "      <td>1.4</td>\n",
       "      <td>1.4</td>\n",
       "      <td>54962</td>\n",
       "      <td>lose</td>\n",
       "      <td>win</td>\n",
       "    </tr>\n",
       "    <tr>\n",
       "      <th>1</th>\n",
       "      <td>1</td>\n",
       "      <td>4334936</td>\n",
       "      <td>3499256</td>\n",
       "      <td>rewarded</td>\n",
       "      <td>1.1</td>\n",
       "      <td>1.1</td>\n",
       "      <td>174962</td>\n",
       "      <td>win</td>\n",
       "      <td>lose</td>\n",
       "    </tr>\n",
       "    <tr>\n",
       "      <th>2</th>\n",
       "      <td>2</td>\n",
       "      <td>6634931</td>\n",
       "      <td>5799251</td>\n",
       "      <td>rewarded</td>\n",
       "      <td>1.1</td>\n",
       "      <td>1.1</td>\n",
       "      <td>289962</td>\n",
       "      <td>win</td>\n",
       "      <td>lose</td>\n",
       "    </tr>\n",
       "    <tr>\n",
       "      <th>3</th>\n",
       "      <td>3</td>\n",
       "      <td>8434930</td>\n",
       "      <td>7599250</td>\n",
       "      <td>rewarded</td>\n",
       "      <td>1.4</td>\n",
       "      <td>1.4</td>\n",
       "      <td>379962</td>\n",
       "      <td>lose</td>\n",
       "      <td>win</td>\n",
       "    </tr>\n",
       "    <tr>\n",
       "      <th>4</th>\n",
       "      <td>4</td>\n",
       "      <td>9534930</td>\n",
       "      <td>8699250</td>\n",
       "      <td>rewarded</td>\n",
       "      <td>1.1</td>\n",
       "      <td>1.1</td>\n",
       "      <td>434962</td>\n",
       "      <td>win</td>\n",
       "      <td>lose</td>\n",
       "    </tr>\n",
       "    <tr>\n",
       "      <th>5</th>\n",
       "      <td>5</td>\n",
       "      <td>10534929</td>\n",
       "      <td>9699249</td>\n",
       "      <td>rewarded</td>\n",
       "      <td>1.4</td>\n",
       "      <td>1.4</td>\n",
       "      <td>484962</td>\n",
       "      <td>lose</td>\n",
       "      <td>win</td>\n",
       "    </tr>\n",
       "    <tr>\n",
       "      <th>6</th>\n",
       "      <td>6</td>\n",
       "      <td>12434926</td>\n",
       "      <td>11599246</td>\n",
       "      <td>rewarded</td>\n",
       "      <td>1.4</td>\n",
       "      <td>1.4</td>\n",
       "      <td>579962</td>\n",
       "      <td>lose</td>\n",
       "      <td>win</td>\n",
       "    </tr>\n",
       "    <tr>\n",
       "      <th>7</th>\n",
       "      <td>7</td>\n",
       "      <td>13934925</td>\n",
       "      <td>13099245</td>\n",
       "      <td>rewarded</td>\n",
       "      <td>1.4</td>\n",
       "      <td>1.4</td>\n",
       "      <td>654962</td>\n",
       "      <td>lose</td>\n",
       "      <td>win</td>\n",
       "    </tr>\n",
       "    <tr>\n",
       "      <th>8</th>\n",
       "      <td>8</td>\n",
       "      <td>16034924</td>\n",
       "      <td>15199244</td>\n",
       "      <td>rewarded</td>\n",
       "      <td>1.1</td>\n",
       "      <td>1.1</td>\n",
       "      <td>759962</td>\n",
       "      <td>win</td>\n",
       "      <td>lose</td>\n",
       "    </tr>\n",
       "    <tr>\n",
       "      <th>9</th>\n",
       "      <td>9</td>\n",
       "      <td>17034926</td>\n",
       "      <td>16199246</td>\n",
       "      <td>rewarded</td>\n",
       "      <td>1.1</td>\n",
       "      <td>1.1</td>\n",
       "      <td>809962</td>\n",
       "      <td>win</td>\n",
       "      <td>lose</td>\n",
       "    </tr>\n",
       "    <tr>\n",
       "      <th>10</th>\n",
       "      <td>10</td>\n",
       "      <td>18634925</td>\n",
       "      <td>17799245</td>\n",
       "      <td>rewarded</td>\n",
       "      <td>1.1</td>\n",
       "      <td>1.1</td>\n",
       "      <td>889962</td>\n",
       "      <td>win</td>\n",
       "      <td>lose</td>\n",
       "    </tr>\n",
       "    <tr>\n",
       "      <th>11</th>\n",
       "      <td>11</td>\n",
       "      <td>19934925</td>\n",
       "      <td>19099245</td>\n",
       "      <td>rewarded</td>\n",
       "      <td>1.1</td>\n",
       "      <td>1.1</td>\n",
       "      <td>954962</td>\n",
       "      <td>win</td>\n",
       "      <td>lose</td>\n",
       "    </tr>\n",
       "    <tr>\n",
       "      <th>12</th>\n",
       "      <td>12</td>\n",
       "      <td>21234922</td>\n",
       "      <td>20399242</td>\n",
       "      <td>rewarded</td>\n",
       "      <td>1.1</td>\n",
       "      <td>1.1</td>\n",
       "      <td>1019962</td>\n",
       "      <td>win</td>\n",
       "      <td>lose</td>\n",
       "    </tr>\n",
       "    <tr>\n",
       "      <th>13</th>\n",
       "      <td>13</td>\n",
       "      <td>22234924</td>\n",
       "      <td>21399244</td>\n",
       "      <td>rewarded</td>\n",
       "      <td>1.1</td>\n",
       "      <td>1.1</td>\n",
       "      <td>1069962</td>\n",
       "      <td>win</td>\n",
       "      <td>lose</td>\n",
       "    </tr>\n",
       "    <tr>\n",
       "      <th>14</th>\n",
       "      <td>14</td>\n",
       "      <td>23634923</td>\n",
       "      <td>22799243</td>\n",
       "      <td>rewarded</td>\n",
       "      <td>1.1</td>\n",
       "      <td>1.1</td>\n",
       "      <td>1139962</td>\n",
       "      <td>win</td>\n",
       "      <td>lose</td>\n",
       "    </tr>\n",
       "    <tr>\n",
       "      <th>15</th>\n",
       "      <td>15</td>\n",
       "      <td>25534923</td>\n",
       "      <td>24699243</td>\n",
       "      <td>rewarded</td>\n",
       "      <td>1.1</td>\n",
       "      <td>1.1</td>\n",
       "      <td>1234962</td>\n",
       "      <td>win</td>\n",
       "      <td>lose</td>\n",
       "    </tr>\n",
       "    <tr>\n",
       "      <th>16</th>\n",
       "      <td>16</td>\n",
       "      <td>27134920</td>\n",
       "      <td>26299240</td>\n",
       "      <td>rewarded</td>\n",
       "      <td>1.1</td>\n",
       "      <td>1.1</td>\n",
       "      <td>1314962</td>\n",
       "      <td>win</td>\n",
       "      <td>lose</td>\n",
       "    </tr>\n",
       "    <tr>\n",
       "      <th>17</th>\n",
       "      <td>17</td>\n",
       "      <td>28534922</td>\n",
       "      <td>27699242</td>\n",
       "      <td>rewarded</td>\n",
       "      <td>1.1</td>\n",
       "      <td>1.1</td>\n",
       "      <td>1384962</td>\n",
       "      <td>win</td>\n",
       "      <td>lose</td>\n",
       "    </tr>\n",
       "    <tr>\n",
       "      <th>18</th>\n",
       "      <td>18</td>\n",
       "      <td>30734921</td>\n",
       "      <td>29899241</td>\n",
       "      <td>rewarded</td>\n",
       "      <td>1.1</td>\n",
       "      <td>1.1</td>\n",
       "      <td>1494962</td>\n",
       "      <td>win</td>\n",
       "      <td>lose</td>\n",
       "    </tr>\n",
       "    <tr>\n",
       "      <th>19</th>\n",
       "      <td>19</td>\n",
       "      <td>31934918</td>\n",
       "      <td>31099238</td>\n",
       "      <td>rewarded</td>\n",
       "      <td>1.4</td>\n",
       "      <td>1.4</td>\n",
       "      <td>1554961</td>\n",
       "      <td>lose</td>\n",
       "      <td>win</td>\n",
       "    </tr>\n",
       "    <tr>\n",
       "      <th>20</th>\n",
       "      <td>20</td>\n",
       "      <td>37934919</td>\n",
       "      <td>37099239</td>\n",
       "      <td>rewarded</td>\n",
       "      <td>0.0</td>\n",
       "      <td>rewarded</td>\n",
       "      <td>1854961</td>\n",
       "      <td>rewarded</td>\n",
       "      <td>rewarded</td>\n",
       "    </tr>\n",
       "    <tr>\n",
       "      <th>21</th>\n",
       "      <td>21</td>\n",
       "      <td>39134916</td>\n",
       "      <td>38299236</td>\n",
       "      <td>rewarded</td>\n",
       "      <td>0.0</td>\n",
       "      <td>rewarded</td>\n",
       "      <td>1914961</td>\n",
       "      <td>rewarded</td>\n",
       "      <td>rewarded</td>\n",
       "    </tr>\n",
       "    <tr>\n",
       "      <th>22</th>\n",
       "      <td>22</td>\n",
       "      <td>40234916</td>\n",
       "      <td>39399236</td>\n",
       "      <td>rewarded</td>\n",
       "      <td>0.0</td>\n",
       "      <td>rewarded</td>\n",
       "      <td>1969961</td>\n",
       "      <td>rewarded</td>\n",
       "      <td>rewarded</td>\n",
       "    </tr>\n",
       "    <tr>\n",
       "      <th>23</th>\n",
       "      <td>23</td>\n",
       "      <td>41534918</td>\n",
       "      <td>40699238</td>\n",
       "      <td>rewarded</td>\n",
       "      <td>0.0</td>\n",
       "      <td>rewarded</td>\n",
       "      <td>2034961</td>\n",
       "      <td>rewarded</td>\n",
       "      <td>rewarded</td>\n",
       "    </tr>\n",
       "    <tr>\n",
       "      <th>24</th>\n",
       "      <td>24</td>\n",
       "      <td>42634918</td>\n",
       "      <td>41799238</td>\n",
       "      <td>rewarded</td>\n",
       "      <td>0.0</td>\n",
       "      <td>rewarded</td>\n",
       "      <td>2089961</td>\n",
       "      <td>rewarded</td>\n",
       "      <td>rewarded</td>\n",
       "    </tr>\n",
       "    <tr>\n",
       "      <th>25</th>\n",
       "      <td>25</td>\n",
       "      <td>43634915</td>\n",
       "      <td>42799235</td>\n",
       "      <td>rewarded</td>\n",
       "      <td>0.0</td>\n",
       "      <td>rewarded</td>\n",
       "      <td>2139961</td>\n",
       "      <td>rewarded</td>\n",
       "      <td>rewarded</td>\n",
       "    </tr>\n",
       "    <tr>\n",
       "      <th>26</th>\n",
       "      <td>26</td>\n",
       "      <td>44634917</td>\n",
       "      <td>43799237</td>\n",
       "      <td>rewarded</td>\n",
       "      <td>0.0</td>\n",
       "      <td>rewarded</td>\n",
       "      <td>2189961</td>\n",
       "      <td>rewarded</td>\n",
       "      <td>rewarded</td>\n",
       "    </tr>\n",
       "    <tr>\n",
       "      <th>27</th>\n",
       "      <td>27</td>\n",
       "      <td>46734914</td>\n",
       "      <td>45899234</td>\n",
       "      <td>omission</td>\n",
       "      <td>0.0</td>\n",
       "      <td>omission</td>\n",
       "      <td>2294961</td>\n",
       "      <td>omission</td>\n",
       "      <td>omission</td>\n",
       "    </tr>\n",
       "    <tr>\n",
       "      <th>28</th>\n",
       "      <td>28</td>\n",
       "      <td>49134915</td>\n",
       "      <td>48299235</td>\n",
       "      <td>rewarded</td>\n",
       "      <td>0.0</td>\n",
       "      <td>rewarded</td>\n",
       "      <td>2414961</td>\n",
       "      <td>rewarded</td>\n",
       "      <td>rewarded</td>\n",
       "    </tr>\n",
       "    <tr>\n",
       "      <th>29</th>\n",
       "      <td>29</td>\n",
       "      <td>51534912</td>\n",
       "      <td>50699232</td>\n",
       "      <td>rewarded</td>\n",
       "      <td>0.0</td>\n",
       "      <td>rewarded</td>\n",
       "      <td>2534961</td>\n",
       "      <td>rewarded</td>\n",
       "      <td>rewarded</td>\n",
       "    </tr>\n",
       "    <tr>\n",
       "      <th>30</th>\n",
       "      <td>30</td>\n",
       "      <td>53734914</td>\n",
       "      <td>52899234</td>\n",
       "      <td>rewarded</td>\n",
       "      <td>0.0</td>\n",
       "      <td>rewarded</td>\n",
       "      <td>2644961</td>\n",
       "      <td>rewarded</td>\n",
       "      <td>rewarded</td>\n",
       "    </tr>\n",
       "    <tr>\n",
       "      <th>31</th>\n",
       "      <td>31</td>\n",
       "      <td>55434913</td>\n",
       "      <td>54599233</td>\n",
       "      <td>rewarded</td>\n",
       "      <td>0.0</td>\n",
       "      <td>rewarded</td>\n",
       "      <td>2729961</td>\n",
       "      <td>rewarded</td>\n",
       "      <td>rewarded</td>\n",
       "    </tr>\n",
       "    <tr>\n",
       "      <th>32</th>\n",
       "      <td>32</td>\n",
       "      <td>57834912</td>\n",
       "      <td>56999232</td>\n",
       "      <td>rewarded</td>\n",
       "      <td>0.0</td>\n",
       "      <td>rewarded</td>\n",
       "      <td>2849961</td>\n",
       "      <td>rewarded</td>\n",
       "      <td>rewarded</td>\n",
       "    </tr>\n",
       "    <tr>\n",
       "      <th>33</th>\n",
       "      <td>33</td>\n",
       "      <td>59034912</td>\n",
       "      <td>58199232</td>\n",
       "      <td>omission</td>\n",
       "      <td>0.0</td>\n",
       "      <td>omission</td>\n",
       "      <td>2909961</td>\n",
       "      <td>omission</td>\n",
       "      <td>omission</td>\n",
       "    </tr>\n",
       "    <tr>\n",
       "      <th>34</th>\n",
       "      <td>34</td>\n",
       "      <td>60334909</td>\n",
       "      <td>59499229</td>\n",
       "      <td>rewarded</td>\n",
       "      <td>0.0</td>\n",
       "      <td>rewarded</td>\n",
       "      <td>2974961</td>\n",
       "      <td>rewarded</td>\n",
       "      <td>rewarded</td>\n",
       "    </tr>\n",
       "    <tr>\n",
       "      <th>35</th>\n",
       "      <td>35</td>\n",
       "      <td>61534911</td>\n",
       "      <td>60699231</td>\n",
       "      <td>rewarded</td>\n",
       "      <td>0.0</td>\n",
       "      <td>rewarded</td>\n",
       "      <td>3034961</td>\n",
       "      <td>rewarded</td>\n",
       "      <td>rewarded</td>\n",
       "    </tr>\n",
       "    <tr>\n",
       "      <th>36</th>\n",
       "      <td>36</td>\n",
       "      <td>63034911</td>\n",
       "      <td>62199231</td>\n",
       "      <td>rewarded</td>\n",
       "      <td>0.0</td>\n",
       "      <td>rewarded</td>\n",
       "      <td>3109961</td>\n",
       "      <td>rewarded</td>\n",
       "      <td>rewarded</td>\n",
       "    </tr>\n",
       "    <tr>\n",
       "      <th>37</th>\n",
       "      <td>37</td>\n",
       "      <td>65034907</td>\n",
       "      <td>64199227</td>\n",
       "      <td>omission</td>\n",
       "      <td>0.0</td>\n",
       "      <td>omission</td>\n",
       "      <td>3209961</td>\n",
       "      <td>omission</td>\n",
       "      <td>omission</td>\n",
       "    </tr>\n",
       "  </tbody>\n",
       "</table>\n",
       "</div>"
      ],
      "text/plain": [
       "    Unnamed: 0  tone_timestamp  tone_index rewarded_or_not  \\\n",
       "0            0         1934930     1099250        rewarded   \n",
       "1            1         4334936     3499256        rewarded   \n",
       "2            2         6634931     5799251        rewarded   \n",
       "3            3         8434930     7599250        rewarded   \n",
       "4            4         9534930     8699250        rewarded   \n",
       "5            5        10534929     9699249        rewarded   \n",
       "6            6        12434926    11599246        rewarded   \n",
       "7            7        13934925    13099245        rewarded   \n",
       "8            8        16034924    15199244        rewarded   \n",
       "9            9        17034926    16199246        rewarded   \n",
       "10          10        18634925    17799245        rewarded   \n",
       "11          11        19934925    19099245        rewarded   \n",
       "12          12        21234922    20399242        rewarded   \n",
       "13          13        22234924    21399244        rewarded   \n",
       "14          14        23634923    22799243        rewarded   \n",
       "15          15        25534923    24699243        rewarded   \n",
       "16          16        27134920    26299240        rewarded   \n",
       "17          17        28534922    27699242        rewarded   \n",
       "18          18        30734921    29899241        rewarded   \n",
       "19          19        31934918    31099238        rewarded   \n",
       "20          20        37934919    37099239        rewarded   \n",
       "21          21        39134916    38299236        rewarded   \n",
       "22          22        40234916    39399236        rewarded   \n",
       "23          23        41534918    40699238        rewarded   \n",
       "24          24        42634918    41799238        rewarded   \n",
       "25          25        43634915    42799235        rewarded   \n",
       "26          26        44634917    43799237        rewarded   \n",
       "27          27        46734914    45899234        omission   \n",
       "28          28        49134915    48299235        rewarded   \n",
       "29          29        51534912    50699232        rewarded   \n",
       "30          30        53734914    52899234        rewarded   \n",
       "31          31        55434913    54599233        rewarded   \n",
       "32          32        57834912    56999232        rewarded   \n",
       "33          33        59034912    58199232        omission   \n",
       "34          34        60334909    59499229        rewarded   \n",
       "35          35        61534911    60699231        rewarded   \n",
       "36          36        63034911    62199231        rewarded   \n",
       "37          37        65034907    64199227        omission   \n",
       "\n",
       "    competition_winners condition  lfp_index subj_1_1_condition  \\\n",
       "0                   1.4       1.4      54962               lose   \n",
       "1                   1.1       1.1     174962                win   \n",
       "2                   1.1       1.1     289962                win   \n",
       "3                   1.4       1.4     379962               lose   \n",
       "4                   1.1       1.1     434962                win   \n",
       "5                   1.4       1.4     484962               lose   \n",
       "6                   1.4       1.4     579962               lose   \n",
       "7                   1.4       1.4     654962               lose   \n",
       "8                   1.1       1.1     759962                win   \n",
       "9                   1.1       1.1     809962                win   \n",
       "10                  1.1       1.1     889962                win   \n",
       "11                  1.1       1.1     954962                win   \n",
       "12                  1.1       1.1    1019962                win   \n",
       "13                  1.1       1.1    1069962                win   \n",
       "14                  1.1       1.1    1139962                win   \n",
       "15                  1.1       1.1    1234962                win   \n",
       "16                  1.1       1.1    1314962                win   \n",
       "17                  1.1       1.1    1384962                win   \n",
       "18                  1.1       1.1    1494962                win   \n",
       "19                  1.4       1.4    1554961               lose   \n",
       "20                  0.0  rewarded    1854961           rewarded   \n",
       "21                  0.0  rewarded    1914961           rewarded   \n",
       "22                  0.0  rewarded    1969961           rewarded   \n",
       "23                  0.0  rewarded    2034961           rewarded   \n",
       "24                  0.0  rewarded    2089961           rewarded   \n",
       "25                  0.0  rewarded    2139961           rewarded   \n",
       "26                  0.0  rewarded    2189961           rewarded   \n",
       "27                  0.0  omission    2294961           omission   \n",
       "28                  0.0  rewarded    2414961           rewarded   \n",
       "29                  0.0  rewarded    2534961           rewarded   \n",
       "30                  0.0  rewarded    2644961           rewarded   \n",
       "31                  0.0  rewarded    2729961           rewarded   \n",
       "32                  0.0  rewarded    2849961           rewarded   \n",
       "33                  0.0  omission    2909961           omission   \n",
       "34                  0.0  rewarded    2974961           rewarded   \n",
       "35                  0.0  rewarded    3034961           rewarded   \n",
       "36                  0.0  rewarded    3109961           rewarded   \n",
       "37                  0.0  omission    3209961           omission   \n",
       "\n",
       "   subj_1_4_condition  \n",
       "0                 win  \n",
       "1                lose  \n",
       "2                lose  \n",
       "3                 win  \n",
       "4                lose  \n",
       "5                 win  \n",
       "6                 win  \n",
       "7                 win  \n",
       "8                lose  \n",
       "9                lose  \n",
       "10               lose  \n",
       "11               lose  \n",
       "12               lose  \n",
       "13               lose  \n",
       "14               lose  \n",
       "15               lose  \n",
       "16               lose  \n",
       "17               lose  \n",
       "18               lose  \n",
       "19                win  \n",
       "20           rewarded  \n",
       "21           rewarded  \n",
       "22           rewarded  \n",
       "23           rewarded  \n",
       "24           rewarded  \n",
       "25           rewarded  \n",
       "26           rewarded  \n",
       "27           omission  \n",
       "28           rewarded  \n",
       "29           rewarded  \n",
       "30           rewarded  \n",
       "31           rewarded  \n",
       "32           rewarded  \n",
       "33           omission  \n",
       "34           rewarded  \n",
       "35           rewarded  \n",
       "36           rewarded  \n",
       "37           omission  "
      ]
     },
     "execution_count": 36,
     "metadata": {},
     "output_type": "execute_result"
    }
   ],
   "source": [
    "tone_time_stamps_df"
   ]
  },
  {
   "cell_type": "code",
   "execution_count": 37,
   "id": "f1c358b1",
   "metadata": {},
   "outputs": [],
   "source": [
    "tone_time_stamps = tone_time_stamps_df[\"tone_index\"].values"
   ]
  },
  {
   "cell_type": "code",
   "execution_count": 38,
   "id": "66f3de46",
   "metadata": {},
   "outputs": [
    {
     "data": {
      "text/plain": [
       "array([ 1099250,  3499256,  5799251,  7599250,  8699250,  9699249,\n",
       "       11599246, 13099245, 15199244, 16199246, 17799245, 19099245,\n",
       "       20399242, 21399244, 22799243, 24699243, 26299240, 27699242,\n",
       "       29899241, 31099238, 37099239, 38299236, 39399236, 40699238,\n",
       "       41799238, 42799235, 43799237, 45899234, 48299235, 50699232,\n",
       "       52899234, 54599233, 56999232, 58199232, 59499229, 60699231,\n",
       "       62199231, 64199227])"
      ]
     },
     "execution_count": 38,
     "metadata": {},
     "output_type": "execute_result"
    }
   ],
   "source": [
    "tone_time_stamps"
   ]
  },
  {
   "cell_type": "markdown",
   "id": "2eb290cf",
   "metadata": {},
   "source": [
    "## Seeing which tone time each unit time is closest to"
   ]
  },
  {
   "cell_type": "markdown",
   "id": "80d38dd8",
   "metadata": {},
   "source": [
    "- We will divide all the time up into bins of before and after each tone. Then we will see which time bin the neuron firing falls into.\n",
    "    - So everything in the 0 bin would be before the first time bin. The 1 bin would be everything in between the first and second time bin. The last would be everything after last time bin."
   ]
  },
  {
   "cell_type": "code",
   "execution_count": 39,
   "id": "2717af55",
   "metadata": {},
   "outputs": [],
   "source": [
    "good_unit_bins = np.digitize(good_unit_times, tone_time_stamps_df[\"tone_index\"], right=True)"
   ]
  },
  {
   "cell_type": "code",
   "execution_count": 40,
   "id": "dd4989ae",
   "metadata": {},
   "outputs": [
    {
     "data": {
      "text/plain": [
       "(181218,)"
      ]
     },
     "execution_count": 40,
     "metadata": {},
     "output_type": "execute_result"
    }
   ],
   "source": [
    "good_unit_bins.shape"
   ]
  },
  {
   "cell_type": "code",
   "execution_count": 41,
   "id": "47c0cddc",
   "metadata": {},
   "outputs": [
    {
     "data": {
      "text/plain": [
       "array([0, 0, 0, 0, 0, 0, 0, 0, 0, 0])"
      ]
     },
     "execution_count": 41,
     "metadata": {},
     "output_type": "execute_result"
    }
   ],
   "source": [
    "good_unit_bins[:10]"
   ]
  },
  {
   "cell_type": "code",
   "execution_count": 42,
   "id": "b9988522",
   "metadata": {},
   "outputs": [
    {
     "data": {
      "text/plain": [
       "array([37, 37, 37, 37, 37, 37, 37, 37, 37, 37])"
      ]
     },
     "execution_count": 42,
     "metadata": {},
     "output_type": "execute_result"
    }
   ],
   "source": [
    "good_unit_bins[-10:]"
   ]
  },
  {
   "cell_type": "markdown",
   "id": "92696852",
   "metadata": {},
   "source": [
    "- Seeing if the firing time is within a 10 second interval before or 10 second after any tone"
   ]
  },
  {
   "cell_type": "code",
   "execution_count": 43,
   "id": "ddf51d7a",
   "metadata": {},
   "outputs": [],
   "source": [
    "from collections import defaultdict"
   ]
  },
  {
   "cell_type": "code",
   "execution_count": 44,
   "id": "c465e5ee",
   "metadata": {},
   "outputs": [
    {
     "data": {
      "text/plain": [
       "(181218,)"
      ]
     },
     "execution_count": 44,
     "metadata": {},
     "output_type": "execute_result"
    }
   ],
   "source": [
    "good_unit_bins.shape"
   ]
  },
  {
   "cell_type": "code",
   "execution_count": 45,
   "id": "29d06824",
   "metadata": {},
   "outputs": [
    {
     "data": {
      "text/plain": [
       "(181218,)"
      ]
     },
     "execution_count": 45,
     "metadata": {},
     "output_type": "execute_result"
    }
   ],
   "source": [
    "good_unit_times.shape"
   ]
  },
  {
   "cell_type": "code",
   "execution_count": 46,
   "id": "4071ea96",
   "metadata": {},
   "outputs": [
    {
     "data": {
      "text/plain": [
       "(181218,)"
      ]
     },
     "execution_count": 46,
     "metadata": {},
     "output_type": "execute_result"
    }
   ],
   "source": [
    "good_unit_all_ids.shape"
   ]
  },
  {
   "cell_type": "code",
   "execution_count": 47,
   "id": "f3e859d4",
   "metadata": {},
   "outputs": [
    {
     "data": {
      "text/plain": [
       "array([ 445,  466,  506, 1224, 1343, 1419, 1673, 2358, 2370, 2844])"
      ]
     },
     "execution_count": 47,
     "metadata": {},
     "output_type": "execute_result"
    }
   ],
   "source": [
    "good_unit_times[:10]"
   ]
  },
  {
   "cell_type": "code",
   "execution_count": 48,
   "id": "3b73a6a8",
   "metadata": {},
   "outputs": [
    {
     "data": {
      "text/plain": [
       "array([ 1099250,  3499256,  5799251,  7599250,  8699250,  9699249,\n",
       "       11599246, 13099245, 15199244, 16199246, 17799245, 19099245,\n",
       "       20399242, 21399244, 22799243, 24699243, 26299240, 27699242,\n",
       "       29899241, 31099238, 37099239, 38299236, 39399236, 40699238,\n",
       "       41799238, 42799235, 43799237, 45899234, 48299235, 50699232,\n",
       "       52899234, 54599233, 56999232, 58199232, 59499229, 60699231,\n",
       "       62199231, 64199227])"
      ]
     },
     "execution_count": 48,
     "metadata": {},
     "output_type": "execute_result"
    }
   ],
   "source": [
    "tone_time_stamps"
   ]
  },
  {
   "cell_type": "code",
   "execution_count": 49,
   "id": "09daaf97",
   "metadata": {},
   "outputs": [
    {
     "data": {
      "text/plain": [
       "38"
      ]
     },
     "execution_count": 49,
     "metadata": {},
     "output_type": "execute_result"
    }
   ],
   "source": [
    "len(tone_time_stamps)"
   ]
  },
  {
   "cell_type": "code",
   "execution_count": 50,
   "id": "e1ebbe9e",
   "metadata": {},
   "outputs": [],
   "source": [
    "# time in seconds\n",
    "trial_one_way_duration = 10"
   ]
  },
  {
   "cell_type": "code",
   "execution_count": 51,
   "id": "7c4a2c21",
   "metadata": {},
   "outputs": [],
   "source": [
    "sampling_rate = 20000"
   ]
  },
  {
   "cell_type": "markdown",
   "id": "77e4d4de",
   "metadata": {},
   "source": [
    "# Comparing Firing Rate between Trial types"
   ]
  },
  {
   "cell_type": "code",
   "execution_count": 52,
   "id": "c5ef17a3",
   "metadata": {},
   "outputs": [
    {
     "data": {
      "text/html": [
       "<div>\n",
       "<style scoped>\n",
       "    .dataframe tbody tr th:only-of-type {\n",
       "        vertical-align: middle;\n",
       "    }\n",
       "\n",
       "    .dataframe tbody tr th {\n",
       "        vertical-align: top;\n",
       "    }\n",
       "\n",
       "    .dataframe thead th {\n",
       "        text-align: right;\n",
       "    }\n",
       "</style>\n",
       "<table border=\"1\" class=\"dataframe\">\n",
       "  <thead>\n",
       "    <tr style=\"text-align: right;\">\n",
       "      <th></th>\n",
       "      <th>Unnamed: 0</th>\n",
       "      <th>tone_timestamp</th>\n",
       "      <th>tone_index</th>\n",
       "      <th>rewarded_or_not</th>\n",
       "      <th>competition_winners</th>\n",
       "      <th>condition</th>\n",
       "      <th>lfp_index</th>\n",
       "      <th>subj_1_1_condition</th>\n",
       "      <th>subj_1_4_condition</th>\n",
       "    </tr>\n",
       "  </thead>\n",
       "  <tbody>\n",
       "    <tr>\n",
       "      <th>0</th>\n",
       "      <td>0</td>\n",
       "      <td>1934930</td>\n",
       "      <td>1099250</td>\n",
       "      <td>rewarded</td>\n",
       "      <td>1.4</td>\n",
       "      <td>1.4</td>\n",
       "      <td>54962</td>\n",
       "      <td>lose</td>\n",
       "      <td>win</td>\n",
       "    </tr>\n",
       "    <tr>\n",
       "      <th>1</th>\n",
       "      <td>1</td>\n",
       "      <td>4334936</td>\n",
       "      <td>3499256</td>\n",
       "      <td>rewarded</td>\n",
       "      <td>1.1</td>\n",
       "      <td>1.1</td>\n",
       "      <td>174962</td>\n",
       "      <td>win</td>\n",
       "      <td>lose</td>\n",
       "    </tr>\n",
       "    <tr>\n",
       "      <th>2</th>\n",
       "      <td>2</td>\n",
       "      <td>6634931</td>\n",
       "      <td>5799251</td>\n",
       "      <td>rewarded</td>\n",
       "      <td>1.1</td>\n",
       "      <td>1.1</td>\n",
       "      <td>289962</td>\n",
       "      <td>win</td>\n",
       "      <td>lose</td>\n",
       "    </tr>\n",
       "    <tr>\n",
       "      <th>3</th>\n",
       "      <td>3</td>\n",
       "      <td>8434930</td>\n",
       "      <td>7599250</td>\n",
       "      <td>rewarded</td>\n",
       "      <td>1.4</td>\n",
       "      <td>1.4</td>\n",
       "      <td>379962</td>\n",
       "      <td>lose</td>\n",
       "      <td>win</td>\n",
       "    </tr>\n",
       "    <tr>\n",
       "      <th>4</th>\n",
       "      <td>4</td>\n",
       "      <td>9534930</td>\n",
       "      <td>8699250</td>\n",
       "      <td>rewarded</td>\n",
       "      <td>1.1</td>\n",
       "      <td>1.1</td>\n",
       "      <td>434962</td>\n",
       "      <td>win</td>\n",
       "      <td>lose</td>\n",
       "    </tr>\n",
       "  </tbody>\n",
       "</table>\n",
       "</div>"
      ],
      "text/plain": [
       "   Unnamed: 0  tone_timestamp  tone_index rewarded_or_not  \\\n",
       "0           0         1934930     1099250        rewarded   \n",
       "1           1         4334936     3499256        rewarded   \n",
       "2           2         6634931     5799251        rewarded   \n",
       "3           3         8434930     7599250        rewarded   \n",
       "4           4         9534930     8699250        rewarded   \n",
       "\n",
       "   competition_winners condition  lfp_index subj_1_1_condition  \\\n",
       "0                  1.4       1.4      54962               lose   \n",
       "1                  1.1       1.1     174962                win   \n",
       "2                  1.1       1.1     289962                win   \n",
       "3                  1.4       1.4     379962               lose   \n",
       "4                  1.1       1.1     434962                win   \n",
       "\n",
       "  subj_1_4_condition  \n",
       "0                win  \n",
       "1               lose  \n",
       "2               lose  \n",
       "3                win  \n",
       "4               lose  "
      ]
     },
     "execution_count": 52,
     "metadata": {},
     "output_type": "execute_result"
    }
   ],
   "source": [
    "tone_time_stamps_df.head()"
   ]
  },
  {
   "cell_type": "code",
   "execution_count": 53,
   "id": "edff22d8",
   "metadata": {},
   "outputs": [
    {
     "data": {
      "text/plain": [
       "array([     445,      466,      506, ..., 62445561, 62581172, 62670994])"
      ]
     },
     "execution_count": 53,
     "metadata": {},
     "output_type": "execute_result"
    }
   ],
   "source": [
    "good_unit_times"
   ]
  },
  {
   "cell_type": "code",
   "execution_count": 54,
   "id": "e154b513",
   "metadata": {},
   "outputs": [
    {
     "data": {
      "text/plain": [
       "array([20, 40,  7, ..., 20, 38, 55], dtype=int32)"
      ]
     },
     "execution_count": 54,
     "metadata": {},
     "output_type": "execute_result"
    }
   ],
   "source": [
    "good_unit_all_ids"
   ]
  },
  {
   "cell_type": "code",
   "execution_count": 55,
   "id": "e9bb39bb",
   "metadata": {},
   "outputs": [
    {
     "data": {
      "text/plain": [
       "array([ 0,  0,  0, ..., 37, 37, 37])"
      ]
     },
     "execution_count": 55,
     "metadata": {},
     "output_type": "execute_result"
    }
   ],
   "source": [
    "good_unit_bins"
   ]
  },
  {
   "cell_type": "code",
   "execution_count": 56,
   "id": "63bacd85",
   "metadata": {},
   "outputs": [
    {
     "data": {
      "text/plain": [
       "array([ 1099250,  3499256,  5799251,  7599250,  8699250,  9699249,\n",
       "       11599246, 13099245, 15199244, 16199246, 17799245, 19099245,\n",
       "       20399242, 21399244, 22799243, 24699243, 26299240, 27699242,\n",
       "       29899241, 31099238, 37099239, 38299236, 39399236, 40699238,\n",
       "       41799238, 42799235, 43799237, 45899234, 48299235, 50699232,\n",
       "       52899234, 54599233, 56999232, 58199232, 59499229, 60699231,\n",
       "       62199231, 64199227])"
      ]
     },
     "execution_count": 56,
     "metadata": {},
     "output_type": "execute_result"
    }
   ],
   "source": [
    "tone_time_stamps"
   ]
  },
  {
   "cell_type": "code",
   "execution_count": 57,
   "id": "32027c87",
   "metadata": {},
   "outputs": [
    {
     "data": {
      "text/plain": [
       "'\\nStep 1: \\n- Get all the unit times that are 10 seconds before tone \\nand 10 seconds after the tone(separately)\\n\\nStep 2:\\n- Separate out for each trial\\n\\nStep 3: Calculate firing rate\\n'"
      ]
     },
     "execution_count": 57,
     "metadata": {},
     "output_type": "execute_result"
    }
   ],
   "source": [
    "\"\"\"\n",
    "Step 1: \n",
    "- Get all the unit times that are 10 seconds before tone \n",
    "and 10 seconds after the tone(separately)\n",
    "\n",
    "Step 2:\n",
    "- Separate out for each trial\n",
    "\n",
    "Step 3: Calculate firing rate\n",
    "\"\"\""
   ]
  },
  {
   "cell_type": "code",
   "execution_count": 58,
   "id": "ffef8b7b",
   "metadata": {},
   "outputs": [],
   "source": [
    "# iterating through the timestamp of each good unit spike\n",
    "\n",
    "before_and_after_interval_unit_times = defaultdict(dict)\n",
    "\n",
    "per_trial_number_of_samples = trial_one_way_duration * sampling_rate\n",
    "\n",
    "for index, time in enumerate(good_unit_times):\n",
    "    # getting the corresponding tone bin for the timestamp\n",
    "    current_bin = good_unit_bins[index]\n",
    "    current_neuron = good_unit_all_ids[index]   \n",
    "    \n",
    "    # checking number before\n",
    "    first_tone_time = tone_time_stamps[(current_bin - 1) % len(tone_time_stamps)]\n",
    "    # checking number after\n",
    "    second_tone_time = tone_time_stamps[(current_bin) % len(tone_time_stamps)]    \n",
    "    \n",
    "    # checking if time is before first number\n",
    "    if first_tone_time - per_trial_number_of_samples <= time <= first_tone_time:\n",
    "        before_and_after_interval_unit_times[time][\"tone_time\"] = first_tone_time\n",
    "        before_and_after_interval_unit_times[time][\"before_or_after\"] = \"before\"\n",
    "        before_and_after_interval_unit_times[time][\"neuron_id\"] = good_unit_all_ids[index]\n",
    "    # checking if time is after first number\n",
    "    elif first_tone_time < time <= first_tone_time + per_trial_number_of_samples:\n",
    "        before_and_after_interval_unit_times[time][\"tone_time\"] = first_tone_time\n",
    "        before_and_after_interval_unit_times[time][\"before_or_after\"] = \"after\"\n",
    "        before_and_after_interval_unit_times[time][\"neuron_id\"] = good_unit_all_ids[index]\n",
    "    # checking if time is before second number\n",
    "    if second_tone_time - per_trial_number_of_samples <= time <= second_tone_time:\n",
    "        before_and_after_interval_unit_times[time][\"tone_time\"] = second_tone_time\n",
    "        before_and_after_interval_unit_times[time][\"before_or_after\"] = \"before\"\n",
    "        before_and_after_interval_unit_times[time][\"neuron_id\"] = good_unit_all_ids[index]\n",
    "    # checking if time is after second number\n",
    "    elif second_tone_time < time <= second_tone_time + per_trial_number_of_samples:\n",
    "        before_and_after_interval_unit_times[time][\"tone_time\"] = second_tone_time\n",
    "        before_and_after_interval_unit_times[time][\"before_or_after\"] = \"after\"\n",
    "        before_and_after_interval_unit_times[time][\"neuron_id\"] = good_unit_all_ids[index]"
   ]
  },
  {
   "cell_type": "code",
   "execution_count": 59,
   "id": "2955b075",
   "metadata": {},
   "outputs": [
    {
     "data": {
      "text/plain": [
       "200000"
      ]
     },
     "execution_count": 59,
     "metadata": {},
     "output_type": "execute_result"
    }
   ],
   "source": [
    "per_trial_number_of_samples"
   ]
  },
  {
   "cell_type": "code",
   "execution_count": 60,
   "id": "676f9c1e",
   "metadata": {},
   "outputs": [],
   "source": [
    "before_and_after_interval_unit_df = pd.DataFrame.from_dict(before_and_after_interval_unit_times, orient=\"index\").reset_index()\n",
    "before_and_after_interval_unit_df = before_and_after_interval_unit_df.rename(columns={\"index\": \"spike_time\"})"
   ]
  },
  {
   "cell_type": "code",
   "execution_count": 61,
   "id": "171991f5",
   "metadata": {},
   "outputs": [
    {
     "data": {
      "text/html": [
       "<div>\n",
       "<style scoped>\n",
       "    .dataframe tbody tr th:only-of-type {\n",
       "        vertical-align: middle;\n",
       "    }\n",
       "\n",
       "    .dataframe tbody tr th {\n",
       "        vertical-align: top;\n",
       "    }\n",
       "\n",
       "    .dataframe thead th {\n",
       "        text-align: right;\n",
       "    }\n",
       "</style>\n",
       "<table border=\"1\" class=\"dataframe\">\n",
       "  <thead>\n",
       "    <tr style=\"text-align: right;\">\n",
       "      <th></th>\n",
       "      <th>spike_time</th>\n",
       "      <th>tone_time</th>\n",
       "      <th>before_or_after</th>\n",
       "      <th>neuron_id</th>\n",
       "    </tr>\n",
       "  </thead>\n",
       "  <tbody>\n",
       "    <tr>\n",
       "      <th>0</th>\n",
       "      <td>899466</td>\n",
       "      <td>1099250</td>\n",
       "      <td>before</td>\n",
       "      <td>38</td>\n",
       "    </tr>\n",
       "    <tr>\n",
       "      <th>1</th>\n",
       "      <td>899612</td>\n",
       "      <td>1099250</td>\n",
       "      <td>before</td>\n",
       "      <td>40</td>\n",
       "    </tr>\n",
       "    <tr>\n",
       "      <th>2</th>\n",
       "      <td>899764</td>\n",
       "      <td>1099250</td>\n",
       "      <td>before</td>\n",
       "      <td>7</td>\n",
       "    </tr>\n",
       "    <tr>\n",
       "      <th>3</th>\n",
       "      <td>900020</td>\n",
       "      <td>1099250</td>\n",
       "      <td>before</td>\n",
       "      <td>29</td>\n",
       "    </tr>\n",
       "    <tr>\n",
       "      <th>4</th>\n",
       "      <td>900162</td>\n",
       "      <td>1099250</td>\n",
       "      <td>before</td>\n",
       "      <td>6</td>\n",
       "    </tr>\n",
       "  </tbody>\n",
       "</table>\n",
       "</div>"
      ],
      "text/plain": [
       "   spike_time  tone_time before_or_after  neuron_id\n",
       "0      899466    1099250          before         38\n",
       "1      899612    1099250          before         40\n",
       "2      899764    1099250          before          7\n",
       "3      900020    1099250          before         29\n",
       "4      900162    1099250          before          6"
      ]
     },
     "execution_count": 61,
     "metadata": {},
     "output_type": "execute_result"
    }
   ],
   "source": [
    "before_and_after_interval_unit_df.head()"
   ]
  },
  {
   "cell_type": "code",
   "execution_count": 62,
   "id": "d57cb3d3",
   "metadata": {},
   "outputs": [],
   "source": [
    "before_and_after_tone_spike_count_df = before_and_after_interval_unit_df.groupby([\"tone_time\", \"before_or_after\", \"neuron_id\"]).count().unstack(fill_value=0).stack().reset_index().rename(columns={\"spike_time\": \"fired_spike_count\"})"
   ]
  },
  {
   "cell_type": "code",
   "execution_count": 63,
   "id": "7fc9a896",
   "metadata": {},
   "outputs": [],
   "source": [
    "before_tone_spike_count_df = before_and_after_tone_spike_count_df[before_and_after_tone_spike_count_df[\"before_or_after\"] == \"before\"].rename(columns={\"fired_spike_count\": \"before_fired_spike_count\"})\n",
    "after_tone_spike_count_df = before_and_after_tone_spike_count_df[before_and_after_tone_spike_count_df[\"before_or_after\"] == \"after\"].rename(columns={\"fired_spike_count\": \"after_fired_spike_count\"})"
   ]
  },
  {
   "cell_type": "code",
   "execution_count": 64,
   "id": "30868ddd",
   "metadata": {},
   "outputs": [
    {
     "data": {
      "text/html": [
       "<div>\n",
       "<style scoped>\n",
       "    .dataframe tbody tr th:only-of-type {\n",
       "        vertical-align: middle;\n",
       "    }\n",
       "\n",
       "    .dataframe tbody tr th {\n",
       "        vertical-align: top;\n",
       "    }\n",
       "\n",
       "    .dataframe thead th {\n",
       "        text-align: right;\n",
       "    }\n",
       "</style>\n",
       "<table border=\"1\" class=\"dataframe\">\n",
       "  <thead>\n",
       "    <tr style=\"text-align: right;\">\n",
       "      <th></th>\n",
       "      <th>tone_time</th>\n",
       "      <th>before_or_after</th>\n",
       "      <th>neuron_id</th>\n",
       "      <th>before_fired_spike_count</th>\n",
       "    </tr>\n",
       "  </thead>\n",
       "  <tbody>\n",
       "    <tr>\n",
       "      <th>16</th>\n",
       "      <td>1099250</td>\n",
       "      <td>before</td>\n",
       "      <td>1</td>\n",
       "      <td>4</td>\n",
       "    </tr>\n",
       "    <tr>\n",
       "      <th>17</th>\n",
       "      <td>1099250</td>\n",
       "      <td>before</td>\n",
       "      <td>3</td>\n",
       "      <td>0</td>\n",
       "    </tr>\n",
       "    <tr>\n",
       "      <th>18</th>\n",
       "      <td>1099250</td>\n",
       "      <td>before</td>\n",
       "      <td>4</td>\n",
       "      <td>0</td>\n",
       "    </tr>\n",
       "    <tr>\n",
       "      <th>19</th>\n",
       "      <td>1099250</td>\n",
       "      <td>before</td>\n",
       "      <td>6</td>\n",
       "      <td>55</td>\n",
       "    </tr>\n",
       "    <tr>\n",
       "      <th>20</th>\n",
       "      <td>1099250</td>\n",
       "      <td>before</td>\n",
       "      <td>7</td>\n",
       "      <td>90</td>\n",
       "    </tr>\n",
       "  </tbody>\n",
       "</table>\n",
       "</div>"
      ],
      "text/plain": [
       "    tone_time before_or_after  neuron_id  before_fired_spike_count\n",
       "16    1099250          before          1                         4\n",
       "17    1099250          before          3                         0\n",
       "18    1099250          before          4                         0\n",
       "19    1099250          before          6                        55\n",
       "20    1099250          before          7                        90"
      ]
     },
     "execution_count": 64,
     "metadata": {},
     "output_type": "execute_result"
    }
   ],
   "source": [
    "before_tone_spike_count_df.head()"
   ]
  },
  {
   "cell_type": "code",
   "execution_count": 65,
   "id": "2c7d383f",
   "metadata": {},
   "outputs": [
    {
     "data": {
      "text/html": [
       "<div>\n",
       "<style scoped>\n",
       "    .dataframe tbody tr th:only-of-type {\n",
       "        vertical-align: middle;\n",
       "    }\n",
       "\n",
       "    .dataframe tbody tr th {\n",
       "        vertical-align: top;\n",
       "    }\n",
       "\n",
       "    .dataframe thead th {\n",
       "        text-align: right;\n",
       "    }\n",
       "</style>\n",
       "<table border=\"1\" class=\"dataframe\">\n",
       "  <thead>\n",
       "    <tr style=\"text-align: right;\">\n",
       "      <th></th>\n",
       "      <th>tone_time</th>\n",
       "      <th>before_or_after</th>\n",
       "      <th>neuron_id</th>\n",
       "      <th>after_fired_spike_count</th>\n",
       "    </tr>\n",
       "  </thead>\n",
       "  <tbody>\n",
       "    <tr>\n",
       "      <th>0</th>\n",
       "      <td>1099250</td>\n",
       "      <td>after</td>\n",
       "      <td>1</td>\n",
       "      <td>19</td>\n",
       "    </tr>\n",
       "    <tr>\n",
       "      <th>1</th>\n",
       "      <td>1099250</td>\n",
       "      <td>after</td>\n",
       "      <td>3</td>\n",
       "      <td>0</td>\n",
       "    </tr>\n",
       "    <tr>\n",
       "      <th>2</th>\n",
       "      <td>1099250</td>\n",
       "      <td>after</td>\n",
       "      <td>4</td>\n",
       "      <td>0</td>\n",
       "    </tr>\n",
       "    <tr>\n",
       "      <th>3</th>\n",
       "      <td>1099250</td>\n",
       "      <td>after</td>\n",
       "      <td>6</td>\n",
       "      <td>28</td>\n",
       "    </tr>\n",
       "    <tr>\n",
       "      <th>4</th>\n",
       "      <td>1099250</td>\n",
       "      <td>after</td>\n",
       "      <td>7</td>\n",
       "      <td>72</td>\n",
       "    </tr>\n",
       "  </tbody>\n",
       "</table>\n",
       "</div>"
      ],
      "text/plain": [
       "   tone_time before_or_after  neuron_id  after_fired_spike_count\n",
       "0    1099250           after          1                       19\n",
       "1    1099250           after          3                        0\n",
       "2    1099250           after          4                        0\n",
       "3    1099250           after          6                       28\n",
       "4    1099250           after          7                       72"
      ]
     },
     "execution_count": 65,
     "metadata": {},
     "output_type": "execute_result"
    }
   ],
   "source": [
    "after_tone_spike_count_df.head()"
   ]
  },
  {
   "cell_type": "code",
   "execution_count": 66,
   "id": "56e87f75",
   "metadata": {},
   "outputs": [],
   "source": [
    "subj_1_merged_before_after_tone_spike_count_df = pd.merge(left=before_tone_spike_count_df, right=after_tone_spike_count_df, left_on=[\"tone_time\", \"neuron_id\"], right_on=[\"tone_time\", \"neuron_id\"])"
   ]
  },
  {
   "cell_type": "markdown",
   "id": "2404aed0",
   "metadata": {},
   "source": [
    "- Adding the trial type"
   ]
  },
  {
   "cell_type": "code",
   "execution_count": 67,
   "id": "7c899cdb",
   "metadata": {},
   "outputs": [],
   "source": [
    "tone_timestamp_to_trial_type = pd.Series(tone_time_stamps_df[\"subj_1_1_condition\"].values, index=tone_time_stamps_df[\"tone_index\"]).to_dict()"
   ]
  },
  {
   "cell_type": "code",
   "execution_count": 68,
   "id": "7454245f",
   "metadata": {
    "scrolled": true
   },
   "outputs": [
    {
     "data": {
      "text/plain": [
       "{1099250: 'lose',\n",
       " 3499256: 'win',\n",
       " 5799251: 'win',\n",
       " 7599250: 'lose',\n",
       " 8699250: 'win',\n",
       " 9699249: 'lose',\n",
       " 11599246: 'lose',\n",
       " 13099245: 'lose',\n",
       " 15199244: 'win',\n",
       " 16199246: 'win',\n",
       " 17799245: 'win',\n",
       " 19099245: 'win',\n",
       " 20399242: 'win',\n",
       " 21399244: 'win',\n",
       " 22799243: 'win',\n",
       " 24699243: 'win',\n",
       " 26299240: 'win',\n",
       " 27699242: 'win',\n",
       " 29899241: 'win',\n",
       " 31099238: 'lose',\n",
       " 37099239: 'rewarded',\n",
       " 38299236: 'rewarded',\n",
       " 39399236: 'rewarded',\n",
       " 40699238: 'rewarded',\n",
       " 41799238: 'rewarded',\n",
       " 42799235: 'rewarded',\n",
       " 43799237: 'rewarded',\n",
       " 45899234: 'omission',\n",
       " 48299235: 'rewarded',\n",
       " 50699232: 'rewarded',\n",
       " 52899234: 'rewarded',\n",
       " 54599233: 'rewarded',\n",
       " 56999232: 'rewarded',\n",
       " 58199232: 'omission',\n",
       " 59499229: 'rewarded',\n",
       " 60699231: 'rewarded',\n",
       " 62199231: 'rewarded',\n",
       " 64199227: 'omission'}"
      ]
     },
     "execution_count": 68,
     "metadata": {},
     "output_type": "execute_result"
    }
   ],
   "source": [
    "tone_timestamp_to_trial_type"
   ]
  },
  {
   "cell_type": "code",
   "execution_count": 69,
   "id": "3d962c1d",
   "metadata": {},
   "outputs": [],
   "source": [
    "subj_1_merged_before_after_tone_spike_count_df[\"trial_type\"] = subj_1_merged_before_after_tone_spike_count_df[\"tone_time\"].map(tone_timestamp_to_trial_type)"
   ]
  },
  {
   "cell_type": "code",
   "execution_count": 70,
   "id": "0faa9984-a5c0-4ea2-b19d-9493c40f6493",
   "metadata": {},
   "outputs": [],
   "source": [
    "subj_1_merged_before_after_tone_spike_count_df[\"subject\"] = \"subj_1_1\"\n",
    "subj_1_merged_before_after_tone_spike_count_df[\"subject_neuron_id\"] = subj_1_merged_before_after_tone_spike_count_df[\"neuron_id\"].astype(str) + subj_1_merged_before_after_tone_spike_count_df[\"subject\"]"
   ]
  },
  {
   "cell_type": "code",
   "execution_count": 71,
   "id": "125f3c61",
   "metadata": {},
   "outputs": [
    {
     "data": {
      "text/html": [
       "<div>\n",
       "<style scoped>\n",
       "    .dataframe tbody tr th:only-of-type {\n",
       "        vertical-align: middle;\n",
       "    }\n",
       "\n",
       "    .dataframe tbody tr th {\n",
       "        vertical-align: top;\n",
       "    }\n",
       "\n",
       "    .dataframe thead th {\n",
       "        text-align: right;\n",
       "    }\n",
       "</style>\n",
       "<table border=\"1\" class=\"dataframe\">\n",
       "  <thead>\n",
       "    <tr style=\"text-align: right;\">\n",
       "      <th></th>\n",
       "      <th>tone_time</th>\n",
       "      <th>before_or_after_x</th>\n",
       "      <th>neuron_id</th>\n",
       "      <th>before_fired_spike_count</th>\n",
       "      <th>before_or_after_y</th>\n",
       "      <th>after_fired_spike_count</th>\n",
       "      <th>trial_type</th>\n",
       "      <th>subject</th>\n",
       "      <th>subject_neuron_id</th>\n",
       "    </tr>\n",
       "  </thead>\n",
       "  <tbody>\n",
       "    <tr>\n",
       "      <th>0</th>\n",
       "      <td>1099250</td>\n",
       "      <td>before</td>\n",
       "      <td>1</td>\n",
       "      <td>4</td>\n",
       "      <td>after</td>\n",
       "      <td>19</td>\n",
       "      <td>lose</td>\n",
       "      <td>subj_1_1</td>\n",
       "      <td>1subj_1_1</td>\n",
       "    </tr>\n",
       "    <tr>\n",
       "      <th>1</th>\n",
       "      <td>1099250</td>\n",
       "      <td>before</td>\n",
       "      <td>3</td>\n",
       "      <td>0</td>\n",
       "      <td>after</td>\n",
       "      <td>0</td>\n",
       "      <td>lose</td>\n",
       "      <td>subj_1_1</td>\n",
       "      <td>3subj_1_1</td>\n",
       "    </tr>\n",
       "    <tr>\n",
       "      <th>2</th>\n",
       "      <td>1099250</td>\n",
       "      <td>before</td>\n",
       "      <td>4</td>\n",
       "      <td>0</td>\n",
       "      <td>after</td>\n",
       "      <td>0</td>\n",
       "      <td>lose</td>\n",
       "      <td>subj_1_1</td>\n",
       "      <td>4subj_1_1</td>\n",
       "    </tr>\n",
       "    <tr>\n",
       "      <th>3</th>\n",
       "      <td>1099250</td>\n",
       "      <td>before</td>\n",
       "      <td>6</td>\n",
       "      <td>55</td>\n",
       "      <td>after</td>\n",
       "      <td>28</td>\n",
       "      <td>lose</td>\n",
       "      <td>subj_1_1</td>\n",
       "      <td>6subj_1_1</td>\n",
       "    </tr>\n",
       "    <tr>\n",
       "      <th>4</th>\n",
       "      <td>1099250</td>\n",
       "      <td>before</td>\n",
       "      <td>7</td>\n",
       "      <td>90</td>\n",
       "      <td>after</td>\n",
       "      <td>72</td>\n",
       "      <td>lose</td>\n",
       "      <td>subj_1_1</td>\n",
       "      <td>7subj_1_1</td>\n",
       "    </tr>\n",
       "    <tr>\n",
       "      <th>...</th>\n",
       "      <td>...</td>\n",
       "      <td>...</td>\n",
       "      <td>...</td>\n",
       "      <td>...</td>\n",
       "      <td>...</td>\n",
       "      <td>...</td>\n",
       "      <td>...</td>\n",
       "      <td>...</td>\n",
       "      <td>...</td>\n",
       "    </tr>\n",
       "    <tr>\n",
       "      <th>587</th>\n",
       "      <td>62199231</td>\n",
       "      <td>before</td>\n",
       "      <td>40</td>\n",
       "      <td>74</td>\n",
       "      <td>after</td>\n",
       "      <td>11</td>\n",
       "      <td>rewarded</td>\n",
       "      <td>subj_1_1</td>\n",
       "      <td>40subj_1_1</td>\n",
       "    </tr>\n",
       "    <tr>\n",
       "      <th>588</th>\n",
       "      <td>62199231</td>\n",
       "      <td>before</td>\n",
       "      <td>48</td>\n",
       "      <td>13</td>\n",
       "      <td>after</td>\n",
       "      <td>6</td>\n",
       "      <td>rewarded</td>\n",
       "      <td>subj_1_1</td>\n",
       "      <td>48subj_1_1</td>\n",
       "    </tr>\n",
       "    <tr>\n",
       "      <th>589</th>\n",
       "      <td>62199231</td>\n",
       "      <td>before</td>\n",
       "      <td>55</td>\n",
       "      <td>11</td>\n",
       "      <td>after</td>\n",
       "      <td>16</td>\n",
       "      <td>rewarded</td>\n",
       "      <td>subj_1_1</td>\n",
       "      <td>55subj_1_1</td>\n",
       "    </tr>\n",
       "    <tr>\n",
       "      <th>590</th>\n",
       "      <td>62199231</td>\n",
       "      <td>before</td>\n",
       "      <td>58</td>\n",
       "      <td>0</td>\n",
       "      <td>after</td>\n",
       "      <td>1</td>\n",
       "      <td>rewarded</td>\n",
       "      <td>subj_1_1</td>\n",
       "      <td>58subj_1_1</td>\n",
       "    </tr>\n",
       "    <tr>\n",
       "      <th>591</th>\n",
       "      <td>62199231</td>\n",
       "      <td>before</td>\n",
       "      <td>64</td>\n",
       "      <td>0</td>\n",
       "      <td>after</td>\n",
       "      <td>0</td>\n",
       "      <td>rewarded</td>\n",
       "      <td>subj_1_1</td>\n",
       "      <td>64subj_1_1</td>\n",
       "    </tr>\n",
       "  </tbody>\n",
       "</table>\n",
       "<p>592 rows × 9 columns</p>\n",
       "</div>"
      ],
      "text/plain": [
       "     tone_time before_or_after_x  neuron_id  before_fired_spike_count  \\\n",
       "0      1099250            before          1                         4   \n",
       "1      1099250            before          3                         0   \n",
       "2      1099250            before          4                         0   \n",
       "3      1099250            before          6                        55   \n",
       "4      1099250            before          7                        90   \n",
       "..         ...               ...        ...                       ...   \n",
       "587   62199231            before         40                        74   \n",
       "588   62199231            before         48                        13   \n",
       "589   62199231            before         55                        11   \n",
       "590   62199231            before         58                         0   \n",
       "591   62199231            before         64                         0   \n",
       "\n",
       "    before_or_after_y  after_fired_spike_count trial_type   subject  \\\n",
       "0               after                       19       lose  subj_1_1   \n",
       "1               after                        0       lose  subj_1_1   \n",
       "2               after                        0       lose  subj_1_1   \n",
       "3               after                       28       lose  subj_1_1   \n",
       "4               after                       72       lose  subj_1_1   \n",
       "..                ...                      ...        ...       ...   \n",
       "587             after                       11   rewarded  subj_1_1   \n",
       "588             after                        6   rewarded  subj_1_1   \n",
       "589             after                       16   rewarded  subj_1_1   \n",
       "590             after                        1   rewarded  subj_1_1   \n",
       "591             after                        0   rewarded  subj_1_1   \n",
       "\n",
       "    subject_neuron_id  \n",
       "0           1subj_1_1  \n",
       "1           3subj_1_1  \n",
       "2           4subj_1_1  \n",
       "3           6subj_1_1  \n",
       "4           7subj_1_1  \n",
       "..                ...  \n",
       "587        40subj_1_1  \n",
       "588        48subj_1_1  \n",
       "589        55subj_1_1  \n",
       "590        58subj_1_1  \n",
       "591        64subj_1_1  \n",
       "\n",
       "[592 rows x 9 columns]"
      ]
     },
     "execution_count": 71,
     "metadata": {},
     "output_type": "execute_result"
    }
   ],
   "source": [
    "subj_1_merged_before_after_tone_spike_count_df"
   ]
  },
  {
   "cell_type": "code",
   "execution_count": null,
   "id": "dfe6bb8c-a8ec-4d14-ad98-5c3cfd945c14",
   "metadata": {},
   "outputs": [],
   "source": []
  },
  {
   "cell_type": "markdown",
   "id": "97a66ff2-890f-4017-880e-2ca6a964b859",
   "metadata": {},
   "source": [
    "# Getting spike rates for other subject"
   ]
  },
  {
   "cell_type": "code",
   "execution_count": null,
   "id": "c0276f4c-8946-450a-8979-3b4b5bf4ac6b",
   "metadata": {},
   "outputs": [],
   "source": []
  },
  {
   "cell_type": "markdown",
   "id": "1d353473-c3b7-44d6-b1df-3b868154ee59",
   "metadata": {},
   "source": [
    "# Reading in Phy"
   ]
  },
  {
   "cell_type": "markdown",
   "id": "051019f8-12fb-4a79-9209-ba9782785021",
   "metadata": {},
   "source": [
    "- Which unit the spike came from"
   ]
  },
  {
   "cell_type": "code",
   "execution_count": 72,
   "id": "10db6b37-e847-4d3f-bebc-d19f840ddaf4",
   "metadata": {},
   "outputs": [],
   "source": [
    "subj_dir = \"/scratch/back_up/reward_competition_extention/proc/spike_sorting/20230618_100636_standard_comp_to_omission_D2_subj_1_4_t4b3L_box1_merged.rec/\"\n"
   ]
  },
  {
   "cell_type": "code",
   "execution_count": 73,
   "id": "9ec7c5f1-221f-4ab7-ad26-8dbc2a829ca0",
   "metadata": {},
   "outputs": [],
   "source": [
    "spike_clusters = np.load(os.path.join(subj_dir, \"phy/spike_clusters.npy\"))"
   ]
  },
  {
   "cell_type": "code",
   "execution_count": 74,
   "id": "2be258eb-bd3d-41fb-92ae-3c7e61f96167",
   "metadata": {},
   "outputs": [
    {
     "data": {
      "text/plain": [
       "array([60, 60, 60, 26, 58,  7, 25, 38,  3, 25], dtype=int32)"
      ]
     },
     "execution_count": 74,
     "metadata": {},
     "output_type": "execute_result"
    }
   ],
   "source": [
    "spike_clusters[:10]"
   ]
  },
  {
   "cell_type": "markdown",
   "id": "35dc2fad-045e-4ed9-bc00-78a32960f057",
   "metadata": {},
   "source": [
    "- The classification of each unit"
   ]
  },
  {
   "cell_type": "code",
   "execution_count": 75,
   "id": "c4101a5f-bcc5-426a-bb71-28a18ed49e86",
   "metadata": {},
   "outputs": [],
   "source": [
    "cluster_group_df = pd.read_csv(os.path.join(subj_dir, \"phy/cluster_info.tsv\"), sep=\"\\t\")"
   ]
  },
  {
   "cell_type": "code",
   "execution_count": 76,
   "id": "3da57b2a-bf20-48fa-97eb-2dc97135f603",
   "metadata": {},
   "outputs": [],
   "source": [
    "non_mpfc_channels = [28, 29, 30, 31]"
   ]
  },
  {
   "cell_type": "code",
   "execution_count": 77,
   "id": "b2452f9b-30c4-4229-94f9-7865ab553427",
   "metadata": {},
   "outputs": [],
   "source": [
    "cluster_group_df = cluster_group_df[~cluster_group_df[\"ch\"].isin(non_mpfc_channels)]"
   ]
  },
  {
   "cell_type": "code",
   "execution_count": 78,
   "id": "4fad67a9-ef64-4a3a-998f-1833d3b696dc",
   "metadata": {},
   "outputs": [
    {
     "data": {
      "text/html": [
       "<div>\n",
       "<style scoped>\n",
       "    .dataframe tbody tr th:only-of-type {\n",
       "        vertical-align: middle;\n",
       "    }\n",
       "\n",
       "    .dataframe tbody tr th {\n",
       "        vertical-align: top;\n",
       "    }\n",
       "\n",
       "    .dataframe thead th {\n",
       "        text-align: right;\n",
       "    }\n",
       "</style>\n",
       "<table border=\"1\" class=\"dataframe\">\n",
       "  <thead>\n",
       "    <tr style=\"text-align: right;\">\n",
       "      <th></th>\n",
       "      <th>cluster_id</th>\n",
       "      <th>amp</th>\n",
       "      <th>ch</th>\n",
       "      <th>channel_group</th>\n",
       "      <th>depth</th>\n",
       "      <th>fr</th>\n",
       "      <th>group</th>\n",
       "      <th>n_spikes</th>\n",
       "      <th>sh</th>\n",
       "      <th>si_unit_id</th>\n",
       "    </tr>\n",
       "  </thead>\n",
       "  <tbody>\n",
       "    <tr>\n",
       "      <th>0</th>\n",
       "      <td>0</td>\n",
       "      <td>9.704487</td>\n",
       "      <td>0</td>\n",
       "      <td>0</td>\n",
       "      <td>0.0</td>\n",
       "      <td>8.615203</td>\n",
       "      <td>mua</td>\n",
       "      <td>29547</td>\n",
       "      <td>0</td>\n",
       "      <td>1</td>\n",
       "    </tr>\n",
       "    <tr>\n",
       "      <th>1</th>\n",
       "      <td>1</td>\n",
       "      <td>15.160955</td>\n",
       "      <td>0</td>\n",
       "      <td>0</td>\n",
       "      <td>0.0</td>\n",
       "      <td>2.351562</td>\n",
       "      <td>good</td>\n",
       "      <td>8065</td>\n",
       "      <td>0</td>\n",
       "      <td>2</td>\n",
       "    </tr>\n",
       "    <tr>\n",
       "      <th>2</th>\n",
       "      <td>2</td>\n",
       "      <td>10.994174</td>\n",
       "      <td>1</td>\n",
       "      <td>0</td>\n",
       "      <td>20.0</td>\n",
       "      <td>0.631263</td>\n",
       "      <td>good</td>\n",
       "      <td>2165</td>\n",
       "      <td>0</td>\n",
       "      <td>3</td>\n",
       "    </tr>\n",
       "    <tr>\n",
       "      <th>3</th>\n",
       "      <td>3</td>\n",
       "      <td>9.616855</td>\n",
       "      <td>1</td>\n",
       "      <td>0</td>\n",
       "      <td>20.0</td>\n",
       "      <td>5.323891</td>\n",
       "      <td>mua</td>\n",
       "      <td>18259</td>\n",
       "      <td>0</td>\n",
       "      <td>4</td>\n",
       "    </tr>\n",
       "    <tr>\n",
       "      <th>4</th>\n",
       "      <td>4</td>\n",
       "      <td>13.022879</td>\n",
       "      <td>2</td>\n",
       "      <td>0</td>\n",
       "      <td>40.0</td>\n",
       "      <td>9.569241</td>\n",
       "      <td>good</td>\n",
       "      <td>32819</td>\n",
       "      <td>0</td>\n",
       "      <td>5</td>\n",
       "    </tr>\n",
       "    <tr>\n",
       "      <th>5</th>\n",
       "      <td>5</td>\n",
       "      <td>9.269071</td>\n",
       "      <td>2</td>\n",
       "      <td>0</td>\n",
       "      <td>40.0</td>\n",
       "      <td>2.569370</td>\n",
       "      <td>mua</td>\n",
       "      <td>8812</td>\n",
       "      <td>0</td>\n",
       "      <td>6</td>\n",
       "    </tr>\n",
       "    <tr>\n",
       "      <th>6</th>\n",
       "      <td>7</td>\n",
       "      <td>8.466800</td>\n",
       "      <td>2</td>\n",
       "      <td>0</td>\n",
       "      <td>40.0</td>\n",
       "      <td>2.642555</td>\n",
       "      <td>good</td>\n",
       "      <td>9063</td>\n",
       "      <td>0</td>\n",
       "      <td>8</td>\n",
       "    </tr>\n",
       "    <tr>\n",
       "      <th>7</th>\n",
       "      <td>8</td>\n",
       "      <td>9.198713</td>\n",
       "      <td>3</td>\n",
       "      <td>0</td>\n",
       "      <td>60.0</td>\n",
       "      <td>0.217516</td>\n",
       "      <td>mua</td>\n",
       "      <td>746</td>\n",
       "      <td>0</td>\n",
       "      <td>9</td>\n",
       "    </tr>\n",
       "    <tr>\n",
       "      <th>8</th>\n",
       "      <td>9</td>\n",
       "      <td>12.508228</td>\n",
       "      <td>3</td>\n",
       "      <td>0</td>\n",
       "      <td>60.0</td>\n",
       "      <td>1.605419</td>\n",
       "      <td>good</td>\n",
       "      <td>5506</td>\n",
       "      <td>0</td>\n",
       "      <td>10</td>\n",
       "    </tr>\n",
       "    <tr>\n",
       "      <th>9</th>\n",
       "      <td>13</td>\n",
       "      <td>10.283003</td>\n",
       "      <td>10</td>\n",
       "      <td>0</td>\n",
       "      <td>200.0</td>\n",
       "      <td>1.223162</td>\n",
       "      <td>mua</td>\n",
       "      <td>4195</td>\n",
       "      <td>0</td>\n",
       "      <td>14</td>\n",
       "    </tr>\n",
       "    <tr>\n",
       "      <th>10</th>\n",
       "      <td>14</td>\n",
       "      <td>11.179998</td>\n",
       "      <td>10</td>\n",
       "      <td>0</td>\n",
       "      <td>200.0</td>\n",
       "      <td>1.098951</td>\n",
       "      <td>mua</td>\n",
       "      <td>3769</td>\n",
       "      <td>0</td>\n",
       "      <td>15</td>\n",
       "    </tr>\n",
       "    <tr>\n",
       "      <th>11</th>\n",
       "      <td>15</td>\n",
       "      <td>12.219653</td>\n",
       "      <td>10</td>\n",
       "      <td>0</td>\n",
       "      <td>200.0</td>\n",
       "      <td>1.143854</td>\n",
       "      <td>mua</td>\n",
       "      <td>3923</td>\n",
       "      <td>0</td>\n",
       "      <td>16</td>\n",
       "    </tr>\n",
       "    <tr>\n",
       "      <th>12</th>\n",
       "      <td>16</td>\n",
       "      <td>14.966177</td>\n",
       "      <td>10</td>\n",
       "      <td>0</td>\n",
       "      <td>200.0</td>\n",
       "      <td>1.574803</td>\n",
       "      <td>mua</td>\n",
       "      <td>5401</td>\n",
       "      <td>0</td>\n",
       "      <td>17</td>\n",
       "    </tr>\n",
       "    <tr>\n",
       "      <th>13</th>\n",
       "      <td>17</td>\n",
       "      <td>11.075341</td>\n",
       "      <td>14</td>\n",
       "      <td>0</td>\n",
       "      <td>280.0</td>\n",
       "      <td>0.805625</td>\n",
       "      <td>mua</td>\n",
       "      <td>2763</td>\n",
       "      <td>0</td>\n",
       "      <td>18</td>\n",
       "    </tr>\n",
       "    <tr>\n",
       "      <th>14</th>\n",
       "      <td>18</td>\n",
       "      <td>13.106446</td>\n",
       "      <td>14</td>\n",
       "      <td>0</td>\n",
       "      <td>280.0</td>\n",
       "      <td>2.297038</td>\n",
       "      <td>good</td>\n",
       "      <td>7878</td>\n",
       "      <td>0</td>\n",
       "      <td>19</td>\n",
       "    </tr>\n",
       "    <tr>\n",
       "      <th>15</th>\n",
       "      <td>19</td>\n",
       "      <td>13.435120</td>\n",
       "      <td>15</td>\n",
       "      <td>0</td>\n",
       "      <td>300.0</td>\n",
       "      <td>0.503261</td>\n",
       "      <td>mua</td>\n",
       "      <td>1726</td>\n",
       "      <td>0</td>\n",
       "      <td>20</td>\n",
       "    </tr>\n",
       "    <tr>\n",
       "      <th>16</th>\n",
       "      <td>20</td>\n",
       "      <td>7.342390</td>\n",
       "      <td>20</td>\n",
       "      <td>0</td>\n",
       "      <td>400.0</td>\n",
       "      <td>0.219265</td>\n",
       "      <td>mua</td>\n",
       "      <td>752</td>\n",
       "      <td>0</td>\n",
       "      <td>22</td>\n",
       "    </tr>\n",
       "    <tr>\n",
       "      <th>17</th>\n",
       "      <td>21</td>\n",
       "      <td>10.664793</td>\n",
       "      <td>21</td>\n",
       "      <td>0</td>\n",
       "      <td>420.0</td>\n",
       "      <td>0.605604</td>\n",
       "      <td>noise</td>\n",
       "      <td>2077</td>\n",
       "      <td>0</td>\n",
       "      <td>23</td>\n",
       "    </tr>\n",
       "    <tr>\n",
       "      <th>18</th>\n",
       "      <td>22</td>\n",
       "      <td>10.601178</td>\n",
       "      <td>21</td>\n",
       "      <td>0</td>\n",
       "      <td>420.0</td>\n",
       "      <td>2.911680</td>\n",
       "      <td>mua</td>\n",
       "      <td>9986</td>\n",
       "      <td>0</td>\n",
       "      <td>24</td>\n",
       "    </tr>\n",
       "    <tr>\n",
       "      <th>19</th>\n",
       "      <td>23</td>\n",
       "      <td>9.276388</td>\n",
       "      <td>22</td>\n",
       "      <td>0</td>\n",
       "      <td>440.0</td>\n",
       "      <td>0.127419</td>\n",
       "      <td>mua</td>\n",
       "      <td>437</td>\n",
       "      <td>0</td>\n",
       "      <td>25</td>\n",
       "    </tr>\n",
       "    <tr>\n",
       "      <th>20</th>\n",
       "      <td>24</td>\n",
       "      <td>32.874237</td>\n",
       "      <td>23</td>\n",
       "      <td>0</td>\n",
       "      <td>460.0</td>\n",
       "      <td>0.522213</td>\n",
       "      <td>mua</td>\n",
       "      <td>1791</td>\n",
       "      <td>0</td>\n",
       "      <td>26</td>\n",
       "    </tr>\n",
       "    <tr>\n",
       "      <th>21</th>\n",
       "      <td>25</td>\n",
       "      <td>19.984566</td>\n",
       "      <td>24</td>\n",
       "      <td>0</td>\n",
       "      <td>480.0</td>\n",
       "      <td>2.390050</td>\n",
       "      <td>good</td>\n",
       "      <td>8197</td>\n",
       "      <td>0</td>\n",
       "      <td>27</td>\n",
       "    </tr>\n",
       "    <tr>\n",
       "      <th>22</th>\n",
       "      <td>26</td>\n",
       "      <td>10.468862</td>\n",
       "      <td>24</td>\n",
       "      <td>0</td>\n",
       "      <td>480.0</td>\n",
       "      <td>2.947253</td>\n",
       "      <td>mua</td>\n",
       "      <td>10108</td>\n",
       "      <td>0</td>\n",
       "      <td>28</td>\n",
       "    </tr>\n",
       "    <tr>\n",
       "      <th>23</th>\n",
       "      <td>30</td>\n",
       "      <td>9.754337</td>\n",
       "      <td>2</td>\n",
       "      <td>0</td>\n",
       "      <td>40.0</td>\n",
       "      <td>1.114113</td>\n",
       "      <td>good</td>\n",
       "      <td>3821</td>\n",
       "      <td>0</td>\n",
       "      <td>7</td>\n",
       "    </tr>\n",
       "    <tr>\n",
       "      <th>24</th>\n",
       "      <td>31</td>\n",
       "      <td>9.754337</td>\n",
       "      <td>2</td>\n",
       "      <td>0</td>\n",
       "      <td>40.0</td>\n",
       "      <td>1.758788</td>\n",
       "      <td>mua</td>\n",
       "      <td>6032</td>\n",
       "      <td>0</td>\n",
       "      <td>7</td>\n",
       "    </tr>\n",
       "    <tr>\n",
       "      <th>25</th>\n",
       "      <td>38</td>\n",
       "      <td>14.402934</td>\n",
       "      <td>6</td>\n",
       "      <td>0</td>\n",
       "      <td>120.0</td>\n",
       "      <td>7.804621</td>\n",
       "      <td>good</td>\n",
       "      <td>26767</td>\n",
       "      <td>0</td>\n",
       "      <td>11</td>\n",
       "    </tr>\n",
       "    <tr>\n",
       "      <th>26</th>\n",
       "      <td>39</td>\n",
       "      <td>14.402934</td>\n",
       "      <td>6</td>\n",
       "      <td>0</td>\n",
       "      <td>120.0</td>\n",
       "      <td>0.838282</td>\n",
       "      <td>mua</td>\n",
       "      <td>2875</td>\n",
       "      <td>0</td>\n",
       "      <td>11</td>\n",
       "    </tr>\n",
       "    <tr>\n",
       "      <th>27</th>\n",
       "      <td>42</td>\n",
       "      <td>10.973118</td>\n",
       "      <td>6</td>\n",
       "      <td>0</td>\n",
       "      <td>120.0</td>\n",
       "      <td>3.327176</td>\n",
       "      <td>good</td>\n",
       "      <td>11411</td>\n",
       "      <td>0</td>\n",
       "      <td>12</td>\n",
       "    </tr>\n",
       "    <tr>\n",
       "      <th>28</th>\n",
       "      <td>44</td>\n",
       "      <td>10.973118</td>\n",
       "      <td>6</td>\n",
       "      <td>0</td>\n",
       "      <td>120.0</td>\n",
       "      <td>0.308779</td>\n",
       "      <td>mua</td>\n",
       "      <td>1059</td>\n",
       "      <td>0</td>\n",
       "      <td>12</td>\n",
       "    </tr>\n",
       "    <tr>\n",
       "      <th>29</th>\n",
       "      <td>45</td>\n",
       "      <td>10.973118</td>\n",
       "      <td>6</td>\n",
       "      <td>0</td>\n",
       "      <td>120.0</td>\n",
       "      <td>0.006415</td>\n",
       "      <td>noise</td>\n",
       "      <td>22</td>\n",
       "      <td>0</td>\n",
       "      <td>12</td>\n",
       "    </tr>\n",
       "    <tr>\n",
       "      <th>30</th>\n",
       "      <td>46</td>\n",
       "      <td>9.491500</td>\n",
       "      <td>7</td>\n",
       "      <td>0</td>\n",
       "      <td>140.0</td>\n",
       "      <td>0.372343</td>\n",
       "      <td>mua</td>\n",
       "      <td>1277</td>\n",
       "      <td>0</td>\n",
       "      <td>13</td>\n",
       "    </tr>\n",
       "    <tr>\n",
       "      <th>31</th>\n",
       "      <td>48</td>\n",
       "      <td>9.491500</td>\n",
       "      <td>7</td>\n",
       "      <td>0</td>\n",
       "      <td>140.0</td>\n",
       "      <td>0.608811</td>\n",
       "      <td>good</td>\n",
       "      <td>2088</td>\n",
       "      <td>0</td>\n",
       "      <td>13</td>\n",
       "    </tr>\n",
       "    <tr>\n",
       "      <th>32</th>\n",
       "      <td>49</td>\n",
       "      <td>9.491500</td>\n",
       "      <td>7</td>\n",
       "      <td>0</td>\n",
       "      <td>140.0</td>\n",
       "      <td>0.017786</td>\n",
       "      <td>noise</td>\n",
       "      <td>61</td>\n",
       "      <td>0</td>\n",
       "      <td>13</td>\n",
       "    </tr>\n",
       "  </tbody>\n",
       "</table>\n",
       "</div>"
      ],
      "text/plain": [
       "    cluster_id        amp  ch  channel_group  depth        fr  group  \\\n",
       "0            0   9.704487   0              0    0.0  8.615203    mua   \n",
       "1            1  15.160955   0              0    0.0  2.351562   good   \n",
       "2            2  10.994174   1              0   20.0  0.631263   good   \n",
       "3            3   9.616855   1              0   20.0  5.323891    mua   \n",
       "4            4  13.022879   2              0   40.0  9.569241   good   \n",
       "5            5   9.269071   2              0   40.0  2.569370    mua   \n",
       "6            7   8.466800   2              0   40.0  2.642555   good   \n",
       "7            8   9.198713   3              0   60.0  0.217516    mua   \n",
       "8            9  12.508228   3              0   60.0  1.605419   good   \n",
       "9           13  10.283003  10              0  200.0  1.223162    mua   \n",
       "10          14  11.179998  10              0  200.0  1.098951    mua   \n",
       "11          15  12.219653  10              0  200.0  1.143854    mua   \n",
       "12          16  14.966177  10              0  200.0  1.574803    mua   \n",
       "13          17  11.075341  14              0  280.0  0.805625    mua   \n",
       "14          18  13.106446  14              0  280.0  2.297038   good   \n",
       "15          19  13.435120  15              0  300.0  0.503261    mua   \n",
       "16          20   7.342390  20              0  400.0  0.219265    mua   \n",
       "17          21  10.664793  21              0  420.0  0.605604  noise   \n",
       "18          22  10.601178  21              0  420.0  2.911680    mua   \n",
       "19          23   9.276388  22              0  440.0  0.127419    mua   \n",
       "20          24  32.874237  23              0  460.0  0.522213    mua   \n",
       "21          25  19.984566  24              0  480.0  2.390050   good   \n",
       "22          26  10.468862  24              0  480.0  2.947253    mua   \n",
       "23          30   9.754337   2              0   40.0  1.114113   good   \n",
       "24          31   9.754337   2              0   40.0  1.758788    mua   \n",
       "25          38  14.402934   6              0  120.0  7.804621   good   \n",
       "26          39  14.402934   6              0  120.0  0.838282    mua   \n",
       "27          42  10.973118   6              0  120.0  3.327176   good   \n",
       "28          44  10.973118   6              0  120.0  0.308779    mua   \n",
       "29          45  10.973118   6              0  120.0  0.006415  noise   \n",
       "30          46   9.491500   7              0  140.0  0.372343    mua   \n",
       "31          48   9.491500   7              0  140.0  0.608811   good   \n",
       "32          49   9.491500   7              0  140.0  0.017786  noise   \n",
       "\n",
       "    n_spikes  sh  si_unit_id  \n",
       "0      29547   0           1  \n",
       "1       8065   0           2  \n",
       "2       2165   0           3  \n",
       "3      18259   0           4  \n",
       "4      32819   0           5  \n",
       "5       8812   0           6  \n",
       "6       9063   0           8  \n",
       "7        746   0           9  \n",
       "8       5506   0          10  \n",
       "9       4195   0          14  \n",
       "10      3769   0          15  \n",
       "11      3923   0          16  \n",
       "12      5401   0          17  \n",
       "13      2763   0          18  \n",
       "14      7878   0          19  \n",
       "15      1726   0          20  \n",
       "16       752   0          22  \n",
       "17      2077   0          23  \n",
       "18      9986   0          24  \n",
       "19       437   0          25  \n",
       "20      1791   0          26  \n",
       "21      8197   0          27  \n",
       "22     10108   0          28  \n",
       "23      3821   0           7  \n",
       "24      6032   0           7  \n",
       "25     26767   0          11  \n",
       "26      2875   0          11  \n",
       "27     11411   0          12  \n",
       "28      1059   0          12  \n",
       "29        22   0          12  \n",
       "30      1277   0          13  \n",
       "31      2088   0          13  \n",
       "32        61   0          13  "
      ]
     },
     "execution_count": 78,
     "metadata": {},
     "output_type": "execute_result"
    }
   ],
   "source": [
    "cluster_group_df"
   ]
  },
  {
   "cell_type": "markdown",
   "id": "a87d443c-64fe-4425-b8f6-d71f1a06521d",
   "metadata": {},
   "source": [
    "- Filtering for the good units"
   ]
  },
  {
   "cell_type": "code",
   "execution_count": 79,
   "id": "43e9c260-2af6-47db-b58b-113329f48ac5",
   "metadata": {},
   "outputs": [],
   "source": [
    "good_unit_cluster_info_df = cluster_group_df[cluster_group_df[\"group\"] == \"good\"]"
   ]
  },
  {
   "cell_type": "code",
   "execution_count": 80,
   "id": "4ff51e1b-672d-491b-b3fc-0a018d2e0a5c",
   "metadata": {},
   "outputs": [
    {
     "data": {
      "text/html": [
       "<div>\n",
       "<style scoped>\n",
       "    .dataframe tbody tr th:only-of-type {\n",
       "        vertical-align: middle;\n",
       "    }\n",
       "\n",
       "    .dataframe tbody tr th {\n",
       "        vertical-align: top;\n",
       "    }\n",
       "\n",
       "    .dataframe thead th {\n",
       "        text-align: right;\n",
       "    }\n",
       "</style>\n",
       "<table border=\"1\" class=\"dataframe\">\n",
       "  <thead>\n",
       "    <tr style=\"text-align: right;\">\n",
       "      <th></th>\n",
       "      <th>cluster_id</th>\n",
       "      <th>amp</th>\n",
       "      <th>ch</th>\n",
       "      <th>channel_group</th>\n",
       "      <th>depth</th>\n",
       "      <th>fr</th>\n",
       "      <th>group</th>\n",
       "      <th>n_spikes</th>\n",
       "      <th>sh</th>\n",
       "      <th>si_unit_id</th>\n",
       "    </tr>\n",
       "  </thead>\n",
       "  <tbody>\n",
       "    <tr>\n",
       "      <th>1</th>\n",
       "      <td>1</td>\n",
       "      <td>15.160955</td>\n",
       "      <td>0</td>\n",
       "      <td>0</td>\n",
       "      <td>0.0</td>\n",
       "      <td>2.351562</td>\n",
       "      <td>good</td>\n",
       "      <td>8065</td>\n",
       "      <td>0</td>\n",
       "      <td>2</td>\n",
       "    </tr>\n",
       "    <tr>\n",
       "      <th>2</th>\n",
       "      <td>2</td>\n",
       "      <td>10.994174</td>\n",
       "      <td>1</td>\n",
       "      <td>0</td>\n",
       "      <td>20.0</td>\n",
       "      <td>0.631263</td>\n",
       "      <td>good</td>\n",
       "      <td>2165</td>\n",
       "      <td>0</td>\n",
       "      <td>3</td>\n",
       "    </tr>\n",
       "    <tr>\n",
       "      <th>4</th>\n",
       "      <td>4</td>\n",
       "      <td>13.022879</td>\n",
       "      <td>2</td>\n",
       "      <td>0</td>\n",
       "      <td>40.0</td>\n",
       "      <td>9.569241</td>\n",
       "      <td>good</td>\n",
       "      <td>32819</td>\n",
       "      <td>0</td>\n",
       "      <td>5</td>\n",
       "    </tr>\n",
       "    <tr>\n",
       "      <th>6</th>\n",
       "      <td>7</td>\n",
       "      <td>8.466800</td>\n",
       "      <td>2</td>\n",
       "      <td>0</td>\n",
       "      <td>40.0</td>\n",
       "      <td>2.642555</td>\n",
       "      <td>good</td>\n",
       "      <td>9063</td>\n",
       "      <td>0</td>\n",
       "      <td>8</td>\n",
       "    </tr>\n",
       "    <tr>\n",
       "      <th>8</th>\n",
       "      <td>9</td>\n",
       "      <td>12.508228</td>\n",
       "      <td>3</td>\n",
       "      <td>0</td>\n",
       "      <td>60.0</td>\n",
       "      <td>1.605419</td>\n",
       "      <td>good</td>\n",
       "      <td>5506</td>\n",
       "      <td>0</td>\n",
       "      <td>10</td>\n",
       "    </tr>\n",
       "    <tr>\n",
       "      <th>14</th>\n",
       "      <td>18</td>\n",
       "      <td>13.106446</td>\n",
       "      <td>14</td>\n",
       "      <td>0</td>\n",
       "      <td>280.0</td>\n",
       "      <td>2.297038</td>\n",
       "      <td>good</td>\n",
       "      <td>7878</td>\n",
       "      <td>0</td>\n",
       "      <td>19</td>\n",
       "    </tr>\n",
       "    <tr>\n",
       "      <th>21</th>\n",
       "      <td>25</td>\n",
       "      <td>19.984566</td>\n",
       "      <td>24</td>\n",
       "      <td>0</td>\n",
       "      <td>480.0</td>\n",
       "      <td>2.390050</td>\n",
       "      <td>good</td>\n",
       "      <td>8197</td>\n",
       "      <td>0</td>\n",
       "      <td>27</td>\n",
       "    </tr>\n",
       "    <tr>\n",
       "      <th>23</th>\n",
       "      <td>30</td>\n",
       "      <td>9.754337</td>\n",
       "      <td>2</td>\n",
       "      <td>0</td>\n",
       "      <td>40.0</td>\n",
       "      <td>1.114113</td>\n",
       "      <td>good</td>\n",
       "      <td>3821</td>\n",
       "      <td>0</td>\n",
       "      <td>7</td>\n",
       "    </tr>\n",
       "    <tr>\n",
       "      <th>25</th>\n",
       "      <td>38</td>\n",
       "      <td>14.402934</td>\n",
       "      <td>6</td>\n",
       "      <td>0</td>\n",
       "      <td>120.0</td>\n",
       "      <td>7.804621</td>\n",
       "      <td>good</td>\n",
       "      <td>26767</td>\n",
       "      <td>0</td>\n",
       "      <td>11</td>\n",
       "    </tr>\n",
       "    <tr>\n",
       "      <th>27</th>\n",
       "      <td>42</td>\n",
       "      <td>10.973118</td>\n",
       "      <td>6</td>\n",
       "      <td>0</td>\n",
       "      <td>120.0</td>\n",
       "      <td>3.327176</td>\n",
       "      <td>good</td>\n",
       "      <td>11411</td>\n",
       "      <td>0</td>\n",
       "      <td>12</td>\n",
       "    </tr>\n",
       "    <tr>\n",
       "      <th>31</th>\n",
       "      <td>48</td>\n",
       "      <td>9.491500</td>\n",
       "      <td>7</td>\n",
       "      <td>0</td>\n",
       "      <td>140.0</td>\n",
       "      <td>0.608811</td>\n",
       "      <td>good</td>\n",
       "      <td>2088</td>\n",
       "      <td>0</td>\n",
       "      <td>13</td>\n",
       "    </tr>\n",
       "  </tbody>\n",
       "</table>\n",
       "</div>"
      ],
      "text/plain": [
       "    cluster_id        amp  ch  channel_group  depth        fr group  n_spikes  \\\n",
       "1            1  15.160955   0              0    0.0  2.351562  good      8065   \n",
       "2            2  10.994174   1              0   20.0  0.631263  good      2165   \n",
       "4            4  13.022879   2              0   40.0  9.569241  good     32819   \n",
       "6            7   8.466800   2              0   40.0  2.642555  good      9063   \n",
       "8            9  12.508228   3              0   60.0  1.605419  good      5506   \n",
       "14          18  13.106446  14              0  280.0  2.297038  good      7878   \n",
       "21          25  19.984566  24              0  480.0  2.390050  good      8197   \n",
       "23          30   9.754337   2              0   40.0  1.114113  good      3821   \n",
       "25          38  14.402934   6              0  120.0  7.804621  good     26767   \n",
       "27          42  10.973118   6              0  120.0  3.327176  good     11411   \n",
       "31          48   9.491500   7              0  140.0  0.608811  good      2088   \n",
       "\n",
       "    sh  si_unit_id  \n",
       "1    0           2  \n",
       "2    0           3  \n",
       "4    0           5  \n",
       "6    0           8  \n",
       "8    0          10  \n",
       "14   0          19  \n",
       "21   0          27  \n",
       "23   0           7  \n",
       "25   0          11  \n",
       "27   0          12  \n",
       "31   0          13  "
      ]
     },
     "execution_count": 80,
     "metadata": {},
     "output_type": "execute_result"
    }
   ],
   "source": [
    "good_unit_cluster_info_df"
   ]
  },
  {
   "cell_type": "code",
   "execution_count": 81,
   "id": "7d5b5f7f-3312-4224-8deb-9796dbe5adf9",
   "metadata": {},
   "outputs": [],
   "source": [
    "good_unit_unique_ids = good_unit_cluster_info_df[\"cluster_id\"].values"
   ]
  },
  {
   "cell_type": "code",
   "execution_count": 82,
   "id": "d62c1003-4c6c-4556-8992-14bf404e7ee1",
   "metadata": {},
   "outputs": [
    {
     "data": {
      "text/plain": [
       "array([ 1,  2,  4,  7,  9, 18, 25, 30, 38, 42, 48])"
      ]
     },
     "execution_count": 82,
     "metadata": {},
     "output_type": "execute_result"
    }
   ],
   "source": [
    "good_unit_unique_ids"
   ]
  },
  {
   "cell_type": "markdown",
   "id": "0f2233ce-c9f5-4e25-9566-5e68fdebbd4f",
   "metadata": {},
   "source": [
    "- The times that all the spikes happened"
   ]
  },
  {
   "cell_type": "code",
   "execution_count": 83,
   "id": "7af3fdc5-17c4-477f-81f9-7a6c1d0c23f3",
   "metadata": {},
   "outputs": [],
   "source": [
    "spike_times = np.load(os.path.join(subj_dir, \"phy/spike_times.npy\"))"
   ]
  },
  {
   "cell_type": "code",
   "execution_count": 84,
   "id": "f8f90101-6dc1-4562-bfc5-85f744032faf",
   "metadata": {
    "scrolled": true
   },
   "outputs": [
    {
     "data": {
      "text/plain": [
       "array([[  46],\n",
       "       [ 266],\n",
       "       [ 437],\n",
       "       [ 683],\n",
       "       [ 740],\n",
       "       [ 937],\n",
       "       [ 998],\n",
       "       [1125],\n",
       "       [1219],\n",
       "       [1327]])"
      ]
     },
     "execution_count": 84,
     "metadata": {},
     "output_type": "execute_result"
    }
   ],
   "source": [
    "spike_times[:10]"
   ]
  },
  {
   "cell_type": "markdown",
   "id": "5fb2bca5-75e4-4439-a83b-4c60f3aa740c",
   "metadata": {},
   "source": [
    "- Getting a list of the IDs that were good from the list of unit ids for all the firings"
   ]
  },
  {
   "cell_type": "code",
   "execution_count": 85,
   "id": "18a1fdc5-99fc-43b2-927a-36d5993258e0",
   "metadata": {},
   "outputs": [],
   "source": [
    "good_unit_mask = np.isin(spike_clusters, good_unit_unique_ids)"
   ]
  },
  {
   "cell_type": "code",
   "execution_count": 86,
   "id": "c1632731-ee0b-4837-8317-6cf9a1a49555",
   "metadata": {},
   "outputs": [],
   "source": [
    "good_unit_all_ids = spike_clusters[good_unit_mask]"
   ]
  },
  {
   "cell_type": "code",
   "execution_count": 87,
   "id": "a45bbcac-0211-46d9-9bc3-3033f949977e",
   "metadata": {},
   "outputs": [
    {
     "data": {
      "text/plain": [
       "(117780,)"
      ]
     },
     "execution_count": 87,
     "metadata": {},
     "output_type": "execute_result"
    }
   ],
   "source": [
    "good_unit_all_ids.shape"
   ]
  },
  {
   "cell_type": "code",
   "execution_count": 88,
   "id": "2a4d7e4f-71b3-404c-a2b2-d16a10558cb5",
   "metadata": {},
   "outputs": [
    {
     "data": {
      "text/plain": [
       "array([ 7, 25, 38, 25, 38,  7,  4,  7,  7,  4], dtype=int32)"
      ]
     },
     "execution_count": 88,
     "metadata": {},
     "output_type": "execute_result"
    }
   ],
   "source": [
    "good_unit_all_ids[:10]"
   ]
  },
  {
   "cell_type": "markdown",
   "id": "0b4d67a1-200c-45fa-9551-04e02b7ee1a7",
   "metadata": {},
   "source": [
    "- Getting the time that the good units fired"
   ]
  },
  {
   "cell_type": "code",
   "execution_count": 89,
   "id": "2f84da6b-7007-47d7-b921-b8ca4a01a7a4",
   "metadata": {},
   "outputs": [],
   "source": [
    "good_unit_times = spike_times[good_unit_mask].T[0]"
   ]
  },
  {
   "cell_type": "code",
   "execution_count": 90,
   "id": "8f28d9e2-e72d-4192-815c-7186db537e2d",
   "metadata": {},
   "outputs": [
    {
     "data": {
      "text/plain": [
       "(117780,)"
      ]
     },
     "execution_count": 90,
     "metadata": {},
     "output_type": "execute_result"
    }
   ],
   "source": [
    "good_unit_times.shape"
   ]
  },
  {
   "cell_type": "code",
   "execution_count": 91,
   "id": "7b342ddb-8a6d-4409-bf01-8d47a0c55fad",
   "metadata": {},
   "outputs": [
    {
     "data": {
      "text/plain": [
       "array([ 937,  998, 1125, 1327, 1346, 1894, 2064, 2726, 3408, 4816])"
      ]
     },
     "execution_count": 91,
     "metadata": {},
     "output_type": "execute_result"
    }
   ],
   "source": [
    "good_unit_times[:10]"
   ]
  },
  {
   "cell_type": "code",
   "execution_count": 92,
   "id": "d55c0ba5-d812-4d46-8231-7eb12c41d5c7",
   "metadata": {},
   "outputs": [
    {
     "data": {
      "text/plain": [
       "array([67095024, 67095324, 67095971, 67096464, 67096783, 67096813,\n",
       "       67097699, 67098020, 67098467, 67098849])"
      ]
     },
     "execution_count": 92,
     "metadata": {},
     "output_type": "execute_result"
    }
   ],
   "source": [
    "good_unit_times[-10:]"
   ]
  },
  {
   "cell_type": "markdown",
   "id": "549122ec-0242-4759-a112-ce665f625250",
   "metadata": {},
   "source": [
    "- spike_times are indexed based on the start of the recording, not the start of the streaming\n",
    "    - Last spike ends right before the end of the recording time"
   ]
  },
  {
   "cell_type": "code",
   "execution_count": 93,
   "id": "38892d65-cb49-4657-a320-bb5be1f17b40",
   "metadata": {
    "scrolled": true
   },
   "outputs": [
    {
     "data": {
      "text/plain": [
       "array([[      46],\n",
       "       [     266],\n",
       "       [     437],\n",
       "       ...,\n",
       "       [67098020],\n",
       "       [67098467],\n",
       "       [67098849]])"
      ]
     },
     "execution_count": 93,
     "metadata": {},
     "output_type": "execute_result"
    }
   ],
   "source": [
    "spike_times"
   ]
  },
  {
   "cell_type": "code",
   "execution_count": 94,
   "id": "48b675fc-b415-4245-8faf-93456c5d342f",
   "metadata": {},
   "outputs": [
    {
     "data": {
      "text/plain": [
       "array([3354.94245])"
      ]
     },
     "execution_count": 94,
     "metadata": {},
     "output_type": "execute_result"
    }
   ],
   "source": [
    "spike_times[-1]/20000"
   ]
  },
  {
   "cell_type": "markdown",
   "id": "dfccd012-6bfa-4520-85e3-77ef9424089d",
   "metadata": {},
   "source": [
    "## Syncing the unit times with the ECU times"
   ]
  },
  {
   "cell_type": "code",
   "execution_count": 95,
   "id": "4c1f30c4-a753-4f93-af71-9ffb3d4fad50",
   "metadata": {},
   "outputs": [
    {
     "data": {
      "text/html": [
       "<div>\n",
       "<style scoped>\n",
       "    .dataframe tbody tr th:only-of-type {\n",
       "        vertical-align: middle;\n",
       "    }\n",
       "\n",
       "    .dataframe tbody tr th {\n",
       "        vertical-align: top;\n",
       "    }\n",
       "\n",
       "    .dataframe thead th {\n",
       "        text-align: right;\n",
       "    }\n",
       "</style>\n",
       "<table border=\"1\" class=\"dataframe\">\n",
       "  <thead>\n",
       "    <tr style=\"text-align: right;\">\n",
       "      <th></th>\n",
       "      <th>Unnamed: 0</th>\n",
       "      <th>tone_timestamp</th>\n",
       "      <th>tone_index</th>\n",
       "      <th>rewarded_or_not</th>\n",
       "      <th>competition_winners</th>\n",
       "      <th>condition</th>\n",
       "      <th>lfp_index</th>\n",
       "      <th>subj_1_1_condition</th>\n",
       "      <th>subj_1_4_condition</th>\n",
       "    </tr>\n",
       "  </thead>\n",
       "  <tbody>\n",
       "    <tr>\n",
       "      <th>0</th>\n",
       "      <td>0</td>\n",
       "      <td>1934930</td>\n",
       "      <td>1099250</td>\n",
       "      <td>rewarded</td>\n",
       "      <td>1.4</td>\n",
       "      <td>1.4</td>\n",
       "      <td>54962</td>\n",
       "      <td>lose</td>\n",
       "      <td>win</td>\n",
       "    </tr>\n",
       "    <tr>\n",
       "      <th>1</th>\n",
       "      <td>1</td>\n",
       "      <td>4334936</td>\n",
       "      <td>3499256</td>\n",
       "      <td>rewarded</td>\n",
       "      <td>1.1</td>\n",
       "      <td>1.1</td>\n",
       "      <td>174962</td>\n",
       "      <td>win</td>\n",
       "      <td>lose</td>\n",
       "    </tr>\n",
       "    <tr>\n",
       "      <th>2</th>\n",
       "      <td>2</td>\n",
       "      <td>6634931</td>\n",
       "      <td>5799251</td>\n",
       "      <td>rewarded</td>\n",
       "      <td>1.1</td>\n",
       "      <td>1.1</td>\n",
       "      <td>289962</td>\n",
       "      <td>win</td>\n",
       "      <td>lose</td>\n",
       "    </tr>\n",
       "    <tr>\n",
       "      <th>3</th>\n",
       "      <td>3</td>\n",
       "      <td>8434930</td>\n",
       "      <td>7599250</td>\n",
       "      <td>rewarded</td>\n",
       "      <td>1.4</td>\n",
       "      <td>1.4</td>\n",
       "      <td>379962</td>\n",
       "      <td>lose</td>\n",
       "      <td>win</td>\n",
       "    </tr>\n",
       "    <tr>\n",
       "      <th>4</th>\n",
       "      <td>4</td>\n",
       "      <td>9534930</td>\n",
       "      <td>8699250</td>\n",
       "      <td>rewarded</td>\n",
       "      <td>1.1</td>\n",
       "      <td>1.1</td>\n",
       "      <td>434962</td>\n",
       "      <td>win</td>\n",
       "      <td>lose</td>\n",
       "    </tr>\n",
       "    <tr>\n",
       "      <th>5</th>\n",
       "      <td>5</td>\n",
       "      <td>10534929</td>\n",
       "      <td>9699249</td>\n",
       "      <td>rewarded</td>\n",
       "      <td>1.4</td>\n",
       "      <td>1.4</td>\n",
       "      <td>484962</td>\n",
       "      <td>lose</td>\n",
       "      <td>win</td>\n",
       "    </tr>\n",
       "    <tr>\n",
       "      <th>6</th>\n",
       "      <td>6</td>\n",
       "      <td>12434926</td>\n",
       "      <td>11599246</td>\n",
       "      <td>rewarded</td>\n",
       "      <td>1.4</td>\n",
       "      <td>1.4</td>\n",
       "      <td>579962</td>\n",
       "      <td>lose</td>\n",
       "      <td>win</td>\n",
       "    </tr>\n",
       "    <tr>\n",
       "      <th>7</th>\n",
       "      <td>7</td>\n",
       "      <td>13934925</td>\n",
       "      <td>13099245</td>\n",
       "      <td>rewarded</td>\n",
       "      <td>1.4</td>\n",
       "      <td>1.4</td>\n",
       "      <td>654962</td>\n",
       "      <td>lose</td>\n",
       "      <td>win</td>\n",
       "    </tr>\n",
       "    <tr>\n",
       "      <th>8</th>\n",
       "      <td>8</td>\n",
       "      <td>16034924</td>\n",
       "      <td>15199244</td>\n",
       "      <td>rewarded</td>\n",
       "      <td>1.1</td>\n",
       "      <td>1.1</td>\n",
       "      <td>759962</td>\n",
       "      <td>win</td>\n",
       "      <td>lose</td>\n",
       "    </tr>\n",
       "    <tr>\n",
       "      <th>9</th>\n",
       "      <td>9</td>\n",
       "      <td>17034926</td>\n",
       "      <td>16199246</td>\n",
       "      <td>rewarded</td>\n",
       "      <td>1.1</td>\n",
       "      <td>1.1</td>\n",
       "      <td>809962</td>\n",
       "      <td>win</td>\n",
       "      <td>lose</td>\n",
       "    </tr>\n",
       "    <tr>\n",
       "      <th>10</th>\n",
       "      <td>10</td>\n",
       "      <td>18634925</td>\n",
       "      <td>17799245</td>\n",
       "      <td>rewarded</td>\n",
       "      <td>1.1</td>\n",
       "      <td>1.1</td>\n",
       "      <td>889962</td>\n",
       "      <td>win</td>\n",
       "      <td>lose</td>\n",
       "    </tr>\n",
       "    <tr>\n",
       "      <th>11</th>\n",
       "      <td>11</td>\n",
       "      <td>19934925</td>\n",
       "      <td>19099245</td>\n",
       "      <td>rewarded</td>\n",
       "      <td>1.1</td>\n",
       "      <td>1.1</td>\n",
       "      <td>954962</td>\n",
       "      <td>win</td>\n",
       "      <td>lose</td>\n",
       "    </tr>\n",
       "    <tr>\n",
       "      <th>12</th>\n",
       "      <td>12</td>\n",
       "      <td>21234922</td>\n",
       "      <td>20399242</td>\n",
       "      <td>rewarded</td>\n",
       "      <td>1.1</td>\n",
       "      <td>1.1</td>\n",
       "      <td>1019962</td>\n",
       "      <td>win</td>\n",
       "      <td>lose</td>\n",
       "    </tr>\n",
       "    <tr>\n",
       "      <th>13</th>\n",
       "      <td>13</td>\n",
       "      <td>22234924</td>\n",
       "      <td>21399244</td>\n",
       "      <td>rewarded</td>\n",
       "      <td>1.1</td>\n",
       "      <td>1.1</td>\n",
       "      <td>1069962</td>\n",
       "      <td>win</td>\n",
       "      <td>lose</td>\n",
       "    </tr>\n",
       "    <tr>\n",
       "      <th>14</th>\n",
       "      <td>14</td>\n",
       "      <td>23634923</td>\n",
       "      <td>22799243</td>\n",
       "      <td>rewarded</td>\n",
       "      <td>1.1</td>\n",
       "      <td>1.1</td>\n",
       "      <td>1139962</td>\n",
       "      <td>win</td>\n",
       "      <td>lose</td>\n",
       "    </tr>\n",
       "    <tr>\n",
       "      <th>15</th>\n",
       "      <td>15</td>\n",
       "      <td>25534923</td>\n",
       "      <td>24699243</td>\n",
       "      <td>rewarded</td>\n",
       "      <td>1.1</td>\n",
       "      <td>1.1</td>\n",
       "      <td>1234962</td>\n",
       "      <td>win</td>\n",
       "      <td>lose</td>\n",
       "    </tr>\n",
       "    <tr>\n",
       "      <th>16</th>\n",
       "      <td>16</td>\n",
       "      <td>27134920</td>\n",
       "      <td>26299240</td>\n",
       "      <td>rewarded</td>\n",
       "      <td>1.1</td>\n",
       "      <td>1.1</td>\n",
       "      <td>1314962</td>\n",
       "      <td>win</td>\n",
       "      <td>lose</td>\n",
       "    </tr>\n",
       "    <tr>\n",
       "      <th>17</th>\n",
       "      <td>17</td>\n",
       "      <td>28534922</td>\n",
       "      <td>27699242</td>\n",
       "      <td>rewarded</td>\n",
       "      <td>1.1</td>\n",
       "      <td>1.1</td>\n",
       "      <td>1384962</td>\n",
       "      <td>win</td>\n",
       "      <td>lose</td>\n",
       "    </tr>\n",
       "    <tr>\n",
       "      <th>18</th>\n",
       "      <td>18</td>\n",
       "      <td>30734921</td>\n",
       "      <td>29899241</td>\n",
       "      <td>rewarded</td>\n",
       "      <td>1.1</td>\n",
       "      <td>1.1</td>\n",
       "      <td>1494962</td>\n",
       "      <td>win</td>\n",
       "      <td>lose</td>\n",
       "    </tr>\n",
       "    <tr>\n",
       "      <th>19</th>\n",
       "      <td>19</td>\n",
       "      <td>31934918</td>\n",
       "      <td>31099238</td>\n",
       "      <td>rewarded</td>\n",
       "      <td>1.4</td>\n",
       "      <td>1.4</td>\n",
       "      <td>1554961</td>\n",
       "      <td>lose</td>\n",
       "      <td>win</td>\n",
       "    </tr>\n",
       "    <tr>\n",
       "      <th>20</th>\n",
       "      <td>20</td>\n",
       "      <td>37934919</td>\n",
       "      <td>37099239</td>\n",
       "      <td>rewarded</td>\n",
       "      <td>0.0</td>\n",
       "      <td>rewarded</td>\n",
       "      <td>1854961</td>\n",
       "      <td>rewarded</td>\n",
       "      <td>rewarded</td>\n",
       "    </tr>\n",
       "    <tr>\n",
       "      <th>21</th>\n",
       "      <td>21</td>\n",
       "      <td>39134916</td>\n",
       "      <td>38299236</td>\n",
       "      <td>rewarded</td>\n",
       "      <td>0.0</td>\n",
       "      <td>rewarded</td>\n",
       "      <td>1914961</td>\n",
       "      <td>rewarded</td>\n",
       "      <td>rewarded</td>\n",
       "    </tr>\n",
       "    <tr>\n",
       "      <th>22</th>\n",
       "      <td>22</td>\n",
       "      <td>40234916</td>\n",
       "      <td>39399236</td>\n",
       "      <td>rewarded</td>\n",
       "      <td>0.0</td>\n",
       "      <td>rewarded</td>\n",
       "      <td>1969961</td>\n",
       "      <td>rewarded</td>\n",
       "      <td>rewarded</td>\n",
       "    </tr>\n",
       "    <tr>\n",
       "      <th>23</th>\n",
       "      <td>23</td>\n",
       "      <td>41534918</td>\n",
       "      <td>40699238</td>\n",
       "      <td>rewarded</td>\n",
       "      <td>0.0</td>\n",
       "      <td>rewarded</td>\n",
       "      <td>2034961</td>\n",
       "      <td>rewarded</td>\n",
       "      <td>rewarded</td>\n",
       "    </tr>\n",
       "    <tr>\n",
       "      <th>24</th>\n",
       "      <td>24</td>\n",
       "      <td>42634918</td>\n",
       "      <td>41799238</td>\n",
       "      <td>rewarded</td>\n",
       "      <td>0.0</td>\n",
       "      <td>rewarded</td>\n",
       "      <td>2089961</td>\n",
       "      <td>rewarded</td>\n",
       "      <td>rewarded</td>\n",
       "    </tr>\n",
       "    <tr>\n",
       "      <th>25</th>\n",
       "      <td>25</td>\n",
       "      <td>43634915</td>\n",
       "      <td>42799235</td>\n",
       "      <td>rewarded</td>\n",
       "      <td>0.0</td>\n",
       "      <td>rewarded</td>\n",
       "      <td>2139961</td>\n",
       "      <td>rewarded</td>\n",
       "      <td>rewarded</td>\n",
       "    </tr>\n",
       "    <tr>\n",
       "      <th>26</th>\n",
       "      <td>26</td>\n",
       "      <td>44634917</td>\n",
       "      <td>43799237</td>\n",
       "      <td>rewarded</td>\n",
       "      <td>0.0</td>\n",
       "      <td>rewarded</td>\n",
       "      <td>2189961</td>\n",
       "      <td>rewarded</td>\n",
       "      <td>rewarded</td>\n",
       "    </tr>\n",
       "    <tr>\n",
       "      <th>27</th>\n",
       "      <td>27</td>\n",
       "      <td>46734914</td>\n",
       "      <td>45899234</td>\n",
       "      <td>omission</td>\n",
       "      <td>0.0</td>\n",
       "      <td>omission</td>\n",
       "      <td>2294961</td>\n",
       "      <td>omission</td>\n",
       "      <td>omission</td>\n",
       "    </tr>\n",
       "    <tr>\n",
       "      <th>28</th>\n",
       "      <td>28</td>\n",
       "      <td>49134915</td>\n",
       "      <td>48299235</td>\n",
       "      <td>rewarded</td>\n",
       "      <td>0.0</td>\n",
       "      <td>rewarded</td>\n",
       "      <td>2414961</td>\n",
       "      <td>rewarded</td>\n",
       "      <td>rewarded</td>\n",
       "    </tr>\n",
       "    <tr>\n",
       "      <th>29</th>\n",
       "      <td>29</td>\n",
       "      <td>51534912</td>\n",
       "      <td>50699232</td>\n",
       "      <td>rewarded</td>\n",
       "      <td>0.0</td>\n",
       "      <td>rewarded</td>\n",
       "      <td>2534961</td>\n",
       "      <td>rewarded</td>\n",
       "      <td>rewarded</td>\n",
       "    </tr>\n",
       "    <tr>\n",
       "      <th>30</th>\n",
       "      <td>30</td>\n",
       "      <td>53734914</td>\n",
       "      <td>52899234</td>\n",
       "      <td>rewarded</td>\n",
       "      <td>0.0</td>\n",
       "      <td>rewarded</td>\n",
       "      <td>2644961</td>\n",
       "      <td>rewarded</td>\n",
       "      <td>rewarded</td>\n",
       "    </tr>\n",
       "    <tr>\n",
       "      <th>31</th>\n",
       "      <td>31</td>\n",
       "      <td>55434913</td>\n",
       "      <td>54599233</td>\n",
       "      <td>rewarded</td>\n",
       "      <td>0.0</td>\n",
       "      <td>rewarded</td>\n",
       "      <td>2729961</td>\n",
       "      <td>rewarded</td>\n",
       "      <td>rewarded</td>\n",
       "    </tr>\n",
       "    <tr>\n",
       "      <th>32</th>\n",
       "      <td>32</td>\n",
       "      <td>57834912</td>\n",
       "      <td>56999232</td>\n",
       "      <td>rewarded</td>\n",
       "      <td>0.0</td>\n",
       "      <td>rewarded</td>\n",
       "      <td>2849961</td>\n",
       "      <td>rewarded</td>\n",
       "      <td>rewarded</td>\n",
       "    </tr>\n",
       "    <tr>\n",
       "      <th>33</th>\n",
       "      <td>33</td>\n",
       "      <td>59034912</td>\n",
       "      <td>58199232</td>\n",
       "      <td>omission</td>\n",
       "      <td>0.0</td>\n",
       "      <td>omission</td>\n",
       "      <td>2909961</td>\n",
       "      <td>omission</td>\n",
       "      <td>omission</td>\n",
       "    </tr>\n",
       "    <tr>\n",
       "      <th>34</th>\n",
       "      <td>34</td>\n",
       "      <td>60334909</td>\n",
       "      <td>59499229</td>\n",
       "      <td>rewarded</td>\n",
       "      <td>0.0</td>\n",
       "      <td>rewarded</td>\n",
       "      <td>2974961</td>\n",
       "      <td>rewarded</td>\n",
       "      <td>rewarded</td>\n",
       "    </tr>\n",
       "    <tr>\n",
       "      <th>35</th>\n",
       "      <td>35</td>\n",
       "      <td>61534911</td>\n",
       "      <td>60699231</td>\n",
       "      <td>rewarded</td>\n",
       "      <td>0.0</td>\n",
       "      <td>rewarded</td>\n",
       "      <td>3034961</td>\n",
       "      <td>rewarded</td>\n",
       "      <td>rewarded</td>\n",
       "    </tr>\n",
       "    <tr>\n",
       "      <th>36</th>\n",
       "      <td>36</td>\n",
       "      <td>63034911</td>\n",
       "      <td>62199231</td>\n",
       "      <td>rewarded</td>\n",
       "      <td>0.0</td>\n",
       "      <td>rewarded</td>\n",
       "      <td>3109961</td>\n",
       "      <td>rewarded</td>\n",
       "      <td>rewarded</td>\n",
       "    </tr>\n",
       "    <tr>\n",
       "      <th>37</th>\n",
       "      <td>37</td>\n",
       "      <td>65034907</td>\n",
       "      <td>64199227</td>\n",
       "      <td>omission</td>\n",
       "      <td>0.0</td>\n",
       "      <td>omission</td>\n",
       "      <td>3209961</td>\n",
       "      <td>omission</td>\n",
       "      <td>omission</td>\n",
       "    </tr>\n",
       "  </tbody>\n",
       "</table>\n",
       "</div>"
      ],
      "text/plain": [
       "    Unnamed: 0  tone_timestamp  tone_index rewarded_or_not  \\\n",
       "0            0         1934930     1099250        rewarded   \n",
       "1            1         4334936     3499256        rewarded   \n",
       "2            2         6634931     5799251        rewarded   \n",
       "3            3         8434930     7599250        rewarded   \n",
       "4            4         9534930     8699250        rewarded   \n",
       "5            5        10534929     9699249        rewarded   \n",
       "6            6        12434926    11599246        rewarded   \n",
       "7            7        13934925    13099245        rewarded   \n",
       "8            8        16034924    15199244        rewarded   \n",
       "9            9        17034926    16199246        rewarded   \n",
       "10          10        18634925    17799245        rewarded   \n",
       "11          11        19934925    19099245        rewarded   \n",
       "12          12        21234922    20399242        rewarded   \n",
       "13          13        22234924    21399244        rewarded   \n",
       "14          14        23634923    22799243        rewarded   \n",
       "15          15        25534923    24699243        rewarded   \n",
       "16          16        27134920    26299240        rewarded   \n",
       "17          17        28534922    27699242        rewarded   \n",
       "18          18        30734921    29899241        rewarded   \n",
       "19          19        31934918    31099238        rewarded   \n",
       "20          20        37934919    37099239        rewarded   \n",
       "21          21        39134916    38299236        rewarded   \n",
       "22          22        40234916    39399236        rewarded   \n",
       "23          23        41534918    40699238        rewarded   \n",
       "24          24        42634918    41799238        rewarded   \n",
       "25          25        43634915    42799235        rewarded   \n",
       "26          26        44634917    43799237        rewarded   \n",
       "27          27        46734914    45899234        omission   \n",
       "28          28        49134915    48299235        rewarded   \n",
       "29          29        51534912    50699232        rewarded   \n",
       "30          30        53734914    52899234        rewarded   \n",
       "31          31        55434913    54599233        rewarded   \n",
       "32          32        57834912    56999232        rewarded   \n",
       "33          33        59034912    58199232        omission   \n",
       "34          34        60334909    59499229        rewarded   \n",
       "35          35        61534911    60699231        rewarded   \n",
       "36          36        63034911    62199231        rewarded   \n",
       "37          37        65034907    64199227        omission   \n",
       "\n",
       "    competition_winners condition  lfp_index subj_1_1_condition  \\\n",
       "0                   1.4       1.4      54962               lose   \n",
       "1                   1.1       1.1     174962                win   \n",
       "2                   1.1       1.1     289962                win   \n",
       "3                   1.4       1.4     379962               lose   \n",
       "4                   1.1       1.1     434962                win   \n",
       "5                   1.4       1.4     484962               lose   \n",
       "6                   1.4       1.4     579962               lose   \n",
       "7                   1.4       1.4     654962               lose   \n",
       "8                   1.1       1.1     759962                win   \n",
       "9                   1.1       1.1     809962                win   \n",
       "10                  1.1       1.1     889962                win   \n",
       "11                  1.1       1.1     954962                win   \n",
       "12                  1.1       1.1    1019962                win   \n",
       "13                  1.1       1.1    1069962                win   \n",
       "14                  1.1       1.1    1139962                win   \n",
       "15                  1.1       1.1    1234962                win   \n",
       "16                  1.1       1.1    1314962                win   \n",
       "17                  1.1       1.1    1384962                win   \n",
       "18                  1.1       1.1    1494962                win   \n",
       "19                  1.4       1.4    1554961               lose   \n",
       "20                  0.0  rewarded    1854961           rewarded   \n",
       "21                  0.0  rewarded    1914961           rewarded   \n",
       "22                  0.0  rewarded    1969961           rewarded   \n",
       "23                  0.0  rewarded    2034961           rewarded   \n",
       "24                  0.0  rewarded    2089961           rewarded   \n",
       "25                  0.0  rewarded    2139961           rewarded   \n",
       "26                  0.0  rewarded    2189961           rewarded   \n",
       "27                  0.0  omission    2294961           omission   \n",
       "28                  0.0  rewarded    2414961           rewarded   \n",
       "29                  0.0  rewarded    2534961           rewarded   \n",
       "30                  0.0  rewarded    2644961           rewarded   \n",
       "31                  0.0  rewarded    2729961           rewarded   \n",
       "32                  0.0  rewarded    2849961           rewarded   \n",
       "33                  0.0  omission    2909961           omission   \n",
       "34                  0.0  rewarded    2974961           rewarded   \n",
       "35                  0.0  rewarded    3034961           rewarded   \n",
       "36                  0.0  rewarded    3109961           rewarded   \n",
       "37                  0.0  omission    3209961           omission   \n",
       "\n",
       "   subj_1_4_condition  \n",
       "0                 win  \n",
       "1                lose  \n",
       "2                lose  \n",
       "3                 win  \n",
       "4                lose  \n",
       "5                 win  \n",
       "6                 win  \n",
       "7                 win  \n",
       "8                lose  \n",
       "9                lose  \n",
       "10               lose  \n",
       "11               lose  \n",
       "12               lose  \n",
       "13               lose  \n",
       "14               lose  \n",
       "15               lose  \n",
       "16               lose  \n",
       "17               lose  \n",
       "18               lose  \n",
       "19                win  \n",
       "20           rewarded  \n",
       "21           rewarded  \n",
       "22           rewarded  \n",
       "23           rewarded  \n",
       "24           rewarded  \n",
       "25           rewarded  \n",
       "26           rewarded  \n",
       "27           omission  \n",
       "28           rewarded  \n",
       "29           rewarded  \n",
       "30           rewarded  \n",
       "31           rewarded  \n",
       "32           rewarded  \n",
       "33           omission  \n",
       "34           rewarded  \n",
       "35           rewarded  \n",
       "36           rewarded  \n",
       "37           omission  "
      ]
     },
     "execution_count": 95,
     "metadata": {},
     "output_type": "execute_result"
    }
   ],
   "source": [
    "tone_time_stamps_df"
   ]
  },
  {
   "cell_type": "code",
   "execution_count": 96,
   "id": "3bfecd66-22a4-4c68-a497-7921d02635dc",
   "metadata": {},
   "outputs": [],
   "source": [
    "tone_time_stamps = tone_time_stamps_df[\"tone_index\"].values"
   ]
  },
  {
   "cell_type": "code",
   "execution_count": 97,
   "id": "335d7f91-2808-4aa5-bd7d-03a65ffd4950",
   "metadata": {},
   "outputs": [
    {
     "data": {
      "text/plain": [
       "array([ 1099250,  3499256,  5799251,  7599250,  8699250,  9699249,\n",
       "       11599246, 13099245, 15199244, 16199246, 17799245, 19099245,\n",
       "       20399242, 21399244, 22799243, 24699243, 26299240, 27699242,\n",
       "       29899241, 31099238, 37099239, 38299236, 39399236, 40699238,\n",
       "       41799238, 42799235, 43799237, 45899234, 48299235, 50699232,\n",
       "       52899234, 54599233, 56999232, 58199232, 59499229, 60699231,\n",
       "       62199231, 64199227])"
      ]
     },
     "execution_count": 97,
     "metadata": {},
     "output_type": "execute_result"
    }
   ],
   "source": [
    "tone_time_stamps"
   ]
  },
  {
   "cell_type": "markdown",
   "id": "3cf91af1-da12-4d8f-9d83-b01002b56357",
   "metadata": {},
   "source": [
    "## Seeing which tone time each unit time is closest to"
   ]
  },
  {
   "cell_type": "markdown",
   "id": "10d54545-2792-4dc3-a393-9564fe48ca9c",
   "metadata": {},
   "source": [
    "- We will divide all the time up into bins of before and after each tone. Then we will see which time bin the neuron firing falls into.\n",
    "    - So everything in the 0 bin would be before the first time bin. The 1 bin would be everything in between the first and second time bin. The last would be everything after last time bin."
   ]
  },
  {
   "cell_type": "code",
   "execution_count": 98,
   "id": "a8c47c0a-6474-402c-b6da-7729ba9f6ee0",
   "metadata": {},
   "outputs": [],
   "source": [
    "good_unit_bins = np.digitize(good_unit_times, tone_time_stamps_df[\"tone_index\"], right=True)"
   ]
  },
  {
   "cell_type": "code",
   "execution_count": 99,
   "id": "cba2e752-1170-4dcc-85f3-d70062ebd7f0",
   "metadata": {},
   "outputs": [
    {
     "data": {
      "text/plain": [
       "(117780,)"
      ]
     },
     "execution_count": 99,
     "metadata": {},
     "output_type": "execute_result"
    }
   ],
   "source": [
    "good_unit_bins.shape"
   ]
  },
  {
   "cell_type": "code",
   "execution_count": 100,
   "id": "fd61bf26-6da5-4fa1-808e-66c5524be690",
   "metadata": {},
   "outputs": [
    {
     "data": {
      "text/plain": [
       "array([0, 0, 0, 0, 0, 0, 0, 0, 0, 0])"
      ]
     },
     "execution_count": 100,
     "metadata": {},
     "output_type": "execute_result"
    }
   ],
   "source": [
    "good_unit_bins[:10]"
   ]
  },
  {
   "cell_type": "code",
   "execution_count": 101,
   "id": "1ea0a5ce-f4f7-48c2-bd8e-36a3f0256c68",
   "metadata": {},
   "outputs": [
    {
     "data": {
      "text/plain": [
       "array([38, 38, 38, 38, 38, 38, 38, 38, 38, 38])"
      ]
     },
     "execution_count": 101,
     "metadata": {},
     "output_type": "execute_result"
    }
   ],
   "source": [
    "good_unit_bins[-10:]"
   ]
  },
  {
   "cell_type": "markdown",
   "id": "e538a285-3ffb-418f-a691-c3896a12fa60",
   "metadata": {},
   "source": [
    "- Seeing if the firing time is within a 10 second interval before or 10 second after any tone"
   ]
  },
  {
   "cell_type": "code",
   "execution_count": 102,
   "id": "65bd9a09-3dcc-4756-955c-2ae253226f47",
   "metadata": {},
   "outputs": [],
   "source": [
    "from collections import defaultdict"
   ]
  },
  {
   "cell_type": "code",
   "execution_count": 103,
   "id": "9eca95ec-82f6-4a38-880d-2603ddb98415",
   "metadata": {},
   "outputs": [
    {
     "data": {
      "text/plain": [
       "(117780,)"
      ]
     },
     "execution_count": 103,
     "metadata": {},
     "output_type": "execute_result"
    }
   ],
   "source": [
    "good_unit_bins.shape"
   ]
  },
  {
   "cell_type": "code",
   "execution_count": 104,
   "id": "ff07b1b0-b72b-49e8-858d-234cd22458a0",
   "metadata": {},
   "outputs": [
    {
     "data": {
      "text/plain": [
       "(117780,)"
      ]
     },
     "execution_count": 104,
     "metadata": {},
     "output_type": "execute_result"
    }
   ],
   "source": [
    "good_unit_times.shape"
   ]
  },
  {
   "cell_type": "code",
   "execution_count": 105,
   "id": "2d213220-32c8-4d56-b538-2c25f285d3ef",
   "metadata": {},
   "outputs": [
    {
     "data": {
      "text/plain": [
       "(117780,)"
      ]
     },
     "execution_count": 105,
     "metadata": {},
     "output_type": "execute_result"
    }
   ],
   "source": [
    "good_unit_all_ids.shape"
   ]
  },
  {
   "cell_type": "code",
   "execution_count": 106,
   "id": "8f0403f7-10c9-4416-9223-a984abc5cc8e",
   "metadata": {},
   "outputs": [
    {
     "data": {
      "text/plain": [
       "array([ 937,  998, 1125, 1327, 1346, 1894, 2064, 2726, 3408, 4816])"
      ]
     },
     "execution_count": 106,
     "metadata": {},
     "output_type": "execute_result"
    }
   ],
   "source": [
    "good_unit_times[:10]"
   ]
  },
  {
   "cell_type": "code",
   "execution_count": 107,
   "id": "9faef20c-5795-4cfe-becd-141a9eeb2d70",
   "metadata": {},
   "outputs": [
    {
     "data": {
      "text/plain": [
       "array([ 1099250,  3499256,  5799251,  7599250,  8699250,  9699249,\n",
       "       11599246, 13099245, 15199244, 16199246, 17799245, 19099245,\n",
       "       20399242, 21399244, 22799243, 24699243, 26299240, 27699242,\n",
       "       29899241, 31099238, 37099239, 38299236, 39399236, 40699238,\n",
       "       41799238, 42799235, 43799237, 45899234, 48299235, 50699232,\n",
       "       52899234, 54599233, 56999232, 58199232, 59499229, 60699231,\n",
       "       62199231, 64199227])"
      ]
     },
     "execution_count": 107,
     "metadata": {},
     "output_type": "execute_result"
    }
   ],
   "source": [
    "tone_time_stamps"
   ]
  },
  {
   "cell_type": "code",
   "execution_count": 108,
   "id": "100e2819-dc53-48fe-b81e-9d71aaa14435",
   "metadata": {},
   "outputs": [
    {
     "data": {
      "text/plain": [
       "38"
      ]
     },
     "execution_count": 108,
     "metadata": {},
     "output_type": "execute_result"
    }
   ],
   "source": [
    "len(tone_time_stamps)"
   ]
  },
  {
   "cell_type": "code",
   "execution_count": 109,
   "id": "c1ee416a-3747-4d93-a1f3-498cc01b83ac",
   "metadata": {},
   "outputs": [],
   "source": [
    "# time in seconds\n",
    "trial_one_way_duration = 10"
   ]
  },
  {
   "cell_type": "code",
   "execution_count": 110,
   "id": "79753279-9397-4425-a48f-95141cba1c00",
   "metadata": {},
   "outputs": [],
   "source": [
    "sampling_rate = 20000"
   ]
  },
  {
   "cell_type": "markdown",
   "id": "663831f2-7d91-4dff-97b3-b199b46efa80",
   "metadata": {},
   "source": [
    "# Comparing Firing Rate between Trial types"
   ]
  },
  {
   "cell_type": "code",
   "execution_count": 111,
   "id": "55382872-b8e0-40ad-ba02-defa3c0e6b71",
   "metadata": {},
   "outputs": [
    {
     "data": {
      "text/html": [
       "<div>\n",
       "<style scoped>\n",
       "    .dataframe tbody tr th:only-of-type {\n",
       "        vertical-align: middle;\n",
       "    }\n",
       "\n",
       "    .dataframe tbody tr th {\n",
       "        vertical-align: top;\n",
       "    }\n",
       "\n",
       "    .dataframe thead th {\n",
       "        text-align: right;\n",
       "    }\n",
       "</style>\n",
       "<table border=\"1\" class=\"dataframe\">\n",
       "  <thead>\n",
       "    <tr style=\"text-align: right;\">\n",
       "      <th></th>\n",
       "      <th>Unnamed: 0</th>\n",
       "      <th>tone_timestamp</th>\n",
       "      <th>tone_index</th>\n",
       "      <th>rewarded_or_not</th>\n",
       "      <th>competition_winners</th>\n",
       "      <th>condition</th>\n",
       "      <th>lfp_index</th>\n",
       "      <th>subj_1_1_condition</th>\n",
       "      <th>subj_1_4_condition</th>\n",
       "    </tr>\n",
       "  </thead>\n",
       "  <tbody>\n",
       "    <tr>\n",
       "      <th>0</th>\n",
       "      <td>0</td>\n",
       "      <td>1934930</td>\n",
       "      <td>1099250</td>\n",
       "      <td>rewarded</td>\n",
       "      <td>1.4</td>\n",
       "      <td>1.4</td>\n",
       "      <td>54962</td>\n",
       "      <td>lose</td>\n",
       "      <td>win</td>\n",
       "    </tr>\n",
       "    <tr>\n",
       "      <th>1</th>\n",
       "      <td>1</td>\n",
       "      <td>4334936</td>\n",
       "      <td>3499256</td>\n",
       "      <td>rewarded</td>\n",
       "      <td>1.1</td>\n",
       "      <td>1.1</td>\n",
       "      <td>174962</td>\n",
       "      <td>win</td>\n",
       "      <td>lose</td>\n",
       "    </tr>\n",
       "    <tr>\n",
       "      <th>2</th>\n",
       "      <td>2</td>\n",
       "      <td>6634931</td>\n",
       "      <td>5799251</td>\n",
       "      <td>rewarded</td>\n",
       "      <td>1.1</td>\n",
       "      <td>1.1</td>\n",
       "      <td>289962</td>\n",
       "      <td>win</td>\n",
       "      <td>lose</td>\n",
       "    </tr>\n",
       "    <tr>\n",
       "      <th>3</th>\n",
       "      <td>3</td>\n",
       "      <td>8434930</td>\n",
       "      <td>7599250</td>\n",
       "      <td>rewarded</td>\n",
       "      <td>1.4</td>\n",
       "      <td>1.4</td>\n",
       "      <td>379962</td>\n",
       "      <td>lose</td>\n",
       "      <td>win</td>\n",
       "    </tr>\n",
       "    <tr>\n",
       "      <th>4</th>\n",
       "      <td>4</td>\n",
       "      <td>9534930</td>\n",
       "      <td>8699250</td>\n",
       "      <td>rewarded</td>\n",
       "      <td>1.1</td>\n",
       "      <td>1.1</td>\n",
       "      <td>434962</td>\n",
       "      <td>win</td>\n",
       "      <td>lose</td>\n",
       "    </tr>\n",
       "  </tbody>\n",
       "</table>\n",
       "</div>"
      ],
      "text/plain": [
       "   Unnamed: 0  tone_timestamp  tone_index rewarded_or_not  \\\n",
       "0           0         1934930     1099250        rewarded   \n",
       "1           1         4334936     3499256        rewarded   \n",
       "2           2         6634931     5799251        rewarded   \n",
       "3           3         8434930     7599250        rewarded   \n",
       "4           4         9534930     8699250        rewarded   \n",
       "\n",
       "   competition_winners condition  lfp_index subj_1_1_condition  \\\n",
       "0                  1.4       1.4      54962               lose   \n",
       "1                  1.1       1.1     174962                win   \n",
       "2                  1.1       1.1     289962                win   \n",
       "3                  1.4       1.4     379962               lose   \n",
       "4                  1.1       1.1     434962                win   \n",
       "\n",
       "  subj_1_4_condition  \n",
       "0                win  \n",
       "1               lose  \n",
       "2               lose  \n",
       "3                win  \n",
       "4               lose  "
      ]
     },
     "execution_count": 111,
     "metadata": {},
     "output_type": "execute_result"
    }
   ],
   "source": [
    "tone_time_stamps_df.head()"
   ]
  },
  {
   "cell_type": "code",
   "execution_count": 112,
   "id": "331dfea9-ccbe-4d87-bc64-1039d77504df",
   "metadata": {},
   "outputs": [
    {
     "data": {
      "text/plain": [
       "array([     937,      998,     1125, ..., 67098020, 67098467, 67098849])"
      ]
     },
     "execution_count": 112,
     "metadata": {},
     "output_type": "execute_result"
    }
   ],
   "source": [
    "good_unit_times"
   ]
  },
  {
   "cell_type": "code",
   "execution_count": 113,
   "id": "eee5610d-e48e-4812-9784-abfda1cec9e4",
   "metadata": {},
   "outputs": [
    {
     "data": {
      "text/plain": [
       "array([ 7, 25, 38, ...,  1,  4, 42], dtype=int32)"
      ]
     },
     "execution_count": 113,
     "metadata": {},
     "output_type": "execute_result"
    }
   ],
   "source": [
    "good_unit_all_ids"
   ]
  },
  {
   "cell_type": "code",
   "execution_count": 114,
   "id": "0698c282-d493-41d5-b425-d4c03d38f58a",
   "metadata": {},
   "outputs": [
    {
     "data": {
      "text/plain": [
       "array([ 0,  0,  0, ..., 38, 38, 38])"
      ]
     },
     "execution_count": 114,
     "metadata": {},
     "output_type": "execute_result"
    }
   ],
   "source": [
    "good_unit_bins"
   ]
  },
  {
   "cell_type": "code",
   "execution_count": 115,
   "id": "cff84c9e-d719-494c-a636-9138bb043e93",
   "metadata": {},
   "outputs": [
    {
     "data": {
      "text/plain": [
       "array([ 1099250,  3499256,  5799251,  7599250,  8699250,  9699249,\n",
       "       11599246, 13099245, 15199244, 16199246, 17799245, 19099245,\n",
       "       20399242, 21399244, 22799243, 24699243, 26299240, 27699242,\n",
       "       29899241, 31099238, 37099239, 38299236, 39399236, 40699238,\n",
       "       41799238, 42799235, 43799237, 45899234, 48299235, 50699232,\n",
       "       52899234, 54599233, 56999232, 58199232, 59499229, 60699231,\n",
       "       62199231, 64199227])"
      ]
     },
     "execution_count": 115,
     "metadata": {},
     "output_type": "execute_result"
    }
   ],
   "source": [
    "tone_time_stamps"
   ]
  },
  {
   "cell_type": "code",
   "execution_count": 116,
   "id": "ed3c6472-24f9-4739-9f93-c3ab8064cd21",
   "metadata": {},
   "outputs": [
    {
     "data": {
      "text/plain": [
       "'\\nStep 1: \\n- Get all the unit times that are 10 seconds before tone \\nand 10 seconds after the tone(separately)\\n\\nStep 2:\\n- Separate out for each trial\\n\\nStep 3: Calculate firing rate\\n'"
      ]
     },
     "execution_count": 116,
     "metadata": {},
     "output_type": "execute_result"
    }
   ],
   "source": [
    "\"\"\"\n",
    "Step 1: \n",
    "- Get all the unit times that are 10 seconds before tone \n",
    "and 10 seconds after the tone(separately)\n",
    "\n",
    "Step 2:\n",
    "- Separate out for each trial\n",
    "\n",
    "Step 3: Calculate firing rate\n",
    "\"\"\""
   ]
  },
  {
   "cell_type": "code",
   "execution_count": 117,
   "id": "d4d24cc1-fb1b-4797-9a17-ab91fc828a10",
   "metadata": {},
   "outputs": [],
   "source": [
    "# iterating through the timestamp of each good unit spike\n",
    "\n",
    "before_and_after_interval_unit_times = defaultdict(dict)\n",
    "\n",
    "per_trial_number_of_samples = trial_one_way_duration * sampling_rate\n",
    "\n",
    "for index, time in enumerate(good_unit_times):\n",
    "    # getting the corresponding tone bin for the timestamp\n",
    "    current_bin = good_unit_bins[index]\n",
    "    current_neuron = good_unit_all_ids[index]   \n",
    "    \n",
    "    # checking number before\n",
    "    first_tone_time = tone_time_stamps[(current_bin - 1) % len(tone_time_stamps)]\n",
    "    # checking number after\n",
    "    second_tone_time = tone_time_stamps[(current_bin) % len(tone_time_stamps)]    \n",
    "    \n",
    "    # checking if time is before first number\n",
    "    if first_tone_time - per_trial_number_of_samples <= time <= first_tone_time:\n",
    "        before_and_after_interval_unit_times[time][\"tone_time\"] = first_tone_time\n",
    "        before_and_after_interval_unit_times[time][\"before_or_after\"] = \"before\"\n",
    "        before_and_after_interval_unit_times[time][\"neuron_id\"] = good_unit_all_ids[index]\n",
    "    # checking if time is after first number\n",
    "    elif first_tone_time < time <= first_tone_time + per_trial_number_of_samples:\n",
    "        before_and_after_interval_unit_times[time][\"tone_time\"] = first_tone_time\n",
    "        before_and_after_interval_unit_times[time][\"before_or_after\"] = \"after\"\n",
    "        before_and_after_interval_unit_times[time][\"neuron_id\"] = good_unit_all_ids[index]\n",
    "    # checking if time is before second number\n",
    "    if second_tone_time - per_trial_number_of_samples <= time <= second_tone_time:\n",
    "        before_and_after_interval_unit_times[time][\"tone_time\"] = second_tone_time\n",
    "        before_and_after_interval_unit_times[time][\"before_or_after\"] = \"before\"\n",
    "        before_and_after_interval_unit_times[time][\"neuron_id\"] = good_unit_all_ids[index]\n",
    "    # checking if time is after second number\n",
    "    elif second_tone_time < time <= second_tone_time + per_trial_number_of_samples:\n",
    "        before_and_after_interval_unit_times[time][\"tone_time\"] = second_tone_time\n",
    "        before_and_after_interval_unit_times[time][\"before_or_after\"] = \"after\"\n",
    "        before_and_after_interval_unit_times[time][\"neuron_id\"] = good_unit_all_ids[index]"
   ]
  },
  {
   "cell_type": "code",
   "execution_count": 118,
   "id": "5ecfcd1e-c44b-4147-bf48-a1ad1df0a356",
   "metadata": {},
   "outputs": [
    {
     "data": {
      "text/plain": [
       "200000"
      ]
     },
     "execution_count": 118,
     "metadata": {},
     "output_type": "execute_result"
    }
   ],
   "source": [
    "per_trial_number_of_samples"
   ]
  },
  {
   "cell_type": "code",
   "execution_count": 119,
   "id": "e9ee678f-454d-4d90-a1c8-372c607d1754",
   "metadata": {},
   "outputs": [],
   "source": [
    "before_and_after_interval_unit_df = pd.DataFrame.from_dict(before_and_after_interval_unit_times, orient=\"index\").reset_index()\n",
    "before_and_after_interval_unit_df = before_and_after_interval_unit_df.rename(columns={\"index\": \"spike_time\"})"
   ]
  },
  {
   "cell_type": "code",
   "execution_count": 120,
   "id": "5eb80772-033d-4c14-bc8a-88878a779c38",
   "metadata": {},
   "outputs": [
    {
     "data": {
      "text/html": [
       "<div>\n",
       "<style scoped>\n",
       "    .dataframe tbody tr th:only-of-type {\n",
       "        vertical-align: middle;\n",
       "    }\n",
       "\n",
       "    .dataframe tbody tr th {\n",
       "        vertical-align: top;\n",
       "    }\n",
       "\n",
       "    .dataframe thead th {\n",
       "        text-align: right;\n",
       "    }\n",
       "</style>\n",
       "<table border=\"1\" class=\"dataframe\">\n",
       "  <thead>\n",
       "    <tr style=\"text-align: right;\">\n",
       "      <th></th>\n",
       "      <th>spike_time</th>\n",
       "      <th>tone_time</th>\n",
       "      <th>before_or_after</th>\n",
       "      <th>neuron_id</th>\n",
       "    </tr>\n",
       "  </thead>\n",
       "  <tbody>\n",
       "    <tr>\n",
       "      <th>0</th>\n",
       "      <td>899484</td>\n",
       "      <td>1099250</td>\n",
       "      <td>before</td>\n",
       "      <td>4</td>\n",
       "    </tr>\n",
       "    <tr>\n",
       "      <th>1</th>\n",
       "      <td>900147</td>\n",
       "      <td>1099250</td>\n",
       "      <td>before</td>\n",
       "      <td>9</td>\n",
       "    </tr>\n",
       "    <tr>\n",
       "      <th>2</th>\n",
       "      <td>900188</td>\n",
       "      <td>1099250</td>\n",
       "      <td>before</td>\n",
       "      <td>38</td>\n",
       "    </tr>\n",
       "    <tr>\n",
       "      <th>3</th>\n",
       "      <td>902312</td>\n",
       "      <td>1099250</td>\n",
       "      <td>before</td>\n",
       "      <td>30</td>\n",
       "    </tr>\n",
       "    <tr>\n",
       "      <th>4</th>\n",
       "      <td>902339</td>\n",
       "      <td>1099250</td>\n",
       "      <td>before</td>\n",
       "      <td>42</td>\n",
       "    </tr>\n",
       "  </tbody>\n",
       "</table>\n",
       "</div>"
      ],
      "text/plain": [
       "   spike_time  tone_time before_or_after  neuron_id\n",
       "0      899484    1099250          before          4\n",
       "1      900147    1099250          before          9\n",
       "2      900188    1099250          before         38\n",
       "3      902312    1099250          before         30\n",
       "4      902339    1099250          before         42"
      ]
     },
     "execution_count": 120,
     "metadata": {},
     "output_type": "execute_result"
    }
   ],
   "source": [
    "before_and_after_interval_unit_df.head()"
   ]
  },
  {
   "cell_type": "code",
   "execution_count": 121,
   "id": "34ecc6a8-5cd9-43cd-99fa-a93945fe1685",
   "metadata": {},
   "outputs": [],
   "source": [
    "before_and_after_tone_spike_count_df = before_and_after_interval_unit_df.groupby([\"tone_time\", \"before_or_after\", \"neuron_id\"]).count().unstack(fill_value=0).stack().reset_index().rename(columns={\"spike_time\": \"fired_spike_count\"})"
   ]
  },
  {
   "cell_type": "code",
   "execution_count": 122,
   "id": "b5212770-b8ec-4ba6-baa4-a07608f4400e",
   "metadata": {},
   "outputs": [],
   "source": [
    "before_tone_spike_count_df = before_and_after_tone_spike_count_df[before_and_after_tone_spike_count_df[\"before_or_after\"] == \"before\"].rename(columns={\"fired_spike_count\": \"before_fired_spike_count\"})\n",
    "after_tone_spike_count_df = before_and_after_tone_spike_count_df[before_and_after_tone_spike_count_df[\"before_or_after\"] == \"after\"].rename(columns={\"fired_spike_count\": \"after_fired_spike_count\"})"
   ]
  },
  {
   "cell_type": "code",
   "execution_count": 123,
   "id": "2b2291d7-b57c-4019-88e4-895b7e9a6b6b",
   "metadata": {},
   "outputs": [
    {
     "data": {
      "text/html": [
       "<div>\n",
       "<style scoped>\n",
       "    .dataframe tbody tr th:only-of-type {\n",
       "        vertical-align: middle;\n",
       "    }\n",
       "\n",
       "    .dataframe tbody tr th {\n",
       "        vertical-align: top;\n",
       "    }\n",
       "\n",
       "    .dataframe thead th {\n",
       "        text-align: right;\n",
       "    }\n",
       "</style>\n",
       "<table border=\"1\" class=\"dataframe\">\n",
       "  <thead>\n",
       "    <tr style=\"text-align: right;\">\n",
       "      <th></th>\n",
       "      <th>tone_time</th>\n",
       "      <th>before_or_after</th>\n",
       "      <th>neuron_id</th>\n",
       "      <th>before_fired_spike_count</th>\n",
       "    </tr>\n",
       "  </thead>\n",
       "  <tbody>\n",
       "    <tr>\n",
       "      <th>11</th>\n",
       "      <td>1099250</td>\n",
       "      <td>before</td>\n",
       "      <td>1</td>\n",
       "      <td>3</td>\n",
       "    </tr>\n",
       "    <tr>\n",
       "      <th>12</th>\n",
       "      <td>1099250</td>\n",
       "      <td>before</td>\n",
       "      <td>2</td>\n",
       "      <td>6</td>\n",
       "    </tr>\n",
       "    <tr>\n",
       "      <th>13</th>\n",
       "      <td>1099250</td>\n",
       "      <td>before</td>\n",
       "      <td>4</td>\n",
       "      <td>50</td>\n",
       "    </tr>\n",
       "    <tr>\n",
       "      <th>14</th>\n",
       "      <td>1099250</td>\n",
       "      <td>before</td>\n",
       "      <td>7</td>\n",
       "      <td>63</td>\n",
       "    </tr>\n",
       "    <tr>\n",
       "      <th>15</th>\n",
       "      <td>1099250</td>\n",
       "      <td>before</td>\n",
       "      <td>9</td>\n",
       "      <td>9</td>\n",
       "    </tr>\n",
       "  </tbody>\n",
       "</table>\n",
       "</div>"
      ],
      "text/plain": [
       "    tone_time before_or_after  neuron_id  before_fired_spike_count\n",
       "11    1099250          before          1                         3\n",
       "12    1099250          before          2                         6\n",
       "13    1099250          before          4                        50\n",
       "14    1099250          before          7                        63\n",
       "15    1099250          before          9                         9"
      ]
     },
     "execution_count": 123,
     "metadata": {},
     "output_type": "execute_result"
    }
   ],
   "source": [
    "before_tone_spike_count_df.head()"
   ]
  },
  {
   "cell_type": "code",
   "execution_count": 124,
   "id": "1c95a186-219d-40c4-89cb-ccceb45cc026",
   "metadata": {},
   "outputs": [
    {
     "data": {
      "text/html": [
       "<div>\n",
       "<style scoped>\n",
       "    .dataframe tbody tr th:only-of-type {\n",
       "        vertical-align: middle;\n",
       "    }\n",
       "\n",
       "    .dataframe tbody tr th {\n",
       "        vertical-align: top;\n",
       "    }\n",
       "\n",
       "    .dataframe thead th {\n",
       "        text-align: right;\n",
       "    }\n",
       "</style>\n",
       "<table border=\"1\" class=\"dataframe\">\n",
       "  <thead>\n",
       "    <tr style=\"text-align: right;\">\n",
       "      <th></th>\n",
       "      <th>tone_time</th>\n",
       "      <th>before_or_after</th>\n",
       "      <th>neuron_id</th>\n",
       "      <th>after_fired_spike_count</th>\n",
       "    </tr>\n",
       "  </thead>\n",
       "  <tbody>\n",
       "    <tr>\n",
       "      <th>0</th>\n",
       "      <td>1099250</td>\n",
       "      <td>after</td>\n",
       "      <td>1</td>\n",
       "      <td>5</td>\n",
       "    </tr>\n",
       "    <tr>\n",
       "      <th>1</th>\n",
       "      <td>1099250</td>\n",
       "      <td>after</td>\n",
       "      <td>2</td>\n",
       "      <td>10</td>\n",
       "    </tr>\n",
       "    <tr>\n",
       "      <th>2</th>\n",
       "      <td>1099250</td>\n",
       "      <td>after</td>\n",
       "      <td>4</td>\n",
       "      <td>42</td>\n",
       "    </tr>\n",
       "    <tr>\n",
       "      <th>3</th>\n",
       "      <td>1099250</td>\n",
       "      <td>after</td>\n",
       "      <td>7</td>\n",
       "      <td>56</td>\n",
       "    </tr>\n",
       "    <tr>\n",
       "      <th>4</th>\n",
       "      <td>1099250</td>\n",
       "      <td>after</td>\n",
       "      <td>9</td>\n",
       "      <td>2</td>\n",
       "    </tr>\n",
       "  </tbody>\n",
       "</table>\n",
       "</div>"
      ],
      "text/plain": [
       "   tone_time before_or_after  neuron_id  after_fired_spike_count\n",
       "0    1099250           after          1                        5\n",
       "1    1099250           after          2                       10\n",
       "2    1099250           after          4                       42\n",
       "3    1099250           after          7                       56\n",
       "4    1099250           after          9                        2"
      ]
     },
     "execution_count": 124,
     "metadata": {},
     "output_type": "execute_result"
    }
   ],
   "source": [
    "after_tone_spike_count_df.head()"
   ]
  },
  {
   "cell_type": "code",
   "execution_count": 125,
   "id": "a3efbe85-177a-4cf5-81c8-5d95ad938455",
   "metadata": {},
   "outputs": [],
   "source": [
    "subj_2_merged_before_after_tone_spike_count_df = pd.merge(left=before_tone_spike_count_df, right=after_tone_spike_count_df, left_on=[\"tone_time\", \"neuron_id\"], right_on=[\"tone_time\", \"neuron_id\"])"
   ]
  },
  {
   "cell_type": "markdown",
   "id": "5fa24e9d-ae97-4bd6-8381-685149c19cdc",
   "metadata": {},
   "source": [
    "- Adding the trial type"
   ]
  },
  {
   "cell_type": "code",
   "execution_count": 126,
   "id": "b8336357-0299-4f2c-b5b8-52bbc44baecc",
   "metadata": {},
   "outputs": [],
   "source": [
    "tone_timestamp_to_trial_type = pd.Series(tone_time_stamps_df[\"subj_1_4_condition\"].values, index=tone_time_stamps_df[\"tone_index\"]).to_dict()"
   ]
  },
  {
   "cell_type": "code",
   "execution_count": 127,
   "id": "dc6d8494-290d-454d-89c7-d7e36f46c66f",
   "metadata": {
    "scrolled": true
   },
   "outputs": [
    {
     "data": {
      "text/plain": [
       "{1099250: 'win',\n",
       " 3499256: 'lose',\n",
       " 5799251: 'lose',\n",
       " 7599250: 'win',\n",
       " 8699250: 'lose',\n",
       " 9699249: 'win',\n",
       " 11599246: 'win',\n",
       " 13099245: 'win',\n",
       " 15199244: 'lose',\n",
       " 16199246: 'lose',\n",
       " 17799245: 'lose',\n",
       " 19099245: 'lose',\n",
       " 20399242: 'lose',\n",
       " 21399244: 'lose',\n",
       " 22799243: 'lose',\n",
       " 24699243: 'lose',\n",
       " 26299240: 'lose',\n",
       " 27699242: 'lose',\n",
       " 29899241: 'lose',\n",
       " 31099238: 'win',\n",
       " 37099239: 'rewarded',\n",
       " 38299236: 'rewarded',\n",
       " 39399236: 'rewarded',\n",
       " 40699238: 'rewarded',\n",
       " 41799238: 'rewarded',\n",
       " 42799235: 'rewarded',\n",
       " 43799237: 'rewarded',\n",
       " 45899234: 'omission',\n",
       " 48299235: 'rewarded',\n",
       " 50699232: 'rewarded',\n",
       " 52899234: 'rewarded',\n",
       " 54599233: 'rewarded',\n",
       " 56999232: 'rewarded',\n",
       " 58199232: 'omission',\n",
       " 59499229: 'rewarded',\n",
       " 60699231: 'rewarded',\n",
       " 62199231: 'rewarded',\n",
       " 64199227: 'omission'}"
      ]
     },
     "execution_count": 127,
     "metadata": {},
     "output_type": "execute_result"
    }
   ],
   "source": [
    "tone_timestamp_to_trial_type"
   ]
  },
  {
   "cell_type": "code",
   "execution_count": 128,
   "id": "08591db6-ebb9-45b8-9f4a-c98d93049aaf",
   "metadata": {},
   "outputs": [],
   "source": [
    "subj_2_merged_before_after_tone_spike_count_df[\"trial_type\"] = subj_2_merged_before_after_tone_spike_count_df[\"tone_time\"].map(tone_timestamp_to_trial_type)"
   ]
  },
  {
   "cell_type": "code",
   "execution_count": 129,
   "id": "8ab60cf6-76a4-4d20-b657-29b26d989077",
   "metadata": {},
   "outputs": [],
   "source": [
    "subj_2_merged_before_after_tone_spike_count_df[\"subject\"] = \"subj_1_4\"\n",
    "subj_2_merged_before_after_tone_spike_count_df[\"subject_neuron_id\"] = subj_2_merged_before_after_tone_spike_count_df[\"neuron_id\"].astype(str) + subj_2_merged_before_after_tone_spike_count_df[\"subject\"]"
   ]
  },
  {
   "cell_type": "code",
   "execution_count": 130,
   "id": "10f8fd77-e020-4656-825c-bd669174dd2f",
   "metadata": {},
   "outputs": [
    {
     "data": {
      "text/html": [
       "<div>\n",
       "<style scoped>\n",
       "    .dataframe tbody tr th:only-of-type {\n",
       "        vertical-align: middle;\n",
       "    }\n",
       "\n",
       "    .dataframe tbody tr th {\n",
       "        vertical-align: top;\n",
       "    }\n",
       "\n",
       "    .dataframe thead th {\n",
       "        text-align: right;\n",
       "    }\n",
       "</style>\n",
       "<table border=\"1\" class=\"dataframe\">\n",
       "  <thead>\n",
       "    <tr style=\"text-align: right;\">\n",
       "      <th></th>\n",
       "      <th>tone_time</th>\n",
       "      <th>before_or_after_x</th>\n",
       "      <th>neuron_id</th>\n",
       "      <th>before_fired_spike_count</th>\n",
       "      <th>before_or_after_y</th>\n",
       "      <th>after_fired_spike_count</th>\n",
       "      <th>trial_type</th>\n",
       "      <th>subject</th>\n",
       "      <th>subject_neuron_id</th>\n",
       "    </tr>\n",
       "  </thead>\n",
       "  <tbody>\n",
       "    <tr>\n",
       "      <th>0</th>\n",
       "      <td>1099250</td>\n",
       "      <td>before</td>\n",
       "      <td>1</td>\n",
       "      <td>3</td>\n",
       "      <td>after</td>\n",
       "      <td>5</td>\n",
       "      <td>win</td>\n",
       "      <td>subj_1_4</td>\n",
       "      <td>1subj_1_4</td>\n",
       "    </tr>\n",
       "    <tr>\n",
       "      <th>1</th>\n",
       "      <td>1099250</td>\n",
       "      <td>before</td>\n",
       "      <td>2</td>\n",
       "      <td>6</td>\n",
       "      <td>after</td>\n",
       "      <td>10</td>\n",
       "      <td>win</td>\n",
       "      <td>subj_1_4</td>\n",
       "      <td>2subj_1_4</td>\n",
       "    </tr>\n",
       "    <tr>\n",
       "      <th>2</th>\n",
       "      <td>1099250</td>\n",
       "      <td>before</td>\n",
       "      <td>4</td>\n",
       "      <td>50</td>\n",
       "      <td>after</td>\n",
       "      <td>42</td>\n",
       "      <td>win</td>\n",
       "      <td>subj_1_4</td>\n",
       "      <td>4subj_1_4</td>\n",
       "    </tr>\n",
       "    <tr>\n",
       "      <th>3</th>\n",
       "      <td>1099250</td>\n",
       "      <td>before</td>\n",
       "      <td>7</td>\n",
       "      <td>63</td>\n",
       "      <td>after</td>\n",
       "      <td>56</td>\n",
       "      <td>win</td>\n",
       "      <td>subj_1_4</td>\n",
       "      <td>7subj_1_4</td>\n",
       "    </tr>\n",
       "    <tr>\n",
       "      <th>4</th>\n",
       "      <td>1099250</td>\n",
       "      <td>before</td>\n",
       "      <td>9</td>\n",
       "      <td>9</td>\n",
       "      <td>after</td>\n",
       "      <td>2</td>\n",
       "      <td>win</td>\n",
       "      <td>subj_1_4</td>\n",
       "      <td>9subj_1_4</td>\n",
       "    </tr>\n",
       "    <tr>\n",
       "      <th>...</th>\n",
       "      <td>...</td>\n",
       "      <td>...</td>\n",
       "      <td>...</td>\n",
       "      <td>...</td>\n",
       "      <td>...</td>\n",
       "      <td>...</td>\n",
       "      <td>...</td>\n",
       "      <td>...</td>\n",
       "      <td>...</td>\n",
       "    </tr>\n",
       "    <tr>\n",
       "      <th>413</th>\n",
       "      <td>64199227</td>\n",
       "      <td>before</td>\n",
       "      <td>25</td>\n",
       "      <td>32</td>\n",
       "      <td>after</td>\n",
       "      <td>16</td>\n",
       "      <td>omission</td>\n",
       "      <td>subj_1_4</td>\n",
       "      <td>25subj_1_4</td>\n",
       "    </tr>\n",
       "    <tr>\n",
       "      <th>414</th>\n",
       "      <td>64199227</td>\n",
       "      <td>before</td>\n",
       "      <td>30</td>\n",
       "      <td>10</td>\n",
       "      <td>after</td>\n",
       "      <td>26</td>\n",
       "      <td>omission</td>\n",
       "      <td>subj_1_4</td>\n",
       "      <td>30subj_1_4</td>\n",
       "    </tr>\n",
       "    <tr>\n",
       "      <th>415</th>\n",
       "      <td>64199227</td>\n",
       "      <td>before</td>\n",
       "      <td>38</td>\n",
       "      <td>31</td>\n",
       "      <td>after</td>\n",
       "      <td>26</td>\n",
       "      <td>omission</td>\n",
       "      <td>subj_1_4</td>\n",
       "      <td>38subj_1_4</td>\n",
       "    </tr>\n",
       "    <tr>\n",
       "      <th>416</th>\n",
       "      <td>64199227</td>\n",
       "      <td>before</td>\n",
       "      <td>42</td>\n",
       "      <td>61</td>\n",
       "      <td>after</td>\n",
       "      <td>65</td>\n",
       "      <td>omission</td>\n",
       "      <td>subj_1_4</td>\n",
       "      <td>42subj_1_4</td>\n",
       "    </tr>\n",
       "    <tr>\n",
       "      <th>417</th>\n",
       "      <td>64199227</td>\n",
       "      <td>before</td>\n",
       "      <td>48</td>\n",
       "      <td>1</td>\n",
       "      <td>after</td>\n",
       "      <td>1</td>\n",
       "      <td>omission</td>\n",
       "      <td>subj_1_4</td>\n",
       "      <td>48subj_1_4</td>\n",
       "    </tr>\n",
       "  </tbody>\n",
       "</table>\n",
       "<p>418 rows × 9 columns</p>\n",
       "</div>"
      ],
      "text/plain": [
       "     tone_time before_or_after_x  neuron_id  before_fired_spike_count  \\\n",
       "0      1099250            before          1                         3   \n",
       "1      1099250            before          2                         6   \n",
       "2      1099250            before          4                        50   \n",
       "3      1099250            before          7                        63   \n",
       "4      1099250            before          9                         9   \n",
       "..         ...               ...        ...                       ...   \n",
       "413   64199227            before         25                        32   \n",
       "414   64199227            before         30                        10   \n",
       "415   64199227            before         38                        31   \n",
       "416   64199227            before         42                        61   \n",
       "417   64199227            before         48                         1   \n",
       "\n",
       "    before_or_after_y  after_fired_spike_count trial_type   subject  \\\n",
       "0               after                        5        win  subj_1_4   \n",
       "1               after                       10        win  subj_1_4   \n",
       "2               after                       42        win  subj_1_4   \n",
       "3               after                       56        win  subj_1_4   \n",
       "4               after                        2        win  subj_1_4   \n",
       "..                ...                      ...        ...       ...   \n",
       "413             after                       16   omission  subj_1_4   \n",
       "414             after                       26   omission  subj_1_4   \n",
       "415             after                       26   omission  subj_1_4   \n",
       "416             after                       65   omission  subj_1_4   \n",
       "417             after                        1   omission  subj_1_4   \n",
       "\n",
       "    subject_neuron_id  \n",
       "0           1subj_1_4  \n",
       "1           2subj_1_4  \n",
       "2           4subj_1_4  \n",
       "3           7subj_1_4  \n",
       "4           9subj_1_4  \n",
       "..                ...  \n",
       "413        25subj_1_4  \n",
       "414        30subj_1_4  \n",
       "415        38subj_1_4  \n",
       "416        42subj_1_4  \n",
       "417        48subj_1_4  \n",
       "\n",
       "[418 rows x 9 columns]"
      ]
     },
     "execution_count": 130,
     "metadata": {},
     "output_type": "execute_result"
    }
   ],
   "source": [
    "subj_2_merged_before_after_tone_spike_count_df"
   ]
  },
  {
   "cell_type": "code",
   "execution_count": 131,
   "id": "84a572cc-de29-41f3-ac0d-16af86a56188",
   "metadata": {},
   "outputs": [
    {
     "data": {
      "text/html": [
       "<div>\n",
       "<style scoped>\n",
       "    .dataframe tbody tr th:only-of-type {\n",
       "        vertical-align: middle;\n",
       "    }\n",
       "\n",
       "    .dataframe tbody tr th {\n",
       "        vertical-align: top;\n",
       "    }\n",
       "\n",
       "    .dataframe thead th {\n",
       "        text-align: right;\n",
       "    }\n",
       "</style>\n",
       "<table border=\"1\" class=\"dataframe\">\n",
       "  <thead>\n",
       "    <tr style=\"text-align: right;\">\n",
       "      <th></th>\n",
       "      <th>tone_time</th>\n",
       "      <th>before_or_after_x</th>\n",
       "      <th>neuron_id</th>\n",
       "      <th>before_fired_spike_count</th>\n",
       "      <th>before_or_after_y</th>\n",
       "      <th>after_fired_spike_count</th>\n",
       "      <th>trial_type</th>\n",
       "      <th>subject</th>\n",
       "      <th>subject_neuron_id</th>\n",
       "    </tr>\n",
       "  </thead>\n",
       "  <tbody>\n",
       "    <tr>\n",
       "      <th>0</th>\n",
       "      <td>1099250</td>\n",
       "      <td>before</td>\n",
       "      <td>1</td>\n",
       "      <td>4</td>\n",
       "      <td>after</td>\n",
       "      <td>19</td>\n",
       "      <td>lose</td>\n",
       "      <td>subj_1_1</td>\n",
       "      <td>1subj_1_1</td>\n",
       "    </tr>\n",
       "    <tr>\n",
       "      <th>1</th>\n",
       "      <td>1099250</td>\n",
       "      <td>before</td>\n",
       "      <td>3</td>\n",
       "      <td>0</td>\n",
       "      <td>after</td>\n",
       "      <td>0</td>\n",
       "      <td>lose</td>\n",
       "      <td>subj_1_1</td>\n",
       "      <td>3subj_1_1</td>\n",
       "    </tr>\n",
       "    <tr>\n",
       "      <th>2</th>\n",
       "      <td>1099250</td>\n",
       "      <td>before</td>\n",
       "      <td>4</td>\n",
       "      <td>0</td>\n",
       "      <td>after</td>\n",
       "      <td>0</td>\n",
       "      <td>lose</td>\n",
       "      <td>subj_1_1</td>\n",
       "      <td>4subj_1_1</td>\n",
       "    </tr>\n",
       "    <tr>\n",
       "      <th>3</th>\n",
       "      <td>1099250</td>\n",
       "      <td>before</td>\n",
       "      <td>6</td>\n",
       "      <td>55</td>\n",
       "      <td>after</td>\n",
       "      <td>28</td>\n",
       "      <td>lose</td>\n",
       "      <td>subj_1_1</td>\n",
       "      <td>6subj_1_1</td>\n",
       "    </tr>\n",
       "    <tr>\n",
       "      <th>4</th>\n",
       "      <td>1099250</td>\n",
       "      <td>before</td>\n",
       "      <td>7</td>\n",
       "      <td>90</td>\n",
       "      <td>after</td>\n",
       "      <td>72</td>\n",
       "      <td>lose</td>\n",
       "      <td>subj_1_1</td>\n",
       "      <td>7subj_1_1</td>\n",
       "    </tr>\n",
       "    <tr>\n",
       "      <th>...</th>\n",
       "      <td>...</td>\n",
       "      <td>...</td>\n",
       "      <td>...</td>\n",
       "      <td>...</td>\n",
       "      <td>...</td>\n",
       "      <td>...</td>\n",
       "      <td>...</td>\n",
       "      <td>...</td>\n",
       "      <td>...</td>\n",
       "    </tr>\n",
       "    <tr>\n",
       "      <th>587</th>\n",
       "      <td>62199231</td>\n",
       "      <td>before</td>\n",
       "      <td>40</td>\n",
       "      <td>74</td>\n",
       "      <td>after</td>\n",
       "      <td>11</td>\n",
       "      <td>rewarded</td>\n",
       "      <td>subj_1_1</td>\n",
       "      <td>40subj_1_1</td>\n",
       "    </tr>\n",
       "    <tr>\n",
       "      <th>588</th>\n",
       "      <td>62199231</td>\n",
       "      <td>before</td>\n",
       "      <td>48</td>\n",
       "      <td>13</td>\n",
       "      <td>after</td>\n",
       "      <td>6</td>\n",
       "      <td>rewarded</td>\n",
       "      <td>subj_1_1</td>\n",
       "      <td>48subj_1_1</td>\n",
       "    </tr>\n",
       "    <tr>\n",
       "      <th>589</th>\n",
       "      <td>62199231</td>\n",
       "      <td>before</td>\n",
       "      <td>55</td>\n",
       "      <td>11</td>\n",
       "      <td>after</td>\n",
       "      <td>16</td>\n",
       "      <td>rewarded</td>\n",
       "      <td>subj_1_1</td>\n",
       "      <td>55subj_1_1</td>\n",
       "    </tr>\n",
       "    <tr>\n",
       "      <th>590</th>\n",
       "      <td>62199231</td>\n",
       "      <td>before</td>\n",
       "      <td>58</td>\n",
       "      <td>0</td>\n",
       "      <td>after</td>\n",
       "      <td>1</td>\n",
       "      <td>rewarded</td>\n",
       "      <td>subj_1_1</td>\n",
       "      <td>58subj_1_1</td>\n",
       "    </tr>\n",
       "    <tr>\n",
       "      <th>591</th>\n",
       "      <td>62199231</td>\n",
       "      <td>before</td>\n",
       "      <td>64</td>\n",
       "      <td>0</td>\n",
       "      <td>after</td>\n",
       "      <td>0</td>\n",
       "      <td>rewarded</td>\n",
       "      <td>subj_1_1</td>\n",
       "      <td>64subj_1_1</td>\n",
       "    </tr>\n",
       "  </tbody>\n",
       "</table>\n",
       "<p>592 rows × 9 columns</p>\n",
       "</div>"
      ],
      "text/plain": [
       "     tone_time before_or_after_x  neuron_id  before_fired_spike_count  \\\n",
       "0      1099250            before          1                         4   \n",
       "1      1099250            before          3                         0   \n",
       "2      1099250            before          4                         0   \n",
       "3      1099250            before          6                        55   \n",
       "4      1099250            before          7                        90   \n",
       "..         ...               ...        ...                       ...   \n",
       "587   62199231            before         40                        74   \n",
       "588   62199231            before         48                        13   \n",
       "589   62199231            before         55                        11   \n",
       "590   62199231            before         58                         0   \n",
       "591   62199231            before         64                         0   \n",
       "\n",
       "    before_or_after_y  after_fired_spike_count trial_type   subject  \\\n",
       "0               after                       19       lose  subj_1_1   \n",
       "1               after                        0       lose  subj_1_1   \n",
       "2               after                        0       lose  subj_1_1   \n",
       "3               after                       28       lose  subj_1_1   \n",
       "4               after                       72       lose  subj_1_1   \n",
       "..                ...                      ...        ...       ...   \n",
       "587             after                       11   rewarded  subj_1_1   \n",
       "588             after                        6   rewarded  subj_1_1   \n",
       "589             after                       16   rewarded  subj_1_1   \n",
       "590             after                        1   rewarded  subj_1_1   \n",
       "591             after                        0   rewarded  subj_1_1   \n",
       "\n",
       "    subject_neuron_id  \n",
       "0           1subj_1_1  \n",
       "1           3subj_1_1  \n",
       "2           4subj_1_1  \n",
       "3           6subj_1_1  \n",
       "4           7subj_1_1  \n",
       "..                ...  \n",
       "587        40subj_1_1  \n",
       "588        48subj_1_1  \n",
       "589        55subj_1_1  \n",
       "590        58subj_1_1  \n",
       "591        64subj_1_1  \n",
       "\n",
       "[592 rows x 9 columns]"
      ]
     },
     "execution_count": 131,
     "metadata": {},
     "output_type": "execute_result"
    }
   ],
   "source": [
    "subj_1_merged_before_after_tone_spike_count_df"
   ]
  },
  {
   "cell_type": "markdown",
   "id": "f4f0ac7c",
   "metadata": {},
   "source": [
    "- Calculating Wilcoxon"
   ]
  },
  {
   "cell_type": "code",
   "execution_count": 132,
   "id": "5c344fb8-065b-4b5b-95cf-41f8f7f23cbc",
   "metadata": {},
   "outputs": [],
   "source": [
    "merged_before_after_tone_spike_count_df = pd.concat([subj_1_merged_before_after_tone_spike_count_df, subj_2_merged_before_after_tone_spike_count_df])"
   ]
  },
  {
   "cell_type": "code",
   "execution_count": 133,
   "id": "cd6202b4",
   "metadata": {},
   "outputs": [],
   "source": [
    "import scipy.stats as stats"
   ]
  },
  {
   "cell_type": "code",
   "execution_count": 134,
   "id": "e02544ba",
   "metadata": {},
   "outputs": [],
   "source": [
    "import itertools"
   ]
  },
  {
   "cell_type": "code",
   "execution_count": null,
   "id": "d0efda56",
   "metadata": {},
   "outputs": [],
   "source": []
  },
  {
   "cell_type": "code",
   "execution_count": 135,
   "id": "773b55a5",
   "metadata": {},
   "outputs": [
    {
     "data": {
      "text/plain": [
       "array(['lose', 'win', 'rewarded', 'omission'], dtype=object)"
      ]
     },
     "execution_count": 135,
     "metadata": {},
     "output_type": "execute_result"
    }
   ],
   "source": [
    "merged_before_after_tone_spike_count_df[\"neuron_id\"].unique()\n",
    "\n",
    "merged_before_after_tone_spike_count_df[\"trial_type\"].unique()\n"
   ]
  },
  {
   "cell_type": "code",
   "execution_count": 136,
   "id": "19f67531",
   "metadata": {},
   "outputs": [
    {
     "name": "stderr",
     "output_type": "stream",
     "text": [
      "/home/riwata/miniconda3/envs/spike_interface_0_97_1/lib/python3.9/site-packages/scipy/stats/_morestats.py:3414: UserWarning: Exact p-value calculation does not work if there are zeros. Switching to normal approximation.\n",
      "  warnings.warn(\"Exact p-value calculation does not work if there are \"\n",
      "/home/riwata/miniconda3/envs/spike_interface_0_97_1/lib/python3.9/site-packages/scipy/stats/_morestats.py:3428: UserWarning: Sample size too small for normal approximation.\n",
      "  warnings.warn(\"Sample size too small for normal approximation.\")\n"
     ]
    }
   ],
   "source": [
    "neuron_id_to_trial_type_to_wilcoxon_score = defaultdict(dict)\n",
    "neuron_id_and_trial_type_combinations = list(itertools.product(merged_before_after_tone_spike_count_df[\"subject_neuron_id\"].unique(), merged_before_after_tone_spike_count_df[\"trial_type\"].unique()))\n",
    "for neuron_id, trial_type in neuron_id_and_trial_type_combinations:\n",
    "    current_df = merged_before_after_tone_spike_count_df[(merged_before_after_tone_spike_count_df[\"subject_neuron_id\"] == neuron_id) & (merged_before_after_tone_spike_count_df[\"trial_type\"] == trial_type)]\n",
    "    neuron_id_to_trial_type_to_wilcoxon_score[neuron_id][trial_type] = stats.wilcoxon(current_df[\"before_fired_spike_count\"], current_df[\"after_fired_spike_count\"])"
   ]
  },
  {
   "cell_type": "markdown",
   "id": "6248e071",
   "metadata": {},
   "source": [
    "# Pie Chart for Losing and Omission"
   ]
  },
  {
   "cell_type": "code",
   "execution_count": 138,
   "id": "cf8f5be5",
   "metadata": {},
   "outputs": [],
   "source": [
    "p_value_threshold = 0.1"
   ]
  },
  {
   "cell_type": "code",
   "execution_count": 139,
   "id": "70aa541a",
   "metadata": {},
   "outputs": [],
   "source": [
    "neuron_to_wilcoxon_df = pd.DataFrame.from_dict(neuron_id_to_trial_type_to_wilcoxon_score, orient=\"index\")"
   ]
  },
  {
   "cell_type": "code",
   "execution_count": 140,
   "id": "99bc426d",
   "metadata": {},
   "outputs": [
    {
     "data": {
      "text/html": [
       "<div>\n",
       "<style scoped>\n",
       "    .dataframe tbody tr th:only-of-type {\n",
       "        vertical-align: middle;\n",
       "    }\n",
       "\n",
       "    .dataframe tbody tr th {\n",
       "        vertical-align: top;\n",
       "    }\n",
       "\n",
       "    .dataframe thead th {\n",
       "        text-align: right;\n",
       "    }\n",
       "</style>\n",
       "<table border=\"1\" class=\"dataframe\">\n",
       "  <thead>\n",
       "    <tr style=\"text-align: right;\">\n",
       "      <th></th>\n",
       "      <th>lose</th>\n",
       "      <th>win</th>\n",
       "      <th>rewarded</th>\n",
       "      <th>omission</th>\n",
       "    </tr>\n",
       "  </thead>\n",
       "  <tbody>\n",
       "    <tr>\n",
       "      <th>1subj_1_1</th>\n",
       "      <td>(7.0, 0.5625)</td>\n",
       "      <td>(44.0, 0.9163591402734885)</td>\n",
       "      <td>(12.0, 0.2102948935393778)</td>\n",
       "      <td>(0.0, 0.5)</td>\n",
       "    </tr>\n",
       "    <tr>\n",
       "      <th>3subj_1_1</th>\n",
       "      <td>(0.0, 0.17971249487899976)</td>\n",
       "      <td>(18.0, 0.5873223123484554)</td>\n",
       "      <td>(36.0, 0.5060956790543683)</td>\n",
       "      <td>(0.0, 0.5)</td>\n",
       "    </tr>\n",
       "    <tr>\n",
       "      <th>4subj_1_1</th>\n",
       "      <td>(0.0, 0.31731050786291415)</td>\n",
       "      <td>(18.0, 1.0)</td>\n",
       "      <td>(13.0, 0.8648125041589424)</td>\n",
       "      <td>(0.0, 0.31731050786291415)</td>\n",
       "    </tr>\n",
       "    <tr>\n",
       "      <th>6subj_1_1</th>\n",
       "      <td>(4.0, 0.21875)</td>\n",
       "      <td>(43.0, 0.5830078125)</td>\n",
       "      <td>(54.5, 0.803955078125)</td>\n",
       "      <td>(0.0, 0.31731050786291415)</td>\n",
       "    </tr>\n",
       "    <tr>\n",
       "      <th>7subj_1_1</th>\n",
       "      <td>(5.0, 0.3125)</td>\n",
       "      <td>(35.0, 0.2957763671875)</td>\n",
       "      <td>(12.5, 0.012015867172801373)</td>\n",
       "      <td>(0.0, 0.5)</td>\n",
       "    </tr>\n",
       "    <tr>\n",
       "      <th>8subj_1_1</th>\n",
       "      <td>(8.0, 0.6875)</td>\n",
       "      <td>(43.5, 0.5830078125)</td>\n",
       "      <td>(30.5, 0.16673031066816324)</td>\n",
       "      <td>(1.0, 1.0)</td>\n",
       "    </tr>\n",
       "    <tr>\n",
       "      <th>10subj_1_1</th>\n",
       "      <td>(5.0, 0.3125)</td>\n",
       "      <td>(39.0, 0.42626953125)</td>\n",
       "      <td>(35.0, 0.27135657357159837)</td>\n",
       "      <td>(1.0, 1.0)</td>\n",
       "    </tr>\n",
       "    <tr>\n",
       "      <th>14subj_1_1</th>\n",
       "      <td>(4.0, 0.7127018566581784)</td>\n",
       "      <td>(1.5, 0.003216229310127449)</td>\n",
       "      <td>(14.5, 0.017001175423047934)</td>\n",
       "      <td>(0.0, 0.5)</td>\n",
       "    </tr>\n",
       "    <tr>\n",
       "      <th>20subj_1_1</th>\n",
       "      <td>(4.0, 0.21875)</td>\n",
       "      <td>(41.5, 0.5015869140625)</td>\n",
       "      <td>(58.5, 0.93408203125)</td>\n",
       "      <td>(1.5, 1.0)</td>\n",
       "    </tr>\n",
       "    <tr>\n",
       "      <th>29subj_1_1</th>\n",
       "      <td>(5.0, 0.3125)</td>\n",
       "      <td>(35.5, 0.3258056640625)</td>\n",
       "      <td>(52.0, 0.9749537510711465)</td>\n",
       "      <td>(0.0, 0.5)</td>\n",
       "    </tr>\n",
       "    <tr>\n",
       "      <th>38subj_1_1</th>\n",
       "      <td>(0.0, 0.03125)</td>\n",
       "      <td>(19.0, 0.0352783203125)</td>\n",
       "      <td>(30.5, 0.16714896906439225)</td>\n",
       "      <td>(1.0, 1.0)</td>\n",
       "    </tr>\n",
       "    <tr>\n",
       "      <th>40subj_1_1</th>\n",
       "      <td>(5.5, 0.3125)</td>\n",
       "      <td>(40.5, 0.463134765625)</td>\n",
       "      <td>(46.0, 0.45428466796875)</td>\n",
       "      <td>(0.0, 0.5)</td>\n",
       "    </tr>\n",
       "    <tr>\n",
       "      <th>48subj_1_1</th>\n",
       "      <td>(5.5, 0.58621368107314)</td>\n",
       "      <td>(28.5, 0.40939548620991884)</td>\n",
       "      <td>(46.5, 0.7053873229159193)</td>\n",
       "      <td>(1.0, 1.0)</td>\n",
       "    </tr>\n",
       "    <tr>\n",
       "      <th>55subj_1_1</th>\n",
       "      <td>(5.0, 0.3125)</td>\n",
       "      <td>(41.5, 0.5416259765625)</td>\n",
       "      <td>(51.5, 0.9497338545155155)</td>\n",
       "      <td>(1.0, 1.0)</td>\n",
       "    </tr>\n",
       "    <tr>\n",
       "      <th>58subj_1_1</th>\n",
       "      <td>(10.5, 1.0)</td>\n",
       "      <td>(36.0, 0.8136637157667919)</td>\n",
       "      <td>(16.0, 0.2377409552694214)</td>\n",
       "      <td>(0.0, 0.31731050786291415)</td>\n",
       "    </tr>\n",
       "    <tr>\n",
       "      <th>64subj_1_1</th>\n",
       "      <td>(0.0, 0.31731050786291415)</td>\n",
       "      <td>(1.5, 0.4142161782425252)</td>\n",
       "      <td>(15.5, 0.7256399616198785)</td>\n",
       "      <td>(0.0, 0.31731050786291415)</td>\n",
       "    </tr>\n",
       "    <tr>\n",
       "      <th>1subj_1_4</th>\n",
       "      <td>(39.5, 0.42626953125)</td>\n",
       "      <td>(6.0, 0.4375)</td>\n",
       "      <td>(0.0, 6.103515625e-05)</td>\n",
       "      <td>(3.0, 1.0)</td>\n",
       "    </tr>\n",
       "    <tr>\n",
       "      <th>2subj_1_4</th>\n",
       "      <td>(32.0, 0.3435253304921583)</td>\n",
       "      <td>(6.0, 0.4375)</td>\n",
       "      <td>(43.5, 0.8874322044922862)</td>\n",
       "      <td>(1.0, 0.5)</td>\n",
       "    </tr>\n",
       "    <tr>\n",
       "      <th>4subj_1_4</th>\n",
       "      <td>(29.0, 0.153076171875)</td>\n",
       "      <td>(0.0, 0.03125)</td>\n",
       "      <td>(6.0, 0.0008544921875)</td>\n",
       "      <td>(1.0, 0.5)</td>\n",
       "    </tr>\n",
       "    <tr>\n",
       "      <th>7subj_1_4</th>\n",
       "      <td>(20.0, 0.07446943264895652)</td>\n",
       "      <td>(6.5, 0.5625)</td>\n",
       "      <td>(9.5, 0.00201416015625)</td>\n",
       "      <td>(2.0, 0.75)</td>\n",
       "    </tr>\n",
       "    <tr>\n",
       "      <th>9subj_1_4</th>\n",
       "      <td>(35.0, 0.2957763671875)</td>\n",
       "      <td>(0.0, 0.043114446783075355)</td>\n",
       "      <td>(27.5, 0.072998046875)</td>\n",
       "      <td>(1.0, 0.5)</td>\n",
       "    </tr>\n",
       "    <tr>\n",
       "      <th>18subj_1_4</th>\n",
       "      <td>(26.0, 0.10400390625)</td>\n",
       "      <td>(0.0, 0.03125)</td>\n",
       "      <td>(0.0, 6.103515625e-05)</td>\n",
       "      <td>(1.0, 0.5)</td>\n",
       "    </tr>\n",
       "    <tr>\n",
       "      <th>25subj_1_4</th>\n",
       "      <td>(32.0, 0.34456236532569795)</td>\n",
       "      <td>(6.0, 0.4375)</td>\n",
       "      <td>(35.5, 0.1876220703125)</td>\n",
       "      <td>(2.0, 0.75)</td>\n",
       "    </tr>\n",
       "    <tr>\n",
       "      <th>30subj_1_4</th>\n",
       "      <td>(32.5, 0.6083215911239273)</td>\n",
       "      <td>(0.0, 0.039359508888249725)</td>\n",
       "      <td>(4.0, 0.00042724609375)</td>\n",
       "      <td>(2.0, 0.75)</td>\n",
       "    </tr>\n",
       "    <tr>\n",
       "      <th>38subj_1_4</th>\n",
       "      <td>(15.0, 0.0166015625)</td>\n",
       "      <td>(3.5, 0.15625)</td>\n",
       "      <td>(5.0, 0.0006103515625)</td>\n",
       "      <td>(1.0, 0.6547208460185769)</td>\n",
       "    </tr>\n",
       "    <tr>\n",
       "      <th>42subj_1_4</th>\n",
       "      <td>(12.5, 0.0107421875)</td>\n",
       "      <td>(5.0, 0.3125)</td>\n",
       "      <td>(7.0, 0.00115966796875)</td>\n",
       "      <td>(0.0, 0.25)</td>\n",
       "    </tr>\n",
       "    <tr>\n",
       "      <th>48subj_1_4</th>\n",
       "      <td>(17.5, 0.050020132037629866)</td>\n",
       "      <td>(4.0, 0.7150006546880893)</td>\n",
       "      <td>(3.0, 0.0043649548824020445)</td>\n",
       "      <td>(0.0, 0.15729920705028502)</td>\n",
       "    </tr>\n",
       "  </tbody>\n",
       "</table>\n",
       "</div>"
      ],
      "text/plain": [
       "                                    lose                          win  \\\n",
       "1subj_1_1                  (7.0, 0.5625)   (44.0, 0.9163591402734885)   \n",
       "3subj_1_1     (0.0, 0.17971249487899976)   (18.0, 0.5873223123484554)   \n",
       "4subj_1_1     (0.0, 0.31731050786291415)                  (18.0, 1.0)   \n",
       "6subj_1_1                 (4.0, 0.21875)         (43.0, 0.5830078125)   \n",
       "7subj_1_1                  (5.0, 0.3125)      (35.0, 0.2957763671875)   \n",
       "8subj_1_1                  (8.0, 0.6875)         (43.5, 0.5830078125)   \n",
       "10subj_1_1                 (5.0, 0.3125)        (39.0, 0.42626953125)   \n",
       "14subj_1_1     (4.0, 0.7127018566581784)  (1.5, 0.003216229310127449)   \n",
       "20subj_1_1                (4.0, 0.21875)      (41.5, 0.5015869140625)   \n",
       "29subj_1_1                 (5.0, 0.3125)      (35.5, 0.3258056640625)   \n",
       "38subj_1_1                (0.0, 0.03125)      (19.0, 0.0352783203125)   \n",
       "40subj_1_1                 (5.5, 0.3125)       (40.5, 0.463134765625)   \n",
       "48subj_1_1       (5.5, 0.58621368107314)  (28.5, 0.40939548620991884)   \n",
       "55subj_1_1                 (5.0, 0.3125)      (41.5, 0.5416259765625)   \n",
       "58subj_1_1                   (10.5, 1.0)   (36.0, 0.8136637157667919)   \n",
       "64subj_1_1    (0.0, 0.31731050786291415)    (1.5, 0.4142161782425252)   \n",
       "1subj_1_4          (39.5, 0.42626953125)                (6.0, 0.4375)   \n",
       "2subj_1_4     (32.0, 0.3435253304921583)                (6.0, 0.4375)   \n",
       "4subj_1_4         (29.0, 0.153076171875)               (0.0, 0.03125)   \n",
       "7subj_1_4    (20.0, 0.07446943264895652)                (6.5, 0.5625)   \n",
       "9subj_1_4        (35.0, 0.2957763671875)  (0.0, 0.043114446783075355)   \n",
       "18subj_1_4         (26.0, 0.10400390625)               (0.0, 0.03125)   \n",
       "25subj_1_4   (32.0, 0.34456236532569795)                (6.0, 0.4375)   \n",
       "30subj_1_4    (32.5, 0.6083215911239273)  (0.0, 0.039359508888249725)   \n",
       "38subj_1_4          (15.0, 0.0166015625)               (3.5, 0.15625)   \n",
       "42subj_1_4          (12.5, 0.0107421875)                (5.0, 0.3125)   \n",
       "48subj_1_4  (17.5, 0.050020132037629866)    (4.0, 0.7150006546880893)   \n",
       "\n",
       "                                rewarded                    omission  \n",
       "1subj_1_1     (12.0, 0.2102948935393778)                  (0.0, 0.5)  \n",
       "3subj_1_1     (36.0, 0.5060956790543683)                  (0.0, 0.5)  \n",
       "4subj_1_1     (13.0, 0.8648125041589424)  (0.0, 0.31731050786291415)  \n",
       "6subj_1_1         (54.5, 0.803955078125)  (0.0, 0.31731050786291415)  \n",
       "7subj_1_1   (12.5, 0.012015867172801373)                  (0.0, 0.5)  \n",
       "8subj_1_1    (30.5, 0.16673031066816324)                  (1.0, 1.0)  \n",
       "10subj_1_1   (35.0, 0.27135657357159837)                  (1.0, 1.0)  \n",
       "14subj_1_1  (14.5, 0.017001175423047934)                  (0.0, 0.5)  \n",
       "20subj_1_1         (58.5, 0.93408203125)                  (1.5, 1.0)  \n",
       "29subj_1_1    (52.0, 0.9749537510711465)                  (0.0, 0.5)  \n",
       "38subj_1_1   (30.5, 0.16714896906439225)                  (1.0, 1.0)  \n",
       "40subj_1_1      (46.0, 0.45428466796875)                  (0.0, 0.5)  \n",
       "48subj_1_1    (46.5, 0.7053873229159193)                  (1.0, 1.0)  \n",
       "55subj_1_1    (51.5, 0.9497338545155155)                  (1.0, 1.0)  \n",
       "58subj_1_1    (16.0, 0.2377409552694214)  (0.0, 0.31731050786291415)  \n",
       "64subj_1_1    (15.5, 0.7256399616198785)  (0.0, 0.31731050786291415)  \n",
       "1subj_1_4         (0.0, 6.103515625e-05)                  (3.0, 1.0)  \n",
       "2subj_1_4     (43.5, 0.8874322044922862)                  (1.0, 0.5)  \n",
       "4subj_1_4         (6.0, 0.0008544921875)                  (1.0, 0.5)  \n",
       "7subj_1_4        (9.5, 0.00201416015625)                 (2.0, 0.75)  \n",
       "9subj_1_4         (27.5, 0.072998046875)                  (1.0, 0.5)  \n",
       "18subj_1_4        (0.0, 6.103515625e-05)                  (1.0, 0.5)  \n",
       "25subj_1_4       (35.5, 0.1876220703125)                 (2.0, 0.75)  \n",
       "30subj_1_4       (4.0, 0.00042724609375)                 (2.0, 0.75)  \n",
       "38subj_1_4        (5.0, 0.0006103515625)   (1.0, 0.6547208460185769)  \n",
       "42subj_1_4       (7.0, 0.00115966796875)                 (0.0, 0.25)  \n",
       "48subj_1_4  (3.0, 0.0043649548824020445)  (0.0, 0.15729920705028502)  "
      ]
     },
     "execution_count": 140,
     "metadata": {},
     "output_type": "execute_result"
    }
   ],
   "source": [
    "neuron_to_wilcoxon_df"
   ]
  },
  {
   "cell_type": "code",
   "execution_count": 141,
   "id": "ebcff259",
   "metadata": {},
   "outputs": [],
   "source": [
    "for col in neuron_to_wilcoxon_df.columns:\n",
    "    neuron_to_wilcoxon_df[\"{}_pvalue\".format(col)] = neuron_to_wilcoxon_df[col].apply(lambda x: x[1])"
   ]
  },
  {
   "cell_type": "code",
   "execution_count": 142,
   "id": "2b9c60b9",
   "metadata": {},
   "outputs": [
    {
     "data": {
      "text/html": [
       "<div>\n",
       "<style scoped>\n",
       "    .dataframe tbody tr th:only-of-type {\n",
       "        vertical-align: middle;\n",
       "    }\n",
       "\n",
       "    .dataframe tbody tr th {\n",
       "        vertical-align: top;\n",
       "    }\n",
       "\n",
       "    .dataframe thead th {\n",
       "        text-align: right;\n",
       "    }\n",
       "</style>\n",
       "<table border=\"1\" class=\"dataframe\">\n",
       "  <thead>\n",
       "    <tr style=\"text-align: right;\">\n",
       "      <th></th>\n",
       "      <th>lose</th>\n",
       "      <th>win</th>\n",
       "      <th>rewarded</th>\n",
       "      <th>omission</th>\n",
       "      <th>lose_pvalue</th>\n",
       "      <th>win_pvalue</th>\n",
       "      <th>rewarded_pvalue</th>\n",
       "      <th>omission_pvalue</th>\n",
       "    </tr>\n",
       "  </thead>\n",
       "  <tbody>\n",
       "    <tr>\n",
       "      <th>1subj_1_1</th>\n",
       "      <td>(7.0, 0.5625)</td>\n",
       "      <td>(44.0, 0.9163591402734885)</td>\n",
       "      <td>(12.0, 0.2102948935393778)</td>\n",
       "      <td>(0.0, 0.5)</td>\n",
       "      <td>0.562500</td>\n",
       "      <td>0.916359</td>\n",
       "      <td>0.210295</td>\n",
       "      <td>0.500000</td>\n",
       "    </tr>\n",
       "    <tr>\n",
       "      <th>3subj_1_1</th>\n",
       "      <td>(0.0, 0.17971249487899976)</td>\n",
       "      <td>(18.0, 0.5873223123484554)</td>\n",
       "      <td>(36.0, 0.5060956790543683)</td>\n",
       "      <td>(0.0, 0.5)</td>\n",
       "      <td>0.179712</td>\n",
       "      <td>0.587322</td>\n",
       "      <td>0.506096</td>\n",
       "      <td>0.500000</td>\n",
       "    </tr>\n",
       "    <tr>\n",
       "      <th>4subj_1_1</th>\n",
       "      <td>(0.0, 0.31731050786291415)</td>\n",
       "      <td>(18.0, 1.0)</td>\n",
       "      <td>(13.0, 0.8648125041589424)</td>\n",
       "      <td>(0.0, 0.31731050786291415)</td>\n",
       "      <td>0.317311</td>\n",
       "      <td>1.000000</td>\n",
       "      <td>0.864813</td>\n",
       "      <td>0.317311</td>\n",
       "    </tr>\n",
       "    <tr>\n",
       "      <th>6subj_1_1</th>\n",
       "      <td>(4.0, 0.21875)</td>\n",
       "      <td>(43.0, 0.5830078125)</td>\n",
       "      <td>(54.5, 0.803955078125)</td>\n",
       "      <td>(0.0, 0.31731050786291415)</td>\n",
       "      <td>0.218750</td>\n",
       "      <td>0.583008</td>\n",
       "      <td>0.803955</td>\n",
       "      <td>0.317311</td>\n",
       "    </tr>\n",
       "    <tr>\n",
       "      <th>7subj_1_1</th>\n",
       "      <td>(5.0, 0.3125)</td>\n",
       "      <td>(35.0, 0.2957763671875)</td>\n",
       "      <td>(12.5, 0.012015867172801373)</td>\n",
       "      <td>(0.0, 0.5)</td>\n",
       "      <td>0.312500</td>\n",
       "      <td>0.295776</td>\n",
       "      <td>0.012016</td>\n",
       "      <td>0.500000</td>\n",
       "    </tr>\n",
       "  </tbody>\n",
       "</table>\n",
       "</div>"
      ],
      "text/plain": [
       "                                 lose                         win  \\\n",
       "1subj_1_1               (7.0, 0.5625)  (44.0, 0.9163591402734885)   \n",
       "3subj_1_1  (0.0, 0.17971249487899976)  (18.0, 0.5873223123484554)   \n",
       "4subj_1_1  (0.0, 0.31731050786291415)                 (18.0, 1.0)   \n",
       "6subj_1_1              (4.0, 0.21875)        (43.0, 0.5830078125)   \n",
       "7subj_1_1               (5.0, 0.3125)     (35.0, 0.2957763671875)   \n",
       "\n",
       "                               rewarded                    omission  \\\n",
       "1subj_1_1    (12.0, 0.2102948935393778)                  (0.0, 0.5)   \n",
       "3subj_1_1    (36.0, 0.5060956790543683)                  (0.0, 0.5)   \n",
       "4subj_1_1    (13.0, 0.8648125041589424)  (0.0, 0.31731050786291415)   \n",
       "6subj_1_1        (54.5, 0.803955078125)  (0.0, 0.31731050786291415)   \n",
       "7subj_1_1  (12.5, 0.012015867172801373)                  (0.0, 0.5)   \n",
       "\n",
       "           lose_pvalue  win_pvalue  rewarded_pvalue  omission_pvalue  \n",
       "1subj_1_1     0.562500    0.916359         0.210295         0.500000  \n",
       "3subj_1_1     0.179712    0.587322         0.506096         0.500000  \n",
       "4subj_1_1     0.317311    1.000000         0.864813         0.317311  \n",
       "6subj_1_1     0.218750    0.583008         0.803955         0.317311  \n",
       "7subj_1_1     0.312500    0.295776         0.012016         0.500000  "
      ]
     },
     "execution_count": 142,
     "metadata": {},
     "output_type": "execute_result"
    }
   ],
   "source": [
    "neuron_to_wilcoxon_df.head()"
   ]
  },
  {
   "cell_type": "code",
   "execution_count": 143,
   "id": "c1894522",
   "metadata": {},
   "outputs": [],
   "source": [
    "reward_or_win_firing_rate_difference_count = {}\n",
    "for index, row in neuron_to_wilcoxon_df.iterrows():\n",
    "    \n",
    "    # if both\n",
    "    if row[\"rewarded_pvalue\"] <= p_value_threshold and row[\"win_pvalue\"] <= p_value_threshold:\n",
    "        reward_or_win_firing_rate_difference_count[\"both_reward_and_win\"] = reward_or_win_firing_rate_difference_count.get('both_reward_and_win', 0) + 1\n",
    "    # if one\n",
    "    if row[\"rewarded_pvalue\"] <= p_value_threshold:\n",
    "        reward_or_win_firing_rate_difference_count[\"reward_only\"] = reward_or_win_firing_rate_difference_count.get('reward_only', 0) + 1\n",
    "\n",
    "    # if other\n",
    "    if row[\"win_pvalue\"] <= p_value_threshold:\n",
    "        reward_or_win_firing_rate_difference_count[\"win_only\"] = reward_or_win_firing_rate_difference_count.get('win_only', 0) + 1\n",
    "reward_or_win_firing_rate_difference_count[\"no_response_for_win_and_rewarded\"] = len(neuron_to_wilcoxon_df) - sum(reward_or_win_firing_rate_difference_count.values())"
   ]
  },
  {
   "cell_type": "code",
   "execution_count": 144,
   "id": "150c74be",
   "metadata": {},
   "outputs": [
    {
     "data": {
      "text/plain": [
       "{'reward_only': 11,\n",
       " 'both_reward_and_win': 5,\n",
       " 'win_only': 6,\n",
       " 'no_response_for_win_and_rewarded': 5}"
      ]
     },
     "execution_count": 144,
     "metadata": {},
     "output_type": "execute_result"
    }
   ],
   "source": [
    "reward_or_win_firing_rate_difference_count"
   ]
  },
  {
   "cell_type": "code",
   "execution_count": 145,
   "id": "1576c048",
   "metadata": {},
   "outputs": [],
   "source": [
    "omission_or_loss_firing_rate_difference_count = {}\n",
    "for index, row in neuron_to_wilcoxon_df.iterrows():\n",
    "    \n",
    "    # if both\n",
    "    if row[\"omission_pvalue\"] <= p_value_threshold and row[\"loss_pvalue\"] <= p_value_threshold:\n",
    "        omission_or_loss_firing_rate_difference_count[\"both_omission_and_loss\"] = omission_or_loss_firing_rate_difference_count.get('both_omission_and_loss', 0) + 1\n",
    "    # if one\n",
    "    if row[\"omission_pvalue\"] <= p_value_threshold:\n",
    "        omission_or_loss_firing_rate_difference_count[\"omission_only\"] = omission_or_loss_firing_rate_difference_count.get('omission_only', 0) + 1\n",
    "\n",
    "    # if other\n",
    "    if row[\"lose_pvalue\"] <= p_value_threshold:\n",
    "        omission_or_loss_firing_rate_difference_count[\"loss_only\"] = omission_or_loss_firing_rate_difference_count.get('loss_only', 0) + 1\n",
    "omission_or_loss_firing_rate_difference_count[\"no_response_for_loss_and_omission\"] = len(neuron_to_wilcoxon_df) - sum(omission_or_loss_firing_rate_difference_count.values())"
   ]
  },
  {
   "cell_type": "code",
   "execution_count": 146,
   "id": "1df38ee5",
   "metadata": {},
   "outputs": [
    {
     "data": {
      "text/plain": [
       "dict_values([5, 22])"
      ]
     },
     "execution_count": 146,
     "metadata": {},
     "output_type": "execute_result"
    }
   ],
   "source": [
    "omission_or_loss_firing_rate_difference_count.values()"
   ]
  },
  {
   "cell_type": "code",
   "execution_count": 147,
   "id": "87395322",
   "metadata": {},
   "outputs": [
    {
     "data": {
      "image/png": "[encoded data removed]",
      "text/plain": [
       "<Figure size 640x480 with 1 Axes>"
      ]
     },
     "metadata": {},
     "output_type": "display_data"
    }
   ],
   "source": [
    "# Pie chart, where the slices will be ordered and plotted counter-clockwise:\n",
    "\n",
    "fig1, ax1 = plt.subplots()\n",
    "ax1.pie(reward_or_win_firing_rate_difference_count.values(), labels=reward_or_win_firing_rate_difference_count.keys(), autopct='%1.1f%%',\n",
    "        shadow=True, startangle=90)\n",
    "ax1.axis('equal')  # Equal aspect ratio ensures that pie is drawn as a circle.\n",
    "\n",
    "plt.title(\"Response Magnitude for All Cells\")\n",
    "plt.show()"
   ]
  },
  {
   "cell_type": "code",
   "execution_count": 148,
   "id": "45f17730",
   "metadata": {
    "scrolled": true
   },
   "outputs": [
    {
     "data": {
      "image/png": "[encoded data removed]",
      "text/plain": [
       "<Figure size 640x480 with 1 Axes>"
      ]
     },
     "metadata": {},
     "output_type": "display_data"
    }
   ],
   "source": [
    "# Pie chart, where the slices will be ordered and plotted counter-clockwise:\n",
    "\n",
    "fig1, ax1 = plt.subplots()\n",
    "ax1.pie(omission_or_loss_firing_rate_difference_count.values(), labels=omission_or_loss_firing_rate_difference_count.keys(), autopct='%1.1f%%',\n",
    "        shadow=True, startangle=90)\n",
    "ax1.axis('equal')  # Equal aspect ratio ensures that pie is drawn as a circle.\n",
    "\n",
    "plt.title(\"Response Magnitude for All Cells\")\n",
    "plt.show()"
   ]
  },
  {
   "cell_type": "code",
   "execution_count": 149,
   "id": "85fc960b-3e34-4aae-9dd8-09130e98092b",
   "metadata": {},
   "outputs": [
    {
     "data": {
      "text/plain": [
       "{'reward_only': 11,\n",
       " 'both_reward_and_win': 5,\n",
       " 'win_only': 6,\n",
       " 'no_response_for_win_and_rewarded': 5}"
      ]
     },
     "execution_count": 149,
     "metadata": {},
     "output_type": "execute_result"
    }
   ],
   "source": [
    "reward_or_win_firing_rate_difference_count"
   ]
  },
  {
   "cell_type": "code",
   "execution_count": 150,
   "id": "74ae1153-d1ec-4b79-b4c5-d2ea169ba936",
   "metadata": {
    "scrolled": true
   },
   "outputs": [],
   "source": [
    "spike_difference_df = pd.concat([pd.DataFrame.from_dict(reward_or_win_firing_rate_difference_count.items()), pd.DataFrame.from_dict(omission_or_loss_firing_rate_difference_count.items())]).reset_index(drop=True)"
   ]
  },
  {
   "cell_type": "code",
   "execution_count": 151,
   "id": "3ab736db-fbf0-4f85-a32e-d055b377951b",
   "metadata": {},
   "outputs": [],
   "source": [
    "spike_difference_df = spike_difference_df.rename(columns={0: \"condition\", 1: \"number_of_changed_units\"})"
   ]
  },
  {
   "cell_type": "code",
   "execution_count": 152,
   "id": "a6fa97de-39b9-4bf4-bdfe-f1b1a714bd8e",
   "metadata": {},
   "outputs": [
    {
     "data": {
      "text/plain": [
       "27"
      ]
     },
     "execution_count": 152,
     "metadata": {},
     "output_type": "execute_result"
    }
   ],
   "source": [
    "len(merged_before_after_tone_spike_count_df[\"subject_neuron_id\"].unique())"
   ]
  },
  {
   "cell_type": "code",
   "execution_count": 153,
   "id": "80478c1c-fe35-46bb-9fb2-92726225ae47",
   "metadata": {},
   "outputs": [],
   "source": [
    "spike_difference_df[\"proportion_of_changed_units\"] = spike_difference_df[\"number_of_changed_units\"] / len(merged_before_after_tone_spike_count_df[\"subject_neuron_id\"].unique())"
   ]
  },
  {
   "cell_type": "code",
   "execution_count": 154,
   "id": "81b7abcc-d15e-435c-853e-351453c75293",
   "metadata": {},
   "outputs": [
    {
     "data": {
      "text/html": [
       "<div>\n",
       "<style scoped>\n",
       "    .dataframe tbody tr th:only-of-type {\n",
       "        vertical-align: middle;\n",
       "    }\n",
       "\n",
       "    .dataframe tbody tr th {\n",
       "        vertical-align: top;\n",
       "    }\n",
       "\n",
       "    .dataframe thead th {\n",
       "        text-align: right;\n",
       "    }\n",
       "</style>\n",
       "<table border=\"1\" class=\"dataframe\">\n",
       "  <thead>\n",
       "    <tr style=\"text-align: right;\">\n",
       "      <th></th>\n",
       "      <th>condition</th>\n",
       "      <th>number_of_changed_units</th>\n",
       "      <th>proportion_of_changed_units</th>\n",
       "    </tr>\n",
       "  </thead>\n",
       "  <tbody>\n",
       "    <tr>\n",
       "      <th>0</th>\n",
       "      <td>reward_only</td>\n",
       "      <td>11</td>\n",
       "      <td>0.407407</td>\n",
       "    </tr>\n",
       "    <tr>\n",
       "      <th>1</th>\n",
       "      <td>both_reward_and_win</td>\n",
       "      <td>5</td>\n",
       "      <td>0.185185</td>\n",
       "    </tr>\n",
       "    <tr>\n",
       "      <th>2</th>\n",
       "      <td>win_only</td>\n",
       "      <td>6</td>\n",
       "      <td>0.222222</td>\n",
       "    </tr>\n",
       "    <tr>\n",
       "      <th>3</th>\n",
       "      <td>no_response_for_win_and_rewarded</td>\n",
       "      <td>5</td>\n",
       "      <td>0.185185</td>\n",
       "    </tr>\n",
       "    <tr>\n",
       "      <th>4</th>\n",
       "      <td>loss_only</td>\n",
       "      <td>5</td>\n",
       "      <td>0.185185</td>\n",
       "    </tr>\n",
       "    <tr>\n",
       "      <th>5</th>\n",
       "      <td>no_response_for_loss_and_omission</td>\n",
       "      <td>22</td>\n",
       "      <td>0.814815</td>\n",
       "    </tr>\n",
       "  </tbody>\n",
       "</table>\n",
       "</div>"
      ],
      "text/plain": [
       "                           condition  number_of_changed_units  \\\n",
       "0                        reward_only                       11   \n",
       "1                both_reward_and_win                        5   \n",
       "2                           win_only                        6   \n",
       "3   no_response_for_win_and_rewarded                        5   \n",
       "4                          loss_only                        5   \n",
       "5  no_response_for_loss_and_omission                       22   \n",
       "\n",
       "   proportion_of_changed_units  \n",
       "0                     0.407407  \n",
       "1                     0.185185  \n",
       "2                     0.222222  \n",
       "3                     0.185185  \n",
       "4                     0.185185  \n",
       "5                     0.814815  "
      ]
     },
     "execution_count": 154,
     "metadata": {},
     "output_type": "execute_result"
    }
   ],
   "source": [
    "spike_difference_df"
   ]
  },
  {
   "cell_type": "code",
   "execution_count": 155,
   "id": "549a4b69-725a-4cc5-94ff-a004557a4ede",
   "metadata": {},
   "outputs": [],
   "source": [
    "spike_difference_df.to_csv(\"./spike_wilcoxon_06_18.csv\")"
   ]
  },
  {
   "cell_type": "code",
   "execution_count": 156,
   "id": "4ae650a0-b356-4e8c-9dc7-331b895e58b7",
   "metadata": {},
   "outputs": [
    {
     "data": {
      "text/plain": [
       "',condition,number_of_changed_units,proportion_of_changed_units\\n0,reward_only,11,0.4074074074074074\\n1,both_reward_and_win,5,0.18518518518518517\\n2,win_only,6,0.2222222222222222\\n3,no_response_for_win_and_rewarded,5,0.18518518518518517\\n4,loss_only,5,0.18518518518518517\\n5,no_response_for_loss_and_omission,22,0.8148148148148148\\n'"
      ]
     },
     "execution_count": 156,
     "metadata": {},
     "output_type": "execute_result"
    }
   ],
   "source": [
    "spike_difference_df.to_csv()"
   ]
  },
  {
   "cell_type": "markdown",
   "id": "119af22e",
   "metadata": {},
   "source": []
  },
  {
   "cell_type": "markdown",
   "id": "fcf87c75",
   "metadata": {},
   "source": [
    "# Looking at the firing rate for each 100ms time bin"
   ]
  },
  {
   "cell_type": "code",
   "execution_count": null,
   "id": "86622973",
   "metadata": {},
   "outputs": [],
   "source": [
    "# The window to look before and after this many timestamps for a given tone\n",
    "time_stamp_window = trial_one_way_duration * sampling_rate\n",
    "# dictionary of the tonetime to a list of the good units\n",
    "within_interval_unit_times = defaultdict(list)\n",
    "\n",
    "# iterating through the timestamp of each good unit spike\n",
    "for index, time in enumerate(good_unit_times):\n",
    "    # getting the corresponding bin for the timestamp\n",
    "    current_bin = good_unit_bins[index]\n",
    "        \n",
    "    # checking number before\n",
    "    first_tone_time = tone_time_stamps[(current_bin - 1) % len(tone_time_stamps)]\n",
    "    # checking number after\n",
    "    second_tone_time = tone_time_stamps[(current_bin) % len(tone_time_stamps)]\n",
    "    \n",
    "    # Checking to see if the time is after the start of the tone window\n",
    "    # Checking to see if the time is before the end of the tone window\n",
    "    if time >= first_tone_time - time_stamp_window and time <= first_tone_time + time_stamp_window:\n",
    "        within_interval_unit_times[first_tone_time].append((first_tone_time, index, time, good_unit_all_ids[index]))\n",
    "    if time >= second_tone_time - time_stamp_window and time <= second_tone_time + time_stamp_window:\n",
    "        within_interval_unit_times[second_tone_time].append((second_tone_time, index, time, good_unit_all_ids[index]))\n",
    "\n",
    "#    # Print Statement to check work    \n",
    "#     if 0 == index % 100:\n",
    "#         print(\"Unit Timestamp: {}\".format(time))\n",
    "#         print(\"Bin: {}\".format(current_bin))\n",
    "#         print(\"First Tone Time: {}\".format(first_tone_time))\n",
    "#         print(\"Second Tone Time: {}\".format(second_tone_time))\n",
    "\n"
   ]
  },
  {
   "cell_type": "code",
   "execution_count": null,
   "id": "18b0469f",
   "metadata": {},
   "outputs": [],
   "source": [
    "for key, value in within_interval_unit_times.items():\n",
    "    print(key)\n",
    "    print(value[:10])\n",
    "    break"
   ]
  },
  {
   "cell_type": "markdown",
   "id": "42301602",
   "metadata": {},
   "source": [
    "## Seeing which 100ms bin each unit time belongs to"
   ]
  },
  {
   "cell_type": "markdown",
   "id": "6bf9eeba",
   "metadata": {},
   "source": [
    "- Creating bins for each 100ms time interval"
   ]
  },
  {
   "cell_type": "code",
   "execution_count": null,
   "id": "26de1d4f",
   "metadata": {},
   "outputs": [],
   "source": [
    "bin_duration = 0.1"
   ]
  },
  {
   "cell_type": "code",
   "execution_count": null,
   "id": "0a55fd17",
   "metadata": {},
   "outputs": [],
   "source": [
    "# Seeing how many bins are in the duration\n",
    "# 0.1 is for 0.1 seconds or 100 miliseconds\n",
    "bins_with_100ms_range = int(trial_one_way_duration / bin_duration)"
   ]
  },
  {
   "cell_type": "code",
   "execution_count": null,
   "id": "27bb8d0c",
   "metadata": {},
   "outputs": [],
   "source": [
    "bins_with_100ms_range"
   ]
  },
  {
   "cell_type": "code",
   "execution_count": null,
   "id": "38d30789",
   "metadata": {},
   "outputs": [],
   "source": [
    "sampling_rate"
   ]
  },
  {
   "cell_type": "code",
   "execution_count": null,
   "id": "4e1abd45",
   "metadata": {},
   "outputs": [],
   "source": [
    "tone_unit_time_to_interval = {}\n",
    "# Making a list of all the bins for each tone time stamp\n",
    "for time in tone_time_stamps:\n",
    "    tone_unit_time_to_interval[time] = [time + num * (bin_duration * sampling_rate) for num in range(bins_with_100ms_range * -1, bins_with_100ms_range)]"
   ]
  },
  {
   "cell_type": "code",
   "execution_count": null,
   "id": "8788770b",
   "metadata": {},
   "outputs": [],
   "source": [
    "len(tone_unit_time_to_interval[tone_time_stamps[0]])"
   ]
  },
  {
   "cell_type": "code",
   "execution_count": null,
   "id": "802315fd",
   "metadata": {},
   "outputs": [],
   "source": [
    "tone_unit_time_to_interval[tone_time_stamps[0]][:25]"
   ]
  },
  {
   "cell_type": "markdown",
   "id": "0ec232a5",
   "metadata": {},
   "source": [
    "- Seeing which bin the tone time fits into"
   ]
  },
  {
   "cell_type": "code",
   "execution_count": null,
   "id": "494b71e5",
   "metadata": {},
   "outputs": [],
   "source": [
    "all_bin_mapping = None\n",
    "for key, value in within_interval_unit_times.items():\n",
    "    unit_fire_time = [fire_time for tone_time, index, fire_time, unit_id in value]\n",
    "    unit_fire_bin = np.digitize(unit_fire_time, tone_unit_time_to_interval[key], right=True)\n",
    "    current_tone_bin_map = np.hstack((np.array(value), unit_fire_bin[np.newaxis].T))\n",
    "    if all_bin_mapping is None:\n",
    "        all_bin_mapping = current_tone_bin_map\n",
    "    else: \n",
    "        all_bin_mapping = np.vstack((all_bin_mapping, current_tone_bin_map))\n",
    "    "
   ]
  },
  {
   "cell_type": "code",
   "execution_count": null,
   "id": "8a286308",
   "metadata": {},
   "outputs": [],
   "source": [
    "all_bin_mapping[:5]"
   ]
  },
  {
   "cell_type": "code",
   "execution_count": null,
   "id": "d213920f",
   "metadata": {},
   "outputs": [],
   "source": [
    "all_bin_mapping[-5:]"
   ]
  },
  {
   "cell_type": "markdown",
   "id": "d0635ba4",
   "metadata": {},
   "source": [
    "## Calculating Firing Rate"
   ]
  },
  {
   "cell_type": "code",
   "execution_count": null,
   "id": "e6ee143b",
   "metadata": {},
   "outputs": [],
   "source": [
    "from collections import Counter, defaultdict"
   ]
  },
  {
   "cell_type": "markdown",
   "id": "ccdfc450",
   "metadata": {},
   "source": [
    "- Creating a reference for all the tone bin combinations to each tone\n",
    "    - This is because we need a unique identifier for each tone and bin combination. So we will just add the numbers"
   ]
  },
  {
   "cell_type": "code",
   "execution_count": null,
   "id": "0b709476",
   "metadata": {},
   "outputs": [],
   "source": [
    "tone_bin_for_index = all_bin_mapping[:,0] + all_bin_mapping[:,4]"
   ]
  },
  {
   "cell_type": "code",
   "execution_count": null,
   "id": "5a530aea",
   "metadata": {},
   "outputs": [],
   "source": [
    "tone_bin_to_tone = np.hstack((tone_bin_for_index[np.newaxis].T, all_bin_mapping[:,0][np.newaxis].T))"
   ]
  },
  {
   "cell_type": "code",
   "execution_count": null,
   "id": "9ad336e6",
   "metadata": {},
   "outputs": [],
   "source": [
    "tone_bin_to_tone"
   ]
  },
  {
   "cell_type": "code",
   "execution_count": null,
   "id": "013c64b4",
   "metadata": {},
   "outputs": [],
   "source": [
    "tone_bin_to_tone = dict(zip(tone_bin_to_tone[:,0], tone_bin_to_tone[:,1]))"
   ]
  },
  {
   "cell_type": "code",
   "execution_count": null,
   "id": "3c8c006b",
   "metadata": {},
   "outputs": [],
   "source": [
    "tone_bin_to_tone"
   ]
  },
  {
   "cell_type": "code",
   "execution_count": null,
   "id": "13a1dc76",
   "metadata": {},
   "outputs": [],
   "source": [
    "tone_bin_for_index"
   ]
  },
  {
   "cell_type": "markdown",
   "id": "5709c755",
   "metadata": {},
   "source": [
    "- Getting the number of times each neuron fires"
   ]
  },
  {
   "cell_type": "code",
   "execution_count": null,
   "id": "aee15c68",
   "metadata": {},
   "outputs": [],
   "source": [
    "firing_counts = defaultdict(lambda: defaultdict(dict))\n",
    "for tone_time, index, firing_time, unit_id, bin_index in all_bin_mapping:\n",
    "    tone_bin = tone_time + bin_index\n",
    "    if firing_counts[unit_id][tone_bin]:\n",
    "        firing_counts[unit_id][tone_bin] += 1\n",
    "    else:\n",
    "        firing_counts[unit_id][tone_bin] = 1"
   ]
  },
  {
   "cell_type": "code",
   "execution_count": null,
   "id": "a78952ef",
   "metadata": {},
   "outputs": [],
   "source": [
    "firing_rate_df = pd.DataFrame.from_dict(firing_counts)"
   ]
  },
  {
   "cell_type": "code",
   "execution_count": null,
   "id": "2a956bfa",
   "metadata": {},
   "outputs": [],
   "source": [
    "firing_rate_df = firing_rate_df.fillna(value=0)"
   ]
  },
  {
   "cell_type": "code",
   "execution_count": null,
   "id": "b631a183",
   "metadata": {
    "scrolled": true
   },
   "outputs": [],
   "source": [
    "firing_rate_df.head()"
   ]
  },
  {
   "cell_type": "code",
   "execution_count": null,
   "id": "1a8e0b11",
   "metadata": {},
   "outputs": [],
   "source": [
    "firing_rate_df.loc[:].values"
   ]
  },
  {
   "cell_type": "markdown",
   "id": "c5872767",
   "metadata": {},
   "source": [
    "- Classifying each time stamp"
   ]
  },
  {
   "cell_type": "code",
   "execution_count": null,
   "id": "181f5166",
   "metadata": {},
   "outputs": [],
   "source": [
    "all_bin_mapping"
   ]
  },
  {
   "cell_type": "code",
   "execution_count": null,
   "id": "6db70a03",
   "metadata": {},
   "outputs": [],
   "source": [
    "all_bin_mapping[:, 0]"
   ]
  },
  {
   "cell_type": "code",
   "execution_count": null,
   "id": "307360d1",
   "metadata": {},
   "outputs": [],
   "source": [
    "all_bin_mapping[:, 2]"
   ]
  },
  {
   "cell_type": "markdown",
   "id": "a4719c1b",
   "metadata": {},
   "source": [
    "- Making a dictionary that maps all the firing times to the corresponding tone"
   ]
  },
  {
   "cell_type": "code",
   "execution_count": null,
   "id": "955641d5",
   "metadata": {},
   "outputs": [],
   "source": [
    "fire_to_tone_time = dict(zip(all_bin_mapping[:, 2], all_bin_mapping[:, 0]))"
   ]
  },
  {
   "cell_type": "code",
   "execution_count": null,
   "id": "ffbb7bc7",
   "metadata": {},
   "outputs": [],
   "source": [
    "fire_to_tone_time"
   ]
  },
  {
   "cell_type": "code",
   "execution_count": null,
   "id": "5be34189",
   "metadata": {},
   "outputs": [],
   "source": [
    "firing_rate_df = firing_rate_df.reset_index()"
   ]
  },
  {
   "cell_type": "markdown",
   "id": "77d8e122",
   "metadata": {},
   "source": [
    "- Labeling which tone time that fire time belongs to"
   ]
  },
  {
   "cell_type": "code",
   "execution_count": null,
   "id": "bc9795d6",
   "metadata": {},
   "outputs": [],
   "source": [
    "firing_rate_df[\"tone_time\"] = firing_rate_df[\"index\"].map(tone_bin_to_tone)"
   ]
  },
  {
   "cell_type": "code",
   "execution_count": null,
   "id": "7feabbb1",
   "metadata": {},
   "outputs": [],
   "source": [
    "firing_rate_df.head()"
   ]
  },
  {
   "cell_type": "code",
   "execution_count": null,
   "id": "c37269b1",
   "metadata": {},
   "outputs": [],
   "source": [
    "firing_rate_df[\"bin\"] = firing_rate_df[\"index\"] - firing_rate_df[\"tone_time\"]"
   ]
  },
  {
   "cell_type": "markdown",
   "id": "85ef486a",
   "metadata": {},
   "source": [
    "## Categorizing Rewarded vs Omitted for Training"
   ]
  },
  {
   "cell_type": "code",
   "execution_count": null,
   "id": "6a5a4697",
   "metadata": {
    "scrolled": true
   },
   "outputs": [],
   "source": [
    "tone_time_stamps_df"
   ]
  },
  {
   "cell_type": "code",
   "execution_count": null,
   "id": "085b7bf0",
   "metadata": {},
   "outputs": [],
   "source": [
    "\n",
    "tone_timestamp_to_trial_type = pd.Series(tone_time_stamps_df[\"tone_category\"].values, index=tone_time_stamps_df[\"tone_time_stamp\"]).to_dict()"
   ]
  },
  {
   "cell_type": "code",
   "execution_count": null,
   "id": "b5d93ed4",
   "metadata": {
    "scrolled": true
   },
   "outputs": [],
   "source": [
    "tone_timestamp_to_trial_type"
   ]
  },
  {
   "cell_type": "code",
   "execution_count": null,
   "id": "c21e9a02",
   "metadata": {},
   "outputs": [],
   "source": [
    "firing_rate_df[\"tone_label\"] = firing_rate_df[\"tone_time\"].map(tone_timestamp_to_trial_type)"
   ]
  },
  {
   "cell_type": "markdown",
   "id": "ca7ce881",
   "metadata": {},
   "source": [
    "## Categorizing win vs loss for competition"
   ]
  },
  {
   "cell_type": "code",
   "execution_count": null,
   "id": "3237a46e",
   "metadata": {},
   "outputs": [],
   "source": [
    "firing_rate_df.head()"
   ]
  },
  {
   "cell_type": "markdown",
   "id": "7efab01a",
   "metadata": {},
   "source": [
    "- We will be averaging using the bin number, because we are curious about how the firing rate changes 10 seconds before and after at each 100ms bin(averaging across sessions)\n",
    "    - And we will be averaging across trials that have the same trial type"
   ]
  },
  {
   "cell_type": "code",
   "execution_count": null,
   "id": "397167bd",
   "metadata": {
    "scrolled": true
   },
   "outputs": [],
   "source": [
    "averaged_firing_rate_df = firing_rate_df.groupby(['bin', 'tone_label']).mean()"
   ]
  },
  {
   "cell_type": "code",
   "execution_count": null,
   "id": "f816290f",
   "metadata": {},
   "outputs": [],
   "source": [
    "averaged_firing_rate_df"
   ]
  },
  {
   "cell_type": "code",
   "execution_count": null,
   "id": "a3d981b4",
   "metadata": {},
   "outputs": [],
   "source": [
    "averaged_firing_rate_df = averaged_firing_rate_df.reset_index()"
   ]
  },
  {
   "cell_type": "code",
   "execution_count": null,
   "id": "41e3123f",
   "metadata": {},
   "outputs": [],
   "source": [
    "averaged_firing_rate_df"
   ]
  },
  {
   "cell_type": "code",
   "execution_count": null,
   "id": "c66db20b",
   "metadata": {},
   "outputs": [],
   "source": [
    "averaged_firing_rate_df[\"tone_label\"].unique()"
   ]
  },
  {
   "cell_type": "markdown",
   "id": "3315d6e9",
   "metadata": {},
   "source": [
    "- Removing all the columns that don't have firing rate info\n",
    "    - AKA the index and the tone time"
   ]
  },
  {
   "cell_type": "code",
   "execution_count": null,
   "id": "b8589578",
   "metadata": {},
   "outputs": [],
   "source": [
    "numerical_columns = [col for col in averaged_firing_rate_df.columns if type(col) == int]"
   ]
  },
  {
   "cell_type": "markdown",
   "id": "64cd047d",
   "metadata": {},
   "source": [
    "- Transposing so that we get the spike unit number as the row, and the bin and trial type as the column"
   ]
  },
  {
   "cell_type": "code",
   "execution_count": null,
   "id": "5abb5196",
   "metadata": {},
   "outputs": [],
   "source": [
    "transposed_averaged_firing_rate_df = averaged_firing_rate_df[numerical_columns].transpose()"
   ]
  },
  {
   "cell_type": "code",
   "execution_count": null,
   "id": "01d7123d",
   "metadata": {},
   "outputs": [],
   "source": [
    "transposed_averaged_firing_rate_df = transposed_averaged_firing_rate_df.reset_index()"
   ]
  },
  {
   "cell_type": "code",
   "execution_count": null,
   "id": "563af7c2",
   "metadata": {},
   "outputs": [],
   "source": [
    "transposed_averaged_firing_rate_df = transposed_averaged_firing_rate_df.sort_values([\"index\"]).reset_index(drop=True)"
   ]
  },
  {
   "cell_type": "code",
   "execution_count": null,
   "id": "388ef624",
   "metadata": {},
   "outputs": [],
   "source": [
    "transposed_averaged_firing_rate_df"
   ]
  },
  {
   "cell_type": "code",
   "execution_count": null,
   "id": "c8aac2b6",
   "metadata": {},
   "outputs": [],
   "source": [
    "resetted_averaged_firing_rate_array = transposed_averaged_firing_rate_df.values"
   ]
  },
  {
   "cell_type": "code",
   "execution_count": null,
   "id": "20847fbe",
   "metadata": {},
   "outputs": [],
   "source": [
    "resetted_averaged_firing_rate_array"
   ]
  },
  {
   "cell_type": "markdown",
   "id": "d2b938cb",
   "metadata": {},
   "source": [
    "# PCA with Neuron Rows"
   ]
  },
  {
   "cell_type": "markdown",
   "id": "fea4fe17",
   "metadata": {},
   "source": [
    "## Standarizing the Data"
   ]
  },
  {
   "cell_type": "markdown",
   "id": "442f7c72",
   "metadata": {},
   "source": [
    "- TODO: Check why the 0s are being scaled differently"
   ]
  },
  {
   "cell_type": "code",
   "execution_count": null,
   "id": "2285ba5f",
   "metadata": {},
   "outputs": [],
   "source": [
    "from sklearn.preprocessing import StandardScaler"
   ]
  },
  {
   "cell_type": "code",
   "execution_count": null,
   "id": "6845205b",
   "metadata": {
    "scrolled": true
   },
   "outputs": [],
   "source": [
    "# Separating out the features\n",
    "x = resetted_averaged_firing_rate_array#.loc[:].values# Separating out the target\n",
    "resetted_averaged_firing_rate_array = StandardScaler().fit_transform(x)"
   ]
  },
  {
   "cell_type": "markdown",
   "id": "7562c655",
   "metadata": {},
   "source": [
    "## Calculating the PCA"
   ]
  },
  {
   "cell_type": "code",
   "execution_count": null,
   "id": "9bbae768",
   "metadata": {},
   "outputs": [],
   "source": [
    "from sklearn.decomposition import PCA\n"
   ]
  },
  {
   "cell_type": "code",
   "execution_count": null,
   "id": "4e915d3f",
   "metadata": {},
   "outputs": [],
   "source": [
    "pca = PCA(n_components=2)\n",
    "principalComponents = pca.fit_transform(resetted_averaged_firing_rate_array)\n",
    "principal_df = pd.DataFrame(data = principalComponents\n",
    "             , columns = ['principal component 1', 'principal component 2'])"
   ]
  },
  {
   "cell_type": "code",
   "execution_count": null,
   "id": "ca09a5cb",
   "metadata": {},
   "outputs": [],
   "source": [
    "principal_df.head()"
   ]
  },
  {
   "cell_type": "code",
   "execution_count": null,
   "id": "4a9d314d",
   "metadata": {},
   "outputs": [],
   "source": [
    "principal_df[\"principal component 1\"]"
   ]
  },
  {
   "cell_type": "code",
   "execution_count": null,
   "id": "bb5f8e36",
   "metadata": {},
   "outputs": [],
   "source": [
    "pc1_product = transposed_averaged_firing_rate_df.reset_index().multiply(principal_df[\"principal component 1\"], axis=\"index\")"
   ]
  },
  {
   "cell_type": "code",
   "execution_count": null,
   "id": "f5a542dc",
   "metadata": {},
   "outputs": [],
   "source": [
    "pc1_product"
   ]
  },
  {
   "cell_type": "code",
   "execution_count": null,
   "id": "495695bf",
   "metadata": {
    "scrolled": true
   },
   "outputs": [],
   "source": [
    "pc1_product.mean()"
   ]
  },
  {
   "cell_type": "code",
   "execution_count": null,
   "id": "e7362ed2",
   "metadata": {},
   "outputs": [],
   "source": [
    "pc2_product = transposed_averaged_firing_rate_df.reset_index().multiply(principal_df[\"principal component 2\"], axis=\"index\")"
   ]
  },
  {
   "cell_type": "code",
   "execution_count": null,
   "id": "5d57f376",
   "metadata": {},
   "outputs": [],
   "source": [
    "pc2_product"
   ]
  },
  {
   "cell_type": "code",
   "execution_count": null,
   "id": "4b3b9542",
   "metadata": {},
   "outputs": [],
   "source": [
    "pc2_product.mean()"
   ]
  },
  {
   "cell_type": "code",
   "execution_count": null,
   "id": "49cc15e4",
   "metadata": {},
   "outputs": [],
   "source": [
    "pc_product = pd.concat([pc1_product.mean(), pc2_product.mean()], axis=1).reset_index()"
   ]
  },
  {
   "cell_type": "code",
   "execution_count": null,
   "id": "6e883e44",
   "metadata": {},
   "outputs": [],
   "source": [
    "pc_product = pc_product[pc_product[\"bin\"].apply(lambda x: isinstance(x, int))]\n"
   ]
  },
  {
   "cell_type": "code",
   "execution_count": null,
   "id": "efe28778",
   "metadata": {},
   "outputs": [],
   "source": [
    "pc_product[\"before_during_after\"] = pc_product[\"bin\"].apply(lambda x: \"-5s to 0s\" if x < 50 else (\"0s to 5s\" if 50 <= x < 100 else \"5s to 10s\"))"
   ]
  },
  {
   "cell_type": "code",
   "execution_count": null,
   "id": "2b552c9f",
   "metadata": {},
   "outputs": [],
   "source": [
    "pc_product"
   ]
  },
  {
   "cell_type": "code",
   "execution_count": null,
   "id": "699a02e5",
   "metadata": {},
   "outputs": [],
   "source": [
    "pc_product[\"outcome_and_when\"] = pc_product.apply(lambda x: x[\"before_during_after\"] + \" \" + x[\"tone_label\"], axis=1)"
   ]
  },
  {
   "cell_type": "code",
   "execution_count": null,
   "id": "43127d95",
   "metadata": {},
   "outputs": [],
   "source": [
    "pc_product"
   ]
  },
  {
   "cell_type": "code",
   "execution_count": null,
   "id": "4035968f",
   "metadata": {},
   "outputs": [],
   "source": [
    "omission_categories = [name for name in sorted(pc_product[\"outcome_and_when\"].unique()) if \"omission\" in name]\n",
    "rewarded_categories = [name for name in sorted(pc_product[\"outcome_and_when\"].unique()) if \"rewarded\" in name]\n",
    "win_categories = [name for name in sorted(pc_product[\"outcome_and_when\"].unique()) if \"win\" in name]\n",
    "loss_categories = [name for name in sorted(pc_product[\"outcome_and_when\"].unique()) if \"loss\" in name]\n"
   ]
  },
  {
   "cell_type": "code",
   "execution_count": null,
   "id": "cd829ff3",
   "metadata": {},
   "outputs": [],
   "source": [
    "omission_pc = pc_product[pc_product[\"tone_label\"] == \"Omission\"]"
   ]
  },
  {
   "cell_type": "code",
   "execution_count": null,
   "id": "1f64a2e7",
   "metadata": {},
   "outputs": [],
   "source": [
    "omission_pc"
   ]
  },
  {
   "cell_type": "code",
   "execution_count": null,
   "id": "7caf037b",
   "metadata": {},
   "outputs": [],
   "source": [
    "averaged_omission_pc = omission_pc.groupby(np.arange(len(omission_pc))//3).mean().reset_index()"
   ]
  },
  {
   "cell_type": "code",
   "execution_count": null,
   "id": "36c577b6",
   "metadata": {},
   "outputs": [],
   "source": [
    "averaged_omission_pc"
   ]
  },
  {
   "cell_type": "code",
   "execution_count": null,
   "id": "ac037aba",
   "metadata": {},
   "outputs": [],
   "source": [
    "rewarded_pc = pc_product[pc_product[\"rewarded_omission_win_loss_catgeory\"] == \"Rewarded\"]"
   ]
  },
  {
   "cell_type": "code",
   "execution_count": null,
   "id": "78e8dae8",
   "metadata": {},
   "outputs": [],
   "source": [
    "averaged_rewarded_pc = rewarded_pc.groupby(np.arange(len(omission_pc))//3).mean().reset_index()"
   ]
  },
  {
   "cell_type": "code",
   "execution_count": null,
   "id": "a181932a",
   "metadata": {},
   "outputs": [],
   "source": [
    "plt.scatter(averaged_omission_pc[0], averaged_omission_pc[1], c=averaged_omission_pc[\"index\"], cmap='Reds')\n",
    "plt.scatter(averaged_rewarded_pc[0], averaged_rewarded_pc[1], c=averaged_rewarded_pc[\"index\"], cmap='Greens')\n",
    "\n",
    "plt.show()"
   ]
  },
  {
   "cell_type": "code",
   "execution_count": null,
   "id": "d88ce3c4",
   "metadata": {},
   "outputs": [],
   "source": [
    "plt.plot(averaged_omission_pc[0], averaged_omission_pc[1], '-o', c=\"red\")\n",
    "plt.plot(averaged_rewarded_pc[0], averaged_rewarded_pc[1], '-o', c=\"blue\")\n",
    "\n",
    "plt.show()"
   ]
  },
  {
   "cell_type": "code",
   "execution_count": null,
   "id": "8798e80e",
   "metadata": {},
   "outputs": [],
   "source": [
    "all_categories = sorted(pc_product[\"outcome_and_when\"].unique())"
   ]
  },
  {
   "cell_type": "code",
   "execution_count": null,
   "id": "f60ca106",
   "metadata": {},
   "outputs": [],
   "source": [
    "all_categories"
   ]
  },
  {
   "cell_type": "code",
   "execution_count": null,
   "id": "70f8ce31",
   "metadata": {},
   "outputs": [],
   "source": [
    "win: blue\n",
    "loss: yellow\n",
    "rewarded: green\n",
    "omission: red"
   ]
  },
  {
   "cell_type": "code",
   "execution_count": null,
   "id": "dd166149",
   "metadata": {},
   "outputs": [],
   "source": [
    "all_colors = [\"gold\", \"pink\", \"lightgreen\", \"lightblue\", \"orange\", \"red\", \"green\", \"cyan\", \"darkorange\", \"darkred\", \"darkgreen\", \"darkcyan\"]\n"
   ]
  },
  {
   "cell_type": "code",
   "execution_count": null,
   "id": "a717bd7c",
   "metadata": {
    "scrolled": true
   },
   "outputs": [],
   "source": [
    "fig = plt.figure(figsize = (8,8))\n",
    "ax = fig.add_subplot(1,1,1) \n",
    "ax.set_xlabel('principal component 1', fontsize = 15)\n",
    "ax.set_ylabel('principal component 2', fontsize = 15)\n",
    "ax.set_title('2 component PCA', fontsize = 20)\n",
    "targets = rewarded_categories\n",
    "colors = [\"lightblue\", \"cyan\", \"darkcyan\"]\n",
    "for target, color in zip(all_categories, all_colors):\n",
    "    indicesToKeep = pc_product['outcome_and_when'] == target\n",
    "    ax.scatter(pc_product.loc[indicesToKeep, 0]\n",
    "               , pc_product.loc[indicesToKeep, 1]\n",
    "               , c = color\n",
    "               , s = 50)\n",
    "ax.legend(all_categories)\n",
    "ax.grid()"
   ]
  },
  {
   "cell_type": "markdown",
   "id": "85123ae0",
   "metadata": {},
   "source": [
    "## Looking at each plot individually across time"
   ]
  },
  {
   "cell_type": "code",
   "execution_count": null,
   "id": "7298100f",
   "metadata": {
    "scrolled": true
   },
   "outputs": [],
   "source": [
    "fig = plt.figure(figsize = (8,8))\n",
    "ax = fig.add_subplot(1,1,1) \n",
    "ax.set_xlabel('principal component 1', fontsize = 15)\n",
    "ax.set_ylabel('principal component 2', fontsize = 15)\n",
    "ax.set_title('2 component PCA', fontsize = 20)\n",
    "targets = omission_categories\n",
    "colors = [\"pink\", \"red\", \"darkred\"]\n",
    "for target, color in zip(targets,colors):\n",
    "    indicesToKeep = pc_product['outcome_and_when'] == target\n",
    "    ax.scatter(pc_product.loc[indicesToKeep, 0]\n",
    "               , pc_product.loc[indicesToKeep, 1]\n",
    "               , c = color\n",
    "               , s = 50)\n",
    "ax.legend(targets)\n",
    "ax.grid()"
   ]
  },
  {
   "cell_type": "code",
   "execution_count": null,
   "id": "67c19a38",
   "metadata": {},
   "outputs": [],
   "source": []
  },
  {
   "cell_type": "code",
   "execution_count": null,
   "id": "1df3c30c",
   "metadata": {},
   "outputs": [],
   "source": [
    "fig = plt.figure(figsize = (8,8))\n",
    "ax = fig.add_subplot(1,1,1) \n",
    "ax.set_xlabel('principal component 1', fontsize = 15)\n",
    "ax.set_ylabel('principal component 2', fontsize = 15)\n",
    "ax.set_title('2 component PCA', fontsize = 20)\n",
    "targets = rewarded_categories\n",
    "colors = [\"lightgreen\", \"green\", \"darkgreen\"]\n",
    "for target, color in zip(targets,colors):\n",
    "    indicesToKeep = pc_product['outcome_and_when'] == target\n",
    "    ax.scatter(pc_product.loc[indicesToKeep, 0]\n",
    "               , pc_product.loc[indicesToKeep, 1]\n",
    "               , c = color\n",
    "               , s = 50)\n",
    "ax.legend(targets)\n",
    "ax.grid()"
   ]
  },
  {
   "cell_type": "code",
   "execution_count": null,
   "id": "6978f4c7",
   "metadata": {},
   "outputs": [],
   "source": [
    "fig = plt.figure(figsize = (8,8))\n",
    "ax = fig.add_subplot(1,1,1) \n",
    "ax.set_xlabel('principal component 1', fontsize = 15)\n",
    "ax.set_ylabel('principal component 2', fontsize = 15)\n",
    "ax.set_title('2 component PCA', fontsize = 20)\n",
    "targets = win_categories\n",
    "colors = [\"lightblue\", \"cyan\", \"darkcyan\"]\n",
    "for target, color in zip(targets,colors):\n",
    "    indicesToKeep = pc_product['outcome_and_when'] == target\n",
    "    ax.scatter(pc_product.loc[indicesToKeep, 0]\n",
    "               , pc_product.loc[indicesToKeep, 1]\n",
    "               , c = color\n",
    "               , s = 50)\n",
    "ax.legend(targets)\n",
    "ax.grid()"
   ]
  },
  {
   "cell_type": "code",
   "execution_count": null,
   "id": "85ea886a",
   "metadata": {},
   "outputs": [],
   "source": [
    "fig = plt.figure(figsize = (8,8))\n",
    "ax = fig.add_subplot(1,1,1) \n",
    "ax.set_xlabel('principal component 1', fontsize = 15)\n",
    "ax.set_ylabel('principal component 2', fontsize = 15)\n",
    "ax.set_title('2 component PCA', fontsize = 20)\n",
    "targets = loss_categories\n",
    "colors = [\"gold\", \"orange\", \"darkorange\"]\n",
    "for target, color in zip(targets,colors):\n",
    "    indicesToKeep = pc_product['outcome_and_when'] == target\n",
    "    ax.scatter(pc_product.loc[indicesToKeep, 0]\n",
    "               , pc_product.loc[indicesToKeep, 1]\n",
    "               , c = color\n",
    "               , s = 50)\n",
    "ax.legend(targets)\n",
    "ax.grid()"
   ]
  },
  {
   "cell_type": "code",
   "execution_count": null,
   "id": "c3a72e97",
   "metadata": {
    "scrolled": true
   },
   "outputs": [],
   "source": [
    "Message List\n",
    "\n",
    "    Monday\n",
    "    Hey Nancy! Sounds like a plan with processi... by Iwata,Ryo L\n",
    "    Iwata,Ryo LMonday 2:40 PM\n",
    "\n",
    "    Hey Nancy! Sounds like a plan with processing the other recordings! Would there be an opportunity to record from other animals? I know it'll take at least a month with surgerys and training the mice. If not, then I'll try thinking of other things to look at with our current recordings like incorporating SLEAP and what not.\n",
    "\n",
    "     \n",
    "\n",
    "    As for hours, I didn't have the chance to work this weekend. But will update you before with any extra hours I do this week or weekend.\n",
    "    Profile picture of Padilla-Coreano, Nancy.\n",
    "    how many good recordings do you have? I thi... by Padilla-Coreano, Nancy\n",
    "    Padilla-Coreano, NancyMonday 2:44 PM\n",
    "\n",
    "    how many good recordings do you have? I think you had 2 good animals and ran them against all their cagemates, so it should be 6 good recordings from 2 mice?\n",
    "    6 recordings is not a lot but could be enou... by Padilla-Coreano, Nancy\n",
    "    Padilla-Coreano, Nancy\n",
    "    Monday 2:45 PM\n",
    "\n",
    "    6 recordings is not a lot but could be enough for the poster\n",
    "    start processing together the alone+comp se... by Padilla-Coreano, Nancy\n",
    "    Padilla-Coreano, Nancy\n",
    "    Monday 2:46 PM\n",
    "\n",
    "    start processing together the alone+comp sessions for those 6 good recordings and i will make a meeting with you where we will make a game plan for the analysis. The meeting wont be until Jan 19 because I have to focus on this presentation but till then its a good idea to 1. spike sort all the good sessions 2. try to run videos in sleap\n",
    "    Tuesday\n",
    "    Profile picture of Padilla-Coreano, Nancy.\n",
    "    hey Leo, can you remind me when is your pos... by Padilla-Coreano, Nancy\n",
    "    Padilla-Coreano, NancyTuesday 3:42 PM\n",
    "\n",
    "    hey Leo, can you remind me when is your poster presentation in the UF research day?\n",
    "    It's on February 28th, thank you for checki... by Iwata,Ryo L\n",
    "    Iwata,Ryo LTuesday 5:37 PM\n",
    "\n",
    "    It's on February 28th, thank you for checking in about that! I can make a rough timeline today or tomorrow, and have you make corrections or suggestions if that works.\n",
    "\n",
    "Yesterday\n",
    "Hey Nancy! Here's the tentative plans I had... by Iwata,Ryo L\n",
    "Iwata,Ryo LYesterday 5:38 PM\n",
    "\n",
    "Hey Nancy! Here's the tentative plans I had for the poster: https://garnet-rotate-01f.notion.site/UF-MED-Poster-Timeline-64cfc246010f4b8ab1aae2abd53b721d\n",
    "\n",
    " \n",
    "\n",
    "I still need to read up/think of ways to analyze the ephys and the SLEAP data. So I'll add more as things come up. But it includes a rough timeline I had in mind. I've finished the spike sorting for the ephys recordings and currently trying to get the the predictions for SLEAP on the competition videos that I've reencoded. I'm not sure about the quality of the spike sorting or the ephys recording, so I'll send you some photos or show you after our meetings tomorrow.\n",
    "Url Preview for UF MED Poster Timeline\n",
    "UF MED Poster Timeline\n",
    "\n",
    "https://research.med.ufl.edu/2023-com-celebration-of-research/\n",
    "garnet-rotate-01f.notion.site\n",
    "Profile picture of Padilla-Coreano, Nancy.\n",
    "I will look at them closely tomorrow mornin by Padilla-Coreano, Nancy\n",
    "Padilla-Coreano, NancyYesterday 5:58 PM\n",
    "\n",
    "I will look at them closely tomorrow morning\n",
    "in the meantime I have a favor to ask. I ne... by Padilla-Coreano, Nancy\n",
    "Padilla-Coreano, Nancy\n",
    "Yesterday 5:58 PM\n",
    "\n",
    "in the meantime I have a favor to ask. I need an example of all the LFPs we recorded simultaneously from different brain regions\n",
    "I think its 4 regions? by Padilla-Coreano, Nancy\n",
    "Padilla-Coreano, Nancy\n",
    "Yesterday 5:59 PM\n",
    "\n",
    "I think its 4 regions?\n",
    "or 5? by Padilla-Coreano, Nancy\n",
    "Padilla-Coreano, Nancy\n",
    "Yesterday 5:59 PM\n",
    "\n",
    "or 5?\n",
    "counting the mPFC by Padilla-Coreano, Nancy\n",
    "Padilla-Coreano, Nancy\n",
    "Yesterday 5:59 PM\n",
    "\n",
    "counting the mPFC\n",
    "Ill make a cartoon tomorrow morning so you ... by Padilla-Coreano, Nancy\n",
    "Padilla-Coreano, Nancy\n",
    "Yesterday 5:59 PM\n",
    "\n",
    "Ill make a cartoon tomorrow morning so you know how to make the plot\n",
    "its for my talk, so i need it asap! by Padilla-Coreano, Nancy\n",
    "Padilla-Coreano, Nancy\n",
    "Yesterday 5:59 PM\n",
    "\n",
    "its for my talk, so i need it asap!\n",
    "im recording the final version Wed morning ... by Padilla-Coreano, Nancy\n",
    "Padilla-Coreano, Nancy\n",
    "Yesterday 6:00 PM\n",
    "\n",
    "im recording the final version Wed morning so it needs to be finalize by Monday so I can memorize it\n",
    "Today\n",
    "Sounds like a plan Nancy! Would it be a plo... by Iwata,Ryo L\n",
    "Iwata,Ryo L11:40 AM\n",
    "Sounds like a plan Nancy! Would it be a plot comparing the power for each condition and each region. And definitely can try to get it done by today so that you have the weekend to practice.\n",
    "Profile picture of Padilla-Coreano, Nancy.\n",
    "No its even simpler than that I left u ... by Padilla-Coreano, Nancy\n",
    "Padilla-Coreano, Nancy12:02 PM\n",
    "No its even simpler than that\n",
    "I left u written instructions on your desk\n",
    "Thank you!! by Padilla-Coreano, Nancy\n",
    "Padilla-Coreano, Nancy\n",
    "12:03 PM\n",
    "Thank you!!\n",
    "Hey Nancy! So for the LFP plots, I filtered... by Iwata,Ryo L\n",
    "Iwata,Ryo L4:13 PM\n",
    "Edited\n",
    "\n",
    "Hey Nancy! So for the LFP plots, I filtered for frequencies between 1 and 300. And then took the common median reference. I have it in my notes that the EIB channels for the brain regions were:\n",
    "\n",
    "    MD1, vHPC17, BLA16, LH15\n",
    "\n",
    "So that would make the channels on Trodes(Which I converted with your useful chart: https://garnet-rotate-01f.notion.site/7f0e40b5251e4176ad4673389d13a36b?v=3624312cf3db4ab694be679b360660fc) :\n",
    "\n",
    "    MD32, vHPC16, BLA17, LH16\n",
    "\n",
    "And to get the indexes in Spikeinterface, I just added 1 to each. I'll continue looking for a segment with good noise and reformat the plot. Let me know if there's any steps that I need to add or correct!\n",
    "\n",
    " \n",
    "\n",
    "image\n",
    "\n",
    " \n",
    "Url Preview for Mapping of channels from EIB32 narrow to spikegadgets\n",
    "Mapping of channels from EIB32 narrow to spikegadgets\n",
    "\n",
    "A new tool for teams & individuals that blends everyday work apps into one.\n",
    "garnet-rotate-01f.notion.site\n",
    "\n",
    "has context menu\n",
    "\n",
    "\n",
    "fig = plt.figure(figsize = (8,8))\n",
    "ax = fig.add_subplot(1,1,1) \n",
    "ax.set_xlabel('Principal Component 1', fontsize = 15)\n",
    "ax.set_ylabel('Principal Component 2', fontsize = 15)\n",
    "ax.set_title('2 component PCA', fontsize = 20)\n",
    "targets = ['-5s to 0s Omission', '-5s to 0s Rewarded', '-5s to 0s Loss', '-5s to 0s Win']\n",
    "colors = [\"pink\", \"lightgreen\", \"gold\", \"lightblue\"]\n",
    "for target, color in zip(targets,colors):\n",
    "    indicesToKeep = pc_product['outcome_and_when'] == target\n",
    "    ax.scatter(pc_product.loc[indicesToKeep, 0]\n",
    "               , pc_product.loc[indicesToKeep, 1]\n",
    "               , c = color\n",
    "               , s = 50)\n",
    "ax.legend(targets)\n",
    "ax.grid()"
   ]
  },
  {
   "cell_type": "code",
   "execution_count": null,
   "id": "5fc2d23b",
   "metadata": {
    "scrolled": true
   },
   "outputs": [],
   "source": [
    "fig = plt.figure(figsize = (8,8))\n",
    "ax = fig.add_subplot(1,1,1) \n",
    "ax.set_xlabel('Principal Component 1', fontsize = 15)\n",
    "ax.set_ylabel('Principal Component 2', fontsize = 15)\n",
    "ax.set_title('2 component PCA', fontsize = 20)\n",
    "targets = ['0s to 5s Omission', '0s to 5s Rewarded', '0s to 5s Loss', '0s to 5s Win']\n",
    "colors = [\"red\", \"green\", \"orange\", \"cyan\"]\n",
    "for target, color in zip(targets,colors):\n",
    "    indicesToKeep = pc_product['outcome_and_when'] == target\n",
    "    ax.scatter(pc_product.loc[indicesToKeep, 0]\n",
    "               , pc_product.loc[indicesToKeep, 1]\n",
    "               , c = color\n",
    "               , s = 50)\n",
    "ax.legend(targets)\n",
    "ax.grid()"
   ]
  },
  {
   "cell_type": "code",
   "execution_count": null,
   "id": "dd3b647c",
   "metadata": {},
   "outputs": [],
   "source": [
    "all_colors = [\"gold\", \"pink\", \"lightgreen\", \"lightblue\", \"orange\", \"red\", \"green\", \"cyan\", \"darkorange\", \"darkred\", \"darkgreen\", \"darkcyan\"]\n"
   ]
  },
  {
   "cell_type": "code",
   "execution_count": null,
   "id": "741c85fb",
   "metadata": {
    "scrolled": true
   },
   "outputs": [],
   "source": [
    "fig = plt.figure(figsize = (8,8))\n",
    "ax = fig.add_subplot(1,1,1) \n",
    "ax.set_xlabel('Principal Component 1', fontsize = 15)\n",
    "ax.set_ylabel('Principal Component 2', fontsize = 15)\n",
    "ax.set_title('2 component PCA', fontsize = 20)\n",
    "targets = ['5s to 10s Omission', '5s to 10s Rewarded', '5s to 10s Loss', '5s to 10s Win']\n",
    "colors = [\"darkred\", \"darkgreen\", \"darkorange\", \"darkcyan\"]\n",
    "for target, color in zip(targets,colors):\n",
    "    indicesToKeep = pc_product['outcome_and_when'] == target\n",
    "    ax.scatter(pc_product.loc[indicesToKeep, 0]\n",
    "               , pc_product.loc[indicesToKeep, 1]\n",
    "               , c = color\n",
    "               , s = 50)\n",
    "ax.legend(targets)\n",
    "ax.grid()"
   ]
  },
  {
   "cell_type": "code",
   "execution_count": null,
   "id": "50b12b3f",
   "metadata": {},
   "outputs": [],
   "source": []
  },
  {
   "cell_type": "code",
   "execution_count": null,
   "id": "f763021b",
   "metadata": {},
   "outputs": [],
   "source": []
  },
  {
   "cell_type": "code",
   "execution_count": null,
   "id": "0c360424",
   "metadata": {},
   "outputs": [],
   "source": []
  },
  {
   "cell_type": "code",
   "execution_count": null,
   "id": "cdb3efb0",
   "metadata": {},
   "outputs": [],
   "source": [
    "firing_rate_and_pca_df = pd.concat([transposed_averaged_firing_rate_df.reset_index(), principal_df], axis=1)"
   ]
  },
  {
   "cell_type": "code",
   "execution_count": null,
   "id": "2abed604",
   "metadata": {},
   "outputs": [],
   "source": [
    "firing_rate_and_pca_df"
   ]
  },
  {
   "cell_type": "code",
   "execution_count": null,
   "id": "ba20db8d",
   "metadata": {},
   "outputs": [],
   "source": [
    "firing_rate_and_pca_df"
   ]
  },
  {
   "cell_type": "code",
   "execution_count": null,
   "id": "45d506dc",
   "metadata": {
    "scrolled": true
   },
   "outputs": [],
   "source": [
    "principal_df.shape"
   ]
  },
  {
   "cell_type": "code",
   "execution_count": null,
   "id": "2ebd7402",
   "metadata": {},
   "outputs": [],
   "source": [
    "firing_rate_and_pca_df[\"before_during_after\"] = firing_rate_and_pca_df[\"bin\"].apply(lambda x: \"-5s to 0s\" if x < 50 else (\"0s to 5s\" if 50 <= x < 100 else \"5s to 10s\"))"
   ]
  },
  {
   "cell_type": "code",
   "execution_count": null,
   "id": "327f9ef1",
   "metadata": {},
   "outputs": [],
   "source": []
  },
  {
   "cell_type": "code",
   "execution_count": null,
   "id": "7b29cf00",
   "metadata": {},
   "outputs": [],
   "source": [
    "firing_rate_and_pca_df[\"outcome_and_when\"] = firing_rate_and_pca_df.apply(lambda x: x[\"before_during_after\"] + \" \" + x[\"rewarded_category\"], axis=1)"
   ]
  },
  {
   "cell_type": "code",
   "execution_count": null,
   "id": "f015cb45",
   "metadata": {
    "scrolled": true
   },
   "outputs": [],
   "source": [
    "firing_rate_and_pca_df"
   ]
  },
  {
   "cell_type": "code",
   "execution_count": null,
   "id": "5420107a",
   "metadata": {},
   "outputs": [],
   "source": [
    "sorted(firing_rate_and_pca_df[\"outcome_and_when\"].unique())"
   ]
  },
  {
   "cell_type": "code",
   "execution_count": null,
   "id": "e8301d6e",
   "metadata": {},
   "outputs": [],
   "source": []
  },
  {
   "cell_type": "code",
   "execution_count": null,
   "id": "bf10097e",
   "metadata": {},
   "outputs": [],
   "source": [
    "fig = plt.figure(figsize = (8,8))\n",
    "ax = fig.add_subplot(1,1,1) \n",
    "ax.set_xlabel('Principal Component 1', fontsize = 15)\n",
    "ax.set_ylabel('Principal Component 2', fontsize = 15)\n",
    "ax.set_title('2 component PCA', fontsize = 20)\n",
    "targets = omission_categories\n",
    "colors = [\"pink\", \"red\", \"darkred\"]\n",
    "for target, color in zip(targets,colors):\n",
    "    indicesToKeep = firing_rate_and_pca_df['outcome_and_when'] == target\n",
    "    ax.scatter(firing_rate_and_pca_df.loc[indicesToKeep, 'principal component 1']\n",
    "               , firing_rate_and_pca_df.loc[indicesToKeep, 'principal component 2']\n",
    "               , c = color\n",
    "               , s = 50)\n",
    "ax.legend(targets)\n",
    "ax.grid()"
   ]
  },
  {
   "cell_type": "code",
   "execution_count": null,
   "id": "2679ef49",
   "metadata": {},
   "outputs": [],
   "source": [
    "fig = plt.figure(figsize = (8,8))\n",
    "ax = fig.add_subplot(1,1,1) \n",
    "ax.set_xlabel('Principal Component 1', fontsize = 15)\n",
    "ax.set_ylabel('Principal Component 2', fontsize = 15)\n",
    "ax.set_title('2 component PCA', fontsize = 20)\n",
    "targets = omission_categories\n",
    "colors = [\"lightblue\", \"cyan\", \"darkcyan\"]\n",
    "for target, color in zip(targets,colors):\n",
    "    indicesToKeep = firing_rate_and_pca_df['outcome_and_when'] == target\n",
    "    ax.scatter(firing_rate_and_pca_df.loc[indicesToKeep, 'principal component 1']\n",
    "               , firing_rate_and_pca_df.loc[indicesToKeep, 'principal component 2']\n",
    "               , c = color\n",
    "               , s = 50)\n",
    "ax.legend(targets)\n",
    "ax.grid()"
   ]
  },
  {
   "cell_type": "code",
   "execution_count": null,
   "id": "85074b14",
   "metadata": {
    "scrolled": true
   },
   "outputs": [],
   "source": [
    "fig = plt.figure(figsize = (8,8))\n",
    "ax = fig.add_subplot(1,1,1) \n",
    "ax.set_xlabel('Principal Component 1', fontsize = 15)\n",
    "ax.set_ylabel('Principal Component 2', fontsize = 15)\n",
    "ax.set_title('2 component PCA', fontsize = 20)\n",
    "targets = omission_categories\n",
    "colors = [\"lightblue\", \"cyan\", \"darkcyan\"]\n",
    "for target, color in zip(targets,colors):\n",
    "    indicesToKeep = firing_rate_and_pca_df['outcome_and_when'] == target\n",
    "    ax.scatter(firing_rate_and_pca_df.loc[indicesToKeep, 'principal component 1']\n",
    "               , firing_rate_and_pca_df.loc[indicesToKeep, 'principal component 2']\n",
    "               , c = color\n",
    "               , s = 50)\n",
    "ax.legend(targets)\n",
    "ax.grid()"
   ]
  },
  {
   "cell_type": "code",
   "execution_count": null,
   "id": "abdd6564",
   "metadata": {},
   "outputs": [],
   "source": [
    "['-5s to 0s Omission',\n",
    " '-5s to 0s Rewarded',\n",
    " '0s to 5s Omission',\n",
    " '0s to 5s Rewarded',\n",
    " '5s to 10s Omission',\n",
    " '5s to 10s Rewarded']"
   ]
  },
  {
   "cell_type": "code",
   "execution_count": null,
   "id": "a6c072cf",
   "metadata": {},
   "outputs": [],
   "source": [
    "fig = plt.figure(figsize = (8,8))\n",
    "ax = fig.add_subplot(1,1,1) \n",
    "ax.set_xlabel('Principal Component 1', fontsize = 15)\n",
    "ax.set_ylabel('Principal Component 2', fontsize = 15)\n",
    "ax.set_title('2 component PCA', fontsize = 20)\n",
    "targets = ['-5s to 0s Omission', '-5s to 0s Rewarded']\n",
    "colors = [\"pink\", \"lightblue\"]\n",
    "for target, color in zip(targets,colors):\n",
    "    indicesToKeep = firing_rate_and_pca_df['outcome_and_when'] == target\n",
    "    ax.scatter(firing_rate_and_pca_df.loc[indicesToKeep, 'principal component 1']\n",
    "               , firing_rate_and_pca_df.loc[indicesToKeep, 'principal component 2']\n",
    "               , c = color\n",
    "               , s = 50)\n",
    "ax.legend(targets)\n",
    "ax.grid()"
   ]
  },
  {
   "cell_type": "code",
   "execution_count": null,
   "id": "99a617a2",
   "metadata": {},
   "outputs": [],
   "source": [
    "fig = plt.figure(figsize = (8,8))\n",
    "ax = fig.add_subplot(1,1,1) \n",
    "ax.set_xlabel('Principal Component 1', fontsize = 15)\n",
    "ax.set_ylabel('Principal Component 2', fontsize = 15)\n",
    "ax.set_title('2 component PCA', fontsize = 20)\n",
    "targets = ['0s to 5s Omission', '0s to 5s Rewarded']\n",
    "colors = [\"red\", \"cyan\"]\n",
    "for target, color in zip(targets,colors):\n",
    "    indicesToKeep = firing_rate_and_pca_df['outcome_and_when'] == target\n",
    "    ax.scatter(firing_rate_and_pca_df.loc[indicesToKeep, 'principal component 1']\n",
    "               , firing_rate_and_pca_df.loc[indicesToKeep, 'principal component 2']\n",
    "               , c = color\n",
    "               , s = 50)\n",
    "ax.legend(targets)\n",
    "ax.grid()"
   ]
  },
  {
   "cell_type": "code",
   "execution_count": null,
   "id": "551e2c3b",
   "metadata": {
    "scrolled": true
   },
   "outputs": [],
   "source": [
    "fig = plt.figure(figsize = (8,8))\n",
    "ax = fig.add_subplot(1,1,1) \n",
    "ax.set_xlabel('Principal Component 1', fontsize = 15)\n",
    "ax.set_ylabel('Principal Component 2', fontsize = 15)\n",
    "ax.set_title('2 component PCA', fontsize = 20)\n",
    "targets = ['5s to 10s Omission', '5s to 10s Rewarded']\n",
    "colors = [\"darkred\", \"darkcyan\"]\n",
    "for target, color in zip(targets,colors):\n",
    "    indicesToKeep = firing_rate_and_pca_df['outcome_and_when'] == target\n",
    "    ax.scatter(firing_rate_and_pca_df.loc[indicesToKeep, 'principal component 1']\n",
    "               , firing_rate_and_pca_df.loc[indicesToKeep, 'principal component 2']\n",
    "               , c = color\n",
    "               , s = 50)\n",
    "ax.legend(targets)\n",
    "ax.grid()"
   ]
  },
  {
   "cell_type": "code",
   "execution_count": null,
   "id": "30b2cb88",
   "metadata": {},
   "outputs": [],
   "source": []
  },
  {
   "cell_type": "markdown",
   "id": "656ea0f5",
   "metadata": {},
   "source": [
    "# PCA with Time Bin Rows"
   ]
  },
  {
   "cell_type": "markdown",
   "id": "f31cdad5",
   "metadata": {},
   "source": [
    "## Standarizing the Data"
   ]
  },
  {
   "cell_type": "markdown",
   "id": "33e7fde5",
   "metadata": {},
   "source": [
    "- TODO: Check why the 0s are being scaled differently"
   ]
  },
  {
   "cell_type": "code",
   "execution_count": null,
   "id": "793b69de",
   "metadata": {},
   "outputs": [],
   "source": [
    "from sklearn.preprocessing import StandardScaler"
   ]
  },
  {
   "cell_type": "code",
   "execution_count": null,
   "id": "3ced4afd",
   "metadata": {
    "scrolled": true
   },
   "outputs": [],
   "source": [
    "# Separating out the features\n",
    "x = resetted_averaged_firing_rate_array#.loc[:].values# Separating out the target\n",
    "resetted_averaged_firing_rate_array = StandardScaler().fit_transform(x)"
   ]
  },
  {
   "cell_type": "markdown",
   "id": "d6b63a24",
   "metadata": {},
   "source": [
    "## Calculating the PCA"
   ]
  },
  {
   "cell_type": "code",
   "execution_count": null,
   "id": "1567d6c7",
   "metadata": {},
   "outputs": [],
   "source": [
    "from sklearn.decomposition import PCA\n"
   ]
  },
  {
   "cell_type": "code",
   "execution_count": null,
   "id": "8f0ac176",
   "metadata": {},
   "outputs": [],
   "source": [
    "pca = PCA(n_components=2)\n",
    "principalComponents = pca.fit_transform(resetted_averaged_firing_rate_array)\n",
    "principal_df = pd.DataFrame(data = principalComponents\n",
    "             , columns = ['principal component 1', 'principal component 2'])"
   ]
  },
  {
   "cell_type": "code",
   "execution_count": null,
   "id": "66b05d0f",
   "metadata": {},
   "outputs": [],
   "source": [
    "principal_df.head()"
   ]
  },
  {
   "cell_type": "code",
   "execution_count": null,
   "id": "826b1014",
   "metadata": {
    "scrolled": true
   },
   "outputs": [],
   "source": [
    "principal_df.shape"
   ]
  },
  {
   "cell_type": "code",
   "execution_count": null,
   "id": "0b4f10b2",
   "metadata": {
    "scrolled": true
   },
   "outputs": [],
   "source": [
    "principal_df.shape"
   ]
  },
  {
   "cell_type": "code",
   "execution_count": null,
   "id": "457441bc",
   "metadata": {},
   "outputs": [],
   "source": [
    "firing_rate_and_pca_df = pd.concat([resetted_averaged_firing_rate_df, principal_df], axis=1)"
   ]
  },
  {
   "cell_type": "code",
   "execution_count": null,
   "id": "6c9430b1",
   "metadata": {},
   "outputs": [],
   "source": [
    "firing_rate_and_pca_df[\"before_during_after\"] = firing_rate_and_pca_df[\"bin\"].apply(lambda x: \"-5s to 0s\" if x < 50 else (\"0s to 5s\" if 50 <= x < 100 else \"5s to 10s\"))"
   ]
  },
  {
   "cell_type": "code",
   "execution_count": null,
   "id": "52effa53",
   "metadata": {},
   "outputs": [],
   "source": []
  },
  {
   "cell_type": "code",
   "execution_count": null,
   "id": "fd06ee8e",
   "metadata": {},
   "outputs": [],
   "source": [
    "firing_rate_and_pca_df[\"outcome_and_when\"] = firing_rate_and_pca_df.apply(lambda x: x[\"before_during_after\"] + \" \" + x[\"rewarded_category\"], axis=1)"
   ]
  },
  {
   "cell_type": "code",
   "execution_count": null,
   "id": "ef22e05b",
   "metadata": {
    "scrolled": true
   },
   "outputs": [],
   "source": [
    "firing_rate_and_pca_df"
   ]
  },
  {
   "cell_type": "code",
   "execution_count": null,
   "id": "a08e19b3",
   "metadata": {},
   "outputs": [],
   "source": [
    "sorted(firing_rate_and_pca_df[\"outcome_and_when\"].unique())"
   ]
  },
  {
   "cell_type": "code",
   "execution_count": null,
   "id": "b48a5ca2",
   "metadata": {},
   "outputs": [],
   "source": [
    "omission_categories = [name for name in sorted(firing_rate_and_pca_df[\"outcome_and_when\"].unique()) if \"Omission\" in name]\n",
    "rewarded_categories = [name for name in sorted(firing_rate_and_pca_df[\"outcome_and_when\"].unique()) if \"Rewarded\" in name]\n"
   ]
  },
  {
   "cell_type": "code",
   "execution_count": null,
   "id": "6e9cd6a5",
   "metadata": {},
   "outputs": [],
   "source": []
  },
  {
   "cell_type": "code",
   "execution_count": null,
   "id": "4e193754",
   "metadata": {},
   "outputs": [],
   "source": [
    "fig = plt.figure(figsize = (8,8))\n",
    "ax = fig.add_subplot(1,1,1) \n",
    "ax.set_xlabel('Principal Component 1', fontsize = 15)\n",
    "ax.set_ylabel('Principal Component 2', fontsize = 15)\n",
    "ax.set_title('2 component PCA', fontsize = 20)\n",
    "targets = omission_categories\n",
    "colors = [\"pink\", \"red\", \"darkred\"]\n",
    "for target, color in zip(targets,colors):\n",
    "    indicesToKeep = firing_rate_and_pca_df['outcome_and_when'] == target\n",
    "    ax.scatter(firing_rate_and_pca_df.loc[indicesToKeep, 'principal component 1']\n",
    "               , firing_rate_and_pca_df.loc[indicesToKeep, 'principal component 2']\n",
    "               , c = color\n",
    "               , s = 50)\n",
    "ax.legend(targets)\n",
    "ax.grid()"
   ]
  },
  {
   "cell_type": "code",
   "execution_count": null,
   "id": "d7181462",
   "metadata": {
    "scrolled": true
   },
   "outputs": [],
   "source": [
    "fig = plt.figure(figsize = (8,8))\n",
    "ax = fig.add_subplot(1,1,1) \n",
    "ax.set_xlabel('Principal Component 1', fontsize = 15)\n",
    "ax.set_ylabel('Principal Component 2', fontsize = 15)\n",
    "ax.set_title('2 component PCA', fontsize = 20)\n",
    "targets = omission_categories\n",
    "colors = [\"lightblue\", \"cyan\", \"darkcyan\"]\n",
    "for target, color in zip(targets,colors):\n",
    "    indicesToKeep = firing_rate_and_pca_df['outcome_and_when'] == target\n",
    "    ax.scatter(firing_rate_and_pca_df.loc[indicesToKeep, 'principal component 1']\n",
    "               , firing_rate_and_pca_df.loc[indicesToKeep, 'principal component 2']\n",
    "               , c = color\n",
    "               , s = 50)\n",
    "ax.legend(targets)\n",
    "ax.grid()"
   ]
  },
  {
   "cell_type": "code",
   "execution_count": null,
   "id": "e982e7cc",
   "metadata": {},
   "outputs": [],
   "source": [
    "['-5s to 0s Omission',\n",
    " '-5s to 0s Rewarded',\n",
    " '0s to 5s Omission',\n",
    " '0s to 5s Rewarded',\n",
    " '5s to 10s Omission',\n",
    " '5s to 10s Rewarded']"
   ]
  },
  {
   "cell_type": "code",
   "execution_count": null,
   "id": "042abccf",
   "metadata": {},
   "outputs": [],
   "source": [
    "fig = plt.figure(figsize = (8,8))\n",
    "ax = fig.add_subplot(1,1,1) \n",
    "ax.set_xlabel('Principal Component 1', fontsize = 15)\n",
    "ax.set_ylabel('Principal Component 2', fontsize = 15)\n",
    "ax.set_title('2 component PCA', fontsize = 20)\n",
    "targets = ['-5s to 0s Omission', '-5s to 0s Rewarded']\n",
    "colors = [\"pink\", \"lightblue\"]\n",
    "for target, color in zip(targets,colors):\n",
    "    indicesToKeep = firing_rate_and_pca_df['outcome_and_when'] == target\n",
    "    ax.scatter(firing_rate_and_pca_df.loc[indicesToKeep, 'principal component 1']\n",
    "               , firing_rate_and_pca_df.loc[indicesToKeep, 'principal component 2']\n",
    "               , c = color\n",
    "               , s = 50)\n",
    "ax.legend(targets)\n",
    "ax.grid()"
   ]
  },
  {
   "cell_type": "code",
   "execution_count": null,
   "id": "69cadebd",
   "metadata": {},
   "outputs": [],
   "source": [
    "fig = plt.figure(figsize = (8,8))\n",
    "ax = fig.add_subplot(1,1,1) \n",
    "ax.set_xlabel('Principal Component 1', fontsize = 15)\n",
    "ax.set_ylabel('Principal Component 2', fontsize = 15)\n",
    "ax.set_title('2 component PCA', fontsize = 20)\n",
    "targets = ['0s to 5s Omission', '0s to 5s Rewarded']\n",
    "colors = [\"red\", \"cyan\"]\n",
    "for target, color in zip(targets,colors):\n",
    "    indicesToKeep = firing_rate_and_pca_df['outcome_and_when'] == target\n",
    "    ax.scatter(firing_rate_and_pca_df.loc[indicesToKeep, 'principal component 1']\n",
    "               , firing_rate_and_pca_df.loc[indicesToKeep, 'principal component 2']\n",
    "               , c = color\n",
    "               , s = 50)\n",
    "ax.legend(targets)\n",
    "ax.grid()"
   ]
  },
  {
   "cell_type": "code",
   "execution_count": null,
   "id": "bb17084a",
   "metadata": {},
   "outputs": [],
   "source": [
    "fig = plt.figure(figsize = (8,8))\n",
    "ax = fig.add_subplot(1,1,1) \n",
    "ax.set_xlabel('Principal Component 1', fontsize = 15)\n",
    "ax.set_ylabel('Principal Component 2', fontsize = 15)\n",
    "ax.set_title('2 component PCA', fontsize = 20)\n",
    "targets = ['5s to 10s Omission', '5s to 10s Rewarded']\n",
    "colors = [\"darkred\", \"darkcyan\"]\n",
    "for target, color in zip(targets,colors):\n",
    "    indicesToKeep = firing_rate_and_pca_df['outcome_and_when'] == target\n",
    "    ax.scatter(firing_rate_and_pca_df.loc[indicesToKeep, 'principal component 1']\n",
    "               , firing_rate_and_pca_df.loc[indicesToKeep, 'principal component 2']\n",
    "               , c = color\n",
    "               , s = 50)\n",
    "ax.legend(targets)\n",
    "ax.grid()"
   ]
  },
  {
   "cell_type": "code",
   "execution_count": null,
   "id": "7337e586",
   "metadata": {},
   "outputs": [],
   "source": []
  },
  {
   "cell_type": "code",
   "execution_count": null,
   "id": "e697cf71",
   "metadata": {},
   "outputs": [],
   "source": []
  },
  {
   "cell_type": "code",
   "execution_count": null,
   "id": "6bef9eaa",
   "metadata": {},
   "outputs": [],
   "source": [
    "raise ValueError()"
   ]
  },
  {
   "cell_type": "markdown",
   "id": "99b5e673",
   "metadata": {},
   "source": [
    "# From DIN to Video"
   ]
  },
  {
   "cell_type": "markdown",
   "id": "d912df6b",
   "metadata": {},
   "source": [
    "- State 1 is when the MED-PC signal is being recieved. And 0 is when it is turned off. So we will get the timestamp of when it is first 1."
   ]
  },
  {
   "cell_type": "code",
   "execution_count": null,
   "id": "0ba4c5d6",
   "metadata": {},
   "outputs": [],
   "source": [
    "DIN_state_array"
   ]
  },
  {
   "cell_type": "code",
   "execution_count": null,
   "id": "d889cf6a",
   "metadata": {},
   "outputs": [],
   "source": [
    "DIN_time_stamp = DIN_state_array[5][0]"
   ]
  },
  {
   "cell_type": "code",
   "execution_count": null,
   "id": "e0b1ba5f",
   "metadata": {},
   "outputs": [],
   "source": [
    "DIN_time_stamp"
   ]
  },
  {
   "cell_type": "code",
   "execution_count": null,
   "id": "6dd870e4",
   "metadata": {},
   "outputs": [],
   "source": [
    "good_unit_bins = np.digitize(good_unit_times, all_tone_unit_time, right=True)"
   ]
  },
  {
   "cell_type": "markdown",
   "id": "148723da",
   "metadata": {},
   "source": [
    "- Array of the time stamp of all the frames"
   ]
  },
  {
   "cell_type": "code",
   "execution_count": null,
   "id": "8a33100d",
   "metadata": {},
   "outputs": [],
   "source": [
    "[1431775 + num * 2000 for num in range(-50, 50)]"
   ]
  },
  {
   "cell_type": "code",
   "execution_count": null,
   "id": "e32f0a7b",
   "metadata": {},
   "outputs": [],
   "source": [
    "len(within_interval_unit_times)"
   ]
  },
  {
   "cell_type": "code",
   "execution_count": null,
   "id": "43657903",
   "metadata": {},
   "outputs": [],
   "source": [
    "range(1431775, "
   ]
  },
  {
   "cell_type": "code",
   "execution_count": null,
   "id": "d62ac257",
   "metadata": {},
   "outputs": [],
   "source": [
    "[1431775 + num * 2000 for num in range(50)]"
   ]
  },
  {
   "cell_type": "code",
   "execution_count": null,
   "id": "bab73647",
   "metadata": {},
   "outputs": [],
   "source": [
    "[(1431775 - (num + 1) * 2000, 1431775 - num * 2000) for num in range(50)][::-1]"
   ]
  },
  {
   "cell_type": "code",
   "execution_count": null,
   "id": "a28ffbf1",
   "metadata": {},
   "outputs": [],
   "source": [
    "(4003716 - 3772337) / 20000"
   ]
  },
  {
   "cell_type": "code",
   "execution_count": null,
   "id": "1384975d",
   "metadata": {},
   "outputs": [],
   "source": [
    "(5204112 - 4003716) / 20000 "
   ]
  },
  {
   "cell_type": "code",
   "execution_count": null,
   "id": "65419f0d",
   "metadata": {},
   "outputs": [],
   "source": [
    "(5404109 - 5204112) / 20000"
   ]
  },
  {
   "cell_type": "code",
   "execution_count": null,
   "id": "e6ac02e8",
   "metadata": {},
   "outputs": [],
   "source": [
    "(6804107 - 5404109) / 20000"
   ]
  },
  {
   "cell_type": "code",
   "execution_count": null,
   "id": "4248c266",
   "metadata": {},
   "outputs": [],
   "source": [
    "3772337/20000/3600*60"
   ]
  },
  {
   "cell_type": "code",
   "execution_count": null,
   "id": "268e96b1",
   "metadata": {},
   "outputs": [],
   "source": [
    "pos_timestamp_array"
   ]
  },
  {
   "cell_type": "markdown",
   "id": "1fbe7728",
   "metadata": {},
   "source": [
    "- Getting the first video time stamp that is greater than the voltage time stamp"
   ]
  },
  {
   "cell_type": "code",
   "execution_count": null,
   "id": "1ec60639",
   "metadata": {},
   "outputs": [],
   "source": [
    "current_video_frame = timestamp_to_index(current_ts=DIN_time_stamp, ts_array=pos_timestamp_array)"
   ]
  },
  {
   "cell_type": "code",
   "execution_count": null,
   "id": "cd06980b",
   "metadata": {},
   "outputs": [],
   "source": [
    "current_video_frame"
   ]
  },
  {
   "cell_type": "markdown",
   "id": "8a1adec6",
   "metadata": {},
   "source": [
    "## Getting the specific frame"
   ]
  },
  {
   "cell_type": "code",
   "execution_count": null,
   "id": "5a7a1a3b",
   "metadata": {},
   "outputs": [],
   "source": [
    "frame_count = int(cap.get(cv2.CAP_PROP_FRAME_COUNT))\n",
    "print('Frame count:', frame_count)"
   ]
  },
  {
   "cell_type": "markdown",
   "id": "5ee9c163",
   "metadata": {},
   "source": [
    "- Original frame number(before light turns on)"
   ]
  },
  {
   "cell_type": "code",
   "execution_count": null,
   "id": "ba040bf9",
   "metadata": {},
   "outputs": [],
   "source": [
    "corrected_video_frame = current_video_frame"
   ]
  },
  {
   "cell_type": "markdown",
   "id": "6435e1a3",
   "metadata": {},
   "source": [
    "- Corrected frame number(that has the light on)"
   ]
  },
  {
   "cell_type": "code",
   "execution_count": null,
   "id": "20b811a9",
   "metadata": {},
   "outputs": [],
   "source": [
    "corrected_video_frame = current_video_frame + 2"
   ]
  },
  {
   "cell_type": "code",
   "execution_count": null,
   "id": "49e81139",
   "metadata": {},
   "outputs": [],
   "source": [
    "cap.set(cv2.CAP_PROP_POS_FRAMES, corrected_video_frame)\n"
   ]
  },
  {
   "cell_type": "code",
   "execution_count": null,
   "id": "0179904d",
   "metadata": {},
   "outputs": [],
   "source": [
    "_, frame = cap.read()"
   ]
  },
  {
   "cell_type": "code",
   "execution_count": null,
   "id": "6e10b66b",
   "metadata": {},
   "outputs": [],
   "source": [
    "video_file_path"
   ]
  },
  {
   "cell_type": "code",
   "execution_count": null,
   "id": "243d5828",
   "metadata": {},
   "outputs": [],
   "source": [
    "output_directory = \"./proc\""
   ]
  },
  {
   "cell_type": "code",
   "execution_count": null,
   "id": "17dd8e82",
   "metadata": {},
   "outputs": [],
   "source": [
    "output_directory"
   ]
  },
  {
   "cell_type": "code",
   "execution_count": null,
   "id": "0dc14903",
   "metadata": {},
   "outputs": [],
   "source": [
    "os.makedirs(output_directory, exist_ok=True)"
   ]
  },
  {
   "cell_type": "code",
   "execution_count": null,
   "id": "4b170740",
   "metadata": {},
   "outputs": [],
   "source": [
    "video_file_basename = os.path.basename(video_file_path)"
   ]
  },
  {
   "cell_type": "code",
   "execution_count": null,
   "id": "c56e9190",
   "metadata": {},
   "outputs": [],
   "source": [
    "video_file_root = os.path.splitext(video_file_basename)[0]"
   ]
  },
  {
   "cell_type": "code",
   "execution_count": null,
   "id": "4ffef727",
   "metadata": {},
   "outputs": [],
   "source": [
    "video_file_root"
   ]
  },
  {
   "cell_type": "code",
   "execution_count": null,
   "id": "41824723",
   "metadata": {},
   "outputs": [],
   "source": [
    "cv2.imwrite(os.path.join(output_directory, '{}.frame_{}.png'.format(video_file_root, corrected_video_frame)), frame)"
   ]
  },
  {
   "cell_type": "raw",
   "id": "eb44b73b",
   "metadata": {
    "scrolled": false
   },
   "source": [
    "raise ValueError(\"\"\"Run cell after this one if you want to see the image in Jupyter Notebooks. \n",
    "Make sure that you just exit by pressing the `esc` key on the keyboard. \n",
    "DO NOT press the red X button.\"\"\")"
   ]
  },
  {
   "cell_type": "raw",
   "id": "1731b7af",
   "metadata": {},
   "source": [
    "\n",
    "\n",
    "cv2.imshow('led_light_on', frame)\n",
    "cv2.waitKey(0)\n",
    "cv2.destroyAllWindows()"
   ]
  },
  {
   "cell_type": "markdown",
   "id": "ba75ed2a",
   "metadata": {},
   "source": [
    "- Where this video time stamp is(within the list of video time stamps), would be the frame number that corresponds to the ephys recording instance"
   ]
  },
  {
   "cell_type": "code",
   "execution_count": null,
   "id": "ac55b6fb",
   "metadata": {},
   "outputs": [],
   "source": [
    "current_video_seconds = corrected_video_frame / fps"
   ]
  },
  {
   "cell_type": "code",
   "execution_count": null,
   "id": "daf7a6f9",
   "metadata": {},
   "outputs": [],
   "source": [
    "current_video_seconds"
   ]
  },
  {
   "cell_type": "code",
   "execution_count": null,
   "id": "25baf939",
   "metadata": {},
   "outputs": [],
   "source": [
    "print(\"MED-PC signal is at {}:{}\".format(int(current_video_seconds // 60), int(current_video_seconds % 60)))"
   ]
  },
  {
   "cell_type": "markdown",
   "id": "c6c58a56",
   "metadata": {},
   "source": [
    "# Syncing up the timestamps using Pandas"
   ]
  },
  {
   "cell_type": "markdown",
   "id": "adafa131",
   "metadata": {},
   "source": [
    "## Adding the Voltage as columns"
   ]
  },
  {
   "cell_type": "code",
   "execution_count": null,
   "id": "478e0b5a",
   "metadata": {},
   "outputs": [],
   "source": [
    "voltage_timestamp_array[:5]"
   ]
  },
  {
   "cell_type": "code",
   "execution_count": null,
   "id": "7223f277",
   "metadata": {},
   "outputs": [],
   "source": [
    "voltage_timestamp_array.shape"
   ]
  },
  {
   "cell_type": "code",
   "execution_count": null,
   "id": "b31e7b98",
   "metadata": {
    "scrolled": true
   },
   "outputs": [],
   "source": [
    "voltage_value_array[:5]"
   ]
  },
  {
   "cell_type": "code",
   "execution_count": null,
   "id": "4c4d2caa",
   "metadata": {},
   "outputs": [],
   "source": [
    "voltage_value_array.shape"
   ]
  },
  {
   "cell_type": "markdown",
   "id": "7210172d",
   "metadata": {},
   "source": [
    "- Adding the voltage timestamps"
   ]
  },
  {
   "cell_type": "code",
   "execution_count": null,
   "id": "c0b74a4a",
   "metadata": {},
   "outputs": [],
   "source": [
    "ephys_dataframe = pd.DataFrame(voltage_timestamp_array, columns=[\"voltage_time_stamp\"])"
   ]
  },
  {
   "cell_type": "code",
   "execution_count": null,
   "id": "c49f894b",
   "metadata": {
    "scrolled": true
   },
   "outputs": [],
   "source": [
    "ephys_dataframe.head()"
   ]
  },
  {
   "cell_type": "markdown",
   "id": "af9c98de",
   "metadata": {},
   "source": [
    "- Adding the voltage value"
   ]
  },
  {
   "cell_type": "code",
   "execution_count": null,
   "id": "bc1e243d",
   "metadata": {},
   "outputs": [],
   "source": [
    "ephys_dataframe[\"voltage_value\"] = voltage_value_array.tolist()"
   ]
  },
  {
   "cell_type": "code",
   "execution_count": null,
   "id": "ca97b35f",
   "metadata": {
    "scrolled": true
   },
   "outputs": [],
   "source": [
    "ephys_dataframe.head()"
   ]
  },
  {
   "cell_type": "markdown",
   "id": "03c1db9e",
   "metadata": {},
   "source": [
    "## Adding the video data as columns"
   ]
  },
  {
   "cell_type": "markdown",
   "id": "2a62171a",
   "metadata": {},
   "source": [
    "- Creating a seperate dataframe for video data first"
   ]
  },
  {
   "cell_type": "code",
   "execution_count": null,
   "id": "2954fbf6",
   "metadata": {},
   "outputs": [],
   "source": [
    "video_time_stamp_dict[\"data\"][:5]"
   ]
  },
  {
   "cell_type": "code",
   "execution_count": null,
   "id": "38bcb3ae",
   "metadata": {},
   "outputs": [],
   "source": [
    "video_time_stamp_dict[\"data\"][-5:]"
   ]
  },
  {
   "cell_type": "code",
   "execution_count": null,
   "id": "016a9dfc",
   "metadata": {},
   "outputs": [],
   "source": [
    "video_dataframe = pd.DataFrame(video_time_stamp_dict[\"data\"])"
   ]
  },
  {
   "cell_type": "code",
   "execution_count": null,
   "id": "041d0cac",
   "metadata": {},
   "outputs": [],
   "source": [
    "video_dataframe.head()"
   ]
  },
  {
   "cell_type": "markdown",
   "id": "15f59138",
   "metadata": {},
   "source": [
    "- Adding the frames which would just be the number in the list that the timestamps belongs to"
   ]
  },
  {
   "cell_type": "code",
   "execution_count": null,
   "id": "fb863893",
   "metadata": {
    "scrolled": true
   },
   "outputs": [],
   "source": [
    "video_dataframe.insert(0, 'frame_number', range(1, 1 + len(video_dataframe)))"
   ]
  },
  {
   "cell_type": "markdown",
   "id": "b7de1a73",
   "metadata": {},
   "source": [
    "- Calculating the time within the video by dividing the frame by the fps"
   ]
  },
  {
   "cell_type": "code",
   "execution_count": null,
   "id": "bca73f7b",
   "metadata": {},
   "outputs": [],
   "source": [
    "video_dataframe[\"video_time\"] = video_dataframe[\"frame_number\"] / fps"
   ]
  },
  {
   "cell_type": "code",
   "execution_count": null,
   "id": "58c11371",
   "metadata": {},
   "outputs": [],
   "source": [
    "video_dataframe[\"video_seconds\"] = video_dataframe[\"video_time\"].astype(int)"
   ]
  },
  {
   "cell_type": "code",
   "execution_count": null,
   "id": "926c3823",
   "metadata": {},
   "outputs": [],
   "source": [
    "video_dataframe"
   ]
  },
  {
   "cell_type": "markdown",
   "id": "2801c768",
   "metadata": {},
   "source": [
    "## Combining the ephys and video dataframe into one"
   ]
  },
  {
   "cell_type": "code",
   "execution_count": null,
   "id": "b2ebc832",
   "metadata": {},
   "outputs": [],
   "source": [
    "ephy_and_video_dataframe = pd.merge(ephys_dataframe, video_dataframe, left_on='voltage_time_stamp', right_on='PosTimestamp', how=\"left\")"
   ]
  },
  {
   "cell_type": "code",
   "execution_count": null,
   "id": "9201fbc4",
   "metadata": {},
   "outputs": [],
   "source": [
    "ephy_and_video_dataframe"
   ]
  },
  {
   "cell_type": "code",
   "execution_count": null,
   "id": "29bbcc51",
   "metadata": {},
   "outputs": [],
   "source": [
    "ephy_and_video_dataframe.columns"
   ]
  },
  {
   "cell_type": "markdown",
   "id": "182dadba",
   "metadata": {},
   "source": [
    "- There are only a small number of rows that have information for the video, because the sampling rate is much smaller. "
   ]
  },
  {
   "cell_type": "code",
   "execution_count": null,
   "id": "564ca911",
   "metadata": {},
   "outputs": [],
   "source": [
    "ephy_and_video_dataframe.dropna(subset=[\"PosTimestamp\"])"
   ]
  },
  {
   "cell_type": "markdown",
   "id": "925b2441",
   "metadata": {},
   "source": [
    "- Filling in all the blank cells with the previous rows for the video related columns into new columns. This can be used to select for all rows that correspond to something happening within the video"
   ]
  },
  {
   "cell_type": "code",
   "execution_count": null,
   "id": "99b3848e",
   "metadata": {},
   "outputs": [],
   "source": [
    "ephy_and_video_dataframe['filled_PosTimestamp'] = ephy_and_video_dataframe['PosTimestamp'].fillna(method='ffill')\n",
    "ephy_and_video_dataframe['filledHWframeCount'] = ephy_and_video_dataframe['HWframeCount'].fillna(method='ffill')\n",
    "ephy_and_video_dataframe['filled_frame_number'] = ephy_and_video_dataframe['frame_number'].fillna(method='ffill')\n",
    "ephy_and_video_dataframe['filled_video_time'] = ephy_and_video_dataframe['video_time'].fillna(method='ffill')\n",
    "ephy_and_video_dataframe['filled_video_seconds'] = ephy_and_video_dataframe['video_seconds'].fillna(method='ffill')"
   ]
  },
  {
   "cell_type": "code",
   "execution_count": null,
   "id": "e343ae63",
   "metadata": {},
   "outputs": [],
   "source": [
    "ephy_and_video_dataframe.tail()"
   ]
  },
  {
   "cell_type": "markdown",
   "id": "bc975896",
   "metadata": {},
   "source": [
    "## Adding the DIN info"
   ]
  },
  {
   "cell_type": "code",
   "execution_count": null,
   "id": "89ba5770",
   "metadata": {},
   "outputs": [],
   "source": [
    "DIN_dataframe = pd.DataFrame(DIN_state_array)"
   ]
  },
  {
   "cell_type": "code",
   "execution_count": null,
   "id": "d0d4a65c",
   "metadata": {},
   "outputs": [],
   "source": [
    "DIN_dataframe[\"trial_number\"] = DIN_dataframe[\"state\"].cumsum()"
   ]
  },
  {
   "cell_type": "code",
   "execution_count": null,
   "id": "68e16b67",
   "metadata": {},
   "outputs": [],
   "source": [
    "DIN_dataframe"
   ]
  },
  {
   "cell_type": "code",
   "execution_count": null,
   "id": "89f82716",
   "metadata": {},
   "outputs": [],
   "source": [
    "ephy_and_video_dataframe = pd.merge(ephy_and_video_dataframe, DIN_dataframe, left_on='voltage_time_stamp', right_on='time', how=\"left\")\n"
   ]
  },
  {
   "cell_type": "code",
   "execution_count": null,
   "id": "1ee80db9",
   "metadata": {},
   "outputs": [],
   "source": [
    "ephy_and_video_dataframe.head()"
   ]
  },
  {
   "cell_type": "code",
   "execution_count": null,
   "id": "19153995",
   "metadata": {},
   "outputs": [],
   "source": [
    "ephy_and_video_dataframe.dropna(subset=[\"time\"])"
   ]
  },
  {
   "cell_type": "code",
   "execution_count": null,
   "id": "5a6926b8",
   "metadata": {},
   "outputs": [],
   "source": [
    "ephy_and_video_dataframe[\"filled_state\"] = ephy_and_video_dataframe[\"state\"].ffill()\n",
    "ephy_and_video_dataframe[\"filled_trial_number\"] = ephy_and_video_dataframe[\"trial_number\"].ffill()"
   ]
  },
  {
   "cell_type": "code",
   "execution_count": null,
   "id": "460fad0d",
   "metadata": {},
   "outputs": [],
   "source": [
    "ephy_and_video_dataframe.head()"
   ]
  },
  {
   "cell_type": "code",
   "execution_count": null,
   "id": "3aa5eeba",
   "metadata": {
    "scrolled": true
   },
   "outputs": [],
   "source": [
    "ephy_and_video_dataframe.tail()"
   ]
  },
  {
   "cell_type": "code",
   "execution_count": null,
   "id": "22793278",
   "metadata": {
    "scrolled": true
   },
   "outputs": [],
   "source": [
    "trial_1_df = ephy_and_video_dataframe[ephy_and_video_dataframe[\"filled_trial_number\"] == 2]"
   ]
  },
  {
   "cell_type": "code",
   "execution_count": null,
   "id": "79a2d453",
   "metadata": {
    "scrolled": true
   },
   "outputs": [],
   "source": [
    "trial_1_df.head()"
   ]
  },
  {
   "cell_type": "code",
   "execution_count": null,
   "id": "a043053d",
   "metadata": {},
   "outputs": [],
   "source": []
  },
  {
   "cell_type": "markdown",
   "id": "0ed54349",
   "metadata": {},
   "source": [
    "- Original frame number(before light turns on)"
   ]
  },
  {
   "cell_type": "code",
   "execution_count": null,
   "id": "597e4161",
   "metadata": {},
   "outputs": [],
   "source": [
    "current_video_frame = trial_1_df[\"filled_frame_number\"].min()"
   ]
  },
  {
   "cell_type": "markdown",
   "id": "37c95f1d",
   "metadata": {},
   "source": [
    "- Corrected frame number(that has the light on)"
   ]
  },
  {
   "cell_type": "code",
   "execution_count": null,
   "id": "d4c4b4e4",
   "metadata": {},
   "outputs": [],
   "source": [
    "corrected_video_frame = current_video_frame + 2"
   ]
  },
  {
   "cell_type": "code",
   "execution_count": null,
   "id": "1a818fea",
   "metadata": {},
   "outputs": [],
   "source": [
    "cap.set(cv2.CAP_PROP_POS_FRAMES, corrected_video_frame)\n"
   ]
  },
  {
   "cell_type": "code",
   "execution_count": null,
   "id": "cd2d23af",
   "metadata": {},
   "outputs": [],
   "source": [
    "_, frame = cap.read()"
   ]
  },
  {
   "cell_type": "code",
   "execution_count": null,
   "id": "e09e38b7",
   "metadata": {},
   "outputs": [],
   "source": [
    "video_file_path"
   ]
  },
  {
   "cell_type": "code",
   "execution_count": null,
   "id": "a45fcaf0",
   "metadata": {},
   "outputs": [],
   "source": [
    "output_directory = \"./proc\""
   ]
  },
  {
   "cell_type": "code",
   "execution_count": null,
   "id": "a03c9c7e",
   "metadata": {},
   "outputs": [],
   "source": [
    "output_directory"
   ]
  },
  {
   "cell_type": "code",
   "execution_count": null,
   "id": "8570ae2a",
   "metadata": {},
   "outputs": [],
   "source": [
    "os.makedirs(output_directory, exist_ok=True)"
   ]
  },
  {
   "cell_type": "code",
   "execution_count": null,
   "id": "40c71ef0",
   "metadata": {},
   "outputs": [],
   "source": [
    "video_file_basename = os.path.basename(video_file_path)"
   ]
  },
  {
   "cell_type": "code",
   "execution_count": null,
   "id": "012bc243",
   "metadata": {},
   "outputs": [],
   "source": [
    "video_file_root = os.path.splitext(video_file_basename)[0]"
   ]
  },
  {
   "cell_type": "code",
   "execution_count": null,
   "id": "f316fef3",
   "metadata": {},
   "outputs": [],
   "source": [
    "video_file_root"
   ]
  },
  {
   "cell_type": "code",
   "execution_count": null,
   "id": "5a45aea9",
   "metadata": {},
   "outputs": [],
   "source": [
    "cv2.imwrite(os.path.join(output_directory, '{}.frame_{}.png'.format(video_file_root, corrected_video_frame)), frame)"
   ]
  },
  {
   "cell_type": "raw",
   "id": "fcf0b6f2",
   "metadata": {
    "scrolled": false
   },
   "source": [
    "raise ValueError(\"\"\"Run cell after this one if you want to see the image in Jupyter Notebooks. \n",
    "Make sure that you just exit by pressing the `esc` key on the keyboard. \n",
    "DO NOT press the red X button.\"\"\")"
   ]
  },
  {
   "cell_type": "raw",
   "id": "813b1a1d",
   "metadata": {},
   "source": [
    "\n",
    "\n",
    "cv2.imshow('led_light_on', frame)\n",
    "cv2.waitKey(0)\n",
    "cv2.destroyAllWindows()"
   ]
  },
  {
   "cell_type": "code",
   "execution_count": null,
   "id": "02c0efe2",
   "metadata": {},
   "outputs": [],
   "source": []
  },
  {
   "cell_type": "code",
   "execution_count": null,
   "id": "de98af78",
   "metadata": {},
   "outputs": [],
   "source": []
  },
  {
   "cell_type": "code",
   "execution_count": null,
   "id": "18b984ed",
   "metadata": {},
   "outputs": [],
   "source": []
  },
  {
   "cell_type": "markdown",
   "id": "87b9d0b7",
   "metadata": {},
   "source": []
  }
 ],
 "metadata": {
  "kernelspec": {
   "display_name": "Python 3 (ipykernel)",
   "language": "python",
   "name": "python3"
  },
  "language_info": {
   "codemirror_mode": {
    "name": "ipython",
    "version": 3
   },
   "file_extension": ".py",
   "mimetype": "text/x-python",
   "name": "python",
   "nbconvert_exporter": "python",
   "pygments_lexer": "ipython3",
   "version": "3.9.16"
  },
  "vscode": {
   "interpreter": {
    "hash": "916dbcbb3f70747c44a77c7bcd40155683ae19c65e1c03b4aa3499c5328201f1"
   }
  }
 },
 "nbformat": 4,
 "nbformat_minor": 5
}
