{
 "cells": [
  {
   "cell_type": "markdown",
   "id": "ec0f0e72",
   "metadata": {},
   "source": [
    "# MED-PC Data Processing Notebook"
   ]
  },
  {
   "cell_type": "markdown",
   "id": "3e96b039",
   "metadata": {},
   "source": [
    "## Importing the Python Libraries"
   ]
  },
  {
   "cell_type": "code",
   "execution_count": 1,
   "id": "df497936",
   "metadata": {},
   "outputs": [],
   "source": [
    "import sys\n",
    "import glob\n",
    "from collections import defaultdict\n",
    "import os\n",
    "import numpy as np\n",
    "import pandas as pd\n",
    "import matplotlib.pyplot as plt"
   ]
  },
  {
   "cell_type": "code",
   "execution_count": 2,
   "id": "b6678428",
   "metadata": {},
   "outputs": [],
   "source": [
    "from medpc2excel.medpc_read import medpc_read"
   ]
  },
  {
   "cell_type": "code",
   "execution_count": 3,
   "id": "d2693f50",
   "metadata": {},
   "outputs": [],
   "source": [
    "# setting path\n",
    "sys.path.append('../../src')"
   ]
  },
  {
   "cell_type": "code",
   "execution_count": 4,
   "id": "2eca7742",
   "metadata": {},
   "outputs": [],
   "source": [
    "# All the libraries that were created for this repository\n",
    "import extract.dataframe\n",
    "import extract.metadata\n",
    "import processing.tone\n",
    "import processing.port"
   ]
  },
  {
   "cell_type": "code",
   "execution_count": 5,
   "id": "52a5a4ee",
   "metadata": {},
   "outputs": [],
   "source": [
    "# Increase size of plot in jupyter\n",
    "\n",
    "plt.rcParams[\"figure.figsize\"] = (10,6)"
   ]
  },
  {
   "cell_type": "markdown",
   "id": "f37ffbe9",
   "metadata": {},
   "source": [
    "# Loading in Recording and Metadata from Previous Notebook"
   ]
  },
  {
   "cell_type": "markdown",
   "id": "a1ab455f",
   "metadata": {},
   "source": [
    "# NOTE: If you changed the directory of where the MED-PC recording dataframes, then you must change the directories in the following paths"
   ]
  },
  {
   "cell_type": "markdown",
   "id": "fe7f5896",
   "metadata": {},
   "source": [
    "- This will get all the files in each specified path"
   ]
  },
  {
   "cell_type": "code",
   "execution_count": 6,
   "id": "7d9bce44",
   "metadata": {},
   "outputs": [],
   "source": [
    "concatted_medpc_files = glob.glob(\"./proc/extracted_recording_data_and_metadata/*/MEDPC_recording_cage_*.csv\")\n",
    "metadata_files = glob.glob(\"./proc/extracted_recording_data_and_metadata/*/metadata_cage_*.csv\")\n",
    "recording_and_metadata_files = glob.glob(\"./proc/extracted_recording_data_and_metadata/*/recording_metadata_cage_*.csv\")"
   ]
  },
  {
   "cell_type": "markdown",
   "id": "df6b3e84",
   "metadata": {},
   "source": [
    "# NOTE: If there is more than one MED-PC recording dataframes, then you must manually change the path in the `pd.read_csv()` for the corresponding variables. Verify if this is the correct file that you want to use"
   ]
  },
  {
   "cell_type": "code",
   "execution_count": 7,
   "id": "55d367bf",
   "metadata": {},
   "outputs": [
    {
     "data": {
      "text/plain": [
       "'./proc/extracted_recording_data_and_metadata/experiment_reward_competition_extention_cage_1_date_20230526_20230528/metadata_cage_1_date_20230526_20230528.csv'"
      ]
     },
     "execution_count": 7,
     "metadata": {},
     "output_type": "execute_result"
    }
   ],
   "source": [
    "metadata_files[0]"
   ]
  },
  {
   "cell_type": "code",
   "execution_count": 8,
   "id": "0f9a45de",
   "metadata": {},
   "outputs": [
    {
     "data": {
      "text/plain": [
       "'./proc/extracted_recording_data_and_metadata/experiment_reward_competition_extention_cage_1_date_20230526_20230528/MEDPC_recording_cage_1_date_20230526_20230528.csv'"
      ]
     },
     "execution_count": 8,
     "metadata": {},
     "output_type": "execute_result"
    }
   ],
   "source": [
    "concatted_medpc_files[0]"
   ]
  },
  {
   "cell_type": "code",
   "execution_count": 9,
   "id": "0876bf99",
   "metadata": {},
   "outputs": [
    {
     "data": {
      "text/plain": [
       "'./proc/extracted_recording_data_and_metadata/experiment_reward_competition_extention_cage_1_date_20230526_20230528/recording_metadata_cage_1_date_20230526_20230528.csv'"
      ]
     },
     "execution_count": 9,
     "metadata": {},
     "output_type": "execute_result"
    }
   ],
   "source": [
    "recording_and_metadata_files[0]"
   ]
  },
  {
   "cell_type": "code",
   "execution_count": 10,
   "id": "3f535e7c",
   "metadata": {},
   "outputs": [],
   "source": [
    "metadata_df = pd.read_csv(metadata_files[0], index_col=0)\n",
    "concatted_medpc_df = pd.read_csv(concatted_medpc_files[0], index_col=0)\n",
    "recording_and_metadata_df = pd.read_csv(recording_and_metadata_files[0], index_col=0)"
   ]
  },
  {
   "cell_type": "markdown",
   "id": "85769c29",
   "metadata": {},
   "source": [
    "- The Dataframe the contains the metadata(columns) of each recording file(rows)\n",
    "    - We will mostly use this to get the cage number for each subject"
   ]
  },
  {
   "cell_type": "code",
   "execution_count": 11,
   "id": "ac51c847",
   "metadata": {
    "scrolled": true
   },
   "outputs": [
    {
     "data": {
      "text/html": [
       "<div>\n",
       "<style scoped>\n",
       "    .dataframe tbody tr th:only-of-type {\n",
       "        vertical-align: middle;\n",
       "    }\n",
       "\n",
       "    .dataframe tbody tr th {\n",
       "        vertical-align: top;\n",
       "    }\n",
       "\n",
       "    .dataframe thead th {\n",
       "        text-align: right;\n",
       "    }\n",
       "</style>\n",
       "<table border=\"1\" class=\"dataframe\">\n",
       "  <thead>\n",
       "    <tr style=\"text-align: right;\">\n",
       "      <th></th>\n",
       "      <th>index</th>\n",
       "      <th>File</th>\n",
       "      <th>Start Date</th>\n",
       "      <th>End Date</th>\n",
       "      <th>Subject</th>\n",
       "      <th>Experiment</th>\n",
       "      <th>Group</th>\n",
       "      <th>Box</th>\n",
       "      <th>Start Time</th>\n",
       "      <th>End Time</th>\n",
       "      <th>MSN</th>\n",
       "      <th>cage</th>\n",
       "    </tr>\n",
       "  </thead>\n",
       "  <tbody>\n",
       "    <tr>\n",
       "      <th>0</th>\n",
       "      <td>./data/2023-05-26_10h09m_Subject 1.2.txt</td>\n",
       "      <td>C:\\MED-PC\\Data\\2023-05-26_10h09m_Subject 1.2.txt</td>\n",
       "      <td>05/26/23</td>\n",
       "      <td>05/26/23</td>\n",
       "      <td>1.2</td>\n",
       "      <td>reward_competition_extention</td>\n",
       "      <td>CAGE1</td>\n",
       "      <td>2</td>\n",
       "      <td>10:09:07</td>\n",
       "      <td>11:37:38</td>\n",
       "      <td>CD1_reward_training</td>\n",
       "      <td>1</td>\n",
       "    </tr>\n",
       "    <tr>\n",
       "      <th>1</th>\n",
       "      <td>./data/2023-05-27_10h03m_Subject 1.1.txt</td>\n",
       "      <td>C:\\MED-PC\\Data\\2023-05-27_10h03m_Subject 1.1.txt</td>\n",
       "      <td>05/27/23</td>\n",
       "      <td>05/27/23</td>\n",
       "      <td>1.1</td>\n",
       "      <td>reward_competition_extention</td>\n",
       "      <td>CAGE1</td>\n",
       "      <td>1</td>\n",
       "      <td>10:03:25</td>\n",
       "      <td>11:10:12</td>\n",
       "      <td>CD1_reward_training</td>\n",
       "      <td>1</td>\n",
       "    </tr>\n",
       "    <tr>\n",
       "      <th>2</th>\n",
       "      <td>./data/2023-05-26_10h09m_Subject 1.4.txt</td>\n",
       "      <td>C:\\MED-PC\\Data\\2023-05-26_10h09m_Subject 1.4.txt</td>\n",
       "      <td>05/26/23</td>\n",
       "      <td>05/26/23</td>\n",
       "      <td>1.4</td>\n",
       "      <td>reward_competition_extention</td>\n",
       "      <td>CAGE1</td>\n",
       "      <td>4</td>\n",
       "      <td>10:09:07</td>\n",
       "      <td>11:37:38</td>\n",
       "      <td>CD1_reward_training</td>\n",
       "      <td>1</td>\n",
       "    </tr>\n",
       "    <tr>\n",
       "      <th>3</th>\n",
       "      <td>./data/2023-05-28_14h33m_Subject 1.1.txt</td>\n",
       "      <td>C:\\MED-PC\\Data\\2023-05-28_14h33m_Subject 1.1.txt</td>\n",
       "      <td>05/28/23</td>\n",
       "      <td>05/28/23</td>\n",
       "      <td>1.1</td>\n",
       "      <td>reward_competition_extention</td>\n",
       "      <td>CAGE1</td>\n",
       "      <td>2</td>\n",
       "      <td>14:33:28</td>\n",
       "      <td>15:40:57</td>\n",
       "      <td>CD1_reward_training</td>\n",
       "      <td>1</td>\n",
       "    </tr>\n",
       "    <tr>\n",
       "      <th>4</th>\n",
       "      <td>./data/2023-05-26_10h09m_Subject 1.3.txt</td>\n",
       "      <td>C:\\MED-PC\\Data\\2023-05-26_10h09m_Subject 1.3.txt</td>\n",
       "      <td>05/26/23</td>\n",
       "      <td>05/26/23</td>\n",
       "      <td>1.3</td>\n",
       "      <td>reward_competition_extention</td>\n",
       "      <td>CAGE1</td>\n",
       "      <td>3</td>\n",
       "      <td>10:09:07</td>\n",
       "      <td>11:37:38</td>\n",
       "      <td>CD1_reward_training</td>\n",
       "      <td>1</td>\n",
       "    </tr>\n",
       "  </tbody>\n",
       "</table>\n",
       "</div>"
      ],
      "text/plain": [
       "                                      index   \n",
       "0  ./data/2023-05-26_10h09m_Subject 1.2.txt  \\\n",
       "1  ./data/2023-05-27_10h03m_Subject 1.1.txt   \n",
       "2  ./data/2023-05-26_10h09m_Subject 1.4.txt   \n",
       "3  ./data/2023-05-28_14h33m_Subject 1.1.txt   \n",
       "4  ./data/2023-05-26_10h09m_Subject 1.3.txt   \n",
       "\n",
       "                                               File Start Date  End Date   \n",
       "0  C:\\MED-PC\\Data\\2023-05-26_10h09m_Subject 1.2.txt   05/26/23  05/26/23  \\\n",
       "1  C:\\MED-PC\\Data\\2023-05-27_10h03m_Subject 1.1.txt   05/27/23  05/27/23   \n",
       "2  C:\\MED-PC\\Data\\2023-05-26_10h09m_Subject 1.4.txt   05/26/23  05/26/23   \n",
       "3  C:\\MED-PC\\Data\\2023-05-28_14h33m_Subject 1.1.txt   05/28/23  05/28/23   \n",
       "4  C:\\MED-PC\\Data\\2023-05-26_10h09m_Subject 1.3.txt   05/26/23  05/26/23   \n",
       "\n",
       "   Subject                    Experiment  Group  Box Start Time  End Time   \n",
       "0      1.2  reward_competition_extention  CAGE1    2   10:09:07  11:37:38  \\\n",
       "1      1.1  reward_competition_extention  CAGE1    1   10:03:25  11:10:12   \n",
       "2      1.4  reward_competition_extention  CAGE1    4   10:09:07  11:37:38   \n",
       "3      1.1  reward_competition_extention  CAGE1    2   14:33:28  15:40:57   \n",
       "4      1.3  reward_competition_extention  CAGE1    3   10:09:07  11:37:38   \n",
       "\n",
       "                   MSN  cage  \n",
       "0  CD1_reward_training     1  \n",
       "1  CD1_reward_training     1  \n",
       "2  CD1_reward_training     1  \n",
       "3  CD1_reward_training     1  \n",
       "4  CD1_reward_training     1  "
      ]
     },
     "execution_count": 11,
     "metadata": {},
     "output_type": "execute_result"
    }
   ],
   "source": [
    "metadata_df.head()"
   ]
  },
  {
   "cell_type": "markdown",
   "id": "a16b331e",
   "metadata": {},
   "source": [
    "- The Dataframe the contains the recording data for all the files.\n",
    "    - The 1st row is the first data entries for each type of data(with the type being specified by the column label). This does not mean that all these are related or occured for the same trial. i.e. There can be many port entries and exits for a subject before and after a tone is played.\n",
    "    - Each recording session will usually have a few thousand rows(although, most of of the columns will probably be blank by the end). And then after the last row of one session, the next row will be the next session with a different `file_path`"
   ]
  },
  {
   "cell_type": "code",
   "execution_count": 12,
   "id": "6ac7fe6f",
   "metadata": {},
   "outputs": [
    {
     "data": {
      "text/html": [
       "<div>\n",
       "<style scoped>\n",
       "    .dataframe tbody tr th:only-of-type {\n",
       "        vertical-align: middle;\n",
       "    }\n",
       "\n",
       "    .dataframe tbody tr th {\n",
       "        vertical-align: top;\n",
       "    }\n",
       "\n",
       "    .dataframe thead th {\n",
       "        text-align: right;\n",
       "    }\n",
       "</style>\n",
       "<table border=\"1\" class=\"dataframe\">\n",
       "  <thead>\n",
       "    <tr style=\"text-align: right;\">\n",
       "      <th></th>\n",
       "      <th>(P)Portentry</th>\n",
       "      <th>(Q)USdelivery</th>\n",
       "      <th>(R)UStime</th>\n",
       "      <th>(W)ITIvalues</th>\n",
       "      <th>(S)CSpresentation</th>\n",
       "      <th>(N)Portexit</th>\n",
       "      <th>(K)CStype</th>\n",
       "      <th>(G)controlled_stimulus_secondscomputer</th>\n",
       "      <th>(H)controlled_stimulus_minutescomputer</th>\n",
       "      <th>(I)controlled_stimulus_hourscomputer</th>\n",
       "      <th>(B)port_entry_secondscomputer</th>\n",
       "      <th>(F)port_entry_minutescomputer</th>\n",
       "      <th>(J)port_entry_hourscomputer</th>\n",
       "      <th>date</th>\n",
       "      <th>subject</th>\n",
       "      <th>file_path</th>\n",
       "    </tr>\n",
       "  </thead>\n",
       "  <tbody>\n",
       "    <tr>\n",
       "      <th>0</th>\n",
       "      <td>80.61</td>\n",
       "      <td>64.0</td>\n",
       "      <td>399.0</td>\n",
       "      <td>0.0</td>\n",
       "      <td>60.01</td>\n",
       "      <td>80.63</td>\n",
       "      <td>1.0</td>\n",
       "      <td>38.0</td>\n",
       "      <td>37.0</td>\n",
       "      <td>10.0</td>\n",
       "      <td>58.0</td>\n",
       "      <td>37.0</td>\n",
       "      <td>10.0</td>\n",
       "      <td>20230526</td>\n",
       "      <td>1.2</td>\n",
       "      <td>./data/2023-05-26_10h09m_Subject 1.2.txt</td>\n",
       "    </tr>\n",
       "    <tr>\n",
       "      <th>1</th>\n",
       "      <td>80.65</td>\n",
       "      <td>144.0</td>\n",
       "      <td>399.0</td>\n",
       "      <td>0.0</td>\n",
       "      <td>140.01</td>\n",
       "      <td>82.56</td>\n",
       "      <td>1.0</td>\n",
       "      <td>58.0</td>\n",
       "      <td>38.0</td>\n",
       "      <td>10.0</td>\n",
       "      <td>58.0</td>\n",
       "      <td>37.0</td>\n",
       "      <td>10.0</td>\n",
       "      <td>20230526</td>\n",
       "      <td>1.2</td>\n",
       "      <td>./data/2023-05-26_10h09m_Subject 1.2.txt</td>\n",
       "    </tr>\n",
       "    <tr>\n",
       "      <th>2</th>\n",
       "      <td>82.58</td>\n",
       "      <td>234.0</td>\n",
       "      <td>399.0</td>\n",
       "      <td>0.0</td>\n",
       "      <td>230.01</td>\n",
       "      <td>82.72</td>\n",
       "      <td>1.0</td>\n",
       "      <td>28.0</td>\n",
       "      <td>40.0</td>\n",
       "      <td>10.0</td>\n",
       "      <td>0.0</td>\n",
       "      <td>38.0</td>\n",
       "      <td>10.0</td>\n",
       "      <td>20230526</td>\n",
       "      <td>1.2</td>\n",
       "      <td>./data/2023-05-26_10h09m_Subject 1.2.txt</td>\n",
       "    </tr>\n",
       "    <tr>\n",
       "      <th>3</th>\n",
       "      <td>83.31</td>\n",
       "      <td>314.0</td>\n",
       "      <td>399.0</td>\n",
       "      <td>0.0</td>\n",
       "      <td>310.01</td>\n",
       "      <td>83.45</td>\n",
       "      <td>1.0</td>\n",
       "      <td>48.0</td>\n",
       "      <td>41.0</td>\n",
       "      <td>10.0</td>\n",
       "      <td>1.0</td>\n",
       "      <td>38.0</td>\n",
       "      <td>10.0</td>\n",
       "      <td>20230526</td>\n",
       "      <td>1.2</td>\n",
       "      <td>./data/2023-05-26_10h09m_Subject 1.2.txt</td>\n",
       "    </tr>\n",
       "    <tr>\n",
       "      <th>4</th>\n",
       "      <td>83.47</td>\n",
       "      <td>389.0</td>\n",
       "      <td>399.0</td>\n",
       "      <td>0.0</td>\n",
       "      <td>385.01</td>\n",
       "      <td>83.96</td>\n",
       "      <td>1.0</td>\n",
       "      <td>3.0</td>\n",
       "      <td>43.0</td>\n",
       "      <td>10.0</td>\n",
       "      <td>1.0</td>\n",
       "      <td>38.0</td>\n",
       "      <td>10.0</td>\n",
       "      <td>20230526</td>\n",
       "      <td>1.2</td>\n",
       "      <td>./data/2023-05-26_10h09m_Subject 1.2.txt</td>\n",
       "    </tr>\n",
       "  </tbody>\n",
       "</table>\n",
       "</div>"
      ],
      "text/plain": [
       "   (P)Portentry  (Q)USdelivery  (R)UStime  (W)ITIvalues  (S)CSpresentation   \n",
       "0         80.61           64.0      399.0           0.0              60.01  \\\n",
       "1         80.65          144.0      399.0           0.0             140.01   \n",
       "2         82.58          234.0      399.0           0.0             230.01   \n",
       "3         83.31          314.0      399.0           0.0             310.01   \n",
       "4         83.47          389.0      399.0           0.0             385.01   \n",
       "\n",
       "   (N)Portexit  (K)CStype  (G)controlled_stimulus_secondscomputer   \n",
       "0        80.63        1.0                                    38.0  \\\n",
       "1        82.56        1.0                                    58.0   \n",
       "2        82.72        1.0                                    28.0   \n",
       "3        83.45        1.0                                    48.0   \n",
       "4        83.96        1.0                                     3.0   \n",
       "\n",
       "   (H)controlled_stimulus_minutescomputer   \n",
       "0                                    37.0  \\\n",
       "1                                    38.0   \n",
       "2                                    40.0   \n",
       "3                                    41.0   \n",
       "4                                    43.0   \n",
       "\n",
       "   (I)controlled_stimulus_hourscomputer  (B)port_entry_secondscomputer   \n",
       "0                                  10.0                           58.0  \\\n",
       "1                                  10.0                           58.0   \n",
       "2                                  10.0                            0.0   \n",
       "3                                  10.0                            1.0   \n",
       "4                                  10.0                            1.0   \n",
       "\n",
       "   (F)port_entry_minutescomputer  (J)port_entry_hourscomputer      date   \n",
       "0                           37.0                         10.0  20230526  \\\n",
       "1                           37.0                         10.0  20230526   \n",
       "2                           38.0                         10.0  20230526   \n",
       "3                           38.0                         10.0  20230526   \n",
       "4                           38.0                         10.0  20230526   \n",
       "\n",
       "   subject                                 file_path  \n",
       "0      1.2  ./data/2023-05-26_10h09m_Subject 1.2.txt  \n",
       "1      1.2  ./data/2023-05-26_10h09m_Subject 1.2.txt  \n",
       "2      1.2  ./data/2023-05-26_10h09m_Subject 1.2.txt  \n",
       "3      1.2  ./data/2023-05-26_10h09m_Subject 1.2.txt  \n",
       "4      1.2  ./data/2023-05-26_10h09m_Subject 1.2.txt  "
      ]
     },
     "execution_count": 12,
     "metadata": {},
     "output_type": "execute_result"
    }
   ],
   "source": [
    "concatted_medpc_df.head()"
   ]
  },
  {
   "cell_type": "markdown",
   "id": "e555d6ea",
   "metadata": {},
   "source": [
    "- This dataframe combines the recording data and metadata dataframes. This is done by using the subject ID as a common column to merge together off of."
   ]
  },
  {
   "cell_type": "code",
   "execution_count": 13,
   "id": "4049d4e9",
   "metadata": {
    "scrolled": false
   },
   "outputs": [
    {
     "data": {
      "text/html": [
       "<div>\n",
       "<style scoped>\n",
       "    .dataframe tbody tr th:only-of-type {\n",
       "        vertical-align: middle;\n",
       "    }\n",
       "\n",
       "    .dataframe tbody tr th {\n",
       "        vertical-align: top;\n",
       "    }\n",
       "\n",
       "    .dataframe thead th {\n",
       "        text-align: right;\n",
       "    }\n",
       "</style>\n",
       "<table border=\"1\" class=\"dataframe\">\n",
       "  <thead>\n",
       "    <tr style=\"text-align: right;\">\n",
       "      <th></th>\n",
       "      <th>(P)Portentry</th>\n",
       "      <th>(Q)USdelivery</th>\n",
       "      <th>(R)UStime</th>\n",
       "      <th>(W)ITIvalues</th>\n",
       "      <th>(S)CSpresentation</th>\n",
       "      <th>(N)Portexit</th>\n",
       "      <th>(K)CStype</th>\n",
       "      <th>(G)controlled_stimulus_secondscomputer</th>\n",
       "      <th>(H)controlled_stimulus_minutescomputer</th>\n",
       "      <th>(I)controlled_stimulus_hourscomputer</th>\n",
       "      <th>...</th>\n",
       "      <th>Start Date</th>\n",
       "      <th>End Date</th>\n",
       "      <th>Subject</th>\n",
       "      <th>Experiment</th>\n",
       "      <th>Group</th>\n",
       "      <th>Box</th>\n",
       "      <th>Start Time</th>\n",
       "      <th>End Time</th>\n",
       "      <th>MSN</th>\n",
       "      <th>cage</th>\n",
       "    </tr>\n",
       "  </thead>\n",
       "  <tbody>\n",
       "    <tr>\n",
       "      <th>0</th>\n",
       "      <td>80.61</td>\n",
       "      <td>64.0</td>\n",
       "      <td>399.0</td>\n",
       "      <td>0.0</td>\n",
       "      <td>60.01</td>\n",
       "      <td>80.63</td>\n",
       "      <td>1.0</td>\n",
       "      <td>38.0</td>\n",
       "      <td>37.0</td>\n",
       "      <td>10.0</td>\n",
       "      <td>...</td>\n",
       "      <td>05/26/23</td>\n",
       "      <td>05/26/23</td>\n",
       "      <td>1.2</td>\n",
       "      <td>reward_competition_extention</td>\n",
       "      <td>CAGE1</td>\n",
       "      <td>2</td>\n",
       "      <td>10:09:07</td>\n",
       "      <td>11:37:38</td>\n",
       "      <td>CD1_reward_training</td>\n",
       "      <td>1</td>\n",
       "    </tr>\n",
       "    <tr>\n",
       "      <th>1</th>\n",
       "      <td>80.65</td>\n",
       "      <td>144.0</td>\n",
       "      <td>399.0</td>\n",
       "      <td>0.0</td>\n",
       "      <td>140.01</td>\n",
       "      <td>82.56</td>\n",
       "      <td>1.0</td>\n",
       "      <td>58.0</td>\n",
       "      <td>38.0</td>\n",
       "      <td>10.0</td>\n",
       "      <td>...</td>\n",
       "      <td>05/26/23</td>\n",
       "      <td>05/26/23</td>\n",
       "      <td>1.2</td>\n",
       "      <td>reward_competition_extention</td>\n",
       "      <td>CAGE1</td>\n",
       "      <td>2</td>\n",
       "      <td>10:09:07</td>\n",
       "      <td>11:37:38</td>\n",
       "      <td>CD1_reward_training</td>\n",
       "      <td>1</td>\n",
       "    </tr>\n",
       "    <tr>\n",
       "      <th>2</th>\n",
       "      <td>82.58</td>\n",
       "      <td>234.0</td>\n",
       "      <td>399.0</td>\n",
       "      <td>0.0</td>\n",
       "      <td>230.01</td>\n",
       "      <td>82.72</td>\n",
       "      <td>1.0</td>\n",
       "      <td>28.0</td>\n",
       "      <td>40.0</td>\n",
       "      <td>10.0</td>\n",
       "      <td>...</td>\n",
       "      <td>05/26/23</td>\n",
       "      <td>05/26/23</td>\n",
       "      <td>1.2</td>\n",
       "      <td>reward_competition_extention</td>\n",
       "      <td>CAGE1</td>\n",
       "      <td>2</td>\n",
       "      <td>10:09:07</td>\n",
       "      <td>11:37:38</td>\n",
       "      <td>CD1_reward_training</td>\n",
       "      <td>1</td>\n",
       "    </tr>\n",
       "    <tr>\n",
       "      <th>3</th>\n",
       "      <td>83.31</td>\n",
       "      <td>314.0</td>\n",
       "      <td>399.0</td>\n",
       "      <td>0.0</td>\n",
       "      <td>310.01</td>\n",
       "      <td>83.45</td>\n",
       "      <td>1.0</td>\n",
       "      <td>48.0</td>\n",
       "      <td>41.0</td>\n",
       "      <td>10.0</td>\n",
       "      <td>...</td>\n",
       "      <td>05/26/23</td>\n",
       "      <td>05/26/23</td>\n",
       "      <td>1.2</td>\n",
       "      <td>reward_competition_extention</td>\n",
       "      <td>CAGE1</td>\n",
       "      <td>2</td>\n",
       "      <td>10:09:07</td>\n",
       "      <td>11:37:38</td>\n",
       "      <td>CD1_reward_training</td>\n",
       "      <td>1</td>\n",
       "    </tr>\n",
       "    <tr>\n",
       "      <th>4</th>\n",
       "      <td>83.47</td>\n",
       "      <td>389.0</td>\n",
       "      <td>399.0</td>\n",
       "      <td>0.0</td>\n",
       "      <td>385.01</td>\n",
       "      <td>83.96</td>\n",
       "      <td>1.0</td>\n",
       "      <td>3.0</td>\n",
       "      <td>43.0</td>\n",
       "      <td>10.0</td>\n",
       "      <td>...</td>\n",
       "      <td>05/26/23</td>\n",
       "      <td>05/26/23</td>\n",
       "      <td>1.2</td>\n",
       "      <td>reward_competition_extention</td>\n",
       "      <td>CAGE1</td>\n",
       "      <td>2</td>\n",
       "      <td>10:09:07</td>\n",
       "      <td>11:37:38</td>\n",
       "      <td>CD1_reward_training</td>\n",
       "      <td>1</td>\n",
       "    </tr>\n",
       "  </tbody>\n",
       "</table>\n",
       "<p>5 rows × 28 columns</p>\n",
       "</div>"
      ],
      "text/plain": [
       "   (P)Portentry  (Q)USdelivery  (R)UStime  (W)ITIvalues  (S)CSpresentation   \n",
       "0         80.61           64.0      399.0           0.0              60.01  \\\n",
       "1         80.65          144.0      399.0           0.0             140.01   \n",
       "2         82.58          234.0      399.0           0.0             230.01   \n",
       "3         83.31          314.0      399.0           0.0             310.01   \n",
       "4         83.47          389.0      399.0           0.0             385.01   \n",
       "\n",
       "   (N)Portexit  (K)CStype  (G)controlled_stimulus_secondscomputer   \n",
       "0        80.63        1.0                                    38.0  \\\n",
       "1        82.56        1.0                                    58.0   \n",
       "2        82.72        1.0                                    28.0   \n",
       "3        83.45        1.0                                    48.0   \n",
       "4        83.96        1.0                                     3.0   \n",
       "\n",
       "   (H)controlled_stimulus_minutescomputer   \n",
       "0                                    37.0  \\\n",
       "1                                    38.0   \n",
       "2                                    40.0   \n",
       "3                                    41.0   \n",
       "4                                    43.0   \n",
       "\n",
       "   (I)controlled_stimulus_hourscomputer  ...  Start Date  End Date  Subject   \n",
       "0                                  10.0  ...    05/26/23  05/26/23      1.2  \\\n",
       "1                                  10.0  ...    05/26/23  05/26/23      1.2   \n",
       "2                                  10.0  ...    05/26/23  05/26/23      1.2   \n",
       "3                                  10.0  ...    05/26/23  05/26/23      1.2   \n",
       "4                                  10.0  ...    05/26/23  05/26/23      1.2   \n",
       "\n",
       "                     Experiment  Group Box Start Time  End Time   \n",
       "0  reward_competition_extention  CAGE1   2   10:09:07  11:37:38  \\\n",
       "1  reward_competition_extention  CAGE1   2   10:09:07  11:37:38   \n",
       "2  reward_competition_extention  CAGE1   2   10:09:07  11:37:38   \n",
       "3  reward_competition_extention  CAGE1   2   10:09:07  11:37:38   \n",
       "4  reward_competition_extention  CAGE1   2   10:09:07  11:37:38   \n",
       "\n",
       "                   MSN cage  \n",
       "0  CD1_reward_training    1  \n",
       "1  CD1_reward_training    1  \n",
       "2  CD1_reward_training    1  \n",
       "3  CD1_reward_training    1  \n",
       "4  CD1_reward_training    1  \n",
       "\n",
       "[5 rows x 28 columns]"
      ]
     },
     "execution_count": 13,
     "metadata": {},
     "output_type": "execute_result"
    }
   ],
   "source": [
    "recording_and_metadata_df.head()"
   ]
  },
  {
   "cell_type": "markdown",
   "id": "136f442d",
   "metadata": {},
   "source": [
    "# Adjusting the days and cages that are being looked at"
   ]
  },
  {
   "cell_type": "markdown",
   "id": "764e733b",
   "metadata": {},
   "source": [
    "- List of all the subject names"
   ]
  },
  {
   "cell_type": "code",
   "execution_count": 14,
   "id": "a5def1d5",
   "metadata": {},
   "outputs": [],
   "source": [
    "all_subjects = sorted(recording_and_metadata_df[\"Subject\"].unique())"
   ]
  },
  {
   "cell_type": "code",
   "execution_count": 15,
   "id": "e92ef6c0",
   "metadata": {},
   "outputs": [
    {
     "data": {
      "text/plain": [
       "[1.1, 1.2, 1.3, 1.4]"
      ]
     },
     "execution_count": 15,
     "metadata": {},
     "output_type": "execute_result"
    }
   ],
   "source": [
    "all_subjects"
   ]
  },
  {
   "cell_type": "markdown",
   "id": "9b891452",
   "metadata": {},
   "source": [
    "- List of all the cage numbers"
   ]
  },
  {
   "cell_type": "code",
   "execution_count": 16,
   "id": "5492a59e",
   "metadata": {},
   "outputs": [],
   "source": [
    "all_cages = sorted(recording_and_metadata_df[\"cage\"].unique())"
   ]
  },
  {
   "cell_type": "code",
   "execution_count": 17,
   "id": "b0e5de43",
   "metadata": {},
   "outputs": [
    {
     "data": {
      "text/plain": [
       "[1]"
      ]
     },
     "execution_count": 17,
     "metadata": {},
     "output_type": "execute_result"
    }
   ],
   "source": [
    "all_cages"
   ]
  },
  {
   "cell_type": "markdown",
   "id": "f4d39e6f",
   "metadata": {},
   "source": [
    "- List of all the dates"
   ]
  },
  {
   "cell_type": "code",
   "execution_count": 18,
   "id": "8b3635d2",
   "metadata": {},
   "outputs": [],
   "source": [
    "all_dates = sorted(recording_and_metadata_df[\"date\"].unique())"
   ]
  },
  {
   "cell_type": "code",
   "execution_count": 19,
   "id": "0f1b9ec3",
   "metadata": {},
   "outputs": [
    {
     "data": {
      "text/plain": [
       "[20230526, 20230527, 20230528]"
      ]
     },
     "execution_count": 19,
     "metadata": {},
     "output_type": "execute_result"
    }
   ],
   "source": [
    "all_dates"
   ]
  },
  {
   "cell_type": "code",
   "execution_count": null,
   "id": "606c1237",
   "metadata": {},
   "outputs": [],
   "source": []
  },
  {
   "cell_type": "markdown",
   "id": "131e8fca",
   "metadata": {},
   "source": [
    "# NOTE: Follow directions below if you want to change which cages or dates to plot`"
   ]
  },
  {
   "cell_type": "markdown",
   "id": "6b3d889f",
   "metadata": {},
   "source": [
    "- You must change the cell below by clicking on the cell and then pressing the `esc` key. Then press the `Y` button on your keyboard. If you want to switch it back do the same but press the `R` button instead. This switches it from a cell that is run as if it's code, or back to a cell where it's just treated as text\n",
    "- Then from above, copy the numbers that you want to use for the cage numbers and the dates"
   ]
  },
  {
   "cell_type": "raw",
   "id": "0c94cdbf",
   "metadata": {},
   "source": [
    "all_cages = [1]\n",
    "all_dates = [20220508, 20220509, 20220510, 20220511, 20220512]"
   ]
  },
  {
   "cell_type": "code",
   "execution_count": null,
   "id": "c3ccd2bc",
   "metadata": {},
   "outputs": [],
   "source": []
  },
  {
   "cell_type": "code",
   "execution_count": 20,
   "id": "a8bb92e2",
   "metadata": {},
   "outputs": [],
   "source": [
    "recording_and_metadata_df = recording_and_metadata_df[recording_and_metadata_df[\"cage\"].isin(all_cages) & recording_and_metadata_df[\"date\"].isin(all_dates)]"
   ]
  },
  {
   "cell_type": "markdown",
   "id": "5b125067",
   "metadata": {},
   "source": [
    "## Getting the Cage Numbers and the Dates for the file names"
   ]
  },
  {
   "cell_type": "markdown",
   "id": "65845ee0",
   "metadata": {},
   "source": [
    "- Seeing if any rows have NaN values for the cages"
   ]
  },
  {
   "cell_type": "code",
   "execution_count": 21,
   "id": "d0f3d0ea",
   "metadata": {},
   "outputs": [
    {
     "data": {
      "text/html": [
       "<div>\n",
       "<style scoped>\n",
       "    .dataframe tbody tr th:only-of-type {\n",
       "        vertical-align: middle;\n",
       "    }\n",
       "\n",
       "    .dataframe tbody tr th {\n",
       "        vertical-align: top;\n",
       "    }\n",
       "\n",
       "    .dataframe thead th {\n",
       "        text-align: right;\n",
       "    }\n",
       "</style>\n",
       "<table border=\"1\" class=\"dataframe\">\n",
       "  <thead>\n",
       "    <tr style=\"text-align: right;\">\n",
       "      <th></th>\n",
       "      <th>(P)Portentry</th>\n",
       "      <th>(Q)USdelivery</th>\n",
       "      <th>(R)UStime</th>\n",
       "      <th>(W)ITIvalues</th>\n",
       "      <th>(S)CSpresentation</th>\n",
       "      <th>(N)Portexit</th>\n",
       "      <th>(K)CStype</th>\n",
       "      <th>(G)controlled_stimulus_secondscomputer</th>\n",
       "      <th>(H)controlled_stimulus_minutescomputer</th>\n",
       "      <th>(I)controlled_stimulus_hourscomputer</th>\n",
       "      <th>...</th>\n",
       "      <th>Start Date</th>\n",
       "      <th>End Date</th>\n",
       "      <th>Subject</th>\n",
       "      <th>Experiment</th>\n",
       "      <th>Group</th>\n",
       "      <th>Box</th>\n",
       "      <th>Start Time</th>\n",
       "      <th>End Time</th>\n",
       "      <th>MSN</th>\n",
       "      <th>cage</th>\n",
       "    </tr>\n",
       "  </thead>\n",
       "  <tbody>\n",
       "  </tbody>\n",
       "</table>\n",
       "<p>0 rows × 28 columns</p>\n",
       "</div>"
      ],
      "text/plain": [
       "Empty DataFrame\n",
       "Columns: [(P)Portentry, (Q)USdelivery, (R)UStime, (W)ITIvalues, (S)CSpresentation, (N)Portexit, (K)CStype, (G)controlled_stimulus_secondscomputer, (H)controlled_stimulus_minutescomputer, (I)controlled_stimulus_hourscomputer, (B)port_entry_secondscomputer, (F)port_entry_minutescomputer, (J)port_entry_hourscomputer, date, subject, file_path, index, File, Start Date, End Date, Subject, Experiment, Group, Box, Start Time, End Time, MSN, cage]\n",
       "Index: []\n",
       "\n",
       "[0 rows x 28 columns]"
      ]
     },
     "execution_count": 21,
     "metadata": {},
     "output_type": "execute_result"
    }
   ],
   "source": [
    "recording_and_metadata_df[pd.isna(recording_and_metadata_df[\"cage\"])]"
   ]
  },
  {
   "cell_type": "markdown",
   "id": "5b233420",
   "metadata": {},
   "source": [
    "- Dropping the NaN values so we can get the cage numbers"
   ]
  },
  {
   "cell_type": "code",
   "execution_count": 22,
   "id": "f55a3cf1",
   "metadata": {},
   "outputs": [],
   "source": [
    "recording_and_metadata_df = recording_and_metadata_df.dropna(subset=[\"cage\"])"
   ]
  },
  {
   "cell_type": "code",
   "execution_count": 23,
   "id": "9c84b588",
   "metadata": {},
   "outputs": [],
   "source": [
    "# removing blank spaces\n",
    "cage_numbers = [str(int(number)) for number in all_cages if number is not np.nan]\n",
    "# sorting numbers\n",
    "cage_numbers = sorted(cage_numbers)\n",
    "cage_numbers_for_title = \"_\".join(cage_numbers)"
   ]
  },
  {
   "cell_type": "code",
   "execution_count": 24,
   "id": "578dc612",
   "metadata": {},
   "outputs": [
    {
     "data": {
      "text/plain": [
       "'1'"
      ]
     },
     "execution_count": 24,
     "metadata": {},
     "output_type": "execute_result"
    }
   ],
   "source": [
    "cage_numbers_for_title"
   ]
  },
  {
   "cell_type": "code",
   "execution_count": 25,
   "id": "b943d673",
   "metadata": {},
   "outputs": [],
   "source": [
    "# Getting the first and last recording date to get a range\n",
    "earliest_date = min(all_dates)\n",
    "latest_date = max(all_dates)"
   ]
  },
  {
   "cell_type": "code",
   "execution_count": 26,
   "id": "80e05406",
   "metadata": {},
   "outputs": [
    {
     "data": {
      "text/plain": [
       "20230526"
      ]
     },
     "execution_count": 26,
     "metadata": {},
     "output_type": "execute_result"
    }
   ],
   "source": [
    "earliest_date"
   ]
  },
  {
   "cell_type": "code",
   "execution_count": 27,
   "id": "ca6fbe08",
   "metadata": {},
   "outputs": [
    {
     "data": {
      "text/plain": [
       "20230528"
      ]
     },
     "execution_count": 27,
     "metadata": {},
     "output_type": "execute_result"
    }
   ],
   "source": [
    "latest_date"
   ]
  },
  {
   "cell_type": "markdown",
   "id": "29cb4a79",
   "metadata": {},
   "source": [
    "# Getting the Probability that the Mice Is Inside the Port"
   ]
  },
  {
   "cell_type": "markdown",
   "id": "80b22ed4",
   "metadata": {},
   "source": [
    "- Port entry precision is calculated by finding the number of trials in one recording session that a subject is in the port entry. This is done by divding all of the time of the session into 10ms increments. And then seeing how many times a subject is in that port for a given 10 ms increment for all the sessions. \n",
    "    - MED-PC records only in 10ms intervals(the smallest that it can), so a subject is either in the port or not. It is binary.\n",
    "    - For example, we may be interested in what's happening 5 seconds after the tone plays. We would look at all the recordings that happened between 5 seconds to 5 seconds and 10ms after the tone for all session. If there was 10 total sessions in one trial and the subject was in the port 4 times during the 5s to 5s 10ms interval, then the probability is 4/10.\n"
   ]
  },
  {
   "cell_type": "markdown",
   "id": "911d6611",
   "metadata": {},
   "source": [
    "## 1. Getting All the Time Intervals Between the Port Entry and Port Exit Times"
   ]
  },
  {
   "cell_type": "markdown",
   "id": "ef357066",
   "metadata": {},
   "source": [
    "- We will do an example with just one recording session"
   ]
  },
  {
   "cell_type": "code",
   "execution_count": 28,
   "id": "f5292a46",
   "metadata": {},
   "outputs": [],
   "source": [
    "example_med_pc_file = recording_and_metadata_df[\"file_path\"].iloc[0]"
   ]
  },
  {
   "cell_type": "code",
   "execution_count": 29,
   "id": "86cbdba5",
   "metadata": {},
   "outputs": [],
   "source": [
    "example_med_pc_df = recording_and_metadata_df[recording_and_metadata_df[\"file_path\"] == example_med_pc_file]"
   ]
  },
  {
   "cell_type": "code",
   "execution_count": null,
   "id": "8e1f1c1f",
   "metadata": {},
   "outputs": [],
   "source": []
  },
  {
   "cell_type": "code",
   "execution_count": 30,
   "id": "9ef83b79",
   "metadata": {},
   "outputs": [
    {
     "data": {
      "text/plain": [
       "0        ./data/2023-05-26_10h09m_Subject 1.2.txt\n",
       "1        ./data/2023-05-26_10h09m_Subject 1.2.txt\n",
       "2        ./data/2023-05-26_10h09m_Subject 1.2.txt\n",
       "3        ./data/2023-05-26_10h09m_Subject 1.2.txt\n",
       "4        ./data/2023-05-26_10h09m_Subject 1.2.txt\n",
       "                           ...                   \n",
       "72091    ./data/2023-05-26_10h09m_Subject 1.1.txt\n",
       "72092    ./data/2023-05-26_10h09m_Subject 1.1.txt\n",
       "72093    ./data/2023-05-26_10h09m_Subject 1.1.txt\n",
       "72094    ./data/2023-05-26_10h09m_Subject 1.1.txt\n",
       "72095    ./data/2023-05-26_10h09m_Subject 1.1.txt\n",
       "Name: file_path, Length: 72096, dtype: object"
      ]
     },
     "execution_count": 30,
     "metadata": {},
     "output_type": "execute_result"
    }
   ],
   "source": [
    "recording_and_metadata_df[\"file_path\"]"
   ]
  },
  {
   "cell_type": "code",
   "execution_count": 31,
   "id": "5f748dd3",
   "metadata": {},
   "outputs": [
    {
     "data": {
      "text/html": [
       "<div>\n",
       "<style scoped>\n",
       "    .dataframe tbody tr th:only-of-type {\n",
       "        vertical-align: middle;\n",
       "    }\n",
       "\n",
       "    .dataframe tbody tr th {\n",
       "        vertical-align: top;\n",
       "    }\n",
       "\n",
       "    .dataframe thead th {\n",
       "        text-align: right;\n",
       "    }\n",
       "</style>\n",
       "<table border=\"1\" class=\"dataframe\">\n",
       "  <thead>\n",
       "    <tr style=\"text-align: right;\">\n",
       "      <th></th>\n",
       "      <th>(P)Portentry</th>\n",
       "      <th>(Q)USdelivery</th>\n",
       "      <th>(R)UStime</th>\n",
       "      <th>(W)ITIvalues</th>\n",
       "      <th>(S)CSpresentation</th>\n",
       "      <th>(N)Portexit</th>\n",
       "      <th>(K)CStype</th>\n",
       "      <th>(G)controlled_stimulus_secondscomputer</th>\n",
       "      <th>(H)controlled_stimulus_minutescomputer</th>\n",
       "      <th>(I)controlled_stimulus_hourscomputer</th>\n",
       "      <th>...</th>\n",
       "      <th>Start Date</th>\n",
       "      <th>End Date</th>\n",
       "      <th>Subject</th>\n",
       "      <th>Experiment</th>\n",
       "      <th>Group</th>\n",
       "      <th>Box</th>\n",
       "      <th>Start Time</th>\n",
       "      <th>End Time</th>\n",
       "      <th>MSN</th>\n",
       "      <th>cage</th>\n",
       "    </tr>\n",
       "  </thead>\n",
       "  <tbody>\n",
       "    <tr>\n",
       "      <th>0</th>\n",
       "      <td>80.61</td>\n",
       "      <td>64.0</td>\n",
       "      <td>399.0</td>\n",
       "      <td>0.0</td>\n",
       "      <td>60.01</td>\n",
       "      <td>80.63</td>\n",
       "      <td>1.0</td>\n",
       "      <td>38.0</td>\n",
       "      <td>37.0</td>\n",
       "      <td>10.0</td>\n",
       "      <td>...</td>\n",
       "      <td>05/26/23</td>\n",
       "      <td>05/26/23</td>\n",
       "      <td>1.2</td>\n",
       "      <td>reward_competition_extention</td>\n",
       "      <td>CAGE1</td>\n",
       "      <td>2</td>\n",
       "      <td>10:09:07</td>\n",
       "      <td>11:37:38</td>\n",
       "      <td>CD1_reward_training</td>\n",
       "      <td>1</td>\n",
       "    </tr>\n",
       "    <tr>\n",
       "      <th>1</th>\n",
       "      <td>80.65</td>\n",
       "      <td>144.0</td>\n",
       "      <td>399.0</td>\n",
       "      <td>0.0</td>\n",
       "      <td>140.01</td>\n",
       "      <td>82.56</td>\n",
       "      <td>1.0</td>\n",
       "      <td>58.0</td>\n",
       "      <td>38.0</td>\n",
       "      <td>10.0</td>\n",
       "      <td>...</td>\n",
       "      <td>05/26/23</td>\n",
       "      <td>05/26/23</td>\n",
       "      <td>1.2</td>\n",
       "      <td>reward_competition_extention</td>\n",
       "      <td>CAGE1</td>\n",
       "      <td>2</td>\n",
       "      <td>10:09:07</td>\n",
       "      <td>11:37:38</td>\n",
       "      <td>CD1_reward_training</td>\n",
       "      <td>1</td>\n",
       "    </tr>\n",
       "    <tr>\n",
       "      <th>2</th>\n",
       "      <td>82.58</td>\n",
       "      <td>234.0</td>\n",
       "      <td>399.0</td>\n",
       "      <td>0.0</td>\n",
       "      <td>230.01</td>\n",
       "      <td>82.72</td>\n",
       "      <td>1.0</td>\n",
       "      <td>28.0</td>\n",
       "      <td>40.0</td>\n",
       "      <td>10.0</td>\n",
       "      <td>...</td>\n",
       "      <td>05/26/23</td>\n",
       "      <td>05/26/23</td>\n",
       "      <td>1.2</td>\n",
       "      <td>reward_competition_extention</td>\n",
       "      <td>CAGE1</td>\n",
       "      <td>2</td>\n",
       "      <td>10:09:07</td>\n",
       "      <td>11:37:38</td>\n",
       "      <td>CD1_reward_training</td>\n",
       "      <td>1</td>\n",
       "    </tr>\n",
       "    <tr>\n",
       "      <th>3</th>\n",
       "      <td>83.31</td>\n",
       "      <td>314.0</td>\n",
       "      <td>399.0</td>\n",
       "      <td>0.0</td>\n",
       "      <td>310.01</td>\n",
       "      <td>83.45</td>\n",
       "      <td>1.0</td>\n",
       "      <td>48.0</td>\n",
       "      <td>41.0</td>\n",
       "      <td>10.0</td>\n",
       "      <td>...</td>\n",
       "      <td>05/26/23</td>\n",
       "      <td>05/26/23</td>\n",
       "      <td>1.2</td>\n",
       "      <td>reward_competition_extention</td>\n",
       "      <td>CAGE1</td>\n",
       "      <td>2</td>\n",
       "      <td>10:09:07</td>\n",
       "      <td>11:37:38</td>\n",
       "      <td>CD1_reward_training</td>\n",
       "      <td>1</td>\n",
       "    </tr>\n",
       "    <tr>\n",
       "      <th>4</th>\n",
       "      <td>83.47</td>\n",
       "      <td>389.0</td>\n",
       "      <td>399.0</td>\n",
       "      <td>0.0</td>\n",
       "      <td>385.01</td>\n",
       "      <td>83.96</td>\n",
       "      <td>1.0</td>\n",
       "      <td>3.0</td>\n",
       "      <td>43.0</td>\n",
       "      <td>10.0</td>\n",
       "      <td>...</td>\n",
       "      <td>05/26/23</td>\n",
       "      <td>05/26/23</td>\n",
       "      <td>1.2</td>\n",
       "      <td>reward_competition_extention</td>\n",
       "      <td>CAGE1</td>\n",
       "      <td>2</td>\n",
       "      <td>10:09:07</td>\n",
       "      <td>11:37:38</td>\n",
       "      <td>CD1_reward_training</td>\n",
       "      <td>1</td>\n",
       "    </tr>\n",
       "  </tbody>\n",
       "</table>\n",
       "<p>5 rows × 28 columns</p>\n",
       "</div>"
      ],
      "text/plain": [
       "   (P)Portentry  (Q)USdelivery  (R)UStime  (W)ITIvalues  (S)CSpresentation   \n",
       "0         80.61           64.0      399.0           0.0              60.01  \\\n",
       "1         80.65          144.0      399.0           0.0             140.01   \n",
       "2         82.58          234.0      399.0           0.0             230.01   \n",
       "3         83.31          314.0      399.0           0.0             310.01   \n",
       "4         83.47          389.0      399.0           0.0             385.01   \n",
       "\n",
       "   (N)Portexit  (K)CStype  (G)controlled_stimulus_secondscomputer   \n",
       "0        80.63        1.0                                    38.0  \\\n",
       "1        82.56        1.0                                    58.0   \n",
       "2        82.72        1.0                                    28.0   \n",
       "3        83.45        1.0                                    48.0   \n",
       "4        83.96        1.0                                     3.0   \n",
       "\n",
       "   (H)controlled_stimulus_minutescomputer   \n",
       "0                                    37.0  \\\n",
       "1                                    38.0   \n",
       "2                                    40.0   \n",
       "3                                    41.0   \n",
       "4                                    43.0   \n",
       "\n",
       "   (I)controlled_stimulus_hourscomputer  ...  Start Date  End Date  Subject   \n",
       "0                                  10.0  ...    05/26/23  05/26/23      1.2  \\\n",
       "1                                  10.0  ...    05/26/23  05/26/23      1.2   \n",
       "2                                  10.0  ...    05/26/23  05/26/23      1.2   \n",
       "3                                  10.0  ...    05/26/23  05/26/23      1.2   \n",
       "4                                  10.0  ...    05/26/23  05/26/23      1.2   \n",
       "\n",
       "                     Experiment  Group Box Start Time  End Time   \n",
       "0  reward_competition_extention  CAGE1   2   10:09:07  11:37:38  \\\n",
       "1  reward_competition_extention  CAGE1   2   10:09:07  11:37:38   \n",
       "2  reward_competition_extention  CAGE1   2   10:09:07  11:37:38   \n",
       "3  reward_competition_extention  CAGE1   2   10:09:07  11:37:38   \n",
       "4  reward_competition_extention  CAGE1   2   10:09:07  11:37:38   \n",
       "\n",
       "                   MSN cage  \n",
       "0  CD1_reward_training    1  \n",
       "1  CD1_reward_training    1  \n",
       "2  CD1_reward_training    1  \n",
       "3  CD1_reward_training    1  \n",
       "4  CD1_reward_training    1  \n",
       "\n",
       "[5 rows x 28 columns]"
      ]
     },
     "execution_count": 31,
     "metadata": {},
     "output_type": "execute_result"
    }
   ],
   "source": [
    "example_med_pc_df.head()"
   ]
  },
  {
   "cell_type": "markdown",
   "id": "972050a8",
   "metadata": {},
   "source": [
    "## 1.1 Processing the Dataframe to remove all rows with NaNs"
   ]
  },
  {
   "cell_type": "markdown",
   "id": "970f5fb1",
   "metadata": {},
   "source": [
    "- Our first goal is to get all the port entry and exit times\n",
    "- To do this, we must remove all extraneous rows that have NaNs for the port entry and exit times"
   ]
  },
  {
   "cell_type": "code",
   "execution_count": 32,
   "id": "ad70165e",
   "metadata": {},
   "outputs": [],
   "source": [
    "example_med_pc_df = example_med_pc_df.dropna(subset=(\"(P)Portentry\", \"(N)Portexit\"))"
   ]
  },
  {
   "cell_type": "code",
   "execution_count": 33,
   "id": "ae253548",
   "metadata": {},
   "outputs": [
    {
     "data": {
      "text/html": [
       "<div>\n",
       "<style scoped>\n",
       "    .dataframe tbody tr th:only-of-type {\n",
       "        vertical-align: middle;\n",
       "    }\n",
       "\n",
       "    .dataframe tbody tr th {\n",
       "        vertical-align: top;\n",
       "    }\n",
       "\n",
       "    .dataframe thead th {\n",
       "        text-align: right;\n",
       "    }\n",
       "</style>\n",
       "<table border=\"1\" class=\"dataframe\">\n",
       "  <thead>\n",
       "    <tr style=\"text-align: right;\">\n",
       "      <th></th>\n",
       "      <th>(P)Portentry</th>\n",
       "      <th>(Q)USdelivery</th>\n",
       "      <th>(R)UStime</th>\n",
       "      <th>(W)ITIvalues</th>\n",
       "      <th>(S)CSpresentation</th>\n",
       "      <th>(N)Portexit</th>\n",
       "      <th>(K)CStype</th>\n",
       "      <th>(G)controlled_stimulus_secondscomputer</th>\n",
       "      <th>(H)controlled_stimulus_minutescomputer</th>\n",
       "      <th>(I)controlled_stimulus_hourscomputer</th>\n",
       "      <th>...</th>\n",
       "      <th>Start Date</th>\n",
       "      <th>End Date</th>\n",
       "      <th>Subject</th>\n",
       "      <th>Experiment</th>\n",
       "      <th>Group</th>\n",
       "      <th>Box</th>\n",
       "      <th>Start Time</th>\n",
       "      <th>End Time</th>\n",
       "      <th>MSN</th>\n",
       "      <th>cage</th>\n",
       "    </tr>\n",
       "  </thead>\n",
       "  <tbody>\n",
       "    <tr>\n",
       "      <th>0</th>\n",
       "      <td>80.61</td>\n",
       "      <td>64.0</td>\n",
       "      <td>399.0</td>\n",
       "      <td>0.0</td>\n",
       "      <td>60.01</td>\n",
       "      <td>80.63</td>\n",
       "      <td>1.0</td>\n",
       "      <td>38.0</td>\n",
       "      <td>37.0</td>\n",
       "      <td>10.0</td>\n",
       "      <td>...</td>\n",
       "      <td>05/26/23</td>\n",
       "      <td>05/26/23</td>\n",
       "      <td>1.2</td>\n",
       "      <td>reward_competition_extention</td>\n",
       "      <td>CAGE1</td>\n",
       "      <td>2</td>\n",
       "      <td>10:09:07</td>\n",
       "      <td>11:37:38</td>\n",
       "      <td>CD1_reward_training</td>\n",
       "      <td>1</td>\n",
       "    </tr>\n",
       "    <tr>\n",
       "      <th>1</th>\n",
       "      <td>80.65</td>\n",
       "      <td>144.0</td>\n",
       "      <td>399.0</td>\n",
       "      <td>0.0</td>\n",
       "      <td>140.01</td>\n",
       "      <td>82.56</td>\n",
       "      <td>1.0</td>\n",
       "      <td>58.0</td>\n",
       "      <td>38.0</td>\n",
       "      <td>10.0</td>\n",
       "      <td>...</td>\n",
       "      <td>05/26/23</td>\n",
       "      <td>05/26/23</td>\n",
       "      <td>1.2</td>\n",
       "      <td>reward_competition_extention</td>\n",
       "      <td>CAGE1</td>\n",
       "      <td>2</td>\n",
       "      <td>10:09:07</td>\n",
       "      <td>11:37:38</td>\n",
       "      <td>CD1_reward_training</td>\n",
       "      <td>1</td>\n",
       "    </tr>\n",
       "    <tr>\n",
       "      <th>2</th>\n",
       "      <td>82.58</td>\n",
       "      <td>234.0</td>\n",
       "      <td>399.0</td>\n",
       "      <td>0.0</td>\n",
       "      <td>230.01</td>\n",
       "      <td>82.72</td>\n",
       "      <td>1.0</td>\n",
       "      <td>28.0</td>\n",
       "      <td>40.0</td>\n",
       "      <td>10.0</td>\n",
       "      <td>...</td>\n",
       "      <td>05/26/23</td>\n",
       "      <td>05/26/23</td>\n",
       "      <td>1.2</td>\n",
       "      <td>reward_competition_extention</td>\n",
       "      <td>CAGE1</td>\n",
       "      <td>2</td>\n",
       "      <td>10:09:07</td>\n",
       "      <td>11:37:38</td>\n",
       "      <td>CD1_reward_training</td>\n",
       "      <td>1</td>\n",
       "    </tr>\n",
       "    <tr>\n",
       "      <th>3</th>\n",
       "      <td>83.31</td>\n",
       "      <td>314.0</td>\n",
       "      <td>399.0</td>\n",
       "      <td>0.0</td>\n",
       "      <td>310.01</td>\n",
       "      <td>83.45</td>\n",
       "      <td>1.0</td>\n",
       "      <td>48.0</td>\n",
       "      <td>41.0</td>\n",
       "      <td>10.0</td>\n",
       "      <td>...</td>\n",
       "      <td>05/26/23</td>\n",
       "      <td>05/26/23</td>\n",
       "      <td>1.2</td>\n",
       "      <td>reward_competition_extention</td>\n",
       "      <td>CAGE1</td>\n",
       "      <td>2</td>\n",
       "      <td>10:09:07</td>\n",
       "      <td>11:37:38</td>\n",
       "      <td>CD1_reward_training</td>\n",
       "      <td>1</td>\n",
       "    </tr>\n",
       "    <tr>\n",
       "      <th>4</th>\n",
       "      <td>83.47</td>\n",
       "      <td>389.0</td>\n",
       "      <td>399.0</td>\n",
       "      <td>0.0</td>\n",
       "      <td>385.01</td>\n",
       "      <td>83.96</td>\n",
       "      <td>1.0</td>\n",
       "      <td>3.0</td>\n",
       "      <td>43.0</td>\n",
       "      <td>10.0</td>\n",
       "      <td>...</td>\n",
       "      <td>05/26/23</td>\n",
       "      <td>05/26/23</td>\n",
       "      <td>1.2</td>\n",
       "      <td>reward_competition_extention</td>\n",
       "      <td>CAGE1</td>\n",
       "      <td>2</td>\n",
       "      <td>10:09:07</td>\n",
       "      <td>11:37:38</td>\n",
       "      <td>CD1_reward_training</td>\n",
       "      <td>1</td>\n",
       "    </tr>\n",
       "    <tr>\n",
       "      <th>...</th>\n",
       "      <td>...</td>\n",
       "      <td>...</td>\n",
       "      <td>...</td>\n",
       "      <td>...</td>\n",
       "      <td>...</td>\n",
       "      <td>...</td>\n",
       "      <td>...</td>\n",
       "      <td>...</td>\n",
       "      <td>...</td>\n",
       "      <td>...</td>\n",
       "      <td>...</td>\n",
       "      <td>...</td>\n",
       "      <td>...</td>\n",
       "      <td>...</td>\n",
       "      <td>...</td>\n",
       "      <td>...</td>\n",
       "      <td>...</td>\n",
       "      <td>...</td>\n",
       "      <td>...</td>\n",
       "      <td>...</td>\n",
       "      <td>...</td>\n",
       "    </tr>\n",
       "    <tr>\n",
       "      <th>986</th>\n",
       "      <td>3645.11</td>\n",
       "      <td>NaN</td>\n",
       "      <td>NaN</td>\n",
       "      <td>0.0</td>\n",
       "      <td>NaN</td>\n",
       "      <td>3645.67</td>\n",
       "      <td>NaN</td>\n",
       "      <td>NaN</td>\n",
       "      <td>NaN</td>\n",
       "      <td>NaN</td>\n",
       "      <td>...</td>\n",
       "      <td>05/26/23</td>\n",
       "      <td>05/26/23</td>\n",
       "      <td>1.2</td>\n",
       "      <td>reward_competition_extention</td>\n",
       "      <td>CAGE1</td>\n",
       "      <td>2</td>\n",
       "      <td>10:09:07</td>\n",
       "      <td>11:37:38</td>\n",
       "      <td>CD1_reward_training</td>\n",
       "      <td>1</td>\n",
       "    </tr>\n",
       "    <tr>\n",
       "      <th>987</th>\n",
       "      <td>3645.75</td>\n",
       "      <td>NaN</td>\n",
       "      <td>NaN</td>\n",
       "      <td>0.0</td>\n",
       "      <td>NaN</td>\n",
       "      <td>3646.46</td>\n",
       "      <td>NaN</td>\n",
       "      <td>NaN</td>\n",
       "      <td>NaN</td>\n",
       "      <td>NaN</td>\n",
       "      <td>...</td>\n",
       "      <td>05/26/23</td>\n",
       "      <td>05/26/23</td>\n",
       "      <td>1.2</td>\n",
       "      <td>reward_competition_extention</td>\n",
       "      <td>CAGE1</td>\n",
       "      <td>2</td>\n",
       "      <td>10:09:07</td>\n",
       "      <td>11:37:38</td>\n",
       "      <td>CD1_reward_training</td>\n",
       "      <td>1</td>\n",
       "    </tr>\n",
       "    <tr>\n",
       "      <th>988</th>\n",
       "      <td>3646.72</td>\n",
       "      <td>NaN</td>\n",
       "      <td>NaN</td>\n",
       "      <td>0.0</td>\n",
       "      <td>NaN</td>\n",
       "      <td>3647.17</td>\n",
       "      <td>NaN</td>\n",
       "      <td>NaN</td>\n",
       "      <td>NaN</td>\n",
       "      <td>NaN</td>\n",
       "      <td>...</td>\n",
       "      <td>05/26/23</td>\n",
       "      <td>05/26/23</td>\n",
       "      <td>1.2</td>\n",
       "      <td>reward_competition_extention</td>\n",
       "      <td>CAGE1</td>\n",
       "      <td>2</td>\n",
       "      <td>10:09:07</td>\n",
       "      <td>11:37:38</td>\n",
       "      <td>CD1_reward_training</td>\n",
       "      <td>1</td>\n",
       "    </tr>\n",
       "    <tr>\n",
       "      <th>989</th>\n",
       "      <td>3654.38</td>\n",
       "      <td>NaN</td>\n",
       "      <td>NaN</td>\n",
       "      <td>0.0</td>\n",
       "      <td>NaN</td>\n",
       "      <td>3654.53</td>\n",
       "      <td>NaN</td>\n",
       "      <td>NaN</td>\n",
       "      <td>NaN</td>\n",
       "      <td>NaN</td>\n",
       "      <td>...</td>\n",
       "      <td>05/26/23</td>\n",
       "      <td>05/26/23</td>\n",
       "      <td>1.2</td>\n",
       "      <td>reward_competition_extention</td>\n",
       "      <td>CAGE1</td>\n",
       "      <td>2</td>\n",
       "      <td>10:09:07</td>\n",
       "      <td>11:37:38</td>\n",
       "      <td>CD1_reward_training</td>\n",
       "      <td>1</td>\n",
       "    </tr>\n",
       "    <tr>\n",
       "      <th>990</th>\n",
       "      <td>3654.64</td>\n",
       "      <td>NaN</td>\n",
       "      <td>NaN</td>\n",
       "      <td>0.0</td>\n",
       "      <td>NaN</td>\n",
       "      <td>3656.57</td>\n",
       "      <td>NaN</td>\n",
       "      <td>NaN</td>\n",
       "      <td>NaN</td>\n",
       "      <td>NaN</td>\n",
       "      <td>...</td>\n",
       "      <td>05/26/23</td>\n",
       "      <td>05/26/23</td>\n",
       "      <td>1.2</td>\n",
       "      <td>reward_competition_extention</td>\n",
       "      <td>CAGE1</td>\n",
       "      <td>2</td>\n",
       "      <td>10:09:07</td>\n",
       "      <td>11:37:38</td>\n",
       "      <td>CD1_reward_training</td>\n",
       "      <td>1</td>\n",
       "    </tr>\n",
       "  </tbody>\n",
       "</table>\n",
       "<p>991 rows × 28 columns</p>\n",
       "</div>"
      ],
      "text/plain": [
       "     (P)Portentry  (Q)USdelivery  (R)UStime  (W)ITIvalues  (S)CSpresentation   \n",
       "0           80.61           64.0      399.0           0.0              60.01  \\\n",
       "1           80.65          144.0      399.0           0.0             140.01   \n",
       "2           82.58          234.0      399.0           0.0             230.01   \n",
       "3           83.31          314.0      399.0           0.0             310.01   \n",
       "4           83.47          389.0      399.0           0.0             385.01   \n",
       "..            ...            ...        ...           ...                ...   \n",
       "986       3645.11            NaN        NaN           0.0                NaN   \n",
       "987       3645.75            NaN        NaN           0.0                NaN   \n",
       "988       3646.72            NaN        NaN           0.0                NaN   \n",
       "989       3654.38            NaN        NaN           0.0                NaN   \n",
       "990       3654.64            NaN        NaN           0.0                NaN   \n",
       "\n",
       "     (N)Portexit  (K)CStype  (G)controlled_stimulus_secondscomputer   \n",
       "0          80.63        1.0                                    38.0  \\\n",
       "1          82.56        1.0                                    58.0   \n",
       "2          82.72        1.0                                    28.0   \n",
       "3          83.45        1.0                                    48.0   \n",
       "4          83.96        1.0                                     3.0   \n",
       "..           ...        ...                                     ...   \n",
       "986      3645.67        NaN                                     NaN   \n",
       "987      3646.46        NaN                                     NaN   \n",
       "988      3647.17        NaN                                     NaN   \n",
       "989      3654.53        NaN                                     NaN   \n",
       "990      3656.57        NaN                                     NaN   \n",
       "\n",
       "     (H)controlled_stimulus_minutescomputer   \n",
       "0                                      37.0  \\\n",
       "1                                      38.0   \n",
       "2                                      40.0   \n",
       "3                                      41.0   \n",
       "4                                      43.0   \n",
       "..                                      ...   \n",
       "986                                     NaN   \n",
       "987                                     NaN   \n",
       "988                                     NaN   \n",
       "989                                     NaN   \n",
       "990                                     NaN   \n",
       "\n",
       "     (I)controlled_stimulus_hourscomputer  ...  Start Date  End Date  Subject   \n",
       "0                                    10.0  ...    05/26/23  05/26/23      1.2  \\\n",
       "1                                    10.0  ...    05/26/23  05/26/23      1.2   \n",
       "2                                    10.0  ...    05/26/23  05/26/23      1.2   \n",
       "3                                    10.0  ...    05/26/23  05/26/23      1.2   \n",
       "4                                    10.0  ...    05/26/23  05/26/23      1.2   \n",
       "..                                    ...  ...         ...       ...      ...   \n",
       "986                                   NaN  ...    05/26/23  05/26/23      1.2   \n",
       "987                                   NaN  ...    05/26/23  05/26/23      1.2   \n",
       "988                                   NaN  ...    05/26/23  05/26/23      1.2   \n",
       "989                                   NaN  ...    05/26/23  05/26/23      1.2   \n",
       "990                                   NaN  ...    05/26/23  05/26/23      1.2   \n",
       "\n",
       "                       Experiment  Group Box Start Time  End Time   \n",
       "0    reward_competition_extention  CAGE1   2   10:09:07  11:37:38  \\\n",
       "1    reward_competition_extention  CAGE1   2   10:09:07  11:37:38   \n",
       "2    reward_competition_extention  CAGE1   2   10:09:07  11:37:38   \n",
       "3    reward_competition_extention  CAGE1   2   10:09:07  11:37:38   \n",
       "4    reward_competition_extention  CAGE1   2   10:09:07  11:37:38   \n",
       "..                            ...    ...  ..        ...       ...   \n",
       "986  reward_competition_extention  CAGE1   2   10:09:07  11:37:38   \n",
       "987  reward_competition_extention  CAGE1   2   10:09:07  11:37:38   \n",
       "988  reward_competition_extention  CAGE1   2   10:09:07  11:37:38   \n",
       "989  reward_competition_extention  CAGE1   2   10:09:07  11:37:38   \n",
       "990  reward_competition_extention  CAGE1   2   10:09:07  11:37:38   \n",
       "\n",
       "                     MSN cage  \n",
       "0    CD1_reward_training    1  \n",
       "1    CD1_reward_training    1  \n",
       "2    CD1_reward_training    1  \n",
       "3    CD1_reward_training    1  \n",
       "4    CD1_reward_training    1  \n",
       "..                   ...  ...  \n",
       "986  CD1_reward_training    1  \n",
       "987  CD1_reward_training    1  \n",
       "988  CD1_reward_training    1  \n",
       "989  CD1_reward_training    1  \n",
       "990  CD1_reward_training    1  \n",
       "\n",
       "[991 rows x 28 columns]"
      ]
     },
     "execution_count": 33,
     "metadata": {},
     "output_type": "execute_result"
    }
   ],
   "source": [
    "example_med_pc_df"
   ]
  },
  {
   "cell_type": "markdown",
   "id": "439772a2",
   "metadata": {},
   "source": [
    "## 1.2 Converting All the Port Entry and Port Exit Times in to Whole Numbers"
   ]
  },
  {
   "cell_type": "markdown",
   "id": "4a67e61e",
   "metadata": {},
   "source": [
    "- We will turn all Port entry and exit times into whole numbers. This needs to be done so that we can use it as an index in a list of `True`/`False` for each 10ms increment.\n",
    "    - This will be done with port entry/exit and the tone playing time"
   ]
  },
  {
   "cell_type": "code",
   "execution_count": 34,
   "id": "3bd7bbb5",
   "metadata": {},
   "outputs": [],
   "source": [
    "example_med_pc_df[\"port_entry_scaled\"] = example_med_pc_df[\"(P)Portentry\"].apply(lambda x: processing.port.scale_time_to_whole_number(x))\n",
    "example_med_pc_df[\"port_exit_scaled\"] = example_med_pc_df[\"(N)Portexit\"].apply(lambda x: processing.port.scale_time_to_whole_number(x))\n",
    "example_med_pc_df[\"tone_start_scaled\"] = example_med_pc_df[\"(S)CSpresentation\"].apply(lambda x: processing.port.scale_time_to_whole_number(x))"
   ]
  },
  {
   "cell_type": "code",
   "execution_count": 35,
   "id": "472775d3",
   "metadata": {
    "scrolled": true
   },
   "outputs": [
    {
     "data": {
      "text/html": [
       "<div>\n",
       "<style scoped>\n",
       "    .dataframe tbody tr th:only-of-type {\n",
       "        vertical-align: middle;\n",
       "    }\n",
       "\n",
       "    .dataframe tbody tr th {\n",
       "        vertical-align: top;\n",
       "    }\n",
       "\n",
       "    .dataframe thead th {\n",
       "        text-align: right;\n",
       "    }\n",
       "</style>\n",
       "<table border=\"1\" class=\"dataframe\">\n",
       "  <thead>\n",
       "    <tr style=\"text-align: right;\">\n",
       "      <th></th>\n",
       "      <th>(P)Portentry</th>\n",
       "      <th>(Q)USdelivery</th>\n",
       "      <th>(R)UStime</th>\n",
       "      <th>(W)ITIvalues</th>\n",
       "      <th>(S)CSpresentation</th>\n",
       "      <th>(N)Portexit</th>\n",
       "      <th>(K)CStype</th>\n",
       "      <th>(G)controlled_stimulus_secondscomputer</th>\n",
       "      <th>(H)controlled_stimulus_minutescomputer</th>\n",
       "      <th>(I)controlled_stimulus_hourscomputer</th>\n",
       "      <th>...</th>\n",
       "      <th>Experiment</th>\n",
       "      <th>Group</th>\n",
       "      <th>Box</th>\n",
       "      <th>Start Time</th>\n",
       "      <th>End Time</th>\n",
       "      <th>MSN</th>\n",
       "      <th>cage</th>\n",
       "      <th>port_entry_scaled</th>\n",
       "      <th>port_exit_scaled</th>\n",
       "      <th>tone_start_scaled</th>\n",
       "    </tr>\n",
       "  </thead>\n",
       "  <tbody>\n",
       "    <tr>\n",
       "      <th>0</th>\n",
       "      <td>80.61</td>\n",
       "      <td>64.0</td>\n",
       "      <td>399.0</td>\n",
       "      <td>0.0</td>\n",
       "      <td>60.01</td>\n",
       "      <td>80.63</td>\n",
       "      <td>1.0</td>\n",
       "      <td>38.0</td>\n",
       "      <td>37.0</td>\n",
       "      <td>10.0</td>\n",
       "      <td>...</td>\n",
       "      <td>reward_competition_extention</td>\n",
       "      <td>CAGE1</td>\n",
       "      <td>2</td>\n",
       "      <td>10:09:07</td>\n",
       "      <td>11:37:38</td>\n",
       "      <td>CD1_reward_training</td>\n",
       "      <td>1</td>\n",
       "      <td>8061</td>\n",
       "      <td>8063</td>\n",
       "      <td>6001</td>\n",
       "    </tr>\n",
       "    <tr>\n",
       "      <th>1</th>\n",
       "      <td>80.65</td>\n",
       "      <td>144.0</td>\n",
       "      <td>399.0</td>\n",
       "      <td>0.0</td>\n",
       "      <td>140.01</td>\n",
       "      <td>82.56</td>\n",
       "      <td>1.0</td>\n",
       "      <td>58.0</td>\n",
       "      <td>38.0</td>\n",
       "      <td>10.0</td>\n",
       "      <td>...</td>\n",
       "      <td>reward_competition_extention</td>\n",
       "      <td>CAGE1</td>\n",
       "      <td>2</td>\n",
       "      <td>10:09:07</td>\n",
       "      <td>11:37:38</td>\n",
       "      <td>CD1_reward_training</td>\n",
       "      <td>1</td>\n",
       "      <td>8065</td>\n",
       "      <td>8256</td>\n",
       "      <td>14001</td>\n",
       "    </tr>\n",
       "    <tr>\n",
       "      <th>2</th>\n",
       "      <td>82.58</td>\n",
       "      <td>234.0</td>\n",
       "      <td>399.0</td>\n",
       "      <td>0.0</td>\n",
       "      <td>230.01</td>\n",
       "      <td>82.72</td>\n",
       "      <td>1.0</td>\n",
       "      <td>28.0</td>\n",
       "      <td>40.0</td>\n",
       "      <td>10.0</td>\n",
       "      <td>...</td>\n",
       "      <td>reward_competition_extention</td>\n",
       "      <td>CAGE1</td>\n",
       "      <td>2</td>\n",
       "      <td>10:09:07</td>\n",
       "      <td>11:37:38</td>\n",
       "      <td>CD1_reward_training</td>\n",
       "      <td>1</td>\n",
       "      <td>8258</td>\n",
       "      <td>8272</td>\n",
       "      <td>23001</td>\n",
       "    </tr>\n",
       "    <tr>\n",
       "      <th>3</th>\n",
       "      <td>83.31</td>\n",
       "      <td>314.0</td>\n",
       "      <td>399.0</td>\n",
       "      <td>0.0</td>\n",
       "      <td>310.01</td>\n",
       "      <td>83.45</td>\n",
       "      <td>1.0</td>\n",
       "      <td>48.0</td>\n",
       "      <td>41.0</td>\n",
       "      <td>10.0</td>\n",
       "      <td>...</td>\n",
       "      <td>reward_competition_extention</td>\n",
       "      <td>CAGE1</td>\n",
       "      <td>2</td>\n",
       "      <td>10:09:07</td>\n",
       "      <td>11:37:38</td>\n",
       "      <td>CD1_reward_training</td>\n",
       "      <td>1</td>\n",
       "      <td>8331</td>\n",
       "      <td>8345</td>\n",
       "      <td>31001</td>\n",
       "    </tr>\n",
       "    <tr>\n",
       "      <th>4</th>\n",
       "      <td>83.47</td>\n",
       "      <td>389.0</td>\n",
       "      <td>399.0</td>\n",
       "      <td>0.0</td>\n",
       "      <td>385.01</td>\n",
       "      <td>83.96</td>\n",
       "      <td>1.0</td>\n",
       "      <td>3.0</td>\n",
       "      <td>43.0</td>\n",
       "      <td>10.0</td>\n",
       "      <td>...</td>\n",
       "      <td>reward_competition_extention</td>\n",
       "      <td>CAGE1</td>\n",
       "      <td>2</td>\n",
       "      <td>10:09:07</td>\n",
       "      <td>11:37:38</td>\n",
       "      <td>CD1_reward_training</td>\n",
       "      <td>1</td>\n",
       "      <td>8347</td>\n",
       "      <td>8396</td>\n",
       "      <td>38501</td>\n",
       "    </tr>\n",
       "  </tbody>\n",
       "</table>\n",
       "<p>5 rows × 31 columns</p>\n",
       "</div>"
      ],
      "text/plain": [
       "   (P)Portentry  (Q)USdelivery  (R)UStime  (W)ITIvalues  (S)CSpresentation   \n",
       "0         80.61           64.0      399.0           0.0              60.01  \\\n",
       "1         80.65          144.0      399.0           0.0             140.01   \n",
       "2         82.58          234.0      399.0           0.0             230.01   \n",
       "3         83.31          314.0      399.0           0.0             310.01   \n",
       "4         83.47          389.0      399.0           0.0             385.01   \n",
       "\n",
       "   (N)Portexit  (K)CStype  (G)controlled_stimulus_secondscomputer   \n",
       "0        80.63        1.0                                    38.0  \\\n",
       "1        82.56        1.0                                    58.0   \n",
       "2        82.72        1.0                                    28.0   \n",
       "3        83.45        1.0                                    48.0   \n",
       "4        83.96        1.0                                     3.0   \n",
       "\n",
       "   (H)controlled_stimulus_minutescomputer   \n",
       "0                                    37.0  \\\n",
       "1                                    38.0   \n",
       "2                                    40.0   \n",
       "3                                    41.0   \n",
       "4                                    43.0   \n",
       "\n",
       "   (I)controlled_stimulus_hourscomputer  ...                    Experiment   \n",
       "0                                  10.0  ...  reward_competition_extention  \\\n",
       "1                                  10.0  ...  reward_competition_extention   \n",
       "2                                  10.0  ...  reward_competition_extention   \n",
       "3                                  10.0  ...  reward_competition_extention   \n",
       "4                                  10.0  ...  reward_competition_extention   \n",
       "\n",
       "   Group  Box  Start Time  End Time                  MSN cage   \n",
       "0  CAGE1    2    10:09:07  11:37:38  CD1_reward_training    1  \\\n",
       "1  CAGE1    2    10:09:07  11:37:38  CD1_reward_training    1   \n",
       "2  CAGE1    2    10:09:07  11:37:38  CD1_reward_training    1   \n",
       "3  CAGE1    2    10:09:07  11:37:38  CD1_reward_training    1   \n",
       "4  CAGE1    2    10:09:07  11:37:38  CD1_reward_training    1   \n",
       "\n",
       "  port_entry_scaled port_exit_scaled tone_start_scaled  \n",
       "0              8061             8063              6001  \n",
       "1              8065             8256             14001  \n",
       "2              8258             8272             23001  \n",
       "3              8331             8345             31001  \n",
       "4              8347             8396             38501  \n",
       "\n",
       "[5 rows x 31 columns]"
      ]
     },
     "execution_count": 35,
     "metadata": {},
     "output_type": "execute_result"
    }
   ],
   "source": [
    "example_med_pc_df.head()"
   ]
  },
  {
   "cell_type": "markdown",
   "id": "de0d21e8",
   "metadata": {},
   "source": [
    "## 1.3 Getting All the Numbers Between the Port Entry and Exit Times"
   ]
  },
  {
   "cell_type": "markdown",
   "id": "095bf439",
   "metadata": {},
   "source": [
    "- We are creating an array of 10ms intervals as whole numbers that are between the port entry and exit time\n",
    "    - For this example, the first would be between 7136 and 7142. And then between 7177 and 8439"
   ]
  },
  {
   "cell_type": "code",
   "execution_count": 36,
   "id": "515d4ece",
   "metadata": {},
   "outputs": [],
   "source": [
    "example_port_entry_times = processing.port.get_all_port_entry_increments(port_entry_scaled=example_med_pc_df[\"port_entry_scaled\"], port_exit_scaled=example_med_pc_df[\"port_exit_scaled\"])"
   ]
  },
  {
   "cell_type": "code",
   "execution_count": 37,
   "id": "327e2b39",
   "metadata": {},
   "outputs": [
    {
     "data": {
      "text/plain": [
       "array([8061, 8062, 8063, 8065, 8066, 8067, 8068, 8069, 8070, 8071])"
      ]
     },
     "execution_count": 37,
     "metadata": {},
     "output_type": "execute_result"
    }
   ],
   "source": [
    "example_port_entry_times[:10]"
   ]
  },
  {
   "cell_type": "markdown",
   "id": "646250c8",
   "metadata": {},
   "source": [
    "## 1.4 Getting all the numbers from 0 to the time of the last tone plus 2000(or 20 seconds)"
   ]
  },
  {
   "cell_type": "markdown",
   "id": "c66c9e53",
   "metadata": {},
   "source": [
    "- Creating a list of numbers from 0 to the time of the last tone. This will be used to get all the numbers that are 20 seconds before and after a tone being played\n",
    "- We will first get all the times that the tones played"
   ]
  },
  {
   "cell_type": "code",
   "execution_count": 38,
   "id": "135116c2",
   "metadata": {},
   "outputs": [],
   "source": [
    "example_valid_tone_times = processing.tone.get_valid_tones(tone_pd_series=example_med_pc_df[\"tone_start_scaled\"]).astype(int)"
   ]
  },
  {
   "cell_type": "code",
   "execution_count": 39,
   "id": "95eca2ea",
   "metadata": {},
   "outputs": [
    {
     "data": {
      "text/plain": [
       "0     6001\n",
       "1    14001\n",
       "2    23001\n",
       "3    31001\n",
       "4    38501\n",
       "5    48501\n",
       "6    58001\n",
       "7    67001\n",
       "8    75001\n",
       "9    84001\n",
       "Name: tone_start_scaled, dtype: int64"
      ]
     },
     "execution_count": 39,
     "metadata": {},
     "output_type": "execute_result"
    }
   ],
   "source": [
    "example_valid_tone_times[:10]"
   ]
  },
  {
   "cell_type": "markdown",
   "id": "2c270402",
   "metadata": {},
   "source": [
    "- Then getting all the numbers from 0 to the last tone time. We will add 2000(or 20 seconds) to the last tone time"
   ]
  },
  {
   "cell_type": "code",
   "execution_count": 40,
   "id": "ba29dafa",
   "metadata": {},
   "outputs": [],
   "source": [
    "# Using the last tone and adding 2000(or 20 seconds to it)\n",
    "example_experiment_interval = np.arange(example_valid_tone_times.max() + 2001)"
   ]
  },
  {
   "cell_type": "code",
   "execution_count": 41,
   "id": "b788df6d",
   "metadata": {
    "scrolled": true
   },
   "outputs": [
    {
     "data": {
      "text/plain": [
       "array([     0,      1,      2, ..., 353499, 353500, 353501])"
      ]
     },
     "execution_count": 41,
     "metadata": {},
     "output_type": "execute_result"
    }
   ],
   "source": [
    "example_experiment_interval"
   ]
  },
  {
   "cell_type": "markdown",
   "id": "8cb4441b",
   "metadata": {},
   "source": [
    "# 2. Make a set and see which numbers are in that set"
   ]
  },
  {
   "cell_type": "markdown",
   "id": "4f06ac2c",
   "metadata": {},
   "source": [
    "### 2.2 Getting a mask of all the numbers that are within a port entry and port exit time"
   ]
  },
  {
   "cell_type": "code",
   "execution_count": 42,
   "id": "39cf3852",
   "metadata": {},
   "outputs": [],
   "source": [
    "example_port_entry_mask = np.isin(example_experiment_interval, example_port_entry_times)"
   ]
  },
  {
   "cell_type": "code",
   "execution_count": 43,
   "id": "fe537698",
   "metadata": {},
   "outputs": [
    {
     "data": {
      "text/plain": [
       "array([False, False, False, ..., False, False, False])"
      ]
     },
     "execution_count": 43,
     "metadata": {},
     "output_type": "execute_result"
    }
   ],
   "source": [
    "example_port_entry_mask"
   ]
  },
  {
   "cell_type": "code",
   "execution_count": 44,
   "id": "3a2c5a17",
   "metadata": {
    "scrolled": false
   },
   "outputs": [
    {
     "data": {
      "text/plain": [
       "array([  8061,   8062,   8063, ..., 346082, 346083, 346084])"
      ]
     },
     "execution_count": 44,
     "metadata": {},
     "output_type": "execute_result"
    }
   ],
   "source": [
    "example_experiment_interval[np.isin(example_experiment_interval, example_port_entry_times)]"
   ]
  },
  {
   "cell_type": "markdown",
   "id": "31679161",
   "metadata": {},
   "source": [
    "# 2. Create a Mask that is \"if a Subject is in the Port or Not for a Given Time Increment\""
   ]
  },
  {
   "cell_type": "markdown",
   "id": "860a3c0b",
   "metadata": {},
   "source": [
    "- A mask is how Numpy knows whether or not a value in a given index meets a criteria or not. For this, we will create a mask of values that in between all the port start and exit times\n",
    "    - For more information: https://jakevdp.github.io/PythonDataScienceHandbook/02.06-boolean-arrays-and-masks.html\n",
    "- First we will get the time that the last tone played and add 2000(or 20 seconds to it)"
   ]
  },
  {
   "cell_type": "code",
   "execution_count": 45,
   "id": "eb62f59c",
   "metadata": {},
   "outputs": [],
   "source": [
    "max_time = example_valid_tone_times.max() + 2001"
   ]
  },
  {
   "cell_type": "code",
   "execution_count": 46,
   "id": "4d0e13f9",
   "metadata": {},
   "outputs": [
    {
     "data": {
      "text/plain": [
       "353502"
      ]
     },
     "execution_count": 46,
     "metadata": {},
     "output_type": "execute_result"
    }
   ],
   "source": [
    "max_time"
   ]
  },
  {
   "cell_type": "markdown",
   "id": "782ae899",
   "metadata": {},
   "source": [
    "- Now we will create the mask of whether or not a given time is between the port entry and exit times\n"
   ]
  },
  {
   "cell_type": "code",
   "execution_count": 47,
   "id": "9c482924",
   "metadata": {},
   "outputs": [],
   "source": [
    "example_experiment_interval, example_port_entry_mask = processing.port.get_inside_port_mask(max_time=max_time, inside_port_numbers=example_port_entry_times)"
   ]
  },
  {
   "cell_type": "markdown",
   "id": "6ac1e014",
   "metadata": {},
   "source": [
    "- This is all the numbers between the start of the recording session until the end of the last tone playing"
   ]
  },
  {
   "cell_type": "code",
   "execution_count": 48,
   "id": "7b95aba7",
   "metadata": {},
   "outputs": [
    {
     "data": {
      "text/plain": [
       "array([     1,      2,      3, ..., 353500, 353501, 353502])"
      ]
     },
     "execution_count": 48,
     "metadata": {},
     "output_type": "execute_result"
    }
   ],
   "source": [
    "example_experiment_interval"
   ]
  },
  {
   "cell_type": "markdown",
   "id": "f31911e2",
   "metadata": {},
   "source": [
    "- This is the mask of whether or not the subject is in the port or not. It seems like it is all False, but this is only because it's showing the beginning and the end of the recording session. So the subject is likely not in the port yet"
   ]
  },
  {
   "cell_type": "code",
   "execution_count": 49,
   "id": "8dbe0830",
   "metadata": {},
   "outputs": [
    {
     "data": {
      "text/plain": [
       "array([False, False, False, ..., False, False, False])"
      ]
     },
     "execution_count": 49,
     "metadata": {},
     "output_type": "execute_result"
    }
   ],
   "source": [
    "example_port_entry_mask"
   ]
  },
  {
   "cell_type": "markdown",
   "id": "2efe809b",
   "metadata": {},
   "source": [
    "- Although not needed, we can use the mask to get all the times that the subject was inside the port"
   ]
  },
  {
   "cell_type": "code",
   "execution_count": 50,
   "id": "4b405794",
   "metadata": {},
   "outputs": [
    {
     "data": {
      "text/plain": [
       "array([  8061,   8062,   8063, ..., 346082, 346083, 346084])"
      ]
     },
     "execution_count": 50,
     "metadata": {},
     "output_type": "execute_result"
    }
   ],
   "source": [
    "example_experiment_interval[example_port_entry_mask]"
   ]
  },
  {
   "cell_type": "markdown",
   "id": "f11d9b95",
   "metadata": {},
   "source": [
    "## 3. Find the Overlap between the Tone Times and the Port Entries"
   ]
  },
  {
   "cell_type": "markdown",
   "id": "e20bb2f8",
   "metadata": {},
   "source": [
    "- Now we will use the mask to see when the subject was in the port for each session."
   ]
  },
  {
   "cell_type": "markdown",
   "id": "334864c3",
   "metadata": {},
   "source": [
    "### 3.1 Calculating the probability that the subject is in the port for each time increment between sessions"
   ]
  },
  {
   "cell_type": "markdown",
   "id": "678ba956",
   "metadata": {},
   "source": [
    "- We will first get the inside port mask for the time 20 seconds before and after each session"
   ]
  },
  {
   "cell_type": "code",
   "execution_count": 51,
   "id": "2f8aa3f1",
   "metadata": {},
   "outputs": [
    {
     "data": {
      "text/plain": [
       "<zip at 0x7f9a81208040>"
      ]
     },
     "execution_count": 51,
     "metadata": {},
     "output_type": "execute_result"
    }
   ],
   "source": [
    "example_valid_tone_times.items()"
   ]
  },
  {
   "cell_type": "code",
   "execution_count": 52,
   "id": "44a004b9",
   "metadata": {},
   "outputs": [],
   "source": [
    "# Creating a dictionary for demonstration\n",
    "tone_time_to_mask = defaultdict(dict)\n",
    "# We will use a list in the end\n",
    "example_all_tone_time_masks = []\n",
    "for index, tone_start in example_valid_tone_times.items():\n",
    "    # Sometimes the tone start time can be a float\n",
    "    tone_start_int = int(tone_start)\n",
    "    example_all_tone_time_masks.append(example_port_entry_mask[tone_start_int - 2000: tone_start_int + 2000])\n",
    "    tone_time_to_mask[tone_start_int] = example_port_entry_mask[tone_start_int - 2000: tone_start_int + 2000]\n",
    "# Combining all the masks so that each row is 1 session\n",
    "stacked_example_all_tone_time_masks = np.stack(example_all_tone_time_masks)"
   ]
  },
  {
   "cell_type": "code",
   "execution_count": 53,
   "id": "e80fed5b",
   "metadata": {},
   "outputs": [
    {
     "data": {
      "text/plain": [
       "array([[False, False, False, ..., False, False, False],\n",
       "       [False, False, False, ..., False, False, False],\n",
       "       [False, False, False, ..., False, False, False],\n",
       "       ...,\n",
       "       [False, False, False, ..., False, False, False],\n",
       "       [False, False, False, ..., False, False, False],\n",
       "       [False, False, False, ..., False, False, False]])"
      ]
     },
     "execution_count": 53,
     "metadata": {},
     "output_type": "execute_result"
    }
   ],
   "source": [
    "stacked_example_all_tone_time_masks"
   ]
  },
  {
   "cell_type": "code",
   "execution_count": 54,
   "id": "43600853",
   "metadata": {},
   "outputs": [
    {
     "data": {
      "text/plain": [
       "defaultdict(dict,\n",
       "            {6001: array([False, False, False, ..., False, False, False]),\n",
       "             14001: array([False, False, False, ..., False, False, False]),\n",
       "             23001: array([False, False, False, ..., False, False, False]),\n",
       "             31001: array([False, False, False, ..., False, False, False]),\n",
       "             38501: array([False, False, False, ..., False, False, False]),\n",
       "             48501: array([False, False, False, ..., False, False, False]),\n",
       "             58001: array([False, False, False, ...,  True,  True,  True]),\n",
       "             67001: array([False, False, False, ..., False, False, False]),\n",
       "             75001: array([ True,  True,  True, ..., False, False, False]),\n",
       "             84001: array([False, False, False, ..., False, False, False]),\n",
       "             94001: array([False, False, False, ...,  True,  True,  True]),\n",
       "             103001: array([False, False, False, ...,  True,  True,  True]),\n",
       "             115001: array([False, False, False, ..., False,  True,  True]),\n",
       "             124001: array([False, False, False, ..., False, False, False]),\n",
       "             132501: array([False, False, False, ..., False, False,  True]),\n",
       "             141501: array([False, False, False, ...,  True,  True,  True]),\n",
       "             151001: array([False, False, False, ...,  True,  True,  True]),\n",
       "             163001: array([False, False, False, ..., False, False, False]),\n",
       "             171001: array([False, False, False, ..., False, False, False]),\n",
       "             180501: array([False, False, False, ...,  True,  True,  True]),\n",
       "             188501: array([False, False, False, ..., False, False, False]),\n",
       "             197501: array([False, False, False, ..., False, False, False]),\n",
       "             205501: array([False, False, False, ..., False,  True,  True]),\n",
       "             213001: array([False, False, False, ..., False, False, False]),\n",
       "             223001: array([False, False, False, ...,  True,  True,  True]),\n",
       "             232501: array([False, False, False, ..., False, False, False]),\n",
       "             241501: array([False, False, False, ..., False, False, False]),\n",
       "             249501: array([False, False, False, ..., False, False, False]),\n",
       "             258501: array([False, False, False, ..., False, False, False]),\n",
       "             268501: array([False, False, False, ..., False, False, False]),\n",
       "             277501: array([False, False, False, ..., False, False, False]),\n",
       "             289501: array([False, False, False, ..., False, False, False]),\n",
       "             298501: array([False, False, False, ..., False, False, False]),\n",
       "             307001: array([ True,  True,  True, ..., False, False, False]),\n",
       "             316001: array([False, False, False, ..., False, False, False]),\n",
       "             325501: array([False, False, False, ..., False, False, False]),\n",
       "             334501: array([False, False, False, ..., False, False, False]),\n",
       "             342501: array([False, False, False, ..., False, False, False]),\n",
       "             351501: array([False, False, False, ..., False, False, False])})"
      ]
     },
     "execution_count": 54,
     "metadata": {},
     "output_type": "execute_result"
    }
   ],
   "source": [
    "tone_time_to_mask"
   ]
  },
  {
   "cell_type": "markdown",
   "id": "dffdbf7a",
   "metadata": {},
   "source": [
    "- In Numpy, `True` objects have a value of 1, and `False` objects have a value of 0. So we can calculate the mean of the `True` and `False` and that will be the proportion that is `True`. Which will be the proportion that the subject is inside the port\n",
    "    - We will calculate the mean by column. So averaging all the same time increments for each session. For exampled, we are seeing the proportion that the subject is inside the port at 5 seconds to 5 seconds 10ms across all sessions"
   ]
  },
  {
   "cell_type": "code",
   "execution_count": 55,
   "id": "0a07d8df",
   "metadata": {},
   "outputs": [],
   "source": [
    "mean_example_all_tone_time_masks = stacked_example_all_tone_time_masks.mean(axis=0)"
   ]
  },
  {
   "cell_type": "markdown",
   "id": "73ec80df",
   "metadata": {},
   "source": [
    "- Each value is the average for the given time increment for all sessions\n",
    "    - It starts out at -20 seconds to -19 seconds -990ms. Then it's -19 seconds -990ms to -19seconds to -980ms. Until we reach 19 seconds 990ms to 20 seconds after the tone."
   ]
  },
  {
   "cell_type": "code",
   "execution_count": 56,
   "id": "cbf4422e",
   "metadata": {},
   "outputs": [
    {
     "data": {
      "text/plain": [
       "array([0.05128205, 0.05128205, 0.05128205, ..., 0.17948718, 0.23076923,\n",
       "       0.25641026])"
      ]
     },
     "execution_count": 56,
     "metadata": {},
     "output_type": "execute_result"
    }
   ],
   "source": [
    "mean_example_all_tone_time_masks"
   ]
  },
  {
   "cell_type": "code",
   "execution_count": 57,
   "id": "4610d9cb",
   "metadata": {},
   "outputs": [
    {
     "data": {
      "text/plain": [
       "(4000,)"
      ]
     },
     "execution_count": 57,
     "metadata": {},
     "output_type": "execute_result"
    }
   ],
   "source": [
    "mean_example_all_tone_time_masks.shape"
   ]
  },
  {
   "cell_type": "markdown",
   "id": "4d293756",
   "metadata": {},
   "source": [
    "## 3.2 Doing it with a function"
   ]
  },
  {
   "cell_type": "code",
   "execution_count": 58,
   "id": "963ee09c",
   "metadata": {},
   "outputs": [
    {
     "data": {
      "text/plain": [
       "array([0.05128205, 0.05128205, 0.05128205, ..., 0.17948718, 0.23076923,\n",
       "       0.25641026])"
      ]
     },
     "execution_count": 58,
     "metadata": {},
     "output_type": "execute_result"
    }
   ],
   "source": [
    "processing.port.get_inside_port_probability_averages_for_all_increments(tone_times=example_valid_tone_times, inside_port_mask=example_port_entry_mask)"
   ]
  },
  {
   "cell_type": "markdown",
   "id": "1a077c73",
   "metadata": {},
   "source": [
    "### 3.3 Plotting all the probailities"
   ]
  },
  {
   "cell_type": "markdown",
   "id": "18035a80",
   "metadata": {},
   "source": [
    "- We are going to plot the time before and after the tone plays as X, and the average probability that a subject is in the port for a given time increment as Y"
   ]
  },
  {
   "cell_type": "code",
   "execution_count": 59,
   "id": "b4475bb6",
   "metadata": {},
   "outputs": [
    {
     "data": {
      "text/plain": [
       "Text(0.5, 1.0, 'Probability Inside Port for 10ms Increments 20 Seconds Before and After Tone')"
      ]
     },
     "execution_count": 59,
     "metadata": {},
     "output_type": "execute_result"
    },
    {
     "data": {
      "image/png": "[encoded data removed]",
      "text/plain": [
       "<Figure size 1000x600 with 1 Axes>"
      ]
     },
     "metadata": {},
     "output_type": "display_data"
    }
   ],
   "source": [
    "plt.plot(np.linspace(-20,20,4000), mean_example_all_tone_time_masks)\n",
    "plt.xlabel(\"Seconds from the start of the tone\")\n",
    "plt.ylabel(\"Probability Inside Port\")\n",
    "plt.title(\"Probability Inside Port for 10ms Increments 20 Seconds Before and After Tone\")"
   ]
  },
  {
   "cell_type": "markdown",
   "id": "966101d5",
   "metadata": {},
   "source": [
    "# 4. Plotting for Multiple Training Sessions"
   ]
  },
  {
   "cell_type": "markdown",
   "id": "c806a2a6",
   "metadata": {},
   "source": [
    "## 4.1 Checking Which Sessions Have Valid Tone Times"
   ]
  },
  {
   "cell_type": "code",
   "execution_count": 60,
   "id": "1d16609c",
   "metadata": {},
   "outputs": [
    {
     "data": {
      "text/html": [
       "<div>\n",
       "<style scoped>\n",
       "    .dataframe tbody tr th:only-of-type {\n",
       "        vertical-align: middle;\n",
       "    }\n",
       "\n",
       "    .dataframe tbody tr th {\n",
       "        vertical-align: top;\n",
       "    }\n",
       "\n",
       "    .dataframe thead th {\n",
       "        text-align: right;\n",
       "    }\n",
       "</style>\n",
       "<table border=\"1\" class=\"dataframe\">\n",
       "  <thead>\n",
       "    <tr style=\"text-align: right;\">\n",
       "      <th></th>\n",
       "      <th>(P)Portentry</th>\n",
       "      <th>(Q)USdelivery</th>\n",
       "      <th>(R)UStime</th>\n",
       "      <th>(W)ITIvalues</th>\n",
       "      <th>(S)CSpresentation</th>\n",
       "      <th>(N)Portexit</th>\n",
       "      <th>(K)CStype</th>\n",
       "      <th>(G)controlled_stimulus_secondscomputer</th>\n",
       "      <th>(H)controlled_stimulus_minutescomputer</th>\n",
       "      <th>(I)controlled_stimulus_hourscomputer</th>\n",
       "      <th>(B)port_entry_secondscomputer</th>\n",
       "      <th>(F)port_entry_minutescomputer</th>\n",
       "      <th>(J)port_entry_hourscomputer</th>\n",
       "      <th>date</th>\n",
       "      <th>subject</th>\n",
       "      <th>file_path</th>\n",
       "    </tr>\n",
       "  </thead>\n",
       "  <tbody>\n",
       "    <tr>\n",
       "      <th>0</th>\n",
       "      <td>80.61</td>\n",
       "      <td>64.0</td>\n",
       "      <td>399.0</td>\n",
       "      <td>0.0</td>\n",
       "      <td>60.01</td>\n",
       "      <td>80.63</td>\n",
       "      <td>1.0</td>\n",
       "      <td>38.0</td>\n",
       "      <td>37.0</td>\n",
       "      <td>10.0</td>\n",
       "      <td>58.0</td>\n",
       "      <td>37.0</td>\n",
       "      <td>10.0</td>\n",
       "      <td>20230526</td>\n",
       "      <td>1.2</td>\n",
       "      <td>./data/2023-05-26_10h09m_Subject 1.2.txt</td>\n",
       "    </tr>\n",
       "    <tr>\n",
       "      <th>1</th>\n",
       "      <td>80.65</td>\n",
       "      <td>144.0</td>\n",
       "      <td>399.0</td>\n",
       "      <td>0.0</td>\n",
       "      <td>140.01</td>\n",
       "      <td>82.56</td>\n",
       "      <td>1.0</td>\n",
       "      <td>58.0</td>\n",
       "      <td>38.0</td>\n",
       "      <td>10.0</td>\n",
       "      <td>58.0</td>\n",
       "      <td>37.0</td>\n",
       "      <td>10.0</td>\n",
       "      <td>20230526</td>\n",
       "      <td>1.2</td>\n",
       "      <td>./data/2023-05-26_10h09m_Subject 1.2.txt</td>\n",
       "    </tr>\n",
       "    <tr>\n",
       "      <th>2</th>\n",
       "      <td>82.58</td>\n",
       "      <td>234.0</td>\n",
       "      <td>399.0</td>\n",
       "      <td>0.0</td>\n",
       "      <td>230.01</td>\n",
       "      <td>82.72</td>\n",
       "      <td>1.0</td>\n",
       "      <td>28.0</td>\n",
       "      <td>40.0</td>\n",
       "      <td>10.0</td>\n",
       "      <td>0.0</td>\n",
       "      <td>38.0</td>\n",
       "      <td>10.0</td>\n",
       "      <td>20230526</td>\n",
       "      <td>1.2</td>\n",
       "      <td>./data/2023-05-26_10h09m_Subject 1.2.txt</td>\n",
       "    </tr>\n",
       "    <tr>\n",
       "      <th>3</th>\n",
       "      <td>83.31</td>\n",
       "      <td>314.0</td>\n",
       "      <td>399.0</td>\n",
       "      <td>0.0</td>\n",
       "      <td>310.01</td>\n",
       "      <td>83.45</td>\n",
       "      <td>1.0</td>\n",
       "      <td>48.0</td>\n",
       "      <td>41.0</td>\n",
       "      <td>10.0</td>\n",
       "      <td>1.0</td>\n",
       "      <td>38.0</td>\n",
       "      <td>10.0</td>\n",
       "      <td>20230526</td>\n",
       "      <td>1.2</td>\n",
       "      <td>./data/2023-05-26_10h09m_Subject 1.2.txt</td>\n",
       "    </tr>\n",
       "    <tr>\n",
       "      <th>4</th>\n",
       "      <td>83.47</td>\n",
       "      <td>389.0</td>\n",
       "      <td>399.0</td>\n",
       "      <td>0.0</td>\n",
       "      <td>385.01</td>\n",
       "      <td>83.96</td>\n",
       "      <td>1.0</td>\n",
       "      <td>3.0</td>\n",
       "      <td>43.0</td>\n",
       "      <td>10.0</td>\n",
       "      <td>1.0</td>\n",
       "      <td>38.0</td>\n",
       "      <td>10.0</td>\n",
       "      <td>20230526</td>\n",
       "      <td>1.2</td>\n",
       "      <td>./data/2023-05-26_10h09m_Subject 1.2.txt</td>\n",
       "    </tr>\n",
       "  </tbody>\n",
       "</table>\n",
       "</div>"
      ],
      "text/plain": [
       "   (P)Portentry  (Q)USdelivery  (R)UStime  (W)ITIvalues  (S)CSpresentation   \n",
       "0         80.61           64.0      399.0           0.0              60.01  \\\n",
       "1         80.65          144.0      399.0           0.0             140.01   \n",
       "2         82.58          234.0      399.0           0.0             230.01   \n",
       "3         83.31          314.0      399.0           0.0             310.01   \n",
       "4         83.47          389.0      399.0           0.0             385.01   \n",
       "\n",
       "   (N)Portexit  (K)CStype  (G)controlled_stimulus_secondscomputer   \n",
       "0        80.63        1.0                                    38.0  \\\n",
       "1        82.56        1.0                                    58.0   \n",
       "2        82.72        1.0                                    28.0   \n",
       "3        83.45        1.0                                    48.0   \n",
       "4        83.96        1.0                                     3.0   \n",
       "\n",
       "   (H)controlled_stimulus_minutescomputer   \n",
       "0                                    37.0  \\\n",
       "1                                    38.0   \n",
       "2                                    40.0   \n",
       "3                                    41.0   \n",
       "4                                    43.0   \n",
       "\n",
       "   (I)controlled_stimulus_hourscomputer  (B)port_entry_secondscomputer   \n",
       "0                                  10.0                           58.0  \\\n",
       "1                                  10.0                           58.0   \n",
       "2                                  10.0                            0.0   \n",
       "3                                  10.0                            1.0   \n",
       "4                                  10.0                            1.0   \n",
       "\n",
       "   (F)port_entry_minutescomputer  (J)port_entry_hourscomputer      date   \n",
       "0                           37.0                         10.0  20230526  \\\n",
       "1                           37.0                         10.0  20230526   \n",
       "2                           38.0                         10.0  20230526   \n",
       "3                           38.0                         10.0  20230526   \n",
       "4                           38.0                         10.0  20230526   \n",
       "\n",
       "   subject                                 file_path  \n",
       "0      1.2  ./data/2023-05-26_10h09m_Subject 1.2.txt  \n",
       "1      1.2  ./data/2023-05-26_10h09m_Subject 1.2.txt  \n",
       "2      1.2  ./data/2023-05-26_10h09m_Subject 1.2.txt  \n",
       "3      1.2  ./data/2023-05-26_10h09m_Subject 1.2.txt  \n",
       "4      1.2  ./data/2023-05-26_10h09m_Subject 1.2.txt  "
      ]
     },
     "execution_count": 60,
     "metadata": {},
     "output_type": "execute_result"
    }
   ],
   "source": [
    "concatted_medpc_df.head()"
   ]
  },
  {
   "cell_type": "markdown",
   "id": "752e1f5e",
   "metadata": {},
   "source": [
    "- Getting all the files with valid tone times. Some files were for testing and do not have the times that the tones were played"
   ]
  },
  {
   "cell_type": "code",
   "execution_count": 61,
   "id": "6e1cd9e0",
   "metadata": {},
   "outputs": [],
   "source": [
    "valid_files = []\n",
    "for file_path in recording_and_metadata_df[\"file_path\"].unique():\n",
    "    current_medpc_df = recording_and_metadata_df[recording_and_metadata_df[\"file_path\"] == file_path]\n",
    "    valid_tones = processing.tone.get_valid_tones(tone_pd_series= current_medpc_df[\"(S)CSpresentation\"])\n",
    "\n",
    "    if not valid_tones.empty:\n",
    "        valid_files.append(file_path)\n",
    "    else:\n",
    "        print(\"Skipped {}\".format(key))"
   ]
  },
  {
   "cell_type": "code",
   "execution_count": 62,
   "id": "cff922d4",
   "metadata": {},
   "outputs": [
    {
     "data": {
      "text/plain": [
       "['./data/2023-05-26_10h09m_Subject 1.2.txt',\n",
       " './data/2023-05-27_10h03m_Subject 1.1.txt',\n",
       " './data/2023-05-26_10h09m_Subject 1.4.txt',\n",
       " './data/2023-05-28_14h33m_Subject 1.1.txt',\n",
       " './data/2023-05-26_10h09m_Subject 1.3.txt']"
      ]
     },
     "execution_count": 62,
     "metadata": {},
     "output_type": "execute_result"
    }
   ],
   "source": [
    "valid_files[:5]"
   ]
  },
  {
   "cell_type": "markdown",
   "id": "9420b2d2",
   "metadata": {},
   "source": [
    "- Getting all rows that meet the criteria of being from a vile with valid tone times"
   ]
  },
  {
   "cell_type": "code",
   "execution_count": 63,
   "id": "80a66a7b",
   "metadata": {},
   "outputs": [],
   "source": [
    "valid_files_df = recording_and_metadata_df[recording_and_metadata_df[\"file_path\"].isin(valid_files)]"
   ]
  },
  {
   "cell_type": "code",
   "execution_count": 64,
   "id": "607aabe1",
   "metadata": {},
   "outputs": [
    {
     "data": {
      "text/html": [
       "<div>\n",
       "<style scoped>\n",
       "    .dataframe tbody tr th:only-of-type {\n",
       "        vertical-align: middle;\n",
       "    }\n",
       "\n",
       "    .dataframe tbody tr th {\n",
       "        vertical-align: top;\n",
       "    }\n",
       "\n",
       "    .dataframe thead th {\n",
       "        text-align: right;\n",
       "    }\n",
       "</style>\n",
       "<table border=\"1\" class=\"dataframe\">\n",
       "  <thead>\n",
       "    <tr style=\"text-align: right;\">\n",
       "      <th></th>\n",
       "      <th>(P)Portentry</th>\n",
       "      <th>(Q)USdelivery</th>\n",
       "      <th>(R)UStime</th>\n",
       "      <th>(W)ITIvalues</th>\n",
       "      <th>(S)CSpresentation</th>\n",
       "      <th>(N)Portexit</th>\n",
       "      <th>(K)CStype</th>\n",
       "      <th>(G)controlled_stimulus_secondscomputer</th>\n",
       "      <th>(H)controlled_stimulus_minutescomputer</th>\n",
       "      <th>(I)controlled_stimulus_hourscomputer</th>\n",
       "      <th>...</th>\n",
       "      <th>Start Date</th>\n",
       "      <th>End Date</th>\n",
       "      <th>Subject</th>\n",
       "      <th>Experiment</th>\n",
       "      <th>Group</th>\n",
       "      <th>Box</th>\n",
       "      <th>Start Time</th>\n",
       "      <th>End Time</th>\n",
       "      <th>MSN</th>\n",
       "      <th>cage</th>\n",
       "    </tr>\n",
       "  </thead>\n",
       "  <tbody>\n",
       "    <tr>\n",
       "      <th>0</th>\n",
       "      <td>80.61</td>\n",
       "      <td>64.0</td>\n",
       "      <td>399.0</td>\n",
       "      <td>0.0</td>\n",
       "      <td>60.01</td>\n",
       "      <td>80.63</td>\n",
       "      <td>1.0</td>\n",
       "      <td>38.0</td>\n",
       "      <td>37.0</td>\n",
       "      <td>10.0</td>\n",
       "      <td>...</td>\n",
       "      <td>05/26/23</td>\n",
       "      <td>05/26/23</td>\n",
       "      <td>1.2</td>\n",
       "      <td>reward_competition_extention</td>\n",
       "      <td>CAGE1</td>\n",
       "      <td>2</td>\n",
       "      <td>10:09:07</td>\n",
       "      <td>11:37:38</td>\n",
       "      <td>CD1_reward_training</td>\n",
       "      <td>1</td>\n",
       "    </tr>\n",
       "    <tr>\n",
       "      <th>1</th>\n",
       "      <td>80.65</td>\n",
       "      <td>144.0</td>\n",
       "      <td>399.0</td>\n",
       "      <td>0.0</td>\n",
       "      <td>140.01</td>\n",
       "      <td>82.56</td>\n",
       "      <td>1.0</td>\n",
       "      <td>58.0</td>\n",
       "      <td>38.0</td>\n",
       "      <td>10.0</td>\n",
       "      <td>...</td>\n",
       "      <td>05/26/23</td>\n",
       "      <td>05/26/23</td>\n",
       "      <td>1.2</td>\n",
       "      <td>reward_competition_extention</td>\n",
       "      <td>CAGE1</td>\n",
       "      <td>2</td>\n",
       "      <td>10:09:07</td>\n",
       "      <td>11:37:38</td>\n",
       "      <td>CD1_reward_training</td>\n",
       "      <td>1</td>\n",
       "    </tr>\n",
       "    <tr>\n",
       "      <th>2</th>\n",
       "      <td>82.58</td>\n",
       "      <td>234.0</td>\n",
       "      <td>399.0</td>\n",
       "      <td>0.0</td>\n",
       "      <td>230.01</td>\n",
       "      <td>82.72</td>\n",
       "      <td>1.0</td>\n",
       "      <td>28.0</td>\n",
       "      <td>40.0</td>\n",
       "      <td>10.0</td>\n",
       "      <td>...</td>\n",
       "      <td>05/26/23</td>\n",
       "      <td>05/26/23</td>\n",
       "      <td>1.2</td>\n",
       "      <td>reward_competition_extention</td>\n",
       "      <td>CAGE1</td>\n",
       "      <td>2</td>\n",
       "      <td>10:09:07</td>\n",
       "      <td>11:37:38</td>\n",
       "      <td>CD1_reward_training</td>\n",
       "      <td>1</td>\n",
       "    </tr>\n",
       "    <tr>\n",
       "      <th>3</th>\n",
       "      <td>83.31</td>\n",
       "      <td>314.0</td>\n",
       "      <td>399.0</td>\n",
       "      <td>0.0</td>\n",
       "      <td>310.01</td>\n",
       "      <td>83.45</td>\n",
       "      <td>1.0</td>\n",
       "      <td>48.0</td>\n",
       "      <td>41.0</td>\n",
       "      <td>10.0</td>\n",
       "      <td>...</td>\n",
       "      <td>05/26/23</td>\n",
       "      <td>05/26/23</td>\n",
       "      <td>1.2</td>\n",
       "      <td>reward_competition_extention</td>\n",
       "      <td>CAGE1</td>\n",
       "      <td>2</td>\n",
       "      <td>10:09:07</td>\n",
       "      <td>11:37:38</td>\n",
       "      <td>CD1_reward_training</td>\n",
       "      <td>1</td>\n",
       "    </tr>\n",
       "    <tr>\n",
       "      <th>4</th>\n",
       "      <td>83.47</td>\n",
       "      <td>389.0</td>\n",
       "      <td>399.0</td>\n",
       "      <td>0.0</td>\n",
       "      <td>385.01</td>\n",
       "      <td>83.96</td>\n",
       "      <td>1.0</td>\n",
       "      <td>3.0</td>\n",
       "      <td>43.0</td>\n",
       "      <td>10.0</td>\n",
       "      <td>...</td>\n",
       "      <td>05/26/23</td>\n",
       "      <td>05/26/23</td>\n",
       "      <td>1.2</td>\n",
       "      <td>reward_competition_extention</td>\n",
       "      <td>CAGE1</td>\n",
       "      <td>2</td>\n",
       "      <td>10:09:07</td>\n",
       "      <td>11:37:38</td>\n",
       "      <td>CD1_reward_training</td>\n",
       "      <td>1</td>\n",
       "    </tr>\n",
       "  </tbody>\n",
       "</table>\n",
       "<p>5 rows × 28 columns</p>\n",
       "</div>"
      ],
      "text/plain": [
       "   (P)Portentry  (Q)USdelivery  (R)UStime  (W)ITIvalues  (S)CSpresentation   \n",
       "0         80.61           64.0      399.0           0.0              60.01  \\\n",
       "1         80.65          144.0      399.0           0.0             140.01   \n",
       "2         82.58          234.0      399.0           0.0             230.01   \n",
       "3         83.31          314.0      399.0           0.0             310.01   \n",
       "4         83.47          389.0      399.0           0.0             385.01   \n",
       "\n",
       "   (N)Portexit  (K)CStype  (G)controlled_stimulus_secondscomputer   \n",
       "0        80.63        1.0                                    38.0  \\\n",
       "1        82.56        1.0                                    58.0   \n",
       "2        82.72        1.0                                    28.0   \n",
       "3        83.45        1.0                                    48.0   \n",
       "4        83.96        1.0                                     3.0   \n",
       "\n",
       "   (H)controlled_stimulus_minutescomputer   \n",
       "0                                    37.0  \\\n",
       "1                                    38.0   \n",
       "2                                    40.0   \n",
       "3                                    41.0   \n",
       "4                                    43.0   \n",
       "\n",
       "   (I)controlled_stimulus_hourscomputer  ...  Start Date  End Date  Subject   \n",
       "0                                  10.0  ...    05/26/23  05/26/23      1.2  \\\n",
       "1                                  10.0  ...    05/26/23  05/26/23      1.2   \n",
       "2                                  10.0  ...    05/26/23  05/26/23      1.2   \n",
       "3                                  10.0  ...    05/26/23  05/26/23      1.2   \n",
       "4                                  10.0  ...    05/26/23  05/26/23      1.2   \n",
       "\n",
       "                     Experiment  Group Box Start Time  End Time   \n",
       "0  reward_competition_extention  CAGE1   2   10:09:07  11:37:38  \\\n",
       "1  reward_competition_extention  CAGE1   2   10:09:07  11:37:38   \n",
       "2  reward_competition_extention  CAGE1   2   10:09:07  11:37:38   \n",
       "3  reward_competition_extention  CAGE1   2   10:09:07  11:37:38   \n",
       "4  reward_competition_extention  CAGE1   2   10:09:07  11:37:38   \n",
       "\n",
       "                   MSN cage  \n",
       "0  CD1_reward_training    1  \n",
       "1  CD1_reward_training    1  \n",
       "2  CD1_reward_training    1  \n",
       "3  CD1_reward_training    1  \n",
       "4  CD1_reward_training    1  \n",
       "\n",
       "[5 rows x 28 columns]"
      ]
     },
     "execution_count": 64,
     "metadata": {},
     "output_type": "execute_result"
    }
   ],
   "source": [
    "valid_files_df.head()"
   ]
  },
  {
   "cell_type": "code",
   "execution_count": 65,
   "id": "cde42d65",
   "metadata": {},
   "outputs": [
    {
     "data": {
      "text/html": [
       "<div>\n",
       "<style scoped>\n",
       "    .dataframe tbody tr th:only-of-type {\n",
       "        vertical-align: middle;\n",
       "    }\n",
       "\n",
       "    .dataframe tbody tr th {\n",
       "        vertical-align: top;\n",
       "    }\n",
       "\n",
       "    .dataframe thead th {\n",
       "        text-align: right;\n",
       "    }\n",
       "</style>\n",
       "<table border=\"1\" class=\"dataframe\">\n",
       "  <thead>\n",
       "    <tr style=\"text-align: right;\">\n",
       "      <th></th>\n",
       "      <th>(P)Portentry</th>\n",
       "      <th>(Q)USdelivery</th>\n",
       "      <th>(R)UStime</th>\n",
       "      <th>(W)ITIvalues</th>\n",
       "      <th>(S)CSpresentation</th>\n",
       "      <th>(N)Portexit</th>\n",
       "      <th>(K)CStype</th>\n",
       "      <th>(G)controlled_stimulus_secondscomputer</th>\n",
       "      <th>(H)controlled_stimulus_minutescomputer</th>\n",
       "      <th>(I)controlled_stimulus_hourscomputer</th>\n",
       "      <th>...</th>\n",
       "      <th>Start Date</th>\n",
       "      <th>End Date</th>\n",
       "      <th>Subject</th>\n",
       "      <th>Experiment</th>\n",
       "      <th>Group</th>\n",
       "      <th>Box</th>\n",
       "      <th>Start Time</th>\n",
       "      <th>End Time</th>\n",
       "      <th>MSN</th>\n",
       "      <th>cage</th>\n",
       "    </tr>\n",
       "  </thead>\n",
       "  <tbody>\n",
       "    <tr>\n",
       "      <th>72091</th>\n",
       "      <td>NaN</td>\n",
       "      <td>NaN</td>\n",
       "      <td>NaN</td>\n",
       "      <td>NaN</td>\n",
       "      <td>NaN</td>\n",
       "      <td>NaN</td>\n",
       "      <td>NaN</td>\n",
       "      <td>NaN</td>\n",
       "      <td>NaN</td>\n",
       "      <td>NaN</td>\n",
       "      <td>...</td>\n",
       "      <td>05/26/23</td>\n",
       "      <td>05/26/23</td>\n",
       "      <td>1.1</td>\n",
       "      <td>reward_competition_extention</td>\n",
       "      <td>CAGE1</td>\n",
       "      <td>1</td>\n",
       "      <td>10:09:07</td>\n",
       "      <td>11:37:38</td>\n",
       "      <td>CD1_reward_training</td>\n",
       "      <td>1</td>\n",
       "    </tr>\n",
       "    <tr>\n",
       "      <th>72092</th>\n",
       "      <td>NaN</td>\n",
       "      <td>NaN</td>\n",
       "      <td>NaN</td>\n",
       "      <td>NaN</td>\n",
       "      <td>NaN</td>\n",
       "      <td>NaN</td>\n",
       "      <td>NaN</td>\n",
       "      <td>NaN</td>\n",
       "      <td>NaN</td>\n",
       "      <td>NaN</td>\n",
       "      <td>...</td>\n",
       "      <td>05/26/23</td>\n",
       "      <td>05/26/23</td>\n",
       "      <td>1.1</td>\n",
       "      <td>reward_competition_extention</td>\n",
       "      <td>CAGE1</td>\n",
       "      <td>1</td>\n",
       "      <td>10:09:07</td>\n",
       "      <td>11:37:38</td>\n",
       "      <td>CD1_reward_training</td>\n",
       "      <td>1</td>\n",
       "    </tr>\n",
       "    <tr>\n",
       "      <th>72093</th>\n",
       "      <td>NaN</td>\n",
       "      <td>NaN</td>\n",
       "      <td>NaN</td>\n",
       "      <td>NaN</td>\n",
       "      <td>NaN</td>\n",
       "      <td>NaN</td>\n",
       "      <td>NaN</td>\n",
       "      <td>NaN</td>\n",
       "      <td>NaN</td>\n",
       "      <td>NaN</td>\n",
       "      <td>...</td>\n",
       "      <td>05/26/23</td>\n",
       "      <td>05/26/23</td>\n",
       "      <td>1.1</td>\n",
       "      <td>reward_competition_extention</td>\n",
       "      <td>CAGE1</td>\n",
       "      <td>1</td>\n",
       "      <td>10:09:07</td>\n",
       "      <td>11:37:38</td>\n",
       "      <td>CD1_reward_training</td>\n",
       "      <td>1</td>\n",
       "    </tr>\n",
       "    <tr>\n",
       "      <th>72094</th>\n",
       "      <td>NaN</td>\n",
       "      <td>NaN</td>\n",
       "      <td>NaN</td>\n",
       "      <td>NaN</td>\n",
       "      <td>NaN</td>\n",
       "      <td>NaN</td>\n",
       "      <td>NaN</td>\n",
       "      <td>NaN</td>\n",
       "      <td>NaN</td>\n",
       "      <td>NaN</td>\n",
       "      <td>...</td>\n",
       "      <td>05/26/23</td>\n",
       "      <td>05/26/23</td>\n",
       "      <td>1.1</td>\n",
       "      <td>reward_competition_extention</td>\n",
       "      <td>CAGE1</td>\n",
       "      <td>1</td>\n",
       "      <td>10:09:07</td>\n",
       "      <td>11:37:38</td>\n",
       "      <td>CD1_reward_training</td>\n",
       "      <td>1</td>\n",
       "    </tr>\n",
       "    <tr>\n",
       "      <th>72095</th>\n",
       "      <td>NaN</td>\n",
       "      <td>NaN</td>\n",
       "      <td>NaN</td>\n",
       "      <td>NaN</td>\n",
       "      <td>NaN</td>\n",
       "      <td>NaN</td>\n",
       "      <td>NaN</td>\n",
       "      <td>NaN</td>\n",
       "      <td>NaN</td>\n",
       "      <td>NaN</td>\n",
       "      <td>...</td>\n",
       "      <td>05/26/23</td>\n",
       "      <td>05/26/23</td>\n",
       "      <td>1.1</td>\n",
       "      <td>reward_competition_extention</td>\n",
       "      <td>CAGE1</td>\n",
       "      <td>1</td>\n",
       "      <td>10:09:07</td>\n",
       "      <td>11:37:38</td>\n",
       "      <td>CD1_reward_training</td>\n",
       "      <td>1</td>\n",
       "    </tr>\n",
       "  </tbody>\n",
       "</table>\n",
       "<p>5 rows × 28 columns</p>\n",
       "</div>"
      ],
      "text/plain": [
       "       (P)Portentry  (Q)USdelivery  (R)UStime  (W)ITIvalues   \n",
       "72091           NaN            NaN        NaN           NaN  \\\n",
       "72092           NaN            NaN        NaN           NaN   \n",
       "72093           NaN            NaN        NaN           NaN   \n",
       "72094           NaN            NaN        NaN           NaN   \n",
       "72095           NaN            NaN        NaN           NaN   \n",
       "\n",
       "       (S)CSpresentation  (N)Portexit  (K)CStype   \n",
       "72091                NaN          NaN        NaN  \\\n",
       "72092                NaN          NaN        NaN   \n",
       "72093                NaN          NaN        NaN   \n",
       "72094                NaN          NaN        NaN   \n",
       "72095                NaN          NaN        NaN   \n",
       "\n",
       "       (G)controlled_stimulus_secondscomputer   \n",
       "72091                                     NaN  \\\n",
       "72092                                     NaN   \n",
       "72093                                     NaN   \n",
       "72094                                     NaN   \n",
       "72095                                     NaN   \n",
       "\n",
       "       (H)controlled_stimulus_minutescomputer   \n",
       "72091                                     NaN  \\\n",
       "72092                                     NaN   \n",
       "72093                                     NaN   \n",
       "72094                                     NaN   \n",
       "72095                                     NaN   \n",
       "\n",
       "       (I)controlled_stimulus_hourscomputer  ...  Start Date  End Date   \n",
       "72091                                   NaN  ...    05/26/23  05/26/23  \\\n",
       "72092                                   NaN  ...    05/26/23  05/26/23   \n",
       "72093                                   NaN  ...    05/26/23  05/26/23   \n",
       "72094                                   NaN  ...    05/26/23  05/26/23   \n",
       "72095                                   NaN  ...    05/26/23  05/26/23   \n",
       "\n",
       "       Subject                    Experiment  Group Box Start Time  End Time   \n",
       "72091      1.1  reward_competition_extention  CAGE1   1   10:09:07  11:37:38  \\\n",
       "72092      1.1  reward_competition_extention  CAGE1   1   10:09:07  11:37:38   \n",
       "72093      1.1  reward_competition_extention  CAGE1   1   10:09:07  11:37:38   \n",
       "72094      1.1  reward_competition_extention  CAGE1   1   10:09:07  11:37:38   \n",
       "72095      1.1  reward_competition_extention  CAGE1   1   10:09:07  11:37:38   \n",
       "\n",
       "                       MSN cage  \n",
       "72091  CD1_reward_training    1  \n",
       "72092  CD1_reward_training    1  \n",
       "72093  CD1_reward_training    1  \n",
       "72094  CD1_reward_training    1  \n",
       "72095  CD1_reward_training    1  \n",
       "\n",
       "[5 rows x 28 columns]"
      ]
     },
     "execution_count": 65,
     "metadata": {},
     "output_type": "execute_result"
    }
   ],
   "source": [
    "valid_files_df.tail()"
   ]
  },
  {
   "cell_type": "markdown",
   "id": "40b3f261",
   "metadata": {},
   "source": [
    "## 4.2 Going through Each Subject and Each Day to Get the Average Probability of All the Time Increments Across All Trials"
   ]
  },
  {
   "cell_type": "markdown",
   "id": "d404fe8f",
   "metadata": {},
   "source": [
    "- We will be doing what we did for all the subjects and dates now"
   ]
  },
  {
   "cell_type": "code",
   "execution_count": 66,
   "id": "86f91041",
   "metadata": {},
   "outputs": [],
   "source": [
    "subject_to_date_to_average_probability = defaultdict(dict)\n",
    "# Going through each subject\n",
    "for subject in recording_and_metadata_df[\"subject\"].unique():\n",
    "    # Getting all the rows that are for one subject \n",
    "    one_subject_all_days = recording_and_metadata_df[recording_and_metadata_df[\"subject\"] == subject]\n",
    "    \n",
    "    # Going through each date of one subject\n",
    "    for date in one_subject_all_days[\"date\"].unique():\n",
    "        # Getting all the rows that correspond to the date\n",
    "        one_day_df = one_subject_all_days[one_subject_all_days[\"date\"] == date].copy()\n",
    "        ### Scaling all the dataframes\n",
    "        one_day_df[\"port_entry_scaled\"] = one_day_df[\"(P)Portentry\"].apply(lambda x: processing.port.scale_time_to_whole_number(x))\n",
    "        one_day_df[\"port_exit_scaled\"] = one_day_df[\"(N)Portexit\"].apply(lambda x: processing.port.scale_time_to_whole_number(x))\n",
    "        one_day_df[\"tone_start_scaled\"] = one_day_df[\"(S)CSpresentation\"].apply(lambda x: processing.port.scale_time_to_whole_number(x))\n",
    "        \n",
    "        ### All the numbers of times inside port\n",
    "        one_day_entry_times = processing.port.get_all_port_entry_increments(port_entry_scaled=one_day_df[\"port_entry_scaled\"], port_exit_scaled=one_day_df[\"port_exit_scaled\"])\n",
    "        ### Getting all the valid tone times and the max tone time\n",
    "        one_day_valid_tone_times = processing.tone.get_valid_tones(tone_pd_series=one_day_df[\"tone_start_scaled\"]).astype(int)\n",
    "        one_day_max_time = one_day_valid_tone_times.max() + 2001\n",
    "        ### Getting a mask of all the times in the port\n",
    "        one_day_experiment_interval, one_day_entry_mask = processing.port.get_inside_port_mask(max_time=one_day_max_time, inside_port_numbers=one_day_entry_times)\n",
    "        ### Getting the average probability\n",
    "        one_day_average_all_tone_time_masks = processing.port.get_inside_port_probability_averages_for_all_increments(tone_times=one_day_valid_tone_times, inside_port_mask=one_day_entry_mask)\n",
    "        subject_to_date_to_average_probability[subject][date] = one_day_average_all_tone_time_masks\n"
   ]
  },
  {
   "cell_type": "code",
   "execution_count": 67,
   "id": "1affc2f1",
   "metadata": {},
   "outputs": [
    {
     "name": "stdout",
     "output_type": "stream",
     "text": [
      "Subject: 1.2\n",
      "Date to probability inside port for each increment: {20230526: array([0.05128205, 0.05128205, 0.05128205, ..., 0.17948718, 0.23076923,\n",
      "       0.25641026]), 20230528: array([0.25641026, 0.25641026, 0.23076923, ..., 0.64102564, 0.64102564,\n",
      "       0.66666667]), 20230527: array([0.07692308, 0.07692308, 0.07692308, ..., 0.35897436, 0.35897436,\n",
      "       0.35897436])}\n"
     ]
    }
   ],
   "source": [
    "for key, value in subject_to_date_to_average_probability.items():\n",
    "    print(\"Subject: {}\".format(key))\n",
    "    print(\"Date to probability inside port for each increment: {}\".format(value))\n",
    "    break"
   ]
  },
  {
   "cell_type": "code",
   "execution_count": 68,
   "id": "1759f45a",
   "metadata": {},
   "outputs": [],
   "source": [
    "subject_to_cage = pd.Series(metadata_df[\"cage\"].values.astype(int),index=metadata_df[\"Subject\"].values).to_dict()"
   ]
  },
  {
   "cell_type": "code",
   "execution_count": 69,
   "id": "7031affe",
   "metadata": {
    "scrolled": true
   },
   "outputs": [
    {
     "data": {
      "text/plain": [
       "{1.2: 1, 1.1: 1, 1.4: 1, 1.3: 1}"
      ]
     },
     "execution_count": 69,
     "metadata": {},
     "output_type": "execute_result"
    }
   ],
   "source": [
    "subject_to_cage"
   ]
  },
  {
   "cell_type": "markdown",
   "id": "04c47d4a",
   "metadata": {},
   "source": [
    "- Making directories for output"
   ]
  },
  {
   "cell_type": "code",
   "execution_count": 70,
   "id": "213b362d",
   "metadata": {},
   "outputs": [],
   "source": [
    "probability_inside_port_plots_output_directory = \"./proc/plots/probability_inside_port/cage_{}_date_{}_{}\".format(cage_numbers_for_title, earliest_date, latest_date)"
   ]
  },
  {
   "cell_type": "code",
   "execution_count": 71,
   "id": "b62e98e0",
   "metadata": {},
   "outputs": [
    {
     "data": {
      "text/plain": [
       "'./proc/plots/probability_inside_port/cage_1_date_20230526_20230528'"
      ]
     },
     "execution_count": 71,
     "metadata": {},
     "output_type": "execute_result"
    }
   ],
   "source": [
    "probability_inside_port_plots_output_directory"
   ]
  },
  {
   "cell_type": "code",
   "execution_count": 72,
   "id": "234b8b95",
   "metadata": {},
   "outputs": [],
   "source": [
    "os.makedirs(probability_inside_port_plots_output_directory, exist_ok=True)"
   ]
  },
  {
   "cell_type": "markdown",
   "id": "84776f3a",
   "metadata": {},
   "source": [
    "## Plotting the probability that the subject is in the port for a given time increment before or after the tone"
   ]
  },
  {
   "cell_type": "code",
   "execution_count": 73,
   "id": "48638ace",
   "metadata": {
    "scrolled": false
   },
   "outputs": [
    {
     "data": {
      "image/png": "[encoded data removed]",
      "text/plain": [
       "<Figure size 1000x600 with 1 Axes>"
      ]
     },
     "metadata": {},
     "output_type": "display_data"
    },
    {
     "data": {
      "image/png": "[encoded data removed]",
      "text/plain": [
       "<Figure size 1000x600 with 1 Axes>"
      ]
     },
     "metadata": {},
     "output_type": "display_data"
    },
    {
     "data": {
      "image/png": "[encoded data removed]",
      "text/plain": [
       "<Figure size 1000x600 with 1 Axes>"
      ]
     },
     "metadata": {},
     "output_type": "display_data"
    },
    {
     "data": {
      "image/png": "[encoded data removed]",
      "text/plain": [
       "<Figure size 1000x600 with 1 Axes>"
      ]
     },
     "metadata": {},
     "output_type": "display_data"
    }
   ],
   "source": [
    "all_colors = [\"k\", \"gray\", \"b\", \"m\", \"fuchsia\", \"c\",\"g\", \"lime\", \"y\", \"darkorange\", \"r\", \"deeppink\"]\n",
    "for subject_id in recording_and_metadata_df[\"subject\"].unique():\n",
    "    fig, ax = plt.subplots()\n",
    "    cage = int(subject_to_cage[subject_id])\n",
    "    ax.set_xlabel(\"Seconds from the start of the tone\")\n",
    "    ax.set_ylabel(\"Probability Inside Port\")\n",
    "    ax.set_title(\"Probability Inside Port Before/After Tone for Subject: {} in Cage {}\".format(subject_id, cage))\n",
    "    counter = 0\n",
    "\n",
    "    for key in sorted(subject_to_date_to_average_probability[subject_id].keys()):\n",
    "        ax.plot(np.linspace(-20,20,4000), subject_to_date_to_average_probability[subject_id][key], label=key, color=all_colors[counter])\n",
    "        counter += 1\n",
    "    handles, labels = ax.get_legend_handles_labels()\n",
    "    labels, handles = zip(*sorted(zip(labels, handles), key=lambda t: t[0]))\n",
    "    ax.set_ylim(0, 1)\n",
    "    ax.legend(handles, labels)\n",
    "\n",
    "    file_name = \"probability_inside_port_cage_{}_subject_{}_date_{}_{}.png\".format(cage, subject_id, earliest_date, latest_date)\n",
    "    plt.savefig(os.path.join(probability_inside_port_plots_output_directory, file_name))"
   ]
  },
  {
   "cell_type": "markdown",
   "id": "910f10ef",
   "metadata": {},
   "source": [
    "# 4. Licking Specifity Average"
   ]
  },
  {
   "cell_type": "markdown",
   "id": "abc5f6c6",
   "metadata": {},
   "source": [
    "- Licking specifity is measured by getting that average probability for all time increments that the subject is in a port from either -20 to 0 seconds from the tone playing or 0 to 10 seconds from the tone playing. The goal will be to more easily compare if the subject is correctly associating the tone with the reward by comparing how often they're in the port before and after the tone."
   ]
  },
  {
   "cell_type": "markdown",
   "id": "ce4fe61c",
   "metadata": {},
   "source": [
    "- Getting the mean of all the port probabilites for each subject + date combination for -20 to 0 seconds from the tone playing or 0 to 10 seconds from the tone playing."
   ]
  },
  {
   "cell_type": "code",
   "execution_count": 74,
   "id": "613aa093",
   "metadata": {},
   "outputs": [],
   "source": [
    "subject_to_date_to_licking_specificty = defaultdict(lambda: defaultdict(dict))\n",
    "for subject, all_dates in subject_to_date_to_average_probability.items():\n",
    "    for date, averages in all_dates.items():\n",
    "        subject_to_date_to_licking_specificty[subject][date][\"-20_to_0\"] = averages[0:2000].mean()\n",
    "        subject_to_date_to_licking_specificty[subject][date][\"0_to_10\"] = averages[2000:3000].mean()"
   ]
  },
  {
   "cell_type": "code",
   "execution_count": 75,
   "id": "157cf709",
   "metadata": {},
   "outputs": [
    {
     "name": "stdout",
     "output_type": "stream",
     "text": [
      "Subject: 1.2\n",
      "Date to licking specifity before and after tone: defaultdict(<class 'dict'>, {20230526: {'-20_to_0': 0.05991025641025641, '0_to_10': 0.08751282051282051}, 20230528: {'-20_to_0': 0.23776923076923076, '0_to_10': 0.5196923076923078}, 20230527: {'-20_to_0': 0.061307692307692306, '0_to_10': 0.15825641025641024}})\n"
     ]
    }
   ],
   "source": [
    "for key, value in subject_to_date_to_licking_specificty.items():\n",
    "    print(\"Subject: {}\".format(key))\n",
    "    print(\"Date to licking specifity before and after tone: {}\".format(value))\n",
    "    break"
   ]
  },
  {
   "cell_type": "markdown",
   "id": "66545b7f",
   "metadata": {},
   "source": [
    "- Turning the dictionary into dataframe for plotting"
   ]
  },
  {
   "cell_type": "code",
   "execution_count": 76,
   "id": "40e1863a",
   "metadata": {},
   "outputs": [],
   "source": [
    "licking_specifity_df = pd.DataFrame.from_dict({(i,j): subject_to_date_to_licking_specificty[i][j] \n",
    "                           for i in subject_to_date_to_licking_specificty.keys() \n",
    "                           for j in subject_to_date_to_licking_specificty[i].keys()},\n",
    "                       orient='index')\n"
   ]
  },
  {
   "cell_type": "markdown",
   "id": "0ea25edd",
   "metadata": {},
   "source": [
    "- Adding metadata and formatting the dataframe"
   ]
  },
  {
   "cell_type": "code",
   "execution_count": 77,
   "id": "f82b0b9d",
   "metadata": {},
   "outputs": [],
   "source": [
    "licking_specifity_df = licking_specifity_df.reset_index()\n",
    "licking_specifity_df = licking_specifity_df.rename(columns={\"level_0\": \"subject\", \"level_1\": \"date\"})"
   ]
  },
  {
   "cell_type": "code",
   "execution_count": 78,
   "id": "70a93a91",
   "metadata": {},
   "outputs": [],
   "source": [
    "licking_specifity_df[\"date_int\"] = licking_specifity_df[\"date\"].astype(int)\n",
    "licking_specifity_df[\"cage\"] = licking_specifity_df[\"subject\"].map(subject_to_cage)"
   ]
  },
  {
   "cell_type": "code",
   "execution_count": 79,
   "id": "10c2efe4",
   "metadata": {},
   "outputs": [
    {
     "data": {
      "text/html": [
       "<div>\n",
       "<style scoped>\n",
       "    .dataframe tbody tr th:only-of-type {\n",
       "        vertical-align: middle;\n",
       "    }\n",
       "\n",
       "    .dataframe tbody tr th {\n",
       "        vertical-align: top;\n",
       "    }\n",
       "\n",
       "    .dataframe thead th {\n",
       "        text-align: right;\n",
       "    }\n",
       "</style>\n",
       "<table border=\"1\" class=\"dataframe\">\n",
       "  <thead>\n",
       "    <tr style=\"text-align: right;\">\n",
       "      <th></th>\n",
       "      <th>subject</th>\n",
       "      <th>date</th>\n",
       "      <th>-20_to_0</th>\n",
       "      <th>0_to_10</th>\n",
       "      <th>date_int</th>\n",
       "      <th>cage</th>\n",
       "    </tr>\n",
       "  </thead>\n",
       "  <tbody>\n",
       "    <tr>\n",
       "      <th>0</th>\n",
       "      <td>1.2</td>\n",
       "      <td>20230526</td>\n",
       "      <td>0.059910</td>\n",
       "      <td>0.087513</td>\n",
       "      <td>20230526</td>\n",
       "      <td>1</td>\n",
       "    </tr>\n",
       "    <tr>\n",
       "      <th>1</th>\n",
       "      <td>1.2</td>\n",
       "      <td>20230528</td>\n",
       "      <td>0.237769</td>\n",
       "      <td>0.519692</td>\n",
       "      <td>20230528</td>\n",
       "      <td>1</td>\n",
       "    </tr>\n",
       "    <tr>\n",
       "      <th>2</th>\n",
       "      <td>1.2</td>\n",
       "      <td>20230527</td>\n",
       "      <td>0.061308</td>\n",
       "      <td>0.158256</td>\n",
       "      <td>20230527</td>\n",
       "      <td>1</td>\n",
       "    </tr>\n",
       "    <tr>\n",
       "      <th>3</th>\n",
       "      <td>1.1</td>\n",
       "      <td>20230527</td>\n",
       "      <td>0.286346</td>\n",
       "      <td>0.524692</td>\n",
       "      <td>20230527</td>\n",
       "      <td>1</td>\n",
       "    </tr>\n",
       "    <tr>\n",
       "      <th>4</th>\n",
       "      <td>1.1</td>\n",
       "      <td>20230528</td>\n",
       "      <td>0.481333</td>\n",
       "      <td>0.699564</td>\n",
       "      <td>20230528</td>\n",
       "      <td>1</td>\n",
       "    </tr>\n",
       "    <tr>\n",
       "      <th>5</th>\n",
       "      <td>1.1</td>\n",
       "      <td>20230526</td>\n",
       "      <td>0.156013</td>\n",
       "      <td>0.313513</td>\n",
       "      <td>20230526</td>\n",
       "      <td>1</td>\n",
       "    </tr>\n",
       "    <tr>\n",
       "      <th>6</th>\n",
       "      <td>1.4</td>\n",
       "      <td>20230526</td>\n",
       "      <td>0.000269</td>\n",
       "      <td>0.000718</td>\n",
       "      <td>20230526</td>\n",
       "      <td>1</td>\n",
       "    </tr>\n",
       "    <tr>\n",
       "      <th>7</th>\n",
       "      <td>1.4</td>\n",
       "      <td>20230527</td>\n",
       "      <td>0.110103</td>\n",
       "      <td>0.238359</td>\n",
       "      <td>20230527</td>\n",
       "      <td>1</td>\n",
       "    </tr>\n",
       "    <tr>\n",
       "      <th>8</th>\n",
       "      <td>1.4</td>\n",
       "      <td>20230528</td>\n",
       "      <td>0.119487</td>\n",
       "      <td>0.293179</td>\n",
       "      <td>20230528</td>\n",
       "      <td>1</td>\n",
       "    </tr>\n",
       "    <tr>\n",
       "      <th>9</th>\n",
       "      <td>1.3</td>\n",
       "      <td>20230526</td>\n",
       "      <td>0.002808</td>\n",
       "      <td>0.000359</td>\n",
       "      <td>20230526</td>\n",
       "      <td>1</td>\n",
       "    </tr>\n",
       "    <tr>\n",
       "      <th>10</th>\n",
       "      <td>1.3</td>\n",
       "      <td>20230527</td>\n",
       "      <td>0.120974</td>\n",
       "      <td>0.274026</td>\n",
       "      <td>20230527</td>\n",
       "      <td>1</td>\n",
       "    </tr>\n",
       "    <tr>\n",
       "      <th>11</th>\n",
       "      <td>1.3</td>\n",
       "      <td>20230528</td>\n",
       "      <td>0.196051</td>\n",
       "      <td>0.322103</td>\n",
       "      <td>20230528</td>\n",
       "      <td>1</td>\n",
       "    </tr>\n",
       "  </tbody>\n",
       "</table>\n",
       "</div>"
      ],
      "text/plain": [
       "    subject      date  -20_to_0   0_to_10  date_int  cage\n",
       "0       1.2  20230526  0.059910  0.087513  20230526     1\n",
       "1       1.2  20230528  0.237769  0.519692  20230528     1\n",
       "2       1.2  20230527  0.061308  0.158256  20230527     1\n",
       "3       1.1  20230527  0.286346  0.524692  20230527     1\n",
       "4       1.1  20230528  0.481333  0.699564  20230528     1\n",
       "5       1.1  20230526  0.156013  0.313513  20230526     1\n",
       "6       1.4  20230526  0.000269  0.000718  20230526     1\n",
       "7       1.4  20230527  0.110103  0.238359  20230527     1\n",
       "8       1.4  20230528  0.119487  0.293179  20230528     1\n",
       "9       1.3  20230526  0.002808  0.000359  20230526     1\n",
       "10      1.3  20230527  0.120974  0.274026  20230527     1\n",
       "11      1.3  20230528  0.196051  0.322103  20230528     1"
      ]
     },
     "execution_count": 79,
     "metadata": {},
     "output_type": "execute_result"
    }
   ],
   "source": [
    "licking_specifity_df"
   ]
  },
  {
   "cell_type": "code",
   "execution_count": 80,
   "id": "5d7e6943",
   "metadata": {},
   "outputs": [],
   "source": [
    "licking_specifity_df = licking_specifity_df.sort_values(by=[\"subject\", \"date_int\"])"
   ]
  },
  {
   "cell_type": "code",
   "execution_count": 81,
   "id": "5d5f4217",
   "metadata": {},
   "outputs": [],
   "source": [
    "licking_specifity_df = licking_specifity_df.reset_index(drop=True)"
   ]
  },
  {
   "cell_type": "markdown",
   "id": "6aa47026",
   "metadata": {},
   "source": [
    "- Making Directories"
   ]
  },
  {
   "cell_type": "code",
   "execution_count": 82,
   "id": "a34e22ba",
   "metadata": {},
   "outputs": [],
   "source": [
    "subject_and_date_rows_licking_specifity_output_directory = \"./proc/subject_and_date_rows_licking_specifity_output_directory/cage_{}_date_{}_{}\".format(cage_numbers_for_title, earliest_date, latest_date)"
   ]
  },
  {
   "cell_type": "code",
   "execution_count": 83,
   "id": "fc57f4a6",
   "metadata": {},
   "outputs": [
    {
     "data": {
      "text/plain": [
       "'./proc/subject_and_date_rows_licking_specifity_output_directory/cage_1_date_20230526_20230528'"
      ]
     },
     "execution_count": 83,
     "metadata": {},
     "output_type": "execute_result"
    }
   ],
   "source": [
    "subject_and_date_rows_licking_specifity_output_directory"
   ]
  },
  {
   "cell_type": "code",
   "execution_count": 84,
   "id": "a3bdb2dc",
   "metadata": {},
   "outputs": [],
   "source": [
    "os.makedirs(subject_and_date_rows_licking_specifity_output_directory, exist_ok=True)"
   ]
  },
  {
   "cell_type": "markdown",
   "id": "3d7995e0",
   "metadata": {},
   "source": [
    "- Saving the dataframe to a file"
   ]
  },
  {
   "cell_type": "code",
   "execution_count": 85,
   "id": "2394c4b8",
   "metadata": {},
   "outputs": [],
   "source": [
    "licking_specifity_df.to_csv(os.path.join(subject_and_date_rows_licking_specifity_output_directory, \"subject_and_date_rows_licking_specifity_cage_{}_date_{}_{}.csv\".format(cage_numbers_for_title, earliest_date, latest_date)))\n",
    "licking_specifity_df.to_excel(os.path.join(subject_and_date_rows_licking_specifity_output_directory, \"subject_and_date_rows_licking_specifity_cage_{}_date_{}_{}.xlsx\".format(cage_numbers_for_title, earliest_date, latest_date)))\n"
   ]
  },
  {
   "cell_type": "markdown",
   "id": "6545ee26",
   "metadata": {},
   "source": [
    "## Plotting the Licking Specifity"
   ]
  },
  {
   "cell_type": "markdown",
   "id": "10f3d93d",
   "metadata": {},
   "source": [
    "- Making the output directories"
   ]
  },
  {
   "cell_type": "code",
   "execution_count": 86,
   "id": "64313967",
   "metadata": {},
   "outputs": [],
   "source": [
    "licking_specifity_plots_output_directory = \"./proc/plots/licking_specifity/cage_{}_date_{}_{}\".format(cage_numbers_for_title, earliest_date, latest_date)"
   ]
  },
  {
   "cell_type": "code",
   "execution_count": 87,
   "id": "f09191cc",
   "metadata": {},
   "outputs": [
    {
     "data": {
      "text/plain": [
       "'./proc/plots/licking_specifity/cage_1_date_20230526_20230528'"
      ]
     },
     "execution_count": 87,
     "metadata": {},
     "output_type": "execute_result"
    }
   ],
   "source": [
    "licking_specifity_plots_output_directory"
   ]
  },
  {
   "cell_type": "code",
   "execution_count": 88,
   "id": "11e8a8c9",
   "metadata": {},
   "outputs": [],
   "source": [
    "os.makedirs(licking_specifity_plots_output_directory, exist_ok=True)"
   ]
  },
  {
   "cell_type": "markdown",
   "id": "afc8c7fe",
   "metadata": {},
   "source": [
    "- Creating the plots"
   ]
  },
  {
   "cell_type": "code",
   "execution_count": 89,
   "id": "b72e6ba2",
   "metadata": {
    "scrolled": true
   },
   "outputs": [
    {
     "data": {
      "image/png": "[encoded data removed]",
      "text/plain": [
       "<Figure size 1000x600 with 1 Axes>"
      ]
     },
     "metadata": {},
     "output_type": "display_data"
    }
   ],
   "source": [
    "all_colors = [\"b\", \"g\", \"y\", \"r\"]\n",
    "\n",
    "for cage in licking_specifity_df[\"cage\"].unique():\n",
    "    fig, ax = plt.subplots()\n",
    "\n",
    "    cage_df = licking_specifity_df[licking_specifity_df[\"cage\"] == cage]\n",
    "    counter = 0\n",
    "    for subject in cage_df[\"subject\"].unique():\n",
    "        subject_df = cage_df[cage_df[\"subject\"] == subject]\n",
    "        \n",
    "        \n",
    "        ax.plot(subject_df[\"date_int\"] - subject_df[\"date_int\"].min() + 1, subject_df[\"-20_to_0\"], '--', color=all_colors[counter], label=\"{} at -20s to 0s\".format(subject))\n",
    "        ax.plot(subject_df[\"date_int\"] - subject_df[\"date_int\"].min() + 1, subject_df[\"0_to_10\"], '-', color=all_colors[counter], label=\"{} at 0s to 10s\".format(subject))\n",
    "        counter += 1\n",
    "        \n",
    "    ax.set_xlabel(\"The Days After the First Session\")\n",
    "    ax.set_ylabel(\"Average Licking Specificty Probaility\")\n",
    "    ax.set_title(\"Licking Specifity Probability Before and After Tone Onset: Cage {}\".format(int(cage)))\n",
    "\n",
    "    ax.set_ylim(0, 1)\n",
    "    ax.legend()\n",
    "    \n",
    "    file_name = \"licking_specifity_plot_cage_{}_date_{}_{}.png\".format(int(cage), earliest_date, latest_date)\n",
    "    plt.savefig(os.path.join(licking_specifity_plots_output_directory, file_name))\n",
    "    "
   ]
  },
  {
   "cell_type": "code",
   "execution_count": null,
   "id": "3848975e",
   "metadata": {},
   "outputs": [],
   "source": []
  }
 ],
 "metadata": {
  "kernelspec": {
   "display_name": "Python 3 (ipykernel)",
   "language": "python",
   "name": "python3"
  },
  "language_info": {
   "codemirror_mode": {
    "name": "ipython",
    "version": 3
   },
   "file_extension": ".py",
   "mimetype": "text/x-python",
   "name": "python",
   "nbconvert_exporter": "python",
   "pygments_lexer": "ipython3",
   "version": "3.9.16"
  }
 },
 "nbformat": 4,
 "nbformat_minor": 5
}
