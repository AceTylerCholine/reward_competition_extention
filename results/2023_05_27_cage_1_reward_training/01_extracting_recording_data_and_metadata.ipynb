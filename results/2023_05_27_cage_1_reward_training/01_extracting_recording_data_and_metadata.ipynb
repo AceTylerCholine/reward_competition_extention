{
 "cells": [
  {
   "cell_type": "markdown",
   "id": "ec0f0e72",
   "metadata": {},
   "source": [
    "# Notebook 1: MED-PC Extracting the Recording Data and Metadata"
   ]
  },
  {
   "cell_type": "markdown",
   "id": "3e96b039",
   "metadata": {},
   "source": [
    "# Importing the Python Libraries"
   ]
  },
  {
   "cell_type": "code",
   "execution_count": 1,
   "id": "df497936",
   "metadata": {},
   "outputs": [],
   "source": [
    "import sys\n",
    "import glob\n",
    "from collections import defaultdict\n",
    "import os\n",
    "from datetime import datetime"
   ]
  },
  {
   "cell_type": "code",
   "execution_count": 2,
   "id": "56164412",
   "metadata": {},
   "outputs": [],
   "source": [
    "import numpy as np\n",
    "import pandas as pd\n",
    "import matplotlib.pyplot as plt\n",
    "from medpc2excel.medpc_read import medpc_read"
   ]
  },
  {
   "cell_type": "code",
   "execution_count": 3,
   "id": "d2693f50",
   "metadata": {},
   "outputs": [],
   "source": [
    "# setting path\n",
    "sys.path.append('../../src')"
   ]
  },
  {
   "cell_type": "code",
   "execution_count": 4,
   "id": "2eca7742",
   "metadata": {},
   "outputs": [],
   "source": [
    "# All the libraries that were created for this repository\n",
    "import extract.dataframe\n",
    "import processing.tone\n",
    "import extract.metadata"
   ]
  },
  {
   "cell_type": "markdown",
   "id": "52dd42ca",
   "metadata": {},
   "source": [
    "# Getting the Metadata from all the MED-PC Recording Files"
   ]
  },
  {
   "cell_type": "markdown",
   "id": "51a96419",
   "metadata": {},
   "source": [
    "- Every MED-PC Recording file has Metadata about time, data, subject, group, experiment name, script used, and the MED-PC box number on the top of the recording file. We will first extract that information\n",
    "    - Metadata can be background information or context about data(or files) that is often different from the actual data that is intended to be recorded.  \n",
    "        For more information on Metadata: https://en.wikipedia.org/wiki/Metadata"
   ]
  },
  {
   "cell_type": "code",
   "execution_count": 5,
   "id": "3d9606f6",
   "metadata": {},
   "outputs": [],
   "source": [
    "all_med_pc_file = glob.glob(\"./data/**/*.txt\", recursive=True)"
   ]
  },
  {
   "cell_type": "markdown",
   "id": "9737ddcc",
   "metadata": {},
   "source": [
    "- The path of the directory that this notebook is in. This will be where relative paths will be based off of"
   ]
  },
  {
   "cell_type": "code",
   "execution_count": 6,
   "id": "e5ecf305",
   "metadata": {},
   "outputs": [],
   "source": [
    "current_working_directory = os.getcwd()"
   ]
  },
  {
   "cell_type": "code",
   "execution_count": 7,
   "id": "539cec71",
   "metadata": {},
   "outputs": [],
   "source": [
    "current_working_directory"
   ]
  },
  {
   "cell_type": "markdown",
   "id": "9ad90d16",
   "metadata": {},
   "source": [
    "- All the other files in this directory. If you want to use a folder in here such as the `data` folder, you'd type `./data/{name_of_folder}` where you replace `{name_of_folder}` with the name of the folder without the `{}`. You will do this in the cells following the one below\n",
    "    - The `./` means the path will reference the current directory that the command is being used from"
   ]
  },
  {
   "cell_type": "code",
   "execution_count": 8,
   "id": "932243dd",
   "metadata": {},
   "outputs": [],
   "source": [
    "os.listdir(current_working_directory)"
   ]
  },
  {
   "cell_type": "markdown",
   "id": "005ccdc3",
   "metadata": {},
   "source": [
    "## NOTE: If you are using your own data, the following path must be changed to the directory where your MED-PC recording files are located(if they are not in the specied folder). It is recommended to create a sub folder in the `data` folder(that is in the same folder as this notebook) for each group of session you want to process and put the recording files in there"
   ]
  },
  {
   "cell_type": "markdown",
   "id": "07578f1d",
   "metadata": {},
   "source": [
    "- Use the cell below instead if you're using your own data. You must change the cell below by clicking on the cell and then pressing the `esc` key. Then press the `Y` button on your keyboard. If you want to switch it back do the same but press the `R` button instead. This switches it from a cell that is run as if it's code, or back to a cell where it's just treated as text\n",
    "    - **NOTE: If you are using a different folder, then change the path in the cell below**\n",
    "    - The asterisk is called a wild card which will tell the computer to find all files/folders that match this pattern. The `*` means that any pattern of any length can be replaced with it. The `**` tells the computer to look in all folders that are in the specified folder. For more information: https://linuxhint.com/bash_wildcard_tutorial/\n",
    "    - For more information on finding the path of your folder that contains the recording files: https://www.computerhope.com/issues/ch001708.htm"
   ]
  },
  {
   "cell_type": "code",
   "execution_count": 9,
   "id": "3ce543a6",
   "metadata": {},
   "outputs": [],
   "source": [
    "all_med_pc_file = glob.glob(\"./data/*.txt\")"
   ]
  },
  {
   "cell_type": "code",
   "execution_count": 10,
   "id": "29194eda",
   "metadata": {},
   "outputs": [],
   "source": [
    "all_med_pc_file[:10]"
   ]
  },
  {
   "cell_type": "markdown",
   "id": "062be1de",
   "metadata": {},
   "source": [
    "- Example of what the MED-PC Recording file looks like"
   ]
  },
  {
   "cell_type": "code",
   "execution_count": 11,
   "id": "1c7118af",
   "metadata": {},
   "outputs": [],
   "source": [
    "with open(all_med_pc_file[0]) as f:\n",
    "    lines = f.readlines()\n",
    "    for line in lines[:20]:\n",
    "        print(line)"
   ]
  },
  {
   "cell_type": "markdown",
   "id": "23b6a4cc",
   "metadata": {},
   "source": [
    "- We will be extracting the first 10 or so lines that look like:\n",
    "\n",
    "```\n",
    "File: C:\\MED-PC\\Data\\2022-05-06_12h59m_Subject 3.4 (2).txt\n",
    "\n",
    "Start Date: 05/06/22\n",
    "\n",
    "End Date: 05/06/22\n",
    "\n",
    "Subject: 3.4 (2)\n",
    "\n",
    "Experiment: Pilot of Pilot\n",
    "\n",
    "Group: Cage 4\n",
    "\n",
    "Box: 1\n",
    "\n",
    "Start Time: 12:59:58\n",
    "\n",
    "End Time: 14:02:38\n",
    "\n",
    "MSN: levelNP_CS_reward_laserepochON1st_noshock\n",
    "```"
   ]
  },
  {
   "cell_type": "markdown",
   "id": "f1404cfd",
   "metadata": {},
   "source": [
    "- We will just find all the lines that start with `\"File\", \"Start Date\", \"End Date\", \"Subject\", \"Experiment\", \"Group\", \"Box\", \"Start Time\", \"End Time\", or \"MSN\"`. And get the metadata from those lines. And then stop once all the metadata types have been collected"
   ]
  },
  {
   "cell_type": "code",
   "execution_count": 12,
   "id": "67503081",
   "metadata": {},
   "outputs": [],
   "source": [
    "# This makes a nested dictionary of file paths to each individual metadata type\n",
    "file_path_to_meta_data = extract.metadata.get_all_med_pc_meta_data_from_files(list_of_files=all_med_pc_file)"
   ]
  },
  {
   "cell_type": "code",
   "execution_count": 13,
   "id": "35ff0f55",
   "metadata": {},
   "outputs": [],
   "source": [
    "# The metadata for the first file\n",
    "for key, value in file_path_to_meta_data.items():\n",
    "    print(\"File path: {}\".format(key))\n",
    "    print(\"Metadata types and associated values: {}\".format(value))\n",
    "    break"
   ]
  },
  {
   "cell_type": "markdown",
   "id": "2c00edf5",
   "metadata": {},
   "source": [
    "## Making a Dataframe out of the Metadata"
   ]
  },
  {
   "cell_type": "markdown",
   "id": "3298bae3",
   "metadata": {},
   "source": [
    "- A Dataframe is essentially a \"programmable\" spreadsheet. But instead of clicking on cells, you will have to tell Python how you want to interact with the spreadsheet\n",
    "    - For more information: https://realpython.com/pandas-dataframe/"
   ]
  },
  {
   "cell_type": "code",
   "execution_count": 14,
   "id": "6fcb3201",
   "metadata": {},
   "outputs": [],
   "source": [
    "# Turning the dictionary into a Pandas Dataframe\n",
    "metadata_df = pd.DataFrame.from_dict(file_path_to_meta_data, orient=\"index\")\n",
    "# Resetting the index because currently the file path is the index \n",
    "metadata_df = metadata_df.reset_index()"
   ]
  },
  {
   "cell_type": "code",
   "execution_count": 15,
   "id": "b98fcaf2",
   "metadata": {},
   "outputs": [],
   "source": [
    "metadata_df.head()"
   ]
  },
  {
   "cell_type": "code",
   "execution_count": 16,
   "id": "371584e7",
   "metadata": {
    "scrolled": true
   },
   "outputs": [],
   "source": [
    "metadata_df.tail()"
   ]
  },
  {
   "cell_type": "markdown",
   "id": "8ac4297a",
   "metadata": {},
   "source": [
    "- Getting the numbers out of the column that contains the cage information"
   ]
  },
  {
   "cell_type": "code",
   "execution_count": 17,
   "id": "d0655375",
   "metadata": {},
   "outputs": [],
   "source": [
    "metadata_df[\"cage\"] = metadata_df[\"Group\"].apply(lambda x: x.lower().strip(\"cage\").strip())"
   ]
  },
  {
   "cell_type": "code",
   "execution_count": 18,
   "id": "28b9478d",
   "metadata": {
    "scrolled": true
   },
   "outputs": [],
   "source": [
    "metadata_df[\"cage\"].head()"
   ]
  },
  {
   "cell_type": "markdown",
   "id": "f5b3ecc2",
   "metadata": {},
   "source": [
    "- Getting the number of files that are associated with each subject"
   ]
  },
  {
   "cell_type": "code",
   "execution_count": 19,
   "id": "6285ade1",
   "metadata": {
    "scrolled": true
   },
   "outputs": [],
   "source": [
    "# How many files there are for each subject\n",
    "metadata_df.groupby(\"Subject\").count()"
   ]
  },
  {
   "cell_type": "markdown",
   "id": "dd4bc5a5",
   "metadata": {},
   "source": [
    "## Looking over the MED-PC scripts"
   ]
  },
  {
   "cell_type": "markdown",
   "id": "73d599c4",
   "metadata": {},
   "source": [
    "- MED-PC has scripts(lines of code that act as the instructions for how to operate the MED-PC boxes) that contain the descriptions of what each value in the recordings are. We will extract the descriptions from the MED-PC scripts so that we can label the data points in the MED-PC recordings  \n",
    "- Below is a list of all the MED-PC Scripts. We will only be looking at the first one    "
   ]
  },
  {
   "cell_type": "code",
   "execution_count": 20,
   "id": "09460401",
   "metadata": {},
   "outputs": [],
   "source": [
    "all_medpc_scripts = glob.glob(\"./**/*.MPC\")"
   ]
  },
  {
   "cell_type": "code",
   "execution_count": 21,
   "id": "9c93c991",
   "metadata": {},
   "outputs": [],
   "source": [
    "all_medpc_scripts"
   ]
  },
  {
   "cell_type": "markdown",
   "id": "c78aaf6c",
   "metadata": {},
   "source": [
    "- Example of what the MED-PC Script looks like that was ran when recording the behaviors"
   ]
  },
  {
   "cell_type": "code",
   "execution_count": 22,
   "id": "8dee131d",
   "metadata": {},
   "outputs": [],
   "source": [
    "with open(all_medpc_scripts[0]) as f:\n",
    "    lines = f.readlines()\n",
    "    for line in lines[:100]:\n",
    "        print(line)"
   ]
  },
  {
   "cell_type": "markdown",
   "id": "0ee62e6c",
   "metadata": {},
   "source": [
    "- We will be using the comments in the MED-PC script(Everything after the `\\` for each line) to create a name for the variables. By default, MED-PC uses a single letter as the name of the variable(programming object that holds some information).\n",
    "    - This will use the medpc2excel library found in https://github.com/cyf203/medpc2excel\n",
    "- Example of the variable names and their comments in the MED-PC script that we will get the descriptive names from:\n",
    "    - MED-PC will squish the first few words to create the name for every variable\n",
    "\n",
    "```\n",
    "DIM P = 20000 \\Port entry time stamp array\n",
    "\n",
    "DIM Q = 2500 \\US delivery time stamp array (absolute)\n",
    "\n",
    "DIM R = 2500 \\US time stamp array (relative to last CS)\n",
    "\n",
    "DIM W = 2500 \\ITI values used for CS\n",
    "\n",
    "DIM S = 2500 \\CS presentation values (absolute - every time light turns on)\n",
    "\n",
    "DIM N = 20000 \\Port exit time stamp array\n",
    "\n",
    "DIM K = 2500 \\CS type\n",
    "\n",
    "DIM B = 2500 \\shock intensity\n",
    "```"
   ]
  },
  {
   "cell_type": "markdown",
   "id": "0caaa9b0",
   "metadata": {},
   "source": [
    "- In the MED-PC recording files, there are values that are labelled with letters. These data type of these letters is described in the MED-PC script file that we just looked at."
   ]
  },
  {
   "cell_type": "code",
   "execution_count": 23,
   "id": "7d7b57bd",
   "metadata": {
    "scrolled": true
   },
   "outputs": [],
   "source": [
    "with open(all_med_pc_file[0]) as f:\n",
    "    lines = f.readlines()\n",
    "    for line in lines[:20]:\n",
    "        print(line)"
   ]
  },
  {
   "cell_type": "markdown",
   "id": "3480b276",
   "metadata": {},
   "source": [
    "## **NOTE: Please make sure that the corresponding `.mpc` file (aka the MED-PC script) that was ran to create the log file, is also in the same folder as the recording files. This notebook will fail to extract the data from the recording file if it is missing**"
   ]
  },
  {
   "cell_type": "markdown",
   "id": "da040878",
   "metadata": {},
   "source": [
    "- Spreadsheet of the data from the MED-PC recording file for all the files combined into one.\n",
    "- **NOTE: Each row does not correspond to the same data point. Each row represents the \"n\"-th data point for each category for each file. AKA, the first row is the first data point for the time the subject entered the port and the first data point for the time that the tone that is played, two seperate things. The second row is the second data point for all the categories, the third row is the third data point and so on. This repeats for all data points in a given file, then it starts over to the next file where the first row of that file is the first for all its data points.**"
   ]
  },
  {
   "cell_type": "code",
   "execution_count": 24,
   "id": "0c38d1eb",
   "metadata": {
    "scrolled": true
   },
   "outputs": [],
   "source": [
    "concatted_medpc_df = extract.dataframe.get_medpc_dataframe_from_list_of_files(medpc_files=all_med_pc_file)"
   ]
  },
  {
   "cell_type": "code",
   "execution_count": 25,
   "id": "f9339573",
   "metadata": {},
   "outputs": [],
   "source": [
    "concatted_medpc_df.head()"
   ]
  },
  {
   "cell_type": "code",
   "execution_count": 26,
   "id": "77f21603",
   "metadata": {},
   "outputs": [],
   "source": [
    "concatted_medpc_df.tail()"
   ]
  },
  {
   "cell_type": "markdown",
   "id": "ffd4b0b6",
   "metadata": {},
   "source": [
    "- Combining the recording and the metadata into one dataframe"
   ]
  },
  {
   "cell_type": "code",
   "execution_count": 27,
   "id": "ecc68d3c",
   "metadata": {},
   "outputs": [],
   "source": [
    "recording_and_metadata_df = concatted_medpc_df.merge(metadata_df, left_on='file_path', right_on='index')"
   ]
  },
  {
   "cell_type": "code",
   "execution_count": 28,
   "id": "48ac16af",
   "metadata": {
    "scrolled": true
   },
   "outputs": [],
   "source": [
    "recording_and_metadata_df.head()"
   ]
  },
  {
   "cell_type": "markdown",
   "id": "21801f5b",
   "metadata": {},
   "source": [
    "## Getting the cage numbers and the dates so that we can include it in the file name"
   ]
  },
  {
   "cell_type": "markdown",
   "id": "fb7824da",
   "metadata": {},
   "source": [
    "- We will get the metadata from the recording files and use it to name the files we will create. This will help organize the files and make it easy to know where each file came from "
   ]
  },
  {
   "cell_type": "markdown",
   "id": "c61465d5",
   "metadata": {},
   "source": [
    "- Getting the group numbers(original cage names)"
   ]
  },
  {
   "cell_type": "code",
   "execution_count": 29,
   "id": "9247d864",
   "metadata": {},
   "outputs": [],
   "source": [
    "# removing blank spaces\n",
    "group_numbers = [\"_\".join(number.split()) for number in recording_and_metadata_df[\"Group\"].unique() if number]\n",
    "# sorting numbers\n",
    "group_numbers = sorted(group_numbers)\n",
    "group_numbers_for_title = \"_\".join(group_numbers)"
   ]
  },
  {
   "cell_type": "code",
   "execution_count": 30,
   "id": "d31a3fe2",
   "metadata": {
    "scrolled": true
   },
   "outputs": [],
   "source": [
    "group_numbers_for_title"
   ]
  },
  {
   "cell_type": "markdown",
   "id": "1e2b5741",
   "metadata": {},
   "source": [
    "- Getting the cage numbers"
   ]
  },
  {
   "cell_type": "code",
   "execution_count": 31,
   "id": "345e7b37",
   "metadata": {},
   "outputs": [],
   "source": [
    "# removing blank spaces\n",
    "cage_numbers = [\"_\".join(number.split()) for number in recording_and_metadata_df[\"cage\"].unique() if number]\n",
    "# sorting numbers\n",
    "cage_numbers = sorted(cage_numbers)\n",
    "cage_numbers_for_title = \"_\".join(cage_numbers)"
   ]
  },
  {
   "cell_type": "code",
   "execution_count": 32,
   "id": "6218bf54",
   "metadata": {},
   "outputs": [],
   "source": [
    "cage_numbers_for_title"
   ]
  },
  {
   "cell_type": "markdown",
   "id": "0a04a431",
   "metadata": {},
   "source": [
    "- Getting the dates"
   ]
  },
  {
   "cell_type": "code",
   "execution_count": 33,
   "id": "25a3de9f",
   "metadata": {},
   "outputs": [],
   "source": [
    "# Getting the first and last recording date to get a range\n",
    "earliest_date = recording_and_metadata_df[\"date\"].min()\n",
    "latest_date = recording_and_metadata_df[\"date\"].max()"
   ]
  },
  {
   "cell_type": "code",
   "execution_count": 34,
   "id": "0bb7ca79",
   "metadata": {},
   "outputs": [],
   "source": [
    "earliest_date"
   ]
  },
  {
   "cell_type": "code",
   "execution_count": 35,
   "id": "1bb95ad7",
   "metadata": {},
   "outputs": [],
   "source": [
    "latest_date"
   ]
  },
  {
   "cell_type": "markdown",
   "id": "536bf2d3",
   "metadata": {},
   "source": [
    "- Getting the subject names"
   ]
  },
  {
   "cell_type": "code",
   "execution_count": 36,
   "id": "86fa047c",
   "metadata": {},
   "outputs": [],
   "source": [
    "recording_and_metadata_df[\"Subject\"].unique()"
   ]
  },
  {
   "cell_type": "code",
   "execution_count": 37,
   "id": "b71f8d49",
   "metadata": {},
   "outputs": [],
   "source": [
    "# removing blank spaces\n",
    "subject_numbers = [number for number in recording_and_metadata_df[\"Subject\"].unique() if number]\n",
    "# sorting numbers\n",
    "subject_numbers = sorted(subject_numbers)\n",
    "subject_numbers_for_title = \"subj_{}\".format(\"_\".join(subject_numbers))"
   ]
  },
  {
   "cell_type": "code",
   "execution_count": 38,
   "id": "31dc9ec6",
   "metadata": {},
   "outputs": [],
   "source": [
    "subject_numbers_for_title"
   ]
  },
  {
   "cell_type": "markdown",
   "id": "49c8e80f",
   "metadata": {},
   "source": [
    "- Getting the experiment name"
   ]
  },
  {
   "cell_type": "code",
   "execution_count": 39,
   "id": "794d3dab",
   "metadata": {},
   "outputs": [],
   "source": [
    "experiment_names = [\"_\".join(name.split()) for name in recording_and_metadata_df[\"Experiment\"].unique() if name]\n",
    "# sorting experiment_names\n",
    "experiment_names = sorted(experiment_names)\n",
    "experiment_names_for_title = \"AND\".join(experiment_names)"
   ]
  },
  {
   "cell_type": "code",
   "execution_count": 40,
   "id": "cce611c3",
   "metadata": {},
   "outputs": [],
   "source": [
    "experiment_names_for_title"
   ]
  },
  {
   "cell_type": "markdown",
   "id": "caf67d05",
   "metadata": {},
   "source": [
    "- Getting the box numbers"
   ]
  },
  {
   "cell_type": "code",
   "execution_count": 41,
   "id": "9a4f34e1",
   "metadata": {},
   "outputs": [],
   "source": [
    "# removing blank spaces\n",
    "box_numbers = [\"_\".join(number.split()) for number in recording_and_metadata_df[\"Box\"].unique() if number]\n",
    "# sorting numbers\n",
    "box_numbers = sorted(box_numbers)\n",
    "box_numbers_for_title = \"_\".join(box_numbers)"
   ]
  },
  {
   "cell_type": "code",
   "execution_count": 42,
   "id": "11c1e052",
   "metadata": {
    "scrolled": true
   },
   "outputs": [],
   "source": [
    "box_numbers_for_title"
   ]
  },
  {
   "cell_type": "markdown",
   "id": "a6d60334",
   "metadata": {},
   "source": [
    "- Getting the script names"
   ]
  },
  {
   "cell_type": "code",
   "execution_count": 43,
   "id": "ca537218",
   "metadata": {},
   "outputs": [],
   "source": [
    "# removing blank spaces\n",
    "script_names = [\"_\".join(name.split()) for name in recording_and_metadata_df[\"MSN\"].unique() if name]\n",
    "# sorting names\n",
    "script_names = sorted(script_names)\n",
    "script_names_for_title = \"_\".join(script_names)"
   ]
  },
  {
   "cell_type": "code",
   "execution_count": 44,
   "id": "e4d0d93f",
   "metadata": {
    "scrolled": true
   },
   "outputs": [],
   "source": [
    "script_names_for_title"
   ]
  },
  {
   "cell_type": "markdown",
   "id": "631a7b61",
   "metadata": {},
   "source": [
    "## Saving the dataframes(spreadsheets to files) with the metadata as part of the name"
   ]
  },
  {
   "cell_type": "markdown",
   "id": "4d0ee9b9",
   "metadata": {},
   "source": [
    "- Making necessary directories\n",
    "    - If you want to use any of the other metadata as part of the name, you will have to swap out the variables in the `format()` and change the name of the folder to match your new name. The variable names are the word that's in front of the `=` at the last line of each cell. The `{}` are where the metadata variables will be inserted into the file name. For more information on formatting strings: https://www.w3schools.com/python/ref_string_format.asp\n",
    "    - You can also just manually rename the files by replacing everything in `\"\"` and removing the `.format()` part\n",
    "- **NOTE: You may get an error that the file does not exist. If this is the case, it could be the file name is too long(an issue that may happen when using Jupyter Notebooks on Windows)**"
   ]
  },
  {
   "cell_type": "code",
   "execution_count": 45,
   "id": "4dced6c1",
   "metadata": {},
   "outputs": [],
   "source": [
    "output_directory = \"./proc/extracted_recording_data_and_metadata/experiment_{}_cage_{}_date_{}_{}\".format(experiment_names_for_title, cage_numbers_for_title, earliest_date, latest_date)"
   ]
  },
  {
   "cell_type": "code",
   "execution_count": 46,
   "id": "c26466e3",
   "metadata": {},
   "outputs": [],
   "source": [
    "output_directory"
   ]
  },
  {
   "cell_type": "code",
   "execution_count": 47,
   "id": "6a5db606",
   "metadata": {},
   "outputs": [],
   "source": [
    "os.makedirs(output_directory, exist_ok=True)"
   ]
  },
  {
   "cell_type": "code",
   "execution_count": 48,
   "id": "8a56980a",
   "metadata": {},
   "outputs": [],
   "source": [
    "metadata_df.to_csv(os.path.join(output_directory, \"metadata_cage_{}_date_{}_{}.csv\".format(cage_numbers_for_title, earliest_date, latest_date)))\n",
    "# metadata_df.to_excel(os.path.join(output_directory, \"metadata_cage_{}_date_{}_{}.xlsx\".format(cage_numbers_for_title, earliest_date, latest_date)))"
   ]
  },
  {
   "cell_type": "code",
   "execution_count": 49,
   "id": "aa534438",
   "metadata": {},
   "outputs": [],
   "source": [
    "concatted_medpc_df.to_csv(os.path.join(output_directory, \"MEDPC_recording_cage_{}_date_{}_{}.csv\".format(cage_numbers_for_title, earliest_date, latest_date)))\n",
    "# concatted_medpc_df.to_excel(os.path.join(output_directory, \"MEDPC_recording_cage_{}_date_{}_{}.xlsx\".format(cage_numbers_for_title, earliest_date, latest_date)))"
   ]
  },
  {
   "cell_type": "code",
   "execution_count": 50,
   "id": "4a449324",
   "metadata": {},
   "outputs": [],
   "source": [
    "recording_and_metadata_df.to_csv(os.path.join(output_directory, \"recording_metadata_cage_{}_date_{}_{}.csv\".format(cage_numbers_for_title, earliest_date, latest_date)))\n",
    "# recording_and_metadata_df.to_excel(os.path.join(output_directory, \"recording_and_metadata_cage_{}_date_{}_{}.xlsx\".format(cage_numbers_for_title, earliest_date, latest_date)))"
   ]
  },
  {
   "cell_type": "code",
   "execution_count": null,
   "id": "826c691b",
   "metadata": {},
   "outputs": [],
   "source": []
  }
 ],
 "metadata": {
  "kernelspec": {
   "display_name": "Python 3 (ipykernel)",
   "language": "python",
   "name": "python3"
  },
  "language_info": {
   "codemirror_mode": {
    "name": "ipython",
    "version": 3
   },
   "file_extension": ".py",
   "mimetype": "text/x-python",
   "name": "python",
   "nbconvert_exporter": "python",
   "pygments_lexer": "ipython3",
   "version": "3.9.16"
  }
 },
 "nbformat": 4,
 "nbformat_minor": 5
}
