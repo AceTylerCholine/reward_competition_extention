{
 "cells": [
  {
   "cell_type": "markdown",
   "id": "238a6b1a",
   "metadata": {},
   "source": [
    "# Spike Gadgets Ephys and Video Syncing"
   ]
  },
  {
   "cell_type": "code",
   "execution_count": 1,
   "id": "7650e225",
   "metadata": {},
   "outputs": [],
   "source": [
    "import re\n",
    "import sys\n",
    "from collections import defaultdict\n",
    "import random\n",
    "from random import randrange\n",
    "import glob\n",
    "import warnings\n",
    "import os"
   ]
  },
  {
   "cell_type": "code",
   "execution_count": 2,
   "id": "708b2d99",
   "metadata": {},
   "outputs": [],
   "source": [
    "import numpy as np\n",
    "import pandas as pd\n",
    "from IPython.display import Video\n",
    "import matplotlib.pyplot as plt"
   ]
  },
  {
   "cell_type": "code",
   "execution_count": 3,
   "id": "a0a6d069",
   "metadata": {},
   "outputs": [],
   "source": [
    "# setting path\n",
    "sys.path.append('../../src')"
   ]
  },
  {
   "cell_type": "code",
   "execution_count": 4,
   "id": "2c463f5c",
   "metadata": {},
   "outputs": [],
   "source": [
    "import trodes.read_exported"
   ]
  },
  {
   "cell_type": "code",
   "execution_count": 5,
   "id": "9a656325",
   "metadata": {},
   "outputs": [],
   "source": [
    "%matplotlib inline"
   ]
  },
  {
   "cell_type": "code",
   "execution_count": 6,
   "id": "2a850939",
   "metadata": {},
   "outputs": [],
   "source": [
    "np.random.seed(seed=42)"
   ]
  },
  {
   "cell_type": "markdown",
   "id": "47e5f0e3",
   "metadata": {},
   "source": [
    "# Part 0: Index of all the column names"
   ]
  },
  {
   "cell_type": "markdown",
   "id": "9ae18439",
   "metadata": {},
   "source": [
    "raw directory\n",
    "- raw_group0.dat\n",
    "    - voltage_value: Array with voltage measurement for each channel at each timestamp\n",
    "- timestamps.dat\n",
    "    - voltage_time_stamp: The time stamp of each voltage measurement\n",
    "\n",
    "parent directory\n",
    "- 1.videoTimeStamps.cameraHWSync\n",
    "    - frame_number: Calculated by getting the index of each video time stamp tuple \n",
    "    - PosTimestamp: The time stamp of each video frame\n",
    "    - HWframeCount: Unknown value. Starts at 30742 and increases by 1 for each tuple  \n",
    "    - HWTimestamp: Unknown value. All zeroes\n",
    "    - video_time: Calculated by dividing the frame number by the fps(frames per second) \n",
    "    - video_seconds: video_time, but rounded to seconds  \t\n",
    "    - These are filled in versions of the above collumns with the value from the most recent previous cell\n",
    "        - filled_PosTimestamp \t\n",
    "        - filledHWframeCount \t\n",
    "        - filled_frame_number \t\n",
    "        - filled_video_time \t\n",
    "        - filled_video_seconds \t\n",
    "\n",
    "DIO directory\n",
    "- dio_ECU_Din1.dat\n",
    "    - time: The time stamp the corresponds to the DIN input\n",
    "    - state: Binary state of whether there is input from DIN or not \t\n",
    "    - trial_number: Calculated by adding 1 to every time there is a DIN input\n",
    "    - These are filled in versions of the above collumns with the value from the most recent previous cell\n",
    "        - filled_state \t\n",
    "        - filled_trial_number\n",
    "\n",
    "ss_output directory (Spike sorting with Spike interface)\n",
    "- firings.npz\n",
    "    - unit_id: All the units that had a spike train for the given timestamp \t\n",
    "    - number_of_units: Calculated by counting the number of units that had a spike train"
   ]
  },
  {
   "cell_type": "markdown",
   "id": "0a766d9c",
   "metadata": {},
   "source": [
    "# Part 1: Inputting Data"
   ]
  },
  {
   "cell_type": "markdown",
   "id": "88a3e0d2",
   "metadata": {},
   "source": [
    "## Name of protocol for naming"
   ]
  },
  {
   "cell_type": "markdown",
   "id": "6df81b81",
   "metadata": {},
   "source": [
    "- This name will be used to name files and title plots. Please change if you are using a different protocol or adding more details\n",
    "    - **NOTE**: This should be changed based on the name the protocol"
   ]
  },
  {
   "cell_type": "code",
   "execution_count": 7,
   "id": "1cca08a6",
   "metadata": {},
   "outputs": [],
   "source": [
    "protocol_name = \"rc_extention\""
   ]
  },
  {
   "cell_type": "markdown",
   "id": "abf902c0",
   "metadata": {},
   "source": [
    "## Getting the file name of the raw data"
   ]
  },
  {
   "cell_type": "markdown",
   "id": "de61251a",
   "metadata": {},
   "source": [
    "- Default input folder and keyword to search the files for \n",
    "    - **NOTE**: This should not be changed unless there is a consistent change with the file naming convention"
   ]
  },
  {
   "cell_type": "code",
   "execution_count": 8,
   "id": "10271e7e",
   "metadata": {},
   "outputs": [],
   "source": [
    "input_folder = \"./data\""
   ]
  },
  {
   "cell_type": "code",
   "execution_count": 9,
   "id": "134d6f66",
   "metadata": {},
   "outputs": [],
   "source": [
    "# Accomodates for both capitalization of the file names\n",
    "raw_data_file_keyword = '*[mM]edpc*'"
   ]
  },
  {
   "cell_type": "markdown",
   "id": "046c9c0b",
   "metadata": {},
   "source": [
    "- Asking the user what the path to the recording files are, with the option of using wildcards"
   ]
  },
  {
   "cell_type": "raw",
   "id": "04bbe9c4",
   "metadata": {},
   "source": [
    "raw_data_glob_pattern = input(\"\"\"Type out the path(address) of the raw behavioral recording excel sheets.\n",
    "Remember that if you are using a relative path, it will be based off of the location of this Jupyter Notebook.\n",
    "\n",
    "Globbing can also be used if you want to search with a wild card(Capitalization matters). \n",
    "i.e. './data/*medpc*' will be able to find './data/mice_with_tethered_with_medpc_20220907_140232.rec'\n",
    "\n",
    "NOTE: If left blank, the path will automatically be guessed off of the default settings \n",
    "\"\"\")"
   ]
  },
  {
   "cell_type": "markdown",
   "id": "b2aa48e2",
   "metadata": {},
   "source": [
    "- Make this cell into non-code block if you are using the same file path for multiple runs"
   ]
  },
  {
   "cell_type": "code",
   "execution_count": 10,
   "id": "6b7880eb",
   "metadata": {},
   "outputs": [],
   "source": [
    "raw_data_glob_pattern = \"/scratch/back_up/reward_competition_extention/data/omission/2023_06_20/20230620_114347_standard_comp_to_omission_D4_subj_1-2_and_1-1.rec\""
   ]
  },
  {
   "cell_type": "code",
   "execution_count": 11,
   "id": "847703f9-485d-43da-8ba2-bb6f83fbdc69",
   "metadata": {},
   "outputs": [],
   "source": [
    "raw_data_glob_pattern = \"/scratch/back_up/reward_competition_extention/data/omission/2023_06_21/20230621_111240_standard_comp_to_omission_D5_subj_1-4_and_1-2.rec\""
   ]
  },
  {
   "cell_type": "markdown",
   "id": "4b22a422",
   "metadata": {},
   "source": [
    "- By default, this will search for files that are in the `./data` folder (in the folder that this notebook is in) that have key word you specified in the file name"
   ]
  },
  {
   "cell_type": "code",
   "execution_count": 12,
   "id": "085c87db",
   "metadata": {},
   "outputs": [],
   "source": [
    "# Using the user inputted path/pattern\n",
    "if raw_data_glob_pattern.strip():\n",
    "    # Getting a list of all matching files\n",
    "    raw_data_files_list = glob.glob(raw_data_glob_pattern.strip())\n",
    "    # Checking if there were any files that matched\n",
    "    if raw_data_files_list:\n",
    "        raw_data_file_path = raw_data_files_list[0]\n",
    "    else:\n",
    "        raise ValueError(\"No files were found with the path/pattern of {}. Please rerun the previous cell with the correct path\".format(raw_data_glob_pattern))\n",
    "\n",
    "# Using the default pattern\n",
    "else:\n",
    "    # Searching for matching files with recursion\n",
    "    if glob.glob(os.path.join(input_folder + \"**\", raw_data_file_keyword)):\n",
    "        raw_data_glob_pattern = os.path.join(input_folder + \"**\", raw_data_file_keyword)\n",
    "        # Getting a list of all matching files\n",
    "        raw_data_files_list = glob.glob(raw_data_glob_pattern)\n",
    "    # Searching for matching files only in the specified folder\n",
    "    elif glob.glob(os.path.join(input_folder, raw_data_file_keyword)):\n",
    "        raw_data_glob_pattern = glob.glob(os.path.join(input_folder, raw_data_file_keyword))\n",
    "        # Getting a list of all matching files\n",
    "        raw_data_files_list = glob.glob(raw_data_glob_pattern)\n",
    "    else:\n",
    "        raise ValueError(\"No files were found in {} that had the keyword {} in it\".format(input_folder, raw_data_file_keyword))\n"
   ]
  },
  {
   "cell_type": "markdown",
   "id": "3dcea096",
   "metadata": {},
   "source": [
    "- Checking to see if only one file is specified"
   ]
  },
  {
   "cell_type": "code",
   "execution_count": 13,
   "id": "6ef4f1dc",
   "metadata": {
    "scrolled": true
   },
   "outputs": [],
   "source": [
    "if len(raw_data_files_list) >= 2:\n",
    "    raise ValueError(\"More than one file was found with the path/pattern of {}. Please rerun the previous cell with the correct path\".format(raw_data_glob_pattern))\n",
    "else:\n",
    "    # Using the first(and only file) as the file path\n",
    "    raw_data_file_path = raw_data_files_list[0]"
   ]
  },
  {
   "cell_type": "code",
   "execution_count": 14,
   "id": "e3da4352",
   "metadata": {
    "scrolled": true
   },
   "outputs": [
    {
     "data": {
      "text/plain": [
       "['/scratch/back_up/reward_competition_extention/data/omission/2023_06_21/20230621_111240_standard_comp_to_omission_D5_subj_1-4_and_1-2.rec/20230621_111240_standard_comp_to_omission_D5_subj_1-4_and_1-2.2.videoTimeStamps.cameraHWSync',\n",
       " '/scratch/back_up/reward_competition_extention/data/omission/2023_06_21/20230621_111240_standard_comp_to_omission_D5_subj_1-4_and_1-2.rec/20230621_111240_standard_comp_to_omission_D5_subj_1-4_t3b3L_box1_merged.timestampoffset',\n",
       " '/scratch/back_up/reward_competition_extention/data/omission/2023_06_21/20230621_111240_standard_comp_to_omission_D5_subj_1-4_and_1-2.rec/20230621_111240_standard_comp_to_omission_D5_subj_1-4_t3b3L_box1_merged.trodesconf',\n",
       " '/scratch/back_up/reward_competition_extention/data/omission/2023_06_21/20230621_111240_standard_comp_to_omission_D5_subj_1-4_and_1-2.rec/20230621_111240_standard_comp_to_omission_D5_subj_1-4_and_1-2.rec',\n",
       " '/scratch/back_up/reward_competition_extention/data/omission/2023_06_21/20230621_111240_standard_comp_to_omission_D5_subj_1-4_and_1-2.rec/20230621_111240_standard_comp_to_omission_D5_subj_1-4_t3b3L_box1_merged.rec',\n",
       " '/scratch/back_up/reward_competition_extention/data/omission/2023_06_21/20230621_111240_standard_comp_to_omission_D5_subj_1-4_and_1-2.rec/20230621_111240_standard_comp_to_omission_D5_subj_1-4_and_1-2.1.videoTimeStamps',\n",
       " '/scratch/back_up/reward_competition_extention/data/omission/2023_06_21/20230621_111240_standard_comp_to_omission_D5_subj_1-4_and_1-2.rec/20230621_111240_standard_comp_to_omission_D5_subj_1-4_and_1-2.1.videoTimeStamps.cameraHWSync',\n",
       " '/scratch/back_up/reward_competition_extention/data/omission/2023_06_21/20230621_111240_standard_comp_to_omission_D5_subj_1-4_and_1-2.rec/20230621_111240_standard_comp_to_omission_D5_subj_1-4_and_1-2.1.trackgeometry',\n",
       " '/scratch/back_up/reward_competition_extention/data/omission/2023_06_21/20230621_111240_standard_comp_to_omission_D5_subj_1-4_and_1-2.rec/20230621_111240_standard_comp_to_omission_D5_subj_1-4_and_1-2.2.h264',\n",
       " '/scratch/back_up/reward_competition_extention/data/omission/2023_06_21/20230621_111240_standard_comp_to_omission_D5_subj_1-4_and_1-2.rec/logger_raw.dat',\n",
       " '/scratch/back_up/reward_competition_extention/data/omission/2023_06_21/20230621_111240_standard_comp_to_omission_D5_subj_1-4_and_1-2.rec/20230621_111240_standard_comp_to_omission_D5_subj_1-4_and_1-2.1.h264',\n",
       " '/scratch/back_up/reward_competition_extention/data/omission/2023_06_21/20230621_111240_standard_comp_to_omission_D5_subj_1-4_and_1-2.rec/20230621_111240_standard_comp_to_omission_D5_subj_1-4_t3b3L_box1_merged.raw',\n",
       " '/scratch/back_up/reward_competition_extention/data/omission/2023_06_21/20230621_111240_standard_comp_to_omission_D5_subj_1-4_and_1-2.rec/20230621_111240_standard_comp_to_omission_D5_subj_1-4_and_1-2.2.videoTimeStamps',\n",
       " '/scratch/back_up/reward_competition_extention/data/omission/2023_06_21/20230621_111240_standard_comp_to_omission_D5_subj_1-4_and_1-2.rec/20230621_111240_standard_comp_to_omission_D5_subj_1-4_t3b3L_box1_merged.analog',\n",
       " '/scratch/back_up/reward_competition_extention/data/omission/2023_06_21/20230621_111240_standard_comp_to_omission_D5_subj_1-4_and_1-2.rec/20230621_111240_standard_comp_to_omission_D5_subj_1-4_and_1-2.2.trackgeometry',\n",
       " '/scratch/back_up/reward_competition_extention/data/omission/2023_06_21/20230621_111240_standard_comp_to_omission_D5_subj_1-4_and_1-2.rec/20230621_111240_standard_comp_to_omission_D5_subj_1-4_t3b3L_box1_merged.DIO']"
      ]
     },
     "execution_count": 14,
     "metadata": {},
     "output_type": "execute_result"
    }
   ],
   "source": [
    "glob.glob(os.path.join(raw_data_file_path, \"*\"))"
   ]
  },
  {
   "cell_type": "markdown",
   "id": "158520cc",
   "metadata": {},
   "source": [
    "## Extracting the data and the metadata from the Recording folder"
   ]
  },
  {
   "cell_type": "markdown",
   "id": "435d16f3",
   "metadata": {},
   "source": [
    "- Creating a dictionary that has the directory as the key and a dictionary that has the file name as the key and the "
   ]
  },
  {
   "cell_type": "code",
   "execution_count": 15,
   "id": "4f287907",
   "metadata": {},
   "outputs": [
    {
     "name": "stdout",
     "output_type": "stream",
     "text": [
      "Skipping file 20230621_111240_standard_comp_to_omission_D5_subj_1-4_t3b3L_box1_merged.timestampoffset.txt due to error: Settings format not supported\n"
     ]
    },
    {
     "name": "stderr",
     "output_type": "stream",
     "text": [
      "/nancy/projects/reward_competition_extention/results/2023_08_01_tone_timestamp/../../src/trodes/read_exported.py:62: FutureWarning: Passing (type, 1) or '1type' as a synonym of type is deprecated; in a future version of numpy, it will be understood as (type, (1,)) / '(1,)type'.\n",
      "  return np.dtype(dtype_spec)\n"
     ]
    }
   ],
   "source": [
    "file_to_data = trodes.read_exported.organize_all_trodes_export(raw_data_file_path)"
   ]
  },
  {
   "cell_type": "markdown",
   "id": "60653a20",
   "metadata": {},
   "source": [
    "- All the folders that were extracted from"
   ]
  },
  {
   "cell_type": "code",
   "execution_count": 16,
   "id": "63573575",
   "metadata": {
    "scrolled": true
   },
   "outputs": [
    {
     "data": {
      "text/plain": [
       "dict_keys(['20230621_111240_standard_comp_to_omission_D5_subj_1-4_t3b3L_box1_merged'])"
      ]
     },
     "execution_count": 16,
     "metadata": {},
     "output_type": "execute_result"
    }
   ],
   "source": [
    "file_to_data.keys()"
   ]
  },
  {
   "cell_type": "code",
   "execution_count": 17,
   "id": "66c182b9-d5c7-4021-9d3d-715c37257d6c",
   "metadata": {},
   "outputs": [
    {
     "name": "stdout",
     "output_type": "stream",
     "text": [
      "20230621_111240_standard_comp_to_omission_D5_subj_1-4_t3b3L_box1_merged\n"
     ]
    }
   ],
   "source": [
    "for file_name in file_to_data.keys():\n",
    "    print(file_name)"
   ]
  },
  {
   "cell_type": "markdown",
   "id": "e6b6e27d",
   "metadata": {},
   "source": [
    "- Looking over all the extracted data"
   ]
  },
  {
   "cell_type": "code",
   "execution_count": 18,
   "id": "65329c58",
   "metadata": {},
   "outputs": [
    {
     "name": "stdout",
     "output_type": "stream",
     "text": [
      "Directory: 20230621_111240_standard_comp_to_omission_D5_subj_1-4_t3b3L_box1_merged\n",
      "\tFile Name: timestampoffset\n",
      "\tFile Name: raw\n",
      "\n",
      " \t \t Trodes Data Type: coordinates\n",
      "\t \t Python Type: <class 'dict'>\n",
      "\n",
      " \t \t Trodes Data Type: raw_group0\n",
      "\t \t Python Type: <class 'dict'>\n",
      "\n",
      " \t \t Trodes Data Type: timestamps\n",
      "\t \t Python Type: <class 'dict'>\n",
      "\tFile Name: analog\n",
      "\n",
      " \t \t Trodes Data Type: timestamps\n",
      "\t \t Python Type: <class 'dict'>\n",
      "\tFile Name: DIO\n",
      "\n",
      " \t \t Trodes Data Type: dio_ECU_Dout2\n",
      "\t \t Python Type: <class 'dict'>\n",
      "\n",
      " \t \t Trodes Data Type: dio_ECU_Dout3\n",
      "\t \t Python Type: <class 'dict'>\n",
      "\n",
      " \t \t Trodes Data Type: dio_ECU_Dout1\n",
      "\t \t Python Type: <class 'dict'>\n",
      "\n",
      " \t \t Trodes Data Type: dio_ECU_Din3\n",
      "\t \t Python Type: <class 'dict'>\n",
      "\n",
      " \t \t Trodes Data Type: dio_ECU_Din2\n",
      "\t \t Python Type: <class 'dict'>\n",
      "\n",
      " \t \t Trodes Data Type: dio_ECU_Din4\n",
      "\t \t Python Type: <class 'dict'>\n",
      "\n",
      " \t \t Trodes Data Type: dio_ECU_Din1\n",
      "\t \t Python Type: <class 'dict'>\n",
      "\n",
      " \t \t Trodes Data Type: dio_ECU_Dout4\n",
      "\t \t Python Type: <class 'dict'>\n"
     ]
    }
   ],
   "source": [
    "for key, value in file_to_data.items():\n",
    "    print(\"Directory: {}\".format(key))\n",
    "    for file_name, trodes_dict in value.items():\n",
    "        print(\"\\tFile Name: {}\".format(file_name))\n",
    "        for data_type, data_value in trodes_dict.items():\n",
    "            print(\"\\n \\t \\t Trodes Data Type: {}\".format(data_type))\n",
    "            print(\"\\t \\t Python Type: {}\".format(type(data_value)))\n",
    "            # print(\"\\t \\t Data Value: {}\".format(data_value))"
   ]
  },
  {
   "cell_type": "markdown",
   "id": "f44c4083",
   "metadata": {},
   "source": [
    "# Part 2: Looking over the data"
   ]
  },
  {
   "cell_type": "markdown",
   "id": "4813b680",
   "metadata": {},
   "source": [
    "## Looking over the ephys recording"
   ]
  },
  {
   "cell_type": "markdown",
   "id": "8a15e77c",
   "metadata": {},
   "source": [
    "- Getting the name of the ephys recording directory"
   ]
  },
  {
   "cell_type": "code",
   "execution_count": 19,
   "id": "ece6b84d-5036-4e13-a841-e59a1cdbbb8f",
   "metadata": {},
   "outputs": [],
   "source": [
    "subj_1_key = list(file_to_data.keys())[0]\n"
   ]
  },
  {
   "cell_type": "code",
   "execution_count": 20,
   "id": "0c51ca92-f98f-4669-b39d-84f01b46d900",
   "metadata": {},
   "outputs": [],
   "source": [
    "subj_2_key = list(file_to_data.keys())[-1]\n"
   ]
  },
  {
   "cell_type": "code",
   "execution_count": 21,
   "id": "ae2a3563",
   "metadata": {
    "scrolled": true
   },
   "outputs": [],
   "source": [
    "raw_directory_dict = file_to_data[subj_1_key][\"raw\"]"
   ]
  },
  {
   "cell_type": "markdown",
   "id": "41113794",
   "metadata": {},
   "source": [
    "- Getting the name of the files in the ephys recording directory"
   ]
  },
  {
   "cell_type": "code",
   "execution_count": 22,
   "id": "3dba9b7c",
   "metadata": {},
   "outputs": [
    {
     "data": {
      "text/plain": [
       "dict_keys(['coordinates', 'raw_group0', 'timestamps'])"
      ]
     },
     "execution_count": 22,
     "metadata": {},
     "output_type": "execute_result"
    }
   ],
   "source": [
    "raw_directory_dict.keys()"
   ]
  },
  {
   "cell_type": "code",
   "execution_count": 23,
   "id": "57f0fd1f",
   "metadata": {},
   "outputs": [],
   "source": [
    "raw_recording_fields_text = raw_directory_dict[\"raw_group0\"]"
   ]
  },
  {
   "cell_type": "code",
   "execution_count": 24,
   "id": "32c63bc8",
   "metadata": {},
   "outputs": [
    {
     "data": {
      "text/plain": [
       "{'description': 'Raw (unfiltered) data for one sorting group',\n",
       " 'byte_order': 'little endian',\n",
       " 'original_file': '20230621_111240_standard_comp_to_omission_D5_subj_1-4_t3b3L_box1_merged.rec',\n",
       " 'clockrate': '20000',\n",
       " 'trodes_version': '2.4.0',\n",
       " 'compile_date': 'May 24 2023',\n",
       " 'compile_time': '10:11:04',\n",
       " 'qt_version': '6.2.2',\n",
       " 'commit_tag': 'heads/Release_2.4.0-0-g1eecf3b7',\n",
       " 'controller_firmware': '3.17',\n",
       " 'headstage_firmware': '2.2',\n",
       " 'controller_serialnum': '00104 00176',\n",
       " 'headstage_serialnum': '01601 00133',\n",
       " 'autosettle': '0',\n",
       " 'smartref': '0',\n",
       " 'gyro': '0',\n",
       " 'accelerometer': '0',\n",
       " 'magnetometer': '0',\n",
       " 'time_offset': '0',\n",
       " 'system_time_at_creation': '1687360391526',\n",
       " 'timestamp_at_creation': '649971',\n",
       " 'first_timestamp': '3193044',\n",
       " 'sorting_group': '0',\n",
       " 'num_channels': '32',\n",
       " 'voltage_scaling': '0.195',\n",
       " 'fields': '<voltage 32*int16>',\n",
       " 'data': array([([ -88, -358, -506, -582, -440, -203, -492, -148, -309, -330, -254, -302, -273, -290, -174, -376, -233, -251, -719, -826, -673, -666, -793, -617, -582, -595, -592, -453, -307, -275,  294,   71],),\n",
       "        ([ -27, -363, -474, -585, -387, -184, -413, -179, -297, -329, -254, -203, -264, -310, -150, -247, -103, -258, -678, -810, -685, -665, -714, -631, -794, -648, -592, -464, -328, -322,  330,   40],),\n",
       "        ([ -33, -353, -492, -509, -276, -237, -405, -187, -208, -166, -167, -203, -154, -284,  -76, -307,  -90, -302, -644, -700, -647, -559, -708, -599, -880, -698, -522, -408, -350, -282,  342,   24],),\n",
       "        ...,\n",
       "        ([1068,  373,  419,  298,   22,  212,   96,   33,  -43,  -65,   51, -130,   82,  -94,  -44,   23,   17,  174,  -94,  145,   73,  -14,  134,   95,  173,  217,  394,  156,  160,  220,  717,  463],),\n",
       "        ([1194,  411,  456,  360,    0,  239,  268,   57,  -23,   61,  101,  -33,  146,  -54, -121,  107,   20,  212,   46,  175,  186,   61,  250,   89,  187,  327,  313,  170,  172,  302,  725,  449],),\n",
       "        ([1183,  405,  478,  471,   47,  227,  353,  145,   18,   29,  193,  -38,  170,   -4,  -42,  125,   65,  252,    3,  271,  231,   49,  260,  130,  157,  305,  207,  186,  152,  326,  890,  458],)],\n",
       "       dtype=[('voltage', '<i2', (32,))])}"
      ]
     },
     "execution_count": 24,
     "metadata": {},
     "output_type": "execute_result"
    }
   ],
   "source": [
    "raw_recording_fields_text"
   ]
  },
  {
   "cell_type": "markdown",
   "id": "81fcba19",
   "metadata": {},
   "source": [
    "- Array of Voltages for each channel"
   ]
  },
  {
   "cell_type": "code",
   "execution_count": 25,
   "id": "58e5e9a3",
   "metadata": {},
   "outputs": [],
   "source": [
    "voltage_value_array = raw_recording_fields_text[\"data\"]"
   ]
  },
  {
   "cell_type": "code",
   "execution_count": 26,
   "id": "0463b831",
   "metadata": {},
   "outputs": [
    {
     "data": {
      "text/plain": [
       "(69813178,)"
      ]
     },
     "execution_count": 26,
     "metadata": {},
     "output_type": "execute_result"
    }
   ],
   "source": [
    "voltage_value_array.shape"
   ]
  },
  {
   "cell_type": "code",
   "execution_count": 27,
   "id": "eafa5355",
   "metadata": {},
   "outputs": [
    {
     "data": {
      "text/plain": [
       "([ -88, -358, -506, -582, -440, -203, -492, -148, -309, -330, -254, -302, -273, -290, -174, -376, -233, -251, -719, -826, -673, -666, -793, -617, -582, -595, -592, -453, -307, -275,  294,   71],)"
      ]
     },
     "execution_count": 27,
     "metadata": {},
     "output_type": "execute_result"
    }
   ],
   "source": [
    "voltage_value_array[0]"
   ]
  },
  {
   "cell_type": "code",
   "execution_count": 28,
   "id": "65a2f80a",
   "metadata": {},
   "outputs": [
    {
     "data": {
      "text/plain": [
       "32"
      ]
     },
     "execution_count": 28,
     "metadata": {},
     "output_type": "execute_result"
    }
   ],
   "source": [
    "len(voltage_value_array[0][0])"
   ]
  },
  {
   "cell_type": "code",
   "execution_count": 29,
   "id": "223f5461",
   "metadata": {},
   "outputs": [
    {
     "data": {
      "text/plain": [
       "array([([  -88,  -358,  -506,  -582,  -440,  -203,  -492,  -148,  -309,  -330,  -254,  -302,  -273,  -290,  -174,  -376,  -233,  -251,  -719,  -826,  -673,  -666,  -793,  -617,  -582,  -595,  -592,  -453,  -307,  -275,   294,    71],),\n",
       "       ([  -27,  -363,  -474,  -585,  -387,  -184,  -413,  -179,  -297,  -329,  -254,  -203,  -264,  -310,  -150,  -247,  -103,  -258,  -678,  -810,  -685,  -665,  -714,  -631,  -794,  -648,  -592,  -464,  -328,  -322,   330,    40],),\n",
       "       ([  -33,  -353,  -492,  -509,  -276,  -237,  -405,  -187,  -208,  -166,  -167,  -203,  -154,  -284,   -76,  -307,   -90,  -302,  -644,  -700,  -647,  -559,  -708,  -599,  -880,  -698,  -522,  -408,  -350,  -282,   342,    24],),\n",
       "       ([  -25,  -410,  -514,  -444,  -272,  -217,  -386,  -209,  -188,  -177,  -169,   -65,     1,  -195,  -168,  -280,    -2,  -288,  -589,  -657,  -710,  -497,  -697,  -530, -1006,  -633,  -458,  -323,  -307,  -260,   341,    67],),\n",
       "       ([   18,  -502,  -516,  -407,  -298,  -161,  -381,  -247,  -211,  -261,  -173,   -37,    17,  -131,  -155,  -248,    87,  -269,  -508,  -525,  -876,  -433,  -589,  -433,  -933,  -617,  -418,  -153,  -227,  -212,   328,     4],)],\n",
       "      dtype=[('voltage', '<i2', (32,))])"
      ]
     },
     "execution_count": 29,
     "metadata": {},
     "output_type": "execute_result"
    }
   ],
   "source": [
    "voltage_value_array[:5]"
   ]
  },
  {
   "cell_type": "markdown",
   "id": "c0ff0c21",
   "metadata": {},
   "source": [
    "- Voltage Time Stamps"
   ]
  },
  {
   "cell_type": "code",
   "execution_count": 30,
   "id": "503a175c",
   "metadata": {},
   "outputs": [
    {
     "data": {
      "text/plain": [
       "dict_keys(['coordinates', 'raw_group0', 'timestamps'])"
      ]
     },
     "execution_count": 30,
     "metadata": {},
     "output_type": "execute_result"
    }
   ],
   "source": [
    "raw_directory_dict.keys()"
   ]
  },
  {
   "cell_type": "code",
   "execution_count": 31,
   "id": "c819a86b",
   "metadata": {},
   "outputs": [],
   "source": [
    "voltage_timestamp_array = raw_directory_dict[\"timestamps\"][\"data\"]"
   ]
  },
  {
   "cell_type": "code",
   "execution_count": 32,
   "id": "41e7e2e8",
   "metadata": {},
   "outputs": [
    {
     "data": {
      "text/plain": [
       "array([(3193044,), (3193045,), (3193046,), (3193047,), (3193048,)],\n",
       "      dtype=[('time', '<u4')])"
      ]
     },
     "execution_count": 32,
     "metadata": {},
     "output_type": "execute_result"
    }
   ],
   "source": [
    "voltage_timestamp_array[:5]"
   ]
  },
  {
   "cell_type": "code",
   "execution_count": 33,
   "id": "c7a6994f",
   "metadata": {},
   "outputs": [
    {
     "data": {
      "text/plain": [
       "array([(73006217,), (73006218,), (73006219,), (73006220,), (73006221,)],\n",
       "      dtype=[('time', '<u4')])"
      ]
     },
     "execution_count": 33,
     "metadata": {},
     "output_type": "execute_result"
    }
   ],
   "source": [
    "voltage_timestamp_array[-5:]"
   ]
  },
  {
   "cell_type": "code",
   "execution_count": 34,
   "id": "f3e85b94",
   "metadata": {},
   "outputs": [
    {
     "data": {
      "text/plain": [
       "(69813178,)"
      ]
     },
     "execution_count": 34,
     "metadata": {},
     "output_type": "execute_result"
    }
   ],
   "source": [
    "voltage_timestamp_array.shape"
   ]
  },
  {
   "cell_type": "markdown",
   "id": "b522864c",
   "metadata": {},
   "source": [
    "- Converting the array to integers to be able to do calculations"
   ]
  },
  {
   "cell_type": "markdown",
   "id": "95765eb5",
   "metadata": {},
   "source": [
    "    - u4 and i2 explanation: https://www.geeksforgeeks.org/data-type-object-dtype-numpy-python/"
   ]
  },
  {
   "cell_type": "code",
   "execution_count": 35,
   "id": "db4a1243",
   "metadata": {},
   "outputs": [],
   "source": [
    "voltage_timestamp_array = voltage_timestamp_array.astype(int)"
   ]
  },
  {
   "cell_type": "code",
   "execution_count": 36,
   "id": "ccb6b4c1",
   "metadata": {},
   "outputs": [
    {
     "data": {
      "text/plain": [
       "array([3193044, 3193045, 3193046, 3193047, 3193048])"
      ]
     },
     "execution_count": 36,
     "metadata": {},
     "output_type": "execute_result"
    }
   ],
   "source": [
    "voltage_timestamp_array[:5]"
   ]
  },
  {
   "cell_type": "code",
   "execution_count": 37,
   "id": "8a015c1a",
   "metadata": {},
   "outputs": [
    {
     "data": {
      "text/plain": [
       "array([73006217, 73006218, 73006219, 73006220, 73006221])"
      ]
     },
     "execution_count": 37,
     "metadata": {},
     "output_type": "execute_result"
    }
   ],
   "source": [
    "voltage_timestamp_array[-5:]"
   ]
  },
  {
   "cell_type": "code",
   "execution_count": 38,
   "id": "1a7e86db",
   "metadata": {},
   "outputs": [
    {
     "data": {
      "text/plain": [
       "(69813178,)"
      ]
     },
     "execution_count": 38,
     "metadata": {},
     "output_type": "execute_result"
    }
   ],
   "source": [
    "voltage_timestamp_array.shape"
   ]
  },
  {
   "cell_type": "markdown",
   "id": "40304e47",
   "metadata": {},
   "source": [
    "# Part 3: Converting everything into timestamps"
   ]
  },
  {
   "cell_type": "markdown",
   "id": "8a0d9309",
   "metadata": {},
   "source": [
    "## Voltage to timestamp"
   ]
  },
  {
   "cell_type": "markdown",
   "id": "8ad248a4",
   "metadata": {},
   "source": [
    "- Use the matching index to convert between the voltage time stamp and the recording"
   ]
  },
  {
   "cell_type": "code",
   "execution_count": 39,
   "id": "99fb3531",
   "metadata": {},
   "outputs": [],
   "source": [
    "voltage_index = 0"
   ]
  },
  {
   "cell_type": "code",
   "execution_count": 40,
   "id": "e56cf0c6",
   "metadata": {},
   "outputs": [
    {
     "data": {
      "text/plain": [
       "([ -88, -358, -506, -582, -440, -203, -492, -148, -309, -330, -254, -302, -273, -290, -174, -376, -233, -251, -719, -826, -673, -666, -793, -617, -582, -595, -592, -453, -307, -275,  294,   71],)"
      ]
     },
     "execution_count": 40,
     "metadata": {},
     "output_type": "execute_result"
    }
   ],
   "source": [
    "voltage_value_array[voltage_index]"
   ]
  },
  {
   "cell_type": "markdown",
   "id": "88d6e29c",
   "metadata": {},
   "source": [
    "- Getting the associated timestamp of the ephys recording"
   ]
  },
  {
   "cell_type": "code",
   "execution_count": 41,
   "id": "785625cb",
   "metadata": {},
   "outputs": [
    {
     "data": {
      "text/plain": [
       "array([3193044, 3193045, 3193046, 3193047, 3193048])"
      ]
     },
     "execution_count": 41,
     "metadata": {},
     "output_type": "execute_result"
    }
   ],
   "source": [
    "voltage_timestamp_array[:5]"
   ]
  },
  {
   "cell_type": "code",
   "execution_count": 42,
   "id": "db1c32d6",
   "metadata": {},
   "outputs": [
    {
     "data": {
      "text/plain": [
       "array([73006217, 73006218, 73006219, 73006220, 73006221])"
      ]
     },
     "execution_count": 42,
     "metadata": {},
     "output_type": "execute_result"
    }
   ],
   "source": [
    "voltage_timestamp_array[-5:]"
   ]
  },
  {
   "cell_type": "code",
   "execution_count": 43,
   "id": "fd9af58a",
   "metadata": {},
   "outputs": [],
   "source": [
    "voltage_time_stamp = voltage_timestamp_array[voltage_index]"
   ]
  },
  {
   "cell_type": "code",
   "execution_count": 44,
   "id": "27bc4a59",
   "metadata": {},
   "outputs": [
    {
     "data": {
      "text/plain": [
       "3193044"
      ]
     },
     "execution_count": 44,
     "metadata": {},
     "output_type": "execute_result"
    }
   ],
   "source": [
    "voltage_time_stamp"
   ]
  },
  {
   "cell_type": "markdown",
   "id": "a11d9dae",
   "metadata": {},
   "source": [
    "# Part 4: Converting from timestamps back to everything"
   ]
  },
  {
   "cell_type": "code",
   "execution_count": 45,
   "id": "658bb7bd",
   "metadata": {},
   "outputs": [],
   "source": [
    "def timestamp_to_index(current_ts, ts_array):\n",
    "    \"\"\"\n",
    "    \"\"\"\n",
    "    return np.argwhere(ts_array >= current_ts)[0][0]"
   ]
  },
  {
   "cell_type": "markdown",
   "id": "253b9966",
   "metadata": {},
   "source": [
    "## Time stamp to Voltage Value"
   ]
  },
  {
   "cell_type": "code",
   "execution_count": 46,
   "id": "7643caae",
   "metadata": {
    "scrolled": true
   },
   "outputs": [
    {
     "data": {
      "text/plain": [
       "array([ 3193044,  3193045,  3193046, ..., 73006219, 73006220, 73006221])"
      ]
     },
     "execution_count": 46,
     "metadata": {},
     "output_type": "execute_result"
    }
   ],
   "source": [
    "voltage_timestamp_array"
   ]
  },
  {
   "cell_type": "code",
   "execution_count": 47,
   "id": "e6bd1de7",
   "metadata": {},
   "outputs": [
    {
     "data": {
      "text/plain": [
       "3193044"
      ]
     },
     "execution_count": 47,
     "metadata": {},
     "output_type": "execute_result"
    }
   ],
   "source": [
    "voltage_timestamp_array[0]"
   ]
  },
  {
   "cell_type": "markdown",
   "id": "3d8baa27",
   "metadata": {},
   "source": [
    "- Getting the index of the closest timestamp "
   ]
  },
  {
   "cell_type": "code",
   "execution_count": 48,
   "id": "7fc3a453",
   "metadata": {},
   "outputs": [],
   "source": [
    "random_voltage_index = timestamp_to_index(current_ts=voltage_timestamp_array[0], ts_array=voltage_timestamp_array)"
   ]
  },
  {
   "cell_type": "code",
   "execution_count": 49,
   "id": "54a59712",
   "metadata": {},
   "outputs": [
    {
     "data": {
      "text/plain": [
       "0"
      ]
     },
     "execution_count": 49,
     "metadata": {},
     "output_type": "execute_result"
    }
   ],
   "source": [
    "random_voltage_index"
   ]
  },
  {
   "cell_type": "markdown",
   "id": "eee88278",
   "metadata": {},
   "source": [
    "- Checking if it matches to the original timestamp\n",
    "    - Should be the same, because the sampling rate of the timestamps are based on the ephys recording"
   ]
  },
  {
   "cell_type": "code",
   "execution_count": 50,
   "id": "1822441f",
   "metadata": {
    "scrolled": true
   },
   "outputs": [
    {
     "data": {
      "text/plain": [
       "3193044"
      ]
     },
     "execution_count": 50,
     "metadata": {},
     "output_type": "execute_result"
    }
   ],
   "source": [
    "voltage_timestamp_array[random_voltage_index]"
   ]
  },
  {
   "cell_type": "markdown",
   "id": "d1b237a1",
   "metadata": {},
   "source": [
    "- Getting the voltage value based on the index"
   ]
  },
  {
   "cell_type": "code",
   "execution_count": 51,
   "id": "77c53752",
   "metadata": {},
   "outputs": [
    {
     "data": {
      "text/plain": [
       "([ -88, -358, -506, -582, -440, -203, -492, -148, -309, -330, -254, -302, -273, -290, -174, -376, -233, -251, -719, -826, -673, -666, -793, -617, -582, -595, -592, -453, -307, -275,  294,   71],)"
      ]
     },
     "execution_count": 51,
     "metadata": {},
     "output_type": "execute_result"
    }
   ],
   "source": [
    "voltage_value_array[random_voltage_index]"
   ]
  },
  {
   "cell_type": "markdown",
   "id": "5c11546c",
   "metadata": {},
   "source": [
    "# ADDED AFTER"
   ]
  },
  {
   "cell_type": "markdown",
   "id": "c1ce31fe",
   "metadata": {},
   "source": [
    "# Part 4: Syncing everything based on timestamps"
   ]
  },
  {
   "cell_type": "markdown",
   "id": "158f7745",
   "metadata": {},
   "source": [
    "# Syncing with MED-PC"
   ]
  },
  {
   "cell_type": "markdown",
   "id": "018567ac",
   "metadata": {},
   "source": [
    "## Looking over the MED-PC Data"
   ]
  },
  {
   "cell_type": "markdown",
   "id": "8d308f54",
   "metadata": {},
   "source": [
    "- Box 1 Port Entries\n",
    "    - ECU Din3\n",
    "- Box 2 Port Entries\n",
    "    - Controller Din1\n",
    "- Box 1 Tone playing\n",
    "    - ECU Din1"
   ]
  },
  {
   "cell_type": "markdown",
   "id": "9b056dae",
   "metadata": {},
   "source": [
    "### Tone Onset Signal"
   ]
  },
  {
   "cell_type": "code",
   "execution_count": 52,
   "id": "abe63689",
   "metadata": {},
   "outputs": [],
   "source": [
    "tone_onset_DIN_state_array = file_to_data[subj_1_key][\"DIO\"][\"dio_ECU_Din1\"][\"data\"]"
   ]
  },
  {
   "cell_type": "code",
   "execution_count": 53,
   "id": "50404e96",
   "metadata": {},
   "outputs": [
    {
     "data": {
      "text/plain": [
       "array([( 3193044, 0), ( 3671086, 1), ( 4480697, 0), ( 5681112, 1),\n",
       "       ( 5881117, 0), ( 8081141, 1), ( 8281144, 0), (10381173, 1),\n",
       "       (10581177, 0), (12181192, 1), (12381197, 0), (13281209, 1),\n",
       "       (13481208, 0), (14281218, 1), (14481223, 0), (16181241, 1),\n",
       "       (16381246, 0), (17681260, 1), (17881262, 0), (19781285, 1),\n",
       "       (19981288, 0), (20781300, 1), (20981302, 0), (22381319, 1),\n",
       "       (22581322, 0), (23681333, 1), (23881335, 0), (24981351, 1),\n",
       "       (25181353, 0), (25981363, 1), (26181363, 0), (27381378, 1),\n",
       "       (27581382, 0), (29281401, 1), (29481405, 0), (30881425, 1),\n",
       "       (31081422, 0), (32281440, 1), (32481442, 0), (34481464, 1),\n",
       "       (34681466, 0), (35681479, 1), (35881481, 0), (41681554, 1),\n",
       "       (41881556, 0), (42881571, 1), (43081568, 0), (43981579, 1),\n",
       "       (44181582, 0), (45281597, 1), (45481597, 0), (46381608, 1),\n",
       "       (46581611, 0), (47381620, 1), (47581625, 0), (48381635, 1),\n",
       "       (48581635, 0), (50481658, 1), (50681661, 0), (52881690, 1),\n",
       "       (53081690, 0), (55281716, 1), (55481721, 0), (57481743, 1),\n",
       "       (57681745, 0), (59181764, 1), (59381769, 0), (61581798, 1),\n",
       "       (61781798, 0), (62781807, 1), (62981813, 0), (64081824, 1),\n",
       "       (64281831, 0), (65281838, 1), (65481843, 0), (66781856, 1),\n",
       "       (66981858, 0), (68781880, 1), (68981883, 0), (70681909, 1),\n",
       "       (70881906, 0), (71681918, 1), (71881923, 0)],\n",
       "      dtype=[('time', '<u4'), ('state', 'u1')])"
      ]
     },
     "execution_count": 53,
     "metadata": {},
     "output_type": "execute_result"
    }
   ],
   "source": [
    "tone_onset_DIN_state_array"
   ]
  },
  {
   "cell_type": "code",
   "execution_count": 54,
   "id": "d9ccbe84-987f-4c9a-b220-0f69b88049fc",
   "metadata": {},
   "outputs": [
    {
     "data": {
      "text/plain": [
       "83"
      ]
     },
     "execution_count": 54,
     "metadata": {},
     "output_type": "execute_result"
    }
   ],
   "source": [
    "len(tone_onset_DIN_state_array)"
   ]
  },
  {
   "cell_type": "code",
   "execution_count": 55,
   "id": "e710ff42",
   "metadata": {},
   "outputs": [
    {
     "data": {
      "text/plain": [
       "(array([42.,  0.,  0.,  0.,  0.,  0.,  0.,  0.,  0., 41.]),\n",
       " array([0. , 0.1, 0.2, 0.3, 0.4, 0.5, 0.6, 0.7, 0.8, 0.9, 1. ]),\n",
       " <BarContainer object of 10 artists>)"
      ]
     },
     "execution_count": 55,
     "metadata": {},
     "output_type": "execute_result"
    },
    {
     "data": {
      "image/png": "[encoded data removed]",
      "text/plain": [
       "<Figure size 640x480 with 1 Axes>"
      ]
     },
     "metadata": {},
     "output_type": "display_data"
    }
   ],
   "source": [
    "plt.hist([tup[1] for tup in tone_onset_DIN_state_array])"
   ]
  },
  {
   "cell_type": "code",
   "execution_count": 56,
   "id": "b3f107d4",
   "metadata": {},
   "outputs": [
    {
     "data": {
      "text/plain": [
       "Text(0.5, 1.0, 'Din State Change against Timestamps')"
      ]
     },
     "execution_count": 56,
     "metadata": {},
     "output_type": "execute_result"
    },
    {
     "data": {
      "image/png": "[encoded data removed]",
      "text/plain": [
       "<Figure size 640x480 with 1 Axes>"
      ]
     },
     "metadata": {},
     "output_type": "display_data"
    }
   ],
   "source": [
    "plt.plot([tup[0] for tup in tone_onset_DIN_state_array], [tup[1] for tup in tone_onset_DIN_state_array])\n",
    "plt.xlabel(\"Timestamp\")\n",
    "plt.ylabel(\"State\")\n",
    "plt.title(\"Din State Change against Timestamps\")"
   ]
  },
  {
   "cell_type": "markdown",
   "id": "6e212a6d",
   "metadata": {},
   "source": [
    "### Box 1 Port Entries"
   ]
  },
  {
   "cell_type": "code",
   "execution_count": 57,
   "id": "fee4fa1b",
   "metadata": {},
   "outputs": [],
   "source": [
    "box1_port_entries_DIN_state_array = file_to_data[subj_1_key][\"DIO\"][\"dio_ECU_Din2\"][\"data\"]"
   ]
  },
  {
   "cell_type": "code",
   "execution_count": 58,
   "id": "9c7c1288",
   "metadata": {},
   "outputs": [
    {
     "data": {
      "text/plain": [
       "array([( 3193044, 0), ( 3416082, 1), ( 3443283, 0), ..., (72228322, 0),\n",
       "       (72498728, 1), (72514326, 0)],\n",
       "      dtype=[('time', '<u4'), ('state', 'u1')])"
      ]
     },
     "execution_count": 58,
     "metadata": {},
     "output_type": "execute_result"
    }
   ],
   "source": [
    "box1_port_entries_DIN_state_array"
   ]
  },
  {
   "cell_type": "code",
   "execution_count": 59,
   "id": "ce8d65cf",
   "metadata": {},
   "outputs": [
    {
     "data": {
      "text/plain": [
       "(array([940.,   0.,   0.,   0.,   0.,   0.,   0.,   0.,   0., 939.]),\n",
       " array([0. , 0.1, 0.2, 0.3, 0.4, 0.5, 0.6, 0.7, 0.8, 0.9, 1. ]),\n",
       " <BarContainer object of 10 artists>)"
      ]
     },
     "execution_count": 59,
     "metadata": {},
     "output_type": "execute_result"
    },
    {
     "data": {
      "image/png": "[encoded data removed]",
      "text/plain": [
       "<Figure size 640x480 with 1 Axes>"
      ]
     },
     "metadata": {},
     "output_type": "display_data"
    }
   ],
   "source": [
    "plt.hist([tup[1] for tup in box1_port_entries_DIN_state_array])"
   ]
  },
  {
   "cell_type": "markdown",
   "id": "8a947d1b",
   "metadata": {},
   "source": [
    "- There is a gap in the middle when the protocol was being changed between competition or omission"
   ]
  },
  {
   "cell_type": "code",
   "execution_count": 60,
   "id": "34b724d3",
   "metadata": {
    "scrolled": true
   },
   "outputs": [
    {
     "data": {
      "text/plain": [
       "Text(0.5, 1.0, 'Din State Change against Timestamps')"
      ]
     },
     "execution_count": 60,
     "metadata": {},
     "output_type": "execute_result"
    },
    {
     "data": {
      "image/png": "[encoded data removed]",
      "text/plain": [
       "<Figure size 640x480 with 1 Axes>"
      ]
     },
     "metadata": {},
     "output_type": "display_data"
    }
   ],
   "source": [
    "plt.plot([tup[0] for tup in box1_port_entries_DIN_state_array], [tup[1] for tup in box1_port_entries_DIN_state_array])\n",
    "plt.xlabel(\"Timestamp\")\n",
    "plt.ylabel(\"State\")\n",
    "plt.title(\"Din State Change against Timestamps\")"
   ]
  },
  {
   "cell_type": "markdown",
   "id": "b7b0e53b",
   "metadata": {},
   "source": [
    "### Box 2 Port Entries"
   ]
  },
  {
   "cell_type": "code",
   "execution_count": 61,
   "id": "177fbc6a",
   "metadata": {},
   "outputs": [],
   "source": [
    "box2_port_entries_DIN_state_array = file_to_data[subj_1_key][\"DIO\"][\"dio_ECU_Din3\"][\"data\"]"
   ]
  },
  {
   "cell_type": "code",
   "execution_count": 62,
   "id": "1f20a231",
   "metadata": {},
   "outputs": [
    {
     "data": {
      "text/plain": [
       "(array([235.,   0.,   0.,   0.,   0.,   0.,   0.,   0.,   0., 234.]),\n",
       " array([0. , 0.1, 0.2, 0.3, 0.4, 0.5, 0.6, 0.7, 0.8, 0.9, 1. ]),\n",
       " <BarContainer object of 10 artists>)"
      ]
     },
     "execution_count": 62,
     "metadata": {},
     "output_type": "execute_result"
    },
    {
     "data": {
      "image/png": "[encoded data removed]",
      "text/plain": [
       "<Figure size 640x480 with 1 Axes>"
      ]
     },
     "metadata": {},
     "output_type": "display_data"
    }
   ],
   "source": [
    "plt.hist([tup[1] for tup in box2_port_entries_DIN_state_array])"
   ]
  },
  {
   "cell_type": "markdown",
   "id": "9459dcea",
   "metadata": {},
   "source": [
    "- This is half the time than the previous port entries, because the mouse was moved to box 1 for half of the session"
   ]
  },
  {
   "cell_type": "code",
   "execution_count": 63,
   "id": "961e32ac",
   "metadata": {
    "scrolled": true
   },
   "outputs": [
    {
     "data": {
      "text/plain": [
       "Text(0.5, 1.0, 'Din State Change against Timestamps')"
      ]
     },
     "execution_count": 63,
     "metadata": {},
     "output_type": "execute_result"
    },
    {
     "data": {
      "image/png": "[encoded data removed]",
      "text/plain": [
       "<Figure size 640x480 with 1 Axes>"
      ]
     },
     "metadata": {},
     "output_type": "display_data"
    }
   ],
   "source": [
    "plt.plot([tup[0] for tup in box2_port_entries_DIN_state_array], [tup[1] for tup in box2_port_entries_DIN_state_array])\n",
    "plt.xlabel(\"Timestamp\")\n",
    "plt.ylabel(\"State\")\n",
    "plt.title(\"Din State Change against Timestamps\")"
   ]
  },
  {
   "cell_type": "markdown",
   "id": "6758ace5",
   "metadata": {},
   "source": [
    "## Labeling the Tone and Port Entries"
   ]
  },
  {
   "cell_type": "markdown",
   "id": "0a8d06dc",
   "metadata": {},
   "source": [
    "# Syncing with MED-PC"
   ]
  },
  {
   "cell_type": "markdown",
   "id": "61c05c87",
   "metadata": {},
   "source": [
    "- List of when the ECU has changed signal. 1 means that the ECU Din1 signal is on, 0 means it's off."
   ]
  },
  {
   "cell_type": "code",
   "execution_count": 64,
   "id": "d4a7dc67",
   "metadata": {},
   "outputs": [
    {
     "data": {
      "text/plain": [
       "array([( 3193044, 0), ( 3671086, 1), ( 4480697, 0), ( 5681112, 1),\n",
       "       ( 5881117, 0), ( 8081141, 1), ( 8281144, 0), (10381173, 1),\n",
       "       (10581177, 0), (12181192, 1), (12381197, 0), (13281209, 1),\n",
       "       (13481208, 0), (14281218, 1), (14481223, 0), (16181241, 1),\n",
       "       (16381246, 0), (17681260, 1), (17881262, 0), (19781285, 1),\n",
       "       (19981288, 0), (20781300, 1), (20981302, 0), (22381319, 1),\n",
       "       (22581322, 0), (23681333, 1), (23881335, 0), (24981351, 1),\n",
       "       (25181353, 0), (25981363, 1), (26181363, 0), (27381378, 1),\n",
       "       (27581382, 0), (29281401, 1), (29481405, 0), (30881425, 1),\n",
       "       (31081422, 0), (32281440, 1), (32481442, 0), (34481464, 1),\n",
       "       (34681466, 0), (35681479, 1), (35881481, 0), (41681554, 1),\n",
       "       (41881556, 0), (42881571, 1), (43081568, 0), (43981579, 1),\n",
       "       (44181582, 0), (45281597, 1), (45481597, 0), (46381608, 1),\n",
       "       (46581611, 0), (47381620, 1), (47581625, 0), (48381635, 1),\n",
       "       (48581635, 0), (50481658, 1), (50681661, 0), (52881690, 1),\n",
       "       (53081690, 0), (55281716, 1), (55481721, 0), (57481743, 1),\n",
       "       (57681745, 0), (59181764, 1), (59381769, 0), (61581798, 1),\n",
       "       (61781798, 0), (62781807, 1), (62981813, 0), (64081824, 1),\n",
       "       (64281831, 0), (65281838, 1), (65481843, 0), (66781856, 1),\n",
       "       (66981858, 0), (68781880, 1), (68981883, 0), (70681909, 1),\n",
       "       (70881906, 0), (71681918, 1), (71881923, 0)],\n",
       "      dtype=[('time', '<u4'), ('state', 'u1')])"
      ]
     },
     "execution_count": 64,
     "metadata": {},
     "output_type": "execute_result"
    }
   ],
   "source": [
    "tone_onset_DIN_state_array"
   ]
  },
  {
   "cell_type": "code",
   "execution_count": 65,
   "id": "b46e976a-997a-412d-be9f-2612c8046017",
   "metadata": {},
   "outputs": [
    {
     "data": {
      "text/plain": [
       "array([( 3193044, 0), ( 3671086, 1), ( 4480697, 0), ( 5681112, 1),\n",
       "       ( 5881117, 0), ( 8081141, 1), ( 8281144, 0), (10381173, 1),\n",
       "       (10581177, 0), (12181192, 1), (12381197, 0), (13281209, 1),\n",
       "       (13481208, 0), (14281218, 1), (14481223, 0), (16181241, 1),\n",
       "       (16381246, 0), (17681260, 1), (17881262, 0), (19781285, 1),\n",
       "       (19981288, 0), (20781300, 1), (20981302, 0), (22381319, 1),\n",
       "       (22581322, 0), (23681333, 1), (23881335, 0), (24981351, 1),\n",
       "       (25181353, 0), (25981363, 1), (26181363, 0), (27381378, 1),\n",
       "       (27581382, 0), (29281401, 1), (29481405, 0), (30881425, 1),\n",
       "       (31081422, 0), (32281440, 1), (32481442, 0), (34481464, 1)],\n",
       "      dtype=[('time', '<u4'), ('state', 'u1')])"
      ]
     },
     "execution_count": 65,
     "metadata": {},
     "output_type": "execute_result"
    }
   ],
   "source": [
    "tone_onset_DIN_state_array[:40]"
   ]
  },
  {
   "cell_type": "code",
   "execution_count": 66,
   "id": "7df1be2d-9e22-401a-b6f3-7a36ebfc8dbe",
   "metadata": {},
   "outputs": [
    {
     "data": {
      "text/plain": [
       "360"
      ]
     },
     "execution_count": 66,
     "metadata": {},
     "output_type": "execute_result"
    }
   ],
   "source": [
    "(3560136-voltage_timestamp_array[0])//20000*20"
   ]
  },
  {
   "cell_type": "markdown",
   "id": "1f526f4a",
   "metadata": {},
   "source": [
    "- Checking to see if 1 or 0 is when the tone plays\n",
    "    - Dividing by 20000, because we are recording at a sampling rate at 20000"
   ]
  },
  {
   "cell_type": "code",
   "execution_count": 67,
   "id": "dde749ec",
   "metadata": {},
   "outputs": [
    {
     "data": {
      "text/plain": [
       "3193044"
      ]
     },
     "execution_count": 67,
     "metadata": {},
     "output_type": "execute_result"
    }
   ],
   "source": [
    "tone_onset_DIN_state_array[0][0]"
   ]
  },
  {
   "cell_type": "code",
   "execution_count": 68,
   "id": "55ed04ba",
   "metadata": {},
   "outputs": [
    {
     "data": {
      "text/plain": [
       "0"
      ]
     },
     "execution_count": 68,
     "metadata": {},
     "output_type": "execute_result"
    }
   ],
   "source": [
    "tone_onset_DIN_state_array[0][1]"
   ]
  },
  {
   "cell_type": "code",
   "execution_count": 69,
   "id": "d4a6bab6",
   "metadata": {},
   "outputs": [
    {
     "data": {
      "text/plain": [
       "3671086"
      ]
     },
     "execution_count": 69,
     "metadata": {},
     "output_type": "execute_result"
    }
   ],
   "source": [
    "tone_onset_DIN_state_array[1][0]"
   ]
  },
  {
   "cell_type": "code",
   "execution_count": 70,
   "id": "272fd90e",
   "metadata": {},
   "outputs": [
    {
     "data": {
      "text/plain": [
       "1"
      ]
     },
     "execution_count": 70,
     "metadata": {},
     "output_type": "execute_result"
    }
   ],
   "source": [
    "tone_onset_DIN_state_array[1][1]"
   ]
  },
  {
   "cell_type": "code",
   "execution_count": 71,
   "id": "2cd56556",
   "metadata": {},
   "outputs": [
    {
     "data": {
      "text/plain": [
       "4480697"
      ]
     },
     "execution_count": 71,
     "metadata": {},
     "output_type": "execute_result"
    }
   ],
   "source": [
    "tone_onset_DIN_state_array[2][0]"
   ]
  },
  {
   "cell_type": "code",
   "execution_count": 72,
   "id": "b1bf3ee1",
   "metadata": {},
   "outputs": [
    {
     "data": {
      "text/plain": [
       "0"
      ]
     },
     "execution_count": 72,
     "metadata": {},
     "output_type": "execute_result"
    }
   ],
   "source": [
    "tone_onset_DIN_state_array[2][1]"
   ]
  },
  {
   "cell_type": "markdown",
   "id": "d00413be",
   "metadata": {},
   "source": [
    "- So the tone starts when the state is \"1\"\n",
    "    - This can be seen because the time from 1 to 0 is less than 60 seconds"
   ]
  },
  {
   "cell_type": "code",
   "execution_count": 73,
   "id": "48e38b9b",
   "metadata": {},
   "outputs": [],
   "source": [
    "first_delay = (tone_onset_DIN_state_array[1][0] - tone_onset_DIN_state_array[0][0]) / 20000"
   ]
  },
  {
   "cell_type": "code",
   "execution_count": 74,
   "id": "7b6235ff",
   "metadata": {},
   "outputs": [
    {
     "data": {
      "text/plain": [
       "23.9021"
      ]
     },
     "execution_count": 74,
     "metadata": {},
     "output_type": "execute_result"
    }
   ],
   "source": [
    "first_delay"
   ]
  },
  {
   "cell_type": "markdown",
   "id": "1de5c448",
   "metadata": {},
   "source": [
    "- Time difference for on >>> off"
   ]
  },
  {
   "cell_type": "code",
   "execution_count": 75,
   "id": "6795075d",
   "metadata": {},
   "outputs": [
    {
     "data": {
      "text/plain": [
       "60.02075"
      ]
     },
     "execution_count": 75,
     "metadata": {},
     "output_type": "execute_result"
    }
   ],
   "source": [
    "(tone_onset_DIN_state_array[3][0] - tone_onset_DIN_state_array[2][0]) / 20000"
   ]
  },
  {
   "cell_type": "markdown",
   "id": "4d42f97b",
   "metadata": {},
   "source": [
    "- So the tone starts when the state is \"2\"\n",
    "    - This can be seen because the time from 0 to 1 is 60 seconds, the time for one session"
   ]
  },
  {
   "cell_type": "code",
   "execution_count": 76,
   "id": "fec03959",
   "metadata": {},
   "outputs": [
    {
     "data": {
      "text/plain": [
       "40.48055"
      ]
     },
     "execution_count": 76,
     "metadata": {},
     "output_type": "execute_result"
    }
   ],
   "source": [
    "(tone_onset_DIN_state_array[2][0] - tone_onset_DIN_state_array[1][0]) / 20000"
   ]
  },
  {
   "cell_type": "markdown",
   "id": "0eafb664",
   "metadata": {},
   "source": [
    "- Getting only the times when the ECU signal was on"
   ]
  },
  {
   "cell_type": "code",
   "execution_count": 77,
   "id": "d2c4e485",
   "metadata": {},
   "outputs": [],
   "source": [
    "tone_din_time = [din_time for din_time, din_state in tone_onset_DIN_state_array if din_state == 1]"
   ]
  },
  {
   "cell_type": "code",
   "execution_count": 78,
   "id": "9124a2fd",
   "metadata": {},
   "outputs": [
    {
     "data": {
      "text/plain": [
       "41"
      ]
     },
     "execution_count": 78,
     "metadata": {},
     "output_type": "execute_result"
    }
   ],
   "source": [
    "len(tone_din_time)"
   ]
  },
  {
   "cell_type": "code",
   "execution_count": 79,
   "id": "7acea383",
   "metadata": {},
   "outputs": [
    {
     "data": {
      "text/plain": [
       "[3671086,\n",
       " 5681112,\n",
       " 8081141,\n",
       " 10381173,\n",
       " 12181192,\n",
       " 13281209,\n",
       " 14281218,\n",
       " 16181241,\n",
       " 17681260,\n",
       " 19781285]"
      ]
     },
     "execution_count": 79,
     "metadata": {},
     "output_type": "execute_result"
    }
   ],
   "source": [
    "tone_din_time[:10]"
   ]
  },
  {
   "cell_type": "code",
   "execution_count": 80,
   "id": "f5cafebb-0fea-47e6-986c-b1b9c08877ae",
   "metadata": {},
   "outputs": [
    {
     "data": {
      "text/plain": [
       "1080"
      ]
     },
     "execution_count": 80,
     "metadata": {},
     "output_type": "execute_result"
    }
   ],
   "source": [
    "1099250 // 20000 *20"
   ]
  },
  {
   "cell_type": "code",
   "execution_count": 81,
   "id": "606ffb9e-ee8c-4691-aac5-b99fb4c609b1",
   "metadata": {},
   "outputs": [
    {
     "data": {
      "text/plain": [
       "3480"
      ]
     },
     "execution_count": 81,
     "metadata": {},
     "output_type": "execute_result"
    }
   ],
   "source": [
    "3499256 // 20000 *20"
   ]
  },
  {
   "cell_type": "code",
   "execution_count": 82,
   "id": "a5e62343-3bad-4811-bfb3-05b836e54e1b",
   "metadata": {},
   "outputs": [
    {
     "data": {
      "text/plain": [
       "[5490,\n",
       " 8520,\n",
       " 12120,\n",
       " 15570,\n",
       " 18270,\n",
       " 19920,\n",
       " 21420,\n",
       " 24270,\n",
       " 26520,\n",
       " 29670,\n",
       " 31170,\n",
       " 33570,\n",
       " 35520,\n",
       " 37470,\n",
       " 38970,\n",
       " 41070,\n",
       " 43920,\n",
       " 46320,\n",
       " 48420,\n",
       " 51720,\n",
       " 53520,\n",
       " 62520,\n",
       " 64320,\n",
       " 65970,\n",
       " 67920,\n",
       " 69570,\n",
       " 71070,\n",
       " 72570,\n",
       " 75720,\n",
       " 79320,\n",
       " 82920,\n",
       " 86220,\n",
       " 88770,\n",
       " 92370,\n",
       " 94170,\n",
       " 96120,\n",
       " 97920,\n",
       " 100170,\n",
       " 103170,\n",
       " 106020,\n",
       " 107520]"
      ]
     },
     "execution_count": 82,
     "metadata": {},
     "output_type": "execute_result"
    }
   ],
   "source": [
    "[tone_time//20000*30 for tone_time in tone_din_time]"
   ]
  },
  {
   "cell_type": "code",
   "execution_count": 83,
   "id": "5d75032b-9b29-4db8-a0a7-ba8c36e995ab",
   "metadata": {},
   "outputs": [
    {
     "data": {
      "text/plain": [
       "360"
      ]
     },
     "execution_count": 83,
     "metadata": {},
     "output_type": "execute_result"
    }
   ],
   "source": [
    "(3560136-voltage_timestamp_array[0])//20000*20"
   ]
  },
  {
   "cell_type": "markdown",
   "id": "23f446f0-a29b-4bb0-8e6e-68f3f7562a1f",
   "metadata": {},
   "source": [
    "# From tone timestamps to voltage timestamps"
   ]
  },
  {
   "cell_type": "code",
   "execution_count": 84,
   "id": "28d6fc2b-53cd-4963-9a2d-3bd814cc93ad",
   "metadata": {},
   "outputs": [],
   "source": [
    "tone_df = pd.DataFrame(tone_din_time, columns=[\"tone_timestamp\"])"
   ]
  },
  {
   "cell_type": "code",
   "execution_count": 85,
   "id": "dd8faf85-a501-43f2-a023-e87586d59aa2",
   "metadata": {},
   "outputs": [],
   "source": [
    "tone_df[\"tone_index\"] = tone_df[\"tone_timestamp\"] - voltage_timestamp_array[0]"
   ]
  },
  {
   "cell_type": "code",
   "execution_count": 86,
   "id": "842e283f-6e94-4843-b7b5-ca6a087d089c",
   "metadata": {},
   "outputs": [
    {
     "data": {
      "text/html": [
       "<div>\n",
       "<style scoped>\n",
       "    .dataframe tbody tr th:only-of-type {\n",
       "        vertical-align: middle;\n",
       "    }\n",
       "\n",
       "    .dataframe tbody tr th {\n",
       "        vertical-align: top;\n",
       "    }\n",
       "\n",
       "    .dataframe thead th {\n",
       "        text-align: right;\n",
       "    }\n",
       "</style>\n",
       "<table border=\"1\" class=\"dataframe\">\n",
       "  <thead>\n",
       "    <tr style=\"text-align: right;\">\n",
       "      <th></th>\n",
       "      <th>tone_timestamp</th>\n",
       "      <th>tone_index</th>\n",
       "    </tr>\n",
       "  </thead>\n",
       "  <tbody>\n",
       "    <tr>\n",
       "      <th>0</th>\n",
       "      <td>3671086</td>\n",
       "      <td>478042</td>\n",
       "    </tr>\n",
       "    <tr>\n",
       "      <th>1</th>\n",
       "      <td>5681112</td>\n",
       "      <td>2488068</td>\n",
       "    </tr>\n",
       "    <tr>\n",
       "      <th>2</th>\n",
       "      <td>8081141</td>\n",
       "      <td>4888097</td>\n",
       "    </tr>\n",
       "    <tr>\n",
       "      <th>3</th>\n",
       "      <td>10381173</td>\n",
       "      <td>7188129</td>\n",
       "    </tr>\n",
       "    <tr>\n",
       "      <th>4</th>\n",
       "      <td>12181192</td>\n",
       "      <td>8988148</td>\n",
       "    </tr>\n",
       "  </tbody>\n",
       "</table>\n",
       "</div>"
      ],
      "text/plain": [
       "   tone_timestamp  tone_index\n",
       "0         3671086      478042\n",
       "1         5681112     2488068\n",
       "2         8081141     4888097\n",
       "3        10381173     7188129\n",
       "4        12181192     8988148"
      ]
     },
     "execution_count": 86,
     "metadata": {},
     "output_type": "execute_result"
    }
   ],
   "source": [
    "tone_df.head()"
   ]
  },
  {
   "cell_type": "code",
   "execution_count": 87,
   "id": "740e4689-647e-4262-9507-d2f2dcee70be",
   "metadata": {},
   "outputs": [],
   "source": [
    "rewarded_or_not = \"rewarded\", \"rewarded\", \"rewarded\", \"rewarded\", \"rewarded\", \"rewarded\", \"rewarded\", \"rewarded\", \"rewarded\", \"rewarded\", \"rewarded\", \"rewarded\", \"rewarded\", \"rewarded\", \"rewarded\", \"rewarded\", \"rewarded\", \"rewarded\", \"rewarded\", \"rewarded\", \"rewarded\", \"rewarded\", \"omission\", \"rewarded\", \"rewarded\", \"rewarded\", \"rewarded\", \"rewarded\", \"omission\", \"rewarded\", \"rewarded\", \"rewarded\", \"rewarded\", \"omission\", \"rewarded\", \"rewarded\", \"rewarded\", \"omission\", \"rewarded\", \"rewarded\", \"rewarded\", \"rewarded\", \"rewarded\", \"rewarded\", \"rewarded\", \"rewarded\", \"rewarded\", \"rewarded\", \"rewarded\", \"rewarded\""
   ]
  },
  {
   "cell_type": "code",
   "execution_count": 88,
   "id": "34988b2f-987d-47ce-b59a-2999605996d1",
   "metadata": {},
   "outputs": [],
   "source": [
    "tone_df[\"rewarded_or_not\"] = rewarded_or_not[:len(tone_df-1)]"
   ]
  },
  {
   "cell_type": "code",
   "execution_count": 89,
   "id": "83f4b6cd-a77a-4849-a8be-89b887876335",
   "metadata": {},
   "outputs": [],
   "source": [
    "competition_winners = [1.1,\n",
    "\"tie\",\n",
    "1.2,\n",
    "1.1,\n",
    "1.2,\n",
    "1.1,\n",
    "1.1,\n",
    "1.2,\n",
    "1.1,\n",
    "1.1,\n",
    "1.2,\n",
    "1.1,\n",
    "1.1,\n",
    "1.1,\n",
    "1.2,\n",
    "1.1,\n",
    "1.1,\n",
    "1.1,\n",
    "1.2,\n",
    "1.1]"
   ]
  },
  {
   "cell_type": "code",
   "execution_count": 90,
   "id": "a2bf731d-f038-41a0-bc4b-4c279eb60d36",
   "metadata": {},
   "outputs": [
    {
     "data": {
      "text/plain": [
       "20"
      ]
     },
     "execution_count": 90,
     "metadata": {},
     "output_type": "execute_result"
    }
   ],
   "source": [
    "len(competition_winners)"
   ]
  },
  {
   "cell_type": "code",
   "execution_count": 91,
   "id": "1c257135-f49e-4106-80a8-5f6393d14190",
   "metadata": {},
   "outputs": [],
   "source": [
    "competition_winners = competition_winners + [0] * 50"
   ]
  },
  {
   "cell_type": "code",
   "execution_count": 92,
   "id": "e65e256e-dc5c-44c6-bcb6-7d30ce5b66dc",
   "metadata": {},
   "outputs": [],
   "source": [
    "tone_df[\"competition_winners\"] = competition_winners[:len(tone_df)]"
   ]
  },
  {
   "cell_type": "code",
   "execution_count": 93,
   "id": "4c433114-0a44-4daa-9ea1-3074d04cc901",
   "metadata": {},
   "outputs": [
    {
     "data": {
      "text/plain": [
       "3193044"
      ]
     },
     "execution_count": 93,
     "metadata": {},
     "output_type": "execute_result"
    }
   ],
   "source": [
    "voltage_timestamp_array[0]"
   ]
  },
  {
   "cell_type": "code",
   "execution_count": 94,
   "id": "bb7df4d3-dac1-45ae-bac3-f9b47bb86870",
   "metadata": {},
   "outputs": [],
   "source": [
    "tone_df[\"condition\"] = tone_df.apply(lambda x: x[\"competition_winners\"] if x[\"competition_winners\"] else x[\"rewarded_or_not\"], axis=1)"
   ]
  },
  {
   "cell_type": "code",
   "execution_count": 95,
   "id": "fad5d396-fbda-49e8-a3a6-ce717837fffb",
   "metadata": {
    "scrolled": true
   },
   "outputs": [
    {
     "data": {
      "text/html": [
       "<div>\n",
       "<style scoped>\n",
       "    .dataframe tbody tr th:only-of-type {\n",
       "        vertical-align: middle;\n",
       "    }\n",
       "\n",
       "    .dataframe tbody tr th {\n",
       "        vertical-align: top;\n",
       "    }\n",
       "\n",
       "    .dataframe thead th {\n",
       "        text-align: right;\n",
       "    }\n",
       "</style>\n",
       "<table border=\"1\" class=\"dataframe\">\n",
       "  <thead>\n",
       "    <tr style=\"text-align: right;\">\n",
       "      <th></th>\n",
       "      <th>tone_timestamp</th>\n",
       "      <th>tone_index</th>\n",
       "      <th>rewarded_or_not</th>\n",
       "      <th>competition_winners</th>\n",
       "      <th>condition</th>\n",
       "    </tr>\n",
       "  </thead>\n",
       "  <tbody>\n",
       "    <tr>\n",
       "      <th>0</th>\n",
       "      <td>3671086</td>\n",
       "      <td>478042</td>\n",
       "      <td>rewarded</td>\n",
       "      <td>1.1</td>\n",
       "      <td>1.1</td>\n",
       "    </tr>\n",
       "    <tr>\n",
       "      <th>1</th>\n",
       "      <td>5681112</td>\n",
       "      <td>2488068</td>\n",
       "      <td>rewarded</td>\n",
       "      <td>tie</td>\n",
       "      <td>tie</td>\n",
       "    </tr>\n",
       "    <tr>\n",
       "      <th>2</th>\n",
       "      <td>8081141</td>\n",
       "      <td>4888097</td>\n",
       "      <td>rewarded</td>\n",
       "      <td>1.2</td>\n",
       "      <td>1.2</td>\n",
       "    </tr>\n",
       "    <tr>\n",
       "      <th>3</th>\n",
       "      <td>10381173</td>\n",
       "      <td>7188129</td>\n",
       "      <td>rewarded</td>\n",
       "      <td>1.1</td>\n",
       "      <td>1.1</td>\n",
       "    </tr>\n",
       "    <tr>\n",
       "      <th>4</th>\n",
       "      <td>12181192</td>\n",
       "      <td>8988148</td>\n",
       "      <td>rewarded</td>\n",
       "      <td>1.2</td>\n",
       "      <td>1.2</td>\n",
       "    </tr>\n",
       "    <tr>\n",
       "      <th>5</th>\n",
       "      <td>13281209</td>\n",
       "      <td>10088165</td>\n",
       "      <td>rewarded</td>\n",
       "      <td>1.1</td>\n",
       "      <td>1.1</td>\n",
       "    </tr>\n",
       "    <tr>\n",
       "      <th>6</th>\n",
       "      <td>14281218</td>\n",
       "      <td>11088174</td>\n",
       "      <td>rewarded</td>\n",
       "      <td>1.1</td>\n",
       "      <td>1.1</td>\n",
       "    </tr>\n",
       "    <tr>\n",
       "      <th>7</th>\n",
       "      <td>16181241</td>\n",
       "      <td>12988197</td>\n",
       "      <td>rewarded</td>\n",
       "      <td>1.2</td>\n",
       "      <td>1.2</td>\n",
       "    </tr>\n",
       "    <tr>\n",
       "      <th>8</th>\n",
       "      <td>17681260</td>\n",
       "      <td>14488216</td>\n",
       "      <td>rewarded</td>\n",
       "      <td>1.1</td>\n",
       "      <td>1.1</td>\n",
       "    </tr>\n",
       "    <tr>\n",
       "      <th>9</th>\n",
       "      <td>19781285</td>\n",
       "      <td>16588241</td>\n",
       "      <td>rewarded</td>\n",
       "      <td>1.1</td>\n",
       "      <td>1.1</td>\n",
       "    </tr>\n",
       "    <tr>\n",
       "      <th>10</th>\n",
       "      <td>20781300</td>\n",
       "      <td>17588256</td>\n",
       "      <td>rewarded</td>\n",
       "      <td>1.2</td>\n",
       "      <td>1.2</td>\n",
       "    </tr>\n",
       "    <tr>\n",
       "      <th>11</th>\n",
       "      <td>22381319</td>\n",
       "      <td>19188275</td>\n",
       "      <td>rewarded</td>\n",
       "      <td>1.1</td>\n",
       "      <td>1.1</td>\n",
       "    </tr>\n",
       "    <tr>\n",
       "      <th>12</th>\n",
       "      <td>23681333</td>\n",
       "      <td>20488289</td>\n",
       "      <td>rewarded</td>\n",
       "      <td>1.1</td>\n",
       "      <td>1.1</td>\n",
       "    </tr>\n",
       "    <tr>\n",
       "      <th>13</th>\n",
       "      <td>24981351</td>\n",
       "      <td>21788307</td>\n",
       "      <td>rewarded</td>\n",
       "      <td>1.1</td>\n",
       "      <td>1.1</td>\n",
       "    </tr>\n",
       "    <tr>\n",
       "      <th>14</th>\n",
       "      <td>25981363</td>\n",
       "      <td>22788319</td>\n",
       "      <td>rewarded</td>\n",
       "      <td>1.2</td>\n",
       "      <td>1.2</td>\n",
       "    </tr>\n",
       "    <tr>\n",
       "      <th>15</th>\n",
       "      <td>27381378</td>\n",
       "      <td>24188334</td>\n",
       "      <td>rewarded</td>\n",
       "      <td>1.1</td>\n",
       "      <td>1.1</td>\n",
       "    </tr>\n",
       "    <tr>\n",
       "      <th>16</th>\n",
       "      <td>29281401</td>\n",
       "      <td>26088357</td>\n",
       "      <td>rewarded</td>\n",
       "      <td>1.1</td>\n",
       "      <td>1.1</td>\n",
       "    </tr>\n",
       "    <tr>\n",
       "      <th>17</th>\n",
       "      <td>30881425</td>\n",
       "      <td>27688381</td>\n",
       "      <td>rewarded</td>\n",
       "      <td>1.1</td>\n",
       "      <td>1.1</td>\n",
       "    </tr>\n",
       "    <tr>\n",
       "      <th>18</th>\n",
       "      <td>32281440</td>\n",
       "      <td>29088396</td>\n",
       "      <td>rewarded</td>\n",
       "      <td>1.2</td>\n",
       "      <td>1.2</td>\n",
       "    </tr>\n",
       "    <tr>\n",
       "      <th>19</th>\n",
       "      <td>34481464</td>\n",
       "      <td>31288420</td>\n",
       "      <td>rewarded</td>\n",
       "      <td>1.1</td>\n",
       "      <td>1.1</td>\n",
       "    </tr>\n",
       "    <tr>\n",
       "      <th>20</th>\n",
       "      <td>35681479</td>\n",
       "      <td>32488435</td>\n",
       "      <td>rewarded</td>\n",
       "      <td>0</td>\n",
       "      <td>rewarded</td>\n",
       "    </tr>\n",
       "    <tr>\n",
       "      <th>21</th>\n",
       "      <td>41681554</td>\n",
       "      <td>38488510</td>\n",
       "      <td>rewarded</td>\n",
       "      <td>0</td>\n",
       "      <td>rewarded</td>\n",
       "    </tr>\n",
       "    <tr>\n",
       "      <th>22</th>\n",
       "      <td>42881571</td>\n",
       "      <td>39688527</td>\n",
       "      <td>omission</td>\n",
       "      <td>0</td>\n",
       "      <td>omission</td>\n",
       "    </tr>\n",
       "    <tr>\n",
       "      <th>23</th>\n",
       "      <td>43981579</td>\n",
       "      <td>40788535</td>\n",
       "      <td>rewarded</td>\n",
       "      <td>0</td>\n",
       "      <td>rewarded</td>\n",
       "    </tr>\n",
       "    <tr>\n",
       "      <th>24</th>\n",
       "      <td>45281597</td>\n",
       "      <td>42088553</td>\n",
       "      <td>rewarded</td>\n",
       "      <td>0</td>\n",
       "      <td>rewarded</td>\n",
       "    </tr>\n",
       "    <tr>\n",
       "      <th>25</th>\n",
       "      <td>46381608</td>\n",
       "      <td>43188564</td>\n",
       "      <td>rewarded</td>\n",
       "      <td>0</td>\n",
       "      <td>rewarded</td>\n",
       "    </tr>\n",
       "    <tr>\n",
       "      <th>26</th>\n",
       "      <td>47381620</td>\n",
       "      <td>44188576</td>\n",
       "      <td>rewarded</td>\n",
       "      <td>0</td>\n",
       "      <td>rewarded</td>\n",
       "    </tr>\n",
       "    <tr>\n",
       "      <th>27</th>\n",
       "      <td>48381635</td>\n",
       "      <td>45188591</td>\n",
       "      <td>rewarded</td>\n",
       "      <td>0</td>\n",
       "      <td>rewarded</td>\n",
       "    </tr>\n",
       "    <tr>\n",
       "      <th>28</th>\n",
       "      <td>50481658</td>\n",
       "      <td>47288614</td>\n",
       "      <td>omission</td>\n",
       "      <td>0</td>\n",
       "      <td>omission</td>\n",
       "    </tr>\n",
       "    <tr>\n",
       "      <th>29</th>\n",
       "      <td>52881690</td>\n",
       "      <td>49688646</td>\n",
       "      <td>rewarded</td>\n",
       "      <td>0</td>\n",
       "      <td>rewarded</td>\n",
       "    </tr>\n",
       "    <tr>\n",
       "      <th>30</th>\n",
       "      <td>55281716</td>\n",
       "      <td>52088672</td>\n",
       "      <td>rewarded</td>\n",
       "      <td>0</td>\n",
       "      <td>rewarded</td>\n",
       "    </tr>\n",
       "    <tr>\n",
       "      <th>31</th>\n",
       "      <td>57481743</td>\n",
       "      <td>54288699</td>\n",
       "      <td>rewarded</td>\n",
       "      <td>0</td>\n",
       "      <td>rewarded</td>\n",
       "    </tr>\n",
       "    <tr>\n",
       "      <th>32</th>\n",
       "      <td>59181764</td>\n",
       "      <td>55988720</td>\n",
       "      <td>rewarded</td>\n",
       "      <td>0</td>\n",
       "      <td>rewarded</td>\n",
       "    </tr>\n",
       "    <tr>\n",
       "      <th>33</th>\n",
       "      <td>61581798</td>\n",
       "      <td>58388754</td>\n",
       "      <td>omission</td>\n",
       "      <td>0</td>\n",
       "      <td>omission</td>\n",
       "    </tr>\n",
       "    <tr>\n",
       "      <th>34</th>\n",
       "      <td>62781807</td>\n",
       "      <td>59588763</td>\n",
       "      <td>rewarded</td>\n",
       "      <td>0</td>\n",
       "      <td>rewarded</td>\n",
       "    </tr>\n",
       "    <tr>\n",
       "      <th>35</th>\n",
       "      <td>64081824</td>\n",
       "      <td>60888780</td>\n",
       "      <td>rewarded</td>\n",
       "      <td>0</td>\n",
       "      <td>rewarded</td>\n",
       "    </tr>\n",
       "    <tr>\n",
       "      <th>36</th>\n",
       "      <td>65281838</td>\n",
       "      <td>62088794</td>\n",
       "      <td>rewarded</td>\n",
       "      <td>0</td>\n",
       "      <td>rewarded</td>\n",
       "    </tr>\n",
       "    <tr>\n",
       "      <th>37</th>\n",
       "      <td>66781856</td>\n",
       "      <td>63588812</td>\n",
       "      <td>omission</td>\n",
       "      <td>0</td>\n",
       "      <td>omission</td>\n",
       "    </tr>\n",
       "    <tr>\n",
       "      <th>38</th>\n",
       "      <td>68781880</td>\n",
       "      <td>65588836</td>\n",
       "      <td>rewarded</td>\n",
       "      <td>0</td>\n",
       "      <td>rewarded</td>\n",
       "    </tr>\n",
       "    <tr>\n",
       "      <th>39</th>\n",
       "      <td>70681909</td>\n",
       "      <td>67488865</td>\n",
       "      <td>rewarded</td>\n",
       "      <td>0</td>\n",
       "      <td>rewarded</td>\n",
       "    </tr>\n",
       "    <tr>\n",
       "      <th>40</th>\n",
       "      <td>71681918</td>\n",
       "      <td>68488874</td>\n",
       "      <td>rewarded</td>\n",
       "      <td>0</td>\n",
       "      <td>rewarded</td>\n",
       "    </tr>\n",
       "  </tbody>\n",
       "</table>\n",
       "</div>"
      ],
      "text/plain": [
       "    tone_timestamp  tone_index rewarded_or_not competition_winners condition\n",
       "0          3671086      478042        rewarded                 1.1       1.1\n",
       "1          5681112     2488068        rewarded                 tie       tie\n",
       "2          8081141     4888097        rewarded                 1.2       1.2\n",
       "3         10381173     7188129        rewarded                 1.1       1.1\n",
       "4         12181192     8988148        rewarded                 1.2       1.2\n",
       "5         13281209    10088165        rewarded                 1.1       1.1\n",
       "6         14281218    11088174        rewarded                 1.1       1.1\n",
       "7         16181241    12988197        rewarded                 1.2       1.2\n",
       "8         17681260    14488216        rewarded                 1.1       1.1\n",
       "9         19781285    16588241        rewarded                 1.1       1.1\n",
       "10        20781300    17588256        rewarded                 1.2       1.2\n",
       "11        22381319    19188275        rewarded                 1.1       1.1\n",
       "12        23681333    20488289        rewarded                 1.1       1.1\n",
       "13        24981351    21788307        rewarded                 1.1       1.1\n",
       "14        25981363    22788319        rewarded                 1.2       1.2\n",
       "15        27381378    24188334        rewarded                 1.1       1.1\n",
       "16        29281401    26088357        rewarded                 1.1       1.1\n",
       "17        30881425    27688381        rewarded                 1.1       1.1\n",
       "18        32281440    29088396        rewarded                 1.2       1.2\n",
       "19        34481464    31288420        rewarded                 1.1       1.1\n",
       "20        35681479    32488435        rewarded                   0  rewarded\n",
       "21        41681554    38488510        rewarded                   0  rewarded\n",
       "22        42881571    39688527        omission                   0  omission\n",
       "23        43981579    40788535        rewarded                   0  rewarded\n",
       "24        45281597    42088553        rewarded                   0  rewarded\n",
       "25        46381608    43188564        rewarded                   0  rewarded\n",
       "26        47381620    44188576        rewarded                   0  rewarded\n",
       "27        48381635    45188591        rewarded                   0  rewarded\n",
       "28        50481658    47288614        omission                   0  omission\n",
       "29        52881690    49688646        rewarded                   0  rewarded\n",
       "30        55281716    52088672        rewarded                   0  rewarded\n",
       "31        57481743    54288699        rewarded                   0  rewarded\n",
       "32        59181764    55988720        rewarded                   0  rewarded\n",
       "33        61581798    58388754        omission                   0  omission\n",
       "34        62781807    59588763        rewarded                   0  rewarded\n",
       "35        64081824    60888780        rewarded                   0  rewarded\n",
       "36        65281838    62088794        rewarded                   0  rewarded\n",
       "37        66781856    63588812        omission                   0  omission\n",
       "38        68781880    65588836        rewarded                   0  rewarded\n",
       "39        70681909    67488865        rewarded                   0  rewarded\n",
       "40        71681918    68488874        rewarded                   0  rewarded"
      ]
     },
     "execution_count": 95,
     "metadata": {},
     "output_type": "execute_result"
    }
   ],
   "source": [
    "tone_df"
   ]
  },
  {
   "cell_type": "code",
   "execution_count": 96,
   "id": "595cf73b-fc18-46fe-a819-519f8467e0b1",
   "metadata": {},
   "outputs": [],
   "source": [
    "tone_df.to_csv(\"./20230620_114347_standard_comp_to_omission_D4_subj_1-2_and_1-1.rec.tone_times.csv\")"
   ]
  },
  {
   "cell_type": "code",
   "execution_count": 97,
   "id": "fe1a1634-3ac6-4c8f-bfed-074de296a8c9",
   "metadata": {},
   "outputs": [
    {
     "data": {
      "text/plain": [
       "53.49935583333333"
      ]
     },
     "execution_count": 97,
     "metadata": {},
     "output_type": "execute_result"
    }
   ],
   "source": [
    "64199227/20000/60"
   ]
  },
  {
   "cell_type": "code",
   "execution_count": 98,
   "id": "493fe632-b2fa-4b5e-9c99-08723b257285",
   "metadata": {},
   "outputs": [
    {
     "data": {
      "text/plain": [
       "array([  478042,  2488068,  4888097,  7188129,  8988148, 10088165,\n",
       "       11088174, 12988197, 14488216, 16588241, 17588256, 19188275,\n",
       "       20488289, 21788307, 22788319, 24188334, 26088357, 27688381,\n",
       "       29088396, 31288420, 32488435, 38488510, 39688527, 40788535,\n",
       "       42088553, 43188564, 44188576, 45188591, 47288614, 49688646,\n",
       "       52088672, 54288699, 55988720, 58388754, 59588763, 60888780,\n",
       "       62088794, 63588812, 65588836, 67488865, 68488874], dtype=uint32)"
      ]
     },
     "execution_count": 98,
     "metadata": {},
     "output_type": "execute_result"
    }
   ],
   "source": [
    "tone_din_time - voltage_timestamp_array[0]"
   ]
  },
  {
   "cell_type": "code",
   "execution_count": 99,
   "id": "d18daa2d-0dde-40b9-913a-ee6b6e7179f2",
   "metadata": {},
   "outputs": [
    {
     "data": {
      "text/plain": [
       "3209.96135"
      ]
     },
     "execution_count": 99,
     "metadata": {},
     "output_type": "execute_result"
    }
   ],
   "source": [
    "64199227 / 20000"
   ]
  },
  {
   "cell_type": "code",
   "execution_count": null,
   "id": "7b503d9b-aebe-4e8a-a485-c69e6e1fe96f",
   "metadata": {},
   "outputs": [],
   "source": []
  },
  {
   "cell_type": "code",
   "execution_count": 100,
   "id": "dec745ff-e12a-4e50-82d7-6b2c3677e919",
   "metadata": {},
   "outputs": [
    {
     "data": {
      "text/plain": [
       "1099250"
      ]
     },
     "execution_count": 100,
     "metadata": {},
     "output_type": "execute_result"
    }
   ],
   "source": [
    "1099250"
   ]
  },
  {
   "cell_type": "code",
   "execution_count": 101,
   "id": "5989fe5c",
   "metadata": {},
   "outputs": [
    {
     "ename": "NameError",
     "evalue": "name 'box1_port_entries_DIN_file_name' is not defined",
     "output_type": "error",
     "traceback": [
      "\u001b[0;31m---------------------------------------------------------------------------\u001b[0m",
      "\u001b[0;31mNameError\u001b[0m                                 Traceback (most recent call last)",
      "Cell \u001b[0;32mIn[101], line 1\u001b[0m\n\u001b[0;32m----> 1\u001b[0m \u001b[43mbox1_port_entries_DIN_file_name\u001b[49m\n",
      "\u001b[0;31mNameError\u001b[0m: name 'box1_port_entries_DIN_file_name' is not defined"
     ]
    }
   ],
   "source": [
    "box1_port_entries_DIN_file_name"
   ]
  },
  {
   "cell_type": "code",
   "execution_count": null,
   "id": "eb7cc793-4494-4b49-adfe-2783ed64e67a",
   "metadata": {},
   "outputs": [],
   "source": [
    "voltage_timestamp_array[0]"
   ]
  },
  {
   "cell_type": "code",
   "execution_count": null,
   "id": "5239070a-4f08-441b-86ff-9e68d35b5d58",
   "metadata": {},
   "outputs": [],
   "source": []
  },
  {
   "cell_type": "markdown",
   "id": "99b5e673",
   "metadata": {},
   "source": [
    "# From DIN to Video"
   ]
  },
  {
   "cell_type": "code",
   "execution_count": null,
   "id": "1c4df58d-f152-402c-a8c3-fa4321d5c14c",
   "metadata": {},
   "outputs": [],
   "source": [
    "raise ValueError()"
   ]
  },
  {
   "cell_type": "markdown",
   "id": "d912df6b",
   "metadata": {},
   "source": [
    "- State 1 is when the MED-PC signal is being recieved. And 0 is when it is turned off. So we will get the timestamp of when it is first 1."
   ]
  },
  {
   "cell_type": "code",
   "execution_count": null,
   "id": "0ba4c5d6",
   "metadata": {},
   "outputs": [],
   "source": [
    "DIN_state_array"
   ]
  },
  {
   "cell_type": "code",
   "execution_count": null,
   "id": "db7a47bf",
   "metadata": {},
   "outputs": [],
   "source": [
    "tone_time_stamp = [time_state[0] for time_state in DIN_state_array if time_state[1]]"
   ]
  },
  {
   "cell_type": "code",
   "execution_count": null,
   "id": "d889cf6a",
   "metadata": {},
   "outputs": [],
   "source": [
    "example_tone_time_stamp = tone_time_stamp[3]"
   ]
  },
  {
   "cell_type": "code",
   "execution_count": null,
   "id": "e0b1ba5f",
   "metadata": {},
   "outputs": [],
   "source": [
    "example_tone_time_stamp"
   ]
  },
  {
   "cell_type": "markdown",
   "id": "148723da",
   "metadata": {},
   "source": [
    "- Array of the time stamp of all the frames"
   ]
  },
  {
   "cell_type": "code",
   "execution_count": null,
   "id": "268e96b1",
   "metadata": {},
   "outputs": [],
   "source": [
    "pos_timestamp_array"
   ]
  },
  {
   "cell_type": "markdown",
   "id": "1fbe7728",
   "metadata": {},
   "source": [
    "- Getting the first video time stamp that is greater than the voltage time stamp"
   ]
  },
  {
   "cell_type": "code",
   "execution_count": null,
   "id": "1ec60639",
   "metadata": {},
   "outputs": [],
   "source": [
    "current_video_frame = timestamp_to_index(current_ts=example_tone_time_stamp, ts_array=pos_timestamp_array)"
   ]
  },
  {
   "cell_type": "code",
   "execution_count": null,
   "id": "cd06980b",
   "metadata": {
    "scrolled": true
   },
   "outputs": [],
   "source": [
    "current_video_frame"
   ]
  },
  {
   "cell_type": "code",
   "execution_count": null,
   "id": "b3598b8f",
   "metadata": {},
   "outputs": [],
   "source": [
    "timestamp_to_index(current_ts=28625643, ts_array=pos_timestamp_array)"
   ]
  },
  {
   "cell_type": "markdown",
   "id": "c6c58a56",
   "metadata": {},
   "source": [
    "# Syncing up the timestamps using Pandas"
   ]
  },
  {
   "cell_type": "markdown",
   "id": "adafa131",
   "metadata": {},
   "source": [
    "## Adding the Voltage as columns"
   ]
  },
  {
   "cell_type": "code",
   "execution_count": null,
   "id": "478e0b5a",
   "metadata": {},
   "outputs": [],
   "source": [
    "voltage_timestamp_array[:5]"
   ]
  },
  {
   "cell_type": "code",
   "execution_count": null,
   "id": "7223f277",
   "metadata": {},
   "outputs": [],
   "source": [
    "voltage_timestamp_array.shape"
   ]
  },
  {
   "cell_type": "code",
   "execution_count": null,
   "id": "b31e7b98",
   "metadata": {
    "scrolled": true
   },
   "outputs": [],
   "source": [
    "voltage_value_array[:5]"
   ]
  },
  {
   "cell_type": "code",
   "execution_count": null,
   "id": "4c4d2caa",
   "metadata": {},
   "outputs": [],
   "source": [
    "voltage_value_array.shape"
   ]
  },
  {
   "cell_type": "markdown",
   "id": "7210172d",
   "metadata": {},
   "source": [
    "- Adding the voltage timestamps"
   ]
  },
  {
   "cell_type": "code",
   "execution_count": null,
   "id": "c0b74a4a",
   "metadata": {},
   "outputs": [],
   "source": [
    "ephys_dataframe = pd.DataFrame(voltage_timestamp_array, columns=[\"voltage_time_stamp\"])"
   ]
  },
  {
   "cell_type": "code",
   "execution_count": null,
   "id": "c49f894b",
   "metadata": {
    "scrolled": true
   },
   "outputs": [],
   "source": [
    "ephys_dataframe.head()"
   ]
  },
  {
   "cell_type": "markdown",
   "id": "af9c98de",
   "metadata": {},
   "source": [
    "- Adding the voltage value"
   ]
  },
  {
   "cell_type": "raw",
   "id": "6cf9c3dc",
   "metadata": {},
   "source": [
    "# This adds a lot to the dataframe, so uncomment only if necessary\n",
    "ephys_dataframe[\"voltage_value\"] = voltage_value_array.tolist()"
   ]
  },
  {
   "cell_type": "code",
   "execution_count": null,
   "id": "ca97b35f",
   "metadata": {
    "scrolled": true
   },
   "outputs": [],
   "source": [
    "ephys_dataframe.head()"
   ]
  },
  {
   "cell_type": "markdown",
   "id": "03c1db9e",
   "metadata": {},
   "source": [
    "## Adding the video data as columns"
   ]
  },
  {
   "cell_type": "markdown",
   "id": "2a62171a",
   "metadata": {},
   "source": [
    "- Creating a seperate dataframe for video data first"
   ]
  },
  {
   "cell_type": "code",
   "execution_count": null,
   "id": "ba03e7b9",
   "metadata": {},
   "outputs": [],
   "source": [
    "pos_timestamp_array[:5]"
   ]
  },
  {
   "cell_type": "code",
   "execution_count": null,
   "id": "c5c17fbf",
   "metadata": {},
   "outputs": [],
   "source": [
    "pos_timestamp_array[-5:]"
   ]
  },
  {
   "cell_type": "code",
   "execution_count": null,
   "id": "ce05e8ff",
   "metadata": {},
   "outputs": [],
   "source": [
    "video_dataframe = pd.DataFrame(pos_timestamp_array, columns=[\"PosTimestamp\"])"
   ]
  },
  {
   "cell_type": "code",
   "execution_count": null,
   "id": "041d0cac",
   "metadata": {},
   "outputs": [],
   "source": [
    "video_dataframe.head()"
   ]
  },
  {
   "cell_type": "markdown",
   "id": "15f59138",
   "metadata": {},
   "source": [
    "- Adding the frames which would just be the number in the list that the timestamps belongs to"
   ]
  },
  {
   "cell_type": "code",
   "execution_count": null,
   "id": "fb863893",
   "metadata": {
    "scrolled": true
   },
   "outputs": [],
   "source": [
    "video_dataframe.insert(0, 'frame_number', range(1, 1 + len(video_dataframe)))"
   ]
  },
  {
   "cell_type": "markdown",
   "id": "b7de1a73",
   "metadata": {},
   "source": [
    "- Calculating the time within the video by dividing the frame by the fps"
   ]
  },
  {
   "cell_type": "code",
   "execution_count": null,
   "id": "bca73f7b",
   "metadata": {},
   "outputs": [],
   "source": [
    "video_dataframe[\"video_time\"] = video_dataframe[\"frame_number\"] / fps"
   ]
  },
  {
   "cell_type": "code",
   "execution_count": null,
   "id": "58c11371",
   "metadata": {},
   "outputs": [],
   "source": [
    "video_dataframe[\"video_seconds\"] = video_dataframe[\"video_time\"].astype(int)"
   ]
  },
  {
   "cell_type": "code",
   "execution_count": null,
   "id": "926c3823",
   "metadata": {},
   "outputs": [],
   "source": [
    "video_dataframe"
   ]
  },
  {
   "cell_type": "markdown",
   "id": "2801c768",
   "metadata": {},
   "source": [
    "## Combining the ephys and video dataframe into one"
   ]
  },
  {
   "cell_type": "code",
   "execution_count": null,
   "id": "b2ebc832",
   "metadata": {},
   "outputs": [],
   "source": [
    "ephy_and_video_dataframe = pd.merge(ephys_dataframe, video_dataframe, left_on='voltage_time_stamp', right_on='PosTimestamp', how=\"left\")"
   ]
  },
  {
   "cell_type": "code",
   "execution_count": null,
   "id": "9201fbc4",
   "metadata": {},
   "outputs": [],
   "source": [
    "ephy_and_video_dataframe"
   ]
  },
  {
   "cell_type": "code",
   "execution_count": null,
   "id": "29bbcc51",
   "metadata": {},
   "outputs": [],
   "source": [
    "ephy_and_video_dataframe.columns"
   ]
  },
  {
   "cell_type": "markdown",
   "id": "182dadba",
   "metadata": {},
   "source": [
    "- There are only a small number of rows that have information for the video, because the sampling rate is much smaller. "
   ]
  },
  {
   "cell_type": "code",
   "execution_count": null,
   "id": "564ca911",
   "metadata": {},
   "outputs": [],
   "source": [
    "ephy_and_video_dataframe.dropna(subset=[\"PosTimestamp\"])"
   ]
  },
  {
   "cell_type": "markdown",
   "id": "925b2441",
   "metadata": {},
   "source": [
    "- Filling in all the blank cells with the previous rows for the video related columns into new columns. This can be used to select for all rows that correspond to something happening within the video"
   ]
  },
  {
   "cell_type": "code",
   "execution_count": null,
   "id": "e35eaa7b",
   "metadata": {},
   "outputs": [],
   "source": [
    "ephy_and_video_dataframe.columns"
   ]
  },
  {
   "cell_type": "code",
   "execution_count": null,
   "id": "6868e7f6",
   "metadata": {},
   "outputs": [],
   "source": [
    "for col in ephy_and_video_dataframe.columns:\n",
    "    if \"filled\" not in col:\n",
    "        ephy_and_video_dataframe['filled_{}'.format(col)] = ephy_and_video_dataframe[col].fillna(method='ffill')\n"
   ]
  },
  {
   "cell_type": "code",
   "execution_count": null,
   "id": "99b3848e",
   "metadata": {},
   "outputs": [],
   "source": [
    "ephy_and_video_dataframe['filled_PosTimestamp'] = ephy_and_video_dataframe['PosTimestamp'].fillna(method='ffill')\n",
    "ephy_and_video_dataframe['filled_frame_number'] = ephy_and_video_dataframe['frame_number'].fillna(method='ffill')\n",
    "ephy_and_video_dataframe['filled_video_time'] = ephy_and_video_dataframe['video_time'].fillna(method='ffill')\n",
    "ephy_and_video_dataframe['filled_video_seconds'] = ephy_and_video_dataframe['video_seconds'].fillna(method='ffill')"
   ]
  },
  {
   "cell_type": "code",
   "execution_count": null,
   "id": "e343ae63",
   "metadata": {},
   "outputs": [],
   "source": [
    "ephy_and_video_dataframe.tail()"
   ]
  },
  {
   "cell_type": "markdown",
   "id": "bc975896",
   "metadata": {},
   "source": [
    "## Adding the DIN info"
   ]
  },
  {
   "cell_type": "code",
   "execution_count": null,
   "id": "89ba5770",
   "metadata": {},
   "outputs": [],
   "source": [
    "DIN_dataframe = pd.DataFrame(DIN_state_array)"
   ]
  },
  {
   "cell_type": "code",
   "execution_count": null,
   "id": "d0d4a65c",
   "metadata": {},
   "outputs": [],
   "source": [
    "DIN_dataframe[\"trial_number\"] = DIN_dataframe[\"state\"].cumsum()"
   ]
  },
  {
   "cell_type": "code",
   "execution_count": null,
   "id": "68e16b67",
   "metadata": {},
   "outputs": [],
   "source": [
    "DIN_dataframe"
   ]
  },
  {
   "cell_type": "code",
   "execution_count": null,
   "id": "89f82716",
   "metadata": {},
   "outputs": [],
   "source": [
    "ephy_and_video_dataframe = pd.merge(ephy_and_video_dataframe, DIN_dataframe, left_on='voltage_time_stamp', right_on='time', how=\"left\")\n"
   ]
  },
  {
   "cell_type": "code",
   "execution_count": null,
   "id": "1ee80db9",
   "metadata": {},
   "outputs": [],
   "source": [
    "ephy_and_video_dataframe.head()"
   ]
  },
  {
   "cell_type": "code",
   "execution_count": null,
   "id": "19153995",
   "metadata": {},
   "outputs": [],
   "source": [
    "tone_info_dataframe = ephy_and_video_dataframe.dropna(subset=[\"time\"]).reset_index(drop=True)"
   ]
  },
  {
   "cell_type": "code",
   "execution_count": null,
   "id": "28c4e59c",
   "metadata": {},
   "outputs": [],
   "source": [
    "tone_info_dataframe"
   ]
  },
  {
   "cell_type": "code",
   "execution_count": null,
   "id": "5a6926b8",
   "metadata": {},
   "outputs": [],
   "source": [
    "ephy_and_video_dataframe[\"filled_state\"] = ephy_and_video_dataframe[\"state\"].ffill()\n",
    "ephy_and_video_dataframe[\"filled_trial_number\"] = ephy_and_video_dataframe[\"trial_number\"].ffill()"
   ]
  },
  {
   "cell_type": "code",
   "execution_count": null,
   "id": "460fad0d",
   "metadata": {},
   "outputs": [],
   "source": [
    "ephy_and_video_dataframe.head()"
   ]
  },
  {
   "cell_type": "code",
   "execution_count": null,
   "id": "3aa5eeba",
   "metadata": {
    "scrolled": true
   },
   "outputs": [],
   "source": [
    "ephy_and_video_dataframe.tail()"
   ]
  },
  {
   "cell_type": "code",
   "execution_count": null,
   "id": "22793278",
   "metadata": {
    "scrolled": true
   },
   "outputs": [],
   "source": [
    "trial_1_df = ephy_and_video_dataframe[ephy_and_video_dataframe[\"filled_trial_number\"] == 2]"
   ]
  },
  {
   "cell_type": "code",
   "execution_count": null,
   "id": "79a2d453",
   "metadata": {
    "scrolled": true
   },
   "outputs": [],
   "source": [
    "trial_1_df.head()"
   ]
  },
  {
   "cell_type": "code",
   "execution_count": null,
   "id": "83b4e430",
   "metadata": {
    "scrolled": true
   },
   "outputs": [],
   "source": [
    "file_to_data[\"raw\"]"
   ]
  },
  {
   "cell_type": "code",
   "execution_count": null,
   "id": "8e4a6b59",
   "metadata": {},
   "outputs": [],
   "source": [
    "recording_file_name = file_to_data[\"raw\"][\"raw_group0.dat\"][\"original_file\"]"
   ]
  },
  {
   "cell_type": "code",
   "execution_count": null,
   "id": "0591f143",
   "metadata": {},
   "outputs": [],
   "source": [
    "recording_base_name = os.path.splitext(recording_file_name)[0]"
   ]
  },
  {
   "cell_type": "code",
   "execution_count": null,
   "id": "4f417053",
   "metadata": {},
   "outputs": [],
   "source": [
    "recording_base_name"
   ]
  },
  {
   "cell_type": "code",
   "execution_count": null,
   "id": "51bc7e9c",
   "metadata": {},
   "outputs": [],
   "source": [
    "ephy_and_video_dataframe.to_csv(\"./proc/{}.timestamps.csv\".format(recording_base_name))"
   ]
  },
  {
   "cell_type": "code",
   "execution_count": null,
   "id": "ee8c05ec",
   "metadata": {},
   "outputs": [],
   "source": [
    "raise ValueError()"
   ]
  },
  {
   "cell_type": "code",
   "execution_count": null,
   "id": "a043053d",
   "metadata": {},
   "outputs": [],
   "source": []
  },
  {
   "cell_type": "markdown",
   "id": "0ed54349",
   "metadata": {},
   "source": [
    "- Original frame number(before light turns on)"
   ]
  },
  {
   "cell_type": "code",
   "execution_count": null,
   "id": "597e4161",
   "metadata": {},
   "outputs": [],
   "source": [
    "current_video_frame = trial_1_df[\"filled_frame_number\"].min()"
   ]
  },
  {
   "cell_type": "markdown",
   "id": "37c95f1d",
   "metadata": {},
   "source": [
    "- Corrected frame number(that has the light on)"
   ]
  },
  {
   "cell_type": "code",
   "execution_count": null,
   "id": "d4c4b4e4",
   "metadata": {},
   "outputs": [],
   "source": [
    "corrected_video_frame = current_video_frame + 2"
   ]
  },
  {
   "cell_type": "code",
   "execution_count": null,
   "id": "1a818fea",
   "metadata": {},
   "outputs": [],
   "source": [
    "cap.set(cv2.CAP_PROP_POS_FRAMES, corrected_video_frame)\n"
   ]
  },
  {
   "cell_type": "code",
   "execution_count": null,
   "id": "cd2d23af",
   "metadata": {},
   "outputs": [],
   "source": [
    "_, frame = cap.read()"
   ]
  },
  {
   "cell_type": "code",
   "execution_count": null,
   "id": "e09e38b7",
   "metadata": {},
   "outputs": [],
   "source": [
    "video_file_path"
   ]
  },
  {
   "cell_type": "code",
   "execution_count": null,
   "id": "a45fcaf0",
   "metadata": {},
   "outputs": [],
   "source": [
    "output_directory = \"./proc\""
   ]
  },
  {
   "cell_type": "code",
   "execution_count": null,
   "id": "a03c9c7e",
   "metadata": {},
   "outputs": [],
   "source": [
    "output_directory"
   ]
  },
  {
   "cell_type": "code",
   "execution_count": null,
   "id": "8570ae2a",
   "metadata": {},
   "outputs": [],
   "source": [
    "os.makedirs(output_directory, exist_ok=True)"
   ]
  },
  {
   "cell_type": "code",
   "execution_count": null,
   "id": "40c71ef0",
   "metadata": {},
   "outputs": [],
   "source": [
    "video_file_basename = os.path.basename(video_file_path)"
   ]
  },
  {
   "cell_type": "code",
   "execution_count": null,
   "id": "012bc243",
   "metadata": {},
   "outputs": [],
   "source": [
    "video_file_root = os.path.splitext(video_file_basename)[0]"
   ]
  },
  {
   "cell_type": "code",
   "execution_count": null,
   "id": "f316fef3",
   "metadata": {},
   "outputs": [],
   "source": [
    "video_file_root"
   ]
  },
  {
   "cell_type": "code",
   "execution_count": null,
   "id": "5a45aea9",
   "metadata": {
    "scrolled": true
   },
   "outputs": [],
   "source": [
    "cv2.imwrite(os.path.join(output_directory, '{}.frame_{}.png'.format(video_file_root, corrected_video_frame)), frame)"
   ]
  },
  {
   "cell_type": "raw",
   "id": "fcf0b6f2",
   "metadata": {
    "scrolled": false
   },
   "source": [
    "raise ValueError(\"\"\"Run cell after this one if you want to see the image in Jupyter Notebooks. \n",
    "Make sure that you just exit by pressing the `esc` key on the keyboard. \n",
    "DO NOT press the red X button.\"\"\")"
   ]
  },
  {
   "cell_type": "raw",
   "id": "813b1a1d",
   "metadata": {},
   "source": [
    "\n",
    "\n",
    "cv2.imshow('led_light_on', frame)\n",
    "cv2.waitKey(0)\n",
    "cv2.destroyAllWindows()"
   ]
  },
  {
   "cell_type": "markdown",
   "id": "21f426e0",
   "metadata": {},
   "source": [
    "# OTHER STUFF"
   ]
  },
  {
   "cell_type": "markdown",
   "id": "6ed8edc2",
   "metadata": {},
   "source": [
    "## Getting the specific frame"
   ]
  },
  {
   "cell_type": "code",
   "execution_count": null,
   "id": "80cc891f",
   "metadata": {},
   "outputs": [],
   "source": [
    "frame_count = int(cap.get(cv2.CAP_PROP_FRAME_COUNT))\n",
    "print('Frame count:', frame_count)"
   ]
  },
  {
   "cell_type": "markdown",
   "id": "8220550f",
   "metadata": {},
   "source": [
    "- Original frame number(before light turns on)"
   ]
  },
  {
   "cell_type": "code",
   "execution_count": null,
   "id": "737ae8aa",
   "metadata": {},
   "outputs": [],
   "source": [
    "corrected_video_frame = current_video_frame"
   ]
  },
  {
   "cell_type": "markdown",
   "id": "8aad3166",
   "metadata": {},
   "source": [
    "- Corrected frame number(that has the light on)"
   ]
  },
  {
   "cell_type": "code",
   "execution_count": null,
   "id": "fe96e457",
   "metadata": {},
   "outputs": [],
   "source": [
    "corrected_video_frame = current_video_frame + 2"
   ]
  },
  {
   "cell_type": "code",
   "execution_count": null,
   "id": "d23c15c3",
   "metadata": {},
   "outputs": [],
   "source": [
    "cap.set(cv2.CAP_PROP_POS_FRAMES, corrected_video_frame)\n"
   ]
  },
  {
   "cell_type": "code",
   "execution_count": null,
   "id": "59296bac",
   "metadata": {},
   "outputs": [],
   "source": [
    "_, frame = cap.read()"
   ]
  },
  {
   "cell_type": "code",
   "execution_count": null,
   "id": "c376585c",
   "metadata": {},
   "outputs": [],
   "source": [
    "video_file_path"
   ]
  },
  {
   "cell_type": "code",
   "execution_count": null,
   "id": "7fe7e8f1",
   "metadata": {},
   "outputs": [],
   "source": [
    "output_directory = \"./proc\""
   ]
  },
  {
   "cell_type": "code",
   "execution_count": null,
   "id": "30192113",
   "metadata": {},
   "outputs": [],
   "source": [
    "output_directory"
   ]
  },
  {
   "cell_type": "code",
   "execution_count": null,
   "id": "0dcdb353",
   "metadata": {},
   "outputs": [],
   "source": [
    "os.makedirs(output_directory, exist_ok=True)"
   ]
  },
  {
   "cell_type": "code",
   "execution_count": null,
   "id": "69708f96",
   "metadata": {},
   "outputs": [],
   "source": [
    "video_file_basename = os.path.basename(video_file_path)"
   ]
  },
  {
   "cell_type": "code",
   "execution_count": null,
   "id": "fbf5a1c9",
   "metadata": {},
   "outputs": [],
   "source": [
    "video_file_root = os.path.splitext(video_file_basename)[0]"
   ]
  },
  {
   "cell_type": "code",
   "execution_count": null,
   "id": "86cd5059",
   "metadata": {},
   "outputs": [],
   "source": [
    "video_file_root"
   ]
  },
  {
   "cell_type": "code",
   "execution_count": null,
   "id": "43ed2d34",
   "metadata": {},
   "outputs": [],
   "source": [
    "cv2.imwrite(os.path.join(output_directory, '{}.frame_{}.png'.format(video_file_root, corrected_video_frame)), frame)"
   ]
  },
  {
   "cell_type": "raw",
   "id": "8ac9e68a",
   "metadata": {
    "scrolled": false
   },
   "source": [
    "raise ValueError(\"\"\"Run cell after this one if you want to see the image in Jupyter Notebooks. \n",
    "Make sure that you just exit by pressing the `esc` key on the keyboard. \n",
    "DO NOT press the red X button.\"\"\")"
   ]
  },
  {
   "cell_type": "raw",
   "id": "10caa18d",
   "metadata": {},
   "source": [
    "\n",
    "\n",
    "cv2.imshow('led_light_on', frame)\n",
    "cv2.waitKey(0)\n",
    "cv2.destroyAllWindows()"
   ]
  },
  {
   "cell_type": "markdown",
   "id": "4d3eddef",
   "metadata": {},
   "source": [
    "- Where this video time stamp is(within the list of video time stamps), would be the frame number that corresponds to the ephys recording instance"
   ]
  },
  {
   "cell_type": "code",
   "execution_count": null,
   "id": "320a3b11",
   "metadata": {},
   "outputs": [],
   "source": [
    "current_video_seconds = corrected_video_frame / fps"
   ]
  },
  {
   "cell_type": "code",
   "execution_count": null,
   "id": "f83adf73",
   "metadata": {},
   "outputs": [],
   "source": [
    "current_video_seconds"
   ]
  },
  {
   "cell_type": "code",
   "execution_count": null,
   "id": "bc3ca39c",
   "metadata": {},
   "outputs": [],
   "source": [
    "print(\"MED-PC signal is at {}:{}\".format(int(current_video_seconds // 60), int(current_video_seconds % 60)))"
   ]
  },
  {
   "cell_type": "code",
   "execution_count": null,
   "id": "45ef87bd-5b6e-4290-88fa-2f780ae28b4a",
   "metadata": {},
   "outputs": [],
   "source": []
  },
  {
   "cell_type": "markdown",
   "id": "b58d8c89-bd24-4bbe-a41c-74df50e55f4e",
   "metadata": {},
   "source": [
    "## Looking over the video files"
   ]
  },
  {
   "cell_type": "code",
   "execution_count": null,
   "id": "bbe954df",
   "metadata": {},
   "outputs": [],
   "source": [
    "parent_directory_dict = file_to_data[\".\"]"
   ]
  },
  {
   "cell_type": "code",
   "execution_count": null,
   "id": "7ff36480",
   "metadata": {},
   "outputs": [],
   "source": [
    "video_time_stamp_dict = parent_directory_dict[\"1.videoTimeStamps.cameraHWSync\"]"
   ]
  },
  {
   "cell_type": "code",
   "execution_count": null,
   "id": "1dfb79da",
   "metadata": {},
   "outputs": [],
   "source": [
    "video_time_stamp_dict"
   ]
  },
  {
   "cell_type": "code",
   "execution_count": null,
   "id": "f3e1779e",
   "metadata": {},
   "outputs": [],
   "source": [
    "video_time_stamp_dict[\"data\"]"
   ]
  },
  {
   "cell_type": "code",
   "execution_count": null,
   "id": "198b4fac",
   "metadata": {},
   "outputs": [],
   "source": [
    "video_time_stamp_dict[\"data\"][:5]"
   ]
  },
  {
   "cell_type": "code",
   "execution_count": null,
   "id": "c0edf651",
   "metadata": {},
   "outputs": [],
   "source": [
    "video_time_stamp_dict[\"data\"][-5:]"
   ]
  },
  {
   "cell_type": "code",
   "execution_count": null,
   "id": "ca847a67",
   "metadata": {},
   "outputs": [],
   "source": [
    "video_time_stamp_dict[\"data\"].shape"
   ]
  },
  {
   "cell_type": "code",
   "execution_count": null,
   "id": "770cb9f7-64c5-47ed-83af-64c01bf50bb7",
   "metadata": {},
   "outputs": [],
   "source": []
  },
  {
   "cell_type": "markdown",
   "id": "bdba2205-66fa-40fb-8398-f5a4ee64405a",
   "metadata": {},
   "source": [
    "## Video time to Video frame"
   ]
  },
  {
   "cell_type": "markdown",
   "id": "06a53fdb-0e51-4cec-a8d6-cb9d385b3328",
   "metadata": {},
   "source": [
    "### Reading in video"
   ]
  },
  {
   "cell_type": "code",
   "execution_count": null,
   "id": "a37458ea",
   "metadata": {},
   "outputs": [],
   "source": [
    "raw_data_file_path"
   ]
  },
  {
   "cell_type": "code",
   "execution_count": null,
   "id": "8e946508",
   "metadata": {},
   "outputs": [],
   "source": [
    "video_file_list = glob.glob(os.path.join(raw_data_file_path, \"*.mp4\"))"
   ]
  },
  {
   "cell_type": "code",
   "execution_count": null,
   "id": "30c10fd5",
   "metadata": {},
   "outputs": [],
   "source": [
    "video_file_list"
   ]
  },
  {
   "cell_type": "code",
   "execution_count": null,
   "id": "86d40d28",
   "metadata": {},
   "outputs": [],
   "source": [
    "video_file_path = \"../../data/good/20221125_144832_omission_subject_6_1_and_6_2.rec/omission_6_1/20221125_144832_omission_and_competition_subejct_6_1_and_6_2.1.fixed.mp4\""
   ]
  },
  {
   "cell_type": "code",
   "execution_count": null,
   "id": "a874dbde",
   "metadata": {},
   "outputs": [],
   "source": [
    "# read video from file\n",
    "cap = cv2.VideoCapture(video_file_path)"
   ]
  },
  {
   "cell_type": "markdown",
   "id": "4fbb2865-c10e-4d06-b6d9-32f2f60c27e1",
   "metadata": {},
   "source": [
    "- Getting the number of frames per second"
   ]
  },
  {
   "cell_type": "code",
   "execution_count": null,
   "id": "a6fea79f",
   "metadata": {},
   "outputs": [],
   "source": [
    "fps = cap.get(cv2.CAP_PROP_FPS)"
   ]
  },
  {
   "cell_type": "code",
   "execution_count": null,
   "id": "f17c8e42",
   "metadata": {},
   "outputs": [],
   "source": [
    "fps"
   ]
  },
  {
   "cell_type": "markdown",
   "id": "0f9cff94-1e82-44bd-83d0-220f30493258",
   "metadata": {},
   "source": [
    "- Total number of frames"
   ]
  },
  {
   "cell_type": "code",
   "execution_count": null,
   "id": "ea914a47",
   "metadata": {},
   "outputs": [],
   "source": [
    "total_frame_count = cap.get(cv2.CAP_PROP_FRAME_COUNT)"
   ]
  },
  {
   "cell_type": "code",
   "execution_count": null,
   "id": "9f908e11",
   "metadata": {},
   "outputs": [],
   "source": [
    "total_frame_count\n"
   ]
  },
  {
   "cell_type": "markdown",
   "id": "de3ac569-fb70-4e88-88da-ab1e62666d62",
   "metadata": {},
   "source": [
    "- Calculating the length of the video by dividing the total number of frames by the fps"
   ]
  },
  {
   "cell_type": "code",
   "execution_count": null,
   "id": "9a13ea28",
   "metadata": {},
   "outputs": [],
   "source": [
    "video_length = total_frame_count / fps"
   ]
  },
  {
   "cell_type": "code",
   "execution_count": null,
   "id": "ea106dc7",
   "metadata": {},
   "outputs": [],
   "source": [
    "video_length"
   ]
  },
  {
   "cell_type": "code",
   "execution_count": null,
   "id": "e26e855f-3d50-4493-b8ef-f4344c9c40fa",
   "metadata": {},
   "outputs": [],
   "source": []
  },
  {
   "cell_type": "markdown",
   "id": "2c1234f1-b7c7-4c60-9e98-b6d07f8a17a9",
   "metadata": {},
   "source": [
    "## Video frame to timestamp"
   ]
  },
  {
   "cell_type": "markdown",
   "id": "d82cd656-cbc2-48f7-8822-d4ed28b64176",
   "metadata": {},
   "source": [
    "- Getting the time stamps of the video frames\n",
    "    - Each frame would correspond to each timestamp. Because the sample rate of videos is smaller than ephys recording, the number of video time stamps will be less than that of ephys recordings."
   ]
  },
  {
   "cell_type": "code",
   "execution_count": null,
   "id": "11da4b57",
   "metadata": {},
   "outputs": [],
   "source": [
    "video_time_stamp_dict"
   ]
  },
  {
   "cell_type": "code",
   "execution_count": null,
   "id": "0535c4c9",
   "metadata": {},
   "outputs": [],
   "source": [
    "video_time_stamp_array = np.array(video_time_stamp_dict[\"data\"])"
   ]
  },
  {
   "cell_type": "code",
   "execution_count": null,
   "id": "a045ef1a",
   "metadata": {},
   "outputs": [],
   "source": [
    "video_time_stamp_array[:5]"
   ]
  },
  {
   "cell_type": "code",
   "execution_count": null,
   "id": "e115ea93",
   "metadata": {},
   "outputs": [],
   "source": [
    "video_time_stamp_array[-5:]"
   ]
  },
  {
   "cell_type": "code",
   "execution_count": null,
   "id": "7539309b",
   "metadata": {},
   "outputs": [],
   "source": [
    "video_time_stamp_array.shape"
   ]
  },
  {
   "cell_type": "markdown",
   "id": "c2dcc91c-44ed-4064-953a-3c683ce1efb5",
   "metadata": {},
   "source": [
    "- Getting only the first number in each tuple"
   ]
  },
  {
   "cell_type": "code",
   "execution_count": null,
   "id": "b8ee7854",
   "metadata": {},
   "outputs": [],
   "source": [
    "pos_timestamp_array = np.array([x[0] for x in video_time_stamp_array]) "
   ]
  },
  {
   "cell_type": "markdown",
   "id": "1c6f1b99-69eb-4e99-a4ab-bdd396e4e234",
   "metadata": {},
   "source": [
    "- Converting to integer to do calculations"
   ]
  },
  {
   "cell_type": "code",
   "execution_count": null,
   "id": "83cac3c6",
   "metadata": {},
   "outputs": [],
   "source": [
    "pos_timestamp_array = pos_timestamp_array.astype(int)"
   ]
  },
  {
   "cell_type": "code",
   "execution_count": null,
   "id": "cc05c0ad",
   "metadata": {},
   "outputs": [],
   "source": [
    "pos_timestamp_array[:5]"
   ]
  },
  {
   "cell_type": "code",
   "execution_count": null,
   "id": "c874a0a2",
   "metadata": {},
   "outputs": [],
   "source": [
    "pos_timestamp_array[-5:]"
   ]
  },
  {
   "cell_type": "code",
   "execution_count": null,
   "id": "06549260-41c5-4ac0-87ee-cd3cc00383ea",
   "metadata": {},
   "outputs": [],
   "source": []
  },
  {
   "cell_type": "markdown",
   "id": "9c7a895c-2e3c-401a-9189-b39311cf52bd",
   "metadata": {},
   "source": [
    "## Time Stamp to Video Frame"
   ]
  },
  {
   "cell_type": "code",
   "execution_count": null,
   "id": "4429510f",
   "metadata": {},
   "outputs": [],
   "source": [
    "video_time_stamp_array"
   ]
  },
  {
   "cell_type": "code",
   "execution_count": null,
   "id": "f528eac7",
   "metadata": {},
   "outputs": [],
   "source": [
    "pos_timestamp_array"
   ]
  },
  {
   "cell_type": "markdown",
   "id": "d6f4e435-84fe-4b11-aade-9297a4ff2bc1",
   "metadata": {},
   "source": [
    "- Getting the index of the closest timestamp. The index corresponds to the video's frame number"
   ]
  },
  {
   "cell_type": "code",
   "execution_count": null,
   "id": "eb728faf",
   "metadata": {},
   "outputs": [],
   "source": [
    "random_video_frame = timestamp_to_index(current_ts=pos_timestamp_array[0], ts_array=pos_timestamp_array)"
   ]
  },
  {
   "cell_type": "code",
   "execution_count": null,
   "id": "afe434a4",
   "metadata": {},
   "outputs": [],
   "source": [
    "random_video_frame"
   ]
  },
  {
   "cell_type": "code",
   "execution_count": null,
   "id": "651bc7af",
   "metadata": {},
   "outputs": [],
   "source": [
    "pos_timestamp_array[random_video_frame]"
   ]
  }
 ],
 "metadata": {
  "kernelspec": {
   "display_name": "Python 3 (ipykernel)",
   "language": "python",
   "name": "python3"
  },
  "language_info": {
   "codemirror_mode": {
    "name": "ipython",
    "version": 3
   },
   "file_extension": ".py",
   "mimetype": "text/x-python",
   "name": "python",
   "nbconvert_exporter": "python",
   "pygments_lexer": "ipython3",
   "version": "3.9.16"
  }
 },
 "nbformat": 4,
 "nbformat_minor": 5
}
