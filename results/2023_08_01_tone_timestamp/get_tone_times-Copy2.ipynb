{
 "cells": [
  {
   "cell_type": "markdown",
   "id": "238a6b1a",
   "metadata": {},
   "source": [
    "# Spike Gadgets Ephys and Video Syncing"
   ]
  },
  {
   "cell_type": "code",
   "execution_count": 1,
   "id": "7650e225",
   "metadata": {},
   "outputs": [],
   "source": [
    "import re\n",
    "import sys\n",
    "from collections import defaultdict\n",
    "import random\n",
    "from random import randrange\n",
    "import glob\n",
    "import warnings\n",
    "import os"
   ]
  },
  {
   "cell_type": "code",
   "execution_count": 2,
   "id": "708b2d99",
   "metadata": {},
   "outputs": [],
   "source": [
    "import numpy as np\n",
    "import pandas as pd\n",
    "from IPython.display import Video\n",
    "import matplotlib.pyplot as plt"
   ]
  },
  {
   "cell_type": "code",
   "execution_count": 3,
   "id": "a0a6d069",
   "metadata": {},
   "outputs": [],
   "source": [
    "# setting path\n",
    "sys.path.append('../../src')"
   ]
  },
  {
   "cell_type": "code",
   "execution_count": 4,
   "id": "2c463f5c",
   "metadata": {},
   "outputs": [],
   "source": [
    "import trodes.read_exported"
   ]
  },
  {
   "cell_type": "code",
   "execution_count": 5,
   "id": "9a656325",
   "metadata": {},
   "outputs": [],
   "source": [
    "%matplotlib inline"
   ]
  },
  {
   "cell_type": "code",
   "execution_count": 6,
   "id": "2a850939",
   "metadata": {},
   "outputs": [],
   "source": [
    "np.random.seed(seed=42)"
   ]
  },
  {
   "cell_type": "markdown",
   "id": "47e5f0e3",
   "metadata": {},
   "source": [
    "# Part 0: Index of all the column names"
   ]
  },
  {
   "cell_type": "markdown",
   "id": "9ae18439",
   "metadata": {},
   "source": [
    "raw directory\n",
    "- raw_group0.dat\n",
    "    - voltage_value: Array with voltage measurement for each channel at each timestamp\n",
    "- timestamps.dat\n",
    "    - voltage_time_stamp: The time stamp of each voltage measurement\n",
    "\n",
    "parent directory\n",
    "- 1.videoTimeStamps.cameraHWSync\n",
    "    - frame_number: Calculated by getting the index of each video time stamp tuple \n",
    "    - PosTimestamp: The time stamp of each video frame\n",
    "    - HWframeCount: Unknown value. Starts at 30742 and increases by 1 for each tuple  \n",
    "    - HWTimestamp: Unknown value. All zeroes\n",
    "    - video_time: Calculated by dividing the frame number by the fps(frames per second) \n",
    "    - video_seconds: video_time, but rounded to seconds  \t\n",
    "    - These are filled in versions of the above collumns with the value from the most recent previous cell\n",
    "        - filled_PosTimestamp \t\n",
    "        - filledHWframeCount \t\n",
    "        - filled_frame_number \t\n",
    "        - filled_video_time \t\n",
    "        - filled_video_seconds \t\n",
    "\n",
    "DIO directory\n",
    "- dio_ECU_Din1.dat\n",
    "    - time: The time stamp the corresponds to the DIN input\n",
    "    - state: Binary state of whether there is input from DIN or not \t\n",
    "    - trial_number: Calculated by adding 1 to every time there is a DIN input\n",
    "    - These are filled in versions of the above collumns with the value from the most recent previous cell\n",
    "        - filled_state \t\n",
    "        - filled_trial_number\n",
    "\n",
    "ss_output directory (Spike sorting with Spike interface)\n",
    "- firings.npz\n",
    "    - unit_id: All the units that had a spike train for the given timestamp \t\n",
    "    - number_of_units: Calculated by counting the number of units that had a spike train"
   ]
  },
  {
   "cell_type": "markdown",
   "id": "0a766d9c",
   "metadata": {},
   "source": [
    "# Part 1: Inputting Data"
   ]
  },
  {
   "cell_type": "markdown",
   "id": "88a3e0d2",
   "metadata": {},
   "source": [
    "## Name of protocol for naming"
   ]
  },
  {
   "cell_type": "markdown",
   "id": "6df81b81",
   "metadata": {},
   "source": [
    "- This name will be used to name files and title plots. Please change if you are using a different protocol or adding more details\n",
    "    - **NOTE**: This should be changed based on the name the protocol"
   ]
  },
  {
   "cell_type": "code",
   "execution_count": 7,
   "id": "1cca08a6",
   "metadata": {},
   "outputs": [],
   "source": [
    "protocol_name = \"rc_extention\""
   ]
  },
  {
   "cell_type": "markdown",
   "id": "abf902c0",
   "metadata": {},
   "source": [
    "## Getting the file name of the raw data"
   ]
  },
  {
   "cell_type": "markdown",
   "id": "de61251a",
   "metadata": {},
   "source": [
    "- Default input folder and keyword to search the files for \n",
    "    - **NOTE**: This should not be changed unless there is a consistent change with the file naming convention"
   ]
  },
  {
   "cell_type": "code",
   "execution_count": 8,
   "id": "10271e7e",
   "metadata": {},
   "outputs": [],
   "source": [
    "input_folder = \"./data\""
   ]
  },
  {
   "cell_type": "code",
   "execution_count": 9,
   "id": "134d6f66",
   "metadata": {},
   "outputs": [],
   "source": [
    "# Accomodates for both capitalization of the file names\n",
    "raw_data_file_keyword = '*[mM]edpc*'"
   ]
  },
  {
   "cell_type": "markdown",
   "id": "046c9c0b",
   "metadata": {},
   "source": [
    "- Asking the user what the path to the recording files are, with the option of using wildcards"
   ]
  },
  {
   "cell_type": "raw",
   "id": "04bbe9c4",
   "metadata": {},
   "source": [
    "raw_data_glob_pattern = input(\"\"\"Type out the path(address) of the raw behavioral recording excel sheets.\n",
    "Remember that if you are using a relative path, it will be based off of the location of this Jupyter Notebook.\n",
    "\n",
    "Globbing can also be used if you want to search with a wild card(Capitalization matters). \n",
    "i.e. './data/*medpc*' will be able to find './data/mice_with_tethered_with_medpc_20220907_140232.rec'\n",
    "\n",
    "NOTE: If left blank, the path will automatically be guessed off of the default settings \n",
    "\"\"\")"
   ]
  },
  {
   "cell_type": "markdown",
   "id": "b2aa48e2",
   "metadata": {},
   "source": [
    "- Make this cell into non-code block if you are using the same file path for multiple runs"
   ]
  },
  {
   "cell_type": "code",
   "execution_count": 10,
   "id": "6b7880eb",
   "metadata": {},
   "outputs": [],
   "source": [
    "raw_data_glob_pattern = \"/scratch/back_up/reward_competition_extention/data/omission/2023_06_18/20230618_100636_standard_comp_to_omission_D2_subj_1-4_and_1-1.rec/\""
   ]
  },
  {
   "cell_type": "markdown",
   "id": "4b22a422",
   "metadata": {},
   "source": [
    "- By default, this will search for files that are in the `./data` folder (in the folder that this notebook is in) that have key word you specified in the file name"
   ]
  },
  {
   "cell_type": "code",
   "execution_count": 11,
   "id": "085c87db",
   "metadata": {},
   "outputs": [],
   "source": [
    "# Using the user inputted path/pattern\n",
    "if raw_data_glob_pattern.strip():\n",
    "    # Getting a list of all matching files\n",
    "    raw_data_files_list = glob.glob(raw_data_glob_pattern.strip())\n",
    "    # Checking if there were any files that matched\n",
    "    if raw_data_files_list:\n",
    "        raw_data_file_path = raw_data_files_list[0]\n",
    "    else:\n",
    "        raise ValueError(\"No files were found with the path/pattern of {}. Please rerun the previous cell with the correct path\".format(raw_data_glob_pattern))\n",
    "\n",
    "# Using the default pattern\n",
    "else:\n",
    "    # Searching for matching files with recursion\n",
    "    if glob.glob(os.path.join(input_folder + \"**\", raw_data_file_keyword)):\n",
    "        raw_data_glob_pattern = os.path.join(input_folder + \"**\", raw_data_file_keyword)\n",
    "        # Getting a list of all matching files\n",
    "        raw_data_files_list = glob.glob(raw_data_glob_pattern)\n",
    "    # Searching for matching files only in the specified folder\n",
    "    elif glob.glob(os.path.join(input_folder, raw_data_file_keyword)):\n",
    "        raw_data_glob_pattern = glob.glob(os.path.join(input_folder, raw_data_file_keyword))\n",
    "        # Getting a list of all matching files\n",
    "        raw_data_files_list = glob.glob(raw_data_glob_pattern)\n",
    "    else:\n",
    "        raise ValueError(\"No files were found in {} that had the keyword {} in it\".format(input_folder, raw_data_file_keyword))\n"
   ]
  },
  {
   "cell_type": "markdown",
   "id": "3dcea096",
   "metadata": {},
   "source": [
    "- Checking to see if only one file is specified"
   ]
  },
  {
   "cell_type": "code",
   "execution_count": 12,
   "id": "6ef4f1dc",
   "metadata": {
    "scrolled": true
   },
   "outputs": [],
   "source": [
    "if len(raw_data_files_list) >= 2:\n",
    "    raise ValueError(\"More than one file was found with the path/pattern of {}. Please rerun the previous cell with the correct path\".format(raw_data_glob_pattern))\n",
    "else:\n",
    "    # Using the first(and only file) as the file path\n",
    "    raw_data_file_path = raw_data_files_list[0]"
   ]
  },
  {
   "cell_type": "code",
   "execution_count": 13,
   "id": "e3da4352",
   "metadata": {
    "scrolled": true
   },
   "outputs": [
    {
     "data": {
      "text/plain": [
       "['/scratch/back_up/reward_competition_extention/data/omission/2023_06_18/20230618_100636_standard_comp_to_omission_D2_subj_1-4_and_1-1.rec/20230618_100636_standard_comp_to_omission_D2_subj_1_4_t4b3L_box1_merged.rec',\n",
       " '/scratch/back_up/reward_competition_extention/data/omission/2023_06_18/20230618_100636_standard_comp_to_omission_D2_subj_1-4_and_1-1.rec/20230618_100636_standard_comp_to_omission_D2_subj_1-4_and_1-1.2.trackgeometry',\n",
       " '/scratch/back_up/reward_competition_extention/data/omission/2023_06_18/20230618_100636_standard_comp_to_omission_D2_subj_1-4_and_1-1.rec/20230618_100636_standard_comp_to_omission_D2_subj_1-4_and_1-1.1.videoTimeStamps.cameraHWSync',\n",
       " '/scratch/back_up/reward_competition_extention/data/omission/2023_06_18/20230618_100636_standard_comp_to_omission_D2_subj_1-4_and_1-1.rec/20230618_100636_standard_comp_to_omission_D2_subj_1_1_t1b2L_box2_merged.raw',\n",
       " '/scratch/back_up/reward_competition_extention/data/omission/2023_06_18/20230618_100636_standard_comp_to_omission_D2_subj_1-4_and_1-1.rec/20230618_100636_standard_comp_to_omission_D2_subj_1_1_t1b2L_box2_merged.rec',\n",
       " '/scratch/back_up/reward_competition_extention/data/omission/2023_06_18/20230618_100636_standard_comp_to_omission_D2_subj_1-4_and_1-1.rec/20230618_100636_standard_comp_to_omission_D2_subj_1-4_and_1-1.1.videoTimeStamps',\n",
       " '/scratch/back_up/reward_competition_extention/data/omission/2023_06_18/20230618_100636_standard_comp_to_omission_D2_subj_1-4_and_1-1.rec/20230618_100636_standard_comp_to_omission_D2_subj_1-4_and_1-1.2.videoTimeStamps.cameraHWSync',\n",
       " '/scratch/back_up/reward_competition_extention/data/omission/2023_06_18/20230618_100636_standard_comp_to_omission_D2_subj_1-4_and_1-1.rec/20230618_100636_standard_comp_to_omission_D2_subj_1-4_and_1-1.2.h264',\n",
       " '/scratch/back_up/reward_competition_extention/data/omission/2023_06_18/20230618_100636_standard_comp_to_omission_D2_subj_1-4_and_1-1.rec/20230618_100636_standard_comp_to_omission_D2_subj_1_4_t4b3L_box1_merged.timestampoffset',\n",
       " '/scratch/back_up/reward_competition_extention/data/omission/2023_06_18/20230618_100636_standard_comp_to_omission_D2_subj_1-4_and_1-1.rec/20230618_100636_standard_comp_to_omission_D2_subj_1_4_t4b3L_box1_merged.trodesconf',\n",
       " '/scratch/back_up/reward_competition_extention/data/omission/2023_06_18/20230618_100636_standard_comp_to_omission_D2_subj_1-4_and_1-1.rec/20230618_100636_standard_comp_to_omission_D2_subj_1_1_t1b2L_box2_merged.DIO',\n",
       " '/scratch/back_up/reward_competition_extention/data/omission/2023_06_18/20230618_100636_standard_comp_to_omission_D2_subj_1-4_and_1-1.rec/20230618_100636_standard_comp_to_omission_D2_subj_1_4_t4b3L_box1_merged.raw',\n",
       " '/scratch/back_up/reward_competition_extention/data/omission/2023_06_18/20230618_100636_standard_comp_to_omission_D2_subj_1-4_and_1-1.rec/20230618_100636_standard_comp_to_omission_D2_subj_1-4_and_1-1.rec',\n",
       " '/scratch/back_up/reward_competition_extention/data/omission/2023_06_18/20230618_100636_standard_comp_to_omission_D2_subj_1-4_and_1-1.rec/20230618_100636_standard_comp_to_omission_D2_subj_1-4_and_1-1.1.h264',\n",
       " '/scratch/back_up/reward_competition_extention/data/omission/2023_06_18/20230618_100636_standard_comp_to_omission_D2_subj_1-4_and_1-1.rec/20230618_100636_standard_comp_to_omission_D2_subj_1_4_t4b3L_box1_merged.analog',\n",
       " '/scratch/back_up/reward_competition_extention/data/omission/2023_06_18/20230618_100636_standard_comp_to_omission_D2_subj_1-4_and_1-1.rec/logger_raw.dat',\n",
       " '/scratch/back_up/reward_competition_extention/data/omission/2023_06_18/20230618_100636_standard_comp_to_omission_D2_subj_1-4_and_1-1.rec/20230618_100636_standard_comp_to_omission_D2_subj_1_4_t4b3L_box1_merged.time',\n",
       " '/scratch/back_up/reward_competition_extention/data/omission/2023_06_18/20230618_100636_standard_comp_to_omission_D2_subj_1-4_and_1-1.rec/20230618_100636_standard_comp_to_omission_D2_subj_1_1_t1b2L_box2_merged.analog',\n",
       " '/scratch/back_up/reward_competition_extention/data/omission/2023_06_18/20230618_100636_standard_comp_to_omission_D2_subj_1-4_and_1-1.rec/20230618_100636_standard_comp_to_omission_D2_subj_1_1_t1b2L_box2_merged.trodesconf',\n",
       " '/scratch/back_up/reward_competition_extention/data/omission/2023_06_18/20230618_100636_standard_comp_to_omission_D2_subj_1-4_and_1-1.rec/20230618_100636_standard_comp_to_omission_D2_subj_1-4_and_1-1.1.trackgeometry',\n",
       " '/scratch/back_up/reward_competition_extention/data/omission/2023_06_18/20230618_100636_standard_comp_to_omission_D2_subj_1-4_and_1-1.rec/20230618_100636_standard_comp_to_omission_D2_subj_1_1_t1b2L_box2_merged.time',\n",
       " '/scratch/back_up/reward_competition_extention/data/omission/2023_06_18/20230618_100636_standard_comp_to_omission_D2_subj_1-4_and_1-1.rec/20230618_100636_standard_comp_to_omission_D2_subj_1_4_t4b3L_box1_merged.DIO',\n",
       " '/scratch/back_up/reward_competition_extention/data/omission/2023_06_18/20230618_100636_standard_comp_to_omission_D2_subj_1-4_and_1-1.rec/20230618_100636_standard_comp_to_omission_D2_subj_1-4_and_1-1.2.videoTimeStamps',\n",
       " '/scratch/back_up/reward_competition_extention/data/omission/2023_06_18/20230618_100636_standard_comp_to_omission_D2_subj_1-4_and_1-1.rec/20230618_100636_standard_comp_to_omission_D2_subj_1_1_t1b2L_box2_merged.timestampoffset']"
      ]
     },
     "execution_count": 13,
     "metadata": {},
     "output_type": "execute_result"
    }
   ],
   "source": [
    "glob.glob(os.path.join(raw_data_file_path, \"*\"))"
   ]
  },
  {
   "cell_type": "markdown",
   "id": "158520cc",
   "metadata": {},
   "source": [
    "## Extracting the data and the metadata from the Recording folder"
   ]
  },
  {
   "cell_type": "markdown",
   "id": "435d16f3",
   "metadata": {},
   "source": [
    "- Creating a dictionary that has the directory as the key and a dictionary that has the file name as the key and the "
   ]
  },
  {
   "cell_type": "code",
   "execution_count": 18,
   "id": "4f287907",
   "metadata": {},
   "outputs": [
    {
     "name": "stdout",
     "output_type": "stream",
     "text": [
      "Skipping file 20230618_100636_standard_comp_to_omission_D2_subj_1_4_t4b3L_box1_merged.timestampoffset.txt due to error: Settings format not supported\n",
      "Skipping file 20230618_100636_standard_comp_to_omission_D2_subj_1_1_t1b2L_box2_merged.timestampoffset.txt due to error: Settings format not supported\n"
     ]
    }
   ],
   "source": [
    "file_to_data = trodes.read_exported.organize_all_trodes_export(raw_data_file_path)"
   ]
  },
  {
   "cell_type": "markdown",
   "id": "60653a20",
   "metadata": {},
   "source": [
    "- All the folders that were extracted from"
   ]
  },
  {
   "cell_type": "code",
   "execution_count": 19,
   "id": "63573575",
   "metadata": {
    "scrolled": true
   },
   "outputs": [
    {
     "data": {
      "text/plain": [
       "dict_keys(['20230618_100636_standard_comp_to_omission_D2_subj_1_1_t1b2L_box2_merged', '20230618_100636_standard_comp_to_omission_D2_subj_1_4_t4b3L_box1_merged'])"
      ]
     },
     "execution_count": 19,
     "metadata": {},
     "output_type": "execute_result"
    }
   ],
   "source": [
    "file_to_data.keys()"
   ]
  },
  {
   "cell_type": "code",
   "execution_count": 21,
   "id": "66c182b9-d5c7-4021-9d3d-715c37257d6c",
   "metadata": {},
   "outputs": [
    {
     "name": "stdout",
     "output_type": "stream",
     "text": [
      "20230618_100636_standard_comp_to_omission_D2_subj_1_1_t1b2L_box2_merged\n",
      "20230618_100636_standard_comp_to_omission_D2_subj_1_4_t4b3L_box1_merged\n"
     ]
    }
   ],
   "source": [
    "for file_name in file_to_data.keys():\n",
    "    print(file_name)"
   ]
  },
  {
   "cell_type": "markdown",
   "id": "e6b6e27d",
   "metadata": {},
   "source": [
    "- Looking over all the extracted data"
   ]
  },
  {
   "cell_type": "code",
   "execution_count": 23,
   "id": "65329c58",
   "metadata": {},
   "outputs": [
    {
     "name": "stdout",
     "output_type": "stream",
     "text": [
      "Directory: 20230618_100636_standard_comp_to_omission_D2_subj_1_1_t1b2L_box2_merged\n",
      "\tFile Name: raw\n",
      "\n",
      " \t \t Trodes Data Type: raw_group0\n",
      "\t \t Python Type: <class 'dict'>\n",
      "\n",
      " \t \t Trodes Data Type: coordinates\n",
      "\t \t Python Type: <class 'dict'>\n",
      "\n",
      " \t \t Trodes Data Type: timestamps\n",
      "\t \t Python Type: <class 'dict'>\n",
      "\tFile Name: DIO\n",
      "\n",
      " \t \t Trodes Data Type: dio_ECU_Dout3\n",
      "\t \t Python Type: <class 'dict'>\n",
      "\n",
      " \t \t Trodes Data Type: dio_ECU_Din1\n",
      "\t \t Python Type: <class 'dict'>\n",
      "\n",
      " \t \t Trodes Data Type: dio_ECU_Dout1\n",
      "\t \t Python Type: <class 'dict'>\n",
      "\n",
      " \t \t Trodes Data Type: dio_ECU_Din4\n",
      "\t \t Python Type: <class 'dict'>\n",
      "\n",
      " \t \t Trodes Data Type: dio_ECU_Dout4\n",
      "\t \t Python Type: <class 'dict'>\n",
      "\n",
      " \t \t Trodes Data Type: dio_ECU_Din3\n",
      "\t \t Python Type: <class 'dict'>\n",
      "\n",
      " \t \t Trodes Data Type: dio_ECU_Dout2\n",
      "\t \t Python Type: <class 'dict'>\n",
      "\n",
      " \t \t Trodes Data Type: dio_ECU_Din2\n",
      "\t \t Python Type: <class 'dict'>\n",
      "\tFile Name: analog\n",
      "\n",
      " \t \t Trodes Data Type: timestamps\n",
      "\t \t Python Type: <class 'dict'>\n",
      "\tFile Name: time\n",
      "\n",
      " \t \t Trodes Data Type: timestamps\n",
      "\t \t Python Type: <class 'dict'>\n",
      "\tFile Name: timestampoffset\n",
      "Directory: 20230618_100636_standard_comp_to_omission_D2_subj_1_4_t4b3L_box1_merged\n",
      "\tFile Name: timestampoffset\n",
      "\tFile Name: raw\n",
      "\n",
      " \t \t Trodes Data Type: coordinates\n",
      "\t \t Python Type: <class 'dict'>\n",
      "\n",
      " \t \t Trodes Data Type: timestamps\n",
      "\t \t Python Type: <class 'dict'>\n",
      "\n",
      " \t \t Trodes Data Type: raw_group0\n",
      "\t \t Python Type: <class 'dict'>\n",
      "\tFile Name: analog\n",
      "\n",
      " \t \t Trodes Data Type: timestamps\n",
      "\t \t Python Type: <class 'dict'>\n",
      "\tFile Name: time\n",
      "\n",
      " \t \t Trodes Data Type: timestamps\n",
      "\t \t Python Type: <class 'dict'>\n",
      "\tFile Name: DIO\n",
      "\n",
      " \t \t Trodes Data Type: dio_ECU_Dout3\n",
      "\t \t Python Type: <class 'dict'>\n",
      "\n",
      " \t \t Trodes Data Type: dio_ECU_Din2\n",
      "\t \t Python Type: <class 'dict'>\n",
      "\n",
      " \t \t Trodes Data Type: dio_ECU_Dout2\n",
      "\t \t Python Type: <class 'dict'>\n",
      "\n",
      " \t \t Trodes Data Type: dio_ECU_Din3\n",
      "\t \t Python Type: <class 'dict'>\n",
      "\n",
      " \t \t Trodes Data Type: dio_ECU_Din4\n",
      "\t \t Python Type: <class 'dict'>\n",
      "\n",
      " \t \t Trodes Data Type: dio_ECU_Dout4\n",
      "\t \t Python Type: <class 'dict'>\n",
      "\n",
      " \t \t Trodes Data Type: dio_ECU_Dout1\n",
      "\t \t Python Type: <class 'dict'>\n",
      "\n",
      " \t \t Trodes Data Type: dio_ECU_Din1\n",
      "\t \t Python Type: <class 'dict'>\n"
     ]
    }
   ],
   "source": [
    "for key, value in file_to_data.items():\n",
    "    print(\"Directory: {}\".format(key))\n",
    "    for file_name, trodes_dict in value.items():\n",
    "        print(\"\\tFile Name: {}\".format(file_name))\n",
    "        for data_type, data_value in trodes_dict.items():\n",
    "            print(\"\\n \\t \\t Trodes Data Type: {}\".format(data_type))\n",
    "            print(\"\\t \\t Python Type: {}\".format(type(data_value)))\n",
    "            # print(\"\\t \\t Data Value: {}\".format(data_value))"
   ]
  },
  {
   "cell_type": "markdown",
   "id": "f44c4083",
   "metadata": {},
   "source": [
    "# Part 2: Looking over the data"
   ]
  },
  {
   "cell_type": "markdown",
   "id": "4813b680",
   "metadata": {},
   "source": [
    "## Looking over the ephys recording"
   ]
  },
  {
   "cell_type": "markdown",
   "id": "8a15e77c",
   "metadata": {},
   "source": [
    "- Getting the name of the ephys recording directory"
   ]
  },
  {
   "cell_type": "code",
   "execution_count": 28,
   "id": "ece6b84d-5036-4e13-a841-e59a1cdbbb8f",
   "metadata": {},
   "outputs": [],
   "source": [
    "subj_1_key = list(file_to_data.keys())[0]\n",
    "subj_2_key = list(file_to_data.keys())[-1]\n"
   ]
  },
  {
   "cell_type": "code",
   "execution_count": 29,
   "id": "ae2a3563",
   "metadata": {
    "scrolled": true
   },
   "outputs": [],
   "source": [
    "raw_directory_dict = file_to_data[subj_1_key][\"raw\"]"
   ]
  },
  {
   "cell_type": "markdown",
   "id": "41113794",
   "metadata": {},
   "source": [
    "- Getting the name of the files in the ephys recording directory"
   ]
  },
  {
   "cell_type": "code",
   "execution_count": 30,
   "id": "3dba9b7c",
   "metadata": {},
   "outputs": [
    {
     "data": {
      "text/plain": [
       "dict_keys(['raw_group0', 'coordinates', 'timestamps'])"
      ]
     },
     "execution_count": 30,
     "metadata": {},
     "output_type": "execute_result"
    }
   ],
   "source": [
    "raw_directory_dict.keys()"
   ]
  },
  {
   "cell_type": "code",
   "execution_count": 32,
   "id": "57f0fd1f",
   "metadata": {},
   "outputs": [],
   "source": [
    "raw_recording_fields_text = raw_directory_dict[\"raw_group0\"]"
   ]
  },
  {
   "cell_type": "code",
   "execution_count": 33,
   "id": "32c63bc8",
   "metadata": {},
   "outputs": [
    {
     "data": {
      "text/plain": [
       "{'description': 'Raw (unfiltered) data for one sorting group',\n",
       " 'byte_order': 'little endian',\n",
       " 'original_file': '20230618_100636_standard_comp_to_omission_D2_subj_1_1_t1b2L_box2_merged.rec',\n",
       " 'clockrate': '20000',\n",
       " 'trodes_version': '2.4.0',\n",
       " 'compile_date': 'May 24 2023',\n",
       " 'compile_time': '10:11:04',\n",
       " 'qt_version': '6.2.2',\n",
       " 'commit_tag': 'heads/Release_2.4.0-0-g1eecf3b7',\n",
       " 'controller_firmware': '3.17',\n",
       " 'headstage_firmware': '2.2',\n",
       " 'controller_serialnum': '00104 00176',\n",
       " 'headstage_serialnum': '01601 00129',\n",
       " 'autosettle': '0',\n",
       " 'smartref': '0',\n",
       " 'gyro': '0',\n",
       " 'accelerometer': '0',\n",
       " 'magnetometer': '0',\n",
       " 'time_offset': '0',\n",
       " 'system_time_at_creation': '1687097219606',\n",
       " 'timestamp_at_creation': '489210',\n",
       " 'first_timestamp': '835680',\n",
       " 'sorting_group': '0',\n",
       " 'num_channels': '32',\n",
       " 'voltage_scaling': '0.195',\n",
       " 'fields': '<voltage 32*int16>',\n",
       " 'data': array([([-600, -504, -547, -973, -731, -587, -222, -668, -476, -525, -536, -565, -707, -654, -724, -932, -632, -985, -795, -722, -537, -387, -504, -547, -654, -415, -457, -543,   11, -102, -415,   -8],),\n",
       "        ([-606, -517, -602, -852, -733, -599, -239, -570, -490, -531, -456, -495, -703, -696, -656, -887, -644, -867, -687, -645, -430, -409, -452, -467, -632, -407, -353, -488,   47,  -65, -386,   40],),\n",
       "        ([-490, -528, -540, -774, -669, -530, -234, -642, -613, -489, -493, -484, -644, -575, -590, -842, -547, -891, -708, -700, -437, -407, -454, -429, -629, -382, -432, -504,   -7,  -35, -414,   83],),\n",
       "        ...,\n",
       "        ([  -1,   -1,   -1,   -1,   -1,   -1,   -1,   -1,   -1,   -1,   -1,   -1,   -1,   -1,   -1,   -1,   -1,   -1,   -1,   -1,   -1,   -1,   -1,   -1,   -1,   -1,   -1,   -1,   -1,   -1,   -1,   -1],),\n",
       "        ([  -1,   -1,   -1,   -1,   -1,   -1,   -1,   -1,   -1,   -1,   -1,   -1,   -1,   -1,   -1,   -1,   -1,   -1,   -1,   -1,   -1,   -1,   -1,   -1,   -1,   -1,   -1,   -1,   -1,   -1,   -1,   -1],),\n",
       "        ([  -1,   -1,   -1,   -1,   -1,   -1,   -1,   -1,   -1,   -1,   -1,   -1,   -1,   -1,   -1,   -1,   -1,   -1,   -1,   -1,   -1,   -1,   -1,   -1,   -1,   -1,   -1,   -1,   -1,   -1,   -1,   -1],)],\n",
       "       dtype=[('voltage', '<i2', (32,))])}"
      ]
     },
     "execution_count": 33,
     "metadata": {},
     "output_type": "execute_result"
    }
   ],
   "source": [
    "raw_recording_fields_text"
   ]
  },
  {
   "cell_type": "markdown",
   "id": "81fcba19",
   "metadata": {},
   "source": [
    "- Array of Voltages for each channel"
   ]
  },
  {
   "cell_type": "code",
   "execution_count": 34,
   "id": "58e5e9a3",
   "metadata": {},
   "outputs": [],
   "source": [
    "voltage_value_array = raw_recording_fields_text[\"data\"]"
   ]
  },
  {
   "cell_type": "code",
   "execution_count": 35,
   "id": "0463b831",
   "metadata": {},
   "outputs": [
    {
     "data": {
      "text/plain": [
       "(65603942,)"
      ]
     },
     "execution_count": 35,
     "metadata": {},
     "output_type": "execute_result"
    }
   ],
   "source": [
    "voltage_value_array.shape"
   ]
  },
  {
   "cell_type": "code",
   "execution_count": 36,
   "id": "eafa5355",
   "metadata": {},
   "outputs": [
    {
     "data": {
      "text/plain": [
       "([-600, -504, -547, -973, -731, -587, -222, -668, -476, -525, -536, -565, -707, -654, -724, -932, -632, -985, -795, -722, -537, -387, -504, -547, -654, -415, -457, -543,   11, -102, -415,   -8],)"
      ]
     },
     "execution_count": 36,
     "metadata": {},
     "output_type": "execute_result"
    }
   ],
   "source": [
    "voltage_value_array[0]"
   ]
  },
  {
   "cell_type": "code",
   "execution_count": 37,
   "id": "65a2f80a",
   "metadata": {},
   "outputs": [
    {
     "data": {
      "text/plain": [
       "32"
      ]
     },
     "execution_count": 37,
     "metadata": {},
     "output_type": "execute_result"
    }
   ],
   "source": [
    "len(voltage_value_array[0][0])"
   ]
  },
  {
   "cell_type": "code",
   "execution_count": 38,
   "id": "223f5461",
   "metadata": {},
   "outputs": [
    {
     "data": {
      "text/plain": [
       "array([([-600, -504, -547, -973, -731, -587, -222, -668, -476, -525, -536, -565, -707, -654, -724, -932, -632, -985, -795, -722, -537, -387, -504, -547, -654, -415, -457, -543,   11, -102, -415,   -8],),\n",
       "       ([-606, -517, -602, -852, -733, -599, -239, -570, -490, -531, -456, -495, -703, -696, -656, -887, -644, -867, -687, -645, -430, -409, -452, -467, -632, -407, -353, -488,   47,  -65, -386,   40],),\n",
       "       ([-490, -528, -540, -774, -669, -530, -234, -642, -613, -489, -493, -484, -644, -575, -590, -842, -547, -891, -708, -700, -437, -407, -454, -429, -629, -382, -432, -504,   -7,  -35, -414,   83],),\n",
       "       ([-512, -491, -561, -736, -596, -445, -200, -618, -522, -399, -543, -401, -599, -612, -564, -750, -560, -897, -735, -677, -416, -340, -424, -398, -525, -362, -257, -469,  -18,  -60, -396,  116],),\n",
       "       ([-485, -579, -470, -776, -637, -490, -232, -513, -511, -410, -615, -489, -574, -633, -579, -727, -499, -822, -646, -633, -488, -328, -359, -413, -540, -446, -365, -420, -104,   19, -350,  159],)],\n",
       "      dtype=[('voltage', '<i2', (32,))])"
      ]
     },
     "execution_count": 38,
     "metadata": {},
     "output_type": "execute_result"
    }
   ],
   "source": [
    "voltage_value_array[:5]"
   ]
  },
  {
   "cell_type": "markdown",
   "id": "c0ff0c21",
   "metadata": {},
   "source": [
    "- Voltage Time Stamps"
   ]
  },
  {
   "cell_type": "code",
   "execution_count": 39,
   "id": "503a175c",
   "metadata": {},
   "outputs": [
    {
     "data": {
      "text/plain": [
       "dict_keys(['raw_group0', 'coordinates', 'timestamps'])"
      ]
     },
     "execution_count": 39,
     "metadata": {},
     "output_type": "execute_result"
    }
   ],
   "source": [
    "raw_directory_dict.keys()"
   ]
  },
  {
   "cell_type": "code",
   "execution_count": 41,
   "id": "c819a86b",
   "metadata": {},
   "outputs": [],
   "source": [
    "voltage_timestamp_array = raw_directory_dict[\"timestamps\"][\"data\"]"
   ]
  },
  {
   "cell_type": "code",
   "execution_count": 42,
   "id": "41e7e2e8",
   "metadata": {},
   "outputs": [
    {
     "data": {
      "text/plain": [
       "array([(835680,), (835681,), (835682,), (835683,), (835684,)],\n",
       "      dtype=[('time', '<u4')])"
      ]
     },
     "execution_count": 42,
     "metadata": {},
     "output_type": "execute_result"
    }
   ],
   "source": [
    "voltage_timestamp_array[:5]"
   ]
  },
  {
   "cell_type": "code",
   "execution_count": 43,
   "id": "c7a6994f",
   "metadata": {},
   "outputs": [
    {
     "data": {
      "text/plain": [
       "array([(66439617,), (66439618,), (66439619,), (66439620,), (66439621,)],\n",
       "      dtype=[('time', '<u4')])"
      ]
     },
     "execution_count": 43,
     "metadata": {},
     "output_type": "execute_result"
    }
   ],
   "source": [
    "voltage_timestamp_array[-5:]"
   ]
  },
  {
   "cell_type": "code",
   "execution_count": 44,
   "id": "f3e85b94",
   "metadata": {},
   "outputs": [
    {
     "data": {
      "text/plain": [
       "(65603942,)"
      ]
     },
     "execution_count": 44,
     "metadata": {},
     "output_type": "execute_result"
    }
   ],
   "source": [
    "voltage_timestamp_array.shape"
   ]
  },
  {
   "cell_type": "markdown",
   "id": "b522864c",
   "metadata": {},
   "source": [
    "- Converting the array to integers to be able to do calculations"
   ]
  },
  {
   "cell_type": "markdown",
   "id": "95765eb5",
   "metadata": {},
   "source": [
    "    - u4 and i2 explanation: https://www.geeksforgeeks.org/data-type-object-dtype-numpy-python/"
   ]
  },
  {
   "cell_type": "code",
   "execution_count": 45,
   "id": "db4a1243",
   "metadata": {},
   "outputs": [],
   "source": [
    "voltage_timestamp_array = voltage_timestamp_array.astype(int)"
   ]
  },
  {
   "cell_type": "code",
   "execution_count": 46,
   "id": "ccb6b4c1",
   "metadata": {},
   "outputs": [
    {
     "data": {
      "text/plain": [
       "array([835680, 835681, 835682, 835683, 835684])"
      ]
     },
     "execution_count": 46,
     "metadata": {},
     "output_type": "execute_result"
    }
   ],
   "source": [
    "voltage_timestamp_array[:5]"
   ]
  },
  {
   "cell_type": "code",
   "execution_count": 47,
   "id": "8a015c1a",
   "metadata": {},
   "outputs": [
    {
     "data": {
      "text/plain": [
       "array([66439617, 66439618, 66439619, 66439620, 66439621])"
      ]
     },
     "execution_count": 47,
     "metadata": {},
     "output_type": "execute_result"
    }
   ],
   "source": [
    "voltage_timestamp_array[-5:]"
   ]
  },
  {
   "cell_type": "code",
   "execution_count": 48,
   "id": "1a7e86db",
   "metadata": {},
   "outputs": [
    {
     "data": {
      "text/plain": [
       "(65603942,)"
      ]
     },
     "execution_count": 48,
     "metadata": {},
     "output_type": "execute_result"
    }
   ],
   "source": [
    "voltage_timestamp_array.shape"
   ]
  },
  {
   "cell_type": "markdown",
   "id": "40304e47",
   "metadata": {},
   "source": [
    "# Part 3: Converting everything into timestamps"
   ]
  },
  {
   "cell_type": "markdown",
   "id": "8a0d9309",
   "metadata": {},
   "source": [
    "## Voltage to timestamp"
   ]
  },
  {
   "cell_type": "markdown",
   "id": "8ad248a4",
   "metadata": {},
   "source": [
    "- Use the matching index to convert between the voltage time stamp and the recording"
   ]
  },
  {
   "cell_type": "code",
   "execution_count": 50,
   "id": "99fb3531",
   "metadata": {},
   "outputs": [],
   "source": [
    "voltage_index = 0"
   ]
  },
  {
   "cell_type": "code",
   "execution_count": 51,
   "id": "e56cf0c6",
   "metadata": {},
   "outputs": [
    {
     "data": {
      "text/plain": [
       "([-600, -504, -547, -973, -731, -587, -222, -668, -476, -525, -536, -565, -707, -654, -724, -932, -632, -985, -795, -722, -537, -387, -504, -547, -654, -415, -457, -543,   11, -102, -415,   -8],)"
      ]
     },
     "execution_count": 51,
     "metadata": {},
     "output_type": "execute_result"
    }
   ],
   "source": [
    "voltage_value_array[voltage_index]"
   ]
  },
  {
   "cell_type": "markdown",
   "id": "88d6e29c",
   "metadata": {},
   "source": [
    "- Getting the associated timestamp of the ephys recording"
   ]
  },
  {
   "cell_type": "code",
   "execution_count": 52,
   "id": "785625cb",
   "metadata": {},
   "outputs": [
    {
     "data": {
      "text/plain": [
       "array([835680, 835681, 835682, 835683, 835684])"
      ]
     },
     "execution_count": 52,
     "metadata": {},
     "output_type": "execute_result"
    }
   ],
   "source": [
    "voltage_timestamp_array[:5]"
   ]
  },
  {
   "cell_type": "code",
   "execution_count": 53,
   "id": "db1c32d6",
   "metadata": {},
   "outputs": [
    {
     "data": {
      "text/plain": [
       "array([66439617, 66439618, 66439619, 66439620, 66439621])"
      ]
     },
     "execution_count": 53,
     "metadata": {},
     "output_type": "execute_result"
    }
   ],
   "source": [
    "voltage_timestamp_array[-5:]"
   ]
  },
  {
   "cell_type": "code",
   "execution_count": 54,
   "id": "fd9af58a",
   "metadata": {},
   "outputs": [],
   "source": [
    "voltage_time_stamp = voltage_timestamp_array[voltage_index]"
   ]
  },
  {
   "cell_type": "code",
   "execution_count": 55,
   "id": "27bc4a59",
   "metadata": {},
   "outputs": [
    {
     "data": {
      "text/plain": [
       "835680"
      ]
     },
     "execution_count": 55,
     "metadata": {},
     "output_type": "execute_result"
    }
   ],
   "source": [
    "voltage_time_stamp"
   ]
  },
  {
   "cell_type": "markdown",
   "id": "a11d9dae",
   "metadata": {},
   "source": [
    "# Part 4: Converting from timestamps back to everything"
   ]
  },
  {
   "cell_type": "code",
   "execution_count": 56,
   "id": "658bb7bd",
   "metadata": {},
   "outputs": [],
   "source": [
    "def timestamp_to_index(current_ts, ts_array):\n",
    "    \"\"\"\n",
    "    \"\"\"\n",
    "    return np.argwhere(ts_array >= current_ts)[0][0]"
   ]
  },
  {
   "cell_type": "markdown",
   "id": "253b9966",
   "metadata": {},
   "source": [
    "## Time stamp to Voltage Value"
   ]
  },
  {
   "cell_type": "code",
   "execution_count": 57,
   "id": "7643caae",
   "metadata": {
    "scrolled": true
   },
   "outputs": [
    {
     "data": {
      "text/plain": [
       "array([  835680,   835681,   835682, ..., 66439619, 66439620, 66439621])"
      ]
     },
     "execution_count": 57,
     "metadata": {},
     "output_type": "execute_result"
    }
   ],
   "source": [
    "voltage_timestamp_array"
   ]
  },
  {
   "cell_type": "code",
   "execution_count": 58,
   "id": "e6bd1de7",
   "metadata": {},
   "outputs": [
    {
     "data": {
      "text/plain": [
       "835680"
      ]
     },
     "execution_count": 58,
     "metadata": {},
     "output_type": "execute_result"
    }
   ],
   "source": [
    "voltage_timestamp_array[0]"
   ]
  },
  {
   "cell_type": "markdown",
   "id": "3d8baa27",
   "metadata": {},
   "source": [
    "- Getting the index of the closest timestamp "
   ]
  },
  {
   "cell_type": "code",
   "execution_count": 59,
   "id": "7fc3a453",
   "metadata": {},
   "outputs": [],
   "source": [
    "random_voltage_index = timestamp_to_index(current_ts=voltage_timestamp_array[0], ts_array=voltage_timestamp_array)"
   ]
  },
  {
   "cell_type": "code",
   "execution_count": 60,
   "id": "54a59712",
   "metadata": {},
   "outputs": [
    {
     "data": {
      "text/plain": [
       "0"
      ]
     },
     "execution_count": 60,
     "metadata": {},
     "output_type": "execute_result"
    }
   ],
   "source": [
    "random_voltage_index"
   ]
  },
  {
   "cell_type": "markdown",
   "id": "eee88278",
   "metadata": {},
   "source": [
    "- Checking if it matches to the original timestamp\n",
    "    - Should be the same, because the sampling rate of the timestamps are based on the ephys recording"
   ]
  },
  {
   "cell_type": "code",
   "execution_count": 61,
   "id": "1822441f",
   "metadata": {
    "scrolled": true
   },
   "outputs": [
    {
     "data": {
      "text/plain": [
       "835680"
      ]
     },
     "execution_count": 61,
     "metadata": {},
     "output_type": "execute_result"
    }
   ],
   "source": [
    "voltage_timestamp_array[random_voltage_index]"
   ]
  },
  {
   "cell_type": "markdown",
   "id": "d1b237a1",
   "metadata": {},
   "source": [
    "- Getting the voltage value based on the index"
   ]
  },
  {
   "cell_type": "code",
   "execution_count": 62,
   "id": "77c53752",
   "metadata": {},
   "outputs": [
    {
     "data": {
      "text/plain": [
       "([-600, -504, -547, -973, -731, -587, -222, -668, -476, -525, -536, -565, -707, -654, -724, -932, -632, -985, -795, -722, -537, -387, -504, -547, -654, -415, -457, -543,   11, -102, -415,   -8],)"
      ]
     },
     "execution_count": 62,
     "metadata": {},
     "output_type": "execute_result"
    }
   ],
   "source": [
    "voltage_value_array[random_voltage_index]"
   ]
  },
  {
   "cell_type": "markdown",
   "id": "5c11546c",
   "metadata": {},
   "source": [
    "# ADDED AFTER"
   ]
  },
  {
   "cell_type": "markdown",
   "id": "c1ce31fe",
   "metadata": {},
   "source": [
    "# Part 4: Syncing everything based on timestamps"
   ]
  },
  {
   "cell_type": "markdown",
   "id": "158f7745",
   "metadata": {},
   "source": [
    "# Syncing with MED-PC"
   ]
  },
  {
   "cell_type": "markdown",
   "id": "018567ac",
   "metadata": {},
   "source": [
    "## Looking over the MED-PC Data"
   ]
  },
  {
   "cell_type": "markdown",
   "id": "8d308f54",
   "metadata": {},
   "source": [
    "- Box 1 Port Entries\n",
    "    - ECU Din3\n",
    "- Box 2 Port Entries\n",
    "    - Controller Din1\n",
    "- Box 1 Tone playing\n",
    "    - ECU Din1"
   ]
  },
  {
   "cell_type": "markdown",
   "id": "9b056dae",
   "metadata": {},
   "source": [
    "### Tone Onset Signal"
   ]
  },
  {
   "cell_type": "code",
   "execution_count": 67,
   "id": "abe63689",
   "metadata": {},
   "outputs": [],
   "source": [
    "tone_onset_DIN_state_array = file_to_data[subj_1_key][\"DIO\"][\"dio_ECU_Din1\"][\"data\"]"
   ]
  },
  {
   "cell_type": "code",
   "execution_count": 68,
   "id": "50404e96",
   "metadata": {},
   "outputs": [
    {
     "data": {
      "text/plain": [
       "array([(  835680, 0), ( 1934930, 1), ( 2134930, 0), ( 4334936, 1),\n",
       "       ( 4534932, 0), ( 6634931, 1), ( 6834928, 0), ( 8434930, 1),\n",
       "       ( 8634927, 0), ( 9534930, 1), ( 9734927, 0), (10534929, 1),\n",
       "       (10734926, 0), (12434926, 1), (12634925, 0), (13934925, 1),\n",
       "       (14134925, 0), (16034924, 1), (16234926, 0), (17034926, 1),\n",
       "       (17234926, 0), (18634925, 1), (18834923, 0), (19934925, 1),\n",
       "       (20134924, 0), (21234922, 1), (21434924, 0), (22234924, 1),\n",
       "       (22434924, 0), (23634923, 1), (23834923, 0), (25534923, 1),\n",
       "       (25734920, 0), (27134920, 1), (27334922, 0), (28534922, 1),\n",
       "       (28734919, 0), (30734921, 1), (30934918, 0), (31934918, 1),\n",
       "       (32134918, 0), (37934919, 1), (38134919, 0), (39134916, 1),\n",
       "       (39334916, 0), (40234916, 1), (40434915, 0), (41534918, 1),\n",
       "       (41734915, 0), (42634918, 1), (42834917, 0), (43634915, 1),\n",
       "       (43834917, 0), (44634917, 1), (44834914, 0), (46734914, 1),\n",
       "       (46934916, 0), (49134915, 1), (49334913, 0), (51534912, 1),\n",
       "       (51734914, 0), (53734914, 1), (53934911, 0), (55434913, 1),\n",
       "       (55634911, 0), (57834912, 1), (58034912, 0), (59034912, 1),\n",
       "       (59234909, 0), (60334909, 1), (60534909, 0), (61534911, 1),\n",
       "       (61734911, 0), (63034911, 1), (63234908, 0), (65034907, 1),\n",
       "       (65234907, 0)], dtype=[('time', '<u4'), ('state', 'u1')])"
      ]
     },
     "execution_count": 68,
     "metadata": {},
     "output_type": "execute_result"
    }
   ],
   "source": [
    "tone_onset_DIN_state_array"
   ]
  },
  {
   "cell_type": "code",
   "execution_count": 69,
   "id": "e710ff42",
   "metadata": {},
   "outputs": [
    {
     "data": {
      "text/plain": [
       "(array([39.,  0.,  0.,  0.,  0.,  0.,  0.,  0.,  0., 38.]),\n",
       " array([0. , 0.1, 0.2, 0.3, 0.4, 0.5, 0.6, 0.7, 0.8, 0.9, 1. ]),\n",
       " <BarContainer object of 10 artists>)"
      ]
     },
     "execution_count": 69,
     "metadata": {},
     "output_type": "execute_result"
    },
    {
     "data": {
      "image/png": "[encoded data removed]",
      "text/plain": [
       "<Figure size 640x480 with 1 Axes>"
      ]
     },
     "metadata": {},
     "output_type": "display_data"
    }
   ],
   "source": [
    "plt.hist([tup[1] for tup in tone_onset_DIN_state_array])"
   ]
  },
  {
   "cell_type": "code",
   "execution_count": 70,
   "id": "b3f107d4",
   "metadata": {},
   "outputs": [
    {
     "data": {
      "text/plain": [
       "Text(0.5, 1.0, 'Din State Change against Timestamps')"
      ]
     },
     "execution_count": 70,
     "metadata": {},
     "output_type": "execute_result"
    },
    {
     "data": {
      "image/png": "[encoded data removed]",
      "text/plain": [
       "<Figure size 640x480 with 1 Axes>"
      ]
     },
     "metadata": {},
     "output_type": "display_data"
    }
   ],
   "source": [
    "plt.plot([tup[0] for tup in tone_onset_DIN_state_array], [tup[1] for tup in tone_onset_DIN_state_array])\n",
    "plt.xlabel(\"Timestamp\")\n",
    "plt.ylabel(\"State\")\n",
    "plt.title(\"Din State Change against Timestamps\")"
   ]
  },
  {
   "cell_type": "markdown",
   "id": "6e212a6d",
   "metadata": {},
   "source": [
    "### Box 1 Port Entries"
   ]
  },
  {
   "cell_type": "code",
   "execution_count": 81,
   "id": "fee4fa1b",
   "metadata": {},
   "outputs": [],
   "source": [
    "box1_port_entries_DIN_state_array = file_to_data[subj_1_key][\"DIO\"][\"dio_ECU_Din2\"][\"data\"]"
   ]
  },
  {
   "cell_type": "code",
   "execution_count": 82,
   "id": "9c7c1288",
   "metadata": {},
   "outputs": [
    {
     "data": {
      "text/plain": [
       "array([(  835680, 0), ( 1624532, 1), ( 1672532, 0), ..., (66357706, 0),\n",
       "       (66382707, 1), (66383707, 0)],\n",
       "      dtype=[('time', '<u4'), ('state', 'u1')])"
      ]
     },
     "execution_count": 82,
     "metadata": {},
     "output_type": "execute_result"
    }
   ],
   "source": [
    "box1_port_entries_DIN_state_array"
   ]
  },
  {
   "cell_type": "code",
   "execution_count": 83,
   "id": "ce8d65cf",
   "metadata": {},
   "outputs": [
    {
     "data": {
      "text/plain": [
       "(array([652.,   0.,   0.,   0.,   0.,   0.,   0.,   0.,   0., 651.]),\n",
       " array([0. , 0.1, 0.2, 0.3, 0.4, 0.5, 0.6, 0.7, 0.8, 0.9, 1. ]),\n",
       " <BarContainer object of 10 artists>)"
      ]
     },
     "execution_count": 83,
     "metadata": {},
     "output_type": "execute_result"
    },
    {
     "data": {
      "image/png": "[encoded data removed]",
      "text/plain": [
       "<Figure size 640x480 with 1 Axes>"
      ]
     },
     "metadata": {},
     "output_type": "display_data"
    }
   ],
   "source": [
    "plt.hist([tup[1] for tup in box1_port_entries_DIN_state_array])"
   ]
  },
  {
   "cell_type": "markdown",
   "id": "8a947d1b",
   "metadata": {},
   "source": [
    "- There is a gap in the middle when the protocol was being changed between competition or omission"
   ]
  },
  {
   "cell_type": "code",
   "execution_count": 84,
   "id": "34b724d3",
   "metadata": {
    "scrolled": true
   },
   "outputs": [
    {
     "data": {
      "text/plain": [
       "Text(0.5, 1.0, 'Din State Change against Timestamps')"
      ]
     },
     "execution_count": 84,
     "metadata": {},
     "output_type": "execute_result"
    },
    {
     "data": {
      "image/png": "[encoded data removed]",
      "text/plain": [
       "<Figure size 640x480 with 1 Axes>"
      ]
     },
     "metadata": {},
     "output_type": "display_data"
    }
   ],
   "source": [
    "plt.plot([tup[0] for tup in box1_port_entries_DIN_state_array], [tup[1] for tup in box1_port_entries_DIN_state_array])\n",
    "plt.xlabel(\"Timestamp\")\n",
    "plt.ylabel(\"State\")\n",
    "plt.title(\"Din State Change against Timestamps\")"
   ]
  },
  {
   "cell_type": "markdown",
   "id": "b7b0e53b",
   "metadata": {},
   "source": [
    "### Box 2 Port Entries"
   ]
  },
  {
   "cell_type": "code",
   "execution_count": 91,
   "id": "177fbc6a",
   "metadata": {},
   "outputs": [],
   "source": [
    "box2_port_entries_DIN_state_array = file_to_data[subj_1_key][\"DIO\"][\"dio_ECU_Din3\"][\"data\"]"
   ]
  },
  {
   "cell_type": "code",
   "execution_count": 92,
   "id": "1f20a231",
   "metadata": {},
   "outputs": [
    {
     "data": {
      "text/plain": [
       "(array([1134.,    0.,    0.,    0.,    0.,    0.,    0.,    0.,    0.,\n",
       "        1133.]),\n",
       " array([0. , 0.1, 0.2, 0.3, 0.4, 0.5, 0.6, 0.7, 0.8, 0.9, 1. ]),\n",
       " <BarContainer object of 10 artists>)"
      ]
     },
     "execution_count": 92,
     "metadata": {},
     "output_type": "execute_result"
    },
    {
     "data": {
      "image/png": "[encoded data removed]",
      "text/plain": [
       "<Figure size 640x480 with 1 Axes>"
      ]
     },
     "metadata": {},
     "output_type": "display_data"
    }
   ],
   "source": [
    "plt.hist([tup[1] for tup in box2_port_entries_DIN_state_array])"
   ]
  },
  {
   "cell_type": "markdown",
   "id": "9459dcea",
   "metadata": {},
   "source": [
    "- This is half the time than the previous port entries, because the mouse was moved to box 1 for half of the session"
   ]
  },
  {
   "cell_type": "code",
   "execution_count": 93,
   "id": "961e32ac",
   "metadata": {
    "scrolled": true
   },
   "outputs": [
    {
     "data": {
      "text/plain": [
       "Text(0.5, 1.0, 'Din State Change against Timestamps')"
      ]
     },
     "execution_count": 93,
     "metadata": {},
     "output_type": "execute_result"
    },
    {
     "data": {
      "image/png": "[encoded data removed]",
      "text/plain": [
       "<Figure size 640x480 with 1 Axes>"
      ]
     },
     "metadata": {},
     "output_type": "display_data"
    }
   ],
   "source": [
    "plt.plot([tup[0] for tup in box2_port_entries_DIN_state_array], [tup[1] for tup in box2_port_entries_DIN_state_array])\n",
    "plt.xlabel(\"Timestamp\")\n",
    "plt.ylabel(\"State\")\n",
    "plt.title(\"Din State Change against Timestamps\")"
   ]
  },
  {
   "cell_type": "markdown",
   "id": "6758ace5",
   "metadata": {},
   "source": [
    "## Labeling the Tone and Port Entries"
   ]
  },
  {
   "cell_type": "markdown",
   "id": "0a8d06dc",
   "metadata": {},
   "source": [
    "# Syncing with MED-PC"
   ]
  },
  {
   "cell_type": "markdown",
   "id": "61c05c87",
   "metadata": {},
   "source": [
    "- List of when the ECU has changed signal. 1 means that the ECU Din1 signal is on, 0 means it's off."
   ]
  },
  {
   "cell_type": "code",
   "execution_count": 94,
   "id": "d4a7dc67",
   "metadata": {},
   "outputs": [
    {
     "data": {
      "text/plain": [
       "array([(  835680, 0), ( 1934930, 1), ( 2134930, 0), ( 4334936, 1),\n",
       "       ( 4534932, 0), ( 6634931, 1), ( 6834928, 0), ( 8434930, 1),\n",
       "       ( 8634927, 0), ( 9534930, 1), ( 9734927, 0), (10534929, 1),\n",
       "       (10734926, 0), (12434926, 1), (12634925, 0), (13934925, 1),\n",
       "       (14134925, 0), (16034924, 1), (16234926, 0), (17034926, 1),\n",
       "       (17234926, 0), (18634925, 1), (18834923, 0), (19934925, 1),\n",
       "       (20134924, 0), (21234922, 1), (21434924, 0), (22234924, 1),\n",
       "       (22434924, 0), (23634923, 1), (23834923, 0), (25534923, 1),\n",
       "       (25734920, 0), (27134920, 1), (27334922, 0), (28534922, 1),\n",
       "       (28734919, 0), (30734921, 1), (30934918, 0), (31934918, 1),\n",
       "       (32134918, 0), (37934919, 1), (38134919, 0), (39134916, 1),\n",
       "       (39334916, 0), (40234916, 1), (40434915, 0), (41534918, 1),\n",
       "       (41734915, 0), (42634918, 1), (42834917, 0), (43634915, 1),\n",
       "       (43834917, 0), (44634917, 1), (44834914, 0), (46734914, 1),\n",
       "       (46934916, 0), (49134915, 1), (49334913, 0), (51534912, 1),\n",
       "       (51734914, 0), (53734914, 1), (53934911, 0), (55434913, 1),\n",
       "       (55634911, 0), (57834912, 1), (58034912, 0), (59034912, 1),\n",
       "       (59234909, 0), (60334909, 1), (60534909, 0), (61534911, 1),\n",
       "       (61734911, 0), (63034911, 1), (63234908, 0), (65034907, 1),\n",
       "       (65234907, 0)], dtype=[('time', '<u4'), ('state', 'u1')])"
      ]
     },
     "execution_count": 94,
     "metadata": {},
     "output_type": "execute_result"
    }
   ],
   "source": [
    "tone_onset_DIN_state_array"
   ]
  },
  {
   "cell_type": "code",
   "execution_count": 123,
   "id": "7df1be2d-9e22-401a-b6f3-7a36ebfc8dbe",
   "metadata": {},
   "outputs": [
    {
     "data": {
      "text/plain": [
       "38.5"
      ]
     },
     "execution_count": 123,
     "metadata": {},
     "output_type": "execute_result"
    }
   ],
   "source": []
  },
  {
   "cell_type": "markdown",
   "id": "1f526f4a",
   "metadata": {},
   "source": [
    "- Checking to see if 1 or 0 is when the tone plays\n",
    "    - Dividing by 20000, because we are recording at a sampling rate at 20000"
   ]
  },
  {
   "cell_type": "code",
   "execution_count": 95,
   "id": "dde749ec",
   "metadata": {},
   "outputs": [
    {
     "data": {
      "text/plain": [
       "835680"
      ]
     },
     "execution_count": 95,
     "metadata": {},
     "output_type": "execute_result"
    }
   ],
   "source": [
    "tone_onset_DIN_state_array[0][0]"
   ]
  },
  {
   "cell_type": "code",
   "execution_count": 96,
   "id": "55ed04ba",
   "metadata": {},
   "outputs": [
    {
     "data": {
      "text/plain": [
       "0"
      ]
     },
     "execution_count": 96,
     "metadata": {},
     "output_type": "execute_result"
    }
   ],
   "source": [
    "tone_onset_DIN_state_array[0][1]"
   ]
  },
  {
   "cell_type": "code",
   "execution_count": 97,
   "id": "d4a6bab6",
   "metadata": {},
   "outputs": [
    {
     "data": {
      "text/plain": [
       "1934930"
      ]
     },
     "execution_count": 97,
     "metadata": {},
     "output_type": "execute_result"
    }
   ],
   "source": [
    "tone_onset_DIN_state_array[1][0]"
   ]
  },
  {
   "cell_type": "code",
   "execution_count": 98,
   "id": "272fd90e",
   "metadata": {},
   "outputs": [
    {
     "data": {
      "text/plain": [
       "1"
      ]
     },
     "execution_count": 98,
     "metadata": {},
     "output_type": "execute_result"
    }
   ],
   "source": [
    "tone_onset_DIN_state_array[1][1]"
   ]
  },
  {
   "cell_type": "code",
   "execution_count": 99,
   "id": "2cd56556",
   "metadata": {},
   "outputs": [
    {
     "data": {
      "text/plain": [
       "2134930"
      ]
     },
     "execution_count": 99,
     "metadata": {},
     "output_type": "execute_result"
    }
   ],
   "source": [
    "tone_onset_DIN_state_array[2][0]"
   ]
  },
  {
   "cell_type": "code",
   "execution_count": 100,
   "id": "b1bf3ee1",
   "metadata": {},
   "outputs": [
    {
     "data": {
      "text/plain": [
       "0"
      ]
     },
     "execution_count": 100,
     "metadata": {},
     "output_type": "execute_result"
    }
   ],
   "source": [
    "tone_onset_DIN_state_array[2][1]"
   ]
  },
  {
   "cell_type": "markdown",
   "id": "d00413be",
   "metadata": {},
   "source": [
    "- So the tone starts when the state is \"1\"\n",
    "    - This can be seen because the time from 1 to 0 is less than 60 seconds"
   ]
  },
  {
   "cell_type": "code",
   "execution_count": 101,
   "id": "48e38b9b",
   "metadata": {},
   "outputs": [],
   "source": [
    "first_delay = (tone_onset_DIN_state_array[1][0] - tone_onset_DIN_state_array[0][0]) / 20000"
   ]
  },
  {
   "cell_type": "code",
   "execution_count": 102,
   "id": "7b6235ff",
   "metadata": {},
   "outputs": [
    {
     "data": {
      "text/plain": [
       "54.9625"
      ]
     },
     "execution_count": 102,
     "metadata": {},
     "output_type": "execute_result"
    }
   ],
   "source": [
    "first_delay"
   ]
  },
  {
   "cell_type": "markdown",
   "id": "1de5c448",
   "metadata": {},
   "source": [
    "- Time difference for on >>> off"
   ]
  },
  {
   "cell_type": "code",
   "execution_count": 103,
   "id": "6795075d",
   "metadata": {},
   "outputs": [
    {
     "data": {
      "text/plain": [
       "110.0003"
      ]
     },
     "execution_count": 103,
     "metadata": {},
     "output_type": "execute_result"
    }
   ],
   "source": [
    "(tone_onset_DIN_state_array[3][0] - tone_onset_DIN_state_array[2][0]) / 20000"
   ]
  },
  {
   "cell_type": "markdown",
   "id": "4d42f97b",
   "metadata": {},
   "source": [
    "- So the tone starts when the state is \"2\"\n",
    "    - This can be seen because the time from 0 to 1 is 60 seconds, the time for one session"
   ]
  },
  {
   "cell_type": "code",
   "execution_count": 104,
   "id": "fec03959",
   "metadata": {},
   "outputs": [
    {
     "data": {
      "text/plain": [
       "10.0"
      ]
     },
     "execution_count": 104,
     "metadata": {},
     "output_type": "execute_result"
    }
   ],
   "source": [
    "(tone_onset_DIN_state_array[2][0] - tone_onset_DIN_state_array[1][0]) / 20000"
   ]
  },
  {
   "cell_type": "markdown",
   "id": "0eafb664",
   "metadata": {},
   "source": [
    "- Getting only the times when the ECU signal was on"
   ]
  },
  {
   "cell_type": "code",
   "execution_count": 105,
   "id": "d2c4e485",
   "metadata": {},
   "outputs": [],
   "source": [
    "tone_din_time = [din_time for din_time, din_state in tone_onset_DIN_state_array if din_state == 1]"
   ]
  },
  {
   "cell_type": "code",
   "execution_count": 106,
   "id": "9124a2fd",
   "metadata": {},
   "outputs": [
    {
     "data": {
      "text/plain": [
       "38"
      ]
     },
     "execution_count": 106,
     "metadata": {},
     "output_type": "execute_result"
    }
   ],
   "source": [
    "len(tone_din_time)"
   ]
  },
  {
   "cell_type": "code",
   "execution_count": 107,
   "id": "7acea383",
   "metadata": {},
   "outputs": [
    {
     "data": {
      "text/plain": [
       "[1934930,\n",
       " 4334936,\n",
       " 6634931,\n",
       " 8434930,\n",
       " 9534930,\n",
       " 10534929,\n",
       " 12434926,\n",
       " 13934925,\n",
       " 16034924,\n",
       " 17034926]"
      ]
     },
     "execution_count": 107,
     "metadata": {},
     "output_type": "execute_result"
    }
   ],
   "source": [
    "tone_din_time[:10]"
   ]
  },
  {
   "cell_type": "code",
   "execution_count": 119,
   "id": "f5cafebb-0fea-47e6-986c-b1b9c08877ae",
   "metadata": {},
   "outputs": [
    {
     "data": {
      "text/plain": [
       "1080"
      ]
     },
     "execution_count": 119,
     "metadata": {},
     "output_type": "execute_result"
    }
   ],
   "source": [
    "1099250 // 20000 *20"
   ]
  },
  {
   "cell_type": "code",
   "execution_count": 120,
   "id": "606ffb9e-ee8c-4691-aac5-b99fb4c609b1",
   "metadata": {},
   "outputs": [
    {
     "data": {
      "text/plain": [
       "3480"
      ]
     },
     "execution_count": 120,
     "metadata": {},
     "output_type": "execute_result"
    }
   ],
   "source": [
    "3499256 // 20000 *20"
   ]
  },
  {
   "cell_type": "markdown",
   "id": "23f446f0-a29b-4bb0-8e6e-68f3f7562a1f",
   "metadata": {},
   "source": [
    "# From tone timestamps to voltage timestamps"
   ]
  },
  {
   "cell_type": "code",
   "execution_count": 126,
   "id": "28d6fc2b-53cd-4963-9a2d-3bd814cc93ad",
   "metadata": {},
   "outputs": [],
   "source": [
    "tone_df = pd.DataFrame(tone_din_time, columns=[\"tone_timestamp\"])"
   ]
  },
  {
   "cell_type": "code",
   "execution_count": 128,
   "id": "dd8faf85-a501-43f2-a023-e87586d59aa2",
   "metadata": {},
   "outputs": [],
   "source": [
    "tone_df[\"tone_index\"] = tone_df[\"tone_timestamp\"] - voltage_timestamp_array[0]"
   ]
  },
  {
   "cell_type": "code",
   "execution_count": 129,
   "id": "842e283f-6e94-4843-b7b5-ca6a087d089c",
   "metadata": {},
   "outputs": [
    {
     "data": {
      "text/html": [
       "<div>\n",
       "<style scoped>\n",
       "    .dataframe tbody tr th:only-of-type {\n",
       "        vertical-align: middle;\n",
       "    }\n",
       "\n",
       "    .dataframe tbody tr th {\n",
       "        vertical-align: top;\n",
       "    }\n",
       "\n",
       "    .dataframe thead th {\n",
       "        text-align: right;\n",
       "    }\n",
       "</style>\n",
       "<table border=\"1\" class=\"dataframe\">\n",
       "  <thead>\n",
       "    <tr style=\"text-align: right;\">\n",
       "      <th></th>\n",
       "      <th>tone_timestamp</th>\n",
       "      <th>tone_index</th>\n",
       "    </tr>\n",
       "  </thead>\n",
       "  <tbody>\n",
       "    <tr>\n",
       "      <th>0</th>\n",
       "      <td>1934930</td>\n",
       "      <td>1099250</td>\n",
       "    </tr>\n",
       "    <tr>\n",
       "      <th>1</th>\n",
       "      <td>4334936</td>\n",
       "      <td>3499256</td>\n",
       "    </tr>\n",
       "    <tr>\n",
       "      <th>2</th>\n",
       "      <td>6634931</td>\n",
       "      <td>5799251</td>\n",
       "    </tr>\n",
       "    <tr>\n",
       "      <th>3</th>\n",
       "      <td>8434930</td>\n",
       "      <td>7599250</td>\n",
       "    </tr>\n",
       "    <tr>\n",
       "      <th>4</th>\n",
       "      <td>9534930</td>\n",
       "      <td>8699250</td>\n",
       "    </tr>\n",
       "  </tbody>\n",
       "</table>\n",
       "</div>"
      ],
      "text/plain": [
       "   tone_timestamp  tone_index\n",
       "0         1934930     1099250\n",
       "1         4334936     3499256\n",
       "2         6634931     5799251\n",
       "3         8434930     7599250\n",
       "4         9534930     8699250"
      ]
     },
     "execution_count": 129,
     "metadata": {},
     "output_type": "execute_result"
    }
   ],
   "source": [
    "tone_df.head()"
   ]
  },
  {
   "cell_type": "code",
   "execution_count": 142,
   "id": "740e4689-647e-4262-9507-d2f2dcee70be",
   "metadata": {},
   "outputs": [],
   "source": [
    "rewarded_or_not = [\"rewarded\", \"rewarded\", \"rewarded\", \"rewarded\", \"rewarded\", \"rewarded\", \"rewarded\", \"rewarded\", \"rewarded\", \"rewarded\", \"rewarded\", \"rewarded\", \"rewarded\", \"rewarded\", \"rewarded\", \"rewarded\", \"rewarded\", \"rewarded\", \"rewarded\", \"rewarded\", \"rewarded\", \"rewarded\", \"rewarded\", \"rewarded\", \"rewarded\", \"rewarded\", \"rewarded\", \"omission\", \"rewarded\", \"rewarded\", \"rewarded\", \"rewarded\", \"rewarded\", \"omission\", \"rewarded\", \"rewarded\", \"rewarded\", \"omission\", \"rewarded\", \"rewarded\", \"rewarded\", \"rewarded\", \"rewarded\", \"rewarded\", \"rewarded\", \"rewarded\", \"rewarded\", \"rewarded\", \"rewarded\", \"rewarded\"]\t\t\t\t\t\t\t"
   ]
  },
  {
   "cell_type": "code",
   "execution_count": 143,
   "id": "34988b2f-987d-47ce-b59a-2999605996d1",
   "metadata": {},
   "outputs": [],
   "source": [
    "tone_df[\"rewarded_or_not\"] = rewarded_or_not[:len(tone_df-1)]"
   ]
  },
  {
   "cell_type": "code",
   "execution_count": 144,
   "id": "83f4b6cd-a77a-4849-a8be-89b887876335",
   "metadata": {},
   "outputs": [],
   "source": [
    "competition_winners = [1.4,\t\t\t\n",
    "1.1,\t\t\t\n",
    "1.1,\t\t\t\n",
    "1.4,\t\t\t\n",
    "1.1,\t\t\t\n",
    "1.4,\t\t\t\n",
    "1.4,\t\t\t\n",
    "1.4,\t\t\t\n",
    "1.1,\t\t\t\n",
    "1.1,\t\t\t \n",
    "1.1,\t\t\t\n",
    "1.1,\t\t\t\n",
    "1.1,\t\t\t\n",
    "1.1,\t\t\t\n",
    "1.1,\t\t\t\n",
    "1.1,\t\t\t \n",
    "1.1,\t\t\t\n",
    "1.1,\t\t\n",
    "1.1,\t\t\t\n",
    "1.4]"
   ]
  },
  {
   "cell_type": "code",
   "execution_count": 145,
   "id": "1c257135-f49e-4106-80a8-5f6393d14190",
   "metadata": {},
   "outputs": [],
   "source": [
    "competition_winners = competition_winners + [0] * 50"
   ]
  },
  {
   "cell_type": "code",
   "execution_count": 148,
   "id": "e65e256e-dc5c-44c6-bcb6-7d30ce5b66dc",
   "metadata": {},
   "outputs": [],
   "source": [
    "tone_df[\"competition_winners\"] = competition_winners[:len(tone_df)]"
   ]
  },
  {
   "cell_type": "code",
   "execution_count": 149,
   "id": "4c433114-0a44-4daa-9ea1-3074d04cc901",
   "metadata": {},
   "outputs": [
    {
     "data": {
      "text/plain": [
       "835680"
      ]
     },
     "execution_count": 149,
     "metadata": {},
     "output_type": "execute_result"
    }
   ],
   "source": [
    "voltage_timestamp_array[0]"
   ]
  },
  {
   "cell_type": "code",
   "execution_count": 151,
   "id": "bb7df4d3-dac1-45ae-bac3-f9b47bb86870",
   "metadata": {},
   "outputs": [],
   "source": [
    "tone_df[\"condition\"] = tone_df.apply(lambda x: x[\"competition_winners\"] if x[\"competition_winners\"] else x[\"rewarded_or_not\"], axis=1)"
   ]
  },
  {
   "cell_type": "code",
   "execution_count": 152,
   "id": "fad5d396-fbda-49e8-a3a6-ce717837fffb",
   "metadata": {
    "scrolled": true
   },
   "outputs": [
    {
     "data": {
      "text/html": [
       "<div>\n",
       "<style scoped>\n",
       "    .dataframe tbody tr th:only-of-type {\n",
       "        vertical-align: middle;\n",
       "    }\n",
       "\n",
       "    .dataframe tbody tr th {\n",
       "        vertical-align: top;\n",
       "    }\n",
       "\n",
       "    .dataframe thead th {\n",
       "        text-align: right;\n",
       "    }\n",
       "</style>\n",
       "<table border=\"1\" class=\"dataframe\">\n",
       "  <thead>\n",
       "    <tr style=\"text-align: right;\">\n",
       "      <th></th>\n",
       "      <th>tone_timestamp</th>\n",
       "      <th>tone_index</th>\n",
       "      <th>rewarded_or_not</th>\n",
       "      <th>competition_winners</th>\n",
       "      <th>condition</th>\n",
       "    </tr>\n",
       "  </thead>\n",
       "  <tbody>\n",
       "    <tr>\n",
       "      <th>0</th>\n",
       "      <td>1934930</td>\n",
       "      <td>1099250</td>\n",
       "      <td>rewarded</td>\n",
       "      <td>1.4</td>\n",
       "      <td>1.4</td>\n",
       "    </tr>\n",
       "    <tr>\n",
       "      <th>1</th>\n",
       "      <td>4334936</td>\n",
       "      <td>3499256</td>\n",
       "      <td>rewarded</td>\n",
       "      <td>1.1</td>\n",
       "      <td>1.1</td>\n",
       "    </tr>\n",
       "    <tr>\n",
       "      <th>2</th>\n",
       "      <td>6634931</td>\n",
       "      <td>5799251</td>\n",
       "      <td>rewarded</td>\n",
       "      <td>1.1</td>\n",
       "      <td>1.1</td>\n",
       "    </tr>\n",
       "    <tr>\n",
       "      <th>3</th>\n",
       "      <td>8434930</td>\n",
       "      <td>7599250</td>\n",
       "      <td>rewarded</td>\n",
       "      <td>1.4</td>\n",
       "      <td>1.4</td>\n",
       "    </tr>\n",
       "    <tr>\n",
       "      <th>4</th>\n",
       "      <td>9534930</td>\n",
       "      <td>8699250</td>\n",
       "      <td>rewarded</td>\n",
       "      <td>1.1</td>\n",
       "      <td>1.1</td>\n",
       "    </tr>\n",
       "    <tr>\n",
       "      <th>5</th>\n",
       "      <td>10534929</td>\n",
       "      <td>9699249</td>\n",
       "      <td>rewarded</td>\n",
       "      <td>1.4</td>\n",
       "      <td>1.4</td>\n",
       "    </tr>\n",
       "    <tr>\n",
       "      <th>6</th>\n",
       "      <td>12434926</td>\n",
       "      <td>11599246</td>\n",
       "      <td>rewarded</td>\n",
       "      <td>1.4</td>\n",
       "      <td>1.4</td>\n",
       "    </tr>\n",
       "    <tr>\n",
       "      <th>7</th>\n",
       "      <td>13934925</td>\n",
       "      <td>13099245</td>\n",
       "      <td>rewarded</td>\n",
       "      <td>1.4</td>\n",
       "      <td>1.4</td>\n",
       "    </tr>\n",
       "    <tr>\n",
       "      <th>8</th>\n",
       "      <td>16034924</td>\n",
       "      <td>15199244</td>\n",
       "      <td>rewarded</td>\n",
       "      <td>1.1</td>\n",
       "      <td>1.1</td>\n",
       "    </tr>\n",
       "    <tr>\n",
       "      <th>9</th>\n",
       "      <td>17034926</td>\n",
       "      <td>16199246</td>\n",
       "      <td>rewarded</td>\n",
       "      <td>1.1</td>\n",
       "      <td>1.1</td>\n",
       "    </tr>\n",
       "    <tr>\n",
       "      <th>10</th>\n",
       "      <td>18634925</td>\n",
       "      <td>17799245</td>\n",
       "      <td>rewarded</td>\n",
       "      <td>1.1</td>\n",
       "      <td>1.1</td>\n",
       "    </tr>\n",
       "    <tr>\n",
       "      <th>11</th>\n",
       "      <td>19934925</td>\n",
       "      <td>19099245</td>\n",
       "      <td>rewarded</td>\n",
       "      <td>1.1</td>\n",
       "      <td>1.1</td>\n",
       "    </tr>\n",
       "    <tr>\n",
       "      <th>12</th>\n",
       "      <td>21234922</td>\n",
       "      <td>20399242</td>\n",
       "      <td>rewarded</td>\n",
       "      <td>1.1</td>\n",
       "      <td>1.1</td>\n",
       "    </tr>\n",
       "    <tr>\n",
       "      <th>13</th>\n",
       "      <td>22234924</td>\n",
       "      <td>21399244</td>\n",
       "      <td>rewarded</td>\n",
       "      <td>1.1</td>\n",
       "      <td>1.1</td>\n",
       "    </tr>\n",
       "    <tr>\n",
       "      <th>14</th>\n",
       "      <td>23634923</td>\n",
       "      <td>22799243</td>\n",
       "      <td>rewarded</td>\n",
       "      <td>1.1</td>\n",
       "      <td>1.1</td>\n",
       "    </tr>\n",
       "    <tr>\n",
       "      <th>15</th>\n",
       "      <td>25534923</td>\n",
       "      <td>24699243</td>\n",
       "      <td>rewarded</td>\n",
       "      <td>1.1</td>\n",
       "      <td>1.1</td>\n",
       "    </tr>\n",
       "    <tr>\n",
       "      <th>16</th>\n",
       "      <td>27134920</td>\n",
       "      <td>26299240</td>\n",
       "      <td>rewarded</td>\n",
       "      <td>1.1</td>\n",
       "      <td>1.1</td>\n",
       "    </tr>\n",
       "    <tr>\n",
       "      <th>17</th>\n",
       "      <td>28534922</td>\n",
       "      <td>27699242</td>\n",
       "      <td>rewarded</td>\n",
       "      <td>1.1</td>\n",
       "      <td>1.1</td>\n",
       "    </tr>\n",
       "    <tr>\n",
       "      <th>18</th>\n",
       "      <td>30734921</td>\n",
       "      <td>29899241</td>\n",
       "      <td>rewarded</td>\n",
       "      <td>1.1</td>\n",
       "      <td>1.1</td>\n",
       "    </tr>\n",
       "    <tr>\n",
       "      <th>19</th>\n",
       "      <td>31934918</td>\n",
       "      <td>31099238</td>\n",
       "      <td>rewarded</td>\n",
       "      <td>1.4</td>\n",
       "      <td>1.4</td>\n",
       "    </tr>\n",
       "    <tr>\n",
       "      <th>20</th>\n",
       "      <td>37934919</td>\n",
       "      <td>37099239</td>\n",
       "      <td>rewarded</td>\n",
       "      <td>0.0</td>\n",
       "      <td>rewarded</td>\n",
       "    </tr>\n",
       "    <tr>\n",
       "      <th>21</th>\n",
       "      <td>39134916</td>\n",
       "      <td>38299236</td>\n",
       "      <td>rewarded</td>\n",
       "      <td>0.0</td>\n",
       "      <td>rewarded</td>\n",
       "    </tr>\n",
       "    <tr>\n",
       "      <th>22</th>\n",
       "      <td>40234916</td>\n",
       "      <td>39399236</td>\n",
       "      <td>rewarded</td>\n",
       "      <td>0.0</td>\n",
       "      <td>rewarded</td>\n",
       "    </tr>\n",
       "    <tr>\n",
       "      <th>23</th>\n",
       "      <td>41534918</td>\n",
       "      <td>40699238</td>\n",
       "      <td>rewarded</td>\n",
       "      <td>0.0</td>\n",
       "      <td>rewarded</td>\n",
       "    </tr>\n",
       "    <tr>\n",
       "      <th>24</th>\n",
       "      <td>42634918</td>\n",
       "      <td>41799238</td>\n",
       "      <td>rewarded</td>\n",
       "      <td>0.0</td>\n",
       "      <td>rewarded</td>\n",
       "    </tr>\n",
       "    <tr>\n",
       "      <th>25</th>\n",
       "      <td>43634915</td>\n",
       "      <td>42799235</td>\n",
       "      <td>rewarded</td>\n",
       "      <td>0.0</td>\n",
       "      <td>rewarded</td>\n",
       "    </tr>\n",
       "    <tr>\n",
       "      <th>26</th>\n",
       "      <td>44634917</td>\n",
       "      <td>43799237</td>\n",
       "      <td>rewarded</td>\n",
       "      <td>0.0</td>\n",
       "      <td>rewarded</td>\n",
       "    </tr>\n",
       "    <tr>\n",
       "      <th>27</th>\n",
       "      <td>46734914</td>\n",
       "      <td>45899234</td>\n",
       "      <td>omission</td>\n",
       "      <td>0.0</td>\n",
       "      <td>omission</td>\n",
       "    </tr>\n",
       "    <tr>\n",
       "      <th>28</th>\n",
       "      <td>49134915</td>\n",
       "      <td>48299235</td>\n",
       "      <td>rewarded</td>\n",
       "      <td>0.0</td>\n",
       "      <td>rewarded</td>\n",
       "    </tr>\n",
       "    <tr>\n",
       "      <th>29</th>\n",
       "      <td>51534912</td>\n",
       "      <td>50699232</td>\n",
       "      <td>rewarded</td>\n",
       "      <td>0.0</td>\n",
       "      <td>rewarded</td>\n",
       "    </tr>\n",
       "    <tr>\n",
       "      <th>30</th>\n",
       "      <td>53734914</td>\n",
       "      <td>52899234</td>\n",
       "      <td>rewarded</td>\n",
       "      <td>0.0</td>\n",
       "      <td>rewarded</td>\n",
       "    </tr>\n",
       "    <tr>\n",
       "      <th>31</th>\n",
       "      <td>55434913</td>\n",
       "      <td>54599233</td>\n",
       "      <td>rewarded</td>\n",
       "      <td>0.0</td>\n",
       "      <td>rewarded</td>\n",
       "    </tr>\n",
       "    <tr>\n",
       "      <th>32</th>\n",
       "      <td>57834912</td>\n",
       "      <td>56999232</td>\n",
       "      <td>rewarded</td>\n",
       "      <td>0.0</td>\n",
       "      <td>rewarded</td>\n",
       "    </tr>\n",
       "    <tr>\n",
       "      <th>33</th>\n",
       "      <td>59034912</td>\n",
       "      <td>58199232</td>\n",
       "      <td>omission</td>\n",
       "      <td>0.0</td>\n",
       "      <td>omission</td>\n",
       "    </tr>\n",
       "    <tr>\n",
       "      <th>34</th>\n",
       "      <td>60334909</td>\n",
       "      <td>59499229</td>\n",
       "      <td>rewarded</td>\n",
       "      <td>0.0</td>\n",
       "      <td>rewarded</td>\n",
       "    </tr>\n",
       "    <tr>\n",
       "      <th>35</th>\n",
       "      <td>61534911</td>\n",
       "      <td>60699231</td>\n",
       "      <td>rewarded</td>\n",
       "      <td>0.0</td>\n",
       "      <td>rewarded</td>\n",
       "    </tr>\n",
       "    <tr>\n",
       "      <th>36</th>\n",
       "      <td>63034911</td>\n",
       "      <td>62199231</td>\n",
       "      <td>rewarded</td>\n",
       "      <td>0.0</td>\n",
       "      <td>rewarded</td>\n",
       "    </tr>\n",
       "    <tr>\n",
       "      <th>37</th>\n",
       "      <td>65034907</td>\n",
       "      <td>64199227</td>\n",
       "      <td>omission</td>\n",
       "      <td>0.0</td>\n",
       "      <td>omission</td>\n",
       "    </tr>\n",
       "  </tbody>\n",
       "</table>\n",
       "</div>"
      ],
      "text/plain": [
       "    tone_timestamp  tone_index rewarded_or_not  competition_winners condition\n",
       "0          1934930     1099250        rewarded                  1.4       1.4\n",
       "1          4334936     3499256        rewarded                  1.1       1.1\n",
       "2          6634931     5799251        rewarded                  1.1       1.1\n",
       "3          8434930     7599250        rewarded                  1.4       1.4\n",
       "4          9534930     8699250        rewarded                  1.1       1.1\n",
       "5         10534929     9699249        rewarded                  1.4       1.4\n",
       "6         12434926    11599246        rewarded                  1.4       1.4\n",
       "7         13934925    13099245        rewarded                  1.4       1.4\n",
       "8         16034924    15199244        rewarded                  1.1       1.1\n",
       "9         17034926    16199246        rewarded                  1.1       1.1\n",
       "10        18634925    17799245        rewarded                  1.1       1.1\n",
       "11        19934925    19099245        rewarded                  1.1       1.1\n",
       "12        21234922    20399242        rewarded                  1.1       1.1\n",
       "13        22234924    21399244        rewarded                  1.1       1.1\n",
       "14        23634923    22799243        rewarded                  1.1       1.1\n",
       "15        25534923    24699243        rewarded                  1.1       1.1\n",
       "16        27134920    26299240        rewarded                  1.1       1.1\n",
       "17        28534922    27699242        rewarded                  1.1       1.1\n",
       "18        30734921    29899241        rewarded                  1.1       1.1\n",
       "19        31934918    31099238        rewarded                  1.4       1.4\n",
       "20        37934919    37099239        rewarded                  0.0  rewarded\n",
       "21        39134916    38299236        rewarded                  0.0  rewarded\n",
       "22        40234916    39399236        rewarded                  0.0  rewarded\n",
       "23        41534918    40699238        rewarded                  0.0  rewarded\n",
       "24        42634918    41799238        rewarded                  0.0  rewarded\n",
       "25        43634915    42799235        rewarded                  0.0  rewarded\n",
       "26        44634917    43799237        rewarded                  0.0  rewarded\n",
       "27        46734914    45899234        omission                  0.0  omission\n",
       "28        49134915    48299235        rewarded                  0.0  rewarded\n",
       "29        51534912    50699232        rewarded                  0.0  rewarded\n",
       "30        53734914    52899234        rewarded                  0.0  rewarded\n",
       "31        55434913    54599233        rewarded                  0.0  rewarded\n",
       "32        57834912    56999232        rewarded                  0.0  rewarded\n",
       "33        59034912    58199232        omission                  0.0  omission\n",
       "34        60334909    59499229        rewarded                  0.0  rewarded\n",
       "35        61534911    60699231        rewarded                  0.0  rewarded\n",
       "36        63034911    62199231        rewarded                  0.0  rewarded\n",
       "37        65034907    64199227        omission                  0.0  omission"
      ]
     },
     "execution_count": 152,
     "metadata": {},
     "output_type": "execute_result"
    }
   ],
   "source": [
    "tone_df"
   ]
  },
  {
   "cell_type": "code",
   "execution_count": 157,
   "id": "595cf73b-fc18-46fe-a819-519f8467e0b1",
   "metadata": {},
   "outputs": [],
   "source": [
    "tone_df.to_csv(\"./20230618_100636_standard_comp_to_omission_D2_subj_1-4_and_1-1.tone_times.csv\")"
   ]
  },
  {
   "cell_type": "code",
   "execution_count": 155,
   "id": "fe1a1634-3ac6-4c8f-bfed-074de296a8c9",
   "metadata": {},
   "outputs": [
    {
     "data": {
      "text/plain": [
       "53.49935583333333"
      ]
     },
     "execution_count": 155,
     "metadata": {},
     "output_type": "execute_result"
    }
   ],
   "source": [
    "64199227/20000/60"
   ]
  },
  {
   "cell_type": "code",
   "execution_count": 118,
   "id": "493fe632-b2fa-4b5e-9c99-08723b257285",
   "metadata": {},
   "outputs": [
    {
     "data": {
      "text/plain": [
       "array([ 1099250,  3499256,  5799251,  7599250,  8699250,  9699249,\n",
       "       11599246, 13099245, 15199244, 16199246, 17799245, 19099245,\n",
       "       20399242, 21399244, 22799243, 24699243, 26299240, 27699242,\n",
       "       29899241, 31099238, 37099239, 38299236, 39399236, 40699238,\n",
       "       41799238, 42799235, 43799237, 45899234, 48299235, 50699232,\n",
       "       52899234, 54599233, 56999232, 58199232, 59499229, 60699231,\n",
       "       62199231, 64199227], dtype=uint32)"
      ]
     },
     "execution_count": 118,
     "metadata": {},
     "output_type": "execute_result"
    }
   ],
   "source": [
    "tone_din_time - voltage_timestamp_array[0]"
   ]
  },
  {
   "cell_type": "code",
   "execution_count": 124,
   "id": "d18daa2d-0dde-40b9-913a-ee6b6e7179f2",
   "metadata": {},
   "outputs": [
    {
     "data": {
      "text/plain": [
       "3209.96135"
      ]
     },
     "execution_count": 124,
     "metadata": {},
     "output_type": "execute_result"
    }
   ],
   "source": [
    "64199227 / 20000"
   ]
  },
  {
   "cell_type": "code",
   "execution_count": null,
   "id": "7b503d9b-aebe-4e8a-a485-c69e6e1fe96f",
   "metadata": {},
   "outputs": [],
   "source": []
  },
  {
   "cell_type": "code",
   "execution_count": null,
   "id": "dec745ff-e12a-4e50-82d7-6b2c3677e919",
   "metadata": {},
   "outputs": [],
   "source": [
    "1099250"
   ]
  },
  {
   "cell_type": "code",
   "execution_count": null,
   "id": "5989fe5c",
   "metadata": {},
   "outputs": [],
   "source": [
    "box1_port_entries_DIN_file_name"
   ]
  },
  {
   "cell_type": "code",
   "execution_count": 112,
   "id": "eb7cc793-4494-4b49-adfe-2783ed64e67a",
   "metadata": {},
   "outputs": [
    {
     "data": {
      "text/plain": [
       "[54,\n",
       " 174,\n",
       " 289,\n",
       " 379,\n",
       " 434,\n",
       " 484,\n",
       " 579,\n",
       " 654,\n",
       " 759,\n",
       " 809,\n",
       " 889,\n",
       " 954,\n",
       " 1019,\n",
       " 1069,\n",
       " 1139,\n",
       " 1234,\n",
       " 1314,\n",
       " 1384,\n",
       " 1494,\n",
       " 1554,\n",
       " 1854,\n",
       " 1914,\n",
       " 1969,\n",
       " 2034,\n",
       " 2089,\n",
       " 2139,\n",
       " 2189,\n",
       " 2294,\n",
       " 2414,\n",
       " 2534,\n",
       " 2644,\n",
       " 2729,\n",
       " 2849,\n",
       " 2909,\n",
       " 2974,\n",
       " 3034,\n",
       " 3109,\n",
       " 3209]"
      ]
     },
     "execution_count": 112,
     "metadata": {},
     "output_type": "execute_result"
    }
   ],
   "source": [
    "voltage_timestamp_array[0]"
   ]
  },
  {
   "cell_type": "code",
   "execution_count": null,
   "id": "5239070a-4f08-441b-86ff-9e68d35b5d58",
   "metadata": {},
   "outputs": [],
   "source": []
  },
  {
   "cell_type": "markdown",
   "id": "99b5e673",
   "metadata": {},
   "source": [
    "# From DIN to Video"
   ]
  },
  {
   "cell_type": "code",
   "execution_count": 109,
   "id": "1c4df58d-f152-402c-a8c3-fa4321d5c14c",
   "metadata": {},
   "outputs": [
    {
     "ename": "ValueError",
     "evalue": "",
     "output_type": "error",
     "traceback": [
      "\u001b[0;31m---------------------------------------------------------------------------\u001b[0m",
      "\u001b[0;31mValueError\u001b[0m                                Traceback (most recent call last)",
      "Cell \u001b[0;32mIn[109], line 1\u001b[0m\n\u001b[0;32m----> 1\u001b[0m \u001b[38;5;28;01mraise\u001b[39;00m \u001b[38;5;167;01mValueError\u001b[39;00m()\n",
      "\u001b[0;31mValueError\u001b[0m: "
     ]
    }
   ],
   "source": [
    "raise ValueError()"
   ]
  },
  {
   "cell_type": "markdown",
   "id": "d912df6b",
   "metadata": {},
   "source": [
    "- State 1 is when the MED-PC signal is being recieved. And 0 is when it is turned off. So we will get the timestamp of when it is first 1."
   ]
  },
  {
   "cell_type": "code",
   "execution_count": 108,
   "id": "0ba4c5d6",
   "metadata": {},
   "outputs": [
    {
     "ename": "NameError",
     "evalue": "name 'DIN_state_array' is not defined",
     "output_type": "error",
     "traceback": [
      "\u001b[0;31m---------------------------------------------------------------------------\u001b[0m",
      "\u001b[0;31mNameError\u001b[0m                                 Traceback (most recent call last)",
      "Cell \u001b[0;32mIn[108], line 1\u001b[0m\n\u001b[0;32m----> 1\u001b[0m \u001b[43mDIN_state_array\u001b[49m\n",
      "\u001b[0;31mNameError\u001b[0m: name 'DIN_state_array' is not defined"
     ]
    }
   ],
   "source": [
    "DIN_state_array"
   ]
  },
  {
   "cell_type": "code",
   "execution_count": null,
   "id": "db7a47bf",
   "metadata": {},
   "outputs": [],
   "source": [
    "tone_time_stamp = [time_state[0] for time_state in DIN_state_array if time_state[1]]"
   ]
  },
  {
   "cell_type": "code",
   "execution_count": null,
   "id": "d889cf6a",
   "metadata": {},
   "outputs": [],
   "source": [
    "example_tone_time_stamp = tone_time_stamp[3]"
   ]
  },
  {
   "cell_type": "code",
   "execution_count": null,
   "id": "e0b1ba5f",
   "metadata": {},
   "outputs": [],
   "source": [
    "example_tone_time_stamp"
   ]
  },
  {
   "cell_type": "markdown",
   "id": "148723da",
   "metadata": {},
   "source": [
    "- Array of the time stamp of all the frames"
   ]
  },
  {
   "cell_type": "code",
   "execution_count": null,
   "id": "268e96b1",
   "metadata": {},
   "outputs": [],
   "source": [
    "pos_timestamp_array"
   ]
  },
  {
   "cell_type": "markdown",
   "id": "1fbe7728",
   "metadata": {},
   "source": [
    "- Getting the first video time stamp that is greater than the voltage time stamp"
   ]
  },
  {
   "cell_type": "code",
   "execution_count": null,
   "id": "1ec60639",
   "metadata": {},
   "outputs": [],
   "source": [
    "current_video_frame = timestamp_to_index(current_ts=example_tone_time_stamp, ts_array=pos_timestamp_array)"
   ]
  },
  {
   "cell_type": "code",
   "execution_count": null,
   "id": "cd06980b",
   "metadata": {
    "scrolled": true
   },
   "outputs": [],
   "source": [
    "current_video_frame"
   ]
  },
  {
   "cell_type": "code",
   "execution_count": null,
   "id": "b3598b8f",
   "metadata": {},
   "outputs": [],
   "source": [
    "timestamp_to_index(current_ts=28625643, ts_array=pos_timestamp_array)"
   ]
  },
  {
   "cell_type": "markdown",
   "id": "c6c58a56",
   "metadata": {},
   "source": [
    "# Syncing up the timestamps using Pandas"
   ]
  },
  {
   "cell_type": "markdown",
   "id": "adafa131",
   "metadata": {},
   "source": [
    "## Adding the Voltage as columns"
   ]
  },
  {
   "cell_type": "code",
   "execution_count": null,
   "id": "478e0b5a",
   "metadata": {},
   "outputs": [],
   "source": [
    "voltage_timestamp_array[:5]"
   ]
  },
  {
   "cell_type": "code",
   "execution_count": null,
   "id": "7223f277",
   "metadata": {},
   "outputs": [],
   "source": [
    "voltage_timestamp_array.shape"
   ]
  },
  {
   "cell_type": "code",
   "execution_count": null,
   "id": "b31e7b98",
   "metadata": {
    "scrolled": true
   },
   "outputs": [],
   "source": [
    "voltage_value_array[:5]"
   ]
  },
  {
   "cell_type": "code",
   "execution_count": null,
   "id": "4c4d2caa",
   "metadata": {},
   "outputs": [],
   "source": [
    "voltage_value_array.shape"
   ]
  },
  {
   "cell_type": "markdown",
   "id": "7210172d",
   "metadata": {},
   "source": [
    "- Adding the voltage timestamps"
   ]
  },
  {
   "cell_type": "code",
   "execution_count": null,
   "id": "c0b74a4a",
   "metadata": {},
   "outputs": [],
   "source": [
    "ephys_dataframe = pd.DataFrame(voltage_timestamp_array, columns=[\"voltage_time_stamp\"])"
   ]
  },
  {
   "cell_type": "code",
   "execution_count": null,
   "id": "c49f894b",
   "metadata": {
    "scrolled": true
   },
   "outputs": [],
   "source": [
    "ephys_dataframe.head()"
   ]
  },
  {
   "cell_type": "markdown",
   "id": "af9c98de",
   "metadata": {},
   "source": [
    "- Adding the voltage value"
   ]
  },
  {
   "cell_type": "raw",
   "id": "6cf9c3dc",
   "metadata": {},
   "source": [
    "# This adds a lot to the dataframe, so uncomment only if necessary\n",
    "ephys_dataframe[\"voltage_value\"] = voltage_value_array.tolist()"
   ]
  },
  {
   "cell_type": "code",
   "execution_count": null,
   "id": "ca97b35f",
   "metadata": {
    "scrolled": true
   },
   "outputs": [],
   "source": [
    "ephys_dataframe.head()"
   ]
  },
  {
   "cell_type": "markdown",
   "id": "03c1db9e",
   "metadata": {},
   "source": [
    "## Adding the video data as columns"
   ]
  },
  {
   "cell_type": "markdown",
   "id": "2a62171a",
   "metadata": {},
   "source": [
    "- Creating a seperate dataframe for video data first"
   ]
  },
  {
   "cell_type": "code",
   "execution_count": null,
   "id": "ba03e7b9",
   "metadata": {},
   "outputs": [],
   "source": [
    "pos_timestamp_array[:5]"
   ]
  },
  {
   "cell_type": "code",
   "execution_count": null,
   "id": "c5c17fbf",
   "metadata": {},
   "outputs": [],
   "source": [
    "pos_timestamp_array[-5:]"
   ]
  },
  {
   "cell_type": "code",
   "execution_count": null,
   "id": "ce05e8ff",
   "metadata": {},
   "outputs": [],
   "source": [
    "video_dataframe = pd.DataFrame(pos_timestamp_array, columns=[\"PosTimestamp\"])"
   ]
  },
  {
   "cell_type": "code",
   "execution_count": null,
   "id": "041d0cac",
   "metadata": {},
   "outputs": [],
   "source": [
    "video_dataframe.head()"
   ]
  },
  {
   "cell_type": "markdown",
   "id": "15f59138",
   "metadata": {},
   "source": [
    "- Adding the frames which would just be the number in the list that the timestamps belongs to"
   ]
  },
  {
   "cell_type": "code",
   "execution_count": null,
   "id": "fb863893",
   "metadata": {
    "scrolled": true
   },
   "outputs": [],
   "source": [
    "video_dataframe.insert(0, 'frame_number', range(1, 1 + len(video_dataframe)))"
   ]
  },
  {
   "cell_type": "markdown",
   "id": "b7de1a73",
   "metadata": {},
   "source": [
    "- Calculating the time within the video by dividing the frame by the fps"
   ]
  },
  {
   "cell_type": "code",
   "execution_count": null,
   "id": "bca73f7b",
   "metadata": {},
   "outputs": [],
   "source": [
    "video_dataframe[\"video_time\"] = video_dataframe[\"frame_number\"] / fps"
   ]
  },
  {
   "cell_type": "code",
   "execution_count": null,
   "id": "58c11371",
   "metadata": {},
   "outputs": [],
   "source": [
    "video_dataframe[\"video_seconds\"] = video_dataframe[\"video_time\"].astype(int)"
   ]
  },
  {
   "cell_type": "code",
   "execution_count": null,
   "id": "926c3823",
   "metadata": {},
   "outputs": [],
   "source": [
    "video_dataframe"
   ]
  },
  {
   "cell_type": "markdown",
   "id": "2801c768",
   "metadata": {},
   "source": [
    "## Combining the ephys and video dataframe into one"
   ]
  },
  {
   "cell_type": "code",
   "execution_count": null,
   "id": "b2ebc832",
   "metadata": {},
   "outputs": [],
   "source": [
    "ephy_and_video_dataframe = pd.merge(ephys_dataframe, video_dataframe, left_on='voltage_time_stamp', right_on='PosTimestamp', how=\"left\")"
   ]
  },
  {
   "cell_type": "code",
   "execution_count": null,
   "id": "9201fbc4",
   "metadata": {},
   "outputs": [],
   "source": [
    "ephy_and_video_dataframe"
   ]
  },
  {
   "cell_type": "code",
   "execution_count": null,
   "id": "29bbcc51",
   "metadata": {},
   "outputs": [],
   "source": [
    "ephy_and_video_dataframe.columns"
   ]
  },
  {
   "cell_type": "markdown",
   "id": "182dadba",
   "metadata": {},
   "source": [
    "- There are only a small number of rows that have information for the video, because the sampling rate is much smaller. "
   ]
  },
  {
   "cell_type": "code",
   "execution_count": null,
   "id": "564ca911",
   "metadata": {},
   "outputs": [],
   "source": [
    "ephy_and_video_dataframe.dropna(subset=[\"PosTimestamp\"])"
   ]
  },
  {
   "cell_type": "markdown",
   "id": "925b2441",
   "metadata": {},
   "source": [
    "- Filling in all the blank cells with the previous rows for the video related columns into new columns. This can be used to select for all rows that correspond to something happening within the video"
   ]
  },
  {
   "cell_type": "code",
   "execution_count": null,
   "id": "e35eaa7b",
   "metadata": {},
   "outputs": [],
   "source": [
    "ephy_and_video_dataframe.columns"
   ]
  },
  {
   "cell_type": "code",
   "execution_count": null,
   "id": "6868e7f6",
   "metadata": {},
   "outputs": [],
   "source": [
    "for col in ephy_and_video_dataframe.columns:\n",
    "    if \"filled\" not in col:\n",
    "        ephy_and_video_dataframe['filled_{}'.format(col)] = ephy_and_video_dataframe[col].fillna(method='ffill')\n"
   ]
  },
  {
   "cell_type": "code",
   "execution_count": null,
   "id": "99b3848e",
   "metadata": {},
   "outputs": [],
   "source": [
    "ephy_and_video_dataframe['filled_PosTimestamp'] = ephy_and_video_dataframe['PosTimestamp'].fillna(method='ffill')\n",
    "ephy_and_video_dataframe['filled_frame_number'] = ephy_and_video_dataframe['frame_number'].fillna(method='ffill')\n",
    "ephy_and_video_dataframe['filled_video_time'] = ephy_and_video_dataframe['video_time'].fillna(method='ffill')\n",
    "ephy_and_video_dataframe['filled_video_seconds'] = ephy_and_video_dataframe['video_seconds'].fillna(method='ffill')"
   ]
  },
  {
   "cell_type": "code",
   "execution_count": null,
   "id": "e343ae63",
   "metadata": {},
   "outputs": [],
   "source": [
    "ephy_and_video_dataframe.tail()"
   ]
  },
  {
   "cell_type": "markdown",
   "id": "bc975896",
   "metadata": {},
   "source": [
    "## Adding the DIN info"
   ]
  },
  {
   "cell_type": "code",
   "execution_count": null,
   "id": "89ba5770",
   "metadata": {},
   "outputs": [],
   "source": [
    "DIN_dataframe = pd.DataFrame(DIN_state_array)"
   ]
  },
  {
   "cell_type": "code",
   "execution_count": null,
   "id": "d0d4a65c",
   "metadata": {},
   "outputs": [],
   "source": [
    "DIN_dataframe[\"trial_number\"] = DIN_dataframe[\"state\"].cumsum()"
   ]
  },
  {
   "cell_type": "code",
   "execution_count": null,
   "id": "68e16b67",
   "metadata": {},
   "outputs": [],
   "source": [
    "DIN_dataframe"
   ]
  },
  {
   "cell_type": "code",
   "execution_count": null,
   "id": "89f82716",
   "metadata": {},
   "outputs": [],
   "source": [
    "ephy_and_video_dataframe = pd.merge(ephy_and_video_dataframe, DIN_dataframe, left_on='voltage_time_stamp', right_on='time', how=\"left\")\n"
   ]
  },
  {
   "cell_type": "code",
   "execution_count": null,
   "id": "1ee80db9",
   "metadata": {},
   "outputs": [],
   "source": [
    "ephy_and_video_dataframe.head()"
   ]
  },
  {
   "cell_type": "code",
   "execution_count": null,
   "id": "19153995",
   "metadata": {},
   "outputs": [],
   "source": [
    "tone_info_dataframe = ephy_and_video_dataframe.dropna(subset=[\"time\"]).reset_index(drop=True)"
   ]
  },
  {
   "cell_type": "code",
   "execution_count": null,
   "id": "28c4e59c",
   "metadata": {},
   "outputs": [],
   "source": [
    "tone_info_dataframe"
   ]
  },
  {
   "cell_type": "code",
   "execution_count": null,
   "id": "5a6926b8",
   "metadata": {},
   "outputs": [],
   "source": [
    "ephy_and_video_dataframe[\"filled_state\"] = ephy_and_video_dataframe[\"state\"].ffill()\n",
    "ephy_and_video_dataframe[\"filled_trial_number\"] = ephy_and_video_dataframe[\"trial_number\"].ffill()"
   ]
  },
  {
   "cell_type": "code",
   "execution_count": null,
   "id": "460fad0d",
   "metadata": {},
   "outputs": [],
   "source": [
    "ephy_and_video_dataframe.head()"
   ]
  },
  {
   "cell_type": "code",
   "execution_count": null,
   "id": "3aa5eeba",
   "metadata": {
    "scrolled": true
   },
   "outputs": [],
   "source": [
    "ephy_and_video_dataframe.tail()"
   ]
  },
  {
   "cell_type": "code",
   "execution_count": null,
   "id": "22793278",
   "metadata": {
    "scrolled": true
   },
   "outputs": [],
   "source": [
    "trial_1_df = ephy_and_video_dataframe[ephy_and_video_dataframe[\"filled_trial_number\"] == 2]"
   ]
  },
  {
   "cell_type": "code",
   "execution_count": null,
   "id": "79a2d453",
   "metadata": {
    "scrolled": true
   },
   "outputs": [],
   "source": [
    "trial_1_df.head()"
   ]
  },
  {
   "cell_type": "code",
   "execution_count": null,
   "id": "83b4e430",
   "metadata": {
    "scrolled": true
   },
   "outputs": [],
   "source": [
    "file_to_data[\"raw\"]"
   ]
  },
  {
   "cell_type": "code",
   "execution_count": null,
   "id": "8e4a6b59",
   "metadata": {},
   "outputs": [],
   "source": [
    "recording_file_name = file_to_data[\"raw\"][\"raw_group0.dat\"][\"original_file\"]"
   ]
  },
  {
   "cell_type": "code",
   "execution_count": null,
   "id": "0591f143",
   "metadata": {},
   "outputs": [],
   "source": [
    "recording_base_name = os.path.splitext(recording_file_name)[0]"
   ]
  },
  {
   "cell_type": "code",
   "execution_count": null,
   "id": "4f417053",
   "metadata": {},
   "outputs": [],
   "source": [
    "recording_base_name"
   ]
  },
  {
   "cell_type": "code",
   "execution_count": null,
   "id": "51bc7e9c",
   "metadata": {},
   "outputs": [],
   "source": [
    "ephy_and_video_dataframe.to_csv(\"./proc/{}.timestamps.csv\".format(recording_base_name))"
   ]
  },
  {
   "cell_type": "code",
   "execution_count": null,
   "id": "ee8c05ec",
   "metadata": {},
   "outputs": [],
   "source": [
    "raise ValueError()"
   ]
  },
  {
   "cell_type": "code",
   "execution_count": null,
   "id": "a043053d",
   "metadata": {},
   "outputs": [],
   "source": []
  },
  {
   "cell_type": "markdown",
   "id": "0ed54349",
   "metadata": {},
   "source": [
    "- Original frame number(before light turns on)"
   ]
  },
  {
   "cell_type": "code",
   "execution_count": null,
   "id": "597e4161",
   "metadata": {},
   "outputs": [],
   "source": [
    "current_video_frame = trial_1_df[\"filled_frame_number\"].min()"
   ]
  },
  {
   "cell_type": "markdown",
   "id": "37c95f1d",
   "metadata": {},
   "source": [
    "- Corrected frame number(that has the light on)"
   ]
  },
  {
   "cell_type": "code",
   "execution_count": null,
   "id": "d4c4b4e4",
   "metadata": {},
   "outputs": [],
   "source": [
    "corrected_video_frame = current_video_frame + 2"
   ]
  },
  {
   "cell_type": "code",
   "execution_count": null,
   "id": "1a818fea",
   "metadata": {},
   "outputs": [],
   "source": [
    "cap.set(cv2.CAP_PROP_POS_FRAMES, corrected_video_frame)\n"
   ]
  },
  {
   "cell_type": "code",
   "execution_count": null,
   "id": "cd2d23af",
   "metadata": {},
   "outputs": [],
   "source": [
    "_, frame = cap.read()"
   ]
  },
  {
   "cell_type": "code",
   "execution_count": null,
   "id": "e09e38b7",
   "metadata": {},
   "outputs": [],
   "source": [
    "video_file_path"
   ]
  },
  {
   "cell_type": "code",
   "execution_count": null,
   "id": "a45fcaf0",
   "metadata": {},
   "outputs": [],
   "source": [
    "output_directory = \"./proc\""
   ]
  },
  {
   "cell_type": "code",
   "execution_count": null,
   "id": "a03c9c7e",
   "metadata": {},
   "outputs": [],
   "source": [
    "output_directory"
   ]
  },
  {
   "cell_type": "code",
   "execution_count": null,
   "id": "8570ae2a",
   "metadata": {},
   "outputs": [],
   "source": [
    "os.makedirs(output_directory, exist_ok=True)"
   ]
  },
  {
   "cell_type": "code",
   "execution_count": null,
   "id": "40c71ef0",
   "metadata": {},
   "outputs": [],
   "source": [
    "video_file_basename = os.path.basename(video_file_path)"
   ]
  },
  {
   "cell_type": "code",
   "execution_count": null,
   "id": "012bc243",
   "metadata": {},
   "outputs": [],
   "source": [
    "video_file_root = os.path.splitext(video_file_basename)[0]"
   ]
  },
  {
   "cell_type": "code",
   "execution_count": null,
   "id": "f316fef3",
   "metadata": {},
   "outputs": [],
   "source": [
    "video_file_root"
   ]
  },
  {
   "cell_type": "code",
   "execution_count": null,
   "id": "5a45aea9",
   "metadata": {
    "scrolled": true
   },
   "outputs": [],
   "source": [
    "cv2.imwrite(os.path.join(output_directory, '{}.frame_{}.png'.format(video_file_root, corrected_video_frame)), frame)"
   ]
  },
  {
   "cell_type": "raw",
   "id": "fcf0b6f2",
   "metadata": {
    "scrolled": false
   },
   "source": [
    "raise ValueError(\"\"\"Run cell after this one if you want to see the image in Jupyter Notebooks. \n",
    "Make sure that you just exit by pressing the `esc` key on the keyboard. \n",
    "DO NOT press the red X button.\"\"\")"
   ]
  },
  {
   "cell_type": "raw",
   "id": "813b1a1d",
   "metadata": {},
   "source": [
    "\n",
    "\n",
    "cv2.imshow('led_light_on', frame)\n",
    "cv2.waitKey(0)\n",
    "cv2.destroyAllWindows()"
   ]
  },
  {
   "cell_type": "markdown",
   "id": "21f426e0",
   "metadata": {},
   "source": [
    "# OTHER STUFF"
   ]
  },
  {
   "cell_type": "markdown",
   "id": "6ed8edc2",
   "metadata": {},
   "source": [
    "## Getting the specific frame"
   ]
  },
  {
   "cell_type": "code",
   "execution_count": null,
   "id": "80cc891f",
   "metadata": {},
   "outputs": [],
   "source": [
    "frame_count = int(cap.get(cv2.CAP_PROP_FRAME_COUNT))\n",
    "print('Frame count:', frame_count)"
   ]
  },
  {
   "cell_type": "markdown",
   "id": "8220550f",
   "metadata": {},
   "source": [
    "- Original frame number(before light turns on)"
   ]
  },
  {
   "cell_type": "code",
   "execution_count": null,
   "id": "737ae8aa",
   "metadata": {},
   "outputs": [],
   "source": [
    "corrected_video_frame = current_video_frame"
   ]
  },
  {
   "cell_type": "markdown",
   "id": "8aad3166",
   "metadata": {},
   "source": [
    "- Corrected frame number(that has the light on)"
   ]
  },
  {
   "cell_type": "code",
   "execution_count": null,
   "id": "fe96e457",
   "metadata": {},
   "outputs": [],
   "source": [
    "corrected_video_frame = current_video_frame + 2"
   ]
  },
  {
   "cell_type": "code",
   "execution_count": null,
   "id": "d23c15c3",
   "metadata": {},
   "outputs": [],
   "source": [
    "cap.set(cv2.CAP_PROP_POS_FRAMES, corrected_video_frame)\n"
   ]
  },
  {
   "cell_type": "code",
   "execution_count": null,
   "id": "59296bac",
   "metadata": {},
   "outputs": [],
   "source": [
    "_, frame = cap.read()"
   ]
  },
  {
   "cell_type": "code",
   "execution_count": null,
   "id": "c376585c",
   "metadata": {},
   "outputs": [],
   "source": [
    "video_file_path"
   ]
  },
  {
   "cell_type": "code",
   "execution_count": null,
   "id": "7fe7e8f1",
   "metadata": {},
   "outputs": [],
   "source": [
    "output_directory = \"./proc\""
   ]
  },
  {
   "cell_type": "code",
   "execution_count": null,
   "id": "30192113",
   "metadata": {},
   "outputs": [],
   "source": [
    "output_directory"
   ]
  },
  {
   "cell_type": "code",
   "execution_count": null,
   "id": "0dcdb353",
   "metadata": {},
   "outputs": [],
   "source": [
    "os.makedirs(output_directory, exist_ok=True)"
   ]
  },
  {
   "cell_type": "code",
   "execution_count": null,
   "id": "69708f96",
   "metadata": {},
   "outputs": [],
   "source": [
    "video_file_basename = os.path.basename(video_file_path)"
   ]
  },
  {
   "cell_type": "code",
   "execution_count": null,
   "id": "fbf5a1c9",
   "metadata": {},
   "outputs": [],
   "source": [
    "video_file_root = os.path.splitext(video_file_basename)[0]"
   ]
  },
  {
   "cell_type": "code",
   "execution_count": null,
   "id": "86cd5059",
   "metadata": {},
   "outputs": [],
   "source": [
    "video_file_root"
   ]
  },
  {
   "cell_type": "code",
   "execution_count": null,
   "id": "43ed2d34",
   "metadata": {},
   "outputs": [],
   "source": [
    "cv2.imwrite(os.path.join(output_directory, '{}.frame_{}.png'.format(video_file_root, corrected_video_frame)), frame)"
   ]
  },
  {
   "cell_type": "raw",
   "id": "8ac9e68a",
   "metadata": {
    "scrolled": false
   },
   "source": [
    "raise ValueError(\"\"\"Run cell after this one if you want to see the image in Jupyter Notebooks. \n",
    "Make sure that you just exit by pressing the `esc` key on the keyboard. \n",
    "DO NOT press the red X button.\"\"\")"
   ]
  },
  {
   "cell_type": "raw",
   "id": "10caa18d",
   "metadata": {},
   "source": [
    "\n",
    "\n",
    "cv2.imshow('led_light_on', frame)\n",
    "cv2.waitKey(0)\n",
    "cv2.destroyAllWindows()"
   ]
  },
  {
   "cell_type": "markdown",
   "id": "4d3eddef",
   "metadata": {},
   "source": [
    "- Where this video time stamp is(within the list of video time stamps), would be the frame number that corresponds to the ephys recording instance"
   ]
  },
  {
   "cell_type": "code",
   "execution_count": null,
   "id": "320a3b11",
   "metadata": {},
   "outputs": [],
   "source": [
    "current_video_seconds = corrected_video_frame / fps"
   ]
  },
  {
   "cell_type": "code",
   "execution_count": null,
   "id": "f83adf73",
   "metadata": {},
   "outputs": [],
   "source": [
    "current_video_seconds"
   ]
  },
  {
   "cell_type": "code",
   "execution_count": null,
   "id": "bc3ca39c",
   "metadata": {},
   "outputs": [],
   "source": [
    "print(\"MED-PC signal is at {}:{}\".format(int(current_video_seconds // 60), int(current_video_seconds % 60)))"
   ]
  },
  {
   "cell_type": "code",
   "execution_count": null,
   "id": "45ef87bd-5b6e-4290-88fa-2f780ae28b4a",
   "metadata": {},
   "outputs": [],
   "source": []
  },
  {
   "cell_type": "markdown",
   "id": "b58d8c89-bd24-4bbe-a41c-74df50e55f4e",
   "metadata": {},
   "source": [
    "## Looking over the video files"
   ]
  },
  {
   "cell_type": "code",
   "execution_count": 49,
   "id": "bbe954df",
   "metadata": {},
   "outputs": [],
   "source": [
    "parent_directory_dict = file_to_data[\".\"]"
   ]
  },
  {
   "cell_type": "code",
   "execution_count": null,
   "id": "7ff36480",
   "metadata": {},
   "outputs": [],
   "source": [
    "video_time_stamp_dict = parent_directory_dict[\"1.videoTimeStamps.cameraHWSync\"]"
   ]
  },
  {
   "cell_type": "code",
   "execution_count": null,
   "id": "1dfb79da",
   "metadata": {},
   "outputs": [],
   "source": [
    "video_time_stamp_dict"
   ]
  },
  {
   "cell_type": "code",
   "execution_count": null,
   "id": "f3e1779e",
   "metadata": {},
   "outputs": [],
   "source": [
    "video_time_stamp_dict[\"data\"]"
   ]
  },
  {
   "cell_type": "code",
   "execution_count": null,
   "id": "198b4fac",
   "metadata": {},
   "outputs": [],
   "source": [
    "video_time_stamp_dict[\"data\"][:5]"
   ]
  },
  {
   "cell_type": "code",
   "execution_count": null,
   "id": "c0edf651",
   "metadata": {},
   "outputs": [],
   "source": [
    "video_time_stamp_dict[\"data\"][-5:]"
   ]
  },
  {
   "cell_type": "code",
   "execution_count": null,
   "id": "ca847a67",
   "metadata": {},
   "outputs": [],
   "source": [
    "video_time_stamp_dict[\"data\"].shape"
   ]
  },
  {
   "cell_type": "code",
   "execution_count": null,
   "id": "770cb9f7-64c5-47ed-83af-64c01bf50bb7",
   "metadata": {},
   "outputs": [],
   "source": []
  },
  {
   "cell_type": "markdown",
   "id": "bdba2205-66fa-40fb-8398-f5a4ee64405a",
   "metadata": {},
   "source": [
    "## Video time to Video frame"
   ]
  },
  {
   "cell_type": "markdown",
   "id": "06a53fdb-0e51-4cec-a8d6-cb9d385b3328",
   "metadata": {},
   "source": [
    "### Reading in video"
   ]
  },
  {
   "cell_type": "code",
   "execution_count": null,
   "id": "a37458ea",
   "metadata": {},
   "outputs": [],
   "source": [
    "raw_data_file_path"
   ]
  },
  {
   "cell_type": "code",
   "execution_count": null,
   "id": "8e946508",
   "metadata": {},
   "outputs": [],
   "source": [
    "video_file_list = glob.glob(os.path.join(raw_data_file_path, \"*.mp4\"))"
   ]
  },
  {
   "cell_type": "code",
   "execution_count": null,
   "id": "30c10fd5",
   "metadata": {},
   "outputs": [],
   "source": [
    "video_file_list"
   ]
  },
  {
   "cell_type": "code",
   "execution_count": null,
   "id": "86d40d28",
   "metadata": {},
   "outputs": [],
   "source": [
    "video_file_path = \"../../data/good/20221125_144832_omission_subject_6_1_and_6_2.rec/omission_6_1/20221125_144832_omission_and_competition_subejct_6_1_and_6_2.1.fixed.mp4\""
   ]
  },
  {
   "cell_type": "code",
   "execution_count": null,
   "id": "a874dbde",
   "metadata": {},
   "outputs": [],
   "source": [
    "# read video from file\n",
    "cap = cv2.VideoCapture(video_file_path)"
   ]
  },
  {
   "cell_type": "markdown",
   "id": "4fbb2865-c10e-4d06-b6d9-32f2f60c27e1",
   "metadata": {},
   "source": [
    "- Getting the number of frames per second"
   ]
  },
  {
   "cell_type": "code",
   "execution_count": null,
   "id": "a6fea79f",
   "metadata": {},
   "outputs": [],
   "source": [
    "fps = cap.get(cv2.CAP_PROP_FPS)"
   ]
  },
  {
   "cell_type": "code",
   "execution_count": null,
   "id": "f17c8e42",
   "metadata": {},
   "outputs": [],
   "source": [
    "fps"
   ]
  },
  {
   "cell_type": "markdown",
   "id": "0f9cff94-1e82-44bd-83d0-220f30493258",
   "metadata": {},
   "source": [
    "- Total number of frames"
   ]
  },
  {
   "cell_type": "code",
   "execution_count": null,
   "id": "ea914a47",
   "metadata": {},
   "outputs": [],
   "source": [
    "total_frame_count = cap.get(cv2.CAP_PROP_FRAME_COUNT)"
   ]
  },
  {
   "cell_type": "code",
   "execution_count": null,
   "id": "9f908e11",
   "metadata": {},
   "outputs": [],
   "source": [
    "total_frame_count\n"
   ]
  },
  {
   "cell_type": "markdown",
   "id": "de3ac569-fb70-4e88-88da-ab1e62666d62",
   "metadata": {},
   "source": [
    "- Calculating the length of the video by dividing the total number of frames by the fps"
   ]
  },
  {
   "cell_type": "code",
   "execution_count": null,
   "id": "9a13ea28",
   "metadata": {},
   "outputs": [],
   "source": [
    "video_length = total_frame_count / fps"
   ]
  },
  {
   "cell_type": "code",
   "execution_count": null,
   "id": "ea106dc7",
   "metadata": {},
   "outputs": [],
   "source": [
    "video_length"
   ]
  },
  {
   "cell_type": "code",
   "execution_count": null,
   "id": "e26e855f-3d50-4493-b8ef-f4344c9c40fa",
   "metadata": {},
   "outputs": [],
   "source": []
  },
  {
   "cell_type": "markdown",
   "id": "2c1234f1-b7c7-4c60-9e98-b6d07f8a17a9",
   "metadata": {},
   "source": [
    "## Video frame to timestamp"
   ]
  },
  {
   "cell_type": "markdown",
   "id": "d82cd656-cbc2-48f7-8822-d4ed28b64176",
   "metadata": {},
   "source": [
    "- Getting the time stamps of the video frames\n",
    "    - Each frame would correspond to each timestamp. Because the sample rate of videos is smaller than ephys recording, the number of video time stamps will be less than that of ephys recordings."
   ]
  },
  {
   "cell_type": "code",
   "execution_count": null,
   "id": "11da4b57",
   "metadata": {},
   "outputs": [],
   "source": [
    "video_time_stamp_dict"
   ]
  },
  {
   "cell_type": "code",
   "execution_count": null,
   "id": "0535c4c9",
   "metadata": {},
   "outputs": [],
   "source": [
    "video_time_stamp_array = np.array(video_time_stamp_dict[\"data\"])"
   ]
  },
  {
   "cell_type": "code",
   "execution_count": null,
   "id": "a045ef1a",
   "metadata": {},
   "outputs": [],
   "source": [
    "video_time_stamp_array[:5]"
   ]
  },
  {
   "cell_type": "code",
   "execution_count": null,
   "id": "e115ea93",
   "metadata": {},
   "outputs": [],
   "source": [
    "video_time_stamp_array[-5:]"
   ]
  },
  {
   "cell_type": "code",
   "execution_count": null,
   "id": "7539309b",
   "metadata": {},
   "outputs": [],
   "source": [
    "video_time_stamp_array.shape"
   ]
  },
  {
   "cell_type": "markdown",
   "id": "c2dcc91c-44ed-4064-953a-3c683ce1efb5",
   "metadata": {},
   "source": [
    "- Getting only the first number in each tuple"
   ]
  },
  {
   "cell_type": "code",
   "execution_count": null,
   "id": "b8ee7854",
   "metadata": {},
   "outputs": [],
   "source": [
    "pos_timestamp_array = np.array([x[0] for x in video_time_stamp_array]) "
   ]
  },
  {
   "cell_type": "markdown",
   "id": "1c6f1b99-69eb-4e99-a4ab-bdd396e4e234",
   "metadata": {},
   "source": [
    "- Converting to integer to do calculations"
   ]
  },
  {
   "cell_type": "code",
   "execution_count": null,
   "id": "83cac3c6",
   "metadata": {},
   "outputs": [],
   "source": [
    "pos_timestamp_array = pos_timestamp_array.astype(int)"
   ]
  },
  {
   "cell_type": "code",
   "execution_count": null,
   "id": "cc05c0ad",
   "metadata": {},
   "outputs": [],
   "source": [
    "pos_timestamp_array[:5]"
   ]
  },
  {
   "cell_type": "code",
   "execution_count": null,
   "id": "c874a0a2",
   "metadata": {},
   "outputs": [],
   "source": [
    "pos_timestamp_array[-5:]"
   ]
  },
  {
   "cell_type": "code",
   "execution_count": null,
   "id": "06549260-41c5-4ac0-87ee-cd3cc00383ea",
   "metadata": {},
   "outputs": [],
   "source": []
  },
  {
   "cell_type": "markdown",
   "id": "9c7a895c-2e3c-401a-9189-b39311cf52bd",
   "metadata": {},
   "source": [
    "## Time Stamp to Video Frame"
   ]
  },
  {
   "cell_type": "code",
   "execution_count": 63,
   "id": "4429510f",
   "metadata": {},
   "outputs": [
    {
     "ename": "NameError",
     "evalue": "name 'video_time_stamp_array' is not defined",
     "output_type": "error",
     "traceback": [
      "\u001b[0;31m---------------------------------------------------------------------------\u001b[0m",
      "\u001b[0;31mNameError\u001b[0m                                 Traceback (most recent call last)",
      "Cell \u001b[0;32mIn[63], line 1\u001b[0m\n\u001b[0;32m----> 1\u001b[0m \u001b[43mvideo_time_stamp_array\u001b[49m\n",
      "\u001b[0;31mNameError\u001b[0m: name 'video_time_stamp_array' is not defined"
     ]
    }
   ],
   "source": [
    "video_time_stamp_array"
   ]
  },
  {
   "cell_type": "code",
   "execution_count": null,
   "id": "f528eac7",
   "metadata": {},
   "outputs": [],
   "source": [
    "pos_timestamp_array"
   ]
  },
  {
   "cell_type": "markdown",
   "id": "d6f4e435-84fe-4b11-aade-9297a4ff2bc1",
   "metadata": {},
   "source": [
    "- Getting the index of the closest timestamp. The index corresponds to the video's frame number"
   ]
  },
  {
   "cell_type": "code",
   "execution_count": null,
   "id": "eb728faf",
   "metadata": {},
   "outputs": [],
   "source": [
    "random_video_frame = timestamp_to_index(current_ts=pos_timestamp_array[0], ts_array=pos_timestamp_array)"
   ]
  },
  {
   "cell_type": "code",
   "execution_count": null,
   "id": "afe434a4",
   "metadata": {},
   "outputs": [],
   "source": [
    "random_video_frame"
   ]
  },
  {
   "cell_type": "code",
   "execution_count": null,
   "id": "651bc7af",
   "metadata": {},
   "outputs": [],
   "source": [
    "pos_timestamp_array[random_video_frame]"
   ]
  }
 ],
 "metadata": {
  "kernelspec": {
   "display_name": "Python 3 (ipykernel)",
   "language": "python",
   "name": "python3"
  },
  "language_info": {
   "codemirror_mode": {
    "name": "ipython",
    "version": 3
   },
   "file_extension": ".py",
   "mimetype": "text/x-python",
   "name": "python",
   "nbconvert_exporter": "python",
   "pygments_lexer": "ipython3",
   "version": "3.9.16"
  }
 },
 "nbformat": 4,
 "nbformat_minor": 5
}
