{
 "cells": [
  {
   "cell_type": "markdown",
   "id": "ec0f0e72",
   "metadata": {},
   "source": [
    "# MED-PC Extracting the Recording Data and Metadata"
   ]
  },
  {
   "cell_type": "markdown",
   "id": "3e96b039",
   "metadata": {},
   "source": [
    "## Importing the Python Libraries"
   ]
  },
  {
   "cell_type": "code",
   "execution_count": 1,
   "id": "df497936",
   "metadata": {},
   "outputs": [],
   "source": [
    "import sys\n",
    "import glob\n",
    "from collections import defaultdict\n",
    "import os\n",
    "import datetime\n",
    "import numpy as np\n",
    "import pandas as pd\n",
    "import matplotlib.pyplot as plt\n",
    "from moviepy.editor import *\n",
    "from datetime import datetime\n",
    "from IPython.display import Video\n",
    "from pathlib import Path"
   ]
  },
  {
   "cell_type": "code",
   "execution_count": 2,
   "id": "b6678428",
   "metadata": {},
   "outputs": [],
   "source": [
    "from medpc2excel.medpc_read import medpc_read\n",
    "# import cv2\n"
   ]
  },
  {
   "cell_type": "code",
   "execution_count": 3,
   "id": "d2693f50",
   "metadata": {},
   "outputs": [],
   "source": [
    "# setting path\n",
    "sys.path.append('../../src')"
   ]
  },
  {
   "cell_type": "code",
   "execution_count": 4,
   "id": "2eca7742",
   "metadata": {},
   "outputs": [],
   "source": [
    "# All the libraries that were created for this repository\n",
    "import extract.dataframe\n",
    "import processing.tone\n",
    "import extract.metadata"
   ]
  },
  {
   "cell_type": "code",
   "execution_count": 5,
   "id": "44f91251-42f5-4999-a39c-cfbc26319d32",
   "metadata": {},
   "outputs": [],
   "source": [
    "from functools import reduce"
   ]
  },
  {
   "cell_type": "markdown",
   "id": "945c4c77-1ec5-437b-9604-5ea014e5f40f",
   "metadata": {},
   "source": [
    "# Make a dataframe of all the starting frames"
   ]
  },
  {
   "cell_type": "code",
   "execution_count": 6,
   "id": "2b7a519a-a96b-4ec3-82b0-05264aec9244",
   "metadata": {},
   "outputs": [],
   "source": [
    "all_comp_to_alone = sorted(glob.glob(\"/scratch/back_up/reward_competition_extention/proc/reencoded_videos/*training*/*1.fixed.mp4\"))"
   ]
  },
  {
   "cell_type": "code",
   "execution_count": 7,
   "id": "cad9862d-5a8e-4707-8bbd-9b4dbbfef615",
   "metadata": {},
   "outputs": [
    {
     "data": {
      "text/plain": [
       "['/scratch/back_up/reward_competition_extention/proc/reencoded_videos/20230612_101430_standard_comp_to_training_D1_subj_1-4_and_1-3/20230612_101430_standard_comp_to_training_D1_subj_1-4_and_1-3.1.fixed.mp4',\n",
       " '/scratch/back_up/reward_competition_extention/proc/reencoded_videos/20230612_101935_standard_comp_to_training_D1_subj_2-2_and_2-1/20230612_101935_standard_comp_to_training_D1_subj_2-2_and_2-1.1.fixed.mp4',\n",
       " '/scratch/back_up/reward_competition_extention/proc/reencoded_videos/20230612_112630_standard_comp_to_training_D1_subj_1-2_and_1-1/20230612_112630_standard_comp_to_training_D1_subj_1-2_and_1-1.1.fixed.mp4',\n",
       " '/scratch/back_up/reward_competition_extention/proc/reencoded_videos/20230613_105657_standard_comp_to_training_D2_subj_1-1_and_1-4/20230613_105657_standard_comp_to_training_D2_subj_1-1_and_1-4.1.fixed.mp4',\n",
       " '/scratch/back_up/reward_competition_extention/proc/reencoded_videos/20230613_110126_standard_comp_to_training_D2_subj_2-4_and_2-2/20230613_110126_standard_comp_to_training_D2_subj_2-4_and_2-2.1.fixed.mp4',\n",
       " '/scratch/back_up/reward_competition_extention/proc/reencoded_videos/20230614_114041_standard_comp_to_training_D3_subj_1-1_and_1-2/20230614_114041_standard_comp_to_training_D3_subj_1-1_and_1-2.1.fixed.mp4',\n",
       " '/scratch/back_up/reward_competition_extention/proc/reencoded_videos/20230614_115827_standard_comp_to_training_D3_subj_2-1_and_2-4/20230614_115827_standard_comp_to_training_D3_subj_2-1_and_2-4.1.fixed.mp4',\n",
       " '/scratch/back_up/reward_competition_extention/proc/reencoded_videos/20230616_111904_standard_comp_to_training_D4_subj_1-4_and_1-2/20230616_111904_standard_comp_to_training_D4_subj_1-4_and_1-2.1.fixed.mp4',\n",
       " '/scratch/back_up/reward_competition_extention/proc/reencoded_videos/20230616_111904_standard_comp_to_training_D4_subj_2-1_and_2-2/20230616_111904_standard_comp_to_training_D4_subj_2-1_and_2-2.1.fixed.mp4']"
      ]
     },
     "execution_count": 7,
     "metadata": {},
     "output_type": "execute_result"
    }
   ],
   "source": [
    "all_comp_to_alone"
   ]
  },
  {
   "cell_type": "code",
   "execution_count": 8,
   "id": "acbd87e1-8060-4c6a-8362-dc8b988aee9d",
   "metadata": {},
   "outputs": [],
   "source": [
    "all_video_df = pd.read_excel(\"./data/rce_video_log.xlsx\", header=0)"
   ]
  },
  {
   "cell_type": "code",
   "execution_count": 9,
   "id": "28597484-2ba0-4112-a66b-bacee0556357",
   "metadata": {},
   "outputs": [
    {
     "data": {
      "text/html": [
       "<div>\n",
       "<style scoped>\n",
       "    .dataframe tbody tr th:only-of-type {\n",
       "        vertical-align: middle;\n",
       "    }\n",
       "\n",
       "    .dataframe tbody tr th {\n",
       "        vertical-align: top;\n",
       "    }\n",
       "\n",
       "    .dataframe thead th {\n",
       "        text-align: right;\n",
       "    }\n",
       "</style>\n",
       "<table border=\"1\" class=\"dataframe\">\n",
       "  <thead>\n",
       "    <tr style=\"text-align: right;\">\n",
       "      <th></th>\n",
       "      <th>video_file</th>\n",
       "      <th>first_tone_frame</th>\n",
       "      <th>second_tone_frame</th>\n",
       "      <th>contains_all_comp</th>\n",
       "      <th>first_and_second_tone_difference</th>\n",
       "    </tr>\n",
       "  </thead>\n",
       "  <tbody>\n",
       "    <tr>\n",
       "      <th>0</th>\n",
       "      <td>/scratch/back_up/reward_competition_extention/...</td>\n",
       "      <td>1126</td>\n",
       "      <td>3529</td>\n",
       "      <td>True</td>\n",
       "      <td>2403</td>\n",
       "    </tr>\n",
       "    <tr>\n",
       "      <th>1</th>\n",
       "      <td>/scratch/back_up/reward_competition_extention/...</td>\n",
       "      <td>1125</td>\n",
       "      <td>3521</td>\n",
       "      <td>True</td>\n",
       "      <td>2396</td>\n",
       "    </tr>\n",
       "    <tr>\n",
       "      <th>2</th>\n",
       "      <td>/scratch/back_up/reward_competition_extention/...</td>\n",
       "      <td>918</td>\n",
       "      <td>3313</td>\n",
       "      <td>True</td>\n",
       "      <td>2395</td>\n",
       "    </tr>\n",
       "    <tr>\n",
       "      <th>3</th>\n",
       "      <td>/scratch/back_up/reward_competition_extention/...</td>\n",
       "      <td>1106</td>\n",
       "      <td>3513</td>\n",
       "      <td>True</td>\n",
       "      <td>2407</td>\n",
       "    </tr>\n",
       "    <tr>\n",
       "      <th>4</th>\n",
       "      <td>/scratch/back_up/reward_competition_extention/...</td>\n",
       "      <td>856</td>\n",
       "      <td>3252</td>\n",
       "      <td>True</td>\n",
       "      <td>2396</td>\n",
       "    </tr>\n",
       "    <tr>\n",
       "      <th>5</th>\n",
       "      <td>/scratch/back_up/reward_competition_extention/...</td>\n",
       "      <td>1021</td>\n",
       "      <td>3428</td>\n",
       "      <td>True</td>\n",
       "      <td>2407</td>\n",
       "    </tr>\n",
       "    <tr>\n",
       "      <th>6</th>\n",
       "      <td>/scratch/back_up/reward_competition_extention/...</td>\n",
       "      <td>89</td>\n",
       "      <td>2484</td>\n",
       "      <td>True</td>\n",
       "      <td>2395</td>\n",
       "    </tr>\n",
       "    <tr>\n",
       "      <th>7</th>\n",
       "      <td>/scratch/back_up/reward_competition_extention/...</td>\n",
       "      <td>536</td>\n",
       "      <td>2932</td>\n",
       "      <td>True</td>\n",
       "      <td>2396</td>\n",
       "    </tr>\n",
       "  </tbody>\n",
       "</table>\n",
       "</div>"
      ],
      "text/plain": [
       "                                          video_file  first_tone_frame  \\\n",
       "0  /scratch/back_up/reward_competition_extention/...              1126   \n",
       "1  /scratch/back_up/reward_competition_extention/...              1125   \n",
       "2  /scratch/back_up/reward_competition_extention/...               918   \n",
       "3  /scratch/back_up/reward_competition_extention/...              1106   \n",
       "4  /scratch/back_up/reward_competition_extention/...               856   \n",
       "5  /scratch/back_up/reward_competition_extention/...              1021   \n",
       "6  /scratch/back_up/reward_competition_extention/...                89   \n",
       "7  /scratch/back_up/reward_competition_extention/...               536   \n",
       "\n",
       "   second_tone_frame  contains_all_comp  first_and_second_tone_difference  \n",
       "0               3529               True                              2403  \n",
       "1               3521               True                              2396  \n",
       "2               3313               True                              2395  \n",
       "3               3513               True                              2407  \n",
       "4               3252               True                              2396  \n",
       "5               3428               True                              2407  \n",
       "6               2484               True                              2395  \n",
       "7               2932               True                              2396  "
      ]
     },
     "execution_count": 9,
     "metadata": {},
     "output_type": "execute_result"
    }
   ],
   "source": [
    "all_video_df"
   ]
  },
  {
   "cell_type": "code",
   "execution_count": 10,
   "id": "61334fe1-71dd-4a67-852b-9149dc2a41e0",
   "metadata": {},
   "outputs": [],
   "source": [
    "all_video_df[\"fps\"] = all_video_df[\"video_file\"].apply(lambda x: VideoFileClip(x).fps)"
   ]
  },
  {
   "cell_type": "code",
   "execution_count": 11,
   "id": "d60bff19-904a-4a0d-8c25-bfc21a81e2eb",
   "metadata": {},
   "outputs": [
    {
     "data": {
      "text/html": [
       "<div>\n",
       "<style scoped>\n",
       "    .dataframe tbody tr th:only-of-type {\n",
       "        vertical-align: middle;\n",
       "    }\n",
       "\n",
       "    .dataframe tbody tr th {\n",
       "        vertical-align: top;\n",
       "    }\n",
       "\n",
       "    .dataframe thead th {\n",
       "        text-align: right;\n",
       "    }\n",
       "</style>\n",
       "<table border=\"1\" class=\"dataframe\">\n",
       "  <thead>\n",
       "    <tr style=\"text-align: right;\">\n",
       "      <th></th>\n",
       "      <th>video_file</th>\n",
       "      <th>first_tone_frame</th>\n",
       "      <th>second_tone_frame</th>\n",
       "      <th>contains_all_comp</th>\n",
       "      <th>first_and_second_tone_difference</th>\n",
       "      <th>fps</th>\n",
       "    </tr>\n",
       "  </thead>\n",
       "  <tbody>\n",
       "    <tr>\n",
       "      <th>0</th>\n",
       "      <td>/scratch/back_up/reward_competition_extention/...</td>\n",
       "      <td>1126</td>\n",
       "      <td>3529</td>\n",
       "      <td>True</td>\n",
       "      <td>2403</td>\n",
       "      <td>30.0</td>\n",
       "    </tr>\n",
       "    <tr>\n",
       "      <th>1</th>\n",
       "      <td>/scratch/back_up/reward_competition_extention/...</td>\n",
       "      <td>1125</td>\n",
       "      <td>3521</td>\n",
       "      <td>True</td>\n",
       "      <td>2396</td>\n",
       "      <td>30.0</td>\n",
       "    </tr>\n",
       "    <tr>\n",
       "      <th>2</th>\n",
       "      <td>/scratch/back_up/reward_competition_extention/...</td>\n",
       "      <td>918</td>\n",
       "      <td>3313</td>\n",
       "      <td>True</td>\n",
       "      <td>2395</td>\n",
       "      <td>29.0</td>\n",
       "    </tr>\n",
       "    <tr>\n",
       "      <th>3</th>\n",
       "      <td>/scratch/back_up/reward_competition_extention/...</td>\n",
       "      <td>1106</td>\n",
       "      <td>3513</td>\n",
       "      <td>True</td>\n",
       "      <td>2407</td>\n",
       "      <td>26.0</td>\n",
       "    </tr>\n",
       "    <tr>\n",
       "      <th>4</th>\n",
       "      <td>/scratch/back_up/reward_competition_extention/...</td>\n",
       "      <td>856</td>\n",
       "      <td>3252</td>\n",
       "      <td>True</td>\n",
       "      <td>2396</td>\n",
       "      <td>23.0</td>\n",
       "    </tr>\n",
       "    <tr>\n",
       "      <th>5</th>\n",
       "      <td>/scratch/back_up/reward_competition_extention/...</td>\n",
       "      <td>1021</td>\n",
       "      <td>3428</td>\n",
       "      <td>True</td>\n",
       "      <td>2407</td>\n",
       "      <td>23.0</td>\n",
       "    </tr>\n",
       "    <tr>\n",
       "      <th>6</th>\n",
       "      <td>/scratch/back_up/reward_competition_extention/...</td>\n",
       "      <td>89</td>\n",
       "      <td>2484</td>\n",
       "      <td>True</td>\n",
       "      <td>2395</td>\n",
       "      <td>29.0</td>\n",
       "    </tr>\n",
       "    <tr>\n",
       "      <th>7</th>\n",
       "      <td>/scratch/back_up/reward_competition_extention/...</td>\n",
       "      <td>536</td>\n",
       "      <td>2932</td>\n",
       "      <td>True</td>\n",
       "      <td>2396</td>\n",
       "      <td>28.0</td>\n",
       "    </tr>\n",
       "  </tbody>\n",
       "</table>\n",
       "</div>"
      ],
      "text/plain": [
       "                                          video_file  first_tone_frame  \\\n",
       "0  /scratch/back_up/reward_competition_extention/...              1126   \n",
       "1  /scratch/back_up/reward_competition_extention/...              1125   \n",
       "2  /scratch/back_up/reward_competition_extention/...               918   \n",
       "3  /scratch/back_up/reward_competition_extention/...              1106   \n",
       "4  /scratch/back_up/reward_competition_extention/...               856   \n",
       "5  /scratch/back_up/reward_competition_extention/...              1021   \n",
       "6  /scratch/back_up/reward_competition_extention/...                89   \n",
       "7  /scratch/back_up/reward_competition_extention/...               536   \n",
       "\n",
       "   second_tone_frame  contains_all_comp  first_and_second_tone_difference  \\\n",
       "0               3529               True                              2403   \n",
       "1               3521               True                              2396   \n",
       "2               3313               True                              2395   \n",
       "3               3513               True                              2407   \n",
       "4               3252               True                              2396   \n",
       "5               3428               True                              2407   \n",
       "6               2484               True                              2395   \n",
       "7               2932               True                              2396   \n",
       "\n",
       "    fps  \n",
       "0  30.0  \n",
       "1  30.0  \n",
       "2  29.0  \n",
       "3  26.0  \n",
       "4  23.0  \n",
       "5  23.0  \n",
       "6  29.0  \n",
       "7  28.0  "
      ]
     },
     "execution_count": 11,
     "metadata": {},
     "output_type": "execute_result"
    }
   ],
   "source": [
    "all_video_df"
   ]
  },
  {
   "cell_type": "code",
   "execution_count": 12,
   "id": "fb810806-2f8b-406e-bd92-ffbdf51a9946",
   "metadata": {},
   "outputs": [],
   "source": [
    "all_itis_in_seconds = [120, 115, 90, 55, 50, 95, 75, 105, 50, 80, 65, 65, 50, 70, 95, 80, 70, 110, 60, 300, 60, 55, 65, 55, 50, 50, 105, 120, 120, 110, 85, 120, 60, 65, 60, 75, 100, 95, 50]"
   ]
  },
  {
   "cell_type": "code",
   "execution_count": 13,
   "id": "c455762e-a1cf-4235-bb93-698142e17429",
   "metadata": {},
   "outputs": [],
   "source": [
    "all_video_df[\"all_itis_in_frames\"] = all_video_df[\"fps\"].apply(lambda x: [int(20 * iti) for iti in all_itis_in_seconds])"
   ]
  },
  {
   "cell_type": "code",
   "execution_count": 14,
   "id": "390dec4b-518a-45c5-bb56-adbc6d3331f7",
   "metadata": {},
   "outputs": [
    {
     "data": {
      "text/html": [
       "<div>\n",
       "<style scoped>\n",
       "    .dataframe tbody tr th:only-of-type {\n",
       "        vertical-align: middle;\n",
       "    }\n",
       "\n",
       "    .dataframe tbody tr th {\n",
       "        vertical-align: top;\n",
       "    }\n",
       "\n",
       "    .dataframe thead th {\n",
       "        text-align: right;\n",
       "    }\n",
       "</style>\n",
       "<table border=\"1\" class=\"dataframe\">\n",
       "  <thead>\n",
       "    <tr style=\"text-align: right;\">\n",
       "      <th></th>\n",
       "      <th>video_file</th>\n",
       "      <th>first_tone_frame</th>\n",
       "      <th>second_tone_frame</th>\n",
       "      <th>contains_all_comp</th>\n",
       "      <th>first_and_second_tone_difference</th>\n",
       "      <th>fps</th>\n",
       "      <th>all_itis_in_frames</th>\n",
       "    </tr>\n",
       "  </thead>\n",
       "  <tbody>\n",
       "    <tr>\n",
       "      <th>0</th>\n",
       "      <td>/scratch/back_up/reward_competition_extention/...</td>\n",
       "      <td>1126</td>\n",
       "      <td>3529</td>\n",
       "      <td>True</td>\n",
       "      <td>2403</td>\n",
       "      <td>30.0</td>\n",
       "      <td>[2400, 2300, 1800, 1100, 1000, 1900, 1500, 210...</td>\n",
       "    </tr>\n",
       "    <tr>\n",
       "      <th>1</th>\n",
       "      <td>/scratch/back_up/reward_competition_extention/...</td>\n",
       "      <td>1125</td>\n",
       "      <td>3521</td>\n",
       "      <td>True</td>\n",
       "      <td>2396</td>\n",
       "      <td>30.0</td>\n",
       "      <td>[2400, 2300, 1800, 1100, 1000, 1900, 1500, 210...</td>\n",
       "    </tr>\n",
       "    <tr>\n",
       "      <th>2</th>\n",
       "      <td>/scratch/back_up/reward_competition_extention/...</td>\n",
       "      <td>918</td>\n",
       "      <td>3313</td>\n",
       "      <td>True</td>\n",
       "      <td>2395</td>\n",
       "      <td>29.0</td>\n",
       "      <td>[2400, 2300, 1800, 1100, 1000, 1900, 1500, 210...</td>\n",
       "    </tr>\n",
       "    <tr>\n",
       "      <th>3</th>\n",
       "      <td>/scratch/back_up/reward_competition_extention/...</td>\n",
       "      <td>1106</td>\n",
       "      <td>3513</td>\n",
       "      <td>True</td>\n",
       "      <td>2407</td>\n",
       "      <td>26.0</td>\n",
       "      <td>[2400, 2300, 1800, 1100, 1000, 1900, 1500, 210...</td>\n",
       "    </tr>\n",
       "    <tr>\n",
       "      <th>4</th>\n",
       "      <td>/scratch/back_up/reward_competition_extention/...</td>\n",
       "      <td>856</td>\n",
       "      <td>3252</td>\n",
       "      <td>True</td>\n",
       "      <td>2396</td>\n",
       "      <td>23.0</td>\n",
       "      <td>[2400, 2300, 1800, 1100, 1000, 1900, 1500, 210...</td>\n",
       "    </tr>\n",
       "    <tr>\n",
       "      <th>5</th>\n",
       "      <td>/scratch/back_up/reward_competition_extention/...</td>\n",
       "      <td>1021</td>\n",
       "      <td>3428</td>\n",
       "      <td>True</td>\n",
       "      <td>2407</td>\n",
       "      <td>23.0</td>\n",
       "      <td>[2400, 2300, 1800, 1100, 1000, 1900, 1500, 210...</td>\n",
       "    </tr>\n",
       "    <tr>\n",
       "      <th>6</th>\n",
       "      <td>/scratch/back_up/reward_competition_extention/...</td>\n",
       "      <td>89</td>\n",
       "      <td>2484</td>\n",
       "      <td>True</td>\n",
       "      <td>2395</td>\n",
       "      <td>29.0</td>\n",
       "      <td>[2400, 2300, 1800, 1100, 1000, 1900, 1500, 210...</td>\n",
       "    </tr>\n",
       "    <tr>\n",
       "      <th>7</th>\n",
       "      <td>/scratch/back_up/reward_competition_extention/...</td>\n",
       "      <td>536</td>\n",
       "      <td>2932</td>\n",
       "      <td>True</td>\n",
       "      <td>2396</td>\n",
       "      <td>28.0</td>\n",
       "      <td>[2400, 2300, 1800, 1100, 1000, 1900, 1500, 210...</td>\n",
       "    </tr>\n",
       "  </tbody>\n",
       "</table>\n",
       "</div>"
      ],
      "text/plain": [
       "                                          video_file  first_tone_frame  \\\n",
       "0  /scratch/back_up/reward_competition_extention/...              1126   \n",
       "1  /scratch/back_up/reward_competition_extention/...              1125   \n",
       "2  /scratch/back_up/reward_competition_extention/...               918   \n",
       "3  /scratch/back_up/reward_competition_extention/...              1106   \n",
       "4  /scratch/back_up/reward_competition_extention/...               856   \n",
       "5  /scratch/back_up/reward_competition_extention/...              1021   \n",
       "6  /scratch/back_up/reward_competition_extention/...                89   \n",
       "7  /scratch/back_up/reward_competition_extention/...               536   \n",
       "\n",
       "   second_tone_frame  contains_all_comp  first_and_second_tone_difference  \\\n",
       "0               3529               True                              2403   \n",
       "1               3521               True                              2396   \n",
       "2               3313               True                              2395   \n",
       "3               3513               True                              2407   \n",
       "4               3252               True                              2396   \n",
       "5               3428               True                              2407   \n",
       "6               2484               True                              2395   \n",
       "7               2932               True                              2396   \n",
       "\n",
       "    fps                                 all_itis_in_frames  \n",
       "0  30.0  [2400, 2300, 1800, 1100, 1000, 1900, 1500, 210...  \n",
       "1  30.0  [2400, 2300, 1800, 1100, 1000, 1900, 1500, 210...  \n",
       "2  29.0  [2400, 2300, 1800, 1100, 1000, 1900, 1500, 210...  \n",
       "3  26.0  [2400, 2300, 1800, 1100, 1000, 1900, 1500, 210...  \n",
       "4  23.0  [2400, 2300, 1800, 1100, 1000, 1900, 1500, 210...  \n",
       "5  23.0  [2400, 2300, 1800, 1100, 1000, 1900, 1500, 210...  \n",
       "6  29.0  [2400, 2300, 1800, 1100, 1000, 1900, 1500, 210...  \n",
       "7  28.0  [2400, 2300, 1800, 1100, 1000, 1900, 1500, 210...  "
      ]
     },
     "execution_count": 14,
     "metadata": {},
     "output_type": "execute_result"
    }
   ],
   "source": [
    "all_video_df"
   ]
  },
  {
   "cell_type": "code",
   "execution_count": 16,
   "id": "04e27ec2-569c-403f-9775-d37481e741dd",
   "metadata": {},
   "outputs": [
    {
     "name": "stdout",
     "output_type": "stream",
     "text": [
      "/scratch/back_up/reward_competition_extention/proc/reencoded_videos/20230612_101935_standard_comp_to_training_D1_subj_2-2_and_2-1/20230612_101935_standard_comp_to_training_D1_subj_2-2_and_2-1.1.fixed.mp4\n",
      "/scratch/back_up/reward_competition_extention/proc/reencoded_videos/20230612_112630_standard_comp_to_training_D1_subj_1-2_and_1-1/20230612_112630_standard_comp_to_training_D1_subj_1-2_and_1-1.1.fixed.mp4\n",
      "/scratch/back_up/reward_competition_extention/proc/reencoded_videos/20230613_105657_standard_comp_to_training_D2_subj_1-1_and_1-4/20230613_105657_standard_comp_to_training_D2_subj_1-1_and_1-4.1.fixed.mp4\n",
      "/scratch/back_up/reward_competition_extention/proc/reencoded_videos/20230613_110126_standard_comp_to_training_D2_subj_2-4_and_2-2/20230613_110126_standard_comp_to_training_D2_subj_2-4_and_2-2.1.fixed.mp4\n",
      "/scratch/back_up/reward_competition_extention/proc/reencoded_videos/20230614_114041_standard_comp_to_training_D3_subj_1-1_and_1-2/20230614_114041_standard_comp_to_training_D3_subj_1-1_and_1-2.1.fixed.mp4\n",
      "/scratch/back_up/reward_competition_extention/proc/reencoded_videos/20230614_115827_standard_comp_to_training_D3_subj_2-1_and_2-4/20230614_115827_standard_comp_to_training_D3_subj_2-1_and_2-4.1.fixed.mp4\n",
      "/scratch/back_up/reward_competition_extention/proc/reencoded_videos/20230616_111904_standard_comp_to_training_D4_subj_1-4_and_1-2/20230616_111904_standard_comp_to_training_D4_subj_1-4_and_1-2.1.fixed.mp4\n",
      "/scratch/back_up/reward_competition_extention/proc/reencoded_videos/20230616_111904_standard_comp_to_training_D4_subj_2-1_and_2-2/20230616_111904_standard_comp_to_training_D4_subj_2-1_and_2-2.1.fixed.mp4\n"
     ]
    }
   ],
   "source": [
    "for file in all_video_df[\"video_file\"]:\n",
    "    print(file)"
   ]
  },
  {
   "cell_type": "code",
   "execution_count": null,
   "id": "e3730f8c-6f47-48af-b25c-55501c9f858d",
   "metadata": {},
   "outputs": [],
   "source": []
  },
  {
   "cell_type": "code",
   "execution_count": 17,
   "id": "74e104be-b1f3-4d9f-a6b5-95cb9e47e94f",
   "metadata": {},
   "outputs": [],
   "source": [
    "# Your initial list\n",
    "lst = [1, 2, 3, 4, 5]\n",
    "\n",
    "# Use reduce to generate a list of running totals\n",
    "result = reduce(lambda acc, x: acc + [acc[-1] + x] if acc else [x], lst, [])\n"
   ]
  },
  {
   "cell_type": "code",
   "execution_count": 18,
   "id": "9058fb2f-9971-4602-ad75-92fd67b280e7",
   "metadata": {},
   "outputs": [],
   "source": [
    "def get_running_total(lst):\n",
    "    return reduce(lambda acc, x: acc + [acc[-1] + x] if acc else [x], lst, [])"
   ]
  },
  {
   "cell_type": "markdown",
   "id": "c26338e8-8536-4cd9-8618-0a1d22b3c787",
   "metadata": {},
   "source": [
    "all_video_df[\"all_tone_frame\"] = all_video_df[\"first_tone_frame\"].apply(lambda x: get_running_total([x] + all_itis_in_frames))"
   ]
  },
  {
   "cell_type": "code",
   "execution_count": 19,
   "id": "e791eafe-6f8e-497a-ba79-e9555f222c09",
   "metadata": {},
   "outputs": [],
   "source": [
    "all_video_df[\"all_tone_frame\"] = all_video_df.apply(lambda row: get_running_total([row[\"first_tone_frame\"]] + row[\"all_itis_in_frames\"]), axis=1)"
   ]
  },
  {
   "cell_type": "code",
   "execution_count": 20,
   "id": "8ebfbee8-b4c1-49e4-843d-9c48b42e53b2",
   "metadata": {},
   "outputs": [
    {
     "data": {
      "text/html": [
       "<div>\n",
       "<style scoped>\n",
       "    .dataframe tbody tr th:only-of-type {\n",
       "        vertical-align: middle;\n",
       "    }\n",
       "\n",
       "    .dataframe tbody tr th {\n",
       "        vertical-align: top;\n",
       "    }\n",
       "\n",
       "    .dataframe thead th {\n",
       "        text-align: right;\n",
       "    }\n",
       "</style>\n",
       "<table border=\"1\" class=\"dataframe\">\n",
       "  <thead>\n",
       "    <tr style=\"text-align: right;\">\n",
       "      <th></th>\n",
       "      <th>video_file</th>\n",
       "      <th>first_tone_frame</th>\n",
       "      <th>second_tone_frame</th>\n",
       "      <th>contains_all_comp</th>\n",
       "      <th>first_and_second_tone_difference</th>\n",
       "      <th>fps</th>\n",
       "      <th>all_itis_in_frames</th>\n",
       "      <th>all_tone_frame</th>\n",
       "    </tr>\n",
       "  </thead>\n",
       "  <tbody>\n",
       "    <tr>\n",
       "      <th>0</th>\n",
       "      <td>/scratch/back_up/reward_competition_extention/...</td>\n",
       "      <td>1126</td>\n",
       "      <td>3529</td>\n",
       "      <td>True</td>\n",
       "      <td>2403</td>\n",
       "      <td>30.0</td>\n",
       "      <td>[2400, 2300, 1800, 1100, 1000, 1900, 1500, 210...</td>\n",
       "      <td>[1126, 3526, 5826, 7626, 8726, 9726, 11626, 13...</td>\n",
       "    </tr>\n",
       "    <tr>\n",
       "      <th>1</th>\n",
       "      <td>/scratch/back_up/reward_competition_extention/...</td>\n",
       "      <td>1125</td>\n",
       "      <td>3521</td>\n",
       "      <td>True</td>\n",
       "      <td>2396</td>\n",
       "      <td>30.0</td>\n",
       "      <td>[2400, 2300, 1800, 1100, 1000, 1900, 1500, 210...</td>\n",
       "      <td>[1125, 3525, 5825, 7625, 8725, 9725, 11625, 13...</td>\n",
       "    </tr>\n",
       "    <tr>\n",
       "      <th>2</th>\n",
       "      <td>/scratch/back_up/reward_competition_extention/...</td>\n",
       "      <td>918</td>\n",
       "      <td>3313</td>\n",
       "      <td>True</td>\n",
       "      <td>2395</td>\n",
       "      <td>29.0</td>\n",
       "      <td>[2400, 2300, 1800, 1100, 1000, 1900, 1500, 210...</td>\n",
       "      <td>[918, 3318, 5618, 7418, 8518, 9518, 11418, 129...</td>\n",
       "    </tr>\n",
       "    <tr>\n",
       "      <th>3</th>\n",
       "      <td>/scratch/back_up/reward_competition_extention/...</td>\n",
       "      <td>1106</td>\n",
       "      <td>3513</td>\n",
       "      <td>True</td>\n",
       "      <td>2407</td>\n",
       "      <td>26.0</td>\n",
       "      <td>[2400, 2300, 1800, 1100, 1000, 1900, 1500, 210...</td>\n",
       "      <td>[1106, 3506, 5806, 7606, 8706, 9706, 11606, 13...</td>\n",
       "    </tr>\n",
       "    <tr>\n",
       "      <th>4</th>\n",
       "      <td>/scratch/back_up/reward_competition_extention/...</td>\n",
       "      <td>856</td>\n",
       "      <td>3252</td>\n",
       "      <td>True</td>\n",
       "      <td>2396</td>\n",
       "      <td>23.0</td>\n",
       "      <td>[2400, 2300, 1800, 1100, 1000, 1900, 1500, 210...</td>\n",
       "      <td>[856, 3256, 5556, 7356, 8456, 9456, 11356, 128...</td>\n",
       "    </tr>\n",
       "    <tr>\n",
       "      <th>5</th>\n",
       "      <td>/scratch/back_up/reward_competition_extention/...</td>\n",
       "      <td>1021</td>\n",
       "      <td>3428</td>\n",
       "      <td>True</td>\n",
       "      <td>2407</td>\n",
       "      <td>23.0</td>\n",
       "      <td>[2400, 2300, 1800, 1100, 1000, 1900, 1500, 210...</td>\n",
       "      <td>[1021, 3421, 5721, 7521, 8621, 9621, 11521, 13...</td>\n",
       "    </tr>\n",
       "    <tr>\n",
       "      <th>6</th>\n",
       "      <td>/scratch/back_up/reward_competition_extention/...</td>\n",
       "      <td>89</td>\n",
       "      <td>2484</td>\n",
       "      <td>True</td>\n",
       "      <td>2395</td>\n",
       "      <td>29.0</td>\n",
       "      <td>[2400, 2300, 1800, 1100, 1000, 1900, 1500, 210...</td>\n",
       "      <td>[89, 2489, 4789, 6589, 7689, 8689, 10589, 1208...</td>\n",
       "    </tr>\n",
       "    <tr>\n",
       "      <th>7</th>\n",
       "      <td>/scratch/back_up/reward_competition_extention/...</td>\n",
       "      <td>536</td>\n",
       "      <td>2932</td>\n",
       "      <td>True</td>\n",
       "      <td>2396</td>\n",
       "      <td>28.0</td>\n",
       "      <td>[2400, 2300, 1800, 1100, 1000, 1900, 1500, 210...</td>\n",
       "      <td>[536, 2936, 5236, 7036, 8136, 9136, 11036, 125...</td>\n",
       "    </tr>\n",
       "  </tbody>\n",
       "</table>\n",
       "</div>"
      ],
      "text/plain": [
       "                                          video_file  first_tone_frame  \\\n",
       "0  /scratch/back_up/reward_competition_extention/...              1126   \n",
       "1  /scratch/back_up/reward_competition_extention/...              1125   \n",
       "2  /scratch/back_up/reward_competition_extention/...               918   \n",
       "3  /scratch/back_up/reward_competition_extention/...              1106   \n",
       "4  /scratch/back_up/reward_competition_extention/...               856   \n",
       "5  /scratch/back_up/reward_competition_extention/...              1021   \n",
       "6  /scratch/back_up/reward_competition_extention/...                89   \n",
       "7  /scratch/back_up/reward_competition_extention/...               536   \n",
       "\n",
       "   second_tone_frame  contains_all_comp  first_and_second_tone_difference  \\\n",
       "0               3529               True                              2403   \n",
       "1               3521               True                              2396   \n",
       "2               3313               True                              2395   \n",
       "3               3513               True                              2407   \n",
       "4               3252               True                              2396   \n",
       "5               3428               True                              2407   \n",
       "6               2484               True                              2395   \n",
       "7               2932               True                              2396   \n",
       "\n",
       "    fps                                 all_itis_in_frames  \\\n",
       "0  30.0  [2400, 2300, 1800, 1100, 1000, 1900, 1500, 210...   \n",
       "1  30.0  [2400, 2300, 1800, 1100, 1000, 1900, 1500, 210...   \n",
       "2  29.0  [2400, 2300, 1800, 1100, 1000, 1900, 1500, 210...   \n",
       "3  26.0  [2400, 2300, 1800, 1100, 1000, 1900, 1500, 210...   \n",
       "4  23.0  [2400, 2300, 1800, 1100, 1000, 1900, 1500, 210...   \n",
       "5  23.0  [2400, 2300, 1800, 1100, 1000, 1900, 1500, 210...   \n",
       "6  29.0  [2400, 2300, 1800, 1100, 1000, 1900, 1500, 210...   \n",
       "7  28.0  [2400, 2300, 1800, 1100, 1000, 1900, 1500, 210...   \n",
       "\n",
       "                                      all_tone_frame  \n",
       "0  [1126, 3526, 5826, 7626, 8726, 9726, 11626, 13...  \n",
       "1  [1125, 3525, 5825, 7625, 8725, 9725, 11625, 13...  \n",
       "2  [918, 3318, 5618, 7418, 8518, 9518, 11418, 129...  \n",
       "3  [1106, 3506, 5806, 7606, 8706, 9706, 11606, 13...  \n",
       "4  [856, 3256, 5556, 7356, 8456, 9456, 11356, 128...  \n",
       "5  [1021, 3421, 5721, 7521, 8621, 9621, 11521, 13...  \n",
       "6  [89, 2489, 4789, 6589, 7689, 8689, 10589, 1208...  \n",
       "7  [536, 2936, 5236, 7036, 8136, 9136, 11036, 125...  "
      ]
     },
     "execution_count": 20,
     "metadata": {},
     "output_type": "execute_result"
    }
   ],
   "source": [
    "all_video_df"
   ]
  },
  {
   "cell_type": "code",
   "execution_count": 21,
   "id": "cde0bf27-ae70-4b79-be58-1c9a7073d935",
   "metadata": {},
   "outputs": [],
   "source": [
    "all_video_df[\"all_5sec_before_tone\"] = all_video_df.apply(lambda row: [int(i - 10 * 20) for i in row[\"all_tone_frame\"]], axis=1)\n",
    "# all_video_df[\"all_5sec_before_tone\"] = all_video_df.apply(lambda row: [int(i - 10 * row[\"fps\"]) for i in row[\"all_tone_frame\"]], axis=1)"
   ]
  },
  {
   "cell_type": "code",
   "execution_count": 22,
   "id": "63432855-9e62-452c-aa9f-b1131e358023",
   "metadata": {},
   "outputs": [],
   "source": [
    "all_video_df[\"all_10sec_after_tone\"] = all_video_df.apply(lambda row: [int(i + 60 * 20) for i in row[\"all_tone_frame\"]], axis=1)\n",
    "# all_video_df[\"all_5sec_before_tone\"] = all_video_df.apply(lambda row: [int(i - 10 * row[\"fps\"]) for i in row[\"all_tone_frame\"]], axis=1)"
   ]
  },
  {
   "cell_type": "code",
   "execution_count": 23,
   "id": "b2737eae-32bd-4a37-a8fc-12d2f1b9c50b",
   "metadata": {},
   "outputs": [
    {
     "data": {
      "text/html": [
       "<div>\n",
       "<style scoped>\n",
       "    .dataframe tbody tr th:only-of-type {\n",
       "        vertical-align: middle;\n",
       "    }\n",
       "\n",
       "    .dataframe tbody tr th {\n",
       "        vertical-align: top;\n",
       "    }\n",
       "\n",
       "    .dataframe thead th {\n",
       "        text-align: right;\n",
       "    }\n",
       "</style>\n",
       "<table border=\"1\" class=\"dataframe\">\n",
       "  <thead>\n",
       "    <tr style=\"text-align: right;\">\n",
       "      <th></th>\n",
       "      <th>video_file</th>\n",
       "      <th>first_tone_frame</th>\n",
       "      <th>second_tone_frame</th>\n",
       "      <th>contains_all_comp</th>\n",
       "      <th>first_and_second_tone_difference</th>\n",
       "      <th>fps</th>\n",
       "      <th>all_itis_in_frames</th>\n",
       "      <th>all_tone_frame</th>\n",
       "      <th>all_5sec_before_tone</th>\n",
       "      <th>all_10sec_after_tone</th>\n",
       "    </tr>\n",
       "  </thead>\n",
       "  <tbody>\n",
       "    <tr>\n",
       "      <th>0</th>\n",
       "      <td>/scratch/back_up/reward_competition_extention/...</td>\n",
       "      <td>1126</td>\n",
       "      <td>3529</td>\n",
       "      <td>True</td>\n",
       "      <td>2403</td>\n",
       "      <td>30.0</td>\n",
       "      <td>[2400, 2300, 1800, 1100, 1000, 1900, 1500, 210...</td>\n",
       "      <td>[1126, 3526, 5826, 7626, 8726, 9726, 11626, 13...</td>\n",
       "      <td>[926, 3326, 5626, 7426, 8526, 9526, 11426, 129...</td>\n",
       "      <td>[2326, 4726, 7026, 8826, 9926, 10926, 12826, 1...</td>\n",
       "    </tr>\n",
       "    <tr>\n",
       "      <th>1</th>\n",
       "      <td>/scratch/back_up/reward_competition_extention/...</td>\n",
       "      <td>1125</td>\n",
       "      <td>3521</td>\n",
       "      <td>True</td>\n",
       "      <td>2396</td>\n",
       "      <td>30.0</td>\n",
       "      <td>[2400, 2300, 1800, 1100, 1000, 1900, 1500, 210...</td>\n",
       "      <td>[1125, 3525, 5825, 7625, 8725, 9725, 11625, 13...</td>\n",
       "      <td>[925, 3325, 5625, 7425, 8525, 9525, 11425, 129...</td>\n",
       "      <td>[2325, 4725, 7025, 8825, 9925, 10925, 12825, 1...</td>\n",
       "    </tr>\n",
       "    <tr>\n",
       "      <th>2</th>\n",
       "      <td>/scratch/back_up/reward_competition_extention/...</td>\n",
       "      <td>918</td>\n",
       "      <td>3313</td>\n",
       "      <td>True</td>\n",
       "      <td>2395</td>\n",
       "      <td>29.0</td>\n",
       "      <td>[2400, 2300, 1800, 1100, 1000, 1900, 1500, 210...</td>\n",
       "      <td>[918, 3318, 5618, 7418, 8518, 9518, 11418, 129...</td>\n",
       "      <td>[718, 3118, 5418, 7218, 8318, 9318, 11218, 127...</td>\n",
       "      <td>[2118, 4518, 6818, 8618, 9718, 10718, 12618, 1...</td>\n",
       "    </tr>\n",
       "    <tr>\n",
       "      <th>3</th>\n",
       "      <td>/scratch/back_up/reward_competition_extention/...</td>\n",
       "      <td>1106</td>\n",
       "      <td>3513</td>\n",
       "      <td>True</td>\n",
       "      <td>2407</td>\n",
       "      <td>26.0</td>\n",
       "      <td>[2400, 2300, 1800, 1100, 1000, 1900, 1500, 210...</td>\n",
       "      <td>[1106, 3506, 5806, 7606, 8706, 9706, 11606, 13...</td>\n",
       "      <td>[906, 3306, 5606, 7406, 8506, 9506, 11406, 129...</td>\n",
       "      <td>[2306, 4706, 7006, 8806, 9906, 10906, 12806, 1...</td>\n",
       "    </tr>\n",
       "    <tr>\n",
       "      <th>4</th>\n",
       "      <td>/scratch/back_up/reward_competition_extention/...</td>\n",
       "      <td>856</td>\n",
       "      <td>3252</td>\n",
       "      <td>True</td>\n",
       "      <td>2396</td>\n",
       "      <td>23.0</td>\n",
       "      <td>[2400, 2300, 1800, 1100, 1000, 1900, 1500, 210...</td>\n",
       "      <td>[856, 3256, 5556, 7356, 8456, 9456, 11356, 128...</td>\n",
       "      <td>[656, 3056, 5356, 7156, 8256, 9256, 11156, 126...</td>\n",
       "      <td>[2056, 4456, 6756, 8556, 9656, 10656, 12556, 1...</td>\n",
       "    </tr>\n",
       "    <tr>\n",
       "      <th>5</th>\n",
       "      <td>/scratch/back_up/reward_competition_extention/...</td>\n",
       "      <td>1021</td>\n",
       "      <td>3428</td>\n",
       "      <td>True</td>\n",
       "      <td>2407</td>\n",
       "      <td>23.0</td>\n",
       "      <td>[2400, 2300, 1800, 1100, 1000, 1900, 1500, 210...</td>\n",
       "      <td>[1021, 3421, 5721, 7521, 8621, 9621, 11521, 13...</td>\n",
       "      <td>[821, 3221, 5521, 7321, 8421, 9421, 11321, 128...</td>\n",
       "      <td>[2221, 4621, 6921, 8721, 9821, 10821, 12721, 1...</td>\n",
       "    </tr>\n",
       "    <tr>\n",
       "      <th>6</th>\n",
       "      <td>/scratch/back_up/reward_competition_extention/...</td>\n",
       "      <td>89</td>\n",
       "      <td>2484</td>\n",
       "      <td>True</td>\n",
       "      <td>2395</td>\n",
       "      <td>29.0</td>\n",
       "      <td>[2400, 2300, 1800, 1100, 1000, 1900, 1500, 210...</td>\n",
       "      <td>[89, 2489, 4789, 6589, 7689, 8689, 10589, 1208...</td>\n",
       "      <td>[-111, 2289, 4589, 6389, 7489, 8489, 10389, 11...</td>\n",
       "      <td>[1289, 3689, 5989, 7789, 8889, 9889, 11789, 13...</td>\n",
       "    </tr>\n",
       "    <tr>\n",
       "      <th>7</th>\n",
       "      <td>/scratch/back_up/reward_competition_extention/...</td>\n",
       "      <td>536</td>\n",
       "      <td>2932</td>\n",
       "      <td>True</td>\n",
       "      <td>2396</td>\n",
       "      <td>28.0</td>\n",
       "      <td>[2400, 2300, 1800, 1100, 1000, 1900, 1500, 210...</td>\n",
       "      <td>[536, 2936, 5236, 7036, 8136, 9136, 11036, 125...</td>\n",
       "      <td>[336, 2736, 5036, 6836, 7936, 8936, 10836, 123...</td>\n",
       "      <td>[1736, 4136, 6436, 8236, 9336, 10336, 12236, 1...</td>\n",
       "    </tr>\n",
       "  </tbody>\n",
       "</table>\n",
       "</div>"
      ],
      "text/plain": [
       "                                          video_file  first_tone_frame  \\\n",
       "0  /scratch/back_up/reward_competition_extention/...              1126   \n",
       "1  /scratch/back_up/reward_competition_extention/...              1125   \n",
       "2  /scratch/back_up/reward_competition_extention/...               918   \n",
       "3  /scratch/back_up/reward_competition_extention/...              1106   \n",
       "4  /scratch/back_up/reward_competition_extention/...               856   \n",
       "5  /scratch/back_up/reward_competition_extention/...              1021   \n",
       "6  /scratch/back_up/reward_competition_extention/...                89   \n",
       "7  /scratch/back_up/reward_competition_extention/...               536   \n",
       "\n",
       "   second_tone_frame  contains_all_comp  first_and_second_tone_difference  \\\n",
       "0               3529               True                              2403   \n",
       "1               3521               True                              2396   \n",
       "2               3313               True                              2395   \n",
       "3               3513               True                              2407   \n",
       "4               3252               True                              2396   \n",
       "5               3428               True                              2407   \n",
       "6               2484               True                              2395   \n",
       "7               2932               True                              2396   \n",
       "\n",
       "    fps                                 all_itis_in_frames  \\\n",
       "0  30.0  [2400, 2300, 1800, 1100, 1000, 1900, 1500, 210...   \n",
       "1  30.0  [2400, 2300, 1800, 1100, 1000, 1900, 1500, 210...   \n",
       "2  29.0  [2400, 2300, 1800, 1100, 1000, 1900, 1500, 210...   \n",
       "3  26.0  [2400, 2300, 1800, 1100, 1000, 1900, 1500, 210...   \n",
       "4  23.0  [2400, 2300, 1800, 1100, 1000, 1900, 1500, 210...   \n",
       "5  23.0  [2400, 2300, 1800, 1100, 1000, 1900, 1500, 210...   \n",
       "6  29.0  [2400, 2300, 1800, 1100, 1000, 1900, 1500, 210...   \n",
       "7  28.0  [2400, 2300, 1800, 1100, 1000, 1900, 1500, 210...   \n",
       "\n",
       "                                      all_tone_frame  \\\n",
       "0  [1126, 3526, 5826, 7626, 8726, 9726, 11626, 13...   \n",
       "1  [1125, 3525, 5825, 7625, 8725, 9725, 11625, 13...   \n",
       "2  [918, 3318, 5618, 7418, 8518, 9518, 11418, 129...   \n",
       "3  [1106, 3506, 5806, 7606, 8706, 9706, 11606, 13...   \n",
       "4  [856, 3256, 5556, 7356, 8456, 9456, 11356, 128...   \n",
       "5  [1021, 3421, 5721, 7521, 8621, 9621, 11521, 13...   \n",
       "6  [89, 2489, 4789, 6589, 7689, 8689, 10589, 1208...   \n",
       "7  [536, 2936, 5236, 7036, 8136, 9136, 11036, 125...   \n",
       "\n",
       "                                all_5sec_before_tone  \\\n",
       "0  [926, 3326, 5626, 7426, 8526, 9526, 11426, 129...   \n",
       "1  [925, 3325, 5625, 7425, 8525, 9525, 11425, 129...   \n",
       "2  [718, 3118, 5418, 7218, 8318, 9318, 11218, 127...   \n",
       "3  [906, 3306, 5606, 7406, 8506, 9506, 11406, 129...   \n",
       "4  [656, 3056, 5356, 7156, 8256, 9256, 11156, 126...   \n",
       "5  [821, 3221, 5521, 7321, 8421, 9421, 11321, 128...   \n",
       "6  [-111, 2289, 4589, 6389, 7489, 8489, 10389, 11...   \n",
       "7  [336, 2736, 5036, 6836, 7936, 8936, 10836, 123...   \n",
       "\n",
       "                                all_10sec_after_tone  \n",
       "0  [2326, 4726, 7026, 8826, 9926, 10926, 12826, 1...  \n",
       "1  [2325, 4725, 7025, 8825, 9925, 10925, 12825, 1...  \n",
       "2  [2118, 4518, 6818, 8618, 9718, 10718, 12618, 1...  \n",
       "3  [2306, 4706, 7006, 8806, 9906, 10906, 12806, 1...  \n",
       "4  [2056, 4456, 6756, 8556, 9656, 10656, 12556, 1...  \n",
       "5  [2221, 4621, 6921, 8721, 9821, 10821, 12721, 1...  \n",
       "6  [1289, 3689, 5989, 7789, 8889, 9889, 11789, 13...  \n",
       "7  [1736, 4136, 6436, 8236, 9336, 10336, 12236, 1...  "
      ]
     },
     "execution_count": 23,
     "metadata": {},
     "output_type": "execute_result"
    }
   ],
   "source": [
    "all_video_df"
   ]
  },
  {
   "cell_type": "code",
   "execution_count": null,
   "id": "ad2c7627-e042-43b2-857a-c4b5d2954729",
   "metadata": {},
   "outputs": [],
   "source": []
  },
  {
   "cell_type": "markdown",
   "id": "3c56a72d-d694-48ec-bbfc-07fe3331f57b",
   "metadata": {},
   "source": [
    "## Creating the clips"
   ]
  },
  {
   "cell_type": "code",
   "execution_count": 24,
   "id": "ff412816-0008-4c4a-a8d1-27d643ac2933",
   "metadata": {
    "scrolled": true
   },
   "outputs": [
    {
     "name": "stdout",
     "output_type": "stream",
     "text": [
      "926 2326\n",
      "Moviepy - Building video /scratch/back_up/reward_competition_extention/proc/tone_clips/20230612_101935_standard_comp_to_training_D1_subj_2-2_and_2-1.1/20230612_101935_standard_comp_to_training_D1_subj_2-2_and_2-1.1.tone_1.mp4.\n",
      "Moviepy - Writing video /scratch/back_up/reward_competition_extention/proc/tone_clips/20230612_101935_standard_comp_to_training_D1_subj_2-2_and_2-1.1/20230612_101935_standard_comp_to_training_D1_subj_2-2_and_2-1.1.tone_1.mp4\n",
      "\n"
     ]
    },
    {
     "name": "stderr",
     "output_type": "stream",
     "text": [
      "                                                                     \r"
     ]
    },
    {
     "name": "stdout",
     "output_type": "stream",
     "text": [
      "Moviepy - Done !\n",
      "Moviepy - video ready /scratch/back_up/reward_competition_extention/proc/tone_clips/20230612_101935_standard_comp_to_training_D1_subj_2-2_and_2-1.1/20230612_101935_standard_comp_to_training_D1_subj_2-2_and_2-1.1.tone_1.mp4\n",
      "3326 4726\n",
      "Moviepy - Building video /scratch/back_up/reward_competition_extention/proc/tone_clips/20230612_101935_standard_comp_to_training_D1_subj_2-2_and_2-1.1/20230612_101935_standard_comp_to_training_D1_subj_2-2_and_2-1.1.tone_2.mp4.\n",
      "Moviepy - Writing video /scratch/back_up/reward_competition_extention/proc/tone_clips/20230612_101935_standard_comp_to_training_D1_subj_2-2_and_2-1.1/20230612_101935_standard_comp_to_training_D1_subj_2-2_and_2-1.1.tone_2.mp4\n",
      "\n"
     ]
    },
    {
     "name": "stderr",
     "output_type": "stream",
     "text": [
      "                                                                     \r"
     ]
    },
    {
     "name": "stdout",
     "output_type": "stream",
     "text": [
      "Moviepy - Done !\n",
      "Moviepy - video ready /scratch/back_up/reward_competition_extention/proc/tone_clips/20230612_101935_standard_comp_to_training_D1_subj_2-2_and_2-1.1/20230612_101935_standard_comp_to_training_D1_subj_2-2_and_2-1.1.tone_2.mp4\n",
      "5626 7026\n",
      "Moviepy - Building video /scratch/back_up/reward_competition_extention/proc/tone_clips/20230612_101935_standard_comp_to_training_D1_subj_2-2_and_2-1.1/20230612_101935_standard_comp_to_training_D1_subj_2-2_and_2-1.1.tone_3.mp4.\n",
      "Moviepy - Writing video /scratch/back_up/reward_competition_extention/proc/tone_clips/20230612_101935_standard_comp_to_training_D1_subj_2-2_and_2-1.1/20230612_101935_standard_comp_to_training_D1_subj_2-2_and_2-1.1.tone_3.mp4\n",
      "\n"
     ]
    },
    {
     "name": "stderr",
     "output_type": "stream",
     "text": [
      "                                                                     \r"
     ]
    },
    {
     "name": "stdout",
     "output_type": "stream",
     "text": [
      "Moviepy - Done !\n",
      "Moviepy - video ready /scratch/back_up/reward_competition_extention/proc/tone_clips/20230612_101935_standard_comp_to_training_D1_subj_2-2_and_2-1.1/20230612_101935_standard_comp_to_training_D1_subj_2-2_and_2-1.1.tone_3.mp4\n",
      "7426 8826\n",
      "Moviepy - Building video /scratch/back_up/reward_competition_extention/proc/tone_clips/20230612_101935_standard_comp_to_training_D1_subj_2-2_and_2-1.1/20230612_101935_standard_comp_to_training_D1_subj_2-2_and_2-1.1.tone_4.mp4.\n",
      "Moviepy - Writing video /scratch/back_up/reward_competition_extention/proc/tone_clips/20230612_101935_standard_comp_to_training_D1_subj_2-2_and_2-1.1/20230612_101935_standard_comp_to_training_D1_subj_2-2_and_2-1.1.tone_4.mp4\n",
      "\n"
     ]
    },
    {
     "name": "stderr",
     "output_type": "stream",
     "text": [
      "                                                                     \r"
     ]
    },
    {
     "name": "stdout",
     "output_type": "stream",
     "text": [
      "Moviepy - Done !\n",
      "Moviepy - video ready /scratch/back_up/reward_competition_extention/proc/tone_clips/20230612_101935_standard_comp_to_training_D1_subj_2-2_and_2-1.1/20230612_101935_standard_comp_to_training_D1_subj_2-2_and_2-1.1.tone_4.mp4\n",
      "8526 9926\n",
      "Moviepy - Building video /scratch/back_up/reward_competition_extention/proc/tone_clips/20230612_101935_standard_comp_to_training_D1_subj_2-2_and_2-1.1/20230612_101935_standard_comp_to_training_D1_subj_2-2_and_2-1.1.tone_5.mp4.\n",
      "Moviepy - Writing video /scratch/back_up/reward_competition_extention/proc/tone_clips/20230612_101935_standard_comp_to_training_D1_subj_2-2_and_2-1.1/20230612_101935_standard_comp_to_training_D1_subj_2-2_and_2-1.1.tone_5.mp4\n",
      "\n"
     ]
    },
    {
     "name": "stderr",
     "output_type": "stream",
     "text": [
      "                                                                     \r"
     ]
    },
    {
     "name": "stdout",
     "output_type": "stream",
     "text": [
      "Moviepy - Done !\n",
      "Moviepy - video ready /scratch/back_up/reward_competition_extention/proc/tone_clips/20230612_101935_standard_comp_to_training_D1_subj_2-2_and_2-1.1/20230612_101935_standard_comp_to_training_D1_subj_2-2_and_2-1.1.tone_5.mp4\n",
      "9526 10926\n",
      "Moviepy - Building video /scratch/back_up/reward_competition_extention/proc/tone_clips/20230612_101935_standard_comp_to_training_D1_subj_2-2_and_2-1.1/20230612_101935_standard_comp_to_training_D1_subj_2-2_and_2-1.1.tone_6.mp4.\n",
      "Moviepy - Writing video /scratch/back_up/reward_competition_extention/proc/tone_clips/20230612_101935_standard_comp_to_training_D1_subj_2-2_and_2-1.1/20230612_101935_standard_comp_to_training_D1_subj_2-2_and_2-1.1.tone_6.mp4\n",
      "\n"
     ]
    },
    {
     "name": "stderr",
     "output_type": "stream",
     "text": [
      "                                                                     \r"
     ]
    },
    {
     "name": "stdout",
     "output_type": "stream",
     "text": [
      "Moviepy - Done !\n",
      "Moviepy - video ready /scratch/back_up/reward_competition_extention/proc/tone_clips/20230612_101935_standard_comp_to_training_D1_subj_2-2_and_2-1.1/20230612_101935_standard_comp_to_training_D1_subj_2-2_and_2-1.1.tone_6.mp4\n",
      "11426 12826\n",
      "Moviepy - Building video /scratch/back_up/reward_competition_extention/proc/tone_clips/20230612_101935_standard_comp_to_training_D1_subj_2-2_and_2-1.1/20230612_101935_standard_comp_to_training_D1_subj_2-2_and_2-1.1.tone_7.mp4.\n",
      "Moviepy - Writing video /scratch/back_up/reward_competition_extention/proc/tone_clips/20230612_101935_standard_comp_to_training_D1_subj_2-2_and_2-1.1/20230612_101935_standard_comp_to_training_D1_subj_2-2_and_2-1.1.tone_7.mp4\n",
      "\n"
     ]
    },
    {
     "name": "stderr",
     "output_type": "stream",
     "text": [
      "                                                                     \r"
     ]
    },
    {
     "name": "stdout",
     "output_type": "stream",
     "text": [
      "Moviepy - Done !\n",
      "Moviepy - video ready /scratch/back_up/reward_competition_extention/proc/tone_clips/20230612_101935_standard_comp_to_training_D1_subj_2-2_and_2-1.1/20230612_101935_standard_comp_to_training_D1_subj_2-2_and_2-1.1.tone_7.mp4\n",
      "12926 14326\n",
      "Moviepy - Building video /scratch/back_up/reward_competition_extention/proc/tone_clips/20230612_101935_standard_comp_to_training_D1_subj_2-2_and_2-1.1/20230612_101935_standard_comp_to_training_D1_subj_2-2_and_2-1.1.tone_8.mp4.\n",
      "Moviepy - Writing video /scratch/back_up/reward_competition_extention/proc/tone_clips/20230612_101935_standard_comp_to_training_D1_subj_2-2_and_2-1.1/20230612_101935_standard_comp_to_training_D1_subj_2-2_and_2-1.1.tone_8.mp4\n",
      "\n"
     ]
    },
    {
     "name": "stderr",
     "output_type": "stream",
     "text": [
      "                                                                     \r"
     ]
    },
    {
     "name": "stdout",
     "output_type": "stream",
     "text": [
      "Moviepy - Done !\n",
      "Moviepy - video ready /scratch/back_up/reward_competition_extention/proc/tone_clips/20230612_101935_standard_comp_to_training_D1_subj_2-2_and_2-1.1/20230612_101935_standard_comp_to_training_D1_subj_2-2_and_2-1.1.tone_8.mp4\n",
      "15026 16426\n",
      "Moviepy - Building video /scratch/back_up/reward_competition_extention/proc/tone_clips/20230612_101935_standard_comp_to_training_D1_subj_2-2_and_2-1.1/20230612_101935_standard_comp_to_training_D1_subj_2-2_and_2-1.1.tone_9.mp4.\n",
      "Moviepy - Writing video /scratch/back_up/reward_competition_extention/proc/tone_clips/20230612_101935_standard_comp_to_training_D1_subj_2-2_and_2-1.1/20230612_101935_standard_comp_to_training_D1_subj_2-2_and_2-1.1.tone_9.mp4\n",
      "\n"
     ]
    },
    {
     "name": "stderr",
     "output_type": "stream",
     "text": [
      "                                                                     \r"
     ]
    },
    {
     "name": "stdout",
     "output_type": "stream",
     "text": [
      "Moviepy - Done !\n",
      "Moviepy - video ready /scratch/back_up/reward_competition_extention/proc/tone_clips/20230612_101935_standard_comp_to_training_D1_subj_2-2_and_2-1.1/20230612_101935_standard_comp_to_training_D1_subj_2-2_and_2-1.1.tone_9.mp4\n",
      "16026 17426\n",
      "Moviepy - Building video /scratch/back_up/reward_competition_extention/proc/tone_clips/20230612_101935_standard_comp_to_training_D1_subj_2-2_and_2-1.1/20230612_101935_standard_comp_to_training_D1_subj_2-2_and_2-1.1.tone_10.mp4.\n",
      "Moviepy - Writing video /scratch/back_up/reward_competition_extention/proc/tone_clips/20230612_101935_standard_comp_to_training_D1_subj_2-2_and_2-1.1/20230612_101935_standard_comp_to_training_D1_subj_2-2_and_2-1.1.tone_10.mp4\n",
      "\n"
     ]
    },
    {
     "name": "stderr",
     "output_type": "stream",
     "text": [
      "                                                                     \r"
     ]
    },
    {
     "name": "stdout",
     "output_type": "stream",
     "text": [
      "Moviepy - Done !\n",
      "Moviepy - video ready /scratch/back_up/reward_competition_extention/proc/tone_clips/20230612_101935_standard_comp_to_training_D1_subj_2-2_and_2-1.1/20230612_101935_standard_comp_to_training_D1_subj_2-2_and_2-1.1.tone_10.mp4\n",
      "17626 19026\n",
      "Moviepy - Building video /scratch/back_up/reward_competition_extention/proc/tone_clips/20230612_101935_standard_comp_to_training_D1_subj_2-2_and_2-1.1/20230612_101935_standard_comp_to_training_D1_subj_2-2_and_2-1.1.tone_11.mp4.\n",
      "Moviepy - Writing video /scratch/back_up/reward_competition_extention/proc/tone_clips/20230612_101935_standard_comp_to_training_D1_subj_2-2_and_2-1.1/20230612_101935_standard_comp_to_training_D1_subj_2-2_and_2-1.1.tone_11.mp4\n",
      "\n"
     ]
    },
    {
     "name": "stderr",
     "output_type": "stream",
     "text": [
      "                                                                     \r"
     ]
    },
    {
     "name": "stdout",
     "output_type": "stream",
     "text": [
      "Moviepy - Done !\n",
      "Moviepy - video ready /scratch/back_up/reward_competition_extention/proc/tone_clips/20230612_101935_standard_comp_to_training_D1_subj_2-2_and_2-1.1/20230612_101935_standard_comp_to_training_D1_subj_2-2_and_2-1.1.tone_11.mp4\n",
      "18926 20326\n",
      "Moviepy - Building video /scratch/back_up/reward_competition_extention/proc/tone_clips/20230612_101935_standard_comp_to_training_D1_subj_2-2_and_2-1.1/20230612_101935_standard_comp_to_training_D1_subj_2-2_and_2-1.1.tone_12.mp4.\n",
      "Moviepy - Writing video /scratch/back_up/reward_competition_extention/proc/tone_clips/20230612_101935_standard_comp_to_training_D1_subj_2-2_and_2-1.1/20230612_101935_standard_comp_to_training_D1_subj_2-2_and_2-1.1.tone_12.mp4\n",
      "\n"
     ]
    },
    {
     "name": "stderr",
     "output_type": "stream",
     "text": [
      "                                                                     \r"
     ]
    },
    {
     "name": "stdout",
     "output_type": "stream",
     "text": [
      "Moviepy - Done !\n",
      "Moviepy - video ready /scratch/back_up/reward_competition_extention/proc/tone_clips/20230612_101935_standard_comp_to_training_D1_subj_2-2_and_2-1.1/20230612_101935_standard_comp_to_training_D1_subj_2-2_and_2-1.1.tone_12.mp4\n",
      "20226 21626\n",
      "Moviepy - Building video /scratch/back_up/reward_competition_extention/proc/tone_clips/20230612_101935_standard_comp_to_training_D1_subj_2-2_and_2-1.1/20230612_101935_standard_comp_to_training_D1_subj_2-2_and_2-1.1.tone_13.mp4.\n",
      "Moviepy - Writing video /scratch/back_up/reward_competition_extention/proc/tone_clips/20230612_101935_standard_comp_to_training_D1_subj_2-2_and_2-1.1/20230612_101935_standard_comp_to_training_D1_subj_2-2_and_2-1.1.tone_13.mp4\n",
      "\n"
     ]
    },
    {
     "name": "stderr",
     "output_type": "stream",
     "text": [
      "                                                                     \r"
     ]
    },
    {
     "name": "stdout",
     "output_type": "stream",
     "text": [
      "Moviepy - Done !\n",
      "Moviepy - video ready /scratch/back_up/reward_competition_extention/proc/tone_clips/20230612_101935_standard_comp_to_training_D1_subj_2-2_and_2-1.1/20230612_101935_standard_comp_to_training_D1_subj_2-2_and_2-1.1.tone_13.mp4\n",
      "21226 22626\n",
      "Moviepy - Building video /scratch/back_up/reward_competition_extention/proc/tone_clips/20230612_101935_standard_comp_to_training_D1_subj_2-2_and_2-1.1/20230612_101935_standard_comp_to_training_D1_subj_2-2_and_2-1.1.tone_14.mp4.\n",
      "Moviepy - Writing video /scratch/back_up/reward_competition_extention/proc/tone_clips/20230612_101935_standard_comp_to_training_D1_subj_2-2_and_2-1.1/20230612_101935_standard_comp_to_training_D1_subj_2-2_and_2-1.1.tone_14.mp4\n",
      "\n"
     ]
    },
    {
     "name": "stderr",
     "output_type": "stream",
     "text": [
      "                                                                     \r"
     ]
    },
    {
     "name": "stdout",
     "output_type": "stream",
     "text": [
      "Moviepy - Done !\n",
      "Moviepy - video ready /scratch/back_up/reward_competition_extention/proc/tone_clips/20230612_101935_standard_comp_to_training_D1_subj_2-2_and_2-1.1/20230612_101935_standard_comp_to_training_D1_subj_2-2_and_2-1.1.tone_14.mp4\n",
      "22626 24026\n",
      "Moviepy - Building video /scratch/back_up/reward_competition_extention/proc/tone_clips/20230612_101935_standard_comp_to_training_D1_subj_2-2_and_2-1.1/20230612_101935_standard_comp_to_training_D1_subj_2-2_and_2-1.1.tone_15.mp4.\n",
      "Moviepy - Writing video /scratch/back_up/reward_competition_extention/proc/tone_clips/20230612_101935_standard_comp_to_training_D1_subj_2-2_and_2-1.1/20230612_101935_standard_comp_to_training_D1_subj_2-2_and_2-1.1.tone_15.mp4\n",
      "\n"
     ]
    },
    {
     "name": "stderr",
     "output_type": "stream",
     "text": [
      "                                                                     \r"
     ]
    },
    {
     "name": "stdout",
     "output_type": "stream",
     "text": [
      "Moviepy - Done !\n",
      "Moviepy - video ready /scratch/back_up/reward_competition_extention/proc/tone_clips/20230612_101935_standard_comp_to_training_D1_subj_2-2_and_2-1.1/20230612_101935_standard_comp_to_training_D1_subj_2-2_and_2-1.1.tone_15.mp4\n",
      "24526 25926\n",
      "Moviepy - Building video /scratch/back_up/reward_competition_extention/proc/tone_clips/20230612_101935_standard_comp_to_training_D1_subj_2-2_and_2-1.1/20230612_101935_standard_comp_to_training_D1_subj_2-2_and_2-1.1.tone_16.mp4.\n",
      "Moviepy - Writing video /scratch/back_up/reward_competition_extention/proc/tone_clips/20230612_101935_standard_comp_to_training_D1_subj_2-2_and_2-1.1/20230612_101935_standard_comp_to_training_D1_subj_2-2_and_2-1.1.tone_16.mp4\n",
      "\n"
     ]
    },
    {
     "name": "stderr",
     "output_type": "stream",
     "text": [
      "                                                                     \r"
     ]
    },
    {
     "name": "stdout",
     "output_type": "stream",
     "text": [
      "Moviepy - Done !\n",
      "Moviepy - video ready /scratch/back_up/reward_competition_extention/proc/tone_clips/20230612_101935_standard_comp_to_training_D1_subj_2-2_and_2-1.1/20230612_101935_standard_comp_to_training_D1_subj_2-2_and_2-1.1.tone_16.mp4\n",
      "26126 27526\n",
      "Moviepy - Building video /scratch/back_up/reward_competition_extention/proc/tone_clips/20230612_101935_standard_comp_to_training_D1_subj_2-2_and_2-1.1/20230612_101935_standard_comp_to_training_D1_subj_2-2_and_2-1.1.tone_17.mp4.\n",
      "Moviepy - Writing video /scratch/back_up/reward_competition_extention/proc/tone_clips/20230612_101935_standard_comp_to_training_D1_subj_2-2_and_2-1.1/20230612_101935_standard_comp_to_training_D1_subj_2-2_and_2-1.1.tone_17.mp4\n",
      "\n"
     ]
    },
    {
     "name": "stderr",
     "output_type": "stream",
     "text": [
      "                                                                     \r"
     ]
    },
    {
     "name": "stdout",
     "output_type": "stream",
     "text": [
      "Moviepy - Done !\n",
      "Moviepy - video ready /scratch/back_up/reward_competition_extention/proc/tone_clips/20230612_101935_standard_comp_to_training_D1_subj_2-2_and_2-1.1/20230612_101935_standard_comp_to_training_D1_subj_2-2_and_2-1.1.tone_17.mp4\n",
      "27526 28926\n",
      "Moviepy - Building video /scratch/back_up/reward_competition_extention/proc/tone_clips/20230612_101935_standard_comp_to_training_D1_subj_2-2_and_2-1.1/20230612_101935_standard_comp_to_training_D1_subj_2-2_and_2-1.1.tone_18.mp4.\n",
      "Moviepy - Writing video /scratch/back_up/reward_competition_extention/proc/tone_clips/20230612_101935_standard_comp_to_training_D1_subj_2-2_and_2-1.1/20230612_101935_standard_comp_to_training_D1_subj_2-2_and_2-1.1.tone_18.mp4\n",
      "\n"
     ]
    },
    {
     "name": "stderr",
     "output_type": "stream",
     "text": [
      "                                                                     \r"
     ]
    },
    {
     "name": "stdout",
     "output_type": "stream",
     "text": [
      "Moviepy - Done !\n",
      "Moviepy - video ready /scratch/back_up/reward_competition_extention/proc/tone_clips/20230612_101935_standard_comp_to_training_D1_subj_2-2_and_2-1.1/20230612_101935_standard_comp_to_training_D1_subj_2-2_and_2-1.1.tone_18.mp4\n",
      "29726 31126\n",
      "Moviepy - Building video /scratch/back_up/reward_competition_extention/proc/tone_clips/20230612_101935_standard_comp_to_training_D1_subj_2-2_and_2-1.1/20230612_101935_standard_comp_to_training_D1_subj_2-2_and_2-1.1.tone_19.mp4.\n",
      "Moviepy - Writing video /scratch/back_up/reward_competition_extention/proc/tone_clips/20230612_101935_standard_comp_to_training_D1_subj_2-2_and_2-1.1/20230612_101935_standard_comp_to_training_D1_subj_2-2_and_2-1.1.tone_19.mp4\n",
      "\n"
     ]
    },
    {
     "name": "stderr",
     "output_type": "stream",
     "text": [
      "                                                                     \r"
     ]
    },
    {
     "name": "stdout",
     "output_type": "stream",
     "text": [
      "Moviepy - Done !\n",
      "Moviepy - video ready /scratch/back_up/reward_competition_extention/proc/tone_clips/20230612_101935_standard_comp_to_training_D1_subj_2-2_and_2-1.1/20230612_101935_standard_comp_to_training_D1_subj_2-2_and_2-1.1.tone_19.mp4\n",
      "30926 32326\n",
      "Moviepy - Building video /scratch/back_up/reward_competition_extention/proc/tone_clips/20230612_101935_standard_comp_to_training_D1_subj_2-2_and_2-1.1/20230612_101935_standard_comp_to_training_D1_subj_2-2_and_2-1.1.tone_20.mp4.\n",
      "Moviepy - Writing video /scratch/back_up/reward_competition_extention/proc/tone_clips/20230612_101935_standard_comp_to_training_D1_subj_2-2_and_2-1.1/20230612_101935_standard_comp_to_training_D1_subj_2-2_and_2-1.1.tone_20.mp4\n",
      "\n"
     ]
    },
    {
     "name": "stderr",
     "output_type": "stream",
     "text": [
      "                                                                     \r"
     ]
    },
    {
     "name": "stdout",
     "output_type": "stream",
     "text": [
      "Moviepy - Done !\n",
      "Moviepy - video ready /scratch/back_up/reward_competition_extention/proc/tone_clips/20230612_101935_standard_comp_to_training_D1_subj_2-2_and_2-1.1/20230612_101935_standard_comp_to_training_D1_subj_2-2_and_2-1.1.tone_20.mp4\n",
      "36926 38326\n",
      "Moviepy - Building video /scratch/back_up/reward_competition_extention/proc/tone_clips/20230612_101935_standard_comp_to_training_D1_subj_2-2_and_2-1.1/20230612_101935_standard_comp_to_training_D1_subj_2-2_and_2-1.1.tone_21.mp4.\n",
      "Moviepy - Writing video /scratch/back_up/reward_competition_extention/proc/tone_clips/20230612_101935_standard_comp_to_training_D1_subj_2-2_and_2-1.1/20230612_101935_standard_comp_to_training_D1_subj_2-2_and_2-1.1.tone_21.mp4\n",
      "\n"
     ]
    },
    {
     "name": "stderr",
     "output_type": "stream",
     "text": [
      "                                                                     \r"
     ]
    },
    {
     "name": "stdout",
     "output_type": "stream",
     "text": [
      "Moviepy - Done !\n",
      "Moviepy - video ready /scratch/back_up/reward_competition_extention/proc/tone_clips/20230612_101935_standard_comp_to_training_D1_subj_2-2_and_2-1.1/20230612_101935_standard_comp_to_training_D1_subj_2-2_and_2-1.1.tone_21.mp4\n",
      "38126 39526\n",
      "Moviepy - Building video /scratch/back_up/reward_competition_extention/proc/tone_clips/20230612_101935_standard_comp_to_training_D1_subj_2-2_and_2-1.1/20230612_101935_standard_comp_to_training_D1_subj_2-2_and_2-1.1.tone_22.mp4.\n",
      "Moviepy - Writing video /scratch/back_up/reward_competition_extention/proc/tone_clips/20230612_101935_standard_comp_to_training_D1_subj_2-2_and_2-1.1/20230612_101935_standard_comp_to_training_D1_subj_2-2_and_2-1.1.tone_22.mp4\n",
      "\n"
     ]
    },
    {
     "name": "stderr",
     "output_type": "stream",
     "text": [
      "                                                                     \r"
     ]
    },
    {
     "name": "stdout",
     "output_type": "stream",
     "text": [
      "Moviepy - Done !\n",
      "Moviepy - video ready /scratch/back_up/reward_competition_extention/proc/tone_clips/20230612_101935_standard_comp_to_training_D1_subj_2-2_and_2-1.1/20230612_101935_standard_comp_to_training_D1_subj_2-2_and_2-1.1.tone_22.mp4\n",
      "39226 40626\n",
      "Moviepy - Building video /scratch/back_up/reward_competition_extention/proc/tone_clips/20230612_101935_standard_comp_to_training_D1_subj_2-2_and_2-1.1/20230612_101935_standard_comp_to_training_D1_subj_2-2_and_2-1.1.tone_23.mp4.\n",
      "Moviepy - Writing video /scratch/back_up/reward_competition_extention/proc/tone_clips/20230612_101935_standard_comp_to_training_D1_subj_2-2_and_2-1.1/20230612_101935_standard_comp_to_training_D1_subj_2-2_and_2-1.1.tone_23.mp4\n",
      "\n"
     ]
    },
    {
     "name": "stderr",
     "output_type": "stream",
     "text": [
      "                                                                     \r"
     ]
    },
    {
     "name": "stdout",
     "output_type": "stream",
     "text": [
      "Moviepy - Done !\n",
      "Moviepy - video ready /scratch/back_up/reward_competition_extention/proc/tone_clips/20230612_101935_standard_comp_to_training_D1_subj_2-2_and_2-1.1/20230612_101935_standard_comp_to_training_D1_subj_2-2_and_2-1.1.tone_23.mp4\n",
      "40526 41926\n",
      "Moviepy - Building video /scratch/back_up/reward_competition_extention/proc/tone_clips/20230612_101935_standard_comp_to_training_D1_subj_2-2_and_2-1.1/20230612_101935_standard_comp_to_training_D1_subj_2-2_and_2-1.1.tone_24.mp4.\n",
      "Moviepy - Writing video /scratch/back_up/reward_competition_extention/proc/tone_clips/20230612_101935_standard_comp_to_training_D1_subj_2-2_and_2-1.1/20230612_101935_standard_comp_to_training_D1_subj_2-2_and_2-1.1.tone_24.mp4\n",
      "\n"
     ]
    },
    {
     "name": "stderr",
     "output_type": "stream",
     "text": [
      "                                                                     \r"
     ]
    },
    {
     "name": "stdout",
     "output_type": "stream",
     "text": [
      "Moviepy - Done !\n",
      "Moviepy - video ready /scratch/back_up/reward_competition_extention/proc/tone_clips/20230612_101935_standard_comp_to_training_D1_subj_2-2_and_2-1.1/20230612_101935_standard_comp_to_training_D1_subj_2-2_and_2-1.1.tone_24.mp4\n",
      "41626 43026\n",
      "Moviepy - Building video /scratch/back_up/reward_competition_extention/proc/tone_clips/20230612_101935_standard_comp_to_training_D1_subj_2-2_and_2-1.1/20230612_101935_standard_comp_to_training_D1_subj_2-2_and_2-1.1.tone_25.mp4.\n",
      "Moviepy - Writing video /scratch/back_up/reward_competition_extention/proc/tone_clips/20230612_101935_standard_comp_to_training_D1_subj_2-2_and_2-1.1/20230612_101935_standard_comp_to_training_D1_subj_2-2_and_2-1.1.tone_25.mp4\n",
      "\n"
     ]
    },
    {
     "name": "stderr",
     "output_type": "stream",
     "text": [
      "                                                                     \r"
     ]
    },
    {
     "name": "stdout",
     "output_type": "stream",
     "text": [
      "Moviepy - Done !\n",
      "Moviepy - video ready /scratch/back_up/reward_competition_extention/proc/tone_clips/20230612_101935_standard_comp_to_training_D1_subj_2-2_and_2-1.1/20230612_101935_standard_comp_to_training_D1_subj_2-2_and_2-1.1.tone_25.mp4\n",
      "42626 44026\n",
      "Moviepy - Building video /scratch/back_up/reward_competition_extention/proc/tone_clips/20230612_101935_standard_comp_to_training_D1_subj_2-2_and_2-1.1/20230612_101935_standard_comp_to_training_D1_subj_2-2_and_2-1.1.tone_26.mp4.\n",
      "Moviepy - Writing video /scratch/back_up/reward_competition_extention/proc/tone_clips/20230612_101935_standard_comp_to_training_D1_subj_2-2_and_2-1.1/20230612_101935_standard_comp_to_training_D1_subj_2-2_and_2-1.1.tone_26.mp4\n",
      "\n"
     ]
    },
    {
     "name": "stderr",
     "output_type": "stream",
     "text": [
      "                                                                     \r"
     ]
    },
    {
     "name": "stdout",
     "output_type": "stream",
     "text": [
      "Moviepy - Done !\n",
      "Moviepy - video ready /scratch/back_up/reward_competition_extention/proc/tone_clips/20230612_101935_standard_comp_to_training_D1_subj_2-2_and_2-1.1/20230612_101935_standard_comp_to_training_D1_subj_2-2_and_2-1.1.tone_26.mp4\n",
      "43626 45026\n",
      "Moviepy - Building video /scratch/back_up/reward_competition_extention/proc/tone_clips/20230612_101935_standard_comp_to_training_D1_subj_2-2_and_2-1.1/20230612_101935_standard_comp_to_training_D1_subj_2-2_and_2-1.1.tone_27.mp4.\n",
      "Moviepy - Writing video /scratch/back_up/reward_competition_extention/proc/tone_clips/20230612_101935_standard_comp_to_training_D1_subj_2-2_and_2-1.1/20230612_101935_standard_comp_to_training_D1_subj_2-2_and_2-1.1.tone_27.mp4\n",
      "\n"
     ]
    },
    {
     "name": "stderr",
     "output_type": "stream",
     "text": [
      "                                                                     \r"
     ]
    },
    {
     "name": "stdout",
     "output_type": "stream",
     "text": [
      "Moviepy - Done !\n",
      "Moviepy - video ready /scratch/back_up/reward_competition_extention/proc/tone_clips/20230612_101935_standard_comp_to_training_D1_subj_2-2_and_2-1.1/20230612_101935_standard_comp_to_training_D1_subj_2-2_and_2-1.1.tone_27.mp4\n",
      "45726 47126\n",
      "Moviepy - Building video /scratch/back_up/reward_competition_extention/proc/tone_clips/20230612_101935_standard_comp_to_training_D1_subj_2-2_and_2-1.1/20230612_101935_standard_comp_to_training_D1_subj_2-2_and_2-1.1.tone_28.mp4.\n",
      "Moviepy - Writing video /scratch/back_up/reward_competition_extention/proc/tone_clips/20230612_101935_standard_comp_to_training_D1_subj_2-2_and_2-1.1/20230612_101935_standard_comp_to_training_D1_subj_2-2_and_2-1.1.tone_28.mp4\n",
      "\n"
     ]
    },
    {
     "name": "stderr",
     "output_type": "stream",
     "text": [
      "                                                                     \r"
     ]
    },
    {
     "name": "stdout",
     "output_type": "stream",
     "text": [
      "Moviepy - Done !\n",
      "Moviepy - video ready /scratch/back_up/reward_competition_extention/proc/tone_clips/20230612_101935_standard_comp_to_training_D1_subj_2-2_and_2-1.1/20230612_101935_standard_comp_to_training_D1_subj_2-2_and_2-1.1.tone_28.mp4\n",
      "48126 49526\n",
      "Moviepy - Building video /scratch/back_up/reward_competition_extention/proc/tone_clips/20230612_101935_standard_comp_to_training_D1_subj_2-2_and_2-1.1/20230612_101935_standard_comp_to_training_D1_subj_2-2_and_2-1.1.tone_29.mp4.\n",
      "Moviepy - Writing video /scratch/back_up/reward_competition_extention/proc/tone_clips/20230612_101935_standard_comp_to_training_D1_subj_2-2_and_2-1.1/20230612_101935_standard_comp_to_training_D1_subj_2-2_and_2-1.1.tone_29.mp4\n",
      "\n"
     ]
    },
    {
     "name": "stderr",
     "output_type": "stream",
     "text": [
      "                                                                     \r"
     ]
    },
    {
     "name": "stdout",
     "output_type": "stream",
     "text": [
      "Moviepy - Done !\n",
      "Moviepy - video ready /scratch/back_up/reward_competition_extention/proc/tone_clips/20230612_101935_standard_comp_to_training_D1_subj_2-2_and_2-1.1/20230612_101935_standard_comp_to_training_D1_subj_2-2_and_2-1.1.tone_29.mp4\n",
      "50526 51926\n",
      "Moviepy - Building video /scratch/back_up/reward_competition_extention/proc/tone_clips/20230612_101935_standard_comp_to_training_D1_subj_2-2_and_2-1.1/20230612_101935_standard_comp_to_training_D1_subj_2-2_and_2-1.1.tone_30.mp4.\n",
      "Moviepy - Writing video /scratch/back_up/reward_competition_extention/proc/tone_clips/20230612_101935_standard_comp_to_training_D1_subj_2-2_and_2-1.1/20230612_101935_standard_comp_to_training_D1_subj_2-2_and_2-1.1.tone_30.mp4\n",
      "\n"
     ]
    },
    {
     "name": "stderr",
     "output_type": "stream",
     "text": [
      "                                                                     \r"
     ]
    },
    {
     "name": "stdout",
     "output_type": "stream",
     "text": [
      "Moviepy - Done !\n",
      "Moviepy - video ready /scratch/back_up/reward_competition_extention/proc/tone_clips/20230612_101935_standard_comp_to_training_D1_subj_2-2_and_2-1.1/20230612_101935_standard_comp_to_training_D1_subj_2-2_and_2-1.1.tone_30.mp4\n",
      "52726 54126\n",
      "Moviepy - Building video /scratch/back_up/reward_competition_extention/proc/tone_clips/20230612_101935_standard_comp_to_training_D1_subj_2-2_and_2-1.1/20230612_101935_standard_comp_to_training_D1_subj_2-2_and_2-1.1.tone_31.mp4.\n",
      "Moviepy - Writing video /scratch/back_up/reward_competition_extention/proc/tone_clips/20230612_101935_standard_comp_to_training_D1_subj_2-2_and_2-1.1/20230612_101935_standard_comp_to_training_D1_subj_2-2_and_2-1.1.tone_31.mp4\n",
      "\n"
     ]
    },
    {
     "name": "stderr",
     "output_type": "stream",
     "text": [
      "                                                                     \r"
     ]
    },
    {
     "name": "stdout",
     "output_type": "stream",
     "text": [
      "Moviepy - Done !\n",
      "Moviepy - video ready /scratch/back_up/reward_competition_extention/proc/tone_clips/20230612_101935_standard_comp_to_training_D1_subj_2-2_and_2-1.1/20230612_101935_standard_comp_to_training_D1_subj_2-2_and_2-1.1.tone_31.mp4\n",
      "54426 55826\n",
      "Moviepy - Building video /scratch/back_up/reward_competition_extention/proc/tone_clips/20230612_101935_standard_comp_to_training_D1_subj_2-2_and_2-1.1/20230612_101935_standard_comp_to_training_D1_subj_2-2_and_2-1.1.tone_32.mp4.\n",
      "Moviepy - Writing video /scratch/back_up/reward_competition_extention/proc/tone_clips/20230612_101935_standard_comp_to_training_D1_subj_2-2_and_2-1.1/20230612_101935_standard_comp_to_training_D1_subj_2-2_and_2-1.1.tone_32.mp4\n",
      "\n"
     ]
    },
    {
     "name": "stderr",
     "output_type": "stream",
     "text": [
      "                                                                     \r"
     ]
    },
    {
     "name": "stdout",
     "output_type": "stream",
     "text": [
      "Moviepy - Done !\n",
      "Moviepy - video ready /scratch/back_up/reward_competition_extention/proc/tone_clips/20230612_101935_standard_comp_to_training_D1_subj_2-2_and_2-1.1/20230612_101935_standard_comp_to_training_D1_subj_2-2_and_2-1.1.tone_32.mp4\n",
      "56826 58226\n",
      "Moviepy - Building video /scratch/back_up/reward_competition_extention/proc/tone_clips/20230612_101935_standard_comp_to_training_D1_subj_2-2_and_2-1.1/20230612_101935_standard_comp_to_training_D1_subj_2-2_and_2-1.1.tone_33.mp4.\n",
      "Moviepy - Writing video /scratch/back_up/reward_competition_extention/proc/tone_clips/20230612_101935_standard_comp_to_training_D1_subj_2-2_and_2-1.1/20230612_101935_standard_comp_to_training_D1_subj_2-2_and_2-1.1.tone_33.mp4\n",
      "\n"
     ]
    },
    {
     "name": "stderr",
     "output_type": "stream",
     "text": [
      "                                                                     \r"
     ]
    },
    {
     "name": "stdout",
     "output_type": "stream",
     "text": [
      "Moviepy - Done !\n",
      "Moviepy - video ready /scratch/back_up/reward_competition_extention/proc/tone_clips/20230612_101935_standard_comp_to_training_D1_subj_2-2_and_2-1.1/20230612_101935_standard_comp_to_training_D1_subj_2-2_and_2-1.1.tone_33.mp4\n",
      "58026 59426\n",
      "Moviepy - Building video /scratch/back_up/reward_competition_extention/proc/tone_clips/20230612_101935_standard_comp_to_training_D1_subj_2-2_and_2-1.1/20230612_101935_standard_comp_to_training_D1_subj_2-2_and_2-1.1.tone_34.mp4.\n",
      "Moviepy - Writing video /scratch/back_up/reward_competition_extention/proc/tone_clips/20230612_101935_standard_comp_to_training_D1_subj_2-2_and_2-1.1/20230612_101935_standard_comp_to_training_D1_subj_2-2_and_2-1.1.tone_34.mp4\n",
      "\n"
     ]
    },
    {
     "name": "stderr",
     "output_type": "stream",
     "text": [
      "                                                                     \r"
     ]
    },
    {
     "name": "stdout",
     "output_type": "stream",
     "text": [
      "Moviepy - Done !\n",
      "Moviepy - video ready /scratch/back_up/reward_competition_extention/proc/tone_clips/20230612_101935_standard_comp_to_training_D1_subj_2-2_and_2-1.1/20230612_101935_standard_comp_to_training_D1_subj_2-2_and_2-1.1.tone_34.mp4\n",
      "59326 60726\n",
      "Moviepy - Building video /scratch/back_up/reward_competition_extention/proc/tone_clips/20230612_101935_standard_comp_to_training_D1_subj_2-2_and_2-1.1/20230612_101935_standard_comp_to_training_D1_subj_2-2_and_2-1.1.tone_35.mp4.\n",
      "Moviepy - Writing video /scratch/back_up/reward_competition_extention/proc/tone_clips/20230612_101935_standard_comp_to_training_D1_subj_2-2_and_2-1.1/20230612_101935_standard_comp_to_training_D1_subj_2-2_and_2-1.1.tone_35.mp4\n",
      "\n"
     ]
    },
    {
     "name": "stderr",
     "output_type": "stream",
     "text": [
      "                                                                     \r"
     ]
    },
    {
     "name": "stdout",
     "output_type": "stream",
     "text": [
      "Moviepy - Done !\n",
      "Moviepy - video ready /scratch/back_up/reward_competition_extention/proc/tone_clips/20230612_101935_standard_comp_to_training_D1_subj_2-2_and_2-1.1/20230612_101935_standard_comp_to_training_D1_subj_2-2_and_2-1.1.tone_35.mp4\n",
      "60526 61926\n",
      "Moviepy - Building video /scratch/back_up/reward_competition_extention/proc/tone_clips/20230612_101935_standard_comp_to_training_D1_subj_2-2_and_2-1.1/20230612_101935_standard_comp_to_training_D1_subj_2-2_and_2-1.1.tone_36.mp4.\n",
      "Moviepy - Writing video /scratch/back_up/reward_competition_extention/proc/tone_clips/20230612_101935_standard_comp_to_training_D1_subj_2-2_and_2-1.1/20230612_101935_standard_comp_to_training_D1_subj_2-2_and_2-1.1.tone_36.mp4\n",
      "\n"
     ]
    },
    {
     "name": "stderr",
     "output_type": "stream",
     "text": [
      "                                                                     \r"
     ]
    },
    {
     "name": "stdout",
     "output_type": "stream",
     "text": [
      "Moviepy - Done !\n",
      "Moviepy - video ready /scratch/back_up/reward_competition_extention/proc/tone_clips/20230612_101935_standard_comp_to_training_D1_subj_2-2_and_2-1.1/20230612_101935_standard_comp_to_training_D1_subj_2-2_and_2-1.1.tone_36.mp4\n",
      "62026 63426\n",
      "Moviepy - Building video /scratch/back_up/reward_competition_extention/proc/tone_clips/20230612_101935_standard_comp_to_training_D1_subj_2-2_and_2-1.1/20230612_101935_standard_comp_to_training_D1_subj_2-2_and_2-1.1.tone_37.mp4.\n",
      "Moviepy - Writing video /scratch/back_up/reward_competition_extention/proc/tone_clips/20230612_101935_standard_comp_to_training_D1_subj_2-2_and_2-1.1/20230612_101935_standard_comp_to_training_D1_subj_2-2_and_2-1.1.tone_37.mp4\n",
      "\n"
     ]
    },
    {
     "name": "stderr",
     "output_type": "stream",
     "text": [
      "                                                                     \r"
     ]
    },
    {
     "name": "stdout",
     "output_type": "stream",
     "text": [
      "Moviepy - Done !\n",
      "Moviepy - video ready /scratch/back_up/reward_competition_extention/proc/tone_clips/20230612_101935_standard_comp_to_training_D1_subj_2-2_and_2-1.1/20230612_101935_standard_comp_to_training_D1_subj_2-2_and_2-1.1.tone_37.mp4\n",
      "64026 65426\n",
      "Moviepy - Building video /scratch/back_up/reward_competition_extention/proc/tone_clips/20230612_101935_standard_comp_to_training_D1_subj_2-2_and_2-1.1/20230612_101935_standard_comp_to_training_D1_subj_2-2_and_2-1.1.tone_38.mp4.\n",
      "Moviepy - Writing video /scratch/back_up/reward_competition_extention/proc/tone_clips/20230612_101935_standard_comp_to_training_D1_subj_2-2_and_2-1.1/20230612_101935_standard_comp_to_training_D1_subj_2-2_and_2-1.1.tone_38.mp4\n",
      "\n"
     ]
    },
    {
     "name": "stderr",
     "output_type": "stream",
     "text": [
      "                                                                     \r"
     ]
    },
    {
     "name": "stdout",
     "output_type": "stream",
     "text": [
      "Moviepy - Done !\n",
      "Moviepy - video ready /scratch/back_up/reward_competition_extention/proc/tone_clips/20230612_101935_standard_comp_to_training_D1_subj_2-2_and_2-1.1/20230612_101935_standard_comp_to_training_D1_subj_2-2_and_2-1.1.tone_38.mp4\n",
      "65926 67326\n",
      "Moviepy - Building video /scratch/back_up/reward_competition_extention/proc/tone_clips/20230612_101935_standard_comp_to_training_D1_subj_2-2_and_2-1.1/20230612_101935_standard_comp_to_training_D1_subj_2-2_and_2-1.1.tone_39.mp4.\n",
      "Moviepy - Writing video /scratch/back_up/reward_competition_extention/proc/tone_clips/20230612_101935_standard_comp_to_training_D1_subj_2-2_and_2-1.1/20230612_101935_standard_comp_to_training_D1_subj_2-2_and_2-1.1.tone_39.mp4\n",
      "\n"
     ]
    },
    {
     "name": "stderr",
     "output_type": "stream",
     "text": [
      "                                                                     \r"
     ]
    },
    {
     "name": "stdout",
     "output_type": "stream",
     "text": [
      "Moviepy - Done !\n",
      "Moviepy - video ready /scratch/back_up/reward_competition_extention/proc/tone_clips/20230612_101935_standard_comp_to_training_D1_subj_2-2_and_2-1.1/20230612_101935_standard_comp_to_training_D1_subj_2-2_and_2-1.1.tone_39.mp4\n",
      "66926 68326\n",
      "Moviepy - Building video /scratch/back_up/reward_competition_extention/proc/tone_clips/20230612_101935_standard_comp_to_training_D1_subj_2-2_and_2-1.1/20230612_101935_standard_comp_to_training_D1_subj_2-2_and_2-1.1.tone_40.mp4.\n",
      "Moviepy - Writing video /scratch/back_up/reward_competition_extention/proc/tone_clips/20230612_101935_standard_comp_to_training_D1_subj_2-2_and_2-1.1/20230612_101935_standard_comp_to_training_D1_subj_2-2_and_2-1.1.tone_40.mp4\n",
      "\n"
     ]
    },
    {
     "name": "stderr",
     "output_type": "stream",
     "text": [
      "                                                                     \r"
     ]
    },
    {
     "name": "stdout",
     "output_type": "stream",
     "text": [
      "Moviepy - Done !\n",
      "Moviepy - video ready /scratch/back_up/reward_competition_extention/proc/tone_clips/20230612_101935_standard_comp_to_training_D1_subj_2-2_and_2-1.1/20230612_101935_standard_comp_to_training_D1_subj_2-2_and_2-1.1.tone_40.mp4\n",
      "925 2325\n",
      "Moviepy - Building video /scratch/back_up/reward_competition_extention/proc/tone_clips/20230612_112630_standard_comp_to_training_D1_subj_1-2_and_1-1.1/20230612_112630_standard_comp_to_training_D1_subj_1-2_and_1-1.1.tone_1.mp4.\n",
      "Moviepy - Writing video /scratch/back_up/reward_competition_extention/proc/tone_clips/20230612_112630_standard_comp_to_training_D1_subj_1-2_and_1-1.1/20230612_112630_standard_comp_to_training_D1_subj_1-2_and_1-1.1.tone_1.mp4\n",
      "\n"
     ]
    },
    {
     "name": "stderr",
     "output_type": "stream",
     "text": [
      "                                                                     \r"
     ]
    },
    {
     "name": "stdout",
     "output_type": "stream",
     "text": [
      "Moviepy - Done !\n",
      "Moviepy - video ready /scratch/back_up/reward_competition_extention/proc/tone_clips/20230612_112630_standard_comp_to_training_D1_subj_1-2_and_1-1.1/20230612_112630_standard_comp_to_training_D1_subj_1-2_and_1-1.1.tone_1.mp4\n",
      "3325 4725\n",
      "Moviepy - Building video /scratch/back_up/reward_competition_extention/proc/tone_clips/20230612_112630_standard_comp_to_training_D1_subj_1-2_and_1-1.1/20230612_112630_standard_comp_to_training_D1_subj_1-2_and_1-1.1.tone_2.mp4.\n",
      "Moviepy - Writing video /scratch/back_up/reward_competition_extention/proc/tone_clips/20230612_112630_standard_comp_to_training_D1_subj_1-2_and_1-1.1/20230612_112630_standard_comp_to_training_D1_subj_1-2_and_1-1.1.tone_2.mp4\n",
      "\n"
     ]
    },
    {
     "name": "stderr",
     "output_type": "stream",
     "text": [
      "                                                                     \r"
     ]
    },
    {
     "name": "stdout",
     "output_type": "stream",
     "text": [
      "Moviepy - Done !\n",
      "Moviepy - video ready /scratch/back_up/reward_competition_extention/proc/tone_clips/20230612_112630_standard_comp_to_training_D1_subj_1-2_and_1-1.1/20230612_112630_standard_comp_to_training_D1_subj_1-2_and_1-1.1.tone_2.mp4\n",
      "5625 7025\n",
      "Moviepy - Building video /scratch/back_up/reward_competition_extention/proc/tone_clips/20230612_112630_standard_comp_to_training_D1_subj_1-2_and_1-1.1/20230612_112630_standard_comp_to_training_D1_subj_1-2_and_1-1.1.tone_3.mp4.\n",
      "Moviepy - Writing video /scratch/back_up/reward_competition_extention/proc/tone_clips/20230612_112630_standard_comp_to_training_D1_subj_1-2_and_1-1.1/20230612_112630_standard_comp_to_training_D1_subj_1-2_and_1-1.1.tone_3.mp4\n",
      "\n"
     ]
    },
    {
     "name": "stderr",
     "output_type": "stream",
     "text": [
      "                                                                     \r"
     ]
    },
    {
     "name": "stdout",
     "output_type": "stream",
     "text": [
      "Moviepy - Done !\n",
      "Moviepy - video ready /scratch/back_up/reward_competition_extention/proc/tone_clips/20230612_112630_standard_comp_to_training_D1_subj_1-2_and_1-1.1/20230612_112630_standard_comp_to_training_D1_subj_1-2_and_1-1.1.tone_3.mp4\n",
      "7425 8825\n",
      "Moviepy - Building video /scratch/back_up/reward_competition_extention/proc/tone_clips/20230612_112630_standard_comp_to_training_D1_subj_1-2_and_1-1.1/20230612_112630_standard_comp_to_training_D1_subj_1-2_and_1-1.1.tone_4.mp4.\n",
      "Moviepy - Writing video /scratch/back_up/reward_competition_extention/proc/tone_clips/20230612_112630_standard_comp_to_training_D1_subj_1-2_and_1-1.1/20230612_112630_standard_comp_to_training_D1_subj_1-2_and_1-1.1.tone_4.mp4\n",
      "\n"
     ]
    },
    {
     "name": "stderr",
     "output_type": "stream",
     "text": [
      "                                                                     \r"
     ]
    },
    {
     "name": "stdout",
     "output_type": "stream",
     "text": [
      "Moviepy - Done !\n",
      "Moviepy - video ready /scratch/back_up/reward_competition_extention/proc/tone_clips/20230612_112630_standard_comp_to_training_D1_subj_1-2_and_1-1.1/20230612_112630_standard_comp_to_training_D1_subj_1-2_and_1-1.1.tone_4.mp4\n",
      "8525 9925\n",
      "Moviepy - Building video /scratch/back_up/reward_competition_extention/proc/tone_clips/20230612_112630_standard_comp_to_training_D1_subj_1-2_and_1-1.1/20230612_112630_standard_comp_to_training_D1_subj_1-2_and_1-1.1.tone_5.mp4.\n",
      "Moviepy - Writing video /scratch/back_up/reward_competition_extention/proc/tone_clips/20230612_112630_standard_comp_to_training_D1_subj_1-2_and_1-1.1/20230612_112630_standard_comp_to_training_D1_subj_1-2_and_1-1.1.tone_5.mp4\n",
      "\n"
     ]
    },
    {
     "name": "stderr",
     "output_type": "stream",
     "text": [
      "                                                                     \r"
     ]
    },
    {
     "name": "stdout",
     "output_type": "stream",
     "text": [
      "Moviepy - Done !\n",
      "Moviepy - video ready /scratch/back_up/reward_competition_extention/proc/tone_clips/20230612_112630_standard_comp_to_training_D1_subj_1-2_and_1-1.1/20230612_112630_standard_comp_to_training_D1_subj_1-2_and_1-1.1.tone_5.mp4\n",
      "9525 10925\n",
      "Moviepy - Building video /scratch/back_up/reward_competition_extention/proc/tone_clips/20230612_112630_standard_comp_to_training_D1_subj_1-2_and_1-1.1/20230612_112630_standard_comp_to_training_D1_subj_1-2_and_1-1.1.tone_6.mp4.\n",
      "Moviepy - Writing video /scratch/back_up/reward_competition_extention/proc/tone_clips/20230612_112630_standard_comp_to_training_D1_subj_1-2_and_1-1.1/20230612_112630_standard_comp_to_training_D1_subj_1-2_and_1-1.1.tone_6.mp4\n",
      "\n"
     ]
    },
    {
     "name": "stderr",
     "output_type": "stream",
     "text": [
      "                                                                     \r"
     ]
    },
    {
     "name": "stdout",
     "output_type": "stream",
     "text": [
      "Moviepy - Done !\n",
      "Moviepy - video ready /scratch/back_up/reward_competition_extention/proc/tone_clips/20230612_112630_standard_comp_to_training_D1_subj_1-2_and_1-1.1/20230612_112630_standard_comp_to_training_D1_subj_1-2_and_1-1.1.tone_6.mp4\n",
      "11425 12825\n",
      "Moviepy - Building video /scratch/back_up/reward_competition_extention/proc/tone_clips/20230612_112630_standard_comp_to_training_D1_subj_1-2_and_1-1.1/20230612_112630_standard_comp_to_training_D1_subj_1-2_and_1-1.1.tone_7.mp4.\n",
      "Moviepy - Writing video /scratch/back_up/reward_competition_extention/proc/tone_clips/20230612_112630_standard_comp_to_training_D1_subj_1-2_and_1-1.1/20230612_112630_standard_comp_to_training_D1_subj_1-2_and_1-1.1.tone_7.mp4\n",
      "\n"
     ]
    },
    {
     "name": "stderr",
     "output_type": "stream",
     "text": [
      "                                                                     \r"
     ]
    },
    {
     "name": "stdout",
     "output_type": "stream",
     "text": [
      "Moviepy - Done !\n",
      "Moviepy - video ready /scratch/back_up/reward_competition_extention/proc/tone_clips/20230612_112630_standard_comp_to_training_D1_subj_1-2_and_1-1.1/20230612_112630_standard_comp_to_training_D1_subj_1-2_and_1-1.1.tone_7.mp4\n",
      "12925 14325\n",
      "Moviepy - Building video /scratch/back_up/reward_competition_extention/proc/tone_clips/20230612_112630_standard_comp_to_training_D1_subj_1-2_and_1-1.1/20230612_112630_standard_comp_to_training_D1_subj_1-2_and_1-1.1.tone_8.mp4.\n",
      "Moviepy - Writing video /scratch/back_up/reward_competition_extention/proc/tone_clips/20230612_112630_standard_comp_to_training_D1_subj_1-2_and_1-1.1/20230612_112630_standard_comp_to_training_D1_subj_1-2_and_1-1.1.tone_8.mp4\n",
      "\n"
     ]
    },
    {
     "name": "stderr",
     "output_type": "stream",
     "text": [
      "                                                                     \r"
     ]
    },
    {
     "name": "stdout",
     "output_type": "stream",
     "text": [
      "Moviepy - Done !\n",
      "Moviepy - video ready /scratch/back_up/reward_competition_extention/proc/tone_clips/20230612_112630_standard_comp_to_training_D1_subj_1-2_and_1-1.1/20230612_112630_standard_comp_to_training_D1_subj_1-2_and_1-1.1.tone_8.mp4\n",
      "15025 16425\n",
      "Moviepy - Building video /scratch/back_up/reward_competition_extention/proc/tone_clips/20230612_112630_standard_comp_to_training_D1_subj_1-2_and_1-1.1/20230612_112630_standard_comp_to_training_D1_subj_1-2_and_1-1.1.tone_9.mp4.\n",
      "Moviepy - Writing video /scratch/back_up/reward_competition_extention/proc/tone_clips/20230612_112630_standard_comp_to_training_D1_subj_1-2_and_1-1.1/20230612_112630_standard_comp_to_training_D1_subj_1-2_and_1-1.1.tone_9.mp4\n",
      "\n"
     ]
    },
    {
     "name": "stderr",
     "output_type": "stream",
     "text": [
      "                                                                     \r"
     ]
    },
    {
     "name": "stdout",
     "output_type": "stream",
     "text": [
      "Moviepy - Done !\n",
      "Moviepy - video ready /scratch/back_up/reward_competition_extention/proc/tone_clips/20230612_112630_standard_comp_to_training_D1_subj_1-2_and_1-1.1/20230612_112630_standard_comp_to_training_D1_subj_1-2_and_1-1.1.tone_9.mp4\n",
      "16025 17425\n",
      "Moviepy - Building video /scratch/back_up/reward_competition_extention/proc/tone_clips/20230612_112630_standard_comp_to_training_D1_subj_1-2_and_1-1.1/20230612_112630_standard_comp_to_training_D1_subj_1-2_and_1-1.1.tone_10.mp4.\n",
      "Moviepy - Writing video /scratch/back_up/reward_competition_extention/proc/tone_clips/20230612_112630_standard_comp_to_training_D1_subj_1-2_and_1-1.1/20230612_112630_standard_comp_to_training_D1_subj_1-2_and_1-1.1.tone_10.mp4\n",
      "\n"
     ]
    },
    {
     "name": "stderr",
     "output_type": "stream",
     "text": [
      "                                                                     \r"
     ]
    },
    {
     "name": "stdout",
     "output_type": "stream",
     "text": [
      "Moviepy - Done !\n",
      "Moviepy - video ready /scratch/back_up/reward_competition_extention/proc/tone_clips/20230612_112630_standard_comp_to_training_D1_subj_1-2_and_1-1.1/20230612_112630_standard_comp_to_training_D1_subj_1-2_and_1-1.1.tone_10.mp4\n",
      "17625 19025\n",
      "Moviepy - Building video /scratch/back_up/reward_competition_extention/proc/tone_clips/20230612_112630_standard_comp_to_training_D1_subj_1-2_and_1-1.1/20230612_112630_standard_comp_to_training_D1_subj_1-2_and_1-1.1.tone_11.mp4.\n",
      "Moviepy - Writing video /scratch/back_up/reward_competition_extention/proc/tone_clips/20230612_112630_standard_comp_to_training_D1_subj_1-2_and_1-1.1/20230612_112630_standard_comp_to_training_D1_subj_1-2_and_1-1.1.tone_11.mp4\n",
      "\n"
     ]
    },
    {
     "name": "stderr",
     "output_type": "stream",
     "text": [
      "                                                                     \r"
     ]
    },
    {
     "name": "stdout",
     "output_type": "stream",
     "text": [
      "Moviepy - Done !\n",
      "Moviepy - video ready /scratch/back_up/reward_competition_extention/proc/tone_clips/20230612_112630_standard_comp_to_training_D1_subj_1-2_and_1-1.1/20230612_112630_standard_comp_to_training_D1_subj_1-2_and_1-1.1.tone_11.mp4\n",
      "18925 20325\n",
      "Moviepy - Building video /scratch/back_up/reward_competition_extention/proc/tone_clips/20230612_112630_standard_comp_to_training_D1_subj_1-2_and_1-1.1/20230612_112630_standard_comp_to_training_D1_subj_1-2_and_1-1.1.tone_12.mp4.\n",
      "Moviepy - Writing video /scratch/back_up/reward_competition_extention/proc/tone_clips/20230612_112630_standard_comp_to_training_D1_subj_1-2_and_1-1.1/20230612_112630_standard_comp_to_training_D1_subj_1-2_and_1-1.1.tone_12.mp4\n",
      "\n"
     ]
    },
    {
     "name": "stderr",
     "output_type": "stream",
     "text": [
      "                                                                     \r"
     ]
    },
    {
     "name": "stdout",
     "output_type": "stream",
     "text": [
      "Moviepy - Done !\n",
      "Moviepy - video ready /scratch/back_up/reward_competition_extention/proc/tone_clips/20230612_112630_standard_comp_to_training_D1_subj_1-2_and_1-1.1/20230612_112630_standard_comp_to_training_D1_subj_1-2_and_1-1.1.tone_12.mp4\n",
      "20225 21625\n",
      "Moviepy - Building video /scratch/back_up/reward_competition_extention/proc/tone_clips/20230612_112630_standard_comp_to_training_D1_subj_1-2_and_1-1.1/20230612_112630_standard_comp_to_training_D1_subj_1-2_and_1-1.1.tone_13.mp4.\n",
      "Moviepy - Writing video /scratch/back_up/reward_competition_extention/proc/tone_clips/20230612_112630_standard_comp_to_training_D1_subj_1-2_and_1-1.1/20230612_112630_standard_comp_to_training_D1_subj_1-2_and_1-1.1.tone_13.mp4\n",
      "\n"
     ]
    },
    {
     "name": "stderr",
     "output_type": "stream",
     "text": [
      "                                                                     \r"
     ]
    },
    {
     "name": "stdout",
     "output_type": "stream",
     "text": [
      "Moviepy - Done !\n",
      "Moviepy - video ready /scratch/back_up/reward_competition_extention/proc/tone_clips/20230612_112630_standard_comp_to_training_D1_subj_1-2_and_1-1.1/20230612_112630_standard_comp_to_training_D1_subj_1-2_and_1-1.1.tone_13.mp4\n",
      "21225 22625\n",
      "Moviepy - Building video /scratch/back_up/reward_competition_extention/proc/tone_clips/20230612_112630_standard_comp_to_training_D1_subj_1-2_and_1-1.1/20230612_112630_standard_comp_to_training_D1_subj_1-2_and_1-1.1.tone_14.mp4.\n",
      "Moviepy - Writing video /scratch/back_up/reward_competition_extention/proc/tone_clips/20230612_112630_standard_comp_to_training_D1_subj_1-2_and_1-1.1/20230612_112630_standard_comp_to_training_D1_subj_1-2_and_1-1.1.tone_14.mp4\n",
      "\n"
     ]
    },
    {
     "name": "stderr",
     "output_type": "stream",
     "text": [
      "                                                                     \r"
     ]
    },
    {
     "name": "stdout",
     "output_type": "stream",
     "text": [
      "Moviepy - Done !\n",
      "Moviepy - video ready /scratch/back_up/reward_competition_extention/proc/tone_clips/20230612_112630_standard_comp_to_training_D1_subj_1-2_and_1-1.1/20230612_112630_standard_comp_to_training_D1_subj_1-2_and_1-1.1.tone_14.mp4\n",
      "22625 24025\n",
      "Moviepy - Building video /scratch/back_up/reward_competition_extention/proc/tone_clips/20230612_112630_standard_comp_to_training_D1_subj_1-2_and_1-1.1/20230612_112630_standard_comp_to_training_D1_subj_1-2_and_1-1.1.tone_15.mp4.\n",
      "Moviepy - Writing video /scratch/back_up/reward_competition_extention/proc/tone_clips/20230612_112630_standard_comp_to_training_D1_subj_1-2_and_1-1.1/20230612_112630_standard_comp_to_training_D1_subj_1-2_and_1-1.1.tone_15.mp4\n",
      "\n"
     ]
    },
    {
     "name": "stderr",
     "output_type": "stream",
     "text": [
      "                                                                     \r"
     ]
    },
    {
     "name": "stdout",
     "output_type": "stream",
     "text": [
      "Moviepy - Done !\n",
      "Moviepy - video ready /scratch/back_up/reward_competition_extention/proc/tone_clips/20230612_112630_standard_comp_to_training_D1_subj_1-2_and_1-1.1/20230612_112630_standard_comp_to_training_D1_subj_1-2_and_1-1.1.tone_15.mp4\n",
      "24525 25925\n",
      "Moviepy - Building video /scratch/back_up/reward_competition_extention/proc/tone_clips/20230612_112630_standard_comp_to_training_D1_subj_1-2_and_1-1.1/20230612_112630_standard_comp_to_training_D1_subj_1-2_and_1-1.1.tone_16.mp4.\n",
      "Moviepy - Writing video /scratch/back_up/reward_competition_extention/proc/tone_clips/20230612_112630_standard_comp_to_training_D1_subj_1-2_and_1-1.1/20230612_112630_standard_comp_to_training_D1_subj_1-2_and_1-1.1.tone_16.mp4\n",
      "\n"
     ]
    },
    {
     "name": "stderr",
     "output_type": "stream",
     "text": [
      "                                                                     \r"
     ]
    },
    {
     "name": "stdout",
     "output_type": "stream",
     "text": [
      "Moviepy - Done !\n",
      "Moviepy - video ready /scratch/back_up/reward_competition_extention/proc/tone_clips/20230612_112630_standard_comp_to_training_D1_subj_1-2_and_1-1.1/20230612_112630_standard_comp_to_training_D1_subj_1-2_and_1-1.1.tone_16.mp4\n",
      "26125 27525\n",
      "Moviepy - Building video /scratch/back_up/reward_competition_extention/proc/tone_clips/20230612_112630_standard_comp_to_training_D1_subj_1-2_and_1-1.1/20230612_112630_standard_comp_to_training_D1_subj_1-2_and_1-1.1.tone_17.mp4.\n",
      "Moviepy - Writing video /scratch/back_up/reward_competition_extention/proc/tone_clips/20230612_112630_standard_comp_to_training_D1_subj_1-2_and_1-1.1/20230612_112630_standard_comp_to_training_D1_subj_1-2_and_1-1.1.tone_17.mp4\n",
      "\n"
     ]
    },
    {
     "name": "stderr",
     "output_type": "stream",
     "text": [
      "                                                                     \r"
     ]
    },
    {
     "name": "stdout",
     "output_type": "stream",
     "text": [
      "Moviepy - Done !\n",
      "Moviepy - video ready /scratch/back_up/reward_competition_extention/proc/tone_clips/20230612_112630_standard_comp_to_training_D1_subj_1-2_and_1-1.1/20230612_112630_standard_comp_to_training_D1_subj_1-2_and_1-1.1.tone_17.mp4\n",
      "27525 28925\n",
      "Moviepy - Building video /scratch/back_up/reward_competition_extention/proc/tone_clips/20230612_112630_standard_comp_to_training_D1_subj_1-2_and_1-1.1/20230612_112630_standard_comp_to_training_D1_subj_1-2_and_1-1.1.tone_18.mp4.\n",
      "Moviepy - Writing video /scratch/back_up/reward_competition_extention/proc/tone_clips/20230612_112630_standard_comp_to_training_D1_subj_1-2_and_1-1.1/20230612_112630_standard_comp_to_training_D1_subj_1-2_and_1-1.1.tone_18.mp4\n",
      "\n"
     ]
    },
    {
     "name": "stderr",
     "output_type": "stream",
     "text": [
      "                                                                     \r"
     ]
    },
    {
     "name": "stdout",
     "output_type": "stream",
     "text": [
      "Moviepy - Done !\n",
      "Moviepy - video ready /scratch/back_up/reward_competition_extention/proc/tone_clips/20230612_112630_standard_comp_to_training_D1_subj_1-2_and_1-1.1/20230612_112630_standard_comp_to_training_D1_subj_1-2_and_1-1.1.tone_18.mp4\n",
      "29725 31125\n",
      "Moviepy - Building video /scratch/back_up/reward_competition_extention/proc/tone_clips/20230612_112630_standard_comp_to_training_D1_subj_1-2_and_1-1.1/20230612_112630_standard_comp_to_training_D1_subj_1-2_and_1-1.1.tone_19.mp4.\n",
      "Moviepy - Writing video /scratch/back_up/reward_competition_extention/proc/tone_clips/20230612_112630_standard_comp_to_training_D1_subj_1-2_and_1-1.1/20230612_112630_standard_comp_to_training_D1_subj_1-2_and_1-1.1.tone_19.mp4\n",
      "\n"
     ]
    },
    {
     "name": "stderr",
     "output_type": "stream",
     "text": [
      "                                                                     \r"
     ]
    },
    {
     "name": "stdout",
     "output_type": "stream",
     "text": [
      "Moviepy - Done !\n",
      "Moviepy - video ready /scratch/back_up/reward_competition_extention/proc/tone_clips/20230612_112630_standard_comp_to_training_D1_subj_1-2_and_1-1.1/20230612_112630_standard_comp_to_training_D1_subj_1-2_and_1-1.1.tone_19.mp4\n",
      "30925 32325\n",
      "Moviepy - Building video /scratch/back_up/reward_competition_extention/proc/tone_clips/20230612_112630_standard_comp_to_training_D1_subj_1-2_and_1-1.1/20230612_112630_standard_comp_to_training_D1_subj_1-2_and_1-1.1.tone_20.mp4.\n",
      "Moviepy - Writing video /scratch/back_up/reward_competition_extention/proc/tone_clips/20230612_112630_standard_comp_to_training_D1_subj_1-2_and_1-1.1/20230612_112630_standard_comp_to_training_D1_subj_1-2_and_1-1.1.tone_20.mp4\n",
      "\n"
     ]
    },
    {
     "name": "stderr",
     "output_type": "stream",
     "text": [
      "                                                                     \r"
     ]
    },
    {
     "name": "stdout",
     "output_type": "stream",
     "text": [
      "Moviepy - Done !\n",
      "Moviepy - video ready /scratch/back_up/reward_competition_extention/proc/tone_clips/20230612_112630_standard_comp_to_training_D1_subj_1-2_and_1-1.1/20230612_112630_standard_comp_to_training_D1_subj_1-2_and_1-1.1.tone_20.mp4\n",
      "36925 38325\n",
      "Moviepy - Building video /scratch/back_up/reward_competition_extention/proc/tone_clips/20230612_112630_standard_comp_to_training_D1_subj_1-2_and_1-1.1/20230612_112630_standard_comp_to_training_D1_subj_1-2_and_1-1.1.tone_21.mp4.\n",
      "Moviepy - Writing video /scratch/back_up/reward_competition_extention/proc/tone_clips/20230612_112630_standard_comp_to_training_D1_subj_1-2_and_1-1.1/20230612_112630_standard_comp_to_training_D1_subj_1-2_and_1-1.1.tone_21.mp4\n",
      "\n"
     ]
    },
    {
     "name": "stderr",
     "output_type": "stream",
     "text": [
      "                                                                     \r"
     ]
    },
    {
     "name": "stdout",
     "output_type": "stream",
     "text": [
      "Moviepy - Done !\n",
      "Moviepy - video ready /scratch/back_up/reward_competition_extention/proc/tone_clips/20230612_112630_standard_comp_to_training_D1_subj_1-2_and_1-1.1/20230612_112630_standard_comp_to_training_D1_subj_1-2_and_1-1.1.tone_21.mp4\n",
      "38125 39525\n",
      "Moviepy - Building video /scratch/back_up/reward_competition_extention/proc/tone_clips/20230612_112630_standard_comp_to_training_D1_subj_1-2_and_1-1.1/20230612_112630_standard_comp_to_training_D1_subj_1-2_and_1-1.1.tone_22.mp4.\n",
      "Moviepy - Writing video /scratch/back_up/reward_competition_extention/proc/tone_clips/20230612_112630_standard_comp_to_training_D1_subj_1-2_and_1-1.1/20230612_112630_standard_comp_to_training_D1_subj_1-2_and_1-1.1.tone_22.mp4\n",
      "\n"
     ]
    },
    {
     "name": "stderr",
     "output_type": "stream",
     "text": [
      "                                                                     \r"
     ]
    },
    {
     "name": "stdout",
     "output_type": "stream",
     "text": [
      "Moviepy - Done !\n",
      "Moviepy - video ready /scratch/back_up/reward_competition_extention/proc/tone_clips/20230612_112630_standard_comp_to_training_D1_subj_1-2_and_1-1.1/20230612_112630_standard_comp_to_training_D1_subj_1-2_and_1-1.1.tone_22.mp4\n",
      "39225 40625\n",
      "Moviepy - Building video /scratch/back_up/reward_competition_extention/proc/tone_clips/20230612_112630_standard_comp_to_training_D1_subj_1-2_and_1-1.1/20230612_112630_standard_comp_to_training_D1_subj_1-2_and_1-1.1.tone_23.mp4.\n",
      "Moviepy - Writing video /scratch/back_up/reward_competition_extention/proc/tone_clips/20230612_112630_standard_comp_to_training_D1_subj_1-2_and_1-1.1/20230612_112630_standard_comp_to_training_D1_subj_1-2_and_1-1.1.tone_23.mp4\n",
      "\n"
     ]
    },
    {
     "name": "stderr",
     "output_type": "stream",
     "text": [
      "                                                                     \r"
     ]
    },
    {
     "name": "stdout",
     "output_type": "stream",
     "text": [
      "Moviepy - Done !\n",
      "Moviepy - video ready /scratch/back_up/reward_competition_extention/proc/tone_clips/20230612_112630_standard_comp_to_training_D1_subj_1-2_and_1-1.1/20230612_112630_standard_comp_to_training_D1_subj_1-2_and_1-1.1.tone_23.mp4\n",
      "40525 41925\n",
      "Moviepy - Building video /scratch/back_up/reward_competition_extention/proc/tone_clips/20230612_112630_standard_comp_to_training_D1_subj_1-2_and_1-1.1/20230612_112630_standard_comp_to_training_D1_subj_1-2_and_1-1.1.tone_24.mp4.\n",
      "Moviepy - Writing video /scratch/back_up/reward_competition_extention/proc/tone_clips/20230612_112630_standard_comp_to_training_D1_subj_1-2_and_1-1.1/20230612_112630_standard_comp_to_training_D1_subj_1-2_and_1-1.1.tone_24.mp4\n",
      "\n"
     ]
    },
    {
     "name": "stderr",
     "output_type": "stream",
     "text": [
      "                                                                     \r"
     ]
    },
    {
     "name": "stdout",
     "output_type": "stream",
     "text": [
      "Moviepy - Done !\n",
      "Moviepy - video ready /scratch/back_up/reward_competition_extention/proc/tone_clips/20230612_112630_standard_comp_to_training_D1_subj_1-2_and_1-1.1/20230612_112630_standard_comp_to_training_D1_subj_1-2_and_1-1.1.tone_24.mp4\n",
      "41625 43025\n",
      "Moviepy - Building video /scratch/back_up/reward_competition_extention/proc/tone_clips/20230612_112630_standard_comp_to_training_D1_subj_1-2_and_1-1.1/20230612_112630_standard_comp_to_training_D1_subj_1-2_and_1-1.1.tone_25.mp4.\n",
      "Moviepy - Writing video /scratch/back_up/reward_competition_extention/proc/tone_clips/20230612_112630_standard_comp_to_training_D1_subj_1-2_and_1-1.1/20230612_112630_standard_comp_to_training_D1_subj_1-2_and_1-1.1.tone_25.mp4\n",
      "\n"
     ]
    },
    {
     "name": "stderr",
     "output_type": "stream",
     "text": [
      "                                                                     \r"
     ]
    },
    {
     "name": "stdout",
     "output_type": "stream",
     "text": [
      "Moviepy - Done !\n",
      "Moviepy - video ready /scratch/back_up/reward_competition_extention/proc/tone_clips/20230612_112630_standard_comp_to_training_D1_subj_1-2_and_1-1.1/20230612_112630_standard_comp_to_training_D1_subj_1-2_and_1-1.1.tone_25.mp4\n",
      "42625 44025\n",
      "Moviepy - Building video /scratch/back_up/reward_competition_extention/proc/tone_clips/20230612_112630_standard_comp_to_training_D1_subj_1-2_and_1-1.1/20230612_112630_standard_comp_to_training_D1_subj_1-2_and_1-1.1.tone_26.mp4.\n",
      "Moviepy - Writing video /scratch/back_up/reward_competition_extention/proc/tone_clips/20230612_112630_standard_comp_to_training_D1_subj_1-2_and_1-1.1/20230612_112630_standard_comp_to_training_D1_subj_1-2_and_1-1.1.tone_26.mp4\n",
      "\n"
     ]
    },
    {
     "name": "stderr",
     "output_type": "stream",
     "text": [
      "                                                                     \r"
     ]
    },
    {
     "name": "stdout",
     "output_type": "stream",
     "text": [
      "Moviepy - Done !\n",
      "Moviepy - video ready /scratch/back_up/reward_competition_extention/proc/tone_clips/20230612_112630_standard_comp_to_training_D1_subj_1-2_and_1-1.1/20230612_112630_standard_comp_to_training_D1_subj_1-2_and_1-1.1.tone_26.mp4\n",
      "43625 45025\n",
      "Moviepy - Building video /scratch/back_up/reward_competition_extention/proc/tone_clips/20230612_112630_standard_comp_to_training_D1_subj_1-2_and_1-1.1/20230612_112630_standard_comp_to_training_D1_subj_1-2_and_1-1.1.tone_27.mp4.\n",
      "Moviepy - Writing video /scratch/back_up/reward_competition_extention/proc/tone_clips/20230612_112630_standard_comp_to_training_D1_subj_1-2_and_1-1.1/20230612_112630_standard_comp_to_training_D1_subj_1-2_and_1-1.1.tone_27.mp4\n",
      "\n"
     ]
    },
    {
     "name": "stderr",
     "output_type": "stream",
     "text": [
      "                                                                     \r"
     ]
    },
    {
     "name": "stdout",
     "output_type": "stream",
     "text": [
      "Moviepy - Done !\n",
      "Moviepy - video ready /scratch/back_up/reward_competition_extention/proc/tone_clips/20230612_112630_standard_comp_to_training_D1_subj_1-2_and_1-1.1/20230612_112630_standard_comp_to_training_D1_subj_1-2_and_1-1.1.tone_27.mp4\n",
      "45725 47125\n",
      "Moviepy - Building video /scratch/back_up/reward_competition_extention/proc/tone_clips/20230612_112630_standard_comp_to_training_D1_subj_1-2_and_1-1.1/20230612_112630_standard_comp_to_training_D1_subj_1-2_and_1-1.1.tone_28.mp4.\n",
      "Moviepy - Writing video /scratch/back_up/reward_competition_extention/proc/tone_clips/20230612_112630_standard_comp_to_training_D1_subj_1-2_and_1-1.1/20230612_112630_standard_comp_to_training_D1_subj_1-2_and_1-1.1.tone_28.mp4\n",
      "\n"
     ]
    },
    {
     "name": "stderr",
     "output_type": "stream",
     "text": [
      "                                                                     \r"
     ]
    },
    {
     "name": "stdout",
     "output_type": "stream",
     "text": [
      "Moviepy - Done !\n",
      "Moviepy - video ready /scratch/back_up/reward_competition_extention/proc/tone_clips/20230612_112630_standard_comp_to_training_D1_subj_1-2_and_1-1.1/20230612_112630_standard_comp_to_training_D1_subj_1-2_and_1-1.1.tone_28.mp4\n",
      "48125 49525\n",
      "Moviepy - Building video /scratch/back_up/reward_competition_extention/proc/tone_clips/20230612_112630_standard_comp_to_training_D1_subj_1-2_and_1-1.1/20230612_112630_standard_comp_to_training_D1_subj_1-2_and_1-1.1.tone_29.mp4.\n",
      "Moviepy - Writing video /scratch/back_up/reward_competition_extention/proc/tone_clips/20230612_112630_standard_comp_to_training_D1_subj_1-2_and_1-1.1/20230612_112630_standard_comp_to_training_D1_subj_1-2_and_1-1.1.tone_29.mp4\n",
      "\n"
     ]
    },
    {
     "name": "stderr",
     "output_type": "stream",
     "text": [
      "                                                                     \r"
     ]
    },
    {
     "name": "stdout",
     "output_type": "stream",
     "text": [
      "Moviepy - Done !\n",
      "Moviepy - video ready /scratch/back_up/reward_competition_extention/proc/tone_clips/20230612_112630_standard_comp_to_training_D1_subj_1-2_and_1-1.1/20230612_112630_standard_comp_to_training_D1_subj_1-2_and_1-1.1.tone_29.mp4\n",
      "50525 51925\n",
      "Moviepy - Building video /scratch/back_up/reward_competition_extention/proc/tone_clips/20230612_112630_standard_comp_to_training_D1_subj_1-2_and_1-1.1/20230612_112630_standard_comp_to_training_D1_subj_1-2_and_1-1.1.tone_30.mp4.\n",
      "Moviepy - Writing video /scratch/back_up/reward_competition_extention/proc/tone_clips/20230612_112630_standard_comp_to_training_D1_subj_1-2_and_1-1.1/20230612_112630_standard_comp_to_training_D1_subj_1-2_and_1-1.1.tone_30.mp4\n",
      "\n"
     ]
    },
    {
     "name": "stderr",
     "output_type": "stream",
     "text": [
      "                                                                     \r"
     ]
    },
    {
     "name": "stdout",
     "output_type": "stream",
     "text": [
      "Moviepy - Done !\n",
      "Moviepy - video ready /scratch/back_up/reward_competition_extention/proc/tone_clips/20230612_112630_standard_comp_to_training_D1_subj_1-2_and_1-1.1/20230612_112630_standard_comp_to_training_D1_subj_1-2_and_1-1.1.tone_30.mp4\n",
      "52725 54125\n",
      "Moviepy - Building video /scratch/back_up/reward_competition_extention/proc/tone_clips/20230612_112630_standard_comp_to_training_D1_subj_1-2_and_1-1.1/20230612_112630_standard_comp_to_training_D1_subj_1-2_and_1-1.1.tone_31.mp4.\n",
      "Moviepy - Writing video /scratch/back_up/reward_competition_extention/proc/tone_clips/20230612_112630_standard_comp_to_training_D1_subj_1-2_and_1-1.1/20230612_112630_standard_comp_to_training_D1_subj_1-2_and_1-1.1.tone_31.mp4\n",
      "\n"
     ]
    },
    {
     "name": "stderr",
     "output_type": "stream",
     "text": [
      "                                                                     \r"
     ]
    },
    {
     "name": "stdout",
     "output_type": "stream",
     "text": [
      "Moviepy - Done !\n",
      "Moviepy - video ready /scratch/back_up/reward_competition_extention/proc/tone_clips/20230612_112630_standard_comp_to_training_D1_subj_1-2_and_1-1.1/20230612_112630_standard_comp_to_training_D1_subj_1-2_and_1-1.1.tone_31.mp4\n",
      "54425 55825\n",
      "Moviepy - Building video /scratch/back_up/reward_competition_extention/proc/tone_clips/20230612_112630_standard_comp_to_training_D1_subj_1-2_and_1-1.1/20230612_112630_standard_comp_to_training_D1_subj_1-2_and_1-1.1.tone_32.mp4.\n",
      "Moviepy - Writing video /scratch/back_up/reward_competition_extention/proc/tone_clips/20230612_112630_standard_comp_to_training_D1_subj_1-2_and_1-1.1/20230612_112630_standard_comp_to_training_D1_subj_1-2_and_1-1.1.tone_32.mp4\n",
      "\n"
     ]
    },
    {
     "name": "stderr",
     "output_type": "stream",
     "text": [
      "                                                                     \r"
     ]
    },
    {
     "name": "stdout",
     "output_type": "stream",
     "text": [
      "Moviepy - Done !\n",
      "Moviepy - video ready /scratch/back_up/reward_competition_extention/proc/tone_clips/20230612_112630_standard_comp_to_training_D1_subj_1-2_and_1-1.1/20230612_112630_standard_comp_to_training_D1_subj_1-2_and_1-1.1.tone_32.mp4\n",
      "56825 58225\n",
      "Moviepy - Building video /scratch/back_up/reward_competition_extention/proc/tone_clips/20230612_112630_standard_comp_to_training_D1_subj_1-2_and_1-1.1/20230612_112630_standard_comp_to_training_D1_subj_1-2_and_1-1.1.tone_33.mp4.\n",
      "Moviepy - Writing video /scratch/back_up/reward_competition_extention/proc/tone_clips/20230612_112630_standard_comp_to_training_D1_subj_1-2_and_1-1.1/20230612_112630_standard_comp_to_training_D1_subj_1-2_and_1-1.1.tone_33.mp4\n",
      "\n"
     ]
    },
    {
     "name": "stderr",
     "output_type": "stream",
     "text": [
      "                                                                     \r"
     ]
    },
    {
     "name": "stdout",
     "output_type": "stream",
     "text": [
      "Moviepy - Done !\n",
      "Moviepy - video ready /scratch/back_up/reward_competition_extention/proc/tone_clips/20230612_112630_standard_comp_to_training_D1_subj_1-2_and_1-1.1/20230612_112630_standard_comp_to_training_D1_subj_1-2_and_1-1.1.tone_33.mp4\n",
      "58025 59425\n",
      "Moviepy - Building video /scratch/back_up/reward_competition_extention/proc/tone_clips/20230612_112630_standard_comp_to_training_D1_subj_1-2_and_1-1.1/20230612_112630_standard_comp_to_training_D1_subj_1-2_and_1-1.1.tone_34.mp4.\n",
      "Moviepy - Writing video /scratch/back_up/reward_competition_extention/proc/tone_clips/20230612_112630_standard_comp_to_training_D1_subj_1-2_and_1-1.1/20230612_112630_standard_comp_to_training_D1_subj_1-2_and_1-1.1.tone_34.mp4\n",
      "\n"
     ]
    },
    {
     "name": "stderr",
     "output_type": "stream",
     "text": [
      "                                                                     \r"
     ]
    },
    {
     "name": "stdout",
     "output_type": "stream",
     "text": [
      "Moviepy - Done !\n",
      "Moviepy - video ready /scratch/back_up/reward_competition_extention/proc/tone_clips/20230612_112630_standard_comp_to_training_D1_subj_1-2_and_1-1.1/20230612_112630_standard_comp_to_training_D1_subj_1-2_and_1-1.1.tone_34.mp4\n",
      "59325 60725\n",
      "Moviepy - Building video /scratch/back_up/reward_competition_extention/proc/tone_clips/20230612_112630_standard_comp_to_training_D1_subj_1-2_and_1-1.1/20230612_112630_standard_comp_to_training_D1_subj_1-2_and_1-1.1.tone_35.mp4.\n",
      "Moviepy - Writing video /scratch/back_up/reward_competition_extention/proc/tone_clips/20230612_112630_standard_comp_to_training_D1_subj_1-2_and_1-1.1/20230612_112630_standard_comp_to_training_D1_subj_1-2_and_1-1.1.tone_35.mp4\n",
      "\n"
     ]
    },
    {
     "name": "stderr",
     "output_type": "stream",
     "text": [
      "                                                                     \r"
     ]
    },
    {
     "name": "stdout",
     "output_type": "stream",
     "text": [
      "Moviepy - Done !\n",
      "Moviepy - video ready /scratch/back_up/reward_competition_extention/proc/tone_clips/20230612_112630_standard_comp_to_training_D1_subj_1-2_and_1-1.1/20230612_112630_standard_comp_to_training_D1_subj_1-2_and_1-1.1.tone_35.mp4\n",
      "60525 61925\n",
      "Moviepy - Building video /scratch/back_up/reward_competition_extention/proc/tone_clips/20230612_112630_standard_comp_to_training_D1_subj_1-2_and_1-1.1/20230612_112630_standard_comp_to_training_D1_subj_1-2_and_1-1.1.tone_36.mp4.\n",
      "Moviepy - Writing video /scratch/back_up/reward_competition_extention/proc/tone_clips/20230612_112630_standard_comp_to_training_D1_subj_1-2_and_1-1.1/20230612_112630_standard_comp_to_training_D1_subj_1-2_and_1-1.1.tone_36.mp4\n",
      "\n"
     ]
    },
    {
     "name": "stderr",
     "output_type": "stream",
     "text": [
      "                                                                     \r"
     ]
    },
    {
     "name": "stdout",
     "output_type": "stream",
     "text": [
      "Moviepy - Done !\n",
      "Moviepy - video ready /scratch/back_up/reward_competition_extention/proc/tone_clips/20230612_112630_standard_comp_to_training_D1_subj_1-2_and_1-1.1/20230612_112630_standard_comp_to_training_D1_subj_1-2_and_1-1.1.tone_36.mp4\n",
      "62025 63425\n",
      "Moviepy - Building video /scratch/back_up/reward_competition_extention/proc/tone_clips/20230612_112630_standard_comp_to_training_D1_subj_1-2_and_1-1.1/20230612_112630_standard_comp_to_training_D1_subj_1-2_and_1-1.1.tone_37.mp4.\n",
      "Moviepy - Writing video /scratch/back_up/reward_competition_extention/proc/tone_clips/20230612_112630_standard_comp_to_training_D1_subj_1-2_and_1-1.1/20230612_112630_standard_comp_to_training_D1_subj_1-2_and_1-1.1.tone_37.mp4\n",
      "\n"
     ]
    },
    {
     "name": "stderr",
     "output_type": "stream",
     "text": [
      "                                                                     \r"
     ]
    },
    {
     "name": "stdout",
     "output_type": "stream",
     "text": [
      "Moviepy - Done !\n",
      "Moviepy - video ready /scratch/back_up/reward_competition_extention/proc/tone_clips/20230612_112630_standard_comp_to_training_D1_subj_1-2_and_1-1.1/20230612_112630_standard_comp_to_training_D1_subj_1-2_and_1-1.1.tone_37.mp4\n",
      "64025 65425\n",
      "Moviepy - Building video /scratch/back_up/reward_competition_extention/proc/tone_clips/20230612_112630_standard_comp_to_training_D1_subj_1-2_and_1-1.1/20230612_112630_standard_comp_to_training_D1_subj_1-2_and_1-1.1.tone_38.mp4.\n",
      "Moviepy - Writing video /scratch/back_up/reward_competition_extention/proc/tone_clips/20230612_112630_standard_comp_to_training_D1_subj_1-2_and_1-1.1/20230612_112630_standard_comp_to_training_D1_subj_1-2_and_1-1.1.tone_38.mp4\n",
      "\n"
     ]
    },
    {
     "name": "stderr",
     "output_type": "stream",
     "text": [
      "                                                                     \r"
     ]
    },
    {
     "name": "stdout",
     "output_type": "stream",
     "text": [
      "Moviepy - Done !\n",
      "Moviepy - video ready /scratch/back_up/reward_competition_extention/proc/tone_clips/20230612_112630_standard_comp_to_training_D1_subj_1-2_and_1-1.1/20230612_112630_standard_comp_to_training_D1_subj_1-2_and_1-1.1.tone_38.mp4\n",
      "65925 67325\n",
      "Moviepy - Building video /scratch/back_up/reward_competition_extention/proc/tone_clips/20230612_112630_standard_comp_to_training_D1_subj_1-2_and_1-1.1/20230612_112630_standard_comp_to_training_D1_subj_1-2_and_1-1.1.tone_39.mp4.\n",
      "Moviepy - Writing video /scratch/back_up/reward_competition_extention/proc/tone_clips/20230612_112630_standard_comp_to_training_D1_subj_1-2_and_1-1.1/20230612_112630_standard_comp_to_training_D1_subj_1-2_and_1-1.1.tone_39.mp4\n",
      "\n"
     ]
    },
    {
     "name": "stderr",
     "output_type": "stream",
     "text": [
      "                                                                     \r"
     ]
    },
    {
     "name": "stdout",
     "output_type": "stream",
     "text": [
      "Moviepy - Done !\n",
      "Moviepy - video ready /scratch/back_up/reward_competition_extention/proc/tone_clips/20230612_112630_standard_comp_to_training_D1_subj_1-2_and_1-1.1/20230612_112630_standard_comp_to_training_D1_subj_1-2_and_1-1.1.tone_39.mp4\n",
      "66925 68325\n",
      "Moviepy - Building video /scratch/back_up/reward_competition_extention/proc/tone_clips/20230612_112630_standard_comp_to_training_D1_subj_1-2_and_1-1.1/20230612_112630_standard_comp_to_training_D1_subj_1-2_and_1-1.1.tone_40.mp4.\n",
      "Moviepy - Writing video /scratch/back_up/reward_competition_extention/proc/tone_clips/20230612_112630_standard_comp_to_training_D1_subj_1-2_and_1-1.1/20230612_112630_standard_comp_to_training_D1_subj_1-2_and_1-1.1.tone_40.mp4\n",
      "\n"
     ]
    },
    {
     "name": "stderr",
     "output_type": "stream",
     "text": [
      "                                                                     \r"
     ]
    },
    {
     "name": "stdout",
     "output_type": "stream",
     "text": [
      "Moviepy - Done !\n",
      "Moviepy - video ready /scratch/back_up/reward_competition_extention/proc/tone_clips/20230612_112630_standard_comp_to_training_D1_subj_1-2_and_1-1.1/20230612_112630_standard_comp_to_training_D1_subj_1-2_and_1-1.1.tone_40.mp4\n",
      "718 2118\n",
      "Moviepy - Building video /scratch/back_up/reward_competition_extention/proc/tone_clips/20230613_105657_standard_comp_to_training_D2_subj_1-1_and_1-4.1/20230613_105657_standard_comp_to_training_D2_subj_1-1_and_1-4.1.tone_1.mp4.\n",
      "Moviepy - Writing video /scratch/back_up/reward_competition_extention/proc/tone_clips/20230613_105657_standard_comp_to_training_D2_subj_1-1_and_1-4.1/20230613_105657_standard_comp_to_training_D2_subj_1-1_and_1-4.1.tone_1.mp4\n",
      "\n"
     ]
    },
    {
     "name": "stderr",
     "output_type": "stream",
     "text": [
      "                                                                     \r"
     ]
    },
    {
     "name": "stdout",
     "output_type": "stream",
     "text": [
      "Moviepy - Done !\n",
      "Moviepy - video ready /scratch/back_up/reward_competition_extention/proc/tone_clips/20230613_105657_standard_comp_to_training_D2_subj_1-1_and_1-4.1/20230613_105657_standard_comp_to_training_D2_subj_1-1_and_1-4.1.tone_1.mp4\n",
      "3118 4518\n",
      "Moviepy - Building video /scratch/back_up/reward_competition_extention/proc/tone_clips/20230613_105657_standard_comp_to_training_D2_subj_1-1_and_1-4.1/20230613_105657_standard_comp_to_training_D2_subj_1-1_and_1-4.1.tone_2.mp4.\n",
      "Moviepy - Writing video /scratch/back_up/reward_competition_extention/proc/tone_clips/20230613_105657_standard_comp_to_training_D2_subj_1-1_and_1-4.1/20230613_105657_standard_comp_to_training_D2_subj_1-1_and_1-4.1.tone_2.mp4\n",
      "\n"
     ]
    },
    {
     "name": "stderr",
     "output_type": "stream",
     "text": [
      "                                                                     \r"
     ]
    },
    {
     "name": "stdout",
     "output_type": "stream",
     "text": [
      "Moviepy - Done !\n",
      "Moviepy - video ready /scratch/back_up/reward_competition_extention/proc/tone_clips/20230613_105657_standard_comp_to_training_D2_subj_1-1_and_1-4.1/20230613_105657_standard_comp_to_training_D2_subj_1-1_and_1-4.1.tone_2.mp4\n",
      "5418 6818\n",
      "Moviepy - Building video /scratch/back_up/reward_competition_extention/proc/tone_clips/20230613_105657_standard_comp_to_training_D2_subj_1-1_and_1-4.1/20230613_105657_standard_comp_to_training_D2_subj_1-1_and_1-4.1.tone_3.mp4.\n",
      "Moviepy - Writing video /scratch/back_up/reward_competition_extention/proc/tone_clips/20230613_105657_standard_comp_to_training_D2_subj_1-1_and_1-4.1/20230613_105657_standard_comp_to_training_D2_subj_1-1_and_1-4.1.tone_3.mp4\n",
      "\n"
     ]
    },
    {
     "name": "stderr",
     "output_type": "stream",
     "text": [
      "                                                                     \r"
     ]
    },
    {
     "name": "stdout",
     "output_type": "stream",
     "text": [
      "Moviepy - Done !\n",
      "Moviepy - video ready /scratch/back_up/reward_competition_extention/proc/tone_clips/20230613_105657_standard_comp_to_training_D2_subj_1-1_and_1-4.1/20230613_105657_standard_comp_to_training_D2_subj_1-1_and_1-4.1.tone_3.mp4\n",
      "7218 8618\n",
      "Moviepy - Building video /scratch/back_up/reward_competition_extention/proc/tone_clips/20230613_105657_standard_comp_to_training_D2_subj_1-1_and_1-4.1/20230613_105657_standard_comp_to_training_D2_subj_1-1_and_1-4.1.tone_4.mp4.\n",
      "Moviepy - Writing video /scratch/back_up/reward_competition_extention/proc/tone_clips/20230613_105657_standard_comp_to_training_D2_subj_1-1_and_1-4.1/20230613_105657_standard_comp_to_training_D2_subj_1-1_and_1-4.1.tone_4.mp4\n",
      "\n"
     ]
    },
    {
     "name": "stderr",
     "output_type": "stream",
     "text": [
      "                                                                     \r"
     ]
    },
    {
     "name": "stdout",
     "output_type": "stream",
     "text": [
      "Moviepy - Done !\n",
      "Moviepy - video ready /scratch/back_up/reward_competition_extention/proc/tone_clips/20230613_105657_standard_comp_to_training_D2_subj_1-1_and_1-4.1/20230613_105657_standard_comp_to_training_D2_subj_1-1_and_1-4.1.tone_4.mp4\n",
      "8318 9718\n",
      "Moviepy - Building video /scratch/back_up/reward_competition_extention/proc/tone_clips/20230613_105657_standard_comp_to_training_D2_subj_1-1_and_1-4.1/20230613_105657_standard_comp_to_training_D2_subj_1-1_and_1-4.1.tone_5.mp4.\n",
      "Moviepy - Writing video /scratch/back_up/reward_competition_extention/proc/tone_clips/20230613_105657_standard_comp_to_training_D2_subj_1-1_and_1-4.1/20230613_105657_standard_comp_to_training_D2_subj_1-1_and_1-4.1.tone_5.mp4\n",
      "\n"
     ]
    },
    {
     "name": "stderr",
     "output_type": "stream",
     "text": [
      "                                                                     \r"
     ]
    },
    {
     "name": "stdout",
     "output_type": "stream",
     "text": [
      "Moviepy - Done !\n",
      "Moviepy - video ready /scratch/back_up/reward_competition_extention/proc/tone_clips/20230613_105657_standard_comp_to_training_D2_subj_1-1_and_1-4.1/20230613_105657_standard_comp_to_training_D2_subj_1-1_and_1-4.1.tone_5.mp4\n",
      "9318 10718\n",
      "Moviepy - Building video /scratch/back_up/reward_competition_extention/proc/tone_clips/20230613_105657_standard_comp_to_training_D2_subj_1-1_and_1-4.1/20230613_105657_standard_comp_to_training_D2_subj_1-1_and_1-4.1.tone_6.mp4.\n",
      "Moviepy - Writing video /scratch/back_up/reward_competition_extention/proc/tone_clips/20230613_105657_standard_comp_to_training_D2_subj_1-1_and_1-4.1/20230613_105657_standard_comp_to_training_D2_subj_1-1_and_1-4.1.tone_6.mp4\n",
      "\n"
     ]
    },
    {
     "name": "stderr",
     "output_type": "stream",
     "text": [
      "                                                                     \r"
     ]
    },
    {
     "name": "stdout",
     "output_type": "stream",
     "text": [
      "Moviepy - Done !\n",
      "Moviepy - video ready /scratch/back_up/reward_competition_extention/proc/tone_clips/20230613_105657_standard_comp_to_training_D2_subj_1-1_and_1-4.1/20230613_105657_standard_comp_to_training_D2_subj_1-1_and_1-4.1.tone_6.mp4\n",
      "11218 12618\n",
      "Moviepy - Building video /scratch/back_up/reward_competition_extention/proc/tone_clips/20230613_105657_standard_comp_to_training_D2_subj_1-1_and_1-4.1/20230613_105657_standard_comp_to_training_D2_subj_1-1_and_1-4.1.tone_7.mp4.\n",
      "Moviepy - Writing video /scratch/back_up/reward_competition_extention/proc/tone_clips/20230613_105657_standard_comp_to_training_D2_subj_1-1_and_1-4.1/20230613_105657_standard_comp_to_training_D2_subj_1-1_and_1-4.1.tone_7.mp4\n",
      "\n"
     ]
    },
    {
     "name": "stderr",
     "output_type": "stream",
     "text": [
      "                                                                     \r"
     ]
    },
    {
     "name": "stdout",
     "output_type": "stream",
     "text": [
      "Moviepy - Done !\n",
      "Moviepy - video ready /scratch/back_up/reward_competition_extention/proc/tone_clips/20230613_105657_standard_comp_to_training_D2_subj_1-1_and_1-4.1/20230613_105657_standard_comp_to_training_D2_subj_1-1_and_1-4.1.tone_7.mp4\n",
      "12718 14118\n",
      "Moviepy - Building video /scratch/back_up/reward_competition_extention/proc/tone_clips/20230613_105657_standard_comp_to_training_D2_subj_1-1_and_1-4.1/20230613_105657_standard_comp_to_training_D2_subj_1-1_and_1-4.1.tone_8.mp4.\n",
      "Moviepy - Writing video /scratch/back_up/reward_competition_extention/proc/tone_clips/20230613_105657_standard_comp_to_training_D2_subj_1-1_and_1-4.1/20230613_105657_standard_comp_to_training_D2_subj_1-1_and_1-4.1.tone_8.mp4\n",
      "\n"
     ]
    },
    {
     "name": "stderr",
     "output_type": "stream",
     "text": [
      "                                                                     \r"
     ]
    },
    {
     "name": "stdout",
     "output_type": "stream",
     "text": [
      "Moviepy - Done !\n",
      "Moviepy - video ready /scratch/back_up/reward_competition_extention/proc/tone_clips/20230613_105657_standard_comp_to_training_D2_subj_1-1_and_1-4.1/20230613_105657_standard_comp_to_training_D2_subj_1-1_and_1-4.1.tone_8.mp4\n",
      "14818 16218\n",
      "Moviepy - Building video /scratch/back_up/reward_competition_extention/proc/tone_clips/20230613_105657_standard_comp_to_training_D2_subj_1-1_and_1-4.1/20230613_105657_standard_comp_to_training_D2_subj_1-1_and_1-4.1.tone_9.mp4.\n",
      "Moviepy - Writing video /scratch/back_up/reward_competition_extention/proc/tone_clips/20230613_105657_standard_comp_to_training_D2_subj_1-1_and_1-4.1/20230613_105657_standard_comp_to_training_D2_subj_1-1_and_1-4.1.tone_9.mp4\n",
      "\n"
     ]
    },
    {
     "name": "stderr",
     "output_type": "stream",
     "text": [
      "                                                                     \r"
     ]
    },
    {
     "name": "stdout",
     "output_type": "stream",
     "text": [
      "Moviepy - Done !\n",
      "Moviepy - video ready /scratch/back_up/reward_competition_extention/proc/tone_clips/20230613_105657_standard_comp_to_training_D2_subj_1-1_and_1-4.1/20230613_105657_standard_comp_to_training_D2_subj_1-1_and_1-4.1.tone_9.mp4\n",
      "15818 17218\n",
      "Moviepy - Building video /scratch/back_up/reward_competition_extention/proc/tone_clips/20230613_105657_standard_comp_to_training_D2_subj_1-1_and_1-4.1/20230613_105657_standard_comp_to_training_D2_subj_1-1_and_1-4.1.tone_10.mp4.\n",
      "Moviepy - Writing video /scratch/back_up/reward_competition_extention/proc/tone_clips/20230613_105657_standard_comp_to_training_D2_subj_1-1_and_1-4.1/20230613_105657_standard_comp_to_training_D2_subj_1-1_and_1-4.1.tone_10.mp4\n",
      "\n"
     ]
    },
    {
     "name": "stderr",
     "output_type": "stream",
     "text": [
      "                                                                     \r"
     ]
    },
    {
     "name": "stdout",
     "output_type": "stream",
     "text": [
      "Moviepy - Done !\n",
      "Moviepy - video ready /scratch/back_up/reward_competition_extention/proc/tone_clips/20230613_105657_standard_comp_to_training_D2_subj_1-1_and_1-4.1/20230613_105657_standard_comp_to_training_D2_subj_1-1_and_1-4.1.tone_10.mp4\n",
      "17418 18818\n",
      "Moviepy - Building video /scratch/back_up/reward_competition_extention/proc/tone_clips/20230613_105657_standard_comp_to_training_D2_subj_1-1_and_1-4.1/20230613_105657_standard_comp_to_training_D2_subj_1-1_and_1-4.1.tone_11.mp4.\n",
      "Moviepy - Writing video /scratch/back_up/reward_competition_extention/proc/tone_clips/20230613_105657_standard_comp_to_training_D2_subj_1-1_and_1-4.1/20230613_105657_standard_comp_to_training_D2_subj_1-1_and_1-4.1.tone_11.mp4\n",
      "\n"
     ]
    },
    {
     "name": "stderr",
     "output_type": "stream",
     "text": [
      "                                                                     \r"
     ]
    },
    {
     "name": "stdout",
     "output_type": "stream",
     "text": [
      "Moviepy - Done !\n",
      "Moviepy - video ready /scratch/back_up/reward_competition_extention/proc/tone_clips/20230613_105657_standard_comp_to_training_D2_subj_1-1_and_1-4.1/20230613_105657_standard_comp_to_training_D2_subj_1-1_and_1-4.1.tone_11.mp4\n",
      "18718 20118\n",
      "Moviepy - Building video /scratch/back_up/reward_competition_extention/proc/tone_clips/20230613_105657_standard_comp_to_training_D2_subj_1-1_and_1-4.1/20230613_105657_standard_comp_to_training_D2_subj_1-1_and_1-4.1.tone_12.mp4.\n",
      "Moviepy - Writing video /scratch/back_up/reward_competition_extention/proc/tone_clips/20230613_105657_standard_comp_to_training_D2_subj_1-1_and_1-4.1/20230613_105657_standard_comp_to_training_D2_subj_1-1_and_1-4.1.tone_12.mp4\n",
      "\n"
     ]
    },
    {
     "name": "stderr",
     "output_type": "stream",
     "text": [
      "                                                                     \r"
     ]
    },
    {
     "name": "stdout",
     "output_type": "stream",
     "text": [
      "Moviepy - Done !\n",
      "Moviepy - video ready /scratch/back_up/reward_competition_extention/proc/tone_clips/20230613_105657_standard_comp_to_training_D2_subj_1-1_and_1-4.1/20230613_105657_standard_comp_to_training_D2_subj_1-1_and_1-4.1.tone_12.mp4\n",
      "20018 21418\n",
      "Moviepy - Building video /scratch/back_up/reward_competition_extention/proc/tone_clips/20230613_105657_standard_comp_to_training_D2_subj_1-1_and_1-4.1/20230613_105657_standard_comp_to_training_D2_subj_1-1_and_1-4.1.tone_13.mp4.\n",
      "Moviepy - Writing video /scratch/back_up/reward_competition_extention/proc/tone_clips/20230613_105657_standard_comp_to_training_D2_subj_1-1_and_1-4.1/20230613_105657_standard_comp_to_training_D2_subj_1-1_and_1-4.1.tone_13.mp4\n",
      "\n"
     ]
    },
    {
     "name": "stderr",
     "output_type": "stream",
     "text": [
      "                                                                     \r"
     ]
    },
    {
     "name": "stdout",
     "output_type": "stream",
     "text": [
      "Moviepy - Done !\n",
      "Moviepy - video ready /scratch/back_up/reward_competition_extention/proc/tone_clips/20230613_105657_standard_comp_to_training_D2_subj_1-1_and_1-4.1/20230613_105657_standard_comp_to_training_D2_subj_1-1_and_1-4.1.tone_13.mp4\n",
      "21018 22418\n",
      "Moviepy - Building video /scratch/back_up/reward_competition_extention/proc/tone_clips/20230613_105657_standard_comp_to_training_D2_subj_1-1_and_1-4.1/20230613_105657_standard_comp_to_training_D2_subj_1-1_and_1-4.1.tone_14.mp4.\n",
      "Moviepy - Writing video /scratch/back_up/reward_competition_extention/proc/tone_clips/20230613_105657_standard_comp_to_training_D2_subj_1-1_and_1-4.1/20230613_105657_standard_comp_to_training_D2_subj_1-1_and_1-4.1.tone_14.mp4\n",
      "\n"
     ]
    },
    {
     "name": "stderr",
     "output_type": "stream",
     "text": [
      "                                                                     \r"
     ]
    },
    {
     "name": "stdout",
     "output_type": "stream",
     "text": [
      "Moviepy - Done !\n",
      "Moviepy - video ready /scratch/back_up/reward_competition_extention/proc/tone_clips/20230613_105657_standard_comp_to_training_D2_subj_1-1_and_1-4.1/20230613_105657_standard_comp_to_training_D2_subj_1-1_and_1-4.1.tone_14.mp4\n",
      "22418 23818\n",
      "Moviepy - Building video /scratch/back_up/reward_competition_extention/proc/tone_clips/20230613_105657_standard_comp_to_training_D2_subj_1-1_and_1-4.1/20230613_105657_standard_comp_to_training_D2_subj_1-1_and_1-4.1.tone_15.mp4.\n",
      "Moviepy - Writing video /scratch/back_up/reward_competition_extention/proc/tone_clips/20230613_105657_standard_comp_to_training_D2_subj_1-1_and_1-4.1/20230613_105657_standard_comp_to_training_D2_subj_1-1_and_1-4.1.tone_15.mp4\n",
      "\n"
     ]
    },
    {
     "name": "stderr",
     "output_type": "stream",
     "text": [
      "                                                                     \r"
     ]
    },
    {
     "name": "stdout",
     "output_type": "stream",
     "text": [
      "Moviepy - Done !\n",
      "Moviepy - video ready /scratch/back_up/reward_competition_extention/proc/tone_clips/20230613_105657_standard_comp_to_training_D2_subj_1-1_and_1-4.1/20230613_105657_standard_comp_to_training_D2_subj_1-1_and_1-4.1.tone_15.mp4\n",
      "24318 25718\n",
      "Moviepy - Building video /scratch/back_up/reward_competition_extention/proc/tone_clips/20230613_105657_standard_comp_to_training_D2_subj_1-1_and_1-4.1/20230613_105657_standard_comp_to_training_D2_subj_1-1_and_1-4.1.tone_16.mp4.\n",
      "Moviepy - Writing video /scratch/back_up/reward_competition_extention/proc/tone_clips/20230613_105657_standard_comp_to_training_D2_subj_1-1_and_1-4.1/20230613_105657_standard_comp_to_training_D2_subj_1-1_and_1-4.1.tone_16.mp4\n",
      "\n"
     ]
    },
    {
     "name": "stderr",
     "output_type": "stream",
     "text": [
      "                                                                     \r"
     ]
    },
    {
     "name": "stdout",
     "output_type": "stream",
     "text": [
      "Moviepy - Done !\n",
      "Moviepy - video ready /scratch/back_up/reward_competition_extention/proc/tone_clips/20230613_105657_standard_comp_to_training_D2_subj_1-1_and_1-4.1/20230613_105657_standard_comp_to_training_D2_subj_1-1_and_1-4.1.tone_16.mp4\n",
      "25918 27318\n",
      "Moviepy - Building video /scratch/back_up/reward_competition_extention/proc/tone_clips/20230613_105657_standard_comp_to_training_D2_subj_1-1_and_1-4.1/20230613_105657_standard_comp_to_training_D2_subj_1-1_and_1-4.1.tone_17.mp4.\n",
      "Moviepy - Writing video /scratch/back_up/reward_competition_extention/proc/tone_clips/20230613_105657_standard_comp_to_training_D2_subj_1-1_and_1-4.1/20230613_105657_standard_comp_to_training_D2_subj_1-1_and_1-4.1.tone_17.mp4\n",
      "\n"
     ]
    },
    {
     "name": "stderr",
     "output_type": "stream",
     "text": [
      "                                                                     \r"
     ]
    },
    {
     "name": "stdout",
     "output_type": "stream",
     "text": [
      "Moviepy - Done !\n",
      "Moviepy - video ready /scratch/back_up/reward_competition_extention/proc/tone_clips/20230613_105657_standard_comp_to_training_D2_subj_1-1_and_1-4.1/20230613_105657_standard_comp_to_training_D2_subj_1-1_and_1-4.1.tone_17.mp4\n",
      "27318 28718\n",
      "Moviepy - Building video /scratch/back_up/reward_competition_extention/proc/tone_clips/20230613_105657_standard_comp_to_training_D2_subj_1-1_and_1-4.1/20230613_105657_standard_comp_to_training_D2_subj_1-1_and_1-4.1.tone_18.mp4.\n",
      "Moviepy - Writing video /scratch/back_up/reward_competition_extention/proc/tone_clips/20230613_105657_standard_comp_to_training_D2_subj_1-1_and_1-4.1/20230613_105657_standard_comp_to_training_D2_subj_1-1_and_1-4.1.tone_18.mp4\n",
      "\n"
     ]
    },
    {
     "name": "stderr",
     "output_type": "stream",
     "text": [
      "                                                                     \r"
     ]
    },
    {
     "name": "stdout",
     "output_type": "stream",
     "text": [
      "Moviepy - Done !\n",
      "Moviepy - video ready /scratch/back_up/reward_competition_extention/proc/tone_clips/20230613_105657_standard_comp_to_training_D2_subj_1-1_and_1-4.1/20230613_105657_standard_comp_to_training_D2_subj_1-1_and_1-4.1.tone_18.mp4\n",
      "29518 30918\n",
      "Moviepy - Building video /scratch/back_up/reward_competition_extention/proc/tone_clips/20230613_105657_standard_comp_to_training_D2_subj_1-1_and_1-4.1/20230613_105657_standard_comp_to_training_D2_subj_1-1_and_1-4.1.tone_19.mp4.\n",
      "Moviepy - Writing video /scratch/back_up/reward_competition_extention/proc/tone_clips/20230613_105657_standard_comp_to_training_D2_subj_1-1_and_1-4.1/20230613_105657_standard_comp_to_training_D2_subj_1-1_and_1-4.1.tone_19.mp4\n",
      "\n"
     ]
    },
    {
     "name": "stderr",
     "output_type": "stream",
     "text": [
      "                                                                     \r"
     ]
    },
    {
     "name": "stdout",
     "output_type": "stream",
     "text": [
      "Moviepy - Done !\n",
      "Moviepy - video ready /scratch/back_up/reward_competition_extention/proc/tone_clips/20230613_105657_standard_comp_to_training_D2_subj_1-1_and_1-4.1/20230613_105657_standard_comp_to_training_D2_subj_1-1_and_1-4.1.tone_19.mp4\n",
      "30718 32118\n",
      "Moviepy - Building video /scratch/back_up/reward_competition_extention/proc/tone_clips/20230613_105657_standard_comp_to_training_D2_subj_1-1_and_1-4.1/20230613_105657_standard_comp_to_training_D2_subj_1-1_and_1-4.1.tone_20.mp4.\n",
      "Moviepy - Writing video /scratch/back_up/reward_competition_extention/proc/tone_clips/20230613_105657_standard_comp_to_training_D2_subj_1-1_and_1-4.1/20230613_105657_standard_comp_to_training_D2_subj_1-1_and_1-4.1.tone_20.mp4\n",
      "\n"
     ]
    },
    {
     "name": "stderr",
     "output_type": "stream",
     "text": [
      "                                                                     \r"
     ]
    },
    {
     "name": "stdout",
     "output_type": "stream",
     "text": [
      "Moviepy - Done !\n",
      "Moviepy - video ready /scratch/back_up/reward_competition_extention/proc/tone_clips/20230613_105657_standard_comp_to_training_D2_subj_1-1_and_1-4.1/20230613_105657_standard_comp_to_training_D2_subj_1-1_and_1-4.1.tone_20.mp4\n",
      "36718 38118\n",
      "Moviepy - Building video /scratch/back_up/reward_competition_extention/proc/tone_clips/20230613_105657_standard_comp_to_training_D2_subj_1-1_and_1-4.1/20230613_105657_standard_comp_to_training_D2_subj_1-1_and_1-4.1.tone_21.mp4.\n",
      "Moviepy - Writing video /scratch/back_up/reward_competition_extention/proc/tone_clips/20230613_105657_standard_comp_to_training_D2_subj_1-1_and_1-4.1/20230613_105657_standard_comp_to_training_D2_subj_1-1_and_1-4.1.tone_21.mp4\n",
      "\n"
     ]
    },
    {
     "name": "stderr",
     "output_type": "stream",
     "text": [
      "                                                                     \r"
     ]
    },
    {
     "name": "stdout",
     "output_type": "stream",
     "text": [
      "Moviepy - Done !\n",
      "Moviepy - video ready /scratch/back_up/reward_competition_extention/proc/tone_clips/20230613_105657_standard_comp_to_training_D2_subj_1-1_and_1-4.1/20230613_105657_standard_comp_to_training_D2_subj_1-1_and_1-4.1.tone_21.mp4\n",
      "37918 39318\n",
      "Moviepy - Building video /scratch/back_up/reward_competition_extention/proc/tone_clips/20230613_105657_standard_comp_to_training_D2_subj_1-1_and_1-4.1/20230613_105657_standard_comp_to_training_D2_subj_1-1_and_1-4.1.tone_22.mp4.\n",
      "Moviepy - Writing video /scratch/back_up/reward_competition_extention/proc/tone_clips/20230613_105657_standard_comp_to_training_D2_subj_1-1_and_1-4.1/20230613_105657_standard_comp_to_training_D2_subj_1-1_and_1-4.1.tone_22.mp4\n",
      "\n"
     ]
    },
    {
     "name": "stderr",
     "output_type": "stream",
     "text": [
      "                                                                     \r"
     ]
    },
    {
     "name": "stdout",
     "output_type": "stream",
     "text": [
      "Moviepy - Done !\n",
      "Moviepy - video ready /scratch/back_up/reward_competition_extention/proc/tone_clips/20230613_105657_standard_comp_to_training_D2_subj_1-1_and_1-4.1/20230613_105657_standard_comp_to_training_D2_subj_1-1_and_1-4.1.tone_22.mp4\n",
      "39018 40418\n",
      "Moviepy - Building video /scratch/back_up/reward_competition_extention/proc/tone_clips/20230613_105657_standard_comp_to_training_D2_subj_1-1_and_1-4.1/20230613_105657_standard_comp_to_training_D2_subj_1-1_and_1-4.1.tone_23.mp4.\n",
      "Moviepy - Writing video /scratch/back_up/reward_competition_extention/proc/tone_clips/20230613_105657_standard_comp_to_training_D2_subj_1-1_and_1-4.1/20230613_105657_standard_comp_to_training_D2_subj_1-1_and_1-4.1.tone_23.mp4\n",
      "\n"
     ]
    },
    {
     "name": "stderr",
     "output_type": "stream",
     "text": [
      "                                                                     \r"
     ]
    },
    {
     "name": "stdout",
     "output_type": "stream",
     "text": [
      "Moviepy - Done !\n",
      "Moviepy - video ready /scratch/back_up/reward_competition_extention/proc/tone_clips/20230613_105657_standard_comp_to_training_D2_subj_1-1_and_1-4.1/20230613_105657_standard_comp_to_training_D2_subj_1-1_and_1-4.1.tone_23.mp4\n",
      "40318 41718\n",
      "Moviepy - Building video /scratch/back_up/reward_competition_extention/proc/tone_clips/20230613_105657_standard_comp_to_training_D2_subj_1-1_and_1-4.1/20230613_105657_standard_comp_to_training_D2_subj_1-1_and_1-4.1.tone_24.mp4.\n",
      "Moviepy - Writing video /scratch/back_up/reward_competition_extention/proc/tone_clips/20230613_105657_standard_comp_to_training_D2_subj_1-1_and_1-4.1/20230613_105657_standard_comp_to_training_D2_subj_1-1_and_1-4.1.tone_24.mp4\n",
      "\n"
     ]
    },
    {
     "name": "stderr",
     "output_type": "stream",
     "text": [
      "                                                                     \r"
     ]
    },
    {
     "name": "stdout",
     "output_type": "stream",
     "text": [
      "Moviepy - Done !\n",
      "Moviepy - video ready /scratch/back_up/reward_competition_extention/proc/tone_clips/20230613_105657_standard_comp_to_training_D2_subj_1-1_and_1-4.1/20230613_105657_standard_comp_to_training_D2_subj_1-1_and_1-4.1.tone_24.mp4\n",
      "41418 42818\n",
      "Moviepy - Building video /scratch/back_up/reward_competition_extention/proc/tone_clips/20230613_105657_standard_comp_to_training_D2_subj_1-1_and_1-4.1/20230613_105657_standard_comp_to_training_D2_subj_1-1_and_1-4.1.tone_25.mp4.\n",
      "Moviepy - Writing video /scratch/back_up/reward_competition_extention/proc/tone_clips/20230613_105657_standard_comp_to_training_D2_subj_1-1_and_1-4.1/20230613_105657_standard_comp_to_training_D2_subj_1-1_and_1-4.1.tone_25.mp4\n",
      "\n"
     ]
    },
    {
     "name": "stderr",
     "output_type": "stream",
     "text": [
      "                                                                     \r"
     ]
    },
    {
     "name": "stdout",
     "output_type": "stream",
     "text": [
      "Moviepy - Done !\n",
      "Moviepy - video ready /scratch/back_up/reward_competition_extention/proc/tone_clips/20230613_105657_standard_comp_to_training_D2_subj_1-1_and_1-4.1/20230613_105657_standard_comp_to_training_D2_subj_1-1_and_1-4.1.tone_25.mp4\n",
      "42418 43818\n",
      "Moviepy - Building video /scratch/back_up/reward_competition_extention/proc/tone_clips/20230613_105657_standard_comp_to_training_D2_subj_1-1_and_1-4.1/20230613_105657_standard_comp_to_training_D2_subj_1-1_and_1-4.1.tone_26.mp4.\n",
      "Moviepy - Writing video /scratch/back_up/reward_competition_extention/proc/tone_clips/20230613_105657_standard_comp_to_training_D2_subj_1-1_and_1-4.1/20230613_105657_standard_comp_to_training_D2_subj_1-1_and_1-4.1.tone_26.mp4\n",
      "\n"
     ]
    },
    {
     "name": "stderr",
     "output_type": "stream",
     "text": [
      "                                                                     \r"
     ]
    },
    {
     "name": "stdout",
     "output_type": "stream",
     "text": [
      "Moviepy - Done !\n",
      "Moviepy - video ready /scratch/back_up/reward_competition_extention/proc/tone_clips/20230613_105657_standard_comp_to_training_D2_subj_1-1_and_1-4.1/20230613_105657_standard_comp_to_training_D2_subj_1-1_and_1-4.1.tone_26.mp4\n",
      "43418 44818\n",
      "Moviepy - Building video /scratch/back_up/reward_competition_extention/proc/tone_clips/20230613_105657_standard_comp_to_training_D2_subj_1-1_and_1-4.1/20230613_105657_standard_comp_to_training_D2_subj_1-1_and_1-4.1.tone_27.mp4.\n",
      "Moviepy - Writing video /scratch/back_up/reward_competition_extention/proc/tone_clips/20230613_105657_standard_comp_to_training_D2_subj_1-1_and_1-4.1/20230613_105657_standard_comp_to_training_D2_subj_1-1_and_1-4.1.tone_27.mp4\n",
      "\n"
     ]
    },
    {
     "name": "stderr",
     "output_type": "stream",
     "text": [
      "                                                                     \r"
     ]
    },
    {
     "name": "stdout",
     "output_type": "stream",
     "text": [
      "Moviepy - Done !\n",
      "Moviepy - video ready /scratch/back_up/reward_competition_extention/proc/tone_clips/20230613_105657_standard_comp_to_training_D2_subj_1-1_and_1-4.1/20230613_105657_standard_comp_to_training_D2_subj_1-1_and_1-4.1.tone_27.mp4\n",
      "45518 46918\n",
      "Moviepy - Building video /scratch/back_up/reward_competition_extention/proc/tone_clips/20230613_105657_standard_comp_to_training_D2_subj_1-1_and_1-4.1/20230613_105657_standard_comp_to_training_D2_subj_1-1_and_1-4.1.tone_28.mp4.\n",
      "Moviepy - Writing video /scratch/back_up/reward_competition_extention/proc/tone_clips/20230613_105657_standard_comp_to_training_D2_subj_1-1_and_1-4.1/20230613_105657_standard_comp_to_training_D2_subj_1-1_and_1-4.1.tone_28.mp4\n",
      "\n"
     ]
    },
    {
     "name": "stderr",
     "output_type": "stream",
     "text": [
      "                                                                     \r"
     ]
    },
    {
     "name": "stdout",
     "output_type": "stream",
     "text": [
      "Moviepy - Done !\n",
      "Moviepy - video ready /scratch/back_up/reward_competition_extention/proc/tone_clips/20230613_105657_standard_comp_to_training_D2_subj_1-1_and_1-4.1/20230613_105657_standard_comp_to_training_D2_subj_1-1_and_1-4.1.tone_28.mp4\n",
      "47918 49318\n",
      "Moviepy - Building video /scratch/back_up/reward_competition_extention/proc/tone_clips/20230613_105657_standard_comp_to_training_D2_subj_1-1_and_1-4.1/20230613_105657_standard_comp_to_training_D2_subj_1-1_and_1-4.1.tone_29.mp4.\n",
      "Moviepy - Writing video /scratch/back_up/reward_competition_extention/proc/tone_clips/20230613_105657_standard_comp_to_training_D2_subj_1-1_and_1-4.1/20230613_105657_standard_comp_to_training_D2_subj_1-1_and_1-4.1.tone_29.mp4\n",
      "\n"
     ]
    },
    {
     "name": "stderr",
     "output_type": "stream",
     "text": [
      "                                                                     \r"
     ]
    },
    {
     "name": "stdout",
     "output_type": "stream",
     "text": [
      "Moviepy - Done !\n",
      "Moviepy - video ready /scratch/back_up/reward_competition_extention/proc/tone_clips/20230613_105657_standard_comp_to_training_D2_subj_1-1_and_1-4.1/20230613_105657_standard_comp_to_training_D2_subj_1-1_and_1-4.1.tone_29.mp4\n",
      "50318 51718\n",
      "Moviepy - Building video /scratch/back_up/reward_competition_extention/proc/tone_clips/20230613_105657_standard_comp_to_training_D2_subj_1-1_and_1-4.1/20230613_105657_standard_comp_to_training_D2_subj_1-1_and_1-4.1.tone_30.mp4.\n",
      "Moviepy - Writing video /scratch/back_up/reward_competition_extention/proc/tone_clips/20230613_105657_standard_comp_to_training_D2_subj_1-1_and_1-4.1/20230613_105657_standard_comp_to_training_D2_subj_1-1_and_1-4.1.tone_30.mp4\n",
      "\n"
     ]
    },
    {
     "name": "stderr",
     "output_type": "stream",
     "text": [
      "                                                                     \r"
     ]
    },
    {
     "name": "stdout",
     "output_type": "stream",
     "text": [
      "Moviepy - Done !\n",
      "Moviepy - video ready /scratch/back_up/reward_competition_extention/proc/tone_clips/20230613_105657_standard_comp_to_training_D2_subj_1-1_and_1-4.1/20230613_105657_standard_comp_to_training_D2_subj_1-1_and_1-4.1.tone_30.mp4\n",
      "52518 53918\n",
      "Moviepy - Building video /scratch/back_up/reward_competition_extention/proc/tone_clips/20230613_105657_standard_comp_to_training_D2_subj_1-1_and_1-4.1/20230613_105657_standard_comp_to_training_D2_subj_1-1_and_1-4.1.tone_31.mp4.\n",
      "Moviepy - Writing video /scratch/back_up/reward_competition_extention/proc/tone_clips/20230613_105657_standard_comp_to_training_D2_subj_1-1_and_1-4.1/20230613_105657_standard_comp_to_training_D2_subj_1-1_and_1-4.1.tone_31.mp4\n",
      "\n"
     ]
    },
    {
     "name": "stderr",
     "output_type": "stream",
     "text": [
      "                                                                     \r"
     ]
    },
    {
     "name": "stdout",
     "output_type": "stream",
     "text": [
      "Moviepy - Done !\n",
      "Moviepy - video ready /scratch/back_up/reward_competition_extention/proc/tone_clips/20230613_105657_standard_comp_to_training_D2_subj_1-1_and_1-4.1/20230613_105657_standard_comp_to_training_D2_subj_1-1_and_1-4.1.tone_31.mp4\n",
      "54218 55618\n",
      "Moviepy - Building video /scratch/back_up/reward_competition_extention/proc/tone_clips/20230613_105657_standard_comp_to_training_D2_subj_1-1_and_1-4.1/20230613_105657_standard_comp_to_training_D2_subj_1-1_and_1-4.1.tone_32.mp4.\n",
      "Moviepy - Writing video /scratch/back_up/reward_competition_extention/proc/tone_clips/20230613_105657_standard_comp_to_training_D2_subj_1-1_and_1-4.1/20230613_105657_standard_comp_to_training_D2_subj_1-1_and_1-4.1.tone_32.mp4\n",
      "\n"
     ]
    },
    {
     "name": "stderr",
     "output_type": "stream",
     "text": [
      "                                                                     \r"
     ]
    },
    {
     "name": "stdout",
     "output_type": "stream",
     "text": [
      "Moviepy - Done !\n",
      "Moviepy - video ready /scratch/back_up/reward_competition_extention/proc/tone_clips/20230613_105657_standard_comp_to_training_D2_subj_1-1_and_1-4.1/20230613_105657_standard_comp_to_training_D2_subj_1-1_and_1-4.1.tone_32.mp4\n",
      "56618 58018\n",
      "Moviepy - Building video /scratch/back_up/reward_competition_extention/proc/tone_clips/20230613_105657_standard_comp_to_training_D2_subj_1-1_and_1-4.1/20230613_105657_standard_comp_to_training_D2_subj_1-1_and_1-4.1.tone_33.mp4.\n",
      "Moviepy - Writing video /scratch/back_up/reward_competition_extention/proc/tone_clips/20230613_105657_standard_comp_to_training_D2_subj_1-1_and_1-4.1/20230613_105657_standard_comp_to_training_D2_subj_1-1_and_1-4.1.tone_33.mp4\n",
      "\n"
     ]
    },
    {
     "name": "stderr",
     "output_type": "stream",
     "text": [
      "                                                                     \r"
     ]
    },
    {
     "name": "stdout",
     "output_type": "stream",
     "text": [
      "Moviepy - Done !\n",
      "Moviepy - video ready /scratch/back_up/reward_competition_extention/proc/tone_clips/20230613_105657_standard_comp_to_training_D2_subj_1-1_and_1-4.1/20230613_105657_standard_comp_to_training_D2_subj_1-1_and_1-4.1.tone_33.mp4\n",
      "57818 59218\n",
      "Moviepy - Building video /scratch/back_up/reward_competition_extention/proc/tone_clips/20230613_105657_standard_comp_to_training_D2_subj_1-1_and_1-4.1/20230613_105657_standard_comp_to_training_D2_subj_1-1_and_1-4.1.tone_34.mp4.\n",
      "Moviepy - Writing video /scratch/back_up/reward_competition_extention/proc/tone_clips/20230613_105657_standard_comp_to_training_D2_subj_1-1_and_1-4.1/20230613_105657_standard_comp_to_training_D2_subj_1-1_and_1-4.1.tone_34.mp4\n",
      "\n"
     ]
    },
    {
     "name": "stderr",
     "output_type": "stream",
     "text": [
      "                                                                     \r"
     ]
    },
    {
     "name": "stdout",
     "output_type": "stream",
     "text": [
      "Moviepy - Done !\n",
      "Moviepy - video ready /scratch/back_up/reward_competition_extention/proc/tone_clips/20230613_105657_standard_comp_to_training_D2_subj_1-1_and_1-4.1/20230613_105657_standard_comp_to_training_D2_subj_1-1_and_1-4.1.tone_34.mp4\n",
      "59118 60518\n",
      "Moviepy - Building video /scratch/back_up/reward_competition_extention/proc/tone_clips/20230613_105657_standard_comp_to_training_D2_subj_1-1_and_1-4.1/20230613_105657_standard_comp_to_training_D2_subj_1-1_and_1-4.1.tone_35.mp4.\n",
      "Moviepy - Writing video /scratch/back_up/reward_competition_extention/proc/tone_clips/20230613_105657_standard_comp_to_training_D2_subj_1-1_and_1-4.1/20230613_105657_standard_comp_to_training_D2_subj_1-1_and_1-4.1.tone_35.mp4\n",
      "\n"
     ]
    },
    {
     "name": "stderr",
     "output_type": "stream",
     "text": [
      "                                                                     \r"
     ]
    },
    {
     "name": "stdout",
     "output_type": "stream",
     "text": [
      "Moviepy - Done !\n",
      "Moviepy - video ready /scratch/back_up/reward_competition_extention/proc/tone_clips/20230613_105657_standard_comp_to_training_D2_subj_1-1_and_1-4.1/20230613_105657_standard_comp_to_training_D2_subj_1-1_and_1-4.1.tone_35.mp4\n",
      "60318 61718\n",
      "Moviepy - Building video /scratch/back_up/reward_competition_extention/proc/tone_clips/20230613_105657_standard_comp_to_training_D2_subj_1-1_and_1-4.1/20230613_105657_standard_comp_to_training_D2_subj_1-1_and_1-4.1.tone_36.mp4.\n",
      "Moviepy - Writing video /scratch/back_up/reward_competition_extention/proc/tone_clips/20230613_105657_standard_comp_to_training_D2_subj_1-1_and_1-4.1/20230613_105657_standard_comp_to_training_D2_subj_1-1_and_1-4.1.tone_36.mp4\n",
      "\n"
     ]
    },
    {
     "name": "stderr",
     "output_type": "stream",
     "text": [
      "                                                                     \r"
     ]
    },
    {
     "name": "stdout",
     "output_type": "stream",
     "text": [
      "Moviepy - Done !\n",
      "Moviepy - video ready /scratch/back_up/reward_competition_extention/proc/tone_clips/20230613_105657_standard_comp_to_training_D2_subj_1-1_and_1-4.1/20230613_105657_standard_comp_to_training_D2_subj_1-1_and_1-4.1.tone_36.mp4\n",
      "61818 63218\n",
      "Moviepy - Building video /scratch/back_up/reward_competition_extention/proc/tone_clips/20230613_105657_standard_comp_to_training_D2_subj_1-1_and_1-4.1/20230613_105657_standard_comp_to_training_D2_subj_1-1_and_1-4.1.tone_37.mp4.\n",
      "Moviepy - Writing video /scratch/back_up/reward_competition_extention/proc/tone_clips/20230613_105657_standard_comp_to_training_D2_subj_1-1_and_1-4.1/20230613_105657_standard_comp_to_training_D2_subj_1-1_and_1-4.1.tone_37.mp4\n",
      "\n"
     ]
    },
    {
     "name": "stderr",
     "output_type": "stream",
     "text": [
      "                                                                     \r"
     ]
    },
    {
     "name": "stdout",
     "output_type": "stream",
     "text": [
      "Moviepy - Done !\n",
      "Moviepy - video ready /scratch/back_up/reward_competition_extention/proc/tone_clips/20230613_105657_standard_comp_to_training_D2_subj_1-1_and_1-4.1/20230613_105657_standard_comp_to_training_D2_subj_1-1_and_1-4.1.tone_37.mp4\n",
      "63818 65218\n",
      "Moviepy - Building video /scratch/back_up/reward_competition_extention/proc/tone_clips/20230613_105657_standard_comp_to_training_D2_subj_1-1_and_1-4.1/20230613_105657_standard_comp_to_training_D2_subj_1-1_and_1-4.1.tone_38.mp4.\n",
      "Moviepy - Writing video /scratch/back_up/reward_competition_extention/proc/tone_clips/20230613_105657_standard_comp_to_training_D2_subj_1-1_and_1-4.1/20230613_105657_standard_comp_to_training_D2_subj_1-1_and_1-4.1.tone_38.mp4\n",
      "\n"
     ]
    },
    {
     "name": "stderr",
     "output_type": "stream",
     "text": [
      "                                                                     \r"
     ]
    },
    {
     "name": "stdout",
     "output_type": "stream",
     "text": [
      "Moviepy - Done !\n",
      "Moviepy - video ready /scratch/back_up/reward_competition_extention/proc/tone_clips/20230613_105657_standard_comp_to_training_D2_subj_1-1_and_1-4.1/20230613_105657_standard_comp_to_training_D2_subj_1-1_and_1-4.1.tone_38.mp4\n",
      "65718 67118\n",
      "Moviepy - Building video /scratch/back_up/reward_competition_extention/proc/tone_clips/20230613_105657_standard_comp_to_training_D2_subj_1-1_and_1-4.1/20230613_105657_standard_comp_to_training_D2_subj_1-1_and_1-4.1.tone_39.mp4.\n",
      "Moviepy - Writing video /scratch/back_up/reward_competition_extention/proc/tone_clips/20230613_105657_standard_comp_to_training_D2_subj_1-1_and_1-4.1/20230613_105657_standard_comp_to_training_D2_subj_1-1_and_1-4.1.tone_39.mp4\n",
      "\n"
     ]
    },
    {
     "name": "stderr",
     "output_type": "stream",
     "text": [
      "                                                                     \r"
     ]
    },
    {
     "name": "stdout",
     "output_type": "stream",
     "text": [
      "Moviepy - Done !\n",
      "Moviepy - video ready /scratch/back_up/reward_competition_extention/proc/tone_clips/20230613_105657_standard_comp_to_training_D2_subj_1-1_and_1-4.1/20230613_105657_standard_comp_to_training_D2_subj_1-1_and_1-4.1.tone_39.mp4\n",
      "66718 68118\n",
      "Moviepy - Building video /scratch/back_up/reward_competition_extention/proc/tone_clips/20230613_105657_standard_comp_to_training_D2_subj_1-1_and_1-4.1/20230613_105657_standard_comp_to_training_D2_subj_1-1_and_1-4.1.tone_40.mp4.\n",
      "Moviepy - Writing video /scratch/back_up/reward_competition_extention/proc/tone_clips/20230613_105657_standard_comp_to_training_D2_subj_1-1_and_1-4.1/20230613_105657_standard_comp_to_training_D2_subj_1-1_and_1-4.1.tone_40.mp4\n",
      "\n"
     ]
    },
    {
     "name": "stderr",
     "output_type": "stream",
     "text": [
      "                                                                     \r"
     ]
    },
    {
     "name": "stdout",
     "output_type": "stream",
     "text": [
      "Moviepy - Done !\n",
      "Moviepy - video ready /scratch/back_up/reward_competition_extention/proc/tone_clips/20230613_105657_standard_comp_to_training_D2_subj_1-1_and_1-4.1/20230613_105657_standard_comp_to_training_D2_subj_1-1_and_1-4.1.tone_40.mp4\n",
      "906 2306\n",
      "Moviepy - Building video /scratch/back_up/reward_competition_extention/proc/tone_clips/20230613_110126_standard_comp_to_training_D2_subj_2-4_and_2-2.1/20230613_110126_standard_comp_to_training_D2_subj_2-4_and_2-2.1.tone_1.mp4.\n",
      "Moviepy - Writing video /scratch/back_up/reward_competition_extention/proc/tone_clips/20230613_110126_standard_comp_to_training_D2_subj_2-4_and_2-2.1/20230613_110126_standard_comp_to_training_D2_subj_2-4_and_2-2.1.tone_1.mp4\n",
      "\n"
     ]
    },
    {
     "name": "stderr",
     "output_type": "stream",
     "text": [
      "                                                                     \r"
     ]
    },
    {
     "name": "stdout",
     "output_type": "stream",
     "text": [
      "Moviepy - Done !\n",
      "Moviepy - video ready /scratch/back_up/reward_competition_extention/proc/tone_clips/20230613_110126_standard_comp_to_training_D2_subj_2-4_and_2-2.1/20230613_110126_standard_comp_to_training_D2_subj_2-4_and_2-2.1.tone_1.mp4\n",
      "3306 4706\n",
      "Moviepy - Building video /scratch/back_up/reward_competition_extention/proc/tone_clips/20230613_110126_standard_comp_to_training_D2_subj_2-4_and_2-2.1/20230613_110126_standard_comp_to_training_D2_subj_2-4_and_2-2.1.tone_2.mp4.\n",
      "Moviepy - Writing video /scratch/back_up/reward_competition_extention/proc/tone_clips/20230613_110126_standard_comp_to_training_D2_subj_2-4_and_2-2.1/20230613_110126_standard_comp_to_training_D2_subj_2-4_and_2-2.1.tone_2.mp4\n",
      "\n"
     ]
    },
    {
     "name": "stderr",
     "output_type": "stream",
     "text": [
      "                                                                     \r"
     ]
    },
    {
     "name": "stdout",
     "output_type": "stream",
     "text": [
      "Moviepy - Done !\n",
      "Moviepy - video ready /scratch/back_up/reward_competition_extention/proc/tone_clips/20230613_110126_standard_comp_to_training_D2_subj_2-4_and_2-2.1/20230613_110126_standard_comp_to_training_D2_subj_2-4_and_2-2.1.tone_2.mp4\n",
      "5606 7006\n",
      "Moviepy - Building video /scratch/back_up/reward_competition_extention/proc/tone_clips/20230613_110126_standard_comp_to_training_D2_subj_2-4_and_2-2.1/20230613_110126_standard_comp_to_training_D2_subj_2-4_and_2-2.1.tone_3.mp4.\n",
      "Moviepy - Writing video /scratch/back_up/reward_competition_extention/proc/tone_clips/20230613_110126_standard_comp_to_training_D2_subj_2-4_and_2-2.1/20230613_110126_standard_comp_to_training_D2_subj_2-4_and_2-2.1.tone_3.mp4\n",
      "\n"
     ]
    },
    {
     "name": "stderr",
     "output_type": "stream",
     "text": [
      "                                                                     \r"
     ]
    },
    {
     "name": "stdout",
     "output_type": "stream",
     "text": [
      "Moviepy - Done !\n",
      "Moviepy - video ready /scratch/back_up/reward_competition_extention/proc/tone_clips/20230613_110126_standard_comp_to_training_D2_subj_2-4_and_2-2.1/20230613_110126_standard_comp_to_training_D2_subj_2-4_and_2-2.1.tone_3.mp4\n",
      "7406 8806\n",
      "Moviepy - Building video /scratch/back_up/reward_competition_extention/proc/tone_clips/20230613_110126_standard_comp_to_training_D2_subj_2-4_and_2-2.1/20230613_110126_standard_comp_to_training_D2_subj_2-4_and_2-2.1.tone_4.mp4.\n",
      "Moviepy - Writing video /scratch/back_up/reward_competition_extention/proc/tone_clips/20230613_110126_standard_comp_to_training_D2_subj_2-4_and_2-2.1/20230613_110126_standard_comp_to_training_D2_subj_2-4_and_2-2.1.tone_4.mp4\n",
      "\n"
     ]
    },
    {
     "name": "stderr",
     "output_type": "stream",
     "text": [
      "                                                                     \r"
     ]
    },
    {
     "name": "stdout",
     "output_type": "stream",
     "text": [
      "Moviepy - Done !\n",
      "Moviepy - video ready /scratch/back_up/reward_competition_extention/proc/tone_clips/20230613_110126_standard_comp_to_training_D2_subj_2-4_and_2-2.1/20230613_110126_standard_comp_to_training_D2_subj_2-4_and_2-2.1.tone_4.mp4\n",
      "8506 9906\n",
      "Moviepy - Building video /scratch/back_up/reward_competition_extention/proc/tone_clips/20230613_110126_standard_comp_to_training_D2_subj_2-4_and_2-2.1/20230613_110126_standard_comp_to_training_D2_subj_2-4_and_2-2.1.tone_5.mp4.\n",
      "Moviepy - Writing video /scratch/back_up/reward_competition_extention/proc/tone_clips/20230613_110126_standard_comp_to_training_D2_subj_2-4_and_2-2.1/20230613_110126_standard_comp_to_training_D2_subj_2-4_and_2-2.1.tone_5.mp4\n",
      "\n"
     ]
    },
    {
     "name": "stderr",
     "output_type": "stream",
     "text": [
      "                                                                     \r"
     ]
    },
    {
     "name": "stdout",
     "output_type": "stream",
     "text": [
      "Moviepy - Done !\n",
      "Moviepy - video ready /scratch/back_up/reward_competition_extention/proc/tone_clips/20230613_110126_standard_comp_to_training_D2_subj_2-4_and_2-2.1/20230613_110126_standard_comp_to_training_D2_subj_2-4_and_2-2.1.tone_5.mp4\n",
      "9506 10906\n",
      "Moviepy - Building video /scratch/back_up/reward_competition_extention/proc/tone_clips/20230613_110126_standard_comp_to_training_D2_subj_2-4_and_2-2.1/20230613_110126_standard_comp_to_training_D2_subj_2-4_and_2-2.1.tone_6.mp4.\n",
      "Moviepy - Writing video /scratch/back_up/reward_competition_extention/proc/tone_clips/20230613_110126_standard_comp_to_training_D2_subj_2-4_and_2-2.1/20230613_110126_standard_comp_to_training_D2_subj_2-4_and_2-2.1.tone_6.mp4\n",
      "\n"
     ]
    },
    {
     "name": "stderr",
     "output_type": "stream",
     "text": [
      "                                                                     \r"
     ]
    },
    {
     "name": "stdout",
     "output_type": "stream",
     "text": [
      "Moviepy - Done !\n",
      "Moviepy - video ready /scratch/back_up/reward_competition_extention/proc/tone_clips/20230613_110126_standard_comp_to_training_D2_subj_2-4_and_2-2.1/20230613_110126_standard_comp_to_training_D2_subj_2-4_and_2-2.1.tone_6.mp4\n",
      "11406 12806\n",
      "Moviepy - Building video /scratch/back_up/reward_competition_extention/proc/tone_clips/20230613_110126_standard_comp_to_training_D2_subj_2-4_and_2-2.1/20230613_110126_standard_comp_to_training_D2_subj_2-4_and_2-2.1.tone_7.mp4.\n",
      "Moviepy - Writing video /scratch/back_up/reward_competition_extention/proc/tone_clips/20230613_110126_standard_comp_to_training_D2_subj_2-4_and_2-2.1/20230613_110126_standard_comp_to_training_D2_subj_2-4_and_2-2.1.tone_7.mp4\n",
      "\n"
     ]
    },
    {
     "name": "stderr",
     "output_type": "stream",
     "text": [
      "                                                                     \r"
     ]
    },
    {
     "name": "stdout",
     "output_type": "stream",
     "text": [
      "Moviepy - Done !\n",
      "Moviepy - video ready /scratch/back_up/reward_competition_extention/proc/tone_clips/20230613_110126_standard_comp_to_training_D2_subj_2-4_and_2-2.1/20230613_110126_standard_comp_to_training_D2_subj_2-4_and_2-2.1.tone_7.mp4\n",
      "12906 14306\n",
      "Moviepy - Building video /scratch/back_up/reward_competition_extention/proc/tone_clips/20230613_110126_standard_comp_to_training_D2_subj_2-4_and_2-2.1/20230613_110126_standard_comp_to_training_D2_subj_2-4_and_2-2.1.tone_8.mp4.\n",
      "Moviepy - Writing video /scratch/back_up/reward_competition_extention/proc/tone_clips/20230613_110126_standard_comp_to_training_D2_subj_2-4_and_2-2.1/20230613_110126_standard_comp_to_training_D2_subj_2-4_and_2-2.1.tone_8.mp4\n",
      "\n"
     ]
    },
    {
     "name": "stderr",
     "output_type": "stream",
     "text": [
      "                                                                     \r"
     ]
    },
    {
     "name": "stdout",
     "output_type": "stream",
     "text": [
      "Moviepy - Done !\n",
      "Moviepy - video ready /scratch/back_up/reward_competition_extention/proc/tone_clips/20230613_110126_standard_comp_to_training_D2_subj_2-4_and_2-2.1/20230613_110126_standard_comp_to_training_D2_subj_2-4_and_2-2.1.tone_8.mp4\n",
      "15006 16406\n",
      "Moviepy - Building video /scratch/back_up/reward_competition_extention/proc/tone_clips/20230613_110126_standard_comp_to_training_D2_subj_2-4_and_2-2.1/20230613_110126_standard_comp_to_training_D2_subj_2-4_and_2-2.1.tone_9.mp4.\n",
      "Moviepy - Writing video /scratch/back_up/reward_competition_extention/proc/tone_clips/20230613_110126_standard_comp_to_training_D2_subj_2-4_and_2-2.1/20230613_110126_standard_comp_to_training_D2_subj_2-4_and_2-2.1.tone_9.mp4\n",
      "\n"
     ]
    },
    {
     "name": "stderr",
     "output_type": "stream",
     "text": [
      "                                                                     \r"
     ]
    },
    {
     "name": "stdout",
     "output_type": "stream",
     "text": [
      "Moviepy - Done !\n",
      "Moviepy - video ready /scratch/back_up/reward_competition_extention/proc/tone_clips/20230613_110126_standard_comp_to_training_D2_subj_2-4_and_2-2.1/20230613_110126_standard_comp_to_training_D2_subj_2-4_and_2-2.1.tone_9.mp4\n",
      "16006 17406\n",
      "Moviepy - Building video /scratch/back_up/reward_competition_extention/proc/tone_clips/20230613_110126_standard_comp_to_training_D2_subj_2-4_and_2-2.1/20230613_110126_standard_comp_to_training_D2_subj_2-4_and_2-2.1.tone_10.mp4.\n",
      "Moviepy - Writing video /scratch/back_up/reward_competition_extention/proc/tone_clips/20230613_110126_standard_comp_to_training_D2_subj_2-4_and_2-2.1/20230613_110126_standard_comp_to_training_D2_subj_2-4_and_2-2.1.tone_10.mp4\n",
      "\n"
     ]
    },
    {
     "name": "stderr",
     "output_type": "stream",
     "text": [
      "                                                                     \r"
     ]
    },
    {
     "name": "stdout",
     "output_type": "stream",
     "text": [
      "Moviepy - Done !\n",
      "Moviepy - video ready /scratch/back_up/reward_competition_extention/proc/tone_clips/20230613_110126_standard_comp_to_training_D2_subj_2-4_and_2-2.1/20230613_110126_standard_comp_to_training_D2_subj_2-4_and_2-2.1.tone_10.mp4\n",
      "17606 19006\n",
      "Moviepy - Building video /scratch/back_up/reward_competition_extention/proc/tone_clips/20230613_110126_standard_comp_to_training_D2_subj_2-4_and_2-2.1/20230613_110126_standard_comp_to_training_D2_subj_2-4_and_2-2.1.tone_11.mp4.\n",
      "Moviepy - Writing video /scratch/back_up/reward_competition_extention/proc/tone_clips/20230613_110126_standard_comp_to_training_D2_subj_2-4_and_2-2.1/20230613_110126_standard_comp_to_training_D2_subj_2-4_and_2-2.1.tone_11.mp4\n",
      "\n"
     ]
    },
    {
     "name": "stderr",
     "output_type": "stream",
     "text": [
      "                                                                     \r"
     ]
    },
    {
     "name": "stdout",
     "output_type": "stream",
     "text": [
      "Moviepy - Done !\n",
      "Moviepy - video ready /scratch/back_up/reward_competition_extention/proc/tone_clips/20230613_110126_standard_comp_to_training_D2_subj_2-4_and_2-2.1/20230613_110126_standard_comp_to_training_D2_subj_2-4_and_2-2.1.tone_11.mp4\n",
      "18906 20306\n",
      "Moviepy - Building video /scratch/back_up/reward_competition_extention/proc/tone_clips/20230613_110126_standard_comp_to_training_D2_subj_2-4_and_2-2.1/20230613_110126_standard_comp_to_training_D2_subj_2-4_and_2-2.1.tone_12.mp4.\n",
      "Moviepy - Writing video /scratch/back_up/reward_competition_extention/proc/tone_clips/20230613_110126_standard_comp_to_training_D2_subj_2-4_and_2-2.1/20230613_110126_standard_comp_to_training_D2_subj_2-4_and_2-2.1.tone_12.mp4\n",
      "\n"
     ]
    },
    {
     "name": "stderr",
     "output_type": "stream",
     "text": [
      "                                                                     \r"
     ]
    },
    {
     "name": "stdout",
     "output_type": "stream",
     "text": [
      "Moviepy - Done !\n",
      "Moviepy - video ready /scratch/back_up/reward_competition_extention/proc/tone_clips/20230613_110126_standard_comp_to_training_D2_subj_2-4_and_2-2.1/20230613_110126_standard_comp_to_training_D2_subj_2-4_and_2-2.1.tone_12.mp4\n",
      "20206 21606\n",
      "Moviepy - Building video /scratch/back_up/reward_competition_extention/proc/tone_clips/20230613_110126_standard_comp_to_training_D2_subj_2-4_and_2-2.1/20230613_110126_standard_comp_to_training_D2_subj_2-4_and_2-2.1.tone_13.mp4.\n",
      "Moviepy - Writing video /scratch/back_up/reward_competition_extention/proc/tone_clips/20230613_110126_standard_comp_to_training_D2_subj_2-4_and_2-2.1/20230613_110126_standard_comp_to_training_D2_subj_2-4_and_2-2.1.tone_13.mp4\n",
      "\n"
     ]
    },
    {
     "name": "stderr",
     "output_type": "stream",
     "text": [
      "                                                                     \r"
     ]
    },
    {
     "name": "stdout",
     "output_type": "stream",
     "text": [
      "Moviepy - Done !\n",
      "Moviepy - video ready /scratch/back_up/reward_competition_extention/proc/tone_clips/20230613_110126_standard_comp_to_training_D2_subj_2-4_and_2-2.1/20230613_110126_standard_comp_to_training_D2_subj_2-4_and_2-2.1.tone_13.mp4\n",
      "21206 22606\n",
      "Moviepy - Building video /scratch/back_up/reward_competition_extention/proc/tone_clips/20230613_110126_standard_comp_to_training_D2_subj_2-4_and_2-2.1/20230613_110126_standard_comp_to_training_D2_subj_2-4_and_2-2.1.tone_14.mp4.\n",
      "Moviepy - Writing video /scratch/back_up/reward_competition_extention/proc/tone_clips/20230613_110126_standard_comp_to_training_D2_subj_2-4_and_2-2.1/20230613_110126_standard_comp_to_training_D2_subj_2-4_and_2-2.1.tone_14.mp4\n",
      "\n"
     ]
    },
    {
     "name": "stderr",
     "output_type": "stream",
     "text": [
      "                                                                     \r"
     ]
    },
    {
     "name": "stdout",
     "output_type": "stream",
     "text": [
      "Moviepy - Done !\n",
      "Moviepy - video ready /scratch/back_up/reward_competition_extention/proc/tone_clips/20230613_110126_standard_comp_to_training_D2_subj_2-4_and_2-2.1/20230613_110126_standard_comp_to_training_D2_subj_2-4_and_2-2.1.tone_14.mp4\n",
      "22606 24006\n",
      "Moviepy - Building video /scratch/back_up/reward_competition_extention/proc/tone_clips/20230613_110126_standard_comp_to_training_D2_subj_2-4_and_2-2.1/20230613_110126_standard_comp_to_training_D2_subj_2-4_and_2-2.1.tone_15.mp4.\n",
      "Moviepy - Writing video /scratch/back_up/reward_competition_extention/proc/tone_clips/20230613_110126_standard_comp_to_training_D2_subj_2-4_and_2-2.1/20230613_110126_standard_comp_to_training_D2_subj_2-4_and_2-2.1.tone_15.mp4\n",
      "\n"
     ]
    },
    {
     "name": "stderr",
     "output_type": "stream",
     "text": [
      "                                                                     \r"
     ]
    },
    {
     "name": "stdout",
     "output_type": "stream",
     "text": [
      "Moviepy - Done !\n",
      "Moviepy - video ready /scratch/back_up/reward_competition_extention/proc/tone_clips/20230613_110126_standard_comp_to_training_D2_subj_2-4_and_2-2.1/20230613_110126_standard_comp_to_training_D2_subj_2-4_and_2-2.1.tone_15.mp4\n",
      "24506 25906\n",
      "Moviepy - Building video /scratch/back_up/reward_competition_extention/proc/tone_clips/20230613_110126_standard_comp_to_training_D2_subj_2-4_and_2-2.1/20230613_110126_standard_comp_to_training_D2_subj_2-4_and_2-2.1.tone_16.mp4.\n",
      "Moviepy - Writing video /scratch/back_up/reward_competition_extention/proc/tone_clips/20230613_110126_standard_comp_to_training_D2_subj_2-4_and_2-2.1/20230613_110126_standard_comp_to_training_D2_subj_2-4_and_2-2.1.tone_16.mp4\n",
      "\n"
     ]
    },
    {
     "name": "stderr",
     "output_type": "stream",
     "text": [
      "                                                                     \r"
     ]
    },
    {
     "name": "stdout",
     "output_type": "stream",
     "text": [
      "Moviepy - Done !\n",
      "Moviepy - video ready /scratch/back_up/reward_competition_extention/proc/tone_clips/20230613_110126_standard_comp_to_training_D2_subj_2-4_and_2-2.1/20230613_110126_standard_comp_to_training_D2_subj_2-4_and_2-2.1.tone_16.mp4\n",
      "26106 27506\n",
      "Moviepy - Building video /scratch/back_up/reward_competition_extention/proc/tone_clips/20230613_110126_standard_comp_to_training_D2_subj_2-4_and_2-2.1/20230613_110126_standard_comp_to_training_D2_subj_2-4_and_2-2.1.tone_17.mp4.\n",
      "Moviepy - Writing video /scratch/back_up/reward_competition_extention/proc/tone_clips/20230613_110126_standard_comp_to_training_D2_subj_2-4_and_2-2.1/20230613_110126_standard_comp_to_training_D2_subj_2-4_and_2-2.1.tone_17.mp4\n",
      "\n"
     ]
    },
    {
     "name": "stderr",
     "output_type": "stream",
     "text": [
      "                                                                     \r"
     ]
    },
    {
     "name": "stdout",
     "output_type": "stream",
     "text": [
      "Moviepy - Done !\n",
      "Moviepy - video ready /scratch/back_up/reward_competition_extention/proc/tone_clips/20230613_110126_standard_comp_to_training_D2_subj_2-4_and_2-2.1/20230613_110126_standard_comp_to_training_D2_subj_2-4_and_2-2.1.tone_17.mp4\n",
      "27506 28906\n",
      "Moviepy - Building video /scratch/back_up/reward_competition_extention/proc/tone_clips/20230613_110126_standard_comp_to_training_D2_subj_2-4_and_2-2.1/20230613_110126_standard_comp_to_training_D2_subj_2-4_and_2-2.1.tone_18.mp4.\n",
      "Moviepy - Writing video /scratch/back_up/reward_competition_extention/proc/tone_clips/20230613_110126_standard_comp_to_training_D2_subj_2-4_and_2-2.1/20230613_110126_standard_comp_to_training_D2_subj_2-4_and_2-2.1.tone_18.mp4\n",
      "\n"
     ]
    },
    {
     "name": "stderr",
     "output_type": "stream",
     "text": [
      "                                                                     \r"
     ]
    },
    {
     "name": "stdout",
     "output_type": "stream",
     "text": [
      "Moviepy - Done !\n",
      "Moviepy - video ready /scratch/back_up/reward_competition_extention/proc/tone_clips/20230613_110126_standard_comp_to_training_D2_subj_2-4_and_2-2.1/20230613_110126_standard_comp_to_training_D2_subj_2-4_and_2-2.1.tone_18.mp4\n",
      "29706 31106\n",
      "Moviepy - Building video /scratch/back_up/reward_competition_extention/proc/tone_clips/20230613_110126_standard_comp_to_training_D2_subj_2-4_and_2-2.1/20230613_110126_standard_comp_to_training_D2_subj_2-4_and_2-2.1.tone_19.mp4.\n",
      "Moviepy - Writing video /scratch/back_up/reward_competition_extention/proc/tone_clips/20230613_110126_standard_comp_to_training_D2_subj_2-4_and_2-2.1/20230613_110126_standard_comp_to_training_D2_subj_2-4_and_2-2.1.tone_19.mp4\n",
      "\n"
     ]
    },
    {
     "name": "stderr",
     "output_type": "stream",
     "text": [
      "                                                                     \r"
     ]
    },
    {
     "name": "stdout",
     "output_type": "stream",
     "text": [
      "Moviepy - Done !\n",
      "Moviepy - video ready /scratch/back_up/reward_competition_extention/proc/tone_clips/20230613_110126_standard_comp_to_training_D2_subj_2-4_and_2-2.1/20230613_110126_standard_comp_to_training_D2_subj_2-4_and_2-2.1.tone_19.mp4\n",
      "30906 32306\n",
      "Moviepy - Building video /scratch/back_up/reward_competition_extention/proc/tone_clips/20230613_110126_standard_comp_to_training_D2_subj_2-4_and_2-2.1/20230613_110126_standard_comp_to_training_D2_subj_2-4_and_2-2.1.tone_20.mp4.\n",
      "Moviepy - Writing video /scratch/back_up/reward_competition_extention/proc/tone_clips/20230613_110126_standard_comp_to_training_D2_subj_2-4_and_2-2.1/20230613_110126_standard_comp_to_training_D2_subj_2-4_and_2-2.1.tone_20.mp4\n",
      "\n"
     ]
    },
    {
     "name": "stderr",
     "output_type": "stream",
     "text": [
      "                                                                     \r"
     ]
    },
    {
     "name": "stdout",
     "output_type": "stream",
     "text": [
      "Moviepy - Done !\n",
      "Moviepy - video ready /scratch/back_up/reward_competition_extention/proc/tone_clips/20230613_110126_standard_comp_to_training_D2_subj_2-4_and_2-2.1/20230613_110126_standard_comp_to_training_D2_subj_2-4_and_2-2.1.tone_20.mp4\n",
      "36906 38306\n",
      "Moviepy - Building video /scratch/back_up/reward_competition_extention/proc/tone_clips/20230613_110126_standard_comp_to_training_D2_subj_2-4_and_2-2.1/20230613_110126_standard_comp_to_training_D2_subj_2-4_and_2-2.1.tone_21.mp4.\n",
      "Moviepy - Writing video /scratch/back_up/reward_competition_extention/proc/tone_clips/20230613_110126_standard_comp_to_training_D2_subj_2-4_and_2-2.1/20230613_110126_standard_comp_to_training_D2_subj_2-4_and_2-2.1.tone_21.mp4\n",
      "\n"
     ]
    },
    {
     "name": "stderr",
     "output_type": "stream",
     "text": [
      "                                                                     \r"
     ]
    },
    {
     "name": "stdout",
     "output_type": "stream",
     "text": [
      "Moviepy - Done !\n",
      "Moviepy - video ready /scratch/back_up/reward_competition_extention/proc/tone_clips/20230613_110126_standard_comp_to_training_D2_subj_2-4_and_2-2.1/20230613_110126_standard_comp_to_training_D2_subj_2-4_and_2-2.1.tone_21.mp4\n",
      "38106 39506\n",
      "Moviepy - Building video /scratch/back_up/reward_competition_extention/proc/tone_clips/20230613_110126_standard_comp_to_training_D2_subj_2-4_and_2-2.1/20230613_110126_standard_comp_to_training_D2_subj_2-4_and_2-2.1.tone_22.mp4.\n",
      "Moviepy - Writing video /scratch/back_up/reward_competition_extention/proc/tone_clips/20230613_110126_standard_comp_to_training_D2_subj_2-4_and_2-2.1/20230613_110126_standard_comp_to_training_D2_subj_2-4_and_2-2.1.tone_22.mp4\n",
      "\n"
     ]
    },
    {
     "name": "stderr",
     "output_type": "stream",
     "text": [
      "                                                                     \r"
     ]
    },
    {
     "name": "stdout",
     "output_type": "stream",
     "text": [
      "Moviepy - Done !\n",
      "Moviepy - video ready /scratch/back_up/reward_competition_extention/proc/tone_clips/20230613_110126_standard_comp_to_training_D2_subj_2-4_and_2-2.1/20230613_110126_standard_comp_to_training_D2_subj_2-4_and_2-2.1.tone_22.mp4\n",
      "39206 40606\n",
      "Moviepy - Building video /scratch/back_up/reward_competition_extention/proc/tone_clips/20230613_110126_standard_comp_to_training_D2_subj_2-4_and_2-2.1/20230613_110126_standard_comp_to_training_D2_subj_2-4_and_2-2.1.tone_23.mp4.\n",
      "Moviepy - Writing video /scratch/back_up/reward_competition_extention/proc/tone_clips/20230613_110126_standard_comp_to_training_D2_subj_2-4_and_2-2.1/20230613_110126_standard_comp_to_training_D2_subj_2-4_and_2-2.1.tone_23.mp4\n",
      "\n"
     ]
    },
    {
     "name": "stderr",
     "output_type": "stream",
     "text": [
      "                                                                     \r"
     ]
    },
    {
     "name": "stdout",
     "output_type": "stream",
     "text": [
      "Moviepy - Done !\n",
      "Moviepy - video ready /scratch/back_up/reward_competition_extention/proc/tone_clips/20230613_110126_standard_comp_to_training_D2_subj_2-4_and_2-2.1/20230613_110126_standard_comp_to_training_D2_subj_2-4_and_2-2.1.tone_23.mp4\n",
      "40506 41906\n",
      "Moviepy - Building video /scratch/back_up/reward_competition_extention/proc/tone_clips/20230613_110126_standard_comp_to_training_D2_subj_2-4_and_2-2.1/20230613_110126_standard_comp_to_training_D2_subj_2-4_and_2-2.1.tone_24.mp4.\n",
      "Moviepy - Writing video /scratch/back_up/reward_competition_extention/proc/tone_clips/20230613_110126_standard_comp_to_training_D2_subj_2-4_and_2-2.1/20230613_110126_standard_comp_to_training_D2_subj_2-4_and_2-2.1.tone_24.mp4\n",
      "\n"
     ]
    },
    {
     "name": "stderr",
     "output_type": "stream",
     "text": [
      "                                                                     \r"
     ]
    },
    {
     "name": "stdout",
     "output_type": "stream",
     "text": [
      "Moviepy - Done !\n",
      "Moviepy - video ready /scratch/back_up/reward_competition_extention/proc/tone_clips/20230613_110126_standard_comp_to_training_D2_subj_2-4_and_2-2.1/20230613_110126_standard_comp_to_training_D2_subj_2-4_and_2-2.1.tone_24.mp4\n",
      "41606 43006\n",
      "Moviepy - Building video /scratch/back_up/reward_competition_extention/proc/tone_clips/20230613_110126_standard_comp_to_training_D2_subj_2-4_and_2-2.1/20230613_110126_standard_comp_to_training_D2_subj_2-4_and_2-2.1.tone_25.mp4.\n",
      "Moviepy - Writing video /scratch/back_up/reward_competition_extention/proc/tone_clips/20230613_110126_standard_comp_to_training_D2_subj_2-4_and_2-2.1/20230613_110126_standard_comp_to_training_D2_subj_2-4_and_2-2.1.tone_25.mp4\n",
      "\n"
     ]
    },
    {
     "name": "stderr",
     "output_type": "stream",
     "text": [
      "                                                                     \r"
     ]
    },
    {
     "name": "stdout",
     "output_type": "stream",
     "text": [
      "Moviepy - Done !\n",
      "Moviepy - video ready /scratch/back_up/reward_competition_extention/proc/tone_clips/20230613_110126_standard_comp_to_training_D2_subj_2-4_and_2-2.1/20230613_110126_standard_comp_to_training_D2_subj_2-4_and_2-2.1.tone_25.mp4\n",
      "42606 44006\n",
      "Moviepy - Building video /scratch/back_up/reward_competition_extention/proc/tone_clips/20230613_110126_standard_comp_to_training_D2_subj_2-4_and_2-2.1/20230613_110126_standard_comp_to_training_D2_subj_2-4_and_2-2.1.tone_26.mp4.\n",
      "Moviepy - Writing video /scratch/back_up/reward_competition_extention/proc/tone_clips/20230613_110126_standard_comp_to_training_D2_subj_2-4_and_2-2.1/20230613_110126_standard_comp_to_training_D2_subj_2-4_and_2-2.1.tone_26.mp4\n",
      "\n"
     ]
    },
    {
     "name": "stderr",
     "output_type": "stream",
     "text": [
      "                                                                     \r"
     ]
    },
    {
     "name": "stdout",
     "output_type": "stream",
     "text": [
      "Moviepy - Done !\n",
      "Moviepy - video ready /scratch/back_up/reward_competition_extention/proc/tone_clips/20230613_110126_standard_comp_to_training_D2_subj_2-4_and_2-2.1/20230613_110126_standard_comp_to_training_D2_subj_2-4_and_2-2.1.tone_26.mp4\n",
      "43606 45006\n",
      "Moviepy - Building video /scratch/back_up/reward_competition_extention/proc/tone_clips/20230613_110126_standard_comp_to_training_D2_subj_2-4_and_2-2.1/20230613_110126_standard_comp_to_training_D2_subj_2-4_and_2-2.1.tone_27.mp4.\n",
      "Moviepy - Writing video /scratch/back_up/reward_competition_extention/proc/tone_clips/20230613_110126_standard_comp_to_training_D2_subj_2-4_and_2-2.1/20230613_110126_standard_comp_to_training_D2_subj_2-4_and_2-2.1.tone_27.mp4\n",
      "\n"
     ]
    },
    {
     "name": "stderr",
     "output_type": "stream",
     "text": [
      "                                                                     \r"
     ]
    },
    {
     "name": "stdout",
     "output_type": "stream",
     "text": [
      "Moviepy - Done !\n",
      "Moviepy - video ready /scratch/back_up/reward_competition_extention/proc/tone_clips/20230613_110126_standard_comp_to_training_D2_subj_2-4_and_2-2.1/20230613_110126_standard_comp_to_training_D2_subj_2-4_and_2-2.1.tone_27.mp4\n",
      "45706 47106\n",
      "Moviepy - Building video /scratch/back_up/reward_competition_extention/proc/tone_clips/20230613_110126_standard_comp_to_training_D2_subj_2-4_and_2-2.1/20230613_110126_standard_comp_to_training_D2_subj_2-4_and_2-2.1.tone_28.mp4.\n",
      "Moviepy - Writing video /scratch/back_up/reward_competition_extention/proc/tone_clips/20230613_110126_standard_comp_to_training_D2_subj_2-4_and_2-2.1/20230613_110126_standard_comp_to_training_D2_subj_2-4_and_2-2.1.tone_28.mp4\n",
      "\n"
     ]
    },
    {
     "name": "stderr",
     "output_type": "stream",
     "text": [
      "                                                                     \r"
     ]
    },
    {
     "name": "stdout",
     "output_type": "stream",
     "text": [
      "Moviepy - Done !\n",
      "Moviepy - video ready /scratch/back_up/reward_competition_extention/proc/tone_clips/20230613_110126_standard_comp_to_training_D2_subj_2-4_and_2-2.1/20230613_110126_standard_comp_to_training_D2_subj_2-4_and_2-2.1.tone_28.mp4\n",
      "48106 49506\n",
      "Moviepy - Building video /scratch/back_up/reward_competition_extention/proc/tone_clips/20230613_110126_standard_comp_to_training_D2_subj_2-4_and_2-2.1/20230613_110126_standard_comp_to_training_D2_subj_2-4_and_2-2.1.tone_29.mp4.\n",
      "Moviepy - Writing video /scratch/back_up/reward_competition_extention/proc/tone_clips/20230613_110126_standard_comp_to_training_D2_subj_2-4_and_2-2.1/20230613_110126_standard_comp_to_training_D2_subj_2-4_and_2-2.1.tone_29.mp4\n",
      "\n"
     ]
    },
    {
     "name": "stderr",
     "output_type": "stream",
     "text": [
      "                                                                     \r"
     ]
    },
    {
     "name": "stdout",
     "output_type": "stream",
     "text": [
      "Moviepy - Done !\n",
      "Moviepy - video ready /scratch/back_up/reward_competition_extention/proc/tone_clips/20230613_110126_standard_comp_to_training_D2_subj_2-4_and_2-2.1/20230613_110126_standard_comp_to_training_D2_subj_2-4_and_2-2.1.tone_29.mp4\n",
      "50506 51906\n",
      "Moviepy - Building video /scratch/back_up/reward_competition_extention/proc/tone_clips/20230613_110126_standard_comp_to_training_D2_subj_2-4_and_2-2.1/20230613_110126_standard_comp_to_training_D2_subj_2-4_and_2-2.1.tone_30.mp4.\n",
      "Moviepy - Writing video /scratch/back_up/reward_competition_extention/proc/tone_clips/20230613_110126_standard_comp_to_training_D2_subj_2-4_and_2-2.1/20230613_110126_standard_comp_to_training_D2_subj_2-4_and_2-2.1.tone_30.mp4\n",
      "\n"
     ]
    },
    {
     "name": "stderr",
     "output_type": "stream",
     "text": [
      "                                                                     \r"
     ]
    },
    {
     "name": "stdout",
     "output_type": "stream",
     "text": [
      "Moviepy - Done !\n",
      "Moviepy - video ready /scratch/back_up/reward_competition_extention/proc/tone_clips/20230613_110126_standard_comp_to_training_D2_subj_2-4_and_2-2.1/20230613_110126_standard_comp_to_training_D2_subj_2-4_and_2-2.1.tone_30.mp4\n",
      "52706 54106\n",
      "Moviepy - Building video /scratch/back_up/reward_competition_extention/proc/tone_clips/20230613_110126_standard_comp_to_training_D2_subj_2-4_and_2-2.1/20230613_110126_standard_comp_to_training_D2_subj_2-4_and_2-2.1.tone_31.mp4.\n",
      "Moviepy - Writing video /scratch/back_up/reward_competition_extention/proc/tone_clips/20230613_110126_standard_comp_to_training_D2_subj_2-4_and_2-2.1/20230613_110126_standard_comp_to_training_D2_subj_2-4_and_2-2.1.tone_31.mp4\n",
      "\n"
     ]
    },
    {
     "name": "stderr",
     "output_type": "stream",
     "text": [
      "                                                                     \r"
     ]
    },
    {
     "name": "stdout",
     "output_type": "stream",
     "text": [
      "Moviepy - Done !\n",
      "Moviepy - video ready /scratch/back_up/reward_competition_extention/proc/tone_clips/20230613_110126_standard_comp_to_training_D2_subj_2-4_and_2-2.1/20230613_110126_standard_comp_to_training_D2_subj_2-4_and_2-2.1.tone_31.mp4\n",
      "54406 55806\n",
      "Moviepy - Building video /scratch/back_up/reward_competition_extention/proc/tone_clips/20230613_110126_standard_comp_to_training_D2_subj_2-4_and_2-2.1/20230613_110126_standard_comp_to_training_D2_subj_2-4_and_2-2.1.tone_32.mp4.\n",
      "Moviepy - Writing video /scratch/back_up/reward_competition_extention/proc/tone_clips/20230613_110126_standard_comp_to_training_D2_subj_2-4_and_2-2.1/20230613_110126_standard_comp_to_training_D2_subj_2-4_and_2-2.1.tone_32.mp4\n",
      "\n"
     ]
    },
    {
     "name": "stderr",
     "output_type": "stream",
     "text": [
      "                                                                     \r"
     ]
    },
    {
     "name": "stdout",
     "output_type": "stream",
     "text": [
      "Moviepy - Done !\n",
      "Moviepy - video ready /scratch/back_up/reward_competition_extention/proc/tone_clips/20230613_110126_standard_comp_to_training_D2_subj_2-4_and_2-2.1/20230613_110126_standard_comp_to_training_D2_subj_2-4_and_2-2.1.tone_32.mp4\n",
      "56806 58206\n",
      "Moviepy - Building video /scratch/back_up/reward_competition_extention/proc/tone_clips/20230613_110126_standard_comp_to_training_D2_subj_2-4_and_2-2.1/20230613_110126_standard_comp_to_training_D2_subj_2-4_and_2-2.1.tone_33.mp4.\n",
      "Moviepy - Writing video /scratch/back_up/reward_competition_extention/proc/tone_clips/20230613_110126_standard_comp_to_training_D2_subj_2-4_and_2-2.1/20230613_110126_standard_comp_to_training_D2_subj_2-4_and_2-2.1.tone_33.mp4\n",
      "\n"
     ]
    },
    {
     "name": "stderr",
     "output_type": "stream",
     "text": [
      "                                                                     \r"
     ]
    },
    {
     "name": "stdout",
     "output_type": "stream",
     "text": [
      "Moviepy - Done !\n",
      "Moviepy - video ready /scratch/back_up/reward_competition_extention/proc/tone_clips/20230613_110126_standard_comp_to_training_D2_subj_2-4_and_2-2.1/20230613_110126_standard_comp_to_training_D2_subj_2-4_and_2-2.1.tone_33.mp4\n",
      "58006 59406\n",
      "Moviepy - Building video /scratch/back_up/reward_competition_extention/proc/tone_clips/20230613_110126_standard_comp_to_training_D2_subj_2-4_and_2-2.1/20230613_110126_standard_comp_to_training_D2_subj_2-4_and_2-2.1.tone_34.mp4.\n",
      "Moviepy - Writing video /scratch/back_up/reward_competition_extention/proc/tone_clips/20230613_110126_standard_comp_to_training_D2_subj_2-4_and_2-2.1/20230613_110126_standard_comp_to_training_D2_subj_2-4_and_2-2.1.tone_34.mp4\n",
      "\n"
     ]
    },
    {
     "name": "stderr",
     "output_type": "stream",
     "text": [
      "                                                                     \r"
     ]
    },
    {
     "name": "stdout",
     "output_type": "stream",
     "text": [
      "Moviepy - Done !\n",
      "Moviepy - video ready /scratch/back_up/reward_competition_extention/proc/tone_clips/20230613_110126_standard_comp_to_training_D2_subj_2-4_and_2-2.1/20230613_110126_standard_comp_to_training_D2_subj_2-4_and_2-2.1.tone_34.mp4\n",
      "59306 60706\n",
      "Moviepy - Building video /scratch/back_up/reward_competition_extention/proc/tone_clips/20230613_110126_standard_comp_to_training_D2_subj_2-4_and_2-2.1/20230613_110126_standard_comp_to_training_D2_subj_2-4_and_2-2.1.tone_35.mp4.\n",
      "Moviepy - Writing video /scratch/back_up/reward_competition_extention/proc/tone_clips/20230613_110126_standard_comp_to_training_D2_subj_2-4_and_2-2.1/20230613_110126_standard_comp_to_training_D2_subj_2-4_and_2-2.1.tone_35.mp4\n",
      "\n"
     ]
    },
    {
     "name": "stderr",
     "output_type": "stream",
     "text": [
      "                                                                     \r"
     ]
    },
    {
     "name": "stdout",
     "output_type": "stream",
     "text": [
      "Moviepy - Done !\n",
      "Moviepy - video ready /scratch/back_up/reward_competition_extention/proc/tone_clips/20230613_110126_standard_comp_to_training_D2_subj_2-4_and_2-2.1/20230613_110126_standard_comp_to_training_D2_subj_2-4_and_2-2.1.tone_35.mp4\n",
      "60506 61906\n",
      "Moviepy - Building video /scratch/back_up/reward_competition_extention/proc/tone_clips/20230613_110126_standard_comp_to_training_D2_subj_2-4_and_2-2.1/20230613_110126_standard_comp_to_training_D2_subj_2-4_and_2-2.1.tone_36.mp4.\n",
      "Moviepy - Writing video /scratch/back_up/reward_competition_extention/proc/tone_clips/20230613_110126_standard_comp_to_training_D2_subj_2-4_and_2-2.1/20230613_110126_standard_comp_to_training_D2_subj_2-4_and_2-2.1.tone_36.mp4\n",
      "\n"
     ]
    },
    {
     "name": "stderr",
     "output_type": "stream",
     "text": [
      "                                                                     \r"
     ]
    },
    {
     "name": "stdout",
     "output_type": "stream",
     "text": [
      "Moviepy - Done !\n",
      "Moviepy - video ready /scratch/back_up/reward_competition_extention/proc/tone_clips/20230613_110126_standard_comp_to_training_D2_subj_2-4_and_2-2.1/20230613_110126_standard_comp_to_training_D2_subj_2-4_and_2-2.1.tone_36.mp4\n",
      "62006 63406\n",
      "Moviepy - Building video /scratch/back_up/reward_competition_extention/proc/tone_clips/20230613_110126_standard_comp_to_training_D2_subj_2-4_and_2-2.1/20230613_110126_standard_comp_to_training_D2_subj_2-4_and_2-2.1.tone_37.mp4.\n",
      "Moviepy - Writing video /scratch/back_up/reward_competition_extention/proc/tone_clips/20230613_110126_standard_comp_to_training_D2_subj_2-4_and_2-2.1/20230613_110126_standard_comp_to_training_D2_subj_2-4_and_2-2.1.tone_37.mp4\n",
      "\n"
     ]
    },
    {
     "name": "stderr",
     "output_type": "stream",
     "text": [
      "                                                                     \r"
     ]
    },
    {
     "name": "stdout",
     "output_type": "stream",
     "text": [
      "Moviepy - Done !\n",
      "Moviepy - video ready /scratch/back_up/reward_competition_extention/proc/tone_clips/20230613_110126_standard_comp_to_training_D2_subj_2-4_and_2-2.1/20230613_110126_standard_comp_to_training_D2_subj_2-4_and_2-2.1.tone_37.mp4\n",
      "64006 65406\n",
      "Moviepy - Building video /scratch/back_up/reward_competition_extention/proc/tone_clips/20230613_110126_standard_comp_to_training_D2_subj_2-4_and_2-2.1/20230613_110126_standard_comp_to_training_D2_subj_2-4_and_2-2.1.tone_38.mp4.\n",
      "Moviepy - Writing video /scratch/back_up/reward_competition_extention/proc/tone_clips/20230613_110126_standard_comp_to_training_D2_subj_2-4_and_2-2.1/20230613_110126_standard_comp_to_training_D2_subj_2-4_and_2-2.1.tone_38.mp4\n",
      "\n"
     ]
    },
    {
     "name": "stderr",
     "output_type": "stream",
     "text": [
      "                                                                     \r"
     ]
    },
    {
     "name": "stdout",
     "output_type": "stream",
     "text": [
      "Moviepy - Done !\n",
      "Moviepy - video ready /scratch/back_up/reward_competition_extention/proc/tone_clips/20230613_110126_standard_comp_to_training_D2_subj_2-4_and_2-2.1/20230613_110126_standard_comp_to_training_D2_subj_2-4_and_2-2.1.tone_38.mp4\n",
      "65906 67306\n",
      "Moviepy - Building video /scratch/back_up/reward_competition_extention/proc/tone_clips/20230613_110126_standard_comp_to_training_D2_subj_2-4_and_2-2.1/20230613_110126_standard_comp_to_training_D2_subj_2-4_and_2-2.1.tone_39.mp4.\n",
      "Moviepy - Writing video /scratch/back_up/reward_competition_extention/proc/tone_clips/20230613_110126_standard_comp_to_training_D2_subj_2-4_and_2-2.1/20230613_110126_standard_comp_to_training_D2_subj_2-4_and_2-2.1.tone_39.mp4\n",
      "\n"
     ]
    },
    {
     "name": "stderr",
     "output_type": "stream",
     "text": [
      "                                                                     \r"
     ]
    },
    {
     "name": "stdout",
     "output_type": "stream",
     "text": [
      "Moviepy - Done !\n",
      "Moviepy - video ready /scratch/back_up/reward_competition_extention/proc/tone_clips/20230613_110126_standard_comp_to_training_D2_subj_2-4_and_2-2.1/20230613_110126_standard_comp_to_training_D2_subj_2-4_and_2-2.1.tone_39.mp4\n",
      "66906 68306\n",
      "Moviepy - Building video /scratch/back_up/reward_competition_extention/proc/tone_clips/20230613_110126_standard_comp_to_training_D2_subj_2-4_and_2-2.1/20230613_110126_standard_comp_to_training_D2_subj_2-4_and_2-2.1.tone_40.mp4.\n",
      "Moviepy - Writing video /scratch/back_up/reward_competition_extention/proc/tone_clips/20230613_110126_standard_comp_to_training_D2_subj_2-4_and_2-2.1/20230613_110126_standard_comp_to_training_D2_subj_2-4_and_2-2.1.tone_40.mp4\n",
      "\n"
     ]
    },
    {
     "name": "stderr",
     "output_type": "stream",
     "text": [
      "                                                                     \r"
     ]
    },
    {
     "name": "stdout",
     "output_type": "stream",
     "text": [
      "Moviepy - Done !\n",
      "Moviepy - video ready /scratch/back_up/reward_competition_extention/proc/tone_clips/20230613_110126_standard_comp_to_training_D2_subj_2-4_and_2-2.1/20230613_110126_standard_comp_to_training_D2_subj_2-4_and_2-2.1.tone_40.mp4\n",
      "656 2056\n",
      "Moviepy - Building video /scratch/back_up/reward_competition_extention/proc/tone_clips/20230614_114041_standard_comp_to_training_D3_subj_1-1_and_1-2.1/20230614_114041_standard_comp_to_training_D3_subj_1-1_and_1-2.1.tone_1.mp4.\n",
      "Moviepy - Writing video /scratch/back_up/reward_competition_extention/proc/tone_clips/20230614_114041_standard_comp_to_training_D3_subj_1-1_and_1-2.1/20230614_114041_standard_comp_to_training_D3_subj_1-1_and_1-2.1.tone_1.mp4\n",
      "\n"
     ]
    },
    {
     "name": "stderr",
     "output_type": "stream",
     "text": [
      "                                                                     \r"
     ]
    },
    {
     "name": "stdout",
     "output_type": "stream",
     "text": [
      "Moviepy - Done !\n",
      "Moviepy - video ready /scratch/back_up/reward_competition_extention/proc/tone_clips/20230614_114041_standard_comp_to_training_D3_subj_1-1_and_1-2.1/20230614_114041_standard_comp_to_training_D3_subj_1-1_and_1-2.1.tone_1.mp4\n",
      "3056 4456\n",
      "Moviepy - Building video /scratch/back_up/reward_competition_extention/proc/tone_clips/20230614_114041_standard_comp_to_training_D3_subj_1-1_and_1-2.1/20230614_114041_standard_comp_to_training_D3_subj_1-1_and_1-2.1.tone_2.mp4.\n",
      "Moviepy - Writing video /scratch/back_up/reward_competition_extention/proc/tone_clips/20230614_114041_standard_comp_to_training_D3_subj_1-1_and_1-2.1/20230614_114041_standard_comp_to_training_D3_subj_1-1_and_1-2.1.tone_2.mp4\n",
      "\n"
     ]
    },
    {
     "name": "stderr",
     "output_type": "stream",
     "text": [
      "                                                                     \r"
     ]
    },
    {
     "name": "stdout",
     "output_type": "stream",
     "text": [
      "Moviepy - Done !\n",
      "Moviepy - video ready /scratch/back_up/reward_competition_extention/proc/tone_clips/20230614_114041_standard_comp_to_training_D3_subj_1-1_and_1-2.1/20230614_114041_standard_comp_to_training_D3_subj_1-1_and_1-2.1.tone_2.mp4\n",
      "5356 6756\n",
      "Moviepy - Building video /scratch/back_up/reward_competition_extention/proc/tone_clips/20230614_114041_standard_comp_to_training_D3_subj_1-1_and_1-2.1/20230614_114041_standard_comp_to_training_D3_subj_1-1_and_1-2.1.tone_3.mp4.\n",
      "Moviepy - Writing video /scratch/back_up/reward_competition_extention/proc/tone_clips/20230614_114041_standard_comp_to_training_D3_subj_1-1_and_1-2.1/20230614_114041_standard_comp_to_training_D3_subj_1-1_and_1-2.1.tone_3.mp4\n",
      "\n"
     ]
    },
    {
     "name": "stderr",
     "output_type": "stream",
     "text": [
      "                                                                     \r"
     ]
    },
    {
     "name": "stdout",
     "output_type": "stream",
     "text": [
      "Moviepy - Done !\n",
      "Moviepy - video ready /scratch/back_up/reward_competition_extention/proc/tone_clips/20230614_114041_standard_comp_to_training_D3_subj_1-1_and_1-2.1/20230614_114041_standard_comp_to_training_D3_subj_1-1_and_1-2.1.tone_3.mp4\n",
      "7156 8556\n",
      "Moviepy - Building video /scratch/back_up/reward_competition_extention/proc/tone_clips/20230614_114041_standard_comp_to_training_D3_subj_1-1_and_1-2.1/20230614_114041_standard_comp_to_training_D3_subj_1-1_and_1-2.1.tone_4.mp4.\n",
      "Moviepy - Writing video /scratch/back_up/reward_competition_extention/proc/tone_clips/20230614_114041_standard_comp_to_training_D3_subj_1-1_and_1-2.1/20230614_114041_standard_comp_to_training_D3_subj_1-1_and_1-2.1.tone_4.mp4\n",
      "\n"
     ]
    },
    {
     "name": "stderr",
     "output_type": "stream",
     "text": [
      "                                                                     \r"
     ]
    },
    {
     "name": "stdout",
     "output_type": "stream",
     "text": [
      "Moviepy - Done !\n",
      "Moviepy - video ready /scratch/back_up/reward_competition_extention/proc/tone_clips/20230614_114041_standard_comp_to_training_D3_subj_1-1_and_1-2.1/20230614_114041_standard_comp_to_training_D3_subj_1-1_and_1-2.1.tone_4.mp4\n",
      "8256 9656\n",
      "Moviepy - Building video /scratch/back_up/reward_competition_extention/proc/tone_clips/20230614_114041_standard_comp_to_training_D3_subj_1-1_and_1-2.1/20230614_114041_standard_comp_to_training_D3_subj_1-1_and_1-2.1.tone_5.mp4.\n",
      "Moviepy - Writing video /scratch/back_up/reward_competition_extention/proc/tone_clips/20230614_114041_standard_comp_to_training_D3_subj_1-1_and_1-2.1/20230614_114041_standard_comp_to_training_D3_subj_1-1_and_1-2.1.tone_5.mp4\n",
      "\n"
     ]
    },
    {
     "name": "stderr",
     "output_type": "stream",
     "text": [
      "                                                                     \r"
     ]
    },
    {
     "name": "stdout",
     "output_type": "stream",
     "text": [
      "Moviepy - Done !\n",
      "Moviepy - video ready /scratch/back_up/reward_competition_extention/proc/tone_clips/20230614_114041_standard_comp_to_training_D3_subj_1-1_and_1-2.1/20230614_114041_standard_comp_to_training_D3_subj_1-1_and_1-2.1.tone_5.mp4\n",
      "9256 10656\n",
      "Moviepy - Building video /scratch/back_up/reward_competition_extention/proc/tone_clips/20230614_114041_standard_comp_to_training_D3_subj_1-1_and_1-2.1/20230614_114041_standard_comp_to_training_D3_subj_1-1_and_1-2.1.tone_6.mp4.\n",
      "Moviepy - Writing video /scratch/back_up/reward_competition_extention/proc/tone_clips/20230614_114041_standard_comp_to_training_D3_subj_1-1_and_1-2.1/20230614_114041_standard_comp_to_training_D3_subj_1-1_and_1-2.1.tone_6.mp4\n",
      "\n"
     ]
    },
    {
     "name": "stderr",
     "output_type": "stream",
     "text": [
      "                                                                     \r"
     ]
    },
    {
     "name": "stdout",
     "output_type": "stream",
     "text": [
      "Moviepy - Done !\n",
      "Moviepy - video ready /scratch/back_up/reward_competition_extention/proc/tone_clips/20230614_114041_standard_comp_to_training_D3_subj_1-1_and_1-2.1/20230614_114041_standard_comp_to_training_D3_subj_1-1_and_1-2.1.tone_6.mp4\n",
      "11156 12556\n",
      "Moviepy - Building video /scratch/back_up/reward_competition_extention/proc/tone_clips/20230614_114041_standard_comp_to_training_D3_subj_1-1_and_1-2.1/20230614_114041_standard_comp_to_training_D3_subj_1-1_and_1-2.1.tone_7.mp4.\n",
      "Moviepy - Writing video /scratch/back_up/reward_competition_extention/proc/tone_clips/20230614_114041_standard_comp_to_training_D3_subj_1-1_and_1-2.1/20230614_114041_standard_comp_to_training_D3_subj_1-1_and_1-2.1.tone_7.mp4\n",
      "\n"
     ]
    },
    {
     "name": "stderr",
     "output_type": "stream",
     "text": [
      "                                                                     \r"
     ]
    },
    {
     "name": "stdout",
     "output_type": "stream",
     "text": [
      "Moviepy - Done !\n",
      "Moviepy - video ready /scratch/back_up/reward_competition_extention/proc/tone_clips/20230614_114041_standard_comp_to_training_D3_subj_1-1_and_1-2.1/20230614_114041_standard_comp_to_training_D3_subj_1-1_and_1-2.1.tone_7.mp4\n",
      "12656 14056\n",
      "Moviepy - Building video /scratch/back_up/reward_competition_extention/proc/tone_clips/20230614_114041_standard_comp_to_training_D3_subj_1-1_and_1-2.1/20230614_114041_standard_comp_to_training_D3_subj_1-1_and_1-2.1.tone_8.mp4.\n",
      "Moviepy - Writing video /scratch/back_up/reward_competition_extention/proc/tone_clips/20230614_114041_standard_comp_to_training_D3_subj_1-1_and_1-2.1/20230614_114041_standard_comp_to_training_D3_subj_1-1_and_1-2.1.tone_8.mp4\n",
      "\n"
     ]
    },
    {
     "name": "stderr",
     "output_type": "stream",
     "text": [
      "                                                                     \r"
     ]
    },
    {
     "name": "stdout",
     "output_type": "stream",
     "text": [
      "Moviepy - Done !\n",
      "Moviepy - video ready /scratch/back_up/reward_competition_extention/proc/tone_clips/20230614_114041_standard_comp_to_training_D3_subj_1-1_and_1-2.1/20230614_114041_standard_comp_to_training_D3_subj_1-1_and_1-2.1.tone_8.mp4\n",
      "14756 16156\n",
      "Moviepy - Building video /scratch/back_up/reward_competition_extention/proc/tone_clips/20230614_114041_standard_comp_to_training_D3_subj_1-1_and_1-2.1/20230614_114041_standard_comp_to_training_D3_subj_1-1_and_1-2.1.tone_9.mp4.\n",
      "Moviepy - Writing video /scratch/back_up/reward_competition_extention/proc/tone_clips/20230614_114041_standard_comp_to_training_D3_subj_1-1_and_1-2.1/20230614_114041_standard_comp_to_training_D3_subj_1-1_and_1-2.1.tone_9.mp4\n",
      "\n"
     ]
    },
    {
     "name": "stderr",
     "output_type": "stream",
     "text": [
      "                                                                     \r"
     ]
    },
    {
     "name": "stdout",
     "output_type": "stream",
     "text": [
      "Moviepy - Done !\n",
      "Moviepy - video ready /scratch/back_up/reward_competition_extention/proc/tone_clips/20230614_114041_standard_comp_to_training_D3_subj_1-1_and_1-2.1/20230614_114041_standard_comp_to_training_D3_subj_1-1_and_1-2.1.tone_9.mp4\n",
      "15756 17156\n",
      "Moviepy - Building video /scratch/back_up/reward_competition_extention/proc/tone_clips/20230614_114041_standard_comp_to_training_D3_subj_1-1_and_1-2.1/20230614_114041_standard_comp_to_training_D3_subj_1-1_and_1-2.1.tone_10.mp4.\n",
      "Moviepy - Writing video /scratch/back_up/reward_competition_extention/proc/tone_clips/20230614_114041_standard_comp_to_training_D3_subj_1-1_and_1-2.1/20230614_114041_standard_comp_to_training_D3_subj_1-1_and_1-2.1.tone_10.mp4\n",
      "\n"
     ]
    },
    {
     "name": "stderr",
     "output_type": "stream",
     "text": [
      "                                                                     \r"
     ]
    },
    {
     "name": "stdout",
     "output_type": "stream",
     "text": [
      "Moviepy - Done !\n",
      "Moviepy - video ready /scratch/back_up/reward_competition_extention/proc/tone_clips/20230614_114041_standard_comp_to_training_D3_subj_1-1_and_1-2.1/20230614_114041_standard_comp_to_training_D3_subj_1-1_and_1-2.1.tone_10.mp4\n",
      "17356 18756\n",
      "Moviepy - Building video /scratch/back_up/reward_competition_extention/proc/tone_clips/20230614_114041_standard_comp_to_training_D3_subj_1-1_and_1-2.1/20230614_114041_standard_comp_to_training_D3_subj_1-1_and_1-2.1.tone_11.mp4.\n",
      "Moviepy - Writing video /scratch/back_up/reward_competition_extention/proc/tone_clips/20230614_114041_standard_comp_to_training_D3_subj_1-1_and_1-2.1/20230614_114041_standard_comp_to_training_D3_subj_1-1_and_1-2.1.tone_11.mp4\n",
      "\n"
     ]
    },
    {
     "name": "stderr",
     "output_type": "stream",
     "text": [
      "                                                                     \r"
     ]
    },
    {
     "name": "stdout",
     "output_type": "stream",
     "text": [
      "Moviepy - Done !\n",
      "Moviepy - video ready /scratch/back_up/reward_competition_extention/proc/tone_clips/20230614_114041_standard_comp_to_training_D3_subj_1-1_and_1-2.1/20230614_114041_standard_comp_to_training_D3_subj_1-1_and_1-2.1.tone_11.mp4\n",
      "18656 20056\n",
      "Moviepy - Building video /scratch/back_up/reward_competition_extention/proc/tone_clips/20230614_114041_standard_comp_to_training_D3_subj_1-1_and_1-2.1/20230614_114041_standard_comp_to_training_D3_subj_1-1_and_1-2.1.tone_12.mp4.\n",
      "Moviepy - Writing video /scratch/back_up/reward_competition_extention/proc/tone_clips/20230614_114041_standard_comp_to_training_D3_subj_1-1_and_1-2.1/20230614_114041_standard_comp_to_training_D3_subj_1-1_and_1-2.1.tone_12.mp4\n",
      "\n"
     ]
    },
    {
     "name": "stderr",
     "output_type": "stream",
     "text": [
      "                                                                     \r"
     ]
    },
    {
     "name": "stdout",
     "output_type": "stream",
     "text": [
      "Moviepy - Done !\n",
      "Moviepy - video ready /scratch/back_up/reward_competition_extention/proc/tone_clips/20230614_114041_standard_comp_to_training_D3_subj_1-1_and_1-2.1/20230614_114041_standard_comp_to_training_D3_subj_1-1_and_1-2.1.tone_12.mp4\n",
      "19956 21356\n",
      "Moviepy - Building video /scratch/back_up/reward_competition_extention/proc/tone_clips/20230614_114041_standard_comp_to_training_D3_subj_1-1_and_1-2.1/20230614_114041_standard_comp_to_training_D3_subj_1-1_and_1-2.1.tone_13.mp4.\n",
      "Moviepy - Writing video /scratch/back_up/reward_competition_extention/proc/tone_clips/20230614_114041_standard_comp_to_training_D3_subj_1-1_and_1-2.1/20230614_114041_standard_comp_to_training_D3_subj_1-1_and_1-2.1.tone_13.mp4\n",
      "\n"
     ]
    },
    {
     "name": "stderr",
     "output_type": "stream",
     "text": [
      "                                                                     \r"
     ]
    },
    {
     "name": "stdout",
     "output_type": "stream",
     "text": [
      "Moviepy - Done !\n",
      "Moviepy - video ready /scratch/back_up/reward_competition_extention/proc/tone_clips/20230614_114041_standard_comp_to_training_D3_subj_1-1_and_1-2.1/20230614_114041_standard_comp_to_training_D3_subj_1-1_and_1-2.1.tone_13.mp4\n",
      "20956 22356\n",
      "Moviepy - Building video /scratch/back_up/reward_competition_extention/proc/tone_clips/20230614_114041_standard_comp_to_training_D3_subj_1-1_and_1-2.1/20230614_114041_standard_comp_to_training_D3_subj_1-1_and_1-2.1.tone_14.mp4.\n",
      "Moviepy - Writing video /scratch/back_up/reward_competition_extention/proc/tone_clips/20230614_114041_standard_comp_to_training_D3_subj_1-1_and_1-2.1/20230614_114041_standard_comp_to_training_D3_subj_1-1_and_1-2.1.tone_14.mp4\n",
      "\n"
     ]
    },
    {
     "name": "stderr",
     "output_type": "stream",
     "text": [
      "                                                                     \r"
     ]
    },
    {
     "name": "stdout",
     "output_type": "stream",
     "text": [
      "Moviepy - Done !\n",
      "Moviepy - video ready /scratch/back_up/reward_competition_extention/proc/tone_clips/20230614_114041_standard_comp_to_training_D3_subj_1-1_and_1-2.1/20230614_114041_standard_comp_to_training_D3_subj_1-1_and_1-2.1.tone_14.mp4\n",
      "22356 23756\n",
      "Moviepy - Building video /scratch/back_up/reward_competition_extention/proc/tone_clips/20230614_114041_standard_comp_to_training_D3_subj_1-1_and_1-2.1/20230614_114041_standard_comp_to_training_D3_subj_1-1_and_1-2.1.tone_15.mp4.\n",
      "Moviepy - Writing video /scratch/back_up/reward_competition_extention/proc/tone_clips/20230614_114041_standard_comp_to_training_D3_subj_1-1_and_1-2.1/20230614_114041_standard_comp_to_training_D3_subj_1-1_and_1-2.1.tone_15.mp4\n",
      "\n"
     ]
    },
    {
     "name": "stderr",
     "output_type": "stream",
     "text": [
      "                                                                     \r"
     ]
    },
    {
     "name": "stdout",
     "output_type": "stream",
     "text": [
      "Moviepy - Done !\n",
      "Moviepy - video ready /scratch/back_up/reward_competition_extention/proc/tone_clips/20230614_114041_standard_comp_to_training_D3_subj_1-1_and_1-2.1/20230614_114041_standard_comp_to_training_D3_subj_1-1_and_1-2.1.tone_15.mp4\n",
      "24256 25656\n",
      "Moviepy - Building video /scratch/back_up/reward_competition_extention/proc/tone_clips/20230614_114041_standard_comp_to_training_D3_subj_1-1_and_1-2.1/20230614_114041_standard_comp_to_training_D3_subj_1-1_and_1-2.1.tone_16.mp4.\n",
      "Moviepy - Writing video /scratch/back_up/reward_competition_extention/proc/tone_clips/20230614_114041_standard_comp_to_training_D3_subj_1-1_and_1-2.1/20230614_114041_standard_comp_to_training_D3_subj_1-1_and_1-2.1.tone_16.mp4\n",
      "\n"
     ]
    },
    {
     "name": "stderr",
     "output_type": "stream",
     "text": [
      "                                                                     \r"
     ]
    },
    {
     "name": "stdout",
     "output_type": "stream",
     "text": [
      "Moviepy - Done !\n",
      "Moviepy - video ready /scratch/back_up/reward_competition_extention/proc/tone_clips/20230614_114041_standard_comp_to_training_D3_subj_1-1_and_1-2.1/20230614_114041_standard_comp_to_training_D3_subj_1-1_and_1-2.1.tone_16.mp4\n",
      "25856 27256\n",
      "Moviepy - Building video /scratch/back_up/reward_competition_extention/proc/tone_clips/20230614_114041_standard_comp_to_training_D3_subj_1-1_and_1-2.1/20230614_114041_standard_comp_to_training_D3_subj_1-1_and_1-2.1.tone_17.mp4.\n",
      "Moviepy - Writing video /scratch/back_up/reward_competition_extention/proc/tone_clips/20230614_114041_standard_comp_to_training_D3_subj_1-1_and_1-2.1/20230614_114041_standard_comp_to_training_D3_subj_1-1_and_1-2.1.tone_17.mp4\n",
      "\n"
     ]
    },
    {
     "name": "stderr",
     "output_type": "stream",
     "text": [
      "                                                                     \r"
     ]
    },
    {
     "name": "stdout",
     "output_type": "stream",
     "text": [
      "Moviepy - Done !\n",
      "Moviepy - video ready /scratch/back_up/reward_competition_extention/proc/tone_clips/20230614_114041_standard_comp_to_training_D3_subj_1-1_and_1-2.1/20230614_114041_standard_comp_to_training_D3_subj_1-1_and_1-2.1.tone_17.mp4\n",
      "27256 28656\n",
      "Moviepy - Building video /scratch/back_up/reward_competition_extention/proc/tone_clips/20230614_114041_standard_comp_to_training_D3_subj_1-1_and_1-2.1/20230614_114041_standard_comp_to_training_D3_subj_1-1_and_1-2.1.tone_18.mp4.\n",
      "Moviepy - Writing video /scratch/back_up/reward_competition_extention/proc/tone_clips/20230614_114041_standard_comp_to_training_D3_subj_1-1_and_1-2.1/20230614_114041_standard_comp_to_training_D3_subj_1-1_and_1-2.1.tone_18.mp4\n",
      "\n"
     ]
    },
    {
     "name": "stderr",
     "output_type": "stream",
     "text": [
      "                                                                     \r"
     ]
    },
    {
     "name": "stdout",
     "output_type": "stream",
     "text": [
      "Moviepy - Done !\n",
      "Moviepy - video ready /scratch/back_up/reward_competition_extention/proc/tone_clips/20230614_114041_standard_comp_to_training_D3_subj_1-1_and_1-2.1/20230614_114041_standard_comp_to_training_D3_subj_1-1_and_1-2.1.tone_18.mp4\n",
      "29456 30856\n",
      "Moviepy - Building video /scratch/back_up/reward_competition_extention/proc/tone_clips/20230614_114041_standard_comp_to_training_D3_subj_1-1_and_1-2.1/20230614_114041_standard_comp_to_training_D3_subj_1-1_and_1-2.1.tone_19.mp4.\n",
      "Moviepy - Writing video /scratch/back_up/reward_competition_extention/proc/tone_clips/20230614_114041_standard_comp_to_training_D3_subj_1-1_and_1-2.1/20230614_114041_standard_comp_to_training_D3_subj_1-1_and_1-2.1.tone_19.mp4\n",
      "\n"
     ]
    },
    {
     "name": "stderr",
     "output_type": "stream",
     "text": [
      "                                                                     \r"
     ]
    },
    {
     "name": "stdout",
     "output_type": "stream",
     "text": [
      "Moviepy - Done !\n",
      "Moviepy - video ready /scratch/back_up/reward_competition_extention/proc/tone_clips/20230614_114041_standard_comp_to_training_D3_subj_1-1_and_1-2.1/20230614_114041_standard_comp_to_training_D3_subj_1-1_and_1-2.1.tone_19.mp4\n",
      "30656 32056\n",
      "Moviepy - Building video /scratch/back_up/reward_competition_extention/proc/tone_clips/20230614_114041_standard_comp_to_training_D3_subj_1-1_and_1-2.1/20230614_114041_standard_comp_to_training_D3_subj_1-1_and_1-2.1.tone_20.mp4.\n",
      "Moviepy - Writing video /scratch/back_up/reward_competition_extention/proc/tone_clips/20230614_114041_standard_comp_to_training_D3_subj_1-1_and_1-2.1/20230614_114041_standard_comp_to_training_D3_subj_1-1_and_1-2.1.tone_20.mp4\n",
      "\n"
     ]
    },
    {
     "name": "stderr",
     "output_type": "stream",
     "text": [
      "                                                                     \r"
     ]
    },
    {
     "name": "stdout",
     "output_type": "stream",
     "text": [
      "Moviepy - Done !\n",
      "Moviepy - video ready /scratch/back_up/reward_competition_extention/proc/tone_clips/20230614_114041_standard_comp_to_training_D3_subj_1-1_and_1-2.1/20230614_114041_standard_comp_to_training_D3_subj_1-1_and_1-2.1.tone_20.mp4\n",
      "36656 38056\n",
      "Moviepy - Building video /scratch/back_up/reward_competition_extention/proc/tone_clips/20230614_114041_standard_comp_to_training_D3_subj_1-1_and_1-2.1/20230614_114041_standard_comp_to_training_D3_subj_1-1_and_1-2.1.tone_21.mp4.\n",
      "Moviepy - Writing video /scratch/back_up/reward_competition_extention/proc/tone_clips/20230614_114041_standard_comp_to_training_D3_subj_1-1_and_1-2.1/20230614_114041_standard_comp_to_training_D3_subj_1-1_and_1-2.1.tone_21.mp4\n",
      "\n"
     ]
    },
    {
     "name": "stderr",
     "output_type": "stream",
     "text": [
      "                                                                     \r"
     ]
    },
    {
     "name": "stdout",
     "output_type": "stream",
     "text": [
      "Moviepy - Done !\n",
      "Moviepy - video ready /scratch/back_up/reward_competition_extention/proc/tone_clips/20230614_114041_standard_comp_to_training_D3_subj_1-1_and_1-2.1/20230614_114041_standard_comp_to_training_D3_subj_1-1_and_1-2.1.tone_21.mp4\n",
      "37856 39256\n",
      "Moviepy - Building video /scratch/back_up/reward_competition_extention/proc/tone_clips/20230614_114041_standard_comp_to_training_D3_subj_1-1_and_1-2.1/20230614_114041_standard_comp_to_training_D3_subj_1-1_and_1-2.1.tone_22.mp4.\n",
      "Moviepy - Writing video /scratch/back_up/reward_competition_extention/proc/tone_clips/20230614_114041_standard_comp_to_training_D3_subj_1-1_and_1-2.1/20230614_114041_standard_comp_to_training_D3_subj_1-1_and_1-2.1.tone_22.mp4\n",
      "\n"
     ]
    },
    {
     "name": "stderr",
     "output_type": "stream",
     "text": [
      "                                                                     \r"
     ]
    },
    {
     "name": "stdout",
     "output_type": "stream",
     "text": [
      "Moviepy - Done !\n",
      "Moviepy - video ready /scratch/back_up/reward_competition_extention/proc/tone_clips/20230614_114041_standard_comp_to_training_D3_subj_1-1_and_1-2.1/20230614_114041_standard_comp_to_training_D3_subj_1-1_and_1-2.1.tone_22.mp4\n",
      "38956 40356\n",
      "Moviepy - Building video /scratch/back_up/reward_competition_extention/proc/tone_clips/20230614_114041_standard_comp_to_training_D3_subj_1-1_and_1-2.1/20230614_114041_standard_comp_to_training_D3_subj_1-1_and_1-2.1.tone_23.mp4.\n",
      "Moviepy - Writing video /scratch/back_up/reward_competition_extention/proc/tone_clips/20230614_114041_standard_comp_to_training_D3_subj_1-1_and_1-2.1/20230614_114041_standard_comp_to_training_D3_subj_1-1_and_1-2.1.tone_23.mp4\n",
      "\n"
     ]
    },
    {
     "name": "stderr",
     "output_type": "stream",
     "text": [
      "                                                                     \r"
     ]
    },
    {
     "name": "stdout",
     "output_type": "stream",
     "text": [
      "Moviepy - Done !\n",
      "Moviepy - video ready /scratch/back_up/reward_competition_extention/proc/tone_clips/20230614_114041_standard_comp_to_training_D3_subj_1-1_and_1-2.1/20230614_114041_standard_comp_to_training_D3_subj_1-1_and_1-2.1.tone_23.mp4\n",
      "40256 41656\n",
      "Moviepy - Building video /scratch/back_up/reward_competition_extention/proc/tone_clips/20230614_114041_standard_comp_to_training_D3_subj_1-1_and_1-2.1/20230614_114041_standard_comp_to_training_D3_subj_1-1_and_1-2.1.tone_24.mp4.\n",
      "Moviepy - Writing video /scratch/back_up/reward_competition_extention/proc/tone_clips/20230614_114041_standard_comp_to_training_D3_subj_1-1_and_1-2.1/20230614_114041_standard_comp_to_training_D3_subj_1-1_and_1-2.1.tone_24.mp4\n",
      "\n"
     ]
    },
    {
     "name": "stderr",
     "output_type": "stream",
     "text": [
      "                                                                     \r"
     ]
    },
    {
     "name": "stdout",
     "output_type": "stream",
     "text": [
      "Moviepy - Done !\n",
      "Moviepy - video ready /scratch/back_up/reward_competition_extention/proc/tone_clips/20230614_114041_standard_comp_to_training_D3_subj_1-1_and_1-2.1/20230614_114041_standard_comp_to_training_D3_subj_1-1_and_1-2.1.tone_24.mp4\n",
      "41356 42756\n",
      "Moviepy - Building video /scratch/back_up/reward_competition_extention/proc/tone_clips/20230614_114041_standard_comp_to_training_D3_subj_1-1_and_1-2.1/20230614_114041_standard_comp_to_training_D3_subj_1-1_and_1-2.1.tone_25.mp4.\n",
      "Moviepy - Writing video /scratch/back_up/reward_competition_extention/proc/tone_clips/20230614_114041_standard_comp_to_training_D3_subj_1-1_and_1-2.1/20230614_114041_standard_comp_to_training_D3_subj_1-1_and_1-2.1.tone_25.mp4\n",
      "\n"
     ]
    },
    {
     "name": "stderr",
     "output_type": "stream",
     "text": [
      "                                                                     \r"
     ]
    },
    {
     "name": "stdout",
     "output_type": "stream",
     "text": [
      "Moviepy - Done !\n",
      "Moviepy - video ready /scratch/back_up/reward_competition_extention/proc/tone_clips/20230614_114041_standard_comp_to_training_D3_subj_1-1_and_1-2.1/20230614_114041_standard_comp_to_training_D3_subj_1-1_and_1-2.1.tone_25.mp4\n",
      "42356 43756\n",
      "Moviepy - Building video /scratch/back_up/reward_competition_extention/proc/tone_clips/20230614_114041_standard_comp_to_training_D3_subj_1-1_and_1-2.1/20230614_114041_standard_comp_to_training_D3_subj_1-1_and_1-2.1.tone_26.mp4.\n",
      "Moviepy - Writing video /scratch/back_up/reward_competition_extention/proc/tone_clips/20230614_114041_standard_comp_to_training_D3_subj_1-1_and_1-2.1/20230614_114041_standard_comp_to_training_D3_subj_1-1_and_1-2.1.tone_26.mp4\n",
      "\n"
     ]
    },
    {
     "name": "stderr",
     "output_type": "stream",
     "text": [
      "                                                                     \r"
     ]
    },
    {
     "name": "stdout",
     "output_type": "stream",
     "text": [
      "Moviepy - Done !\n",
      "Moviepy - video ready /scratch/back_up/reward_competition_extention/proc/tone_clips/20230614_114041_standard_comp_to_training_D3_subj_1-1_and_1-2.1/20230614_114041_standard_comp_to_training_D3_subj_1-1_and_1-2.1.tone_26.mp4\n",
      "43356 44756\n",
      "Moviepy - Building video /scratch/back_up/reward_competition_extention/proc/tone_clips/20230614_114041_standard_comp_to_training_D3_subj_1-1_and_1-2.1/20230614_114041_standard_comp_to_training_D3_subj_1-1_and_1-2.1.tone_27.mp4.\n",
      "Moviepy - Writing video /scratch/back_up/reward_competition_extention/proc/tone_clips/20230614_114041_standard_comp_to_training_D3_subj_1-1_and_1-2.1/20230614_114041_standard_comp_to_training_D3_subj_1-1_and_1-2.1.tone_27.mp4\n",
      "\n"
     ]
    },
    {
     "name": "stderr",
     "output_type": "stream",
     "text": [
      "                                                                     \r"
     ]
    },
    {
     "name": "stdout",
     "output_type": "stream",
     "text": [
      "Moviepy - Done !\n",
      "Moviepy - video ready /scratch/back_up/reward_competition_extention/proc/tone_clips/20230614_114041_standard_comp_to_training_D3_subj_1-1_and_1-2.1/20230614_114041_standard_comp_to_training_D3_subj_1-1_and_1-2.1.tone_27.mp4\n",
      "45456 46856\n",
      "Moviepy - Building video /scratch/back_up/reward_competition_extention/proc/tone_clips/20230614_114041_standard_comp_to_training_D3_subj_1-1_and_1-2.1/20230614_114041_standard_comp_to_training_D3_subj_1-1_and_1-2.1.tone_28.mp4.\n",
      "Moviepy - Writing video /scratch/back_up/reward_competition_extention/proc/tone_clips/20230614_114041_standard_comp_to_training_D3_subj_1-1_and_1-2.1/20230614_114041_standard_comp_to_training_D3_subj_1-1_and_1-2.1.tone_28.mp4\n",
      "\n"
     ]
    },
    {
     "name": "stderr",
     "output_type": "stream",
     "text": [
      "                                                                     \r"
     ]
    },
    {
     "name": "stdout",
     "output_type": "stream",
     "text": [
      "Moviepy - Done !\n",
      "Moviepy - video ready /scratch/back_up/reward_competition_extention/proc/tone_clips/20230614_114041_standard_comp_to_training_D3_subj_1-1_and_1-2.1/20230614_114041_standard_comp_to_training_D3_subj_1-1_and_1-2.1.tone_28.mp4\n",
      "47856 49256\n",
      "Moviepy - Building video /scratch/back_up/reward_competition_extention/proc/tone_clips/20230614_114041_standard_comp_to_training_D3_subj_1-1_and_1-2.1/20230614_114041_standard_comp_to_training_D3_subj_1-1_and_1-2.1.tone_29.mp4.\n",
      "Moviepy - Writing video /scratch/back_up/reward_competition_extention/proc/tone_clips/20230614_114041_standard_comp_to_training_D3_subj_1-1_and_1-2.1/20230614_114041_standard_comp_to_training_D3_subj_1-1_and_1-2.1.tone_29.mp4\n",
      "\n"
     ]
    },
    {
     "name": "stderr",
     "output_type": "stream",
     "text": [
      "                                                                     \r"
     ]
    },
    {
     "name": "stdout",
     "output_type": "stream",
     "text": [
      "Moviepy - Done !\n",
      "Moviepy - video ready /scratch/back_up/reward_competition_extention/proc/tone_clips/20230614_114041_standard_comp_to_training_D3_subj_1-1_and_1-2.1/20230614_114041_standard_comp_to_training_D3_subj_1-1_and_1-2.1.tone_29.mp4\n",
      "50256 51656\n",
      "Moviepy - Building video /scratch/back_up/reward_competition_extention/proc/tone_clips/20230614_114041_standard_comp_to_training_D3_subj_1-1_and_1-2.1/20230614_114041_standard_comp_to_training_D3_subj_1-1_and_1-2.1.tone_30.mp4.\n",
      "Moviepy - Writing video /scratch/back_up/reward_competition_extention/proc/tone_clips/20230614_114041_standard_comp_to_training_D3_subj_1-1_and_1-2.1/20230614_114041_standard_comp_to_training_D3_subj_1-1_and_1-2.1.tone_30.mp4\n",
      "\n"
     ]
    },
    {
     "name": "stderr",
     "output_type": "stream",
     "text": [
      "                                                                     \r"
     ]
    },
    {
     "name": "stdout",
     "output_type": "stream",
     "text": [
      "Moviepy - Done !\n",
      "Moviepy - video ready /scratch/back_up/reward_competition_extention/proc/tone_clips/20230614_114041_standard_comp_to_training_D3_subj_1-1_and_1-2.1/20230614_114041_standard_comp_to_training_D3_subj_1-1_and_1-2.1.tone_30.mp4\n",
      "52456 53856\n",
      "Moviepy - Building video /scratch/back_up/reward_competition_extention/proc/tone_clips/20230614_114041_standard_comp_to_training_D3_subj_1-1_and_1-2.1/20230614_114041_standard_comp_to_training_D3_subj_1-1_and_1-2.1.tone_31.mp4.\n",
      "Moviepy - Writing video /scratch/back_up/reward_competition_extention/proc/tone_clips/20230614_114041_standard_comp_to_training_D3_subj_1-1_and_1-2.1/20230614_114041_standard_comp_to_training_D3_subj_1-1_and_1-2.1.tone_31.mp4\n",
      "\n"
     ]
    },
    {
     "name": "stderr",
     "output_type": "stream",
     "text": [
      "                                                                     \r"
     ]
    },
    {
     "name": "stdout",
     "output_type": "stream",
     "text": [
      "Moviepy - Done !\n",
      "Moviepy - video ready /scratch/back_up/reward_competition_extention/proc/tone_clips/20230614_114041_standard_comp_to_training_D3_subj_1-1_and_1-2.1/20230614_114041_standard_comp_to_training_D3_subj_1-1_and_1-2.1.tone_31.mp4\n",
      "54156 55556\n",
      "Moviepy - Building video /scratch/back_up/reward_competition_extention/proc/tone_clips/20230614_114041_standard_comp_to_training_D3_subj_1-1_and_1-2.1/20230614_114041_standard_comp_to_training_D3_subj_1-1_and_1-2.1.tone_32.mp4.\n",
      "Moviepy - Writing video /scratch/back_up/reward_competition_extention/proc/tone_clips/20230614_114041_standard_comp_to_training_D3_subj_1-1_and_1-2.1/20230614_114041_standard_comp_to_training_D3_subj_1-1_and_1-2.1.tone_32.mp4\n",
      "\n"
     ]
    },
    {
     "name": "stderr",
     "output_type": "stream",
     "text": [
      "                                                                     \r"
     ]
    },
    {
     "name": "stdout",
     "output_type": "stream",
     "text": [
      "Moviepy - Done !\n",
      "Moviepy - video ready /scratch/back_up/reward_competition_extention/proc/tone_clips/20230614_114041_standard_comp_to_training_D3_subj_1-1_and_1-2.1/20230614_114041_standard_comp_to_training_D3_subj_1-1_and_1-2.1.tone_32.mp4\n",
      "56556 57956\n",
      "Moviepy - Building video /scratch/back_up/reward_competition_extention/proc/tone_clips/20230614_114041_standard_comp_to_training_D3_subj_1-1_and_1-2.1/20230614_114041_standard_comp_to_training_D3_subj_1-1_and_1-2.1.tone_33.mp4.\n",
      "Moviepy - Writing video /scratch/back_up/reward_competition_extention/proc/tone_clips/20230614_114041_standard_comp_to_training_D3_subj_1-1_and_1-2.1/20230614_114041_standard_comp_to_training_D3_subj_1-1_and_1-2.1.tone_33.mp4\n",
      "\n"
     ]
    },
    {
     "name": "stderr",
     "output_type": "stream",
     "text": [
      "                                                                     \r"
     ]
    },
    {
     "name": "stdout",
     "output_type": "stream",
     "text": [
      "Moviepy - Done !\n",
      "Moviepy - video ready /scratch/back_up/reward_competition_extention/proc/tone_clips/20230614_114041_standard_comp_to_training_D3_subj_1-1_and_1-2.1/20230614_114041_standard_comp_to_training_D3_subj_1-1_and_1-2.1.tone_33.mp4\n",
      "57756 59156\n",
      "t_start (1925.00) should be smaller than the clip's duration (1922.00).\n",
      "59056 60456\n",
      "t_start (1968.00) should be smaller than the clip's duration (1922.00).\n",
      "60256 61656\n",
      "t_start (2008.00) should be smaller than the clip's duration (1922.00).\n",
      "61756 63156\n",
      "t_start (2058.00) should be smaller than the clip's duration (1922.00).\n",
      "63756 65156\n",
      "t_start (2125.00) should be smaller than the clip's duration (1922.00).\n",
      "65656 67056\n",
      "t_start (2188.00) should be smaller than the clip's duration (1922.00).\n",
      "66656 68056\n",
      "t_start (2221.00) should be smaller than the clip's duration (1922.00).\n",
      "821 2221\n",
      "Moviepy - Building video /scratch/back_up/reward_competition_extention/proc/tone_clips/20230614_115827_standard_comp_to_training_D3_subj_2-1_and_2-4.1/20230614_115827_standard_comp_to_training_D3_subj_2-1_and_2-4.1.tone_1.mp4.\n",
      "Moviepy - Writing video /scratch/back_up/reward_competition_extention/proc/tone_clips/20230614_115827_standard_comp_to_training_D3_subj_2-1_and_2-4.1/20230614_115827_standard_comp_to_training_D3_subj_2-1_and_2-4.1.tone_1.mp4\n",
      "\n"
     ]
    },
    {
     "name": "stderr",
     "output_type": "stream",
     "text": [
      "                                                                     \r"
     ]
    },
    {
     "name": "stdout",
     "output_type": "stream",
     "text": [
      "Moviepy - Done !\n",
      "Moviepy - video ready /scratch/back_up/reward_competition_extention/proc/tone_clips/20230614_115827_standard_comp_to_training_D3_subj_2-1_and_2-4.1/20230614_115827_standard_comp_to_training_D3_subj_2-1_and_2-4.1.tone_1.mp4\n",
      "3221 4621\n",
      "Moviepy - Building video /scratch/back_up/reward_competition_extention/proc/tone_clips/20230614_115827_standard_comp_to_training_D3_subj_2-1_and_2-4.1/20230614_115827_standard_comp_to_training_D3_subj_2-1_and_2-4.1.tone_2.mp4.\n",
      "Moviepy - Writing video /scratch/back_up/reward_competition_extention/proc/tone_clips/20230614_115827_standard_comp_to_training_D3_subj_2-1_and_2-4.1/20230614_115827_standard_comp_to_training_D3_subj_2-1_and_2-4.1.tone_2.mp4\n",
      "\n"
     ]
    },
    {
     "name": "stderr",
     "output_type": "stream",
     "text": [
      "                                                                     \r"
     ]
    },
    {
     "name": "stdout",
     "output_type": "stream",
     "text": [
      "Moviepy - Done !\n",
      "Moviepy - video ready /scratch/back_up/reward_competition_extention/proc/tone_clips/20230614_115827_standard_comp_to_training_D3_subj_2-1_and_2-4.1/20230614_115827_standard_comp_to_training_D3_subj_2-1_and_2-4.1.tone_2.mp4\n",
      "5521 6921\n",
      "Moviepy - Building video /scratch/back_up/reward_competition_extention/proc/tone_clips/20230614_115827_standard_comp_to_training_D3_subj_2-1_and_2-4.1/20230614_115827_standard_comp_to_training_D3_subj_2-1_and_2-4.1.tone_3.mp4.\n",
      "Moviepy - Writing video /scratch/back_up/reward_competition_extention/proc/tone_clips/20230614_115827_standard_comp_to_training_D3_subj_2-1_and_2-4.1/20230614_115827_standard_comp_to_training_D3_subj_2-1_and_2-4.1.tone_3.mp4\n",
      "\n"
     ]
    },
    {
     "name": "stderr",
     "output_type": "stream",
     "text": [
      "                                                                     \r"
     ]
    },
    {
     "name": "stdout",
     "output_type": "stream",
     "text": [
      "Moviepy - Done !\n",
      "Moviepy - video ready /scratch/back_up/reward_competition_extention/proc/tone_clips/20230614_115827_standard_comp_to_training_D3_subj_2-1_and_2-4.1/20230614_115827_standard_comp_to_training_D3_subj_2-1_and_2-4.1.tone_3.mp4\n",
      "7321 8721\n",
      "Moviepy - Building video /scratch/back_up/reward_competition_extention/proc/tone_clips/20230614_115827_standard_comp_to_training_D3_subj_2-1_and_2-4.1/20230614_115827_standard_comp_to_training_D3_subj_2-1_and_2-4.1.tone_4.mp4.\n",
      "Moviepy - Writing video /scratch/back_up/reward_competition_extention/proc/tone_clips/20230614_115827_standard_comp_to_training_D3_subj_2-1_and_2-4.1/20230614_115827_standard_comp_to_training_D3_subj_2-1_and_2-4.1.tone_4.mp4\n",
      "\n"
     ]
    },
    {
     "name": "stderr",
     "output_type": "stream",
     "text": [
      "                                                                     \r"
     ]
    },
    {
     "name": "stdout",
     "output_type": "stream",
     "text": [
      "Moviepy - Done !\n",
      "Moviepy - video ready /scratch/back_up/reward_competition_extention/proc/tone_clips/20230614_115827_standard_comp_to_training_D3_subj_2-1_and_2-4.1/20230614_115827_standard_comp_to_training_D3_subj_2-1_and_2-4.1.tone_4.mp4\n",
      "8421 9821\n",
      "Moviepy - Building video /scratch/back_up/reward_competition_extention/proc/tone_clips/20230614_115827_standard_comp_to_training_D3_subj_2-1_and_2-4.1/20230614_115827_standard_comp_to_training_D3_subj_2-1_and_2-4.1.tone_5.mp4.\n",
      "Moviepy - Writing video /scratch/back_up/reward_competition_extention/proc/tone_clips/20230614_115827_standard_comp_to_training_D3_subj_2-1_and_2-4.1/20230614_115827_standard_comp_to_training_D3_subj_2-1_and_2-4.1.tone_5.mp4\n",
      "\n"
     ]
    },
    {
     "name": "stderr",
     "output_type": "stream",
     "text": [
      "                                                                     \r"
     ]
    },
    {
     "name": "stdout",
     "output_type": "stream",
     "text": [
      "Moviepy - Done !\n",
      "Moviepy - video ready /scratch/back_up/reward_competition_extention/proc/tone_clips/20230614_115827_standard_comp_to_training_D3_subj_2-1_and_2-4.1/20230614_115827_standard_comp_to_training_D3_subj_2-1_and_2-4.1.tone_5.mp4\n",
      "9421 10821\n",
      "Moviepy - Building video /scratch/back_up/reward_competition_extention/proc/tone_clips/20230614_115827_standard_comp_to_training_D3_subj_2-1_and_2-4.1/20230614_115827_standard_comp_to_training_D3_subj_2-1_and_2-4.1.tone_6.mp4.\n",
      "Moviepy - Writing video /scratch/back_up/reward_competition_extention/proc/tone_clips/20230614_115827_standard_comp_to_training_D3_subj_2-1_and_2-4.1/20230614_115827_standard_comp_to_training_D3_subj_2-1_and_2-4.1.tone_6.mp4\n",
      "\n"
     ]
    },
    {
     "name": "stderr",
     "output_type": "stream",
     "text": [
      "                                                                     \r"
     ]
    },
    {
     "name": "stdout",
     "output_type": "stream",
     "text": [
      "Moviepy - Done !\n",
      "Moviepy - video ready /scratch/back_up/reward_competition_extention/proc/tone_clips/20230614_115827_standard_comp_to_training_D3_subj_2-1_and_2-4.1/20230614_115827_standard_comp_to_training_D3_subj_2-1_and_2-4.1.tone_6.mp4\n",
      "11321 12721\n",
      "Moviepy - Building video /scratch/back_up/reward_competition_extention/proc/tone_clips/20230614_115827_standard_comp_to_training_D3_subj_2-1_and_2-4.1/20230614_115827_standard_comp_to_training_D3_subj_2-1_and_2-4.1.tone_7.mp4.\n",
      "Moviepy - Writing video /scratch/back_up/reward_competition_extention/proc/tone_clips/20230614_115827_standard_comp_to_training_D3_subj_2-1_and_2-4.1/20230614_115827_standard_comp_to_training_D3_subj_2-1_and_2-4.1.tone_7.mp4\n",
      "\n"
     ]
    },
    {
     "name": "stderr",
     "output_type": "stream",
     "text": [
      "                                                                     \r"
     ]
    },
    {
     "name": "stdout",
     "output_type": "stream",
     "text": [
      "Moviepy - Done !\n",
      "Moviepy - video ready /scratch/back_up/reward_competition_extention/proc/tone_clips/20230614_115827_standard_comp_to_training_D3_subj_2-1_and_2-4.1/20230614_115827_standard_comp_to_training_D3_subj_2-1_and_2-4.1.tone_7.mp4\n",
      "12821 14221\n",
      "Moviepy - Building video /scratch/back_up/reward_competition_extention/proc/tone_clips/20230614_115827_standard_comp_to_training_D3_subj_2-1_and_2-4.1/20230614_115827_standard_comp_to_training_D3_subj_2-1_and_2-4.1.tone_8.mp4.\n",
      "Moviepy - Writing video /scratch/back_up/reward_competition_extention/proc/tone_clips/20230614_115827_standard_comp_to_training_D3_subj_2-1_and_2-4.1/20230614_115827_standard_comp_to_training_D3_subj_2-1_and_2-4.1.tone_8.mp4\n",
      "\n"
     ]
    },
    {
     "name": "stderr",
     "output_type": "stream",
     "text": [
      "                                                                     \r"
     ]
    },
    {
     "name": "stdout",
     "output_type": "stream",
     "text": [
      "Moviepy - Done !\n",
      "Moviepy - video ready /scratch/back_up/reward_competition_extention/proc/tone_clips/20230614_115827_standard_comp_to_training_D3_subj_2-1_and_2-4.1/20230614_115827_standard_comp_to_training_D3_subj_2-1_and_2-4.1.tone_8.mp4\n",
      "14921 16321\n",
      "Moviepy - Building video /scratch/back_up/reward_competition_extention/proc/tone_clips/20230614_115827_standard_comp_to_training_D3_subj_2-1_and_2-4.1/20230614_115827_standard_comp_to_training_D3_subj_2-1_and_2-4.1.tone_9.mp4.\n",
      "Moviepy - Writing video /scratch/back_up/reward_competition_extention/proc/tone_clips/20230614_115827_standard_comp_to_training_D3_subj_2-1_and_2-4.1/20230614_115827_standard_comp_to_training_D3_subj_2-1_and_2-4.1.tone_9.mp4\n",
      "\n"
     ]
    },
    {
     "name": "stderr",
     "output_type": "stream",
     "text": [
      "                                                                     \r"
     ]
    },
    {
     "name": "stdout",
     "output_type": "stream",
     "text": [
      "Moviepy - Done !\n",
      "Moviepy - video ready /scratch/back_up/reward_competition_extention/proc/tone_clips/20230614_115827_standard_comp_to_training_D3_subj_2-1_and_2-4.1/20230614_115827_standard_comp_to_training_D3_subj_2-1_and_2-4.1.tone_9.mp4\n",
      "15921 17321\n",
      "Moviepy - Building video /scratch/back_up/reward_competition_extention/proc/tone_clips/20230614_115827_standard_comp_to_training_D3_subj_2-1_and_2-4.1/20230614_115827_standard_comp_to_training_D3_subj_2-1_and_2-4.1.tone_10.mp4.\n",
      "Moviepy - Writing video /scratch/back_up/reward_competition_extention/proc/tone_clips/20230614_115827_standard_comp_to_training_D3_subj_2-1_and_2-4.1/20230614_115827_standard_comp_to_training_D3_subj_2-1_and_2-4.1.tone_10.mp4\n",
      "\n"
     ]
    },
    {
     "name": "stderr",
     "output_type": "stream",
     "text": [
      "                                                                     \r"
     ]
    },
    {
     "name": "stdout",
     "output_type": "stream",
     "text": [
      "Moviepy - Done !\n",
      "Moviepy - video ready /scratch/back_up/reward_competition_extention/proc/tone_clips/20230614_115827_standard_comp_to_training_D3_subj_2-1_and_2-4.1/20230614_115827_standard_comp_to_training_D3_subj_2-1_and_2-4.1.tone_10.mp4\n",
      "17521 18921\n",
      "Moviepy - Building video /scratch/back_up/reward_competition_extention/proc/tone_clips/20230614_115827_standard_comp_to_training_D3_subj_2-1_and_2-4.1/20230614_115827_standard_comp_to_training_D3_subj_2-1_and_2-4.1.tone_11.mp4.\n",
      "Moviepy - Writing video /scratch/back_up/reward_competition_extention/proc/tone_clips/20230614_115827_standard_comp_to_training_D3_subj_2-1_and_2-4.1/20230614_115827_standard_comp_to_training_D3_subj_2-1_and_2-4.1.tone_11.mp4\n",
      "\n"
     ]
    },
    {
     "name": "stderr",
     "output_type": "stream",
     "text": [
      "                                                                     \r"
     ]
    },
    {
     "name": "stdout",
     "output_type": "stream",
     "text": [
      "Moviepy - Done !\n",
      "Moviepy - video ready /scratch/back_up/reward_competition_extention/proc/tone_clips/20230614_115827_standard_comp_to_training_D3_subj_2-1_and_2-4.1/20230614_115827_standard_comp_to_training_D3_subj_2-1_and_2-4.1.tone_11.mp4\n",
      "18821 20221\n",
      "Moviepy - Building video /scratch/back_up/reward_competition_extention/proc/tone_clips/20230614_115827_standard_comp_to_training_D3_subj_2-1_and_2-4.1/20230614_115827_standard_comp_to_training_D3_subj_2-1_and_2-4.1.tone_12.mp4.\n",
      "Moviepy - Writing video /scratch/back_up/reward_competition_extention/proc/tone_clips/20230614_115827_standard_comp_to_training_D3_subj_2-1_and_2-4.1/20230614_115827_standard_comp_to_training_D3_subj_2-1_and_2-4.1.tone_12.mp4\n",
      "\n"
     ]
    },
    {
     "name": "stderr",
     "output_type": "stream",
     "text": [
      "                                                                     \r"
     ]
    },
    {
     "name": "stdout",
     "output_type": "stream",
     "text": [
      "Moviepy - Done !\n",
      "Moviepy - video ready /scratch/back_up/reward_competition_extention/proc/tone_clips/20230614_115827_standard_comp_to_training_D3_subj_2-1_and_2-4.1/20230614_115827_standard_comp_to_training_D3_subj_2-1_and_2-4.1.tone_12.mp4\n",
      "20121 21521\n",
      "Moviepy - Building video /scratch/back_up/reward_competition_extention/proc/tone_clips/20230614_115827_standard_comp_to_training_D3_subj_2-1_and_2-4.1/20230614_115827_standard_comp_to_training_D3_subj_2-1_and_2-4.1.tone_13.mp4.\n",
      "Moviepy - Writing video /scratch/back_up/reward_competition_extention/proc/tone_clips/20230614_115827_standard_comp_to_training_D3_subj_2-1_and_2-4.1/20230614_115827_standard_comp_to_training_D3_subj_2-1_and_2-4.1.tone_13.mp4\n",
      "\n"
     ]
    },
    {
     "name": "stderr",
     "output_type": "stream",
     "text": [
      "                                                                     \r"
     ]
    },
    {
     "name": "stdout",
     "output_type": "stream",
     "text": [
      "Moviepy - Done !\n",
      "Moviepy - video ready /scratch/back_up/reward_competition_extention/proc/tone_clips/20230614_115827_standard_comp_to_training_D3_subj_2-1_and_2-4.1/20230614_115827_standard_comp_to_training_D3_subj_2-1_and_2-4.1.tone_13.mp4\n",
      "21121 22521\n",
      "Moviepy - Building video /scratch/back_up/reward_competition_extention/proc/tone_clips/20230614_115827_standard_comp_to_training_D3_subj_2-1_and_2-4.1/20230614_115827_standard_comp_to_training_D3_subj_2-1_and_2-4.1.tone_14.mp4.\n",
      "Moviepy - Writing video /scratch/back_up/reward_competition_extention/proc/tone_clips/20230614_115827_standard_comp_to_training_D3_subj_2-1_and_2-4.1/20230614_115827_standard_comp_to_training_D3_subj_2-1_and_2-4.1.tone_14.mp4\n",
      "\n"
     ]
    },
    {
     "name": "stderr",
     "output_type": "stream",
     "text": [
      "                                                                     \r"
     ]
    },
    {
     "name": "stdout",
     "output_type": "stream",
     "text": [
      "Moviepy - Done !\n",
      "Moviepy - video ready /scratch/back_up/reward_competition_extention/proc/tone_clips/20230614_115827_standard_comp_to_training_D3_subj_2-1_and_2-4.1/20230614_115827_standard_comp_to_training_D3_subj_2-1_and_2-4.1.tone_14.mp4\n",
      "22521 23921\n",
      "Moviepy - Building video /scratch/back_up/reward_competition_extention/proc/tone_clips/20230614_115827_standard_comp_to_training_D3_subj_2-1_and_2-4.1/20230614_115827_standard_comp_to_training_D3_subj_2-1_and_2-4.1.tone_15.mp4.\n",
      "Moviepy - Writing video /scratch/back_up/reward_competition_extention/proc/tone_clips/20230614_115827_standard_comp_to_training_D3_subj_2-1_and_2-4.1/20230614_115827_standard_comp_to_training_D3_subj_2-1_and_2-4.1.tone_15.mp4\n",
      "\n"
     ]
    },
    {
     "name": "stderr",
     "output_type": "stream",
     "text": [
      "                                                                     \r"
     ]
    },
    {
     "name": "stdout",
     "output_type": "stream",
     "text": [
      "Moviepy - Done !\n",
      "Moviepy - video ready /scratch/back_up/reward_competition_extention/proc/tone_clips/20230614_115827_standard_comp_to_training_D3_subj_2-1_and_2-4.1/20230614_115827_standard_comp_to_training_D3_subj_2-1_and_2-4.1.tone_15.mp4\n",
      "24421 25821\n",
      "Moviepy - Building video /scratch/back_up/reward_competition_extention/proc/tone_clips/20230614_115827_standard_comp_to_training_D3_subj_2-1_and_2-4.1/20230614_115827_standard_comp_to_training_D3_subj_2-1_and_2-4.1.tone_16.mp4.\n",
      "Moviepy - Writing video /scratch/back_up/reward_competition_extention/proc/tone_clips/20230614_115827_standard_comp_to_training_D3_subj_2-1_and_2-4.1/20230614_115827_standard_comp_to_training_D3_subj_2-1_and_2-4.1.tone_16.mp4\n",
      "\n"
     ]
    },
    {
     "name": "stderr",
     "output_type": "stream",
     "text": [
      "                                                                     \r"
     ]
    },
    {
     "name": "stdout",
     "output_type": "stream",
     "text": [
      "Moviepy - Done !\n",
      "Moviepy - video ready /scratch/back_up/reward_competition_extention/proc/tone_clips/20230614_115827_standard_comp_to_training_D3_subj_2-1_and_2-4.1/20230614_115827_standard_comp_to_training_D3_subj_2-1_and_2-4.1.tone_16.mp4\n",
      "26021 27421\n",
      "Moviepy - Building video /scratch/back_up/reward_competition_extention/proc/tone_clips/20230614_115827_standard_comp_to_training_D3_subj_2-1_and_2-4.1/20230614_115827_standard_comp_to_training_D3_subj_2-1_and_2-4.1.tone_17.mp4.\n",
      "Moviepy - Writing video /scratch/back_up/reward_competition_extention/proc/tone_clips/20230614_115827_standard_comp_to_training_D3_subj_2-1_and_2-4.1/20230614_115827_standard_comp_to_training_D3_subj_2-1_and_2-4.1.tone_17.mp4\n",
      "\n"
     ]
    },
    {
     "name": "stderr",
     "output_type": "stream",
     "text": [
      "                                                                     \r"
     ]
    },
    {
     "name": "stdout",
     "output_type": "stream",
     "text": [
      "Moviepy - Done !\n",
      "Moviepy - video ready /scratch/back_up/reward_competition_extention/proc/tone_clips/20230614_115827_standard_comp_to_training_D3_subj_2-1_and_2-4.1/20230614_115827_standard_comp_to_training_D3_subj_2-1_and_2-4.1.tone_17.mp4\n",
      "27421 28821\n",
      "Moviepy - Building video /scratch/back_up/reward_competition_extention/proc/tone_clips/20230614_115827_standard_comp_to_training_D3_subj_2-1_and_2-4.1/20230614_115827_standard_comp_to_training_D3_subj_2-1_and_2-4.1.tone_18.mp4.\n",
      "Moviepy - Writing video /scratch/back_up/reward_competition_extention/proc/tone_clips/20230614_115827_standard_comp_to_training_D3_subj_2-1_and_2-4.1/20230614_115827_standard_comp_to_training_D3_subj_2-1_and_2-4.1.tone_18.mp4\n",
      "\n"
     ]
    },
    {
     "name": "stderr",
     "output_type": "stream",
     "text": [
      "                                                                     \r"
     ]
    },
    {
     "name": "stdout",
     "output_type": "stream",
     "text": [
      "Moviepy - Done !\n",
      "Moviepy - video ready /scratch/back_up/reward_competition_extention/proc/tone_clips/20230614_115827_standard_comp_to_training_D3_subj_2-1_and_2-4.1/20230614_115827_standard_comp_to_training_D3_subj_2-1_and_2-4.1.tone_18.mp4\n",
      "29621 31021\n",
      "Moviepy - Building video /scratch/back_up/reward_competition_extention/proc/tone_clips/20230614_115827_standard_comp_to_training_D3_subj_2-1_and_2-4.1/20230614_115827_standard_comp_to_training_D3_subj_2-1_and_2-4.1.tone_19.mp4.\n",
      "Moviepy - Writing video /scratch/back_up/reward_competition_extention/proc/tone_clips/20230614_115827_standard_comp_to_training_D3_subj_2-1_and_2-4.1/20230614_115827_standard_comp_to_training_D3_subj_2-1_and_2-4.1.tone_19.mp4\n",
      "\n"
     ]
    },
    {
     "name": "stderr",
     "output_type": "stream",
     "text": [
      "                                                                     \r"
     ]
    },
    {
     "name": "stdout",
     "output_type": "stream",
     "text": [
      "Moviepy - Done !\n",
      "Moviepy - video ready /scratch/back_up/reward_competition_extention/proc/tone_clips/20230614_115827_standard_comp_to_training_D3_subj_2-1_and_2-4.1/20230614_115827_standard_comp_to_training_D3_subj_2-1_and_2-4.1.tone_19.mp4\n",
      "30821 32221\n",
      "Moviepy - Building video /scratch/back_up/reward_competition_extention/proc/tone_clips/20230614_115827_standard_comp_to_training_D3_subj_2-1_and_2-4.1/20230614_115827_standard_comp_to_training_D3_subj_2-1_and_2-4.1.tone_20.mp4.\n",
      "Moviepy - Writing video /scratch/back_up/reward_competition_extention/proc/tone_clips/20230614_115827_standard_comp_to_training_D3_subj_2-1_and_2-4.1/20230614_115827_standard_comp_to_training_D3_subj_2-1_and_2-4.1.tone_20.mp4\n",
      "\n"
     ]
    },
    {
     "name": "stderr",
     "output_type": "stream",
     "text": [
      "                                                                     \r"
     ]
    },
    {
     "name": "stdout",
     "output_type": "stream",
     "text": [
      "Moviepy - Done !\n",
      "Moviepy - video ready /scratch/back_up/reward_competition_extention/proc/tone_clips/20230614_115827_standard_comp_to_training_D3_subj_2-1_and_2-4.1/20230614_115827_standard_comp_to_training_D3_subj_2-1_and_2-4.1.tone_20.mp4\n",
      "36821 38221\n",
      "Moviepy - Building video /scratch/back_up/reward_competition_extention/proc/tone_clips/20230614_115827_standard_comp_to_training_D3_subj_2-1_and_2-4.1/20230614_115827_standard_comp_to_training_D3_subj_2-1_and_2-4.1.tone_21.mp4.\n",
      "Moviepy - Writing video /scratch/back_up/reward_competition_extention/proc/tone_clips/20230614_115827_standard_comp_to_training_D3_subj_2-1_and_2-4.1/20230614_115827_standard_comp_to_training_D3_subj_2-1_and_2-4.1.tone_21.mp4\n",
      "\n"
     ]
    },
    {
     "name": "stderr",
     "output_type": "stream",
     "text": [
      "                                                                     \r"
     ]
    },
    {
     "name": "stdout",
     "output_type": "stream",
     "text": [
      "Moviepy - Done !\n",
      "Moviepy - video ready /scratch/back_up/reward_competition_extention/proc/tone_clips/20230614_115827_standard_comp_to_training_D3_subj_2-1_and_2-4.1/20230614_115827_standard_comp_to_training_D3_subj_2-1_and_2-4.1.tone_21.mp4\n",
      "38021 39421\n",
      "Moviepy - Building video /scratch/back_up/reward_competition_extention/proc/tone_clips/20230614_115827_standard_comp_to_training_D3_subj_2-1_and_2-4.1/20230614_115827_standard_comp_to_training_D3_subj_2-1_and_2-4.1.tone_22.mp4.\n",
      "Moviepy - Writing video /scratch/back_up/reward_competition_extention/proc/tone_clips/20230614_115827_standard_comp_to_training_D3_subj_2-1_and_2-4.1/20230614_115827_standard_comp_to_training_D3_subj_2-1_and_2-4.1.tone_22.mp4\n",
      "\n"
     ]
    },
    {
     "name": "stderr",
     "output_type": "stream",
     "text": [
      "                                                                     \r"
     ]
    },
    {
     "name": "stdout",
     "output_type": "stream",
     "text": [
      "Moviepy - Done !\n",
      "Moviepy - video ready /scratch/back_up/reward_competition_extention/proc/tone_clips/20230614_115827_standard_comp_to_training_D3_subj_2-1_and_2-4.1/20230614_115827_standard_comp_to_training_D3_subj_2-1_and_2-4.1.tone_22.mp4\n",
      "39121 40521\n",
      "Moviepy - Building video /scratch/back_up/reward_competition_extention/proc/tone_clips/20230614_115827_standard_comp_to_training_D3_subj_2-1_and_2-4.1/20230614_115827_standard_comp_to_training_D3_subj_2-1_and_2-4.1.tone_23.mp4.\n",
      "Moviepy - Writing video /scratch/back_up/reward_competition_extention/proc/tone_clips/20230614_115827_standard_comp_to_training_D3_subj_2-1_and_2-4.1/20230614_115827_standard_comp_to_training_D3_subj_2-1_and_2-4.1.tone_23.mp4\n",
      "\n"
     ]
    },
    {
     "name": "stderr",
     "output_type": "stream",
     "text": [
      "                                                                     \r"
     ]
    },
    {
     "name": "stdout",
     "output_type": "stream",
     "text": [
      "Moviepy - Done !\n",
      "Moviepy - video ready /scratch/back_up/reward_competition_extention/proc/tone_clips/20230614_115827_standard_comp_to_training_D3_subj_2-1_and_2-4.1/20230614_115827_standard_comp_to_training_D3_subj_2-1_and_2-4.1.tone_23.mp4\n",
      "40421 41821\n",
      "Moviepy - Building video /scratch/back_up/reward_competition_extention/proc/tone_clips/20230614_115827_standard_comp_to_training_D3_subj_2-1_and_2-4.1/20230614_115827_standard_comp_to_training_D3_subj_2-1_and_2-4.1.tone_24.mp4.\n",
      "Moviepy - Writing video /scratch/back_up/reward_competition_extention/proc/tone_clips/20230614_115827_standard_comp_to_training_D3_subj_2-1_and_2-4.1/20230614_115827_standard_comp_to_training_D3_subj_2-1_and_2-4.1.tone_24.mp4\n",
      "\n"
     ]
    },
    {
     "name": "stderr",
     "output_type": "stream",
     "text": [
      "                                                                     \r"
     ]
    },
    {
     "name": "stdout",
     "output_type": "stream",
     "text": [
      "Moviepy - Done !\n",
      "Moviepy - video ready /scratch/back_up/reward_competition_extention/proc/tone_clips/20230614_115827_standard_comp_to_training_D3_subj_2-1_and_2-4.1/20230614_115827_standard_comp_to_training_D3_subj_2-1_and_2-4.1.tone_24.mp4\n",
      "41521 42921\n",
      "Moviepy - Building video /scratch/back_up/reward_competition_extention/proc/tone_clips/20230614_115827_standard_comp_to_training_D3_subj_2-1_and_2-4.1/20230614_115827_standard_comp_to_training_D3_subj_2-1_and_2-4.1.tone_25.mp4.\n",
      "Moviepy - Writing video /scratch/back_up/reward_competition_extention/proc/tone_clips/20230614_115827_standard_comp_to_training_D3_subj_2-1_and_2-4.1/20230614_115827_standard_comp_to_training_D3_subj_2-1_and_2-4.1.tone_25.mp4\n",
      "\n"
     ]
    },
    {
     "name": "stderr",
     "output_type": "stream",
     "text": [
      "                                                                     \r"
     ]
    },
    {
     "name": "stdout",
     "output_type": "stream",
     "text": [
      "Moviepy - Done !\n",
      "Moviepy - video ready /scratch/back_up/reward_competition_extention/proc/tone_clips/20230614_115827_standard_comp_to_training_D3_subj_2-1_and_2-4.1/20230614_115827_standard_comp_to_training_D3_subj_2-1_and_2-4.1.tone_25.mp4\n",
      "42521 43921\n",
      "Moviepy - Building video /scratch/back_up/reward_competition_extention/proc/tone_clips/20230614_115827_standard_comp_to_training_D3_subj_2-1_and_2-4.1/20230614_115827_standard_comp_to_training_D3_subj_2-1_and_2-4.1.tone_26.mp4.\n",
      "Moviepy - Writing video /scratch/back_up/reward_competition_extention/proc/tone_clips/20230614_115827_standard_comp_to_training_D3_subj_2-1_and_2-4.1/20230614_115827_standard_comp_to_training_D3_subj_2-1_and_2-4.1.tone_26.mp4\n",
      "\n"
     ]
    },
    {
     "name": "stderr",
     "output_type": "stream",
     "text": [
      "                                                                     \r"
     ]
    },
    {
     "name": "stdout",
     "output_type": "stream",
     "text": [
      "Moviepy - Done !\n",
      "Moviepy - video ready /scratch/back_up/reward_competition_extention/proc/tone_clips/20230614_115827_standard_comp_to_training_D3_subj_2-1_and_2-4.1/20230614_115827_standard_comp_to_training_D3_subj_2-1_and_2-4.1.tone_26.mp4\n",
      "43521 44921\n",
      "Moviepy - Building video /scratch/back_up/reward_competition_extention/proc/tone_clips/20230614_115827_standard_comp_to_training_D3_subj_2-1_and_2-4.1/20230614_115827_standard_comp_to_training_D3_subj_2-1_and_2-4.1.tone_27.mp4.\n",
      "Moviepy - Writing video /scratch/back_up/reward_competition_extention/proc/tone_clips/20230614_115827_standard_comp_to_training_D3_subj_2-1_and_2-4.1/20230614_115827_standard_comp_to_training_D3_subj_2-1_and_2-4.1.tone_27.mp4\n",
      "\n"
     ]
    },
    {
     "name": "stderr",
     "output_type": "stream",
     "text": [
      "                                                                     \r"
     ]
    },
    {
     "name": "stdout",
     "output_type": "stream",
     "text": [
      "Moviepy - Done !\n",
      "Moviepy - video ready /scratch/back_up/reward_competition_extention/proc/tone_clips/20230614_115827_standard_comp_to_training_D3_subj_2-1_and_2-4.1/20230614_115827_standard_comp_to_training_D3_subj_2-1_and_2-4.1.tone_27.mp4\n",
      "45621 47021\n",
      "Moviepy - Building video /scratch/back_up/reward_competition_extention/proc/tone_clips/20230614_115827_standard_comp_to_training_D3_subj_2-1_and_2-4.1/20230614_115827_standard_comp_to_training_D3_subj_2-1_and_2-4.1.tone_28.mp4.\n",
      "Moviepy - Writing video /scratch/back_up/reward_competition_extention/proc/tone_clips/20230614_115827_standard_comp_to_training_D3_subj_2-1_and_2-4.1/20230614_115827_standard_comp_to_training_D3_subj_2-1_and_2-4.1.tone_28.mp4\n",
      "\n"
     ]
    },
    {
     "name": "stderr",
     "output_type": "stream",
     "text": [
      "                                                                     \r"
     ]
    },
    {
     "name": "stdout",
     "output_type": "stream",
     "text": [
      "Moviepy - Done !\n",
      "Moviepy - video ready /scratch/back_up/reward_competition_extention/proc/tone_clips/20230614_115827_standard_comp_to_training_D3_subj_2-1_and_2-4.1/20230614_115827_standard_comp_to_training_D3_subj_2-1_and_2-4.1.tone_28.mp4\n",
      "48021 49421\n",
      "Moviepy - Building video /scratch/back_up/reward_competition_extention/proc/tone_clips/20230614_115827_standard_comp_to_training_D3_subj_2-1_and_2-4.1/20230614_115827_standard_comp_to_training_D3_subj_2-1_and_2-4.1.tone_29.mp4.\n",
      "Moviepy - Writing video /scratch/back_up/reward_competition_extention/proc/tone_clips/20230614_115827_standard_comp_to_training_D3_subj_2-1_and_2-4.1/20230614_115827_standard_comp_to_training_D3_subj_2-1_and_2-4.1.tone_29.mp4\n",
      "\n"
     ]
    },
    {
     "name": "stderr",
     "output_type": "stream",
     "text": [
      "                                                                     \r"
     ]
    },
    {
     "name": "stdout",
     "output_type": "stream",
     "text": [
      "Moviepy - Done !\n",
      "Moviepy - video ready /scratch/back_up/reward_competition_extention/proc/tone_clips/20230614_115827_standard_comp_to_training_D3_subj_2-1_and_2-4.1/20230614_115827_standard_comp_to_training_D3_subj_2-1_and_2-4.1.tone_29.mp4\n",
      "50421 51821\n",
      "Moviepy - Building video /scratch/back_up/reward_competition_extention/proc/tone_clips/20230614_115827_standard_comp_to_training_D3_subj_2-1_and_2-4.1/20230614_115827_standard_comp_to_training_D3_subj_2-1_and_2-4.1.tone_30.mp4.\n",
      "Moviepy - Writing video /scratch/back_up/reward_competition_extention/proc/tone_clips/20230614_115827_standard_comp_to_training_D3_subj_2-1_and_2-4.1/20230614_115827_standard_comp_to_training_D3_subj_2-1_and_2-4.1.tone_30.mp4\n",
      "\n"
     ]
    },
    {
     "name": "stderr",
     "output_type": "stream",
     "text": [
      "                                                                     \r"
     ]
    },
    {
     "name": "stdout",
     "output_type": "stream",
     "text": [
      "Moviepy - Done !\n",
      "Moviepy - video ready /scratch/back_up/reward_competition_extention/proc/tone_clips/20230614_115827_standard_comp_to_training_D3_subj_2-1_and_2-4.1/20230614_115827_standard_comp_to_training_D3_subj_2-1_and_2-4.1.tone_30.mp4\n",
      "52621 54021\n",
      "Moviepy - Building video /scratch/back_up/reward_competition_extention/proc/tone_clips/20230614_115827_standard_comp_to_training_D3_subj_2-1_and_2-4.1/20230614_115827_standard_comp_to_training_D3_subj_2-1_and_2-4.1.tone_31.mp4.\n",
      "Moviepy - Writing video /scratch/back_up/reward_competition_extention/proc/tone_clips/20230614_115827_standard_comp_to_training_D3_subj_2-1_and_2-4.1/20230614_115827_standard_comp_to_training_D3_subj_2-1_and_2-4.1.tone_31.mp4\n",
      "\n"
     ]
    },
    {
     "name": "stderr",
     "output_type": "stream",
     "text": [
      "                                                                     \r"
     ]
    },
    {
     "name": "stdout",
     "output_type": "stream",
     "text": [
      "Moviepy - Done !\n",
      "Moviepy - video ready /scratch/back_up/reward_competition_extention/proc/tone_clips/20230614_115827_standard_comp_to_training_D3_subj_2-1_and_2-4.1/20230614_115827_standard_comp_to_training_D3_subj_2-1_and_2-4.1.tone_31.mp4\n",
      "54321 55721\n",
      "Moviepy - Building video /scratch/back_up/reward_competition_extention/proc/tone_clips/20230614_115827_standard_comp_to_training_D3_subj_2-1_and_2-4.1/20230614_115827_standard_comp_to_training_D3_subj_2-1_and_2-4.1.tone_32.mp4.\n",
      "Moviepy - Writing video /scratch/back_up/reward_competition_extention/proc/tone_clips/20230614_115827_standard_comp_to_training_D3_subj_2-1_and_2-4.1/20230614_115827_standard_comp_to_training_D3_subj_2-1_and_2-4.1.tone_32.mp4\n",
      "\n"
     ]
    },
    {
     "name": "stderr",
     "output_type": "stream",
     "text": [
      "                                                                     \r"
     ]
    },
    {
     "name": "stdout",
     "output_type": "stream",
     "text": [
      "Moviepy - Done !\n",
      "Moviepy - video ready /scratch/back_up/reward_competition_extention/proc/tone_clips/20230614_115827_standard_comp_to_training_D3_subj_2-1_and_2-4.1/20230614_115827_standard_comp_to_training_D3_subj_2-1_and_2-4.1.tone_32.mp4\n",
      "56721 58121\n",
      "Moviepy - Building video /scratch/back_up/reward_competition_extention/proc/tone_clips/20230614_115827_standard_comp_to_training_D3_subj_2-1_and_2-4.1/20230614_115827_standard_comp_to_training_D3_subj_2-1_and_2-4.1.tone_33.mp4.\n",
      "Moviepy - Writing video /scratch/back_up/reward_competition_extention/proc/tone_clips/20230614_115827_standard_comp_to_training_D3_subj_2-1_and_2-4.1/20230614_115827_standard_comp_to_training_D3_subj_2-1_and_2-4.1.tone_33.mp4\n",
      "\n"
     ]
    },
    {
     "name": "stderr",
     "output_type": "stream",
     "text": [
      "                                                                     \r"
     ]
    },
    {
     "name": "stdout",
     "output_type": "stream",
     "text": [
      "Moviepy - Done !\n",
      "Moviepy - video ready /scratch/back_up/reward_competition_extention/proc/tone_clips/20230614_115827_standard_comp_to_training_D3_subj_2-1_and_2-4.1/20230614_115827_standard_comp_to_training_D3_subj_2-1_and_2-4.1.tone_33.mp4\n",
      "57921 59321\n",
      "Moviepy - Building video /scratch/back_up/reward_competition_extention/proc/tone_clips/20230614_115827_standard_comp_to_training_D3_subj_2-1_and_2-4.1/20230614_115827_standard_comp_to_training_D3_subj_2-1_and_2-4.1.tone_34.mp4.\n",
      "Moviepy - Writing video /scratch/back_up/reward_competition_extention/proc/tone_clips/20230614_115827_standard_comp_to_training_D3_subj_2-1_and_2-4.1/20230614_115827_standard_comp_to_training_D3_subj_2-1_and_2-4.1.tone_34.mp4\n",
      "\n"
     ]
    },
    {
     "name": "stderr",
     "output_type": "stream",
     "text": [
      "                                                                     \r"
     ]
    },
    {
     "name": "stdout",
     "output_type": "stream",
     "text": [
      "Moviepy - Done !\n",
      "Moviepy - video ready /scratch/back_up/reward_competition_extention/proc/tone_clips/20230614_115827_standard_comp_to_training_D3_subj_2-1_and_2-4.1/20230614_115827_standard_comp_to_training_D3_subj_2-1_and_2-4.1.tone_34.mp4\n",
      "59221 60621\n",
      "Moviepy - Building video /scratch/back_up/reward_competition_extention/proc/tone_clips/20230614_115827_standard_comp_to_training_D3_subj_2-1_and_2-4.1/20230614_115827_standard_comp_to_training_D3_subj_2-1_and_2-4.1.tone_35.mp4.\n",
      "Moviepy - Writing video /scratch/back_up/reward_competition_extention/proc/tone_clips/20230614_115827_standard_comp_to_training_D3_subj_2-1_and_2-4.1/20230614_115827_standard_comp_to_training_D3_subj_2-1_and_2-4.1.tone_35.mp4\n",
      "\n"
     ]
    },
    {
     "name": "stderr",
     "output_type": "stream",
     "text": [
      "                                                                     \r"
     ]
    },
    {
     "name": "stdout",
     "output_type": "stream",
     "text": [
      "Moviepy - Done !\n",
      "Moviepy - video ready /scratch/back_up/reward_competition_extention/proc/tone_clips/20230614_115827_standard_comp_to_training_D3_subj_2-1_and_2-4.1/20230614_115827_standard_comp_to_training_D3_subj_2-1_and_2-4.1.tone_35.mp4\n",
      "60421 61821\n",
      "Moviepy - Building video /scratch/back_up/reward_competition_extention/proc/tone_clips/20230614_115827_standard_comp_to_training_D3_subj_2-1_and_2-4.1/20230614_115827_standard_comp_to_training_D3_subj_2-1_and_2-4.1.tone_36.mp4.\n",
      "Moviepy - Writing video /scratch/back_up/reward_competition_extention/proc/tone_clips/20230614_115827_standard_comp_to_training_D3_subj_2-1_and_2-4.1/20230614_115827_standard_comp_to_training_D3_subj_2-1_and_2-4.1.tone_36.mp4\n",
      "\n"
     ]
    },
    {
     "name": "stderr",
     "output_type": "stream",
     "text": [
      "                                                                     \r"
     ]
    },
    {
     "name": "stdout",
     "output_type": "stream",
     "text": [
      "Moviepy - Done !\n",
      "Moviepy - video ready /scratch/back_up/reward_competition_extention/proc/tone_clips/20230614_115827_standard_comp_to_training_D3_subj_2-1_and_2-4.1/20230614_115827_standard_comp_to_training_D3_subj_2-1_and_2-4.1.tone_36.mp4\n",
      "61921 63321\n",
      "Moviepy - Building video /scratch/back_up/reward_competition_extention/proc/tone_clips/20230614_115827_standard_comp_to_training_D3_subj_2-1_and_2-4.1/20230614_115827_standard_comp_to_training_D3_subj_2-1_and_2-4.1.tone_37.mp4.\n",
      "Moviepy - Writing video /scratch/back_up/reward_competition_extention/proc/tone_clips/20230614_115827_standard_comp_to_training_D3_subj_2-1_and_2-4.1/20230614_115827_standard_comp_to_training_D3_subj_2-1_and_2-4.1.tone_37.mp4\n",
      "\n"
     ]
    },
    {
     "name": "stderr",
     "output_type": "stream",
     "text": [
      "                                                                     \r"
     ]
    },
    {
     "name": "stdout",
     "output_type": "stream",
     "text": [
      "Moviepy - Done !\n",
      "Moviepy - video ready /scratch/back_up/reward_competition_extention/proc/tone_clips/20230614_115827_standard_comp_to_training_D3_subj_2-1_and_2-4.1/20230614_115827_standard_comp_to_training_D3_subj_2-1_and_2-4.1.tone_37.mp4\n",
      "63921 65321\n",
      "Moviepy - Building video /scratch/back_up/reward_competition_extention/proc/tone_clips/20230614_115827_standard_comp_to_training_D3_subj_2-1_and_2-4.1/20230614_115827_standard_comp_to_training_D3_subj_2-1_and_2-4.1.tone_38.mp4.\n",
      "Moviepy - Writing video /scratch/back_up/reward_competition_extention/proc/tone_clips/20230614_115827_standard_comp_to_training_D3_subj_2-1_and_2-4.1/20230614_115827_standard_comp_to_training_D3_subj_2-1_and_2-4.1.tone_38.mp4\n",
      "\n"
     ]
    },
    {
     "name": "stderr",
     "output_type": "stream",
     "text": [
      "                                                                     \r"
     ]
    },
    {
     "name": "stdout",
     "output_type": "stream",
     "text": [
      "Moviepy - Done !\n",
      "Moviepy - video ready /scratch/back_up/reward_competition_extention/proc/tone_clips/20230614_115827_standard_comp_to_training_D3_subj_2-1_and_2-4.1/20230614_115827_standard_comp_to_training_D3_subj_2-1_and_2-4.1.tone_38.mp4\n",
      "65821 67221\n",
      "Moviepy - Building video /scratch/back_up/reward_competition_extention/proc/tone_clips/20230614_115827_standard_comp_to_training_D3_subj_2-1_and_2-4.1/20230614_115827_standard_comp_to_training_D3_subj_2-1_and_2-4.1.tone_39.mp4.\n",
      "Moviepy - Writing video /scratch/back_up/reward_competition_extention/proc/tone_clips/20230614_115827_standard_comp_to_training_D3_subj_2-1_and_2-4.1/20230614_115827_standard_comp_to_training_D3_subj_2-1_and_2-4.1.tone_39.mp4\n",
      "\n"
     ]
    },
    {
     "name": "stderr",
     "output_type": "stream",
     "text": [
      "                                                                     \r"
     ]
    },
    {
     "name": "stdout",
     "output_type": "stream",
     "text": [
      "Moviepy - Done !\n",
      "Moviepy - video ready /scratch/back_up/reward_competition_extention/proc/tone_clips/20230614_115827_standard_comp_to_training_D3_subj_2-1_and_2-4.1/20230614_115827_standard_comp_to_training_D3_subj_2-1_and_2-4.1.tone_39.mp4\n",
      "66821 68221\n",
      "Moviepy - Building video /scratch/back_up/reward_competition_extention/proc/tone_clips/20230614_115827_standard_comp_to_training_D3_subj_2-1_and_2-4.1/20230614_115827_standard_comp_to_training_D3_subj_2-1_and_2-4.1.tone_40.mp4.\n",
      "Moviepy - Writing video /scratch/back_up/reward_competition_extention/proc/tone_clips/20230614_115827_standard_comp_to_training_D3_subj_2-1_and_2-4.1/20230614_115827_standard_comp_to_training_D3_subj_2-1_and_2-4.1.tone_40.mp4\n",
      "\n"
     ]
    },
    {
     "name": "stderr",
     "output_type": "stream",
     "text": [
      "                                                                     \r"
     ]
    },
    {
     "name": "stdout",
     "output_type": "stream",
     "text": [
      "Moviepy - Done !\n",
      "Moviepy - video ready /scratch/back_up/reward_competition_extention/proc/tone_clips/20230614_115827_standard_comp_to_training_D3_subj_2-1_and_2-4.1/20230614_115827_standard_comp_to_training_D3_subj_2-1_and_2-4.1.tone_40.mp4\n",
      "0 1289\n",
      "Moviepy - Building video /scratch/back_up/reward_competition_extention/proc/tone_clips/20230616_111904_standard_comp_to_training_D4_subj_1-4_and_1-2.1/20230616_111904_standard_comp_to_training_D4_subj_1-4_and_1-2.1.tone_1.mp4.\n",
      "Moviepy - Writing video /scratch/back_up/reward_competition_extention/proc/tone_clips/20230616_111904_standard_comp_to_training_D4_subj_1-4_and_1-2.1/20230616_111904_standard_comp_to_training_D4_subj_1-4_and_1-2.1.tone_1.mp4\n",
      "\n"
     ]
    },
    {
     "name": "stderr",
     "output_type": "stream",
     "text": [
      "                                                                     \r"
     ]
    },
    {
     "name": "stdout",
     "output_type": "stream",
     "text": [
      "Moviepy - Done !\n",
      "Moviepy - video ready /scratch/back_up/reward_competition_extention/proc/tone_clips/20230616_111904_standard_comp_to_training_D4_subj_1-4_and_1-2.1/20230616_111904_standard_comp_to_training_D4_subj_1-4_and_1-2.1.tone_1.mp4\n",
      "2289 3689\n",
      "Moviepy - Building video /scratch/back_up/reward_competition_extention/proc/tone_clips/20230616_111904_standard_comp_to_training_D4_subj_1-4_and_1-2.1/20230616_111904_standard_comp_to_training_D4_subj_1-4_and_1-2.1.tone_2.mp4.\n",
      "Moviepy - Writing video /scratch/back_up/reward_competition_extention/proc/tone_clips/20230616_111904_standard_comp_to_training_D4_subj_1-4_and_1-2.1/20230616_111904_standard_comp_to_training_D4_subj_1-4_and_1-2.1.tone_2.mp4\n",
      "\n"
     ]
    },
    {
     "name": "stderr",
     "output_type": "stream",
     "text": [
      "                                                                     \r"
     ]
    },
    {
     "name": "stdout",
     "output_type": "stream",
     "text": [
      "Moviepy - Done !\n",
      "Moviepy - video ready /scratch/back_up/reward_competition_extention/proc/tone_clips/20230616_111904_standard_comp_to_training_D4_subj_1-4_and_1-2.1/20230616_111904_standard_comp_to_training_D4_subj_1-4_and_1-2.1.tone_2.mp4\n",
      "4589 5989\n",
      "Moviepy - Building video /scratch/back_up/reward_competition_extention/proc/tone_clips/20230616_111904_standard_comp_to_training_D4_subj_1-4_and_1-2.1/20230616_111904_standard_comp_to_training_D4_subj_1-4_and_1-2.1.tone_3.mp4.\n",
      "Moviepy - Writing video /scratch/back_up/reward_competition_extention/proc/tone_clips/20230616_111904_standard_comp_to_training_D4_subj_1-4_and_1-2.1/20230616_111904_standard_comp_to_training_D4_subj_1-4_and_1-2.1.tone_3.mp4\n",
      "\n"
     ]
    },
    {
     "name": "stderr",
     "output_type": "stream",
     "text": [
      "                                                                     \r"
     ]
    },
    {
     "name": "stdout",
     "output_type": "stream",
     "text": [
      "Moviepy - Done !\n",
      "Moviepy - video ready /scratch/back_up/reward_competition_extention/proc/tone_clips/20230616_111904_standard_comp_to_training_D4_subj_1-4_and_1-2.1/20230616_111904_standard_comp_to_training_D4_subj_1-4_and_1-2.1.tone_3.mp4\n",
      "6389 7789\n",
      "Moviepy - Building video /scratch/back_up/reward_competition_extention/proc/tone_clips/20230616_111904_standard_comp_to_training_D4_subj_1-4_and_1-2.1/20230616_111904_standard_comp_to_training_D4_subj_1-4_and_1-2.1.tone_4.mp4.\n",
      "Moviepy - Writing video /scratch/back_up/reward_competition_extention/proc/tone_clips/20230616_111904_standard_comp_to_training_D4_subj_1-4_and_1-2.1/20230616_111904_standard_comp_to_training_D4_subj_1-4_and_1-2.1.tone_4.mp4\n",
      "\n"
     ]
    },
    {
     "name": "stderr",
     "output_type": "stream",
     "text": [
      "                                                                     \r"
     ]
    },
    {
     "name": "stdout",
     "output_type": "stream",
     "text": [
      "Moviepy - Done !\n",
      "Moviepy - video ready /scratch/back_up/reward_competition_extention/proc/tone_clips/20230616_111904_standard_comp_to_training_D4_subj_1-4_and_1-2.1/20230616_111904_standard_comp_to_training_D4_subj_1-4_and_1-2.1.tone_4.mp4\n",
      "7489 8889\n",
      "Moviepy - Building video /scratch/back_up/reward_competition_extention/proc/tone_clips/20230616_111904_standard_comp_to_training_D4_subj_1-4_and_1-2.1/20230616_111904_standard_comp_to_training_D4_subj_1-4_and_1-2.1.tone_5.mp4.\n",
      "Moviepy - Writing video /scratch/back_up/reward_competition_extention/proc/tone_clips/20230616_111904_standard_comp_to_training_D4_subj_1-4_and_1-2.1/20230616_111904_standard_comp_to_training_D4_subj_1-4_and_1-2.1.tone_5.mp4\n",
      "\n"
     ]
    },
    {
     "name": "stderr",
     "output_type": "stream",
     "text": [
      "                                                                     \r"
     ]
    },
    {
     "name": "stdout",
     "output_type": "stream",
     "text": [
      "Moviepy - Done !\n",
      "Moviepy - video ready /scratch/back_up/reward_competition_extention/proc/tone_clips/20230616_111904_standard_comp_to_training_D4_subj_1-4_and_1-2.1/20230616_111904_standard_comp_to_training_D4_subj_1-4_and_1-2.1.tone_5.mp4\n",
      "8489 9889\n",
      "Moviepy - Building video /scratch/back_up/reward_competition_extention/proc/tone_clips/20230616_111904_standard_comp_to_training_D4_subj_1-4_and_1-2.1/20230616_111904_standard_comp_to_training_D4_subj_1-4_and_1-2.1.tone_6.mp4.\n",
      "Moviepy - Writing video /scratch/back_up/reward_competition_extention/proc/tone_clips/20230616_111904_standard_comp_to_training_D4_subj_1-4_and_1-2.1/20230616_111904_standard_comp_to_training_D4_subj_1-4_and_1-2.1.tone_6.mp4\n",
      "\n"
     ]
    },
    {
     "name": "stderr",
     "output_type": "stream",
     "text": [
      "                                                                     \r"
     ]
    },
    {
     "name": "stdout",
     "output_type": "stream",
     "text": [
      "Moviepy - Done !\n",
      "Moviepy - video ready /scratch/back_up/reward_competition_extention/proc/tone_clips/20230616_111904_standard_comp_to_training_D4_subj_1-4_and_1-2.1/20230616_111904_standard_comp_to_training_D4_subj_1-4_and_1-2.1.tone_6.mp4\n",
      "10389 11789\n",
      "Moviepy - Building video /scratch/back_up/reward_competition_extention/proc/tone_clips/20230616_111904_standard_comp_to_training_D4_subj_1-4_and_1-2.1/20230616_111904_standard_comp_to_training_D4_subj_1-4_and_1-2.1.tone_7.mp4.\n",
      "Moviepy - Writing video /scratch/back_up/reward_competition_extention/proc/tone_clips/20230616_111904_standard_comp_to_training_D4_subj_1-4_and_1-2.1/20230616_111904_standard_comp_to_training_D4_subj_1-4_and_1-2.1.tone_7.mp4\n",
      "\n"
     ]
    },
    {
     "name": "stderr",
     "output_type": "stream",
     "text": [
      "                                                                     \r"
     ]
    },
    {
     "name": "stdout",
     "output_type": "stream",
     "text": [
      "Moviepy - Done !\n",
      "Moviepy - video ready /scratch/back_up/reward_competition_extention/proc/tone_clips/20230616_111904_standard_comp_to_training_D4_subj_1-4_and_1-2.1/20230616_111904_standard_comp_to_training_D4_subj_1-4_and_1-2.1.tone_7.mp4\n",
      "11889 13289\n",
      "Moviepy - Building video /scratch/back_up/reward_competition_extention/proc/tone_clips/20230616_111904_standard_comp_to_training_D4_subj_1-4_and_1-2.1/20230616_111904_standard_comp_to_training_D4_subj_1-4_and_1-2.1.tone_8.mp4.\n",
      "Moviepy - Writing video /scratch/back_up/reward_competition_extention/proc/tone_clips/20230616_111904_standard_comp_to_training_D4_subj_1-4_and_1-2.1/20230616_111904_standard_comp_to_training_D4_subj_1-4_and_1-2.1.tone_8.mp4\n",
      "\n"
     ]
    },
    {
     "name": "stderr",
     "output_type": "stream",
     "text": [
      "                                                                     \r"
     ]
    },
    {
     "name": "stdout",
     "output_type": "stream",
     "text": [
      "Moviepy - Done !\n",
      "Moviepy - video ready /scratch/back_up/reward_competition_extention/proc/tone_clips/20230616_111904_standard_comp_to_training_D4_subj_1-4_and_1-2.1/20230616_111904_standard_comp_to_training_D4_subj_1-4_and_1-2.1.tone_8.mp4\n",
      "13989 15389\n",
      "Moviepy - Building video /scratch/back_up/reward_competition_extention/proc/tone_clips/20230616_111904_standard_comp_to_training_D4_subj_1-4_and_1-2.1/20230616_111904_standard_comp_to_training_D4_subj_1-4_and_1-2.1.tone_9.mp4.\n",
      "Moviepy - Writing video /scratch/back_up/reward_competition_extention/proc/tone_clips/20230616_111904_standard_comp_to_training_D4_subj_1-4_and_1-2.1/20230616_111904_standard_comp_to_training_D4_subj_1-4_and_1-2.1.tone_9.mp4\n",
      "\n"
     ]
    },
    {
     "name": "stderr",
     "output_type": "stream",
     "text": [
      "                                                                     \r"
     ]
    },
    {
     "name": "stdout",
     "output_type": "stream",
     "text": [
      "Moviepy - Done !\n",
      "Moviepy - video ready /scratch/back_up/reward_competition_extention/proc/tone_clips/20230616_111904_standard_comp_to_training_D4_subj_1-4_and_1-2.1/20230616_111904_standard_comp_to_training_D4_subj_1-4_and_1-2.1.tone_9.mp4\n",
      "14989 16389\n",
      "Moviepy - Building video /scratch/back_up/reward_competition_extention/proc/tone_clips/20230616_111904_standard_comp_to_training_D4_subj_1-4_and_1-2.1/20230616_111904_standard_comp_to_training_D4_subj_1-4_and_1-2.1.tone_10.mp4.\n",
      "Moviepy - Writing video /scratch/back_up/reward_competition_extention/proc/tone_clips/20230616_111904_standard_comp_to_training_D4_subj_1-4_and_1-2.1/20230616_111904_standard_comp_to_training_D4_subj_1-4_and_1-2.1.tone_10.mp4\n",
      "\n"
     ]
    },
    {
     "name": "stderr",
     "output_type": "stream",
     "text": [
      "                                                                     \r"
     ]
    },
    {
     "name": "stdout",
     "output_type": "stream",
     "text": [
      "Moviepy - Done !\n",
      "Moviepy - video ready /scratch/back_up/reward_competition_extention/proc/tone_clips/20230616_111904_standard_comp_to_training_D4_subj_1-4_and_1-2.1/20230616_111904_standard_comp_to_training_D4_subj_1-4_and_1-2.1.tone_10.mp4\n",
      "16589 17989\n",
      "Moviepy - Building video /scratch/back_up/reward_competition_extention/proc/tone_clips/20230616_111904_standard_comp_to_training_D4_subj_1-4_and_1-2.1/20230616_111904_standard_comp_to_training_D4_subj_1-4_and_1-2.1.tone_11.mp4.\n",
      "Moviepy - Writing video /scratch/back_up/reward_competition_extention/proc/tone_clips/20230616_111904_standard_comp_to_training_D4_subj_1-4_and_1-2.1/20230616_111904_standard_comp_to_training_D4_subj_1-4_and_1-2.1.tone_11.mp4\n",
      "\n"
     ]
    },
    {
     "name": "stderr",
     "output_type": "stream",
     "text": [
      "                                                                     \r"
     ]
    },
    {
     "name": "stdout",
     "output_type": "stream",
     "text": [
      "Moviepy - Done !\n",
      "Moviepy - video ready /scratch/back_up/reward_competition_extention/proc/tone_clips/20230616_111904_standard_comp_to_training_D4_subj_1-4_and_1-2.1/20230616_111904_standard_comp_to_training_D4_subj_1-4_and_1-2.1.tone_11.mp4\n",
      "17889 19289\n",
      "Moviepy - Building video /scratch/back_up/reward_competition_extention/proc/tone_clips/20230616_111904_standard_comp_to_training_D4_subj_1-4_and_1-2.1/20230616_111904_standard_comp_to_training_D4_subj_1-4_and_1-2.1.tone_12.mp4.\n",
      "Moviepy - Writing video /scratch/back_up/reward_competition_extention/proc/tone_clips/20230616_111904_standard_comp_to_training_D4_subj_1-4_and_1-2.1/20230616_111904_standard_comp_to_training_D4_subj_1-4_and_1-2.1.tone_12.mp4\n",
      "\n"
     ]
    },
    {
     "name": "stderr",
     "output_type": "stream",
     "text": [
      "                                                                     \r"
     ]
    },
    {
     "name": "stdout",
     "output_type": "stream",
     "text": [
      "Moviepy - Done !\n",
      "Moviepy - video ready /scratch/back_up/reward_competition_extention/proc/tone_clips/20230616_111904_standard_comp_to_training_D4_subj_1-4_and_1-2.1/20230616_111904_standard_comp_to_training_D4_subj_1-4_and_1-2.1.tone_12.mp4\n",
      "19189 20589\n",
      "Moviepy - Building video /scratch/back_up/reward_competition_extention/proc/tone_clips/20230616_111904_standard_comp_to_training_D4_subj_1-4_and_1-2.1/20230616_111904_standard_comp_to_training_D4_subj_1-4_and_1-2.1.tone_13.mp4.\n",
      "Moviepy - Writing video /scratch/back_up/reward_competition_extention/proc/tone_clips/20230616_111904_standard_comp_to_training_D4_subj_1-4_and_1-2.1/20230616_111904_standard_comp_to_training_D4_subj_1-4_and_1-2.1.tone_13.mp4\n",
      "\n"
     ]
    },
    {
     "name": "stderr",
     "output_type": "stream",
     "text": [
      "                                                                     \r"
     ]
    },
    {
     "name": "stdout",
     "output_type": "stream",
     "text": [
      "Moviepy - Done !\n",
      "Moviepy - video ready /scratch/back_up/reward_competition_extention/proc/tone_clips/20230616_111904_standard_comp_to_training_D4_subj_1-4_and_1-2.1/20230616_111904_standard_comp_to_training_D4_subj_1-4_and_1-2.1.tone_13.mp4\n",
      "20189 21589\n",
      "Moviepy - Building video /scratch/back_up/reward_competition_extention/proc/tone_clips/20230616_111904_standard_comp_to_training_D4_subj_1-4_and_1-2.1/20230616_111904_standard_comp_to_training_D4_subj_1-4_and_1-2.1.tone_14.mp4.\n",
      "Moviepy - Writing video /scratch/back_up/reward_competition_extention/proc/tone_clips/20230616_111904_standard_comp_to_training_D4_subj_1-4_and_1-2.1/20230616_111904_standard_comp_to_training_D4_subj_1-4_and_1-2.1.tone_14.mp4\n",
      "\n"
     ]
    },
    {
     "name": "stderr",
     "output_type": "stream",
     "text": [
      "                                                                     \r"
     ]
    },
    {
     "name": "stdout",
     "output_type": "stream",
     "text": [
      "Moviepy - Done !\n",
      "Moviepy - video ready /scratch/back_up/reward_competition_extention/proc/tone_clips/20230616_111904_standard_comp_to_training_D4_subj_1-4_and_1-2.1/20230616_111904_standard_comp_to_training_D4_subj_1-4_and_1-2.1.tone_14.mp4\n",
      "21589 22989\n",
      "Moviepy - Building video /scratch/back_up/reward_competition_extention/proc/tone_clips/20230616_111904_standard_comp_to_training_D4_subj_1-4_and_1-2.1/20230616_111904_standard_comp_to_training_D4_subj_1-4_and_1-2.1.tone_15.mp4.\n",
      "Moviepy - Writing video /scratch/back_up/reward_competition_extention/proc/tone_clips/20230616_111904_standard_comp_to_training_D4_subj_1-4_and_1-2.1/20230616_111904_standard_comp_to_training_D4_subj_1-4_and_1-2.1.tone_15.mp4\n",
      "\n"
     ]
    },
    {
     "name": "stderr",
     "output_type": "stream",
     "text": [
      "                                                                     \r"
     ]
    },
    {
     "name": "stdout",
     "output_type": "stream",
     "text": [
      "Moviepy - Done !\n",
      "Moviepy - video ready /scratch/back_up/reward_competition_extention/proc/tone_clips/20230616_111904_standard_comp_to_training_D4_subj_1-4_and_1-2.1/20230616_111904_standard_comp_to_training_D4_subj_1-4_and_1-2.1.tone_15.mp4\n",
      "23489 24889\n",
      "Moviepy - Building video /scratch/back_up/reward_competition_extention/proc/tone_clips/20230616_111904_standard_comp_to_training_D4_subj_1-4_and_1-2.1/20230616_111904_standard_comp_to_training_D4_subj_1-4_and_1-2.1.tone_16.mp4.\n",
      "Moviepy - Writing video /scratch/back_up/reward_competition_extention/proc/tone_clips/20230616_111904_standard_comp_to_training_D4_subj_1-4_and_1-2.1/20230616_111904_standard_comp_to_training_D4_subj_1-4_and_1-2.1.tone_16.mp4\n",
      "\n"
     ]
    },
    {
     "name": "stderr",
     "output_type": "stream",
     "text": [
      "                                                                     \r"
     ]
    },
    {
     "name": "stdout",
     "output_type": "stream",
     "text": [
      "Moviepy - Done !\n",
      "Moviepy - video ready /scratch/back_up/reward_competition_extention/proc/tone_clips/20230616_111904_standard_comp_to_training_D4_subj_1-4_and_1-2.1/20230616_111904_standard_comp_to_training_D4_subj_1-4_and_1-2.1.tone_16.mp4\n",
      "25089 26489\n",
      "Moviepy - Building video /scratch/back_up/reward_competition_extention/proc/tone_clips/20230616_111904_standard_comp_to_training_D4_subj_1-4_and_1-2.1/20230616_111904_standard_comp_to_training_D4_subj_1-4_and_1-2.1.tone_17.mp4.\n",
      "Moviepy - Writing video /scratch/back_up/reward_competition_extention/proc/tone_clips/20230616_111904_standard_comp_to_training_D4_subj_1-4_and_1-2.1/20230616_111904_standard_comp_to_training_D4_subj_1-4_and_1-2.1.tone_17.mp4\n",
      "\n"
     ]
    },
    {
     "name": "stderr",
     "output_type": "stream",
     "text": [
      "                                                                     \r"
     ]
    },
    {
     "name": "stdout",
     "output_type": "stream",
     "text": [
      "Moviepy - Done !\n",
      "Moviepy - video ready /scratch/back_up/reward_competition_extention/proc/tone_clips/20230616_111904_standard_comp_to_training_D4_subj_1-4_and_1-2.1/20230616_111904_standard_comp_to_training_D4_subj_1-4_and_1-2.1.tone_17.mp4\n",
      "26489 27889\n",
      "Moviepy - Building video /scratch/back_up/reward_competition_extention/proc/tone_clips/20230616_111904_standard_comp_to_training_D4_subj_1-4_and_1-2.1/20230616_111904_standard_comp_to_training_D4_subj_1-4_and_1-2.1.tone_18.mp4.\n",
      "Moviepy - Writing video /scratch/back_up/reward_competition_extention/proc/tone_clips/20230616_111904_standard_comp_to_training_D4_subj_1-4_and_1-2.1/20230616_111904_standard_comp_to_training_D4_subj_1-4_and_1-2.1.tone_18.mp4\n",
      "\n"
     ]
    },
    {
     "name": "stderr",
     "output_type": "stream",
     "text": [
      "                                                                     \r"
     ]
    },
    {
     "name": "stdout",
     "output_type": "stream",
     "text": [
      "Moviepy - Done !\n",
      "Moviepy - video ready /scratch/back_up/reward_competition_extention/proc/tone_clips/20230616_111904_standard_comp_to_training_D4_subj_1-4_and_1-2.1/20230616_111904_standard_comp_to_training_D4_subj_1-4_and_1-2.1.tone_18.mp4\n",
      "28689 30089\n",
      "Moviepy - Building video /scratch/back_up/reward_competition_extention/proc/tone_clips/20230616_111904_standard_comp_to_training_D4_subj_1-4_and_1-2.1/20230616_111904_standard_comp_to_training_D4_subj_1-4_and_1-2.1.tone_19.mp4.\n",
      "Moviepy - Writing video /scratch/back_up/reward_competition_extention/proc/tone_clips/20230616_111904_standard_comp_to_training_D4_subj_1-4_and_1-2.1/20230616_111904_standard_comp_to_training_D4_subj_1-4_and_1-2.1.tone_19.mp4\n",
      "\n"
     ]
    },
    {
     "name": "stderr",
     "output_type": "stream",
     "text": [
      "                                                                     \r"
     ]
    },
    {
     "name": "stdout",
     "output_type": "stream",
     "text": [
      "Moviepy - Done !\n",
      "Moviepy - video ready /scratch/back_up/reward_competition_extention/proc/tone_clips/20230616_111904_standard_comp_to_training_D4_subj_1-4_and_1-2.1/20230616_111904_standard_comp_to_training_D4_subj_1-4_and_1-2.1.tone_19.mp4\n",
      "29889 31289\n",
      "Moviepy - Building video /scratch/back_up/reward_competition_extention/proc/tone_clips/20230616_111904_standard_comp_to_training_D4_subj_1-4_and_1-2.1/20230616_111904_standard_comp_to_training_D4_subj_1-4_and_1-2.1.tone_20.mp4.\n",
      "Moviepy - Writing video /scratch/back_up/reward_competition_extention/proc/tone_clips/20230616_111904_standard_comp_to_training_D4_subj_1-4_and_1-2.1/20230616_111904_standard_comp_to_training_D4_subj_1-4_and_1-2.1.tone_20.mp4\n",
      "\n"
     ]
    },
    {
     "name": "stderr",
     "output_type": "stream",
     "text": [
      "                                                                     \r"
     ]
    },
    {
     "name": "stdout",
     "output_type": "stream",
     "text": [
      "Moviepy - Done !\n",
      "Moviepy - video ready /scratch/back_up/reward_competition_extention/proc/tone_clips/20230616_111904_standard_comp_to_training_D4_subj_1-4_and_1-2.1/20230616_111904_standard_comp_to_training_D4_subj_1-4_and_1-2.1.tone_20.mp4\n",
      "35889 37289\n",
      "Moviepy - Building video /scratch/back_up/reward_competition_extention/proc/tone_clips/20230616_111904_standard_comp_to_training_D4_subj_1-4_and_1-2.1/20230616_111904_standard_comp_to_training_D4_subj_1-4_and_1-2.1.tone_21.mp4.\n",
      "Moviepy - Writing video /scratch/back_up/reward_competition_extention/proc/tone_clips/20230616_111904_standard_comp_to_training_D4_subj_1-4_and_1-2.1/20230616_111904_standard_comp_to_training_D4_subj_1-4_and_1-2.1.tone_21.mp4\n",
      "\n"
     ]
    },
    {
     "name": "stderr",
     "output_type": "stream",
     "text": [
      "                                                                     \r"
     ]
    },
    {
     "name": "stdout",
     "output_type": "stream",
     "text": [
      "Moviepy - Done !\n",
      "Moviepy - video ready /scratch/back_up/reward_competition_extention/proc/tone_clips/20230616_111904_standard_comp_to_training_D4_subj_1-4_and_1-2.1/20230616_111904_standard_comp_to_training_D4_subj_1-4_and_1-2.1.tone_21.mp4\n",
      "37089 38489\n",
      "Moviepy - Building video /scratch/back_up/reward_competition_extention/proc/tone_clips/20230616_111904_standard_comp_to_training_D4_subj_1-4_and_1-2.1/20230616_111904_standard_comp_to_training_D4_subj_1-4_and_1-2.1.tone_22.mp4.\n",
      "Moviepy - Writing video /scratch/back_up/reward_competition_extention/proc/tone_clips/20230616_111904_standard_comp_to_training_D4_subj_1-4_and_1-2.1/20230616_111904_standard_comp_to_training_D4_subj_1-4_and_1-2.1.tone_22.mp4\n",
      "\n"
     ]
    },
    {
     "name": "stderr",
     "output_type": "stream",
     "text": [
      "                                                                     \r"
     ]
    },
    {
     "name": "stdout",
     "output_type": "stream",
     "text": [
      "Moviepy - Done !\n",
      "Moviepy - video ready /scratch/back_up/reward_competition_extention/proc/tone_clips/20230616_111904_standard_comp_to_training_D4_subj_1-4_and_1-2.1/20230616_111904_standard_comp_to_training_D4_subj_1-4_and_1-2.1.tone_22.mp4\n",
      "38189 39589\n",
      "Moviepy - Building video /scratch/back_up/reward_competition_extention/proc/tone_clips/20230616_111904_standard_comp_to_training_D4_subj_1-4_and_1-2.1/20230616_111904_standard_comp_to_training_D4_subj_1-4_and_1-2.1.tone_23.mp4.\n",
      "Moviepy - Writing video /scratch/back_up/reward_competition_extention/proc/tone_clips/20230616_111904_standard_comp_to_training_D4_subj_1-4_and_1-2.1/20230616_111904_standard_comp_to_training_D4_subj_1-4_and_1-2.1.tone_23.mp4\n",
      "\n"
     ]
    },
    {
     "name": "stderr",
     "output_type": "stream",
     "text": [
      "                                                                     \r"
     ]
    },
    {
     "name": "stdout",
     "output_type": "stream",
     "text": [
      "Moviepy - Done !\n",
      "Moviepy - video ready /scratch/back_up/reward_competition_extention/proc/tone_clips/20230616_111904_standard_comp_to_training_D4_subj_1-4_and_1-2.1/20230616_111904_standard_comp_to_training_D4_subj_1-4_and_1-2.1.tone_23.mp4\n",
      "39489 40889\n",
      "Moviepy - Building video /scratch/back_up/reward_competition_extention/proc/tone_clips/20230616_111904_standard_comp_to_training_D4_subj_1-4_and_1-2.1/20230616_111904_standard_comp_to_training_D4_subj_1-4_and_1-2.1.tone_24.mp4.\n",
      "Moviepy - Writing video /scratch/back_up/reward_competition_extention/proc/tone_clips/20230616_111904_standard_comp_to_training_D4_subj_1-4_and_1-2.1/20230616_111904_standard_comp_to_training_D4_subj_1-4_and_1-2.1.tone_24.mp4\n",
      "\n"
     ]
    },
    {
     "name": "stderr",
     "output_type": "stream",
     "text": [
      "                                                                     \r"
     ]
    },
    {
     "name": "stdout",
     "output_type": "stream",
     "text": [
      "Moviepy - Done !\n",
      "Moviepy - video ready /scratch/back_up/reward_competition_extention/proc/tone_clips/20230616_111904_standard_comp_to_training_D4_subj_1-4_and_1-2.1/20230616_111904_standard_comp_to_training_D4_subj_1-4_and_1-2.1.tone_24.mp4\n",
      "40589 41989\n",
      "Moviepy - Building video /scratch/back_up/reward_competition_extention/proc/tone_clips/20230616_111904_standard_comp_to_training_D4_subj_1-4_and_1-2.1/20230616_111904_standard_comp_to_training_D4_subj_1-4_and_1-2.1.tone_25.mp4.\n",
      "Moviepy - Writing video /scratch/back_up/reward_competition_extention/proc/tone_clips/20230616_111904_standard_comp_to_training_D4_subj_1-4_and_1-2.1/20230616_111904_standard_comp_to_training_D4_subj_1-4_and_1-2.1.tone_25.mp4\n",
      "\n"
     ]
    },
    {
     "name": "stderr",
     "output_type": "stream",
     "text": [
      "                                                                     \r"
     ]
    },
    {
     "name": "stdout",
     "output_type": "stream",
     "text": [
      "Moviepy - Done !\n",
      "Moviepy - video ready /scratch/back_up/reward_competition_extention/proc/tone_clips/20230616_111904_standard_comp_to_training_D4_subj_1-4_and_1-2.1/20230616_111904_standard_comp_to_training_D4_subj_1-4_and_1-2.1.tone_25.mp4\n",
      "41589 42989\n",
      "Moviepy - Building video /scratch/back_up/reward_competition_extention/proc/tone_clips/20230616_111904_standard_comp_to_training_D4_subj_1-4_and_1-2.1/20230616_111904_standard_comp_to_training_D4_subj_1-4_and_1-2.1.tone_26.mp4.\n",
      "Moviepy - Writing video /scratch/back_up/reward_competition_extention/proc/tone_clips/20230616_111904_standard_comp_to_training_D4_subj_1-4_and_1-2.1/20230616_111904_standard_comp_to_training_D4_subj_1-4_and_1-2.1.tone_26.mp4\n",
      "\n"
     ]
    },
    {
     "name": "stderr",
     "output_type": "stream",
     "text": [
      "                                                                     \r"
     ]
    },
    {
     "name": "stdout",
     "output_type": "stream",
     "text": [
      "Moviepy - Done !\n",
      "Moviepy - video ready /scratch/back_up/reward_competition_extention/proc/tone_clips/20230616_111904_standard_comp_to_training_D4_subj_1-4_and_1-2.1/20230616_111904_standard_comp_to_training_D4_subj_1-4_and_1-2.1.tone_26.mp4\n",
      "42589 43989\n",
      "Moviepy - Building video /scratch/back_up/reward_competition_extention/proc/tone_clips/20230616_111904_standard_comp_to_training_D4_subj_1-4_and_1-2.1/20230616_111904_standard_comp_to_training_D4_subj_1-4_and_1-2.1.tone_27.mp4.\n",
      "Moviepy - Writing video /scratch/back_up/reward_competition_extention/proc/tone_clips/20230616_111904_standard_comp_to_training_D4_subj_1-4_and_1-2.1/20230616_111904_standard_comp_to_training_D4_subj_1-4_and_1-2.1.tone_27.mp4\n",
      "\n"
     ]
    },
    {
     "name": "stderr",
     "output_type": "stream",
     "text": [
      "                                                                     \r"
     ]
    },
    {
     "name": "stdout",
     "output_type": "stream",
     "text": [
      "Moviepy - Done !\n",
      "Moviepy - video ready /scratch/back_up/reward_competition_extention/proc/tone_clips/20230616_111904_standard_comp_to_training_D4_subj_1-4_and_1-2.1/20230616_111904_standard_comp_to_training_D4_subj_1-4_and_1-2.1.tone_27.mp4\n",
      "44689 46089\n",
      "Moviepy - Building video /scratch/back_up/reward_competition_extention/proc/tone_clips/20230616_111904_standard_comp_to_training_D4_subj_1-4_and_1-2.1/20230616_111904_standard_comp_to_training_D4_subj_1-4_and_1-2.1.tone_28.mp4.\n",
      "Moviepy - Writing video /scratch/back_up/reward_competition_extention/proc/tone_clips/20230616_111904_standard_comp_to_training_D4_subj_1-4_and_1-2.1/20230616_111904_standard_comp_to_training_D4_subj_1-4_and_1-2.1.tone_28.mp4\n",
      "\n"
     ]
    },
    {
     "name": "stderr",
     "output_type": "stream",
     "text": [
      "                                                                     \r"
     ]
    },
    {
     "name": "stdout",
     "output_type": "stream",
     "text": [
      "Moviepy - Done !\n",
      "Moviepy - video ready /scratch/back_up/reward_competition_extention/proc/tone_clips/20230616_111904_standard_comp_to_training_D4_subj_1-4_and_1-2.1/20230616_111904_standard_comp_to_training_D4_subj_1-4_and_1-2.1.tone_28.mp4\n",
      "47089 48489\n",
      "Moviepy - Building video /scratch/back_up/reward_competition_extention/proc/tone_clips/20230616_111904_standard_comp_to_training_D4_subj_1-4_and_1-2.1/20230616_111904_standard_comp_to_training_D4_subj_1-4_and_1-2.1.tone_29.mp4.\n",
      "Moviepy - Writing video /scratch/back_up/reward_competition_extention/proc/tone_clips/20230616_111904_standard_comp_to_training_D4_subj_1-4_and_1-2.1/20230616_111904_standard_comp_to_training_D4_subj_1-4_and_1-2.1.tone_29.mp4\n",
      "\n"
     ]
    },
    {
     "name": "stderr",
     "output_type": "stream",
     "text": [
      "                                                                     \r"
     ]
    },
    {
     "name": "stdout",
     "output_type": "stream",
     "text": [
      "Moviepy - Done !\n",
      "Moviepy - video ready /scratch/back_up/reward_competition_extention/proc/tone_clips/20230616_111904_standard_comp_to_training_D4_subj_1-4_and_1-2.1/20230616_111904_standard_comp_to_training_D4_subj_1-4_and_1-2.1.tone_29.mp4\n",
      "49489 50889\n",
      "Moviepy - Building video /scratch/back_up/reward_competition_extention/proc/tone_clips/20230616_111904_standard_comp_to_training_D4_subj_1-4_and_1-2.1/20230616_111904_standard_comp_to_training_D4_subj_1-4_and_1-2.1.tone_30.mp4.\n",
      "Moviepy - Writing video /scratch/back_up/reward_competition_extention/proc/tone_clips/20230616_111904_standard_comp_to_training_D4_subj_1-4_and_1-2.1/20230616_111904_standard_comp_to_training_D4_subj_1-4_and_1-2.1.tone_30.mp4\n",
      "\n"
     ]
    },
    {
     "name": "stderr",
     "output_type": "stream",
     "text": [
      "                                                                     \r"
     ]
    },
    {
     "name": "stdout",
     "output_type": "stream",
     "text": [
      "Moviepy - Done !\n",
      "Moviepy - video ready /scratch/back_up/reward_competition_extention/proc/tone_clips/20230616_111904_standard_comp_to_training_D4_subj_1-4_and_1-2.1/20230616_111904_standard_comp_to_training_D4_subj_1-4_and_1-2.1.tone_30.mp4\n",
      "51689 53089\n",
      "Moviepy - Building video /scratch/back_up/reward_competition_extention/proc/tone_clips/20230616_111904_standard_comp_to_training_D4_subj_1-4_and_1-2.1/20230616_111904_standard_comp_to_training_D4_subj_1-4_and_1-2.1.tone_31.mp4.\n",
      "Moviepy - Writing video /scratch/back_up/reward_competition_extention/proc/tone_clips/20230616_111904_standard_comp_to_training_D4_subj_1-4_and_1-2.1/20230616_111904_standard_comp_to_training_D4_subj_1-4_and_1-2.1.tone_31.mp4\n",
      "\n"
     ]
    },
    {
     "name": "stderr",
     "output_type": "stream",
     "text": [
      "                                                                     \r"
     ]
    },
    {
     "name": "stdout",
     "output_type": "stream",
     "text": [
      "Moviepy - Done !\n",
      "Moviepy - video ready /scratch/back_up/reward_competition_extention/proc/tone_clips/20230616_111904_standard_comp_to_training_D4_subj_1-4_and_1-2.1/20230616_111904_standard_comp_to_training_D4_subj_1-4_and_1-2.1.tone_31.mp4\n",
      "53389 54789\n",
      "Moviepy - Building video /scratch/back_up/reward_competition_extention/proc/tone_clips/20230616_111904_standard_comp_to_training_D4_subj_1-4_and_1-2.1/20230616_111904_standard_comp_to_training_D4_subj_1-4_and_1-2.1.tone_32.mp4.\n",
      "Moviepy - Writing video /scratch/back_up/reward_competition_extention/proc/tone_clips/20230616_111904_standard_comp_to_training_D4_subj_1-4_and_1-2.1/20230616_111904_standard_comp_to_training_D4_subj_1-4_and_1-2.1.tone_32.mp4\n",
      "\n"
     ]
    },
    {
     "name": "stderr",
     "output_type": "stream",
     "text": [
      "                                                                     \r"
     ]
    },
    {
     "name": "stdout",
     "output_type": "stream",
     "text": [
      "Moviepy - Done !\n",
      "Moviepy - video ready /scratch/back_up/reward_competition_extention/proc/tone_clips/20230616_111904_standard_comp_to_training_D4_subj_1-4_and_1-2.1/20230616_111904_standard_comp_to_training_D4_subj_1-4_and_1-2.1.tone_32.mp4\n",
      "55789 57189\n",
      "Moviepy - Building video /scratch/back_up/reward_competition_extention/proc/tone_clips/20230616_111904_standard_comp_to_training_D4_subj_1-4_and_1-2.1/20230616_111904_standard_comp_to_training_D4_subj_1-4_and_1-2.1.tone_33.mp4.\n",
      "Moviepy - Writing video /scratch/back_up/reward_competition_extention/proc/tone_clips/20230616_111904_standard_comp_to_training_D4_subj_1-4_and_1-2.1/20230616_111904_standard_comp_to_training_D4_subj_1-4_and_1-2.1.tone_33.mp4\n",
      "\n"
     ]
    },
    {
     "name": "stderr",
     "output_type": "stream",
     "text": [
      "                                                                     \r"
     ]
    },
    {
     "name": "stdout",
     "output_type": "stream",
     "text": [
      "Moviepy - Done !\n",
      "Moviepy - video ready /scratch/back_up/reward_competition_extention/proc/tone_clips/20230616_111904_standard_comp_to_training_D4_subj_1-4_and_1-2.1/20230616_111904_standard_comp_to_training_D4_subj_1-4_and_1-2.1.tone_33.mp4\n",
      "56989 58389\n",
      "Moviepy - Building video /scratch/back_up/reward_competition_extention/proc/tone_clips/20230616_111904_standard_comp_to_training_D4_subj_1-4_and_1-2.1/20230616_111904_standard_comp_to_training_D4_subj_1-4_and_1-2.1.tone_34.mp4.\n",
      "Moviepy - Writing video /scratch/back_up/reward_competition_extention/proc/tone_clips/20230616_111904_standard_comp_to_training_D4_subj_1-4_and_1-2.1/20230616_111904_standard_comp_to_training_D4_subj_1-4_and_1-2.1.tone_34.mp4\n",
      "\n"
     ]
    },
    {
     "name": "stderr",
     "output_type": "stream",
     "text": [
      "                                                                     \r"
     ]
    },
    {
     "name": "stdout",
     "output_type": "stream",
     "text": [
      "Moviepy - Done !\n",
      "Moviepy - video ready /scratch/back_up/reward_competition_extention/proc/tone_clips/20230616_111904_standard_comp_to_training_D4_subj_1-4_and_1-2.1/20230616_111904_standard_comp_to_training_D4_subj_1-4_and_1-2.1.tone_34.mp4\n",
      "58289 59689\n",
      "Moviepy - Building video /scratch/back_up/reward_competition_extention/proc/tone_clips/20230616_111904_standard_comp_to_training_D4_subj_1-4_and_1-2.1/20230616_111904_standard_comp_to_training_D4_subj_1-4_and_1-2.1.tone_35.mp4.\n",
      "Moviepy - Writing video /scratch/back_up/reward_competition_extention/proc/tone_clips/20230616_111904_standard_comp_to_training_D4_subj_1-4_and_1-2.1/20230616_111904_standard_comp_to_training_D4_subj_1-4_and_1-2.1.tone_35.mp4\n",
      "\n"
     ]
    },
    {
     "name": "stderr",
     "output_type": "stream",
     "text": [
      "                                                                     \r"
     ]
    },
    {
     "name": "stdout",
     "output_type": "stream",
     "text": [
      "Moviepy - Done !\n",
      "Moviepy - video ready /scratch/back_up/reward_competition_extention/proc/tone_clips/20230616_111904_standard_comp_to_training_D4_subj_1-4_and_1-2.1/20230616_111904_standard_comp_to_training_D4_subj_1-4_and_1-2.1.tone_35.mp4\n",
      "59489 60889\n",
      "Moviepy - Building video /scratch/back_up/reward_competition_extention/proc/tone_clips/20230616_111904_standard_comp_to_training_D4_subj_1-4_and_1-2.1/20230616_111904_standard_comp_to_training_D4_subj_1-4_and_1-2.1.tone_36.mp4.\n",
      "Moviepy - Writing video /scratch/back_up/reward_competition_extention/proc/tone_clips/20230616_111904_standard_comp_to_training_D4_subj_1-4_and_1-2.1/20230616_111904_standard_comp_to_training_D4_subj_1-4_and_1-2.1.tone_36.mp4\n",
      "\n"
     ]
    },
    {
     "name": "stderr",
     "output_type": "stream",
     "text": [
      "                                                                     \r"
     ]
    },
    {
     "name": "stdout",
     "output_type": "stream",
     "text": [
      "Moviepy - Done !\n",
      "Moviepy - video ready /scratch/back_up/reward_competition_extention/proc/tone_clips/20230616_111904_standard_comp_to_training_D4_subj_1-4_and_1-2.1/20230616_111904_standard_comp_to_training_D4_subj_1-4_and_1-2.1.tone_36.mp4\n",
      "60989 62389\n",
      "Moviepy - Building video /scratch/back_up/reward_competition_extention/proc/tone_clips/20230616_111904_standard_comp_to_training_D4_subj_1-4_and_1-2.1/20230616_111904_standard_comp_to_training_D4_subj_1-4_and_1-2.1.tone_37.mp4.\n",
      "Moviepy - Writing video /scratch/back_up/reward_competition_extention/proc/tone_clips/20230616_111904_standard_comp_to_training_D4_subj_1-4_and_1-2.1/20230616_111904_standard_comp_to_training_D4_subj_1-4_and_1-2.1.tone_37.mp4\n",
      "\n"
     ]
    },
    {
     "name": "stderr",
     "output_type": "stream",
     "text": [
      "                                                                     \r"
     ]
    },
    {
     "name": "stdout",
     "output_type": "stream",
     "text": [
      "Moviepy - Done !\n",
      "Moviepy - video ready /scratch/back_up/reward_competition_extention/proc/tone_clips/20230616_111904_standard_comp_to_training_D4_subj_1-4_and_1-2.1/20230616_111904_standard_comp_to_training_D4_subj_1-4_and_1-2.1.tone_37.mp4\n",
      "62989 64389\n",
      "Moviepy - Building video /scratch/back_up/reward_competition_extention/proc/tone_clips/20230616_111904_standard_comp_to_training_D4_subj_1-4_and_1-2.1/20230616_111904_standard_comp_to_training_D4_subj_1-4_and_1-2.1.tone_38.mp4.\n",
      "Moviepy - Writing video /scratch/back_up/reward_competition_extention/proc/tone_clips/20230616_111904_standard_comp_to_training_D4_subj_1-4_and_1-2.1/20230616_111904_standard_comp_to_training_D4_subj_1-4_and_1-2.1.tone_38.mp4\n",
      "\n"
     ]
    },
    {
     "name": "stderr",
     "output_type": "stream",
     "text": [
      "                                                                     \r"
     ]
    },
    {
     "name": "stdout",
     "output_type": "stream",
     "text": [
      "Moviepy - Done !\n",
      "Moviepy - video ready /scratch/back_up/reward_competition_extention/proc/tone_clips/20230616_111904_standard_comp_to_training_D4_subj_1-4_and_1-2.1/20230616_111904_standard_comp_to_training_D4_subj_1-4_and_1-2.1.tone_38.mp4\n",
      "64889 66289\n",
      "Moviepy - Building video /scratch/back_up/reward_competition_extention/proc/tone_clips/20230616_111904_standard_comp_to_training_D4_subj_1-4_and_1-2.1/20230616_111904_standard_comp_to_training_D4_subj_1-4_and_1-2.1.tone_39.mp4.\n",
      "Moviepy - Writing video /scratch/back_up/reward_competition_extention/proc/tone_clips/20230616_111904_standard_comp_to_training_D4_subj_1-4_and_1-2.1/20230616_111904_standard_comp_to_training_D4_subj_1-4_and_1-2.1.tone_39.mp4\n",
      "\n"
     ]
    },
    {
     "name": "stderr",
     "output_type": "stream",
     "text": [
      "                                                                     \r"
     ]
    },
    {
     "name": "stdout",
     "output_type": "stream",
     "text": [
      "Moviepy - Done !\n",
      "Moviepy - video ready /scratch/back_up/reward_competition_extention/proc/tone_clips/20230616_111904_standard_comp_to_training_D4_subj_1-4_and_1-2.1/20230616_111904_standard_comp_to_training_D4_subj_1-4_and_1-2.1.tone_39.mp4\n",
      "65889 67289\n",
      "Moviepy - Building video /scratch/back_up/reward_competition_extention/proc/tone_clips/20230616_111904_standard_comp_to_training_D4_subj_1-4_and_1-2.1/20230616_111904_standard_comp_to_training_D4_subj_1-4_and_1-2.1.tone_40.mp4.\n",
      "Moviepy - Writing video /scratch/back_up/reward_competition_extention/proc/tone_clips/20230616_111904_standard_comp_to_training_D4_subj_1-4_and_1-2.1/20230616_111904_standard_comp_to_training_D4_subj_1-4_and_1-2.1.tone_40.mp4\n",
      "\n"
     ]
    },
    {
     "name": "stderr",
     "output_type": "stream",
     "text": [
      "                                                                     \r"
     ]
    },
    {
     "name": "stdout",
     "output_type": "stream",
     "text": [
      "Moviepy - Done !\n",
      "Moviepy - video ready /scratch/back_up/reward_competition_extention/proc/tone_clips/20230616_111904_standard_comp_to_training_D4_subj_1-4_and_1-2.1/20230616_111904_standard_comp_to_training_D4_subj_1-4_and_1-2.1.tone_40.mp4\n",
      "336 1736\n",
      "Moviepy - Building video /scratch/back_up/reward_competition_extention/proc/tone_clips/20230616_111904_standard_comp_to_training_D4_subj_2-1_and_2-2.1/20230616_111904_standard_comp_to_training_D4_subj_2-1_and_2-2.1.tone_1.mp4.\n",
      "Moviepy - Writing video /scratch/back_up/reward_competition_extention/proc/tone_clips/20230616_111904_standard_comp_to_training_D4_subj_2-1_and_2-2.1/20230616_111904_standard_comp_to_training_D4_subj_2-1_and_2-2.1.tone_1.mp4\n",
      "\n"
     ]
    },
    {
     "name": "stderr",
     "output_type": "stream",
     "text": [
      "                                                                     \r"
     ]
    },
    {
     "name": "stdout",
     "output_type": "stream",
     "text": [
      "Moviepy - Done !\n",
      "Moviepy - video ready /scratch/back_up/reward_competition_extention/proc/tone_clips/20230616_111904_standard_comp_to_training_D4_subj_2-1_and_2-2.1/20230616_111904_standard_comp_to_training_D4_subj_2-1_and_2-2.1.tone_1.mp4\n",
      "2736 4136\n",
      "Moviepy - Building video /scratch/back_up/reward_competition_extention/proc/tone_clips/20230616_111904_standard_comp_to_training_D4_subj_2-1_and_2-2.1/20230616_111904_standard_comp_to_training_D4_subj_2-1_and_2-2.1.tone_2.mp4.\n",
      "Moviepy - Writing video /scratch/back_up/reward_competition_extention/proc/tone_clips/20230616_111904_standard_comp_to_training_D4_subj_2-1_and_2-2.1/20230616_111904_standard_comp_to_training_D4_subj_2-1_and_2-2.1.tone_2.mp4\n",
      "\n"
     ]
    },
    {
     "name": "stderr",
     "output_type": "stream",
     "text": [
      "                                                                     \r"
     ]
    },
    {
     "name": "stdout",
     "output_type": "stream",
     "text": [
      "Moviepy - Done !\n",
      "Moviepy - video ready /scratch/back_up/reward_competition_extention/proc/tone_clips/20230616_111904_standard_comp_to_training_D4_subj_2-1_and_2-2.1/20230616_111904_standard_comp_to_training_D4_subj_2-1_and_2-2.1.tone_2.mp4\n",
      "5036 6436\n",
      "Moviepy - Building video /scratch/back_up/reward_competition_extention/proc/tone_clips/20230616_111904_standard_comp_to_training_D4_subj_2-1_and_2-2.1/20230616_111904_standard_comp_to_training_D4_subj_2-1_and_2-2.1.tone_3.mp4.\n",
      "Moviepy - Writing video /scratch/back_up/reward_competition_extention/proc/tone_clips/20230616_111904_standard_comp_to_training_D4_subj_2-1_and_2-2.1/20230616_111904_standard_comp_to_training_D4_subj_2-1_and_2-2.1.tone_3.mp4\n",
      "\n"
     ]
    },
    {
     "name": "stderr",
     "output_type": "stream",
     "text": [
      "                                                                     \r"
     ]
    },
    {
     "name": "stdout",
     "output_type": "stream",
     "text": [
      "Moviepy - Done !\n",
      "Moviepy - video ready /scratch/back_up/reward_competition_extention/proc/tone_clips/20230616_111904_standard_comp_to_training_D4_subj_2-1_and_2-2.1/20230616_111904_standard_comp_to_training_D4_subj_2-1_and_2-2.1.tone_3.mp4\n",
      "6836 8236\n",
      "Moviepy - Building video /scratch/back_up/reward_competition_extention/proc/tone_clips/20230616_111904_standard_comp_to_training_D4_subj_2-1_and_2-2.1/20230616_111904_standard_comp_to_training_D4_subj_2-1_and_2-2.1.tone_4.mp4.\n",
      "Moviepy - Writing video /scratch/back_up/reward_competition_extention/proc/tone_clips/20230616_111904_standard_comp_to_training_D4_subj_2-1_and_2-2.1/20230616_111904_standard_comp_to_training_D4_subj_2-1_and_2-2.1.tone_4.mp4\n",
      "\n"
     ]
    },
    {
     "name": "stderr",
     "output_type": "stream",
     "text": [
      "                                                                     \r"
     ]
    },
    {
     "name": "stdout",
     "output_type": "stream",
     "text": [
      "Moviepy - Done !\n",
      "Moviepy - video ready /scratch/back_up/reward_competition_extention/proc/tone_clips/20230616_111904_standard_comp_to_training_D4_subj_2-1_and_2-2.1/20230616_111904_standard_comp_to_training_D4_subj_2-1_and_2-2.1.tone_4.mp4\n",
      "7936 9336\n",
      "Moviepy - Building video /scratch/back_up/reward_competition_extention/proc/tone_clips/20230616_111904_standard_comp_to_training_D4_subj_2-1_and_2-2.1/20230616_111904_standard_comp_to_training_D4_subj_2-1_and_2-2.1.tone_5.mp4.\n",
      "Moviepy - Writing video /scratch/back_up/reward_competition_extention/proc/tone_clips/20230616_111904_standard_comp_to_training_D4_subj_2-1_and_2-2.1/20230616_111904_standard_comp_to_training_D4_subj_2-1_and_2-2.1.tone_5.mp4\n",
      "\n"
     ]
    },
    {
     "name": "stderr",
     "output_type": "stream",
     "text": [
      "                                                                     \r"
     ]
    },
    {
     "name": "stdout",
     "output_type": "stream",
     "text": [
      "Moviepy - Done !\n",
      "Moviepy - video ready /scratch/back_up/reward_competition_extention/proc/tone_clips/20230616_111904_standard_comp_to_training_D4_subj_2-1_and_2-2.1/20230616_111904_standard_comp_to_training_D4_subj_2-1_and_2-2.1.tone_5.mp4\n",
      "8936 10336\n",
      "Moviepy - Building video /scratch/back_up/reward_competition_extention/proc/tone_clips/20230616_111904_standard_comp_to_training_D4_subj_2-1_and_2-2.1/20230616_111904_standard_comp_to_training_D4_subj_2-1_and_2-2.1.tone_6.mp4.\n",
      "Moviepy - Writing video /scratch/back_up/reward_competition_extention/proc/tone_clips/20230616_111904_standard_comp_to_training_D4_subj_2-1_and_2-2.1/20230616_111904_standard_comp_to_training_D4_subj_2-1_and_2-2.1.tone_6.mp4\n",
      "\n"
     ]
    },
    {
     "name": "stderr",
     "output_type": "stream",
     "text": [
      "                                                                     \r"
     ]
    },
    {
     "name": "stdout",
     "output_type": "stream",
     "text": [
      "Moviepy - Done !\n",
      "Moviepy - video ready /scratch/back_up/reward_competition_extention/proc/tone_clips/20230616_111904_standard_comp_to_training_D4_subj_2-1_and_2-2.1/20230616_111904_standard_comp_to_training_D4_subj_2-1_and_2-2.1.tone_6.mp4\n",
      "10836 12236\n",
      "Moviepy - Building video /scratch/back_up/reward_competition_extention/proc/tone_clips/20230616_111904_standard_comp_to_training_D4_subj_2-1_and_2-2.1/20230616_111904_standard_comp_to_training_D4_subj_2-1_and_2-2.1.tone_7.mp4.\n",
      "Moviepy - Writing video /scratch/back_up/reward_competition_extention/proc/tone_clips/20230616_111904_standard_comp_to_training_D4_subj_2-1_and_2-2.1/20230616_111904_standard_comp_to_training_D4_subj_2-1_and_2-2.1.tone_7.mp4\n",
      "\n"
     ]
    },
    {
     "name": "stderr",
     "output_type": "stream",
     "text": [
      "                                                                     \r"
     ]
    },
    {
     "name": "stdout",
     "output_type": "stream",
     "text": [
      "Moviepy - Done !\n",
      "Moviepy - video ready /scratch/back_up/reward_competition_extention/proc/tone_clips/20230616_111904_standard_comp_to_training_D4_subj_2-1_and_2-2.1/20230616_111904_standard_comp_to_training_D4_subj_2-1_and_2-2.1.tone_7.mp4\n",
      "12336 13736\n",
      "Moviepy - Building video /scratch/back_up/reward_competition_extention/proc/tone_clips/20230616_111904_standard_comp_to_training_D4_subj_2-1_and_2-2.1/20230616_111904_standard_comp_to_training_D4_subj_2-1_and_2-2.1.tone_8.mp4.\n",
      "Moviepy - Writing video /scratch/back_up/reward_competition_extention/proc/tone_clips/20230616_111904_standard_comp_to_training_D4_subj_2-1_and_2-2.1/20230616_111904_standard_comp_to_training_D4_subj_2-1_and_2-2.1.tone_8.mp4\n",
      "\n"
     ]
    },
    {
     "name": "stderr",
     "output_type": "stream",
     "text": [
      "                                                                     \r"
     ]
    },
    {
     "name": "stdout",
     "output_type": "stream",
     "text": [
      "Moviepy - Done !\n",
      "Moviepy - video ready /scratch/back_up/reward_competition_extention/proc/tone_clips/20230616_111904_standard_comp_to_training_D4_subj_2-1_and_2-2.1/20230616_111904_standard_comp_to_training_D4_subj_2-1_and_2-2.1.tone_8.mp4\n",
      "14436 15836\n",
      "Moviepy - Building video /scratch/back_up/reward_competition_extention/proc/tone_clips/20230616_111904_standard_comp_to_training_D4_subj_2-1_and_2-2.1/20230616_111904_standard_comp_to_training_D4_subj_2-1_and_2-2.1.tone_9.mp4.\n",
      "Moviepy - Writing video /scratch/back_up/reward_competition_extention/proc/tone_clips/20230616_111904_standard_comp_to_training_D4_subj_2-1_and_2-2.1/20230616_111904_standard_comp_to_training_D4_subj_2-1_and_2-2.1.tone_9.mp4\n",
      "\n"
     ]
    },
    {
     "name": "stderr",
     "output_type": "stream",
     "text": [
      "                                                                     \r"
     ]
    },
    {
     "name": "stdout",
     "output_type": "stream",
     "text": [
      "Moviepy - Done !\n",
      "Moviepy - video ready /scratch/back_up/reward_competition_extention/proc/tone_clips/20230616_111904_standard_comp_to_training_D4_subj_2-1_and_2-2.1/20230616_111904_standard_comp_to_training_D4_subj_2-1_and_2-2.1.tone_9.mp4\n",
      "15436 16836\n",
      "Moviepy - Building video /scratch/back_up/reward_competition_extention/proc/tone_clips/20230616_111904_standard_comp_to_training_D4_subj_2-1_and_2-2.1/20230616_111904_standard_comp_to_training_D4_subj_2-1_and_2-2.1.tone_10.mp4.\n",
      "Moviepy - Writing video /scratch/back_up/reward_competition_extention/proc/tone_clips/20230616_111904_standard_comp_to_training_D4_subj_2-1_and_2-2.1/20230616_111904_standard_comp_to_training_D4_subj_2-1_and_2-2.1.tone_10.mp4\n",
      "\n"
     ]
    },
    {
     "name": "stderr",
     "output_type": "stream",
     "text": [
      "                                                                     \r"
     ]
    },
    {
     "name": "stdout",
     "output_type": "stream",
     "text": [
      "Moviepy - Done !\n",
      "Moviepy - video ready /scratch/back_up/reward_competition_extention/proc/tone_clips/20230616_111904_standard_comp_to_training_D4_subj_2-1_and_2-2.1/20230616_111904_standard_comp_to_training_D4_subj_2-1_and_2-2.1.tone_10.mp4\n",
      "17036 18436\n",
      "Moviepy - Building video /scratch/back_up/reward_competition_extention/proc/tone_clips/20230616_111904_standard_comp_to_training_D4_subj_2-1_and_2-2.1/20230616_111904_standard_comp_to_training_D4_subj_2-1_and_2-2.1.tone_11.mp4.\n",
      "Moviepy - Writing video /scratch/back_up/reward_competition_extention/proc/tone_clips/20230616_111904_standard_comp_to_training_D4_subj_2-1_and_2-2.1/20230616_111904_standard_comp_to_training_D4_subj_2-1_and_2-2.1.tone_11.mp4\n",
      "\n"
     ]
    },
    {
     "name": "stderr",
     "output_type": "stream",
     "text": [
      "                                                                     \r"
     ]
    },
    {
     "name": "stdout",
     "output_type": "stream",
     "text": [
      "Moviepy - Done !\n",
      "Moviepy - video ready /scratch/back_up/reward_competition_extention/proc/tone_clips/20230616_111904_standard_comp_to_training_D4_subj_2-1_and_2-2.1/20230616_111904_standard_comp_to_training_D4_subj_2-1_and_2-2.1.tone_11.mp4\n",
      "18336 19736\n",
      "Moviepy - Building video /scratch/back_up/reward_competition_extention/proc/tone_clips/20230616_111904_standard_comp_to_training_D4_subj_2-1_and_2-2.1/20230616_111904_standard_comp_to_training_D4_subj_2-1_and_2-2.1.tone_12.mp4.\n",
      "Moviepy - Writing video /scratch/back_up/reward_competition_extention/proc/tone_clips/20230616_111904_standard_comp_to_training_D4_subj_2-1_and_2-2.1/20230616_111904_standard_comp_to_training_D4_subj_2-1_and_2-2.1.tone_12.mp4\n",
      "\n"
     ]
    },
    {
     "name": "stderr",
     "output_type": "stream",
     "text": [
      "                                                                     \r"
     ]
    },
    {
     "name": "stdout",
     "output_type": "stream",
     "text": [
      "Moviepy - Done !\n",
      "Moviepy - video ready /scratch/back_up/reward_competition_extention/proc/tone_clips/20230616_111904_standard_comp_to_training_D4_subj_2-1_and_2-2.1/20230616_111904_standard_comp_to_training_D4_subj_2-1_and_2-2.1.tone_12.mp4\n",
      "19636 21036\n",
      "Moviepy - Building video /scratch/back_up/reward_competition_extention/proc/tone_clips/20230616_111904_standard_comp_to_training_D4_subj_2-1_and_2-2.1/20230616_111904_standard_comp_to_training_D4_subj_2-1_and_2-2.1.tone_13.mp4.\n",
      "Moviepy - Writing video /scratch/back_up/reward_competition_extention/proc/tone_clips/20230616_111904_standard_comp_to_training_D4_subj_2-1_and_2-2.1/20230616_111904_standard_comp_to_training_D4_subj_2-1_and_2-2.1.tone_13.mp4\n",
      "\n"
     ]
    },
    {
     "name": "stderr",
     "output_type": "stream",
     "text": [
      "                                                                     \r"
     ]
    },
    {
     "name": "stdout",
     "output_type": "stream",
     "text": [
      "Moviepy - Done !\n",
      "Moviepy - video ready /scratch/back_up/reward_competition_extention/proc/tone_clips/20230616_111904_standard_comp_to_training_D4_subj_2-1_and_2-2.1/20230616_111904_standard_comp_to_training_D4_subj_2-1_and_2-2.1.tone_13.mp4\n",
      "20636 22036\n",
      "Moviepy - Building video /scratch/back_up/reward_competition_extention/proc/tone_clips/20230616_111904_standard_comp_to_training_D4_subj_2-1_and_2-2.1/20230616_111904_standard_comp_to_training_D4_subj_2-1_and_2-2.1.tone_14.mp4.\n",
      "Moviepy - Writing video /scratch/back_up/reward_competition_extention/proc/tone_clips/20230616_111904_standard_comp_to_training_D4_subj_2-1_and_2-2.1/20230616_111904_standard_comp_to_training_D4_subj_2-1_and_2-2.1.tone_14.mp4\n",
      "\n"
     ]
    },
    {
     "name": "stderr",
     "output_type": "stream",
     "text": [
      "                                                                     \r"
     ]
    },
    {
     "name": "stdout",
     "output_type": "stream",
     "text": [
      "Moviepy - Done !\n",
      "Moviepy - video ready /scratch/back_up/reward_competition_extention/proc/tone_clips/20230616_111904_standard_comp_to_training_D4_subj_2-1_and_2-2.1/20230616_111904_standard_comp_to_training_D4_subj_2-1_and_2-2.1.tone_14.mp4\n",
      "22036 23436\n",
      "Moviepy - Building video /scratch/back_up/reward_competition_extention/proc/tone_clips/20230616_111904_standard_comp_to_training_D4_subj_2-1_and_2-2.1/20230616_111904_standard_comp_to_training_D4_subj_2-1_and_2-2.1.tone_15.mp4.\n",
      "Moviepy - Writing video /scratch/back_up/reward_competition_extention/proc/tone_clips/20230616_111904_standard_comp_to_training_D4_subj_2-1_and_2-2.1/20230616_111904_standard_comp_to_training_D4_subj_2-1_and_2-2.1.tone_15.mp4\n",
      "\n"
     ]
    },
    {
     "name": "stderr",
     "output_type": "stream",
     "text": [
      "                                                                     \r"
     ]
    },
    {
     "name": "stdout",
     "output_type": "stream",
     "text": [
      "Moviepy - Done !\n",
      "Moviepy - video ready /scratch/back_up/reward_competition_extention/proc/tone_clips/20230616_111904_standard_comp_to_training_D4_subj_2-1_and_2-2.1/20230616_111904_standard_comp_to_training_D4_subj_2-1_and_2-2.1.tone_15.mp4\n",
      "23936 25336\n",
      "Moviepy - Building video /scratch/back_up/reward_competition_extention/proc/tone_clips/20230616_111904_standard_comp_to_training_D4_subj_2-1_and_2-2.1/20230616_111904_standard_comp_to_training_D4_subj_2-1_and_2-2.1.tone_16.mp4.\n",
      "Moviepy - Writing video /scratch/back_up/reward_competition_extention/proc/tone_clips/20230616_111904_standard_comp_to_training_D4_subj_2-1_and_2-2.1/20230616_111904_standard_comp_to_training_D4_subj_2-1_and_2-2.1.tone_16.mp4\n",
      "\n"
     ]
    },
    {
     "name": "stderr",
     "output_type": "stream",
     "text": [
      "                                                                     \r"
     ]
    },
    {
     "name": "stdout",
     "output_type": "stream",
     "text": [
      "Moviepy - Done !\n",
      "Moviepy - video ready /scratch/back_up/reward_competition_extention/proc/tone_clips/20230616_111904_standard_comp_to_training_D4_subj_2-1_and_2-2.1/20230616_111904_standard_comp_to_training_D4_subj_2-1_and_2-2.1.tone_16.mp4\n",
      "25536 26936\n",
      "Moviepy - Building video /scratch/back_up/reward_competition_extention/proc/tone_clips/20230616_111904_standard_comp_to_training_D4_subj_2-1_and_2-2.1/20230616_111904_standard_comp_to_training_D4_subj_2-1_and_2-2.1.tone_17.mp4.\n",
      "Moviepy - Writing video /scratch/back_up/reward_competition_extention/proc/tone_clips/20230616_111904_standard_comp_to_training_D4_subj_2-1_and_2-2.1/20230616_111904_standard_comp_to_training_D4_subj_2-1_and_2-2.1.tone_17.mp4\n",
      "\n"
     ]
    },
    {
     "name": "stderr",
     "output_type": "stream",
     "text": [
      "                                                                     \r"
     ]
    },
    {
     "name": "stdout",
     "output_type": "stream",
     "text": [
      "Moviepy - Done !\n",
      "Moviepy - video ready /scratch/back_up/reward_competition_extention/proc/tone_clips/20230616_111904_standard_comp_to_training_D4_subj_2-1_and_2-2.1/20230616_111904_standard_comp_to_training_D4_subj_2-1_and_2-2.1.tone_17.mp4\n",
      "26936 28336\n",
      "Moviepy - Building video /scratch/back_up/reward_competition_extention/proc/tone_clips/20230616_111904_standard_comp_to_training_D4_subj_2-1_and_2-2.1/20230616_111904_standard_comp_to_training_D4_subj_2-1_and_2-2.1.tone_18.mp4.\n",
      "Moviepy - Writing video /scratch/back_up/reward_competition_extention/proc/tone_clips/20230616_111904_standard_comp_to_training_D4_subj_2-1_and_2-2.1/20230616_111904_standard_comp_to_training_D4_subj_2-1_and_2-2.1.tone_18.mp4\n",
      "\n"
     ]
    },
    {
     "name": "stderr",
     "output_type": "stream",
     "text": [
      "                                                                     \r"
     ]
    },
    {
     "name": "stdout",
     "output_type": "stream",
     "text": [
      "Moviepy - Done !\n",
      "Moviepy - video ready /scratch/back_up/reward_competition_extention/proc/tone_clips/20230616_111904_standard_comp_to_training_D4_subj_2-1_and_2-2.1/20230616_111904_standard_comp_to_training_D4_subj_2-1_and_2-2.1.tone_18.mp4\n",
      "29136 30536\n",
      "Moviepy - Building video /scratch/back_up/reward_competition_extention/proc/tone_clips/20230616_111904_standard_comp_to_training_D4_subj_2-1_and_2-2.1/20230616_111904_standard_comp_to_training_D4_subj_2-1_and_2-2.1.tone_19.mp4.\n",
      "Moviepy - Writing video /scratch/back_up/reward_competition_extention/proc/tone_clips/20230616_111904_standard_comp_to_training_D4_subj_2-1_and_2-2.1/20230616_111904_standard_comp_to_training_D4_subj_2-1_and_2-2.1.tone_19.mp4\n",
      "\n"
     ]
    },
    {
     "name": "stderr",
     "output_type": "stream",
     "text": [
      "                                                                     \r"
     ]
    },
    {
     "name": "stdout",
     "output_type": "stream",
     "text": [
      "Moviepy - Done !\n",
      "Moviepy - video ready /scratch/back_up/reward_competition_extention/proc/tone_clips/20230616_111904_standard_comp_to_training_D4_subj_2-1_and_2-2.1/20230616_111904_standard_comp_to_training_D4_subj_2-1_and_2-2.1.tone_19.mp4\n",
      "30336 31736\n",
      "Moviepy - Building video /scratch/back_up/reward_competition_extention/proc/tone_clips/20230616_111904_standard_comp_to_training_D4_subj_2-1_and_2-2.1/20230616_111904_standard_comp_to_training_D4_subj_2-1_and_2-2.1.tone_20.mp4.\n",
      "Moviepy - Writing video /scratch/back_up/reward_competition_extention/proc/tone_clips/20230616_111904_standard_comp_to_training_D4_subj_2-1_and_2-2.1/20230616_111904_standard_comp_to_training_D4_subj_2-1_and_2-2.1.tone_20.mp4\n",
      "\n"
     ]
    },
    {
     "name": "stderr",
     "output_type": "stream",
     "text": [
      "                                                                     \r"
     ]
    },
    {
     "name": "stdout",
     "output_type": "stream",
     "text": [
      "Moviepy - Done !\n",
      "Moviepy - video ready /scratch/back_up/reward_competition_extention/proc/tone_clips/20230616_111904_standard_comp_to_training_D4_subj_2-1_and_2-2.1/20230616_111904_standard_comp_to_training_D4_subj_2-1_and_2-2.1.tone_20.mp4\n",
      "36336 37736\n",
      "Moviepy - Building video /scratch/back_up/reward_competition_extention/proc/tone_clips/20230616_111904_standard_comp_to_training_D4_subj_2-1_and_2-2.1/20230616_111904_standard_comp_to_training_D4_subj_2-1_and_2-2.1.tone_21.mp4.\n",
      "Moviepy - Writing video /scratch/back_up/reward_competition_extention/proc/tone_clips/20230616_111904_standard_comp_to_training_D4_subj_2-1_and_2-2.1/20230616_111904_standard_comp_to_training_D4_subj_2-1_and_2-2.1.tone_21.mp4\n",
      "\n"
     ]
    },
    {
     "name": "stderr",
     "output_type": "stream",
     "text": [
      "                                                                     \r"
     ]
    },
    {
     "name": "stdout",
     "output_type": "stream",
     "text": [
      "Moviepy - Done !\n",
      "Moviepy - video ready /scratch/back_up/reward_competition_extention/proc/tone_clips/20230616_111904_standard_comp_to_training_D4_subj_2-1_and_2-2.1/20230616_111904_standard_comp_to_training_D4_subj_2-1_and_2-2.1.tone_21.mp4\n",
      "37536 38936\n",
      "Moviepy - Building video /scratch/back_up/reward_competition_extention/proc/tone_clips/20230616_111904_standard_comp_to_training_D4_subj_2-1_and_2-2.1/20230616_111904_standard_comp_to_training_D4_subj_2-1_and_2-2.1.tone_22.mp4.\n",
      "Moviepy - Writing video /scratch/back_up/reward_competition_extention/proc/tone_clips/20230616_111904_standard_comp_to_training_D4_subj_2-1_and_2-2.1/20230616_111904_standard_comp_to_training_D4_subj_2-1_and_2-2.1.tone_22.mp4\n",
      "\n"
     ]
    },
    {
     "name": "stderr",
     "output_type": "stream",
     "text": [
      "                                                                     \r"
     ]
    },
    {
     "name": "stdout",
     "output_type": "stream",
     "text": [
      "Moviepy - Done !\n",
      "Moviepy - video ready /scratch/back_up/reward_competition_extention/proc/tone_clips/20230616_111904_standard_comp_to_training_D4_subj_2-1_and_2-2.1/20230616_111904_standard_comp_to_training_D4_subj_2-1_and_2-2.1.tone_22.mp4\n",
      "38636 40036\n",
      "Moviepy - Building video /scratch/back_up/reward_competition_extention/proc/tone_clips/20230616_111904_standard_comp_to_training_D4_subj_2-1_and_2-2.1/20230616_111904_standard_comp_to_training_D4_subj_2-1_and_2-2.1.tone_23.mp4.\n",
      "Moviepy - Writing video /scratch/back_up/reward_competition_extention/proc/tone_clips/20230616_111904_standard_comp_to_training_D4_subj_2-1_and_2-2.1/20230616_111904_standard_comp_to_training_D4_subj_2-1_and_2-2.1.tone_23.mp4\n",
      "\n"
     ]
    },
    {
     "name": "stderr",
     "output_type": "stream",
     "text": [
      "                                                                     \r"
     ]
    },
    {
     "name": "stdout",
     "output_type": "stream",
     "text": [
      "Moviepy - Done !\n",
      "Moviepy - video ready /scratch/back_up/reward_competition_extention/proc/tone_clips/20230616_111904_standard_comp_to_training_D4_subj_2-1_and_2-2.1/20230616_111904_standard_comp_to_training_D4_subj_2-1_and_2-2.1.tone_23.mp4\n",
      "39936 41336\n",
      "Moviepy - Building video /scratch/back_up/reward_competition_extention/proc/tone_clips/20230616_111904_standard_comp_to_training_D4_subj_2-1_and_2-2.1/20230616_111904_standard_comp_to_training_D4_subj_2-1_and_2-2.1.tone_24.mp4.\n",
      "Moviepy - Writing video /scratch/back_up/reward_competition_extention/proc/tone_clips/20230616_111904_standard_comp_to_training_D4_subj_2-1_and_2-2.1/20230616_111904_standard_comp_to_training_D4_subj_2-1_and_2-2.1.tone_24.mp4\n",
      "\n"
     ]
    },
    {
     "name": "stderr",
     "output_type": "stream",
     "text": [
      "                                                                     \r"
     ]
    },
    {
     "name": "stdout",
     "output_type": "stream",
     "text": [
      "Moviepy - Done !\n",
      "Moviepy - video ready /scratch/back_up/reward_competition_extention/proc/tone_clips/20230616_111904_standard_comp_to_training_D4_subj_2-1_and_2-2.1/20230616_111904_standard_comp_to_training_D4_subj_2-1_and_2-2.1.tone_24.mp4\n",
      "41036 42436\n",
      "Moviepy - Building video /scratch/back_up/reward_competition_extention/proc/tone_clips/20230616_111904_standard_comp_to_training_D4_subj_2-1_and_2-2.1/20230616_111904_standard_comp_to_training_D4_subj_2-1_and_2-2.1.tone_25.mp4.\n",
      "Moviepy - Writing video /scratch/back_up/reward_competition_extention/proc/tone_clips/20230616_111904_standard_comp_to_training_D4_subj_2-1_and_2-2.1/20230616_111904_standard_comp_to_training_D4_subj_2-1_and_2-2.1.tone_25.mp4\n",
      "\n"
     ]
    },
    {
     "name": "stderr",
     "output_type": "stream",
     "text": [
      "                                                                     \r"
     ]
    },
    {
     "name": "stdout",
     "output_type": "stream",
     "text": [
      "Moviepy - Done !\n",
      "Moviepy - video ready /scratch/back_up/reward_competition_extention/proc/tone_clips/20230616_111904_standard_comp_to_training_D4_subj_2-1_and_2-2.1/20230616_111904_standard_comp_to_training_D4_subj_2-1_and_2-2.1.tone_25.mp4\n",
      "42036 43436\n",
      "Moviepy - Building video /scratch/back_up/reward_competition_extention/proc/tone_clips/20230616_111904_standard_comp_to_training_D4_subj_2-1_and_2-2.1/20230616_111904_standard_comp_to_training_D4_subj_2-1_and_2-2.1.tone_26.mp4.\n",
      "Moviepy - Writing video /scratch/back_up/reward_competition_extention/proc/tone_clips/20230616_111904_standard_comp_to_training_D4_subj_2-1_and_2-2.1/20230616_111904_standard_comp_to_training_D4_subj_2-1_and_2-2.1.tone_26.mp4\n",
      "\n"
     ]
    },
    {
     "name": "stderr",
     "output_type": "stream",
     "text": [
      "                                                                     \r"
     ]
    },
    {
     "name": "stdout",
     "output_type": "stream",
     "text": [
      "Moviepy - Done !\n",
      "Moviepy - video ready /scratch/back_up/reward_competition_extention/proc/tone_clips/20230616_111904_standard_comp_to_training_D4_subj_2-1_and_2-2.1/20230616_111904_standard_comp_to_training_D4_subj_2-1_and_2-2.1.tone_26.mp4\n",
      "43036 44436\n",
      "Moviepy - Building video /scratch/back_up/reward_competition_extention/proc/tone_clips/20230616_111904_standard_comp_to_training_D4_subj_2-1_and_2-2.1/20230616_111904_standard_comp_to_training_D4_subj_2-1_and_2-2.1.tone_27.mp4.\n",
      "Moviepy - Writing video /scratch/back_up/reward_competition_extention/proc/tone_clips/20230616_111904_standard_comp_to_training_D4_subj_2-1_and_2-2.1/20230616_111904_standard_comp_to_training_D4_subj_2-1_and_2-2.1.tone_27.mp4\n",
      "\n"
     ]
    },
    {
     "name": "stderr",
     "output_type": "stream",
     "text": [
      "                                                                     \r"
     ]
    },
    {
     "name": "stdout",
     "output_type": "stream",
     "text": [
      "Moviepy - Done !\n",
      "Moviepy - video ready /scratch/back_up/reward_competition_extention/proc/tone_clips/20230616_111904_standard_comp_to_training_D4_subj_2-1_and_2-2.1/20230616_111904_standard_comp_to_training_D4_subj_2-1_and_2-2.1.tone_27.mp4\n",
      "45136 46536\n",
      "Moviepy - Building video /scratch/back_up/reward_competition_extention/proc/tone_clips/20230616_111904_standard_comp_to_training_D4_subj_2-1_and_2-2.1/20230616_111904_standard_comp_to_training_D4_subj_2-1_and_2-2.1.tone_28.mp4.\n",
      "Moviepy - Writing video /scratch/back_up/reward_competition_extention/proc/tone_clips/20230616_111904_standard_comp_to_training_D4_subj_2-1_and_2-2.1/20230616_111904_standard_comp_to_training_D4_subj_2-1_and_2-2.1.tone_28.mp4\n",
      "\n"
     ]
    },
    {
     "name": "stderr",
     "output_type": "stream",
     "text": [
      "                                                                     \r"
     ]
    },
    {
     "name": "stdout",
     "output_type": "stream",
     "text": [
      "Moviepy - Done !\n",
      "Moviepy - video ready /scratch/back_up/reward_competition_extention/proc/tone_clips/20230616_111904_standard_comp_to_training_D4_subj_2-1_and_2-2.1/20230616_111904_standard_comp_to_training_D4_subj_2-1_and_2-2.1.tone_28.mp4\n",
      "47536 48936\n",
      "Moviepy - Building video /scratch/back_up/reward_competition_extention/proc/tone_clips/20230616_111904_standard_comp_to_training_D4_subj_2-1_and_2-2.1/20230616_111904_standard_comp_to_training_D4_subj_2-1_and_2-2.1.tone_29.mp4.\n",
      "Moviepy - Writing video /scratch/back_up/reward_competition_extention/proc/tone_clips/20230616_111904_standard_comp_to_training_D4_subj_2-1_and_2-2.1/20230616_111904_standard_comp_to_training_D4_subj_2-1_and_2-2.1.tone_29.mp4\n",
      "\n"
     ]
    },
    {
     "name": "stderr",
     "output_type": "stream",
     "text": [
      "                                                                     \r"
     ]
    },
    {
     "name": "stdout",
     "output_type": "stream",
     "text": [
      "Moviepy - Done !\n",
      "Moviepy - video ready /scratch/back_up/reward_competition_extention/proc/tone_clips/20230616_111904_standard_comp_to_training_D4_subj_2-1_and_2-2.1/20230616_111904_standard_comp_to_training_D4_subj_2-1_and_2-2.1.tone_29.mp4\n",
      "49936 51336\n",
      "Moviepy - Building video /scratch/back_up/reward_competition_extention/proc/tone_clips/20230616_111904_standard_comp_to_training_D4_subj_2-1_and_2-2.1/20230616_111904_standard_comp_to_training_D4_subj_2-1_and_2-2.1.tone_30.mp4.\n",
      "Moviepy - Writing video /scratch/back_up/reward_competition_extention/proc/tone_clips/20230616_111904_standard_comp_to_training_D4_subj_2-1_and_2-2.1/20230616_111904_standard_comp_to_training_D4_subj_2-1_and_2-2.1.tone_30.mp4\n",
      "\n"
     ]
    },
    {
     "name": "stderr",
     "output_type": "stream",
     "text": [
      "                                                                     \r"
     ]
    },
    {
     "name": "stdout",
     "output_type": "stream",
     "text": [
      "Moviepy - Done !\n",
      "Moviepy - video ready /scratch/back_up/reward_competition_extention/proc/tone_clips/20230616_111904_standard_comp_to_training_D4_subj_2-1_and_2-2.1/20230616_111904_standard_comp_to_training_D4_subj_2-1_and_2-2.1.tone_30.mp4\n",
      "52136 53536\n",
      "Moviepy - Building video /scratch/back_up/reward_competition_extention/proc/tone_clips/20230616_111904_standard_comp_to_training_D4_subj_2-1_and_2-2.1/20230616_111904_standard_comp_to_training_D4_subj_2-1_and_2-2.1.tone_31.mp4.\n",
      "Moviepy - Writing video /scratch/back_up/reward_competition_extention/proc/tone_clips/20230616_111904_standard_comp_to_training_D4_subj_2-1_and_2-2.1/20230616_111904_standard_comp_to_training_D4_subj_2-1_and_2-2.1.tone_31.mp4\n",
      "\n"
     ]
    },
    {
     "name": "stderr",
     "output_type": "stream",
     "text": [
      "                                                                     \r"
     ]
    },
    {
     "name": "stdout",
     "output_type": "stream",
     "text": [
      "Moviepy - Done !\n",
      "Moviepy - video ready /scratch/back_up/reward_competition_extention/proc/tone_clips/20230616_111904_standard_comp_to_training_D4_subj_2-1_and_2-2.1/20230616_111904_standard_comp_to_training_D4_subj_2-1_and_2-2.1.tone_31.mp4\n",
      "53836 55236\n",
      "Moviepy - Building video /scratch/back_up/reward_competition_extention/proc/tone_clips/20230616_111904_standard_comp_to_training_D4_subj_2-1_and_2-2.1/20230616_111904_standard_comp_to_training_D4_subj_2-1_and_2-2.1.tone_32.mp4.\n",
      "Moviepy - Writing video /scratch/back_up/reward_competition_extention/proc/tone_clips/20230616_111904_standard_comp_to_training_D4_subj_2-1_and_2-2.1/20230616_111904_standard_comp_to_training_D4_subj_2-1_and_2-2.1.tone_32.mp4\n",
      "\n"
     ]
    },
    {
     "name": "stderr",
     "output_type": "stream",
     "text": [
      "                                                                     \r"
     ]
    },
    {
     "name": "stdout",
     "output_type": "stream",
     "text": [
      "Moviepy - Done !\n",
      "Moviepy - video ready /scratch/back_up/reward_competition_extention/proc/tone_clips/20230616_111904_standard_comp_to_training_D4_subj_2-1_and_2-2.1/20230616_111904_standard_comp_to_training_D4_subj_2-1_and_2-2.1.tone_32.mp4\n",
      "56236 57636\n",
      "Moviepy - Building video /scratch/back_up/reward_competition_extention/proc/tone_clips/20230616_111904_standard_comp_to_training_D4_subj_2-1_and_2-2.1/20230616_111904_standard_comp_to_training_D4_subj_2-1_and_2-2.1.tone_33.mp4.\n",
      "Moviepy - Writing video /scratch/back_up/reward_competition_extention/proc/tone_clips/20230616_111904_standard_comp_to_training_D4_subj_2-1_and_2-2.1/20230616_111904_standard_comp_to_training_D4_subj_2-1_and_2-2.1.tone_33.mp4\n",
      "\n"
     ]
    },
    {
     "name": "stderr",
     "output_type": "stream",
     "text": [
      "                                                                     \r"
     ]
    },
    {
     "name": "stdout",
     "output_type": "stream",
     "text": [
      "Moviepy - Done !\n",
      "Moviepy - video ready /scratch/back_up/reward_competition_extention/proc/tone_clips/20230616_111904_standard_comp_to_training_D4_subj_2-1_and_2-2.1/20230616_111904_standard_comp_to_training_D4_subj_2-1_and_2-2.1.tone_33.mp4\n",
      "57436 58836\n",
      "Moviepy - Building video /scratch/back_up/reward_competition_extention/proc/tone_clips/20230616_111904_standard_comp_to_training_D4_subj_2-1_and_2-2.1/20230616_111904_standard_comp_to_training_D4_subj_2-1_and_2-2.1.tone_34.mp4.\n",
      "Moviepy - Writing video /scratch/back_up/reward_competition_extention/proc/tone_clips/20230616_111904_standard_comp_to_training_D4_subj_2-1_and_2-2.1/20230616_111904_standard_comp_to_training_D4_subj_2-1_and_2-2.1.tone_34.mp4\n",
      "\n"
     ]
    },
    {
     "name": "stderr",
     "output_type": "stream",
     "text": [
      "                                                                     \r"
     ]
    },
    {
     "name": "stdout",
     "output_type": "stream",
     "text": [
      "Moviepy - Done !\n",
      "Moviepy - video ready /scratch/back_up/reward_competition_extention/proc/tone_clips/20230616_111904_standard_comp_to_training_D4_subj_2-1_and_2-2.1/20230616_111904_standard_comp_to_training_D4_subj_2-1_and_2-2.1.tone_34.mp4\n",
      "58736 60136\n",
      "Moviepy - Building video /scratch/back_up/reward_competition_extention/proc/tone_clips/20230616_111904_standard_comp_to_training_D4_subj_2-1_and_2-2.1/20230616_111904_standard_comp_to_training_D4_subj_2-1_and_2-2.1.tone_35.mp4.\n",
      "Moviepy - Writing video /scratch/back_up/reward_competition_extention/proc/tone_clips/20230616_111904_standard_comp_to_training_D4_subj_2-1_and_2-2.1/20230616_111904_standard_comp_to_training_D4_subj_2-1_and_2-2.1.tone_35.mp4\n",
      "\n"
     ]
    },
    {
     "name": "stderr",
     "output_type": "stream",
     "text": [
      "                                                                     \r"
     ]
    },
    {
     "name": "stdout",
     "output_type": "stream",
     "text": [
      "Moviepy - Done !\n",
      "Moviepy - video ready /scratch/back_up/reward_competition_extention/proc/tone_clips/20230616_111904_standard_comp_to_training_D4_subj_2-1_and_2-2.1/20230616_111904_standard_comp_to_training_D4_subj_2-1_and_2-2.1.tone_35.mp4\n",
      "59936 61336\n",
      "Moviepy - Building video /scratch/back_up/reward_competition_extention/proc/tone_clips/20230616_111904_standard_comp_to_training_D4_subj_2-1_and_2-2.1/20230616_111904_standard_comp_to_training_D4_subj_2-1_and_2-2.1.tone_36.mp4.\n",
      "Moviepy - Writing video /scratch/back_up/reward_competition_extention/proc/tone_clips/20230616_111904_standard_comp_to_training_D4_subj_2-1_and_2-2.1/20230616_111904_standard_comp_to_training_D4_subj_2-1_and_2-2.1.tone_36.mp4\n",
      "\n"
     ]
    },
    {
     "name": "stderr",
     "output_type": "stream",
     "text": [
      "                                                                     \r"
     ]
    },
    {
     "name": "stdout",
     "output_type": "stream",
     "text": [
      "Moviepy - Done !\n",
      "Moviepy - video ready /scratch/back_up/reward_competition_extention/proc/tone_clips/20230616_111904_standard_comp_to_training_D4_subj_2-1_and_2-2.1/20230616_111904_standard_comp_to_training_D4_subj_2-1_and_2-2.1.tone_36.mp4\n",
      "61436 62836\n",
      "Moviepy - Building video /scratch/back_up/reward_competition_extention/proc/tone_clips/20230616_111904_standard_comp_to_training_D4_subj_2-1_and_2-2.1/20230616_111904_standard_comp_to_training_D4_subj_2-1_and_2-2.1.tone_37.mp4.\n",
      "Moviepy - Writing video /scratch/back_up/reward_competition_extention/proc/tone_clips/20230616_111904_standard_comp_to_training_D4_subj_2-1_and_2-2.1/20230616_111904_standard_comp_to_training_D4_subj_2-1_and_2-2.1.tone_37.mp4\n",
      "\n"
     ]
    },
    {
     "name": "stderr",
     "output_type": "stream",
     "text": [
      "                                                                     \r"
     ]
    },
    {
     "name": "stdout",
     "output_type": "stream",
     "text": [
      "Moviepy - Done !\n",
      "Moviepy - video ready /scratch/back_up/reward_competition_extention/proc/tone_clips/20230616_111904_standard_comp_to_training_D4_subj_2-1_and_2-2.1/20230616_111904_standard_comp_to_training_D4_subj_2-1_and_2-2.1.tone_37.mp4\n",
      "63436 64836\n",
      "Moviepy - Building video /scratch/back_up/reward_competition_extention/proc/tone_clips/20230616_111904_standard_comp_to_training_D4_subj_2-1_and_2-2.1/20230616_111904_standard_comp_to_training_D4_subj_2-1_and_2-2.1.tone_38.mp4.\n",
      "Moviepy - Writing video /scratch/back_up/reward_competition_extention/proc/tone_clips/20230616_111904_standard_comp_to_training_D4_subj_2-1_and_2-2.1/20230616_111904_standard_comp_to_training_D4_subj_2-1_and_2-2.1.tone_38.mp4\n",
      "\n"
     ]
    },
    {
     "name": "stderr",
     "output_type": "stream",
     "text": [
      "                                                                     \r"
     ]
    },
    {
     "name": "stdout",
     "output_type": "stream",
     "text": [
      "Moviepy - Done !\n",
      "Moviepy - video ready /scratch/back_up/reward_competition_extention/proc/tone_clips/20230616_111904_standard_comp_to_training_D4_subj_2-1_and_2-2.1/20230616_111904_standard_comp_to_training_D4_subj_2-1_and_2-2.1.tone_38.mp4\n",
      "65336 66736\n",
      "Moviepy - Building video /scratch/back_up/reward_competition_extention/proc/tone_clips/20230616_111904_standard_comp_to_training_D4_subj_2-1_and_2-2.1/20230616_111904_standard_comp_to_training_D4_subj_2-1_and_2-2.1.tone_39.mp4.\n",
      "Moviepy - Writing video /scratch/back_up/reward_competition_extention/proc/tone_clips/20230616_111904_standard_comp_to_training_D4_subj_2-1_and_2-2.1/20230616_111904_standard_comp_to_training_D4_subj_2-1_and_2-2.1.tone_39.mp4\n",
      "\n"
     ]
    },
    {
     "name": "stderr",
     "output_type": "stream",
     "text": [
      "                                                                     \r"
     ]
    },
    {
     "name": "stdout",
     "output_type": "stream",
     "text": [
      "Moviepy - Done !\n",
      "Moviepy - video ready /scratch/back_up/reward_competition_extention/proc/tone_clips/20230616_111904_standard_comp_to_training_D4_subj_2-1_and_2-2.1/20230616_111904_standard_comp_to_training_D4_subj_2-1_and_2-2.1.tone_39.mp4\n",
      "66336 67736\n",
      "Moviepy - Building video /scratch/back_up/reward_competition_extention/proc/tone_clips/20230616_111904_standard_comp_to_training_D4_subj_2-1_and_2-2.1/20230616_111904_standard_comp_to_training_D4_subj_2-1_and_2-2.1.tone_40.mp4.\n",
      "Moviepy - Writing video /scratch/back_up/reward_competition_extention/proc/tone_clips/20230616_111904_standard_comp_to_training_D4_subj_2-1_and_2-2.1/20230616_111904_standard_comp_to_training_D4_subj_2-1_and_2-2.1.tone_40.mp4\n",
      "\n"
     ]
    },
    {
     "name": "stderr",
     "output_type": "stream",
     "text": [
      "                                                                     "
     ]
    },
    {
     "name": "stdout",
     "output_type": "stream",
     "text": [
      "Moviepy - Done !\n",
      "Moviepy - video ready /scratch/back_up/reward_competition_extention/proc/tone_clips/20230616_111904_standard_comp_to_training_D4_subj_2-1_and_2-2.1/20230616_111904_standard_comp_to_training_D4_subj_2-1_and_2-2.1.tone_40.mp4\n"
     ]
    },
    {
     "name": "stderr",
     "output_type": "stream",
     "text": [
      "\r"
     ]
    }
   ],
   "source": [
    "for index, row in all_video_df.iterrows():\n",
    "    video_basename = os.path.basename(row[\"video_file\"].strip(\"fixed.mp4\"))    \n",
    "    video_output_dir = os.path.join(\"/scratch/back_up/reward_competition_extention/proc/tone_clips\", video_basename)\n",
    "    os.makedirs(video_output_dir, exist_ok=True)\n",
    "                \n",
    "    for index, (first_frame, last_frame) in enumerate(zip(row[\"all_5sec_before_tone\"], row[\"all_10sec_after_tone\"])):\n",
    "        if first_frame <= 0:\n",
    "            first_frame = 0\n",
    "\n",
    "        try:\n",
    "\n",
    "            # print(first_frame, last_frame)\n",
    "            clip_output_path = os.path.join(video_output_dir, \"{}.tone_{}.mp4\".format(video_basename, index + 1))\n",
    "            if not os.path.isfile(clip_output_path):\n",
    "                video_object = VideoFileClip(row[\"video_file\"])\n",
    "                print(first_frame, last_frame)\n",
    "                cs_trimmed_video = video_object.subclip(first_frame//30, last_frame//30)\n",
    "                cs_trimmed_video.to_videofile(clip_output_path)\n",
    "            else:\n",
    "                print(\"Tone Clip exists for: {}\".format(clip_output_path))\n",
    "                continue\n",
    "\n",
    "        except Exception as e: \n",
    "            print(e)           "
   ]
  },
  {
   "cell_type": "code",
   "execution_count": 25,
   "id": "6337405b-1d12-453c-bab6-6ed80c811bd4",
   "metadata": {},
   "outputs": [
    {
     "ename": "ValueError",
     "evalue": "",
     "output_type": "error",
     "traceback": [
      "\u001b[0;31m---------------------------------------------------------------------------\u001b[0m",
      "\u001b[0;31mValueError\u001b[0m                                Traceback (most recent call last)",
      "Cell \u001b[0;32mIn[25], line 1\u001b[0m\n\u001b[0;32m----> 1\u001b[0m \u001b[38;5;28;01mraise\u001b[39;00m \u001b[38;5;167;01mValueError\u001b[39;00m()\n",
      "\u001b[0;31mValueError\u001b[0m: "
     ]
    }
   ],
   "source": [
    "raise ValueError()"
   ]
  },
  {
   "cell_type": "code",
   "execution_count": null,
   "id": "970d76e7-43db-4fb5-893f-1cfa93d2f376",
   "metadata": {},
   "outputs": [],
   "source": [
    "for index, row in all_cs_presentation_dataframe.iterrows():\n",
    "    os.makedirs(row[\"tone_clip_output_dirname\"], exist_ok=True)\n",
    "    video_object = VideoFileClip(row[\"video_full_path\"])\n",
    "    cs_trimmed_video = video_object.subclip(row[\"10_seconds_before_cs_presentation_in_seconds\"], row[\"10_seconds_after_cs_presentation_in_seconds\"])\n",
    "    cs_trimmed_video.to_videofile(row[\"tone_clip_output_full_path\"])"
   ]
  },
  {
   "cell_type": "markdown",
   "id": "49701edd-1f3a-4ee7-a792-f23ade109381",
   "metadata": {},
   "source": [
    "# OLD WORK BELOW"
   ]
  },
  {
   "cell_type": "code",
   "execution_count": null,
   "id": "9cd40f27-40fd-4ef1-aa91-b65d650eeeac",
   "metadata": {},
   "outputs": [],
   "source": [
    "all_video_df"
   ]
  },
  {
   "cell_type": "code",
   "execution_count": null,
   "id": "869f1229-2953-477c-8af5-f05a0032083a",
   "metadata": {},
   "outputs": [],
   "source": [
    "(3529-1126)/120"
   ]
  },
  {
   "cell_type": "code",
   "execution_count": null,
   "id": "6e7f8df4-da0d-4a74-9b40-d279c7dba114",
   "metadata": {},
   "outputs": [],
   "source": [
    "(5830 - 3529)/115"
   ]
  },
  {
   "cell_type": "code",
   "execution_count": null,
   "id": "7402087f-5c6f-4a35-9221-a5c0e015c550",
   "metadata": {},
   "outputs": [],
   "source": []
  },
  {
   "cell_type": "code",
   "execution_count": null,
   "id": "7aaa9fbb-b8bd-46a5-8d04-169a31548533",
   "metadata": {},
   "outputs": [],
   "source": [
    "(7627 - 5830)/90"
   ]
  },
  {
   "cell_type": "code",
   "execution_count": null,
   "id": "03646199-441f-41b4-9ee9-d7826f462e9b",
   "metadata": {},
   "outputs": [],
   "source": [
    "(8726 - 7627)/55"
   ]
  },
  {
   "cell_type": "code",
   "execution_count": null,
   "id": "c38c32ce-86f0-417f-9a03-f171e9244d27",
   "metadata": {},
   "outputs": [],
   "source": [
    "all_itis = [80, 90, 80, 75, 100, 95, 90, 80, 90, 100, 90, 120, 90, 85, 90, 95, 120, 80, 95, 80, 90, 80, 75, 100, 95, 90, 80, 90, 100, 90, 120, 90, 85, 90, 95, 90, 80, 90, 100, 90, 90, 90, 90, 90, 90, 90, 90, 90, 90, 90, 90, 90, 90, 90, 90, 90, 90, 90, 90 ]"
   ]
  },
  {
   "cell_type": "code",
   "execution_count": null,
   "id": "0f3764e9-d07a-47b4-b6cf-ab7a8a6902b2",
   "metadata": {},
   "outputs": [],
   "source": [
    "all_itis = [120, 115, 90, 55, 50, 95, 75, 105, 50, 80, 65, 65, 50, 70, 95, 80, 70, 110, 60, 300, 60, 55, 65, 55, 50, 50, 105, 120, 120, 110, 85, 120, 60, 65, 60, 75, 100, 95, 50]"
   ]
  },
  {
   "cell_type": "code",
   "execution_count": null,
   "id": "8164a9f4-fd79-4486-bb8b-b855e42340f7",
   "metadata": {},
   "outputs": [],
   "source": [
    "current_frame = 1126\n",
    "all_tone_frames = [current_frame]\n",
    "for iti in all_itis:\n",
    "    current_frame += iti * 20\n",
    "    all_tone_frames.append(current_frame)"
   ]
  },
  {
   "cell_type": "code",
   "execution_count": null,
   "id": "861baf51-6bf4-4d90-a803-2639e6b4372f",
   "metadata": {},
   "outputs": [],
   "source": [
    "current_frame = 918\n",
    "all_tone_frames = [current_frame]\n",
    "for iti in all_itis:\n",
    "    current_frame += iti * 20\n",
    "    all_tone_frames.append(current_frame)"
   ]
  },
  {
   "cell_type": "code",
   "execution_count": null,
   "id": "77813103-0076-4df3-814f-9d653040de6e",
   "metadata": {},
   "outputs": [],
   "source": [
    "all_tone_frames"
   ]
  },
  {
   "cell_type": "markdown",
   "id": "993297b8-7e33-4741-b51b-9664b0373d9c",
   "metadata": {},
   "source": [
    "1125, 3521, 5816, 7613 for 20230612_112630_standard_comp_to_training_D1_subj_1-2_and_1-1.1.fixed.mp4"
   ]
  },
  {
   "cell_type": "markdown",
   "id": "52dd42ca",
   "metadata": {},
   "source": [
    "## Getting the Metadata from all the MED-PC Recording Files"
   ]
  },
  {
   "cell_type": "markdown",
   "id": "51a96419",
   "metadata": {},
   "source": [
    "- Getting all the file paths of the recording files(that happen to all end in `.txt`"
   ]
  },
  {
   "cell_type": "markdown",
   "id": "005ccdc3",
   "metadata": {
    "jp-MarkdownHeadingCollapsed": true
   },
   "source": [
    "# NOTE: The following path must be changed to the directory where your MED-PC recording files are located, if they are not in the specied folder"
   ]
  },
  {
   "cell_type": "code",
   "execution_count": null,
   "id": "faa6c858",
   "metadata": {},
   "outputs": [],
   "source": [
    "all_med_pc_file = sorted(glob.glob(\"./data/**/*.txt\", recursive=True))"
   ]
  },
  {
   "cell_type": "markdown",
   "id": "07578f1d",
   "metadata": {},
   "source": [
    "- Use this instead if you're using you're own data"
   ]
  },
  {
   "cell_type": "raw",
   "id": "3d3671a9",
   "metadata": {},
   "source": [
    "all_med_pc_file = glob.glob(\"./data/clock_recording/*.txt\")"
   ]
  },
  {
   "cell_type": "code",
   "execution_count": null,
   "id": "29194eda",
   "metadata": {
    "scrolled": true
   },
   "outputs": [],
   "source": [
    "all_med_pc_file[:10]"
   ]
  },
  {
   "cell_type": "markdown",
   "id": "7b1caaf8",
   "metadata": {},
   "source": [
    "- Selecting only one of the files\n",
    "    - The tone times are the same for both C57 and CD1s"
   ]
  },
  {
   "cell_type": "code",
   "execution_count": null,
   "id": "0e0abd86",
   "metadata": {},
   "outputs": [],
   "source": [
    "all_med_pc_file[0]"
   ]
  },
  {
   "cell_type": "markdown",
   "id": "062be1de",
   "metadata": {},
   "source": [
    "- Example of what the MED-PC Recording file looks like"
   ]
  },
  {
   "cell_type": "code",
   "execution_count": null,
   "id": "1c7118af",
   "metadata": {},
   "outputs": [],
   "source": [
    "with open(all_med_pc_file[0]) as f:\n",
    "    lines = f.readlines()\n",
    "    for line in lines[:20]:\n",
    "        print(line)"
   ]
  },
  {
   "cell_type": "markdown",
   "id": "23b6a4cc",
   "metadata": {},
   "source": [
    "- We will be extracting the first 10 or so lines that look like:\n",
    "\n",
    "```\n",
    "File: C:\\MED-PC\\Data\\2022-05-06_12h59m_Subject 3.4 (2).txt\n",
    "\n",
    "Start Date: 05/06/22\n",
    "\n",
    "End Date: 05/06/22\n",
    "\n",
    "Subject: 3.4 (2)\n",
    "\n",
    "Experiment: Pilot of Pilot\n",
    "\n",
    "Group: Cage 4\n",
    "\n",
    "Box: 1\n",
    "\n",
    "Start Time: 12:59:58\n",
    "\n",
    "End Time: 14:02:38\n",
    "\n",
    "MSN: levelNP_CS_reward_laserepochON1st_noshock\n",
    "```\n",
    "    \n",
    "- We will just find all the lines that start with \"File\", \"Start Date\", \"End Date\", \"Subject\", \"Experiment\", \"Group\", \"Box\", \"Start Time\", \"End Time\", or \"MSN\". And then stop once all the metadata types have been collected"
   ]
  },
  {
   "cell_type": "code",
   "execution_count": null,
   "id": "67503081",
   "metadata": {},
   "outputs": [],
   "source": [
    "# This makes a nested dictionary of file paths to each individual metadata type\n",
    "file_path_to_meta_data = extract.metadata.get_all_med_pc_meta_data_from_files(list_of_files=all_med_pc_file)"
   ]
  },
  {
   "cell_type": "code",
   "execution_count": null,
   "id": "35ff0f55",
   "metadata": {},
   "outputs": [],
   "source": [
    "for key, value in file_path_to_meta_data.items():\n",
    "    print(\"File path: {}\".format(key))\n",
    "    print(\"Metadata types and associated values: {}\".format(value))\n",
    "    break"
   ]
  },
  {
   "cell_type": "markdown",
   "id": "2c00edf5",
   "metadata": {},
   "source": [
    "## Making a Dataframe out of the Metadata"
   ]
  },
  {
   "cell_type": "code",
   "execution_count": null,
   "id": "6fcb3201",
   "metadata": {},
   "outputs": [],
   "source": [
    "# Turning the dictionary into a Pandas Dataframe\n",
    "metadata_df = pd.DataFrame.from_dict(file_path_to_meta_data, orient=\"index\")\n",
    "# Resetting the index because currently the file path is the index \n",
    "metadata_df = metadata_df.reset_index()"
   ]
  },
  {
   "cell_type": "code",
   "execution_count": null,
   "id": "b98fcaf2",
   "metadata": {},
   "outputs": [],
   "source": [
    "metadata_df.head()"
   ]
  },
  {
   "cell_type": "code",
   "execution_count": null,
   "id": "371584e7",
   "metadata": {},
   "outputs": [],
   "source": [
    "metadata_df.tail()"
   ]
  },
  {
   "cell_type": "markdown",
   "id": "8ac4297a",
   "metadata": {},
   "source": [
    "- Just getting the numbers out of the column that contains the cage information"
   ]
  },
  {
   "cell_type": "markdown",
   "id": "dd4bc5a5",
   "metadata": {},
   "source": [
    "## Inputting all the MED-PC log files"
   ]
  },
  {
   "cell_type": "markdown",
   "id": "c78aaf6c",
   "metadata": {},
   "source": [
    "- Example of what the MED-PC Script looks like that was ran when recording the behaviors"
   ]
  },
  {
   "cell_type": "code",
   "execution_count": null,
   "id": "30e2952b",
   "metadata": {},
   "outputs": [],
   "source": [
    "med_pc_scripts = glob.glob(\"./data/**/*.MPC\")"
   ]
  },
  {
   "cell_type": "code",
   "execution_count": null,
   "id": "e5e627a2",
   "metadata": {},
   "outputs": [],
   "source": [
    "med_pc_scripts"
   ]
  },
  {
   "cell_type": "code",
   "execution_count": null,
   "id": "8dee131d",
   "metadata": {},
   "outputs": [],
   "source": [
    "with open(med_pc_scripts[0]) as f:\n",
    "    lines = f.readlines()\n",
    "    for line in lines[:100]:\n",
    "        print(line)"
   ]
  },
  {
   "cell_type": "markdown",
   "id": "0ee62e6c",
   "metadata": {},
   "source": [
    "- We will be using the comments in the MED-PC script(which starts with the `\\`) to create a name for the variables. By default, MED-PC uses a single letter as the name of the variable.\n",
    "    - This will use the medpc2excel library found in https://github.com/cyf203/medpc2excel\n",
    "- Example of the comments in the MED-PC script that we will use the names from:\n",
    "\n",
    "```\n",
    "\\Variables\n",
    "\n",
    "\\A - Time since last CS\n",
    "\n",
    "\\B - Shock intensity\n",
    "\n",
    "\\C - Counter array\n",
    "\n",
    "\\D - Current ITI value\n",
    "\n",
    "\\E - CS ITI values for first few trials\n",
    "\n",
    "\\F - Shock duration\n",
    "\n",
    "\\G -\n",
    "\n",
    "\\H -\n",
    "\n",
    "\\I -\n",
    "\n",
    "\\J - Shock intensity repo\n",
    "\n",
    "\\K - CS type\n",
    "\n",
    "\\L -\n",
    "\n",
    "\\M - CS type repo\n",
    "\n",
    "\\N - Port exit time stamp array\n",
    "\n",
    "\\O -\n",
    "\n",
    "\\P - Port entry time stamp array\n",
    "\n",
    "\\Q - Sucrose delivery time stamp array (absolute)\n",
    "\n",
    "\\R - Sucrose delivery time stamp array (relative to last CS)\n",
    "\n",
    "\\S - CS presentation time stamp array\n",
    "\n",
    "\\T - Session timer\n",
    "\n",
    "\\U - Time since last CS presentation\n",
    "\n",
    "\\V - List of CS ITI values (tone + houselight)\n",
    "\n",
    "\\W - ITI values used for CS one each trial\n",
    "\n",
    "\\X -\n",
    "\n",
    "\\Y - Beam break monitor variable\n",
    "\n",
    "\\Z -\n",
    "```"
   ]
  },
  {
   "cell_type": "code",
   "execution_count": null,
   "id": "7d7b57bd",
   "metadata": {
    "scrolled": true
   },
   "outputs": [],
   "source": [
    "with open(all_med_pc_file[0]) as f:\n",
    "    lines = f.readlines()\n",
    "    for line in lines[:20]:\n",
    "        print(line)"
   ]
  },
  {
   "cell_type": "markdown",
   "id": "3480b276",
   "metadata": {},
   "source": [
    "- **Please make sure that the corresponding `.mpc` file (aka the MED-PC script) that was ran to create the log file, is also in the same folder**"
   ]
  },
  {
   "cell_type": "code",
   "execution_count": null,
   "id": "c7fa40d7",
   "metadata": {
    "scrolled": true
   },
   "outputs": [],
   "source": [
    "all_med_pc_file"
   ]
  },
  {
   "cell_type": "code",
   "execution_count": null,
   "id": "0c38d1eb",
   "metadata": {
    "scrolled": true
   },
   "outputs": [],
   "source": [
    "concatted_medpc_df = extract.dataframe.get_medpc_dataframe_from_list_of_files(medpc_files=[all_med_pc_file[0]])\n",
    "concatted_medpc_df = concatted_medpc_df.reset_index(drop=True)"
   ]
  },
  {
   "cell_type": "code",
   "execution_count": null,
   "id": "f9339573",
   "metadata": {},
   "outputs": [],
   "source": [
    "concatted_medpc_df.head()"
   ]
  },
  {
   "cell_type": "code",
   "execution_count": null,
   "id": "d65c4236",
   "metadata": {},
   "outputs": [],
   "source": [
    "concatted_medpc_df.tail()"
   ]
  },
  {
   "cell_type": "markdown",
   "id": "faf9155d",
   "metadata": {},
   "source": [
    "- Dropping all rows that don't have the CS presentation time"
   ]
  },
  {
   "cell_type": "code",
   "execution_count": null,
   "id": "c0067591",
   "metadata": {
    "scrolled": true
   },
   "outputs": [],
   "source": [
    "cs_time_df = concatted_medpc_df[concatted_medpc_df[\"(S)CSpresentation\"] != 0.0].dropna(subset=\"(S)CSpresentation\")"
   ]
  },
  {
   "cell_type": "code",
   "execution_count": null,
   "id": "5a8cdb45",
   "metadata": {},
   "outputs": [],
   "source": [
    "cs_time_df = cs_time_df[cs_time_df[\"(S)CSpresentation\"] % 100 != 0]"
   ]
  },
  {
   "cell_type": "code",
   "execution_count": null,
   "id": "b96708e1",
   "metadata": {},
   "outputs": [],
   "source": [
    "cs_time_df[\"file_path\"].unique()"
   ]
  },
  {
   "cell_type": "code",
   "execution_count": null,
   "id": "d0b5215b",
   "metadata": {},
   "outputs": [],
   "source": [
    "cs_time_df"
   ]
  },
  {
   "cell_type": "code",
   "execution_count": null,
   "id": "8e3f4677",
   "metadata": {},
   "outputs": [],
   "source": [
    "cs_time_df[\"cs_minute_only\"] = cs_time_df[\"(S)CSpresentation\"] // 60\n",
    "cs_time_df[\"cs_second_only\"] = cs_time_df[\"(S)CSpresentation\"] % 60\n"
   ]
  },
  {
   "cell_type": "code",
   "execution_count": null,
   "id": "c4314ea8",
   "metadata": {},
   "outputs": [],
   "source": []
  },
  {
   "cell_type": "markdown",
   "id": "ae2c8e78",
   "metadata": {},
   "source": [
    "## Getting a list of the Tone presentation times"
   ]
  },
  {
   "cell_type": "code",
   "execution_count": null,
   "id": "07e2dc00",
   "metadata": {},
   "outputs": [],
   "source": [
    "cs_presentation_time = cs_time_df[[\"(S)CSpresentation\", \"cs_minute_only\", \"cs_second_only\"]].copy()"
   ]
  },
  {
   "cell_type": "code",
   "execution_count": null,
   "id": "b83f77e8",
   "metadata": {},
   "outputs": [],
   "source": [
    "cs_presentation_time"
   ]
  },
  {
   "cell_type": "markdown",
   "id": "9a473a52",
   "metadata": {},
   "source": [
    "# Importing Video Data"
   ]
  },
  {
   "cell_type": "code",
   "execution_count": null,
   "id": "d8d76bac",
   "metadata": {},
   "outputs": [],
   "source": [
    "from IPython.display import Video"
   ]
  },
  {
   "cell_type": "markdown",
   "id": "c11dc8e7",
   "metadata": {},
   "source": [
    "1. Play the video, and go to time where the first tone is played in the dataframe above\n",
    "    - Usually 1 minute\n",
    "2. Note when the first tone is playing in the video\n",
    "3. Subtract the difference between the time that the tone is playing in the video and in the dataframe\n",
    "    - i.e. 1 minute 12 seconds - 1 minute = 12 seconds"
   ]
  },
  {
   "cell_type": "code",
   "execution_count": null,
   "id": "99e1ebfc",
   "metadata": {},
   "outputs": [],
   "source": [
    "video_file_paths = sorted(glob.glob(\"../2023_01_24_rc_sleap_c57/data/fixed_reward_competition_D1_videos/10-03-22_Test_16_1-1v1-3.fixed.mp4\", recursive=True))"
   ]
  },
  {
   "cell_type": "code",
   "execution_count": null,
   "id": "17237354",
   "metadata": {},
   "outputs": [],
   "source": [
    "for index, file_path in enumerate(video_file_paths):\n",
    "    print(\"Index: {} File Path: {}\".format(index, file_path))"
   ]
  },
  {
   "cell_type": "code",
   "execution_count": null,
   "id": "1af8c082",
   "metadata": {},
   "outputs": [],
   "source": [
    "video_path = video_file_paths[0]"
   ]
  },
  {
   "cell_type": "code",
   "execution_count": null,
   "id": "d1add847",
   "metadata": {},
   "outputs": [],
   "source": [
    "video_path"
   ]
  },
  {
   "cell_type": "raw",
   "id": "f2530946",
   "metadata": {},
   "source": [
    "Video(video_path, embed=True)"
   ]
  },
  {
   "cell_type": "markdown",
   "id": "d5f50bcd",
   "metadata": {},
   "source": [
    "## Calculating the predicted tone times in the video based on the difference"
   ]
  },
  {
   "cell_type": "markdown",
   "id": "ae9d8b15",
   "metadata": {},
   "source": [
    "# NOTE: Change the value of the difference below"
   ]
  },
  {
   "cell_type": "code",
   "execution_count": null,
   "id": "42a989fd",
   "metadata": {},
   "outputs": [],
   "source": [
    "cs_time_difference = 11"
   ]
  },
  {
   "cell_type": "code",
   "execution_count": null,
   "id": "a27584bf",
   "metadata": {},
   "outputs": [],
   "source": [
    "cs_presentation_time[\"video_cs_time\"] = cs_presentation_time[\"(S)CSpresentation\"] + cs_time_difference"
   ]
  },
  {
   "cell_type": "code",
   "execution_count": null,
   "id": "f1d06253",
   "metadata": {
    "scrolled": true
   },
   "outputs": [],
   "source": [
    "cs_presentation_time"
   ]
  },
  {
   "cell_type": "code",
   "execution_count": null,
   "id": "541fb754",
   "metadata": {},
   "outputs": [],
   "source": [
    "cs_presentation_time[\"video_cs_minute_only\"] = cs_presentation_time[\"video_cs_time\"] // 60\n",
    "cs_presentation_time[\"video_cs_second_only\"] = cs_presentation_time[\"video_cs_time\"] % 60\n"
   ]
  },
  {
   "cell_type": "markdown",
   "id": "785c1c99",
   "metadata": {},
   "source": [
    "# Converting the tone time to frames"
   ]
  },
  {
   "cell_type": "markdown",
   "id": "04bb0b60",
   "metadata": {},
   "source": [
    "- Getting the FPS of the video"
   ]
  },
  {
   "cell_type": "code",
   "execution_count": null,
   "id": "c0db6f01",
   "metadata": {},
   "outputs": [],
   "source": [
    "cam = cv2.VideoCapture(video_path)\n",
    "fps = cam.get(cv2.CAP_PROP_FPS)"
   ]
  },
  {
   "cell_type": "code",
   "execution_count": null,
   "id": "60bfbaa5",
   "metadata": {},
   "outputs": [],
   "source": [
    "fps"
   ]
  },
  {
   "cell_type": "code",
   "execution_count": null,
   "id": "f5f248d6",
   "metadata": {},
   "outputs": [],
   "source": [
    "2008/fps"
   ]
  },
  {
   "cell_type": "markdown",
   "id": "cf861d4b",
   "metadata": {},
   "source": [
    "- Calculating the frame number by multiplying the FPS by the time in the video"
   ]
  },
  {
   "cell_type": "code",
   "execution_count": null,
   "id": "e66cb8eb",
   "metadata": {},
   "outputs": [],
   "source": [
    "cs_presentation_time[\"video_cs_frame\"] = (cs_presentation_time[\"video_cs_time\"] * fps).astype(int)"
   ]
  },
  {
   "cell_type": "code",
   "execution_count": null,
   "id": "aa77e80c",
   "metadata": {},
   "outputs": [],
   "source": [
    "cs_presentation_time.head()"
   ]
  },
  {
   "cell_type": "code",
   "execution_count": null,
   "id": "fd809ea4",
   "metadata": {},
   "outputs": [],
   "source": [
    "cs_presentation_time.tail()"
   ]
  },
  {
   "cell_type": "code",
   "execution_count": null,
   "id": "fdcb6ce3",
   "metadata": {},
   "outputs": [],
   "source": [
    "cs_presentation_time.to_csv(\"./proc/cs_presentation_time.csv\")"
   ]
  },
  {
   "cell_type": "code",
   "execution_count": null,
   "id": "92616b70",
   "metadata": {},
   "outputs": [],
   "source": [
    "raise ValueError()"
   ]
  },
  {
   "cell_type": "markdown",
   "id": "6cbbfd9f",
   "metadata": {},
   "source": [
    "## Getting the estimated tone time"
   ]
  },
  {
   "cell_type": "code",
   "execution_count": null,
   "id": "2f9dd5be",
   "metadata": {},
   "outputs": [],
   "source": [
    "video_file_name_to_sub_dicts = defaultdict(dict)"
   ]
  },
  {
   "cell_type": "raw",
   "id": "1c13fe22",
   "metadata": {},
   "source": [
    "video_file_names = [\"10-03-22_Test_13_2-2v2-4.mp4\"\n",
    "\"10-03-22_Test_25_1-2v1-3.mp4\"\n",
    "\"10-03-22_Test_29_3-2v3-3.mp4\"\n",
    "\"10-03-22_Test_22_6-1v6-3.mp4\"\n",
    "\"10-03-22_Test_32_4-1v4-4.mp4\"\n",
    "\"10-03-22_Test_34_5-1v5-4.mp4\"]"
   ]
  },
  {
   "cell_type": "code",
   "execution_count": null,
   "id": "112ce2ed",
   "metadata": {},
   "outputs": [],
   "source": [
    "video_file_name_to_sub_dicts[\"10-03-22_Test_13_2-2v2-4.mp4\"][\"delay_in_seconds\"] = 11\n",
    "video_file_name_to_sub_dicts[\"10-03-22_Test_25_1-2v1-3.mp4\"][\"delay_in_seconds\"] = 8\n",
    "video_file_name_to_sub_dicts[\"10-03-22_Test_29_3-2v3-3.mp4\"][\"delay_in_seconds\"] = 7\n",
    "video_file_name_to_sub_dicts[\"10-03-22_Test_22_6-1v6-3.mp4\"][\"delay_in_seconds\"] = 9\n",
    "video_file_name_to_sub_dicts[\"10-03-22_Test_32_4-1v4-4.mp4\"][\"delay_in_seconds\"] = 7\n",
    "video_file_name_to_sub_dicts[\"10-03-22_Test_34_5-1v5-4.mp4\"][\"delay_in_seconds\"] = 7"
   ]
  },
  {
   "cell_type": "code",
   "execution_count": null,
   "id": "59b13c02",
   "metadata": {
    "scrolled": true
   },
   "outputs": [],
   "source": [
    "video_file_name_to_sub_dicts"
   ]
  },
  {
   "cell_type": "code",
   "execution_count": null,
   "id": "1a0d6d4b",
   "metadata": {},
   "outputs": [],
   "source": [
    "cs_presentation_time = cs_time_df[[\"(S)CSpresentation\", \"cs_minute_only\", \"cs_second_only\"]].copy()"
   ]
  },
  {
   "cell_type": "code",
   "execution_count": null,
   "id": "8a2718c0",
   "metadata": {},
   "outputs": [],
   "source": [
    "for video_relative_path in video_file_paths:\n",
    "    video_file_name = os.path.basename(video_relative_path)\n",
    "    video_full_path = os.path.abspath(video_relative_path)\n",
    "    if video_file_name in video_file_name_to_sub_dicts:\n",
    "        copy_cs_presentation_time = cs_presentation_time.copy()\n",
    "        copy_cs_presentation_time[\"video_file_name\"] = video_file_name\n",
    "        copy_cs_presentation_time[\"video_full_path\"] = video_full_path\n",
    "        copy_cs_presentation_time[\"estimated_cs_time_in_seconds\"] = copy_cs_presentation_time[\"(S)CSpresentation\"] + video_file_name_to_sub_dicts[video_file_name][\"delay_in_seconds\"]\n",
    "        \n",
    "        video_file_name_to_sub_dicts[video_file_name][\"cs_presentation_df\"] = copy_cs_presentation_time"
   ]
  },
  {
   "cell_type": "code",
   "execution_count": null,
   "id": "237d86b6",
   "metadata": {},
   "outputs": [],
   "source": [
    "video_file_name"
   ]
  },
  {
   "cell_type": "code",
   "execution_count": null,
   "id": "a9a7a3ff",
   "metadata": {},
   "outputs": [],
   "source": [
    "video_file_name_to_sub_dicts[video_file_name][\"cs_presentation_df\"]"
   ]
  },
  {
   "cell_type": "markdown",
   "id": "d2b5bd2d",
   "metadata": {},
   "source": [
    "# Doing this for all videos"
   ]
  },
  {
   "cell_type": "markdown",
   "id": "ebbf442f",
   "metadata": {},
   "source": [
    "## Calculating the estimated tone frame time"
   ]
  },
  {
   "cell_type": "code",
   "execution_count": null,
   "id": "7dfc08f2",
   "metadata": {
    "scrolled": true
   },
   "outputs": [],
   "source": [
    "video_file_paths"
   ]
  },
  {
   "cell_type": "code",
   "execution_count": null,
   "id": "46ba7d62",
   "metadata": {},
   "outputs": [],
   "source": [
    "for video_relative_path in video_file_paths:\n",
    "    video_file_name = os.path.basename(video_relative_path)\n",
    "    video_full_path = os.path.abspath(video_relative_path)\n",
    "\n",
    "    print(video_file_name)\n",
    "\n",
    "    if video_file_name in video_file_name_to_sub_dicts:\n",
    "        copy_cs_presentation_time = cs_presentation_time.copy()\n",
    "        copy_cs_presentation_time[\"video_file_name\"] = video_file_name\n",
    "        copy_cs_presentation_time[\"video_full_path\"] = video_full_path\n",
    "        copy_cs_presentation_time[\"estimated_cs_time_in_seconds\"] = copy_cs_presentation_time[\"(S)CSpresentation\"] + video_file_name_to_sub_dicts[video_file_name][\"delay_in_seconds\"]\n",
    "        copy_cs_presentation_time.insert(0, 'tone_number', range(1, 1 + len(copy_cs_presentation_time)))\n",
    "\n",
    "        video_file_name_to_sub_dicts[video_file_name][\"cs_presentation_df\"] = copy_cs_presentation_time\n",
    "        \n",
    "        \n",
    "        \n",
    "        cv2_video_object = cv2.VideoCapture(video_relative_path)\n",
    "        fps = cv2_video_object.get(cv2.CAP_PROP_FPS)\n",
    "        video_file_name_to_sub_dicts[video_file_name][\"fps\"] = fps\n",
    "        video_file_name_to_sub_dicts[video_file_name][\"cs_presentation_df\"][\"fps\"] = fps\n",
    "        video_file_name_to_sub_dicts[video_file_name][\"cs_presentation_df\"][\"estimated_cs_time_in_frames\"] = (video_file_name_to_sub_dicts[video_file_name][\"cs_presentation_df\"][\"estimated_cs_time_in_seconds\"] * fps)"
   ]
  },
  {
   "cell_type": "code",
   "execution_count": null,
   "id": "d59f75c5",
   "metadata": {},
   "outputs": [],
   "source": [
    "video_file_name_to_sub_dicts[video_file_name][\"cs_presentation_df\"]"
   ]
  },
  {
   "cell_type": "markdown",
   "id": "50647fd3",
   "metadata": {},
   "source": [
    "# Adding the actual frame times"
   ]
  },
  {
   "cell_type": "code",
   "execution_count": null,
   "id": "20544d76",
   "metadata": {},
   "outputs": [],
   "source": [
    "video_file_name_to_sub_dicts[\"10-03-22_Test_13_2-2v2-4.mp4\"][\"first_cs_presentation_frame\"] = 1771\n",
    "video_file_name_to_sub_dicts[\"10-03-22_Test_25_1-2v1-3.mp4\"][\"first_cs_presentation_frame\"] = 1685\n",
    "video_file_name_to_sub_dicts[\"10-03-22_Test_29_3-2v3-3.mp4\"][\"first_cs_presentation_frame\"] = 1669\n",
    "video_file_name_to_sub_dicts[\"10-03-22_Test_22_6-1v6-3.mp4\"][\"first_cs_presentation_frame\"] = 2055\n",
    "video_file_name_to_sub_dicts[\"10-03-22_Test_32_4-1v4-4.mp4\"][\"first_cs_presentation_frame\"] = 1669\n",
    "video_file_name_to_sub_dicts[\"10-03-22_Test_34_5-1v5-4.mp4\"][\"first_cs_presentation_frame\"] = 2008"
   ]
  },
  {
   "cell_type": "code",
   "execution_count": null,
   "id": "68ec2918",
   "metadata": {},
   "outputs": [],
   "source": [
    "for video_relative_path in video_file_paths:\n",
    "    video_file_name = os.path.basename(video_relative_path)\n",
    "    if video_file_name in video_file_name_to_sub_dicts:\n",
    "        first_cs_presentation_in_frames = video_file_name_to_sub_dicts[video_file_name][\"first_cs_presentation_frame\"]       \n",
    "        estimated_vs_actual_first_cs_presentation_in_frames_difference = first_cs_presentation_in_frames - video_file_name_to_sub_dicts[video_file_name][\"cs_presentation_df\"][\"estimated_cs_time_in_frames\"].iloc[0]\n",
    "        video_file_name_to_sub_dicts[video_file_name][\"cs_presentation_df\"][\"observed_cs_presentation_in_frame\"] = (video_file_name_to_sub_dicts[video_file_name][\"cs_presentation_df\"][\"estimated_cs_time_in_frames\"] + estimated_vs_actual_first_cs_presentation_in_frames_difference).round(0).astype(int)\n",
    "        video_file_name_to_sub_dicts[video_file_name][\"cs_presentation_df\"][\"observed_cs_presentation_in_seconds\"] = (video_file_name_to_sub_dicts[video_file_name][\"cs_presentation_df\"][\"observed_cs_presentation_in_frame\"] / video_file_name_to_sub_dicts[video_file_name][\"cs_presentation_df\"][\"fps\"]).round(2)\n",
    "        \n",
    "        video_file_name_to_sub_dicts[video_file_name][\"cs_presentation_df\"][\"10_seconds_before_cs_presentation_in_frame\"] = video_file_name_to_sub_dicts[video_file_name][\"cs_presentation_df\"][\"observed_cs_presentation_in_frame\"] - (10 * video_file_name_to_sub_dicts[video_file_name][\"cs_presentation_df\"][\"fps\"])\n",
    "        video_file_name_to_sub_dicts[video_file_name][\"cs_presentation_df\"][\"10_seconds_before_cs_presentation_in_frame\"] = (video_file_name_to_sub_dicts[video_file_name][\"cs_presentation_df\"][\"10_seconds_before_cs_presentation_in_frame\"]).round(0).astype(int)\n",
    "        \n",
    "        video_file_name_to_sub_dicts[video_file_name][\"cs_presentation_df\"][\"10_seconds_after_cs_presentation_in_frame\"] = video_file_name_to_sub_dicts[video_file_name][\"cs_presentation_df\"][\"observed_cs_presentation_in_frame\"] + (10 * video_file_name_to_sub_dicts[video_file_name][\"cs_presentation_df\"][\"fps\"])\n",
    "        video_file_name_to_sub_dicts[video_file_name][\"cs_presentation_df\"][\"10_seconds_after_cs_presentation_in_frame\"] = (video_file_name_to_sub_dicts[video_file_name][\"cs_presentation_df\"][\"10_seconds_after_cs_presentation_in_frame\"]).round(0).astype(int)\n",
    "        \n",
    "        video_file_name_to_sub_dicts[video_file_name][\"cs_presentation_df\"][\"10_seconds_after_cs_presentation_in_seconds\"] = video_file_name_to_sub_dicts[video_file_name][\"cs_presentation_df\"][\"10_seconds_after_cs_presentation_in_frame\"] / video_file_name_to_sub_dicts[video_file_name][\"cs_presentation_df\"][\"fps\"]\n",
    "        video_file_name_to_sub_dicts[video_file_name][\"cs_presentation_df\"][\"10_seconds_before_cs_presentation_in_seconds\"] = video_file_name_to_sub_dicts[video_file_name][\"cs_presentation_df\"][\"10_seconds_before_cs_presentation_in_frame\"] / video_file_name_to_sub_dicts[video_file_name][\"cs_presentation_df\"][\"fps\"]\n"
   ]
  },
  {
   "cell_type": "code",
   "execution_count": null,
   "id": "a37b020e",
   "metadata": {},
   "outputs": [],
   "source": [
    "video_file_name_to_sub_dicts[video_file_name][\"cs_presentation_df\"]"
   ]
  },
  {
   "cell_type": "code",
   "execution_count": null,
   "id": "bef7db68",
   "metadata": {},
   "outputs": [],
   "source": [
    "video_file_name_to_sub_dicts[\"10-03-22_Test_13_2-2v2-4.mp4\"][\"cs_presentation_df\"]"
   ]
  },
  {
   "cell_type": "markdown",
   "id": "78318ba8",
   "metadata": {},
   "source": [
    "# Preparing for the inference"
   ]
  },
  {
   "cell_type": "raw",
   "id": "5fa411c4",
   "metadata": {},
   "source": [
    "for video_relative_path in video_file_paths:\n",
    "    video_file_name = os.path.basename(video_relative_path)\n",
    "    if video_file_name in video_file_name_to_sub_dicts:\n",
    "        first_cs_presentation_in_frames = video_file_name_to_sub_dicts[video_file_name][\"first_cs_presentation_frame\"]       \n",
    "        estimated_vs_actual_first_cs_presentation_in_frames_difference = first_cs_presentation_in_frames - video_file_name_to_sub_dicts[video_file_name][\"cs_presentation_df\"][\"estimated_cs_time_in_frames\"].iloc[0]\n",
    "        video_file_name_to_sub_dicts[video_file_name][\"cs_presentation_df\"][\"observed_cs_presentation_in_frame\"] = (video_file_name_to_sub_dicts[video_file_name][\"cs_presentation_df\"][\"estimated_cs_time_in_frames\"] + estimated_vs_actual_first_cs_presentation_in_frames_difference).round(0).astype(int)\n",
    "        video_file_name_to_sub_dicts[video_file_name][\"cs_presentation_df\"][\"observed_cs_presentation_in_seconds\"] = (video_file_name_to_sub_dicts[video_file_name][\"cs_presentation_df\"][\"observed_cs_presentation_in_frame\"] / video_file_name_to_sub_dicts[video_file_name][\"cs_presentation_df\"][\"fps\"]).round(2)\n",
    "        \n",
    "        video_file_name_to_sub_dicts[video_file_name][\"cs_presentation_df\"][\"10_seconds_before_cs_presentation_in_frame\"] = video_file_name_to_sub_dicts[video_file_name][\"cs_presentation_df\"][\"observed_cs_presentation_in_frame\"] - (10 * video_file_name_to_sub_dicts[video_file_name][\"cs_presentation_df\"][\"fps\"])\n",
    "        video_file_name_to_sub_dicts[video_file_name][\"cs_presentation_df\"][\"10_seconds_before_cs_presentation_in_frame\"] = (video_file_name_to_sub_dicts[video_file_name][\"cs_presentation_df\"][\"10_seconds_before_cs_presentation_in_frame\"]).round(0).astype(int)\n",
    "        \n",
    "        video_file_name_to_sub_dicts[video_file_name][\"cs_presentation_df\"][\"10_seconds_after_cs_presentation_in_frame\"] = video_file_name_to_sub_dicts[video_file_name][\"cs_presentation_df\"][\"observed_cs_presentation_in_frame\"] + (10 * video_file_name_to_sub_dicts[video_file_name][\"cs_presentation_df\"][\"fps\"])\n",
    "        video_file_name_to_sub_dicts[video_file_name][\"cs_presentation_df\"][\"10_seconds_after_cs_presentation_in_frame\"] = (video_file_name_to_sub_dicts[video_file_name][\"cs_presentation_df\"][\"10_seconds_after_cs_presentation_in_frame\"]).round(0).astype(int)\n",
    "        \n",
    "        video_file_name_to_sub_dicts[video_file_name][\"cs_presentation_df\"][\"10_seconds_after_cs_presentation_in_seconds\"] = video_file_name_to_sub_dicts[video_file_name][\"cs_presentation_df\"][\"10_seconds_after_cs_presentation_in_frame\"] / video_file_name_to_sub_dicts[video_file_name][\"cs_presentation_df\"][\"fps\"]\n",
    "        video_file_name_to_sub_dicts[video_file_name][\"cs_presentation_df\"][\"10_seconds_before_cs_presentation_in_seconds\"] = video_file_name_to_sub_dicts[video_file_name][\"cs_presentation_df\"][\"10_seconds_before_cs_presentation_in_frame\"] / video_file_name_to_sub_dicts[video_file_name][\"cs_presentation_df\"][\"fps\"]\n"
   ]
  },
  {
   "cell_type": "code",
   "execution_count": null,
   "id": "8a28c796",
   "metadata": {},
   "outputs": [],
   "source": [
    "for video_relative_path in video_file_paths:\n",
    "    video_file_name = os.path.basename(video_relative_path)\n",
    "    if video_file_name in video_file_name_to_sub_dicts:\n",
    "        video_file_name_to_sub_dicts[video_file_name][\"cs_presentation_df\"][\"prediction_clip_output_dirname\"] = video_file_name_to_sub_dicts[video_file_name][\"cs_presentation_df\"].apply(lambda x: os.path.join(os.path.dirname(x[\"video_full_path\"]), Path(x[\"video_file_name\"]).stem), axis=1)\n",
    "        video_file_name_to_sub_dicts[video_file_name][\"cs_presentation_df\"][\"prediction_clip_output_full_path\"] = video_file_name_to_sub_dicts[video_file_name][\"cs_presentation_df\"].apply(lambda x: os.path.join(x[\"prediction_clip_output_dirname\"], \"{}.tone_{}.predictions.slp\".format(Path(x[\"video_file_name\"]), x[\"tone_number\"])), axis=1)\n"
   ]
  },
  {
   "cell_type": "code",
   "execution_count": null,
   "id": "45428a06",
   "metadata": {
    "scrolled": true
   },
   "outputs": [],
   "source": [
    "all_cs_presentation_dataframe[\"video_full_path\"].iloc[0]"
   ]
  },
  {
   "cell_type": "code",
   "execution_count": null,
   "id": "b74f781f",
   "metadata": {},
   "outputs": [],
   "source": []
  },
  {
   "cell_type": "code",
   "execution_count": null,
   "id": "e4a40e3a",
   "metadata": {
    "scrolled": true
   },
   "outputs": [],
   "source": [
    "video_file_name_to_sub_dicts[video_file_name][\"cs_presentation_df\"]"
   ]
  },
  {
   "cell_type": "code",
   "execution_count": null,
   "id": "62be07ce",
   "metadata": {},
   "outputs": [],
   "source": [
    "video_file_name_to_sub_dicts[video_file_name][\"cs_presentation_df\"][\"prediction_clip_output_full_path\"].iloc[0]"
   ]
  },
  {
   "cell_type": "code",
   "execution_count": null,
   "id": "95622f66",
   "metadata": {},
   "outputs": [],
   "source": [
    "for video_relative_path in video_file_paths:\n",
    "    video_file_name = os.path.basename(video_relative_path)\n",
    "    if video_file_name in video_file_name_to_sub_dicts:\n",
    "        first_cs_presentation_in_frames = video_file_name_to_sub_dicts[video_file_name][\"first_cs_presentation_frame\"]       \n",
    "        estimated_vs_actual_first_cs_presentation_in_frames_difference = first_cs_presentation_in_frames - video_file_name_to_sub_dicts[video_file_name][\"cs_presentation_df\"][\"estimated_cs_time_in_frames\"].iloc[0]\n",
    "        video_file_name_to_sub_dicts[video_file_name][\"cs_presentation_df\"].to_csv(\"./proc/{}.cs_presentation_frame_numbers.csv\".format(video_file_name))"
   ]
  },
  {
   "cell_type": "markdown",
   "id": "9be40a03",
   "metadata": {},
   "source": [
    "- Combining all the videos"
   ]
  },
  {
   "cell_type": "code",
   "execution_count": null,
   "id": "e3ed321d",
   "metadata": {},
   "outputs": [],
   "source": [
    "raise ValueError()"
   ]
  },
  {
   "cell_type": "code",
   "execution_count": null,
   "id": "ab5bfe06",
   "metadata": {},
   "outputs": [],
   "source": [
    "all_cs_presentation_df_list = []\n",
    "for video_relative_path in video_file_paths:\n",
    "    video_file_name = os.path.basename(video_relative_path)\n",
    "    if video_file_name in video_file_name_to_sub_dicts:\n",
    "        all_cs_presentation_df_list.append(video_file_name_to_sub_dicts[video_file_name][\"cs_presentation_df\"])"
   ]
  },
  {
   "cell_type": "code",
   "execution_count": null,
   "id": "ca2c43fc",
   "metadata": {},
   "outputs": [],
   "source": [
    "all_cs_presentation_df_list"
   ]
  },
  {
   "cell_type": "code",
   "execution_count": null,
   "id": "242feb62",
   "metadata": {},
   "outputs": [],
   "source": [
    "all_cs_presentation_dataframe = pd.concat(all_cs_presentation_df_list)"
   ]
  },
  {
   "cell_type": "code",
   "execution_count": null,
   "id": "91f7c024",
   "metadata": {},
   "outputs": [],
   "source": [
    "all_cs_presentation_dataframe"
   ]
  },
  {
   "cell_type": "code",
   "execution_count": null,
   "id": "46f891f7",
   "metadata": {},
   "outputs": [],
   "source": [
    "all_cs_presentation_dataframe[\"video_file_name\"].unique()"
   ]
  },
  {
   "cell_type": "code",
   "execution_count": null,
   "id": "e5eddbbb",
   "metadata": {},
   "outputs": [],
   "source": [
    "all_cs_presentation_dataframe.to_csv(\"./proc/cs_presentation_frame_numbers.csv\")"
   ]
  },
  {
   "cell_type": "markdown",
   "id": "d02231ed",
   "metadata": {},
   "source": [
    "- Trimming the video"
   ]
  },
  {
   "cell_type": "code",
   "execution_count": null,
   "id": "241682f6",
   "metadata": {},
   "outputs": [],
   "source": [
    "for index, row in all_cs_presentation_dataframe.iterrows():\n",
    "    os.makedirs(row[\"tone_clip_output_dirname\"], exist_ok=True)\n",
    "    video_object = VideoFileClip(row[\"video_full_path\"])\n",
    "    cs_trimmed_video = video_object.subclip(row[\"10_seconds_before_cs_presentation_in_seconds\"], row[\"10_seconds_after_cs_presentation_in_seconds\"])\n",
    "    cs_trimmed_video.to_videofile(row[\"tone_clip_output_full_path\"])"
   ]
  },
  {
   "cell_type": "code",
   "execution_count": null,
   "id": "2eb8fbee",
   "metadata": {},
   "outputs": [],
   "source": [
    "raise ValueError()"
   ]
  },
  {
   "cell_type": "code",
   "execution_count": null,
   "id": "e3f90100",
   "metadata": {},
   "outputs": [],
   "source": [
    "video_object = VideoFileClip(video_path)"
   ]
  },
  {
   "cell_type": "code",
   "execution_count": null,
   "id": "1360d5a8",
   "metadata": {},
   "outputs": [],
   "source": [
    "video_object.duration"
   ]
  },
  {
   "cell_type": "markdown",
   "id": "b27e7765",
   "metadata": {},
   "source": [
    "fixed func issue with: https://github.com/Zulko/moviepy/issues/1765\n"
   ]
  },
  {
   "cell_type": "code",
   "execution_count": null,
   "id": "1bf0179a",
   "metadata": {},
   "outputs": [],
   "source": [
    "video_path"
   ]
  },
  {
   "cell_type": "code",
   "execution_count": null,
   "id": "5f53036b",
   "metadata": {},
   "outputs": [],
   "source": [
    "file_name = os.path.basename(video_path)\n",
    "file_name_without_extention = os.path.splitext(file_name)[0]\n",
    "file_name_without_extention = \"_\".join(file_name_without_extention.split())"
   ]
  },
  {
   "cell_type": "code",
   "execution_count": null,
   "id": "82cf8f26",
   "metadata": {},
   "outputs": [],
   "source": [
    "file_name_without_extention"
   ]
  },
  {
   "cell_type": "code",
   "execution_count": null,
   "id": "282b3da1",
   "metadata": {},
   "outputs": [],
   "source": [
    "clip_output_dir = \"./data/videos/tone_clips/\""
   ]
  },
  {
   "cell_type": "code",
   "execution_count": null,
   "id": "faf4cd2d",
   "metadata": {},
   "outputs": [],
   "source": [
    "current_clip_output_dir = os.path.join(clip_output_dir, file_name_without_extention)\n",
    "os.makedirs(current_clip_output_dir, exist_ok=True)"
   ]
  },
  {
   "cell_type": "code",
   "execution_count": null,
   "id": "05ee8875",
   "metadata": {},
   "outputs": [],
   "source": [
    "for index, row in all_cs_presentation_dataframe.iterrows():\n",
    "    cs_trimmed_video = video_object.subclip(row[\"estimated_cs_time_in_seconds\"] - 5, row[\"estimated_cs_time_in_seconds\"] + 15)\n",
    "    cs_trimmed_file_name = \"cs_number_{:02d}_date_{}.mp4\".format(index + 1, file_name_without_extention)\n",
    "    print(cs_trimmed_file_name)\n",
    "    cs_trimmed_video.to_videofile(os.path.join(current_clip_output_dir, cs_trimmed_file_name))"
   ]
  },
  {
   "cell_type": "code",
   "execution_count": null,
   "id": "87a629fe",
   "metadata": {},
   "outputs": [],
   "source": [
    "cs_trimmed_times_name = \"cs_times_{}_.csv\".format(file_name_without_extention)\n"
   ]
  },
  {
   "cell_type": "code",
   "execution_count": null,
   "id": "c791906b",
   "metadata": {},
   "outputs": [],
   "source": [
    "cs_presentation_time.to_csv(os.path.join(current_clip_output_dir, cs_trimmed_times_name))"
   ]
  },
  {
   "cell_type": "code",
   "execution_count": null,
   "id": "280d8343",
   "metadata": {},
   "outputs": [],
   "source": []
  }
 ],
 "metadata": {
  "kernelspec": {
   "display_name": "Python 3 (ipykernel)",
   "language": "python",
   "name": "python3"
  },
  "language_info": {
   "codemirror_mode": {
    "name": "ipython",
    "version": 3
   },
   "file_extension": ".py",
   "mimetype": "text/x-python",
   "name": "python",
   "nbconvert_exporter": "python",
   "pygments_lexer": "ipython3",
   "version": "3.9.16"
  }
 },
 "nbformat": 4,
 "nbformat_minor": 5
}
