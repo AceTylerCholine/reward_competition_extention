{
 "cells": [
  {
   "cell_type": "markdown",
   "metadata": {
    "cell_id": "c3a02adc9e884466bc8c79db549cc3d2",
    "deepnote_cell_type": "text-cell-h1",
    "formattedRanges": [
     {
      "fromCodePoint": 0,
      "marks": {
       "bold": true,
       "underline": true
      },
      "toCodePoint": 17,
      "type": "marks"
     }
    ]
   },
   "source": [
    "# Calculate and Parse LFP with velocity"
   ]
  },
  {
   "cell_type": "markdown",
   "metadata": {
    "cell_id": "4546bee655b14a5dbf393161f1228e60",
    "deepnote_cell_type": "text-cell-p",
    "formattedRanges": []
   },
   "source": [
    "Brief 1-2 sentence description of notebook."
   ]
  },
  {
   "cell_type": "code",
   "execution_count": 1,
   "metadata": {},
   "outputs": [],
   "source": [
    "import warnings\n",
    "warnings.filterwarnings('ignore')"
   ]
  },
  {
   "cell_type": "code",
   "execution_count": 2,
   "metadata": {},
   "outputs": [],
   "source": [
    "import os"
   ]
  },
  {
   "cell_type": "raw",
   "metadata": {},
   "source": [
    "os.environ[\"SPECTRAL_CONNECTIVITY_ENABLE_GPU\"] = \"true\"\n",
    "import cupy as cp"
   ]
  },
  {
   "cell_type": "code",
   "execution_count": 3,
   "metadata": {
    "cell_id": "03b495cefa6a4798a44c7f2e4c6a3ea7",
    "deepnote_cell_type": "code",
    "deepnote_to_be_reexecuted": false,
    "execution_millis": 21,
    "execution_start": 1691424003626,
    "source_hash": null
   },
   "outputs": [],
   "source": [
    "# Imports of all used packages and libraries\n",
    "import numpy as np\n",
    "import pandas as pd\n",
    "import matplotlib.pyplot as plt\n",
    "import matplotlib.cm as cm\n",
    "import seaborn as sns\n",
    "from scipy import stats\n",
    "import itertools"
   ]
  },
  {
   "cell_type": "code",
   "execution_count": 4,
   "metadata": {},
   "outputs": [],
   "source": [
    "from spectral_connectivity import Multitaper, Connectivity\n",
    "import spectral_connectivity"
   ]
  },
  {
   "cell_type": "code",
   "execution_count": 5,
   "metadata": {},
   "outputs": [],
   "source": [
    "import collections"
   ]
  },
  {
   "cell_type": "code",
   "execution_count": 6,
   "metadata": {},
   "outputs": [],
   "source": [
    "import matplotlib"
   ]
  },
  {
   "cell_type": "code",
   "execution_count": 7,
   "metadata": {},
   "outputs": [],
   "source": [
    "font = {'weight' : 'bold',\n",
    "        'size'   : 12}\n",
    "\n",
    "matplotlib.rc('font', **font)"
   ]
  },
  {
   "cell_type": "markdown",
   "metadata": {
    "cell_id": "d290bac2c17940bfbc0f9296beaf70e5",
    "deepnote_cell_type": "text-cell-h2",
    "formattedRanges": []
   },
   "source": [
    "## Inputs & Data"
   ]
  },
  {
   "cell_type": "markdown",
   "metadata": {
    "cell_id": "e528ce19c608425292151930d380f49f",
    "deepnote_cell_type": "text-cell-p",
    "formattedRanges": []
   },
   "source": [
    "Explanation of each input and where it comes from."
   ]
  },
  {
   "cell_type": "code",
   "execution_count": 8,
   "metadata": {
    "cell_id": "6cf83a5811054461a718a71673d09aab",
    "deepnote_cell_type": "code",
    "deepnote_to_be_reexecuted": false,
    "execution_millis": 373,
    "execution_start": 1691424003628,
    "source_hash": null
   },
   "outputs": [],
   "source": [
    "# Inputs and Required data loading\n",
    "# input varaible names are in all caps snake case\n",
    "# Whenever an input changes or is used for processing \n",
    "# the vairables are all lower in snake case\n",
    "OUTPUT_DIR = r\"./proc\" # where data is saved should always be shown in the inputs"
   ]
  },
  {
   "cell_type": "code",
   "execution_count": 9,
   "metadata": {},
   "outputs": [],
   "source": [
    "CHANNEL_MAP_AND_ALL_TRIALS_DF = pd.read_pickle(\"./proc/full_baseline_and_trial_lfp_traces.pkl\")\n",
    "MERGED_TRIALS_AND_VIDEO = pd.read_pickle(\"./proc/trial_SLEAP_and_metadata.pkl\")"
   ]
  },
  {
   "cell_type": "code",
   "execution_count": 10,
   "metadata": {},
   "outputs": [],
   "source": [
    "OUTCOME_TO_COLOR = {'lose': \"#951a1d\",\n",
    " 'omission': \"#af780d\",\n",
    " 'rewarded': \"#0499af\",\n",
    " 'win': \"#3853a3\",\n",
    "'lose_comp': \"#951a1d\",\n",
    " 'win_comp': \"#3853a3\",\n",
    "'lose_non_comp': \"#e67073\",\n",
    " 'win_non_comp': \"#93a5da\"}"
   ]
  },
  {
   "cell_type": "code",
   "execution_count": 11,
   "metadata": {},
   "outputs": [],
   "source": [
    "TRIAL_OR_BASELINE_TO_STYLE = {'baseline': \"--\", \"trial\": \"-\"}"
   ]
  },
  {
   "cell_type": "code",
   "execution_count": 12,
   "metadata": {},
   "outputs": [],
   "source": [
    "TIME_HALFBANDWIDTH_PRODUCT = 2\n",
    "TIME_WINDOW_DURATION = 1\n",
    "TIME_WINDOW_STEP = 0.1\n",
    "RESAMPLE_RATE=1000"
   ]
  },
  {
   "cell_type": "code",
   "execution_count": 13,
   "metadata": {},
   "outputs": [],
   "source": [
    "BIN_TO_VELOCITY = {0: \"0 to 2.5cm/s\", 1: \"2.5 to 5cm/s\", 2: \"5 to 10 cm/s\", 3: \"10cm/s+\"}"
   ]
  },
  {
   "cell_type": "code",
   "execution_count": 14,
   "metadata": {},
   "outputs": [],
   "source": [
    "ALL_BANDS = [\"theta\", \"beta\", \"gamma\"]\n",
    "BAND_TO_FREQ = {\"theta\": {\"low_freq\": 6, \"high_freq\": 11}, \"beta\": {\"low_freq\": 20, \"high_freq\": 31}, \"gamma\": {\"low_freq\": 30, \"high_freq\": 51}}\n",
    "BAND_TO_FREQ = {\"theta\": (6,11), \"beta\": (20,31), \"gamma\": (30,51)}"
   ]
  },
  {
   "cell_type": "code",
   "execution_count": 15,
   "metadata": {},
   "outputs": [
    {
     "data": {
      "text/html": [
       "<div>\n",
       "<style scoped>\n",
       "    .dataframe tbody tr th:only-of-type {\n",
       "        vertical-align: middle;\n",
       "    }\n",
       "\n",
       "    .dataframe tbody tr th {\n",
       "        vertical-align: top;\n",
       "    }\n",
       "\n",
       "    .dataframe thead th {\n",
       "        text-align: right;\n",
       "    }\n",
       "</style>\n",
       "<table border=\"1\" class=\"dataframe\">\n",
       "  <thead>\n",
       "    <tr style=\"text-align: right;\">\n",
       "      <th></th>\n",
       "      <th>time</th>\n",
       "      <th>recording_dir</th>\n",
       "      <th>recording_file</th>\n",
       "      <th>time_stamp_index</th>\n",
       "      <th>video_file</th>\n",
       "      <th>video_frame</th>\n",
       "      <th>video_number</th>\n",
       "      <th>subject_info</th>\n",
       "      <th>competition_closeness</th>\n",
       "      <th>video_name</th>\n",
       "      <th>...</th>\n",
       "      <th>baseline-trial_subject_thorax-to-agent_distance_chunked</th>\n",
       "      <th>baseline_subject_thorax-to-agent_distance_binned</th>\n",
       "      <th>trial_subject_thorax-to-agent_distance_binned</th>\n",
       "      <th>baseline-trial_subject_thorax-to-agent_distance_binned</th>\n",
       "      <th>baseline_subject-agent_to-reward-port-distance-ratio_chunked</th>\n",
       "      <th>trial_subject-agent_to-reward-port-distance-ratio_chunked</th>\n",
       "      <th>baseline-trial_subject-agent_to-reward-port-distance-ratio_chunked</th>\n",
       "      <th>baseline_subject-agent_to-reward-port-distance-ratio_binned</th>\n",
       "      <th>trial_subject-agent_to-reward-port-distance-ratio_binned</th>\n",
       "      <th>baseline-trial_subject-agent_to-reward-port-distance-ratio_binned</th>\n",
       "    </tr>\n",
       "  </thead>\n",
       "  <tbody>\n",
       "    <tr>\n",
       "      <th>0</th>\n",
       "      <td>30950500</td>\n",
       "      <td>20221214_125409_om_and_comp_6_1_and_6_3</td>\n",
       "      <td>20221214_125409_om_and_comp_6_1_top_1_base_2_v...</td>\n",
       "      <td>27998597</td>\n",
       "      <td>20221214_125409_om_and_comp_6_1_and_6_3.1.vide...</td>\n",
       "      <td>28574</td>\n",
       "      <td>1.0</td>\n",
       "      <td>6_1_top_1_base_2_vs_6_3</td>\n",
       "      <td>win_non_comp</td>\n",
       "      <td>20221214_125409_om_and_comp_6_1_and_6_3.1</td>\n",
       "      <td>...</td>\n",
       "      <td>[24.979701762391695, 22.97606870054344, 21.618...</td>\n",
       "      <td>[1, 1, 1, 1, 1, 1, 1, 1, 1, 1, 1, 1, 1, 1, 1, ...</td>\n",
       "      <td>[1, 1, 1, 1, 1, 1, 1, 1, 1, 1, 1, 1, 1, 1, 1, ...</td>\n",
       "      <td>[1, 1, 1, 1, 1, 1, 1, 1, 1, 1, 1, 1, 1, 1, 1, ...</td>\n",
       "      <td>[0.07685848975558031, 0.1003391658674107, 0.10...</td>\n",
       "      <td>[0.799555206323743, 2.13297822194092, 3.238672...</td>\n",
       "      <td>[0.07685848975558031, 0.1003391658674107, 0.10...</td>\n",
       "      <td>[0, 0, 0, 0, 0, 0, 0, 0, 0, 0, 0, 0, 0, 0, 0, ...</td>\n",
       "      <td>[0, 0, 0, 0, 0, 0, 0, 0, 0, 0, 0, 0, 0, 0, 0, ...</td>\n",
       "      <td>[0, 0, 0, 0, 0, 0, 0, 0, 0, 0, 0, 0, 0, 0, 0, ...</td>\n",
       "    </tr>\n",
       "    <tr>\n",
       "      <th>1</th>\n",
       "      <td>32550496</td>\n",
       "      <td>20221214_125409_om_and_comp_6_1_and_6_3</td>\n",
       "      <td>20221214_125409_om_and_comp_6_1_top_1_base_2_v...</td>\n",
       "      <td>29598593</td>\n",
       "      <td>20221214_125409_om_and_comp_6_1_and_6_3.1.vide...</td>\n",
       "      <td>30569</td>\n",
       "      <td>1.0</td>\n",
       "      <td>6_1_top_1_base_2_vs_6_3</td>\n",
       "      <td>win_non_comp</td>\n",
       "      <td>20221214_125409_om_and_comp_6_1_and_6_3.1</td>\n",
       "      <td>...</td>\n",
       "      <td>[17.180542025000065, 15.67928472897514, 16.254...</td>\n",
       "      <td>[1, 1, 1, 1, 1, 1, 1, 1, 1, 1, 1, 1, 1, 1, 1, ...</td>\n",
       "      <td>[1, 1, 1, 1, 1, 1, 1, 1, 1, 1, 1, 1, 1, 1, 1, ...</td>\n",
       "      <td>[1, 1, 1, 1, 1, 1, 1, 1, 1, 1, 1, 1, 1, 1, 1, ...</td>\n",
       "      <td>[0.11861875495254547, 0.12029190228627576, 0.1...</td>\n",
       "      <td>[0.15572270056543616, 0.10222129722911243, 0.0...</td>\n",
       "      <td>[0.11861875495254547, 0.12029190228627576, 0.1...</td>\n",
       "      <td>[0, 0, 0, 0, 0, 0, 0, 0, 0, 0, 0, 0, 0, 0, 0, ...</td>\n",
       "      <td>[0, 0, 0, 0, 0, 0, 0, 0, 0, 0, 0, 0, 0, 0, 0, ...</td>\n",
       "      <td>[0, 0, 0, 0, 0, 0, 0, 0, 0, 0, 0, 0, 0, 0, 0, ...</td>\n",
       "    </tr>\n",
       "    <tr>\n",
       "      <th>2</th>\n",
       "      <td>34350494</td>\n",
       "      <td>20221214_125409_om_and_comp_6_1_and_6_3</td>\n",
       "      <td>20221214_125409_om_and_comp_6_1_top_1_base_2_v...</td>\n",
       "      <td>31398591</td>\n",
       "      <td>20221214_125409_om_and_comp_6_1_and_6_3.1.vide...</td>\n",
       "      <td>32813</td>\n",
       "      <td>1.0</td>\n",
       "      <td>6_1_top_1_base_2_vs_6_3</td>\n",
       "      <td>win_non_comp</td>\n",
       "      <td>20221214_125409_om_and_comp_6_1_and_6_3.1</td>\n",
       "      <td>...</td>\n",
       "      <td>[10.481987827455116, 13.904524717531153, 20.77...</td>\n",
       "      <td>[1, 1, 1, 1, 1, 1, 1, 1, 1, 1, 1, 1, 1, 1, 1, ...</td>\n",
       "      <td>[1, 1, 1, 1, 1, 1, 1, 1, 1, 1, 1, 1, 1, 1, 1, ...</td>\n",
       "      <td>[1, 1, 1, 1, 1, 1, 1, 1, 1, 1, 1, 1, 1, 1, 1, ...</td>\n",
       "      <td>[0.17237067317464214, 0.11794679333842759, 0.1...</td>\n",
       "      <td>[0.11035872114328305, 0.10949816125115958, 0.0...</td>\n",
       "      <td>[0.17237067317464214, 0.11794679333842759, 0.1...</td>\n",
       "      <td>[0, 0, 0, 0, 0, 0, 0, 0, 0, 0, 0, 0, 0, 0, 0, ...</td>\n",
       "      <td>[0, 0, 0, 0, 0, 0, 0, 0, 0, 0, 0, 0, 0, 0, 0, ...</td>\n",
       "      <td>[0, 0, 0, 0, 0, 0, 0, 0, 0, 0, 0, 0, 0, 0, 0, ...</td>\n",
       "    </tr>\n",
       "    <tr>\n",
       "      <th>3</th>\n",
       "      <td>35950496</td>\n",
       "      <td>20221214_125409_om_and_comp_6_1_and_6_3</td>\n",
       "      <td>20221214_125409_om_and_comp_6_1_top_1_base_2_v...</td>\n",
       "      <td>32998593</td>\n",
       "      <td>20221214_125409_om_and_comp_6_1_and_6_3.1.vide...</td>\n",
       "      <td>34807</td>\n",
       "      <td>1.0</td>\n",
       "      <td>6_1_top_1_base_2_vs_6_3</td>\n",
       "      <td>win_non_comp</td>\n",
       "      <td>20221214_125409_om_and_comp_6_1_and_6_3.1</td>\n",
       "      <td>...</td>\n",
       "      <td>[13.743103594851767, 13.8505713096129, 12.9344...</td>\n",
       "      <td>[1, 1, 1, 1, 1, 1, 1, 1, 1, 1, 1, 1, 1, 1, 1, ...</td>\n",
       "      <td>[1, 1, 1, 1, 1, 1, 1, 1, 1, 1, 1, 1, 1, 1, 1, ...</td>\n",
       "      <td>[1, 1, 1, 1, 1, 1, 1, 1, 1, 1, 1, 1, 1, 1, 1, ...</td>\n",
       "      <td>[0.19830815990682205, 0.21011648430351057, 0.2...</td>\n",
       "      <td>[0.0964704025249825, 0.08519405428881494, 0.09...</td>\n",
       "      <td>[0.19830815990682205, 0.21011648430351057, 0.2...</td>\n",
       "      <td>[0, 0, 0, 0, 0, 0, 0, 0, 0, 0, 0, 0, 0, 0, 0, ...</td>\n",
       "      <td>[0, 0, 0, 0, 0, 0, 0, 0, 0, 0, 0, 0, 0, 0, 0, ...</td>\n",
       "      <td>[0, 0, 0, 0, 0, 0, 0, 0, 0, 0, 0, 0, 0, 0, 0, ...</td>\n",
       "    </tr>\n",
       "    <tr>\n",
       "      <th>4</th>\n",
       "      <td>37450494</td>\n",
       "      <td>20221214_125409_om_and_comp_6_1_and_6_3</td>\n",
       "      <td>20221214_125409_om_and_comp_6_1_top_1_base_2_v...</td>\n",
       "      <td>34498591</td>\n",
       "      <td>20221214_125409_om_and_comp_6_1_and_6_3.1.vide...</td>\n",
       "      <td>36677</td>\n",
       "      <td>1.0</td>\n",
       "      <td>6_1_top_1_base_2_vs_6_3</td>\n",
       "      <td>win_non_comp</td>\n",
       "      <td>20221214_125409_om_and_comp_6_1_and_6_3.1</td>\n",
       "      <td>...</td>\n",
       "      <td>[25.23454020309797, 25.108996390924958, 25.390...</td>\n",
       "      <td>[1, 1, 1, 1, 1, 1, 1, 1, 1, 1, 1, 1, 1, 1, 1, ...</td>\n",
       "      <td>[1, 1, 1, 1, 1, 1, 1, 1, 1, 1, 1, 1, 1, 1, 1, ...</td>\n",
       "      <td>[1, 1, 1, 1, 1, 1, 1, 1, 1, 1, 1, 1, 1, 1, 1, ...</td>\n",
       "      <td>[0.07701991514325422, 0.07278014127330514, 0.0...</td>\n",
       "      <td>[0.09144661855197261, 0.0901754061040929, 0.10...</td>\n",
       "      <td>[0.07701991514325422, 0.07278014127330514, 0.0...</td>\n",
       "      <td>[0, 0, 0, 0, 0, 0, 0, 0, 0, 0, 0, 0, 0, 0, 0, ...</td>\n",
       "      <td>[0, 0, 0, 0, 0, 0, 0, 0, 0, 0, 0, 0, 0, 0, 0, ...</td>\n",
       "      <td>[0, 0, 0, 0, 0, 0, 0, 0, 0, 0, 0, 0, 0, 0, 0, ...</td>\n",
       "    </tr>\n",
       "  </tbody>\n",
       "</table>\n",
       "<p>5 rows × 94 columns</p>\n",
       "</div>"
      ],
      "text/plain": [
       "       time                            recording_dir  \\\n",
       "0  30950500  20221214_125409_om_and_comp_6_1_and_6_3   \n",
       "1  32550496  20221214_125409_om_and_comp_6_1_and_6_3   \n",
       "2  34350494  20221214_125409_om_and_comp_6_1_and_6_3   \n",
       "3  35950496  20221214_125409_om_and_comp_6_1_and_6_3   \n",
       "4  37450494  20221214_125409_om_and_comp_6_1_and_6_3   \n",
       "\n",
       "                                      recording_file  time_stamp_index  \\\n",
       "0  20221214_125409_om_and_comp_6_1_top_1_base_2_v...          27998597   \n",
       "1  20221214_125409_om_and_comp_6_1_top_1_base_2_v...          29598593   \n",
       "2  20221214_125409_om_and_comp_6_1_top_1_base_2_v...          31398591   \n",
       "3  20221214_125409_om_and_comp_6_1_top_1_base_2_v...          32998593   \n",
       "4  20221214_125409_om_and_comp_6_1_top_1_base_2_v...          34498591   \n",
       "\n",
       "                                          video_file  video_frame  \\\n",
       "0  20221214_125409_om_and_comp_6_1_and_6_3.1.vide...        28574   \n",
       "1  20221214_125409_om_and_comp_6_1_and_6_3.1.vide...        30569   \n",
       "2  20221214_125409_om_and_comp_6_1_and_6_3.1.vide...        32813   \n",
       "3  20221214_125409_om_and_comp_6_1_and_6_3.1.vide...        34807   \n",
       "4  20221214_125409_om_and_comp_6_1_and_6_3.1.vide...        36677   \n",
       "\n",
       "   video_number             subject_info competition_closeness  \\\n",
       "0           1.0  6_1_top_1_base_2_vs_6_3          win_non_comp   \n",
       "1           1.0  6_1_top_1_base_2_vs_6_3          win_non_comp   \n",
       "2           1.0  6_1_top_1_base_2_vs_6_3          win_non_comp   \n",
       "3           1.0  6_1_top_1_base_2_vs_6_3          win_non_comp   \n",
       "4           1.0  6_1_top_1_base_2_vs_6_3          win_non_comp   \n",
       "\n",
       "                                  video_name  ...  \\\n",
       "0  20221214_125409_om_and_comp_6_1_and_6_3.1  ...   \n",
       "1  20221214_125409_om_and_comp_6_1_and_6_3.1  ...   \n",
       "2  20221214_125409_om_and_comp_6_1_and_6_3.1  ...   \n",
       "3  20221214_125409_om_and_comp_6_1_and_6_3.1  ...   \n",
       "4  20221214_125409_om_and_comp_6_1_and_6_3.1  ...   \n",
       "\n",
       "  baseline-trial_subject_thorax-to-agent_distance_chunked  \\\n",
       "0  [24.979701762391695, 22.97606870054344, 21.618...        \n",
       "1  [17.180542025000065, 15.67928472897514, 16.254...        \n",
       "2  [10.481987827455116, 13.904524717531153, 20.77...        \n",
       "3  [13.743103594851767, 13.8505713096129, 12.9344...        \n",
       "4  [25.23454020309797, 25.108996390924958, 25.390...        \n",
       "\n",
       "    baseline_subject_thorax-to-agent_distance_binned  \\\n",
       "0  [1, 1, 1, 1, 1, 1, 1, 1, 1, 1, 1, 1, 1, 1, 1, ...   \n",
       "1  [1, 1, 1, 1, 1, 1, 1, 1, 1, 1, 1, 1, 1, 1, 1, ...   \n",
       "2  [1, 1, 1, 1, 1, 1, 1, 1, 1, 1, 1, 1, 1, 1, 1, ...   \n",
       "3  [1, 1, 1, 1, 1, 1, 1, 1, 1, 1, 1, 1, 1, 1, 1, ...   \n",
       "4  [1, 1, 1, 1, 1, 1, 1, 1, 1, 1, 1, 1, 1, 1, 1, ...   \n",
       "\n",
       "       trial_subject_thorax-to-agent_distance_binned  \\\n",
       "0  [1, 1, 1, 1, 1, 1, 1, 1, 1, 1, 1, 1, 1, 1, 1, ...   \n",
       "1  [1, 1, 1, 1, 1, 1, 1, 1, 1, 1, 1, 1, 1, 1, 1, ...   \n",
       "2  [1, 1, 1, 1, 1, 1, 1, 1, 1, 1, 1, 1, 1, 1, 1, ...   \n",
       "3  [1, 1, 1, 1, 1, 1, 1, 1, 1, 1, 1, 1, 1, 1, 1, ...   \n",
       "4  [1, 1, 1, 1, 1, 1, 1, 1, 1, 1, 1, 1, 1, 1, 1, ...   \n",
       "\n",
       "   baseline-trial_subject_thorax-to-agent_distance_binned  \\\n",
       "0  [1, 1, 1, 1, 1, 1, 1, 1, 1, 1, 1, 1, 1, 1, 1, ...        \n",
       "1  [1, 1, 1, 1, 1, 1, 1, 1, 1, 1, 1, 1, 1, 1, 1, ...        \n",
       "2  [1, 1, 1, 1, 1, 1, 1, 1, 1, 1, 1, 1, 1, 1, 1, ...        \n",
       "3  [1, 1, 1, 1, 1, 1, 1, 1, 1, 1, 1, 1, 1, 1, 1, ...        \n",
       "4  [1, 1, 1, 1, 1, 1, 1, 1, 1, 1, 1, 1, 1, 1, 1, ...        \n",
       "\n",
       "  baseline_subject-agent_to-reward-port-distance-ratio_chunked  \\\n",
       "0  [0.07685848975558031, 0.1003391658674107, 0.10...             \n",
       "1  [0.11861875495254547, 0.12029190228627576, 0.1...             \n",
       "2  [0.17237067317464214, 0.11794679333842759, 0.1...             \n",
       "3  [0.19830815990682205, 0.21011648430351057, 0.2...             \n",
       "4  [0.07701991514325422, 0.07278014127330514, 0.0...             \n",
       "\n",
       "  trial_subject-agent_to-reward-port-distance-ratio_chunked  \\\n",
       "0  [0.799555206323743, 2.13297822194092, 3.238672...          \n",
       "1  [0.15572270056543616, 0.10222129722911243, 0.0...          \n",
       "2  [0.11035872114328305, 0.10949816125115958, 0.0...          \n",
       "3  [0.0964704025249825, 0.08519405428881494, 0.09...          \n",
       "4  [0.09144661855197261, 0.0901754061040929, 0.10...          \n",
       "\n",
       "  baseline-trial_subject-agent_to-reward-port-distance-ratio_chunked  \\\n",
       "0  [0.07685848975558031, 0.1003391658674107, 0.10...                   \n",
       "1  [0.11861875495254547, 0.12029190228627576, 0.1...                   \n",
       "2  [0.17237067317464214, 0.11794679333842759, 0.1...                   \n",
       "3  [0.19830815990682205, 0.21011648430351057, 0.2...                   \n",
       "4  [0.07701991514325422, 0.07278014127330514, 0.0...                   \n",
       "\n",
       "  baseline_subject-agent_to-reward-port-distance-ratio_binned  \\\n",
       "0  [0, 0, 0, 0, 0, 0, 0, 0, 0, 0, 0, 0, 0, 0, 0, ...            \n",
       "1  [0, 0, 0, 0, 0, 0, 0, 0, 0, 0, 0, 0, 0, 0, 0, ...            \n",
       "2  [0, 0, 0, 0, 0, 0, 0, 0, 0, 0, 0, 0, 0, 0, 0, ...            \n",
       "3  [0, 0, 0, 0, 0, 0, 0, 0, 0, 0, 0, 0, 0, 0, 0, ...            \n",
       "4  [0, 0, 0, 0, 0, 0, 0, 0, 0, 0, 0, 0, 0, 0, 0, ...            \n",
       "\n",
       "  trial_subject-agent_to-reward-port-distance-ratio_binned  \\\n",
       "0  [0, 0, 0, 0, 0, 0, 0, 0, 0, 0, 0, 0, 0, 0, 0, ...         \n",
       "1  [0, 0, 0, 0, 0, 0, 0, 0, 0, 0, 0, 0, 0, 0, 0, ...         \n",
       "2  [0, 0, 0, 0, 0, 0, 0, 0, 0, 0, 0, 0, 0, 0, 0, ...         \n",
       "3  [0, 0, 0, 0, 0, 0, 0, 0, 0, 0, 0, 0, 0, 0, 0, ...         \n",
       "4  [0, 0, 0, 0, 0, 0, 0, 0, 0, 0, 0, 0, 0, 0, 0, ...         \n",
       "\n",
       "  baseline-trial_subject-agent_to-reward-port-distance-ratio_binned  \n",
       "0  [0, 0, 0, 0, 0, 0, 0, 0, 0, 0, 0, 0, 0, 0, 0, ...                 \n",
       "1  [0, 0, 0, 0, 0, 0, 0, 0, 0, 0, 0, 0, 0, 0, 0, ...                 \n",
       "2  [0, 0, 0, 0, 0, 0, 0, 0, 0, 0, 0, 0, 0, 0, 0, ...                 \n",
       "3  [0, 0, 0, 0, 0, 0, 0, 0, 0, 0, 0, 0, 0, 0, 0, ...                 \n",
       "4  [0, 0, 0, 0, 0, 0, 0, 0, 0, 0, 0, 0, 0, 0, 0, ...                 \n",
       "\n",
       "[5 rows x 94 columns]"
      ]
     },
     "execution_count": 15,
     "metadata": {},
     "output_type": "execute_result"
    }
   ],
   "source": [
    "MERGED_TRIALS_AND_VIDEO.head()"
   ]
  },
  {
   "cell_type": "code",
   "execution_count": 16,
   "metadata": {},
   "outputs": [
    {
     "data": {
      "text/html": [
       "<div>\n",
       "<style scoped>\n",
       "    .dataframe tbody tr th:only-of-type {\n",
       "        vertical-align: middle;\n",
       "    }\n",
       "\n",
       "    .dataframe tbody tr th {\n",
       "        vertical-align: top;\n",
       "    }\n",
       "\n",
       "    .dataframe thead th {\n",
       "        text-align: right;\n",
       "    }\n",
       "</style>\n",
       "<table border=\"1\" class=\"dataframe\">\n",
       "  <thead>\n",
       "    <tr style=\"text-align: right;\">\n",
       "      <th></th>\n",
       "      <th>time</th>\n",
       "      <th>recording_dir</th>\n",
       "      <th>recording_file</th>\n",
       "      <th>time_stamp_index</th>\n",
       "      <th>video_file</th>\n",
       "      <th>video_frame</th>\n",
       "      <th>video_number</th>\n",
       "      <th>subject_info</th>\n",
       "      <th>competition_closeness</th>\n",
       "      <th>video_name</th>\n",
       "      <th>...</th>\n",
       "      <th>vHPC_baseline-trial_lfp_trace</th>\n",
       "      <th>BLA_baseline_lfp_trace</th>\n",
       "      <th>BLA_trial_lfp_trace</th>\n",
       "      <th>BLA_baseline-trial_lfp_trace</th>\n",
       "      <th>LH_baseline_lfp_trace</th>\n",
       "      <th>LH_trial_lfp_trace</th>\n",
       "      <th>LH_baseline-trial_lfp_trace</th>\n",
       "      <th>MD_baseline_lfp_trace</th>\n",
       "      <th>MD_trial_lfp_trace</th>\n",
       "      <th>MD_baseline-trial_lfp_trace</th>\n",
       "    </tr>\n",
       "  </thead>\n",
       "  <tbody>\n",
       "    <tr>\n",
       "      <th>0</th>\n",
       "      <td>6310663</td>\n",
       "      <td>20221202_134600_omission_and_competition_subje...</td>\n",
       "      <td>20221202_134600_omission_and_competition_subje...</td>\n",
       "      <td>1390826</td>\n",
       "      <td>20221202_134600_omission_and_competition_subje...</td>\n",
       "      <td>1734</td>\n",
       "      <td>1.0</td>\n",
       "      <td>6_1_top_2_base_3</td>\n",
       "      <td>rewarded</td>\n",
       "      <td>20221202_134600_omission_and_competition_subje...</td>\n",
       "      <td>...</td>\n",
       "      <td>[-0.07045184, -0.0958607, -0.054282565, 0.1512...</td>\n",
       "      <td>[2.0367692, 2.1165679, 2.162167, 2.2685654, 2....</td>\n",
       "      <td>[0.31159526, 0.35909453, 0.18239723, -0.509192...</td>\n",
       "      <td>[2.0367692, 2.1165679, 2.162167, 2.2685654, 2....</td>\n",
       "      <td>[3.0443187, 3.1354659, 3.1810396, 3.1901543, 3...</td>\n",
       "      <td>[0.78082824, 1.1788379, 0.8415931, -0.40104795...</td>\n",
       "      <td>[3.0443187, 3.1354659, 3.1810396, 3.1901543, 3...</td>\n",
       "      <td>[1.3860394, 1.4873364, 1.7566382, 1.8208753, 1...</td>\n",
       "      <td>[-0.9857927, -0.8746131, -0.7362562, -1.413216...</td>\n",
       "      <td>[1.3860394, 1.4873364, 1.7566382, 1.8208753, 1...</td>\n",
       "    </tr>\n",
       "    <tr>\n",
       "      <th>1</th>\n",
       "      <td>7910662</td>\n",
       "      <td>20221202_134600_omission_and_competition_subje...</td>\n",
       "      <td>20221202_134600_omission_and_competition_subje...</td>\n",
       "      <td>2990825</td>\n",
       "      <td>20221202_134600_omission_and_competition_subje...</td>\n",
       "      <td>3728</td>\n",
       "      <td>1.0</td>\n",
       "      <td>6_1_top_2_base_3</td>\n",
       "      <td>rewarded</td>\n",
       "      <td>20221202_134600_omission_and_competition_subje...</td>\n",
       "      <td>...</td>\n",
       "      <td>[0.30606127, 0.22405995, 0.28873706, 0.4100066...</td>\n",
       "      <td>[0.30589536, 0.13679792, -0.064599015, -0.3381...</td>\n",
       "      <td>[0.020899683, -0.05129922, 0.113998264, -0.416...</td>\n",
       "      <td>[0.30589536, 0.13679792, -0.064599015, -0.3381...</td>\n",
       "      <td>[-1.1575702, -1.2699852, -1.3489795, -1.427973...</td>\n",
       "      <td>[0.91754913, 0.4466216, 0.64410734, 0.03342066...</td>\n",
       "      <td>[-1.1575702, -1.2699852, -1.3489795, -1.427973...</td>\n",
       "      <td>[-0.15318082, -0.16800477, 0.019765267, 0.1605...</td>\n",
       "      <td>[1.620752, 1.3415675, 1.4601592, 0.94132084, -...</td>\n",
       "      <td>[-0.15318082, -0.16800477, 0.019765267, 0.1605...</td>\n",
       "    </tr>\n",
       "    <tr>\n",
       "      <th>2</th>\n",
       "      <td>9710660</td>\n",
       "      <td>20221202_134600_omission_and_competition_subje...</td>\n",
       "      <td>20221202_134600_omission_and_competition_subje...</td>\n",
       "      <td>4790823</td>\n",
       "      <td>20221202_134600_omission_and_competition_subje...</td>\n",
       "      <td>5972</td>\n",
       "      <td>1.0</td>\n",
       "      <td>6_1_top_2_base_3</td>\n",
       "      <td>rewarded</td>\n",
       "      <td>20221202_134600_omission_and_competition_subje...</td>\n",
       "      <td>...</td>\n",
       "      <td>[-1.2300198, -1.2323297, -1.3039365, -1.096045...</td>\n",
       "      <td>[-2.0025697, -1.9151709, -1.9436705, -1.552276...</td>\n",
       "      <td>[0.6896895, 1.3983787, 1.7574733, 1.4287783, 1...</td>\n",
       "      <td>[-2.0025697, -1.9151709, -1.9436705, -1.552276...</td>\n",
       "      <td>[-0.20356221, -0.08203254, -0.18837102, -0.142...</td>\n",
       "      <td>[-0.58941895, 0.25521234, 0.66233677, 0.416239...</td>\n",
       "      <td>[-0.20356221, -0.08203254, -0.18837102, -0.142...</td>\n",
       "      <td>[-0.32859758, -0.5361329, -0.97591007, -0.7609...</td>\n",
       "      <td>[0.088943705, 0.8770837, 1.2056813, 0.88696635...</td>\n",
       "      <td>[-0.32859758, -0.5361329, -0.97591007, -0.7609...</td>\n",
       "    </tr>\n",
       "    <tr>\n",
       "      <th>3</th>\n",
       "      <td>11310658</td>\n",
       "      <td>20221202_134600_omission_and_competition_subje...</td>\n",
       "      <td>20221202_134600_omission_and_competition_subje...</td>\n",
       "      <td>6390821</td>\n",
       "      <td>20221202_134600_omission_and_competition_subje...</td>\n",
       "      <td>7966</td>\n",
       "      <td>1.0</td>\n",
       "      <td>6_1_top_2_base_3</td>\n",
       "      <td>omission</td>\n",
       "      <td>20221202_134600_omission_and_competition_subje...</td>\n",
       "      <td>...</td>\n",
       "      <td>[0.1605378, 0.4169363, 0.64561605, 0.6756447, ...</td>\n",
       "      <td>[-1.2729807, -1.0468841, -0.8378873, -0.754288...</td>\n",
       "      <td>[2.6789594, 2.3939636, 2.2096665, 1.97597, 1.8...</td>\n",
       "      <td>[-1.2729807, -1.0468841, -0.8378873, -0.754288...</td>\n",
       "      <td>[-2.4792056, -2.1480372, -1.8259835, -1.677109...</td>\n",
       "      <td>[2.7587237, 2.233108, 1.4796239, 0.93274033, 1...</td>\n",
       "      <td>[-2.4792056, -2.1480372, -1.8259835, -1.677109...</td>\n",
       "      <td>[-2.7720788, -2.5620728, -2.3125362, -2.062999...</td>\n",
       "      <td>[2.0802944, 1.7344022, 1.1192082, 0.4521305, 0...</td>\n",
       "      <td>[-2.7720788, -2.5620728, -2.3125362, -2.062999...</td>\n",
       "    </tr>\n",
       "    <tr>\n",
       "      <th>4</th>\n",
       "      <td>12810657</td>\n",
       "      <td>20221202_134600_omission_and_competition_subje...</td>\n",
       "      <td>20221202_134600_omission_and_competition_subje...</td>\n",
       "      <td>7890820</td>\n",
       "      <td>20221202_134600_omission_and_competition_subje...</td>\n",
       "      <td>9836</td>\n",
       "      <td>1.0</td>\n",
       "      <td>6_1_top_2_base_3</td>\n",
       "      <td>rewarded</td>\n",
       "      <td>20221202_134600_omission_and_competition_subje...</td>\n",
       "      <td>...</td>\n",
       "      <td>[-0.30952612, 0.19056645, 0.4331056, 0.3638087...</td>\n",
       "      <td>[-2.1469674, -2.0690687, -2.0937681, -2.152667...</td>\n",
       "      <td>[-0.18809713, 0.108298354, -0.66878986, -0.944...</td>\n",
       "      <td>[-2.1469674, -2.0690687, -2.0937681, -2.152667...</td>\n",
       "      <td>[-2.1176548, -1.4522797, -1.0360405, -1.108958...</td>\n",
       "      <td>[0.5104247, 1.4613944, 0.5468836, -0.036458906...</td>\n",
       "      <td>[-2.1176548, -1.4522797, -1.0360405, -1.108958...</td>\n",
       "      <td>[-2.018528, -1.7220489, -1.4329818, -1.3736861...</td>\n",
       "      <td>[0.31130296, 1.0006167, 0.25200716, -0.2347125...</td>\n",
       "      <td>[-2.018528, -1.7220489, -1.4329818, -1.3736861...</td>\n",
       "    </tr>\n",
       "  </tbody>\n",
       "</table>\n",
       "<p>5 rows × 37 columns</p>\n",
       "</div>"
      ],
      "text/plain": [
       "       time                                      recording_dir  \\\n",
       "0   6310663  20221202_134600_omission_and_competition_subje...   \n",
       "1   7910662  20221202_134600_omission_and_competition_subje...   \n",
       "2   9710660  20221202_134600_omission_and_competition_subje...   \n",
       "3  11310658  20221202_134600_omission_and_competition_subje...   \n",
       "4  12810657  20221202_134600_omission_and_competition_subje...   \n",
       "\n",
       "                                      recording_file  time_stamp_index  \\\n",
       "0  20221202_134600_omission_and_competition_subje...           1390826   \n",
       "1  20221202_134600_omission_and_competition_subje...           2990825   \n",
       "2  20221202_134600_omission_and_competition_subje...           4790823   \n",
       "3  20221202_134600_omission_and_competition_subje...           6390821   \n",
       "4  20221202_134600_omission_and_competition_subje...           7890820   \n",
       "\n",
       "                                          video_file  video_frame  \\\n",
       "0  20221202_134600_omission_and_competition_subje...         1734   \n",
       "1  20221202_134600_omission_and_competition_subje...         3728   \n",
       "2  20221202_134600_omission_and_competition_subje...         5972   \n",
       "3  20221202_134600_omission_and_competition_subje...         7966   \n",
       "4  20221202_134600_omission_and_competition_subje...         9836   \n",
       "\n",
       "   video_number      subject_info competition_closeness  \\\n",
       "0           1.0  6_1_top_2_base_3              rewarded   \n",
       "1           1.0  6_1_top_2_base_3              rewarded   \n",
       "2           1.0  6_1_top_2_base_3              rewarded   \n",
       "3           1.0  6_1_top_2_base_3              omission   \n",
       "4           1.0  6_1_top_2_base_3              rewarded   \n",
       "\n",
       "                                          video_name  ...  \\\n",
       "0  20221202_134600_omission_and_competition_subje...  ...   \n",
       "1  20221202_134600_omission_and_competition_subje...  ...   \n",
       "2  20221202_134600_omission_and_competition_subje...  ...   \n",
       "3  20221202_134600_omission_and_competition_subje...  ...   \n",
       "4  20221202_134600_omission_and_competition_subje...  ...   \n",
       "\n",
       "                       vHPC_baseline-trial_lfp_trace  \\\n",
       "0  [-0.07045184, -0.0958607, -0.054282565, 0.1512...   \n",
       "1  [0.30606127, 0.22405995, 0.28873706, 0.4100066...   \n",
       "2  [-1.2300198, -1.2323297, -1.3039365, -1.096045...   \n",
       "3  [0.1605378, 0.4169363, 0.64561605, 0.6756447, ...   \n",
       "4  [-0.30952612, 0.19056645, 0.4331056, 0.3638087...   \n",
       "\n",
       "                              BLA_baseline_lfp_trace  \\\n",
       "0  [2.0367692, 2.1165679, 2.162167, 2.2685654, 2....   \n",
       "1  [0.30589536, 0.13679792, -0.064599015, -0.3381...   \n",
       "2  [-2.0025697, -1.9151709, -1.9436705, -1.552276...   \n",
       "3  [-1.2729807, -1.0468841, -0.8378873, -0.754288...   \n",
       "4  [-2.1469674, -2.0690687, -2.0937681, -2.152667...   \n",
       "\n",
       "                                 BLA_trial_lfp_trace  \\\n",
       "0  [0.31159526, 0.35909453, 0.18239723, -0.509192...   \n",
       "1  [0.020899683, -0.05129922, 0.113998264, -0.416...   \n",
       "2  [0.6896895, 1.3983787, 1.7574733, 1.4287783, 1...   \n",
       "3  [2.6789594, 2.3939636, 2.2096665, 1.97597, 1.8...   \n",
       "4  [-0.18809713, 0.108298354, -0.66878986, -0.944...   \n",
       "\n",
       "                        BLA_baseline-trial_lfp_trace  \\\n",
       "0  [2.0367692, 2.1165679, 2.162167, 2.2685654, 2....   \n",
       "1  [0.30589536, 0.13679792, -0.064599015, -0.3381...   \n",
       "2  [-2.0025697, -1.9151709, -1.9436705, -1.552276...   \n",
       "3  [-1.2729807, -1.0468841, -0.8378873, -0.754288...   \n",
       "4  [-2.1469674, -2.0690687, -2.0937681, -2.152667...   \n",
       "\n",
       "                               LH_baseline_lfp_trace  \\\n",
       "0  [3.0443187, 3.1354659, 3.1810396, 3.1901543, 3...   \n",
       "1  [-1.1575702, -1.2699852, -1.3489795, -1.427973...   \n",
       "2  [-0.20356221, -0.08203254, -0.18837102, -0.142...   \n",
       "3  [-2.4792056, -2.1480372, -1.8259835, -1.677109...   \n",
       "4  [-2.1176548, -1.4522797, -1.0360405, -1.108958...   \n",
       "\n",
       "                                  LH_trial_lfp_trace  \\\n",
       "0  [0.78082824, 1.1788379, 0.8415931, -0.40104795...   \n",
       "1  [0.91754913, 0.4466216, 0.64410734, 0.03342066...   \n",
       "2  [-0.58941895, 0.25521234, 0.66233677, 0.416239...   \n",
       "3  [2.7587237, 2.233108, 1.4796239, 0.93274033, 1...   \n",
       "4  [0.5104247, 1.4613944, 0.5468836, -0.036458906...   \n",
       "\n",
       "                         LH_baseline-trial_lfp_trace  \\\n",
       "0  [3.0443187, 3.1354659, 3.1810396, 3.1901543, 3...   \n",
       "1  [-1.1575702, -1.2699852, -1.3489795, -1.427973...   \n",
       "2  [-0.20356221, -0.08203254, -0.18837102, -0.142...   \n",
       "3  [-2.4792056, -2.1480372, -1.8259835, -1.677109...   \n",
       "4  [-2.1176548, -1.4522797, -1.0360405, -1.108958...   \n",
       "\n",
       "                               MD_baseline_lfp_trace  \\\n",
       "0  [1.3860394, 1.4873364, 1.7566382, 1.8208753, 1...   \n",
       "1  [-0.15318082, -0.16800477, 0.019765267, 0.1605...   \n",
       "2  [-0.32859758, -0.5361329, -0.97591007, -0.7609...   \n",
       "3  [-2.7720788, -2.5620728, -2.3125362, -2.062999...   \n",
       "4  [-2.018528, -1.7220489, -1.4329818, -1.3736861...   \n",
       "\n",
       "                                  MD_trial_lfp_trace  \\\n",
       "0  [-0.9857927, -0.8746131, -0.7362562, -1.413216...   \n",
       "1  [1.620752, 1.3415675, 1.4601592, 0.94132084, -...   \n",
       "2  [0.088943705, 0.8770837, 1.2056813, 0.88696635...   \n",
       "3  [2.0802944, 1.7344022, 1.1192082, 0.4521305, 0...   \n",
       "4  [0.31130296, 1.0006167, 0.25200716, -0.2347125...   \n",
       "\n",
       "                         MD_baseline-trial_lfp_trace  \n",
       "0  [1.3860394, 1.4873364, 1.7566382, 1.8208753, 1...  \n",
       "1  [-0.15318082, -0.16800477, 0.019765267, 0.1605...  \n",
       "2  [-0.32859758, -0.5361329, -0.97591007, -0.7609...  \n",
       "3  [-2.7720788, -2.5620728, -2.3125362, -2.062999...  \n",
       "4  [-2.018528, -1.7220489, -1.4329818, -1.3736861...  \n",
       "\n",
       "[5 rows x 37 columns]"
      ]
     },
     "execution_count": 16,
     "metadata": {},
     "output_type": "execute_result"
    }
   ],
   "source": [
    "CHANNEL_MAP_AND_ALL_TRIALS_DF.head()"
   ]
  },
  {
   "cell_type": "code",
   "execution_count": null,
   "metadata": {},
   "outputs": [],
   "source": []
  },
  {
   "cell_type": "markdown",
   "metadata": {
    "cell_id": "e3ee4891d43a4ac287413afc552ca289",
    "deepnote_cell_type": "text-cell-h2",
    "formattedRanges": []
   },
   "source": [
    "## Outputs"
   ]
  },
  {
   "cell_type": "markdown",
   "metadata": {
    "cell_id": "9ccbf6cc70fd4d379fa29317f733771f",
    "deepnote_cell_type": "text-cell-p",
    "formattedRanges": []
   },
   "source": [
    "Describe each output that the notebook creates. "
   ]
  },
  {
   "cell_type": "markdown",
   "metadata": {
    "cell_id": "fc8e8920a6944918a15fac575cdf6e78",
    "deepnote_cell_type": "text-cell-bullet",
    "formattedRanges": []
   },
   "source": [
    "- Is it a plot or is it data?"
   ]
  },
  {
   "cell_type": "markdown",
   "metadata": {
    "cell_id": "1e639d4776a84aa9ac8ded2e14fa57db",
    "deepnote_cell_type": "text-cell-bullet",
    "formattedRanges": []
   },
   "source": [
    "- How valuable is the output and why is it valuable or useful?"
   ]
  },
  {
   "cell_type": "markdown",
   "metadata": {},
   "source": [
    "## Functions "
   ]
  },
  {
   "cell_type": "code",
   "execution_count": 17,
   "metadata": {},
   "outputs": [],
   "source": [
    "def generate_pairs(lst):\n",
    "    pairs = []\n",
    "    n = len(lst)\n",
    "    for i in range(n):\n",
    "        for j in range(i+1, n):\n",
    "            pairs.append((lst[i], lst[j]))\n",
    "    return pairs"
   ]
  },
  {
   "cell_type": "code",
   "execution_count": 18,
   "metadata": {},
   "outputs": [],
   "source": [
    "def nested_dict():\n",
    "    return defaultdict(dict)"
   ]
  },
  {
   "cell_type": "markdown",
   "metadata": {
    "cell_id": "8999d19b6b7d4d63bc90f0b0bd9ab085",
    "deepnote_cell_type": "text-cell-h2",
    "formattedRanges": []
   },
   "source": [
    "## Processing"
   ]
  },
  {
   "cell_type": "markdown",
   "metadata": {
    "cell_id": "9b36cdf08567463082b005cb0dec684b",
    "deepnote_cell_type": "text-cell-p",
    "formattedRanges": []
   },
   "source": [
    "Describe what is done to the data here and how inputs are manipulated to generate outputs. "
   ]
  },
  {
   "cell_type": "code",
   "execution_count": 19,
   "metadata": {
    "cell_id": "89aaba237c644628b1b37604b75e7cb1",
    "deepnote_cell_type": "code"
   },
   "outputs": [],
   "source": [
    "# As much code and as many cells as required\n",
    "# includes EDA and playing with data\n",
    "# GO HAM!\n",
    "\n",
    "# Ideally functions are defined here first and then data is processed using the functions\n",
    "\n",
    "# function names are short and in snake case all lowercase\n",
    "# a function name should be unique but does not have to describe the function\n",
    "# doc strings describe functions not function names\n",
    "\n",
    "\n"
   ]
  },
  {
   "cell_type": "code",
   "execution_count": 20,
   "metadata": {},
   "outputs": [
    {
     "data": {
      "text/plain": [
       "Index(['time', 'recording_dir', 'recording_file', 'time_stamp_index',\n",
       "       'video_file', 'video_frame', 'video_number', 'subject_info',\n",
       "       'competition_closeness', 'video_name', 'all_subjects',\n",
       "       'current_subject', 'trial_outcome', 'lfp_index',\n",
       "       'baseline_lfp_timestamp_range', 'trial_lfp_timestamp_range',\n",
       "       'baseline_ephys_timestamp_range', 'trial_ephys_timestamp_range',\n",
       "       'baseline_videoframe_range', 'trial_videoframe_range', 'trial_number',\n",
       "       'Cohort', 'mPFC_baseline_lfp_trace', 'mPFC_trial_lfp_trace',\n",
       "       'mPFC_baseline-trial_lfp_trace', 'vHPC_baseline_lfp_trace',\n",
       "       'vHPC_trial_lfp_trace', 'vHPC_baseline-trial_lfp_trace',\n",
       "       'BLA_baseline_lfp_trace', 'BLA_trial_lfp_trace',\n",
       "       'BLA_baseline-trial_lfp_trace', 'LH_baseline_lfp_trace',\n",
       "       'LH_trial_lfp_trace', 'LH_baseline-trial_lfp_trace',\n",
       "       'MD_baseline_lfp_trace', 'MD_trial_lfp_trace',\n",
       "       'MD_baseline-trial_lfp_trace'],\n",
       "      dtype='object')"
      ]
     },
     "execution_count": 20,
     "metadata": {},
     "output_type": "execute_result"
    }
   ],
   "source": [
    "CHANNEL_MAP_AND_ALL_TRIALS_DF.columns"
   ]
  },
  {
   "cell_type": "code",
   "execution_count": 21,
   "metadata": {
    "scrolled": true
   },
   "outputs": [
    {
     "data": {
      "text/plain": [
       "Index(['time', 'recording_dir', 'recording_file', 'time_stamp_index',\n",
       "       'video_file', 'video_frame', 'video_number', 'subject_info',\n",
       "       'competition_closeness', 'video_name', 'all_subjects',\n",
       "       'current_subject', 'trial_outcome', 'lfp_index',\n",
       "       'baseline_lfp_timestamp_range', 'trial_lfp_timestamp_range',\n",
       "       'baseline_ephys_timestamp_range', 'trial_ephys_timestamp_range',\n",
       "       'baseline_videoframe_range', 'trial_videoframe_range', 'trial_number',\n",
       "       'Cohort', 'spike_interface_mPFC', 'spike_interface_vHPC',\n",
       "       'spike_interface_BLA', 'spike_interface_LH', 'spike_interface_MD',\n",
       "       'file_path', 'start_frame', 'stop_frame', 'individual_subj', 'all_subj',\n",
       "       'recording_name', 'track_names', 'subject_and_tracks_list',\n",
       "       'subject_id', 'agent_id', 'corner_path', 'corner_parts', 'bottom_width',\n",
       "       'top_width', 'right_height', 'left_height', 'average_height',\n",
       "       'average_width', 'width_ratio', 'height_ratio', 'box_bottom_left',\n",
       "       'reward_port', 'box_top_left', 'box_top_right', 'box_bottom_right',\n",
       "       'chunked_trial_ephys_timestamp', 'chunked_baseline_ephys_timestamp',\n",
       "       'chunked_trial_lfp_index', 'chunked_baseline_lfp_index',\n",
       "       'baseline_subject_thorax_velocity_chunked',\n",
       "       'baseline_agent_thorax_velocity_chunked',\n",
       "       'trial_subject_thorax_velocity_chunked',\n",
       "       'trial_agent_thorax_velocity_chunked',\n",
       "       'baseline-trial_subject_thorax_velocity_chunked',\n",
       "       'baseline-trial_agent_thorax_velocity_chunked',\n",
       "       'baseline_subject_thorax_velocity_binned',\n",
       "       'baseline_agent_thorax_velocity_binned',\n",
       "       'trial_subject_thorax_velocity_binned',\n",
       "       'trial_agent_thorax_velocity_binned',\n",
       "       'baseline-trial_subject_thorax_velocity_binned',\n",
       "       'baseline-trial_agent_thorax_velocity_binned', '0_to_2-5_cm-s_velocity',\n",
       "       '2-5_5cm-s_velocity',\n",
       "       'trial_subject_thorax-to-reward-port_distance_chunked',\n",
       "       'trial_agent_thorax-to-reward-port_distance_chunked',\n",
       "       'baseline_subject_thorax-to-reward-port_distance_chunked',\n",
       "       'baseline_agent_thorax-to-reward-port_distance_chunked',\n",
       "       'baseline-trial_subject_thorax-to-reward-port_distance_chunked',\n",
       "       'baseline-trial_agent_thorax-to-reward-port_distance_chunked',\n",
       "       'trial_subject_thorax-to-reward-port_distance_binned',\n",
       "       'trial_agent_thorax-to-reward-port_distance_binned',\n",
       "       'baseline_subject_thorax-to-reward-port_distance_binned',\n",
       "       'baseline_agent_thorax-to-reward-port_distance_binned',\n",
       "       'baseline-trial_subject_thorax-to-reward-port_distance_binned',\n",
       "       'baseline-trial_agent_thorax-to-reward-port_distance_binned',\n",
       "       'baseline_subject_thorax-to-agent_distance_chunked',\n",
       "       'trial_subject_thorax-to-agent_distance_chunked',\n",
       "       'baseline-trial_subject_thorax-to-agent_distance_chunked',\n",
       "       'baseline_subject_thorax-to-agent_distance_binned',\n",
       "       'trial_subject_thorax-to-agent_distance_binned',\n",
       "       'baseline-trial_subject_thorax-to-agent_distance_binned',\n",
       "       'baseline_subject-agent_to-reward-port-distance-ratio_chunked',\n",
       "       'trial_subject-agent_to-reward-port-distance-ratio_chunked',\n",
       "       'baseline-trial_subject-agent_to-reward-port-distance-ratio_chunked',\n",
       "       'baseline_subject-agent_to-reward-port-distance-ratio_binned',\n",
       "       'trial_subject-agent_to-reward-port-distance-ratio_binned',\n",
       "       'baseline-trial_subject-agent_to-reward-port-distance-ratio_binned'],\n",
       "      dtype='object')"
      ]
     },
     "execution_count": 21,
     "metadata": {},
     "output_type": "execute_result"
    }
   ],
   "source": [
    "MERGED_TRIALS_AND_VIDEO.columns"
   ]
  },
  {
   "cell_type": "code",
   "execution_count": 22,
   "metadata": {},
   "outputs": [],
   "source": [
    "merge_columns = [\"time\", \"recording_file\", \"current_subject\", \"video_number\"]\n",
    "# Find columns in df2 that are not in merge_columns and also exist in df1, then drop them from df2\n",
    "cols_to_drop = [col for col in CHANNEL_MAP_AND_ALL_TRIALS_DF.columns if col not in merge_columns and col in MERGED_TRIALS_AND_VIDEO.columns]\n",
    "CHANNEL_MAP_AND_ALL_TRIALS_DF = CHANNEL_MAP_AND_ALL_TRIALS_DF.drop(columns=cols_to_drop)"
   ]
  },
  {
   "cell_type": "code",
   "execution_count": 23,
   "metadata": {},
   "outputs": [],
   "source": [
    "MERGED_LFP_AND_SLEAP = pd.merge(left=CHANNEL_MAP_AND_ALL_TRIALS_DF, right=MERGED_TRIALS_AND_VIDEO, on=merge_columns, how=\"right\")"
   ]
  },
  {
   "cell_type": "code",
   "execution_count": 24,
   "metadata": {},
   "outputs": [],
   "source": [
    "# Dropping all unnecessary columns\n",
    "MERGED_LFP_AND_SLEAP = MERGED_LFP_AND_SLEAP.drop(columns=[col for col in MERGED_LFP_AND_SLEAP if \"spike_interface\" in col], errors=\"ignore\")\n",
    "MERGED_LFP_AND_SLEAP = MERGED_LFP_AND_SLEAP.drop(columns=[col for col in MERGED_LFP_AND_SLEAP if \"index\" in col], errors=\"ignore\")\n",
    "MERGED_LFP_AND_SLEAP = MERGED_LFP_AND_SLEAP.drop(columns=[col for col in MERGED_LFP_AND_SLEAP if \"stamp\" in col], errors=\"ignore\")\n",
    "MERGED_LFP_AND_SLEAP = MERGED_LFP_AND_SLEAP.drop(columns=[col for col in MERGED_LFP_AND_SLEAP if \"box\" in col], errors=\"ignore\")\n",
    "MERGED_LFP_AND_SLEAP = MERGED_LFP_AND_SLEAP.drop(columns=[col for col in MERGED_LFP_AND_SLEAP if \"height\" in col], errors=\"ignore\")\n",
    "MERGED_LFP_AND_SLEAP = MERGED_LFP_AND_SLEAP.drop(columns=[col for col in MERGED_LFP_AND_SLEAP if \"width\" in col], errors=\"ignore\")\n",
    "MERGED_LFP_AND_SLEAP = MERGED_LFP_AND_SLEAP.drop(columns=[col for col in MERGED_LFP_AND_SLEAP if \"ratio\" in col], errors=\"ignore\")\n",
    "MERGED_LFP_AND_SLEAP = MERGED_LFP_AND_SLEAP.drop(columns=[col for col in MERGED_LFP_AND_SLEAP if \"width\" in col], errors=\"ignore\")\n",
    "MERGED_LFP_AND_SLEAP = MERGED_LFP_AND_SLEAP.drop(columns=['individual_subj',\n",
    " 'all_subj',\n",
    " 'recording_name',\n",
    " 'track_names',\n",
    " 'subject_id',\n",
    " 'corner_path',\n",
    " 'corner_parts',\n",
    " 'rescaled_locations',\n",
    " 'reward_port'], errors=\"ignore\")"
   ]
  },
  {
   "cell_type": "code",
   "execution_count": 25,
   "metadata": {},
   "outputs": [
    {
     "data": {
      "text/html": [
       "<div>\n",
       "<style scoped>\n",
       "    .dataframe tbody tr th:only-of-type {\n",
       "        vertical-align: middle;\n",
       "    }\n",
       "\n",
       "    .dataframe tbody tr th {\n",
       "        vertical-align: top;\n",
       "    }\n",
       "\n",
       "    .dataframe thead th {\n",
       "        text-align: right;\n",
       "    }\n",
       "</style>\n",
       "<table border=\"1\" class=\"dataframe\">\n",
       "  <thead>\n",
       "    <tr style=\"text-align: right;\">\n",
       "      <th></th>\n",
       "      <th>time</th>\n",
       "      <th>recording_file</th>\n",
       "      <th>video_number</th>\n",
       "      <th>current_subject</th>\n",
       "      <th>mPFC_baseline_lfp_trace</th>\n",
       "      <th>mPFC_trial_lfp_trace</th>\n",
       "      <th>mPFC_baseline-trial_lfp_trace</th>\n",
       "      <th>vHPC_baseline_lfp_trace</th>\n",
       "      <th>vHPC_trial_lfp_trace</th>\n",
       "      <th>vHPC_baseline-trial_lfp_trace</th>\n",
       "      <th>...</th>\n",
       "      <th>baseline_subject_thorax-to-reward-port_distance_binned</th>\n",
       "      <th>baseline_agent_thorax-to-reward-port_distance_binned</th>\n",
       "      <th>baseline-trial_subject_thorax-to-reward-port_distance_binned</th>\n",
       "      <th>baseline-trial_agent_thorax-to-reward-port_distance_binned</th>\n",
       "      <th>baseline_subject_thorax-to-agent_distance_chunked</th>\n",
       "      <th>trial_subject_thorax-to-agent_distance_chunked</th>\n",
       "      <th>baseline-trial_subject_thorax-to-agent_distance_chunked</th>\n",
       "      <th>baseline_subject_thorax-to-agent_distance_binned</th>\n",
       "      <th>trial_subject_thorax-to-agent_distance_binned</th>\n",
       "      <th>baseline-trial_subject_thorax-to-agent_distance_binned</th>\n",
       "    </tr>\n",
       "  </thead>\n",
       "  <tbody>\n",
       "    <tr>\n",
       "      <th>0</th>\n",
       "      <td>30950500</td>\n",
       "      <td>20221214_125409_om_and_comp_6_1_top_1_base_2_v...</td>\n",
       "      <td>1.0</td>\n",
       "      <td>6.1</td>\n",
       "      <td>[-0.3134648, -0.39993784, -0.8777014, -1.44193...</td>\n",
       "      <td>[0.50154364, 0.29617018, 0.22050627, 0.1145767...</td>\n",
       "      <td>[-0.3134648, -0.39993784, -0.8777014, -1.44193...</td>\n",
       "      <td>[0.2583401, -0.26769176, -0.8311303, -1.046219...</td>\n",
       "      <td>[-1.1479185, -1.1806493, -1.1432426, -1.139735...</td>\n",
       "      <td>[0.2583401, -0.26769176, -0.8311303, -1.046219...</td>\n",
       "      <td>...</td>\n",
       "      <td>[0, 0, 0, 0, 0, 0, 0, 0, 0, 1, 1, 1, 1, 1, 1, ...</td>\n",
       "      <td>[1, 1, 1, 1, 1, 1, 1, 1, 1, 1, 1, 1, 1, 1, 1, ...</td>\n",
       "      <td>[0, 0, 0, 0, 0, 0, 0, 0, 0, 1, 1, 1, 1, 1, 1, ...</td>\n",
       "      <td>[1, 1, 1, 1, 1, 1, 1, 1, 1, 1, 1, 1, 1, 1, 1, ...</td>\n",
       "      <td>[24.979701762391695, 22.97606870054344, 21.618...</td>\n",
       "      <td>[15.254204064734637, 10.725816239560091, 8.417...</td>\n",
       "      <td>[24.979701762391695, 22.97606870054344, 21.618...</td>\n",
       "      <td>[1, 1, 1, 1, 1, 1, 1, 1, 1, 1, 1, 1, 1, 1, 1, ...</td>\n",
       "      <td>[1, 1, 1, 1, 1, 1, 1, 1, 1, 1, 1, 1, 1, 1, 1, ...</td>\n",
       "      <td>[1, 1, 1, 1, 1, 1, 1, 1, 1, 1, 1, 1, 1, 1, 1, ...</td>\n",
       "    </tr>\n",
       "    <tr>\n",
       "      <th>1</th>\n",
       "      <td>32550496</td>\n",
       "      <td>20221214_125409_om_and_comp_6_1_top_1_base_2_v...</td>\n",
       "      <td>1.0</td>\n",
       "      <td>6.1</td>\n",
       "      <td>[1.1176641, 1.0657803, 0.9987637, 0.8128466, 0...</td>\n",
       "      <td>[0.31995025, 0.16429879, 0.010809131, 0.067016...</td>\n",
       "      <td>[1.1176641, 1.0657803, 0.9987637, 0.8128466, 0...</td>\n",
       "      <td>[1.8691666, 2.0795794, 2.2408957, 2.3461022, 2...</td>\n",
       "      <td>[-1.0205019, -0.9152954, -0.9947847, -0.976081...</td>\n",
       "      <td>[1.8691666, 2.0795794, 2.2408957, 2.3461022, 2...</td>\n",
       "      <td>...</td>\n",
       "      <td>[0, 0, 0, 0, 0, 0, 0, 0, 0, 0, 1, 1, 1, 1, 1, ...</td>\n",
       "      <td>[1, 1, 1, 1, 1, 1, 1, 1, 1, 1, 1, 1, 0, 0, 0, ...</td>\n",
       "      <td>[0, 0, 0, 0, 0, 0, 0, 0, 0, 0, 1, 1, 1, 1, 1, ...</td>\n",
       "      <td>[1, 1, 1, 1, 1, 1, 1, 1, 1, 1, 1, 1, 0, 0, 0, ...</td>\n",
       "      <td>[17.180542025000065, 15.67928472897514, 16.254...</td>\n",
       "      <td>[16.075444063675132, 21.578669453644572, 25.00...</td>\n",
       "      <td>[17.180542025000065, 15.67928472897514, 16.254...</td>\n",
       "      <td>[1, 1, 1, 1, 1, 1, 1, 1, 1, 1, 1, 1, 1, 1, 1, ...</td>\n",
       "      <td>[1, 1, 1, 1, 1, 1, 1, 1, 1, 1, 1, 1, 1, 1, 1, ...</td>\n",
       "      <td>[1, 1, 1, 1, 1, 1, 1, 1, 1, 1, 1, 1, 1, 1, 1, ...</td>\n",
       "    </tr>\n",
       "    <tr>\n",
       "      <th>2</th>\n",
       "      <td>34350494</td>\n",
       "      <td>20221214_125409_om_and_comp_6_1_top_1_base_2_v...</td>\n",
       "      <td>1.0</td>\n",
       "      <td>6.1</td>\n",
       "      <td>[-0.22482991, 0.3567013, 0.12538591, -0.136195...</td>\n",
       "      <td>[-0.13835686, 0.42804158, 0.5945022, 0.3134648...</td>\n",
       "      <td>[-0.22482991, 0.3567013, 0.12538591, -0.136195...</td>\n",
       "      <td>[-1.0017985, -0.70955855, -0.7002069, -0.68033...</td>\n",
       "      <td>[0.47109076, 0.34016728, 0.18352668, 0.174175,...</td>\n",
       "      <td>[-1.0017985, -0.70955855, -0.7002069, -0.68033...</td>\n",
       "      <td>...</td>\n",
       "      <td>[0, 0, 0, 0, 0, 0, 0, 0, 0, 0, 0, 0, 0, 0, 0, ...</td>\n",
       "      <td>[1, 1, 1, 1, 1, 1, 1, 1, 1, 1, 1, 1, 1, 1, 1, ...</td>\n",
       "      <td>[0, 0, 0, 0, 0, 0, 0, 0, 0, 0, 0, 0, 0, 0, 0, ...</td>\n",
       "      <td>[1, 1, 1, 1, 1, 1, 1, 1, 1, 1, 1, 1, 1, 1, 1, ...</td>\n",
       "      <td>[10.481987827455116, 13.904524717531153, 20.77...</td>\n",
       "      <td>[20.98692816276465, 20.91714274677675, 21.0041...</td>\n",
       "      <td>[10.481987827455116, 13.904524717531153, 20.77...</td>\n",
       "      <td>[1, 1, 1, 1, 1, 1, 1, 1, 1, 1, 1, 1, 1, 1, 1, ...</td>\n",
       "      <td>[1, 1, 1, 1, 1, 1, 1, 1, 1, 1, 1, 1, 1, 1, 1, ...</td>\n",
       "      <td>[1, 1, 1, 1, 1, 1, 1, 1, 1, 1, 1, 1, 1, 1, 1, ...</td>\n",
       "    </tr>\n",
       "    <tr>\n",
       "      <th>3</th>\n",
       "      <td>35950496</td>\n",
       "      <td>20221214_125409_om_and_comp_6_1_top_1_base_2_v...</td>\n",
       "      <td>1.0</td>\n",
       "      <td>6.1</td>\n",
       "      <td>[0.4864109, 0.18591705, 0.397776, 0.24212453, ...</td>\n",
       "      <td>[-0.32211208, 0.023780087, 0.13835686, -0.1102...</td>\n",
       "      <td>[0.4864109, 0.18591705, 0.397776, 0.24212453, ...</td>\n",
       "      <td>[0.58447987, 0.4675839, 0.21275067, 0.03389983...</td>\n",
       "      <td>[0.15780956, 0.047927346, -0.14728892, -0.3565...</td>\n",
       "      <td>[0.58447987, 0.4675839, 0.21275067, 0.03389983...</td>\n",
       "      <td>...</td>\n",
       "      <td>[0, 0, 0, 0, 0, 0, 0, 0, 0, 0, 0, 0, 0, 0, 0, ...</td>\n",
       "      <td>[1, 1, 1, 1, 1, 1, 1, 1, 1, 1, 1, 1, 1, 1, 1, ...</td>\n",
       "      <td>[0, 0, 0, 0, 0, 0, 0, 0, 0, 0, 0, 0, 0, 0, 0, ...</td>\n",
       "      <td>[1, 1, 1, 1, 1, 1, 1, 1, 1, 1, 1, 1, 1, 1, 1, ...</td>\n",
       "      <td>[13.743103594851767, 13.8505713096129, 12.9344...</td>\n",
       "      <td>[21.918034306433135, 22.177696873285814, 21.85...</td>\n",
       "      <td>[13.743103594851767, 13.8505713096129, 12.9344...</td>\n",
       "      <td>[1, 1, 1, 1, 1, 1, 1, 1, 1, 1, 1, 1, 1, 1, 1, ...</td>\n",
       "      <td>[1, 1, 1, 1, 1, 1, 1, 1, 1, 1, 1, 1, 1, 1, 1, ...</td>\n",
       "      <td>[1, 1, 1, 1, 1, 1, 1, 1, 1, 1, 1, 1, 1, 1, 1, ...</td>\n",
       "    </tr>\n",
       "    <tr>\n",
       "      <th>4</th>\n",
       "      <td>37450494</td>\n",
       "      <td>20221214_125409_om_and_comp_6_1_top_1_base_2_v...</td>\n",
       "      <td>1.0</td>\n",
       "      <td>6.1</td>\n",
       "      <td>[-3.6210587, -2.9530544, -2.4342163, -2.574735...</td>\n",
       "      <td>[-2.9508927, -2.998453, -2.3282866, -2.0104983...</td>\n",
       "      <td>[-3.6210587, -2.9530544, -2.4342163, -2.574735...</td>\n",
       "      <td>[-1.4191171, -1.3793725, -1.1233703, -0.911788...</td>\n",
       "      <td>[-4.0457697, -4.2304654, -3.9113393, -3.448431...</td>\n",
       "      <td>[-1.4191171, -1.3793725, -1.1233703, -0.911788...</td>\n",
       "      <td>...</td>\n",
       "      <td>[0, 0, 0, 0, 0, 0, 0, 0, 0, 0, 0, 0, 0, 0, 0, ...</td>\n",
       "      <td>[1, 1, 1, 1, 1, 1, 1, 1, 1, 1, 1, 1, 1, 1, 1, ...</td>\n",
       "      <td>[0, 0, 0, 0, 0, 0, 0, 0, 0, 0, 0, 0, 0, 0, 0, ...</td>\n",
       "      <td>[1, 1, 1, 1, 1, 1, 1, 1, 1, 1, 1, 1, 1, 1, 1, ...</td>\n",
       "      <td>[25.23454020309797, 25.108996390924958, 25.390...</td>\n",
       "      <td>[24.85815579080418, 23.083947291084232, 19.909...</td>\n",
       "      <td>[25.23454020309797, 25.108996390924958, 25.390...</td>\n",
       "      <td>[1, 1, 1, 1, 1, 1, 1, 1, 1, 1, 1, 1, 1, 1, 1, ...</td>\n",
       "      <td>[1, 1, 1, 1, 1, 1, 1, 1, 1, 1, 1, 1, 1, 1, 1, ...</td>\n",
       "      <td>[1, 1, 1, 1, 1, 1, 1, 1, 1, 1, 1, 1, 1, 1, 1, ...</td>\n",
       "    </tr>\n",
       "  </tbody>\n",
       "</table>\n",
       "<p>5 rows × 68 columns</p>\n",
       "</div>"
      ],
      "text/plain": [
       "       time                                     recording_file  video_number  \\\n",
       "0  30950500  20221214_125409_om_and_comp_6_1_top_1_base_2_v...           1.0   \n",
       "1  32550496  20221214_125409_om_and_comp_6_1_top_1_base_2_v...           1.0   \n",
       "2  34350494  20221214_125409_om_and_comp_6_1_top_1_base_2_v...           1.0   \n",
       "3  35950496  20221214_125409_om_and_comp_6_1_top_1_base_2_v...           1.0   \n",
       "4  37450494  20221214_125409_om_and_comp_6_1_top_1_base_2_v...           1.0   \n",
       "\n",
       "  current_subject                            mPFC_baseline_lfp_trace  \\\n",
       "0             6.1  [-0.3134648, -0.39993784, -0.8777014, -1.44193...   \n",
       "1             6.1  [1.1176641, 1.0657803, 0.9987637, 0.8128466, 0...   \n",
       "2             6.1  [-0.22482991, 0.3567013, 0.12538591, -0.136195...   \n",
       "3             6.1  [0.4864109, 0.18591705, 0.397776, 0.24212453, ...   \n",
       "4             6.1  [-3.6210587, -2.9530544, -2.4342163, -2.574735...   \n",
       "\n",
       "                                mPFC_trial_lfp_trace  \\\n",
       "0  [0.50154364, 0.29617018, 0.22050627, 0.1145767...   \n",
       "1  [0.31995025, 0.16429879, 0.010809131, 0.067016...   \n",
       "2  [-0.13835686, 0.42804158, 0.5945022, 0.3134648...   \n",
       "3  [-0.32211208, 0.023780087, 0.13835686, -0.1102...   \n",
       "4  [-2.9508927, -2.998453, -2.3282866, -2.0104983...   \n",
       "\n",
       "                       mPFC_baseline-trial_lfp_trace  \\\n",
       "0  [-0.3134648, -0.39993784, -0.8777014, -1.44193...   \n",
       "1  [1.1176641, 1.0657803, 0.9987637, 0.8128466, 0...   \n",
       "2  [-0.22482991, 0.3567013, 0.12538591, -0.136195...   \n",
       "3  [0.4864109, 0.18591705, 0.397776, 0.24212453, ...   \n",
       "4  [-3.6210587, -2.9530544, -2.4342163, -2.574735...   \n",
       "\n",
       "                             vHPC_baseline_lfp_trace  \\\n",
       "0  [0.2583401, -0.26769176, -0.8311303, -1.046219...   \n",
       "1  [1.8691666, 2.0795794, 2.2408957, 2.3461022, 2...   \n",
       "2  [-1.0017985, -0.70955855, -0.7002069, -0.68033...   \n",
       "3  [0.58447987, 0.4675839, 0.21275067, 0.03389983...   \n",
       "4  [-1.4191171, -1.3793725, -1.1233703, -0.911788...   \n",
       "\n",
       "                                vHPC_trial_lfp_trace  \\\n",
       "0  [-1.1479185, -1.1806493, -1.1432426, -1.139735...   \n",
       "1  [-1.0205019, -0.9152954, -0.9947847, -0.976081...   \n",
       "2  [0.47109076, 0.34016728, 0.18352668, 0.174175,...   \n",
       "3  [0.15780956, 0.047927346, -0.14728892, -0.3565...   \n",
       "4  [-4.0457697, -4.2304654, -3.9113393, -3.448431...   \n",
       "\n",
       "                       vHPC_baseline-trial_lfp_trace  ...  \\\n",
       "0  [0.2583401, -0.26769176, -0.8311303, -1.046219...  ...   \n",
       "1  [1.8691666, 2.0795794, 2.2408957, 2.3461022, 2...  ...   \n",
       "2  [-1.0017985, -0.70955855, -0.7002069, -0.68033...  ...   \n",
       "3  [0.58447987, 0.4675839, 0.21275067, 0.03389983...  ...   \n",
       "4  [-1.4191171, -1.3793725, -1.1233703, -0.911788...  ...   \n",
       "\n",
       "  baseline_subject_thorax-to-reward-port_distance_binned  \\\n",
       "0  [0, 0, 0, 0, 0, 0, 0, 0, 0, 1, 1, 1, 1, 1, 1, ...       \n",
       "1  [0, 0, 0, 0, 0, 0, 0, 0, 0, 0, 1, 1, 1, 1, 1, ...       \n",
       "2  [0, 0, 0, 0, 0, 0, 0, 0, 0, 0, 0, 0, 0, 0, 0, ...       \n",
       "3  [0, 0, 0, 0, 0, 0, 0, 0, 0, 0, 0, 0, 0, 0, 0, ...       \n",
       "4  [0, 0, 0, 0, 0, 0, 0, 0, 0, 0, 0, 0, 0, 0, 0, ...       \n",
       "\n",
       "  baseline_agent_thorax-to-reward-port_distance_binned  \\\n",
       "0  [1, 1, 1, 1, 1, 1, 1, 1, 1, 1, 1, 1, 1, 1, 1, ...     \n",
       "1  [1, 1, 1, 1, 1, 1, 1, 1, 1, 1, 1, 1, 0, 0, 0, ...     \n",
       "2  [1, 1, 1, 1, 1, 1, 1, 1, 1, 1, 1, 1, 1, 1, 1, ...     \n",
       "3  [1, 1, 1, 1, 1, 1, 1, 1, 1, 1, 1, 1, 1, 1, 1, ...     \n",
       "4  [1, 1, 1, 1, 1, 1, 1, 1, 1, 1, 1, 1, 1, 1, 1, ...     \n",
       "\n",
       "  baseline-trial_subject_thorax-to-reward-port_distance_binned  \\\n",
       "0  [0, 0, 0, 0, 0, 0, 0, 0, 0, 1, 1, 1, 1, 1, 1, ...             \n",
       "1  [0, 0, 0, 0, 0, 0, 0, 0, 0, 0, 1, 1, 1, 1, 1, ...             \n",
       "2  [0, 0, 0, 0, 0, 0, 0, 0, 0, 0, 0, 0, 0, 0, 0, ...             \n",
       "3  [0, 0, 0, 0, 0, 0, 0, 0, 0, 0, 0, 0, 0, 0, 0, ...             \n",
       "4  [0, 0, 0, 0, 0, 0, 0, 0, 0, 0, 0, 0, 0, 0, 0, ...             \n",
       "\n",
       "  baseline-trial_agent_thorax-to-reward-port_distance_binned  \\\n",
       "0  [1, 1, 1, 1, 1, 1, 1, 1, 1, 1, 1, 1, 1, 1, 1, ...           \n",
       "1  [1, 1, 1, 1, 1, 1, 1, 1, 1, 1, 1, 1, 0, 0, 0, ...           \n",
       "2  [1, 1, 1, 1, 1, 1, 1, 1, 1, 1, 1, 1, 1, 1, 1, ...           \n",
       "3  [1, 1, 1, 1, 1, 1, 1, 1, 1, 1, 1, 1, 1, 1, 1, ...           \n",
       "4  [1, 1, 1, 1, 1, 1, 1, 1, 1, 1, 1, 1, 1, 1, 1, ...           \n",
       "\n",
       "   baseline_subject_thorax-to-agent_distance_chunked  \\\n",
       "0  [24.979701762391695, 22.97606870054344, 21.618...   \n",
       "1  [17.180542025000065, 15.67928472897514, 16.254...   \n",
       "2  [10.481987827455116, 13.904524717531153, 20.77...   \n",
       "3  [13.743103594851767, 13.8505713096129, 12.9344...   \n",
       "4  [25.23454020309797, 25.108996390924958, 25.390...   \n",
       "\n",
       "      trial_subject_thorax-to-agent_distance_chunked  \\\n",
       "0  [15.254204064734637, 10.725816239560091, 8.417...   \n",
       "1  [16.075444063675132, 21.578669453644572, 25.00...   \n",
       "2  [20.98692816276465, 20.91714274677675, 21.0041...   \n",
       "3  [21.918034306433135, 22.177696873285814, 21.85...   \n",
       "4  [24.85815579080418, 23.083947291084232, 19.909...   \n",
       "\n",
       "  baseline-trial_subject_thorax-to-agent_distance_chunked  \\\n",
       "0  [24.979701762391695, 22.97606870054344, 21.618...        \n",
       "1  [17.180542025000065, 15.67928472897514, 16.254...        \n",
       "2  [10.481987827455116, 13.904524717531153, 20.77...        \n",
       "3  [13.743103594851767, 13.8505713096129, 12.9344...        \n",
       "4  [25.23454020309797, 25.108996390924958, 25.390...        \n",
       "\n",
       "    baseline_subject_thorax-to-agent_distance_binned  \\\n",
       "0  [1, 1, 1, 1, 1, 1, 1, 1, 1, 1, 1, 1, 1, 1, 1, ...   \n",
       "1  [1, 1, 1, 1, 1, 1, 1, 1, 1, 1, 1, 1, 1, 1, 1, ...   \n",
       "2  [1, 1, 1, 1, 1, 1, 1, 1, 1, 1, 1, 1, 1, 1, 1, ...   \n",
       "3  [1, 1, 1, 1, 1, 1, 1, 1, 1, 1, 1, 1, 1, 1, 1, ...   \n",
       "4  [1, 1, 1, 1, 1, 1, 1, 1, 1, 1, 1, 1, 1, 1, 1, ...   \n",
       "\n",
       "       trial_subject_thorax-to-agent_distance_binned  \\\n",
       "0  [1, 1, 1, 1, 1, 1, 1, 1, 1, 1, 1, 1, 1, 1, 1, ...   \n",
       "1  [1, 1, 1, 1, 1, 1, 1, 1, 1, 1, 1, 1, 1, 1, 1, ...   \n",
       "2  [1, 1, 1, 1, 1, 1, 1, 1, 1, 1, 1, 1, 1, 1, 1, ...   \n",
       "3  [1, 1, 1, 1, 1, 1, 1, 1, 1, 1, 1, 1, 1, 1, 1, ...   \n",
       "4  [1, 1, 1, 1, 1, 1, 1, 1, 1, 1, 1, 1, 1, 1, 1, ...   \n",
       "\n",
       "  baseline-trial_subject_thorax-to-agent_distance_binned  \n",
       "0  [1, 1, 1, 1, 1, 1, 1, 1, 1, 1, 1, 1, 1, 1, 1, ...      \n",
       "1  [1, 1, 1, 1, 1, 1, 1, 1, 1, 1, 1, 1, 1, 1, 1, ...      \n",
       "2  [1, 1, 1, 1, 1, 1, 1, 1, 1, 1, 1, 1, 1, 1, 1, ...      \n",
       "3  [1, 1, 1, 1, 1, 1, 1, 1, 1, 1, 1, 1, 1, 1, 1, ...      \n",
       "4  [1, 1, 1, 1, 1, 1, 1, 1, 1, 1, 1, 1, 1, 1, 1, ...      \n",
       "\n",
       "[5 rows x 68 columns]"
      ]
     },
     "execution_count": 25,
     "metadata": {},
     "output_type": "execute_result"
    }
   ],
   "source": [
    "MERGED_LFP_AND_SLEAP.head()"
   ]
  },
  {
   "cell_type": "markdown",
   "metadata": {},
   "source": [
    "- Calcuating the power at each frequency band"
   ]
  },
  {
   "cell_type": "code",
   "execution_count": 26,
   "metadata": {},
   "outputs": [],
   "source": [
    "trace_columns = [col for col in MERGED_LFP_AND_SLEAP.columns if \"baseline_and_trial_lfp_trace\" in col]"
   ]
  },
  {
   "cell_type": "code",
   "execution_count": 27,
   "metadata": {},
   "outputs": [
    {
     "data": {
      "text/plain": [
       "[]"
      ]
     },
     "execution_count": 27,
     "metadata": {},
     "output_type": "execute_result"
    }
   ],
   "source": [
    "trace_columns"
   ]
  },
  {
   "cell_type": "markdown",
   "metadata": {},
   "source": [
    "- Getting the trace column pairs"
   ]
  },
  {
   "cell_type": "code",
   "execution_count": 28,
   "metadata": {},
   "outputs": [],
   "source": [
    "brain_region_pairs = generate_pairs(trace_columns)\n",
    "brain_region_pairs = sorted(brain_region_pairs)\n"
   ]
  },
  {
   "cell_type": "markdown",
   "metadata": {},
   "source": [
    "- Getting just the region names"
   ]
  },
  {
   "cell_type": "code",
   "execution_count": 29,
   "metadata": {},
   "outputs": [],
   "source": [
    "all_pair_base_name = []\n",
    "for region_1, region_2 in brain_region_pairs:\n",
    "    all_pair_base_name.append(\"{}_{}\".format(region_1.split(\"_\")[0], region_2.split(\"_\")[0]))\n",
    "all_pair_base_name = sorted(all_pair_base_name)"
   ]
  },
  {
   "cell_type": "code",
   "execution_count": 30,
   "metadata": {
    "scrolled": true
   },
   "outputs": [
    {
     "data": {
      "text/plain": [
       "[]"
      ]
     },
     "execution_count": 30,
     "metadata": {},
     "output_type": "execute_result"
    }
   ],
   "source": [
    "all_pair_base_name"
   ]
  },
  {
   "cell_type": "markdown",
   "metadata": {},
   "source": [
    "## Coherece Calculation"
   ]
  },
  {
   "cell_type": "markdown",
   "metadata": {},
   "source": [
    "- Calculating the coherence"
   ]
  },
  {
   "cell_type": "code",
   "execution_count": 31,
   "metadata": {},
   "outputs": [
    {
     "data": {
      "text/html": [
       "<div>\n",
       "<style scoped>\n",
       "    .dataframe tbody tr th:only-of-type {\n",
       "        vertical-align: middle;\n",
       "    }\n",
       "\n",
       "    .dataframe tbody tr th {\n",
       "        vertical-align: top;\n",
       "    }\n",
       "\n",
       "    .dataframe thead th {\n",
       "        text-align: right;\n",
       "    }\n",
       "</style>\n",
       "<table border=\"1\" class=\"dataframe\">\n",
       "  <thead>\n",
       "    <tr style=\"text-align: right;\">\n",
       "      <th></th>\n",
       "      <th>time</th>\n",
       "      <th>recording_file</th>\n",
       "      <th>video_number</th>\n",
       "      <th>current_subject</th>\n",
       "      <th>mPFC_baseline_lfp_trace</th>\n",
       "      <th>mPFC_trial_lfp_trace</th>\n",
       "      <th>mPFC_baseline-trial_lfp_trace</th>\n",
       "      <th>vHPC_baseline_lfp_trace</th>\n",
       "      <th>vHPC_trial_lfp_trace</th>\n",
       "      <th>vHPC_baseline-trial_lfp_trace</th>\n",
       "      <th>...</th>\n",
       "      <th>baseline_subject_thorax-to-reward-port_distance_binned</th>\n",
       "      <th>baseline_agent_thorax-to-reward-port_distance_binned</th>\n",
       "      <th>baseline-trial_subject_thorax-to-reward-port_distance_binned</th>\n",
       "      <th>baseline-trial_agent_thorax-to-reward-port_distance_binned</th>\n",
       "      <th>baseline_subject_thorax-to-agent_distance_chunked</th>\n",
       "      <th>trial_subject_thorax-to-agent_distance_chunked</th>\n",
       "      <th>baseline-trial_subject_thorax-to-agent_distance_chunked</th>\n",
       "      <th>baseline_subject_thorax-to-agent_distance_binned</th>\n",
       "      <th>trial_subject_thorax-to-agent_distance_binned</th>\n",
       "      <th>baseline-trial_subject_thorax-to-agent_distance_binned</th>\n",
       "    </tr>\n",
       "  </thead>\n",
       "  <tbody>\n",
       "    <tr>\n",
       "      <th>0</th>\n",
       "      <td>30950500</td>\n",
       "      <td>20221214_125409_om_and_comp_6_1_top_1_base_2_v...</td>\n",
       "      <td>1.0</td>\n",
       "      <td>6.1</td>\n",
       "      <td>[-0.3134648, -0.39993784, -0.8777014, -1.44193...</td>\n",
       "      <td>[0.50154364, 0.29617018, 0.22050627, 0.1145767...</td>\n",
       "      <td>[-0.3134648, -0.39993784, -0.8777014, -1.44193...</td>\n",
       "      <td>[0.2583401, -0.26769176, -0.8311303, -1.046219...</td>\n",
       "      <td>[-1.1479185, -1.1806493, -1.1432426, -1.139735...</td>\n",
       "      <td>[0.2583401, -0.26769176, -0.8311303, -1.046219...</td>\n",
       "      <td>...</td>\n",
       "      <td>[0, 0, 0, 0, 0, 0, 0, 0, 0, 1, 1, 1, 1, 1, 1, ...</td>\n",
       "      <td>[1, 1, 1, 1, 1, 1, 1, 1, 1, 1, 1, 1, 1, 1, 1, ...</td>\n",
       "      <td>[0, 0, 0, 0, 0, 0, 0, 0, 0, 1, 1, 1, 1, 1, 1, ...</td>\n",
       "      <td>[1, 1, 1, 1, 1, 1, 1, 1, 1, 1, 1, 1, 1, 1, 1, ...</td>\n",
       "      <td>[24.979701762391695, 22.97606870054344, 21.618...</td>\n",
       "      <td>[15.254204064734637, 10.725816239560091, 8.417...</td>\n",
       "      <td>[24.979701762391695, 22.97606870054344, 21.618...</td>\n",
       "      <td>[1, 1, 1, 1, 1, 1, 1, 1, 1, 1, 1, 1, 1, 1, 1, ...</td>\n",
       "      <td>[1, 1, 1, 1, 1, 1, 1, 1, 1, 1, 1, 1, 1, 1, 1, ...</td>\n",
       "      <td>[1, 1, 1, 1, 1, 1, 1, 1, 1, 1, 1, 1, 1, 1, 1, ...</td>\n",
       "    </tr>\n",
       "    <tr>\n",
       "      <th>1</th>\n",
       "      <td>32550496</td>\n",
       "      <td>20221214_125409_om_and_comp_6_1_top_1_base_2_v...</td>\n",
       "      <td>1.0</td>\n",
       "      <td>6.1</td>\n",
       "      <td>[1.1176641, 1.0657803, 0.9987637, 0.8128466, 0...</td>\n",
       "      <td>[0.31995025, 0.16429879, 0.010809131, 0.067016...</td>\n",
       "      <td>[1.1176641, 1.0657803, 0.9987637, 0.8128466, 0...</td>\n",
       "      <td>[1.8691666, 2.0795794, 2.2408957, 2.3461022, 2...</td>\n",
       "      <td>[-1.0205019, -0.9152954, -0.9947847, -0.976081...</td>\n",
       "      <td>[1.8691666, 2.0795794, 2.2408957, 2.3461022, 2...</td>\n",
       "      <td>...</td>\n",
       "      <td>[0, 0, 0, 0, 0, 0, 0, 0, 0, 0, 1, 1, 1, 1, 1, ...</td>\n",
       "      <td>[1, 1, 1, 1, 1, 1, 1, 1, 1, 1, 1, 1, 0, 0, 0, ...</td>\n",
       "      <td>[0, 0, 0, 0, 0, 0, 0, 0, 0, 0, 1, 1, 1, 1, 1, ...</td>\n",
       "      <td>[1, 1, 1, 1, 1, 1, 1, 1, 1, 1, 1, 1, 0, 0, 0, ...</td>\n",
       "      <td>[17.180542025000065, 15.67928472897514, 16.254...</td>\n",
       "      <td>[16.075444063675132, 21.578669453644572, 25.00...</td>\n",
       "      <td>[17.180542025000065, 15.67928472897514, 16.254...</td>\n",
       "      <td>[1, 1, 1, 1, 1, 1, 1, 1, 1, 1, 1, 1, 1, 1, 1, ...</td>\n",
       "      <td>[1, 1, 1, 1, 1, 1, 1, 1, 1, 1, 1, 1, 1, 1, 1, ...</td>\n",
       "      <td>[1, 1, 1, 1, 1, 1, 1, 1, 1, 1, 1, 1, 1, 1, 1, ...</td>\n",
       "    </tr>\n",
       "    <tr>\n",
       "      <th>2</th>\n",
       "      <td>34350494</td>\n",
       "      <td>20221214_125409_om_and_comp_6_1_top_1_base_2_v...</td>\n",
       "      <td>1.0</td>\n",
       "      <td>6.1</td>\n",
       "      <td>[-0.22482991, 0.3567013, 0.12538591, -0.136195...</td>\n",
       "      <td>[-0.13835686, 0.42804158, 0.5945022, 0.3134648...</td>\n",
       "      <td>[-0.22482991, 0.3567013, 0.12538591, -0.136195...</td>\n",
       "      <td>[-1.0017985, -0.70955855, -0.7002069, -0.68033...</td>\n",
       "      <td>[0.47109076, 0.34016728, 0.18352668, 0.174175,...</td>\n",
       "      <td>[-1.0017985, -0.70955855, -0.7002069, -0.68033...</td>\n",
       "      <td>...</td>\n",
       "      <td>[0, 0, 0, 0, 0, 0, 0, 0, 0, 0, 0, 0, 0, 0, 0, ...</td>\n",
       "      <td>[1, 1, 1, 1, 1, 1, 1, 1, 1, 1, 1, 1, 1, 1, 1, ...</td>\n",
       "      <td>[0, 0, 0, 0, 0, 0, 0, 0, 0, 0, 0, 0, 0, 0, 0, ...</td>\n",
       "      <td>[1, 1, 1, 1, 1, 1, 1, 1, 1, 1, 1, 1, 1, 1, 1, ...</td>\n",
       "      <td>[10.481987827455116, 13.904524717531153, 20.77...</td>\n",
       "      <td>[20.98692816276465, 20.91714274677675, 21.0041...</td>\n",
       "      <td>[10.481987827455116, 13.904524717531153, 20.77...</td>\n",
       "      <td>[1, 1, 1, 1, 1, 1, 1, 1, 1, 1, 1, 1, 1, 1, 1, ...</td>\n",
       "      <td>[1, 1, 1, 1, 1, 1, 1, 1, 1, 1, 1, 1, 1, 1, 1, ...</td>\n",
       "      <td>[1, 1, 1, 1, 1, 1, 1, 1, 1, 1, 1, 1, 1, 1, 1, ...</td>\n",
       "    </tr>\n",
       "    <tr>\n",
       "      <th>3</th>\n",
       "      <td>35950496</td>\n",
       "      <td>20221214_125409_om_and_comp_6_1_top_1_base_2_v...</td>\n",
       "      <td>1.0</td>\n",
       "      <td>6.1</td>\n",
       "      <td>[0.4864109, 0.18591705, 0.397776, 0.24212453, ...</td>\n",
       "      <td>[-0.32211208, 0.023780087, 0.13835686, -0.1102...</td>\n",
       "      <td>[0.4864109, 0.18591705, 0.397776, 0.24212453, ...</td>\n",
       "      <td>[0.58447987, 0.4675839, 0.21275067, 0.03389983...</td>\n",
       "      <td>[0.15780956, 0.047927346, -0.14728892, -0.3565...</td>\n",
       "      <td>[0.58447987, 0.4675839, 0.21275067, 0.03389983...</td>\n",
       "      <td>...</td>\n",
       "      <td>[0, 0, 0, 0, 0, 0, 0, 0, 0, 0, 0, 0, 0, 0, 0, ...</td>\n",
       "      <td>[1, 1, 1, 1, 1, 1, 1, 1, 1, 1, 1, 1, 1, 1, 1, ...</td>\n",
       "      <td>[0, 0, 0, 0, 0, 0, 0, 0, 0, 0, 0, 0, 0, 0, 0, ...</td>\n",
       "      <td>[1, 1, 1, 1, 1, 1, 1, 1, 1, 1, 1, 1, 1, 1, 1, ...</td>\n",
       "      <td>[13.743103594851767, 13.8505713096129, 12.9344...</td>\n",
       "      <td>[21.918034306433135, 22.177696873285814, 21.85...</td>\n",
       "      <td>[13.743103594851767, 13.8505713096129, 12.9344...</td>\n",
       "      <td>[1, 1, 1, 1, 1, 1, 1, 1, 1, 1, 1, 1, 1, 1, 1, ...</td>\n",
       "      <td>[1, 1, 1, 1, 1, 1, 1, 1, 1, 1, 1, 1, 1, 1, 1, ...</td>\n",
       "      <td>[1, 1, 1, 1, 1, 1, 1, 1, 1, 1, 1, 1, 1, 1, 1, ...</td>\n",
       "    </tr>\n",
       "    <tr>\n",
       "      <th>4</th>\n",
       "      <td>37450494</td>\n",
       "      <td>20221214_125409_om_and_comp_6_1_top_1_base_2_v...</td>\n",
       "      <td>1.0</td>\n",
       "      <td>6.1</td>\n",
       "      <td>[-3.6210587, -2.9530544, -2.4342163, -2.574735...</td>\n",
       "      <td>[-2.9508927, -2.998453, -2.3282866, -2.0104983...</td>\n",
       "      <td>[-3.6210587, -2.9530544, -2.4342163, -2.574735...</td>\n",
       "      <td>[-1.4191171, -1.3793725, -1.1233703, -0.911788...</td>\n",
       "      <td>[-4.0457697, -4.2304654, -3.9113393, -3.448431...</td>\n",
       "      <td>[-1.4191171, -1.3793725, -1.1233703, -0.911788...</td>\n",
       "      <td>...</td>\n",
       "      <td>[0, 0, 0, 0, 0, 0, 0, 0, 0, 0, 0, 0, 0, 0, 0, ...</td>\n",
       "      <td>[1, 1, 1, 1, 1, 1, 1, 1, 1, 1, 1, 1, 1, 1, 1, ...</td>\n",
       "      <td>[0, 0, 0, 0, 0, 0, 0, 0, 0, 0, 0, 0, 0, 0, 0, ...</td>\n",
       "      <td>[1, 1, 1, 1, 1, 1, 1, 1, 1, 1, 1, 1, 1, 1, 1, ...</td>\n",
       "      <td>[25.23454020309797, 25.108996390924958, 25.390...</td>\n",
       "      <td>[24.85815579080418, 23.083947291084232, 19.909...</td>\n",
       "      <td>[25.23454020309797, 25.108996390924958, 25.390...</td>\n",
       "      <td>[1, 1, 1, 1, 1, 1, 1, 1, 1, 1, 1, 1, 1, 1, 1, ...</td>\n",
       "      <td>[1, 1, 1, 1, 1, 1, 1, 1, 1, 1, 1, 1, 1, 1, 1, ...</td>\n",
       "      <td>[1, 1, 1, 1, 1, 1, 1, 1, 1, 1, 1, 1, 1, 1, 1, ...</td>\n",
       "    </tr>\n",
       "  </tbody>\n",
       "</table>\n",
       "<p>5 rows × 68 columns</p>\n",
       "</div>"
      ],
      "text/plain": [
       "       time                                     recording_file  video_number  \\\n",
       "0  30950500  20221214_125409_om_and_comp_6_1_top_1_base_2_v...           1.0   \n",
       "1  32550496  20221214_125409_om_and_comp_6_1_top_1_base_2_v...           1.0   \n",
       "2  34350494  20221214_125409_om_and_comp_6_1_top_1_base_2_v...           1.0   \n",
       "3  35950496  20221214_125409_om_and_comp_6_1_top_1_base_2_v...           1.0   \n",
       "4  37450494  20221214_125409_om_and_comp_6_1_top_1_base_2_v...           1.0   \n",
       "\n",
       "  current_subject                            mPFC_baseline_lfp_trace  \\\n",
       "0             6.1  [-0.3134648, -0.39993784, -0.8777014, -1.44193...   \n",
       "1             6.1  [1.1176641, 1.0657803, 0.9987637, 0.8128466, 0...   \n",
       "2             6.1  [-0.22482991, 0.3567013, 0.12538591, -0.136195...   \n",
       "3             6.1  [0.4864109, 0.18591705, 0.397776, 0.24212453, ...   \n",
       "4             6.1  [-3.6210587, -2.9530544, -2.4342163, -2.574735...   \n",
       "\n",
       "                                mPFC_trial_lfp_trace  \\\n",
       "0  [0.50154364, 0.29617018, 0.22050627, 0.1145767...   \n",
       "1  [0.31995025, 0.16429879, 0.010809131, 0.067016...   \n",
       "2  [-0.13835686, 0.42804158, 0.5945022, 0.3134648...   \n",
       "3  [-0.32211208, 0.023780087, 0.13835686, -0.1102...   \n",
       "4  [-2.9508927, -2.998453, -2.3282866, -2.0104983...   \n",
       "\n",
       "                       mPFC_baseline-trial_lfp_trace  \\\n",
       "0  [-0.3134648, -0.39993784, -0.8777014, -1.44193...   \n",
       "1  [1.1176641, 1.0657803, 0.9987637, 0.8128466, 0...   \n",
       "2  [-0.22482991, 0.3567013, 0.12538591, -0.136195...   \n",
       "3  [0.4864109, 0.18591705, 0.397776, 0.24212453, ...   \n",
       "4  [-3.6210587, -2.9530544, -2.4342163, -2.574735...   \n",
       "\n",
       "                             vHPC_baseline_lfp_trace  \\\n",
       "0  [0.2583401, -0.26769176, -0.8311303, -1.046219...   \n",
       "1  [1.8691666, 2.0795794, 2.2408957, 2.3461022, 2...   \n",
       "2  [-1.0017985, -0.70955855, -0.7002069, -0.68033...   \n",
       "3  [0.58447987, 0.4675839, 0.21275067, 0.03389983...   \n",
       "4  [-1.4191171, -1.3793725, -1.1233703, -0.911788...   \n",
       "\n",
       "                                vHPC_trial_lfp_trace  \\\n",
       "0  [-1.1479185, -1.1806493, -1.1432426, -1.139735...   \n",
       "1  [-1.0205019, -0.9152954, -0.9947847, -0.976081...   \n",
       "2  [0.47109076, 0.34016728, 0.18352668, 0.174175,...   \n",
       "3  [0.15780956, 0.047927346, -0.14728892, -0.3565...   \n",
       "4  [-4.0457697, -4.2304654, -3.9113393, -3.448431...   \n",
       "\n",
       "                       vHPC_baseline-trial_lfp_trace  ...  \\\n",
       "0  [0.2583401, -0.26769176, -0.8311303, -1.046219...  ...   \n",
       "1  [1.8691666, 2.0795794, 2.2408957, 2.3461022, 2...  ...   \n",
       "2  [-1.0017985, -0.70955855, -0.7002069, -0.68033...  ...   \n",
       "3  [0.58447987, 0.4675839, 0.21275067, 0.03389983...  ...   \n",
       "4  [-1.4191171, -1.3793725, -1.1233703, -0.911788...  ...   \n",
       "\n",
       "  baseline_subject_thorax-to-reward-port_distance_binned  \\\n",
       "0  [0, 0, 0, 0, 0, 0, 0, 0, 0, 1, 1, 1, 1, 1, 1, ...       \n",
       "1  [0, 0, 0, 0, 0, 0, 0, 0, 0, 0, 1, 1, 1, 1, 1, ...       \n",
       "2  [0, 0, 0, 0, 0, 0, 0, 0, 0, 0, 0, 0, 0, 0, 0, ...       \n",
       "3  [0, 0, 0, 0, 0, 0, 0, 0, 0, 0, 0, 0, 0, 0, 0, ...       \n",
       "4  [0, 0, 0, 0, 0, 0, 0, 0, 0, 0, 0, 0, 0, 0, 0, ...       \n",
       "\n",
       "  baseline_agent_thorax-to-reward-port_distance_binned  \\\n",
       "0  [1, 1, 1, 1, 1, 1, 1, 1, 1, 1, 1, 1, 1, 1, 1, ...     \n",
       "1  [1, 1, 1, 1, 1, 1, 1, 1, 1, 1, 1, 1, 0, 0, 0, ...     \n",
       "2  [1, 1, 1, 1, 1, 1, 1, 1, 1, 1, 1, 1, 1, 1, 1, ...     \n",
       "3  [1, 1, 1, 1, 1, 1, 1, 1, 1, 1, 1, 1, 1, 1, 1, ...     \n",
       "4  [1, 1, 1, 1, 1, 1, 1, 1, 1, 1, 1, 1, 1, 1, 1, ...     \n",
       "\n",
       "  baseline-trial_subject_thorax-to-reward-port_distance_binned  \\\n",
       "0  [0, 0, 0, 0, 0, 0, 0, 0, 0, 1, 1, 1, 1, 1, 1, ...             \n",
       "1  [0, 0, 0, 0, 0, 0, 0, 0, 0, 0, 1, 1, 1, 1, 1, ...             \n",
       "2  [0, 0, 0, 0, 0, 0, 0, 0, 0, 0, 0, 0, 0, 0, 0, ...             \n",
       "3  [0, 0, 0, 0, 0, 0, 0, 0, 0, 0, 0, 0, 0, 0, 0, ...             \n",
       "4  [0, 0, 0, 0, 0, 0, 0, 0, 0, 0, 0, 0, 0, 0, 0, ...             \n",
       "\n",
       "  baseline-trial_agent_thorax-to-reward-port_distance_binned  \\\n",
       "0  [1, 1, 1, 1, 1, 1, 1, 1, 1, 1, 1, 1, 1, 1, 1, ...           \n",
       "1  [1, 1, 1, 1, 1, 1, 1, 1, 1, 1, 1, 1, 0, 0, 0, ...           \n",
       "2  [1, 1, 1, 1, 1, 1, 1, 1, 1, 1, 1, 1, 1, 1, 1, ...           \n",
       "3  [1, 1, 1, 1, 1, 1, 1, 1, 1, 1, 1, 1, 1, 1, 1, ...           \n",
       "4  [1, 1, 1, 1, 1, 1, 1, 1, 1, 1, 1, 1, 1, 1, 1, ...           \n",
       "\n",
       "   baseline_subject_thorax-to-agent_distance_chunked  \\\n",
       "0  [24.979701762391695, 22.97606870054344, 21.618...   \n",
       "1  [17.180542025000065, 15.67928472897514, 16.254...   \n",
       "2  [10.481987827455116, 13.904524717531153, 20.77...   \n",
       "3  [13.743103594851767, 13.8505713096129, 12.9344...   \n",
       "4  [25.23454020309797, 25.108996390924958, 25.390...   \n",
       "\n",
       "      trial_subject_thorax-to-agent_distance_chunked  \\\n",
       "0  [15.254204064734637, 10.725816239560091, 8.417...   \n",
       "1  [16.075444063675132, 21.578669453644572, 25.00...   \n",
       "2  [20.98692816276465, 20.91714274677675, 21.0041...   \n",
       "3  [21.918034306433135, 22.177696873285814, 21.85...   \n",
       "4  [24.85815579080418, 23.083947291084232, 19.909...   \n",
       "\n",
       "  baseline-trial_subject_thorax-to-agent_distance_chunked  \\\n",
       "0  [24.979701762391695, 22.97606870054344, 21.618...        \n",
       "1  [17.180542025000065, 15.67928472897514, 16.254...        \n",
       "2  [10.481987827455116, 13.904524717531153, 20.77...        \n",
       "3  [13.743103594851767, 13.8505713096129, 12.9344...        \n",
       "4  [25.23454020309797, 25.108996390924958, 25.390...        \n",
       "\n",
       "    baseline_subject_thorax-to-agent_distance_binned  \\\n",
       "0  [1, 1, 1, 1, 1, 1, 1, 1, 1, 1, 1, 1, 1, 1, 1, ...   \n",
       "1  [1, 1, 1, 1, 1, 1, 1, 1, 1, 1, 1, 1, 1, 1, 1, ...   \n",
       "2  [1, 1, 1, 1, 1, 1, 1, 1, 1, 1, 1, 1, 1, 1, 1, ...   \n",
       "3  [1, 1, 1, 1, 1, 1, 1, 1, 1, 1, 1, 1, 1, 1, 1, ...   \n",
       "4  [1, 1, 1, 1, 1, 1, 1, 1, 1, 1, 1, 1, 1, 1, 1, ...   \n",
       "\n",
       "       trial_subject_thorax-to-agent_distance_binned  \\\n",
       "0  [1, 1, 1, 1, 1, 1, 1, 1, 1, 1, 1, 1, 1, 1, 1, ...   \n",
       "1  [1, 1, 1, 1, 1, 1, 1, 1, 1, 1, 1, 1, 1, 1, 1, ...   \n",
       "2  [1, 1, 1, 1, 1, 1, 1, 1, 1, 1, 1, 1, 1, 1, 1, ...   \n",
       "3  [1, 1, 1, 1, 1, 1, 1, 1, 1, 1, 1, 1, 1, 1, 1, ...   \n",
       "4  [1, 1, 1, 1, 1, 1, 1, 1, 1, 1, 1, 1, 1, 1, 1, ...   \n",
       "\n",
       "  baseline-trial_subject_thorax-to-agent_distance_binned  \n",
       "0  [1, 1, 1, 1, 1, 1, 1, 1, 1, 1, 1, 1, 1, 1, 1, ...      \n",
       "1  [1, 1, 1, 1, 1, 1, 1, 1, 1, 1, 1, 1, 1, 1, 1, ...      \n",
       "2  [1, 1, 1, 1, 1, 1, 1, 1, 1, 1, 1, 1, 1, 1, 1, ...      \n",
       "3  [1, 1, 1, 1, 1, 1, 1, 1, 1, 1, 1, 1, 1, 1, 1, ...      \n",
       "4  [1, 1, 1, 1, 1, 1, 1, 1, 1, 1, 1, 1, 1, 1, 1, ...      \n",
       "\n",
       "[5 rows x 68 columns]"
      ]
     },
     "execution_count": 31,
     "metadata": {},
     "output_type": "execute_result"
    }
   ],
   "source": [
    "MERGED_LFP_AND_SLEAP.head()"
   ]
  },
  {
   "cell_type": "code",
   "execution_count": 32,
   "metadata": {},
   "outputs": [],
   "source": [
    "num = 0\n",
    "for region_1, region_2 in brain_region_pairs:\n",
    "    pair_base_name = \"{}_{}\".format(region_1.split(\"_\")[0], region_2.split(\"_\")[0])\n",
    "    print(pair_base_name)\n",
    "    try:\n",
    "        multitaper_col = \"{}_multitaper\".format(pair_base_name)\n",
    "        MERGED_LFP_AND_SLEAP[multitaper_col] = MERGED_LFP_AND_SLEAP.apply(lambda x: Multitaper(time_series=np.array([x[region_1],x[region_2]]).T, sampling_frequency=RESAMPLE_RATE, time_halfbandwidth_product=TIME_HALFBANDWIDTH_PRODUCT, time_window_step=TIME_WINDOW_STEP, time_window_duration=TIME_WINDOW_DURATION), axis=1)\n",
    "    \n",
    "        connectivity_col = \"{}_connectivity\".format(pair_base_name)\n",
    "        MERGED_LFP_AND_SLEAP[connectivity_col] = MERGED_LFP_AND_SLEAP[multitaper_col].apply(lambda x: Connectivity.from_multitaper(x))\n",
    "        \n",
    "        MERGED_LFP_AND_SLEAP[\"{}_frequencies\".format(pair_base_name)] = MERGED_LFP_AND_SLEAP[connectivity_col].apply(lambda x: x.frequencies)\n",
    "    \n",
    "        MERGED_LFP_AND_SLEAP[\"{}_all_window_coherence\".format(pair_base_name)] = MERGED_LFP_AND_SLEAP[connectivity_col].apply(lambda x: x.coherence_magnitude()[:,:,0,1])\n",
    "\n",
    "        MERGED_LFP_AND_SLEAP[\"{}_window_mean_coherence\".format(pair_base_name)] = MERGED_LFP_AND_SLEAP[\"{}_all_window_coherence\".format(pair_base_name)].apply(lambda x: np.nanmean(x, axis=0))\n",
    "    except Exception as e: \n",
    "        print(e)\n",
    "    MERGED_LFP_AND_SLEAP = MERGED_LFP_AND_SLEAP.drop(columns=[multitaper_col, connectivity_col], errors=\"ignore\")\n",
    "    MERGED_LFP_AND_SLEAP.to_pickle(\"./proc/spectrogram/coherence_for_spectrogram_{}.pkl\".format(num))\n",
    "    num += 1\n",
    "    "
   ]
  },
  {
   "cell_type": "code",
   "execution_count": null,
   "metadata": {},
   "outputs": [],
   "source": []
  },
  {
   "cell_type": "code",
   "execution_count": null,
   "metadata": {},
   "outputs": [],
   "source": []
  },
  {
   "cell_type": "code",
   "execution_count": null,
   "metadata": {},
   "outputs": [],
   "source": []
  },
  {
   "cell_type": "code",
   "execution_count": null,
   "metadata": {},
   "outputs": [],
   "source": []
  },
  {
   "cell_type": "code",
   "execution_count": null,
   "metadata": {},
   "outputs": [],
   "source": []
  },
  {
   "cell_type": "code",
   "execution_count": null,
   "metadata": {},
   "outputs": [],
   "source": []
  },
  {
   "cell_type": "code",
   "execution_count": null,
   "metadata": {},
   "outputs": [],
   "source": []
  },
  {
   "cell_type": "code",
   "execution_count": null,
   "metadata": {},
   "outputs": [],
   "source": []
  },
  {
   "cell_type": "code",
   "execution_count": null,
   "metadata": {},
   "outputs": [],
   "source": []
  },
  {
   "cell_type": "code",
   "execution_count": null,
   "metadata": {},
   "outputs": [],
   "source": []
  },
  {
   "cell_type": "code",
   "execution_count": null,
   "metadata": {},
   "outputs": [],
   "source": []
  },
  {
   "cell_type": "code",
   "execution_count": null,
   "metadata": {},
   "outputs": [],
   "source": []
  },
  {
   "cell_type": "code",
   "execution_count": 33,
   "metadata": {},
   "outputs": [
    {
     "ename": "ValueError",
     "evalue": "",
     "output_type": "error",
     "traceback": [
      "\u001b[0;31m---------------------------------------------------------------------------\u001b[0m",
      "\u001b[0;31mValueError\u001b[0m                                Traceback (most recent call last)",
      "Cell \u001b[0;32mIn[33], line 1\u001b[0m\n\u001b[0;32m----> 1\u001b[0m \u001b[38;5;28;01mraise\u001b[39;00m \u001b[38;5;167;01mValueError\u001b[39;00m()\n",
      "\u001b[0;31mValueError\u001b[0m: "
     ]
    }
   ],
   "source": [
    "raise ValueError()"
   ]
  },
  {
   "cell_type": "markdown",
   "metadata": {},
   "source": [
    "# Plotting spectrograms"
   ]
  },
  {
   "cell_type": "code",
   "execution_count": null,
   "metadata": {},
   "outputs": [],
   "source": [
    "# Create an array of frequency bin indices, starting from 1 to avoid division by zero\n",
    "frequency_bins = np.arange(1, 50 + 1)\n",
    "\n",
    "# Calculate the reference power following 1/f\n",
    "reference_power = 1 / frequency_bins\n",
    "\n",
    "\n"
   ]
  },
  {
   "cell_type": "code",
   "execution_count": null,
   "metadata": {},
   "outputs": [],
   "source": [
    "reference_power"
   ]
  },
  {
   "cell_type": "code",
   "execution_count": null,
   "metadata": {},
   "outputs": [],
   "source": [
    "# Normalize the power in each frequency band by the reference power\n",
    "# We use broadcasting to divide each column by the corresponding reference power value\n",
    "normalized_spectrogram = spectrogram_data / reference_power\n",
    "\n",
    "normalized_spectrogram"
   ]
  },
  {
   "cell_type": "code",
   "execution_count": null,
   "metadata": {
    "scrolled": true
   },
   "outputs": [],
   "source": [
    "MERGED_LFP_AND_SLEAP"
   ]
  },
  {
   "cell_type": "code",
   "execution_count": null,
   "metadata": {},
   "outputs": [],
   "source": [
    "power_spectra.shape"
   ]
  },
  {
   "cell_type": "code",
   "execution_count": null,
   "metadata": {},
   "outputs": [],
   "source": [
    "example_array = np.array([[0,1,2,3],[4,5,6,7],[8,9,10,11]])"
   ]
  },
  {
   "cell_type": "code",
   "execution_count": null,
   "metadata": {},
   "outputs": [],
   "source": [
    "example_array"
   ]
  },
  {
   "cell_type": "code",
   "execution_count": null,
   "metadata": {},
   "outputs": [],
   "source": [
    "stats.zscore(example_array, axis=1)"
   ]
  },
  {
   "cell_type": "code",
   "execution_count": null,
   "metadata": {},
   "outputs": [],
   "source": [
    "preprocessing.normalize(example_array, axis=1)"
   ]
  },
  {
   "cell_type": "code",
   "execution_count": null,
   "metadata": {},
   "outputs": [],
   "source": [
    "power_spectra[0].shape"
   ]
  },
  {
   "cell_type": "code",
   "execution_count": null,
   "metadata": {},
   "outputs": [],
   "source": [
    "MERGED_LFP_AND_SLEAP[\"current_subject\"].unique()"
   ]
  },
  {
   "cell_type": "code",
   "execution_count": null,
   "metadata": {},
   "outputs": [],
   "source": [
    "from sklearn import preprocessing"
   ]
  },
  {
   "cell_type": "code",
   "execution_count": null,
   "metadata": {},
   "outputs": [],
   "source": [
    "normalized_arr = preprocessing.normalize([x_array])"
   ]
  },
  {
   "cell_type": "code",
   "execution_count": null,
   "metadata": {},
   "outputs": [],
   "source": [
    "power_spectra.max()"
   ]
  },
  {
   "cell_type": "code",
   "execution_count": null,
   "metadata": {
    "scrolled": true
   },
   "outputs": [],
   "source": [
    "for index, row in MERGED_LFP_AND_SLEAP[(MERGED_LFP_AND_SLEAP[\"trial_outcome\"] == \"rewarded\")].iterrows():\n",
    "    for col in power_col:\n",
    "        trial_outcome = row[\"trial_outcome\"]\n",
    "        current_subject = row[\"current_subject\"]\n",
    "        region = col.split(\"_\")[0]\n",
    "        \n",
    "        \n",
    "        power_spectra = row[col][:, :50].T\n",
    "\n",
    "        # power_spectra = power_spectra / reference_power.reshape(-1, 1)\n",
    "        # power_spectra = np.log10(power_spectra)\n",
    "        # power_spectra = preprocessing.normalize(power_spectra, axis=1)\n",
    "        # power_spectra = np.log1p(power_spectra)\n",
    "        # power_spectra = stats.zscore(power_spectra, axis=1)\n",
    "\n",
    "        \n",
    "        # Display the spectrogram\n",
    "        plt.figure(figsize=(10, 4))\n",
    "        plt.imshow(power_spectra, aspect='auto', origin='lower', cmap='jet')#, norm=matplotlib.colors.LogNorm())\n",
    "        plt.colorbar()\n",
    "        plt.xlabel('Time [s]')\n",
    "        plt.ylabel('Frequency [Hz]')\n",
    "        plt.title('{} {} Spectrogram for Subject {}'.format(trial_outcome, region, current_subject))\n",
    "        \n",
    "        # Divide the current x-ticks by the divisor and set new x-tick labels\n",
    "        # new_tick_locations = current_ticks / 10\n",
    "        # new_tick_labels = [f\"{tick/10:.1f}\" for tick in current_ticks]\n",
    "        new_tick_labels = [f\"{tick/10-10}\" for tick in current_ticks]\n",
    "        \n",
    "        \n",
    "        plt.xticks(ticks=current_ticks, labels=new_tick_labels)\n",
    "        plt.xlim(0,191)\n",
    "        \n",
    "        \n",
    "        plt.show()\n",
    "        \n"
   ]
  },
  {
   "cell_type": "markdown",
   "metadata": {},
   "source": [
    "# Grouping all the shared trial outcomes together"
   ]
  },
  {
   "cell_type": "code",
   "execution_count": null,
   "metadata": {},
   "outputs": [],
   "source": [
    "power_col = [col for col in MERGED_LFP_AND_SLEAP.columns if \"power\" in col]"
   ]
  },
  {
   "cell_type": "code",
   "execution_count": null,
   "metadata": {},
   "outputs": [],
   "source": [
    "MERGED_LFP_AND_SLEAP.groupby([\"trial_outcome\", \"current_subject\"]).count()"
   ]
  },
  {
   "cell_type": "code",
   "execution_count": null,
   "metadata": {},
   "outputs": [],
   "source": [
    "# groupby_df  = MERGED_LFP_AND_SLEAP.groupby(\"trial_outcome\")[power_col[0]].apply(lambda x: np.vstack(x).mean(axis=1))\n",
    "groupby_df  = MERGED_LFP_AND_SLEAP.groupby([\"current_subject\", \"trial_outcome\"])[power_col].agg({k: lambda x: np.mean(np.stack(x), axis=0) for k in power_col}).reset_index()\n",
    "# groupby_df  = MERGED_LFP_AND_SLEAP.groupby([\"current_subject\", \"trial_outcome\"])[power_col].agg({k: lambda x: np.mean(stats.zscore(np.stack(x), axis=1), axis=0) for k in power_col}).reset_index()\n"
   ]
  },
  {
   "cell_type": "code",
   "execution_count": null,
   "metadata": {},
   "outputs": [],
   "source": [
    "groupby_df[\"mPFC_all_window_power\"].iloc[0].shape"
   ]
  },
  {
   "cell_type": "code",
   "execution_count": null,
   "metadata": {},
   "outputs": [],
   "source": [
    "matplotlib.scale.get_scale_names()"
   ]
  },
  {
   "cell_type": "code",
   "execution_count": null,
   "metadata": {
    "scrolled": true
   },
   "outputs": [],
   "source": [
    "for index, row in groupby_df.iterrows():\n",
    "    for col in power_col:\n",
    "        trial_outcome = row[\"trial_outcome\"]\n",
    "        current_subject = row[\"current_subject\"]\n",
    "        region = col.split(\"_\")[0]\n",
    "        \n",
    "        \n",
    "        power_spectra = row[col][:, :50].T\n",
    "        # power_spectra = np.log10(power_spectra)\n",
    "\n",
    "        # power_spectra = np.log1p(power_spectra)\n",
    "        power_spectra = stats.zscore(power_spectra, axis=1)\n",
    "\n",
    "        \n",
    "        # Display the spectrogram\n",
    "        plt.figure(figsize=(10, 4))\n",
    "        plt.imshow(power_spectra, aspect='auto', origin='lower', cmap='hsv')#, norm=\"log\")\n",
    "        plt.colorbar()\n",
    "        plt.xlabel('Time [s]')\n",
    "        plt.ylabel('Frequency [Hz]')\n",
    "        plt.title('{} {} Spectrogram for Subject {}'.format(trial_outcome, region, current_subject))\n",
    "        \n",
    "        # Divide the current x-ticks by the divisor and set new x-tick labels\n",
    "        # new_tick_locations = current_ticks / 10\n",
    "        # new_tick_labels = [f\"{tick/10:.1f}\" for tick in current_ticks]\n",
    "        new_tick_labels = [f\"{tick/10-10}\" for tick in current_ticks]\n",
    "        \n",
    "        \n",
    "        plt.xticks(ticks=current_ticks, labels=new_tick_labels)\n",
    "        plt.xlim(0,191)\n",
    "        \n",
    "        \n",
    "        plt.show()"
   ]
  },
  {
   "cell_type": "code",
   "execution_count": null,
   "metadata": {},
   "outputs": [],
   "source": [
    "import numpy as np\n",
    "import matplotlib.pyplot as plt\n",
    "\n",
    "# Assuming 'data' is the 2D Numpy array that contains the spectrogram data\n",
    "# For demonstration, let's create a random 2D array\n",
    "data = np.random.rand(1024, 1024)\n",
    "\n",
    "# Display the spectrogram\n",
    "plt.figure(figsize=(10, 4))\n",
    "plt.imshow(example_data[:, :50].T, aspect='auto', origin='lower', cmap='jet')\n",
    "plt.colorbar()\n",
    "plt.xlabel('Time [s]')\n",
    "plt.ylabel('Frequency [Hz]')\n",
    "plt.title('Spectrogram')\n",
    "\n",
    "# Divide the current x-ticks by the divisor and set new x-tick labels\n",
    "# new_tick_locations = current_ticks / 10\n",
    "# new_tick_labels = [f\"{tick/10:.1f}\" for tick in current_ticks]\n",
    "new_tick_labels = [f\"{tick/10-10}\" for tick in current_ticks]\n",
    "\n",
    "\n",
    "plt.xticks(ticks=current_ticks, labels=new_tick_labels)\n",
    "plt.xlim(0,191)\n",
    "\n",
    "\n",
    "plt.show()"
   ]
  },
  {
   "cell_type": "code",
   "execution_count": null,
   "metadata": {},
   "outputs": [],
   "source": []
  },
  {
   "cell_type": "code",
   "execution_count": null,
   "metadata": {},
   "outputs": [],
   "source": []
  },
  {
   "cell_type": "code",
   "execution_count": null,
   "metadata": {},
   "outputs": [],
   "source": [
    "\n",
    "# Importing libraries using import keyword.\n",
    "import math\n",
    "import numpy as np\n",
    "import matplotlib.pyplot as plt\n",
    " \n",
    "# Set the time difference to take picture of\n",
    "# the the generated signal.\n",
    "Time_difference = 0.0001\n",
    " \n",
    "# Generating an array of values\n",
    "Time_Array = np.linspace(0, 5, math.ceil(5 / Time_difference))\n",
    " \n",
    "# Actual data array which needs to be plot\n",
    "Data = 20*(np.sin(3 * np.pi * Time_Array))\n",
    " \n",
    "# Matplotlib.pyplot.specgram() function to\n",
    "# generate spectrogram\n",
    "plt.specgram(Data, Fs=6, cmap=\"rainbow\")\n",
    " \n",
    "# Set the title of the plot, xlabel and ylabel\n",
    "# and display using show() function\n",
    "plt.title('Spectrogram Using matplotlib.pyplot.specgram() Method')\n",
    "plt.xlabel(\"DATA\")\n",
    "plt.ylabel(\"TIME\")\n",
    "plt.show()"
   ]
  },
  {
   "cell_type": "code",
   "execution_count": null,
   "metadata": {},
   "outputs": [],
   "source": [
    "example_data = groupby_df[\"BLA_all_window_power\"].iloc[2]"
   ]
  },
  {
   "cell_type": "code",
   "execution_count": null,
   "metadata": {},
   "outputs": [],
   "source": [
    "groupby_df"
   ]
  },
  {
   "cell_type": "code",
   "execution_count": null,
   "metadata": {},
   "outputs": [],
   "source": [
    "# example_data = example_data[:5,:]\n"
   ]
  },
  {
   "cell_type": "code",
   "execution_count": null,
   "metadata": {},
   "outputs": [],
   "source": [
    "example_data.shape"
   ]
  },
  {
   "cell_type": "code",
   "execution_count": null,
   "metadata": {},
   "outputs": [],
   "source": [
    "example_data"
   ]
  },
  {
   "cell_type": "code",
   "execution_count": null,
   "metadata": {},
   "outputs": [],
   "source": [
    "example_data = stats.zscore(example_data, axis=0, ddof=1)\n"
   ]
  },
  {
   "cell_type": "code",
   "execution_count": null,
   "metadata": {},
   "outputs": [],
   "source": [
    "frequencies = MERGED_LFP_AND_SLEAP[\"BLA_frequencies\"].iloc[0]"
   ]
  },
  {
   "cell_type": "code",
   "execution_count": null,
   "metadata": {},
   "outputs": [],
   "source": [
    "example_data"
   ]
  },
  {
   "cell_type": "code",
   "execution_count": null,
   "metadata": {},
   "outputs": [],
   "source": [
    "def numfmt(x, pos): # your custom formatter function: divide by 100.0\n",
    "    s = '{}'.format(x / 100.0)\n",
    "    return s\n",
    "\n",
    "import matplotlib.ticker as tkr     # has classes for tick-locating and -formatting\n",
    "yfmt = tkr.FuncFormatter(numfmt)    # create your custom formatter function\n",
    "\n",
    "# your existing code can be inserted here\n",
    "\n",
    "pylab.gca().yaxis.set_major_formatter(yfmt)\n",
    "\n",
    "# final step\n",
    "pylab.savefig(\"Output.pdf\", dpi=400, bbox_inches='tight', pad_inches=1)"
   ]
  },
  {
   "cell_type": "code",
   "execution_count": null,
   "metadata": {},
   "outputs": [],
   "source": [
    "20/191"
   ]
  },
  {
   "cell_type": "code",
   "execution_count": null,
   "metadata": {},
   "outputs": [],
   "source": [
    "import numpy as np\n",
    "import matplotlib.pyplot as plt\n",
    "\n",
    "# Assuming 'data' is the 2D Numpy array that contains the spectrogram data\n",
    "# For demonstration, let's create a random 2D array\n",
    "data = np.random.rand(1024, 1024)\n",
    "\n",
    "# Display the spectrogram\n",
    "plt.figure(figsize=(10, 4))\n",
    "plt.imshow(example_data[:, :50].T, aspect='auto', origin='lower', cmap='jet')\n",
    "plt.colorbar()\n",
    "plt.xlabel('Time [s]')\n",
    "plt.ylabel('Frequency [Hz]')\n",
    "plt.title('Spectrogram')\n",
    "\n",
    "# Divide the current x-ticks by the divisor and set new x-tick labels\n",
    "# new_tick_locations = current_ticks / 10\n",
    "# new_tick_labels = [f\"{tick/10:.1f}\" for tick in current_ticks]\n",
    "new_tick_labels = [f\"{tick/10-10}\" for tick in current_ticks]\n",
    "\n",
    "\n",
    "plt.xticks(ticks=current_ticks, labels=new_tick_labels)\n",
    "plt.xlim(0,191)\n",
    "\n",
    "\n",
    "plt.show()"
   ]
  },
  {
   "cell_type": "code",
   "execution_count": null,
   "metadata": {},
   "outputs": [],
   "source": [
    "current_ticks/10 - 10"
   ]
  },
  {
   "cell_type": "code",
   "execution_count": null,
   "metadata": {},
   "outputs": [],
   "source": [
    "new_tick_locations"
   ]
  },
  {
   "cell_type": "code",
   "execution_count": null,
   "metadata": {},
   "outputs": [],
   "source": [
    "data.shape"
   ]
  },
  {
   "cell_type": "code",
   "execution_count": null,
   "metadata": {},
   "outputs": [],
   "source": [
    "example_data.shape"
   ]
  },
  {
   "cell_type": "code",
   "execution_count": null,
   "metadata": {},
   "outputs": [],
   "source": [
    "example_data[:, :100].shape"
   ]
  },
  {
   "cell_type": "code",
   "execution_count": null,
   "metadata": {},
   "outputs": [],
   "source": [
    "import numpy as np\n",
    "from scipy.signal import spectrogram\n",
    "\n",
    "# Assuming 'signal' is your 1D time-domain signal and 'fs' is the sampling frequency\n",
    "frequencies, times, Sxx = spectrogram(signal, fs)\n",
    "\n",
    "# Estimate the 1/f noise spectrum (could be more sophisticated than this)\n",
    "one_over_f_noise = 1 / frequencies\n",
    "\n",
    "# Normalize the power in each frequency band\n",
    "# We replace zeros with ones to avoid division by zero\n",
    "one_over_f_noise[one_over_f_noise == 0] = 1\n",
    "normalized_Sxx = Sxx / one_over_f_noise[:, None]\n",
    "\n",
    "# Optional: Rescale to [0, 1]\n",
    "normalized_Sxx -= normalized_Sxx.min(axis=0)\n",
    "normalized_Sxx /= normalized_Sxx.max(axis=0)\n",
    "\n",
    "# Plot the normalized spectrogram\n",
    "plt.pcolormesh(times, frequencies, 10 * np.log10(normalized_Sxx), shading='gouraud')\n",
    "plt.ylabel('Frequency [Hz]')\n",
    "plt.xlabel('Time [s]')\n",
    "plt.colorbar(format='%+2.0f dB')\n",
    "plt.title('Normalized Spectrogram')\n",
    "plt.yscale('log')  # Apply a logarithmic scale to frequency axis if desired\n",
    "plt.show()"
   ]
  },
  {
   "cell_type": "code",
   "execution_count": null,
   "metadata": {},
   "outputs": [],
   "source": []
  }
 ],
 "metadata": {
  "deepnote": {},
  "deepnote_execution_queue": [],
  "deepnote_notebook_id": "cf8fe3695d074ee7887fdf6459cbf5ce",
  "kernelspec": {
   "display_name": "Python 3 (ipykernel)",
   "language": "python",
   "name": "python3"
  },
  "language_info": {
   "codemirror_mode": {
    "name": "ipython",
    "version": 3
   },
   "file_extension": ".py",
   "mimetype": "text/x-python",
   "name": "python",
   "nbconvert_exporter": "python",
   "pygments_lexer": "ipython3",
   "version": "3.10.13"
  }
 },
 "nbformat": 4,
 "nbformat_minor": 4
}
