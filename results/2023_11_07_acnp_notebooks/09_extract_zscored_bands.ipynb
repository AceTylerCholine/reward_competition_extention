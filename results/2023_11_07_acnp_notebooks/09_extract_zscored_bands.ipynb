{
 "cells": [
  {
   "cell_type": "markdown",
   "metadata": {
    "cell_id": "c3a02adc9e884466bc8c79db549cc3d2",
    "deepnote_cell_type": "text-cell-h1",
    "formattedRanges": [
     {
      "fromCodePoint": 0,
      "marks": {
       "bold": true,
       "underline": true
      },
      "toCodePoint": 17,
      "type": "marks"
     }
    ]
   },
   "source": [
    "# Notebook 1: Extract Z-scored LFP"
   ]
  },
  {
   "cell_type": "markdown",
   "metadata": {
    "cell_id": "4546bee655b14a5dbf393161f1228e60",
    "deepnote_cell_type": "text-cell-p",
    "formattedRanges": []
   },
   "source": [
    "Brief 1-2 sentence description of notebook."
   ]
  },
  {
   "cell_type": "code",
   "execution_count": 1,
   "metadata": {
    "cell_id": "03b495cefa6a4798a44c7f2e4c6a3ea7",
    "deepnote_cell_type": "code",
    "deepnote_to_be_reexecuted": false,
    "execution_millis": 21,
    "execution_start": 1691424003626,
    "source_hash": null
   },
   "outputs": [],
   "source": [
    "# Imports of all used packages and libraries\n",
    "import os\n",
    "import glob\n",
    "import numpy as np\n",
    "import pandas as pd"
   ]
  },
  {
   "cell_type": "code",
   "execution_count": 2,
   "metadata": {},
   "outputs": [],
   "source": [
    "import spikeinterface.extractors as se\n",
    "import spikeinterface.preprocessing as sp"
   ]
  },
  {
   "cell_type": "markdown",
   "metadata": {
    "cell_id": "d290bac2c17940bfbc0f9296beaf70e5",
    "deepnote_cell_type": "text-cell-h2",
    "formattedRanges": []
   },
   "source": [
    "## Inputs & Data"
   ]
  },
  {
   "cell_type": "markdown",
   "metadata": {
    "cell_id": "e528ce19c608425292151930d380f49f",
    "deepnote_cell_type": "text-cell-p",
    "formattedRanges": []
   },
   "source": [
    "Explanation of each input and where it comes from."
   ]
  },
  {
   "cell_type": "code",
   "execution_count": 3,
   "metadata": {
    "cell_id": "6cf83a5811054461a718a71673d09aab",
    "deepnote_cell_type": "code",
    "deepnote_to_be_reexecuted": false,
    "execution_millis": 373,
    "execution_start": 1691424003628,
    "source_hash": null
   },
   "outputs": [],
   "source": [
    "# Inputs and Required data loading\n",
    "# input varaible names are in all caps snake case\n",
    "# Whenever an input changes or is used for processing \n",
    "# the vairables are all lower in snake case\n",
    "OUTPUT_DIR = r\"./proc/\" # where data is saved should always be shown in the inputs\n",
    "os.makedirs(OUTPUT_DIR, exist_ok=True)"
   ]
  },
  {
   "cell_type": "code",
   "execution_count": 4,
   "metadata": {},
   "outputs": [],
   "source": [
    "CHANNEL_MAPPING_DF = pd.read_excel(\"../../data/channel_mapping.xlsx\")\n",
    "TONE_TIMESTAMP_DF = pd.read_excel(\"../../data/rce_tone_timestamp.xlsx\", index_col=0)"
   ]
  },
  {
   "cell_type": "code",
   "execution_count": 5,
   "metadata": {},
   "outputs": [],
   "source": [
    "EPHYS_SAMPLING_RATE = 20000\n",
    "LFP_SAMPLING_RATE = 1000\n",
    "TRIAL_DURATION = 10\n",
    "FRAME_RATE = 22\n",
    "ECU_STREAM_ID = \"ECU\"\n",
    "TRODES_STREAM_ID = \"trodes\"\n",
    "LFP_FREQ_MIN = 0.5\n",
    "LFP_FREQ_MAX = 300\n",
    "ELECTRIC_NOISE_FREQ = 60\n",
    "RECORDING_EXTENTION = \"*.rec\""
   ]
  },
  {
   "cell_type": "code",
   "execution_count": 6,
   "metadata": {},
   "outputs": [],
   "source": [
    "ALL_SESSION_DIR = glob.glob(\"/scratch/back_up/reward_competition_extention/data/omission/*/*.rec\")"
   ]
  },
  {
   "cell_type": "code",
   "execution_count": 7,
   "metadata": {},
   "outputs": [
    {
     "data": {
      "text/plain": [
       "['/scratch/back_up/reward_competition_extention/data/omission/2023_06_17/20230617_115521_standard_comp_to_omission_D1_subj_1-1_and_1-2.rec',\n",
       " '/scratch/back_up/reward_competition_extention/data/omission/2023_06_17/20230617_115641_standard_comp_to_omission_D1_subj_2-2_and_2-4.rec',\n",
       " '/scratch/back_up/reward_competition_extention/data/omission/2022_12_02/20221202_134600_omission_and_competition_subject_6_1_and_6_2.rec',\n",
       " '/scratch/back_up/reward_competition_extention/data/omission/2023_06_21/20230621_111240_standard_comp_to_omission_D5_subj_1-4_and_1-2.rec',\n",
       " '/scratch/back_up/reward_competition_extention/data/omission/2023_06_20/20230620_114347_standard_comp_to_omission_D4_subj_1-2_and_1-1.rec',\n",
       " '/scratch/back_up/reward_competition_extention/data/omission/2022_12_03/20221203_154800_omission_and_competition_subject_6_4_and_6_1.rec',\n",
       " '/scratch/back_up/reward_competition_extention/data/omission/2023_06_18/20230618_100646_standard_comp_to_omission_D2_subj_2-4_and_2-1.rec',\n",
       " '/scratch/back_up/reward_competition_extention/data/omission/2023_06_18/20230618_100636_standard_comp_to_omission_D2_subj_1-4_and_1-1.rec',\n",
       " '/scratch/back_up/reward_competition_extention/data/omission/2023_06_19/20230619_115321_standard_comp_to_omission_D3_subj_1-2_and_1-4.rec',\n",
       " '/scratch/back_up/reward_competition_extention/data/omission/2023_06_19/20230619_115334_standard_comp_to_omission_D3_subj_2-2_and_2-1.rec',\n",
       " '/scratch/back_up/reward_competition_extention/data/omission/2022_12_14/20221214_125409_om_and_comp_6_1_and_6_3.rec',\n",
       " '/scratch/back_up/reward_competition_extention/data/omission/2022_12_15/20221215_145401_comp_amd_om_6_1_and_6_3.rec']"
      ]
     },
     "execution_count": 7,
     "metadata": {},
     "output_type": "execute_result"
    }
   ],
   "source": [
    "ALL_SESSION_DIR"
   ]
  },
  {
   "cell_type": "markdown",
   "metadata": {
    "cell_id": "e3ee4891d43a4ac287413afc552ca289",
    "deepnote_cell_type": "text-cell-h2",
    "formattedRanges": []
   },
   "source": [
    "## Outputs"
   ]
  },
  {
   "cell_type": "markdown",
   "metadata": {
    "cell_id": "9ccbf6cc70fd4d379fa29317f733771f",
    "deepnote_cell_type": "text-cell-p",
    "formattedRanges": []
   },
   "source": [
    "Describe each output that the notebook creates. "
   ]
  },
  {
   "cell_type": "markdown",
   "metadata": {
    "cell_id": "fc8e8920a6944918a15fac575cdf6e78",
    "deepnote_cell_type": "text-cell-bullet",
    "formattedRanges": []
   },
   "source": [
    "- Is it a plot or is it data?"
   ]
  },
  {
   "cell_type": "markdown",
   "metadata": {
    "cell_id": "1e639d4776a84aa9ac8ded2e14fa57db",
    "deepnote_cell_type": "text-cell-bullet",
    "formattedRanges": []
   },
   "source": [
    "- How valuable is the output and why is it valuable or useful?"
   ]
  },
  {
   "cell_type": "markdown",
   "metadata": {},
   "source": [
    "# Functions"
   ]
  },
  {
   "cell_type": "code",
   "execution_count": 8,
   "metadata": {},
   "outputs": [],
   "source": [
    "def compute_sorted_index(group, value_column='Value', index_column='SortedIndex'):\n",
    "    \"\"\" \n",
    "    Computes the index of each row's value within its sorted group.\n",
    "\n",
    "    Parameters:\n",
    "    - group (pd.DataFrame): A group of data.\n",
    "    - value_column (str): Name of the column containing the values to be sorted.\n",
    "    - index_column (str): Name of the new column that will contain the indices.\n",
    "\n",
    "    Returns:\n",
    "    - pd.DataFrame: The group with an additional column containing the indices.\n",
    "    \"\"\"\n",
    "    sorted_values = sorted(list(set(group[value_column].tolist())))\n",
    "    group[index_column] = group[value_column].apply(lambda x: sorted_values.index(x))\n",
    "    return group"
   ]
  },
  {
   "cell_type": "markdown",
   "metadata": {
    "cell_id": "8999d19b6b7d4d63bc90f0b0bd9ab085",
    "deepnote_cell_type": "text-cell-h2",
    "formattedRanges": []
   },
   "source": [
    "## Processing"
   ]
  },
  {
   "cell_type": "markdown",
   "metadata": {
    "cell_id": "9b36cdf08567463082b005cb0dec684b",
    "deepnote_cell_type": "text-cell-p",
    "formattedRanges": []
   },
   "source": [
    "Describe what is done to the data here and how inputs are manipulated to generate outputs. "
   ]
  },
  {
   "cell_type": "code",
   "execution_count": 9,
   "metadata": {
    "cell_id": "89aaba237c644628b1b37604b75e7cb1",
    "deepnote_cell_type": "code"
   },
   "outputs": [],
   "source": [
    "# As much code and as many cells as required\n",
    "# includes EDA and playing with data\n",
    "# GO HAM!\n",
    "\n",
    "# Ideally functions are defined here first and then data is processed using the functions\n",
    "\n",
    "# function names are short and in snake case all lowercase\n",
    "# a function name should be unique but does not have to describe the function\n",
    "# doc strings describe functions not function names\n",
    "\n",
    "\n"
   ]
  },
  {
   "cell_type": "markdown",
   "metadata": {},
   "source": [
    "# Reformatting Dataframe"
   ]
  },
  {
   "cell_type": "markdown",
   "metadata": {},
   "source": [
    "- Dropping all rows that have not been labeled"
   ]
  },
  {
   "cell_type": "code",
   "execution_count": 10,
   "metadata": {},
   "outputs": [],
   "source": [
    "all_trials_df = TONE_TIMESTAMP_DF.dropna(subset=\"condition\").reset_index(drop=True)"
   ]
  },
  {
   "cell_type": "code",
   "execution_count": 11,
   "metadata": {},
   "outputs": [
    {
     "data": {
      "text/plain": [
       "['20221202_134600_omission_and_competition_subject_6_1_and_6_2',\n",
       " '20221203_154800_omission_and_competition_subject_6_4_and_6_1',\n",
       " '20221214_125409_om_and_comp_6_1_and_6_3',\n",
       " '20221215_145401_comp_amd_om_6_1_and_6_3',\n",
       " '20230612_101430_standard_comp_to_training_D1_subj_1-4_and_1-3',\n",
       " '20230617_115521_standard_comp_to_omission_D1_subj_1-1_and_1-2',\n",
       " '20230618_100636_standard_comp_to_omission_D2_subj_1-4_and_1-1',\n",
       " '20230619_115321_standard_comp_to_omission_D3_subj_1-2_and_1-4',\n",
       " '20230620_114347_standard_comp_to_omission_D4_subj_1-2_and_1-1',\n",
       " '20230621_111240_standard_comp_to_omission_D5_subj_1-4_and_1-2']"
      ]
     },
     "execution_count": 11,
     "metadata": {},
     "output_type": "execute_result"
    }
   ],
   "source": [
    "sorted(all_trials_df[\"recording_dir\"].unique())"
   ]
  },
  {
   "cell_type": "markdown",
   "metadata": {},
   "source": [
    "- Making the video frame number usable"
   ]
  },
  {
   "cell_type": "code",
   "execution_count": 12,
   "metadata": {},
   "outputs": [],
   "source": [
    "all_trials_df[\"video_frame\"] = all_trials_df[\"video_frame\"].astype(int)"
   ]
  },
  {
   "cell_type": "markdown",
   "metadata": {},
   "source": [
    "- Getting the name of the video so that we can sync it up with the ephys recording"
   ]
  },
  {
   "cell_type": "code",
   "execution_count": 13,
   "metadata": {},
   "outputs": [],
   "source": [
    "all_trials_df[\"video_name\"]  = all_trials_df[\"video_file\"].apply(lambda x: x.strip(\".videoTimeStamps.cameraHWSync\"))"
   ]
  },
  {
   "cell_type": "markdown",
   "metadata": {},
   "source": [
    "- Getting all subject IDs for a given recording"
   ]
  },
  {
   "cell_type": "code",
   "execution_count": 14,
   "metadata": {},
   "outputs": [],
   "source": [
    "# using different id extractions for different file formats\n",
    "all_trials_df[\"all_subjects\"] = all_trials_df[\"recording_dir\"].apply(lambda x: x if \"2023\" in x else \"subj\" + \"_\".join(x.split(\"_\")[-5:]))\n",
    "all_trials_df[\"all_subjects\"] = all_trials_df[\"all_subjects\"].apply(lambda x: tuple(sorted([num.strip(\"_\").replace(\"_\",\".\") for num in x.replace(\"-\", \"_\").split(\"subj\")[-1].strip(\"_\").split(\"and\")])))"
   ]
  },
  {
   "cell_type": "code",
   "execution_count": 15,
   "metadata": {
    "scrolled": true
   },
   "outputs": [
    {
     "data": {
      "text/plain": [
       "array([('6.1', '6.2'), ('6.1', '6.4'), ('6.1', '6.3'), ('1.3', '1.4'),\n",
       "       ('1.1', '1.2'), ('1.1', '1.4'), ('1.2', '1.4')], dtype=object)"
      ]
     },
     "execution_count": 15,
     "metadata": {},
     "output_type": "execute_result"
    }
   ],
   "source": [
    "all_trials_df[\"all_subjects\"].unique()"
   ]
  },
  {
   "cell_type": "code",
   "execution_count": 16,
   "metadata": {},
   "outputs": [],
   "source": [
    "all_trials_df[\"current_subject\"] = all_trials_df[\"subject_info\"].apply(lambda x: \".\".join(x.replace(\"-\",\"_\").split(\"_\")[:2])).astype(str)"
   ]
  },
  {
   "cell_type": "code",
   "execution_count": 17,
   "metadata": {},
   "outputs": [
    {
     "data": {
      "text/plain": [
       "array(['6.1', '1.3', '1.4', '1.1', '1.2'], dtype=object)"
      ]
     },
     "execution_count": 17,
     "metadata": {},
     "output_type": "execute_result"
    }
   ],
   "source": [
    "all_trials_df[\"current_subject\"].unique()"
   ]
  },
  {
   "cell_type": "markdown",
   "metadata": {},
   "source": [
    "- Converting the trial label to win or lose based on who won the trial"
   ]
  },
  {
   "cell_type": "code",
   "execution_count": 18,
   "metadata": {},
   "outputs": [],
   "source": [
    "all_trials_df[\"trial_outcome\"] = all_trials_df.apply(\n",
    "    lambda x: \"win\" if str(x[\"condition\"]).strip() == str(x[\"current_subject\"]) \n",
    "             else (\"lose\" if str(x[\"condition\"]) in x[\"all_subjects\"] \n",
    "                   else x[\"condition\"]), axis=1)"
   ]
  },
  {
   "cell_type": "code",
   "execution_count": 19,
   "metadata": {},
   "outputs": [
    {
     "data": {
      "text/plain": [
       "array(['rewarded', 'omission', 'win', 'lose'], dtype=object)"
      ]
     },
     "execution_count": 19,
     "metadata": {},
     "output_type": "execute_result"
    }
   ],
   "source": [
    "all_trials_df[\"trial_outcome\"].unique()"
   ]
  },
  {
   "cell_type": "markdown",
   "metadata": {},
   "source": [
    "- Adding the competition closeness as a column"
   ]
  },
  {
   "cell_type": "code",
   "execution_count": 20,
   "metadata": {},
   "outputs": [],
   "source": [
    "competition_closeness_map = {k: \"non_comp\" if \"only\" in str(k).lower() else \"comp\" if type(k) is str else np.nan for k in all_trials_df[\"competition_closeness\"].unique()}"
   ]
  },
  {
   "cell_type": "code",
   "execution_count": 21,
   "metadata": {
    "scrolled": true
   },
   "outputs": [
    {
     "data": {
      "text/plain": [
       "{nan: nan,\n",
       " 'Subj 1 Only': 'non_comp',\n",
       " 'Subj 2 blocking Subj 1': 'comp',\n",
       " 'Subj 1 then Subj 2': 'comp',\n",
       " 'Subj 1 blocking Subj 2': 'comp',\n",
       " 'Subj 2 Only': 'non_comp',\n",
       " 'Subj 2 then Subj 1': 'comp',\n",
       " 'Close Call': 'comp'}"
      ]
     },
     "execution_count": 21,
     "metadata": {},
     "output_type": "execute_result"
    }
   ],
   "source": [
    "competition_closeness_map"
   ]
  },
  {
   "cell_type": "code",
   "execution_count": 22,
   "metadata": {},
   "outputs": [],
   "source": [
    "all_trials_df[\"competition_closeness\"] = all_trials_df[\"competition_closeness\"].map(competition_closeness_map)"
   ]
  },
  {
   "cell_type": "code",
   "execution_count": 23,
   "metadata": {},
   "outputs": [],
   "source": [
    "all_trials_df[\"competition_closeness\"] = all_trials_df.apply(lambda x: \"_\".join([str(x[\"trial_outcome\"]), str(x[\"competition_closeness\"])]).strip(\"nan\").strip(\"_\"), axis=1)"
   ]
  },
  {
   "cell_type": "code",
   "execution_count": 24,
   "metadata": {},
   "outputs": [
    {
     "data": {
      "text/plain": [
       "array(['rewarded', 'omission', 'win_non_comp', 'win_comp',\n",
       "       'lose_non_comp', 'lose_comp'], dtype=object)"
      ]
     },
     "execution_count": 24,
     "metadata": {},
     "output_type": "execute_result"
    }
   ],
   "source": [
    "all_trials_df[\"competition_closeness\"].unique()"
   ]
  },
  {
   "cell_type": "markdown",
   "metadata": {},
   "source": [
    "- Adding the LFP index"
   ]
  },
  {
   "cell_type": "code",
   "execution_count": null,
   "metadata": {},
   "outputs": [],
   "source": []
  },
  {
   "cell_type": "code",
   "execution_count": 25,
   "metadata": {},
   "outputs": [],
   "source": [
    "all_trials_df[\"lfp_index\"] = (all_trials_df[\"time_stamp_index\"] // (EPHYS_SAMPLING_RATE/LFP_SAMPLING_RATE)).astype(int)"
   ]
  },
  {
   "cell_type": "code",
   "execution_count": 26,
   "metadata": {},
   "outputs": [],
   "source": [
    "all_trials_df[\"time\"] = all_trials_df[\"time\"].astype(int)"
   ]
  },
  {
   "cell_type": "code",
   "execution_count": 27,
   "metadata": {},
   "outputs": [],
   "source": [
    "all_trials_df[\"time_stamp_index\"] = all_trials_df[\"time_stamp_index\"].astype(int)"
   ]
  },
  {
   "cell_type": "markdown",
   "metadata": {},
   "source": [
    "- Removing unnecessary columns"
   ]
  },
  {
   "cell_type": "code",
   "execution_count": 28,
   "metadata": {},
   "outputs": [],
   "source": [
    "all_trials_df = all_trials_df.drop(columns=[\"state\", \"din\", \"condition\", \"Unnamed: 13\"], errors=\"ignore\")"
   ]
  },
  {
   "cell_type": "code",
   "execution_count": 29,
   "metadata": {
    "scrolled": true
   },
   "outputs": [
    {
     "data": {
      "text/html": [
       "<div>\n",
       "<style scoped>\n",
       "    .dataframe tbody tr th:only-of-type {\n",
       "        vertical-align: middle;\n",
       "    }\n",
       "\n",
       "    .dataframe tbody tr th {\n",
       "        vertical-align: top;\n",
       "    }\n",
       "\n",
       "    .dataframe thead th {\n",
       "        text-align: right;\n",
       "    }\n",
       "</style>\n",
       "<table border=\"1\" class=\"dataframe\">\n",
       "  <thead>\n",
       "    <tr style=\"text-align: right;\">\n",
       "      <th></th>\n",
       "      <th>time</th>\n",
       "      <th>recording_dir</th>\n",
       "      <th>recording_file</th>\n",
       "      <th>time_stamp_index</th>\n",
       "      <th>video_file</th>\n",
       "      <th>video_frame</th>\n",
       "      <th>video_number</th>\n",
       "      <th>subject_info</th>\n",
       "      <th>competition_closeness</th>\n",
       "      <th>video_name</th>\n",
       "      <th>all_subjects</th>\n",
       "      <th>current_subject</th>\n",
       "      <th>trial_outcome</th>\n",
       "      <th>lfp_index</th>\n",
       "    </tr>\n",
       "  </thead>\n",
       "  <tbody>\n",
       "    <tr>\n",
       "      <th>0</th>\n",
       "      <td>6310663</td>\n",
       "      <td>20221202_134600_omission_and_competition_subje...</td>\n",
       "      <td>20221202_134600_omission_and_competition_subje...</td>\n",
       "      <td>1390826</td>\n",
       "      <td>20221202_134600_omission_and_competition_subje...</td>\n",
       "      <td>1734</td>\n",
       "      <td>1.0</td>\n",
       "      <td>6_1_top_2_base_3</td>\n",
       "      <td>rewarded</td>\n",
       "      <td>20221202_134600_omission_and_competition_subje...</td>\n",
       "      <td>(6.1, 6.2)</td>\n",
       "      <td>6.1</td>\n",
       "      <td>rewarded</td>\n",
       "      <td>69541</td>\n",
       "    </tr>\n",
       "    <tr>\n",
       "      <th>1</th>\n",
       "      <td>7910662</td>\n",
       "      <td>20221202_134600_omission_and_competition_subje...</td>\n",
       "      <td>20221202_134600_omission_and_competition_subje...</td>\n",
       "      <td>2990825</td>\n",
       "      <td>20221202_134600_omission_and_competition_subje...</td>\n",
       "      <td>3728</td>\n",
       "      <td>1.0</td>\n",
       "      <td>6_1_top_2_base_3</td>\n",
       "      <td>rewarded</td>\n",
       "      <td>20221202_134600_omission_and_competition_subje...</td>\n",
       "      <td>(6.1, 6.2)</td>\n",
       "      <td>6.1</td>\n",
       "      <td>rewarded</td>\n",
       "      <td>149541</td>\n",
       "    </tr>\n",
       "    <tr>\n",
       "      <th>2</th>\n",
       "      <td>9710660</td>\n",
       "      <td>20221202_134600_omission_and_competition_subje...</td>\n",
       "      <td>20221202_134600_omission_and_competition_subje...</td>\n",
       "      <td>4790823</td>\n",
       "      <td>20221202_134600_omission_and_competition_subje...</td>\n",
       "      <td>5972</td>\n",
       "      <td>1.0</td>\n",
       "      <td>6_1_top_2_base_3</td>\n",
       "      <td>rewarded</td>\n",
       "      <td>20221202_134600_omission_and_competition_subje...</td>\n",
       "      <td>(6.1, 6.2)</td>\n",
       "      <td>6.1</td>\n",
       "      <td>rewarded</td>\n",
       "      <td>239541</td>\n",
       "    </tr>\n",
       "    <tr>\n",
       "      <th>3</th>\n",
       "      <td>11310658</td>\n",
       "      <td>20221202_134600_omission_and_competition_subje...</td>\n",
       "      <td>20221202_134600_omission_and_competition_subje...</td>\n",
       "      <td>6390821</td>\n",
       "      <td>20221202_134600_omission_and_competition_subje...</td>\n",
       "      <td>7966</td>\n",
       "      <td>1.0</td>\n",
       "      <td>6_1_top_2_base_3</td>\n",
       "      <td>omission</td>\n",
       "      <td>20221202_134600_omission_and_competition_subje...</td>\n",
       "      <td>(6.1, 6.2)</td>\n",
       "      <td>6.1</td>\n",
       "      <td>omission</td>\n",
       "      <td>319541</td>\n",
       "    </tr>\n",
       "    <tr>\n",
       "      <th>4</th>\n",
       "      <td>12810657</td>\n",
       "      <td>20221202_134600_omission_and_competition_subje...</td>\n",
       "      <td>20221202_134600_omission_and_competition_subje...</td>\n",
       "      <td>7890820</td>\n",
       "      <td>20221202_134600_omission_and_competition_subje...</td>\n",
       "      <td>9836</td>\n",
       "      <td>1.0</td>\n",
       "      <td>6_1_top_2_base_3</td>\n",
       "      <td>rewarded</td>\n",
       "      <td>20221202_134600_omission_and_competition_subje...</td>\n",
       "      <td>(6.1, 6.2)</td>\n",
       "      <td>6.1</td>\n",
       "      <td>rewarded</td>\n",
       "      <td>394541</td>\n",
       "    </tr>\n",
       "  </tbody>\n",
       "</table>\n",
       "</div>"
      ],
      "text/plain": [
       "       time                                      recording_dir  \\\n",
       "0   6310663  20221202_134600_omission_and_competition_subje...   \n",
       "1   7910662  20221202_134600_omission_and_competition_subje...   \n",
       "2   9710660  20221202_134600_omission_and_competition_subje...   \n",
       "3  11310658  20221202_134600_omission_and_competition_subje...   \n",
       "4  12810657  20221202_134600_omission_and_competition_subje...   \n",
       "\n",
       "                                      recording_file  time_stamp_index  \\\n",
       "0  20221202_134600_omission_and_competition_subje...           1390826   \n",
       "1  20221202_134600_omission_and_competition_subje...           2990825   \n",
       "2  20221202_134600_omission_and_competition_subje...           4790823   \n",
       "3  20221202_134600_omission_and_competition_subje...           6390821   \n",
       "4  20221202_134600_omission_and_competition_subje...           7890820   \n",
       "\n",
       "                                          video_file  video_frame  \\\n",
       "0  20221202_134600_omission_and_competition_subje...         1734   \n",
       "1  20221202_134600_omission_and_competition_subje...         3728   \n",
       "2  20221202_134600_omission_and_competition_subje...         5972   \n",
       "3  20221202_134600_omission_and_competition_subje...         7966   \n",
       "4  20221202_134600_omission_and_competition_subje...         9836   \n",
       "\n",
       "   video_number      subject_info competition_closeness  \\\n",
       "0           1.0  6_1_top_2_base_3              rewarded   \n",
       "1           1.0  6_1_top_2_base_3              rewarded   \n",
       "2           1.0  6_1_top_2_base_3              rewarded   \n",
       "3           1.0  6_1_top_2_base_3              omission   \n",
       "4           1.0  6_1_top_2_base_3              rewarded   \n",
       "\n",
       "                                          video_name all_subjects  \\\n",
       "0  20221202_134600_omission_and_competition_subje...   (6.1, 6.2)   \n",
       "1  20221202_134600_omission_and_competition_subje...   (6.1, 6.2)   \n",
       "2  20221202_134600_omission_and_competition_subje...   (6.1, 6.2)   \n",
       "3  20221202_134600_omission_and_competition_subje...   (6.1, 6.2)   \n",
       "4  20221202_134600_omission_and_competition_subje...   (6.1, 6.2)   \n",
       "\n",
       "  current_subject trial_outcome  lfp_index  \n",
       "0             6.1      rewarded      69541  \n",
       "1             6.1      rewarded     149541  \n",
       "2             6.1      rewarded     239541  \n",
       "3             6.1      omission     319541  \n",
       "4             6.1      rewarded     394541  "
      ]
     },
     "execution_count": 29,
     "metadata": {},
     "output_type": "execute_result"
    }
   ],
   "source": [
    "all_trials_df.head()"
   ]
  },
  {
   "cell_type": "code",
   "execution_count": 30,
   "metadata": {},
   "outputs": [
    {
     "data": {
      "text/html": [
       "<div>\n",
       "<style scoped>\n",
       "    .dataframe tbody tr th:only-of-type {\n",
       "        vertical-align: middle;\n",
       "    }\n",
       "\n",
       "    .dataframe tbody tr th {\n",
       "        vertical-align: top;\n",
       "    }\n",
       "\n",
       "    .dataframe thead th {\n",
       "        text-align: right;\n",
       "    }\n",
       "</style>\n",
       "<table border=\"1\" class=\"dataframe\">\n",
       "  <thead>\n",
       "    <tr style=\"text-align: right;\">\n",
       "      <th></th>\n",
       "      <th>time</th>\n",
       "      <th>recording_dir</th>\n",
       "      <th>recording_file</th>\n",
       "      <th>time_stamp_index</th>\n",
       "      <th>video_file</th>\n",
       "      <th>video_frame</th>\n",
       "      <th>video_number</th>\n",
       "      <th>subject_info</th>\n",
       "      <th>video_name</th>\n",
       "      <th>all_subjects</th>\n",
       "      <th>current_subject</th>\n",
       "      <th>trial_outcome</th>\n",
       "      <th>lfp_index</th>\n",
       "    </tr>\n",
       "    <tr>\n",
       "      <th>competition_closeness</th>\n",
       "      <th></th>\n",
       "      <th></th>\n",
       "      <th></th>\n",
       "      <th></th>\n",
       "      <th></th>\n",
       "      <th></th>\n",
       "      <th></th>\n",
       "      <th></th>\n",
       "      <th></th>\n",
       "      <th></th>\n",
       "      <th></th>\n",
       "      <th></th>\n",
       "      <th></th>\n",
       "    </tr>\n",
       "  </thead>\n",
       "  <tbody>\n",
       "    <tr>\n",
       "      <th>lose_comp</th>\n",
       "      <td>105</td>\n",
       "      <td>105</td>\n",
       "      <td>105</td>\n",
       "      <td>105</td>\n",
       "      <td>105</td>\n",
       "      <td>105</td>\n",
       "      <td>105</td>\n",
       "      <td>105</td>\n",
       "      <td>105</td>\n",
       "      <td>105</td>\n",
       "      <td>105</td>\n",
       "      <td>105</td>\n",
       "      <td>105</td>\n",
       "    </tr>\n",
       "    <tr>\n",
       "      <th>lose_non_comp</th>\n",
       "      <td>89</td>\n",
       "      <td>89</td>\n",
       "      <td>89</td>\n",
       "      <td>89</td>\n",
       "      <td>89</td>\n",
       "      <td>89</td>\n",
       "      <td>89</td>\n",
       "      <td>89</td>\n",
       "      <td>89</td>\n",
       "      <td>89</td>\n",
       "      <td>89</td>\n",
       "      <td>89</td>\n",
       "      <td>89</td>\n",
       "    </tr>\n",
       "    <tr>\n",
       "      <th>omission</th>\n",
       "      <td>48</td>\n",
       "      <td>48</td>\n",
       "      <td>48</td>\n",
       "      <td>48</td>\n",
       "      <td>48</td>\n",
       "      <td>48</td>\n",
       "      <td>48</td>\n",
       "      <td>48</td>\n",
       "      <td>48</td>\n",
       "      <td>48</td>\n",
       "      <td>48</td>\n",
       "      <td>48</td>\n",
       "      <td>48</td>\n",
       "    </tr>\n",
       "    <tr>\n",
       "      <th>rewarded</th>\n",
       "      <td>290</td>\n",
       "      <td>290</td>\n",
       "      <td>290</td>\n",
       "      <td>290</td>\n",
       "      <td>290</td>\n",
       "      <td>290</td>\n",
       "      <td>290</td>\n",
       "      <td>290</td>\n",
       "      <td>290</td>\n",
       "      <td>290</td>\n",
       "      <td>290</td>\n",
       "      <td>290</td>\n",
       "      <td>290</td>\n",
       "    </tr>\n",
       "    <tr>\n",
       "      <th>win_comp</th>\n",
       "      <td>77</td>\n",
       "      <td>77</td>\n",
       "      <td>77</td>\n",
       "      <td>77</td>\n",
       "      <td>77</td>\n",
       "      <td>77</td>\n",
       "      <td>77</td>\n",
       "      <td>77</td>\n",
       "      <td>77</td>\n",
       "      <td>77</td>\n",
       "      <td>77</td>\n",
       "      <td>77</td>\n",
       "      <td>77</td>\n",
       "    </tr>\n",
       "    <tr>\n",
       "      <th>win_non_comp</th>\n",
       "      <td>134</td>\n",
       "      <td>134</td>\n",
       "      <td>134</td>\n",
       "      <td>134</td>\n",
       "      <td>134</td>\n",
       "      <td>134</td>\n",
       "      <td>134</td>\n",
       "      <td>134</td>\n",
       "      <td>134</td>\n",
       "      <td>134</td>\n",
       "      <td>134</td>\n",
       "      <td>134</td>\n",
       "      <td>134</td>\n",
       "    </tr>\n",
       "  </tbody>\n",
       "</table>\n",
       "</div>"
      ],
      "text/plain": [
       "                       time  recording_dir  recording_file  time_stamp_index  \\\n",
       "competition_closeness                                                          \n",
       "lose_comp               105            105             105               105   \n",
       "lose_non_comp            89             89              89                89   \n",
       "omission                 48             48              48                48   \n",
       "rewarded                290            290             290               290   \n",
       "win_comp                 77             77              77                77   \n",
       "win_non_comp            134            134             134               134   \n",
       "\n",
       "                       video_file  video_frame  video_number  subject_info  \\\n",
       "competition_closeness                                                        \n",
       "lose_comp                     105          105           105           105   \n",
       "lose_non_comp                  89           89            89            89   \n",
       "omission                       48           48            48            48   \n",
       "rewarded                      290          290           290           290   \n",
       "win_comp                       77           77            77            77   \n",
       "win_non_comp                  134          134           134           134   \n",
       "\n",
       "                       video_name  all_subjects  current_subject  \\\n",
       "competition_closeness                                              \n",
       "lose_comp                     105           105              105   \n",
       "lose_non_comp                  89            89               89   \n",
       "omission                       48            48               48   \n",
       "rewarded                      290           290              290   \n",
       "win_comp                       77            77               77   \n",
       "win_non_comp                  134           134              134   \n",
       "\n",
       "                       trial_outcome  lfp_index  \n",
       "competition_closeness                            \n",
       "lose_comp                        105        105  \n",
       "lose_non_comp                     89         89  \n",
       "omission                          48         48  \n",
       "rewarded                         290        290  \n",
       "win_comp                          77         77  \n",
       "win_non_comp                     134        134  "
      ]
     },
     "execution_count": 30,
     "metadata": {},
     "output_type": "execute_result"
    }
   ],
   "source": [
    "all_trials_df.groupby([\"competition_closeness\"]).count()"
   ]
  },
  {
   "cell_type": "markdown",
   "metadata": {},
   "source": [
    "- Making columns of the different timestamps"
   ]
  },
  {
   "cell_type": "code",
   "execution_count": 31,
   "metadata": {},
   "outputs": [],
   "source": [
    "all_trials_df[\"baseline_lfp_timestamp_range\"] = all_trials_df[\"lfp_index\"].apply(lambda x: (x - TRIAL_DURATION * LFP_SAMPLING_RATE, x))"
   ]
  },
  {
   "cell_type": "code",
   "execution_count": 32,
   "metadata": {},
   "outputs": [],
   "source": [
    "all_trials_df[\"trial_lfp_timestamp_range\"] = all_trials_df[\"lfp_index\"].apply(lambda x: (x, x + TRIAL_DURATION * LFP_SAMPLING_RATE))"
   ]
  },
  {
   "cell_type": "code",
   "execution_count": 33,
   "metadata": {},
   "outputs": [],
   "source": [
    "all_trials_df[\"baseline_ephys_timestamp_range\"] = all_trials_df[\"time_stamp_index\"].apply(lambda x: (x - TRIAL_DURATION * EPHYS_SAMPLING_RATE, x))"
   ]
  },
  {
   "cell_type": "code",
   "execution_count": 34,
   "metadata": {},
   "outputs": [],
   "source": [
    "all_trials_df[\"trial_ephys_timestamp_range\"] = all_trials_df[\"time_stamp_index\"].apply(lambda x: (x, x + TRIAL_DURATION * EPHYS_SAMPLING_RATE))"
   ]
  },
  {
   "cell_type": "code",
   "execution_count": 35,
   "metadata": {},
   "outputs": [],
   "source": [
    "all_trials_df[\"baseline_videoframe_range\"] = all_trials_df[\"video_frame\"].apply(lambda x: (x - TRIAL_DURATION * FRAME_RATE, x))"
   ]
  },
  {
   "cell_type": "code",
   "execution_count": 36,
   "metadata": {},
   "outputs": [],
   "source": [
    "all_trials_df[\"trial_videoframe_range\"] = all_trials_df[\"video_frame\"].apply(lambda x: (x, x + TRIAL_DURATION * FRAME_RATE))"
   ]
  },
  {
   "cell_type": "markdown",
   "metadata": {},
   "source": [
    "# Extracting the LFP"
   ]
  },
  {
   "cell_type": "code",
   "execution_count": 37,
   "metadata": {},
   "outputs": [
    {
     "name": "stdout",
     "output_type": "stream",
     "text": [
      "An exception occurred: stream_id trodes is not in ['ECU']\n",
      "20230617_115521_standard_comp_to_omission_D1_subj_1-2_t2b2L_box2_merged\n",
      "20230617_115521_standard_comp_to_omission_D1_subj_1-1_t1b3L_box1_merged\n",
      "An exception occurred: stream_id trodes is not in ['ECU']\n",
      "20221202_134600_omission_and_competition_subject_6_1_top_2_base_3_merged\n",
      "An exception occurred: stream_id trodes is not in ['ECU']\n",
      "An exception occurred: stream_id trodes is not in ['ECU']\n",
      "20230621_111240_standard_comp_to_omission_D5_subj_1-4_t3b3L_box1_merged\n",
      "An exception occurred: stream_id trodes is not in ['ECU']\n",
      "20230620_114347_standard_comp_to_omission_D4_subj_1-1_t1b2L_box_2_merged\n",
      "20230620_114347_standard_comp_to_omission_D4_subj_1-2_t3b3L_box_1_merged\n",
      "An exception occurred: stream_id trodes is not in ['ECU']\n",
      "20221203_154800_omission_and_competition_subject_6_1_top_1_base_3_merged\n",
      "An exception occurred: stream_id trodes is not in ['ECU']\n",
      "20230618_100636_standard_comp_to_omission_D2_subj_1_4_t4b3L_box1_merged\n",
      "20230618_100636_standard_comp_to_omission_D2_subj_1_1_t1b2L_box2_merged\n",
      "An exception occurred: stream_id trodes is not in ['ECU']\n",
      "An exception occurred: stream_id trodes is not in ['ECU']\n",
      "20230619_115321_standard_comp_to_omission_D3_subj_1-4_t3b3L_box2_merged\n",
      "An exception occurred: stream_id trodes is not in ['ECU']\n",
      "20221214_125409_om_and_comp_6_1_top_1_base_2_vs_6_3\n",
      "An exception occurred: stream_id trodes is not in ['ECU']\n",
      "An exception occurred: stream_id trodes is not in ['ECU']\n",
      "20221215_145401_comp_amd_om_6_1_top_4_base_3\n"
     ]
    }
   ],
   "source": [
    "recording_name_to_all_ch_lfp = {}\n",
    "# Going through all the recording sessions \n",
    "for session_dir in ALL_SESSION_DIR:\n",
    "    # Going through all the recordings in each session\n",
    "    for recording_path in glob.glob(os.path.join(session_dir, RECORDING_EXTENTION)):\n",
    "        try:\n",
    "            recording_basename = os.path.splitext(os.path.basename(recording_path))[0]\n",
    "            # checking to see if the recording has an ECU component\n",
    "            # if it doesn't, then the next one be extracted\n",
    "            current_recording = se.read_spikegadgets(recording_path, stream_id=ECU_STREAM_ID)\n",
    "            current_recording = se.read_spikegadgets(recording_path, stream_id=TRODES_STREAM_ID)\n",
    "            print(recording_basename)\n",
    "            # Preprocessing the LFP\n",
    "            current_recording = sp.notch_filter(current_recording, freq=ELECTRIC_NOISE_FREQ)\n",
    "            current_recording = sp.bandpass_filter(current_recording, freq_min=LFP_FREQ_MIN, freq_max=LFP_FREQ_MAX)\n",
    "            current_recording = sp.resample(current_recording, resample_rate=LFP_SAMPLING_RATE)\n",
    "            current_recording = sp.zscore(current_recording)\n",
    "            recording_name_to_all_ch_lfp[recording_basename] = current_recording\n",
    "        except Exception as error:\n",
    "            # handle the exception\n",
    "            print(\"An exception occurred:\", error) # An exception occurred: division by zero\n",
    "\n",
    "\n"
   ]
  },
  {
   "cell_type": "markdown",
   "metadata": {},
   "source": [
    "- Filtering for all trials that we got the LFP for"
   ]
  },
  {
   "cell_type": "code",
   "execution_count": 38,
   "metadata": {},
   "outputs": [],
   "source": [
    "all_trials_df = all_trials_df[all_trials_df[\"recording_file\"].isin(recording_name_to_all_ch_lfp.keys())].reset_index(drop=True)"
   ]
  },
  {
   "cell_type": "code",
   "execution_count": 39,
   "metadata": {
    "scrolled": true
   },
   "outputs": [
    {
     "data": {
      "text/html": [
       "<div>\n",
       "<style scoped>\n",
       "    .dataframe tbody tr th:only-of-type {\n",
       "        vertical-align: middle;\n",
       "    }\n",
       "\n",
       "    .dataframe tbody tr th {\n",
       "        vertical-align: top;\n",
       "    }\n",
       "\n",
       "    .dataframe thead th {\n",
       "        text-align: right;\n",
       "    }\n",
       "</style>\n",
       "<table border=\"1\" class=\"dataframe\">\n",
       "  <thead>\n",
       "    <tr style=\"text-align: right;\">\n",
       "      <th></th>\n",
       "      <th>time</th>\n",
       "      <th>recording_dir</th>\n",
       "      <th>recording_file</th>\n",
       "      <th>time_stamp_index</th>\n",
       "      <th>video_file</th>\n",
       "      <th>video_frame</th>\n",
       "      <th>video_number</th>\n",
       "      <th>subject_info</th>\n",
       "      <th>competition_closeness</th>\n",
       "      <th>video_name</th>\n",
       "      <th>all_subjects</th>\n",
       "      <th>current_subject</th>\n",
       "      <th>trial_outcome</th>\n",
       "      <th>lfp_index</th>\n",
       "      <th>baseline_lfp_timestamp_range</th>\n",
       "      <th>trial_lfp_timestamp_range</th>\n",
       "      <th>baseline_ephys_timestamp_range</th>\n",
       "      <th>trial_ephys_timestamp_range</th>\n",
       "      <th>baseline_videoframe_range</th>\n",
       "      <th>trial_videoframe_range</th>\n",
       "    </tr>\n",
       "  </thead>\n",
       "  <tbody>\n",
       "    <tr>\n",
       "      <th>0</th>\n",
       "      <td>6310663</td>\n",
       "      <td>20221202_134600_omission_and_competition_subje...</td>\n",
       "      <td>20221202_134600_omission_and_competition_subje...</td>\n",
       "      <td>1390826</td>\n",
       "      <td>20221202_134600_omission_and_competition_subje...</td>\n",
       "      <td>1734</td>\n",
       "      <td>1.0</td>\n",
       "      <td>6_1_top_2_base_3</td>\n",
       "      <td>rewarded</td>\n",
       "      <td>20221202_134600_omission_and_competition_subje...</td>\n",
       "      <td>(6.1, 6.2)</td>\n",
       "      <td>6.1</td>\n",
       "      <td>rewarded</td>\n",
       "      <td>69541</td>\n",
       "      <td>(59541, 69541)</td>\n",
       "      <td>(69541, 79541)</td>\n",
       "      <td>(1190826, 1390826)</td>\n",
       "      <td>(1390826, 1590826)</td>\n",
       "      <td>(1514, 1734)</td>\n",
       "      <td>(1734, 1954)</td>\n",
       "    </tr>\n",
       "    <tr>\n",
       "      <th>1</th>\n",
       "      <td>7910662</td>\n",
       "      <td>20221202_134600_omission_and_competition_subje...</td>\n",
       "      <td>20221202_134600_omission_and_competition_subje...</td>\n",
       "      <td>2990825</td>\n",
       "      <td>20221202_134600_omission_and_competition_subje...</td>\n",
       "      <td>3728</td>\n",
       "      <td>1.0</td>\n",
       "      <td>6_1_top_2_base_3</td>\n",
       "      <td>rewarded</td>\n",
       "      <td>20221202_134600_omission_and_competition_subje...</td>\n",
       "      <td>(6.1, 6.2)</td>\n",
       "      <td>6.1</td>\n",
       "      <td>rewarded</td>\n",
       "      <td>149541</td>\n",
       "      <td>(139541, 149541)</td>\n",
       "      <td>(149541, 159541)</td>\n",
       "      <td>(2790825, 2990825)</td>\n",
       "      <td>(2990825, 3190825)</td>\n",
       "      <td>(3508, 3728)</td>\n",
       "      <td>(3728, 3948)</td>\n",
       "    </tr>\n",
       "    <tr>\n",
       "      <th>2</th>\n",
       "      <td>9710660</td>\n",
       "      <td>20221202_134600_omission_and_competition_subje...</td>\n",
       "      <td>20221202_134600_omission_and_competition_subje...</td>\n",
       "      <td>4790823</td>\n",
       "      <td>20221202_134600_omission_and_competition_subje...</td>\n",
       "      <td>5972</td>\n",
       "      <td>1.0</td>\n",
       "      <td>6_1_top_2_base_3</td>\n",
       "      <td>rewarded</td>\n",
       "      <td>20221202_134600_omission_and_competition_subje...</td>\n",
       "      <td>(6.1, 6.2)</td>\n",
       "      <td>6.1</td>\n",
       "      <td>rewarded</td>\n",
       "      <td>239541</td>\n",
       "      <td>(229541, 239541)</td>\n",
       "      <td>(239541, 249541)</td>\n",
       "      <td>(4590823, 4790823)</td>\n",
       "      <td>(4790823, 4990823)</td>\n",
       "      <td>(5752, 5972)</td>\n",
       "      <td>(5972, 6192)</td>\n",
       "    </tr>\n",
       "    <tr>\n",
       "      <th>3</th>\n",
       "      <td>11310658</td>\n",
       "      <td>20221202_134600_omission_and_competition_subje...</td>\n",
       "      <td>20221202_134600_omission_and_competition_subje...</td>\n",
       "      <td>6390821</td>\n",
       "      <td>20221202_134600_omission_and_competition_subje...</td>\n",
       "      <td>7966</td>\n",
       "      <td>1.0</td>\n",
       "      <td>6_1_top_2_base_3</td>\n",
       "      <td>omission</td>\n",
       "      <td>20221202_134600_omission_and_competition_subje...</td>\n",
       "      <td>(6.1, 6.2)</td>\n",
       "      <td>6.1</td>\n",
       "      <td>omission</td>\n",
       "      <td>319541</td>\n",
       "      <td>(309541, 319541)</td>\n",
       "      <td>(319541, 329541)</td>\n",
       "      <td>(6190821, 6390821)</td>\n",
       "      <td>(6390821, 6590821)</td>\n",
       "      <td>(7746, 7966)</td>\n",
       "      <td>(7966, 8186)</td>\n",
       "    </tr>\n",
       "    <tr>\n",
       "      <th>4</th>\n",
       "      <td>12810657</td>\n",
       "      <td>20221202_134600_omission_and_competition_subje...</td>\n",
       "      <td>20221202_134600_omission_and_competition_subje...</td>\n",
       "      <td>7890820</td>\n",
       "      <td>20221202_134600_omission_and_competition_subje...</td>\n",
       "      <td>9836</td>\n",
       "      <td>1.0</td>\n",
       "      <td>6_1_top_2_base_3</td>\n",
       "      <td>rewarded</td>\n",
       "      <td>20221202_134600_omission_and_competition_subje...</td>\n",
       "      <td>(6.1, 6.2)</td>\n",
       "      <td>6.1</td>\n",
       "      <td>rewarded</td>\n",
       "      <td>394541</td>\n",
       "      <td>(384541, 394541)</td>\n",
       "      <td>(394541, 404541)</td>\n",
       "      <td>(7690820, 7890820)</td>\n",
       "      <td>(7890820, 8090820)</td>\n",
       "      <td>(9616, 9836)</td>\n",
       "      <td>(9836, 10056)</td>\n",
       "    </tr>\n",
       "  </tbody>\n",
       "</table>\n",
       "</div>"
      ],
      "text/plain": [
       "       time                                      recording_dir  \\\n",
       "0   6310663  20221202_134600_omission_and_competition_subje...   \n",
       "1   7910662  20221202_134600_omission_and_competition_subje...   \n",
       "2   9710660  20221202_134600_omission_and_competition_subje...   \n",
       "3  11310658  20221202_134600_omission_and_competition_subje...   \n",
       "4  12810657  20221202_134600_omission_and_competition_subje...   \n",
       "\n",
       "                                      recording_file  time_stamp_index  \\\n",
       "0  20221202_134600_omission_and_competition_subje...           1390826   \n",
       "1  20221202_134600_omission_and_competition_subje...           2990825   \n",
       "2  20221202_134600_omission_and_competition_subje...           4790823   \n",
       "3  20221202_134600_omission_and_competition_subje...           6390821   \n",
       "4  20221202_134600_omission_and_competition_subje...           7890820   \n",
       "\n",
       "                                          video_file  video_frame  \\\n",
       "0  20221202_134600_omission_and_competition_subje...         1734   \n",
       "1  20221202_134600_omission_and_competition_subje...         3728   \n",
       "2  20221202_134600_omission_and_competition_subje...         5972   \n",
       "3  20221202_134600_omission_and_competition_subje...         7966   \n",
       "4  20221202_134600_omission_and_competition_subje...         9836   \n",
       "\n",
       "   video_number      subject_info competition_closeness  \\\n",
       "0           1.0  6_1_top_2_base_3              rewarded   \n",
       "1           1.0  6_1_top_2_base_3              rewarded   \n",
       "2           1.0  6_1_top_2_base_3              rewarded   \n",
       "3           1.0  6_1_top_2_base_3              omission   \n",
       "4           1.0  6_1_top_2_base_3              rewarded   \n",
       "\n",
       "                                          video_name all_subjects  \\\n",
       "0  20221202_134600_omission_and_competition_subje...   (6.1, 6.2)   \n",
       "1  20221202_134600_omission_and_competition_subje...   (6.1, 6.2)   \n",
       "2  20221202_134600_omission_and_competition_subje...   (6.1, 6.2)   \n",
       "3  20221202_134600_omission_and_competition_subje...   (6.1, 6.2)   \n",
       "4  20221202_134600_omission_and_competition_subje...   (6.1, 6.2)   \n",
       "\n",
       "  current_subject trial_outcome  lfp_index baseline_lfp_timestamp_range  \\\n",
       "0             6.1      rewarded      69541               (59541, 69541)   \n",
       "1             6.1      rewarded     149541             (139541, 149541)   \n",
       "2             6.1      rewarded     239541             (229541, 239541)   \n",
       "3             6.1      omission     319541             (309541, 319541)   \n",
       "4             6.1      rewarded     394541             (384541, 394541)   \n",
       "\n",
       "  trial_lfp_timestamp_range baseline_ephys_timestamp_range  \\\n",
       "0            (69541, 79541)             (1190826, 1390826)   \n",
       "1          (149541, 159541)             (2790825, 2990825)   \n",
       "2          (239541, 249541)             (4590823, 4790823)   \n",
       "3          (319541, 329541)             (6190821, 6390821)   \n",
       "4          (394541, 404541)             (7690820, 7890820)   \n",
       "\n",
       "  trial_ephys_timestamp_range baseline_videoframe_range trial_videoframe_range  \n",
       "0          (1390826, 1590826)              (1514, 1734)           (1734, 1954)  \n",
       "1          (2990825, 3190825)              (3508, 3728)           (3728, 3948)  \n",
       "2          (4790823, 4990823)              (5752, 5972)           (5972, 6192)  \n",
       "3          (6390821, 6590821)              (7746, 7966)           (7966, 8186)  \n",
       "4          (7890820, 8090820)              (9616, 9836)          (9836, 10056)  "
      ]
     },
     "execution_count": 39,
     "metadata": {},
     "output_type": "execute_result"
    }
   ],
   "source": [
    "all_trials_df.head()"
   ]
  },
  {
   "cell_type": "markdown",
   "metadata": {},
   "source": [
    "- Adding trial numbers based on timestamp ordering for each recording"
   ]
  },
  {
   "cell_type": "code",
   "execution_count": 40,
   "metadata": {},
   "outputs": [],
   "source": [
    "all_trials_df = all_trials_df.groupby('recording_file').apply(lambda g: compute_sorted_index(g, value_column='time', index_column='trial_number')).reset_index(drop=True)"
   ]
  },
  {
   "cell_type": "code",
   "execution_count": 41,
   "metadata": {},
   "outputs": [],
   "source": [
    "all_trials_df[\"trial_number\"] = all_trials_df[\"trial_number\"] + 1"
   ]
  },
  {
   "cell_type": "markdown",
   "metadata": {},
   "source": [
    "## Adding the LFP trace information"
   ]
  },
  {
   "cell_type": "code",
   "execution_count": 42,
   "metadata": {
    "scrolled": true
   },
   "outputs": [
    {
     "data": {
      "text/html": [
       "<div>\n",
       "<style scoped>\n",
       "    .dataframe tbody tr th:only-of-type {\n",
       "        vertical-align: middle;\n",
       "    }\n",
       "\n",
       "    .dataframe tbody tr th {\n",
       "        vertical-align: top;\n",
       "    }\n",
       "\n",
       "    .dataframe thead th {\n",
       "        text-align: right;\n",
       "    }\n",
       "</style>\n",
       "<table border=\"1\" class=\"dataframe\">\n",
       "  <thead>\n",
       "    <tr style=\"text-align: right;\">\n",
       "      <th></th>\n",
       "      <th>Cohort</th>\n",
       "      <th>Subject</th>\n",
       "      <th>eib_mPFC</th>\n",
       "      <th>eib_vHPC</th>\n",
       "      <th>eib_BLA</th>\n",
       "      <th>eib_LH</th>\n",
       "      <th>eib_MD</th>\n",
       "      <th>spike_interface_mPFC</th>\n",
       "      <th>spike_interface_vHPC</th>\n",
       "      <th>spike_interface_BLA</th>\n",
       "      <th>spike_interface_LH</th>\n",
       "      <th>spike_interface_MD</th>\n",
       "    </tr>\n",
       "  </thead>\n",
       "  <tbody>\n",
       "    <tr>\n",
       "      <th>0</th>\n",
       "      <td>1</td>\n",
       "      <td>6.1</td>\n",
       "      <td>NaN</td>\n",
       "      <td>15</td>\n",
       "      <td>14</td>\n",
       "      <td>13</td>\n",
       "      <td>31</td>\n",
       "      <td>21.0</td>\n",
       "      <td>15.0</td>\n",
       "      <td>14.0</td>\n",
       "      <td>13.0</td>\n",
       "      <td>16.0</td>\n",
       "    </tr>\n",
       "    <tr>\n",
       "      <th>1</th>\n",
       "      <td>1</td>\n",
       "      <td>6.2</td>\n",
       "      <td>NaN</td>\n",
       "      <td>15</td>\n",
       "      <td>14</td>\n",
       "      <td>13</td>\n",
       "      <td>31</td>\n",
       "      <td>NaN</td>\n",
       "      <td>NaN</td>\n",
       "      <td>NaN</td>\n",
       "      <td>NaN</td>\n",
       "      <td>NaN</td>\n",
       "    </tr>\n",
       "    <tr>\n",
       "      <th>2</th>\n",
       "      <td>1</td>\n",
       "      <td>6.3</td>\n",
       "      <td>NaN</td>\n",
       "      <td>15</td>\n",
       "      <td>14</td>\n",
       "      <td>13</td>\n",
       "      <td>31</td>\n",
       "      <td>NaN</td>\n",
       "      <td>NaN</td>\n",
       "      <td>NaN</td>\n",
       "      <td>NaN</td>\n",
       "      <td>NaN</td>\n",
       "    </tr>\n",
       "    <tr>\n",
       "      <th>3</th>\n",
       "      <td>1</td>\n",
       "      <td>6.4</td>\n",
       "      <td>NaN</td>\n",
       "      <td>15</td>\n",
       "      <td>14</td>\n",
       "      <td>13</td>\n",
       "      <td>31</td>\n",
       "      <td>NaN</td>\n",
       "      <td>NaN</td>\n",
       "      <td>NaN</td>\n",
       "      <td>NaN</td>\n",
       "      <td>NaN</td>\n",
       "    </tr>\n",
       "    <tr>\n",
       "      <th>4</th>\n",
       "      <td>2</td>\n",
       "      <td>1.1</td>\n",
       "      <td>NaN</td>\n",
       "      <td>16</td>\n",
       "      <td>17</td>\n",
       "      <td>18</td>\n",
       "      <td>19</td>\n",
       "      <td>5.0</td>\n",
       "      <td>31.0</td>\n",
       "      <td>30.0</td>\n",
       "      <td>29.0</td>\n",
       "      <td>28.0</td>\n",
       "    </tr>\n",
       "    <tr>\n",
       "      <th>5</th>\n",
       "      <td>2</td>\n",
       "      <td>1.2</td>\n",
       "      <td>NaN</td>\n",
       "      <td>31</td>\n",
       "      <td>30</td>\n",
       "      <td>29</td>\n",
       "      <td>28</td>\n",
       "      <td>10.0</td>\n",
       "      <td>31.0</td>\n",
       "      <td>30.0</td>\n",
       "      <td>29.0</td>\n",
       "      <td>28.0</td>\n",
       "    </tr>\n",
       "    <tr>\n",
       "      <th>6</th>\n",
       "      <td>2</td>\n",
       "      <td>1.3</td>\n",
       "      <td>NaN</td>\n",
       "      <td>15</td>\n",
       "      <td>14</td>\n",
       "      <td>13</td>\n",
       "      <td>12</td>\n",
       "      <td>9.0</td>\n",
       "      <td>31.0</td>\n",
       "      <td>30.0</td>\n",
       "      <td>29.0</td>\n",
       "      <td>28.0</td>\n",
       "    </tr>\n",
       "    <tr>\n",
       "      <th>7</th>\n",
       "      <td>2</td>\n",
       "      <td>1.4</td>\n",
       "      <td>NaN</td>\n",
       "      <td>15</td>\n",
       "      <td>14</td>\n",
       "      <td>13</td>\n",
       "      <td>12</td>\n",
       "      <td>15.0</td>\n",
       "      <td>31.0</td>\n",
       "      <td>30.0</td>\n",
       "      <td>29.0</td>\n",
       "      <td>28.0</td>\n",
       "    </tr>\n",
       "  </tbody>\n",
       "</table>\n",
       "</div>"
      ],
      "text/plain": [
       "   Cohort  Subject  eib_mPFC  eib_vHPC  eib_BLA  eib_LH  eib_MD  \\\n",
       "0       1      6.1       NaN        15       14      13      31   \n",
       "1       1      6.2       NaN        15       14      13      31   \n",
       "2       1      6.3       NaN        15       14      13      31   \n",
       "3       1      6.4       NaN        15       14      13      31   \n",
       "4       2      1.1       NaN        16       17      18      19   \n",
       "5       2      1.2       NaN        31       30      29      28   \n",
       "6       2      1.3       NaN        15       14      13      12   \n",
       "7       2      1.4       NaN        15       14      13      12   \n",
       "\n",
       "   spike_interface_mPFC  spike_interface_vHPC  spike_interface_BLA  \\\n",
       "0                  21.0                  15.0                 14.0   \n",
       "1                   NaN                   NaN                  NaN   \n",
       "2                   NaN                   NaN                  NaN   \n",
       "3                   NaN                   NaN                  NaN   \n",
       "4                   5.0                  31.0                 30.0   \n",
       "5                  10.0                  31.0                 30.0   \n",
       "6                   9.0                  31.0                 30.0   \n",
       "7                  15.0                  31.0                 30.0   \n",
       "\n",
       "   spike_interface_LH  spike_interface_MD  \n",
       "0                13.0                16.0  \n",
       "1                 NaN                 NaN  \n",
       "2                 NaN                 NaN  \n",
       "3                 NaN                 NaN  \n",
       "4                29.0                28.0  \n",
       "5                29.0                28.0  \n",
       "6                29.0                28.0  \n",
       "7                29.0                28.0  "
      ]
     },
     "execution_count": 42,
     "metadata": {},
     "output_type": "execute_result"
    }
   ],
   "source": [
    "CHANNEL_MAPPING_DF"
   ]
  },
  {
   "cell_type": "markdown",
   "metadata": {},
   "source": [
    "- Adding all the brain region to ch information"
   ]
  },
  {
   "cell_type": "code",
   "execution_count": 43,
   "metadata": {},
   "outputs": [],
   "source": [
    "CHANNEL_MAPPING_DF[\"Subject\"] = CHANNEL_MAPPING_DF[\"Subject\"].astype(str)"
   ]
  },
  {
   "cell_type": "code",
   "execution_count": 44,
   "metadata": {},
   "outputs": [],
   "source": [
    "channel_map_and_all_trials_df = all_trials_df.merge(CHANNEL_MAPPING_DF, left_on=\"current_subject\", right_on=\"Subject\", how=\"left\")"
   ]
  },
  {
   "cell_type": "code",
   "execution_count": 45,
   "metadata": {},
   "outputs": [],
   "source": [
    "channel_map_and_all_trials_df = channel_map_and_all_trials_df.drop(columns=[col for col in channel_map_and_all_trials_df.columns if \"eib\" in col], errors=\"ignore\")"
   ]
  },
  {
   "cell_type": "code",
   "execution_count": 46,
   "metadata": {},
   "outputs": [],
   "source": [
    "channel_map_and_all_trials_df = channel_map_and_all_trials_df.drop(columns=[\"Subject\"], errors=\"ignore\")"
   ]
  },
  {
   "cell_type": "code",
   "execution_count": 47,
   "metadata": {},
   "outputs": [
    {
     "data": {
      "text/html": [
       "<div>\n",
       "<style scoped>\n",
       "    .dataframe tbody tr th:only-of-type {\n",
       "        vertical-align: middle;\n",
       "    }\n",
       "\n",
       "    .dataframe tbody tr th {\n",
       "        vertical-align: top;\n",
       "    }\n",
       "\n",
       "    .dataframe thead th {\n",
       "        text-align: right;\n",
       "    }\n",
       "</style>\n",
       "<table border=\"1\" class=\"dataframe\">\n",
       "  <thead>\n",
       "    <tr style=\"text-align: right;\">\n",
       "      <th></th>\n",
       "      <th>time</th>\n",
       "      <th>recording_dir</th>\n",
       "      <th>recording_file</th>\n",
       "      <th>time_stamp_index</th>\n",
       "      <th>video_file</th>\n",
       "      <th>video_frame</th>\n",
       "      <th>video_number</th>\n",
       "      <th>subject_info</th>\n",
       "      <th>competition_closeness</th>\n",
       "      <th>video_name</th>\n",
       "      <th>...</th>\n",
       "      <th>trial_ephys_timestamp_range</th>\n",
       "      <th>baseline_videoframe_range</th>\n",
       "      <th>trial_videoframe_range</th>\n",
       "      <th>trial_number</th>\n",
       "      <th>Cohort</th>\n",
       "      <th>spike_interface_mPFC</th>\n",
       "      <th>spike_interface_vHPC</th>\n",
       "      <th>spike_interface_BLA</th>\n",
       "      <th>spike_interface_LH</th>\n",
       "      <th>spike_interface_MD</th>\n",
       "    </tr>\n",
       "  </thead>\n",
       "  <tbody>\n",
       "    <tr>\n",
       "      <th>0</th>\n",
       "      <td>6310663</td>\n",
       "      <td>20221202_134600_omission_and_competition_subje...</td>\n",
       "      <td>20221202_134600_omission_and_competition_subje...</td>\n",
       "      <td>1390826</td>\n",
       "      <td>20221202_134600_omission_and_competition_subje...</td>\n",
       "      <td>1734</td>\n",
       "      <td>1.0</td>\n",
       "      <td>6_1_top_2_base_3</td>\n",
       "      <td>rewarded</td>\n",
       "      <td>20221202_134600_omission_and_competition_subje...</td>\n",
       "      <td>...</td>\n",
       "      <td>(1390826, 1590826)</td>\n",
       "      <td>(1514, 1734)</td>\n",
       "      <td>(1734, 1954)</td>\n",
       "      <td>1</td>\n",
       "      <td>1</td>\n",
       "      <td>21.0</td>\n",
       "      <td>15.0</td>\n",
       "      <td>14.0</td>\n",
       "      <td>13.0</td>\n",
       "      <td>16.0</td>\n",
       "    </tr>\n",
       "    <tr>\n",
       "      <th>1</th>\n",
       "      <td>7910662</td>\n",
       "      <td>20221202_134600_omission_and_competition_subje...</td>\n",
       "      <td>20221202_134600_omission_and_competition_subje...</td>\n",
       "      <td>2990825</td>\n",
       "      <td>20221202_134600_omission_and_competition_subje...</td>\n",
       "      <td>3728</td>\n",
       "      <td>1.0</td>\n",
       "      <td>6_1_top_2_base_3</td>\n",
       "      <td>rewarded</td>\n",
       "      <td>20221202_134600_omission_and_competition_subje...</td>\n",
       "      <td>...</td>\n",
       "      <td>(2990825, 3190825)</td>\n",
       "      <td>(3508, 3728)</td>\n",
       "      <td>(3728, 3948)</td>\n",
       "      <td>2</td>\n",
       "      <td>1</td>\n",
       "      <td>21.0</td>\n",
       "      <td>15.0</td>\n",
       "      <td>14.0</td>\n",
       "      <td>13.0</td>\n",
       "      <td>16.0</td>\n",
       "    </tr>\n",
       "    <tr>\n",
       "      <th>2</th>\n",
       "      <td>9710660</td>\n",
       "      <td>20221202_134600_omission_and_competition_subje...</td>\n",
       "      <td>20221202_134600_omission_and_competition_subje...</td>\n",
       "      <td>4790823</td>\n",
       "      <td>20221202_134600_omission_and_competition_subje...</td>\n",
       "      <td>5972</td>\n",
       "      <td>1.0</td>\n",
       "      <td>6_1_top_2_base_3</td>\n",
       "      <td>rewarded</td>\n",
       "      <td>20221202_134600_omission_and_competition_subje...</td>\n",
       "      <td>...</td>\n",
       "      <td>(4790823, 4990823)</td>\n",
       "      <td>(5752, 5972)</td>\n",
       "      <td>(5972, 6192)</td>\n",
       "      <td>3</td>\n",
       "      <td>1</td>\n",
       "      <td>21.0</td>\n",
       "      <td>15.0</td>\n",
       "      <td>14.0</td>\n",
       "      <td>13.0</td>\n",
       "      <td>16.0</td>\n",
       "    </tr>\n",
       "    <tr>\n",
       "      <th>3</th>\n",
       "      <td>11310658</td>\n",
       "      <td>20221202_134600_omission_and_competition_subje...</td>\n",
       "      <td>20221202_134600_omission_and_competition_subje...</td>\n",
       "      <td>6390821</td>\n",
       "      <td>20221202_134600_omission_and_competition_subje...</td>\n",
       "      <td>7966</td>\n",
       "      <td>1.0</td>\n",
       "      <td>6_1_top_2_base_3</td>\n",
       "      <td>omission</td>\n",
       "      <td>20221202_134600_omission_and_competition_subje...</td>\n",
       "      <td>...</td>\n",
       "      <td>(6390821, 6590821)</td>\n",
       "      <td>(7746, 7966)</td>\n",
       "      <td>(7966, 8186)</td>\n",
       "      <td>4</td>\n",
       "      <td>1</td>\n",
       "      <td>21.0</td>\n",
       "      <td>15.0</td>\n",
       "      <td>14.0</td>\n",
       "      <td>13.0</td>\n",
       "      <td>16.0</td>\n",
       "    </tr>\n",
       "    <tr>\n",
       "      <th>4</th>\n",
       "      <td>12810657</td>\n",
       "      <td>20221202_134600_omission_and_competition_subje...</td>\n",
       "      <td>20221202_134600_omission_and_competition_subje...</td>\n",
       "      <td>7890820</td>\n",
       "      <td>20221202_134600_omission_and_competition_subje...</td>\n",
       "      <td>9836</td>\n",
       "      <td>1.0</td>\n",
       "      <td>6_1_top_2_base_3</td>\n",
       "      <td>rewarded</td>\n",
       "      <td>20221202_134600_omission_and_competition_subje...</td>\n",
       "      <td>...</td>\n",
       "      <td>(7890820, 8090820)</td>\n",
       "      <td>(9616, 9836)</td>\n",
       "      <td>(9836, 10056)</td>\n",
       "      <td>5</td>\n",
       "      <td>1</td>\n",
       "      <td>21.0</td>\n",
       "      <td>15.0</td>\n",
       "      <td>14.0</td>\n",
       "      <td>13.0</td>\n",
       "      <td>16.0</td>\n",
       "    </tr>\n",
       "  </tbody>\n",
       "</table>\n",
       "<p>5 rows × 27 columns</p>\n",
       "</div>"
      ],
      "text/plain": [
       "       time                                      recording_dir  \\\n",
       "0   6310663  20221202_134600_omission_and_competition_subje...   \n",
       "1   7910662  20221202_134600_omission_and_competition_subje...   \n",
       "2   9710660  20221202_134600_omission_and_competition_subje...   \n",
       "3  11310658  20221202_134600_omission_and_competition_subje...   \n",
       "4  12810657  20221202_134600_omission_and_competition_subje...   \n",
       "\n",
       "                                      recording_file  time_stamp_index  \\\n",
       "0  20221202_134600_omission_and_competition_subje...           1390826   \n",
       "1  20221202_134600_omission_and_competition_subje...           2990825   \n",
       "2  20221202_134600_omission_and_competition_subje...           4790823   \n",
       "3  20221202_134600_omission_and_competition_subje...           6390821   \n",
       "4  20221202_134600_omission_and_competition_subje...           7890820   \n",
       "\n",
       "                                          video_file  video_frame  \\\n",
       "0  20221202_134600_omission_and_competition_subje...         1734   \n",
       "1  20221202_134600_omission_and_competition_subje...         3728   \n",
       "2  20221202_134600_omission_and_competition_subje...         5972   \n",
       "3  20221202_134600_omission_and_competition_subje...         7966   \n",
       "4  20221202_134600_omission_and_competition_subje...         9836   \n",
       "\n",
       "   video_number      subject_info competition_closeness  \\\n",
       "0           1.0  6_1_top_2_base_3              rewarded   \n",
       "1           1.0  6_1_top_2_base_3              rewarded   \n",
       "2           1.0  6_1_top_2_base_3              rewarded   \n",
       "3           1.0  6_1_top_2_base_3              omission   \n",
       "4           1.0  6_1_top_2_base_3              rewarded   \n",
       "\n",
       "                                          video_name  ...  \\\n",
       "0  20221202_134600_omission_and_competition_subje...  ...   \n",
       "1  20221202_134600_omission_and_competition_subje...  ...   \n",
       "2  20221202_134600_omission_and_competition_subje...  ...   \n",
       "3  20221202_134600_omission_and_competition_subje...  ...   \n",
       "4  20221202_134600_omission_and_competition_subje...  ...   \n",
       "\n",
       "  trial_ephys_timestamp_range baseline_videoframe_range  \\\n",
       "0          (1390826, 1590826)              (1514, 1734)   \n",
       "1          (2990825, 3190825)              (3508, 3728)   \n",
       "2          (4790823, 4990823)              (5752, 5972)   \n",
       "3          (6390821, 6590821)              (7746, 7966)   \n",
       "4          (7890820, 8090820)              (9616, 9836)   \n",
       "\n",
       "  trial_videoframe_range  trial_number Cohort spike_interface_mPFC  \\\n",
       "0           (1734, 1954)             1      1                 21.0   \n",
       "1           (3728, 3948)             2      1                 21.0   \n",
       "2           (5972, 6192)             3      1                 21.0   \n",
       "3           (7966, 8186)             4      1                 21.0   \n",
       "4          (9836, 10056)             5      1                 21.0   \n",
       "\n",
       "  spike_interface_vHPC spike_interface_BLA spike_interface_LH  \\\n",
       "0                 15.0                14.0               13.0   \n",
       "1                 15.0                14.0               13.0   \n",
       "2                 15.0                14.0               13.0   \n",
       "3                 15.0                14.0               13.0   \n",
       "4                 15.0                14.0               13.0   \n",
       "\n",
       "  spike_interface_MD  \n",
       "0               16.0  \n",
       "1               16.0  \n",
       "2               16.0  \n",
       "3               16.0  \n",
       "4               16.0  \n",
       "\n",
       "[5 rows x 27 columns]"
      ]
     },
     "execution_count": 47,
     "metadata": {},
     "output_type": "execute_result"
    }
   ],
   "source": [
    "channel_map_and_all_trials_df.head()"
   ]
  },
  {
   "cell_type": "code",
   "execution_count": 48,
   "metadata": {},
   "outputs": [],
   "source": [
    "channel_map_and_all_trials_df.to_csv(\"./proc/trial_metadata.csv\")"
   ]
  },
  {
   "cell_type": "code",
   "execution_count": 49,
   "metadata": {},
   "outputs": [],
   "source": [
    "channel_map_and_all_trials_df.to_pickle(\"./proc/trial_metadata.pkl\")"
   ]
  },
  {
   "cell_type": "code",
   "execution_count": 50,
   "metadata": {},
   "outputs": [
    {
     "data": {
      "text/plain": [
       "Index(['time', 'recording_dir', 'recording_file', 'time_stamp_index',\n",
       "       'video_file', 'video_frame', 'video_number', 'subject_info',\n",
       "       'competition_closeness', 'video_name', 'all_subjects',\n",
       "       'current_subject', 'trial_outcome', 'lfp_index',\n",
       "       'baseline_lfp_timestamp_range', 'trial_lfp_timestamp_range',\n",
       "       'baseline_ephys_timestamp_range', 'trial_ephys_timestamp_range',\n",
       "       'baseline_videoframe_range', 'trial_videoframe_range', 'trial_number',\n",
       "       'Cohort', 'spike_interface_mPFC', 'spike_interface_vHPC',\n",
       "       'spike_interface_BLA', 'spike_interface_LH', 'spike_interface_MD'],\n",
       "      dtype='object')"
      ]
     },
     "execution_count": 50,
     "metadata": {},
     "output_type": "execute_result"
    }
   ],
   "source": [
    "channel_map_and_all_trials_df.columns"
   ]
  },
  {
   "cell_type": "markdown",
   "metadata": {},
   "source": [
    "- Linking up all LFP calculations with all the trials"
   ]
  },
  {
   "cell_type": "code",
   "execution_count": 51,
   "metadata": {},
   "outputs": [],
   "source": [
    "channel_map_and_all_trials_df[\"all_ch_lfp\"] = channel_map_and_all_trials_df[\"recording_file\"].map(recording_name_to_all_ch_lfp)"
   ]
  },
  {
   "cell_type": "markdown",
   "metadata": {},
   "source": [
    "- Creating a new row for each brain region"
   ]
  },
  {
   "cell_type": "code",
   "execution_count": 52,
   "metadata": {},
   "outputs": [],
   "source": [
    "brain_region_col = [col for col in CHANNEL_MAPPING_DF if \"spike_interface\" in col]"
   ]
  },
  {
   "cell_type": "code",
   "execution_count": 53,
   "metadata": {},
   "outputs": [],
   "source": [
    "id_cols = [col for col in channel_map_and_all_trials_df.columns if col not in brain_region_col]"
   ]
  },
  {
   "cell_type": "code",
   "execution_count": 54,
   "metadata": {},
   "outputs": [
    {
     "data": {
      "text/plain": [
       "['spike_interface_mPFC',\n",
       " 'spike_interface_vHPC',\n",
       " 'spike_interface_BLA',\n",
       " 'spike_interface_LH',\n",
       " 'spike_interface_MD']"
      ]
     },
     "execution_count": 54,
     "metadata": {},
     "output_type": "execute_result"
    }
   ],
   "source": [
    "brain_region_col"
   ]
  },
  {
   "cell_type": "code",
   "execution_count": 55,
   "metadata": {},
   "outputs": [],
   "source": [
    "for col in brain_region_col:\n",
    "    channel_map_and_all_trials_df[col] = channel_map_and_all_trials_df[col].astype(int).astype(str)"
   ]
  },
  {
   "cell_type": "code",
   "execution_count": 56,
   "metadata": {
    "scrolled": true
   },
   "outputs": [
    {
     "data": {
      "text/plain": [
       "Index(['time', 'recording_dir', 'recording_file', 'time_stamp_index',\n",
       "       'video_file', 'video_frame', 'video_number', 'subject_info',\n",
       "       'competition_closeness', 'video_name', 'all_subjects',\n",
       "       'current_subject', 'trial_outcome', 'lfp_index',\n",
       "       'baseline_lfp_timestamp_range', 'trial_lfp_timestamp_range',\n",
       "       'baseline_ephys_timestamp_range', 'trial_ephys_timestamp_range',\n",
       "       'baseline_videoframe_range', 'trial_videoframe_range', 'trial_number',\n",
       "       'Cohort', 'spike_interface_mPFC', 'spike_interface_vHPC',\n",
       "       'spike_interface_BLA', 'spike_interface_LH', 'spike_interface_MD',\n",
       "       'all_ch_lfp'],\n",
       "      dtype='object')"
      ]
     },
     "execution_count": 56,
     "metadata": {},
     "output_type": "execute_result"
    }
   ],
   "source": [
    "channel_map_and_all_trials_df.columns"
   ]
  },
  {
   "cell_type": "markdown",
   "metadata": {},
   "source": [
    "- Extracting the traces for each trial and brain region"
   ]
  },
  {
   "cell_type": "code",
   "execution_count": 57,
   "metadata": {},
   "outputs": [
    {
     "name": "stdout",
     "output_type": "stream",
     "text": [
      "spike_interface_mPFC\n",
      "spike_interface_vHPC\n",
      "spike_interface_BLA\n",
      "spike_interface_LH\n",
      "spike_interface_MD\n"
     ]
    }
   ],
   "source": [
    "for col in brain_region_col:\n",
    "    print(col)\n",
    "    brain_region = col.strip(\"spike_interface\").strip(\"_\")\n",
    "    baseline_trace_column = \"{}_baseline_lfp_trace\".format(brain_region)\n",
    "    trial_trace_column = \"{}_trial_lfp_trace\".format(brain_region)\n",
    "    baselineandtrial_trace_column = \"{}_baseline-trial_lfp_trace\".format(brain_region)\n",
    "    \n",
    "    channel_map_and_all_trials_df[baseline_trace_column] = channel_map_and_all_trials_df.apply(lambda row: row[\"all_ch_lfp\"].get_traces(channel_ids=[row[col]], start_frame=row[\"baseline_lfp_timestamp_range\"][0], end_frame=row[\"baseline_lfp_timestamp_range\"][1]).T[0], axis=1)\n",
    "\n",
    "    channel_map_and_all_trials_df[trial_trace_column] = channel_map_and_all_trials_df.apply(lambda row: row[\"all_ch_lfp\"].get_traces(channel_ids=[row[col]], start_frame=row[\"trial_lfp_timestamp_range\"][0], end_frame=row[\"trial_lfp_timestamp_range\"][1]).T[0], axis=1)\n",
    "\n",
    "    channel_map_and_all_trials_df[baselineandtrial_trace_column] = channel_map_and_all_trials_df.apply(lambda row: np.concatenate([row[baseline_trace_column], row[trial_trace_column]]), axis=1)                                                                                                              \n",
    "                                                                                                                                                           \n",
    "                                                                                                                                                    "
   ]
  },
  {
   "cell_type": "code",
   "execution_count": 58,
   "metadata": {},
   "outputs": [],
   "source": [
    "channel_map_and_all_trials_df = channel_map_and_all_trials_df.drop(columns=[\"all_ch_lfp\"], errors=\"ignore\")"
   ]
  },
  {
   "cell_type": "code",
   "execution_count": 59,
   "metadata": {},
   "outputs": [],
   "source": [
    "channel_map_and_all_trials_df = channel_map_and_all_trials_df.drop(columns=[col for col in channel_map_and_all_trials_df if \"spike_interface\" in col], errors=\"ignore\")"
   ]
  },
  {
   "cell_type": "code",
   "execution_count": 60,
   "metadata": {
    "scrolled": true
   },
   "outputs": [
    {
     "data": {
      "text/html": [
       "<div>\n",
       "<style scoped>\n",
       "    .dataframe tbody tr th:only-of-type {\n",
       "        vertical-align: middle;\n",
       "    }\n",
       "\n",
       "    .dataframe tbody tr th {\n",
       "        vertical-align: top;\n",
       "    }\n",
       "\n",
       "    .dataframe thead th {\n",
       "        text-align: right;\n",
       "    }\n",
       "</style>\n",
       "<table border=\"1\" class=\"dataframe\">\n",
       "  <thead>\n",
       "    <tr style=\"text-align: right;\">\n",
       "      <th></th>\n",
       "      <th>time</th>\n",
       "      <th>recording_dir</th>\n",
       "      <th>recording_file</th>\n",
       "      <th>time_stamp_index</th>\n",
       "      <th>video_file</th>\n",
       "      <th>video_frame</th>\n",
       "      <th>video_number</th>\n",
       "      <th>subject_info</th>\n",
       "      <th>competition_closeness</th>\n",
       "      <th>video_name</th>\n",
       "      <th>...</th>\n",
       "      <th>vHPC_baseline-trial_lfp_trace</th>\n",
       "      <th>BLA_baseline_lfp_trace</th>\n",
       "      <th>BLA_trial_lfp_trace</th>\n",
       "      <th>BLA_baseline-trial_lfp_trace</th>\n",
       "      <th>LH_baseline_lfp_trace</th>\n",
       "      <th>LH_trial_lfp_trace</th>\n",
       "      <th>LH_baseline-trial_lfp_trace</th>\n",
       "      <th>MD_baseline_lfp_trace</th>\n",
       "      <th>MD_trial_lfp_trace</th>\n",
       "      <th>MD_baseline-trial_lfp_trace</th>\n",
       "    </tr>\n",
       "  </thead>\n",
       "  <tbody>\n",
       "    <tr>\n",
       "      <th>0</th>\n",
       "      <td>6310663</td>\n",
       "      <td>20221202_134600_omission_and_competition_subje...</td>\n",
       "      <td>20221202_134600_omission_and_competition_subje...</td>\n",
       "      <td>1390826</td>\n",
       "      <td>20221202_134600_omission_and_competition_subje...</td>\n",
       "      <td>1734</td>\n",
       "      <td>1.0</td>\n",
       "      <td>6_1_top_2_base_3</td>\n",
       "      <td>rewarded</td>\n",
       "      <td>20221202_134600_omission_and_competition_subje...</td>\n",
       "      <td>...</td>\n",
       "      <td>[-0.07045184, -0.0958607, -0.054282565, 0.1512...</td>\n",
       "      <td>[2.0367692, 2.1165679, 2.162167, 2.2685654, 2....</td>\n",
       "      <td>[0.31159526, 0.35909453, 0.18239723, -0.509192...</td>\n",
       "      <td>[2.0367692, 2.1165679, 2.162167, 2.2685654, 2....</td>\n",
       "      <td>[3.0443187, 3.1354659, 3.1810396, 3.1901543, 3...</td>\n",
       "      <td>[0.78082824, 1.1788379, 0.8415931, -0.40104795...</td>\n",
       "      <td>[3.0443187, 3.1354659, 3.1810396, 3.1901543, 3...</td>\n",
       "      <td>[1.3860394, 1.4873364, 1.7566382, 1.8208753, 1...</td>\n",
       "      <td>[-0.9857927, -0.8746131, -0.7362562, -1.413216...</td>\n",
       "      <td>[1.3860394, 1.4873364, 1.7566382, 1.8208753, 1...</td>\n",
       "    </tr>\n",
       "    <tr>\n",
       "      <th>1</th>\n",
       "      <td>7910662</td>\n",
       "      <td>20221202_134600_omission_and_competition_subje...</td>\n",
       "      <td>20221202_134600_omission_and_competition_subje...</td>\n",
       "      <td>2990825</td>\n",
       "      <td>20221202_134600_omission_and_competition_subje...</td>\n",
       "      <td>3728</td>\n",
       "      <td>1.0</td>\n",
       "      <td>6_1_top_2_base_3</td>\n",
       "      <td>rewarded</td>\n",
       "      <td>20221202_134600_omission_and_competition_subje...</td>\n",
       "      <td>...</td>\n",
       "      <td>[0.30606127, 0.22405995, 0.28873706, 0.4100066...</td>\n",
       "      <td>[0.30589536, 0.13679792, -0.064599015, -0.3381...</td>\n",
       "      <td>[0.020899683, -0.05129922, 0.113998264, -0.416...</td>\n",
       "      <td>[0.30589536, 0.13679792, -0.064599015, -0.3381...</td>\n",
       "      <td>[-1.1575702, -1.2699852, -1.3489795, -1.427973...</td>\n",
       "      <td>[0.91754913, 0.4466216, 0.64410734, 0.03342066...</td>\n",
       "      <td>[-1.1575702, -1.2699852, -1.3489795, -1.427973...</td>\n",
       "      <td>[-0.15318082, -0.16800477, 0.019765267, 0.1605...</td>\n",
       "      <td>[1.620752, 1.3415675, 1.4601592, 0.94132084, -...</td>\n",
       "      <td>[-0.15318082, -0.16800477, 0.019765267, 0.1605...</td>\n",
       "    </tr>\n",
       "    <tr>\n",
       "      <th>2</th>\n",
       "      <td>9710660</td>\n",
       "      <td>20221202_134600_omission_and_competition_subje...</td>\n",
       "      <td>20221202_134600_omission_and_competition_subje...</td>\n",
       "      <td>4790823</td>\n",
       "      <td>20221202_134600_omission_and_competition_subje...</td>\n",
       "      <td>5972</td>\n",
       "      <td>1.0</td>\n",
       "      <td>6_1_top_2_base_3</td>\n",
       "      <td>rewarded</td>\n",
       "      <td>20221202_134600_omission_and_competition_subje...</td>\n",
       "      <td>...</td>\n",
       "      <td>[-1.2300198, -1.2323297, -1.3039365, -1.096045...</td>\n",
       "      <td>[-2.0025697, -1.9151709, -1.9436705, -1.552276...</td>\n",
       "      <td>[0.6896895, 1.3983787, 1.7574733, 1.4287783, 1...</td>\n",
       "      <td>[-2.0025697, -1.9151709, -1.9436705, -1.552276...</td>\n",
       "      <td>[-0.20356221, -0.08203254, -0.18837102, -0.142...</td>\n",
       "      <td>[-0.58941895, 0.25521234, 0.66233677, 0.416239...</td>\n",
       "      <td>[-0.20356221, -0.08203254, -0.18837102, -0.142...</td>\n",
       "      <td>[-0.32859758, -0.5361329, -0.97591007, -0.7609...</td>\n",
       "      <td>[0.088943705, 0.8770837, 1.2056813, 0.88696635...</td>\n",
       "      <td>[-0.32859758, -0.5361329, -0.97591007, -0.7609...</td>\n",
       "    </tr>\n",
       "    <tr>\n",
       "      <th>3</th>\n",
       "      <td>11310658</td>\n",
       "      <td>20221202_134600_omission_and_competition_subje...</td>\n",
       "      <td>20221202_134600_omission_and_competition_subje...</td>\n",
       "      <td>6390821</td>\n",
       "      <td>20221202_134600_omission_and_competition_subje...</td>\n",
       "      <td>7966</td>\n",
       "      <td>1.0</td>\n",
       "      <td>6_1_top_2_base_3</td>\n",
       "      <td>omission</td>\n",
       "      <td>20221202_134600_omission_and_competition_subje...</td>\n",
       "      <td>...</td>\n",
       "      <td>[0.1605378, 0.4169363, 0.64561605, 0.6756447, ...</td>\n",
       "      <td>[-1.2729807, -1.0468841, -0.8378873, -0.754288...</td>\n",
       "      <td>[2.6789594, 2.3939636, 2.2096665, 1.97597, 1.8...</td>\n",
       "      <td>[-1.2729807, -1.0468841, -0.8378873, -0.754288...</td>\n",
       "      <td>[-2.4792056, -2.1480372, -1.8259835, -1.677109...</td>\n",
       "      <td>[2.7587237, 2.233108, 1.4796239, 0.93274033, 1...</td>\n",
       "      <td>[-2.4792056, -2.1480372, -1.8259835, -1.677109...</td>\n",
       "      <td>[-2.7720788, -2.5620728, -2.3125362, -2.062999...</td>\n",
       "      <td>[2.0802944, 1.7344022, 1.1192082, 0.4521305, 0...</td>\n",
       "      <td>[-2.7720788, -2.5620728, -2.3125362, -2.062999...</td>\n",
       "    </tr>\n",
       "    <tr>\n",
       "      <th>4</th>\n",
       "      <td>12810657</td>\n",
       "      <td>20221202_134600_omission_and_competition_subje...</td>\n",
       "      <td>20221202_134600_omission_and_competition_subje...</td>\n",
       "      <td>7890820</td>\n",
       "      <td>20221202_134600_omission_and_competition_subje...</td>\n",
       "      <td>9836</td>\n",
       "      <td>1.0</td>\n",
       "      <td>6_1_top_2_base_3</td>\n",
       "      <td>rewarded</td>\n",
       "      <td>20221202_134600_omission_and_competition_subje...</td>\n",
       "      <td>...</td>\n",
       "      <td>[-0.30952612, 0.19056645, 0.4331056, 0.3638087...</td>\n",
       "      <td>[-2.1469674, -2.0690687, -2.0937681, -2.152667...</td>\n",
       "      <td>[-0.18809713, 0.108298354, -0.66878986, -0.944...</td>\n",
       "      <td>[-2.1469674, -2.0690687, -2.0937681, -2.152667...</td>\n",
       "      <td>[-2.1176548, -1.4522797, -1.0360405, -1.108958...</td>\n",
       "      <td>[0.5104247, 1.4613944, 0.5468836, -0.036458906...</td>\n",
       "      <td>[-2.1176548, -1.4522797, -1.0360405, -1.108958...</td>\n",
       "      <td>[-2.018528, -1.7220489, -1.4329818, -1.3736861...</td>\n",
       "      <td>[0.31130296, 1.0006167, 0.25200716, -0.2347125...</td>\n",
       "      <td>[-2.018528, -1.7220489, -1.4329818, -1.3736861...</td>\n",
       "    </tr>\n",
       "  </tbody>\n",
       "</table>\n",
       "<p>5 rows × 37 columns</p>\n",
       "</div>"
      ],
      "text/plain": [
       "       time                                      recording_dir  \\\n",
       "0   6310663  20221202_134600_omission_and_competition_subje...   \n",
       "1   7910662  20221202_134600_omission_and_competition_subje...   \n",
       "2   9710660  20221202_134600_omission_and_competition_subje...   \n",
       "3  11310658  20221202_134600_omission_and_competition_subje...   \n",
       "4  12810657  20221202_134600_omission_and_competition_subje...   \n",
       "\n",
       "                                      recording_file  time_stamp_index  \\\n",
       "0  20221202_134600_omission_and_competition_subje...           1390826   \n",
       "1  20221202_134600_omission_and_competition_subje...           2990825   \n",
       "2  20221202_134600_omission_and_competition_subje...           4790823   \n",
       "3  20221202_134600_omission_and_competition_subje...           6390821   \n",
       "4  20221202_134600_omission_and_competition_subje...           7890820   \n",
       "\n",
       "                                          video_file  video_frame  \\\n",
       "0  20221202_134600_omission_and_competition_subje...         1734   \n",
       "1  20221202_134600_omission_and_competition_subje...         3728   \n",
       "2  20221202_134600_omission_and_competition_subje...         5972   \n",
       "3  20221202_134600_omission_and_competition_subje...         7966   \n",
       "4  20221202_134600_omission_and_competition_subje...         9836   \n",
       "\n",
       "   video_number      subject_info competition_closeness  \\\n",
       "0           1.0  6_1_top_2_base_3              rewarded   \n",
       "1           1.0  6_1_top_2_base_3              rewarded   \n",
       "2           1.0  6_1_top_2_base_3              rewarded   \n",
       "3           1.0  6_1_top_2_base_3              omission   \n",
       "4           1.0  6_1_top_2_base_3              rewarded   \n",
       "\n",
       "                                          video_name  ...  \\\n",
       "0  20221202_134600_omission_and_competition_subje...  ...   \n",
       "1  20221202_134600_omission_and_competition_subje...  ...   \n",
       "2  20221202_134600_omission_and_competition_subje...  ...   \n",
       "3  20221202_134600_omission_and_competition_subje...  ...   \n",
       "4  20221202_134600_omission_and_competition_subje...  ...   \n",
       "\n",
       "                       vHPC_baseline-trial_lfp_trace  \\\n",
       "0  [-0.07045184, -0.0958607, -0.054282565, 0.1512...   \n",
       "1  [0.30606127, 0.22405995, 0.28873706, 0.4100066...   \n",
       "2  [-1.2300198, -1.2323297, -1.3039365, -1.096045...   \n",
       "3  [0.1605378, 0.4169363, 0.64561605, 0.6756447, ...   \n",
       "4  [-0.30952612, 0.19056645, 0.4331056, 0.3638087...   \n",
       "\n",
       "                              BLA_baseline_lfp_trace  \\\n",
       "0  [2.0367692, 2.1165679, 2.162167, 2.2685654, 2....   \n",
       "1  [0.30589536, 0.13679792, -0.064599015, -0.3381...   \n",
       "2  [-2.0025697, -1.9151709, -1.9436705, -1.552276...   \n",
       "3  [-1.2729807, -1.0468841, -0.8378873, -0.754288...   \n",
       "4  [-2.1469674, -2.0690687, -2.0937681, -2.152667...   \n",
       "\n",
       "                                 BLA_trial_lfp_trace  \\\n",
       "0  [0.31159526, 0.35909453, 0.18239723, -0.509192...   \n",
       "1  [0.020899683, -0.05129922, 0.113998264, -0.416...   \n",
       "2  [0.6896895, 1.3983787, 1.7574733, 1.4287783, 1...   \n",
       "3  [2.6789594, 2.3939636, 2.2096665, 1.97597, 1.8...   \n",
       "4  [-0.18809713, 0.108298354, -0.66878986, -0.944...   \n",
       "\n",
       "                        BLA_baseline-trial_lfp_trace  \\\n",
       "0  [2.0367692, 2.1165679, 2.162167, 2.2685654, 2....   \n",
       "1  [0.30589536, 0.13679792, -0.064599015, -0.3381...   \n",
       "2  [-2.0025697, -1.9151709, -1.9436705, -1.552276...   \n",
       "3  [-1.2729807, -1.0468841, -0.8378873, -0.754288...   \n",
       "4  [-2.1469674, -2.0690687, -2.0937681, -2.152667...   \n",
       "\n",
       "                               LH_baseline_lfp_trace  \\\n",
       "0  [3.0443187, 3.1354659, 3.1810396, 3.1901543, 3...   \n",
       "1  [-1.1575702, -1.2699852, -1.3489795, -1.427973...   \n",
       "2  [-0.20356221, -0.08203254, -0.18837102, -0.142...   \n",
       "3  [-2.4792056, -2.1480372, -1.8259835, -1.677109...   \n",
       "4  [-2.1176548, -1.4522797, -1.0360405, -1.108958...   \n",
       "\n",
       "                                  LH_trial_lfp_trace  \\\n",
       "0  [0.78082824, 1.1788379, 0.8415931, -0.40104795...   \n",
       "1  [0.91754913, 0.4466216, 0.64410734, 0.03342066...   \n",
       "2  [-0.58941895, 0.25521234, 0.66233677, 0.416239...   \n",
       "3  [2.7587237, 2.233108, 1.4796239, 0.93274033, 1...   \n",
       "4  [0.5104247, 1.4613944, 0.5468836, -0.036458906...   \n",
       "\n",
       "                         LH_baseline-trial_lfp_trace  \\\n",
       "0  [3.0443187, 3.1354659, 3.1810396, 3.1901543, 3...   \n",
       "1  [-1.1575702, -1.2699852, -1.3489795, -1.427973...   \n",
       "2  [-0.20356221, -0.08203254, -0.18837102, -0.142...   \n",
       "3  [-2.4792056, -2.1480372, -1.8259835, -1.677109...   \n",
       "4  [-2.1176548, -1.4522797, -1.0360405, -1.108958...   \n",
       "\n",
       "                               MD_baseline_lfp_trace  \\\n",
       "0  [1.3860394, 1.4873364, 1.7566382, 1.8208753, 1...   \n",
       "1  [-0.15318082, -0.16800477, 0.019765267, 0.1605...   \n",
       "2  [-0.32859758, -0.5361329, -0.97591007, -0.7609...   \n",
       "3  [-2.7720788, -2.5620728, -2.3125362, -2.062999...   \n",
       "4  [-2.018528, -1.7220489, -1.4329818, -1.3736861...   \n",
       "\n",
       "                                  MD_trial_lfp_trace  \\\n",
       "0  [-0.9857927, -0.8746131, -0.7362562, -1.413216...   \n",
       "1  [1.620752, 1.3415675, 1.4601592, 0.94132084, -...   \n",
       "2  [0.088943705, 0.8770837, 1.2056813, 0.88696635...   \n",
       "3  [2.0802944, 1.7344022, 1.1192082, 0.4521305, 0...   \n",
       "4  [0.31130296, 1.0006167, 0.25200716, -0.2347125...   \n",
       "\n",
       "                         MD_baseline-trial_lfp_trace  \n",
       "0  [1.3860394, 1.4873364, 1.7566382, 1.8208753, 1...  \n",
       "1  [-0.15318082, -0.16800477, 0.019765267, 0.1605...  \n",
       "2  [-0.32859758, -0.5361329, -0.97591007, -0.7609...  \n",
       "3  [-2.7720788, -2.5620728, -2.3125362, -2.062999...  \n",
       "4  [-2.018528, -1.7220489, -1.4329818, -1.3736861...  \n",
       "\n",
       "[5 rows x 37 columns]"
      ]
     },
     "execution_count": 60,
     "metadata": {},
     "output_type": "execute_result"
    }
   ],
   "source": [
    "channel_map_and_all_trials_df.head()"
   ]
  },
  {
   "cell_type": "code",
   "execution_count": 61,
   "metadata": {},
   "outputs": [
    {
     "data": {
      "text/plain": [
       "Index(['time', 'recording_dir', 'recording_file', 'time_stamp_index',\n",
       "       'video_file', 'video_frame', 'video_number', 'subject_info',\n",
       "       'competition_closeness', 'video_name', 'all_subjects',\n",
       "       'current_subject', 'trial_outcome', 'lfp_index',\n",
       "       'baseline_lfp_timestamp_range', 'trial_lfp_timestamp_range',\n",
       "       'baseline_ephys_timestamp_range', 'trial_ephys_timestamp_range',\n",
       "       'baseline_videoframe_range', 'trial_videoframe_range', 'trial_number',\n",
       "       'Cohort', 'mPFC_baseline_lfp_trace', 'mPFC_trial_lfp_trace',\n",
       "       'mPFC_baseline-trial_lfp_trace', 'vHPC_baseline_lfp_trace',\n",
       "       'vHPC_trial_lfp_trace', 'vHPC_baseline-trial_lfp_trace',\n",
       "       'BLA_baseline_lfp_trace', 'BLA_trial_lfp_trace',\n",
       "       'BLA_baseline-trial_lfp_trace', 'LH_baseline_lfp_trace',\n",
       "       'LH_trial_lfp_trace', 'LH_baseline-trial_lfp_trace',\n",
       "       'MD_baseline_lfp_trace', 'MD_trial_lfp_trace',\n",
       "       'MD_baseline-trial_lfp_trace'],\n",
       "      dtype='object')"
      ]
     },
     "execution_count": 61,
     "metadata": {},
     "output_type": "execute_result"
    }
   ],
   "source": [
    "channel_map_and_all_trials_df.columns"
   ]
  },
  {
   "cell_type": "code",
   "execution_count": 62,
   "metadata": {},
   "outputs": [],
   "source": [
    "channel_map_and_all_trials_df.to_pickle(\"./proc/full_baseline_and_trial_lfp_traces.pkl\")"
   ]
  },
  {
   "cell_type": "code",
   "execution_count": null,
   "metadata": {},
   "outputs": [],
   "source": []
  }
 ],
 "metadata": {
  "deepnote": {},
  "deepnote_execution_queue": [],
  "deepnote_notebook_id": "cf8fe3695d074ee7887fdf6459cbf5ce",
  "kernelspec": {
   "display_name": "Python 3 (ipykernel)",
   "language": "python",
   "name": "python3"
  },
  "language_info": {
   "codemirror_mode": {
    "name": "ipython",
    "version": 3
   },
   "file_extension": ".py",
   "mimetype": "text/x-python",
   "name": "python",
   "nbconvert_exporter": "python",
   "pygments_lexer": "ipython3",
   "version": "3.10.13"
  }
 },
 "nbformat": 4,
 "nbformat_minor": 4
}
