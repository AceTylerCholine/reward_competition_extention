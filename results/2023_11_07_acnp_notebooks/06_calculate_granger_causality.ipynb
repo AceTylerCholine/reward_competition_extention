{
 "cells": [
  {
   "cell_type": "markdown",
   "metadata": {
    "cell_id": "c3a02adc9e884466bc8c79db549cc3d2",
    "deepnote_cell_type": "text-cell-h1",
    "formattedRanges": [
     {
      "fromCodePoint": 0,
      "marks": {
       "bold": true,
       "underline": true
      },
      "toCodePoint": 17,
      "type": "marks"
     }
    ]
   },
   "source": [
    "# All oscillation analysis"
   ]
  },
  {
   "cell_type": "markdown",
   "metadata": {
    "cell_id": "4546bee655b14a5dbf393161f1228e60",
    "deepnote_cell_type": "text-cell-p",
    "formattedRanges": []
   },
   "source": [
    "Brief 1-2 sentence description of notebook."
   ]
  },
  {
   "cell_type": "code",
   "execution_count": 1,
   "metadata": {},
   "outputs": [],
   "source": [
    "import warnings\n",
    "warnings.filterwarnings('ignore')"
   ]
  },
  {
   "cell_type": "code",
   "execution_count": 2,
   "metadata": {},
   "outputs": [],
   "source": [
    "import os\n",
    "import collections\n",
    "import itertools\n",
    "from collections import defaultdict"
   ]
  },
  {
   "cell_type": "code",
   "execution_count": 3,
   "metadata": {
    "cell_id": "03b495cefa6a4798a44c7f2e4c6a3ea7",
    "deepnote_cell_type": "code",
    "deepnote_to_be_reexecuted": false,
    "execution_millis": 21,
    "execution_start": 1691424003626,
    "source_hash": null
   },
   "outputs": [],
   "source": [
    "# Imports of all used packages and libraries\n",
    "import numpy as np\n",
    "import pandas as pd\n",
    "from scipy import stats\n",
    "from scipy.stats import mannwhitneyu"
   ]
  },
  {
   "cell_type": "code",
   "execution_count": 4,
   "metadata": {},
   "outputs": [],
   "source": [
    "import matplotlib\n",
    "import matplotlib.colors as mcolors\n",
    "import matplotlib.pyplot as plt\n",
    "import matplotlib.cm as cm\n",
    "import seaborn as sns\n",
    "import colorsys"
   ]
  },
  {
   "cell_type": "code",
   "execution_count": null,
   "metadata": {},
   "outputs": [],
   "source": []
  },
  {
   "cell_type": "code",
   "execution_count": 5,
   "metadata": {},
   "outputs": [],
   "source": [
    "from sklearn.metrics import confusion_matrix"
   ]
  },
  {
   "cell_type": "code",
   "execution_count": null,
   "metadata": {},
   "outputs": [],
   "source": []
  },
  {
   "cell_type": "code",
   "execution_count": 6,
   "metadata": {},
   "outputs": [],
   "source": [
    "from spectral_connectivity import Multitaper, Connectivity\n",
    "import spectral_connectivity"
   ]
  },
  {
   "cell_type": "code",
   "execution_count": 7,
   "metadata": {},
   "outputs": [],
   "source": [
    "FONTSIZE = 20"
   ]
  },
  {
   "cell_type": "code",
   "execution_count": 8,
   "metadata": {},
   "outputs": [],
   "source": [
    "font = {'weight' : 'medium',\n",
    "        'size'   : 20}\n",
    "\n",
    "matplotlib.rc('font', **font)"
   ]
  },
  {
   "cell_type": "markdown",
   "metadata": {
    "cell_id": "d290bac2c17940bfbc0f9296beaf70e5",
    "deepnote_cell_type": "text-cell-h2",
    "formattedRanges": []
   },
   "source": [
    "## Inputs & Data"
   ]
  },
  {
   "cell_type": "markdown",
   "metadata": {
    "cell_id": "e528ce19c608425292151930d380f49f",
    "deepnote_cell_type": "text-cell-p",
    "formattedRanges": []
   },
   "source": [
    "Explanation of each input and where it comes from."
   ]
  },
  {
   "cell_type": "code",
   "execution_count": 9,
   "metadata": {
    "cell_id": "6cf83a5811054461a718a71673d09aab",
    "deepnote_cell_type": "code",
    "deepnote_to_be_reexecuted": false,
    "execution_millis": 373,
    "execution_start": 1691424003628,
    "source_hash": null
   },
   "outputs": [],
   "source": [
    "# Inputs and Required data loading\n",
    "# input varaible names are in all caps snake case\n",
    "# Whenever an input changes or is used for processing \n",
    "# the vairables are all lower in snake case\n",
    "OUTPUT_DIR = r\"./proc\" # where data is saved should always be shown in the inputs"
   ]
  },
  {
   "cell_type": "code",
   "execution_count": 10,
   "metadata": {},
   "outputs": [],
   "source": [
    "CHANNEL_MAP_AND_ALL_TRIALS_DF = pd.read_pickle(\"./proc/full_baseline_and_trial_lfp_traces.pkl\")\n",
    "MERGED_TRIALS_AND_VIDEO = pd.read_pickle(\"./proc/trial_SLEAP_and_metadata.pkl\")"
   ]
  },
  {
   "cell_type": "code",
   "execution_count": 11,
   "metadata": {},
   "outputs": [],
   "source": [
    "OUTCOME_TO_COLOR = {'lose': \"red\",\n",
    " 'omission': \"orange\",\n",
    " 'rewarded': \"green\",\n",
    " 'win': \"blue\"}\n",
    "\n",
    "OUTCOME_TO_COLOR = {'lose': \"#951a1d\",\n",
    " 'omission': \"#af780d\",\n",
    " 'rewarded': \"#0499af\",\n",
    " 'win': \"#3853a3\"}"
   ]
  },
  {
   "cell_type": "code",
   "execution_count": 12,
   "metadata": {},
   "outputs": [],
   "source": [
    "OUTCOME_COMPARISONS = {\"win_lose\": (\"win\", \"lose\"), \"lose_omission\": (\"lose\", \"omission\"), \"win_rewarded\": (\"win\", \"rewarded\")}"
   ]
  },
  {
   "cell_type": "code",
   "execution_count": 13,
   "metadata": {},
   "outputs": [],
   "source": [
    "TRIAL_OR_BASELINE_TO_STYLE = {'baseline': \"--\", \"trial\": \"-\"}"
   ]
  },
  {
   "cell_type": "code",
   "execution_count": 14,
   "metadata": {},
   "outputs": [],
   "source": [
    "TIME_HALFBANDWIDTH_PRODUCT = 2\n",
    "TIME_WINDOW_DURATION = 1\n",
    "TIME_WINDOW_STEP = 0.5\n",
    "RESAMPLE_RATE=1000"
   ]
  },
  {
   "cell_type": "code",
   "execution_count": 15,
   "metadata": {},
   "outputs": [],
   "source": [
    "BIN_TO_VELOCITY = {0: \"0 to 2.5cm/s\", 1: \"2.5 to 5cm/s\", 2: \"5 to 10 cm/s\", 3: \"10cm/s+\"}"
   ]
  },
  {
   "cell_type": "code",
   "execution_count": 16,
   "metadata": {},
   "outputs": [],
   "source": [
    "MIN_VELOCITY = 0\n",
    "MAX_VELOCITY = 2.5"
   ]
  },
  {
   "cell_type": "code",
   "execution_count": 17,
   "metadata": {},
   "outputs": [],
   "source": [
    "ALL_BANDS = [\"theta\", \"beta\", \"gamma\"]\n",
    "BAND_TO_FREQ = {\"theta\": {\"low_freq\": 6, \"high_freq\": 11}, \"beta\": {\"low_freq\": 20, \"high_freq\": 31}, \"gamma\": {\"low_freq\": 30, \"high_freq\": 51}}\n",
    "BAND_TO_FREQ = {\"theta\": (6,11), \"beta\": (20,31), \"gamma\": (30,51)}"
   ]
  },
  {
   "cell_type": "code",
   "execution_count": 18,
   "metadata": {},
   "outputs": [],
   "source": [
    "GROUPINGS = \"trial_outcome\""
   ]
  },
  {
   "cell_type": "code",
   "execution_count": 19,
   "metadata": {},
   "outputs": [],
   "source": [
    "FONTSIZE=20"
   ]
  },
  {
   "cell_type": "code",
   "execution_count": 20,
   "metadata": {},
   "outputs": [
    {
     "data": {
      "text/html": [
       "<div>\n",
       "<style scoped>\n",
       "    .dataframe tbody tr th:only-of-type {\n",
       "        vertical-align: middle;\n",
       "    }\n",
       "\n",
       "    .dataframe tbody tr th {\n",
       "        vertical-align: top;\n",
       "    }\n",
       "\n",
       "    .dataframe thead th {\n",
       "        text-align: right;\n",
       "    }\n",
       "</style>\n",
       "<table border=\"1\" class=\"dataframe\">\n",
       "  <thead>\n",
       "    <tr style=\"text-align: right;\">\n",
       "      <th></th>\n",
       "      <th>time</th>\n",
       "      <th>recording_dir</th>\n",
       "      <th>recording_file</th>\n",
       "      <th>time_stamp_index</th>\n",
       "      <th>video_file</th>\n",
       "      <th>video_frame</th>\n",
       "      <th>video_number</th>\n",
       "      <th>subject_info</th>\n",
       "      <th>competition_closeness</th>\n",
       "      <th>video_name</th>\n",
       "      <th>...</th>\n",
       "      <th>baseline_thorax_velocity</th>\n",
       "      <th>trial_thorax_velocity</th>\n",
       "      <th>trial_chunked_thorax_velocity</th>\n",
       "      <th>baseline_chunked_thorax_velocity</th>\n",
       "      <th>trial_chunked_ephys_timestamp</th>\n",
       "      <th>baseline_chunked_ephys_timestamp</th>\n",
       "      <th>trial_chunked_lfp_index</th>\n",
       "      <th>baseline_chunked_lfp_index</th>\n",
       "      <th>binned_baseline_thorax_velocity</th>\n",
       "      <th>binned_trial_thorax_velocity</th>\n",
       "    </tr>\n",
       "  </thead>\n",
       "  <tbody>\n",
       "    <tr>\n",
       "      <th>0</th>\n",
       "      <td>30950500</td>\n",
       "      <td>20221214_125409_om_and_comp_6_1_and_6_3</td>\n",
       "      <td>20221214_125409_om_and_comp_6_1_top_1_base_2_v...</td>\n",
       "      <td>27998597</td>\n",
       "      <td>20221214_125409_om_and_comp_6_1_and_6_3.1.vide...</td>\n",
       "      <td>28574</td>\n",
       "      <td>1.0</td>\n",
       "      <td>6_1_top_1_base_2_vs_6_3</td>\n",
       "      <td>win_non_comp</td>\n",
       "      <td>20221214_125409_om_and_comp_6_1_and_6_3.1</td>\n",
       "      <td>...</td>\n",
       "      <td>[1.2476140081638165, 1.1366289071218907, 1.068...</td>\n",
       "      <td>[0.18170472850681613, 0.16961378983662276, 0.2...</td>\n",
       "      <td>[0.49872187702582166, 0.5847505450273386, 1.07...</td>\n",
       "      <td>[1.6838472335457935, 1.7550373254126983, 1.372...</td>\n",
       "      <td>[(27998597, 28018597), (28008597, 28028597), (...</td>\n",
       "      <td>[(27798597, 27818597), (27808597, 27828597), (...</td>\n",
       "      <td>[(1399929, 1400929), (1400429, 1401429), (1400...</td>\n",
       "      <td>[(1389929, 1390929), (1390429, 1391429), (1390...</td>\n",
       "      <td>[0, 0, 0, 0, 0, 0, 0, 2, 2, 2, 2, 1, 2, 1, 1, ...</td>\n",
       "      <td>[0, 0, 0, 0, 0, 0, 0, 0, 1, 1, 1, 1, 1, 0, 0, ...</td>\n",
       "    </tr>\n",
       "    <tr>\n",
       "      <th>1</th>\n",
       "      <td>32550496</td>\n",
       "      <td>20221214_125409_om_and_comp_6_1_and_6_3</td>\n",
       "      <td>20221214_125409_om_and_comp_6_1_top_1_base_2_v...</td>\n",
       "      <td>29598593</td>\n",
       "      <td>20221214_125409_om_and_comp_6_1_and_6_3.1.vide...</td>\n",
       "      <td>30569</td>\n",
       "      <td>1.0</td>\n",
       "      <td>6_1_top_1_base_2_vs_6_3</td>\n",
       "      <td>win_non_comp</td>\n",
       "      <td>20221214_125409_om_and_comp_6_1_and_6_3.1</td>\n",
       "      <td>...</td>\n",
       "      <td>[2.7236727895073223, 2.628037603947678, 2.5298...</td>\n",
       "      <td>[0.38577700470932025, 0.16352840888997497, 0.0...</td>\n",
       "      <td>[0.3129891797005337, 0.2588847730730972, 0.210...</td>\n",
       "      <td>[1.458421075097482, 0.5407183310858753, 0.2360...</td>\n",
       "      <td>[(29598593, 29618593), (29608593, 29628593), (...</td>\n",
       "      <td>[(29398593, 29418593), (29408593, 29428593), (...</td>\n",
       "      <td>[(1479929, 1480929), (1480429, 1481429), (1480...</td>\n",
       "      <td>[(1469929, 1470929), (1470429, 1471429), (1470...</td>\n",
       "      <td>[0, 0, 0, 0, 0, 0, 0, 0, 1, 2, 2, 2, 2, 2, 2, ...</td>\n",
       "      <td>[0, 0, 0, 0, 0, 0, 0, 0, 0, 0, 0, 0, 0, 0, 0, ...</td>\n",
       "    </tr>\n",
       "    <tr>\n",
       "      <th>2</th>\n",
       "      <td>34350494</td>\n",
       "      <td>20221214_125409_om_and_comp_6_1_and_6_3</td>\n",
       "      <td>20221214_125409_om_and_comp_6_1_top_1_base_2_v...</td>\n",
       "      <td>31398591</td>\n",
       "      <td>20221214_125409_om_and_comp_6_1_and_6_3.1.vide...</td>\n",
       "      <td>32813</td>\n",
       "      <td>1.0</td>\n",
       "      <td>6_1_top_1_base_2_vs_6_3</td>\n",
       "      <td>win_non_comp</td>\n",
       "      <td>20221214_125409_om_and_comp_6_1_and_6_3.1</td>\n",
       "      <td>...</td>\n",
       "      <td>[5.210405290871598, 5.31421978904958, 5.379251...</td>\n",
       "      <td>[0.16560567036540477, 0.1278165569746918, 0.09...</td>\n",
       "      <td>[0.19868857983610794, 0.508612732615851, 0.481...</td>\n",
       "      <td>[3.439626522203859, 1.5683251160952123, 1.1535...</td>\n",
       "      <td>[(31398591, 31418591), (31408591, 31428591), (...</td>\n",
       "      <td>[(31198591, 31218591), (31208591, 31228591), (...</td>\n",
       "      <td>[(1569929, 1570929), (1570429, 1571429), (1570...</td>\n",
       "      <td>[(1559929, 1560929), (1560429, 1561429), (1560...</td>\n",
       "      <td>[1, 0, 0, 0, 0, 0, 0, 0, 0, 0, 0, 0, 0, 0, 0, ...</td>\n",
       "      <td>[0, 0, 0, 0, 0, 0, 0, 0, 0, 0, 0, 0, 0, 0, 0, ...</td>\n",
       "    </tr>\n",
       "    <tr>\n",
       "      <th>3</th>\n",
       "      <td>35950496</td>\n",
       "      <td>20221214_125409_om_and_comp_6_1_and_6_3</td>\n",
       "      <td>20221214_125409_om_and_comp_6_1_top_1_base_2_v...</td>\n",
       "      <td>32998593</td>\n",
       "      <td>20221214_125409_om_and_comp_6_1_and_6_3.1.vide...</td>\n",
       "      <td>34807</td>\n",
       "      <td>1.0</td>\n",
       "      <td>6_1_top_1_base_2_vs_6_3</td>\n",
       "      <td>win_non_comp</td>\n",
       "      <td>20221214_125409_om_and_comp_6_1_and_6_3.1</td>\n",
       "      <td>...</td>\n",
       "      <td>[1.6555785442563817, 1.6866235492876445, 1.664...</td>\n",
       "      <td>[0.6307901161394641, 0.6655381193431421, 0.701...</td>\n",
       "      <td>[0.4673908122355257, 0.39056964369789443, 0.38...</td>\n",
       "      <td>[0.900289992310536, 0.3533926495729531, 0.2807...</td>\n",
       "      <td>[(32998593, 33018593), (33008593, 33028593), (...</td>\n",
       "      <td>[(32798593, 32818593), (32808593, 32828593), (...</td>\n",
       "      <td>[(1649929, 1650929), (1650429, 1651429), (1650...</td>\n",
       "      <td>[(1639929, 1640929), (1640429, 1641429), (1640...</td>\n",
       "      <td>[0, 0, 0, 0, 0, 0, 0, 0, 0, 0, 0, 0, 0, 0, 0, ...</td>\n",
       "      <td>[0, 0, 0, 0, 0, 0, 0, 0, 0, 0, 0, 0, 0, 0, 0, ...</td>\n",
       "    </tr>\n",
       "    <tr>\n",
       "      <th>4</th>\n",
       "      <td>37450494</td>\n",
       "      <td>20221214_125409_om_and_comp_6_1_and_6_3</td>\n",
       "      <td>20221214_125409_om_and_comp_6_1_top_1_base_2_v...</td>\n",
       "      <td>34498591</td>\n",
       "      <td>20221214_125409_om_and_comp_6_1_and_6_3.1.vide...</td>\n",
       "      <td>36677</td>\n",
       "      <td>1.0</td>\n",
       "      <td>6_1_top_1_base_2_vs_6_3</td>\n",
       "      <td>win_non_comp</td>\n",
       "      <td>20221214_125409_om_and_comp_6_1_and_6_3.1</td>\n",
       "      <td>...</td>\n",
       "      <td>[0.9562352171082348, 0.8615465705681848, 0.756...</td>\n",
       "      <td>[0.15955796441347841, 0.18843088608181321, 0.2...</td>\n",
       "      <td>[0.23449342689004346, 0.17815867178863123, 0.2...</td>\n",
       "      <td>[0.3903027043299651, 0.397100110767035, 0.8705...</td>\n",
       "      <td>[(34498591, 34518591), (34508591, 34528591), (...</td>\n",
       "      <td>[(34298591, 34318591), (34308591, 34328591), (...</td>\n",
       "      <td>[(1724929, 1725929), (1725429, 1726429), (1725...</td>\n",
       "      <td>[(1714929, 1715929), (1715429, 1716429), (1715...</td>\n",
       "      <td>[0, 0, 0, 0, 0, 0, 0, 0, 0, 0, 0, 0, 0, 0, 0, ...</td>\n",
       "      <td>[0, 0, 0, 0, 0, 0, 0, 0, 0, 0, 0, 0, 0, 0, 0, ...</td>\n",
       "    </tr>\n",
       "  </tbody>\n",
       "</table>\n",
       "<p>5 rows × 61 columns</p>\n",
       "</div>"
      ],
      "text/plain": [
       "       time                            recording_dir  \\\n",
       "0  30950500  20221214_125409_om_and_comp_6_1_and_6_3   \n",
       "1  32550496  20221214_125409_om_and_comp_6_1_and_6_3   \n",
       "2  34350494  20221214_125409_om_and_comp_6_1_and_6_3   \n",
       "3  35950496  20221214_125409_om_and_comp_6_1_and_6_3   \n",
       "4  37450494  20221214_125409_om_and_comp_6_1_and_6_3   \n",
       "\n",
       "                                      recording_file  time_stamp_index  \\\n",
       "0  20221214_125409_om_and_comp_6_1_top_1_base_2_v...          27998597   \n",
       "1  20221214_125409_om_and_comp_6_1_top_1_base_2_v...          29598593   \n",
       "2  20221214_125409_om_and_comp_6_1_top_1_base_2_v...          31398591   \n",
       "3  20221214_125409_om_and_comp_6_1_top_1_base_2_v...          32998593   \n",
       "4  20221214_125409_om_and_comp_6_1_top_1_base_2_v...          34498591   \n",
       "\n",
       "                                          video_file  video_frame  \\\n",
       "0  20221214_125409_om_and_comp_6_1_and_6_3.1.vide...        28574   \n",
       "1  20221214_125409_om_and_comp_6_1_and_6_3.1.vide...        30569   \n",
       "2  20221214_125409_om_and_comp_6_1_and_6_3.1.vide...        32813   \n",
       "3  20221214_125409_om_and_comp_6_1_and_6_3.1.vide...        34807   \n",
       "4  20221214_125409_om_and_comp_6_1_and_6_3.1.vide...        36677   \n",
       "\n",
       "   video_number             subject_info competition_closeness  \\\n",
       "0           1.0  6_1_top_1_base_2_vs_6_3          win_non_comp   \n",
       "1           1.0  6_1_top_1_base_2_vs_6_3          win_non_comp   \n",
       "2           1.0  6_1_top_1_base_2_vs_6_3          win_non_comp   \n",
       "3           1.0  6_1_top_1_base_2_vs_6_3          win_non_comp   \n",
       "4           1.0  6_1_top_1_base_2_vs_6_3          win_non_comp   \n",
       "\n",
       "                                  video_name  ...  \\\n",
       "0  20221214_125409_om_and_comp_6_1_and_6_3.1  ...   \n",
       "1  20221214_125409_om_and_comp_6_1_and_6_3.1  ...   \n",
       "2  20221214_125409_om_and_comp_6_1_and_6_3.1  ...   \n",
       "3  20221214_125409_om_and_comp_6_1_and_6_3.1  ...   \n",
       "4  20221214_125409_om_and_comp_6_1_and_6_3.1  ...   \n",
       "\n",
       "                            baseline_thorax_velocity  \\\n",
       "0  [1.2476140081638165, 1.1366289071218907, 1.068...   \n",
       "1  [2.7236727895073223, 2.628037603947678, 2.5298...   \n",
       "2  [5.210405290871598, 5.31421978904958, 5.379251...   \n",
       "3  [1.6555785442563817, 1.6866235492876445, 1.664...   \n",
       "4  [0.9562352171082348, 0.8615465705681848, 0.756...   \n",
       "\n",
       "                               trial_thorax_velocity  \\\n",
       "0  [0.18170472850681613, 0.16961378983662276, 0.2...   \n",
       "1  [0.38577700470932025, 0.16352840888997497, 0.0...   \n",
       "2  [0.16560567036540477, 0.1278165569746918, 0.09...   \n",
       "3  [0.6307901161394641, 0.6655381193431421, 0.701...   \n",
       "4  [0.15955796441347841, 0.18843088608181321, 0.2...   \n",
       "\n",
       "                       trial_chunked_thorax_velocity  \\\n",
       "0  [0.49872187702582166, 0.5847505450273386, 1.07...   \n",
       "1  [0.3129891797005337, 0.2588847730730972, 0.210...   \n",
       "2  [0.19868857983610794, 0.508612732615851, 0.481...   \n",
       "3  [0.4673908122355257, 0.39056964369789443, 0.38...   \n",
       "4  [0.23449342689004346, 0.17815867178863123, 0.2...   \n",
       "\n",
       "                    baseline_chunked_thorax_velocity  \\\n",
       "0  [1.6838472335457935, 1.7550373254126983, 1.372...   \n",
       "1  [1.458421075097482, 0.5407183310858753, 0.2360...   \n",
       "2  [3.439626522203859, 1.5683251160952123, 1.1535...   \n",
       "3  [0.900289992310536, 0.3533926495729531, 0.2807...   \n",
       "4  [0.3903027043299651, 0.397100110767035, 0.8705...   \n",
       "\n",
       "                       trial_chunked_ephys_timestamp  \\\n",
       "0  [(27998597, 28018597), (28008597, 28028597), (...   \n",
       "1  [(29598593, 29618593), (29608593, 29628593), (...   \n",
       "2  [(31398591, 31418591), (31408591, 31428591), (...   \n",
       "3  [(32998593, 33018593), (33008593, 33028593), (...   \n",
       "4  [(34498591, 34518591), (34508591, 34528591), (...   \n",
       "\n",
       "                    baseline_chunked_ephys_timestamp  \\\n",
       "0  [(27798597, 27818597), (27808597, 27828597), (...   \n",
       "1  [(29398593, 29418593), (29408593, 29428593), (...   \n",
       "2  [(31198591, 31218591), (31208591, 31228591), (...   \n",
       "3  [(32798593, 32818593), (32808593, 32828593), (...   \n",
       "4  [(34298591, 34318591), (34308591, 34328591), (...   \n",
       "\n",
       "                             trial_chunked_lfp_index  \\\n",
       "0  [(1399929, 1400929), (1400429, 1401429), (1400...   \n",
       "1  [(1479929, 1480929), (1480429, 1481429), (1480...   \n",
       "2  [(1569929, 1570929), (1570429, 1571429), (1570...   \n",
       "3  [(1649929, 1650929), (1650429, 1651429), (1650...   \n",
       "4  [(1724929, 1725929), (1725429, 1726429), (1725...   \n",
       "\n",
       "                          baseline_chunked_lfp_index  \\\n",
       "0  [(1389929, 1390929), (1390429, 1391429), (1390...   \n",
       "1  [(1469929, 1470929), (1470429, 1471429), (1470...   \n",
       "2  [(1559929, 1560929), (1560429, 1561429), (1560...   \n",
       "3  [(1639929, 1640929), (1640429, 1641429), (1640...   \n",
       "4  [(1714929, 1715929), (1715429, 1716429), (1715...   \n",
       "\n",
       "                     binned_baseline_thorax_velocity  \\\n",
       "0  [0, 0, 0, 0, 0, 0, 0, 2, 2, 2, 2, 1, 2, 1, 1, ...   \n",
       "1  [0, 0, 0, 0, 0, 0, 0, 0, 1, 2, 2, 2, 2, 2, 2, ...   \n",
       "2  [1, 0, 0, 0, 0, 0, 0, 0, 0, 0, 0, 0, 0, 0, 0, ...   \n",
       "3  [0, 0, 0, 0, 0, 0, 0, 0, 0, 0, 0, 0, 0, 0, 0, ...   \n",
       "4  [0, 0, 0, 0, 0, 0, 0, 0, 0, 0, 0, 0, 0, 0, 0, ...   \n",
       "\n",
       "                        binned_trial_thorax_velocity  \n",
       "0  [0, 0, 0, 0, 0, 0, 0, 0, 1, 1, 1, 1, 1, 0, 0, ...  \n",
       "1  [0, 0, 0, 0, 0, 0, 0, 0, 0, 0, 0, 0, 0, 0, 0, ...  \n",
       "2  [0, 0, 0, 0, 0, 0, 0, 0, 0, 0, 0, 0, 0, 0, 0, ...  \n",
       "3  [0, 0, 0, 0, 0, 0, 0, 0, 0, 0, 0, 0, 0, 0, 0, ...  \n",
       "4  [0, 0, 0, 0, 0, 0, 0, 0, 0, 0, 0, 0, 0, 0, 0, ...  \n",
       "\n",
       "[5 rows x 61 columns]"
      ]
     },
     "execution_count": 20,
     "metadata": {},
     "output_type": "execute_result"
    }
   ],
   "source": [
    "MERGED_TRIALS_AND_VIDEO.head()"
   ]
  },
  {
   "cell_type": "code",
   "execution_count": 21,
   "metadata": {},
   "outputs": [
    {
     "data": {
      "text/html": [
       "<div>\n",
       "<style scoped>\n",
       "    .dataframe tbody tr th:only-of-type {\n",
       "        vertical-align: middle;\n",
       "    }\n",
       "\n",
       "    .dataframe tbody tr th {\n",
       "        vertical-align: top;\n",
       "    }\n",
       "\n",
       "    .dataframe thead th {\n",
       "        text-align: right;\n",
       "    }\n",
       "</style>\n",
       "<table border=\"1\" class=\"dataframe\">\n",
       "  <thead>\n",
       "    <tr style=\"text-align: right;\">\n",
       "      <th></th>\n",
       "      <th>time</th>\n",
       "      <th>recording_dir</th>\n",
       "      <th>recording_file</th>\n",
       "      <th>time_stamp_index</th>\n",
       "      <th>video_file</th>\n",
       "      <th>video_frame</th>\n",
       "      <th>video_number</th>\n",
       "      <th>subject_info</th>\n",
       "      <th>competition_closeness</th>\n",
       "      <th>video_name</th>\n",
       "      <th>...</th>\n",
       "      <th>vHPC_baselineandtrial_lfp_trace</th>\n",
       "      <th>BLA_baseline_lfp_trace</th>\n",
       "      <th>BLA_trial_lfp_trace</th>\n",
       "      <th>BLA_baselineandtrial_lfp_trace</th>\n",
       "      <th>LH_baseline_lfp_trace</th>\n",
       "      <th>LH_trial_lfp_trace</th>\n",
       "      <th>LH_baselineandtrial_lfp_trace</th>\n",
       "      <th>MD_baseline_lfp_trace</th>\n",
       "      <th>MD_trial_lfp_trace</th>\n",
       "      <th>MD_baselineandtrial_lfp_trace</th>\n",
       "    </tr>\n",
       "  </thead>\n",
       "  <tbody>\n",
       "    <tr>\n",
       "      <th>0</th>\n",
       "      <td>6310663</td>\n",
       "      <td>20221202_134600_omission_and_competition_subje...</td>\n",
       "      <td>20221202_134600_omission_and_competition_subje...</td>\n",
       "      <td>1390826</td>\n",
       "      <td>20221202_134600_omission_and_competition_subje...</td>\n",
       "      <td>1734</td>\n",
       "      <td>1.0</td>\n",
       "      <td>6_1_top_2_base_3</td>\n",
       "      <td>rewarded</td>\n",
       "      <td>20221202_134600_omission_and_competition_subje...</td>\n",
       "      <td>...</td>\n",
       "      <td>[-0.07045184, -0.0958607, -0.054282565, 0.1512...</td>\n",
       "      <td>[2.0367692, 2.1165679, 2.162167, 2.2685654, 2....</td>\n",
       "      <td>[0.31159526, 0.35909453, 0.18239723, -0.509192...</td>\n",
       "      <td>[2.0367692, 2.1165679, 2.162167, 2.2685654, 2....</td>\n",
       "      <td>[3.0443187, 3.1354659, 3.1810396, 3.1901543, 3...</td>\n",
       "      <td>[0.78082824, 1.1788379, 0.8415931, -0.40104795...</td>\n",
       "      <td>[3.0443187, 3.1354659, 3.1810396, 3.1901543, 3...</td>\n",
       "      <td>[1.3860394, 1.4873364, 1.7566382, 1.8208753, 1...</td>\n",
       "      <td>[-0.9857927, -0.8746131, -0.7362562, -1.413216...</td>\n",
       "      <td>[1.3860394, 1.4873364, 1.7566382, 1.8208753, 1...</td>\n",
       "    </tr>\n",
       "    <tr>\n",
       "      <th>1</th>\n",
       "      <td>7910662</td>\n",
       "      <td>20221202_134600_omission_and_competition_subje...</td>\n",
       "      <td>20221202_134600_omission_and_competition_subje...</td>\n",
       "      <td>2990825</td>\n",
       "      <td>20221202_134600_omission_and_competition_subje...</td>\n",
       "      <td>3728</td>\n",
       "      <td>1.0</td>\n",
       "      <td>6_1_top_2_base_3</td>\n",
       "      <td>rewarded</td>\n",
       "      <td>20221202_134600_omission_and_competition_subje...</td>\n",
       "      <td>...</td>\n",
       "      <td>[0.30606127, 0.22405995, 0.28873706, 0.4100066...</td>\n",
       "      <td>[0.30589536, 0.13679792, -0.064599015, -0.3381...</td>\n",
       "      <td>[0.020899683, -0.05129922, 0.113998264, -0.416...</td>\n",
       "      <td>[0.30589536, 0.13679792, -0.064599015, -0.3381...</td>\n",
       "      <td>[-1.1575702, -1.2699852, -1.3489795, -1.427973...</td>\n",
       "      <td>[0.91754913, 0.4466216, 0.64410734, 0.03342066...</td>\n",
       "      <td>[-1.1575702, -1.2699852, -1.3489795, -1.427973...</td>\n",
       "      <td>[-0.15318082, -0.16800477, 0.019765267, 0.1605...</td>\n",
       "      <td>[1.620752, 1.3415675, 1.4601592, 0.94132084, -...</td>\n",
       "      <td>[-0.15318082, -0.16800477, 0.019765267, 0.1605...</td>\n",
       "    </tr>\n",
       "    <tr>\n",
       "      <th>2</th>\n",
       "      <td>9710660</td>\n",
       "      <td>20221202_134600_omission_and_competition_subje...</td>\n",
       "      <td>20221202_134600_omission_and_competition_subje...</td>\n",
       "      <td>4790823</td>\n",
       "      <td>20221202_134600_omission_and_competition_subje...</td>\n",
       "      <td>5972</td>\n",
       "      <td>1.0</td>\n",
       "      <td>6_1_top_2_base_3</td>\n",
       "      <td>rewarded</td>\n",
       "      <td>20221202_134600_omission_and_competition_subje...</td>\n",
       "      <td>...</td>\n",
       "      <td>[-1.2300198, -1.2323297, -1.3039365, -1.096045...</td>\n",
       "      <td>[-2.0025697, -1.9151709, -1.9436705, -1.552276...</td>\n",
       "      <td>[0.6896895, 1.3983787, 1.7574733, 1.4287783, 1...</td>\n",
       "      <td>[-2.0025697, -1.9151709, -1.9436705, -1.552276...</td>\n",
       "      <td>[-0.20356221, -0.08203254, -0.18837102, -0.142...</td>\n",
       "      <td>[-0.58941895, 0.25521234, 0.66233677, 0.416239...</td>\n",
       "      <td>[-0.20356221, -0.08203254, -0.18837102, -0.142...</td>\n",
       "      <td>[-0.32859758, -0.5361329, -0.97591007, -0.7609...</td>\n",
       "      <td>[0.088943705, 0.8770837, 1.2056813, 0.88696635...</td>\n",
       "      <td>[-0.32859758, -0.5361329, -0.97591007, -0.7609...</td>\n",
       "    </tr>\n",
       "    <tr>\n",
       "      <th>3</th>\n",
       "      <td>11310658</td>\n",
       "      <td>20221202_134600_omission_and_competition_subje...</td>\n",
       "      <td>20221202_134600_omission_and_competition_subje...</td>\n",
       "      <td>6390821</td>\n",
       "      <td>20221202_134600_omission_and_competition_subje...</td>\n",
       "      <td>7966</td>\n",
       "      <td>1.0</td>\n",
       "      <td>6_1_top_2_base_3</td>\n",
       "      <td>omission</td>\n",
       "      <td>20221202_134600_omission_and_competition_subje...</td>\n",
       "      <td>...</td>\n",
       "      <td>[0.1605378, 0.4169363, 0.64561605, 0.6756447, ...</td>\n",
       "      <td>[-1.2729807, -1.0468841, -0.8378873, -0.754288...</td>\n",
       "      <td>[2.6789594, 2.3939636, 2.2096665, 1.97597, 1.8...</td>\n",
       "      <td>[-1.2729807, -1.0468841, -0.8378873, -0.754288...</td>\n",
       "      <td>[-2.4792056, -2.1480372, -1.8259835, -1.677109...</td>\n",
       "      <td>[2.7587237, 2.233108, 1.4796239, 0.93274033, 1...</td>\n",
       "      <td>[-2.4792056, -2.1480372, -1.8259835, -1.677109...</td>\n",
       "      <td>[-2.7720788, -2.5620728, -2.3125362, -2.062999...</td>\n",
       "      <td>[2.0802944, 1.7344022, 1.1192082, 0.4521305, 0...</td>\n",
       "      <td>[-2.7720788, -2.5620728, -2.3125362, -2.062999...</td>\n",
       "    </tr>\n",
       "    <tr>\n",
       "      <th>4</th>\n",
       "      <td>12810657</td>\n",
       "      <td>20221202_134600_omission_and_competition_subje...</td>\n",
       "      <td>20221202_134600_omission_and_competition_subje...</td>\n",
       "      <td>7890820</td>\n",
       "      <td>20221202_134600_omission_and_competition_subje...</td>\n",
       "      <td>9836</td>\n",
       "      <td>1.0</td>\n",
       "      <td>6_1_top_2_base_3</td>\n",
       "      <td>rewarded</td>\n",
       "      <td>20221202_134600_omission_and_competition_subje...</td>\n",
       "      <td>...</td>\n",
       "      <td>[-0.30952612, 0.19056645, 0.4331056, 0.3638087...</td>\n",
       "      <td>[-2.1469674, -2.0690687, -2.0937681, -2.152667...</td>\n",
       "      <td>[-0.18809713, 0.108298354, -0.66878986, -0.944...</td>\n",
       "      <td>[-2.1469674, -2.0690687, -2.0937681, -2.152667...</td>\n",
       "      <td>[-2.1176548, -1.4522797, -1.0360405, -1.108958...</td>\n",
       "      <td>[0.5104247, 1.4613944, 0.5468836, -0.036458906...</td>\n",
       "      <td>[-2.1176548, -1.4522797, -1.0360405, -1.108958...</td>\n",
       "      <td>[-2.018528, -1.7220489, -1.4329818, -1.3736861...</td>\n",
       "      <td>[0.31130296, 1.0006167, 0.25200716, -0.2347125...</td>\n",
       "      <td>[-2.018528, -1.7220489, -1.4329818, -1.3736861...</td>\n",
       "    </tr>\n",
       "  </tbody>\n",
       "</table>\n",
       "<p>5 rows × 42 columns</p>\n",
       "</div>"
      ],
      "text/plain": [
       "       time                                      recording_dir  \\\n",
       "0   6310663  20221202_134600_omission_and_competition_subje...   \n",
       "1   7910662  20221202_134600_omission_and_competition_subje...   \n",
       "2   9710660  20221202_134600_omission_and_competition_subje...   \n",
       "3  11310658  20221202_134600_omission_and_competition_subje...   \n",
       "4  12810657  20221202_134600_omission_and_competition_subje...   \n",
       "\n",
       "                                      recording_file  time_stamp_index  \\\n",
       "0  20221202_134600_omission_and_competition_subje...           1390826   \n",
       "1  20221202_134600_omission_and_competition_subje...           2990825   \n",
       "2  20221202_134600_omission_and_competition_subje...           4790823   \n",
       "3  20221202_134600_omission_and_competition_subje...           6390821   \n",
       "4  20221202_134600_omission_and_competition_subje...           7890820   \n",
       "\n",
       "                                          video_file  video_frame  \\\n",
       "0  20221202_134600_omission_and_competition_subje...         1734   \n",
       "1  20221202_134600_omission_and_competition_subje...         3728   \n",
       "2  20221202_134600_omission_and_competition_subje...         5972   \n",
       "3  20221202_134600_omission_and_competition_subje...         7966   \n",
       "4  20221202_134600_omission_and_competition_subje...         9836   \n",
       "\n",
       "   video_number      subject_info competition_closeness  \\\n",
       "0           1.0  6_1_top_2_base_3              rewarded   \n",
       "1           1.0  6_1_top_2_base_3              rewarded   \n",
       "2           1.0  6_1_top_2_base_3              rewarded   \n",
       "3           1.0  6_1_top_2_base_3              omission   \n",
       "4           1.0  6_1_top_2_base_3              rewarded   \n",
       "\n",
       "                                          video_name  ...  \\\n",
       "0  20221202_134600_omission_and_competition_subje...  ...   \n",
       "1  20221202_134600_omission_and_competition_subje...  ...   \n",
       "2  20221202_134600_omission_and_competition_subje...  ...   \n",
       "3  20221202_134600_omission_and_competition_subje...  ...   \n",
       "4  20221202_134600_omission_and_competition_subje...  ...   \n",
       "\n",
       "                     vHPC_baselineandtrial_lfp_trace  \\\n",
       "0  [-0.07045184, -0.0958607, -0.054282565, 0.1512...   \n",
       "1  [0.30606127, 0.22405995, 0.28873706, 0.4100066...   \n",
       "2  [-1.2300198, -1.2323297, -1.3039365, -1.096045...   \n",
       "3  [0.1605378, 0.4169363, 0.64561605, 0.6756447, ...   \n",
       "4  [-0.30952612, 0.19056645, 0.4331056, 0.3638087...   \n",
       "\n",
       "                              BLA_baseline_lfp_trace  \\\n",
       "0  [2.0367692, 2.1165679, 2.162167, 2.2685654, 2....   \n",
       "1  [0.30589536, 0.13679792, -0.064599015, -0.3381...   \n",
       "2  [-2.0025697, -1.9151709, -1.9436705, -1.552276...   \n",
       "3  [-1.2729807, -1.0468841, -0.8378873, -0.754288...   \n",
       "4  [-2.1469674, -2.0690687, -2.0937681, -2.152667...   \n",
       "\n",
       "                                 BLA_trial_lfp_trace  \\\n",
       "0  [0.31159526, 0.35909453, 0.18239723, -0.509192...   \n",
       "1  [0.020899683, -0.05129922, 0.113998264, -0.416...   \n",
       "2  [0.6896895, 1.3983787, 1.7574733, 1.4287783, 1...   \n",
       "3  [2.6789594, 2.3939636, 2.2096665, 1.97597, 1.8...   \n",
       "4  [-0.18809713, 0.108298354, -0.66878986, -0.944...   \n",
       "\n",
       "                      BLA_baselineandtrial_lfp_trace  \\\n",
       "0  [2.0367692, 2.1165679, 2.162167, 2.2685654, 2....   \n",
       "1  [0.30589536, 0.13679792, -0.064599015, -0.3381...   \n",
       "2  [-2.0025697, -1.9151709, -1.9436705, -1.552276...   \n",
       "3  [-1.2729807, -1.0468841, -0.8378873, -0.754288...   \n",
       "4  [-2.1469674, -2.0690687, -2.0937681, -2.152667...   \n",
       "\n",
       "                               LH_baseline_lfp_trace  \\\n",
       "0  [3.0443187, 3.1354659, 3.1810396, 3.1901543, 3...   \n",
       "1  [-1.1575702, -1.2699852, -1.3489795, -1.427973...   \n",
       "2  [-0.20356221, -0.08203254, -0.18837102, -0.142...   \n",
       "3  [-2.4792056, -2.1480372, -1.8259835, -1.677109...   \n",
       "4  [-2.1176548, -1.4522797, -1.0360405, -1.108958...   \n",
       "\n",
       "                                  LH_trial_lfp_trace  \\\n",
       "0  [0.78082824, 1.1788379, 0.8415931, -0.40104795...   \n",
       "1  [0.91754913, 0.4466216, 0.64410734, 0.03342066...   \n",
       "2  [-0.58941895, 0.25521234, 0.66233677, 0.416239...   \n",
       "3  [2.7587237, 2.233108, 1.4796239, 0.93274033, 1...   \n",
       "4  [0.5104247, 1.4613944, 0.5468836, -0.036458906...   \n",
       "\n",
       "                       LH_baselineandtrial_lfp_trace  \\\n",
       "0  [3.0443187, 3.1354659, 3.1810396, 3.1901543, 3...   \n",
       "1  [-1.1575702, -1.2699852, -1.3489795, -1.427973...   \n",
       "2  [-0.20356221, -0.08203254, -0.18837102, -0.142...   \n",
       "3  [-2.4792056, -2.1480372, -1.8259835, -1.677109...   \n",
       "4  [-2.1176548, -1.4522797, -1.0360405, -1.108958...   \n",
       "\n",
       "                               MD_baseline_lfp_trace  \\\n",
       "0  [1.3860394, 1.4873364, 1.7566382, 1.8208753, 1...   \n",
       "1  [-0.15318082, -0.16800477, 0.019765267, 0.1605...   \n",
       "2  [-0.32859758, -0.5361329, -0.97591007, -0.7609...   \n",
       "3  [-2.7720788, -2.5620728, -2.3125362, -2.062999...   \n",
       "4  [-2.018528, -1.7220489, -1.4329818, -1.3736861...   \n",
       "\n",
       "                                  MD_trial_lfp_trace  \\\n",
       "0  [-0.9857927, -0.8746131, -0.7362562, -1.413216...   \n",
       "1  [1.620752, 1.3415675, 1.4601592, 0.94132084, -...   \n",
       "2  [0.088943705, 0.8770837, 1.2056813, 0.88696635...   \n",
       "3  [2.0802944, 1.7344022, 1.1192082, 0.4521305, 0...   \n",
       "4  [0.31130296, 1.0006167, 0.25200716, -0.2347125...   \n",
       "\n",
       "                       MD_baselineandtrial_lfp_trace  \n",
       "0  [1.3860394, 1.4873364, 1.7566382, 1.8208753, 1...  \n",
       "1  [-0.15318082, -0.16800477, 0.019765267, 0.1605...  \n",
       "2  [-0.32859758, -0.5361329, -0.97591007, -0.7609...  \n",
       "3  [-2.7720788, -2.5620728, -2.3125362, -2.062999...  \n",
       "4  [-2.018528, -1.7220489, -1.4329818, -1.3736861...  \n",
       "\n",
       "[5 rows x 42 columns]"
      ]
     },
     "execution_count": 21,
     "metadata": {},
     "output_type": "execute_result"
    }
   ],
   "source": [
    "CHANNEL_MAP_AND_ALL_TRIALS_DF.head()"
   ]
  },
  {
   "cell_type": "markdown",
   "metadata": {
    "cell_id": "e3ee4891d43a4ac287413afc552ca289",
    "deepnote_cell_type": "text-cell-h2",
    "formattedRanges": []
   },
   "source": [
    "## Outputs"
   ]
  },
  {
   "cell_type": "markdown",
   "metadata": {
    "cell_id": "9ccbf6cc70fd4d379fa29317f733771f",
    "deepnote_cell_type": "text-cell-p",
    "formattedRanges": []
   },
   "source": [
    "Describe each output that the notebook creates. "
   ]
  },
  {
   "cell_type": "markdown",
   "metadata": {
    "cell_id": "fc8e8920a6944918a15fac575cdf6e78",
    "deepnote_cell_type": "text-cell-bullet",
    "formattedRanges": []
   },
   "source": [
    "- Is it a plot or is it data?"
   ]
  },
  {
   "cell_type": "markdown",
   "metadata": {
    "cell_id": "1e639d4776a84aa9ac8ded2e14fa57db",
    "deepnote_cell_type": "text-cell-bullet",
    "formattedRanges": []
   },
   "source": [
    "- How valuable is the output and why is it valuable or useful?"
   ]
  },
  {
   "cell_type": "markdown",
   "metadata": {},
   "source": [
    "## Functions "
   ]
  },
  {
   "cell_type": "code",
   "execution_count": 22,
   "metadata": {},
   "outputs": [],
   "source": [
    "def generate_pairs(lst):\n",
    "    pairs = []\n",
    "    n = len(lst)\n",
    "    for i in range(n):\n",
    "        for j in range(i+1, n):\n",
    "            pairs.append((lst[i], lst[j]))\n",
    "    return pairs"
   ]
  },
  {
   "cell_type": "code",
   "execution_count": 23,
   "metadata": {},
   "outputs": [],
   "source": [
    "def nested_dict():\n",
    "    return defaultdict(dict)"
   ]
  },
  {
   "cell_type": "code",
   "execution_count": 24,
   "metadata": {},
   "outputs": [],
   "source": [
    "def mean_of_counter(counter):\n",
    "    # Extract values from the Counter and calculate the mean\n",
    "    values = list(counter.values())\n",
    "    return sum(values) / len(values) if values else 0  # Prevent division by zero"
   ]
  },
  {
   "cell_type": "code",
   "execution_count": 25,
   "metadata": {},
   "outputs": [],
   "source": [
    "def adjust_lightness(color, amount=0.5):\n",
    "    \"\"\"\n",
    "    Adjusts the lightness of the given color by the provided amount.\n",
    "    :param color: Input color in some format that matplotlib's `to_rgb` can handle.\n",
    "    :param amount: Amount to adjust. > 1 for lighter, < 1 for darker.\n",
    "    :return: Adjusted color.\n",
    "    \"\"\"\n",
    "    import colorsys\n",
    "    c = mcolors.to_rgb(color)\n",
    "    h, l, s = colorsys.rgb_to_hls(*c)\n",
    "    return colorsys.hls_to_rgb(h, max(0, min(1, amount * l)), s)"
   ]
  },
  {
   "cell_type": "code",
   "execution_count": 26,
   "metadata": {},
   "outputs": [],
   "source": [
    "def generate_gradient_colors(base_color, num_colors=10):\n",
    "    \"\"\"\n",
    "    Generate gradient colors based on a base color.\n",
    "    \n",
    "    :param base_color: The base color to create a gradient from.\n",
    "    :param num_colors: The number of gradient colors to generate.\n",
    "    :return: List of colors.\n",
    "    \"\"\"\n",
    "    # Convert base color to HLS (Hue, Lightness, Saturation)\n",
    "    h, l, s = colorsys.rgb_to_hls(*mcolors.to_rgb(base_color))\n",
    "\n",
    "    # Determine the step size for lightness\n",
    "    middle_index = num_colors // 2\n",
    "    lightness_step = l / (middle_index if middle_index > 0 else 1)\n",
    "\n",
    "    colors = []\n",
    "    for i in range(num_colors):\n",
    "        if i < middle_index:\n",
    "            # For the lighter colors (before the middle)\n",
    "            new_lightness = l + (middle_index - i) * lightness_step\n",
    "        elif i == middle_index:\n",
    "            # The middle color remains the base color\n",
    "            new_lightness = l\n",
    "        else:\n",
    "            # For the darker colors (after the middle)\n",
    "            new_lightness = l - (i - middle_index) * lightness_step\n",
    "\n",
    "        # Ensure new lightness is within the valid range [0, 1]\n",
    "        new_lightness = max(0, min(new_lightness, 1))\n",
    "\n",
    "        new_color = colorsys.hls_to_rgb(h, new_lightness, s)\n",
    "        colors.append(new_color)\n",
    "\n",
    "    return colors"
   ]
  },
  {
   "cell_type": "code",
   "execution_count": 27,
   "metadata": {},
   "outputs": [
    {
     "data": {
      "image/png": "[encoded data removed]",
      "text/plain": [
       "<Figure size 640x480 with 1 Axes>"
      ]
     },
     "metadata": {},
     "output_type": "display_data"
    }
   ],
   "source": [
    "# Original color\n",
    "original_color = 'red'  # Can be any color matplotlib understands\n",
    "\n",
    "# Generate lighter versions\n",
    "lighter_colors = [adjust_lightness(original_color, amount=1+(0.1*i)) for i in range(12)]\n",
    "\n",
    "# Plotting to demonstrate the colors\n",
    "for i, color in enumerate(lighter_colors):\n",
    "    plt.plot([i-0.5, i+0.5], [1, 1], color=color, linewidth=6)  \n",
    "\n",
    "plt.ylim(0.9, 1.1)\n",
    "plt.show()"
   ]
  },
  {
   "cell_type": "code",
   "execution_count": 28,
   "metadata": {},
   "outputs": [
    {
     "data": {
      "image/png": "[encoded data removed]",
      "text/plain": [
       "<Figure size 640x480 with 1 Axes>"
      ]
     },
     "metadata": {},
     "output_type": "display_data"
    }
   ],
   "source": [
    "# Base color\n",
    "base_color = '#ff5733'  # Reddish color\n",
    "\n",
    "# Number of colors you want in the gradient\n",
    "num_colors = 10\n",
    "\n",
    "# Generate gradient colors\n",
    "gradient_colors = generate_gradient_colors(base_color, num_colors)\n",
    "\n",
    "# Set the color cycle to use the gradient colors\n",
    "plt.rcParams['axes.prop_cycle'] = plt.cycler(color=gradient_colors)\n",
    "\n",
    "# Test by plotting some data\n",
    "for i in range(num_colors):\n",
    "    plt.plot(np.arange(10), np.random.rand(10) + i)\n",
    "\n",
    "plt.show()"
   ]
  },
  {
   "cell_type": "markdown",
   "metadata": {
    "cell_id": "8999d19b6b7d4d63bc90f0b0bd9ab085",
    "deepnote_cell_type": "text-cell-h2",
    "formattedRanges": []
   },
   "source": [
    "## Processing"
   ]
  },
  {
   "cell_type": "markdown",
   "metadata": {
    "cell_id": "9b36cdf08567463082b005cb0dec684b",
    "deepnote_cell_type": "text-cell-p",
    "formattedRanges": []
   },
   "source": [
    "Describe what is done to the data here and how inputs are manipulated to generate outputs. "
   ]
  },
  {
   "cell_type": "code",
   "execution_count": 29,
   "metadata": {
    "cell_id": "89aaba237c644628b1b37604b75e7cb1",
    "deepnote_cell_type": "code"
   },
   "outputs": [],
   "source": [
    "# As much code and as many cells as required\n",
    "# includes EDA and playing with data\n",
    "# GO HAM!\n",
    "\n",
    "# Ideally functions are defined here first and then data is processed using the functions\n",
    "\n",
    "# function names are short and in snake case all lowercase\n",
    "# a function name should be unique but does not have to describe the function\n",
    "# doc strings describe functions not function names\n",
    "\n",
    "\n"
   ]
  },
  {
   "cell_type": "code",
   "execution_count": 30,
   "metadata": {},
   "outputs": [
    {
     "data": {
      "text/plain": [
       "Index(['time', 'recording_dir', 'recording_file', 'time_stamp_index',\n",
       "       'video_file', 'video_frame', 'video_number', 'subject_info',\n",
       "       'competition_closeness', 'video_name', 'all_subjects',\n",
       "       'current_subject', 'trial_outcome', 'lfp_index',\n",
       "       'baseline_lfp_timestamp_range', 'trial_lfp_timestamp_range',\n",
       "       'baseline_ephys_timestamp_range', 'trial_ephys_timestamp_range',\n",
       "       'baseline_videoframe_range', 'trial_videoframe_range', 'trial_number',\n",
       "       'Cohort', 'spike_interface_mPFC', 'spike_interface_vHPC',\n",
       "       'spike_interface_BLA', 'spike_interface_LH', 'spike_interface_MD',\n",
       "       'mPFC_baseline_lfp_trace', 'mPFC_trial_lfp_trace',\n",
       "       'mPFC_baselineandtrial_lfp_trace', 'vHPC_baseline_lfp_trace',\n",
       "       'vHPC_trial_lfp_trace', 'vHPC_baselineandtrial_lfp_trace',\n",
       "       'BLA_baseline_lfp_trace', 'BLA_trial_lfp_trace',\n",
       "       'BLA_baselineandtrial_lfp_trace', 'LH_baseline_lfp_trace',\n",
       "       'LH_trial_lfp_trace', 'LH_baselineandtrial_lfp_trace',\n",
       "       'MD_baseline_lfp_trace', 'MD_trial_lfp_trace',\n",
       "       'MD_baselineandtrial_lfp_trace'],\n",
       "      dtype='object')"
      ]
     },
     "execution_count": 30,
     "metadata": {},
     "output_type": "execute_result"
    }
   ],
   "source": [
    "CHANNEL_MAP_AND_ALL_TRIALS_DF.columns"
   ]
  },
  {
   "cell_type": "code",
   "execution_count": 31,
   "metadata": {
    "scrolled": true
   },
   "outputs": [
    {
     "data": {
      "text/plain": [
       "Index(['time', 'recording_dir', 'recording_file', 'time_stamp_index',\n",
       "       'video_file', 'video_frame', 'video_number', 'subject_info',\n",
       "       'competition_closeness', 'video_name', 'all_subjects',\n",
       "       'current_subject', 'trial_outcome', 'lfp_index',\n",
       "       'baseline_lfp_timestamp_range', 'trial_lfp_timestamp_range',\n",
       "       'baseline_ephys_timestamp_range', 'trial_ephys_timestamp_range',\n",
       "       'baseline_videoframe_range', 'trial_videoframe_range', 'trial_number',\n",
       "       'Cohort', 'spike_interface_mPFC', 'spike_interface_vHPC',\n",
       "       'spike_interface_BLA', 'spike_interface_LH', 'spike_interface_MD',\n",
       "       'file_path', 'start_frame', 'stop_frame', 'individual_subj', 'all_subj',\n",
       "       'recording_name', 'track_names', 'subject_id', 'corner_path',\n",
       "       'corner_parts', 'bottom_width', 'top_width', 'right_height',\n",
       "       'left_height', 'average_height', 'average_width', 'width_ratio',\n",
       "       'height_ratio', 'rescaled_locations', 'box_bottom_left', 'reward_port',\n",
       "       'box_top_left', 'box_top_right', 'box_bottom_right',\n",
       "       'baseline_thorax_velocity', 'trial_thorax_velocity',\n",
       "       'trial_chunked_thorax_velocity', 'baseline_chunked_thorax_velocity',\n",
       "       'trial_chunked_ephys_timestamp', 'baseline_chunked_ephys_timestamp',\n",
       "       'trial_chunked_lfp_index', 'baseline_chunked_lfp_index',\n",
       "       'binned_baseline_thorax_velocity', 'binned_trial_thorax_velocity'],\n",
       "      dtype='object')"
      ]
     },
     "execution_count": 31,
     "metadata": {},
     "output_type": "execute_result"
    }
   ],
   "source": [
    "MERGED_TRIALS_AND_VIDEO.columns"
   ]
  },
  {
   "cell_type": "markdown",
   "metadata": {},
   "source": [
    "### Merging LFP Trace dataframe and SLEAP pose tracking"
   ]
  },
  {
   "cell_type": "code",
   "execution_count": 32,
   "metadata": {},
   "outputs": [],
   "source": [
    "merge_columns = [\"time\", \"recording_file\", \"current_subject\", \"video_number\"]\n",
    "# Find columns in df2 that are not in merge_columns and also exist in df1, then drop them from df2\n",
    "cols_to_drop = [col for col in CHANNEL_MAP_AND_ALL_TRIALS_DF.columns if col not in merge_columns and col in MERGED_TRIALS_AND_VIDEO.columns]\n",
    "CHANNEL_MAP_AND_ALL_TRIALS_DF = CHANNEL_MAP_AND_ALL_TRIALS_DF.drop(columns=cols_to_drop)"
   ]
  },
  {
   "cell_type": "code",
   "execution_count": 33,
   "metadata": {},
   "outputs": [],
   "source": [
    "MERGED_LFP_AND_SLEAP = pd.merge(left=CHANNEL_MAP_AND_ALL_TRIALS_DF, right=MERGED_TRIALS_AND_VIDEO, on=merge_columns, how=\"right\")"
   ]
  },
  {
   "cell_type": "raw",
   "metadata": {},
   "source": [
    "# Dropping all unnecessary columns\n",
    "MERGED_LFP_AND_SLEAP = MERGED_LFP_AND_SLEAP.drop(columns=[col for col in MERGED_LFP_AND_SLEAP if \"spike_interface\" in col], errors=\"ignore\")\n",
    "MERGED_LFP_AND_SLEAP = MERGED_LFP_AND_SLEAP.drop(columns=[col for col in MERGED_LFP_AND_SLEAP if \"index\" in col], errors=\"ignore\")\n",
    "MERGED_LFP_AND_SLEAP = MERGED_LFP_AND_SLEAP.drop(columns=[col for col in MERGED_LFP_AND_SLEAP if \"stamp\" in col], errors=\"ignore\")\n",
    "MERGED_LFP_AND_SLEAP = MERGED_LFP_AND_SLEAP.drop(columns=[col for col in MERGED_LFP_AND_SLEAP if \"box\" in col], errors=\"ignore\")\n",
    "MERGED_LFP_AND_SLEAP = MERGED_LFP_AND_SLEAP.drop(columns=[col for col in MERGED_LFP_AND_SLEAP if \"height\" in col], errors=\"ignore\")\n",
    "MERGED_LFP_AND_SLEAP = MERGED_LFP_AND_SLEAP.drop(columns=[col for col in MERGED_LFP_AND_SLEAP if \"width\" in col], errors=\"ignore\")\n",
    "MERGED_LFP_AND_SLEAP = MERGED_LFP_AND_SLEAP.drop(columns=[col for col in MERGED_LFP_AND_SLEAP if \"ratio\" in col], errors=\"ignore\")\n",
    "MERGED_LFP_AND_SLEAP = MERGED_LFP_AND_SLEAP.drop(columns=[col for col in MERGED_LFP_AND_SLEAP if \"width\" in col], errors=\"ignore\")\n",
    "MERGED_LFP_AND_SLEAP = MERGED_LFP_AND_SLEAP.drop(columns=['individual_subj',\n",
    " 'all_subj',\n",
    " 'recording_name',\n",
    " 'track_names',\n",
    " 'subject_id',\n",
    " 'corner_path',\n",
    " 'corner_parts',\n",
    " 'rescaled_locations',\n",
    " 'reward_port'], errors=\"ignore\")"
   ]
  },
  {
   "cell_type": "code",
   "execution_count": 34,
   "metadata": {
    "scrolled": true
   },
   "outputs": [
    {
     "data": {
      "text/html": [
       "<div>\n",
       "<style scoped>\n",
       "    .dataframe tbody tr th:only-of-type {\n",
       "        vertical-align: middle;\n",
       "    }\n",
       "\n",
       "    .dataframe tbody tr th {\n",
       "        vertical-align: top;\n",
       "    }\n",
       "\n",
       "    .dataframe thead th {\n",
       "        text-align: right;\n",
       "    }\n",
       "</style>\n",
       "<table border=\"1\" class=\"dataframe\">\n",
       "  <thead>\n",
       "    <tr style=\"text-align: right;\">\n",
       "      <th></th>\n",
       "      <th>time</th>\n",
       "      <th>recording_file</th>\n",
       "      <th>video_number</th>\n",
       "      <th>current_subject</th>\n",
       "      <th>mPFC_baseline_lfp_trace</th>\n",
       "      <th>mPFC_trial_lfp_trace</th>\n",
       "      <th>mPFC_baselineandtrial_lfp_trace</th>\n",
       "      <th>vHPC_baseline_lfp_trace</th>\n",
       "      <th>vHPC_trial_lfp_trace</th>\n",
       "      <th>vHPC_baselineandtrial_lfp_trace</th>\n",
       "      <th>...</th>\n",
       "      <th>baseline_thorax_velocity</th>\n",
       "      <th>trial_thorax_velocity</th>\n",
       "      <th>trial_chunked_thorax_velocity</th>\n",
       "      <th>baseline_chunked_thorax_velocity</th>\n",
       "      <th>trial_chunked_ephys_timestamp</th>\n",
       "      <th>baseline_chunked_ephys_timestamp</th>\n",
       "      <th>trial_chunked_lfp_index</th>\n",
       "      <th>baseline_chunked_lfp_index</th>\n",
       "      <th>binned_baseline_thorax_velocity</th>\n",
       "      <th>binned_trial_thorax_velocity</th>\n",
       "    </tr>\n",
       "  </thead>\n",
       "  <tbody>\n",
       "    <tr>\n",
       "      <th>0</th>\n",
       "      <td>30950500</td>\n",
       "      <td>20221214_125409_om_and_comp_6_1_top_1_base_2_v...</td>\n",
       "      <td>1.0</td>\n",
       "      <td>6.1</td>\n",
       "      <td>[-0.3134648, -0.39993784, -0.8777014, -1.44193...</td>\n",
       "      <td>[0.50154364, 0.29617018, 0.22050627, 0.1145767...</td>\n",
       "      <td>[-0.3134648, -0.39993784, -0.8777014, -1.44193...</td>\n",
       "      <td>[0.2583401, -0.26769176, -0.8311303, -1.046219...</td>\n",
       "      <td>[-1.1479185, -1.1806493, -1.1432426, -1.139735...</td>\n",
       "      <td>[0.2583401, -0.26769176, -0.8311303, -1.046219...</td>\n",
       "      <td>...</td>\n",
       "      <td>[1.2476140081638165, 1.1366289071218907, 1.068...</td>\n",
       "      <td>[0.18170472850681613, 0.16961378983662276, 0.2...</td>\n",
       "      <td>[0.49872187702582166, 0.5847505450273386, 1.07...</td>\n",
       "      <td>[1.6838472335457935, 1.7550373254126983, 1.372...</td>\n",
       "      <td>[(27998597, 28018597), (28008597, 28028597), (...</td>\n",
       "      <td>[(27798597, 27818597), (27808597, 27828597), (...</td>\n",
       "      <td>[(1399929, 1400929), (1400429, 1401429), (1400...</td>\n",
       "      <td>[(1389929, 1390929), (1390429, 1391429), (1390...</td>\n",
       "      <td>[0, 0, 0, 0, 0, 0, 0, 2, 2, 2, 2, 1, 2, 1, 1, ...</td>\n",
       "      <td>[0, 0, 0, 0, 0, 0, 0, 0, 1, 1, 1, 1, 1, 0, 0, ...</td>\n",
       "    </tr>\n",
       "    <tr>\n",
       "      <th>1</th>\n",
       "      <td>32550496</td>\n",
       "      <td>20221214_125409_om_and_comp_6_1_top_1_base_2_v...</td>\n",
       "      <td>1.0</td>\n",
       "      <td>6.1</td>\n",
       "      <td>[1.1176641, 1.0657803, 0.9987637, 0.8128466, 0...</td>\n",
       "      <td>[0.31995025, 0.16429879, 0.010809131, 0.067016...</td>\n",
       "      <td>[1.1176641, 1.0657803, 0.9987637, 0.8128466, 0...</td>\n",
       "      <td>[1.8691666, 2.0795794, 2.2408957, 2.3461022, 2...</td>\n",
       "      <td>[-1.0205019, -0.9152954, -0.9947847, -0.976081...</td>\n",
       "      <td>[1.8691666, 2.0795794, 2.2408957, 2.3461022, 2...</td>\n",
       "      <td>...</td>\n",
       "      <td>[2.7236727895073223, 2.628037603947678, 2.5298...</td>\n",
       "      <td>[0.38577700470932025, 0.16352840888997497, 0.0...</td>\n",
       "      <td>[0.3129891797005337, 0.2588847730730972, 0.210...</td>\n",
       "      <td>[1.458421075097482, 0.5407183310858753, 0.2360...</td>\n",
       "      <td>[(29598593, 29618593), (29608593, 29628593), (...</td>\n",
       "      <td>[(29398593, 29418593), (29408593, 29428593), (...</td>\n",
       "      <td>[(1479929, 1480929), (1480429, 1481429), (1480...</td>\n",
       "      <td>[(1469929, 1470929), (1470429, 1471429), (1470...</td>\n",
       "      <td>[0, 0, 0, 0, 0, 0, 0, 0, 1, 2, 2, 2, 2, 2, 2, ...</td>\n",
       "      <td>[0, 0, 0, 0, 0, 0, 0, 0, 0, 0, 0, 0, 0, 0, 0, ...</td>\n",
       "    </tr>\n",
       "    <tr>\n",
       "      <th>2</th>\n",
       "      <td>34350494</td>\n",
       "      <td>20221214_125409_om_and_comp_6_1_top_1_base_2_v...</td>\n",
       "      <td>1.0</td>\n",
       "      <td>6.1</td>\n",
       "      <td>[-0.22482991, 0.3567013, 0.12538591, -0.136195...</td>\n",
       "      <td>[-0.13835686, 0.42804158, 0.5945022, 0.3134648...</td>\n",
       "      <td>[-0.22482991, 0.3567013, 0.12538591, -0.136195...</td>\n",
       "      <td>[-1.0017985, -0.70955855, -0.7002069, -0.68033...</td>\n",
       "      <td>[0.47109076, 0.34016728, 0.18352668, 0.174175,...</td>\n",
       "      <td>[-1.0017985, -0.70955855, -0.7002069, -0.68033...</td>\n",
       "      <td>...</td>\n",
       "      <td>[5.210405290871598, 5.31421978904958, 5.379251...</td>\n",
       "      <td>[0.16560567036540477, 0.1278165569746918, 0.09...</td>\n",
       "      <td>[0.19868857983610794, 0.508612732615851, 0.481...</td>\n",
       "      <td>[3.439626522203859, 1.5683251160952123, 1.1535...</td>\n",
       "      <td>[(31398591, 31418591), (31408591, 31428591), (...</td>\n",
       "      <td>[(31198591, 31218591), (31208591, 31228591), (...</td>\n",
       "      <td>[(1569929, 1570929), (1570429, 1571429), (1570...</td>\n",
       "      <td>[(1559929, 1560929), (1560429, 1561429), (1560...</td>\n",
       "      <td>[1, 0, 0, 0, 0, 0, 0, 0, 0, 0, 0, 0, 0, 0, 0, ...</td>\n",
       "      <td>[0, 0, 0, 0, 0, 0, 0, 0, 0, 0, 0, 0, 0, 0, 0, ...</td>\n",
       "    </tr>\n",
       "    <tr>\n",
       "      <th>3</th>\n",
       "      <td>35950496</td>\n",
       "      <td>20221214_125409_om_and_comp_6_1_top_1_base_2_v...</td>\n",
       "      <td>1.0</td>\n",
       "      <td>6.1</td>\n",
       "      <td>[0.4864109, 0.18591705, 0.397776, 0.24212453, ...</td>\n",
       "      <td>[-0.32211208, 0.023780087, 0.13835686, -0.1102...</td>\n",
       "      <td>[0.4864109, 0.18591705, 0.397776, 0.24212453, ...</td>\n",
       "      <td>[0.58447987, 0.4675839, 0.21275067, 0.03389983...</td>\n",
       "      <td>[0.15780956, 0.047927346, -0.14728892, -0.3565...</td>\n",
       "      <td>[0.58447987, 0.4675839, 0.21275067, 0.03389983...</td>\n",
       "      <td>...</td>\n",
       "      <td>[1.6555785442563817, 1.6866235492876445, 1.664...</td>\n",
       "      <td>[0.6307901161394641, 0.6655381193431421, 0.701...</td>\n",
       "      <td>[0.4673908122355257, 0.39056964369789443, 0.38...</td>\n",
       "      <td>[0.900289992310536, 0.3533926495729531, 0.2807...</td>\n",
       "      <td>[(32998593, 33018593), (33008593, 33028593), (...</td>\n",
       "      <td>[(32798593, 32818593), (32808593, 32828593), (...</td>\n",
       "      <td>[(1649929, 1650929), (1650429, 1651429), (1650...</td>\n",
       "      <td>[(1639929, 1640929), (1640429, 1641429), (1640...</td>\n",
       "      <td>[0, 0, 0, 0, 0, 0, 0, 0, 0, 0, 0, 0, 0, 0, 0, ...</td>\n",
       "      <td>[0, 0, 0, 0, 0, 0, 0, 0, 0, 0, 0, 0, 0, 0, 0, ...</td>\n",
       "    </tr>\n",
       "    <tr>\n",
       "      <th>4</th>\n",
       "      <td>37450494</td>\n",
       "      <td>20221214_125409_om_and_comp_6_1_top_1_base_2_v...</td>\n",
       "      <td>1.0</td>\n",
       "      <td>6.1</td>\n",
       "      <td>[-3.6210587, -2.9530544, -2.4342163, -2.574735...</td>\n",
       "      <td>[-2.9508927, -2.998453, -2.3282866, -2.0104983...</td>\n",
       "      <td>[-3.6210587, -2.9530544, -2.4342163, -2.574735...</td>\n",
       "      <td>[-1.4191171, -1.3793725, -1.1233703, -0.911788...</td>\n",
       "      <td>[-4.0457697, -4.2304654, -3.9113393, -3.448431...</td>\n",
       "      <td>[-1.4191171, -1.3793725, -1.1233703, -0.911788...</td>\n",
       "      <td>...</td>\n",
       "      <td>[0.9562352171082348, 0.8615465705681848, 0.756...</td>\n",
       "      <td>[0.15955796441347841, 0.18843088608181321, 0.2...</td>\n",
       "      <td>[0.23449342689004346, 0.17815867178863123, 0.2...</td>\n",
       "      <td>[0.3903027043299651, 0.397100110767035, 0.8705...</td>\n",
       "      <td>[(34498591, 34518591), (34508591, 34528591), (...</td>\n",
       "      <td>[(34298591, 34318591), (34308591, 34328591), (...</td>\n",
       "      <td>[(1724929, 1725929), (1725429, 1726429), (1725...</td>\n",
       "      <td>[(1714929, 1715929), (1715429, 1716429), (1715...</td>\n",
       "      <td>[0, 0, 0, 0, 0, 0, 0, 0, 0, 0, 0, 0, 0, 0, 0, ...</td>\n",
       "      <td>[0, 0, 0, 0, 0, 0, 0, 0, 0, 0, 0, 0, 0, 0, 0, ...</td>\n",
       "    </tr>\n",
       "  </tbody>\n",
       "</table>\n",
       "<p>5 rows × 76 columns</p>\n",
       "</div>"
      ],
      "text/plain": [
       "       time                                     recording_file  video_number  \\\n",
       "0  30950500  20221214_125409_om_and_comp_6_1_top_1_base_2_v...           1.0   \n",
       "1  32550496  20221214_125409_om_and_comp_6_1_top_1_base_2_v...           1.0   \n",
       "2  34350494  20221214_125409_om_and_comp_6_1_top_1_base_2_v...           1.0   \n",
       "3  35950496  20221214_125409_om_and_comp_6_1_top_1_base_2_v...           1.0   \n",
       "4  37450494  20221214_125409_om_and_comp_6_1_top_1_base_2_v...           1.0   \n",
       "\n",
       "  current_subject                            mPFC_baseline_lfp_trace  \\\n",
       "0             6.1  [-0.3134648, -0.39993784, -0.8777014, -1.44193...   \n",
       "1             6.1  [1.1176641, 1.0657803, 0.9987637, 0.8128466, 0...   \n",
       "2             6.1  [-0.22482991, 0.3567013, 0.12538591, -0.136195...   \n",
       "3             6.1  [0.4864109, 0.18591705, 0.397776, 0.24212453, ...   \n",
       "4             6.1  [-3.6210587, -2.9530544, -2.4342163, -2.574735...   \n",
       "\n",
       "                                mPFC_trial_lfp_trace  \\\n",
       "0  [0.50154364, 0.29617018, 0.22050627, 0.1145767...   \n",
       "1  [0.31995025, 0.16429879, 0.010809131, 0.067016...   \n",
       "2  [-0.13835686, 0.42804158, 0.5945022, 0.3134648...   \n",
       "3  [-0.32211208, 0.023780087, 0.13835686, -0.1102...   \n",
       "4  [-2.9508927, -2.998453, -2.3282866, -2.0104983...   \n",
       "\n",
       "                     mPFC_baselineandtrial_lfp_trace  \\\n",
       "0  [-0.3134648, -0.39993784, -0.8777014, -1.44193...   \n",
       "1  [1.1176641, 1.0657803, 0.9987637, 0.8128466, 0...   \n",
       "2  [-0.22482991, 0.3567013, 0.12538591, -0.136195...   \n",
       "3  [0.4864109, 0.18591705, 0.397776, 0.24212453, ...   \n",
       "4  [-3.6210587, -2.9530544, -2.4342163, -2.574735...   \n",
       "\n",
       "                             vHPC_baseline_lfp_trace  \\\n",
       "0  [0.2583401, -0.26769176, -0.8311303, -1.046219...   \n",
       "1  [1.8691666, 2.0795794, 2.2408957, 2.3461022, 2...   \n",
       "2  [-1.0017985, -0.70955855, -0.7002069, -0.68033...   \n",
       "3  [0.58447987, 0.4675839, 0.21275067, 0.03389983...   \n",
       "4  [-1.4191171, -1.3793725, -1.1233703, -0.911788...   \n",
       "\n",
       "                                vHPC_trial_lfp_trace  \\\n",
       "0  [-1.1479185, -1.1806493, -1.1432426, -1.139735...   \n",
       "1  [-1.0205019, -0.9152954, -0.9947847, -0.976081...   \n",
       "2  [0.47109076, 0.34016728, 0.18352668, 0.174175,...   \n",
       "3  [0.15780956, 0.047927346, -0.14728892, -0.3565...   \n",
       "4  [-4.0457697, -4.2304654, -3.9113393, -3.448431...   \n",
       "\n",
       "                     vHPC_baselineandtrial_lfp_trace  ...  \\\n",
       "0  [0.2583401, -0.26769176, -0.8311303, -1.046219...  ...   \n",
       "1  [1.8691666, 2.0795794, 2.2408957, 2.3461022, 2...  ...   \n",
       "2  [-1.0017985, -0.70955855, -0.7002069, -0.68033...  ...   \n",
       "3  [0.58447987, 0.4675839, 0.21275067, 0.03389983...  ...   \n",
       "4  [-1.4191171, -1.3793725, -1.1233703, -0.911788...  ...   \n",
       "\n",
       "                            baseline_thorax_velocity  \\\n",
       "0  [1.2476140081638165, 1.1366289071218907, 1.068...   \n",
       "1  [2.7236727895073223, 2.628037603947678, 2.5298...   \n",
       "2  [5.210405290871598, 5.31421978904958, 5.379251...   \n",
       "3  [1.6555785442563817, 1.6866235492876445, 1.664...   \n",
       "4  [0.9562352171082348, 0.8615465705681848, 0.756...   \n",
       "\n",
       "                               trial_thorax_velocity  \\\n",
       "0  [0.18170472850681613, 0.16961378983662276, 0.2...   \n",
       "1  [0.38577700470932025, 0.16352840888997497, 0.0...   \n",
       "2  [0.16560567036540477, 0.1278165569746918, 0.09...   \n",
       "3  [0.6307901161394641, 0.6655381193431421, 0.701...   \n",
       "4  [0.15955796441347841, 0.18843088608181321, 0.2...   \n",
       "\n",
       "                       trial_chunked_thorax_velocity  \\\n",
       "0  [0.49872187702582166, 0.5847505450273386, 1.07...   \n",
       "1  [0.3129891797005337, 0.2588847730730972, 0.210...   \n",
       "2  [0.19868857983610794, 0.508612732615851, 0.481...   \n",
       "3  [0.4673908122355257, 0.39056964369789443, 0.38...   \n",
       "4  [0.23449342689004346, 0.17815867178863123, 0.2...   \n",
       "\n",
       "                    baseline_chunked_thorax_velocity  \\\n",
       "0  [1.6838472335457935, 1.7550373254126983, 1.372...   \n",
       "1  [1.458421075097482, 0.5407183310858753, 0.2360...   \n",
       "2  [3.439626522203859, 1.5683251160952123, 1.1535...   \n",
       "3  [0.900289992310536, 0.3533926495729531, 0.2807...   \n",
       "4  [0.3903027043299651, 0.397100110767035, 0.8705...   \n",
       "\n",
       "                       trial_chunked_ephys_timestamp  \\\n",
       "0  [(27998597, 28018597), (28008597, 28028597), (...   \n",
       "1  [(29598593, 29618593), (29608593, 29628593), (...   \n",
       "2  [(31398591, 31418591), (31408591, 31428591), (...   \n",
       "3  [(32998593, 33018593), (33008593, 33028593), (...   \n",
       "4  [(34498591, 34518591), (34508591, 34528591), (...   \n",
       "\n",
       "                    baseline_chunked_ephys_timestamp  \\\n",
       "0  [(27798597, 27818597), (27808597, 27828597), (...   \n",
       "1  [(29398593, 29418593), (29408593, 29428593), (...   \n",
       "2  [(31198591, 31218591), (31208591, 31228591), (...   \n",
       "3  [(32798593, 32818593), (32808593, 32828593), (...   \n",
       "4  [(34298591, 34318591), (34308591, 34328591), (...   \n",
       "\n",
       "                             trial_chunked_lfp_index  \\\n",
       "0  [(1399929, 1400929), (1400429, 1401429), (1400...   \n",
       "1  [(1479929, 1480929), (1480429, 1481429), (1480...   \n",
       "2  [(1569929, 1570929), (1570429, 1571429), (1570...   \n",
       "3  [(1649929, 1650929), (1650429, 1651429), (1650...   \n",
       "4  [(1724929, 1725929), (1725429, 1726429), (1725...   \n",
       "\n",
       "                          baseline_chunked_lfp_index  \\\n",
       "0  [(1389929, 1390929), (1390429, 1391429), (1390...   \n",
       "1  [(1469929, 1470929), (1470429, 1471429), (1470...   \n",
       "2  [(1559929, 1560929), (1560429, 1561429), (1560...   \n",
       "3  [(1639929, 1640929), (1640429, 1641429), (1640...   \n",
       "4  [(1714929, 1715929), (1715429, 1716429), (1715...   \n",
       "\n",
       "                     binned_baseline_thorax_velocity  \\\n",
       "0  [0, 0, 0, 0, 0, 0, 0, 2, 2, 2, 2, 1, 2, 1, 1, ...   \n",
       "1  [0, 0, 0, 0, 0, 0, 0, 0, 1, 2, 2, 2, 2, 2, 2, ...   \n",
       "2  [1, 0, 0, 0, 0, 0, 0, 0, 0, 0, 0, 0, 0, 0, 0, ...   \n",
       "3  [0, 0, 0, 0, 0, 0, 0, 0, 0, 0, 0, 0, 0, 0, 0, ...   \n",
       "4  [0, 0, 0, 0, 0, 0, 0, 0, 0, 0, 0, 0, 0, 0, 0, ...   \n",
       "\n",
       "                        binned_trial_thorax_velocity  \n",
       "0  [0, 0, 0, 0, 0, 0, 0, 0, 1, 1, 1, 1, 1, 0, 0, ...  \n",
       "1  [0, 0, 0, 0, 0, 0, 0, 0, 0, 0, 0, 0, 0, 0, 0, ...  \n",
       "2  [0, 0, 0, 0, 0, 0, 0, 0, 0, 0, 0, 0, 0, 0, 0, ...  \n",
       "3  [0, 0, 0, 0, 0, 0, 0, 0, 0, 0, 0, 0, 0, 0, 0, ...  \n",
       "4  [0, 0, 0, 0, 0, 0, 0, 0, 0, 0, 0, 0, 0, 0, 0, ...  \n",
       "\n",
       "[5 rows x 76 columns]"
      ]
     },
     "execution_count": 34,
     "metadata": {},
     "output_type": "execute_result"
    }
   ],
   "source": [
    "MERGED_LFP_AND_SLEAP.head()"
   ]
  },
  {
   "cell_type": "code",
   "execution_count": null,
   "metadata": {},
   "outputs": [],
   "source": []
  },
  {
   "cell_type": "code",
   "execution_count": 35,
   "metadata": {},
   "outputs": [],
   "source": [
    "trace_columns = [col for col in MERGED_LFP_AND_SLEAP.columns if \"trace\" in col]"
   ]
  },
  {
   "cell_type": "code",
   "execution_count": 36,
   "metadata": {},
   "outputs": [],
   "source": [
    "trial_trace_columns = sorted([col for col in MERGED_LFP_AND_SLEAP.columns if \"trial_lfp_trace\" in col and \"baselineandtrial\" not in col])\n",
    "baseline_trace_columns = sorted([col for col in MERGED_LFP_AND_SLEAP.columns if \"baseline_lfp_trace\" in col and \"baselineandtrial\" not in col])"
   ]
  },
  {
   "cell_type": "code",
   "execution_count": 37,
   "metadata": {},
   "outputs": [
    {
     "data": {
      "text/plain": [
       "['BLA_trial_lfp_trace',\n",
       " 'LH_trial_lfp_trace',\n",
       " 'MD_trial_lfp_trace',\n",
       " 'mPFC_trial_lfp_trace',\n",
       " 'vHPC_trial_lfp_trace']"
      ]
     },
     "execution_count": 37,
     "metadata": {},
     "output_type": "execute_result"
    }
   ],
   "source": [
    "trial_trace_columns"
   ]
  },
  {
   "cell_type": "markdown",
   "metadata": {},
   "source": [
    "- Getting the trace column pairs"
   ]
  },
  {
   "cell_type": "code",
   "execution_count": 38,
   "metadata": {},
   "outputs": [],
   "source": [
    "trial_brain_region_pairs = generate_pairs(trial_trace_columns)\n",
    "trial_brain_region_pairs = sorted(trial_brain_region_pairs)\n",
    "baseline_brain_region_pairs = generate_pairs(baseline_trace_columns)\n",
    "baseline_brain_region_pairs = sorted(baseline_brain_region_pairs)"
   ]
  },
  {
   "cell_type": "code",
   "execution_count": 39,
   "metadata": {},
   "outputs": [
    {
     "data": {
      "text/plain": [
       "[('BLA_trial_lfp_trace', 'LH_trial_lfp_trace'),\n",
       " ('BLA_trial_lfp_trace', 'MD_trial_lfp_trace'),\n",
       " ('BLA_trial_lfp_trace', 'mPFC_trial_lfp_trace'),\n",
       " ('BLA_trial_lfp_trace', 'vHPC_trial_lfp_trace'),\n",
       " ('LH_trial_lfp_trace', 'MD_trial_lfp_trace'),\n",
       " ('LH_trial_lfp_trace', 'mPFC_trial_lfp_trace'),\n",
       " ('LH_trial_lfp_trace', 'vHPC_trial_lfp_trace'),\n",
       " ('MD_trial_lfp_trace', 'mPFC_trial_lfp_trace'),\n",
       " ('MD_trial_lfp_trace', 'vHPC_trial_lfp_trace'),\n",
       " ('mPFC_trial_lfp_trace', 'vHPC_trial_lfp_trace')]"
      ]
     },
     "execution_count": 39,
     "metadata": {},
     "output_type": "execute_result"
    }
   ],
   "source": [
    "trial_brain_region_pairs"
   ]
  },
  {
   "cell_type": "code",
   "execution_count": 40,
   "metadata": {},
   "outputs": [
    {
     "data": {
      "text/plain": [
       "[('BLA_baseline_lfp_trace', 'LH_baseline_lfp_trace'),\n",
       " ('BLA_baseline_lfp_trace', 'MD_baseline_lfp_trace'),\n",
       " ('BLA_baseline_lfp_trace', 'mPFC_baseline_lfp_trace'),\n",
       " ('BLA_baseline_lfp_trace', 'vHPC_baseline_lfp_trace'),\n",
       " ('LH_baseline_lfp_trace', 'MD_baseline_lfp_trace'),\n",
       " ('LH_baseline_lfp_trace', 'mPFC_baseline_lfp_trace'),\n",
       " ('LH_baseline_lfp_trace', 'vHPC_baseline_lfp_trace'),\n",
       " ('MD_baseline_lfp_trace', 'mPFC_baseline_lfp_trace'),\n",
       " ('MD_baseline_lfp_trace', 'vHPC_baseline_lfp_trace'),\n",
       " ('mPFC_baseline_lfp_trace', 'vHPC_baseline_lfp_trace')]"
      ]
     },
     "execution_count": 40,
     "metadata": {},
     "output_type": "execute_result"
    }
   ],
   "source": [
    "baseline_brain_region_pairs"
   ]
  },
  {
   "cell_type": "markdown",
   "metadata": {},
   "source": [
    "- Getting just the region names"
   ]
  },
  {
   "cell_type": "code",
   "execution_count": 41,
   "metadata": {},
   "outputs": [],
   "source": [
    "all_pair_base_name = []\n",
    "for region_1, region_2 in trial_brain_region_pairs:\n",
    "    all_pair_base_name.append(\"{}_{}\".format(region_1.split(\"_\")[0], region_2.split(\"_\")[0]))\n",
    "all_pair_base_name = sorted(all_pair_base_name)"
   ]
  },
  {
   "cell_type": "code",
   "execution_count": 42,
   "metadata": {
    "scrolled": true
   },
   "outputs": [
    {
     "data": {
      "text/plain": [
       "['BLA_LH',\n",
       " 'BLA_MD',\n",
       " 'BLA_mPFC',\n",
       " 'BLA_vHPC',\n",
       " 'LH_MD',\n",
       " 'LH_mPFC',\n",
       " 'LH_vHPC',\n",
       " 'MD_mPFC',\n",
       " 'MD_vHPC',\n",
       " 'mPFC_vHPC']"
      ]
     },
     "execution_count": 42,
     "metadata": {},
     "output_type": "execute_result"
    }
   ],
   "source": [
    "all_pair_base_name"
   ]
  },
  {
   "cell_type": "code",
   "execution_count": null,
   "metadata": {},
   "outputs": [],
   "source": []
  },
  {
   "cell_type": "markdown",
   "metadata": {},
   "source": [
    "# Granger's Causality"
   ]
  },
  {
   "cell_type": "code",
   "execution_count": 43,
   "metadata": {},
   "outputs": [],
   "source": [
    "from spectral_connectivity import Multitaper, Connectivity\n",
    "import spectral_connectivity"
   ]
  },
  {
   "cell_type": "markdown",
   "metadata": {},
   "source": [
    "- Calculating the granger"
   ]
  },
  {
   "cell_type": "code",
   "execution_count": 44,
   "metadata": {},
   "outputs": [
    {
     "data": {
      "text/plain": [
       "[('BLA_trial_lfp_trace', 'LH_trial_lfp_trace'),\n",
       " ('BLA_trial_lfp_trace', 'MD_trial_lfp_trace'),\n",
       " ('BLA_trial_lfp_trace', 'mPFC_trial_lfp_trace'),\n",
       " ('BLA_trial_lfp_trace', 'vHPC_trial_lfp_trace'),\n",
       " ('LH_trial_lfp_trace', 'MD_trial_lfp_trace'),\n",
       " ('LH_trial_lfp_trace', 'mPFC_trial_lfp_trace'),\n",
       " ('LH_trial_lfp_trace', 'vHPC_trial_lfp_trace'),\n",
       " ('MD_trial_lfp_trace', 'mPFC_trial_lfp_trace'),\n",
       " ('MD_trial_lfp_trace', 'vHPC_trial_lfp_trace'),\n",
       " ('mPFC_trial_lfp_trace', 'vHPC_trial_lfp_trace')]"
      ]
     },
     "execution_count": 44,
     "metadata": {},
     "output_type": "execute_result"
    }
   ],
   "source": [
    "trial_brain_region_pairs"
   ]
  },
  {
   "cell_type": "code",
   "execution_count": 45,
   "metadata": {},
   "outputs": [
    {
     "name": "stdout",
     "output_type": "stream",
     "text": [
      "BLA_LH\n",
      "\tcalculating connectivity\n",
      "\tBLA_LH_granger\n"
     ]
    },
    {
     "name": "stderr",
     "output_type": "stream",
     "text": [
      "Maximum iterations reached. 18 of 19 converged\n",
      "Maximum iterations reached. 18 of 19 converged\n",
      "Maximum iterations reached. 18 of 19 converged\n",
      "Maximum iterations reached. 18 of 19 converged\n",
      "Computing the initial conditions using the Cholesky failed. Using a random initial condition.\n",
      "Maximum iterations reached. 18 of 19 converged\n",
      "Maximum iterations reached. 18 of 19 converged\n",
      "Computing the initial conditions using the Cholesky failed. Using a random initial condition.\n",
      "Maximum iterations reached. 18 of 19 converged\n",
      "Computing the initial conditions using the Cholesky failed. Using a random initial condition.\n",
      "Computing the initial conditions using the Cholesky failed. Using a random initial condition.\n",
      "Maximum iterations reached. 18 of 19 converged\n",
      "Maximum iterations reached. 18 of 19 converged\n",
      "Maximum iterations reached. 18 of 19 converged\n"
     ]
    },
    {
     "name": "stdout",
     "output_type": "stream",
     "text": [
      "\tLH_BLA_granger\n"
     ]
    },
    {
     "name": "stderr",
     "output_type": "stream",
     "text": [
      "Maximum iterations reached. 18 of 19 converged\n",
      "Maximum iterations reached. 18 of 19 converged\n",
      "Maximum iterations reached. 18 of 19 converged\n",
      "Maximum iterations reached. 18 of 19 converged\n",
      "Computing the initial conditions using the Cholesky failed. Using a random initial condition.\n",
      "Maximum iterations reached. 18 of 19 converged\n",
      "Maximum iterations reached. 18 of 19 converged\n",
      "Computing the initial conditions using the Cholesky failed. Using a random initial condition.\n",
      "Maximum iterations reached. 18 of 19 converged\n",
      "Computing the initial conditions using the Cholesky failed. Using a random initial condition.\n",
      "Computing the initial conditions using the Cholesky failed. Using a random initial condition.\n",
      "Maximum iterations reached. 18 of 19 converged\n",
      "Maximum iterations reached. 18 of 19 converged\n",
      "Maximum iterations reached. 18 of 19 converged\n"
     ]
    },
    {
     "name": "stdout",
     "output_type": "stream",
     "text": [
      "BLA_MD\n",
      "\tcalculating connectivity\n",
      "\tBLA_MD_granger\n"
     ]
    },
    {
     "name": "stderr",
     "output_type": "stream",
     "text": [
      "Maximum iterations reached. 18 of 19 converged\n",
      "Maximum iterations reached. 17 of 19 converged\n",
      "Maximum iterations reached. 18 of 19 converged\n",
      "Computing the initial conditions using the Cholesky failed. Using a random initial condition.\n",
      "Computing the initial conditions using the Cholesky failed. Using a random initial condition.\n",
      "Computing the initial conditions using the Cholesky failed. Using a random initial condition.\n",
      "Computing the initial conditions using the Cholesky failed. Using a random initial condition.\n",
      "Maximum iterations reached. 17 of 19 converged\n",
      "Maximum iterations reached. 18 of 19 converged\n",
      "Maximum iterations reached. 18 of 19 converged\n",
      "Maximum iterations reached. 18 of 19 converged\n",
      "Maximum iterations reached. 18 of 19 converged\n",
      "Maximum iterations reached. 18 of 19 converged\n",
      "Maximum iterations reached. 18 of 19 converged\n"
     ]
    },
    {
     "name": "stdout",
     "output_type": "stream",
     "text": [
      "\tMD_BLA_granger\n"
     ]
    },
    {
     "name": "stderr",
     "output_type": "stream",
     "text": [
      "Maximum iterations reached. 18 of 19 converged\n",
      "Maximum iterations reached. 17 of 19 converged\n",
      "Maximum iterations reached. 18 of 19 converged\n",
      "Computing the initial conditions using the Cholesky failed. Using a random initial condition.\n",
      "Computing the initial conditions using the Cholesky failed. Using a random initial condition.\n",
      "Computing the initial conditions using the Cholesky failed. Using a random initial condition.\n",
      "Computing the initial conditions using the Cholesky failed. Using a random initial condition.\n",
      "Maximum iterations reached. 17 of 19 converged\n",
      "Maximum iterations reached. 18 of 19 converged\n",
      "Maximum iterations reached. 18 of 19 converged\n",
      "Maximum iterations reached. 18 of 19 converged\n",
      "Maximum iterations reached. 18 of 19 converged\n",
      "Maximum iterations reached. 18 of 19 converged\n",
      "Maximum iterations reached. 18 of 19 converged\n"
     ]
    },
    {
     "name": "stdout",
     "output_type": "stream",
     "text": [
      "BLA_mPFC\n",
      "\tcalculating connectivity\n",
      "\tBLA_mPFC_granger\n"
     ]
    },
    {
     "name": "stderr",
     "output_type": "stream",
     "text": [
      "Maximum iterations reached. 18 of 19 converged\n",
      "Maximum iterations reached. 18 of 19 converged\n",
      "Computing the initial conditions using the Cholesky failed. Using a random initial condition.\n",
      "Computing the initial conditions using the Cholesky failed. Using a random initial condition.\n",
      "Computing the initial conditions using the Cholesky failed. Using a random initial condition.\n",
      "Computing the initial conditions using the Cholesky failed. Using a random initial condition.\n",
      "Maximum iterations reached. 18 of 19 converged\n",
      "Maximum iterations reached. 18 of 19 converged\n",
      "Maximum iterations reached. 18 of 19 converged\n"
     ]
    },
    {
     "name": "stdout",
     "output_type": "stream",
     "text": [
      "\tmPFC_BLA_granger\n"
     ]
    },
    {
     "name": "stderr",
     "output_type": "stream",
     "text": [
      "Maximum iterations reached. 18 of 19 converged\n",
      "Maximum iterations reached. 18 of 19 converged\n",
      "Computing the initial conditions using the Cholesky failed. Using a random initial condition.\n",
      "Computing the initial conditions using the Cholesky failed. Using a random initial condition.\n",
      "Computing the initial conditions using the Cholesky failed. Using a random initial condition.\n",
      "Computing the initial conditions using the Cholesky failed. Using a random initial condition.\n",
      "Maximum iterations reached. 18 of 19 converged\n",
      "Maximum iterations reached. 18 of 19 converged\n",
      "Maximum iterations reached. 18 of 19 converged\n"
     ]
    },
    {
     "name": "stdout",
     "output_type": "stream",
     "text": [
      "BLA_vHPC\n",
      "\tcalculating connectivity\n",
      "\tBLA_vHPC_granger\n"
     ]
    },
    {
     "name": "stderr",
     "output_type": "stream",
     "text": [
      "Computing the initial conditions using the Cholesky failed. Using a random initial condition.\n",
      "Maximum iterations reached. 18 of 19 converged\n",
      "Computing the initial conditions using the Cholesky failed. Using a random initial condition.\n",
      "Computing the initial conditions using the Cholesky failed. Using a random initial condition.\n",
      "Computing the initial conditions using the Cholesky failed. Using a random initial condition.\n"
     ]
    },
    {
     "name": "stdout",
     "output_type": "stream",
     "text": [
      "\tvHPC_BLA_granger\n"
     ]
    },
    {
     "name": "stderr",
     "output_type": "stream",
     "text": [
      "Computing the initial conditions using the Cholesky failed. Using a random initial condition.\n",
      "Maximum iterations reached. 18 of 19 converged\n",
      "Computing the initial conditions using the Cholesky failed. Using a random initial condition.\n",
      "Computing the initial conditions using the Cholesky failed. Using a random initial condition.\n",
      "Computing the initial conditions using the Cholesky failed. Using a random initial condition.\n"
     ]
    },
    {
     "name": "stdout",
     "output_type": "stream",
     "text": [
      "LH_MD\n",
      "\tcalculating connectivity\n",
      "\tLH_MD_granger\n"
     ]
    },
    {
     "name": "stderr",
     "output_type": "stream",
     "text": [
      "Maximum iterations reached. 17 of 19 converged\n",
      "Maximum iterations reached. 18 of 19 converged\n",
      "Maximum iterations reached. 18 of 19 converged\n",
      "Maximum iterations reached. 18 of 19 converged\n",
      "Maximum iterations reached. 18 of 19 converged\n",
      "Maximum iterations reached. 18 of 19 converged\n",
      "Computing the initial conditions using the Cholesky failed. Using a random initial condition.\n",
      "Maximum iterations reached. 18 of 19 converged\n",
      "Maximum iterations reached. 18 of 19 converged\n",
      "Maximum iterations reached. 18 of 19 converged\n",
      "Maximum iterations reached. 18 of 19 converged\n",
      "Maximum iterations reached. 18 of 19 converged\n",
      "Maximum iterations reached. 18 of 19 converged\n",
      "Computing the initial conditions using the Cholesky failed. Using a random initial condition.\n",
      "Computing the initial conditions using the Cholesky failed. Using a random initial condition.\n",
      "Computing the initial conditions using the Cholesky failed. Using a random initial condition.\n",
      "Maximum iterations reached. 18 of 19 converged\n",
      "Maximum iterations reached. 18 of 19 converged\n",
      "Maximum iterations reached. 18 of 19 converged\n",
      "Maximum iterations reached. 17 of 19 converged\n",
      "Maximum iterations reached. 18 of 19 converged\n",
      "Maximum iterations reached. 18 of 19 converged\n",
      "Maximum iterations reached. 18 of 19 converged\n",
      "Maximum iterations reached. 18 of 19 converged\n",
      "Maximum iterations reached. 18 of 19 converged\n",
      "Maximum iterations reached. 18 of 19 converged\n",
      "Maximum iterations reached. 18 of 19 converged\n"
     ]
    },
    {
     "name": "stdout",
     "output_type": "stream",
     "text": [
      "\tMD_LH_granger\n"
     ]
    },
    {
     "name": "stderr",
     "output_type": "stream",
     "text": [
      "Maximum iterations reached. 17 of 19 converged\n",
      "Maximum iterations reached. 18 of 19 converged\n",
      "Maximum iterations reached. 18 of 19 converged\n",
      "Maximum iterations reached. 18 of 19 converged\n",
      "Maximum iterations reached. 18 of 19 converged\n",
      "Maximum iterations reached. 18 of 19 converged\n",
      "Computing the initial conditions using the Cholesky failed. Using a random initial condition.\n",
      "Maximum iterations reached. 18 of 19 converged\n",
      "Maximum iterations reached. 18 of 19 converged\n",
      "Maximum iterations reached. 18 of 19 converged\n",
      "Maximum iterations reached. 18 of 19 converged\n",
      "Maximum iterations reached. 18 of 19 converged\n",
      "Maximum iterations reached. 18 of 19 converged\n",
      "Computing the initial conditions using the Cholesky failed. Using a random initial condition.\n",
      "Computing the initial conditions using the Cholesky failed. Using a random initial condition.\n",
      "Computing the initial conditions using the Cholesky failed. Using a random initial condition.\n",
      "Maximum iterations reached. 18 of 19 converged\n",
      "Maximum iterations reached. 18 of 19 converged\n",
      "Maximum iterations reached. 18 of 19 converged\n",
      "Maximum iterations reached. 17 of 19 converged\n",
      "Maximum iterations reached. 18 of 19 converged\n",
      "Maximum iterations reached. 18 of 19 converged\n",
      "Maximum iterations reached. 18 of 19 converged\n",
      "Maximum iterations reached. 18 of 19 converged\n",
      "Maximum iterations reached. 18 of 19 converged\n",
      "Maximum iterations reached. 18 of 19 converged\n",
      "Maximum iterations reached. 18 of 19 converged\n"
     ]
    },
    {
     "name": "stdout",
     "output_type": "stream",
     "text": [
      "LH_mPFC\n",
      "\tcalculating connectivity\n",
      "\tLH_mPFC_granger\n"
     ]
    },
    {
     "name": "stderr",
     "output_type": "stream",
     "text": [
      "Maximum iterations reached. 18 of 19 converged\n",
      "Maximum iterations reached. 18 of 19 converged\n",
      "Maximum iterations reached. 18 of 19 converged\n",
      "Computing the initial conditions using the Cholesky failed. Using a random initial condition.\n",
      "Computing the initial conditions using the Cholesky failed. Using a random initial condition.\n",
      "Computing the initial conditions using the Cholesky failed. Using a random initial condition.\n",
      "Computing the initial conditions using the Cholesky failed. Using a random initial condition.\n",
      "Maximum iterations reached. 18 of 19 converged\n",
      "Maximum iterations reached. 18 of 19 converged\n",
      "Maximum iterations reached. 18 of 19 converged\n"
     ]
    },
    {
     "name": "stdout",
     "output_type": "stream",
     "text": [
      "\tmPFC_LH_granger\n"
     ]
    },
    {
     "name": "stderr",
     "output_type": "stream",
     "text": [
      "Maximum iterations reached. 18 of 19 converged\n",
      "Maximum iterations reached. 18 of 19 converged\n",
      "Maximum iterations reached. 18 of 19 converged\n",
      "Computing the initial conditions using the Cholesky failed. Using a random initial condition.\n",
      "Computing the initial conditions using the Cholesky failed. Using a random initial condition.\n",
      "Computing the initial conditions using the Cholesky failed. Using a random initial condition.\n",
      "Computing the initial conditions using the Cholesky failed. Using a random initial condition.\n",
      "Maximum iterations reached. 18 of 19 converged\n",
      "Maximum iterations reached. 18 of 19 converged\n",
      "Maximum iterations reached. 18 of 19 converged\n"
     ]
    },
    {
     "name": "stdout",
     "output_type": "stream",
     "text": [
      "LH_vHPC\n",
      "\tcalculating connectivity\n",
      "\tLH_vHPC_granger\n"
     ]
    },
    {
     "name": "stderr",
     "output_type": "stream",
     "text": [
      "Computing the initial conditions using the Cholesky failed. Using a random initial condition.\n",
      "Maximum iterations reached. 17 of 19 converged\n",
      "Maximum iterations reached. 18 of 19 converged\n",
      "Maximum iterations reached. 18 of 19 converged\n",
      "Maximum iterations reached. 18 of 19 converged\n",
      "Maximum iterations reached. 17 of 19 converged\n",
      "Computing the initial conditions using the Cholesky failed. Using a random initial condition.\n",
      "Computing the initial conditions using the Cholesky failed. Using a random initial condition.\n",
      "Computing the initial conditions using the Cholesky failed. Using a random initial condition.\n"
     ]
    },
    {
     "name": "stdout",
     "output_type": "stream",
     "text": [
      "\tvHPC_LH_granger\n"
     ]
    },
    {
     "name": "stderr",
     "output_type": "stream",
     "text": [
      "Computing the initial conditions using the Cholesky failed. Using a random initial condition.\n",
      "Maximum iterations reached. 17 of 19 converged\n",
      "Maximum iterations reached. 18 of 19 converged\n",
      "Maximum iterations reached. 18 of 19 converged\n",
      "Maximum iterations reached. 18 of 19 converged\n",
      "Maximum iterations reached. 17 of 19 converged\n",
      "Computing the initial conditions using the Cholesky failed. Using a random initial condition.\n",
      "Computing the initial conditions using the Cholesky failed. Using a random initial condition.\n",
      "Computing the initial conditions using the Cholesky failed. Using a random initial condition.\n"
     ]
    },
    {
     "name": "stdout",
     "output_type": "stream",
     "text": [
      "MD_mPFC\n",
      "\tcalculating connectivity\n",
      "\tMD_mPFC_granger\n"
     ]
    },
    {
     "name": "stderr",
     "output_type": "stream",
     "text": [
      "Maximum iterations reached. 18 of 19 converged\n",
      "Maximum iterations reached. 18 of 19 converged\n",
      "Computing the initial conditions using the Cholesky failed. Using a random initial condition.\n",
      "Maximum iterations reached. 18 of 19 converged\n",
      "Computing the initial conditions using the Cholesky failed. Using a random initial condition.\n",
      "Computing the initial conditions using the Cholesky failed. Using a random initial condition.\n",
      "Computing the initial conditions using the Cholesky failed. Using a random initial condition.\n",
      "Maximum iterations reached. 18 of 19 converged\n"
     ]
    },
    {
     "name": "stdout",
     "output_type": "stream",
     "text": [
      "\tmPFC_MD_granger\n"
     ]
    },
    {
     "name": "stderr",
     "output_type": "stream",
     "text": [
      "Maximum iterations reached. 18 of 19 converged\n",
      "Maximum iterations reached. 18 of 19 converged\n",
      "Computing the initial conditions using the Cholesky failed. Using a random initial condition.\n",
      "Maximum iterations reached. 18 of 19 converged\n",
      "Computing the initial conditions using the Cholesky failed. Using a random initial condition.\n",
      "Computing the initial conditions using the Cholesky failed. Using a random initial condition.\n",
      "Computing the initial conditions using the Cholesky failed. Using a random initial condition.\n",
      "Maximum iterations reached. 18 of 19 converged\n"
     ]
    },
    {
     "name": "stdout",
     "output_type": "stream",
     "text": [
      "MD_vHPC\n",
      "\tcalculating connectivity\n",
      "\tMD_vHPC_granger\n"
     ]
    },
    {
     "name": "stderr",
     "output_type": "stream",
     "text": [
      "Maximum iterations reached. 18 of 19 converged\n",
      "Computing the initial conditions using the Cholesky failed. Using a random initial condition.\n",
      "Maximum iterations reached. 18 of 19 converged\n",
      "Maximum iterations reached. 18 of 19 converged\n",
      "Maximum iterations reached. 18 of 19 converged\n",
      "Maximum iterations reached. 17 of 19 converged\n",
      "Computing the initial conditions using the Cholesky failed. Using a random initial condition.\n",
      "Computing the initial conditions using the Cholesky failed. Using a random initial condition.\n",
      "Computing the initial conditions using the Cholesky failed. Using a random initial condition.\n"
     ]
    },
    {
     "name": "stdout",
     "output_type": "stream",
     "text": [
      "\tvHPC_MD_granger\n"
     ]
    },
    {
     "name": "stderr",
     "output_type": "stream",
     "text": [
      "Maximum iterations reached. 18 of 19 converged\n",
      "Computing the initial conditions using the Cholesky failed. Using a random initial condition.\n",
      "Maximum iterations reached. 18 of 19 converged\n",
      "Maximum iterations reached. 18 of 19 converged\n",
      "Maximum iterations reached. 18 of 19 converged\n",
      "Maximum iterations reached. 17 of 19 converged\n",
      "Computing the initial conditions using the Cholesky failed. Using a random initial condition.\n",
      "Computing the initial conditions using the Cholesky failed. Using a random initial condition.\n",
      "Computing the initial conditions using the Cholesky failed. Using a random initial condition.\n"
     ]
    },
    {
     "name": "stdout",
     "output_type": "stream",
     "text": [
      "mPFC_vHPC\n",
      "\tcalculating connectivity\n",
      "\tmPFC_vHPC_granger\n"
     ]
    },
    {
     "name": "stderr",
     "output_type": "stream",
     "text": [
      "Computing the initial conditions using the Cholesky failed. Using a random initial condition.\n",
      "Maximum iterations reached. 18 of 19 converged\n",
      "Maximum iterations reached. 18 of 19 converged\n",
      "Maximum iterations reached. 17 of 19 converged\n",
      "Computing the initial conditions using the Cholesky failed. Using a random initial condition.\n",
      "Computing the initial conditions using the Cholesky failed. Using a random initial condition.\n",
      "Computing the initial conditions using the Cholesky failed. Using a random initial condition.\n",
      "Maximum iterations reached. 18 of 19 converged\n"
     ]
    },
    {
     "name": "stdout",
     "output_type": "stream",
     "text": [
      "\tvHPC_mPFC_granger\n"
     ]
    },
    {
     "name": "stderr",
     "output_type": "stream",
     "text": [
      "Computing the initial conditions using the Cholesky failed. Using a random initial condition.\n",
      "Maximum iterations reached. 18 of 19 converged\n",
      "Maximum iterations reached. 18 of 19 converged\n",
      "Maximum iterations reached. 17 of 19 converged\n",
      "Computing the initial conditions using the Cholesky failed. Using a random initial condition.\n",
      "Computing the initial conditions using the Cholesky failed. Using a random initial condition.\n",
      "Computing the initial conditions using the Cholesky failed. Using a random initial condition.\n",
      "Maximum iterations reached. 18 of 19 converged\n"
     ]
    }
   ],
   "source": [
    "for region_1, region_2 in trial_brain_region_pairs:\n",
    "    region_1_trimmed = region_1.split(\"_\")[0]\n",
    "    region_2_trimmed = region_2.split(\"_\")[0]\n",
    "    pair_base_name = \"{}_{}\".format(region_1_trimmed, region_2_trimmed)\n",
    "    print(pair_base_name)\n",
    "    try:\n",
    "        multitaper_col = \"{}_trial_multitaper\".format(pair_base_name)\n",
    "        # MERGED_LFP_AND_SLEAP[multitaper_col] = MERGED_LFP_AND_SLEAP.apply(lambda x: Multitaper(time_series=np.array([x[region_1],x[region_2]]).T, sampling_frequency=RESAMPLE_RATE, time_halfbandwidth_product=TIME_HALFBANDWIDTH_PRODUCT), axis=1)\n",
    "        MERGED_LFP_AND_SLEAP[multitaper_col] = MERGED_LFP_AND_SLEAP.apply(lambda x: Multitaper(time_series=np.array([x[region_1],x[region_2]]).T, sampling_frequency=RESAMPLE_RATE, time_halfbandwidth_product=TIME_HALFBANDWIDTH_PRODUCT, time_window_duration=TIME_WINDOW_DURATION, time_window_step=TIME_WINDOW_STEP), axis=1)\n",
    "        print(\"\\tcalculating connectivity\")\n",
    "        connectivity_col = \"{}_trial_connectivity\".format(pair_base_name)\n",
    "        MERGED_LFP_AND_SLEAP[connectivity_col] = MERGED_LFP_AND_SLEAP[multitaper_col].apply(lambda x: Connectivity.from_multitaper(x))\n",
    "        \n",
    "        MERGED_LFP_AND_SLEAP[\"{}_trial_frequencies\".format(pair_base_name)] = MERGED_LFP_AND_SLEAP[connectivity_col].apply(lambda x: x.frequencies)\n",
    "        \n",
    "        print(\"\\t{}_{}_granger\".format(region_1_trimmed, region_2_trimmed))\n",
    "        MERGED_LFP_AND_SLEAP[\"{}_{}_split_windows_granger\".format(region_1_trimmed, region_2_trimmed)] = MERGED_LFP_AND_SLEAP[connectivity_col].apply(lambda x: x.pairwise_spectral_granger_prediction()[:,:,0,1])\n",
    "\n",
    "        MERGED_LFP_AND_SLEAP[\"{}_{}_window_mean_granger\".format(region_1_trimmed, region_2_trimmed)] = MERGED_LFP_AND_SLEAP[\"{}_{}_split_windows_granger\".format(region_1_trimmed, region_2_trimmed)].apply(lambda x: np.nanmean(x, axis=0))\n",
    "\n",
    "        print(\"\\t{}_{}_granger\".format(region_2_trimmed, region_1_trimmed))\n",
    "        MERGED_LFP_AND_SLEAP[\"{}_{}_split_windows_granger\".format(region_2_trimmed, region_1_trimmed)] = MERGED_LFP_AND_SLEAP[connectivity_col].apply(lambda x: x.pairwise_spectral_granger_prediction()[:,:,1,0])\n",
    "\n",
    "        MERGED_LFP_AND_SLEAP[\"{}_{}_window_mean_granger\".format(region_2_trimmed, region_1_trimmed)] = MERGED_LFP_AND_SLEAP[\"{}_{}_split_windows_granger\".format(region_2_trimmed, region_1_trimmed)].apply(lambda x: np.nanmean(x, axis=0))\n",
    "        \n",
    "        MERGED_LFP_AND_SLEAP = MERGED_LFP_AND_SLEAP.drop(columns=[multitaper_col, connectivity_col], errors=\"ignore\")\n",
    "        # MERGED_LFP_AND_SLEAP.to_pickle(\"./proc/per_trial_granger.pkl\")\n",
    "    except Exception as e: \n",
    "        print(e)"
   ]
  },
  {
   "cell_type": "code",
   "execution_count": 46,
   "metadata": {},
   "outputs": [],
   "source": [
    "MERGED_LFP_AND_SLEAP.to_pickle(\"./proc/per_trial_granger.pkl\")\n"
   ]
  },
  {
   "cell_type": "code",
   "execution_count": 47,
   "metadata": {},
   "outputs": [
    {
     "ename": "ValueError",
     "evalue": "",
     "output_type": "error",
     "traceback": [
      "\u001b[0;31m---------------------------------------------------------------------------\u001b[0m",
      "\u001b[0;31mValueError\u001b[0m                                Traceback (most recent call last)",
      "Cell \u001b[0;32mIn[47], line 1\u001b[0m\n\u001b[0;32m----> 1\u001b[0m \u001b[38;5;28;01mraise\u001b[39;00m \u001b[38;5;167;01mValueError\u001b[39;00m()\n",
      "\u001b[0;31mValueError\u001b[0m: "
     ]
    }
   ],
   "source": [
    "raise ValueError()"
   ]
  },
  {
   "cell_type": "code",
   "execution_count": null,
   "metadata": {},
   "outputs": [],
   "source": [
    "MERGED_LFP_AND_SLEAP[\"BLA_LH_trial_frequencies\"].iloc[0]"
   ]
  },
  {
   "cell_type": "code",
   "execution_count": null,
   "metadata": {},
   "outputs": [],
   "source": [
    "MERGED_LFP_AND_SLEAP"
   ]
  },
  {
   "cell_type": "code",
   "execution_count": null,
   "metadata": {},
   "outputs": [],
   "source": [
    "GROUPINGS = \"trial_outcome\""
   ]
  },
  {
   "cell_type": "code",
   "execution_count": null,
   "metadata": {},
   "outputs": [],
   "source": [
    "all_frequencies = MERGED_LFP_AND_SLEAP[\"BLA_LH_trial_frequencies\"].iloc[0]"
   ]
  },
  {
   "cell_type": "code",
   "execution_count": null,
   "metadata": {
    "scrolled": true
   },
   "outputs": [],
   "source": [
    "low_freq = 0\n",
    "high_freq = 100\n",
    "\n",
    "for region_1, region_2 in trial_brain_region_pairs:\n",
    "    region_1_trimmed = region_1.split(\"_\")[0]\n",
    "    region_2_trimmed = region_2.split(\"_\")[0]\n",
    "    \n",
    "    \n",
    "    fig, ax = plt.subplots()\n",
    "    plt.title(\"granger of Z-scored LFP in {} to {}\".format(region_1_trimmed, region_2_trimmed))\n",
    "    plt.xlim(low_freq, high_freq)\n",
    "    plt.ylim(0,1)\n",
    "\n",
    "    ax.axvspan(4, 12, alpha=0.1, color='yellow', label=\"theta\")\n",
    "    ax.axvspan(12, 30, alpha=0.1, color='cyan', label=\"beta\")\n",
    "    ax.axvspan(30, 90, alpha=0.1, color='magenta', label=\"gamma\")\n",
    "    \n",
    "    granger_col = \"{}_{}_window_mean_granger\".format(region_1_trimmed, region_2_trimmed)\n",
    "    grouped_all_trials_df = MERGED_LFP_AND_SLEAP.groupby([GROUPINGS]).agg({granger_col: lambda x: np.vstack(x.tolist())}).reset_index()\n",
    "    # grouped_all_trials_df = grouped_all_trials_df[grouped_all_trials_df[\"trial_or_baseline\"] == \"trial\"]\n",
    "    grouped_all_trials_df[\"mean_granger\"] = grouped_all_trials_df[granger_col].apply(lambda x: np.nanmean(np.vstack(x), axis=0))\n",
    "    grouped_all_trials_df[\"std_granger\"] = grouped_all_trials_df[granger_col].apply(lambda x: np.nanstd(np.vstack(x), axis=0))\n",
    "    grouped_all_trials_df[\"n_trials\"] = grouped_all_trials_df[granger_col].apply(lambda x: np.sum(~np.isnan(x), axis=0))\n",
    "    grouped_all_trials_df[\"sem_granger\"] = grouped_all_trials_df.apply(lambda x: x[\"std_granger\"] / np.sqrt(x[\"n_trials\"]), axis=1)\n",
    "    for index, row in grouped_all_trials_df.iterrows():\n",
    "        try:\n",
    "\n",
    "            ax = sns.lineplot(x=all_frequencies, y=row[\"mean_granger\"], \\\n",
    "            label=\"{}\".format(row[GROUPINGS]), color=OUTCOME_TO_COLOR[row[GROUPINGS]],\n",
    "            linewidth=3)\n",
    "\n",
    "    \n",
    "    \n",
    "            plt.fill_between(all_frequencies, \\\n",
    "            row[\"mean_granger\"] - row[\"sem_granger\"], row[\"mean_granger\"] + row[\"sem_granger\"], alpha=0.1,\n",
    "            color=OUTCOME_TO_COLOR[row[GROUPINGS]])\n",
    "        except Exception as e: \n",
    "            print(e)\n",
    "\n",
    "    plt.legend(ncol=3, loc=\"lower center\")\n",
    "\n",
    "    plt.savefig(\"./proc/{}_{}_granger_{}_{}hz.png\".format(region_1_trimmed, region_2_trimmed, low_freq, high_freq))\n",
    "    plt.show()\n",
    "    \n",
    "    fig, ax = plt.subplots()\n",
    "    plt.title(\"granger of Z-scored LFP in {} to {}\".format(region_2_trimmed, region_1_trimmed))\n",
    "    plt.xlim(low_freq, high_freq)\n",
    "    plt.ylim(0,1)\n",
    "\n",
    "    ax.axvspan(4, 12, alpha=0.1, color='yellow', label=\"theta\")\n",
    "    ax.axvspan(12, 30, alpha=0.1, color='cyan', label=\"beta\")\n",
    "    ax.axvspan(30, 90, alpha=0.1, color='magenta', label=\"gamma\")\n",
    "    \n",
    "    granger_col = \"{}_{}_window_mean_granger\".format(region_2_trimmed, region_1_trimmed)\n",
    "    grouped_all_trials_df = MERGED_LFP_AND_SLEAP.groupby([GROUPINGS]).agg({granger_col: lambda x: np.vstack(x.tolist())}).reset_index()\n",
    "    # grouped_all_trials_df = grouped_all_trials_df[grouped_all_trials_df[\"trial_or_baseline\"] == \"trial\"]\n",
    "    grouped_all_trials_df[\"mean_granger\"] = grouped_all_trials_df[granger_col].apply(lambda x: np.nanmean(np.vstack(x), axis=0))\n",
    "    grouped_all_trials_df[\"std_granger\"] = grouped_all_trials_df[granger_col].apply(lambda x: np.nanstd(np.vstack(x), axis=0))\n",
    "    grouped_all_trials_df[\"n_trials\"] = grouped_all_trials_df[granger_col].apply(lambda x: np.sum(~np.isnan(x), axis=0))\n",
    "    grouped_all_trials_df[\"sem_granger\"] = grouped_all_trials_df.apply(lambda x: x[\"std_granger\"] / np.sqrt(x[\"n_trials\"]), axis=1)\n",
    "    for index, row in grouped_all_trials_df.iterrows():\n",
    "        try:\n",
    "\n",
    "            ax = sns.lineplot(x=all_frequencies, y=row[\"mean_granger\"], \\\n",
    "            label=\"{}\".format(row[GROUPINGS]), color=OUTCOME_TO_COLOR[row[GROUPINGS]],\n",
    "            linewidth=3)\n",
    "\n",
    "    \n",
    "    \n",
    "            plt.fill_between(all_frequencies, \\\n",
    "            row[\"mean_granger\"] - row[\"sem_granger\"], row[\"mean_granger\"] + row[\"sem_granger\"], alpha=0.1,\n",
    "            color=OUTCOME_TO_COLOR[row[GROUPINGS]])\n",
    "        except Exception as e: \n",
    "            print(e)\n",
    "    \n",
    "    plt.legend(ncol=3, loc=\"lower center\")\n",
    "\n",
    "    plt.savefig(\"./proc/{}_{}_granger_{}_{}hz.png\".format(region_2_trimmed, region_1_trimmed, low_freq, high_freq))\n",
    "\n",
    "    plt.show()\n",
    "    \n",
    "    \n"
   ]
  },
  {
   "cell_type": "code",
   "execution_count": null,
   "metadata": {},
   "outputs": [],
   "source": [
    "low_freq = 0\n",
    "high_freq = 12\n",
    "\n",
    "for region_1, region_2 in trial_brain_region_pairs:\n",
    "    region_1_trimmed = region_1.split(\"_\")[0]\n",
    "    region_2_trimmed = region_2.split(\"_\")[0]\n",
    "    \n",
    "    \n",
    "    fig, ax = plt.subplots()\n",
    "    plt.title(\"granger of Z-scored LFP in {} to {}\".format(region_1_trimmed, region_2_trimmed))\n",
    "    plt.xlim(low_freq, high_freq)\n",
    "    plt.ylim(0,1)\n",
    "\n",
    "    ax.axvspan(4, 12, alpha=0.1, color='yellow', label=\"theta\")\n",
    "    # ax.axvspan(12, 30, alpha=0.1, color='cyan', label=\"beta\")\n",
    "    # ax.axvspan(30, 90, alpha=0.1, color='magenta', label=\"gamma\")\n",
    "    \n",
    "    granger_col = \"{}_{}_window_mean_granger\".format(region_1_trimmed, region_2_trimmed)\n",
    "    grouped_all_trials_df = MERGED_LFP_AND_SLEAP.groupby([GROUPINGS]).agg({granger_col: lambda x: np.vstack(x.tolist())}).reset_index()\n",
    "    # grouped_all_trials_df = grouped_all_trials_df[grouped_all_trials_df[\"trial_or_baseline\"] == \"trial\"]\n",
    "    grouped_all_trials_df[\"mean_granger\"] = grouped_all_trials_df[granger_col].apply(lambda x: np.nanmean(np.vstack(x), axis=0))\n",
    "    grouped_all_trials_df[\"std_granger\"] = grouped_all_trials_df[granger_col].apply(lambda x: np.nanstd(np.vstack(x), axis=0))\n",
    "    grouped_all_trials_df[\"n_trials\"] = grouped_all_trials_df[granger_col].apply(lambda x: np.sum(~np.isnan(x), axis=0))\n",
    "    grouped_all_trials_df[\"sem_granger\"] = grouped_all_trials_df.apply(lambda x: x[\"std_granger\"] / np.sqrt(x[\"n_trials\"]), axis=1)\n",
    "    for index, row in grouped_all_trials_df.iterrows():\n",
    "        try:\n",
    "\n",
    "            ax = sns.lineplot(x=all_frequencies, y=row[\"mean_granger\"], \\\n",
    "            label=\"{}\".format(row[GROUPINGS]), color=OUTCOME_TO_COLOR[row[GROUPINGS]],\n",
    "            linewidth=3)\n",
    "\n",
    "    \n",
    "    \n",
    "            plt.fill_between(all_frequencies, \\\n",
    "            row[\"mean_granger\"] - row[\"sem_granger\"], row[\"mean_granger\"] + row[\"sem_granger\"], alpha=0.1,\n",
    "            color=OUTCOME_TO_COLOR[row[GROUPINGS]])\n",
    "        except Exception as e: \n",
    "            print(e)\n",
    "\n",
    "    # plt.legend(ncol=3, loc=\"lower center\")\n",
    "\n",
    "    plt.savefig(\"./proc/{}_{}_granger_{}_{}hz.png\".format(region_1_trimmed, region_2_trimmed, low_freq, high_freq))\n",
    "    plt.show()\n",
    "    \n",
    "    fig, ax = plt.subplots()\n",
    "    plt.title(\"granger of Z-scored LFP in {} to {}\".format(region_2_trimmed, region_1_trimmed))\n",
    "    plt.xlim(low_freq, high_freq)\n",
    "    plt.ylim(0,1)\n",
    "\n",
    "    ax.axvspan(4, 12, alpha=0.1, color='yellow', label=\"theta\")\n",
    "    \n",
    "    granger_col = \"{}_{}_window_mean_granger\".format(region_2_trimmed, region_1_trimmed)\n",
    "    grouped_all_trials_df = MERGED_LFP_AND_SLEAP.groupby([GROUPINGS]).agg({granger_col: lambda x: np.vstack(x.tolist())}).reset_index()\n",
    "    # grouped_all_trials_df = grouped_all_trials_df[grouped_all_trials_df[\"trial_or_baseline\"] == \"trial\"]\n",
    "    grouped_all_trials_df[\"mean_granger\"] = grouped_all_trials_df[granger_col].apply(lambda x: np.nanmean(np.vstack(x), axis=0))\n",
    "    grouped_all_trials_df[\"std_granger\"] = grouped_all_trials_df[granger_col].apply(lambda x: np.nanstd(np.vstack(x), axis=0))\n",
    "    grouped_all_trials_df[\"n_trials\"] = grouped_all_trials_df[granger_col].apply(lambda x: np.sum(~np.isnan(x), axis=0))\n",
    "    grouped_all_trials_df[\"sem_granger\"] = grouped_all_trials_df.apply(lambda x: x[\"std_granger\"] / np.sqrt(x[\"n_trials\"]), axis=1)\n",
    "    for index, row in grouped_all_trials_df.iterrows():\n",
    "        try:\n",
    "\n",
    "            ax = sns.lineplot(x=all_frequencies, y=row[\"mean_granger\"], \\\n",
    "            label=\"{}\".format(row[GROUPINGS]), color=OUTCOME_TO_COLOR[row[GROUPINGS]],\n",
    "            linewidth=3)\n",
    "\n",
    "    \n",
    "    \n",
    "            plt.fill_between(all_frequencies, \\\n",
    "            row[\"mean_granger\"] - row[\"sem_granger\"], row[\"mean_granger\"] + row[\"sem_granger\"], alpha=0.1,\n",
    "            color=OUTCOME_TO_COLOR[row[GROUPINGS]])\n",
    "        except Exception as e: \n",
    "            print(e)\n",
    "    \n",
    "    # plt.legend(ncol=3, loc=\"lower center\")\n",
    "\n",
    "    plt.savefig(\"./proc/{}_{}_granger_{}_{}hz.png\".format(region_2_trimmed, region_1_trimmed, low_freq, high_freq))\n",
    "\n",
    "    plt.show()\n",
    "    \n",
    "    \n"
   ]
  },
  {
   "cell_type": "code",
   "execution_count": null,
   "metadata": {},
   "outputs": [],
   "source": []
  },
  {
   "cell_type": "markdown",
   "metadata": {},
   "source": [
    "# Network Predictivity"
   ]
  },
  {
   "cell_type": "code",
   "execution_count": null,
   "metadata": {},
   "outputs": [],
   "source": []
  },
  {
   "cell_type": "code",
   "execution_count": null,
   "metadata": {},
   "outputs": [],
   "source": [
    "MERGED_LFP_AND_SLEAP.columns"
   ]
  },
  {
   "cell_type": "code",
   "execution_count": null,
   "metadata": {
    "scrolled": true
   },
   "outputs": [],
   "source": [
    "feature_columns = [col for col in MERGED_LFP_AND_SLEAP.columns if \"averaged\" in col and (\"granger\" in col or \"coherence\" in col)]\n",
    "feature_columns = [col for col in feature_columns if \"beta\" not in col]"
   ]
  },
  {
   "cell_type": "code",
   "execution_count": null,
   "metadata": {},
   "outputs": [],
   "source": [
    "feature_columns"
   ]
  },
  {
   "cell_type": "markdown",
   "metadata": {},
   "source": [
    "- Filtering out for trials that are win vs loss"
   ]
  },
  {
   "cell_type": "code",
   "execution_count": null,
   "metadata": {},
   "outputs": [],
   "source": [
    "network_df = MERGED_LFP_AND_SLEAP[MERGED_LFP_AND_SLEAP[\"trial_outcome\"].isin([\"win\", \"lose\", \"rewarded\"])]\n",
    "network_df = network_df.dropna(subset=\"mPFC_MD_averaged_gamma_granger\")"
   ]
  },
  {
   "cell_type": "code",
   "execution_count": null,
   "metadata": {},
   "outputs": [],
   "source": []
  },
  {
   "cell_type": "code",
   "execution_count": null,
   "metadata": {},
   "outputs": [],
   "source": [
    "network_df.groupby(\"trial_outcome\").count()"
   ]
  },
  {
   "cell_type": "code",
   "execution_count": null,
   "metadata": {},
   "outputs": [],
   "source": [
    "network_array = network_df[feature_columns].values"
   ]
  },
  {
   "cell_type": "code",
   "execution_count": null,
   "metadata": {
    "scrolled": true
   },
   "outputs": [],
   "source": [
    "network_df.head()"
   ]
  },
  {
   "cell_type": "code",
   "execution_count": null,
   "metadata": {},
   "outputs": [],
   "source": [
    "original_scores=[]\n",
    "kFold=KFold(n_splits=5,shuffle=True)\n",
    "\n",
    "\n",
    "all_predictions = []\n",
    "all_labels = []\n",
    "\n",
    "# creating a RF classifier \n",
    "clf = RandomForestClassifier(n_estimators = 100)\n",
    "\n",
    "for train_index, test_index in kFold.split(network_array):\n",
    "    \n",
    "    X_train = network_array[train_index]  \n",
    "    X_test = network_array[test_index]\n",
    "    y_train = network_df[\"trial_outcome\"].values[train_index]\n",
    "    y_test = network_df[\"trial_outcome\"].values[test_index]\n",
    "\n",
    "    # Training the model on the training dataset \n",
    "    # fit function is used to train the model using the training sets as parameters \n",
    "    clf.fit(X_train, y_train) \n",
    "    all_predictions += clf.predict(X_test).tolist()\n",
    "    all_labels += y_test.tolist()\n",
    "    \n",
    "    original_scores.append(clf.score(X_test,y_test))\n",
    "mean_original_scores = np.mean(original_scores)\n",
    "# 0.9393939393939394\n"
   ]
  },
  {
   "cell_type": "code",
   "execution_count": null,
   "metadata": {},
   "outputs": [],
   "source": [
    "len(train_index)"
   ]
  },
  {
   "cell_type": "code",
   "execution_count": null,
   "metadata": {},
   "outputs": [],
   "source": [
    "len(network_df)"
   ]
  },
  {
   "cell_type": "code",
   "execution_count": null,
   "metadata": {},
   "outputs": [],
   "source": [
    "original_scores"
   ]
  },
  {
   "cell_type": "code",
   "execution_count": null,
   "metadata": {},
   "outputs": [],
   "source": [
    "y_test"
   ]
  },
  {
   "cell_type": "code",
   "execution_count": null,
   "metadata": {
    "scrolled": true
   },
   "outputs": [],
   "source": [
    "clf.predict(X_test)"
   ]
  },
  {
   "cell_type": "code",
   "execution_count": null,
   "metadata": {},
   "outputs": [],
   "source": [
    "OUTCOME_LABELS=[\"win\", \"lose\", \"rewarded\"]"
   ]
  },
  {
   "cell_type": "code",
   "execution_count": null,
   "metadata": {},
   "outputs": [],
   "source": [
    "#compute the confusion matrix.\n",
    "# cm = confusion_matrix(clf.predict(X_test),y_test, labels=OUTCOME_LABELS)\n",
    "cm = confusion_matrix(all_predictions,all_labels, labels=OUTCOME_LABELS)\n",
    "\n",
    "\n",
    "#Plot the confusion matrix.\n",
    "sns.heatmap(cm/sum(cm), \n",
    "            annot=True,\n",
    "            # fmt='g', \n",
    "            fmt='.2%',\n",
    "           cmap=\"Blues\", xticklabels=OUTCOME_LABELS, yticklabels=OUTCOME_LABELS)\n",
    "# sns.light_palette(\"seagreen\", as_cmap=True)\n",
    "\n",
    "plt.ylabel('Prediction',fontsize=13)\n",
    "plt.xlabel('Actual',fontsize=13)\n",
    "plt.title(\"Random Forest of\\nCoherence and Granger's Causality\",fontsize=17)\n",
    "plt.savefig(\"./proc/rf_original_connectivity_confusion_matrix.png\")\n",
    "\n",
    "plt.show()"
   ]
  },
  {
   "cell_type": "code",
   "execution_count": null,
   "metadata": {},
   "outputs": [],
   "source": []
  },
  {
   "cell_type": "code",
   "execution_count": null,
   "metadata": {},
   "outputs": [],
   "source": [
    "importances = clf.feature_importances_\n",
    "std = np.std([tree.feature_importances_ for tree in clf.estimators_], axis=0)"
   ]
  },
  {
   "cell_type": "code",
   "execution_count": null,
   "metadata": {},
   "outputs": [],
   "source": [
    "std"
   ]
  },
  {
   "cell_type": "code",
   "execution_count": null,
   "metadata": {},
   "outputs": [],
   "source": [
    "forest_importances = pd.DataFrame(importances, index=feature_columns).sort_values(0, ascending=False).reset_index()\n",
    "forest_importances = forest_importances.rename(columns={0: \"mdi\"})"
   ]
  },
  {
   "cell_type": "code",
   "execution_count": null,
   "metadata": {},
   "outputs": [],
   "source": [
    "forest_importances[\"index\"]"
   ]
  },
  {
   "cell_type": "code",
   "execution_count": null,
   "metadata": {},
   "outputs": [],
   "source": [
    "forest_importances[\"brain_regions\"] = forest_importances[\"index\"].apply(lambda x: x.split(\"_\")[:2])\n",
    "forest_importances[\"measure\"] = forest_importances[\"index\"].apply(lambda x: x.split(\"_\")[-1])\n",
    "forest_importances[\"band\"] = forest_importances[\"index\"].apply(lambda x: x.split(\"_\")[-2])"
   ]
  },
  {
   "cell_type": "code",
   "execution_count": null,
   "metadata": {},
   "outputs": [],
   "source": [
    "forest_importances = forest_importances.iloc[:10]"
   ]
  },
  {
   "cell_type": "code",
   "execution_count": null,
   "metadata": {},
   "outputs": [],
   "source": [
    "forest_importances[\"color\"] = forest_importances[\"band\"].map(BAND_TO_COLOR)\n",
    "forest_importances[\"pattern\"] = forest_importances[\"measure\"].map(MEASURE_TO_PATTERN)"
   ]
  },
  {
   "cell_type": "code",
   "execution_count": null,
   "metadata": {},
   "outputs": [],
   "source": [
    "forest_importances[\"index\"] = forest_importances[\"index\"].apply(lambda x: \" \".join([_.strip(\"_\") for _ in x.split(\"averaged\")]))"
   ]
  },
  {
   "cell_type": "code",
   "execution_count": null,
   "metadata": {},
   "outputs": [],
   "source": [
    "forest_importances"
   ]
  },
  {
   "cell_type": "code",
   "execution_count": null,
   "metadata": {},
   "outputs": [],
   "source": [
    "for index, row in forest_importances.iterrows():\n",
    "    plt.bar(row[\"index\"], row[\"mdi\"], color=row[\"color\"], label=\"{} {}\".format(row[\"band\"], row[\"measure\"]), hatch=row[\"pattern\"])\n",
    "\n",
    "plt.xticks(fontsize=10, rotation=90)\n",
    "handles, labels = plt.gca().get_legend_handles_labels()\n",
    "by_label = OrderedDict(zip(labels, handles))\n",
    "plt.legend(by_label.values(), by_label.keys())\n",
    "\n",
    "plt.title(\"Feature importances for winning/losing\", fontsize=20)\n",
    "plt.ylabel(\"Mean decrease in impurity\", fontsize=20)\n",
    "# plt.tight_layout()\n",
    "plt.savefig(\"./proc/network/rf_connectivity_feature_importance.png\")\n",
    "plt.show()"
   ]
  },
  {
   "cell_type": "markdown",
   "metadata": {},
   "source": [
    "- Shuffling the labels"
   ]
  },
  {
   "cell_type": "code",
   "execution_count": null,
   "metadata": {},
   "outputs": [],
   "source": [
    "shuffled_scores=[]\n",
    "kFold=KFold(n_splits=5,shuffle=True)\n",
    "\n",
    "\n",
    "all_predictions = []\n",
    "all_labels = []\n",
    "\n",
    "# creating a RF classifier \n",
    "clf = RandomForestClassifier(n_estimators = 100)\n",
    "\n",
    "for train_index, test_index in kFold.split(network_array):\n",
    "    \n",
    "    X_train = network_array[train_index]  \n",
    "    X_test = network_array[test_index]\n",
    "    y_train = shuffle(network_df[\"trial_outcome\"].values[train_index])\n",
    "    y_test = network_df[\"trial_outcome\"].values[test_index]\n",
    "\n",
    "    # Training the model on the training dataset \n",
    "    # fit function is used to train the model using the training sets as parameters \n",
    "    clf.fit(X_train, y_train) \n",
    "    all_predictions += clf.predict(X_test).tolist()\n",
    "    all_labels += y_test.tolist()\n",
    "    \n",
    "    shuffled_scores.append(clf.score(X_test,y_test))\n",
    "mean_shuffled_scores = np.mean(shuffled_scores)\n",
    "# 0.9393939393939394\n"
   ]
  },
  {
   "cell_type": "code",
   "execution_count": null,
   "metadata": {},
   "outputs": [],
   "source": [
    "shuffled_scores"
   ]
  },
  {
   "cell_type": "code",
   "execution_count": null,
   "metadata": {},
   "outputs": [],
   "source": [
    "y_test"
   ]
  },
  {
   "cell_type": "code",
   "execution_count": null,
   "metadata": {},
   "outputs": [],
   "source": [
    "clf.predict(X_test)"
   ]
  },
  {
   "cell_type": "code",
   "execution_count": null,
   "metadata": {},
   "outputs": [],
   "source": [
    "clf.predict(X_test),y_test"
   ]
  },
  {
   "cell_type": "code",
   "execution_count": null,
   "metadata": {},
   "outputs": [],
   "source": [
    "#compute the confusion matrix.\n",
    "# cm = confusion_matrix(clf.predict(X_test),y_test, labels=OUTCOME_LABELS)\n",
    "cm = confusion_matrix(all_predictions,all_labels, labels=OUTCOME_LABELS)\n",
    "\n",
    "\n",
    "#Plot the confusion matrix.\n",
    "sns.heatmap(cm/sum(cm), \n",
    "            annot=True,\n",
    "            # fmt='g', \n",
    "            fmt='.2%',\n",
    "           cmap=\"Blues\", xticklabels=OUTCOME_LABELS, yticklabels=OUTCOME_LABELS)\n",
    "# sns.light_palette(\"seagreen\", as_cmap=True)\n",
    "\n",
    "plt.ylabel('Prediction',fontsize=13)\n",
    "plt.xlabel('Actual',fontsize=13)\n",
    "plt.title('Random forest of shuffled connectivity',fontsize=17)\n",
    "plt.savefig(\"./proc/rf_shuffled_connectivity_confusion_matrix.png\")\n",
    "\n",
    "plt.show()"
   ]
  },
  {
   "cell_type": "code",
   "execution_count": null,
   "metadata": {},
   "outputs": [],
   "source": [
    "shuffled_scores"
   ]
  },
  {
   "cell_type": "code",
   "execution_count": null,
   "metadata": {},
   "outputs": [],
   "source": [
    "original_scores"
   ]
  },
  {
   "cell_type": "code",
   "execution_count": null,
   "metadata": {},
   "outputs": [],
   "source": [
    "plt.bar(x=[\"Granger and Coherence\", \"Shuffled\"], height=[np.mean(original_scores), np.mean(shuffled_scores)], color= [\"#FFAF00\", \"#15616F\"])\n",
    "plt.ylabel(\"Accuracy\", fontsize=20)\n",
    "plt.title(\"Random Forest Connectivity Accuracy\", fontsize=20)\n",
    "plt.errorbar([\"Granger and Coherence\", \"Shuffled\"], [np.mean(original_scores), np.mean(shuffled_scores)], yerr=[stats.sem(original_scores), stats.sem(shuffled_scores)], fmt=\"o\", color=\"black\", capsize=10)\n",
    "plt.ylim(0,1)\n",
    "plt.tight_layout()\n",
    "plt.savefig(\"./proc/rf_connectivity_predictions_score.png\")"
   ]
  },
  {
   "cell_type": "code",
   "execution_count": null,
   "metadata": {},
   "outputs": [],
   "source": []
  },
  {
   "cell_type": "code",
   "execution_count": null,
   "metadata": {},
   "outputs": [],
   "source": [
    "raise ValueError()"
   ]
  },
  {
   "cell_type": "code",
   "execution_count": null,
   "metadata": {},
   "outputs": [],
   "source": []
  },
  {
   "cell_type": "code",
   "execution_count": null,
   "metadata": {},
   "outputs": [],
   "source": [
    "# Simulate signal\n",
    "frequency_of_interest = [200, 50]\n",
    "sampling_frequency = 1500\n",
    "time_extent = (0, 50)\n",
    "n_time_samples = ((time_extent[1] - time_extent[0]) * sampling_frequency) + 1\n",
    "time = np.linspace(time_extent[0], time_extent[1], num=n_time_samples, endpoint=True)\n",
    "signal = np.sin(2 * np.pi * time[:, np.newaxis] * frequency_of_interest)\n",
    "signal[: n_time_samples // 2, 1] = 0\n",
    "signal = signal.sum(axis=1)\n",
    "noise = np.random.normal(0, 4, signal.shape)\n",
    "\n",
    "# Plot\n",
    "fig, axes = plt.subplots(nrows=3, ncols=2, figsize=(15, 9))\n",
    "axes[0, 0].plot(time, signal)\n",
    "axes[0, 0].set_xlabel(\"Time\")\n",
    "axes[0, 0].set_ylabel(\"Amplitude\")\n",
    "axes[0, 0].set_title(\"Signal\", fontweight=\"bold\")\n",
    "axes[0, 0].set_xlim((24.90, 25.10))\n",
    "axes[0, 0].set_ylim((-10, 10))\n",
    "\n",
    "axes[0, 1].plot(time, signal + noise)\n",
    "axes[0, 1].set_xlabel(\"Time\")\n",
    "axes[0, 1].set_ylabel(\"Amplitude\")\n",
    "axes[0, 1].set_title(\"Signal + Noise\", fontweight=\"bold\")\n",
    "axes[0, 1].set_xlim((24.90, 25.10))\n",
    "axes[0, 1].set_ylim((-10, 10))\n",
    "\n",
    "multitaper = Multitaper(\n",
    "    signal,\n",
    "    sampling_frequency=sampling_frequency,\n",
    "    time_halfbandwidth_product=3,\n",
    "    start_time=time[0],\n",
    ")\n",
    "connectivity = Connectivity.from_multitaper(multitaper)\n",
    "axes[1, 0].plot(connectivity.frequencies, connectivity.power().squeeze())\n",
    "axes[1, 0].set_xlabel(\"Frequency\")\n",
    "axes[1, 0].set_ylabel(\"Power\")\n",
    "\n",
    "multitaper = Multitaper(\n",
    "    signal + noise,\n",
    "    sampling_frequency=sampling_frequency,\n",
    "    time_halfbandwidth_product=3,\n",
    "    start_time=time[0],\n",
    ")\n",
    "connectivity = Connectivity.from_multitaper(multitaper)\n",
    "axes[1, 1].plot(connectivity.frequencies, connectivity.power().squeeze())\n",
    "axes[1, 1].set_xlabel(\"Frequency\")\n",
    "axes[1, 1].set_ylabel(\"Power\")\n",
    "\n",
    "\n",
    "multitaper = Multitaper(\n",
    "    signal,\n",
    "    sampling_frequency=sampling_frequency,\n",
    "    time_halfbandwidth_product=3,\n",
    "    time_window_duration=0.600,\n",
    "    time_window_step=0.300,\n",
    "    start_time=time[0],\n",
    ")\n",
    "connectivity = Connectivity.from_multitaper(multitaper)\n",
    "mesh = axes[2, 0].pcolormesh(\n",
    "    connectivity.time,\n",
    "    connectivity.frequencies,\n",
    "    connectivity.power().squeeze().T,\n",
    "    vmin=0.0,\n",
    "    vmax=0.03,\n",
    "    cmap=\"viridis\",\n",
    "    shading=\"auto\",\n",
    ")\n",
    "axes[2, 0].set_ylim((0, 300))\n",
    "axes[2, 0].axvline(time[int(np.fix(n_time_samples / 2))], color=\"black\")\n",
    "axes[2, 0].set_ylabel(\"Frequency\")\n",
    "axes[2, 0].set_xlabel(\"Time\")\n",
    "\n",
    "multitaper = Multitaper(\n",
    "    signal + noise,\n",
    "    sampling_frequency=sampling_frequency,\n",
    "    time_halfbandwidth_product=3,\n",
    "    time_window_duration=0.600,\n",
    "    time_window_step=0.300,\n",
    "    start_time=time[0],\n",
    ")\n",
    "connectivity = Connectivity.from_multitaper(multitaper)\n",
    "mesh = axes[2, 1].pcolormesh(\n",
    "    connectivity.time,\n",
    "    connectivity.frequencies,\n",
    "    connectivity.power().squeeze().T,\n",
    "    vmin=0.0,\n",
    "    vmax=0.03,\n",
    "    cmap=\"viridis\",\n",
    "    shading=\"auto\",\n",
    ")\n",
    "axes[2, 1].set_ylim((0, 300))\n",
    "axes[2, 1].axvline(time[int(np.fix(n_time_samples / 2))], color=\"black\")\n",
    "axes[2, 1].set_ylabel(\"Frequency\")\n",
    "axes[2, 1].set_xlabel(\"Time\")\n",
    "\n",
    "plt.tight_layout()\n",
    "cb = fig.colorbar(\n",
    "    mesh,\n",
    "    ax=axes.ravel().tolist(),\n",
    "    orientation=\"horizontal\",\n",
    "    shrink=0.5,\n",
    "    aspect=15,\n",
    "    pad=0.1,\n",
    "    label=\"Power\",\n",
    ")\n",
    "cb.outline.set_linewidth(0)\n"
   ]
  },
  {
   "cell_type": "code",
   "execution_count": null,
   "metadata": {},
   "outputs": [],
   "source": [
    "BAND_TO_ALL_COL = {\"theta\": [], \"beta\": [], \"gamma\": []}"
   ]
  },
  {
   "cell_type": "code",
   "execution_count": null,
   "metadata": {
    "scrolled": true
   },
   "outputs": [],
   "source": [
    "MERGED_LFP_AND_SLEAP.columns"
   ]
  },
  {
   "cell_type": "code",
   "execution_count": null,
   "metadata": {},
   "outputs": [],
   "source": [
    "all_granger_col = [col for col in MERGED_LFP_AND_SLEAP.columns if \"window_mean_granger\" in col]\n"
   ]
  },
  {
   "cell_type": "code",
   "execution_count": null,
   "metadata": {},
   "outputs": [],
   "source": [
    "all_granger_col"
   ]
  },
  {
   "cell_type": "code",
   "execution_count": null,
   "metadata": {
    "scrolled": true
   },
   "outputs": [],
   "source": [
    "for band, frequency in BAND_TO_FREQ.items():\n",
    "    for col in all_granger_col:\n",
    "        BAND_COL = \"{}_averaged_{}_granger\".format(\"_\".join(col.split(\"_\")[:2]), band)\n",
    "        BAND_TO_ALL_COL[band].append(BAND_COL)\n",
    "        print(BAND_COL)\n",
    "        print(frequency[0], frequency[1])\n",
    "        MERGED_LFP_AND_SLEAP[BAND_COL] = MERGED_LFP_AND_SLEAP[col].apply(lambda x: np.nanmean(x[frequency[0]:frequency[1]]))    \n",
    "        # MERGED_LFP_AND_SLEAP[BAND_COL] = MERGED_LFP_AND_SLEAP[col].apply(lambda x: x[frequency[0]:frequency[1]])    \n"
   ]
  },
  {
   "cell_type": "code",
   "execution_count": null,
   "metadata": {},
   "outputs": [],
   "source": [
    "MERGED_LFP_AND_SLEAP[\"BLA_LH_averaged_theta_granger\"].iloc[0]"
   ]
  },
  {
   "cell_type": "code",
   "execution_count": null,
   "metadata": {},
   "outputs": [],
   "source": [
    "MERGED_LFP_AND_SLEAP[col].iloc[0].shape"
   ]
  },
  {
   "cell_type": "code",
   "execution_count": null,
   "metadata": {},
   "outputs": [],
   "source": [
    "MERGED_LFP_AND_SLEAP[GROUPINGS].unique()"
   ]
  },
  {
   "cell_type": "code",
   "execution_count": null,
   "metadata": {},
   "outputs": [],
   "source": [
    "region_pair_to_outcome_to_granger = {k: defaultdict(nested_dict) for k,v in BAND_TO_FREQ.items()}\n",
    "\n",
    "for band, frequency in BAND_TO_FREQ.items():\n",
    "    for outcome in MERGED_LFP_AND_SLEAP[GROUPINGS].unique():\n",
    "        outcome_df = MERGED_LFP_AND_SLEAP[MERGED_LFP_AND_SLEAP[GROUPINGS] == outcome].copy()\n",
    "        for band_col in set(BAND_TO_ALL_COL[band]):\n",
    "            region_pair_to_outcome_to_granger[band][\"_\".join(band_col.split(\"_\")[:-3])][outcome][\"mean\"] = outcome_df[band_col].mean() \n",
    "            region_pair_to_outcome_to_granger[band][\"_\".join(band_col.split(\"_\")[:-3])][outcome][\"sem\"] = outcome_df[band_col].sem() \n",
    "\n",
    "\n"
   ]
  },
  {
   "cell_type": "code",
   "execution_count": null,
   "metadata": {},
   "outputs": [],
   "source": [
    "BAND_TO_ALL_COL[band]"
   ]
  },
  {
   "cell_type": "raw",
   "metadata": {},
   "source": [
    "for band, frequency in BAND_TO_FREQ.items(): \n",
    "    # Convert the nested dictionary to a DataFrame\n",
    "    data = []\n",
    "    for group_name, group_data in region_pair_to_outcome_to_granger[band].items():\n",
    "        for bar_name, bar_dict in group_data.items():\n",
    "            data.append({\"Group\": group_name, \"Bar\": bar_name, \"granger\": bar_dict[\"mean\"], \"sem\": bar_dict[\"sem\"]})\n",
    "    df = pd.DataFrame(data).sort_values(by=[\"Group\", \"Bar\"])\n",
    "    df[\"color\"] = df[\"Bar\"].map(OUTCOME_TO_COLOR)\n",
    "    \n",
    "    # Create barplot\n",
    "    ax = sns.barplot(x='Group', y='granger', hue='Bar', data=df, palette=df[\"color\"], ci=None)\n",
    "    \n",
    "    # Adding error bars\n",
    "    groups = df['Group'].unique()\n",
    "    bars_per_group = df['Bar'].nunique()\n",
    "    bar_width = 0.8 / bars_per_group\n",
    "    x_positions = []\n",
    "    \n",
    "    for i, group in enumerate(groups):\n",
    "        num_bars = df[df['Group'] == group].shape[0]\n",
    "        group_positions = np.linspace(i - bar_width*(num_bars-1)/2, i + bar_width*(num_bars-1)/2, num_bars)\n",
    "        x_positions.extend(group_positions)\n",
    "\n",
    "        for pos, bar in zip(group_positions, group_data['Bar']):\n",
    "            height = group_data[group_data['Bar'] == bar]['granger']\n",
    "            error = group_data[group_data['Bar'] == bar]['sem']\n",
    "            plt.errorbar(pos, height, yerr=error, color='black', capsize=3, fmt='none', zorder=10)\n",
    "\n",
    "    \n",
    "    plt.xticks(rotation=90)\n",
    "    plt.xlabel(\"Brain region pairs\")\n",
    "    plt.ylabel(\"Averaged {} granger\".format(band))\n",
    "    plt.legend(title=\"Trial Conditions\", loc=\"lower left\", ncol=4)\n",
    "    plt.title(\"Averaged {} granger\".format(band))\n",
    "    plt.tight_layout()\n",
    "    plt.grid()\n",
    "    plt.ylim(0,1)\n",
    "    \n",
    "    # plt.savefig(\"./proc/granger/all_zscored_{}_lfp_power_granger.png\".format(band))\n",
    "    # Show the plot\n",
    "    plt.show()"
   ]
  },
  {
   "cell_type": "code",
   "execution_count": null,
   "metadata": {},
   "outputs": [],
   "source": [
    "import matplotlib"
   ]
  },
  {
   "cell_type": "code",
   "execution_count": null,
   "metadata": {},
   "outputs": [],
   "source": [
    "font = {'weight' : 'bold',\n",
    "        'size'   : 36}\n",
    "\n",
    "matplotlib.rc('font', **font)"
   ]
  },
  {
   "cell_type": "code",
   "execution_count": null,
   "metadata": {
    "scrolled": true
   },
   "outputs": [],
   "source": [
    "for band, frequency in BAND_TO_FREQ.items(): \n",
    "    # Convert the nested dictionary to a DataFrame\n",
    "    data = []\n",
    "    for group_name, group_data in region_pair_to_outcome_to_granger[band].items():\n",
    "        for bar_name, bar_dict in group_data.items():\n",
    "            data.append({\"Group\": group_name, \"Bar\": bar_name, \"granger\": bar_dict[\"mean\"], \"sem\": bar_dict[\"sem\"]})\n",
    "    df = pd.DataFrame(data).sort_values(by=[\"Group\", \"Bar\"])\n",
    "    df[\"color\"] = df[\"Bar\"].map(OUTCOME_TO_COLOR)    \n",
    "    fig, ax = plt.subplots(figsize=(24,12))\n",
    "    \n",
    "    \n",
    "    # Create barplot\n",
    "    ax = sns.barplot(x='Group', y='granger', hue='Bar', data=df, palette=df[\"color\"], ci=None)\n",
    "    \n",
    "    # Adding error bars\n",
    "    groups = df['Group'].unique()\n",
    "    bars_per_group = df['Bar'].nunique()\n",
    "    bar_width = 0.8 / bars_per_group  # the width of the bars\n",
    "    x_positions = []  # this will store the x positions for the error bars\n",
    "\n",
    "    for i, group in enumerate(groups):\n",
    "        group_data = df[df['Group'] == group]  # filter the dataframe for the specific group\n",
    "        num_bars = group_data.shape[0]  # get the number of bars for this group\n",
    "        group_positions = np.linspace(i - bar_width*(num_bars-1)/2, i + bar_width*(num_bars-1)/2, num_bars)\n",
    "        x_positions.extend(group_positions)  # add these positions to the list\n",
    "\n",
    "        for pos, (idx, row) in zip(group_positions, group_data.iterrows()):\n",
    "            height = row['granger']\n",
    "            error = row['sem']\n",
    "            plt.errorbar(pos, height, yerr=error, color='black', capsize=2, fmt='none', zorder=10)\n",
    "    \n",
    "    plt.xticks(rotation=90)\n",
    "    plt.xlabel(\"Brain region pairs\", fontsize=40)\n",
    "    plt.ylabel(\"{} granger\".format(band.title()), fontsize=40)\n",
    "    plt.legend(title=\"Trial Conditions\", loc=\"lower left\", ncol=4)\n",
    "    plt.title(\"{} granger\".format(band.title()), fontsize=40)\n",
    "    plt.tight_layout()\n",
    "    plt.grid()\n",
    "    plt.ylim(0,0.5)\n",
    "    # ax.get_legend().remove()\n",
    "\n",
    "    plt.savefig(\"./proc/granger/all_zscored_{}_lfp_power_granger.png\".format(band))\n",
    "    # Show the plot\n",
    "    plt.show()"
   ]
  },
  {
   "cell_type": "code",
   "execution_count": null,
   "metadata": {},
   "outputs": [],
   "source": [
    "trial_outcome_pairs = (\"win\", \"lose\"), (\"win\", \"rewarded\"), (\"lose\", \"omission\")"
   ]
  },
  {
   "cell_type": "code",
   "execution_count": null,
   "metadata": {},
   "outputs": [],
   "source": [
    "for band, frequency in BAND_TO_FREQ.items():\n",
    "    print(band)"
   ]
  },
  {
   "cell_type": "code",
   "execution_count": null,
   "metadata": {},
   "outputs": [],
   "source": [
    "MERGED_LFP_AND_SLEAP.columns"
   ]
  },
  {
   "cell_type": "code",
   "execution_count": null,
   "metadata": {},
   "outputs": [],
   "source": [
    "MERGED_LFP_AND_SLEAP[\"trial_outcome\"].unique()"
   ]
  },
  {
   "cell_type": "code",
   "execution_count": null,
   "metadata": {},
   "outputs": [],
   "source": [
    "region_to_mannwhitneyu = defaultdict(dict)\n",
    "region_to_mannwhitneyu = []\n",
    "\n",
    "for band, frequency in BAND_TO_FREQ.items():\n",
    "    print(band)\n",
    "    for region_col in [col for col in MERGED_LFP_AND_SLEAP.columns if band in col]:\n",
    "        print(region_col)  \n",
    "        for outcome_pair in trial_outcome_pairs:\n",
    "            outcome_1_granger = MERGED_LFP_AND_SLEAP[MERGED_LFP_AND_SLEAP[\"trial_outcome\"] == outcome_pair[0]][region_col].dropna()\n",
    "            outcome_2_granger = MERGED_LFP_AND_SLEAP[MERGED_LFP_AND_SLEAP[\"trial_outcome\"] == outcome_pair[1]][region_col].dropna()\n",
    "            statistic, p_value = mannwhitneyu(outcome_1_granger, outcome_2_granger, alternative='two-sided')\n",
    "            region_to_mannwhitneyu.append({\"band\": band, \"region\": region_col, \"p_value\": p_value, \"statistic\": statistic, \"outcome\": outcome_pair})\n",
    "            \n",
    "            # region_to_mannwhitneyu[region_col][outcome_pair] = p_value\n",
    "            # print(region_col)\n",
    "    \n",
    "    \n",
    "    # for outcome in MERGED_LFP_AND_SLEAP[GROUPINGS].unique():\n",
    "    #     outcome_df = MERGED_LFP_AND_SLEAP[MERGED_LFP_AND_SLEAP[GROUPINGS] == outcome].copy()\n",
    "    #     for band_col in BAND_TO_ALL_COL[band]:\n",
    "    #         region_pair_to_outcome_to_granger[band][\"_\".join(band_col.split(\"_\")[:-3])][outcome][\"mean\"] = outcome_df[band_col].mean() \n",
    "    #         region_pair_to_outcome_to_granger[band][\"_\".join(band_col.split(\"_\")[:-3])][outcome][\"sem\"] = outcome_df[band_col].sem() \n",
    "\n",
    "\n"
   ]
  },
  {
   "cell_type": "code",
   "execution_count": null,
   "metadata": {},
   "outputs": [],
   "source": [
    "granger_mannwhitneyu = pd.DataFrame(region_to_mannwhitneyu)"
   ]
  },
  {
   "cell_type": "code",
   "execution_count": null,
   "metadata": {
    "scrolled": true
   },
   "outputs": [],
   "source": [
    "granger_mannwhitneyu[granger_mannwhitneyu[\"p_value\"] <= 0.001/3].sort_values([\"p_value\", \"region\"], ascending=True)"
   ]
  },
  {
   "cell_type": "code",
   "execution_count": null,
   "metadata": {},
   "outputs": [],
   "source": [
    "MERGED_LFP_AND_SLEAP = MERGED_LFP_AND_SLEAP.drop(columns=\"functional_graph\", errors=\"ignore\")"
   ]
  },
  {
   "cell_type": "code",
   "execution_count": null,
   "metadata": {},
   "outputs": [],
   "source": [
    "MERGED_LFP_AND_SLEAP.to_pickle(\"./proc/MERGED_LFP_AND_SLEAP.pkl\")"
   ]
  },
  {
   "cell_type": "code",
   "execution_count": null,
   "metadata": {},
   "outputs": [],
   "source": [
    "MERGED_LFP_AND_SLEAP"
   ]
  },
  {
   "cell_type": "code",
   "execution_count": null,
   "metadata": {},
   "outputs": [],
   "source": [
    "for col in MERGED_LFP_AND_SLEAP:\n",
    "    print(col)"
   ]
  },
  {
   "cell_type": "markdown",
   "metadata": {},
   "source": [
    "# Network Analysis"
   ]
  },
  {
   "cell_type": "code",
   "execution_count": null,
   "metadata": {},
   "outputs": [],
   "source": [
    "raise ValueError()"
   ]
  },
  {
   "cell_type": "code",
   "execution_count": null,
   "metadata": {
    "scrolled": true
   },
   "outputs": [],
   "source": [
    "feature_columns = [col for col in MERGED_LFP_AND_SLEAP.columns if \"averaged\" in col and \"coherence\" in col or \"averaged\" in col and \"granger\" in col]"
   ]
  },
  {
   "cell_type": "code",
   "execution_count": null,
   "metadata": {},
   "outputs": [],
   "source": [
    "feature_columns = [col for col in MERGED_LFP_AND_SLEAP.columns if \"gamma\" in col]\n",
    "feature_columns = [col for col in MERGED_LFP_AND_SLEAP.columns if \"averaged\" in col]"
   ]
  },
  {
   "cell_type": "code",
   "execution_count": null,
   "metadata": {},
   "outputs": [],
   "source": [
    "feature_columns"
   ]
  },
  {
   "cell_type": "code",
   "execution_count": null,
   "metadata": {},
   "outputs": [],
   "source": [
    "import networkx as nx\n"
   ]
  },
  {
   "cell_type": "code",
   "execution_count": null,
   "metadata": {},
   "outputs": [],
   "source": [
    "from sklearn.preprocessing import StandardScaler"
   ]
  },
  {
   "cell_type": "code",
   "execution_count": null,
   "metadata": {},
   "outputs": [],
   "source": [
    "import numpy as np"
   ]
  },
  {
   "cell_type": "code",
   "execution_count": null,
   "metadata": {},
   "outputs": [],
   "source": [
    "from sklearn import datasets\n",
    "from sklearn.tree import DecisionTreeClassifier\n",
    "from sklearn.model_selection import KFold, cross_val_score\n",
    "\n",
    "# importing random forest classifier from assemble module \n",
    "from sklearn.ensemble import RandomForestClassifier \n"
   ]
  },
  {
   "cell_type": "code",
   "execution_count": null,
   "metadata": {},
   "outputs": [],
   "source": [
    "from sklearn.preprocessing import StandardScaler\n"
   ]
  },
  {
   "cell_type": "code",
   "execution_count": null,
   "metadata": {},
   "outputs": [],
   "source": [
    "from sklearn.model_selection import train_test_split"
   ]
  },
  {
   "cell_type": "code",
   "execution_count": null,
   "metadata": {},
   "outputs": [],
   "source": [
    "def get_region_network(row, columns, low_index=0, high_index=1):\n",
    "    directed_graph = nx.DiGraph()\n",
    "    for col in columns:\n",
    "        region_1 = col.split(\"_\")[0]\n",
    "        region_2 = col.split(\"_\")[1]\n",
    "        directed_graph.add_edge(region_1, region_2, weight=np.mean(row[col][low_index:high_index]))\n",
    "    return directed_graph"
   ]
  },
  {
   "cell_type": "raw",
   "metadata": {},
   "source": [
    "granger_df[\"gamma_network\"] = granger_df.apply(lambda x: get_region_network(x, feature_columns, low_index=30, high_index=90), axis=1)\n",
    "granger_df[\"gamma_adjacency_matrix\"] = granger_df.apply(lambda x: np.array(nx.adjacency_matrix(x[\"gamma_network\"]).todense()).flatten(), axis=1)\n",
    "granger_df[\"gamma_weights\"] = granger_df.apply(lambda x: x[\"gamma_network\"].degree(weight='weight'), axis=1)"
   ]
  },
  {
   "cell_type": "raw",
   "metadata": {},
   "source": [
    "granger_df = granger_df[granger_df[\"trial_outcome\"].isin([\"win\", \"lose\"])]\n",
    "# granger_df = granger_df[granger_df[\"trial_outcome\"].isin([\"win\", \"rewarded\"])]\n",
    "# granger_df = granger_df[granger_df[\"trial_outcome\"].isin([\"lose\", \"rewarded\"])]"
   ]
  },
  {
   "cell_type": "raw",
   "metadata": {
    "scrolled": true
   },
   "source": [
    "network_array = np.array(granger_df[\"gamma_adjacency_matrix\"].tolist())"
   ]
  },
  {
   "cell_type": "code",
   "execution_count": null,
   "metadata": {},
   "outputs": [],
   "source": [
    "network_df = MERGED_LFP_AND_SLEAP[MERGED_LFP_AND_SLEAP[\"trial_outcome\"].isin([\"win\", \"lose\"])]\n"
   ]
  },
  {
   "cell_type": "code",
   "execution_count": null,
   "metadata": {},
   "outputs": [],
   "source": [
    "network_array = network_df[feature_columns]"
   ]
  },
  {
   "cell_type": "raw",
   "metadata": {},
   "source": [
    "network_array = network_array[:, network_array[0] != 0]"
   ]
  },
  {
   "cell_type": "code",
   "execution_count": null,
   "metadata": {},
   "outputs": [],
   "source": [
    "scaler = StandardScaler()\n",
    "scaler.fit(network_array)"
   ]
  },
  {
   "cell_type": "code",
   "execution_count": null,
   "metadata": {},
   "outputs": [],
   "source": [
    "network_array = scaler.transform(network_array)"
   ]
  },
  {
   "cell_type": "code",
   "execution_count": null,
   "metadata": {},
   "outputs": [],
   "source": [
    "non_nan_mask = ~np.isnan(network_array).any(axis=1)"
   ]
  },
  {
   "cell_type": "code",
   "execution_count": null,
   "metadata": {},
   "outputs": [],
   "source": [
    "from sklearn.model_selection import KFold\n"
   ]
  },
  {
   "cell_type": "code",
   "execution_count": null,
   "metadata": {},
   "outputs": [],
   "source": [
    "X_train, X_test, y_train, y_test = train_test_split(network_array[non_nan_mask], network_df[\"trial_outcome\"][non_nan_mask], test_size = 0.20) "
   ]
  },
  {
   "cell_type": "code",
   "execution_count": null,
   "metadata": {},
   "outputs": [],
   "source": [
    "scores=[]\n",
    "kFold=KFold(n_splits=5,shuffle=False)\n",
    "\n",
    "# creating a RF classifier \n",
    "clf = RandomForestClassifier(n_estimators = 100)   \n",
    "for train_index,test_index in kFold.split(network_array[non_nan_mask]):\n",
    "    # print(\"Train Index: \", train_index, \"\\n\")\n",
    "    # print(\"Test Index: \", test_index)\n",
    "    \n",
    "    X_train, X_test, y_train, y_test = network_array[non_nan_mask][train_index], network_array[non_nan_mask][test_index], network_df[\"trial_outcome\"][non_nan_mask].values[train_index], network_df[\"trial_outcome\"][non_nan_mask].values[test_index]\n",
    "\n",
    "    # Training the model on the training dataset \n",
    "    # fit function is used to train the model using the training sets as parameters \n",
    "    clf.fit(X_train, y_train) \n",
    "    scores.append(clf.score(X_test,y_test))\n",
    "print(np.mean(scores))\n",
    "# 0.9393939393939394\n"
   ]
  },
  {
   "cell_type": "code",
   "execution_count": null,
   "metadata": {},
   "outputs": [],
   "source": [
    "scores"
   ]
  },
  {
   "cell_type": "code",
   "execution_count": null,
   "metadata": {},
   "outputs": [],
   "source": [
    "\n",
    "# creating a RF classifier \n",
    "clf = RandomForestClassifier(n_estimators = 100)   \n",
    "  \n",
    "# Training the model on the training dataset \n",
    "# fit function is used to train the model using the training sets as parameters \n",
    "clf.fit(X_train, y_train) \n",
    "  \n",
    "# performing predictions on the test dataset \n",
    "y_pred = clf.predict(X_test) \n",
    "  \n",
    "# metrics are used to find accuracy or error \n",
    "from sklearn import metrics   \n",
    "print() \n",
    "  \n",
    "# using metrics module for accuracy calculation \n",
    "print(\"ACCURACY OF THE MODEL: \", metrics.accuracy_score(y_test, y_pred)) "
   ]
  },
  {
   "cell_type": "code",
   "execution_count": null,
   "metadata": {},
   "outputs": [],
   "source": [
    "importances = clf.feature_importances_\n",
    "std = np.std([tree.feature_importances_ for tree in clf.estimators_], axis=0)"
   ]
  },
  {
   "cell_type": "code",
   "execution_count": null,
   "metadata": {},
   "outputs": [],
   "source": [
    "std"
   ]
  },
  {
   "cell_type": "code",
   "execution_count": null,
   "metadata": {},
   "outputs": [],
   "source": [
    "import matplotlib.pyplot as plt"
   ]
  },
  {
   "cell_type": "code",
   "execution_count": null,
   "metadata": {},
   "outputs": [],
   "source": [
    "forest_importances = pd.DataFrame(importances, index=feature_columns).sort_values(0, ascending=False).reset_index()\n",
    "forest_importances = forest_importances.rename(columns={0: \"mdi\"})"
   ]
  },
  {
   "cell_type": "code",
   "execution_count": null,
   "metadata": {},
   "outputs": [],
   "source": [
    "forest_importances[\"brain_regions\"] = forest_importances[\"index\"].apply(lambda x: x.split(\"_\")[:2])\n",
    "forest_importances[\"measure\"] = forest_importances[\"index\"].apply(lambda x: x.split(\"_\")[-1])\n",
    "forest_importances[\"band\"] = forest_importances[\"index\"].apply(lambda x: x.split(\"_\")[-2])"
   ]
  },
  {
   "cell_type": "code",
   "execution_count": null,
   "metadata": {},
   "outputs": [],
   "source": [
    "forest_importances = forest_importances.iloc[:20]"
   ]
  },
  {
   "cell_type": "code",
   "execution_count": null,
   "metadata": {},
   "outputs": [],
   "source": [
    "font = {'weight' : 'bold',\n",
    "        'size'   : 12}\n",
    "\n",
    "matplotlib.rc('font', **font)"
   ]
  },
  {
   "cell_type": "code",
   "execution_count": null,
   "metadata": {},
   "outputs": [],
   "source": [
    "BAND_TO_COLOR = {\"theta\": \"green\", \"beta\": \"blue\", \"gamma\": \"red\"}"
   ]
  },
  {
   "cell_type": "code",
   "execution_count": null,
   "metadata": {},
   "outputs": [],
   "source": [
    "MEASURE_TO_PATTERN = {\"granger\": \"o\", \"coherence\": \"\"}"
   ]
  },
  {
   "cell_type": "code",
   "execution_count": null,
   "metadata": {},
   "outputs": [],
   "source": [
    "forest_importances[\"color\"] = forest_importances[\"band\"].map(BAND_TO_COLOR)\n",
    "forest_importances[\"pattern\"] = forest_importances[\"measure\"].map(MEASURE_TO_PATTERN)"
   ]
  },
  {
   "cell_type": "code",
   "execution_count": null,
   "metadata": {},
   "outputs": [],
   "source": [
    "forest_importances"
   ]
  },
  {
   "cell_type": "code",
   "execution_count": null,
   "metadata": {},
   "outputs": [],
   "source": [
    "from collections import OrderedDict"
   ]
  },
  {
   "cell_type": "code",
   "execution_count": null,
   "metadata": {},
   "outputs": [],
   "source": [
    "for index, row in forest_importances.iterrows():\n",
    "    plt.bar(row[\"index\"], row[\"mdi\"], color=row[\"color\"], label=\"{} {}\".format(row[\"band\"], row[\"measure\"]), hatch=row[\"pattern\"])\n",
    "\n",
    "plt.xticks(fontsize=10, rotation=90)\n",
    "handles, labels = plt.gca().get_legend_handles_labels()\n",
    "by_label = OrderedDict(zip(labels, handles))\n",
    "plt.legend(by_label.values(), by_label.keys())\n",
    "\n",
    "plt.title(\"Feature importances for winning/losing\", fontsize=20)\n",
    "plt.ylabel(\"Mean decrease in impurity\", fontsize=20)\n",
    "# plt.tight_layout()\n",
    "plt.savefig(\"./proc/network/rf_feature_importance.png\")\n",
    "plt.show()"
   ]
  },
  {
   "cell_type": "code",
   "execution_count": null,
   "metadata": {},
   "outputs": [],
   "source": [
    "forest_importances.groupby([\"measure\", \"band\"])[\"mdi\"].mean()"
   ]
  },
  {
   "cell_type": "code",
   "execution_count": null,
   "metadata": {},
   "outputs": [],
   "source": [
    "from grakel import GraphKernel"
   ]
  },
  {
   "cell_type": "code",
   "execution_count": null,
   "metadata": {},
   "outputs": [],
   "source": [
    "from grakel import Graph"
   ]
  },
  {
   "cell_type": "code",
   "execution_count": null,
   "metadata": {},
   "outputs": [],
   "source": [
    "edges = {(1, 2): 1, (1, 3): 1, (2, 1): 1, (3, 1): 1}\n",
    "edge_attributes = {(1, 2): [0.2, 0.8, 1.3], (1, 3): [1.1, 0.1, 0.7], (2, 1): [0.2, 0.8, 1.3], (3, 1): [1.1, 0.1, 0.7]}\n",
    "G = Graph(edges, edge_labels=edge_attributes)"
   ]
  },
  {
   "cell_type": "code",
   "execution_count": null,
   "metadata": {},
   "outputs": [],
   "source": [
    "trial_trace_columns = sorted([col.split(\"_\")[0] for col in MERGED_LFP_AND_SLEAP.columns if \"trial_lfp_trace\" in col])\n"
   ]
  },
  {
   "cell_type": "code",
   "execution_count": null,
   "metadata": {},
   "outputs": [],
   "source": [
    "trial_brain_region_pairs = generate_pairs(trial_trace_columns)\n"
   ]
  },
  {
   "cell_type": "code",
   "execution_count": null,
   "metadata": {
    "scrolled": true
   },
   "outputs": [],
   "source": [
    "trial_brain_region_pairs"
   ]
  },
  {
   "cell_type": "code",
   "execution_count": null,
   "metadata": {},
   "outputs": [],
   "source": [
    "\n",
    "\n",
    "from itertools import product"
   ]
  },
  {
   "cell_type": "code",
   "execution_count": null,
   "metadata": {},
   "outputs": [],
   "source": []
  },
  {
   "cell_type": "code",
   "execution_count": null,
   "metadata": {},
   "outputs": [],
   "source": [
    "feature_df = pd.DataFrame(feature_columns, columns=[\"index\"])"
   ]
  },
  {
   "cell_type": "code",
   "execution_count": null,
   "metadata": {},
   "outputs": [],
   "source": [
    "feature_df = pd.DataFrame(feature_columns, columns=[\"index\"])\n",
    "feature_df[\"brain_regions\"] = feature_df[\"index\"].apply(lambda x: x.split(\"_\")[:2])\n",
    "feature_df[\"measure\"] = feature_df[\"index\"].apply(lambda x: x.split(\"_\")[-1])\n",
    "feature_df[\"band\"] = feature_df[\"index\"].apply(lambda x: x.split(\"_\")[-2])"
   ]
  },
  {
   "cell_type": "code",
   "execution_count": null,
   "metadata": {},
   "outputs": [],
   "source": [
    "feature_df"
   ]
  },
  {
   "cell_type": "code",
   "execution_count": null,
   "metadata": {},
   "outputs": [],
   "source": [
    "feature_df[\"brain_regions\"].str.contains(region_1)"
   ]
  },
  {
   "cell_type": "code",
   "execution_count": null,
   "metadata": {
    "scrolled": true
   },
   "outputs": [],
   "source": [
    "edge_attributes"
   ]
  },
  {
   "cell_type": "code",
   "execution_count": null,
   "metadata": {},
   "outputs": [],
   "source": [
    "MERGED_LFP_AND_SLEAP[\"LH_BLA_averaged_theta_granger\"]"
   ]
  },
  {
   "cell_type": "code",
   "execution_count": null,
   "metadata": {},
   "outputs": [],
   "source": [
    "def create_functional_graph(row, columns, brain_region_pairs=None, measures=None, bands=None):\n",
    "    \"\"\"\n",
    "    \"\"\"\n",
    "    if brain_region_pairs is None:\n",
    "        brain_region_pairs = [('BLA', 'LH'),\n",
    "         ('BLA', 'MD'),\n",
    "         ('BLA', 'mPFC'),\n",
    "         ('BLA', 'vHPC'),\n",
    "         ('LH', 'MD'),\n",
    "         ('LH', 'mPFC'),\n",
    "         ('LH', 'vHPC'),\n",
    "         ('MD', 'mPFC'),\n",
    "         ('MD', 'vHPC'),\n",
    "         ('mPFC', 'vHPC')]\n",
    "\n",
    "    if measures is None:\n",
    "        measures = [\"coherence\", \"granger\"]\n",
    "\n",
    "    if bands is None:\n",
    "        bands = [\"theta\", \"beta\", \"gamma\"]\n",
    "    try:\n",
    "        feature_df = pd.DataFrame(columns, columns=[\"index\"])\n",
    "        feature_df[\"brain_regions\"] = feature_df[\"index\"].apply(lambda x: x.split(\"_\")[:2])\n",
    "        feature_df[\"measure\"] = feature_df[\"index\"].apply(lambda x: x.split(\"_\")[-1])\n",
    "        feature_df[\"band\"] = feature_df[\"index\"].apply(lambda x: x.split(\"_\")[-2])\n",
    "        \n",
    "        edges = {}\n",
    "        edge_attributes = {}\n",
    "        all_columns = []\n",
    "        for region_1, region_2 in brain_region_pairs:\n",
    "            # print(region_1)\n",
    "            # print(region_2)\n",
    "            edges[(region_1, region_2)] = 1\n",
    "            edges[(region_2, region_1)] = 1\n",
    "            edge_attributes[(region_1, region_2)] = []\n",
    "            edge_attributes[(region_2, region_1)] = []\n",
    "            for measure in measures:\n",
    "                for band in bands:\n",
    "                    for col in feature_df[(feature_df[\"band\"] == band) & (feature_df[\"measure\"] == measure) & (feature_df[\"brain_regions\"].apply(lambda x: region_1 in x)) & ((feature_df[\"brain_regions\"].apply(lambda x: region_2 in x)))][\"index\"]:\n",
    "                        # print(col)\n",
    "                        reg_1 = col.split(\"_\")[0]\n",
    "                        reg_2 = col.split(\"_\")[1]\n",
    "                        if \"coherence\" in col:\n",
    "                            # print(reg_2, reg_1)\n",
    "                            edge_attributes[(reg_2, reg_1)].append(row[col])      \n",
    "                        # print(reg_1, reg_2)\n",
    "                        edge_attributes[(reg_1, reg_2)].append(row[col])\n",
    "                        all_columns.append(col)\n",
    "        return all_columns, Graph(edges, edge_labels=edge_attributes)\n",
    "    except Exception as e: \n",
    "        print(e)   \n",
    "        return np.nan"
   ]
  },
  {
   "cell_type": "code",
   "execution_count": null,
   "metadata": {},
   "outputs": [],
   "source": [
    "edges = {(1, 2): 1, (1, 3): 1, (2, 1): 1, (3, 1): 1}\n",
    "edge_attributes = {(1, 2): [0.2, 0.8, 1.3], (1, 3): [1.1, 0.1, 0.7], (2, 1): [0.2, 0.8, 1.3], (3, 1): [1.1, 0.1, 0.7]}\n",
    "G = Graph(edges, edge_labels=edge_attributes)"
   ]
  },
  {
   "cell_type": "code",
   "execution_count": null,
   "metadata": {},
   "outputs": [],
   "source": [
    "G.edge_dictionary"
   ]
  },
  {
   "cell_type": "code",
   "execution_count": null,
   "metadata": {},
   "outputs": [],
   "source": [
    "MERGED_LFP_AND_SLEAP[\"BLA_LH_averaged_theta_coherence\"]"
   ]
  },
  {
   "cell_type": "code",
   "execution_count": null,
   "metadata": {},
   "outputs": [],
   "source": [
    "MERGED_LFP_AND_SLEAP[\"functional_graph\"] = MERGED_LFP_AND_SLEAP.apply(lambda x: create_functional_graph(x, feature_columns), axis=1)"
   ]
  },
  {
   "cell_type": "code",
   "execution_count": null,
   "metadata": {},
   "outputs": [],
   "source": [
    "MERGED_LFP_AND_SLEAP[\"all_columns\"] = MERGED_LFP_AND_SLEAP[\"functional_graph\"].apply(lambda x: x[0])\n",
    "MERGED_LFP_AND_SLEAP[\"functional_graph\"] = MERGED_LFP_AND_SLEAP[\"functional_graph\"].apply(lambda x: x[1])"
   ]
  },
  {
   "cell_type": "code",
   "execution_count": null,
   "metadata": {},
   "outputs": [],
   "source": [
    "MERGED_LFP_AND_SLEAP[\"functional_graph\"].iloc[0].edge_dictionary"
   ]
  },
  {
   "cell_type": "code",
   "execution_count": null,
   "metadata": {},
   "outputs": [],
   "source": [
    "from grakel.kernels import WeisfeilerLehman, VertexHistogram\n",
    "wl_kernel = WeisfeilerLehman(n_iter=5, normalize=True, base_graph_kernel=VertexHistogram)"
   ]
  },
  {
   "cell_type": "code",
   "execution_count": null,
   "metadata": {},
   "outputs": [],
   "source": [
    "from grakel.kernels import neighborhood_subgraph_pairwise_distance"
   ]
  },
  {
   "cell_type": "code",
   "execution_count": null,
   "metadata": {},
   "outputs": [],
   "source": [
    "kernel = neighborhood_subgraph_pairwise_distance"
   ]
  },
  {
   "cell_type": "code",
   "execution_count": null,
   "metadata": {},
   "outputs": [],
   "source": [
    "kernel = kernel.NeighborhoodSubgraphPairwiseDistance(n_jobs=5, normalize=True)"
   ]
  },
  {
   "cell_type": "code",
   "execution_count": null,
   "metadata": {},
   "outputs": [],
   "source": [
    "kernel = WeisfeilerLehman(n_iter=5, normalize=True, base_graph_kernel=VertexHistogram)"
   ]
  },
  {
   "cell_type": "code",
   "execution_count": null,
   "metadata": {},
   "outputs": [],
   "source": [
    "from grakel.datasets import fetch_dataset\n",
    "MUTAG = fetch_dataset(\"MUTAG\", verbose=False)\n",
    "G = MUTAG.data\n",
    "y = MUTAG.target"
   ]
  },
  {
   "cell_type": "code",
   "execution_count": null,
   "metadata": {},
   "outputs": [],
   "source": [
    "from sklearn.model_selection import train_test_split\n",
    "G_train, G_test, y_train, y_test = train_test_split(MERGED_LFP_AND_SLEAP[\"functional_graph\"], MERGED_LFP_AND_SLEAP[\"trial_outcome\"], test_size=0.3, random_state=42)"
   ]
  },
  {
   "cell_type": "code",
   "execution_count": null,
   "metadata": {},
   "outputs": [],
   "source": [
    "from sklearn.model_selection import train_test_split\n",
    "G_train, G_test, y_train, y_test = train_test_split(G, y, test_size=0.1, random_state=42)"
   ]
  },
  {
   "cell_type": "code",
   "execution_count": null,
   "metadata": {},
   "outputs": [],
   "source": [
    "example = G_train[0]"
   ]
  },
  {
   "cell_type": "code",
   "execution_count": null,
   "metadata": {},
   "outputs": [],
   "source": [
    "example.node_labels"
   ]
  },
  {
   "cell_type": "code",
   "execution_count": null,
   "metadata": {},
   "outputs": [],
   "source": [
    "import networkx as nx\n",
    "\n",
    "G = nx.Graph()\n",
    "# Add nodes\n",
    "G.add_node(1)\n",
    "G.add_node(2)\n",
    "G.add_node(3)\n",
    "\n",
    "# Add weighted edges\n",
    "G.add_edge(1, 2, weight=0.5)\n",
    "G.add_edge(1, 2, weight=0.5)\n",
    "G.add_edge(1, 2, weight=0.5)\n",
    "\n",
    "G.add_edge(2, 3, weight=1.5)\n",
    "G.add_edge(1, 3, weight=1.0)"
   ]
  },
  {
   "cell_type": "code",
   "execution_count": null,
   "metadata": {},
   "outputs": [],
   "source": [
    "graph = [(dict(G_train[0].nodes(data=True)), dict(G_train[0].edges(data=True)))]"
   ]
  },
  {
   "cell_type": "code",
   "execution_count": null,
   "metadata": {
    "scrolled": true
   },
   "outputs": [],
   "source": [
    "K_train = kernel.fit_transform(G_train)"
   ]
  },
  {
   "cell_type": "code",
   "execution_count": null,
   "metadata": {},
   "outputs": [],
   "source": [
    "example.edge_dictionary"
   ]
  },
  {
   "cell_type": "code",
   "execution_count": null,
   "metadata": {},
   "outputs": [],
   "source": [
    "neighborhood_subgraph_pairwise_distance"
   ]
  },
  {
   "cell_type": "code",
   "execution_count": null,
   "metadata": {},
   "outputs": [],
   "source": [
    "example = G_train[0]"
   ]
  },
  {
   "cell_type": "code",
   "execution_count": null,
   "metadata": {
    "scrolled": true
   },
   "outputs": [],
   "source": [
    "G[0]"
   ]
  },
  {
   "cell_type": "code",
   "execution_count": null,
   "metadata": {},
   "outputs": [],
   "source": [
    "edges = {}\n",
    "edge_attributes = {}\n",
    "all_columns = []\n",
    "for region_1, region_2 in trial_brain_region_pairs:\n",
    "    print(region_1)\n",
    "    print(region_2)\n",
    "    edges[(region_1, region_2)] = 1\n",
    "    edges[(region_2, region_1)] = 1\n",
    "    edge_attributes[(region_1, region_2)] = []\n",
    "    edge_attributes[(region_2, region_1)] = []\n",
    "    for measure in [\"coherence\", \"granger\"]:\n",
    "        for band in BAND_TO_FREQ:\n",
    "            for col in feature_df[(feature_df[\"band\"] == band) & (feature_df[\"measure\"] == measure) & (feature_df[\"brain_regions\"].apply(lambda x: region_1 in x)) & ((feature_df[\"brain_regions\"].apply(lambda x: region_2 in x)))][\"index\"]:\n",
    "                print(col)\n",
    "                reg_1 = col.split(\"_\")[0]\n",
    "                reg_2 = col.split(\"_\")[1]\n",
    "                if \"coherence\" in col:\n",
    "                    print(reg_2, reg_1)\n",
    "                    edge_attributes[(reg_2, reg_1)].append(MERGED_LFP_AND_SLEAP[col].iloc[0])      \n",
    "                print(reg_1, reg_2)\n",
    "                edge_attributes[(reg_1, reg_2)].append(MERGED_LFP_AND_SLEAP[col].iloc[0])\n",
    "                all_columns.append(col)"
   ]
  },
  {
   "cell_type": "code",
   "execution_count": null,
   "metadata": {},
   "outputs": [],
   "source": [
    "edge_attributes"
   ]
  },
  {
   "cell_type": "code",
   "execution_count": null,
   "metadata": {},
   "outputs": [],
   "source": [
    "BAND_TO_FREQ"
   ]
  },
  {
   "cell_type": "code",
   "execution_count": null,
   "metadata": {},
   "outputs": [],
   "source": [
    "feature_columns"
   ]
  },
  {
   "cell_type": "code",
   "execution_count": null,
   "metadata": {},
   "outputs": [],
   "source": [
    "edges"
   ]
  },
  {
   "cell_type": "code",
   "execution_count": null,
   "metadata": {},
   "outputs": [],
   "source": [
    "feature_columns"
   ]
  },
  {
   "cell_type": "code",
   "execution_count": null,
   "metadata": {},
   "outputs": [],
   "source": [
    "pair_base_name"
   ]
  },
  {
   "cell_type": "code",
   "execution_count": null,
   "metadata": {},
   "outputs": [],
   "source": [
    "edges = {(1, 2): 1, (1, 3): 1, (2, 1): 1, (3, 1): 1}\n",
    "edge_attributes = {(1, 2): [0.2, 0.8, 1.3], (1, 3): [1.1, 0.1, 0.7], (2, 1): [0.2, 0.8, 1.3], (3, 1): [1.1, 0.1, 0.7]}\n",
    "G = Graph(edges, edge_labels=edge_attributes)"
   ]
  },
  {
   "cell_type": "code",
   "execution_count": null,
   "metadata": {},
   "outputs": [],
   "source": [
    "MERGED_LFP_AND_SLEAP"
   ]
  },
  {
   "cell_type": "code",
   "execution_count": null,
   "metadata": {},
   "outputs": [],
   "source": []
  },
  {
   "cell_type": "code",
   "execution_count": null,
   "metadata": {},
   "outputs": [],
   "source": [
    "forest_importances.sort_values(0, ascending=False).head(n=25)"
   ]
  },
  {
   "cell_type": "code",
   "execution_count": null,
   "metadata": {},
   "outputs": [],
   "source": [
    "plt.bar(forest_importances.sort_values(0, ascending=False).head(n=25))"
   ]
  },
  {
   "cell_type": "code",
   "execution_count": null,
   "metadata": {},
   "outputs": [],
   "source": [
    "forest_importances = pd.DataFrame(importances, index=feature_columns)\n",
    "\n",
    "fig, ax = plt.subplots()\n",
    "forest_importances.plot.bar(ax=ax, fontsize=5)\n",
    "ax.set_title(\"Feature importances using MDI\\nfor winning/losing with Gamma Granger Causality\", fontsize=10)\n",
    "ax.set_ylabel(\"Mean decrease in impurity\", fontsize=10)\n",
    "fig.tight_layout()\n",
    "plt.savefig(\"./proc/network/rf_feature_importance.png\")"
   ]
  },
  {
   "cell_type": "markdown",
   "metadata": {},
   "source": [
    "# Exporting the power spectra"
   ]
  },
  {
   "cell_type": "code",
   "execution_count": null,
   "metadata": {},
   "outputs": [],
   "source": [
    "raise ValueError()"
   ]
  },
  {
   "cell_type": "code",
   "execution_count": null,
   "metadata": {},
   "outputs": [],
   "source": [
    "trace_columns"
   ]
  },
  {
   "cell_type": "code",
   "execution_count": null,
   "metadata": {},
   "outputs": [],
   "source": [
    "exported_lfp_and_sleap = MERGED_LFP_AND_SLEAP.drop(columns=trace_columns, errors=\"ignore\").copy()\n",
    "exported_lfp_and_sleap = exported_lfp_and_sleap.drop(columns=[col for col in exported_lfp_and_sleap if \"multitaper\" in col], errors=\"ignore\")\n",
    "exported_lfp_and_sleap = exported_lfp_and_sleap.drop(columns=[col for col in exported_lfp_and_sleap if \"thorax_velocity\" in col], errors=\"ignore\")\n",
    "exported_lfp_and_sleap = exported_lfp_and_sleap.drop(columns=[col for col in exported_lfp_and_sleap if \"frequencies\" in col], errors=\"ignore\")\n",
    "exported_lfp_and_sleap = exported_lfp_and_sleap.drop(columns=[col for col in exported_lfp_and_sleap if \"windowed_power\" in col], errors=\"ignore\")\n",
    "exported_lfp_and_sleap = exported_lfp_and_sleap.drop(columns=[col for col in exported_lfp_and_sleap if \"connectivity\" in col], errors=\"ignore\")\n",
    "exported_lfp_and_sleap = exported_lfp_and_sleap.drop(columns=[col for col in exported_lfp_and_sleap if \"spike_interface\" in col], errors=\"ignore\")\n",
    "exported_lfp_and_sleap = exported_lfp_and_sleap.drop(columns=[col for col in exported_lfp_and_sleap if \"index\" in col], errors=\"ignore\")\n",
    "exported_lfp_and_sleap = exported_lfp_and_sleap.drop(columns=[col for col in exported_lfp_and_sleap if \"stamp\" in col], errors=\"ignore\")\n",
    "exported_lfp_and_sleap = exported_lfp_and_sleap.drop(columns=[col for col in exported_lfp_and_sleap if \"box\" in col], errors=\"ignore\")\n",
    "exported_lfp_and_sleap = exported_lfp_and_sleap.drop(columns=[col for col in exported_lfp_and_sleap if \"height\" in col], errors=\"ignore\")\n",
    "exported_lfp_and_sleap = exported_lfp_and_sleap.drop(columns=[col for col in exported_lfp_and_sleap if \"width\" in col], errors=\"ignore\")\n",
    "exported_lfp_and_sleap = exported_lfp_and_sleap.drop(columns=[col for col in exported_lfp_and_sleap if \"ratio\" in col], errors=\"ignore\")\n",
    "exported_lfp_and_sleap = exported_lfp_and_sleap.drop(columns=[col for col in exported_lfp_and_sleap if \"width\" in col], errors=\"ignore\")\n",
    "exported_lfp_and_sleap = exported_lfp_and_sleap.drop(columns=['individual_subj',\n",
    " 'all_subj',\n",
    " 'recording_name',\n",
    " 'track_names',\n",
    " 'subject_id',\n",
    " 'corner_path',\n",
    " 'corner_parts',\n",
    " 'rescaled_locations',\n",
    " 'reward_port'], errors=\"ignore\")\n",
    "# exported_lfp_and_sleap = exported_lfp_and_sleap.drop(columns=[col for col in exported_lfp_and_sleap if \"all_window_power\" in col], errors=\"ignore\")\n",
    "exported_lfp_and_sleap = exported_lfp_and_sleap.drop(columns=[col for col in exported_lfp_and_sleap if \"window_averaged_power\" in col], errors=\"ignore\")\n",
    "exported_lfp_and_sleap = exported_lfp_and_sleap.drop(columns=[col for col in exported_lfp_and_sleap if \"all_power\" in col], errors=\"ignore\")\n",
    "\n",
    "\n",
    "\n"
   ]
  },
  {
   "cell_type": "code",
   "execution_count": null,
   "metadata": {},
   "outputs": [],
   "source": [
    "exported_lfp_and_sleap[\"frequencies\"] = [MERGED_LFP_AND_SLEAP[\"BLA_baseline_frequencies\"].iloc[0] for _ in range(len(exported_lfp_and_sleap))] "
   ]
  },
  {
   "cell_type": "code",
   "execution_count": null,
   "metadata": {},
   "outputs": [],
   "source": [
    "for col in exported_lfp_and_sleap.columns:\n",
    "    print(col)"
   ]
  },
  {
   "cell_type": "code",
   "execution_count": null,
   "metadata": {},
   "outputs": [],
   "source": [
    "exported_lfp_and_sleap.to_pickle(\"./proc/rce_lfp_power_and_velocity_region_col_baselinetrial_row.pkl\")"
   ]
  },
  {
   "cell_type": "code",
   "execution_count": null,
   "metadata": {},
   "outputs": [],
   "source": [
    "raise ValueError()"
   ]
  },
  {
   "cell_type": "markdown",
   "metadata": {},
   "source": [
    "# Reformatting the data"
   ]
  },
  {
   "cell_type": "code",
   "execution_count": null,
   "metadata": {},
   "outputs": [],
   "source": [
    "exported_lfp_and_sleap"
   ]
  },
  {
   "cell_type": "code",
   "execution_count": null,
   "metadata": {},
   "outputs": [],
   "source": [
    "window_averaged_power_columns"
   ]
  },
  {
   "cell_type": "code",
   "execution_count": null,
   "metadata": {},
   "outputs": [],
   "source": [
    "exported_lfp_and_sleap = exported_lfp_and_sleap.drop(columns=[col for col in exported_lfp_and_sleap if \"all_window\" in col], errors=\"ignore\")\n"
   ]
  },
  {
   "cell_type": "code",
   "execution_count": null,
   "metadata": {},
   "outputs": [],
   "source": [
    "exported_lfp_and_sleap = pd.melt(exported_lfp_and_sleap, value_vars=window_averaged_power_columns, value_name=\"power\", id_vars=[col for col in exported_lfp_and_sleap.columns if col not in window_averaged_power_columns], var_name=\"region_and_baseline_or_trial\")\n",
    "\n"
   ]
  },
  {
   "cell_type": "code",
   "execution_count": null,
   "metadata": {},
   "outputs": [],
   "source": [
    "exported_lfp_and_sleap"
   ]
  },
  {
   "cell_type": "code",
   "execution_count": null,
   "metadata": {},
   "outputs": [],
   "source": [
    "exported_lfp_and_sleap[\"brain_region\"] = exported_lfp_and_sleap[\"region_and_baseline_or_trial\"].apply(lambda x: x.split(\"_\")[0].strip())"
   ]
  },
  {
   "cell_type": "code",
   "execution_count": null,
   "metadata": {},
   "outputs": [],
   "source": [
    "exported_lfp_and_sleap[\"trial_or_baseline\"] = exported_lfp_and_sleap[\"region_and_baseline_or_trial\"].apply(lambda x: x.split(\"_\")[1].strip())"
   ]
  },
  {
   "cell_type": "code",
   "execution_count": null,
   "metadata": {},
   "outputs": [],
   "source": [
    "exported_lfp_and_sleap.head()"
   ]
  },
  {
   "cell_type": "code",
   "execution_count": null,
   "metadata": {},
   "outputs": [],
   "source": [
    "exported_lfp_and_sleap = exported_lfp_and_sleap.dropna(subset=\"power\")\n",
    "exported_lfp_and_sleap = exported_lfp_and_sleap[exported_lfp_and_sleap[\"trial_or_baseline\"] == \"trial\"]\n",
    "exported_lfp_and_sleap[\"all_theta_power\"] = exported_lfp_and_sleap[\"power\"].apply(lambda x: x[4:13])\n",
    "exported_lfp_and_sleap[\"all_beta_power\"] = exported_lfp_and_sleap[\"power\"].apply(lambda x: x[13:31])\n",
    "exported_lfp_and_sleap[\"all_gamma_power\"] = exported_lfp_and_sleap[\"power\"].apply(lambda x: x[30:91])\n",
    "exported_lfp_and_sleap[\"mean_theta_power\"] = exported_lfp_and_sleap[\"all_theta_power\"].apply(lambda x: x.mean())\n",
    "exported_lfp_and_sleap[\"mean_beta_power\"] = exported_lfp_and_sleap[\"all_beta_power\"].apply(lambda x: x.mean())\n",
    "exported_lfp_and_sleap[\"mean_gamma_power\"] = exported_lfp_and_sleap[\"all_gamma_power\"].apply(lambda x: x.mean())"
   ]
  },
  {
   "cell_type": "code",
   "execution_count": null,
   "metadata": {},
   "outputs": [],
   "source": [
    "exported_lfp_and_sleap.head()"
   ]
  },
  {
   "cell_type": "code",
   "execution_count": null,
   "metadata": {},
   "outputs": [],
   "source": [
    "exported_lfp_and_sleap"
   ]
  },
  {
   "cell_type": "code",
   "execution_count": null,
   "metadata": {},
   "outputs": [],
   "source": [
    "exported_lfp_and_sleap.to_pickle(\"./proc/rce_velocity_parsed_power_spectra_region_and_baselinetrial_rows.pkl\")"
   ]
  }
 ],
 "metadata": {
  "deepnote": {},
  "deepnote_execution_queue": [],
  "deepnote_notebook_id": "cf8fe3695d074ee7887fdf6459cbf5ce",
  "kernelspec": {
   "display_name": "Python 3 (ipykernel)",
   "language": "python",
   "name": "python3"
  },
  "language_info": {
   "codemirror_mode": {
    "name": "ipython",
    "version": 3
   },
   "file_extension": ".py",
   "mimetype": "text/x-python",
   "name": "python",
   "nbconvert_exporter": "python",
   "pygments_lexer": "ipython3",
   "version": "3.10.13"
  }
 },
 "nbformat": 4,
 "nbformat_minor": 4
}
