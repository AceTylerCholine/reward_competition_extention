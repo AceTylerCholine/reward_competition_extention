{
 "cells": [
  {
   "cell_type": "markdown",
   "metadata": {
    "cell_id": "c3a02adc9e884466bc8c79db549cc3d2",
    "deepnote_cell_type": "text-cell-h1",
    "formattedRanges": [
     {
      "fromCodePoint": 0,
      "marks": {
       "bold": true,
       "underline": true
      },
      "toCodePoint": 17,
      "type": "marks"
     }
    ]
   },
   "source": [
    "# All oscillation analysis"
   ]
  },
  {
   "cell_type": "markdown",
   "metadata": {
    "cell_id": "4546bee655b14a5dbf393161f1228e60",
    "deepnote_cell_type": "text-cell-p",
    "formattedRanges": []
   },
   "source": [
    "Brief 1-2 sentence description of notebook."
   ]
  },
  {
   "cell_type": "code",
   "execution_count": 1,
   "metadata": {},
   "outputs": [],
   "source": [
    "import warnings\n",
    "warnings.filterwarnings('ignore')"
   ]
  },
  {
   "cell_type": "code",
   "execution_count": 2,
   "metadata": {},
   "outputs": [],
   "source": [
    "import os\n",
    "import collections\n",
    "import itertools\n",
    "from collections import defaultdict"
   ]
  },
  {
   "cell_type": "raw",
   "metadata": {},
   "source": [
    "os.environ[\"SPECTRAL_CONNECTIVITY_ENABLE_GPU\"] = \"true\"\n",
    "import cupy as cp"
   ]
  },
  {
   "cell_type": "code",
   "execution_count": 3,
   "metadata": {
    "cell_id": "03b495cefa6a4798a44c7f2e4c6a3ea7",
    "deepnote_cell_type": "code",
    "deepnote_to_be_reexecuted": false,
    "execution_millis": 21,
    "execution_start": 1691424003626,
    "source_hash": null
   },
   "outputs": [],
   "source": [
    "# Imports of all used packages and libraries\n",
    "import numpy as np\n",
    "import pandas as pd\n",
    "from scipy import stats\n",
    "from scipy.stats import mannwhitneyu"
   ]
  },
  {
   "cell_type": "code",
   "execution_count": 4,
   "metadata": {},
   "outputs": [],
   "source": [
    "import matplotlib\n",
    "import matplotlib.colors as mcolors\n",
    "import matplotlib.pyplot as plt\n",
    "import matplotlib.cm as cm\n",
    "import seaborn as sns\n",
    "import colorsys"
   ]
  },
  {
   "cell_type": "code",
   "execution_count": 5,
   "metadata": {},
   "outputs": [],
   "source": [
    "from scipy.stats import linregress"
   ]
  },
  {
   "cell_type": "code",
   "execution_count": 6,
   "metadata": {},
   "outputs": [],
   "source": [
    "from sklearn.metrics import confusion_matrix"
   ]
  },
  {
   "cell_type": "code",
   "execution_count": null,
   "metadata": {},
   "outputs": [],
   "source": []
  },
  {
   "cell_type": "code",
   "execution_count": 7,
   "metadata": {},
   "outputs": [],
   "source": [
    "from spectral_connectivity import Multitaper, Connectivity\n",
    "import spectral_connectivity"
   ]
  },
  {
   "cell_type": "code",
   "execution_count": 8,
   "metadata": {},
   "outputs": [],
   "source": [
    "FONTSIZE = 20"
   ]
  },
  {
   "cell_type": "code",
   "execution_count": 9,
   "metadata": {},
   "outputs": [],
   "source": [
    "font = {'weight' : 'medium',\n",
    "        'size'   : 20}\n",
    "\n",
    "matplotlib.rc('font', **font)"
   ]
  },
  {
   "cell_type": "markdown",
   "metadata": {
    "cell_id": "d290bac2c17940bfbc0f9296beaf70e5",
    "deepnote_cell_type": "text-cell-h2",
    "formattedRanges": []
   },
   "source": [
    "## Inputs & Data"
   ]
  },
  {
   "cell_type": "markdown",
   "metadata": {
    "cell_id": "e528ce19c608425292151930d380f49f",
    "deepnote_cell_type": "text-cell-p",
    "formattedRanges": []
   },
   "source": [
    "Explanation of each input and where it comes from."
   ]
  },
  {
   "cell_type": "code",
   "execution_count": 10,
   "metadata": {
    "cell_id": "6cf83a5811054461a718a71673d09aab",
    "deepnote_cell_type": "code",
    "deepnote_to_be_reexecuted": false,
    "execution_millis": 373,
    "execution_start": 1691424003628,
    "source_hash": null
   },
   "outputs": [],
   "source": [
    "# Inputs and Required data loading\n",
    "# input varaible names are in all caps snake case\n",
    "# Whenever an input changes or is used for processing \n",
    "# the vairables are all lower in snake case\n",
    "OUTPUT_DIR = r\"./proc\" # where data is saved should always be shown in the inputs"
   ]
  },
  {
   "cell_type": "code",
   "execution_count": 11,
   "metadata": {},
   "outputs": [],
   "source": [
    "CHANNEL_MAP_AND_ALL_TRIALS_DF = pd.read_pickle(\"./proc/full_baseline_and_trial_lfp_traces.pkl\")\n",
    "MERGED_TRIALS_AND_VIDEO = pd.read_pickle(\"./proc/trial_SLEAP_and_metadata.pkl\")"
   ]
  },
  {
   "cell_type": "code",
   "execution_count": 12,
   "metadata": {},
   "outputs": [],
   "source": [
    "OUTCOME_TO_COLOR = {'lose': \"red\",\n",
    " 'omission': \"orange\",\n",
    " 'rewarded': \"green\",\n",
    " 'win': \"blue\"}\n",
    "\n",
    "OUTCOME_TO_COLOR = {'lose': \"#951a1d\",\n",
    " 'omission': \"#af780d\",\n",
    " 'rewarded': \"#0499af\",\n",
    " 'win': \"#3853a3\"}"
   ]
  },
  {
   "cell_type": "code",
   "execution_count": 13,
   "metadata": {},
   "outputs": [],
   "source": [
    "OUTCOME_COMPARISONS = {\"win_lose\": (\"win\", \"lose\"), \"lose_omission\": (\"lose\", \"omission\"), \"win_rewarded\": (\"win\", \"rewarded\")}"
   ]
  },
  {
   "cell_type": "code",
   "execution_count": 14,
   "metadata": {},
   "outputs": [],
   "source": [
    "TRIAL_OR_BASELINE_TO_STYLE = {'baseline': \"--\", \"trial\": \"-\"}"
   ]
  },
  {
   "cell_type": "code",
   "execution_count": 15,
   "metadata": {},
   "outputs": [],
   "source": [
    "TIME_HALFBANDWIDTH_PRODUCT = 2\n",
    "TIME_WINDOW_DURATION = 1\n",
    "TIME_WINDOW_STEP = 0.5\n",
    "RESAMPLE_RATE=1000"
   ]
  },
  {
   "cell_type": "code",
   "execution_count": 16,
   "metadata": {},
   "outputs": [],
   "source": [
    "BIN_TO_DISTANCE = {0: \"0 to 5cm\", 1: \"5cm+\"}"
   ]
  },
  {
   "cell_type": "code",
   "execution_count": 17,
   "metadata": {},
   "outputs": [],
   "source": [
    "MIN_DISTANCE = 0\n",
    "MAX_DISTANCE = 5"
   ]
  },
  {
   "cell_type": "code",
   "execution_count": 18,
   "metadata": {},
   "outputs": [],
   "source": [
    "ALL_BANDS = [\"theta\", \"beta\", \"gamma\"]\n",
    "BAND_TO_FREQ = {\"theta\": {\"low_freq\": 6, \"high_freq\": 11}, \"beta\": {\"low_freq\": 20, \"high_freq\": 31}, \"gamma\": {\"low_freq\": 30, \"high_freq\": 51}}\n",
    "BAND_TO_FREQ = {\"theta\": (6,11), \"beta\": (20,31), \"gamma\": (30,51)}"
   ]
  },
  {
   "cell_type": "code",
   "execution_count": 19,
   "metadata": {},
   "outputs": [],
   "source": [
    "GROUPINGS = \"trial_outcome\""
   ]
  },
  {
   "cell_type": "code",
   "execution_count": 20,
   "metadata": {},
   "outputs": [],
   "source": [
    "FONTSIZE=20"
   ]
  },
  {
   "cell_type": "code",
   "execution_count": 21,
   "metadata": {},
   "outputs": [
    {
     "data": {
      "text/html": [
       "<div>\n",
       "<style scoped>\n",
       "    .dataframe tbody tr th:only-of-type {\n",
       "        vertical-align: middle;\n",
       "    }\n",
       "\n",
       "    .dataframe tbody tr th {\n",
       "        vertical-align: top;\n",
       "    }\n",
       "\n",
       "    .dataframe thead th {\n",
       "        text-align: right;\n",
       "    }\n",
       "</style>\n",
       "<table border=\"1\" class=\"dataframe\">\n",
       "  <thead>\n",
       "    <tr style=\"text-align: right;\">\n",
       "      <th></th>\n",
       "      <th>time</th>\n",
       "      <th>recording_dir</th>\n",
       "      <th>recording_file</th>\n",
       "      <th>time_stamp_index</th>\n",
       "      <th>video_file</th>\n",
       "      <th>video_frame</th>\n",
       "      <th>video_number</th>\n",
       "      <th>subject_info</th>\n",
       "      <th>competition_closeness</th>\n",
       "      <th>video_name</th>\n",
       "      <th>...</th>\n",
       "      <th>baseline-trial_subject_thorax-to-agent_distance_chunked</th>\n",
       "      <th>baseline_subject_thorax-to-agent_distance_binned</th>\n",
       "      <th>trial_subject_thorax-to-agent_distance_binned</th>\n",
       "      <th>baseline-trial_subject_thorax-to-agent_distance_binned</th>\n",
       "      <th>baseline_subject-agent_to-reward-port-distance-ratio_chunked</th>\n",
       "      <th>trial_subject-agent_to-reward-port-distance-ratio_chunked</th>\n",
       "      <th>baseline-trial_subject-agent_to-reward-port-distance-ratio_chunked</th>\n",
       "      <th>baseline_subject-agent_to-reward-port-distance-ratio_binned</th>\n",
       "      <th>trial_subject-agent_to-reward-port-distance-ratio_binned</th>\n",
       "      <th>baseline-trial_subject-agent_to-reward-port-distance-ratio_binned</th>\n",
       "    </tr>\n",
       "  </thead>\n",
       "  <tbody>\n",
       "    <tr>\n",
       "      <th>0</th>\n",
       "      <td>4509412</td>\n",
       "      <td>20230617_115521_standard_comp_to_omission_D1_s...</td>\n",
       "      <td>20230617_115521_standard_comp_to_omission_D1_s...</td>\n",
       "      <td>1030879</td>\n",
       "      <td>20230617_115521_standard_comp_to_omission_D1_s...</td>\n",
       "      <td>1029</td>\n",
       "      <td>1.0</td>\n",
       "      <td>1-1_t1b3L_box1</td>\n",
       "      <td>lose_comp</td>\n",
       "      <td>20230617_115521_standard_comp_to_omission_D1_s...</td>\n",
       "      <td>...</td>\n",
       "      <td>[12.65717198847138, 12.683871307928696, 14.880...</td>\n",
       "      <td>[1, 1, 1, 1, 1, 1, 1, 1, 1, 1, 1, 1, 1, 1, 1, ...</td>\n",
       "      <td>[1, 1, 1, 1, 1, 1, 1, 1, 1, 1, 1, 1, 1, 1, 1, ...</td>\n",
       "      <td>[1, 1, 1, 1, 1, 1, 1, 1, 1, 1, 1, 1, 1, 1, 1, ...</td>\n",
       "      <td>[1.0759253122165384, 1.0769129973530136, 1.076...</td>\n",
       "      <td>[8.855775558856838, 8.071331610027782, 6.34917...</td>\n",
       "      <td>[1.0759253122165384, 1.0769129973530136, 1.076...</td>\n",
       "      <td>[0, 0, 0, 0, 0, 0, 0, 0, 0, 0, 0, 0, 1, 1, 1, ...</td>\n",
       "      <td>[1, 1, 1, 1, 0, 0, 0, 1, 1, 1, 1, 0, 0, 0, 0, ...</td>\n",
       "      <td>[0, 0, 0, 0, 0, 0, 0, 0, 0, 0, 0, 0, 1, 1, 1, ...</td>\n",
       "    </tr>\n",
       "    <tr>\n",
       "      <th>1</th>\n",
       "      <td>6909411</td>\n",
       "      <td>20230617_115521_standard_comp_to_omission_D1_s...</td>\n",
       "      <td>20230617_115521_standard_comp_to_omission_D1_s...</td>\n",
       "      <td>3430878</td>\n",
       "      <td>20230617_115521_standard_comp_to_omission_D1_s...</td>\n",
       "      <td>3425</td>\n",
       "      <td>1.0</td>\n",
       "      <td>1-1_t1b3L_box1</td>\n",
       "      <td>win_comp</td>\n",
       "      <td>20230617_115521_standard_comp_to_omission_D1_s...</td>\n",
       "      <td>...</td>\n",
       "      <td>[25.320573976061063, 25.371420577329687, 25.41...</td>\n",
       "      <td>[1, 1, 1, 1, 1, 1, 1, 1, 1, 1, 1, 1, 1, 1, 1, ...</td>\n",
       "      <td>[1, 1, 1, 1, 1, 1, 1, 1, 1, 1, 1, 1, 1, 1, 1, ...</td>\n",
       "      <td>[1, 1, 1, 1, 1, 1, 1, 1, 1, 1, 1, 1, 1, 1, 1, ...</td>\n",
       "      <td>[12.812376711482205, 12.737960036445987, 12.61...</td>\n",
       "      <td>[5.900235036905437, 5.7618199879648, 5.5222346...</td>\n",
       "      <td>[12.812376711482205, 12.737960036445987, 12.61...</td>\n",
       "      <td>[1, 1, 1, 1, 1, 1, 1, 1, 1, 1, 1, 1, 1, 1, 1, ...</td>\n",
       "      <td>[1, 1, 1, 1, 0, 0, 0, 0, 0, 0, 0, 0, 0, 0, 0, ...</td>\n",
       "      <td>[1, 1, 1, 1, 1, 1, 1, 1, 1, 1, 1, 1, 1, 1, 1, ...</td>\n",
       "    </tr>\n",
       "    <tr>\n",
       "      <th>2</th>\n",
       "      <td>9209413</td>\n",
       "      <td>20230617_115521_standard_comp_to_omission_D1_s...</td>\n",
       "      <td>20230617_115521_standard_comp_to_omission_D1_s...</td>\n",
       "      <td>5730880</td>\n",
       "      <td>20230617_115521_standard_comp_to_omission_D1_s...</td>\n",
       "      <td>5720</td>\n",
       "      <td>1.0</td>\n",
       "      <td>1-1_t1b3L_box1</td>\n",
       "      <td>win_comp</td>\n",
       "      <td>20230617_115521_standard_comp_to_omission_D1_s...</td>\n",
       "      <td>...</td>\n",
       "      <td>[10.449518193779662, 10.328848927104168, 9.348...</td>\n",
       "      <td>[1, 1, 1, 1, 1, 1, 1, 1, 1, 1, 1, 1, 1, 1, 1, ...</td>\n",
       "      <td>[1, 1, 1, 1, 1, 1, 1, 1, 1, 1, 0, 0, 1, 1, 1, ...</td>\n",
       "      <td>[1, 1, 1, 1, 1, 1, 1, 1, 1, 1, 1, 1, 1, 1, 1, ...</td>\n",
       "      <td>[1.3140549404066315, 2.083627429990607, 1.9285...</td>\n",
       "      <td>[0.14051079708270506, 0.2589369756582887, 0.40...</td>\n",
       "      <td>[1.3140549404066315, 2.083627429990607, 1.9285...</td>\n",
       "      <td>[0, 0, 0, 0, 0, 0, 0, 0, 0, 0, 0, 0, 0, 0, 0, ...</td>\n",
       "      <td>[0, 0, 0, 0, 0, 0, 0, 0, 0, 0, 0, 0, 0, 0, 0, ...</td>\n",
       "      <td>[0, 0, 0, 0, 0, 0, 0, 0, 0, 0, 0, 0, 0, 0, 0, ...</td>\n",
       "    </tr>\n",
       "    <tr>\n",
       "      <th>3</th>\n",
       "      <td>13109412</td>\n",
       "      <td>20230617_115521_standard_comp_to_omission_D1_s...</td>\n",
       "      <td>20230617_115521_standard_comp_to_omission_D1_s...</td>\n",
       "      <td>9630879</td>\n",
       "      <td>20230617_115521_standard_comp_to_omission_D1_s...</td>\n",
       "      <td>9612</td>\n",
       "      <td>1.0</td>\n",
       "      <td>1-1_t1b3L_box1</td>\n",
       "      <td>win_comp</td>\n",
       "      <td>20230617_115521_standard_comp_to_omission_D1_s...</td>\n",
       "      <td>...</td>\n",
       "      <td>[22.46126034089424, 15.271962513097026, 9.7552...</td>\n",
       "      <td>[1, 1, 1, 1, 1, 1, 1, 1, 0, 0, 0, 0, 0, 0, 1, ...</td>\n",
       "      <td>[0, 0, 0, 0, 0, 0, 0, 0, 0, 1, 1, 1, 1, 1, 1, ...</td>\n",
       "      <td>[1, 1, 1, 1, 1, 1, 1, 1, 0, 0, 0, 0, 0, 0, 1, ...</td>\n",
       "      <td>[10.605771942059523, 7.690197343693041, 5.6453...</td>\n",
       "      <td>[0.33382427611833676, 0.36024075728364263, 0.2...</td>\n",
       "      <td>[10.605771942059523, 7.690197343693041, 5.6453...</td>\n",
       "      <td>[1, 1, 1, 0, 0, 0, 0, 0, 0, 0, 0, 0, 0, 0, 0, ...</td>\n",
       "      <td>[0, 0, 0, 0, 0, 0, 0, 0, 0, 0, 0, 0, 0, 0, 0, ...</td>\n",
       "      <td>[1, 1, 1, 0, 0, 0, 0, 0, 0, 0, 0, 0, 0, 0, 0, ...</td>\n",
       "    </tr>\n",
       "    <tr>\n",
       "      <th>4</th>\n",
       "      <td>16509409</td>\n",
       "      <td>20230617_115521_standard_comp_to_omission_D1_s...</td>\n",
       "      <td>20230617_115521_standard_comp_to_omission_D1_s...</td>\n",
       "      <td>13030876</td>\n",
       "      <td>20230617_115521_standard_comp_to_omission_D1_s...</td>\n",
       "      <td>13006</td>\n",
       "      <td>1.0</td>\n",
       "      <td>1-1_t1b3L_box1</td>\n",
       "      <td>win_comp</td>\n",
       "      <td>20230617_115521_standard_comp_to_omission_D1_s...</td>\n",
       "      <td>...</td>\n",
       "      <td>[14.852791816182672, 14.876901938207157, 14.76...</td>\n",
       "      <td>[1, 1, 1, 1, 1, 1, 1, 1, 1, 1, 1, 1, 1, 1, 1, ...</td>\n",
       "      <td>[1, 1, 1, 1, 1, 1, 1, 1, 1, 1, 1, 1, 1, 1, 1, ...</td>\n",
       "      <td>[1, 1, 1, 1, 1, 1, 1, 1, 1, 1, 1, 1, 1, 1, 1, ...</td>\n",
       "      <td>[0.10767800544501799, 0.10231613624162766, 0.1...</td>\n",
       "      <td>[0.36101539914136693, 0.3941705997491232, 0.41...</td>\n",
       "      <td>[0.10767800544501799, 0.10231613624162766, 0.1...</td>\n",
       "      <td>[0, 0, 0, 0, 0, 0, 0, 0, 0, 0, 0, 0, 0, 0, 0, ...</td>\n",
       "      <td>[0, 0, 0, 0, 0, 0, 0, 0, 0, 0, 0, 0, 0, 0, 0, ...</td>\n",
       "      <td>[0, 0, 0, 0, 0, 0, 0, 0, 0, 0, 0, 0, 0, 0, 0, ...</td>\n",
       "    </tr>\n",
       "  </tbody>\n",
       "</table>\n",
       "<p>5 rows × 94 columns</p>\n",
       "</div>"
      ],
      "text/plain": [
       "       time                                      recording_dir  \\\n",
       "0   4509412  20230617_115521_standard_comp_to_omission_D1_s...   \n",
       "1   6909411  20230617_115521_standard_comp_to_omission_D1_s...   \n",
       "2   9209413  20230617_115521_standard_comp_to_omission_D1_s...   \n",
       "3  13109412  20230617_115521_standard_comp_to_omission_D1_s...   \n",
       "4  16509409  20230617_115521_standard_comp_to_omission_D1_s...   \n",
       "\n",
       "                                      recording_file  time_stamp_index  \\\n",
       "0  20230617_115521_standard_comp_to_omission_D1_s...           1030879   \n",
       "1  20230617_115521_standard_comp_to_omission_D1_s...           3430878   \n",
       "2  20230617_115521_standard_comp_to_omission_D1_s...           5730880   \n",
       "3  20230617_115521_standard_comp_to_omission_D1_s...           9630879   \n",
       "4  20230617_115521_standard_comp_to_omission_D1_s...          13030876   \n",
       "\n",
       "                                          video_file  video_frame  \\\n",
       "0  20230617_115521_standard_comp_to_omission_D1_s...         1029   \n",
       "1  20230617_115521_standard_comp_to_omission_D1_s...         3425   \n",
       "2  20230617_115521_standard_comp_to_omission_D1_s...         5720   \n",
       "3  20230617_115521_standard_comp_to_omission_D1_s...         9612   \n",
       "4  20230617_115521_standard_comp_to_omission_D1_s...        13006   \n",
       "\n",
       "   video_number    subject_info competition_closeness  \\\n",
       "0           1.0  1-1_t1b3L_box1             lose_comp   \n",
       "1           1.0  1-1_t1b3L_box1              win_comp   \n",
       "2           1.0  1-1_t1b3L_box1              win_comp   \n",
       "3           1.0  1-1_t1b3L_box1              win_comp   \n",
       "4           1.0  1-1_t1b3L_box1              win_comp   \n",
       "\n",
       "                                          video_name  ...  \\\n",
       "0  20230617_115521_standard_comp_to_omission_D1_s...  ...   \n",
       "1  20230617_115521_standard_comp_to_omission_D1_s...  ...   \n",
       "2  20230617_115521_standard_comp_to_omission_D1_s...  ...   \n",
       "3  20230617_115521_standard_comp_to_omission_D1_s...  ...   \n",
       "4  20230617_115521_standard_comp_to_omission_D1_s...  ...   \n",
       "\n",
       "  baseline-trial_subject_thorax-to-agent_distance_chunked  \\\n",
       "0  [12.65717198847138, 12.683871307928696, 14.880...        \n",
       "1  [25.320573976061063, 25.371420577329687, 25.41...        \n",
       "2  [10.449518193779662, 10.328848927104168, 9.348...        \n",
       "3  [22.46126034089424, 15.271962513097026, 9.7552...        \n",
       "4  [14.852791816182672, 14.876901938207157, 14.76...        \n",
       "\n",
       "    baseline_subject_thorax-to-agent_distance_binned  \\\n",
       "0  [1, 1, 1, 1, 1, 1, 1, 1, 1, 1, 1, 1, 1, 1, 1, ...   \n",
       "1  [1, 1, 1, 1, 1, 1, 1, 1, 1, 1, 1, 1, 1, 1, 1, ...   \n",
       "2  [1, 1, 1, 1, 1, 1, 1, 1, 1, 1, 1, 1, 1, 1, 1, ...   \n",
       "3  [1, 1, 1, 1, 1, 1, 1, 1, 0, 0, 0, 0, 0, 0, 1, ...   \n",
       "4  [1, 1, 1, 1, 1, 1, 1, 1, 1, 1, 1, 1, 1, 1, 1, ...   \n",
       "\n",
       "       trial_subject_thorax-to-agent_distance_binned  \\\n",
       "0  [1, 1, 1, 1, 1, 1, 1, 1, 1, 1, 1, 1, 1, 1, 1, ...   \n",
       "1  [1, 1, 1, 1, 1, 1, 1, 1, 1, 1, 1, 1, 1, 1, 1, ...   \n",
       "2  [1, 1, 1, 1, 1, 1, 1, 1, 1, 1, 0, 0, 1, 1, 1, ...   \n",
       "3  [0, 0, 0, 0, 0, 0, 0, 0, 0, 1, 1, 1, 1, 1, 1, ...   \n",
       "4  [1, 1, 1, 1, 1, 1, 1, 1, 1, 1, 1, 1, 1, 1, 1, ...   \n",
       "\n",
       "   baseline-trial_subject_thorax-to-agent_distance_binned  \\\n",
       "0  [1, 1, 1, 1, 1, 1, 1, 1, 1, 1, 1, 1, 1, 1, 1, ...        \n",
       "1  [1, 1, 1, 1, 1, 1, 1, 1, 1, 1, 1, 1, 1, 1, 1, ...        \n",
       "2  [1, 1, 1, 1, 1, 1, 1, 1, 1, 1, 1, 1, 1, 1, 1, ...        \n",
       "3  [1, 1, 1, 1, 1, 1, 1, 1, 0, 0, 0, 0, 0, 0, 1, ...        \n",
       "4  [1, 1, 1, 1, 1, 1, 1, 1, 1, 1, 1, 1, 1, 1, 1, ...        \n",
       "\n",
       "  baseline_subject-agent_to-reward-port-distance-ratio_chunked  \\\n",
       "0  [1.0759253122165384, 1.0769129973530136, 1.076...             \n",
       "1  [12.812376711482205, 12.737960036445987, 12.61...             \n",
       "2  [1.3140549404066315, 2.083627429990607, 1.9285...             \n",
       "3  [10.605771942059523, 7.690197343693041, 5.6453...             \n",
       "4  [0.10767800544501799, 0.10231613624162766, 0.1...             \n",
       "\n",
       "  trial_subject-agent_to-reward-port-distance-ratio_chunked  \\\n",
       "0  [8.855775558856838, 8.071331610027782, 6.34917...          \n",
       "1  [5.900235036905437, 5.7618199879648, 5.5222346...          \n",
       "2  [0.14051079708270506, 0.2589369756582887, 0.40...          \n",
       "3  [0.33382427611833676, 0.36024075728364263, 0.2...          \n",
       "4  [0.36101539914136693, 0.3941705997491232, 0.41...          \n",
       "\n",
       "  baseline-trial_subject-agent_to-reward-port-distance-ratio_chunked  \\\n",
       "0  [1.0759253122165384, 1.0769129973530136, 1.076...                   \n",
       "1  [12.812376711482205, 12.737960036445987, 12.61...                   \n",
       "2  [1.3140549404066315, 2.083627429990607, 1.9285...                   \n",
       "3  [10.605771942059523, 7.690197343693041, 5.6453...                   \n",
       "4  [0.10767800544501799, 0.10231613624162766, 0.1...                   \n",
       "\n",
       "  baseline_subject-agent_to-reward-port-distance-ratio_binned  \\\n",
       "0  [0, 0, 0, 0, 0, 0, 0, 0, 0, 0, 0, 0, 1, 1, 1, ...            \n",
       "1  [1, 1, 1, 1, 1, 1, 1, 1, 1, 1, 1, 1, 1, 1, 1, ...            \n",
       "2  [0, 0, 0, 0, 0, 0, 0, 0, 0, 0, 0, 0, 0, 0, 0, ...            \n",
       "3  [1, 1, 1, 0, 0, 0, 0, 0, 0, 0, 0, 0, 0, 0, 0, ...            \n",
       "4  [0, 0, 0, 0, 0, 0, 0, 0, 0, 0, 0, 0, 0, 0, 0, ...            \n",
       "\n",
       "  trial_subject-agent_to-reward-port-distance-ratio_binned  \\\n",
       "0  [1, 1, 1, 1, 0, 0, 0, 1, 1, 1, 1, 0, 0, 0, 0, ...         \n",
       "1  [1, 1, 1, 1, 0, 0, 0, 0, 0, 0, 0, 0, 0, 0, 0, ...         \n",
       "2  [0, 0, 0, 0, 0, 0, 0, 0, 0, 0, 0, 0, 0, 0, 0, ...         \n",
       "3  [0, 0, 0, 0, 0, 0, 0, 0, 0, 0, 0, 0, 0, 0, 0, ...         \n",
       "4  [0, 0, 0, 0, 0, 0, 0, 0, 0, 0, 0, 0, 0, 0, 0, ...         \n",
       "\n",
       "  baseline-trial_subject-agent_to-reward-port-distance-ratio_binned  \n",
       "0  [0, 0, 0, 0, 0, 0, 0, 0, 0, 0, 0, 0, 1, 1, 1, ...                 \n",
       "1  [1, 1, 1, 1, 1, 1, 1, 1, 1, 1, 1, 1, 1, 1, 1, ...                 \n",
       "2  [0, 0, 0, 0, 0, 0, 0, 0, 0, 0, 0, 0, 0, 0, 0, ...                 \n",
       "3  [1, 1, 1, 0, 0, 0, 0, 0, 0, 0, 0, 0, 0, 0, 0, ...                 \n",
       "4  [0, 0, 0, 0, 0, 0, 0, 0, 0, 0, 0, 0, 0, 0, 0, ...                 \n",
       "\n",
       "[5 rows x 94 columns]"
      ]
     },
     "execution_count": 21,
     "metadata": {},
     "output_type": "execute_result"
    }
   ],
   "source": [
    "MERGED_TRIALS_AND_VIDEO.head()"
   ]
  },
  {
   "cell_type": "code",
   "execution_count": 22,
   "metadata": {},
   "outputs": [
    {
     "data": {
      "text/html": [
       "<div>\n",
       "<style scoped>\n",
       "    .dataframe tbody tr th:only-of-type {\n",
       "        vertical-align: middle;\n",
       "    }\n",
       "\n",
       "    .dataframe tbody tr th {\n",
       "        vertical-align: top;\n",
       "    }\n",
       "\n",
       "    .dataframe thead th {\n",
       "        text-align: right;\n",
       "    }\n",
       "</style>\n",
       "<table border=\"1\" class=\"dataframe\">\n",
       "  <thead>\n",
       "    <tr style=\"text-align: right;\">\n",
       "      <th></th>\n",
       "      <th>time</th>\n",
       "      <th>recording_dir</th>\n",
       "      <th>recording_file</th>\n",
       "      <th>time_stamp_index</th>\n",
       "      <th>video_file</th>\n",
       "      <th>video_frame</th>\n",
       "      <th>video_number</th>\n",
       "      <th>subject_info</th>\n",
       "      <th>competition_closeness</th>\n",
       "      <th>video_name</th>\n",
       "      <th>...</th>\n",
       "      <th>vHPC_baseline-trial_lfp_trace</th>\n",
       "      <th>BLA_baseline_lfp_trace</th>\n",
       "      <th>BLA_trial_lfp_trace</th>\n",
       "      <th>BLA_baseline-trial_lfp_trace</th>\n",
       "      <th>LH_baseline_lfp_trace</th>\n",
       "      <th>LH_trial_lfp_trace</th>\n",
       "      <th>LH_baseline-trial_lfp_trace</th>\n",
       "      <th>MD_baseline_lfp_trace</th>\n",
       "      <th>MD_trial_lfp_trace</th>\n",
       "      <th>MD_baseline-trial_lfp_trace</th>\n",
       "    </tr>\n",
       "  </thead>\n",
       "  <tbody>\n",
       "    <tr>\n",
       "      <th>0</th>\n",
       "      <td>6310663</td>\n",
       "      <td>20221202_134600_omission_and_competition_subje...</td>\n",
       "      <td>20221202_134600_omission_and_competition_subje...</td>\n",
       "      <td>1390826</td>\n",
       "      <td>20221202_134600_omission_and_competition_subje...</td>\n",
       "      <td>1734</td>\n",
       "      <td>1.0</td>\n",
       "      <td>6_1_top_2_base_3</td>\n",
       "      <td>rewarded</td>\n",
       "      <td>20221202_134600_omission_and_competition_subje...</td>\n",
       "      <td>...</td>\n",
       "      <td>[-0.07045184, -0.0958607, -0.054282565, 0.1512...</td>\n",
       "      <td>[2.0367692, 2.1165679, 2.162167, 2.2685654, 2....</td>\n",
       "      <td>[0.31159526, 0.35909453, 0.18239723, -0.509192...</td>\n",
       "      <td>[2.0367692, 2.1165679, 2.162167, 2.2685654, 2....</td>\n",
       "      <td>[3.0443187, 3.1354659, 3.1810396, 3.1901543, 3...</td>\n",
       "      <td>[0.78082824, 1.1788379, 0.8415931, -0.40104795...</td>\n",
       "      <td>[3.0443187, 3.1354659, 3.1810396, 3.1901543, 3...</td>\n",
       "      <td>[1.3860394, 1.4873364, 1.7566382, 1.8208753, 1...</td>\n",
       "      <td>[-0.9857927, -0.8746131, -0.7362562, -1.413216...</td>\n",
       "      <td>[1.3860394, 1.4873364, 1.7566382, 1.8208753, 1...</td>\n",
       "    </tr>\n",
       "    <tr>\n",
       "      <th>1</th>\n",
       "      <td>7910662</td>\n",
       "      <td>20221202_134600_omission_and_competition_subje...</td>\n",
       "      <td>20221202_134600_omission_and_competition_subje...</td>\n",
       "      <td>2990825</td>\n",
       "      <td>20221202_134600_omission_and_competition_subje...</td>\n",
       "      <td>3728</td>\n",
       "      <td>1.0</td>\n",
       "      <td>6_1_top_2_base_3</td>\n",
       "      <td>rewarded</td>\n",
       "      <td>20221202_134600_omission_and_competition_subje...</td>\n",
       "      <td>...</td>\n",
       "      <td>[0.30606127, 0.22405995, 0.28873706, 0.4100066...</td>\n",
       "      <td>[0.30589536, 0.13679792, -0.064599015, -0.3381...</td>\n",
       "      <td>[0.020899683, -0.05129922, 0.113998264, -0.416...</td>\n",
       "      <td>[0.30589536, 0.13679792, -0.064599015, -0.3381...</td>\n",
       "      <td>[-1.1575702, -1.2699852, -1.3489795, -1.427973...</td>\n",
       "      <td>[0.91754913, 0.4466216, 0.64410734, 0.03342066...</td>\n",
       "      <td>[-1.1575702, -1.2699852, -1.3489795, -1.427973...</td>\n",
       "      <td>[-0.15318082, -0.16800477, 0.019765267, 0.1605...</td>\n",
       "      <td>[1.620752, 1.3415675, 1.4601592, 0.94132084, -...</td>\n",
       "      <td>[-0.15318082, -0.16800477, 0.019765267, 0.1605...</td>\n",
       "    </tr>\n",
       "    <tr>\n",
       "      <th>2</th>\n",
       "      <td>9710660</td>\n",
       "      <td>20221202_134600_omission_and_competition_subje...</td>\n",
       "      <td>20221202_134600_omission_and_competition_subje...</td>\n",
       "      <td>4790823</td>\n",
       "      <td>20221202_134600_omission_and_competition_subje...</td>\n",
       "      <td>5972</td>\n",
       "      <td>1.0</td>\n",
       "      <td>6_1_top_2_base_3</td>\n",
       "      <td>rewarded</td>\n",
       "      <td>20221202_134600_omission_and_competition_subje...</td>\n",
       "      <td>...</td>\n",
       "      <td>[-1.2300198, -1.2323297, -1.3039365, -1.096045...</td>\n",
       "      <td>[-2.0025697, -1.9151709, -1.9436705, -1.552276...</td>\n",
       "      <td>[0.6896895, 1.3983787, 1.7574733, 1.4287783, 1...</td>\n",
       "      <td>[-2.0025697, -1.9151709, -1.9436705, -1.552276...</td>\n",
       "      <td>[-0.20356221, -0.08203254, -0.18837102, -0.142...</td>\n",
       "      <td>[-0.58941895, 0.25521234, 0.66233677, 0.416239...</td>\n",
       "      <td>[-0.20356221, -0.08203254, -0.18837102, -0.142...</td>\n",
       "      <td>[-0.32859758, -0.5361329, -0.97591007, -0.7609...</td>\n",
       "      <td>[0.088943705, 0.8770837, 1.2056813, 0.88696635...</td>\n",
       "      <td>[-0.32859758, -0.5361329, -0.97591007, -0.7609...</td>\n",
       "    </tr>\n",
       "    <tr>\n",
       "      <th>3</th>\n",
       "      <td>11310658</td>\n",
       "      <td>20221202_134600_omission_and_competition_subje...</td>\n",
       "      <td>20221202_134600_omission_and_competition_subje...</td>\n",
       "      <td>6390821</td>\n",
       "      <td>20221202_134600_omission_and_competition_subje...</td>\n",
       "      <td>7966</td>\n",
       "      <td>1.0</td>\n",
       "      <td>6_1_top_2_base_3</td>\n",
       "      <td>omission</td>\n",
       "      <td>20221202_134600_omission_and_competition_subje...</td>\n",
       "      <td>...</td>\n",
       "      <td>[0.1605378, 0.4169363, 0.64561605, 0.6756447, ...</td>\n",
       "      <td>[-1.2729807, -1.0468841, -0.8378873, -0.754288...</td>\n",
       "      <td>[2.6789594, 2.3939636, 2.2096665, 1.97597, 1.8...</td>\n",
       "      <td>[-1.2729807, -1.0468841, -0.8378873, -0.754288...</td>\n",
       "      <td>[-2.4792056, -2.1480372, -1.8259835, -1.677109...</td>\n",
       "      <td>[2.7587237, 2.233108, 1.4796239, 0.93274033, 1...</td>\n",
       "      <td>[-2.4792056, -2.1480372, -1.8259835, -1.677109...</td>\n",
       "      <td>[-2.7720788, -2.5620728, -2.3125362, -2.062999...</td>\n",
       "      <td>[2.0802944, 1.7344022, 1.1192082, 0.4521305, 0...</td>\n",
       "      <td>[-2.7720788, -2.5620728, -2.3125362, -2.062999...</td>\n",
       "    </tr>\n",
       "    <tr>\n",
       "      <th>4</th>\n",
       "      <td>12810657</td>\n",
       "      <td>20221202_134600_omission_and_competition_subje...</td>\n",
       "      <td>20221202_134600_omission_and_competition_subje...</td>\n",
       "      <td>7890820</td>\n",
       "      <td>20221202_134600_omission_and_competition_subje...</td>\n",
       "      <td>9836</td>\n",
       "      <td>1.0</td>\n",
       "      <td>6_1_top_2_base_3</td>\n",
       "      <td>rewarded</td>\n",
       "      <td>20221202_134600_omission_and_competition_subje...</td>\n",
       "      <td>...</td>\n",
       "      <td>[-0.30952612, 0.19056645, 0.4331056, 0.3638087...</td>\n",
       "      <td>[-2.1469674, -2.0690687, -2.0937681, -2.152667...</td>\n",
       "      <td>[-0.18809713, 0.108298354, -0.66878986, -0.944...</td>\n",
       "      <td>[-2.1469674, -2.0690687, -2.0937681, -2.152667...</td>\n",
       "      <td>[-2.1176548, -1.4522797, -1.0360405, -1.108958...</td>\n",
       "      <td>[0.5104247, 1.4613944, 0.5468836, -0.036458906...</td>\n",
       "      <td>[-2.1176548, -1.4522797, -1.0360405, -1.108958...</td>\n",
       "      <td>[-2.018528, -1.7220489, -1.4329818, -1.3736861...</td>\n",
       "      <td>[0.31130296, 1.0006167, 0.25200716, -0.2347125...</td>\n",
       "      <td>[-2.018528, -1.7220489, -1.4329818, -1.3736861...</td>\n",
       "    </tr>\n",
       "  </tbody>\n",
       "</table>\n",
       "<p>5 rows × 37 columns</p>\n",
       "</div>"
      ],
      "text/plain": [
       "       time                                      recording_dir  \\\n",
       "0   6310663  20221202_134600_omission_and_competition_subje...   \n",
       "1   7910662  20221202_134600_omission_and_competition_subje...   \n",
       "2   9710660  20221202_134600_omission_and_competition_subje...   \n",
       "3  11310658  20221202_134600_omission_and_competition_subje...   \n",
       "4  12810657  20221202_134600_omission_and_competition_subje...   \n",
       "\n",
       "                                      recording_file  time_stamp_index  \\\n",
       "0  20221202_134600_omission_and_competition_subje...           1390826   \n",
       "1  20221202_134600_omission_and_competition_subje...           2990825   \n",
       "2  20221202_134600_omission_and_competition_subje...           4790823   \n",
       "3  20221202_134600_omission_and_competition_subje...           6390821   \n",
       "4  20221202_134600_omission_and_competition_subje...           7890820   \n",
       "\n",
       "                                          video_file  video_frame  \\\n",
       "0  20221202_134600_omission_and_competition_subje...         1734   \n",
       "1  20221202_134600_omission_and_competition_subje...         3728   \n",
       "2  20221202_134600_omission_and_competition_subje...         5972   \n",
       "3  20221202_134600_omission_and_competition_subje...         7966   \n",
       "4  20221202_134600_omission_and_competition_subje...         9836   \n",
       "\n",
       "   video_number      subject_info competition_closeness  \\\n",
       "0           1.0  6_1_top_2_base_3              rewarded   \n",
       "1           1.0  6_1_top_2_base_3              rewarded   \n",
       "2           1.0  6_1_top_2_base_3              rewarded   \n",
       "3           1.0  6_1_top_2_base_3              omission   \n",
       "4           1.0  6_1_top_2_base_3              rewarded   \n",
       "\n",
       "                                          video_name  ...  \\\n",
       "0  20221202_134600_omission_and_competition_subje...  ...   \n",
       "1  20221202_134600_omission_and_competition_subje...  ...   \n",
       "2  20221202_134600_omission_and_competition_subje...  ...   \n",
       "3  20221202_134600_omission_and_competition_subje...  ...   \n",
       "4  20221202_134600_omission_and_competition_subje...  ...   \n",
       "\n",
       "                       vHPC_baseline-trial_lfp_trace  \\\n",
       "0  [-0.07045184, -0.0958607, -0.054282565, 0.1512...   \n",
       "1  [0.30606127, 0.22405995, 0.28873706, 0.4100066...   \n",
       "2  [-1.2300198, -1.2323297, -1.3039365, -1.096045...   \n",
       "3  [0.1605378, 0.4169363, 0.64561605, 0.6756447, ...   \n",
       "4  [-0.30952612, 0.19056645, 0.4331056, 0.3638087...   \n",
       "\n",
       "                              BLA_baseline_lfp_trace  \\\n",
       "0  [2.0367692, 2.1165679, 2.162167, 2.2685654, 2....   \n",
       "1  [0.30589536, 0.13679792, -0.064599015, -0.3381...   \n",
       "2  [-2.0025697, -1.9151709, -1.9436705, -1.552276...   \n",
       "3  [-1.2729807, -1.0468841, -0.8378873, -0.754288...   \n",
       "4  [-2.1469674, -2.0690687, -2.0937681, -2.152667...   \n",
       "\n",
       "                                 BLA_trial_lfp_trace  \\\n",
       "0  [0.31159526, 0.35909453, 0.18239723, -0.509192...   \n",
       "1  [0.020899683, -0.05129922, 0.113998264, -0.416...   \n",
       "2  [0.6896895, 1.3983787, 1.7574733, 1.4287783, 1...   \n",
       "3  [2.6789594, 2.3939636, 2.2096665, 1.97597, 1.8...   \n",
       "4  [-0.18809713, 0.108298354, -0.66878986, -0.944...   \n",
       "\n",
       "                        BLA_baseline-trial_lfp_trace  \\\n",
       "0  [2.0367692, 2.1165679, 2.162167, 2.2685654, 2....   \n",
       "1  [0.30589536, 0.13679792, -0.064599015, -0.3381...   \n",
       "2  [-2.0025697, -1.9151709, -1.9436705, -1.552276...   \n",
       "3  [-1.2729807, -1.0468841, -0.8378873, -0.754288...   \n",
       "4  [-2.1469674, -2.0690687, -2.0937681, -2.152667...   \n",
       "\n",
       "                               LH_baseline_lfp_trace  \\\n",
       "0  [3.0443187, 3.1354659, 3.1810396, 3.1901543, 3...   \n",
       "1  [-1.1575702, -1.2699852, -1.3489795, -1.427973...   \n",
       "2  [-0.20356221, -0.08203254, -0.18837102, -0.142...   \n",
       "3  [-2.4792056, -2.1480372, -1.8259835, -1.677109...   \n",
       "4  [-2.1176548, -1.4522797, -1.0360405, -1.108958...   \n",
       "\n",
       "                                  LH_trial_lfp_trace  \\\n",
       "0  [0.78082824, 1.1788379, 0.8415931, -0.40104795...   \n",
       "1  [0.91754913, 0.4466216, 0.64410734, 0.03342066...   \n",
       "2  [-0.58941895, 0.25521234, 0.66233677, 0.416239...   \n",
       "3  [2.7587237, 2.233108, 1.4796239, 0.93274033, 1...   \n",
       "4  [0.5104247, 1.4613944, 0.5468836, -0.036458906...   \n",
       "\n",
       "                         LH_baseline-trial_lfp_trace  \\\n",
       "0  [3.0443187, 3.1354659, 3.1810396, 3.1901543, 3...   \n",
       "1  [-1.1575702, -1.2699852, -1.3489795, -1.427973...   \n",
       "2  [-0.20356221, -0.08203254, -0.18837102, -0.142...   \n",
       "3  [-2.4792056, -2.1480372, -1.8259835, -1.677109...   \n",
       "4  [-2.1176548, -1.4522797, -1.0360405, -1.108958...   \n",
       "\n",
       "                               MD_baseline_lfp_trace  \\\n",
       "0  [1.3860394, 1.4873364, 1.7566382, 1.8208753, 1...   \n",
       "1  [-0.15318082, -0.16800477, 0.019765267, 0.1605...   \n",
       "2  [-0.32859758, -0.5361329, -0.97591007, -0.7609...   \n",
       "3  [-2.7720788, -2.5620728, -2.3125362, -2.062999...   \n",
       "4  [-2.018528, -1.7220489, -1.4329818, -1.3736861...   \n",
       "\n",
       "                                  MD_trial_lfp_trace  \\\n",
       "0  [-0.9857927, -0.8746131, -0.7362562, -1.413216...   \n",
       "1  [1.620752, 1.3415675, 1.4601592, 0.94132084, -...   \n",
       "2  [0.088943705, 0.8770837, 1.2056813, 0.88696635...   \n",
       "3  [2.0802944, 1.7344022, 1.1192082, 0.4521305, 0...   \n",
       "4  [0.31130296, 1.0006167, 0.25200716, -0.2347125...   \n",
       "\n",
       "                         MD_baseline-trial_lfp_trace  \n",
       "0  [1.3860394, 1.4873364, 1.7566382, 1.8208753, 1...  \n",
       "1  [-0.15318082, -0.16800477, 0.019765267, 0.1605...  \n",
       "2  [-0.32859758, -0.5361329, -0.97591007, -0.7609...  \n",
       "3  [-2.7720788, -2.5620728, -2.3125362, -2.062999...  \n",
       "4  [-2.018528, -1.7220489, -1.4329818, -1.3736861...  \n",
       "\n",
       "[5 rows x 37 columns]"
      ]
     },
     "execution_count": 22,
     "metadata": {},
     "output_type": "execute_result"
    }
   ],
   "source": [
    "CHANNEL_MAP_AND_ALL_TRIALS_DF.head()"
   ]
  },
  {
   "cell_type": "markdown",
   "metadata": {
    "cell_id": "e3ee4891d43a4ac287413afc552ca289",
    "deepnote_cell_type": "text-cell-h2",
    "formattedRanges": []
   },
   "source": [
    "## Outputs"
   ]
  },
  {
   "cell_type": "markdown",
   "metadata": {
    "cell_id": "9ccbf6cc70fd4d379fa29317f733771f",
    "deepnote_cell_type": "text-cell-p",
    "formattedRanges": []
   },
   "source": [
    "Describe each output that the notebook creates. "
   ]
  },
  {
   "cell_type": "markdown",
   "metadata": {
    "cell_id": "fc8e8920a6944918a15fac575cdf6e78",
    "deepnote_cell_type": "text-cell-bullet",
    "formattedRanges": []
   },
   "source": [
    "- Is it a plot or is it data?"
   ]
  },
  {
   "cell_type": "markdown",
   "metadata": {
    "cell_id": "1e639d4776a84aa9ac8ded2e14fa57db",
    "deepnote_cell_type": "text-cell-bullet",
    "formattedRanges": []
   },
   "source": [
    "- How valuable is the output and why is it valuable or useful?"
   ]
  },
  {
   "cell_type": "markdown",
   "metadata": {},
   "source": [
    "## Functions "
   ]
  },
  {
   "cell_type": "code",
   "execution_count": 23,
   "metadata": {},
   "outputs": [],
   "source": [
    "def generate_pairs(lst):\n",
    "    pairs = []\n",
    "    n = len(lst)\n",
    "    for i in range(n):\n",
    "        for j in range(i+1, n):\n",
    "            pairs.append((lst[i], lst[j]))\n",
    "    return pairs"
   ]
  },
  {
   "cell_type": "code",
   "execution_count": 24,
   "metadata": {},
   "outputs": [],
   "source": [
    "def nested_dict():\n",
    "    return defaultdict(dict)"
   ]
  },
  {
   "cell_type": "code",
   "execution_count": 25,
   "metadata": {},
   "outputs": [],
   "source": [
    "def mean_of_counter(counter):\n",
    "    # Extract values from the Counter and calculate the mean\n",
    "    values = list(counter.values())\n",
    "    return sum(values) / len(values) if values else 0  # Prevent division by zero"
   ]
  },
  {
   "cell_type": "code",
   "execution_count": 26,
   "metadata": {},
   "outputs": [],
   "source": [
    "def adjust_lightness(color, amount=0.5):\n",
    "    \"\"\"\n",
    "    Adjusts the lightness of the given color by the provided amount.\n",
    "    :param color: Input color in some format that matplotlib's `to_rgb` can handle.\n",
    "    :param amount: Amount to adjust. > 1 for lighter, < 1 for darker.\n",
    "    :return: Adjusted color.\n",
    "    \"\"\"\n",
    "    import colorsys\n",
    "    c = mcolors.to_rgb(color)\n",
    "    h, l, s = colorsys.rgb_to_hls(*c)\n",
    "    return colorsys.hls_to_rgb(h, max(0, min(1, amount * l)), s)"
   ]
  },
  {
   "cell_type": "code",
   "execution_count": 27,
   "metadata": {},
   "outputs": [],
   "source": [
    "def generate_gradient_colors(base_color, num_colors=10):\n",
    "    \"\"\"\n",
    "    Generate gradient colors based on a base color.\n",
    "    \n",
    "    :param base_color: The base color to create a gradient from.\n",
    "    :param num_colors: The number of gradient colors to generate.\n",
    "    :return: List of colors.\n",
    "    \"\"\"\n",
    "    # Convert base color to HLS (Hue, Lightness, Saturation)\n",
    "    h, l, s = colorsys.rgb_to_hls(*mcolors.to_rgb(base_color))\n",
    "\n",
    "    # Determine the step size for lightness\n",
    "    middle_index = num_colors // 2\n",
    "    lightness_step = l / (middle_index if middle_index > 0 else 1)\n",
    "\n",
    "    colors = []\n",
    "    for i in range(num_colors):\n",
    "        if i < middle_index:\n",
    "            # For the lighter colors (before the middle)\n",
    "            new_lightness = l + (middle_index - i) * lightness_step\n",
    "        elif i == middle_index:\n",
    "            # The middle color remains the base color\n",
    "            new_lightness = l\n",
    "        else:\n",
    "            # For the darker colors (after the middle)\n",
    "            new_lightness = l - (i - middle_index) * lightness_step\n",
    "\n",
    "        # Ensure new lightness is within the valid range [0, 1]\n",
    "        new_lightness = max(0, min(new_lightness, 1))\n",
    "\n",
    "        new_color = colorsys.hls_to_rgb(h, new_lightness, s)\n",
    "        colors.append(new_color)\n",
    "\n",
    "    return colors"
   ]
  },
  {
   "cell_type": "code",
   "execution_count": 28,
   "metadata": {},
   "outputs": [
    {
     "data": {
      "image/png": "[encoded data removed]",
      "text/plain": [
       "<Figure size 640x480 with 1 Axes>"
      ]
     },
     "metadata": {},
     "output_type": "display_data"
    }
   ],
   "source": [
    "# Original color\n",
    "original_color = 'red'  # Can be any color matplotlib understands\n",
    "\n",
    "# Generate lighter versions\n",
    "lighter_colors = [adjust_lightness(original_color, amount=1+(0.1*i)) for i in range(12)]\n",
    "\n",
    "# Plotting to demonstrate the colors\n",
    "for i, color in enumerate(lighter_colors):\n",
    "    plt.plot([i-0.5, i+0.5], [1, 1], color=color, linewidth=6)  \n",
    "\n",
    "plt.ylim(0.9, 1.1)\n",
    "plt.show()"
   ]
  },
  {
   "cell_type": "code",
   "execution_count": 29,
   "metadata": {},
   "outputs": [
    {
     "data": {
      "image/png": "[encoded data removed]",
      "text/plain": [
       "<Figure size 640x480 with 1 Axes>"
      ]
     },
     "metadata": {},
     "output_type": "display_data"
    }
   ],
   "source": [
    "# Base color\n",
    "base_color = '#ff5733'  # Reddish color\n",
    "\n",
    "# Number of colors you want in the gradient\n",
    "num_colors = 10\n",
    "\n",
    "# Generate gradient colors\n",
    "gradient_colors = generate_gradient_colors(base_color, num_colors)\n",
    "\n",
    "# Set the color cycle to use the gradient colors\n",
    "plt.rcParams['axes.prop_cycle'] = plt.cycler(color=gradient_colors)\n",
    "\n",
    "# Test by plotting some data\n",
    "for i in range(num_colors):\n",
    "    plt.plot(np.arange(10), np.random.rand(10) + i)\n",
    "\n",
    "plt.show()"
   ]
  },
  {
   "cell_type": "markdown",
   "metadata": {
    "cell_id": "8999d19b6b7d4d63bc90f0b0bd9ab085",
    "deepnote_cell_type": "text-cell-h2",
    "formattedRanges": []
   },
   "source": [
    "## Processing"
   ]
  },
  {
   "cell_type": "markdown",
   "metadata": {
    "cell_id": "9b36cdf08567463082b005cb0dec684b",
    "deepnote_cell_type": "text-cell-p",
    "formattedRanges": []
   },
   "source": [
    "Describe what is done to the data here and how inputs are manipulated to generate outputs. "
   ]
  },
  {
   "cell_type": "code",
   "execution_count": 30,
   "metadata": {
    "cell_id": "89aaba237c644628b1b37604b75e7cb1",
    "deepnote_cell_type": "code"
   },
   "outputs": [],
   "source": [
    "# As much code and as many cells as required\n",
    "# includes EDA and playing with data\n",
    "# GO HAM!\n",
    "\n",
    "# Ideally functions are defined here first and then data is processed using the functions\n",
    "\n",
    "# function names are short and in snake case all lowercase\n",
    "# a function name should be unique but does not have to describe the function\n",
    "# doc strings describe functions not function names\n",
    "\n",
    "\n"
   ]
  },
  {
   "cell_type": "code",
   "execution_count": 31,
   "metadata": {},
   "outputs": [
    {
     "data": {
      "text/plain": [
       "Index(['time', 'recording_dir', 'recording_file', 'time_stamp_index',\n",
       "       'video_file', 'video_frame', 'video_number', 'subject_info',\n",
       "       'competition_closeness', 'video_name', 'all_subjects',\n",
       "       'current_subject', 'trial_outcome', 'lfp_index',\n",
       "       'baseline_lfp_timestamp_range', 'trial_lfp_timestamp_range',\n",
       "       'baseline_ephys_timestamp_range', 'trial_ephys_timestamp_range',\n",
       "       'baseline_videoframe_range', 'trial_videoframe_range', 'trial_number',\n",
       "       'Cohort', 'mPFC_baseline_lfp_trace', 'mPFC_trial_lfp_trace',\n",
       "       'mPFC_baseline-trial_lfp_trace', 'vHPC_baseline_lfp_trace',\n",
       "       'vHPC_trial_lfp_trace', 'vHPC_baseline-trial_lfp_trace',\n",
       "       'BLA_baseline_lfp_trace', 'BLA_trial_lfp_trace',\n",
       "       'BLA_baseline-trial_lfp_trace', 'LH_baseline_lfp_trace',\n",
       "       'LH_trial_lfp_trace', 'LH_baseline-trial_lfp_trace',\n",
       "       'MD_baseline_lfp_trace', 'MD_trial_lfp_trace',\n",
       "       'MD_baseline-trial_lfp_trace'],\n",
       "      dtype='object')"
      ]
     },
     "execution_count": 31,
     "metadata": {},
     "output_type": "execute_result"
    }
   ],
   "source": [
    "CHANNEL_MAP_AND_ALL_TRIALS_DF.columns"
   ]
  },
  {
   "cell_type": "code",
   "execution_count": 32,
   "metadata": {
    "scrolled": true
   },
   "outputs": [
    {
     "data": {
      "text/plain": [
       "Index(['time', 'recording_dir', 'recording_file', 'time_stamp_index',\n",
       "       'video_file', 'video_frame', 'video_number', 'subject_info',\n",
       "       'competition_closeness', 'video_name', 'all_subjects',\n",
       "       'current_subject', 'trial_outcome', 'lfp_index',\n",
       "       'baseline_lfp_timestamp_range', 'trial_lfp_timestamp_range',\n",
       "       'baseline_ephys_timestamp_range', 'trial_ephys_timestamp_range',\n",
       "       'baseline_videoframe_range', 'trial_videoframe_range', 'trial_number',\n",
       "       'Cohort', 'spike_interface_mPFC', 'spike_interface_vHPC',\n",
       "       'spike_interface_BLA', 'spike_interface_LH', 'spike_interface_MD',\n",
       "       'file_path', 'start_frame', 'stop_frame', 'individual_subj', 'all_subj',\n",
       "       'recording_name', 'track_names', 'subject_and_tracks_list',\n",
       "       'subject_id', 'agent_id', 'corner_path', 'corner_parts', 'bottom_width',\n",
       "       'top_width', 'right_height', 'left_height', 'average_height',\n",
       "       'average_width', 'width_ratio', 'height_ratio', 'box_bottom_left',\n",
       "       'reward_port', 'box_top_left', 'box_top_right', 'box_bottom_right',\n",
       "       'chunked_trial_ephys_timestamp', 'chunked_baseline_ephys_timestamp',\n",
       "       'chunked_trial_lfp_index', 'chunked_baseline_lfp_index',\n",
       "       'baseline_subject_thorax_velocity_chunked',\n",
       "       'baseline_agent_thorax_velocity_chunked',\n",
       "       'trial_subject_thorax_velocity_chunked',\n",
       "       'trial_agent_thorax_velocity_chunked',\n",
       "       'baseline-trial_subject_thorax_velocity_chunked',\n",
       "       'baseline-trial_agent_thorax_velocity_chunked',\n",
       "       'baseline_subject_thorax_velocity_binned',\n",
       "       'baseline_agent_thorax_velocity_binned',\n",
       "       'trial_subject_thorax_velocity_binned',\n",
       "       'trial_agent_thorax_velocity_binned',\n",
       "       'baseline-trial_subject_thorax_velocity_binned',\n",
       "       'baseline-trial_agent_thorax_velocity_binned', '0_to_2-5_cm-s_velocity',\n",
       "       '2-5_5cm-s_velocity',\n",
       "       'trial_subject_thorax-to-reward-port_distance_chunked',\n",
       "       'trial_agent_thorax-to-reward-port_distance_chunked',\n",
       "       'baseline_subject_thorax-to-reward-port_distance_chunked',\n",
       "       'baseline_agent_thorax-to-reward-port_distance_chunked',\n",
       "       'baseline-trial_subject_thorax-to-reward-port_distance_chunked',\n",
       "       'baseline-trial_agent_thorax-to-reward-port_distance_chunked',\n",
       "       'trial_subject_thorax-to-reward-port_distance_binned',\n",
       "       'trial_agent_thorax-to-reward-port_distance_binned',\n",
       "       'baseline_subject_thorax-to-reward-port_distance_binned',\n",
       "       'baseline_agent_thorax-to-reward-port_distance_binned',\n",
       "       'baseline-trial_subject_thorax-to-reward-port_distance_binned',\n",
       "       'baseline-trial_agent_thorax-to-reward-port_distance_binned',\n",
       "       'baseline_subject_thorax-to-agent_distance_chunked',\n",
       "       'trial_subject_thorax-to-agent_distance_chunked',\n",
       "       'baseline-trial_subject_thorax-to-agent_distance_chunked',\n",
       "       'baseline_subject_thorax-to-agent_distance_binned',\n",
       "       'trial_subject_thorax-to-agent_distance_binned',\n",
       "       'baseline-trial_subject_thorax-to-agent_distance_binned',\n",
       "       'baseline_subject-agent_to-reward-port-distance-ratio_chunked',\n",
       "       'trial_subject-agent_to-reward-port-distance-ratio_chunked',\n",
       "       'baseline-trial_subject-agent_to-reward-port-distance-ratio_chunked',\n",
       "       'baseline_subject-agent_to-reward-port-distance-ratio_binned',\n",
       "       'trial_subject-agent_to-reward-port-distance-ratio_binned',\n",
       "       'baseline-trial_subject-agent_to-reward-port-distance-ratio_binned'],\n",
       "      dtype='object')"
      ]
     },
     "execution_count": 32,
     "metadata": {},
     "output_type": "execute_result"
    }
   ],
   "source": [
    "MERGED_TRIALS_AND_VIDEO.columns"
   ]
  },
  {
   "cell_type": "markdown",
   "metadata": {},
   "source": [
    "### Merging LFP Trace dataframe and SLEAP pose tracking"
   ]
  },
  {
   "cell_type": "code",
   "execution_count": 33,
   "metadata": {},
   "outputs": [],
   "source": [
    "merge_columns = [\"time\", \"recording_file\", \"current_subject\", \"video_number\"]\n",
    "# Find columns in df2 that are not in merge_columns and also exist in df1, then drop them from df2\n",
    "cols_to_drop = [col for col in CHANNEL_MAP_AND_ALL_TRIALS_DF.columns if col not in merge_columns and col in MERGED_TRIALS_AND_VIDEO.columns]\n",
    "CHANNEL_MAP_AND_ALL_TRIALS_DF = CHANNEL_MAP_AND_ALL_TRIALS_DF.drop(columns=cols_to_drop)"
   ]
  },
  {
   "cell_type": "code",
   "execution_count": 34,
   "metadata": {},
   "outputs": [],
   "source": [
    "MERGED_LFP_AND_SLEAP = pd.merge(left=CHANNEL_MAP_AND_ALL_TRIALS_DF, right=MERGED_TRIALS_AND_VIDEO, on=merge_columns, how=\"right\")"
   ]
  },
  {
   "cell_type": "code",
   "execution_count": 36,
   "metadata": {},
   "outputs": [
    {
     "data": {
      "text/plain": [
       "array(['20230617_115521_standard_comp_to_omission_D1_subj_1-1_t1b3L_box1_merged',\n",
       "       '20230617_115521_standard_comp_to_omission_D1_subj_1-2_t2b2L_box2_merged',\n",
       "       '20230618_100636_standard_comp_to_omission_D2_subj_1_1_t1b2L_box2_merged',\n",
       "       '20230618_100636_standard_comp_to_omission_D2_subj_1_4_t4b3L_box1_merged',\n",
       "       '20230619_115321_standard_comp_to_omission_D3_subj_1-4_t3b3L_box2_merged',\n",
       "       '20230620_114347_standard_comp_to_omission_D4_subj_1-1_t1b2L_box_2_merged',\n",
       "       '20230620_114347_standard_comp_to_omission_D4_subj_1-2_t3b3L_box_1_merged',\n",
       "       '20230621_111240_standard_comp_to_omission_D5_subj_1-4_t3b3L_box1_merged'],\n",
       "      dtype=object)"
      ]
     },
     "execution_count": 36,
     "metadata": {},
     "output_type": "execute_result"
    }
   ],
   "source": [
    "MERGED_LFP_AND_SLEAP[\"recording_file\"].unique()"
   ]
  },
  {
   "cell_type": "code",
   "execution_count": 38,
   "metadata": {},
   "outputs": [
    {
     "data": {
      "text/plain": [
       "array(['20221202_134600_omission_and_competition_subject_6_1_top_2_base_3_merged',\n",
       "       '20221203_154800_omission_and_competition_subject_6_1_top_1_base_3_merged',\n",
       "       '20221214_125409_om_and_comp_6_1_top_1_base_2_vs_6_3',\n",
       "       '20221215_145401_comp_amd_om_6_1_top_4_base_3',\n",
       "       '20230617_115521_standard_comp_to_omission_D1_subj_1-1_t1b3L_box1_merged',\n",
       "       '20230617_115521_standard_comp_to_omission_D1_subj_1-2_t2b2L_box2_merged',\n",
       "       '20230618_100636_standard_comp_to_omission_D2_subj_1_1_t1b2L_box2_merged',\n",
       "       '20230618_100636_standard_comp_to_omission_D2_subj_1_4_t4b3L_box1_merged',\n",
       "       '20230619_115321_standard_comp_to_omission_D3_subj_1-4_t3b3L_box2_merged',\n",
       "       '20230620_114347_standard_comp_to_omission_D4_subj_1-1_t1b2L_box_2_merged',\n",
       "       '20230620_114347_standard_comp_to_omission_D4_subj_1-2_t3b3L_box_1_merged',\n",
       "       '20230621_111240_standard_comp_to_omission_D5_subj_1-4_t3b3L_box1_merged'],\n",
       "      dtype=object)"
      ]
     },
     "execution_count": 38,
     "metadata": {},
     "output_type": "execute_result"
    }
   ],
   "source": [
    "CHANNEL_MAP_AND_ALL_TRIALS_DF[\"recording_file\"].unique()"
   ]
  },
  {
   "cell_type": "code",
   "execution_count": 39,
   "metadata": {},
   "outputs": [
    {
     "data": {
      "text/plain": [
       "array(['20230617_115521_standard_comp_to_omission_D1_subj_1-1_t1b3L_box1_merged',\n",
       "       '20230617_115521_standard_comp_to_omission_D1_subj_1-2_t2b2L_box2_merged',\n",
       "       '20230618_100636_standard_comp_to_omission_D2_subj_1_1_t1b2L_box2_merged',\n",
       "       '20230618_100636_standard_comp_to_omission_D2_subj_1_4_t4b3L_box1_merged',\n",
       "       '20230619_115321_standard_comp_to_omission_D3_subj_1-4_t3b3L_box2_merged',\n",
       "       '20230620_114347_standard_comp_to_omission_D4_subj_1-1_t1b2L_box_2_merged',\n",
       "       '20230620_114347_standard_comp_to_omission_D4_subj_1-2_t3b3L_box_1_merged',\n",
       "       '20230621_111240_standard_comp_to_omission_D5_subj_1-4_t3b3L_box1_merged'],\n",
       "      dtype=object)"
      ]
     },
     "execution_count": 39,
     "metadata": {},
     "output_type": "execute_result"
    }
   ],
   "source": [
    "MERGED_TRIALS_AND_VIDEO[\"recording_file\"].unique()"
   ]
  },
  {
   "cell_type": "code",
   "execution_count": 35,
   "metadata": {},
   "outputs": [
    {
     "ename": "ValueError",
     "evalue": "",
     "output_type": "error",
     "traceback": [
      "\u001b[0;31m---------------------------------------------------------------------------\u001b[0m",
      "\u001b[0;31mValueError\u001b[0m                                Traceback (most recent call last)",
      "Cell \u001b[0;32mIn[35], line 1\u001b[0m\n\u001b[0;32m----> 1\u001b[0m \u001b[38;5;28;01mraise\u001b[39;00m \u001b[38;5;167;01mValueError\u001b[39;00m()\n",
      "\u001b[0;31mValueError\u001b[0m: "
     ]
    }
   ],
   "source": [
    "raise ValueError()"
   ]
  },
  {
   "cell_type": "raw",
   "metadata": {},
   "source": [
    "# Dropping all unnecessary columns\n",
    "MERGED_LFP_AND_SLEAP = MERGED_LFP_AND_SLEAP.drop(columns=[col for col in MERGED_LFP_AND_SLEAP if \"spike_interface\" in col], errors=\"ignore\")\n",
    "MERGED_LFP_AND_SLEAP = MERGED_LFP_AND_SLEAP.drop(columns=[col for col in MERGED_LFP_AND_SLEAP if \"index\" in col], errors=\"ignore\")\n",
    "MERGED_LFP_AND_SLEAP = MERGED_LFP_AND_SLEAP.drop(columns=[col for col in MERGED_LFP_AND_SLEAP if \"stamp\" in col], errors=\"ignore\")\n",
    "MERGED_LFP_AND_SLEAP = MERGED_LFP_AND_SLEAP.drop(columns=[col for col in MERGED_LFP_AND_SLEAP if \"box\" in col], errors=\"ignore\")\n",
    "MERGED_LFP_AND_SLEAP = MERGED_LFP_AND_SLEAP.drop(columns=[col for col in MERGED_LFP_AND_SLEAP if \"height\" in col], errors=\"ignore\")\n",
    "MERGED_LFP_AND_SLEAP = MERGED_LFP_AND_SLEAP.drop(columns=[col for col in MERGED_LFP_AND_SLEAP if \"width\" in col], errors=\"ignore\")\n",
    "MERGED_LFP_AND_SLEAP = MERGED_LFP_AND_SLEAP.drop(columns=[col for col in MERGED_LFP_AND_SLEAP if \"ratio\" in col], errors=\"ignore\")\n",
    "MERGED_LFP_AND_SLEAP = MERGED_LFP_AND_SLEAP.drop(columns=[col for col in MERGED_LFP_AND_SLEAP if \"width\" in col], errors=\"ignore\")\n",
    "MERGED_LFP_AND_SLEAP = MERGED_LFP_AND_SLEAP.drop(columns=['individual_subj',\n",
    " 'all_subj',\n",
    " 'recording_name',\n",
    " 'track_names',\n",
    " 'subject_id',\n",
    " 'corner_path',\n",
    " 'corner_parts',\n",
    " 'rescaled_locations',\n",
    " 'reward_port'], errors=\"ignore\")"
   ]
  },
  {
   "cell_type": "code",
   "execution_count": null,
   "metadata": {
    "scrolled": true
   },
   "outputs": [],
   "source": [
    "MERGED_LFP_AND_SLEAP.head()"
   ]
  },
  {
   "cell_type": "code",
   "execution_count": null,
   "metadata": {},
   "outputs": [],
   "source": []
  },
  {
   "cell_type": "code",
   "execution_count": null,
   "metadata": {},
   "outputs": [],
   "source": [
    "trace_columns = [col for col in MERGED_LFP_AND_SLEAP.columns if \"trace\" in col and \"baselineandtrial\" not in col]"
   ]
  },
  {
   "cell_type": "code",
   "execution_count": null,
   "metadata": {},
   "outputs": [],
   "source": [
    "trial_trace_columns = sorted([col for col in MERGED_LFP_AND_SLEAP.columns if \"trial_lfp_trace\" in col])\n",
    "baseline_trace_columns = sorted([col for col in MERGED_LFP_AND_SLEAP.columns if \"baseline_lfp_trace\" in col])"
   ]
  },
  {
   "cell_type": "code",
   "execution_count": null,
   "metadata": {},
   "outputs": [],
   "source": [
    "trace_columns"
   ]
  },
  {
   "cell_type": "code",
   "execution_count": null,
   "metadata": {},
   "outputs": [],
   "source": [
    "trial_trace_columns"
   ]
  },
  {
   "cell_type": "markdown",
   "metadata": {},
   "source": [
    "## Power Calcuation"
   ]
  },
  {
   "cell_type": "raw",
   "metadata": {},
   "source": [
    "os.environ[\"SPECTRAL_CONNECTIVITY_ENABLE_GPU\"] = \"false\"\n",
    "import cupy as cp\n",
    "from spectral_connectivity import Multitaper, Connectivity\n",
    "import spectral_connectivity"
   ]
  },
  {
   "cell_type": "markdown",
   "metadata": {},
   "source": [
    "- Calcuating the power at each frequency band"
   ]
  },
  {
   "cell_type": "code",
   "execution_count": null,
   "metadata": {},
   "outputs": [],
   "source": [
    "for col in trace_columns:\n",
    "    region_and_baseline_or_trial = \"_\".join(col.split(\"_\")[:2])\n",
    "    MERGED_LFP_AND_SLEAP[\"{}_multitaper\".format(region_and_baseline_or_trial)] = MERGED_LFP_AND_SLEAP[\"{}_lfp_trace\".format(region_and_baseline_or_trial)].apply(lambda x: Multitaper(time_series=x, sampling_frequency=RESAMPLE_RATE, time_halfbandwidth_product=TIME_HALFBANDWIDTH_PRODUCT,                                                                              time_window_duration=TIME_WINDOW_DURATION, time_window_step=TIME_WINDOW_STEP                                                                                                                                         ))"
   ]
  },
  {
   "cell_type": "code",
   "execution_count": null,
   "metadata": {},
   "outputs": [],
   "source": [
    "for col in trace_columns:\n",
    "    print(col)\n",
    "    region_and_baseline_or_trial = \"_\".join(col.split(\"_\")[:2])\n",
    "    MERGED_LFP_AND_SLEAP[\"{}_connectivity\".format(region_and_baseline_or_trial)] = MERGED_LFP_AND_SLEAP[\"{}_multitaper\".format(region_and_baseline_or_trial)].apply(lambda x: Connectivity.from_multitaper(x))"
   ]
  },
  {
   "cell_type": "code",
   "execution_count": null,
   "metadata": {},
   "outputs": [],
   "source": [
    "for col in trace_columns:\n",
    "    region_and_baseline_or_trial = \"_\".join(col.split(\"_\")[:2])\n",
    "    MERGED_LFP_AND_SLEAP[\"{}_frequencies\".format(region_and_baseline_or_trial)] = MERGED_LFP_AND_SLEAP[\"{}_connectivity\".format(region_and_baseline_or_trial)].apply(lambda x: x.frequencies)"
   ]
  },
  {
   "cell_type": "code",
   "execution_count": null,
   "metadata": {},
   "outputs": [],
   "source": [
    "for col in trace_columns:\n",
    "    region_and_baseline_or_trial = \"_\".join(col.split(\"_\")[:2])\n",
    "    MERGED_LFP_AND_SLEAP[\"{}_all_window_power\".format(region_and_baseline_or_trial)] = MERGED_LFP_AND_SLEAP[\"{}_connectivity\".format(region_and_baseline_or_trial)].apply(lambda x: x.power().squeeze())"
   ]
  },
  {
   "cell_type": "code",
   "execution_count": null,
   "metadata": {},
   "outputs": [],
   "source": [
    "MERGED_LFP_AND_SLEAP = MERGED_LFP_AND_SLEAP.drop(columns=[col for col in MERGED_LFP_AND_SLEAP if \"multitaper\" in col], errors=\"ignore\")\n",
    "MERGED_LFP_AND_SLEAP = MERGED_LFP_AND_SLEAP.drop(columns=[col for col in MERGED_LFP_AND_SLEAP if \"connectivity\" in col], errors=\"ignore\")"
   ]
  },
  {
   "cell_type": "code",
   "execution_count": null,
   "metadata": {
    "scrolled": true
   },
   "outputs": [],
   "source": [
    "MERGED_LFP_AND_SLEAP.head()"
   ]
  },
  {
   "cell_type": "code",
   "execution_count": null,
   "metadata": {
    "scrolled": true
   },
   "outputs": [],
   "source": [
    "MERGED_LFP_AND_SLEAP.columns"
   ]
  },
  {
   "cell_type": "markdown",
   "metadata": {},
   "source": [
    "### Averaging the power for all the windows(without any distance parsing) "
   ]
  },
  {
   "cell_type": "code",
   "execution_count": null,
   "metadata": {},
   "outputs": [],
   "source": [
    "baseline_windowed_power_columns = [col for col in MERGED_LFP_AND_SLEAP.columns if \"baseline_all_window_power\" in col and \"baselineandtrial_all_window_power\" not in col]\n",
    "trial_windowed_power_columns = [col for col in MERGED_LFP_AND_SLEAP.columns if \"trial_all_window_power\" in col and \"baselineandtrial_all_window_power\" not in col]"
   ]
  },
  {
   "cell_type": "code",
   "execution_count": null,
   "metadata": {},
   "outputs": [],
   "source": [
    "trial_windowed_power_columns"
   ]
  },
  {
   "cell_type": "code",
   "execution_count": null,
   "metadata": {},
   "outputs": [],
   "source": [
    "for col in baseline_windowed_power_columns:\n",
    "    region_and_baseline_or_trial = \"_\".join(col.split(\"_\")[:2])\n",
    "    MERGED_LFP_AND_SLEAP[\"{}_window_averaged_power\".format(region_and_baseline_or_trial)] = MERGED_LFP_AND_SLEAP.apply(lambda x: np.array(x[col]).mean(axis=0), axis=1)"
   ]
  },
  {
   "cell_type": "code",
   "execution_count": null,
   "metadata": {},
   "outputs": [],
   "source": [
    "for col in trial_windowed_power_columns:\n",
    "    region_and_baseline_or_trial = \"_\".join(col.split(\"_\")[:2])\n",
    "    MERGED_LFP_AND_SLEAP[\"{}_window_averaged_power\".format(region_and_baseline_or_trial)] = MERGED_LFP_AND_SLEAP.apply(lambda x: np.array(x[col]).mean(axis=0), axis=1)"
   ]
  },
  {
   "cell_type": "code",
   "execution_count": null,
   "metadata": {},
   "outputs": [],
   "source": [
    "MERGED_LFP_AND_SLEAP = MERGED_LFP_AND_SLEAP.drop(columns=[col for col in MERGED_LFP_AND_SLEAP if \"multitaper\" in col], errors=\"ignore\")\n",
    "MERGED_LFP_AND_SLEAP = MERGED_LFP_AND_SLEAP.drop(columns=[col for col in MERGED_LFP_AND_SLEAP if \"connectivity\" in col], errors=\"ignore\")"
   ]
  },
  {
   "cell_type": "code",
   "execution_count": null,
   "metadata": {},
   "outputs": [],
   "source": [
    "MERGED_LFP_AND_SLEAP.drop(columns=trace_columns, errors=\"ignore\").to_pickle(\"./proc/rce_lfp_all_window_power.pkl\")\n"
   ]
  },
  {
   "cell_type": "markdown",
   "metadata": {},
   "source": [
    "# Averaging across bands within a window"
   ]
  },
  {
   "cell_type": "code",
   "execution_count": null,
   "metadata": {},
   "outputs": [],
   "source": [
    "ALL_REGION_BAND_COL = []\n",
    "for col in trial_windowed_power_columns:\n",
    "    for band, (min_freq, max_freq) in BAND_TO_FREQ.items():\n",
    "        # print(min_freq)\n",
    "        # print(max_freq)\n",
    "        region_and_baseline_or_trial = \"_\".join(col.split(\"_\")[:2])\n",
    "        # print(region_and_baseline_or_trial)\n",
    "        region_band_col = \"{}_{}_all_window_power\".format(region_and_baseline_or_trial, band)\n",
    "        ALL_REGION_BAND_COL.append(region_band_col)\n",
    "        MERGED_LFP_AND_SLEAP[region_band_col] = MERGED_LFP_AND_SLEAP[col].apply(lambda x: np.mean(x[:, min_freq:max_freq], axis=1))\n",
    "\n",
    "\n"
   ]
  },
  {
   "cell_type": "code",
   "execution_count": null,
   "metadata": {},
   "outputs": [],
   "source": [
    "MERGED_LFP_AND_SLEAP[\"BLA_trial_beta_all_window_power\"].iloc[0].shape"
   ]
  },
  {
   "cell_type": "markdown",
   "metadata": {},
   "source": [
    "# Parsing by distance to reward port"
   ]
  },
  {
   "cell_type": "markdown",
   "metadata": {},
   "source": [
    "- Getting a mask for each segment based on distance"
   ]
  },
  {
   "cell_type": "code",
   "execution_count": null,
   "metadata": {},
   "outputs": [],
   "source": [
    "all_bins = set(x for lst in MERGED_LFP_AND_SLEAP[\"binned_trial_subject_thorax_to_reward_port_distance\"] for x in lst)"
   ]
  },
  {
   "cell_type": "code",
   "execution_count": null,
   "metadata": {},
   "outputs": [],
   "source": [
    "all_bins"
   ]
  },
  {
   "cell_type": "code",
   "execution_count": null,
   "metadata": {},
   "outputs": [],
   "source": [
    "all_bin_df = []\n",
    "for bin in all_bins:\n",
    "    current_df = MERGED_LFP_AND_SLEAP.copy()\n",
    "    current_df[\"binned_trial_distance_mask\"] = current_df[\"binned_trial_subject_thorax_to_reward_port_distance\"].apply(lambda x: [index for index, num in enumerate(x) if num == bin])\n",
    "    current_df[\"binned_baseline_distance_mask\"] = current_df[\"binned_baseline_subject_thorax_to_reward_port_distance\"].apply(lambda x: [index for index, num in enumerate(x) if num == bin])\n",
    "    for col in baseline_windowed_power_columns:\n",
    "        region_and_baseline_or_trial = \"_\".join(col.split(\"_\")[:2])\n",
    "        current_df[\"{}_distance_parsed_window_averaged_power\".format(region_and_baseline_or_trial)] = current_df.apply(lambda x: np.nanmean(np.array([x[col][i] for i in x[\"binned_baseline_distance_mask\"]]), axis=0), axis=1)\n",
    "\n",
    "    for col in trial_windowed_power_columns:\n",
    "        region_and_baseline_or_trial = \"_\".join(col.split(\"_\")[:2])\n",
    "        current_df[\"{}_distance_parsed_window_averaged_power\".format(region_and_baseline_or_trial)] = current_df.apply(lambda x: np.nanmean(np.array([x[col][i] for i in x[\"binned_trial_distance_mask\"]]), axis=0), axis=1)\n",
    "    \n",
    "    current_df[\"distance_bin\"] = bin\n",
    "    all_bin_df.append(current_df)\n",
    "        \n",
    "    \n",
    "    \n"
   ]
  },
  {
   "cell_type": "code",
   "execution_count": null,
   "metadata": {},
   "outputs": [],
   "source": [
    "DISTANCE_PARSED_MERGED_LFP_AND_SLEAP = pd.concat(all_bin_df).reset_index(drop=True)"
   ]
  },
  {
   "cell_type": "markdown",
   "metadata": {},
   "source": [
    "## Plotting all the similar velocities together"
   ]
  },
  {
   "cell_type": "code",
   "execution_count": null,
   "metadata": {},
   "outputs": [],
   "source": [
    "window_averaged_power_columns = [col for col in DISTANCE_PARSED_MERGED_LFP_AND_SLEAP.columns if \"distance_parsed_window_averaged_power\" in col]"
   ]
  },
  {
   "cell_type": "code",
   "execution_count": null,
   "metadata": {},
   "outputs": [],
   "source": [
    "window_averaged_power_columns"
   ]
  },
  {
   "cell_type": "markdown",
   "metadata": {},
   "source": [
    "- Grouping by trial outcome and distance"
   ]
  },
  {
   "cell_type": "code",
   "execution_count": null,
   "metadata": {
    "scrolled": true
   },
   "outputs": [],
   "source": [
    "MERGED_LFP_AND_SLEAP.head()"
   ]
  },
  {
   "cell_type": "code",
   "execution_count": null,
   "metadata": {},
   "outputs": [],
   "source": [
    "grouped_all_trials_df = DISTANCE_PARSED_MERGED_LFP_AND_SLEAP.groupby(['trial_outcome', 'distance_bin']).agg({k: lambda x: np.vstack([arr for arr in x.tolist() if not np.any(np.isnan(arr))]) for k in window_averaged_power_columns}).reset_index()"
   ]
  },
  {
   "cell_type": "code",
   "execution_count": null,
   "metadata": {},
   "outputs": [],
   "source": [
    "grouped_all_trials_df = pd.melt(grouped_all_trials_df, id_vars =['trial_outcome', 'distance_bin'], value_vars =grouped_all_trials_df.drop(columns=[\"trial_outcome\", \"distance_bin\"]).columns, value_name=\"power\", var_name=\"region_and_baseline_or_trial\") "
   ]
  },
  {
   "cell_type": "code",
   "execution_count": null,
   "metadata": {},
   "outputs": [],
   "source": [
    "grouped_all_trials_df.head()"
   ]
  },
  {
   "cell_type": "code",
   "execution_count": null,
   "metadata": {},
   "outputs": [],
   "source": [
    "grouped_all_trials_df[\"brain_region\"] = grouped_all_trials_df[\"region_and_baseline_or_trial\"].apply(lambda x: x.split(\"_\")[0].strip())"
   ]
  },
  {
   "cell_type": "code",
   "execution_count": null,
   "metadata": {},
   "outputs": [],
   "source": [
    "grouped_all_trials_df[\"trial_or_baseline\"] = grouped_all_trials_df[\"region_and_baseline_or_trial\"].apply(lambda x: x.split(\"_\")[1].strip())"
   ]
  },
  {
   "cell_type": "code",
   "execution_count": null,
   "metadata": {},
   "outputs": [],
   "source": [
    "grouped_all_trials_df = grouped_all_trials_df[grouped_all_trials_df[\"trial_or_baseline\"] == \"trial\"].reset_index(drop=True)"
   ]
  },
  {
   "cell_type": "code",
   "execution_count": null,
   "metadata": {},
   "outputs": [],
   "source": [
    "grouped_all_trials_df[\"mean_power\"] = grouped_all_trials_df[\"power\"].apply(lambda x: np.nanmean(np.vstack(x), axis=0))"
   ]
  },
  {
   "cell_type": "code",
   "execution_count": null,
   "metadata": {},
   "outputs": [],
   "source": [
    "grouped_all_trials_df[\"std_power\"] = grouped_all_trials_df[\"power\"].apply(lambda x: np.nanstd(np.vstack(x), axis=0))"
   ]
  },
  {
   "cell_type": "code",
   "execution_count": null,
   "metadata": {},
   "outputs": [],
   "source": [
    "grouped_all_trials_df[\"n_trials\"] = grouped_all_trials_df[\"power\"].apply(lambda x: np.sum(~np.isnan(x), axis=0))"
   ]
  },
  {
   "cell_type": "code",
   "execution_count": null,
   "metadata": {},
   "outputs": [],
   "source": [
    "grouped_all_trials_df[\"sem_power\"] = grouped_all_trials_df.apply(lambda x: x[\"std_power\"] / np.sqrt(x[\"n_trials\"]), axis=1)"
   ]
  },
  {
   "cell_type": "code",
   "execution_count": null,
   "metadata": {
    "scrolled": true
   },
   "outputs": [],
   "source": [
    "grouped_all_trials_df[\"trial_outcome\"].unique()"
   ]
  },
  {
   "cell_type": "code",
   "execution_count": null,
   "metadata": {
    "scrolled": true
   },
   "outputs": [],
   "source": [
    "grouped_all_trials_df"
   ]
  },
  {
   "cell_type": "markdown",
   "metadata": {},
   "source": [
    "## Drawing all distance bins together for each trial outcome"
   ]
  },
  {
   "cell_type": "code",
   "execution_count": null,
   "metadata": {
    "scrolled": true
   },
   "outputs": [],
   "source": [
    "grouped_all_trials_df.head()"
   ]
  },
  {
   "cell_type": "code",
   "execution_count": null,
   "metadata": {},
   "outputs": [],
   "source": [
    "ALL_FREQUENCIES = [int(num) for num in DISTANCE_PARSED_MERGED_LFP_AND_SLEAP[[col for col in DISTANCE_PARSED_MERGED_LFP_AND_SLEAP if \"frequencies\" in col][0]].iloc[0]]"
   ]
  },
  {
   "cell_type": "code",
   "execution_count": null,
   "metadata": {},
   "outputs": [],
   "source": [
    "low_freq = 0\n",
    "high_freq = 13\n",
    "for region in grouped_all_trials_df[\"region_and_baseline_or_trial\"].unique():\n",
    "    region_df = grouped_all_trials_df[grouped_all_trials_df[\"region_and_baseline_or_trial\"] == region]\n",
    "\n",
    "    for outcome in region_df[\"trial_outcome\"].unique():\n",
    "        fig, ax = plt.subplots()\n",
    "        plt.title(\"{} during {} trials\".format(region.split(\"_\")[0], outcome), fontsize=30)\n",
    "        plt.xlabel(\"Frequency\", fontsize=20)\n",
    "        plt.ylabel(\"Power\", fontsize=20)\n",
    "        plt.xlim(low_freq, high_freq) \n",
    "        # plt.yscale(\"log\")\n",
    "        plt.ylim(0, 0.1)\n",
    "        outcome_df = region_df[(region_df[\"trial_outcome\"] == outcome)]\n",
    "        # Generate gradient colors\n",
    "        gradient_colors = generate_gradient_colors(OUTCOME_TO_COLOR[outcome], 20)\n",
    "        \n",
    "        for index, row in outcome_df.iterrows():           \n",
    "            current_frequencies = ALL_FREQUENCIES[low_freq: high_freq]\n",
    "            mean_power = row[\"mean_power\"][low_freq: high_freq]\n",
    "            sem_power = row[\"sem_power\"][low_freq: high_freq]\n",
    "                \n",
    "            \n",
    "            try:\n",
    "                ax = sns.lineplot(x=current_frequencies, y=mean_power, \\\n",
    "                label=\"{}\".format(BIN_TO_DISTANCE[row[\"distance_bin\"]]), linewidth=3, color=gradient_colors[-(row[\"distance_bin\"]+1) *4])\n",
    "                \n",
    "                plt.fill_between(current_frequencies, \n",
    "                mean_power - sem_power, mean_power + sem_power, \\\n",
    "                alpha=0.1, color=gradient_colors[-(row[\"distance_bin\"]+1) *4])\n",
    "            \n",
    "            except Exception as e: \n",
    "                print(e)\n",
    "                continue\n",
    "                \n",
    "        plt.legend()\n",
    "        plt.tight_layout()\n",
    "        plt.savefig(\"./proc/distance_parsed_power/rce_distance_parsed_lfp_power_freq_{}_to_{}_region_{}_{}.png\".format(low_freq, high_freq, region.split(\"_\")[0], outcome))"
   ]
  },
  {
   "cell_type": "code",
   "execution_count": null,
   "metadata": {},
   "outputs": [],
   "source": [
    "low_freq = 12\n",
    "high_freq = 31\n",
    "for region in grouped_all_trials_df[\"region_and_baseline_or_trial\"].unique():\n",
    "    region_df = grouped_all_trials_df[grouped_all_trials_df[\"region_and_baseline_or_trial\"] == region]\n",
    "\n",
    "    for outcome in region_df[\"trial_outcome\"].unique():\n",
    "        fig, ax = plt.subplots()\n",
    "        plt.title(\"Z-Scored LFP Power in {} for {}\".format(region.split(\"_\")[0], outcome))\n",
    "        plt.xlabel(\"Frequency\")\n",
    "        plt.ylabel(\"Power\")\n",
    "        plt.xlim(low_freq, high_freq) \n",
    "        # plt.yscale(\"log\")\n",
    "        plt.ylim(0, 0.015)\n",
    "        \n",
    "        outcome_df = region_df[(region_df[\"trial_outcome\"] == outcome)]\n",
    "        # Generate gradient colors\n",
    "        gradient_colors = generate_gradient_colors(OUTCOME_TO_COLOR[outcome], 20)\n",
    "        \n",
    "        for index, row in outcome_df.iterrows():           \n",
    "            current_frequencies = ALL_FREQUENCIES[low_freq: high_freq]\n",
    "            mean_power = row[\"mean_power\"][low_freq: high_freq]\n",
    "            sem_power = row[\"sem_power\"][low_freq: high_freq]\n",
    "                \n",
    "            \n",
    "            try:\n",
    "                ax = sns.lineplot(x=current_frequencies, y=mean_power, \\\n",
    "                label=\"{} {}\".format(outcome, BIN_TO_DISTANCE[row[\"distance_bin\"]]), linewidth=3, color=gradient_colors[-(row[\"distance_bin\"]+1) *4])\n",
    "                \n",
    "                plt.fill_between(current_frequencies, \n",
    "                mean_power - sem_power, mean_power + sem_power, \\\n",
    "                alpha=0.1, color=gradient_colors[-(row[\"distance_bin\"]+1) *4])\n",
    "            \n",
    "            except Exception as e: \n",
    "                print(e)\n",
    "                continue\n",
    "        plt.legend()\n",
    "        plt.savefig(\"./proc/distance_parsed_power/rce_distance_parsed_lfp_power_freq_{}_to_{}_region_{}_{}.png\".format(low_freq, high_freq, region.split(\"_\")[0], outcome))"
   ]
  },
  {
   "cell_type": "code",
   "execution_count": null,
   "metadata": {
    "scrolled": true
   },
   "outputs": [],
   "source": [
    "low_freq = 30\n",
    "high_freq = 91\n",
    "for region in grouped_all_trials_df[\"region_and_baseline_or_trial\"].unique():\n",
    "    region_df = grouped_all_trials_df[grouped_all_trials_df[\"region_and_baseline_or_trial\"] == region]\n",
    "\n",
    "    for outcome in region_df[\"trial_outcome\"].unique():\n",
    "        fig, ax = plt.subplots()\n",
    "        plt.title(\"Z-Scored LFP Power in {} for {}\".format(region.split(\"_\")[0], outcome))\n",
    "        plt.xlabel(\"Frequency\")\n",
    "        plt.ylabel(\"Power\")\n",
    "        plt.xlim(low_freq, high_freq) \n",
    "        # plt.yscale(\"log\")\n",
    "        plt.ylim(0, 0.004)\n",
    "        outcome_df = region_df[(region_df[\"trial_outcome\"] == outcome)]\n",
    "        # Generate gradient colors\n",
    "        gradient_colors = generate_gradient_colors(OUTCOME_TO_COLOR[outcome], 20)\n",
    "        \n",
    "        for index, row in outcome_df.iterrows():           \n",
    "            current_frequencies = ALL_FREQUENCIES[low_freq: high_freq]\n",
    "            mean_power = row[\"mean_power\"][low_freq: high_freq]\n",
    "            sem_power = row[\"sem_power\"][low_freq: high_freq]\n",
    "                \n",
    "            \n",
    "            try:\n",
    "                ax = sns.lineplot(x=current_frequencies, y=mean_power, \\\n",
    "                label=\"{} {}\".format(outcome, BIN_TO_DISTANCE[row[\"distance_bin\"]]), linewidth=3, color=gradient_colors[-(row[\"distance_bin\"]+1) *4])\n",
    "                \n",
    "                plt.fill_between(current_frequencies, \n",
    "                mean_power - sem_power, mean_power + sem_power, \\\n",
    "                alpha=0.1, color=gradient_colors[-(row[\"distance_bin\"]+1) *4])\n",
    "            \n",
    "            except Exception as e: \n",
    "                print(e)\n",
    "                continue\n",
    "        plt.legend()\n",
    "        plt.savefig(\"./proc/distance_parsed_power/rce_distance_parsed_lfp_power_freq_{}_to_{}_region_{}_{}.png\".format(low_freq, high_freq, region.split(\"_\")[0], outcome))"
   ]
  },
  {
   "cell_type": "markdown",
   "metadata": {},
   "source": [
    "# Plotting be distance"
   ]
  },
  {
   "cell_type": "code",
   "execution_count": null,
   "metadata": {},
   "outputs": [],
   "source": [
    "grouped_all_trials_df = DISTANCE_PARSED_MERGED_LFP_AND_SLEAP.groupby(['distance_bin']).agg({k: lambda x: np.vstack([arr for arr in x.tolist() if not np.any(np.isnan(arr))]) for k in window_averaged_power_columns}).reset_index()"
   ]
  },
  {
   "cell_type": "code",
   "execution_count": null,
   "metadata": {},
   "outputs": [],
   "source": [
    "grouped_all_trials_df = pd.melt(grouped_all_trials_df, id_vars =['distance_bin'], value_vars =grouped_all_trials_df.drop(columns=[\"distance_bin\"]).columns, value_name=\"power\", var_name=\"region_and_baseline_or_trial\") "
   ]
  },
  {
   "cell_type": "code",
   "execution_count": null,
   "metadata": {},
   "outputs": [],
   "source": [
    "grouped_all_trials_df.head()"
   ]
  },
  {
   "cell_type": "code",
   "execution_count": null,
   "metadata": {},
   "outputs": [],
   "source": [
    "grouped_all_trials_df[\"brain_region\"] = grouped_all_trials_df[\"region_and_baseline_or_trial\"].apply(lambda x: x.split(\"_\")[0].strip())"
   ]
  },
  {
   "cell_type": "code",
   "execution_count": null,
   "metadata": {},
   "outputs": [],
   "source": [
    "grouped_all_trials_df[\"trial_or_baseline\"] = grouped_all_trials_df[\"region_and_baseline_or_trial\"].apply(lambda x: x.split(\"_\")[1].strip())"
   ]
  },
  {
   "cell_type": "code",
   "execution_count": null,
   "metadata": {},
   "outputs": [],
   "source": [
    "grouped_all_trials_df[\"mean_power\"] = grouped_all_trials_df[\"power\"].apply(lambda x: np.nanmean(np.vstack(x), axis=0))"
   ]
  },
  {
   "cell_type": "code",
   "execution_count": null,
   "metadata": {},
   "outputs": [],
   "source": [
    "grouped_all_trials_df[\"std_power\"] = grouped_all_trials_df[\"power\"].apply(lambda x: np.nanstd(np.vstack(x), axis=0))"
   ]
  },
  {
   "cell_type": "code",
   "execution_count": null,
   "metadata": {},
   "outputs": [],
   "source": [
    "grouped_all_trials_df[\"n_trials\"] = grouped_all_trials_df[\"power\"].apply(lambda x: np.sum(~np.isnan(x), axis=0))"
   ]
  },
  {
   "cell_type": "code",
   "execution_count": null,
   "metadata": {},
   "outputs": [],
   "source": [
    "grouped_all_trials_df[\"sem_power\"] = grouped_all_trials_df.apply(lambda x: x[\"std_power\"] / np.sqrt(x[\"n_trials\"]), axis=1)"
   ]
  },
  {
   "cell_type": "code",
   "execution_count": null,
   "metadata": {
    "scrolled": true
   },
   "outputs": [],
   "source": [
    "grouped_all_trials_df.head()"
   ]
  },
  {
   "cell_type": "markdown",
   "metadata": {},
   "source": [
    "# Drawing all distance bins together for each trial outcome"
   ]
  },
  {
   "cell_type": "code",
   "execution_count": null,
   "metadata": {},
   "outputs": [],
   "source": []
  },
  {
   "cell_type": "code",
   "execution_count": null,
   "metadata": {},
   "outputs": [],
   "source": [
    "OUTCOME_TO_COLOR"
   ]
  },
  {
   "cell_type": "code",
   "execution_count": null,
   "metadata": {
    "scrolled": true
   },
   "outputs": [],
   "source": [
    "grouped_all_trials_df.head()"
   ]
  },
  {
   "cell_type": "code",
   "execution_count": null,
   "metadata": {},
   "outputs": [],
   "source": [
    "low_freq = 0\n",
    "high_freq = 13\n",
    "for region in grouped_all_trials_df[\"brain_region\"].unique():\n",
    "    region_df = grouped_all_trials_df[(grouped_all_trials_df[\"brain_region\"] == region) & (grouped_all_trials_df[\"trial_or_baseline\"] == \"trial\")]\n",
    "\n",
    "    fig, ax = plt.subplots()\n",
    "    plt.title(\"{} \".format(region.split(\"_\")[0]), fontsize=30)\n",
    "    plt.xlabel(\"Frequency\", fontsize=30)\n",
    "    plt.ylabel(\"Power\", fontsize=30)\n",
    "    plt.xlim(low_freq, high_freq) \n",
    "    # plt.yscale(\"log\")\n",
    "    \n",
    "    # Generate gradient colors\n",
    "    gradient_colors = generate_gradient_colors(\"red\", 20)\n",
    "    \n",
    "    for index, row in region_df.iterrows():           \n",
    "\n",
    "        current_frequencies = ALL_FREQUENCIES[low_freq: high_freq]\n",
    "        mean_power = row[\"mean_power\"][low_freq: high_freq]\n",
    "        sem_power = row[\"sem_power\"][low_freq: high_freq]\n",
    "            \n",
    "        \n",
    "        try:\n",
    "            ax = sns.lineplot(x=current_frequencies, y=mean_power, \\\n",
    "            label=\"{}\".format(BIN_TO_DISTANCE[row[\"distance_bin\"]]), linewidth=5, color=gradient_colors[-(row[\"distance_bin\"]+1) *4])\n",
    "            \n",
    "            plt.fill_between(current_frequencies, \n",
    "            mean_power - sem_power, mean_power + sem_power, \\\n",
    "            alpha=0.1, color=gradient_colors[-(row[\"distance_bin\"]+1) *4])\n",
    "        \n",
    "        except Exception as e: \n",
    "            print(e)\n",
    "            continue\n",
    "    plt.tight_layout()\n",
    "    plt.legend(ncol=2)\n",
    "    plt.savefig(\"./proc/distance_parsed_power/rce_distance_parsed_lfp_power_freq_{}_to_{}_region_{}.png\".format(low_freq, high_freq, region.split(\"_\")[0]))"
   ]
  },
  {
   "cell_type": "code",
   "execution_count": null,
   "metadata": {},
   "outputs": [],
   "source": [
    "low_freq = 12\n",
    "high_freq = 31\n",
    "for region in grouped_all_trials_df[\"brain_region\"].unique():\n",
    "    region_df = grouped_all_trials_df[(grouped_all_trials_df[\"brain_region\"] == region) & (grouped_all_trials_df[\"trial_or_baseline\"] == \"trial\")]\n",
    "\n",
    "    fig, ax = plt.subplots()\n",
    "    plt.title(\"Z-Scored LFP Power in {} \".format(region.split(\"_\")[0]), fontsize=30)\n",
    "    plt.xlabel(\"Frequency\", fontsize=30)\n",
    "    plt.ylabel(\"Power\", fontsize=30)\n",
    "    plt.xlim(low_freq, high_freq) \n",
    "    # plt.yscale(\"log\")\n",
    "    \n",
    "    # Generate gradient colors\n",
    "    gradient_colors = generate_gradient_colors(\"red\", 20)\n",
    "    \n",
    "    for index, row in region_df.iterrows():           \n",
    "\n",
    "        current_frequencies = ALL_FREQUENCIES[low_freq: high_freq]\n",
    "        mean_power = row[\"mean_power\"][low_freq: high_freq]\n",
    "        sem_power = row[\"sem_power\"][low_freq: high_freq]\n",
    "            \n",
    "        \n",
    "        try:\n",
    "            ax = sns.lineplot(x=current_frequencies, y=mean_power, \\\n",
    "            label=\"{}\".format(BIN_TO_DISTANCE[row[\"distance_bin\"]]), linewidth=5, color=gradient_colors[-(row[\"distance_bin\"]+1) *4])\n",
    "            \n",
    "            plt.fill_between(current_frequencies, \n",
    "            mean_power - sem_power, mean_power + sem_power, \\\n",
    "            alpha=0.1, color=gradient_colors[-(row[\"distance_bin\"]+1) *4])\n",
    "        \n",
    "        except Exception as e: \n",
    "            print(e)\n",
    "            continue\n",
    "    plt.legend()\n",
    "    plt.savefig(\"./proc/distance_parsed_power/rce_distance_parsed_lfp_power_freq_{}_to_{}_region_{}.png\".format(low_freq, high_freq, region.split(\"_\")[0]))"
   ]
  },
  {
   "cell_type": "code",
   "execution_count": null,
   "metadata": {
    "scrolled": true
   },
   "outputs": [],
   "source": [
    "low_freq = 30\n",
    "high_freq = 90\n",
    "for region in grouped_all_trials_df[\"brain_region\"].unique():\n",
    "    region_df = grouped_all_trials_df[(grouped_all_trials_df[\"brain_region\"] == region) & (grouped_all_trials_df[\"trial_or_baseline\"] == \"trial\")]\n",
    "\n",
    "    fig, ax = plt.subplots()\n",
    "    plt.title(\"Z-Scored LFP Power in {} \".format(region.split(\"_\")[0]))\n",
    "    plt.xlabel(\"Frequency\")\n",
    "    plt.ylabel(\"Power\")\n",
    "    plt.xlim(low_freq, high_freq) \n",
    "    # plt.yscale(\"log\")\n",
    "    \n",
    "    # Generate gradient colors\n",
    "    gradient_colors = generate_gradient_colors(\"red\", 20)\n",
    "    \n",
    "    for index, row in region_df.iterrows():           \n",
    "\n",
    "        current_frequencies = ALL_FREQUENCIES[low_freq: high_freq]\n",
    "        mean_power = row[\"mean_power\"][low_freq: high_freq]\n",
    "        sem_power = row[\"sem_power\"][low_freq: high_freq]\n",
    "            \n",
    "        \n",
    "        try:\n",
    "            ax = sns.lineplot(x=current_frequencies, y=mean_power, \\\n",
    "            label=\"{}\".format(BIN_TO_DISTANCE[row[\"distance_bin\"]]), linewidth=5, color=gradient_colors[-(row[\"distance_bin\"]+1) *4])\n",
    "            \n",
    "            plt.fill_between(current_frequencies, \n",
    "            mean_power - sem_power, mean_power + sem_power, \\\n",
    "            alpha=0.1, color=gradient_colors[-(row[\"distance_bin\"]+1) *4])\n",
    "        \n",
    "        except Exception as e: \n",
    "            print(e)\n",
    "            continue\n",
    "    plt.legend()\n",
    "    plt.savefig(\"./proc/distance_parsed_power/rce_distance_parsed_lfp_power_freq_{}_to_{}_region_{}.png\".format(low_freq, high_freq, region.split(\"_\")[0]))"
   ]
  },
  {
   "cell_type": "code",
   "execution_count": null,
   "metadata": {},
   "outputs": [],
   "source": [
    "for col in MERGED_LFP_AND_SLEAP.columns:\n",
    "    print(col)"
   ]
  },
  {
   "cell_type": "code",
   "execution_count": null,
   "metadata": {},
   "outputs": [],
   "source": [
    "MERGED_LFP_AND_SLEAP[\"mPFC_trial_theta_all_window_power\"].iloc[0]"
   ]
  },
  {
   "cell_type": "code",
   "execution_count": null,
   "metadata": {},
   "outputs": [],
   "source": [
    "low_freq = 12\n",
    "high_freq = 31\n",
    "for region in grouped_all_trials_df[\"region_and_baseline_or_trial\"].unique():\n",
    "    region_df = grouped_all_trials_df[grouped_all_trials_df[\"region_and_baseline_or_trial\"] == region]\n",
    "\n",
    "    for outcome in region_df[\"trial_outcome\"].unique():\n",
    "        fig, ax = plt.subplots()\n",
    "        plt.title(\"Z-Scored LFP Power in {} for {}\".format(region.split(\"_\")[0], outcome))\n",
    "        plt.xlabel(\"Frequency\")\n",
    "        plt.ylabel(\"Power\")\n",
    "        plt.xlim(low_freq, high_freq) \n",
    "        # plt.yscale(\"log\")\n",
    "        plt.ylim(0, 0.015)\n",
    "        \n",
    "        outcome_df = region_df[(region_df[\"trial_outcome\"] == outcome)]\n",
    "        # Generate gradient colors\n",
    "        gradient_colors = generate_gradient_colors(OUTCOME_TO_COLOR[outcome], 20)\n",
    "        \n",
    "        for index, row in outcome_df.iterrows():           \n",
    "            current_frequencies = ALL_FREQUENCIES[low_freq: high_freq]\n",
    "            mean_power = row[\"mean_power\"][low_freq: high_freq]\n",
    "            sem_power = row[\"sem_power\"][low_freq: high_freq]\n",
    "                \n",
    "            \n",
    "            try:\n",
    "                ax = sns.lineplot(x=current_frequencies, y=mean_power, \\\n",
    "                label=\"{} {}\".format(outcome, BIN_TO_DISTANCE[row[\"distance_bin\"]]), linewidth=3, color=gradient_colors[-(row[\"distance_bin\"]+1) *4])\n",
    "                \n",
    "                plt.fill_between(current_frequencies, \n",
    "                mean_power - sem_power, mean_power + sem_power, \\\n",
    "                alpha=0.1, color=gradient_colors[-(row[\"distance_bin\"]+1) *4])\n",
    "            \n",
    "            except Exception as e: \n",
    "                print(e)\n",
    "                continue\n",
    "        plt.legend()\n",
    "        plt.savefig(\"./proc/distance_parsed_power/rce_distance_parsed_lfp_power_freq_{}_to_{}_region_{}_{}.png\".format(low_freq, high_freq, region.split(\"_\")[0], outcome))"
   ]
  },
  {
   "cell_type": "code",
   "execution_count": null,
   "metadata": {},
   "outputs": [],
   "source": [
    "region_df"
   ]
  },
  {
   "cell_type": "code",
   "execution_count": null,
   "metadata": {},
   "outputs": [],
   "source": [
    "all_cols = [ 'mPFC_trial_theta_all_window_power',\n",
    " 'mPFC_trial_beta_all_window_power',\n",
    " 'mPFC_trial_gamma_all_window_power',\n",
    " 'vHPC_trial_theta_all_window_power',\n",
    " 'vHPC_trial_beta_all_window_power',\n",
    " 'vHPC_trial_gamma_all_window_power',\n",
    " 'BLA_trial_theta_all_window_power',\n",
    " 'BLA_trial_beta_all_window_power',\n",
    " 'BLA_trial_gamma_all_window_power',\n",
    " 'LH_trial_theta_all_window_power',\n",
    " 'LH_trial_beta_all_window_power',\n",
    " 'LH_trial_gamma_all_window_power',\n",
    " 'MD_trial_theta_all_window_power',\n",
    " 'MD_trial_beta_all_window_power',\n",
    " 'MD_trial_gamma_all_window_power']"
   ]
  },
  {
   "cell_type": "code",
   "execution_count": null,
   "metadata": {},
   "outputs": [],
   "source": [
    "MERGED_LFP_AND_SLEAP[\"chtrial_subject_thorax_location\"].iloc[]"
   ]
  },
  {
   "cell_type": "code",
   "execution_count": null,
   "metadata": {},
   "outputs": [],
   "source": [
    "for col in all_cols:\n",
    "    for outcome in MERGED_LFP_AND_SLEAP[\"trial_outcome\"].unique():\n",
    "        outcome_df = MERGED_LFP_AND_SLEAP[MERGED_LFP_AND_SLEAP[\"trial_outcome\"] == outcome]\n",
    "\n",
    "        # fig, ax = plt.subplots()\n",
    "        fig = plt.figure(figsize = (10, 7))\n",
    "        ax = plt.axes(projection =\"3d\")\n",
    "        plt.title(\"Z-Scored LFP Power in {} for {}\".format(region.split(\"_\")[0], outcome))\n",
    "        plt.xlabel(\"X coordinate\")\n",
    "        plt.ylabel(\"Y Coordinate\")\n",
    "        # plt.xlim(low_freq, high_freq) \n",
    "        # plt.yscale(\"log\")\n",
    "        # plt.ylim(0, 0.015)\n",
    "        # Creating figure\n",
    "        for index, row in outcome_df.iterrows():\n",
    "            \n",
    "            ax.scatter3D(x, y, z, color = \"green\")\n",
    "        \n",
    "\n",
    "        \n"
   ]
  },
  {
   "cell_type": "code",
   "execution_count": null,
   "metadata": {},
   "outputs": [],
   "source": [
    "low_freq = 12\n",
    "high_freq = 31\n",
    "for region in MERGED_LFP_AND_SLEAP[\"region_and_baseline_or_trial\"].unique():\n",
    "    region_df = grouped_all_trials_df[grouped_all_trials_df[\"region_and_baseline_or_trial\"] == region]\n",
    "\n",
    "    for outcome in region_df[\"trial_outcome\"].unique():\n",
    "        # fig, ax = plt.subplots()\n",
    "        fig = plt.figure(figsize = (10, 7))\n",
    "        ax = plt.axes(projection =\"3d\")\n",
    "        plt.title(\"Z-Scored LFP Power in {} for {}\".format(region.split(\"_\")[0], outcome))\n",
    "        plt.xlabel(\"X coordinate\")\n",
    "        plt.ylabel(\"Y Coordinate\")\n",
    "        # plt.xlim(low_freq, high_freq) \n",
    "        # plt.yscale(\"log\")\n",
    "        # plt.ylim(0, 0.015)\n",
    "        # Creating figure\n",
    "        \n",
    "\n",
    "        \n",
    "        outcome_df = region_df[(region_df[\"trial_outcome\"] == outcome)]\n",
    "\n",
    "        \n",
    "\n",
    "        # plt.legend()\n",
    "        break\n",
    "        # plt.savefig(\"./proc/distance_parsed_power/rce_distance_parsed_lfp_power_freq_{}_to_{}_region_{}_{}.png\".format(low_freq, high_freq, region.split(\"_\")[0], outcome))\n",
    "    break"
   ]
  },
  {
   "cell_type": "code",
   "execution_count": null,
   "metadata": {},
   "outputs": [],
   "source": [
    "MERGED_LFP_AND_SLEAP"
   ]
  },
  {
   "cell_type": "code",
   "execution_count": null,
   "metadata": {},
   "outputs": [],
   "source": [
    "from mpl_toolkits import mplot3d\n",
    "import numpy as np\n",
    "import matplotlib.pyplot as plt\n",
    " \n",
    " \n",
    "# Creating dataset\n",
    "z = np.random.randint(100, size =(50))\n",
    "x = np.random.randint(80, size =(50))\n",
    "y = np.random.randint(60, size =(50))\n",
    " \n",
    "# Creating figure\n",
    "fig = plt.figure(figsize = (10, 7))\n",
    "ax = plt.axes(projection =\"3d\")\n",
    " \n",
    "# Creating plot\n",
    "ax.scatter3D(x, y, z, color = \"green\")\n",
    "plt.title(\"simple 3D scatter plot\")\n",
    " \n",
    "# show plot\n",
    "plt.show()"
   ]
  },
  {
   "cell_type": "code",
   "execution_count": null,
   "metadata": {},
   "outputs": [],
   "source": [
    "MERGED_LFP_AND_SLEAP[\"mPFC_trial_theta_all_window_power\"].iloc[0]"
   ]
  },
  {
   "cell_type": "markdown",
   "metadata": {},
   "source": [
    "# OLD CODE BELOW"
   ]
  },
  {
   "cell_type": "code",
   "execution_count": null,
   "metadata": {},
   "outputs": [],
   "source": [
    "raise ValueError()"
   ]
  },
  {
   "cell_type": "markdown",
   "metadata": {},
   "source": [
    "# Parse power by lower distance"
   ]
  },
  {
   "cell_type": "code",
   "execution_count": null,
   "metadata": {},
   "outputs": [],
   "source": [
    "MERGED_LFP_AND_SLEAP.head()"
   ]
  },
  {
   "cell_type": "code",
   "execution_count": null,
   "metadata": {},
   "outputs": [],
   "source": [
    "\n",
    "MERGED_LFP_AND_SLEAP[\"binned_trial_distance_mask\"] = MERGED_LFP_AND_SLEAP[\"trial_chunked_subject_thorax_to_reward_port_distance\"].apply(lambda x: [index for index, num in enumerate(x) if MIN_DISTANCE <= num <= MAX_DISTANCE])\n",
    "\n",
    "MERGED_LFP_AND_SLEAP[\"binned_baseline_distance_mask\"] = MERGED_LFP_AND_SLEAP[\"baseline_chunked_subject_thorax_to_reward_port_distance\"].apply(lambda x: [index for index, num in enumerate(x) if MIN_DISTANCE <= num <= MAX_DISTANCE])\n",
    "\n",
    "for col in baseline_windowed_power_columns:\n",
    "    region_and_baseline_or_trial = \"_\".join(col.split(\"_\")[:2])\n",
    "    MERGED_LFP_AND_SLEAP[\"{}_distance_parsed_window_averaged_power\".format(region_and_baseline_or_trial)] = MERGED_LFP_AND_SLEAP.apply(lambda x: np.nanmean(np.array([x[col][i] for i in x[\"binned_baseline_distance_mask\"]]), axis=0), axis=1)\n",
    "\n",
    "for col in trial_windowed_power_columns:\n",
    "    region_and_baseline_or_trial = \"_\".join(col.split(\"_\")[:2])\n",
    "    MERGED_LFP_AND_SLEAP[\"{}_distance_parsed_window_averaged_power\".format(region_and_baseline_or_trial)] = MERGED_LFP_AND_SLEAP.apply(lambda x: np.nanmean(np.array([x[col][i] for i in x[\"binned_trial_distance_mask\"]]), axis=0), axis=1)\n",
    "\n"
   ]
  },
  {
   "cell_type": "code",
   "execution_count": null,
   "metadata": {
    "scrolled": true
   },
   "outputs": [],
   "source": [
    "for col in MERGED_LFP_AND_SLEAP.columns:\n",
    "    print(col)"
   ]
  },
  {
   "cell_type": "code",
   "execution_count": null,
   "metadata": {},
   "outputs": [],
   "source": [
    "DISTANCE_PARSED_MERGED_LFP_AND_SLEAP[\"trial_outcome\"]"
   ]
  },
  {
   "cell_type": "code",
   "execution_count": null,
   "metadata": {},
   "outputs": [],
   "source": [
    "grouped_all_trials_df = DISTANCE_PARSED_MERGED_LFP_AND_SLEAP.groupby(['trial_outcome']).agg({k: lambda x: np.vstack([arr for arr in x.tolist() if not np.any(np.isnan(arr))]) for k in window_averaged_power_columns}).reset_index()"
   ]
  },
  {
   "cell_type": "code",
   "execution_count": null,
   "metadata": {},
   "outputs": [],
   "source": [
    "grouped_all_trials_df = pd.melt(grouped_all_trials_df, id_vars =['trial_outcome'], value_vars =grouped_all_trials_df.drop(columns=[\"trial_outcome\"]).columns, value_name=\"power\", var_name=\"region_and_baseline_or_trial\") "
   ]
  },
  {
   "cell_type": "code",
   "execution_count": null,
   "metadata": {},
   "outputs": [],
   "source": [
    "grouped_all_trials_df.head()"
   ]
  },
  {
   "cell_type": "code",
   "execution_count": null,
   "metadata": {},
   "outputs": [],
   "source": [
    "grouped_all_trials_df[\"brain_region\"] = grouped_all_trials_df[\"region_and_baseline_or_trial\"].apply(lambda x: x.split(\"_\")[0].strip())"
   ]
  },
  {
   "cell_type": "code",
   "execution_count": null,
   "metadata": {},
   "outputs": [],
   "source": [
    "grouped_all_trials_df[\"trial_or_baseline\"] = grouped_all_trials_df[\"region_and_baseline_or_trial\"].apply(lambda x: x.split(\"_\")[1].strip())"
   ]
  },
  {
   "cell_type": "code",
   "execution_count": null,
   "metadata": {},
   "outputs": [],
   "source": [
    "grouped_all_trials_df[\"mean_power\"] = grouped_all_trials_df[\"power\"].apply(lambda x: np.nanmean(np.vstack(x), axis=0))"
   ]
  },
  {
   "cell_type": "code",
   "execution_count": null,
   "metadata": {},
   "outputs": [],
   "source": [
    "grouped_all_trials_df[\"std_power\"] = grouped_all_trials_df[\"power\"].apply(lambda x: np.nanstd(np.vstack(x), axis=0))"
   ]
  },
  {
   "cell_type": "code",
   "execution_count": null,
   "metadata": {},
   "outputs": [],
   "source": [
    "grouped_all_trials_df[\"n_trials\"] = grouped_all_trials_df[\"power\"].apply(lambda x: np.sum(~np.isnan(x), axis=0))"
   ]
  },
  {
   "cell_type": "code",
   "execution_count": null,
   "metadata": {},
   "outputs": [],
   "source": [
    "grouped_all_trials_df[\"sem_power\"] = grouped_all_trials_df.apply(lambda x: x[\"std_power\"] / np.sqrt(x[\"n_trials\"]), axis=1)"
   ]
  },
  {
   "cell_type": "code",
   "execution_count": null,
   "metadata": {
    "scrolled": true
   },
   "outputs": [],
   "source": [
    "grouped_all_trials_df"
   ]
  },
  {
   "cell_type": "code",
   "execution_count": null,
   "metadata": {},
   "outputs": [],
   "source": [
    "OUTCOME_TO_COLOR"
   ]
  },
  {
   "cell_type": "code",
   "execution_count": null,
   "metadata": {},
   "outputs": [],
   "source": [
    "FONTSIZE=20"
   ]
  },
  {
   "cell_type": "code",
   "execution_count": null,
   "metadata": {},
   "outputs": [],
   "source": []
  },
  {
   "cell_type": "code",
   "execution_count": null,
   "metadata": {},
   "outputs": [],
   "source": [
    "font = {'weight' : 'medium',\n",
    "        'size'   : 15}\n",
    "\n",
    "matplotlib.rc('font', **font)"
   ]
  },
  {
   "cell_type": "code",
   "execution_count": null,
   "metadata": {},
   "outputs": [],
   "source": [
    "BAND_TO_FREQ"
   ]
  },
  {
   "cell_type": "code",
   "execution_count": null,
   "metadata": {},
   "outputs": [],
   "source": [
    "BAND_TO_FREQ_PLOT = {'theta': (6, 10), 'beta': (20, 30), 'gamma': (30, 50)}\n",
    "BAND_TO_FREQ_COLOR = {'theta': \"red\", 'beta': \"blue\", 'gamma': \"green\"}\n",
    "\n",
    "BAND_TO_FREQ_PLOT = {'theta': (6, 10), 'gamma': (30, 50)}\n",
    "BAND_TO_FREQ_COLOR = {'theta': \"red\", 'gamma': \"green\"}"
   ]
  },
  {
   "cell_type": "code",
   "execution_count": null,
   "metadata": {
    "scrolled": true
   },
   "outputs": [],
   "source": [
    "low_freq = 0\n",
    "high_freq = 51\n",
    "for region in grouped_all_trials_df[\"brain_region\"].unique():\n",
    "    region_df = grouped_all_trials_df[(grouped_all_trials_df[\"brain_region\"] == region) & (grouped_all_trials_df[\"trial_or_baseline\"] == \"trial\")]\n",
    "\n",
    "    fig, ax = plt.subplots()\n",
    "    plt.title(\"Power Spectra {} \".format(region.split(\"_\")[0]), fontsize=FONTSIZE)\n",
    "    plt.xlabel(\"Frequency (Hz)\", fontsize=FONTSIZE)\n",
    "    plt.ylabel(\"Power (a.u.)\", fontsize=FONTSIZE)\n",
    "    plt.xlim(low_freq, high_freq) \n",
    "    plt.yscale(\"log\")\n",
    "        \n",
    "    for index, row in region_df.iterrows():           \n",
    "\n",
    "        current_frequencies = ALL_FREQUENCIES[low_freq: high_freq]\n",
    "        mean_power = row[\"mean_power\"][low_freq: high_freq]\n",
    "        sem_power = row[\"sem_power\"][low_freq: high_freq]\n",
    "            \n",
    "        \n",
    "        try:\n",
    "            ax = sns.lineplot(x=current_frequencies, y=mean_power, \\\n",
    "            label=\"{}\".format(row[\"trial_outcome\"]), linewidth=5, color=OUTCOME_TO_COLOR[row[\"trial_outcome\"]])\n",
    "            \n",
    "            plt.fill_between(current_frequencies, \n",
    "            mean_power - sem_power, mean_power + sem_power, \\\n",
    "            alpha=0.1, color=OUTCOME_TO_COLOR[row[\"trial_outcome\"]])\n",
    "        \n",
    "        except Exception as e: \n",
    "            print(e)\n",
    "            continue\n",
    "    for band, (min_freq, max_freq) in BAND_TO_FREQ_PLOT.items():\n",
    "        ax.axvspan(min_freq, max_freq, facecolor=BAND_TO_FREQ_COLOR[band], alpha=0.1, label=band)\n",
    "    plt.legend(fontsize=15, ncol=2)\n",
    "\n",
    "\n",
    "    plt.tight_layout()\n",
    "    plt.savefig(\"./proc/distance_parsed_power/rce_distance_parsed_lfp_power_freq_{}_to_{}_region_{}.png\".format(low_freq, high_freq, region.split(\"_\")[0]))\n",
    "    plt.savefig(\"./proc/distance_parsed_power/rce_distance_parsed_lfp_power_freq_{}_to_{}_region_{}.eps\".format(low_freq, high_freq, region.split(\"_\")[0]))"
   ]
  },
  {
   "cell_type": "code",
   "execution_count": null,
   "metadata": {},
   "outputs": [],
   "source": []
  },
  {
   "cell_type": "markdown",
   "metadata": {},
   "source": [
    "# Plotting the correlations"
   ]
  },
  {
   "cell_type": "code",
   "execution_count": null,
   "metadata": {},
   "outputs": [],
   "source": [
    "MERGED_LFP_AND_SLEAP[\"trial_chunked_agent_thorax_to_reward_port_distance\"].iloc[0].shape"
   ]
  },
  {
   "cell_type": "code",
   "execution_count": null,
   "metadata": {},
   "outputs": [],
   "source": [
    "MERGED_LFP_AND_SLEAP[\"BLA_trial_all_window_power\"].iloc[0].shape"
   ]
  },
  {
   "cell_type": "code",
   "execution_count": null,
   "metadata": {},
   "outputs": [],
   "source": [
    "ALL_REGION_BAND_COL"
   ]
  },
  {
   "cell_type": "code",
   "execution_count": null,
   "metadata": {
    "scrolled": true
   },
   "outputs": [],
   "source": [
    "MERGED_LFP_AND_SLEAP"
   ]
  },
  {
   "cell_type": "code",
   "execution_count": null,
   "metadata": {},
   "outputs": [],
   "source": [
    "MERGED_LFP_AND_SLEAP.columns"
   ]
  },
  {
   "cell_type": "code",
   "execution_count": null,
   "metadata": {},
   "outputs": [],
   "source": [
    "MERGED_LFP_AND_SLEAP[\"trial_chunked_subject_thorax_to_reward_port_distance\"].iloc[0]\n"
   ]
  },
  {
   "cell_type": "code",
   "execution_count": null,
   "metadata": {},
   "outputs": [],
   "source": [
    "MERGED_LFP_AND_SLEAP[\"current_subject\"].unique()"
   ]
  },
  {
   "cell_type": "code",
   "execution_count": null,
   "metadata": {},
   "outputs": [],
   "source": [
    "subject_df = MERGED_LFP_AND_SLEAP[MERGED_LFP_AND_SLEAP[\"current_subject\"] == \"1.2\"]"
   ]
  },
  {
   "cell_type": "code",
   "execution_count": null,
   "metadata": {},
   "outputs": [],
   "source": [
    "def reject_outliers(data, m = 2.):\n",
    "    d = np.abs(data - np.median(data))\n",
    "    mdev = np.median(d)\n",
    "    s = d/mdev if mdev else np.zeros(len(d))\n",
    "    return s<m"
   ]
  },
  {
   "cell_type": "code",
   "execution_count": null,
   "metadata": {},
   "outputs": [],
   "source": [
    "font = {'weight' : 'bold',\n",
    "        'size'   : 15}\n",
    "\n",
    "matplotlib.rc('font', **font)\n",
    "\n",
    "plt.rcParams['figure.figsize'] = [6, 6]\n",
    "\n",
    "for region_band_col in ALL_REGION_BAND_COL:\n",
    "    region = region_band_col.split(\"_\")[0]\n",
    "    band = region_band_col.split(\"_\")[2]\n",
    "    for outcome in subject_df[\"trial_outcome\"].unique():\n",
    "        current_df = subject_df[subject_df[\"trial_outcome\"] == outcome]\n",
    "        y = np.concatenate(current_df[region_band_col].values)\n",
    "        x = np.concatenate(current_df[\"trial_chunked_subject_thorax_to_reward_port_distance\"].values)\n",
    "        outlier_mask = reject_outliers(y)\n",
    "        y = y[outlier_mask]\n",
    "        x = x[outlier_mask]\n",
    "        # outlier_mask = reject_outliers(x)\n",
    "        # y = y[outlier_mask]\n",
    "        # x = x[outlier_mask]\n",
    "        \n",
    "        # Perform linear regression to get the slope, intercept and r-value (correlation coefficient)\n",
    "        slope, intercept, r_value, p_value, std_err = linregress(x, y)\n",
    "        \n",
    "        # Create a line of best fit using the slope and intercept\n",
    "        line = slope * x + intercept\n",
    "        \n",
    "        # Create scatter plot\n",
    "        plt.scatter(x=x, y=y, color=OUTCOME_TO_COLOR[outcome], label=outcome)\n",
    "        \n",
    "        # Plot line of best fit\n",
    "        plt.plot(x, line, color=OUTCOME_TO_COLOR[outcome])\n",
    "        \n",
    "        # Add R² value to the plot\n",
    "        # plt.text(0.1, 0.9, f'R = {r_value:.2f}', transform=plt.gca().transAxes)\n",
    "        \n",
    "        # Add labels and legend\n",
    "        plt.title(\"Power correlation {} LFP\".format(region_band_col), fontsize=20)\n",
    "        plt.xlabel('{}'.format(\"Distance\"))\n",
    "        plt.ylabel('{} power'.format(region_band_col))\n",
    "        plt.legend(loc=\"lower right\")\n",
    "        # ax.get_legend().remove()\n",
    "        # plt.ylim(0,0.1)\n",
    "        # plt.xlim(0,10)\n",
    "        plt.tight_layout()\n",
    "        # plt.savefig(\"./proc/power_correlation/all_condition_{}_{}_power_correlation_of_zscored_{}_lfp.png\".format(region_1_basename, region_2_basename, band))\n",
    "        # Display the plot\n",
    "        plt.close\n",
    "        continue\n",
    "        plt.show()\n",
    "\n",
    "\n"
   ]
  },
  {
   "cell_type": "code",
   "execution_count": null,
   "metadata": {},
   "outputs": [],
   "source": [
    "raise ValueError()"
   ]
  },
  {
   "cell_type": "markdown",
   "metadata": {},
   "source": [
    "# Exporting Velocity Parsed dataframe for plotting"
   ]
  },
  {
   "cell_type": "code",
   "execution_count": null,
   "metadata": {},
   "outputs": [],
   "source": [
    "EXPORTED_DISTANCE_PARSED_MERGED_LFP_AND_SLEAP = DISTANCE_PARSED_MERGED_LFP_AND_SLEAP[DISTANCE_PARSED_MERGED_LFP_AND_SLEAP[\"distance_bin\"] == 0].copy()"
   ]
  },
  {
   "cell_type": "code",
   "execution_count": null,
   "metadata": {},
   "outputs": [],
   "source": [
    "EXPORTED_DISTANCE_PARSED_MERGED_LFP_AND_SLEAP = EXPORTED_DISTANCE_PARSED_MERGED_LFP_AND_SLEAP.drop(columns=[col for col in EXPORTED_DISTANCE_PARSED_MERGED_LFP_AND_SLEAP.columns if \"baseline\" in col], errors=\"ignore\")"
   ]
  },
  {
   "cell_type": "code",
   "execution_count": null,
   "metadata": {},
   "outputs": [],
   "source": [
    "EXPORTED_DISTANCE_PARSED_MERGED_LFP_AND_SLEAP = EXPORTED_DISTANCE_PARSED_MERGED_LFP_AND_SLEAP.drop(columns=[col for col in EXPORTED_DISTANCE_PARSED_MERGED_LFP_AND_SLEAP.columns if \"trace\" in col], errors=\"ignore\")"
   ]
  },
  {
   "cell_type": "code",
   "execution_count": null,
   "metadata": {},
   "outputs": [],
   "source": [
    "EXPORTED_DISTANCE_PARSED_MERGED_LFP_AND_SLEAP = pd.melt(EXPORTED_DISTANCE_PARSED_MERGED_LFP_AND_SLEAP, id_vars=EXPORTED_DISTANCE_PARSED_MERGED_LFP_AND_SLEAP.columns[:19], value_vars=[col for col in EXPORTED_DISTANCE_PARSED_MERGED_LFP_AND_SLEAP.columns if \"distance_parsed_window_averaged_power\" in col], value_name=\"power\", var_name=\"region_and_baseline_or_trial\")\n",
    "\n",
    "\n"
   ]
  },
  {
   "cell_type": "code",
   "execution_count": null,
   "metadata": {},
   "outputs": [],
   "source": [
    "EXPORTED_DISTANCE_PARSED_MERGED_LFP_AND_SLEAP[\"brain_region\"] = EXPORTED_DISTANCE_PARSED_MERGED_LFP_AND_SLEAP[\"region_and_baseline_or_trial\"].apply(lambda x:x.split(\"_\")[0])\n",
    "EXPORTED_DISTANCE_PARSED_MERGED_LFP_AND_SLEAP[\"trial_or_baseline\"] = EXPORTED_DISTANCE_PARSED_MERGED_LFP_AND_SLEAP[\"region_and_baseline_or_trial\"].apply(lambda x:x.split(\"_\")[1])"
   ]
  },
  {
   "cell_type": "code",
   "execution_count": null,
   "metadata": {},
   "outputs": [],
   "source": [
    "EXPORTED_DISTANCE_PARSED_MERGED_LFP_AND_SLEAP = EXPORTED_DISTANCE_PARSED_MERGED_LFP_AND_SLEAP.dropna(subset=[\"power\"])"
   ]
  },
  {
   "cell_type": "code",
   "execution_count": null,
   "metadata": {},
   "outputs": [],
   "source": [
    "for band, (min_freq, max_freq) in BAND_TO_FREQ.items():\n",
    "    EXPORTED_DISTANCE_PARSED_MERGED_LFP_AND_SLEAP[\"mean_{}_power\".format(band)] = EXPORTED_DISTANCE_PARSED_MERGED_LFP_AND_SLEAP[\"power\"].apply(lambda x: np.nanmean(x[min_freq:max_freq]))"
   ]
  },
  {
   "cell_type": "code",
   "execution_count": null,
   "metadata": {},
   "outputs": [],
   "source": [
    "EXPORTED_DISTANCE_PARSED_MERGED_LFP_AND_SLEAP.to_pickle(\"./proc/rce_distance_parsed_power_spectra_region_and_baselinetrial_rows.pkl\")"
   ]
  },
  {
   "cell_type": "code",
   "execution_count": null,
   "metadata": {},
   "outputs": [],
   "source": [
    "EXPORTED_DISTANCE_PARSED_MERGED_LFP_AND_SLEAP"
   ]
  },
  {
   "cell_type": "code",
   "execution_count": null,
   "metadata": {},
   "outputs": [],
   "source": [
    "for col in EXPORTED_DISTANCE_PARSED_MERGED_LFP_AND_SLEAP.columns[:19]:\n",
    "    print(col)"
   ]
  },
  {
   "cell_type": "markdown",
   "metadata": {},
   "source": [
    "# Calculating the distance parsed average power for each frequency band"
   ]
  },
  {
   "cell_type": "code",
   "execution_count": null,
   "metadata": {},
   "outputs": [],
   "source": [
    "BAND_TO_FREQ"
   ]
  },
  {
   "cell_type": "code",
   "execution_count": null,
   "metadata": {},
   "outputs": [],
   "source": [
    "distance_parsed_window_averaged_power_columns = [col for col in MERGED_LFP_AND_SLEAP.columns if \"distance_parsed_window_averaged_power\" in col]"
   ]
  },
  {
   "cell_type": "code",
   "execution_count": null,
   "metadata": {
    "scrolled": true
   },
   "outputs": [],
   "source": [
    "distance_parsed_window_averaged_power_columns"
   ]
  },
  {
   "cell_type": "markdown",
   "metadata": {},
   "source": [
    "- Removing all trials that have a high distance trhoguhout"
   ]
  },
  {
   "cell_type": "code",
   "execution_count": null,
   "metadata": {},
   "outputs": [],
   "source": [
    "MERGED_LFP_AND_SLEAP = MERGED_LFP_AND_SLEAP[MERGED_LFP_AND_SLEAP[\"binned_trial_distance_mask\"].map(len) >= 1]"
   ]
  },
  {
   "cell_type": "code",
   "execution_count": null,
   "metadata": {},
   "outputs": [],
   "source": [
    "for col in distance_parsed_window_averaged_power_columns:\n",
    "    region_base_name = \"_\".join(col.split(\"_\")[:2])\n",
    "    print(region_base_name)\n",
    "    for band, (min_freq, max_freq) in BAND_TO_FREQ.items():\n",
    "        print(band)\n",
    "        MERGED_LFP_AND_SLEAP[\"{}_{}_all_power\".format(region_base_name, band)] = MERGED_LFP_AND_SLEAP[col].apply(lambda x: x[min_freq:max_freq])\n",
    "        MERGED_LFP_AND_SLEAP[\"{}_{}_mean_power\".format(region_base_name, band)] = MERGED_LFP_AND_SLEAP[\"{}_{}_all_power\".format(region_base_name, band)].apply(lambda x: x.mean())"
   ]
  },
  {
   "cell_type": "code",
   "execution_count": null,
   "metadata": {},
   "outputs": [],
   "source": [
    "# MD_trial_mean_gamma_power\n",
    "mean_power_col = [col for col in MERGED_LFP_AND_SLEAP.columns if \"mean_power\" in col]"
   ]
  },
  {
   "cell_type": "code",
   "execution_count": null,
   "metadata": {
    "cell_id": "a2a9b2abc38041eea4133592bab67a87",
    "deepnote_app_coordinates": {
     "h": 5,
     "w": 12,
     "x": 0,
     "y": 0
    },
    "deepnote_cell_type": "code",
    "deepnote_to_be_reexecuted": false,
    "execution_millis": 820,
    "execution_start": 1698240824107,
    "source_hash": null
   },
   "outputs": [],
   "source": [
    "mean_power_df = pd.DataFrame(MERGED_LFP_AND_SLEAP.groupby(['trial_outcome'])[mean_power_col].mean()).reset_index()"
   ]
  },
  {
   "cell_type": "code",
   "execution_count": null,
   "metadata": {},
   "outputs": [],
   "source": [
    "mean_power_df[\"color\"] = mean_power_df[\"trial_outcome\"].map(OUTCOME_TO_COLOR)"
   ]
  },
  {
   "cell_type": "code",
   "execution_count": null,
   "metadata": {},
   "outputs": [],
   "source": [
    "sem_power_df = pd.DataFrame(MERGED_LFP_AND_SLEAP.groupby(['trial_outcome'])[mean_power_col].sem()).reset_index()"
   ]
  },
  {
   "cell_type": "code",
   "execution_count": null,
   "metadata": {},
   "outputs": [],
   "source": [
    "mean_power_df"
   ]
  },
  {
   "cell_type": "code",
   "execution_count": null,
   "metadata": {},
   "outputs": [],
   "source": [
    "OUTCOME_COMPARISONS"
   ]
  },
  {
   "cell_type": "code",
   "execution_count": null,
   "metadata": {},
   "outputs": [],
   "source": [
    "rank_sum_dict = []\n",
    "for col in mean_power_col:\n",
    "    region = col.split(\"_\")[0]\n",
    "    baseline_or_trial = col.split(\"_\")[1]\n",
    "    band = col.split(\"_\")[2]\n",
    "    if baseline_or_trial != \"trial\":\n",
    "        continue\n",
    "    for key, (first_outcome, second_outcome) in  OUTCOME_COMPARISONS.items():\n",
    "        first_df = MERGED_LFP_AND_SLEAP[MERGED_LFP_AND_SLEAP[\"trial_outcome\"] == first_outcome]\n",
    "        second_df = MERGED_LFP_AND_SLEAP[MERGED_LFP_AND_SLEAP[\"trial_outcome\"] == second_outcome]\n",
    "        statistic, p_value = mannwhitneyu(first_df[col], second_df[col], alternative='two-sided')\n",
    "        rank_sum_dict.append({\"region\": region, \"band\": band, \"comparison\": key, \"mannwhitneyu_statistic\": statistic, \"mannwhitneyu_pvalue\": p_value, \"all_outcomes\": set([first_outcome, second_outcome])})\n",
    "rank_sum_df = pd.DataFrame(rank_sum_dict)"
   ]
  },
  {
   "cell_type": "code",
   "execution_count": null,
   "metadata": {},
   "outputs": [],
   "source": [
    "rank_sum_df.head()"
   ]
  },
  {
   "cell_type": "code",
   "execution_count": null,
   "metadata": {},
   "outputs": [],
   "source": []
  },
  {
   "cell_type": "code",
   "execution_count": null,
   "metadata": {
    "scrolled": true
   },
   "outputs": [],
   "source": [
    "current_df"
   ]
  },
  {
   "cell_type": "code",
   "execution_count": null,
   "metadata": {},
   "outputs": [],
   "source": [
    "round(mean_power_df[[col for col in mean_power_df.columns if \"theta\" in col]].to_numpy().max() * 1.25, 3)"
   ]
  },
  {
   "cell_type": "raw",
   "metadata": {},
   "source": [
    "bonferroni_threshold = 0.05 / len(OUTCOME_COMPARISONS)\n",
    "\n",
    "\n",
    "for col in mean_power_col:\n",
    "\n",
    "    # colors = [outcome_colors.get(outcome, \"gray\") for outcome in mean_region_df[\"trial_outcome\"]]\n",
    "    # clean_region_name = region.replace(\"spike_interface_\", \"\")\n",
    "    region = col.split(\"_\")[0]\n",
    "    baseline_or_trial = col.split(\"_\")[1]\n",
    "    band = col.split(\"_\")[2]\n",
    "    if baseline_or_trial != \"trial\":\n",
    "        continue\n",
    "    # fig, ax = plt.subplots(figsize=(23, 12))\n",
    "    # fig, ax = plt.subplots()\n",
    "    fig, ax = plt.subplots(figsize=(23, 12))\n",
    "\n",
    "    plt.title(\"Power of {} {} Band\".format(region, band), fontsize=60)\n",
    "    plt.xlabel(\"Trial Condition\", fontsize=60)\n",
    "    plt.ylabel(\"Mean {} Power\".format(band), fontsize=60)\n",
    "\n",
    "    plt.xticks(fontsize=60)\n",
    "    plt.yticks(fontsize=45)\n",
    "    plt.locator_params(axis='y', nbins=4)\n",
    "    plt.ylim(0, round(mean_power_df[[col for col in mean_power_df.columns if band in col and \"trial\" in col]].to_numpy().max() * 1.1, 3))\n",
    "\n",
    "    bars = plt.bar(mean_power_df[\"trial_outcome\"], mean_power_df[col], yerr=sem_power_df[col], color=mean_power_df[\"color\"])\n",
    "    \n",
    "    # Get the y-axis limits\n",
    "    bottom, top = ax.get_ylim()\n",
    "    y_range = top - bottom\n",
    "\n",
    "    # Retrieve x-coordinates of the bars\n",
    "    x_coords = [bar.get_x() + bar.get_width() / 2.0 for bar in bars]  # get_x() retrieves the left coordinate, we adjust by half the width to get the center\n",
    "    group_to_x_coord = {group: x_coord for group, x_coord in zip(mean_power_df[\"trial_outcome\"].values, x_coords)}\n",
    "\n",
    "    current_df = rank_sum_df[(rank_sum_df[\"region\"] == region) & (rank_sum_df[\"band\"] == band)]\n",
    "    for index, row in current_df.iterrows():\n",
    "        p_value = row[\"mannwhitneyu_pvalue\"]\n",
    "        x1 = list(row[\"all_outcomes\"])[0]\n",
    "        x2 = list(row[\"all_outcomes\"])[1]\n",
    "        \n",
    "        if p_value < bonferroni_threshold:\n",
    "            if p_value < 0.001 / len(OUTCOME_COMPARISONS):\n",
    "                sig_symbol = '***'\n",
    "            elif p_value < 0.01 / len(OUTCOME_COMPARISONS):\n",
    "                sig_symbol = '**'\n",
    "            elif p_value < 0.05 / len(OUTCOME_COMPARISONS):\n",
    "                sig_symbol = '*'\n",
    "            else:\n",
    "                continue\n",
    "            # What level is this bar among the bars above the plot?\n",
    "            level = len(OUTCOME_COMPARISONS) - i\n",
    "            # Plot the bar\n",
    "            bar_height = (y_range * 0.055 * level) + top * 0.5\n",
    "            bar_tips = bar_height - (y_range * 0.025)\n",
    "            plt.plot(\n",
    "                # [x1, x1, x2, x2],\n",
    "                [x2, x2, x1, x1],\n",
    "\n",
    "                [bar_tips, bar_height, bar_height, bar_tips], lw=5, c='k'\n",
    "            )\n",
    "            \n",
    "            text_height = bar_height * 0.95 + (y_range / 100)\n",
    "            plt.text((group_to_x_coord[x1] + group_to_x_coord[x2]) * 0.5, text_height, sig_symbol, ha='center', va='bottom', c='k', size=50)\n",
    "        \n",
    "    \n",
    "    plt.tight_layout()\n",
    "    plt.savefig(\"./proc/distance_parsed_power/rce_{}_{}_averaged_power.png\".format(region, band))\n",
    "    plt.show()\n",
    "    plt.close()"
   ]
  },
  {
   "cell_type": "code",
   "execution_count": null,
   "metadata": {},
   "outputs": [],
   "source": [
    "MERGED_LFP_AND_SLEAP = MERGED_LFP_AND_SLEAP.copy()\n",
    "MERGED_LFP_AND_SLEAP = MERGED_LFP_AND_SLEAP.drop(columns=[col for col in MERGED_LFP_AND_SLEAP if \"multitaper\" in col], errors=\"ignore\").copy()\n",
    "MERGED_LFP_AND_SLEAP = MERGED_LFP_AND_SLEAP.drop(columns=[col for col in MERGED_LFP_AND_SLEAP if \"connectivity\" in col], errors=\"ignore\")\n",
    "MERGED_LFP_AND_SLEAP = MERGED_LFP_AND_SLEAP.drop(columns=[col for col in MERGED_LFP_AND_SLEAP if \"frequencies\" in col], errors=\"ignore\")\n",
    "MERGED_LFP_AND_SLEAP = MERGED_LFP_AND_SLEAP.drop(columns=[col for col in MERGED_LFP_AND_SLEAP if \"spike_interface\" in col], errors=\"ignore\")\n",
    "MERGED_LFP_AND_SLEAP = MERGED_LFP_AND_SLEAP.drop(columns=[col for col in MERGED_LFP_AND_SLEAP if \"distance_parsed_window_averaged_power\" in col], errors=\"ignore\")\n",
    "MERGED_LFP_AND_SLEAP = MERGED_LFP_AND_SLEAP.drop(columns=[col for col in MERGED_LFP_AND_SLEAP if \"all_window_power\" in col], errors=\"ignore\")\n",
    "MERGED_LFP_AND_SLEAP = MERGED_LFP_AND_SLEAP.drop(columns=[col for col in MERGED_LFP_AND_SLEAP if \"all_power\" in col], errors=\"ignore\")\n",
    "MERGED_LFP_AND_SLEAP = MERGED_LFP_AND_SLEAP.drop(columns=[col for col in MERGED_LFP_AND_SLEAP if \"window_averaged_power\" in col], errors=\"ignore\")\n",
    "\n"
   ]
  },
  {
   "cell_type": "code",
   "execution_count": null,
   "metadata": {},
   "outputs": [],
   "source": []
  }
 ],
 "metadata": {
  "deepnote": {},
  "deepnote_execution_queue": [],
  "deepnote_notebook_id": "cf8fe3695d074ee7887fdf6459cbf5ce",
  "kernelspec": {
   "display_name": "Python 3 (ipykernel)",
   "language": "python",
   "name": "python3"
  },
  "language_info": {
   "codemirror_mode": {
    "name": "ipython",
    "version": 3
   },
   "file_extension": ".py",
   "mimetype": "text/x-python",
   "name": "python",
   "nbconvert_exporter": "python",
   "pygments_lexer": "ipython3",
   "version": "3.10.13"
  }
 },
 "nbformat": 4,
 "nbformat_minor": 4
}
