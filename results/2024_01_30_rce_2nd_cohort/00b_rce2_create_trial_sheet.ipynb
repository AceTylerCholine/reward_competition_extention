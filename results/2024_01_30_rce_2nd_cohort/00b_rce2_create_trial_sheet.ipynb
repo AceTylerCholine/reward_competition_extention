{
 "cells": [
  {
   "cell_type": "markdown",
   "metadata": {
    "cell_id": "c3a02adc9e884466bc8c79db549cc3d2",
    "deepnote_cell_type": "text-cell-h1",
    "formattedRanges": [
     {
      "fromCodePoint": 0,
      "marks": {
       "bold": true,
       "underline": true
      },
      "toCodePoint": 17,
      "type": "marks"
     }
    ]
   },
   "source": [
    "# Time Stamp Extract"
   ]
  },
  {
   "cell_type": "markdown",
   "metadata": {
    "cell_id": "4546bee655b14a5dbf393161f1228e60",
    "deepnote_cell_type": "text-cell-p",
    "formattedRanges": []
   },
   "source": [
    "Brief 1-2 sentence description of notebook."
   ]
  },
  {
   "cell_type": "markdown",
   "metadata": {},
   "source": [
    "TODO: Supplement the description\n",
    "- Notebook that extracts the timestamps and gets the time that tones played"
   ]
  },
  {
   "cell_type": "code",
   "execution_count": 1,
   "metadata": {
    "tags": []
   },
   "outputs": [],
   "source": [
    "# Imports of all used packages and libraries\n",
    "import sys\n",
    "import os\n",
    "import git\n",
    "import glob\n",
    "from collections import defaultdict"
   ]
  },
  {
   "cell_type": "code",
   "execution_count": 2,
   "metadata": {
    "tags": []
   },
   "outputs": [],
   "source": [
    "git_repo = git.Repo(\".\", search_parent_directories=True)\n",
    "git_root = git_repo.git.rev_parse(\"--show-toplevel\")"
   ]
  },
  {
   "cell_type": "code",
   "execution_count": 3,
   "metadata": {
    "tags": []
   },
   "outputs": [
    {
     "data": {
      "text/plain": [
       "'/blue/npadillacoreano/ryoi360/projects/reward_comp/repos/reward_competition_extention'"
      ]
     },
     "execution_count": 3,
     "metadata": {},
     "output_type": "execute_result"
    }
   ],
   "source": [
    "git_root"
   ]
  },
  {
   "cell_type": "code",
   "execution_count": 4,
   "metadata": {
    "tags": []
   },
   "outputs": [],
   "source": [
    "sys.path.insert(0, os.path.join(git_root, 'src'))"
   ]
  },
  {
   "cell_type": "code",
   "execution_count": 5,
   "metadata": {
    "tags": []
   },
   "outputs": [],
   "source": [
    "# Imports of all used packages and libraries\n",
    "import glob\n",
    "import numpy as np\n",
    "import pandas as pd\n",
    "import matplotlib.pyplot as plt"
   ]
  },
  {
   "cell_type": "code",
   "execution_count": 6,
   "metadata": {
    "tags": []
   },
   "outputs": [],
   "source": [
    "import spikeinterface.extractors as se\n",
    "import spikeinterface.preprocessing as sp"
   ]
  },
  {
   "cell_type": "code",
   "execution_count": 7,
   "metadata": {
    "tags": []
   },
   "outputs": [],
   "source": [
    "import utilities.helper\n",
    "import trodes.read_exported"
   ]
  },
  {
   "cell_type": "markdown",
   "metadata": {},
   "source": [
    "# Functions"
   ]
  },
  {
   "cell_type": "code",
   "execution_count": 8,
   "metadata": {
    "tags": []
   },
   "outputs": [],
   "source": [
    "# Function to filter rows where start/stop range overlap with the specified range\n",
    "def filter_overlapping_ranges(frame_ranges, start=0, stop=np.inf):\n",
    "    # Check for overlap\n",
    "    overlaps = np.logical_or(np.logical_and(frame_ranges[:,0] < stop, frame_ranges[:,0] >= start),\n",
    "                             np.logical_and(frame_ranges[:,1] <= stop, frame_ranges[:,1] > start))\n",
    "    return frame_ranges[overlaps]"
   ]
  },
  {
   "cell_type": "markdown",
   "metadata": {
    "cell_id": "d290bac2c17940bfbc0f9296beaf70e5",
    "deepnote_cell_type": "text-cell-h2",
    "formattedRanges": []
   },
   "source": [
    "## Inputs & Data"
   ]
  },
  {
   "cell_type": "markdown",
   "metadata": {
    "cell_id": "e528ce19c608425292151930d380f49f",
    "deepnote_cell_type": "text-cell-p",
    "formattedRanges": []
   },
   "source": [
    "- Explanation of each input and where it comes from."
   ]
  },
  {
   "cell_type": "markdown",
   "metadata": {},
   "source": [
    "Inputs and Required data loading\n",
    "- input variable names are in all caps snake case\n",
    "- Whenever an input changes or is used for processing \n",
    "- The variables are all lower in snake case"
   ]
  },
  {
   "cell_type": "code",
   "execution_count": 9,
   "metadata": {
    "cell_id": "6cf83a5811054461a718a71673d09aab",
    "deepnote_cell_type": "code",
    "deepnote_to_be_reexecuted": false,
    "execution_millis": 373,
    "execution_start": 1691424003628,
    "source_hash": null,
    "tags": []
   },
   "outputs": [],
   "source": [
    "# Path of the directory that contains the Spike Gadgets recording and the exported timestamp files\n",
    "# Exported with this tool https://docs.spikegadgets.com/en/latest/basic/ExportFunctions.html\n",
    "# Export these files:\n",
    "    # -raw – Continuous raw band export.\n",
    "    # -dio – Digital IO channel state change export.\n",
    "    # -analogio – Continuous analog IO export.\n",
    "OUTPUT_DIR = r\"./proc\" # where data is saved should always be shown in the inputs\n",
    "\n",
    "os.makedirs(OUTPUT_DIR, exist_ok=True)\n",
    "OUTPUT_PREFIX = \"rce_pilot_2\""
   ]
  },
  {
   "cell_type": "code",
   "execution_count": 10,
   "metadata": {
    "tags": []
   },
   "outputs": [],
   "source": [
    "TRODES_METADATA_DF = pd.read_pickle(\"./proc/rce_pilot_2_00_trodes_metadata.pkl\")"
   ]
  },
  {
   "cell_type": "markdown",
   "metadata": {
    "cell_id": "e3ee4891d43a4ac287413afc552ca289",
    "deepnote_cell_type": "text-cell-h2",
    "formattedRanges": []
   },
   "source": [
    "## Outputs"
   ]
  },
  {
   "cell_type": "markdown",
   "metadata": {
    "cell_id": "9ccbf6cc70fd4d379fa29317f733771f",
    "deepnote_cell_type": "text-cell-p",
    "formattedRanges": []
   },
   "source": [
    "Describe each output that the notebook creates. "
   ]
  },
  {
   "cell_type": "markdown",
   "metadata": {
    "cell_id": "fc8e8920a6944918a15fac575cdf6e78",
    "deepnote_cell_type": "text-cell-bullet",
    "formattedRanges": []
   },
   "source": [
    "- Is it a plot or is it data?"
   ]
  },
  {
   "cell_type": "markdown",
   "metadata": {
    "cell_id": "1e639d4776a84aa9ac8ded2e14fa57db",
    "deepnote_cell_type": "text-cell-bullet",
    "formattedRanges": []
   },
   "source": [
    "- How valuable is the output and why is it valuable or useful?"
   ]
  },
  {
   "cell_type": "markdown",
   "metadata": {},
   "source": [
    "## Other documentation"
   ]
  },
  {
   "cell_type": "markdown",
   "metadata": {},
   "source": [
    "raw directory\n",
    "- raw_group0.dat\n",
    "    - voltage_value: Array with voltage measurement for each channel at each timestamp\n",
    "- timestamps.dat\n",
    "    - voltage_time_stamp: The time stamp of each voltage measurement\n",
    "\n",
    "parent directory\n",
    "- 1.videoTimeStamps.cameraHWSync\n",
    "    - frame_number: Calculated by getting the index of each video time stamp tuple \n",
    "    - PosTimestamp: The time stamp of each video frame\n",
    "    - HWframeCount: Unknown value. Starts at 30742 and increases by 1 for each tuple  \n",
    "    - HWTimestamp: Unknown value. All zeroes\n",
    "    - video_time: Calculated by dividing the frame number by the fps(frames per second) \n",
    "    - video_seconds: video_time, but rounded to seconds  \t\n",
    "    - These are filled in versions of the above collumns with the value from the most recent previous cell\n",
    "        - filled_PosTimestamp \t\n",
    "        - filledHWframeCount \t\n",
    "        - filled_frame_number \t\n",
    "        - filled_video_time \t\n",
    "        - filled_video_seconds \t\n",
    "\n",
    "DIO directory\n",
    "- dio_ECU_Din1.dat\n",
    "    - time: The time stamp the corresponds to the DIN input\n",
    "    - state: Binary state of whether there is input from DIN or not \t\n",
    "    - trial_number: Calculated by adding 1 to every time there is a DIN input\n",
    "    - These are filled in versions of the above collumns with the value from the most recent previous cell\n",
    "        - filled_state \t\n",
    "        - filled_trial_number\n",
    "\n",
    "ss_output directory (Spike sorting with Spike interface)\n",
    "- firings.npz\n",
    "    - unit_id: All the units that had a spike train for the given timestamp \t\n",
    "    - number_of_units: Calculated by counting the number of units that had a spike train"
   ]
  },
  {
   "cell_type": "markdown",
   "metadata": {},
   "source": [
    "## Functions"
   ]
  },
  {
   "cell_type": "markdown",
   "metadata": {},
   "source": [
    "- function names are short and in snake case all lowercase\n",
    "- a function name should be unique but does not have to describe the function\n",
    "- doc strings describe functions not function names"
   ]
  },
  {
   "cell_type": "code",
   "execution_count": null,
   "metadata": {},
   "outputs": [],
   "source": []
  },
  {
   "cell_type": "code",
   "execution_count": null,
   "metadata": {},
   "outputs": [],
   "source": []
  },
  {
   "cell_type": "markdown",
   "metadata": {
    "cell_id": "8999d19b6b7d4d63bc90f0b0bd9ab085",
    "deepnote_cell_type": "text-cell-h2",
    "formattedRanges": []
   },
   "source": [
    "## Processing"
   ]
  },
  {
   "cell_type": "markdown",
   "metadata": {
    "cell_id": "9b36cdf08567463082b005cb0dec684b",
    "deepnote_cell_type": "text-cell-p",
    "formattedRanges": []
   },
   "source": [
    "Describe what is done to the data here and how inputs are manipulated to generate outputs. "
   ]
  },
  {
   "cell_type": "code",
   "execution_count": 11,
   "metadata": {
    "cell_id": "89aaba237c644628b1b37604b75e7cb1",
    "deepnote_cell_type": "code",
    "tags": []
   },
   "outputs": [],
   "source": [
    "# As much code and as many cells as required\n",
    "# includes EDA and playing with data\n",
    "# GO HAM!"
   ]
  },
  {
   "cell_type": "code",
   "execution_count": 12,
   "metadata": {
    "tags": []
   },
   "outputs": [],
   "source": [
    "TRODES_METADATA_DF = TRODES_METADATA_DF.drop(columns=[\"current_subject\", \"video_timestamps\", \"recording\", \"session_path\"], errors=\"ignore\")\n",
    "TRODES_METADATA_DF = TRODES_METADATA_DF.drop_duplicates(subset=[\"video_name\"])"
   ]
  },
  {
   "cell_type": "code",
   "execution_count": 13,
   "metadata": {
    "tags": []
   },
   "outputs": [],
   "source": [
    "exploded_TRODES_METADATA_DF = TRODES_METADATA_DF.explode(column = [\"tone_frames\", \"tone_timestamps\"])"
   ]
  },
  {
   "cell_type": "code",
   "execution_count": 14,
   "metadata": {
    "tags": []
   },
   "outputs": [
    {
     "data": {
      "text/html": [
       "<div>\n",
       "<style scoped>\n",
       "    .dataframe tbody tr th:only-of-type {\n",
       "        vertical-align: middle;\n",
       "    }\n",
       "\n",
       "    .dataframe tbody tr th {\n",
       "        vertical-align: top;\n",
       "    }\n",
       "\n",
       "    .dataframe thead th {\n",
       "        text-align: right;\n",
       "    }\n",
       "</style>\n",
       "<table border=\"1\" class=\"dataframe\">\n",
       "  <thead>\n",
       "    <tr style=\"text-align: right;\">\n",
       "      <th></th>\n",
       "      <th>session_dir</th>\n",
       "      <th>tone_frames</th>\n",
       "      <th>box_1_port_entry_frames</th>\n",
       "      <th>box_2_port_entry_frames</th>\n",
       "      <th>video_name</th>\n",
       "      <th>all_subjects</th>\n",
       "      <th>first_timestamp</th>\n",
       "      <th>last_timestamp</th>\n",
       "      <th>tone_timestamps</th>\n",
       "      <th>box_1_port_entry_timestamps</th>\n",
       "      <th>box_2_port_entry_timestamps</th>\n",
       "    </tr>\n",
       "  </thead>\n",
       "  <tbody>\n",
       "    <tr>\n",
       "      <th>0</th>\n",
       "      <td>20230612_101430_standard_comp_to_training_D1_s...</td>\n",
       "      <td>[980, 1181]</td>\n",
       "      <td>[[490, 514], [518, 558], [558, 637], [638, 640...</td>\n",
       "      <td>[[33137, 33147], [33665, 33666], [33668, 33669...</td>\n",
       "      <td>20230612_101430_standard_comp_to_training_D1_s...</td>\n",
       "      <td>[1.3, 1.4]</td>\n",
       "      <td>8798886</td>\n",
       "      <td>77093151</td>\n",
       "      <td>[982229, 1182226]</td>\n",
       "      <td>[[491029, 515227], [519426, 558629], [559427, ...</td>\n",
       "      <td>[[33082200, 33090003], [33565003, 33567000], [...</td>\n",
       "    </tr>\n",
       "    <tr>\n",
       "      <th>0</th>\n",
       "      <td>20230612_101430_standard_comp_to_training_D1_s...</td>\n",
       "      <td>[3376, 3575]</td>\n",
       "      <td>[[490, 514], [518, 558], [558, 637], [638, 640...</td>\n",
       "      <td>[[33137, 33147], [33665, 33666], [33668, 33669...</td>\n",
       "      <td>20230612_101430_standard_comp_to_training_D1_s...</td>\n",
       "      <td>[1.3, 1.4]</td>\n",
       "      <td>8798886</td>\n",
       "      <td>77093151</td>\n",
       "      <td>[3382227, 3582224]</td>\n",
       "      <td>[[491029, 515227], [519426, 558629], [559427, ...</td>\n",
       "      <td>[[33082200, 33090003], [33565003, 33567000], [...</td>\n",
       "    </tr>\n",
       "    <tr>\n",
       "      <th>0</th>\n",
       "      <td>20230612_101430_standard_comp_to_training_D1_s...</td>\n",
       "      <td>[5672, 5871]</td>\n",
       "      <td>[[490, 514], [518, 558], [558, 637], [638, 640...</td>\n",
       "      <td>[[33137, 33147], [33665, 33666], [33668, 33669...</td>\n",
       "      <td>20230612_101430_standard_comp_to_training_D1_s...</td>\n",
       "      <td>[1.3, 1.4]</td>\n",
       "      <td>8798886</td>\n",
       "      <td>77093151</td>\n",
       "      <td>[5682225, 5882222]</td>\n",
       "      <td>[[491029, 515227], [519426, 558629], [559427, ...</td>\n",
       "      <td>[[33082200, 33090003], [33565003, 33567000], [...</td>\n",
       "    </tr>\n",
       "    <tr>\n",
       "      <th>0</th>\n",
       "      <td>20230612_101430_standard_comp_to_training_D1_s...</td>\n",
       "      <td>[7468, 7668]</td>\n",
       "      <td>[[490, 514], [518, 558], [558, 637], [638, 640...</td>\n",
       "      <td>[[33137, 33147], [33665, 33666], [33668, 33669...</td>\n",
       "      <td>20230612_101430_standard_comp_to_training_D1_s...</td>\n",
       "      <td>[1.3, 1.4]</td>\n",
       "      <td>8798886</td>\n",
       "      <td>77093151</td>\n",
       "      <td>[7482224, 7682221]</td>\n",
       "      <td>[[491029, 515227], [519426, 558629], [559427, ...</td>\n",
       "      <td>[[33082200, 33090003], [33565003, 33567000], [...</td>\n",
       "    </tr>\n",
       "    <tr>\n",
       "      <th>0</th>\n",
       "      <td>20230612_101430_standard_comp_to_training_D1_s...</td>\n",
       "      <td>[8566, 8765]</td>\n",
       "      <td>[[490, 514], [518, 558], [558, 637], [638, 640...</td>\n",
       "      <td>[[33137, 33147], [33665, 33666], [33668, 33669...</td>\n",
       "      <td>20230612_101430_standard_comp_to_training_D1_s...</td>\n",
       "      <td>[1.3, 1.4]</td>\n",
       "      <td>8798886</td>\n",
       "      <td>77093151</td>\n",
       "      <td>[8582220, 8782223]</td>\n",
       "      <td>[[491029, 515227], [519426, 558629], [559427, ...</td>\n",
       "      <td>[[33082200, 33090003], [33565003, 33567000], [...</td>\n",
       "    </tr>\n",
       "    <tr>\n",
       "      <th>...</th>\n",
       "      <td>...</td>\n",
       "      <td>...</td>\n",
       "      <td>...</td>\n",
       "      <td>...</td>\n",
       "      <td>...</td>\n",
       "      <td>...</td>\n",
       "      <td>...</td>\n",
       "      <td>...</td>\n",
       "      <td>...</td>\n",
       "      <td>...</td>\n",
       "      <td>...</td>\n",
       "    </tr>\n",
       "    <tr>\n",
       "      <th>58</th>\n",
       "      <td>20230630_115506_standard_comp_to_novel_agent_D...</td>\n",
       "      <td>[60714, 60914]</td>\n",
       "      <td>[[618, 655], [1130, 1140], [1246, 1444], [1465...</td>\n",
       "      <td>[[939, 941], [1353, 1353], [1354, 1368], [1375...</td>\n",
       "      <td>20230630_115506_standard_comp_to_novel_agent_D...</td>\n",
       "      <td>[1.2, 1.4, 2.1, 2.2]</td>\n",
       "      <td>10971930</td>\n",
       "      <td>79536439</td>\n",
       "      <td>[60673457, 60873459]</td>\n",
       "      <td>[[619332, 654132], [1131540, 1141541], [124834...</td>\n",
       "      <td>[[940936, 942136], [1354140, 1355143], [135654...</td>\n",
       "    </tr>\n",
       "    <tr>\n",
       "      <th>58</th>\n",
       "      <td>20230630_115506_standard_comp_to_novel_agent_D...</td>\n",
       "      <td>[62211, 62410]</td>\n",
       "      <td>[[618, 655], [1130, 1140], [1246, 1444], [1465...</td>\n",
       "      <td>[[939, 941], [1353, 1353], [1354, 1368], [1375...</td>\n",
       "      <td>20230630_115506_standard_comp_to_novel_agent_D...</td>\n",
       "      <td>[1.2, 1.4, 2.1, 2.2]</td>\n",
       "      <td>10971930</td>\n",
       "      <td>79536439</td>\n",
       "      <td>[62173475, 62373477]</td>\n",
       "      <td>[[619332, 654132], [1131540, 1141541], [124834...</td>\n",
       "      <td>[[940936, 942136], [1354140, 1355143], [135654...</td>\n",
       "    </tr>\n",
       "    <tr>\n",
       "      <th>58</th>\n",
       "      <td>20230630_115506_standard_comp_to_novel_agent_D...</td>\n",
       "      <td>[64207, 64406]</td>\n",
       "      <td>[[618, 655], [1130, 1140], [1246, 1444], [1465...</td>\n",
       "      <td>[[939, 941], [1353, 1353], [1354, 1368], [1375...</td>\n",
       "      <td>20230630_115506_standard_comp_to_novel_agent_D...</td>\n",
       "      <td>[1.2, 1.4, 2.1, 2.2]</td>\n",
       "      <td>10971930</td>\n",
       "      <td>79536439</td>\n",
       "      <td>[64173502, 64373501]</td>\n",
       "      <td>[[619332, 654132], [1131540, 1141541], [124834...</td>\n",
       "      <td>[[940936, 942136], [1354140, 1355143], [135654...</td>\n",
       "    </tr>\n",
       "    <tr>\n",
       "      <th>58</th>\n",
       "      <td>20230630_115506_standard_comp_to_novel_agent_D...</td>\n",
       "      <td>[66104, 66303]</td>\n",
       "      <td>[[618, 655], [1130, 1140], [1246, 1444], [1465...</td>\n",
       "      <td>[[939, 941], [1353, 1353], [1354, 1368], [1375...</td>\n",
       "      <td>20230630_115506_standard_comp_to_novel_agent_D...</td>\n",
       "      <td>[1.2, 1.4, 2.1, 2.2]</td>\n",
       "      <td>10971930</td>\n",
       "      <td>79536439</td>\n",
       "      <td>[66073522, 66273524]</td>\n",
       "      <td>[[619332, 654132], [1131540, 1141541], [124834...</td>\n",
       "      <td>[[940936, 942136], [1354140, 1355143], [135654...</td>\n",
       "    </tr>\n",
       "    <tr>\n",
       "      <th>58</th>\n",
       "      <td>20230630_115506_standard_comp_to_novel_agent_D...</td>\n",
       "      <td>[67102, 67301]</td>\n",
       "      <td>[[618, 655], [1130, 1140], [1246, 1444], [1465...</td>\n",
       "      <td>[[939, 941], [1353, 1353], [1354, 1368], [1375...</td>\n",
       "      <td>20230630_115506_standard_comp_to_novel_agent_D...</td>\n",
       "      <td>[1.2, 1.4, 2.1, 2.2]</td>\n",
       "      <td>10971930</td>\n",
       "      <td>79536439</td>\n",
       "      <td>[67073535, 67273537]</td>\n",
       "      <td>[[619332, 654132], [1131540, 1141541], [124834...</td>\n",
       "      <td>[[940936, 942136], [1354140, 1355143], [135654...</td>\n",
       "    </tr>\n",
       "  </tbody>\n",
       "</table>\n",
       "<p>1262 rows × 11 columns</p>\n",
       "</div>"
      ],
      "text/plain": [
       "                                          session_dir     tone_frames  \\\n",
       "0   20230612_101430_standard_comp_to_training_D1_s...     [980, 1181]   \n",
       "0   20230612_101430_standard_comp_to_training_D1_s...    [3376, 3575]   \n",
       "0   20230612_101430_standard_comp_to_training_D1_s...    [5672, 5871]   \n",
       "0   20230612_101430_standard_comp_to_training_D1_s...    [7468, 7668]   \n",
       "0   20230612_101430_standard_comp_to_training_D1_s...    [8566, 8765]   \n",
       "..                                                ...             ...   \n",
       "58  20230630_115506_standard_comp_to_novel_agent_D...  [60714, 60914]   \n",
       "58  20230630_115506_standard_comp_to_novel_agent_D...  [62211, 62410]   \n",
       "58  20230630_115506_standard_comp_to_novel_agent_D...  [64207, 64406]   \n",
       "58  20230630_115506_standard_comp_to_novel_agent_D...  [66104, 66303]   \n",
       "58  20230630_115506_standard_comp_to_novel_agent_D...  [67102, 67301]   \n",
       "\n",
       "                              box_1_port_entry_frames  \\\n",
       "0   [[490, 514], [518, 558], [558, 637], [638, 640...   \n",
       "0   [[490, 514], [518, 558], [558, 637], [638, 640...   \n",
       "0   [[490, 514], [518, 558], [558, 637], [638, 640...   \n",
       "0   [[490, 514], [518, 558], [558, 637], [638, 640...   \n",
       "0   [[490, 514], [518, 558], [558, 637], [638, 640...   \n",
       "..                                                ...   \n",
       "58  [[618, 655], [1130, 1140], [1246, 1444], [1465...   \n",
       "58  [[618, 655], [1130, 1140], [1246, 1444], [1465...   \n",
       "58  [[618, 655], [1130, 1140], [1246, 1444], [1465...   \n",
       "58  [[618, 655], [1130, 1140], [1246, 1444], [1465...   \n",
       "58  [[618, 655], [1130, 1140], [1246, 1444], [1465...   \n",
       "\n",
       "                              box_2_port_entry_frames  \\\n",
       "0   [[33137, 33147], [33665, 33666], [33668, 33669...   \n",
       "0   [[33137, 33147], [33665, 33666], [33668, 33669...   \n",
       "0   [[33137, 33147], [33665, 33666], [33668, 33669...   \n",
       "0   [[33137, 33147], [33665, 33666], [33668, 33669...   \n",
       "0   [[33137, 33147], [33665, 33666], [33668, 33669...   \n",
       "..                                                ...   \n",
       "58  [[939, 941], [1353, 1353], [1354, 1368], [1375...   \n",
       "58  [[939, 941], [1353, 1353], [1354, 1368], [1375...   \n",
       "58  [[939, 941], [1353, 1353], [1354, 1368], [1375...   \n",
       "58  [[939, 941], [1353, 1353], [1354, 1368], [1375...   \n",
       "58  [[939, 941], [1353, 1353], [1354, 1368], [1375...   \n",
       "\n",
       "                                           video_name          all_subjects  \\\n",
       "0   20230612_101430_standard_comp_to_training_D1_s...            [1.3, 1.4]   \n",
       "0   20230612_101430_standard_comp_to_training_D1_s...            [1.3, 1.4]   \n",
       "0   20230612_101430_standard_comp_to_training_D1_s...            [1.3, 1.4]   \n",
       "0   20230612_101430_standard_comp_to_training_D1_s...            [1.3, 1.4]   \n",
       "0   20230612_101430_standard_comp_to_training_D1_s...            [1.3, 1.4]   \n",
       "..                                                ...                   ...   \n",
       "58  20230630_115506_standard_comp_to_novel_agent_D...  [1.2, 1.4, 2.1, 2.2]   \n",
       "58  20230630_115506_standard_comp_to_novel_agent_D...  [1.2, 1.4, 2.1, 2.2]   \n",
       "58  20230630_115506_standard_comp_to_novel_agent_D...  [1.2, 1.4, 2.1, 2.2]   \n",
       "58  20230630_115506_standard_comp_to_novel_agent_D...  [1.2, 1.4, 2.1, 2.2]   \n",
       "58  20230630_115506_standard_comp_to_novel_agent_D...  [1.2, 1.4, 2.1, 2.2]   \n",
       "\n",
       "    first_timestamp  last_timestamp       tone_timestamps  \\\n",
       "0           8798886        77093151     [982229, 1182226]   \n",
       "0           8798886        77093151    [3382227, 3582224]   \n",
       "0           8798886        77093151    [5682225, 5882222]   \n",
       "0           8798886        77093151    [7482224, 7682221]   \n",
       "0           8798886        77093151    [8582220, 8782223]   \n",
       "..              ...             ...                   ...   \n",
       "58         10971930        79536439  [60673457, 60873459]   \n",
       "58         10971930        79536439  [62173475, 62373477]   \n",
       "58         10971930        79536439  [64173502, 64373501]   \n",
       "58         10971930        79536439  [66073522, 66273524]   \n",
       "58         10971930        79536439  [67073535, 67273537]   \n",
       "\n",
       "                          box_1_port_entry_timestamps  \\\n",
       "0   [[491029, 515227], [519426, 558629], [559427, ...   \n",
       "0   [[491029, 515227], [519426, 558629], [559427, ...   \n",
       "0   [[491029, 515227], [519426, 558629], [559427, ...   \n",
       "0   [[491029, 515227], [519426, 558629], [559427, ...   \n",
       "0   [[491029, 515227], [519426, 558629], [559427, ...   \n",
       "..                                                ...   \n",
       "58  [[619332, 654132], [1131540, 1141541], [124834...   \n",
       "58  [[619332, 654132], [1131540, 1141541], [124834...   \n",
       "58  [[619332, 654132], [1131540, 1141541], [124834...   \n",
       "58  [[619332, 654132], [1131540, 1141541], [124834...   \n",
       "58  [[619332, 654132], [1131540, 1141541], [124834...   \n",
       "\n",
       "                          box_2_port_entry_timestamps  \n",
       "0   [[33082200, 33090003], [33565003, 33567000], [...  \n",
       "0   [[33082200, 33090003], [33565003, 33567000], [...  \n",
       "0   [[33082200, 33090003], [33565003, 33567000], [...  \n",
       "0   [[33082200, 33090003], [33565003, 33567000], [...  \n",
       "0   [[33082200, 33090003], [33565003, 33567000], [...  \n",
       "..                                                ...  \n",
       "58  [[940936, 942136], [1354140, 1355143], [135654...  \n",
       "58  [[940936, 942136], [1354140, 1355143], [135654...  \n",
       "58  [[940936, 942136], [1354140, 1355143], [135654...  \n",
       "58  [[940936, 942136], [1354140, 1355143], [135654...  \n",
       "58  [[940936, 942136], [1354140, 1355143], [135654...  \n",
       "\n",
       "[1262 rows x 11 columns]"
      ]
     },
     "execution_count": 14,
     "metadata": {},
     "output_type": "execute_result"
    }
   ],
   "source": [
    "exploded_TRODES_METADATA_DF"
   ]
  },
  {
   "cell_type": "code",
   "execution_count": 15,
   "metadata": {
    "tags": []
   },
   "outputs": [
    {
     "name": "stdout",
     "output_type": "stream",
     "text": [
      "box_1_port_entry_frames\n",
      "box_2_port_entry_frames\n",
      "box_1_port_entry_timestamps\n",
      "box_2_port_entry_timestamps\n"
     ]
    }
   ],
   "source": [
    "for entry_col in [col for col in exploded_TRODES_METADATA_DF.columns if \"port_entry\" in col]:\n",
    "    print(entry_col)\n",
    "    exploded_TRODES_METADATA_DF[entry_col] = exploded_TRODES_METADATA_DF[entry_col].apply(lambda x: np.array(x))\n"
   ]
  },
  {
   "cell_type": "code",
   "execution_count": 16,
   "metadata": {
    "tags": []
   },
   "outputs": [],
   "source": [
    "columns_to_update = [\"box_1_port_entry_frames\", \"box_2_port_entry_frames\", \"box_1_port_entry_timestamps\", \"box_2_port_entry_timestamps\"]\n",
    "tone_columns = [\"tone_frames\", \"tone_frames\", \"tone_timestamps\", \"tone_timestamps\"]\n",
    "\n",
    "for col, tone_col in zip(columns_to_update, tone_columns):\n",
    "    exploded_TRODES_METADATA_DF[col] = exploded_TRODES_METADATA_DF.apply(lambda x: filter_overlapping_ranges(x[col], x[tone_col][0], x[tone_col][1]), axis=1)"
   ]
  },
  {
   "cell_type": "code",
   "execution_count": 17,
   "metadata": {
    "tags": []
   },
   "outputs": [],
   "source": [
    "exploded_TRODES_METADATA_DF[\"tone_start_frame\"] = exploded_TRODES_METADATA_DF[\"tone_frames\"].apply(lambda x: x[0])\n",
    "exploded_TRODES_METADATA_DF[\"tone_stop_frame\"] = exploded_TRODES_METADATA_DF[\"tone_frames\"].apply(lambda x: x[1])"
   ]
  },
  {
   "cell_type": "code",
   "execution_count": 18,
   "metadata": {
    "tags": []
   },
   "outputs": [],
   "source": [
    "exploded_TRODES_METADATA_DF[\"tone_start_timestamp\"] = exploded_TRODES_METADATA_DF[\"tone_timestamps\"].apply(lambda x: x[0])\n",
    "exploded_TRODES_METADATA_DF[\"tone_stop_timestamp\"] = exploded_TRODES_METADATA_DF[\"tone_timestamps\"].apply(lambda x: x[1])\n"
   ]
  },
  {
   "cell_type": "code",
   "execution_count": 19,
   "metadata": {
    "tags": []
   },
   "outputs": [],
   "source": [
    "exploded_TRODES_METADATA_DF = exploded_TRODES_METADATA_DF.drop(columns=[\"tone_frames\", \"tone_timestamps\"], errors=\"ignore\")"
   ]
  },
  {
   "cell_type": "markdown",
   "metadata": {},
   "source": [
    "- Create a new column for start and stop"
   ]
  },
  {
   "cell_type": "code",
   "execution_count": 20,
   "metadata": {
    "tags": []
   },
   "outputs": [],
   "source": [
    "exploded_TRODES_METADATA_DF = exploded_TRODES_METADATA_DF[sorted(exploded_TRODES_METADATA_DF.columns, key=lambda s: s.split('_')[-1])].copy()"
   ]
  },
  {
   "cell_type": "code",
   "execution_count": 21,
   "metadata": {
    "tags": []
   },
   "outputs": [],
   "source": [
    "exploded_TRODES_METADATA_DF.to_pickle(\"./proc/rce_pilot_2_per_video_trial_labels.pkl\")"
   ]
  },
  {
   "cell_type": "markdown",
   "metadata": {},
   "source": [
    "- Exporting to CSV"
   ]
  },
  {
   "cell_type": "code",
   "execution_count": 22,
   "metadata": {
    "tags": []
   },
   "outputs": [
    {
     "name": "stdout",
     "output_type": "stream",
     "text": [
      "box_1_port_entry_frames\n",
      "box_2_port_entry_frames\n",
      "box_1_port_entry_timestamps\n",
      "box_2_port_entry_timestamps\n"
     ]
    }
   ],
   "source": [
    "for entry_col in [col for col in exploded_TRODES_METADATA_DF.columns if \"port_entry\" in col]:\n",
    "    print(entry_col)\n",
    "    exploded_TRODES_METADATA_DF[entry_col] = exploded_TRODES_METADATA_DF[entry_col].apply(lambda x: ' '.join(map(str, x)))"
   ]
  },
  {
   "cell_type": "code",
   "execution_count": 23,
   "metadata": {
    "tags": []
   },
   "outputs": [
    {
     "data": {
      "text/html": [
       "<div>\n",
       "<style scoped>\n",
       "    .dataframe tbody tr th:only-of-type {\n",
       "        vertical-align: middle;\n",
       "    }\n",
       "\n",
       "    .dataframe tbody tr th {\n",
       "        vertical-align: top;\n",
       "    }\n",
       "\n",
       "    .dataframe thead th {\n",
       "        text-align: right;\n",
       "    }\n",
       "</style>\n",
       "<table border=\"1\" class=\"dataframe\">\n",
       "  <thead>\n",
       "    <tr style=\"text-align: right;\">\n",
       "      <th></th>\n",
       "      <th>session_dir</th>\n",
       "      <th>tone_start_frame</th>\n",
       "      <th>tone_stop_frame</th>\n",
       "      <th>box_1_port_entry_frames</th>\n",
       "      <th>box_2_port_entry_frames</th>\n",
       "      <th>video_name</th>\n",
       "      <th>all_subjects</th>\n",
       "      <th>first_timestamp</th>\n",
       "      <th>last_timestamp</th>\n",
       "      <th>tone_start_timestamp</th>\n",
       "      <th>tone_stop_timestamp</th>\n",
       "      <th>box_1_port_entry_timestamps</th>\n",
       "      <th>box_2_port_entry_timestamps</th>\n",
       "    </tr>\n",
       "  </thead>\n",
       "  <tbody>\n",
       "    <tr>\n",
       "      <th>0</th>\n",
       "      <td>20230612_101430_standard_comp_to_training_D1_s...</td>\n",
       "      <td>980</td>\n",
       "      <td>1181</td>\n",
       "      <td>[1028 1031] [1149 1266]</td>\n",
       "      <td></td>\n",
       "      <td>20230612_101430_standard_comp_to_training_D1_s...</td>\n",
       "      <td>[1.3, 1.4]</td>\n",
       "      <td>8798886</td>\n",
       "      <td>77093151</td>\n",
       "      <td>982229</td>\n",
       "      <td>1182226</td>\n",
       "      <td>[1030229 1033226] [1151634 1269428]</td>\n",
       "      <td></td>\n",
       "    </tr>\n",
       "    <tr>\n",
       "      <th>0</th>\n",
       "      <td>20230612_101430_standard_comp_to_training_D1_s...</td>\n",
       "      <td>3376</td>\n",
       "      <td>3575</td>\n",
       "      <td>[3545 3545] [3547 3549] [3550 3554] [3554 3556...</td>\n",
       "      <td></td>\n",
       "      <td>20230612_101430_standard_comp_to_training_D1_s...</td>\n",
       "      <td>[1.3, 1.4]</td>\n",
       "      <td>8798886</td>\n",
       "      <td>77093151</td>\n",
       "      <td>3382227</td>\n",
       "      <td>3582224</td>\n",
       "      <td>[3550827 3551624] [3553824 3555829] [3556426 3...</td>\n",
       "      <td></td>\n",
       "    </tr>\n",
       "    <tr>\n",
       "      <th>0</th>\n",
       "      <td>20230612_101430_standard_comp_to_training_D1_s...</td>\n",
       "      <td>5672</td>\n",
       "      <td>5871</td>\n",
       "      <td>[5761 5762] [5762 5942]</td>\n",
       "      <td></td>\n",
       "      <td>20230612_101430_standard_comp_to_training_D1_s...</td>\n",
       "      <td>[1.3, 1.4]</td>\n",
       "      <td>8798886</td>\n",
       "      <td>77093151</td>\n",
       "      <td>5682225</td>\n",
       "      <td>5882222</td>\n",
       "      <td>[5771223 5772822] [5773422 5952622]</td>\n",
       "      <td></td>\n",
       "    </tr>\n",
       "    <tr>\n",
       "      <th>0</th>\n",
       "      <td>20230612_101430_standard_comp_to_training_D1_s...</td>\n",
       "      <td>7468</td>\n",
       "      <td>7668</td>\n",
       "      <td>[7632 7634] [7635 7665] [7665 7945]</td>\n",
       "      <td></td>\n",
       "      <td>20230612_101430_standard_comp_to_training_D1_s...</td>\n",
       "      <td>[1.3, 1.4]</td>\n",
       "      <td>8798886</td>\n",
       "      <td>77093151</td>\n",
       "      <td>7482224</td>\n",
       "      <td>7682221</td>\n",
       "      <td>[7647221 7648224] [7649024 7679421] [7680023 7...</td>\n",
       "      <td></td>\n",
       "    </tr>\n",
       "    <tr>\n",
       "      <th>0</th>\n",
       "      <td>20230612_101430_standard_comp_to_training_D1_s...</td>\n",
       "      <td>8566</td>\n",
       "      <td>8765</td>\n",
       "      <td>[8678 8733] [8735 8975]</td>\n",
       "      <td></td>\n",
       "      <td>20230612_101430_standard_comp_to_training_D1_s...</td>\n",
       "      <td>[1.3, 1.4]</td>\n",
       "      <td>8798886</td>\n",
       "      <td>77093151</td>\n",
       "      <td>8582220</td>\n",
       "      <td>8782223</td>\n",
       "      <td>[8694220 8750020] [8750420 8992222]</td>\n",
       "      <td></td>\n",
       "    </tr>\n",
       "  </tbody>\n",
       "</table>\n",
       "</div>"
      ],
      "text/plain": [
       "                                         session_dir  tone_start_frame  \\\n",
       "0  20230612_101430_standard_comp_to_training_D1_s...               980   \n",
       "0  20230612_101430_standard_comp_to_training_D1_s...              3376   \n",
       "0  20230612_101430_standard_comp_to_training_D1_s...              5672   \n",
       "0  20230612_101430_standard_comp_to_training_D1_s...              7468   \n",
       "0  20230612_101430_standard_comp_to_training_D1_s...              8566   \n",
       "\n",
       "   tone_stop_frame                            box_1_port_entry_frames  \\\n",
       "0             1181                            [1028 1031] [1149 1266]   \n",
       "0             3575  [3545 3545] [3547 3549] [3550 3554] [3554 3556...   \n",
       "0             5871                            [5761 5762] [5762 5942]   \n",
       "0             7668                [7632 7634] [7635 7665] [7665 7945]   \n",
       "0             8765                            [8678 8733] [8735 8975]   \n",
       "\n",
       "  box_2_port_entry_frames                                         video_name  \\\n",
       "0                          20230612_101430_standard_comp_to_training_D1_s...   \n",
       "0                          20230612_101430_standard_comp_to_training_D1_s...   \n",
       "0                          20230612_101430_standard_comp_to_training_D1_s...   \n",
       "0                          20230612_101430_standard_comp_to_training_D1_s...   \n",
       "0                          20230612_101430_standard_comp_to_training_D1_s...   \n",
       "\n",
       "  all_subjects  first_timestamp  last_timestamp  tone_start_timestamp  \\\n",
       "0   [1.3, 1.4]          8798886        77093151                982229   \n",
       "0   [1.3, 1.4]          8798886        77093151               3382227   \n",
       "0   [1.3, 1.4]          8798886        77093151               5682225   \n",
       "0   [1.3, 1.4]          8798886        77093151               7482224   \n",
       "0   [1.3, 1.4]          8798886        77093151               8582220   \n",
       "\n",
       "   tone_stop_timestamp                        box_1_port_entry_timestamps  \\\n",
       "0              1182226                [1030229 1033226] [1151634 1269428]   \n",
       "0              3582224  [3550827 3551624] [3553824 3555829] [3556426 3...   \n",
       "0              5882222                [5771223 5772822] [5773422 5952622]   \n",
       "0              7682221  [7647221 7648224] [7649024 7679421] [7680023 7...   \n",
       "0              8782223                [8694220 8750020] [8750420 8992222]   \n",
       "\n",
       "  box_2_port_entry_timestamps  \n",
       "0                              \n",
       "0                              \n",
       "0                              \n",
       "0                              \n",
       "0                              "
      ]
     },
     "execution_count": 23,
     "metadata": {},
     "output_type": "execute_result"
    }
   ],
   "source": [
    "exploded_TRODES_METADATA_DF.head()"
   ]
  },
  {
   "cell_type": "code",
   "execution_count": 24,
   "metadata": {},
   "outputs": [
    {
     "data": {
      "text/html": [
       "<div>\n",
       "<style scoped>\n",
       "    .dataframe tbody tr th:only-of-type {\n",
       "        vertical-align: middle;\n",
       "    }\n",
       "\n",
       "    .dataframe tbody tr th {\n",
       "        vertical-align: top;\n",
       "    }\n",
       "\n",
       "    .dataframe thead th {\n",
       "        text-align: right;\n",
       "    }\n",
       "</style>\n",
       "<table border=\"1\" class=\"dataframe\">\n",
       "  <thead>\n",
       "    <tr style=\"text-align: right;\">\n",
       "      <th></th>\n",
       "      <th>session_dir</th>\n",
       "      <th>tone_start_frame</th>\n",
       "      <th>tone_stop_frame</th>\n",
       "      <th>box_1_port_entry_frames</th>\n",
       "      <th>box_2_port_entry_frames</th>\n",
       "      <th>video_name</th>\n",
       "      <th>all_subjects</th>\n",
       "      <th>first_timestamp</th>\n",
       "      <th>last_timestamp</th>\n",
       "      <th>tone_start_timestamp</th>\n",
       "      <th>tone_stop_timestamp</th>\n",
       "      <th>box_1_port_entry_timestamps</th>\n",
       "      <th>box_2_port_entry_timestamps</th>\n",
       "    </tr>\n",
       "  </thead>\n",
       "  <tbody>\n",
       "    <tr>\n",
       "      <th>58</th>\n",
       "      <td>20230630_115506_standard_comp_to_novel_agent_D...</td>\n",
       "      <td>60714</td>\n",
       "      <td>60914</td>\n",
       "      <td>[60676 60746] [60777 60803] [60824 60897] [609...</td>\n",
       "      <td>[60819 60821] [60821 61167]</td>\n",
       "      <td>20230630_115506_standard_comp_to_novel_agent_D...</td>\n",
       "      <td>[1.2, 1.4, 2.1, 2.2]</td>\n",
       "      <td>10971930</td>\n",
       "      <td>79536439</td>\n",
       "      <td>60673457</td>\n",
       "      <td>60873459</td>\n",
       "      <td>[60635256 60705256] [60736657 60762662] [60782...</td>\n",
       "      <td>[60779058 60780258] [60780662 61127062]</td>\n",
       "    </tr>\n",
       "    <tr>\n",
       "      <th>58</th>\n",
       "      <td>20230630_115506_standard_comp_to_novel_agent_D...</td>\n",
       "      <td>62211</td>\n",
       "      <td>62410</td>\n",
       "      <td>[62160 62396]</td>\n",
       "      <td>[62226 62228] [62230 62236] [62260 62283] [622...</td>\n",
       "      <td>20230630_115506_standard_comp_to_novel_agent_D...</td>\n",
       "      <td>[1.2, 1.4, 2.1, 2.2]</td>\n",
       "      <td>10971930</td>\n",
       "      <td>79536439</td>\n",
       "      <td>62173475</td>\n",
       "      <td>62373477</td>\n",
       "      <td>[62121874 62359482]</td>\n",
       "      <td>[62189072 62190075] [62193075 62198472] [62221...</td>\n",
       "    </tr>\n",
       "    <tr>\n",
       "      <th>58</th>\n",
       "      <td>20230630_115506_standard_comp_to_novel_agent_D...</td>\n",
       "      <td>64207</td>\n",
       "      <td>64406</td>\n",
       "      <td>[64188 64391] [64393 64738]</td>\n",
       "      <td>[64298 64477]</td>\n",
       "      <td>20230630_115506_standard_comp_to_novel_agent_D...</td>\n",
       "      <td>[1.2, 1.4, 2.1, 2.2]</td>\n",
       "      <td>10971930</td>\n",
       "      <td>79536439</td>\n",
       "      <td>64173502</td>\n",
       "      <td>64373501</td>\n",
       "      <td>[64154499 64357501] [64359306 64705110]</td>\n",
       "      <td>[64264904 64443702]</td>\n",
       "    </tr>\n",
       "    <tr>\n",
       "      <th>58</th>\n",
       "      <td>20230630_115506_standard_comp_to_novel_agent_D...</td>\n",
       "      <td>66104</td>\n",
       "      <td>66303</td>\n",
       "      <td>[66124 66274] [66275 66276] [66278 66523]</td>\n",
       "      <td>[66153 66163] [66256 66257] [66257 66319]</td>\n",
       "      <td>20230630_115506_standard_comp_to_novel_agent_D...</td>\n",
       "      <td>[1.2, 1.4, 2.1, 2.2]</td>\n",
       "      <td>10971930</td>\n",
       "      <td>79536439</td>\n",
       "      <td>66073522</td>\n",
       "      <td>66273524</td>\n",
       "      <td>[66093722 66244528] [66244928 66246724] [66248...</td>\n",
       "      <td>[66122925 66133522] [66226128 66227328] [66227...</td>\n",
       "    </tr>\n",
       "    <tr>\n",
       "      <th>58</th>\n",
       "      <td>20230630_115506_standard_comp_to_novel_agent_D...</td>\n",
       "      <td>67102</td>\n",
       "      <td>67301</td>\n",
       "      <td>[67115 67213] [67231 67606]</td>\n",
       "      <td>[67116 67144] [67158 67164] [67199 67498]</td>\n",
       "      <td>20230630_115506_standard_comp_to_novel_agent_D...</td>\n",
       "      <td>[1.2, 1.4, 2.1, 2.2]</td>\n",
       "      <td>10971930</td>\n",
       "      <td>79536439</td>\n",
       "      <td>67073535</td>\n",
       "      <td>67273537</td>\n",
       "      <td>[67086534 67184943] [67202335 67578740]</td>\n",
       "      <td>[67087934 67115334] [67129134 67135935] [67170...</td>\n",
       "    </tr>\n",
       "  </tbody>\n",
       "</table>\n",
       "</div>"
      ],
      "text/plain": [
       "                                          session_dir  tone_start_frame  \\\n",
       "58  20230630_115506_standard_comp_to_novel_agent_D...             60714   \n",
       "58  20230630_115506_standard_comp_to_novel_agent_D...             62211   \n",
       "58  20230630_115506_standard_comp_to_novel_agent_D...             64207   \n",
       "58  20230630_115506_standard_comp_to_novel_agent_D...             66104   \n",
       "58  20230630_115506_standard_comp_to_novel_agent_D...             67102   \n",
       "\n",
       "    tone_stop_frame                            box_1_port_entry_frames  \\\n",
       "58            60914  [60676 60746] [60777 60803] [60824 60897] [609...   \n",
       "58            62410                                      [62160 62396]   \n",
       "58            64406                        [64188 64391] [64393 64738]   \n",
       "58            66303          [66124 66274] [66275 66276] [66278 66523]   \n",
       "58            67301                        [67115 67213] [67231 67606]   \n",
       "\n",
       "                              box_2_port_entry_frames  \\\n",
       "58                        [60819 60821] [60821 61167]   \n",
       "58  [62226 62228] [62230 62236] [62260 62283] [622...   \n",
       "58                                      [64298 64477]   \n",
       "58          [66153 66163] [66256 66257] [66257 66319]   \n",
       "58          [67116 67144] [67158 67164] [67199 67498]   \n",
       "\n",
       "                                           video_name          all_subjects  \\\n",
       "58  20230630_115506_standard_comp_to_novel_agent_D...  [1.2, 1.4, 2.1, 2.2]   \n",
       "58  20230630_115506_standard_comp_to_novel_agent_D...  [1.2, 1.4, 2.1, 2.2]   \n",
       "58  20230630_115506_standard_comp_to_novel_agent_D...  [1.2, 1.4, 2.1, 2.2]   \n",
       "58  20230630_115506_standard_comp_to_novel_agent_D...  [1.2, 1.4, 2.1, 2.2]   \n",
       "58  20230630_115506_standard_comp_to_novel_agent_D...  [1.2, 1.4, 2.1, 2.2]   \n",
       "\n",
       "    first_timestamp  last_timestamp  tone_start_timestamp  \\\n",
       "58         10971930        79536439              60673457   \n",
       "58         10971930        79536439              62173475   \n",
       "58         10971930        79536439              64173502   \n",
       "58         10971930        79536439              66073522   \n",
       "58         10971930        79536439              67073535   \n",
       "\n",
       "    tone_stop_timestamp                        box_1_port_entry_timestamps  \\\n",
       "58             60873459  [60635256 60705256] [60736657 60762662] [60782...   \n",
       "58             62373477                                [62121874 62359482]   \n",
       "58             64373501            [64154499 64357501] [64359306 64705110]   \n",
       "58             66273524  [66093722 66244528] [66244928 66246724] [66248...   \n",
       "58             67273537            [67086534 67184943] [67202335 67578740]   \n",
       "\n",
       "                          box_2_port_entry_timestamps  \n",
       "58            [60779058 60780258] [60780662 61127062]  \n",
       "58  [62189072 62190075] [62193075 62198472] [62221...  \n",
       "58                                [64264904 64443702]  \n",
       "58  [66122925 66133522] [66226128 66227328] [66227...  \n",
       "58  [67087934 67115334] [67129134 67135935] [67170...  "
      ]
     },
     "execution_count": 24,
     "metadata": {},
     "output_type": "execute_result"
    }
   ],
   "source": [
    "exploded_TRODES_METADATA_DF.tail()"
   ]
  },
  {
   "cell_type": "code",
   "execution_count": 25,
   "metadata": {},
   "outputs": [],
   "source": [
    "exploded_TRODES_METADATA_DF.to_csv(\"./proc/rce_pilot_2_per_video_trial_labels.csv\")"
   ]
  },
  {
   "cell_type": "code",
   "execution_count": null,
   "metadata": {},
   "outputs": [],
   "source": []
  }
 ],
 "metadata": {
  "deepnote": {},
  "deepnote_execution_queue": [],
  "deepnote_notebook_id": "cf8fe3695d074ee7887fdf6459cbf5ce",
  "kernelspec": {
   "display_name": "spike_interface_0_99_0",
   "language": "python",
   "name": "spike_interface_0_99_0"
  },
  "language_info": {
   "codemirror_mode": {
    "name": "ipython",
    "version": 3
   },
   "file_extension": ".py",
   "mimetype": "text/x-python",
   "name": "python",
   "nbconvert_exporter": "python",
   "pygments_lexer": "ipython3",
   "version": "3.10.13"
  }
 },
 "nbformat": 4,
 "nbformat_minor": 4
}
