{
 "cells": [
  {
   "cell_type": "markdown",
   "metadata": {
    "cell_id": "c3a02adc9e884466bc8c79db549cc3d2",
    "deepnote_cell_type": "text-cell-h1",
    "formattedRanges": [
     {
      "fromCodePoint": 0,
      "marks": {
       "bold": true,
       "underline": true
      },
      "toCodePoint": 17,
      "type": "marks"
     }
    ]
   },
   "source": [
    "# Time Stamp Extract"
   ]
  },
  {
   "cell_type": "markdown",
   "metadata": {
    "cell_id": "4546bee655b14a5dbf393161f1228e60",
    "deepnote_cell_type": "text-cell-p",
    "formattedRanges": []
   },
   "source": [
    "Brief 1-2 sentence description of notebook."
   ]
  },
  {
   "cell_type": "markdown",
   "metadata": {},
   "source": [
    "TODO: Supplement the description\n",
    "- Notebook that extracts the timestamps and gets the time that tones played"
   ]
  },
  {
   "cell_type": "code",
   "execution_count": 2,
   "metadata": {},
   "outputs": [],
   "source": [
    "# Imports of all used packages and libraries\n",
    "import sys\n",
    "import os\n",
    "import git\n",
    "import glob\n",
    "from collections import defaultdict"
   ]
  },
  {
   "cell_type": "code",
   "execution_count": 3,
   "metadata": {},
   "outputs": [],
   "source": [
    "git_repo = git.Repo(\".\", search_parent_directories=True)\n",
    "git_root = git_repo.git.rev_parse(\"--show-toplevel\")"
   ]
  },
  {
   "cell_type": "code",
   "execution_count": 4,
   "metadata": {},
   "outputs": [
    {
     "data": {
      "text/plain": [
       "'/nancy/projects/reward_competition_extention'"
      ]
     },
     "execution_count": 4,
     "metadata": {},
     "output_type": "execute_result"
    }
   ],
   "source": [
    "git_root"
   ]
  },
  {
   "cell_type": "code",
   "execution_count": 5,
   "metadata": {},
   "outputs": [],
   "source": [
    "sys.path.insert(0, os.path.join(git_root, 'src'))"
   ]
  },
  {
   "cell_type": "code",
   "execution_count": 6,
   "metadata": {},
   "outputs": [],
   "source": [
    "# Imports of all used packages and libraries\n",
    "import glob\n",
    "import numpy as np\n",
    "import pandas as pd\n",
    "import matplotlib.pyplot as plt"
   ]
  },
  {
   "cell_type": "code",
   "execution_count": 7,
   "metadata": {},
   "outputs": [],
   "source": [
    "import spikeinterface.extractors as se\n",
    "import spikeinterface.preprocessing as sp"
   ]
  },
  {
   "cell_type": "code",
   "execution_count": 8,
   "metadata": {},
   "outputs": [],
   "source": [
    "import utilities.helper\n",
    "import trodes.read_exported"
   ]
  },
  {
   "cell_type": "markdown",
   "metadata": {},
   "source": [
    "# Functions"
   ]
  },
  {
   "cell_type": "markdown",
   "metadata": {
    "cell_id": "d290bac2c17940bfbc0f9296beaf70e5",
    "deepnote_cell_type": "text-cell-h2",
    "formattedRanges": []
   },
   "source": [
    "## Inputs & Data"
   ]
  },
  {
   "cell_type": "markdown",
   "metadata": {
    "cell_id": "e528ce19c608425292151930d380f49f",
    "deepnote_cell_type": "text-cell-p",
    "formattedRanges": []
   },
   "source": [
    "- Explanation of each input and where it comes from."
   ]
  },
  {
   "cell_type": "markdown",
   "metadata": {},
   "source": [
    "Inputs and Required data loading\n",
    "- input variable names are in all caps snake case\n",
    "- Whenever an input changes or is used for processing \n",
    "- The variables are all lower in snake case"
   ]
  },
  {
   "cell_type": "code",
   "execution_count": 9,
   "metadata": {
    "cell_id": "6cf83a5811054461a718a71673d09aab",
    "deepnote_cell_type": "code",
    "deepnote_to_be_reexecuted": false,
    "execution_millis": 373,
    "execution_start": 1691424003628,
    "source_hash": null
   },
   "outputs": [],
   "source": [
    "# Path of the directory that contains the Spike Gadgets recording and the exported timestamp files\n",
    "# Exported with this tool https://docs.spikegadgets.com/en/latest/basic/ExportFunctions.html\n",
    "# Export these files:\n",
    "    # -raw – Continuous raw band export.\n",
    "    # -dio – Digital IO channel state change export.\n",
    "    # -analogio – Continuous analog IO export.\n",
    "OUTPUT_DIR = r\"./proc\" # where data is saved should always be shown in the inputs\n",
    "\n",
    "os.makedirs(OUTPUT_DIR, exist_ok=True)\n",
    "OUTPUT_PREFIX = \"rce_pilot_2\""
   ]
  },
  {
   "cell_type": "code",
   "execution_count": 10,
   "metadata": {},
   "outputs": [],
   "source": [
    "TRODES_METADATA_DF = pd.read_pickle(\"./proc/rce_pilot_2_00_trodes_metadata.pkl\")"
   ]
  },
  {
   "cell_type": "markdown",
   "metadata": {
    "cell_id": "e3ee4891d43a4ac287413afc552ca289",
    "deepnote_cell_type": "text-cell-h2",
    "formattedRanges": []
   },
   "source": [
    "## Outputs"
   ]
  },
  {
   "cell_type": "markdown",
   "metadata": {
    "cell_id": "9ccbf6cc70fd4d379fa29317f733771f",
    "deepnote_cell_type": "text-cell-p",
    "formattedRanges": []
   },
   "source": [
    "Describe each output that the notebook creates. "
   ]
  },
  {
   "cell_type": "markdown",
   "metadata": {
    "cell_id": "fc8e8920a6944918a15fac575cdf6e78",
    "deepnote_cell_type": "text-cell-bullet",
    "formattedRanges": []
   },
   "source": [
    "- Is it a plot or is it data?"
   ]
  },
  {
   "cell_type": "markdown",
   "metadata": {
    "cell_id": "1e639d4776a84aa9ac8ded2e14fa57db",
    "deepnote_cell_type": "text-cell-bullet",
    "formattedRanges": []
   },
   "source": [
    "- How valuable is the output and why is it valuable or useful?"
   ]
  },
  {
   "cell_type": "markdown",
   "metadata": {},
   "source": [
    "## Other documentation"
   ]
  },
  {
   "cell_type": "markdown",
   "metadata": {},
   "source": [
    "raw directory\n",
    "- raw_group0.dat\n",
    "    - voltage_value: Array with voltage measurement for each channel at each timestamp\n",
    "- timestamps.dat\n",
    "    - voltage_time_stamp: The time stamp of each voltage measurement\n",
    "\n",
    "parent directory\n",
    "- 1.videoTimeStamps.cameraHWSync\n",
    "    - frame_number: Calculated by getting the index of each video time stamp tuple \n",
    "    - PosTimestamp: The time stamp of each video frame\n",
    "    - HWframeCount: Unknown value. Starts at 30742 and increases by 1 for each tuple  \n",
    "    - HWTimestamp: Unknown value. All zeroes\n",
    "    - video_time: Calculated by dividing the frame number by the fps(frames per second) \n",
    "    - video_seconds: video_time, but rounded to seconds  \t\n",
    "    - These are filled in versions of the above collumns with the value from the most recent previous cell\n",
    "        - filled_PosTimestamp \t\n",
    "        - filledHWframeCount \t\n",
    "        - filled_frame_number \t\n",
    "        - filled_video_time \t\n",
    "        - filled_video_seconds \t\n",
    "\n",
    "DIO directory\n",
    "- dio_ECU_Din1.dat\n",
    "    - time: The time stamp the corresponds to the DIN input\n",
    "    - state: Binary state of whether there is input from DIN or not \t\n",
    "    - trial_number: Calculated by adding 1 to every time there is a DIN input\n",
    "    - These are filled in versions of the above collumns with the value from the most recent previous cell\n",
    "        - filled_state \t\n",
    "        - filled_trial_number\n",
    "\n",
    "ss_output directory (Spike sorting with Spike interface)\n",
    "- firings.npz\n",
    "    - unit_id: All the units that had a spike train for the given timestamp \t\n",
    "    - number_of_units: Calculated by counting the number of units that had a spike train"
   ]
  },
  {
   "cell_type": "markdown",
   "metadata": {},
   "source": [
    "## Functions"
   ]
  },
  {
   "cell_type": "markdown",
   "metadata": {},
   "source": [
    "- function names are short and in snake case all lowercase\n",
    "- a function name should be unique but does not have to describe the function\n",
    "- doc strings describe functions not function names"
   ]
  },
  {
   "cell_type": "code",
   "execution_count": null,
   "metadata": {},
   "outputs": [],
   "source": []
  },
  {
   "cell_type": "code",
   "execution_count": null,
   "metadata": {},
   "outputs": [],
   "source": []
  },
  {
   "cell_type": "markdown",
   "metadata": {
    "cell_id": "8999d19b6b7d4d63bc90f0b0bd9ab085",
    "deepnote_cell_type": "text-cell-h2",
    "formattedRanges": []
   },
   "source": [
    "## Processing"
   ]
  },
  {
   "cell_type": "markdown",
   "metadata": {
    "cell_id": "9b36cdf08567463082b005cb0dec684b",
    "deepnote_cell_type": "text-cell-p",
    "formattedRanges": []
   },
   "source": [
    "Describe what is done to the data here and how inputs are manipulated to generate outputs. "
   ]
  },
  {
   "cell_type": "code",
   "execution_count": 11,
   "metadata": {
    "cell_id": "89aaba237c644628b1b37604b75e7cb1",
    "deepnote_cell_type": "code"
   },
   "outputs": [],
   "source": [
    "# As much code and as many cells as required\n",
    "# includes EDA and playing with data\n",
    "# GO HAM!"
   ]
  },
  {
   "cell_type": "code",
   "execution_count": 12,
   "metadata": {},
   "outputs": [
    {
     "data": {
      "text/html": [
       "<div>\n",
       "<style scoped>\n",
       "    .dataframe tbody tr th:only-of-type {\n",
       "        vertical-align: middle;\n",
       "    }\n",
       "\n",
       "    .dataframe tbody tr th {\n",
       "        vertical-align: top;\n",
       "    }\n",
       "\n",
       "    .dataframe thead th {\n",
       "        text-align: right;\n",
       "    }\n",
       "</style>\n",
       "<table border=\"1\" class=\"dataframe\">\n",
       "  <thead>\n",
       "    <tr style=\"text-align: right;\">\n",
       "      <th></th>\n",
       "      <th>session_dir</th>\n",
       "      <th>tone_frames</th>\n",
       "      <th>box_1_port_entry_frames</th>\n",
       "      <th>box_2_port_entry_frames</th>\n",
       "      <th>video_name</th>\n",
       "      <th>session_path</th>\n",
       "      <th>recording</th>\n",
       "      <th>current_subject</th>\n",
       "      <th>all_subjects</th>\n",
       "      <th>first_timestamp</th>\n",
       "      <th>last_timestamp</th>\n",
       "      <th>video_timestamps</th>\n",
       "      <th>tone_timestamps</th>\n",
       "      <th>box_1_port_entry_timestamps</th>\n",
       "      <th>box_2_port_entry_timestamps</th>\n",
       "    </tr>\n",
       "  </thead>\n",
       "  <tbody>\n",
       "    <tr>\n",
       "      <th>0</th>\n",
       "      <td>20230612_101430_standard_comp_to_training_D1_s...</td>\n",
       "      <td>[[980, 1181], [3376, 3575], [5672, 5871], [746...</td>\n",
       "      <td>[[490, 514], [518, 558], [558, 637], [638, 640...</td>\n",
       "      <td>[[33137, 33147], [33665, 33666], [33668, 33669...</td>\n",
       "      <td>20230612_101430_standard_comp_to_training_D1_s...</td>\n",
       "      <td>/scratch/back_up/reward_competition_extention/...</td>\n",
       "      <td>20230612_101430_standard_comp_to_training_D1_s...</td>\n",
       "      <td>1.3</td>\n",
       "      <td>[1.3, 1.4]</td>\n",
       "      <td>8798886</td>\n",
       "      <td>77093151</td>\n",
       "      <td>[-2, 1384, 2770, 4156, 4156, 5542, 6928, 6928,...</td>\n",
       "      <td>[[982229, 1182226], [3382227, 3582224], [56822...</td>\n",
       "      <td>[[491029, 515227], [519426, 558629], [559427, ...</td>\n",
       "      <td>[[33082200, 33090003], [33565003, 33567000], [...</td>\n",
       "    </tr>\n",
       "    <tr>\n",
       "      <th>1</th>\n",
       "      <td>20230612_101430_standard_comp_to_training_D1_s...</td>\n",
       "      <td>[[980, 1180], [3376, 3575], [5672, 5871], [746...</td>\n",
       "      <td>[[490, 514], [518, 558], [558, 637], [638, 640...</td>\n",
       "      <td>[[33021, 33027], [33502, 33503], [33504, 33506...</td>\n",
       "      <td>20230612_101430_standard_comp_to_training_D1_s...</td>\n",
       "      <td>/scratch/back_up/reward_competition_extention/...</td>\n",
       "      <td>20230612_101430_standard_comp_to_training_D1_s...</td>\n",
       "      <td>1.3</td>\n",
       "      <td>[1.3, 1.4]</td>\n",
       "      <td>8798886</td>\n",
       "      <td>77093151</td>\n",
       "      <td>[-2, 1384, 2770, 4156, 4156, 5542, 6928, 6928,...</td>\n",
       "      <td>[[982229, 1182226], [3382227, 3582224], [56822...</td>\n",
       "      <td>[[491029, 515227], [519426, 558629], [559427, ...</td>\n",
       "      <td>[[33082200, 33090003], [33565003, 33567000], [...</td>\n",
       "    </tr>\n",
       "    <tr>\n",
       "      <th>2</th>\n",
       "      <td>20230612_101430_standard_comp_to_training_D1_s...</td>\n",
       "      <td>[[980, 1181], [3376, 3575], [5672, 5871], [746...</td>\n",
       "      <td>[[490, 514], [518, 558], [558, 637], [638, 640...</td>\n",
       "      <td>[[33137, 33147], [33665, 33666], [33668, 33669...</td>\n",
       "      <td>20230612_101430_standard_comp_to_training_D1_s...</td>\n",
       "      <td>/scratch/back_up/reward_competition_extention/...</td>\n",
       "      <td>20230612_101430_standard_comp_to_training_D1_s...</td>\n",
       "      <td>1.4</td>\n",
       "      <td>[1.3, 1.4]</td>\n",
       "      <td>8798886</td>\n",
       "      <td>77093151</td>\n",
       "      <td>[-2, 1384, 2770, 4156, 4156, 5542, 6928, 6928,...</td>\n",
       "      <td>[[982229, 1182226], [3382227, 3582224], [56822...</td>\n",
       "      <td>[[491029, 515227], [519426, 558629], [559427, ...</td>\n",
       "      <td>[[33082200, 33090003], [33565003, 33567000], [...</td>\n",
       "    </tr>\n",
       "    <tr>\n",
       "      <th>3</th>\n",
       "      <td>20230612_101430_standard_comp_to_training_D1_s...</td>\n",
       "      <td>[[980, 1180], [3376, 3575], [5672, 5871], [746...</td>\n",
       "      <td>[[490, 514], [518, 558], [558, 637], [638, 640...</td>\n",
       "      <td>[[33021, 33027], [33502, 33503], [33504, 33506...</td>\n",
       "      <td>20230612_101430_standard_comp_to_training_D1_s...</td>\n",
       "      <td>/scratch/back_up/reward_competition_extention/...</td>\n",
       "      <td>20230612_101430_standard_comp_to_training_D1_s...</td>\n",
       "      <td>1.4</td>\n",
       "      <td>[1.3, 1.4]</td>\n",
       "      <td>8798886</td>\n",
       "      <td>77093151</td>\n",
       "      <td>[-2, 1384, 2770, 4156, 4156, 5542, 6928, 6928,...</td>\n",
       "      <td>[[982229, 1182226], [3382227, 3582224], [56822...</td>\n",
       "      <td>[[491029, 515227], [519426, 558629], [559427, ...</td>\n",
       "      <td>[[33082200, 33090003], [33565003, 33567000], [...</td>\n",
       "    </tr>\n",
       "    <tr>\n",
       "      <th>4</th>\n",
       "      <td>20230612_112630_standard_comp_to_training_D1_s...</td>\n",
       "      <td>[[1125, 1324], [3519, 3720], [5815, 6014], [76...</td>\n",
       "      <td>[[192, 248], [389, 405], [916, 929], [929, 948...</td>\n",
       "      <td>[[33019, 33020], [33246, 33251], [33253, 33255...</td>\n",
       "      <td>20230612_112630_standard_comp_to_training_D1_s...</td>\n",
       "      <td>/scratch/back_up/reward_competition_extention/...</td>\n",
       "      <td>20230612_112630_standard_comp_to_training_D1_s...</td>\n",
       "      <td>1.1</td>\n",
       "      <td>[1.1, 1.2]</td>\n",
       "      <td>7977066</td>\n",
       "      <td>76318450</td>\n",
       "      <td>[1384, 2444, 2769, 4155, 5541, 6708, 6927, 831...</td>\n",
       "      <td>[[1126742, 1326741], [3526740, 3726740], [5826...</td>\n",
       "      <td>[[192745, 249350], [389747, 407142], [917544, ...</td>\n",
       "      <td>[[33037711, 33038706], [33264908, 33270313], [...</td>\n",
       "    </tr>\n",
       "    <tr>\n",
       "      <th>...</th>\n",
       "      <td>...</td>\n",
       "      <td>...</td>\n",
       "      <td>...</td>\n",
       "      <td>...</td>\n",
       "      <td>...</td>\n",
       "      <td>...</td>\n",
       "      <td>...</td>\n",
       "      <td>...</td>\n",
       "      <td>...</td>\n",
       "      <td>...</td>\n",
       "      <td>...</td>\n",
       "      <td>...</td>\n",
       "      <td>...</td>\n",
       "      <td>...</td>\n",
       "      <td>...</td>\n",
       "    </tr>\n",
       "    <tr>\n",
       "      <th>56</th>\n",
       "      <td>20230629_111937_standard_comp_to_novel_agent_D...</td>\n",
       "      <td>[[1118, 1318], [3513, 3713], [5810, 6009], [76...</td>\n",
       "      <td>[[232, 236], [245, 248], [272, 282], [1237, 13...</td>\n",
       "      <td>[[101, 103], [106, 108], [989, 989], [990, 992...</td>\n",
       "      <td>20230629_111937_standard_comp_to_novel_agent_D...</td>\n",
       "      <td>/scratch/back_up/reward_competition_extention/...</td>\n",
       "      <td>20230629_111937_standard_comp_to_novel_agent_D...</td>\n",
       "      <td>1.4</td>\n",
       "      <td>[1.1, 1.4, 2.1, 2.2]</td>\n",
       "      <td>10693370</td>\n",
       "      <td>79133151</td>\n",
       "      <td>[-2, 1384, 1384, 2770, 4156, 5542, 5542, 6927,...</td>\n",
       "      <td>[[1119444, 1319447], [3519474, 3719476], [5819...</td>\n",
       "      <td>[[231833, 236233], [245039, 248033], [272636, ...</td>\n",
       "      <td>[[101031, 102431], [106032, 107834], [989645, ...</td>\n",
       "    </tr>\n",
       "    <tr>\n",
       "      <th>57</th>\n",
       "      <td>20230630_115506_standard_comp_to_novel_agent_D...</td>\n",
       "      <td>[[1071, 1271], [3466, 3666], [5762, 5961], [75...</td>\n",
       "      <td>[[618, 654], [1129, 1139], [1246, 1444], [1464...</td>\n",
       "      <td>[[939, 940], [1352, 1352], [1354, 1367], [1374...</td>\n",
       "      <td>20230630_115506_standard_comp_to_novel_agent_D...</td>\n",
       "      <td>/scratch/back_up/reward_competition_extention/...</td>\n",
       "      <td>20230630_115506_standard_comp_to_novel_agent_D...</td>\n",
       "      <td>1.2</td>\n",
       "      <td>[1.2, 1.4, 2.1, 2.2]</td>\n",
       "      <td>10971930</td>\n",
       "      <td>79536439</td>\n",
       "      <td>[-2, 1384, 2770, 4155, 4155, 5541, 6927, 6927,...</td>\n",
       "      <td>[[1072738, 1272740], [3472767, 3672768], [5772...</td>\n",
       "      <td>[[619332, 654132], [1131540, 1141541], [124834...</td>\n",
       "      <td>[[940936, 942136], [1354140, 1355143], [135654...</td>\n",
       "    </tr>\n",
       "    <tr>\n",
       "      <th>58</th>\n",
       "      <td>20230630_115506_standard_comp_to_novel_agent_D...</td>\n",
       "      <td>[[1072, 1271], [3467, 3667], [5763, 5962], [75...</td>\n",
       "      <td>[[618, 655], [1130, 1140], [1246, 1444], [1465...</td>\n",
       "      <td>[[939, 941], [1353, 1353], [1354, 1368], [1375...</td>\n",
       "      <td>20230630_115506_standard_comp_to_novel_agent_D...</td>\n",
       "      <td>/scratch/back_up/reward_competition_extention/...</td>\n",
       "      <td>20230630_115506_standard_comp_to_novel_agent_D...</td>\n",
       "      <td>1.2</td>\n",
       "      <td>[1.2, 1.4, 2.1, 2.2]</td>\n",
       "      <td>10971930</td>\n",
       "      <td>79536439</td>\n",
       "      <td>[-2, -2, 1384, 2770, 4155, 4155, 5541, 6927, 8...</td>\n",
       "      <td>[[1072738, 1272740], [3472767, 3672768], [5772...</td>\n",
       "      <td>[[619332, 654132], [1131540, 1141541], [124834...</td>\n",
       "      <td>[[940936, 942136], [1354140, 1355143], [135654...</td>\n",
       "    </tr>\n",
       "    <tr>\n",
       "      <th>59</th>\n",
       "      <td>20230630_115506_standard_comp_to_novel_agent_D...</td>\n",
       "      <td>[[1071, 1271], [3466, 3666], [5762, 5961], [75...</td>\n",
       "      <td>[[618, 654], [1129, 1139], [1246, 1444], [1464...</td>\n",
       "      <td>[[939, 940], [1352, 1352], [1354, 1367], [1374...</td>\n",
       "      <td>20230630_115506_standard_comp_to_novel_agent_D...</td>\n",
       "      <td>/scratch/back_up/reward_competition_extention/...</td>\n",
       "      <td>20230630_115506_standard_comp_to_novel_agent_D...</td>\n",
       "      <td>1.4</td>\n",
       "      <td>[1.2, 1.4, 2.1, 2.2]</td>\n",
       "      <td>10971931</td>\n",
       "      <td>79536439</td>\n",
       "      <td>[-3, 1383, 2769, 4154, 4154, 5540, 6926, 6926,...</td>\n",
       "      <td>[[1072737, 1272739], [3472766, 3672767], [5772...</td>\n",
       "      <td>[[619331, 654131], [1131539, 1141540], [124834...</td>\n",
       "      <td>[[940935, 942135], [1354139, 1355142], [135654...</td>\n",
       "    </tr>\n",
       "    <tr>\n",
       "      <th>60</th>\n",
       "      <td>20230630_115506_standard_comp_to_novel_agent_D...</td>\n",
       "      <td>[[1072, 1271], [3467, 3667], [5763, 5962], [75...</td>\n",
       "      <td>[[618, 655], [1130, 1140], [1246, 1444], [1465...</td>\n",
       "      <td>[[939, 941], [1353, 1353], [1354, 1368], [1375...</td>\n",
       "      <td>20230630_115506_standard_comp_to_novel_agent_D...</td>\n",
       "      <td>/scratch/back_up/reward_competition_extention/...</td>\n",
       "      <td>20230630_115506_standard_comp_to_novel_agent_D...</td>\n",
       "      <td>1.4</td>\n",
       "      <td>[1.2, 1.4, 2.1, 2.2]</td>\n",
       "      <td>10971931</td>\n",
       "      <td>79536439</td>\n",
       "      <td>[-3, -3, 1383, 2769, 4154, 4154, 5540, 6926, 8...</td>\n",
       "      <td>[[1072737, 1272739], [3472766, 3672767], [5772...</td>\n",
       "      <td>[[619331, 654131], [1131539, 1141540], [124834...</td>\n",
       "      <td>[[940935, 942135], [1354139, 1355142], [135654...</td>\n",
       "    </tr>\n",
       "  </tbody>\n",
       "</table>\n",
       "<p>61 rows × 15 columns</p>\n",
       "</div>"
      ],
      "text/plain": [
       "                                          session_dir  \\\n",
       "0   20230612_101430_standard_comp_to_training_D1_s...   \n",
       "1   20230612_101430_standard_comp_to_training_D1_s...   \n",
       "2   20230612_101430_standard_comp_to_training_D1_s...   \n",
       "3   20230612_101430_standard_comp_to_training_D1_s...   \n",
       "4   20230612_112630_standard_comp_to_training_D1_s...   \n",
       "..                                                ...   \n",
       "56  20230629_111937_standard_comp_to_novel_agent_D...   \n",
       "57  20230630_115506_standard_comp_to_novel_agent_D...   \n",
       "58  20230630_115506_standard_comp_to_novel_agent_D...   \n",
       "59  20230630_115506_standard_comp_to_novel_agent_D...   \n",
       "60  20230630_115506_standard_comp_to_novel_agent_D...   \n",
       "\n",
       "                                          tone_frames  \\\n",
       "0   [[980, 1181], [3376, 3575], [5672, 5871], [746...   \n",
       "1   [[980, 1180], [3376, 3575], [5672, 5871], [746...   \n",
       "2   [[980, 1181], [3376, 3575], [5672, 5871], [746...   \n",
       "3   [[980, 1180], [3376, 3575], [5672, 5871], [746...   \n",
       "4   [[1125, 1324], [3519, 3720], [5815, 6014], [76...   \n",
       "..                                                ...   \n",
       "56  [[1118, 1318], [3513, 3713], [5810, 6009], [76...   \n",
       "57  [[1071, 1271], [3466, 3666], [5762, 5961], [75...   \n",
       "58  [[1072, 1271], [3467, 3667], [5763, 5962], [75...   \n",
       "59  [[1071, 1271], [3466, 3666], [5762, 5961], [75...   \n",
       "60  [[1072, 1271], [3467, 3667], [5763, 5962], [75...   \n",
       "\n",
       "                              box_1_port_entry_frames  \\\n",
       "0   [[490, 514], [518, 558], [558, 637], [638, 640...   \n",
       "1   [[490, 514], [518, 558], [558, 637], [638, 640...   \n",
       "2   [[490, 514], [518, 558], [558, 637], [638, 640...   \n",
       "3   [[490, 514], [518, 558], [558, 637], [638, 640...   \n",
       "4   [[192, 248], [389, 405], [916, 929], [929, 948...   \n",
       "..                                                ...   \n",
       "56  [[232, 236], [245, 248], [272, 282], [1237, 13...   \n",
       "57  [[618, 654], [1129, 1139], [1246, 1444], [1464...   \n",
       "58  [[618, 655], [1130, 1140], [1246, 1444], [1465...   \n",
       "59  [[618, 654], [1129, 1139], [1246, 1444], [1464...   \n",
       "60  [[618, 655], [1130, 1140], [1246, 1444], [1465...   \n",
       "\n",
       "                              box_2_port_entry_frames  \\\n",
       "0   [[33137, 33147], [33665, 33666], [33668, 33669...   \n",
       "1   [[33021, 33027], [33502, 33503], [33504, 33506...   \n",
       "2   [[33137, 33147], [33665, 33666], [33668, 33669...   \n",
       "3   [[33021, 33027], [33502, 33503], [33504, 33506...   \n",
       "4   [[33019, 33020], [33246, 33251], [33253, 33255...   \n",
       "..                                                ...   \n",
       "56  [[101, 103], [106, 108], [989, 989], [990, 992...   \n",
       "57  [[939, 940], [1352, 1352], [1354, 1367], [1374...   \n",
       "58  [[939, 941], [1353, 1353], [1354, 1368], [1375...   \n",
       "59  [[939, 940], [1352, 1352], [1354, 1367], [1374...   \n",
       "60  [[939, 941], [1353, 1353], [1354, 1368], [1375...   \n",
       "\n",
       "                                           video_name  \\\n",
       "0   20230612_101430_standard_comp_to_training_D1_s...   \n",
       "1   20230612_101430_standard_comp_to_training_D1_s...   \n",
       "2   20230612_101430_standard_comp_to_training_D1_s...   \n",
       "3   20230612_101430_standard_comp_to_training_D1_s...   \n",
       "4   20230612_112630_standard_comp_to_training_D1_s...   \n",
       "..                                                ...   \n",
       "56  20230629_111937_standard_comp_to_novel_agent_D...   \n",
       "57  20230630_115506_standard_comp_to_novel_agent_D...   \n",
       "58  20230630_115506_standard_comp_to_novel_agent_D...   \n",
       "59  20230630_115506_standard_comp_to_novel_agent_D...   \n",
       "60  20230630_115506_standard_comp_to_novel_agent_D...   \n",
       "\n",
       "                                         session_path  \\\n",
       "0   /scratch/back_up/reward_competition_extention/...   \n",
       "1   /scratch/back_up/reward_competition_extention/...   \n",
       "2   /scratch/back_up/reward_competition_extention/...   \n",
       "3   /scratch/back_up/reward_competition_extention/...   \n",
       "4   /scratch/back_up/reward_competition_extention/...   \n",
       "..                                                ...   \n",
       "56  /scratch/back_up/reward_competition_extention/...   \n",
       "57  /scratch/back_up/reward_competition_extention/...   \n",
       "58  /scratch/back_up/reward_competition_extention/...   \n",
       "59  /scratch/back_up/reward_competition_extention/...   \n",
       "60  /scratch/back_up/reward_competition_extention/...   \n",
       "\n",
       "                                            recording current_subject  \\\n",
       "0   20230612_101430_standard_comp_to_training_D1_s...             1.3   \n",
       "1   20230612_101430_standard_comp_to_training_D1_s...             1.3   \n",
       "2   20230612_101430_standard_comp_to_training_D1_s...             1.4   \n",
       "3   20230612_101430_standard_comp_to_training_D1_s...             1.4   \n",
       "4   20230612_112630_standard_comp_to_training_D1_s...             1.1   \n",
       "..                                                ...             ...   \n",
       "56  20230629_111937_standard_comp_to_novel_agent_D...             1.4   \n",
       "57  20230630_115506_standard_comp_to_novel_agent_D...             1.2   \n",
       "58  20230630_115506_standard_comp_to_novel_agent_D...             1.2   \n",
       "59  20230630_115506_standard_comp_to_novel_agent_D...             1.4   \n",
       "60  20230630_115506_standard_comp_to_novel_agent_D...             1.4   \n",
       "\n",
       "            all_subjects  first_timestamp  last_timestamp  \\\n",
       "0             [1.3, 1.4]          8798886        77093151   \n",
       "1             [1.3, 1.4]          8798886        77093151   \n",
       "2             [1.3, 1.4]          8798886        77093151   \n",
       "3             [1.3, 1.4]          8798886        77093151   \n",
       "4             [1.1, 1.2]          7977066        76318450   \n",
       "..                   ...              ...             ...   \n",
       "56  [1.1, 1.4, 2.1, 2.2]         10693370        79133151   \n",
       "57  [1.2, 1.4, 2.1, 2.2]         10971930        79536439   \n",
       "58  [1.2, 1.4, 2.1, 2.2]         10971930        79536439   \n",
       "59  [1.2, 1.4, 2.1, 2.2]         10971931        79536439   \n",
       "60  [1.2, 1.4, 2.1, 2.2]         10971931        79536439   \n",
       "\n",
       "                                     video_timestamps  \\\n",
       "0   [-2, 1384, 2770, 4156, 4156, 5542, 6928, 6928,...   \n",
       "1   [-2, 1384, 2770, 4156, 4156, 5542, 6928, 6928,...   \n",
       "2   [-2, 1384, 2770, 4156, 4156, 5542, 6928, 6928,...   \n",
       "3   [-2, 1384, 2770, 4156, 4156, 5542, 6928, 6928,...   \n",
       "4   [1384, 2444, 2769, 4155, 5541, 6708, 6927, 831...   \n",
       "..                                                ...   \n",
       "56  [-2, 1384, 1384, 2770, 4156, 5542, 5542, 6927,...   \n",
       "57  [-2, 1384, 2770, 4155, 4155, 5541, 6927, 6927,...   \n",
       "58  [-2, -2, 1384, 2770, 4155, 4155, 5541, 6927, 8...   \n",
       "59  [-3, 1383, 2769, 4154, 4154, 5540, 6926, 6926,...   \n",
       "60  [-3, -3, 1383, 2769, 4154, 4154, 5540, 6926, 8...   \n",
       "\n",
       "                                      tone_timestamps  \\\n",
       "0   [[982229, 1182226], [3382227, 3582224], [56822...   \n",
       "1   [[982229, 1182226], [3382227, 3582224], [56822...   \n",
       "2   [[982229, 1182226], [3382227, 3582224], [56822...   \n",
       "3   [[982229, 1182226], [3382227, 3582224], [56822...   \n",
       "4   [[1126742, 1326741], [3526740, 3726740], [5826...   \n",
       "..                                                ...   \n",
       "56  [[1119444, 1319447], [3519474, 3719476], [5819...   \n",
       "57  [[1072738, 1272740], [3472767, 3672768], [5772...   \n",
       "58  [[1072738, 1272740], [3472767, 3672768], [5772...   \n",
       "59  [[1072737, 1272739], [3472766, 3672767], [5772...   \n",
       "60  [[1072737, 1272739], [3472766, 3672767], [5772...   \n",
       "\n",
       "                          box_1_port_entry_timestamps  \\\n",
       "0   [[491029, 515227], [519426, 558629], [559427, ...   \n",
       "1   [[491029, 515227], [519426, 558629], [559427, ...   \n",
       "2   [[491029, 515227], [519426, 558629], [559427, ...   \n",
       "3   [[491029, 515227], [519426, 558629], [559427, ...   \n",
       "4   [[192745, 249350], [389747, 407142], [917544, ...   \n",
       "..                                                ...   \n",
       "56  [[231833, 236233], [245039, 248033], [272636, ...   \n",
       "57  [[619332, 654132], [1131540, 1141541], [124834...   \n",
       "58  [[619332, 654132], [1131540, 1141541], [124834...   \n",
       "59  [[619331, 654131], [1131539, 1141540], [124834...   \n",
       "60  [[619331, 654131], [1131539, 1141540], [124834...   \n",
       "\n",
       "                          box_2_port_entry_timestamps  \n",
       "0   [[33082200, 33090003], [33565003, 33567000], [...  \n",
       "1   [[33082200, 33090003], [33565003, 33567000], [...  \n",
       "2   [[33082200, 33090003], [33565003, 33567000], [...  \n",
       "3   [[33082200, 33090003], [33565003, 33567000], [...  \n",
       "4   [[33037711, 33038706], [33264908, 33270313], [...  \n",
       "..                                                ...  \n",
       "56  [[101031, 102431], [106032, 107834], [989645, ...  \n",
       "57  [[940936, 942136], [1354140, 1355143], [135654...  \n",
       "58  [[940936, 942136], [1354140, 1355143], [135654...  \n",
       "59  [[940935, 942135], [1354139, 1355142], [135654...  \n",
       "60  [[940935, 942135], [1354139, 1355142], [135654...  \n",
       "\n",
       "[61 rows x 15 columns]"
      ]
     },
     "execution_count": 12,
     "metadata": {},
     "output_type": "execute_result"
    }
   ],
   "source": [
    "TRODES_METADATA_DF"
   ]
  },
  {
   "cell_type": "code",
   "execution_count": null,
   "metadata": {},
   "outputs": [],
   "source": []
  }
 ],
 "metadata": {
  "deepnote": {},
  "deepnote_execution_queue": [],
  "deepnote_notebook_id": "cf8fe3695d074ee7887fdf6459cbf5ce",
  "kernelspec": {
   "display_name": "Python 3 (ipykernel)",
   "language": "python",
   "name": "python3"
  },
  "language_info": {
   "codemirror_mode": {
    "name": "ipython",
    "version": 3
   },
   "file_extension": ".py",
   "mimetype": "text/x-python",
   "name": "python",
   "nbconvert_exporter": "python",
   "pygments_lexer": "ipython3",
   "version": "3.10.13"
  }
 },
 "nbformat": 4,
 "nbformat_minor": 4
}
