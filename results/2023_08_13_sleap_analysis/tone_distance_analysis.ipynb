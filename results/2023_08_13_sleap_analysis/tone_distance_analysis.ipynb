{
 "cells": [
  {
   "cell_type": "markdown",
   "id": "ec0f0e72",
   "metadata": {},
   "source": [
    "# MED-PC Extracting the Recording Data and Metadata"
   ]
  },
  {
   "cell_type": "markdown",
   "id": "3e96b039",
   "metadata": {},
   "source": [
    "## Importing the Python Libraries"
   ]
  },
  {
   "cell_type": "code",
   "execution_count": 1,
   "id": "df497936",
   "metadata": {},
   "outputs": [],
   "source": [
    "import sys\n",
    "import glob\n",
    "from collections import defaultdict\n",
    "import os\n",
    "import datetime\n",
    "import numpy as np\n",
    "import pandas as pd\n",
    "import matplotlib.pyplot as plt\n",
    "from moviepy.editor import *\n",
    "from datetime import datetime\n",
    "from IPython.display import Video\n",
    "from pathlib import Path\n",
    "from datetime import datetime\n"
   ]
  },
  {
   "cell_type": "code",
   "execution_count": 2,
   "id": "b6678428",
   "metadata": {},
   "outputs": [],
   "source": [
    "from medpc2excel.medpc_read import medpc_read\n",
    "import h5py\n",
    "import numpy as np\n",
    "from functools import reduce\n",
    "from scipy.interpolate import interp1d\n",
    "import ast"
   ]
  },
  {
   "cell_type": "markdown",
   "id": "b16fd1ac",
   "metadata": {},
   "source": [
    "# Getting Tone Times"
   ]
  },
  {
   "cell_type": "code",
   "execution_count": 3,
   "id": "a48d3b6f",
   "metadata": {},
   "outputs": [
    {
     "ename": "FileNotFoundError",
     "evalue": "[Errno 2] No such file or directory: './data/reward_comp_tone_sleap_frames.xlsx'",
     "output_type": "error",
     "traceback": [
      "\u001b[0;31m---------------------------------------------------------------------------\u001b[0m",
      "\u001b[0;31mFileNotFoundError\u001b[0m                         Traceback (most recent call last)",
      "Cell \u001b[0;32mIn[3], line 1\u001b[0m\n\u001b[0;32m----> 1\u001b[0m tone_start_df \u001b[38;5;241m=\u001b[39m \u001b[43mpd\u001b[49m\u001b[38;5;241;43m.\u001b[39;49m\u001b[43mread_excel\u001b[49m\u001b[43m(\u001b[49m\u001b[38;5;124;43m\"\u001b[39;49m\u001b[38;5;124;43m./data/reward_comp_tone_sleap_frames.xlsx\u001b[39;49m\u001b[38;5;124;43m\"\u001b[39;49m\u001b[43m)\u001b[49m\n",
      "File \u001b[0;32m~/miniconda3/envs/spike_interface_0_97_1/lib/python3.9/site-packages/pandas/io/excel/_base.py:478\u001b[0m, in \u001b[0;36mread_excel\u001b[0;34m(io, sheet_name, header, names, index_col, usecols, dtype, engine, converters, true_values, false_values, skiprows, nrows, na_values, keep_default_na, na_filter, verbose, parse_dates, date_parser, date_format, thousands, decimal, comment, skipfooter, storage_options, dtype_backend)\u001b[0m\n\u001b[1;32m    476\u001b[0m \u001b[38;5;28;01mif\u001b[39;00m \u001b[38;5;129;01mnot\u001b[39;00m \u001b[38;5;28misinstance\u001b[39m(io, ExcelFile):\n\u001b[1;32m    477\u001b[0m     should_close \u001b[38;5;241m=\u001b[39m \u001b[38;5;28;01mTrue\u001b[39;00m\n\u001b[0;32m--> 478\u001b[0m     io \u001b[38;5;241m=\u001b[39m \u001b[43mExcelFile\u001b[49m\u001b[43m(\u001b[49m\u001b[43mio\u001b[49m\u001b[43m,\u001b[49m\u001b[43m \u001b[49m\u001b[43mstorage_options\u001b[49m\u001b[38;5;241;43m=\u001b[39;49m\u001b[43mstorage_options\u001b[49m\u001b[43m,\u001b[49m\u001b[43m \u001b[49m\u001b[43mengine\u001b[49m\u001b[38;5;241;43m=\u001b[39;49m\u001b[43mengine\u001b[49m\u001b[43m)\u001b[49m\n\u001b[1;32m    479\u001b[0m \u001b[38;5;28;01melif\u001b[39;00m engine \u001b[38;5;129;01mand\u001b[39;00m engine \u001b[38;5;241m!=\u001b[39m io\u001b[38;5;241m.\u001b[39mengine:\n\u001b[1;32m    480\u001b[0m     \u001b[38;5;28;01mraise\u001b[39;00m \u001b[38;5;167;01mValueError\u001b[39;00m(\n\u001b[1;32m    481\u001b[0m         \u001b[38;5;124m\"\u001b[39m\u001b[38;5;124mEngine should not be specified when passing \u001b[39m\u001b[38;5;124m\"\u001b[39m\n\u001b[1;32m    482\u001b[0m         \u001b[38;5;124m\"\u001b[39m\u001b[38;5;124man ExcelFile - ExcelFile already has the engine set\u001b[39m\u001b[38;5;124m\"\u001b[39m\n\u001b[1;32m    483\u001b[0m     )\n",
      "File \u001b[0;32m~/miniconda3/envs/spike_interface_0_97_1/lib/python3.9/site-packages/pandas/io/excel/_base.py:1496\u001b[0m, in \u001b[0;36mExcelFile.__init__\u001b[0;34m(self, path_or_buffer, engine, storage_options)\u001b[0m\n\u001b[1;32m   1494\u001b[0m     ext \u001b[38;5;241m=\u001b[39m \u001b[38;5;124m\"\u001b[39m\u001b[38;5;124mxls\u001b[39m\u001b[38;5;124m\"\u001b[39m\n\u001b[1;32m   1495\u001b[0m \u001b[38;5;28;01melse\u001b[39;00m:\n\u001b[0;32m-> 1496\u001b[0m     ext \u001b[38;5;241m=\u001b[39m \u001b[43minspect_excel_format\u001b[49m\u001b[43m(\u001b[49m\n\u001b[1;32m   1497\u001b[0m \u001b[43m        \u001b[49m\u001b[43mcontent_or_path\u001b[49m\u001b[38;5;241;43m=\u001b[39;49m\u001b[43mpath_or_buffer\u001b[49m\u001b[43m,\u001b[49m\u001b[43m \u001b[49m\u001b[43mstorage_options\u001b[49m\u001b[38;5;241;43m=\u001b[39;49m\u001b[43mstorage_options\u001b[49m\n\u001b[1;32m   1498\u001b[0m \u001b[43m    \u001b[49m\u001b[43m)\u001b[49m\n\u001b[1;32m   1499\u001b[0m     \u001b[38;5;28;01mif\u001b[39;00m ext \u001b[38;5;129;01mis\u001b[39;00m \u001b[38;5;28;01mNone\u001b[39;00m:\n\u001b[1;32m   1500\u001b[0m         \u001b[38;5;28;01mraise\u001b[39;00m \u001b[38;5;167;01mValueError\u001b[39;00m(\n\u001b[1;32m   1501\u001b[0m             \u001b[38;5;124m\"\u001b[39m\u001b[38;5;124mExcel file format cannot be determined, you must specify \u001b[39m\u001b[38;5;124m\"\u001b[39m\n\u001b[1;32m   1502\u001b[0m             \u001b[38;5;124m\"\u001b[39m\u001b[38;5;124man engine manually.\u001b[39m\u001b[38;5;124m\"\u001b[39m\n\u001b[1;32m   1503\u001b[0m         )\n",
      "File \u001b[0;32m~/miniconda3/envs/spike_interface_0_97_1/lib/python3.9/site-packages/pandas/io/excel/_base.py:1371\u001b[0m, in \u001b[0;36minspect_excel_format\u001b[0;34m(content_or_path, storage_options)\u001b[0m\n\u001b[1;32m   1368\u001b[0m \u001b[38;5;28;01mif\u001b[39;00m \u001b[38;5;28misinstance\u001b[39m(content_or_path, \u001b[38;5;28mbytes\u001b[39m):\n\u001b[1;32m   1369\u001b[0m     content_or_path \u001b[38;5;241m=\u001b[39m BytesIO(content_or_path)\n\u001b[0;32m-> 1371\u001b[0m \u001b[38;5;28;01mwith\u001b[39;00m \u001b[43mget_handle\u001b[49m\u001b[43m(\u001b[49m\n\u001b[1;32m   1372\u001b[0m \u001b[43m    \u001b[49m\u001b[43mcontent_or_path\u001b[49m\u001b[43m,\u001b[49m\u001b[43m \u001b[49m\u001b[38;5;124;43m\"\u001b[39;49m\u001b[38;5;124;43mrb\u001b[39;49m\u001b[38;5;124;43m\"\u001b[39;49m\u001b[43m,\u001b[49m\u001b[43m \u001b[49m\u001b[43mstorage_options\u001b[49m\u001b[38;5;241;43m=\u001b[39;49m\u001b[43mstorage_options\u001b[49m\u001b[43m,\u001b[49m\u001b[43m \u001b[49m\u001b[43mis_text\u001b[49m\u001b[38;5;241;43m=\u001b[39;49m\u001b[38;5;28;43;01mFalse\u001b[39;49;00m\n\u001b[1;32m   1373\u001b[0m \u001b[43m\u001b[49m\u001b[43m)\u001b[49m \u001b[38;5;28;01mas\u001b[39;00m handle:\n\u001b[1;32m   1374\u001b[0m     stream \u001b[38;5;241m=\u001b[39m handle\u001b[38;5;241m.\u001b[39mhandle\n\u001b[1;32m   1375\u001b[0m     stream\u001b[38;5;241m.\u001b[39mseek(\u001b[38;5;241m0\u001b[39m)\n",
      "File \u001b[0;32m~/miniconda3/envs/spike_interface_0_97_1/lib/python3.9/site-packages/pandas/io/common.py:868\u001b[0m, in \u001b[0;36mget_handle\u001b[0;34m(path_or_buf, mode, encoding, compression, memory_map, is_text, errors, storage_options)\u001b[0m\n\u001b[1;32m    859\u001b[0m         handle \u001b[38;5;241m=\u001b[39m \u001b[38;5;28mopen\u001b[39m(\n\u001b[1;32m    860\u001b[0m             handle,\n\u001b[1;32m    861\u001b[0m             ioargs\u001b[38;5;241m.\u001b[39mmode,\n\u001b[0;32m   (...)\u001b[0m\n\u001b[1;32m    864\u001b[0m             newline\u001b[38;5;241m=\u001b[39m\u001b[38;5;124m\"\u001b[39m\u001b[38;5;124m\"\u001b[39m,\n\u001b[1;32m    865\u001b[0m         )\n\u001b[1;32m    866\u001b[0m     \u001b[38;5;28;01melse\u001b[39;00m:\n\u001b[1;32m    867\u001b[0m         \u001b[38;5;66;03m# Binary mode\u001b[39;00m\n\u001b[0;32m--> 868\u001b[0m         handle \u001b[38;5;241m=\u001b[39m \u001b[38;5;28;43mopen\u001b[39;49m\u001b[43m(\u001b[49m\u001b[43mhandle\u001b[49m\u001b[43m,\u001b[49m\u001b[43m \u001b[49m\u001b[43mioargs\u001b[49m\u001b[38;5;241;43m.\u001b[39;49m\u001b[43mmode\u001b[49m\u001b[43m)\u001b[49m\n\u001b[1;32m    869\u001b[0m     handles\u001b[38;5;241m.\u001b[39mappend(handle)\n\u001b[1;32m    871\u001b[0m \u001b[38;5;66;03m# Convert BytesIO or file objects passed with an encoding\u001b[39;00m\n",
      "\u001b[0;31mFileNotFoundError\u001b[0m: [Errno 2] No such file or directory: './data/reward_comp_tone_sleap_frames.xlsx'"
     ]
    }
   ],
   "source": [
    "tone_start_df = pd.read_excel(\"./data/reward_comp_tone_sleap_frames.xlsx\")"
   ]
  },
  {
   "cell_type": "markdown",
   "id": "98c453cc",
   "metadata": {},
   "source": [
    "- Getting the file name as opposed to the whole path"
   ]
  },
  {
   "cell_type": "code",
   "execution_count": null,
   "id": "94dffae7",
   "metadata": {},
   "outputs": [],
   "source": [
    "tone_start_df[\"File Name\"] = tone_start_df[\"File Name\"].apply(lambda x: x.split(\".\")[0])"
   ]
  },
  {
   "cell_type": "code",
   "execution_count": null,
   "id": "61432b97",
   "metadata": {},
   "outputs": [],
   "source": [
    "tone_start_df[\"date\"] = tone_start_df[\"File Name\"].apply(lambda x: datetime.strptime(x.split(\"_\")[0].strip(\"\"), '%m-%d-%y').strftime('%Y-%m-%d'))\n",
    "\n"
   ]
  },
  {
   "cell_type": "code",
   "execution_count": null,
   "id": "cabc78ae",
   "metadata": {},
   "outputs": [],
   "source": [
    "tone_start_df"
   ]
  },
  {
   "cell_type": "markdown",
   "id": "1311e74c",
   "metadata": {},
   "source": [
    "- Getting the subject name from the file name"
   ]
  },
  {
   "cell_type": "code",
   "execution_count": null,
   "id": "4208e96a",
   "metadata": {},
   "outputs": [],
   "source": [
    "tone_start_df[\"subj_1\"] = tone_start_df[\"File Name\"].apply(lambda x: sorted(x.split(\"_\")[-1].split(\".\")[0].split(\"v\"))[0].replace(\"-\", \".\").strip())"
   ]
  },
  {
   "cell_type": "code",
   "execution_count": null,
   "id": "e761c33f",
   "metadata": {},
   "outputs": [],
   "source": [
    "tone_start_df[\"subj_2\"] = tone_start_df[\"File Name\"].apply(lambda x: sorted(x.split(\"_\")[-1].split(\".\")[0].split(\"v\"))[1].replace(\"-\", \".\").strip())"
   ]
  },
  {
   "cell_type": "markdown",
   "id": "19c56880",
   "metadata": {},
   "source": [
    "- Creating a tuple of the subject names so we can cross reference data sets"
   ]
  },
  {
   "cell_type": "code",
   "execution_count": null,
   "id": "abe2ceca",
   "metadata": {},
   "outputs": [],
   "source": [
    "tone_start_df[\"all_subj\"] = tone_start_df.apply(lambda x: tuple(sorted([str(x[\"subj_1\"]), str(x[\"subj_2\"])])) , axis=1)"
   ]
  },
  {
   "cell_type": "code",
   "execution_count": null,
   "id": "0bffa1dc",
   "metadata": {},
   "outputs": [],
   "source": [
    "tone_start_df"
   ]
  },
  {
   "cell_type": "code",
   "execution_count": null,
   "id": "89e44aff",
   "metadata": {},
   "outputs": [],
   "source": [
    "tone_start_df = tone_start_df[tone_start_df[\"Frame Start\"].astype(str).str.isnumeric()]"
   ]
  },
  {
   "cell_type": "code",
   "execution_count": null,
   "id": "dfed3a76",
   "metadata": {},
   "outputs": [],
   "source": [
    "# ITIs from MED-PC code\n",
    "all_itis = [80, 90, 80, 75, 100, 95, 90, 80, 90, 100, 90, 120, 90, 85, 90, 95, 120, 80, 95, 80, 90, 80, 75, 100, 95, 90, 80, 90, 100, 90, 120, 90, 85, 90, 95, 90, 80, 90, 100, 90, 90, 90, 90, 90, 90, 90, 90, 90, 90, 90, 90, 90, 90, 90, 90, 90, 90, 90, 90 ]"
   ]
  },
  {
   "cell_type": "code",
   "execution_count": null,
   "id": "7fe890ee",
   "metadata": {},
   "outputs": [],
   "source": [
    "# Converting the seconds into frames\n",
    "all_itis = [num * 30 for num in all_itis]"
   ]
  },
  {
   "cell_type": "markdown",
   "id": "deed9f2c",
   "metadata": {},
   "source": [
    "- Function that let's you cumuatively add a list of items"
   ]
  },
  {
   "cell_type": "code",
   "execution_count": null,
   "id": "2b43b59c",
   "metadata": {},
   "outputs": [],
   "source": [
    "def get_running_total(lst):\n",
    "    \"\"\"\n",
    "    \"\"\"\n",
    "    return reduce(lambda acc, x: acc + [acc[-1] + x] if acc else [x], lst, [])"
   ]
  },
  {
   "cell_type": "code",
   "execution_count": null,
   "id": "db7c2a3b",
   "metadata": {},
   "outputs": [],
   "source": [
    "tone_start_df[\"all_tone_frame\"] = tone_start_df.apply(lambda row: get_running_total([row[\"Frame Start\"]] + all_itis), axis=1)"
   ]
  },
  {
   "cell_type": "code",
   "execution_count": null,
   "id": "9cac6641",
   "metadata": {},
   "outputs": [],
   "source": [
    "tone_start_df.head()"
   ]
  },
  {
   "cell_type": "markdown",
   "id": "d5b4f799",
   "metadata": {},
   "source": [
    "# Get Coordinates of all the corners"
   ]
  },
  {
   "cell_type": "markdown",
   "id": "49eb5757",
   "metadata": {},
   "source": [
    "- Reading in all the files with the corner coordinate and the pose tracking\""
   ]
  },
  {
   "cell_type": "code",
   "execution_count": null,
   "id": "e32590e5",
   "metadata": {
    "tags": []
   },
   "outputs": [],
   "source": [
    "all_corner_h5 = glob.glob(\"./data/corner_labeling/*.corner.h5\")"
   ]
  },
  {
   "cell_type": "code",
   "execution_count": null,
   "id": "d905d4ab",
   "metadata": {},
   "outputs": [],
   "source": [
    "all_pose_estimation_h5 = glob.glob(\"./data/sleap_pose_tracking/*.h5\")"
   ]
  },
  {
   "cell_type": "code",
   "execution_count": null,
   "id": "45cd93c2",
   "metadata": {},
   "outputs": [],
   "source": [
    "len(all_corner_h5)"
   ]
  },
  {
   "cell_type": "code",
   "execution_count": null,
   "id": "2192ec06",
   "metadata": {},
   "outputs": [],
   "source": [
    "len(all_pose_estimation_h5)"
   ]
  },
  {
   "cell_type": "markdown",
   "id": "5b95a2a3",
   "metadata": {},
   "source": [
    "- Matching all the video file names to the corresponding corner and pose tracking coordinate file"
   ]
  },
  {
   "cell_type": "code",
   "execution_count": null,
   "id": "73e09d2b",
   "metadata": {},
   "outputs": [],
   "source": [
    "file_name_to_corner = {item.split(\"/\")[-1].split(\".\")[0].strip(): item for item in all_corner_h5}"
   ]
  },
  {
   "cell_type": "code",
   "execution_count": null,
   "id": "0066a554",
   "metadata": {},
   "outputs": [],
   "source": [
    "file_name_to_pose_estimation = {item.split(\"/\")[-1].split(\".\")[0].strip(): item for item in all_pose_estimation_h5}"
   ]
  },
  {
   "cell_type": "code",
   "execution_count": null,
   "id": "8c491469",
   "metadata": {},
   "outputs": [],
   "source": [
    "tone_start_df[\"corner_file\"] = tone_start_df[\"File Name\"].map(file_name_to_corner)\n",
    "tone_start_df[\"pose_estimation_file\"] = tone_start_df[\"File Name\"].map(file_name_to_pose_estimation)"
   ]
  },
  {
   "cell_type": "code",
   "execution_count": null,
   "id": "98d4974b",
   "metadata": {},
   "outputs": [],
   "source": [
    "tone_start_df.head()"
   ]
  },
  {
   "cell_type": "markdown",
   "id": "e8b27d45",
   "metadata": {},
   "source": [
    "- Function that gets the SLEAP data"
   ]
  },
  {
   "cell_type": "code",
   "execution_count": null,
   "id": "327773d1",
   "metadata": {},
   "outputs": [],
   "source": [
    "def get_sleap_coordinates(filename):\n",
    "    \"\"\"\n",
    "    \"\"\"\n",
    "    with h5py.File(filename, \"r\") as f:\n",
    "        dset_names = list(f.keys())\n",
    "        locations = f[\"tracks\"][:].T\n",
    "        node_names = [n.decode() for n in f[\"node_names\"][:]]\n",
    "        track_names = [n.decode() for n in f[\"track_names\"][:]]\n",
    "    return locations, node_names, track_names"
   ]
  },
  {
   "cell_type": "code",
   "execution_count": null,
   "id": "dccb4236",
   "metadata": {
    "scrolled": true
   },
   "outputs": [],
   "source": [
    "corner_node_names = get_sleap_coordinates(all_corner_h5[0])[1]"
   ]
  },
  {
   "cell_type": "code",
   "execution_count": null,
   "id": "f611891b",
   "metadata": {},
   "outputs": [],
   "source": [
    "corner_node_names"
   ]
  },
  {
   "cell_type": "markdown",
   "id": "1fc5cd27",
   "metadata": {},
   "source": [
    "- Getting the coordinates of each corner and the reward port"
   ]
  },
  {
   "cell_type": "code",
   "execution_count": null,
   "id": "8990865c",
   "metadata": {},
   "outputs": [],
   "source": [
    "for index, node in enumerate(corner_node_names):\n",
    "    tone_start_df[\"{}_coordinates\".format(node)] = tone_start_df[\"corner_file\"].apply(lambda x: get_sleap_coordinates(x)[0][0,index,:,0])"
   ]
  },
  {
   "cell_type": "code",
   "execution_count": null,
   "id": "01ab16c4",
   "metadata": {},
   "outputs": [],
   "source": [
    "tone_start_df.head()"
   ]
  },
  {
   "cell_type": "code",
   "execution_count": null,
   "id": "da952dc0",
   "metadata": {},
   "outputs": [],
   "source": [
    "corner_columns = [col for col in tone_start_df.columns if \"coordinates\" in col]"
   ]
  },
  {
   "cell_type": "code",
   "execution_count": null,
   "id": "648cc769",
   "metadata": {
    "scrolled": true
   },
   "outputs": [],
   "source": [
    "fig, ax = plt.subplots()\n",
    "\n",
    "for index, row in tone_start_df.iterrows():\n",
    "    for corner in corner_columns:\n",
    "        plt.scatter(row[corner][0], row[corner][1], label=corner)\n",
    "    break\n",
    "plt.legend()"
   ]
  },
  {
   "cell_type": "markdown",
   "id": "8d8f5299",
   "metadata": {},
   "source": [
    "# Getting the distances between corners"
   ]
  },
  {
   "cell_type": "markdown",
   "id": "5e34c910",
   "metadata": {},
   "source": [
    "- Getting the average width and height so that we can convert pixels to cm"
   ]
  },
  {
   "cell_type": "code",
   "execution_count": null,
   "id": "9cc544cf",
   "metadata": {},
   "outputs": [],
   "source": [
    "tone_start_df[\"bottom_width\"] = tone_start_df.apply(lambda row: row[\"box_bottom_right_coordinates\"][0] - row[\"box_bottom_left_coordinates\"][0], axis=1)\n",
    "tone_start_df[\"top_width\"] = tone_start_df.apply(lambda row: row[\"box_top_right_coordinates\"][0] - row[\"box_top_left_coordinates\"][0], axis=1)"
   ]
  },
  {
   "cell_type": "code",
   "execution_count": null,
   "id": "58ce92b1",
   "metadata": {},
   "outputs": [],
   "source": [
    "tone_start_df[\"right_height\"] = tone_start_df.apply(lambda row: row[\"box_bottom_right_coordinates\"][1] - row[\"box_top_right_coordinates\"][1], axis=1)\n",
    "tone_start_df[\"left_height\"] = tone_start_df.apply(lambda row: row[\"box_bottom_left_coordinates\"][1] - row[\"box_top_left_coordinates\"][1], axis=1)"
   ]
  },
  {
   "cell_type": "code",
   "execution_count": null,
   "id": "74e8c955",
   "metadata": {},
   "outputs": [],
   "source": [
    "tone_start_df[\"average_height\"] = tone_start_df.apply(lambda row: (row[\"right_height\"] + row[\"left_height\"])/2, axis=1)\n",
    "tone_start_df[\"average_width\"] = tone_start_df.apply(lambda row: (row[\"bottom_width\"] + row[\"top_width\"])/2, axis=1)"
   ]
  },
  {
   "cell_type": "markdown",
   "id": "5c5c4876",
   "metadata": {},
   "source": [
    "- Getthing the pixel to cm ratio"
   ]
  },
  {
   "cell_type": "code",
   "execution_count": null,
   "id": "bf258c7e",
   "metadata": {},
   "outputs": [],
   "source": [
    "tone_start_df[\"width_ratio\"] = 29.5 / tone_start_df[\"average_width\"]\n",
    "tone_start_df[\"height_ratio\"] = 24 / tone_start_df[\"average_height\"]\n"
   ]
  },
  {
   "cell_type": "code",
   "execution_count": null,
   "id": "6fc3f397",
   "metadata": {},
   "outputs": [],
   "source": [
    "tone_start_df[\"reward_port_scaled\"] = tone_start_df.apply(lambda row: np.array([row[\"reward_port_coordinates\"][0] * row[\"width_ratio\"], row[\"reward_port_coordinates\"][1] * row[\"height_ratio\"]]), axis=1)"
   ]
  },
  {
   "cell_type": "code",
   "execution_count": null,
   "id": "3132e739",
   "metadata": {
    "scrolled": true
   },
   "outputs": [],
   "source": [
    "tone_start_df[\"reward_port_scaled\"]"
   ]
  },
  {
   "cell_type": "markdown",
   "id": "0426f048",
   "metadata": {},
   "source": [
    "# Getting the coordinates of each mouse"
   ]
  },
  {
   "cell_type": "markdown",
   "id": "5b117149",
   "metadata": {},
   "source": [
    "- Function that fills missing coordinates by interpolating"
   ]
  },
  {
   "cell_type": "code",
   "execution_count": null,
   "id": "92547a2b",
   "metadata": {},
   "outputs": [],
   "source": [
    "from scipy.interpolate import interp1d\n",
    "\n",
    "def fill_missing(Y, kind=\"linear\"):\n",
    "    \"\"\"Fills missing values independently along each dimension after the first.\"\"\"\n",
    "\n",
    "    # Store initial shape.\n",
    "    initial_shape = Y.shape\n",
    "\n",
    "    # Flatten after first dim.\n",
    "    Y = Y.reshape((initial_shape[0], -1))\n",
    "\n",
    "    # Interpolate along each slice.\n",
    "    for i in range(Y.shape[-1]):\n",
    "        y = Y[:, i]\n",
    "\n",
    "        # Build interpolant.\n",
    "        x = np.flatnonzero(~np.isnan(y))\n",
    "        f = interp1d(x, y[x], kind=kind, fill_value=np.nan, bounds_error=False)\n",
    "\n",
    "        # Fill missing\n",
    "        xq = np.flatnonzero(np.isnan(y))\n",
    "        y[xq] = f(xq)\n",
    "        \n",
    "        # Fill leading or trailing NaNs with the nearest non-NaN values\n",
    "        mask = np.isnan(y)\n",
    "        y[mask] = np.interp(np.flatnonzero(mask), np.flatnonzero(~mask), y[~mask])\n",
    "\n",
    "        # Save slice\n",
    "        Y[:, i] = y\n",
    "\n",
    "    # Restore to initial shape.\n",
    "    Y = Y.reshape(initial_shape)\n",
    "\n",
    "    return Y\n"
   ]
  },
  {
   "cell_type": "code",
   "execution_count": null,
   "id": "e09d4f22",
   "metadata": {},
   "outputs": [],
   "source": [
    "body_part_node_names = get_sleap_coordinates(all_pose_estimation_h5[0])[1]"
   ]
  },
  {
   "cell_type": "code",
   "execution_count": null,
   "id": "1f484364",
   "metadata": {},
   "outputs": [],
   "source": [
    "body_part_node_names"
   ]
  },
  {
   "cell_type": "markdown",
   "id": "82f7e7a5",
   "metadata": {},
   "source": [
    "- Function that scales each coordinate"
   ]
  },
  {
   "cell_type": "code",
   "execution_count": null,
   "id": "c69380df",
   "metadata": {},
   "outputs": [],
   "source": [
    "def scale_coordinates(row, coordinate_col, height_ratio_col=\"height_ratio\", width_ratio_col=\"width_ratio\"):\n",
    "    \"\"\"\n",
    "    \"\"\"\n",
    "    return np.dstack((row[coordinate_col][:,:,0] * row[width_ratio_col], row[coordinate_col][:,:,1] * row[height_ratio_col]))\n"
   ]
  },
  {
   "cell_type": "code",
   "execution_count": null,
   "id": "0d98d206",
   "metadata": {},
   "outputs": [],
   "source": [
    "for num in range(2):\n",
    "    tone_start_df[\"pose_estimation_subj_{}_original_coordinates\".format(num + 1)] = tone_start_df[\"pose_estimation_file\"].apply(lambda x: fill_missing(get_sleap_coordinates(x)[0][:,:,:,num]))\n",
    "    tone_start_df[\"pose_estimation_subj_{}_scaled_coordinates\".format(num + 1)] = tone_start_df.apply(lambda row: scale_coordinates(row, \"pose_estimation_subj_{}_original_coordinates\".format(num + 1)), axis=1)     \n",
    "    tone_start_df[\"pose_estimation_subj_{}_thorax_coordinates\".format(num + 1)] = tone_start_df[\"pose_estimation_subj_{}_scaled_coordinates\".format(num + 1)].apply(lambda x: x[:,4,:])\n",
    "    tone_start_df[\"pose_estimation_subj_{}_name\".format(num + 1)] = tone_start_df[\"pose_estimation_file\"].apply(lambda x: get_sleap_coordinates(x)[2][num])\n"
   ]
  },
  {
   "cell_type": "code",
   "execution_count": null,
   "id": "77c2b1b7",
   "metadata": {},
   "outputs": [],
   "source": [
    "tone_start_df.head()"
   ]
  },
  {
   "cell_type": "code",
   "execution_count": null,
   "id": "2d66bd03",
   "metadata": {},
   "outputs": [],
   "source": [
    "tone_start_df[\"pose_estimation_subj_1_thorax_coordinates\"].iloc[0].shape"
   ]
  },
  {
   "cell_type": "markdown",
   "id": "d2742c08",
   "metadata": {},
   "source": [
    "# Calculating the distance from thorax to reward port"
   ]
  },
  {
   "cell_type": "code",
   "execution_count": null,
   "id": "5afed328",
   "metadata": {},
   "outputs": [],
   "source": [
    "tone_start_df[\"thorax_to_reward_port_distance_subj_1\"] = tone_start_df.apply(lambda row: np.linalg.norm(row[\"pose_estimation_subj_1_thorax_coordinates\"] - row[\"reward_port_scaled\"], axis=1), axis=1)\n",
    "tone_start_df[\"thorax_to_reward_port_distance_subj_2\"] = tone_start_df.apply(lambda row: np.linalg.norm(row[\"pose_estimation_subj_2_thorax_coordinates\"] - row[\"reward_port_scaled\"], axis=1), axis=1)\n",
    "\n"
   ]
  },
  {
   "cell_type": "code",
   "execution_count": null,
   "id": "3a134ad9",
   "metadata": {},
   "outputs": [],
   "source": [
    "frame_range = 20 * 30"
   ]
  },
  {
   "cell_type": "code",
   "execution_count": null,
   "id": "585939fc",
   "metadata": {},
   "outputs": [],
   "source": [
    "tone_start_df[\"thorax_to_reward_port_tone_slices_subj_1\"] = tone_start_df.apply(lambda row:  np.vstack([row[\"thorax_to_reward_port_distance_subj_1\"][tone_frame-frame_range:tone_frame+frame_range] for tone_frame in row[\"all_tone_frame\"] if tone_frame <= row[\"thorax_to_reward_port_distance_subj_1\"].shape[0]]), axis=1)\n",
    "tone_start_df[\"thorax_to_reward_port_tone_slices_subj_2\"] = tone_start_df.apply(lambda row:  np.vstack([row[\"thorax_to_reward_port_distance_subj_2\"][tone_frame-frame_range:tone_frame+frame_range] for tone_frame in row[\"all_tone_frame\"] if tone_frame <= row[\"thorax_to_reward_port_distance_subj_2\"].shape[0]]), axis=1)\n"
   ]
  },
  {
   "cell_type": "code",
   "execution_count": null,
   "id": "f236aaba",
   "metadata": {},
   "outputs": [],
   "source": [
    "# Iterate over each row in the array\n",
    "for i, row in enumerate(tone_start_df[\"thorax_to_reward_port_tone_slices_subj_1\"].iloc[4]):\n",
    "    # Plot the row data\n",
    "    plt.plot(row, label=f'Line {i+1}')\n",
    "\n"
   ]
  },
  {
   "cell_type": "markdown",
   "id": "e2e981f9",
   "metadata": {},
   "source": [
    "# Averaging across trials based on strain"
   ]
  },
  {
   "cell_type": "code",
   "execution_count": null,
   "id": "ff98b862-bb06-43a6-9ce3-120acdee85af",
   "metadata": {
    "tags": []
   },
   "outputs": [],
   "source": [
    "tone_start_df[\"thorax_to_reward_port_tone_slices_subj_1\"].iloc[0].shape"
   ]
  },
  {
   "cell_type": "code",
   "execution_count": null,
   "id": "3c24c426",
   "metadata": {},
   "outputs": [],
   "source": [
    "tone_start_df[\"thorax_to_reward_port_tone_trial_average_subj_1\"] = tone_start_df[\"thorax_to_reward_port_tone_slices_subj_1\"].apply(lambda x: np.mean(x, axis=0))\n",
    "tone_start_df[\"thorax_to_reward_port_tone_trial_average_subj_2\"] = tone_start_df[\"thorax_to_reward_port_tone_slices_subj_2\"].apply(lambda x: np.mean(x, axis=0))"
   ]
  },
  {
   "cell_type": "code",
   "execution_count": null,
   "id": "d9539b3a-946b-4393-b5c9-937aa54bd417",
   "metadata": {
    "tags": []
   },
   "outputs": [],
   "source": [
    "tone_start_df.head()"
   ]
  },
  {
   "cell_type": "code",
   "execution_count": null,
   "id": "9962855c",
   "metadata": {},
   "outputs": [],
   "source": [
    "c57_mean_distance = np.mean(tone_start_df[tone_start_df[\"Strain\"] == \"C57\"][\"thorax_to_reward_port_tone_trial_average_subj_1\"], axis=0)\n",
    "cd1_mean_distance = np.mean(tone_start_df[tone_start_df[\"Strain\"] == \"CD1\"][\"thorax_to_reward_port_tone_trial_average_subj_1\"], axis=0)\n",
    "cd1_sem_distance = np.std(tone_start_df[tone_start_df[\"Strain\"] == \"CD1\"][\"thorax_to_reward_port_tone_trial_average_subj_1\"].to_list(), axis=0) / np.sqrt(tone_start_df[tone_start_df[\"Strain\"] == \"CD1\"][\"thorax_to_reward_port_tone_trial_average_subj_1\"].iloc[0].shape[0])  \n",
    "c57_sem_distance = np.std(tone_start_df[tone_start_df[\"Strain\"] == \"C57\"][\"thorax_to_reward_port_tone_trial_average_subj_1\"].to_list(), axis=0) / np.sqrt(tone_start_df[tone_start_df[\"Strain\"] == \"C57\"][\"thorax_to_reward_port_tone_trial_average_subj_1\"].iloc[0].shape[0])  "
   ]
  },
  {
   "cell_type": "code",
   "execution_count": null,
   "id": "bc112328",
   "metadata": {},
   "outputs": [],
   "source": [
    "tone_start_df[tone_start_df[\"Strain\"] == \"CD1\"][\"thorax_to_reward_port_tone_trial_average_subj_1\"].iloc[0].shape"
   ]
  },
  {
   "cell_type": "code",
   "execution_count": null,
   "id": "41bc4704",
   "metadata": {},
   "outputs": [],
   "source": [
    "np.sqrt(tone_start_df[tone_start_df[\"Strain\"] == \"CD1\"][\"thorax_to_reward_port_tone_trial_average_subj_1\"].shape[0])  "
   ]
  },
  {
   "cell_type": "raw",
   "id": "60add097",
   "metadata": {},
   "source": [
    "c57s mustard: ffaf00 ffcf66 (Leo's #400000)\n",
    "cd1s teal: 15616f 73a0a9 (Leo's #001620)"
   ]
  },
  {
   "cell_type": "code",
   "execution_count": null,
   "id": "9ca2b433",
   "metadata": {
    "scrolled": true
   },
   "outputs": [],
   "source": [
    "# Add shading for the standard error\n",
    "plt.plot(cd1_mean_distance, color=\"#ffaf00\", label=\"CD1\")\n",
    "plt.fill_between(range(len(cd1_mean_distance)), cd1_mean_distance - cd1_sem_distance, cd1_mean_distance + cd1_sem_distance, color=\"#ffaf00\", alpha=0.2)\n",
    "\n",
    "# Add shading for the standard error\n",
    "plt.plot(c57_mean_distance, color=\"#15616f\", label=\"C57\")\n",
    "plt.fill_between(range(len(c57_mean_distance)), c57_mean_distance - c57_sem_distance, c57_mean_distance + c57_sem_distance, color=\"#15616f\", alpha=0.2)\n",
    "plt.ylabel(\"Distance of thorax to reward port (cm)\")\n",
    "plt.xlabel(\"Time from tone onset (seconds)\")\n",
    "\n",
    "xticks = plt.xticks()[0]  # Get current x-axis ticks\n",
    "plt.xticks(xticks, xticks // 30 - 20)  # Set new x-axis ticks\n",
    "plt.xlim(0, 1200)\n",
    "plt.ylim(0, 12)\n",
    "plt.title(\"C57 are closer to the reward port\")\n",
    "\n",
    "plt.legend()"
   ]
  },
  {
   "cell_type": "markdown",
   "id": "41b45e01",
   "metadata": {},
   "source": [
    "# Separating Rows into the two subjects"
   ]
  },
  {
   "cell_type": "code",
   "execution_count": null,
   "id": "7f04dc6b",
   "metadata": {},
   "outputs": [],
   "source": [
    "tone_start_df.columns"
   ]
  },
  {
   "cell_type": "markdown",
   "id": "5e1452a0",
   "metadata": {},
   "source": [
    "- Getting all the columns with subject 1 or subject 2 in the name"
   ]
  },
  {
   "cell_type": "code",
   "execution_count": null,
   "id": "c578de4c",
   "metadata": {},
   "outputs": [],
   "source": [
    "subj_1_col = [col for col in tone_start_df.columns if \"subj_1\" in col or \"Strain\" in col or \"all_subj\" in col or \"date\" in col]\n",
    "subj_2_col = [col for col in tone_start_df.columns if \"subj_2\" in col or \"Strain\" in col or \"all_subj\" in col or \"date\" in col]\n"
   ]
  },
  {
   "cell_type": "code",
   "execution_count": null,
   "id": "b034288b",
   "metadata": {},
   "outputs": [],
   "source": [
    "subj_1_df = tone_start_df[subj_1_col].copy()\n",
    "subj_2_df = tone_start_df[subj_2_col].copy()"
   ]
  },
  {
   "cell_type": "markdown",
   "id": "44d000e9",
   "metadata": {},
   "source": [
    "- Standarizing all the columns so it's just \"subj\""
   ]
  },
  {
   "cell_type": "code",
   "execution_count": null,
   "id": "b12037b7",
   "metadata": {},
   "outputs": [],
   "source": [
    "subj_1_df.columns = [col.replace(\"subj_1\", \"subj\") for col in subj_1_df.columns]\n",
    "subj_2_df.columns = [col.replace(\"subj_2\", \"subj\") for col in subj_2_df.columns]"
   ]
  },
  {
   "cell_type": "code",
   "execution_count": null,
   "id": "18c9958b",
   "metadata": {},
   "outputs": [],
   "source": [
    "subj_1_df.head()"
   ]
  },
  {
   "cell_type": "markdown",
   "id": "f61b776a",
   "metadata": {},
   "source": [
    "- Putting the dataframes for subject 1 and subject 2 together"
   ]
  },
  {
   "cell_type": "code",
   "execution_count": null,
   "id": "e5a0118e",
   "metadata": {},
   "outputs": [],
   "source": [
    "combined_subj_df = pd.concat([subj_1_df, subj_2_df])"
   ]
  },
  {
   "cell_type": "code",
   "execution_count": null,
   "id": "e29ee5bc",
   "metadata": {},
   "outputs": [],
   "source": [
    "combined_subj_df[\"agent\"] = combined_subj_df.apply(lambda x: list(set(x[\"all_subj\"]) - set([x[\"subj\"]]))[0], axis=1)"
   ]
  },
  {
   "cell_type": "code",
   "execution_count": null,
   "id": "5689347f",
   "metadata": {},
   "outputs": [],
   "source": [
    "combined_subj_df.head()"
   ]
  },
  {
   "cell_type": "code",
   "execution_count": null,
   "id": "43c3cc13",
   "metadata": {},
   "outputs": [],
   "source": [
    "combined_subj_df.tail()"
   ]
  },
  {
   "cell_type": "code",
   "execution_count": null,
   "id": "75f26015",
   "metadata": {},
   "outputs": [],
   "source": [
    "combined_subj_df.shape"
   ]
  },
  {
   "cell_type": "code",
   "execution_count": null,
   "id": "35cf5409",
   "metadata": {},
   "outputs": [],
   "source": [
    "len(combined_subj_df[\"subj\"].unique())"
   ]
  },
  {
   "cell_type": "markdown",
   "id": "8663d47e",
   "metadata": {},
   "source": [
    "- Calculating the average distance"
   ]
  },
  {
   "cell_type": "code",
   "execution_count": null,
   "id": "23330985-62d1-441c-a866-cfe630a150dd",
   "metadata": {
    "tags": []
   },
   "outputs": [],
   "source": [
    "c57_combined_subj_df = combined_subj_df[combined_subj_df[\"Strain\"] == \"C57\"]\n",
    "cd1_combined_subj_df = combined_subj_df[combined_subj_df[\"Strain\"] == \"CD1\"]"
   ]
  },
  {
   "cell_type": "code",
   "execution_count": null,
   "id": "6e5e3318-b930-4a67-ada7-724c2e630dbc",
   "metadata": {
    "tags": []
   },
   "outputs": [],
   "source": [
    "c57_combined_subj_df"
   ]
  },
  {
   "cell_type": "code",
   "execution_count": null,
   "id": "9775d72f-7278-4182-a2e6-83df00e7dfca",
   "metadata": {
    "tags": []
   },
   "outputs": [],
   "source": [
    "c57_mean_distance = np.mean(c57_combined_subj_df[\"thorax_to_reward_port_tone_trial_average_subj\"], axis=0)\n",
    "cd1_mean_distance = np.mean(cd1_combined_subj_df[\"thorax_to_reward_port_tone_trial_average_subj\"], axis=0)"
   ]
  },
  {
   "cell_type": "code",
   "execution_count": null,
   "id": "27681758-e39f-4f38-89a0-b1633abb0ed2",
   "metadata": {
    "tags": []
   },
   "outputs": [],
   "source": [
    "\n",
    "cd1_std_distance = np.std(cd1_combined_subj_df[\"thorax_to_reward_port_tone_trial_average_subj\"].to_list(), axis=0) \n",
    "c57_std_distance = np.std(c57_combined_subj_df[\"thorax_to_reward_port_tone_trial_average_subj\"].to_list(), axis=0)"
   ]
  },
  {
   "cell_type": "code",
   "execution_count": null,
   "id": "2aeb3f45-a37b-4371-8219-9bdb9794c218",
   "metadata": {
    "tags": []
   },
   "outputs": [],
   "source": [
    "len(cd1_combined_subj_df[\"thorax_to_reward_port_tone_trial_average_subj\"])"
   ]
  },
  {
   "cell_type": "code",
   "execution_count": null,
   "id": "4868a34b-4572-46e6-a398-51cecbc867d5",
   "metadata": {
    "tags": []
   },
   "outputs": [],
   "source": [
    "len(c57_combined_subj_df[\"thorax_to_reward_port_tone_trial_average_subj\"])"
   ]
  },
  {
   "cell_type": "code",
   "execution_count": null,
   "id": "54551078-b908-4f69-8de9-d04a4775302e",
   "metadata": {
    "tags": []
   },
   "outputs": [],
   "source": [
    "\n",
    "cd1_sem_distance = cd1_std_distance / np.sqrt(len(cd1_combined_subj_df[\"thorax_to_reward_port_tone_trial_average_subj\"]))  \n",
    "c57_sem_distance = c57_std_distance / np.sqrt(len(c57_combined_subj_df[\"thorax_to_reward_port_tone_trial_average_subj\"])) "
   ]
  },
  {
   "cell_type": "raw",
   "id": "816a99f9-9ad9-4706-85d6-8d01a54cb2f8",
   "metadata": {},
   "source": [
    "\n",
    "cd1_sem_distance = np.std(cd1_combined_subj_df[\"thorax_to_reward_port_tone_trial_average_subj\"].to_list(), axis=0) / np.sqrt(cd1_combined_subj_df[\"thorax_to_reward_port_tone_trial_average_subj\"].iloc[0].shape[0])  \n",
    "c57_sem_distance = np.std(c57_combined_subj_df[\"thorax_to_reward_port_tone_trial_average_subj\"].to_list(), axis=0) / np.sqrt(c57_combined_subj_df[\"thorax_to_reward_port_tone_trial_average_subj\"].iloc[0].shape[0])  "
   ]
  },
  {
   "cell_type": "raw",
   "id": "60027685",
   "metadata": {},
   "source": [
    "c57s mustard: ffaf00 ffcf66 (Leo's #400000)\n",
    "cd1s teal: 15616f 73a0a9 (Leo's #001620)"
   ]
  },
  {
   "cell_type": "code",
   "execution_count": null,
   "id": "161294a9",
   "metadata": {
    "scrolled": true
   },
   "outputs": [],
   "source": [
    "# Add shading for the standard error\n",
    "plt.plot(cd1_mean_distance, color=\"#15616f\", label=\"CD1\")\n",
    "plt.fill_between(range(len(cd1_mean_distance)), cd1_mean_distance - cd1_sem_distance, cd1_mean_distance + cd1_sem_distance, color=\"#15616f\", alpha=0.2)\n",
    "\n",
    "# Add shading for the standard error\n",
    "plt.plot(c57_mean_distance, color=\"#ffaf00\", label=\"C57\")\n",
    "plt.fill_between(range(len(c57_mean_distance)), c57_mean_distance - c57_sem_distance, c57_mean_distance + c57_sem_distance, color=\"#ffaf00\", alpha=0.2)\n",
    "plt.ylabel(\"Distance of thorax to reward port (cm)\")\n",
    "plt.xlabel(\"Time from tone onset (seconds)\")\n",
    "\n",
    "xticks = plt.xticks()[0]  # Get current x-axis ticks\n",
    "plt.xticks(xticks, xticks // 30 - 20)  # Set new x-axis ticks\n",
    "plt.xlim(0, 1200)\n",
    "plt.ylim(0, 12)\n",
    "plt.title(\"C57 are closer to the reward port\")\n",
    "\n",
    "plt.legend()"
   ]
  },
  {
   "cell_type": "markdown",
   "id": "c65ccdf3",
   "metadata": {},
   "source": [
    "# Adding the win and loss information"
   ]
  },
  {
   "cell_type": "markdown",
   "id": "dc2e59f2",
   "metadata": {},
   "source": [
    "# Incorporating Winning and Losing"
   ]
  },
  {
   "cell_type": "code",
   "execution_count": null,
   "id": "496787d6",
   "metadata": {},
   "outputs": [],
   "source": [
    "reward_comp_scoring_df = pd.read_csv(\"./data/scoring/pilot_3_reward_competition_all_competition_cage_1_2_3_4_5_6_date_20221003_20221004.csv\")"
   ]
  },
  {
   "cell_type": "code",
   "execution_count": null,
   "id": "80fd14e8",
   "metadata": {},
   "outputs": [],
   "source": [
    "reward_comp_scoring_df.columns"
   ]
  },
  {
   "cell_type": "markdown",
   "id": "be656568",
   "metadata": {},
   "source": [
    "- Updating the date so that we can merge using it"
   ]
  },
  {
   "cell_type": "code",
   "execution_count": null,
   "id": "910d60b5",
   "metadata": {},
   "outputs": [],
   "source": [
    "reward_comp_scoring_df[\"date\"] = reward_comp_scoring_df[\"rc_date\"].apply(lambda x: str(x).strip(\"\"))"
   ]
  },
  {
   "cell_type": "code",
   "execution_count": null,
   "id": "cc9dfa11",
   "metadata": {},
   "outputs": [],
   "source": [
    "reward_comp_scoring_df[\"date\"].iloc[0]"
   ]
  },
  {
   "cell_type": "markdown",
   "id": "4bae6f50",
   "metadata": {},
   "source": [
    "- Updating the IDs so we can merge using it"
   ]
  },
  {
   "cell_type": "code",
   "execution_count": null,
   "id": "189212e0",
   "metadata": {},
   "outputs": [],
   "source": [
    "reward_comp_scoring_df[\"all_subj\"] = reward_comp_scoring_df[\"rc_animal_ids\"].apply(lambda x: ast.literal_eval(x))"
   ]
  },
  {
   "cell_type": "code",
   "execution_count": null,
   "id": "0aebbbee",
   "metadata": {},
   "outputs": [],
   "source": [
    "reward_comp_scoring_df[\"all_subj\"].iloc[0]"
   ]
  },
  {
   "cell_type": "code",
   "execution_count": null,
   "id": "d0204eff",
   "metadata": {},
   "outputs": [],
   "source": [
    "reward_comp_scoring_df[\"rc_winner\"] = reward_comp_scoring_df[\"rc_winner\"].apply(lambda x: ast.literal_eval(x))"
   ]
  },
  {
   "cell_type": "code",
   "execution_count": null,
   "id": "ae1d4484",
   "metadata": {},
   "outputs": [],
   "source": [
    "reward_comp_scoring_df[\"rc_averaged_winner\"] = reward_comp_scoring_df[\"rc_averaged_winner\"].astype(str)\n",
    "reward_comp_scoring_df[\"rc_averaged_loser\"] = reward_comp_scoring_df[\"rc_averaged_loser\"].astype(str)"
   ]
  },
  {
   "cell_type": "code",
   "execution_count": null,
   "id": "93da38ec",
   "metadata": {},
   "outputs": [],
   "source": [
    "for num in reward_comp_scoring_df[\"rc_winner\"]:\n",
    "    print(num)"
   ]
  },
  {
   "cell_type": "markdown",
   "id": "ac407dd6",
   "metadata": {},
   "source": [
    "- Merging the dataframes"
   ]
  },
  {
   "cell_type": "code",
   "execution_count": null,
   "id": "a4140092",
   "metadata": {},
   "outputs": [],
   "source": [
    "combined_subj_df[\"date\"]"
   ]
  },
  {
   "cell_type": "code",
   "execution_count": null,
   "id": "c3a0099a",
   "metadata": {},
   "outputs": [],
   "source": [
    "reward_comp_scoring_df[\"date\"]"
   ]
  },
  {
   "cell_type": "code",
   "execution_count": null,
   "id": "54be8578",
   "metadata": {
    "scrolled": true
   },
   "outputs": [],
   "source": [
    "distance_and_scoring_df = combined_subj_df.merge(reward_comp_scoring_df, on=['date', 'all_subj'], how='outer')"
   ]
  },
  {
   "cell_type": "code",
   "execution_count": null,
   "id": "3f2cf024",
   "metadata": {},
   "outputs": [],
   "source": [
    "distance_and_scoring_df = distance_and_scoring_df.dropna(subset=[\"rc_winner\", \"subj\"])#.dropna(subset=\"subj\")"
   ]
  },
  {
   "cell_type": "markdown",
   "id": "e2731ec0",
   "metadata": {},
   "source": [
    "- Getting all the winning and losing trials based on matching IDs"
   ]
  },
  {
   "cell_type": "code",
   "execution_count": null,
   "id": "bd2ad621",
   "metadata": {},
   "outputs": [],
   "source": [
    "distance_and_scoring_df[\"subj\"].unique()"
   ]
  },
  {
   "cell_type": "code",
   "execution_count": null,
   "id": "2d8d8543",
   "metadata": {},
   "outputs": [],
   "source": [
    "distance_and_scoring_df[\"per_trial_winning_indexes\"] = distance_and_scoring_df.apply(lambda x: [i for i, trial in enumerate(x[\"rc_winner\"]) if trial == x[\"subj\"] and i < x[\"thorax_to_reward_port_tone_slices_subj\"].shape[0]], axis=1)\n",
    "distance_and_scoring_df[\"per_trial_losing_indexes\"] = distance_and_scoring_df.apply(lambda x: [i for i, trial in enumerate(x[\"rc_winner\"]) if trial == x[\"agent\"] and i < x[\"thorax_to_reward_port_tone_slices_subj\"].shape[0]], axis=1)\n"
   ]
  },
  {
   "cell_type": "code",
   "execution_count": null,
   "id": "0399a368-816e-4be2-a315-1e5e6f8ef01d",
   "metadata": {
    "tags": []
   },
   "outputs": [],
   "source": [
    "distance_and_scoring_df[\"all_subj\"].head()"
   ]
  },
  {
   "cell_type": "code",
   "execution_count": null,
   "id": "685909bd-f749-4b18-81a2-8eadd66e795e",
   "metadata": {
    "tags": []
   },
   "outputs": [],
   "source": [
    "distance_and_scoring_df[\"rc_winner\"].head()"
   ]
  },
  {
   "cell_type": "code",
   "execution_count": null,
   "id": "b4c75406",
   "metadata": {},
   "outputs": [],
   "source": [
    "distance_and_scoring_df[\"per_trial_winning_indexes\"].head()"
   ]
  },
  {
   "cell_type": "code",
   "execution_count": null,
   "id": "705faa98",
   "metadata": {},
   "outputs": [],
   "source": [
    "distance_and_scoring_df[\"per_trial_losing_indexes\"].head()"
   ]
  },
  {
   "cell_type": "markdown",
   "id": "4cc70550-8d6c-4bf1-bc73-c3da8f7f3e36",
   "metadata": {},
   "source": [
    "# TODO: Check the winner vs loser ste calculations"
   ]
  },
  {
   "cell_type": "code",
   "execution_count": null,
   "id": "4bbe2584",
   "metadata": {},
   "outputs": [],
   "source": [
    "distance_and_scoring_df[\"thorax_to_reward_port_all_winning_trial_distances\"] = distance_and_scoring_df.apply(lambda x: x[\"thorax_to_reward_port_tone_slices_subj\"][x[\"per_trial_winning_indexes\"]], axis=1)\n",
    "distance_and_scoring_df[\"thorax_to_reward_port_all_losing_trial_distances\"] = distance_and_scoring_df.apply(lambda x: x[\"thorax_to_reward_port_tone_slices_subj\"][x[\"per_trial_losing_indexes\"]], axis=1)\n"
   ]
  },
  {
   "cell_type": "code",
   "execution_count": null,
   "id": "ac3728ca",
   "metadata": {},
   "outputs": [],
   "source": [
    "distance_and_scoring_df[\"thorax_to_reward_port_all_winning_trial_distances\"].iloc[0].shape"
   ]
  },
  {
   "cell_type": "code",
   "execution_count": null,
   "id": "baff594c",
   "metadata": {},
   "outputs": [],
   "source": [
    "distance_and_scoring_df[\"thorax_to_reward_port_all_losing_trial_distances\"].iloc[0].shape"
   ]
  },
  {
   "cell_type": "code",
   "execution_count": null,
   "id": "cce78e88-2bf4-4184-a83c-550a711f6039",
   "metadata": {
    "tags": []
   },
   "outputs": [],
   "source": [
    "distance_and_scoring_df[\"thorax_to_reward_port_all_winning_trial_distances\"].iloc[1].shape"
   ]
  },
  {
   "cell_type": "code",
   "execution_count": null,
   "id": "7cd83aed-23fd-47d8-a5b0-42192d737ab5",
   "metadata": {
    "tags": []
   },
   "outputs": [],
   "source": [
    "distance_and_scoring_df[\"thorax_to_reward_port_all_losing_trial_distances\"].iloc[1].shape"
   ]
  },
  {
   "cell_type": "markdown",
   "id": "42e36898",
   "metadata": {},
   "source": [
    "- Averaging across winning and losing trials"
   ]
  },
  {
   "cell_type": "code",
   "execution_count": null,
   "id": "74f114a2",
   "metadata": {},
   "outputs": [],
   "source": [
    "distance_and_scoring_df[\"thorax_to_reward_port_tone_winning_trial_average\"] = distance_and_scoring_df[\"thorax_to_reward_port_all_winning_trial_distances\"].apply(lambda x: np.mean(x, axis=0))\n",
    "distance_and_scoring_df[\"thorax_to_reward_port_tone_losing_trial_average\"] = distance_and_scoring_df[\"thorax_to_reward_port_all_losing_trial_distances\"].apply(lambda x: np.mean(x, axis=0))"
   ]
  },
  {
   "cell_type": "code",
   "execution_count": null,
   "id": "12583c40-cc05-4152-9a9b-4a598dbde678",
   "metadata": {
    "tags": []
   },
   "outputs": [],
   "source": [
    "distance_and_scoring_df[\"thorax_to_reward_port_tone_winning_trial_average\"]"
   ]
  },
  {
   "cell_type": "markdown",
   "id": "816d374f",
   "metadata": {},
   "source": [
    "- Filtering out rows that have NANs in the average distance array"
   ]
  },
  {
   "cell_type": "code",
   "execution_count": null,
   "id": "7f5905fb",
   "metadata": {},
   "outputs": [],
   "source": [
    "distance_and_scoring_df[~distance_and_scoring_df[\"thorax_to_reward_port_tone_winning_trial_average\"].apply(lambda x: np.isnan(x).any())]"
   ]
  },
  {
   "cell_type": "code",
   "execution_count": null,
   "id": "4257e2a9",
   "metadata": {},
   "outputs": [],
   "source": [
    "distance_and_scoring_df[~distance_and_scoring_df[\"thorax_to_reward_port_tone_losing_trial_average\"].apply(lambda x: np.isnan(x).any())]"
   ]
  },
  {
   "cell_type": "code",
   "execution_count": null,
   "id": "14bb98e2",
   "metadata": {},
   "outputs": [],
   "source": [
    "c57_all_distance_and_scoring_df = distance_and_scoring_df[distance_and_scoring_df[\"Strain\"] == \"C57\"]\n",
    "cd1_all_distance_and_scoring_df = distance_and_scoring_df[distance_and_scoring_df[\"Strain\"] == \"CD1\"]"
   ]
  },
  {
   "cell_type": "code",
   "execution_count": null,
   "id": "ad0bf6f9",
   "metadata": {},
   "outputs": [],
   "source": [
    "# Define a function to check if a NumPy array contains any NaN values\n",
    "def contains_nan(arr):\n",
    "    return np.isnan(arr).any()"
   ]
  },
  {
   "cell_type": "code",
   "execution_count": null,
   "id": "8e9e013d",
   "metadata": {},
   "outputs": [],
   "source": [
    "# Use the apply method to apply the function to each element in the 'A' column,\n",
    "# and then use the resulting Boolean Series to select the rows where 'A' does not contain a NaN\n",
    "c57_winning_distance_and_scoring_df = c57_all_distance_and_scoring_df[~c57_all_distance_and_scoring_df['thorax_to_reward_port_tone_winning_trial_average'].apply(contains_nan)]\n",
    "c57_losing_distance_and_scoring_df = c57_all_distance_and_scoring_df[~c57_all_distance_and_scoring_df['thorax_to_reward_port_tone_losing_trial_average'].apply(contains_nan)]\n",
    "cd1_winning_distance_and_scoring_df = cd1_all_distance_and_scoring_df[~cd1_all_distance_and_scoring_df['thorax_to_reward_port_tone_winning_trial_average'].apply(contains_nan)]\n",
    "cd1_losing_distance_and_scoring_df = cd1_all_distance_and_scoring_df[~cd1_all_distance_and_scoring_df['thorax_to_reward_port_tone_losing_trial_average'].apply(contains_nan)]\n"
   ]
  },
  {
   "cell_type": "code",
   "execution_count": null,
   "id": "77ec95e6",
   "metadata": {},
   "outputs": [],
   "source": [
    "c57_winning_mean_distance = np.mean(c57_winning_distance_and_scoring_df[\"thorax_to_reward_port_tone_winning_trial_average\"], axis=0)\n",
    "c57_winning_sem_distance = np.std(c57_winning_distance_and_scoring_df[\"thorax_to_reward_port_tone_winning_trial_average\"].to_list(), axis=0) / np.sqrt(c57_winning_distance_and_scoring_df[\"thorax_to_reward_port_tone_winning_trial_average\"].iloc[0].shape[0])  \n",
    "c57_losing_mean_distance = np.mean(c57_losing_distance_and_scoring_df[\"thorax_to_reward_port_tone_losing_trial_average\"], axis=0)\n",
    "c57_losing_sem_distance = np.std(c57_losing_distance_and_scoring_df[\"thorax_to_reward_port_tone_losing_trial_average\"].to_list(), axis=0) / np.sqrt(c57_losing_distance_and_scoring_df[\"thorax_to_reward_port_tone_losing_trial_average\"].iloc[0].shape[0])  \n",
    "\n",
    "cd1_winning_mean_distance = np.mean(cd1_winning_distance_and_scoring_df[\"thorax_to_reward_port_tone_winning_trial_average\"], axis=0)\n",
    "cd1_winning_sem_distance = np.std(cd1_winning_distance_and_scoring_df[\"thorax_to_reward_port_tone_winning_trial_average\"].to_list(), axis=0) / np.sqrt(cd1_winning_distance_and_scoring_df[\"thorax_to_reward_port_tone_winning_trial_average\"].iloc[0].shape[0])  \n",
    "cd1_losing_mean_distance = np.mean(cd1_losing_distance_and_scoring_df[\"thorax_to_reward_port_tone_losing_trial_average\"], axis=0)\n",
    "cd1_losing_sem_distance = np.std(cd1_losing_distance_and_scoring_df[\"thorax_to_reward_port_tone_losing_trial_average\"].to_list(), axis=0) / np.sqrt(cd1_losing_distance_and_scoring_df[\"thorax_to_reward_port_tone_losing_trial_average\"].iloc[0].shape[0])  \n"
   ]
  },
  {
   "cell_type": "markdown",
   "id": "f1e82160",
   "metadata": {},
   "source": [
    "Colors are the website colors (Yellow #FFAF00; teal #15616F) but ive added these: light yellow: #FFDB91 (r 255 g 219 b 145) light teal: #C2DBDC  (r 194 g 219 b 220), thoughts on making all titles, axes, and numbers gray instead of black? specifically #666666 (r 96 b 96 g 96)"
   ]
  },
  {
   "cell_type": "code",
   "execution_count": null,
   "id": "19bf285e",
   "metadata": {},
   "outputs": [],
   "source": [
    "# Add shading for the standard error\n",
    "plt.plot(cd1_winning_mean_distance, color=\"#15616F\", label=\"CD1 Winning Trials\")\n",
    "plt.fill_between(range(len(cd1_winning_mean_distance)), cd1_winning_mean_distance - cd1_winning_sem_distance, cd1_winning_mean_distance + cd1_winning_sem_distance, color=\"#15616f\", alpha=0.2)\n",
    "\n",
    "# Add shading for the standard error\n",
    "plt.plot(cd1_losing_mean_distance, color=\"#C2DBDC\", label=\"CD1 Lost Trials\")\n",
    "plt.fill_between(range(len(cd1_losing_mean_distance)), cd1_losing_mean_distance - cd1_losing_sem_distance, cd1_losing_mean_distance + cd1_losing_sem_distance, color=\"#C2DBDC\", alpha=0.2)\n",
    "\n",
    "# Add shading for the standard error\n",
    "plt.plot(c57_losing_mean_distance, color=\"#FFDB91\", label=\"C57 Lost Trials\")\n",
    "plt.fill_between(range(len(c57_losing_mean_distance)), c57_losing_mean_distance - c57_losing_sem_distance, c57_losing_mean_distance + c57_losing_sem_distance, color=\"#FFDB91\", alpha=0.2)\n",
    "\n",
    "# Add shading for the standard error\n",
    "plt.plot(c57_winning_mean_distance, color=\"#FFAF00\", label=\"C57 Winning Trials\")\n",
    "plt.fill_between(range(len(c57_winning_mean_distance)), c57_winning_mean_distance - c57_winning_sem_distance, c57_winning_mean_distance + c57_winning_sem_distance, color=\"#ffaf00\", alpha=0.2)\n",
    "\n",
    "\n",
    "plt.ylabel(\"Distance of thorax to reward port (cm)\")\n",
    "plt.xlabel(\"Time from tone onset (seconds)\")\n",
    "\n",
    "xticks = plt.xticks()[0]  # Get current x-axis ticks\n",
    "plt.xticks(xticks, xticks // 30 - 20)  # Set new x-axis ticks\n",
    "plt.xlim(0, 1200)\n",
    "\n",
    "plt.title(\"C57 have closer competitions than CD1\")\n",
    "\n",
    "plt.legend()"
   ]
  },
  {
   "cell_type": "markdown",
   "id": "09aa1000",
   "metadata": {},
   "source": [
    "# Separating by overall winner and loser"
   ]
  },
  {
   "cell_type": "code",
   "execution_count": null,
   "id": "0716832c",
   "metadata": {},
   "outputs": [],
   "source": []
  },
  {
   "cell_type": "code",
   "execution_count": null,
   "id": "e5d16e16",
   "metadata": {},
   "outputs": [],
   "source": [
    "no_tie_distance_and_scoring_df = distance_and_scoring_df[~distance_and_scoring_df[\"rc_is_win_to_win_and_loss_ratio_tie\"]]"
   ]
  },
  {
   "cell_type": "code",
   "execution_count": null,
   "id": "81eda843",
   "metadata": {},
   "outputs": [],
   "source": [
    "no_tie_distance_and_scoring_df[\"is_winner\"] = no_tie_distance_and_scoring_df[\"subj\"] == no_tie_distance_and_scoring_df[\"rc_averaged_winner\"]"
   ]
  },
  {
   "cell_type": "code",
   "execution_count": null,
   "id": "823c7f72",
   "metadata": {},
   "outputs": [],
   "source": []
  },
  {
   "cell_type": "code",
   "execution_count": null,
   "id": "c539249d",
   "metadata": {},
   "outputs": [],
   "source": [
    "c57_winner_distance_and_scoring_df = no_tie_distance_and_scoring_df[(no_tie_distance_and_scoring_df[\"Strain\"] == \"C57\") & (no_tie_distance_and_scoring_df[\"is_winner\"])]\n",
    "c57_loser_distance_and_scoring_df = no_tie_distance_and_scoring_df[(no_tie_distance_and_scoring_df[\"Strain\"] == \"C57\") & ~(no_tie_distance_and_scoring_df[\"is_winner\"])]\n",
    "\n",
    "cd1_winner_distance_and_scoring_df = no_tie_distance_and_scoring_df[(no_tie_distance_and_scoring_df[\"Strain\"] == \"CD1\") & (no_tie_distance_and_scoring_df[\"is_winner\"])]\n",
    "cd1_loser_distance_and_scoring_df = no_tie_distance_and_scoring_df[(no_tie_distance_and_scoring_df[\"Strain\"] == \"CD1\") & ~(no_tie_distance_and_scoring_df[\"is_winner\"])]"
   ]
  },
  {
   "cell_type": "code",
   "execution_count": null,
   "id": "e4283a4b",
   "metadata": {},
   "outputs": [],
   "source": [
    "c57_winner_mean_distance = np.mean(c57_winner_distance_and_scoring_df[\"thorax_to_reward_port_tone_trial_average_subj\"], axis=0)\n",
    "c57_winner_sem_distance = np.std(c57_winner_distance_and_scoring_df[\"thorax_to_reward_port_tone_trial_average_subj\"].to_list(), axis=0) / np.sqrt(c57_winner_distance_and_scoring_df[\"thorax_to_reward_port_tone_trial_average_subj\"].iloc[0].shape[0])  \n",
    "c57_loser_mean_distance = np.mean(c57_loser_distance_and_scoring_df[\"thorax_to_reward_port_tone_trial_average_subj\"], axis=0)\n",
    "c57_loser_sem_distance = np.std(c57_loser_distance_and_scoring_df[\"thorax_to_reward_port_tone_trial_average_subj\"].to_list(), axis=0) / np.sqrt(c57_loser_distance_and_scoring_df[\"thorax_to_reward_port_tone_trial_average_subj\"].iloc[0].shape[0])  \n",
    "\n",
    "cd1_winner_mean_distance = np.mean(cd1_winner_distance_and_scoring_df[\"thorax_to_reward_port_tone_trial_average_subj\"], axis=0)\n",
    "cd1_winner_sem_distance = np.std(cd1_winner_distance_and_scoring_df[\"thorax_to_reward_port_tone_trial_average_subj\"].to_list(), axis=0) / np.sqrt(cd1_winner_distance_and_scoring_df[\"thorax_to_reward_port_tone_trial_average_subj\"].iloc[0].shape[0])  \n",
    "cd1_loser_mean_distance = np.mean(cd1_loser_distance_and_scoring_df[\"thorax_to_reward_port_tone_trial_average_subj\"], axis=0)\n",
    "cd1_loser_sem_distance = np.std(cd1_loser_distance_and_scoring_df[\"thorax_to_reward_port_tone_trial_average_subj\"].to_list(), axis=0) / np.sqrt(cd1_loser_distance_and_scoring_df[\"thorax_to_reward_port_tone_trial_average_subj\"].iloc[0].shape[0])  \n"
   ]
  },
  {
   "cell_type": "raw",
   "id": "950d02e0",
   "metadata": {},
   "source": [
    "c57s mustard: ffaf00 ffcf66 (Leo's #400000)\n",
    "cd1s teal: 15616f 73a0a9 (Leo's #001620)"
   ]
  },
  {
   "cell_type": "code",
   "execution_count": null,
   "id": "22094608",
   "metadata": {},
   "outputs": [],
   "source": [
    "import seaborn as sns"
   ]
  },
  {
   "cell_type": "code",
   "execution_count": null,
   "id": "227ccc2d",
   "metadata": {
    "scrolled": true
   },
   "outputs": [],
   "source": [
    "# Add shading for the standard error\n",
    "plt.plot(cd1_winner_mean_distance, color=\"#15616F\", label=\"CD1 Overall Winner\")\n",
    "plt.fill_between(range(len(cd1_winner_mean_distance)), cd1_winner_mean_distance - cd1_winner_sem_distance, cd1_winner_mean_distance + cd1_winner_sem_distance, color=\"#15616f\", alpha=0.2)\n",
    "\n",
    "# Add shading for the standard error\n",
    "plt.plot(cd1_loser_mean_distance, color=\"#C2DBDC\", label=\"CD1 Overall Loser\")\n",
    "plt.fill_between(range(len(cd1_loser_mean_distance)), cd1_loser_mean_distance - cd1_loser_sem_distance, cd1_loser_mean_distance + cd1_loser_sem_distance, color=\"#C2DBDC\", alpha=0.2)\n",
    "\n",
    "# Add shading for the standard error\n",
    "plt.plot(c57_loser_mean_distance, color=\"#FFDB91\", label=\"C57 Overall Loser\")\n",
    "plt.fill_between(range(len(c57_loser_mean_distance)), c57_loser_mean_distance - c57_loser_sem_distance, c57_loser_mean_distance + c57_loser_sem_distance, color=\"#FFDB91\", alpha=0.2)\n",
    "\n",
    "# Add shading for the standard error\n",
    "plt.plot(c57_winner_mean_distance, color=\"#FFAF00\", label=\"C57 Overall Winner\")\n",
    "plt.fill_between(range(len(c57_winner_mean_distance)), c57_winner_mean_distance - c57_winner_sem_distance, c57_winner_mean_distance + c57_winner_sem_distance, color=\"#ffaf00\", alpha=0.2)\n",
    "\n",
    "\n",
    "plt.ylabel(\"Distance of thorax to reward port (cm)\")\n",
    "plt.xlabel(\"Time from tone onset (seconds)\")\n",
    "\n",
    "xticks = plt.xticks()[0]  # Get current x-axis ticks\n",
    "plt.xticks(xticks, xticks // 30 - 20)  # Set new x-axis ticks\n",
    "plt.xlim(0, 1200)\n",
    "\n",
    "plt.title(\"C57 have closer competitions than CD1\")\n",
    "\n",
    "plt.legend()"
   ]
  },
  {
   "cell_type": "code",
   "execution_count": null,
   "id": "e5c55ccd",
   "metadata": {
    "scrolled": true
   },
   "outputs": [],
   "source": [
    "sns.histplot(distance_and_scoring_df[distance_and_scoring_df[\"strain\"] == \"C57\"][\"rc_tie_count\"], alpha=0.5, color=\"#FFAF00\", binwidth=1, label=\"C57\")\n",
    "sns.histplot(distance_and_scoring_df[distance_and_scoring_df[\"strain\"] == \"CD1\"][\"rc_tie_count\"], alpha=0.5, color=\"#15616F\", binwidth=1, label=\"CD1\")\n",
    "plt.title(\"C57 have more ties\")\n",
    "plt.xlabel(\"Number of ties\")\n",
    "plt.legend()"
   ]
  },
  {
   "cell_type": "code",
   "execution_count": null,
   "id": "4aa5e3b6",
   "metadata": {},
   "outputs": [],
   "source": [
    "distance_and_scoring_df[distance_and_scoring_df[\"strain\"] == \"C57\"][\"rc_tie_count\"]"
   ]
  },
  {
   "cell_type": "code",
   "execution_count": null,
   "id": "bfcc4f9c",
   "metadata": {},
   "outputs": [],
   "source": [
    "distance_and_scoring_df[distance_and_scoring_df[\"strain\"] == \"CD1\"][\"rc_tie_count\"]"
   ]
  },
  {
   "cell_type": "code",
   "execution_count": null,
   "id": "51616bd6",
   "metadata": {},
   "outputs": [],
   "source": [
    "raise ValueError()"
   ]
  },
  {
   "cell_type": "code",
   "execution_count": null,
   "id": "d69eab29",
   "metadata": {},
   "outputs": [],
   "source": [
    "distance_and_scoring_df[\"subj\"].unique()"
   ]
  },
  {
   "cell_type": "code",
   "execution_count": null,
   "id": "a7265fa1",
   "metadata": {},
   "outputs": [],
   "source": [
    "reward_comp_scoring_df[\"rc_winner\"].iloc[0]"
   ]
  },
  {
   "cell_type": "code",
   "execution_count": null,
   "id": "b711efe1",
   "metadata": {},
   "outputs": [],
   "source": [
    "rc_outcome_df = pd.read_excel(\"./data/iwata_pilot_3_reward_competition.xlsx\")"
   ]
  },
  {
   "cell_type": "code",
   "execution_count": null,
   "id": "887c637c",
   "metadata": {},
   "outputs": [],
   "source": [
    "rc_outcome_df[\"subj_1\"] = rc_outcome_df[\"Match\"].apply(lambda x: sorted([num.strip() for num in x.split(\"vs\")])[0])\n",
    "rc_outcome_df[\"subj_2\"] = rc_outcome_df[\"Match\"].apply(lambda x: sorted([num.strip() for num in x.split(\"vs\")])[1])\n",
    "rc_outcome_df[\"all_subj\"] = rc_outcome_df.apply(lambda x: tuple(sorted([x[\"subj_1\"], x[\"subj_2\"]])) , axis=1)"
   ]
  },
  {
   "cell_type": "code",
   "execution_count": null,
   "id": "03326147",
   "metadata": {},
   "outputs": [],
   "source": [
    "rc_outcome_df"
   ]
  },
  {
   "cell_type": "code",
   "execution_count": null,
   "id": "247987f4",
   "metadata": {},
   "outputs": [],
   "source": [
    "rc_outcome_df[\"subj_1\"].unique()"
   ]
  },
  {
   "cell_type": "code",
   "execution_count": null,
   "id": "d990920c",
   "metadata": {},
   "outputs": [],
   "source": [
    "rc_outcome_df[\"subj_1\"].unique()"
   ]
  },
  {
   "cell_type": "code",
   "execution_count": null,
   "id": "ac843f72",
   "metadata": {},
   "outputs": [],
   "source": [
    "raise ValueError()"
   ]
  },
  {
   "cell_type": "code",
   "execution_count": null,
   "id": "926c5664",
   "metadata": {},
   "outputs": [],
   "source": [
    "np.mean(tone_start_df[\"thorax_to_reward_port_tone_slices_subj_1\"].iloc[0], axis=0)\n"
   ]
  },
  {
   "cell_type": "code",
   "execution_count": null,
   "id": "86786814",
   "metadata": {},
   "outputs": [],
   "source": []
  },
  {
   "cell_type": "code",
   "execution_count": null,
   "id": "e347d0d8",
   "metadata": {},
   "outputs": [],
   "source": [
    "plt.plot(cd1_mean_distance)"
   ]
  },
  {
   "cell_type": "code",
   "execution_count": null,
   "id": "6fefeaec",
   "metadata": {},
   "outputs": [],
   "source": [
    "for num in tone_start_df[\"thorax_to_reward_port_tone_slices_subj_1\"]:\n",
    "    print(num.shape)"
   ]
  },
  {
   "cell_type": "code",
   "execution_count": null,
   "id": "94f476b9",
   "metadata": {},
   "outputs": [],
   "source": [
    " np.vstack([arr[start:end] for start, end in ranges])"
   ]
  },
  {
   "cell_type": "code",
   "execution_count": null,
   "id": "0c0b970f",
   "metadata": {},
   "outputs": [],
   "source": [
    "((23)**2 + (29.5)**2)**0.5"
   ]
  },
  {
   "cell_type": "code",
   "execution_count": null,
   "id": "b2104444",
   "metadata": {},
   "outputs": [],
   "source": [
    "tone_start_df[\"thorax_to_reward_port_distance_subj_1\"].iloc[0].shape"
   ]
  },
  {
   "cell_type": "code",
   "execution_count": null,
   "id": "e3bdf9a1",
   "metadata": {},
   "outputs": [],
   "source": [
    "for num in range(2):\n",
    "#     print(num)"
   ]
  },
  {
   "cell_type": "code",
   "execution_count": null,
   "id": "79e47cbb",
   "metadata": {},
   "outputs": [],
   "source": [
    "tone_start_df[\"pose_estimation_subj_2_thorax_coordinates\"].iloc[0]"
   ]
  },
  {
   "cell_type": "code",
   "execution_count": null,
   "id": "209003ae",
   "metadata": {},
   "outputs": [],
   "source": [
    "tone_start_df[\"pose_estimation_subj_1_thorax_coordinates\"] = "
   ]
  },
  {
   "cell_type": "code",
   "execution_count": null,
   "id": "df9efeaf",
   "metadata": {},
   "outputs": [],
   "source": [
    "tone_start_df[\"pose_estimation_subj_1_coordinates\"].iloc[0][:,:,1] * tone_start_df[\"height_ratio\"].iloc[0]"
   ]
  },
  {
   "cell_type": "code",
   "execution_count": null,
   "id": "ff8df550",
   "metadata": {},
   "outputs": [],
   "source": [
    "(tone_start_df[\"pose_estimation_subj_1_coordinates\"].iloc[0][:,:,1] * tone_start_df[\"height_ratio\"].iloc[0]).shape"
   ]
  },
  {
   "cell_type": "code",
   "execution_count": null,
   "id": "0340c0a0",
   "metadata": {},
   "outputs": [],
   "source": [
    "np.dstack((tone_start_df[\"pose_estimation_subj_1_coordinates\"].iloc[0][:,:,0] * tone_start_df[\"width_ratio\"].iloc[0], tone_start_df[\"pose_estimation_subj_1_coordinates\"].iloc[0][:,:,1] * tone_start_df[\"height_ratio\"].iloc[0]))"
   ]
  },
  {
   "cell_type": "code",
   "execution_count": null,
   "id": "7a935cb0",
   "metadata": {},
   "outputs": [],
   "source": [
    "tone_start_df[\"pose_estimation_subj_1_coordinates\"].iloc[0][:,:,:]"
   ]
  },
  {
   "cell_type": "markdown",
   "id": "23a499fb",
   "metadata": {},
   "source": [
    "3000: the number of frames;\n",
    "\n",
    "13: the number of nodes in the skeleton (we’ve also loaded and displayed the node_names dataset with the names of these 13 nodes);\n",
    "\n",
    "2: for the x and y coordinates;\n",
    "\n",
    "2: the number of distinct animal identities which were found (we have 2 flies in the video clip and they were tracked perfectly, so we ended up with exactly 2 track, but there may be more tracks than animals if tracking didn’t work as well)."
   ]
  },
  {
   "cell_type": "code",
   "execution_count": null,
   "id": "115576f9",
   "metadata": {},
   "outputs": [],
   "source": [
    "tone_start_df[\"pose_estimation_subj_1\"] = \n",
    "tone_start_df[\"pose_estimation_subj_1\"] = "
   ]
  },
  {
   "cell_type": "code",
   "execution_count": null,
   "id": "fe3dcd74",
   "metadata": {
    "scrolled": true
   },
   "outputs": [],
   "source": [
    "node_names"
   ]
  },
  {
   "cell_type": "code",
   "execution_count": null,
   "id": "592f5fd0",
   "metadata": {},
   "outputs": [],
   "source": [
    "tone_start_df[\"pose_estimation_file\"].apply(lambda x: get_sleap_coordinates(x)[0][0,index,:,0])"
   ]
  },
  {
   "cell_type": "code",
   "execution_count": null,
   "id": "06a87ac9",
   "metadata": {},
   "outputs": [],
   "source": [
    "for index, node in enumerate(corner_node_names):\n",
    "    tone_start_df[\"{}_coordinates\".format(node)] = tone_start_df[\"pose_estimation_file\"].apply(lambda x: get_sleap_coordinates(x)[0][0,index,:,0])"
   ]
  },
  {
   "cell_type": "markdown",
   "id": "e15ad970",
   "metadata": {},
   "source": [
    "# Calculate Distance from Thorax to Reward Port"
   ]
  },
  {
   "cell_type": "code",
   "execution_count": null,
   "id": "ef6ef187",
   "metadata": {},
   "outputs": [],
   "source": [
    "for index, node in enumerate(corner_node_names):\n",
    "    tone_start_df[\"{}_coordinates\".format(node)] = tone_start_df[\"corner_file\"].apply(lambda x: get_sleap_coordinates(x)[0][0,index,:,0])"
   ]
  },
  {
   "cell_type": "code",
   "execution_count": null,
   "id": "e45d83a9",
   "metadata": {},
   "outputs": [],
   "source": [
    "raise ValueError()"
   ]
  },
  {
   "cell_type": "markdown",
   "id": "c09e51a9",
   "metadata": {},
   "source": [
    "- Calculating Horizontal and Vertical Distances"
   ]
  },
  {
   "cell_type": "code",
   "execution_count": null,
   "id": "8a1e1d34",
   "metadata": {},
   "outputs": [],
   "source": [
    "tone_start_df[\"horizontal_length\"] = tone_start_df.apply(lambda row: row[\"box_bottom_left_coordinates\"][])"
   ]
  },
  {
   "cell_type": "code",
   "execution_count": null,
   "id": "b76f1729",
   "metadata": {},
   "outputs": [],
   "source": [
    "filename = all_corner_h5[0]"
   ]
  },
  {
   "cell_type": "code",
   "execution_count": null,
   "id": "b9e17c1d",
   "metadata": {},
   "outputs": [],
   "source": [
    "\n",
    "with h5py.File(filename, \"r\") as f:\n",
    "    dset_names = list(f.keys())\n",
    "    locations = f[\"tracks\"][:].T\n",
    "    node_names = [n.decode() for n in f[\"node_names\"][:]]\n",
    "\n",
    "print(\"===filename===\")\n",
    "print(filename)\n",
    "print()\n",
    "\n",
    "print(\"===HDF5 datasets===\")\n",
    "print(dset_names)\n",
    "print()\n",
    "\n",
    "print(\"===locations data shape===\")\n",
    "print(locations.shape)\n",
    "print()\n",
    "\n",
    "print(\"===nodes===\")\n",
    "for i, name in enumerate(node_names):\n",
    "    print(f\"{i}: {name}\")\n",
    "print()"
   ]
  },
  {
   "cell_type": "code",
   "execution_count": null,
   "id": "5ce83b7e",
   "metadata": {},
   "outputs": [],
   "source": [
    "locations[0,1,0,0]"
   ]
  },
  {
   "cell_type": "code",
   "execution_count": null,
   "id": "859c6d16",
   "metadata": {},
   "outputs": [],
   "source": [
    "locations[0,1,1,0]"
   ]
  },
  {
   "cell_type": "code",
   "execution_count": null,
   "id": "539c78c3",
   "metadata": {
    "tags": []
   },
   "outputs": [],
   "source": [
    "for index, row in tone_start_df.iterrows():\n",
    "    print(row[\"corner_file\"])\n",
    "    "
   ]
  }
 ],
 "metadata": {
  "kernelspec": {
   "display_name": "Python 3 (ipykernel)",
   "language": "python",
   "name": "python3"
  },
  "language_info": {
   "codemirror_mode": {
    "name": "ipython",
    "version": 3
   },
   "file_extension": ".py",
   "mimetype": "text/x-python",
   "name": "python",
   "nbconvert_exporter": "python",
   "pygments_lexer": "ipython3",
   "version": "3.9.16"
  }
 },
 "nbformat": 4,
 "nbformat_minor": 5
}
