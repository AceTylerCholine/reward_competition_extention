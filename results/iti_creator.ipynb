{
 "cells": [
  {
   "cell_type": "code",
   "execution_count": 1,
   "id": "073810d8",
   "metadata": {},
   "outputs": [],
   "source": [
    "import random\n",
    "\n"
   ]
  },
  {
   "cell_type": "code",
   "execution_count": 27,
   "id": "87e5266e",
   "metadata": {},
   "outputs": [],
   "source": [
    "random_numbers = [random.randrange(60, 120, 5) for _ in range(40)]"
   ]
  },
  {
   "cell_type": "code",
   "execution_count": 28,
   "id": "608fec92",
   "metadata": {},
   "outputs": [
    {
     "data": {
      "text/plain": [
       "[75,\n",
       " 65,\n",
       " 75,\n",
       " 85,\n",
       " 75,\n",
       " 60,\n",
       " 110,\n",
       " 105,\n",
       " 115,\n",
       " 110,\n",
       " 105,\n",
       " 85,\n",
       " 110,\n",
       " 60,\n",
       " 95,\n",
       " 95,\n",
       " 80,\n",
       " 90,\n",
       " 105,\n",
       " 85,\n",
       " 90,\n",
       " 70,\n",
       " 60,\n",
       " 60,\n",
       " 90,\n",
       " 95,\n",
       " 70,\n",
       " 65,\n",
       " 105,\n",
       " 75,\n",
       " 80,\n",
       " 60,\n",
       " 90,\n",
       " 95,\n",
       " 90,\n",
       " 85,\n",
       " 110,\n",
       " 110,\n",
       " 105,\n",
       " 95]"
      ]
     },
     "execution_count": 28,
     "metadata": {},
     "output_type": "execute_result"
    }
   ],
   "source": [
    "random_numbers"
   ]
  },
  {
   "cell_type": "code",
   "execution_count": 29,
   "id": "1e041ddc",
   "metadata": {},
   "outputs": [
    {
     "data": {
      "text/plain": [
       "3485"
      ]
     },
     "execution_count": 29,
     "metadata": {},
     "output_type": "execute_result"
    }
   ],
   "source": [
    "sum(random_numbers)"
   ]
  },
  {
   "cell_type": "code",
   "execution_count": 30,
   "id": "83cf94ef",
   "metadata": {},
   "outputs": [
    {
     "name": "stdout",
     "output_type": "stream",
     "text": [
      "[45, 90, 5, 0, 85, 70, 25, 5, 25, 70, 40, 30]\n"
     ]
    }
   ],
   "source": [
    "# Set your target sum and tolerance\n",
    "target_sum = 500\n",
    "tolerance = 10\n",
    "\n",
    "random_numbers = []\n",
    "while True:\n",
    "    # Generate a random number that is a multiple of 5\n",
    "    random_number = random.randrange(60, 120, 5) for _ \n",
    "    # If adding this number doesn't push the sum out of the desired range, add it\n",
    "    if sum(random_numbers) + random_number <= target_sum + tolerance:\n",
    "        random_numbers.append(random_number)\n",
    "    # If the sum is within the desired range, stop\n",
    "    if target_sum - tolerance <= sum(random_numbers) <= target_sum + tolerance:\n",
    "        break\n",
    "\n",
    "print(random_numbers)"
   ]
  },
  {
   "cell_type": "code",
   "execution_count": 105,
   "id": "68133af6",
   "metadata": {},
   "outputs": [],
   "source": [
    "total_length = 3600"
   ]
  },
  {
   "cell_type": "code",
   "execution_count": 127,
   "id": "9f140e4a",
   "metadata": {},
   "outputs": [
    {
     "data": {
      "text/plain": [
       "1500"
      ]
     },
     "execution_count": 127,
     "metadata": {},
     "output_type": "execute_result"
    }
   ],
   "source": [
    "25 * 60"
   ]
  },
  {
   "cell_type": "code",
   "execution_count": 122,
   "id": "5ada784c",
   "metadata": {},
   "outputs": [],
   "source": [
    "total_length = 25 * 60\n",
    "min_range = 50\n",
    "max_range = 125\n",
    "step = 5\n",
    "total_iti_count = 20"
   ]
  },
  {
   "cell_type": "code",
   "execution_count": 128,
   "id": "87f37cb3",
   "metadata": {},
   "outputs": [],
   "source": [
    "def get_random_itis(total_length=1500, min_range=50, max_range=125, step=5, total_iti_count=20):\n",
    "    \"\"\"\n",
    "    \"\"\"\n",
    "    random_numbers = [random.randrange(min_range, max_range, step) for _ in range(total_iti_count)]\n",
    "    while sum(random_numbers) != total_length:\n",
    "        random_numbers = [random.randrange(min_range, max_range, step) for _ in range(total_iti_count)]\n",
    "    return random_numbers"
   ]
  },
  {
   "cell_type": "code",
   "execution_count": 157,
   "id": "9f7d3b84",
   "metadata": {},
   "outputs": [],
   "source": [
    "first_half = get_random_itis(total_iti_count=19)\n",
    "second_half = get_random_itis(total_iti_count=19)"
   ]
  },
  {
   "cell_type": "code",
   "execution_count": 158,
   "id": "d0c15586",
   "metadata": {},
   "outputs": [
    {
     "data": {
      "text/plain": [
       "1500"
      ]
     },
     "execution_count": 158,
     "metadata": {},
     "output_type": "execute_result"
    }
   ],
   "source": [
    "sum(first_half)"
   ]
  },
  {
   "cell_type": "code",
   "execution_count": 159,
   "id": "95aad9e7",
   "metadata": {},
   "outputs": [
    {
     "data": {
      "text/plain": [
       "1500"
      ]
     },
     "execution_count": 159,
     "metadata": {},
     "output_type": "execute_result"
    }
   ],
   "source": [
    "sum(second_half)"
   ]
  },
  {
   "cell_type": "code",
   "execution_count": 167,
   "id": "62725c28",
   "metadata": {},
   "outputs": [
    {
     "data": {
      "text/plain": [
       "19"
      ]
     },
     "execution_count": 167,
     "metadata": {},
     "output_type": "execute_result"
    }
   ],
   "source": [
    "len(first_half)"
   ]
  },
  {
   "cell_type": "code",
   "execution_count": 161,
   "id": "93cb94d5",
   "metadata": {},
   "outputs": [
    {
     "data": {
      "text/plain": [
       "[120,\n",
       " 115,\n",
       " 90,\n",
       " 55,\n",
       " 50,\n",
       " 95,\n",
       " 75,\n",
       " 105,\n",
       " 50,\n",
       " 80,\n",
       " 65,\n",
       " 65,\n",
       " 50,\n",
       " 70,\n",
       " 95,\n",
       " 80,\n",
       " 70,\n",
       " 110,\n",
       " 60]"
      ]
     },
     "execution_count": 161,
     "metadata": {},
     "output_type": "execute_result"
    }
   ],
   "source": [
    "first_half"
   ]
  },
  {
   "cell_type": "code",
   "execution_count": 162,
   "id": "0458865c",
   "metadata": {},
   "outputs": [
    {
     "data": {
      "text/plain": [
       "[60,\n",
       " 55,\n",
       " 65,\n",
       " 55,\n",
       " 50,\n",
       " 50,\n",
       " 105,\n",
       " 120,\n",
       " 120,\n",
       " 110,\n",
       " 85,\n",
       " 120,\n",
       " 60,\n",
       " 65,\n",
       " 60,\n",
       " 75,\n",
       " 100,\n",
       " 95,\n",
       " 50]"
      ]
     },
     "execution_count": 162,
     "metadata": {},
     "output_type": "execute_result"
    }
   ],
   "source": [
    "second_half"
   ]
  },
  {
   "cell_type": "code",
   "execution_count": 163,
   "id": "bde3c25d",
   "metadata": {},
   "outputs": [],
   "source": [
    "all_itis = first_half + [300] + second_half "
   ]
  },
  {
   "cell_type": "code",
   "execution_count": 164,
   "id": "a73657d8",
   "metadata": {},
   "outputs": [
    {
     "data": {
      "text/plain": [
       "3300"
      ]
     },
     "execution_count": 164,
     "metadata": {},
     "output_type": "execute_result"
    }
   ],
   "source": [
    "sum(all_itis)"
   ]
  },
  {
   "cell_type": "code",
   "execution_count": 165,
   "id": "0b68871a",
   "metadata": {},
   "outputs": [
    {
     "data": {
      "text/plain": [
       "55.0"
      ]
     },
     "execution_count": 165,
     "metadata": {},
     "output_type": "execute_result"
    }
   ],
   "source": [
    "3300/60"
   ]
  },
  {
   "cell_type": "code",
   "execution_count": 166,
   "id": "bf072c67",
   "metadata": {},
   "outputs": [
    {
     "data": {
      "text/plain": [
       "'120\", 115\", 90\", 55\", 50\", 95\", 75\", 105\", 50\", 80\", 65\", 65\", 50\", 70\", 95\", 80\", 70\", 110\", 60\", 300\", 60\", 55\", 65\", 55\", 50\", 50\", 105\", 120\", 120\", 110\", 85\", 120\", 60\", 65\", 60\", 75\", 100\", 95\", 50\",'"
      ]
     },
     "execution_count": 166,
     "metadata": {},
     "output_type": "execute_result"
    }
   ],
   "source": [
    "\" \".join(['{}\",'.format(num) for num in all_itis])"
   ]
  },
  {
   "cell_type": "code",
   "execution_count": 168,
   "id": "e849d425",
   "metadata": {},
   "outputs": [
    {
     "data": {
      "text/plain": [
       "39"
      ]
     },
     "execution_count": 168,
     "metadata": {},
     "output_type": "execute_result"
    }
   ],
   "source": [
    "len(all_itis)"
   ]
  },
  {
   "cell_type": "code",
   "execution_count": null,
   "id": "a55755dd",
   "metadata": {},
   "outputs": [],
   "source": []
  }
 ],
 "metadata": {
  "kernelspec": {
   "display_name": "Python 3 (ipykernel)",
   "language": "python",
   "name": "python3"
  },
  "language_info": {
   "codemirror_mode": {
    "name": "ipython",
    "version": 3
   },
   "file_extension": ".py",
   "mimetype": "text/x-python",
   "name": "python",
   "nbconvert_exporter": "python",
   "pygments_lexer": "ipython3",
   "version": "3.9.16"
  }
 },
 "nbformat": 4,
 "nbformat_minor": 5
}
