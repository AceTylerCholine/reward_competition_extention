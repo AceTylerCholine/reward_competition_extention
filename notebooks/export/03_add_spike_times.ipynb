{
 "cells": [
  {
   "cell_type": "markdown",
   "metadata": {
    "cell_id": "c3a02adc9e884466bc8c79db549cc3d2",
    "deepnote_cell_type": "text-cell-h1",
    "formattedRanges": [
     {
      "fromCodePoint": 0,
      "marks": {
       "bold": true,
       "underline": true
      },
      "toCodePoint": 17,
      "type": "marks"
     }
    ]
   },
   "source": [
    "# Spike Train Calculation"
   ]
  },
  {
   "cell_type": "markdown",
   "metadata": {
    "cell_id": "4546bee655b14a5dbf393161f1228e60",
    "deepnote_cell_type": "text-cell-p",
    "formattedRanges": []
   },
   "source": [
    "Brief 1-2 sentence description of notebook."
   ]
  },
  {
   "cell_type": "code",
   "execution_count": 1,
   "metadata": {},
   "outputs": [],
   "source": [
    "import os\n",
    "import glob\n",
    "import git\n",
    "import sys\n"
   ]
  },
  {
   "cell_type": "code",
   "execution_count": 2,
   "metadata": {
    "cell_id": "03b495cefa6a4798a44c7f2e4c6a3ea7",
    "deepnote_cell_type": "code",
    "deepnote_to_be_reexecuted": false,
    "execution_millis": 21,
    "execution_start": 1691424003626,
    "source_hash": null
   },
   "outputs": [],
   "source": [
    "# Imports of all used packages and libraries\n",
    "import numpy as np\n",
    "import pandas as pd\n",
    "# import seaborn as sns\n",
    "import matplotlib as mpl\n",
    "import matplotlib.pyplot as plt\n",
    "import h5py\n",
    "from scipy.interpolate import interp1d\n",
    "from scipy.signal import savgol_filter\n"
   ]
  },
  {
   "cell_type": "code",
   "execution_count": 3,
   "metadata": {},
   "outputs": [],
   "source": [
    "git_repo = git.Repo(\".\", search_parent_directories=True)\n",
    "git_root = git_repo.git.rev_parse(\"--show-toplevel\")"
   ]
  },
  {
   "cell_type": "code",
   "execution_count": 4,
   "metadata": {},
   "outputs": [
    {
     "data": {
      "text/plain": [
       "'/nancy/projects/reward_competition_extention'"
      ]
     },
     "execution_count": 4,
     "metadata": {},
     "output_type": "execute_result"
    }
   ],
   "source": [
    "git_root"
   ]
  },
  {
   "cell_type": "code",
   "execution_count": 5,
   "metadata": {},
   "outputs": [],
   "source": [
    "sys.path.insert(0, os.path.join(git_root, 'src'))"
   ]
  },
  {
   "cell_type": "code",
   "execution_count": 6,
   "metadata": {},
   "outputs": [],
   "source": [
    "import utilities.helper"
   ]
  },
  {
   "cell_type": "code",
   "execution_count": 7,
   "metadata": {},
   "outputs": [],
   "source": [
    "# sns.set('notebook', 'ticks', font_scale=1.2)\n",
    "mpl.rcParams['figure.figsize'] = [15,6]"
   ]
  },
  {
   "cell_type": "markdown",
   "metadata": {},
   "source": [
    "## Functions"
   ]
  },
  {
   "cell_type": "code",
   "execution_count": 41,
   "metadata": {},
   "outputs": [],
   "source": [
    "def calculate_rolling_avg_firing_rate(firing_times, window_size=2000, slide=2000, stop_time=None):\n",
    "    \"\"\"\n",
    "    Calculates the rolling average firing rate of a neuron.\n",
    "\n",
    "    Parameters:\n",
    "    - firing_times (numpy.ndarray): An array of firing times of a neuron.\n",
    "    - window_size (int or float): The size of the window for calculating the average firing rate.\n",
    "    - slide (int or float): The amount to slide the window for each calculation.\n",
    "    - stop_time (int or float, optional): The timestamp to stop the calculation at. If None, the calculation goes until the end of the firing times.\n",
    "\n",
    "    Returns:\n",
    "    - tuple: Two numpy.ndarrays, the rolling average firing rates and the starting timestamps of each window.\n",
    "    \"\"\"\n",
    "    # Initialize lists to store the results\n",
    "    avg_firing_rates = []\n",
    "    window_starts = []\n",
    "\n",
    "    # If no stop_time is provided, use the last firing time\n",
    "    if stop_time is None:\n",
    "        stop_time = firing_times[-1]\n",
    "\n",
    "    # Calculate the number of windows\n",
    "    num_windows = int((stop_time - window_size) / slide) + 1\n",
    "\n",
    "    # Loop over each window\n",
    "    for i in range(num_windows):\n",
    "        # Calculate the start and end of the window\n",
    "        start = i * slide\n",
    "        end = start + window_size\n",
    "\n",
    "        # Calculate the average firing rate for this window\n",
    "        firing_rate = np.sum((firing_times >= start) & (firing_times < end)) / window_size\n",
    "\n",
    "        # Store the results\n",
    "        avg_firing_rates.append(firing_rate)\n",
    "        window_starts.append(start)\n",
    "\n",
    "    return np.array(avg_firing_rates), np.array(window_starts)"
   ]
  },
  {
   "cell_type": "markdown",
   "metadata": {
    "cell_id": "d290bac2c17940bfbc0f9296beaf70e5",
    "deepnote_cell_type": "text-cell-h2",
    "formattedRanges": []
   },
   "source": [
    "## Inputs & Data"
   ]
  },
  {
   "cell_type": "markdown",
   "metadata": {
    "cell_id": "e528ce19c608425292151930d380f49f",
    "deepnote_cell_type": "text-cell-p",
    "formattedRanges": []
   },
   "source": [
    "Explanation of each input and where it comes from."
   ]
  },
  {
   "cell_type": "code",
   "execution_count": 8,
   "metadata": {
    "cell_id": "6cf83a5811054461a718a71673d09aab",
    "deepnote_cell_type": "code",
    "deepnote_to_be_reexecuted": false,
    "execution_millis": 373,
    "execution_start": 1691424003628,
    "source_hash": null
   },
   "outputs": [],
   "source": [
    "# Inputs and Required data loading\n",
    "# input varaible names are in all caps snake case\n",
    "# Whenever an input changes or is used for processing \n",
    "# the vairables are all lower in snake case\n",
    "\n",
    "VIDEO_TO_FRAME_AND_SUBJECT_DF = pd.read_pickle(os.path.join(git_root, \"notebooks/export/proc/rce_pilot_2_full_lfp_traces_and_sleap_poses.pkl\"))\n",
    "\n",
    "ALL_PHY_DIR = glob.glob(\"/scratch/back_up/reward_competition_extention/final_proc/phy_curation/*\")\n",
    "\n",
    "OUTPUT_DIR = r\"./proc\" # where data is saved should always be shown in the inputs\n",
    "\n",
    "SAMPLING_RATE = 20000"
   ]
  },
  {
   "cell_type": "code",
   "execution_count": 9,
   "metadata": {},
   "outputs": [
    {
     "data": {
      "text/html": [
       "<div>\n",
       "<style scoped>\n",
       "    .dataframe tbody tr th:only-of-type {\n",
       "        vertical-align: middle;\n",
       "    }\n",
       "\n",
       "    .dataframe tbody tr th {\n",
       "        vertical-align: top;\n",
       "    }\n",
       "\n",
       "    .dataframe thead th {\n",
       "        text-align: right;\n",
       "    }\n",
       "</style>\n",
       "<table border=\"1\" class=\"dataframe\">\n",
       "  <thead>\n",
       "    <tr style=\"text-align: right;\">\n",
       "      <th></th>\n",
       "      <th>agent</th>\n",
       "      <th>cohort</th>\n",
       "      <th>session_dir</th>\n",
       "      <th>sleap_filename</th>\n",
       "      <th>sleap_fileroot</th>\n",
       "      <th>start_stop_frame</th>\n",
       "      <th>tone_frames</th>\n",
       "      <th>port_entry_frames</th>\n",
       "      <th>box_top_left</th>\n",
       "      <th>box_bottom_left</th>\n",
       "      <th>...</th>\n",
       "      <th>tone_timestamps</th>\n",
       "      <th>port_entry_timestamps</th>\n",
       "      <th>start_stop_timestamps</th>\n",
       "      <th>filtered_lfp_timestamps</th>\n",
       "      <th>filtered_video_timestamps</th>\n",
       "      <th>filtered_mpfc_trace</th>\n",
       "      <th>filtered_vhpc_trace</th>\n",
       "      <th>filtered_bla_trace</th>\n",
       "      <th>filtered_lh_trace</th>\n",
       "      <th>filtered_md_trace</th>\n",
       "    </tr>\n",
       "  </thead>\n",
       "  <tbody>\n",
       "    <tr>\n",
       "      <th>0</th>\n",
       "      <td>1.2</td>\n",
       "      <td>2</td>\n",
       "      <td>20230617_115521_standard_comp_to_omission_D1_s...</td>\n",
       "      <td>20230617_115521_standard_comp_to_omission_D1_s...</td>\n",
       "      <td>20230617_115521_standard_comp_to_omission_D1_s...</td>\n",
       "      <td>(1, 39500)</td>\n",
       "      <td>[[1029, 1229], [3425, 3624], [5721, 5920], [75...</td>\n",
       "      <td>[[102, 105], [110, 148], [193, 199], [200, 202...</td>\n",
       "      <td>[29.623370221193532, 10.85380707317621]</td>\n",
       "      <td>[30.23007505102494, 34.598706975722735]</td>\n",
       "      <td>...</td>\n",
       "      <td>[[1030879, 1230878], [3430878, 3630878], [5730...</td>\n",
       "      <td>[[102478, 104881], [110481, 147879], [193083, ...</td>\n",
       "      <td>(1384, 39574889)</td>\n",
       "      <td>[1400, 1420, 1440, 1460, 1480, 1500, 1520, 154...</td>\n",
       "      <td>[1384, 1500, 2770, 4156, 5542, 5542, 6927, 831...</td>\n",
       "      <td>[0.015505511, 0.62215865, 1.1086441, 1.3373504...</td>\n",
       "      <td>[-1.3505517, -0.8568693, -0.33960325, 0.141501...</td>\n",
       "      <td>[-1.7142574, -1.1298128, -0.101937994, 0.48760...</td>\n",
       "      <td>[-2.3216858, -1.907385, -1.5471234, -1.4290377...</td>\n",
       "      <td>[-2.3028033, -2.0405018, -1.7475417, -1.429032...</td>\n",
       "    </tr>\n",
       "    <tr>\n",
       "      <th>1</th>\n",
       "      <td>1.1</td>\n",
       "      <td>2</td>\n",
       "      <td>20230617_115521_standard_comp_to_omission_D1_s...</td>\n",
       "      <td>20230617_115521_standard_comp_to_omission_D1_s...</td>\n",
       "      <td>20230617_115521_standard_comp_to_omission_D1_s...</td>\n",
       "      <td>(1, 39500)</td>\n",
       "      <td>[[1029, 1229], [3425, 3624], [5721, 5920], [75...</td>\n",
       "      <td>[[102, 105], [110, 148], [193, 199], [200, 202...</td>\n",
       "      <td>[29.623370221193532, 10.85380707317621]</td>\n",
       "      <td>[30.23007505102494, 34.598706975722735]</td>\n",
       "      <td>...</td>\n",
       "      <td>[[1030879, 1230878], [3430878, 3630878], [5730...</td>\n",
       "      <td>[[102478, 104881], [110481, 147879], [193083, ...</td>\n",
       "      <td>(1384, 39574889)</td>\n",
       "      <td>[1400, 1420, 1440, 1460, 1480, 1500, 1520, 154...</td>\n",
       "      <td>[1384, 1500, 2770, 4156, 5542, 5542, 6927, 831...</td>\n",
       "      <td>[0.6574679, 0.11276958, -0.3659692, -0.3723524...</td>\n",
       "      <td>[0.7847764, 0.6408233, 0.48410022, 0.30299798,...</td>\n",
       "      <td>[0.5454766, 0.5454766, 0.5228427, 0.518316, 0....</td>\n",
       "      <td>[0.19785033, -0.25780496, -0.2787891, 0.119909...</td>\n",
       "      <td>[-0.62384546, -0.897785, -1.1164762, -0.982959...</td>\n",
       "    </tr>\n",
       "    <tr>\n",
       "      <th>2</th>\n",
       "      <td>1.4</td>\n",
       "      <td>2</td>\n",
       "      <td>20230618_100636_standard_comp_to_omission_D2_s...</td>\n",
       "      <td>20230618_100636_standard_comp_to_omission_D2_s...</td>\n",
       "      <td>20230618_100636_standard_comp_to_omission_D2_s...</td>\n",
       "      <td>(1, 32316)</td>\n",
       "      <td>[[1098, 1297], [3492, 3693], [5788, 5988], [75...</td>\n",
       "      <td>[[788, 835], [838, 839], [839, 871], [871, 900...</td>\n",
       "      <td>[28.94954695212123, 11.559275766924861]</td>\n",
       "      <td>[29.794023445649177, 35.275466614423074]</td>\n",
       "      <td>...</td>\n",
       "      <td>[[1099250, 1299250], [3499256, 3699252], [5799...</td>\n",
       "      <td>[[788852, 836852], [838652, 840050], [840652, ...</td>\n",
       "      <td>(1384, 32376683)</td>\n",
       "      <td>[1400, 1420, 1440, 1460, 1480, 1500, 1520, 154...</td>\n",
       "      <td>[1384, 2770, 2770, 4155, 5541, 6927, 6927, 831...</td>\n",
       "      <td>[0.31349525, 0.40279388, 0.41229373, 0.3039953...</td>\n",
       "      <td>[0.35449925, 0.8595823, 1.0148718, 0.86899376,...</td>\n",
       "      <td>[0.6661627, 0.8376996, 0.9243008, 1.0025749, 0...</td>\n",
       "      <td>[0.6916378, 0.96981716, 0.9088464, 0.7583246, ...</td>\n",
       "      <td>[0.3162679, 0.49376523, 0.4066302, 0.13715701,...</td>\n",
       "    </tr>\n",
       "    <tr>\n",
       "      <th>3</th>\n",
       "      <td>1.1</td>\n",
       "      <td>2</td>\n",
       "      <td>20230618_100636_standard_comp_to_omission_D2_s...</td>\n",
       "      <td>20230618_100636_standard_comp_to_omission_D2_s...</td>\n",
       "      <td>20230618_100636_standard_comp_to_omission_D2_s...</td>\n",
       "      <td>(1, 32316)</td>\n",
       "      <td>[[1098, 1297], [3492, 3693], [5788, 5988], [75...</td>\n",
       "      <td>[[788, 835], [838, 839], [839, 871], [871, 900...</td>\n",
       "      <td>[28.94954695212123, 11.559275766924861]</td>\n",
       "      <td>[29.794023445649177, 35.275466614423074]</td>\n",
       "      <td>...</td>\n",
       "      <td>[[1099250, 1299250], [3499256, 3699252], [5799...</td>\n",
       "      <td>[[788852, 836852], [838652, 840050], [840652, ...</td>\n",
       "      <td>(1384, 32376683)</td>\n",
       "      <td>[1400, 1420, 1440, 1460, 1480, 1500, 1520, 154...</td>\n",
       "      <td>[1384, 2770, 2770, 4155, 5541, 6927, 6927, 831...</td>\n",
       "      <td>[1.8754106, 0.06580388, -1.1351169, 0.23031357...</td>\n",
       "      <td>[2.2451546, 1.6649991, 1.3395461, 1.8442342, 1...</td>\n",
       "      <td>[2.131642, 1.495331, 1.0403687, 1.6066855, 1.8...</td>\n",
       "      <td>[0.6786791, -0.12149195, -0.31839266, 0.494346...</td>\n",
       "      <td>[0.7159058, -0.05324919, -0.6389903, 0.0, 0.44...</td>\n",
       "    </tr>\n",
       "    <tr>\n",
       "      <th>4</th>\n",
       "      <td>1.2</td>\n",
       "      <td>2</td>\n",
       "      <td>20230620_114347_standard_comp_to_omission_D4_s...</td>\n",
       "      <td>20230620_114347_standard_comp_to_omission_D4_s...</td>\n",
       "      <td>20230620_114347_standard_comp_to_omission_D4_s...</td>\n",
       "      <td>(2027, 32239)</td>\n",
       "      <td>[[1058, 1265], [3460, 3659], [5756, 5955], [75...</td>\n",
       "      <td>[[6, 29], [32, 40], [168, 183], [197, 218], [3...</td>\n",
       "      <td>[28.726306016601946, 10.842459364362139]</td>\n",
       "      <td>[30.091010784999508, 34.98257973535351]</td>\n",
       "      <td>...</td>\n",
       "      <td>[[1057255, 1257260], [3457285, 3657287], [5757...</td>\n",
       "      <td>[[6242, 30447], [32245, 40242], [169046, 18424...</td>\n",
       "      <td>(2021982, 32290759)</td>\n",
       "      <td>[2022000, 2022020, 2022040, 2022060, 2022080, ...</td>\n",
       "      <td>[2021982, 2023278, 2023368, 2024753, 2026139, ...</td>\n",
       "      <td>[0.96733546, 0.90309834, 0.82374656, 0.7462842...</td>\n",
       "      <td>[-0.43027794, -0.39102963, -0.3735859, -0.4099...</td>\n",
       "      <td>[1.2360266, 1.2037544, 1.0714383, 0.677717, 0....</td>\n",
       "      <td>[0.49828878, 0.45471218, 0.39976782, 0.2576702...</td>\n",
       "      <td>[0.5827334, 0.48292822, 0.37990353, 0.31873262...</td>\n",
       "    </tr>\n",
       "    <tr>\n",
       "      <th>5</th>\n",
       "      <td>1.1</td>\n",
       "      <td>2</td>\n",
       "      <td>20230620_114347_standard_comp_to_omission_D4_s...</td>\n",
       "      <td>20230620_114347_standard_comp_to_omission_D4_s...</td>\n",
       "      <td>20230620_114347_standard_comp_to_omission_D4_s...</td>\n",
       "      <td>(2027, 32239)</td>\n",
       "      <td>[[1058, 1265], [3460, 3659], [5756, 5955], [75...</td>\n",
       "      <td>[[6, 29], [32, 40], [168, 183], [197, 218], [3...</td>\n",
       "      <td>[28.726306016601946, 10.842459364362139]</td>\n",
       "      <td>[30.091010784999508, 34.98257973535351]</td>\n",
       "      <td>...</td>\n",
       "      <td>[[1057255, 1257260], [3457285, 3657287], [5757...</td>\n",
       "      <td>[[6242, 30447], [32245, 40242], [169046, 18424...</td>\n",
       "      <td>(2021982, 32290759)</td>\n",
       "      <td>[2022000, 2022020, 2022040, 2022060, 2022080, ...</td>\n",
       "      <td>[2021982, 2023278, 2023368, 2024753, 2026139, ...</td>\n",
       "      <td>[-0.5461191, -0.6570836, -0.6788413, -0.948637...</td>\n",
       "      <td>[0.70498204, 0.87817836, 1.0172232, 0.93916297...</td>\n",
       "      <td>[-1.1168182, -0.9848528, -1.0435041, -1.314766...</td>\n",
       "      <td>[-0.9343849, -0.7208996, -0.73327553, -1.08289...</td>\n",
       "      <td>[-1.0043497, -0.92557716, -1.0092729, -1.51144...</td>\n",
       "    </tr>\n",
       "    <tr>\n",
       "      <th>6</th>\n",
       "      <td>1.2</td>\n",
       "      <td>2</td>\n",
       "      <td>20230621_111240_standard_comp_to_omission_D5_s...</td>\n",
       "      <td>20230621_111240_standard_comp_to_omission_D5_s...</td>\n",
       "      <td>20230621_111240_standard_comp_to_omission_D5_s...</td>\n",
       "      <td>(1, 33500)</td>\n",
       "      <td>[[477, 1286], [2484, 2683], [4880, 5079], [717...</td>\n",
       "      <td>[[223, 250], [252, 254], [257, 257], [258, 297...</td>\n",
       "      <td>[29.368871804533384, 11.233148401733333]</td>\n",
       "      <td>[30.292670448640752, 35.366774292703255]</td>\n",
       "      <td>...</td>\n",
       "      <td>[[478042, 1287653], [2488068, 2688073], [48880...</td>\n",
       "      <td>[[223038, 250239], [251039, 253641], [256439, ...</td>\n",
       "      <td>(1384, 33562987)</td>\n",
       "      <td>[1400, 1420, 1440, 1460, 1480, 1500, 1520, 154...</td>\n",
       "      <td>[1384, 1384, 2770, 4156, 5541, 5541, 6927, 831...</td>\n",
       "      <td>[-0.31740695, -0.28688705, -0.49137035, 0.1098...</td>\n",
       "      <td>[-1.1510314, -1.6666739, -1.9574865, -1.901279...</td>\n",
       "      <td>[-0.77811754, -1.3635237, -1.4598794, -1.17626...</td>\n",
       "      <td>[0.01645097, -0.32243901, -0.60868585, -0.4737...</td>\n",
       "      <td>[-0.19407488, -0.27361378, -0.39769444, -0.330...</td>\n",
       "    </tr>\n",
       "  </tbody>\n",
       "</table>\n",
       "<p>7 rows × 36 columns</p>\n",
       "</div>"
      ],
      "text/plain": [
       "  agent  cohort                                        session_dir  \\\n",
       "0   1.2       2  20230617_115521_standard_comp_to_omission_D1_s...   \n",
       "1   1.1       2  20230617_115521_standard_comp_to_omission_D1_s...   \n",
       "2   1.4       2  20230618_100636_standard_comp_to_omission_D2_s...   \n",
       "3   1.1       2  20230618_100636_standard_comp_to_omission_D2_s...   \n",
       "4   1.2       2  20230620_114347_standard_comp_to_omission_D4_s...   \n",
       "5   1.1       2  20230620_114347_standard_comp_to_omission_D4_s...   \n",
       "6   1.2       2  20230621_111240_standard_comp_to_omission_D5_s...   \n",
       "\n",
       "                                      sleap_filename  \\\n",
       "0  20230617_115521_standard_comp_to_omission_D1_s...   \n",
       "1  20230617_115521_standard_comp_to_omission_D1_s...   \n",
       "2  20230618_100636_standard_comp_to_omission_D2_s...   \n",
       "3  20230618_100636_standard_comp_to_omission_D2_s...   \n",
       "4  20230620_114347_standard_comp_to_omission_D4_s...   \n",
       "5  20230620_114347_standard_comp_to_omission_D4_s...   \n",
       "6  20230621_111240_standard_comp_to_omission_D5_s...   \n",
       "\n",
       "                                      sleap_fileroot start_stop_frame  \\\n",
       "0  20230617_115521_standard_comp_to_omission_D1_s...       (1, 39500)   \n",
       "1  20230617_115521_standard_comp_to_omission_D1_s...       (1, 39500)   \n",
       "2  20230618_100636_standard_comp_to_omission_D2_s...       (1, 32316)   \n",
       "3  20230618_100636_standard_comp_to_omission_D2_s...       (1, 32316)   \n",
       "4  20230620_114347_standard_comp_to_omission_D4_s...    (2027, 32239)   \n",
       "5  20230620_114347_standard_comp_to_omission_D4_s...    (2027, 32239)   \n",
       "6  20230621_111240_standard_comp_to_omission_D5_s...       (1, 33500)   \n",
       "\n",
       "                                         tone_frames  \\\n",
       "0  [[1029, 1229], [3425, 3624], [5721, 5920], [75...   \n",
       "1  [[1029, 1229], [3425, 3624], [5721, 5920], [75...   \n",
       "2  [[1098, 1297], [3492, 3693], [5788, 5988], [75...   \n",
       "3  [[1098, 1297], [3492, 3693], [5788, 5988], [75...   \n",
       "4  [[1058, 1265], [3460, 3659], [5756, 5955], [75...   \n",
       "5  [[1058, 1265], [3460, 3659], [5756, 5955], [75...   \n",
       "6  [[477, 1286], [2484, 2683], [4880, 5079], [717...   \n",
       "\n",
       "                                   port_entry_frames  \\\n",
       "0  [[102, 105], [110, 148], [193, 199], [200, 202...   \n",
       "1  [[102, 105], [110, 148], [193, 199], [200, 202...   \n",
       "2  [[788, 835], [838, 839], [839, 871], [871, 900...   \n",
       "3  [[788, 835], [838, 839], [839, 871], [871, 900...   \n",
       "4  [[6, 29], [32, 40], [168, 183], [197, 218], [3...   \n",
       "5  [[6, 29], [32, 40], [168, 183], [197, 218], [3...   \n",
       "6  [[223, 250], [252, 254], [257, 257], [258, 297...   \n",
       "\n",
       "                               box_top_left  \\\n",
       "0   [29.623370221193532, 10.85380707317621]   \n",
       "1   [29.623370221193532, 10.85380707317621]   \n",
       "2   [28.94954695212123, 11.559275766924861]   \n",
       "3   [28.94954695212123, 11.559275766924861]   \n",
       "4  [28.726306016601946, 10.842459364362139]   \n",
       "5  [28.726306016601946, 10.842459364362139]   \n",
       "6  [29.368871804533384, 11.233148401733333]   \n",
       "\n",
       "                            box_bottom_left  ...  \\\n",
       "0   [30.23007505102494, 34.598706975722735]  ...   \n",
       "1   [30.23007505102494, 34.598706975722735]  ...   \n",
       "2  [29.794023445649177, 35.275466614423074]  ...   \n",
       "3  [29.794023445649177, 35.275466614423074]  ...   \n",
       "4   [30.091010784999508, 34.98257973535351]  ...   \n",
       "5   [30.091010784999508, 34.98257973535351]  ...   \n",
       "6  [30.292670448640752, 35.366774292703255]  ...   \n",
       "\n",
       "                                     tone_timestamps  \\\n",
       "0  [[1030879, 1230878], [3430878, 3630878], [5730...   \n",
       "1  [[1030879, 1230878], [3430878, 3630878], [5730...   \n",
       "2  [[1099250, 1299250], [3499256, 3699252], [5799...   \n",
       "3  [[1099250, 1299250], [3499256, 3699252], [5799...   \n",
       "4  [[1057255, 1257260], [3457285, 3657287], [5757...   \n",
       "5  [[1057255, 1257260], [3457285, 3657287], [5757...   \n",
       "6  [[478042, 1287653], [2488068, 2688073], [48880...   \n",
       "\n",
       "                               port_entry_timestamps start_stop_timestamps  \\\n",
       "0  [[102478, 104881], [110481, 147879], [193083, ...      (1384, 39574889)   \n",
       "1  [[102478, 104881], [110481, 147879], [193083, ...      (1384, 39574889)   \n",
       "2  [[788852, 836852], [838652, 840050], [840652, ...      (1384, 32376683)   \n",
       "3  [[788852, 836852], [838652, 840050], [840652, ...      (1384, 32376683)   \n",
       "4  [[6242, 30447], [32245, 40242], [169046, 18424...   (2021982, 32290759)   \n",
       "5  [[6242, 30447], [32245, 40242], [169046, 18424...   (2021982, 32290759)   \n",
       "6  [[223038, 250239], [251039, 253641], [256439, ...      (1384, 33562987)   \n",
       "\n",
       "                             filtered_lfp_timestamps  \\\n",
       "0  [1400, 1420, 1440, 1460, 1480, 1500, 1520, 154...   \n",
       "1  [1400, 1420, 1440, 1460, 1480, 1500, 1520, 154...   \n",
       "2  [1400, 1420, 1440, 1460, 1480, 1500, 1520, 154...   \n",
       "3  [1400, 1420, 1440, 1460, 1480, 1500, 1520, 154...   \n",
       "4  [2022000, 2022020, 2022040, 2022060, 2022080, ...   \n",
       "5  [2022000, 2022020, 2022040, 2022060, 2022080, ...   \n",
       "6  [1400, 1420, 1440, 1460, 1480, 1500, 1520, 154...   \n",
       "\n",
       "                           filtered_video_timestamps  \\\n",
       "0  [1384, 1500, 2770, 4156, 5542, 5542, 6927, 831...   \n",
       "1  [1384, 1500, 2770, 4156, 5542, 5542, 6927, 831...   \n",
       "2  [1384, 2770, 2770, 4155, 5541, 6927, 6927, 831...   \n",
       "3  [1384, 2770, 2770, 4155, 5541, 6927, 6927, 831...   \n",
       "4  [2021982, 2023278, 2023368, 2024753, 2026139, ...   \n",
       "5  [2021982, 2023278, 2023368, 2024753, 2026139, ...   \n",
       "6  [1384, 1384, 2770, 4156, 5541, 5541, 6927, 831...   \n",
       "\n",
       "                                 filtered_mpfc_trace  \\\n",
       "0  [0.015505511, 0.62215865, 1.1086441, 1.3373504...   \n",
       "1  [0.6574679, 0.11276958, -0.3659692, -0.3723524...   \n",
       "2  [0.31349525, 0.40279388, 0.41229373, 0.3039953...   \n",
       "3  [1.8754106, 0.06580388, -1.1351169, 0.23031357...   \n",
       "4  [0.96733546, 0.90309834, 0.82374656, 0.7462842...   \n",
       "5  [-0.5461191, -0.6570836, -0.6788413, -0.948637...   \n",
       "6  [-0.31740695, -0.28688705, -0.49137035, 0.1098...   \n",
       "\n",
       "                                 filtered_vhpc_trace  \\\n",
       "0  [-1.3505517, -0.8568693, -0.33960325, 0.141501...   \n",
       "1  [0.7847764, 0.6408233, 0.48410022, 0.30299798,...   \n",
       "2  [0.35449925, 0.8595823, 1.0148718, 0.86899376,...   \n",
       "3  [2.2451546, 1.6649991, 1.3395461, 1.8442342, 1...   \n",
       "4  [-0.43027794, -0.39102963, -0.3735859, -0.4099...   \n",
       "5  [0.70498204, 0.87817836, 1.0172232, 0.93916297...   \n",
       "6  [-1.1510314, -1.6666739, -1.9574865, -1.901279...   \n",
       "\n",
       "                                  filtered_bla_trace  \\\n",
       "0  [-1.7142574, -1.1298128, -0.101937994, 0.48760...   \n",
       "1  [0.5454766, 0.5454766, 0.5228427, 0.518316, 0....   \n",
       "2  [0.6661627, 0.8376996, 0.9243008, 1.0025749, 0...   \n",
       "3  [2.131642, 1.495331, 1.0403687, 1.6066855, 1.8...   \n",
       "4  [1.2360266, 1.2037544, 1.0714383, 0.677717, 0....   \n",
       "5  [-1.1168182, -0.9848528, -1.0435041, -1.314766...   \n",
       "6  [-0.77811754, -1.3635237, -1.4598794, -1.17626...   \n",
       "\n",
       "                                   filtered_lh_trace  \\\n",
       "0  [-2.3216858, -1.907385, -1.5471234, -1.4290377...   \n",
       "1  [0.19785033, -0.25780496, -0.2787891, 0.119909...   \n",
       "2  [0.6916378, 0.96981716, 0.9088464, 0.7583246, ...   \n",
       "3  [0.6786791, -0.12149195, -0.31839266, 0.494346...   \n",
       "4  [0.49828878, 0.45471218, 0.39976782, 0.2576702...   \n",
       "5  [-0.9343849, -0.7208996, -0.73327553, -1.08289...   \n",
       "6  [0.01645097, -0.32243901, -0.60868585, -0.4737...   \n",
       "\n",
       "                                   filtered_md_trace  \n",
       "0  [-2.3028033, -2.0405018, -1.7475417, -1.429032...  \n",
       "1  [-0.62384546, -0.897785, -1.1164762, -0.982959...  \n",
       "2  [0.3162679, 0.49376523, 0.4066302, 0.13715701,...  \n",
       "3  [0.7159058, -0.05324919, -0.6389903, 0.0, 0.44...  \n",
       "4  [0.5827334, 0.48292822, 0.37990353, 0.31873262...  \n",
       "5  [-1.0043497, -0.92557716, -1.0092729, -1.51144...  \n",
       "6  [-0.19407488, -0.27361378, -0.39769444, -0.330...  \n",
       "\n",
       "[7 rows x 36 columns]"
      ]
     },
     "execution_count": 9,
     "metadata": {},
     "output_type": "execute_result"
    }
   ],
   "source": [
    "VIDEO_TO_FRAME_AND_SUBJECT_DF"
   ]
  },
  {
   "cell_type": "markdown",
   "metadata": {
    "cell_id": "e3ee4891d43a4ac287413afc552ca289",
    "deepnote_cell_type": "text-cell-h2",
    "formattedRanges": []
   },
   "source": [
    "## Outputs"
   ]
  },
  {
   "cell_type": "markdown",
   "metadata": {
    "cell_id": "9ccbf6cc70fd4d379fa29317f733771f",
    "deepnote_cell_type": "text-cell-p",
    "formattedRanges": []
   },
   "source": [
    "Describe each output that the notebook creates. "
   ]
  },
  {
   "cell_type": "markdown",
   "metadata": {
    "cell_id": "fc8e8920a6944918a15fac575cdf6e78",
    "deepnote_cell_type": "text-cell-bullet",
    "formattedRanges": []
   },
   "source": [
    "- Is it a plot or is it data?"
   ]
  },
  {
   "cell_type": "markdown",
   "metadata": {
    "cell_id": "1e639d4776a84aa9ac8ded2e14fa57db",
    "deepnote_cell_type": "text-cell-bullet",
    "formattedRanges": []
   },
   "source": [
    "- How valuable is the output and why is it valuable or useful?"
   ]
  },
  {
   "cell_type": "code",
   "execution_count": 10,
   "metadata": {},
   "outputs": [],
   "source": [
    "# Inputs and Required data loading\n",
    "# input varaible names are in all caps snake case\n",
    "# Whenever an input changes or is used for processing \n",
    "# the vairables are all lower in snake case\n",
    "OUTPUT_DIR = r\"./proc/\" # where data is saved should always be shown in the inputs\n",
    "os.makedirs(OUTPUT_DIR, exist_ok=True)\n",
    "OUTPUT_PREFIX = \"rce_pilot_2\""
   ]
  },
  {
   "cell_type": "code",
   "execution_count": 11,
   "metadata": {},
   "outputs": [],
   "source": [
    "FULL_LFP_TRACES_PKL = \"{}_lfp_traces_sleap_spikes.pkl\".format(OUTPUT_PREFIX)"
   ]
  },
  {
   "cell_type": "markdown",
   "metadata": {
    "cell_id": "8999d19b6b7d4d63bc90f0b0bd9ab085",
    "deepnote_cell_type": "text-cell-h2",
    "formattedRanges": []
   },
   "source": [
    "## Processing"
   ]
  },
  {
   "cell_type": "markdown",
   "metadata": {
    "cell_id": "9b36cdf08567463082b005cb0dec684b",
    "deepnote_cell_type": "text-cell-p",
    "formattedRanges": []
   },
   "source": [
    "Describe what is done to the data here and how inputs are manipulated to generate outputs. "
   ]
  },
  {
   "cell_type": "markdown",
   "metadata": {},
   "source": [
    "# Reading in Phy"
   ]
  },
  {
   "cell_type": "markdown",
   "metadata": {},
   "source": [
    "- Reading in a spreadsheet of all the unit classifications\n",
    "    - They are divided up into good units, multi-units, and noise"
   ]
  },
  {
   "cell_type": "code",
   "execution_count": 12,
   "metadata": {},
   "outputs": [
    {
     "data": {
      "text/plain": [
       "['/scratch/back_up/reward_competition_extention/final_proc/phy_curation/20230618_100636_standard_comp_to_omission_D2_subj_1_4_t4b3L_box1_merged.rec',\n",
       " '/scratch/back_up/reward_competition_extention/final_proc/phy_curation/20230618_100636_standard_comp_to_omission_D2_subj_1_1_t1b2L_box2_merged.rec',\n",
       " '/scratch/back_up/reward_competition_extention/final_proc/phy_curation/20230621_111240_standard_comp_to_omission_D5_subj_1-4_t3b3L_box1_merged.rec',\n",
       " '/scratch/back_up/reward_competition_extention/final_proc/phy_curation/20230620_114347_standard_comp_to_omission_D4_subj_1-1_t1b2L_box_2_merged.rec',\n",
       " '/scratch/back_up/reward_competition_extention/final_proc/phy_curation/20230617_115521_standard_comp_to_omission_D1_subj_1-2_t2b2L_box2_merged.rec',\n",
       " '/scratch/back_up/reward_competition_extention/final_proc/phy_curation/20230617_115521_standard_comp_to_omission_D1_subj_1-1_t1b3L_box1_merged.rec',\n",
       " '/scratch/back_up/reward_competition_extention/final_proc/phy_curation/20230620_114347_standard_comp_to_omission_D4_subj_1-2_t3b3L_box_1_merged.rec',\n",
       " '/scratch/back_up/reward_competition_extention/final_proc/phy_curation/20230619_115321_standard_comp_to_omission_D3_subj_1-4_t3b3L_box2_merged.rec']"
      ]
     },
     "execution_count": 12,
     "metadata": {},
     "output_type": "execute_result"
    }
   ],
   "source": [
    "ALL_PHY_DIR"
   ]
  },
  {
   "cell_type": "code",
   "execution_count": 13,
   "metadata": {},
   "outputs": [],
   "source": [
    "recording_to_cluster_info = {}\n",
    "for recording_dir in ALL_PHY_DIR:\n",
    "    try:\n",
    "        recording_basename = os.path.basename(recording_dir).strip(\".rec\")\n",
    "        file_path = os.path.join(recording_dir, \"phy\", \"cluster_info.tsv\")\n",
    "        recording_to_cluster_info[recording_basename] = pd.read_csv(file_path, sep=\"\\t\")\n",
    "    except Exception as e:\n",
    "        print(e)"
   ]
  },
  {
   "cell_type": "code",
   "execution_count": 14,
   "metadata": {},
   "outputs": [
    {
     "data": {
      "text/html": [
       "<div>\n",
       "<style scoped>\n",
       "    .dataframe tbody tr th:only-of-type {\n",
       "        vertical-align: middle;\n",
       "    }\n",
       "\n",
       "    .dataframe tbody tr th {\n",
       "        vertical-align: top;\n",
       "    }\n",
       "\n",
       "    .dataframe thead th {\n",
       "        text-align: right;\n",
       "    }\n",
       "</style>\n",
       "<table border=\"1\" class=\"dataframe\">\n",
       "  <thead>\n",
       "    <tr style=\"text-align: right;\">\n",
       "      <th></th>\n",
       "      <th>cluster_id</th>\n",
       "      <th>1_5_ms_isi</th>\n",
       "      <th>1ms_isi</th>\n",
       "      <th>2ms_isi</th>\n",
       "      <th>amp</th>\n",
       "      <th>ch</th>\n",
       "      <th>channel_group</th>\n",
       "      <th>depth</th>\n",
       "      <th>fr</th>\n",
       "      <th>group</th>\n",
       "      <th>n_spikes</th>\n",
       "      <th>sh</th>\n",
       "      <th>si_unit_id</th>\n",
       "    </tr>\n",
       "  </thead>\n",
       "  <tbody>\n",
       "    <tr>\n",
       "      <th>0</th>\n",
       "      <td>0</td>\n",
       "      <td>618</td>\n",
       "      <td>174</td>\n",
       "      <td>1492</td>\n",
       "      <td>10.375586</td>\n",
       "      <td>0</td>\n",
       "      <td>0</td>\n",
       "      <td>0.0</td>\n",
       "      <td>17.727840</td>\n",
       "      <td>mua</td>\n",
       "      <td>58150</td>\n",
       "      <td>0</td>\n",
       "      <td>1</td>\n",
       "    </tr>\n",
       "    <tr>\n",
       "      <th>1</th>\n",
       "      <td>1</td>\n",
       "      <td>0</td>\n",
       "      <td>0</td>\n",
       "      <td>1</td>\n",
       "      <td>24.589169</td>\n",
       "      <td>0</td>\n",
       "      <td>0</td>\n",
       "      <td>0.0</td>\n",
       "      <td>0.894471</td>\n",
       "      <td>mua</td>\n",
       "      <td>2934</td>\n",
       "      <td>0</td>\n",
       "      <td>2</td>\n",
       "    </tr>\n",
       "    <tr>\n",
       "      <th>2</th>\n",
       "      <td>2</td>\n",
       "      <td>74</td>\n",
       "      <td>12</td>\n",
       "      <td>240</td>\n",
       "      <td>8.472431</td>\n",
       "      <td>1</td>\n",
       "      <td>0</td>\n",
       "      <td>20.0</td>\n",
       "      <td>10.257148</td>\n",
       "      <td>mua</td>\n",
       "      <td>33645</td>\n",
       "      <td>0</td>\n",
       "      <td>3</td>\n",
       "    </tr>\n",
       "    <tr>\n",
       "      <th>3</th>\n",
       "      <td>3</td>\n",
       "      <td>0</td>\n",
       "      <td>0</td>\n",
       "      <td>0</td>\n",
       "      <td>31.092701</td>\n",
       "      <td>1</td>\n",
       "      <td>0</td>\n",
       "      <td>20.0</td>\n",
       "      <td>0.695090</td>\n",
       "      <td>noise</td>\n",
       "      <td>2280</td>\n",
       "      <td>0</td>\n",
       "      <td>4</td>\n",
       "    </tr>\n",
       "    <tr>\n",
       "      <th>4</th>\n",
       "      <td>4</td>\n",
       "      <td>0</td>\n",
       "      <td>0</td>\n",
       "      <td>0</td>\n",
       "      <td>31.629177</td>\n",
       "      <td>1</td>\n",
       "      <td>0</td>\n",
       "      <td>20.0</td>\n",
       "      <td>0.165236</td>\n",
       "      <td>noise</td>\n",
       "      <td>542</td>\n",
       "      <td>0</td>\n",
       "      <td>5</td>\n",
       "    </tr>\n",
       "  </tbody>\n",
       "</table>\n",
       "</div>"
      ],
      "text/plain": [
       "   cluster_id  1_5_ms_isi  1ms_isi  2ms_isi        amp  ch  channel_group  \\\n",
       "0           0         618      174     1492  10.375586   0              0   \n",
       "1           1           0        0        1  24.589169   0              0   \n",
       "2           2          74       12      240   8.472431   1              0   \n",
       "3           3           0        0        0  31.092701   1              0   \n",
       "4           4           0        0        0  31.629177   1              0   \n",
       "\n",
       "   depth         fr  group  n_spikes  sh  si_unit_id  \n",
       "0    0.0  17.727840    mua     58150   0           1  \n",
       "1    0.0   0.894471    mua      2934   0           2  \n",
       "2   20.0  10.257148    mua     33645   0           3  \n",
       "3   20.0   0.695090  noise      2280   0           4  \n",
       "4   20.0   0.165236  noise       542   0           5  "
      ]
     },
     "execution_count": 14,
     "metadata": {},
     "output_type": "execute_result"
    }
   ],
   "source": [
    "recording_to_cluster_info[list(recording_to_cluster_info.keys())[1]].head()"
   ]
  },
  {
   "cell_type": "markdown",
   "metadata": {},
   "source": [
    "- Combining all the unit info dataframes and adding the recording name"
   ]
  },
  {
   "cell_type": "code",
   "execution_count": 15,
   "metadata": {},
   "outputs": [],
   "source": [
    "recording_to_cluster_info_df = pd.concat(recording_to_cluster_info, names=['recording_name']).reset_index(level=1, drop=True).reset_index()\n"
   ]
  },
  {
   "cell_type": "code",
   "execution_count": 16,
   "metadata": {},
   "outputs": [
    {
     "data": {
      "text/html": [
       "<div>\n",
       "<style scoped>\n",
       "    .dataframe tbody tr th:only-of-type {\n",
       "        vertical-align: middle;\n",
       "    }\n",
       "\n",
       "    .dataframe tbody tr th {\n",
       "        vertical-align: top;\n",
       "    }\n",
       "\n",
       "    .dataframe thead th {\n",
       "        text-align: right;\n",
       "    }\n",
       "</style>\n",
       "<table border=\"1\" class=\"dataframe\">\n",
       "  <thead>\n",
       "    <tr style=\"text-align: right;\">\n",
       "      <th></th>\n",
       "      <th>recording_name</th>\n",
       "      <th>cluster_id</th>\n",
       "      <th>1_5_ms_isi</th>\n",
       "      <th>1ms_isi</th>\n",
       "      <th>2ms_isi</th>\n",
       "      <th>amp</th>\n",
       "      <th>ch</th>\n",
       "      <th>channel_group</th>\n",
       "      <th>depth</th>\n",
       "      <th>fr</th>\n",
       "      <th>group</th>\n",
       "      <th>n_spikes</th>\n",
       "      <th>sh</th>\n",
       "      <th>si_unit_id</th>\n",
       "    </tr>\n",
       "  </thead>\n",
       "  <tbody>\n",
       "    <tr>\n",
       "      <th>0</th>\n",
       "      <td>20230618_100636_standard_comp_to_omission_D2_s...</td>\n",
       "      <td>8</td>\n",
       "      <td>0</td>\n",
       "      <td>0</td>\n",
       "      <td>1</td>\n",
       "      <td>9.198713</td>\n",
       "      <td>3</td>\n",
       "      <td>0.0</td>\n",
       "      <td>60.0</td>\n",
       "      <td>0.217516</td>\n",
       "      <td>mua</td>\n",
       "      <td>746</td>\n",
       "      <td>0</td>\n",
       "      <td>9.0</td>\n",
       "    </tr>\n",
       "    <tr>\n",
       "      <th>1</th>\n",
       "      <td>20230618_100636_standard_comp_to_omission_D2_s...</td>\n",
       "      <td>9</td>\n",
       "      <td>1</td>\n",
       "      <td>1</td>\n",
       "      <td>2</td>\n",
       "      <td>12.508228</td>\n",
       "      <td>3</td>\n",
       "      <td>0.0</td>\n",
       "      <td>60.0</td>\n",
       "      <td>1.605419</td>\n",
       "      <td>good</td>\n",
       "      <td>5506</td>\n",
       "      <td>0</td>\n",
       "      <td>10.0</td>\n",
       "    </tr>\n",
       "    <tr>\n",
       "      <th>2</th>\n",
       "      <td>20230618_100636_standard_comp_to_omission_D2_s...</td>\n",
       "      <td>19</td>\n",
       "      <td>1</td>\n",
       "      <td>0</td>\n",
       "      <td>2</td>\n",
       "      <td>13.435120</td>\n",
       "      <td>15</td>\n",
       "      <td>0.0</td>\n",
       "      <td>300.0</td>\n",
       "      <td>0.503261</td>\n",
       "      <td>good</td>\n",
       "      <td>1726</td>\n",
       "      <td>0</td>\n",
       "      <td>20.0</td>\n",
       "    </tr>\n",
       "    <tr>\n",
       "      <th>3</th>\n",
       "      <td>20230618_100636_standard_comp_to_omission_D2_s...</td>\n",
       "      <td>20</td>\n",
       "      <td>0</td>\n",
       "      <td>0</td>\n",
       "      <td>0</td>\n",
       "      <td>7.342390</td>\n",
       "      <td>20</td>\n",
       "      <td>0.0</td>\n",
       "      <td>400.0</td>\n",
       "      <td>0.219265</td>\n",
       "      <td>mua</td>\n",
       "      <td>752</td>\n",
       "      <td>0</td>\n",
       "      <td>22.0</td>\n",
       "    </tr>\n",
       "    <tr>\n",
       "      <th>4</th>\n",
       "      <td>20230618_100636_standard_comp_to_omission_D2_s...</td>\n",
       "      <td>21</td>\n",
       "      <td>47</td>\n",
       "      <td>10</td>\n",
       "      <td>122</td>\n",
       "      <td>10.664793</td>\n",
       "      <td>21</td>\n",
       "      <td>0.0</td>\n",
       "      <td>420.0</td>\n",
       "      <td>0.605604</td>\n",
       "      <td>noise</td>\n",
       "      <td>2077</td>\n",
       "      <td>0</td>\n",
       "      <td>23.0</td>\n",
       "    </tr>\n",
       "  </tbody>\n",
       "</table>\n",
       "</div>"
      ],
      "text/plain": [
       "                                      recording_name  cluster_id  1_5_ms_isi  \\\n",
       "0  20230618_100636_standard_comp_to_omission_D2_s...           8           0   \n",
       "1  20230618_100636_standard_comp_to_omission_D2_s...           9           1   \n",
       "2  20230618_100636_standard_comp_to_omission_D2_s...          19           1   \n",
       "3  20230618_100636_standard_comp_to_omission_D2_s...          20           0   \n",
       "4  20230618_100636_standard_comp_to_omission_D2_s...          21          47   \n",
       "\n",
       "   1ms_isi  2ms_isi        amp  ch  channel_group  depth        fr  group  \\\n",
       "0        0        1   9.198713   3            0.0   60.0  0.217516    mua   \n",
       "1        1        2  12.508228   3            0.0   60.0  1.605419   good   \n",
       "2        0        2  13.435120  15            0.0  300.0  0.503261   good   \n",
       "3        0        0   7.342390  20            0.0  400.0  0.219265    mua   \n",
       "4       10      122  10.664793  21            0.0  420.0  0.605604  noise   \n",
       "\n",
       "   n_spikes  sh  si_unit_id  \n",
       "0       746   0         9.0  \n",
       "1      5506   0        10.0  \n",
       "2      1726   0        20.0  \n",
       "3       752   0        22.0  \n",
       "4      2077   0        23.0  "
      ]
     },
     "execution_count": 16,
     "metadata": {},
     "output_type": "execute_result"
    }
   ],
   "source": [
    "recording_to_cluster_info_df.head()"
   ]
  },
  {
   "cell_type": "markdown",
   "metadata": {},
   "source": [
    "- Filtering for the good units"
   ]
  },
  {
   "cell_type": "code",
   "execution_count": 17,
   "metadata": {},
   "outputs": [],
   "source": [
    "good_unit_cluster_info_df = recording_to_cluster_info_df[recording_to_cluster_info_df[\"group\"] == \"good\"].reset_index(drop=True)"
   ]
  },
  {
   "cell_type": "code",
   "execution_count": 18,
   "metadata": {},
   "outputs": [
    {
     "data": {
      "text/html": [
       "<div>\n",
       "<style scoped>\n",
       "    .dataframe tbody tr th:only-of-type {\n",
       "        vertical-align: middle;\n",
       "    }\n",
       "\n",
       "    .dataframe tbody tr th {\n",
       "        vertical-align: top;\n",
       "    }\n",
       "\n",
       "    .dataframe thead th {\n",
       "        text-align: right;\n",
       "    }\n",
       "</style>\n",
       "<table border=\"1\" class=\"dataframe\">\n",
       "  <thead>\n",
       "    <tr style=\"text-align: right;\">\n",
       "      <th></th>\n",
       "      <th>recording_name</th>\n",
       "      <th>cluster_id</th>\n",
       "      <th>1_5_ms_isi</th>\n",
       "      <th>1ms_isi</th>\n",
       "      <th>2ms_isi</th>\n",
       "      <th>amp</th>\n",
       "      <th>ch</th>\n",
       "      <th>channel_group</th>\n",
       "      <th>depth</th>\n",
       "      <th>fr</th>\n",
       "      <th>group</th>\n",
       "      <th>n_spikes</th>\n",
       "      <th>sh</th>\n",
       "      <th>si_unit_id</th>\n",
       "    </tr>\n",
       "  </thead>\n",
       "  <tbody>\n",
       "    <tr>\n",
       "      <th>0</th>\n",
       "      <td>20230618_100636_standard_comp_to_omission_D2_s...</td>\n",
       "      <td>9</td>\n",
       "      <td>1</td>\n",
       "      <td>1</td>\n",
       "      <td>2</td>\n",
       "      <td>12.508228</td>\n",
       "      <td>3</td>\n",
       "      <td>0.0</td>\n",
       "      <td>60.0</td>\n",
       "      <td>1.605419</td>\n",
       "      <td>good</td>\n",
       "      <td>5506</td>\n",
       "      <td>0</td>\n",
       "      <td>10.0</td>\n",
       "    </tr>\n",
       "    <tr>\n",
       "      <th>1</th>\n",
       "      <td>20230618_100636_standard_comp_to_omission_D2_s...</td>\n",
       "      <td>19</td>\n",
       "      <td>1</td>\n",
       "      <td>0</td>\n",
       "      <td>2</td>\n",
       "      <td>13.435120</td>\n",
       "      <td>15</td>\n",
       "      <td>0.0</td>\n",
       "      <td>300.0</td>\n",
       "      <td>0.503261</td>\n",
       "      <td>good</td>\n",
       "      <td>1726</td>\n",
       "      <td>0</td>\n",
       "      <td>20.0</td>\n",
       "    </tr>\n",
       "    <tr>\n",
       "      <th>2</th>\n",
       "      <td>20230618_100636_standard_comp_to_omission_D2_s...</td>\n",
       "      <td>65</td>\n",
       "      <td>2</td>\n",
       "      <td>1</td>\n",
       "      <td>3</td>\n",
       "      <td>8.466800</td>\n",
       "      <td>2</td>\n",
       "      <td>0.0</td>\n",
       "      <td>40.0</td>\n",
       "      <td>2.628268</td>\n",
       "      <td>good</td>\n",
       "      <td>9014</td>\n",
       "      <td>0</td>\n",
       "      <td>8.0</td>\n",
       "    </tr>\n",
       "    <tr>\n",
       "      <th>3</th>\n",
       "      <td>20230618_100636_standard_comp_to_omission_D2_s...</td>\n",
       "      <td>83</td>\n",
       "      <td>9</td>\n",
       "      <td>3</td>\n",
       "      <td>26</td>\n",
       "      <td>13.022879</td>\n",
       "      <td>2</td>\n",
       "      <td>0.0</td>\n",
       "      <td>40.0</td>\n",
       "      <td>10.683353</td>\n",
       "      <td>good</td>\n",
       "      <td>36640</td>\n",
       "      <td>0</td>\n",
       "      <td>5.0</td>\n",
       "    </tr>\n",
       "    <tr>\n",
       "      <th>4</th>\n",
       "      <td>20230618_100636_standard_comp_to_omission_D2_s...</td>\n",
       "      <td>87</td>\n",
       "      <td>3</td>\n",
       "      <td>0</td>\n",
       "      <td>4</td>\n",
       "      <td>15.160955</td>\n",
       "      <td>0</td>\n",
       "      <td>0.0</td>\n",
       "      <td>0.0</td>\n",
       "      <td>2.416584</td>\n",
       "      <td>good</td>\n",
       "      <td>8288</td>\n",
       "      <td>0</td>\n",
       "      <td>1.0</td>\n",
       "    </tr>\n",
       "  </tbody>\n",
       "</table>\n",
       "</div>"
      ],
      "text/plain": [
       "                                      recording_name  cluster_id  1_5_ms_isi  \\\n",
       "0  20230618_100636_standard_comp_to_omission_D2_s...           9           1   \n",
       "1  20230618_100636_standard_comp_to_omission_D2_s...          19           1   \n",
       "2  20230618_100636_standard_comp_to_omission_D2_s...          65           2   \n",
       "3  20230618_100636_standard_comp_to_omission_D2_s...          83           9   \n",
       "4  20230618_100636_standard_comp_to_omission_D2_s...          87           3   \n",
       "\n",
       "   1ms_isi  2ms_isi        amp  ch  channel_group  depth         fr group  \\\n",
       "0        1        2  12.508228   3            0.0   60.0   1.605419  good   \n",
       "1        0        2  13.435120  15            0.0  300.0   0.503261  good   \n",
       "2        1        3   8.466800   2            0.0   40.0   2.628268  good   \n",
       "3        3       26  13.022879   2            0.0   40.0  10.683353  good   \n",
       "4        0        4  15.160955   0            0.0    0.0   2.416584  good   \n",
       "\n",
       "   n_spikes  sh  si_unit_id  \n",
       "0      5506   0        10.0  \n",
       "1      1726   0        20.0  \n",
       "2      9014   0         8.0  \n",
       "3     36640   0         5.0  \n",
       "4      8288   0         1.0  "
      ]
     },
     "execution_count": 18,
     "metadata": {},
     "output_type": "execute_result"
    }
   ],
   "source": [
    "good_unit_cluster_info_df.head()"
   ]
  },
  {
   "cell_type": "code",
   "execution_count": 19,
   "metadata": {},
   "outputs": [],
   "source": [
    "recording_to_good_unit_ids = good_unit_cluster_info_df.groupby('recording_name')['cluster_id'].apply(list).to_dict()"
   ]
  },
  {
   "cell_type": "markdown",
   "metadata": {},
   "source": [
    "- A list of all the unit IDs that each spike came from in order\n",
    "    - First item is first spike, second item is second spike, etc."
   ]
  },
  {
   "cell_type": "code",
   "execution_count": 20,
   "metadata": {},
   "outputs": [],
   "source": [
    "recording_to_spike_clusters = {}\n",
    "for recording_dir in ALL_PHY_DIR:\n",
    "    try:\n",
    "        recording_basename = os.path.basename(recording_dir).strip(\".rec\")\n",
    "        file_path = os.path.join(recording_dir, \"phy\", \"spike_clusters.npy\")\n",
    "        recording_to_spike_clusters[recording_basename] = np.load(file_path)\n",
    "    except Exception as e:\n",
    "        print(e)"
   ]
  },
  {
   "cell_type": "code",
   "execution_count": 21,
   "metadata": {},
   "outputs": [
    {
     "data": {
      "text/plain": [
       "array([82, 82, 82, ..., 87, 83, 99], dtype=int32)"
      ]
     },
     "execution_count": 21,
     "metadata": {},
     "output_type": "execute_result"
    }
   ],
   "source": [
    "recording_to_spike_clusters[list(recording_to_spike_clusters.keys())[0]]"
   ]
  },
  {
   "cell_type": "code",
   "execution_count": 22,
   "metadata": {},
   "outputs": [
    {
     "data": {
      "text/plain": [
       "(251953,)"
      ]
     },
     "execution_count": 22,
     "metadata": {},
     "output_type": "execute_result"
    }
   ],
   "source": [
    "recording_to_spike_clusters[list(recording_to_spike_clusters.keys())[0]].shape"
   ]
  },
  {
   "cell_type": "markdown",
   "metadata": {},
   "source": [
    "- The times that all the spikes happened"
   ]
  },
  {
   "cell_type": "code",
   "execution_count": 23,
   "metadata": {},
   "outputs": [],
   "source": [
    "recording_to_spike_times = {}\n",
    "for recording_dir in ALL_PHY_DIR:\n",
    "    try:\n",
    "        recording_basename = os.path.basename(recording_dir).strip(\".rec\")\n",
    "        file_path = os.path.join(recording_dir, \"phy\", \"spike_times.npy\")\n",
    "        recording_to_spike_times[recording_basename] = np.load(file_path)\n",
    "    except Exception as e:\n",
    "        print(e)"
   ]
  },
  {
   "cell_type": "code",
   "execution_count": 24,
   "metadata": {},
   "outputs": [
    {
     "data": {
      "text/plain": [
       "array([[      46],\n",
       "       [     266],\n",
       "       [     437],\n",
       "       ...,\n",
       "       [67098020],\n",
       "       [67098467],\n",
       "       [67098849]])"
      ]
     },
     "execution_count": 24,
     "metadata": {},
     "output_type": "execute_result"
    }
   ],
   "source": [
    "recording_to_spike_times[list(recording_to_spike_times.keys())[0]]"
   ]
  },
  {
   "cell_type": "code",
   "execution_count": 25,
   "metadata": {},
   "outputs": [
    {
     "data": {
      "text/plain": [
       "(251953, 1)"
      ]
     },
     "execution_count": 25,
     "metadata": {},
     "output_type": "execute_result"
    }
   ],
   "source": [
    "recording_to_spike_times[list(recording_to_spike_times.keys())[0]].shape"
   ]
  },
  {
   "cell_type": "markdown",
   "metadata": {},
   "source": [
    "### Combining everything into a dataframe"
   ]
  },
  {
   "cell_type": "code",
   "execution_count": 26,
   "metadata": {},
   "outputs": [],
   "source": [
    "recording_to_spike_df = {}\n",
    "for recording_dir in ALL_PHY_DIR:\n",
    "    try:\n",
    "        recording_basename = os.path.basename(recording_dir).strip(\".rec\")\n",
    "        cluster_info_path = os.path.join(recording_dir, \"phy\", \"cluster_info.tsv\")\n",
    "        cluster_info_df = pd.read_csv(cluster_info_path, sep=\"\\t\")\n",
    "\n",
    "        spike_clusters_path = os.path.join(recording_dir, \"phy\", \"spike_clusters.npy\")\n",
    "        spike_clusters = np.load(spike_clusters_path)\n",
    "        \n",
    "        spike_times_path = os.path.join(recording_dir, \"phy\", \"spike_times.npy\")\n",
    "        spike_times = np.load(spike_times_path)\n",
    "\n",
    "        spike_df = pd.DataFrame({'spike_clusters': spike_clusters, 'spike_times': spike_times.T[0]})\n",
    "\n",
    "        merged_df = spike_df.merge(cluster_info_df, left_on='spike_clusters', right_on='cluster_id', how=\"left\")\n",
    "        merged_df[\"recording_name\"] = recording_basename\n",
    "\n",
    "        merged_df[\"timestamp_isi\"] = merged_df.groupby('spike_clusters')[\"spike_times\"].diff()\n",
    "        merged_df[\"current_isi\"] = merged_df[\"timestamp_isi\"] / SAMPLING_RATE\n",
    "        \n",
    "        if not merged_df.empty:\n",
    "            recording_to_spike_df[recording_basename] = merged_df\n",
    "       \n",
    "    except Exception as e:\n",
    "        print(e)"
   ]
  },
  {
   "cell_type": "code",
   "execution_count": 27,
   "metadata": {},
   "outputs": [
    {
     "data": {
      "text/html": [
       "<div>\n",
       "<style scoped>\n",
       "    .dataframe tbody tr th:only-of-type {\n",
       "        vertical-align: middle;\n",
       "    }\n",
       "\n",
       "    .dataframe tbody tr th {\n",
       "        vertical-align: top;\n",
       "    }\n",
       "\n",
       "    .dataframe thead th {\n",
       "        text-align: right;\n",
       "    }\n",
       "</style>\n",
       "<table border=\"1\" class=\"dataframe\">\n",
       "  <thead>\n",
       "    <tr style=\"text-align: right;\">\n",
       "      <th></th>\n",
       "      <th>cluster_id</th>\n",
       "      <th>1_5_ms_isi</th>\n",
       "      <th>1ms_isi</th>\n",
       "      <th>2ms_isi</th>\n",
       "      <th>amp</th>\n",
       "      <th>ch</th>\n",
       "      <th>channel_group</th>\n",
       "      <th>depth</th>\n",
       "      <th>fr</th>\n",
       "      <th>group</th>\n",
       "      <th>n_spikes</th>\n",
       "      <th>sh</th>\n",
       "      <th>si_unit_id</th>\n",
       "    </tr>\n",
       "  </thead>\n",
       "  <tbody>\n",
       "    <tr>\n",
       "      <th>0</th>\n",
       "      <td>11</td>\n",
       "      <td>1</td>\n",
       "      <td>0</td>\n",
       "      <td>5</td>\n",
       "      <td>8.923600</td>\n",
       "      <td>3</td>\n",
       "      <td>0</td>\n",
       "      <td>60.0</td>\n",
       "      <td>2.805744</td>\n",
       "      <td>good</td>\n",
       "      <td>5778</td>\n",
       "      <td>0</td>\n",
       "      <td>13</td>\n",
       "    </tr>\n",
       "    <tr>\n",
       "      <th>1</th>\n",
       "      <td>12</td>\n",
       "      <td>0</td>\n",
       "      <td>0</td>\n",
       "      <td>0</td>\n",
       "      <td>9.733616</td>\n",
       "      <td>3</td>\n",
       "      <td>0</td>\n",
       "      <td>60.0</td>\n",
       "      <td>2.012289</td>\n",
       "      <td>noise</td>\n",
       "      <td>4144</td>\n",
       "      <td>0</td>\n",
       "      <td>14</td>\n",
       "    </tr>\n",
       "    <tr>\n",
       "      <th>2</th>\n",
       "      <td>44</td>\n",
       "      <td>3</td>\n",
       "      <td>1</td>\n",
       "      <td>29</td>\n",
       "      <td>9.739503</td>\n",
       "      <td>17</td>\n",
       "      <td>0</td>\n",
       "      <td>340.0</td>\n",
       "      <td>13.732511</td>\n",
       "      <td>good</td>\n",
       "      <td>28280</td>\n",
       "      <td>0</td>\n",
       "      <td>46</td>\n",
       "    </tr>\n",
       "    <tr>\n",
       "      <th>3</th>\n",
       "      <td>45</td>\n",
       "      <td>38</td>\n",
       "      <td>12</td>\n",
       "      <td>88</td>\n",
       "      <td>9.464285</td>\n",
       "      <td>18</td>\n",
       "      <td>0</td>\n",
       "      <td>360.0</td>\n",
       "      <td>9.795340</td>\n",
       "      <td>mua</td>\n",
       "      <td>20172</td>\n",
       "      <td>0</td>\n",
       "      <td>47</td>\n",
       "    </tr>\n",
       "    <tr>\n",
       "      <th>4</th>\n",
       "      <td>46</td>\n",
       "      <td>32</td>\n",
       "      <td>5</td>\n",
       "      <td>125</td>\n",
       "      <td>10.028766</td>\n",
       "      <td>18</td>\n",
       "      <td>0</td>\n",
       "      <td>360.0</td>\n",
       "      <td>6.568588</td>\n",
       "      <td>mua</td>\n",
       "      <td>13527</td>\n",
       "      <td>0</td>\n",
       "      <td>48</td>\n",
       "    </tr>\n",
       "  </tbody>\n",
       "</table>\n",
       "</div>"
      ],
      "text/plain": [
       "   cluster_id  1_5_ms_isi  1ms_isi  2ms_isi        amp  ch  channel_group  \\\n",
       "0          11           1        0        5   8.923600   3              0   \n",
       "1          12           0        0        0   9.733616   3              0   \n",
       "2          44           3        1       29   9.739503  17              0   \n",
       "3          45          38       12       88   9.464285  18              0   \n",
       "4          46          32        5      125  10.028766  18              0   \n",
       "\n",
       "   depth         fr  group  n_spikes  sh  si_unit_id  \n",
       "0   60.0   2.805744   good      5778   0          13  \n",
       "1   60.0   2.012289  noise      4144   0          14  \n",
       "2  340.0  13.732511   good     28280   0          46  \n",
       "3  360.0   9.795340    mua     20172   0          47  \n",
       "4  360.0   6.568588    mua     13527   0          48  "
      ]
     },
     "execution_count": 27,
     "metadata": {},
     "output_type": "execute_result"
    }
   ],
   "source": [
    "cluster_info_df.head()"
   ]
  },
  {
   "cell_type": "code",
   "execution_count": 28,
   "metadata": {},
   "outputs": [
    {
     "data": {
      "text/plain": [
       "array([[     143],\n",
       "       [     168],\n",
       "       [     274],\n",
       "       ...,\n",
       "       [38957896],\n",
       "       [38957942],\n",
       "       [38957990]])"
      ]
     },
     "execution_count": 28,
     "metadata": {},
     "output_type": "execute_result"
    }
   ],
   "source": [
    "spike_times"
   ]
  },
  {
   "cell_type": "code",
   "execution_count": 29,
   "metadata": {},
   "outputs": [
    {
     "data": {
      "text/plain": [
       "array([252, 246, 279, ...,  62,  60,  62], dtype=int32)"
      ]
     },
     "execution_count": 29,
     "metadata": {},
     "output_type": "execute_result"
    }
   ],
   "source": [
    "spike_clusters"
   ]
  },
  {
   "cell_type": "markdown",
   "metadata": {},
   "source": [
    "- Combining the spike time df for all recordings"
   ]
  },
  {
   "cell_type": "code",
   "execution_count": 30,
   "metadata": {},
   "outputs": [],
   "source": [
    "all_spike_time_df = pd.concat(recording_to_spike_df.values())"
   ]
  },
  {
   "cell_type": "code",
   "execution_count": 31,
   "metadata": {},
   "outputs": [],
   "source": [
    "all_spike_time_df = all_spike_time_df[all_spike_time_df[\"group\"] == \"good\"].reset_index(drop=True)"
   ]
  },
  {
   "cell_type": "code",
   "execution_count": 32,
   "metadata": {},
   "outputs": [
    {
     "data": {
      "text/html": [
       "<div>\n",
       "<style scoped>\n",
       "    .dataframe tbody tr th:only-of-type {\n",
       "        vertical-align: middle;\n",
       "    }\n",
       "\n",
       "    .dataframe tbody tr th {\n",
       "        vertical-align: top;\n",
       "    }\n",
       "\n",
       "    .dataframe thead th {\n",
       "        text-align: right;\n",
       "    }\n",
       "</style>\n",
       "<table border=\"1\" class=\"dataframe\">\n",
       "  <thead>\n",
       "    <tr style=\"text-align: right;\">\n",
       "      <th></th>\n",
       "      <th>spike_clusters</th>\n",
       "      <th>spike_times</th>\n",
       "      <th>cluster_id</th>\n",
       "      <th>1_5_ms_isi</th>\n",
       "      <th>1ms_isi</th>\n",
       "      <th>2ms_isi</th>\n",
       "      <th>amp</th>\n",
       "      <th>ch</th>\n",
       "      <th>channel_group</th>\n",
       "      <th>depth</th>\n",
       "      <th>fr</th>\n",
       "      <th>group</th>\n",
       "      <th>n_spikes</th>\n",
       "      <th>sh</th>\n",
       "      <th>si_unit_id</th>\n",
       "      <th>recording_name</th>\n",
       "      <th>timestamp_isi</th>\n",
       "      <th>current_isi</th>\n",
       "    </tr>\n",
       "  </thead>\n",
       "  <tbody>\n",
       "    <tr>\n",
       "      <th>0</th>\n",
       "      <td>65</td>\n",
       "      <td>937</td>\n",
       "      <td>65</td>\n",
       "      <td>2</td>\n",
       "      <td>1</td>\n",
       "      <td>3</td>\n",
       "      <td>8.466800</td>\n",
       "      <td>2</td>\n",
       "      <td>0.0</td>\n",
       "      <td>40.0</td>\n",
       "      <td>2.628268</td>\n",
       "      <td>good</td>\n",
       "      <td>9014</td>\n",
       "      <td>0</td>\n",
       "      <td>8.0</td>\n",
       "      <td>20230618_100636_standard_comp_to_omission_D2_s...</td>\n",
       "      <td>NaN</td>\n",
       "      <td>NaN</td>\n",
       "    </tr>\n",
       "    <tr>\n",
       "      <th>1</th>\n",
       "      <td>123</td>\n",
       "      <td>998</td>\n",
       "      <td>123</td>\n",
       "      <td>1</td>\n",
       "      <td>1</td>\n",
       "      <td>1</td>\n",
       "      <td>19.984566</td>\n",
       "      <td>24</td>\n",
       "      <td>0.0</td>\n",
       "      <td>480.0</td>\n",
       "      <td>2.384219</td>\n",
       "      <td>good</td>\n",
       "      <td>8177</td>\n",
       "      <td>0</td>\n",
       "      <td>28.0</td>\n",
       "      <td>20230618_100636_standard_comp_to_omission_D2_s...</td>\n",
       "      <td>NaN</td>\n",
       "      <td>NaN</td>\n",
       "    </tr>\n",
       "    <tr>\n",
       "      <th>2</th>\n",
       "      <td>103</td>\n",
       "      <td>1125</td>\n",
       "      <td>103</td>\n",
       "      <td>12</td>\n",
       "      <td>2</td>\n",
       "      <td>32</td>\n",
       "      <td>14.402934</td>\n",
       "      <td>6</td>\n",
       "      <td>0.0</td>\n",
       "      <td>120.0</td>\n",
       "      <td>8.755451</td>\n",
       "      <td>good</td>\n",
       "      <td>30028</td>\n",
       "      <td>0</td>\n",
       "      <td>11.0</td>\n",
       "      <td>20230618_100636_standard_comp_to_omission_D2_s...</td>\n",
       "      <td>NaN</td>\n",
       "      <td>NaN</td>\n",
       "    </tr>\n",
       "    <tr>\n",
       "      <th>3</th>\n",
       "      <td>123</td>\n",
       "      <td>1327</td>\n",
       "      <td>123</td>\n",
       "      <td>1</td>\n",
       "      <td>1</td>\n",
       "      <td>1</td>\n",
       "      <td>19.984566</td>\n",
       "      <td>24</td>\n",
       "      <td>0.0</td>\n",
       "      <td>480.0</td>\n",
       "      <td>2.384219</td>\n",
       "      <td>good</td>\n",
       "      <td>8177</td>\n",
       "      <td>0</td>\n",
       "      <td>28.0</td>\n",
       "      <td>20230618_100636_standard_comp_to_omission_D2_s...</td>\n",
       "      <td>329.0</td>\n",
       "      <td>0.01645</td>\n",
       "    </tr>\n",
       "    <tr>\n",
       "      <th>4</th>\n",
       "      <td>103</td>\n",
       "      <td>1346</td>\n",
       "      <td>103</td>\n",
       "      <td>12</td>\n",
       "      <td>2</td>\n",
       "      <td>32</td>\n",
       "      <td>14.402934</td>\n",
       "      <td>6</td>\n",
       "      <td>0.0</td>\n",
       "      <td>120.0</td>\n",
       "      <td>8.755451</td>\n",
       "      <td>good</td>\n",
       "      <td>30028</td>\n",
       "      <td>0</td>\n",
       "      <td>11.0</td>\n",
       "      <td>20230618_100636_standard_comp_to_omission_D2_s...</td>\n",
       "      <td>221.0</td>\n",
       "      <td>0.01105</td>\n",
       "    </tr>\n",
       "  </tbody>\n",
       "</table>\n",
       "</div>"
      ],
      "text/plain": [
       "   spike_clusters  spike_times  cluster_id  1_5_ms_isi  1ms_isi  2ms_isi  \\\n",
       "0              65          937          65           2        1        3   \n",
       "1             123          998         123           1        1        1   \n",
       "2             103         1125         103          12        2       32   \n",
       "3             123         1327         123           1        1        1   \n",
       "4             103         1346         103          12        2       32   \n",
       "\n",
       "         amp  ch  channel_group  depth        fr group  n_spikes  sh  \\\n",
       "0   8.466800   2            0.0   40.0  2.628268  good      9014   0   \n",
       "1  19.984566  24            0.0  480.0  2.384219  good      8177   0   \n",
       "2  14.402934   6            0.0  120.0  8.755451  good     30028   0   \n",
       "3  19.984566  24            0.0  480.0  2.384219  good      8177   0   \n",
       "4  14.402934   6            0.0  120.0  8.755451  good     30028   0   \n",
       "\n",
       "   si_unit_id                                     recording_name  \\\n",
       "0         8.0  20230618_100636_standard_comp_to_omission_D2_s...   \n",
       "1        28.0  20230618_100636_standard_comp_to_omission_D2_s...   \n",
       "2        11.0  20230618_100636_standard_comp_to_omission_D2_s...   \n",
       "3        28.0  20230618_100636_standard_comp_to_omission_D2_s...   \n",
       "4        11.0  20230618_100636_standard_comp_to_omission_D2_s...   \n",
       "\n",
       "   timestamp_isi  current_isi  \n",
       "0            NaN          NaN  \n",
       "1            NaN          NaN  \n",
       "2            NaN          NaN  \n",
       "3          329.0      0.01645  \n",
       "4          221.0      0.01105  "
      ]
     },
     "execution_count": 32,
     "metadata": {},
     "output_type": "execute_result"
    }
   ],
   "source": [
    "all_spike_time_df.head()"
   ]
  },
  {
   "cell_type": "code",
   "execution_count": 33,
   "metadata": {},
   "outputs": [
    {
     "data": {
      "text/html": [
       "<div>\n",
       "<style scoped>\n",
       "    .dataframe tbody tr th:only-of-type {\n",
       "        vertical-align: middle;\n",
       "    }\n",
       "\n",
       "    .dataframe tbody tr th {\n",
       "        vertical-align: top;\n",
       "    }\n",
       "\n",
       "    .dataframe thead th {\n",
       "        text-align: right;\n",
       "    }\n",
       "</style>\n",
       "<table border=\"1\" class=\"dataframe\">\n",
       "  <thead>\n",
       "    <tr style=\"text-align: right;\">\n",
       "      <th></th>\n",
       "      <th>spike_clusters</th>\n",
       "      <th>spike_times</th>\n",
       "      <th>cluster_id</th>\n",
       "      <th>1_5_ms_isi</th>\n",
       "      <th>1ms_isi</th>\n",
       "      <th>2ms_isi</th>\n",
       "      <th>amp</th>\n",
       "      <th>ch</th>\n",
       "      <th>channel_group</th>\n",
       "      <th>depth</th>\n",
       "      <th>fr</th>\n",
       "      <th>group</th>\n",
       "      <th>n_spikes</th>\n",
       "      <th>sh</th>\n",
       "      <th>si_unit_id</th>\n",
       "      <th>recording_name</th>\n",
       "      <th>timestamp_isi</th>\n",
       "      <th>current_isi</th>\n",
       "    </tr>\n",
       "  </thead>\n",
       "  <tbody>\n",
       "    <tr>\n",
       "      <th>2017369</th>\n",
       "      <td>255</td>\n",
       "      <td>38957244</td>\n",
       "      <td>255</td>\n",
       "      <td>0</td>\n",
       "      <td>0</td>\n",
       "      <td>0</td>\n",
       "      <td>14.943707</td>\n",
       "      <td>6</td>\n",
       "      <td>0.0</td>\n",
       "      <td>120.0</td>\n",
       "      <td>0.691967</td>\n",
       "      <td>good</td>\n",
       "      <td>1425</td>\n",
       "      <td>0</td>\n",
       "      <td>18.0</td>\n",
       "      <td>20230619_115321_standard_comp_to_omission_D3_s...</td>\n",
       "      <td>173.0</td>\n",
       "      <td>0.00865</td>\n",
       "    </tr>\n",
       "    <tr>\n",
       "      <th>2017370</th>\n",
       "      <td>255</td>\n",
       "      <td>38957331</td>\n",
       "      <td>255</td>\n",
       "      <td>0</td>\n",
       "      <td>0</td>\n",
       "      <td>0</td>\n",
       "      <td>14.943707</td>\n",
       "      <td>6</td>\n",
       "      <td>0.0</td>\n",
       "      <td>120.0</td>\n",
       "      <td>0.691967</td>\n",
       "      <td>good</td>\n",
       "      <td>1425</td>\n",
       "      <td>0</td>\n",
       "      <td>18.0</td>\n",
       "      <td>20230619_115321_standard_comp_to_omission_D3_s...</td>\n",
       "      <td>87.0</td>\n",
       "      <td>0.00435</td>\n",
       "    </tr>\n",
       "    <tr>\n",
       "      <th>2017371</th>\n",
       "      <td>262</td>\n",
       "      <td>38957511</td>\n",
       "      <td>262</td>\n",
       "      <td>1</td>\n",
       "      <td>1</td>\n",
       "      <td>1</td>\n",
       "      <td>11.366614</td>\n",
       "      <td>6</td>\n",
       "      <td>0.0</td>\n",
       "      <td>120.0</td>\n",
       "      <td>8.020505</td>\n",
       "      <td>good</td>\n",
       "      <td>16517</td>\n",
       "      <td>0</td>\n",
       "      <td>17.0</td>\n",
       "      <td>20230619_115321_standard_comp_to_omission_D3_s...</td>\n",
       "      <td>3072.0</td>\n",
       "      <td>0.15360</td>\n",
       "    </tr>\n",
       "    <tr>\n",
       "      <th>2017372</th>\n",
       "      <td>44</td>\n",
       "      <td>38957537</td>\n",
       "      <td>44</td>\n",
       "      <td>3</td>\n",
       "      <td>1</td>\n",
       "      <td>29</td>\n",
       "      <td>9.739503</td>\n",
       "      <td>17</td>\n",
       "      <td>0.0</td>\n",
       "      <td>340.0</td>\n",
       "      <td>13.732511</td>\n",
       "      <td>good</td>\n",
       "      <td>28280</td>\n",
       "      <td>0</td>\n",
       "      <td>46.0</td>\n",
       "      <td>20230619_115321_standard_comp_to_omission_D3_s...</td>\n",
       "      <td>2342.0</td>\n",
       "      <td>0.11710</td>\n",
       "    </tr>\n",
       "    <tr>\n",
       "      <th>2017373</th>\n",
       "      <td>134</td>\n",
       "      <td>38957868</td>\n",
       "      <td>134</td>\n",
       "      <td>5</td>\n",
       "      <td>4</td>\n",
       "      <td>17</td>\n",
       "      <td>8.562255</td>\n",
       "      <td>2</td>\n",
       "      <td>0.0</td>\n",
       "      <td>40.0</td>\n",
       "      <td>14.537135</td>\n",
       "      <td>good</td>\n",
       "      <td>29937</td>\n",
       "      <td>0</td>\n",
       "      <td>11.0</td>\n",
       "      <td>20230619_115321_standard_comp_to_omission_D3_s...</td>\n",
       "      <td>1151.0</td>\n",
       "      <td>0.05755</td>\n",
       "    </tr>\n",
       "  </tbody>\n",
       "</table>\n",
       "</div>"
      ],
      "text/plain": [
       "         spike_clusters  spike_times  cluster_id  1_5_ms_isi  1ms_isi  \\\n",
       "2017369             255     38957244         255           0        0   \n",
       "2017370             255     38957331         255           0        0   \n",
       "2017371             262     38957511         262           1        1   \n",
       "2017372              44     38957537          44           3        1   \n",
       "2017373             134     38957868         134           5        4   \n",
       "\n",
       "         2ms_isi        amp  ch  channel_group  depth         fr group  \\\n",
       "2017369        0  14.943707   6            0.0  120.0   0.691967  good   \n",
       "2017370        0  14.943707   6            0.0  120.0   0.691967  good   \n",
       "2017371        1  11.366614   6            0.0  120.0   8.020505  good   \n",
       "2017372       29   9.739503  17            0.0  340.0  13.732511  good   \n",
       "2017373       17   8.562255   2            0.0   40.0  14.537135  good   \n",
       "\n",
       "         n_spikes  sh  si_unit_id  \\\n",
       "2017369      1425   0        18.0   \n",
       "2017370      1425   0        18.0   \n",
       "2017371     16517   0        17.0   \n",
       "2017372     28280   0        46.0   \n",
       "2017373     29937   0        11.0   \n",
       "\n",
       "                                            recording_name  timestamp_isi  \\\n",
       "2017369  20230619_115321_standard_comp_to_omission_D3_s...          173.0   \n",
       "2017370  20230619_115321_standard_comp_to_omission_D3_s...           87.0   \n",
       "2017371  20230619_115321_standard_comp_to_omission_D3_s...         3072.0   \n",
       "2017372  20230619_115321_standard_comp_to_omission_D3_s...         2342.0   \n",
       "2017373  20230619_115321_standard_comp_to_omission_D3_s...         1151.0   \n",
       "\n",
       "         current_isi  \n",
       "2017369      0.00865  \n",
       "2017370      0.00435  \n",
       "2017371      0.15360  \n",
       "2017372      0.11710  \n",
       "2017373      0.05755  "
      ]
     },
     "execution_count": 33,
     "metadata": {},
     "output_type": "execute_result"
    }
   ],
   "source": [
    "all_spike_time_df.tail()"
   ]
  },
  {
   "cell_type": "markdown",
   "metadata": {},
   "source": [
    "## Grouping all the neurons by recording"
   ]
  },
  {
   "cell_type": "code",
   "execution_count": 34,
   "metadata": {},
   "outputs": [],
   "source": [
    "# Grouping all spike times by neuron and recording\n",
    "\n",
    "grouped_df = all_spike_time_df.groupby(['spike_clusters', 'recording_name'])[\"spike_times\"].apply(lambda x: sorted(list(x))).reset_index()\n",
    "grouped_df = grouped_df.sort_values(by=['recording_name', 'spike_clusters']).reset_index(drop=True)\n",
    "grouped_df = grouped_df.groupby('recording_name').agg({'spike_clusters': lambda x: list(x), 'spike_times': lambda x: list(x)}).reset_index()"
   ]
  },
  {
   "cell_type": "code",
   "execution_count": 35,
   "metadata": {},
   "outputs": [
    {
     "data": {
      "text/html": [
       "<div>\n",
       "<style scoped>\n",
       "    .dataframe tbody tr th:only-of-type {\n",
       "        vertical-align: middle;\n",
       "    }\n",
       "\n",
       "    .dataframe tbody tr th {\n",
       "        vertical-align: top;\n",
       "    }\n",
       "\n",
       "    .dataframe thead th {\n",
       "        text-align: right;\n",
       "    }\n",
       "</style>\n",
       "<table border=\"1\" class=\"dataframe\">\n",
       "  <thead>\n",
       "    <tr style=\"text-align: right;\">\n",
       "      <th></th>\n",
       "      <th>recording_name</th>\n",
       "      <th>spike_clusters</th>\n",
       "      <th>spike_times</th>\n",
       "    </tr>\n",
       "  </thead>\n",
       "  <tbody>\n",
       "    <tr>\n",
       "      <th>0</th>\n",
       "      <td>20230617_115521_standard_comp_to_omission_D1_s...</td>\n",
       "      <td>[3, 4, 5, 6, 17, 28, 29, 39, 48, 52, 53, 54, 5...</td>\n",
       "      <td>[[673223, 2367433, 2569212, 3969647, 3973243, ...</td>\n",
       "    </tr>\n",
       "    <tr>\n",
       "      <th>1</th>\n",
       "      <td>20230617_115521_standard_comp_to_omission_D1_s...</td>\n",
       "      <td>[16, 17, 20, 25, 26, 34, 35, 39, 40, 42, 43, 4...</td>\n",
       "      <td>[[958, 5233, 6331, 7475, 8599, 10550, 23459, 2...</td>\n",
       "    </tr>\n",
       "    <tr>\n",
       "      <th>2</th>\n",
       "      <td>20230618_100636_standard_comp_to_omission_D2_s...</td>\n",
       "      <td>[7, 11, 12, 48, 50, 51, 61, 64, 76, 84, 90, 98...</td>\n",
       "      <td>[[506, 1419, 2358, 5104, 6785, 7620, 9801, 120...</td>\n",
       "    </tr>\n",
       "    <tr>\n",
       "      <th>3</th>\n",
       "      <td>20230618_100636_standard_comp_to_omission_D2_s...</td>\n",
       "      <td>[9, 19, 65, 83, 87, 93, 99, 103, 105, 106, 118...</td>\n",
       "      <td>[[458431, 506645, 509846, 545481, 571000, 6011...</td>\n",
       "    </tr>\n",
       "    <tr>\n",
       "      <th>4</th>\n",
       "      <td>20230619_115321_standard_comp_to_omission_D3_s...</td>\n",
       "      <td>[11, 44, 132, 134, 186, 187, 227, 250, 252, 25...</td>\n",
       "      <td>[[17747, 20655, 24011, 34755, 67305, 110220, 1...</td>\n",
       "    </tr>\n",
       "    <tr>\n",
       "      <th>5</th>\n",
       "      <td>20230620_114347_standard_comp_to_omission_D4_s...</td>\n",
       "      <td>[2, 22, 64, 89, 98, 100, 119, 121, 122, 126]</td>\n",
       "      <td>[[264055, 325873, 327931, 330996, 334463, 3590...</td>\n",
       "    </tr>\n",
       "    <tr>\n",
       "      <th>6</th>\n",
       "      <td>20230620_114347_standard_comp_to_omission_D4_s...</td>\n",
       "      <td>[14, 28, 41, 42, 43, 45, 48, 53, 58, 68, 124, ...</td>\n",
       "      <td>[[5884, 7172, 11405, 19311, 19371, 23729, 2627...</td>\n",
       "    </tr>\n",
       "    <tr>\n",
       "      <th>7</th>\n",
       "      <td>20230621_111240_standard_comp_to_omission_D5_s...</td>\n",
       "      <td>[6, 7, 13, 15, 16, 17, 22, 24, 26, 36, 37, 46,...</td>\n",
       "      <td>[[1891, 5872, 8366, 16312, 17233, 24302, 24337...</td>\n",
       "    </tr>\n",
       "  </tbody>\n",
       "</table>\n",
       "</div>"
      ],
      "text/plain": [
       "                                      recording_name  \\\n",
       "0  20230617_115521_standard_comp_to_omission_D1_s...   \n",
       "1  20230617_115521_standard_comp_to_omission_D1_s...   \n",
       "2  20230618_100636_standard_comp_to_omission_D2_s...   \n",
       "3  20230618_100636_standard_comp_to_omission_D2_s...   \n",
       "4  20230619_115321_standard_comp_to_omission_D3_s...   \n",
       "5  20230620_114347_standard_comp_to_omission_D4_s...   \n",
       "6  20230620_114347_standard_comp_to_omission_D4_s...   \n",
       "7  20230621_111240_standard_comp_to_omission_D5_s...   \n",
       "\n",
       "                                      spike_clusters  \\\n",
       "0  [3, 4, 5, 6, 17, 28, 29, 39, 48, 52, 53, 54, 5...   \n",
       "1  [16, 17, 20, 25, 26, 34, 35, 39, 40, 42, 43, 4...   \n",
       "2  [7, 11, 12, 48, 50, 51, 61, 64, 76, 84, 90, 98...   \n",
       "3  [9, 19, 65, 83, 87, 93, 99, 103, 105, 106, 118...   \n",
       "4  [11, 44, 132, 134, 186, 187, 227, 250, 252, 25...   \n",
       "5       [2, 22, 64, 89, 98, 100, 119, 121, 122, 126]   \n",
       "6  [14, 28, 41, 42, 43, 45, 48, 53, 58, 68, 124, ...   \n",
       "7  [6, 7, 13, 15, 16, 17, 22, 24, 26, 36, 37, 46,...   \n",
       "\n",
       "                                         spike_times  \n",
       "0  [[673223, 2367433, 2569212, 3969647, 3973243, ...  \n",
       "1  [[958, 5233, 6331, 7475, 8599, 10550, 23459, 2...  \n",
       "2  [[506, 1419, 2358, 5104, 6785, 7620, 9801, 120...  \n",
       "3  [[458431, 506645, 509846, 545481, 571000, 6011...  \n",
       "4  [[17747, 20655, 24011, 34755, 67305, 110220, 1...  \n",
       "5  [[264055, 325873, 327931, 330996, 334463, 3590...  \n",
       "6  [[5884, 7172, 11405, 19311, 19371, 23729, 2627...  \n",
       "7  [[1891, 5872, 8366, 16312, 17233, 24302, 24337...  "
      ]
     },
     "execution_count": 35,
     "metadata": {},
     "output_type": "execute_result"
    }
   ],
   "source": [
    "grouped_df"
   ]
  },
  {
   "cell_type": "code",
   "execution_count": 38,
   "metadata": {},
   "outputs": [],
   "source": [
    "VIDEO_TO_FRAME_AND_SUBJECT_DF = pd.merge(VIDEO_TO_FRAME_AND_SUBJECT_DF, grouped_df, left_on='recording', right_on=\"recording_name\", how='inner')"
   ]
  },
  {
   "cell_type": "code",
   "execution_count": 42,
   "metadata": {},
   "outputs": [
    {
     "data": {
      "text/html": [
       "<div>\n",
       "<style scoped>\n",
       "    .dataframe tbody tr th:only-of-type {\n",
       "        vertical-align: middle;\n",
       "    }\n",
       "\n",
       "    .dataframe tbody tr th {\n",
       "        vertical-align: top;\n",
       "    }\n",
       "\n",
       "    .dataframe thead th {\n",
       "        text-align: right;\n",
       "    }\n",
       "</style>\n",
       "<table border=\"1\" class=\"dataframe\">\n",
       "  <thead>\n",
       "    <tr style=\"text-align: right;\">\n",
       "      <th></th>\n",
       "      <th>agent</th>\n",
       "      <th>cohort</th>\n",
       "      <th>session_dir</th>\n",
       "      <th>sleap_filename</th>\n",
       "      <th>sleap_fileroot</th>\n",
       "      <th>start_stop_frame</th>\n",
       "      <th>tone_frames</th>\n",
       "      <th>port_entry_frames</th>\n",
       "      <th>box_top_left</th>\n",
       "      <th>box_bottom_left</th>\n",
       "      <th>...</th>\n",
       "      <th>filtered_lfp_timestamps</th>\n",
       "      <th>filtered_video_timestamps</th>\n",
       "      <th>filtered_mpfc_trace</th>\n",
       "      <th>filtered_vhpc_trace</th>\n",
       "      <th>filtered_bla_trace</th>\n",
       "      <th>filtered_lh_trace</th>\n",
       "      <th>filtered_md_trace</th>\n",
       "      <th>recording_name</th>\n",
       "      <th>spike_clusters</th>\n",
       "      <th>spike_times</th>\n",
       "    </tr>\n",
       "  </thead>\n",
       "  <tbody>\n",
       "    <tr>\n",
       "      <th>0</th>\n",
       "      <td>1.2</td>\n",
       "      <td>2</td>\n",
       "      <td>20230617_115521_standard_comp_to_omission_D1_s...</td>\n",
       "      <td>20230617_115521_standard_comp_to_omission_D1_s...</td>\n",
       "      <td>20230617_115521_standard_comp_to_omission_D1_s...</td>\n",
       "      <td>(1, 39500)</td>\n",
       "      <td>[[1029, 1229], [3425, 3624], [5721, 5920], [75...</td>\n",
       "      <td>[[102, 105], [110, 148], [193, 199], [200, 202...</td>\n",
       "      <td>[29.623370221193532, 10.85380707317621]</td>\n",
       "      <td>[30.23007505102494, 34.598706975722735]</td>\n",
       "      <td>...</td>\n",
       "      <td>[1400, 1420, 1440, 1460, 1480, 1500, 1520, 154...</td>\n",
       "      <td>[1384, 1500, 2770, 4156, 5542, 5542, 6927, 831...</td>\n",
       "      <td>[0.015505511, 0.62215865, 1.1086441, 1.3373504...</td>\n",
       "      <td>[-1.3505517, -0.8568693, -0.33960325, 0.141501...</td>\n",
       "      <td>[-1.7142574, -1.1298128, -0.101937994, 0.48760...</td>\n",
       "      <td>[-2.3216858, -1.907385, -1.5471234, -1.4290377...</td>\n",
       "      <td>[-2.3028033, -2.0405018, -1.7475417, -1.429032...</td>\n",
       "      <td>20230617_115521_standard_comp_to_omission_D1_s...</td>\n",
       "      <td>[3, 4, 5, 6, 17, 28, 29, 39, 48, 52, 53, 54, 5...</td>\n",
       "      <td>[[673223, 2367433, 2569212, 3969647, 3973243, ...</td>\n",
       "    </tr>\n",
       "    <tr>\n",
       "      <th>1</th>\n",
       "      <td>1.1</td>\n",
       "      <td>2</td>\n",
       "      <td>20230617_115521_standard_comp_to_omission_D1_s...</td>\n",
       "      <td>20230617_115521_standard_comp_to_omission_D1_s...</td>\n",
       "      <td>20230617_115521_standard_comp_to_omission_D1_s...</td>\n",
       "      <td>(1, 39500)</td>\n",
       "      <td>[[1029, 1229], [3425, 3624], [5721, 5920], [75...</td>\n",
       "      <td>[[102, 105], [110, 148], [193, 199], [200, 202...</td>\n",
       "      <td>[29.623370221193532, 10.85380707317621]</td>\n",
       "      <td>[30.23007505102494, 34.598706975722735]</td>\n",
       "      <td>...</td>\n",
       "      <td>[1400, 1420, 1440, 1460, 1480, 1500, 1520, 154...</td>\n",
       "      <td>[1384, 1500, 2770, 4156, 5542, 5542, 6927, 831...</td>\n",
       "      <td>[0.6574679, 0.11276958, -0.3659692, -0.3723524...</td>\n",
       "      <td>[0.7847764, 0.6408233, 0.48410022, 0.30299798,...</td>\n",
       "      <td>[0.5454766, 0.5454766, 0.5228427, 0.518316, 0....</td>\n",
       "      <td>[0.19785033, -0.25780496, -0.2787891, 0.119909...</td>\n",
       "      <td>[-0.62384546, -0.897785, -1.1164762, -0.982959...</td>\n",
       "      <td>20230617_115521_standard_comp_to_omission_D1_s...</td>\n",
       "      <td>[16, 17, 20, 25, 26, 34, 35, 39, 40, 42, 43, 4...</td>\n",
       "      <td>[[958, 5233, 6331, 7475, 8599, 10550, 23459, 2...</td>\n",
       "    </tr>\n",
       "    <tr>\n",
       "      <th>2</th>\n",
       "      <td>1.4</td>\n",
       "      <td>2</td>\n",
       "      <td>20230618_100636_standard_comp_to_omission_D2_s...</td>\n",
       "      <td>20230618_100636_standard_comp_to_omission_D2_s...</td>\n",
       "      <td>20230618_100636_standard_comp_to_omission_D2_s...</td>\n",
       "      <td>(1, 32316)</td>\n",
       "      <td>[[1098, 1297], [3492, 3693], [5788, 5988], [75...</td>\n",
       "      <td>[[788, 835], [838, 839], [839, 871], [871, 900...</td>\n",
       "      <td>[28.94954695212123, 11.559275766924861]</td>\n",
       "      <td>[29.794023445649177, 35.275466614423074]</td>\n",
       "      <td>...</td>\n",
       "      <td>[1400, 1420, 1440, 1460, 1480, 1500, 1520, 154...</td>\n",
       "      <td>[1384, 2770, 2770, 4155, 5541, 6927, 6927, 831...</td>\n",
       "      <td>[0.31349525, 0.40279388, 0.41229373, 0.3039953...</td>\n",
       "      <td>[0.35449925, 0.8595823, 1.0148718, 0.86899376,...</td>\n",
       "      <td>[0.6661627, 0.8376996, 0.9243008, 1.0025749, 0...</td>\n",
       "      <td>[0.6916378, 0.96981716, 0.9088464, 0.7583246, ...</td>\n",
       "      <td>[0.3162679, 0.49376523, 0.4066302, 0.13715701,...</td>\n",
       "      <td>20230618_100636_standard_comp_to_omission_D2_s...</td>\n",
       "      <td>[7, 11, 12, 48, 50, 51, 61, 64, 76, 84, 90, 98...</td>\n",
       "      <td>[[506, 1419, 2358, 5104, 6785, 7620, 9801, 120...</td>\n",
       "    </tr>\n",
       "    <tr>\n",
       "      <th>3</th>\n",
       "      <td>1.1</td>\n",
       "      <td>2</td>\n",
       "      <td>20230618_100636_standard_comp_to_omission_D2_s...</td>\n",
       "      <td>20230618_100636_standard_comp_to_omission_D2_s...</td>\n",
       "      <td>20230618_100636_standard_comp_to_omission_D2_s...</td>\n",
       "      <td>(1, 32316)</td>\n",
       "      <td>[[1098, 1297], [3492, 3693], [5788, 5988], [75...</td>\n",
       "      <td>[[788, 835], [838, 839], [839, 871], [871, 900...</td>\n",
       "      <td>[28.94954695212123, 11.559275766924861]</td>\n",
       "      <td>[29.794023445649177, 35.275466614423074]</td>\n",
       "      <td>...</td>\n",
       "      <td>[1400, 1420, 1440, 1460, 1480, 1500, 1520, 154...</td>\n",
       "      <td>[1384, 2770, 2770, 4155, 5541, 6927, 6927, 831...</td>\n",
       "      <td>[1.8754106, 0.06580388, -1.1351169, 0.23031357...</td>\n",
       "      <td>[2.2451546, 1.6649991, 1.3395461, 1.8442342, 1...</td>\n",
       "      <td>[2.131642, 1.495331, 1.0403687, 1.6066855, 1.8...</td>\n",
       "      <td>[0.6786791, -0.12149195, -0.31839266, 0.494346...</td>\n",
       "      <td>[0.7159058, -0.05324919, -0.6389903, 0.0, 0.44...</td>\n",
       "      <td>20230618_100636_standard_comp_to_omission_D2_s...</td>\n",
       "      <td>[9, 19, 65, 83, 87, 93, 99, 103, 105, 106, 118...</td>\n",
       "      <td>[[458431, 506645, 509846, 545481, 571000, 6011...</td>\n",
       "    </tr>\n",
       "    <tr>\n",
       "      <th>4</th>\n",
       "      <td>1.2</td>\n",
       "      <td>2</td>\n",
       "      <td>20230620_114347_standard_comp_to_omission_D4_s...</td>\n",
       "      <td>20230620_114347_standard_comp_to_omission_D4_s...</td>\n",
       "      <td>20230620_114347_standard_comp_to_omission_D4_s...</td>\n",
       "      <td>(2027, 32239)</td>\n",
       "      <td>[[1058, 1265], [3460, 3659], [5756, 5955], [75...</td>\n",
       "      <td>[[6, 29], [32, 40], [168, 183], [197, 218], [3...</td>\n",
       "      <td>[28.726306016601946, 10.842459364362139]</td>\n",
       "      <td>[30.091010784999508, 34.98257973535351]</td>\n",
       "      <td>...</td>\n",
       "      <td>[2022000, 2022020, 2022040, 2022060, 2022080, ...</td>\n",
       "      <td>[2021982, 2023278, 2023368, 2024753, 2026139, ...</td>\n",
       "      <td>[0.96733546, 0.90309834, 0.82374656, 0.7462842...</td>\n",
       "      <td>[-0.43027794, -0.39102963, -0.3735859, -0.4099...</td>\n",
       "      <td>[1.2360266, 1.2037544, 1.0714383, 0.677717, 0....</td>\n",
       "      <td>[0.49828878, 0.45471218, 0.39976782, 0.2576702...</td>\n",
       "      <td>[0.5827334, 0.48292822, 0.37990353, 0.31873262...</td>\n",
       "      <td>20230620_114347_standard_comp_to_omission_D4_s...</td>\n",
       "      <td>[2, 22, 64, 89, 98, 100, 119, 121, 122, 126]</td>\n",
       "      <td>[[264055, 325873, 327931, 330996, 334463, 3590...</td>\n",
       "    </tr>\n",
       "  </tbody>\n",
       "</table>\n",
       "<p>5 rows × 39 columns</p>\n",
       "</div>"
      ],
      "text/plain": [
       "  agent  cohort                                        session_dir  \\\n",
       "0   1.2       2  20230617_115521_standard_comp_to_omission_D1_s...   \n",
       "1   1.1       2  20230617_115521_standard_comp_to_omission_D1_s...   \n",
       "2   1.4       2  20230618_100636_standard_comp_to_omission_D2_s...   \n",
       "3   1.1       2  20230618_100636_standard_comp_to_omission_D2_s...   \n",
       "4   1.2       2  20230620_114347_standard_comp_to_omission_D4_s...   \n",
       "\n",
       "                                      sleap_filename  \\\n",
       "0  20230617_115521_standard_comp_to_omission_D1_s...   \n",
       "1  20230617_115521_standard_comp_to_omission_D1_s...   \n",
       "2  20230618_100636_standard_comp_to_omission_D2_s...   \n",
       "3  20230618_100636_standard_comp_to_omission_D2_s...   \n",
       "4  20230620_114347_standard_comp_to_omission_D4_s...   \n",
       "\n",
       "                                      sleap_fileroot start_stop_frame  \\\n",
       "0  20230617_115521_standard_comp_to_omission_D1_s...       (1, 39500)   \n",
       "1  20230617_115521_standard_comp_to_omission_D1_s...       (1, 39500)   \n",
       "2  20230618_100636_standard_comp_to_omission_D2_s...       (1, 32316)   \n",
       "3  20230618_100636_standard_comp_to_omission_D2_s...       (1, 32316)   \n",
       "4  20230620_114347_standard_comp_to_omission_D4_s...    (2027, 32239)   \n",
       "\n",
       "                                         tone_frames  \\\n",
       "0  [[1029, 1229], [3425, 3624], [5721, 5920], [75...   \n",
       "1  [[1029, 1229], [3425, 3624], [5721, 5920], [75...   \n",
       "2  [[1098, 1297], [3492, 3693], [5788, 5988], [75...   \n",
       "3  [[1098, 1297], [3492, 3693], [5788, 5988], [75...   \n",
       "4  [[1058, 1265], [3460, 3659], [5756, 5955], [75...   \n",
       "\n",
       "                                   port_entry_frames  \\\n",
       "0  [[102, 105], [110, 148], [193, 199], [200, 202...   \n",
       "1  [[102, 105], [110, 148], [193, 199], [200, 202...   \n",
       "2  [[788, 835], [838, 839], [839, 871], [871, 900...   \n",
       "3  [[788, 835], [838, 839], [839, 871], [871, 900...   \n",
       "4  [[6, 29], [32, 40], [168, 183], [197, 218], [3...   \n",
       "\n",
       "                               box_top_left  \\\n",
       "0   [29.623370221193532, 10.85380707317621]   \n",
       "1   [29.623370221193532, 10.85380707317621]   \n",
       "2   [28.94954695212123, 11.559275766924861]   \n",
       "3   [28.94954695212123, 11.559275766924861]   \n",
       "4  [28.726306016601946, 10.842459364362139]   \n",
       "\n",
       "                            box_bottom_left  ...  \\\n",
       "0   [30.23007505102494, 34.598706975722735]  ...   \n",
       "1   [30.23007505102494, 34.598706975722735]  ...   \n",
       "2  [29.794023445649177, 35.275466614423074]  ...   \n",
       "3  [29.794023445649177, 35.275466614423074]  ...   \n",
       "4   [30.091010784999508, 34.98257973535351]  ...   \n",
       "\n",
       "                             filtered_lfp_timestamps  \\\n",
       "0  [1400, 1420, 1440, 1460, 1480, 1500, 1520, 154...   \n",
       "1  [1400, 1420, 1440, 1460, 1480, 1500, 1520, 154...   \n",
       "2  [1400, 1420, 1440, 1460, 1480, 1500, 1520, 154...   \n",
       "3  [1400, 1420, 1440, 1460, 1480, 1500, 1520, 154...   \n",
       "4  [2022000, 2022020, 2022040, 2022060, 2022080, ...   \n",
       "\n",
       "                           filtered_video_timestamps  \\\n",
       "0  [1384, 1500, 2770, 4156, 5542, 5542, 6927, 831...   \n",
       "1  [1384, 1500, 2770, 4156, 5542, 5542, 6927, 831...   \n",
       "2  [1384, 2770, 2770, 4155, 5541, 6927, 6927, 831...   \n",
       "3  [1384, 2770, 2770, 4155, 5541, 6927, 6927, 831...   \n",
       "4  [2021982, 2023278, 2023368, 2024753, 2026139, ...   \n",
       "\n",
       "                                 filtered_mpfc_trace  \\\n",
       "0  [0.015505511, 0.62215865, 1.1086441, 1.3373504...   \n",
       "1  [0.6574679, 0.11276958, -0.3659692, -0.3723524...   \n",
       "2  [0.31349525, 0.40279388, 0.41229373, 0.3039953...   \n",
       "3  [1.8754106, 0.06580388, -1.1351169, 0.23031357...   \n",
       "4  [0.96733546, 0.90309834, 0.82374656, 0.7462842...   \n",
       "\n",
       "                                 filtered_vhpc_trace  \\\n",
       "0  [-1.3505517, -0.8568693, -0.33960325, 0.141501...   \n",
       "1  [0.7847764, 0.6408233, 0.48410022, 0.30299798,...   \n",
       "2  [0.35449925, 0.8595823, 1.0148718, 0.86899376,...   \n",
       "3  [2.2451546, 1.6649991, 1.3395461, 1.8442342, 1...   \n",
       "4  [-0.43027794, -0.39102963, -0.3735859, -0.4099...   \n",
       "\n",
       "                                  filtered_bla_trace  \\\n",
       "0  [-1.7142574, -1.1298128, -0.101937994, 0.48760...   \n",
       "1  [0.5454766, 0.5454766, 0.5228427, 0.518316, 0....   \n",
       "2  [0.6661627, 0.8376996, 0.9243008, 1.0025749, 0...   \n",
       "3  [2.131642, 1.495331, 1.0403687, 1.6066855, 1.8...   \n",
       "4  [1.2360266, 1.2037544, 1.0714383, 0.677717, 0....   \n",
       "\n",
       "                                   filtered_lh_trace  \\\n",
       "0  [-2.3216858, -1.907385, -1.5471234, -1.4290377...   \n",
       "1  [0.19785033, -0.25780496, -0.2787891, 0.119909...   \n",
       "2  [0.6916378, 0.96981716, 0.9088464, 0.7583246, ...   \n",
       "3  [0.6786791, -0.12149195, -0.31839266, 0.494346...   \n",
       "4  [0.49828878, 0.45471218, 0.39976782, 0.2576702...   \n",
       "\n",
       "                                   filtered_md_trace  \\\n",
       "0  [-2.3028033, -2.0405018, -1.7475417, -1.429032...   \n",
       "1  [-0.62384546, -0.897785, -1.1164762, -0.982959...   \n",
       "2  [0.3162679, 0.49376523, 0.4066302, 0.13715701,...   \n",
       "3  [0.7159058, -0.05324919, -0.6389903, 0.0, 0.44...   \n",
       "4  [0.5827334, 0.48292822, 0.37990353, 0.31873262...   \n",
       "\n",
       "                                      recording_name  \\\n",
       "0  20230617_115521_standard_comp_to_omission_D1_s...   \n",
       "1  20230617_115521_standard_comp_to_omission_D1_s...   \n",
       "2  20230618_100636_standard_comp_to_omission_D2_s...   \n",
       "3  20230618_100636_standard_comp_to_omission_D2_s...   \n",
       "4  20230620_114347_standard_comp_to_omission_D4_s...   \n",
       "\n",
       "                                      spike_clusters  \\\n",
       "0  [3, 4, 5, 6, 17, 28, 29, 39, 48, 52, 53, 54, 5...   \n",
       "1  [16, 17, 20, 25, 26, 34, 35, 39, 40, 42, 43, 4...   \n",
       "2  [7, 11, 12, 48, 50, 51, 61, 64, 76, 84, 90, 98...   \n",
       "3  [9, 19, 65, 83, 87, 93, 99, 103, 105, 106, 118...   \n",
       "4       [2, 22, 64, 89, 98, 100, 119, 121, 122, 126]   \n",
       "\n",
       "                                         spike_times  \n",
       "0  [[673223, 2367433, 2569212, 3969647, 3973243, ...  \n",
       "1  [[958, 5233, 6331, 7475, 8599, 10550, 23459, 2...  \n",
       "2  [[506, 1419, 2358, 5104, 6785, 7620, 9801, 120...  \n",
       "3  [[458431, 506645, 509846, 545481, 571000, 6011...  \n",
       "4  [[264055, 325873, 327931, 330996, 334463, 3590...  \n",
       "\n",
       "[5 rows x 39 columns]"
      ]
     },
     "execution_count": 42,
     "metadata": {},
     "output_type": "execute_result"
    }
   ],
   "source": [
    "VIDEO_TO_FRAME_AND_SUBJECT_DF.head()"
   ]
  },
  {
   "cell_type": "code",
   "execution_count": 40,
   "metadata": {},
   "outputs": [
    {
     "ename": "KeyError",
     "evalue": "''",
     "output_type": "error",
     "traceback": [
      "\u001b[0;31m---------------------------------------------------------------------------\u001b[0m",
      "\u001b[0;31mKeyError\u001b[0m                                  Traceback (most recent call last)",
      "File \u001b[0;32m~/miniconda3/envs/spike_interface_0_99_0/lib/python3.10/site-packages/pandas/core/indexes/base.py:3790\u001b[0m, in \u001b[0;36mIndex.get_loc\u001b[0;34m(self, key)\u001b[0m\n\u001b[1;32m   3789\u001b[0m \u001b[39mtry\u001b[39;00m:\n\u001b[0;32m-> 3790\u001b[0m     \u001b[39mreturn\u001b[39;00m \u001b[39mself\u001b[39;49m\u001b[39m.\u001b[39;49m_engine\u001b[39m.\u001b[39;49mget_loc(casted_key)\n\u001b[1;32m   3791\u001b[0m \u001b[39mexcept\u001b[39;00m \u001b[39mKeyError\u001b[39;00m \u001b[39mas\u001b[39;00m err:\n",
      "File \u001b[0;32mindex.pyx:152\u001b[0m, in \u001b[0;36mpandas._libs.index.IndexEngine.get_loc\u001b[0;34m()\u001b[0m\n",
      "File \u001b[0;32mindex.pyx:181\u001b[0m, in \u001b[0;36mpandas._libs.index.IndexEngine.get_loc\u001b[0;34m()\u001b[0m\n",
      "File \u001b[0;32mpandas/_libs/hashtable_class_helper.pxi:7080\u001b[0m, in \u001b[0;36mpandas._libs.hashtable.PyObjectHashTable.get_item\u001b[0;34m()\u001b[0m\n",
      "File \u001b[0;32mpandas/_libs/hashtable_class_helper.pxi:7088\u001b[0m, in \u001b[0;36mpandas._libs.hashtable.PyObjectHashTable.get_item\u001b[0;34m()\u001b[0m\n",
      "\u001b[0;31mKeyError\u001b[0m: ''",
      "\nThe above exception was the direct cause of the following exception:\n",
      "\u001b[0;31mKeyError\u001b[0m                                  Traceback (most recent call last)",
      "\u001b[1;32m/nancy/projects/reward_competition_extention/notebooks/export/03_add_spike_times.ipynb Cell 56\u001b[0m line \u001b[0;36m1\n\u001b[0;32m----> <a href='vscode-notebook-cell:/nancy/projects/reward_competition_extention/notebooks/export/03_add_spike_times.ipynb#Y426sZmlsZQ%3D%3D?line=0'>1</a>\u001b[0m VIDEO_TO_FRAME_AND_SUBJECT_DF[\u001b[39m\"\u001b[39;49m\u001b[39m\"\u001b[39;49m]\n",
      "File \u001b[0;32m~/miniconda3/envs/spike_interface_0_99_0/lib/python3.10/site-packages/pandas/core/frame.py:3893\u001b[0m, in \u001b[0;36mDataFrame.__getitem__\u001b[0;34m(self, key)\u001b[0m\n\u001b[1;32m   3891\u001b[0m \u001b[39mif\u001b[39;00m \u001b[39mself\u001b[39m\u001b[39m.\u001b[39mcolumns\u001b[39m.\u001b[39mnlevels \u001b[39m>\u001b[39m \u001b[39m1\u001b[39m:\n\u001b[1;32m   3892\u001b[0m     \u001b[39mreturn\u001b[39;00m \u001b[39mself\u001b[39m\u001b[39m.\u001b[39m_getitem_multilevel(key)\n\u001b[0;32m-> 3893\u001b[0m indexer \u001b[39m=\u001b[39m \u001b[39mself\u001b[39;49m\u001b[39m.\u001b[39;49mcolumns\u001b[39m.\u001b[39;49mget_loc(key)\n\u001b[1;32m   3894\u001b[0m \u001b[39mif\u001b[39;00m is_integer(indexer):\n\u001b[1;32m   3895\u001b[0m     indexer \u001b[39m=\u001b[39m [indexer]\n",
      "File \u001b[0;32m~/miniconda3/envs/spike_interface_0_99_0/lib/python3.10/site-packages/pandas/core/indexes/base.py:3797\u001b[0m, in \u001b[0;36mIndex.get_loc\u001b[0;34m(self, key)\u001b[0m\n\u001b[1;32m   3792\u001b[0m     \u001b[39mif\u001b[39;00m \u001b[39misinstance\u001b[39m(casted_key, \u001b[39mslice\u001b[39m) \u001b[39mor\u001b[39;00m (\n\u001b[1;32m   3793\u001b[0m         \u001b[39misinstance\u001b[39m(casted_key, abc\u001b[39m.\u001b[39mIterable)\n\u001b[1;32m   3794\u001b[0m         \u001b[39mand\u001b[39;00m \u001b[39many\u001b[39m(\u001b[39misinstance\u001b[39m(x, \u001b[39mslice\u001b[39m) \u001b[39mfor\u001b[39;00m x \u001b[39min\u001b[39;00m casted_key)\n\u001b[1;32m   3795\u001b[0m     ):\n\u001b[1;32m   3796\u001b[0m         \u001b[39mraise\u001b[39;00m InvalidIndexError(key)\n\u001b[0;32m-> 3797\u001b[0m     \u001b[39mraise\u001b[39;00m \u001b[39mKeyError\u001b[39;00m(key) \u001b[39mfrom\u001b[39;00m \u001b[39merr\u001b[39;00m\n\u001b[1;32m   3798\u001b[0m \u001b[39mexcept\u001b[39;00m \u001b[39mTypeError\u001b[39;00m:\n\u001b[1;32m   3799\u001b[0m     \u001b[39m# If we have a listlike key, _check_indexing_error will raise\u001b[39;00m\n\u001b[1;32m   3800\u001b[0m     \u001b[39m#  InvalidIndexError. Otherwise we fall through and re-raise\u001b[39;00m\n\u001b[1;32m   3801\u001b[0m     \u001b[39m#  the TypeError.\u001b[39;00m\n\u001b[1;32m   3802\u001b[0m     \u001b[39mself\u001b[39m\u001b[39m.\u001b[39m_check_indexing_error(key)\n",
      "\u001b[0;31mKeyError\u001b[0m: ''"
     ]
    }
   ],
   "source": [
    "VIDEO_TO_FRAME_AND_SUBJECT_DF[\"average_firing_rate\"] = VIDEO_TO_FRAME_AND_SUBJECT_DF[\"spike_times\"].apply(lambda x: len(x) / (x[-1] - x[0]))"
   ]
  },
  {
   "cell_type": "code",
   "execution_count": 36,
   "metadata": {},
   "outputs": [
    {
     "ename": "SyntaxError",
     "evalue": "invalid syntax (237021957.py, line 1)",
     "output_type": "error",
     "traceback": [
      "\u001b[0;36m  Cell \u001b[0;32mIn[36], line 1\u001b[0;36m\u001b[0m\n\u001b[0;31m    raised ValueError(\"\")\u001b[0m\n\u001b[0m           ^\u001b[0m\n\u001b[0;31mSyntaxError\u001b[0m\u001b[0;31m:\u001b[0m invalid syntax\n"
     ]
    }
   ],
   "source": [
    "raised ValueError(\"\")"
   ]
  },
  {
   "cell_type": "code",
   "execution_count": null,
   "metadata": {},
   "outputs": [],
   "source": [
    "VIDEO_TO_FRAME_AND_SUBJECT_DF[\"spike_clusters\"] = VIDEO_TO_FRAME_AND_SUBJECT_DF[\"recording\"].map(grouped_df.groupby('recording_name')['spike_clusters'].apply(lambda x: list(x)).to_dict())\n",
    "VIDEO_TO_FRAME_AND_SUBJECT_DF[\"spike_times\"] = VIDEO_TO_FRAME_AND_SUBJECT_DF[\"recording\"].map(grouped_df.groupby('recording_name')['spike_times'].apply(lambda x: list(x)).to_dict())"
   ]
  },
  {
   "cell_type": "code",
   "execution_count": null,
   "metadata": {},
   "outputs": [],
   "source": [
    "VIDEO_TO_FRAME_AND_SUBJECT_DF[\"spike_times\"].iloc[0]"
   ]
  },
  {
   "cell_type": "code",
   "execution_count": null,
   "metadata": {},
   "outputs": [],
   "source": [
    "VIDEO_TO_FRAME_AND_SUBJECT_DF.columns"
   ]
  },
  {
   "cell_type": "code",
   "execution_count": null,
   "metadata": {},
   "outputs": [],
   "source": [
    "VIDEO_TO_FRAME_AND_SUBJECT_DF[\"recording\"].iloc[0]"
   ]
  },
  {
   "cell_type": "code",
   "execution_count": null,
   "metadata": {},
   "outputs": [],
   "source": [
    "1215337/20000"
   ]
  },
  {
   "cell_type": "code",
   "execution_count": null,
   "metadata": {},
   "outputs": [],
   "source": [
    "all_spike_time_df[\"recording_name\"].unique()"
   ]
  },
  {
   "cell_type": "code",
   "execution_count": null,
   "metadata": {},
   "outputs": [],
   "source": [
    "all_spike_time_df[\"spike_times\"].min()"
   ]
  },
  {
   "cell_type": "markdown",
   "metadata": {},
   "source": []
  },
  {
   "cell_type": "code",
   "execution_count": null,
   "metadata": {},
   "outputs": [],
   "source": [
    "all_spike_time_df[\"spike_times\"].max()"
   ]
  },
  {
   "cell_type": "code",
   "execution_count": null,
   "metadata": {},
   "outputs": [],
   "source": [
    "all_spike_time_df[\"recording_name\"].unique()"
   ]
  },
  {
   "cell_type": "code",
   "execution_count": null,
   "metadata": {},
   "outputs": [],
   "source": [
    "example_spike_times = all_spike_time_df[(all_spike_time_df[\"recording_name\"] == '20230618_100636_standard_comp_to_omission_D2_subj_1_4_t4b3L_box1_merged') & (all_spike_time_df[\"spike_clusters\"] == 65)][\"spike_times\"]"
   ]
  },
  {
   "cell_type": "code",
   "execution_count": null,
   "metadata": {},
   "outputs": [],
   "source": []
  },
  {
   "cell_type": "code",
   "execution_count": null,
   "metadata": {},
   "outputs": [],
   "source": [
    "example_average_fr, example_average_timestamps = calculate_rolling_avg_firing_rate(example_spike_times.values, 2000, 2000)"
   ]
  },
  {
   "cell_type": "code",
   "execution_count": null,
   "metadata": {},
   "outputs": [],
   "source": [
    "example_average_fr[:10]"
   ]
  },
  {
   "cell_type": "code",
   "execution_count": null,
   "metadata": {},
   "outputs": [],
   "source": [
    "raise ValueError(\"Stop here\")"
   ]
  },
  {
   "cell_type": "markdown",
   "metadata": {},
   "source": [
    "# Reading in the h5 files between recordings"
   ]
  },
  {
   "cell_type": "code",
   "execution_count": null,
   "metadata": {},
   "outputs": [],
   "source": [
    "VIDEO_TO_FRAME_AND_SUBJECT_DF.head()"
   ]
  },
  {
   "cell_type": "code",
   "execution_count": null,
   "metadata": {},
   "outputs": [],
   "source": []
  },
  {
   "cell_type": "markdown",
   "metadata": {},
   "source": [
    "- Getting the names of each subject"
   ]
  },
  {
   "cell_type": "code",
   "execution_count": null,
   "metadata": {},
   "outputs": [],
   "source": []
  },
  {
   "cell_type": "code",
   "execution_count": null,
   "metadata": {},
   "outputs": [],
   "source": [
    "VIDEO_TO_FRAME_AND_SUBJECT_DF[\"video_name\"].iloc[0]"
   ]
  },
  {
   "cell_type": "code",
   "execution_count": null,
   "metadata": {},
   "outputs": [],
   "source": [
    "# VIDEO_TO_FRAME_AND_SUBJECT_DF[\"video_path\"] = VIDEO_TO_FRAME_AND_SUBJECT_DF[\"video_name\"].apply(lambda x: os.path.join(SLEAP_DIR, \"*\", x + \"*.h5\"))\n",
    "VIDEO_TO_FRAME_AND_SUBJECT_DF[\"sleap_glob\"] = VIDEO_TO_FRAME_AND_SUBJECT_DF[\"video_name\"].apply(lambda x: glob.glob(os.path.join(SLEAP_DIR, \"*\", x + \"*2_subj*.h5\")))\n",
    "VIDEO_TO_FRAME_AND_SUBJECT_DF = VIDEO_TO_FRAME_AND_SUBJECT_DF[VIDEO_TO_FRAME_AND_SUBJECT_DF['sleap_glob'].apply(lambda x: len(x) == 1)]\n",
    "VIDEO_TO_FRAME_AND_SUBJECT_DF = VIDEO_TO_FRAME_AND_SUBJECT_DF.reset_index(drop=True)\n",
    "\n",
    "\n",
    "VIDEO_TO_FRAME_AND_SUBJECT_DF[\"sleap_path\"] = VIDEO_TO_FRAME_AND_SUBJECT_DF[\"sleap_glob\"].apply(lambda x: x[0])"
   ]
  },
  {
   "cell_type": "code",
   "execution_count": null,
   "metadata": {},
   "outputs": [],
   "source": []
  },
  {
   "cell_type": "code",
   "execution_count": null,
   "metadata": {},
   "outputs": [],
   "source": [
    "VIDEO_TO_FRAME_AND_SUBJECT_DF"
   ]
  },
  {
   "cell_type": "markdown",
   "metadata": {},
   "source": []
  },
  {
   "cell_type": "code",
   "execution_count": null,
   "metadata": {},
   "outputs": [],
   "source": [
    "VIDEO_TO_FRAME_AND_SUBJECT_DF[\"all_sleap_data\"] = VIDEO_TO_FRAME_AND_SUBJECT_DF[\"sleap_path\"].apply(lambda x: sleap.process_pose.extract_sleap_data(x))\n"
   ]
  },
  {
   "cell_type": "code",
   "execution_count": null,
   "metadata": {},
   "outputs": [],
   "source": [
    "VIDEO_TO_FRAME_AND_SUBJECT_DF[\"locations\"] = VIDEO_TO_FRAME_AND_SUBJECT_DF[\"all_sleap_data\"].apply(lambda x: x[\"locations\"])"
   ]
  },
  {
   "cell_type": "code",
   "execution_count": null,
   "metadata": {},
   "outputs": [],
   "source": [
    "VIDEO_TO_FRAME_AND_SUBJECT_DF[\"track_names\"] = VIDEO_TO_FRAME_AND_SUBJECT_DF[\"all_sleap_data\"].apply(lambda x: x[\"track_names\"])"
   ]
  },
  {
   "cell_type": "code",
   "execution_count": null,
   "metadata": {},
   "outputs": [],
   "source": [
    "VIDEO_TO_FRAME_AND_SUBJECT_DF[\"track_names\"]"
   ]
  },
  {
   "cell_type": "code",
   "execution_count": null,
   "metadata": {},
   "outputs": [],
   "source": [
    "# Getting the coordinates of all the body parts for all the animals for the entire recording\n",
    "VIDEO_TO_FRAME_AND_SUBJECT_DF[\"locations\"] = VIDEO_TO_FRAME_AND_SUBJECT_DF[\"sleap_path\"].apply(lambda x: sleap.process_pose.get_sleap_tracks_from_h5(x))\n",
    "# Getting the name of the tracks which correspond to the animal id\n",
    "VIDEO_TO_FRAME_AND_SUBJECT_DF[\"track_names\"] = VIDEO_TO_FRAME_AND_SUBJECT_DF[\"sleap_path\"].apply(lambda x: sleap.process_pose.get_sleap_track_names_from_h5(x))"
   ]
  },
  {
   "cell_type": "code",
   "execution_count": null,
   "metadata": {},
   "outputs": [],
   "source": [
    "VIDEO_TO_FRAME_AND_SUBJECT_DF[\"locations\"].iloc[0].shape"
   ]
  },
  {
   "cell_type": "code",
   "execution_count": null,
   "metadata": {},
   "outputs": [],
   "source": [
    "VIDEO_TO_FRAME_AND_SUBJECT_DF[\"track_names\"].iloc[0]"
   ]
  },
  {
   "cell_type": "code",
   "execution_count": null,
   "metadata": {},
   "outputs": [],
   "source": [
    "VIDEO_TO_FRAME_AND_SUBJECT_DF[\"subject\"]"
   ]
  },
  {
   "cell_type": "code",
   "execution_count": null,
   "metadata": {},
   "outputs": [],
   "source": [
    "VIDEO_TO_FRAME_AND_SUBJECT_DF[\"track_names\"]"
   ]
  },
  {
   "cell_type": "code",
   "execution_count": null,
   "metadata": {},
   "outputs": [],
   "source": [
    "# Getting the indexes of each subject from the track list\n",
    "VIDEO_TO_FRAME_AND_SUBJECT_DF[\"subject_to_index\"] = VIDEO_TO_FRAME_AND_SUBJECT_DF.apply(lambda x: {k: x[\"track_names\"].index(k) for k in x[\"all_subjects\"] if k in x[\"track_names\"]}, axis=1)"
   ]
  },
  {
   "cell_type": "code",
   "execution_count": null,
   "metadata": {},
   "outputs": [],
   "source": [
    "VIDEO_TO_FRAME_AND_SUBJECT_DF[\"subject_to_index\"]"
   ]
  },
  {
   "cell_type": "code",
   "execution_count": null,
   "metadata": {},
   "outputs": [],
   "source": [
    "VIDEO_TO_FRAME_AND_SUBJECT_DF[\"subject_to_tracks\"] = VIDEO_TO_FRAME_AND_SUBJECT_DF.apply(lambda x: {k:v for k, v in x[\"subject_to_index\"].items()}, axis=1)"
   ]
  },
  {
   "cell_type": "code",
   "execution_count": null,
   "metadata": {},
   "outputs": [],
   "source": [
    "VIDEO_TO_FRAME_AND_SUBJECT_DF[\"subject_to_tracks\"]"
   ]
  },
  {
   "cell_type": "code",
   "execution_count": null,
   "metadata": {},
   "outputs": [],
   "source": [
    "VIDEO_TO_FRAME_AND_SUBJECT_DF[\"subject_to_tracks\"] = VIDEO_TO_FRAME_AND_SUBJECT_DF.apply(lambda x: {k: x[\"locations\"][:,:,:,v] for k, v in x[\"subject_to_index\"].items()}, axis=1)"
   ]
  },
  {
   "cell_type": "code",
   "execution_count": null,
   "metadata": {},
   "outputs": [],
   "source": [
    "VIDEO_TO_FRAME_AND_SUBJECT_DF[\"subject_to_tracks\"]"
   ]
  },
  {
   "cell_type": "code",
   "execution_count": null,
   "metadata": {},
   "outputs": [],
   "source": [
    "VIDEO_TO_FRAME_AND_SUBJECT_DF.head()"
   ]
  },
  {
   "cell_type": "markdown",
   "metadata": {},
   "source": [
    "## Getting the coordinates of the corners"
   ]
  },
  {
   "cell_type": "code",
   "execution_count": null,
   "metadata": {},
   "outputs": [],
   "source": [
    "VIDEO_TO_FRAME_AND_SUBJECT_DF[\"sleap_path\"].iloc[0]"
   ]
  },
  {
   "cell_type": "code",
   "execution_count": null,
   "metadata": {},
   "outputs": [],
   "source": [
    "# Each corner file is the in the same folder and has the same basename of the pose tracking file \n",
    "VIDEO_TO_FRAME_AND_SUBJECT_DF[\"corner_path\"] = VIDEO_TO_FRAME_AND_SUBJECT_DF[\"sleap_path\"].apply(lambda x: x.replace(\"id_corrected.h5\", \"corner.h5\").replace(\".fixed\", \"\").replace(\".round_1\", \"\").replace(\".1_subj\", \"\").replace(\".2_subj\", \"\"))\n"
   ]
  },
  {
   "cell_type": "code",
   "execution_count": null,
   "metadata": {},
   "outputs": [],
   "source": [
    "VIDEO_TO_FRAME_AND_SUBJECT_DF[\"corner_path\"].iloc[0]"
   ]
  },
  {
   "cell_type": "code",
   "execution_count": null,
   "metadata": {},
   "outputs": [],
   "source": [
    "# Getting the indexes of each corner location\n",
    "VIDEO_TO_FRAME_AND_SUBJECT_DF[\"corner_parts\"] = VIDEO_TO_FRAME_AND_SUBJECT_DF[\"corner_path\"].apply(lambda x: sleap.process_pose.get_node_names_from_sleap(x))"
   ]
  },
  {
   "cell_type": "code",
   "execution_count": null,
   "metadata": {},
   "outputs": [],
   "source": [
    "VIDEO_TO_FRAME_AND_SUBJECT_DF[\"corner_parts\"]"
   ]
  },
  {
   "cell_type": "code",
   "execution_count": null,
   "metadata": {},
   "outputs": [],
   "source": [
    "# Getting the coordinates of all the corners\n",
    "VIDEO_TO_FRAME_AND_SUBJECT_DF[\"corner_to_coordinate\"] = VIDEO_TO_FRAME_AND_SUBJECT_DF[\"corner_path\"].apply(lambda x: sleap.process_pose.get_sleap_tracks_from_h5(x))"
   ]
  },
  {
   "cell_type": "code",
   "execution_count": null,
   "metadata": {},
   "outputs": [],
   "source": [
    "# Parsing out each corner and creating a dictionary of name to coordinates\n",
    "VIDEO_TO_FRAME_AND_SUBJECT_DF[\"corner_to_coordinate\"] = VIDEO_TO_FRAME_AND_SUBJECT_DF.apply(lambda x: {part: x[\"corner_to_coordinate\"][:,index,:,:] for index, part in enumerate(x[\"corner_parts\"])}, axis=1)"
   ]
  },
  {
   "cell_type": "code",
   "execution_count": null,
   "metadata": {},
   "outputs": [],
   "source": [
    "VIDEO_TO_FRAME_AND_SUBJECT_DF[\"corner_to_coordinate\"]"
   ]
  },
  {
   "cell_type": "code",
   "execution_count": null,
   "metadata": {},
   "outputs": [],
   "source": [
    "# Filtering out all the Nans because there's only one labeled frame\n",
    "VIDEO_TO_FRAME_AND_SUBJECT_DF[\"corner_to_coordinate\"] = VIDEO_TO_FRAME_AND_SUBJECT_DF.apply(lambda x: {k: v[~np.isnan(v)][:2] for k, v in x[\"corner_to_coordinate\"].items()}, axis=1)"
   ]
  },
  {
   "cell_type": "code",
   "execution_count": null,
   "metadata": {},
   "outputs": [],
   "source": [
    "VIDEO_TO_FRAME_AND_SUBJECT_DF[\"corner_to_coordinate\"].iloc[0]"
   ]
  },
  {
   "cell_type": "markdown",
   "metadata": {},
   "source": [
    "# Getting the distances between corners"
   ]
  },
  {
   "cell_type": "markdown",
   "metadata": {},
   "source": [
    "- Getting the average width and height so that we can convert pixels to cm"
   ]
  },
  {
   "cell_type": "code",
   "execution_count": null,
   "metadata": {},
   "outputs": [],
   "source": [
    "# Using the x-coordinates for the width\n",
    "VIDEO_TO_FRAME_AND_SUBJECT_DF[\"bottom_width\"] = VIDEO_TO_FRAME_AND_SUBJECT_DF[\"corner_to_coordinate\"].apply(lambda x: x[\"box_bottom_right\"][0] - x[\"box_bottom_left\"][0])\n",
    "VIDEO_TO_FRAME_AND_SUBJECT_DF[\"top_width\"] = VIDEO_TO_FRAME_AND_SUBJECT_DF[\"corner_to_coordinate\"].apply(lambda x: x[\"box_top_right\"][0] - x[\"box_top_left\"][0])\n"
   ]
  },
  {
   "cell_type": "code",
   "execution_count": null,
   "metadata": {},
   "outputs": [],
   "source": [
    "# Using the y-coordinates for the height\n",
    "VIDEO_TO_FRAME_AND_SUBJECT_DF[\"right_height\"] = VIDEO_TO_FRAME_AND_SUBJECT_DF[\"corner_to_coordinate\"].apply(lambda x: x[\"box_bottom_right\"][1] - x[\"box_top_right\"][1])\n",
    "VIDEO_TO_FRAME_AND_SUBJECT_DF[\"left_height\"] = VIDEO_TO_FRAME_AND_SUBJECT_DF[\"corner_to_coordinate\"].apply(lambda x: x[\"box_bottom_left\"][1] - x[\"box_top_left\"][1])\n"
   ]
  },
  {
   "cell_type": "code",
   "execution_count": null,
   "metadata": {},
   "outputs": [],
   "source": [
    "# averaging the width and height by adding both sides and then getting the mean\n",
    "VIDEO_TO_FRAME_AND_SUBJECT_DF[\"average_height\"] = VIDEO_TO_FRAME_AND_SUBJECT_DF.apply(lambda row: (row[\"right_height\"] + row[\"left_height\"])/2, axis=1)\n",
    "VIDEO_TO_FRAME_AND_SUBJECT_DF[\"average_width\"] = VIDEO_TO_FRAME_AND_SUBJECT_DF.apply(lambda row: (row[\"bottom_width\"] + row[\"top_width\"])/2, axis=1)"
   ]
  },
  {
   "cell_type": "markdown",
   "metadata": {},
   "source": [
    "- Getthing the pixel to cm ratio"
   ]
  },
  {
   "cell_type": "code",
   "execution_count": null,
   "metadata": {},
   "outputs": [],
   "source": [
    "VIDEO_TO_FRAME_AND_SUBJECT_DF[\"width_ratio\"] = MED_PC_WIDTH / VIDEO_TO_FRAME_AND_SUBJECT_DF[\"average_width\"]\n",
    "VIDEO_TO_FRAME_AND_SUBJECT_DF[\"height_ratio\"] = MED_PC_HEIGHT / VIDEO_TO_FRAME_AND_SUBJECT_DF[\"average_height\"]"
   ]
  },
  {
   "cell_type": "code",
   "execution_count": null,
   "metadata": {},
   "outputs": [],
   "source": [
    "VIDEO_TO_FRAME_AND_SUBJECT_DF[\"height_ratio\"]"
   ]
  },
  {
   "cell_type": "code",
   "execution_count": null,
   "metadata": {},
   "outputs": [],
   "source": [
    "VIDEO_TO_FRAME_AND_SUBJECT_DF[\"width_ratio\"]"
   ]
  },
  {
   "cell_type": "markdown",
   "metadata": {},
   "source": [
    "## Converting Pixels to cm"
   ]
  },
  {
   "cell_type": "markdown",
   "metadata": {},
   "source": [
    "- Converting the X-dimension"
   ]
  },
  {
   "cell_type": "code",
   "execution_count": null,
   "metadata": {},
   "outputs": [],
   "source": [
    "VIDEO_TO_FRAME_AND_SUBJECT_DF[\"subject_to_tracks\"]"
   ]
  },
  {
   "cell_type": "code",
   "execution_count": null,
   "metadata": {},
   "outputs": [],
   "source": [
    "VIDEO_TO_FRAME_AND_SUBJECT_DF"
   ]
  },
  {
   "cell_type": "code",
   "execution_count": null,
   "metadata": {},
   "outputs": [],
   "source": [
    "VIDEO_TO_FRAME_AND_SUBJECT_DF[\"rescaled_locations\"] = VIDEO_TO_FRAME_AND_SUBJECT_DF.apply(lambda x: {key: sleap.process_pose.fill_missing(sleap.process_pose.rescale_dimension_in_array(value, dimension=0, ratio=x[\"width_ratio\"])) for key, value in x[\"subject_to_tracks\"].items()}, axis=1)"
   ]
  },
  {
   "cell_type": "markdown",
   "metadata": {},
   "source": [
    "- Converting the Y-dimension"
   ]
  },
  {
   "cell_type": "code",
   "execution_count": null,
   "metadata": {},
   "outputs": [],
   "source": [
    "VIDEO_TO_FRAME_AND_SUBJECT_DF[\"rescaled_locations\"] = VIDEO_TO_FRAME_AND_SUBJECT_DF.apply(lambda x: {key: sleap.process_pose.rescale_dimension_in_array(value, dimension=1, ratio=x[\"height_ratio\"]) for key, value in x[\"rescaled_locations\"].items()}, axis=1)"
   ]
  },
  {
   "cell_type": "code",
   "execution_count": null,
   "metadata": {},
   "outputs": [],
   "source": [
    "VIDEO_TO_FRAME_AND_SUBJECT_DF[\"corner_to_coordinate\"]"
   ]
  },
  {
   "cell_type": "code",
   "execution_count": null,
   "metadata": {},
   "outputs": [],
   "source": [
    "VIDEO_TO_FRAME_AND_SUBJECT_DF"
   ]
  },
  {
   "cell_type": "code",
   "execution_count": null,
   "metadata": {},
   "outputs": [],
   "source": [
    "# Normalize dictionary column\n",
    "normalized = pd.json_normalize(VIDEO_TO_FRAME_AND_SUBJECT_DF[\"corner_to_coordinate\"])"
   ]
  },
  {
   "cell_type": "code",
   "execution_count": null,
   "metadata": {},
   "outputs": [],
   "source": [
    "normalized"
   ]
  },
  {
   "cell_type": "code",
   "execution_count": null,
   "metadata": {},
   "outputs": [],
   "source": [
    "\n",
    "\n",
    "# Drop the original column and concat the normalized DataFrame\n",
    "VIDEO_TO_FRAME_AND_SUBJECT_DF = pd.concat([VIDEO_TO_FRAME_AND_SUBJECT_DF.drop([\"corner_to_coordinate\"], axis=1), normalized], axis=1)\n"
   ]
  },
  {
   "cell_type": "code",
   "execution_count": null,
   "metadata": {},
   "outputs": [],
   "source": [
    "VIDEO_TO_FRAME_AND_SUBJECT_DF.head()"
   ]
  },
  {
   "cell_type": "code",
   "execution_count": null,
   "metadata": {},
   "outputs": [],
   "source": [
    "for corner in VIDEO_TO_FRAME_AND_SUBJECT_DF[\"corner_parts\"].iloc[0]:\n",
    "    VIDEO_TO_FRAME_AND_SUBJECT_DF[corner] = VIDEO_TO_FRAME_AND_SUBJECT_DF.apply(lambda x: [x[corner][0]*x[\"width_ratio\"], x[corner][1]*x[\"height_ratio\"]], axis=1)"
   ]
  },
  {
   "cell_type": "code",
   "execution_count": null,
   "metadata": {},
   "outputs": [],
   "source": [
    "VIDEO_TO_FRAME_AND_SUBJECT_DF"
   ]
  },
  {
   "cell_type": "markdown",
   "metadata": {},
   "source": [
    "## Looking over the tracks"
   ]
  },
  {
   "cell_type": "code",
   "execution_count": null,
   "metadata": {},
   "outputs": [],
   "source": [
    "FILE_INDEX = 0"
   ]
  },
  {
   "cell_type": "code",
   "execution_count": null,
   "metadata": {},
   "outputs": [],
   "source": [
    "VIDEO_TO_FRAME_AND_SUBJECT_DF[\"sleap_path\"].iloc[FILE_INDEX]"
   ]
  },
  {
   "cell_type": "code",
   "execution_count": null,
   "metadata": {},
   "outputs": [],
   "source": [
    "VIDEO_TO_FRAME_AND_SUBJECT_DF[\"rescaled_locations\"]"
   ]
  },
  {
   "cell_type": "code",
   "execution_count": null,
   "metadata": {},
   "outputs": [],
   "source": [
    "VIDEO_TO_FRAME_AND_SUBJECT_DF[\"subject\"]"
   ]
  },
  {
   "cell_type": "code",
   "execution_count": null,
   "metadata": {},
   "outputs": [],
   "source": [
    "with h5py.File(VIDEO_TO_FRAME_AND_SUBJECT_DF[\"sleap_path\"].iloc[FILE_INDEX], \"r\") as f:\n",
    "    dset_names = list(f.keys())\n",
    "    current_subject = VIDEO_TO_FRAME_AND_SUBJECT_DF[\"subject\"].iloc[FILE_INDEX]\n",
    "    locations = VIDEO_TO_FRAME_AND_SUBJECT_DF[\"rescaled_locations\"].iloc[FILE_INDEX][current_subject]\n",
    "    node_names = [n.decode() for n in f[\"node_names\"][:]]\n",
    "    \n",
    "print(\"===HDF5 datasets===\")\n",
    "print(dset_names)\n",
    "print()\n",
    "\n",
    "print(\"===locations data shape===\")\n",
    "print(locations.shape)\n",
    "print()\n",
    "\n",
    "print(\"===nodes===\")\n",
    "for i, name in enumerate(node_names):\n",
    "    print(f\"{i}: {name}\")\n",
    "print()"
   ]
  },
  {
   "cell_type": "code",
   "execution_count": null,
   "metadata": {},
   "outputs": [],
   "source": [
    "thorax_loc = locations[:, THORAX_INDEX, :]"
   ]
  },
  {
   "cell_type": "code",
   "execution_count": null,
   "metadata": {},
   "outputs": [],
   "source": [
    "fig, ax = plt.subplots()\n",
    "\n",
    "plt.plot(thorax_loc[:,0],label='X-coordinates')\n",
    "# Converting to negative so that we can see both x and y track\n",
    "plt.plot(-1*thorax_loc[:,1], label='Y-coordinates')\n",
    "\n",
    "plt.legend(loc=\"center right\")\n",
    "plt.title('Thorax locations')\n",
    "plt.xlabel(\"Time in frames\")\n",
    "plt.ylabel(\"Coordinate Position\")"
   ]
  },
  {
   "cell_type": "code",
   "execution_count": null,
   "metadata": {},
   "outputs": [],
   "source": [
    "plt.figure(figsize=(7,7))\n",
    "plt.plot(thorax_loc[:,0],thorax_loc[:,1])\n",
    "\n",
    "\n",
    "plt.title('Thorax tracks')\n",
    "plt.xlabel(\"X-Coordinates\")\n",
    "plt.ylabel(\"Y-Coordinates\")\n"
   ]
  },
  {
   "cell_type": "code",
   "execution_count": null,
   "metadata": {},
   "outputs": [],
   "source": []
  },
  {
   "cell_type": "markdown",
   "metadata": {},
   "source": [
    "## Creating an individual column for each pose tracking"
   ]
  },
  {
   "cell_type": "code",
   "execution_count": null,
   "metadata": {},
   "outputs": [],
   "source": [
    "# VIDEO_TO_FRAME_AND_SUBJECT_DF[\"agent\"] = VIDEO_TO_FRAME_AND_SUBJECT_DF.apply(lambda x: list(set(x[\"all_subjects\"]) - set(x[\"subject\"]))[0], axis=1)\n",
    "\n",
    "VIDEO_TO_FRAME_AND_SUBJECT_DF[\"agent\"] = VIDEO_TO_FRAME_AND_SUBJECT_DF.apply(lambda x: list((set(x[\"all_subjects\"]) - set([x[\"subject\"]])))[0], axis=1)"
   ]
  },
  {
   "cell_type": "code",
   "execution_count": null,
   "metadata": {},
   "outputs": [],
   "source": [
    "VIDEO_TO_FRAME_AND_SUBJECT_DF"
   ]
  },
  {
   "cell_type": "code",
   "execution_count": null,
   "metadata": {},
   "outputs": [],
   "source": [
    "VIDEO_TO_FRAME_AND_SUBJECT_DF[\"subject_locations\"] = VIDEO_TO_FRAME_AND_SUBJECT_DF.apply(lambda x: x[\"rescaled_locations\"][x[\"subject\"]] , axis=1)"
   ]
  },
  {
   "cell_type": "code",
   "execution_count": null,
   "metadata": {},
   "outputs": [],
   "source": [
    "VIDEO_TO_FRAME_AND_SUBJECT_DF[\"agent_locations\"] = VIDEO_TO_FRAME_AND_SUBJECT_DF.apply(lambda x: x[\"rescaled_locations\"][x[\"agent\"]] , axis=1)"
   ]
  },
  {
   "cell_type": "markdown",
   "metadata": {},
   "source": [
    "## Removing unnecessary columns"
   ]
  },
  {
   "cell_type": "code",
   "execution_count": null,
   "metadata": {},
   "outputs": [],
   "source": [
    "VIDEO_TO_FRAME_AND_SUBJECT_DF = VIDEO_TO_FRAME_AND_SUBJECT_DF.drop([\"sleap_glob\", \"subject_to_index\", \"subject_to_tracks\", \"corner_parts\", \"corner_to_coordinate\", \"bottom_width\", \"top_width\", \"right_height\", \"left_height\", \"average_height\", \"average_width\", \"width_ratio\", \"height_ratio\", 'locations', 'current_subject', 'track_names', 'sleap_path', 'corner_path', 'all_sleap_data', 'rescaled_locations'], errors=\"ignore\", axis=1)"
   ]
  },
  {
   "cell_type": "code",
   "execution_count": null,
   "metadata": {},
   "outputs": [],
   "source": [
    "VIDEO_TO_FRAME_AND_SUBJECT_DF.columns"
   ]
  },
  {
   "cell_type": "code",
   "execution_count": null,
   "metadata": {},
   "outputs": [],
   "source": [
    "VIDEO_TO_FRAME_AND_SUBJECT_DF.head()"
   ]
  },
  {
   "cell_type": "code",
   "execution_count": null,
   "metadata": {},
   "outputs": [],
   "source": []
  },
  {
   "cell_type": "markdown",
   "metadata": {},
   "source": [
    "# Adding the start/stop frame information"
   ]
  },
  {
   "cell_type": "code",
   "execution_count": null,
   "metadata": {},
   "outputs": [],
   "source": [
    "START_STOP_FRAME_DF.head()"
   ]
  },
  {
   "cell_type": "markdown",
   "metadata": {},
   "source": [
    "- Getting relevant metadata for each video"
   ]
  },
  {
   "cell_type": "code",
   "execution_count": null,
   "metadata": {},
   "outputs": [],
   "source": [
    "# Getting all the rows that have two subjects\n",
    "START_STOP_FRAME_DF[\"tracked_subject\"] = START_STOP_FRAME_DF[\"tracked_subject\"].apply(lambda x: str(x).split(\"_\"))\n",
    "START_STOP_FRAME_DF = START_STOP_FRAME_DF[START_STOP_FRAME_DF[\"tracked_subject\"].apply(lambda x: len(x) == 2)]"
   ]
  },
  {
   "cell_type": "code",
   "execution_count": null,
   "metadata": {},
   "outputs": [],
   "source": [
    "# Getting the sleap filename from file path\n",
    "START_STOP_FRAME_DF[\"sleap_filename\"] = START_STOP_FRAME_DF[\"file_path\"].apply(lambda x: os.path.basename(x))"
   ]
  },
  {
   "cell_type": "code",
   "execution_count": null,
   "metadata": {},
   "outputs": [],
   "source": [
    "# Getting the sleap fileroot from the sleap filename\n",
    "START_STOP_FRAME_DF[\"sleap_fileroot\"] = START_STOP_FRAME_DF[\"sleap_filename\"].apply(lambda x: \".\".join(x.split(\".\")[0:2]))"
   ]
  },
  {
   "cell_type": "code",
   "execution_count": null,
   "metadata": {},
   "outputs": [],
   "source": [
    "# Combining the start and stop frame columns into a tuple\n",
    "START_STOP_FRAME_DF[\"start_stop_frame\"] = START_STOP_FRAME_DF.apply(lambda x: (int(x[\"start_frame\"]), int(x[\"stop_frame\"])), axis=1)\n",
    "START_STOP_FRAME_DF = START_STOP_FRAME_DF.drop(columns=[\"start_frame\", \"stop_frame\"], errors=\"ignore\")"
   ]
  },
  {
   "cell_type": "markdown",
   "metadata": {},
   "source": [
    "- Merging the dataframes based on shared SLEAP file basename"
   ]
  },
  {
   "cell_type": "code",
   "execution_count": null,
   "metadata": {},
   "outputs": [],
   "source": [
    "VIDEO_TO_FRAME_AND_SUBJECT_DF = pd.merge(left=VIDEO_TO_FRAME_AND_SUBJECT_DF, right=START_STOP_FRAME_DF, left_on=\"video_name\", right_on=\"sleap_fileroot\", how=\"left\")"
   ]
  },
  {
   "cell_type": "markdown",
   "metadata": {},
   "source": [
    "- Converting the start/stop frames into timestamps"
   ]
  },
  {
   "cell_type": "code",
   "execution_count": null,
   "metadata": {},
   "outputs": [],
   "source": [
    "VIDEO_TO_FRAME_AND_SUBJECT_DF[\"start_stop_timestamps\"] = VIDEO_TO_FRAME_AND_SUBJECT_DF.apply(lambda x: (x[\"video_timestamps\"][x[\"start_stop_frame\"][0]], x[\"video_timestamps\"][x[\"start_stop_frame\"][1]]), axis=1)"
   ]
  },
  {
   "cell_type": "markdown",
   "metadata": {},
   "source": [
    "## Going from frame information to ephys"
   ]
  },
  {
   "cell_type": "code",
   "execution_count": null,
   "metadata": {},
   "outputs": [],
   "source": []
  },
  {
   "cell_type": "code",
   "execution_count": null,
   "metadata": {},
   "outputs": [],
   "source": [
    "for trace_col in [col for col in VIDEO_TO_FRAME_AND_SUBJECT_DF.columns if \"lfp_trace\" in col]:\n",
    "    print(trace_col)\n",
    "    brain_region = trace_col.split(\"_\")[0]\n",
    "    VIDEO_TO_FRAME_AND_SUBJECT_DF[\"filtered_{}_trace\".format(brain_region)] = VIDEO_TO_FRAME_AND_SUBJECT_DF.apply(lambda x: utilities.helper.filter_by_timestamp_range(x[\"start_stop_timestamps\"][0], x[\"start_stop_timestamps\"][1], x[\"lfp_timestamps\"], x[trace_col])[1], axis=1)\n",
    "VIDEO_TO_FRAME_AND_SUBJECT_DF[\"filtered_lfp_timestamps\"] = VIDEO_TO_FRAME_AND_SUBJECT_DF.apply(lambda x: utilities.helper.filter_by_timestamp_range(x[\"start_stop_timestamps\"][0], x[\"start_stop_timestamps\"][1], x[\"lfp_timestamps\"], x[\"lfp_timestamps\"])[0], axis=1)"
   ]
  },
  {
   "cell_type": "code",
   "execution_count": null,
   "metadata": {},
   "outputs": [],
   "source": [
    "VIDEO_TO_FRAME_AND_SUBJECT_DF = VIDEO_TO_FRAME_AND_SUBJECT_DF.drop(columns=[col for col in VIDEO_TO_FRAME_AND_SUBJECT_DF.columns if \"lfp_trace\" in col], errors=\"ignore\")\n",
    "VIDEO_TO_FRAME_AND_SUBJECT_DF = VIDEO_TO_FRAME_AND_SUBJECT_DF.drop(columns=[\"lfp_timestamps\"], errors=\"ignore\")"
   ]
  },
  {
   "cell_type": "code",
   "execution_count": null,
   "metadata": {},
   "outputs": [],
   "source": [
    "VIDEO_TO_FRAME_AND_SUBJECT_DF.head()"
   ]
  },
  {
   "cell_type": "code",
   "execution_count": null,
   "metadata": {},
   "outputs": [],
   "source": [
    "VIDEO_TO_FRAME_AND_SUBJECT_DF[\"video_timestamps\"].iloc[0]"
   ]
  },
  {
   "cell_type": "code",
   "execution_count": null,
   "metadata": {},
   "outputs": [],
   "source": [
    "VIDEO_TO_FRAME_AND_SUBJECT_DF[\"video_timestamps\"].apply(lambda x: x.shape)"
   ]
  },
  {
   "cell_type": "code",
   "execution_count": null,
   "metadata": {},
   "outputs": [],
   "source": [
    "VIDEO_TO_FRAME_AND_SUBJECT_DF[\"subject_locations\"].apply(lambda x: x.shape)"
   ]
  },
  {
   "cell_type": "code",
   "execution_count": null,
   "metadata": {},
   "outputs": [],
   "source": [
    "VIDEO_TO_FRAME_AND_SUBJECT_DF[\"recording\"].iloc[5]"
   ]
  },
  {
   "cell_type": "code",
   "execution_count": null,
   "metadata": {},
   "outputs": [],
   "source": [
    "VIDEO_TO_FRAME_AND_SUBJECT_DF[\"filtered_subject_locations\"] = VIDEO_TO_FRAME_AND_SUBJECT_DF.apply(lambda x: utilities.helper.filter_by_timestamp_range(x[\"start_stop_timestamps\"][0], x[\"start_stop_timestamps\"][1], x[\"video_timestamps\"], x[\"subject_locations\"])[1], axis=1)\n",
    "VIDEO_TO_FRAME_AND_SUBJECT_DF[\"filtered_agent_locations\"] = VIDEO_TO_FRAME_AND_SUBJECT_DF.apply(lambda x: utilities.helper.filter_by_timestamp_range(x[\"start_stop_timestamps\"][0], x[\"start_stop_timestamps\"][1], x[\"video_timestamps\"], x[\"agent_locations\"])[1], axis=1)\n",
    "VIDEO_TO_FRAME_AND_SUBJECT_DF[\"filtered_video_timestamps\"] = VIDEO_TO_FRAME_AND_SUBJECT_DF.apply(lambda x: utilities.helper.filter_by_timestamp_range(x[\"start_stop_timestamps\"][0], x[\"start_stop_timestamps\"][1], x[\"video_timestamps\"], x[\"video_timestamps\"])[0], axis=1)"
   ]
  },
  {
   "cell_type": "code",
   "execution_count": null,
   "metadata": {},
   "outputs": [],
   "source": [
    "VIDEO_TO_FRAME_AND_SUBJECT_DF = VIDEO_TO_FRAME_AND_SUBJECT_DF.drop(columns=[\"video_timestamps\", \"subject_locations\", \"agent_locations\"], errors=\"ignore\")"
   ]
  },
  {
   "cell_type": "code",
   "execution_count": null,
   "metadata": {},
   "outputs": [],
   "source": [
    "# Sorting column names for easier reading\n",
    "sorted_columns = sorted(VIDEO_TO_FRAME_AND_SUBJECT_DF.columns, key=lambda x: x.split(\"_\")[-1])"
   ]
  },
  {
   "cell_type": "code",
   "execution_count": null,
   "metadata": {},
   "outputs": [],
   "source": [
    "VIDEO_TO_FRAME_AND_SUBJECT_DF = VIDEO_TO_FRAME_AND_SUBJECT_DF[sorted_columns].copy()"
   ]
  },
  {
   "cell_type": "code",
   "execution_count": null,
   "metadata": {},
   "outputs": [],
   "source": [
    "VIDEO_TO_FRAME_AND_SUBJECT_DF.columns"
   ]
  },
  {
   "cell_type": "code",
   "execution_count": null,
   "metadata": {},
   "outputs": [],
   "source": [
    "VIDEO_TO_FRAME_AND_SUBJECT_DF.to_pickle(os.path.join(OUTPUT_DIR, FULL_LFP_TRACES_PKL))"
   ]
  },
  {
   "cell_type": "code",
   "execution_count": null,
   "metadata": {},
   "outputs": [],
   "source": [
    "VIDEO_TO_FRAME_AND_SUBJECT_DF"
   ]
  },
  {
   "cell_type": "code",
   "execution_count": null,
   "metadata": {},
   "outputs": [],
   "source": [
    "raise ValueError()"
   ]
  },
  {
   "cell_type": "code",
   "execution_count": null,
   "metadata": {},
   "outputs": [],
   "source": [
    "VIDEO_TO_FRAME_AND_SUBJECT_DF[\"start_stop_lfp_mask\"] = VIDEO_TO_FRAME_AND_SUBJECT_DF.apply(lambda x: np.logical_and(x[\"lfp_timestamps\"] > x[\"start_stop_timestamps\"][0], x[\"lfp_timestamps\"] < x[\"start_stop_timestamps\"][1]), axis=1)\n",
    "                                                                                           \n"
   ]
  },
  {
   "cell_type": "code",
   "execution_count": null,
   "metadata": {},
   "outputs": [],
   "source": [
    "VIDEO_TO_FRAME_AND_SUBJECT_DF[\"start_stop_lfp_mask\"].iloc[0]"
   ]
  },
  {
   "cell_type": "code",
   "execution_count": null,
   "metadata": {},
   "outputs": [],
   "source": [
    "for trace_col in [col for col in VIDEO_TO_FRAME_AND_SUBJECT_DF.columns if \"lfp_trace\" in col]:\n",
    "    VIDEO_TO_FRAME_AND_SUBJECT_DF[\"\".format(trace_col)] = VIDEO_TO_FRAME_AND_SUBJECT_DF.apply(lambda x: x[trace_col][x[\"start_stop_lfp_mask\"]], axis=1)\"]:\n"
   ]
  },
  {
   "cell_type": "code",
   "execution_count": null,
   "metadata": {},
   "outputs": [],
   "source": [
    "VIDEO_TO_FRAME_AND_SUBJECT_DF[\"start_stop_mpfc_lfp_trace\"].iloc[0].shape"
   ]
  },
  {
   "cell_type": "code",
   "execution_count": null,
   "metadata": {},
   "outputs": [],
   "source": [
    "1617949/1000"
   ]
  },
  {
   "cell_type": "code",
   "execution_count": null,
   "metadata": {},
   "outputs": [],
   "source": [
    "31159889/20000"
   ]
  },
  {
   "cell_type": "markdown",
   "metadata": {},
   "source": [
    "- Using the start and stop of each subject to remove all other frames where the subject(s) are not there"
   ]
  },
  {
   "cell_type": "code",
   "execution_count": null,
   "metadata": {},
   "outputs": [],
   "source": [
    "VIDEO_TO_FRAME_AND_SUBJECT_DF[\"subject_locations\"].iloc[0].shape"
   ]
  },
  {
   "cell_type": "code",
   "execution_count": null,
   "metadata": {},
   "outputs": [],
   "source": [
    "VIDEO_TO_FRAME_AND_SUBJECT_DF[\"video_timestamps\"].iloc[0].shape"
   ]
  },
  {
   "cell_type": "code",
   "execution_count": null,
   "metadata": {},
   "outputs": [],
   "source": [
    "VIDEO_TO_FRAME_AND_SUBJECT_DF.columns"
   ]
  },
  {
   "cell_type": "code",
   "execution_count": null,
   "metadata": {},
   "outputs": [],
   "source": [
    "def find_nearest_timestamp_indices(timestamps, other_timestamps, start_index=0, stop_index=1):\n",
    "    \"\"\"\n",
    "    Converts the start and stop indices of one data stream to timestamps, and then finds the nearest start and stop \n",
    "    timestamps in another data stream.\n",
    "\n",
    "    Parameters:\n",
    "    - timestamps (list[int or float]): The list of timestamps in the first data stream.\n",
    "    - other_timestamps (list[int or float]): The list of timestamps in the other data stream.\n",
    "    - start_index (int, optional): The start index in the first data stream. Defaults to 0.\n",
    "    - stop_index (int, optional): The stop index in the first data stream. Defaults to 1.\n",
    "\n",
    "    Returns:\n",
    "    - tuple: The indices of the nearest start and stop timestamps in the other data stream.\n",
    "    \"\"\"\n",
    "    # Convert start and stop indices to timestamps\n",
    "    start_timestamp = timestamps[start_index]\n",
    "    stop_timestamp = timestamps[stop_index]\n",
    "\n",
    "    # Find nearest start and stop timestamps in other data stream\n",
    "    nearest_start_index = utilities.helper.find_nearest_index(other_timestamps, start_timestamp)\n",
    "    nearest_stop_index = utilities.helper.find_nearest_index(other_timestamps, stop_timestamp) \n",
    "\n",
    "    return nearest_start_index, nearest_stop_index"
   ]
  },
  {
   "cell_type": "code",
   "execution_count": null,
   "metadata": {},
   "outputs": [],
   "source": [
    "convert_index_to_timestamp(0, 100, VIDEO_TO_FRAME_AND_SUBJECT_DF[\"video_timestamps\"].iloc[0], VIDEO_TO_FRAME_AND_SUBJECT_DF[\"lfp_timestamps\"].iloc[0])"
   ]
  },
  {
   "cell_type": "code",
   "execution_count": null,
   "metadata": {},
   "outputs": [],
   "source": []
  },
  {
   "cell_type": "code",
   "execution_count": null,
   "metadata": {},
   "outputs": [],
   "source": [
    "start_frame = VIDEO_TO_FRAME_AND_SUBJECT_DF['port_entry_frames'].iloc[0][0][-1]"
   ]
  },
  {
   "cell_type": "code",
   "execution_count": null,
   "metadata": {},
   "outputs": [],
   "source": [
    "start_frame"
   ]
  },
  {
   "cell_type": "code",
   "execution_count": null,
   "metadata": {},
   "outputs": [],
   "source": [
    "start_timestamp = VIDEO_TO_FRAME_AND_SUBJECT_DF['video_timestamps'].iloc[0][0]"
   ]
  },
  {
   "cell_type": "code",
   "execution_count": null,
   "metadata": {},
   "outputs": [],
   "source": [
    "start_timestamp"
   ]
  },
  {
   "cell_type": "code",
   "execution_count": null,
   "metadata": {},
   "outputs": [],
   "source": [
    "start_lfp = utilities.helper.find_nearest_index(VIDEO_TO_FRAME_AND_SUBJECT_DF[\"lfp_timestamps\"].iloc[0], start_timestamp)"
   ]
  },
  {
   "cell_type": "code",
   "execution_count": null,
   "metadata": {},
   "outputs": [],
   "source": [
    "start_lfp"
   ]
  },
  {
   "cell_type": "code",
   "execution_count": null,
   "metadata": {},
   "outputs": [],
   "source": [
    "VIDEO_TO_FRAME_AND_SUBJECT_DF[\"lfp_timestamps\"].iloc[0][start_lfp]"
   ]
  },
  {
   "cell_type": "code",
   "execution_count": null,
   "metadata": {},
   "outputs": [],
   "source": [
    "VIDEO_TO_FRAME_AND_SUBJECT_DF[\"bla_lfp_trace\"].iloc[0].shape"
   ]
  },
  {
   "cell_type": "code",
   "execution_count": null,
   "metadata": {},
   "outputs": [],
   "source": []
  }
 ],
 "metadata": {
  "deepnote": {},
  "deepnote_execution_queue": [],
  "deepnote_notebook_id": "cf8fe3695d074ee7887fdf6459cbf5ce",
  "kernelspec": {
   "display_name": "Python 3 (ipykernel)",
   "language": "python",
   "name": "python3"
  },
  "language_info": {
   "codemirror_mode": {
    "name": "ipython",
    "version": 3
   },
   "file_extension": ".py",
   "mimetype": "text/x-python",
   "name": "python",
   "nbconvert_exporter": "python",
   "pygments_lexer": "ipython3",
   "version": "3.10.13"
  }
 },
 "nbformat": 4,
 "nbformat_minor": 4
}
