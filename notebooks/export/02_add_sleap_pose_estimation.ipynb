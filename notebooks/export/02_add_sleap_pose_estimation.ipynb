{
 "cells": [
  {
   "cell_type": "markdown",
   "metadata": {
    "cell_id": "c3a02adc9e884466bc8c79db549cc3d2",
    "deepnote_cell_type": "text-cell-h1",
    "formattedRanges": [
     {
      "fromCodePoint": 0,
      "marks": {
       "bold": true,
       "underline": true
      },
      "toCodePoint": 17,
      "type": "marks"
     }
    ]
   },
   "source": [
    "# SLEAP Distance Calculation"
   ]
  },
  {
   "cell_type": "markdown",
   "metadata": {
    "cell_id": "4546bee655b14a5dbf393161f1228e60",
    "deepnote_cell_type": "text-cell-p",
    "formattedRanges": []
   },
   "source": [
    "Brief 1-2 sentence description of notebook."
   ]
  },
  {
   "cell_type": "code",
   "execution_count": 1,
   "metadata": {},
   "outputs": [],
   "source": [
    "import os\n",
    "import glob\n",
    "import git\n",
    "import sys\n"
   ]
  },
  {
   "cell_type": "code",
   "execution_count": 2,
   "metadata": {
    "cell_id": "03b495cefa6a4798a44c7f2e4c6a3ea7",
    "deepnote_cell_type": "code",
    "deepnote_to_be_reexecuted": false,
    "execution_millis": 21,
    "execution_start": 1691424003626,
    "source_hash": null
   },
   "outputs": [],
   "source": [
    "# Imports of all used packages and libraries\n",
    "import numpy as np\n",
    "import pandas as pd\n",
    "# import seaborn as sns\n",
    "import matplotlib as mpl\n",
    "import matplotlib.pyplot as plt\n",
    "import h5py\n",
    "from scipy.interpolate import interp1d\n",
    "from scipy.signal import savgol_filter\n"
   ]
  },
  {
   "cell_type": "code",
   "execution_count": 3,
   "metadata": {},
   "outputs": [],
   "source": [
    "git_repo = git.Repo(\".\", search_parent_directories=True)\n",
    "git_root = git_repo.git.rev_parse(\"--show-toplevel\")"
   ]
  },
  {
   "cell_type": "code",
   "execution_count": 4,
   "metadata": {},
   "outputs": [
    {
     "data": {
      "text/plain": [
       "'/nancy/projects/reward_competition_extention'"
      ]
     },
     "execution_count": 4,
     "metadata": {},
     "output_type": "execute_result"
    }
   ],
   "source": [
    "git_root"
   ]
  },
  {
   "cell_type": "code",
   "execution_count": 5,
   "metadata": {},
   "outputs": [],
   "source": [
    "sys.path.insert(0, os.path.join(git_root, 'src'))"
   ]
  },
  {
   "cell_type": "code",
   "execution_count": 6,
   "metadata": {},
   "outputs": [],
   "source": [
    "import utilities.helper\n",
    "import sleap.process_pose"
   ]
  },
  {
   "cell_type": "code",
   "execution_count": 7,
   "metadata": {},
   "outputs": [],
   "source": [
    "# sns.set('notebook', 'ticks', font_scale=1.2)\n",
    "mpl.rcParams['figure.figsize'] = [15,6]"
   ]
  },
  {
   "cell_type": "markdown",
   "metadata": {
    "cell_id": "d290bac2c17940bfbc0f9296beaf70e5",
    "deepnote_cell_type": "text-cell-h2",
    "formattedRanges": []
   },
   "source": [
    "## Inputs & Data"
   ]
  },
  {
   "cell_type": "markdown",
   "metadata": {
    "cell_id": "e528ce19c608425292151930d380f49f",
    "deepnote_cell_type": "text-cell-p",
    "formattedRanges": []
   },
   "source": [
    "Explanation of each input and where it comes from."
   ]
  },
  {
   "cell_type": "code",
   "execution_count": 8,
   "metadata": {
    "cell_id": "6cf83a5811054461a718a71673d09aab",
    "deepnote_cell_type": "code",
    "deepnote_to_be_reexecuted": false,
    "execution_millis": 373,
    "execution_start": 1691424003628,
    "source_hash": null
   },
   "outputs": [],
   "source": [
    "# Inputs and Required data loading\n",
    "# input varaible names are in all caps snake case\n",
    "# Whenever an input changes or is used for processing \n",
    "# the vairables are all lower in snake case\n",
    "THORAX_INDEX = 1\n",
    "# TONE_TIMESTAMP_DF = pd.read_csv(\"./proc/rce_tone_timestamp.csv\", index_col=0)\n",
    "# VIDEO_TO_FRAME_AND_SUBJECT_DF = pd.read_excel(\"../../proc/video_to_frame_and_subject.xlsx\")\n",
    "VIDEO_TO_FRAME_AND_SUBJECT_DF = pd.read_pickle(os.path.join(git_root, \"notebooks/export/proc/rce_pilot_2_full_lfp_traces_and_video_frames.pkl\"))\n",
    "VIDEO_TO_FRAME_AND_SUBJECT_DF[\"video_name\"] = VIDEO_TO_FRAME_AND_SUBJECT_DF[\"video_name\"].apply(lambda x: x.strip(\".videoTimeStamps.cameraHWSync\"))\n",
    "\n",
    "# SLEAP_DIR = os.path.join(git_root, \"proc/sleap\") \n",
    "SLEAP_DIR = \"/scratch/back_up/reward_competition_extention/final_proc/id_corrected\"\n",
    "\n",
    "OUTPUT_DIR = r\"./proc\" # where data is saved should always be shown in the inputs\n",
    "MED_PC_WIDTH = 29.5\n",
    "MED_PC_HEIGHT = 24\n",
    "FRAME_RATE = 22\n",
    "WINDOW_SIZE = 25\n",
    "DISTANCE_THRESHOLD = 2"
   ]
  },
  {
   "cell_type": "code",
   "execution_count": 9,
   "metadata": {},
   "outputs": [],
   "source": [
    "START_STOP_FRAME_DF = pd.read_excel(\"./rce_per_subject_start_stop_video_frame.xlsx\").dropna(subset=[\"file_path\"])"
   ]
  },
  {
   "cell_type": "code",
   "execution_count": 10,
   "metadata": {},
   "outputs": [
    {
     "data": {
      "text/html": [
       "<div>\n",
       "<style scoped>\n",
       "    .dataframe tbody tr th:only-of-type {\n",
       "        vertical-align: middle;\n",
       "    }\n",
       "\n",
       "    .dataframe tbody tr th {\n",
       "        vertical-align: top;\n",
       "    }\n",
       "\n",
       "    .dataframe thead th {\n",
       "        text-align: right;\n",
       "    }\n",
       "</style>\n",
       "<table border=\"1\" class=\"dataframe\">\n",
       "  <thead>\n",
       "    <tr style=\"text-align: right;\">\n",
       "      <th></th>\n",
       "      <th>cohort</th>\n",
       "      <th>session_dir</th>\n",
       "      <th>tone_frames</th>\n",
       "      <th>port_entry_frames</th>\n",
       "      <th>video_name</th>\n",
       "      <th>session_path</th>\n",
       "      <th>recording</th>\n",
       "      <th>subject</th>\n",
       "      <th>all_subjects</th>\n",
       "      <th>first_timestamp</th>\n",
       "      <th>raw_timestamps</th>\n",
       "      <th>video_timestamps</th>\n",
       "      <th>tone_timestamps</th>\n",
       "      <th>port_entry_timestamps</th>\n",
       "      <th>lfp_timestamps</th>\n",
       "      <th>mpfc_lfp_trace</th>\n",
       "      <th>vhpc_lfp_trace</th>\n",
       "      <th>bla_lfp_trace</th>\n",
       "      <th>lh_lfp_trace</th>\n",
       "      <th>md_lfp_trace</th>\n",
       "    </tr>\n",
       "  </thead>\n",
       "  <tbody>\n",
       "    <tr>\n",
       "      <th>0</th>\n",
       "      <td>2</td>\n",
       "      <td>20230617_115521_standard_comp_to_omission_D1_s...</td>\n",
       "      <td>[[1029, 1229], [3425, 3624], [5721, 5920], [75...</td>\n",
       "      <td>[[102, 105], [110, 148], [193, 199], [200, 202...</td>\n",
       "      <td>20230617_115521_standard_comp_to_omission_D1_s...</td>\n",
       "      <td>/scratch/back_up/reward_competition_extention/...</td>\n",
       "      <td>20230617_115521_standard_comp_to_omission_D1_s...</td>\n",
       "      <td>1.1</td>\n",
       "      <td>[1.1, 1.2]</td>\n",
       "      <td>3478533</td>\n",
       "      <td>[0, 1, 2, 3, 4, 5, 6, 7, 8, 9, 10, 11, 12, 13,...</td>\n",
       "      <td>[-2, 1384, 1500, 2770, 4156, 5542, 5542, 6927,...</td>\n",
       "      <td>[[1030879, 1230878], [3430878, 3630878], [5730...</td>\n",
       "      <td>[[102478, 104881], [110481, 147879], [193083, ...</td>\n",
       "      <td>[0, 20, 40, 60, 80, 100, 120, 140, 160, 180, 2...</td>\n",
       "      <td>[0.07365118, 0.11047677, 0.18994251, 0.2364590...</td>\n",
       "      <td>[-0.26256362, -0.19967411, -0.015722372, 0.150...</td>\n",
       "      <td>[0.28542638, 0.8104071, 1.2419446, 1.0261759, ...</td>\n",
       "      <td>[0.0040029064, -0.11808574, -0.052037787, 0.17...</td>\n",
       "      <td>[0.103898674, -0.011922799, 0.020439083, 0.136...</td>\n",
       "    </tr>\n",
       "    <tr>\n",
       "      <th>1</th>\n",
       "      <td>2</td>\n",
       "      <td>20230617_115521_standard_comp_to_omission_D1_s...</td>\n",
       "      <td>[[1029, 1229], [3425, 3624], [5721, 5920], [75...</td>\n",
       "      <td>[[102, 105], [110, 148], [193, 199], [200, 202...</td>\n",
       "      <td>20230617_115521_standard_comp_to_omission_D1_s...</td>\n",
       "      <td>/scratch/back_up/reward_competition_extention/...</td>\n",
       "      <td>20230617_115521_standard_comp_to_omission_D1_s...</td>\n",
       "      <td>1.2</td>\n",
       "      <td>[1.1, 1.2]</td>\n",
       "      <td>3478533</td>\n",
       "      <td>[0, 1, 2, 3, 4, 5, 6, 7, 8, 9, 10, 11, 12, 13,...</td>\n",
       "      <td>[-2, 1384, 1500, 2770, 4156, 5542, 5542, 6927,...</td>\n",
       "      <td>[[1030879, 1230878], [3430878, 3630878], [5730...</td>\n",
       "      <td>[[102478, 104881], [110481, 147879], [193083, ...</td>\n",
       "      <td>[0, 20, 40, 60, 80, 100, 120, 140, 160, 180, 2...</td>\n",
       "      <td>[0.9489666, 1.1787612, 1.587285, 1.6766496, 1....</td>\n",
       "      <td>[-0.59670866, -0.5804559, -0.500353, -0.304158...</td>\n",
       "      <td>[0.57716405, 1.2267566, 1.8559785, 1.9170899, ...</td>\n",
       "      <td>[1.0252244, 1.567814, 1.8645895, 1.6457549, 1....</td>\n",
       "      <td>[0.8103085, 0.9092951, 0.8448387, 0.6675837, 0...</td>\n",
       "    </tr>\n",
       "    <tr>\n",
       "      <th>2</th>\n",
       "      <td>2</td>\n",
       "      <td>20230618_100636_standard_comp_to_omission_D2_s...</td>\n",
       "      <td>[[1098, 1297], [3492, 3693], [5788, 5988], [75...</td>\n",
       "      <td>[[788, 835], [838, 839], [839, 871], [871, 900...</td>\n",
       "      <td>20230618_100636_standard_comp_to_omission_D2_s...</td>\n",
       "      <td>/scratch/back_up/reward_competition_extention/...</td>\n",
       "      <td>20230618_100636_standard_comp_to_omission_D2_s...</td>\n",
       "      <td>1.1</td>\n",
       "      <td>[1.1, 1.4]</td>\n",
       "      <td>835680</td>\n",
       "      <td>[0, 1, 2, 3, 4, 5, 6, 7, 8, 9, 10, 11, 12, 13,...</td>\n",
       "      <td>[-2, 1384, 2770, 2770, 4155, 5541, 6927, 6927,...</td>\n",
       "      <td>[[1099250, 1299250], [3499256, 3699252], [5799...</td>\n",
       "      <td>[[788852, 836852], [838652, 840050], [840652, ...</td>\n",
       "      <td>[0, 20, 40, 60, 80, 100, 120, 140, 160, 180, 2...</td>\n",
       "      <td>[-0.3153952, -0.28119573, -0.2697959, -0.33819...</td>\n",
       "      <td>[0.9725201, 1.5246606, 2.241502, 2.4265945, 2....</td>\n",
       "      <td>[0.18319474, 0.4846334, 0.7660871, 0.85435367,...</td>\n",
       "      <td>[0.33724487, 0.4972933, 0.52396804, 0.39059433...</td>\n",
       "      <td>[0.0032272236, -0.066158086, -0.07422615, 0.05...</td>\n",
       "    </tr>\n",
       "    <tr>\n",
       "      <th>3</th>\n",
       "      <td>2</td>\n",
       "      <td>20230618_100636_standard_comp_to_omission_D2_s...</td>\n",
       "      <td>[[1098, 1297], [3492, 3693], [5788, 5988], [75...</td>\n",
       "      <td>[[788, 835], [838, 839], [839, 871], [871, 900...</td>\n",
       "      <td>20230618_100636_standard_comp_to_omission_D2_s...</td>\n",
       "      <td>/scratch/back_up/reward_competition_extention/...</td>\n",
       "      <td>20230618_100636_standard_comp_to_omission_D2_s...</td>\n",
       "      <td>1.4</td>\n",
       "      <td>[1.1, 1.4]</td>\n",
       "      <td>835680</td>\n",
       "      <td>[0, 1, 2, 3, 4, 5, 6, 7, 8, 9, 10, 11, 12, 13,...</td>\n",
       "      <td>[-2, 1384, 2770, 2770, 4155, 5541, 6927, 6927,...</td>\n",
       "      <td>[[1099250, 1299250], [3499256, 3699252], [5799...</td>\n",
       "      <td>[[788852, 836852], [838652, 840050], [840652, ...</td>\n",
       "      <td>[0, 20, 40, 60, 80, 100, 120, 140, 160, 180, 2...</td>\n",
       "      <td>[0.08225485, 0.06580388, -0.13160776, -0.78964...</td>\n",
       "      <td>[-0.75467384, -1.4102968, -2.273455, -2.297038...</td>\n",
       "      <td>[-0.14317, -0.52495664, -1.2980746, -1.0435501...</td>\n",
       "      <td>[-0.8462542, -1.1688362, -1.3489795, -1.064101...</td>\n",
       "      <td>[-0.4082438, -0.6508234, -0.85198706, -0.83423...</td>\n",
       "    </tr>\n",
       "    <tr>\n",
       "      <th>4</th>\n",
       "      <td>2</td>\n",
       "      <td>20230620_114347_standard_comp_to_omission_D4_s...</td>\n",
       "      <td>[[1058, 1265], [3460, 3659], [5756, 5955], [75...</td>\n",
       "      <td>[[6, 29], [32, 40], [168, 183], [197, 218], [3...</td>\n",
       "      <td>20230620_114347_standard_comp_to_omission_D4_s...</td>\n",
       "      <td>/scratch/back_up/reward_competition_extention/...</td>\n",
       "      <td>20230620_114347_standard_comp_to_omission_D4_s...</td>\n",
       "      <td>1.1</td>\n",
       "      <td>[1.1, 1.2]</td>\n",
       "      <td>2502881</td>\n",
       "      <td>[0, 1, 2, 3, 4, 5, 6, 7, 8, 9, 10, 11, 12, 13,...</td>\n",
       "      <td>[1384, 1384, 2770, 4156, 5541, 5541, 6927, 831...</td>\n",
       "      <td>[[1057255, 1257260], [3457285, 3657287], [5757...</td>\n",
       "      <td>[[6242, 30447], [32245, 40242], [169046, 18424...</td>\n",
       "      <td>[0, 20, 40, 60, 80, 100, 120, 140, 160, 180, 2...</td>\n",
       "      <td>[-0.1605928, -0.081241064, 0.20026867, 0.51956...</td>\n",
       "      <td>[-0.57273483, -0.5058673, -0.32561573, -0.3866...</td>\n",
       "      <td>[-0.1226345, -0.42922074, -0.6099453, -0.56153...</td>\n",
       "      <td>[-0.1610439, -0.28040585, -0.1496761, 0.113678...</td>\n",
       "      <td>[-0.28975692, -0.2704398, 0.02253665, 0.333220...</td>\n",
       "    </tr>\n",
       "    <tr>\n",
       "      <th>5</th>\n",
       "      <td>2</td>\n",
       "      <td>20230620_114347_standard_comp_to_omission_D4_s...</td>\n",
       "      <td>[[1058, 1265], [3460, 3659], [5756, 5955], [75...</td>\n",
       "      <td>[[6, 29], [32, 40], [168, 183], [197, 218], [3...</td>\n",
       "      <td>20230620_114347_standard_comp_to_omission_D4_s...</td>\n",
       "      <td>/scratch/back_up/reward_competition_extention/...</td>\n",
       "      <td>20230620_114347_standard_comp_to_omission_D4_s...</td>\n",
       "      <td>1.2</td>\n",
       "      <td>[1.1, 1.2]</td>\n",
       "      <td>2502881</td>\n",
       "      <td>[0, 1, 2, 3, 4, 5, 6, 7, 8, 9, 10, 11, 12, 13,...</td>\n",
       "      <td>[1384, 1384, 2770, 4156, 5541, 5541, 6927, 831...</td>\n",
       "      <td>[[1057255, 1257260], [3457285, 3657287], [5757...</td>\n",
       "      <td>[[6242, 30447], [32245, 40242], [169046, 18424...</td>\n",
       "      <td>[0, 20, 40, 60, 80, 100, 120, 140, 160, 180, 2...</td>\n",
       "      <td>[0.20669848, -0.15230414, -0.29590517, -0.3154...</td>\n",
       "      <td>[0.6147248, 0.7574288, 0.9452614, 1.0306399, 0...</td>\n",
       "      <td>[0.5205301, 0.36168292, 0.22482991, 0.20039189...</td>\n",
       "      <td>[0.9251029, 0.7673094, 0.894163, 1.0426745, 0....</td>\n",
       "      <td>[0.027078055, -0.33724487, -0.05415611, 0.5464...</td>\n",
       "    </tr>\n",
       "    <tr>\n",
       "      <th>6</th>\n",
       "      <td>2</td>\n",
       "      <td>20230621_111240_standard_comp_to_omission_D5_s...</td>\n",
       "      <td>[[477, 1286], [2484, 2683], [4880, 5079], [717...</td>\n",
       "      <td>[[223, 250], [252, 254], [257, 257], [258, 297...</td>\n",
       "      <td>20230621_111240_standard_comp_to_omission_D5_s...</td>\n",
       "      <td>/scratch/back_up/reward_competition_extention/...</td>\n",
       "      <td>20230621_111240_standard_comp_to_omission_D5_s...</td>\n",
       "      <td>1.4</td>\n",
       "      <td>[1.2, 1.4]</td>\n",
       "      <td>3193044</td>\n",
       "      <td>[0, 1, 2, 3, 4, 5, 6, 7, 8, 9, 10, 11, 12, 13,...</td>\n",
       "      <td>[-2, 1384, 1384, 2770, 4156, 5541, 5541, 6927,...</td>\n",
       "      <td>[[478042, 1287653], [2488068, 2688073], [48880...</td>\n",
       "      <td>[[223038, 250239], [251039, 253641], [256439, ...</td>\n",
       "      <td>[0, 20, 40, 60, 80, 100, 120, 140, 160, 180, 2...</td>\n",
       "      <td>[-0.6531258, -0.85760915, -1.0346246, -1.10176...</td>\n",
       "      <td>[-0.19550428, -0.31525064, -0.4325532, -0.3885...</td>\n",
       "      <td>[0.11089993, 0.10362781, -0.08726552, -0.44905...</td>\n",
       "      <td>[-0.6876505, -0.82912886, -0.9738974, -1.04628...</td>\n",
       "      <td>[-0.95446664, -1.173994, -1.3235271, -1.285348...</td>\n",
       "    </tr>\n",
       "  </tbody>\n",
       "</table>\n",
       "</div>"
      ],
      "text/plain": [
       "   cohort                                        session_dir  \\\n",
       "0       2  20230617_115521_standard_comp_to_omission_D1_s...   \n",
       "1       2  20230617_115521_standard_comp_to_omission_D1_s...   \n",
       "2       2  20230618_100636_standard_comp_to_omission_D2_s...   \n",
       "3       2  20230618_100636_standard_comp_to_omission_D2_s...   \n",
       "4       2  20230620_114347_standard_comp_to_omission_D4_s...   \n",
       "5       2  20230620_114347_standard_comp_to_omission_D4_s...   \n",
       "6       2  20230621_111240_standard_comp_to_omission_D5_s...   \n",
       "\n",
       "                                         tone_frames  \\\n",
       "0  [[1029, 1229], [3425, 3624], [5721, 5920], [75...   \n",
       "1  [[1029, 1229], [3425, 3624], [5721, 5920], [75...   \n",
       "2  [[1098, 1297], [3492, 3693], [5788, 5988], [75...   \n",
       "3  [[1098, 1297], [3492, 3693], [5788, 5988], [75...   \n",
       "4  [[1058, 1265], [3460, 3659], [5756, 5955], [75...   \n",
       "5  [[1058, 1265], [3460, 3659], [5756, 5955], [75...   \n",
       "6  [[477, 1286], [2484, 2683], [4880, 5079], [717...   \n",
       "\n",
       "                                   port_entry_frames  \\\n",
       "0  [[102, 105], [110, 148], [193, 199], [200, 202...   \n",
       "1  [[102, 105], [110, 148], [193, 199], [200, 202...   \n",
       "2  [[788, 835], [838, 839], [839, 871], [871, 900...   \n",
       "3  [[788, 835], [838, 839], [839, 871], [871, 900...   \n",
       "4  [[6, 29], [32, 40], [168, 183], [197, 218], [3...   \n",
       "5  [[6, 29], [32, 40], [168, 183], [197, 218], [3...   \n",
       "6  [[223, 250], [252, 254], [257, 257], [258, 297...   \n",
       "\n",
       "                                          video_name  \\\n",
       "0  20230617_115521_standard_comp_to_omission_D1_s...   \n",
       "1  20230617_115521_standard_comp_to_omission_D1_s...   \n",
       "2  20230618_100636_standard_comp_to_omission_D2_s...   \n",
       "3  20230618_100636_standard_comp_to_omission_D2_s...   \n",
       "4  20230620_114347_standard_comp_to_omission_D4_s...   \n",
       "5  20230620_114347_standard_comp_to_omission_D4_s...   \n",
       "6  20230621_111240_standard_comp_to_omission_D5_s...   \n",
       "\n",
       "                                        session_path  \\\n",
       "0  /scratch/back_up/reward_competition_extention/...   \n",
       "1  /scratch/back_up/reward_competition_extention/...   \n",
       "2  /scratch/back_up/reward_competition_extention/...   \n",
       "3  /scratch/back_up/reward_competition_extention/...   \n",
       "4  /scratch/back_up/reward_competition_extention/...   \n",
       "5  /scratch/back_up/reward_competition_extention/...   \n",
       "6  /scratch/back_up/reward_competition_extention/...   \n",
       "\n",
       "                                           recording subject all_subjects  \\\n",
       "0  20230617_115521_standard_comp_to_omission_D1_s...     1.1   [1.1, 1.2]   \n",
       "1  20230617_115521_standard_comp_to_omission_D1_s...     1.2   [1.1, 1.2]   \n",
       "2  20230618_100636_standard_comp_to_omission_D2_s...     1.1   [1.1, 1.4]   \n",
       "3  20230618_100636_standard_comp_to_omission_D2_s...     1.4   [1.1, 1.4]   \n",
       "4  20230620_114347_standard_comp_to_omission_D4_s...     1.1   [1.1, 1.2]   \n",
       "5  20230620_114347_standard_comp_to_omission_D4_s...     1.2   [1.1, 1.2]   \n",
       "6  20230621_111240_standard_comp_to_omission_D5_s...     1.4   [1.2, 1.4]   \n",
       "\n",
       "   first_timestamp                                     raw_timestamps  \\\n",
       "0          3478533  [0, 1, 2, 3, 4, 5, 6, 7, 8, 9, 10, 11, 12, 13,...   \n",
       "1          3478533  [0, 1, 2, 3, 4, 5, 6, 7, 8, 9, 10, 11, 12, 13,...   \n",
       "2           835680  [0, 1, 2, 3, 4, 5, 6, 7, 8, 9, 10, 11, 12, 13,...   \n",
       "3           835680  [0, 1, 2, 3, 4, 5, 6, 7, 8, 9, 10, 11, 12, 13,...   \n",
       "4          2502881  [0, 1, 2, 3, 4, 5, 6, 7, 8, 9, 10, 11, 12, 13,...   \n",
       "5          2502881  [0, 1, 2, 3, 4, 5, 6, 7, 8, 9, 10, 11, 12, 13,...   \n",
       "6          3193044  [0, 1, 2, 3, 4, 5, 6, 7, 8, 9, 10, 11, 12, 13,...   \n",
       "\n",
       "                                    video_timestamps  \\\n",
       "0  [-2, 1384, 1500, 2770, 4156, 5542, 5542, 6927,...   \n",
       "1  [-2, 1384, 1500, 2770, 4156, 5542, 5542, 6927,...   \n",
       "2  [-2, 1384, 2770, 2770, 4155, 5541, 6927, 6927,...   \n",
       "3  [-2, 1384, 2770, 2770, 4155, 5541, 6927, 6927,...   \n",
       "4  [1384, 1384, 2770, 4156, 5541, 5541, 6927, 831...   \n",
       "5  [1384, 1384, 2770, 4156, 5541, 5541, 6927, 831...   \n",
       "6  [-2, 1384, 1384, 2770, 4156, 5541, 5541, 6927,...   \n",
       "\n",
       "                                     tone_timestamps  \\\n",
       "0  [[1030879, 1230878], [3430878, 3630878], [5730...   \n",
       "1  [[1030879, 1230878], [3430878, 3630878], [5730...   \n",
       "2  [[1099250, 1299250], [3499256, 3699252], [5799...   \n",
       "3  [[1099250, 1299250], [3499256, 3699252], [5799...   \n",
       "4  [[1057255, 1257260], [3457285, 3657287], [5757...   \n",
       "5  [[1057255, 1257260], [3457285, 3657287], [5757...   \n",
       "6  [[478042, 1287653], [2488068, 2688073], [48880...   \n",
       "\n",
       "                               port_entry_timestamps  \\\n",
       "0  [[102478, 104881], [110481, 147879], [193083, ...   \n",
       "1  [[102478, 104881], [110481, 147879], [193083, ...   \n",
       "2  [[788852, 836852], [838652, 840050], [840652, ...   \n",
       "3  [[788852, 836852], [838652, 840050], [840652, ...   \n",
       "4  [[6242, 30447], [32245, 40242], [169046, 18424...   \n",
       "5  [[6242, 30447], [32245, 40242], [169046, 18424...   \n",
       "6  [[223038, 250239], [251039, 253641], [256439, ...   \n",
       "\n",
       "                                      lfp_timestamps  \\\n",
       "0  [0, 20, 40, 60, 80, 100, 120, 140, 160, 180, 2...   \n",
       "1  [0, 20, 40, 60, 80, 100, 120, 140, 160, 180, 2...   \n",
       "2  [0, 20, 40, 60, 80, 100, 120, 140, 160, 180, 2...   \n",
       "3  [0, 20, 40, 60, 80, 100, 120, 140, 160, 180, 2...   \n",
       "4  [0, 20, 40, 60, 80, 100, 120, 140, 160, 180, 2...   \n",
       "5  [0, 20, 40, 60, 80, 100, 120, 140, 160, 180, 2...   \n",
       "6  [0, 20, 40, 60, 80, 100, 120, 140, 160, 180, 2...   \n",
       "\n",
       "                                      mpfc_lfp_trace  \\\n",
       "0  [0.07365118, 0.11047677, 0.18994251, 0.2364590...   \n",
       "1  [0.9489666, 1.1787612, 1.587285, 1.6766496, 1....   \n",
       "2  [-0.3153952, -0.28119573, -0.2697959, -0.33819...   \n",
       "3  [0.08225485, 0.06580388, -0.13160776, -0.78964...   \n",
       "4  [-0.1605928, -0.081241064, 0.20026867, 0.51956...   \n",
       "5  [0.20669848, -0.15230414, -0.29590517, -0.3154...   \n",
       "6  [-0.6531258, -0.85760915, -1.0346246, -1.10176...   \n",
       "\n",
       "                                      vhpc_lfp_trace  \\\n",
       "0  [-0.26256362, -0.19967411, -0.015722372, 0.150...   \n",
       "1  [-0.59670866, -0.5804559, -0.500353, -0.304158...   \n",
       "2  [0.9725201, 1.5246606, 2.241502, 2.4265945, 2....   \n",
       "3  [-0.75467384, -1.4102968, -2.273455, -2.297038...   \n",
       "4  [-0.57273483, -0.5058673, -0.32561573, -0.3866...   \n",
       "5  [0.6147248, 0.7574288, 0.9452614, 1.0306399, 0...   \n",
       "6  [-0.19550428, -0.31525064, -0.4325532, -0.3885...   \n",
       "\n",
       "                                       bla_lfp_trace  \\\n",
       "0  [0.28542638, 0.8104071, 1.2419446, 1.0261759, ...   \n",
       "1  [0.57716405, 1.2267566, 1.8559785, 1.9170899, ...   \n",
       "2  [0.18319474, 0.4846334, 0.7660871, 0.85435367,...   \n",
       "3  [-0.14317, -0.52495664, -1.2980746, -1.0435501...   \n",
       "4  [-0.1226345, -0.42922074, -0.6099453, -0.56153...   \n",
       "5  [0.5205301, 0.36168292, 0.22482991, 0.20039189...   \n",
       "6  [0.11089993, 0.10362781, -0.08726552, -0.44905...   \n",
       "\n",
       "                                        lh_lfp_trace  \\\n",
       "0  [0.0040029064, -0.11808574, -0.052037787, 0.17...   \n",
       "1  [1.0252244, 1.567814, 1.8645895, 1.6457549, 1....   \n",
       "2  [0.33724487, 0.4972933, 0.52396804, 0.39059433...   \n",
       "3  [-0.8462542, -1.1688362, -1.3489795, -1.064101...   \n",
       "4  [-0.1610439, -0.28040585, -0.1496761, 0.113678...   \n",
       "5  [0.9251029, 0.7673094, 0.894163, 1.0426745, 0....   \n",
       "6  [-0.6876505, -0.82912886, -0.9738974, -1.04628...   \n",
       "\n",
       "                                        md_lfp_trace  \n",
       "0  [0.103898674, -0.011922799, 0.020439083, 0.136...  \n",
       "1  [0.8103085, 0.9092951, 0.8448387, 0.6675837, 0...  \n",
       "2  [0.0032272236, -0.066158086, -0.07422615, 0.05...  \n",
       "3  [-0.4082438, -0.6508234, -0.85198706, -0.83423...  \n",
       "4  [-0.28975692, -0.2704398, 0.02253665, 0.333220...  \n",
       "5  [0.027078055, -0.33724487, -0.05415611, 0.5464...  \n",
       "6  [-0.95446664, -1.173994, -1.3235271, -1.285348...  "
      ]
     },
     "execution_count": 10,
     "metadata": {},
     "output_type": "execute_result"
    }
   ],
   "source": [
    "VIDEO_TO_FRAME_AND_SUBJECT_DF"
   ]
  },
  {
   "cell_type": "markdown",
   "metadata": {
    "cell_id": "e3ee4891d43a4ac287413afc552ca289",
    "deepnote_cell_type": "text-cell-h2",
    "formattedRanges": []
   },
   "source": [
    "## Outputs"
   ]
  },
  {
   "cell_type": "markdown",
   "metadata": {
    "cell_id": "9ccbf6cc70fd4d379fa29317f733771f",
    "deepnote_cell_type": "text-cell-p",
    "formattedRanges": []
   },
   "source": [
    "Describe each output that the notebook creates. "
   ]
  },
  {
   "cell_type": "markdown",
   "metadata": {
    "cell_id": "fc8e8920a6944918a15fac575cdf6e78",
    "deepnote_cell_type": "text-cell-bullet",
    "formattedRanges": []
   },
   "source": [
    "- Is it a plot or is it data?"
   ]
  },
  {
   "cell_type": "markdown",
   "metadata": {
    "cell_id": "1e639d4776a84aa9ac8ded2e14fa57db",
    "deepnote_cell_type": "text-cell-bullet",
    "formattedRanges": []
   },
   "source": [
    "- How valuable is the output and why is it valuable or useful?"
   ]
  },
  {
   "cell_type": "code",
   "execution_count": 11,
   "metadata": {},
   "outputs": [],
   "source": [
    "# Inputs and Required data loading\n",
    "# input varaible names are in all caps snake case\n",
    "# Whenever an input changes or is used for processing \n",
    "# the vairables are all lower in snake case\n",
    "OUTPUT_DIR = r\"./proc/\" # where data is saved should always be shown in the inputs\n",
    "os.makedirs(OUTPUT_DIR, exist_ok=True)\n",
    "OUTPUT_PREFIX = \"rce_pilot_2\""
   ]
  },
  {
   "cell_type": "code",
   "execution_count": 12,
   "metadata": {},
   "outputs": [],
   "source": [
    "FULL_LFP_TRACES_PKL = \"{}_full_lfp_traces_and_sleap_poses.pkl\".format(OUTPUT_PREFIX)"
   ]
  },
  {
   "cell_type": "markdown",
   "metadata": {
    "cell_id": "8999d19b6b7d4d63bc90f0b0bd9ab085",
    "deepnote_cell_type": "text-cell-h2",
    "formattedRanges": []
   },
   "source": [
    "## Processing"
   ]
  },
  {
   "cell_type": "markdown",
   "metadata": {
    "cell_id": "9b36cdf08567463082b005cb0dec684b",
    "deepnote_cell_type": "text-cell-p",
    "formattedRanges": []
   },
   "source": [
    "Describe what is done to the data here and how inputs are manipulated to generate outputs. "
   ]
  },
  {
   "cell_type": "markdown",
   "metadata": {},
   "source": [
    "# Reading in the h5 files between recordings"
   ]
  },
  {
   "cell_type": "code",
   "execution_count": 13,
   "metadata": {},
   "outputs": [
    {
     "data": {
      "text/html": [
       "<div>\n",
       "<style scoped>\n",
       "    .dataframe tbody tr th:only-of-type {\n",
       "        vertical-align: middle;\n",
       "    }\n",
       "\n",
       "    .dataframe tbody tr th {\n",
       "        vertical-align: top;\n",
       "    }\n",
       "\n",
       "    .dataframe thead th {\n",
       "        text-align: right;\n",
       "    }\n",
       "</style>\n",
       "<table border=\"1\" class=\"dataframe\">\n",
       "  <thead>\n",
       "    <tr style=\"text-align: right;\">\n",
       "      <th></th>\n",
       "      <th>cohort</th>\n",
       "      <th>session_dir</th>\n",
       "      <th>tone_frames</th>\n",
       "      <th>port_entry_frames</th>\n",
       "      <th>video_name</th>\n",
       "      <th>session_path</th>\n",
       "      <th>recording</th>\n",
       "      <th>subject</th>\n",
       "      <th>all_subjects</th>\n",
       "      <th>first_timestamp</th>\n",
       "      <th>raw_timestamps</th>\n",
       "      <th>video_timestamps</th>\n",
       "      <th>tone_timestamps</th>\n",
       "      <th>port_entry_timestamps</th>\n",
       "      <th>lfp_timestamps</th>\n",
       "      <th>mpfc_lfp_trace</th>\n",
       "      <th>vhpc_lfp_trace</th>\n",
       "      <th>bla_lfp_trace</th>\n",
       "      <th>lh_lfp_trace</th>\n",
       "      <th>md_lfp_trace</th>\n",
       "    </tr>\n",
       "  </thead>\n",
       "  <tbody>\n",
       "    <tr>\n",
       "      <th>0</th>\n",
       "      <td>2</td>\n",
       "      <td>20230617_115521_standard_comp_to_omission_D1_s...</td>\n",
       "      <td>[[1029, 1229], [3425, 3624], [5721, 5920], [75...</td>\n",
       "      <td>[[102, 105], [110, 148], [193, 199], [200, 202...</td>\n",
       "      <td>20230617_115521_standard_comp_to_omission_D1_s...</td>\n",
       "      <td>/scratch/back_up/reward_competition_extention/...</td>\n",
       "      <td>20230617_115521_standard_comp_to_omission_D1_s...</td>\n",
       "      <td>1.1</td>\n",
       "      <td>[1.1, 1.2]</td>\n",
       "      <td>3478533</td>\n",
       "      <td>[0, 1, 2, 3, 4, 5, 6, 7, 8, 9, 10, 11, 12, 13,...</td>\n",
       "      <td>[-2, 1384, 1500, 2770, 4156, 5542, 5542, 6927,...</td>\n",
       "      <td>[[1030879, 1230878], [3430878, 3630878], [5730...</td>\n",
       "      <td>[[102478, 104881], [110481, 147879], [193083, ...</td>\n",
       "      <td>[0, 20, 40, 60, 80, 100, 120, 140, 160, 180, 2...</td>\n",
       "      <td>[0.07365118, 0.11047677, 0.18994251, 0.2364590...</td>\n",
       "      <td>[-0.26256362, -0.19967411, -0.015722372, 0.150...</td>\n",
       "      <td>[0.28542638, 0.8104071, 1.2419446, 1.0261759, ...</td>\n",
       "      <td>[0.0040029064, -0.11808574, -0.052037787, 0.17...</td>\n",
       "      <td>[0.103898674, -0.011922799, 0.020439083, 0.136...</td>\n",
       "    </tr>\n",
       "    <tr>\n",
       "      <th>1</th>\n",
       "      <td>2</td>\n",
       "      <td>20230617_115521_standard_comp_to_omission_D1_s...</td>\n",
       "      <td>[[1029, 1229], [3425, 3624], [5721, 5920], [75...</td>\n",
       "      <td>[[102, 105], [110, 148], [193, 199], [200, 202...</td>\n",
       "      <td>20230617_115521_standard_comp_to_omission_D1_s...</td>\n",
       "      <td>/scratch/back_up/reward_competition_extention/...</td>\n",
       "      <td>20230617_115521_standard_comp_to_omission_D1_s...</td>\n",
       "      <td>1.2</td>\n",
       "      <td>[1.1, 1.2]</td>\n",
       "      <td>3478533</td>\n",
       "      <td>[0, 1, 2, 3, 4, 5, 6, 7, 8, 9, 10, 11, 12, 13,...</td>\n",
       "      <td>[-2, 1384, 1500, 2770, 4156, 5542, 5542, 6927,...</td>\n",
       "      <td>[[1030879, 1230878], [3430878, 3630878], [5730...</td>\n",
       "      <td>[[102478, 104881], [110481, 147879], [193083, ...</td>\n",
       "      <td>[0, 20, 40, 60, 80, 100, 120, 140, 160, 180, 2...</td>\n",
       "      <td>[0.9489666, 1.1787612, 1.587285, 1.6766496, 1....</td>\n",
       "      <td>[-0.59670866, -0.5804559, -0.500353, -0.304158...</td>\n",
       "      <td>[0.57716405, 1.2267566, 1.8559785, 1.9170899, ...</td>\n",
       "      <td>[1.0252244, 1.567814, 1.8645895, 1.6457549, 1....</td>\n",
       "      <td>[0.8103085, 0.9092951, 0.8448387, 0.6675837, 0...</td>\n",
       "    </tr>\n",
       "    <tr>\n",
       "      <th>2</th>\n",
       "      <td>2</td>\n",
       "      <td>20230618_100636_standard_comp_to_omission_D2_s...</td>\n",
       "      <td>[[1098, 1297], [3492, 3693], [5788, 5988], [75...</td>\n",
       "      <td>[[788, 835], [838, 839], [839, 871], [871, 900...</td>\n",
       "      <td>20230618_100636_standard_comp_to_omission_D2_s...</td>\n",
       "      <td>/scratch/back_up/reward_competition_extention/...</td>\n",
       "      <td>20230618_100636_standard_comp_to_omission_D2_s...</td>\n",
       "      <td>1.1</td>\n",
       "      <td>[1.1, 1.4]</td>\n",
       "      <td>835680</td>\n",
       "      <td>[0, 1, 2, 3, 4, 5, 6, 7, 8, 9, 10, 11, 12, 13,...</td>\n",
       "      <td>[-2, 1384, 2770, 2770, 4155, 5541, 6927, 6927,...</td>\n",
       "      <td>[[1099250, 1299250], [3499256, 3699252], [5799...</td>\n",
       "      <td>[[788852, 836852], [838652, 840050], [840652, ...</td>\n",
       "      <td>[0, 20, 40, 60, 80, 100, 120, 140, 160, 180, 2...</td>\n",
       "      <td>[-0.3153952, -0.28119573, -0.2697959, -0.33819...</td>\n",
       "      <td>[0.9725201, 1.5246606, 2.241502, 2.4265945, 2....</td>\n",
       "      <td>[0.18319474, 0.4846334, 0.7660871, 0.85435367,...</td>\n",
       "      <td>[0.33724487, 0.4972933, 0.52396804, 0.39059433...</td>\n",
       "      <td>[0.0032272236, -0.066158086, -0.07422615, 0.05...</td>\n",
       "    </tr>\n",
       "    <tr>\n",
       "      <th>3</th>\n",
       "      <td>2</td>\n",
       "      <td>20230618_100636_standard_comp_to_omission_D2_s...</td>\n",
       "      <td>[[1098, 1297], [3492, 3693], [5788, 5988], [75...</td>\n",
       "      <td>[[788, 835], [838, 839], [839, 871], [871, 900...</td>\n",
       "      <td>20230618_100636_standard_comp_to_omission_D2_s...</td>\n",
       "      <td>/scratch/back_up/reward_competition_extention/...</td>\n",
       "      <td>20230618_100636_standard_comp_to_omission_D2_s...</td>\n",
       "      <td>1.4</td>\n",
       "      <td>[1.1, 1.4]</td>\n",
       "      <td>835680</td>\n",
       "      <td>[0, 1, 2, 3, 4, 5, 6, 7, 8, 9, 10, 11, 12, 13,...</td>\n",
       "      <td>[-2, 1384, 2770, 2770, 4155, 5541, 6927, 6927,...</td>\n",
       "      <td>[[1099250, 1299250], [3499256, 3699252], [5799...</td>\n",
       "      <td>[[788852, 836852], [838652, 840050], [840652, ...</td>\n",
       "      <td>[0, 20, 40, 60, 80, 100, 120, 140, 160, 180, 2...</td>\n",
       "      <td>[0.08225485, 0.06580388, -0.13160776, -0.78964...</td>\n",
       "      <td>[-0.75467384, -1.4102968, -2.273455, -2.297038...</td>\n",
       "      <td>[-0.14317, -0.52495664, -1.2980746, -1.0435501...</td>\n",
       "      <td>[-0.8462542, -1.1688362, -1.3489795, -1.064101...</td>\n",
       "      <td>[-0.4082438, -0.6508234, -0.85198706, -0.83423...</td>\n",
       "    </tr>\n",
       "    <tr>\n",
       "      <th>4</th>\n",
       "      <td>2</td>\n",
       "      <td>20230620_114347_standard_comp_to_omission_D4_s...</td>\n",
       "      <td>[[1058, 1265], [3460, 3659], [5756, 5955], [75...</td>\n",
       "      <td>[[6, 29], [32, 40], [168, 183], [197, 218], [3...</td>\n",
       "      <td>20230620_114347_standard_comp_to_omission_D4_s...</td>\n",
       "      <td>/scratch/back_up/reward_competition_extention/...</td>\n",
       "      <td>20230620_114347_standard_comp_to_omission_D4_s...</td>\n",
       "      <td>1.1</td>\n",
       "      <td>[1.1, 1.2]</td>\n",
       "      <td>2502881</td>\n",
       "      <td>[0, 1, 2, 3, 4, 5, 6, 7, 8, 9, 10, 11, 12, 13,...</td>\n",
       "      <td>[1384, 1384, 2770, 4156, 5541, 5541, 6927, 831...</td>\n",
       "      <td>[[1057255, 1257260], [3457285, 3657287], [5757...</td>\n",
       "      <td>[[6242, 30447], [32245, 40242], [169046, 18424...</td>\n",
       "      <td>[0, 20, 40, 60, 80, 100, 120, 140, 160, 180, 2...</td>\n",
       "      <td>[-0.1605928, -0.081241064, 0.20026867, 0.51956...</td>\n",
       "      <td>[-0.57273483, -0.5058673, -0.32561573, -0.3866...</td>\n",
       "      <td>[-0.1226345, -0.42922074, -0.6099453, -0.56153...</td>\n",
       "      <td>[-0.1610439, -0.28040585, -0.1496761, 0.113678...</td>\n",
       "      <td>[-0.28975692, -0.2704398, 0.02253665, 0.333220...</td>\n",
       "    </tr>\n",
       "  </tbody>\n",
       "</table>\n",
       "</div>"
      ],
      "text/plain": [
       "   cohort                                        session_dir  \\\n",
       "0       2  20230617_115521_standard_comp_to_omission_D1_s...   \n",
       "1       2  20230617_115521_standard_comp_to_omission_D1_s...   \n",
       "2       2  20230618_100636_standard_comp_to_omission_D2_s...   \n",
       "3       2  20230618_100636_standard_comp_to_omission_D2_s...   \n",
       "4       2  20230620_114347_standard_comp_to_omission_D4_s...   \n",
       "\n",
       "                                         tone_frames  \\\n",
       "0  [[1029, 1229], [3425, 3624], [5721, 5920], [75...   \n",
       "1  [[1029, 1229], [3425, 3624], [5721, 5920], [75...   \n",
       "2  [[1098, 1297], [3492, 3693], [5788, 5988], [75...   \n",
       "3  [[1098, 1297], [3492, 3693], [5788, 5988], [75...   \n",
       "4  [[1058, 1265], [3460, 3659], [5756, 5955], [75...   \n",
       "\n",
       "                                   port_entry_frames  \\\n",
       "0  [[102, 105], [110, 148], [193, 199], [200, 202...   \n",
       "1  [[102, 105], [110, 148], [193, 199], [200, 202...   \n",
       "2  [[788, 835], [838, 839], [839, 871], [871, 900...   \n",
       "3  [[788, 835], [838, 839], [839, 871], [871, 900...   \n",
       "4  [[6, 29], [32, 40], [168, 183], [197, 218], [3...   \n",
       "\n",
       "                                          video_name  \\\n",
       "0  20230617_115521_standard_comp_to_omission_D1_s...   \n",
       "1  20230617_115521_standard_comp_to_omission_D1_s...   \n",
       "2  20230618_100636_standard_comp_to_omission_D2_s...   \n",
       "3  20230618_100636_standard_comp_to_omission_D2_s...   \n",
       "4  20230620_114347_standard_comp_to_omission_D4_s...   \n",
       "\n",
       "                                        session_path  \\\n",
       "0  /scratch/back_up/reward_competition_extention/...   \n",
       "1  /scratch/back_up/reward_competition_extention/...   \n",
       "2  /scratch/back_up/reward_competition_extention/...   \n",
       "3  /scratch/back_up/reward_competition_extention/...   \n",
       "4  /scratch/back_up/reward_competition_extention/...   \n",
       "\n",
       "                                           recording subject all_subjects  \\\n",
       "0  20230617_115521_standard_comp_to_omission_D1_s...     1.1   [1.1, 1.2]   \n",
       "1  20230617_115521_standard_comp_to_omission_D1_s...     1.2   [1.1, 1.2]   \n",
       "2  20230618_100636_standard_comp_to_omission_D2_s...     1.1   [1.1, 1.4]   \n",
       "3  20230618_100636_standard_comp_to_omission_D2_s...     1.4   [1.1, 1.4]   \n",
       "4  20230620_114347_standard_comp_to_omission_D4_s...     1.1   [1.1, 1.2]   \n",
       "\n",
       "   first_timestamp                                     raw_timestamps  \\\n",
       "0          3478533  [0, 1, 2, 3, 4, 5, 6, 7, 8, 9, 10, 11, 12, 13,...   \n",
       "1          3478533  [0, 1, 2, 3, 4, 5, 6, 7, 8, 9, 10, 11, 12, 13,...   \n",
       "2           835680  [0, 1, 2, 3, 4, 5, 6, 7, 8, 9, 10, 11, 12, 13,...   \n",
       "3           835680  [0, 1, 2, 3, 4, 5, 6, 7, 8, 9, 10, 11, 12, 13,...   \n",
       "4          2502881  [0, 1, 2, 3, 4, 5, 6, 7, 8, 9, 10, 11, 12, 13,...   \n",
       "\n",
       "                                    video_timestamps  \\\n",
       "0  [-2, 1384, 1500, 2770, 4156, 5542, 5542, 6927,...   \n",
       "1  [-2, 1384, 1500, 2770, 4156, 5542, 5542, 6927,...   \n",
       "2  [-2, 1384, 2770, 2770, 4155, 5541, 6927, 6927,...   \n",
       "3  [-2, 1384, 2770, 2770, 4155, 5541, 6927, 6927,...   \n",
       "4  [1384, 1384, 2770, 4156, 5541, 5541, 6927, 831...   \n",
       "\n",
       "                                     tone_timestamps  \\\n",
       "0  [[1030879, 1230878], [3430878, 3630878], [5730...   \n",
       "1  [[1030879, 1230878], [3430878, 3630878], [5730...   \n",
       "2  [[1099250, 1299250], [3499256, 3699252], [5799...   \n",
       "3  [[1099250, 1299250], [3499256, 3699252], [5799...   \n",
       "4  [[1057255, 1257260], [3457285, 3657287], [5757...   \n",
       "\n",
       "                               port_entry_timestamps  \\\n",
       "0  [[102478, 104881], [110481, 147879], [193083, ...   \n",
       "1  [[102478, 104881], [110481, 147879], [193083, ...   \n",
       "2  [[788852, 836852], [838652, 840050], [840652, ...   \n",
       "3  [[788852, 836852], [838652, 840050], [840652, ...   \n",
       "4  [[6242, 30447], [32245, 40242], [169046, 18424...   \n",
       "\n",
       "                                      lfp_timestamps  \\\n",
       "0  [0, 20, 40, 60, 80, 100, 120, 140, 160, 180, 2...   \n",
       "1  [0, 20, 40, 60, 80, 100, 120, 140, 160, 180, 2...   \n",
       "2  [0, 20, 40, 60, 80, 100, 120, 140, 160, 180, 2...   \n",
       "3  [0, 20, 40, 60, 80, 100, 120, 140, 160, 180, 2...   \n",
       "4  [0, 20, 40, 60, 80, 100, 120, 140, 160, 180, 2...   \n",
       "\n",
       "                                      mpfc_lfp_trace  \\\n",
       "0  [0.07365118, 0.11047677, 0.18994251, 0.2364590...   \n",
       "1  [0.9489666, 1.1787612, 1.587285, 1.6766496, 1....   \n",
       "2  [-0.3153952, -0.28119573, -0.2697959, -0.33819...   \n",
       "3  [0.08225485, 0.06580388, -0.13160776, -0.78964...   \n",
       "4  [-0.1605928, -0.081241064, 0.20026867, 0.51956...   \n",
       "\n",
       "                                      vhpc_lfp_trace  \\\n",
       "0  [-0.26256362, -0.19967411, -0.015722372, 0.150...   \n",
       "1  [-0.59670866, -0.5804559, -0.500353, -0.304158...   \n",
       "2  [0.9725201, 1.5246606, 2.241502, 2.4265945, 2....   \n",
       "3  [-0.75467384, -1.4102968, -2.273455, -2.297038...   \n",
       "4  [-0.57273483, -0.5058673, -0.32561573, -0.3866...   \n",
       "\n",
       "                                       bla_lfp_trace  \\\n",
       "0  [0.28542638, 0.8104071, 1.2419446, 1.0261759, ...   \n",
       "1  [0.57716405, 1.2267566, 1.8559785, 1.9170899, ...   \n",
       "2  [0.18319474, 0.4846334, 0.7660871, 0.85435367,...   \n",
       "3  [-0.14317, -0.52495664, -1.2980746, -1.0435501...   \n",
       "4  [-0.1226345, -0.42922074, -0.6099453, -0.56153...   \n",
       "\n",
       "                                        lh_lfp_trace  \\\n",
       "0  [0.0040029064, -0.11808574, -0.052037787, 0.17...   \n",
       "1  [1.0252244, 1.567814, 1.8645895, 1.6457549, 1....   \n",
       "2  [0.33724487, 0.4972933, 0.52396804, 0.39059433...   \n",
       "3  [-0.8462542, -1.1688362, -1.3489795, -1.064101...   \n",
       "4  [-0.1610439, -0.28040585, -0.1496761, 0.113678...   \n",
       "\n",
       "                                        md_lfp_trace  \n",
       "0  [0.103898674, -0.011922799, 0.020439083, 0.136...  \n",
       "1  [0.8103085, 0.9092951, 0.8448387, 0.6675837, 0...  \n",
       "2  [0.0032272236, -0.066158086, -0.07422615, 0.05...  \n",
       "3  [-0.4082438, -0.6508234, -0.85198706, -0.83423...  \n",
       "4  [-0.28975692, -0.2704398, 0.02253665, 0.333220...  "
      ]
     },
     "execution_count": 13,
     "metadata": {},
     "output_type": "execute_result"
    }
   ],
   "source": [
    "VIDEO_TO_FRAME_AND_SUBJECT_DF.head()"
   ]
  },
  {
   "cell_type": "markdown",
   "metadata": {},
   "source": [
    "- Getting the names of each subject"
   ]
  },
  {
   "cell_type": "code",
   "execution_count": null,
   "metadata": {},
   "outputs": [],
   "source": []
  },
  {
   "cell_type": "code",
   "execution_count": 14,
   "metadata": {},
   "outputs": [
    {
     "data": {
      "text/plain": [
       "'20230617_115521_standard_comp_to_omission_D1_subj_1-1_and_1-2.1'"
      ]
     },
     "execution_count": 14,
     "metadata": {},
     "output_type": "execute_result"
    }
   ],
   "source": [
    "VIDEO_TO_FRAME_AND_SUBJECT_DF[\"video_name\"].iloc[0]"
   ]
  },
  {
   "cell_type": "code",
   "execution_count": 15,
   "metadata": {},
   "outputs": [],
   "source": [
    "# VIDEO_TO_FRAME_AND_SUBJECT_DF[\"video_path\"] = VIDEO_TO_FRAME_AND_SUBJECT_DF[\"video_name\"].apply(lambda x: os.path.join(SLEAP_DIR, \"*\", x + \"*.h5\"))\n",
    "VIDEO_TO_FRAME_AND_SUBJECT_DF[\"sleap_glob\"] = VIDEO_TO_FRAME_AND_SUBJECT_DF[\"video_name\"].apply(lambda x: glob.glob(os.path.join(SLEAP_DIR, \"*\", x + \"*2_subj*.h5\")))\n",
    "VIDEO_TO_FRAME_AND_SUBJECT_DF = VIDEO_TO_FRAME_AND_SUBJECT_DF[VIDEO_TO_FRAME_AND_SUBJECT_DF['sleap_glob'].apply(lambda x: len(x) == 1)]\n",
    "VIDEO_TO_FRAME_AND_SUBJECT_DF = VIDEO_TO_FRAME_AND_SUBJECT_DF.reset_index(drop=True)\n",
    "\n",
    "\n",
    "VIDEO_TO_FRAME_AND_SUBJECT_DF[\"sleap_path\"] = VIDEO_TO_FRAME_AND_SUBJECT_DF[\"sleap_glob\"].apply(lambda x: x[0])"
   ]
  },
  {
   "cell_type": "code",
   "execution_count": null,
   "metadata": {},
   "outputs": [],
   "source": []
  },
  {
   "cell_type": "code",
   "execution_count": 16,
   "metadata": {},
   "outputs": [
    {
     "data": {
      "text/html": [
       "<div>\n",
       "<style scoped>\n",
       "    .dataframe tbody tr th:only-of-type {\n",
       "        vertical-align: middle;\n",
       "    }\n",
       "\n",
       "    .dataframe tbody tr th {\n",
       "        vertical-align: top;\n",
       "    }\n",
       "\n",
       "    .dataframe thead th {\n",
       "        text-align: right;\n",
       "    }\n",
       "</style>\n",
       "<table border=\"1\" class=\"dataframe\">\n",
       "  <thead>\n",
       "    <tr style=\"text-align: right;\">\n",
       "      <th></th>\n",
       "      <th>cohort</th>\n",
       "      <th>session_dir</th>\n",
       "      <th>tone_frames</th>\n",
       "      <th>port_entry_frames</th>\n",
       "      <th>video_name</th>\n",
       "      <th>session_path</th>\n",
       "      <th>recording</th>\n",
       "      <th>subject</th>\n",
       "      <th>all_subjects</th>\n",
       "      <th>first_timestamp</th>\n",
       "      <th>...</th>\n",
       "      <th>tone_timestamps</th>\n",
       "      <th>port_entry_timestamps</th>\n",
       "      <th>lfp_timestamps</th>\n",
       "      <th>mpfc_lfp_trace</th>\n",
       "      <th>vhpc_lfp_trace</th>\n",
       "      <th>bla_lfp_trace</th>\n",
       "      <th>lh_lfp_trace</th>\n",
       "      <th>md_lfp_trace</th>\n",
       "      <th>sleap_glob</th>\n",
       "      <th>sleap_path</th>\n",
       "    </tr>\n",
       "  </thead>\n",
       "  <tbody>\n",
       "    <tr>\n",
       "      <th>0</th>\n",
       "      <td>2</td>\n",
       "      <td>20230617_115521_standard_comp_to_omission_D1_s...</td>\n",
       "      <td>[[1029, 1229], [3425, 3624], [5721, 5920], [75...</td>\n",
       "      <td>[[102, 105], [110, 148], [193, 199], [200, 202...</td>\n",
       "      <td>20230617_115521_standard_comp_to_omission_D1_s...</td>\n",
       "      <td>/scratch/back_up/reward_competition_extention/...</td>\n",
       "      <td>20230617_115521_standard_comp_to_omission_D1_s...</td>\n",
       "      <td>1.1</td>\n",
       "      <td>[1.1, 1.2]</td>\n",
       "      <td>3478533</td>\n",
       "      <td>...</td>\n",
       "      <td>[[1030879, 1230878], [3430878, 3630878], [5730...</td>\n",
       "      <td>[[102478, 104881], [110481, 147879], [193083, ...</td>\n",
       "      <td>[0, 20, 40, 60, 80, 100, 120, 140, 160, 180, 2...</td>\n",
       "      <td>[0.07365118, 0.11047677, 0.18994251, 0.2364590...</td>\n",
       "      <td>[-0.26256362, -0.19967411, -0.015722372, 0.150...</td>\n",
       "      <td>[0.28542638, 0.8104071, 1.2419446, 1.0261759, ...</td>\n",
       "      <td>[0.0040029064, -0.11808574, -0.052037787, 0.17...</td>\n",
       "      <td>[0.103898674, -0.011922799, 0.020439083, 0.136...</td>\n",
       "      <td>[/scratch/back_up/reward_competition_extention...</td>\n",
       "      <td>/scratch/back_up/reward_competition_extention/...</td>\n",
       "    </tr>\n",
       "    <tr>\n",
       "      <th>1</th>\n",
       "      <td>2</td>\n",
       "      <td>20230617_115521_standard_comp_to_omission_D1_s...</td>\n",
       "      <td>[[1029, 1229], [3425, 3624], [5721, 5920], [75...</td>\n",
       "      <td>[[102, 105], [110, 148], [193, 199], [200, 202...</td>\n",
       "      <td>20230617_115521_standard_comp_to_omission_D1_s...</td>\n",
       "      <td>/scratch/back_up/reward_competition_extention/...</td>\n",
       "      <td>20230617_115521_standard_comp_to_omission_D1_s...</td>\n",
       "      <td>1.2</td>\n",
       "      <td>[1.1, 1.2]</td>\n",
       "      <td>3478533</td>\n",
       "      <td>...</td>\n",
       "      <td>[[1030879, 1230878], [3430878, 3630878], [5730...</td>\n",
       "      <td>[[102478, 104881], [110481, 147879], [193083, ...</td>\n",
       "      <td>[0, 20, 40, 60, 80, 100, 120, 140, 160, 180, 2...</td>\n",
       "      <td>[0.9489666, 1.1787612, 1.587285, 1.6766496, 1....</td>\n",
       "      <td>[-0.59670866, -0.5804559, -0.500353, -0.304158...</td>\n",
       "      <td>[0.57716405, 1.2267566, 1.8559785, 1.9170899, ...</td>\n",
       "      <td>[1.0252244, 1.567814, 1.8645895, 1.6457549, 1....</td>\n",
       "      <td>[0.8103085, 0.9092951, 0.8448387, 0.6675837, 0...</td>\n",
       "      <td>[/scratch/back_up/reward_competition_extention...</td>\n",
       "      <td>/scratch/back_up/reward_competition_extention/...</td>\n",
       "    </tr>\n",
       "    <tr>\n",
       "      <th>2</th>\n",
       "      <td>2</td>\n",
       "      <td>20230618_100636_standard_comp_to_omission_D2_s...</td>\n",
       "      <td>[[1098, 1297], [3492, 3693], [5788, 5988], [75...</td>\n",
       "      <td>[[788, 835], [838, 839], [839, 871], [871, 900...</td>\n",
       "      <td>20230618_100636_standard_comp_to_omission_D2_s...</td>\n",
       "      <td>/scratch/back_up/reward_competition_extention/...</td>\n",
       "      <td>20230618_100636_standard_comp_to_omission_D2_s...</td>\n",
       "      <td>1.1</td>\n",
       "      <td>[1.1, 1.4]</td>\n",
       "      <td>835680</td>\n",
       "      <td>...</td>\n",
       "      <td>[[1099250, 1299250], [3499256, 3699252], [5799...</td>\n",
       "      <td>[[788852, 836852], [838652, 840050], [840652, ...</td>\n",
       "      <td>[0, 20, 40, 60, 80, 100, 120, 140, 160, 180, 2...</td>\n",
       "      <td>[-0.3153952, -0.28119573, -0.2697959, -0.33819...</td>\n",
       "      <td>[0.9725201, 1.5246606, 2.241502, 2.4265945, 2....</td>\n",
       "      <td>[0.18319474, 0.4846334, 0.7660871, 0.85435367,...</td>\n",
       "      <td>[0.33724487, 0.4972933, 0.52396804, 0.39059433...</td>\n",
       "      <td>[0.0032272236, -0.066158086, -0.07422615, 0.05...</td>\n",
       "      <td>[/scratch/back_up/reward_competition_extention...</td>\n",
       "      <td>/scratch/back_up/reward_competition_extention/...</td>\n",
       "    </tr>\n",
       "    <tr>\n",
       "      <th>3</th>\n",
       "      <td>2</td>\n",
       "      <td>20230618_100636_standard_comp_to_omission_D2_s...</td>\n",
       "      <td>[[1098, 1297], [3492, 3693], [5788, 5988], [75...</td>\n",
       "      <td>[[788, 835], [838, 839], [839, 871], [871, 900...</td>\n",
       "      <td>20230618_100636_standard_comp_to_omission_D2_s...</td>\n",
       "      <td>/scratch/back_up/reward_competition_extention/...</td>\n",
       "      <td>20230618_100636_standard_comp_to_omission_D2_s...</td>\n",
       "      <td>1.4</td>\n",
       "      <td>[1.1, 1.4]</td>\n",
       "      <td>835680</td>\n",
       "      <td>...</td>\n",
       "      <td>[[1099250, 1299250], [3499256, 3699252], [5799...</td>\n",
       "      <td>[[788852, 836852], [838652, 840050], [840652, ...</td>\n",
       "      <td>[0, 20, 40, 60, 80, 100, 120, 140, 160, 180, 2...</td>\n",
       "      <td>[0.08225485, 0.06580388, -0.13160776, -0.78964...</td>\n",
       "      <td>[-0.75467384, -1.4102968, -2.273455, -2.297038...</td>\n",
       "      <td>[-0.14317, -0.52495664, -1.2980746, -1.0435501...</td>\n",
       "      <td>[-0.8462542, -1.1688362, -1.3489795, -1.064101...</td>\n",
       "      <td>[-0.4082438, -0.6508234, -0.85198706, -0.83423...</td>\n",
       "      <td>[/scratch/back_up/reward_competition_extention...</td>\n",
       "      <td>/scratch/back_up/reward_competition_extention/...</td>\n",
       "    </tr>\n",
       "    <tr>\n",
       "      <th>4</th>\n",
       "      <td>2</td>\n",
       "      <td>20230620_114347_standard_comp_to_omission_D4_s...</td>\n",
       "      <td>[[1058, 1265], [3460, 3659], [5756, 5955], [75...</td>\n",
       "      <td>[[6, 29], [32, 40], [168, 183], [197, 218], [3...</td>\n",
       "      <td>20230620_114347_standard_comp_to_omission_D4_s...</td>\n",
       "      <td>/scratch/back_up/reward_competition_extention/...</td>\n",
       "      <td>20230620_114347_standard_comp_to_omission_D4_s...</td>\n",
       "      <td>1.1</td>\n",
       "      <td>[1.1, 1.2]</td>\n",
       "      <td>2502881</td>\n",
       "      <td>...</td>\n",
       "      <td>[[1057255, 1257260], [3457285, 3657287], [5757...</td>\n",
       "      <td>[[6242, 30447], [32245, 40242], [169046, 18424...</td>\n",
       "      <td>[0, 20, 40, 60, 80, 100, 120, 140, 160, 180, 2...</td>\n",
       "      <td>[-0.1605928, -0.081241064, 0.20026867, 0.51956...</td>\n",
       "      <td>[-0.57273483, -0.5058673, -0.32561573, -0.3866...</td>\n",
       "      <td>[-0.1226345, -0.42922074, -0.6099453, -0.56153...</td>\n",
       "      <td>[-0.1610439, -0.28040585, -0.1496761, 0.113678...</td>\n",
       "      <td>[-0.28975692, -0.2704398, 0.02253665, 0.333220...</td>\n",
       "      <td>[/scratch/back_up/reward_competition_extention...</td>\n",
       "      <td>/scratch/back_up/reward_competition_extention/...</td>\n",
       "    </tr>\n",
       "    <tr>\n",
       "      <th>5</th>\n",
       "      <td>2</td>\n",
       "      <td>20230620_114347_standard_comp_to_omission_D4_s...</td>\n",
       "      <td>[[1058, 1265], [3460, 3659], [5756, 5955], [75...</td>\n",
       "      <td>[[6, 29], [32, 40], [168, 183], [197, 218], [3...</td>\n",
       "      <td>20230620_114347_standard_comp_to_omission_D4_s...</td>\n",
       "      <td>/scratch/back_up/reward_competition_extention/...</td>\n",
       "      <td>20230620_114347_standard_comp_to_omission_D4_s...</td>\n",
       "      <td>1.2</td>\n",
       "      <td>[1.1, 1.2]</td>\n",
       "      <td>2502881</td>\n",
       "      <td>...</td>\n",
       "      <td>[[1057255, 1257260], [3457285, 3657287], [5757...</td>\n",
       "      <td>[[6242, 30447], [32245, 40242], [169046, 18424...</td>\n",
       "      <td>[0, 20, 40, 60, 80, 100, 120, 140, 160, 180, 2...</td>\n",
       "      <td>[0.20669848, -0.15230414, -0.29590517, -0.3154...</td>\n",
       "      <td>[0.6147248, 0.7574288, 0.9452614, 1.0306399, 0...</td>\n",
       "      <td>[0.5205301, 0.36168292, 0.22482991, 0.20039189...</td>\n",
       "      <td>[0.9251029, 0.7673094, 0.894163, 1.0426745, 0....</td>\n",
       "      <td>[0.027078055, -0.33724487, -0.05415611, 0.5464...</td>\n",
       "      <td>[/scratch/back_up/reward_competition_extention...</td>\n",
       "      <td>/scratch/back_up/reward_competition_extention/...</td>\n",
       "    </tr>\n",
       "    <tr>\n",
       "      <th>6</th>\n",
       "      <td>2</td>\n",
       "      <td>20230621_111240_standard_comp_to_omission_D5_s...</td>\n",
       "      <td>[[477, 1286], [2484, 2683], [4880, 5079], [717...</td>\n",
       "      <td>[[223, 250], [252, 254], [257, 257], [258, 297...</td>\n",
       "      <td>20230621_111240_standard_comp_to_omission_D5_s...</td>\n",
       "      <td>/scratch/back_up/reward_competition_extention/...</td>\n",
       "      <td>20230621_111240_standard_comp_to_omission_D5_s...</td>\n",
       "      <td>1.4</td>\n",
       "      <td>[1.2, 1.4]</td>\n",
       "      <td>3193044</td>\n",
       "      <td>...</td>\n",
       "      <td>[[478042, 1287653], [2488068, 2688073], [48880...</td>\n",
       "      <td>[[223038, 250239], [251039, 253641], [256439, ...</td>\n",
       "      <td>[0, 20, 40, 60, 80, 100, 120, 140, 160, 180, 2...</td>\n",
       "      <td>[-0.6531258, -0.85760915, -1.0346246, -1.10176...</td>\n",
       "      <td>[-0.19550428, -0.31525064, -0.4325532, -0.3885...</td>\n",
       "      <td>[0.11089993, 0.10362781, -0.08726552, -0.44905...</td>\n",
       "      <td>[-0.6876505, -0.82912886, -0.9738974, -1.04628...</td>\n",
       "      <td>[-0.95446664, -1.173994, -1.3235271, -1.285348...</td>\n",
       "      <td>[/scratch/back_up/reward_competition_extention...</td>\n",
       "      <td>/scratch/back_up/reward_competition_extention/...</td>\n",
       "    </tr>\n",
       "  </tbody>\n",
       "</table>\n",
       "<p>7 rows × 22 columns</p>\n",
       "</div>"
      ],
      "text/plain": [
       "   cohort                                        session_dir  \\\n",
       "0       2  20230617_115521_standard_comp_to_omission_D1_s...   \n",
       "1       2  20230617_115521_standard_comp_to_omission_D1_s...   \n",
       "2       2  20230618_100636_standard_comp_to_omission_D2_s...   \n",
       "3       2  20230618_100636_standard_comp_to_omission_D2_s...   \n",
       "4       2  20230620_114347_standard_comp_to_omission_D4_s...   \n",
       "5       2  20230620_114347_standard_comp_to_omission_D4_s...   \n",
       "6       2  20230621_111240_standard_comp_to_omission_D5_s...   \n",
       "\n",
       "                                         tone_frames  \\\n",
       "0  [[1029, 1229], [3425, 3624], [5721, 5920], [75...   \n",
       "1  [[1029, 1229], [3425, 3624], [5721, 5920], [75...   \n",
       "2  [[1098, 1297], [3492, 3693], [5788, 5988], [75...   \n",
       "3  [[1098, 1297], [3492, 3693], [5788, 5988], [75...   \n",
       "4  [[1058, 1265], [3460, 3659], [5756, 5955], [75...   \n",
       "5  [[1058, 1265], [3460, 3659], [5756, 5955], [75...   \n",
       "6  [[477, 1286], [2484, 2683], [4880, 5079], [717...   \n",
       "\n",
       "                                   port_entry_frames  \\\n",
       "0  [[102, 105], [110, 148], [193, 199], [200, 202...   \n",
       "1  [[102, 105], [110, 148], [193, 199], [200, 202...   \n",
       "2  [[788, 835], [838, 839], [839, 871], [871, 900...   \n",
       "3  [[788, 835], [838, 839], [839, 871], [871, 900...   \n",
       "4  [[6, 29], [32, 40], [168, 183], [197, 218], [3...   \n",
       "5  [[6, 29], [32, 40], [168, 183], [197, 218], [3...   \n",
       "6  [[223, 250], [252, 254], [257, 257], [258, 297...   \n",
       "\n",
       "                                          video_name  \\\n",
       "0  20230617_115521_standard_comp_to_omission_D1_s...   \n",
       "1  20230617_115521_standard_comp_to_omission_D1_s...   \n",
       "2  20230618_100636_standard_comp_to_omission_D2_s...   \n",
       "3  20230618_100636_standard_comp_to_omission_D2_s...   \n",
       "4  20230620_114347_standard_comp_to_omission_D4_s...   \n",
       "5  20230620_114347_standard_comp_to_omission_D4_s...   \n",
       "6  20230621_111240_standard_comp_to_omission_D5_s...   \n",
       "\n",
       "                                        session_path  \\\n",
       "0  /scratch/back_up/reward_competition_extention/...   \n",
       "1  /scratch/back_up/reward_competition_extention/...   \n",
       "2  /scratch/back_up/reward_competition_extention/...   \n",
       "3  /scratch/back_up/reward_competition_extention/...   \n",
       "4  /scratch/back_up/reward_competition_extention/...   \n",
       "5  /scratch/back_up/reward_competition_extention/...   \n",
       "6  /scratch/back_up/reward_competition_extention/...   \n",
       "\n",
       "                                           recording subject all_subjects  \\\n",
       "0  20230617_115521_standard_comp_to_omission_D1_s...     1.1   [1.1, 1.2]   \n",
       "1  20230617_115521_standard_comp_to_omission_D1_s...     1.2   [1.1, 1.2]   \n",
       "2  20230618_100636_standard_comp_to_omission_D2_s...     1.1   [1.1, 1.4]   \n",
       "3  20230618_100636_standard_comp_to_omission_D2_s...     1.4   [1.1, 1.4]   \n",
       "4  20230620_114347_standard_comp_to_omission_D4_s...     1.1   [1.1, 1.2]   \n",
       "5  20230620_114347_standard_comp_to_omission_D4_s...     1.2   [1.1, 1.2]   \n",
       "6  20230621_111240_standard_comp_to_omission_D5_s...     1.4   [1.2, 1.4]   \n",
       "\n",
       "   first_timestamp  ...                                    tone_timestamps  \\\n",
       "0          3478533  ...  [[1030879, 1230878], [3430878, 3630878], [5730...   \n",
       "1          3478533  ...  [[1030879, 1230878], [3430878, 3630878], [5730...   \n",
       "2           835680  ...  [[1099250, 1299250], [3499256, 3699252], [5799...   \n",
       "3           835680  ...  [[1099250, 1299250], [3499256, 3699252], [5799...   \n",
       "4          2502881  ...  [[1057255, 1257260], [3457285, 3657287], [5757...   \n",
       "5          2502881  ...  [[1057255, 1257260], [3457285, 3657287], [5757...   \n",
       "6          3193044  ...  [[478042, 1287653], [2488068, 2688073], [48880...   \n",
       "\n",
       "                               port_entry_timestamps  \\\n",
       "0  [[102478, 104881], [110481, 147879], [193083, ...   \n",
       "1  [[102478, 104881], [110481, 147879], [193083, ...   \n",
       "2  [[788852, 836852], [838652, 840050], [840652, ...   \n",
       "3  [[788852, 836852], [838652, 840050], [840652, ...   \n",
       "4  [[6242, 30447], [32245, 40242], [169046, 18424...   \n",
       "5  [[6242, 30447], [32245, 40242], [169046, 18424...   \n",
       "6  [[223038, 250239], [251039, 253641], [256439, ...   \n",
       "\n",
       "                                      lfp_timestamps  \\\n",
       "0  [0, 20, 40, 60, 80, 100, 120, 140, 160, 180, 2...   \n",
       "1  [0, 20, 40, 60, 80, 100, 120, 140, 160, 180, 2...   \n",
       "2  [0, 20, 40, 60, 80, 100, 120, 140, 160, 180, 2...   \n",
       "3  [0, 20, 40, 60, 80, 100, 120, 140, 160, 180, 2...   \n",
       "4  [0, 20, 40, 60, 80, 100, 120, 140, 160, 180, 2...   \n",
       "5  [0, 20, 40, 60, 80, 100, 120, 140, 160, 180, 2...   \n",
       "6  [0, 20, 40, 60, 80, 100, 120, 140, 160, 180, 2...   \n",
       "\n",
       "                                      mpfc_lfp_trace  \\\n",
       "0  [0.07365118, 0.11047677, 0.18994251, 0.2364590...   \n",
       "1  [0.9489666, 1.1787612, 1.587285, 1.6766496, 1....   \n",
       "2  [-0.3153952, -0.28119573, -0.2697959, -0.33819...   \n",
       "3  [0.08225485, 0.06580388, -0.13160776, -0.78964...   \n",
       "4  [-0.1605928, -0.081241064, 0.20026867, 0.51956...   \n",
       "5  [0.20669848, -0.15230414, -0.29590517, -0.3154...   \n",
       "6  [-0.6531258, -0.85760915, -1.0346246, -1.10176...   \n",
       "\n",
       "                                      vhpc_lfp_trace  \\\n",
       "0  [-0.26256362, -0.19967411, -0.015722372, 0.150...   \n",
       "1  [-0.59670866, -0.5804559, -0.500353, -0.304158...   \n",
       "2  [0.9725201, 1.5246606, 2.241502, 2.4265945, 2....   \n",
       "3  [-0.75467384, -1.4102968, -2.273455, -2.297038...   \n",
       "4  [-0.57273483, -0.5058673, -0.32561573, -0.3866...   \n",
       "5  [0.6147248, 0.7574288, 0.9452614, 1.0306399, 0...   \n",
       "6  [-0.19550428, -0.31525064, -0.4325532, -0.3885...   \n",
       "\n",
       "                                       bla_lfp_trace  \\\n",
       "0  [0.28542638, 0.8104071, 1.2419446, 1.0261759, ...   \n",
       "1  [0.57716405, 1.2267566, 1.8559785, 1.9170899, ...   \n",
       "2  [0.18319474, 0.4846334, 0.7660871, 0.85435367,...   \n",
       "3  [-0.14317, -0.52495664, -1.2980746, -1.0435501...   \n",
       "4  [-0.1226345, -0.42922074, -0.6099453, -0.56153...   \n",
       "5  [0.5205301, 0.36168292, 0.22482991, 0.20039189...   \n",
       "6  [0.11089993, 0.10362781, -0.08726552, -0.44905...   \n",
       "\n",
       "                                        lh_lfp_trace  \\\n",
       "0  [0.0040029064, -0.11808574, -0.052037787, 0.17...   \n",
       "1  [1.0252244, 1.567814, 1.8645895, 1.6457549, 1....   \n",
       "2  [0.33724487, 0.4972933, 0.52396804, 0.39059433...   \n",
       "3  [-0.8462542, -1.1688362, -1.3489795, -1.064101...   \n",
       "4  [-0.1610439, -0.28040585, -0.1496761, 0.113678...   \n",
       "5  [0.9251029, 0.7673094, 0.894163, 1.0426745, 0....   \n",
       "6  [-0.6876505, -0.82912886, -0.9738974, -1.04628...   \n",
       "\n",
       "                                        md_lfp_trace  \\\n",
       "0  [0.103898674, -0.011922799, 0.020439083, 0.136...   \n",
       "1  [0.8103085, 0.9092951, 0.8448387, 0.6675837, 0...   \n",
       "2  [0.0032272236, -0.066158086, -0.07422615, 0.05...   \n",
       "3  [-0.4082438, -0.6508234, -0.85198706, -0.83423...   \n",
       "4  [-0.28975692, -0.2704398, 0.02253665, 0.333220...   \n",
       "5  [0.027078055, -0.33724487, -0.05415611, 0.5464...   \n",
       "6  [-0.95446664, -1.173994, -1.3235271, -1.285348...   \n",
       "\n",
       "                                          sleap_glob  \\\n",
       "0  [/scratch/back_up/reward_competition_extention...   \n",
       "1  [/scratch/back_up/reward_competition_extention...   \n",
       "2  [/scratch/back_up/reward_competition_extention...   \n",
       "3  [/scratch/back_up/reward_competition_extention...   \n",
       "4  [/scratch/back_up/reward_competition_extention...   \n",
       "5  [/scratch/back_up/reward_competition_extention...   \n",
       "6  [/scratch/back_up/reward_competition_extention...   \n",
       "\n",
       "                                          sleap_path  \n",
       "0  /scratch/back_up/reward_competition_extention/...  \n",
       "1  /scratch/back_up/reward_competition_extention/...  \n",
       "2  /scratch/back_up/reward_competition_extention/...  \n",
       "3  /scratch/back_up/reward_competition_extention/...  \n",
       "4  /scratch/back_up/reward_competition_extention/...  \n",
       "5  /scratch/back_up/reward_competition_extention/...  \n",
       "6  /scratch/back_up/reward_competition_extention/...  \n",
       "\n",
       "[7 rows x 22 columns]"
      ]
     },
     "execution_count": 16,
     "metadata": {},
     "output_type": "execute_result"
    }
   ],
   "source": [
    "VIDEO_TO_FRAME_AND_SUBJECT_DF"
   ]
  },
  {
   "cell_type": "markdown",
   "metadata": {},
   "source": []
  },
  {
   "cell_type": "code",
   "execution_count": 17,
   "metadata": {},
   "outputs": [],
   "source": [
    "VIDEO_TO_FRAME_AND_SUBJECT_DF[\"all_sleap_data\"] = VIDEO_TO_FRAME_AND_SUBJECT_DF[\"sleap_path\"].apply(lambda x: sleap.process_pose.extract_sleap_data(x))\n"
   ]
  },
  {
   "cell_type": "code",
   "execution_count": 18,
   "metadata": {},
   "outputs": [],
   "source": [
    "VIDEO_TO_FRAME_AND_SUBJECT_DF[\"locations\"] = VIDEO_TO_FRAME_AND_SUBJECT_DF[\"all_sleap_data\"].apply(lambda x: x[\"locations\"])"
   ]
  },
  {
   "cell_type": "code",
   "execution_count": 19,
   "metadata": {},
   "outputs": [],
   "source": [
    "VIDEO_TO_FRAME_AND_SUBJECT_DF[\"track_names\"] = VIDEO_TO_FRAME_AND_SUBJECT_DF[\"all_sleap_data\"].apply(lambda x: x[\"track_names\"])"
   ]
  },
  {
   "cell_type": "code",
   "execution_count": 20,
   "metadata": {},
   "outputs": [
    {
     "data": {
      "text/plain": [
       "0    [1.1, 1.2, track_862, track_863, track_1067, t...\n",
       "1    [1.1, 1.2, track_862, track_863, track_1067, t...\n",
       "2    [1.1, 1.4, track_867, track_868, track_869, tr...\n",
       "3    [1.1, 1.4, track_867, track_868, track_869, tr...\n",
       "4    [1.1, 1.2, track_16, track_18, track_40, track...\n",
       "5    [1.1, 1.2, track_16, track_18, track_40, track...\n",
       "6    [1.2, 1.4, track_711, track_712, track_713, tr...\n",
       "Name: track_names, dtype: object"
      ]
     },
     "execution_count": 20,
     "metadata": {},
     "output_type": "execute_result"
    }
   ],
   "source": [
    "VIDEO_TO_FRAME_AND_SUBJECT_DF[\"track_names\"]"
   ]
  },
  {
   "cell_type": "code",
   "execution_count": 21,
   "metadata": {},
   "outputs": [],
   "source": [
    "# Getting the coordinates of all the body parts for all the animals for the entire recording\n",
    "VIDEO_TO_FRAME_AND_SUBJECT_DF[\"locations\"] = VIDEO_TO_FRAME_AND_SUBJECT_DF[\"sleap_path\"].apply(lambda x: sleap.process_pose.get_sleap_tracks_from_h5(x))\n",
    "# Getting the name of the tracks which correspond to the animal id\n",
    "VIDEO_TO_FRAME_AND_SUBJECT_DF[\"track_names\"] = VIDEO_TO_FRAME_AND_SUBJECT_DF[\"sleap_path\"].apply(lambda x: sleap.process_pose.get_sleap_track_names_from_h5(x))"
   ]
  },
  {
   "cell_type": "code",
   "execution_count": 22,
   "metadata": {},
   "outputs": [
    {
     "data": {
      "text/plain": [
       "(79051, 6, 2, 10)"
      ]
     },
     "execution_count": 22,
     "metadata": {},
     "output_type": "execute_result"
    }
   ],
   "source": [
    "VIDEO_TO_FRAME_AND_SUBJECT_DF[\"locations\"].iloc[0].shape"
   ]
  },
  {
   "cell_type": "code",
   "execution_count": 23,
   "metadata": {},
   "outputs": [
    {
     "data": {
      "text/plain": [
       "['1.1',\n",
       " '1.2',\n",
       " 'track_862',\n",
       " 'track_863',\n",
       " 'track_1067',\n",
       " 'track_1068',\n",
       " 'track_1148',\n",
       " 'track_1149',\n",
       " 'track_1153',\n",
       " 'track_1154']"
      ]
     },
     "execution_count": 23,
     "metadata": {},
     "output_type": "execute_result"
    }
   ],
   "source": [
    "VIDEO_TO_FRAME_AND_SUBJECT_DF[\"track_names\"].iloc[0]"
   ]
  },
  {
   "cell_type": "code",
   "execution_count": 24,
   "metadata": {},
   "outputs": [
    {
     "data": {
      "text/plain": [
       "0    1.1\n",
       "1    1.2\n",
       "2    1.1\n",
       "3    1.4\n",
       "4    1.1\n",
       "5    1.2\n",
       "6    1.4\n",
       "Name: subject, dtype: object"
      ]
     },
     "execution_count": 24,
     "metadata": {},
     "output_type": "execute_result"
    }
   ],
   "source": [
    "VIDEO_TO_FRAME_AND_SUBJECT_DF[\"subject\"]"
   ]
  },
  {
   "cell_type": "code",
   "execution_count": 25,
   "metadata": {},
   "outputs": [
    {
     "data": {
      "text/plain": [
       "0    [1.1, 1.2, track_862, track_863, track_1067, t...\n",
       "1    [1.1, 1.2, track_862, track_863, track_1067, t...\n",
       "2    [1.1, 1.4, track_867, track_868, track_869, tr...\n",
       "3    [1.1, 1.4, track_867, track_868, track_869, tr...\n",
       "4    [1.1, 1.2, track_16, track_18, track_40, track...\n",
       "5    [1.1, 1.2, track_16, track_18, track_40, track...\n",
       "6    [1.2, 1.4, track_711, track_712, track_713, tr...\n",
       "Name: track_names, dtype: object"
      ]
     },
     "execution_count": 25,
     "metadata": {},
     "output_type": "execute_result"
    }
   ],
   "source": [
    "VIDEO_TO_FRAME_AND_SUBJECT_DF[\"track_names\"]"
   ]
  },
  {
   "cell_type": "code",
   "execution_count": 26,
   "metadata": {},
   "outputs": [],
   "source": [
    "# Getting the indexes of each subject from the track list\n",
    "VIDEO_TO_FRAME_AND_SUBJECT_DF[\"subject_to_index\"] = VIDEO_TO_FRAME_AND_SUBJECT_DF.apply(lambda x: {k: x[\"track_names\"].index(k) for k in x[\"all_subjects\"] if k in x[\"track_names\"]}, axis=1)"
   ]
  },
  {
   "cell_type": "code",
   "execution_count": 27,
   "metadata": {},
   "outputs": [
    {
     "data": {
      "text/plain": [
       "0    {'1.1': 0, '1.2': 1}\n",
       "1    {'1.1': 0, '1.2': 1}\n",
       "2    {'1.1': 0, '1.4': 1}\n",
       "3    {'1.1': 0, '1.4': 1}\n",
       "4    {'1.1': 0, '1.2': 1}\n",
       "5    {'1.1': 0, '1.2': 1}\n",
       "6    {'1.2': 0, '1.4': 1}\n",
       "Name: subject_to_index, dtype: object"
      ]
     },
     "execution_count": 27,
     "metadata": {},
     "output_type": "execute_result"
    }
   ],
   "source": [
    "VIDEO_TO_FRAME_AND_SUBJECT_DF[\"subject_to_index\"]"
   ]
  },
  {
   "cell_type": "code",
   "execution_count": 28,
   "metadata": {},
   "outputs": [],
   "source": [
    "VIDEO_TO_FRAME_AND_SUBJECT_DF[\"subject_to_tracks\"] = VIDEO_TO_FRAME_AND_SUBJECT_DF.apply(lambda x: {k:v for k, v in x[\"subject_to_index\"].items()}, axis=1)"
   ]
  },
  {
   "cell_type": "code",
   "execution_count": 29,
   "metadata": {},
   "outputs": [
    {
     "data": {
      "text/plain": [
       "0    {'1.1': 0, '1.2': 1}\n",
       "1    {'1.1': 0, '1.2': 1}\n",
       "2    {'1.1': 0, '1.4': 1}\n",
       "3    {'1.1': 0, '1.4': 1}\n",
       "4    {'1.1': 0, '1.2': 1}\n",
       "5    {'1.1': 0, '1.2': 1}\n",
       "6    {'1.2': 0, '1.4': 1}\n",
       "Name: subject_to_tracks, dtype: object"
      ]
     },
     "execution_count": 29,
     "metadata": {},
     "output_type": "execute_result"
    }
   ],
   "source": [
    "VIDEO_TO_FRAME_AND_SUBJECT_DF[\"subject_to_tracks\"]"
   ]
  },
  {
   "cell_type": "code",
   "execution_count": 30,
   "metadata": {},
   "outputs": [],
   "source": [
    "VIDEO_TO_FRAME_AND_SUBJECT_DF[\"subject_to_tracks\"] = VIDEO_TO_FRAME_AND_SUBJECT_DF.apply(lambda x: {k: x[\"locations\"][:,:,:,v] for k, v in x[\"subject_to_index\"].items()}, axis=1)"
   ]
  },
  {
   "cell_type": "code",
   "execution_count": 31,
   "metadata": {},
   "outputs": [
    {
     "data": {
      "text/plain": [
       "0    {'1.1': [[[416.6953125  348.36172485], [432.06...\n",
       "1    {'1.1': [[[416.6953125  348.36172485], [432.06...\n",
       "2    {'1.1': [[[340.27038574 388.14276123], [324.34...\n",
       "3    {'1.1': [[[340.27038574 388.14276123], [324.34...\n",
       "4    {'1.1': [[[303.96658325 368.13119507], [299.83...\n",
       "5    {'1.1': [[[303.96658325 368.13119507], [299.83...\n",
       "6    {'1.2': [[[359.87313843 259.55477905], [336.01...\n",
       "Name: subject_to_tracks, dtype: object"
      ]
     },
     "execution_count": 31,
     "metadata": {},
     "output_type": "execute_result"
    }
   ],
   "source": [
    "VIDEO_TO_FRAME_AND_SUBJECT_DF[\"subject_to_tracks\"]"
   ]
  },
  {
   "cell_type": "code",
   "execution_count": 32,
   "metadata": {},
   "outputs": [
    {
     "data": {
      "text/html": [
       "<div>\n",
       "<style scoped>\n",
       "    .dataframe tbody tr th:only-of-type {\n",
       "        vertical-align: middle;\n",
       "    }\n",
       "\n",
       "    .dataframe tbody tr th {\n",
       "        vertical-align: top;\n",
       "    }\n",
       "\n",
       "    .dataframe thead th {\n",
       "        text-align: right;\n",
       "    }\n",
       "</style>\n",
       "<table border=\"1\" class=\"dataframe\">\n",
       "  <thead>\n",
       "    <tr style=\"text-align: right;\">\n",
       "      <th></th>\n",
       "      <th>cohort</th>\n",
       "      <th>session_dir</th>\n",
       "      <th>tone_frames</th>\n",
       "      <th>port_entry_frames</th>\n",
       "      <th>video_name</th>\n",
       "      <th>session_path</th>\n",
       "      <th>recording</th>\n",
       "      <th>subject</th>\n",
       "      <th>all_subjects</th>\n",
       "      <th>first_timestamp</th>\n",
       "      <th>...</th>\n",
       "      <th>bla_lfp_trace</th>\n",
       "      <th>lh_lfp_trace</th>\n",
       "      <th>md_lfp_trace</th>\n",
       "      <th>sleap_glob</th>\n",
       "      <th>sleap_path</th>\n",
       "      <th>all_sleap_data</th>\n",
       "      <th>locations</th>\n",
       "      <th>track_names</th>\n",
       "      <th>subject_to_index</th>\n",
       "      <th>subject_to_tracks</th>\n",
       "    </tr>\n",
       "  </thead>\n",
       "  <tbody>\n",
       "    <tr>\n",
       "      <th>0</th>\n",
       "      <td>2</td>\n",
       "      <td>20230617_115521_standard_comp_to_omission_D1_s...</td>\n",
       "      <td>[[1029, 1229], [3425, 3624], [5721, 5920], [75...</td>\n",
       "      <td>[[102, 105], [110, 148], [193, 199], [200, 202...</td>\n",
       "      <td>20230617_115521_standard_comp_to_omission_D1_s...</td>\n",
       "      <td>/scratch/back_up/reward_competition_extention/...</td>\n",
       "      <td>20230617_115521_standard_comp_to_omission_D1_s...</td>\n",
       "      <td>1.1</td>\n",
       "      <td>[1.1, 1.2]</td>\n",
       "      <td>3478533</td>\n",
       "      <td>...</td>\n",
       "      <td>[0.28542638, 0.8104071, 1.2419446, 1.0261759, ...</td>\n",
       "      <td>[0.0040029064, -0.11808574, -0.052037787, 0.17...</td>\n",
       "      <td>[0.103898674, -0.011922799, 0.020439083, 0.136...</td>\n",
       "      <td>[/scratch/back_up/reward_competition_extention...</td>\n",
       "      <td>/scratch/back_up/reward_competition_extention/...</td>\n",
       "      <td>{'locations': [[[[416.6953125  288.3494873    ...</td>\n",
       "      <td>[[[[416.6953125 288.3494873         nan       ...</td>\n",
       "      <td>[1.1, 1.2, track_862, track_863, track_1067, t...</td>\n",
       "      <td>{'1.1': 0, '1.2': 1}</td>\n",
       "      <td>{'1.1': [[[416.6953125  348.36172485], [432.06...</td>\n",
       "    </tr>\n",
       "    <tr>\n",
       "      <th>1</th>\n",
       "      <td>2</td>\n",
       "      <td>20230617_115521_standard_comp_to_omission_D1_s...</td>\n",
       "      <td>[[1029, 1229], [3425, 3624], [5721, 5920], [75...</td>\n",
       "      <td>[[102, 105], [110, 148], [193, 199], [200, 202...</td>\n",
       "      <td>20230617_115521_standard_comp_to_omission_D1_s...</td>\n",
       "      <td>/scratch/back_up/reward_competition_extention/...</td>\n",
       "      <td>20230617_115521_standard_comp_to_omission_D1_s...</td>\n",
       "      <td>1.2</td>\n",
       "      <td>[1.1, 1.2]</td>\n",
       "      <td>3478533</td>\n",
       "      <td>...</td>\n",
       "      <td>[0.57716405, 1.2267566, 1.8559785, 1.9170899, ...</td>\n",
       "      <td>[1.0252244, 1.567814, 1.8645895, 1.6457549, 1....</td>\n",
       "      <td>[0.8103085, 0.9092951, 0.8448387, 0.6675837, 0...</td>\n",
       "      <td>[/scratch/back_up/reward_competition_extention...</td>\n",
       "      <td>/scratch/back_up/reward_competition_extention/...</td>\n",
       "      <td>{'locations': [[[[416.6953125  288.3494873    ...</td>\n",
       "      <td>[[[[416.6953125 288.3494873         nan       ...</td>\n",
       "      <td>[1.1, 1.2, track_862, track_863, track_1067, t...</td>\n",
       "      <td>{'1.1': 0, '1.2': 1}</td>\n",
       "      <td>{'1.1': [[[416.6953125  348.36172485], [432.06...</td>\n",
       "    </tr>\n",
       "    <tr>\n",
       "      <th>2</th>\n",
       "      <td>2</td>\n",
       "      <td>20230618_100636_standard_comp_to_omission_D2_s...</td>\n",
       "      <td>[[1098, 1297], [3492, 3693], [5788, 5988], [75...</td>\n",
       "      <td>[[788, 835], [838, 839], [839, 871], [871, 900...</td>\n",
       "      <td>20230618_100636_standard_comp_to_omission_D2_s...</td>\n",
       "      <td>/scratch/back_up/reward_competition_extention/...</td>\n",
       "      <td>20230618_100636_standard_comp_to_omission_D2_s...</td>\n",
       "      <td>1.1</td>\n",
       "      <td>[1.1, 1.4]</td>\n",
       "      <td>835680</td>\n",
       "      <td>...</td>\n",
       "      <td>[0.18319474, 0.4846334, 0.7660871, 0.85435367,...</td>\n",
       "      <td>[0.33724487, 0.4972933, 0.52396804, 0.39059433...</td>\n",
       "      <td>[0.0032272236, -0.066158086, -0.07422615, 0.05...</td>\n",
       "      <td>[/scratch/back_up/reward_competition_extention...</td>\n",
       "      <td>/scratch/back_up/reward_competition_extention/...</td>\n",
       "      <td>{'locations': [[[[340.27038574 227.90209961   ...</td>\n",
       "      <td>[[[[340.27038574 227.90209961          nan    ...</td>\n",
       "      <td>[1.1, 1.4, track_867, track_868, track_869, tr...</td>\n",
       "      <td>{'1.1': 0, '1.4': 1}</td>\n",
       "      <td>{'1.1': [[[340.27038574 388.14276123], [324.34...</td>\n",
       "    </tr>\n",
       "    <tr>\n",
       "      <th>3</th>\n",
       "      <td>2</td>\n",
       "      <td>20230618_100636_standard_comp_to_omission_D2_s...</td>\n",
       "      <td>[[1098, 1297], [3492, 3693], [5788, 5988], [75...</td>\n",
       "      <td>[[788, 835], [838, 839], [839, 871], [871, 900...</td>\n",
       "      <td>20230618_100636_standard_comp_to_omission_D2_s...</td>\n",
       "      <td>/scratch/back_up/reward_competition_extention/...</td>\n",
       "      <td>20230618_100636_standard_comp_to_omission_D2_s...</td>\n",
       "      <td>1.4</td>\n",
       "      <td>[1.1, 1.4]</td>\n",
       "      <td>835680</td>\n",
       "      <td>...</td>\n",
       "      <td>[-0.14317, -0.52495664, -1.2980746, -1.0435501...</td>\n",
       "      <td>[-0.8462542, -1.1688362, -1.3489795, -1.064101...</td>\n",
       "      <td>[-0.4082438, -0.6508234, -0.85198706, -0.83423...</td>\n",
       "      <td>[/scratch/back_up/reward_competition_extention...</td>\n",
       "      <td>/scratch/back_up/reward_competition_extention/...</td>\n",
       "      <td>{'locations': [[[[340.27038574 227.90209961   ...</td>\n",
       "      <td>[[[[340.27038574 227.90209961          nan    ...</td>\n",
       "      <td>[1.1, 1.4, track_867, track_868, track_869, tr...</td>\n",
       "      <td>{'1.1': 0, '1.4': 1}</td>\n",
       "      <td>{'1.1': [[[340.27038574 388.14276123], [324.34...</td>\n",
       "    </tr>\n",
       "    <tr>\n",
       "      <th>4</th>\n",
       "      <td>2</td>\n",
       "      <td>20230620_114347_standard_comp_to_omission_D4_s...</td>\n",
       "      <td>[[1058, 1265], [3460, 3659], [5756, 5955], [75...</td>\n",
       "      <td>[[6, 29], [32, 40], [168, 183], [197, 218], [3...</td>\n",
       "      <td>20230620_114347_standard_comp_to_omission_D4_s...</td>\n",
       "      <td>/scratch/back_up/reward_competition_extention/...</td>\n",
       "      <td>20230620_114347_standard_comp_to_omission_D4_s...</td>\n",
       "      <td>1.1</td>\n",
       "      <td>[1.1, 1.2]</td>\n",
       "      <td>2502881</td>\n",
       "      <td>...</td>\n",
       "      <td>[-0.1226345, -0.42922074, -0.6099453, -0.56153...</td>\n",
       "      <td>[-0.1610439, -0.28040585, -0.1496761, 0.113678...</td>\n",
       "      <td>[-0.28975692, -0.2704398, 0.02253665, 0.333220...</td>\n",
       "      <td>[/scratch/back_up/reward_competition_extention...</td>\n",
       "      <td>/scratch/back_up/reward_competition_extention/...</td>\n",
       "      <td>{'locations': [[[[303.96658325          nan   ...</td>\n",
       "      <td>[[[[303.96658325          nan          nan    ...</td>\n",
       "      <td>[1.1, 1.2, track_16, track_18, track_40, track...</td>\n",
       "      <td>{'1.1': 0, '1.2': 1}</td>\n",
       "      <td>{'1.1': [[[303.96658325 368.13119507], [299.83...</td>\n",
       "    </tr>\n",
       "  </tbody>\n",
       "</table>\n",
       "<p>5 rows × 27 columns</p>\n",
       "</div>"
      ],
      "text/plain": [
       "   cohort                                        session_dir  \\\n",
       "0       2  20230617_115521_standard_comp_to_omission_D1_s...   \n",
       "1       2  20230617_115521_standard_comp_to_omission_D1_s...   \n",
       "2       2  20230618_100636_standard_comp_to_omission_D2_s...   \n",
       "3       2  20230618_100636_standard_comp_to_omission_D2_s...   \n",
       "4       2  20230620_114347_standard_comp_to_omission_D4_s...   \n",
       "\n",
       "                                         tone_frames  \\\n",
       "0  [[1029, 1229], [3425, 3624], [5721, 5920], [75...   \n",
       "1  [[1029, 1229], [3425, 3624], [5721, 5920], [75...   \n",
       "2  [[1098, 1297], [3492, 3693], [5788, 5988], [75...   \n",
       "3  [[1098, 1297], [3492, 3693], [5788, 5988], [75...   \n",
       "4  [[1058, 1265], [3460, 3659], [5756, 5955], [75...   \n",
       "\n",
       "                                   port_entry_frames  \\\n",
       "0  [[102, 105], [110, 148], [193, 199], [200, 202...   \n",
       "1  [[102, 105], [110, 148], [193, 199], [200, 202...   \n",
       "2  [[788, 835], [838, 839], [839, 871], [871, 900...   \n",
       "3  [[788, 835], [838, 839], [839, 871], [871, 900...   \n",
       "4  [[6, 29], [32, 40], [168, 183], [197, 218], [3...   \n",
       "\n",
       "                                          video_name  \\\n",
       "0  20230617_115521_standard_comp_to_omission_D1_s...   \n",
       "1  20230617_115521_standard_comp_to_omission_D1_s...   \n",
       "2  20230618_100636_standard_comp_to_omission_D2_s...   \n",
       "3  20230618_100636_standard_comp_to_omission_D2_s...   \n",
       "4  20230620_114347_standard_comp_to_omission_D4_s...   \n",
       "\n",
       "                                        session_path  \\\n",
       "0  /scratch/back_up/reward_competition_extention/...   \n",
       "1  /scratch/back_up/reward_competition_extention/...   \n",
       "2  /scratch/back_up/reward_competition_extention/...   \n",
       "3  /scratch/back_up/reward_competition_extention/...   \n",
       "4  /scratch/back_up/reward_competition_extention/...   \n",
       "\n",
       "                                           recording subject all_subjects  \\\n",
       "0  20230617_115521_standard_comp_to_omission_D1_s...     1.1   [1.1, 1.2]   \n",
       "1  20230617_115521_standard_comp_to_omission_D1_s...     1.2   [1.1, 1.2]   \n",
       "2  20230618_100636_standard_comp_to_omission_D2_s...     1.1   [1.1, 1.4]   \n",
       "3  20230618_100636_standard_comp_to_omission_D2_s...     1.4   [1.1, 1.4]   \n",
       "4  20230620_114347_standard_comp_to_omission_D4_s...     1.1   [1.1, 1.2]   \n",
       "\n",
       "   first_timestamp  ...                                      bla_lfp_trace  \\\n",
       "0          3478533  ...  [0.28542638, 0.8104071, 1.2419446, 1.0261759, ...   \n",
       "1          3478533  ...  [0.57716405, 1.2267566, 1.8559785, 1.9170899, ...   \n",
       "2           835680  ...  [0.18319474, 0.4846334, 0.7660871, 0.85435367,...   \n",
       "3           835680  ...  [-0.14317, -0.52495664, -1.2980746, -1.0435501...   \n",
       "4          2502881  ...  [-0.1226345, -0.42922074, -0.6099453, -0.56153...   \n",
       "\n",
       "                                        lh_lfp_trace  \\\n",
       "0  [0.0040029064, -0.11808574, -0.052037787, 0.17...   \n",
       "1  [1.0252244, 1.567814, 1.8645895, 1.6457549, 1....   \n",
       "2  [0.33724487, 0.4972933, 0.52396804, 0.39059433...   \n",
       "3  [-0.8462542, -1.1688362, -1.3489795, -1.064101...   \n",
       "4  [-0.1610439, -0.28040585, -0.1496761, 0.113678...   \n",
       "\n",
       "                                        md_lfp_trace  \\\n",
       "0  [0.103898674, -0.011922799, 0.020439083, 0.136...   \n",
       "1  [0.8103085, 0.9092951, 0.8448387, 0.6675837, 0...   \n",
       "2  [0.0032272236, -0.066158086, -0.07422615, 0.05...   \n",
       "3  [-0.4082438, -0.6508234, -0.85198706, -0.83423...   \n",
       "4  [-0.28975692, -0.2704398, 0.02253665, 0.333220...   \n",
       "\n",
       "                                          sleap_glob  \\\n",
       "0  [/scratch/back_up/reward_competition_extention...   \n",
       "1  [/scratch/back_up/reward_competition_extention...   \n",
       "2  [/scratch/back_up/reward_competition_extention...   \n",
       "3  [/scratch/back_up/reward_competition_extention...   \n",
       "4  [/scratch/back_up/reward_competition_extention...   \n",
       "\n",
       "                                          sleap_path  \\\n",
       "0  /scratch/back_up/reward_competition_extention/...   \n",
       "1  /scratch/back_up/reward_competition_extention/...   \n",
       "2  /scratch/back_up/reward_competition_extention/...   \n",
       "3  /scratch/back_up/reward_competition_extention/...   \n",
       "4  /scratch/back_up/reward_competition_extention/...   \n",
       "\n",
       "                                      all_sleap_data  \\\n",
       "0  {'locations': [[[[416.6953125  288.3494873    ...   \n",
       "1  {'locations': [[[[416.6953125  288.3494873    ...   \n",
       "2  {'locations': [[[[340.27038574 227.90209961   ...   \n",
       "3  {'locations': [[[[340.27038574 227.90209961   ...   \n",
       "4  {'locations': [[[[303.96658325          nan   ...   \n",
       "\n",
       "                                           locations  \\\n",
       "0  [[[[416.6953125 288.3494873         nan       ...   \n",
       "1  [[[[416.6953125 288.3494873         nan       ...   \n",
       "2  [[[[340.27038574 227.90209961          nan    ...   \n",
       "3  [[[[340.27038574 227.90209961          nan    ...   \n",
       "4  [[[[303.96658325          nan          nan    ...   \n",
       "\n",
       "                                         track_names      subject_to_index  \\\n",
       "0  [1.1, 1.2, track_862, track_863, track_1067, t...  {'1.1': 0, '1.2': 1}   \n",
       "1  [1.1, 1.2, track_862, track_863, track_1067, t...  {'1.1': 0, '1.2': 1}   \n",
       "2  [1.1, 1.4, track_867, track_868, track_869, tr...  {'1.1': 0, '1.4': 1}   \n",
       "3  [1.1, 1.4, track_867, track_868, track_869, tr...  {'1.1': 0, '1.4': 1}   \n",
       "4  [1.1, 1.2, track_16, track_18, track_40, track...  {'1.1': 0, '1.2': 1}   \n",
       "\n",
       "                                   subject_to_tracks  \n",
       "0  {'1.1': [[[416.6953125  348.36172485], [432.06...  \n",
       "1  {'1.1': [[[416.6953125  348.36172485], [432.06...  \n",
       "2  {'1.1': [[[340.27038574 388.14276123], [324.34...  \n",
       "3  {'1.1': [[[340.27038574 388.14276123], [324.34...  \n",
       "4  {'1.1': [[[303.96658325 368.13119507], [299.83...  \n",
       "\n",
       "[5 rows x 27 columns]"
      ]
     },
     "execution_count": 32,
     "metadata": {},
     "output_type": "execute_result"
    }
   ],
   "source": [
    "VIDEO_TO_FRAME_AND_SUBJECT_DF.head()"
   ]
  },
  {
   "cell_type": "markdown",
   "metadata": {},
   "source": [
    "## Getting the coordinates of the corners"
   ]
  },
  {
   "cell_type": "code",
   "execution_count": 33,
   "metadata": {},
   "outputs": [
    {
     "data": {
      "text/plain": [
       "'/scratch/back_up/reward_competition_extention/final_proc/id_corrected/20230617_115521_standard_comp_to_omission_D1_subj_1-1_and_1-2/20230617_115521_standard_comp_to_omission_D1_subj_1-1_and_1-2.1.fixed.2_subj.round_1.id_corrected.h5'"
      ]
     },
     "execution_count": 33,
     "metadata": {},
     "output_type": "execute_result"
    }
   ],
   "source": [
    "VIDEO_TO_FRAME_AND_SUBJECT_DF[\"sleap_path\"].iloc[0]"
   ]
  },
  {
   "cell_type": "code",
   "execution_count": 34,
   "metadata": {},
   "outputs": [],
   "source": [
    "# Each corner file is the in the same folder and has the same basename of the pose tracking file \n",
    "# VIDEO_TO_FRAME_AND_SUBJECT_DF[\"corner_path\"] = VIDEO_TO_FRAME_AND_SUBJECT_DF[\"sleap_path\"].apply(lambda x: x.replace(\"1_subj.id_corrected.h5\", \"corner.h5\").replace(\"2_subj.id_corrected.h5\", \"corner.h5\"))\n",
    "VIDEO_TO_FRAME_AND_SUBJECT_DF[\"corner_path\"] = VIDEO_TO_FRAME_AND_SUBJECT_DF[\"sleap_path\"].apply(lambda x: x.replace(\".fixed\", \"\").replace(\"2_subj.id_corrected.h5\", \"corner.h5\"))"
   ]
  },
  {
   "cell_type": "code",
   "execution_count": 35,
   "metadata": {},
   "outputs": [
    {
     "data": {
      "text/plain": [
       "'/scratch/back_up/reward_competition_extention/final_proc/id_corrected/20230617_115521_standard_comp_to_omission_D1_subj_1-1_and_1-2/20230617_115521_standard_comp_to_omission_D1_subj_1-1_and_1-2.1.fixed.2_subj.round_1.id_corrected.h5'"
      ]
     },
     "execution_count": 35,
     "metadata": {},
     "output_type": "execute_result"
    }
   ],
   "source": [
    "VIDEO_TO_FRAME_AND_SUBJECT_DF[\"corner_path\"].iloc[0]"
   ]
  },
  {
   "cell_type": "code",
   "execution_count": 36,
   "metadata": {},
   "outputs": [],
   "source": [
    "# Getting the indexes of each corner location\n",
    "VIDEO_TO_FRAME_AND_SUBJECT_DF[\"corner_parts\"] = VIDEO_TO_FRAME_AND_SUBJECT_DF[\"corner_path\"].apply(lambda x: sleap.process_pose.get_node_names_from_sleap(x))"
   ]
  },
  {
   "cell_type": "code",
   "execution_count": 37,
   "metadata": {},
   "outputs": [
    {
     "data": {
      "text/plain": [
       "0    [left_ear, right_ear, nose, tail_base, thorax,...\n",
       "1    [left_ear, right_ear, nose, tail_base, thorax,...\n",
       "2    [left_ear, right_ear, nose, tail_base, thorax,...\n",
       "3    [left_ear, right_ear, nose, tail_base, thorax,...\n",
       "4    [left_ear, right_ear, nose, tail_base, thorax,...\n",
       "5    [left_ear, right_ear, nose, tail_base, thorax,...\n",
       "6    [left_ear, right_ear, nose, tail_base, thorax,...\n",
       "Name: corner_parts, dtype: object"
      ]
     },
     "execution_count": 37,
     "metadata": {},
     "output_type": "execute_result"
    }
   ],
   "source": [
    "VIDEO_TO_FRAME_AND_SUBJECT_DF[\"corner_parts\"]"
   ]
  },
  {
   "cell_type": "code",
   "execution_count": 38,
   "metadata": {},
   "outputs": [],
   "source": [
    "# Getting the coordinates of all the corners\n",
    "VIDEO_TO_FRAME_AND_SUBJECT_DF[\"corner_to_coordinate\"] = VIDEO_TO_FRAME_AND_SUBJECT_DF[\"corner_path\"].apply(lambda x: sleap.process_pose.get_sleap_tracks_from_h5(x))"
   ]
  },
  {
   "cell_type": "code",
   "execution_count": 39,
   "metadata": {},
   "outputs": [],
   "source": [
    "# Parsing out each corner and creating a dictionary of name to coordinates\n",
    "VIDEO_TO_FRAME_AND_SUBJECT_DF[\"corner_to_coordinate\"] = VIDEO_TO_FRAME_AND_SUBJECT_DF.apply(lambda x: {part: x[\"corner_to_coordinate\"][:,index,:,:] for index, part in enumerate(x[\"corner_parts\"])}, axis=1)"
   ]
  },
  {
   "cell_type": "code",
   "execution_count": 40,
   "metadata": {},
   "outputs": [
    {
     "data": {
      "text/plain": [
       "0    {'left_ear': [[[416.6953125 288.3494873       ...\n",
       "1    {'left_ear': [[[416.6953125 288.3494873       ...\n",
       "2    {'left_ear': [[[340.27038574 227.90209961     ...\n",
       "3    {'left_ear': [[[340.27038574 227.90209961     ...\n",
       "4    {'left_ear': [[[303.96658325          nan     ...\n",
       "5    {'left_ear': [[[303.96658325          nan     ...\n",
       "6    {'left_ear': [[[359.87313843 368.52331543     ...\n",
       "Name: corner_to_coordinate, dtype: object"
      ]
     },
     "execution_count": 40,
     "metadata": {},
     "output_type": "execute_result"
    }
   ],
   "source": [
    "VIDEO_TO_FRAME_AND_SUBJECT_DF[\"corner_to_coordinate\"]"
   ]
  },
  {
   "cell_type": "code",
   "execution_count": 41,
   "metadata": {},
   "outputs": [],
   "source": [
    "# Filtering out all the Nans because there's only one labeled frame\n",
    "VIDEO_TO_FRAME_AND_SUBJECT_DF[\"corner_to_coordinate\"] = VIDEO_TO_FRAME_AND_SUBJECT_DF.apply(lambda x: {k: v[~np.isnan(v)][:2] for k, v in x[\"corner_to_coordinate\"].items()}, axis=1)"
   ]
  },
  {
   "cell_type": "code",
   "execution_count": 44,
   "metadata": {},
   "outputs": [
    {
     "data": {
      "text/plain": [
       "{'left_ear': array([416.6953125, 288.3494873]),\n",
       " 'right_ear': array([432.06130981, 304.15475464]),\n",
       " 'nose': array([312.11138916, 112.08152008]),\n",
       " 'tail_base': array([371.89611816, 252.22731018]),\n",
       " 'thorax': array([404.29327393, 271.4357605 ]),\n",
       " 'forehead': array([427.96170044, 304.15185547])}"
      ]
     },
     "execution_count": 44,
     "metadata": {},
     "output_type": "execute_result"
    }
   ],
   "source": [
    "VIDEO_TO_FRAME_AND_SUBJECT_DF[\"corner_to_coordinate\"].iloc[0]"
   ]
  },
  {
   "cell_type": "markdown",
   "metadata": {},
   "source": [
    "# Getting the distances between corners"
   ]
  },
  {
   "cell_type": "markdown",
   "metadata": {},
   "source": [
    "- Getting the average width and height so that we can convert pixels to cm"
   ]
  },
  {
   "cell_type": "code",
   "execution_count": 43,
   "metadata": {},
   "outputs": [
    {
     "ename": "KeyError",
     "evalue": "'box_bottom_right'",
     "output_type": "error",
     "traceback": [
      "\u001b[0;31m---------------------------------------------------------------------------\u001b[0m",
      "\u001b[0;31mKeyError\u001b[0m                                  Traceback (most recent call last)",
      "\u001b[1;32m/nancy/projects/reward_competition_extention/notebooks/export/02_add_sleap_pose_estimation.ipynb Cell 61\u001b[0m line \u001b[0;36m2\n\u001b[1;32m      <a href='vscode-notebook-cell:/nancy/projects/reward_competition_extention/notebooks/export/02_add_sleap_pose_estimation.ipynb#Y244sZmlsZQ%3D%3D?line=0'>1</a>\u001b[0m \u001b[39m# Using the x-coordinates for the width\u001b[39;00m\n\u001b[0;32m----> <a href='vscode-notebook-cell:/nancy/projects/reward_competition_extention/notebooks/export/02_add_sleap_pose_estimation.ipynb#Y244sZmlsZQ%3D%3D?line=1'>2</a>\u001b[0m VIDEO_TO_FRAME_AND_SUBJECT_DF[\u001b[39m\"\u001b[39m\u001b[39mbottom_width\u001b[39m\u001b[39m\"\u001b[39m] \u001b[39m=\u001b[39m VIDEO_TO_FRAME_AND_SUBJECT_DF[\u001b[39m\"\u001b[39;49m\u001b[39mcorner_to_coordinate\u001b[39;49m\u001b[39m\"\u001b[39;49m]\u001b[39m.\u001b[39;49mapply(\u001b[39mlambda\u001b[39;49;00m x: x[\u001b[39m\"\u001b[39;49m\u001b[39mbox_bottom_right\u001b[39;49m\u001b[39m\"\u001b[39;49m][\u001b[39m0\u001b[39;49m] \u001b[39m-\u001b[39;49m x[\u001b[39m\"\u001b[39;49m\u001b[39mbox_bottom_left\u001b[39;49m\u001b[39m\"\u001b[39;49m][\u001b[39m0\u001b[39;49m])\n\u001b[1;32m      <a href='vscode-notebook-cell:/nancy/projects/reward_competition_extention/notebooks/export/02_add_sleap_pose_estimation.ipynb#Y244sZmlsZQ%3D%3D?line=2'>3</a>\u001b[0m VIDEO_TO_FRAME_AND_SUBJECT_DF[\u001b[39m\"\u001b[39m\u001b[39mtop_width\u001b[39m\u001b[39m\"\u001b[39m] \u001b[39m=\u001b[39m VIDEO_TO_FRAME_AND_SUBJECT_DF[\u001b[39m\"\u001b[39m\u001b[39mcorner_to_coordinate\u001b[39m\u001b[39m\"\u001b[39m]\u001b[39m.\u001b[39mapply(\u001b[39mlambda\u001b[39;00m x: x[\u001b[39m\"\u001b[39m\u001b[39mbox_top_right\u001b[39m\u001b[39m\"\u001b[39m][\u001b[39m0\u001b[39m] \u001b[39m-\u001b[39m x[\u001b[39m\"\u001b[39m\u001b[39mbox_top_left\u001b[39m\u001b[39m\"\u001b[39m][\u001b[39m0\u001b[39m])\n",
      "File \u001b[0;32m~/miniconda3/envs/spike_interface_0_99_0/lib/python3.10/site-packages/pandas/core/series.py:4760\u001b[0m, in \u001b[0;36mSeries.apply\u001b[0;34m(self, func, convert_dtype, args, by_row, **kwargs)\u001b[0m\n\u001b[1;32m   4625\u001b[0m \u001b[39mdef\u001b[39;00m \u001b[39mapply\u001b[39m(\n\u001b[1;32m   4626\u001b[0m     \u001b[39mself\u001b[39m,\n\u001b[1;32m   4627\u001b[0m     func: AggFuncType,\n\u001b[0;32m   (...)\u001b[0m\n\u001b[1;32m   4632\u001b[0m     \u001b[39m*\u001b[39m\u001b[39m*\u001b[39mkwargs,\n\u001b[1;32m   4633\u001b[0m ) \u001b[39m-\u001b[39m\u001b[39m>\u001b[39m DataFrame \u001b[39m|\u001b[39m Series:\n\u001b[1;32m   4634\u001b[0m \u001b[39m    \u001b[39m\u001b[39m\"\"\"\u001b[39;00m\n\u001b[1;32m   4635\u001b[0m \u001b[39m    Invoke function on values of Series.\u001b[39;00m\n\u001b[1;32m   4636\u001b[0m \n\u001b[0;32m   (...)\u001b[0m\n\u001b[1;32m   4751\u001b[0m \u001b[39m    dtype: float64\u001b[39;00m\n\u001b[1;32m   4752\u001b[0m \u001b[39m    \"\"\"\u001b[39;00m\n\u001b[1;32m   4753\u001b[0m     \u001b[39mreturn\u001b[39;00m SeriesApply(\n\u001b[1;32m   4754\u001b[0m         \u001b[39mself\u001b[39;49m,\n\u001b[1;32m   4755\u001b[0m         func,\n\u001b[1;32m   4756\u001b[0m         convert_dtype\u001b[39m=\u001b[39;49mconvert_dtype,\n\u001b[1;32m   4757\u001b[0m         by_row\u001b[39m=\u001b[39;49mby_row,\n\u001b[1;32m   4758\u001b[0m         args\u001b[39m=\u001b[39;49margs,\n\u001b[1;32m   4759\u001b[0m         kwargs\u001b[39m=\u001b[39;49mkwargs,\n\u001b[0;32m-> 4760\u001b[0m     )\u001b[39m.\u001b[39;49mapply()\n",
      "File \u001b[0;32m~/miniconda3/envs/spike_interface_0_99_0/lib/python3.10/site-packages/pandas/core/apply.py:1207\u001b[0m, in \u001b[0;36mSeriesApply.apply\u001b[0;34m(self)\u001b[0m\n\u001b[1;32m   1204\u001b[0m     \u001b[39mreturn\u001b[39;00m \u001b[39mself\u001b[39m\u001b[39m.\u001b[39mapply_compat()\n\u001b[1;32m   1206\u001b[0m \u001b[39m# self.func is Callable\u001b[39;00m\n\u001b[0;32m-> 1207\u001b[0m \u001b[39mreturn\u001b[39;00m \u001b[39mself\u001b[39;49m\u001b[39m.\u001b[39;49mapply_standard()\n",
      "File \u001b[0;32m~/miniconda3/envs/spike_interface_0_99_0/lib/python3.10/site-packages/pandas/core/apply.py:1287\u001b[0m, in \u001b[0;36mSeriesApply.apply_standard\u001b[0;34m(self)\u001b[0m\n\u001b[1;32m   1281\u001b[0m \u001b[39m# row-wise access\u001b[39;00m\n\u001b[1;32m   1282\u001b[0m \u001b[39m# apply doesn't have a `na_action` keyword and for backward compat reasons\u001b[39;00m\n\u001b[1;32m   1283\u001b[0m \u001b[39m# we need to give `na_action=\"ignore\"` for categorical data.\u001b[39;00m\n\u001b[1;32m   1284\u001b[0m \u001b[39m# TODO: remove the `na_action=\"ignore\"` when that default has been changed in\u001b[39;00m\n\u001b[1;32m   1285\u001b[0m \u001b[39m#  Categorical (GH51645).\u001b[39;00m\n\u001b[1;32m   1286\u001b[0m action \u001b[39m=\u001b[39m \u001b[39m\"\u001b[39m\u001b[39mignore\u001b[39m\u001b[39m\"\u001b[39m \u001b[39mif\u001b[39;00m \u001b[39misinstance\u001b[39m(obj\u001b[39m.\u001b[39mdtype, CategoricalDtype) \u001b[39melse\u001b[39;00m \u001b[39mNone\u001b[39;00m\n\u001b[0;32m-> 1287\u001b[0m mapped \u001b[39m=\u001b[39m obj\u001b[39m.\u001b[39;49m_map_values(\n\u001b[1;32m   1288\u001b[0m     mapper\u001b[39m=\u001b[39;49mcurried, na_action\u001b[39m=\u001b[39;49maction, convert\u001b[39m=\u001b[39;49m\u001b[39mself\u001b[39;49m\u001b[39m.\u001b[39;49mconvert_dtype\n\u001b[1;32m   1289\u001b[0m )\n\u001b[1;32m   1291\u001b[0m \u001b[39mif\u001b[39;00m \u001b[39mlen\u001b[39m(mapped) \u001b[39mand\u001b[39;00m \u001b[39misinstance\u001b[39m(mapped[\u001b[39m0\u001b[39m], ABCSeries):\n\u001b[1;32m   1292\u001b[0m     \u001b[39m# GH#43986 Need to do list(mapped) in order to get treated as nested\u001b[39;00m\n\u001b[1;32m   1293\u001b[0m     \u001b[39m#  See also GH#25959 regarding EA support\u001b[39;00m\n\u001b[1;32m   1294\u001b[0m     \u001b[39mreturn\u001b[39;00m obj\u001b[39m.\u001b[39m_constructor_expanddim(\u001b[39mlist\u001b[39m(mapped), index\u001b[39m=\u001b[39mobj\u001b[39m.\u001b[39mindex)\n",
      "File \u001b[0;32m~/miniconda3/envs/spike_interface_0_99_0/lib/python3.10/site-packages/pandas/core/base.py:921\u001b[0m, in \u001b[0;36mIndexOpsMixin._map_values\u001b[0;34m(self, mapper, na_action, convert)\u001b[0m\n\u001b[1;32m    918\u001b[0m \u001b[39mif\u001b[39;00m \u001b[39misinstance\u001b[39m(arr, ExtensionArray):\n\u001b[1;32m    919\u001b[0m     \u001b[39mreturn\u001b[39;00m arr\u001b[39m.\u001b[39mmap(mapper, na_action\u001b[39m=\u001b[39mna_action)\n\u001b[0;32m--> 921\u001b[0m \u001b[39mreturn\u001b[39;00m algorithms\u001b[39m.\u001b[39;49mmap_array(arr, mapper, na_action\u001b[39m=\u001b[39;49mna_action, convert\u001b[39m=\u001b[39;49mconvert)\n",
      "File \u001b[0;32m~/miniconda3/envs/spike_interface_0_99_0/lib/python3.10/site-packages/pandas/core/algorithms.py:1814\u001b[0m, in \u001b[0;36mmap_array\u001b[0;34m(arr, mapper, na_action, convert)\u001b[0m\n\u001b[1;32m   1812\u001b[0m values \u001b[39m=\u001b[39m arr\u001b[39m.\u001b[39mastype(\u001b[39mobject\u001b[39m, copy\u001b[39m=\u001b[39m\u001b[39mFalse\u001b[39;00m)\n\u001b[1;32m   1813\u001b[0m \u001b[39mif\u001b[39;00m na_action \u001b[39mis\u001b[39;00m \u001b[39mNone\u001b[39;00m:\n\u001b[0;32m-> 1814\u001b[0m     \u001b[39mreturn\u001b[39;00m lib\u001b[39m.\u001b[39;49mmap_infer(values, mapper, convert\u001b[39m=\u001b[39;49mconvert)\n\u001b[1;32m   1815\u001b[0m \u001b[39melse\u001b[39;00m:\n\u001b[1;32m   1816\u001b[0m     \u001b[39mreturn\u001b[39;00m lib\u001b[39m.\u001b[39mmap_infer_mask(\n\u001b[1;32m   1817\u001b[0m         values, mapper, mask\u001b[39m=\u001b[39misna(values)\u001b[39m.\u001b[39mview(np\u001b[39m.\u001b[39muint8), convert\u001b[39m=\u001b[39mconvert\n\u001b[1;32m   1818\u001b[0m     )\n",
      "File \u001b[0;32mlib.pyx:2920\u001b[0m, in \u001b[0;36mpandas._libs.lib.map_infer\u001b[0;34m()\u001b[0m\n",
      "\u001b[1;32m/nancy/projects/reward_competition_extention/notebooks/export/02_add_sleap_pose_estimation.ipynb Cell 61\u001b[0m line \u001b[0;36m2\n\u001b[1;32m      <a href='vscode-notebook-cell:/nancy/projects/reward_competition_extention/notebooks/export/02_add_sleap_pose_estimation.ipynb#Y244sZmlsZQ%3D%3D?line=0'>1</a>\u001b[0m \u001b[39m# Using the x-coordinates for the width\u001b[39;00m\n\u001b[0;32m----> <a href='vscode-notebook-cell:/nancy/projects/reward_competition_extention/notebooks/export/02_add_sleap_pose_estimation.ipynb#Y244sZmlsZQ%3D%3D?line=1'>2</a>\u001b[0m VIDEO_TO_FRAME_AND_SUBJECT_DF[\u001b[39m\"\u001b[39m\u001b[39mbottom_width\u001b[39m\u001b[39m\"\u001b[39m] \u001b[39m=\u001b[39m VIDEO_TO_FRAME_AND_SUBJECT_DF[\u001b[39m\"\u001b[39m\u001b[39mcorner_to_coordinate\u001b[39m\u001b[39m\"\u001b[39m]\u001b[39m.\u001b[39mapply(\u001b[39mlambda\u001b[39;00m x: x[\u001b[39m\"\u001b[39;49m\u001b[39mbox_bottom_right\u001b[39;49m\u001b[39m\"\u001b[39;49m][\u001b[39m0\u001b[39m] \u001b[39m-\u001b[39m x[\u001b[39m\"\u001b[39m\u001b[39mbox_bottom_left\u001b[39m\u001b[39m\"\u001b[39m][\u001b[39m0\u001b[39m])\n\u001b[1;32m      <a href='vscode-notebook-cell:/nancy/projects/reward_competition_extention/notebooks/export/02_add_sleap_pose_estimation.ipynb#Y244sZmlsZQ%3D%3D?line=2'>3</a>\u001b[0m VIDEO_TO_FRAME_AND_SUBJECT_DF[\u001b[39m\"\u001b[39m\u001b[39mtop_width\u001b[39m\u001b[39m\"\u001b[39m] \u001b[39m=\u001b[39m VIDEO_TO_FRAME_AND_SUBJECT_DF[\u001b[39m\"\u001b[39m\u001b[39mcorner_to_coordinate\u001b[39m\u001b[39m\"\u001b[39m]\u001b[39m.\u001b[39mapply(\u001b[39mlambda\u001b[39;00m x: x[\u001b[39m\"\u001b[39m\u001b[39mbox_top_right\u001b[39m\u001b[39m\"\u001b[39m][\u001b[39m0\u001b[39m] \u001b[39m-\u001b[39m x[\u001b[39m\"\u001b[39m\u001b[39mbox_top_left\u001b[39m\u001b[39m\"\u001b[39m][\u001b[39m0\u001b[39m])\n",
      "\u001b[0;31mKeyError\u001b[0m: 'box_bottom_right'"
     ]
    }
   ],
   "source": [
    "# Using the x-coordinates for the width\n",
    "VIDEO_TO_FRAME_AND_SUBJECT_DF[\"bottom_width\"] = VIDEO_TO_FRAME_AND_SUBJECT_DF[\"corner_to_coordinate\"].apply(lambda x: x[\"box_bottom_right\"][0] - x[\"box_bottom_left\"][0])\n",
    "VIDEO_TO_FRAME_AND_SUBJECT_DF[\"top_width\"] = VIDEO_TO_FRAME_AND_SUBJECT_DF[\"corner_to_coordinate\"].apply(lambda x: x[\"box_top_right\"][0] - x[\"box_top_left\"][0])\n"
   ]
  },
  {
   "cell_type": "code",
   "execution_count": null,
   "metadata": {},
   "outputs": [],
   "source": [
    "# Using the y-coordinates for the height\n",
    "VIDEO_TO_FRAME_AND_SUBJECT_DF[\"right_height\"] = VIDEO_TO_FRAME_AND_SUBJECT_DF[\"corner_to_coordinate\"].apply(lambda x: x[\"box_bottom_right\"][1] - x[\"box_top_right\"][1])\n",
    "VIDEO_TO_FRAME_AND_SUBJECT_DF[\"left_height\"] = VIDEO_TO_FRAME_AND_SUBJECT_DF[\"corner_to_coordinate\"].apply(lambda x: x[\"box_bottom_left\"][1] - x[\"box_top_left\"][1])\n"
   ]
  },
  {
   "cell_type": "code",
   "execution_count": null,
   "metadata": {},
   "outputs": [],
   "source": [
    "# averaging the width and height by adding both sides and then getting the mean\n",
    "VIDEO_TO_FRAME_AND_SUBJECT_DF[\"average_height\"] = VIDEO_TO_FRAME_AND_SUBJECT_DF.apply(lambda row: (row[\"right_height\"] + row[\"left_height\"])/2, axis=1)\n",
    "VIDEO_TO_FRAME_AND_SUBJECT_DF[\"average_width\"] = VIDEO_TO_FRAME_AND_SUBJECT_DF.apply(lambda row: (row[\"bottom_width\"] + row[\"top_width\"])/2, axis=1)"
   ]
  },
  {
   "cell_type": "markdown",
   "metadata": {},
   "source": [
    "- Getthing the pixel to cm ratio"
   ]
  },
  {
   "cell_type": "code",
   "execution_count": null,
   "metadata": {},
   "outputs": [],
   "source": [
    "VIDEO_TO_FRAME_AND_SUBJECT_DF[\"width_ratio\"] = MED_PC_WIDTH / VIDEO_TO_FRAME_AND_SUBJECT_DF[\"average_width\"]\n",
    "VIDEO_TO_FRAME_AND_SUBJECT_DF[\"height_ratio\"] = MED_PC_HEIGHT / VIDEO_TO_FRAME_AND_SUBJECT_DF[\"average_height\"]"
   ]
  },
  {
   "cell_type": "code",
   "execution_count": null,
   "metadata": {},
   "outputs": [],
   "source": [
    "VIDEO_TO_FRAME_AND_SUBJECT_DF[\"height_ratio\"]"
   ]
  },
  {
   "cell_type": "code",
   "execution_count": null,
   "metadata": {},
   "outputs": [],
   "source": [
    "VIDEO_TO_FRAME_AND_SUBJECT_DF[\"width_ratio\"]"
   ]
  },
  {
   "cell_type": "markdown",
   "metadata": {},
   "source": [
    "## Converting Pixels to cm"
   ]
  },
  {
   "cell_type": "markdown",
   "metadata": {},
   "source": [
    "- Converting the X-dimension"
   ]
  },
  {
   "cell_type": "code",
   "execution_count": null,
   "metadata": {},
   "outputs": [],
   "source": [
    "VIDEO_TO_FRAME_AND_SUBJECT_DF[\"subject_to_tracks\"]"
   ]
  },
  {
   "cell_type": "code",
   "execution_count": null,
   "metadata": {},
   "outputs": [],
   "source": [
    "VIDEO_TO_FRAME_AND_SUBJECT_DF"
   ]
  },
  {
   "cell_type": "code",
   "execution_count": null,
   "metadata": {},
   "outputs": [],
   "source": [
    "VIDEO_TO_FRAME_AND_SUBJECT_DF[\"rescaled_locations\"] = VIDEO_TO_FRAME_AND_SUBJECT_DF.apply(lambda x: {key: sleap.process_pose.fill_missing(sleap.process_pose.rescale_dimension_in_array(value, dimension=0, ratio=x[\"width_ratio\"])) for key, value in x[\"subject_to_tracks\"].items()}, axis=1)"
   ]
  },
  {
   "cell_type": "markdown",
   "metadata": {},
   "source": [
    "- Converting the Y-dimension"
   ]
  },
  {
   "cell_type": "code",
   "execution_count": null,
   "metadata": {},
   "outputs": [],
   "source": [
    "VIDEO_TO_FRAME_AND_SUBJECT_DF[\"rescaled_locations\"] = VIDEO_TO_FRAME_AND_SUBJECT_DF.apply(lambda x: {key: sleap.process_pose.rescale_dimension_in_array(value, dimension=1, ratio=x[\"height_ratio\"]) for key, value in x[\"rescaled_locations\"].items()}, axis=1)"
   ]
  },
  {
   "cell_type": "code",
   "execution_count": null,
   "metadata": {},
   "outputs": [],
   "source": [
    "VIDEO_TO_FRAME_AND_SUBJECT_DF[\"corner_to_coordinate\"]"
   ]
  },
  {
   "cell_type": "code",
   "execution_count": null,
   "metadata": {},
   "outputs": [],
   "source": [
    "VIDEO_TO_FRAME_AND_SUBJECT_DF"
   ]
  },
  {
   "cell_type": "code",
   "execution_count": null,
   "metadata": {},
   "outputs": [],
   "source": [
    "# Normalize dictionary column\n",
    "normalized = pd.json_normalize(VIDEO_TO_FRAME_AND_SUBJECT_DF[\"corner_to_coordinate\"])"
   ]
  },
  {
   "cell_type": "code",
   "execution_count": null,
   "metadata": {},
   "outputs": [],
   "source": [
    "normalized"
   ]
  },
  {
   "cell_type": "code",
   "execution_count": null,
   "metadata": {},
   "outputs": [],
   "source": [
    "\n",
    "\n",
    "# Drop the original column and concat the normalized DataFrame\n",
    "VIDEO_TO_FRAME_AND_SUBJECT_DF = pd.concat([VIDEO_TO_FRAME_AND_SUBJECT_DF.drop([\"corner_to_coordinate\"], axis=1), normalized], axis=1)\n"
   ]
  },
  {
   "cell_type": "code",
   "execution_count": null,
   "metadata": {},
   "outputs": [],
   "source": [
    "VIDEO_TO_FRAME_AND_SUBJECT_DF.head()"
   ]
  },
  {
   "cell_type": "code",
   "execution_count": null,
   "metadata": {},
   "outputs": [],
   "source": [
    "for corner in VIDEO_TO_FRAME_AND_SUBJECT_DF[\"corner_parts\"].iloc[0]:\n",
    "    VIDEO_TO_FRAME_AND_SUBJECT_DF[corner] = VIDEO_TO_FRAME_AND_SUBJECT_DF.apply(lambda x: [x[corner][0]*x[\"width_ratio\"], x[corner][1]*x[\"height_ratio\"]], axis=1)"
   ]
  },
  {
   "cell_type": "code",
   "execution_count": null,
   "metadata": {},
   "outputs": [],
   "source": [
    "VIDEO_TO_FRAME_AND_SUBJECT_DF"
   ]
  },
  {
   "cell_type": "markdown",
   "metadata": {},
   "source": [
    "## Looking over the tracks"
   ]
  },
  {
   "cell_type": "code",
   "execution_count": null,
   "metadata": {},
   "outputs": [],
   "source": [
    "FILE_INDEX = 0"
   ]
  },
  {
   "cell_type": "code",
   "execution_count": null,
   "metadata": {},
   "outputs": [],
   "source": [
    "VIDEO_TO_FRAME_AND_SUBJECT_DF[\"sleap_path\"].iloc[FILE_INDEX]"
   ]
  },
  {
   "cell_type": "code",
   "execution_count": null,
   "metadata": {},
   "outputs": [],
   "source": [
    "VIDEO_TO_FRAME_AND_SUBJECT_DF[\"rescaled_locations\"]"
   ]
  },
  {
   "cell_type": "code",
   "execution_count": null,
   "metadata": {},
   "outputs": [],
   "source": [
    "VIDEO_TO_FRAME_AND_SUBJECT_DF[\"subject\"]"
   ]
  },
  {
   "cell_type": "code",
   "execution_count": null,
   "metadata": {},
   "outputs": [],
   "source": [
    "with h5py.File(VIDEO_TO_FRAME_AND_SUBJECT_DF[\"sleap_path\"].iloc[FILE_INDEX], \"r\") as f:\n",
    "    dset_names = list(f.keys())\n",
    "    current_subject = VIDEO_TO_FRAME_AND_SUBJECT_DF[\"subject\"].iloc[FILE_INDEX]\n",
    "    locations = VIDEO_TO_FRAME_AND_SUBJECT_DF[\"rescaled_locations\"].iloc[FILE_INDEX][current_subject]\n",
    "    node_names = [n.decode() for n in f[\"node_names\"][:]]\n",
    "    \n",
    "print(\"===HDF5 datasets===\")\n",
    "print(dset_names)\n",
    "print()\n",
    "\n",
    "print(\"===locations data shape===\")\n",
    "print(locations.shape)\n",
    "print()\n",
    "\n",
    "print(\"===nodes===\")\n",
    "for i, name in enumerate(node_names):\n",
    "    print(f\"{i}: {name}\")\n",
    "print()"
   ]
  },
  {
   "cell_type": "code",
   "execution_count": null,
   "metadata": {},
   "outputs": [],
   "source": [
    "thorax_loc = locations[:, THORAX_INDEX, :]"
   ]
  },
  {
   "cell_type": "code",
   "execution_count": null,
   "metadata": {},
   "outputs": [],
   "source": [
    "fig, ax = plt.subplots()\n",
    "\n",
    "plt.plot(thorax_loc[:,0],label='X-coordinates')\n",
    "# Converting to negative so that we can see both x and y track\n",
    "plt.plot(-1*thorax_loc[:,1], label='Y-coordinates')\n",
    "\n",
    "plt.legend(loc=\"center right\")\n",
    "plt.title('Thorax locations')\n",
    "plt.xlabel(\"Time in frames\")\n",
    "plt.ylabel(\"Coordinate Position\")"
   ]
  },
  {
   "cell_type": "code",
   "execution_count": null,
   "metadata": {},
   "outputs": [],
   "source": [
    "plt.figure(figsize=(7,7))\n",
    "plt.plot(thorax_loc[:,0],thorax_loc[:,1])\n",
    "\n",
    "\n",
    "plt.title('Thorax tracks')\n",
    "plt.xlabel(\"X-Coordinates\")\n",
    "plt.ylabel(\"Y-Coordinates\")\n"
   ]
  },
  {
   "cell_type": "code",
   "execution_count": null,
   "metadata": {},
   "outputs": [],
   "source": []
  },
  {
   "cell_type": "markdown",
   "metadata": {},
   "source": [
    "## Creating an individual column for each pose tracking"
   ]
  },
  {
   "cell_type": "code",
   "execution_count": null,
   "metadata": {},
   "outputs": [],
   "source": [
    "# VIDEO_TO_FRAME_AND_SUBJECT_DF[\"agent\"] = VIDEO_TO_FRAME_AND_SUBJECT_DF.apply(lambda x: list(set(x[\"all_subjects\"]) - set(x[\"subject\"]))[0], axis=1)\n",
    "\n",
    "VIDEO_TO_FRAME_AND_SUBJECT_DF[\"agent\"] = VIDEO_TO_FRAME_AND_SUBJECT_DF.apply(lambda x: list((set(x[\"all_subjects\"]) - set([x[\"subject\"]])))[0], axis=1)"
   ]
  },
  {
   "cell_type": "code",
   "execution_count": null,
   "metadata": {},
   "outputs": [],
   "source": [
    "VIDEO_TO_FRAME_AND_SUBJECT_DF"
   ]
  },
  {
   "cell_type": "code",
   "execution_count": null,
   "metadata": {},
   "outputs": [],
   "source": [
    "VIDEO_TO_FRAME_AND_SUBJECT_DF[\"subject_locations\"] = VIDEO_TO_FRAME_AND_SUBJECT_DF.apply(lambda x: x[\"rescaled_locations\"][x[\"subject\"]] , axis=1)"
   ]
  },
  {
   "cell_type": "code",
   "execution_count": null,
   "metadata": {},
   "outputs": [],
   "source": [
    "VIDEO_TO_FRAME_AND_SUBJECT_DF[\"agent_locations\"] = VIDEO_TO_FRAME_AND_SUBJECT_DF.apply(lambda x: x[\"rescaled_locations\"][x[\"agent\"]] , axis=1)"
   ]
  },
  {
   "cell_type": "markdown",
   "metadata": {},
   "source": [
    "## Removing unnecessary columns"
   ]
  },
  {
   "cell_type": "code",
   "execution_count": null,
   "metadata": {},
   "outputs": [],
   "source": [
    "VIDEO_TO_FRAME_AND_SUBJECT_DF = VIDEO_TO_FRAME_AND_SUBJECT_DF.drop([\"sleap_glob\", \"subject_to_index\", \"subject_to_tracks\", \"corner_parts\", \"corner_to_coordinate\", \"bottom_width\", \"top_width\", \"right_height\", \"left_height\", \"average_height\", \"average_width\", \"width_ratio\", \"height_ratio\", 'locations', 'current_subject', 'track_names', 'sleap_path', 'corner_path', 'all_sleap_data', 'rescaled_locations'], errors=\"ignore\", axis=1)"
   ]
  },
  {
   "cell_type": "code",
   "execution_count": null,
   "metadata": {},
   "outputs": [],
   "source": [
    "VIDEO_TO_FRAME_AND_SUBJECT_DF.columns"
   ]
  },
  {
   "cell_type": "code",
   "execution_count": null,
   "metadata": {},
   "outputs": [],
   "source": [
    "VIDEO_TO_FRAME_AND_SUBJECT_DF.head()"
   ]
  },
  {
   "cell_type": "code",
   "execution_count": null,
   "metadata": {},
   "outputs": [],
   "source": []
  },
  {
   "cell_type": "markdown",
   "metadata": {},
   "source": [
    "# Adding the start/stop frame information"
   ]
  },
  {
   "cell_type": "code",
   "execution_count": null,
   "metadata": {},
   "outputs": [],
   "source": [
    "START_STOP_FRAME_DF.head()"
   ]
  },
  {
   "cell_type": "markdown",
   "metadata": {},
   "source": [
    "- Getting relevant metadata for each video"
   ]
  },
  {
   "cell_type": "code",
   "execution_count": null,
   "metadata": {},
   "outputs": [],
   "source": [
    "# Getting all the rows that have two subjects\n",
    "START_STOP_FRAME_DF[\"tracked_subject\"] = START_STOP_FRAME_DF[\"tracked_subject\"].apply(lambda x: str(x).split(\"_\"))\n",
    "START_STOP_FRAME_DF = START_STOP_FRAME_DF[START_STOP_FRAME_DF[\"tracked_subject\"].apply(lambda x: len(x) == 2)]"
   ]
  },
  {
   "cell_type": "code",
   "execution_count": null,
   "metadata": {},
   "outputs": [],
   "source": [
    "# Getting the sleap filename from file path\n",
    "START_STOP_FRAME_DF[\"sleap_filename\"] = START_STOP_FRAME_DF[\"file_path\"].apply(lambda x: os.path.basename(x))"
   ]
  },
  {
   "cell_type": "code",
   "execution_count": null,
   "metadata": {},
   "outputs": [],
   "source": [
    "# Getting the sleap fileroot from the sleap filename\n",
    "START_STOP_FRAME_DF[\"sleap_fileroot\"] = START_STOP_FRAME_DF[\"sleap_filename\"].apply(lambda x: \".\".join(x.split(\".\")[0:2]))"
   ]
  },
  {
   "cell_type": "code",
   "execution_count": null,
   "metadata": {},
   "outputs": [],
   "source": [
    "# Combining the start and stop frame columns into a tuple\n",
    "START_STOP_FRAME_DF[\"start_stop_frame\"] = START_STOP_FRAME_DF.apply(lambda x: (int(x[\"start_frame\"]), int(x[\"stop_frame\"])), axis=1)\n",
    "START_STOP_FRAME_DF = START_STOP_FRAME_DF.drop(columns=[\"start_frame\", \"stop_frame\"], errors=\"ignore\")"
   ]
  },
  {
   "cell_type": "markdown",
   "metadata": {},
   "source": [
    "- Merging the dataframes based on shared SLEAP file basename"
   ]
  },
  {
   "cell_type": "code",
   "execution_count": null,
   "metadata": {},
   "outputs": [],
   "source": [
    "VIDEO_TO_FRAME_AND_SUBJECT_DF = pd.merge(left=VIDEO_TO_FRAME_AND_SUBJECT_DF, right=START_STOP_FRAME_DF, left_on=\"video_name\", right_on=\"sleap_fileroot\", how=\"left\")"
   ]
  },
  {
   "cell_type": "markdown",
   "metadata": {},
   "source": [
    "- Converting the start/stop frames into timestamps"
   ]
  },
  {
   "cell_type": "code",
   "execution_count": null,
   "metadata": {},
   "outputs": [],
   "source": [
    "VIDEO_TO_FRAME_AND_SUBJECT_DF[\"start_stop_timestamps\"] = VIDEO_TO_FRAME_AND_SUBJECT_DF.apply(lambda x: (x[\"video_timestamps\"][x[\"start_stop_frame\"][0]], x[\"video_timestamps\"][x[\"start_stop_frame\"][1]]), axis=1)"
   ]
  },
  {
   "cell_type": "markdown",
   "metadata": {},
   "source": [
    "## Going from frame information to ephys"
   ]
  },
  {
   "cell_type": "code",
   "execution_count": null,
   "metadata": {},
   "outputs": [],
   "source": []
  },
  {
   "cell_type": "code",
   "execution_count": null,
   "metadata": {},
   "outputs": [],
   "source": [
    "for trace_col in [col for col in VIDEO_TO_FRAME_AND_SUBJECT_DF.columns if \"lfp_trace\" in col]:\n",
    "    print(trace_col)\n",
    "    brain_region = trace_col.split(\"_\")[0]\n",
    "    VIDEO_TO_FRAME_AND_SUBJECT_DF[\"filtered_{}_trace\".format(brain_region)] = VIDEO_TO_FRAME_AND_SUBJECT_DF.apply(lambda x: utilities.helper.filter_by_timestamp_range(x[\"start_stop_timestamps\"][0], x[\"start_stop_timestamps\"][1], x[\"lfp_timestamps\"], x[trace_col])[1], axis=1)\n",
    "VIDEO_TO_FRAME_AND_SUBJECT_DF[\"filtered_lfp_timestamps\"] = VIDEO_TO_FRAME_AND_SUBJECT_DF.apply(lambda x: utilities.helper.filter_by_timestamp_range(x[\"start_stop_timestamps\"][0], x[\"start_stop_timestamps\"][1], x[\"lfp_timestamps\"], x[\"lfp_timestamps\"])[0], axis=1)"
   ]
  },
  {
   "cell_type": "code",
   "execution_count": null,
   "metadata": {},
   "outputs": [],
   "source": [
    "VIDEO_TO_FRAME_AND_SUBJECT_DF = VIDEO_TO_FRAME_AND_SUBJECT_DF.drop(columns=[col for col in VIDEO_TO_FRAME_AND_SUBJECT_DF.columns if \"lfp_trace\" in col], errors=\"ignore\")\n",
    "VIDEO_TO_FRAME_AND_SUBJECT_DF = VIDEO_TO_FRAME_AND_SUBJECT_DF.drop(columns=[\"lfp_timestamps\"], errors=\"ignore\")"
   ]
  },
  {
   "cell_type": "code",
   "execution_count": null,
   "metadata": {},
   "outputs": [],
   "source": [
    "VIDEO_TO_FRAME_AND_SUBJECT_DF.head()"
   ]
  },
  {
   "cell_type": "code",
   "execution_count": null,
   "metadata": {},
   "outputs": [],
   "source": [
    "VIDEO_TO_FRAME_AND_SUBJECT_DF[\"video_timestamps\"].iloc[0]"
   ]
  },
  {
   "cell_type": "code",
   "execution_count": null,
   "metadata": {},
   "outputs": [],
   "source": [
    "VIDEO_TO_FRAME_AND_SUBJECT_DF[\"video_timestamps\"].apply(lambda x: x.shape)"
   ]
  },
  {
   "cell_type": "code",
   "execution_count": null,
   "metadata": {},
   "outputs": [],
   "source": [
    "VIDEO_TO_FRAME_AND_SUBJECT_DF[\"subject_locations\"].apply(lambda x: x.shape)"
   ]
  },
  {
   "cell_type": "code",
   "execution_count": null,
   "metadata": {},
   "outputs": [],
   "source": [
    "VIDEO_TO_FRAME_AND_SUBJECT_DF[\"recording\"].iloc[5]"
   ]
  },
  {
   "cell_type": "code",
   "execution_count": null,
   "metadata": {},
   "outputs": [],
   "source": [
    "VIDEO_TO_FRAME_AND_SUBJECT_DF[\"filtered_subject_locations\"] = VIDEO_TO_FRAME_AND_SUBJECT_DF.apply(lambda x: utilities.helper.filter_by_timestamp_range(x[\"start_stop_timestamps\"][0], x[\"start_stop_timestamps\"][1], x[\"video_timestamps\"], x[\"subject_locations\"])[1], axis=1)\n",
    "VIDEO_TO_FRAME_AND_SUBJECT_DF[\"filtered_agent_locations\"] = VIDEO_TO_FRAME_AND_SUBJECT_DF.apply(lambda x: utilities.helper.filter_by_timestamp_range(x[\"start_stop_timestamps\"][0], x[\"start_stop_timestamps\"][1], x[\"video_timestamps\"], x[\"agent_locations\"])[1], axis=1)\n",
    "VIDEO_TO_FRAME_AND_SUBJECT_DF[\"filtered_video_timestamps\"] = VIDEO_TO_FRAME_AND_SUBJECT_DF.apply(lambda x: utilities.helper.filter_by_timestamp_range(x[\"start_stop_timestamps\"][0], x[\"start_stop_timestamps\"][1], x[\"video_timestamps\"], x[\"video_timestamps\"])[0], axis=1)"
   ]
  },
  {
   "cell_type": "code",
   "execution_count": null,
   "metadata": {},
   "outputs": [],
   "source": [
    "VIDEO_TO_FRAME_AND_SUBJECT_DF = VIDEO_TO_FRAME_AND_SUBJECT_DF.drop(columns=[\"video_timestamps\", \"subject_locations\", \"agent_locations\"], errors=\"ignore\")"
   ]
  },
  {
   "cell_type": "code",
   "execution_count": null,
   "metadata": {},
   "outputs": [],
   "source": [
    "# Sorting column names for easier reading\n",
    "sorted_columns = sorted(VIDEO_TO_FRAME_AND_SUBJECT_DF.columns, key=lambda x: x.split(\"_\")[-1])"
   ]
  },
  {
   "cell_type": "code",
   "execution_count": null,
   "metadata": {},
   "outputs": [],
   "source": [
    "VIDEO_TO_FRAME_AND_SUBJECT_DF = VIDEO_TO_FRAME_AND_SUBJECT_DF[sorted_columns].copy()"
   ]
  },
  {
   "cell_type": "code",
   "execution_count": null,
   "metadata": {},
   "outputs": [],
   "source": [
    "VIDEO_TO_FRAME_AND_SUBJECT_DF.columns"
   ]
  },
  {
   "cell_type": "code",
   "execution_count": null,
   "metadata": {},
   "outputs": [],
   "source": [
    "VIDEO_TO_FRAME_AND_SUBJECT_DF.to_pickle(os.path.join(OUTPUT_DIR, FULL_LFP_TRACES_PKL))"
   ]
  },
  {
   "cell_type": "code",
   "execution_count": null,
   "metadata": {},
   "outputs": [],
   "source": [
    "raise ValueError()"
   ]
  },
  {
   "cell_type": "code",
   "execution_count": null,
   "metadata": {},
   "outputs": [],
   "source": [
    "VIDEO_TO_FRAME_AND_SUBJECT_DF[\"start_stop_lfp_mask\"] = VIDEO_TO_FRAME_AND_SUBJECT_DF.apply(lambda x: np.logical_and(x[\"lfp_timestamps\"] > x[\"start_stop_timestamps\"][0], x[\"lfp_timestamps\"] < x[\"start_stop_timestamps\"][1]), axis=1)\n",
    "                                                                                           \n"
   ]
  },
  {
   "cell_type": "code",
   "execution_count": null,
   "metadata": {},
   "outputs": [],
   "source": [
    "VIDEO_TO_FRAME_AND_SUBJECT_DF[\"start_stop_lfp_mask\"].iloc[0]"
   ]
  },
  {
   "cell_type": "code",
   "execution_count": null,
   "metadata": {},
   "outputs": [],
   "source": [
    "for trace_col in [col for col in VIDEO_TO_FRAME_AND_SUBJECT_DF.columns if \"lfp_trace\" in col]:\n",
    "    VIDEO_TO_FRAME_AND_SUBJECT_DF[\"\".format(trace_col)] = VIDEO_TO_FRAME_AND_SUBJECT_DF.apply(lambda x: x[trace_col][x[\"start_stop_lfp_mask\"]], axis=1)\"]:\n"
   ]
  },
  {
   "cell_type": "code",
   "execution_count": null,
   "metadata": {},
   "outputs": [],
   "source": [
    "VIDEO_TO_FRAME_AND_SUBJECT_DF[\"start_stop_mpfc_lfp_trace\"].iloc[0].shape"
   ]
  },
  {
   "cell_type": "code",
   "execution_count": null,
   "metadata": {},
   "outputs": [],
   "source": [
    "1617949/1000"
   ]
  },
  {
   "cell_type": "code",
   "execution_count": null,
   "metadata": {},
   "outputs": [],
   "source": [
    "31159889/20000"
   ]
  },
  {
   "cell_type": "markdown",
   "metadata": {},
   "source": [
    "- Using the start and stop of each subject to remove all other frames where the subject(s) are not there"
   ]
  },
  {
   "cell_type": "code",
   "execution_count": null,
   "metadata": {},
   "outputs": [],
   "source": [
    "VIDEO_TO_FRAME_AND_SUBJECT_DF[\"subject_locations\"].iloc[0].shape"
   ]
  },
  {
   "cell_type": "code",
   "execution_count": null,
   "metadata": {},
   "outputs": [],
   "source": [
    "VIDEO_TO_FRAME_AND_SUBJECT_DF[\"video_timestamps\"].iloc[0].shape"
   ]
  },
  {
   "cell_type": "code",
   "execution_count": null,
   "metadata": {},
   "outputs": [],
   "source": [
    "VIDEO_TO_FRAME_AND_SUBJECT_DF.columns"
   ]
  },
  {
   "cell_type": "code",
   "execution_count": null,
   "metadata": {},
   "outputs": [],
   "source": [
    "def find_nearest_timestamp_indices(timestamps, other_timestamps, start_index=0, stop_index=1):\n",
    "    \"\"\"\n",
    "    Converts the start and stop indices of one data stream to timestamps, and then finds the nearest start and stop \n",
    "    timestamps in another data stream.\n",
    "\n",
    "    Parameters:\n",
    "    - timestamps (list[int or float]): The list of timestamps in the first data stream.\n",
    "    - other_timestamps (list[int or float]): The list of timestamps in the other data stream.\n",
    "    - start_index (int, optional): The start index in the first data stream. Defaults to 0.\n",
    "    - stop_index (int, optional): The stop index in the first data stream. Defaults to 1.\n",
    "\n",
    "    Returns:\n",
    "    - tuple: The indices of the nearest start and stop timestamps in the other data stream.\n",
    "    \"\"\"\n",
    "    # Convert start and stop indices to timestamps\n",
    "    start_timestamp = timestamps[start_index]\n",
    "    stop_timestamp = timestamps[stop_index]\n",
    "\n",
    "    # Find nearest start and stop timestamps in other data stream\n",
    "    nearest_start_index = utilities.helper.find_nearest_index(other_timestamps, start_timestamp)\n",
    "    nearest_stop_index = utilities.helper.find_nearest_index(other_timestamps, stop_timestamp) \n",
    "\n",
    "    return nearest_start_index, nearest_stop_index"
   ]
  },
  {
   "cell_type": "code",
   "execution_count": null,
   "metadata": {},
   "outputs": [],
   "source": [
    "convert_index_to_timestamp(0, 100, VIDEO_TO_FRAME_AND_SUBJECT_DF[\"video_timestamps\"].iloc[0], VIDEO_TO_FRAME_AND_SUBJECT_DF[\"lfp_timestamps\"].iloc[0])"
   ]
  },
  {
   "cell_type": "code",
   "execution_count": null,
   "metadata": {},
   "outputs": [],
   "source": []
  },
  {
   "cell_type": "code",
   "execution_count": null,
   "metadata": {},
   "outputs": [],
   "source": [
    "start_frame = VIDEO_TO_FRAME_AND_SUBJECT_DF['port_entry_frames'].iloc[0][0][-1]"
   ]
  },
  {
   "cell_type": "code",
   "execution_count": null,
   "metadata": {},
   "outputs": [],
   "source": [
    "start_frame"
   ]
  },
  {
   "cell_type": "code",
   "execution_count": null,
   "metadata": {},
   "outputs": [],
   "source": [
    "start_timestamp = VIDEO_TO_FRAME_AND_SUBJECT_DF['video_timestamps'].iloc[0][0]"
   ]
  },
  {
   "cell_type": "code",
   "execution_count": null,
   "metadata": {},
   "outputs": [],
   "source": [
    "start_timestamp"
   ]
  },
  {
   "cell_type": "code",
   "execution_count": null,
   "metadata": {},
   "outputs": [],
   "source": [
    "start_lfp = utilities.helper.find_nearest_index(VIDEO_TO_FRAME_AND_SUBJECT_DF[\"lfp_timestamps\"].iloc[0], start_timestamp)"
   ]
  },
  {
   "cell_type": "code",
   "execution_count": null,
   "metadata": {},
   "outputs": [],
   "source": [
    "start_lfp"
   ]
  },
  {
   "cell_type": "code",
   "execution_count": null,
   "metadata": {},
   "outputs": [],
   "source": [
    "VIDEO_TO_FRAME_AND_SUBJECT_DF[\"lfp_timestamps\"].iloc[0][start_lfp]"
   ]
  },
  {
   "cell_type": "code",
   "execution_count": null,
   "metadata": {},
   "outputs": [],
   "source": [
    "VIDEO_TO_FRAME_AND_SUBJECT_DF[\"bla_lfp_trace\"].iloc[0].shape"
   ]
  },
  {
   "cell_type": "code",
   "execution_count": null,
   "metadata": {},
   "outputs": [],
   "source": []
  }
 ],
 "metadata": {
  "deepnote": {},
  "deepnote_execution_queue": [],
  "deepnote_notebook_id": "cf8fe3695d074ee7887fdf6459cbf5ce",
  "kernelspec": {
   "display_name": "Python 3 (ipykernel)",
   "language": "python",
   "name": "python3"
  },
  "language_info": {
   "codemirror_mode": {
    "name": "ipython",
    "version": 3
   },
   "file_extension": ".py",
   "mimetype": "text/x-python",
   "name": "python",
   "nbconvert_exporter": "python",
   "pygments_lexer": "ipython3",
   "version": "3.10.13"
  }
 },
 "nbformat": 4,
 "nbformat_minor": 4
}
