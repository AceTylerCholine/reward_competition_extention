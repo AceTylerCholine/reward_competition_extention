{
 "cells": [
  {
   "cell_type": "markdown",
   "metadata": {
    "cell_id": "c3a02adc9e884466bc8c79db549cc3d2",
    "deepnote_cell_type": "text-cell-h1",
    "formattedRanges": [
     {
      "fromCodePoint": 0,
      "marks": {
       "bold": true,
       "underline": true
      },
      "toCodePoint": 17,
      "type": "marks"
     }
    ]
   },
   "source": [
    "# Time Stamp Extract"
   ]
  },
  {
   "cell_type": "markdown",
   "metadata": {
    "cell_id": "4546bee655b14a5dbf393161f1228e60",
    "deepnote_cell_type": "text-cell-p",
    "formattedRanges": []
   },
   "source": [
    "Brief 1-2 sentence description of notebook."
   ]
  },
  {
   "cell_type": "markdown",
   "metadata": {},
   "source": [
    "TODO: Supplement the description\n",
    "- Notebook that extracts the timestamps and gets the time that tones played"
   ]
  },
  {
   "cell_type": "code",
   "execution_count": 309,
   "metadata": {},
   "outputs": [],
   "source": [
    "# Imports of all used packages and libraries\n",
    "import sys\n",
    "import os\n",
    "import git\n",
    "import glob\n",
    "from collections import defaultdict"
   ]
  },
  {
   "cell_type": "code",
   "execution_count": 310,
   "metadata": {},
   "outputs": [],
   "source": [
    "git_repo = git.Repo(\".\", search_parent_directories=True)\n",
    "git_root = git_repo.git.rev_parse(\"--show-toplevel\")"
   ]
  },
  {
   "cell_type": "code",
   "execution_count": 311,
   "metadata": {},
   "outputs": [
    {
     "data": {
      "text/plain": [
       "'/nancy/projects/reward_competition_extention'"
      ]
     },
     "execution_count": 311,
     "metadata": {},
     "output_type": "execute_result"
    }
   ],
   "source": [
    "git_root"
   ]
  },
  {
   "cell_type": "code",
   "execution_count": 312,
   "metadata": {},
   "outputs": [],
   "source": [
    "sys.path.insert(0, os.path.join(git_root, 'src'))"
   ]
  },
  {
   "cell_type": "code",
   "execution_count": 313,
   "metadata": {},
   "outputs": [],
   "source": [
    "# Imports of all used packages and libraries\n",
    "import glob\n",
    "import numpy as np\n",
    "import pandas as pd\n",
    "import matplotlib.pyplot as plt"
   ]
  },
  {
   "cell_type": "code",
   "execution_count": 314,
   "metadata": {},
   "outputs": [],
   "source": [
    "import spikeinterface.extractors as se\n",
    "import spikeinterface.preprocessing as sp"
   ]
  },
  {
   "cell_type": "code",
   "execution_count": 315,
   "metadata": {},
   "outputs": [],
   "source": [
    "import utilities.helper\n",
    "import trodes.read_exported"
   ]
  },
  {
   "cell_type": "markdown",
   "metadata": {
    "cell_id": "d290bac2c17940bfbc0f9296beaf70e5",
    "deepnote_cell_type": "text-cell-h2",
    "formattedRanges": []
   },
   "source": [
    "## Inputs & Data"
   ]
  },
  {
   "cell_type": "markdown",
   "metadata": {
    "cell_id": "e528ce19c608425292151930d380f49f",
    "deepnote_cell_type": "text-cell-p",
    "formattedRanges": []
   },
   "source": [
    "- Explanation of each input and where it comes from."
   ]
  },
  {
   "cell_type": "markdown",
   "metadata": {},
   "source": [
    "Inputs and Required data loading\n",
    "- input variable names are in all caps snake case\n",
    "- Whenever an input changes or is used for processing \n",
    "- The variables are all lower in snake case"
   ]
  },
  {
   "cell_type": "code",
   "execution_count": 316,
   "metadata": {
    "cell_id": "6cf83a5811054461a718a71673d09aab",
    "deepnote_cell_type": "code",
    "deepnote_to_be_reexecuted": false,
    "execution_millis": 373,
    "execution_start": 1691424003628,
    "source_hash": null
   },
   "outputs": [],
   "source": [
    "# Path of the directory that contains the Spike Gadgets recording and the exported timestamp files\n",
    "# Exported with this tool https://docs.spikegadgets.com/en/latest/basic/ExportFunctions.html\n",
    "# Export these files:\n",
    "    # -raw – Continuous raw band export.\n",
    "    # -dio – Digital IO channel state change export.\n",
    "    # -analogio – Continuous analog IO export.\n",
    "INPUT_DIR = \"/scratch/back_up/reward_competition_extention/data\"\n",
    "OUTPUT_DIR = r\"./proc\" # where data is saved should always be shown in the inputs\n",
    "TONE_DIN = \"dio_ECU_Din1\"\n",
    "TONE_STATE = 1\n",
    "os.makedirs(OUTPUT_DIR, exist_ok=True)\n",
    "OUTPUT_PREFIX = \"pilot2\""
   ]
  },
  {
   "cell_type": "code",
   "execution_count": 317,
   "metadata": {},
   "outputs": [],
   "source": [
    "# TODO: Find way not to hard code this\n",
    "ALL_SESSION_DIR = glob.glob(\"/scratch/back_up/reward_competition_extention/data/omission/2023_06_18/*.rec\")\n"
   ]
  },
  {
   "cell_type": "code",
   "execution_count": 318,
   "metadata": {},
   "outputs": [
    {
     "data": {
      "text/plain": [
       "['/scratch/back_up/reward_competition_extention/data/omission/2023_06_18/20230618_100636_standard_comp_to_omission_D2_subj_1-4_and_1-1.rec']"
      ]
     },
     "execution_count": 318,
     "metadata": {},
     "output_type": "execute_result"
    }
   ],
   "source": [
    "ALL_SESSION_DIR"
   ]
  },
  {
   "cell_type": "markdown",
   "metadata": {
    "cell_id": "e3ee4891d43a4ac287413afc552ca289",
    "deepnote_cell_type": "text-cell-h2",
    "formattedRanges": []
   },
   "source": [
    "## Outputs"
   ]
  },
  {
   "cell_type": "markdown",
   "metadata": {
    "cell_id": "9ccbf6cc70fd4d379fa29317f733771f",
    "deepnote_cell_type": "text-cell-p",
    "formattedRanges": []
   },
   "source": [
    "Describe each output that the notebook creates. "
   ]
  },
  {
   "cell_type": "markdown",
   "metadata": {
    "cell_id": "fc8e8920a6944918a15fac575cdf6e78",
    "deepnote_cell_type": "text-cell-bullet",
    "formattedRanges": []
   },
   "source": [
    "- Is it a plot or is it data?"
   ]
  },
  {
   "cell_type": "markdown",
   "metadata": {
    "cell_id": "1e639d4776a84aa9ac8ded2e14fa57db",
    "deepnote_cell_type": "text-cell-bullet",
    "formattedRanges": []
   },
   "source": [
    "- How valuable is the output and why is it valuable or useful?"
   ]
  },
  {
   "cell_type": "markdown",
   "metadata": {},
   "source": [
    "## Other documentation"
   ]
  },
  {
   "cell_type": "markdown",
   "metadata": {},
   "source": [
    "raw directory\n",
    "- raw_group0.dat\n",
    "    - voltage_value: Array with voltage measurement for each channel at each timestamp\n",
    "- timestamps.dat\n",
    "    - voltage_time_stamp: The time stamp of each voltage measurement\n",
    "\n",
    "parent directory\n",
    "- 1.videoTimeStamps.cameraHWSync\n",
    "    - frame_number: Calculated by getting the index of each video time stamp tuple \n",
    "    - PosTimestamp: The time stamp of each video frame\n",
    "    - HWframeCount: Unknown value. Starts at 30742 and increases by 1 for each tuple  \n",
    "    - HWTimestamp: Unknown value. All zeroes\n",
    "    - video_time: Calculated by dividing the frame number by the fps(frames per second) \n",
    "    - video_seconds: video_time, but rounded to seconds  \t\n",
    "    - These are filled in versions of the above collumns with the value from the most recent previous cell\n",
    "        - filled_PosTimestamp \t\n",
    "        - filledHWframeCount \t\n",
    "        - filled_frame_number \t\n",
    "        - filled_video_time \t\n",
    "        - filled_video_seconds \t\n",
    "\n",
    "DIO directory\n",
    "- dio_ECU_Din1.dat\n",
    "    - time: The time stamp the corresponds to the DIN input\n",
    "    - state: Binary state of whether there is input from DIN or not \t\n",
    "    - trial_number: Calculated by adding 1 to every time there is a DIN input\n",
    "    - These are filled in versions of the above collumns with the value from the most recent previous cell\n",
    "        - filled_state \t\n",
    "        - filled_trial_number\n",
    "\n",
    "ss_output directory (Spike sorting with Spike interface)\n",
    "- firings.npz\n",
    "    - unit_id: All the units that had a spike train for the given timestamp \t\n",
    "    - number_of_units: Calculated by counting the number of units that had a spike train"
   ]
  },
  {
   "cell_type": "markdown",
   "metadata": {},
   "source": [
    "## Functions"
   ]
  },
  {
   "cell_type": "markdown",
   "metadata": {},
   "source": [
    "- function names are short and in snake case all lowercase\n",
    "- a function name should be unique but does not have to describe the function\n",
    "- doc strings describe functions not function names"
   ]
  },
  {
   "cell_type": "code",
   "execution_count": 319,
   "metadata": {},
   "outputs": [],
   "source": [
    "def recursive_dictionary():\n",
    "    return defaultdict(recursive_dictionary)"
   ]
  },
  {
   "cell_type": "code",
   "execution_count": null,
   "metadata": {},
   "outputs": [],
   "source": []
  },
  {
   "cell_type": "markdown",
   "metadata": {
    "cell_id": "8999d19b6b7d4d63bc90f0b0bd9ab085",
    "deepnote_cell_type": "text-cell-h2",
    "formattedRanges": []
   },
   "source": [
    "## Processing"
   ]
  },
  {
   "cell_type": "markdown",
   "metadata": {
    "cell_id": "9b36cdf08567463082b005cb0dec684b",
    "deepnote_cell_type": "text-cell-p",
    "formattedRanges": []
   },
   "source": [
    "Describe what is done to the data here and how inputs are manipulated to generate outputs. "
   ]
  },
  {
   "cell_type": "code",
   "execution_count": 320,
   "metadata": {
    "cell_id": "89aaba237c644628b1b37604b75e7cb1",
    "deepnote_cell_type": "code"
   },
   "outputs": [],
   "source": [
    "# As much code and as many cells as required\n",
    "# includes EDA and playing with data\n",
    "# GO HAM!"
   ]
  },
  {
   "cell_type": "markdown",
   "metadata": {},
   "source": [
    "# LOOP 1: Extracting all the Trodes"
   ]
  },
  {
   "cell_type": "markdown",
   "metadata": {},
   "source": [
    "- Getting all the data from all the exported Trodes files"
   ]
  },
  {
   "cell_type": "markdown",
   "metadata": {},
   "source": [
    "- Getting all the data from all the exported Trodes files and saving it to `session_to_trodes_data`\n",
    "    - Creates a dictionary with the structure of:\n",
    "        - `{dir_name: {file_name: metadata, file_name_2: metadata_2}, dir_name_2: {file_name_3: metadata_3, file_name_4: metadata_4}}`"
   ]
  },
  {
   "cell_type": "code",
   "execution_count": 321,
   "metadata": {},
   "outputs": [
    {
     "data": {
      "text/plain": [
       "defaultdict(<function __main__.rec_dd()>, {})"
      ]
     },
     "execution_count": 321,
     "metadata": {},
     "output_type": "execute_result"
    }
   ],
   "source": [
    "def rec_dd():\n",
    "    return defaultdict(rec_dd)\n",
    "\n",
    "x = rec_dd()\n",
    "x['a']['b']['c']['d']"
   ]
  },
  {
   "cell_type": "code",
   "execution_count": 322,
   "metadata": {},
   "outputs": [
    {
     "data": {
      "text/plain": [
       "defaultdict(<function __main__.rec_dd()>,\n",
       "            {'a': defaultdict(<function __main__.rec_dd()>,\n",
       "                         {'b': defaultdict(<function __main__.rec_dd()>,\n",
       "                                      {'c': defaultdict(<function __main__.rec_dd()>,\n",
       "                                                   {'d': defaultdict(<function __main__.rec_dd()>,\n",
       "                                                                {})})})})})"
      ]
     },
     "execution_count": 322,
     "metadata": {},
     "output_type": "execute_result"
    }
   ],
   "source": [
    "x"
   ]
  },
  {
   "cell_type": "code",
   "execution_count": 323,
   "metadata": {
    "scrolled": true
   },
   "outputs": [
    {
     "name": "stdout",
     "output_type": "stream",
     "text": [
      "Current Session: 20230618_100636_standard_comp_to_omission_D2_subj_1-4_and_1-1\n"
     ]
    },
    {
     "name": "stderr",
     "output_type": "stream",
     "text": [
      "/nancy/projects/reward_competition_extention/src/trodes/read_exported.py:62: FutureWarning: Passing (type, 1) or '1type' as a synonym of type is deprecated; in a future version of numpy, it will be understood as (type, (1,)) / '(1,)type'.\n",
      "  return np.dtype(dtype_spec)\n"
     ]
    },
    {
     "name": "stdout",
     "output_type": "stream",
     "text": [
      "Skipping file 20230618_100636_standard_comp_to_omission_D2_subj_1_4_t4b3L_box1_merged.timestampoffset.txt due to error: Settings format not supported\n"
     ]
    },
    {
     "ename": "",
     "evalue": "",
     "output_type": "error",
     "traceback": [
      "\u001b[1;31mThe Kernel crashed while executing code in the the current cell or a previous cell. Please review the code in the cell(s) to identify a possible cause of the failure. Click <a href='https://aka.ms/vscodeJupyterKernelCrash'>here</a> for more info. View Jupyter <a href='command:jupyter.viewOutput'>log</a> for further details."
     ]
    }
   ],
   "source": [
    "# Saving the trodes data for each session\n",
    "# Each key is a session name\n",
    "# Each value is a dictionary of every recording file in that session\n",
    "session_to_trodes_data = recursive_dictionary()\n",
    "\n",
    "\n",
    "# Saving the path of the session recording\n",
    "session_to_path = {}\n",
    "\n",
    "# Going through each session recording\n",
    "# Which includes all the recordings from all the miniloggers and cameras\n",
    "for session_path in ALL_SESSION_DIR:   \n",
    "    try:\n",
    "        # Getting the name of the session from the path\n",
    "        session_basename = os.path.splitext(os.path.basename(session_path))[0]\n",
    "        print(\"Current Session: {}\".format(session_basename))\n",
    "        # Reading the trodes data for every recording file in the session directory\n",
    "        session_to_trodes_data[session_basename] = trodes.read_exported.organize_all_trodes_export(session_path)\n",
    "        \n",
    "        session_to_path[session_basename] = session_path\n",
    "    except Exception as e: \n",
    "        print(e)\n"
   ]
  },
  {
   "cell_type": "code",
   "execution_count": null,
   "metadata": {},
   "outputs": [],
   "source": [
    "session_to_trodes_data"
   ]
  },
  {
   "cell_type": "markdown",
   "metadata": {},
   "source": [
    "- Adding the video timestamps"
   ]
  },
  {
   "cell_type": "code",
   "execution_count": null,
   "metadata": {},
   "outputs": [],
   "source": [
    "for session_path in ALL_SESSION_DIR:   \n",
    "    try:\n",
    "        session_basename = os.path.splitext(os.path.basename(session_path))[0]\n",
    "        print(\"Current Session: {}\".format(session_basename))\n",
    "        file_to_video_timestamps = {}\n",
    "        for video_timestamps in glob.glob(os.path.join(session_path, \"*cameraHWSync\")):\n",
    "            video_basename = os.path.basename(video_timestamps)\n",
    "            print(\"Current Video Name: {}\".format(video_basename))\n",
    "            timestamp_array = trodes.read_exported.read_trodes_extracted_data_file(video_timestamps)\n",
    "            session_to_trodes_data[session_basename][session_basename][\"video_timestamps\"] = defaultdict(dict)\n",
    "            session_to_trodes_data[session_basename][session_basename][\"video_timestamps\"][video_basename.split(\".\")[-3]] = timestamp_array\n",
    "    \n",
    "    \n",
    "    except Exception as e: \n",
    "        print(e)"
   ]
  },
  {
   "cell_type": "markdown",
   "metadata": {},
   "source": [
    "- Creating a dataframe the dictionary with a column for:\n",
    "  - Session directory\n",
    "  - Recording name\n",
    "  - Metadata directory\n",
    "  - Metadata file\n",
    "  - And a column for each metadata"
   ]
  },
  {
   "cell_type": "code",
   "execution_count": null,
   "metadata": {},
   "outputs": [],
   "source": [
    "# Creating a dataframe from the nested dictionary\n",
    "trodes_metadata_df = pd.DataFrame.from_dict({(i,j,k,l): session_to_trodes_data[i][j][k][l] \n",
    "                           for i in session_to_trodes_data.keys() \n",
    "                           for j in session_to_trodes_data[i].keys()\n",
    "                           for k in session_to_trodes_data[i][j].keys()\n",
    "                           for l in session_to_trodes_data[i][j][k].keys()},\n",
    "                           orient='index')\n",
    "\n",
    "# Resetting the index and renaming the columns\n",
    "trodes_metadata_df = trodes_metadata_df.reset_index()\n",
    "trodes_metadata_df = trodes_metadata_df.rename(columns={'level_0': 'session_dir', 'level_1': 'recording', 'level_2': 'metadata_dir', 'level_3': 'metadata_file'}, errors=\"ignore\")\n",
    "\n",
    "# Adding the session path to the dataframe\n",
    "trodes_metadata_df[\"session_path\"] = trodes_metadata_df[\"session_dir\"].map(session_to_path)"
   ]
  },
  {
   "cell_type": "code",
   "execution_count": null,
   "metadata": {},
   "outputs": [],
   "source": [
    "trodes_metadata_df.head()"
   ]
  },
  {
   "cell_type": "code",
   "execution_count": null,
   "metadata": {},
   "outputs": [],
   "source": [
    "trodes_metadata_df.tail()"
   ]
  },
  {
   "cell_type": "markdown",
   "metadata": {},
   "source": [
    "- Getting the first item from each tuple in the arrays in the `data` column\n",
    "  - This first item is usually just the timestamp"
   ]
  },
  {
   "cell_type": "code",
   "execution_count": null,
   "metadata": {},
   "outputs": [],
   "source": [
    "trodes_metadata_df[\"data\"].iloc[0]"
   ]
  },
  {
   "cell_type": "code",
   "execution_count": null,
   "metadata": {},
   "outputs": [],
   "source": [
    "# Getting the dtype name of each column in the numpy array\n",
    "trodes_metadata_df[\"first_dtype_name\"] = trodes_metadata_df[\"data\"].apply(lambda x: x.dtype.names[0])\n",
    "# Getting the first item of each column in the numpy array\n",
    "trodes_metadata_df[\"first_item_data\"] = trodes_metadata_df[\"data\"].apply(lambda x: x[x.dtype.names[0]])\n"
   ]
  },
  {
   "cell_type": "code",
   "execution_count": null,
   "metadata": {},
   "outputs": [],
   "source": [
    "# Same as above but for the last column\n",
    "trodes_metadata_df[\"last_dtype_name\"] = trodes_metadata_df[\"data\"].apply(lambda x: x.dtype.names[-1])\n",
    "trodes_metadata_df[\"last_item_data\"] = trodes_metadata_df[\"data\"].apply(lambda x: x[x.dtype.names[-1]])"
   ]
  },
  {
   "cell_type": "code",
   "execution_count": null,
   "metadata": {},
   "outputs": [],
   "source": [
    "trodes_metadata_df.head()"
   ]
  },
  {
   "cell_type": "code",
   "execution_count": null,
   "metadata": {},
   "outputs": [],
   "source": [
    "trodes_metadata_df.tail()"
   ]
  },
  {
   "cell_type": "markdown",
   "metadata": {},
   "source": []
  },
  {
   "cell_type": "code",
   "execution_count": null,
   "metadata": {},
   "outputs": [],
   "source": [
    "raise ValueError(\"Stop here\")"
   ]
  },
  {
   "cell_type": "markdown",
   "metadata": {},
   "source": [
    "# Code Draft"
   ]
  },
  {
   "cell_type": "markdown",
   "metadata": {},
   "source": [
    "Things to do:\n",
    "- Get these into Numpy arrays\n",
    "    - ephys timestamps\n",
    "        - ephys index\n",
    "    - din states timestamps\n",
    "        - din state index\n",
    "    - videoframe ephys timestamps\n",
    "        - video frame index\n",
    "- Sync everything up and make it easy to connect between everything"
   ]
  },
  {
   "cell_type": "markdown",
   "metadata": {},
   "source": [
    "- Chatgpt recommendation\n",
    "\n",
    "```\n",
    "Storing and cross-referencing timestamps from multiple different data streams in a way that facilitates easy analysis and manipulation can be efficiently achieved using pandas DataFrames in Python. Pandas is a powerful data manipulation library that provides various functionalities for handling time series data. Here's a conventional approach to organize and cross-reference timestamps:\n",
    "\n",
    "    Use a Pandas DataFrame:\n",
    "        Create a DataFrame for each data stream with timestamps as one of the columns.\n",
    "        Ensure timestamps are in a consistent format across all DataFrames. It's recommended to use the ISO 8601 format (YYYY-MM-DD HH:MM:SS) or Unix time format.\n",
    "\n",
    "    Standardize Timestamps:\n",
    "        Convert all timestamps to a common timezone if they are from different timezones.\n",
    "        Use pandas to convert timestamps to datetime objects for easier manipulation: pd.to_datetime(df['timestamp']).\n",
    "\n",
    "    Indexing by Timestamps:\n",
    "        Set the timestamp column as the index for each DataFrame: df.set_index('timestamp', inplace=True). This allows for efficient slicing and dicing of the data based on time.\n",
    "\n",
    "    Synchronize Timestamps:\n",
    "        If your data streams have timestamps at different intervals, you may need to synchronize them.\n",
    "        Resample or interpolate data to a common time frequency if needed: df.resample('1T').mean() resamples data to a 1-minute interval.\n",
    "\n",
    "    Merge or Join DataFrames:\n",
    "        Use pandas functions like merge or join to combine multiple DataFrames based on timestamps.\n",
    "        You can perform inner, outer, left, or right joins depending on how you want to handle timestamps that don't match across DataFrames.\n",
    "\n",
    "    Handling Missing Data:\n",
    "        If there are missing timestamps in one stream relative to another, decide how to handle them (e.g., fill forward, interpolate, or leave as NaN).\n",
    "\n",
    "    Querying and Analysis:\n",
    "        With timestamps as indices, you can easily query specific time ranges, compute time-based aggregates, or perform time-series analyses.\n",
    "\n",
    "    Storing DataFrames:\n",
    "        Save your synchronized DataFrames to a file for future use. You can use formats like CSV, Excel, or HDF5, but for large time-series data, HDF5 or Parquet are more efficient.\n",
    "\n",
    "Example code snippet:\n",
    "```"
   ]
  },
  {
   "cell_type": "markdown",
   "metadata": {},
   "source": [
    "# LOOP 3 Adding the video timestamps"
   ]
  },
  {
   "cell_type": "code",
   "execution_count": null,
   "metadata": {},
   "outputs": [],
   "source": [
    "session_to_din_state_df.keys()"
   ]
  },
  {
   "cell_type": "code",
   "execution_count": null,
   "metadata": {},
   "outputs": [],
   "source": [
    "session_to_din_with_frames_df = {}\n",
    "for session_path in ALL_SESSION_DIR:   \n",
    "    try:\n",
    "        session_basename = os.path.splitext(os.path.basename(session_path))[0]\n",
    "        print(\"Current Session: {}\".format(session_basename))\n",
    "        file_to_video_timestamps = {}\n",
    "        for video_timestamps in glob.glob(os.path.join(session_path, \"*cameraHWSync\")):\n",
    "            video_basename = os.path.basename(video_timestamps)\n",
    "            print(\"Current Video Name: {}\".format(video_basename))\n",
    "            timestamp_array = trodes.read_exported.read_trodes_extracted_data_file(video_timestamps)[\"data\"][\"PosTimestamp\"]\n",
    "    except Exception as e: \n",
    "        print(e)\n",
    "\"\"\"            \n",
    "            \n",
    "            \n",
    "            \n",
    "            file_to_video_timestamps[video_basename] = timestamp_array\n",
    "            session_to_din_state_df[session_basename][os.path.basename(video_timestamps)] = session_to_din_state_df[session_basename][\"time\"].apply(lambda x: utilities.helper.find_closest_index(sorted_list=timestamp_array, target=x))        \n",
    "        \n",
    "        # Find the maximum length of the arrays in the dictionary\n",
    "        max_length = max(map(len, file_to_video_timestamps.values()))\n",
    "        \n",
    "        # Pad each array with NaN values to make them all the same length\n",
    "        padded_data = {k: np.pad(v, (0, max_length - len(v)), mode='constant', constant_values=np.nan) for k, v in file_to_video_timestamps.items()}\n",
    "        \n",
    "        # Convert the padded data to a dataframe\n",
    "        session_to_din_with_frames_df[session_basename] = pd.DataFrame(padded_data)\n",
    "        # session_to_din_with_frames_df[session_basename].to_csv(os.path.join(OUTPUT_DIR, \"{}.frame_to_timestamps.csv\".format(session_basename)))\n",
    "    except Exception as e: \n",
    "        print(e)\n",
    "\"\"\""
   ]
  },
  {
   "cell_type": "code",
   "execution_count": null,
   "metadata": {},
   "outputs": [],
   "source": [
    "trodes.read_exported.read_trodes_extracted_data_file(video_timestamps)"
   ]
  },
  {
   "cell_type": "code",
   "execution_count": null,
   "metadata": {},
   "outputs": [],
   "source": [
    "timestamp_array\n"
   ]
  },
  {
   "cell_type": "code",
   "execution_count": null,
   "metadata": {
    "scrolled": true
   },
   "outputs": [],
   "source": [
    "raise ValueError(\"Stop here\")\n",
    "session_to_din_with_frames_df = {}\n",
    "for session_path in ALL_SESSION_DIR:   \n",
    "    try:\n",
    "        session_basename = os.path.splitext(os.path.basename(session_path))[0]\n",
    "        print(\"Current Session: {}\".format(session_basename))\n",
    "        file_to_video_timestamps = {}\n",
    "        for video_timestamps in glob.glob(os.path.join(session_path, \"*cameraHWSync\")):\n",
    "            video_basename = os.path.basename(video_timestamps)\n",
    "            print(\"Current Video Name: {}\".format(video_basename))\n",
    "            timestamp_array = trodes.read_exported.read_trodes_extracted_data_file(video_timestamps)[\"data\"][\"PosTimestamp\"]\n",
    "            file_to_video_timestamps[video_basename] = timestamp_array\n",
    "            session_to_din_state_df[session_basename][os.path.basename(video_timestamps)] = session_to_din_state_df[session_basename][\"time\"].apply(lambda x: utilities.helper.find_closest_index(sorted_list=timestamp_array, target=x))        \n",
    "        \n",
    "        # Find the maximum length of the arrays in the dictionary\n",
    "        max_length = max(map(len, file_to_video_timestamps.values()))\n",
    "        \n",
    "        # Pad each array with NaN values to make them all the same length\n",
    "        padded_data = {k: np.pad(v, (0, max_length - len(v)), mode='constant', constant_values=np.nan) for k, v in file_to_video_timestamps.items()}\n",
    "        \n",
    "        # Convert the padded data to a dataframe\n",
    "        session_to_din_with_frames_df[session_basename] = pd.DataFrame(padded_data)\n",
    "        # session_to_din_with_frames_df[session_basename].to_csv(os.path.join(OUTPUT_DIR, \"{}.frame_to_timestamps.csv\".format(session_basename)))\n",
    "    except Exception as e: \n",
    "        print(e)"
   ]
  },
  {
   "cell_type": "code",
   "execution_count": null,
   "metadata": {},
   "outputs": [],
   "source": [
    "session_to_din_with_frames_df"
   ]
  },
  {
   "cell_type": "code",
   "execution_count": null,
   "metadata": {},
   "outputs": [],
   "source": [
    "session_to_din_state_df"
   ]
  },
  {
   "cell_type": "code",
   "execution_count": null,
   "metadata": {},
   "outputs": [],
   "source": [
    "raise ValueError(\"Stop here\")"
   ]
  },
  {
   "cell_type": "markdown",
   "metadata": {},
   "source": [
    "# LOOP 4: Combining the video columns"
   ]
  },
  {
   "cell_type": "code",
   "execution_count": null,
   "metadata": {},
   "outputs": [],
   "source": [
    "session_to_tone_stamp_df = {}\n",
    "for session, timestamps_df in session_to_din_state_df.items():\n",
    "    current_timestamps_df = timestamps_df[(timestamps_df[\"din\"] == TONE_DIN) & (timestamps_df[\"state\"] == TONE_STATE)].reset_index(drop=True)\n",
    "    camera_col = [col for col in current_timestamps_df.columns if \"cameraHWSync\" in col]\n",
    "    id_col = [col for col in current_timestamps_df.columns if \"cameraHWSync\" not in col]\n",
    "    \n",
    "    current_timestamps_df = current_timestamps_df.melt(id_vars=id_col, value_vars=camera_col, var_name='video_file', value_name='video_frame')\n",
    "    current_timestamps_df[\"video_number\"] = current_timestamps_df[\"video_file\"].apply(lambda x: x.strip(\"videoTimeStamps.cameraHWSync\").split(\".\")[-1])\n",
    "    current_timestamps_df[\"subject_info\"] = current_timestamps_df[\"recording_file\"].apply(lambda x: x.split(\"subj\")[-1].strip(\"merged\").strip(\"_\"))\n",
    "    current_timestamps_df[\"condition\"] = np.nan\n",
    "    session_to_tone_stamp_df[session]  = current_timestamps_df"
   ]
  },
  {
   "cell_type": "code",
   "execution_count": null,
   "metadata": {},
   "outputs": [],
   "source": [
    "session_to_tone_stamp_df[session]"
   ]
  },
  {
   "cell_type": "code",
   "execution_count": null,
   "metadata": {},
   "outputs": [],
   "source": [
    "concatenated_tone_stamp_df = pd.concat(session_to_tone_stamp_df.values()).reset_index(drop=True)"
   ]
  },
  {
   "cell_type": "code",
   "execution_count": null,
   "metadata": {},
   "outputs": [],
   "source": [
    "concatenated_tone_stamp_df.head()"
   ]
  },
  {
   "cell_type": "code",
   "execution_count": null,
   "metadata": {},
   "outputs": [],
   "source": [
    "concatenated_tone_stamp_df.to_csv(os.path.join(OUTPUT_DIR, \"{}_tone_timestamp.csv\".format(OUTPUT_PREFIX)))"
   ]
  },
  {
   "cell_type": "code",
   "execution_count": null,
   "metadata": {},
   "outputs": [],
   "source": [
    "concatted_all_recording_din_state_df"
   ]
  },
  {
   "cell_type": "markdown",
   "metadata": {},
   "source": [
    "# Saving the video timestamps"
   ]
  },
  {
   "cell_type": "code",
   "execution_count": null,
   "metadata": {},
   "outputs": [],
   "source": [
    "for session_path in ALL_SESSION_DIR:   \n",
    "    try:\n",
    "        session_basename = os.path.splitext(os.path.basename(session_path))[0]\n",
    "        print(\"Current Session: {}\".format(session_basename))\n",
    "        file_to_video_timestamps = {}\n",
    "        for video_timestamps in glob.glob(os.path.join(session_path, \"*cameraHWSync\")):\n",
    "            video_basename = os.path.basename(video_timestamps)\n",
    "            print(\"Current Video Name: {}\".format(video_basename))\n",
    "            timestamp_array = trodes.read_exported.read_trodes_extracted_data_file(video_timestamps)[\"data\"][\"PosTimestamp\"]\n",
    "            file_to_video_timestamps[video_basename] = timestamp_array\n",
    "            session_to_din_state_df[session_basename][os.path.basename(video_timestamps)] = session_to_din_state_df[session_basename][\"time\"].apply(lambda x: find_closest_index(sorted_list=timestamp_array, target=x))        \n",
    "        \n",
    "        # Find the maximum length of the arrays in the dictionary\n",
    "        max_length = max(map(len, file_to_video_timestamps.values()))\n",
    "        \n",
    "        # Pad each array with NaN values to make them all the same length\n",
    "        padded_data = {k: np.pad(v, (0, max_length - len(v)), mode='constant', constant_values=np.nan) for k, v in file_to_video_timestamps.items()}\n",
    "        \n",
    "        # Convert the padded data to a dataframe\n",
    "        session_to_din_with_frames_df[session_basename] = pd.DataFrame(padded_data)\n",
    "        session_to_din_with_frames_df[session_basename].to_csv(os.path.join(OUTPUT_DIR, \"{}.frame_to_timestamps.csv\".format(session_basename)))\n",
    "    except Exception as e: \n",
    "        print(e)"
   ]
  },
  {
   "cell_type": "code",
   "execution_count": null,
   "metadata": {},
   "outputs": [],
   "source": [
    "video_to_timestamp = {}\n",
    "for session_path in ALL_SESSION_DIR:   \n",
    "    try:\n",
    "        session_basename = os.path.splitext(os.path.basename(session_path))[0]\n",
    "        print(\"Current Session: {}\".format(session_basename))\n",
    "        file_to_video_timestamps = {}\n",
    "        for video_timestamps in glob.glob(os.path.join(session_path, \"*cameraHWSync\")):\n",
    "            video_basename = os.path.basename(video_timestamps)\n",
    "            print(\"Current Video Name: {}\".format(video_basename))\n",
    "            timestamp_array = trodes.read_exported.read_trodes_extracted_data_file(video_timestamps)[\"data\"][\"PosTimestamp\"]\n",
    "            print(video_basename)\n",
    "            print(timestamp_array)\n",
    "            video_to_timestamp[video_basename] = timestamp_array\n",
    "            continue\n",
    "            file_to_video_timestamps[video_basename] = timestamp_array\n",
    "            session_to_din_state_df[session_basename][os.path.basename(video_timestamps)] = session_to_din_state_df[session_basename][\"time\"].apply(lambda x: find_closest_index(sorted_list=timestamp_array, target=x))\n",
    "            break\n",
    "        continue\n",
    "        # Find the maximum length of the arrays in the dictionary\n",
    "        max_length = max(map(len, file_to_video_timestamps.values()))\n",
    "        \n",
    "        # Pad each array with NaN values to make them all the same length\n",
    "        padded_data = {k: np.pad(v, (0, max_length - len(v)), mode='constant', constant_values=np.nan) for k, v in file_to_video_timestamps.items()}\n",
    "        \n",
    "        # Convert the padded data to a dataframe\n",
    "        session_to_din_with_frames_df[session_basename] = pd.DataFrame(padded_data)\n",
    "        session_to_din_with_frames_df[session_basename].to_csv(os.path.join(OUTPUT_DIR, \"{}.frame_to_timestamps.csv\".format(session_basename)))\n",
    "    except Exception as e: \n",
    "        print(e)"
   ]
  },
  {
   "cell_type": "code",
   "execution_count": null,
   "metadata": {},
   "outputs": [],
   "source": [
    "session_to_din_with_frames_df[list(session_to_din_with_frames_df.keys())[0]]"
   ]
  },
  {
   "cell_type": "markdown",
   "metadata": {},
   "source": [
    "# OLD CODE"
   ]
  },
  {
   "cell_type": "code",
   "execution_count": null,
   "metadata": {},
   "outputs": [],
   "source": [
    "raise ValueError(\"Stop here\")"
   ]
  },
  {
   "cell_type": "markdown",
   "metadata": {},
   "source": [
    "- Structure of the dictionary"
   ]
  },
  {
   "cell_type": "code",
   "execution_count": null,
   "metadata": {},
   "outputs": [],
   "source": [
    "session_to_trodes_data.keys()"
   ]
  },
  {
   "cell_type": "code",
   "execution_count": null,
   "metadata": {},
   "outputs": [],
   "source": [
    "example_file_name_keys = session_to_trodes_data[list(session_to_trodes_data.keys())[0]].keys()"
   ]
  },
  {
   "cell_type": "code",
   "execution_count": null,
   "metadata": {},
   "outputs": [],
   "source": [
    "example_file_name_keys"
   ]
  },
  {
   "cell_type": "markdown",
   "metadata": {},
   "source": [
    "- All the metadata for one file"
   ]
  },
  {
   "cell_type": "code",
   "execution_count": null,
   "metadata": {},
   "outputs": [],
   "source": [
    "session_to_trodes_data[list(session_to_trodes_data.keys())[0]][list(example_file_name_keys)[0]]"
   ]
  },
  {
   "cell_type": "code",
   "execution_count": null,
   "metadata": {},
   "outputs": [],
   "source": [
    "session_to_trodes_data"
   ]
  },
  {
   "cell_type": "code",
   "execution_count": null,
   "metadata": {},
   "outputs": [],
   "source": []
  },
  {
   "cell_type": "markdown",
   "metadata": {},
   "source": [
    "# LOOP 2: Extracting the timestamps for the raw ephys recording"
   ]
  },
  {
   "cell_type": "markdown",
   "metadata": {},
   "source": [
    "- Getting the timestamps for all samples in the recording"
   ]
  },
  {
   "cell_type": "code",
   "execution_count": null,
   "metadata": {},
   "outputs": [],
   "source": [
    "session_to_din_state_df = {}\n",
    "# Iterating through each recording session\n",
    "for session, file_to_data in session_to_trodes_data.items():\n",
    "    \n",
    "    all_recording_din_state_df = []\n",
    "\n",
    "\n",
    "    \n",
    "    for recording_name, subdir_dict in file_to_data.items():\n",
    "        print(recording_name)\n",
    "        current_recording_din_state_df = []\n",
    "\n",
    "        try:\n",
    "            voltage_timestamp_array = file_to_data[recording_name][\"raw\"][\"timestamps\"][\"data\"]\n",
    "            for key, value in file_to_data[recording_name][\"DIO\"].items():\n",
    "                if \"in\" in key:\n",
    "                    print(key)\n",
    "                    din_state_array = file_to_data[recording_name][\"DIO\"][key][\"data\"]\n",
    "                    current_din_state_df = pd.DataFrame(din_state_array)\n",
    "                    current_din_state_df[\"recording_path\"] = session_to_path[session]\n",
    "                    current_din_state_df[\"recording_dir\"] = session\n",
    "                    current_din_state_df[\"recording_file\"] = recording_name\n",
    "                    current_din_state_df[\"din\"] = key\n",
    "                    current_recording_din_state_df.append(current_din_state_df)\n",
    "                    plt.plot([tup[0] for tup in din_state_array], [tup[1] for tup in din_state_array])\n",
    "                    plt.xlabel(\"Timestamp\")\n",
    "                    plt.ylabel(\"State\")\n",
    "                    plt.title(\"Din State Change against Timestamps for{} in\\n{}\".format(key, recording_name))\n",
    "                    plt.show()\n",
    "                    plt.close()\n",
    "            concatted_per_recording_din_state_df = pd.concat(current_recording_din_state_df).sort_values(by=[\"recording_file\", \"din\"]).reset_index(drop=True)\n",
    "            concatted_per_recording_din_state_df[\"time_stamp_index\"] = concatted_per_recording_din_state_df[\"time\"] - voltage_timestamp_array[0][0]\n",
    "            all_recording_din_state_df.append(concatted_per_recording_din_state_df)\n",
    "        except Exception as e: \n",
    "            print(e)\n",
    "    concatted_all_recording_din_state_df = pd.concat(all_recording_din_state_df)\n",
    "    session_to_din_state_df[session] = concatted_all_recording_din_state_df"
   ]
  },
  {
   "cell_type": "code",
   "execution_count": null,
   "metadata": {},
   "outputs": [],
   "source": [
    "all_recording_din_state_df"
   ]
  },
  {
   "cell_type": "markdown",
   "metadata": {},
   "source": [
    "# LOOP 2: Extracting the timestamps for ECU Events"
   ]
  },
  {
   "cell_type": "code",
   "execution_count": null,
   "metadata": {},
   "outputs": [],
   "source": [
    "session_to_din_state_df = {}\n",
    "for session, file_to_data in session_to_trodes_data.items():\n",
    "    all_recording_din_state_df = []\n",
    "    for recording_name, subdir_dict in file_to_data.items():\n",
    "        print(recording_name)\n",
    "        current_recording_din_state_df = []\n",
    "\n",
    "        try:\n",
    "            voltage_timestamp_array = file_to_data[recording_name][\"raw\"][\"timestamps\"][\"data\"]\n",
    "            for key, value in file_to_data[recording_name][\"DIO\"].items():\n",
    "                if \"in\" in key:\n",
    "                    print(key)\n",
    "                    din_state_array = file_to_data[recording_name][\"DIO\"][key][\"data\"]\n",
    "                    current_din_state_df = pd.DataFrame(din_state_array)\n",
    "                    current_din_state_df[\"recording_path\"] = session_to_path[session]\n",
    "                    current_din_state_df[\"recording_dir\"] = session\n",
    "                    current_din_state_df[\"recording_file\"] = recording_name\n",
    "                    current_din_state_df[\"din\"] = key\n",
    "                    current_recording_din_state_df.append(current_din_state_df)\n",
    "                    plt.plot([tup[0] for tup in din_state_array], [tup[1] for tup in din_state_array])\n",
    "                    plt.xlabel(\"Timestamp\")\n",
    "                    plt.ylabel(\"State\")\n",
    "                    plt.title(\"Din State Change against Timestamps for{} in\\n{}\".format(key, recording_name))\n",
    "                    plt.show()\n",
    "                    plt.close()\n",
    "            concatted_per_recording_din_state_df = pd.concat(current_recording_din_state_df).sort_values(by=[\"recording_file\", \"din\"]).reset_index(drop=True)\n",
    "            concatted_per_recording_din_state_df[\"time_stamp_index\"] = concatted_per_recording_din_state_df[\"time\"] - voltage_timestamp_array[0][0]\n",
    "            all_recording_din_state_df.append(concatted_per_recording_din_state_df)\n",
    "        except Exception as e: \n",
    "            print(e)\n",
    "    concatted_all_recording_din_state_df = pd.concat(all_recording_din_state_df)\n",
    "    session_to_din_state_df[session] = concatted_all_recording_din_state_df"
   ]
  },
  {
   "cell_type": "code",
   "execution_count": null,
   "metadata": {},
   "outputs": [],
   "source": [
    "voltage_timestamp_array[\"time\"][::20].shape\n"
   ]
  },
  {
   "cell_type": "code",
   "execution_count": null,
   "metadata": {},
   "outputs": [],
   "source": [
    "raise ValueError(\"Stop here\")"
   ]
  }
 ],
 "metadata": {
  "deepnote": {},
  "deepnote_execution_queue": [],
  "deepnote_notebook_id": "cf8fe3695d074ee7887fdf6459cbf5ce",
  "kernelspec": {
   "display_name": "Python 3 (ipykernel)",
   "language": "python",
   "name": "python3"
  },
  "language_info": {
   "codemirror_mode": {
    "name": "ipython",
    "version": 3
   },
   "file_extension": ".py",
   "mimetype": "text/x-python",
   "name": "python",
   "nbconvert_exporter": "python",
   "pygments_lexer": "ipython3",
   "version": "3.10.13"
  }
 },
 "nbformat": 4,
 "nbformat_minor": 4
}
