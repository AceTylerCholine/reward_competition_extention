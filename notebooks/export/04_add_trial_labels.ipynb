{
 "cells": [
  {
   "cell_type": "markdown",
   "metadata": {
    "cell_id": "c3a02adc9e884466bc8c79db549cc3d2",
    "deepnote_cell_type": "text-cell-h1",
    "formattedRanges": [
     {
      "fromCodePoint": 0,
      "marks": {
       "bold": true,
       "underline": true
      },
      "toCodePoint": 17,
      "type": "marks"
     }
    ]
   },
   "source": [
    "# Spike Train Calculation"
   ]
  },
  {
   "cell_type": "markdown",
   "metadata": {
    "cell_id": "4546bee655b14a5dbf393161f1228e60",
    "deepnote_cell_type": "text-cell-p",
    "formattedRanges": []
   },
   "source": [
    "Brief 1-2 sentence description of notebook."
   ]
  },
  {
   "cell_type": "code",
   "execution_count": 1,
   "metadata": {},
   "outputs": [],
   "source": [
    "import os\n",
    "import glob\n",
    "import git\n",
    "import sys\n"
   ]
  },
  {
   "cell_type": "code",
   "execution_count": 2,
   "metadata": {
    "cell_id": "03b495cefa6a4798a44c7f2e4c6a3ea7",
    "deepnote_cell_type": "code",
    "deepnote_to_be_reexecuted": false,
    "execution_millis": 21,
    "execution_start": 1691424003626,
    "source_hash": null
   },
   "outputs": [],
   "source": [
    "# Imports of all used packages and libraries\n",
    "import numpy as np\n",
    "import pandas as pd\n",
    "# import seaborn as sns\n",
    "import matplotlib as mpl\n",
    "import matplotlib.pyplot as plt\n",
    "import h5py\n",
    "from scipy.interpolate import interp1d\n",
    "from scipy.signal import savgol_filter\n"
   ]
  },
  {
   "cell_type": "code",
   "execution_count": 3,
   "metadata": {},
   "outputs": [],
   "source": [
    "git_repo = git.Repo(\".\", search_parent_directories=True)\n",
    "git_root = git_repo.git.rev_parse(\"--show-toplevel\")"
   ]
  },
  {
   "cell_type": "code",
   "execution_count": 4,
   "metadata": {},
   "outputs": [
    {
     "data": {
      "text/plain": [
       "'/nancy/projects/reward_competition_extention'"
      ]
     },
     "execution_count": 4,
     "metadata": {},
     "output_type": "execute_result"
    }
   ],
   "source": [
    "git_root"
   ]
  },
  {
   "cell_type": "code",
   "execution_count": 5,
   "metadata": {},
   "outputs": [],
   "source": [
    "sys.path.insert(0, os.path.join(git_root, 'src'))"
   ]
  },
  {
   "cell_type": "code",
   "execution_count": 6,
   "metadata": {},
   "outputs": [],
   "source": [
    "# sns.set('notebook', 'ticks', font_scale=1.2)\n",
    "mpl.rcParams['figure.figsize'] = [15,6]"
   ]
  },
  {
   "cell_type": "markdown",
   "metadata": {},
   "source": [
    "## Functions"
   ]
  },
  {
   "cell_type": "code",
   "execution_count": null,
   "metadata": {},
   "outputs": [],
   "source": []
  },
  {
   "cell_type": "markdown",
   "metadata": {
    "cell_id": "d290bac2c17940bfbc0f9296beaf70e5",
    "deepnote_cell_type": "text-cell-h2",
    "formattedRanges": []
   },
   "source": [
    "## Inputs & Data"
   ]
  },
  {
   "cell_type": "markdown",
   "metadata": {
    "cell_id": "e528ce19c608425292151930d380f49f",
    "deepnote_cell_type": "text-cell-p",
    "formattedRanges": []
   },
   "source": [
    "Explanation of each input and where it comes from."
   ]
  },
  {
   "cell_type": "code",
   "execution_count": 7,
   "metadata": {
    "cell_id": "6cf83a5811054461a718a71673d09aab",
    "deepnote_cell_type": "code",
    "deepnote_to_be_reexecuted": false,
    "execution_millis": 373,
    "execution_start": 1691424003628,
    "source_hash": null
   },
   "outputs": [],
   "source": [
    "# Inputs and Required data loading\n",
    "# input varaible names are in all caps snake case\n",
    "# Whenever an input changes or is used for processing \n",
    "# the vairables are all lower in snake case\n",
    "\n",
    "VIDEO_TO_FRAME_AND_SUBJECT_DF = pd.read_pickle(os.path.join(git_root, \"notebooks/export/proc/rce_pilot_2_lfp_traces_sleap_spikes.pkl\"))\n",
    "\n",
    "OUTPUT_DIR = r\"./proc\" # where data is saved should always be shown in the inputs\n",
    "\n"
   ]
  },
  {
   "cell_type": "code",
   "execution_count": 8,
   "metadata": {},
   "outputs": [],
   "source": [
    "TRIAL_LABELS_DF = pd.read_excel(\"./rce_per_trial_labeling.xlsx\")\n",
    "TRIAL_LABELS_DF = TRIAL_LABELS_DF.rename(columns={col: col.strip().lower() for col in TRIAL_LABELS_DF.columns})\n",
    "TRIAL_LABELS_DF = TRIAL_LABELS_DF.dropna(subset=[\"condition\"])\n",
    "TRIAL_LABELS_DF[\"time_stamp_index\"] = TRIAL_LABELS_DF[\"time_stamp_index\"].astype(np.int64)\n"
   ]
  },
  {
   "cell_type": "markdown",
   "metadata": {
    "cell_id": "e3ee4891d43a4ac287413afc552ca289",
    "deepnote_cell_type": "text-cell-h2",
    "formattedRanges": []
   },
   "source": [
    "## Outputs"
   ]
  },
  {
   "cell_type": "markdown",
   "metadata": {
    "cell_id": "9ccbf6cc70fd4d379fa29317f733771f",
    "deepnote_cell_type": "text-cell-p",
    "formattedRanges": []
   },
   "source": [
    "Describe each output that the notebook creates. "
   ]
  },
  {
   "cell_type": "markdown",
   "metadata": {
    "cell_id": "fc8e8920a6944918a15fac575cdf6e78",
    "deepnote_cell_type": "text-cell-bullet",
    "formattedRanges": []
   },
   "source": [
    "- Is it a plot or is it data?"
   ]
  },
  {
   "cell_type": "markdown",
   "metadata": {
    "cell_id": "1e639d4776a84aa9ac8ded2e14fa57db",
    "deepnote_cell_type": "text-cell-bullet",
    "formattedRanges": []
   },
   "source": [
    "- How valuable is the output and why is it valuable or useful?"
   ]
  },
  {
   "cell_type": "code",
   "execution_count": 9,
   "metadata": {},
   "outputs": [],
   "source": [
    "# Inputs and Required data loading\n",
    "# input varaible names are in all caps snake case\n",
    "# Whenever an input changes or is used for processing \n",
    "# the vairables are all lower in snake case\n",
    "OUTPUT_DIR = r\"./proc/\" # where data is saved should always be shown in the inputs\n",
    "os.makedirs(OUTPUT_DIR, exist_ok=True)\n",
    "OUTPUT_PREFIX = \"rce_pilot_2\""
   ]
  },
  {
   "cell_type": "code",
   "execution_count": 10,
   "metadata": {},
   "outputs": [],
   "source": [
    "FULL_LFP_TRACES_PKL = \"{}_lfp_traces_sleap_spikes.pkl\".format(OUTPUT_PREFIX)"
   ]
  },
  {
   "cell_type": "markdown",
   "metadata": {
    "cell_id": "8999d19b6b7d4d63bc90f0b0bd9ab085",
    "deepnote_cell_type": "text-cell-h2",
    "formattedRanges": []
   },
   "source": [
    "## Processing"
   ]
  },
  {
   "cell_type": "markdown",
   "metadata": {
    "cell_id": "9b36cdf08567463082b005cb0dec684b",
    "deepnote_cell_type": "text-cell-p",
    "formattedRanges": []
   },
   "source": [
    "Describe what is done to the data here and how inputs are manipulated to generate outputs. "
   ]
  },
  {
   "cell_type": "code",
   "execution_count": 11,
   "metadata": {},
   "outputs": [
    {
     "data": {
      "text/html": [
       "<div>\n",
       "<style scoped>\n",
       "    .dataframe tbody tr th:only-of-type {\n",
       "        vertical-align: middle;\n",
       "    }\n",
       "\n",
       "    .dataframe tbody tr th {\n",
       "        vertical-align: top;\n",
       "    }\n",
       "\n",
       "    .dataframe thead th {\n",
       "        text-align: right;\n",
       "    }\n",
       "</style>\n",
       "<table border=\"1\" class=\"dataframe\">\n",
       "  <thead>\n",
       "    <tr style=\"text-align: right;\">\n",
       "      <th></th>\n",
       "      <th>unnamed: 0</th>\n",
       "      <th>recording_file</th>\n",
       "      <th>video_file</th>\n",
       "      <th>time_stamp_index</th>\n",
       "      <th>video_frame</th>\n",
       "      <th>reward_frame</th>\n",
       "      <th>condition</th>\n",
       "      <th>competition_closeness</th>\n",
       "      <th>notes</th>\n",
       "      <th>time</th>\n",
       "      <th>subject_info</th>\n",
       "      <th>din</th>\n",
       "      <th>state</th>\n",
       "      <th>session_dir</th>\n",
       "      <th>video_number</th>\n",
       "    </tr>\n",
       "  </thead>\n",
       "  <tbody>\n",
       "    <tr>\n",
       "      <th>84</th>\n",
       "      <td>2402.0</td>\n",
       "      <td>20221202_134600_omission_and_competition_subje...</td>\n",
       "      <td>20221202_134600_omission_and_competition_subje...</td>\n",
       "      <td>1390826</td>\n",
       "      <td>1734.0</td>\n",
       "      <td>1814.0</td>\n",
       "      <td>rewarded</td>\n",
       "      <td>NaN</td>\n",
       "      <td>NaN</td>\n",
       "      <td>6310663.0</td>\n",
       "      <td>6_1_top_2_base_3</td>\n",
       "      <td>dio_ECU_Din1</td>\n",
       "      <td>1.0</td>\n",
       "      <td>20221202_134600_omission_and_competition_subje...</td>\n",
       "      <td>1.0</td>\n",
       "    </tr>\n",
       "    <tr>\n",
       "      <th>85</th>\n",
       "      <td>2403.0</td>\n",
       "      <td>20221202_134600_omission_and_competition_subje...</td>\n",
       "      <td>20221202_134600_omission_and_competition_subje...</td>\n",
       "      <td>2990825</td>\n",
       "      <td>3728.0</td>\n",
       "      <td>3808.0</td>\n",
       "      <td>rewarded</td>\n",
       "      <td>NaN</td>\n",
       "      <td>NaN</td>\n",
       "      <td>7910662.0</td>\n",
       "      <td>6_1_top_2_base_3</td>\n",
       "      <td>dio_ECU_Din1</td>\n",
       "      <td>1.0</td>\n",
       "      <td>20221202_134600_omission_and_competition_subje...</td>\n",
       "      <td>1.0</td>\n",
       "    </tr>\n",
       "    <tr>\n",
       "      <th>86</th>\n",
       "      <td>2404.0</td>\n",
       "      <td>20221202_134600_omission_and_competition_subje...</td>\n",
       "      <td>20221202_134600_omission_and_competition_subje...</td>\n",
       "      <td>4790823</td>\n",
       "      <td>5972.0</td>\n",
       "      <td>6052.0</td>\n",
       "      <td>rewarded</td>\n",
       "      <td>NaN</td>\n",
       "      <td>NaN</td>\n",
       "      <td>9710660.0</td>\n",
       "      <td>6_1_top_2_base_3</td>\n",
       "      <td>dio_ECU_Din1</td>\n",
       "      <td>1.0</td>\n",
       "      <td>20221202_134600_omission_and_competition_subje...</td>\n",
       "      <td>1.0</td>\n",
       "    </tr>\n",
       "    <tr>\n",
       "      <th>87</th>\n",
       "      <td>2405.0</td>\n",
       "      <td>20221202_134600_omission_and_competition_subje...</td>\n",
       "      <td>20221202_134600_omission_and_competition_subje...</td>\n",
       "      <td>6390821</td>\n",
       "      <td>7966.0</td>\n",
       "      <td>8046.0</td>\n",
       "      <td>omission</td>\n",
       "      <td>NaN</td>\n",
       "      <td>NaN</td>\n",
       "      <td>11310658.0</td>\n",
       "      <td>6_1_top_2_base_3</td>\n",
       "      <td>dio_ECU_Din1</td>\n",
       "      <td>1.0</td>\n",
       "      <td>20221202_134600_omission_and_competition_subje...</td>\n",
       "      <td>1.0</td>\n",
       "    </tr>\n",
       "    <tr>\n",
       "      <th>88</th>\n",
       "      <td>2406.0</td>\n",
       "      <td>20221202_134600_omission_and_competition_subje...</td>\n",
       "      <td>20221202_134600_omission_and_competition_subje...</td>\n",
       "      <td>7890820</td>\n",
       "      <td>9836.0</td>\n",
       "      <td>9916.0</td>\n",
       "      <td>rewarded</td>\n",
       "      <td>NaN</td>\n",
       "      <td>NaN</td>\n",
       "      <td>12810657.0</td>\n",
       "      <td>6_1_top_2_base_3</td>\n",
       "      <td>dio_ECU_Din1</td>\n",
       "      <td>1.0</td>\n",
       "      <td>20221202_134600_omission_and_competition_subje...</td>\n",
       "      <td>1.0</td>\n",
       "    </tr>\n",
       "    <tr>\n",
       "      <th>...</th>\n",
       "      <td>...</td>\n",
       "      <td>...</td>\n",
       "      <td>...</td>\n",
       "      <td>...</td>\n",
       "      <td>...</td>\n",
       "      <td>...</td>\n",
       "      <td>...</td>\n",
       "      <td>...</td>\n",
       "      <td>...</td>\n",
       "      <td>...</td>\n",
       "      <td>...</td>\n",
       "      <td>...</td>\n",
       "      <td>...</td>\n",
       "      <td>...</td>\n",
       "      <td>...</td>\n",
       "    </tr>\n",
       "    <tr>\n",
       "      <th>2032</th>\n",
       "      <td>174.0</td>\n",
       "      <td>20230628_111202_standard_comp_to_novel_agent_D...</td>\n",
       "      <td>20230628_111202_standard_comp_to_novel_agent_D...</td>\n",
       "      <td>24708627</td>\n",
       "      <td>24552.0</td>\n",
       "      <td>24632.0</td>\n",
       "      <td>1.2</td>\n",
       "      <td>Subj 2 then Subj 1</td>\n",
       "      <td>NaN</td>\n",
       "      <td>28120638.0</td>\n",
       "      <td>1-2vs1-1and2-1</td>\n",
       "      <td>dio_ECU_Din1</td>\n",
       "      <td>1.0</td>\n",
       "      <td>20230628_111202_standard_comp_to_novel_agent_D...</td>\n",
       "      <td>1.0</td>\n",
       "    </tr>\n",
       "    <tr>\n",
       "      <th>2033</th>\n",
       "      <td>175.0</td>\n",
       "      <td>20230628_111202_standard_comp_to_novel_agent_D...</td>\n",
       "      <td>20230628_111202_standard_comp_to_novel_agent_D...</td>\n",
       "      <td>26308645</td>\n",
       "      <td>26149.0</td>\n",
       "      <td>26229.0</td>\n",
       "      <td>1.1</td>\n",
       "      <td>Subj 1 then Subj 2</td>\n",
       "      <td>NaN</td>\n",
       "      <td>29720656.0</td>\n",
       "      <td>1-2vs1-1and2-1</td>\n",
       "      <td>dio_ECU_Din1</td>\n",
       "      <td>1.0</td>\n",
       "      <td>20230628_111202_standard_comp_to_novel_agent_D...</td>\n",
       "      <td>1.0</td>\n",
       "    </tr>\n",
       "    <tr>\n",
       "      <th>2034</th>\n",
       "      <td>176.0</td>\n",
       "      <td>20230628_111202_standard_comp_to_novel_agent_D...</td>\n",
       "      <td>20230628_111202_standard_comp_to_novel_agent_D...</td>\n",
       "      <td>27708663</td>\n",
       "      <td>27547.0</td>\n",
       "      <td>27627.0</td>\n",
       "      <td>1.1</td>\n",
       "      <td>Close Call</td>\n",
       "      <td>NaN</td>\n",
       "      <td>31120674.0</td>\n",
       "      <td>1-2vs1-1and2-1</td>\n",
       "      <td>dio_ECU_Din1</td>\n",
       "      <td>1.0</td>\n",
       "      <td>20230628_111202_standard_comp_to_novel_agent_D...</td>\n",
       "      <td>1.0</td>\n",
       "    </tr>\n",
       "    <tr>\n",
       "      <th>2035</th>\n",
       "      <td>177.0</td>\n",
       "      <td>20230628_111202_standard_comp_to_novel_agent_D...</td>\n",
       "      <td>20230628_111202_standard_comp_to_novel_agent_D...</td>\n",
       "      <td>29908690</td>\n",
       "      <td>29743.0</td>\n",
       "      <td>29823.0</td>\n",
       "      <td>1.1</td>\n",
       "      <td>Close Call</td>\n",
       "      <td>NaN</td>\n",
       "      <td>33320701.0</td>\n",
       "      <td>1-2vs1-1and2-1</td>\n",
       "      <td>dio_ECU_Din1</td>\n",
       "      <td>1.0</td>\n",
       "      <td>20230628_111202_standard_comp_to_novel_agent_D...</td>\n",
       "      <td>1.0</td>\n",
       "    </tr>\n",
       "    <tr>\n",
       "      <th>2036</th>\n",
       "      <td>178.0</td>\n",
       "      <td>20230628_111202_standard_comp_to_novel_agent_D...</td>\n",
       "      <td>20230628_111202_standard_comp_to_novel_agent_D...</td>\n",
       "      <td>31108708</td>\n",
       "      <td>30940.0</td>\n",
       "      <td>31020.0</td>\n",
       "      <td>1.2</td>\n",
       "      <td>Close Call</td>\n",
       "      <td>NaN</td>\n",
       "      <td>34520719.0</td>\n",
       "      <td>1-2vs1-1and2-1</td>\n",
       "      <td>dio_ECU_Din1</td>\n",
       "      <td>1.0</td>\n",
       "      <td>20230628_111202_standard_comp_to_novel_agent_D...</td>\n",
       "      <td>1.0</td>\n",
       "    </tr>\n",
       "  </tbody>\n",
       "</table>\n",
       "<p>902 rows × 15 columns</p>\n",
       "</div>"
      ],
      "text/plain": [
       "      unnamed: 0                                     recording_file  \\\n",
       "84        2402.0  20221202_134600_omission_and_competition_subje...   \n",
       "85        2403.0  20221202_134600_omission_and_competition_subje...   \n",
       "86        2404.0  20221202_134600_omission_and_competition_subje...   \n",
       "87        2405.0  20221202_134600_omission_and_competition_subje...   \n",
       "88        2406.0  20221202_134600_omission_and_competition_subje...   \n",
       "...          ...                                                ...   \n",
       "2032       174.0  20230628_111202_standard_comp_to_novel_agent_D...   \n",
       "2033       175.0  20230628_111202_standard_comp_to_novel_agent_D...   \n",
       "2034       176.0  20230628_111202_standard_comp_to_novel_agent_D...   \n",
       "2035       177.0  20230628_111202_standard_comp_to_novel_agent_D...   \n",
       "2036       178.0  20230628_111202_standard_comp_to_novel_agent_D...   \n",
       "\n",
       "                                             video_file  time_stamp_index  \\\n",
       "84    20221202_134600_omission_and_competition_subje...           1390826   \n",
       "85    20221202_134600_omission_and_competition_subje...           2990825   \n",
       "86    20221202_134600_omission_and_competition_subje...           4790823   \n",
       "87    20221202_134600_omission_and_competition_subje...           6390821   \n",
       "88    20221202_134600_omission_and_competition_subje...           7890820   \n",
       "...                                                 ...               ...   \n",
       "2032  20230628_111202_standard_comp_to_novel_agent_D...          24708627   \n",
       "2033  20230628_111202_standard_comp_to_novel_agent_D...          26308645   \n",
       "2034  20230628_111202_standard_comp_to_novel_agent_D...          27708663   \n",
       "2035  20230628_111202_standard_comp_to_novel_agent_D...          29908690   \n",
       "2036  20230628_111202_standard_comp_to_novel_agent_D...          31108708   \n",
       "\n",
       "      video_frame  reward_frame condition competition_closeness notes  \\\n",
       "84         1734.0        1814.0  rewarded                   NaN   NaN   \n",
       "85         3728.0        3808.0  rewarded                   NaN   NaN   \n",
       "86         5972.0        6052.0  rewarded                   NaN   NaN   \n",
       "87         7966.0        8046.0  omission                   NaN   NaN   \n",
       "88         9836.0        9916.0  rewarded                   NaN   NaN   \n",
       "...           ...           ...       ...                   ...   ...   \n",
       "2032      24552.0       24632.0       1.2    Subj 2 then Subj 1   NaN   \n",
       "2033      26149.0       26229.0       1.1    Subj 1 then Subj 2   NaN   \n",
       "2034      27547.0       27627.0       1.1            Close Call   NaN   \n",
       "2035      29743.0       29823.0       1.1            Close Call   NaN   \n",
       "2036      30940.0       31020.0       1.2            Close Call   NaN   \n",
       "\n",
       "            time      subject_info           din  state  \\\n",
       "84     6310663.0  6_1_top_2_base_3  dio_ECU_Din1    1.0   \n",
       "85     7910662.0  6_1_top_2_base_3  dio_ECU_Din1    1.0   \n",
       "86     9710660.0  6_1_top_2_base_3  dio_ECU_Din1    1.0   \n",
       "87    11310658.0  6_1_top_2_base_3  dio_ECU_Din1    1.0   \n",
       "88    12810657.0  6_1_top_2_base_3  dio_ECU_Din1    1.0   \n",
       "...          ...               ...           ...    ...   \n",
       "2032  28120638.0    1-2vs1-1and2-1  dio_ECU_Din1    1.0   \n",
       "2033  29720656.0    1-2vs1-1and2-1  dio_ECU_Din1    1.0   \n",
       "2034  31120674.0    1-2vs1-1and2-1  dio_ECU_Din1    1.0   \n",
       "2035  33320701.0    1-2vs1-1and2-1  dio_ECU_Din1    1.0   \n",
       "2036  34520719.0    1-2vs1-1and2-1  dio_ECU_Din1    1.0   \n",
       "\n",
       "                                            session_dir  video_number  \n",
       "84    20221202_134600_omission_and_competition_subje...           1.0  \n",
       "85    20221202_134600_omission_and_competition_subje...           1.0  \n",
       "86    20221202_134600_omission_and_competition_subje...           1.0  \n",
       "87    20221202_134600_omission_and_competition_subje...           1.0  \n",
       "88    20221202_134600_omission_and_competition_subje...           1.0  \n",
       "...                                                 ...           ...  \n",
       "2032  20230628_111202_standard_comp_to_novel_agent_D...           1.0  \n",
       "2033  20230628_111202_standard_comp_to_novel_agent_D...           1.0  \n",
       "2034  20230628_111202_standard_comp_to_novel_agent_D...           1.0  \n",
       "2035  20230628_111202_standard_comp_to_novel_agent_D...           1.0  \n",
       "2036  20230628_111202_standard_comp_to_novel_agent_D...           1.0  \n",
       "\n",
       "[902 rows x 15 columns]"
      ]
     },
     "execution_count": 11,
     "metadata": {},
     "output_type": "execute_result"
    }
   ],
   "source": [
    "TRIAL_LABELS_DF"
   ]
  },
  {
   "cell_type": "code",
   "execution_count": 12,
   "metadata": {},
   "outputs": [],
   "source": [
    "# grouped = TRIAL_LABELS_DF.groupby(['recording_file', 'video_file'])['time_stamp_index'].apply(lambda x: sorted(list(x))).reset_index()\n",
    "\n",
    "\n",
    "grouped = TRIAL_LABELS_DF.groupby(['session_dir', 'video_file']).agg({'time_stamp_index': lambda x: list(x), 'condition': lambda x: list(x), 'competition_closeness': lambda x: list(x)}).reset_index()\n"
   ]
  },
  {
   "cell_type": "code",
   "execution_count": 13,
   "metadata": {},
   "outputs": [],
   "source": [
    "grouped[\"video_file\"] = grouped[\"video_file\"].apply(lambda x: x.strip(\".videoTimeStamps.cameraHWSync\"))"
   ]
  },
  {
   "cell_type": "code",
   "execution_count": 14,
   "metadata": {},
   "outputs": [],
   "source": [
    "VIDEO_TO_FRAME_AND_SUBJECT_DF = pd.merge(VIDEO_TO_FRAME_AND_SUBJECT_DF, grouped, how='inner', left_on=['session_dir', 'video_name'], right_on=['session_dir', 'video_file'])"
   ]
  },
  {
   "cell_type": "code",
   "execution_count": 18,
   "metadata": {},
   "outputs": [],
   "source": [
    "VIDEO_TO_FRAME_AND_SUBJECT_DF = VIDEO_TO_FRAME_AND_SUBJECT_DF.rename(columns={'time_stamp_index': 'trial_time_stamps', 'condition': 'trial_label', 'competition_closeness': 'trial_competition_closeness'}, errors=\"ignore\")"
   ]
  },
  {
   "cell_type": "code",
   "execution_count": 20,
   "metadata": {},
   "outputs": [],
   "source": [
    "VIDEO_TO_FRAME_AND_SUBJECT_DF[\"trial_time_stamps\"] = VIDEO_TO_FRAME_AND_SUBJECT_DF[\"trial_time_stamps\"].apply(lambda x: np.array(x))\n",
    "VIDEO_TO_FRAME_AND_SUBJECT_DF[\"trial_label\"] = VIDEO_TO_FRAME_AND_SUBJECT_DF[\"trial_label\"].apply(lambda x: np.array(x))\n",
    "VIDEO_TO_FRAME_AND_SUBJECT_DF[\"trial_competition_closeness\"] = VIDEO_TO_FRAME_AND_SUBJECT_DF[\"trial_competition_closeness\"].apply(lambda x: np.array(x))"
   ]
  },
  {
   "cell_type": "markdown",
   "metadata": {},
   "source": [
    "- Converting the trial label to win or lose based on who won the trial"
   ]
  },
  {
   "cell_type": "code",
   "execution_count": 24,
   "metadata": {},
   "outputs": [
    {
     "data": {
      "text/plain": [
       "Index(['agent', 'cohort', 'session_dir', 'sleap_filename', 'sleap_fileroot',\n",
       "       'start_stop_frame', 'tone_frames', 'port_entry_frames', 'box_top_left',\n",
       "       'box_bottom_left', 'filtered_subject_locations',\n",
       "       'filtered_agent_locations', 'video_name', 'notes', 'session_path',\n",
       "       'file_path', 'reward_port', 'recording', 'box_bottom_right',\n",
       "       'box_top_right', 'subject', 'tracked_subject', 'all_subjects',\n",
       "       'in_video_subjects', 'first_timestamp', 'raw_timestamps',\n",
       "       'tone_timestamps', 'port_entry_timestamps', 'start_stop_timestamps',\n",
       "       'filtered_lfp_timestamps', 'filtered_video_timestamps',\n",
       "       'filtered_mpfc_trace', 'filtered_vhpc_trace', 'filtered_bla_trace',\n",
       "       'filtered_lh_trace', 'filtered_md_trace', 'recording_name',\n",
       "       'spike_clusters', 'spike_times', 'neuron_average_fr',\n",
       "       'neuron_average_timestamps', 'video_file', 'trial_time_stamps',\n",
       "       'trial_label', 'trial_competition_closeness'],\n",
       "      dtype='object')"
      ]
     },
     "execution_count": 24,
     "metadata": {},
     "output_type": "execute_result"
    }
   ],
   "source": [
    "VIDEO_TO_FRAME_AND_SUBJECT_DF.columns"
   ]
  },
  {
   "cell_type": "code",
   "execution_count": 25,
   "metadata": {},
   "outputs": [],
   "source": [
    "VIDEO_TO_FRAME_AND_SUBJECT_DF[\"trial_label\"] = VIDEO_TO_FRAME_AND_SUBJECT_DF.apply(lambda x: \n",
    "    \n",
    "    \n",
    "    \n",
    "    \"win\" if str(x[\"trial_label\"]).strip() == str(x[\"subject\"]) \n",
    "             else (\"lose\" if str(x[\"trial_label\"]) in x[\"all_subjects\"] \n",
    "                   else x[\"trial_label\"]), axis=1)"
   ]
  },
  {
   "cell_type": "code",
   "execution_count": 31,
   "metadata": {},
   "outputs": [
    {
     "data": {
      "text/plain": [
       "array([1.2, 1.1, 1.1, 1.2, 1.1, 1.1, 1.1, 1.1, 1.1, 1.1, 1.1, 1.1, 1.1,\n",
       "       1.1, 1.1, 1.1, 1.1, 1.1, 1.1, 1.1, 1.1, 1.2, 1.1, 1.1, 1.2, 1.1,\n",
       "       1.1, 1.1, 1.1, 1.1, 1.1, 1.1, 1.1, 1.1, 1.1, 1.1, 1.1, 1.1, 1.1,\n",
       "       1.1, 1.1, 1.1])"
      ]
     },
     "execution_count": 31,
     "metadata": {},
     "output_type": "execute_result"
    }
   ],
   "source": [
    "VIDEO_TO_FRAME_AND_SUBJECT_DF[\"trial_label\"].iloc[0]"
   ]
  },
  {
   "cell_type": "markdown",
   "metadata": {},
   "source": [
    "- Adding the competition closeness as a column"
   ]
  },
  {
   "cell_type": "code",
   "execution_count": null,
   "metadata": {},
   "outputs": [],
   "source": [
    "competition_closeness_map = {k: \"non_comp\" if \"only\" in str(k).lower() else \"comp\" if type(k) is str else np.nan for k in VIDEO_TO_FRAME_AND_SUBJECT_DF[\"competition_closeness\"].unique()}"
   ]
  },
  {
   "cell_type": "code",
   "execution_count": null,
   "metadata": {},
   "outputs": [
    {
     "data": {
      "text/plain": [
       "{nan: nan,\n",
       " 'Subj 1 Only': 'non_comp',\n",
       " 'Subj 2 blocking Subj 1': 'comp',\n",
       " 'Subj 1 then Subj 2': 'comp',\n",
       " 'Subj 1 blocking Subj 2': 'comp',\n",
       " 'Subj 2 Only': 'non_comp',\n",
       " 'Subj 2 then Subj 1': 'comp',\n",
       " 'Close Call': 'comp'}"
      ]
     },
     "metadata": {},
     "output_type": "display_data"
    }
   ],
   "source": [
    "competition_closeness_map"
   ]
  },
  {
   "cell_type": "code",
   "execution_count": null,
   "metadata": {},
   "outputs": [],
   "source": [
    "VIDEO_TO_FRAME_AND_SUBJECT_DF[\"competition_closeness\"] = VIDEO_TO_FRAME_AND_SUBJECT_DF[\"competition_closeness\"].map(competition_closeness_map)"
   ]
  },
  {
   "cell_type": "code",
   "execution_count": null,
   "metadata": {},
   "outputs": [],
   "source": [
    "VIDEO_TO_FRAME_AND_SUBJECT_DF[\"competition_closeness\"] = VIDEO_TO_FRAME_AND_SUBJECT_DF.apply(lambda x: \"_\".join([str(x[\"trial_outcome\"]), str(x[\"competition_closeness\"])]).strip(\"nan\").strip(\"_\"), axis=1)"
   ]
  },
  {
   "cell_type": "code",
   "execution_count": 21,
   "metadata": {},
   "outputs": [
    {
     "data": {
      "text/html": [
       "<div>\n",
       "<style scoped>\n",
       "    .dataframe tbody tr th:only-of-type {\n",
       "        vertical-align: middle;\n",
       "    }\n",
       "\n",
       "    .dataframe tbody tr th {\n",
       "        vertical-align: top;\n",
       "    }\n",
       "\n",
       "    .dataframe thead th {\n",
       "        text-align: right;\n",
       "    }\n",
       "</style>\n",
       "<table border=\"1\" class=\"dataframe\">\n",
       "  <thead>\n",
       "    <tr style=\"text-align: right;\">\n",
       "      <th></th>\n",
       "      <th>agent</th>\n",
       "      <th>cohort</th>\n",
       "      <th>session_dir</th>\n",
       "      <th>sleap_filename</th>\n",
       "      <th>sleap_fileroot</th>\n",
       "      <th>start_stop_frame</th>\n",
       "      <th>tone_frames</th>\n",
       "      <th>port_entry_frames</th>\n",
       "      <th>box_top_left</th>\n",
       "      <th>box_bottom_left</th>\n",
       "      <th>...</th>\n",
       "      <th>filtered_md_trace</th>\n",
       "      <th>recording_name</th>\n",
       "      <th>spike_clusters</th>\n",
       "      <th>spike_times</th>\n",
       "      <th>neuron_average_fr</th>\n",
       "      <th>neuron_average_timestamps</th>\n",
       "      <th>video_file</th>\n",
       "      <th>trial_time_stamps</th>\n",
       "      <th>trial_label</th>\n",
       "      <th>trial_competition_closeness</th>\n",
       "    </tr>\n",
       "  </thead>\n",
       "  <tbody>\n",
       "    <tr>\n",
       "      <th>0</th>\n",
       "      <td>1.2</td>\n",
       "      <td>2</td>\n",
       "      <td>20230617_115521_standard_comp_to_omission_D1_s...</td>\n",
       "      <td>20230617_115521_standard_comp_to_omission_D1_s...</td>\n",
       "      <td>20230617_115521_standard_comp_to_omission_D1_s...</td>\n",
       "      <td>(1, 39500)</td>\n",
       "      <td>[[1029, 1229], [3425, 3624], [5721, 5920], [75...</td>\n",
       "      <td>[[102, 105], [110, 148], [193, 199], [200, 202...</td>\n",
       "      <td>[29.623370221193532, 10.85380707317621]</td>\n",
       "      <td>[30.23007505102494, 34.598706975722735]</td>\n",
       "      <td>...</td>\n",
       "      <td>[-2.3028033, -2.0405018, -1.7475417, -1.429032...</td>\n",
       "      <td>20230617_115521_standard_comp_to_omission_D1_s...</td>\n",
       "      <td>[3, 4, 5, 6, 17, 28, 29, 39, 48, 52, 53, 54, 5...</td>\n",
       "      <td>[[673223, 2367433, 2569212, 3969647, 3973243, ...</td>\n",
       "      <td>[[0.0, 0.0, 0.0, 0.0, 0.0, 0.0, 0.0, 0.0, 0.0,...</td>\n",
       "      <td>[0, 2000, 4000, 6000, 8000, 10000, 12000, 1400...</td>\n",
       "      <td>20230617_115521_standard_comp_to_omission_D1_s...</td>\n",
       "      <td>[1030879, 3430878, 5730880, 7530877, 8630880, ...</td>\n",
       "      <td>[1.2, 1.1, 1.1, 1.2, 1.1, 1.1, 1.1, 1.1, 1.1, ...</td>\n",
       "      <td>[Subj 2 blocking Subj 1, Subj 1 blocking Subj ...</td>\n",
       "    </tr>\n",
       "    <tr>\n",
       "      <th>1</th>\n",
       "      <td>1.1</td>\n",
       "      <td>2</td>\n",
       "      <td>20230617_115521_standard_comp_to_omission_D1_s...</td>\n",
       "      <td>20230617_115521_standard_comp_to_omission_D1_s...</td>\n",
       "      <td>20230617_115521_standard_comp_to_omission_D1_s...</td>\n",
       "      <td>(1, 39500)</td>\n",
       "      <td>[[1029, 1229], [3425, 3624], [5721, 5920], [75...</td>\n",
       "      <td>[[102, 105], [110, 148], [193, 199], [200, 202...</td>\n",
       "      <td>[29.623370221193532, 10.85380707317621]</td>\n",
       "      <td>[30.23007505102494, 34.598706975722735]</td>\n",
       "      <td>...</td>\n",
       "      <td>[-0.62384546, -0.897785, -1.1164762, -0.982959...</td>\n",
       "      <td>20230617_115521_standard_comp_to_omission_D1_s...</td>\n",
       "      <td>[16, 17, 20, 25, 26, 34, 35, 39, 40, 42, 43, 4...</td>\n",
       "      <td>[[958, 5233, 6331, 7475, 8599, 10550, 23459, 2...</td>\n",
       "      <td>[[1.0, 0.0, 1.0, 2.0, 1.0, 1.0, 0.0, 0.0, 0.0,...</td>\n",
       "      <td>[0, 2000, 4000, 6000, 8000, 10000, 12000, 1400...</td>\n",
       "      <td>20230617_115521_standard_comp_to_omission_D1_s...</td>\n",
       "      <td>[1030879, 3430878, 5730880, 7530877, 8630880, ...</td>\n",
       "      <td>[1.2, 1.1, 1.1, 1.2, 1.1, 1.1, 1.1, 1.1, 1.1, ...</td>\n",
       "      <td>[Subj 2 blocking Subj 1, Subj 1 blocking Subj ...</td>\n",
       "    </tr>\n",
       "    <tr>\n",
       "      <th>2</th>\n",
       "      <td>1.4</td>\n",
       "      <td>2</td>\n",
       "      <td>20230618_100636_standard_comp_to_omission_D2_s...</td>\n",
       "      <td>20230618_100636_standard_comp_to_omission_D2_s...</td>\n",
       "      <td>20230618_100636_standard_comp_to_omission_D2_s...</td>\n",
       "      <td>(1, 32316)</td>\n",
       "      <td>[[1098, 1297], [3492, 3693], [5788, 5988], [75...</td>\n",
       "      <td>[[788, 835], [838, 839], [839, 871], [871, 900...</td>\n",
       "      <td>[28.94954695212123, 11.559275766924861]</td>\n",
       "      <td>[29.794023445649177, 35.275466614423074]</td>\n",
       "      <td>...</td>\n",
       "      <td>[0.3162679, 0.49376523, 0.4066302, 0.13715701,...</td>\n",
       "      <td>20230618_100636_standard_comp_to_omission_D2_s...</td>\n",
       "      <td>[7, 11, 12, 48, 50, 51, 61, 64, 76, 84, 90, 98...</td>\n",
       "      <td>[[506, 1419, 2358, 5104, 6785, 7620, 9801, 120...</td>\n",
       "      <td>[[2.0, 1.0, 1.0, 2.0, 1.0, 0.0, 3.0, 0.0, 1.0,...</td>\n",
       "      <td>[0, 2000, 4000, 6000, 8000, 10000, 12000, 1400...</td>\n",
       "      <td>20230618_100636_standard_comp_to_omission_D2_s...</td>\n",
       "      <td>[1099250, 3499256, 5799251, 7599250, 8699250, ...</td>\n",
       "      <td>[1.4, 1.1, 1.1, 1.4, 1.1, 1.4, 1.4, 1.4, 1.1, ...</td>\n",
       "      <td>[Subj 2 Only, Subj 1 Only, Subj 1 Only, Subj 2...</td>\n",
       "    </tr>\n",
       "    <tr>\n",
       "      <th>3</th>\n",
       "      <td>1.1</td>\n",
       "      <td>2</td>\n",
       "      <td>20230618_100636_standard_comp_to_omission_D2_s...</td>\n",
       "      <td>20230618_100636_standard_comp_to_omission_D2_s...</td>\n",
       "      <td>20230618_100636_standard_comp_to_omission_D2_s...</td>\n",
       "      <td>(1, 32316)</td>\n",
       "      <td>[[1098, 1297], [3492, 3693], [5788, 5988], [75...</td>\n",
       "      <td>[[788, 835], [838, 839], [839, 871], [871, 900...</td>\n",
       "      <td>[28.94954695212123, 11.559275766924861]</td>\n",
       "      <td>[29.794023445649177, 35.275466614423074]</td>\n",
       "      <td>...</td>\n",
       "      <td>[0.7159058, -0.05324919, -0.6389903, 0.0, 0.44...</td>\n",
       "      <td>20230618_100636_standard_comp_to_omission_D2_s...</td>\n",
       "      <td>[9, 19, 65, 83, 87, 93, 99, 103, 105, 106, 118...</td>\n",
       "      <td>[[458431, 506645, 509846, 545481, 571000, 6011...</td>\n",
       "      <td>[[0.0, 0.0, 0.0, 0.0, 0.0, 0.0, 0.0, 0.0, 0.0,...</td>\n",
       "      <td>[0, 2000, 4000, 6000, 8000, 10000, 12000, 1400...</td>\n",
       "      <td>20230618_100636_standard_comp_to_omission_D2_s...</td>\n",
       "      <td>[1099250, 3499256, 5799251, 7599250, 8699250, ...</td>\n",
       "      <td>[1.4, 1.1, 1.1, 1.4, 1.1, 1.4, 1.4, 1.4, 1.1, ...</td>\n",
       "      <td>[Subj 2 Only, Subj 1 Only, Subj 1 Only, Subj 2...</td>\n",
       "    </tr>\n",
       "    <tr>\n",
       "      <th>4</th>\n",
       "      <td>1.2</td>\n",
       "      <td>2</td>\n",
       "      <td>20230620_114347_standard_comp_to_omission_D4_s...</td>\n",
       "      <td>20230620_114347_standard_comp_to_omission_D4_s...</td>\n",
       "      <td>20230620_114347_standard_comp_to_omission_D4_s...</td>\n",
       "      <td>(2027, 32239)</td>\n",
       "      <td>[[1058, 1265], [3460, 3659], [5756, 5955], [75...</td>\n",
       "      <td>[[6, 29], [32, 40], [168, 183], [197, 218], [3...</td>\n",
       "      <td>[28.726306016601946, 10.842459364362139]</td>\n",
       "      <td>[30.091010784999508, 34.98257973535351]</td>\n",
       "      <td>...</td>\n",
       "      <td>[0.5827334, 0.48292822, 0.37990353, 0.31873262...</td>\n",
       "      <td>20230620_114347_standard_comp_to_omission_D4_s...</td>\n",
       "      <td>[2, 22, 64, 89, 98, 100, 119, 121, 122, 126]</td>\n",
       "      <td>[[264055, 325873, 327931, 330996, 334463, 3590...</td>\n",
       "      <td>[[0.0, 0.0, 0.0, 0.0, 0.0, 0.0, 0.0, 0.0, 0.0,...</td>\n",
       "      <td>[0, 2000, 4000, 6000, 8000, 10000, 12000, 1400...</td>\n",
       "      <td>20230620_114347_standard_comp_to_omission_D4_s...</td>\n",
       "      <td>[5757314, 7557336, 8657352, 9657364, 11557385,...</td>\n",
       "      <td>[1.2, 1.1, 1.1, 1.1, 1.1, 1.2, 1.1, 1.1, 1.2, ...</td>\n",
       "      <td>[Subj 2 blocking Subj 1, Subj 1 Only, Subj 1 t...</td>\n",
       "    </tr>\n",
       "    <tr>\n",
       "      <th>5</th>\n",
       "      <td>1.1</td>\n",
       "      <td>2</td>\n",
       "      <td>20230620_114347_standard_comp_to_omission_D4_s...</td>\n",
       "      <td>20230620_114347_standard_comp_to_omission_D4_s...</td>\n",
       "      <td>20230620_114347_standard_comp_to_omission_D4_s...</td>\n",
       "      <td>(2027, 32239)</td>\n",
       "      <td>[[1058, 1265], [3460, 3659], [5756, 5955], [75...</td>\n",
       "      <td>[[6, 29], [32, 40], [168, 183], [197, 218], [3...</td>\n",
       "      <td>[28.726306016601946, 10.842459364362139]</td>\n",
       "      <td>[30.091010784999508, 34.98257973535351]</td>\n",
       "      <td>...</td>\n",
       "      <td>[-1.0043497, -0.92557716, -1.0092729, -1.51144...</td>\n",
       "      <td>20230620_114347_standard_comp_to_omission_D4_s...</td>\n",
       "      <td>[14, 28, 41, 42, 43, 45, 48, 53, 58, 68, 124, ...</td>\n",
       "      <td>[[5884, 7172, 11405, 19311, 19371, 23729, 2627...</td>\n",
       "      <td>[[0.0, 0.0, 1.0, 1.0, 0.0, 1.0, 0.0, 0.0, 0.0,...</td>\n",
       "      <td>[0, 2000, 4000, 6000, 8000, 10000, 12000, 1400...</td>\n",
       "      <td>20230620_114347_standard_comp_to_omission_D4_s...</td>\n",
       "      <td>[5757314, 7557336, 8657352, 9657364, 11557385,...</td>\n",
       "      <td>[1.2, 1.1, 1.1, 1.1, 1.1, 1.2, 1.1, 1.1, 1.2, ...</td>\n",
       "      <td>[Subj 2 blocking Subj 1, Subj 1 Only, Subj 1 t...</td>\n",
       "    </tr>\n",
       "    <tr>\n",
       "      <th>6</th>\n",
       "      <td>1.2</td>\n",
       "      <td>2</td>\n",
       "      <td>20230621_111240_standard_comp_to_omission_D5_s...</td>\n",
       "      <td>20230621_111240_standard_comp_to_omission_D5_s...</td>\n",
       "      <td>20230621_111240_standard_comp_to_omission_D5_s...</td>\n",
       "      <td>(1, 33500)</td>\n",
       "      <td>[[477, 1286], [2484, 2683], [4880, 5079], [717...</td>\n",
       "      <td>[[223, 250], [252, 254], [257, 257], [258, 297...</td>\n",
       "      <td>[29.368871804533384, 11.233148401733333]</td>\n",
       "      <td>[30.292670448640752, 35.366774292703255]</td>\n",
       "      <td>...</td>\n",
       "      <td>[-0.19407488, -0.27361378, -0.39769444, -0.330...</td>\n",
       "      <td>20230621_111240_standard_comp_to_omission_D5_s...</td>\n",
       "      <td>[6, 7, 13, 15, 16, 17, 22, 24, 26, 36, 37, 46,...</td>\n",
       "      <td>[[1891, 5872, 8366, 16312, 17233, 24302, 24337...</td>\n",
       "      <td>[[1.0, 0.0, 1.0, 0.0, 1.0, 0.0, 0.0, 0.0, 2.0,...</td>\n",
       "      <td>[0, 2000, 4000, 6000, 8000, 10000, 12000, 1400...</td>\n",
       "      <td>20230621_111240_standard_comp_to_omission_D5_s...</td>\n",
       "      <td>[2488068, 4888097, 7188129, 8988148, 10088165,...</td>\n",
       "      <td>[1.4, 1.2, 1.2, 1.2, 1.2, 1.2, 1.2, 1.2, 1.2, ...</td>\n",
       "      <td>[Subj 2 Only, Subj 2 then Subj 1, Subj 1 then ...</td>\n",
       "    </tr>\n",
       "  </tbody>\n",
       "</table>\n",
       "<p>7 rows × 45 columns</p>\n",
       "</div>"
      ],
      "text/plain": [
       "  agent  cohort                                        session_dir  \\\n",
       "0   1.2       2  20230617_115521_standard_comp_to_omission_D1_s...   \n",
       "1   1.1       2  20230617_115521_standard_comp_to_omission_D1_s...   \n",
       "2   1.4       2  20230618_100636_standard_comp_to_omission_D2_s...   \n",
       "3   1.1       2  20230618_100636_standard_comp_to_omission_D2_s...   \n",
       "4   1.2       2  20230620_114347_standard_comp_to_omission_D4_s...   \n",
       "5   1.1       2  20230620_114347_standard_comp_to_omission_D4_s...   \n",
       "6   1.2       2  20230621_111240_standard_comp_to_omission_D5_s...   \n",
       "\n",
       "                                      sleap_filename  \\\n",
       "0  20230617_115521_standard_comp_to_omission_D1_s...   \n",
       "1  20230617_115521_standard_comp_to_omission_D1_s...   \n",
       "2  20230618_100636_standard_comp_to_omission_D2_s...   \n",
       "3  20230618_100636_standard_comp_to_omission_D2_s...   \n",
       "4  20230620_114347_standard_comp_to_omission_D4_s...   \n",
       "5  20230620_114347_standard_comp_to_omission_D4_s...   \n",
       "6  20230621_111240_standard_comp_to_omission_D5_s...   \n",
       "\n",
       "                                      sleap_fileroot start_stop_frame  \\\n",
       "0  20230617_115521_standard_comp_to_omission_D1_s...       (1, 39500)   \n",
       "1  20230617_115521_standard_comp_to_omission_D1_s...       (1, 39500)   \n",
       "2  20230618_100636_standard_comp_to_omission_D2_s...       (1, 32316)   \n",
       "3  20230618_100636_standard_comp_to_omission_D2_s...       (1, 32316)   \n",
       "4  20230620_114347_standard_comp_to_omission_D4_s...    (2027, 32239)   \n",
       "5  20230620_114347_standard_comp_to_omission_D4_s...    (2027, 32239)   \n",
       "6  20230621_111240_standard_comp_to_omission_D5_s...       (1, 33500)   \n",
       "\n",
       "                                         tone_frames  \\\n",
       "0  [[1029, 1229], [3425, 3624], [5721, 5920], [75...   \n",
       "1  [[1029, 1229], [3425, 3624], [5721, 5920], [75...   \n",
       "2  [[1098, 1297], [3492, 3693], [5788, 5988], [75...   \n",
       "3  [[1098, 1297], [3492, 3693], [5788, 5988], [75...   \n",
       "4  [[1058, 1265], [3460, 3659], [5756, 5955], [75...   \n",
       "5  [[1058, 1265], [3460, 3659], [5756, 5955], [75...   \n",
       "6  [[477, 1286], [2484, 2683], [4880, 5079], [717...   \n",
       "\n",
       "                                   port_entry_frames  \\\n",
       "0  [[102, 105], [110, 148], [193, 199], [200, 202...   \n",
       "1  [[102, 105], [110, 148], [193, 199], [200, 202...   \n",
       "2  [[788, 835], [838, 839], [839, 871], [871, 900...   \n",
       "3  [[788, 835], [838, 839], [839, 871], [871, 900...   \n",
       "4  [[6, 29], [32, 40], [168, 183], [197, 218], [3...   \n",
       "5  [[6, 29], [32, 40], [168, 183], [197, 218], [3...   \n",
       "6  [[223, 250], [252, 254], [257, 257], [258, 297...   \n",
       "\n",
       "                               box_top_left  \\\n",
       "0   [29.623370221193532, 10.85380707317621]   \n",
       "1   [29.623370221193532, 10.85380707317621]   \n",
       "2   [28.94954695212123, 11.559275766924861]   \n",
       "3   [28.94954695212123, 11.559275766924861]   \n",
       "4  [28.726306016601946, 10.842459364362139]   \n",
       "5  [28.726306016601946, 10.842459364362139]   \n",
       "6  [29.368871804533384, 11.233148401733333]   \n",
       "\n",
       "                            box_bottom_left  ...  \\\n",
       "0   [30.23007505102494, 34.598706975722735]  ...   \n",
       "1   [30.23007505102494, 34.598706975722735]  ...   \n",
       "2  [29.794023445649177, 35.275466614423074]  ...   \n",
       "3  [29.794023445649177, 35.275466614423074]  ...   \n",
       "4   [30.091010784999508, 34.98257973535351]  ...   \n",
       "5   [30.091010784999508, 34.98257973535351]  ...   \n",
       "6  [30.292670448640752, 35.366774292703255]  ...   \n",
       "\n",
       "                                   filtered_md_trace  \\\n",
       "0  [-2.3028033, -2.0405018, -1.7475417, -1.429032...   \n",
       "1  [-0.62384546, -0.897785, -1.1164762, -0.982959...   \n",
       "2  [0.3162679, 0.49376523, 0.4066302, 0.13715701,...   \n",
       "3  [0.7159058, -0.05324919, -0.6389903, 0.0, 0.44...   \n",
       "4  [0.5827334, 0.48292822, 0.37990353, 0.31873262...   \n",
       "5  [-1.0043497, -0.92557716, -1.0092729, -1.51144...   \n",
       "6  [-0.19407488, -0.27361378, -0.39769444, -0.330...   \n",
       "\n",
       "                                      recording_name  \\\n",
       "0  20230617_115521_standard_comp_to_omission_D1_s...   \n",
       "1  20230617_115521_standard_comp_to_omission_D1_s...   \n",
       "2  20230618_100636_standard_comp_to_omission_D2_s...   \n",
       "3  20230618_100636_standard_comp_to_omission_D2_s...   \n",
       "4  20230620_114347_standard_comp_to_omission_D4_s...   \n",
       "5  20230620_114347_standard_comp_to_omission_D4_s...   \n",
       "6  20230621_111240_standard_comp_to_omission_D5_s...   \n",
       "\n",
       "                                      spike_clusters  \\\n",
       "0  [3, 4, 5, 6, 17, 28, 29, 39, 48, 52, 53, 54, 5...   \n",
       "1  [16, 17, 20, 25, 26, 34, 35, 39, 40, 42, 43, 4...   \n",
       "2  [7, 11, 12, 48, 50, 51, 61, 64, 76, 84, 90, 98...   \n",
       "3  [9, 19, 65, 83, 87, 93, 99, 103, 105, 106, 118...   \n",
       "4       [2, 22, 64, 89, 98, 100, 119, 121, 122, 126]   \n",
       "5  [14, 28, 41, 42, 43, 45, 48, 53, 58, 68, 124, ...   \n",
       "6  [6, 7, 13, 15, 16, 17, 22, 24, 26, 36, 37, 46,...   \n",
       "\n",
       "                                         spike_times  \\\n",
       "0  [[673223, 2367433, 2569212, 3969647, 3973243, ...   \n",
       "1  [[958, 5233, 6331, 7475, 8599, 10550, 23459, 2...   \n",
       "2  [[506, 1419, 2358, 5104, 6785, 7620, 9801, 120...   \n",
       "3  [[458431, 506645, 509846, 545481, 571000, 6011...   \n",
       "4  [[264055, 325873, 327931, 330996, 334463, 3590...   \n",
       "5  [[5884, 7172, 11405, 19311, 19371, 23729, 2627...   \n",
       "6  [[1891, 5872, 8366, 16312, 17233, 24302, 24337...   \n",
       "\n",
       "                                   neuron_average_fr  \\\n",
       "0  [[0.0, 0.0, 0.0, 0.0, 0.0, 0.0, 0.0, 0.0, 0.0,...   \n",
       "1  [[1.0, 0.0, 1.0, 2.0, 1.0, 1.0, 0.0, 0.0, 0.0,...   \n",
       "2  [[2.0, 1.0, 1.0, 2.0, 1.0, 0.0, 3.0, 0.0, 1.0,...   \n",
       "3  [[0.0, 0.0, 0.0, 0.0, 0.0, 0.0, 0.0, 0.0, 0.0,...   \n",
       "4  [[0.0, 0.0, 0.0, 0.0, 0.0, 0.0, 0.0, 0.0, 0.0,...   \n",
       "5  [[0.0, 0.0, 1.0, 1.0, 0.0, 1.0, 0.0, 0.0, 0.0,...   \n",
       "6  [[1.0, 0.0, 1.0, 0.0, 1.0, 0.0, 0.0, 0.0, 2.0,...   \n",
       "\n",
       "                           neuron_average_timestamps  \\\n",
       "0  [0, 2000, 4000, 6000, 8000, 10000, 12000, 1400...   \n",
       "1  [0, 2000, 4000, 6000, 8000, 10000, 12000, 1400...   \n",
       "2  [0, 2000, 4000, 6000, 8000, 10000, 12000, 1400...   \n",
       "3  [0, 2000, 4000, 6000, 8000, 10000, 12000, 1400...   \n",
       "4  [0, 2000, 4000, 6000, 8000, 10000, 12000, 1400...   \n",
       "5  [0, 2000, 4000, 6000, 8000, 10000, 12000, 1400...   \n",
       "6  [0, 2000, 4000, 6000, 8000, 10000, 12000, 1400...   \n",
       "\n",
       "                                          video_file  \\\n",
       "0  20230617_115521_standard_comp_to_omission_D1_s...   \n",
       "1  20230617_115521_standard_comp_to_omission_D1_s...   \n",
       "2  20230618_100636_standard_comp_to_omission_D2_s...   \n",
       "3  20230618_100636_standard_comp_to_omission_D2_s...   \n",
       "4  20230620_114347_standard_comp_to_omission_D4_s...   \n",
       "5  20230620_114347_standard_comp_to_omission_D4_s...   \n",
       "6  20230621_111240_standard_comp_to_omission_D5_s...   \n",
       "\n",
       "                                   trial_time_stamps  \\\n",
       "0  [1030879, 3430878, 5730880, 7530877, 8630880, ...   \n",
       "1  [1030879, 3430878, 5730880, 7530877, 8630880, ...   \n",
       "2  [1099250, 3499256, 5799251, 7599250, 8699250, ...   \n",
       "3  [1099250, 3499256, 5799251, 7599250, 8699250, ...   \n",
       "4  [5757314, 7557336, 8657352, 9657364, 11557385,...   \n",
       "5  [5757314, 7557336, 8657352, 9657364, 11557385,...   \n",
       "6  [2488068, 4888097, 7188129, 8988148, 10088165,...   \n",
       "\n",
       "                                         trial_label  \\\n",
       "0  [1.2, 1.1, 1.1, 1.2, 1.1, 1.1, 1.1, 1.1, 1.1, ...   \n",
       "1  [1.2, 1.1, 1.1, 1.2, 1.1, 1.1, 1.1, 1.1, 1.1, ...   \n",
       "2  [1.4, 1.1, 1.1, 1.4, 1.1, 1.4, 1.4, 1.4, 1.1, ...   \n",
       "3  [1.4, 1.1, 1.1, 1.4, 1.1, 1.4, 1.4, 1.4, 1.1, ...   \n",
       "4  [1.2, 1.1, 1.1, 1.1, 1.1, 1.2, 1.1, 1.1, 1.2, ...   \n",
       "5  [1.2, 1.1, 1.1, 1.1, 1.1, 1.2, 1.1, 1.1, 1.2, ...   \n",
       "6  [1.4, 1.2, 1.2, 1.2, 1.2, 1.2, 1.2, 1.2, 1.2, ...   \n",
       "\n",
       "                         trial_competition_closeness  \n",
       "0  [Subj 2 blocking Subj 1, Subj 1 blocking Subj ...  \n",
       "1  [Subj 2 blocking Subj 1, Subj 1 blocking Subj ...  \n",
       "2  [Subj 2 Only, Subj 1 Only, Subj 1 Only, Subj 2...  \n",
       "3  [Subj 2 Only, Subj 1 Only, Subj 1 Only, Subj 2...  \n",
       "4  [Subj 2 blocking Subj 1, Subj 1 Only, Subj 1 t...  \n",
       "5  [Subj 2 blocking Subj 1, Subj 1 Only, Subj 1 t...  \n",
       "6  [Subj 2 Only, Subj 2 then Subj 1, Subj 1 then ...  \n",
       "\n",
       "[7 rows x 45 columns]"
      ]
     },
     "execution_count": 21,
     "metadata": {},
     "output_type": "execute_result"
    }
   ],
   "source": [
    "VIDEO_TO_FRAME_AND_SUBJECT_DF"
   ]
  },
  {
   "cell_type": "code",
   "execution_count": 16,
   "metadata": {},
   "outputs": [
    {
     "ename": "ValueError",
     "evalue": "This is not done yet",
     "output_type": "error",
     "traceback": [
      "\u001b[0;31m---------------------------------------------------------------------------\u001b[0m",
      "\u001b[0;31mValueError\u001b[0m                                Traceback (most recent call last)",
      "\u001b[1;32m/nancy/projects/reward_competition_extention/notebooks/export/04_add_trial_labels.ipynb Cell 28\u001b[0m line \u001b[0;36m1\n\u001b[0;32m----> <a href='vscode-notebook-cell:/nancy/projects/reward_competition_extention/notebooks/export/04_add_trial_labels.ipynb#Y155sZmlsZQ%3D%3D?line=0'>1</a>\u001b[0m \u001b[39mraise\u001b[39;00m \u001b[39mValueError\u001b[39;00m(\u001b[39m\"\u001b[39m\u001b[39mThis is not done yet\u001b[39m\u001b[39m\"\u001b[39m)\n",
      "\u001b[0;31mValueError\u001b[0m: This is not done yet"
     ]
    }
   ],
   "source": [
    "raise ValueError(\"This is not done yet\")"
   ]
  },
  {
   "cell_type": "code",
   "execution_count": null,
   "metadata": {},
   "outputs": [],
   "source": [
    "ALL_PHY_DIR"
   ]
  },
  {
   "cell_type": "code",
   "execution_count": null,
   "metadata": {},
   "outputs": [],
   "source": [
    "recording_to_cluster_info = {}\n",
    "for recording_dir in ALL_PHY_DIR:\n",
    "    try:\n",
    "        recording_basename = os.path.basename(recording_dir).strip(\".rec\")\n",
    "        file_path = os.path.join(recording_dir, \"phy\", \"cluster_info.tsv\")\n",
    "        recording_to_cluster_info[recording_basename] = pd.read_csv(file_path, sep=\"\\t\")\n",
    "    except Exception as e:\n",
    "        print(e)"
   ]
  },
  {
   "cell_type": "code",
   "execution_count": null,
   "metadata": {},
   "outputs": [],
   "source": [
    "recording_to_cluster_info[list(recording_to_cluster_info.keys())[1]].head()"
   ]
  },
  {
   "cell_type": "markdown",
   "metadata": {},
   "source": [
    "- Combining all the unit info dataframes and adding the recording name"
   ]
  },
  {
   "cell_type": "code",
   "execution_count": null,
   "metadata": {},
   "outputs": [],
   "source": [
    "recording_to_cluster_info_df = pd.concat(recording_to_cluster_info, names=['recording_name']).reset_index(level=1, drop=True).reset_index()\n"
   ]
  },
  {
   "cell_type": "code",
   "execution_count": null,
   "metadata": {},
   "outputs": [],
   "source": [
    "recording_to_cluster_info_df.head()"
   ]
  },
  {
   "cell_type": "markdown",
   "metadata": {},
   "source": [
    "- Filtering for the good units"
   ]
  },
  {
   "cell_type": "code",
   "execution_count": null,
   "metadata": {},
   "outputs": [],
   "source": [
    "good_unit_cluster_info_df = recording_to_cluster_info_df[recording_to_cluster_info_df[\"group\"] == \"good\"].reset_index(drop=True)"
   ]
  },
  {
   "cell_type": "code",
   "execution_count": null,
   "metadata": {},
   "outputs": [],
   "source": [
    "good_unit_cluster_info_df.head()"
   ]
  },
  {
   "cell_type": "code",
   "execution_count": null,
   "metadata": {},
   "outputs": [],
   "source": [
    "recording_to_good_unit_ids = good_unit_cluster_info_df.groupby('recording_name')['cluster_id'].apply(list).to_dict()"
   ]
  },
  {
   "cell_type": "markdown",
   "metadata": {},
   "source": [
    "- A list of all the unit IDs that each spike came from in order\n",
    "    - First item is first spike, second item is second spike, etc."
   ]
  },
  {
   "cell_type": "code",
   "execution_count": null,
   "metadata": {},
   "outputs": [],
   "source": [
    "recording_to_spike_clusters = {}\n",
    "for recording_dir in ALL_PHY_DIR:\n",
    "    try:\n",
    "        recording_basename = os.path.basename(recording_dir).strip(\".rec\")\n",
    "        file_path = os.path.join(recording_dir, \"phy\", \"spike_clusters.npy\")\n",
    "        recording_to_spike_clusters[recording_basename] = np.load(file_path)\n",
    "    except Exception as e:\n",
    "        print(e)"
   ]
  },
  {
   "cell_type": "code",
   "execution_count": null,
   "metadata": {},
   "outputs": [],
   "source": [
    "recording_to_spike_clusters[list(recording_to_spike_clusters.keys())[0]]"
   ]
  },
  {
   "cell_type": "code",
   "execution_count": null,
   "metadata": {},
   "outputs": [],
   "source": [
    "recording_to_spike_clusters[list(recording_to_spike_clusters.keys())[0]].shape"
   ]
  },
  {
   "cell_type": "markdown",
   "metadata": {},
   "source": [
    "- The times that all the spikes happened"
   ]
  },
  {
   "cell_type": "code",
   "execution_count": null,
   "metadata": {},
   "outputs": [],
   "source": [
    "recording_to_spike_times = {}\n",
    "for recording_dir in ALL_PHY_DIR:\n",
    "    try:\n",
    "        recording_basename = os.path.basename(recording_dir).strip(\".rec\")\n",
    "        file_path = os.path.join(recording_dir, \"phy\", \"spike_times.npy\")\n",
    "        recording_to_spike_times[recording_basename] = np.load(file_path)\n",
    "    except Exception as e:\n",
    "        print(e)"
   ]
  },
  {
   "cell_type": "code",
   "execution_count": null,
   "metadata": {},
   "outputs": [],
   "source": [
    "recording_to_spike_times[list(recording_to_spike_times.keys())[0]]"
   ]
  },
  {
   "cell_type": "code",
   "execution_count": null,
   "metadata": {},
   "outputs": [],
   "source": [
    "recording_to_spike_times[list(recording_to_spike_times.keys())[0]].shape"
   ]
  },
  {
   "cell_type": "markdown",
   "metadata": {},
   "source": [
    "### Combining everything into a dataframe"
   ]
  },
  {
   "cell_type": "code",
   "execution_count": null,
   "metadata": {},
   "outputs": [],
   "source": [
    "recording_to_spike_df = {}\n",
    "for recording_dir in ALL_PHY_DIR:\n",
    "    try:\n",
    "        recording_basename = os.path.basename(recording_dir).strip(\".rec\")\n",
    "        cluster_info_path = os.path.join(recording_dir, \"phy\", \"cluster_info.tsv\")\n",
    "        cluster_info_df = pd.read_csv(cluster_info_path, sep=\"\\t\")\n",
    "\n",
    "        spike_clusters_path = os.path.join(recording_dir, \"phy\", \"spike_clusters.npy\")\n",
    "        spike_clusters = np.load(spike_clusters_path)\n",
    "        \n",
    "        spike_times_path = os.path.join(recording_dir, \"phy\", \"spike_times.npy\")\n",
    "        spike_times = np.load(spike_times_path)\n",
    "\n",
    "        spike_df = pd.DataFrame({'spike_clusters': spike_clusters, 'spike_times': spike_times.T[0]})\n",
    "\n",
    "        merged_df = spike_df.merge(cluster_info_df, left_on='spike_clusters', right_on='cluster_id', how=\"left\")\n",
    "        merged_df[\"recording_name\"] = recording_basename\n",
    "\n",
    "        merged_df[\"timestamp_isi\"] = merged_df.groupby('spike_clusters')[\"spike_times\"].diff()\n",
    "        merged_df[\"current_isi\"] = merged_df[\"timestamp_isi\"] / SAMPLING_RATE\n",
    "        \n",
    "        if not merged_df.empty:\n",
    "            recording_to_spike_df[recording_basename] = merged_df\n",
    "       \n",
    "    except Exception as e:\n",
    "        print(e)"
   ]
  },
  {
   "cell_type": "code",
   "execution_count": null,
   "metadata": {},
   "outputs": [],
   "source": [
    "cluster_info_df.head()"
   ]
  },
  {
   "cell_type": "code",
   "execution_count": null,
   "metadata": {},
   "outputs": [],
   "source": [
    "spike_times"
   ]
  },
  {
   "cell_type": "code",
   "execution_count": null,
   "metadata": {},
   "outputs": [],
   "source": [
    "spike_clusters"
   ]
  },
  {
   "cell_type": "markdown",
   "metadata": {},
   "source": [
    "- Combining the spike time df for all recordings"
   ]
  },
  {
   "cell_type": "code",
   "execution_count": null,
   "metadata": {},
   "outputs": [],
   "source": [
    "all_spike_time_df = pd.concat(recording_to_spike_df.values())"
   ]
  },
  {
   "cell_type": "code",
   "execution_count": null,
   "metadata": {},
   "outputs": [],
   "source": [
    "all_spike_time_df = all_spike_time_df[all_spike_time_df[\"group\"] == \"good\"].reset_index(drop=True)"
   ]
  },
  {
   "cell_type": "code",
   "execution_count": null,
   "metadata": {},
   "outputs": [],
   "source": [
    "all_spike_time_df.head()"
   ]
  },
  {
   "cell_type": "code",
   "execution_count": null,
   "metadata": {},
   "outputs": [],
   "source": [
    "all_spike_time_df.tail()"
   ]
  },
  {
   "cell_type": "markdown",
   "metadata": {},
   "source": [
    "## Grouping all the neurons by recording"
   ]
  },
  {
   "cell_type": "code",
   "execution_count": null,
   "metadata": {},
   "outputs": [],
   "source": [
    "# Grouping all spike times by neuron and recording\n",
    "\n",
    "grouped_df = all_spike_time_df.groupby(['spike_clusters', 'recording_name'])[\"spike_times\"].apply(lambda x: sorted(list(x))).reset_index()\n",
    "grouped_df = grouped_df.sort_values(by=['recording_name', 'spike_clusters']).reset_index(drop=True)\n",
    "grouped_df = grouped_df.groupby('recording_name').agg({'spike_clusters': lambda x: list(x), 'spike_times': lambda x: list(x)}).reset_index()"
   ]
  },
  {
   "cell_type": "code",
   "execution_count": null,
   "metadata": {},
   "outputs": [],
   "source": [
    "grouped_df"
   ]
  },
  {
   "cell_type": "code",
   "execution_count": null,
   "metadata": {},
   "outputs": [],
   "source": [
    "VIDEO_TO_FRAME_AND_SUBJECT_DF = pd.merge(VIDEO_TO_FRAME_AND_SUBJECT_DF, grouped_df, left_on='recording', right_on=\"recording_name\", how='inner')"
   ]
  },
  {
   "cell_type": "markdown",
   "metadata": {},
   "source": [
    "## Calculating the firing rates"
   ]
  },
  {
   "cell_type": "code",
   "execution_count": null,
   "metadata": {},
   "outputs": [],
   "source": [
    "VIDEO_TO_FRAME_AND_SUBJECT_DF.columns"
   ]
  },
  {
   "cell_type": "code",
   "execution_count": null,
   "metadata": {},
   "outputs": [],
   "source": [
    "VIDEO_TO_FRAME_AND_SUBJECT_DF.head()"
   ]
  },
  {
   "cell_type": "code",
   "execution_count": null,
   "metadata": {},
   "outputs": [],
   "source": [
    "VIDEO_TO_FRAME_AND_SUBJECT_DF[\"neuron_average_fr\"] = VIDEO_TO_FRAME_AND_SUBJECT_DF.apply(lambda x: np.array([neuron.spikes.calculate_rolling_avg_firing_rate(np.array(times), stop_time=x[\"start_stop_timestamps\"][1], window_size=SPIKE_WINDOW, slide=SPIKE_WINDOW)[0] for times in x[\"spike_times\"]]), axis=1)"
   ]
  },
  {
   "cell_type": "code",
   "execution_count": null,
   "metadata": {},
   "outputs": [],
   "source": [
    "VIDEO_TO_FRAME_AND_SUBJECT_DF[\"neuron_average_timestamps\"] = VIDEO_TO_FRAME_AND_SUBJECT_DF.apply(lambda x: neuron.spikes.calculate_rolling_avg_firing_rate(x[\"spike_times\"][0], stop_time=x[\"start_stop_timestamps\"][1], window_size=SPIKE_WINDOW, slide=SPIKE_WINDOW)[1], axis=1)"
   ]
  },
  {
   "cell_type": "code",
   "execution_count": null,
   "metadata": {},
   "outputs": [],
   "source": [
    "VIDEO_TO_FRAME_AND_SUBJECT_DF[\"neuron_average_fr\"] = VIDEO_TO_FRAME_AND_SUBJECT_DF.apply(lambda x: x[\"neuron_average_fr\"] * SPIKE_WINDOW, axis=1)"
   ]
  },
  {
   "cell_type": "code",
   "execution_count": null,
   "metadata": {},
   "outputs": [],
   "source": [
    "VIDEO_TO_FRAME_AND_SUBJECT_DF.iloc[:5,:10]"
   ]
  },
  {
   "cell_type": "code",
   "execution_count": null,
   "metadata": {},
   "outputs": [],
   "source": [
    "VIDEO_TO_FRAME_AND_SUBJECT_DF.iloc[:5,10:20]"
   ]
  },
  {
   "cell_type": "code",
   "execution_count": null,
   "metadata": {},
   "outputs": [],
   "source": [
    "VIDEO_TO_FRAME_AND_SUBJECT_DF.iloc[:5,20:30]"
   ]
  },
  {
   "cell_type": "code",
   "execution_count": null,
   "metadata": {},
   "outputs": [],
   "source": [
    "VIDEO_TO_FRAME_AND_SUBJECT_DF.iloc[:5, 30:]"
   ]
  },
  {
   "cell_type": "code",
   "execution_count": null,
   "metadata": {},
   "outputs": [],
   "source": [
    "VIDEO_TO_FRAME_AND_SUBJECT_DF[\"neuron_average_timestamps\"].iloc[0].shape"
   ]
  },
  {
   "cell_type": "code",
   "execution_count": null,
   "metadata": {},
   "outputs": [],
   "source": [
    "VIDEO_TO_FRAME_AND_SUBJECT_DF[\"neuron_average_fr\"].iloc[0].shape"
   ]
  },
  {
   "cell_type": "code",
   "execution_count": null,
   "metadata": {},
   "outputs": [],
   "source": [
    "np.max(VIDEO_TO_FRAME_AND_SUBJECT_DF[\"neuron_average_fr\"].iloc[0])"
   ]
  },
  {
   "cell_type": "code",
   "execution_count": null,
   "metadata": {},
   "outputs": [],
   "source": [
    "VIDEO_TO_FRAME_AND_SUBJECT_DF.to_pickle(os.path.join(OUTPUT_DIR, FULL_LFP_TRACES_PKL))"
   ]
  },
  {
   "cell_type": "code",
   "execution_count": null,
   "metadata": {},
   "outputs": [],
   "source": [
    "raise ValueError(\"\")"
   ]
  }
 ],
 "metadata": {
  "deepnote": {},
  "deepnote_execution_queue": [],
  "deepnote_notebook_id": "cf8fe3695d074ee7887fdf6459cbf5ce",
  "kernelspec": {
   "display_name": "Python 3 (ipykernel)",
   "language": "python",
   "name": "python3"
  },
  "language_info": {
   "codemirror_mode": {
    "name": "ipython",
    "version": 3
   },
   "file_extension": ".py",
   "mimetype": "text/x-python",
   "name": "python",
   "nbconvert_exporter": "python",
   "pygments_lexer": "ipython3",
   "version": "3.10.13"
  }
 },
 "nbformat": 4,
 "nbformat_minor": 4
}
