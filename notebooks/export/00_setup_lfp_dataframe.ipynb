{
 "cells": [
  {
   "cell_type": "markdown",
   "metadata": {
    "cell_id": "c3a02adc9e884466bc8c79db549cc3d2",
    "deepnote_cell_type": "text-cell-h1",
    "formattedRanges": [
     {
      "fromCodePoint": 0,
      "marks": {
       "bold": true,
       "underline": true
      },
      "toCodePoint": 17,
      "type": "marks"
     }
    ]
   },
   "source": [
    "# Notebook 0: Setup LFP trial dataframe"
   ]
  },
  {
   "cell_type": "markdown",
   "metadata": {},
   "source": [
    "Purpose:\n",
    "---------\n",
    "This notebook is dedicated to extracting local field potential (LFP) traces from Spikegadgets .rec files \n",
    "for the purpose of analyzing social competition trials in neuroscience research. The notebook processes \n",
    "the raw electrophysiology data, synchronizes it with corresponding video data, and computes various metrics.\n",
    "\n",
    "Dataframe Columns Description:\n",
    "------------------------------\n",
    "- time: Spikegadgets timestamp used during recording.\n",
    "- state: The state of the environmental control unit's (ECU) input for Spikegadgets recordings.\n",
    "- recording_dir: Directory path where the recording file is located.\n",
    "- recording_file: Base name of the recording file without the extension.\n",
    "- din: Identifier of the input from the Spikegadgets ECU.\n",
    "- time_stamp_index: Index representing the specific timestamp of the recording.\n",
    "- video_file: Basename of the associated video file for the trial.\n",
    "- video_frame: Specific video frame number corresponding to the trial.\n",
    "- video_number: Unique number identifying the video associated with the trial.\n",
    "- subject_info: Information about the subject, such as ID, age, or other relevant details.\n",
    "- condition: Label categorizing the trial, typically based on experimental conditions.\n",
    "- competition_closeness: Secondary label detailing the competitive closeness of the trial.\n",
    "- lfp_index: Index associated with the LFP data for the trial.\n",
    "- video_name: Basename of the video file associated with the LFP recording.\n",
    "- baseline_lfp_index_range: Range of LFP indices representing the baseline period of the trial.\n",
    "- trial_lfp_index_range: Range of LFP indices corresponding to the actual trial period.\n",
    "- baseline_ephys_index_range: Range of electrophysiology (ephys) indices representing the baseline period.\n",
    "- trial_ephys_index_range: Range of ephys indices corresponding to the trial period.\n",
    "- baseline_videoframe_range: Range of video frames representing the baseline period of the trial.\n",
    "- trial_videoframe_range: Range of video frames corresponding to the trial period.\n",
    "- all_subjects: List or array of all subjects involved in the trials.\n",
    "- current_subject: ID number or identifier of the subject for the current row in the DataFrame.\n",
    "- trial_outcome: Updated trial label based on the \"condition\" column.\n",
    "\n",
    "Processing Steps:\n",
    "-----------------\n",
    "1. Importing necessary libraries and setting up the environment.\n",
    "2. Loading and preprocessing the tone timestamp data from an Excel file.\n",
    "3. Identifying and processing all session directories containing .rec files.\n",
    "4. Reformatting the DataFrame for analysis, including dropping unnecessary rows and columns.\n",
    "5. Adding columns for different timestamps and ranges (LFP, ephys, video frames).\n",
    "6. Converting trial labels to 'win' or 'lose' based on trial outcomes.\n",
    "7. Adding a column for competition closeness and reformatting it.\n",
    "8. Saving the processed DataFrame to a specified output directory.\n",
    "\n",
    "Outputs:\n",
    "--------\n",
    "- Processed DataFrame saved as a CSV file, containing synchronized and labeled LFP and video data.\n",
    "- Plots or other outputs can be added as per the project's specific analysis requirements.\n",
    "\n",
    "Usage:\n",
    "------\n",
    "- Run the cells in order as they appear.\n",
    "- Ensure that the file paths and directory names match your project's structure.\n",
    "- Customize processing steps according to your project's specific needs.\n",
    "\n",
    "Note:\n",
    "-----\n",
    "- This notebook is part of a larger research project. Ensure compatibility with other components of the project.\n",
    "- The notebook is configured for a specific dataset structure and might require modifications for different data formats."
   ]
  },
  {
   "cell_type": "code",
   "execution_count": 1,
   "metadata": {
    "tags": []
   },
   "outputs": [],
   "source": [
    "import sys\n",
    "import os\n",
    "import git"
   ]
  },
  {
   "cell_type": "code",
   "execution_count": 2,
   "metadata": {
    "tags": []
   },
   "outputs": [],
   "source": [
    "git_repo = git.Repo(\".\", search_parent_directories=True)\n",
    "git_root = git_repo.git.rev_parse(\"--show-toplevel\")"
   ]
  },
  {
   "cell_type": "code",
   "execution_count": 3,
   "metadata": {
    "tags": []
   },
   "outputs": [
    {
     "data": {
      "text/plain": [
       "'/blue/npadillacoreano/ryoi360/projects/reward_competition_extention'"
      ]
     },
     "execution_count": 3,
     "metadata": {},
     "output_type": "execute_result"
    }
   ],
   "source": [
    "git_root"
   ]
  },
  {
   "cell_type": "code",
   "execution_count": 4,
   "metadata": {
    "tags": []
   },
   "outputs": [],
   "source": [
    "sys.path.insert(0, os.path.join(git_root, 'src'))"
   ]
  },
  {
   "cell_type": "code",
   "execution_count": 5,
   "metadata": {
    "cell_id": "03b495cefa6a4798a44c7f2e4c6a3ea7",
    "deepnote_cell_type": "code",
    "deepnote_to_be_reexecuted": false,
    "execution_millis": 21,
    "execution_start": 1691424003626,
    "source_hash": null,
    "tags": []
   },
   "outputs": [],
   "source": [
    "# Imports of all used packages and libraries\n",
    "import glob\n",
    "import numpy as np\n",
    "import pandas as pd"
   ]
  },
  {
   "cell_type": "code",
   "execution_count": 6,
   "metadata": {
    "tags": []
   },
   "outputs": [],
   "source": [
    "import spikeinterface.extractors as se\n",
    "import spikeinterface.preprocessing as sp"
   ]
  },
  {
   "cell_type": "code",
   "execution_count": 7,
   "metadata": {
    "tags": []
   },
   "outputs": [],
   "source": [
    "from utilities import helper"
   ]
  },
  {
   "cell_type": "markdown",
   "metadata": {
    "cell_id": "d290bac2c17940bfbc0f9296beaf70e5",
    "deepnote_cell_type": "text-cell-h2",
    "formattedRanges": []
   },
   "source": [
    "## Inputs & Data"
   ]
  },
  {
   "cell_type": "markdown",
   "metadata": {
    "cell_id": "e528ce19c608425292151930d380f49f",
    "deepnote_cell_type": "text-cell-p",
    "formattedRanges": []
   },
   "source": [
    "Explanation of each input and where it comes from."
   ]
  },
  {
   "cell_type": "code",
   "execution_count": 8,
   "metadata": {
    "tags": []
   },
   "outputs": [],
   "source": [
    "EPHYS_SAMPLING_RATE = 20000\n",
    "LFP_SAMPLING_RATE = 1000\n",
    "TRIAL_DURATION = 10\n",
    "FRAME_RATE = 22\n",
    "ECU_STREAM_ID = \"ECU\"\n",
    "TRODES_STREAM_ID = \"trodes\"\n",
    "LFP_FREQ_MIN = 0.5\n",
    "LFP_FREQ_MAX = 300\n",
    "ELECTRIC_NOISE_FREQ = 60\n",
    "RECORDING_EXTENTION = \"*.rec\""
   ]
  },
  {
   "cell_type": "code",
   "execution_count": 9,
   "metadata": {
    "tags": []
   },
   "outputs": [],
   "source": [
    "EPHYS_INDEX_COL = \"time_stamp_index\"\n",
    "LFP_INDEX_COL = \"lfp_index\"\n",
    "EPHYS_TIMESTAMP_COL = \"time\""
   ]
  },
  {
   "cell_type": "code",
   "execution_count": 10,
   "metadata": {
    "tags": []
   },
   "outputs": [],
   "source": [
    "ORIGINAL_TRIAL_COL = \"condition\"\n",
    "TRIAL_OUTCOME_COL = \"trial_outcome\"\n",
    "RECORDING_DIR_COL = \"recording_dir\"\n",
    "VIDEO_FRAME_COL = \"video_frame\""
   ]
  },
  {
   "cell_type": "code",
   "execution_count": 11,
   "metadata": {
    "tags": []
   },
   "outputs": [],
   "source": [
    "STATE_COL = \"state\"\n",
    "RECORDING_FILE_COL = \"recording_file\"\n",
    "DIN_COL = \"din\"\n",
    "TIME_STAMP_INDEX_COL = \"time_stamp_index\"\n",
    "VIDEO_FILE_COL = \"video_file\"\n",
    "VIDEO_NUMBER_COL = \"video_number\"\n",
    "SUBJECT_INFO_COL = \"subject_info\"\n",
    "COMPETITION_CLOSENESS_COL = \"competition_closeness\"\n",
    "VIDEO_NAME_COL = \"video_name\"\n",
    "BASELINE_LFP_INDEX_RANGE_COL = \"baseline_lfp_index_range\"\n",
    "TRIAL_LFP_INDEX_RANGE_COL = \"trial_lfp_index_range\"\n",
    "BASELINE_EPHYS_INDEX_RANGE_COL = \"baseline_ephys_index_range\"\n",
    "TRIAL_EPHYS_INDEX_RANGE_COL = \"trial_ephys_index_range\"\n",
    "BASELINE_VIDEOFRAME_RANGE_COL = \"baseline_videoframe_range\"\n",
    "TRIAL_VIDEOFRAME_RANGE_COL = \"trial_videoframe_range\"\n",
    "ALL_SUBJECTS_COL = \"all_subjects\"\n",
    "CURRENT_SUBJECT_COL = \"current_subject\"\n"
   ]
  },
  {
   "cell_type": "code",
   "execution_count": 12,
   "metadata": {
    "tags": []
   },
   "outputs": [],
   "source": [
    "# NOTE: Change based on individual project data location\n",
    "\n",
    "# Spreadsheet of tone time\n",
    "TONE_TIMESTAMP_DF = pd.read_excel(os.path.join(git_root, \"data/rce_per_trial_labeling.xlsx\"), index_col=0)"
   ]
  },
  {
   "cell_type": "code",
   "execution_count": 13,
   "metadata": {
    "tags": []
   },
   "outputs": [
    {
     "data": {
      "text/html": [
       "<div>\n",
       "<style scoped>\n",
       "    .dataframe tbody tr th:only-of-type {\n",
       "        vertical-align: middle;\n",
       "    }\n",
       "\n",
       "    .dataframe tbody tr th {\n",
       "        vertical-align: top;\n",
       "    }\n",
       "\n",
       "    .dataframe thead th {\n",
       "        text-align: right;\n",
       "    }\n",
       "</style>\n",
       "<table border=\"1\" class=\"dataframe\">\n",
       "  <thead>\n",
       "    <tr style=\"text-align: right;\">\n",
       "      <th></th>\n",
       "      <th>time</th>\n",
       "      <th>state</th>\n",
       "      <th>recording_dir</th>\n",
       "      <th>recording_file</th>\n",
       "      <th>din</th>\n",
       "      <th>time_stamp_index</th>\n",
       "      <th>video_file</th>\n",
       "      <th>video_frame</th>\n",
       "      <th>reward_frame</th>\n",
       "      <th>video_number</th>\n",
       "      <th>subject_info</th>\n",
       "      <th>condition</th>\n",
       "      <th>competition_closeness</th>\n",
       "      <th>Unnamed: 14</th>\n",
       "    </tr>\n",
       "  </thead>\n",
       "  <tbody>\n",
       "    <tr>\n",
       "      <th>2299.0</th>\n",
       "      <td>3772337.0</td>\n",
       "      <td>1.0</td>\n",
       "      <td>20221122_161341_omission_subject_6_1_and_6_3</td>\n",
       "      <td>20221122_161341_omission_subject_6_1_top_4_base_2</td>\n",
       "      <td>dio_ECU_Din1</td>\n",
       "      <td>0.0</td>\n",
       "      <td>20221122_161341_omission_subject_6_1_and_6_3.1...</td>\n",
       "      <td>0.0</td>\n",
       "      <td>80.0</td>\n",
       "      <td>1.0</td>\n",
       "      <td>6_1_top_4_base_2</td>\n",
       "      <td>NaN</td>\n",
       "      <td>NaN</td>\n",
       "      <td>NaN</td>\n",
       "    </tr>\n",
       "    <tr>\n",
       "      <th>2300.0</th>\n",
       "      <td>5204112.0</td>\n",
       "      <td>1.0</td>\n",
       "      <td>20221122_161341_omission_subject_6_1_and_6_3</td>\n",
       "      <td>20221122_161341_omission_subject_6_1_top_4_base_2</td>\n",
       "      <td>dio_ECU_Din1</td>\n",
       "      <td>1431775.0</td>\n",
       "      <td>20221122_161341_omission_subject_6_1_and_6_3.1...</td>\n",
       "      <td>1784.0</td>\n",
       "      <td>1864.0</td>\n",
       "      <td>1.0</td>\n",
       "      <td>6_1_top_4_base_2</td>\n",
       "      <td>NaN</td>\n",
       "      <td>NaN</td>\n",
       "      <td>NaN</td>\n",
       "    </tr>\n",
       "    <tr>\n",
       "      <th>2301.0</th>\n",
       "      <td>6804107.0</td>\n",
       "      <td>1.0</td>\n",
       "      <td>20221122_161341_omission_subject_6_1_and_6_3</td>\n",
       "      <td>20221122_161341_omission_subject_6_1_top_4_base_2</td>\n",
       "      <td>dio_ECU_Din1</td>\n",
       "      <td>3031770.0</td>\n",
       "      <td>20221122_161341_omission_subject_6_1_and_6_3.1...</td>\n",
       "      <td>3779.0</td>\n",
       "      <td>3859.0</td>\n",
       "      <td>1.0</td>\n",
       "      <td>6_1_top_4_base_2</td>\n",
       "      <td>NaN</td>\n",
       "      <td>NaN</td>\n",
       "      <td>NaN</td>\n",
       "    </tr>\n",
       "    <tr>\n",
       "      <th>2302.0</th>\n",
       "      <td>8604101.0</td>\n",
       "      <td>1.0</td>\n",
       "      <td>20221122_161341_omission_subject_6_1_and_6_3</td>\n",
       "      <td>20221122_161341_omission_subject_6_1_top_4_base_2</td>\n",
       "      <td>dio_ECU_Din1</td>\n",
       "      <td>4831764.0</td>\n",
       "      <td>20221122_161341_omission_subject_6_1_and_6_3.1...</td>\n",
       "      <td>6021.0</td>\n",
       "      <td>6101.0</td>\n",
       "      <td>1.0</td>\n",
       "      <td>6_1_top_4_base_2</td>\n",
       "      <td>NaN</td>\n",
       "      <td>NaN</td>\n",
       "      <td>NaN</td>\n",
       "    </tr>\n",
       "    <tr>\n",
       "      <th>2303.0</th>\n",
       "      <td>10204096.0</td>\n",
       "      <td>1.0</td>\n",
       "      <td>20221122_161341_omission_subject_6_1_and_6_3</td>\n",
       "      <td>20221122_161341_omission_subject_6_1_top_4_base_2</td>\n",
       "      <td>dio_ECU_Din1</td>\n",
       "      <td>6431759.0</td>\n",
       "      <td>20221122_161341_omission_subject_6_1_and_6_3.1...</td>\n",
       "      <td>8015.0</td>\n",
       "      <td>8095.0</td>\n",
       "      <td>1.0</td>\n",
       "      <td>6_1_top_4_base_2</td>\n",
       "      <td>NaN</td>\n",
       "      <td>NaN</td>\n",
       "      <td>NaN</td>\n",
       "    </tr>\n",
       "  </tbody>\n",
       "</table>\n",
       "</div>"
      ],
      "text/plain": [
       "              time  state                                 recording_dir  \\\n",
       "2299.0   3772337.0    1.0  20221122_161341_omission_subject_6_1_and_6_3   \n",
       "2300.0   5204112.0    1.0  20221122_161341_omission_subject_6_1_and_6_3   \n",
       "2301.0   6804107.0    1.0  20221122_161341_omission_subject_6_1_and_6_3   \n",
       "2302.0   8604101.0    1.0  20221122_161341_omission_subject_6_1_and_6_3   \n",
       "2303.0  10204096.0    1.0  20221122_161341_omission_subject_6_1_and_6_3   \n",
       "\n",
       "                                           recording_file           din  \\\n",
       "2299.0  20221122_161341_omission_subject_6_1_top_4_base_2  dio_ECU_Din1   \n",
       "2300.0  20221122_161341_omission_subject_6_1_top_4_base_2  dio_ECU_Din1   \n",
       "2301.0  20221122_161341_omission_subject_6_1_top_4_base_2  dio_ECU_Din1   \n",
       "2302.0  20221122_161341_omission_subject_6_1_top_4_base_2  dio_ECU_Din1   \n",
       "2303.0  20221122_161341_omission_subject_6_1_top_4_base_2  dio_ECU_Din1   \n",
       "\n",
       "        time_stamp_index                                         video_file  \\\n",
       "2299.0               0.0  20221122_161341_omission_subject_6_1_and_6_3.1...   \n",
       "2300.0         1431775.0  20221122_161341_omission_subject_6_1_and_6_3.1...   \n",
       "2301.0         3031770.0  20221122_161341_omission_subject_6_1_and_6_3.1...   \n",
       "2302.0         4831764.0  20221122_161341_omission_subject_6_1_and_6_3.1...   \n",
       "2303.0         6431759.0  20221122_161341_omission_subject_6_1_and_6_3.1...   \n",
       "\n",
       "        video_frame  reward_frame  video_number      subject_info condition  \\\n",
       "2299.0          0.0          80.0           1.0  6_1_top_4_base_2       NaN   \n",
       "2300.0       1784.0        1864.0           1.0  6_1_top_4_base_2       NaN   \n",
       "2301.0       3779.0        3859.0           1.0  6_1_top_4_base_2       NaN   \n",
       "2302.0       6021.0        6101.0           1.0  6_1_top_4_base_2       NaN   \n",
       "2303.0       8015.0        8095.0           1.0  6_1_top_4_base_2       NaN   \n",
       "\n",
       "       competition_closeness Unnamed: 14  \n",
       "2299.0                   NaN         NaN  \n",
       "2300.0                   NaN         NaN  \n",
       "2301.0                   NaN         NaN  \n",
       "2302.0                   NaN         NaN  \n",
       "2303.0                   NaN         NaN  "
      ]
     },
     "execution_count": 13,
     "metadata": {},
     "output_type": "execute_result"
    }
   ],
   "source": [
    "TONE_TIMESTAMP_DF.head()"
   ]
  },
  {
   "cell_type": "code",
   "execution_count": 14,
   "metadata": {
    "tags": []
   },
   "outputs": [],
   "source": [
    "# NOTE: Change based on individual project data location\n",
    "# Where all the recording files are being saved\n",
    "ALL_SESSION_DIR = glob.glob(\"/blue/npadillacoreano/ryoi360/reward_competition_extention/data/standard/2023_06_16/*.rec\")"
   ]
  },
  {
   "cell_type": "code",
   "execution_count": 15,
   "metadata": {
    "tags": []
   },
   "outputs": [
    {
     "data": {
      "text/plain": [
       "['/blue/npadillacoreano/ryoi360/reward_competition_extention/data/standard/2023_06_16/20230616_111904_standard_comp_to_training_D4_subj_1-4_and_1-2.rec']"
      ]
     },
     "execution_count": 15,
     "metadata": {},
     "output_type": "execute_result"
    }
   ],
   "source": [
    "ALL_SESSION_DIR"
   ]
  },
  {
   "cell_type": "markdown",
   "metadata": {
    "cell_id": "e3ee4891d43a4ac287413afc552ca289",
    "deepnote_cell_type": "text-cell-h2",
    "formattedRanges": []
   },
   "source": [
    "## Outputs"
   ]
  },
  {
   "cell_type": "markdown",
   "metadata": {
    "cell_id": "9ccbf6cc70fd4d379fa29317f733771f",
    "deepnote_cell_type": "text-cell-p",
    "formattedRanges": []
   },
   "source": [
    "Describe each output that the notebook creates. "
   ]
  },
  {
   "cell_type": "markdown",
   "metadata": {
    "cell_id": "fc8e8920a6944918a15fac575cdf6e78",
    "deepnote_cell_type": "text-cell-bullet",
    "formattedRanges": []
   },
   "source": [
    "- Is it a plot or is it data?"
   ]
  },
  {
   "cell_type": "markdown",
   "metadata": {
    "cell_id": "1e639d4776a84aa9ac8ded2e14fa57db",
    "deepnote_cell_type": "text-cell-bullet",
    "formattedRanges": []
   },
   "source": [
    "- How valuable is the output and why is it valuable or useful?"
   ]
  },
  {
   "cell_type": "code",
   "execution_count": 16,
   "metadata": {
    "cell_id": "6cf83a5811054461a718a71673d09aab",
    "deepnote_cell_type": "code",
    "deepnote_to_be_reexecuted": false,
    "execution_millis": 373,
    "execution_start": 1691424003628,
    "source_hash": null,
    "tags": []
   },
   "outputs": [],
   "source": [
    "# Inputs and Required data loading\n",
    "# input varaible names are in all caps snake case\n",
    "# Whenever an input changes or is used for processing \n",
    "# the vairables are all lower in snake case\n",
    "OUTPUT_DIR = r\"../../proc/\" # where data is saved should always be shown in the inputs\n",
    "os.makedirs(OUTPUT_DIR, exist_ok=True)"
   ]
  },
  {
   "cell_type": "code",
   "execution_count": 17,
   "metadata": {
    "tags": []
   },
   "outputs": [],
   "source": [
    "TONE_TIMESTAMPS_CSV = \"rce_tone_timestamps.csv\"\n",
    "TONE_TIMESTAMPS_PKL = \"rce_tone_timestamps.pkl\""
   ]
  },
  {
   "cell_type": "markdown",
   "metadata": {},
   "source": [
    "# Functions"
   ]
  },
  {
   "cell_type": "code",
   "execution_count": null,
   "metadata": {},
   "outputs": [],
   "source": []
  },
  {
   "cell_type": "markdown",
   "metadata": {
    "cell_id": "8999d19b6b7d4d63bc90f0b0bd9ab085",
    "deepnote_cell_type": "text-cell-h2",
    "formattedRanges": []
   },
   "source": [
    "## Processing"
   ]
  },
  {
   "cell_type": "markdown",
   "metadata": {
    "cell_id": "9b36cdf08567463082b005cb0dec684b",
    "deepnote_cell_type": "text-cell-p",
    "formattedRanges": []
   },
   "source": [
    "Describe what is done to the data here and how inputs are manipulated to generate outputs. "
   ]
  },
  {
   "cell_type": "code",
   "execution_count": 18,
   "metadata": {
    "cell_id": "89aaba237c644628b1b37604b75e7cb1",
    "deepnote_cell_type": "code"
   },
   "outputs": [],
   "source": [
    "# As much code and as many cells as required\n",
    "# includes EDA and playing with data\n",
    "# GO HAM!\n",
    "\n",
    "# Ideally functions are defined here first and then data is processed using the functions\n",
    "\n",
    "# function names are short and in snake case all lowercase\n",
    "# a function name should be unique but does not have to describe the function\n",
    "# doc strings describe functions not function names\n",
    "\n",
    "\n"
   ]
  },
  {
   "cell_type": "markdown",
   "metadata": {},
   "source": [
    "# Reformatting Dataframe"
   ]
  },
  {
   "cell_type": "markdown",
   "metadata": {},
   "source": [
    "- Dropping all rows that have not been labeled"
   ]
  },
  {
   "cell_type": "code",
   "execution_count": 19,
   "metadata": {
    "tags": []
   },
   "outputs": [],
   "source": [
    "TONE_TIMESTAMP_DF = TONE_TIMESTAMP_DF.dropna(subset=ORIGINAL_TRIAL_COL).reset_index(drop=True)"
   ]
  },
  {
   "cell_type": "code",
   "execution_count": 20,
   "metadata": {
    "tags": []
   },
   "outputs": [
    {
     "data": {
      "text/plain": [
       "['20221202_134600_omission_and_competition_subject_6_1_and_6_2',\n",
       " '20221203_154800_omission_and_competition_subject_6_4_and_6_1',\n",
       " '20221214_125409_om_and_comp_6_1_and_6_3',\n",
       " '20221215_145401_comp_amd_om_6_1_and_6_3',\n",
       " '20230612_101430_standard_comp_to_training_D1_subj_1-4_and_1-3',\n",
       " '20230612_112630_standard_comp_to_training_D1_subj_1-2_and_1-1',\n",
       " '20230613_105657_standard_comp_to_training_D2_subj_1-1_and_1-4',\n",
       " '20230614_114041_standard_comp_to_training_D3_subj_1-1_and_1-2',\n",
       " '20230616_111904_standard_comp_to_training_D4_subj_1-4_and_1-2',\n",
       " '20230617_115521_standard_comp_to_omission_D1_subj_1-1_and_1-2',\n",
       " '20230618_100636_standard_comp_to_omission_D2_subj_1-4_and_1-1',\n",
       " '20230619_115321_standard_comp_to_omission_D3_subj_1-2_and_1-4',\n",
       " '20230620_114347_standard_comp_to_omission_D4_subj_1-2_and_1-1',\n",
       " '20230621_111240_standard_comp_to_omission_D5_subj_1-4_and_1-2',\n",
       " '20230622_110832_standard_comp_to_both_rewarded_D1_subj_1-1_and_1-2',\n",
       " '20230624_105855_standard_comp_to_both_rewarded_D3_subj_1-2_and_1-4',\n",
       " '20230625_112913_standard_comp_to_both_rewarded_D4_subj_1-1_and_1-4',\n",
       " '20230628_111202_standard_comp_to_novel_agent_D1_subj_1-1vs2-2and1-2vs2-1']"
      ]
     },
     "execution_count": 20,
     "metadata": {},
     "output_type": "execute_result"
    }
   ],
   "source": [
    "sorted(TONE_TIMESTAMP_DF[RECORDING_DIR_COL].unique())"
   ]
  },
  {
   "cell_type": "markdown",
   "metadata": {},
   "source": [
    "- Adding the LFP index"
   ]
  },
  {
   "cell_type": "code",
   "execution_count": 21,
   "metadata": {
    "tags": []
   },
   "outputs": [],
   "source": [
    "TONE_TIMESTAMP_DF[EPHYS_INDEX_COL] = TONE_TIMESTAMP_DF[EPHYS_INDEX_COL].astype(int)"
   ]
  },
  {
   "cell_type": "code",
   "execution_count": 22,
   "metadata": {
    "tags": []
   },
   "outputs": [],
   "source": [
    "TONE_TIMESTAMP_DF[EPHYS_TIMESTAMP_COL] = TONE_TIMESTAMP_DF[EPHYS_TIMESTAMP_COL].astype(int)"
   ]
  },
  {
   "cell_type": "code",
   "execution_count": 23,
   "metadata": {
    "tags": []
   },
   "outputs": [],
   "source": [
    "TONE_TIMESTAMP_DF[LFP_INDEX_COL] = (TONE_TIMESTAMP_DF[EPHYS_INDEX_COL] // (EPHYS_SAMPLING_RATE/LFP_SAMPLING_RATE)).astype(int)"
   ]
  },
  {
   "cell_type": "markdown",
   "metadata": {},
   "source": [
    "- Making the video frame number usable"
   ]
  },
  {
   "cell_type": "code",
   "execution_count": 24,
   "metadata": {
    "tags": []
   },
   "outputs": [],
   "source": [
    "TONE_TIMESTAMP_DF[VIDEO_FRAME_COL] = TONE_TIMESTAMP_DF[VIDEO_FRAME_COL].astype(int)"
   ]
  },
  {
   "cell_type": "markdown",
   "metadata": {},
   "source": [
    "- Getting the name of the video so that we can sync it up with the ephys recording"
   ]
  },
  {
   "cell_type": "code",
   "execution_count": 25,
   "metadata": {
    "tags": []
   },
   "outputs": [],
   "source": [
    "TONE_TIMESTAMP_DF[VIDEO_NAME_COL]  = TONE_TIMESTAMP_DF[VIDEO_FILE_COL].apply(lambda x: x.strip(\".videoTimeStamps.cameraHWSync\"))"
   ]
  },
  {
   "cell_type": "markdown",
   "metadata": {},
   "source": [
    "- Making columns of the different timestamps"
   ]
  },
  {
   "cell_type": "code",
   "execution_count": 26,
   "metadata": {
    "tags": []
   },
   "outputs": [],
   "source": [
    "TONE_TIMESTAMP_DF[BASELINE_LFP_INDEX_RANGE_COL] = TONE_TIMESTAMP_DF[LFP_INDEX_COL].apply(lambda x: (x - TRIAL_DURATION * LFP_SAMPLING_RATE, x))"
   ]
  },
  {
   "cell_type": "code",
   "execution_count": 27,
   "metadata": {
    "tags": []
   },
   "outputs": [],
   "source": [
    "TONE_TIMESTAMP_DF[TRIAL_LFP_INDEX_RANGE_COL] = TONE_TIMESTAMP_DF[LFP_INDEX_COL].apply(lambda x: (x, x + TRIAL_DURATION * LFP_SAMPLING_RATE))"
   ]
  },
  {
   "cell_type": "code",
   "execution_count": 28,
   "metadata": {
    "tags": []
   },
   "outputs": [],
   "source": [
    "TONE_TIMESTAMP_DF[BASELINE_EPHYS_INDEX_RANGE_COL] = TONE_TIMESTAMP_DF[EPHYS_INDEX_COL].apply(lambda x: (x - TRIAL_DURATION * EPHYS_SAMPLING_RATE, x))"
   ]
  },
  {
   "cell_type": "code",
   "execution_count": 29,
   "metadata": {
    "tags": []
   },
   "outputs": [],
   "source": [
    "TONE_TIMESTAMP_DF[TRIAL_EPHYS_INDEX_RANGE_COL] = TONE_TIMESTAMP_DF[EPHYS_INDEX_COL].apply(lambda x: (x, x + TRIAL_DURATION * EPHYS_SAMPLING_RATE))"
   ]
  },
  {
   "cell_type": "code",
   "execution_count": 30,
   "metadata": {
    "tags": []
   },
   "outputs": [],
   "source": [
    "TONE_TIMESTAMP_DF[BASELINE_VIDEOFRAME_RANGE_COL] = TONE_TIMESTAMP_DF[VIDEO_FRAME_COL].apply(lambda x: (x - TRIAL_DURATION * FRAME_RATE, x))"
   ]
  },
  {
   "cell_type": "code",
   "execution_count": 31,
   "metadata": {
    "tags": []
   },
   "outputs": [],
   "source": [
    "TONE_TIMESTAMP_DF[TRIAL_VIDEOFRAME_RANGE_COL] = TONE_TIMESTAMP_DF[VIDEO_FRAME_COL].apply(lambda x: (x, x + TRIAL_DURATION * FRAME_RATE))"
   ]
  },
  {
   "cell_type": "code",
   "execution_count": 32,
   "metadata": {
    "tags": []
   },
   "outputs": [
    {
     "data": {
      "text/plain": [
       "Index(['time', 'state', 'recording_dir', 'recording_file', 'din',\n",
       "       'time_stamp_index', 'video_file', 'video_frame', 'reward_frame',\n",
       "       'video_number', 'subject_info', 'condition', 'competition_closeness',\n",
       "       'Unnamed: 14', 'lfp_index', 'video_name', 'baseline_lfp_index_range',\n",
       "       'trial_lfp_index_range', 'baseline_ephys_index_range',\n",
       "       'trial_ephys_index_range', 'baseline_videoframe_range',\n",
       "       'trial_videoframe_range'],\n",
       "      dtype='object')"
      ]
     },
     "execution_count": 32,
     "metadata": {},
     "output_type": "execute_result"
    }
   ],
   "source": [
    "TONE_TIMESTAMP_DF.columns"
   ]
  },
  {
   "cell_type": "code",
   "execution_count": 33,
   "metadata": {
    "tags": []
   },
   "outputs": [],
   "source": [
    "TONE_TIMESTAMP_DF = TONE_TIMESTAMP_DF.drop(columns=[\"state\", \"din\", \"Unnamed: 13\"], errors=\"ignore\")"
   ]
  },
  {
   "cell_type": "code",
   "execution_count": 34,
   "metadata": {
    "tags": []
   },
   "outputs": [],
   "source": [
    "TONE_TIMESTAMP_DF.to_pickle(os.path.join(OUTPUT_DIR, TONE_TIMESTAMPS_PKL))"
   ]
  },
  {
   "cell_type": "markdown",
   "metadata": {},
   "source": [
    "# Custom processing"
   ]
  },
  {
   "cell_type": "markdown",
   "metadata": {},
   "source": [
    "- NOTE: Rest of notebook is project specific processing of collected data. Run the cells below if the format is similar to original project. "
   ]
  },
  {
   "cell_type": "code",
   "execution_count": 35,
   "metadata": {},
   "outputs": [
    {
     "ename": "ValueError",
     "evalue": "",
     "output_type": "error",
     "traceback": [
      "\u001b[0;31m---------------------------------------------------------------------------\u001b[0m",
      "\u001b[0;31mValueError\u001b[0m                                Traceback (most recent call last)",
      "Cell \u001b[0;32mIn[35], line 1\u001b[0m\n\u001b[0;32m----> 1\u001b[0m \u001b[38;5;28;01mraise\u001b[39;00m \u001b[38;5;167;01mValueError\u001b[39;00m()\n",
      "\u001b[0;31mValueError\u001b[0m: "
     ]
    }
   ],
   "source": [
    "raise ValueError()"
   ]
  },
  {
   "cell_type": "markdown",
   "metadata": {},
   "source": [
    "- Getting all subject IDs for a given recording"
   ]
  },
  {
   "cell_type": "code",
   "execution_count": 36,
   "metadata": {
    "tags": []
   },
   "outputs": [],
   "source": [
    "TONE_TIMESTAMP_DF = TONE_TIMESTAMP_DF[TONE_TIMESTAMP_DF[RECORDING_DIR_COL].str.contains(\"2023\")].reset_index(drop=True)"
   ]
  },
  {
   "cell_type": "code",
   "execution_count": 37,
   "metadata": {
    "tags": []
   },
   "outputs": [],
   "source": [
    "# using different id extractions for different file formats\n",
    "TONE_TIMESTAMP_DF[ALL_SUBJECTS_COL] = TONE_TIMESTAMP_DF[RECORDING_DIR_COL].apply(lambda x: x if \"2023\" in x else \"subj\" + \"_\".join(x.split(\"_\")[-5:]))\n",
    "TONE_TIMESTAMP_DF[ALL_SUBJECTS_COL] = TONE_TIMESTAMP_DF[ALL_SUBJECTS_COL].apply(lambda x: tuple(sorted([num.strip(\"_\").replace(\"_\",\".\") for num in x.replace(\"-\", \"_\").split(\"subj\")[-1].strip(\"_\").split(\"and\")])))\n",
    "# TONE_TIMESTAMP_DF[ALL_SUBJECTS_COL] = TONE_TIMESTAMP_DF[ALL_SUBJECTS_COL].apply(lambda x: num.split(\"vs\") for num in x)\n"
   ]
  },
  {
   "cell_type": "code",
   "execution_count": 38,
   "metadata": {
    "scrolled": true,
    "tags": []
   },
   "outputs": [
    {
     "data": {
      "text/plain": [
       "array([('1.3', '1.4'), ('1.1', '1.2'), ('1.1', '1.4'), ('1.2', '1.4'),\n",
       "       ('1.1vs2.2', '1.2vs2.1')], dtype=object)"
      ]
     },
     "execution_count": 38,
     "metadata": {},
     "output_type": "execute_result"
    }
   ],
   "source": [
    "TONE_TIMESTAMP_DF[ALL_SUBJECTS_COL].unique()"
   ]
  },
  {
   "cell_type": "code",
   "execution_count": 39,
   "metadata": {
    "tags": []
   },
   "outputs": [],
   "source": [
    "TONE_TIMESTAMP_DF[CURRENT_SUBJECT_COL] = TONE_TIMESTAMP_DF[SUBJECT_INFO_COL].apply(lambda x: \".\".join(x.replace(\"-\",\"_\").split(\"_\")[:2])).astype(str)\n",
    "TONE_TIMESTAMP_DF[CURRENT_SUBJECT_COL] = TONE_TIMESTAMP_DF[CURRENT_SUBJECT_COL].apply(lambda x: x.split(\"vs\")[0]).astype(str)\n",
    "\n",
    "\n",
    "\n"
   ]
  },
  {
   "cell_type": "code",
   "execution_count": 40,
   "metadata": {
    "tags": []
   },
   "outputs": [
    {
     "data": {
      "text/plain": [
       "array(['1.3', '1.4', '1.2', '1.1'], dtype=object)"
      ]
     },
     "execution_count": 40,
     "metadata": {},
     "output_type": "execute_result"
    }
   ],
   "source": [
    "TONE_TIMESTAMP_DF[CURRENT_SUBJECT_COL].unique()"
   ]
  },
  {
   "cell_type": "markdown",
   "metadata": {},
   "source": [
    "- Converting the trial label to win or lose based on who won the trial"
   ]
  },
  {
   "cell_type": "code",
   "execution_count": 41,
   "metadata": {
    "tags": []
   },
   "outputs": [],
   "source": [
    "TONE_TIMESTAMP_DF[ORIGINAL_TRIAL_COL] = TONE_TIMESTAMP_DF[ORIGINAL_TRIAL_COL].astype(str)"
   ]
  },
  {
   "cell_type": "code",
   "execution_count": 42,
   "metadata": {
    "tags": []
   },
   "outputs": [],
   "source": [
    "TONE_TIMESTAMP_DF[CURRENT_SUBJECT_COL] = TONE_TIMESTAMP_DF[CURRENT_SUBJECT_COL].astype(str)"
   ]
  },
  {
   "cell_type": "code",
   "execution_count": 43,
   "metadata": {
    "tags": []
   },
   "outputs": [],
   "source": [
    "TONE_TIMESTAMP_DF[TRIAL_OUTCOME_COL] = TONE_TIMESTAMP_DF.apply(\n",
    "    lambda x: \"win\" if str(x[ORIGINAL_TRIAL_COL]).strip() == str(x[CURRENT_SUBJECT_COL]) \n",
    "             else (\"lose\" if str(x[ORIGINAL_TRIAL_COL]) in TONE_TIMESTAMP_DF[CURRENT_SUBJECT_COL].unique() \n",
    "                   else x[ORIGINAL_TRIAL_COL]), axis=1)"
   ]
  },
  {
   "cell_type": "code",
   "execution_count": 44,
   "metadata": {
    "tags": []
   },
   "outputs": [
    {
     "data": {
      "text/plain": [
       "array(['lose', 'win', 'rewarded', 'omission'], dtype=object)"
      ]
     },
     "execution_count": 44,
     "metadata": {},
     "output_type": "execute_result"
    }
   ],
   "source": [
    "TONE_TIMESTAMP_DF[TRIAL_OUTCOME_COL].unique()"
   ]
  },
  {
   "cell_type": "markdown",
   "metadata": {},
   "source": [
    "- Adding the competition closeness as a column"
   ]
  },
  {
   "cell_type": "code",
   "execution_count": 45,
   "metadata": {
    "tags": []
   },
   "outputs": [],
   "source": [
    "competition_closeness_map = {k: \"non_comp\" if \"only\" in str(k).lower() else \"comp\" if type(k) is str else np.nan for k in TONE_TIMESTAMP_DF[COMPETITION_CLOSENESS_COL].unique()}"
   ]
  },
  {
   "cell_type": "code",
   "execution_count": 46,
   "metadata": {
    "scrolled": true,
    "tags": []
   },
   "outputs": [
    {
     "data": {
      "text/plain": [
       "{'Subj 2 Only': 'non_comp',\n",
       " 'Subj 1 Only': 'non_comp',\n",
       " 'Subj 1 blocking Subj 2': 'comp',\n",
       " 'Subj 2 blocking Subj 1': 'comp',\n",
       " 'Subj 1 then Subj 2': 'comp',\n",
       " nan: nan,\n",
       " 'Subj 2 then Subj 1': 'comp',\n",
       " 'Close Call': 'comp'}"
      ]
     },
     "execution_count": 46,
     "metadata": {},
     "output_type": "execute_result"
    }
   ],
   "source": [
    "competition_closeness_map"
   ]
  },
  {
   "cell_type": "code",
   "execution_count": 47,
   "metadata": {
    "tags": []
   },
   "outputs": [],
   "source": [
    "TONE_TIMESTAMP_DF[COMPETITION_CLOSENESS_COL] = TONE_TIMESTAMP_DF[COMPETITION_CLOSENESS_COL].map(competition_closeness_map)"
   ]
  },
  {
   "cell_type": "code",
   "execution_count": 48,
   "metadata": {
    "tags": []
   },
   "outputs": [],
   "source": [
    "TONE_TIMESTAMP_DF[COMPETITION_CLOSENESS_COL] = TONE_TIMESTAMP_DF.apply(lambda x: \"_\".join([str(x[TRIAL_OUTCOME_COL]), str(x[COMPETITION_CLOSENESS_COL])]).strip(\"nan\").strip(\"_\"), axis=1)"
   ]
  },
  {
   "cell_type": "code",
   "execution_count": 49,
   "metadata": {
    "tags": []
   },
   "outputs": [
    {
     "data": {
      "text/plain": [
       "array(['lose_non_comp', 'win_non_comp', 'win_comp', 'lose_comp',\n",
       "       'rewarded', 'omission'], dtype=object)"
      ]
     },
     "execution_count": 49,
     "metadata": {},
     "output_type": "execute_result"
    }
   ],
   "source": [
    "TONE_TIMESTAMP_DF[COMPETITION_CLOSENESS_COL].unique()"
   ]
  },
  {
   "cell_type": "markdown",
   "metadata": {},
   "source": [
    "- Removing unnecessary columns"
   ]
  },
  {
   "cell_type": "code",
   "execution_count": 50,
   "metadata": {
    "tags": []
   },
   "outputs": [],
   "source": [
    "TONE_TIMESTAMP_DF = TONE_TIMESTAMP_DF.drop(columns=[STATE_COL, DIN_COL, ORIGINAL_TRIAL_COL], errors=\"ignore\")\n",
    "TONE_TIMESTAMP_DF = TONE_TIMESTAMP_DF.drop(columns=[col for col in TONE_TIMESTAMP_DF.columns if \"unnamed\" in col.lower()], errors=\"ignore\")"
   ]
  },
  {
   "cell_type": "code",
   "execution_count": 51,
   "metadata": {
    "tags": []
   },
   "outputs": [
    {
     "data": {
      "text/html": [
       "<div>\n",
       "<style scoped>\n",
       "    .dataframe tbody tr th:only-of-type {\n",
       "        vertical-align: middle;\n",
       "    }\n",
       "\n",
       "    .dataframe tbody tr th {\n",
       "        vertical-align: top;\n",
       "    }\n",
       "\n",
       "    .dataframe thead th {\n",
       "        text-align: right;\n",
       "    }\n",
       "</style>\n",
       "<table border=\"1\" class=\"dataframe\">\n",
       "  <thead>\n",
       "    <tr style=\"text-align: right;\">\n",
       "      <th></th>\n",
       "      <th>time</th>\n",
       "      <th>recording_dir</th>\n",
       "      <th>recording_file</th>\n",
       "      <th>time_stamp_index</th>\n",
       "      <th>video_file</th>\n",
       "      <th>video_frame</th>\n",
       "      <th>reward_frame</th>\n",
       "      <th>video_number</th>\n",
       "      <th>subject_info</th>\n",
       "      <th>lfp_index</th>\n",
       "      <th>video_name</th>\n",
       "      <th>baseline_lfp_index_range</th>\n",
       "      <th>trial_lfp_index_range</th>\n",
       "      <th>baseline_ephys_index_range</th>\n",
       "      <th>trial_ephys_index_range</th>\n",
       "      <th>baseline_videoframe_range</th>\n",
       "      <th>trial_videoframe_range</th>\n",
       "      <th>all_subjects</th>\n",
       "      <th>current_subject</th>\n",
       "      <th>trial_outcome</th>\n",
       "    </tr>\n",
       "    <tr>\n",
       "      <th>competition_closeness</th>\n",
       "      <th></th>\n",
       "      <th></th>\n",
       "      <th></th>\n",
       "      <th></th>\n",
       "      <th></th>\n",
       "      <th></th>\n",
       "      <th></th>\n",
       "      <th></th>\n",
       "      <th></th>\n",
       "      <th></th>\n",
       "      <th></th>\n",
       "      <th></th>\n",
       "      <th></th>\n",
       "      <th></th>\n",
       "      <th></th>\n",
       "      <th></th>\n",
       "      <th></th>\n",
       "      <th></th>\n",
       "      <th></th>\n",
       "      <th></th>\n",
       "    </tr>\n",
       "  </thead>\n",
       "  <tbody>\n",
       "    <tr>\n",
       "      <th>lose_comp</th>\n",
       "      <td>168</td>\n",
       "      <td>168</td>\n",
       "      <td>168</td>\n",
       "      <td>168</td>\n",
       "      <td>168</td>\n",
       "      <td>168</td>\n",
       "      <td>168</td>\n",
       "      <td>168</td>\n",
       "      <td>168</td>\n",
       "      <td>168</td>\n",
       "      <td>168</td>\n",
       "      <td>168</td>\n",
       "      <td>168</td>\n",
       "      <td>168</td>\n",
       "      <td>168</td>\n",
       "      <td>168</td>\n",
       "      <td>168</td>\n",
       "      <td>168</td>\n",
       "      <td>168</td>\n",
       "      <td>168</td>\n",
       "    </tr>\n",
       "    <tr>\n",
       "      <th>lose_non_comp</th>\n",
       "      <td>106</td>\n",
       "      <td>106</td>\n",
       "      <td>106</td>\n",
       "      <td>106</td>\n",
       "      <td>106</td>\n",
       "      <td>106</td>\n",
       "      <td>106</td>\n",
       "      <td>106</td>\n",
       "      <td>106</td>\n",
       "      <td>106</td>\n",
       "      <td>106</td>\n",
       "      <td>106</td>\n",
       "      <td>106</td>\n",
       "      <td>106</td>\n",
       "      <td>106</td>\n",
       "      <td>106</td>\n",
       "      <td>106</td>\n",
       "      <td>106</td>\n",
       "      <td>106</td>\n",
       "      <td>106</td>\n",
       "    </tr>\n",
       "    <tr>\n",
       "      <th>omission</th>\n",
       "      <td>36</td>\n",
       "      <td>36</td>\n",
       "      <td>36</td>\n",
       "      <td>36</td>\n",
       "      <td>36</td>\n",
       "      <td>36</td>\n",
       "      <td>36</td>\n",
       "      <td>36</td>\n",
       "      <td>36</td>\n",
       "      <td>36</td>\n",
       "      <td>36</td>\n",
       "      <td>36</td>\n",
       "      <td>36</td>\n",
       "      <td>36</td>\n",
       "      <td>36</td>\n",
       "      <td>36</td>\n",
       "      <td>36</td>\n",
       "      <td>36</td>\n",
       "      <td>36</td>\n",
       "      <td>36</td>\n",
       "    </tr>\n",
       "    <tr>\n",
       "      <th>rewarded</th>\n",
       "      <td>246</td>\n",
       "      <td>246</td>\n",
       "      <td>246</td>\n",
       "      <td>246</td>\n",
       "      <td>246</td>\n",
       "      <td>246</td>\n",
       "      <td>246</td>\n",
       "      <td>246</td>\n",
       "      <td>246</td>\n",
       "      <td>246</td>\n",
       "      <td>246</td>\n",
       "      <td>246</td>\n",
       "      <td>246</td>\n",
       "      <td>246</td>\n",
       "      <td>246</td>\n",
       "      <td>246</td>\n",
       "      <td>246</td>\n",
       "      <td>246</td>\n",
       "      <td>246</td>\n",
       "      <td>246</td>\n",
       "    </tr>\n",
       "    <tr>\n",
       "      <th>win_comp</th>\n",
       "      <td>110</td>\n",
       "      <td>110</td>\n",
       "      <td>110</td>\n",
       "      <td>110</td>\n",
       "      <td>110</td>\n",
       "      <td>110</td>\n",
       "      <td>110</td>\n",
       "      <td>110</td>\n",
       "      <td>110</td>\n",
       "      <td>110</td>\n",
       "      <td>110</td>\n",
       "      <td>110</td>\n",
       "      <td>110</td>\n",
       "      <td>110</td>\n",
       "      <td>110</td>\n",
       "      <td>110</td>\n",
       "      <td>110</td>\n",
       "      <td>110</td>\n",
       "      <td>110</td>\n",
       "      <td>110</td>\n",
       "    </tr>\n",
       "    <tr>\n",
       "      <th>win_non_comp</th>\n",
       "      <td>104</td>\n",
       "      <td>104</td>\n",
       "      <td>104</td>\n",
       "      <td>104</td>\n",
       "      <td>104</td>\n",
       "      <td>104</td>\n",
       "      <td>104</td>\n",
       "      <td>104</td>\n",
       "      <td>104</td>\n",
       "      <td>104</td>\n",
       "      <td>104</td>\n",
       "      <td>104</td>\n",
       "      <td>104</td>\n",
       "      <td>104</td>\n",
       "      <td>104</td>\n",
       "      <td>104</td>\n",
       "      <td>104</td>\n",
       "      <td>104</td>\n",
       "      <td>104</td>\n",
       "      <td>104</td>\n",
       "    </tr>\n",
       "  </tbody>\n",
       "</table>\n",
       "</div>"
      ],
      "text/plain": [
       "                       time  recording_dir  recording_file  time_stamp_index  \\\n",
       "competition_closeness                                                          \n",
       "lose_comp               168            168             168               168   \n",
       "lose_non_comp           106            106             106               106   \n",
       "omission                 36             36              36                36   \n",
       "rewarded                246            246             246               246   \n",
       "win_comp                110            110             110               110   \n",
       "win_non_comp            104            104             104               104   \n",
       "\n",
       "                       video_file  video_frame  reward_frame  video_number  \\\n",
       "competition_closeness                                                        \n",
       "lose_comp                     168          168           168           168   \n",
       "lose_non_comp                 106          106           106           106   \n",
       "omission                       36           36            36            36   \n",
       "rewarded                      246          246           246           246   \n",
       "win_comp                      110          110           110           110   \n",
       "win_non_comp                  104          104           104           104   \n",
       "\n",
       "                       subject_info  lfp_index  video_name  \\\n",
       "competition_closeness                                        \n",
       "lose_comp                       168        168         168   \n",
       "lose_non_comp                   106        106         106   \n",
       "omission                         36         36          36   \n",
       "rewarded                        246        246         246   \n",
       "win_comp                        110        110         110   \n",
       "win_non_comp                    104        104         104   \n",
       "\n",
       "                       baseline_lfp_index_range  trial_lfp_index_range  \\\n",
       "competition_closeness                                                    \n",
       "lose_comp                                   168                    168   \n",
       "lose_non_comp                               106                    106   \n",
       "omission                                     36                     36   \n",
       "rewarded                                    246                    246   \n",
       "win_comp                                    110                    110   \n",
       "win_non_comp                                104                    104   \n",
       "\n",
       "                       baseline_ephys_index_range  trial_ephys_index_range  \\\n",
       "competition_closeness                                                        \n",
       "lose_comp                                     168                      168   \n",
       "lose_non_comp                                 106                      106   \n",
       "omission                                       36                       36   \n",
       "rewarded                                      246                      246   \n",
       "win_comp                                      110                      110   \n",
       "win_non_comp                                  104                      104   \n",
       "\n",
       "                       baseline_videoframe_range  trial_videoframe_range  \\\n",
       "competition_closeness                                                      \n",
       "lose_comp                                    168                     168   \n",
       "lose_non_comp                                106                     106   \n",
       "omission                                      36                      36   \n",
       "rewarded                                     246                     246   \n",
       "win_comp                                     110                     110   \n",
       "win_non_comp                                 104                     104   \n",
       "\n",
       "                       all_subjects  current_subject  trial_outcome  \n",
       "competition_closeness                                                \n",
       "lose_comp                       168              168            168  \n",
       "lose_non_comp                   106              106            106  \n",
       "omission                         36               36             36  \n",
       "rewarded                        246              246            246  \n",
       "win_comp                        110              110            110  \n",
       "win_non_comp                    104              104            104  "
      ]
     },
     "execution_count": 51,
     "metadata": {},
     "output_type": "execute_result"
    }
   ],
   "source": [
    "TONE_TIMESTAMP_DF.groupby([COMPETITION_CLOSENESS_COL]).count()"
   ]
  },
  {
   "cell_type": "code",
   "execution_count": 52,
   "metadata": {
    "scrolled": true,
    "tags": []
   },
   "outputs": [
    {
     "data": {
      "text/html": [
       "<div>\n",
       "<style scoped>\n",
       "    .dataframe tbody tr th:only-of-type {\n",
       "        vertical-align: middle;\n",
       "    }\n",
       "\n",
       "    .dataframe tbody tr th {\n",
       "        vertical-align: top;\n",
       "    }\n",
       "\n",
       "    .dataframe thead th {\n",
       "        text-align: right;\n",
       "    }\n",
       "</style>\n",
       "<table border=\"1\" class=\"dataframe\">\n",
       "  <thead>\n",
       "    <tr style=\"text-align: right;\">\n",
       "      <th></th>\n",
       "      <th>time</th>\n",
       "      <th>recording_dir</th>\n",
       "      <th>recording_file</th>\n",
       "      <th>time_stamp_index</th>\n",
       "      <th>video_file</th>\n",
       "      <th>video_frame</th>\n",
       "      <th>reward_frame</th>\n",
       "      <th>video_number</th>\n",
       "      <th>subject_info</th>\n",
       "      <th>competition_closeness</th>\n",
       "      <th>...</th>\n",
       "      <th>video_name</th>\n",
       "      <th>baseline_lfp_index_range</th>\n",
       "      <th>trial_lfp_index_range</th>\n",
       "      <th>baseline_ephys_index_range</th>\n",
       "      <th>trial_ephys_index_range</th>\n",
       "      <th>baseline_videoframe_range</th>\n",
       "      <th>trial_videoframe_range</th>\n",
       "      <th>all_subjects</th>\n",
       "      <th>current_subject</th>\n",
       "      <th>trial_outcome</th>\n",
       "    </tr>\n",
       "  </thead>\n",
       "  <tbody>\n",
       "    <tr>\n",
       "      <th>0</th>\n",
       "      <td>9781115</td>\n",
       "      <td>20230612_101430_standard_comp_to_training_D1_s...</td>\n",
       "      <td>20230612_101430_standard_comp_to_training_D1_s...</td>\n",
       "      <td>982229</td>\n",
       "      <td>20230612_101430_standard_comp_to_training_D1_s...</td>\n",
       "      <td>980</td>\n",
       "      <td>1060.0</td>\n",
       "      <td>1.0</td>\n",
       "      <td>1-3_t3b3L_box2</td>\n",
       "      <td>lose_non_comp</td>\n",
       "      <td>...</td>\n",
       "      <td>20230612_101430_standard_comp_to_training_D1_s...</td>\n",
       "      <td>(39111, 49111)</td>\n",
       "      <td>(49111, 59111)</td>\n",
       "      <td>(782229, 982229)</td>\n",
       "      <td>(982229, 1182229)</td>\n",
       "      <td>(760, 980)</td>\n",
       "      <td>(980, 1200)</td>\n",
       "      <td>(1.3, 1.4)</td>\n",
       "      <td>1.3</td>\n",
       "      <td>lose</td>\n",
       "    </tr>\n",
       "    <tr>\n",
       "      <th>1</th>\n",
       "      <td>12181113</td>\n",
       "      <td>20230612_101430_standard_comp_to_training_D1_s...</td>\n",
       "      <td>20230612_101430_standard_comp_to_training_D1_s...</td>\n",
       "      <td>3382227</td>\n",
       "      <td>20230612_101430_standard_comp_to_training_D1_s...</td>\n",
       "      <td>3376</td>\n",
       "      <td>3456.0</td>\n",
       "      <td>1.0</td>\n",
       "      <td>1-3_t3b3L_box2</td>\n",
       "      <td>win_non_comp</td>\n",
       "      <td>...</td>\n",
       "      <td>20230612_101430_standard_comp_to_training_D1_s...</td>\n",
       "      <td>(159111, 169111)</td>\n",
       "      <td>(169111, 179111)</td>\n",
       "      <td>(3182227, 3382227)</td>\n",
       "      <td>(3382227, 3582227)</td>\n",
       "      <td>(3156, 3376)</td>\n",
       "      <td>(3376, 3596)</td>\n",
       "      <td>(1.3, 1.4)</td>\n",
       "      <td>1.3</td>\n",
       "      <td>win</td>\n",
       "    </tr>\n",
       "    <tr>\n",
       "      <th>2</th>\n",
       "      <td>14481111</td>\n",
       "      <td>20230612_101430_standard_comp_to_training_D1_s...</td>\n",
       "      <td>20230612_101430_standard_comp_to_training_D1_s...</td>\n",
       "      <td>5682225</td>\n",
       "      <td>20230612_101430_standard_comp_to_training_D1_s...</td>\n",
       "      <td>5671</td>\n",
       "      <td>5751.0</td>\n",
       "      <td>1.0</td>\n",
       "      <td>1-3_t3b3L_box2</td>\n",
       "      <td>lose_non_comp</td>\n",
       "      <td>...</td>\n",
       "      <td>20230612_101430_standard_comp_to_training_D1_s...</td>\n",
       "      <td>(274111, 284111)</td>\n",
       "      <td>(284111, 294111)</td>\n",
       "      <td>(5482225, 5682225)</td>\n",
       "      <td>(5682225, 5882225)</td>\n",
       "      <td>(5451, 5671)</td>\n",
       "      <td>(5671, 5891)</td>\n",
       "      <td>(1.3, 1.4)</td>\n",
       "      <td>1.3</td>\n",
       "      <td>lose</td>\n",
       "    </tr>\n",
       "    <tr>\n",
       "      <th>3</th>\n",
       "      <td>16281110</td>\n",
       "      <td>20230612_101430_standard_comp_to_training_D1_s...</td>\n",
       "      <td>20230612_101430_standard_comp_to_training_D1_s...</td>\n",
       "      <td>7482224</td>\n",
       "      <td>20230612_101430_standard_comp_to_training_D1_s...</td>\n",
       "      <td>7468</td>\n",
       "      <td>7548.0</td>\n",
       "      <td>1.0</td>\n",
       "      <td>1-3_t3b3L_box2</td>\n",
       "      <td>lose_non_comp</td>\n",
       "      <td>...</td>\n",
       "      <td>20230612_101430_standard_comp_to_training_D1_s...</td>\n",
       "      <td>(364111, 374111)</td>\n",
       "      <td>(374111, 384111)</td>\n",
       "      <td>(7282224, 7482224)</td>\n",
       "      <td>(7482224, 7682224)</td>\n",
       "      <td>(7248, 7468)</td>\n",
       "      <td>(7468, 7688)</td>\n",
       "      <td>(1.3, 1.4)</td>\n",
       "      <td>1.3</td>\n",
       "      <td>lose</td>\n",
       "    </tr>\n",
       "    <tr>\n",
       "      <th>4</th>\n",
       "      <td>17381106</td>\n",
       "      <td>20230612_101430_standard_comp_to_training_D1_s...</td>\n",
       "      <td>20230612_101430_standard_comp_to_training_D1_s...</td>\n",
       "      <td>8582220</td>\n",
       "      <td>20230612_101430_standard_comp_to_training_D1_s...</td>\n",
       "      <td>8566</td>\n",
       "      <td>8646.0</td>\n",
       "      <td>1.0</td>\n",
       "      <td>1-3_t3b3L_box2</td>\n",
       "      <td>lose_non_comp</td>\n",
       "      <td>...</td>\n",
       "      <td>20230612_101430_standard_comp_to_training_D1_s...</td>\n",
       "      <td>(419111, 429111)</td>\n",
       "      <td>(429111, 439111)</td>\n",
       "      <td>(8382220, 8582220)</td>\n",
       "      <td>(8582220, 8782220)</td>\n",
       "      <td>(8346, 8566)</td>\n",
       "      <td>(8566, 8786)</td>\n",
       "      <td>(1.3, 1.4)</td>\n",
       "      <td>1.3</td>\n",
       "      <td>lose</td>\n",
       "    </tr>\n",
       "  </tbody>\n",
       "</table>\n",
       "<p>5 rows × 21 columns</p>\n",
       "</div>"
      ],
      "text/plain": [
       "       time                                      recording_dir  \\\n",
       "0   9781115  20230612_101430_standard_comp_to_training_D1_s...   \n",
       "1  12181113  20230612_101430_standard_comp_to_training_D1_s...   \n",
       "2  14481111  20230612_101430_standard_comp_to_training_D1_s...   \n",
       "3  16281110  20230612_101430_standard_comp_to_training_D1_s...   \n",
       "4  17381106  20230612_101430_standard_comp_to_training_D1_s...   \n",
       "\n",
       "                                      recording_file  time_stamp_index  \\\n",
       "0  20230612_101430_standard_comp_to_training_D1_s...            982229   \n",
       "1  20230612_101430_standard_comp_to_training_D1_s...           3382227   \n",
       "2  20230612_101430_standard_comp_to_training_D1_s...           5682225   \n",
       "3  20230612_101430_standard_comp_to_training_D1_s...           7482224   \n",
       "4  20230612_101430_standard_comp_to_training_D1_s...           8582220   \n",
       "\n",
       "                                          video_file  video_frame  \\\n",
       "0  20230612_101430_standard_comp_to_training_D1_s...          980   \n",
       "1  20230612_101430_standard_comp_to_training_D1_s...         3376   \n",
       "2  20230612_101430_standard_comp_to_training_D1_s...         5671   \n",
       "3  20230612_101430_standard_comp_to_training_D1_s...         7468   \n",
       "4  20230612_101430_standard_comp_to_training_D1_s...         8566   \n",
       "\n",
       "   reward_frame  video_number    subject_info competition_closeness  ...  \\\n",
       "0        1060.0           1.0  1-3_t3b3L_box2         lose_non_comp  ...   \n",
       "1        3456.0           1.0  1-3_t3b3L_box2          win_non_comp  ...   \n",
       "2        5751.0           1.0  1-3_t3b3L_box2         lose_non_comp  ...   \n",
       "3        7548.0           1.0  1-3_t3b3L_box2         lose_non_comp  ...   \n",
       "4        8646.0           1.0  1-3_t3b3L_box2         lose_non_comp  ...   \n",
       "\n",
       "                                          video_name baseline_lfp_index_range  \\\n",
       "0  20230612_101430_standard_comp_to_training_D1_s...           (39111, 49111)   \n",
       "1  20230612_101430_standard_comp_to_training_D1_s...         (159111, 169111)   \n",
       "2  20230612_101430_standard_comp_to_training_D1_s...         (274111, 284111)   \n",
       "3  20230612_101430_standard_comp_to_training_D1_s...         (364111, 374111)   \n",
       "4  20230612_101430_standard_comp_to_training_D1_s...         (419111, 429111)   \n",
       "\n",
       "  trial_lfp_index_range baseline_ephys_index_range trial_ephys_index_range  \\\n",
       "0        (49111, 59111)           (782229, 982229)       (982229, 1182229)   \n",
       "1      (169111, 179111)         (3182227, 3382227)      (3382227, 3582227)   \n",
       "2      (284111, 294111)         (5482225, 5682225)      (5682225, 5882225)   \n",
       "3      (374111, 384111)         (7282224, 7482224)      (7482224, 7682224)   \n",
       "4      (429111, 439111)         (8382220, 8582220)      (8582220, 8782220)   \n",
       "\n",
       "  baseline_videoframe_range trial_videoframe_range all_subjects  \\\n",
       "0                (760, 980)            (980, 1200)   (1.3, 1.4)   \n",
       "1              (3156, 3376)           (3376, 3596)   (1.3, 1.4)   \n",
       "2              (5451, 5671)           (5671, 5891)   (1.3, 1.4)   \n",
       "3              (7248, 7468)           (7468, 7688)   (1.3, 1.4)   \n",
       "4              (8346, 8566)           (8566, 8786)   (1.3, 1.4)   \n",
       "\n",
       "  current_subject trial_outcome  \n",
       "0             1.3          lose  \n",
       "1             1.3           win  \n",
       "2             1.3          lose  \n",
       "3             1.3          lose  \n",
       "4             1.3          lose  \n",
       "\n",
       "[5 rows x 21 columns]"
      ]
     },
     "execution_count": 52,
     "metadata": {},
     "output_type": "execute_result"
    }
   ],
   "source": [
    "TONE_TIMESTAMP_DF.head()"
   ]
  },
  {
   "cell_type": "code",
   "execution_count": 53,
   "metadata": {
    "tags": []
   },
   "outputs": [],
   "source": [
    "TONE_TIMESTAMP_DF.to_csv(os.path.join(OUTPUT_DIR, TONE_TIMESTAMPS_CSV))\n",
    "TONE_TIMESTAMP_DF.to_pickle(os.path.join(OUTPUT_DIR, TONE_TIMESTAMPS_PKL))"
   ]
  },
  {
   "cell_type": "code",
   "execution_count": null,
   "metadata": {},
   "outputs": [],
   "source": []
  }
 ],
 "metadata": {
  "deepnote": {},
  "deepnote_execution_queue": [],
  "deepnote_notebook_id": "cf8fe3695d074ee7887fdf6459cbf5ce",
  "kernelspec": {
   "display_name": "spike_interface_0_99_0",
   "language": "python",
   "name": "spike_interface_0_99_0"
  },
  "language_info": {
   "codemirror_mode": {
    "name": "ipython",
    "version": 3
   },
   "file_extension": ".py",
   "mimetype": "text/x-python",
   "name": "python",
   "nbconvert_exporter": "python",
   "pygments_lexer": "ipython3",
   "version": "3.10.13"
  }
 },
 "nbformat": 4,
 "nbformat_minor": 4
}
